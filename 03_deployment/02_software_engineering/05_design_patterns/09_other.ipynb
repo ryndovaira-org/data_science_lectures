{
 "cells": [
  {
   "cell_type": "markdown",
   "id": "3f24f3a0-7cbd-460f-bb82-9b34342506e4",
   "metadata": {},
   "source": [
    "# Blackboard"
   ]
  },
  {
   "cell_type": "markdown",
   "id": "52e6b471-487c-4314-957c-4becc33e41d2",
   "metadata": {},
   "source": [
    "# Business delegate"
   ]
  },
  {
   "cell_type": "markdown",
   "id": "dda48bd5-50cc-487b-ae37-08054ca3a92a",
   "metadata": {},
   "source": [
    "# Composite entity"
   ]
  },
  {
   "cell_type": "markdown",
   "id": "1afe8810-ce06-4235-b1f5-c85e994745fe",
   "metadata": {},
   "source": [
    "# Dependency injection"
   ]
  },
  {
   "cell_type": "markdown",
   "id": "059f1e57-0257-499e-ae36-4818741c7684",
   "metadata": {},
   "source": [
    "# Intercepting filter"
   ]
  },
  {
   "cell_type": "markdown",
   "id": "5e86d351-43e0-424d-81a2-c357a41595f3",
   "metadata": {},
   "source": [
    "# Lazy loading"
   ]
  },
  {
   "cell_type": "markdown",
   "id": "c1cdde04-b761-44bc-b511-c1005fc24871",
   "metadata": {},
   "source": [
    "# Mock object"
   ]
  },
  {
   "cell_type": "markdown",
   "id": "5ffc7e02-a500-4c93-abeb-3774d8d40170",
   "metadata": {},
   "source": [
    "# Null object"
   ]
  },
  {
   "cell_type": "markdown",
   "id": "836a6758-594f-4e5d-81cd-dda8492fe46e",
   "metadata": {},
   "source": [
    "# Object pool"
   ]
  },
  {
   "cell_type": "markdown",
   "id": "a3f9f43d-af50-43ea-9b5a-f77ec2443e6f",
   "metadata": {},
   "source": [
    "# Servant"
   ]
  },
  {
   "cell_type": "markdown",
   "id": "80573b30-1d48-4115-a57c-6efcb6e7d8e2",
   "metadata": {},
   "source": [
    "# Twin"
   ]
  },
  {
   "cell_type": "markdown",
   "id": "352577ff-6ca7-4e5b-a837-b0c9ea1f725f",
   "metadata": {},
   "source": [
    "# Type tunnel"
   ]
  },
  {
   "cell_type": "markdown",
   "id": "3285b59d-1f1b-42b8-b3c3-6c880a2c37c7",
   "metadata": {},
   "source": [
    "# Method chaining"
   ]
  },
  {
   "cell_type": "markdown",
   "id": "f9ac0f68-302c-4dbd-a2c6-a9a0dd3979ef",
   "metadata": {},
   "source": [
    "# Delegation"
   ]
  },
  {
   "cell_type": "code",
   "execution_count": null,
   "id": "db3b2306-e2fe-4393-aa24-edf0fbd7a0b9",
   "metadata": {},
   "outputs": [],
   "source": []
  },
  {
   "cell_type": "markdown",
   "id": "273025a6-be26-41e7-b92d-f91b2837e85a",
   "metadata": {},
   "source": [
    "# References\n",
    "\n",
    "[]()\n",
    "\n",
    "[]()\n",
    "\n",
    "[]()\n",
    "\n",
    "[]()\n",
    "\n",
    "[]()\n",
    "\n",
    "[]()"
   ]
  }
 ],
 "metadata": {
  "kernelspec": {
   "display_name": "Python [conda env:data-science-course] *",
   "language": "python",
   "name": "conda-env-data-science-course-py"
  },
  "language_info": {
   "codemirror_mode": {
    "name": "ipython",
    "version": 3
   },
   "file_extension": ".py",
   "mimetype": "text/x-python",
   "name": "python",
   "nbconvert_exporter": "python",
   "pygments_lexer": "ipython3",
   "version": "3.10.9"
  }
 },
 "nbformat": 4,
 "nbformat_minor": 5
}
