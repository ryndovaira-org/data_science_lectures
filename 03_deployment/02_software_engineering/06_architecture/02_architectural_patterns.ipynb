{
 "cells": [
  {
   "cell_type": "markdown",
   "id": "3f24f3a0-7cbd-460f-bb82-9b34342506e4",
   "metadata": {},
   "source": [
    "# Architectural patterns"
   ]
  },
  {
   "cell_type": "markdown",
   "id": "6f6a783e-266b-44ae-824a-cfcbbc3cdbc2",
   "metadata": {},
   "source": [
    "## Monolithic application"
   ]
  },
  {
   "cell_type": "markdown",
   "id": "5890be64-b6e5-4b9f-a335-dbe9ffee7052",
   "metadata": {},
   "source": [
    "## Microservices"
   ]
  },
  {
   "cell_type": "markdown",
   "id": "bc7e7fa9-7c04-4647-9033-035d40d0dcb7",
   "metadata": {},
   "source": [
    "## gRPC"
   ]
  },
  {
   "cell_type": "markdown",
   "id": "a17571b5-7054-4a64-b1a7-5d46f818137c",
   "metadata": {},
   "source": [
    "## Representational state transfer (REST)"
   ]
  },
  {
   "cell_type": "markdown",
   "id": "8f661842-c9c6-4683-8bd7-d1ec3bbc2bd9",
   "metadata": {},
   "source": [
    "## Client–server model"
   ]
  },
  {
   "cell_type": "markdown",
   "id": "273025a6-be26-41e7-b92d-f91b2837e85a",
   "metadata": {},
   "source": [
    "# References\n",
    "\n",
    "[Architectural pattern](https://en.wikipedia.org/wiki/Architectural_pattern)\n",
    "\n",
    "[Monolithic application](https://en.wikipedia.org/wiki/Monolithic_application)\n",
    "\n",
    "[Microservices](https://en.wikipedia.org/wiki/Microservices)\n",
    "\n",
    "[gRPC](https://en.wikipedia.org/wiki/GRPC)\n",
    "\n",
    "[Representational state transfer](https://en.wikipedia.org/wiki/Representational_state_transfer)\n",
    "\n",
    "[Client–server model](https://en.wikipedia.org/wiki/Client%E2%80%93server_model)"
   ]
  }
 ],
 "metadata": {
  "kernelspec": {
   "display_name": "Python [conda env:data-science-course] *",
   "language": "python",
   "name": "conda-env-data-science-course-py"
  },
  "language_info": {
   "codemirror_mode": {
    "name": "ipython",
    "version": 3
   },
   "file_extension": ".py",
   "mimetype": "text/x-python",
   "name": "python",
   "nbconvert_exporter": "python",
   "pygments_lexer": "ipython3",
   "version": "3.10.9"
  }
 },
 "nbformat": 4,
 "nbformat_minor": 5
}
