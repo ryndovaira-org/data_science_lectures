{
 "cells": [
  {
   "cell_type": "markdown",
   "metadata": {
    "jupyter": {
     "outputs_hidden": true
    }
   },
   "source": [
    "# Ключевое слово `yield`"
   ]
  },
  {
   "cell_type": "markdown",
   "metadata": {},
   "source": [
    "## Генератор коллекции"
   ]
  },
  {
   "cell_type": "code",
   "execution_count": 1,
   "metadata": {},
   "outputs": [
    {
     "data": {
      "text/plain": [
       "<generator object <genexpr> at 0x000001FAFF9AEDC0>"
      ]
     },
     "execution_count": 1,
     "metadata": {},
     "output_type": "execute_result"
    }
   ],
   "source": [
    "# Создание генератора\n",
    "squared_gen = (x**2 for x in range(5))\n",
    "\n",
    "squared_gen"
   ]
  },
  {
   "cell_type": "code",
   "execution_count": 2,
   "metadata": {},
   "outputs": [
    {
     "name": "stdout",
     "output_type": "stream",
     "text": [
      "0\n",
      "1\n",
      "4\n",
      "9\n",
      "16\n"
     ]
    }
   ],
   "source": [
    "for number in squared_gen:  \n",
    "    print(number)"
   ]
  },
  {
   "cell_type": "markdown",
   "metadata": {},
   "source": [
    "Comprehension'ы хранят все элементы в памяти сразу, тогда как генераторы создают каждый элемент на лету, отображая их, а затем перемещаются к следующему элементу, удаляя предыдущий элемент из памяти.\n",
    "\n",
    "Генератор можно перебирать только один раз."
   ]
  },
  {
   "cell_type": "markdown",
   "metadata": {},
   "source": [
    "## Генератор-функция"
   ]
  },
  {
   "cell_type": "markdown",
   "metadata": {},
   "source": [
    "Ключевое слово `yield`, в отличие от оператора `return`, используется для превращения обычной функции Python в генератор. "
   ]
  },
  {
   "cell_type": "code",
   "execution_count": 3,
   "metadata": {},
   "outputs": [],
   "source": [
    "def cube_numbers_with_return(nums):  \n",
    "    cube_list = []\n",
    "    for i in nums:\n",
    "        cube_list.append(i**3)\n",
    "    return cube_list\n",
    "\n",
    "cubes_with_return = cube_numbers_with_return([1, 2, 3, 4, 5])"
   ]
  },
  {
   "cell_type": "markdown",
   "metadata": {},
   "source": [
    "Создается функция `cube_numbers_with_return`, которая принимает список чисел, вычисляет их куб и возвращает вызывающему объекту список целиком. \n",
    "\n",
    "При вызове этой функции список кубов возвращается и сохраняется в переменную `cubes_with_return`.\n",
    "\n",
    "Как видно из вывода, возвращаемые данные – это список целиком:"
   ]
  },
  {
   "cell_type": "code",
   "execution_count": 4,
   "metadata": {},
   "outputs": [
    {
     "data": {
      "text/plain": [
       "[1, 8, 27, 64, 125]"
      ]
     },
     "execution_count": 4,
     "metadata": {},
     "output_type": "execute_result"
    }
   ],
   "source": [
    "cubes_with_return"
   ]
  },
  {
   "cell_type": "code",
   "execution_count": 5,
   "metadata": {},
   "outputs": [],
   "source": [
    "def cube_numbers_with_yield(nums):  \n",
    "    for i in nums:\n",
    "        yield(i**3)\n",
    "\n",
    "cubes_with_yield = cube_numbers_with_yield([1, 2, 3, 4, 5])"
   ]
  },
  {
   "cell_type": "markdown",
   "metadata": {},
   "source": [
    "В приведенном выше скрипте функция `cube_numbers_with_yield` возвращает генератор вместо списка кубов чисел.\n",
    "\n",
    "Теперь функция `cube_number_with_yield` возвращает генератор:"
   ]
  },
  {
   "cell_type": "code",
   "execution_count": 6,
   "metadata": {},
   "outputs": [
    {
     "data": {
      "text/plain": [
       "<generator object cube_numbers_with_yield at 0x000001FAFF9AF370>"
      ]
     },
     "execution_count": 6,
     "metadata": {},
     "output_type": "execute_result"
    }
   ],
   "source": [
    "cubes_with_yield"
   ]
  },
  {
   "cell_type": "code",
   "execution_count": 7,
   "metadata": {},
   "outputs": [
    {
     "data": {
      "text/plain": [
       "1"
      ]
     },
     "execution_count": 7,
     "metadata": {},
     "output_type": "execute_result"
    }
   ],
   "source": [
    "# получить следующее значение из генератора\n",
    "next(cubes_with_yield)"
   ]
  },
  {
   "cell_type": "markdown",
   "metadata": {},
   "source": [
    "Когда снова вызывается `next`, функция `cubes_with_yield` возобновит выполнение с того места, где она ранее остановилась на `yield`.\n",
    "\n",
    "Функция будет продолжать выполняться до тех пор, пока снова не найдет `yield`."
   ]
  },
  {
   "cell_type": "code",
   "execution_count": 8,
   "metadata": {},
   "outputs": [
    {
     "data": {
      "text/plain": [
       "8"
      ]
     },
     "execution_count": 8,
     "metadata": {},
     "output_type": "execute_result"
    }
   ],
   "source": [
    "# получить следующее значение из генератора\n",
    "next(cubes_with_yield)"
   ]
  },
  {
   "cell_type": "markdown",
   "metadata": {},
   "source": [
    "Вместо того, чтобы использовать `next`, можно также использовать цикл `for` для перебора значений генераторов.\n",
    "\n",
    "При использовании цикла `for` за кулисами вызывается `next`, пока не будут возвращены все элементы генератора."
   ]
  },
  {
   "cell_type": "code",
   "execution_count": 9,
   "metadata": {},
   "outputs": [
    {
     "name": "stdout",
     "output_type": "stream",
     "text": [
      "27\n",
      "64\n",
      "125\n"
     ]
    }
   ],
   "source": [
    "for elem in cubes_with_yield:\n",
    "    print(elem)"
   ]
  },
  {
   "cell_type": "markdown",
   "metadata": {},
   "source": [
    "### Оптимизация потребления памяти с помощью `yield`\n",
    "\n",
    "Генераторы очень удобны, когда дело доходит до **задач, расходующих память**, так как они не хранят все элементы коллекции в памяти, а генерируют элементы на лету и удаляют их, как только итератор переходит к следующему элементу."
   ]
  },
  {
   "cell_type": "code",
   "execution_count": 10,
   "metadata": {},
   "outputs": [
    {
     "name": "stdout",
     "output_type": "stream",
     "text": [
      "Requirement already satisfied: psutil in c:\\users\\mi\\.conda\\envs\\data_science_notes\\lib\\site-packages (5.9.0)\n"
     ]
    }
   ],
   "source": [
    "!pip install psutil"
   ]
  },
  {
   "cell_type": "code",
   "execution_count": 11,
   "metadata": {},
   "outputs": [],
   "source": [
    "%reset -f"
   ]
  },
  {
   "cell_type": "code",
   "execution_count": 12,
   "metadata": {},
   "outputs": [
    {
     "name": "stdout",
     "output_type": "stream",
     "text": [
      "Memory before list is created: 64.32768\n",
      "Memory after list is created: 347.0336\n",
      "Took 1.5700814723968506 seconds\n"
     ]
    }
   ],
   "source": [
    "import time  \n",
    "import random  \n",
    "import os  \n",
    "import psutil\n",
    "\n",
    "car_names = ['Audi', 'Toyota', 'Renault', 'Nissan', 'Honda', 'Suzuki']  \n",
    "colors = ['Black', 'Blue', 'Red', 'White', 'Yellow']\n",
    "\n",
    "def car_list(cars):  \n",
    "    all_cars = []\n",
    "    for i in range (cars):\n",
    "        car = {\n",
    "            'id': i,\n",
    "            'name': random.choice(car_names),\n",
    "            'color': random.choice(colors)\n",
    "        }\n",
    "        all_cars.append(car)\n",
    "    return all_cars\n",
    "\n",
    "# замеряем потребление памяти\n",
    "process = psutil.Process(os.getpid())  \n",
    "print('Memory before list is created: ' + str(process.memory_info().rss/1000000))\n",
    "\n",
    "# Вызов функции car_list и время, сколько времени это занимает\n",
    "t1 = time.time()  \n",
    "cars = car_list(1000000)  \n",
    "t2 = time.time()\n",
    "\n",
    "# замеряем потребление памяти\n",
    "process = psutil.Process(os.getpid())  \n",
    "print('Memory after list is created: ' + str(process.memory_info().rss/1000000))\n",
    "\n",
    "print('Took {} seconds'.format(t2-t1))"
   ]
  },
  {
   "cell_type": "code",
   "execution_count": 13,
   "metadata": {},
   "outputs": [],
   "source": [
    "%reset -f"
   ]
  },
  {
   "cell_type": "markdown",
   "metadata": {},
   "source": [
    "Заменим список на генератор."
   ]
  },
  {
   "cell_type": "code",
   "execution_count": 14,
   "metadata": {},
   "outputs": [
    {
     "name": "stdout",
     "output_type": "stream",
     "text": [
      "Memory before list is created: 70.602752\n",
      "Memory after list is created: 70.602752\n",
      "Took 0.0 seconds\n"
     ]
    }
   ],
   "source": [
    "import time  \n",
    "import random  \n",
    "import os  \n",
    "import psutil\n",
    "\n",
    "car_names = ['Audi', 'Toyota', 'Renault', 'Nissan', 'Honda', 'Suzuki']  \n",
    "colors = ['Black', 'Blue', 'Red', 'White', 'Yellow']\n",
    "\n",
    "def car_list_gen(cars):  \n",
    "    for i in range (cars):\n",
    "        car = {\n",
    "            'id':i,\n",
    "            'name':random.choice(car_names),\n",
    "            'color':random.choice(colors)\n",
    "        }\n",
    "        yield car\n",
    "\n",
    "# замеряем потребление памяти\n",
    "process = psutil.Process(os.getpid())  \n",
    "print('Memory before list is created: ' + str(process.memory_info().rss/1000000))\n",
    "\n",
    "# Вызов функции car_list_gen и время, сколько времени занимает\n",
    "t1 = time.time()  \n",
    "cars = car_list_gen(1000000)  \n",
    "t2 = time.time()\n",
    "\n",
    "# замеряем потребление памяти\n",
    "process = psutil.Process(os.getpid())  \n",
    "print('Memory after list is created: ' + str(process.memory_info().rss/1000000))\n",
    "\n",
    "print('Took {} seconds'.format(t2-t1))"
   ]
  },
  {
   "cell_type": "code",
   "execution_count": 15,
   "metadata": {},
   "outputs": [],
   "source": [
    "%reset -f"
   ]
  },
  {
   "cell_type": "markdown",
   "metadata": {},
   "source": [
    "## `yield from`\n"
   ]
  },
  {
   "cell_type": "code",
   "execution_count": null,
   "metadata": {},
   "outputs": [],
   "source": []
  }
 ],
 "metadata": {
  "kernelspec": {
   "display_name": "Python [conda env:.conda-data_science_notes] *",
   "language": "python",
   "name": "conda-env-.conda-data_science_notes-py"
  },
  "language_info": {
   "codemirror_mode": {
    "name": "ipython",
    "version": 3
   },
   "file_extension": ".py",
   "mimetype": "text/x-python",
   "name": "python",
   "nbconvert_exporter": "python",
   "pygments_lexer": "ipython3",
   "version": "3.10.11"
  }
 },
 "nbformat": 4,
 "nbformat_minor": 4
}
