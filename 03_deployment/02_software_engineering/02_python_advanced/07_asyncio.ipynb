{
 "cells": [
  {
   "cell_type": "markdown",
   "id": "84aa20df-9ff0-4da9-abe6-f2d1d160b660",
   "metadata": {},
   "source": [
    "# `asyncio` — Asynchronous I/O"
   ]
  },
  {
   "cell_type": "code",
   "execution_count": null,
   "id": "bd04decb-1d3f-4472-a7f4-1b4c141a7f6a",
   "metadata": {},
   "outputs": [],
   "source": []
  },
  {
   "cell_type": "markdown",
   "id": "aca17671-dac9-4060-b7ee-538c881a3388",
   "metadata": {},
   "source": [
    "---\n",
    "\n",
    "[asyncio — Asynchronous I/O](https://docs.python.org/3/library/asyncio.html)\n",
    "\n",
    "[]()\n",
    "\n",
    "[]()\n",
    "\n",
    "[]()\n",
    "\n",
    "[]()"
   ]
  }
 ],
 "metadata": {
  "kernelspec": {
   "display_name": "Python 3 (ipykernel)",
   "language": "python",
   "name": "python3"
  },
  "language_info": {
   "codemirror_mode": {
    "name": "ipython",
    "version": 3
   },
   "file_extension": ".py",
   "mimetype": "text/x-python",
   "name": "python",
   "nbconvert_exporter": "python",
   "pygments_lexer": "ipython3",
   "version": "3.10.9"
  }
 },
 "nbformat": 4,
 "nbformat_minor": 5
}
