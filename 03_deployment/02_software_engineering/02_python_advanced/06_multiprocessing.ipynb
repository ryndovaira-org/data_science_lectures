{
 "cells": [
  {
   "cell_type": "markdown",
   "id": "7351f2df-8ef1-475e-afc0-e43296403db9",
   "metadata": {},
   "source": [
    "# Process-based parallelism"
   ]
  },
  {
   "cell_type": "code",
   "execution_count": null,
   "id": "9c62d987-7413-4be1-bb86-4ad3967c07fb",
   "metadata": {},
   "outputs": [],
   "source": []
  },
  {
   "cell_type": "markdown",
   "id": "ac5167e0-c6e8-4aa0-8307-04e6c81fae80",
   "metadata": {},
   "source": [
    "# References\n",
    "\n",
    "[multiprocessing — Process-based parallelism](https://docs.python.org/3/library/multiprocessing.html)\n",
    "\n",
    "[]()\n",
    "\n",
    "[]()\n",
    "\n",
    "[]()\n",
    "\n",
    "[]()\n",
    "\n",
    "[]()"
   ]
  }
 ],
 "metadata": {
  "kernelspec": {
   "display_name": "Python [conda env:.conda-data_science_notes] *",
   "language": "python",
   "name": "conda-env-.conda-data_science_notes-py"
  },
  "language_info": {
   "codemirror_mode": {
    "name": "ipython",
    "version": 3
   },
   "file_extension": ".py",
   "mimetype": "text/x-python",
   "name": "python",
   "nbconvert_exporter": "python",
   "pygments_lexer": "ipython3",
   "version": "3.10.11"
  }
 },
 "nbformat": 4,
 "nbformat_minor": 5
}
