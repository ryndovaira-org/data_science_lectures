{
 "cells": [
  {
   "cell_type": "markdown",
   "id": "3f24f3a0-7cbd-460f-bb82-9b34342506e4",
   "metadata": {},
   "source": [
    "# HTML"
   ]
  },
  {
   "cell_type": "markdown",
   "id": "b779ffbc-8e14-41a3-aa35-560955eeac20",
   "metadata": {},
   "source": [
    "## Markup"
   ]
  },
  {
   "cell_type": "markdown",
   "id": "a9c80b08-e62f-4c88-9ee3-0d84dad3b1e8",
   "metadata": {},
   "source": [
    "### Elements"
   ]
  },
  {
   "cell_type": "markdown",
   "id": "9e75e08f-f862-45fa-96a6-84d2be558402",
   "metadata": {},
   "source": [
    "### Character and entity references"
   ]
  },
  {
   "cell_type": "markdown",
   "id": "5de0c030-6071-4a81-ad95-654434ea84bf",
   "metadata": {},
   "source": [
    "### Data types"
   ]
  },
  {
   "cell_type": "markdown",
   "id": "dc9488d2-7a1d-4dbf-aaf2-915303b06d2b",
   "metadata": {},
   "source": [
    "### Document type declaration"
   ]
  },
  {
   "cell_type": "markdown",
   "id": "83a6eb51-2e8a-436b-8f9a-7faf6984901e",
   "metadata": {},
   "source": [
    "## Delivery"
   ]
  },
  {
   "cell_type": "markdown",
   "id": "b1034e5b-bc0a-4267-b5fe-06b6d816278a",
   "metadata": {},
   "source": [
    "# CSS"
   ]
  },
  {
   "cell_type": "markdown",
   "id": "e4d63fb2-a2c0-4308-8b65-a9ac5f0daca2",
   "metadata": {},
   "source": [
    "## Syntax"
   ]
  },
  {
   "cell_type": "markdown",
   "id": "094e28b8-e3a4-44b9-9324-5a34dc9befb8",
   "metadata": {},
   "source": [
    "### Selector"
   ]
  },
  {
   "cell_type": "markdown",
   "id": "f9cd44b3-d02a-43e1-a96f-c9c2fe309fbe",
   "metadata": {},
   "source": [
    "### Use"
   ]
  },
  {
   "cell_type": "markdown",
   "id": "07a23932-531a-48c4-a41c-9f62b8d62693",
   "metadata": {},
   "source": [
    "### Sources"
   ]
  },
  {
   "cell_type": "markdown",
   "id": "a6f2c18a-2831-42f4-b037-ca41ffaf0cd1",
   "metadata": {},
   "source": [
    "### Specificity"
   ]
  },
  {
   "cell_type": "markdown",
   "id": "820d9787-f30d-48c0-a8d2-31d0bc10d8aa",
   "metadata": {},
   "source": [
    "### Inheritance"
   ]
  },
  {
   "cell_type": "markdown",
   "id": "62eed60b-f9bb-45f6-a7e0-5201444a303e",
   "metadata": {},
   "source": [
    "### Positioning"
   ]
  },
  {
   "cell_type": "markdown",
   "id": "c7f327cd-11c8-468a-9a6a-f77d9b517def",
   "metadata": {},
   "source": [
    "## Limitations"
   ]
  },
  {
   "cell_type": "markdown",
   "id": "e2dddd95-5b77-4111-9df4-14ac2c2ea378",
   "metadata": {},
   "source": [
    "## Advantages"
   ]
  },
  {
   "cell_type": "markdown",
   "id": "f120c0e1-2091-4a8a-a5e1-9c04b99502e9",
   "metadata": {},
   "source": [
    "# XML"
   ]
  },
  {
   "cell_type": "markdown",
   "id": "90240cc1-a061-4682-91d0-f7512f47e806",
   "metadata": {},
   "source": [
    "## Applications"
   ]
  },
  {
   "cell_type": "markdown",
   "id": "2f356e92-05ad-4886-adfa-06bbac2c779b",
   "metadata": {},
   "source": [
    "## Terminology"
   ]
  },
  {
   "cell_type": "markdown",
   "id": "840aeb23-1802-4dc4-bda8-9c5cfc480a1d",
   "metadata": {},
   "source": [
    "## Characters and escaping"
   ]
  },
  {
   "cell_type": "markdown",
   "id": "3027c610-2ae5-47d7-aada-d61a9778207a",
   "metadata": {},
   "source": [
    "## Criticism"
   ]
  },
  {
   "cell_type": "markdown",
   "id": "23d010e2-c4d2-4930-84d0-87a566ceeaa5",
   "metadata": {},
   "source": [
    "# DOM"
   ]
  },
  {
   "cell_type": "markdown",
   "id": "4f36c5b2-de55-496a-9ffa-adf651175550",
   "metadata": {
    "tags": []
   },
   "source": [
    "## Applications"
   ]
  },
  {
   "cell_type": "markdown",
   "id": "29e0563e-49e0-47e9-89c4-e30f10ec294f",
   "metadata": {
    "tags": []
   },
   "source": [
    "## Structure"
   ]
  },
  {
   "cell_type": "markdown",
   "id": "dc030f56-22f1-4e4b-b30f-185d1f3b2423",
   "metadata": {
    "tags": []
   },
   "source": [
    "### Elements as Nodes"
   ]
  },
  {
   "cell_type": "markdown",
   "id": "55dd5091-3158-4c8a-bf17-c4859c23db3f",
   "metadata": {
    "tags": []
   },
   "source": [
    "### Text Nodes"
   ]
  },
  {
   "cell_type": "markdown",
   "id": "7bb2a53b-d806-4bd1-8be3-92a80191cc98",
   "metadata": {
    "tags": []
   },
   "source": [
    "### Attributes as Properties"
   ]
  },
  {
   "cell_type": "markdown",
   "id": "273025a6-be26-41e7-b92d-f91b2837e85a",
   "metadata": {},
   "source": [
    "---\n",
    "\n",
    "[HTML](https://en.wikipedia.org/wiki/HTML)\n",
    "\n",
    "[CSS](https://en.wikipedia.org/wiki/CSS)\n",
    "\n",
    "[XML](https://en.wikipedia.org/wiki/XML)\n",
    "\n",
    "[Document Object Model](https://en.wikipedia.org/wiki/Document_Object_Model)\n",
    "\n",
    "[]()\n",
    "\n",
    "[]()"
   ]
  }
 ],
 "metadata": {
  "kernelspec": {
   "display_name": "Python [conda env:data-science-course] *",
   "language": "python",
   "name": "conda-env-data-science-course-py"
  },
  "language_info": {
   "codemirror_mode": {
    "name": "ipython",
    "version": 3
   },
   "file_extension": ".py",
   "mimetype": "text/x-python",
   "name": "python",
   "nbconvert_exporter": "python",
   "pygments_lexer": "ipython3",
   "version": "3.10.9"
  }
 },
 "nbformat": 4,
 "nbformat_minor": 5
}
