{
 "cells": [
  {
   "cell_type": "markdown",
   "id": "3f24f3a0-7cbd-460f-bb82-9b34342506e4",
   "metadata": {},
   "source": [
    "# TCP/IP"
   ]
  },
  {
   "cell_type": "markdown",
   "id": "b86b4797-fb66-4638-ac85-6d52338cfcbd",
   "metadata": {},
   "source": [
    "## Key architectural principles"
   ]
  },
  {
   "cell_type": "markdown",
   "id": "73a5d9d2-39a9-44b9-a41d-25b0c70ba2cc",
   "metadata": {},
   "source": [
    "## Link layer"
   ]
  },
  {
   "cell_type": "markdown",
   "id": "cd769f42-13b6-45c1-8484-c101b3e19d14",
   "metadata": {},
   "source": [
    "### Tunneling"
   ]
  },
  {
   "cell_type": "markdown",
   "id": "d0561f69-2aef-4ab9-914f-49113eb995e7",
   "metadata": {},
   "source": [
    "### MAC"
   ]
  },
  {
   "cell_type": "markdown",
   "id": "1c310a9b-41da-43ed-854d-27cd6a78a863",
   "metadata": {},
   "source": [
    "## Internet layer"
   ]
  },
  {
   "cell_type": "markdown",
   "id": "e8f5e67c-8dd8-4fd9-b3f0-446295f977a6",
   "metadata": {},
   "source": [
    "## Transport layer"
   ]
  },
  {
   "cell_type": "markdown",
   "id": "bee70289-f0ce-4b4a-bdcc-77da7f879ee6",
   "metadata": {},
   "source": [
    "### Port"
   ]
  },
  {
   "cell_type": "markdown",
   "id": "907d25c3-c00a-4fe5-99ab-577f8251a03a",
   "metadata": {},
   "source": [
    "## Application layer"
   ]
  },
  {
   "cell_type": "markdown",
   "id": "0e14d3a3-d6b4-4b12-b134-7905bab025e0",
   "metadata": {},
   "source": [
    "### DNS"
   ]
  },
  {
   "cell_type": "markdown",
   "id": "273025a6-be26-41e7-b92d-f91b2837e85a",
   "metadata": {},
   "source": [
    "---\n",
    "\n",
    "[Internet protocol suite](https://en.wikipedia.org/wiki/Internet_protocol_suite)\n",
    "\n",
    "[Medium access control](https://en.wikipedia.org/wiki/Medium_access_control)\n",
    "\n",
    "[Port](https://en.wikipedia.org/wiki/Port_(computer_networking))\n",
    "\n",
    "[DNS](https://en.wikipedia.org/wiki/Domain_Name_System)\n",
    "\n",
    "[Tunneling protocol](https://en.wikipedia.org/wiki/Tunneling_protocol)\n",
    "\n",
    "[]()"
   ]
  }
 ],
 "metadata": {
  "kernelspec": {
   "display_name": "Python [conda env:data-science-course] *",
   "language": "python",
   "name": "conda-env-data-science-course-py"
  },
  "language_info": {
   "codemirror_mode": {
    "name": "ipython",
    "version": 3
   },
   "file_extension": ".py",
   "mimetype": "text/x-python",
   "name": "python",
   "nbconvert_exporter": "python",
   "pygments_lexer": "ipython3",
   "version": "3.10.9"
  }
 },
 "nbformat": 4,
 "nbformat_minor": 5
}
