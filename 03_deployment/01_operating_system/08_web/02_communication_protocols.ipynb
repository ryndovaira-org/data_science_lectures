{
 "cells": [
  {
   "cell_type": "markdown",
   "id": "3f24f3a0-7cbd-460f-bb82-9b34342506e4",
   "metadata": {},
   "source": [
    "# Communication protocol"
   ]
  },
  {
   "cell_type": "markdown",
   "id": "54190ee4-0fb6-4cc5-80c7-8fb0a45fbfdb",
   "metadata": {},
   "source": [
    "## Concept"
   ]
  },
  {
   "cell_type": "markdown",
   "id": "b3a3f9a9-3cff-4da7-a94b-e80d240d2957",
   "metadata": {},
   "source": [
    "## Protocol stack"
   ]
  },
  {
   "cell_type": "markdown",
   "id": "5257ee5a-c6e1-4a7b-9a96-3ecac7414dc5",
   "metadata": {},
   "source": [
    "## Types"
   ]
  },
  {
   "cell_type": "markdown",
   "id": "79f2650f-f8c0-424b-b7a0-56a0813d3cf3",
   "metadata": {},
   "source": [
    "### Text-based"
   ]
  },
  {
   "cell_type": "markdown",
   "id": "06ffe405-6943-47e7-a259-9c3c0bf6eb67",
   "metadata": {
    "jp-MarkdownHeadingCollapsed": true,
    "tags": []
   },
   "source": [
    "#### ASCII"
   ]
  },
  {
   "cell_type": "markdown",
   "id": "d1a4077c-bb69-42cc-a6aa-66bf8b69cd21",
   "metadata": {},
   "source": [
    "### Binary"
   ]
  },
  {
   "cell_type": "markdown",
   "id": "25771d15-cafa-4f24-b999-2878587777df",
   "metadata": {},
   "source": [
    "## Requirements"
   ]
  },
  {
   "cell_type": "markdown",
   "id": "aac47685-ce26-4639-b2d7-4f62598ae0c4",
   "metadata": {},
   "source": [
    "## Design"
   ]
  },
  {
   "cell_type": "markdown",
   "id": "e3a494cb-f741-45b9-a217-8c48fcb5e2de",
   "metadata": {},
   "source": [
    "## Development"
   ]
  },
  {
   "cell_type": "markdown",
   "id": "c9188e1d-dd70-4870-abc1-08fe3a86e83e",
   "metadata": {},
   "source": [
    "## Taxonomies "
   ]
  },
  {
   "cell_type": "markdown",
   "id": "273025a6-be26-41e7-b92d-f91b2837e85a",
   "metadata": {},
   "source": [
    "# References\n",
    "\n",
    "[Communication protocol](https://en.wikipedia.org/wiki/Communication_protocol)\n",
    "\n",
    "[ASCII](https://en.wikipedia.org/wiki/ASCII)\n",
    "\n",
    "[File Transfer Protocol](https://en.wikipedia.org/wiki/File_Transfer_Protocol)\n",
    "\n",
    "[Simple Mail Transfer Protocol](https://en.wikipedia.org/wiki/Simple_Mail_Transfer_Protocol)\n",
    "\n",
    "[Protocol stack](https://en.wikipedia.org/wiki/Protocol_stack)\n",
    "\n",
    "[]()"
   ]
  }
 ],
 "metadata": {
  "kernelspec": {
   "display_name": "Python [conda env:data-science-course] *",
   "language": "python",
   "name": "conda-env-data-science-course-py"
  },
  "language_info": {
   "codemirror_mode": {
    "name": "ipython",
    "version": 3
   },
   "file_extension": ".py",
   "mimetype": "text/x-python",
   "name": "python",
   "nbconvert_exporter": "python",
   "pygments_lexer": "ipython3",
   "version": "3.10.9"
  }
 },
 "nbformat": 4,
 "nbformat_minor": 5
}
