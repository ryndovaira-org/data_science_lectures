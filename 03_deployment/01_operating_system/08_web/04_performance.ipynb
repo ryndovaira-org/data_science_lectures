{
 "cells": [
  {
   "cell_type": "markdown",
   "id": "3f24f3a0-7cbd-460f-bb82-9b34342506e4",
   "metadata": {},
   "source": [
    "# Network performance"
   ]
  },
  {
   "cell_type": "markdown",
   "id": "8f1e25fc-0640-45d8-b31c-61eb3034a5e0",
   "metadata": {},
   "source": [
    "## Network packet"
   ]
  },
  {
   "cell_type": "markdown",
   "id": "bbb7d8a1-4a9a-46ee-872d-aa01e877d133",
   "metadata": {},
   "source": [
    "## Bandwidth"
   ]
  },
  {
   "cell_type": "markdown",
   "id": "8c0ee9c2-0d0b-47f0-99a9-4db35183a512",
   "metadata": {},
   "source": [
    "## Network delay"
   ]
  },
  {
   "cell_type": "markdown",
   "id": "cf8cb7d6-dc93-4050-ae5c-1838a83cd349",
   "metadata": {},
   "source": [
    "## Quality of service"
   ]
  },
  {
   "cell_type": "markdown",
   "id": "2ac06fea-1737-4650-a118-cd4f19aba8ee",
   "metadata": {},
   "source": [
    "## Network congestion"
   ]
  },
  {
   "cell_type": "markdown",
   "id": "1831eb08-fbf5-494f-b1b9-0b17d2e2d98c",
   "metadata": {},
   "source": [
    "## Network resilience"
   ]
  },
  {
   "cell_type": "markdown",
   "id": "273025a6-be26-41e7-b92d-f91b2837e85a",
   "metadata": {},
   "source": [
    "# References\n",
    "\n",
    "[Network packet](https://en.wikipedia.org/wiki/Network_packet)\n",
    "\n",
    "[Computer network](https://en.wikipedia.org/wiki/Computer_network)\n",
    "\n",
    "[]()\n",
    "\n",
    "[]()\n",
    "\n",
    "[]()\n",
    "\n",
    "[]()"
   ]
  }
 ],
 "metadata": {
  "kernelspec": {
   "display_name": "Python [conda env:data-science-course] *",
   "language": "python",
   "name": "conda-env-data-science-course-py"
  },
  "language_info": {
   "codemirror_mode": {
    "name": "ipython",
    "version": 3
   },
   "file_extension": ".py",
   "mimetype": "text/x-python",
   "name": "python",
   "nbconvert_exporter": "python",
   "pygments_lexer": "ipython3",
   "version": "3.10.9"
  }
 },
 "nbformat": 4,
 "nbformat_minor": 5
}
