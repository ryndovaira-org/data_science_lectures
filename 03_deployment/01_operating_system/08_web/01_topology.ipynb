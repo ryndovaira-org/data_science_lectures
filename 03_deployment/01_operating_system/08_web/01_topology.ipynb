{
 "cells": [
  {
   "cell_type": "markdown",
   "id": "3f24f3a0-7cbd-460f-bb82-9b34342506e4",
   "metadata": {},
   "source": [
    "# Network topology"
   ]
  },
  {
   "cell_type": "markdown",
   "id": "9f0b8318-9067-46c6-9423-8ca416344e48",
   "metadata": {},
   "source": [
    "## Definition"
   ]
  },
  {
   "cell_type": "markdown",
   "id": "ac422d9f-ecee-444f-9b68-275c16d1de88",
   "metadata": {},
   "source": [
    "## Nodes"
   ]
  },
  {
   "cell_type": "markdown",
   "id": "77befa0a-58da-42ee-9fef-ba5b9c62fb87",
   "metadata": {},
   "source": [
    "### Network interfaces"
   ]
  },
  {
   "cell_type": "markdown",
   "id": "c7a9ecb8-88bd-40aa-a795-dca3c85badde",
   "metadata": {},
   "source": [
    "### Repeaters and hubs"
   ]
  },
  {
   "cell_type": "markdown",
   "id": "19371385-66d2-4a20-bd3b-09c591f5adc5",
   "metadata": {},
   "source": [
    "### Bridges"
   ]
  },
  {
   "cell_type": "markdown",
   "id": "71105239-647b-4ec5-b767-6f7b2daf77ac",
   "metadata": {},
   "source": [
    "### Switches"
   ]
  },
  {
   "cell_type": "markdown",
   "id": "39d423ff-5391-4422-b452-150f83bfbda4",
   "metadata": {},
   "source": [
    "### Routers"
   ]
  },
  {
   "cell_type": "markdown",
   "id": "5f6fdefc-e950-4443-9cd7-ba27a4ae2cb8",
   "metadata": {},
   "source": [
    "### Modems"
   ]
  },
  {
   "cell_type": "markdown",
   "id": "d015d462-f945-4fc4-962c-a3b1465b4f7d",
   "metadata": {},
   "source": [
    "### Firewalls"
   ]
  },
  {
   "cell_type": "markdown",
   "id": "699d8276-6d3f-4b8a-bfd4-9d424b73d1ba",
   "metadata": {},
   "source": [
    "## Classification"
   ]
  },
  {
   "cell_type": "markdown",
   "id": "c6568f72-d2b6-494c-bf73-2046302c7021",
   "metadata": {},
   "source": [
    "### Point-to-point"
   ]
  },
  {
   "cell_type": "markdown",
   "id": "d88a42b1-8e22-4277-b94f-c269c449dd97",
   "metadata": {},
   "source": [
    "### Daisy chain"
   ]
  },
  {
   "cell_type": "markdown",
   "id": "d676d02c-4131-4307-baab-de633cbb6713",
   "metadata": {},
   "source": [
    "### Bus"
   ]
  },
  {
   "cell_type": "markdown",
   "id": "84797b58-43d2-4891-bf65-a84485333677",
   "metadata": {},
   "source": [
    "### Star"
   ]
  },
  {
   "cell_type": "markdown",
   "id": "f74de5b5-9349-48b0-b9ee-0dd1fbd04de3",
   "metadata": {},
   "source": [
    "### Ring"
   ]
  },
  {
   "cell_type": "markdown",
   "id": "f049b3b1-9158-4b33-a63b-febe9c9a1aaa",
   "metadata": {},
   "source": [
    "### Mesh"
   ]
  },
  {
   "cell_type": "markdown",
   "id": "305b1627-c50a-4731-960e-251ff2d32bf4",
   "metadata": {},
   "source": [
    "### Hybrid"
   ]
  },
  {
   "cell_type": "markdown",
   "id": "40276f93-c34a-4234-814f-d04d525387f2",
   "metadata": {},
   "source": [
    "## Centralization & Decentralization"
   ]
  },
  {
   "cell_type": "markdown",
   "id": "273025a6-be26-41e7-b92d-f91b2837e85a",
   "metadata": {},
   "source": [
    "---\n",
    "\n",
    "[Network topology](https://en.wikipedia.org/wiki/Network_topology)\n",
    "\n",
    "[]()\n",
    "\n",
    "[]()\n",
    "\n",
    "[]()\n",
    "\n",
    "[]()\n",
    "\n",
    "[]()"
   ]
  }
 ],
 "metadata": {
  "kernelspec": {
   "display_name": "Python [conda env:data-science-course] *",
   "language": "python",
   "name": "conda-env-data-science-course-py"
  },
  "language_info": {
   "codemirror_mode": {
    "name": "ipython",
    "version": 3
   },
   "file_extension": ".py",
   "mimetype": "text/x-python",
   "name": "python",
   "nbconvert_exporter": "python",
   "pygments_lexer": "ipython3",
   "version": "3.10.9"
  }
 },
 "nbformat": 4,
 "nbformat_minor": 5
}
