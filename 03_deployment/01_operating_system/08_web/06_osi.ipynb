{
 "cells": [
  {
   "cell_type": "markdown",
   "id": "3f24f3a0-7cbd-460f-bb82-9b34342506e4",
   "metadata": {},
   "source": [
    "# OSI model"
   ]
  },
  {
   "cell_type": "markdown",
   "id": "3628aaf5-ad42-4f0d-8849-a033c0cca49a",
   "metadata": {},
   "source": [
    "## Definitions"
   ]
  },
  {
   "cell_type": "markdown",
   "id": "e7935568-231b-45d3-9091-d0940fd1576d",
   "metadata": {},
   "source": [
    "## Layer 1: Physical layer"
   ]
  },
  {
   "cell_type": "markdown",
   "id": "7e581864-3b67-45d7-a1ab-42bd5cbacecf",
   "metadata": {},
   "source": [
    "## Layer 2: Data link layer"
   ]
  },
  {
   "cell_type": "markdown",
   "id": "4c87c09d-bfcf-40e7-bc3d-62122e5b6aea",
   "metadata": {},
   "source": [
    "### Medium access control "
   ]
  },
  {
   "cell_type": "markdown",
   "id": "5e4f96be-1948-4eb1-9a3c-abb96b4c2d7c",
   "metadata": {},
   "source": [
    "### Logical link control "
   ]
  },
  {
   "cell_type": "markdown",
   "id": "882c7028-3fa0-4aed-8cb8-502f08613634",
   "metadata": {},
   "source": [
    "## Layer 3: Network layer"
   ]
  },
  {
   "cell_type": "markdown",
   "id": "bcf38764-2bd3-4ea7-8772-4ac2eb7a5683",
   "metadata": {},
   "source": [
    "### IP"
   ]
  },
  {
   "cell_type": "markdown",
   "id": "d29e4e5f-1ba3-43c6-ba63-a320cbca91f6",
   "metadata": {},
   "source": [
    "#### Domain name"
   ]
  },
  {
   "cell_type": "markdown",
   "id": "89e506f3-985c-44b7-bd60-623bd751af73",
   "metadata": {},
   "source": [
    "## Layer 4: Transport layer"
   ]
  },
  {
   "cell_type": "markdown",
   "id": "ee44c128-6524-4971-8394-49d0482f4592",
   "metadata": {},
   "source": [
    "### TCP"
   ]
  },
  {
   "cell_type": "markdown",
   "id": "228a0b85-fc77-4f4f-8b78-cc6f7f63a120",
   "metadata": {},
   "source": [
    "### UDP"
   ]
  },
  {
   "cell_type": "markdown",
   "id": "92e1f46b-4fd0-4e64-be86-26ac7650f0c1",
   "metadata": {},
   "source": [
    "### VoIP"
   ]
  },
  {
   "cell_type": "markdown",
   "id": "8952d3df-a2ce-4d89-b64c-815da1b799f3",
   "metadata": {
    "tags": []
   },
   "source": [
    "## Layer 5: Session layer"
   ]
  },
  {
   "cell_type": "markdown",
   "id": "c2c84c63-6a3f-412b-9ac8-170dfc0ecba8",
   "metadata": {},
   "source": [
    "### Sockets"
   ]
  },
  {
   "cell_type": "markdown",
   "id": "f200d7ff-c1e0-4543-bb3a-3a8aa789fd35",
   "metadata": {},
   "source": [
    "### Full-duplex"
   ]
  },
  {
   "cell_type": "markdown",
   "id": "253aba93-944b-412d-ac65-a6dfa608fded",
   "metadata": {},
   "source": [
    "### Half-duplex "
   ]
  },
  {
   "cell_type": "markdown",
   "id": "95fffae4-8e90-4f56-afb4-57d21fa6314e",
   "metadata": {},
   "source": [
    "### Simplex"
   ]
  },
  {
   "cell_type": "markdown",
   "id": "5932c892-b278-418e-8506-8a48229622a7",
   "metadata": {},
   "source": [
    "## Layer 6: Presentation layer"
   ]
  },
  {
   "cell_type": "markdown",
   "id": "162e89e4-62d4-4a49-aed6-51babb69b412",
   "metadata": {},
   "source": [
    "### MIME"
   ]
  },
  {
   "cell_type": "markdown",
   "id": "ddb4a900-a871-4b55-aac4-b3c06d4ad07e",
   "metadata": {},
   "source": [
    "### SSL/TLS"
   ]
  },
  {
   "cell_type": "markdown",
   "id": "bded0f56-10c7-4536-b81e-326bbbd5ae58",
   "metadata": {},
   "source": [
    "## Layer 7: Application layer"
   ]
  },
  {
   "cell_type": "markdown",
   "id": "37992064-6b2d-47fb-940e-e06417c272e0",
   "metadata": {},
   "source": [
    "### FTP"
   ]
  },
  {
   "cell_type": "markdown",
   "id": "bed6c882-029b-4727-89e0-07de35289499",
   "metadata": {},
   "source": [
    "### SMTP"
   ]
  },
  {
   "cell_type": "markdown",
   "id": "1a092fd8-d301-41df-b199-a62b5c2c4ab8",
   "metadata": {},
   "source": [
    "### HTTP"
   ]
  },
  {
   "cell_type": "markdown",
   "id": "d6edecc4-a7f9-4a7c-aca5-da1b9503106d",
   "metadata": {},
   "source": [
    "#### HTTP cookie"
   ]
  },
  {
   "cell_type": "markdown",
   "id": "4216d2e5-8483-46be-ab8d-6d7da215d047",
   "metadata": {},
   "source": [
    "### HTTPs"
   ]
  },
  {
   "cell_type": "markdown",
   "id": "273025a6-be26-41e7-b92d-f91b2837e85a",
   "metadata": {},
   "source": [
    "# References\n",
    "\n",
    "[OSI model](http://localhost:8888/lab/tree/03_deployment/01_operating_system/08_web/06_osi.ipynb#)\n",
    "\n",
    "[]()\n",
    "\n",
    "[]()\n",
    "\n",
    "[]()\n",
    "\n",
    "[]()\n",
    "\n",
    "[]()"
   ]
  }
 ],
 "metadata": {
  "kernelspec": {
   "display_name": "Python [conda env:data-science-course] *",
   "language": "python",
   "name": "conda-env-data-science-course-py"
  },
  "language_info": {
   "codemirror_mode": {
    "name": "ipython",
    "version": 3
   },
   "file_extension": ".py",
   "mimetype": "text/x-python",
   "name": "python",
   "nbconvert_exporter": "python",
   "pygments_lexer": "ipython3",
   "version": "3.10.9"
  }
 },
 "nbformat": 4,
 "nbformat_minor": 5
}
