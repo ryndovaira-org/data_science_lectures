{
 "cells": [
  {
   "cell_type": "markdown",
   "metadata": {
    "jupyter": {
     "outputs_hidden": true
    }
   },
   "source": [
    "# Анализ и построение модели по данным о ценах на дома"
   ]
  },
  {
   "cell_type": "markdown",
   "metadata": {},
   "source": [
    "## Импорт пакетов\n",
    "- `matplotlib.pyplot`, `pylab`, `seaborn` - рисование графиков\n",
    "- `pandas` - работа с таблицами\n",
    "- `numpy` - работа с матрицами\n",
    "- `linear_model` - модель линейной регрессии"
   ]
  },
  {
   "cell_type": "code",
   "execution_count": 1,
   "metadata": {},
   "outputs": [],
   "source": [
    "import matplotlib.pyplot as plt\n",
    "import pylab as pl\n",
    "import seaborn as sns\n",
    "\n",
    "import pandas as pd\n",
    "\n",
    "import numpy as np\n",
    "\n",
    "# импортировать из пакета с моделями модель линейной регрессии\n",
    "from sklearn import linear_model\n",
    "\n",
    "from sklearn.metrics import r2_score, mean_squared_error\n",
    "\n",
    "from sklearn.preprocessing import PolynomialFeatures\n",
    "\n",
    "import xgboost as xg \n",
    "\n",
    "%matplotlib inline"
   ]
  },
  {
   "cell_type": "markdown",
   "metadata": {},
   "source": [
    "## Анализ данных\n",
    "\n",
    "`kc_house_data.csv`\n",
    "\n",
    "[Dataset source](https://www.kaggle.com/harlfoxem/housesalesprediction?select=kc_house_data.csv)"
   ]
  },
  {
   "cell_type": "markdown",
   "metadata": {},
   "source": [
    "### Загрузка данных"
   ]
  },
  {
   "cell_type": "code",
   "execution_count": 2,
   "metadata": {
    "collapsed": false,
    "jupyter": {
     "outputs_hidden": false
    },
    "pycharm": {
     "name": "#%%\n"
    }
   },
   "outputs": [
    {
     "data": {
      "text/html": [
       "<div>\n",
       "<style scoped>\n",
       "    .dataframe tbody tr th:only-of-type {\n",
       "        vertical-align: middle;\n",
       "    }\n",
       "\n",
       "    .dataframe tbody tr th {\n",
       "        vertical-align: top;\n",
       "    }\n",
       "\n",
       "    .dataframe thead th {\n",
       "        text-align: right;\n",
       "    }\n",
       "</style>\n",
       "<table border=\"1\" class=\"dataframe\">\n",
       "  <thead>\n",
       "    <tr style=\"text-align: right;\">\n",
       "      <th></th>\n",
       "      <th>id</th>\n",
       "      <th>date</th>\n",
       "      <th>price</th>\n",
       "      <th>bedrooms</th>\n",
       "      <th>bathrooms</th>\n",
       "      <th>sqft_living</th>\n",
       "      <th>sqft_lot</th>\n",
       "      <th>floors</th>\n",
       "      <th>waterfront</th>\n",
       "      <th>view</th>\n",
       "      <th>...</th>\n",
       "      <th>grade</th>\n",
       "      <th>sqft_above</th>\n",
       "      <th>sqft_basement</th>\n",
       "      <th>yr_built</th>\n",
       "      <th>yr_renovated</th>\n",
       "      <th>zipcode</th>\n",
       "      <th>lat</th>\n",
       "      <th>long</th>\n",
       "      <th>sqft_living15</th>\n",
       "      <th>sqft_lot15</th>\n",
       "    </tr>\n",
       "  </thead>\n",
       "  <tbody>\n",
       "    <tr>\n",
       "      <th>0</th>\n",
       "      <td>7129300520</td>\n",
       "      <td>20141013T000000</td>\n",
       "      <td>221900.0</td>\n",
       "      <td>3</td>\n",
       "      <td>1.00</td>\n",
       "      <td>1180</td>\n",
       "      <td>5650</td>\n",
       "      <td>1.0</td>\n",
       "      <td>0</td>\n",
       "      <td>0</td>\n",
       "      <td>...</td>\n",
       "      <td>7</td>\n",
       "      <td>1180</td>\n",
       "      <td>0</td>\n",
       "      <td>1955</td>\n",
       "      <td>0</td>\n",
       "      <td>98178</td>\n",
       "      <td>47.5112</td>\n",
       "      <td>-122.257</td>\n",
       "      <td>1340</td>\n",
       "      <td>5650</td>\n",
       "    </tr>\n",
       "    <tr>\n",
       "      <th>1</th>\n",
       "      <td>6414100192</td>\n",
       "      <td>20141209T000000</td>\n",
       "      <td>538000.0</td>\n",
       "      <td>3</td>\n",
       "      <td>2.25</td>\n",
       "      <td>2570</td>\n",
       "      <td>7242</td>\n",
       "      <td>2.0</td>\n",
       "      <td>0</td>\n",
       "      <td>0</td>\n",
       "      <td>...</td>\n",
       "      <td>7</td>\n",
       "      <td>2170</td>\n",
       "      <td>400</td>\n",
       "      <td>1951</td>\n",
       "      <td>1991</td>\n",
       "      <td>98125</td>\n",
       "      <td>47.7210</td>\n",
       "      <td>-122.319</td>\n",
       "      <td>1690</td>\n",
       "      <td>7639</td>\n",
       "    </tr>\n",
       "    <tr>\n",
       "      <th>2</th>\n",
       "      <td>5631500400</td>\n",
       "      <td>20150225T000000</td>\n",
       "      <td>180000.0</td>\n",
       "      <td>2</td>\n",
       "      <td>1.00</td>\n",
       "      <td>770</td>\n",
       "      <td>10000</td>\n",
       "      <td>1.0</td>\n",
       "      <td>0</td>\n",
       "      <td>0</td>\n",
       "      <td>...</td>\n",
       "      <td>6</td>\n",
       "      <td>770</td>\n",
       "      <td>0</td>\n",
       "      <td>1933</td>\n",
       "      <td>0</td>\n",
       "      <td>98028</td>\n",
       "      <td>47.7379</td>\n",
       "      <td>-122.233</td>\n",
       "      <td>2720</td>\n",
       "      <td>8062</td>\n",
       "    </tr>\n",
       "    <tr>\n",
       "      <th>3</th>\n",
       "      <td>2487200875</td>\n",
       "      <td>20141209T000000</td>\n",
       "      <td>604000.0</td>\n",
       "      <td>4</td>\n",
       "      <td>3.00</td>\n",
       "      <td>1960</td>\n",
       "      <td>5000</td>\n",
       "      <td>1.0</td>\n",
       "      <td>0</td>\n",
       "      <td>0</td>\n",
       "      <td>...</td>\n",
       "      <td>7</td>\n",
       "      <td>1050</td>\n",
       "      <td>910</td>\n",
       "      <td>1965</td>\n",
       "      <td>0</td>\n",
       "      <td>98136</td>\n",
       "      <td>47.5208</td>\n",
       "      <td>-122.393</td>\n",
       "      <td>1360</td>\n",
       "      <td>5000</td>\n",
       "    </tr>\n",
       "    <tr>\n",
       "      <th>4</th>\n",
       "      <td>1954400510</td>\n",
       "      <td>20150218T000000</td>\n",
       "      <td>510000.0</td>\n",
       "      <td>3</td>\n",
       "      <td>2.00</td>\n",
       "      <td>1680</td>\n",
       "      <td>8080</td>\n",
       "      <td>1.0</td>\n",
       "      <td>0</td>\n",
       "      <td>0</td>\n",
       "      <td>...</td>\n",
       "      <td>8</td>\n",
       "      <td>1680</td>\n",
       "      <td>0</td>\n",
       "      <td>1987</td>\n",
       "      <td>0</td>\n",
       "      <td>98074</td>\n",
       "      <td>47.6168</td>\n",
       "      <td>-122.045</td>\n",
       "      <td>1800</td>\n",
       "      <td>7503</td>\n",
       "    </tr>\n",
       "    <tr>\n",
       "      <th>...</th>\n",
       "      <td>...</td>\n",
       "      <td>...</td>\n",
       "      <td>...</td>\n",
       "      <td>...</td>\n",
       "      <td>...</td>\n",
       "      <td>...</td>\n",
       "      <td>...</td>\n",
       "      <td>...</td>\n",
       "      <td>...</td>\n",
       "      <td>...</td>\n",
       "      <td>...</td>\n",
       "      <td>...</td>\n",
       "      <td>...</td>\n",
       "      <td>...</td>\n",
       "      <td>...</td>\n",
       "      <td>...</td>\n",
       "      <td>...</td>\n",
       "      <td>...</td>\n",
       "      <td>...</td>\n",
       "      <td>...</td>\n",
       "      <td>...</td>\n",
       "    </tr>\n",
       "    <tr>\n",
       "      <th>21608</th>\n",
       "      <td>263000018</td>\n",
       "      <td>20140521T000000</td>\n",
       "      <td>360000.0</td>\n",
       "      <td>3</td>\n",
       "      <td>2.50</td>\n",
       "      <td>1530</td>\n",
       "      <td>1131</td>\n",
       "      <td>3.0</td>\n",
       "      <td>0</td>\n",
       "      <td>0</td>\n",
       "      <td>...</td>\n",
       "      <td>8</td>\n",
       "      <td>1530</td>\n",
       "      <td>0</td>\n",
       "      <td>2009</td>\n",
       "      <td>0</td>\n",
       "      <td>98103</td>\n",
       "      <td>47.6993</td>\n",
       "      <td>-122.346</td>\n",
       "      <td>1530</td>\n",
       "      <td>1509</td>\n",
       "    </tr>\n",
       "    <tr>\n",
       "      <th>21609</th>\n",
       "      <td>6600060120</td>\n",
       "      <td>20150223T000000</td>\n",
       "      <td>400000.0</td>\n",
       "      <td>4</td>\n",
       "      <td>2.50</td>\n",
       "      <td>2310</td>\n",
       "      <td>5813</td>\n",
       "      <td>2.0</td>\n",
       "      <td>0</td>\n",
       "      <td>0</td>\n",
       "      <td>...</td>\n",
       "      <td>8</td>\n",
       "      <td>2310</td>\n",
       "      <td>0</td>\n",
       "      <td>2014</td>\n",
       "      <td>0</td>\n",
       "      <td>98146</td>\n",
       "      <td>47.5107</td>\n",
       "      <td>-122.362</td>\n",
       "      <td>1830</td>\n",
       "      <td>7200</td>\n",
       "    </tr>\n",
       "    <tr>\n",
       "      <th>21610</th>\n",
       "      <td>1523300141</td>\n",
       "      <td>20140623T000000</td>\n",
       "      <td>402101.0</td>\n",
       "      <td>2</td>\n",
       "      <td>0.75</td>\n",
       "      <td>1020</td>\n",
       "      <td>1350</td>\n",
       "      <td>2.0</td>\n",
       "      <td>0</td>\n",
       "      <td>0</td>\n",
       "      <td>...</td>\n",
       "      <td>7</td>\n",
       "      <td>1020</td>\n",
       "      <td>0</td>\n",
       "      <td>2009</td>\n",
       "      <td>0</td>\n",
       "      <td>98144</td>\n",
       "      <td>47.5944</td>\n",
       "      <td>-122.299</td>\n",
       "      <td>1020</td>\n",
       "      <td>2007</td>\n",
       "    </tr>\n",
       "    <tr>\n",
       "      <th>21611</th>\n",
       "      <td>291310100</td>\n",
       "      <td>20150116T000000</td>\n",
       "      <td>400000.0</td>\n",
       "      <td>3</td>\n",
       "      <td>2.50</td>\n",
       "      <td>1600</td>\n",
       "      <td>2388</td>\n",
       "      <td>2.0</td>\n",
       "      <td>0</td>\n",
       "      <td>0</td>\n",
       "      <td>...</td>\n",
       "      <td>8</td>\n",
       "      <td>1600</td>\n",
       "      <td>0</td>\n",
       "      <td>2004</td>\n",
       "      <td>0</td>\n",
       "      <td>98027</td>\n",
       "      <td>47.5345</td>\n",
       "      <td>-122.069</td>\n",
       "      <td>1410</td>\n",
       "      <td>1287</td>\n",
       "    </tr>\n",
       "    <tr>\n",
       "      <th>21612</th>\n",
       "      <td>1523300157</td>\n",
       "      <td>20141015T000000</td>\n",
       "      <td>325000.0</td>\n",
       "      <td>2</td>\n",
       "      <td>0.75</td>\n",
       "      <td>1020</td>\n",
       "      <td>1076</td>\n",
       "      <td>2.0</td>\n",
       "      <td>0</td>\n",
       "      <td>0</td>\n",
       "      <td>...</td>\n",
       "      <td>7</td>\n",
       "      <td>1020</td>\n",
       "      <td>0</td>\n",
       "      <td>2008</td>\n",
       "      <td>0</td>\n",
       "      <td>98144</td>\n",
       "      <td>47.5941</td>\n",
       "      <td>-122.299</td>\n",
       "      <td>1020</td>\n",
       "      <td>1357</td>\n",
       "    </tr>\n",
       "  </tbody>\n",
       "</table>\n",
       "<p>21613 rows × 21 columns</p>\n",
       "</div>"
      ],
      "text/plain": [
       "               id             date     price  bedrooms  bathrooms  \\\n",
       "0      7129300520  20141013T000000  221900.0         3       1.00   \n",
       "1      6414100192  20141209T000000  538000.0         3       2.25   \n",
       "2      5631500400  20150225T000000  180000.0         2       1.00   \n",
       "3      2487200875  20141209T000000  604000.0         4       3.00   \n",
       "4      1954400510  20150218T000000  510000.0         3       2.00   \n",
       "...           ...              ...       ...       ...        ...   \n",
       "21608   263000018  20140521T000000  360000.0         3       2.50   \n",
       "21609  6600060120  20150223T000000  400000.0         4       2.50   \n",
       "21610  1523300141  20140623T000000  402101.0         2       0.75   \n",
       "21611   291310100  20150116T000000  400000.0         3       2.50   \n",
       "21612  1523300157  20141015T000000  325000.0         2       0.75   \n",
       "\n",
       "       sqft_living  sqft_lot  floors  waterfront  view  ...  grade  \\\n",
       "0             1180      5650     1.0           0     0  ...      7   \n",
       "1             2570      7242     2.0           0     0  ...      7   \n",
       "2              770     10000     1.0           0     0  ...      6   \n",
       "3             1960      5000     1.0           0     0  ...      7   \n",
       "4             1680      8080     1.0           0     0  ...      8   \n",
       "...            ...       ...     ...         ...   ...  ...    ...   \n",
       "21608         1530      1131     3.0           0     0  ...      8   \n",
       "21609         2310      5813     2.0           0     0  ...      8   \n",
       "21610         1020      1350     2.0           0     0  ...      7   \n",
       "21611         1600      2388     2.0           0     0  ...      8   \n",
       "21612         1020      1076     2.0           0     0  ...      7   \n",
       "\n",
       "       sqft_above  sqft_basement  yr_built  yr_renovated  zipcode      lat  \\\n",
       "0            1180              0      1955             0    98178  47.5112   \n",
       "1            2170            400      1951          1991    98125  47.7210   \n",
       "2             770              0      1933             0    98028  47.7379   \n",
       "3            1050            910      1965             0    98136  47.5208   \n",
       "4            1680              0      1987             0    98074  47.6168   \n",
       "...           ...            ...       ...           ...      ...      ...   \n",
       "21608        1530              0      2009             0    98103  47.6993   \n",
       "21609        2310              0      2014             0    98146  47.5107   \n",
       "21610        1020              0      2009             0    98144  47.5944   \n",
       "21611        1600              0      2004             0    98027  47.5345   \n",
       "21612        1020              0      2008             0    98144  47.5941   \n",
       "\n",
       "          long  sqft_living15  sqft_lot15  \n",
       "0     -122.257           1340        5650  \n",
       "1     -122.319           1690        7639  \n",
       "2     -122.233           2720        8062  \n",
       "3     -122.393           1360        5000  \n",
       "4     -122.045           1800        7503  \n",
       "...        ...            ...         ...  \n",
       "21608 -122.346           1530        1509  \n",
       "21609 -122.362           1830        7200  \n",
       "21610 -122.299           1020        2007  \n",
       "21611 -122.069           1410        1287  \n",
       "21612 -122.299           1020        1357  \n",
       "\n",
       "[21613 rows x 21 columns]"
      ]
     },
     "execution_count": 2,
     "metadata": {},
     "output_type": "execute_result"
    }
   ],
   "source": [
    "import os\n",
    "notebook_path = os.path.abspath(\"Notebook.ipynb\")    # получить \"точку отсчета\" для поиска файла\n",
    "data_csv = os.path.join(os.path.dirname(notebook_path), \"data/kc_house_data.csv\")\n",
    "df = pd.read_csv(data_csv)\n",
    "df"
   ]
  },
  {
   "cell_type": "markdown",
   "metadata": {},
   "source": [
    "## Простая линейная регрессия"
   ]
  },
  {
   "cell_type": "code",
   "execution_count": 3,
   "metadata": {},
   "outputs": [],
   "source": [
    "# разделить независимую и зависимую переменные / train и test\n",
    "from sklearn.model_selection import train_test_split\n",
    "Y = df['price'].copy()\n",
    "X = df[['bathrooms']].copy()\n",
    "# X = df.drop(['id','date', 'price'],axis=1)\n",
    "X_train, X_test, y_train, y_test = train_test_split(X, Y, test_size=0.33, random_state=42)"
   ]
  },
  {
   "cell_type": "code",
   "execution_count": 4,
   "metadata": {},
   "outputs": [
    {
     "name": "stdout",
     "output_type": "stream",
     "text": [
      "Coefficients:  [246883.4293257]\n",
      "Intercept:  16068.776681512303\n"
     ]
    }
   ],
   "source": [
    "# создать объект линейной регрессии\n",
    "simple_regr = linear_model.LinearRegression()\n",
    "\n",
    "# обучить модель\n",
    "simple_regr.fit(X_train, y_train)\n",
    "\n",
    "# вывести результаты обучения\n",
    "print('Coefficients: ', simple_regr.coef_)\n",
    "print('Intercept: ', simple_regr.intercept_)"
   ]
  },
  {
   "cell_type": "code",
   "execution_count": 15,
   "metadata": {},
   "outputs": [
    {
     "data": {
      "text/plain": [
       "Text(0, 0.5, 'price')"
      ]
     },
     "execution_count": 15,
     "metadata": {},
     "output_type": "execute_result"
    },
    {
     "data": {
      "image/png": "[encoded data removed]",
      "text/plain": [
       "<Figure size 432x288 with 1 Axes>"
      ]
     },
     "metadata": {
      "needs_background": "light"
     },
     "output_type": "display_data"
    }
   ],
   "source": [
    "plt.scatter(X_train, y_train,  color='red')\n",
    "plt.scatter(X_test, y_test,  color='yellow', alpha=0.5)\n",
    "\n",
    "plt.plot(X_train, simple_regr.coef_[0]*X_train + simple_regr.intercept_, '-g', linewidth=6)\n",
    "plt.xlabel(\"bathrooms\", fontsize=20)\n",
    "plt.ylabel(\"price\", fontsize=20)"
   ]
  },
  {
   "cell_type": "code",
   "execution_count": 9,
   "metadata": {},
   "outputs": [
    {
     "name": "stdout",
     "output_type": "stream",
     "text": [
      "R2: 0.26668331592853456\n",
      "MSE: 109800514141.87013\n",
      "MAE: 331361.60631833936\n"
     ]
    }
   ],
   "source": [
    "# использовать обученную модель для предсказания на test выборке\n",
    "y_predicted = simple_regr.predict(X_test)\n",
    "\n",
    "# вывести результаты оценки предсказания\n",
    "print(f'R2: {r2_score(y_test, y_predicted)}')\n",
    "print(f\"MSE: {mean_squared_error(y_test, y_predicted, squared=True)}\")\n",
    "print(f\"MAE: {mean_squared_error(y_test, y_predicted, squared=False)}\")"
   ]
  },
  {
   "cell_type": "markdown",
   "metadata": {},
   "source": [
    "## Полиномиальная регрессия (квадратичная) 2D"
   ]
  },
  {
   "cell_type": "code",
   "execution_count": 14,
   "metadata": {},
   "outputs": [
    {
     "name": "stdout",
     "output_type": "stream",
     "text": [
      "Coefficients:  [      0.         -200582.6213426    97645.53838961]\n",
      "Intercept:  468297.37656960275\n",
      "R2: 0.30494065025874306\n",
      "MSE: 104072190935.26907\n",
      "MAE: 322602.21780897456\n"
     ]
    },
    {
     "data": {
      "image/png": "[encoded data removed]",
      "text/plain": [
       "<Figure size 432x288 with 1 Axes>"
      ]
     },
     "metadata": {
      "needs_background": "light"
     },
     "output_type": "display_data"
    }
   ],
   "source": [
    "poly = PolynomialFeatures(degree=2)\n",
    "X_train_poly = poly.fit_transform(X_train)\n",
    "\n",
    "poly_regr = linear_model.LinearRegression()\n",
    "poly_regr.fit(X_train_poly, y_train)\n",
    "\n",
    "# The coefficients\n",
    "print('Coefficients: ', poly_regr.coef_)\n",
    "print('Intercept: ', poly_regr.intercept_)\n",
    "\n",
    "plt.scatter(X_train, y_train,  color='blue')\n",
    "plt.scatter(X_test, y_test,  color='yellow', alpha=0.5)\n",
    "\n",
    "XX = np.arange(0.0, 10.0, 0.1)\n",
    "yy = poly_regr.intercept_+ poly_regr.coef_[1]*XX+ poly_regr.coef_[2]*np.power(XX, 2)\n",
    "plt.plot(XX, yy, '-r' )\n",
    "plt.xlabel(\"bathrooms\")\n",
    "plt.ylabel(\"price\")\n",
    "\n",
    "X_test_poly = poly.fit_transform(X_test)\n",
    "y_predicted = poly_regr.predict(X_test_poly)\n",
    "\n",
    "# вывести результаты оценки предсказания\n",
    "print(f'R2: {r2_score(y_test, y_predicted)}')\n",
    "print(f\"MSE: {mean_squared_error(y_test, y_predicted, squared=True)}\")\n",
    "print(f\"MAE: {mean_squared_error(y_test, y_predicted, squared=False)}\")"
   ]
  },
  {
   "cell_type": "markdown",
   "metadata": {},
   "source": [
    "## Полиномиальная регрессия (кубическая) 2D"
   ]
  },
  {
   "cell_type": "code",
   "execution_count": 13,
   "metadata": {},
   "outputs": [
    {
     "name": "stdout",
     "output_type": "stream",
     "text": [
      "Coefficients:  [    0.         42952.31759297  -270.58269749 11377.63552076]\n",
      "Intercept:  296303.8030869135\n",
      "R2: 0.30494065025874306\n",
      "MSE: 104072190935.26907\n",
      "MAE: 322602.21780897456\n"
     ]
    },
    {
     "data": {
      "image/png": "[encoded data removed]",
      "text/plain": [
       "<Figure size 432x288 with 1 Axes>"
      ]
     },
     "metadata": {
      "needs_background": "light"
     },
     "output_type": "display_data"
    }
   ],
   "source": [
    "poly3 = PolynomialFeatures(degree=3)\n",
    "X_train_poly3 = poly3.fit_transform(X_train)\n",
    "cubic_regr = linear_model.LinearRegression()\n",
    "y3_train = cubic_regr.fit(X_train_poly3, y_train)\n",
    "\n",
    "# The coefficients\n",
    "print ('Coefficients: ', cubic_regr.coef_)\n",
    "print ('Intercept: ',cubic_regr.intercept_)\n",
    "\n",
    "plt.scatter(X_train, y_train,  color='blue')\n",
    "plt.scatter(X_test, y_test,  color='yellow', alpha=0.5)\n",
    "\n",
    "XX = np.arange(0.0, 10.0, 0.1)\n",
    "yy = cubic_regr.intercept_+ cubic_regr.coef_[1]*XX + cubic_regr.coef_[2]*np.power(XX, 2) + cubic_regr.coef_[3]*np.power(XX, 3)\n",
    "plt.plot(XX, yy, '-r' )\n",
    "plt.xlabel(\"bathrooms\")\n",
    "plt.ylabel(\"price\")\n",
    "\n",
    "test_x_poly3 = poly3.fit_transform(X_test)\n",
    "y3_predicted = cubic_regr.predict(test_x_poly3)\n",
    "\n",
    "# вывести результаты оценки предсказания\n",
    "print(f'R2: {r2_score(y_test, y_predicted)}')\n",
    "print(f\"MSE: {mean_squared_error(y_test, y_predicted, squared=True)}\")\n",
    "print(f\"MAE: {mean_squared_error(y_test, y_predicted, squared=False)}\")"
   ]
  },
  {
   "cell_type": "markdown",
   "metadata": {},
   "source": [
    "## Множественная линейная регрессия (2D)"
   ]
  },
  {
   "cell_type": "code",
   "execution_count": null,
   "metadata": {},
   "outputs": [],
   "source": [
    "# выбрать даннные для обучения / предсказания\n",
    "columns = ['bathrooms','sqft_living15']\n",
    "\n",
    "# разделить независимую и зависимую переменные / train и test\n",
    "X_train = np.asanyarray(train[columns])\n",
    "y_train = np.asanyarray(train[['price']])\n",
    "\n",
    "X_test = np.asanyarray(test[columns])\n",
    "y_test = np.asanyarray(test[['price']])"
   ]
  },
  {
   "cell_type": "code",
   "execution_count": null,
   "metadata": {},
   "outputs": [],
   "source": [
    "# создать объект линейной регрессии\n",
    "multiple_regr = linear_model.LinearRegression()\n",
    "\n",
    "# разделить независимую и зависимую переменные\n",
    "X_train = np.asanyarray(train[columns])\n",
    "y_train = np.asanyarray(train[['price']])\n",
    "\n",
    "# обучить модель\n",
    "multiple_regr.fit(X_train, y_train)\n",
    "\n",
    "# вывести результаты обучения\n",
    "print('Coefficients: ', multiple_regr.coef_)\n",
    "print('Intercept: ', multiple_regr.intercept_)"
   ]
  },
  {
   "cell_type": "code",
   "execution_count": null,
   "metadata": {},
   "outputs": [],
   "source": [
    "from mpl_toolkits import mplot3d\n",
    "from mpl_toolkits.mplot3d import Axes3D\n",
    "# Creating figure\n",
    "fig = plt.figure(figsize = (15, 10))\n",
    "\n",
    "# ax = plt.axes(projection =\"3d\")\n",
    "ax = Axes3D(fig, azim=-100, elev=15)\n",
    "\n",
    "# Creating plot\n",
    "ax.scatter3D(train.bathrooms, \n",
    "             train.sqft_living15, \n",
    "             y_train, \n",
    "             c = y_train, \n",
    "             marker='X', \n",
    "             cmap='jet',    # https://matplotlib.org/3.2.1/tutorials/colors/colormaps.html\n",
    "             s=150,\n",
    "            facecolor='black')\n",
    "ax.set_xlabel('bathrooms', fontsize=20)\n",
    "ax.set_ylabel('sqft_living15', fontsize=20)\n",
    "ax.set_zlabel('price', fontsize=20)\n",
    "\n",
    "xspan = np.linspace(train.bathrooms.min(), train.bathrooms.max())\n",
    "yspan = np.linspace(train.sqft_living15.min(), train.sqft_living15.max())\n",
    "xspan, yspan = np.meshgrid(xspan, yspan)\n",
    "\n",
    "Z = multiple_regr.intercept_[0] + multiple_regr.coef_[0][0] * xspan\n",
    "+ multiple_regr.coef_[0][1] * yspan\n",
    "\n",
    "surf = ax.plot_surface(xspan, yspan, Z, cmap='jet', alpha=0.4, linewidth=0)"
   ]
  },
  {
   "cell_type": "code",
   "execution_count": null,
   "metadata": {},
   "outputs": [],
   "source": [
    "# использовать обученную модель для предсказания на test выборке\n",
    "y_predicted = multiple_regr.predict(test[columns])\n",
    "X_test = np.asanyarray(test[columns])\n",
    "y_test = np.asanyarray(test[['price']])\n",
    "\n",
    "# вывести результаты оценки предсказания\n",
    "print(f'R2: {r2_score(y_test, y_predicted)}')\n",
    "print(f\"MSE: {mean_squared_error(y_test, y_predicted, squared=True)}\")\n",
    "print(f\"MAE: {mean_squared_error(y_test, y_predicted, squared=False)}\")"
   ]
  },
  {
   "cell_type": "markdown",
   "metadata": {},
   "source": [
    "## Множественная линейная регрессия (N-D)"
   ]
  },
  {
   "cell_type": "code",
   "execution_count": 17,
   "metadata": {},
   "outputs": [],
   "source": [
    "# выбрать даннные для обучения / предсказания\n",
    "columns = ['bathrooms', 'grade', 'condition', 'yr_built', 'sqft_living15']\n",
    "\n",
    "Y = df['price'].copy()\n",
    "X = df[['bathrooms', 'grade', 'condition', 'yr_built', 'sqft_living15']].copy()\n",
    "#X = df.drop(['CO2EMISSIONS', 'MAKE', 'MODEL', 'VEHICLECLASS', 'TRANSMISSION', 'FUELTYPE'], axis=1)\n",
    "X_train, X_test, y_train, y_test = train_test_split(X, Y, test_size=0.33, random_state=42)"
   ]
  },
  {
   "cell_type": "code",
   "execution_count": 19,
   "metadata": {},
   "outputs": [
    {
     "name": "stdout",
     "output_type": "stream",
     "text": [
      "Coefficients:  [ 1.20556172e+05  1.63952411e+05  1.57464900e+04 -4.43578683e+03\n",
      "  9.35879178e+01]\n",
      "Intercept:  7532247.26180017\n",
      "R2: 0.5685313831173343\n",
      "MSE: 64604388525.246346\n",
      "MAE: 254173.9336069817\n"
     ]
    }
   ],
   "source": [
    "# создать объект линейной регрессии\n",
    "multiple_regr = linear_model.LinearRegression()\n",
    "\n",
    "# обучить модель\n",
    "multiple_regr.fit(X_train, y_train)\n",
    "\n",
    "# вывести результаты обучения\n",
    "print('Coefficients: ', multiple_regr.coef_)\n",
    "print('Intercept: ', multiple_regr.intercept_)\n",
    "\n",
    "# использовать обученную модель для предсказания на test выборке\n",
    "y_predicted = multiple_regr.predict(X_test)\n",
    "\n",
    "# вывести результаты оценки предсказания\n",
    "print(f'R2: {r2_score(y_test, y_predicted)}')\n",
    "print(f\"MSE: {mean_squared_error(y_test, y_predicted, squared=True)}\")\n",
    "print(f\"MAE: {mean_squared_error(y_test, y_predicted, squared=False)}\")"
   ]
  },
  {
   "cell_type": "markdown",
   "metadata": {},
   "source": [
    "## Обучение модели (Train) - XGBoost for Regression"
   ]
  },
  {
   "cell_type": "code",
   "execution_count": 20,
   "metadata": {},
   "outputs": [],
   "source": [
    "# разделить независимую и зависимую переменные / train и test\n",
    "from sklearn.model_selection import train_test_split\n",
    "Y = df['price'].copy()\n",
    "X = df.drop(['id','date', 'price'],axis=1)\n",
    "X_train, X_test, y_train, y_test = train_test_split(X, Y, test_size=0.33, random_state=42)"
   ]
  },
  {
   "cell_type": "code",
   "execution_count": null,
   "metadata": {},
   "outputs": [],
   "source": [
    "xgb_r = xg.XGBRegressor(#objective ='reg:linear', \n",
    "                  n_estimators=900,learning_rate=0.05,max_depth=5) \n",
    "\n",
    "# Fitting the model \n",
    "xgb_r.fit(X_train, y_train) \n",
    "\n",
    "# Predict the model \n",
    "y_predicted = xgb_r.predict(X_test) \n",
    "\n",
    "# вывести результаты оценки предсказания\n",
    "print(f'R2: {r2_score(y_test, y_predicted)}')\n",
    "print(f\"MSE: {mean_squared_error(y_test, y_predicted, squared=True)}\")\n",
    "print(f\"MAE: {mean_squared_error(y_test, y_predicted, squared=False)}\")"
   ]
  },
  {
   "cell_type": "markdown",
   "metadata": {},
   "source": [
    "## Полиномиальная регрессия (квадратичная) N-D"
   ]
  },
  {
   "cell_type": "code",
   "execution_count": null,
   "metadata": {},
   "outputs": [],
   "source": [
    "poly = PolynomialFeatures(degree=2)\n",
    "X_train_poly = poly.fit_transform(X_train)\n",
    "\n",
    "poly_regr = linear_model.LinearRegression()\n",
    "poly_regr.fit(X_train_poly, y_train)\n",
    "\n",
    "# The coefficients\n",
    "print('Coefficients: ', poly_regr.coef_)\n",
    "print('Intercept: ', poly_regr.intercept_)\n",
    "\n",
    "X_test_poly = poly.fit_transform(X_test)\n",
    "y_predicted = poly_regr.predict(X_test_poly)\n",
    "\n",
    "# вывести результаты оценки предсказания\n",
    "print(f'R2: {r2_score(y_test, y_predicted)}')\n",
    "print(f\"MSE: {mean_squared_error(y_test, y_predicted, squared=True)}\")\n",
    "print(f\"MAE: {mean_squared_error(y_test, y_predicted, squared=False)}\")"
   ]
  },
  {
   "cell_type": "markdown",
   "metadata": {},
   "source": [
    "## Полиномиальная регрессия (4-я степень) N-D"
   ]
  },
  {
   "cell_type": "code",
   "execution_count": null,
   "metadata": {},
   "outputs": [],
   "source": [
    "poly3 = PolynomialFeatures(degree=4)\n",
    "X_train_poly3 = poly3.fit_transform(X_train)\n",
    "cubic_regr = linear_model.LinearRegression()\n",
    "cubic_regr.fit(X_train_poly3, y_train)\n",
    "\n",
    "# The coefficients\n",
    "print ('Coefficients: ', cubic_regr.coef_)\n",
    "print ('Intercept: ',cubic_regr.intercept_)\n",
    "\n",
    "test_x_poly = poly3.fit_transform(X_test)\n",
    "y_predicted = cubic_regr.predict(test_x_poly)\n",
    "\n",
    "# вывести результаты оценки предсказания\n",
    "print(f'R2: {r2_score(y_test, y_predicted)}')\n",
    "print(f\"MSE: {mean_squared_error(y_test, y_predicted, squared=True)}\")\n",
    "print(f\"MAE: {mean_squared_error(y_test, y_predicted, squared=False)}\")"
   ]
  },
  {
   "cell_type": "code",
   "execution_count": null,
   "metadata": {},
   "outputs": [],
   "source": []
  }
 ],
 "metadata": {
  "kernelspec": {
   "display_name": "Python 3",
   "language": "python",
   "name": "python3"
  },
  "language_info": {
   "codemirror_mode": {
    "name": "ipython",
    "version": 3
   },
   "file_extension": ".py",
   "mimetype": "text/x-python",
   "name": "python",
   "nbconvert_exporter": "python",
   "pygments_lexer": "ipython3",
   "version": "3.8.5"
  }
 },
 "nbformat": 4,
 "nbformat_minor": 4
}