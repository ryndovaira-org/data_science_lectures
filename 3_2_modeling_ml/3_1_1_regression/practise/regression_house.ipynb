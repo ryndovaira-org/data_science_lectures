{
 "cells": [
  {
   "cell_type": "markdown",
   "metadata": {
    "jupyter": {
     "outputs_hidden": true
    }
   },
   "source": [
    "# Анализ и построение модели по данным о ценах на дома"
   ]
  },
  {
   "cell_type": "markdown",
   "metadata": {},
   "source": [
    "## Импорт пакетов\n",
    "- `matplotlib.pyplot` - рисование графиков\n",
    "- `pandas` - работа с таблицами\n",
    "- `numpy` - работа с матрицами\n",
    "- `linear_model` - модель линейной регрессии"
   ]
  },
  {
   "cell_type": "code",
   "execution_count": 1,
   "metadata": {},
   "outputs": [],
   "source": [
    "import matplotlib.pyplot as plt\n",
    "\n",
    "import pandas as pd\n",
    "\n",
    "import numpy as np\n",
    "\n",
    "# импортировать из пакета с моделями модель линейной регрессии\n",
    "from sklearn import linear_model\n",
    "\n",
    "from sklearn.metrics import r2_score, mean_squared_error\n",
    "\n",
    "from sklearn.preprocessing import PolynomialFeatures\n",
    "\n",
    "import xgboost as xg \n",
    "\n",
    "%matplotlib inline"
   ]
  },
  {
   "cell_type": "markdown",
   "metadata": {},
   "source": [
    "## Анализ данных\n",
    "\n",
    "`kc_house_data.csv`\n",
    "\n",
    "[Dataset source](https://www.kaggle.com/harlfoxem/housesalesprediction?select=kc_house_data.csv)"
   ]
  },
  {
   "cell_type": "markdown",
   "metadata": {},
   "source": [
    "### Загрузка данных"
   ]
  },
  {
   "cell_type": "code",
   "execution_count": 2,
   "metadata": {
    "collapsed": false,
    "jupyter": {
     "outputs_hidden": false
    },
    "pycharm": {
     "name": "#%%\n"
    }
   },
   "outputs": [],
   "source": [
    "import os\n",
    "notebook_path = os.path.abspath(\"Notebook.ipynb\")    # получить \"точку отсчета\" для поиска файла\n",
    "data_csv = os.path.join(os.path.dirname(notebook_path), \"data/kc_house_data.csv\")\n",
    "df = pd.read_csv(data_csv)"
   ]
  },
  {
   "cell_type": "markdown",
   "metadata": {},
   "source": [
    "## Подготовка данных"
   ]
  },
  {
   "cell_type": "code",
   "execution_count": 3,
   "metadata": {},
   "outputs": [
    {
     "ename": "NameError",
     "evalue": "name 'short_df' is not defined",
     "output_type": "error",
     "traceback": [
      "\u001B[0;31m---------------------------------------------------------------------------\u001B[0m",
      "\u001B[0;31mNameError\u001B[0m                                 Traceback (most recent call last)",
      "\u001B[0;32m<ipython-input-3-86ccbd678c30>\u001B[0m in \u001B[0;36m<module>\u001B[0;34m\u001B[0m\n\u001B[1;32m      1\u001B[0m \u001B[0;31m# разделить данные на train (80%) и test (20%)\u001B[0m\u001B[0;34m\u001B[0m\u001B[0;34m\u001B[0m\u001B[0;34m\u001B[0m\u001B[0m\n\u001B[1;32m      2\u001B[0m \u001B[0mmsk\u001B[0m \u001B[0;34m=\u001B[0m \u001B[0mnp\u001B[0m\u001B[0;34m.\u001B[0m\u001B[0mrandom\u001B[0m\u001B[0;34m.\u001B[0m\u001B[0mrand\u001B[0m\u001B[0;34m(\u001B[0m\u001B[0mlen\u001B[0m\u001B[0;34m(\u001B[0m\u001B[0mdf\u001B[0m\u001B[0;34m)\u001B[0m\u001B[0;34m)\u001B[0m \u001B[0;34m<\u001B[0m \u001B[0;36m0.8\u001B[0m\u001B[0;34m\u001B[0m\u001B[0;34m\u001B[0m\u001B[0m\n\u001B[0;32m----> 3\u001B[0;31m \u001B[0mtrain\u001B[0m \u001B[0;34m=\u001B[0m \u001B[0mshort_df\u001B[0m\u001B[0;34m[\u001B[0m\u001B[0mmsk\u001B[0m\u001B[0;34m]\u001B[0m\u001B[0;34m\u001B[0m\u001B[0;34m\u001B[0m\u001B[0m\n\u001B[0m\u001B[1;32m      4\u001B[0m \u001B[0mtest\u001B[0m \u001B[0;34m=\u001B[0m \u001B[0mshort_df\u001B[0m\u001B[0;34m[\u001B[0m\u001B[0;34m~\u001B[0m\u001B[0mmsk\u001B[0m\u001B[0;34m]\u001B[0m\u001B[0;34m\u001B[0m\u001B[0;34m\u001B[0m\u001B[0m\n",
      "\u001B[0;31mNameError\u001B[0m: name 'short_df' is not defined"
     ]
    }
   ],
   "source": [
    "# разделить данные на train (80%) и test (20%)\n",
    "msk = np.random.rand(len(df)) < 0.8\n",
    "train = short_df[msk]\n",
    "test = short_df[~msk]"
   ]
  },
  {
   "cell_type": "markdown",
   "metadata": {},
   "source": [
    "## Простая линейная регрессия"
   ]
  },
  {
   "cell_type": "code",
   "execution_count": null,
   "metadata": {},
   "outputs": [],
   "source": [
    "# создать объект линейной регрессии\n",
    "simple_regr = linear_model.LinearRegression()\n",
    "\n",
    "# разделить независимую и зависимую переменные\n",
    "X_train = np.asanyarray(train[['bathrooms']])\n",
    "y_train = np.asanyarray(train[['price']])\n",
    "\n",
    "# обучить модель\n",
    "simple_regr.fit(X_train, y_train)\n",
    "\n",
    "# вывести результаты обучения\n",
    "print('Coefficients: ', simple_regr.coef_)\n",
    "print('Intercept: ',simple_regr.intercept_)"
   ]
  },
  {
   "cell_type": "code",
   "execution_count": null,
   "metadata": {},
   "outputs": [],
   "source": [
    "plt.scatter(train.bathrooms, train.price,  color='red')\n",
    "plt.plot(X_train, simple_regr.coef_[0][0]*X_train + simple_regr.intercept_[0], '-g', linewidth=6)\n",
    "plt.xlabel(\"bathrooms\", fontsize=20)\n",
    "plt.ylabel(\"price\", fontsize=20)"
   ]
  },
  {
   "cell_type": "code",
   "execution_count": null,
   "metadata": {},
   "outputs": [],
   "source": [
    "# использовать обученную модель для предсказания на test выборке\n",
    "y_predicted = simple_regr.predict(test[['bathrooms']])\n",
    "X_test = np.asanyarray(test[['bathrooms']])\n",
    "y_test = np.asanyarray(test[['price']])\n",
    "\n",
    "# вывести результаты оценки предсказания\n",
    "print(f'R2: {r2_score(y_test, y_predicted)}')\n",
    "print(f\"MSE: {mean_squared_error(y_test, y_predicted, squared=True)}\")\n",
    "print(f\"MAE: {mean_squared_error(y_test, y_predicted, squared=False)}\")"
   ]
  },
  {
   "cell_type": "markdown",
   "metadata": {},
   "source": [
    "## Полиномиальная регрессия (квадратичная) 2D"
   ]
  },
  {
   "cell_type": "code",
   "execution_count": null,
   "metadata": {},
   "outputs": [],
   "source": [
    "X_train = np.asanyarray(train[['bathrooms']])\n",
    "y_train = np.asanyarray(train[['price']])\n",
    "\n",
    "X_test = np.asanyarray(test[['bathrooms']])\n",
    "y_test = np.asanyarray(test[['price']])\n",
    "\n",
    "\n",
    "poly = PolynomialFeatures(degree=2)\n",
    "X_train_poly = poly.fit_transform(X_train)\n",
    "\n",
    "poly_regr = linear_model.LinearRegression()\n",
    "poly_regr.fit(X_train_poly, y_train)\n",
    "\n",
    "# The coefficients\n",
    "print('Coefficients: ', poly_regr.coef_)\n",
    "print('Intercept: ', poly_regr.intercept_)\n",
    "\n",
    "plt.scatter(train.bathrooms, train.price,  color='blue')\n",
    "XX = np.arange(0.0, 10.0, 0.1)\n",
    "yy = poly_regr.intercept_[0]+ poly_regr.coef_[0][1]*XX+ poly_regr.coef_[0][2]*np.power(XX, 2)\n",
    "plt.plot(XX, yy, '-r' )\n",
    "plt.xlabel(\"bathrooms\")\n",
    "plt.ylabel(\"price\")\n",
    "\n",
    "X_test_poly = poly.fit_transform(X_test)\n",
    "y_predicted = poly_regr.predict(X_test_poly)\n",
    "\n",
    "# вывести результаты оценки предсказания\n",
    "print(f'R2: {r2_score(y_test, y_predicted)}')\n",
    "print(f\"MSE: {mean_squared_error(y_test, y_predicted, squared=True)}\")\n",
    "print(f\"MAE: {mean_squared_error(y_test, y_predicted, squared=False)}\")"
   ]
  },
  {
   "cell_type": "markdown",
   "metadata": {},
   "source": [
    "## Полиномиальная регрессия (кубическая) 2D"
   ]
  },
  {
   "cell_type": "code",
   "execution_count": null,
   "metadata": {},
   "outputs": [],
   "source": [
    "poly3 = PolynomialFeatures(degree=3)\n",
    "X_train_poly3 = poly3.fit_transform(X_train)\n",
    "cubic_regr = linear_model.LinearRegression()\n",
    "y3_train = cubic_regr.fit(X_train_poly3, y_train)\n",
    "\n",
    "# The coefficients\n",
    "print ('Coefficients: ', cubic_regr.coef_)\n",
    "print ('Intercept: ',cubic_regr.intercept_)\n",
    "\n",
    "plt.scatter(train.bathrooms, train.price,  color='blue')\n",
    "XX = np.arange(0.0, 10.0, 0.1)\n",
    "yy = cubic_regr.intercept_[0]+ cubic_regr.coef_[0][1]*XX + cubic_regr.coef_[0][2]*np.power(XX, 2) + cubic_regr.coef_[0][3]*np.power(XX, 3)\n",
    "plt.plot(XX, yy, '-r' )\n",
    "plt.xlabel(\"bathrooms\")\n",
    "plt.ylabel(\"price\")\n",
    "\n",
    "test_x_poly3 = poly3.fit_transform(X_test)\n",
    "y3_predicted = cubic_regr.predict(test_x_poly3)\n",
    "\n",
    "# вывести результаты оценки предсказания\n",
    "print(f'R2: {r2_score(y_test, y_predicted)}')\n",
    "print(f\"MSE: {mean_squared_error(y_test, y_predicted, squared=True)}\")\n",
    "print(f\"MAE: {mean_squared_error(y_test, y_predicted, squared=False)}\")"
   ]
  },
  {
   "cell_type": "markdown",
   "metadata": {},
   "source": [
    "## Множественная линейная регрессия (2D)"
   ]
  },
  {
   "cell_type": "code",
   "execution_count": null,
   "metadata": {},
   "outputs": [],
   "source": [
    "# выбрать даннные для обучения / предсказания\n",
    "columns = ['bathrooms','sqft_living15']\n",
    "\n",
    "# разделить независимую и зависимую переменные / train и test\n",
    "X_train = np.asanyarray(train[columns])\n",
    "y_train = np.asanyarray(train[['price']])\n",
    "\n",
    "X_test = np.asanyarray(test[columns])\n",
    "y_test = np.asanyarray(test[['price']])"
   ]
  },
  {
   "cell_type": "code",
   "execution_count": null,
   "metadata": {},
   "outputs": [],
   "source": [
    "# создать объект линейной регрессии\n",
    "multiple_regr = linear_model.LinearRegression()\n",
    "\n",
    "# разделить независимую и зависимую переменные\n",
    "X_train = np.asanyarray(train[columns])\n",
    "y_train = np.asanyarray(train[['price']])\n",
    "\n",
    "# обучить модель\n",
    "multiple_regr.fit(X_train, y_train)\n",
    "\n",
    "# вывести результаты обучения\n",
    "print('Coefficients: ', multiple_regr.coef_)\n",
    "print('Intercept: ', multiple_regr.intercept_)"
   ]
  },
  {
   "cell_type": "code",
   "execution_count": null,
   "metadata": {},
   "outputs": [],
   "source": [
    "from mpl_toolkits import mplot3d\n",
    "from mpl_toolkits.mplot3d import Axes3D\n",
    "# Creating figure\n",
    "fig = plt.figure(figsize = (15, 10))\n",
    "\n",
    "# ax = plt.axes(projection =\"3d\")\n",
    "ax = Axes3D(fig, azim=-100, elev=15)\n",
    "\n",
    "# Creating plot\n",
    "ax.scatter3D(train.bathrooms, \n",
    "             train.sqft_living15, \n",
    "             train.price, \n",
    "             c = train.price, \n",
    "             marker='X', \n",
    "             cmap='jet',    # https://matplotlib.org/3.2.1/tutorials/colors/colormaps.html\n",
    "             s=150,\n",
    "            facecolor='black')\n",
    "ax.set_xlabel('bathrooms', fontsize=20)\n",
    "ax.set_ylabel('sqft_living15', fontsize=20)\n",
    "ax.set_zlabel('price', fontsize=20)\n",
    "\n",
    "xspan = np.linspace(train.bathrooms.min(), train.bathrooms.max())\n",
    "yspan = np.linspace(train.sqft_living15.min(), train.sqft_living15.max())\n",
    "xspan, yspan = np.meshgrid(xspan, yspan)\n",
    "\n",
    "Z = multiple_regr.intercept_[0] + multiple_regr.coef_[0][0] * xspan\n",
    "+ multiple_regr.coef_[0][1] * yspan\n",
    "\n",
    "surf = ax.plot_surface(xspan, yspan, Z, cmap='jet', alpha=0.4, linewidth=0)"
   ]
  },
  {
   "cell_type": "code",
   "execution_count": null,
   "metadata": {},
   "outputs": [],
   "source": [
    "# использовать обученную модель для предсказания на test выборке\n",
    "y_predicted = multiple_regr.predict(test[columns])\n",
    "X_test = np.asanyarray(test[columns])\n",
    "y_test = np.asanyarray(test[['price']])\n",
    "\n",
    "# вывести результаты оценки предсказания\n",
    "print(f'R2: {r2_score(y_test, y_predicted)}')\n",
    "print(f\"MSE: {mean_squared_error(y_test, y_predicted, squared=True)}\")\n",
    "print(f\"MAE: {mean_squared_error(y_test, y_predicted, squared=False)}\")"
   ]
  },
  {
   "cell_type": "markdown",
   "metadata": {},
   "source": [
    "## Множественная линейная регрессия (N-D)"
   ]
  },
  {
   "cell_type": "code",
   "execution_count": null,
   "metadata": {},
   "outputs": [],
   "source": [
    "# выбрать даннные для обучения / предсказания\n",
    "columns = ['bathrooms', 'grade', 'condition', 'yr_built', 'sqft_living15']\n",
    "\n",
    "# разделить независимую и зависимую переменные / train и test\n",
    "X_train = np.asanyarray(train[columns])\n",
    "y_train = np.asanyarray(train[['price']])\n",
    "\n",
    "X_test = np.asanyarray(test[columns])\n",
    "y_test = np.asanyarray(test[['price']])"
   ]
  },
  {
   "cell_type": "code",
   "execution_count": null,
   "metadata": {},
   "outputs": [],
   "source": [
    "# создать объект линейной регрессии\n",
    "multiple_regr = linear_model.LinearRegression()\n",
    "\n",
    "# обучить модель\n",
    "multiple_regr.fit(X_train, y_train)\n",
    "\n",
    "# вывести результаты обучения\n",
    "print('Coefficients: ', multiple_regr.coef_)\n",
    "print('Intercept: ', multiple_regr.intercept_)\n",
    "\n",
    "# использовать обученную модель для предсказания на test выборке\n",
    "y_predicted = multiple_regr.predict(test[columns])\n",
    "\n",
    "# вывести результаты оценки предсказания\n",
    "print(f'R2: {r2_score(y_test, y_predicted)}')\n",
    "print(f\"MSE: {mean_squared_error(y_test, y_predicted, squared=True)}\")\n",
    "print(f\"MAE: {mean_squared_error(y_test, y_predicted, squared=False)}\")"
   ]
  },
  {
   "cell_type": "markdown",
   "metadata": {},
   "source": [
    "## Обучение модели (Train) - XGBoost for Regression"
   ]
  },
  {
   "cell_type": "code",
   "execution_count": null,
   "metadata": {},
   "outputs": [],
   "source": [
    "# разделить независимую и зависимую переменные / train и test\n",
    "from sklearn.model_selection import train_test_split\n",
    "Y = df['price'].copy()\n",
    "X = df.drop(['id','date', 'price'],axis=1)\n",
    "X_train, X_test, y_train, y_test = train_test_split(X, Y, test_size=0.33, random_state=42)"
   ]
  },
  {
   "cell_type": "code",
   "execution_count": null,
   "metadata": {},
   "outputs": [],
   "source": [
    "xgb_r = xg.XGBRegressor(#objective ='reg:linear', \n",
    "                  n_estimators=900,learning_rate=0.05,max_depth=5) \n",
    "\n",
    "# Fitting the model \n",
    "xgb_r.fit(X_train, y_train) \n",
    "\n",
    "# Predict the model \n",
    "y_predicted = xgb_r.predict(X_test) \n",
    "\n",
    "# вывести результаты оценки предсказания\n",
    "print(f'R2: {r2_score(y_test, y_predicted)}')\n",
    "print(f\"MSE: {mean_squared_error(y_test, y_predicted, squared=True)}\")\n",
    "print(f\"MAE: {mean_squared_error(y_test, y_predicted, squared=False)}\")"
   ]
  },
  {
   "cell_type": "markdown",
   "metadata": {},
   "source": [
    "## Полиномиальная регрессия (квадратичная) N-D"
   ]
  },
  {
   "cell_type": "code",
   "execution_count": null,
   "metadata": {},
   "outputs": [],
   "source": [
    "poly = PolynomialFeatures(degree=2)\n",
    "X_train_poly = poly.fit_transform(X_train)\n",
    "\n",
    "poly_regr = linear_model.LinearRegression()\n",
    "poly_regr.fit(X_train_poly, y_train)\n",
    "\n",
    "# The coefficients\n",
    "print('Coefficients: ', poly_regr.coef_)\n",
    "print('Intercept: ', poly_regr.intercept_)\n",
    "\n",
    "X_test_poly = poly.fit_transform(X_test)\n",
    "y_predicted = poly_regr.predict(X_test_poly)\n",
    "\n",
    "# вывести результаты оценки предсказания\n",
    "print(f'R2: {r2_score(y_test, y_predicted)}')\n",
    "print(f\"MSE: {mean_squared_error(y_test, y_predicted, squared=True)}\")\n",
    "print(f\"MAE: {mean_squared_error(y_test, y_predicted, squared=False)}\")"
   ]
  },
  {
   "cell_type": "markdown",
   "metadata": {},
   "source": [
    "## Полиномиальная регрессия (4-я степень) N-D"
   ]
  },
  {
   "cell_type": "code",
   "execution_count": null,
   "metadata": {},
   "outputs": [],
   "source": [
    "poly3 = PolynomialFeatures(degree=4)\n",
    "X_train_poly3 = poly3.fit_transform(X_train)\n",
    "cubic_regr = linear_model.LinearRegression()\n",
    "cubic_regr.fit(X_train_poly3, y_train)\n",
    "\n",
    "# The coefficients\n",
    "print ('Coefficients: ', cubic_regr.coef_)\n",
    "print ('Intercept: ',cubic_regr.intercept_)\n",
    "\n",
    "test_x_poly = poly3.fit_transform(X_test)\n",
    "y_predicted = cubic_regr.predict(test_x_poly)\n",
    "\n",
    "# вывести результаты оценки предсказания\n",
    "print(f'R2: {r2_score(y_test, y_predicted)}')\n",
    "print(f\"MSE: {mean_squared_error(y_test, y_predicted, squared=True)}\")\n",
    "print(f\"MAE: {mean_squared_error(y_test, y_predicted, squared=False)}\")"
   ]
  },
  {
   "cell_type": "code",
   "execution_count": null,
   "metadata": {},
   "outputs": [],
   "source": []
  }
 ],
 "metadata": {
  "kernelspec": {
   "display_name": "Python 3",
   "language": "python",
   "name": "python3"
  },
  "language_info": {
   "codemirror_mode": {
    "name": "ipython",
    "version": 3
   },
   "file_extension": ".py",
   "mimetype": "text/x-python",
   "name": "python",
   "nbconvert_exporter": "python",
   "pygments_lexer": "ipython3",
   "version": "3.8.5"
  }
 },
 "nbformat": 4,
 "nbformat_minor": 4
}