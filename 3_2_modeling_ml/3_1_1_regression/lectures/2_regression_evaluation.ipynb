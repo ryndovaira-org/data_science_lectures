{
 "cells": [
  {
   "cell_type": "markdown",
   "metadata": {},
   "source": [
    "# Метрики для оценки качества регрессионной модели"
   ]
  },
  {
   "cell_type": "markdown",
   "metadata": {},
   "source": [
    "---\n",
    "\n",
    "Литература:\n",
    "\n",
    "[Александр Дьяконов «Анализ малых данных» ГЛАВА 8. Метрики качества](https://alexanderdyakonov.files.wordpress.com/2018/10/book_08_metrics_12_blog1.pdf)\n",
    "\n",
    "\n",
    "[3 Best metrics to evaluate Regression Model?](https://towardsdatascience.com/what-are-the-best-metrics-to-evaluate-your-regression-model-418ca481755b)\n",
    "\n",
    "[Metrics for Evaluating Linear Regression Models](https://medium.com/dev-genius/metrics-for-evaluating-linear-regression-models-36df305510d9)\n",
    "\n",
    "[Как выбрать метрики для валидации результата Machine Learning](http://blog.datalytica.ru/2018/05/blog-post.html)\n",
    "\n",
    "[Metrics and scoring: quantifying the quality of predictions](https://scikit-learn.org/stable/modules/model_evaluation.html)\n",
    "\n",
    "[Коэффициент детерминации](https://edu.kpfu.ru/mod/glossary/print.php?id=35061&mode=date&hook=&sortkey=UPDATE&sortorder=desc&offset=0)\n",
    "\n",
    "\n",
    "---"
   ]
  },
  {
   "cell_type": "markdown",
   "metadata": {},
   "source": [
    "Метрики, которые выбраны для оценки алгоритмов машинного обучения, очень важны.\n",
    "\n",
    "Выбор метрик влияет на то, как измеряется и сравнивается производительность алгоритмов машинного обучения.\n",
    "\n",
    "Они влияют на то, как оценивается важность различных характеристик в результатах и окончательный выбор того, какой алгоритм выбрать."
   ]
  },
  {
   "cell_type": "markdown",
   "metadata": {},
   "source": [
    "**Пакет Python: [sklearn.metrics](https://scikit-learn.org/stable/modules/classes.html#module-sklearn.metrics)**"
   ]
  },
  {
   "cell_type": "markdown",
   "metadata": {},
   "source": [
    "Рассмотрим:\n",
    "\n",
    "- Средняя абсолютная ошибка (MAE – Mean Absolute Error / MAD – Mean Absolute Deviation)\n",
    "- Средняя квадратическая ошибка (MSE – Mean Squared Error)\n",
    "- Корень средней квадратичной ошибки (RMSE – Root Mean Squared Error / RMSD – Root Mean Square Deviation)\n",
    "- Коэффициент детерминации ($R^2$ / R-squared)\n",
    "\n",
    "**Существует множество других способов оценки**"
   ]
  },
  {
   "cell_type": "markdown",
   "metadata": {},
   "source": [
    "## Средняя абсолютная ошибка (MAE – Mean Absolute Error / MAD – Mean Absolute Deviation)"
   ]
  },
  {
   "cell_type": "markdown",
   "metadata": {},
   "source": [
    "<center><img src=\"images/MAE.png\" alt=\"MAE\" width=300 height=300\"/></center>"
   ]
  },
  {
   "cell_type": "markdown",
   "metadata": {},
   "source": [
    "* Метрика измеряет среднюю сумму абсолютной разницы между фактическим значением и прогнозируемым значением.\n",
    "\n",
    "* Это дает представление о том, насколько неправильными были прогнозы.\n",
    "\n",
    "* Мера дает представление о величине ошибки, но не дает представление о направлении.\n",
    "\n",
    "* Модуль в формуле всё так же позволяет избавиться от знаков и получить некоторую оценку расстояния от фактических до расчётных значений, которое нужно будет потом минимизировать.\n",
    "\n",
    "* Не увеличивает в разы отклонения, считающиеся выбросами (outliners). \n",
    "\n",
    "* **Чем меньше, тем точнее наше предсказание**. Оптимум достигается в точке 0, то есть предсказание идеально."
   ]
  },
  {
   "cell_type": "markdown",
   "metadata": {},
   "source": [
    "[sklearn.metrics.mean_absolute_error](https://scikit-learn.org/stable/modules/generated/sklearn.metrics.mean_absolute_error.html#sklearn.metrics.mean_absolute_error)"
   ]
  },
  {
   "cell_type": "code",
   "execution_count": 1,
   "metadata": {},
   "outputs": [],
   "source": [
    "# импорт пакета с MAE\n",
    "from sklearn.metrics import mean_absolute_error"
   ]
  },
  {
   "cell_type": "code",
   "execution_count": 2,
   "metadata": {},
   "outputs": [
    {
     "data": {
      "text/plain": [
       "0.5"
      ]
     },
     "execution_count": 2,
     "metadata": {},
     "output_type": "execute_result"
    }
   ],
   "source": [
    "# 2D\n",
    "y_true = [3, -0.5, 2, 7]\n",
    "y_pred = [2.5, 0.0, 2, 8]\n",
    "mean_absolute_error(y_true, y_pred)"
   ]
  },
  {
   "cell_type": "code",
   "execution_count": 3,
   "metadata": {},
   "outputs": [
    {
     "data": {
      "text/plain": [
       "0.75"
      ]
     },
     "execution_count": 3,
     "metadata": {},
     "output_type": "execute_result"
    }
   ],
   "source": [
    "# 3D\n",
    "y_true = [[0.5, 1], [-1, 1], [7, -6]]\n",
    "y_pred = [[0, 2], [-1, 2], [8, -5]]\n",
    "mean_absolute_error(y_true, y_pred)"
   ]
  },
  {
   "cell_type": "markdown",
   "metadata": {},
   "source": [
    "## Средняя квадратическая ошибка (MSE – Mean Squared Error)"
   ]
  },
  {
   "cell_type": "markdown",
   "metadata": {},
   "source": [
    "<center><img src=\"images/MSE.png\" alt=\"MSE\" width=300 height=300\"/></center>"
   ]
  },
  {
   "cell_type": "markdown",
   "metadata": {},
   "source": [
    "* Суть метода заключается по сути в том, чтобы минимизировать сумму квадратов отклонений фактических значений от расчётных.\n",
    "\n",
    "* Очень похожа на среднюю абсолютную ошибку в том, что она дает общее представление о величине ошибки.\n",
    "\n",
    "* Возведение в квадрат влияет на то, что существенно увеличивает те значения, которые лежат далеко от всех остальных (outliners).\n",
    "\n",
    "* **Чем меньше, тем точнее наше предсказание**. Оптимум достигается в точке 0, то ест предсказание идеально."
   ]
  },
  {
   "cell_type": "markdown",
   "metadata": {},
   "source": [
    "[sklearn.metrics.mean_squared_error](https://scikit-learn.org/stable/modules/generated/sklearn.metrics.mean_squared_error.html)"
   ]
  },
  {
   "cell_type": "code",
   "execution_count": 4,
   "metadata": {},
   "outputs": [],
   "source": [
    "# импорт пакета с MSE/RMSE\n",
    "from sklearn.metrics import mean_squared_error"
   ]
  },
  {
   "cell_type": "code",
   "execution_count": 5,
   "metadata": {},
   "outputs": [
    {
     "data": {
      "text/plain": [
       "0.375"
      ]
     },
     "execution_count": 5,
     "metadata": {},
     "output_type": "execute_result"
    }
   ],
   "source": [
    "y_true = [3, -0.5, 2, 7]\n",
    "y_pred = [2.5, 0.0, 2, 8]\n",
    "mean_squared_error(y_true, y_pred, squared=True)    # MSE"
   ]
  },
  {
   "cell_type": "markdown",
   "metadata": {},
   "source": [
    "## Корень средней квадратичной ошибки (RMSE – Root Mean Squared Error / RMSD – Root Mean Square Deviation)"
   ]
  },
  {
   "cell_type": "markdown",
   "metadata": {},
   "source": [
    "<center><img src=\"images/RMSE.png\" alt=\"RMSE\" width=400 height=400\"/></center>"
   ]
  },
  {
   "cell_type": "markdown",
   "metadata": {},
   "source": [
    "* Легко интерпретировать, поскольку он имеет те же единицы, что и исходные значения (в отличие от MSE). \n",
    "\n",
    "- Оперирует меньшими величинами по абсолютному значению, что может быть полезно для вычислений."
   ]
  },
  {
   "cell_type": "markdown",
   "metadata": {},
   "source": [
    "[sklearn.metrics.mean_squared_error](https://scikit-learn.org/stable/modules/generated/sklearn.metrics.mean_squared_error.html)"
   ]
  },
  {
   "cell_type": "code",
   "execution_count": 6,
   "metadata": {},
   "outputs": [
    {
     "data": {
      "text/plain": [
       "0.6123724356957945"
      ]
     },
     "execution_count": 6,
     "metadata": {},
     "output_type": "execute_result"
    }
   ],
   "source": [
    "y_true = [3, -0.5, 2, 7]\n",
    "y_pred = [2.5, 0.0, 2, 8]\n",
    "mean_squared_error(y_true, y_pred, squared=False)    # RMSE"
   ]
  },
  {
   "cell_type": "markdown",
   "metadata": {},
   "source": [
    "## Коэффициент детерминации ($R^2$ / R-squared)"
   ]
  },
  {
   "cell_type": "markdown",
   "metadata": {},
   "source": [
    "<center><img src=\"images/R-squared.png\" alt=\"R-squared\" width=400 height=400\"/></center>"
   ]
  },
  {
   "cell_type": "markdown",
   "metadata": {},
   "source": [
    "* Метрика указывает на достоверность соответствия набора прогнозов фактическим значениям. \n",
    "\n",
    "* Корреляция (также известная как $R$) представляет собой число от 1 до -1, где значение +1 означает, что увеличение x приводит к некоторому увеличению y, -1 означает, что увеличение x приводит к уменьшению y и 0 означает, что между x и y нет никакой связи.\n",
    "\n",
    "- Как и корреляция, $R^2$ говорит, как связаны две вещи. \n",
    "\n",
    "* **Это значение между 0 и 1**.\n",
    "    - Чем ближе значение коэффициента к 1, тем сильнее зависимость. При оценке регрессионных моделей это интерпретируется как соответствие модели данным.\n",
    "    - Для приемлемых моделей предполагается, что коэффициент детерминации должен быть хотя бы не меньше 50%.\n",
    "    - Модели с коэффициентом детерминации выше 80% можно признать достаточно хорошими.\n",
    "    - Значение коэффициента детерминации 1 означает функциональную зависимость между переменными.\n",
    "    - В общем случае $R^2$ может быть и отрицательным, это говорит о крайней неадекватности модели: простое среднее приближает лучше.\n"
   ]
  },
  {
   "cell_type": "markdown",
   "metadata": {},
   "source": [
    "[sklearn.metrics.r2_score](https://scikit-learn.org/stable/modules/generated/sklearn.metrics.r2_score.html)"
   ]
  },
  {
   "cell_type": "code",
   "execution_count": 7,
   "metadata": {},
   "outputs": [],
   "source": [
    "from sklearn.metrics import r2_score"
   ]
  },
  {
   "cell_type": "code",
   "execution_count": 8,
   "metadata": {},
   "outputs": [
    {
     "data": {
      "text/plain": [
       "0.9486081370449679"
      ]
     },
     "execution_count": 8,
     "metadata": {},
     "output_type": "execute_result"
    }
   ],
   "source": [
    "y_true = [3, -0.5, 2, 7]\n",
    "y_pred = [2.5, 0.0, 2, 8]\n",
    "r2_score(y_true, y_pred)"
   ]
  },
  {
   "cell_type": "code",
   "execution_count": 9,
   "metadata": {},
   "outputs": [
    {
     "data": {
      "text/plain": [
       "1.0"
      ]
     },
     "execution_count": 9,
     "metadata": {},
     "output_type": "execute_result"
    }
   ],
   "source": [
    "y_true = [1, 2, 3]\n",
    "y_pred = [1, 2, 3]\n",
    "r2_score(y_true, y_pred)"
   ]
  },
  {
   "cell_type": "code",
   "execution_count": 10,
   "metadata": {},
   "outputs": [
    {
     "data": {
      "text/plain": [
       "0.0"
      ]
     },
     "execution_count": 10,
     "metadata": {},
     "output_type": "execute_result"
    }
   ],
   "source": [
    "y_true = [1, 2, 3]\n",
    "y_pred = [2, 2, 2]\n",
    "r2_score(y_true, y_pred)"
   ]
  },
  {
   "cell_type": "code",
   "execution_count": 11,
   "metadata": {},
   "outputs": [
    {
     "data": {
      "text/plain": [
       "-3.0"
      ]
     },
     "execution_count": 11,
     "metadata": {},
     "output_type": "execute_result"
    }
   ],
   "source": [
    "y_true = [1, 2, 3]\n",
    "y_pred = [3, 2, 1]\n",
    "r2_score(y_true, y_pred)"
   ]
  }
 ],
 "metadata": {
  "kernelspec": {
   "display_name": "Python 3",
   "language": "python",
   "name": "python3"
  },
  "language_info": {
   "codemirror_mode": {
    "name": "ipython",
    "version": 3
   },
   "file_extension": ".py",
   "mimetype": "text/x-python",
   "name": "python",
   "nbconvert_exporter": "python",
   "pygments_lexer": "ipython3",
   "version": "3.8.5"
  }
 },
 "nbformat": 4,
 "nbformat_minor": 4
}