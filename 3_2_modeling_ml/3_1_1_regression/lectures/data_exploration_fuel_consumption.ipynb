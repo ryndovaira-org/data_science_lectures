{
 "cells": [
  {
   "cell_type": "code",
   "execution_count": null,
   "metadata": {
    "collapsed": true
   },
   "outputs": [],
   "source": [
    "\n",
    "## Импорт пакетов\n",
    "- `matplotlib.pyplot`, `pylab`, `seaborn` - рисование графиков\n",
    "- `pandas` - работа с таблицами\n",
    "- `numpy` - работа с матрицами"
   ]
  },
  {
   "cell_type": "code",
   "execution_count": null,
   "outputs": [],
   "source": [
    "import matplotlib.pyplot as plt\n",
    "import pylab as pl\n",
    "import seaborn as sns\n",
    "\n",
    "import pandas as pd\n",
    "\n",
    "import numpy as np\n",
    "\n",
    "%matplotlib inline"
   ],
   "metadata": {
    "collapsed": false,
    "pycharm": {
     "name": "#%%\n"
    }
   }
  },
  {
   "cell_type": "markdown",
   "source": [
    "## Анализ данных\n",
    "\n",
    "`FuelConsumption.csv` (Рейтинги расхода топлива):\n",
    "\n",
    "[Dataset source](https://open.canada.ca/data/en/dataset/98f1a129-f628-4ce4-b24d-6f16bf24dd64)\n",
    "\n",
    "-   **MODELYEAR** e.g. 2014\n",
    "-   **MAKE** e.g. Acura\n",
    "-   **MODEL** e.g. ILX\n",
    "-   **VEHICLE CLASS** e.g. SUV\n",
    "-   **ENGINE SIZE** e.g. 4.7\n",
    "-   **CYLINDERS** e.g 6\n",
    "-   **TRANSMISSION** e.g. A6\n",
    "-   **FUEL CONSUMPTION in CITY(L/100 km)** e.g. 9.9\n",
    "-   **FUEL CONSUMPTION in HWY (L/100 km)** e.g. 8.9\n",
    "-   **FUEL CONSUMPTION COMB (L/100 km)** e.g. 9.2\n",
    "-   **CO2 EMISSIONS (g/km)** e.g. 182   --> low --> 0\n"
   ],
   "metadata": {
    "collapsed": false
   }
  },
  {
   "cell_type": "markdown",
   "source": [
    "### Загрузка данных"
   ],
   "metadata": {
    "collapsed": false
   }
  },
  {
   "cell_type": "code",
   "execution_count": null,
   "outputs": [],
   "source": [
    "import os\n",
    "notebook_path = os.path.abspath(\"Notebook.ipynb\")    # получить \"точку отсчета\" для поиска файла\n",
    "data_csv = os.path.join(os.path.dirname(notebook_path), \"data/FuelConsumptionCo2.csv\")\n",
    "df = pd.read_csv(data_csv)\n",
    "\n",
    "# вывести первые 5 строк из таблицы\n",
    "df.head()"
   ],
   "metadata": {
    "collapsed": false,
    "pycharm": {
     "name": "#%%\n"
    }
   }
  },
  {
   "cell_type": "code",
   "execution_count": null,
   "outputs": [],
   "source": [
    "# вывести последние 5 строк таблицы\n",
    "df.tail()"
   ],
   "metadata": {
    "collapsed": false,
    "pycharm": {
     "name": "#%%\n"
    }
   }
  },
  {
   "cell_type": "code",
   "execution_count": null,
   "outputs": [],
   "source": [
    "df.info()"
   ],
   "metadata": {
    "collapsed": false,
    "pycharm": {
     "name": "#%%\n"
    }
   }
  },
  {
   "cell_type": "markdown",
   "source": [
    "### Исследование данных (Data Exploration)\n",
    "\n",
    "**По умолчанию будет выдана информация только для количественных признаков.**\n",
    "- `count` - количество элементов\n",
    "- `mean` - среднее значение\n",
    "- `std` - стандартное отклонение\n",
    "- `min` - минимальное значение\n",
    "- `25%` - нижний квартиль\n",
    "- `50%` - медиана\n",
    "- `75%` - верхний квартиль\n",
    "- `max` - максимальное значение"
   ],
   "metadata": {
    "collapsed": false
   }
  },
  {
   "cell_type": "code",
   "execution_count": null,
   "outputs": [],
   "source": [
    "# обзор Dataframe из файла FuelConsumptionCo2.csv\n",
    "df.describe()"
   ],
   "metadata": {
    "collapsed": false,
    "pycharm": {
     "name": "#%%\n"
    }
   }
  },
  {
   "cell_type": "code",
   "execution_count": null,
   "outputs": [],
   "source": [
    "# вывести первые 9 строк\n",
    "df.head(9)"
   ],
   "metadata": {
    "collapsed": false,
    "pycharm": {
     "name": "#%%\n"
    }
   }
  },
  {
   "cell_type": "code",
   "execution_count": null,
   "outputs": [],
   "source": [
    "# гистограмма\n",
    "df.hist(figsize=(10, 10))\n",
    "plt.tight_layout()\n",
    "plt.show()"
   ],
   "metadata": {
    "collapsed": false,
    "pycharm": {
     "name": "#%%\n"
    }
   }
  },
  {
   "cell_type": "code",
   "execution_count": null,
   "outputs": [],
   "source": [
    "plt.scatter(df.FUELCONSUMPTION_COMB,\n",
    "            df.CO2EMISSIONS,\n",
    "            color='green')\n",
    "plt.xlabel(\"FUELCONSUMPTION_COMB\", fontsize=20)\n",
    "plt.ylabel(\"Emission\", fontsize=20)\n",
    "plt.show()"
   ],
   "metadata": {
    "collapsed": false,
    "pycharm": {
     "name": "#%%\n"
    }
   }
  },
  {
   "cell_type": "code",
   "execution_count": null,
   "outputs": [],
   "source": [
    "plt.scatter(df.ENGINESIZE,\n",
    "            df.CO2EMISSIONS,\n",
    "            color='red')\n",
    "plt.xlabel(\"Engine size\", fontsize=20)\n",
    "plt.ylabel(\"Emission\", fontsize=20)\n",
    "plt.show()"
   ],
   "metadata": {
    "collapsed": false,
    "pycharm": {
     "name": "#%%\n"
    }
   }
  },
  {
   "cell_type": "code",
   "execution_count": null,
   "outputs": [],
   "source": [
    "plt.scatter(df.CYLINDERS,\n",
    "            df.CO2EMISSIONS,\n",
    "            color='chocolate')\n",
    "plt.xlabel(\"Cylinders\", fontsize=20)\n",
    "plt.ylabel(\"Emission\", fontsize=20)\n",
    "plt.show()"
   ],
   "metadata": {
    "collapsed": false,
    "pycharm": {
     "name": "#%%\n"
    }
   }
  },
  {
   "cell_type": "code",
   "execution_count": null,
   "outputs": [],
   "source": [
    "correlation_matrix = df.corr()\n",
    "\n",
    "plt.figure(figsize=(15, 10))\n",
    "\n",
    "ax = sns.heatmap(\n",
    "    correlation_matrix,\n",
    "    vmax=1,\n",
    "    square=True,\n",
    "    annot=True,\n",
    "    fmt='.2f',\n",
    "    cmap='GnBu',\n",
    "    cbar_kws={\"shrink\": .5},\n",
    "    robust=True\n",
    ")\n",
    "\n",
    "plt.title('Correlation Matrix of features', fontsize=20)\n",
    "plt.show()"
   ],
   "metadata": {
    "collapsed": false,
    "pycharm": {
     "name": "#%%\n"
    }
   }
  }
 ],
 "metadata": {
  "kernelspec": {
   "display_name": "Python 3",
   "language": "python",
   "name": "python3"
  },
  "language_info": {
   "codemirror_mode": {
    "name": "ipython",
    "version": 2
   },
   "file_extension": ".py",
   "mimetype": "text/x-python",
   "name": "python",
   "nbconvert_exporter": "python",
   "pygments_lexer": "ipython2",
   "version": "2.7.6"
  }
 },
 "nbformat": 4,
 "nbformat_minor": 0
}