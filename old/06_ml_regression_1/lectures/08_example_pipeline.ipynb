{
 "cells": [
  {
   "cell_type": "markdown",
   "metadata": {
    "pycharm": {
     "name": "#%% md\n"
    }
   },
   "source": [
    "# Построение модели на примере полиномиальной регрессии (polynomial regression) с использованием `sklearn.pipeline`"
   ]
  },
  {
   "cell_type": "markdown",
   "metadata": {},
   "source": [
    "## Подготовка окружения"
   ]
  },
  {
   "cell_type": "code",
   "execution_count": 1,
   "metadata": {
    "collapsed": false,
    "jupyter": {
     "outputs_hidden": false
    },
    "pycharm": {
     "name": "#%%\n"
    }
   },
   "outputs": [],
   "source": [
    "# ВНИМАНИЕ: необходимо удостовериться, что виртуальная среда выбрана правильно!\n",
    "\n",
    "# Для MacOS/Ubuntu\n",
    "# !which pip\n",
    "\n",
    "# Для Windows\n",
    "# !where pip"
   ]
  },
  {
   "cell_type": "code",
   "execution_count": 2,
   "metadata": {
    "collapsed": false,
    "jupyter": {
     "outputs_hidden": false
    },
    "pycharm": {
     "name": "#%%\n"
    }
   },
   "outputs": [],
   "source": [
    "# !conda install matplotlib numpy scikit-learn seaborn scipy -y"
   ]
  },
  {
   "cell_type": "code",
   "execution_count": 3,
   "metadata": {
    "collapsed": false,
    "jupyter": {
     "outputs_hidden": false
    },
    "pycharm": {
     "name": "#%%\n"
    }
   },
   "outputs": [
    {
     "data": {
      "text/plain": [
       "'1.19.2'"
      ]
     },
     "execution_count": 3,
     "metadata": {},
     "output_type": "execute_result"
    }
   ],
   "source": [
    "import numpy as np\n",
    "\n",
    "np.__version__"
   ]
  },
  {
   "cell_type": "code",
   "execution_count": 4,
   "metadata": {
    "collapsed": false,
    "jupyter": {
     "outputs_hidden": false
    },
    "pycharm": {
     "name": "#%%\n"
    }
   },
   "outputs": [
    {
     "data": {
      "text/plain": [
       "'1.2.3'"
      ]
     },
     "execution_count": 4,
     "metadata": {},
     "output_type": "execute_result"
    }
   ],
   "source": [
    "import pandas as pd\n",
    "\n",
    "pd.__version__"
   ]
  },
  {
   "cell_type": "code",
   "execution_count": 5,
   "metadata": {},
   "outputs": [
    {
     "data": {
      "text/plain": [
       "'1.6.2'"
      ]
     },
     "execution_count": 5,
     "metadata": {},
     "output_type": "execute_result"
    }
   ],
   "source": [
    "import scipy\n",
    "from scipy import stats\n",
    "\n",
    "scipy.__version__"
   ]
  },
  {
   "cell_type": "code",
   "execution_count": 6,
   "metadata": {
    "collapsed": false,
    "jupyter": {
     "outputs_hidden": false
    },
    "pycharm": {
     "name": "#%%\n"
    }
   },
   "outputs": [
    {
     "data": {
      "text/plain": [
       "'3.3.4'"
      ]
     },
     "execution_count": 6,
     "metadata": {},
     "output_type": "execute_result"
    }
   ],
   "source": [
    "import matplotlib\n",
    "import matplotlib.pyplot as plt\n",
    "\n",
    "matplotlib.__version__"
   ]
  },
  {
   "cell_type": "code",
   "execution_count": 7,
   "metadata": {
    "collapsed": false,
    "jupyter": {
     "outputs_hidden": false
    },
    "pycharm": {
     "name": "#%%\n"
    }
   },
   "outputs": [
    {
     "data": {
      "text/plain": [
       "'0.11.1'"
      ]
     },
     "execution_count": 7,
     "metadata": {},
     "output_type": "execute_result"
    }
   ],
   "source": [
    "import seaborn as sns\n",
    "\n",
    "sns.__version__"
   ]
  },
  {
   "cell_type": "markdown",
   "metadata": {},
   "source": [
    "## Загрузка данных\n",
    "\n",
    "[Источник (FuelConsumption)](https://open.canada.ca/data/en/dataset/98f1a129-f628-4ce4-b24d-6f16bf24dd64)"
   ]
  },
  {
   "cell_type": "code",
   "execution_count": 8,
   "metadata": {
    "collapsed": false,
    "jupyter": {
     "outputs_hidden": false
    },
    "pycharm": {
     "name": "#%%\n"
    }
   },
   "outputs": [
    {
     "data": {
      "text/html": [
       "<div>\n",
       "<style scoped>\n",
       "    .dataframe tbody tr th:only-of-type {\n",
       "        vertical-align: middle;\n",
       "    }\n",
       "\n",
       "    .dataframe tbody tr th {\n",
       "        vertical-align: top;\n",
       "    }\n",
       "\n",
       "    .dataframe thead th {\n",
       "        text-align: right;\n",
       "    }\n",
       "</style>\n",
       "<table border=\"1\" class=\"dataframe\">\n",
       "  <thead>\n",
       "    <tr style=\"text-align: right;\">\n",
       "      <th></th>\n",
       "      <th>MODELYEAR</th>\n",
       "      <th>MAKE</th>\n",
       "      <th>MODEL</th>\n",
       "      <th>VEHICLECLASS</th>\n",
       "      <th>ENGINESIZE</th>\n",
       "      <th>CYLINDERS</th>\n",
       "      <th>TRANSMISSION</th>\n",
       "      <th>FUELTYPE</th>\n",
       "      <th>FUELCONSUMPTION_CITY</th>\n",
       "      <th>FUELCONSUMPTION_HWY</th>\n",
       "      <th>FUELCONSUMPTION_COMB</th>\n",
       "      <th>FUELCONSUMPTION_COMB_MPG</th>\n",
       "      <th>CO2EMISSIONS</th>\n",
       "    </tr>\n",
       "  </thead>\n",
       "  <tbody>\n",
       "    <tr>\n",
       "      <th>0</th>\n",
       "      <td>2014</td>\n",
       "      <td>ACURA</td>\n",
       "      <td>ILX</td>\n",
       "      <td>COMPACT</td>\n",
       "      <td>2.0</td>\n",
       "      <td>4</td>\n",
       "      <td>AS5</td>\n",
       "      <td>Z</td>\n",
       "      <td>9.9</td>\n",
       "      <td>6.7</td>\n",
       "      <td>8.5</td>\n",
       "      <td>33</td>\n",
       "      <td>196</td>\n",
       "    </tr>\n",
       "    <tr>\n",
       "      <th>1</th>\n",
       "      <td>2014</td>\n",
       "      <td>ACURA</td>\n",
       "      <td>ILX</td>\n",
       "      <td>COMPACT</td>\n",
       "      <td>2.4</td>\n",
       "      <td>4</td>\n",
       "      <td>M6</td>\n",
       "      <td>Z</td>\n",
       "      <td>11.2</td>\n",
       "      <td>7.7</td>\n",
       "      <td>9.6</td>\n",
       "      <td>29</td>\n",
       "      <td>221</td>\n",
       "    </tr>\n",
       "    <tr>\n",
       "      <th>2</th>\n",
       "      <td>2014</td>\n",
       "      <td>ACURA</td>\n",
       "      <td>ILX HYBRID</td>\n",
       "      <td>COMPACT</td>\n",
       "      <td>1.5</td>\n",
       "      <td>4</td>\n",
       "      <td>AV7</td>\n",
       "      <td>Z</td>\n",
       "      <td>6.0</td>\n",
       "      <td>5.8</td>\n",
       "      <td>5.9</td>\n",
       "      <td>48</td>\n",
       "      <td>136</td>\n",
       "    </tr>\n",
       "    <tr>\n",
       "      <th>3</th>\n",
       "      <td>2014</td>\n",
       "      <td>ACURA</td>\n",
       "      <td>MDX 4WD</td>\n",
       "      <td>SUV - SMALL</td>\n",
       "      <td>3.5</td>\n",
       "      <td>6</td>\n",
       "      <td>AS6</td>\n",
       "      <td>Z</td>\n",
       "      <td>12.7</td>\n",
       "      <td>9.1</td>\n",
       "      <td>11.1</td>\n",
       "      <td>25</td>\n",
       "      <td>255</td>\n",
       "    </tr>\n",
       "    <tr>\n",
       "      <th>4</th>\n",
       "      <td>2014</td>\n",
       "      <td>ACURA</td>\n",
       "      <td>RDX AWD</td>\n",
       "      <td>SUV - SMALL</td>\n",
       "      <td>3.5</td>\n",
       "      <td>6</td>\n",
       "      <td>AS6</td>\n",
       "      <td>Z</td>\n",
       "      <td>12.1</td>\n",
       "      <td>8.7</td>\n",
       "      <td>10.6</td>\n",
       "      <td>27</td>\n",
       "      <td>244</td>\n",
       "    </tr>\n",
       "    <tr>\n",
       "      <th>...</th>\n",
       "      <td>...</td>\n",
       "      <td>...</td>\n",
       "      <td>...</td>\n",
       "      <td>...</td>\n",
       "      <td>...</td>\n",
       "      <td>...</td>\n",
       "      <td>...</td>\n",
       "      <td>...</td>\n",
       "      <td>...</td>\n",
       "      <td>...</td>\n",
       "      <td>...</td>\n",
       "      <td>...</td>\n",
       "      <td>...</td>\n",
       "    </tr>\n",
       "    <tr>\n",
       "      <th>1062</th>\n",
       "      <td>2014</td>\n",
       "      <td>VOLVO</td>\n",
       "      <td>XC60 AWD</td>\n",
       "      <td>SUV - SMALL</td>\n",
       "      <td>3.0</td>\n",
       "      <td>6</td>\n",
       "      <td>AS6</td>\n",
       "      <td>X</td>\n",
       "      <td>13.4</td>\n",
       "      <td>9.8</td>\n",
       "      <td>11.8</td>\n",
       "      <td>24</td>\n",
       "      <td>271</td>\n",
       "    </tr>\n",
       "    <tr>\n",
       "      <th>1063</th>\n",
       "      <td>2014</td>\n",
       "      <td>VOLVO</td>\n",
       "      <td>XC60 AWD</td>\n",
       "      <td>SUV - SMALL</td>\n",
       "      <td>3.2</td>\n",
       "      <td>6</td>\n",
       "      <td>AS6</td>\n",
       "      <td>X</td>\n",
       "      <td>13.2</td>\n",
       "      <td>9.5</td>\n",
       "      <td>11.5</td>\n",
       "      <td>25</td>\n",
       "      <td>264</td>\n",
       "    </tr>\n",
       "    <tr>\n",
       "      <th>1064</th>\n",
       "      <td>2014</td>\n",
       "      <td>VOLVO</td>\n",
       "      <td>XC70 AWD</td>\n",
       "      <td>SUV - SMALL</td>\n",
       "      <td>3.0</td>\n",
       "      <td>6</td>\n",
       "      <td>AS6</td>\n",
       "      <td>X</td>\n",
       "      <td>13.4</td>\n",
       "      <td>9.8</td>\n",
       "      <td>11.8</td>\n",
       "      <td>24</td>\n",
       "      <td>271</td>\n",
       "    </tr>\n",
       "    <tr>\n",
       "      <th>1065</th>\n",
       "      <td>2014</td>\n",
       "      <td>VOLVO</td>\n",
       "      <td>XC70 AWD</td>\n",
       "      <td>SUV - SMALL</td>\n",
       "      <td>3.2</td>\n",
       "      <td>6</td>\n",
       "      <td>AS6</td>\n",
       "      <td>X</td>\n",
       "      <td>12.9</td>\n",
       "      <td>9.3</td>\n",
       "      <td>11.3</td>\n",
       "      <td>25</td>\n",
       "      <td>260</td>\n",
       "    </tr>\n",
       "    <tr>\n",
       "      <th>1066</th>\n",
       "      <td>2014</td>\n",
       "      <td>VOLVO</td>\n",
       "      <td>XC90 AWD</td>\n",
       "      <td>SUV - STANDARD</td>\n",
       "      <td>3.2</td>\n",
       "      <td>6</td>\n",
       "      <td>AS6</td>\n",
       "      <td>X</td>\n",
       "      <td>14.9</td>\n",
       "      <td>10.2</td>\n",
       "      <td>12.8</td>\n",
       "      <td>22</td>\n",
       "      <td>294</td>\n",
       "    </tr>\n",
       "  </tbody>\n",
       "</table>\n",
       "<p>1067 rows × 13 columns</p>\n",
       "</div>"
      ],
      "text/plain": [
       "      MODELYEAR   MAKE       MODEL    VEHICLECLASS  ENGINESIZE  CYLINDERS  \\\n",
       "0          2014  ACURA         ILX         COMPACT         2.0          4   \n",
       "1          2014  ACURA         ILX         COMPACT         2.4          4   \n",
       "2          2014  ACURA  ILX HYBRID         COMPACT         1.5          4   \n",
       "3          2014  ACURA     MDX 4WD     SUV - SMALL         3.5          6   \n",
       "4          2014  ACURA     RDX AWD     SUV - SMALL         3.5          6   \n",
       "...         ...    ...         ...             ...         ...        ...   \n",
       "1062       2014  VOLVO    XC60 AWD     SUV - SMALL         3.0          6   \n",
       "1063       2014  VOLVO    XC60 AWD     SUV - SMALL         3.2          6   \n",
       "1064       2014  VOLVO    XC70 AWD     SUV - SMALL         3.0          6   \n",
       "1065       2014  VOLVO    XC70 AWD     SUV - SMALL         3.2          6   \n",
       "1066       2014  VOLVO    XC90 AWD  SUV - STANDARD         3.2          6   \n",
       "\n",
       "     TRANSMISSION FUELTYPE  FUELCONSUMPTION_CITY  FUELCONSUMPTION_HWY  \\\n",
       "0             AS5        Z                   9.9                  6.7   \n",
       "1              M6        Z                  11.2                  7.7   \n",
       "2             AV7        Z                   6.0                  5.8   \n",
       "3             AS6        Z                  12.7                  9.1   \n",
       "4             AS6        Z                  12.1                  8.7   \n",
       "...           ...      ...                   ...                  ...   \n",
       "1062          AS6        X                  13.4                  9.8   \n",
       "1063          AS6        X                  13.2                  9.5   \n",
       "1064          AS6        X                  13.4                  9.8   \n",
       "1065          AS6        X                  12.9                  9.3   \n",
       "1066          AS6        X                  14.9                 10.2   \n",
       "\n",
       "      FUELCONSUMPTION_COMB  FUELCONSUMPTION_COMB_MPG  CO2EMISSIONS  \n",
       "0                      8.5                        33           196  \n",
       "1                      9.6                        29           221  \n",
       "2                      5.9                        48           136  \n",
       "3                     11.1                        25           255  \n",
       "4                     10.6                        27           244  \n",
       "...                    ...                       ...           ...  \n",
       "1062                  11.8                        24           271  \n",
       "1063                  11.5                        25           264  \n",
       "1064                  11.8                        24           271  \n",
       "1065                  11.3                        25           260  \n",
       "1066                  12.8                        22           294  \n",
       "\n",
       "[1067 rows x 13 columns]"
      ]
     },
     "execution_count": 8,
     "metadata": {},
     "output_type": "execute_result"
    }
   ],
   "source": [
    "df = pd.read_csv(\"./../../data/FuelConsumptionCo2.csv\")\n",
    "df"
   ]
  },
  {
   "cell_type": "markdown",
   "metadata": {},
   "source": [
    "## Преобразование типов и очистка"
   ]
  },
  {
   "cell_type": "code",
   "execution_count": 9,
   "metadata": {},
   "outputs": [],
   "source": [
    "# удалить бессмысленную колонку\n",
    "del df['MODELYEAR']"
   ]
  },
  {
   "cell_type": "code",
   "execution_count": 10,
   "metadata": {},
   "outputs": [],
   "source": [
    "# преобразовать в правильные типы\n",
    "df.MODEL = df.MODEL.astype(\"string\")\n",
    "\n",
    "for col_name in df.select_dtypes(include='object'):\n",
    "    df[col_name] = df[col_name].astype(\"category\")"
   ]
  },
  {
   "cell_type": "code",
   "execution_count": 11,
   "metadata": {},
   "outputs": [],
   "source": [
    "df.ENGINESIZE = df.ENGINESIZE.astype(pd.CategoricalDtype(ordered=True))\n",
    "df.CYLINDERS = df.CYLINDERS.astype(pd.CategoricalDtype(ordered=True))"
   ]
  },
  {
   "cell_type": "markdown",
   "metadata": {},
   "source": [
    "## Разделение данных на `X` и `y`"
   ]
  },
  {
   "cell_type": "code",
   "execution_count": 12,
   "metadata": {},
   "outputs": [],
   "source": [
    "from sklearn.model_selection import train_test_split\n",
    "\n",
    "y = df['CO2EMISSIONS'].copy()\n",
    "X = df.loc[:, df.columns != 'CO2EMISSIONS'].copy()\n",
    "\n",
    "X_train, X_test, y_train, y_test = train_test_split(X, y, test_size=0.2)"
   ]
  },
  {
   "cell_type": "markdown",
   "metadata": {},
   "source": [
    "## Анализ и обработка выбросов"
   ]
  },
  {
   "cell_type": "code",
   "execution_count": 13,
   "metadata": {},
   "outputs": [],
   "source": [
    "def remove_outliers_iqr(data, col_name):\n",
    "    print(f\"column name: {col_name}\\n\")\n",
    "    Q1 = data[col_name].quantile(0.25)\n",
    "    Q3 = data[col_name].quantile(0.75)\n",
    "    IQR = Q3 - Q1\n",
    "    lower_fence = Q1 - 1.5 * IQR\n",
    "    upper_fence = Q3 + 1.5 * IQR\n",
    "    data_new = data[~((data[col_name] < lower_fence) |\n",
    "                      (data[col_name] > upper_fence))]\n",
    "    \n",
    "    diff_len = len(data) - len(data_new)\n",
    "    print(f\"removed: {diff_len}\")\n",
    "    \n",
    "    _, axs = plt.subplots(1, 2, figsize=(10, 2))\n",
    "    sns.boxplot(data=data_new[col_name], ax=axs[0])\n",
    "    sns.histplot(data=data_new[col_name], ax=axs[1])\n",
    "    \n",
    "    return data_new.reset_index(drop=True)"
   ]
  },
  {
   "cell_type": "code",
   "execution_count": 14,
   "metadata": {},
   "outputs": [
    {
     "name": "stdout",
     "output_type": "stream",
     "text": [
      "len(df_tmp) BEFORE: 853\n",
      "column name: FUELCONSUMPTION_CITY\n",
      "\n",
      "removed: 17\n",
      "------------------------------ \n",
      "\n",
      "column name: FUELCONSUMPTION_HWY\n",
      "\n",
      "removed: 11\n",
      "------------------------------ \n",
      "\n",
      "column name: FUELCONSUMPTION_COMB\n",
      "\n",
      "removed: 0\n",
      "------------------------------ \n",
      "\n",
      "column name: FUELCONSUMPTION_COMB_MPG\n",
      "\n",
      "removed: 15\n",
      "------------------------------ \n",
      "\n",
      "column name: CO2EMISSIONS\n",
      "\n",
      "removed: 8\n",
      "------------------------------ \n",
      "\n",
      "len(df_tmp) AFTER: 802\n"
     ]
    },
    {
     "data": {
      "image/png": "[encoded data removed]",
      "text/plain": [
       "<Figure size 720x144 with 2 Axes>"
      ]
     },
     "metadata": {
      "needs_background": "light"
     },
     "output_type": "display_data"
    },
    {
     "data": {
      "image/png": "[encoded data removed]",
      "text/plain": [
       "<Figure size 720x144 with 2 Axes>"
      ]
     },
     "metadata": {
      "needs_background": "light"
     },
     "output_type": "display_data"
    },
    {
     "data": {
      "image/png": "[encoded data removed]",
      "text/plain": [
       "<Figure size 720x144 with 2 Axes>"
      ]
     },
     "metadata": {
      "needs_background": "light"
     },
     "output_type": "display_data"
    },
    {
     "data": {
      "image/png": "[encoded data removed]",
      "text/plain": [
       "<Figure size 720x144 with 2 Axes>"
      ]
     },
     "metadata": {
      "needs_background": "light"
     },
     "output_type": "display_data"
    },
    {
     "data": {
      "image/png": "[encoded data removed]",
      "text/plain": [
       "<Figure size 720x144 with 2 Axes>"
      ]
     },
     "metadata": {
      "needs_background": "light"
     },
     "output_type": "display_data"
    }
   ],
   "source": [
    "df_tmp = X_train.join(y_train).reset_index(drop=True)\n",
    "print('len(df_tmp) BEFORE:', len(df_tmp))\n",
    "for col_name in df.select_dtypes(include=np.number):\n",
    "    df_tmp = remove_outliers_iqr(df_tmp, col_name)\n",
    "    print(\"-\"*30, '\\n')\n",
    "print('len(df_tmp) AFTER:', len(df_tmp))\n",
    "\n",
    "X_train = df_tmp.loc[:, df_tmp.columns != 'CO2EMISSIONS'].copy()\n",
    "y_train = df_tmp['CO2EMISSIONS'].copy()"
   ]
  },
  {
   "cell_type": "markdown",
   "metadata": {},
   "source": [
    "## Pipeline"
   ]
  },
  {
   "cell_type": "code",
   "execution_count": 15,
   "metadata": {},
   "outputs": [],
   "source": [
    "from sklearn.preprocessing import PolynomialFeatures\n",
    "from sklearn.preprocessing import OrdinalEncoder\n",
    "from sklearn.preprocessing import OneHotEncoder\n",
    "from sklearn.preprocessing import RobustScaler\n",
    "from sklearn.linear_model import LinearRegression\n",
    "from sklearn.compose import ColumnTransformer\n",
    "from sklearn.pipeline import Pipeline\n",
    "from sklearn.preprocessing import FunctionTransformer\n",
    "from sklearn.model_selection import GridSearchCV\n",
    "from sklearn.metrics import r2_score"
   ]
  },
  {
   "cell_type": "code",
   "execution_count": 16,
   "metadata": {},
   "outputs": [],
   "source": [
    "numeric_transformer = Pipeline(steps=[\n",
    "    ('scaler', RobustScaler())\n",
    "])"
   ]
  },
  {
   "cell_type": "code",
   "execution_count": 17,
   "metadata": {},
   "outputs": [
    {
     "data": {
      "text/plain": [
       "Pipeline(steps=[('replace',\n",
       "                 FunctionTransformer(func=<function <lambda> at 0x7fd97c216ee0>)),\n",
       "                ('encoder_ord', OrdinalEncoder())])"
      ]
     },
     "execution_count": 17,
     "metadata": {},
     "output_type": "execute_result"
    }
   ],
   "source": [
    "CYLINDERS_transformer = Pipeline(steps=[\n",
    "    ('replace', FunctionTransformer(lambda x: x.replace(to_replace=\n",
    "                                                           {3: 4, \n",
    "                                                            5: 4, \n",
    "                                                            10: 8,\n",
    "                                                            12: 8}))),\n",
    "     ('encoder_ord', OrdinalEncoder())])\n",
    "CYLINDERS_transformer"
   ]
  },
  {
   "cell_type": "code",
   "execution_count": 18,
   "metadata": {},
   "outputs": [
    {
     "data": {
      "text/plain": [
       "Pipeline(steps=[('round',\n",
       "                 FunctionTransformer(func=<function <lambda> at 0x7fd954e15ee0>)),\n",
       "                ('replace',\n",
       "                 FunctionTransformer(func=<function <lambda> at 0x7fd954e15280>)),\n",
       "                ('encoder', OrdinalEncoder())])"
      ]
     },
     "execution_count": 18,
     "metadata": {},
     "output_type": "execute_result"
    }
   ],
   "source": [
    "ENGINESIZE_transformer = Pipeline(steps=[\n",
    "    ('round', FunctionTransformer(lambda x: x.astype(float).round(0))),\n",
    "    ('replace', FunctionTransformer(lambda x: x.replace(to_replace={1: 2, \n",
    "                                                                    7: 8, \n",
    "                                                                    8: 6}))),\n",
    "    ('encoder', OrdinalEncoder())\n",
    "    ])\n",
    "ENGINESIZE_transformer"
   ]
  },
  {
   "cell_type": "code",
   "execution_count": 19,
   "metadata": {},
   "outputs": [
    {
     "data": {
      "text/plain": [
       "Pipeline(steps=[('replace',\n",
       "                 FunctionTransformer(func=<function <lambda> at 0x7fd954e2a310>)),\n",
       "                ('encoder_oh', OneHotEncoder())])"
      ]
     },
     "execution_count": 19,
     "metadata": {},
     "output_type": "execute_result"
    }
   ],
   "source": [
    "FUELTYPE_transformer = Pipeline(steps=[\n",
    "    ('replace', FunctionTransformer(lambda x: x.replace('D', 'X'))), \n",
    "    ('encoder_oh', OneHotEncoder()) \n",
    "    ])\n",
    "FUELTYPE_transformer"
   ]
  },
  {
   "cell_type": "code",
   "execution_count": 20,
   "metadata": {},
   "outputs": [],
   "source": [
    "preprocessor = ColumnTransformer(\n",
    "    transformers=[\n",
    "        ('categorical_CYLINDERS', CYLINDERS_transformer, ['CYLINDERS']),\n",
    "        ('categorical_ENGINESIZE', ENGINESIZE_transformer, ['ENGINESIZE']),\n",
    "        ('categorical_FUELTYPE', FUELTYPE_transformer, ['FUELTYPE']),\n",
    "        ('numeric_FUELCONSUMPTION_COMB_MPG', numeric_transformer, ['FUELCONSUMPTION_COMB_MPG']),\n",
    "        ('drop', 'drop', df.columns.difference(['FUELCONSUMPTION_COMB_MPG', 'CYLINDERS', 'ENGINESIZE', 'FUELTYPE', 'CO2EMISSIONS']).tolist()),\n",
    "]) "
   ]
  },
  {
   "cell_type": "code",
   "execution_count": 21,
   "metadata": {},
   "outputs": [],
   "source": [
    "pipeline = Pipeline(steps = [\n",
    "    ('preprocessor', preprocessor),\n",
    "    ('poly', PolynomialFeatures()),\n",
    "    ('model', LinearRegression())\n",
    "])"
   ]
  },
  {
   "cell_type": "code",
   "execution_count": 22,
   "metadata": {},
   "outputs": [
    {
     "name": "stdout",
     "output_type": "stream",
     "text": [
      "Best parameter (CV score=0.987):\n",
      "{'poly__degree': 2}\n"
     ]
    }
   ],
   "source": [
    "# Параметры конвейеров могут быть заданы с использованием имен параметров, разделенных __\n",
    "param_grid = {\n",
    "    'poly__degree': [1, 2, 3]\n",
    "}\n",
    "model_gcv = GridSearchCV(pipeline, param_grid, n_jobs=-1)\n",
    "model_gcv.fit(X_train, y_train)\n",
    "print(\"Best parameter (CV score=%0.3f):\" % model_gcv.best_score_)\n",
    "print(model_gcv.best_params_)"
   ]
  },
  {
   "cell_type": "code",
   "execution_count": 23,
   "metadata": {},
   "outputs": [
    {
     "data": {
      "text/html": [
       "<style>div.sk-top-container {color: black;background-color: white;}div.sk-toggleable {background-color: white;}label.sk-toggleable__label {cursor: pointer;display: block;width: 100%;margin-bottom: 0;padding: 0.2em 0.3em;box-sizing: border-box;text-align: center;}div.sk-toggleable__content {max-height: 0;max-width: 0;overflow: hidden;text-align: left;background-color: #f0f8ff;}div.sk-toggleable__content pre {margin: 0.2em;color: black;border-radius: 0.25em;background-color: #f0f8ff;}input.sk-toggleable__control:checked~div.sk-toggleable__content {max-height: 200px;max-width: 100%;overflow: auto;}div.sk-estimator input.sk-toggleable__control:checked~label.sk-toggleable__label {background-color: #d4ebff;}div.sk-label input.sk-toggleable__control:checked~label.sk-toggleable__label {background-color: #d4ebff;}input.sk-hidden--visually {border: 0;clip: rect(1px 1px 1px 1px);clip: rect(1px, 1px, 1px, 1px);height: 1px;margin: -1px;overflow: hidden;padding: 0;position: absolute;width: 1px;}div.sk-estimator {font-family: monospace;background-color: #f0f8ff;margin: 0.25em 0.25em;border: 1px dotted black;border-radius: 0.25em;box-sizing: border-box;}div.sk-estimator:hover {background-color: #d4ebff;}div.sk-parallel-item::after {content: \"\";width: 100%;border-bottom: 1px solid gray;flex-grow: 1;}div.sk-label:hover label.sk-toggleable__label {background-color: #d4ebff;}div.sk-serial::before {content: \"\";position: absolute;border-left: 1px solid gray;box-sizing: border-box;top: 2em;bottom: 0;left: 50%;}div.sk-serial {display: flex;flex-direction: column;align-items: center;background-color: white;}div.sk-item {z-index: 1;}div.sk-parallel {display: flex;align-items: stretch;justify-content: center;background-color: white;}div.sk-parallel-item {display: flex;flex-direction: column;position: relative;background-color: white;}div.sk-parallel-item:first-child::after {align-self: flex-end;width: 50%;}div.sk-parallel-item:last-child::after {align-self: flex-start;width: 50%;}div.sk-parallel-item:only-child::after {width: 0;}div.sk-dashed-wrapped {border: 1px dashed gray;margin: 0.2em;box-sizing: border-box;padding-bottom: 0.1em;background-color: white;position: relative;}div.sk-label label {font-family: monospace;font-weight: bold;background-color: white;display: inline-block;line-height: 1.2em;}div.sk-label-container {position: relative;z-index: 2;text-align: center;}div.sk-container {display: inline-block;position: relative;}</style><div class=\"sk-top-container\"><div class=\"sk-container\"><div class=\"sk-item sk-dashed-wrapped\"><div class=\"sk-label-container\"><div class=\"sk-label sk-toggleable\"><input class=\"sk-toggleable__control sk-hidden--visually\" id=\"c9fc4976-1252-42e7-bab1-8849a6f95151\" type=\"checkbox\" ><label class=\"sk-toggleable__label\" for=\"c9fc4976-1252-42e7-bab1-8849a6f95151\">Pipeline</label><div class=\"sk-toggleable__content\"><pre>Pipeline(steps=[('preprocessor',\n",
       "                 ColumnTransformer(transformers=[('categorical_CYLINDERS',\n",
       "                                                  Pipeline(steps=[('replace',\n",
       "                                                                   FunctionTransformer(func=<function <lambda> at 0x7fd97c216ee0>)),\n",
       "                                                                  ('encoder_ord',\n",
       "                                                                   OrdinalEncoder())]),\n",
       "                                                  ['CYLINDERS']),\n",
       "                                                 ('categorical_ENGINESIZE',\n",
       "                                                  Pipeline(steps=[('round',\n",
       "                                                                   FunctionTransformer(func=<function <lambda> at 0x7fd954e15ee0>)),\n",
       "                                                                  ('replace...\n",
       "                                                                  ('encoder_oh',\n",
       "                                                                   OneHotEncoder())]),\n",
       "                                                  ['FUELTYPE']),\n",
       "                                                 ('numeric_FUELCONSUMPTION_COMB_MPG',\n",
       "                                                  Pipeline(steps=[('scaler',\n",
       "                                                                   RobustScaler())]),\n",
       "                                                  ['FUELCONSUMPTION_COMB_MPG']),\n",
       "                                                 ('drop', 'drop',\n",
       "                                                  ['FUELCONSUMPTION_CITY',\n",
       "                                                   'FUELCONSUMPTION_COMB',\n",
       "                                                   'FUELCONSUMPTION_HWY',\n",
       "                                                   'MAKE', 'MODEL',\n",
       "                                                   'TRANSMISSION',\n",
       "                                                   'VEHICLECLASS'])])),\n",
       "                ('poly', PolynomialFeatures()), ('model', LinearRegression())])</pre></div></div></div><div class=\"sk-serial\"><div class=\"sk-item sk-dashed-wrapped\"><div class=\"sk-label-container\"><div class=\"sk-label sk-toggleable\"><input class=\"sk-toggleable__control sk-hidden--visually\" id=\"b97d286c-a67a-471e-9dfe-ae1a9a041756\" type=\"checkbox\" ><label class=\"sk-toggleable__label\" for=\"b97d286c-a67a-471e-9dfe-ae1a9a041756\">preprocessor: ColumnTransformer</label><div class=\"sk-toggleable__content\"><pre>ColumnTransformer(transformers=[('categorical_CYLINDERS',\n",
       "                                 Pipeline(steps=[('replace',\n",
       "                                                  FunctionTransformer(func=<function <lambda> at 0x7fd97c216ee0>)),\n",
       "                                                 ('encoder_ord',\n",
       "                                                  OrdinalEncoder())]),\n",
       "                                 ['CYLINDERS']),\n",
       "                                ('categorical_ENGINESIZE',\n",
       "                                 Pipeline(steps=[('round',\n",
       "                                                  FunctionTransformer(func=<function <lambda> at 0x7fd954e15ee0>)),\n",
       "                                                 ('replace',\n",
       "                                                  FunctionTransformer(func=<func...\n",
       "                                                  FunctionTransformer(func=<function <lambda> at 0x7fd954e2a310>)),\n",
       "                                                 ('encoder_oh',\n",
       "                                                  OneHotEncoder())]),\n",
       "                                 ['FUELTYPE']),\n",
       "                                ('numeric_FUELCONSUMPTION_COMB_MPG',\n",
       "                                 Pipeline(steps=[('scaler', RobustScaler())]),\n",
       "                                 ['FUELCONSUMPTION_COMB_MPG']),\n",
       "                                ('drop', 'drop',\n",
       "                                 ['FUELCONSUMPTION_CITY',\n",
       "                                  'FUELCONSUMPTION_COMB', 'FUELCONSUMPTION_HWY',\n",
       "                                  'MAKE', 'MODEL', 'TRANSMISSION',\n",
       "                                  'VEHICLECLASS'])])</pre></div></div></div><div class=\"sk-parallel\"><div class=\"sk-parallel-item\"><div class=\"sk-item\"><div class=\"sk-label-container\"><div class=\"sk-label sk-toggleable\"><input class=\"sk-toggleable__control sk-hidden--visually\" id=\"09cc7c1b-cc90-467a-b140-1b2ce4adf998\" type=\"checkbox\" ><label class=\"sk-toggleable__label\" for=\"09cc7c1b-cc90-467a-b140-1b2ce4adf998\">categorical_CYLINDERS</label><div class=\"sk-toggleable__content\"><pre>['CYLINDERS']</pre></div></div></div><div class=\"sk-serial\"><div class=\"sk-item\"><div class=\"sk-serial\"><div class=\"sk-item\"><div class=\"sk-estimator sk-toggleable\"><input class=\"sk-toggleable__control sk-hidden--visually\" id=\"33211178-24ed-4753-b9c3-56507f75199d\" type=\"checkbox\" ><label class=\"sk-toggleable__label\" for=\"33211178-24ed-4753-b9c3-56507f75199d\">FunctionTransformer</label><div class=\"sk-toggleable__content\"><pre>FunctionTransformer(func=<function <lambda> at 0x7fd97c216ee0>)</pre></div></div></div><div class=\"sk-item\"><div class=\"sk-estimator sk-toggleable\"><input class=\"sk-toggleable__control sk-hidden--visually\" id=\"e0db865c-ab3f-4d8e-92e6-49004a2a7ab0\" type=\"checkbox\" ><label class=\"sk-toggleable__label\" for=\"e0db865c-ab3f-4d8e-92e6-49004a2a7ab0\">OrdinalEncoder</label><div class=\"sk-toggleable__content\"><pre>OrdinalEncoder()</pre></div></div></div></div></div></div></div></div><div class=\"sk-parallel-item\"><div class=\"sk-item\"><div class=\"sk-label-container\"><div class=\"sk-label sk-toggleable\"><input class=\"sk-toggleable__control sk-hidden--visually\" id=\"859553a1-340e-4004-849c-59d2aacf605b\" type=\"checkbox\" ><label class=\"sk-toggleable__label\" for=\"859553a1-340e-4004-849c-59d2aacf605b\">categorical_ENGINESIZE</label><div class=\"sk-toggleable__content\"><pre>['ENGINESIZE']</pre></div></div></div><div class=\"sk-serial\"><div class=\"sk-item\"><div class=\"sk-serial\"><div class=\"sk-item\"><div class=\"sk-estimator sk-toggleable\"><input class=\"sk-toggleable__control sk-hidden--visually\" id=\"f96981ac-70e3-4473-95a6-debb8195f3b7\" type=\"checkbox\" ><label class=\"sk-toggleable__label\" for=\"f96981ac-70e3-4473-95a6-debb8195f3b7\">FunctionTransformer</label><div class=\"sk-toggleable__content\"><pre>FunctionTransformer(func=<function <lambda> at 0x7fd954e15ee0>)</pre></div></div></div><div class=\"sk-item\"><div class=\"sk-estimator sk-toggleable\"><input class=\"sk-toggleable__control sk-hidden--visually\" id=\"f7b43456-ff61-4162-b4a8-fab6b19a80f0\" type=\"checkbox\" ><label class=\"sk-toggleable__label\" for=\"f7b43456-ff61-4162-b4a8-fab6b19a80f0\">FunctionTransformer</label><div class=\"sk-toggleable__content\"><pre>FunctionTransformer(func=<function <lambda> at 0x7fd954e15280>)</pre></div></div></div><div class=\"sk-item\"><div class=\"sk-estimator sk-toggleable\"><input class=\"sk-toggleable__control sk-hidden--visually\" id=\"779db1cc-c5bb-4de8-ad63-82182f04b39b\" type=\"checkbox\" ><label class=\"sk-toggleable__label\" for=\"779db1cc-c5bb-4de8-ad63-82182f04b39b\">OrdinalEncoder</label><div class=\"sk-toggleable__content\"><pre>OrdinalEncoder()</pre></div></div></div></div></div></div></div></div><div class=\"sk-parallel-item\"><div class=\"sk-item\"><div class=\"sk-label-container\"><div class=\"sk-label sk-toggleable\"><input class=\"sk-toggleable__control sk-hidden--visually\" id=\"ce0ecbd2-d318-405d-9943-2a6cdcf933b4\" type=\"checkbox\" ><label class=\"sk-toggleable__label\" for=\"ce0ecbd2-d318-405d-9943-2a6cdcf933b4\">categorical_FUELTYPE</label><div class=\"sk-toggleable__content\"><pre>['FUELTYPE']</pre></div></div></div><div class=\"sk-serial\"><div class=\"sk-item\"><div class=\"sk-serial\"><div class=\"sk-item\"><div class=\"sk-estimator sk-toggleable\"><input class=\"sk-toggleable__control sk-hidden--visually\" id=\"ec1f6e5e-1624-4f49-9e71-d3f5151a9d67\" type=\"checkbox\" ><label class=\"sk-toggleable__label\" for=\"ec1f6e5e-1624-4f49-9e71-d3f5151a9d67\">FunctionTransformer</label><div class=\"sk-toggleable__content\"><pre>FunctionTransformer(func=<function <lambda> at 0x7fd954e2a310>)</pre></div></div></div><div class=\"sk-item\"><div class=\"sk-estimator sk-toggleable\"><input class=\"sk-toggleable__control sk-hidden--visually\" id=\"1148f7da-e360-48f0-97ed-2bde082256c4\" type=\"checkbox\" ><label class=\"sk-toggleable__label\" for=\"1148f7da-e360-48f0-97ed-2bde082256c4\">OneHotEncoder</label><div class=\"sk-toggleable__content\"><pre>OneHotEncoder()</pre></div></div></div></div></div></div></div></div><div class=\"sk-parallel-item\"><div class=\"sk-item\"><div class=\"sk-label-container\"><div class=\"sk-label sk-toggleable\"><input class=\"sk-toggleable__control sk-hidden--visually\" id=\"a89badc1-9d9a-486a-af95-382ccc638ef2\" type=\"checkbox\" ><label class=\"sk-toggleable__label\" for=\"a89badc1-9d9a-486a-af95-382ccc638ef2\">numeric_FUELCONSUMPTION_COMB_MPG</label><div class=\"sk-toggleable__content\"><pre>['FUELCONSUMPTION_COMB_MPG']</pre></div></div></div><div class=\"sk-serial\"><div class=\"sk-item\"><div class=\"sk-serial\"><div class=\"sk-item\"><div class=\"sk-estimator sk-toggleable\"><input class=\"sk-toggleable__control sk-hidden--visually\" id=\"b7ed7bc3-c109-4bb1-aea8-b520c24b7956\" type=\"checkbox\" ><label class=\"sk-toggleable__label\" for=\"b7ed7bc3-c109-4bb1-aea8-b520c24b7956\">RobustScaler</label><div class=\"sk-toggleable__content\"><pre>RobustScaler()</pre></div></div></div></div></div></div></div></div><div class=\"sk-parallel-item\"><div class=\"sk-item\"><div class=\"sk-label-container\"><div class=\"sk-label sk-toggleable\"><input class=\"sk-toggleable__control sk-hidden--visually\" id=\"46f04f6b-6699-4e6f-8cdb-7fc01eb14cdc\" type=\"checkbox\" ><label class=\"sk-toggleable__label\" for=\"46f04f6b-6699-4e6f-8cdb-7fc01eb14cdc\">drop</label><div class=\"sk-toggleable__content\"><pre>['FUELCONSUMPTION_CITY', 'FUELCONSUMPTION_COMB', 'FUELCONSUMPTION_HWY', 'MAKE', 'MODEL', 'TRANSMISSION', 'VEHICLECLASS']</pre></div></div></div><div class=\"sk-serial\"><div class=\"sk-item\"><div class=\"sk-estimator sk-toggleable\"><input class=\"sk-toggleable__control sk-hidden--visually\" id=\"55967798-8ace-47a2-92fe-763f6f8a7aab\" type=\"checkbox\" ><label class=\"sk-toggleable__label\" for=\"55967798-8ace-47a2-92fe-763f6f8a7aab\">drop</label><div class=\"sk-toggleable__content\"><pre>drop</pre></div></div></div></div></div></div></div></div><div class=\"sk-item\"><div class=\"sk-estimator sk-toggleable\"><input class=\"sk-toggleable__control sk-hidden--visually\" id=\"dcc87cd2-4989-44d1-a39a-72d6e1efa811\" type=\"checkbox\" ><label class=\"sk-toggleable__label\" for=\"dcc87cd2-4989-44d1-a39a-72d6e1efa811\">PolynomialFeatures</label><div class=\"sk-toggleable__content\"><pre>PolynomialFeatures()</pre></div></div></div><div class=\"sk-item\"><div class=\"sk-estimator sk-toggleable\"><input class=\"sk-toggleable__control sk-hidden--visually\" id=\"d90dc247-c0b5-4403-a780-af5540e2d202\" type=\"checkbox\" ><label class=\"sk-toggleable__label\" for=\"d90dc247-c0b5-4403-a780-af5540e2d202\">LinearRegression</label><div class=\"sk-toggleable__content\"><pre>LinearRegression()</pre></div></div></div></div></div></div></div>"
      ],
      "text/plain": [
       "Pipeline(steps=[('preprocessor',\n",
       "                 ColumnTransformer(transformers=[('categorical_CYLINDERS',\n",
       "                                                  Pipeline(steps=[('replace',\n",
       "                                                                   FunctionTransformer(func=<function <lambda> at 0x7fd97c216ee0>)),\n",
       "                                                                  ('encoder_ord',\n",
       "                                                                   OrdinalEncoder())]),\n",
       "                                                  ['CYLINDERS']),\n",
       "                                                 ('categorical_ENGINESIZE',\n",
       "                                                  Pipeline(steps=[('round',\n",
       "                                                                   FunctionTransformer(func=<function <lambda> at 0x7fd954e15ee0>)),\n",
       "                                                                  ('replace...\n",
       "                                                                  ('encoder_oh',\n",
       "                                                                   OneHotEncoder())]),\n",
       "                                                  ['FUELTYPE']),\n",
       "                                                 ('numeric_FUELCONSUMPTION_COMB_MPG',\n",
       "                                                  Pipeline(steps=[('scaler',\n",
       "                                                                   RobustScaler())]),\n",
       "                                                  ['FUELCONSUMPTION_COMB_MPG']),\n",
       "                                                 ('drop', 'drop',\n",
       "                                                  ['FUELCONSUMPTION_CITY',\n",
       "                                                   'FUELCONSUMPTION_COMB',\n",
       "                                                   'FUELCONSUMPTION_HWY',\n",
       "                                                   'MAKE', 'MODEL',\n",
       "                                                   'TRANSMISSION',\n",
       "                                                   'VEHICLECLASS'])])),\n",
       "                ('poly', PolynomialFeatures()), ('model', LinearRegression())])"
      ]
     },
     "execution_count": 23,
     "metadata": {},
     "output_type": "execute_result"
    }
   ],
   "source": [
    "from sklearn import set_config                      # to change the display\n",
    "from sklearn.utils import estimator_html_repr       # to save the diagram into HTML format\n",
    "\n",
    "# set config to diagram for visualizing the pipelines/composite estimators\n",
    "set_config(display='diagram')\n",
    "\n",
    "# saving pipeline as html format\n",
    "with open('./tmp/pipeline.html', 'w') as f:  \n",
    "    f.write(estimator_html_repr(model_gcv.best_estimator_))\n",
    "    \n",
    "# the best estimator from grid search\n",
    "model_gcv.best_estimator_"
   ]
  },
  {
   "cell_type": "code",
   "execution_count": 24,
   "metadata": {
    "pycharm": {
     "name": "#%%\n"
    }
   },
   "outputs": [
    {
     "data": {
      "text/plain": [
       "(6, 28)"
      ]
     },
     "execution_count": 24,
     "metadata": {},
     "output_type": "execute_result"
    }
   ],
   "source": [
    "model_gcv.best_estimator_['poly'].n_input_features_, model_gcv.best_estimator_['poly'].n_output_features_"
   ]
  },
  {
   "cell_type": "code",
   "execution_count": 25,
   "metadata": {},
   "outputs": [
    {
     "data": {
      "text/plain": [
       "array([[0, 0, 0, 0, 0, 0],\n",
       "       [1, 0, 0, 0, 0, 0],\n",
       "       [0, 1, 0, 0, 0, 0],\n",
       "       [0, 0, 1, 0, 0, 0],\n",
       "       [0, 0, 0, 1, 0, 0],\n",
       "       [0, 0, 0, 0, 1, 0],\n",
       "       [0, 0, 0, 0, 0, 1],\n",
       "       [2, 0, 0, 0, 0, 0],\n",
       "       [1, 1, 0, 0, 0, 0],\n",
       "       [1, 0, 1, 0, 0, 0],\n",
       "       [1, 0, 0, 1, 0, 0],\n",
       "       [1, 0, 0, 0, 1, 0],\n",
       "       [1, 0, 0, 0, 0, 1],\n",
       "       [0, 2, 0, 0, 0, 0],\n",
       "       [0, 1, 1, 0, 0, 0],\n",
       "       [0, 1, 0, 1, 0, 0],\n",
       "       [0, 1, 0, 0, 1, 0],\n",
       "       [0, 1, 0, 0, 0, 1],\n",
       "       [0, 0, 2, 0, 0, 0],\n",
       "       [0, 0, 1, 1, 0, 0],\n",
       "       [0, 0, 1, 0, 1, 0],\n",
       "       [0, 0, 1, 0, 0, 1],\n",
       "       [0, 0, 0, 2, 0, 0],\n",
       "       [0, 0, 0, 1, 1, 0],\n",
       "       [0, 0, 0, 1, 0, 1],\n",
       "       [0, 0, 0, 0, 2, 0],\n",
       "       [0, 0, 0, 0, 1, 1],\n",
       "       [0, 0, 0, 0, 0, 2]])"
      ]
     },
     "execution_count": 25,
     "metadata": {},
     "output_type": "execute_result"
    }
   ],
   "source": [
    "model_gcv.best_estimator_['poly'].powers_"
   ]
  },
  {
   "cell_type": "code",
   "execution_count": 26,
   "metadata": {},
   "outputs": [
    {
     "name": "stdout",
     "output_type": "stream",
     "text": [
      "Mean absolute error: 5.84\n",
      "Residual sum of squares (MSE): 100.40\n",
      "R2-score: 0.97\n"
     ]
    }
   ],
   "source": [
    "# оценить модель\n",
    "y_predicted = model_gcv.predict(X_test)\n",
    "\n",
    "print(\"Mean absolute error: %.2f\" % np.mean(np.absolute(y_predicted - y_test)))\n",
    "print(\"Residual sum of squares (MSE): %.2f\" % np.mean((y_predicted - y_test) ** 2))\n",
    "print(\"R2-score: %.2f\" % r2_score(y_true=y_test, y_pred=y_predicted))"
   ]
  },
  {
   "cell_type": "markdown",
   "metadata": {},
   "source": [
    "## Cross-validation\n",
    "\n",
    "[sklearn.model_selection.cross_val_score](https://scikit-learn.org/stable/modules/generated/sklearn.model_selection.cross_val_score.html)"
   ]
  },
  {
   "cell_type": "code",
   "execution_count": 27,
   "metadata": {},
   "outputs": [
    {
     "name": "stdout",
     "output_type": "stream",
     "text": [
      "scores: [0.94701161 0.97341281 0.96680829 0.91787511 0.98346472]\n",
      "0.96 score with a standard deviation of 0.02\n"
     ]
    }
   ],
   "source": [
    "from sklearn.model_selection import cross_val_score\n",
    "scores = cross_val_score(model_gcv.best_estimator_, X_test, y_test, cv=5)\n",
    "print(f\"scores: {scores}\")\n",
    "print(\"%0.2f score with a standard deviation of %0.2f\" % (scores.mean(), scores.std()))"
   ]
  }
 ],
 "metadata": {
  "kernelspec": {
   "display_name": "Python [conda env:LevelUp_DataScience] *",
   "language": "python",
   "name": "conda-env-LevelUp_DataScience-py"
  },
  "language_info": {
   "codemirror_mode": {
    "name": "ipython",
    "version": 3
   },
   "file_extension": ".py",
   "mimetype": "text/x-python",
   "name": "python",
   "nbconvert_exporter": "python",
   "pygments_lexer": "ipython3",
   "version": "3.8.3"
  }
 },
 "nbformat": 4,
 "nbformat_minor": 4
}