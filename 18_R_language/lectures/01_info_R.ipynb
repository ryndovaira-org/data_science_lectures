{
 "cells": [
  {
   "cell_type": "markdown",
   "metadata": {
    "pycharm": {
     "name": "#%% md\n"
    }
   },
   "source": [
    "# R\n",
    "\n",
    "<img src=\"images/R_logo.png\">\n"
   ]
  },
  {
   "cell_type": "markdown",
   "metadata": {},
   "source": [
    "---\n",
    "\n",
    "**Источники:**\n",
    "\n",
    "[R (язык программирования)](https://ru.wikipedia.org/wiki/R_(%D1%8F%D0%B7%D1%8B%D0%BA_%D0%BF%D1%80%D0%BE%D0%B3%D1%80%D0%B0%D0%BC%D0%BC%D0%B8%D1%80%D0%BE%D0%B2%D0%B0%D0%BD%D0%B8%D1%8F))\n",
    "\n",
    "[R Packages: A Beginner's Guide](https://www.datacamp.com/community/tutorials/r-packages-guide)\n",
    "\n",
    "[RStudio](https://ru.wikipedia.org/wiki/RStudio)\n",
    "\n",
    "[]()\n",
    "\n",
    "[]()\n",
    "\n",
    "[]()\n",
    "\n",
    "[]()\n",
    "\n",
    "[]()\n",
    "\n",
    "---"
   ]
  },
  {
   "cell_type": "markdown",
   "metadata": {
    "jupyter": {
     "outputs_hidden": false
    },
    "pycharm": {
     "name": "#%% md\n"
    }
   },
   "source": [
    "## Описание\n",
    "\n",
    "**[R](https://www.r-project.org/)** — язык программирования для **статистической обработки** данных и работы с **графикой**, а также свободная программная **среда вычислений** с открытым исходным кодом.\n",
    "\n",
    "Широко используется как статистическое программное обеспечение для анализа данных и фактически стал **стандартом для статистических программ**.\n",
    "\n",
    "**[RStudio](https://www.rstudio.com/) — свободная среда разработки программного обеспечения** с открытым исходным кодом для языка программирования R, который предназначен для статистической обработки данных и работы с графикой.\n",
    "\n",
    "RStudio доступна в двух версиях: **RStudio Desktop**, в которой программа выполняется на локальной машине как обычное приложение; и **RStudio Server**, в которой предоставляется доступ через браузер к RStudio установленной на удаленном Linux-сервере.\n",
    "\n",
    "\n"
   ]
  }
 ],
 "metadata": {
  "kernelspec": {
   "display_name": "Python 3",
   "language": "python",
   "name": "python3"
  },
  "language_info": {
   "codemirror_mode": {
    "name": "ipython",
    "version": 3
   },
   "file_extension": ".py",
   "mimetype": "text/x-python",
   "name": "python",
   "nbconvert_exporter": "python",
   "pygments_lexer": "ipython3",
   "version": "3.8.3"
  }
 },
 "nbformat": 4,
 "nbformat_minor": 4
}