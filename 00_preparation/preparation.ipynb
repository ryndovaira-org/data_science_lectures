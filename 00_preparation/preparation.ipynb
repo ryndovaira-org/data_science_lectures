{
 "cells": [
  {
   "cell_type": "markdown",
   "metadata": {},
   "source": [
    "# Установка PyCharm\n",
    "\n",
    "### Скачать и установить [PyCharm Community (бесплатная некоммерческая версия)](https://www.jetbrains.com/ru-ru/pycharm/download). \n",
    "Отметить 64-bit launcher только, если у вас имеется > 4Gb оперативной памяти (если не уверены, то не ставьте галочку).\n",
    "\n",
    "### Прочитать [инструкцию по началу работы PyCharm](https://py-charm.blogspot.com/2017/09/blog-post.html)"
   ]
  },
  {
   "cell_type": "markdown",
   "metadata": {},
   "source": [
    "# Установка Anaconda\n",
    "\n",
    "### Открыть страницу [Anaconda Individual](https://www.anaconda.com/products/individual) и установить подходящий для имеющейся ОС дистрибутив.\n",
    "\n",
    "\n",
    "<center><img src=\"images/anaconda_installers.png\" alt=\"anaconda_installers\" width=1000 height=1000\"/></center>\n"
   ]
  },
  {
   "cell_type": "markdown",
   "metadata": {},
   "source": [
    "# Регистрация на GitHub"
   ]
  },
  {
   "cell_type": "markdown",
   "metadata": {},
   "source": [
    "### Зайти на сайт [GitHub](https://github.com/)\n",
    "\n",
    "### После успешной регистрации прислать свой **username** или **email** преподавателю в Telegram ([@ryndovairina](https://t.me/ryndovairina)) для получения доступа к лекционным материалам. **Ответ придет на почту в виде приглашения в репозиторий.**\n"
   ]
  },
  {
   "cell_type": "markdown",
   "metadata": {},
   "source": [
    "# Подготовка репозитория на GitHub для домашних заданий"
   ]
  },
  {
   "cell_type": "markdown",
   "metadata": {},
   "source": [
    "### Зайти на сайт [GitHub](https://github.com/)\n",
    "\n",
    "### В правом верхнем углу нажать на свою аватарку и выбрать **Your repositories**.\n",
    "<center><img src=\"images/github_menu.png\" alt=\"github_menu\"/></center>\n",
    "\n",
    "### Нажать на **New**.\n",
    "<center><img src=\"images/github_your_repositories.png\" alt=\"github_your_repositories\"/></center>\n",
    "\n",
    "### Выбрать название для репозитория, а также можно выбрать между `Private` или `Public` репозиторием (по желанию). Нажать **Create repository**.\n",
    "<center><img src=\"images/github_create_repo.png\" alt=\"github_create_repo\"/></center>\n",
    "\n",
    "### На странице созданного репозитория скопировать его **HTTPS** (на картинке это: `https://github.com/ryndovaira/levelup_ds.git`).\n",
    "<center><img src=\"images/github_new_repo.png\" alt=\"github_new_repo\"/></center>\n",
    "\n",
    "### Открыть **PyCharm**. В верхнем меню выбрать **Git -> Clone**.\n",
    "<center><img src=\"images/pycharm_from_git.png\" alt=\"pycharm_from_git\"/></center>\n",
    "\n",
    "### Выбрать любую удобную директорию для проекта (**Directory**). Вставить в **URL** строку с **HTTPS** нового репозитория. Нажать **Clone**.\n",
    "<center><img src=\"images/pycharm_from_git_filled.png\" alt=\"pycharm_from_git_filled\"/></center>\n",
    "\n",
    "### На вопрос от **PyCharm** о добавлении `main.py` ответить **Don't ask again** и **Cancel**. \n",
    "<center><img src=\"images/pycharm_add_main_py.png\" alt=\"pycharm_add_main_py\"/></center>\n",
    "\n",
    "### Откроется файл по умолчанию `main.py`. Удалить файл `main.py`: **правой кнопкой мыши по файлу -> Delete... -> OK**.\n",
    "<center><img src=\"images/pycharm_main_py.png\" alt=\"pycharm_main_py\"/></center>\n",
    "\n",
    "### В левом верхнем углу **File -> Settings... -> Project:<наименование репозитория> -> Python Interpreter**. Нажать на поле **`<No interpreter>`** (Тут может быть написано что-то другое, например: Python 3.8. Это не важно.).\n",
    "<center><img src=\"images/pycharm_python_interpreter_start.png\" alt=\"pycharm_python_interpreter_start\"/></center>\n",
    "\n",
    "###  Откроется список имеющихся интерптераторов. Нажать **+** для добавления нового.\n",
    "<center><img src=\"images/pycharm_python_interpreter_start_list.png\" alt=\"pycharm_python_interpreter_start_list\"/></center>\n",
    "    \n",
    "### Выбрать **Conda Environment -> New environment -> Make available to all projects -> OK**.\n",
    "<center><img src=\"images/pycharm_python_interpreter_conda.png\" alt=\"pycharm_python_interpreter_conda\"/></center>\n",
    "\n",
    "### Выбрать созданную виртуальную среду в списке и нажать **OK**.\n",
    "<center><img src=\"images/pycharm_python_interpreter_conda_list.png\" alt=\"pycharm_python_interpreter_conda_list\"/></center>\n",
    "\n",
    "### Виртуальная среда для проекта выбрана. Нажать **OK**.\n",
    "<center><img src=\"images/pycharm_python_interpreter_conda_choosen.png\" alt=\"pycharm_python_interpreter_conda_choosen\"/></center>"
   ]
  },
  {
   "cell_type": "markdown",
   "metadata": {},
   "source": [
    "# Клонирование репозитория с лекционными материалами\n",
    "## **ВНИМАНИЕ: ТОЛЬКО после подтверждения от преподавателя о добавлении прав! (приглашение придет на почту и его нужно принять)**\n",
    "\n",
    "### Открыть **PyCharm**. В верхнем меню выбрать **Git -> Clone**. Выбрать любую удобную директорию для проекта (**Directory**). Вставить в **URL** строку с **HTTPS** лекционного репозитория. Нажать **Clone**.\n",
    "<center><img src=\"images/pycharm_from_git_filled.png\" alt=\"pycharm_from_git_filled\"/></center>\n",
    "\n",
    "### В левом верхнем углу **File -> Settings... -> Project:<наименование репозитория> -> Python Interpreter**. Нажать на поле **`<No interpreter>`** (Тут может быть написано что-то другое, например: Python 3.8. Это не важно.).\n",
    "<center><img src=\"images/pycharm_python_interpreter_start.png\" alt=\"pycharm_python_interpreter_start\"/></center>\n",
    "\n",
    "### Выбрать виртуальную среду **Conda** в списке и нажать **OK**.\n",
    "<center><img src=\"images/pycharm_python_interpreter_conda_list.png\" alt=\"pycharm_python_interpreter_conda_list\"/></center>\n",
    "\n",
    "### Виртуальная среда для проекта выбрана. Нажать **OK**.\n",
    "<center><img src=\"images/pycharm_python_interpreter_conda_choosen.png\" alt=\"pycharm_python_interpreter_conda_choosen\"/></center>"
   ]
  },
  {
   "cell_type": "markdown",
   "metadata": {},
   "source": [
    "# Подготовка Jupyter\n",
    "\n",
    "### Открыть **Anaconda Navigator**. В консоли выполнить команду:\n",
    "\n",
    "```bash\n",
    "anaconda-navigator\n",
    "```\n",
    "\n",
    "<center><img src=\"images/anaconda_navigator.png\" alt=\"anaconda_navigator\"/></center>\n",
    "\n",
    "### Сверху справа выбрать в **Applications on** новую виртуальную среду (созданную в PyCharm).\n",
    "<center><img src=\"images/navigator_choose_venv.png\" alt=\"navigator_choose_venv\"/></center>\n",
    "\n",
    "### Установить пакет **JupyterLab** нажав на кнопку **Install**.\n",
    "<center><img src=\"images/navigator_jupyterlab_install.png\" alt=\"navigator_jupyterlab_install\"/></center>\n",
    "\n",
    "### Проверить установился ли пакет **JupyterLab** можно нажав на кнопку **Launch**. В результате откроется окно браузера.\n",
    "<center><img src=\"images/navigator_jupyterlab_launch.png\" alt=\"navigator_jupyterlab_launch\"/></center>\n",
    "<center><img src=\"images/navigator_jupyterlab_launch.png\" alt=\"navigator_jupyterlab_launch\"/></center>\n",
    "\n",
    "### Далее можно открыть лекционные материалы в **JupyterLab** перемещаясь по каталогу слева.\n",
    "<center><img src=\"images/jupyterlab_levelup_dir.png\" alt=\"jupyterlab_levelup_dir\"/></center>\n",
    "\n",
    "### Для проверки корректности отображения можно открыть файл с данной инструкцией. Он находится в директории **0_preparation -> preparation.inpynb**.\n",
    "\n",
    "### Прочитать про синтаксис [Markdown](https://www.markdownguide.org/basic-syntax/)."
   ]
  },
  {
   "cell_type": "code",
   "execution_count": null,
   "metadata": {},
   "outputs": [],
   "source": []
  }
 ],
 "metadata": {
  "kernelspec": {
   "display_name": "Python 3 (ipykernel)",
   "language": "python",
   "name": "python3"
  },
  "language_info": {
   "codemirror_mode": {
    "name": "ipython",
    "version": 3
   },
   "file_extension": ".py",
   "mimetype": "text/x-python",
   "name": "python",
   "nbconvert_exporter": "python",
   "pygments_lexer": "ipython3",
   "version": "3.10.4"
  }
 },
 "nbformat": 4,
 "nbformat_minor": 4
}
