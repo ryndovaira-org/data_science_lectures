{
 "cells": [
  {
   "cell_type": "code",
   "execution_count": null,
   "id": "e41608a6-ef08-4887-bd0d-9a05196180ea",
   "metadata": {},
   "outputs": [],
   "source": []
  }
 ],
 "metadata": {
  "kernelspec": {
   "display_name": "",
   "name": ""
  },
  "language_info": {
   "name": ""
  }
 },
 "nbformat": 4,
 "nbformat_minor": 5
}
