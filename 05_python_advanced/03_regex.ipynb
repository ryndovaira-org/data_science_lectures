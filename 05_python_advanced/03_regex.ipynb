{
 "cells": [
  {
   "cell_type": "markdown",
   "id": "5fd1219b-330e-46af-a716-82bae72c44a0",
   "metadata": {},
   "source": [
    "# Regular expression (RegEx)"
   ]
  },
  {
   "cell_type": "code",
   "execution_count": null,
   "id": "2a2e4fd2-a5fc-4dcf-b2d5-9f07d7262bc6",
   "metadata": {},
   "outputs": [],
   "source": []
  },
  {
   "cell_type": "markdown",
   "id": "579a6663-1245-408b-b0cc-a4e93508dd28",
   "metadata": {},
   "source": [
    "---\n",
    "\n",
    "[]()\n",
    "\n",
    "[]()\n",
    "\n",
    "[]()\n",
    "\n",
    "[]()\n",
    "\n",
    "[]()\n",
    "\n",
    "[]()"
   ]
  }
 ],
 "metadata": {
  "kernelspec": {
   "display_name": "Python [conda env:data-science-course-original] *",
   "language": "python",
   "name": "conda-env-data-science-course-original-py"
  },
  "language_info": {
   "codemirror_mode": {
    "name": "ipython",
    "version": 3
   },
   "file_extension": ".py",
   "mimetype": "text/x-python",
   "name": "python",
   "nbconvert_exporter": "python",
   "pygments_lexer": "ipython3",
   "version": "3.10.4"
  }
 },
 "nbformat": 4,
 "nbformat_minor": 5
}
