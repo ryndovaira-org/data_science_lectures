{
 "cells": [
  {
   "cell_type": "markdown",
   "metadata": {
    "jupyter": {
     "outputs_hidden": true
    }
   },
   "source": [
    "# Веб-скрапинг (Web scraping)\n",
    "это технология получения веб-данных путем извлечения их со страниц веб-ресурсов."
   ]
  },
  {
   "cell_type": "markdown",
   "metadata": {},
   "source": [
    "---\n",
    "\n",
    "**Источники:**\n",
    "\n",
    "[Scrapy Wiki](https://ru.wikipedia.org/wiki/Scrapy)\n",
    "\n",
    "[Scrapy](https://scrapy.org/)\n",
    "\n",
    "[Scrapy Tutorial](https://docs.scrapy.org/en/latest/intro/tutorial.html)\n",
    "\n",
    "[Scrapy documentation](https://docs.scrapy.org/en/latest/)\n",
    "\n",
    "[Пишем простой парсер на Scrapy](https://pycoder.ru/make-simple-spider-scrapy/)\n",
    "\n",
    "[Библиотека для парсинга сайта Scrapy](https://tyvik.ru/posts/parsing-scrapy/)\n",
    "\n",
    "[Python: Scrapy, Selenium, Beautiful Soup что лучше для парсинга веб сайтов](https://dev-gang.ru/article/python-scrapy-selenium-beautiful-soup-czto-luczshe-dlja-parsinga-veb-saitov-rmv3n1q3us/)\n",
    "\n",
    "[Beautiful Soup (HTML parser)](https://en.wikipedia.org/wiki/Beautiful_Soup_(HTML_parser))\n",
    "\n",
    "[Selenium автоматизация браузера в Python | Изучаем Selenium](https://selenium-python.com/)\n",
    "\n",
    "[Selenium](https://ru.wikipedia.org/wiki/Selenium)\n",
    "\n",
    "[DOM-дерево](https://learn.javascript.ru/dom-nodes)\n",
    "\n",
    "[HTML-теги](https://html5book.ru/html-tags/#:~:text=HTML%2D%D1%82%D0%B5%D0%B3%D0%B8%20%E2%80%94%20%D0%BE%D1%81%D0%BD%D0%BE%D0%B2%D0%B0%20%D1%8F%D0%B7%D1%8B%D0%BA%D0%B0%20HTML,%D0%B8%20%D0%BA%D0%BE%D0%BD%D0%B5%D1%87%D0%BD%D1%8B%D0%BC%20(%D0%B7%D0%B0%D0%BA%D1%80%D1%8B%D0%B2%D0%B0%D1%8E%D1%89%D0%B8%D0%BC)%20%D1%82%D0%B5%D0%B3%D0%BE%D0%BC.)\n",
    "\n",
    "[Элементы HTML](https://ru.wikipedia.org/wiki/%D0%AD%D0%BB%D0%B5%D0%BC%D0%B5%D0%BD%D1%82%D1%8B_HTML)\n",
    "\n",
    "[Scrapy Common Practices](https://docs.scrapy.org/en/latest/topics/practices.html#run-from-script)\n",
    "\n",
    "---"
   ]
  },
  {
   "cell_type": "markdown",
   "metadata": {},
   "source": [
    "## Обзор пакетов для веб-крапинга\n",
    "\n",
    "---\n",
    "\n",
    "### Scrapy\n",
    "\n",
    "<img src=\"images/logo_scrapy.png\" height=\"400\" width=\"400\"/>\n",
    "\n",
    "**Scrapy (читается как \"скрэй-пай\")** – это бесплатный фреймворк для веб-краулинга находящийся в открытом доступе, который написан на языке программирования Python.\n",
    "\n",
    "Архитектура проекта **Scrapy** построена вокруг **\"пауков\"**, которые по сути являются автономными краулерами с заданными инструкциями.\n",
    "\n",
    "**Поисковый робот (веб-паук, веб-краулер, бот, web crawler, spider, spiderbot, crawler, ant, automatic indexer)** — программа, являющаяся составной частью поисковой системы и предназначенная для перебора страниц Интернета с целью занесения информации о них в базу данных поисковика.\n",
    "\n",
    "По принципу действия, паук напоминает обычный браузер. Он анализирует содержимое страницы, сохраняет его в некотором специальном виде на сервере поисковой машины, и отправляется по ссылкам на следующие страницы.\n",
    "\n",
    "Кроме обычных пауков, существуют так называемые **\"дятлы\"** — роботы, которые \"простукивают\" проиндексированный сайт, чтобы определить, что он доступен.\n",
    "\n",
    "#### Ключевые особенности Scrapy:\n",
    "- Имеет встроенную поддержку для извлечения данных из источников `HTML` с использованием выражений `XPath` и `CSS`.\n",
    "- Это кросплатформенная библиотека, т.е. (Написана на Python и работает на Linux, Windows, Mac и BSD).\n",
    "- Легко расширяема.\n",
    "- Быстрее, чем другие существующие библиотеки. Он может извлекать сайты в 20 раз быстрее, чем другие инструменты. **Производительность `Scrapy` невероятно высока, и это одна из самых мощных доступных библиотек. Одним из ключевых преимуществ scrapy является то, что он построен на основе `Twisted`, асинхронной сетевой структуры, что означает, что scrapy использует неблокирующий механизм при отправке запросов пользователям.**\n",
    "- Потребляет намного меньше памяти и ресурсов процессора.\n",
    "- Может помочь нам создать надежное и гибкое приложение с множеством функций.\n",
    "- Имеет хорошую поддержку сообщества для разработчиков, но документация не очень хороша для начинающих.\n",
    "\n",
    "---\n",
    "\n",
    "### Beautiful soup\n",
    "\n",
    "<img src=\"images/logo_beauitful_soup.jpg\" height=\"400\" width=\"400\"/>\n",
    "\n",
    "Эта библиотека поможет извлечь данные из файлов `HTML` и `XML`. Но проблема с `Beautiful Soup` в том, что он не может выполнить всю работу самостоятельно (без дополнительных пакетов).\n",
    "\n",
    "#### Ключевые особенности Beautiful soup:\n",
    "- Легко освоить.\n",
    "- Имеет хорошую всеобъемлющую документацию.\n",
    "- Имеет хорошую поддержку сообщества, чтобы выяснить проблемы, возникающие при работе с этой библиотекой.\n",
    "- Требует определенных модулей для работы. Наприме:\n",
    "    - Необходима библиотека  для отправки запроса на веб-сайт, потому что сам `Beautiful soup` не может сделать запрос на конкретный сервер. Для преодоления этой проблемы требуется помощь одной из популярных библиотек `Requests` или `urlib2`. Эти библиотеки помогут нам сделать запрос к серверу.\n",
    "    - После загрузки данных HTML или XML на локальный компьютер `Beautiful Soup` требуется внешний анализатор для анализа загруженных данных. Наиболее известные парсеры - это XML-parser `lxml`, `HTML-parser lxml`, `HTML5lib`, `html.parser`.\n",
    "\n",
    "---\n",
    "\n",
    "### Selenium WebDriver\n",
    "\n",
    "<img src=\"images/logo_selenium.png\" height=\"400\" width=\"400\"/>\n",
    "\n",
    "Это в первую очередь набор библиотек для различных языков программирования. Эти библиотеки используются для отправки HTTP запросов драйверу (отсюда и название WebDriver), в которых указано действие, которое должен совершить браузер в рамках текущей сессии. Примерами таких команд могут быть команды нахождения элементов по локатору, переход по ссылкам, парсинг текста страницы/элемента, нажатие кнопок или переход по ссылкам на странице веб-сайта. \n",
    "\n",
    "#### Ключевые особенности Selenium:\n",
    "- Может легко работать с основными концепциями Javascript (DOM)\n",
    "- Может легко обрабатывать запросы AJAX и PJAX.\n",
    "- API очень удобен для начинающих\n",
    "- В основном используется для автоматизации тестов для веб-приложений. Эта среда разработана для автоматизации браузера.\n",
    "- Может быть использован для разработки веб-пауков, многие люди делали это раньше.\n",
    "- Позволяет разработчику писать тесты на нескольких популярных языках программирования, таких как C#, Java, Python, Ruby и другие.\n"
   ]
  },
  {
   "cell_type": "markdown",
   "metadata": {},
   "source": [
    "## Выбор подходящего пакета (библиотеки)\n",
    "\n",
    "**Ключевые факторы, на которые важно обратить внимание:**\n",
    "\n",
    "- **Гибкость**\n",
    "\n",
    "    - `Scrapy`: Архитектура Scrapy спроектирована так, чтобы настраивать промежуточное ПО для добавления собственных функциональных возможностей. Эта особенность помогает сделать проект более надежным и гибким.\n",
    "    Одним из самых больших преимуществ Scrapy является то, что можно очень легко перенести существующий проект в другой проект. Поэтому для больших / сложных проектов Scrapy - лучший выбор для разработки.\n",
    "    Если проекту нужны прокси, конвейер данных, то Scrapy будет лучшим выбором.\n",
    "\n",
    "    - `Beautiful Soup`: Когда речь идет о небольшом проекте, или о низкоуровневом сложном проекте Beautiful Soup может выполнить задачу довольно хорошо. Это помогает поддерживать код простым и гибким.\n",
    "    Если хочется быстро что-то освоить, выполнить операции по поиску в Интернете, то Beautiful Soup - лучший выбор.\n",
    "    \n",
    "    - `Selenium`: когда вы имеете дело с Javascript на сайте, Selenium будет лучшим выбором, но размер данных должен быть ограничен.\n",
    "\n",
    "- **Производительность**\n",
    "    - `Scrapy`: самый быстрый из всех.\n",
    "\n",
    "    - `Beautiful Soup`: довольно медленно выполняет определенную задачу, но можно преодолеть эту проблему с помощью концепции многопоточности, но программисту необходимо знать концепцию многопоточности очень хорошо. Это обратная сторона Beautiful Soup.\n",
    "\n",
    "    - `Selenium`: может работать довольно быстро, но не эквивалентно Scrapy.\n",
    "\n",
    "- **Экосистема**\n",
    "    - `Scrapy`: у него хорошая экосистема, мы можем использовать прокси и VPN для автоматизации задач. Это одна из причин выбора библиотеки для сложных проектов. Можно отправлять несколько запросов с нескольких прокси-адресов.\n",
    "\n",
    "    - `BeautifulSoup`: эта библиотека имеет много зависимостей в экосистеме. Это один из недостатков этой библиотеки для сложного проекта.\n",
    "\n",
    "    - `Selenium`: у него хорошая экосистема для развития, но непросто настроить прокси."
   ]
  },
  {
   "cell_type": "markdown",
   "metadata": {},
   "source": [
    "---\n",
    "\n",
    "## Подготовка окружения"
   ]
  },
  {
   "cell_type": "code",
   "execution_count": 1,
   "metadata": {},
   "outputs": [
    {
     "name": "stdout",
     "output_type": "stream",
     "text": [
      "pip 20.3.3 from /home/ira/anaconda3/envs/LevelUp_DataScience/lib/python3.8/site-packages/pip (python 3.8)\n"
     ]
    }
   ],
   "source": [
    "# ВНИМАНИЕ: необходимо удостовериться, что виртуальная среда выбрана правильно!\n",
    "\n",
    "# Для MacOS/Ubuntu\n",
    "# !which pip\n",
    "\n",
    "# Для Windows\n",
    "# !where pip"
   ]
  },
  {
   "cell_type": "code",
   "execution_count": 2,
   "metadata": {},
   "outputs": [
    {
     "name": "stdout",
     "output_type": "stream",
     "text": [
      "Collecting package metadata (current_repodata.json): done\n",
      "Solving environment: done\n",
      "\n",
      "## Package Plan ##\n",
      "\n",
      "  environment location: /home/ira/anaconda3/envs/LevelUp_DataScience\n",
      "\n",
      "  added / updated specs:\n",
      "    - scrapy\n",
      "\n",
      "\n",
      "The following packages will be downloaded:\n",
      "\n",
      "    package                    |            build\n",
      "    ---------------------------|-----------------\n",
      "    protego-0.1.16             |             py_0         2.6 MB  conda-forge\n",
      "    scrapy-2.4.1               |   py38h578d9bd_2         646 KB  conda-forge\n",
      "    ------------------------------------------------------------\n",
      "                                           Total:         3.2 MB\n",
      "\n",
      "The following NEW packages will be INSTALLED:\n",
      "\n",
      "  protego            conda-forge/noarch::protego-0.1.16-py_0\n",
      "\n",
      "The following packages will be UPDATED:\n",
      "\n",
      "  scrapy             pkgs/main::scrapy-2.4.1-py38h06a4308_0 --> conda-forge::scrapy-2.4.1-py38h578d9bd_2\n",
      "\n",
      "\n",
      "\n",
      "Downloading and Extracting Packages\n",
      "protego-0.1.16       | 2.6 MB    | ##################################### | 100% \n",
      "scrapy-2.4.1         | 646 KB    | ##################################### | 100% \n",
      "Preparing transaction: done\n",
      "Verifying transaction: done\n",
      "Executing transaction: done\n"
     ]
    }
   ],
   "source": [
    "!conda install -c conda-forge scrapy -y"
   ]
  },
  {
   "cell_type": "code",
   "execution_count": 3,
   "metadata": {},
   "outputs": [
    {
     "name": "stdout",
     "output_type": "stream",
     "text": [
      "Scrapy 2.4.1 - no active project\n",
      "\n",
      "Usage:\n",
      "  scrapy <command> [options] [args]\n",
      "\n",
      "Available commands:\n",
      "  bench         Run quick benchmark test\n",
      "  commands      \n",
      "  fetch         Fetch a URL using the Scrapy downloader\n",
      "  genspider     Generate new spider using pre-defined templates\n",
      "  runspider     Run a self-contained spider (without creating a project)\n",
      "  settings      Get settings values\n",
      "  shell         Interactive scraping console\n",
      "  startproject  Create new project\n",
      "  version       Print Scrapy version\n",
      "  view          Open URL in browser, as seen by Scrapy\n",
      "\n",
      "  [ more ]      More commands available when run from project directory\n",
      "\n",
      "Use \"scrapy <command> -h\" to see more info about a command\n"
     ]
    }
   ],
   "source": [
    "!scrapy -V"
   ]
  },
  {
   "cell_type": "code",
   "execution_count": 4,
   "metadata": {},
   "outputs": [
    {
     "data": {
      "text/plain": [
       "'2.4.1'"
      ]
     },
     "execution_count": 4,
     "metadata": {},
     "output_type": "execute_result"
    }
   ],
   "source": [
    "import scrapy\n",
    "scrapy.__version__"
   ]
  },
  {
   "cell_type": "markdown",
   "metadata": {},
   "source": [
    "## Создание проекта и проверка работоспособности"
   ]
  },
  {
   "cell_type": "code",
   "execution_count": 5,
   "metadata": {},
   "outputs": [
    {
     "name": "stdout",
     "output_type": "stream",
     "text": [
      "Error: scrapy.cfg already exists in /home/ira/LevelUp/data-science-course-original/02_data_engineering/lectures/scrapy_lecture_project\n"
     ]
    }
   ],
   "source": [
    "# создать проект scrapy с именем scrapy_lecture_project\n",
    "!scrapy startproject scrapy_lecture_project"
   ]
  },
  {
   "cell_type": "markdown",
   "metadata": {},
   "source": [
    "**Эта команда создаст директорию вида:**\n",
    "\n",
    "```\n",
    "scrapy_lecture_project/\n",
    "  |  scrapy.cfg - конфигурационный файл для деплоя\n",
    "  |  pycoder/ - python модуль проекта, здесь будет лежать код\n",
    "    |  __init__.py\n",
    "    |  items.py - файлик с классом, описывающим то, что будет парситься\n",
    "    |  middlewares.py - описывается класс отвечающий за промежуточную обработку данных\n",
    "    |  pipelines.py - описывается как будет обработано и выведено то, что парсится\n",
    "    |  settings.py - настройки\n",
    "    |  spiders/ - папка для \"пауков\", это код, который отвечает за парсинг\n",
    "      |  __init__.py\n",
    "```"
   ]
  },
  {
   "cell_type": "code",
   "execution_count": 6,
   "metadata": {},
   "outputs": [
    {
     "name": "stdout",
     "output_type": "stream",
     "text": [
      "/home/ira/LevelUp/data-science-course-original/02_data_engineering/lectures/scrapy_lecture_project\n",
      "/home/ira/LevelUp/data-science-course-original/02_data_engineering/lectures/scrapy_lecture_project\n"
     ]
    }
   ],
   "source": [
    "%cd scrapy_lecture_project\n",
    "!pwd"
   ]
  },
  {
   "cell_type": "code",
   "execution_count": 7,
   "metadata": {},
   "outputs": [
    {
     "name": "stdout",
     "output_type": "stream",
     "text": [
      "Scrapy 2.4.1 - project: scrapy_lecture_project\n",
      "\n",
      "Usage:\n",
      "  scrapy <command> [options] [args]\n",
      "\n",
      "Available commands:\n",
      "  bench         Run quick benchmark test\n",
      "  check         Check spider contracts\n",
      "  commands      \n",
      "  crawl         Run a spider\n",
      "  edit          Edit spider\n",
      "  fetch         Fetch a URL using the Scrapy downloader\n",
      "  genspider     Generate new spider using pre-defined templates\n",
      "  list          List available spiders\n",
      "  parse         Parse URL (using its spider) and print the results\n",
      "  runspider     Run a self-contained spider (without creating a project)\n",
      "  settings      Get settings values\n",
      "  shell         Interactive scraping console\n",
      "  startproject  Create new project\n",
      "  version       Print Scrapy version\n",
      "  view          Open URL in browser, as seen by Scrapy\n",
      "\n",
      "Use \"scrapy <command> -h\" to see more info about a command\n"
     ]
    }
   ],
   "source": [
    "# вывести help по scrapy\n",
    "!scrapy "
   ]
  },
  {
   "cell_type": "markdown",
   "metadata": {},
   "source": [
    "## Изучение структуры сайта\n",
    "\n",
    "Не существует какого-либо универсального решения, потому что **каждый сайт предоставляет информацию по-разному**. \n",
    "\n",
    "Первое, что нужно сделать - изучить структуру сайта с помощью консоли разработчика (то есть после открытия интересующей страницы сайта нажать `ПКМ` -> `Inspect` / `Developer Tools` или `F12` / `Ctrl+Shift+I`).\n",
    "\n",
    "<img src=\"images/habr_companies_page_with_inspect.png\"/>\n",
    "\n",
    "**DOM (от англ. Document Object Model — \"объектная модель документа\")** — это независящий от платформы и языка программный интерфейс, позволяющий программам и скриптам получить доступ к содержимому **HTML**-, XHTML- и XML-документов, а также изменять содержимое, структуру и оформление таких документов.\n",
    "\n",
    "<img src=\"images/DOM.png\" height=\"400\" width=\"400\"/>\n",
    "\n",
    "Основой **HTML**-документа являются **теги**.\n",
    "\n",
    "В соответствии с **объектной моделью документа («Document Object Model», коротко DOM)**, каждый **HTML**-тег является объектом. Вложенные теги являются «детьми» родительского элемента. Текст, который находится внутри тега, также является объектом.\n",
    "\n",
    "Каждый **HTML**-документ состоит из дерева **HTML**-элементов и текста. Каждый **HTML**-элемент обозначается начальным (открывающим) и конечным (закрывающим) тегом."
   ]
  },
  {
   "cell_type": "markdown",
   "metadata": {},
   "source": [
    "## Создание \"паука\"\n",
    "\n",
    "`Spider`'ы - это классы, которые необходимо реализовать самостоятельно, `Scrapy` использует для извлечения данных с сайта.\n",
    "\n",
    "Эти классы должны наследоваться от `scrapy.Spider`, в них должны быть описаны \n",
    "- начальные запросы, \n",
    "- как идти по ссылкам на страницах,\n",
    "- какую информацию извлекать со страниц.\n",
    "\n",
    "\n",
    "Название `spider`'a - это очень важный параметр, по этому названию `spider` будет запускаться.\n",
    "\n",
    "Атрибут класса `start_urls` - это список `url`'ов, которые будут использованы для начальных запросов. \n",
    "Для заданного `url`'a будет вызван метод `parse`. \n",
    "\n",
    "Scrapy поддерживает селекторы `CSS` и `XPath`.\n",
    "\n",
    "**В примере будут использваны `CSS`, так как это проще.**"
   ]
  },
  {
   "cell_type": "markdown",
   "metadata": {},
   "source": [
    "### Добавление настроек в `Settings.py`\n",
    "\n",
    "Добавить настройку `FEED_EXPORT_ENCODING = 'utf-8'` (иначе русские буквы будут \"закодированы\")."
   ]
  },
  {
   "cell_type": "markdown",
   "metadata": {},
   "source": [
    "### Отладка через Pycharm\n",
    "\n",
    "Из [официальной документации](https://docs.scrapy.org/en/latest/topics/practices.html#run-from-script):\n",
    "\n",
    "```\n",
    "import scrapy\n",
    "from scrapy.crawler import CrawlerProcess\n",
    "\n",
    "class MySpider(scrapy.Spider):\n",
    "    # Your spider definition\n",
    "    ...\n",
    "\n",
    "process = CrawlerProcess(settings={\n",
    "    \"FEEDS\": {\n",
    "        \"items.json\": {\"format\": \"json\"},\n",
    "    },\n",
    "})\n",
    "\n",
    "process.crawl(MySpider)\n",
    "process.start() # the script will block here until the crawling is finished\n",
    "```"
   ]
  },
  {
   "cell_type": "markdown",
   "metadata": {},
   "source": [
    "### Запуск Паука из терминала и сохранение результатов в файл\n",
    "\n",
    "В терминале:\n",
    "`scrapy crawl <spider_name> -o <file_name>.json --nolog` \n",
    "\n",
    "`spider_name` указывается в качестве атрибута класса, который унаследован от `scrapy.Spider` (и находится в пакете `spiders`).\n",
    "\n",
    "Можно сохранять не только в `json`, но и `csv`.\n",
    "\n",
    "Можно использовать `--nolog`, если подробный вывод результатов в терминал не нужен (так как сохраняем результаты в файл, например)."
   ]
  },
  {
   "cell_type": "markdown",
   "metadata": {},
   "source": [
    "### Python теоретический минимум\n",
    "\n",
    "**Функция-генератор** - это функция, в которой присутствует ключевое слово `yield`. При вызове, эта функция возвращает объект генератор. Так как и сама функция и объект, который она возвращает, называется **генератор**, возникает путанница, о чем идет речь. В документации Python очень часто объект генератор называется итератором. Поэтому тут я тоже буду называть возвращенный объект итератором, а функцию - генератором.\n",
    "\n",
    "Чтобы создать **генератор**, необходимо определить функцию, как обычно, но использовать `yield` вместо `return`, указывая интерпретатору, что эту функцию следует рассматривать как итератор.\n",
    "\n",
    "Оператор `yield` приостанавливает функцию и сохраняет локальное состояние, чтобы его можно было возобновить с того места, где оно было остановлено.\n",
    "\n",
    "Генератор генерирует значения. При этом, значения возвращаются по запросу и после возврата одного значения, выполнение функции-генератора приостанавливается до запроса следующего значения. Между запросами генератор сохраняет свое состояние.\n",
    "\n",
    "\n",
    "В программировании, **асинхронными** событиями являются те, которые возникают независимо от основного потока выполнения программы. **Асинхронные** действия — действия, выполненные в неблокирующем режиме, что позволяет основному потоку программы продолжить обработку."
   ]
  }
 ],
 "metadata": {
  "kernelspec": {
   "display_name": "Python [conda env:LevelUp_DataScience] *",
   "language": "python",
   "name": "conda-env-LevelUp_DataScience-py"
  },
  "language_info": {
   "codemirror_mode": {
    "name": "ipython",
    "version": 3
   },
   "file_extension": ".py",
   "mimetype": "text/x-python",
   "name": "python",
   "nbconvert_exporter": "python",
   "pygments_lexer": "ipython3",
   "version": "3.8.5"
  }
 },
 "nbformat": 4,
 "nbformat_minor": 4
}