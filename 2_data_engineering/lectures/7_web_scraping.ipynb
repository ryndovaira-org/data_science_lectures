{
 "cells": [
  {
   "cell_type": "markdown",
   "metadata": {
    "jupyter": {
     "outputs_hidden": true
    }
   },
   "source": [
    "# Веб-скрапинг (Web scraping)\n",
    "это технология получения веб-данных путем извлечения их со страниц веб-ресурсов."
   ]
  },
  {
   "cell_type": "markdown",
   "metadata": {},
   "source": [
    "---\n",
    "\n",
    "**Источники:**\n",
    "\n",
    "[Scrapy Wiki](https://ru.wikipedia.org/wiki/Scrapy)\n",
    "\n",
    "[Scrapy](https://scrapy.org/)\n",
    "\n",
    "[Scrapy Tutorial](https://docs.scrapy.org/en/latest/intro/tutorial.html)\n",
    "\n",
    "[Scrapy documentation](https://docs.scrapy.org/en/latest/)\n",
    "\n",
    "---"
   ]
  },
  {
   "cell_type": "markdown",
   "metadata": {},
   "source": [
    "## Scrapy\n",
    "\n",
    "<img src=\"images/scrapy_logo.png\" height=\"400\" width=\"400\"/>\n",
    "\n",
    "**Scrapy (читается как \"скрэй-пай\")** – это бесплатный фреймворк для веб-краулинга находящийся в открытом доступе, который написан на языке программирования Python.\n",
    "\n",
    "Архитектура проекта **Scrapy** построена вокруг **\"пауков\"**, которые по сути являются автономными краулерами с заданными инструкциями.\n",
    "\n",
    "**Поисковый робот (веб-паук, веб-краулер, бот, web crawler, spider, spiderbot, crawler, ant, automatic indexer)** — программа, являющаяся составной частью поисковой системы и предназначенная для перебора страниц Интернета с целью занесения информации о них в базу данных поисковика.\n",
    "\n",
    "По принципу действия, паук напоминает обычный браузер. Он анализирует содержимое страницы, сохраняет его в некотором специальном виде на сервере поисковой машины, и отправляется по ссылкам на следующие страницы.\n",
    "\n",
    "Кроме обычных пауков, существуют так называемые **\"дятлы\"** — роботы, которые \"простукивают\" проиндексированный сайт, чтобы определить, что он доступен.\n",
    "\n",
    "### Зачем использовать Scrapy?\n",
    "- Легче создавать и масштабировать большие проекты сканирования.\n",
    "\n",
    "Он имеет встроенный механизм, называемый селекторами, для извлечения данных с веб-сайтов.\n",
    "\n",
    "Он обрабатывает запросы асинхронно и быстро.\n",
    "\n",
    "Он автоматически регулирует скорость сканирования с помощью механизма автоматического дросселирования .\n",
    "\n",
    "Обеспечивает доступность для разработчиков.\n",
    "\n",
    "Легче создавать и масштабировать большие проекты сканирования.\n",
    "\n",
    "Он имеет встроенный механизм, называемый селекторами, для извлечения данных с веб-сайтов.\n",
    "\n",
    "Он обрабатывает запросы асинхронно и быстро.\n",
    "\n",
    "Он автоматически регулирует скорость сканирования с помощью механизма автоматического дросселирования .\n",
    "\n",
    "Обеспечивает доступность для разработчиков."
   ]
  },
  {
   "cell_type": "code",
   "execution_count": null,
   "metadata": {},
   "outputs": [],
   "source": []
  },
  {
   "cell_type": "markdown",
   "metadata": {},
   "source": [
    "---\n",
    "\n",
    "## Подготовка окружения"
   ]
  },
  {
   "cell_type": "code",
   "execution_count": 6,
   "metadata": {},
   "outputs": [
    {
     "name": "stdout",
     "output_type": "stream",
     "text": [
      "/home/ira/anaconda3/envs/LevelUp_DataScience/bin/pip\n"
     ]
    }
   ],
   "source": [
    "!which pip"
   ]
  },
  {
   "cell_type": "code",
   "execution_count": 7,
   "metadata": {},
   "outputs": [
    {
     "name": "stdout",
     "output_type": "stream",
     "text": [
      "Collecting package metadata (current_repodata.json): done\n",
      "Solving environment: done\n",
      "\n",
      "# All requested packages already installed.\n",
      "\n"
     ]
    }
   ],
   "source": [
    "!conda install -c conda-forge scrapy -y"
   ]
  },
  {
   "cell_type": "code",
   "execution_count": 8,
   "metadata": {},
   "outputs": [
    {
     "data": {
      "text/plain": [
       "'2.4.1'"
      ]
     },
     "execution_count": 8,
     "metadata": {},
     "output_type": "execute_result"
    }
   ],
   "source": [
    "import scrapy\n",
    "scrapy.__version__"
   ]
  },
  {
   "cell_type": "code",
   "execution_count": 9,
   "metadata": {},
   "outputs": [
    {
     "name": "stdout",
     "output_type": "stream",
     "text": [
      "Error: scrapy.cfg already exists in /home/ira/LEVEL_UP/data-science-course-original/2_data_engineering/lectures/scrapy_tutorial\n"
     ]
    }
   ],
   "source": [
    "!scrapy startproject scrapy_tutorial"
   ]
  },
  {
   "cell_type": "code",
   "execution_count": 10,
   "metadata": {},
   "outputs": [
    {
     "name": "stdout",
     "output_type": "stream",
     "text": [
      "Scrapy 2.4.1 - no active project\n",
      "\n",
      "Unknown command: crawl\n",
      "\n",
      "Use \"scrapy\" to see available commands\n"
     ]
    }
   ],
   "source": [
    "!scrapy crawl quotes"
   ]
  },
  {
   "cell_type": "code",
   "execution_count": null,
   "metadata": {},
   "outputs": [],
   "source": []
  }
 ],
 "metadata": {
  "kernelspec": {
   "display_name": "Python [conda env:LevelUp_DataScience] *",
   "language": "python",
   "name": "conda-env-LevelUp_DataScience-py"
  },
  "language_info": {
   "codemirror_mode": {
    "name": "ipython",
    "version": 3
   },
   "file_extension": ".py",
   "mimetype": "text/x-python",
   "name": "python",
   "nbconvert_exporter": "python",
   "pygments_lexer": "ipython3",
   "version": "3.8.3"
  }
 },
 "nbformat": 4,
 "nbformat_minor": 4
}
