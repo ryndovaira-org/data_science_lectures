{
 "cells": [
  {
   "cell_type": "markdown",
   "metadata": {
    "jupyter": {
     "outputs_hidden": true
    }
   },
   "source": [
    "# Веб-скрапинг (Web scraping)\n",
    "это технология получения веб-данных путем извлечения их со страниц веб-ресурсов."
   ]
  },
  {
   "cell_type": "markdown",
   "metadata": {},
   "source": [
    "---\n",
    "\n",
    "**Источники:**\n",
    "\n",
    "[Scrapy Wiki](https://ru.wikipedia.org/wiki/Scrapy)\n",
    "\n",
    "[Scrapy](https://scrapy.org/)\n",
    "\n",
    "[Scrapy Tutorial](https://docs.scrapy.org/en/latest/intro/tutorial.html)\n",
    "\n",
    "[Scrapy documentation](https://docs.scrapy.org/en/latest/)\n",
    "\n",
    "[Python: Scrapy, Selenium, Beautiful Soup что лучше для парсинга веб сайтов](https://dev-gang.ru/article/python-scrapy-selenium-beautiful-soup-czto-luczshe-dlja-parsinga-veb-saitov-rmv3n1q3us/)\n",
    "\n",
    "[Beautiful Soup (HTML parser)](https://en.wikipedia.org/wiki/Beautiful_Soup_(HTML_parser))\n",
    "\n",
    "[Selenium автоматизация браузера в Python | Изучаем Selenium](https://selenium-python.com/)\n",
    "\n",
    "---"
   ]
  },
  {
   "cell_type": "markdown",
   "metadata": {},
   "source": [
    "## Обзор пакетов для веб-крапинга\n",
    "\n",
    "---\n",
    "\n",
    "### Scrapy\n",
    "\n",
    "<img src=\"images/logo_scrapy.png\" height=\"400\" width=\"400\"/>\n",
    "\n",
    "**Scrapy (читается как \"скрэй-пай\")** – это бесплатный фреймворк для веб-краулинга находящийся в открытом доступе, который написан на языке программирования Python.\n",
    "\n",
    "Архитектура проекта **Scrapy** построена вокруг **\"пауков\"**, которые по сути являются автономными краулерами с заданными инструкциями.\n",
    "\n",
    "**Поисковый робот (веб-паук, веб-краулер, бот, web crawler, spider, spiderbot, crawler, ant, automatic indexer)** — программа, являющаяся составной частью поисковой системы и предназначенная для перебора страниц Интернета с целью занесения информации о них в базу данных поисковика.\n",
    "\n",
    "По принципу действия, паук напоминает обычный браузер. Он анализирует содержимое страницы, сохраняет его в некотором специальном виде на сервере поисковой машины, и отправляется по ссылкам на следующие страницы.\n",
    "\n",
    "Кроме обычных пауков, существуют так называемые **\"дятлы\"** — роботы, которые \"простукивают\" проиндексированный сайт, чтобы определить, что он доступен.\n",
    "\n",
    "#### Ключевые особенности Scrapy:\n",
    "- Имеет встроенную поддержку для извлечения данных из источников `HTML` с использованием выражений `XPath` и `CSS`.\n",
    "- Это кросплатформенная библиотека, т.е. (Написана на Python и работает на Linux, Windows, Mac и BSD).\n",
    "- Легко расширяема.\n",
    "- Быстрее, чем другие существующие библиотеки. Он может извлекать сайты в 20 раз быстрее, чем другие инструменты. **Производительность `Scrapy` невероятно высока, и это одна из самых мощных доступных библиотек. Одним из ключевых преимуществ scrapy является то, что он построен на основе `Twisted`, асинхронной сетевой структуры, что означает, что scrapy использует неблокирующий механизм при отправке запросов пользователям.**\n",
    "- Потребляет намного меньше памяти и ресурсов процессора.\n",
    "- Может помочь нам создать надежное и гибкое приложение с множеством функций.\n",
    "- Имеет хорошую поддержку сообщества для разработчиков, но документация не очень хороша для начинающих.\n",
    "\n",
    "---\n",
    "\n",
    "### Beautiful soup\n",
    "<img src=\"images/logo_beauitful_soup.jpg\" height=\"400\" width=\"400\"/>\n",
    "Эта библиотека поможет извлечь данные из файлов `HTML` и `XML`. Но проблема с `Beautiful Soup` в том, что он не может выполнить всю работу самостоятельно (без дополнительных пакетов).\n",
    "\n",
    "\n",
    "#### Ключевые особенности  Beautiful soup:\n",
    "- Легко освоить.\n",
    "- Имеет хорошую всеобъемлющую документацию.\n",
    "- Имеет хорошую поддержку сообщества, чтобы выяснить проблемы, возникающие при работе с этой библиотекой.\n",
    "- Требует определенных модулей для работы. Наприме:\n",
    "    - Необходима библиотека  для отправки запроса на веб-сайт, потому что сам `Beautiful soup` не может сделать запрос на конкретный сервер. Для преодоления этой проблемы требуется помощь одной из популярных библиотек `Requests` или `urlib2`. Эти библиотеки помогут нам сделать запрос к серверу.\n",
    "    - После загрузки данных HTML или XML на локальный компьютер `Beautiful Soup` требуется внешний анализатор для анализа загруженных данных. Наиболее известные парсеры - это XML-parser `lxml`, `HTML-parser lxml`, `HTML5lib`, `html.parser`.\n",
    "\n",
    "---\n",
    "\n",
    "### Selenium\n",
    "<img src=\"images/logo_selenium.png\" height=\"400\" width=\"400\"/>\n",
    "\n",
    "`Selenium` предназначен для автоматизации тестирования веб-приложений. \n",
    "`Selenium` позволяет разработчику писать тесты на нескольких популярных языках программирования, таких как C#, Java, Python, Ruby и другие.\n",
    "Эта среда разработана для автоматизации браузера.\n",
    "\n",
    "#### Ключевые особенности Scrapy:"
   ]
  },
  {
   "cell_type": "code",
   "execution_count": null,
   "metadata": {},
   "outputs": [],
   "source": []
  },
  {
   "cell_type": "markdown",
   "metadata": {},
   "source": [
    "---\n",
    "\n",
    "## Подготовка окружения"
   ]
  },
  {
   "cell_type": "code",
   "execution_count": 6,
   "metadata": {},
   "outputs": [
    {
     "name": "stdout",
     "output_type": "stream",
     "text": [
      "/home/ira/anaconda3/envs/LevelUp_DataScience/bin/pip\n"
     ]
    }
   ],
   "source": [
    "!which pip"
   ]
  },
  {
   "cell_type": "code",
   "execution_count": 7,
   "metadata": {},
   "outputs": [
    {
     "name": "stdout",
     "output_type": "stream",
     "text": [
      "Collecting package metadata (current_repodata.json): done\n",
      "Solving environment: done\n",
      "\n",
      "# All requested packages already installed.\n",
      "\n"
     ]
    }
   ],
   "source": [
    "!conda install -c conda-forge scrapy -y"
   ]
  },
  {
   "cell_type": "code",
   "execution_count": 8,
   "metadata": {},
   "outputs": [
    {
     "data": {
      "text/plain": [
       "'2.4.1'"
      ]
     },
     "execution_count": 8,
     "metadata": {},
     "output_type": "execute_result"
    }
   ],
   "source": [
    "import scrapy\n",
    "scrapy.__version__"
   ]
  },
  {
   "cell_type": "code",
   "execution_count": 9,
   "metadata": {},
   "outputs": [
    {
     "name": "stdout",
     "output_type": "stream",
     "text": [
      "Error: scrapy.cfg already exists in /home/ira/LEVEL_UP/data-science-course-original/2_data_engineering/lectures/scrapy_tutorial\n"
     ]
    }
   ],
   "source": [
    "!scrapy startproject scrapy_tutorial"
   ]
  },
  {
   "cell_type": "code",
   "execution_count": 10,
   "metadata": {},
   "outputs": [
    {
     "name": "stdout",
     "output_type": "stream",
     "text": [
      "Scrapy 2.4.1 - no active project\n",
      "\n",
      "Unknown command: crawl\n",
      "\n",
      "Use \"scrapy\" to see available commands\n"
     ]
    }
   ],
   "source": [
    "!scrapy crawl quotes"
   ]
  },
  {
   "cell_type": "code",
   "execution_count": null,
   "metadata": {},
   "outputs": [],
   "source": []
  }
 ],
 "metadata": {
  "kernelspec": {
   "display_name": "Python [conda env:LevelUp_DataScience] *",
   "language": "python",
   "name": "conda-env-LevelUp_DataScience-py"
  },
  "language_info": {
   "codemirror_mode": {
    "name": "ipython",
    "version": 3
   },
   "file_extension": ".py",
   "mimetype": "text/x-python",
   "name": "python",
   "nbconvert_exporter": "python",
   "pygments_lexer": "ipython3",
   "version": "3.8.3"
  }
 },
 "nbformat": 4,
 "nbformat_minor": 4
}
