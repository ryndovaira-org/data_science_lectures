{
 "cells": [
  {
   "cell_type": "markdown",
   "metadata": {
    "jupyter": {
     "outputs_hidden": true
    }
   },
   "source": [
    "# Инженерия данных (Data Engineering)"
   ]
  },
  {
   "cell_type": "markdown",
   "metadata": {},
   "source": [
    "---\n",
    "**Источники:**\n",
    "\n",
    "[NoSQL](https://ru.wikipedia.org/wiki/NoSQL)\n",
    "\n",
    "[SQL](https://ru.wikipedia.org/wiki/SQL)\n",
    "\n",
    "[Apache Spark](https://ru.wikipedia.org/wiki/Apache_Spark)\n",
    "\n",
    "[Hadoop](https://ru.wikipedia.org/wiki/Hadoop)\n",
    "\n",
    "[ETL](https://ru.wikipedia.org/wiki/ETL)\n",
    "\n",
    "[Apache Hive](https://ru.wikipedia.org/wiki/Hadoop)\n",
    "\n",
    "[Apache Kafka](https://ru.wikipedia.org/wiki/Apache_Kafka)\n",
    "\n",
    "[Веб-скрейпинг](https://ru.wikipedia.org/wiki/%D0%92%D0%B5%D0%B1-%D1%81%D0%BA%D1%80%D0%B5%D0%B9%D0%BF%D0%B8%D0%BD%D0%B3)\n",
    "\n",
    "---"
   ]
  },
  {
   "cell_type": "markdown",
   "metadata": {},
   "source": [
    "Чтобы **Data Analyst** и **Data Scientist** могли извлекать из информационных потоков и массивов Big Data знания, полезные для бизнеса, все эти большие данные должны соответствующим образом собираться и храниться.\n",
    "\n",
    "Именно этим занимается **Data Engineer**: настраивает инфраструктуру для Big Data, корпоративных хранилищ информации, ETL-систем, внутренних баз данных и сторонних источников (почта, CRM-, ERP- и других прикладных систем)."
   ]
  },
  {
   "cell_type": "markdown",
   "metadata": {},
   "source": [
    "<center><img src=\"images/se_de_ds.png\" alt=\"se_de_ds\" width=\"600\" height=\"600\"/></center>"
   ]
  },
  {
   "cell_type": "markdown",
   "metadata": {},
   "source": [
    "Что нужно знать **Data Engineer**?\n",
    "\n",
    "- Принципы хранения информации в **SQL** и **NoSQL**, а также умение работать с реляционными и нереляционными базами данных (**MySQL**, MSSQL, PostgreSQL, **MongoDB**, SQL Server, Oracle, HP Vertica, Amazon Redshift и т.д.)\n",
    "\n",
    "- **ETL**-системы (AirFlow, Informatica ETL, Pentaho ETL, Talend и пр.).\n",
    "\n",
    "- **Облачные платформы** для Big Data решений (Amazon Web Services, Google Cloud Platform, Microsoft Azure и другие подобные решения от крупных PaaS/IaaS-провайдеров);\n",
    "\n",
    "- Стек Apache Hadoop (HDFS, HBase, Cassandra) и SQL-движки для анализа данных, хранящихся в распределенных файловых системах типа HDFS (Apache Hive, Impala и пр.);\n",
    "\n",
    "- Кластеры Big Data на базе Apache (Hadoop, Kafka, Spark);\n",
    "\n",
    "- Языки программирования (**Python**, Java, Scala) для работы с Big Data системами.\n",
    "\n",
    "- Способы получения данных для обработки (**Web scraping**, Mechanical Turk, Яндекс Толока)."
   ]
  },
  {
   "cell_type": "markdown",
   "metadata": {},
   "source": [
    "---\n",
    "\n",
    "**SQL** (ˈɛsˈkjuˈɛl; англ. structured query language - \"язык структурированных запросов\") - язык программирования, применяемый для создания, модификации и управления данными в реляционной базе данных, управляемой соответствующей системой управления базами данных.\n",
    "\n",
    "**NoSQL** (от англ. not only SQL - не только SQL) - термин, обозначающий ряд подходов, направленных на реализацию систем управления базами данных, имеющих существенные отличия от моделей, используемых в традиционных реляционных СУБД с доступом к данным средствами языка SQL. \n",
    "\n",
    "**ETL** (от англ. Extract, Transform, Load - дословно \"извлечение, преобразование, загрузка\") - один из основных процессов в управлении хранилищами данных.\n",
    "\n",
    "**Hadoop** - проект фонда Apache Software Foundation, свободно распространяемый набор утилит, библиотек и фреймворк для разработки и выполнения распределённых программ, работающих на кластерах из сотен и тысяч узлов.\n",
    "\n",
    "**Spark** (от англ. spark - искра, вспышка) - фреймворк с открытым исходным кодом для реализации распределённой обработки неструктурированных и слабоструктурированных данных, входящий в экосистему проектов Hadoop. \n",
    "\n",
    "**Hive** - система управления базами данных на основе платформы Hadoop. Позволяет выполнять запросы, агрегировать и анализировать данные, хранящиеся в Hadoop.\n",
    "\n",
    "**Kafka** - распределённый программный брокер сообщений, проект с открытым исходным кодом, разрабатываемый в рамках фонда Apache.\n",
    "\n",
    "**Web scraping** - это технология получения веб-данных путем извлечения их со страниц веб-ресурсов."
   ]
  },
  {
   "cell_type": "code",
   "execution_count": null,
   "metadata": {},
   "outputs": [],
   "source": []
  }
 ],
 "metadata": {
  "kernelspec": {
   "display_name": "Python [conda env:LevelUp_DataScience] *",
   "language": "python",
   "name": "conda-env-LevelUp_DataScience-py"
  },
  "language_info": {
   "codemirror_mode": {
    "name": "ipython",
    "version": 3
   },
   "file_extension": ".py",
   "mimetype": "text/x-python",
   "name": "python",
   "nbconvert_exporter": "python",
   "pygments_lexer": "ipython3",
   "version": "3.8.3"
  }
 },
 "nbformat": 4,
 "nbformat_minor": 4
}
