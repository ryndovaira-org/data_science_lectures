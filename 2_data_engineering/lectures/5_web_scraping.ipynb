{
 "cells": [
  {
   "cell_type": "markdown",
   "metadata": {
    "jupyter": {
     "outputs_hidden": true
    }
   },
   "source": [
    "# Веб-скрапинг (Web scraping)\n",
    "это технология получения веб-данных путем извлечения их со страниц веб-ресурсов."
   ]
  },
  {
   "cell_type": "markdown",
   "metadata": {},
   "source": [
    "---\n",
    "\n",
    "**Источники:**\n",
    "\n",
    "[Scrapy Wiki](https://ru.wikipedia.org/wiki/Scrapy)\n",
    "\n",
    "[Scrapy](https://scrapy.org/)\n",
    "\n",
    "[Scrapy Tutorial](https://docs.scrapy.org/en/latest/intro/tutorial.html)\n",
    "\n",
    "[Scrapy documentation](https://docs.scrapy.org/en/latest/)\n",
    "\n",
    "[Пишем простой парсер на Scrapy](https://pycoder.ru/make-simple-spider-scrapy/)\n",
    "\n",
    "[Библиотека для парсинга сайта Scrapy](https://tyvik.ru/posts/parsing-scrapy/)\n",
    "\n",
    "[Python: Scrapy, Selenium, Beautiful Soup что лучше для парсинга веб сайтов](https://dev-gang.ru/article/python-scrapy-selenium-beautiful-soup-czto-luczshe-dlja-parsinga-veb-saitov-rmv3n1q3us/)\n",
    "\n",
    "[Beautiful Soup (HTML parser)](https://en.wikipedia.org/wiki/Beautiful_Soup_(HTML_parser))\n",
    "\n",
    "[Selenium автоматизация браузера в Python | Изучаем Selenium](https://selenium-python.com/)\n",
    "\n",
    "[Selenium](https://ru.wikipedia.org/wiki/Selenium)\n",
    "\n",
    "[DOM-дерево](https://learn.javascript.ru/dom-nodes)\n",
    "\n",
    "[HTML-теги](https://html5book.ru/html-tags/#:~:text=HTML%2D%D1%82%D0%B5%D0%B3%D0%B8%20%E2%80%94%20%D0%BE%D1%81%D0%BD%D0%BE%D0%B2%D0%B0%20%D1%8F%D0%B7%D1%8B%D0%BA%D0%B0%20HTML,%D0%B8%20%D0%BA%D0%BE%D0%BD%D0%B5%D1%87%D0%BD%D1%8B%D0%BC%20(%D0%B7%D0%B0%D0%BA%D1%80%D1%8B%D0%B2%D0%B0%D1%8E%D1%89%D0%B8%D0%BC)%20%D1%82%D0%B5%D0%B3%D0%BE%D0%BC.)\n",
    "\n",
    "[Элементы HTML](https://ru.wikipedia.org/wiki/%D0%AD%D0%BB%D0%B5%D0%BC%D0%B5%D0%BD%D1%82%D1%8B_HTML)\n",
    "\n",
    "[Scrapy Common Practices](https://docs.scrapy.org/en/latest/topics/practices.html#run-from-script)\n",
    "\n",
    "---"
   ]
  },
  {
   "cell_type": "markdown",
   "metadata": {},
   "source": [
    "## Обзор пакетов для веб-крапинга\n",
    "\n",
    "---\n",
    "\n",
    "### Scrapy\n",
    "\n",
    "<img src=\"images/logo_scrapy.png\" height=\"400\" width=\"400\"/>\n",
    "\n",
    "**Scrapy (читается как \"скрэй-пай\")** – это бесплатный фреймворк для веб-краулинга находящийся в открытом доступе, который написан на языке программирования Python.\n",
    "\n",
    "Архитектура проекта **Scrapy** построена вокруг **\"пауков\"**, которые по сути являются автономными краулерами с заданными инструкциями.\n",
    "\n",
    "**Поисковый робот (веб-паук, веб-краулер, бот, web crawler, spider, spiderbot, crawler, ant, automatic indexer)** — программа, являющаяся составной частью поисковой системы и предназначенная для перебора страниц Интернета с целью занесения информации о них в базу данных поисковика.\n",
    "\n",
    "По принципу действия, паук напоминает обычный браузер. Он анализирует содержимое страницы, сохраняет его в некотором специальном виде на сервере поисковой машины, и отправляется по ссылкам на следующие страницы.\n",
    "\n",
    "Кроме обычных пауков, существуют так называемые **\"дятлы\"** — роботы, которые \"простукивают\" проиндексированный сайт, чтобы определить, что он доступен.\n",
    "\n",
    "#### Ключевые особенности Scrapy:\n",
    "- Имеет встроенную поддержку для извлечения данных из источников `HTML` с использованием выражений `XPath` и `CSS`.\n",
    "- Это кросплатформенная библиотека, т.е. (Написана на Python и работает на Linux, Windows, Mac и BSD).\n",
    "- Легко расширяема.\n",
    "- Быстрее, чем другие существующие библиотеки. Он может извлекать сайты в 20 раз быстрее, чем другие инструменты. **Производительность `Scrapy` невероятно высока, и это одна из самых мощных доступных библиотек. Одним из ключевых преимуществ scrapy является то, что он построен на основе `Twisted`, асинхронной сетевой структуры, что означает, что scrapy использует неблокирующий механизм при отправке запросов пользователям.**\n",
    "- Потребляет намного меньше памяти и ресурсов процессора.\n",
    "- Может помочь нам создать надежное и гибкое приложение с множеством функций.\n",
    "- Имеет хорошую поддержку сообщества для разработчиков, но документация не очень хороша для начинающих.\n",
    "\n",
    "---\n",
    "\n",
    "### Beautiful soup\n",
    "\n",
    "<img src=\"images/logo_beauitful_soup.jpg\" height=\"400\" width=\"400\"/>\n",
    "\n",
    "Эта библиотека поможет извлечь данные из файлов `HTML` и `XML`. Но проблема с `Beautiful Soup` в том, что он не может выполнить всю работу самостоятельно (без дополнительных пакетов).\n",
    "\n",
    "#### Ключевые особенности Beautiful soup:\n",
    "- Легко освоить.\n",
    "- Имеет хорошую всеобъемлющую документацию.\n",
    "- Имеет хорошую поддержку сообщества, чтобы выяснить проблемы, возникающие при работе с этой библиотекой.\n",
    "- Требует определенных модулей для работы. Наприме:\n",
    "    - Необходима библиотека  для отправки запроса на веб-сайт, потому что сам `Beautiful soup` не может сделать запрос на конкретный сервер. Для преодоления этой проблемы требуется помощь одной из популярных библиотек `Requests` или `urlib2`. Эти библиотеки помогут нам сделать запрос к серверу.\n",
    "    - После загрузки данных HTML или XML на локальный компьютер `Beautiful Soup` требуется внешний анализатор для анализа загруженных данных. Наиболее известные парсеры - это XML-parser `lxml`, `HTML-parser lxml`, `HTML5lib`, `html.parser`.\n",
    "\n",
    "---\n",
    "\n",
    "### Selenium WebDriver\n",
    "\n",
    "<img src=\"images/logo_selenium.png\" height=\"400\" width=\"400\"/>\n",
    "\n",
    "Это в первую очередь набор библиотек для различных языков программирования. Эти библиотеки используются для отправки HTTP запросов драйверу (отсюда и название WebDriver), в которых указано действие, которое должен совершить браузер в рамках текущей сессии. Примерами таких команд могут быть команды нахождения элементов по локатору, переход по ссылкам, парсинг текста страницы/элемента, нажатие кнопок или переход по ссылкам на странице веб-сайта. \n",
    "\n",
    "#### Ключевые особенности Selenium:\n",
    "- Может легко работать с основными концепциями Javascript (DOM)\n",
    "- Может легко обрабатывать запросы AJAX и PJAX.\n",
    "- API очень удобен для начинающих\n",
    "- В основном используется для автоматизации тестов для веб-приложений. Эта среда разработана для автоматизации браузера.\n",
    "- Может быть использован для разработки веб-пауков, многие люди делали это раньше.\n",
    "- Позволяет разработчику писать тесты на нескольких популярных языках программирования, таких как C#, Java, Python, Ruby и другие.\n"
   ]
  },
  {
   "cell_type": "markdown",
   "metadata": {},
   "source": [
    "## Выбор подходящего пакета (библиотеки)\n",
    "\n",
    "**Ключевые факторы, на которые важно обратить внимание:**\n",
    "\n",
    "- **Гибкость**\n",
    "\n",
    "    - `Scrapy`: Архитектура Scrapy спроектирована так, чтобы настраивать промежуточное ПО для добавления собственных функциональных возможностей. Эта особенность помогает сделать проект более надежным и гибким.\n",
    "    Одним из самых больших преимуществ Scrapy является то, что можно очень легко перенести существующий проект в другой проект. Поэтому для больших / сложных проектов Scrapy - лучший выбор для разработки.\n",
    "    Если проекту нужны прокси, конвейер данных, то Scrapy будет лучшим выбором.\n",
    "\n",
    "    - `Beautiful Soup`: Когда речь идет о небольшом проекте, или о низкоуровневом сложном проекте Beautiful Soup может выполнить задачу довольно хорошо. Это помогает поддерживать код простым и гибким.\n",
    "    Если хочется быстро что-то освоить, выполнить операции по поиску в Интернете, то Beautiful Soup - лучший выбор.\n",
    "    \n",
    "    - `Selenium`: когда вы имеете дело с Javascript на сайте, Selenium будет лучшим выбором, но размер данных должен быть ограничен.\n",
    "\n",
    "- **Производительность**\n",
    "    - `Scrapy`: самый быстрый из всех.\n",
    "\n",
    "    - `Beautiful Soup`: довольно медленно выполняет определенную задачу, но можно преодолеть эту проблему с помощью концепции многопоточности, но программисту необходимо знать концепцию многопоточности очень хорошо. Это обратная сторона Beautiful Soup.\n",
    "\n",
    "    - `Selenium`: может работать довольно быстро, но не эквивалентно Scrapy.\n",
    "\n",
    "- **Экосистема**\n",
    "    - `Scrapy`: у него хорошая экосистема, мы можем использовать прокси и VPN для автоматизации задач. Это одна из причин выбора библиотеки для сложных проектов. Можно отправлять несколько запросов с нескольких прокси-адресов.\n",
    "\n",
    "    - `BeautifulSoup`: эта библиотека имеет много зависимостей в экосистеме. Это один из недостатков этой библиотеки для сложного проекта.\n",
    "\n",
    "    - `Selenium`: у него хорошая экосистема для развития, но непросто настроить прокси."
   ]
  },
  {
   "cell_type": "markdown",
   "metadata": {},
   "source": [
    "---\n",
    "\n",
    "## Подготовка окружения"
   ]
  },
  {
   "cell_type": "code",
   "execution_count": 1,
   "metadata": {},
   "outputs": [
    {
     "name": "stdout",
     "output_type": "stream",
     "text": [
      "/home/ira/anaconda3/envs/LevelUp_DataScience/bin/pip\n"
     ]
    }
   ],
   "source": [
    "# ВНИМАНИЕ: необходимо удостовериться, что виртуальная среда выбрана правильно!\n",
    "\n",
    "!pip -V"
   ]
  },
  {
   "cell_type": "code",
   "execution_count": 2,
   "metadata": {},
   "outputs": [
    {
     "name": "stdout",
     "output_type": "stream",
     "text": [
      "Collecting package metadata (current_repodata.json): done\n",
      "Solving environment: done\n",
      "\n",
      "# All requested packages already installed.\n",
      "\n"
     ]
    }
   ],
   "source": [
    "!conda install -c conda-forge scrapy -y"
   ]
  },
  {
   "cell_type": "code",
   "execution_count": 6,
   "metadata": {},
   "outputs": [
    {
     "name": "stdout",
     "output_type": "stream",
     "text": [
      "/home/ira/anaconda3/envs/LevelUp_DataScience/bin/scrapy\n"
     ]
    }
   ],
   "source": [
    "!scrapy -V"
   ]
  },
  {
   "cell_type": "code",
   "execution_count": 3,
   "metadata": {},
   "outputs": [
    {
     "data": {
      "text/plain": [
       "'2.4.1'"
      ]
     },
     "execution_count": 3,
     "metadata": {},
     "output_type": "execute_result"
    }
   ],
   "source": [
    "import scrapy\n",
    "scrapy.__version__"
   ]
  },
  {
   "cell_type": "markdown",
   "metadata": {},
   "source": [
    "## Создание проекта и проверка работоспособности"
   ]
  },
  {
   "cell_type": "code",
   "execution_count": 1,
   "metadata": {},
   "outputs": [
    {
     "name": "stdout",
     "output_type": "stream",
     "text": [
      "New Scrapy project 'scrapy_lecture_project', using template directory '/home/ira/anaconda3/envs/LevelUp_DataScience/lib/python3.8/site-packages/scrapy/templates/project', created in:\n",
      "    /home/ira/LEVEL_UP/data-science-course-original/2_data_engineering/lectures/scrapy_lecture_project\n",
      "\n",
      "You can start your first spider with:\n",
      "    cd scrapy_lecture_project\n",
      "    scrapy genspider example example.com\n"
     ]
    }
   ],
   "source": [
    "# создать проект scrapy с именем scrapy_lecture_project\n",
    "!scrapy startproject scrapy_lecture_project"
   ]
  },
  {
   "cell_type": "markdown",
   "metadata": {},
   "source": [
    "**Эта команда создаст директорию вида:**\n",
    "\n",
    "```\n",
    "scrapy_lecture_project/\n",
    "  |  scrapy.cfg - конфигурационный файл для деплоя\n",
    "  |  pycoder/ - python модуль проекта, здесь будет лежать код\n",
    "    |  __init__.py\n",
    "    |  items.py - файлик с классом, описывающим то, что будет парситься\n",
    "    |  middlewares.py - описывается класс отвечающий за промежуточную обработку данных\n",
    "    |  pipelines.py - описывается как будет обработано и выведено то, что парсится\n",
    "    |  settings.py - настройки\n",
    "    |  spiders/ - папка для \"пауков\", это код, который отвечает за парсинг\n",
    "      |  __init__.py\n",
    "```"
   ]
  },
  {
   "cell_type": "code",
   "execution_count": 2,
   "metadata": {},
   "outputs": [
    {
     "name": "stdout",
     "output_type": "stream",
     "text": [
      "/home/ira/LEVEL_UP/data-science-course-original/2_data_engineering/lectures/scrapy_lecture_project\n",
      "/home/ira/LEVEL_UP/data-science-course-original/2_data_engineering/lectures/scrapy_lecture_project\n",
      "Created spider 'example' using template 'basic' in module:\n",
      "  scrapy_lecture_project.spiders.example\n"
     ]
    }
   ],
   "source": [
    "# следуя рекомендации можно проверить, что пример работает\n",
    "%cd scrapy_lecture_project\n",
    "!pwd\n",
    "!scrapy genspider example example.com"
   ]
  },
  {
   "cell_type": "code",
   "execution_count": 3,
   "metadata": {},
   "outputs": [
    {
     "name": "stdout",
     "output_type": "stream",
     "text": [
      "Scrapy 2.4.1 - project: scrapy_lecture_project\n",
      "\n",
      "Usage:\n",
      "  scrapy <command> [options] [args]\n",
      "\n",
      "Available commands:\n",
      "  bench         Run quick benchmark test\n",
      "  check         Check spider contracts\n",
      "  commands      \n",
      "  crawl         Run a spider\n",
      "  edit          Edit spider\n",
      "  fetch         Fetch a URL using the Scrapy downloader\n",
      "  genspider     Generate new spider using pre-defined templates\n",
      "  list          List available spiders\n",
      "  parse         Parse URL (using its spider) and print the results\n",
      "  runspider     Run a self-contained spider (without creating a project)\n",
      "  settings      Get settings values\n",
      "  shell         Interactive scraping console\n",
      "  startproject  Create new project\n",
      "  version       Print Scrapy version\n",
      "  view          Open URL in browser, as seen by Scrapy\n",
      "\n",
      "Use \"scrapy <command> -h\" to see more info about a command\n"
     ]
    }
   ],
   "source": [
    "# вывести help по scrapy\n",
    "!scrapy "
   ]
  },
  {
   "cell_type": "code",
   "execution_count": 4,
   "metadata": {
    "collapsed": true,
    "jupyter": {
     "outputs_hidden": true
    }
   },
   "outputs": [
    {
     "name": "stdout",
     "output_type": "stream",
     "text": [
      "/home/ira/anaconda3/envs/LevelUp_DataScience/lib/python3.8/site-packages/scrapy/commands/__init__.py:131: ScrapyDeprecationWarning: ('The -t command line option is deprecated in favor of specifying the output format within the output URI. See the documentation of the -o and -O options for more information.',)\n",
      "  feeds = feed_process_params_from_cli(\n",
      "2021-01-30 21:54:38 [scrapy.utils.log] INFO: Scrapy 2.4.1 started (bot: scrapy_lecture_project)\n",
      "2021-01-30 21:54:38 [scrapy.utils.log] INFO: Versions: lxml 4.6.2.0, libxml2 2.9.10, cssselect 1.1.0, parsel 1.5.2, w3lib 1.21.0, Twisted 20.3.0, Python 3.8.3 | packaged by conda-forge | (default, Jun  1 2020, 17:43:00) - [GCC 7.5.0], pyOpenSSL 20.0.0 (OpenSSL 1.1.1i  8 Dec 2020), cryptography 3.2.1, Platform Linux-5.4.0-65-generic-x86_64-with-glibc2.10\n",
      "2021-01-30 21:54:38 [scrapy.utils.log] DEBUG: Using reactor: twisted.internet.epollreactor.EPollReactor\n",
      "2021-01-30 21:54:38 [scrapy.crawler] INFO: Overridden settings:\n",
      "{'BOT_NAME': 'scrapy_lecture_project',\n",
      " 'NEWSPIDER_MODULE': 'scrapy_lecture_project.spiders',\n",
      " 'ROBOTSTXT_OBEY': True,\n",
      " 'SPIDER_MODULES': ['scrapy_lecture_project.spiders']}\n",
      "2021-01-30 21:54:38 [scrapy.extensions.telnet] INFO: Telnet Password: d0249d1b105f31e0\n",
      "2021-01-30 21:54:38 [scrapy.middleware] INFO: Enabled extensions:\n",
      "['scrapy.extensions.corestats.CoreStats',\n",
      " 'scrapy.extensions.telnet.TelnetConsole',\n",
      " 'scrapy.extensions.memusage.MemoryUsage',\n",
      " 'scrapy.extensions.feedexport.FeedExporter',\n",
      " 'scrapy.extensions.logstats.LogStats']\n",
      "2021-01-30 21:54:38 [scrapy.middleware] INFO: Enabled downloader middlewares:\n",
      "['scrapy.downloadermiddlewares.robotstxt.RobotsTxtMiddleware',\n",
      " 'scrapy.downloadermiddlewares.httpauth.HttpAuthMiddleware',\n",
      " 'scrapy.downloadermiddlewares.downloadtimeout.DownloadTimeoutMiddleware',\n",
      " 'scrapy.downloadermiddlewares.defaultheaders.DefaultHeadersMiddleware',\n",
      " 'scrapy.downloadermiddlewares.useragent.UserAgentMiddleware',\n",
      " 'scrapy.downloadermiddlewares.retry.RetryMiddleware',\n",
      " 'scrapy.downloadermiddlewares.redirect.MetaRefreshMiddleware',\n",
      " 'scrapy.downloadermiddlewares.httpcompression.HttpCompressionMiddleware',\n",
      " 'scrapy.downloadermiddlewares.redirect.RedirectMiddleware',\n",
      " 'scrapy.downloadermiddlewares.cookies.CookiesMiddleware',\n",
      " 'scrapy.downloadermiddlewares.httpproxy.HttpProxyMiddleware',\n",
      " 'scrapy.downloadermiddlewares.stats.DownloaderStats']\n",
      "2021-01-30 21:54:38 [scrapy.middleware] INFO: Enabled spider middlewares:\n",
      "['scrapy.spidermiddlewares.httperror.HttpErrorMiddleware',\n",
      " 'scrapy.spidermiddlewares.offsite.OffsiteMiddleware',\n",
      " 'scrapy.spidermiddlewares.referer.RefererMiddleware',\n",
      " 'scrapy.spidermiddlewares.urllength.UrlLengthMiddleware',\n",
      " 'scrapy.spidermiddlewares.depth.DepthMiddleware']\n",
      "2021-01-30 21:54:38 [scrapy.middleware] INFO: Enabled item pipelines:\n",
      "[]\n",
      "2021-01-30 21:54:38 [scrapy.core.engine] INFO: Spider opened\n",
      "2021-01-30 21:54:38 [scrapy.extensions.logstats] INFO: Crawled 0 pages (at 0 pages/min), scraped 0 items (at 0 items/min)\n",
      "2021-01-30 21:54:38 [scrapy.extensions.telnet] INFO: Telnet console listening on 127.0.0.1:6024\n",
      "2021-01-30 21:55:38 [scrapy.extensions.logstats] INFO: Crawled 0 pages (at 0 pages/min), scraped 0 items (at 0 items/min)\n",
      "2021-01-30 21:56:38 [scrapy.extensions.logstats] INFO: Crawled 0 pages (at 0 pages/min), scraped 0 items (at 0 items/min)\n",
      "2021-01-30 21:56:48 [scrapy.downloadermiddlewares.retry] DEBUG: Retrying <GET http://example.com/robots.txt> (failed 1 times): TCP connection timed out: 110: Connection timed out.\n",
      "2021-01-30 21:57:38 [scrapy.extensions.logstats] INFO: Crawled 0 pages (at 0 pages/min), scraped 0 items (at 0 items/min)\n",
      "2021-01-30 21:58:38 [scrapy.extensions.logstats] INFO: Crawled 0 pages (at 0 pages/min), scraped 0 items (at 0 items/min)\n",
      "2021-01-30 21:58:59 [scrapy.downloadermiddlewares.retry] DEBUG: Retrying <GET http://example.com/robots.txt> (failed 2 times): TCP connection timed out: 110: Connection timed out.\n",
      "2021-01-30 21:59:38 [scrapy.extensions.logstats] INFO: Crawled 0 pages (at 0 pages/min), scraped 0 items (at 0 items/min)\n",
      "2021-01-30 22:00:38 [scrapy.extensions.logstats] INFO: Crawled 0 pages (at 0 pages/min), scraped 0 items (at 0 items/min)\n",
      "2021-01-30 22:01:10 [scrapy.downloadermiddlewares.retry] ERROR: Gave up retrying <GET http://example.com/robots.txt> (failed 3 times): TCP connection timed out: 110: Connection timed out.\n",
      "2021-01-30 22:01:10 [scrapy.downloadermiddlewares.robotstxt] ERROR: Error downloading <GET http://example.com/robots.txt>: TCP connection timed out: 110: Connection timed out.\n",
      "Traceback (most recent call last):\n",
      "  File \"/home/ira/anaconda3/envs/LevelUp_DataScience/lib/python3.8/site-packages/scrapy/core/downloader/middleware.py\", line 45, in process_request\n",
      "    return (yield download_func(request=request, spider=spider))\n",
      "twisted.internet.error.TCPTimedOutError: TCP connection timed out: 110: Connection timed out.\n",
      "2021-01-30 22:01:38 [scrapy.extensions.logstats] INFO: Crawled 0 pages (at 0 pages/min), scraped 0 items (at 0 items/min)\n",
      "2021-01-30 22:02:38 [scrapy.extensions.logstats] INFO: Crawled 0 pages (at 0 pages/min), scraped 0 items (at 0 items/min)\n",
      "2021-01-30 22:03:21 [scrapy.downloadermiddlewares.retry] DEBUG: Retrying <GET http://example.com/> (failed 1 times): TCP connection timed out: 110: Connection timed out.\n",
      "2021-01-30 22:03:38 [scrapy.extensions.logstats] INFO: Crawled 0 pages (at 0 pages/min), scraped 0 items (at 0 items/min)\n",
      "2021-01-30 22:04:38 [scrapy.extensions.logstats] INFO: Crawled 0 pages (at 0 pages/min), scraped 0 items (at 0 items/min)\n",
      "2021-01-30 22:05:32 [scrapy.downloadermiddlewares.retry] DEBUG: Retrying <GET http://example.com/> (failed 2 times): TCP connection timed out: 110: Connection timed out.\n",
      "2021-01-30 22:05:38 [scrapy.extensions.logstats] INFO: Crawled 0 pages (at 0 pages/min), scraped 0 items (at 0 items/min)\n",
      "^C\n",
      "2021-01-30 22:06:06 [scrapy.crawler] INFO: Received SIGINT, shutting down gracefully. Send again to force \n",
      "2021-01-30 22:06:06 [scrapy.core.engine] INFO: Closing spider (shutdown)\n"
     ]
    }
   ],
   "source": [
    "# используем паука example (проверка работоспособности)\n",
    "# сохранить результат в файл output.csv (тип файла csv)\n",
    "!scrapy crawl example -o output.csv -t csv"
   ]
  },
  {
   "cell_type": "markdown",
   "metadata": {},
   "source": [
    "## Изучение структуры сайта\n",
    "\n",
    "Не существует какого-либо универсального решения, потому что **каждый сайт предоставляет информацию по-разному**. \n",
    "\n",
    "Первое, что нужно сделать - изучить структуру сайта с помощью консоли разработчика (то есть после открытия интересующей страницы сайта нажать `ПКМ` -> `Inspect` / `Developer Tools` или `F12` / `Ctrl+Shift+I`).\n",
    "\n",
    "<img src=\"images/habr_companies_page_with_inspect.png\"/>\n",
    "\n",
    "**DOM (от англ. Document Object Model — \"объектная модель документа\")** — это независящий от платформы и языка программный интерфейс, позволяющий программам и скриптам получить доступ к содержимому **HTML**-, XHTML- и XML-документов, а также изменять содержимое, структуру и оформление таких документов.\n",
    "\n",
    "<img src=\"images/DOM.png\" height=\"400\" width=\"400\"/>\n",
    "\n",
    "Основой **HTML**-документа являются **теги**.\n",
    "\n",
    "В соответствии с **объектной моделью документа («Document Object Model», коротко DOM)**, каждый **HTML**-тег является объектом. Вложенные теги являются «детьми» родительского элемента. Текст, который находится внутри тега, также является объектом.\n",
    "\n",
    "Каждый **HTML**-документ состоит из дерева **HTML**-элементов и текста. Каждый **HTML**-элемент обозначается начальным (открывающим) и конечным (закрывающим) тегом."
   ]
  },
  {
   "cell_type": "markdown",
   "metadata": {},
   "source": [
    "## Создание \"паука\"\n",
    "\n",
    "`Spider`'ы - это классы, которые необходимо реализовать самостоятельно, `Scrapy` использует для извлечения данных с сайта.\n",
    "\n",
    "Эти классы должны наследоваться от `scrapy.Spider`, в них должны быть описаны \n",
    "- начальные запросы, \n",
    "- как идти по ссылкам на страницах,\n",
    "- какую информацию извлекать со страниц.\n",
    "\n",
    "\n",
    "Название `spider`'a - это очень важный параметр, по этому названию `spider` будет запускаться.\n",
    "\n",
    "Атрибут класса `start_urls` - это список `url`'ов, которые будут использованы для начальных запросов. \n",
    "Для заданного `url`'a будет вызван метод `parse`. \n",
    "\n",
    "Scrapy поддерживает селекторы `CSS` и `XPath`.\n",
    "\n",
    "**В примере будут использваны `CSS`, так как это проще.**"
   ]
  },
  {
   "cell_type": "markdown",
   "metadata": {},
   "source": [
    "### Добавление настроек в `Settings.py`\n",
    "\n",
    "Добавить настройку `FEED_EXPORT_ENCODING = 'utf-8'` (иначе русские буквы будут \"закодированы\")."
   ]
  },
  {
   "cell_type": "markdown",
   "metadata": {},
   "source": [
    "### Отладка через Pycharm\n",
    "\n",
    "Из [официальной документации](https://docs.scrapy.org/en/latest/topics/practices.html#run-from-script):\n",
    "\n",
    "```\n",
    "import scrapy\n",
    "from scrapy.crawler import CrawlerProcess\n",
    "\n",
    "class MySpider(scrapy.Spider):\n",
    "    # Your spider definition\n",
    "    ...\n",
    "\n",
    "process = CrawlerProcess(settings={\n",
    "    \"FEEDS\": {\n",
    "        \"items.json\": {\"format\": \"json\"},\n",
    "    },\n",
    "})\n",
    "\n",
    "process.crawl(MySpider)\n",
    "process.start() # the script will block here until the crawling is finished\n",
    "```"
   ]
  },
  {
   "cell_type": "markdown",
   "metadata": {},
   "source": [
    "### Запуск Паука из терминала и сохранение результатов в файл\n",
    "\n",
    "В терминале:\n",
    "`scrapy crawl <spider_name> -o <file_name>.json --nolog` \n",
    "\n",
    "`spider_name` указывается в качестве атрибута класса, который унаследован от `scrapy.Spider` (и находится в пакете `spiders`).\n",
    "\n",
    "Можно сохранять не только в `json`, но и `csv`.\n",
    "\n",
    "Можно использовать `--nolog`, если подробный вывод результатов в терминал не нужен (так как сохраняем результаты в файл, например)."
   ]
  },
  {
   "cell_type": "markdown",
   "metadata": {},
   "source": [
    "### Python теоретический минимум\n",
    "\n",
    "**Функция-генератор** - это функция, в которой присутствует ключевое слово `yield`. При вызове, эта функция возвращает объект генератор. Так как и сама функция и объект, который она возвращает, называется **генератор**, возникает путанница, о чем идет речь. В документации Python очень часто объект генератор называется итератором. Поэтому тут я тоже буду называть возвращенный объект итератором, а функцию - генератором.\n",
    "\n",
    "Чтобы создать **генератор**, необходимо определить функцию, как обычно, но использовать `yield` вместо `return`, указывая интерпретатору, что эту функцию следует рассматривать как итератор.\n",
    "\n",
    "Оператор `yield` приостанавливает функцию и сохраняет локальное состояние, чтобы его можно было возобновить с того места, где оно было остановлено.\n",
    "\n",
    "Генератор генерирует значения. При этом, значения возвращаются по запросу и после возврата одного значения, выполнение функции-генератора приостанавливается до запроса следующего значения. Между запросами генератор сохраняет свое состояние.\n",
    "\n",
    "\n",
    "В программировании, **асинхронными** событиями являются те, которые возникают независимо от основного потока выполнения программы. **Асинхронные** действия — действия, выполненные в неблокирующем режиме, что позволяет основному потоку программы продолжить обработку."
   ]
  }
 ],
 "metadata": {
  "kernelspec": {
   "display_name": "Python [conda env:LevelUp_DataScience] *",
   "language": "python",
   "name": "conda-env-LevelUp_DataScience-py"
  },
  "language_info": {
   "codemirror_mode": {
    "name": "ipython",
    "version": 3
   },
   "file_extension": ".py",
   "mimetype": "text/x-python",
   "name": "python",
   "nbconvert_exporter": "python",
   "pygments_lexer": "ipython3",
   "version": "3.8.3"
  }
 },
 "nbformat": 4,
 "nbformat_minor": 4
}