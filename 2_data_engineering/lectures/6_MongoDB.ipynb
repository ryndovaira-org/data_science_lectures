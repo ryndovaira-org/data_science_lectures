{
 "cells": [
  {
   "cell_type": "markdown",
   "metadata": {
    "jupyter": {
     "outputs_hidden": true
    }
   },
   "source": [
    "# MongoDB"
   ]
  },
  {
   "cell_type": "markdown",
   "metadata": {},
   "source": [
    "---\n",
    "\n",
    "**Источники:**\n",
    "\n",
    "[MongoDB](https://ru.wikipedia.org/wiki/MongoDB)\n",
    "\n",
    "[Большой туториал по MongoDB](https://medium.com/@Merrick_krg/%D0%B1%D0%BE%D0%BB%D1%8C%D1%88%D0%BE%D0%B9-%D1%82%D1%83%D1%82%D0%BE%D1%80%D0%B8%D0%B0%D0%BB-%D0%BF%D0%BE-mongodb-7e2f9e17f0c7)\n",
    "\n",
    "[MongoDB: Создание, обновление и удаление документов](https://habr.com/ru/post/134524/)\n",
    "\n",
    "[MongoDB: Запросы](https://habr.com/ru/post/134590/)\n",
    "\n",
    "[MongoDB vs MySQL: A Comparative Study on Databases](https://www.simform.com/mongodb-vs-mysql-databases)\n",
    "\n",
    "[Academy 3T](https://studio3t.com/academy/)\n",
    "\n",
    "[Robo 3T GUI](https://robomongo.org/download)\n",
    "\n",
    "[PyMongo 3.11.2 documentation Tutorial](https://pymongo.readthedocs.io/en/stable/tutorial.html)\n",
    "\n",
    "[Query and Projection Operators]()\n",
    "\n",
    "---"
   ]
  },
  {
   "cell_type": "markdown",
   "metadata": {},
   "source": [
    "## Терминология\n",
    "\n",
    "**MongoDB** — документоориентированная система управления базами данных, не требующая описания схемы таблиц.\n",
    "\n",
    "Считается одним из классических примеров NoSQL-систем. \n",
    "\n",
    "Использует JSON-подобные документы и схему базы данных.\n",
    "\n",
    "Написана на языке C++. \n",
    "\n",
    "Система поддерживает ad-hoc-запросы: они могут возвращать конкретные поля документов и пользовательские JavaScript-функции. \n",
    "\n",
    "*Ad hoc — латинская фраза, означающая «специально для этого», «по особому случаю».\n",
    "\n",
    "Поддерживается поиск по регулярным выражениям. Также можно настроить запрос на возвращение случайного набора результатов.\n",
    "\n",
    "Имеется поддержка индексов (объект базы данных, создаваемый с целью повышения производительности поиска данных).\n",
    "\n",
    "<center><img src=\"images/MongoDB_database_colection.png\"/></center>\\\n",
    "\n",
    "В июне 2018 года (в версии 4.0) добавлена поддержка транзакций, удовлетворяющих требованиям ACID.\n",
    "\n",
    "### MongoDB подходит для следующих применений\n",
    "- хранение и регистрация событий;\n",
    "- системы управления документами и контентом;\n",
    "- электронная коммерция;\n",
    "- игры;\n",
    "- данные мониторинга, датчиков;\n",
    "- мобильные приложения;\n",
    "- хранилище операционных данных веб-страниц (например, хранение комментариев, рейтингов, профилей пользователей, сеансы пользователей).\n",
    "\n",
    "### Различия MongoDB и RDBMS\n",
    "\n",
    "<center><img src=\"images/rdbms_vs_mongodb.png\"/></center>\n",
    "\n",
    "<center><img src=\"images/mongodb_and_rdbms_schema.png\"/></center>"
   ]
  },
  {
   "cell_type": "markdown",
   "metadata": {},
   "source": [
    "---\n",
    "\n",
    "## Подготовка окружения\n",
    "\n",
    "### Установка MongoDB\n",
    "\n",
    "[MongoDB Community Server](https://www.mongodb.com/try/download/community)\n",
    "\n",
    "[Robo 3T: the hobbyist GUI](https://robomongo.org/download)"
   ]
  },
  {
   "cell_type": "code",
   "execution_count": null,
   "metadata": {},
   "outputs": [],
   "source": [
    "!which pip"
   ]
  },
  {
   "cell_type": "code",
   "execution_count": null,
   "metadata": {},
   "outputs": [],
   "source": [
    "!conda install pymongo -y"
   ]
  },
  {
   "cell_type": "markdown",
   "metadata": {},
   "source": [
    "---\n",
    "\n",
    "## MongoDB Типы данных\n",
    "\n",
    "Документы в MongoDB являются **\"JSON-like\"**.\n",
    "\n",
    "- `null`. Может использоваться для представления нулевого значения или несуществующего поля.\n",
    "```\n",
    "{ x: null }\n",
    "```\n",
    "\n",
    "\n",
    "- `boolean`. Это два значения true false.\n",
    "```\n",
    "{ x: true, y: false }\n",
    "```\n",
    "\n",
    "\n",
    "- `number`. Числа используются формат 64 битных с плавающей точкой. Для целых чисел можно использовать функции `NumberInt()` или `NumberLong()` которые используют 4 байта и 8 байтов для хранения чисел соответственно. `NumberDecimal()` принимает десятичное значение в виде строки.\n",
    "```\n",
    "{\n",
    " x: 3.14,\n",
    " y: 3,\n",
    " z: NumberInt('3'),\n",
    " r: NumberLong('2090845886852'),\n",
    " m: NumberDecimal(\"1000.55\")\n",
    "}\n",
    "```\n",
    "\n",
    "\n",
    "- `string`. Строки это массив UTF-8 символов.\n",
    "```\n",
    "{ x: 'string' }\n",
    "```\n",
    "\n",
    "\n",
    "- `date`. Дата в mongoDB это 64-битные целые числа, которые показывают дату прошедшую с эпохи Unix (англ. Unix Epoch) (1 января, 1970 года). Time zone не сохраняется. Для работы с датой mongoDB используют класс Date в JS. Дата в mongo shell используют текущую time zone, но в базе хранится значение миллисекунд прошедших с эпохи линукс.\n",
    "```\n",
    "{ \n",
    "x: new Date(),\n",
    "y: new ISODate(\"2012-12-19T06:01:17.171Z\")\n",
    "}\n",
    "```\n",
    "\n",
    "\n",
    "- `regular expression`. Сохраненные регулярные выражения могут использоваться в регулярных выражениях в JS.\n",
    "```\n",
    "{ x: /foobar/i }\n",
    "```\n",
    "\n",
    "\n",
    "- `array`. Наборы (sets) или Списки (lists) могут быть представлены как массивы в базе. MongoDB поддерживает атомный update элементов. Например если в целом массиве нужно заменить элемент pie на pi, то мы заменим только этот элемент.\n",
    "```\n",
    "{ x: ['string', 3.14, new Date()] }\n",
    "```\n",
    "\n",
    "\n",
    "- `embedded document`. Документы могут содержать целые документы, встроенные в качестве значений в родительский документ. MongoDB так же как и с массивами понимает, когда используется embedded documents и оптимизирует работу с ними.\n",
    "```\n",
    "{ x: { name: 'Merrick', isAdmin: true } }\n",
    "```\n",
    "\n",
    "\n",
    "- `object id`. Идентификатор объекта это отдельный 12-байтовый тип данных, который используется для идентифицирования документов.\n",
    "    - Каждый документ должен иметь поле _id, поле может быть любого типа, но обычно оно типа `ObjectId`. \n",
    "    - Тип `ObjectId` был разработан, легким (lightweight) в тоже время, что бы мог генерировать уникальные ключи на разных платформах. \n",
    "    - Если создать несколько `object id` в быстрой последовательности, можно заметить, что только последние несколько цифр меняются каждый раз. Это связано с тем как создаются `ObjectId`. 12 байтов формируются следующим образом:\n",
    "        - Первые 4 байта это timestamp. В этой информации присутствует неявно дата создания документа.\n",
    "        - Следующие 3 байта это machine PID, что означает уникальный идентификатор машины, сделано для того, чтобы разные машины случайно не создали одинаковый `ObjectId`. Обычно это хэш машины.\n",
    "        - Чтобы обеспечить уникальность между процессами, следующие два байта берутся из PID процесса.\n",
    "        - Остальные три байта это просто инкрементация, которая отвечает за уникальность выполнения в данную секунду, что позволяет нам создавать 16,777,216 `ObjectId` в секунду на одной машине в одном процессе.\n",
    "\n",
    "```\n",
    "{ x: ObjectId() }\n",
    "{ _id: 10, calc: NumberLong(\"2090845886852\") }\n",
    "```\n",
    "\n",
    "\n",
    "- `binary data`. Двоичные данные представляют собой строку произвольных байтов. Ими нельзя манипулировать из оболочки. Двоичные данные - единственный способ хранить строки не-UTF-8 в базе данных.\n",
    "\n",
    "\n",
    "- `code`. MongoDB позволяет хранить произвольный JS код в документах и запросах под отдельным типом данных..\n",
    "```\n",
    "{ x: function list() { /* ... */ } }\n",
    "```"
   ]
  },
  {
   "cell_type": "markdown",
   "metadata": {},
   "source": [
    "---\n",
    "\n",
    "## MongoDB + Python"
   ]
  },
  {
   "cell_type": "code",
   "execution_count": null,
   "metadata": {},
   "outputs": [],
   "source": [
    "import pymongo\n",
    "from pymongo import MongoClient\n",
    "\n",
    "pymongo.__version__"
   ]
  },
  {
   "cell_type": "markdown",
   "metadata": {},
   "source": [
    "---\n",
    "\n",
    "### Подключение к базе данных"
   ]
  },
  {
   "cell_type": "code",
   "execution_count": null,
   "metadata": {},
   "outputs": [],
   "source": [
    "# данные для подключения к БД\n",
    "host='localhost'\n",
    "port=3306"
   ]
  },
  {
   "cell_type": "code",
   "execution_count": null,
   "metadata": {},
   "outputs": [],
   "source": [
    "# альтернативный вариант: MongoClient(host, port)\n",
    "client = MongoClient(f'mongodb://{host}:{port}/') \n",
    "client"
   ]
  },
  {
   "cell_type": "code",
   "execution_count": null,
   "metadata": {},
   "outputs": [],
   "source": [
    "db = client['test-database']\n",
    "db"
   ]
  },
  {
   "cell_type": "code",
   "execution_count": null,
   "metadata": {},
   "outputs": [],
   "source": [
    "# альтернативный вариант: collection = db['test_collection']\n",
    "collection = db.test_collection\n",
    "collection"
   ]
  },
  {
   "cell_type": "markdown",
   "metadata": {},
   "source": [
    "---\n",
    "\n",
    "### Создание, обновление и удаление документов. Запросы.\n",
    "\n",
    "Данные в MongoDB представлены (и хранятся) с использованием документов в стиле JSON.\n",
    "\n",
    "В PyMongo используются словари (dict) для представления документов.\n",
    "\n",
    "- `insert_<one|many>` - базовый метод для добавление информации.\n",
    "- `delete_<one|many>` - базовый метод для добавление информации.\n",
    "- `update` - базовый метод для обновления информации.\n",
    "- `find[_one]` - аналог SELECT в MySQL, используется для выборки документов."
   ]
  },
  {
   "cell_type": "markdown",
   "metadata": {},
   "source": [
    "#### Селекторы запросов\n"
   ]
  },
  {
   "cell_type": "markdown",
   "metadata": {},
   "source": [
    "Продолжение в файле [6_MongoDB_client.py](./6_MongoDB_client.py)"
   ]
  }
 ],
 "metadata": {
  "kernelspec": {
   "display_name": "Python [conda env:LevelUp_DataScience] *",
   "language": "python",
   "name": "conda-env-LevelUp_DataScience-py"
  },
  "language_info": {
   "codemirror_mode": {
    "name": "ipython",
    "version": 3
   },
   "file_extension": ".py",
   "mimetype": "text/x-python",
   "name": "python",
   "nbconvert_exporter": "python",
   "pygments_lexer": "ipython3",
   "version": "3.8.3"
  }
 },
 "nbformat": 4,
 "nbformat_minor": 4
}