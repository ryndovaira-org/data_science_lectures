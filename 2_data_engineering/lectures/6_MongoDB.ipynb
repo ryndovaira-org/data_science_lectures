{
 "cells": [
  {
   "cell_type": "markdown",
   "metadata": {
    "jupyter": {
     "outputs_hidden": true
    }
   },
   "source": [
    "# MongoDB"
   ]
  },
  {
   "cell_type": "markdown",
   "metadata": {},
   "source": [
    "---\n",
    "\n",
    "**Источники:**\n",
    "\n",
    "[Большой туториал по MongoDB](https://medium.com/@Merrick_krg/%D0%B1%D0%BE%D0%BB%D1%8C%D1%88%D0%BE%D0%B9-%D1%82%D1%83%D1%82%D0%BE%D1%80%D0%B8%D0%B0%D0%BB-%D0%BF%D0%BE-mongodb-7e2f9e17f0c7)\n",
    "\n",
    "[MongoDB vs MySQL: A Comparative Study on Databases](https://www.simform.com/mongodb-vs-mysql-databases)\n",
    "\n",
    "[Academy 3T](https://studio3t.com/academy/)\n",
    "\n",
    "---"
   ]
  },
  {
   "cell_type": "markdown",
   "metadata": {},
   "source": [
    "**MongoDB** — документоориентированная система управления базами данных, не требующая описания схемы таблиц.\n",
    "\n",
    "Считается одним из классических примеров NoSQL-систем. \n",
    "\n",
    "Использует JSON-подобные документы и схему базы данных.\n",
    "\n",
    "Написана на языке C++. \n",
    "\n",
    "<center><img src=\"images/MongoDB_database_colection.png\"/></center>\n",
    "\n",
    "<center><img src=\"images/rdbms_vs_mongodb.png\"/></center>\n",
    "\n",
    "<center><img src=\"images/mongodb_and_rdbms_schema.png\"/></center>\n",
    "\n",
    "**MongoDB подходит для следующих применений**:\n",
    "- хранение и регистрация событий;\n",
    "- системы управления документами и контентом;\n",
    "- электронная коммерция;\n",
    "- игры;\n",
    "- данные мониторинга, датчиков;\n",
    "- мобильные приложения;\n",
    "- хранилище операционных данных веб-страниц (например, хранение комментариев, рейтингов, профилей пользователей, сеансы пользователей)."
   ]
  },
  {
   "cell_type": "code",
   "execution_count": null,
   "metadata": {},
   "outputs": [],
   "source": []
  }
 ],
 "metadata": {
  "kernelspec": {
   "display_name": "Python 3",
   "language": "python",
   "name": "python3"
  },
  "language_info": {
   "codemirror_mode": {
    "name": "ipython",
    "version": 3
   },
   "file_extension": ".py",
   "mimetype": "text/x-python",
   "name": "python",
   "nbconvert_exporter": "python",
   "pygments_lexer": "ipython3",
   "version": "3.8.3"
  }
 },
 "nbformat": 4,
 "nbformat_minor": 4
}
