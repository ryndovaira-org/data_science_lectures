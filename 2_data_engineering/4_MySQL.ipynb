{
 "cells": [
  {
   "cell_type": "markdown",
   "metadata": {},
   "source": [
    "# MySQL\n",
    "\n",
    "<center><img src=\"images/mysql_logo.jpg\" alt=\"mysql_logo\" width=\"400\" height=\"400\"/></center>"
   ]
  },
  {
   "cell_type": "markdown",
   "metadata": {},
   "source": [
    "## Описание\n",
    "\n",
    "**[MySQL](https://www.mysql.com/)** - свободная реляционная система управления базами данных.\n",
    "\n",
    "\n",
    "**[MySQL Workbench](https://dev.mysql.com/doc/workbench)** — инструмент для визуального проектирования баз данных, интегрирующий проектирование, моделирование, создание и эксплуатацию БД в единое бесшовное окружение для системы баз данных MySQL.\n",
    "\n",
    "**[SQLAlchemy](https://www.sqlalchemy.org/)** — это программное обеспечение с открытым исходным кодом для работы с базами данных при помощи языка SQL."
   ]
  },
  {
   "cell_type": "markdown",
   "metadata": {},
   "source": [
    "## MySQl + Python"
   ]
  },
  {
   "cell_type": "markdown",
   "metadata": {},
   "source": [
    "---\n",
    "\n",
    "**ВНИМАНИЕ!**\n",
    "\n",
    "Необходимо установить пакет `nb_conda_kernels`\n",
    "\n",
    "<img src=\"images/nb_conda_kernels.png\" alt=\"nb_conda_kernels\"/>\n",
    "\n",
    "\n",
    "и выбрать в JupyterLab правильную среду\n",
    "\n",
    "<img src=\"images/jupyter_env.png\" alt=\"jupyter_env\"/>\n",
    "\n",
    "---"
   ]
  },
  {
   "cell_type": "code",
   "execution_count": 3,
   "metadata": {},
   "outputs": [
    {
     "name": "stdout",
     "output_type": "stream",
     "text": [
      "/home/ira/anaconda3/envs/LevelUp_DataScience/bin/pip\n"
     ]
    }
   ],
   "source": [
    "!which pip"
   ]
  },
  {
   "cell_type": "code",
   "execution_count": 1,
   "metadata": {},
   "outputs": [
    {
     "name": "stdout",
     "output_type": "stream",
     "text": [
      "Collecting package metadata (current_repodata.json): done\n",
      "Solving environment: done\n",
      "\n",
      "## Package Plan ##\n",
      "\n",
      "  environment location: /home/ira/anaconda3/envs/LevelUp_DataScience\n",
      "\n",
      "  added / updated specs:\n",
      "    - sqlalchemy\n",
      "\n",
      "\n",
      "The following NEW packages will be INSTALLED:\n",
      "\n",
      "  sqlalchemy         pkgs/main/linux-64::sqlalchemy-1.3.20-py38h7b6447c_0\n",
      "\n",
      "\n",
      "Preparing transaction: done\n",
      "Verifying transaction: done\n",
      "Executing transaction: done\n"
     ]
    }
   ],
   "source": [
    "!conda install SQLAlchemy -y"
   ]
  },
  {
   "cell_type": "code",
   "execution_count": null,
   "metadata": {},
   "outputs": [],
   "source": []
  }
 ],
 "metadata": {
  "kernelspec": {
   "display_name": "Python [conda env:LevelUp_DataScience] *",
   "language": "python",
   "name": "conda-env-LevelUp_DataScience-py"
  },
  "language_info": {
   "codemirror_mode": {
    "name": "ipython",
    "version": 3
   },
   "file_extension": ".py",
   "mimetype": "text/x-python",
   "name": "python",
   "nbconvert_exporter": "python",
   "pygments_lexer": "ipython3",
   "version": "3.8.5"
  }
 },
 "nbformat": 4,
 "nbformat_minor": 4
}
