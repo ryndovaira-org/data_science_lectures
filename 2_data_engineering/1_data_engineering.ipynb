{
 "cells": [
  {
   "cell_type": "markdown",
   "metadata": {
    "jupyter": {
     "outputs_hidden": true
    }
   },
   "source": [
    "# Инженерия данных (Data Engineering)"
   ]
  },
  {
   "cell_type": "markdown",
   "metadata": {},
   "source": [
    "---\n",
    "**Источники:**\n",
    "\n",
    "---"
   ]
  },
  {
   "cell_type": "markdown",
   "metadata": {},
   "source": [
    "Чтобы **Data Analyst** и **Data Scientist** могли извлекать из информационных потоков и массивов Big Data знания, полезные для бизнеса, все эти большие данные должны соответствующим образом собираться и храниться.\n",
    "\n",
    "Именно этим занимается **Data Engineer**: настраивает инфраструктуру для Big Data, корпоративных хранилищ информации, ETL-систем, внутренних баз данных и сторонних источников (почта, CRM-, ERP- и других прикладных систем)."
   ]
  },
  {
   "cell_type": "markdown",
   "metadata": {},
   "source": [
    "<center><img src=\"images/se_de_ds.png\" alt=\"se_de_ds\" width=\"600\" height=\"600\"/></center>"
   ]
  },
  {
   "cell_type": "markdown",
   "metadata": {},
   "source": [
    "Что нужно знать **Data Engineer**?\n",
    "\n",
    "- Принципы хранения информации в **SQL** и **NoSQL**, а также умение работать с реляционными и нереляционными базами данных (**MySQL**, MSSQL, PostgreSQL, **MongoDB**, SQL Server, Oracle, HP Vertica, Amazon Redshift и т.д.)\n",
    "\n",
    "- ETL-системы (Informatica ETL, Pentaho ETL, Talend и пр.).\n",
    "\n",
    "- Облачные платформы для Big Data решений (Amazon Web Services, Google Cloud Platform, Microsoft Azure и другие подобные решения от крупных PaaS/IaaS-провайдеров);\n",
    "\n",
    "- Стек Apache Hadoop (HDFS, HBase, Cassandra) и SQL-движки для анализа данных, хранящихся в распределенных файловых системах типа HDFS (Apache Hive, Impala и пр.);\n",
    "\n",
    "- Кластеры Big Data на базе Apache (Hadoop, Kafka, Spark);\n",
    "\n",
    "- Языки программирования (**Python**, Java, Scala) для работы с Big Data системами.\n",
    "\n",
    "- Способы получения данных для обработки (**Web scraping**, Mechanical Turk, Яндекс Толока)."
   ]
  }
 ],
 "metadata": {
  "kernelspec": {
   "display_name": "Python 3",
   "language": "python",
   "name": "python3"
  },
  "language_info": {
   "codemirror_mode": {
    "name": "ipython",
    "version": 3
   },
   "file_extension": ".py",
   "mimetype": "text/x-python",
   "name": "python",
   "nbconvert_exporter": "python",
   "pygments_lexer": "ipython3",
   "version": "3.8.5"
  }
 },
 "nbformat": 4,
 "nbformat_minor": 4
}