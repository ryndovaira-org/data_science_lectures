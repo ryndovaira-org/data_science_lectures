{
 "cells": [
  {
   "cell_type": "markdown",
   "id": "ed00b4bd-317c-4e6a-9bea-d81a1341a5bb",
   "metadata": {},
   "source": [
    "# "
   ]
  },
  {
   "cell_type": "markdown",
   "id": "72ce9c8e-8ca7-4edd-ab30-ba957140de04",
   "metadata": {},
   "source": [
    "# Key-Value"
   ]
  },
  {
   "cell_type": "markdown",
   "id": "52059dae-10e0-4516-b9ac-ce9b71e4623a",
   "metadata": {},
   "source": [
    "# Cache"
   ]
  },
  {
   "cell_type": "markdown",
   "id": "fc795a39-bd4b-49d3-a66c-63abf93ca507",
   "metadata": {},
   "source": [
    "# Store"
   ]
  },
  {
   "cell_type": "markdown",
   "id": "0e8c41d9-dd93-450d-84a3-6e71edb550f5",
   "metadata": {},
   "source": [
    "# Store (eventually consistent)"
   ]
  },
  {
   "cell_type": "markdown",
   "id": "952b23bf-f2ef-42a9-a2df-b4a05adebc38",
   "metadata": {},
   "source": [
    "# References\n",
    "\n",
    "[NoSQL database types explained: Key-value store](https://www.techtarget.com/searchdatamanagement/tip/NoSQL-database-types-explained-Key-value-store)\n",
    "\n",
    "[]()\n",
    "\n",
    "[]()\n",
    "\n",
    "[]()\n",
    "\n",
    "[]()\n",
    "\n",
    "[]()"
   ]
  }
 ],
 "metadata": {
  "kernelspec": {
   "display_name": "Python [conda env:data-science-course] *",
   "language": "python",
   "name": "conda-env-data-science-course-py"
  },
  "language_info": {
   "codemirror_mode": {
    "name": "ipython",
    "version": 3
   },
   "file_extension": ".py",
   "mimetype": "text/x-python",
   "name": "python",
   "nbconvert_exporter": "python",
   "pygments_lexer": "ipython3",
   "version": "3.10.9"
  }
 },
 "nbformat": 4,
 "nbformat_minor": 5
}
