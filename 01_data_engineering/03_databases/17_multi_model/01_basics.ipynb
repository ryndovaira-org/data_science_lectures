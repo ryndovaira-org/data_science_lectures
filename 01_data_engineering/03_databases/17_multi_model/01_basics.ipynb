{
 "cells": [
  {
   "cell_type": "markdown",
   "id": "ed00b4bd-317c-4e6a-9bea-d81a1341a5bb",
   "metadata": {},
   "source": [
    "# Multi-model database\n",
    "\n",
    "В области проектирования баз данных **многомодельная база данных** представляет собой систему управления базами данных, предназначенную для поддержки нескольких моделей данных в отношении одного интегрированного бэкэнда. \n",
    "\n",
    "<img src='https://raw.githubusercontent.com/ryndovaira-org/data_science_notes/main/diagrams/data_models.drawio.svg'/>\n",
    "\n",
    "<img src='https://raw.githubusercontent.com/ryndovaira-org/data_science_notes/main/diagrams/multi_model_dbms.drawio.svg'/>"
   ]
  },
  {
   "cell_type": "markdown",
   "id": "952b23bf-f2ef-42a9-a2df-b4a05adebc38",
   "metadata": {},
   "source": [
    "# References\n",
    "\n",
    "[Multi-model database](https://en.wikipedia.org/wiki/Multi-model_database)\n",
    "\n",
    "[]()\n",
    "\n",
    "[]()\n",
    "\n",
    "[]()\n",
    "\n",
    "[]()\n",
    "\n",
    "[]()"
   ]
  }
 ],
 "metadata": {
  "kernelspec": {
   "display_name": "Python [conda env:data-science-course] *",
   "language": "python",
   "name": "conda-env-data-science-course-py"
  },
  "language_info": {
   "codemirror_mode": {
    "name": "ipython",
    "version": 3
   },
   "file_extension": ".py",
   "mimetype": "text/x-python",
   "name": "python",
   "nbconvert_exporter": "python",
   "pygments_lexer": "ipython3",
   "version": "3.10.9"
  }
 },
 "nbformat": 4,
 "nbformat_minor": 5
}
