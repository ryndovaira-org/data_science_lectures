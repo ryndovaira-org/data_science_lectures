{
 "cells": [
  {
   "cell_type": "markdown",
   "metadata": {
    "jupyter": {
     "outputs_hidden": true
    }
   },
   "source": [
    "# MongoDB"
   ]
  },
  {
   "cell_type": "markdown",
   "metadata": {},
   "source": [
    "## Терминология\n",
    "\n",
    "**MongoDB** — документоориентированная система управления базами данных, не требующая описания схемы таблиц.\n",
    "\n",
    "Считается одним из классических примеров NoSQL-систем. \n",
    "\n",
    "Использует JSON-подобные документы и схему базы данных.\n",
    "\n",
    "Написана на языке C++. \n",
    "\n",
    "Система поддерживает ad-hoc-запросы: они могут возвращать конкретные поля документов и пользовательские JavaScript-функции. \n",
    "\n",
    "*Ad hoc — латинская фраза, означающая «специально для этого», «по особому случаю».\n",
    "\n",
    "Поддерживается поиск по регулярным выражениям. Также можно настроить запрос на возвращение случайного набора результатов.\n",
    "\n",
    "Имеется поддержка индексов (объект базы данных, создаваемый с целью повышения производительности поиска данных).\n",
    "\n",
    "**База данных** — это физический контейнер для коллекций.\n",
    "\n",
    "**Коллекция** — группа документов MongoDB. В терминологии SQL это соответствует таблице.\n",
    "\n",
    "**Документ** — запись в коллекции MongoDB, набор пар ключ-значение. В терминологии SQL это похоже на строку в таблице базы данных.\n",
    "\n",
    "**Поле** — ключ в документе. В терминологии SQL похоже на столбец в таблице.\n",
    "\n",
    "**Встроенный документ** — в терминологии SQL похоже на создание связей между несколькими таблицами, по которым разбросаны данные, что делается операциями JOIN.\n",
    "\n",
    "<center><img src=\"https://raw.githubusercontent.com/ryndovaira-org/data_science_notes/main/images/MongoDB_database_colection.png\" width=\"600\" height=\"600\"/></center>\n",
    "\n",
    "В июне 2018 года (в версии 4.0) добавлена поддержка транзакций, удовлетворяющих требованиям ACID."
   ]
  },
  {
   "cell_type": "markdown",
   "metadata": {},
   "source": [
    "### MongoDB подходит для следующих применений\n",
    "- хранение и регистрация событий;\n",
    "- системы управления документами и контентом;\n",
    "- электронная коммерция;\n",
    "- игры;\n",
    "- данные мониторинга, датчиков;\n",
    "- мобильные приложения;\n",
    "- хранилище операционных данных веб-страниц (например, хранение комментариев, рейтингов, профилей пользователей, сеансы пользователей)."
   ]
  },
  {
   "cell_type": "markdown",
   "metadata": {},
   "source": [
    "# References\n",
    "\n",
    "## Подготовка окружения\n",
    "\n",
    "### Установка MongoDB\n",
    "\n",
    "[MongoDB Community Server](https://www.mongodb.com/try/download/community)\n",
    "\n",
    "[Robo 3T: the hobbyist GUI](https://robomongo.org/download)"
   ]
  },
  {
   "cell_type": "code",
   "execution_count": 1,
   "metadata": {},
   "outputs": [
    {
     "name": "stdout",
     "output_type": "stream",
     "text": [
      "pip 20.3.3 from /home/ira/anaconda3/envs/LevelUp_DataScience/lib/python3.8/site-packages/pip (python 3.8)\n"
     ]
    }
   ],
   "source": [
    "# ВНИМАНИЕ: необходимо удостовериться, что виртуальная среда выбрана правильно!\n",
    "\n",
    "# Для MacOS/Ubuntu\n",
    "# !which pip\n",
    "\n",
    "# Для Windows\n",
    "# !where pip"
   ]
  },
  {
   "cell_type": "code",
   "execution_count": 2,
   "metadata": {},
   "outputs": [
    {
     "name": "stdout",
     "output_type": "stream",
     "text": [
      "Collecting package metadata (current_repodata.json): done\n",
      "Solving environment: done\n",
      "\n",
      "## Package Plan ##\n",
      "\n",
      "  environment location: /home/ira/anaconda3/envs/LevelUp_DataScience\n",
      "\n",
      "  added / updated specs:\n",
      "    - pymongo\n",
      "\n",
      "\n",
      "The following packages will be UPDATED:\n",
      "\n",
      "  ca-certificates    conda-forge::ca-certificates-2020.12.~ --> pkgs/main::ca-certificates-2021.1.19-h06a4308_1\n",
      "\n",
      "\n",
      "Preparing transaction: done\n",
      "Verifying transaction: done\n",
      "Executing transaction: done\n"
     ]
    }
   ],
   "source": [
    "!conda install pymongo -y"
   ]
  },
  {
   "cell_type": "markdown",
   "metadata": {},
   "source": [
    "# References\n",
    "\n",
    "## MongoDB Типы данных\n",
    "\n",
    "Документы в MongoDB являются **\"JSON-like\"**.\n",
    "\n",
    "- `null`. Может использоваться для представления нулевого значения или несуществующего поля.\n",
    "```\n",
    "{ x: null }\n",
    "```\n",
    "\n",
    "\n",
    "- `boolean`. Это два значения true false.\n",
    "```\n",
    "{ x: true, y: false }\n",
    "```\n",
    "\n",
    "\n",
    "- `number`. Числа используются формат 64 битных с плавающей точкой. Для целых чисел можно использовать функции `NumberInt()` или `NumberLong()` которые используют 4 байта и 8 байтов для хранения чисел соответственно. `NumberDecimal()` принимает десятичное значение в виде строки.\n",
    "```\n",
    "{\n",
    " x: 3.14,\n",
    " y: 3,\n",
    " z: NumberInt('3'),\n",
    " r: NumberLong('2090845886852'),\n",
    " m: NumberDecimal(\"1000.55\")\n",
    "}\n",
    "```\n",
    "\n",
    "\n",
    "- `string`. Строки это массив UTF-8 символов.\n",
    "```\n",
    "{ x: 'string' }\n",
    "```\n",
    "\n",
    "\n",
    "- `date`. Дата в mongoDB это 64-битные целые числа, которые показывают дату прошедшую с эпохи Unix (англ. Unix Epoch) (1 января, 1970 года). Time zone не сохраняется. Для работы с датой mongoDB используют класс Date в JS. Дата в mongo shell используют текущую time zone, но в базе хранится значение миллисекунд прошедших с эпохи линукс.\n",
    "```\n",
    "{ \n",
    "x: new Date(),\n",
    "y: new ISODate(\"2012-12-19T06:01:17.171Z\")\n",
    "}\n",
    "```\n",
    "\n",
    "\n",
    "- `regular expression`. Сохраненные регулярные выражения могут использоваться в регулярных выражениях в JS.\n",
    "```\n",
    "{ x: /foobar/i }\n",
    "```\n",
    "\n",
    "\n",
    "- `array`. Наборы (sets) или Списки (lists) могут быть представлены как массивы в базе. MongoDB поддерживает атомный update элементов. Например если в целом массиве нужно заменить элемент pie на pi, то мы заменим только этот элемент.\n",
    "```\n",
    "{ x: ['string', 3.14, new Date()] }\n",
    "```\n",
    "\n",
    "\n",
    "- `embedded document`. Документы могут содержать целые документы, встроенные в качестве значений в родительский документ. MongoDB так же как и с массивами понимает, когда используется embedded documents и оптимизирует работу с ними.\n",
    "```\n",
    "{ x: { name: 'Merrick', isAdmin: true } }\n",
    "```\n",
    "\n",
    "\n",
    "- `object id`. Идентификатор объекта это отдельный 12-байтовый тип данных, который используется для идентифицирования документов.\n",
    "    - Каждый документ должен иметь поле _id, поле может быть любого типа, но обычно оно типа `ObjectId`. \n",
    "    - Тип `ObjectId` был разработан, легким (lightweight) в тоже время, что бы мог генерировать уникальные ключи на разных платформах. \n",
    "    - Если создать несколько `object id` в быстрой последовательности, можно заметить, что только последние несколько цифр меняются каждый раз. Это связано с тем как создаются `ObjectId`. 12 байтов формируются следующим образом:\n",
    "        - Первые 4 байта это timestamp. В этой информации присутствует неявно дата создания документа.\n",
    "        - Следующие 3 байта это machine PID, что означает уникальный идентификатор машины, сделано для того, чтобы разные машины случайно не создали одинаковый `ObjectId`. Обычно это хэш машины.\n",
    "        - Чтобы обеспечить уникальность между процессами, следующие два байта берутся из PID процесса.\n",
    "        - Остальные три байта это просто инкрементация, которая отвечает за уникальность выполнения в данную секунду, что позволяет нам создавать 16,777,216 `ObjectId` в секунду на одной машине в одном процессе.\n",
    "\n",
    "```\n",
    "{ x: ObjectId() }\n",
    "{ _id: 10, calc: NumberLong(\"2090845886852\") }\n",
    "```\n",
    "\n",
    "\n",
    "- `binary data`. Двоичные данные представляют собой строку произвольных байтов. Ими нельзя манипулировать из оболочки. Двоичные данные - единственный способ хранить строки не-UTF-8 в базе данных.\n",
    "\n",
    "\n",
    "- `code`. MongoDB позволяет хранить произвольный JS код в документах и запросах под отдельным типом данных.\n",
    "```\n",
    "{ x: function list() { /* ... */ } }\n",
    "```"
   ]
  },
  {
   "cell_type": "markdown",
   "metadata": {},
   "source": [
    "# References\n",
    "\n",
    "## MongoDB + Python"
   ]
  },
  {
   "cell_type": "code",
   "execution_count": 3,
   "metadata": {},
   "outputs": [
    {
     "data": {
      "text/plain": [
       "'3.11.3'"
      ]
     },
     "execution_count": 3,
     "metadata": {},
     "output_type": "execute_result"
    }
   ],
   "source": [
    "import pymongo\n",
    "from pymongo import MongoClient\n",
    "\n",
    "pymongo.__version__"
   ]
  },
  {
   "cell_type": "markdown",
   "metadata": {},
   "source": [
    "# References\n",
    "\n",
    "### Подключение к базе данных"
   ]
  },
  {
   "cell_type": "code",
   "execution_count": 4,
   "metadata": {},
   "outputs": [],
   "source": [
    "# данные для подключения к БД\n",
    "host = \"localhost\"\n",
    "port = 3306"
   ]
  },
  {
   "cell_type": "code",
   "execution_count": 5,
   "metadata": {},
   "outputs": [
    {
     "data": {
      "text/plain": [
       "MongoClient(host=['localhost:3306'], document_class=dict, tz_aware=False, connect=True)"
      ]
     },
     "execution_count": 5,
     "metadata": {},
     "output_type": "execute_result"
    }
   ],
   "source": [
    "# альтернативный вариант: MongoClient(host, port)\n",
    "client = MongoClient(f\"mongodb://{host}:{port}/\")\n",
    "client"
   ]
  },
  {
   "cell_type": "code",
   "execution_count": 6,
   "metadata": {},
   "outputs": [
    {
     "data": {
      "text/plain": [
       "Database(MongoClient(host=['localhost:3306'], document_class=dict, tz_aware=False, connect=True), 'test-database')"
      ]
     },
     "execution_count": 6,
     "metadata": {},
     "output_type": "execute_result"
    }
   ],
   "source": [
    "db = client[\"test-database\"]\n",
    "db"
   ]
  },
  {
   "cell_type": "code",
   "execution_count": 7,
   "metadata": {},
   "outputs": [
    {
     "data": {
      "text/plain": [
       "Collection(Database(MongoClient(host=['localhost:3306'], document_class=dict, tz_aware=False, connect=True), 'test-database'), 'test_collection')"
      ]
     },
     "execution_count": 7,
     "metadata": {},
     "output_type": "execute_result"
    }
   ],
   "source": [
    "# альтернативный вариант: collection = db['test_collection']\n",
    "collection = db.test_collection\n",
    "collection"
   ]
  },
  {
   "cell_type": "markdown",
   "metadata": {},
   "source": [
    "# References\n",
    "\n",
    "### Создание, обновление и удаление документов. Запросы.\n",
    "\n",
    "Данные в MongoDB представлены (и хранятся) с использованием документов в стиле JSON.\n",
    "\n",
    "В PyMongo используются словари (dict) для представления документов.\n",
    "\n",
    "- `insert_<one|many>` - базовый метод для добавление информации.\n",
    "- `delete_<one|many>` - базовый метод для удаления информации.\n",
    "- `update` - базовый метод для обновления информации.\n",
    "- `find[_one]` - аналог SELECT в MySQL, используется для выборки документов."
   ]
  },
  {
   "cell_type": "markdown",
   "metadata": {},
   "source": [
    "#### Селекторы запросов\n",
    "\n",
    "**Сравнение (Comparison)**\n",
    "- `$eq` Соответствует значениям, которые равны указанному значению.\n",
    "- `$gt` Соответствует значениям, превышающим указанное значение.\n",
    "- `$gte` Соответствует значениям, которые больше или равны указанному значению.\n",
    "- `$in` Соответствует любому из значений, указанных в массиве.\n",
    "- `$lt` Соответствует значениям, которые меньше указанного значения.\n",
    "- `$lte` Соответствует значениям, которые меньше или равны указанному значению.\n",
    "- `$ne` Соответствует всем значениям, которые не равны указанному значению.\n",
    "- `$nin` Не соответствует ни одному из значений, указанных в массиве.\n",
    "\n",
    "\n",
    "**Логические (Logical)**\n",
    "- `$and` Объединяет предложения запроса (clauses) с помощью логического И возвращает все документы, соответствующие условиям обоих предложений.\n",
    "- `$not` Инвертирует эффект выражения запроса и возвращает документы, которые не соответствуют выражению запроса.\n",
    "- `$nor` Объединяет предложения запроса с логическим ИЛИ-НЕ возвращает все документы, которые не соответствуют обоим предложениям.\n",
    "- `$or` Объединяет предложения запроса с помощью логического ИЛИ, возвращает все документы, соответствующие условиям любого предложения.\n",
    "\n",
    "\n",
    "**Для элементов (Element)**\n",
    "- `$exists` Соответствует документам, имеющим указанное поле.\n",
    "- `$type` Выбирает документы, если поле имеет указанный тип.\n",
    "\n",
    "\n",
    "**Вычисляемые (Evaluation)**\n",
    "- `$expr` Позволяет использовать выражения агрегирования в языке запросов.\n",
    "- `$jsonSchema` Проверяет документы на соответствие данной схеме JSON.\n",
    "- `$mod` Выполняет операцию по модулю над значением поля и выбирает документы с указанным результатом.\n",
    "- `$regex` Выбирает документы, значения которых соответствуют указанному регулярному выражению.\n",
    "- `$text` Выполняет текстовый поиск.\n",
    "- `$where` Соответствует документам, удовлетворяющим выражению JavaScript.\n",
    "\n",
    "\n",
    "**Для массивов (Array)**\n",
    "- `$all` Соответствует массивам, содержащим все элементы, указанные в запросе.\n",
    "- `$elemMatch` Выбирает документы, если элемент в поле массива соответствует всем указанным условиям `$elemMatch`.\n",
    "- `$size` Выбирает документы, если поле массива имеет указанный размер.\n",
    "\n",
    "\n",
    "**Битовые (Bitwise)**\n",
    "- `$bitsAllClear` Соответствует числовым или двоичным значениям, в которых все битовые позиции имеют значение 0.\n",
    "- `$bitsAllSet` Соответствует числовым или двоичным значениям, в которых все позиции битов имеют значение 1.\n",
    "- `$bitsAnyClear` Соответствует числовым или двоичным значениям, в которых любой бит из набора битовых позиций имеет значение 0.\n",
    "- `$bitsAnySet` Соответствует числовым или двоичным значениям, в которых любой бит из набора битовых позиций имеет значение 1.\n",
    "\n",
    "\n",
    "**Геопространственный (Geospatial)**\n",
    "- `$geoIntersects` Выбирает геометрии, которые пересекаются с геометрией `GeoJSON`. Индекс `2dsphere` поддерживает `$geoIntersects`.\n",
    "- `$geoWithin` Выбирает геометрию в пределах геометрии `GeoJSON`. Индексы `2dsphere` и `2d` поддерживают `$geoWithin`.\n",
    "- `$near` Возвращает геопространственные объекты в непосредственной близости от точки. Требуется геопространственный индекс. Индексы `2dsphere` и `2d` поддерживают `$near`.\n",
    "- `$nearSphere` Возвращает геопространственные объекты в непосредственной близости от точки на сфере. Требуется геопространственный индекс. Индексы `2dsphere` и `2d` поддерживают `$nearSphere`.\n",
    "\n"
   ]
  },
  {
   "cell_type": "markdown",
   "metadata": {},
   "source": [
    "#### Операторы обновления (Update Operators)\n",
    "\n",
    "```\n",
    "{\n",
    "   <operator1>: { <field1>: <value1>, ... },\n",
    "   <operator2>: { <field2>: <value2>, ... },\n",
    "   ...\n",
    "}\n",
    "```\n",
    "\n",
    "**Поля (Fields)**\n",
    "- `$currentDate` Устанавливает значение поля на текущую дату в виде даты или метки времени.\n",
    "- `$inc` Увеличивает значение поля на указанную величину.\n",
    "- `$min` Обновляет поле, только если указанное значение меньше существующего значения поля.\n",
    "- `$max` Обновляет поле только в том случае, если указанное значение больше существующего значения поля.\n",
    "- `$mul` Умножает значение поля на указанную величину.\n",
    "- `$rename` Переименовывает поле.\n",
    "- `$set` Устанавливает значение поля в документе.\n",
    "- `$setOnInsert` Устанавливает значение поля, если обновление приводит к вставке документа. Не влияет на операции обновления, которые изменяют существующие документы.\n",
    "- `$unset` Удаляет указанное поле из документа.\n",
    "\n",
    "\n",
    "**Массивы (Array)**\n",
    "- `$` Действует как заполнитель для обновления первого элемента, соответствующего условию запроса.\n",
    "- `$[]` Действует как заполнитель для обновления всех элементов в массиве для документов, соответствующих условию запроса.\n",
    "- `$[<identifier>]` Действует как заполнитель для обновления всех элементов, которые соответствуют условию `arrayFilters` для документов, соответствующих условию запроса.\n",
    "- `$addToSet` Добавляет элементы в массив, только если они еще не существуют в наборе.\n",
    "- `$pop` Удаляет первый или последний элемент массива.\n",
    "- `$pull` Удаляет все элементы массива, соответствующие указанному запросу.\n",
    "- `$pullAll` Удаляет все совпадающие значения из массива.\n",
    "- `$push` Добавляет элемент в массив.\n",
    "\n",
    "\n",
    "**Модификаторы (Modifiers)**\n",
    "- `$each` Изменяет операторы `$push` и `$addToSet` для добавления нескольких элементов для обновления массива.\n",
    "- `$position` Изменяет оператор `$push`, чтобы указать позицию в массиве для добавления элементов.\n",
    "- `$slice` Изменяет оператор `$push`, чтобы ограничить размер обновляемых массивов.\n",
    "- `$sort` Изменяет оператор `$push`, чтобы отсортировать документы хранащиеся в массиве.\n",
    "\n",
    "\n",
    "**Битовые (Bitwise)**\n",
    "- `$bit` Выполняет побитовое обновление целочисленных значений AND, OR и XOR."
   ]
  },
  {
   "cell_type": "markdown",
   "metadata": {},
   "source": [
    "Продолжение в файлах [07_2_MongoDB.py](./07_2_MongoDB.py) и [07_3_MongoDB_with_scrapy_results.py](./07_3_MongoDB_with_scrapy_results.py)"
   ]
  },
  {
   "cell_type": "markdown",
   "metadata": {},
   "source": [
    "# References\n",
    "\n",
    "[Wikipedia MongoDB](https://ru.wikipedia.org/wiki/MongoDB)\n",
    "\n",
    "[Большой туториал по MongoDB](https://medium.com/@Merrick_krg/%D0%B1%D0%BE%D0%BB%D1%8C%D1%88%D0%BE%D0%B9-%D1%82%D1%83%D1%82%D0%BE%D1%80%D0%B8%D0%B0%D0%BB-%D0%BF%D0%BE-mongodb-7e2f9e17f0c7)\n",
    "\n",
    "[MongoDB: Создание, обновление и удаление документов](https://habr.com/ru/post/134524/)\n",
    "\n",
    "[MongoDB: Запросы](https://habr.com/ru/post/134590/)\n",
    "\n",
    "[MongoDB vs MySQL: A Comparative Study on Databases](https://www.simform.com/mongodb-vs-mysql-databases)\n",
    "\n",
    "[Academy 3T](https://studio3t.com/academy/)\n",
    "\n",
    "[Robo 3T GUI](https://robomongo.org/download)\n",
    "\n",
    "[PyMongo 3.11.2 documentation Tutorial](https://pymongo.readthedocs.io/en/stable/tutorial.html)\n",
    "\n",
    "[Query and Projection Operators](https://docs.mongodb.com/manual/reference/operator/query/#query-selectors)\n",
    "\n",
    "[SQL to MongoDB Mapping Chart](https://docs.mongodb.com/manual/reference/sql-comparison/)\n",
    "\n",
    "[MongoDB против MySQL](https://coderlessons.com/tutorials/bazy-dannykh/uchebnik-mongodb/20-mongodb-protiv-mysql#7)\n",
    "\n",
    "[Comparing MongoDB vs MySQL](https://www.mongodb.com/compare/mongodb-mysql#:~:text=MySQL%20is%20a%20relational%20database,(SQL)%20for%20database%20access.&text=MongoDB%20is%20a%20NoSQL%20database,data%20as%20JSON%2Dlike%20documents.)\n",
    "\n",
    "[MongoDB Vs MySQL: A Detailed Study To Choose The Best One?](https://www.thetechieshouse.com/mongodb-vs-mysql/)"
   ]
  }
 ],
 "metadata": {
  "kernelspec": {
   "display_name": "Python [conda env:data-science-course] *",
   "language": "python",
   "name": "conda-env-data-science-course-py"
  },
  "language_info": {
   "codemirror_mode": {
    "name": "ipython",
    "version": 3
   },
   "file_extension": ".py",
   "mimetype": "text/x-python",
   "name": "python",
   "nbconvert_exporter": "python",
   "pygments_lexer": "ipython3",
   "version": "3.10.9"
  }
 },
 "nbformat": 4,
 "nbformat_minor": 4
}
