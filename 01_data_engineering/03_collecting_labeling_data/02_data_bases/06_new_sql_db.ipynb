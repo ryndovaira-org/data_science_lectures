{
 "cells": [
  {
   "cell_type": "markdown",
   "id": "ed00b4bd-317c-4e6a-9bea-d81a1341a5bb",
   "metadata": {},
   "source": [
    "# New SQL"
   ]
  },
  {
   "cell_type": "code",
   "execution_count": null,
   "id": "17c8a4b7-ee71-419a-ba16-18f3941707f9",
   "metadata": {},
   "outputs": [],
   "source": []
  },
  {
   "cell_type": "markdown",
   "id": "952b23bf-f2ef-42a9-a2df-b4a05adebc38",
   "metadata": {},
   "source": [
    "# References\n",
    "\n",
    "[]()\n",
    "\n",
    "[]()\n",
    "\n",
    "[]()\n",
    "\n",
    "[]()\n",
    "\n",
    "[]()\n",
    "\n",
    "[]()"
   ]
  }
 ],
 "metadata": {
  "kernelspec": {
   "display_name": "Python [conda env:data-science-course] *",
   "language": "python",
   "name": "conda-env-data-science-course-py"
  },
  "language_info": {
   "codemirror_mode": {
    "name": "ipython",
    "version": 3
   },
   "file_extension": ".py",
   "mimetype": "text/x-python",
   "name": "python",
   "nbconvert_exporter": "python",
   "pygments_lexer": "ipython3",
   "version": "3.10.9"
  }
 },
 "nbformat": 4,
 "nbformat_minor": 5
}
