{
 "cells": [
  {
   "cell_type": "markdown",
   "id": "dcffd911-83c3-4972-a228-5ffea8b18a21",
   "metadata": {},
   "source": [
    "# Data Version Control"
   ]
  },
  {
   "cell_type": "markdown",
   "id": "623b2916-2b77-415c-b3a9-fc042cca1197",
   "metadata": {},
   "source": [
    "# References\n",
    "\n",
    "[Data Version Control](https://dvc.org/)\n",
    "\n",
    "[Data Version Control Wiki]()\n",
    "\n",
    "[A Guide to DVC and DAGsHub for Machine Learning Experiments](https://www.analyticsvidhya.com/blog/2021/10/a-guide-to-dvc-and-dagshub-for-machine-learning-experiments/)\n",
    "\n",
    "[]()"
   ]
  }
 ],
 "metadata": {
  "kernelspec": {
   "display_name": "Python [conda env:data_engineering_dmitriy]",
   "language": "python",
   "name": "conda-env-data_engineering_dmitriy-py"
  },
  "language_info": {
   "codemirror_mode": {
    "name": "ipython",
    "version": 3
   },
   "file_extension": ".py",
   "mimetype": "text/x-python",
   "name": "python",
   "nbconvert_exporter": "python",
   "pygments_lexer": "ipython3",
   "version": "3.10.10"
  }
 },
 "nbformat": 4,
 "nbformat_minor": 5
}
