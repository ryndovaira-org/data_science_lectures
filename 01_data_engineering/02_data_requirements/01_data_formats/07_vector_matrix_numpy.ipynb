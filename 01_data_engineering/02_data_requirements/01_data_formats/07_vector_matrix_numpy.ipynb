{
 "cells": [
  {
   "cell_type": "markdown",
   "metadata": {},
   "source": [
    "# Пакет `NumPy`: матрицы и операции над ними"
   ]
  },
  {
   "cell_type": "markdown",
   "metadata": {},
   "source": [
    "**Источники:**\n",
    "## Подготовка окружения"
   ]
  },
  {
   "cell_type": "code",
   "execution_count": 1,
   "metadata": {},
   "outputs": [
    {
     "data": {
      "text/plain": [
       "'1.24.2'"
      ]
     },
     "execution_count": 1,
     "metadata": {},
     "output_type": "execute_result"
    }
   ],
   "source": [
    "import numpy as np\n",
    "\n",
    "np.__version__"
   ]
  },
  {
   "cell_type": "markdown",
   "metadata": {},
   "source": [
    "## Термины: матрица (matrix), вектор (vector) и скаляр (scalar)?\n",
    "\n",
    "\n",
    "**Матрица** — это таблица из `m` строк и `n` столбцов.\n",
    "\n",
    "Количество строк и столбцов задает размер матрицы. \n",
    "\n",
    "<img src=\"images/matrix_row_column_index.png\"/>\n",
    "\n",
    "<img src=\"images/matrix_m_n.png\"/>\n",
    "\n",
    "**Вектор (строка или столбец)**\n",
    "Матрица **вектор (строка или столбец)** - это матрица записанная в виде одного столбца или одной строки.\n",
    "\n",
    "<img src=\"images/vectors.png\"/>\n",
    "\n",
    "**Скаляр** - величина (возможно переменная, то есть функция), каждое значение которой может быть выражено одним числом (чаще всего подразумевается вещественное число)."
   ]
  },
  {
   "cell_type": "markdown",
   "metadata": {},
   "source": [
    "##  Пакет `NumPy`\n",
    "\n",
    "**`NumPy`** — библиотека с открытым исходным кодом для языка программирования Python.\n",
    "\n",
    "**Возможности:**\n",
    "- поддержка многомерных массивов (включая матрицы);\n",
    "- поддержка высокоуровневых математических функций, предназначенных для работы с многомерными массивами.\n",
    "\n",
    "\n",
    "**Назначение:**\n",
    "- Математические алгоритмы, реализованные на интерпретируемых языках (например, Python), часто работают гораздо медленнее тех же алгоритмов, реализованных на компилируемых языках (например, Фортран, Си, Java).\n",
    "- Библиотека `NumPy` предоставляет реализации вычислительных алгоритмов (в виде функций и операторов), оптимизированные для работы с многомерными массивами.\n",
    "- В результате любой алгоритм, который может быть выражен в виде последовательности операций над массивами (матрицами) и реализованный с использованием `NumPy`, работает так же быстро, как эквивалентный код, выполняемый в `MATLAB`.\n",
    "\n",
    "\n",
    "**Основным объектом `NumPy` является однородный многомерный массив (в `numpy` называется `numpy.ndarray`). Это многомерный массив элементов (обычно чисел), одного типа.**\n",
    "\n",
    "\n",
    "**Наиболее важные атрибуты `ndarray`:**\n",
    "\n",
    "- `ndarray.ndim` - число измерений (чаще их называют \"оси\") массива.\n",
    "\n",
    "- `ndarray.shape` - размеры массива, его форма. Это кортеж натуральных чисел, показывающий длину массива по каждой оси. Для матрицы из `n` строк и `m` столбов, `shape` будет `(n, m)`. Число элементов кортежа `shape` равно `ndim`.\n",
    "\n",
    "- `ndarray.size` - количество элементов массива. Равно произведению всех элементов атрибута `shape`.\n",
    "\n",
    "- `ndarray.dtype` - объект, описывающий тип элементов массива. Можно определить `dtype`, используя стандартные типы данных Python. `NumPy` предоставляет целый список типов, как встроенных, например: `bool_`, `character`, `int8`, `int16`, `int32`, `int64`, `float8`, `float16`, `float32`, `float64`, `complex64`, `object_`, так и возможность определить собственные типы данных, в том числе и составные.\n",
    "\n",
    "- `ndarray.itemsize` - размер каждого элемента массива в байтах.\n",
    "\n",
    "- `ndarray.data` - буфер, содержащий фактические элементы массива. Обычно не нужно использовать этот атрибут, так как обращаться к элементам массива проще всего с помощью индексов."
   ]
  },
  {
   "cell_type": "markdown",
   "metadata": {},
   "source": [
    "## Примеры использовать `NumPy`"
   ]
  },
  {
   "cell_type": "markdown",
   "metadata": {},
   "source": [
    "### Вектор и Список\n",
    "\n",
    "Пакет `numpy`(`np`) реализует работу с линейной алгеброй. Для создания вектора из `list` ($[1,2,3]$) с помощью np.array нужно:"
   ]
  },
  {
   "cell_type": "code",
   "execution_count": 2,
   "metadata": {},
   "outputs": [
    {
     "name": "stdout",
     "output_type": "stream",
     "text": [
      "[1 2 3]\n"
     ]
    }
   ],
   "source": [
    "x_vector = np.array([1, 2, 3])\n",
    "print(x_vector)"
   ]
  },
  {
   "cell_type": "markdown",
   "metadata": {},
   "source": [
    "Другой способ:"
   ]
  },
  {
   "cell_type": "code",
   "execution_count": 3,
   "metadata": {},
   "outputs": [
    {
     "name": "stdout",
     "output_type": "stream",
     "text": [
      "The list: [1, 2]\n",
      "Has length: 2\n",
      "The vector: [1 2]\n",
      "Has shape: (2,)\n"
     ]
    }
   ],
   "source": [
    "c_list = [1, 2]\n",
    "print(\"The list:\", c_list)\n",
    "print(\"Has length:\", len(c_list))\n",
    "\n",
    "c_vector = np.array(c_list)\n",
    "print(\"The vector:\", c_vector)\n",
    "print(\"Has shape:\", c_vector.shape)"
   ]
  },
  {
   "cell_type": "code",
   "execution_count": 4,
   "metadata": {},
   "outputs": [
    {
     "name": "stdout",
     "output_type": "stream",
     "text": [
      "This is a list, not an array: [5, 6]\n",
      "<class 'list'>\n"
     ]
    }
   ],
   "source": [
    "z = [5, 6]\n",
    "print(\"This is a list, not an array:\", z)\n",
    "print(type(z))"
   ]
  },
  {
   "cell_type": "code",
   "execution_count": 5,
   "metadata": {},
   "outputs": [
    {
     "name": "stdout",
     "output_type": "stream",
     "text": [
      "This is an array, not a list [5 6]\n",
      "<class 'numpy.ndarray'>\n"
     ]
    }
   ],
   "source": [
    "zarray = np.array(z)\n",
    "print(\"This is an array, not a list\", zarray)\n",
    "print(type(zarray))"
   ]
  },
  {
   "cell_type": "markdown",
   "metadata": {},
   "source": [
    "### Матрицы"
   ]
  },
  {
   "cell_type": "code",
   "execution_count": 6,
   "metadata": {},
   "outputs": [
    {
     "name": "stdout",
     "output_type": "stream",
     "text": [
      "[(5, 1), (6, 2)]\n",
      "Note that the length of our zipped list is 2 not (2 by 2): 2\n"
     ]
    }
   ],
   "source": [
    "b = list(zip(z, c_vector))\n",
    "print(b)\n",
    "print(\"Note that the length of our zipped list is 2 not (2 by 2):\", len(b))"
   ]
  },
  {
   "cell_type": "code",
   "execution_count": 7,
   "metadata": {},
   "outputs": [
    {
     "name": "stdout",
     "output_type": "stream",
     "text": [
      "But we can convert the list to a matrix like this:\n",
      "[[5 1]\n",
      " [6 2]]\n",
      "<class 'numpy.ndarray'>\n",
      "A has shape: (2, 2)\n"
     ]
    }
   ],
   "source": [
    "print(\"But we can convert the list to a matrix like this:\")\n",
    "A = np.array(b)\n",
    "print(A)\n",
    "print(type(A))\n",
    "print(\"A has shape:\", A.shape)"
   ]
  },
  {
   "cell_type": "markdown",
   "metadata": {},
   "source": [
    "## Операции с матрицами\n",
    "\n",
    "### Сложение / вычитание скалярной величины (числа)\n",
    "\n",
    "Рассмотрим пример для размерности $2 \\times 2$, где количество строк $\\times$ количество колонок.\n",
    "\n",
    "$A$=$\\begin{bmatrix} a_{11} & a_{12} \\\\ a_{21} & a_{22} \\end{bmatrix}$.\n",
    "\n",
    "\n",
    "Скаляром обозначим $S$.\n",
    "$$\n",
    "\\begin{equation}\n",
    "\tA+S=\\begin{bmatrix}\n",
    "\t  a_{11} & a_{12} \\\\\n",
    "\t  a_{21} & a_{22} \t\n",
    "\t\\end{bmatrix}+S\n",
    "\t=\\begin{bmatrix}\n",
    "\t  a_{11}+S & a_{12}+S \\\\\n",
    "\t  a_{21}+S & a_{22}+S \t\n",
    "\t\\end{bmatrix}\n",
    "\\end{equation}\n",
    "$$\n",
    "\n",
    "Аналогично: \n",
    "\n",
    "$$\n",
    "\\begin{equation}\n",
    "\tA-S=\\begin{bmatrix}\n",
    "\t  a_{11} & a_{12} \\\\\n",
    "\t  a_{21} & a_{22} \t\n",
    "\t\\end{bmatrix}-S\n",
    "\t=\\begin{bmatrix}\n",
    "\t  a_{11}-S & a_{12}-S \\\\\n",
    "\t  a_{21}-S & a_{22}-S \t\n",
    "\t\\end{bmatrix}\n",
    "\\end{equation}\n",
    "$$\n",
    "\n",
    "\n",
    "Это правило работает для любой размерности."
   ]
  },
  {
   "cell_type": "code",
   "execution_count": 8,
   "metadata": {},
   "outputs": [
    {
     "name": "stdout",
     "output_type": "stream",
     "text": [
      "A:\n",
      " [[5 1]\n",
      " [6 2]] \n",
      "\n",
      "result:\n",
      " [[8 4]\n",
      " [9 5]]\n"
     ]
    }
   ],
   "source": [
    "print(\"A:\\n\", A, \"\\n\")\n",
    "\n",
    "result = A + 3\n",
    "# or\n",
    "result = 3 + A\n",
    "print(\"result:\\n\", result)"
   ]
  },
  {
   "cell_type": "markdown",
   "metadata": {},
   "source": [
    "### Сложение и вычитание матриц\n",
    "\n",
    "$A$=$\\bigl( \\begin{smallmatrix} a_{11} & a_{12} \\\\ a_{21} & a_{22} \\end{smallmatrix} \\bigr)$\n",
    "\n",
    "$B$=$\\bigl( \\begin{smallmatrix} b_{11} & b_{12} \\\\ b_{21} & b_{22} \\end{smallmatrix} \\bigr)$.\n",
    "\n",
    "\\begin{equation}\n",
    "\tA -B =\n",
    "\t\\begin{bmatrix}\n",
    "\t  a_{11} & a_{12} \\\\\n",
    "\t  a_{21} & a_{22} \t\n",
    "\t\\end{bmatrix} -\n",
    "\t\\begin{bmatrix} b_{11} & b_{12} \\\\\n",
    "\t  b_{21} & b_{22}\n",
    "\t\\end{bmatrix}\n",
    "\t=\n",
    "\t\\begin{bmatrix}\n",
    "\t  a_{11}-b_{11} & a_{12}-b_{12} \\\\\n",
    "\t  a_{21}-b_{21} & a_{22}-b_{22} \t\n",
    "\t\\end{bmatrix}\n",
    "\\end{equation}\n",
    "\n",
    "Аналогично:\n",
    "\n",
    "\\begin{equation}\n",
    "\tA + B =\n",
    "\t\\begin{bmatrix}\n",
    "\t  a_{11} & a_{12} \\\\\n",
    "\t  a_{21} & a_{22} \t\n",
    "\t\\end{bmatrix} +\n",
    "\t\\begin{bmatrix} b_{11} & b_{12} \\\\\n",
    "\t  b_{21} & b_{22}\n",
    "\t\\end{bmatrix}\n",
    "\t=\n",
    "\t\\begin{bmatrix}\n",
    "\t  a_{11}+b_{11} & a_{12}+b_{12} \\\\\n",
    "\t  a_{21}+b_{21} & a_{22}+b_{22} \t\n",
    "\t\\end{bmatrix}\n",
    "\\end{equation}\n",
    "\n",
    "\n",
    "Важно помнить, что при сложении / вычитании размерность матриц должна быть одинаковой и не изменяется.\n",
    "\n",
    "\\begin{equation}\n",
    "A_{2 \\times 2} + B_{2 \\times 2}= \\begin{bmatrix}\n",
    "  a_{11}+b_{11} & a_{12}+b_{12} \\\\\n",
    "  a_{21}+b_{21} & a_{22}+b_{22} \t\n",
    "\\end{bmatrix}_{2 \\times 2}\n",
    "\\end{equation}"
   ]
  },
  {
   "cell_type": "code",
   "execution_count": 9,
   "metadata": {},
   "outputs": [
    {
     "name": "stdout",
     "output_type": "stream",
     "text": [
      "[[5 1]\n",
      " [6 2]]\n",
      "[[-1.59461303 -0.60718194]\n",
      " [-0.82239948 -0.04023132]]\n"
     ]
    }
   ],
   "source": [
    "B = np.random.randn(2, 2)\n",
    "print(A)\n",
    "print(B)"
   ]
  },
  {
   "cell_type": "code",
   "execution_count": 10,
   "metadata": {},
   "outputs": [
    {
     "data": {
      "text/plain": [
       "array([[3.40538697, 0.39281806],\n",
       "       [5.17760052, 1.95976868]])"
      ]
     },
     "execution_count": 10,
     "metadata": {},
     "output_type": "execute_result"
    }
   ],
   "source": [
    "result = A + B\n",
    "result"
   ]
  },
  {
   "cell_type": "markdown",
   "metadata": {},
   "source": [
    "## Умножение матриц\n",
    "\n",
    "### Умножение матриц на скаляр (число)\n",
    "\n",
    "$A$=$\\bigl( \\begin{smallmatrix} a_{11} & a_{12} \\\\ a_{21} & a_{22} \\end{smallmatrix} \\bigr)$.\n",
    "Обозначим скаляром $S$\n",
    "\n",
    "\\begin{equation}\n",
    "\tS \\times A = S \\times \\begin{bmatrix}\n",
    "\t  a_{11} & a_{12} \\\\\n",
    "\t  a_{21} & a_{22} \t\n",
    "\t\\end{bmatrix}\n",
    "\t=\n",
    "\t\\begin{bmatrix}\n",
    "\t  Sa_{11} & Sa_{12} \\\\\n",
    "\t  Sa_{21} & Sa_{22} \t\n",
    "\t\\end{bmatrix}\n",
    "\\end{equation}\n",
    "\n",
    "$3 \\times A$=$A \\times 3$\n"
   ]
  },
  {
   "cell_type": "code",
   "execution_count": 11,
   "metadata": {},
   "outputs": [
    {
     "data": {
      "text/plain": [
       "array([[15,  3],\n",
       "       [18,  6]])"
      ]
     },
     "execution_count": 11,
     "metadata": {},
     "output_type": "execute_result"
    }
   ],
   "source": [
    "A * 3"
   ]
  },
  {
   "cell_type": "markdown",
   "metadata": {},
   "source": [
    "### Умножение матриц\n",
    "\n",
    "$2 \\times 1$ вектор $C=\\bigl( \\begin{smallmatrix} c_{11} \\\\\n",
    "  c_{21}\n",
    "\\end{smallmatrix} \\bigr)$  \n",
    "\n",
    "Умножим матрицу $A_{2 \\times 2}$ и вектор $C_{2 \\times 1}$. \n",
    "В данном случае обязательно должны совпадать размерности column (левой) **and** row (правой).\n",
    "\n",
    "\n",
    "\\begin{equation}\n",
    "\tA_{2 \\times 2} \\times C_{2 \\times 1} = \n",
    "\t\\begin{bmatrix}\n",
    "\t  a_{11} & a_{12} \\\\\n",
    "\t  a_{21} & a_{22} \t\n",
    "\t\\end{bmatrix}_{2 \\times 2}\n",
    "    \\times\n",
    "    \\begin{bmatrix}\n",
    "\tc_{11} \\\\\n",
    "\tc_{21}\n",
    "\t\\end{bmatrix}_{2 \\times 1}\n",
    "\t=\n",
    "\t\\begin{bmatrix}\n",
    "\t  a_{11}c_{11} + a_{12}c_{21} \\\\\n",
    "\t  a_{21}c_{11} + a_{22}c_{21} \t\n",
    "\t\\end{bmatrix}_{2 \\times 1}\n",
    "\\end{equation}\n",
    "\n",
    "Матрица C с размерностями $2 \\times 3$ и матрица A с размерностями $3 \\times 2$\n",
    "\n",
    "\\begin{equation}\n",
    "\tA_{3 \\times 2}=\\begin{bmatrix}\n",
    "\t  a_{11} & a_{12} \\\\\n",
    "\t  a_{21} & a_{22} \\\\\n",
    "\t  a_{31} & a_{32} \t\n",
    "\t\\end{bmatrix}_{3 \\times 2}\n",
    "\t,\n",
    "\tC_{2 \\times 3} = \n",
    "\t\\begin{bmatrix}\n",
    "\t\t  c_{11} & c_{12} & c_{13} \\\\\n",
    "\t\t  c_{21} & c_{22} & c_{23} \\\\\n",
    "\t\\end{bmatrix}_{2 \\times 3}\n",
    "\t\\end{equation}\n",
    "\n",
    "A $\\times$ C будет\n",
    "\n",
    "\\begin{align}\n",
    "\tA_{3 \\times 2} \\times C_{2 \\times 3}=&\n",
    "\t\\begin{bmatrix}\n",
    "\t  a_{11} & a_{12} \\\\\n",
    "\t  a_{21} & a_{22} \\\\\n",
    "\t  a_{31} & a_{32} \t\n",
    "\t\\end{bmatrix}_{3 \\times 2}\n",
    "\t\\times\n",
    "\t\\begin{bmatrix}\n",
    "\t  c_{11} & c_{12} & c_{13} \\\\\n",
    "\t  c_{21} & c_{22} & c_{23} \n",
    "\t\\end{bmatrix}_{2 \\times 3} \\\\\n",
    "\t=&\n",
    "\t\\begin{bmatrix}\n",
    "\t  a_{11} c_{11}+a_{12} c_{21} & a_{11} c_{12}+a_{12} c_{22} & a_{11} c_{13}+a_{12} c_{23} \\\\\n",
    "\t  a_{21} c_{11}+a_{22} c_{21} & a_{21} c_{12}+a_{22} c_{22} & a_{21} c_{13}+a_{22} c_{23} \\\\\n",
    "\t  a_{31} c_{11}+a_{32} c_{21} & a_{31} c_{12}+a_{32} c_{22} & a_{31} c_{13}+a_{32} c_{23}\n",
    "\t\\end{bmatrix}_{3 \\times 3}\t\n",
    "\\end{align}\n",
    "\n",
    "$X_{r_x \\times c_x} \\times Y_{r_y \\times c_y}$\n",
    "\n",
    "Важно:\n",
    "\n",
    "* $c_x=r_y$, columns первого операнда должны быть равны rows второго операнда.\n",
    "* Размерность результата будет равна $r_x \\times c_y$ (rows первого операнда и columns второго операнда).\n",
    "\n",
    "Следовательно, $X \\times Y = Y \\times X$ истинно **НЕ** во всех случаях.\n",
    "\n",
    "[Wiki Matrix multiplication](http://en.wikipedia.org/wiki/Matrix_multiplication)"
   ]
  },
  {
   "cell_type": "code",
   "execution_count": 12,
   "metadata": {},
   "outputs": [
    {
     "name": "stdout",
     "output_type": "stream",
     "text": [
      "[[0 1]\n",
      " [2 3]\n",
      " [4 5]]\n",
      "[[-0.63781386 -0.31532487]\n",
      " [ 1.39215347  0.70822864]]\n",
      "(3, 2)\n",
      "(2, 2)\n"
     ]
    }
   ],
   "source": [
    "# Let's redefine A and C to demonstrate matrix multiplication:\n",
    "A = np.arange(6).reshape((3, 2))\n",
    "C = np.random.randn(2, 2)\n",
    "\n",
    "print(A)\n",
    "print(C)\n",
    "\n",
    "print(A.shape)\n",
    "print(C.shape)"
   ]
  },
  {
   "cell_type": "markdown",
   "metadata": {},
   "source": [
    "Это также называется Скалярное произведение матриц (`dot`):"
   ]
  },
  {
   "cell_type": "code",
   "execution_count": 13,
   "metadata": {},
   "outputs": [
    {
     "name": "stdout",
     "output_type": "stream",
     "text": [
      "[[1.39215347 0.70822864]\n",
      " [2.90083268 1.49403617]\n",
      " [4.4095119  2.2798437 ]]\n",
      "[[1.39215347 0.70822864]\n",
      " [2.90083268 1.49403617]\n",
      " [4.4095119  2.2798437 ]]\n"
     ]
    }
   ],
   "source": [
    "print(A.dot(C))\n",
    "print(np.dot(A, C))"
   ]
  },
  {
   "cell_type": "markdown",
   "metadata": {},
   "source": [
    "А так не сработает из-за размерностей:"
   ]
  },
  {
   "cell_type": "code",
   "execution_count": 14,
   "metadata": {},
   "outputs": [],
   "source": [
    "# C.dot(A)"
   ]
  },
  {
   "cell_type": "markdown",
   "metadata": {},
   "source": [
    "## Обратная матрица\n",
    "\n",
    "Матрица $2 \\times 2$ $A$=$\\bigl( \\begin{smallmatrix} a_{11} & a_{12} \\\\ a_{21} & a_{22}\\end{smallmatrix} \\bigr)$.\n",
    "Обозначим обратную матрицу для $A$ как $A^{-1}$)\n",
    "\n",
    "$$\n",
    "\\begin{equation}\n",
    "\tA^{-1}=\\begin{bmatrix}\n",
    "             a_{11} & a_{12} \\\\\n",
    "\t\t     a_{21} & a_{22} \n",
    "           \\end{bmatrix}^{-1}=\\frac{1}{a_{11}a_{22}-a_{12}a_{21}}\t\\begin{bmatrix}\n",
    "\t\t             a_{22} & -a_{12} \\\\\n",
    "\t\t\t\t     -a_{21} & a_{11} \n",
    "\t\t           \\end{bmatrix}\n",
    "\\end{equation}\n",
    "$$\n",
    "\n",
    "Обратная матрица $A^{-1}$ имеет полезное свойство:\n",
    "$$\n",
    "\\begin{equation}\n",
    "\tA \\times A^{-1}=A^{-1} \\times A=I\n",
    "\\end{equation}\n",
    "$$\n",
    "\n",
    "где I, единичная матрица (как скалярная 1)\n",
    "\n",
    "$$\n",
    "\\begin{equation}\n",
    "\tI_{2 \\times 2}=\\begin{bmatrix}\n",
    "             1 & 0 \\\\\n",
    "\t\t     0 & 1 \n",
    "           \\end{bmatrix}\n",
    "\\end{equation}\n",
    "$$\n",
    "более того, $A \\times I = A$ и $I \\times A = A$.\n",
    "\n",
    "[Wiki Matrix inversion](http://en.wikipedia.org/wiki/Matrix_inversion)"
   ]
  },
  {
   "cell_type": "code",
   "execution_count": 15,
   "metadata": {},
   "outputs": [
    {
     "name": "stdout",
     "output_type": "stream",
     "text": [
      "[[-55.60215934 -24.75576783]\n",
      " [109.29625728  50.07398226]]\n"
     ]
    }
   ],
   "source": [
    "# note, we need a square matrix (# rows = # cols), use C:\n",
    "C_inverse = np.linalg.inv(C)\n",
    "print(C_inverse)"
   ]
  },
  {
   "cell_type": "markdown",
   "metadata": {},
   "source": [
    "Check that $C\\times C^{-1} = I$:"
   ]
  },
  {
   "cell_type": "code",
   "execution_count": 16,
   "metadata": {},
   "outputs": [
    {
     "name": "stdout",
     "output_type": "stream",
     "text": [
      "[[ 1.00000000e+00 -6.74278098e-16]\n",
      " [ 5.25243538e-15  1.00000000e+00]]\n",
      "Is identical to:\n",
      "[[ 1.00000000e+00  4.76635403e-16]\n",
      " [-4.27526347e-15  1.00000000e+00]]\n"
     ]
    }
   ],
   "source": [
    "print(C.dot(C_inverse))\n",
    "print(\"Is identical to:\")\n",
    "print(C_inverse.dot(C))"
   ]
  },
  {
   "cell_type": "markdown",
   "metadata": {},
   "source": [
    "## Транспонирование матриц\n",
    "\n",
    "$$\n",
    "\\begin{equation}\n",
    "\tA_{3 \\times 2}=\\begin{bmatrix}\n",
    "\t  a_{11} & a_{12} \\\\\n",
    "\t  a_{21} & a_{22} \\\\\n",
    "\t  a_{31} & a_{32} \t\n",
    "\t\\end{bmatrix}_{3 \\times 2}\t\n",
    "\\end{equation}\n",
    "$$\n",
    "Транспонированная матрица A (обозначается как $A^{\\prime}$)\n",
    "$$\n",
    "\\begin{equation}\n",
    "   A^{\\prime}=\\begin{bmatrix}\n",
    "\t  a_{11} & a_{21} & a_{31} \\\\\n",
    "\t  a_{12} & a_{22} & a_{32} \\\\\n",
    "\t\\end{bmatrix}_{2 \\times 3}\n",
    "\\end{equation}\n",
    "$$"
   ]
  },
  {
   "cell_type": "code",
   "execution_count": 17,
   "metadata": {},
   "outputs": [
    {
     "name": "stdout",
     "output_type": "stream",
     "text": [
      "A is\n",
      "[[0 1]\n",
      " [2 3]\n",
      " [4 5]]\n",
      "The Transpose of A is\n",
      "[[0 2 4]\n",
      " [1 3 5]]\n"
     ]
    }
   ],
   "source": [
    "A = np.arange(6).reshape((3, 2))\n",
    "B = np.arange(8).reshape((2, 4))\n",
    "print(\"A is\")\n",
    "print(A)\n",
    "\n",
    "print(\"The Transpose of A is\")\n",
    "print(A.T)"
   ]
  },
  {
   "cell_type": "markdown",
   "metadata": {},
   "source": [
    "Матрица A размерности $N \\times M$ и B размерности $M \\times P$\n",
    "$$\n",
    "\\begin{equation}\n",
    "\t(AB)^{\\prime}=B^{\\prime}A^{\\prime}\n",
    "\\end{equation}\n",
    "$$\n",
    "\n",
    "[Wiki Matrix transposition](http://en.wikipedia.org/wiki/Matrix_transposition)"
   ]
  },
  {
   "cell_type": "code",
   "execution_count": 18,
   "metadata": {
    "pycharm": {
     "name": "#%%\n"
    }
   },
   "outputs": [
    {
     "name": "stdout",
     "output_type": "stream",
     "text": [
      "[[ 4 12 20]\n",
      " [ 5 17 29]\n",
      " [ 6 22 38]\n",
      " [ 7 27 47]]\n",
      "Is identical to:\n",
      "[[ 4 12 20]\n",
      " [ 5 17 29]\n",
      " [ 6 22 38]\n",
      " [ 7 27 47]]\n"
     ]
    }
   ],
   "source": [
    "print(B.T.dot(A.T))\n",
    "print(\"Is identical to:\")\n",
    "print((A.dot(B)).T)"
   ]
  },
  {
   "cell_type": "markdown",
   "metadata": {},
   "source": [
    "# References\n",
    "\n",
    "[NumPy](https://ru.wikipedia.org/wiki/NumPy)\n",
    "\n",
    "[What is NumPy?](https://numpy.org/doc/stable/user/whatisnumpy.html)\n",
    "\n",
    "[NumPy — Краткое руководство](https://coderlessons.com/tutorials/python-technologies/uchitsia-numpy/numpy-kratkoe-rukovodstvo)\n",
    "\n",
    "[Матрицы. Виды матриц. Основные термины.](https://math1.ru/education/matrix/matrix.html)\n",
    "\n",
    "[Математика. Матрицы. Введение.](https://zen.yandex.ru/media/id/5c764fc306dc8700b30ed31a/matematika-matricy-vvedenie-5cef752e3be90a00af76852b)"
   ]
  }
 ],
 "metadata": {
  "hide_input": false,
  "kernelspec": {
   "display_name": "Python [conda env:data-science-course] *",
   "language": "python",
   "name": "conda-env-data-science-course-py"
  },
  "language_info": {
   "codemirror_mode": {
    "name": "ipython",
    "version": 3
   },
   "file_extension": ".py",
   "mimetype": "text/x-python",
   "name": "python",
   "nbconvert_exporter": "python",
   "pygments_lexer": "ipython3",
   "version": "3.10.9"
  }
 },
 "nbformat": 4,
 "nbformat_minor": 4
}
