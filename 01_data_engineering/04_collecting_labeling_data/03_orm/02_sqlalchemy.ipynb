{
 "cells": [
  {
   "cell_type": "markdown",
   "id": "3f24f3a0-7cbd-460f-bb82-9b34342506e4",
   "metadata": {},
   "source": [
    "# SQLAlchemy\n",
    "\n",
    "[SQLAlchemy](https://www.sqlalchemy.org/) - это программное обеспечение с открытым исходным кодом для работы с базами данных при помощи языка *SQL* с применением технологии *ORM*. Работает с MySQL, PostgreSQL, SQLite, Oracle и другими."
   ]
  },
  {
   "cell_type": "code",
   "execution_count": null,
   "id": "db3b2306-e2fe-4393-aa24-edf0fbd7a0b9",
   "metadata": {},
   "outputs": [],
   "source": []
  },
  {
   "cell_type": "markdown",
   "id": "273025a6-be26-41e7-b92d-f91b2837e85a",
   "metadata": {},
   "source": [
    "# References\n",
    "\n",
    "[]()\n",
    "\n",
    "[]()\n",
    "\n",
    "[]()\n",
    "\n",
    "[]()\n",
    "\n",
    "[]()\n",
    "\n",
    "[]()"
   ]
  }
 ],
 "metadata": {
  "kernelspec": {
   "display_name": "Python [conda env:data_engineering_dmitriy]",
   "language": "python",
   "name": "conda-env-data_engineering_dmitriy-py"
  },
  "language_info": {
   "codemirror_mode": {
    "name": "ipython",
    "version": 3
   },
   "file_extension": ".py",
   "mimetype": "text/x-python",
   "name": "python",
   "nbconvert_exporter": "python",
   "pygments_lexer": "ipython3",
   "version": "3.10.10"
  }
 },
 "nbformat": 4,
 "nbformat_minor": 5
}
