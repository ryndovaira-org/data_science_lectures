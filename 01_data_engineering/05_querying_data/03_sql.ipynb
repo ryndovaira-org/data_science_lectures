{
 "cells": [
  {
   "cell_type": "markdown",
   "id": "a00248ca-1627-4c68-a466-e77e69109bbb",
   "metadata": {
    "jupyter": {
     "outputs_hidden": true
    }
   },
   "source": [
    "# SQL"
   ]
  },
  {
   "cell_type": "markdown",
   "id": "ed0b25c0-7f45-40c9-b7fa-cef9363df09f",
   "metadata": {},
   "source": [
    "## Терминология\n",
    "\n",
    "**Схемой базы данных** называется структура связей между полями и таблицами.\n",
    "\n",
    "**Нормализацией схемы** базы данных называется процедура, производимая над базой данных с целью удаления в ней избыточности.\n",
    "\n",
    "**Модель сущностных отношений (Entity Relationship Modeling = ER Modeling)** — это графический подход к проектированию базы данных. Это модель данных высокого уровня, которая определяет элементы данных и их взаимосвязь для определенной программной системы. Модель ER используется для представления объектов реального мира.\n",
    "\n",
    "\n",
    "**Entity** вещь или объект в реальном мире, который отличается от окружающей природной среды. Например, каждый сотрудник организации является отдельным субъектом. Ниже приведены некоторые из основных характеристик объектов.\n",
    "- У сущности есть набор свойств.\n",
    "- Свойства объекта могут иметь значения.\n",
    "\n",
    "**Модель улучшенного отношения сущностей (Enhanced Entity Relationship = EER)** — это модель данных высокого уровня, которая предоставляет расширения для исходной модели Entity Relationship (ER). EER Models поддерживает более детальный дизайн. EER Modeling появилась как решение для моделирования очень сложных баз данных.\n",
    "\n",
    "**EER** использует нотацию **UML**. UML является аббревиатурой от **Unified Modeling Language**. Это язык моделирования общего назначения, используемый при проектировании объектно-ориентированных систем. \n",
    "\n",
    "**Полная форма ER** — диаграммы сущностей и отношений. Они играют очень важную роль в процессе проектирования баз данных. Они служат нетехническим средством связи для технических и нетехнических людей.\n",
    "**Модели ER** позволяют разработчикам баз данных идентифицировать и определять отношения, существующие между объектами."
   ]
  },
  {
   "cell_type": "markdown",
   "id": "a55410e0-6534-419f-9a6e-cd41e9cfa4c6",
   "metadata": {},
   "source": [
    "## CRUD"
   ]
  },
  {
   "cell_type": "code",
   "execution_count": null,
   "id": "bdd4eed3-43af-4431-959d-b04434b71daa",
   "metadata": {},
   "outputs": [],
   "source": []
  },
  {
   "cell_type": "markdown",
   "id": "4dc25012-d786-4a5c-87de-f6aa6f62a042",
   "metadata": {},
   "source": [
    "# References\n",
    "\n",
    "[SQL Tutorial](https://www.w3schools.com/sql/default.asp)\n",
    "\n",
    "[Основные команды SQL, которые должен знать каждый программист](https://tproger.ru/translations/sql-recap/)\n",
    "\n",
    "[PHP и MySQL. Совместная работа.](http://www.softtime.ru/bookphp/gl12_4.php)\n",
    "\n",
    "[SQL — Внешний ключ](https://webformyself.com/sql-vneshnij-klyuch/)\n",
    "\n",
    "[5) ER Моделирование](https://coderlessons.com/tutorials/bazy-dannykh/osnovy-sql/5-er-modelirovanie-2#:~:text=%D0%9C%D0%BE%D0%B4%D0%B5%D0%BB%D1%8C%20Enhanced%20Entity%20Relationship%20(EER,%D0%BC%D0%BE%D0%B4%D0%B5%D0%BB%D0%B8%20Entity%20Relationship%20(ER).)"
   ]
  }
 ],
 "metadata": {
  "kernelspec": {
   "display_name": "Python [conda env:data-science-course-original] *",
   "language": "python",
   "name": "conda-env-data-science-course-original-py"
  },
  "language_info": {
   "codemirror_mode": {
    "name": "ipython",
    "version": 3
   },
   "file_extension": ".py",
   "mimetype": "text/x-python",
   "name": "python",
   "nbconvert_exporter": "python",
   "pygments_lexer": "ipython3",
   "version": "3.10.4"
  }
 },
 "nbformat": 4,
 "nbformat_minor": 5
}
