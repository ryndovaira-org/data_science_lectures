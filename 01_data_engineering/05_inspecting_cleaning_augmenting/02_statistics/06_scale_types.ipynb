{
 "cells": [
  {
   "cell_type": "markdown",
   "metadata": {
    "pycharm": {
     "name": "#%% md\n"
    }
   },
   "source": [
    "# Типы шкал в статистике"
   ]
  },
  {
   "cell_type": "markdown",
   "metadata": {},
   "source": [
    "# References\n",
    "\n",
    "",
    "\n",
    "[Statistical data type](https://en.wikipedia.org/wiki/Statistical_data_type)\n",
    "\n",
    "[Data Types in Statistics](https://towardsdatascience.com/data-types-in-statistics-347e152e8bee)\n",
    "\n",
    "[ОСНОВНЫЕ ТИПЫ ДАННЫХ](https://books.irrp.org.ua/data-design/osnovnye-tipy-dannyh/)\n",
    "\n",
    "[Типы данных в статистике](https://www.machinelearningmastery.ru/data-types-in-statistics-347e152e8bee/)\n",
    "\n",
    "[Статистические типы данных, используемые в машинном обучении](https://nuancesprog.ru/p/9713/)\n",
    "\n",
    "[Шкала](https://ru.wikipedia.org/wiki/%D0%A8%D0%BA%D0%B0%D0%BB%D0%B0)\n",
    "\n",
    "[Level of measurement](https://en.wikipedia.org/wiki/Level_of_measurement)\n",
    "\n",
    "[Измерение и шкалы](https://forecasting.svetunkov.ru/etextbook/about/scales/)\n",
    "\n",
    "[2.3. ШКАЛЫ ИЗМЕРЕНИЙ](http://gis.web.tstu.ru/metodic/gis/terminpon/glava2_3.html)\n",
    "\n",
    "[What is the difference between ordinal, interval and ratio variables? Why should I care?](https://www.graphpad.com/support/faq/what-is-the-difference-between-ordinal-interval-and-ratio-variables-why-should-i-care/)\n",
    "\n",
    "[Nominal, Ordinal, Interval and Ratio Data](https://microbenotes.com/nominal-ordinal-interval-and-ratio-data/)\n",
    "\n",
    "[Nominal, Ordinal, Interval, and Ratio Data](https://matthewrenze.com/articles/the-four-subtypes-of-data-in-data-science/)\n",
    "\n",
    "[Levels of Measurement: Nominal, Ordinal, Interval and Ratio](https://www.statology.org/levels-of-measurement-nominal-ordinal-interval-and-ratio/)\n",
    "\n",
    "[Variables in quantitative reserach](https://revisesociology.com/tag/ordinal/)\n",
    "\n",
    "[Levels of Measurement](https://theintactone.com/2019/03/04/brm-u3-topic-3-level-of-measurement-nominal-ordinal-interval-and-ratio/)\n",
    "\n",
    "[Quantitative techniques in research](https://www.slideshare.net/crlmgn/quantitative-techniques-in-research)\n",
    "\n",
    "[Methodology and statistics for clinical research – Part 1: descriptive statistics](https://www.hkcfp.org.hk/Upload/HK_Practitioner/2018/hkp2018vol40Sep/update_article.html)\n",
    "\n",
    "[Шкалирование](https://studme.org/296261/marketing/shkalirovanie)\n",
    "\n",
    "[Шкала измерений](https://stankiexpert.ru/tehnologii/shkala-izmerenii.html)\n",
    "\n",
    "[Шкала в психологии. Виды шкал и их характеристика](https://psyera.ru/shkala-v-psihologii-vidy-shkal-i-ih-harakteristika_15450.htm)\n",
    "\n",
    "[Методы получения данных мониторинга 1 Предложения по разработке регламента проведения сбора и анализа экспертных мнений](https://refdb.ru/look/2713918.html)\n",
    "\n",
    "[Шкала измерения переменной](https://www.ibm.com/support/knowledgecenter/ru/SSLVMB_25.0.0/spss/base/dataedit_define_variable_measurement.html)\n",
    "\n",
    "[ПЕРЕМЕННЫЕ И ШКАЛЫ](http://www.tryphonov.ru/tryphonov3/terms3/varsca.htm#0)\n",
    "\n",
    "[ИНТЕРВАЛЬНАЯ ПЕРЕМЕННАЯ](http://www.tryphonov.ru/tryphonov3/terms3/itvar.htm)\n",
    "\n",
    "[Типы статистических шкал](http://www.datuapstrade.lv/rus/spss/section_5/2/)\n",
    "\n",
    "[Типы шкал (Type of scale)](https://wiki.loginom.ru/articles/scale-type.html)\n",
    "\n",
    "[Ранговые критерии](http://www.machinelearning.ru/wiki/index.php?title=%D0%A0%D0%B0%D0%BD%D0%B3%D0%BE%D0%B2%D1%8B%D0%B5_%D0%BA%D1%80%D0%B8%D1%82%D0%B5%D1%80%D0%B8%D0%B8)\n",
    "\n",
    "# References"
   ]
  },
  {
   "cell_type": "markdown",
   "metadata": {},
   "source": [
    "## Подготовка окружения"
   ]
  },
  {
   "cell_type": "code",
   "execution_count": 1,
   "metadata": {
    "collapsed": false,
    "jupyter": {
     "outputs_hidden": false
    },
    "pycharm": {
     "name": "#%%\n"
    }
   },
   "outputs": [],
   "source": [
    "# ВНИМАНИЕ: необходимо удостовериться, что виртуальная среда выбрана правильно!\n",
    "\n",
    "# Для MacOS/Ubuntu\n",
    "# !which pip\n",
    "\n",
    "# Для Windows\n",
    "# !where pip"
   ]
  },
  {
   "cell_type": "code",
   "execution_count": 2,
   "metadata": {
    "collapsed": false,
    "jupyter": {
     "outputs_hidden": false
    },
    "pycharm": {
     "name": "#%%\n"
    }
   },
   "outputs": [],
   "source": [
    "# !conda install pandas numpy matplotlib -y"
   ]
  },
  {
   "cell_type": "code",
   "execution_count": 3,
   "metadata": {
    "collapsed": false,
    "jupyter": {
     "outputs_hidden": false
    },
    "pycharm": {
     "name": "#%%\n"
    }
   },
   "outputs": [
    {
     "data": {
      "text/plain": [
       "'1.2.3'"
      ]
     },
     "execution_count": 3,
     "metadata": {},
     "output_type": "execute_result"
    }
   ],
   "source": [
    "import pandas as pd\n",
    "\n",
    "pd.__version__"
   ]
  },
  {
   "cell_type": "markdown",
   "metadata": {},
   "source": [
    "## Типы шкал и их свойства согласно классификации Стэнли Смита Стивенса\n",
    "\n",
    "Хорошее понимание разных типов данных (шкал измерений) — основное условие для проведения разведочного анализа данных (exploratory data analysis = **EDA**), ведь **для определённых типов данных можно использовать только ограниченный набор статистических измерений**.\n",
    "\n",
    "Чтобы решить, какой метод визуализации выбрать, также необходимо понимать, с какими данными предстоит работать.\n",
    "\n",
    "Можно думать о типах данных как о способе категоризации разновидностей переменных.\n",
    "\n",
    "Шкалы измерений классифицируются по типам измеряемых данных, которые определяют допустимые для данной шкалы отношения, в том числе те, что соответствуют математическим преобразованиям значений шкалы. Современная классификация шкал была предложена в 1946 году **Стэнли Смитом Стивенсом**."
   ]
  },
  {
   "cell_type": "markdown",
   "metadata": {},
   "source": [
    "<img src=\"https://raw.githubusercontent.com/ryndovaira-org/data_science_notes/main/images/measure_scales.png\" />"
   ]
  },
  {
   "cell_type": "markdown",
   "metadata": {},
   "source": [
    "См. [таблицу](https://docs.google.com/spreadsheets/d/1XXLcnpWMU_xm_vegFXM-AaGOaOE36VBxoc0Akgus7Oc/edit?usp=sharing)\n",
    "<img src=\"https://raw.githubusercontent.com/ryndovaira-org/data_science_notes/main/images/scales_info.png\" />"
   ]
  },
  {
   "cell_type": "markdown",
   "metadata": {},
   "source": [
    "<img src=\"https://raw.githubusercontent.com/ryndovaira-org/data_science_notes/main/images/scales_of_measurement.png\" height=\"550\" width=\"550\"/>"
   ]
  },
  {
   "cell_type": "markdown",
   "metadata": {},
   "source": [
    "<img src=\"https://raw.githubusercontent.com/ryndovaira-org/data_science_notes/main/images/scale_choose.png\" height=\"450\" width=\"450\"/>"
   ]
  },
  {
   "cell_type": "markdown",
   "metadata": {},
   "source": [
    "## Примеры"
   ]
  },
  {
   "cell_type": "markdown",
   "metadata": {},
   "source": [
    "### Опросник\n",
    "- Пол (качественная номинальная шкала, две категории = дихотомическая):\n",
    "    - 1 = мужской\n",
    "    - 2 = женский\n",
    "- Семейное положение (качественная номинальная шкала)\n",
    "    - 1 = холост/не замужем\n",
    "    - 2 = женат/замужем\n",
    "    - 3 = вдовец/вдова\n",
    "    - 4 = разведен(а)\n",
    "- Курение (качественная порядковая=ранговая шкала)\n",
    "    - 1 = некурящий\n",
    "    - 2 = изредка курящий\n",
    "    - 3 = интенсивно курящий\n",
    "    - 4 = очень интенсивно курящий\n",
    "- Месячный доход (качественная порядковая=ранговая шкала)\n",
    "    - 1 = до 30000\n",
    "    - 2 = 30001 - 50000    \n",
    "    - 3 = более 50000\n",
    "- Коэффициент интеллекта (IQ) (дискретная интервальная шкала) \n",
    "- Возраст (лет) (непрерывная шкала отношений)\n",
    "\n",
    "| Статистическая шкала | Эмпирическая значимость | Примеры |\n",
    "| # References | # References | # References |\n",
    "| Номинальная | Нет | Пол, семейное положение |\n",
    "| Порядковая (ранговая) | Порядок чисел | Курение, месячный доход |\n",
    "| Интервальная | Разность чисел | Коэффициент интеллекта (IQ) |\n",
    "| Шкала отношений | Отношение чисел | Возраст (лет) |"
   ]
  },
  {
   "cell_type": "markdown",
   "metadata": {},
   "source": [
    "### Геоинформационная система (ГИС)\n",
    "<img src=\"https://raw.githubusercontent.com/ryndovaira-org/data_science_notes/main/images/gis_measures.jpg\" />"
   ]
  },
  {
   "cell_type": "markdown",
   "metadata": {},
   "source": [
    "### В спортивных соревнованиях\n",
    "\n",
    "<img src=\"https://raw.githubusercontent.com/ryndovaira-org/data_science_notes/main/images/measurement_scales_example_1.jpg\" height=\"500\" width=\"500\" />"
   ]
  },
  {
   "cell_type": "markdown",
   "metadata": {},
   "source": [
    "### Дополнительные примеры\n",
    "<img src=\"https://raw.githubusercontent.com/ryndovaira-org/data_science_notes/main/images/scales.jpg\"/>"
   ]
  }
 ],
 "metadata": {
  "kernelspec": {
   "display_name": "Python [conda env:LevelUp_DataScience] *",
   "language": "python",
   "name": "conda-env-LevelUp_DataScience-py"
  },
  "language_info": {
   "codemirror_mode": {
    "name": "ipython",
    "version": 3
   },
   "file_extension": ".py",
   "mimetype": "text/x-python",
   "name": "python",
   "nbconvert_exporter": "python",
   "pygments_lexer": "ipython3",
   "version": "3.8.5"
  }
 },
 "nbformat": 4,
 "nbformat_minor": 4
}
