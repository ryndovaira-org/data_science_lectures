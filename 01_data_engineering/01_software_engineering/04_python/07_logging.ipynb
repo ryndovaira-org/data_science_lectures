{
 "cells": [
  {
   "cell_type": "markdown",
   "id": "3f24f3a0-7cbd-460f-bb82-9b34342506e4",
   "metadata": {},
   "source": [
    "# Логгирование"
   ]
  },
  {
   "cell_type": "code",
   "execution_count": 1,
   "id": "b20b92a2-cfcf-459e-8fc4-3d017e6c5681",
   "metadata": {},
   "outputs": [],
   "source": [
    "import logging"
   ]
  },
  {
   "cell_type": "markdown",
   "id": "eb4c54f7-7db3-4a35-af57-30b770a8392a",
   "metadata": {},
   "source": [
    "Стандартные уровни серьезности событий:"
   ]
  },
  {
   "cell_type": "code",
   "execution_count": 2,
   "id": "1b3db646-6d9f-452a-ba43-c38d6ab79781",
   "metadata": {},
   "outputs": [
    {
     "data": {
      "text/plain": [
       "dict_keys(['CRITICAL', 'FATAL', 'ERROR', 'WARN', 'WARNING', 'INFO', 'DEBUG', 'NOTSET'])"
      ]
     },
     "execution_count": 2,
     "metadata": {},
     "output_type": "execute_result"
    }
   ],
   "source": [
    "logging._nameToLevel.keys()"
   ]
  },
  {
   "cell_type": "markdown",
   "id": "0bc316e1-31d3-4eda-a636-0d75d40c6b76",
   "metadata": {},
   "source": [
    "Модуль регистрации по умолчанию предоставляет регистратор, который позволяет начать работу без особых настроек.\n",
    "\n",
    "По умолчанию logging регистрирует сообщения с уровнем серьезности WARNING или выше, то есть в выводе будут только WARNING ERROR и CRITICAL. Можно изменить это поведение, сконфигурировав модуль регистрации."
   ]
  },
  {
   "cell_type": "markdown",
   "id": "90691132-5e51-4bfb-8163-d465ee262a98",
   "metadata": {},
   "source": [
    "Конфигурация модуля регистрации производится в самом начале.\n",
    "\n",
    "- `level` - регистратор будет установлен на указанный уровень серьезности.\n",
    "- `format` - формат выведения сообщений.\n",
    "- `datefmt` - форматы даты при выводе.\n",
    "- `filename` - файл в который будут записываться логи.\n",
    "- `filemode` - если указано имя файла, файл открывается в этом режиме. По умолчанию это 'a', что означает добавление.\n"
   ]
  },
  {
   "cell_type": "code",
   "execution_count": 3,
   "id": "5dea6988-1f77-4d87-8728-1bfc99ef4a1f",
   "metadata": {},
   "outputs": [
    {
     "name": "stderr",
     "output_type": "stream",
     "text": [
      "14-Jun-23 19:50:03 DEBUG: root\n",
      "\t<module>\n",
      "\t14\n",
      "\tThis is a NEW debug message\n",
      "\t314.0\n",
      "\n",
      "14-Jun-23 19:50:03 INFO: root\n",
      "\t<module>\n",
      "\t15\n",
      "\tThis is a NEW info message\n",
      "\t318.0\n",
      "\n",
      "14-Jun-23 19:50:03 WARNING: root\n",
      "\t<module>\n",
      "\t16\n",
      "\tThis is a NEW warning message\n",
      "\t320.0\n",
      "\n",
      "14-Jun-23 19:50:03 ERROR: root\n",
      "\t<module>\n",
      "\t17\n",
      "\tThis is a NEW error message\n",
      "\t322.0\n",
      "\n",
      "14-Jun-23 19:50:03 CRITICAL: root\n",
      "\t<module>\n",
      "\t18\n",
      "\tThis is a NEW critical message\n",
      "\t323.0\n",
      "\n"
     ]
    }
   ],
   "source": [
    "logging.basicConfig(level=logging.DEBUG,\n",
    "                    format=\"%(asctime)s %(levelname)s: %(name)s\\n\"\n",
    "                           \"\\t%(funcName)s\\n\"\n",
    "                           \"\\t%(lineno)s\\n\"\n",
    "                           \"\\t%(message)s\\n\"\n",
    "                           \"\\t%(msecs)s\\n\",\n",
    "                    datefmt='%d-%b-%y %H:%M:%S', \n",
    "                    handlers=[\n",
    "        logging.FileHandler(\"logging_result.log\"),\n",
    "        logging.StreamHandler()\n",
    "    ]\n",
    "                   )\n",
    "\n",
    "logging.debug('This is a NEW debug message')\n",
    "logging.info('This is a NEW info message')\n",
    "logging.warning('This is a NEW warning message')\n",
    "logging.error('This is a NEW error message')\n",
    "logging.critical('This is a NEW critical message')"
   ]
  },
  {
   "cell_type": "markdown",
   "id": "273025a6-be26-41e7-b92d-f91b2837e85a",
   "metadata": {},
   "source": [
    "# References\n",
    "\n",
    "[]()\n",
    "\n",
    "[]()\n",
    "\n",
    "[]()\n",
    "\n",
    "[]()\n",
    "\n",
    "[]()\n",
    "\n",
    "[]()"
   ]
  }
 ],
 "metadata": {
  "kernelspec": {
   "display_name": "Python [conda env:.conda-data_science_notes] *",
   "language": "python",
   "name": "conda-env-.conda-data_science_notes-py"
  },
  "language_info": {
   "codemirror_mode": {
    "name": "ipython",
    "version": 3
   },
   "file_extension": ".py",
   "mimetype": "text/x-python",
   "name": "python",
   "nbconvert_exporter": "python",
   "pygments_lexer": "ipython3",
   "version": "3.10.11"
  }
 },
 "nbformat": 4,
 "nbformat_minor": 5
}
