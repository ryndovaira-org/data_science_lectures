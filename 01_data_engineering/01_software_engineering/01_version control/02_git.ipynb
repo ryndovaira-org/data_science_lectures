{
 "cells": [
  {
   "cell_type": "markdown",
   "id": "a475306a-d09d-48fa-9b75-8703a638f646",
   "metadata": {},
   "source": [
    "# Git\n",
    "\n",
    "**Git** — распределённая система управления версиями. \n",
    "\n",
    "Проект был создан **Линусом Торвальдсом** для управления разработкой ядра Linux, первая версия выпущена 7 апреля 2005 года. На сегодняшний день его поддерживает Джунио Хамано."
   ]
  },
  {
   "cell_type": "markdown",
   "id": "63f61c43-0776-4d15-838f-0a0278f7d1d7",
   "metadata": {},
   "source": [
    "# Git-хостинг\n",
    "\n",
    "Ряд сервисов предоставляют хостинг для git-репозиториев, среди наиболее известных:\n",
    "- GitHub\n",
    "- Bitbucket\n",
    "- GitLab\n",
    "- Codebase\n",
    "- SourceForge\n",
    "- SourceHut\n",
    "- Gitea\n"
   ]
  },
  {
   "cell_type": "markdown",
   "id": "b874b419-dd17-438c-afa8-89145bc4bce7",
   "metadata": {},
   "source": [
    "# Branching Strategies\n",
    "\n",
    "## Trunk-based development\n",
    "<img src='https://raw.githubusercontent.com/ryndovaira-org/data_science_notes/main/diagrams/git_branching_strategy_tbd.drawio.png'/>\n",
    "\n",
    "## GitFlow\n",
    "...\n",
    "\n",
    "## GitHub Flow\n",
    "...\n",
    "\n",
    "## GitLab Flow\n",
    "..."
   ]
  },
  {
   "cell_type": "markdown",
   "id": "15ab3672-5022-4326-a6a1-f32abe5b3178",
   "metadata": {
    "tags": []
   },
   "source": [
    "# Conventional Commits\n",
    "\n",
    "- Спецификация \"Соглашение о коммитах\" — простое соглашение о том, как нужно писать сообщения коммитов. Оно описывает простой набор правил для создания понятной истории коммитов, а также позволяет проще разрабатывать инструменты автоматизации, основанные на истории коммитов. Данное соглашение совместимо с Семантическим Версионированием, описывая новые функции, исправления и изменения, нарушающие обратную совместимость в сообщениях коммитов.\n",
    "\n",
    "- Сообщения коммитов должны быть следующей структуры:\n",
    "```\n",
    "<тип>[необязательный контекст]: <описание>\n",
    "\n",
    "[необязательное тело]\n",
    "\n",
    "[необязательная(ые) сноска(и)]\n",
    "```\n",
    "\n",
    "\n",
    "- Коммит содержит следующие структурные элементы для передачи намерений пользователям вашей библиотеки:\n",
    "    - **fix**: коммит типа fix исправляет баг в вашем коде (соответствует PATCH в Cемантическом Версионировании).\n",
    "    - **feat**: коммит типа feat добавляет новую функцию в ваш код (соответствует MINOR в Cемантическом Версионировании).\n",
    "    - **BREAKING CHANGE**: коммит, который имеет сноску BREAKING CHANGE или коммит, заканчивающийся восклицательным знаком (!) после типа или контекста, вводящий изменение(я), нарушающие обратную совместимость (соответствует MAJOR в Cемантическом Версионировании). BREAKING CHANGE может быть частью коммита любого типа.\n",
    "    - Другие типы коммитов разрешены: **build**, **chore**, **ci**, **docs**, **style**, **refactor**, **perf**, **test** и другие.\n",
    "\n",
    "\n",
    "- Сообщение коммита с телом из нескольких абзацев и несколькими сносками:\n",
    "```\n",
    "fix: prevent racing of requests\n",
    "\n",
    "Introduce a request id and a reference to latest request. Dismiss\n",
    "incoming responses other than from latest request.\n",
    "\n",
    "Remove timeouts which were used to mitigate the racing issue but are\n",
    "obsolete now.\n",
    "\n",
    "Reviewed-by: Z\n",
    "Refs: #123\n",
    "```"
   ]
  },
  {
   "cell_type": "markdown",
   "id": "8f57ef01-30ad-4d10-a662-f6f9a8b6cb38",
   "metadata": {},
   "source": [
    "# Rules of a great Git commit message\n",
    "\n",
    "- Separate subject from body with a blank line\n",
    "- Limit the subject line to 50 characters\n",
    "- Capitalize the subject line\n",
    "- Do not end the subject line with a period\n",
    "- Use the **imperative mood** in the subject line\n",
    "- Wrap the body at 72 characters\n",
    "- Use the body to explain **what and why vs. how**"
   ]
  },
  {
   "cell_type": "markdown",
   "id": "a53347a8-a832-41a7-b414-6c68dd846603",
   "metadata": {},
   "source": [
    "# References\n",
    "\n",
    "[Learn Git Branching](https://learngitbranching.js.org/)\n",
    "\n",
    "[Gitflow Workflow](https://www.atlassian.com/git/tutorials/comparing-workflows/gitflow-workflow)\n",
    "\n",
    "[What Are the Best Git Branching Strategies](https://www.flagship.io/git-branching-strategies/)\n",
    "\n",
    "[Conventional Commits](https://www.conventionalcommits.org/en/v1.0.0/#summary)\n",
    "\n",
    "[Семантическое Версионирование 2.0.0](https://semver.org/lang/ru/)\n",
    "\n",
    "[How to Write a Git Commit Message](https://cbea.ms/git-commit/)\n",
    "\n",
    "[Conventional Commit Messages](https://gist.github.com/qoomon/5dfcdf8eec66a051ecd85625518cfd13)"
   ]
  }
 ],
 "metadata": {
  "kernelspec": {
   "display_name": "Python [conda env:data_engineering_dmitriy] *",
   "language": "python",
   "name": "conda-env-data_engineering_dmitriy-py"
  },
  "language_info": {
   "codemirror_mode": {
    "name": "ipython",
    "version": 3
   },
   "file_extension": ".py",
   "mimetype": "text/x-python",
   "name": "python",
   "nbconvert_exporter": "python",
   "pygments_lexer": "ipython3",
   "version": "3.10.10"
  }
 },
 "nbformat": 4,
 "nbformat_minor": 5
}
