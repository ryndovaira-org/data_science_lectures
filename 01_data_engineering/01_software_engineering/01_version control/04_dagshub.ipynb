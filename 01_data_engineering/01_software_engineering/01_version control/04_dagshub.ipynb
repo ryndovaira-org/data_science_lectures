{
 "cells": [
  {
   "cell_type": "markdown",
   "id": "1454e73f-fbed-4515-b746-ee6e6e823de1",
   "metadata": {},
   "source": [
    "# DagsHub"
   ]
  },
  {
   "cell_type": "markdown",
   "id": "7b0ec3a8-e67e-4ba4-8137-58362f3a9b1a",
   "metadata": {},
   "source": [
    "# References\n",
    "\n",
    "[DagsHub: a GitHub Supplement for Data Scientists and ML Engineers](https://towardsdatascience.com/dagshub-a-github-supplement-for-data-scientists-and-ml-engineers-9ecaf49cc505)\n",
    "\n",
    "[DagsHub](https://github.com/DagsHub)\n",
    "\n",
    "[A Guide to DVC and DAGsHub for Machine Learning Experiments](https://www.analyticsvidhya.com/blog/2021/10/a-guide-to-dvc-and-dagshub-for-machine-learning-experiments/)\n",
    "\n",
    "[]()"
   ]
  }
 ],
 "metadata": {
  "kernelspec": {
   "display_name": "Python [conda env:data_engineering_dmitriy] *",
   "language": "python",
   "name": "conda-env-data_engineering_dmitriy-py"
  },
  "language_info": {
   "codemirror_mode": {
    "name": "ipython",
    "version": 3
   },
   "file_extension": ".py",
   "mimetype": "text/x-python",
   "name": "python",
   "nbconvert_exporter": "python",
   "pygments_lexer": "ipython3",
   "version": "3.10.10"
  }
 },
 "nbformat": 4,
 "nbformat_minor": 5
}
