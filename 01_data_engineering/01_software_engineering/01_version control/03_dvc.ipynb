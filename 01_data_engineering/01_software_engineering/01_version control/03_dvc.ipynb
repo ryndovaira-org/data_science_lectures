{
 "cells": [
  {
   "cell_type": "markdown",
   "id": "017979f7-7ff3-4c7d-8a6d-5b72ad663730",
   "metadata": {},
   "source": [
    "# Data Version Control"
   ]
  },
  {
   "cell_type": "markdown",
   "id": "afde3e97-d300-40c6-b4c7-7ddf9e1a2c7e",
   "metadata": {},
   "source": [
    "# References\n",
    "\n",
    "[Data Version Control](https://dvc.org/)\n",
    "\n",
    "[Data Version Control Wiki]()\n",
    "\n",
    "[A Guide to DVC and DAGsHub for Machine Learning Experiments](https://www.analyticsvidhya.com/blog/2021/10/a-guide-to-dvc-and-dagshub-for-machine-learning-experiments/)\n",
    "\n",
    "[]()"
   ]
  }
 ],
 "metadata": {
  "kernelspec": {
   "display_name": "Python [conda env:data_engineering_dmitriy] *",
   "language": "python",
   "name": "conda-env-data_engineering_dmitriy-py"
  },
  "language_info": {
   "codemirror_mode": {
    "name": "ipython",
    "version": 3
   },
   "file_extension": ".py",
   "mimetype": "text/x-python",
   "name": "python",
   "nbconvert_exporter": "python",
   "pygments_lexer": "ipython3",
   "version": "3.10.10"
  }
 },
 "nbformat": 4,
 "nbformat_minor": 5
}
