{
 "cells": [
  {
   "cell_type": "markdown",
   "metadata": {},
   "source": [
    "## Импорт пакетов"
   ]
  },
  {
   "cell_type": "code",
   "execution_count": 28,
   "metadata": {},
   "outputs": [],
   "source": [
    "import numpy as np\n",
    "import pandas as pd\n",
    "\n",
    "import seaborn as sns\n",
    "import matplotlib.pyplot as plt"
   ]
  },
  {
   "cell_type": "markdown",
   "metadata": {},
   "source": [
    "# Загрузка данных\n",
    "\n",
    "[browser clicks](https://www.kaggle.com/ryndova/browser-clicks)"
   ]
  },
  {
   "cell_type": "code",
   "execution_count": 5,
   "metadata": {},
   "outputs": [
    {
     "data": {
      "text/html": [
       "<div>\n",
       "<style scoped>\n",
       "    .dataframe tbody tr th:only-of-type {\n",
       "        vertical-align: middle;\n",
       "    }\n",
       "\n",
       "    .dataframe tbody tr th {\n",
       "        vertical-align: top;\n",
       "    }\n",
       "\n",
       "    .dataframe thead th {\n",
       "        text-align: right;\n",
       "    }\n",
       "</style>\n",
       "<table border=\"1\" class=\"dataframe\">\n",
       "  <thead>\n",
       "    <tr style=\"text-align: right;\">\n",
       "      <th></th>\n",
       "      <th>ID</th>\n",
       "      <th>Country_Code</th>\n",
       "      <th>City_ID</th>\n",
       "      <th>DBM_Request_Time</th>\n",
       "      <th>DBM_Creative_ID</th>\n",
       "      <th>DBM_Language</th>\n",
       "      <th>DBM_Operating_System_ID</th>\n",
       "      <th>DBM_Browser_Platform_ID</th>\n",
       "      <th>DBM_Device_Type</th>\n",
       "      <th>DBM_Mobile_Model_ID</th>\n",
       "      <th>domen</th>\n",
       "    </tr>\n",
       "  </thead>\n",
       "  <tbody>\n",
       "    <tr>\n",
       "      <th>0</th>\n",
       "      <td>216627</td>\n",
       "      <td>RU</td>\n",
       "      <td>29451.0</td>\n",
       "      <td>2019-12-31 13:34:15</td>\n",
       "      <td>215162880.0</td>\n",
       "      <td>RU</td>\n",
       "      <td>1175.0</td>\n",
       "      <td>3.0</td>\n",
       "      <td>2.0</td>\n",
       "      <td>6997.0</td>\n",
       "      <td>russianfood.com</td>\n",
       "    </tr>\n",
       "    <tr>\n",
       "      <th>1</th>\n",
       "      <td>1392116</td>\n",
       "      <td>RU</td>\n",
       "      <td>29435.0</td>\n",
       "      <td>2019-12-26 09:34:49</td>\n",
       "      <td>215162880.0</td>\n",
       "      <td>RU</td>\n",
       "      <td>1212.0</td>\n",
       "      <td>6.0</td>\n",
       "      <td>2.0</td>\n",
       "      <td>1013.0</td>\n",
       "      <td>mbapp_url</td>\n",
       "    </tr>\n",
       "    <tr>\n",
       "      <th>2</th>\n",
       "      <td>9251464</td>\n",
       "      <td>RU</td>\n",
       "      <td>NaN</td>\n",
       "      <td>2019-12-25 11:10:03</td>\n",
       "      <td>215162880.0</td>\n",
       "      <td>RU</td>\n",
       "      <td>1205.0</td>\n",
       "      <td>3.0</td>\n",
       "      <td>2.0</td>\n",
       "      <td>7973.0</td>\n",
       "      <td>mbapp_url</td>\n",
       "    </tr>\n",
       "    <tr>\n",
       "      <th>3</th>\n",
       "      <td>10646182</td>\n",
       "      <td>RU</td>\n",
       "      <td>29356.0</td>\n",
       "      <td>2019-12-31 17:50:51</td>\n",
       "      <td>215162880.0</td>\n",
       "      <td>RU</td>\n",
       "      <td>1205.0</td>\n",
       "      <td>3.0</td>\n",
       "      <td>2.0</td>\n",
       "      <td>7973.0</td>\n",
       "      <td>news.sportbox.ru</td>\n",
       "    </tr>\n",
       "    <tr>\n",
       "      <th>4</th>\n",
       "      <td>5534849</td>\n",
       "      <td>RU</td>\n",
       "      <td>29378.0</td>\n",
       "      <td>2019-12-30 09:50:27</td>\n",
       "      <td>215162880.0</td>\n",
       "      <td>RU</td>\n",
       "      <td>1175.0</td>\n",
       "      <td>3.0</td>\n",
       "      <td>2.0</td>\n",
       "      <td>7016.0</td>\n",
       "      <td>mbapp_url</td>\n",
       "    </tr>\n",
       "    <tr>\n",
       "      <th>...</th>\n",
       "      <td>...</td>\n",
       "      <td>...</td>\n",
       "      <td>...</td>\n",
       "      <td>...</td>\n",
       "      <td>...</td>\n",
       "      <td>...</td>\n",
       "      <td>...</td>\n",
       "      <td>...</td>\n",
       "      <td>...</td>\n",
       "      <td>...</td>\n",
       "      <td>...</td>\n",
       "    </tr>\n",
       "    <tr>\n",
       "      <th>9997725</th>\n",
       "      <td>6550634</td>\n",
       "      <td>RU</td>\n",
       "      <td>29451.0</td>\n",
       "      <td>2019-12-19 01:05:46</td>\n",
       "      <td>210330400.0</td>\n",
       "      <td>RU</td>\n",
       "      <td>1181.0</td>\n",
       "      <td>3.0</td>\n",
       "      <td>2.0</td>\n",
       "      <td>7812.0</td>\n",
       "      <td>mbapp_url</td>\n",
       "    </tr>\n",
       "    <tr>\n",
       "      <th>9997726</th>\n",
       "      <td>16094478</td>\n",
       "      <td>RU</td>\n",
       "      <td>29377.0</td>\n",
       "      <td>2019-12-26 14:41:47</td>\n",
       "      <td>215162880.0</td>\n",
       "      <td>RU</td>\n",
       "      <td>1175.0</td>\n",
       "      <td>0.0</td>\n",
       "      <td>2.0</td>\n",
       "      <td>7812.0</td>\n",
       "      <td>other</td>\n",
       "    </tr>\n",
       "    <tr>\n",
       "      <th>9997727</th>\n",
       "      <td>6423388</td>\n",
       "      <td>RU</td>\n",
       "      <td>29492.0</td>\n",
       "      <td>2019-12-25 08:39:25</td>\n",
       "      <td>215163790.0</td>\n",
       "      <td>RU</td>\n",
       "      <td>1205.0</td>\n",
       "      <td>3.0</td>\n",
       "      <td>2.0</td>\n",
       "      <td>7767.0</td>\n",
       "      <td>mbapp_url</td>\n",
       "    </tr>\n",
       "    <tr>\n",
       "      <th>9997728</th>\n",
       "      <td>15351219</td>\n",
       "      <td>RU</td>\n",
       "      <td>29468.0</td>\n",
       "      <td>2019-12-28 00:16:44</td>\n",
       "      <td>215162880.0</td>\n",
       "      <td>Other</td>\n",
       "      <td>1205.0</td>\n",
       "      <td>3.0</td>\n",
       "      <td>2.0</td>\n",
       "      <td>7973.0</td>\n",
       "      <td>nice-books.ru</td>\n",
       "    </tr>\n",
       "    <tr>\n",
       "      <th>9997729</th>\n",
       "      <td>14802022</td>\n",
       "      <td>RU</td>\n",
       "      <td>29378.0</td>\n",
       "      <td>2019-12-19 09:17:23</td>\n",
       "      <td>210330400.0</td>\n",
       "      <td>RU</td>\n",
       "      <td>1218.0</td>\n",
       "      <td>6.0</td>\n",
       "      <td>2.0</td>\n",
       "      <td>1013.0</td>\n",
       "      <td>mbapp_url</td>\n",
       "    </tr>\n",
       "  </tbody>\n",
       "</table>\n",
       "<p>9997730 rows × 11 columns</p>\n",
       "</div>"
      ],
      "text/plain": [
       "               ID Country_Code  City_ID     DBM_Request_Time  DBM_Creative_ID  \\\n",
       "0          216627           RU  29451.0  2019-12-31 13:34:15      215162880.0   \n",
       "1         1392116           RU  29435.0  2019-12-26 09:34:49      215162880.0   \n",
       "2         9251464           RU      NaN  2019-12-25 11:10:03      215162880.0   \n",
       "3        10646182           RU  29356.0  2019-12-31 17:50:51      215162880.0   \n",
       "4         5534849           RU  29378.0  2019-12-30 09:50:27      215162880.0   \n",
       "...           ...          ...      ...                  ...              ...   \n",
       "9997725   6550634           RU  29451.0  2019-12-19 01:05:46      210330400.0   \n",
       "9997726  16094478           RU  29377.0  2019-12-26 14:41:47      215162880.0   \n",
       "9997727   6423388           RU  29492.0  2019-12-25 08:39:25      215163790.0   \n",
       "9997728  15351219           RU  29468.0  2019-12-28 00:16:44      215162880.0   \n",
       "9997729  14802022           RU  29378.0  2019-12-19 09:17:23      210330400.0   \n",
       "\n",
       "        DBM_Language  DBM_Operating_System_ID  DBM_Browser_Platform_ID  \\\n",
       "0                 RU                   1175.0                      3.0   \n",
       "1                 RU                   1212.0                      6.0   \n",
       "2                 RU                   1205.0                      3.0   \n",
       "3                 RU                   1205.0                      3.0   \n",
       "4                 RU                   1175.0                      3.0   \n",
       "...              ...                      ...                      ...   \n",
       "9997725           RU                   1181.0                      3.0   \n",
       "9997726           RU                   1175.0                      0.0   \n",
       "9997727           RU                   1205.0                      3.0   \n",
       "9997728        Other                   1205.0                      3.0   \n",
       "9997729           RU                   1218.0                      6.0   \n",
       "\n",
       "         DBM_Device_Type DBM_Mobile_Model_ID             domen  \n",
       "0                    2.0              6997.0   russianfood.com  \n",
       "1                    2.0              1013.0         mbapp_url  \n",
       "2                    2.0              7973.0         mbapp_url  \n",
       "3                    2.0              7973.0  news.sportbox.ru  \n",
       "4                    2.0              7016.0         mbapp_url  \n",
       "...                  ...                 ...               ...  \n",
       "9997725              2.0              7812.0         mbapp_url  \n",
       "9997726              2.0              7812.0             other  \n",
       "9997727              2.0              7767.0         mbapp_url  \n",
       "9997728              2.0              7973.0     nice-books.ru  \n",
       "9997729              2.0              1013.0         mbapp_url  \n",
       "\n",
       "[9997730 rows x 11 columns]"
      ]
     },
     "execution_count": 5,
     "metadata": {},
     "output_type": "execute_result"
    }
   ],
   "source": [
    "X_train = pd.read_csv('./X_train.csv')\n",
    "X_train"
   ]
  },
  {
   "cell_type": "code",
   "execution_count": 6,
   "metadata": {},
   "outputs": [
    {
     "data": {
      "text/html": [
       "<div>\n",
       "<style scoped>\n",
       "    .dataframe tbody tr th:only-of-type {\n",
       "        vertical-align: middle;\n",
       "    }\n",
       "\n",
       "    .dataframe tbody tr th {\n",
       "        vertical-align: top;\n",
       "    }\n",
       "\n",
       "    .dataframe thead th {\n",
       "        text-align: right;\n",
       "    }\n",
       "</style>\n",
       "<table border=\"1\" class=\"dataframe\">\n",
       "  <thead>\n",
       "    <tr style=\"text-align: right;\">\n",
       "      <th></th>\n",
       "      <th>ID</th>\n",
       "      <th>TARGET</th>\n",
       "    </tr>\n",
       "  </thead>\n",
       "  <tbody>\n",
       "    <tr>\n",
       "      <th>0</th>\n",
       "      <td>216627</td>\n",
       "      <td>0</td>\n",
       "    </tr>\n",
       "    <tr>\n",
       "      <th>1</th>\n",
       "      <td>1392116</td>\n",
       "      <td>0</td>\n",
       "    </tr>\n",
       "    <tr>\n",
       "      <th>2</th>\n",
       "      <td>9251464</td>\n",
       "      <td>0</td>\n",
       "    </tr>\n",
       "    <tr>\n",
       "      <th>3</th>\n",
       "      <td>10646182</td>\n",
       "      <td>0</td>\n",
       "    </tr>\n",
       "    <tr>\n",
       "      <th>4</th>\n",
       "      <td>5534849</td>\n",
       "      <td>0</td>\n",
       "    </tr>\n",
       "    <tr>\n",
       "      <th>...</th>\n",
       "      <td>...</td>\n",
       "      <td>...</td>\n",
       "    </tr>\n",
       "    <tr>\n",
       "      <th>9997725</th>\n",
       "      <td>6550634</td>\n",
       "      <td>0</td>\n",
       "    </tr>\n",
       "    <tr>\n",
       "      <th>9997726</th>\n",
       "      <td>16094478</td>\n",
       "      <td>0</td>\n",
       "    </tr>\n",
       "    <tr>\n",
       "      <th>9997727</th>\n",
       "      <td>6423388</td>\n",
       "      <td>0</td>\n",
       "    </tr>\n",
       "    <tr>\n",
       "      <th>9997728</th>\n",
       "      <td>15351219</td>\n",
       "      <td>0</td>\n",
       "    </tr>\n",
       "    <tr>\n",
       "      <th>9997729</th>\n",
       "      <td>14802022</td>\n",
       "      <td>0</td>\n",
       "    </tr>\n",
       "  </tbody>\n",
       "</table>\n",
       "<p>9997730 rows × 2 columns</p>\n",
       "</div>"
      ],
      "text/plain": [
       "               ID  TARGET\n",
       "0          216627       0\n",
       "1         1392116       0\n",
       "2         9251464       0\n",
       "3        10646182       0\n",
       "4         5534849       0\n",
       "...           ...     ...\n",
       "9997725   6550634       0\n",
       "9997726  16094478       0\n",
       "9997727   6423388       0\n",
       "9997728  15351219       0\n",
       "9997729  14802022       0\n",
       "\n",
       "[9997730 rows x 2 columns]"
      ]
     },
     "execution_count": 6,
     "metadata": {},
     "output_type": "execute_result"
    }
   ],
   "source": [
    "y_train = pd.read_csv('./y_train.csv')\n",
    "y_train"
   ]
  },
  {
   "cell_type": "code",
   "execution_count": 7,
   "metadata": {},
   "outputs": [
    {
     "data": {
      "text/html": [
       "<div>\n",
       "<style scoped>\n",
       "    .dataframe tbody tr th:only-of-type {\n",
       "        vertical-align: middle;\n",
       "    }\n",
       "\n",
       "    .dataframe tbody tr th {\n",
       "        vertical-align: top;\n",
       "    }\n",
       "\n",
       "    .dataframe thead th {\n",
       "        text-align: right;\n",
       "    }\n",
       "</style>\n",
       "<table border=\"1\" class=\"dataframe\">\n",
       "  <thead>\n",
       "    <tr style=\"text-align: right;\">\n",
       "      <th></th>\n",
       "      <th>ID</th>\n",
       "      <th>Country_Code</th>\n",
       "      <th>City_ID</th>\n",
       "      <th>DBM_Request_Time</th>\n",
       "      <th>DBM_Creative_ID</th>\n",
       "      <th>DBM_Language</th>\n",
       "      <th>DBM_Operating_System_ID</th>\n",
       "      <th>DBM_Browser_Platform_ID</th>\n",
       "      <th>DBM_Device_Type</th>\n",
       "      <th>DBM_Mobile_Model_ID</th>\n",
       "      <th>domen</th>\n",
       "    </tr>\n",
       "  </thead>\n",
       "  <tbody>\n",
       "    <tr>\n",
       "      <th>0</th>\n",
       "      <td>10757267</td>\n",
       "      <td>RU</td>\n",
       "      <td>29378.0</td>\n",
       "      <td>2019-12-24 23:37:26</td>\n",
       "      <td>215162880.0</td>\n",
       "      <td>RU</td>\n",
       "      <td>1175.0</td>\n",
       "      <td>3.0</td>\n",
       "      <td>2.0</td>\n",
       "      <td>7016.0</td>\n",
       "      <td>kp.ru</td>\n",
       "    </tr>\n",
       "    <tr>\n",
       "      <th>1</th>\n",
       "      <td>6100469</td>\n",
       "      <td>RU</td>\n",
       "      <td>NaN</td>\n",
       "      <td>2019-12-27 04:09:50</td>\n",
       "      <td>215163790.0</td>\n",
       "      <td>RU</td>\n",
       "      <td>1175.0</td>\n",
       "      <td>3.0</td>\n",
       "      <td>2.0</td>\n",
       "      <td>6450.0</td>\n",
       "      <td>expert.ru</td>\n",
       "    </tr>\n",
       "    <tr>\n",
       "      <th>2</th>\n",
       "      <td>3054264</td>\n",
       "      <td>RU</td>\n",
       "      <td>29459.0</td>\n",
       "      <td>2019-12-30 22:42:53</td>\n",
       "      <td>215162880.0</td>\n",
       "      <td>RU</td>\n",
       "      <td>1181.0</td>\n",
       "      <td>3.0</td>\n",
       "      <td>2.0</td>\n",
       "      <td>6459.0</td>\n",
       "      <td>drive2.ru</td>\n",
       "    </tr>\n",
       "    <tr>\n",
       "      <th>3</th>\n",
       "      <td>8881779</td>\n",
       "      <td>RU</td>\n",
       "      <td>29514.0</td>\n",
       "      <td>2019-12-23 20:10:01</td>\n",
       "      <td>215162880.0</td>\n",
       "      <td>RU</td>\n",
       "      <td>1181.0</td>\n",
       "      <td>3.0</td>\n",
       "      <td>2.0</td>\n",
       "      <td>6458.0</td>\n",
       "      <td>other</td>\n",
       "    </tr>\n",
       "    <tr>\n",
       "      <th>4</th>\n",
       "      <td>6229019</td>\n",
       "      <td>RU</td>\n",
       "      <td>NaN</td>\n",
       "      <td>2019-12-29 01:47:25</td>\n",
       "      <td>215162880.0</td>\n",
       "      <td>RU</td>\n",
       "      <td>1181.0</td>\n",
       "      <td>3.0</td>\n",
       "      <td>2.0</td>\n",
       "      <td>6459.0</td>\n",
       "      <td>other</td>\n",
       "    </tr>\n",
       "    <tr>\n",
       "      <th>...</th>\n",
       "      <td>...</td>\n",
       "      <td>...</td>\n",
       "      <td>...</td>\n",
       "      <td>...</td>\n",
       "      <td>...</td>\n",
       "      <td>...</td>\n",
       "      <td>...</td>\n",
       "      <td>...</td>\n",
       "      <td>...</td>\n",
       "      <td>...</td>\n",
       "      <td>...</td>\n",
       "    </tr>\n",
       "    <tr>\n",
       "      <th>6665149</th>\n",
       "      <td>5004655</td>\n",
       "      <td>RU</td>\n",
       "      <td>NaN</td>\n",
       "      <td>2019-12-26 02:40:40</td>\n",
       "      <td>215162880.0</td>\n",
       "      <td>RU</td>\n",
       "      <td>1205.0</td>\n",
       "      <td>3.0</td>\n",
       "      <td>2.0</td>\n",
       "      <td>7766.0</td>\n",
       "      <td>versiya.info</td>\n",
       "    </tr>\n",
       "    <tr>\n",
       "      <th>6665150</th>\n",
       "      <td>2173419</td>\n",
       "      <td>RU</td>\n",
       "      <td>29356.0</td>\n",
       "      <td>2019-12-24 05:03:52</td>\n",
       "      <td>215162880.0</td>\n",
       "      <td>RU</td>\n",
       "      <td>1181.0</td>\n",
       "      <td>3.0</td>\n",
       "      <td>2.0</td>\n",
       "      <td>8468.0</td>\n",
       "      <td>other</td>\n",
       "    </tr>\n",
       "    <tr>\n",
       "      <th>6665151</th>\n",
       "      <td>15078941</td>\n",
       "      <td>RU</td>\n",
       "      <td>29377.0</td>\n",
       "      <td>2019-12-25 08:16:40</td>\n",
       "      <td>215163790.0</td>\n",
       "      <td>RU</td>\n",
       "      <td>1205.0</td>\n",
       "      <td>3.0</td>\n",
       "      <td>2.0</td>\n",
       "      <td>7766.0</td>\n",
       "      <td>mbapp_url</td>\n",
       "    </tr>\n",
       "    <tr>\n",
       "      <th>6665152</th>\n",
       "      <td>15904219</td>\n",
       "      <td>RU</td>\n",
       "      <td>29378.0</td>\n",
       "      <td>2019-12-26 15:32:52</td>\n",
       "      <td>215162880.0</td>\n",
       "      <td>RU</td>\n",
       "      <td>1175.0</td>\n",
       "      <td>3.0</td>\n",
       "      <td>2.0</td>\n",
       "      <td>7016.0</td>\n",
       "      <td>moon-today.com</td>\n",
       "    </tr>\n",
       "    <tr>\n",
       "      <th>6665153</th>\n",
       "      <td>2431315</td>\n",
       "      <td>RU</td>\n",
       "      <td>29354.0</td>\n",
       "      <td>2019-12-23 21:41:00</td>\n",
       "      <td>215162880.0</td>\n",
       "      <td>RU</td>\n",
       "      <td>1205.0</td>\n",
       "      <td>3.0</td>\n",
       "      <td>2.0</td>\n",
       "      <td>7767.0</td>\n",
       "      <td>other</td>\n",
       "    </tr>\n",
       "  </tbody>\n",
       "</table>\n",
       "<p>6665154 rows × 11 columns</p>\n",
       "</div>"
      ],
      "text/plain": [
       "               ID Country_Code  City_ID     DBM_Request_Time  DBM_Creative_ID  \\\n",
       "0        10757267           RU  29378.0  2019-12-24 23:37:26      215162880.0   \n",
       "1         6100469           RU      NaN  2019-12-27 04:09:50      215163790.0   \n",
       "2         3054264           RU  29459.0  2019-12-30 22:42:53      215162880.0   \n",
       "3         8881779           RU  29514.0  2019-12-23 20:10:01      215162880.0   \n",
       "4         6229019           RU      NaN  2019-12-29 01:47:25      215162880.0   \n",
       "...           ...          ...      ...                  ...              ...   \n",
       "6665149   5004655           RU      NaN  2019-12-26 02:40:40      215162880.0   \n",
       "6665150   2173419           RU  29356.0  2019-12-24 05:03:52      215162880.0   \n",
       "6665151  15078941           RU  29377.0  2019-12-25 08:16:40      215163790.0   \n",
       "6665152  15904219           RU  29378.0  2019-12-26 15:32:52      215162880.0   \n",
       "6665153   2431315           RU  29354.0  2019-12-23 21:41:00      215162880.0   \n",
       "\n",
       "        DBM_Language  DBM_Operating_System_ID  DBM_Browser_Platform_ID  \\\n",
       "0                 RU                   1175.0                      3.0   \n",
       "1                 RU                   1175.0                      3.0   \n",
       "2                 RU                   1181.0                      3.0   \n",
       "3                 RU                   1181.0                      3.0   \n",
       "4                 RU                   1181.0                      3.0   \n",
       "...              ...                      ...                      ...   \n",
       "6665149           RU                   1205.0                      3.0   \n",
       "6665150           RU                   1181.0                      3.0   \n",
       "6665151           RU                   1205.0                      3.0   \n",
       "6665152           RU                   1175.0                      3.0   \n",
       "6665153           RU                   1205.0                      3.0   \n",
       "\n",
       "         DBM_Device_Type DBM_Mobile_Model_ID           domen  \n",
       "0                    2.0              7016.0           kp.ru  \n",
       "1                    2.0              6450.0       expert.ru  \n",
       "2                    2.0              6459.0       drive2.ru  \n",
       "3                    2.0              6458.0           other  \n",
       "4                    2.0              6459.0           other  \n",
       "...                  ...                 ...             ...  \n",
       "6665149              2.0              7766.0    versiya.info  \n",
       "6665150              2.0              8468.0           other  \n",
       "6665151              2.0              7766.0       mbapp_url  \n",
       "6665152              2.0              7016.0  moon-today.com  \n",
       "6665153              2.0              7767.0           other  \n",
       "\n",
       "[6665154 rows x 11 columns]"
      ]
     },
     "execution_count": 7,
     "metadata": {},
     "output_type": "execute_result"
    }
   ],
   "source": [
    "X_valid = pd.read_csv('./X_valid.csv')\n",
    "X_valid"
   ]
  },
  {
   "cell_type": "markdown",
   "metadata": {},
   "source": [
    "## Анализ"
   ]
  },
  {
   "cell_type": "markdown",
   "metadata": {},
   "source": [
    "## Типы данных"
   ]
  },
  {
   "cell_type": "code",
   "execution_count": 18,
   "metadata": {},
   "outputs": [
    {
     "name": "stdout",
     "output_type": "stream",
     "text": [
      "<class 'pandas.core.frame.DataFrame'>\n",
      "RangeIndex: 9997730 entries, 0 to 9997729\n",
      "Data columns (total 11 columns):\n",
      " #   Column                   Dtype  \n",
      "---  ------                   -----  \n",
      " 0   ID                       int64  \n",
      " 1   Country_Code             object \n",
      " 2   City_ID                  float64\n",
      " 3   DBM_Request_Time         object \n",
      " 4   DBM_Creative_ID          float64\n",
      " 5   DBM_Language             object \n",
      " 6   DBM_Operating_System_ID  float64\n",
      " 7   DBM_Browser_Platform_ID  float64\n",
      " 8   DBM_Device_Type          float64\n",
      " 9   DBM_Mobile_Model_ID      object \n",
      " 10  domen                    object \n",
      "dtypes: float64(5), int64(1), object(5)\n",
      "memory usage: 839.0+ MB\n"
     ]
    }
   ],
   "source": [
    "X_train.info()"
   ]
  },
  {
   "cell_type": "markdown",
   "metadata": {},
   "source": [
    "## Пропущенные значения"
   ]
  },
  {
   "cell_type": "code",
   "execution_count": 19,
   "metadata": {},
   "outputs": [
    {
     "data": {
      "text/plain": [
       "ID                               0\n",
       "Country_Code                     0\n",
       "City_ID                    1188164\n",
       "DBM_Request_Time                 0\n",
       "DBM_Creative_ID                  0\n",
       "DBM_Language                     0\n",
       "DBM_Operating_System_ID          0\n",
       "DBM_Browser_Platform_ID          0\n",
       "DBM_Device_Type                  0\n",
       "DBM_Mobile_Model_ID              0\n",
       "domen                            0\n",
       "dtype: int64"
      ]
     },
     "execution_count": 19,
     "metadata": {},
     "output_type": "execute_result"
    }
   ],
   "source": [
    "X_train.isna().sum()"
   ]
  },
  {
   "cell_type": "markdown",
   "metadata": {},
   "source": [
    "## Дублирования"
   ]
  },
  {
   "cell_type": "code",
   "execution_count": 23,
   "metadata": {},
   "outputs": [
    {
     "data": {
      "text/plain": [
       "0"
      ]
     },
     "execution_count": 23,
     "metadata": {},
     "output_type": "execute_result"
    }
   ],
   "source": [
    "X_train.duplicated().sum()"
   ]
  },
  {
   "cell_type": "markdown",
   "metadata": {},
   "source": [
    "## Уникальные значения"
   ]
  },
  {
   "cell_type": "code",
   "execution_count": 21,
   "metadata": {},
   "outputs": [
    {
     "name": "stdout",
     "output_type": "stream",
     "text": [
      "column: ID\n",
      "nunique: 9997730\n",
      "-------------------- \n",
      "\n",
      "column: Country_Code\n",
      "nunique: 2\n"
     ]
    },
    {
     "data": {
      "text/plain": [
       "RU       9973956\n",
       "Other      23774\n",
       "Name: Country_Code, dtype: int64"
      ]
     },
     "metadata": {},
     "output_type": "display_data"
    },
    {
     "name": "stdout",
     "output_type": "stream",
     "text": [
      "-------------------- \n",
      "\n",
      "column: City_ID\n",
      "nunique: 994\n",
      "-------------------- \n",
      "\n",
      "column: DBM_Request_Time\n",
      "nunique: 1090005\n",
      "-------------------- \n",
      "\n",
      "column: DBM_Creative_ID\n",
      "nunique: 7\n"
     ]
    },
    {
     "data": {
      "text/plain": [
       "215162880.0    6284141\n",
       "210330400.0    2198877\n",
       "215163790.0    1165425\n",
       "215161760.0     205201\n",
       "215162380.0      66241\n",
       "215163700.0      41749\n",
       "215164000.0      36096\n",
       "Name: DBM_Creative_ID, dtype: int64"
      ]
     },
     "metadata": {},
     "output_type": "display_data"
    },
    {
     "name": "stdout",
     "output_type": "stream",
     "text": [
      "-------------------- \n",
      "\n",
      "column: DBM_Language\n",
      "nunique: 2\n"
     ]
    },
    {
     "data": {
      "text/plain": [
       "RU       9256017\n",
       "Other     741713\n",
       "Name: DBM_Language, dtype: int64"
      ]
     },
     "metadata": {},
     "output_type": "display_data"
    },
    {
     "name": "stdout",
     "output_type": "stream",
     "text": [
      "-------------------- \n",
      "\n",
      "column: DBM_Operating_System_ID\n",
      "nunique: 36\n"
     ]
    },
    {
     "data": {
      "text/plain": [
       "1205.0    3664921\n",
       "1181.0    3298617\n",
       "1175.0    1078236\n",
       "1173.0     694377\n",
       "1212.0     366856\n",
       "1215.0     186061\n",
       "1219.0     108873\n",
       "1144.0      81034\n",
       "1216.0      78768\n",
       "1170.0      51077\n",
       "1209.0      48973\n",
       "1211.0      43163\n",
       "1206.0      39964\n",
       "1171.0      38558\n",
       "1218.0      38480\n",
       "1213.0      34400\n",
       "1203.0      21429\n",
       "1210.0      20739\n",
       "1178.0      16532\n",
       "1201.0      15152\n",
       "1204.0      11623\n",
       "1177.0       9533\n",
       "1207.0       9368\n",
       "1214.0       8688\n",
       "1202.0       7028\n",
       "1180.0       6913\n",
       "1006.0       5031\n",
       "1169.0       3407\n",
       "1176.0       2941\n",
       "1012.0       2732\n",
       "1174.0       2298\n",
       "1168.0        854\n",
       "1167.0        328\n",
       "1165.0        316\n",
       "1162.0        241\n",
       "1163.0        219\n",
       "Name: DBM_Operating_System_ID, dtype: int64"
      ]
     },
     "metadata": {},
     "output_type": "display_data"
    },
    {
     "name": "stdout",
     "output_type": "stream",
     "text": [
      "-------------------- \n",
      "\n",
      "column: DBM_Browser_Platform_ID\n",
      "nunique: 5\n"
     ]
    },
    {
     "data": {
      "text/plain": [
       "3.0       8459393\n",
       "6.0        847534\n",
       "0.0        638763\n",
       "1038.0      39544\n",
       "1.0         12496\n",
       "Name: DBM_Browser_Platform_ID, dtype: int64"
      ]
     },
     "metadata": {},
     "output_type": "display_data"
    },
    {
     "name": "stdout",
     "output_type": "stream",
     "text": [
      "-------------------- \n",
      "\n",
      "column: DBM_Device_Type\n",
      "nunique: 2\n"
     ]
    },
    {
     "data": {
      "text/plain": [
       "2.0    9936671\n",
       "3.0      61059\n",
       "Name: DBM_Device_Type, dtype: int64"
      ]
     },
     "metadata": {},
     "output_type": "display_data"
    },
    {
     "name": "stdout",
     "output_type": "stream",
     "text": [
      "-------------------- \n",
      "\n",
      "column: DBM_Mobile_Model_ID\n",
      "nunique: 100\n",
      "-------------------- \n",
      "\n",
      "column: domen\n",
      "nunique: 100\n",
      "-------------------- \n",
      "\n"
     ]
    }
   ],
   "source": [
    "for col in X_train:\n",
    "    print(f'column: {col}')\n",
    "    \n",
    "    nunique = X_train[col].nunique()\n",
    "    print(f'nunique: {nunique}')\n",
    "    \n",
    "    if nunique < 50:\n",
    "        display(X_train[col].value_counts())\n",
    "    \n",
    "    print('-'*20, '\\n')"
   ]
  },
  {
   "cell_type": "markdown",
   "metadata": {},
   "source": [
    "## Баланс классов"
   ]
  },
  {
   "cell_type": "code",
   "execution_count": 17,
   "metadata": {},
   "outputs": [
    {
     "data": {
      "text/plain": [
       "0    9962580\n",
       "1      35150\n",
       "Name: TARGET, dtype: int64"
      ]
     },
     "execution_count": 17,
     "metadata": {},
     "output_type": "execute_result"
    }
   ],
   "source": [
    "y_train.TARGET.value_counts()"
   ]
  },
  {
   "cell_type": "code",
   "execution_count": 16,
   "metadata": {},
   "outputs": [
    {
     "data": {
      "text/plain": [
       "<AxesSubplot:xlabel='TARGET', ylabel='count'>"
      ]
     },
     "execution_count": 16,
     "metadata": {},
     "output_type": "execute_result"
    },
    {
     "data": {
      "image/png": "[encoded data removed]",
      "text/plain": [
       "<Figure size 432x288 with 1 Axes>"
      ]
     },
     "metadata": {
      "needs_background": "light"
     },
     "output_type": "display_data"
    }
   ],
   "source": [
    "sns.countplot(x=y_train.TARGET)"
   ]
  },
  {
   "cell_type": "markdown",
   "metadata": {},
   "source": [
    "## Распределение числовых признаков"
   ]
  },
  {
   "cell_type": "code",
   "execution_count": 30,
   "metadata": {},
   "outputs": [
    {
     "data": {
      "text/plain": [
       "(6,\n",
       " ['ID',\n",
       "  'City_ID',\n",
       "  'DBM_Creative_ID',\n",
       "  'DBM_Operating_System_ID',\n",
       "  'DBM_Browser_Platform_ID',\n",
       "  'DBM_Device_Type'])"
      ]
     },
     "execution_count": 30,
     "metadata": {},
     "output_type": "execute_result"
    }
   ],
   "source": [
    "num_cols = X_train.select_dtypes(include=np.number).columns.tolist()\n",
    "len_num_cols = len(num_cols)\n",
    "\n",
    "len_num_cols, num_cols"
   ]
  },
  {
   "cell_type": "code",
   "execution_count": null,
   "metadata": {},
   "outputs": [],
   "source": [
    "fig, axes = plt.subplots(1, len_num_cols, figsize=(10, 15))\n",
    "\n",
    "for index, col in enumerate(num_cols):\n",
    "    sns.histplot(data=X_train[col], kde=True, ax=axes[index])"
   ]
  },
  {
   "cell_type": "code",
   "execution_count": null,
   "metadata": {},
   "outputs": [],
   "source": []
  }
 ],
 "metadata": {
  "kernelspec": {
   "display_name": "Python 3",
   "language": "python",
   "name": "python3"
  },
  "language_info": {
   "codemirror_mode": {
    "name": "ipython",
    "version": 3
   },
   "file_extension": ".py",
   "mimetype": "text/x-python",
   "name": "python",
   "nbconvert_exporter": "python",
   "pygments_lexer": "ipython3",
   "version": "3.8.3"
  }
 },
 "nbformat": 4,
 "nbformat_minor": 4
}
