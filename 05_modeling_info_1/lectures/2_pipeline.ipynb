{
 "cells": [
  {
   "cell_type": "markdown",
   "metadata": {
    "jupyter": {
     "outputs_hidden": true
    }
   },
   "source": [
    "# Pipeline"
   ]
  },
  {
   "cell_type": "markdown",
   "metadata": {},
   "source": [
    "---\n",
    "\n",
    "**Источники:**\n",
    "\n",
    "[Always start with a stupid model, no exceptions.](https://blog.insightdatascience.com/always-start-with-a-stupid-model-no-exceptions-3a22314b9aaa)\n",
    "\n",
    "[]()\n",
    "\n",
    "[]()\n",
    "\n",
    "[]()\n",
    "\n",
    "[]()\n",
    "\n",
    "[]()\n",
    "\n",
    "[]()\n",
    "\n",
    "[]()\n",
    "\n",
    "[]()\n",
    "\n",
    "[]()\n",
    "\n",
    "[]()\n",
    "\n",
    "[]()\n",
    "\n",
    "---"
   ]
  },
  {
   "cell_type": "code",
   "execution_count": 1,
   "metadata": {
    "collapsed": false,
    "jupyter": {
     "outputs_hidden": false
    },
    "pycharm": {
     "name": "#%%\n"
    }
   },
   "outputs": [],
   "source": [
    "# ВНИМАНИЕ: необходимо удостовериться, что виртуальная среда выбрана правильно!\n",
    "\n",
    "# Для MacOS/Ubuntu\n",
    "# !which pip\n",
    "\n",
    "# Для Windows\n",
    "# !where pip"
   ]
  },
  {
   "cell_type": "code",
   "execution_count": 2,
   "metadata": {
    "collapsed": false,
    "jupyter": {
     "outputs_hidden": false
    },
    "pycharm": {
     "name": "#%%\n"
    }
   },
   "outputs": [],
   "source": [
    "# !conda install pandas matplotlib numpy seaborn scipy -y"
   ]
  },
  {
   "cell_type": "code",
   "execution_count": 3,
   "metadata": {
    "collapsed": false,
    "jupyter": {
     "outputs_hidden": false
    },
    "pycharm": {
     "name": "#%%\n"
    }
   },
   "outputs": [
    {
     "data": {
      "text/plain": [
       "'1.19.2'"
      ]
     },
     "execution_count": 3,
     "metadata": {},
     "output_type": "execute_result"
    }
   ],
   "source": [
    "import numpy as np\n",
    "\n",
    "np.__version__"
   ]
  },
  {
   "cell_type": "code",
   "execution_count": 4,
   "metadata": {
    "collapsed": false,
    "jupyter": {
     "outputs_hidden": false
    },
    "pycharm": {
     "name": "#%%\n"
    }
   },
   "outputs": [
    {
     "data": {
      "text/plain": [
       "'1.2.3'"
      ]
     },
     "execution_count": 4,
     "metadata": {},
     "output_type": "execute_result"
    }
   ],
   "source": [
    "import pandas as pd\n",
    "\n",
    "pd.__version__"
   ]
  },
  {
   "cell_type": "code",
   "execution_count": 5,
   "metadata": {
    "collapsed": false,
    "jupyter": {
     "outputs_hidden": false
    },
    "pycharm": {
     "name": "#%%\n"
    }
   },
   "outputs": [
    {
     "data": {
      "text/plain": [
       "'3.3.4'"
      ]
     },
     "execution_count": 5,
     "metadata": {},
     "output_type": "execute_result"
    }
   ],
   "source": [
    "import matplotlib\n",
    "import matplotlib.pyplot as plt\n",
    "\n",
    "matplotlib.__version__"
   ]
  },
  {
   "cell_type": "code",
   "execution_count": 6,
   "metadata": {
    "collapsed": false,
    "jupyter": {
     "outputs_hidden": false
    },
    "pycharm": {
     "name": "#%%\n"
    }
   },
   "outputs": [
    {
     "data": {
      "text/plain": [
       "'0.11.1'"
      ]
     },
     "execution_count": 6,
     "metadata": {},
     "output_type": "execute_result"
    }
   ],
   "source": [
    "import seaborn as sns\n",
    "\n",
    "sns.__version__"
   ]
  },
  {
   "cell_type": "code",
   "execution_count": 7,
   "metadata": {
    "collapsed": false,
    "jupyter": {
     "outputs_hidden": false
    },
    "pycharm": {
     "name": "#%%\n"
    }
   },
   "outputs": [
    {
     "data": {
      "text/plain": [
       "'0.24.1'"
      ]
     },
     "execution_count": 7,
     "metadata": {},
     "output_type": "execute_result"
    }
   ],
   "source": [
    "import sklearn\n",
    "\n",
    "sklearn.__version__"
   ]
  },
  {
   "cell_type": "code",
   "execution_count": 8,
   "metadata": {
    "collapsed": false,
    "jupyter": {
     "outputs_hidden": false
    },
    "pycharm": {
     "name": "#%%\n"
    }
   },
   "outputs": [
    {
     "data": {
      "text/plain": [
       "'1.6.2'"
      ]
     },
     "execution_count": 8,
     "metadata": {},
     "output_type": "execute_result"
    }
   ],
   "source": [
    "import scipy\n",
    "from scipy.stats import normaltest\n",
    "from scipy import stats\n",
    "\n",
    "scipy.__version__"
   ]
  },
  {
   "cell_type": "markdown",
   "metadata": {},
   "source": [
    "## Pipeline для ML"
   ]
  },
  {
   "cell_type": "markdown",
   "metadata": {},
   "source": [
    "### Базовая модель (Baseline Model)\n",
    "\n",
    "<blockquote>\n",
    "Все должно быть сделано настолько просто, насколько вообще возможно, но не проще.\n",
    "    \n",
    "    Альберт Эйнштейн.\n",
    "</blockquote>\n",
    "\n",
    "**Всегда начинайте с глупых модели, без исключений.**\n",
    "\n",
    "При решении сложных проблем простые решения имеют множество недостатков:\n",
    "- Иногда игнорируют важные аспекты ввода. Например, простые модели часто игнорируют порядок слов в предложении или корреляции между переменными.\n",
    "- Большинство простых моделей, возможно, потребуется связать с эвристикой или созданными вручную правилами, прежде чем они будут представлены покупателю.\n",
    "- С ними не так весело работать, и они могут не дать вам передового исследовательского опыта, который хочется развивать.\n",
    "\n",
    "\n",
    "Ошибочный вывод, часто производимый этими решениями, может показаться нам очень глупым, отсюда и название \"глупые (stupid) модели\". \n",
    "\n",
    "Однако, **\"глупые (stupid) модели\" предоставляют невероятно полезный первый шаг и позволяют лучше понять проблему, чтобы проинформировать о наилучшем способе ее решения**.\n",
    "\n",
    "**Другими словами: если вы хотите поиграть в забавные игрушки, начните со сложной модели. Если вы хотите решать проблемы и создавать продукты, начните с глупого.**\n",
    "\n",
    "\n",
    "По сути, базовая модель (или просто **baseline**) - это **модель, которая проста в настройке и имеет разумные шансы на получение достойных результатов.** \n",
    "\n",
    "**Экспериментировать с baseline моделями обычно быстро и недорого (время/деньги/железо/..), поскольку реализации широко доступны в популярных пакетах.**\n",
    "\n",
    "Несколько базовых моделей, которые может быть полезно помнить:\n",
    "- **Линейная регрессия (Linear Regression)**. Надежный первый подход к прогнозированию непрерывных значений (цены, возраст и т.д.) на основе набора признаков.\n",
    "- **Логистическая регрессия (Logistic Regression)**. При попытке классифицировать структурированные данные или естественный язык логистическая регрессия обычно дает быстрые и надежные результаты.\n",
    "- **Деревья с градиентным бустингом (XGBoost)**. Классика Kaggle! Для прогнозов временных рядов и общих структурированных данных трудно превзойти деревья с градиентным усилением. Хотя интерпретировать их немного сложнее, чем другие базовые модели, они обычно работают очень хорошо.\n",
    "- **Простая сверточная архитектура (Simple Convolutional Architecture)** - NNs. Тонкая настройка VGG или повторное обучение некоторого варианта U-сети обычно является отличным началом для большинства проблем классификации, обнаружения или сегментации изображений.\n",
    "- и множество других!\n",
    "\n",
    "Выбор простой базовой модели **зависит от типа данных и задачи**\n",
    "\n",
    "Линейная регрессия имеет смысл, если нужно спрогнозировать цены на жилье по различным характеристикам (предсказывая значение из набора функций), но не в том случае, если нужно построить алгоритм преобразования речи в текст. Чтобы выбрать лучшую базовую модель, полезно подумать о том, чего надеетесь получить, используя ее.\n",
    "\n",
    "Начиная работу над проектом, **первоочередной задачей является изучение того, какие потенциально непредвиденные проблемы будут стоять на пути**. Даже если они не будут окончательной версией вашей модели, базовые модели позволяют выполнять итерацию очень быстро, с минимальными затратами времени. Вот несколько причин, почему:\n",
    "- Базовая модель займет у менее 1/10 времени и может обеспечить до 90% результатов.\n",
    "-"
   ]
  },
  {
   "cell_type": "code",
   "execution_count": null,
   "metadata": {},
   "outputs": [],
   "source": []
  },
  {
   "cell_type": "markdown",
   "metadata": {},
   "source": [
    "### Training/Test Set"
   ]
  },
  {
   "cell_type": "code",
   "execution_count": null,
   "metadata": {},
   "outputs": [],
   "source": []
  },
  {
   "cell_type": "markdown",
   "metadata": {},
   "source": [
    "### Cross-validation"
   ]
  },
  {
   "cell_type": "code",
   "execution_count": null,
   "metadata": {},
   "outputs": [],
   "source": []
  },
  {
   "cell_type": "markdown",
   "metadata": {},
   "source": [
    "### Sklearn Pipeline"
   ]
  },
  {
   "cell_type": "code",
   "execution_count": null,
   "metadata": {},
   "outputs": [],
   "source": []
  },
  {
   "cell_type": "markdown",
   "metadata": {},
   "source": [
    "<center><img src=\"images/train_test_dev_eval.png\" alt=\"train_test_dev_eval\"/></center>\n"
   ]
  },
  {
   "cell_type": "markdown",
   "metadata": {},
   "source": [
    "<img src=\"images/pipeline.png\"/>"
   ]
  },
  {
   "cell_type": "code",
   "execution_count": null,
   "metadata": {},
   "outputs": [],
   "source": []
  }
 ],
 "metadata": {
  "kernelspec": {
   "display_name": "Python 3",
   "language": "python",
   "name": "python3"
  },
  "language_info": {
   "codemirror_mode": {
    "name": "ipython",
    "version": 3
   },
   "file_extension": ".py",
   "mimetype": "text/x-python",
   "name": "python",
   "nbconvert_exporter": "python",
   "pygments_lexer": "ipython3",
   "version": "3.8.5"
  }
 },
 "nbformat": 4,
 "nbformat_minor": 4
}
