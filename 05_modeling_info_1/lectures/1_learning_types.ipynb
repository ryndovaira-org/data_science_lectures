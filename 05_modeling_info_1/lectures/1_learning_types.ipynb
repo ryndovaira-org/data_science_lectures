{
 "cells": [
  {
   "cell_type": "markdown",
   "metadata": {
    "pycharm": {
     "name": "#%% md\n"
    }
   },
   "source": [
    "# Типы машинного обучения (Machine learning types)\n",
    "\n",
    "\n",
    "---\n",
    "\n",
    "Источники:\n",
    "    \n",
    "[Обучение с учителем, без учителя, с подкреплением — в чем отличие? Какой алгоритм лучше?](https://neurohive.io/ru/osnovy-data-science/obuchenie-s-uchitelem-bez-uchitelja-s-podkrepleniem/)\n",
    "\n",
    "[SuperVize Me: What’s the Difference Between Supervised, Unsupervised, Semi-Supervised and Reinforcement Learning?](https://blogs.nvidia.com/blog/2018/08/02/supervised-unsupervised-learning/)\n",
    "\n",
    "[Supervised vs Unsupervised vs Reinforcement](https://www.aitude.com/supervised-vs-unsupervised-vs-reinforcement/)\n",
    "\n",
    "[Anaconda Open Source](https://www.anaconda.com/open-source)\n",
    "\n",
    "[Обучение с учителем](https://ru.wikipedia.org/w/index.php?title=%D0%9E%D0%B1%D1%83%D1%87%D0%B5%D0%BD%D0%B8%D0%B5_%D1%81_%D1%83%D1%87%D0%B8%D1%82%D0%B5%D0%BB%D0%B5%D0%BC&stable=0&redirect=no)\n",
    "\n",
    "[]()\n",
    "\n",
    "[]()\n",
    "\n",
    "[]()\n",
    "\n",
    "[]()\n",
    "\n",
    "[]()\n",
    "\n",
    "[]()\n",
    "\n",
    "\n",
    "---"
   ]
  },
  {
   "cell_type": "markdown",
   "metadata": {},
   "source": [
    "<center><img src=\"images/learning_types.png\" alt=\"Lerning types\" width=\"900\" height=\"600\"/></center>"
   ]
  },
  {
   "cell_type": "markdown",
   "metadata": {},
   "source": [
    "## С учителем (Supervised learning)\n",
    "\n",
    "Между входами (input) и эталонными выходами (output) может существовать некоторая зависимость, но она неизвестна.\n",
    "\n",
    "Известны только совокупность пар входные данные - прававильные выходные данные, называемая **размеченной обучающей выборкой (labeled training data)**.\n",
    "\n",
    "На основе этих данных требуется восстановить зависимость (построить модель отношений, пригодных для прогнозирования), то есть построить алгоритм, способный для любого объекта выдать достаточно точный ответ (inference). \n",
    "\n",
    "- Размеченный датасет (labeled dataset)\n",
    "\n",
    "- Типичные задачи:\n",
    "    - Регрессии (Regression problems)\n",
    "        - Популярные модели:\n",
    "            - \n",
    "    - Классификации (Classification problems)\n",
    "\n",
    "- Популярные модели:\n",
    "    - \n",
    "\n",
    "<img src=\"images/regression_vs_classification.png\"/>\n",
    "\n",
    "<img src=\"images/supervised_learning.jpeg\"/>"
   ]
  },
  {
   "cell_type": "code",
   "execution_count": null,
   "metadata": {},
   "outputs": [],
   "source": []
  },
  {
   "cell_type": "markdown",
   "metadata": {},
   "source": [
    "## Без учителя (Unsupervised) \n",
    "\n",
    "- **no complete and clean labelled dataset in unsupervised learning**\n",
    "    * Clustering: Without being an expert ornithologist, it’s possible to look at a collection of bird photos and separate them roughly by species, relying on cues like feather color, size or beak shape. That’s how the most common application for unsupervised learning, clustering, works: the deep learning model looks for training data that are similar to each other and groups them together.\n",
    "    * Anomaly detection: Banks detect fraudulent transactions by looking for unusual patterns in customer’s purchasing behavior. For instance, if the same credit card is used in California and Denmark within the same day, that’s cause for suspicion. Similarly, unsupervised learning can be used to flag outliers in a dataset.\n",
    "    * Association: Fill an online shopping cart with diapers, applesauce and sippy cups and the site just may recommend that you add a bib and a baby monitor to your order. This is an example of association, where certain features of a data sample correlate with other features. By looking at a couple key attributes of a data point, an unsupervised learning model can predict the other attributes with which they’re commonly associated.\n",
    "    * Autoencoders: Autoencoders take input data, compress it into a code, then try to recreate the input data from that summarized code. It’s like starting with Moby Dick, creating a SparkNotes version and then trying to rewrite the original story using only SparkNotes for reference. While a neat deep learning trick, there are fewer real-world cases where a simple autocoder is useful. But add a layer of complexity and the possibilities multiply: by using both noisy and clean versions of an image during training, autoencoders can remove noise from visual data like images, video or medical scans to improve picture quality.\n",
    "    \n",
    "<img src=\"images/unsupervised-learning.png\"/>"
   ]
  },
  {
   "cell_type": "code",
   "execution_count": null,
   "metadata": {},
   "outputs": [],
   "source": []
  },
  {
   "cell_type": "markdown",
   "metadata": {},
   "source": [
    "## Обучение с частичным привлечением учителя (Semi-Supervised)\n",
    "\n",
    "- GANs"
   ]
  },
  {
   "cell_type": "code",
   "execution_count": null,
   "metadata": {},
   "outputs": [],
   "source": []
  },
  {
   "cell_type": "markdown",
   "metadata": {},
   "source": [
    "## С подкреплением (Reinforcement)"
   ]
  },
  {
   "cell_type": "code",
   "execution_count": null,
   "metadata": {},
   "outputs": [],
   "source": []
  },
  {
   "cell_type": "markdown",
   "metadata": {},
   "source": [
    "## Активное (Active)"
   ]
  },
  {
   "cell_type": "code",
   "execution_count": null,
   "metadata": {},
   "outputs": [],
   "source": []
  },
  {
   "cell_type": "markdown",
   "metadata": {},
   "source": [
    "<img src=\"images/ml_domains.png\"/>"
   ]
  },
  {
   "cell_type": "markdown",
   "metadata": {},
   "source": [
    "<img src=\"images/ml_types.png\"/>"
   ]
  },
  {
   "cell_type": "code",
   "execution_count": null,
   "metadata": {},
   "outputs": [],
   "source": []
  }
 ],
 "metadata": {
  "kernelspec": {
   "display_name": "Python 3",
   "language": "python",
   "name": "python3"
  },
  "language_info": {
   "codemirror_mode": {
    "name": "ipython",
    "version": 3
   },
   "file_extension": ".py",
   "mimetype": "text/x-python",
   "name": "python",
   "nbconvert_exporter": "python",
   "pygments_lexer": "ipython3",
   "version": "3.8.5"
  }
 },
 "nbformat": 4,
 "nbformat_minor": 4
}
