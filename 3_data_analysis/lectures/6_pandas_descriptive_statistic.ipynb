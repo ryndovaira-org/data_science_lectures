{
 "cells": [
  {
   "cell_type": "markdown",
   "metadata": {},
   "source": [
    "# Пакет `pandas`: Описательная статистика"
   ]
  },
  {
   "cell_type": "markdown",
   "metadata": {},
   "source": [
    "---\n",
    "\n",
    "**Источники:**\n",
    "\n",
    "[Описательная статистика](https://ru.wikipedia.org/wiki/%D0%9E%D0%BF%D0%B8%D1%81%D0%B0%D1%82%D0%B5%D0%BB%D1%8C%D0%BD%D0%B0%D1%8F_%D1%81%D1%82%D0%B0%D1%82%D0%B8%D1%81%D1%82%D0%B8%D0%BA%D0%B0)\n",
    "\n",
    "[Генеральная совокупность](https://ru.wikipedia.org/wiki/%D0%93%D0%B5%D0%BD%D0%B5%D1%80%D0%B0%D0%BB%D1%8C%D0%BD%D0%B0%D1%8F_%D1%81%D0%BE%D0%B2%D0%BE%D0%BA%D1%83%D0%BF%D0%BD%D0%BE%D1%81%D1%82%D1%8C)\n",
    "\n",
    "[Описательная статистика на Python (часть 1)](http://chel-center.ru/python-yfc/2020/02/11/opisatelnaya-statistika-na-python-chast-1/)\n",
    "\n",
    "[Основы статистики с Python: описательная статистика](https://tproger.ru/translations/basic-statistics-in-python-descriptive-statistics/)\n",
    "\n",
    "[Описательная статистика с использованием Pandas](https://ichi.pro/ru/opisatel-naa-statistika-s-ispol-zovaniem-pandas-201093265076673)\n",
    "\n",
    "[Часть 3 математическая статистика лекция 2 статистическое оценивание параметров распределения](https://textarchive.ru/c-2207519.html)\n",
    "\n",
    "[Шпаргалка по pandas](https://habr.com/ru/company/ruvds/blog/494720/)\n",
    "\n",
    "[Статистика](https://100urokov.ru/predmety/urok-2-statistika)\n",
    "\n",
    "[Робастность](https://ru.wikipedia.org/wiki/%D0%A0%D0%BE%D0%B1%D0%B0%D1%81%D1%82%D0%BD%D0%BE%D1%81%D1%82%D1%8C#:~:text=%D0%A0%D0%BE%D0%B1%D0%B0%CC%81%D1%81%D1%82%D0%BD%D0%BE%D1%81%D1%82%D1%8C%20(%D0%B0%D0%BD%D0%B3%D0%BB.,%D1%80%D0%BE%D0%B4%D0%B0%20%D0%B2%D1%8B%D0%B1%D1%80%D0%BE%D1%81%D0%BE%D0%B2%2C%20%D1%83%D1%81%D1%82%D0%BE%D0%B9%D1%87%D0%B8%D0%B2%D0%BE%D1%81%D1%82%D1%8C%20%D0%BA%20%D0%BF%D0%BE%D0%BC%D0%B5%D1%85%D0%B0%D0%BC.)\n",
    "\n",
    "[Выброс (статистика)](https://ru.wikipedia.org/wiki/%D0%92%D1%8B%D0%B1%D1%80%D0%BE%D1%81_(%D1%81%D1%82%D0%B0%D1%82%D0%B8%D1%81%D1%82%D0%B8%D0%BA%D0%B0))\n",
    "\n",
    "[Размах (статистика)](https://ru.wikipedia.org/wiki/%D0%A0%D0%B0%D0%B7%D0%BC%D0%B0%D1%85_(%D1%81%D1%82%D0%B0%D1%82%D0%B8%D1%81%D1%82%D0%B8%D0%BA%D0%B0))\n",
    "\n",
    "[Вариация (статистика)](https://ru.wikipedia.org/wiki/%D0%92%D0%B0%D1%80%D0%B8%D0%B0%D1%86%D0%B8%D1%8F_(%D1%81%D1%82%D0%B0%D1%82%D0%B8%D1%81%D1%82%D0%B8%D0%BA%D0%B0))\n",
    "\n",
    "[Абсолютное отклонение](https://ru.wikipedia.org/wiki/%D0%90%D0%B1%D1%81%D0%BE%D0%BB%D1%8E%D1%82%D0%BD%D0%BE%D0%B5_%D0%BE%D1%82%D0%BA%D0%BB%D0%BE%D0%BD%D0%B5%D0%BD%D0%B8%D0%B5)\n",
    "\n",
    "[Квантиль](https://ru.wikipedia.org/wiki/%D0%9A%D0%B2%D0%B0%D0%BD%D1%82%D0%B8%D0%BB%D1%8C)\n",
    "\n",
    "[statistics — Mathematical statistics functions](https://docs.python.org/3/library/statistics.html)\n",
    "\n",
    "[Statistical Distributions](https://www.indiumsoftware.com/blog/statistical-distributions/)\n",
    "\n",
    "[pandas.DataFrame.describe](https://pandas.pydata.org/pandas-docs/stable/reference/api/pandas.DataFrame.describe.html)\n",
    "\n",
    "---"
   ]
  },
  {
   "cell_type": "code",
   "execution_count": 1,
   "metadata": {
    "collapsed": false,
    "jupyter": {
     "outputs_hidden": false
    },
    "pycharm": {
     "name": "#%%\n"
    }
   },
   "outputs": [
    {
     "name": "stdout",
     "output_type": "stream",
     "text": [
      "pip 20.3 from /home/ira/anaconda3/envs/LevelUp_DataScience/lib/python3.8/site-packages/pip (python 3.8)\n"
     ]
    }
   ],
   "source": [
    "# ВНИМАНИЕ: необходимо удостовериться, что виртуальная среда выбрана правильно!\n",
    "\n",
    "!pip -V"
   ]
  },
  {
   "cell_type": "code",
   "execution_count": 2,
   "metadata": {
    "collapsed": false,
    "jupyter": {
     "outputs_hidden": false
    },
    "pycharm": {
     "name": "#%%\n"
    }
   },
   "outputs": [
    {
     "name": "stdout",
     "output_type": "stream",
     "text": [
      "Collecting package metadata (current_repodata.json): done\n",
      "Solving environment: done\n",
      "\n",
      "# All requested packages already installed.\n",
      "\n"
     ]
    }
   ],
   "source": [
    "!conda install pandas numpy -y"
   ]
  },
  {
   "cell_type": "code",
   "execution_count": 3,
   "metadata": {},
   "outputs": [
    {
     "data": {
      "text/plain": [
       "'1.19.2'"
      ]
     },
     "execution_count": 3,
     "metadata": {},
     "output_type": "execute_result"
    }
   ],
   "source": [
    "import numpy as np\n",
    "\n",
    "np.__version__"
   ]
  },
  {
   "cell_type": "code",
   "execution_count": 4,
   "metadata": {
    "collapsed": false,
    "jupyter": {
     "outputs_hidden": false
    },
    "pycharm": {
     "name": "#%%\n"
    }
   },
   "outputs": [
    {
     "data": {
      "text/plain": [
       "'1.2.1'"
      ]
     },
     "execution_count": 4,
     "metadata": {},
     "output_type": "execute_result"
    }
   ],
   "source": [
    "\n",
    "import pandas as pd\n",
    "\n",
    "pd.__version__"
   ]
  },
  {
   "cell_type": "markdown",
   "metadata": {},
   "source": [
    "## Загрузка данных [Wine Reviews](https://www.kaggle.com/zynicide/wine-reviews/data)"
   ]
  },
  {
   "cell_type": "code",
   "execution_count": 5,
   "metadata": {},
   "outputs": [
    {
     "data": {
      "text/html": [
       "<div>\n",
       "<style scoped>\n",
       "    .dataframe tbody tr th:only-of-type {\n",
       "        vertical-align: middle;\n",
       "    }\n",
       "\n",
       "    .dataframe tbody tr th {\n",
       "        vertical-align: top;\n",
       "    }\n",
       "\n",
       "    .dataframe thead th {\n",
       "        text-align: right;\n",
       "    }\n",
       "</style>\n",
       "<table border=\"1\" class=\"dataframe\">\n",
       "  <thead>\n",
       "    <tr style=\"text-align: right;\">\n",
       "      <th></th>\n",
       "      <th>country</th>\n",
       "      <th>description</th>\n",
       "      <th>designation</th>\n",
       "      <th>points</th>\n",
       "      <th>price</th>\n",
       "      <th>province</th>\n",
       "      <th>region_1</th>\n",
       "      <th>region_2</th>\n",
       "      <th>taster_name</th>\n",
       "      <th>taster_twitter_handle</th>\n",
       "      <th>title</th>\n",
       "      <th>variety</th>\n",
       "      <th>winery</th>\n",
       "    </tr>\n",
       "  </thead>\n",
       "  <tbody>\n",
       "    <tr>\n",
       "      <th>0</th>\n",
       "      <td>Italy</td>\n",
       "      <td>Aromas include tropical fruit, broom, brimston...</td>\n",
       "      <td>Vulkà Bianco</td>\n",
       "      <td>87</td>\n",
       "      <td>NaN</td>\n",
       "      <td>Sicily &amp; Sardinia</td>\n",
       "      <td>Etna</td>\n",
       "      <td>NaN</td>\n",
       "      <td>Kerin O’Keefe</td>\n",
       "      <td>@kerinokeefe</td>\n",
       "      <td>Nicosia 2013 Vulkà Bianco  (Etna)</td>\n",
       "      <td>White Blend</td>\n",
       "      <td>Nicosia</td>\n",
       "    </tr>\n",
       "    <tr>\n",
       "      <th>1</th>\n",
       "      <td>Portugal</td>\n",
       "      <td>This is ripe and fruity, a wine that is smooth...</td>\n",
       "      <td>Avidagos</td>\n",
       "      <td>87</td>\n",
       "      <td>15.0</td>\n",
       "      <td>Douro</td>\n",
       "      <td>NaN</td>\n",
       "      <td>NaN</td>\n",
       "      <td>Roger Voss</td>\n",
       "      <td>@vossroger</td>\n",
       "      <td>Quinta dos Avidagos 2011 Avidagos Red (Douro)</td>\n",
       "      <td>Portuguese Red</td>\n",
       "      <td>Quinta dos Avidagos</td>\n",
       "    </tr>\n",
       "    <tr>\n",
       "      <th>2</th>\n",
       "      <td>US</td>\n",
       "      <td>Tart and snappy, the flavors of lime flesh and...</td>\n",
       "      <td>NaN</td>\n",
       "      <td>87</td>\n",
       "      <td>14.0</td>\n",
       "      <td>Oregon</td>\n",
       "      <td>Willamette Valley</td>\n",
       "      <td>Willamette Valley</td>\n",
       "      <td>Paul Gregutt</td>\n",
       "      <td>@paulgwine</td>\n",
       "      <td>Rainstorm 2013 Pinot Gris (Willamette Valley)</td>\n",
       "      <td>Pinot Gris</td>\n",
       "      <td>Rainstorm</td>\n",
       "    </tr>\n",
       "    <tr>\n",
       "      <th>3</th>\n",
       "      <td>US</td>\n",
       "      <td>Pineapple rind, lemon pith and orange blossom ...</td>\n",
       "      <td>Reserve Late Harvest</td>\n",
       "      <td>87</td>\n",
       "      <td>13.0</td>\n",
       "      <td>Michigan</td>\n",
       "      <td>Lake Michigan Shore</td>\n",
       "      <td>NaN</td>\n",
       "      <td>Alexander Peartree</td>\n",
       "      <td>NaN</td>\n",
       "      <td>St. Julian 2013 Reserve Late Harvest Riesling ...</td>\n",
       "      <td>Riesling</td>\n",
       "      <td>St. Julian</td>\n",
       "    </tr>\n",
       "    <tr>\n",
       "      <th>4</th>\n",
       "      <td>US</td>\n",
       "      <td>Much like the regular bottling from 2012, this...</td>\n",
       "      <td>Vintner's Reserve Wild Child Block</td>\n",
       "      <td>87</td>\n",
       "      <td>65.0</td>\n",
       "      <td>Oregon</td>\n",
       "      <td>Willamette Valley</td>\n",
       "      <td>Willamette Valley</td>\n",
       "      <td>Paul Gregutt</td>\n",
       "      <td>@paulgwine</td>\n",
       "      <td>Sweet Cheeks 2012 Vintner's Reserve Wild Child...</td>\n",
       "      <td>Pinot Noir</td>\n",
       "      <td>Sweet Cheeks</td>\n",
       "    </tr>\n",
       "    <tr>\n",
       "      <th>...</th>\n",
       "      <td>...</td>\n",
       "      <td>...</td>\n",
       "      <td>...</td>\n",
       "      <td>...</td>\n",
       "      <td>...</td>\n",
       "      <td>...</td>\n",
       "      <td>...</td>\n",
       "      <td>...</td>\n",
       "      <td>...</td>\n",
       "      <td>...</td>\n",
       "      <td>...</td>\n",
       "      <td>...</td>\n",
       "      <td>...</td>\n",
       "    </tr>\n",
       "    <tr>\n",
       "      <th>129966</th>\n",
       "      <td>Germany</td>\n",
       "      <td>Notes of honeysuckle and cantaloupe sweeten th...</td>\n",
       "      <td>Brauneberger Juffer-Sonnenuhr Spätlese</td>\n",
       "      <td>90</td>\n",
       "      <td>28.0</td>\n",
       "      <td>Mosel</td>\n",
       "      <td>NaN</td>\n",
       "      <td>NaN</td>\n",
       "      <td>Anna Lee C. Iijima</td>\n",
       "      <td>NaN</td>\n",
       "      <td>Dr. H. Thanisch (Erben Müller-Burggraef) 2013 ...</td>\n",
       "      <td>Riesling</td>\n",
       "      <td>Dr. H. Thanisch (Erben Müller-Burggraef)</td>\n",
       "    </tr>\n",
       "    <tr>\n",
       "      <th>129967</th>\n",
       "      <td>US</td>\n",
       "      <td>Citation is given as much as a decade of bottl...</td>\n",
       "      <td>NaN</td>\n",
       "      <td>90</td>\n",
       "      <td>75.0</td>\n",
       "      <td>Oregon</td>\n",
       "      <td>Oregon</td>\n",
       "      <td>Oregon Other</td>\n",
       "      <td>Paul Gregutt</td>\n",
       "      <td>@paulgwine</td>\n",
       "      <td>Citation 2004 Pinot Noir (Oregon)</td>\n",
       "      <td>Pinot Noir</td>\n",
       "      <td>Citation</td>\n",
       "    </tr>\n",
       "    <tr>\n",
       "      <th>129968</th>\n",
       "      <td>France</td>\n",
       "      <td>Well-drained gravel soil gives this wine its c...</td>\n",
       "      <td>Kritt</td>\n",
       "      <td>90</td>\n",
       "      <td>30.0</td>\n",
       "      <td>Alsace</td>\n",
       "      <td>Alsace</td>\n",
       "      <td>NaN</td>\n",
       "      <td>Roger Voss</td>\n",
       "      <td>@vossroger</td>\n",
       "      <td>Domaine Gresser 2013 Kritt Gewurztraminer (Als...</td>\n",
       "      <td>Gewürztraminer</td>\n",
       "      <td>Domaine Gresser</td>\n",
       "    </tr>\n",
       "    <tr>\n",
       "      <th>129969</th>\n",
       "      <td>France</td>\n",
       "      <td>A dry style of Pinot Gris, this is crisp with ...</td>\n",
       "      <td>NaN</td>\n",
       "      <td>90</td>\n",
       "      <td>32.0</td>\n",
       "      <td>Alsace</td>\n",
       "      <td>Alsace</td>\n",
       "      <td>NaN</td>\n",
       "      <td>Roger Voss</td>\n",
       "      <td>@vossroger</td>\n",
       "      <td>Domaine Marcel Deiss 2012 Pinot Gris (Alsace)</td>\n",
       "      <td>Pinot Gris</td>\n",
       "      <td>Domaine Marcel Deiss</td>\n",
       "    </tr>\n",
       "    <tr>\n",
       "      <th>129970</th>\n",
       "      <td>France</td>\n",
       "      <td>Big, rich and off-dry, this is powered by inte...</td>\n",
       "      <td>Lieu-dit Harth Cuvée Caroline</td>\n",
       "      <td>90</td>\n",
       "      <td>21.0</td>\n",
       "      <td>Alsace</td>\n",
       "      <td>Alsace</td>\n",
       "      <td>NaN</td>\n",
       "      <td>Roger Voss</td>\n",
       "      <td>@vossroger</td>\n",
       "      <td>Domaine Schoffit 2012 Lieu-dit Harth Cuvée Car...</td>\n",
       "      <td>Gewürztraminer</td>\n",
       "      <td>Domaine Schoffit</td>\n",
       "    </tr>\n",
       "  </tbody>\n",
       "</table>\n",
       "<p>129971 rows × 13 columns</p>\n",
       "</div>"
      ],
      "text/plain": [
       "         country                                        description  \\\n",
       "0          Italy  Aromas include tropical fruit, broom, brimston...   \n",
       "1       Portugal  This is ripe and fruity, a wine that is smooth...   \n",
       "2             US  Tart and snappy, the flavors of lime flesh and...   \n",
       "3             US  Pineapple rind, lemon pith and orange blossom ...   \n",
       "4             US  Much like the regular bottling from 2012, this...   \n",
       "...          ...                                                ...   \n",
       "129966   Germany  Notes of honeysuckle and cantaloupe sweeten th...   \n",
       "129967        US  Citation is given as much as a decade of bottl...   \n",
       "129968    France  Well-drained gravel soil gives this wine its c...   \n",
       "129969    France  A dry style of Pinot Gris, this is crisp with ...   \n",
       "129970    France  Big, rich and off-dry, this is powered by inte...   \n",
       "\n",
       "                                   designation  points  price  \\\n",
       "0                                 Vulkà Bianco      87    NaN   \n",
       "1                                     Avidagos      87   15.0   \n",
       "2                                          NaN      87   14.0   \n",
       "3                         Reserve Late Harvest      87   13.0   \n",
       "4           Vintner's Reserve Wild Child Block      87   65.0   \n",
       "...                                        ...     ...    ...   \n",
       "129966  Brauneberger Juffer-Sonnenuhr Spätlese      90   28.0   \n",
       "129967                                     NaN      90   75.0   \n",
       "129968                                   Kritt      90   30.0   \n",
       "129969                                     NaN      90   32.0   \n",
       "129970           Lieu-dit Harth Cuvée Caroline      90   21.0   \n",
       "\n",
       "                 province             region_1           region_2  \\\n",
       "0       Sicily & Sardinia                 Etna                NaN   \n",
       "1                   Douro                  NaN                NaN   \n",
       "2                  Oregon    Willamette Valley  Willamette Valley   \n",
       "3                Michigan  Lake Michigan Shore                NaN   \n",
       "4                  Oregon    Willamette Valley  Willamette Valley   \n",
       "...                   ...                  ...                ...   \n",
       "129966              Mosel                  NaN                NaN   \n",
       "129967             Oregon               Oregon       Oregon Other   \n",
       "129968             Alsace               Alsace                NaN   \n",
       "129969             Alsace               Alsace                NaN   \n",
       "129970             Alsace               Alsace                NaN   \n",
       "\n",
       "               taster_name taster_twitter_handle  \\\n",
       "0            Kerin O’Keefe          @kerinokeefe   \n",
       "1               Roger Voss            @vossroger   \n",
       "2             Paul Gregutt           @paulgwine    \n",
       "3       Alexander Peartree                   NaN   \n",
       "4             Paul Gregutt           @paulgwine    \n",
       "...                    ...                   ...   \n",
       "129966  Anna Lee C. Iijima                   NaN   \n",
       "129967        Paul Gregutt           @paulgwine    \n",
       "129968          Roger Voss            @vossroger   \n",
       "129969          Roger Voss            @vossroger   \n",
       "129970          Roger Voss            @vossroger   \n",
       "\n",
       "                                                    title         variety  \\\n",
       "0                       Nicosia 2013 Vulkà Bianco  (Etna)     White Blend   \n",
       "1           Quinta dos Avidagos 2011 Avidagos Red (Douro)  Portuguese Red   \n",
       "2           Rainstorm 2013 Pinot Gris (Willamette Valley)      Pinot Gris   \n",
       "3       St. Julian 2013 Reserve Late Harvest Riesling ...        Riesling   \n",
       "4       Sweet Cheeks 2012 Vintner's Reserve Wild Child...      Pinot Noir   \n",
       "...                                                   ...             ...   \n",
       "129966  Dr. H. Thanisch (Erben Müller-Burggraef) 2013 ...        Riesling   \n",
       "129967                  Citation 2004 Pinot Noir (Oregon)      Pinot Noir   \n",
       "129968  Domaine Gresser 2013 Kritt Gewurztraminer (Als...  Gewürztraminer   \n",
       "129969      Domaine Marcel Deiss 2012 Pinot Gris (Alsace)      Pinot Gris   \n",
       "129970  Domaine Schoffit 2012 Lieu-dit Harth Cuvée Car...  Gewürztraminer   \n",
       "\n",
       "                                          winery  \n",
       "0                                        Nicosia  \n",
       "1                            Quinta dos Avidagos  \n",
       "2                                      Rainstorm  \n",
       "3                                     St. Julian  \n",
       "4                                   Sweet Cheeks  \n",
       "...                                          ...  \n",
       "129966  Dr. H. Thanisch (Erben Müller-Burggraef)  \n",
       "129967                                  Citation  \n",
       "129968                           Domaine Gresser  \n",
       "129969                      Domaine Marcel Deiss  \n",
       "129970                          Domaine Schoffit  \n",
       "\n",
       "[129971 rows x 13 columns]"
      ]
     },
     "execution_count": 5,
     "metadata": {},
     "output_type": "execute_result"
    }
   ],
   "source": [
    "wines = pd.read_csv('../../data/winemag-data-130k-v2.csv', index_col=0)\n",
    "\n",
    "wines"
   ]
  },
  {
   "cell_type": "code",
   "execution_count": 6,
   "metadata": {},
   "outputs": [
    {
     "name": "stdout",
     "output_type": "stream",
     "text": [
      "<class 'pandas.core.frame.DataFrame'>\n",
      "Int64Index: 129971 entries, 0 to 129970\n",
      "Data columns (total 13 columns):\n",
      " #   Column                 Non-Null Count   Dtype  \n",
      "---  ------                 --------------   -----  \n",
      " 0   country                129908 non-null  object \n",
      " 1   description            129971 non-null  object \n",
      " 2   designation            92506 non-null   object \n",
      " 3   points                 129971 non-null  int64  \n",
      " 4   price                  120975 non-null  float64\n",
      " 5   province               129908 non-null  object \n",
      " 6   region_1               108724 non-null  object \n",
      " 7   region_2               50511 non-null   object \n",
      " 8   taster_name            103727 non-null  object \n",
      " 9   taster_twitter_handle  98758 non-null   object \n",
      " 10  title                  129971 non-null  object \n",
      " 11  variety                129970 non-null  object \n",
      " 12  winery                 129971 non-null  object \n",
      "dtypes: float64(1), int64(1), object(11)\n",
      "memory usage: 13.9+ MB\n"
     ]
    }
   ],
   "source": [
    "wines.info()"
   ]
  },
  {
   "cell_type": "code",
   "execution_count": 7,
   "metadata": {},
   "outputs": [
    {
     "data": {
      "text/plain": [
       "country                     63\n",
       "description                  0\n",
       "designation              37465\n",
       "points                       0\n",
       "price                     8996\n",
       "province                    63\n",
       "region_1                 21247\n",
       "region_2                 79460\n",
       "taster_name              26244\n",
       "taster_twitter_handle    31213\n",
       "title                        0\n",
       "variety                      1\n",
       "winery                       0\n",
       "dtype: int64"
      ]
     },
     "execution_count": 7,
     "metadata": {},
     "output_type": "execute_result"
    }
   ],
   "source": [
    "wines.isna().sum()"
   ]
  },
  {
   "cell_type": "code",
   "execution_count": 8,
   "metadata": {},
   "outputs": [],
   "source": [
    "# для простоты удалим все строки с nan\n",
    "wines.dropna(inplace=True)"
   ]
  },
  {
   "cell_type": "code",
   "execution_count": 9,
   "metadata": {},
   "outputs": [
    {
     "data": {
      "text/plain": [
       "country                  0\n",
       "description              0\n",
       "designation              0\n",
       "points                   0\n",
       "price                    0\n",
       "province                 0\n",
       "region_1                 0\n",
       "region_2                 0\n",
       "taster_name              0\n",
       "taster_twitter_handle    0\n",
       "title                    0\n",
       "variety                  0\n",
       "winery                   0\n",
       "dtype: int64"
      ]
     },
     "execution_count": 9,
     "metadata": {},
     "output_type": "execute_result"
    }
   ],
   "source": [
    "wines.isna().sum()"
   ]
  },
  {
   "cell_type": "markdown",
   "metadata": {},
   "source": [
    "## Что такое описательная статистика?\n",
    "\n",
    "**Описательная статистика** или **дескриптивная статистика** (англ. **descriptive statistics**) занимается обработкой эмпирических данных, их систематизацией, наглядным представлением в форме графиков и таблиц, а также их количественным описанием посредством основных статистических показателей.\n",
    "\n",
    "**Генеральная совокупность (Statistical population)** — совокупность всех объектов (единиц), относительно которых предполагается делать выводы при изучении конкретной задачи.\n",
    "\n",
    "**Генеральная совокупность** состоит из всех объектов, которые имеют качества, свойства, интересующие исследователя. \n",
    "\n",
    "Противопоставляется **статистическому выводу** в том смысле, что не делает выводов о генеральной совокупности на основании результатов исследования частных случаев. **Статистический вывод** же предполагает, что свойства и закономерности, выявленные при исследовании объектов выборки, также присущи генеральной совокупности.\n",
    "\n",
    "\n",
    "**Описательная статистика использует** три основных метода агрегирования данных:\n",
    "- Табличное представление\n",
    "- Графическое изображение\n",
    "- Расчет статистических показателей"
   ]
  },
  {
   "cell_type": "markdown",
   "metadata": {},
   "source": [
    "## Основные статистические показатели\n",
    "\n",
    "### Меры центральной тенденции (Меры среднего уровня)\n",
    "\n",
    "Меры центральной тенденции — показатели, представляющие собой ответ на вопрос: \"На что похожа середина данных?\".\n",
    "\n",
    "Слово \"середина\" звучит неточно, так как существует множество определений для её описания."
   ]
  },
  {
   "cell_type": "markdown",
   "metadata": {},
   "source": [
    "---\n",
    "\n",
    "#### **Среднее (арифметическое) значение (Mean)**\n",
    "Данная характеристика описывает среднее значение в наборе данных.\n",
    "\n",
    "Вычислить её довольно просто: сложите все значения и разделите полученную сумму на количество значений.\n",
    "\n",
    "Среднее значение отражает типичный показатель в наборе данных. Если случайно выбрать один из показателей, то, скорее всего, получим значение, близкое к среднему."
   ]
  },
  {
   "cell_type": "code",
   "execution_count": 10,
   "metadata": {},
   "outputs": [
    {
     "data": {
      "text/plain": [
       "89.53781212310716"
      ]
     },
     "execution_count": 10,
     "metadata": {},
     "output_type": "execute_result"
    }
   ],
   "source": [
    "# Складываем все оценки\n",
    "sum_points = sum(wines.points)\n",
    "\n",
    "# Ищем количество оценок\n",
    "num_points = len(wines.points)\n",
    "\n",
    "# Считаем среднее значение\n",
    "avg_points = sum_points/num_points\n",
    "\n",
    "avg_points"
   ]
  },
  {
   "cell_type": "markdown",
   "metadata": {},
   "source": [
    "**ИЛИ**"
   ]
  },
  {
   "cell_type": "code",
   "execution_count": 11,
   "metadata": {},
   "outputs": [
    {
     "data": {
      "text/plain": [
       "89.53781212310716"
      ]
     },
     "execution_count": 11,
     "metadata": {},
     "output_type": "execute_result"
    }
   ],
   "source": [
    "from statistics import mean\n",
    "\n",
    "mean(wines.points)"
   ]
  },
  {
   "cell_type": "markdown",
   "metadata": {},
   "source": [
    "**ИЛИ**"
   ]
  },
  {
   "cell_type": "code",
   "execution_count": 12,
   "metadata": {},
   "outputs": [
    {
     "data": {
      "text/plain": [
       "89.53781212310716"
      ]
     },
     "execution_count": 12,
     "metadata": {},
     "output_type": "execute_result"
    }
   ],
   "source": [
    "avg_points = wines.points.mean()\n",
    "\n",
    "avg_points"
   ]
  },
  {
   "cell_type": "markdown",
   "metadata": {},
   "source": [
    "Это среднее значение говорит нам, что \"типичная\" оценка в датасете равна примерно 87,8. Соответственно, большинство вин имеют высокий рейтинг, если предположить, что оценивают по шкале от 0 до 100. Тем не менее нужно учесть, что Wine Enthusiast не публикует отзывы с рейтингом ниже 80.\n",
    "\n",
    "Есть разные типы среднего значения, но это — наиболее распространённая форма. Оно называется средним арифметическим, так как интересующие нас значения складываются."
   ]
  },
  {
   "cell_type": "markdown",
   "metadata": {},
   "source": [
    "---\n",
    "\n",
    "#### **Медиана (Median)**\n",
    "\n",
    "Медиана, как и среднее значение, нужна для определения типичного значения в наборе данных.\n",
    "\n",
    "Чтобы найти медиану, данные нужно расположить в порядке возрастания.\n",
    "\n",
    "Медианой будет значение, которое совпадает с серединой набора данных.\n",
    "\n",
    "Если количество значений чётное, то берётся среднее двух значений, которые \"окружают\" середину.\n",
    "\n",
    "<img src=\"images/mediana_odd.jpg\" width=\"600\"/>\n",
    "\n",
    "<img src=\"images/mediana_even.jpg\" width=\"600\"/>\n"
   ]
  },
  {
   "cell_type": "code",
   "execution_count": 13,
   "metadata": {},
   "outputs": [
    {
     "data": {
      "text/plain": [
       "36.0"
      ]
     },
     "execution_count": 13,
     "metadata": {},
     "output_type": "execute_result"
    }
   ],
   "source": [
    "from statistics import median\n",
    "\n",
    "median(wines.price.sort_values(ascending=True))"
   ]
  },
  {
   "cell_type": "markdown",
   "metadata": {},
   "source": [
    "**ИЛИ**"
   ]
  },
  {
   "cell_type": "code",
   "execution_count": 14,
   "metadata": {},
   "outputs": [
    {
     "data": {
      "text/plain": [
       "36.0"
      ]
     },
     "execution_count": 14,
     "metadata": {},
     "output_type": "execute_result"
    }
   ],
   "source": [
    "wines.price.median()"
   ]
  },
  {
   "cell_type": "markdown",
   "metadata": {},
   "source": [
    "А что насчёт среднего значения? Учитывая, что и медиана, и среднее значение отражают типичное значение, можно предположить, что они должны быть примерно одинаковы:"
   ]
  },
  {
   "cell_type": "code",
   "execution_count": 15,
   "metadata": {},
   "outputs": [
    {
     "data": {
      "text/plain": [
       "41.465404029124045"
      ]
     },
     "execution_count": 15,
     "metadata": {},
     "output_type": "execute_result"
    }
   ],
   "source": [
    "wines.price.mean()"
   ]
  },
  {
   "cell_type": "markdown",
   "metadata": {},
   "source": [
    "##### **Робастность (Robustness)**\n",
    "\n",
    "**Выброс (outlier), промах** — в статистике результат измерения, выделяющийся из общей выборки.\n",
    "\n",
    "Статистический метод, способный действовать в условиях выбросов, называется **робастным**. \n",
    "\n",
    "**Роба́стность (англ. robustness ← robust \"крепкий; сильный; твёрдый; устойчивый\")** — свойство статистического метода, характеризующее независимость влияния на результат исследования различного рода выбросов, устойчивость к помехам.\n",
    "\n",
    "Выбросоустойчивый (робастный) метод — метод, направленный на выявление выбросов, снижение их влияния или исключение их из выборки.\n",
    "\n",
    "**Медиана является робастной характеристикой, а выборочное среднее — нет.** Если в данных есть **выбросы** — значения, которые гораздо выше или ниже остальных, — это может негативно повлиять на **среднее значение**. \n",
    "\n",
    "**Причины выбросов:**\n",
    "- Из-за ошибки измерения.\n",
    "- Из-за необычной природы входных данных. Например, если наугад измерять температуру предметов в комнате, получим цифры от 18 до 22 °C, но радиатор отопления будет иметь температуру в 70°.\n",
    "- Выбросы могут быть и частью распределения — так, в нормальном распределении каждое 22-е измерение будет выходить из \"двух сигм\", и каждое 370-е — из трёх.\n",
    "\n",
    "Поскольку множество статистических методов \"буксуют\" на выборках с **выбросами**, **выбросы** приходится обнаруживать (желательно — автоматически) и исключать из выборки. "
   ]
  },
  {
   "cell_type": "markdown",
   "metadata": {},
   "source": [
    "---\n",
    "\n",
    "#### **Минимум (Minimum)**\n",
    "\n",
    "**Минимум** — это наименьшее возможное количество чего-либо в данном контексте."
   ]
  },
  {
   "cell_type": "code",
   "execution_count": 16,
   "metadata": {},
   "outputs": [
    {
     "data": {
      "text/plain": [
       "4.0"
      ]
     },
     "execution_count": 16,
     "metadata": {},
     "output_type": "execute_result"
    }
   ],
   "source": [
    "min(wines.price)"
   ]
  },
  {
   "cell_type": "markdown",
   "metadata": {},
   "source": [
    "---\n",
    "\n",
    "#### **Максимум (Maximum)**\n",
    "\n",
    "**Максимум** — наибольшее возможное количество чего-либо в данном контексте."
   ]
  },
  {
   "cell_type": "code",
   "execution_count": 17,
   "metadata": {},
   "outputs": [
    {
     "data": {
      "text/plain": [
       "2013.0"
      ]
     },
     "execution_count": 17,
     "metadata": {},
     "output_type": "execute_result"
    }
   ],
   "source": [
    "max(wines.price)"
   ]
  },
  {
   "cell_type": "markdown",
   "metadata": {},
   "source": [
    "---\n",
    "\n",
    "#### **Мода (Mode)**\n",
    "\n",
    "**Мо́да** — значение во множестве наблюдений, которое встречается наиболее часто. (Мода = типичность.) \n",
    "\n",
    "Мода не так очевидно соответствует понятию \"середины\" как среднее значение или медиана, но это соответствие абсолютно обосновано: если значение появляется в данных неоднократно, оно приблизит среднее значение к моде.\n",
    "\n",
    "Чем чаще появляется значение, тем сильнее оно влияет на среднее.\n",
    "\n",
    "Таким образом, мода показывает наиболее значимый фактор, формирующий среднее значение."
   ]
  },
  {
   "cell_type": "code",
   "execution_count": 18,
   "metadata": {},
   "outputs": [
    {
     "data": {
      "text/plain": [
       "30.0"
      ]
     },
     "execution_count": 18,
     "metadata": {},
     "output_type": "execute_result"
    }
   ],
   "source": [
    "from statistics import mode\n",
    "\n",
    "mode(wines.price)"
   ]
  },
  {
   "cell_type": "markdown",
   "metadata": {},
   "source": [
    "**ИЛИ**"
   ]
  },
  {
   "cell_type": "code",
   "execution_count": 19,
   "metadata": {},
   "outputs": [
    {
     "data": {
      "text/plain": [
       "0    30.0\n",
       "dtype: float64"
      ]
     },
     "execution_count": 19,
     "metadata": {},
     "output_type": "execute_result"
    }
   ],
   "source": [
    "wines.price.mode()"
   ]
  },
  {
   "cell_type": "markdown",
   "metadata": {},
   "source": [
    "#### **Квантиль (Quantile)**\n",
    "\n",
    "**Кванти́ль** — значение, которое заданная случайная величина не превышает с фиксированной вероятностью.\n",
    "\n",
    "Если вероятность задана в процентах, то квантиль называется **процентилем (percentiles)** или перцентилем.\n",
    "\n",
    "##### **Медиана и квартили**\n",
    "- 0.25-квантиль называется  **первым (или нижним)кварти́лем (от лат. quarta — четверть)**\n",
    "- 0.5-квантиль называется **медианой (от лат. mediāna — середина)** или **вторым кварти́лем**\n",
    "- 0.75-квантиль называется **третьим (или верхним) кварти́лем**\n",
    "\n",
    "\n",
    "\n",
    "Соответственно, медиана является 50-м процентилем, а первый и третий квартиль — 25-м и 75-м процентилями соответственно.\n",
    "\n",
    "В целом, понятия квантиль и процентиль взаимозаменяемы, так же, как и шкалы исчисления вероятностей — абсолютная и процентная.\n",
    "\n",
    "Пример:\n",
    "\"90-й процентиль массы тела у новорожденных мальчиков составляет 4 кг\" означает, что 90% мальчиков рождаются с весом, меньшим либо равным 4 кг, а 10% мальчиков рождаются с весом, большим 4 кг.\n",
    "\n",
    "<img src=\"images/boxplot.jpg\" alt=\"Boxplot\" width=\"600\" height=\"800\"/>\n"
   ]
  },
  {
   "cell_type": "code",
   "execution_count": 20,
   "metadata": {},
   "outputs": [
    {
     "data": {
      "text/plain": [
       "[25.0, 36.0, 50.0]"
      ]
     },
     "execution_count": 20,
     "metadata": {},
     "output_type": "execute_result"
    }
   ],
   "source": [
    "from statistics import quantiles\n",
    "\n",
    "quantiles(wines.price)"
   ]
  },
  {
   "cell_type": "markdown",
   "metadata": {},
   "source": [
    "**ИЛИ**"
   ]
  },
  {
   "cell_type": "code",
   "execution_count": 21,
   "metadata": {},
   "outputs": [
    {
     "data": {
      "text/plain": [
       "0.25    25.0\n",
       "0.50    36.0\n",
       "0.75    50.0\n",
       "Name: price, dtype: float64"
      ]
     },
     "execution_count": 21,
     "metadata": {},
     "output_type": "execute_result"
    }
   ],
   "source": [
    "wines.price.quantile([.25, .5, .75])"
   ]
  },
  {
   "cell_type": "markdown",
   "metadata": {},
   "source": [
    "*Меры центральной тенденции полезны для описания среднего значения данных.\n",
    "Тем не менее они не показывают, насколько большой разброс присутствует в данных. \n",
    "Здесь на помощь приходят меры разброса данных.*"
   ]
  },
  {
   "cell_type": "markdown",
   "metadata": {},
   "source": [
    "### Меры разброса данных (Меры рассеяния)\n",
    "\n",
    "Меры разброса отвечают на вопрос: \"Как сильно варьируются мои данные?\". \n",
    "\n",
    "В мире существует не так много вещей, которые остаются в одном и том же состоянии при каждом наблюдении.\n",
    "\n",
    "Эта изменчивость делает мир нечётким и неопределённым, поэтому полезно иметь показатели, которые могут обобщить эту \"нечёткость\"."
   ]
  },
  {
   "cell_type": "markdown",
   "metadata": {},
   "source": [
    "---\n",
    "\n",
    "#### **Размах вариации (Range)**\n",
    "\n",
    "**Размах вариации** — разность между наибольшим и наименьшим значениями результатов наблюдений. \n",
    "\n",
    "**Вариация** — различие значений какого-либо признака у разных единиц совокупности за один и тот же промежуток времени. \n",
    "\n",
    "Размах выборки характеризует стабильность, однородность исследуемых свойств."
   ]
  },
  {
   "cell_type": "code",
   "execution_count": 22,
   "metadata": {},
   "outputs": [
    {
     "data": {
      "text/plain": [
       "2009.0"
      ]
     },
     "execution_count": 22,
     "metadata": {},
     "output_type": "execute_result"
    }
   ],
   "source": [
    "price_range = wines.price.max() - wines.price.min()\n",
    "\n",
    "price_range"
   ]
  },
  {
   "cell_type": "markdown",
   "metadata": {},
   "source": [
    "Когда рассматриваем результаты различных измерений, очень важно делать это в контексте данных. \n",
    "\n",
    "Важно обратить внимание на медиану. \n",
    "\n",
    "**Размах на два порядка больше медианы, что указывает на сильный разброс данных.**\n",
    "\n",
    "Возможно, будь у нас ещё один винный датасет, можно было бы сравнить размахи, чтобы понять, как они отличаются. В ином случае сам по себе размах не слишком полезен.\n",
    "\n",
    "Хотелось бы узнать, как сильно данные отличаются от типичного значения.\n",
    "Здесь помогут стандартное отклонение и дисперсия случайной величины."
   ]
  },
  {
   "cell_type": "markdown",
   "metadata": {},
   "source": [
    "---\n",
    "\n",
    "#### **Среднеквадратическое отклонение (Standard deviation)**\n",
    "\n",
    "**Среднеквадратическое отклонение (среднее квадратическое отклонение, среднеквадратичное отклонение, квадратичное отклонение, стандартное отклонение, стандартный разброс)** помогает узнать, как сильно данные отличаются от типичного значения, то есть говорит о том, как сильно данные отличаются от среднего арифметического.\n",
    "\n",
    "Отношение к среднему арифметическому хорошо видно при расчёте:\n",
    "\n",
    "<img src=\"images/standard_deviation.png\" width=\"700\"/>"
   ]
  },
  {
   "cell_type": "markdown",
   "metadata": {},
   "source": [
    "В некоторых источниках можно увидеть в качестве знаменателя `n` вместо `n-1`. Использование `n-1` считается более корректным."
   ]
  },
  {
   "cell_type": "code",
   "execution_count": 23,
   "metadata": {},
   "outputs": [
    {
     "name": "stdout",
     "output_type": "stream",
     "text": [
      "wines.points.max() = 100\n",
      "wines.points.min() = 80\n"
     ]
    }
   ],
   "source": [
    "print(f\"wines.points.max() = {wines.points.max()}\")\n",
    "\n",
    "print(f\"wines.points.min() = {wines.points.min()}\")"
   ]
  },
  {
   "cell_type": "markdown",
   "metadata": {},
   "source": [
    "Оценки варьируются от 80 до 100, поэтому можно предположить, что стандартное отклонение будет небольшим. "
   ]
  },
  {
   "cell_type": "code",
   "execution_count": 24,
   "metadata": {},
   "outputs": [
    {
     "data": {
      "text/plain": [
       "2.809305589149649"
      ]
     },
     "execution_count": 24,
     "metadata": {},
     "output_type": "execute_result"
    }
   ],
   "source": [
    "from statistics import stdev\n",
    "\n",
    "stdev(wines.points)"
   ]
  },
  {
   "cell_type": "markdown",
   "metadata": {},
   "source": [
    "**ИЛИ**"
   ]
  },
  {
   "cell_type": "code",
   "execution_count": 25,
   "metadata": {},
   "outputs": [
    {
     "data": {
      "text/plain": [
       "2.809305589149645"
      ]
     },
     "execution_count": 25,
     "metadata": {},
     "output_type": "execute_result"
    }
   ],
   "source": [
    "wines.points.std()"
   ]
  },
  {
   "cell_type": "markdown",
   "metadata": {},
   "source": [
    "С другой стороны, отклонение в ценах гораздо выше из-за выбросов. "
   ]
  },
  {
   "cell_type": "code",
   "execution_count": 26,
   "metadata": {},
   "outputs": [
    {
     "name": "stdout",
     "output_type": "stream",
     "text": [
      "wines.price.max() = 2013.0\n",
      "wines.price.min() = 4.0\n"
     ]
    }
   ],
   "source": [
    "print(f\"wines.price.max() = {wines.price.max()}\")\n",
    "\n",
    "print(f\"wines.price.min() = {wines.price.min()}\")"
   ]
  },
  {
   "cell_type": "code",
   "execution_count": 27,
   "metadata": {},
   "outputs": [
    {
     "data": {
      "text/plain": [
       "29.379373551077247"
      ]
     },
     "execution_count": 27,
     "metadata": {},
     "output_type": "execute_result"
    }
   ],
   "source": [
    "wines.price.std()"
   ]
  },
  {
   "cell_type": "markdown",
   "metadata": {},
   "source": [
    "**Чем больше стандартное отклонение, тем больше рассеяны данные вокруг среднего значения, и наоборот.**"
   ]
  },
  {
   "cell_type": "markdown",
   "metadata": {},
   "source": [
    "---\n",
    "\n",
    "#### **Дисперсия (Variance)**\n",
    "\n",
    "**Диспе́рсия случайной величины** — мера разброса значений случайной величины относительно её математического ожидания. \n",
    "\n",
    "**Дисперсия** тесно связана со стандартным отклонением.\n",
    "Часто **стандартное отклонение** и **дисперсию** связывают вместе и делают это не без причины. \n",
    "\n",
    "**Дисперсия — это квадрат стандартного отклонения.**\n",
    "\n",
    "**Дисперсия и стандартное отклонение являются средним расстоянием от среднего арифметического значения.**\n",
    "\n",
    "\n",
    "Более того, обе величины отражают одну и ту же вещь — меру разброса, хотя стоит отметить, что единицы измерения разные.\n",
    "\n",
    "В каких бы единицах ни измерялись ваши данные, единицы измерения отклонения будут такими же, а у дисперсии они будут возведены в квадрат.\n",
    "\n",
    "<img src=\"images/variance.png\" width=\"400\"/>\n",
    "\n",
    "**Дисперсией** случайной величины называют математическое ожидание квадрата отклонения случайной величины от её математического ожидания.\n",
    "\n",
    "**Математическое ожидание (Expected value)** — это среднее (взвешенное по вероятностям возможных значений) значение случайной величины. На практике **математическое ожидание** обычно оценивается как среднее арифметическое наблюдаемых значений случайной величины (выборочное среднее, среднее по выборке). \n",
    "\n",
    "\n",
    "*Зачем возводить отклонение в квадрат? Разве нельзя избавится от отрицательных слагаемых при помощи модуля?.*\n",
    "- Избавление от отрицательных значений — хорошая причина для возведения в квадрат, но не единственная.\n",
    "- Как и на среднее значение, на дисперсию и стандартное отклонение влияют выбросы.\n",
    "- Очень часто нас интересуют выбросы, поэтому возведение в квадрат позволяет выделить эту особенность."
   ]
  },
  {
   "cell_type": "code",
   "execution_count": 28,
   "metadata": {},
   "outputs": [
    {
     "data": {
      "text/plain": [
       "863.1475902537549"
      ]
     },
     "execution_count": 28,
     "metadata": {},
     "output_type": "execute_result"
    }
   ],
   "source": [
    "from statistics import variance\n",
    "\n",
    "variance(wines.price)"
   ]
  },
  {
   "cell_type": "markdown",
   "metadata": {},
   "source": [
    "**ИЛИ**"
   ]
  },
  {
   "cell_type": "code",
   "execution_count": 29,
   "metadata": {},
   "outputs": [
    {
     "data": {
      "text/plain": [
       "863.1475902537372"
      ]
     },
     "execution_count": 29,
     "metadata": {},
     "output_type": "execute_result"
    }
   ],
   "source": [
    "wines.price.var()"
   ]
  },
  {
   "cell_type": "markdown",
   "metadata": {},
   "source": [
    "#### **Нормальное распределение (Normal distribution)**\n",
    "\n",
    "**Распределение вероятностей** — это закон, описывающий область значений случайной величины и соответствующие вероятности появления этих значений.\n",
    "\n",
    "**Нормальное распределение**, также называемое **распределением Гаусса** или Гаусса — Лапласа — распределение вероятностей, которое в одномерном случае задаётся функцией плотности вероятности, совпадающей с функцией Гаусса:\n",
    "\n",
    "<img src=\"images/norm_dist.svg\" alt=\"Normal distribution\" width=\"300\" height=\"300\"/>\n",
    " \n",
    "$\\mu$  — математическое ожидание (среднее значение), медиана и мода распределения\n",
    "\n",
    "$\\sigma$  — среднеквадратическое отклонение \n",
    "\n",
    "$\\sigma^{2}$ — дисперсия распределения\n",
    "\n",
    "**Стандартным нормальным распределением** называется нормальное распределение с математическим ожиданием $\\mu=0$ и стандартным отклонением $\\sigma=1$.\n",
    "\n",
    "Случайная величина, имеющая нормальное распределение, называется нормальной, или гауссовской, случайной величиной.\n",
    "\n",
    "<img src=\"images/gauss_dist_empirical_rule.png\" width=\"700\" height=\"700\"/>\n",
    "\n",
    "Для **нормального распределения** значения, отличающиеся от среднего на число, меньшее чем *одно стандартное отклонение* ($\\sigma$), составляют **68,27%** выборки.\n",
    "В то же время значения, отличающиеся от среднего на *два стандартных отклонения* ($2\\sigma$), составляют **95,45%**, а на *три стандартных отклонения* ($3\\sigma$) — **99,73%**."
   ]
  },
  {
   "cell_type": "markdown",
   "metadata": {},
   "source": [
    "##### **Правило трёх сигм**\n",
    "\n",
    "**Правило трёх сигм ($3\\sigma$)** — практически все значения **нормально распределённой** случайной величины лежат в интервале $(\\mu -3\\sigma;\\mu + 3\\sigma)$, где $\\mu$ — математическое ожидание и параметр нормальной случайной величины, а $\\sigma$  — среднеквадратическое отклонение.\n",
    "\n",
    "Более точно — приблизительно с вероятностью **0.9973** значение нормально распределённой случайной величины лежит в указанном интервале.\n",
    "\n",
    "\n",
    "<img src=\"images/standard_deviation_3sigma.png\" width=\"500\" height=\"700\"/>\n",
    "\n",
    "<img src=\"images/gauss_dist.png\" width=\"500\" height=\"500\"/>"
   ]
  },
  {
   "cell_type": "code",
   "execution_count": 30,
   "metadata": {},
   "outputs": [
    {
     "data": {
      "text/plain": [
       "<AxesSubplot:>"
      ]
     },
     "execution_count": 30,
     "metadata": {},
     "output_type": "execute_result"
    },
    {
     "data": {
      "image/png": "[encoded data removed]",
      "text/plain": [
       "<Figure size 432x288 with 1 Axes>"
      ]
     },
     "metadata": {
      "needs_background": "light"
     },
     "output_type": "display_data"
    }
   ],
   "source": [
    "wines.points.hist()"
   ]
  },
  {
   "cell_type": "code",
   "execution_count": 31,
   "metadata": {},
   "outputs": [
    {
     "data": {
      "text/plain": [
       "<AxesSubplot:ylabel='Density'>"
      ]
     },
     "execution_count": 31,
     "metadata": {},
     "output_type": "execute_result"
    },
    {
     "data": {
      "image/png": "[encoded data removed]",
      "text/plain": [
       "<Figure size 432x288 with 1 Axes>"
      ]
     },
     "metadata": {
      "needs_background": "light"
     },
     "output_type": "display_data"
    }
   ],
   "source": [
    "wines.points.plot.density()"
   ]
  },
  {
   "cell_type": "markdown",
   "metadata": {},
   "source": [
    "##### **Ассиметрия (Skewness)**\n",
    "\n",
    "**Коэффициент асимметри́и** — величина, характеризующая асимметрию распределения данной случайной величины.\n",
    "\n",
    "Неформально говоря, коэффициент асимметрии положителен, если правый хвост распределения длиннее левого, и отрицателен в противном случае.\n",
    "\n",
    "\n",
    "Если распределение симметрично относительно математического ожидания, то его коэффициент асимметрии равен нулю.\n",
    "\n",
    "<img src=\"images/skewness.jpg\" width=\"800\" height=\"700\"/>\n",
    "\n",
    "Почему важно Гауссово распределение?\n",
    "- Гауссовское распределение является повсеместным, потому что набор данных с конечной дисперсией превращается в гауссово, пока набор данных с независимыми вероятностями признаков может увеличиваться в размере. Гауссово распределение является наиболее важным распределением вероятностей в статистике, поскольку оно соответствует многим природным явлениям, таким как возраст, рост, результаты тестов, оценки IQ, сумма бросков двух кубиков и так далее.\n",
    "- Наборы данных с Гауссовым распределением позволяют применять различные методы, относящиеся к параметрической статистике. Такие методы, как распространение неопределенности и подгонка параметров методом наименьших квадратов, которые упрощают жизнь специалиста по данным, применимы только к наборам данных с нормальным или нормальным распределением.\n",
    "- Выводы, полученные на основе такого анализа, интуитивно понятны и легко объяснимы аудитории с базовыми знаниями статистики.\n",
    "\n",
    "Почему они важны для машинного обучения?\n",
    "- В машинном обучении функция потерь (cost function) или значения потенциала нейрона (neuron potential) - это величины, которые, как ожидается, будут суммой многих независимых процессов (таких как входные функции или потенциал активации последнего слоя), часто имеют почти нормальные распределения. Можно продолжать использовать *параметрическую статистику*, зная гауссовский характер набора данных.\n",
    "- Любое распределение можно преобразовать в распределение типа Гаусса с помощью соответствующего преобразования. Для сложных с несколькими пиками и длинными хвостами вам, возможно, придется рассмотреть расширенные методы, такие как [power transform](https://en.wikipedia.org/wiki/Power_transform) или другие методы преобразования данных.\n",
    "\n",
    "*Параметрическая статистика* — раздел статистики, который предполагает, что выборка принадлежит популяции, которая может быть достаточно точно и адекватно смоделирована вероятностным распределением с определенным набором параметров. Наоборот, непараметрическая модель отличается тем, что набор параметров не задан и может увеличиваться или уменьшаться, если собрана новая полезная информация.\n",
    "\n",
    "Наиболее известные статистические методы являются параметрическими.\n",
    "\n",
    "Все семейства **нормальных распределений** имеют одинаковый вид и являются *параметризованными* посредством *математического ожидания** и**дисперсии**. Это означает, что если математическое ожидание и дисперсия известны, а распределение является нормальным, то известна вероятность попадания наблюдения в заданный интервал.\n",
    "\n",
    "\n",
    "<img src=\"images/distributional_choices.jpg\"/>"
   ]
  },
  {
   "cell_type": "code",
   "execution_count": 32,
   "metadata": {},
   "outputs": [
    {
     "data": {
      "text/plain": [
       "<AxesSubplot:ylabel='Density'>"
      ]
     },
     "execution_count": 32,
     "metadata": {},
     "output_type": "execute_result"
    },
    {
     "data": {
      "image/png": "[encoded data removed]",
      "text/plain": [
       "<Figure size 432x288 with 1 Axes>"
      ]
     },
     "metadata": {
      "needs_background": "light"
     },
     "output_type": "display_data"
    }
   ],
   "source": [
    "wines.price.plot.kde()"
   ]
  },
  {
   "cell_type": "markdown",
   "metadata": {},
   "source": [
    "#### **Интерквантильный размах (Interquartile range = IQR)**\n",
    "\n",
    "<img src=\"images/boxplot_vs_gaussian.svg\" alt=\"Boxplot vs normal distribution\" width=\"600\" height=\"800\"/>\n",
    "\n",
    "**Интеркварти́льным размахом (англ. Interquartile range)** называется разность между третьим и первым квартилями, то есть $x_{0.75}-x_{0.25}$. \n",
    "\n",
    "**Интерквартильный размах** является характеристикой разброса распределения величины и является **робастным аналогом дисперсии**.\n",
    "\n",
    "Вместе, медиана и интерквартильный размах могут быть использованы вместо математического ожидания и дисперсии в случае распределений с большими выбросами, либо при невозможности вычисления последних."
   ]
  },
  {
   "cell_type": "code",
   "execution_count": 33,
   "metadata": {},
   "outputs": [
    {
     "data": {
      "text/plain": [
       "25.0"
      ]
     },
     "execution_count": 33,
     "metadata": {},
     "output_type": "execute_result"
    }
   ],
   "source": [
    "# вычисление IQR\n",
    "Q1 = wines.price.quantile(0.25)\n",
    "Q3 = wines.price.quantile(0.75)\n",
    "IQR = Q3 - Q1\n",
    "\n",
    "IQR"
   ]
  },
  {
   "cell_type": "markdown",
   "metadata": {},
   "source": [
    "#### **Среднее абсолютное отклонение (Mean absolute deviation)**\n",
    "\n",
    "**Среднее абсолютное отклонение**, или просто **среднее отклонение (англ. MAD, mean absolute deviation)** — величина, используемая для оценки прогнозных функций. В статистике **абсолютное отклонение** элементов в совокупности данных — абсолютная разница между элементом и выбранной точкой, от которой отсчитывается отклонение.\n",
    "\n",
    "<img src=\"images/mad.svg\" width=\"400\"/>\n",
    "Выбор среднего значения `m(X)` сильно влияет на среднее отклонение. В общем виде центральная точка может быть средним значением, медианой, модой или результатом любой другой меры центральной тенденции или любой случайной точки данных, относящейся к данному набору данных.\n",
    "\n",
    "<img src=\"images/mad_types.png\" width=\"700\"/>\n"
   ]
  },
  {
   "cell_type": "code",
   "execution_count": 34,
   "metadata": {},
   "outputs": [
    {
     "data": {
      "text/plain": [
       "17.734975235902155"
      ]
     },
     "execution_count": 34,
     "metadata": {},
     "output_type": "execute_result"
    }
   ],
   "source": [
    "wines.price.mad()"
   ]
  },
  {
   "cell_type": "markdown",
   "metadata": {
    "pycharm": {
     "name": "#%% md\n"
    }
   },
   "source": [
    "## Пакет`pandas`: метод `describe`"
   ]
  },
  {
   "cell_type": "markdown",
   "metadata": {
    "pycharm": {
     "name": "#%% md\n"
    }
   },
   "source": [
    "- вычисляет основные параметры описательной статистики\n",
    "- не учитывает значения nan\n",
    "- можно применить к `dataframe` или к `series`\n",
    "\n",
    "- для числовых данных индекс результата будет включать\n",
    "    - количество (`count`),\n",
    "    - среднее (`mean`),\n",
    "    - стандартное отклонение (`std`),\n",
    "    - минимальное значение (`min`),\n",
    "    - максимальное значение (`max`),\n",
    "    - нижний, 50 и верхний процентили. По умолчанию нижний процентиль равен `25`, а верхний процентиль равен `75`. `50` процентиль совпадает с медианой.\n",
    "\n",
    "- для объектных (`object`) данных  (например, строк или отметок времени) индекс результата будет включать\n",
    "    - `count` - количество элементов,\n",
    "    - `unique` - количество уникальных элементов\n",
    "    - `top` - наиболее распространенное значение,\n",
    "    - `freq` - это частота наиболее распространенного значения.\n",
    "    - Отметки времени (`Timestamps`) также включают первый (`first`) и последний (`last`) элементы.\n",
    "\n",
    "- для смешанных типов данных, предоставляемых через `DataFrame`, по умолчанию возвращается **только анализ числовых столбцов**.\n",
    "- если фрейм данных состоит только из объектных и категориальных данных без каких-либо числовых столбцов, по умолчанию будет возвращен анализ как объектных, так и категориальных столбцов.\n",
    "- если `include = 'all'` предоставляется как опция, результат будет включать объединение атрибутов каждого типа."
   ]
  },
  {
   "cell_type": "code",
   "execution_count": 35,
   "metadata": {},
   "outputs": [
    {
     "data": {
      "text/plain": [
       "Index(['country', 'description', 'designation', 'points', 'price', 'province',\n",
       "       'region_1', 'region_2', 'taster_name', 'taster_twitter_handle', 'title',\n",
       "       'variety', 'winery'],\n",
       "      dtype='object')"
      ]
     },
     "execution_count": 35,
     "metadata": {},
     "output_type": "execute_result"
    }
   ],
   "source": [
    "# получить список наименований колонок\n",
    "wines.columns"
   ]
  },
  {
   "cell_type": "code",
   "execution_count": 36,
   "metadata": {},
   "outputs": [
    {
     "data": {
      "text/plain": [
       "['country',\n",
       " 'description',\n",
       " 'designation',\n",
       " 'points',\n",
       " 'price',\n",
       " 'province',\n",
       " 'region_1',\n",
       " 'region_2',\n",
       " 'taster_name',\n",
       " 'taster_twitter_handle',\n",
       " 'title',\n",
       " 'variety',\n",
       " 'winery']"
      ]
     },
     "execution_count": 36,
     "metadata": {},
     "output_type": "execute_result"
    }
   ],
   "source": [
    "# получить список наименований колонок в виде списка\n",
    "wines.columns.tolist()"
   ]
  },
  {
   "cell_type": "code",
   "execution_count": 37,
   "metadata": {
    "pycharm": {
     "name": "#%%\n"
    }
   },
   "outputs": [
    {
     "name": "stdout",
     "output_type": "stream",
     "text": [
      "<class 'pandas.core.frame.DataFrame'>\n",
      "Int64Index: 22387 entries, 4 to 129950\n",
      "Data columns (total 13 columns):\n",
      " #   Column                 Non-Null Count  Dtype  \n",
      "---  ------                 --------------  -----  \n",
      " 0   country                22387 non-null  object \n",
      " 1   description            22387 non-null  object \n",
      " 2   designation            22387 non-null  object \n",
      " 3   points                 22387 non-null  int64  \n",
      " 4   price                  22387 non-null  float64\n",
      " 5   province               22387 non-null  object \n",
      " 6   region_1               22387 non-null  object \n",
      " 7   region_2               22387 non-null  object \n",
      " 8   taster_name            22387 non-null  object \n",
      " 9   taster_twitter_handle  22387 non-null  object \n",
      " 10  title                  22387 non-null  object \n",
      " 11  variety                22387 non-null  object \n",
      " 12  winery                 22387 non-null  object \n",
      "dtypes: float64(1), int64(1), object(11)\n",
      "memory usage: 2.4+ MB\n"
     ]
    }
   ],
   "source": [
    "wines.info()"
   ]
  },
  {
   "cell_type": "code",
   "execution_count": 38,
   "metadata": {},
   "outputs": [],
   "source": [
    "wines.country = wines.country.astype(\"category\")"
   ]
  },
  {
   "cell_type": "code",
   "execution_count": 39,
   "metadata": {},
   "outputs": [
    {
     "name": "stdout",
     "output_type": "stream",
     "text": [
      "<class 'pandas.core.frame.DataFrame'>\n",
      "Int64Index: 22387 entries, 4 to 129950\n",
      "Data columns (total 13 columns):\n",
      " #   Column                 Non-Null Count  Dtype   \n",
      "---  ------                 --------------  -----   \n",
      " 0   country                22387 non-null  category\n",
      " 1   description            22387 non-null  object  \n",
      " 2   designation            22387 non-null  object  \n",
      " 3   points                 22387 non-null  int64   \n",
      " 4   price                  22387 non-null  float64 \n",
      " 5   province               22387 non-null  object  \n",
      " 6   region_1               22387 non-null  object  \n",
      " 7   region_2               22387 non-null  object  \n",
      " 8   taster_name            22387 non-null  object  \n",
      " 9   taster_twitter_handle  22387 non-null  object  \n",
      " 10  title                  22387 non-null  object  \n",
      " 11  variety                22387 non-null  object  \n",
      " 12  winery                 22387 non-null  object  \n",
      "dtypes: category(1), float64(1), int64(1), object(10)\n",
      "memory usage: 2.2+ MB\n"
     ]
    }
   ],
   "source": [
    "wines.info()"
   ]
  },
  {
   "cell_type": "code",
   "execution_count": 40,
   "metadata": {
    "pycharm": {
     "name": "#%%\n"
    }
   },
   "outputs": [
    {
     "data": {
      "text/plain": [
       "count     22387\n",
       "unique        1\n",
       "top          US\n",
       "freq      22387\n",
       "Name: country, dtype: object"
      ]
     },
     "execution_count": 40,
     "metadata": {},
     "output_type": "execute_result"
    }
   ],
   "source": [
    "wines.country.describe()"
   ]
  },
  {
   "cell_type": "code",
   "execution_count": 41,
   "metadata": {},
   "outputs": [
    {
     "data": {
      "text/plain": [
       "count                                                 22387\n",
       "unique                                                20425\n",
       "top       Gloria Ferrer NV Sonoma Brut Sparkling (Sonoma...\n",
       "freq                                                      6\n",
       "Name: title, dtype: object"
      ]
     },
     "execution_count": 41,
     "metadata": {},
     "output_type": "execute_result"
    }
   ],
   "source": [
    "wines.title.describe()"
   ]
  },
  {
   "cell_type": "code",
   "execution_count": 42,
   "metadata": {},
   "outputs": [
    {
     "data": {
      "text/plain": [
       "count    22387.000000\n",
       "mean        41.465404\n",
       "std         29.379374\n",
       "min          4.000000\n",
       "25%         25.000000\n",
       "50%         36.000000\n",
       "75%         50.000000\n",
       "max       2013.000000\n",
       "Name: price, dtype: float64"
      ]
     },
     "execution_count": 42,
     "metadata": {},
     "output_type": "execute_result"
    }
   ],
   "source": [
    "wines.price.describe()"
   ]
  },
  {
   "cell_type": "code",
   "execution_count": 43,
   "metadata": {},
   "outputs": [
    {
     "data": {
      "text/html": [
       "<div>\n",
       "<style scoped>\n",
       "    .dataframe tbody tr th:only-of-type {\n",
       "        vertical-align: middle;\n",
       "    }\n",
       "\n",
       "    .dataframe tbody tr th {\n",
       "        vertical-align: top;\n",
       "    }\n",
       "\n",
       "    .dataframe thead th {\n",
       "        text-align: right;\n",
       "    }\n",
       "</style>\n",
       "<table border=\"1\" class=\"dataframe\">\n",
       "  <thead>\n",
       "    <tr style=\"text-align: right;\">\n",
       "      <th></th>\n",
       "      <th>points</th>\n",
       "      <th>price</th>\n",
       "    </tr>\n",
       "  </thead>\n",
       "  <tbody>\n",
       "    <tr>\n",
       "      <th>count</th>\n",
       "      <td>22387.000000</td>\n",
       "      <td>22387.000000</td>\n",
       "    </tr>\n",
       "    <tr>\n",
       "      <th>mean</th>\n",
       "      <td>89.537812</td>\n",
       "      <td>41.465404</td>\n",
       "    </tr>\n",
       "    <tr>\n",
       "      <th>std</th>\n",
       "      <td>2.809306</td>\n",
       "      <td>29.379374</td>\n",
       "    </tr>\n",
       "    <tr>\n",
       "      <th>min</th>\n",
       "      <td>80.000000</td>\n",
       "      <td>4.000000</td>\n",
       "    </tr>\n",
       "    <tr>\n",
       "      <th>25%</th>\n",
       "      <td>88.000000</td>\n",
       "      <td>25.000000</td>\n",
       "    </tr>\n",
       "    <tr>\n",
       "      <th>50%</th>\n",
       "      <td>90.000000</td>\n",
       "      <td>36.000000</td>\n",
       "    </tr>\n",
       "    <tr>\n",
       "      <th>75%</th>\n",
       "      <td>92.000000</td>\n",
       "      <td>50.000000</td>\n",
       "    </tr>\n",
       "    <tr>\n",
       "      <th>max</th>\n",
       "      <td>100.000000</td>\n",
       "      <td>2013.000000</td>\n",
       "    </tr>\n",
       "  </tbody>\n",
       "</table>\n",
       "</div>"
      ],
      "text/plain": [
       "             points         price\n",
       "count  22387.000000  22387.000000\n",
       "mean      89.537812     41.465404\n",
       "std        2.809306     29.379374\n",
       "min       80.000000      4.000000\n",
       "25%       88.000000     25.000000\n",
       "50%       90.000000     36.000000\n",
       "75%       92.000000     50.000000\n",
       "max      100.000000   2013.000000"
      ]
     },
     "execution_count": 43,
     "metadata": {},
     "output_type": "execute_result"
    }
   ],
   "source": [
    "wines.describe()"
   ]
  },
  {
   "cell_type": "code",
   "execution_count": 44,
   "metadata": {},
   "outputs": [
    {
     "data": {
      "text/html": [
       "<div>\n",
       "<style scoped>\n",
       "    .dataframe tbody tr th:only-of-type {\n",
       "        vertical-align: middle;\n",
       "    }\n",
       "\n",
       "    .dataframe tbody tr th {\n",
       "        vertical-align: top;\n",
       "    }\n",
       "\n",
       "    .dataframe thead th {\n",
       "        text-align: right;\n",
       "    }\n",
       "</style>\n",
       "<table border=\"1\" class=\"dataframe\">\n",
       "  <thead>\n",
       "    <tr style=\"text-align: right;\">\n",
       "      <th></th>\n",
       "      <th>country</th>\n",
       "      <th>description</th>\n",
       "      <th>designation</th>\n",
       "      <th>points</th>\n",
       "      <th>price</th>\n",
       "      <th>province</th>\n",
       "      <th>region_1</th>\n",
       "      <th>region_2</th>\n",
       "      <th>taster_name</th>\n",
       "      <th>taster_twitter_handle</th>\n",
       "      <th>title</th>\n",
       "      <th>variety</th>\n",
       "      <th>winery</th>\n",
       "    </tr>\n",
       "  </thead>\n",
       "  <tbody>\n",
       "    <tr>\n",
       "      <th>count</th>\n",
       "      <td>22387</td>\n",
       "      <td>22387</td>\n",
       "      <td>22387</td>\n",
       "      <td>22387.000000</td>\n",
       "      <td>22387.000000</td>\n",
       "      <td>22387</td>\n",
       "      <td>22387</td>\n",
       "      <td>22387</td>\n",
       "      <td>22387</td>\n",
       "      <td>22387</td>\n",
       "      <td>22387</td>\n",
       "      <td>22387</td>\n",
       "      <td>22387</td>\n",
       "    </tr>\n",
       "    <tr>\n",
       "      <th>unique</th>\n",
       "      <td>1</td>\n",
       "      <td>20491</td>\n",
       "      <td>9515</td>\n",
       "      <td>NaN</td>\n",
       "      <td>NaN</td>\n",
       "      <td>4</td>\n",
       "      <td>171</td>\n",
       "      <td>17</td>\n",
       "      <td>11</td>\n",
       "      <td>11</td>\n",
       "      <td>20425</td>\n",
       "      <td>183</td>\n",
       "      <td>2791</td>\n",
       "    </tr>\n",
       "    <tr>\n",
       "      <th>top</th>\n",
       "      <td>US</td>\n",
       "      <td>Seductively tart in lemon pith, cranberry and ...</td>\n",
       "      <td>Estate</td>\n",
       "      <td>NaN</td>\n",
       "      <td>NaN</td>\n",
       "      <td>California</td>\n",
       "      <td>Columbia Valley (WA)</td>\n",
       "      <td>Columbia Valley</td>\n",
       "      <td>Virginie Boone</td>\n",
       "      <td>@vboone</td>\n",
       "      <td>Gloria Ferrer NV Sonoma Brut Sparkling (Sonoma...</td>\n",
       "      <td>Pinot Noir</td>\n",
       "      <td>Columbia Crest</td>\n",
       "    </tr>\n",
       "    <tr>\n",
       "      <th>freq</th>\n",
       "      <td>22387</td>\n",
       "      <td>3</td>\n",
       "      <td>809</td>\n",
       "      <td>NaN</td>\n",
       "      <td>NaN</td>\n",
       "      <td>12900</td>\n",
       "      <td>2488</td>\n",
       "      <td>5532</td>\n",
       "      <td>6422</td>\n",
       "      <td>6422</td>\n",
       "      <td>6</td>\n",
       "      <td>4788</td>\n",
       "      <td>157</td>\n",
       "    </tr>\n",
       "    <tr>\n",
       "      <th>mean</th>\n",
       "      <td>NaN</td>\n",
       "      <td>NaN</td>\n",
       "      <td>NaN</td>\n",
       "      <td>89.537812</td>\n",
       "      <td>41.465404</td>\n",
       "      <td>NaN</td>\n",
       "      <td>NaN</td>\n",
       "      <td>NaN</td>\n",
       "      <td>NaN</td>\n",
       "      <td>NaN</td>\n",
       "      <td>NaN</td>\n",
       "      <td>NaN</td>\n",
       "      <td>NaN</td>\n",
       "    </tr>\n",
       "    <tr>\n",
       "      <th>std</th>\n",
       "      <td>NaN</td>\n",
       "      <td>NaN</td>\n",
       "      <td>NaN</td>\n",
       "      <td>2.809306</td>\n",
       "      <td>29.379374</td>\n",
       "      <td>NaN</td>\n",
       "      <td>NaN</td>\n",
       "      <td>NaN</td>\n",
       "      <td>NaN</td>\n",
       "      <td>NaN</td>\n",
       "      <td>NaN</td>\n",
       "      <td>NaN</td>\n",
       "      <td>NaN</td>\n",
       "    </tr>\n",
       "    <tr>\n",
       "      <th>min</th>\n",
       "      <td>NaN</td>\n",
       "      <td>NaN</td>\n",
       "      <td>NaN</td>\n",
       "      <td>80.000000</td>\n",
       "      <td>4.000000</td>\n",
       "      <td>NaN</td>\n",
       "      <td>NaN</td>\n",
       "      <td>NaN</td>\n",
       "      <td>NaN</td>\n",
       "      <td>NaN</td>\n",
       "      <td>NaN</td>\n",
       "      <td>NaN</td>\n",
       "      <td>NaN</td>\n",
       "    </tr>\n",
       "    <tr>\n",
       "      <th>25%</th>\n",
       "      <td>NaN</td>\n",
       "      <td>NaN</td>\n",
       "      <td>NaN</td>\n",
       "      <td>88.000000</td>\n",
       "      <td>25.000000</td>\n",
       "      <td>NaN</td>\n",
       "      <td>NaN</td>\n",
       "      <td>NaN</td>\n",
       "      <td>NaN</td>\n",
       "      <td>NaN</td>\n",
       "      <td>NaN</td>\n",
       "      <td>NaN</td>\n",
       "      <td>NaN</td>\n",
       "    </tr>\n",
       "    <tr>\n",
       "      <th>50%</th>\n",
       "      <td>NaN</td>\n",
       "      <td>NaN</td>\n",
       "      <td>NaN</td>\n",
       "      <td>90.000000</td>\n",
       "      <td>36.000000</td>\n",
       "      <td>NaN</td>\n",
       "      <td>NaN</td>\n",
       "      <td>NaN</td>\n",
       "      <td>NaN</td>\n",
       "      <td>NaN</td>\n",
       "      <td>NaN</td>\n",
       "      <td>NaN</td>\n",
       "      <td>NaN</td>\n",
       "    </tr>\n",
       "    <tr>\n",
       "      <th>75%</th>\n",
       "      <td>NaN</td>\n",
       "      <td>NaN</td>\n",
       "      <td>NaN</td>\n",
       "      <td>92.000000</td>\n",
       "      <td>50.000000</td>\n",
       "      <td>NaN</td>\n",
       "      <td>NaN</td>\n",
       "      <td>NaN</td>\n",
       "      <td>NaN</td>\n",
       "      <td>NaN</td>\n",
       "      <td>NaN</td>\n",
       "      <td>NaN</td>\n",
       "      <td>NaN</td>\n",
       "    </tr>\n",
       "    <tr>\n",
       "      <th>max</th>\n",
       "      <td>NaN</td>\n",
       "      <td>NaN</td>\n",
       "      <td>NaN</td>\n",
       "      <td>100.000000</td>\n",
       "      <td>2013.000000</td>\n",
       "      <td>NaN</td>\n",
       "      <td>NaN</td>\n",
       "      <td>NaN</td>\n",
       "      <td>NaN</td>\n",
       "      <td>NaN</td>\n",
       "      <td>NaN</td>\n",
       "      <td>NaN</td>\n",
       "      <td>NaN</td>\n",
       "    </tr>\n",
       "  </tbody>\n",
       "</table>\n",
       "</div>"
      ],
      "text/plain": [
       "       country                                        description designation  \\\n",
       "count    22387                                              22387       22387   \n",
       "unique       1                                              20491        9515   \n",
       "top         US  Seductively tart in lemon pith, cranberry and ...      Estate   \n",
       "freq     22387                                                  3         809   \n",
       "mean       NaN                                                NaN         NaN   \n",
       "std        NaN                                                NaN         NaN   \n",
       "min        NaN                                                NaN         NaN   \n",
       "25%        NaN                                                NaN         NaN   \n",
       "50%        NaN                                                NaN         NaN   \n",
       "75%        NaN                                                NaN         NaN   \n",
       "max        NaN                                                NaN         NaN   \n",
       "\n",
       "              points         price    province              region_1  \\\n",
       "count   22387.000000  22387.000000       22387                 22387   \n",
       "unique           NaN           NaN           4                   171   \n",
       "top              NaN           NaN  California  Columbia Valley (WA)   \n",
       "freq             NaN           NaN       12900                  2488   \n",
       "mean       89.537812     41.465404         NaN                   NaN   \n",
       "std         2.809306     29.379374         NaN                   NaN   \n",
       "min        80.000000      4.000000         NaN                   NaN   \n",
       "25%        88.000000     25.000000         NaN                   NaN   \n",
       "50%        90.000000     36.000000         NaN                   NaN   \n",
       "75%        92.000000     50.000000         NaN                   NaN   \n",
       "max       100.000000   2013.000000         NaN                   NaN   \n",
       "\n",
       "               region_2     taster_name taster_twitter_handle  \\\n",
       "count             22387           22387                 22387   \n",
       "unique               17              11                    11   \n",
       "top     Columbia Valley  Virginie Boone               @vboone   \n",
       "freq               5532            6422                  6422   \n",
       "mean                NaN             NaN                   NaN   \n",
       "std                 NaN             NaN                   NaN   \n",
       "min                 NaN             NaN                   NaN   \n",
       "25%                 NaN             NaN                   NaN   \n",
       "50%                 NaN             NaN                   NaN   \n",
       "75%                 NaN             NaN                   NaN   \n",
       "max                 NaN             NaN                   NaN   \n",
       "\n",
       "                                                    title     variety  \\\n",
       "count                                               22387       22387   \n",
       "unique                                              20425         183   \n",
       "top     Gloria Ferrer NV Sonoma Brut Sparkling (Sonoma...  Pinot Noir   \n",
       "freq                                                    6        4788   \n",
       "mean                                                  NaN         NaN   \n",
       "std                                                   NaN         NaN   \n",
       "min                                                   NaN         NaN   \n",
       "25%                                                   NaN         NaN   \n",
       "50%                                                   NaN         NaN   \n",
       "75%                                                   NaN         NaN   \n",
       "max                                                   NaN         NaN   \n",
       "\n",
       "                winery  \n",
       "count            22387  \n",
       "unique            2791  \n",
       "top     Columbia Crest  \n",
       "freq               157  \n",
       "mean               NaN  \n",
       "std                NaN  \n",
       "min                NaN  \n",
       "25%                NaN  \n",
       "50%                NaN  \n",
       "75%                NaN  \n",
       "max                NaN  "
      ]
     },
     "execution_count": 44,
     "metadata": {},
     "output_type": "execute_result"
    }
   ],
   "source": [
    "wines.describe(include = 'all')"
   ]
  },
  {
   "cell_type": "code",
   "execution_count": 45,
   "metadata": {},
   "outputs": [
    {
     "data": {
      "text/html": [
       "<div>\n",
       "<style scoped>\n",
       "    .dataframe tbody tr th:only-of-type {\n",
       "        vertical-align: middle;\n",
       "    }\n",
       "\n",
       "    .dataframe tbody tr th {\n",
       "        vertical-align: top;\n",
       "    }\n",
       "\n",
       "    .dataframe thead th {\n",
       "        text-align: right;\n",
       "    }\n",
       "</style>\n",
       "<table border=\"1\" class=\"dataframe\">\n",
       "  <thead>\n",
       "    <tr style=\"text-align: right;\">\n",
       "      <th></th>\n",
       "      <th>points</th>\n",
       "      <th>price</th>\n",
       "    </tr>\n",
       "  </thead>\n",
       "  <tbody>\n",
       "    <tr>\n",
       "      <th>count</th>\n",
       "      <td>22387.000000</td>\n",
       "      <td>22387.000000</td>\n",
       "    </tr>\n",
       "    <tr>\n",
       "      <th>mean</th>\n",
       "      <td>89.537812</td>\n",
       "      <td>41.465404</td>\n",
       "    </tr>\n",
       "    <tr>\n",
       "      <th>std</th>\n",
       "      <td>2.809306</td>\n",
       "      <td>29.379374</td>\n",
       "    </tr>\n",
       "    <tr>\n",
       "      <th>min</th>\n",
       "      <td>80.000000</td>\n",
       "      <td>4.000000</td>\n",
       "    </tr>\n",
       "    <tr>\n",
       "      <th>25%</th>\n",
       "      <td>88.000000</td>\n",
       "      <td>25.000000</td>\n",
       "    </tr>\n",
       "    <tr>\n",
       "      <th>50%</th>\n",
       "      <td>90.000000</td>\n",
       "      <td>36.000000</td>\n",
       "    </tr>\n",
       "    <tr>\n",
       "      <th>75%</th>\n",
       "      <td>92.000000</td>\n",
       "      <td>50.000000</td>\n",
       "    </tr>\n",
       "    <tr>\n",
       "      <th>max</th>\n",
       "      <td>100.000000</td>\n",
       "      <td>2013.000000</td>\n",
       "    </tr>\n",
       "  </tbody>\n",
       "</table>\n",
       "</div>"
      ],
      "text/plain": [
       "             points         price\n",
       "count  22387.000000  22387.000000\n",
       "mean      89.537812     41.465404\n",
       "std        2.809306     29.379374\n",
       "min       80.000000      4.000000\n",
       "25%       88.000000     25.000000\n",
       "50%       90.000000     36.000000\n",
       "75%       92.000000     50.000000\n",
       "max      100.000000   2013.000000"
      ]
     },
     "execution_count": 45,
     "metadata": {},
     "output_type": "execute_result"
    }
   ],
   "source": [
    "wines.describe(include=[np.number])"
   ]
  },
  {
   "cell_type": "code",
   "execution_count": 46,
   "metadata": {},
   "outputs": [
    {
     "data": {
      "text/html": [
       "<div>\n",
       "<style scoped>\n",
       "    .dataframe tbody tr th:only-of-type {\n",
       "        vertical-align: middle;\n",
       "    }\n",
       "\n",
       "    .dataframe tbody tr th {\n",
       "        vertical-align: top;\n",
       "    }\n",
       "\n",
       "    .dataframe thead th {\n",
       "        text-align: right;\n",
       "    }\n",
       "</style>\n",
       "<table border=\"1\" class=\"dataframe\">\n",
       "  <thead>\n",
       "    <tr style=\"text-align: right;\">\n",
       "      <th></th>\n",
       "      <th>country</th>\n",
       "    </tr>\n",
       "  </thead>\n",
       "  <tbody>\n",
       "    <tr>\n",
       "      <th>count</th>\n",
       "      <td>22387</td>\n",
       "    </tr>\n",
       "    <tr>\n",
       "      <th>unique</th>\n",
       "      <td>1</td>\n",
       "    </tr>\n",
       "    <tr>\n",
       "      <th>top</th>\n",
       "      <td>US</td>\n",
       "    </tr>\n",
       "    <tr>\n",
       "      <th>freq</th>\n",
       "      <td>22387</td>\n",
       "    </tr>\n",
       "  </tbody>\n",
       "</table>\n",
       "</div>"
      ],
      "text/plain": [
       "       country\n",
       "count    22387\n",
       "unique       1\n",
       "top         US\n",
       "freq     22387"
      ]
     },
     "execution_count": 46,
     "metadata": {},
     "output_type": "execute_result"
    }
   ],
   "source": [
    "wines.describe(include=[\"category\"])"
   ]
  },
  {
   "cell_type": "code",
   "execution_count": 47,
   "metadata": {},
   "outputs": [
    {
     "data": {
      "text/html": [
       "<div>\n",
       "<style scoped>\n",
       "    .dataframe tbody tr th:only-of-type {\n",
       "        vertical-align: middle;\n",
       "    }\n",
       "\n",
       "    .dataframe tbody tr th {\n",
       "        vertical-align: top;\n",
       "    }\n",
       "\n",
       "    .dataframe thead th {\n",
       "        text-align: right;\n",
       "    }\n",
       "</style>\n",
       "<table border=\"1\" class=\"dataframe\">\n",
       "  <thead>\n",
       "    <tr style=\"text-align: right;\">\n",
       "      <th></th>\n",
       "      <th>description</th>\n",
       "      <th>designation</th>\n",
       "      <th>province</th>\n",
       "      <th>region_1</th>\n",
       "      <th>region_2</th>\n",
       "      <th>taster_name</th>\n",
       "      <th>taster_twitter_handle</th>\n",
       "      <th>title</th>\n",
       "      <th>variety</th>\n",
       "      <th>winery</th>\n",
       "    </tr>\n",
       "  </thead>\n",
       "  <tbody>\n",
       "    <tr>\n",
       "      <th>count</th>\n",
       "      <td>22387</td>\n",
       "      <td>22387</td>\n",
       "      <td>22387</td>\n",
       "      <td>22387</td>\n",
       "      <td>22387</td>\n",
       "      <td>22387</td>\n",
       "      <td>22387</td>\n",
       "      <td>22387</td>\n",
       "      <td>22387</td>\n",
       "      <td>22387</td>\n",
       "    </tr>\n",
       "    <tr>\n",
       "      <th>unique</th>\n",
       "      <td>20491</td>\n",
       "      <td>9515</td>\n",
       "      <td>4</td>\n",
       "      <td>171</td>\n",
       "      <td>17</td>\n",
       "      <td>11</td>\n",
       "      <td>11</td>\n",
       "      <td>20425</td>\n",
       "      <td>183</td>\n",
       "      <td>2791</td>\n",
       "    </tr>\n",
       "    <tr>\n",
       "      <th>top</th>\n",
       "      <td>Seductively tart in lemon pith, cranberry and ...</td>\n",
       "      <td>Estate</td>\n",
       "      <td>California</td>\n",
       "      <td>Columbia Valley (WA)</td>\n",
       "      <td>Columbia Valley</td>\n",
       "      <td>Virginie Boone</td>\n",
       "      <td>@vboone</td>\n",
       "      <td>Gloria Ferrer NV Sonoma Brut Sparkling (Sonoma...</td>\n",
       "      <td>Pinot Noir</td>\n",
       "      <td>Columbia Crest</td>\n",
       "    </tr>\n",
       "    <tr>\n",
       "      <th>freq</th>\n",
       "      <td>3</td>\n",
       "      <td>809</td>\n",
       "      <td>12900</td>\n",
       "      <td>2488</td>\n",
       "      <td>5532</td>\n",
       "      <td>6422</td>\n",
       "      <td>6422</td>\n",
       "      <td>6</td>\n",
       "      <td>4788</td>\n",
       "      <td>157</td>\n",
       "    </tr>\n",
       "  </tbody>\n",
       "</table>\n",
       "</div>"
      ],
      "text/plain": [
       "                                              description designation  \\\n",
       "count                                               22387       22387   \n",
       "unique                                              20491        9515   \n",
       "top     Seductively tart in lemon pith, cranberry and ...      Estate   \n",
       "freq                                                    3         809   \n",
       "\n",
       "          province              region_1         region_2     taster_name  \\\n",
       "count        22387                 22387            22387           22387   \n",
       "unique           4                   171               17              11   \n",
       "top     California  Columbia Valley (WA)  Columbia Valley  Virginie Boone   \n",
       "freq         12900                  2488             5532            6422   \n",
       "\n",
       "       taster_twitter_handle  \\\n",
       "count                  22387   \n",
       "unique                    11   \n",
       "top                  @vboone   \n",
       "freq                    6422   \n",
       "\n",
       "                                                    title     variety  \\\n",
       "count                                               22387       22387   \n",
       "unique                                              20425         183   \n",
       "top     Gloria Ferrer NV Sonoma Brut Sparkling (Sonoma...  Pinot Noir   \n",
       "freq                                                    6        4788   \n",
       "\n",
       "                winery  \n",
       "count            22387  \n",
       "unique            2791  \n",
       "top     Columbia Crest  \n",
       "freq               157  "
      ]
     },
     "execution_count": 47,
     "metadata": {},
     "output_type": "execute_result"
    }
   ],
   "source": [
    "wines.describe(include=[object])"
   ]
  },
  {
   "cell_type": "code",
   "execution_count": 48,
   "metadata": {},
   "outputs": [
    {
     "data": {
      "text/html": [
       "<div>\n",
       "<style scoped>\n",
       "    .dataframe tbody tr th:only-of-type {\n",
       "        vertical-align: middle;\n",
       "    }\n",
       "\n",
       "    .dataframe tbody tr th {\n",
       "        vertical-align: top;\n",
       "    }\n",
       "\n",
       "    .dataframe thead th {\n",
       "        text-align: right;\n",
       "    }\n",
       "</style>\n",
       "<table border=\"1\" class=\"dataframe\">\n",
       "  <thead>\n",
       "    <tr style=\"text-align: right;\">\n",
       "      <th></th>\n",
       "      <th>country</th>\n",
       "      <th>points</th>\n",
       "      <th>price</th>\n",
       "    </tr>\n",
       "  </thead>\n",
       "  <tbody>\n",
       "    <tr>\n",
       "      <th>count</th>\n",
       "      <td>22387</td>\n",
       "      <td>22387.000000</td>\n",
       "      <td>22387.000000</td>\n",
       "    </tr>\n",
       "    <tr>\n",
       "      <th>unique</th>\n",
       "      <td>1</td>\n",
       "      <td>NaN</td>\n",
       "      <td>NaN</td>\n",
       "    </tr>\n",
       "    <tr>\n",
       "      <th>top</th>\n",
       "      <td>US</td>\n",
       "      <td>NaN</td>\n",
       "      <td>NaN</td>\n",
       "    </tr>\n",
       "    <tr>\n",
       "      <th>freq</th>\n",
       "      <td>22387</td>\n",
       "      <td>NaN</td>\n",
       "      <td>NaN</td>\n",
       "    </tr>\n",
       "    <tr>\n",
       "      <th>mean</th>\n",
       "      <td>NaN</td>\n",
       "      <td>89.537812</td>\n",
       "      <td>41.465404</td>\n",
       "    </tr>\n",
       "    <tr>\n",
       "      <th>std</th>\n",
       "      <td>NaN</td>\n",
       "      <td>2.809306</td>\n",
       "      <td>29.379374</td>\n",
       "    </tr>\n",
       "    <tr>\n",
       "      <th>min</th>\n",
       "      <td>NaN</td>\n",
       "      <td>80.000000</td>\n",
       "      <td>4.000000</td>\n",
       "    </tr>\n",
       "    <tr>\n",
       "      <th>25%</th>\n",
       "      <td>NaN</td>\n",
       "      <td>88.000000</td>\n",
       "      <td>25.000000</td>\n",
       "    </tr>\n",
       "    <tr>\n",
       "      <th>50%</th>\n",
       "      <td>NaN</td>\n",
       "      <td>90.000000</td>\n",
       "      <td>36.000000</td>\n",
       "    </tr>\n",
       "    <tr>\n",
       "      <th>75%</th>\n",
       "      <td>NaN</td>\n",
       "      <td>92.000000</td>\n",
       "      <td>50.000000</td>\n",
       "    </tr>\n",
       "    <tr>\n",
       "      <th>max</th>\n",
       "      <td>NaN</td>\n",
       "      <td>100.000000</td>\n",
       "      <td>2013.000000</td>\n",
       "    </tr>\n",
       "  </tbody>\n",
       "</table>\n",
       "</div>"
      ],
      "text/plain": [
       "       country        points         price\n",
       "count    22387  22387.000000  22387.000000\n",
       "unique       1           NaN           NaN\n",
       "top         US           NaN           NaN\n",
       "freq     22387           NaN           NaN\n",
       "mean       NaN     89.537812     41.465404\n",
       "std        NaN      2.809306     29.379374\n",
       "min        NaN     80.000000      4.000000\n",
       "25%        NaN     88.000000     25.000000\n",
       "50%        NaN     90.000000     36.000000\n",
       "75%        NaN     92.000000     50.000000\n",
       "max        NaN    100.000000   2013.000000"
      ]
     },
     "execution_count": 48,
     "metadata": {},
     "output_type": "execute_result"
    }
   ],
   "source": [
    "wines.describe(exclude=[object])"
   ]
  },
  {
   "cell_type": "code",
   "execution_count": 49,
   "metadata": {},
   "outputs": [
    {
     "data": {
      "text/plain": [
       "count                      3\n",
       "mean     2006-09-01 08:00:00\n",
       "min      2000-01-01 00:00:00\n",
       "25%      2004-12-31 12:00:00\n",
       "50%      2010-01-01 00:00:00\n",
       "75%      2010-01-01 00:00:00\n",
       "max      2010-01-01 00:00:00\n",
       "dtype: object"
      ]
     },
     "execution_count": 49,
     "metadata": {},
     "output_type": "execute_result"
    }
   ],
   "source": [
    "s_with_datatime = pd.Series([\n",
    "   np.datetime64(\"2000-01-01\"),\n",
    "   np.datetime64(\"2010-01-01\"),\n",
    "   np.datetime64(\"2010-01-01\")\n",
    "])\n",
    "\n",
    "s_with_datatime.describe(datetime_is_numeric=True)"
   ]
  },
  {
   "cell_type": "code",
   "execution_count": 50,
   "metadata": {
    "collapsed": false,
    "jupyter": {
     "outputs_hidden": false
    },
    "pycharm": {
     "name": "#%%\n"
    }
   },
   "outputs": [
    {
     "name": "stderr",
     "output_type": "stream",
     "text": [
      "<ipython-input-50-02713ee30900>:5: FutureWarning: Treating datetime data as categorical rather than numeric in `.describe` is deprecated and will be removed in a future version of pandas. Specify `datetime_is_numeric=True` to silence this warning and adopt the future behavior now.\n",
      "  s_with_datatime.describe(datetime_is_numeric=False)\n"
     ]
    },
    {
     "data": {
      "text/plain": [
       "count                       3\n",
       "unique                      2\n",
       "top       2010-01-01 00:00:00\n",
       "freq                        2\n",
       "first     2000-01-01 00:00:00\n",
       "last      2010-01-01 00:00:00\n",
       "dtype: object"
      ]
     },
     "execution_count": 50,
     "metadata": {},
     "output_type": "execute_result"
    }
   ],
   "source": [
    "# FutureWarning:\n",
    "# Treating datetime data as categorical rather than\n",
    "# numeric in `.describe` is deprecated and\n",
    "# will be removed in a future version of pandas.\n",
    "s_with_datatime.describe(datetime_is_numeric=False)"
   ]
  },
  {
   "cell_type": "code",
   "execution_count": 51,
   "metadata": {},
   "outputs": [
    {
     "data": {
      "text/plain": [
       "California    12900\n",
       "Washington     5845\n",
       "Oregon         3489\n",
       "New York        153\n",
       "Name: province, dtype: int64"
      ]
     },
     "execution_count": 51,
     "metadata": {},
     "output_type": "execute_result"
    }
   ],
   "source": [
    "# подсчёт количества значений в столбце\n",
    "wines.province.value_counts()"
   ]
  },
  {
   "cell_type": "code",
   "execution_count": 52,
   "metadata": {},
   "outputs": [
    {
     "data": {
      "text/plain": [
       "30.0     1066\n",
       "50.0     1062\n",
       "25.0     1027\n",
       "35.0     1009\n",
       "45.0     1003\n",
       "         ... \n",
       "116.0       1\n",
       "112.0       1\n",
       "300.0       1\n",
       "265.0       1\n",
       "94.0        1\n",
       "Name: price, Length: 146, dtype: int64"
      ]
     },
     "execution_count": 52,
     "metadata": {},
     "output_type": "execute_result"
    }
   ],
   "source": [
    "# подсчёт количества значений в столбце\n",
    "wines.price.value_counts()"
   ]
  }
 ],
 "metadata": {
  "kernelspec": {
   "display_name": "Python [conda env:LevelUp_DataScience] *",
   "language": "python",
   "name": "conda-env-LevelUp_DataScience-py"
  },
  "language_info": {
   "codemirror_mode": {
    "name": "ipython",
    "version": 3
   },
   "file_extension": ".py",
   "mimetype": "text/x-python",
   "name": "python",
   "nbconvert_exporter": "python",
   "pygments_lexer": "ipython3",
   "version": "3.8.3"
  }
 },
 "nbformat": 4,
 "nbformat_minor": 4
}
