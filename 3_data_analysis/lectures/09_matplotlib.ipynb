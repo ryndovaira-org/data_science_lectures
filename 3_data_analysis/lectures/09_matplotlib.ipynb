{
 "cells": [
  {
   "cell_type": "markdown",
   "metadata": {
    "jupyter": {
     "outputs_hidden": true
    }
   },
   "source": [
    "# Пакет `matplotlib`"
   ]
  },
  {
   "cell_type": "markdown",
   "metadata": {},
   "source": [
    "---\n",
    "\n",
    "**Источники:**\n",
    "\n",
    "[Matplotlib](https://ru.wikipedia.org/wiki/Matplotlib)\n",
    "\n",
    "[2. Я новичок. Можно попроще?](https://pyprog.pro/mpl/mpl_types_of_graphs.html)\n",
    "\n",
    "[Типы графиков в matplotlib / plt 3](https://pythonru.com/biblioteki/tipy-grafikov-v-matplotlib-plt3)\n",
    "\n",
    "[50 оттенков matplotlib — The Master Plots (с полным кодом на Python)](https://habr.com/ru/post/468295/)\n",
    "\n",
    "[Data Visualization using Python for Machine Learning and Data science](https://towardsdatascience.com/data-visualization-for-machine-learning-and-data-science-a45178970be7)\n",
    "\n",
    "[User's Guide](https://matplotlib.org/stable/users/index.html)\n",
    "\n",
    "[Usage Guide](https://matplotlib.org/stable/tutorials/introductory/usage.html)\n",
    "\n",
    "[Matplotlib: Научная графика в Python](https://pythonworld.ru/novosti-mira-python/scientific-graphics-in-python.html)\n",
    "\n",
    "[Plotting A Spectrogram Using Python And Matplotlib](https://pythontic.com/visualization/signals/spectrogram)\n",
    "\n",
    "---"
   ]
  },
  {
   "cell_type": "markdown",
   "metadata": {},
   "source": [
    "## Подготовка окружения"
   ]
  },
  {
   "cell_type": "code",
   "execution_count": null,
   "metadata": {
    "collapsed": false,
    "jupyter": {
     "outputs_hidden": false
    },
    "pycharm": {
     "name": "#%%\n"
    }
   },
   "outputs": [],
   "source": [
    "# ВНИМАНИЕ: необходимо удостовериться, что виртуальная среда выбрана правильно!\n",
    "\n",
    "!pip -V"
   ]
  },
  {
   "cell_type": "code",
   "execution_count": null,
   "metadata": {
    "collapsed": false,
    "jupyter": {
     "outputs_hidden": false
    },
    "pycharm": {
     "name": "#%%\n"
    }
   },
   "outputs": [],
   "source": [
    "# !conda install matplotlib numpy scipy -y"
   ]
  },
  {
   "cell_type": "code",
   "execution_count": null,
   "metadata": {
    "collapsed": false,
    "jupyter": {
     "outputs_hidden": false
    },
    "pycharm": {
     "name": "#%%\n"
    }
   },
   "outputs": [],
   "source": [
    "import matplotlib\n",
    "import matplotlib.pyplot as plt\n",
    "\n",
    "matplotlib.__version__"
   ]
  },
  {
   "cell_type": "code",
   "execution_count": null,
   "metadata": {},
   "outputs": [],
   "source": [
    "import numpy as np\n",
    "\n",
    "np.__version__"
   ]
  },
  {
   "cell_type": "markdown",
   "metadata": {},
   "source": [
    "## Обзор пакета `matplotlib`\n",
    "\n",
    "`Matplotlib` — библиотека на языке программирования `Python` для визуализации данных двумерной (`2D`) графикой (`3D` графика также поддерживается). \n",
    "\n",
    "`Matplotlib` является гибким, легко конфигурируемым пакетом, который вместе с `NumPy`, `SciPy` и `IPython` предоставляет возможности, подобные `MATLAB`. \n",
    "\n",
    "Пакет поддерживает многие виды графиков и диаграмм:\n",
    "- Графики (line plot)\n",
    "- Диаграммы разброса (scatter plot)\n",
    "- Столбчатые диаграммы (bar chart)\n",
    "- Гистограммы (histogram)\n",
    "- Круговые диаграммы (pie chart)\n",
    "- Ствол-лист диаграммы (stem plot)\n",
    "- Контурные графики (contour plot)\n",
    "- Поля градиентов (quiver)\n",
    "- Спектральные диаграммы (spectrogram)"
   ]
  },
  {
   "cell_type": "markdown",
   "metadata": {},
   "source": [
    "### Графики (line plot)\n",
    "\n",
    "**Линейный график или просто график** (line chart/ine plot/line graph/curve chart) - это тип графиков, на которой информация отображается в виде серии точек данных, называемых \"маркерами\", соединенных отрезками прямых линий.\n",
    "\n",
    "Это основной тип графиков, распространенный во многих областях.\n",
    "\n",
    "Линейный график часто используется для визуализации тенденции данных за интервалы времени (временного ряда), поэтому линия часто проводится в хронологическом порядке. В этих случаях они известны как run chart.\n",
    "\n",
    "В экспериментальных науках данные, собранные в ходе экспериментов, часто визуализируются в виде графика.\n",
    "\n",
    "[matplotlib.lines.Line2D](https://matplotlib.org/stable/api/_as_gen/matplotlib.lines.Line2D.html#matplotlib.lines.Line2D)"
   ]
  },
  {
   "cell_type": "code",
   "execution_count": null,
   "metadata": {},
   "outputs": [],
   "source": [
    "x = np.linspace(0, 5, 10)\n",
    "plt.plot(x, x, \n",
    "         label='linear',\n",
    "         linestyle='--',\n",
    "         color='green',\n",
    "         linewidth=4, \n",
    "         markersize=15,\n",
    "         marker='*', \n",
    "         markerfacecolor='red',\n",
    "         markeredgecolor='blue',\n",
    "         markeredgewidth=1.5\n",
    "        )"
   ]
  },
  {
   "cell_type": "code",
   "execution_count": null,
   "metadata": {},
   "outputs": [],
   "source": []
  },
  {
   "cell_type": "markdown",
   "metadata": {},
   "source": [
    "### Диаграммы разброса (scatter plot)\n",
    "\n",
    "**Диаграмма рассеяния (также точечная диаграмма, англ. scatter plot)** — математическая диаграмма, изображающая значения двух переменных в виде точек на декартовой плоскости.\n",
    "\n",
    "Могут использоваться и полярные координаты, особенно в случаях, когда одна из переменных представляет собой физическое направление или имеет циклический характер.\n",
    "\n",
    "На **диаграмме рассеяния** каждому наблюдению (или элементарной единице набора данных) соответствует точка, координаты которой равны значениям двух каких-то параметров этого наблюдения.\n",
    "\n",
    "Если предполагается, что один из параметров зависит от другого, то обычно значения независимого параметра откладывается по горизонтальной оси, а значения зависимого — по вертикальной.\n",
    "\n",
    "**Диаграммы рассеяния** используются для демонстрации наличия или отсутствия корреляции (=связи) между двумя переменными.\n",
    "\n",
    "[matplotlib.pyplot.scatter](https://matplotlib.org/stable/api/_as_gen/matplotlib.pyplot.scatter.html#matplotlib.pyplot.scatter)"
   ]
  },
  {
   "cell_type": "code",
   "execution_count": null,
   "metadata": {},
   "outputs": [],
   "source": [
    "N = 50\n",
    "x = np.random.rand(N)\n",
    "y = np.random.rand(N)\n",
    "colors = np.random.rand(N)\n",
    "area = (30 * np.random.rand(N))**2  # 0 to 15 point radii\n",
    "plt.scatter(x, y, \n",
    "            s=area, \n",
    "            c=colors, \n",
    "            alpha=0.5,\n",
    "            linewidths=2,\n",
    "            edgecolors=(0.1, 0.9, 0.5),\n",
    "            marker='P'\n",
    "           )"
   ]
  },
  {
   "cell_type": "code",
   "execution_count": null,
   "metadata": {},
   "outputs": [],
   "source": []
  },
  {
   "cell_type": "markdown",
   "metadata": {},
   "source": [
    "### Столбчатые диаграммы (bar chart)\n",
    "\n",
    "**Столбчатая диаграмма** — диаграмма, представленная прямоугольными зонами (столбцами), высоты или длины которых пропорциональны величинам, которые они отображают.\n",
    "\n",
    "Прямоугольные зоны могут быть расположены вертикально или горизонтально.\n",
    "\n",
    "**Столбчатая диаграмма** отображает сравнение нескольких дискретных категорий. Одна её ось показывает сравниваемые категории, другая — измеримую величину. Иногда столбчатые диаграммы отображают несколько величин для каждой сравниваемой категории.\n",
    "\n",
    "[matplotlib.pyplot.bar](https://matplotlib.org/stable/api/_as_gen/matplotlib.pyplot.bar.html#matplotlib.pyplot.bar)"
   ]
  },
  {
   "cell_type": "code",
   "execution_count": null,
   "metadata": {},
   "outputs": [],
   "source": [
    "langs = ['C', 'C++', 'Java', 'Python', 'PHP']\n",
    "langs_ticks = ['Cool', 'Cool++', 'Java!!!', 'PythonSSS', 'PHP?']\n",
    "\n",
    "students = [23,17,35,29,12]\n",
    "plt.bar(langs, students, \n",
    "        color='m', \n",
    "        width=0.5,\n",
    "        edgecolor='#2ca02c',\n",
    "        linewidth=5,\n",
    "        tick_label=langs_ticks,\n",
    "        alpha=0.7,\n",
    "        hatch=\"O\",\n",
    "        linestyle=\":\"\n",
    "       )"
   ]
  },
  {
   "cell_type": "code",
   "execution_count": null,
   "metadata": {},
   "outputs": [],
   "source": []
  },
  {
   "cell_type": "markdown",
   "metadata": {},
   "source": [
    "### Гистограммы (histogram)\n",
    "\n",
    "[matplotlib.pyplot.hist](https://matplotlib.org/stable/api/_as_gen/matplotlib.pyplot.hist.html)"
   ]
  },
  {
   "cell_type": "code",
   "execution_count": null,
   "metadata": {},
   "outputs": [],
   "source": [
    "N_points = 100000\n",
    "n_bins = 10\n",
    "\n",
    "# Generate a normal distribution, center at x=0\n",
    "x = np.random.randn(N_points)\n",
    "\n",
    "plt.hist(x, \n",
    "         bins=n_bins, \n",
    "         orientation='horizontal',\n",
    "         color='c', \n",
    "         edgecolor='#2ca02c',\n",
    "         linewidth=5,\n",
    "         alpha=0.7,\n",
    "         hatch=\"|\",\n",
    "         linestyle=\":\"\n",
    "        )"
   ]
  },
  {
   "cell_type": "code",
   "execution_count": null,
   "metadata": {},
   "outputs": [],
   "source": []
  },
  {
   "cell_type": "markdown",
   "metadata": {},
   "source": [
    "### Круговые диаграммы (pie chart)\n",
    "\n",
    "[matplotlib.pyplot.pie](https://matplotlib.org/stable/api/_as_gen/matplotlib.pyplot.pie.html)"
   ]
  },
  {
   "cell_type": "code",
   "execution_count": null,
   "metadata": {},
   "outputs": [],
   "source": [
    "labels = 'Frogs', 'Cats', 'Dogs', 'Birds'\n",
    "sizes = [15, 30, 45, 10]\n",
    "explode = (0, 0.1, 0, 0)\n",
    "colors = ['green', 'orange', 'blue', 'yellow']\n",
    "\n",
    "fig1, ax1 = plt.subplots()\n",
    "plt.pie(sizes, \n",
    "        explode=explode, \n",
    "        labels=labels, \n",
    "        autopct='%1.1f%%',\n",
    "        shadow=True, \n",
    "        startangle=90,\n",
    "        colors=colors,\n",
    "        radius=2,\n",
    "        textprops={'fontsize': 20}\n",
    "       )"
   ]
  },
  {
   "cell_type": "code",
   "execution_count": null,
   "metadata": {},
   "outputs": [],
   "source": []
  },
  {
   "cell_type": "markdown",
   "metadata": {},
   "source": [
    "### Ствол-лист диаграммы (stem plot)\n",
    "\n",
    "[matplotlib.pyplot.stem](https://matplotlib.org/3.3.4/api/_as_gen/matplotlib.pyplot.stem.html)"
   ]
  },
  {
   "cell_type": "code",
   "execution_count": null,
   "metadata": {},
   "outputs": [],
   "source": [
    "x = np.linspace(0.1, 2 * np.pi, 41)\n",
    "y = np.exp(np.sin(x))\n",
    "\n",
    "plt.stem(x, y,\n",
    "         linefmt=\"m-.\",\n",
    "         markerfmt=\"g^\",\n",
    "         basefmt='y:',\n",
    "         bottom=1.1\n",
    "        )"
   ]
  },
  {
   "cell_type": "code",
   "execution_count": null,
   "metadata": {},
   "outputs": [],
   "source": []
  },
  {
   "cell_type": "markdown",
   "metadata": {},
   "source": [
    "### Контурные графики (contour plot)\n",
    "\n",
    "[matplotlib.pyplot.contour](https://matplotlib.org/stable/api/_as_gen/matplotlib.pyplot.contour.html)"
   ]
  },
  {
   "cell_type": "code",
   "execution_count": null,
   "metadata": {},
   "outputs": [],
   "source": [
    "x = np.arange(1, 10)\n",
    "y = x.reshape(-1, 1)\n",
    "h = x * y\n",
    "\n",
    "display(h)\n",
    "\n",
    "plt.contourf(h, \n",
    "             levels=[10, 30, 50],\n",
    "             extend='both',\n",
    "             cmap=plt.get_cmap('Spectral'),\n",
    "             alpha=0.5\n",
    "            )"
   ]
  },
  {
   "cell_type": "code",
   "execution_count": null,
   "metadata": {},
   "outputs": [],
   "source": []
  },
  {
   "cell_type": "markdown",
   "metadata": {},
   "source": [
    "### *Поля градиентов / Колчан (quiver)\n",
    "\n",
    "В математике **колчан** — это ориентированный граф, в котором допускаются циклы и множественные стрелки между двумя вершинами, то есть мультиграф.\n",
    "\n",
    "Они обычно используются в теории представлений: представление `V` колчана назначает векторное пространство `V(x)` каждой вершине `x` колчана и линейное отображение `V(a)` каждой стрелке `a`.\n",
    "\n",
    "[matplotlib.pyplot.quiver](https://matplotlib.org/stable/api/_as_gen/matplotlib.pyplot.quiver.html)\n",
    "\n",
    "[numpy.meshgrid](https://numpy.org/doc/stable/reference/generated/numpy.meshgrid.html#numpy.meshgrid)"
   ]
  },
  {
   "cell_type": "code",
   "execution_count": null,
   "metadata": {},
   "outputs": [],
   "source": [
    "X, Y = np.meshgrid(np.arange(0, 2 * np.pi, .2), np.arange(0, 2 * np.pi, .2))\n",
    "U = np.cos(X)\n",
    "# V = np.sin(Y)\n",
    "\n",
    "plt.quiver(X, Y, U, # V, \n",
    "           pivot=\"tip\",\n",
    "           cmap=plt.get_cmap('viridis'),\n",
    "           units='x',\n",
    "           scale=1 / 0.15\n",
    "          )"
   ]
  },
  {
   "cell_type": "markdown",
   "metadata": {},
   "source": [
    "### *Спектральные диаграммы / Спектрограмма (spectrogram)\n",
    "\n",
    "**Спектрогра́мма (соногра́мма)** — изображение, показывающее зависимость спектральной плотности мощности сигнала от времени.\n",
    "\n",
    "**Спектрограммы** применяются для идентификации речи, анализа звуков животных, в различных областях музыки, радио- и гидролокации, обработке речи, сейсмологии и в других областях.\n",
    "\n",
    "Наиболее распространенным представлением **спектрограммы** является двумерная диаграмма:\n",
    "- на горизонтальной оси представлено время\n",
    "- по вертикальной оси — частота\n",
    "- третье измерение с указанием амплитуды на определенной частоте в конкретный момент времени представлено интенсивностью или цветом каждой точки изображения.\n",
    "\n",
    "\n",
    "[matplotlib.pyplot.specgram](https://matplotlib.org/3.3.4/api/_as_gen/matplotlib.pyplot.specgram.html)"
   ]
  },
  {
   "cell_type": "code",
   "execution_count": null,
   "metadata": {},
   "outputs": [],
   "source": [
    "from scipy.io import wavfile\n",
    "\n",
    "wav_path = \"./../../data/pcm1608m.wav\"\n",
    "sample_rate, data = wavfile.read(wav_path)\n",
    "\n",
    "sample_rate, data"
   ]
  },
  {
   "cell_type": "code",
   "execution_count": null,
   "metadata": {},
   "outputs": [],
   "source": [
    "plt.plot(data)"
   ]
  },
  {
   "cell_type": "code",
   "execution_count": null,
   "metadata": {},
   "outputs": [],
   "source": [
    "spectrum, freqs, t, im  = plt.specgram(data, \n",
    "                                       Fs=sample_rate,\n",
    "                                       mode='psd',\n",
    "                                       cmap=plt.get_cmap('winter')\n",
    "                                      )"
   ]
  },
  {
   "cell_type": "code",
   "execution_count": null,
   "metadata": {},
   "outputs": [],
   "source": [
    "spectrum, freqs, t, im  = plt.specgram(data, \n",
    "                                       Fs=sample_rate,\n",
    "                                       mode='phase',\n",
    "                                       cmap=plt.get_cmap('seismic')\n",
    "                                      )"
   ]
  },
  {
   "cell_type": "code",
   "execution_count": null,
   "metadata": {},
   "outputs": [],
   "source": [
    "spectrum, freqs, t, im  = plt.specgram(data, \n",
    "                                       Fs=sample_rate,\n",
    "                                       mode='angle',\n",
    "                                       cmap=plt.get_cmap('bwr')\n",
    "                                      )"
   ]
  },
  {
   "cell_type": "markdown",
   "metadata": {},
   "source": [
    "## Основные элементы фигуры (Parts of a Figure)\n"
   ]
  },
  {
   "cell_type": "code",
   "execution_count": null,
   "metadata": {},
   "outputs": [],
   "source": []
  },
  {
   "cell_type": "markdown",
   "metadata": {},
   "source": [
    "### Цвет\n",
    "\n",
    "[matplotlib.colors](https://matplotlib.org/stable/api/colors_api.html?highlight=colors#module-matplotlib.colors)"
   ]
  },
  {
   "cell_type": "markdown",
   "metadata": {},
   "source": [
    "### Стили линий\n",
    "\n",
    "[Linestyles](https://matplotlib.org/stable/gallery/lines_bars_and_markers/linestyles.html?highlight=linestyle)"
   ]
  },
  {
   "cell_type": "markdown",
   "metadata": {},
   "source": [
    "### Иерархическая структура рисунка в matplotlib"
   ]
  },
  {
   "cell_type": "code",
   "execution_count": null,
   "metadata": {},
   "outputs": [],
   "source": []
  },
  {
   "cell_type": "markdown",
   "metadata": {},
   "source": [
    "## Объектно-ориентированный интерфейс и интерфейс pyplot\n",
    "\n",
    "Существуют несколько основных способов использования `Matplotlib`:\n",
    "- Положиться на `pyplot` для автоматического создания фигур (`figures`) и осей (`axes`), и управления ими, а также использовать функции `pyplot` для построения графиков (\"**`pyplot`-стиль**\").\n",
    "- Явно создать фигуры (`figures`) и оси (`axes`), и вызывать их методы (\"**объектно-ориентированный (ОО) стиль**\").\n",
    "- *Подход для случая, когда `Matplotlib` встраивается в приложение с графическим интерфейсом (GUI), которое полностью отбрасывает вариант с `pyplot` даже для создания фигур.\n",
    "\n",
    "\n",
    "В документации и примерах `Matplotlib` используются как **ОО-стиль**, так и **`pyplot`-стиль** (которые одинаково эффективны), и можно свободно использовать любой из них (однако, *желательно выбрать один из них и придерживаться его, а не смешивать их*).\n",
    "\n",
    "В общем, рекомендуется использовать **`pyplot`-стиль при интерактивном построением графиков (например, в записной книжке `Jupyter`)** и предпочесть **объектно-ориентированный стиль для неинтерактивного построения графиков (в функциях и скриптах, которые предназначены для повторного использования как часть более крупного проекта)**. "
   ]
  },
  {
   "cell_type": "markdown",
   "metadata": {},
   "source": [
    "### `Pyplot`-стиль(pyplot-style)"
   ]
  },
  {
   "cell_type": "code",
   "execution_count": null,
   "metadata": {},
   "outputs": [],
   "source": [
    "x = np.linspace(0, 2, 100)\n",
    "\n",
    "plt.plot(x, x, label='linear')  # Plot some data on the (implicit) axes.\n",
    "plt.plot(x, x**2, label='quadratic')  # etc.\n",
    "plt.plot(x, x**3, label='cubic')\n",
    "plt.xlabel('x label')\n",
    "plt.ylabel('y label')\n",
    "plt.title(\"Simple Plot\")\n",
    "plt.legend()"
   ]
  },
  {
   "cell_type": "markdown",
   "metadata": {},
   "source": [
    "### ОО-стиль (OO-style)"
   ]
  },
  {
   "cell_type": "code",
   "execution_count": null,
   "metadata": {},
   "outputs": [],
   "source": [
    "x = np.linspace(0, 2, 100)\n",
    "\n",
    "# Note that even in the OO-style, we use `.pyplot.figure` to create the figure.\n",
    "fig, ax = plt.subplots()  # Create a figure and an axes.\n",
    "ax.plot(x, x, label='linear')  # Plot some data on the axes.\n",
    "ax.plot(x, x**2, label='quadratic')  # Plot more data on the axes...\n",
    "ax.plot(x, x**3, label='cubic')  # ... and some more.\n",
    "ax.set_xlabel('x label')  # Add an x-label to the axes.\n",
    "ax.set_ylabel('y label')  # Add a y-label to the axes.\n",
    "ax.set_title(\"Simple Plot\")  # Add a title to the axes.\n",
    "ax.legend()  # Add a legend."
   ]
  },
  {
   "cell_type": "markdown",
   "metadata": {},
   "source": [
    "Обычно приходится строить одни и те же графики снова и снова, но с разными наборами данных, что приводит к необходимости писать специализированные функции для построения графиков.\n",
    "\n",
    "Рекомендуемая (официальная документация) сигнатура функции выглядит примерно так:"
   ]
  },
  {
   "cell_type": "code",
   "execution_count": null,
   "metadata": {},
   "outputs": [],
   "source": [
    "def my_plotter(ax, data1, data2, param_dict):\n",
    "    \"\"\"\n",
    "    A helper function to make a graph\n",
    "\n",
    "    Parameters\n",
    "    ----------\n",
    "    ax : Axes\n",
    "        The axes to draw to\n",
    "\n",
    "    data1 : array\n",
    "       The x data\n",
    "\n",
    "    data2 : array\n",
    "       The y data\n",
    "\n",
    "    param_dict : dict\n",
    "       Dictionary of kwargs to pass to ax.plot\n",
    "\n",
    "    Returns\n",
    "    -------\n",
    "    out : list\n",
    "        list of artists added\n",
    "    \"\"\"\n",
    "    out = ax.plot(data1, data2, **param_dict)\n",
    "    return out"
   ]
  },
  {
   "cell_type": "code",
   "execution_count": null,
   "metadata": {},
   "outputs": [],
   "source": [
    "data1, data2, data3, data4 = np.random.randn(4, 100)\n",
    "fig, ax = plt.subplots(1, 1)\n",
    "my_plotter(ax, data1, data2, {'marker': 'x'})"
   ]
  },
  {
   "cell_type": "markdown",
   "metadata": {},
   "source": [
    "или если нужно 2 графика:"
   ]
  },
  {
   "cell_type": "code",
   "execution_count": null,
   "metadata": {},
   "outputs": [],
   "source": [
    "fig, (ax1, ax2) = plt.subplots(1, 2)\n",
    "my_plotter(ax1, data1, data2, {'marker': 'x'})\n",
    "my_plotter(ax2, data3, data4, {'marker': 'o'})"
   ]
  },
  {
   "cell_type": "markdown",
   "metadata": {},
   "source": [
    "Для этих простых примеров этот стиль кажется излишним, однако, как только графики становятся немного более сложными, это окупается."
   ]
  },
  {
   "cell_type": "markdown",
   "metadata": {},
   "source": [
    "## 3D-графики"
   ]
  },
  {
   "cell_type": "code",
   "execution_count": null,
   "metadata": {},
   "outputs": [],
   "source": []
  },
  {
   "cell_type": "code",
   "execution_count": null,
   "metadata": {},
   "outputs": [],
   "source": []
  },
  {
   "cell_type": "code",
   "execution_count": null,
   "metadata": {},
   "outputs": [],
   "source": []
  },
  {
   "cell_type": "markdown",
   "metadata": {},
   "source": [
    "## Рекомендации по использованию различных типов графиков"
   ]
  },
  {
   "cell_type": "code",
   "execution_count": null,
   "metadata": {},
   "outputs": [],
   "source": []
  }
 ],
 "metadata": {
  "kernelspec": {
   "display_name": "Python [conda env:LevelUp_DataScience] *",
   "language": "python",
   "name": "conda-env-LevelUp_DataScience-py"
  },
  "language_info": {
   "codemirror_mode": {
    "name": "ipython",
    "version": 3
   },
   "file_extension": ".py",
   "mimetype": "text/x-python",
   "name": "python",
   "nbconvert_exporter": "python",
   "pygments_lexer": "ipython3",
   "version": "3.8.5"
  },
  "toc-autonumbering": true
 },
 "nbformat": 4,
 "nbformat_minor": 4
}
