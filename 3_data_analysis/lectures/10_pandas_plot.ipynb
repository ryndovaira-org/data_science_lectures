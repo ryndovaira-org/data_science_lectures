{
 "cells": [
  {
   "cell_type": "markdown",
   "metadata": {},
   "source": [
    "# Пакет `pandas`: визуализация данных"
   ]
  },
  {
   "cell_type": "markdown",
   "metadata": {},
   "source": [
    "---\n",
    "\n",
    "**Источники:**\n",
    "\n",
    "[Visualization](https://pandas.pydata.org/pandas-docs/stable/user_guide/visualization.html)\n",
    "\n",
    "[Визуализируйте данные машинного обучения в Python с помощью Pandas](https://www.machinelearningmastery.ru/visualize-machine-learning-data-python-pandas/)\n",
    "\n",
    "[Как визуализировать данные: типы графиков](https://netology.ru/blog/typy-grafikov)\n",
    "\n",
    "[Data Visualization: How to Choose the Right Chart and Graph for Your Data](https://365datascience.com/trending/chart-types-and-how-to-select-the-right-one/)\n",
    "\n",
    "[The Indispensable Guide to Chart Design and Data Visualization—Part 1](https://www.zapbi.com/blogs/chart_design_data_visualization_part_1/)\n",
    "    \n",
    "---"
   ]
  },
  {
   "cell_type": "code",
   "execution_count": 1,
   "metadata": {
    "collapsed": false,
    "jupyter": {
     "outputs_hidden": false
    },
    "pycharm": {
     "name": "#%%\n"
    }
   },
   "outputs": [
    {
     "name": "stdout",
     "output_type": "stream",
     "text": [
      "pip 20.3.3 from /home/ira/anaconda3/envs/LevelUp_DataScience/lib/python3.8/site-packages/pip (python 3.8)\n"
     ]
    }
   ],
   "source": [
    "# ВНИМАНИЕ: необходимо удостовериться, что виртуальная среда выбрана правильно!\n",
    "\n",
    "!pip -V"
   ]
  },
  {
   "cell_type": "code",
   "execution_count": 2,
   "metadata": {
    "collapsed": false,
    "jupyter": {
     "outputs_hidden": false
    },
    "pycharm": {
     "name": "#%%\n"
    }
   },
   "outputs": [],
   "source": [
    "# !conda install pandas matplotlib numpy -y"
   ]
  },
  {
   "cell_type": "code",
   "execution_count": 3,
   "metadata": {
    "collapsed": false,
    "jupyter": {
     "outputs_hidden": false
    },
    "pycharm": {
     "name": "#%%\n"
    }
   },
   "outputs": [
    {
     "data": {
      "text/plain": [
       "'1.2.2'"
      ]
     },
     "execution_count": 3,
     "metadata": {},
     "output_type": "execute_result"
    }
   ],
   "source": [
    "import pandas as pd\n",
    "\n",
    "pd.__version__"
   ]
  },
  {
   "cell_type": "code",
   "execution_count": 4,
   "metadata": {},
   "outputs": [
    {
     "data": {
      "text/plain": [
       "'3.3.4'"
      ]
     },
     "execution_count": 4,
     "metadata": {},
     "output_type": "execute_result"
    }
   ],
   "source": [
    "import matplotlib\n",
    "import matplotlib.pyplot as plt\n",
    "\n",
    "matplotlib.__version__"
   ]
  },
  {
   "cell_type": "markdown",
   "metadata": {
    "pycharm": {
     "name": "#%% md\n"
    }
   },
   "source": [
    "## Загрузка данных\n",
    "\n",
    "Для примера возьмем [данные (data set) Gapminder World](https://www.kaggle.com/tklimonova/gapminder-datacamp-2007)."
   ]
  },
  {
   "cell_type": "code",
   "execution_count": 5,
   "metadata": {
    "collapsed": false,
    "jupyter": {
     "outputs_hidden": false
    },
    "pycharm": {
     "name": "#%%\n"
    }
   },
   "outputs": [
    {
     "data": {
      "text/html": [
       "<div>\n",
       "<style scoped>\n",
       "    .dataframe tbody tr th:only-of-type {\n",
       "        vertical-align: middle;\n",
       "    }\n",
       "\n",
       "    .dataframe tbody tr th {\n",
       "        vertical-align: top;\n",
       "    }\n",
       "\n",
       "    .dataframe thead th {\n",
       "        text-align: right;\n",
       "    }\n",
       "</style>\n",
       "<table border=\"1\" class=\"dataframe\">\n",
       "  <thead>\n",
       "    <tr style=\"text-align: right;\">\n",
       "      <th></th>\n",
       "      <th>country</th>\n",
       "      <th>year</th>\n",
       "      <th>population</th>\n",
       "      <th>continent</th>\n",
       "      <th>life_exp</th>\n",
       "      <th>gdp_cap</th>\n",
       "    </tr>\n",
       "  </thead>\n",
       "  <tbody>\n",
       "    <tr>\n",
       "      <th>0</th>\n",
       "      <td>Afghanistan</td>\n",
       "      <td>1952</td>\n",
       "      <td>8425333</td>\n",
       "      <td>Asia</td>\n",
       "      <td>28.80</td>\n",
       "      <td>779.45</td>\n",
       "    </tr>\n",
       "    <tr>\n",
       "      <th>1</th>\n",
       "      <td>Afghanistan</td>\n",
       "      <td>1957</td>\n",
       "      <td>9240934</td>\n",
       "      <td>Asia</td>\n",
       "      <td>30.33</td>\n",
       "      <td>820.85</td>\n",
       "    </tr>\n",
       "    <tr>\n",
       "      <th>2</th>\n",
       "      <td>Afghanistan</td>\n",
       "      <td>1962</td>\n",
       "      <td>10267083</td>\n",
       "      <td>Asia</td>\n",
       "      <td>32.00</td>\n",
       "      <td>853.10</td>\n",
       "    </tr>\n",
       "    <tr>\n",
       "      <th>3</th>\n",
       "      <td>Afghanistan</td>\n",
       "      <td>1967</td>\n",
       "      <td>11537966</td>\n",
       "      <td>Asia</td>\n",
       "      <td>34.02</td>\n",
       "      <td>836.20</td>\n",
       "    </tr>\n",
       "    <tr>\n",
       "      <th>4</th>\n",
       "      <td>Afghanistan</td>\n",
       "      <td>1972</td>\n",
       "      <td>13079460</td>\n",
       "      <td>Asia</td>\n",
       "      <td>36.09</td>\n",
       "      <td>739.98</td>\n",
       "    </tr>\n",
       "    <tr>\n",
       "      <th>...</th>\n",
       "      <td>...</td>\n",
       "      <td>...</td>\n",
       "      <td>...</td>\n",
       "      <td>...</td>\n",
       "      <td>...</td>\n",
       "      <td>...</td>\n",
       "    </tr>\n",
       "    <tr>\n",
       "      <th>1699</th>\n",
       "      <td>Zimbabwe</td>\n",
       "      <td>1987</td>\n",
       "      <td>9216418</td>\n",
       "      <td>Africa</td>\n",
       "      <td>62.35</td>\n",
       "      <td>706.16</td>\n",
       "    </tr>\n",
       "    <tr>\n",
       "      <th>1700</th>\n",
       "      <td>Zimbabwe</td>\n",
       "      <td>1992</td>\n",
       "      <td>10704340</td>\n",
       "      <td>Africa</td>\n",
       "      <td>60.38</td>\n",
       "      <td>693.42</td>\n",
       "    </tr>\n",
       "    <tr>\n",
       "      <th>1701</th>\n",
       "      <td>Zimbabwe</td>\n",
       "      <td>1997</td>\n",
       "      <td>11404948</td>\n",
       "      <td>Africa</td>\n",
       "      <td>46.81</td>\n",
       "      <td>792.45</td>\n",
       "    </tr>\n",
       "    <tr>\n",
       "      <th>1702</th>\n",
       "      <td>Zimbabwe</td>\n",
       "      <td>2002</td>\n",
       "      <td>11926563</td>\n",
       "      <td>Africa</td>\n",
       "      <td>39.99</td>\n",
       "      <td>672.04</td>\n",
       "    </tr>\n",
       "    <tr>\n",
       "      <th>1703</th>\n",
       "      <td>Zimbabwe</td>\n",
       "      <td>2007</td>\n",
       "      <td>12311143</td>\n",
       "      <td>Africa</td>\n",
       "      <td>43.49</td>\n",
       "      <td>469.71</td>\n",
       "    </tr>\n",
       "  </tbody>\n",
       "</table>\n",
       "<p>1704 rows × 6 columns</p>\n",
       "</div>"
      ],
      "text/plain": [
       "          country  year  population continent  life_exp  gdp_cap\n",
       "0     Afghanistan  1952     8425333      Asia     28.80   779.45\n",
       "1     Afghanistan  1957     9240934      Asia     30.33   820.85\n",
       "2     Afghanistan  1962    10267083      Asia     32.00   853.10\n",
       "3     Afghanistan  1967    11537966      Asia     34.02   836.20\n",
       "4     Afghanistan  1972    13079460      Asia     36.09   739.98\n",
       "...           ...   ...         ...       ...       ...      ...\n",
       "1699     Zimbabwe  1987     9216418    Africa     62.35   706.16\n",
       "1700     Zimbabwe  1992    10704340    Africa     60.38   693.42\n",
       "1701     Zimbabwe  1997    11404948    Africa     46.81   792.45\n",
       "1702     Zimbabwe  2002    11926563    Africa     39.99   672.04\n",
       "1703     Zimbabwe  2007    12311143    Africa     43.49   469.71\n",
       "\n",
       "[1704 rows x 6 columns]"
      ]
     },
     "execution_count": 5,
     "metadata": {},
     "output_type": "execute_result"
    }
   ],
   "source": [
    "df = pd.read_csv('./../../data/gapminder_full.csv')\n",
    "\n",
    "# показать все колонки\n",
    "pd.options.display.max_columns = None\n",
    "\n",
    "# изменить формат отображения с помощью средства форматирования\n",
    "# (float без E, а 2 знаков после запятой)\n",
    "# (для удобства чтения)\n",
    "pd.options.display.float_format = '{:.2f}'.format\n",
    "\n",
    "# отобразить первые 5 и последние 5 строк\n",
    "df"
   ]
  },
  {
   "cell_type": "code",
   "execution_count": 6,
   "metadata": {},
   "outputs": [
    {
     "data": {
      "text/plain": [
       "array(['Afghanistan', 'Albania', 'Algeria', 'Angola', 'Argentina',\n",
       "       'Australia', 'Austria', 'Bahrain', 'Bangladesh', 'Belgium',\n",
       "       'Benin', 'Bolivia', 'Bosnia and Herzegovina', 'Botswana', 'Brazil',\n",
       "       'Bulgaria', 'Burkina Faso', 'Burundi', 'Cambodia', 'Cameroon',\n",
       "       'Canada', 'Central African Republic', 'Chad', 'Chile', 'China',\n",
       "       'Colombia', 'Comoros', 'Congo, Dem. Rep.', 'Congo, Rep.',\n",
       "       'Costa Rica', \"Cote d'Ivoire\", 'Croatia', 'Cuba', 'Czech Republic',\n",
       "       'Denmark', 'Djibouti', 'Dominican Republic', 'Ecuador', 'Egypt',\n",
       "       'El Salvador', 'Equatorial Guinea', 'Eritrea', 'Ethiopia',\n",
       "       'Finland', 'France', 'Gabon', 'Gambia', 'Germany', 'Ghana',\n",
       "       'Greece', 'Guatemala', 'Guinea', 'Guinea-Bissau', 'Haiti',\n",
       "       'Honduras', 'Hong Kong, China', 'Hungary', 'Iceland', 'India',\n",
       "       'Indonesia', 'Iran', 'Iraq', 'Ireland', 'Israel', 'Italy',\n",
       "       'Jamaica', 'Japan', 'Jordan', 'Kenya', 'Korea, Dem. Rep.',\n",
       "       'Korea, Rep.', 'Kuwait', 'Lebanon', 'Lesotho', 'Liberia', 'Libya',\n",
       "       'Madagascar', 'Malawi', 'Malaysia', 'Mali', 'Mauritania',\n",
       "       'Mauritius', 'Mexico', 'Mongolia', 'Montenegro', 'Morocco',\n",
       "       'Mozambique', 'Myanmar', 'Namibia', 'Nepal', 'Netherlands',\n",
       "       'New Zealand', 'Nicaragua', 'Niger', 'Nigeria', 'Norway', 'Oman',\n",
       "       'Pakistan', 'Panama', 'Paraguay', 'Peru', 'Philippines', 'Poland',\n",
       "       'Portugal', 'Puerto Rico', 'Reunion', 'Romania', 'Rwanda',\n",
       "       'Sao Tome and Principe', 'Saudi Arabia', 'Senegal', 'Serbia',\n",
       "       'Sierra Leone', 'Singapore', 'Slovak Republic', 'Slovenia',\n",
       "       'Somalia', 'South Africa', 'Spain', 'Sri Lanka', 'Sudan',\n",
       "       'Swaziland', 'Sweden', 'Switzerland', 'Syria', 'Taiwan',\n",
       "       'Tanzania', 'Thailand', 'Togo', 'Trinidad and Tobago', 'Tunisia',\n",
       "       'Turkey', 'Uganda', 'United Kingdom', 'United States', 'Uruguay',\n",
       "       'Venezuela', 'Vietnam', 'West Bank and Gaza', 'Yemen, Rep.',\n",
       "       'Zambia', 'Zimbabwe'], dtype=object)"
      ]
     },
     "execution_count": 6,
     "metadata": {},
     "output_type": "execute_result"
    }
   ],
   "source": [
    "df.country.unique()"
   ]
  },
  {
   "cell_type": "code",
   "execution_count": 7,
   "metadata": {},
   "outputs": [
    {
     "data": {
      "text/html": [
       "<div>\n",
       "<style scoped>\n",
       "    .dataframe tbody tr th:only-of-type {\n",
       "        vertical-align: middle;\n",
       "    }\n",
       "\n",
       "    .dataframe tbody tr th {\n",
       "        vertical-align: top;\n",
       "    }\n",
       "\n",
       "    .dataframe thead th {\n",
       "        text-align: right;\n",
       "    }\n",
       "</style>\n",
       "<table border=\"1\" class=\"dataframe\">\n",
       "  <thead>\n",
       "    <tr style=\"text-align: right;\">\n",
       "      <th></th>\n",
       "      <th>year</th>\n",
       "      <th>population</th>\n",
       "      <th>life_exp</th>\n",
       "      <th>gdp_cap</th>\n",
       "    </tr>\n",
       "    <tr>\n",
       "      <th>continent</th>\n",
       "      <th></th>\n",
       "      <th></th>\n",
       "      <th></th>\n",
       "      <th></th>\n",
       "    </tr>\n",
       "  </thead>\n",
       "  <tbody>\n",
       "    <tr>\n",
       "      <th>Oceania</th>\n",
       "      <td>1979.50</td>\n",
       "      <td>8874672.33</td>\n",
       "      <td>74.33</td>\n",
       "      <td>18621.61</td>\n",
       "    </tr>\n",
       "    <tr>\n",
       "      <th>Europe</th>\n",
       "      <td>1979.50</td>\n",
       "      <td>17169764.73</td>\n",
       "      <td>71.90</td>\n",
       "      <td>14469.48</td>\n",
       "    </tr>\n",
       "    <tr>\n",
       "      <th>Americas</th>\n",
       "      <td>1979.50</td>\n",
       "      <td>24504795.00</td>\n",
       "      <td>64.66</td>\n",
       "      <td>7136.11</td>\n",
       "    </tr>\n",
       "    <tr>\n",
       "      <th>Asia</th>\n",
       "      <td>1979.50</td>\n",
       "      <td>77038721.97</td>\n",
       "      <td>60.06</td>\n",
       "      <td>7902.15</td>\n",
       "    </tr>\n",
       "    <tr>\n",
       "      <th>Africa</th>\n",
       "      <td>1979.50</td>\n",
       "      <td>9916003.14</td>\n",
       "      <td>48.87</td>\n",
       "      <td>2193.75</td>\n",
       "    </tr>\n",
       "  </tbody>\n",
       "</table>\n",
       "</div>"
      ],
      "text/plain": [
       "             year  population  life_exp  gdp_cap\n",
       "continent                                       \n",
       "Oceania   1979.50  8874672.33     74.33 18621.61\n",
       "Europe    1979.50 17169764.73     71.90 14469.48\n",
       "Americas  1979.50 24504795.00     64.66  7136.11\n",
       "Asia      1979.50 77038721.97     60.06  7902.15\n",
       "Africa    1979.50  9916003.14     48.87  2193.75"
      ]
     },
     "execution_count": 7,
     "metadata": {},
     "output_type": "execute_result"
    }
   ],
   "source": [
    "df_mean_by_continent = df.groupby(by=[\"continent\"]).mean().sort_values(by='life_exp', \n",
    "                                                                       ascending=False)\n",
    "df_mean_by_continent"
   ]
  },
  {
   "cell_type": "code",
   "execution_count": 8,
   "metadata": {},
   "outputs": [
    {
     "data": {
      "text/html": [
       "<div>\n",
       "<style scoped>\n",
       "    .dataframe tbody tr th:only-of-type {\n",
       "        vertical-align: middle;\n",
       "    }\n",
       "\n",
       "    .dataframe tbody tr th {\n",
       "        vertical-align: top;\n",
       "    }\n",
       "\n",
       "    .dataframe thead th {\n",
       "        text-align: right;\n",
       "    }\n",
       "</style>\n",
       "<table border=\"1\" class=\"dataframe\">\n",
       "  <thead>\n",
       "    <tr style=\"text-align: right;\">\n",
       "      <th></th>\n",
       "      <th>population</th>\n",
       "      <th>life_exp</th>\n",
       "      <th>gdp_cap</th>\n",
       "    </tr>\n",
       "    <tr>\n",
       "      <th>year</th>\n",
       "      <th></th>\n",
       "      <th></th>\n",
       "      <th></th>\n",
       "    </tr>\n",
       "  </thead>\n",
       "  <tbody>\n",
       "    <tr>\n",
       "      <th>1952</th>\n",
       "      <td>42459667</td>\n",
       "      <td>67.41</td>\n",
       "      <td>7029.81</td>\n",
       "    </tr>\n",
       "    <tr>\n",
       "      <th>1957</th>\n",
       "      <td>44310863</td>\n",
       "      <td>68.93</td>\n",
       "      <td>8662.83</td>\n",
       "    </tr>\n",
       "    <tr>\n",
       "      <th>1962</th>\n",
       "      <td>47124000</td>\n",
       "      <td>70.51</td>\n",
       "      <td>10560.49</td>\n",
       "    </tr>\n",
       "    <tr>\n",
       "      <th>1967</th>\n",
       "      <td>49569000</td>\n",
       "      <td>71.55</td>\n",
       "      <td>12999.92</td>\n",
       "    </tr>\n",
       "    <tr>\n",
       "      <th>1972</th>\n",
       "      <td>51732000</td>\n",
       "      <td>72.38</td>\n",
       "      <td>16107.19</td>\n",
       "    </tr>\n",
       "    <tr>\n",
       "      <th>1977</th>\n",
       "      <td>53165019</td>\n",
       "      <td>73.83</td>\n",
       "      <td>18292.64</td>\n",
       "    </tr>\n",
       "    <tr>\n",
       "      <th>1982</th>\n",
       "      <td>54433565</td>\n",
       "      <td>74.89</td>\n",
       "      <td>20293.90</td>\n",
       "    </tr>\n",
       "    <tr>\n",
       "      <th>1987</th>\n",
       "      <td>55630100</td>\n",
       "      <td>76.34</td>\n",
       "      <td>22066.44</td>\n",
       "    </tr>\n",
       "    <tr>\n",
       "      <th>1992</th>\n",
       "      <td>57374179</td>\n",
       "      <td>77.46</td>\n",
       "      <td>24703.80</td>\n",
       "    </tr>\n",
       "    <tr>\n",
       "      <th>1997</th>\n",
       "      <td>58623428</td>\n",
       "      <td>78.64</td>\n",
       "      <td>25889.78</td>\n",
       "    </tr>\n",
       "    <tr>\n",
       "      <th>2002</th>\n",
       "      <td>59925035</td>\n",
       "      <td>79.59</td>\n",
       "      <td>28926.03</td>\n",
       "    </tr>\n",
       "    <tr>\n",
       "      <th>2007</th>\n",
       "      <td>61083916</td>\n",
       "      <td>80.66</td>\n",
       "      <td>30470.02</td>\n",
       "    </tr>\n",
       "  </tbody>\n",
       "</table>\n",
       "</div>"
      ],
      "text/plain": [
       "      population  life_exp  gdp_cap\n",
       "year                               \n",
       "1952    42459667     67.41  7029.81\n",
       "1957    44310863     68.93  8662.83\n",
       "1962    47124000     70.51 10560.49\n",
       "1967    49569000     71.55 12999.92\n",
       "1972    51732000     72.38 16107.19\n",
       "1977    53165019     73.83 18292.64\n",
       "1982    54433565     74.89 20293.90\n",
       "1987    55630100     76.34 22066.44\n",
       "1992    57374179     77.46 24703.80\n",
       "1997    58623428     78.64 25889.78\n",
       "2002    59925035     79.59 28926.03\n",
       "2007    61083916     80.66 30470.02"
      ]
     },
     "execution_count": 8,
     "metadata": {},
     "output_type": "execute_result"
    }
   ],
   "source": [
    "france_by_year = df[df.country == 'France'].set_index('year').drop(columns=['continent', 'country'])\n",
    "\n",
    "france_by_year"
   ]
  },
  {
   "cell_type": "code",
   "execution_count": 9,
   "metadata": {},
   "outputs": [
    {
     "data": {
      "text/html": [
       "<div>\n",
       "<style scoped>\n",
       "    .dataframe tbody tr th:only-of-type {\n",
       "        vertical-align: middle;\n",
       "    }\n",
       "\n",
       "    .dataframe tbody tr th {\n",
       "        vertical-align: top;\n",
       "    }\n",
       "\n",
       "    .dataframe thead tr th {\n",
       "        text-align: left;\n",
       "    }\n",
       "\n",
       "    .dataframe thead tr:last-of-type th {\n",
       "        text-align: right;\n",
       "    }\n",
       "</style>\n",
       "<table border=\"1\" class=\"dataframe\">\n",
       "  <thead>\n",
       "    <tr>\n",
       "      <th></th>\n",
       "      <th colspan=\"5\" halign=\"left\">gdp_cap</th>\n",
       "      <th colspan=\"5\" halign=\"left\">life_exp</th>\n",
       "      <th colspan=\"5\" halign=\"left\">population</th>\n",
       "    </tr>\n",
       "    <tr>\n",
       "      <th>continent</th>\n",
       "      <th>Africa</th>\n",
       "      <th>Americas</th>\n",
       "      <th>Asia</th>\n",
       "      <th>Europe</th>\n",
       "      <th>Oceania</th>\n",
       "      <th>Africa</th>\n",
       "      <th>Americas</th>\n",
       "      <th>Asia</th>\n",
       "      <th>Europe</th>\n",
       "      <th>Oceania</th>\n",
       "      <th>Africa</th>\n",
       "      <th>Americas</th>\n",
       "      <th>Asia</th>\n",
       "      <th>Europe</th>\n",
       "      <th>Oceania</th>\n",
       "    </tr>\n",
       "    <tr>\n",
       "      <th>year</th>\n",
       "      <th></th>\n",
       "      <th></th>\n",
       "      <th></th>\n",
       "      <th></th>\n",
       "      <th></th>\n",
       "      <th></th>\n",
       "      <th></th>\n",
       "      <th></th>\n",
       "      <th></th>\n",
       "      <th></th>\n",
       "      <th></th>\n",
       "      <th></th>\n",
       "      <th></th>\n",
       "      <th></th>\n",
       "      <th></th>\n",
       "    </tr>\n",
       "  </thead>\n",
       "  <tbody>\n",
       "    <tr>\n",
       "      <th>1952</th>\n",
       "      <td>1252.57</td>\n",
       "      <td>4079.06</td>\n",
       "      <td>5195.48</td>\n",
       "      <td>5661.06</td>\n",
       "      <td>10298.09</td>\n",
       "      <td>39.14</td>\n",
       "      <td>53.28</td>\n",
       "      <td>46.31</td>\n",
       "      <td>64.41</td>\n",
       "      <td>69.25</td>\n",
       "      <td>237640501</td>\n",
       "      <td>345152446</td>\n",
       "      <td>1395357351</td>\n",
       "      <td>418120846</td>\n",
       "      <td>10686006</td>\n",
       "    </tr>\n",
       "    <tr>\n",
       "      <th>1957</th>\n",
       "      <td>1385.24</td>\n",
       "      <td>4616.04</td>\n",
       "      <td>5787.73</td>\n",
       "      <td>6963.01</td>\n",
       "      <td>11598.52</td>\n",
       "      <td>41.27</td>\n",
       "      <td>55.96</td>\n",
       "      <td>49.32</td>\n",
       "      <td>66.70</td>\n",
       "      <td>70.30</td>\n",
       "      <td>264837738</td>\n",
       "      <td>386953916</td>\n",
       "      <td>1562780599</td>\n",
       "      <td>437890351</td>\n",
       "      <td>11941976</td>\n",
       "    </tr>\n",
       "    <tr>\n",
       "      <th>1962</th>\n",
       "      <td>1598.08</td>\n",
       "      <td>4901.54</td>\n",
       "      <td>5729.37</td>\n",
       "      <td>8365.49</td>\n",
       "      <td>12696.45</td>\n",
       "      <td>43.32</td>\n",
       "      <td>58.40</td>\n",
       "      <td>51.56</td>\n",
       "      <td>68.54</td>\n",
       "      <td>71.09</td>\n",
       "      <td>296516865</td>\n",
       "      <td>433270254</td>\n",
       "      <td>1696357182</td>\n",
       "      <td>460355155</td>\n",
       "      <td>13283518</td>\n",
       "    </tr>\n",
       "    <tr>\n",
       "      <th>1967</th>\n",
       "      <td>2050.36</td>\n",
       "      <td>5668.25</td>\n",
       "      <td>5971.17</td>\n",
       "      <td>10143.82</td>\n",
       "      <td>14495.02</td>\n",
       "      <td>45.33</td>\n",
       "      <td>60.41</td>\n",
       "      <td>54.66</td>\n",
       "      <td>69.74</td>\n",
       "      <td>71.31</td>\n",
       "      <td>335289489</td>\n",
       "      <td>480746623</td>\n",
       "      <td>1905662900</td>\n",
       "      <td>481178958</td>\n",
       "      <td>14600414</td>\n",
       "    </tr>\n",
       "    <tr>\n",
       "      <th>1972</th>\n",
       "      <td>2339.62</td>\n",
       "      <td>6491.33</td>\n",
       "      <td>8187.47</td>\n",
       "      <td>12479.58</td>\n",
       "      <td>16417.33</td>\n",
       "      <td>47.45</td>\n",
       "      <td>62.39</td>\n",
       "      <td>57.32</td>\n",
       "      <td>70.78</td>\n",
       "      <td>71.91</td>\n",
       "      <td>379879541</td>\n",
       "      <td>529384210</td>\n",
       "      <td>2150972248</td>\n",
       "      <td>500635059</td>\n",
       "      <td>16106100</td>\n",
       "    </tr>\n",
       "    <tr>\n",
       "      <th>1977</th>\n",
       "      <td>2585.94</td>\n",
       "      <td>7352.01</td>\n",
       "      <td>7791.31</td>\n",
       "      <td>14283.98</td>\n",
       "      <td>17283.96</td>\n",
       "      <td>49.58</td>\n",
       "      <td>64.39</td>\n",
       "      <td>59.61</td>\n",
       "      <td>71.94</td>\n",
       "      <td>72.85</td>\n",
       "      <td>433061021</td>\n",
       "      <td>578067699</td>\n",
       "      <td>2384513556</td>\n",
       "      <td>517164531</td>\n",
       "      <td>17239000</td>\n",
       "    </tr>\n",
       "    <tr>\n",
       "      <th>1982</th>\n",
       "      <td>2481.59</td>\n",
       "      <td>7506.74</td>\n",
       "      <td>7434.14</td>\n",
       "      <td>15617.90</td>\n",
       "      <td>18554.71</td>\n",
       "      <td>51.59</td>\n",
       "      <td>66.23</td>\n",
       "      <td>62.62</td>\n",
       "      <td>72.81</td>\n",
       "      <td>74.29</td>\n",
       "      <td>499348587</td>\n",
       "      <td>630290920</td>\n",
       "      <td>2610135582</td>\n",
       "      <td>531266901</td>\n",
       "      <td>18394850</td>\n",
       "    </tr>\n",
       "    <tr>\n",
       "      <th>1987</th>\n",
       "      <td>2282.67</td>\n",
       "      <td>7793.40</td>\n",
       "      <td>7608.23</td>\n",
       "      <td>17214.31</td>\n",
       "      <td>20448.04</td>\n",
       "      <td>53.34</td>\n",
       "      <td>68.09</td>\n",
       "      <td>64.85</td>\n",
       "      <td>73.64</td>\n",
       "      <td>75.32</td>\n",
       "      <td>574834110</td>\n",
       "      <td>682753971</td>\n",
       "      <td>2871220762</td>\n",
       "      <td>543094160</td>\n",
       "      <td>19574415</td>\n",
       "    </tr>\n",
       "    <tr>\n",
       "      <th>1992</th>\n",
       "      <td>2281.81</td>\n",
       "      <td>8044.93</td>\n",
       "      <td>8639.69</td>\n",
       "      <td>17061.57</td>\n",
       "      <td>20894.05</td>\n",
       "      <td>53.63</td>\n",
       "      <td>69.57</td>\n",
       "      <td>66.54</td>\n",
       "      <td>74.44</td>\n",
       "      <td>76.94</td>\n",
       "      <td>659081517</td>\n",
       "      <td>739274104</td>\n",
       "      <td>3133292191</td>\n",
       "      <td>558142797</td>\n",
       "      <td>20919651</td>\n",
       "    </tr>\n",
       "    <tr>\n",
       "      <th>1997</th>\n",
       "      <td>2378.76</td>\n",
       "      <td>8889.30</td>\n",
       "      <td>9834.09</td>\n",
       "      <td>19076.78</td>\n",
       "      <td>24024.18</td>\n",
       "      <td>53.60</td>\n",
       "      <td>71.15</td>\n",
       "      <td>68.02</td>\n",
       "      <td>75.51</td>\n",
       "      <td>78.19</td>\n",
       "      <td>743832984</td>\n",
       "      <td>796900410</td>\n",
       "      <td>3383285500</td>\n",
       "      <td>568944148</td>\n",
       "      <td>22241430</td>\n",
       "    </tr>\n",
       "    <tr>\n",
       "      <th>2002</th>\n",
       "      <td>2599.39</td>\n",
       "      <td>9287.68</td>\n",
       "      <td>10174.09</td>\n",
       "      <td>21711.73</td>\n",
       "      <td>26938.78</td>\n",
       "      <td>53.33</td>\n",
       "      <td>72.42</td>\n",
       "      <td>69.23</td>\n",
       "      <td>76.70</td>\n",
       "      <td>79.74</td>\n",
       "      <td>833723916</td>\n",
       "      <td>849772762</td>\n",
       "      <td>3601802203</td>\n",
       "      <td>578223869</td>\n",
       "      <td>23454829</td>\n",
       "    </tr>\n",
       "    <tr>\n",
       "      <th>2007</th>\n",
       "      <td>3089.03</td>\n",
       "      <td>11003.03</td>\n",
       "      <td>12473.03</td>\n",
       "      <td>25054.48</td>\n",
       "      <td>29810.19</td>\n",
       "      <td>54.81</td>\n",
       "      <td>73.61</td>\n",
       "      <td>70.73</td>\n",
       "      <td>77.65</td>\n",
       "      <td>80.72</td>\n",
       "      <td>929539692</td>\n",
       "      <td>898871184</td>\n",
       "      <td>3811953827</td>\n",
       "      <td>586098529</td>\n",
       "      <td>24549947</td>\n",
       "    </tr>\n",
       "  </tbody>\n",
       "</table>\n",
       "</div>"
      ],
      "text/plain": [
       "          gdp_cap                                     life_exp                 \\\n",
       "continent  Africa Americas     Asia   Europe  Oceania   Africa Americas  Asia   \n",
       "year                                                                            \n",
       "1952      1252.57  4079.06  5195.48  5661.06 10298.09    39.14    53.28 46.31   \n",
       "1957      1385.24  4616.04  5787.73  6963.01 11598.52    41.27    55.96 49.32   \n",
       "1962      1598.08  4901.54  5729.37  8365.49 12696.45    43.32    58.40 51.56   \n",
       "1967      2050.36  5668.25  5971.17 10143.82 14495.02    45.33    60.41 54.66   \n",
       "1972      2339.62  6491.33  8187.47 12479.58 16417.33    47.45    62.39 57.32   \n",
       "1977      2585.94  7352.01  7791.31 14283.98 17283.96    49.58    64.39 59.61   \n",
       "1982      2481.59  7506.74  7434.14 15617.90 18554.71    51.59    66.23 62.62   \n",
       "1987      2282.67  7793.40  7608.23 17214.31 20448.04    53.34    68.09 64.85   \n",
       "1992      2281.81  8044.93  8639.69 17061.57 20894.05    53.63    69.57 66.54   \n",
       "1997      2378.76  8889.30  9834.09 19076.78 24024.18    53.60    71.15 68.02   \n",
       "2002      2599.39  9287.68 10174.09 21711.73 26938.78    53.33    72.42 69.23   \n",
       "2007      3089.03 11003.03 12473.03 25054.48 29810.19    54.81    73.61 70.73   \n",
       "\n",
       "                         population                                    \\\n",
       "continent Europe Oceania     Africa   Americas        Asia     Europe   \n",
       "year                                                                    \n",
       "1952       64.41   69.25  237640501  345152446  1395357351  418120846   \n",
       "1957       66.70   70.30  264837738  386953916  1562780599  437890351   \n",
       "1962       68.54   71.09  296516865  433270254  1696357182  460355155   \n",
       "1967       69.74   71.31  335289489  480746623  1905662900  481178958   \n",
       "1972       70.78   71.91  379879541  529384210  2150972248  500635059   \n",
       "1977       71.94   72.85  433061021  578067699  2384513556  517164531   \n",
       "1982       72.81   74.29  499348587  630290920  2610135582  531266901   \n",
       "1987       73.64   75.32  574834110  682753971  2871220762  543094160   \n",
       "1992       74.44   76.94  659081517  739274104  3133292191  558142797   \n",
       "1997       75.51   78.19  743832984  796900410  3383285500  568944148   \n",
       "2002       76.70   79.74  833723916  849772762  3601802203  578223869   \n",
       "2007       77.65   80.72  929539692  898871184  3811953827  586098529   \n",
       "\n",
       "                     \n",
       "continent   Oceania  \n",
       "year                 \n",
       "1952       10686006  \n",
       "1957       11941976  \n",
       "1962       13283518  \n",
       "1967       14600414  \n",
       "1972       16106100  \n",
       "1977       17239000  \n",
       "1982       18394850  \n",
       "1987       19574415  \n",
       "1992       20919651  \n",
       "1997       22241430  \n",
       "2002       23454829  \n",
       "2007       24549947  "
      ]
     },
     "execution_count": 9,
     "metadata": {},
     "output_type": "execute_result"
    }
   ],
   "source": [
    "# сумма населения по году и континенту\n",
    "pvt = df.pivot_table(index='year', \n",
    "                     columns='continent',\n",
    "                     aggfunc={'life_exp': \"mean\", \n",
    "                              'gdp_cap': \"mean\",\n",
    "                              'population': \"sum\"})\n",
    "pvt"
   ]
  },
  {
   "cell_type": "code",
   "execution_count": 10,
   "metadata": {},
   "outputs": [
    {
     "data": {
      "text/plain": [
       "year\n",
       "1952    2406957150\n",
       "1957    2664404580\n",
       "1962    2899782974\n",
       "1967    3217478384\n",
       "1972    3576977158\n",
       "1977    3930045807\n",
       "1982    4289436840\n",
       "1987    4691477418\n",
       "1992    5110710260\n",
       "1997    5515204472\n",
       "2002    5886977579\n",
       "2007    6251013179\n",
       "Name: population, dtype: int64"
      ]
     },
     "execution_count": 10,
     "metadata": {},
     "output_type": "execute_result"
    }
   ],
   "source": [
    "df_population_sum_by_year = df.groupby(by=[\"year\"]).population.sum()\n",
    "df_population_sum_by_year"
   ]
  },
  {
   "cell_type": "markdown",
   "metadata": {},
   "source": [
    "## Обзор возможностей пакета `pandas` для рисования графиков (метод `pandas.DataFrame.plot`)\n",
    "\n",
    "Пакет `pandas` позволяет рисовать графики по `Series` и `DataFrame`.\n",
    "\n",
    "Метод [`pandas.DataFrame.plot`](https://pandas.pydata.org/pandas-docs/stable/reference/api/pandas.DataFrame.plot.html) использует бэкэнд, указанный опцией `plotting.backend`. По умолчанию используется **`matplotlib`**.\n",
    "\n",
    "Доступные типа графиков:\n",
    "- `'line'` : line plot (default)\n",
    "- `'bar'` : vertical bar plot\n",
    "- `'barh'` : horizontal bar plot\n",
    "- `'hist'` : histogram\n",
    "- `'box'` : boxplot\n",
    "- `'kde'` : Kernel Density Estimation plot\n",
    "- `'density'` : тоже самое, что и 'kde'\n",
    "- `'area'` : area plot\n",
    "- `'pie'` : pie plot\n",
    "- `'scatter'` : scatter plot\n",
    "- `'hexbin'` : hexbin plot"
   ]
  },
  {
   "cell_type": "markdown",
   "metadata": {},
   "source": [
    "### Графики (line plot)\n"
   ]
  },
  {
   "cell_type": "code",
   "execution_count": 11,
   "metadata": {},
   "outputs": [
    {
     "data": {
      "text/plain": [
       "<AxesSubplot:xlabel='year'>"
      ]
     },
     "execution_count": 11,
     "metadata": {},
     "output_type": "execute_result"
    },
    {
     "data": {
      "image/png": "[encoded data removed]",
      "text/plain": [
       "<Figure size 432x288 with 1 Axes>"
      ]
     },
     "metadata": {
      "needs_background": "light"
     },
     "output_type": "display_data"
    }
   ],
   "source": [
    "df_population_sum_by_year.plot.line(color='red')"
   ]
  },
  {
   "cell_type": "code",
   "execution_count": 12,
   "metadata": {},
   "outputs": [
    {
     "data": {
      "text/plain": [
       "array([[<AxesSubplot:xlabel='year'>, <AxesSubplot:xlabel='year'>]],\n",
       "      dtype=object)"
      ]
     },
     "execution_count": 12,
     "metadata": {},
     "output_type": "execute_result"
    },
    {
     "data": {
      "image/png": "[encoded data removed]",
      "text/plain": [
       "<Figure size 720x216 with 2 Axes>"
      ]
     },
     "metadata": {
      "needs_background": "light"
     },
     "output_type": "display_data"
    }
   ],
   "source": [
    "france_by_year[['population', 'life_exp']].plot(kind='line', subplots=True, layout=(1, 2), figsize=(10, 3), grid=True)"
   ]
  },
  {
   "cell_type": "code",
   "execution_count": 13,
   "metadata": {},
   "outputs": [
    {
     "data": {
      "text/html": [
       "<div>\n",
       "<style scoped>\n",
       "    .dataframe tbody tr th:only-of-type {\n",
       "        vertical-align: middle;\n",
       "    }\n",
       "\n",
       "    .dataframe tbody tr th {\n",
       "        vertical-align: top;\n",
       "    }\n",
       "\n",
       "    .dataframe thead th {\n",
       "        text-align: right;\n",
       "    }\n",
       "</style>\n",
       "<table border=\"1\" class=\"dataframe\">\n",
       "  <thead>\n",
       "    <tr style=\"text-align: right;\">\n",
       "      <th></th>\n",
       "      <th>population</th>\n",
       "      <th>life_exp</th>\n",
       "      <th>gdp_cap</th>\n",
       "    </tr>\n",
       "    <tr>\n",
       "      <th>year</th>\n",
       "      <th></th>\n",
       "      <th></th>\n",
       "      <th></th>\n",
       "    </tr>\n",
       "  </thead>\n",
       "  <tbody>\n",
       "    <tr>\n",
       "      <th>1952</th>\n",
       "      <td>42459667</td>\n",
       "      <td>67.41</td>\n",
       "      <td>70.30</td>\n",
       "    </tr>\n",
       "    <tr>\n",
       "      <th>1957</th>\n",
       "      <td>44310863</td>\n",
       "      <td>68.93</td>\n",
       "      <td>86.63</td>\n",
       "    </tr>\n",
       "    <tr>\n",
       "      <th>1962</th>\n",
       "      <td>47124000</td>\n",
       "      <td>70.51</td>\n",
       "      <td>105.60</td>\n",
       "    </tr>\n",
       "    <tr>\n",
       "      <th>1967</th>\n",
       "      <td>49569000</td>\n",
       "      <td>71.55</td>\n",
       "      <td>130.00</td>\n",
       "    </tr>\n",
       "    <tr>\n",
       "      <th>1972</th>\n",
       "      <td>51732000</td>\n",
       "      <td>72.38</td>\n",
       "      <td>161.07</td>\n",
       "    </tr>\n",
       "    <tr>\n",
       "      <th>1977</th>\n",
       "      <td>53165019</td>\n",
       "      <td>73.83</td>\n",
       "      <td>182.93</td>\n",
       "    </tr>\n",
       "    <tr>\n",
       "      <th>1982</th>\n",
       "      <td>54433565</td>\n",
       "      <td>74.89</td>\n",
       "      <td>202.94</td>\n",
       "    </tr>\n",
       "    <tr>\n",
       "      <th>1987</th>\n",
       "      <td>55630100</td>\n",
       "      <td>76.34</td>\n",
       "      <td>220.66</td>\n",
       "    </tr>\n",
       "    <tr>\n",
       "      <th>1992</th>\n",
       "      <td>57374179</td>\n",
       "      <td>77.46</td>\n",
       "      <td>247.04</td>\n",
       "    </tr>\n",
       "    <tr>\n",
       "      <th>1997</th>\n",
       "      <td>58623428</td>\n",
       "      <td>78.64</td>\n",
       "      <td>258.90</td>\n",
       "    </tr>\n",
       "    <tr>\n",
       "      <th>2002</th>\n",
       "      <td>59925035</td>\n",
       "      <td>79.59</td>\n",
       "      <td>289.26</td>\n",
       "    </tr>\n",
       "    <tr>\n",
       "      <th>2007</th>\n",
       "      <td>61083916</td>\n",
       "      <td>80.66</td>\n",
       "      <td>304.70</td>\n",
       "    </tr>\n",
       "  </tbody>\n",
       "</table>\n",
       "</div>"
      ],
      "text/plain": [
       "      population  life_exp  gdp_cap\n",
       "year                               \n",
       "1952    42459667     67.41    70.30\n",
       "1957    44310863     68.93    86.63\n",
       "1962    47124000     70.51   105.60\n",
       "1967    49569000     71.55   130.00\n",
       "1972    51732000     72.38   161.07\n",
       "1977    53165019     73.83   182.93\n",
       "1982    54433565     74.89   202.94\n",
       "1987    55630100     76.34   220.66\n",
       "1992    57374179     77.46   247.04\n",
       "1997    58623428     78.64   258.90\n",
       "2002    59925035     79.59   289.26\n",
       "2007    61083916     80.66   304.70"
      ]
     },
     "execution_count": 13,
     "metadata": {},
     "output_type": "execute_result"
    }
   ],
   "source": [
    "france_by_year_small_gdp_cap = france_by_year.copy()\n",
    "france_by_year_small_gdp_cap.gdp_cap = france_by_year.gdp_cap / 100.0\n",
    "\n",
    "france_by_year_small_gdp_cap"
   ]
  },
  {
   "cell_type": "code",
   "execution_count": 14,
   "metadata": {},
   "outputs": [
    {
     "data": {
      "text/plain": [
       "<AxesSubplot:xlabel='year'>"
      ]
     },
     "execution_count": 14,
     "metadata": {},
     "output_type": "execute_result"
    },
    {
     "data": {
      "image/png": "[encoded data removed]",
      "text/plain": [
       "<Figure size 432x288 with 1 Axes>"
      ]
     },
     "metadata": {
      "needs_background": "light"
     },
     "output_type": "display_data"
    }
   ],
   "source": [
    "france_by_year_small_gdp_cap[['gdp_cap', 'life_exp']].plot(kind='line')"
   ]
  },
  {
   "cell_type": "markdown",
   "metadata": {},
   "source": [
    "### Столбчатые диаграммы - вертикальные (vertical bar plot)"
   ]
  },
  {
   "cell_type": "code",
   "execution_count": 15,
   "metadata": {},
   "outputs": [
    {
     "data": {
      "text/plain": [
       "<AxesSubplot:xlabel='year'>"
      ]
     },
     "execution_count": 15,
     "metadata": {},
     "output_type": "execute_result"
    },
    {
     "data": {
      "image/png": "[encoded data removed]",
      "text/plain": [
       "<Figure size 432x288 with 1 Axes>"
      ]
     },
     "metadata": {
      "needs_background": "light"
     },
     "output_type": "display_data"
    }
   ],
   "source": [
    "df_population_sum_by_year.plot.bar()"
   ]
  },
  {
   "cell_type": "markdown",
   "metadata": {},
   "source": [
    "### Столбчатые диаграммы - горизонтальные (horizontal bar plot)"
   ]
  },
  {
   "cell_type": "code",
   "execution_count": 16,
   "metadata": {},
   "outputs": [
    {
     "data": {
      "text/plain": [
       "<AxesSubplot:ylabel='year'>"
      ]
     },
     "execution_count": 16,
     "metadata": {},
     "output_type": "execute_result"
    },
    {
     "data": {
      "image/png": "[encoded data removed]",
      "text/plain": [
       "<Figure size 432x288 with 1 Axes>"
      ]
     },
     "metadata": {
      "needs_background": "light"
     },
     "output_type": "display_data"
    }
   ],
   "source": [
    "df_population_sum_by_year.plot.barh()"
   ]
  },
  {
   "cell_type": "markdown",
   "metadata": {},
   "source": [
    "## Гистограмма (Histogram)\n",
    "\n",
    "**Гистограммы** группируют данные в ячейки и подсчитывают количество наблюдений в каждой ячейке. По форме ячеек вы можете быстро определить, является ли атрибут гауссовским, перекошенным или даже имеет экспоненциальное распределение. Это также может помочь вам увидеть возможные выбросы."
   ]
  },
  {
   "cell_type": "code",
   "execution_count": 17,
   "metadata": {},
   "outputs": [
    {
     "data": {
      "text/plain": [
       "<AxesSubplot:ylabel='Frequency'>"
      ]
     },
     "execution_count": 17,
     "metadata": {},
     "output_type": "execute_result"
    },
    {
     "data": {
      "image/png": "[encoded data removed]",
      "text/plain": [
       "<Figure size 432x288 with 1 Axes>"
      ]
     },
     "metadata": {
      "needs_background": "light"
     },
     "output_type": "display_data"
    }
   ],
   "source": [
    "df.life_exp.plot.hist(bins=5)"
   ]
  },
  {
   "cell_type": "code",
   "execution_count": 18,
   "metadata": {},
   "outputs": [
    {
     "data": {
      "text/plain": [
       "<AxesSubplot:>"
      ]
     },
     "execution_count": 18,
     "metadata": {},
     "output_type": "execute_result"
    },
    {
     "data": {
      "image/png": "[encoded data removed]",
      "text/plain": [
       "<Figure size 432x288 with 1 Axes>"
      ]
     },
     "metadata": {
      "needs_background": "light"
     },
     "output_type": "display_data"
    }
   ],
   "source": [
    "df.life_exp.hist(bins=50)"
   ]
  },
  {
   "cell_type": "code",
   "execution_count": 19,
   "metadata": {},
   "outputs": [
    {
     "data": {
      "text/plain": [
       "<AxesSubplot:ylabel='Frequency'>"
      ]
     },
     "execution_count": 19,
     "metadata": {},
     "output_type": "execute_result"
    },
    {
     "data": {
      "image/png": "[encoded data removed]",
      "text/plain": [
       "<Figure size 432x288 with 1 Axes>"
      ]
     },
     "metadata": {
      "needs_background": "light"
     },
     "output_type": "display_data"
    }
   ],
   "source": [
    "df.life_exp.plot.hist(bins=50)"
   ]
  },
  {
   "cell_type": "markdown",
   "metadata": {},
   "source": [
    "### График плотности (Kernel Density Estimation = KDE plot | density)\n",
    "\n",
    "**Графики плотности** - еще один способ получить представление о распределении каждого атрибута.\n",
    "\n",
    "Графики выглядят как абстрагированная гистограмма с плавной кривой, проходящей через верхнюю часть каждого бина."
   ]
  },
  {
   "cell_type": "code",
   "execution_count": 20,
   "metadata": {},
   "outputs": [
    {
     "data": {
      "text/plain": [
       "<AxesSubplot:ylabel='Density'>"
      ]
     },
     "execution_count": 20,
     "metadata": {},
     "output_type": "execute_result"
    },
    {
     "data": {
      "image/png": "[encoded data removed]",
      "text/plain": [
       "<Figure size 432x288 with 1 Axes>"
      ]
     },
     "metadata": {
      "needs_background": "light"
     },
     "output_type": "display_data"
    }
   ],
   "source": [
    "df.life_exp.plot.density()"
   ]
  },
  {
   "cell_type": "code",
   "execution_count": 21,
   "metadata": {},
   "outputs": [
    {
     "data": {
      "text/plain": [
       "<AxesSubplot:ylabel='Density'>"
      ]
     },
     "execution_count": 21,
     "metadata": {},
     "output_type": "execute_result"
    },
    {
     "data": {
      "image/png": "[encoded data removed]",
      "text/plain": [
       "<Figure size 432x288 with 1 Axes>"
      ]
     },
     "metadata": {
      "needs_background": "light"
     },
     "output_type": "display_data"
    }
   ],
   "source": [
    "df.life_exp.plot.kde()"
   ]
  },
  {
   "cell_type": "markdown",
   "metadata": {},
   "source": [
    "### Ящик с усами (Boxplot)"
   ]
  },
  {
   "cell_type": "code",
   "execution_count": null,
   "metadata": {},
   "outputs": [],
   "source": []
  },
  {
   "cell_type": "markdown",
   "metadata": {},
   "source": [
    "###  (area plot)"
   ]
  },
  {
   "cell_type": "code",
   "execution_count": null,
   "metadata": {},
   "outputs": [],
   "source": []
  },
  {
   "cell_type": "markdown",
   "metadata": {},
   "source": [
    "### Круговые диаграммы (pie plot)"
   ]
  },
  {
   "cell_type": "code",
   "execution_count": null,
   "metadata": {},
   "outputs": [],
   "source": []
  },
  {
   "cell_type": "markdown",
   "metadata": {},
   "source": [
    "### Диаграмма рассеяния (scatter plot)"
   ]
  },
  {
   "cell_type": "code",
   "execution_count": null,
   "metadata": {},
   "outputs": [],
   "source": []
  },
  {
   "cell_type": "markdown",
   "metadata": {},
   "source": [
    "### (hexbin plot)"
   ]
  }
 ],
 "metadata": {
  "kernelspec": {
   "display_name": "Python [conda env:LevelUp_DataScience] *",
   "language": "python",
   "name": "conda-env-LevelUp_DataScience-py"
  },
  "language_info": {
   "codemirror_mode": {
    "name": "ipython",
    "version": 3
   },
   "file_extension": ".py",
   "mimetype": "text/x-python",
   "name": "python",
   "nbconvert_exporter": "python",
   "pygments_lexer": "ipython3",
   "version": "3.8.5"
  }
 },
 "nbformat": 4,
 "nbformat_minor": 4
}
