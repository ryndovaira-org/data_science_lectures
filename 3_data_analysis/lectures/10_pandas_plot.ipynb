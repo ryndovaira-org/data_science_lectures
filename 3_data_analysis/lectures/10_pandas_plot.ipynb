{
 "cells": [
  {
   "cell_type": "markdown",
   "metadata": {},
   "source": [
    "# Пакет `pandas`: визуализация данных"
   ]
  },
  {
   "cell_type": "markdown",
   "metadata": {},
   "source": [
    "---\n",
    "\n",
    "**Источники:**\n",
    "\n",
    "[Visualization](https://pandas.pydata.org/pandas-docs/stable/user_guide/visualization.html)\n",
    "\n",
    "[Визуализируйте данные машинного обучения в Python с помощью Pandas](https://www.machinelearningmastery.ru/visualize-machine-learning-data-python-pandas/)\n",
    "\n",
    "[Как визуализировать данные: типы графиков](https://netology.ru/blog/typy-grafikov)\n",
    "\n",
    "[Data Visualization: How to Choose the Right Chart and Graph for Your Data](https://365datascience.com/trending/chart-types-and-how-to-select-the-right-one/)\n",
    "\n",
    "[The Indispensable Guide to Chart Design and Data Visualization—Part 1](https://www.zapbi.com/blogs/chart_design_data_visualization_part_1/)\n",
    "    \n",
    "---"
   ]
  },
  {
   "cell_type": "code",
   "execution_count": 1,
   "metadata": {
    "collapsed": false,
    "jupyter": {
     "outputs_hidden": false
    },
    "pycharm": {
     "name": "#%%\n"
    }
   },
   "outputs": [
    {
     "name": "stdout",
     "output_type": "stream",
     "text": [
      "pip 20.3.3 from /home/ira/anaconda3/envs/LevelUp_DataScience/lib/python3.8/site-packages/pip (python 3.8)\n"
     ]
    }
   ],
   "source": [
    "# ВНИМАНИЕ: необходимо удостовериться, что виртуальная среда выбрана правильно!\n",
    "\n",
    "!pip -V"
   ]
  },
  {
   "cell_type": "code",
   "execution_count": 2,
   "metadata": {
    "collapsed": false,
    "jupyter": {
     "outputs_hidden": false
    },
    "pycharm": {
     "name": "#%%\n"
    }
   },
   "outputs": [],
   "source": [
    "# !conda install pandas -y"
   ]
  },
  {
   "cell_type": "code",
   "execution_count": 3,
   "metadata": {
    "collapsed": false,
    "jupyter": {
     "outputs_hidden": false
    },
    "pycharm": {
     "name": "#%%\n"
    }
   },
   "outputs": [
    {
     "data": {
      "text/plain": [
       "'1.2.2'"
      ]
     },
     "execution_count": 3,
     "metadata": {},
     "output_type": "execute_result"
    }
   ],
   "source": [
    "import pandas as pd\n",
    "\n",
    "pd.__version__"
   ]
  },
  {
   "cell_type": "markdown",
   "metadata": {},
   "source": [
    "## Обзор возможностей пакета `pandas` для рисования графиков (метод `pandas.DataFrame.plot`)\n",
    "\n",
    "Пакет `pandas` позволяет рисовать графики по `Series` и `DataFrame`.\n",
    "\n",
    "Метод `pandas.DataFrame.plot` использует бэкэнд, указанный опцией `plotting.backend`. По умолчанию используется **`matplotlib`**.\n",
    "\n",
    "Доступные типа графиков:\n",
    "- `'line'` : line plot (default)\n",
    "- `'bar'` : vertical bar plot\n",
    "- `'barh'` : horizontal bar plot\n",
    "- `'hist'` : histogram\n",
    "- `'box'` : boxplot\n",
    "- `'kde'` : Kernel Density Estimation plot\n",
    "- `'density'` : тоже самое, что и 'kde'\n",
    "- `'area'` : area plot\n",
    "- `'pie'` : pie plot\n",
    "- `'scatter'` : scatter plot\n",
    "- `'hexbin'` : hexbin plot"
   ]
  },
  {
   "cell_type": "markdown",
   "metadata": {},
   "source": [
    "### Графики (line plot)\n"
   ]
  },
  {
   "cell_type": "code",
   "execution_count": null,
   "metadata": {},
   "outputs": [],
   "source": []
  },
  {
   "cell_type": "markdown",
   "metadata": {},
   "source": [
    "### Столбчатые диаграммы - вертикальные (vertical bar plot)"
   ]
  },
  {
   "cell_type": "code",
   "execution_count": null,
   "metadata": {},
   "outputs": [],
   "source": []
  },
  {
   "cell_type": "markdown",
   "metadata": {},
   "source": [
    "### Столбчатые диаграммы - горизонтальные (horizontal bar plot)"
   ]
  },
  {
   "cell_type": "code",
   "execution_count": null,
   "metadata": {},
   "outputs": [],
   "source": []
  },
  {
   "cell_type": "markdown",
   "metadata": {},
   "source": [
    "## Гистограмма (Histogram)\n",
    "\n",
    "**Гистограммы** группируют данные в ячейки и подсчитывают количество наблюдений в каждой ячейке. По форме ячеек вы можете быстро определить, является ли атрибут гауссовским, перекошенным или даже имеет экспоненциальное распределение. Это также может помочь вам увидеть возможные выбросы."
   ]
  },
  {
   "cell_type": "markdown",
   "metadata": {},
   "source": [
    "### Ящик с усами (Boxplot)"
   ]
  },
  {
   "cell_type": "markdown",
   "metadata": {},
   "source": [
    "## График плотности (Kernel Density Estimation = KDE plot | density)\n",
    "\n",
    "**Графики плотности** - еще один способ получить представление о распределении каждого атрибута.\n",
    "\n",
    "Графики выглядят как абстрагированная гистограмма с плавной кривой, проходящей через верхнюю часть каждого бина."
   ]
  },
  {
   "cell_type": "markdown",
   "metadata": {},
   "source": [
    "###  (area plot)"
   ]
  },
  {
   "cell_type": "markdown",
   "metadata": {},
   "source": [
    "### Круговые диаграммы (pie plot)"
   ]
  },
  {
   "cell_type": "code",
   "execution_count": null,
   "metadata": {},
   "outputs": [],
   "source": []
  },
  {
   "cell_type": "markdown",
   "metadata": {},
   "source": [
    "### Диаграмма рассеяния (scatter plot)"
   ]
  },
  {
   "cell_type": "code",
   "execution_count": null,
   "metadata": {},
   "outputs": [],
   "source": []
  },
  {
   "cell_type": "markdown",
   "metadata": {},
   "source": [
    "### (hexbin plot)"
   ]
  }
 ],
 "metadata": {
  "kernelspec": {
   "display_name": "Python [conda env:LevelUp_DataScience] *",
   "language": "python",
   "name": "conda-env-LevelUp_DataScience-py"
  },
  "language_info": {
   "codemirror_mode": {
    "name": "ipython",
    "version": 3
   },
   "file_extension": ".py",
   "mimetype": "text/x-python",
   "name": "python",
   "nbconvert_exporter": "python",
   "pygments_lexer": "ipython3",
   "version": "3.8.5"
  }
 },
 "nbformat": 4,
 "nbformat_minor": 4
}
