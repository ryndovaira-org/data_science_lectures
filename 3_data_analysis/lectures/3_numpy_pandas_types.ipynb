{
 "cells": [
  {
   "cell_type": "markdown",
   "metadata": {},
   "source": [
    "# Пакеты `pandas` и `numpy`: типы данных"
   ]
  },
  {
   "cell_type": "markdown",
   "metadata": {},
   "source": [
    "\n",
    "---\n",
    "\n",
    "**Источники:**\n",
    "\n",
    "\n",
    "[what are all the dtypes that pandas recognizes?](https://stackoverflow.com/questions/29245848/what-are-all-the-dtypes-that-pandas-recognizes)\n",
    "\n",
    "[numpy.dtype](https://numpy.org/doc/stable/reference/generated/numpy.dtype.html#numpy.dtype)\n",
    "\n",
    "[Data types](https://numpy.org/doc/stable/user/basics.types.html)\n",
    "\n",
    "[Data type objects (dtype)](https://numpy.org/doc/stable/reference/arrays.dtypes.html#arrays-dtypes)\n",
    "\n",
    "[Scalars](https://docs.scipy.org/doc/numpy-1.13.0/reference/arrays.scalars.html)\n",
    "\n",
    "[Categorical data](https://pandas.pydata.org/pandas-docs/stable/user_guide/categorical.html)\n",
    "\n",
    "[Essential basic functionality](https://pandas.pydata.org/pandas-docs/stable/user_guide/basics.html)\n",
    "\n",
    "[Extension types](https://pandas.pydata.org/pandas-docs/stable/development/extending.html#extending-extension-types)\n",
    "\n",
    "[Трансформация данных в pandas ч.1 / pd 11](https://pythonru.com/biblioteki/transformacija-dannyh-v-pandas-ch-1-pd-11)\n",
    "\n",
    "---"
   ]
  },
  {
   "cell_type": "markdown",
   "metadata": {},
   "source": [
    "## Подготовка окружения"
   ]
  },
  {
   "cell_type": "code",
   "execution_count": 1,
   "metadata": {
    "collapsed": false,
    "jupyter": {
     "outputs_hidden": false
    },
    "pycharm": {
     "name": "#%%\n"
    }
   },
   "outputs": [
    {
     "name": "stdout",
     "output_type": "stream",
     "text": [
      "pip 20.3.3 from /home/ira/anaconda3/envs/LevelUp_DataScience/lib/python3.8/site-packages/pip (python 3.8)\n"
     ]
    }
   ],
   "source": [
    "# ВНИМАНИЕ: необходимо удостовериться, что виртуальная среда выбрана правильно!\n",
    "\n",
    "!pip -V"
   ]
  },
  {
   "cell_type": "code",
   "execution_count": 2,
   "metadata": {
    "collapsed": false,
    "jupyter": {
     "outputs_hidden": false
    },
    "pycharm": {
     "name": "#%%\n"
    }
   },
   "outputs": [],
   "source": [
    "# !conda install pandas numpy lxml -y"
   ]
  },
  {
   "cell_type": "code",
   "execution_count": 3,
   "metadata": {},
   "outputs": [
    {
     "data": {
      "text/plain": [
       "'1.19.2'"
      ]
     },
     "execution_count": 3,
     "metadata": {},
     "output_type": "execute_result"
    }
   ],
   "source": [
    "import numpy as np\n",
    "\n",
    "np.__version__"
   ]
  },
  {
   "cell_type": "code",
   "execution_count": 4,
   "metadata": {
    "collapsed": false,
    "jupyter": {
     "outputs_hidden": false
    },
    "pycharm": {
     "name": "#%%\n"
    }
   },
   "outputs": [
    {
     "data": {
      "text/plain": [
       "'1.2.1'"
      ]
     },
     "execution_count": 4,
     "metadata": {},
     "output_type": "execute_result"
    }
   ],
   "source": [
    "import pandas as pd\n",
    "\n",
    "pd.__version__"
   ]
  },
  {
   "cell_type": "markdown",
   "metadata": {},
   "source": [
    "## Обзор типов данных\n",
    "\n",
    "**`Pandas` в основном использует массивы и типы `NumPy`** для каждой серии (фрейм данных - это набор серий, каждая из которых может иметь свой собственный `dtype`).\n",
    "\n",
    "Документация `NumPy` дополнительно объясняет [`dtype`](https://numpy.org/doc/stable/reference/generated/numpy.dtype.html#numpy.dtype), [`Data types`](https://numpy.org/doc/stable/user/basics.types.html) и [`Data type objects (dtype)`](https://numpy.org/doc/stable/reference/arrays.dtypes.html#arrays-dtypes).\n"
   ]
  },
  {
   "cell_type": "code",
   "execution_count": 5,
   "metadata": {},
   "outputs": [
    {
     "data": {
      "text/html": [
       "<div>\n",
       "<style scoped>\n",
       "    .dataframe tbody tr th:only-of-type {\n",
       "        vertical-align: middle;\n",
       "    }\n",
       "\n",
       "    .dataframe tbody tr th {\n",
       "        vertical-align: top;\n",
       "    }\n",
       "\n",
       "    .dataframe thead th {\n",
       "        text-align: right;\n",
       "    }\n",
       "</style>\n",
       "<table border=\"1\" class=\"dataframe\">\n",
       "  <thead>\n",
       "    <tr style=\"text-align: right;\">\n",
       "      <th></th>\n",
       "      <th>A</th>\n",
       "    </tr>\n",
       "  </thead>\n",
       "  <tbody>\n",
       "    <tr>\n",
       "      <th>0</th>\n",
       "      <td>1</td>\n",
       "    </tr>\n",
       "    <tr>\n",
       "      <th>1</th>\n",
       "      <td>C</td>\n",
       "    </tr>\n",
       "    <tr>\n",
       "      <th>2</th>\n",
       "      <td>2.0</td>\n",
       "    </tr>\n",
       "  </tbody>\n",
       "</table>\n",
       "</div>"
      ],
      "text/plain": [
       "     A\n",
       "0    1\n",
       "1    C\n",
       "2  2.0"
      ]
     },
     "execution_count": 5,
     "metadata": {},
     "output_type": "execute_result"
    }
   ],
   "source": [
    "df = pd.DataFrame({'A': [1, 'C', 2.]})\n",
    "\n",
    "df"
   ]
  },
  {
   "cell_type": "code",
   "execution_count": 6,
   "metadata": {},
   "outputs": [
    {
     "data": {
      "text/plain": [
       "0      1\n",
       "1      C\n",
       "2    2.0\n",
       "Name: A, dtype: object"
      ]
     },
     "execution_count": 6,
     "metadata": {},
     "output_type": "execute_result"
    }
   ],
   "source": [
    "df['A']"
   ]
  },
  {
   "cell_type": "code",
   "execution_count": 7,
   "metadata": {},
   "outputs": [
    {
     "data": {
      "text/plain": [
       "dtype('O')"
      ]
     },
     "execution_count": 7,
     "metadata": {},
     "output_type": "execute_result"
    }
   ],
   "source": [
    "df['A'].dtype"
   ]
  },
  {
   "cell_type": "code",
   "execution_count": 8,
   "metadata": {},
   "outputs": [
    {
     "data": {
      "text/plain": [
       "numpy.dtype"
      ]
     },
     "execution_count": 8,
     "metadata": {},
     "output_type": "execute_result"
    }
   ],
   "source": [
    "type(df['A'].dtype)"
   ]
  },
  {
   "cell_type": "markdown",
   "metadata": {},
   "source": [
    "По умолчанию `int` - это `int64`, а `float` - `float64`, НЕЗАВИСИМО от платформы (32-разрядная или 64-разрядная)."
   ]
  },
  {
   "cell_type": "code",
   "execution_count": 9,
   "metadata": {},
   "outputs": [
    {
     "data": {
      "text/plain": [
       "a    int64\n",
       "dtype: object"
      ]
     },
     "execution_count": 9,
     "metadata": {},
     "output_type": "execute_result"
    }
   ],
   "source": [
    "pd.DataFrame([1, 2], columns=[\"a\"]).dtypes"
   ]
  },
  {
   "cell_type": "code",
   "execution_count": 10,
   "metadata": {},
   "outputs": [
    {
     "data": {
      "text/plain": [
       "a    int64\n",
       "dtype: object"
      ]
     },
     "execution_count": 10,
     "metadata": {},
     "output_type": "execute_result"
    }
   ],
   "source": [
    "pd.DataFrame({\"a\": [1, 2]}).dtypes"
   ]
  },
  {
   "cell_type": "code",
   "execution_count": 11,
   "metadata": {},
   "outputs": [
    {
     "data": {
      "text/plain": [
       "a    int64\n",
       "dtype: object"
      ]
     },
     "execution_count": 11,
     "metadata": {},
     "output_type": "execute_result"
    }
   ],
   "source": [
    "pd.DataFrame({\"a\": 1}, index=list(range(2))).dtypes"
   ]
  },
  {
   "cell_type": "markdown",
   "metadata": {},
   "source": [
    "`Numpy`, однако, выберет платформо-зависимые типы *при создании массивов*. Следующее будет результатом int32 на 32-битной платформе."
   ]
  },
  {
   "cell_type": "code",
   "execution_count": 12,
   "metadata": {},
   "outputs": [
    {
     "data": {
      "text/plain": [
       "0    int64\n",
       "dtype: object"
      ]
     },
     "execution_count": 12,
     "metadata": {},
     "output_type": "execute_result"
    }
   ],
   "source": [
    "pd.DataFrame(np.array([1, 2])).dtypes"
   ]
  },
  {
   "cell_type": "markdown",
   "metadata": {},
   "source": [
    "Одним из основных изменений в версии 1.0.0 `pandas` является введение `pd.NA` для представления скалярных пропущенных значений (а не предыдущих значений `np.nan`, `pd.NaT` или `None`, в зависимости от использования)."
   ]
  },
  {
   "cell_type": "markdown",
   "metadata": {},
   "source": [
    "## Пакет `numpy`: типы данных\n",
    "\n",
    "\n",
    "`Python` определяет только один тип определенного класса данных (существует только один целочисленный тип, один тип с плавающей запятой и т.д.).\n",
    "\n",
    "Это может быть удобно в приложениях, которым не нужно заботиться обо всех способах представления данных на компьютере.\n",
    "\n",
    "Однако для научных вычислений часто требуется больше контроля.\n",
    "\n",
    "\n",
    "В `NumPy` есть `24` фундаментальных типа `Python` для описания различных типов скаляров.\n",
    "\n",
    "Эти типы в основном основаны на типах, доступных в языке `C`, на котором написан `CPython`, с несколькими дополнительными типами, совместимыми с типами `Python`.\n",
    "\n",
    "Хотя скаляры массива неизменяемы (immutable), поэтому ни один из скалярных атрибутов массива не может быть установлен."
   ]
  },
  {
   "cell_type": "markdown",
   "metadata": {},
   "source": [
    "### Список типов `NumPy`"
   ]
  },
  {
   "cell_type": "markdown",
   "metadata": {},
   "source": [
    "<img src=\"images/dtype_hierarchy.png\"/>"
   ]
  },
  {
   "cell_type": "code",
   "execution_count": 13,
   "metadata": {},
   "outputs": [
    {
     "data": {
      "text/plain": [
       "[numpy.generic,\n",
       " [[numpy.number,\n",
       "   [[numpy.integer,\n",
       "     [[numpy.signedinteger,\n",
       "       [numpy.int8,\n",
       "        numpy.int16,\n",
       "        numpy.int32,\n",
       "        numpy.int64,\n",
       "        numpy.longlong,\n",
       "        numpy.timedelta64]],\n",
       "      [numpy.unsignedinteger,\n",
       "       [numpy.uint8,\n",
       "        numpy.uint16,\n",
       "        numpy.uint32,\n",
       "        numpy.uint64,\n",
       "        numpy.ulonglong]]]],\n",
       "    [numpy.inexact,\n",
       "     [[numpy.floating,\n",
       "       [numpy.float16, numpy.float32, numpy.float64, numpy.float128]],\n",
       "      [numpy.complexfloating,\n",
       "       [numpy.complex64, numpy.complex128, numpy.complex256]]]]]],\n",
       "  [numpy.flexible,\n",
       "   [[numpy.character, [numpy.bytes_, numpy.str_]],\n",
       "    [numpy.void, [numpy.record]]]],\n",
       "  numpy.bool_,\n",
       "  numpy.datetime64,\n",
       "  numpy.object_]]"
      ]
     },
     "execution_count": 13,
     "metadata": {},
     "output_type": "execute_result"
    }
   ],
   "source": [
    "def subdtypes(dtype):\n",
    "    subs = dtype.__subclasses__()\n",
    "    if not subs:\n",
    "        return dtype\n",
    "    return [dtype, [subdtypes(dt) for dt in subs]]\n",
    "\n",
    "subdtypes(np.generic)"
   ]
  },
  {
   "cell_type": "code",
   "execution_count": 14,
   "metadata": {},
   "outputs": [
    {
     "data": {
      "text/plain": [
       "1.0"
      ]
     },
     "execution_count": 14,
     "metadata": {},
     "output_type": "execute_result"
    }
   ],
   "source": [
    "np.float32(1.0)"
   ]
  },
  {
   "cell_type": "code",
   "execution_count": 15,
   "metadata": {},
   "outputs": [
    {
     "data": {
      "text/plain": [
       "array([1, 2, 4])"
      ]
     },
     "execution_count": 15,
     "metadata": {},
     "output_type": "execute_result"
    }
   ],
   "source": [
    "np.int_([1,2,4])"
   ]
  },
  {
   "cell_type": "code",
   "execution_count": 16,
   "metadata": {},
   "outputs": [
    {
     "data": {
      "text/plain": [
       "array([0, 1, 2], dtype=uint8)"
      ]
     },
     "execution_count": 16,
     "metadata": {},
     "output_type": "execute_result"
    }
   ],
   "source": [
    "z = np.arange(3, dtype=np.uint8)\n",
    "z"
   ]
  },
  {
   "cell_type": "markdown",
   "metadata": {},
   "source": [
    "Чтобы преобразовать тип **массива**, используйте метод `.astype()` (предпочтительно) или сам тип как функцию."
   ]
  },
  {
   "cell_type": "code",
   "execution_count": 17,
   "metadata": {},
   "outputs": [
    {
     "data": {
      "text/plain": [
       "array([0., 1., 2.])"
      ]
     },
     "execution_count": 17,
     "metadata": {},
     "output_type": "execute_result"
    }
   ],
   "source": [
    "# предпочтительно\n",
    "z = z.astype(np.float_)  \n",
    "z"
   ]
  },
  {
   "cell_type": "code",
   "execution_count": 18,
   "metadata": {},
   "outputs": [
    {
     "data": {
      "text/plain": [
       "dtype('float64')"
      ]
     },
     "execution_count": 18,
     "metadata": {},
     "output_type": "execute_result"
    }
   ],
   "source": [
    "z.dtype"
   ]
  },
  {
   "cell_type": "code",
   "execution_count": 19,
   "metadata": {},
   "outputs": [
    {
     "data": {
      "text/plain": [
       "array([0.+0.j, 1.+0.j, 2.+0.j])"
      ]
     },
     "execution_count": 19,
     "metadata": {},
     "output_type": "execute_result"
    }
   ],
   "source": [
    "z = np.complex_(z)\n",
    "z"
   ]
  },
  {
   "cell_type": "code",
   "execution_count": 20,
   "metadata": {},
   "outputs": [
    {
     "data": {
      "text/plain": [
       "dtype('complex128')"
      ]
     },
     "execution_count": 20,
     "metadata": {},
     "output_type": "execute_result"
    }
   ],
   "source": [
    "z.dtype"
   ]
  },
  {
   "cell_type": "code",
   "execution_count": 21,
   "metadata": {},
   "outputs": [
    {
     "data": {
      "text/plain": [
       "dtype('int64')"
      ]
     },
     "execution_count": 21,
     "metadata": {},
     "output_type": "execute_result"
    }
   ],
   "source": [
    "d = np.dtype(int)\n",
    "d"
   ]
  },
  {
   "cell_type": "code",
   "execution_count": 22,
   "metadata": {},
   "outputs": [
    {
     "data": {
      "text/plain": [
       "True"
      ]
     },
     "execution_count": 22,
     "metadata": {},
     "output_type": "execute_result"
    }
   ],
   "source": [
    "np.issubdtype(d, np.integer)"
   ]
  },
  {
   "cell_type": "code",
   "execution_count": 23,
   "metadata": {},
   "outputs": [
    {
     "data": {
      "text/plain": [
       "False"
      ]
     },
     "execution_count": 23,
     "metadata": {},
     "output_type": "execute_result"
    }
   ],
   "source": [
    "np.issubdtype(d, np.floating)"
   ]
  },
  {
   "cell_type": "markdown",
   "metadata": {},
   "source": [
    "### [Ошибки переполнения (Overflow Errors)](https://numpy.org/doc/stable/user/basics.types.html#overflow-errors)\n",
    "\n",
    "Поведение целочисленных типов `NumPy` и `Python` значительно отличается для целочисленных переполнений и может сбить с толку пользователей, ожидающих, что целые числа `NumPy` будут вести себя так же, как `int` в `Python`.\n",
    "\n",
    "В отличие от `NumPy`, размер `int` в `Python` является гибким. Это означает, что **целые числа `Python` могут расширяться для размещения любого целого числа и не будут переполняться**.\n",
    "\n",
    "**Фиксированный размер числовых типов `NumPy` может вызвать ошибки переполнения**, когда значение требует больше памяти, чем доступно в типе данных."
   ]
  },
  {
   "cell_type": "markdown",
   "metadata": {},
   "source": [
    "`NumPy` предоставляет `numpy.iinfo` и `numpy.finfo` для проверки минимального или максимального значений целых чисел и значений с плавающей запятой `NumPy` соответственно."
   ]
  },
  {
   "cell_type": "code",
   "execution_count": 24,
   "metadata": {},
   "outputs": [
    {
     "data": {
      "text/plain": [
       "iinfo(min=-9223372036854775808, max=9223372036854775807, dtype=int64)"
      ]
     },
     "execution_count": 24,
     "metadata": {},
     "output_type": "execute_result"
    }
   ],
   "source": [
    "np.iinfo(int)"
   ]
  },
  {
   "cell_type": "code",
   "execution_count": 25,
   "metadata": {},
   "outputs": [
    {
     "data": {
      "text/plain": [
       "iinfo(min=-9223372036854775808, max=9223372036854775807, dtype=int64)"
      ]
     },
     "execution_count": 25,
     "metadata": {},
     "output_type": "execute_result"
    }
   ],
   "source": [
    "np.iinfo(np.int64)"
   ]
  },
  {
   "cell_type": "code",
   "execution_count": 26,
   "metadata": {},
   "outputs": [
    {
     "data": {
      "text/plain": [
       "iinfo(min=-2147483648, max=2147483647, dtype=int32)"
      ]
     },
     "execution_count": 26,
     "metadata": {},
     "output_type": "execute_result"
    }
   ],
   "source": [
    "np.iinfo(np.int32)"
   ]
  },
  {
   "cell_type": "code",
   "execution_count": 27,
   "metadata": {},
   "outputs": [
    {
     "data": {
      "text/plain": [
       "iinfo(min=-32768, max=32767, dtype=int16)"
      ]
     },
     "execution_count": 27,
     "metadata": {},
     "output_type": "execute_result"
    }
   ],
   "source": [
    "np.iinfo(np.int16)"
   ]
  },
  {
   "cell_type": "code",
   "execution_count": 28,
   "metadata": {},
   "outputs": [
    {
     "data": {
      "text/plain": [
       "iinfo(min=-128, max=127, dtype=int8)"
      ]
     },
     "execution_count": 28,
     "metadata": {},
     "output_type": "execute_result"
    }
   ],
   "source": [
    "np.iinfo(np.int8)"
   ]
  },
  {
   "cell_type": "code",
   "execution_count": 29,
   "metadata": {},
   "outputs": [
    {
     "data": {
      "text/plain": [
       "127"
      ]
     },
     "execution_count": 29,
     "metadata": {},
     "output_type": "execute_result"
    }
   ],
   "source": [
    "np.int8(127)"
   ]
  },
  {
   "cell_type": "code",
   "execution_count": 30,
   "metadata": {},
   "outputs": [
    {
     "data": {
      "text/plain": [
       "-128"
      ]
     },
     "execution_count": 30,
     "metadata": {},
     "output_type": "execute_result"
    }
   ],
   "source": [
    "np.int8(128)"
   ]
  },
  {
   "cell_type": "code",
   "execution_count": 31,
   "metadata": {},
   "outputs": [
    {
     "data": {
      "text/plain": [
       "-128"
      ]
     },
     "execution_count": 31,
     "metadata": {},
     "output_type": "execute_result"
    }
   ],
   "source": [
    "np.int8(-128)"
   ]
  },
  {
   "cell_type": "code",
   "execution_count": 32,
   "metadata": {},
   "outputs": [
    {
     "data": {
      "text/plain": [
       "127"
      ]
     },
     "execution_count": 32,
     "metadata": {},
     "output_type": "execute_result"
    }
   ],
   "source": [
    "np.int8(-129)"
   ]
  },
  {
   "cell_type": "code",
   "execution_count": 33,
   "metadata": {},
   "outputs": [
    {
     "data": {
      "text/plain": [
       "10000000000000000"
      ]
     },
     "execution_count": 33,
     "metadata": {},
     "output_type": "execute_result"
    }
   ],
   "source": [
    "np.power(100, 8, dtype=np.int64)"
   ]
  },
  {
   "cell_type": "code",
   "execution_count": 34,
   "metadata": {},
   "outputs": [
    {
     "data": {
      "text/plain": [
       "1874919424"
      ]
     },
     "execution_count": 34,
     "metadata": {},
     "output_type": "execute_result"
    }
   ],
   "source": [
    "np.power(100, 8, dtype=np.int32)"
   ]
  },
  {
   "cell_type": "code",
   "execution_count": 35,
   "metadata": {},
   "outputs": [
    {
     "data": {
      "text/plain": [
       "0"
      ]
     },
     "execution_count": 35,
     "metadata": {},
     "output_type": "execute_result"
    }
   ],
   "source": [
    "np.power(100, 100, dtype=np.int64)"
   ]
  },
  {
   "cell_type": "code",
   "execution_count": 36,
   "metadata": {},
   "outputs": [
    {
     "data": {
      "text/plain": [
       "1e+200"
      ]
     },
     "execution_count": 36,
     "metadata": {},
     "output_type": "execute_result"
    }
   ],
   "source": [
    "np.power(100, 100, dtype=np.float64)"
   ]
  },
  {
   "cell_type": "markdown",
   "metadata": {},
   "source": [
    "***Экспоненциальная запись (Scientific notation) / (E Notation)**\n",
    "\n",
    "**Экспоненциальная запись** удобна для представления очень больших и очень малых чисел, а также для унификации их написания.\n",
    "\n",
    "**[E Notation](https://python-reference.readthedocs.io/en/latest/docs/float/scientific.html)**:\n",
    "\n",
    "Буква `E` представляет \"умноженное на десять в степени ...\".\n",
    "\n",
    "Примеры:\n",
    "\n",
    "`1.1e1 = 1.1 * 10**1 = 11.0`\n",
    "\n",
    "`1.1e+1 = 1.1 * 10**1 = 11.0`\n",
    "\n",
    "`8e-2 = 8 * 10**-2 = 0.08`\n",
    "\n",
    "`3.02E12 = 3.02 * 10**12 = 3,020,000,000,000`\n",
    "\n",
    "`9.236E-19 = 9.236 * 10**-19 = 0.0000000000000000009236`\n"
   ]
  },
  {
   "cell_type": "markdown",
   "metadata": {},
   "source": [
    "## Пакет `Pandas`: типы данных\n",
    "\n",
    "По большей части `pandas` использует массивы и типы `NumPy` для серий или отдельных столбцов `DataFrame`. \n",
    "\n",
    "`NumPy` обеспечивает поддержку `float`, `int`, `bool`, `timedelta64[ns]` и `datetime64[ns]` (обратите внимание, что `NumPy` не поддерживает дату и время с учетом часового пояса).\n",
    "\n",
    "`pandas` и сторонние (third-party) библиотеки расширяют систему типов `NumPy` в нескольких местах.\n",
    "\n",
    "В этом разделе описываются внутренние расширения `pandas`.\n",
    "\n",
    "В следующей таблице перечислены все типы расширений `pandas`."
   ]
  },
  {
   "cell_type": "code",
   "execution_count": 37,
   "metadata": {},
   "outputs": [],
   "source": [
    "htmp_basic_info = 'https://pandas.pydata.org/pandas-docs/stable/user_guide/basics.html'\n",
    "basic_info_tables = pd.read_html(htmp_basic_info)"
   ]
  },
  {
   "cell_type": "markdown",
   "metadata": {
    "jupyter": {
     "outputs_hidden": true
    }
   },
   "source": [
    "for index, table in enumerate(basic_info_tables):\n",
    "    print(f\"index = {index}\")\n",
    "    display(table)"
   ]
  },
  {
   "cell_type": "code",
   "execution_count": 38,
   "metadata": {},
   "outputs": [
    {
     "data": {
      "text/html": [
       "<div>\n",
       "<style scoped>\n",
       "    .dataframe tbody tr th:only-of-type {\n",
       "        vertical-align: middle;\n",
       "    }\n",
       "\n",
       "    .dataframe tbody tr th {\n",
       "        vertical-align: top;\n",
       "    }\n",
       "\n",
       "    .dataframe thead th {\n",
       "        text-align: right;\n",
       "    }\n",
       "</style>\n",
       "<table border=\"1\" class=\"dataframe\">\n",
       "  <thead>\n",
       "    <tr style=\"text-align: right;\">\n",
       "      <th></th>\n",
       "      <th>Kind of Data</th>\n",
       "      <th>Data Type</th>\n",
       "      <th>Scalar</th>\n",
       "      <th>Array</th>\n",
       "      <th>String Aliases</th>\n",
       "      <th>Documentation</th>\n",
       "    </tr>\n",
       "  </thead>\n",
       "  <tbody>\n",
       "    <tr>\n",
       "      <th>0</th>\n",
       "      <td>tz-aware datetime</td>\n",
       "      <td>DatetimeTZDtype</td>\n",
       "      <td>Timestamp</td>\n",
       "      <td>arrays.DatetimeArray</td>\n",
       "      <td>'datetime64[ns, &lt;tz&gt;]'</td>\n",
       "      <td>Time zone handling</td>\n",
       "    </tr>\n",
       "    <tr>\n",
       "      <th>1</th>\n",
       "      <td>Categorical</td>\n",
       "      <td>CategoricalDtype</td>\n",
       "      <td>(none)</td>\n",
       "      <td>Categorical</td>\n",
       "      <td>'category'</td>\n",
       "      <td>Categorical data</td>\n",
       "    </tr>\n",
       "    <tr>\n",
       "      <th>2</th>\n",
       "      <td>period (time spans)</td>\n",
       "      <td>PeriodDtype</td>\n",
       "      <td>Period</td>\n",
       "      <td>arrays.PeriodArray</td>\n",
       "      <td>'period[&lt;freq&gt;]', 'Period[&lt;freq&gt;]'</td>\n",
       "      <td>Time span representation</td>\n",
       "    </tr>\n",
       "    <tr>\n",
       "      <th>3</th>\n",
       "      <td>sparse</td>\n",
       "      <td>SparseDtype</td>\n",
       "      <td>(none)</td>\n",
       "      <td>arrays.SparseArray</td>\n",
       "      <td>'Sparse', 'Sparse[int]', 'Sparse[float]'</td>\n",
       "      <td>Sparse data structures</td>\n",
       "    </tr>\n",
       "    <tr>\n",
       "      <th>4</th>\n",
       "      <td>intervals</td>\n",
       "      <td>IntervalDtype</td>\n",
       "      <td>Interval</td>\n",
       "      <td>arrays.IntervalArray</td>\n",
       "      <td>'interval', 'Interval', 'Interval[&lt;numpy_dtype...</td>\n",
       "      <td>IntervalIndex</td>\n",
       "    </tr>\n",
       "    <tr>\n",
       "      <th>5</th>\n",
       "      <td>nullable integer</td>\n",
       "      <td>Int64Dtype, …</td>\n",
       "      <td>(none)</td>\n",
       "      <td>arrays.IntegerArray</td>\n",
       "      <td>'Int8', 'Int16', 'Int32', 'Int64', 'UInt8', 'U...</td>\n",
       "      <td>Nullable integer data type</td>\n",
       "    </tr>\n",
       "    <tr>\n",
       "      <th>7</th>\n",
       "      <td>Strings</td>\n",
       "      <td>StringDtype</td>\n",
       "      <td>str</td>\n",
       "      <td>arrays.StringArray</td>\n",
       "      <td>'string'</td>\n",
       "      <td>Working with text data</td>\n",
       "    </tr>\n",
       "    <tr>\n",
       "      <th>8</th>\n",
       "      <td>Boolean (with NA)</td>\n",
       "      <td>BooleanDtype</td>\n",
       "      <td>bool</td>\n",
       "      <td>arrays.BooleanArray</td>\n",
       "      <td>'boolean'</td>\n",
       "      <td>Boolean data with missing values</td>\n",
       "    </tr>\n",
       "  </tbody>\n",
       "</table>\n",
       "</div>"
      ],
      "text/plain": [
       "          Kind of Data         Data Type     Scalar                 Array  \\\n",
       "0    tz-aware datetime   DatetimeTZDtype  Timestamp  arrays.DatetimeArray   \n",
       "1          Categorical  CategoricalDtype     (none)           Categorical   \n",
       "2  period (time spans)       PeriodDtype     Period    arrays.PeriodArray   \n",
       "3               sparse       SparseDtype     (none)    arrays.SparseArray   \n",
       "4            intervals     IntervalDtype   Interval  arrays.IntervalArray   \n",
       "5     nullable integer     Int64Dtype, …     (none)   arrays.IntegerArray   \n",
       "7              Strings       StringDtype        str    arrays.StringArray   \n",
       "8    Boolean (with NA)      BooleanDtype       bool   arrays.BooleanArray   \n",
       "\n",
       "                                      String Aliases  \\\n",
       "0                             'datetime64[ns, <tz>]'   \n",
       "1                                         'category'   \n",
       "2                 'period[<freq>]', 'Period[<freq>]'   \n",
       "3           'Sparse', 'Sparse[int]', 'Sparse[float]'   \n",
       "4  'interval', 'Interval', 'Interval[<numpy_dtype...   \n",
       "5  'Int8', 'Int16', 'Int32', 'Int64', 'UInt8', 'U...   \n",
       "7                                           'string'   \n",
       "8                                          'boolean'   \n",
       "\n",
       "                      Documentation  \n",
       "0                Time zone handling  \n",
       "1                  Categorical data  \n",
       "2          Time span representation  \n",
       "3            Sparse data structures  \n",
       "4                     IntervalIndex  \n",
       "5        Nullable integer data type  \n",
       "7            Working with text data  \n",
       "8  Boolean data with missing values  "
      ]
     },
     "execution_count": 38,
     "metadata": {},
     "output_type": "execute_result"
    }
   ],
   "source": [
    "pandas_types_df = basic_info_tables[3]\n",
    "\n",
    "pandas_types_df.drop_duplicates()"
   ]
  },
  {
   "cell_type": "markdown",
   "metadata": {},
   "source": [
    "### [Категориальные данные (Categorical data)](https://pandas.pydata.org/pandas-docs/stable/user_guide/categorical.html#categorical)"
   ]
  },
  {
   "cell_type": "markdown",
   "metadata": {},
   "source": [
    "#### Вид данных\n",
    "\n",
    "Категории - это тип данных, соответствующий категориальным переменным в статистике. \n",
    "\n",
    "Категориальная переменная принимает ограниченное и обычно фиксированное количество возможных значений.\n",
    "\n",
    "Примеры: пол, социальный класс, группа крови, принадлежность к стране, язык.\n",
    "\n",
    "В отличие от статистических категориальных переменных, категориальные данные *могут иметь порядок* (например, \"полностью согласен\" и \"согласен\" или \"первое наблюдение\" и \"второго наблюдения\"), но числовые операции (добавления, деления и т.д.) невозможны.\n",
    "\n",
    "Все значения категориальных данных либо `categories`, либо `np.nan`.\n",
    "\n",
    "Порядок определяется порядком `categories`, а не лексическим порядком значений.\n",
    "\n",
    "Структура данных состоит из массива `categories` и целочисленного массива `codes`, которые указывают на реальное значение в массиве категорий."
   ]
  },
  {
   "cell_type": "markdown",
   "metadata": {},
   "source": [
    "#### Применение категориального типа данных"
   ]
  },
  {
   "cell_type": "markdown",
   "metadata": {},
   "source": [
    "##### Использование памяти (Memory usage)\n",
    "\n",
    "Строковая переменная, состоящая всего из нескольких разных значений. Преобразование такой строковой переменной в категориальную позволяет сэкономить память."
   ]
  },
  {
   "cell_type": "code",
   "execution_count": 39,
   "metadata": {},
   "outputs": [
    {
     "data": {
      "text/plain": [
       "0       foo\n",
       "1       bar\n",
       "2       foo\n",
       "3       bar\n",
       "4       foo\n",
       "       ... \n",
       "1995    bar\n",
       "1996    foo\n",
       "1997    bar\n",
       "1998    foo\n",
       "1999    bar\n",
       "Length: 2000, dtype: object"
      ]
     },
     "metadata": {},
     "output_type": "display_data"
    },
    {
     "name": "stdout",
     "output_type": "stream",
     "text": [
      "\n",
      "unique count = 2\n",
      "\n",
      "object dtype = 16000\n",
      "\n",
      "category dtype = 2016\n"
     ]
    }
   ],
   "source": [
    "# использование памяти категориальным элементом \n",
    "# пропорционально количеству категорий плюс длина данных,\n",
    "# объект dtype - это константа, умноженная на длину данных\n",
    "s = pd.Series([\"foo\", \"bar\"] * 1000)\n",
    "display(s)\n",
    "\n",
    "print(\"\\nunique count =\", \n",
    "      s.nunique())\n",
    "\n",
    "print(\"\\nobject dtype =\", \n",
    "      s.nbytes)\n",
    "\n",
    "print(\"\\ncategory dtype =\", \n",
    "      s.astype(\"category\").nbytes)"
   ]
  },
  {
   "cell_type": "code",
   "execution_count": 40,
   "metadata": {},
   "outputs": [
    {
     "data": {
      "text/plain": [
       "0       foo0000\n",
       "1       foo0001\n",
       "2       foo0002\n",
       "3       foo0003\n",
       "4       foo0004\n",
       "         ...   \n",
       "1995    foo1995\n",
       "1996    foo1996\n",
       "1997    foo1997\n",
       "1998    foo1998\n",
       "1999    foo1999\n",
       "Length: 2000, dtype: object"
      ]
     },
     "metadata": {},
     "output_type": "display_data"
    },
    {
     "name": "stdout",
     "output_type": "stream",
     "text": [
      "\n",
      "unique count = 2000\n",
      "\n",
      "object dtype = 16000\n",
      "\n",
      "category dtype = 20000\n"
     ]
    }
   ],
   "source": [
    "# если количество категорий приближается к длине данных, \n",
    "# категориальный будет использовать почти столько же \n",
    "# или больше памяти, чем эквивалентное представление dtype объекта\n",
    "s = pd.Series([\"foo%04d\" % i for i in range(2000)])\n",
    "display(s)\n",
    "\n",
    "print(\"\\nunique count =\", s.nunique())\n",
    "\n",
    "print(\"\\nobject dtype =\", s.nbytes)\n",
    "\n",
    "print(\"\\ncategory dtype =\", s.astype(\"category\").nbytes)"
   ]
  },
  {
   "cell_type": "markdown",
   "metadata": {},
   "source": [
    "##### Сортировка и порядок (Sorting and order)\n",
    "\n",
    "Лексический порядок переменной отличается от логического порядка (\"один\", \"два\", \"три\"). При преобразовании в категориальный тип и указании порядка в категориях, сортировка и мин/макс будут использовать логический порядок вместо лексического."
   ]
  },
  {
   "cell_type": "markdown",
   "metadata": {},
   "source": [
    "Если категориальные данные упорядочены (`ordered == True`), то порядок категорий имеет значение и возможны определенные операции. Если категориальные данные неупорядочены, методы `min()`/`max()` вызовут `TypeError`."
   ]
  },
  {
   "cell_type": "code",
   "execution_count": 41,
   "metadata": {},
   "outputs": [
    {
     "data": {
      "text/plain": [
       "0    a\n",
       "1    b\n",
       "2    c\n",
       "3    a\n",
       "dtype: category\n",
       "Categories (3, object): ['a', 'b', 'c']"
      ]
     },
     "execution_count": 41,
     "metadata": {},
     "output_type": "execute_result"
    }
   ],
   "source": [
    "s = pd.Series(pd.Categorical([\"a\", \"b\", \"c\", \"a\"], \n",
    "                             ordered=False))\n",
    "s"
   ]
  },
  {
   "cell_type": "code",
   "execution_count": 42,
   "metadata": {},
   "outputs": [
    {
     "data": {
      "text/plain": [
       "0    a\n",
       "3    a\n",
       "1    b\n",
       "2    c\n",
       "dtype: category\n",
       "Categories (3, object): ['a', 'b', 'c']"
      ]
     },
     "execution_count": 42,
     "metadata": {},
     "output_type": "execute_result"
    }
   ],
   "source": [
    "s.sort_values(inplace=True)\n",
    "s"
   ]
  },
  {
   "cell_type": "code",
   "execution_count": 43,
   "metadata": {},
   "outputs": [
    {
     "name": "stdout",
     "output_type": "stream",
     "text": [
      "Exeption!\n",
      "<built-in method with_traceback of TypeError object at 0x7f61c5099770>\n"
     ]
    }
   ],
   "source": [
    "try:\n",
    "    print(f\"min = {s.min()}\\nmax = {s.max()}\")\n",
    "except TypeError as te:\n",
    "    print(f\"Exeption!\\n{te.with_traceback}\")"
   ]
  },
  {
   "cell_type": "code",
   "execution_count": 44,
   "metadata": {},
   "outputs": [
    {
     "data": {
      "text/plain": [
       "0    a\n",
       "1    b\n",
       "2    c\n",
       "3    a\n",
       "dtype: category\n",
       "Categories (3, object): ['a' < 'b' < 'c']"
      ]
     },
     "execution_count": 44,
     "metadata": {},
     "output_type": "execute_result"
    }
   ],
   "source": [
    "from pandas.api.types import CategoricalDtype\n",
    "\n",
    "s = pd.Series([\"a\", \"b\", \"c\", \"a\"]).astype(CategoricalDtype(ordered=True))\n",
    "s"
   ]
  },
  {
   "cell_type": "code",
   "execution_count": 45,
   "metadata": {},
   "outputs": [
    {
     "data": {
      "text/plain": [
       "0    a\n",
       "3    a\n",
       "1    b\n",
       "2    c\n",
       "dtype: category\n",
       "Categories (3, object): ['a' < 'b' < 'c']"
      ]
     },
     "execution_count": 45,
     "metadata": {},
     "output_type": "execute_result"
    }
   ],
   "source": [
    "s.sort_values(inplace=True)\n",
    "s"
   ]
  },
  {
   "cell_type": "code",
   "execution_count": 46,
   "metadata": {},
   "outputs": [
    {
     "name": "stdout",
     "output_type": "stream",
     "text": [
      "min = a\n",
      "max = c\n"
     ]
    }
   ],
   "source": [
    "print(f\"min = {s.min()}\\nmax = {s.max()}\")"
   ]
  },
  {
   "cell_type": "markdown",
   "metadata": {},
   "source": [
    "Можно установить признак категориальных данных, которые будут упорядочены с помощью `as_ordered()` или неупорядочены с помощью `as_unordered()`. По умолчанию они вернут новый объект."
   ]
  },
  {
   "cell_type": "code",
   "execution_count": 47,
   "metadata": {},
   "outputs": [
    {
     "data": {
      "text/plain": [
       "0    a\n",
       "3    a\n",
       "1    b\n",
       "2    c\n",
       "dtype: category\n",
       "Categories (3, object): ['a' < 'b' < 'c']"
      ]
     },
     "execution_count": 47,
     "metadata": {},
     "output_type": "execute_result"
    }
   ],
   "source": [
    "s.cat.as_ordered()"
   ]
  },
  {
   "cell_type": "code",
   "execution_count": 48,
   "metadata": {},
   "outputs": [
    {
     "data": {
      "text/plain": [
       "0    a\n",
       "3    a\n",
       "1    b\n",
       "2    c\n",
       "dtype: category\n",
       "Categories (3, object): ['a', 'b', 'c']"
      ]
     },
     "execution_count": 48,
     "metadata": {},
     "output_type": "execute_result"
    }
   ],
   "source": [
    "s.cat.as_unordered()"
   ]
  },
  {
   "cell_type": "markdown",
   "metadata": {},
   "source": [
    "При сортировке будет использоваться порядок, определенный категориями, а не какой-либо лексический порядок, присутствующий в типе данных. Это верно даже для строк и числовых данных."
   ]
  },
  {
   "cell_type": "code",
   "execution_count": 49,
   "metadata": {},
   "outputs": [
    {
     "data": {
      "text/plain": [
       "0    1\n",
       "1    2\n",
       "2    3\n",
       "3    1\n",
       "dtype: category\n",
       "Categories (3, int64): [1, 2, 3]"
      ]
     },
     "execution_count": 49,
     "metadata": {},
     "output_type": "execute_result"
    }
   ],
   "source": [
    "s = pd.Series([1, 2, 3, 1], \n",
    "              dtype=\"category\")\n",
    "s"
   ]
  },
  {
   "cell_type": "code",
   "execution_count": 50,
   "metadata": {},
   "outputs": [
    {
     "data": {
      "text/plain": [
       "0    1\n",
       "1    2\n",
       "2    3\n",
       "3    1\n",
       "dtype: category\n",
       "Categories (3, int64): [2 < 3 < 1]"
      ]
     },
     "execution_count": 50,
     "metadata": {},
     "output_type": "execute_result"
    }
   ],
   "source": [
    "# установить порядок для категорий\n",
    "s = s.cat.set_categories([2, 3, 1], \n",
    "                         ordered=True)\n",
    "s"
   ]
  },
  {
   "cell_type": "code",
   "execution_count": 51,
   "metadata": {},
   "outputs": [
    {
     "data": {
      "text/plain": [
       "1    2\n",
       "2    3\n",
       "0    1\n",
       "3    1\n",
       "dtype: category\n",
       "Categories (3, int64): [2 < 3 < 1]"
      ]
     },
     "execution_count": 51,
     "metadata": {},
     "output_type": "execute_result"
    }
   ],
   "source": [
    "s.sort_values(inplace=True)\n",
    "s"
   ]
  },
  {
   "cell_type": "code",
   "execution_count": 52,
   "metadata": {},
   "outputs": [
    {
     "name": "stdout",
     "output_type": "stream",
     "text": [
      "min = 2\n",
      "max = 1\n"
     ]
    }
   ],
   "source": [
    "print(f\"min = {s.min()}\\nmax = {s.max()}\")"
   ]
  },
  {
   "cell_type": "markdown",
   "metadata": {},
   "source": [
    "##### Другие библиотеки `Python`\n",
    "\n",
    "Как сигнал другим библиотекам `Python` о том, что этот столбец следует рассматривать как категориальную переменную (например, для использования подходящих статистических методов или типов графиков)."
   ]
  },
  {
   "cell_type": "markdown",
   "metadata": {},
   "source": [
    "### [Разреженные структуры данных (Sparse data structures)](https://pandas.pydata.org/pandas-docs/stable/user_guide/sparse.html#sparse)"
   ]
  },
  {
   "cell_type": "markdown",
   "metadata": {},
   "source": [
    "#### Вид данных\n",
    "\n",
    "Различные **разреженные матрицы**.\n",
    "\n",
    "**Разрежённая матрица** — это матрица с преимущественно нулевыми элементами. В противном случае, если бо́льшая часть элементов матрицы ненулевые, матрица считается плотной.\n",
    "\n",
    "Среди специалистов нет единства в определении того, какое именно количество ненулевых элементов делает **матрицу разрежённой. Разные авторы предлагают различные варианты.\n",
    "\n",
    "![](images/sparse_matrix.png)\n",
    "\n",
    "Это не обязательно разреженность в типичном варианте: \"в основном 0\".\n",
    "\n",
    "Скорее, можно рассматривать эти объекты как \"сжатые\", где любые данные, соответствующие определенному значению (`NaN` / отсутствующее значение, хотя может быть выбрано любое значение, включая `0`), опущены.\n",
    "\n",
    "Сжатые значения фактически не хранятся в массиве."
   ]
  },
  {
   "cell_type": "markdown",
   "metadata": {},
   "source": [
    "#### Обзор `SparseArray`"
   ]
  },
  {
   "cell_type": "code",
   "execution_count": 53,
   "metadata": {},
   "outputs": [
    {
     "data": {
      "text/plain": [
       "[-0.13225697435311407,\n",
       " -0.7008160092073938,\n",
       " -0.6300629237694231,\n",
       " 1.3719047931985546,\n",
       " 0.06627723479696992,\n",
       " 0.17518743401789263,\n",
       " -0.7066508658757711,\n",
       " 0.5858514462175498,\n",
       " -0.7494273775153121,\n",
       " 0.27389186158100165]"
      ]
     },
     "execution_count": 53,
     "metadata": {},
     "output_type": "execute_result"
    }
   ],
   "source": [
    "arr = np.random.randn(10)\n",
    "arr.tolist()"
   ]
  },
  {
   "cell_type": "code",
   "execution_count": 54,
   "metadata": {},
   "outputs": [
    {
     "data": {
      "text/plain": [
       "[-0.13225697435311407,\n",
       " -0.7008160092073938,\n",
       " nan,\n",
       " nan,\n",
       " nan,\n",
       " nan,\n",
       " nan,\n",
       " nan,\n",
       " -0.7494273775153121,\n",
       " 0.27389186158100165]"
      ]
     },
     "execution_count": 54,
     "metadata": {},
     "output_type": "execute_result"
    }
   ],
   "source": [
    "arr[2:-2] = np.nan\n",
    "arr.tolist()"
   ]
  },
  {
   "cell_type": "code",
   "execution_count": 55,
   "metadata": {},
   "outputs": [
    {
     "data": {
      "text/plain": [
       "0   -0.132257\n",
       "1   -0.700816\n",
       "2         NaN\n",
       "3         NaN\n",
       "4         NaN\n",
       "5         NaN\n",
       "6         NaN\n",
       "7         NaN\n",
       "8   -0.749427\n",
       "9    0.273892\n",
       "dtype: Sparse[float64, nan]"
      ]
     },
     "execution_count": 55,
     "metadata": {},
     "output_type": "execute_result"
    }
   ],
   "source": [
    "ts = pd.Series(pd.arrays.SparseArray(arr))\n",
    "ts"
   ]
  },
  {
   "cell_type": "markdown",
   "metadata": {},
   "source": [
    "Обратите внимание на `dtype`, `Sparse[float64, NaN]`.\n",
    "\n",
    "`NaN` означает, что элементы в массиве, которые являются `NaN`, на самом деле не сохраняются, а хранятся только элементы, отличные от `NaN`.\n",
    "\n",
    "Эти элементы, отличные от `NaN`, имеют тип float64 dtype."
   ]
  },
  {
   "cell_type": "markdown",
   "metadata": {},
   "source": [
    "#### Использование памяти (Memory usage)\n",
    "\n",
    "Объекты `Sparse` существуют для повышения эффективности памяти.\n",
    "\n",
    "Предположим, существует большой, в основном `NA` `DataFrame`. \n",
    "\n",
    "Плотность (% значений, которые не были \"сжаты\") чрезвычайно низкая.\n",
    "\n",
    "Этот разреженный объект занимает гораздо меньше памяти на диске (`pickled`) и в интерпретаторе `Python`.\n",
    "\n",
    "Функционально поведение `Sparse` должно быть почти идентичным их \"плотным\" аналогам."
   ]
  },
  {
   "cell_type": "code",
   "execution_count": 56,
   "metadata": {},
   "outputs": [
    {
     "data": {
      "text/html": [
       "<div>\n",
       "<style scoped>\n",
       "    .dataframe tbody tr th:only-of-type {\n",
       "        vertical-align: middle;\n",
       "    }\n",
       "\n",
       "    .dataframe tbody tr th {\n",
       "        vertical-align: top;\n",
       "    }\n",
       "\n",
       "    .dataframe thead th {\n",
       "        text-align: right;\n",
       "    }\n",
       "</style>\n",
       "<table border=\"1\" class=\"dataframe\">\n",
       "  <thead>\n",
       "    <tr style=\"text-align: right;\">\n",
       "      <th></th>\n",
       "      <th>0</th>\n",
       "      <th>1</th>\n",
       "      <th>2</th>\n",
       "      <th>3</th>\n",
       "    </tr>\n",
       "  </thead>\n",
       "  <tbody>\n",
       "    <tr>\n",
       "      <th>0</th>\n",
       "      <td>NaN</td>\n",
       "      <td>NaN</td>\n",
       "      <td>NaN</td>\n",
       "      <td>NaN</td>\n",
       "    </tr>\n",
       "    <tr>\n",
       "      <th>1</th>\n",
       "      <td>NaN</td>\n",
       "      <td>NaN</td>\n",
       "      <td>NaN</td>\n",
       "      <td>NaN</td>\n",
       "    </tr>\n",
       "    <tr>\n",
       "      <th>2</th>\n",
       "      <td>NaN</td>\n",
       "      <td>NaN</td>\n",
       "      <td>NaN</td>\n",
       "      <td>NaN</td>\n",
       "    </tr>\n",
       "    <tr>\n",
       "      <th>3</th>\n",
       "      <td>NaN</td>\n",
       "      <td>NaN</td>\n",
       "      <td>NaN</td>\n",
       "      <td>NaN</td>\n",
       "    </tr>\n",
       "    <tr>\n",
       "      <th>4</th>\n",
       "      <td>NaN</td>\n",
       "      <td>NaN</td>\n",
       "      <td>NaN</td>\n",
       "      <td>NaN</td>\n",
       "    </tr>\n",
       "    <tr>\n",
       "      <th>...</th>\n",
       "      <td>...</td>\n",
       "      <td>...</td>\n",
       "      <td>...</td>\n",
       "      <td>...</td>\n",
       "    </tr>\n",
       "    <tr>\n",
       "      <th>9995</th>\n",
       "      <td>NaN</td>\n",
       "      <td>NaN</td>\n",
       "      <td>NaN</td>\n",
       "      <td>NaN</td>\n",
       "    </tr>\n",
       "    <tr>\n",
       "      <th>9996</th>\n",
       "      <td>NaN</td>\n",
       "      <td>NaN</td>\n",
       "      <td>NaN</td>\n",
       "      <td>NaN</td>\n",
       "    </tr>\n",
       "    <tr>\n",
       "      <th>9997</th>\n",
       "      <td>NaN</td>\n",
       "      <td>NaN</td>\n",
       "      <td>NaN</td>\n",
       "      <td>NaN</td>\n",
       "    </tr>\n",
       "    <tr>\n",
       "      <th>9998</th>\n",
       "      <td>-1.322282</td>\n",
       "      <td>0.088906</td>\n",
       "      <td>-0.667826</td>\n",
       "      <td>-1.204237</td>\n",
       "    </tr>\n",
       "    <tr>\n",
       "      <th>9999</th>\n",
       "      <td>0.221724</td>\n",
       "      <td>1.262122</td>\n",
       "      <td>0.854787</td>\n",
       "      <td>-0.051028</td>\n",
       "    </tr>\n",
       "  </tbody>\n",
       "</table>\n",
       "<p>10000 rows × 4 columns</p>\n",
       "</div>"
      ],
      "text/plain": [
       "             0         1         2         3\n",
       "0          NaN       NaN       NaN       NaN\n",
       "1          NaN       NaN       NaN       NaN\n",
       "2          NaN       NaN       NaN       NaN\n",
       "3          NaN       NaN       NaN       NaN\n",
       "4          NaN       NaN       NaN       NaN\n",
       "...        ...       ...       ...       ...\n",
       "9995       NaN       NaN       NaN       NaN\n",
       "9996       NaN       NaN       NaN       NaN\n",
       "9997       NaN       NaN       NaN       NaN\n",
       "9998 -1.322282  0.088906 -0.667826 -1.204237\n",
       "9999  0.221724  1.262122  0.854787 -0.051028\n",
       "\n",
       "[10000 rows x 4 columns]"
      ]
     },
     "execution_count": 56,
     "metadata": {},
     "output_type": "execute_result"
    }
   ],
   "source": [
    "df = pd.DataFrame(np.random.randn(10000, 4))\n",
    "df.iloc[:9998] = np.nan\n",
    "df"
   ]
  },
  {
   "cell_type": "code",
   "execution_count": 57,
   "metadata": {},
   "outputs": [
    {
     "data": {
      "text/html": [
       "<div>\n",
       "<style scoped>\n",
       "    .dataframe tbody tr th:only-of-type {\n",
       "        vertical-align: middle;\n",
       "    }\n",
       "\n",
       "    .dataframe tbody tr th {\n",
       "        vertical-align: top;\n",
       "    }\n",
       "\n",
       "    .dataframe thead th {\n",
       "        text-align: right;\n",
       "    }\n",
       "</style>\n",
       "<table border=\"1\" class=\"dataframe\">\n",
       "  <thead>\n",
       "    <tr style=\"text-align: right;\">\n",
       "      <th></th>\n",
       "      <th>0</th>\n",
       "      <th>1</th>\n",
       "      <th>2</th>\n",
       "      <th>3</th>\n",
       "    </tr>\n",
       "  </thead>\n",
       "  <tbody>\n",
       "    <tr>\n",
       "      <th>0</th>\n",
       "      <td>NaN</td>\n",
       "      <td>NaN</td>\n",
       "      <td>NaN</td>\n",
       "      <td>NaN</td>\n",
       "    </tr>\n",
       "    <tr>\n",
       "      <th>1</th>\n",
       "      <td>NaN</td>\n",
       "      <td>NaN</td>\n",
       "      <td>NaN</td>\n",
       "      <td>NaN</td>\n",
       "    </tr>\n",
       "    <tr>\n",
       "      <th>2</th>\n",
       "      <td>NaN</td>\n",
       "      <td>NaN</td>\n",
       "      <td>NaN</td>\n",
       "      <td>NaN</td>\n",
       "    </tr>\n",
       "    <tr>\n",
       "      <th>3</th>\n",
       "      <td>NaN</td>\n",
       "      <td>NaN</td>\n",
       "      <td>NaN</td>\n",
       "      <td>NaN</td>\n",
       "    </tr>\n",
       "    <tr>\n",
       "      <th>4</th>\n",
       "      <td>NaN</td>\n",
       "      <td>NaN</td>\n",
       "      <td>NaN</td>\n",
       "      <td>NaN</td>\n",
       "    </tr>\n",
       "    <tr>\n",
       "      <th>...</th>\n",
       "      <td>...</td>\n",
       "      <td>...</td>\n",
       "      <td>...</td>\n",
       "      <td>...</td>\n",
       "    </tr>\n",
       "    <tr>\n",
       "      <th>9995</th>\n",
       "      <td>NaN</td>\n",
       "      <td>NaN</td>\n",
       "      <td>NaN</td>\n",
       "      <td>NaN</td>\n",
       "    </tr>\n",
       "    <tr>\n",
       "      <th>9996</th>\n",
       "      <td>NaN</td>\n",
       "      <td>NaN</td>\n",
       "      <td>NaN</td>\n",
       "      <td>NaN</td>\n",
       "    </tr>\n",
       "    <tr>\n",
       "      <th>9997</th>\n",
       "      <td>NaN</td>\n",
       "      <td>NaN</td>\n",
       "      <td>NaN</td>\n",
       "      <td>NaN</td>\n",
       "    </tr>\n",
       "    <tr>\n",
       "      <th>9998</th>\n",
       "      <td>-1.322282</td>\n",
       "      <td>0.088906</td>\n",
       "      <td>-0.667826</td>\n",
       "      <td>-1.204237</td>\n",
       "    </tr>\n",
       "    <tr>\n",
       "      <th>9999</th>\n",
       "      <td>0.221724</td>\n",
       "      <td>1.262122</td>\n",
       "      <td>0.854787</td>\n",
       "      <td>-0.051028</td>\n",
       "    </tr>\n",
       "  </tbody>\n",
       "</table>\n",
       "<p>10000 rows × 4 columns</p>\n",
       "</div>"
      ],
      "text/plain": [
       "             0         1         2         3\n",
       "0          NaN       NaN       NaN       NaN\n",
       "1          NaN       NaN       NaN       NaN\n",
       "2          NaN       NaN       NaN       NaN\n",
       "3          NaN       NaN       NaN       NaN\n",
       "4          NaN       NaN       NaN       NaN\n",
       "...        ...       ...       ...       ...\n",
       "9995       NaN       NaN       NaN       NaN\n",
       "9996       NaN       NaN       NaN       NaN\n",
       "9997       NaN       NaN       NaN       NaN\n",
       "9998 -1.322282  0.088906 -0.667826 -1.204237\n",
       "9999  0.221724  1.262122  0.854787 -0.051028\n",
       "\n",
       "[10000 rows x 4 columns]"
      ]
     },
     "metadata": {},
     "output_type": "display_data"
    },
    {
     "name": "stdout",
     "output_type": "stream",
     "text": [
      "\n",
      "sdf.dtypes = 0    Sparse[float64, nan]\n",
      "1    Sparse[float64, nan]\n",
      "2    Sparse[float64, nan]\n",
      "3    Sparse[float64, nan]\n",
      "dtype: object\n",
      "\n",
      "sdf.sparse.density = 0.0002\n"
     ]
    }
   ],
   "source": [
    "sdf = df.astype(pd.SparseDtype(\"float\", np.nan))\n",
    "display(sdf)\n",
    "\n",
    "print(\"\\nsdf.dtypes =\", sdf.dtypes)\n",
    "\n",
    "# плотность (% значений, которые не были \"сжаты\")\n",
    "print(\"\\nsdf.sparse.density =\", sdf.sparse.density)"
   ]
  },
  {
   "cell_type": "code",
   "execution_count": 58,
   "metadata": {},
   "outputs": [
    {
     "name": "stdout",
     "output_type": "stream",
     "text": [
      "dense (df) : 320.13 bytes\n",
      "dense (sfd): 320.13 bytes\n"
     ]
    }
   ],
   "source": [
    "print('dense (df) : {:0.2f} bytes'\n",
    "      .format(df.memory_usage().sum() / 1e3))\n",
    "\n",
    "print('dense (sfd): {:0.2f} bytes'\n",
    "      .format(df.memory_usage().sum() / 1e3))"
   ]
  },
  {
   "cell_type": "markdown",
   "metadata": {},
   "source": [
    "### [Интервальный индекс (IntervalIndex)](https://pandas.pydata.org/pandas-docs/stable/user_guide/advanced.html#advanced-intervalindex)"
   ]
  },
  {
   "cell_type": "markdown",
   "metadata": {},
   "source": [
    "#### Вид данных\n",
    "\n",
    "`IntervalIndex` вместе со своим собственным `dtype` - `IntervalDtype`, а также скалярным типом `Interval` обеспечивают первоклассную поддержку `pandas` для обозначения интервалов.\n",
    "\n",
    "\n",
    "`IntervalIndex` допускает некоторую уникальную индексацию, а также используется в качестве возвращаемого типа для категориального типа в методах `cut()` и `qcut()`."
   ]
  },
  {
   "cell_type": "markdown",
   "metadata": {},
   "source": [
    "#### Индексирование с помощью `IntervalIndex`\n",
    "\n",
    "`IntervalIndex` может использоваться в `Series` и `DataFrame` в качестве индекса."
   ]
  },
  {
   "cell_type": "code",
   "execution_count": 59,
   "metadata": {},
   "outputs": [
    {
     "data": {
      "text/html": [
       "<div>\n",
       "<style scoped>\n",
       "    .dataframe tbody tr th:only-of-type {\n",
       "        vertical-align: middle;\n",
       "    }\n",
       "\n",
       "    .dataframe tbody tr th {\n",
       "        vertical-align: top;\n",
       "    }\n",
       "\n",
       "    .dataframe thead th {\n",
       "        text-align: right;\n",
       "    }\n",
       "</style>\n",
       "<table border=\"1\" class=\"dataframe\">\n",
       "  <thead>\n",
       "    <tr style=\"text-align: right;\">\n",
       "      <th></th>\n",
       "      <th>A</th>\n",
       "    </tr>\n",
       "  </thead>\n",
       "  <tbody>\n",
       "    <tr>\n",
       "      <th>(0, 1]</th>\n",
       "      <td>1</td>\n",
       "    </tr>\n",
       "    <tr>\n",
       "      <th>(1, 2]</th>\n",
       "      <td>2</td>\n",
       "    </tr>\n",
       "    <tr>\n",
       "      <th>(2, 3]</th>\n",
       "      <td>3</td>\n",
       "    </tr>\n",
       "    <tr>\n",
       "      <th>(3, 4]</th>\n",
       "      <td>4</td>\n",
       "    </tr>\n",
       "  </tbody>\n",
       "</table>\n",
       "</div>"
      ],
      "text/plain": [
       "        A\n",
       "(0, 1]  1\n",
       "(1, 2]  2\n",
       "(2, 3]  3\n",
       "(3, 4]  4"
      ]
     },
     "execution_count": 59,
     "metadata": {},
     "output_type": "execute_result"
    }
   ],
   "source": [
    "df = pd.DataFrame({\"A\": [1, 2, 3, 4]}, \n",
    "                  index=pd.IntervalIndex.from_breaks([0, 1, 2, 3, 4]))\n",
    "\n",
    "df"
   ]
  },
  {
   "cell_type": "code",
   "execution_count": 60,
   "metadata": {},
   "outputs": [
    {
     "data": {
      "text/plain": [
       "A    2\n",
       "Name: (1, 2], dtype: int64"
      ]
     },
     "execution_count": 60,
     "metadata": {},
     "output_type": "execute_result"
    }
   ],
   "source": [
    "# индексирование на основе меток через `.loc` по краям интервала\n",
    "df.loc[2]"
   ]
  },
  {
   "cell_type": "code",
   "execution_count": 61,
   "metadata": {},
   "outputs": [
    {
     "data": {
      "text/html": [
       "<div>\n",
       "<style scoped>\n",
       "    .dataframe tbody tr th:only-of-type {\n",
       "        vertical-align: middle;\n",
       "    }\n",
       "\n",
       "    .dataframe tbody tr th {\n",
       "        vertical-align: top;\n",
       "    }\n",
       "\n",
       "    .dataframe thead th {\n",
       "        text-align: right;\n",
       "    }\n",
       "</style>\n",
       "<table border=\"1\" class=\"dataframe\">\n",
       "  <thead>\n",
       "    <tr style=\"text-align: right;\">\n",
       "      <th></th>\n",
       "      <th>A</th>\n",
       "    </tr>\n",
       "  </thead>\n",
       "  <tbody>\n",
       "    <tr>\n",
       "      <th>(1, 2]</th>\n",
       "      <td>2</td>\n",
       "    </tr>\n",
       "    <tr>\n",
       "      <th>(2, 3]</th>\n",
       "      <td>3</td>\n",
       "    </tr>\n",
       "  </tbody>\n",
       "</table>\n",
       "</div>"
      ],
      "text/plain": [
       "        A\n",
       "(1, 2]  2\n",
       "(2, 3]  3"
      ]
     },
     "execution_count": 61,
     "metadata": {},
     "output_type": "execute_result"
    }
   ],
   "source": [
    "# индексирование на основе меток через `.loc` по краям интервала\n",
    "df.loc[[2, 3]]"
   ]
  },
  {
   "cell_type": "code",
   "execution_count": 62,
   "metadata": {},
   "outputs": [
    {
     "data": {
      "text/plain": [
       "A    3\n",
       "Name: (2, 3], dtype: int64"
      ]
     },
     "execution_count": 62,
     "metadata": {},
     "output_type": "execute_result"
    }
   ],
   "source": [
    "# при выборе метки в интервале это выберет интервал\n",
    "df.loc[2.5]"
   ]
  },
  {
   "cell_type": "code",
   "execution_count": 63,
   "metadata": {},
   "outputs": [
    {
     "data": {
      "text/html": [
       "<div>\n",
       "<style scoped>\n",
       "    .dataframe tbody tr th:only-of-type {\n",
       "        vertical-align: middle;\n",
       "    }\n",
       "\n",
       "    .dataframe tbody tr th {\n",
       "        vertical-align: top;\n",
       "    }\n",
       "\n",
       "    .dataframe thead th {\n",
       "        text-align: right;\n",
       "    }\n",
       "</style>\n",
       "<table border=\"1\" class=\"dataframe\">\n",
       "  <thead>\n",
       "    <tr style=\"text-align: right;\">\n",
       "      <th></th>\n",
       "      <th>A</th>\n",
       "    </tr>\n",
       "  </thead>\n",
       "  <tbody>\n",
       "    <tr>\n",
       "      <th>(2, 3]</th>\n",
       "      <td>3</td>\n",
       "    </tr>\n",
       "    <tr>\n",
       "      <th>(3, 4]</th>\n",
       "      <td>4</td>\n",
       "    </tr>\n",
       "  </tbody>\n",
       "</table>\n",
       "</div>"
      ],
      "text/plain": [
       "        A\n",
       "(2, 3]  3\n",
       "(3, 4]  4"
      ]
     },
     "execution_count": 63,
     "metadata": {},
     "output_type": "execute_result"
    }
   ],
   "source": [
    "# при выборе метки в интервале это выберет интервал\n",
    "df.loc[[2.5, 3.5]]"
   ]
  },
  {
   "cell_type": "code",
   "execution_count": 64,
   "metadata": {},
   "outputs": [
    {
     "data": {
      "text/plain": [
       "A    2\n",
       "Name: (1, 2], dtype: int64"
      ]
     },
     "execution_count": 64,
     "metadata": {},
     "output_type": "execute_result"
    }
   ],
   "source": [
    "# при использовании интервала вернет только точные совпадения\n",
    "# (начиная с pandas 0.25.0)\n",
    "df.loc[pd.Interval(1, 2)]"
   ]
  },
  {
   "cell_type": "code",
   "execution_count": 65,
   "metadata": {},
   "outputs": [
    {
     "name": "stdout",
     "output_type": "stream",
     "text": [
      "Exception!\n",
      "<built-in method with_traceback of KeyError object at 0x7f619643bc70>\n"
     ]
    }
   ],
   "source": [
    "# при выборе Interval, который не содержится в IntervalIndex - KeyError\n",
    "try:\n",
    "    df.loc[pd.Interval(0.5, 2.5)]\n",
    "except KeyError as ke:\n",
    "    print(f\"Exception!\\n{ke.with_traceback}\")"
   ]
  },
  {
   "cell_type": "code",
   "execution_count": 66,
   "metadata": {},
   "outputs": [
    {
     "data": {
      "text/plain": [
       "array([ True,  True,  True, False])"
      ]
     },
     "execution_count": 66,
     "metadata": {},
     "output_type": "execute_result"
    }
   ],
   "source": [
    "# выбор всех интервалов, которые перекрывают интервал, можно выполнить \n",
    "# с помощью метода overlaps() для создания логического индексатора\n",
    "idxr = df.index.overlaps(pd.Interval(0.5, 2.5))\n",
    "idxr"
   ]
  },
  {
   "cell_type": "code",
   "execution_count": 67,
   "metadata": {},
   "outputs": [
    {
     "data": {
      "text/html": [
       "<div>\n",
       "<style scoped>\n",
       "    .dataframe tbody tr th:only-of-type {\n",
       "        vertical-align: middle;\n",
       "    }\n",
       "\n",
       "    .dataframe tbody tr th {\n",
       "        vertical-align: top;\n",
       "    }\n",
       "\n",
       "    .dataframe thead th {\n",
       "        text-align: right;\n",
       "    }\n",
       "</style>\n",
       "<table border=\"1\" class=\"dataframe\">\n",
       "  <thead>\n",
       "    <tr style=\"text-align: right;\">\n",
       "      <th></th>\n",
       "      <th>A</th>\n",
       "    </tr>\n",
       "  </thead>\n",
       "  <tbody>\n",
       "    <tr>\n",
       "      <th>(0, 1]</th>\n",
       "      <td>1</td>\n",
       "    </tr>\n",
       "    <tr>\n",
       "      <th>(1, 2]</th>\n",
       "      <td>2</td>\n",
       "    </tr>\n",
       "    <tr>\n",
       "      <th>(2, 3]</th>\n",
       "      <td>3</td>\n",
       "    </tr>\n",
       "  </tbody>\n",
       "</table>\n",
       "</div>"
      ],
      "text/plain": [
       "        A\n",
       "(0, 1]  1\n",
       "(1, 2]  2\n",
       "(2, 3]  3"
      ]
     },
     "execution_count": 67,
     "metadata": {},
     "output_type": "execute_result"
    }
   ],
   "source": [
    "np.array([ True,  True,  True, False])\n",
    "df[idxr]"
   ]
  },
  {
   "cell_type": "markdown",
   "metadata": {},
   "source": [
    "#### Группировка данных с помощью `cut` и `qcut`\n",
    "\n",
    "`cut()` и `qcut()` возвращают категориальный объект, а созданные ими ячейки сохраняются как `IntervalIndex` в его атрибуте `.categories`."
   ]
  },
  {
   "cell_type": "code",
   "execution_count": 68,
   "metadata": {},
   "outputs": [],
   "source": [
    "from random import sample, randrange"
   ]
  },
  {
   "cell_type": "code",
   "execution_count": 69,
   "metadata": {},
   "outputs": [],
   "source": [
    "rand_data = sample(range(-7, 15), 12)\n",
    "# rand_data"
   ]
  },
  {
   "cell_type": "code",
   "execution_count": 70,
   "metadata": {},
   "outputs": [
    {
     "data": {
      "text/plain": [
       "[(-1.5, 4.5], (-4.25, -1.5], (-1.5, 4.5], (-1.5, 4.5], (-4.25, -1.5], ..., (-7.001, -4.25], (-7.001, -4.25], (4.5, 11.0], (4.5, 11.0], (4.5, 11.0]]\n",
       "Length: 12\n",
       "Categories (4, interval[float64]): [(-7.001, -4.25] < (-4.25, -1.5] < (-1.5, 4.5] < (4.5, 11.0]]"
      ]
     },
     "execution_count": 70,
     "metadata": {},
     "output_type": "execute_result"
    }
   ],
   "source": [
    "# разбить последовательность range на 4 квартили\n",
    "c = pd.qcut(rand_data, q=4)\n",
    "c"
   ]
  },
  {
   "cell_type": "code",
   "execution_count": 71,
   "metadata": {},
   "outputs": [
    {
     "data": {
      "text/plain": [
       "pandas.core.arrays.categorical.Categorical"
      ]
     },
     "execution_count": 71,
     "metadata": {},
     "output_type": "execute_result"
    }
   ],
   "source": [
    "# получить тип результата функции cut\n",
    "type(c)"
   ]
  },
  {
   "cell_type": "code",
   "execution_count": 72,
   "metadata": {},
   "outputs": [
    {
     "data": {
      "text/plain": [
       "IntervalIndex([(-7.001, -4.25], (-4.25, -1.5], (-1.5, 4.5], (4.5, 11.0]],\n",
       "              closed='right',\n",
       "              dtype='interval[float64]')"
      ]
     },
     "execution_count": 72,
     "metadata": {},
     "output_type": "execute_result"
    }
   ],
   "source": [
    "# получить список категорий\n",
    "c.categories"
   ]
  },
  {
   "cell_type": "code",
   "execution_count": 73,
   "metadata": {},
   "outputs": [
    {
     "data": {
      "text/plain": [
       "(-7.001, -4.25]    3\n",
       "(-4.25, -1.5]      3\n",
       "(-1.5, 4.5]        3\n",
       "(4.5, 11.0]        3\n",
       "dtype: int64"
      ]
     },
     "execution_count": 73,
     "metadata": {},
     "output_type": "execute_result"
    }
   ],
   "source": [
    "# число вхождений в каждый бин (интевал)\n",
    "pd.value_counts(c)"
   ]
  },
  {
   "cell_type": "code",
   "execution_count": 74,
   "metadata": {},
   "outputs": [
    {
     "data": {
      "text/plain": [
       "[(2.0, 6.5], (-2.5, 2.0], (-2.5, 2.0], (-2.5, 2.0], (-7.018, -2.5], ..., (-7.018, -2.5], (-7.018, -2.5], (6.5, 11.0], (6.5, 11.0], (6.5, 11.0]]\n",
       "Length: 12\n",
       "Categories (4, interval[float64]): [(-7.018, -2.5] < (-2.5, 2.0] < (2.0, 6.5] < (6.5, 11.0]]"
      ]
     },
     "execution_count": 74,
     "metadata": {},
     "output_type": "execute_result"
    }
   ],
   "source": [
    "# разбить последовательность range на 2 интервала\n",
    "c = pd.cut(rand_data, bins=4)\n",
    "c"
   ]
  },
  {
   "cell_type": "code",
   "execution_count": 75,
   "metadata": {},
   "outputs": [
    {
     "data": {
      "text/plain": [
       "(-7.018, -2.5]    5\n",
       "(-2.5, 2.0]       3\n",
       "(6.5, 11.0]       3\n",
       "(2.0, 6.5]        1\n",
       "dtype: int64"
      ]
     },
     "execution_count": 75,
     "metadata": {},
     "output_type": "execute_result"
    }
   ],
   "source": [
    "# число вхождений в каждый бин (интевал)\n",
    "pd.value_counts(c)"
   ]
  },
  {
   "cell_type": "markdown",
   "metadata": {},
   "source": [
    "`cut()` также принимает `IntervalIndex` в качестве аргумента `bins`, что позволяет использовать полезную идиому `pandas`. \n",
    "\n",
    "Сначала вызвать `cut()` с некоторыми данными и `bins`, установленным в фиксированное число, чтобы сгенерировать ячейки (`bins`). \n",
    "\n",
    "Затем передать значения `.categories` в качестве аргумента `bins` в последующих вызовах функции `cut()`, предоставляя новые данные, которые будут помещены в те же ячейки (`bins`).\n",
    "\n",
    "Можно использовать `cut()`, когда нужно сегментировать и отсортировать значения данных по ячейкам.\n",
    "\n",
    "`cut()` полезна для перехода от непрерывной переменной к категориальной.\n",
    "\n",
    "Например, `cut()` может преобразовывать возраст в группы возрастных диапазонов.\n",
    "\n",
    "`cut()` поддерживает разделение на равное количество ячеек или заранее заданный массив ячеек."
   ]
  },
  {
   "cell_type": "code",
   "execution_count": 76,
   "metadata": {},
   "outputs": [
    {
     "data": {
      "text/plain": [
       "[(-2.5, 2.0], (2.0, 6.5], (2.0, 6.5], (-2.5, 2.0]]\n",
       "Categories (4, interval[float64]): [(-7.018, -2.5] < (-2.5, 2.0] < (2.0, 6.5] < (6.5, 11.0]]"
      ]
     },
     "execution_count": 76,
     "metadata": {},
     "output_type": "execute_result"
    }
   ],
   "source": [
    "pd.cut([0, 3, 5, 1], bins=c.categories)"
   ]
  },
  {
   "cell_type": "markdown",
   "metadata": {},
   "source": [
    "#### Генерация диапазонов интервалов\n",
    "\n",
    "Если нужны интервалы с постоянной частотой, то можно использовать функцию `interval_range()` для создания `IntervalIndex`, используя различные комбинации `start`, `end` и `periods`.\n",
    "\n",
    "Частота по умолчанию для `interval_range` - `1` для числовых интервалов и календарный день для интервалов, подобных `datetime`."
   ]
  },
  {
   "cell_type": "code",
   "execution_count": 77,
   "metadata": {},
   "outputs": [
    {
     "data": {
      "text/plain": [
       "IntervalIndex([(0, 1], (1, 2], (2, 3], (3, 4], (4, 5]],\n",
       "              closed='right',\n",
       "              dtype='interval[int64]')"
      ]
     },
     "execution_count": 77,
     "metadata": {},
     "output_type": "execute_result"
    }
   ],
   "source": [
    "pd.interval_range(start=0, \n",
    "                  end=5)"
   ]
  },
  {
   "cell_type": "code",
   "execution_count": 78,
   "metadata": {},
   "outputs": [
    {
     "data": {
      "text/plain": [
       "IntervalIndex([(2017-01-01, 2017-01-02], (2017-01-02, 2017-01-03], (2017-01-03, 2017-01-04], (2017-01-04, 2017-01-05]],\n",
       "              closed='right',\n",
       "              dtype='interval[datetime64[ns]]')"
      ]
     },
     "execution_count": 78,
     "metadata": {},
     "output_type": "execute_result"
    }
   ],
   "source": [
    "pd.interval_range(start=pd.Timestamp(\"2017-01-01\"), \n",
    "                  periods=4)"
   ]
  },
  {
   "cell_type": "markdown",
   "metadata": {},
   "source": [
    "Параметр `freq` может использоваться для указания частот, отличных от значений по умолчанию, и может использовать различные псевдонимы частот с интервалами типа `datetime`."
   ]
  },
  {
   "cell_type": "code",
   "execution_count": 79,
   "metadata": {},
   "outputs": [
    {
     "data": {
      "text/plain": [
       "IntervalIndex([(0.0, 1.5], (1.5, 3.0], (3.0, 4.5], (4.5, 6.0], (6.0, 7.5]],\n",
       "              closed='right',\n",
       "              dtype='interval[float64]')"
      ]
     },
     "execution_count": 79,
     "metadata": {},
     "output_type": "execute_result"
    }
   ],
   "source": [
    "pd.interval_range(start=0, \n",
    "                  periods=5, \n",
    "                  freq=1.5)"
   ]
  },
  {
   "cell_type": "code",
   "execution_count": 80,
   "metadata": {},
   "outputs": [
    {
     "data": {
      "text/plain": [
       "IntervalIndex([(2017-01-01, 2017-01-08], (2017-01-08, 2017-01-15], (2017-01-15, 2017-01-22], (2017-01-22, 2017-01-29]],\n",
       "              closed='right',\n",
       "              dtype='interval[datetime64[ns]]')"
      ]
     },
     "execution_count": 80,
     "metadata": {},
     "output_type": "execute_result"
    }
   ],
   "source": [
    "pd.interval_range(start=pd.Timestamp(\"2017-01-01\"), \n",
    "                  periods=4, \n",
    "                  freq=\"W\")"
   ]
  },
  {
   "cell_type": "code",
   "execution_count": 81,
   "metadata": {},
   "outputs": [
    {
     "data": {
      "text/plain": [
       "IntervalIndex([(0 days 00:00:00, 0 days 09:00:00], (0 days 09:00:00, 0 days 18:00:00], (0 days 18:00:00, 1 days 03:00:00]],\n",
       "              closed='right',\n",
       "              dtype='interval[timedelta64[ns]]')"
      ]
     },
     "execution_count": 81,
     "metadata": {},
     "output_type": "execute_result"
    }
   ],
   "source": [
    "pd.interval_range(start=pd.Timedelta(\"0 days\"), \n",
    "                  periods=3, \n",
    "                  freq=\"9H\")"
   ]
  },
  {
   "cell_type": "markdown",
   "metadata": {},
   "source": [
    "С помощью параметра `closed` можно указать, на какой стороне (сторонах) закрываются интервалы. По умолчанию интервалы закрыты с правой стороны."
   ]
  },
  {
   "cell_type": "code",
   "execution_count": 82,
   "metadata": {},
   "outputs": [
    {
     "data": {
      "text/plain": [
       "IntervalIndex([[0, 1], [1, 2], [2, 3], [3, 4]],\n",
       "              closed='both',\n",
       "              dtype='interval[int64]')"
      ]
     },
     "execution_count": 82,
     "metadata": {},
     "output_type": "execute_result"
    }
   ],
   "source": [
    "pd.interval_range(start=0, \n",
    "                  end=4, \n",
    "                  closed=\"both\")"
   ]
  },
  {
   "cell_type": "code",
   "execution_count": 83,
   "metadata": {},
   "outputs": [
    {
     "data": {
      "text/plain": [
       "IntervalIndex([(0, 1), (1, 2), (2, 3), (3, 4)],\n",
       "              closed='neither',\n",
       "              dtype='interval[int64]')"
      ]
     },
     "execution_count": 83,
     "metadata": {},
     "output_type": "execute_result"
    }
   ],
   "source": [
    "pd.interval_range(start=0, \n",
    "                  end=4, \n",
    "                  closed=\"neither\")"
   ]
  },
  {
   "cell_type": "markdown",
   "metadata": {},
   "source": [
    "Если указать `start`, `end` и `periods`, то будет сгенерирован диапазон равномерно распределенных интервалов от начала до конца включительно, с количеством элементов `periods` в результирующем `IntervalIndex`."
   ]
  },
  {
   "cell_type": "code",
   "execution_count": 84,
   "metadata": {},
   "outputs": [
    {
     "data": {
      "text/plain": [
       "IntervalIndex([(0.0, 1.5], (1.5, 3.0], (3.0, 4.5], (4.5, 6.0]],\n",
       "              closed='right',\n",
       "              dtype='interval[float64]')"
      ]
     },
     "execution_count": 84,
     "metadata": {},
     "output_type": "execute_result"
    }
   ],
   "source": [
    "pd.interval_range(start=0, \n",
    "                  end=6, \n",
    "                  periods=4)"
   ]
  },
  {
   "cell_type": "code",
   "execution_count": 85,
   "metadata": {},
   "outputs": [
    {
     "data": {
      "text/plain": [
       "IntervalIndex([(2018-01-01, 2018-01-20 08:00:00], (2018-01-20 08:00:00, 2018-02-08 16:00:00], (2018-02-08 16:00:00, 2018-02-28]],\n",
       "              closed='right',\n",
       "              dtype='interval[datetime64[ns]]')"
      ]
     },
     "execution_count": 85,
     "metadata": {},
     "output_type": "execute_result"
    }
   ],
   "source": [
    "pd.interval_range(pd.Timestamp(\"2018-01-01\"), \n",
    "                  pd.Timestamp(\"2018-02-28\"),\n",
    "                  periods=3)"
   ]
  },
  {
   "cell_type": "markdown",
   "metadata": {},
   "source": [
    "### [Обработка часовых поясов (Time zone handling)](https://pandas.pydata.org/pandas-docs/stable/user_guide/timeseries.html#timeseries-timezone)"
   ]
  },
  {
   "cell_type": "markdown",
   "metadata": {},
   "source": [
    "#### Вид данных\n",
    "\n",
    "Дата и время с учетом часового пояса (`tz`) (обратите внимание, что `NumPy` не поддерживает дату и время с учетом часовых поясов).\n",
    "\n",
    "`pandas` предоставляет хорошую поддержку работы с отметками времен (timestamps) и в разных часовых поясах с использованием библиотек `pytz` и `dateutil` или объектов `datetime.timezone` из стандартной библиотеки.\n",
    "\n",
    "`pandas` содержит обширные возможности и функции для работы с данными временных рядов для всех областей. \n",
    "\n",
    "Используя `datetime64` и `timedelta64` `NumPy`, `pandas` объединил большое количество функций из других библиотек `Python`, таких как `scikits.timeseries`, а также создал огромное количество новых функций для управления данными временных рядов.\n",
    "\n",
    "Благодаря этому возможет анализ информации временных рядов из различных источников и форматов.\n",
    "\n",
    "`pandas` объединяет 4 общие концепции, связанные со временем:\n",
    "- Дата и время: определенная дата и время с поддержкой часового пояса. Аналогично `datetime.datetime` из стандартной библиотеки.\n",
    "- Дельты времени: абсолютная продолжительность времени. Аналогично `datetime.timedelta` из стандартной библиотеки.\n",
    "- Интервалы времени: интервал времени, определяемый моментом времени и связанной с ним частотой.\n",
    "- Смещения даты: относительная продолжительность времени, учитывающая календарную арифметику. Аналогично `dateutil.relativedelta.relativedelta` из пакета `dateutil`."
   ]
  },
  {
   "cell_type": "markdown",
   "metadata": {},
   "source": [
    "#### Список часовых поясов из пакета `dateutil`"
   ]
  },
  {
   "cell_type": "code",
   "execution_count": 86,
   "metadata": {
    "tags": []
   },
   "outputs": [
    {
     "name": "stdout",
     "output_type": "stream",
     "text": [
      "len = 595\n"
     ]
    },
    {
     "data": {
      "text/plain": [
       "{'Zulu': tzfile('Zulu'),\n",
       " 'W-SU': tzfile('W-SU'),\n",
       " 'Turkey': tzfile('Turkey'),\n",
       " 'Singapore': tzfile('Singapore'),\n",
       " 'ROK': tzfile('ROK'),\n",
       " 'ROC': tzfile('ROC'),\n",
       " 'Portugal': tzfile('Portugal'),\n",
       " 'Poland': tzfile('Poland'),\n",
       " 'PRC': tzfile('PRC'),\n",
       " 'Navajo': tzfile('Navajo'),\n",
       " 'NZ-CHAT': tzfile('NZ-CHAT'),\n",
       " 'NZ': tzfile('NZ'),\n",
       " 'Mexico/BajaNorte': tzfile('Mexico/BajaNorte'),\n",
       " 'Mexico/BajaSur': tzfile('Mexico/BajaSur'),\n",
       " 'Mexico/General': tzfile('Mexico/General'),\n",
       " 'Libya': tzfile('Libya'),\n",
       " 'Kwajalein': tzfile('Kwajalein'),\n",
       " 'Japan': tzfile('Japan'),\n",
       " 'Jamaica': tzfile('Jamaica'),\n",
       " 'Israel': tzfile('Israel'),\n",
       " 'Iran': tzfile('Iran'),\n",
       " 'Iceland': tzfile('Iceland'),\n",
       " 'Hongkong': tzfile('Hongkong'),\n",
       " 'Greenwich': tzfile('Greenwich'),\n",
       " 'GB-Eire': tzfile('GB-Eire'),\n",
       " 'Eire': tzfile('Eire'),\n",
       " 'Egypt': tzfile('Egypt'),\n",
       " 'Cuba': tzfile('Cuba'),\n",
       " 'Chile/Continental': tzfile('Chile/Continental'),\n",
       " 'Chile/EasterIsland': tzfile('Chile/EasterIsland'),\n",
       " 'Canada/Atlantic': tzfile('Canada/Atlantic'),\n",
       " 'Canada/Central': tzfile('Canada/Central'),\n",
       " 'Canada/Eastern': tzfile('Canada/Eastern'),\n",
       " 'Canada/Mountain': tzfile('Canada/Mountain'),\n",
       " 'Canada/Newfoundland': tzfile('Canada/Newfoundland'),\n",
       " 'Canada/Pacific': tzfile('Canada/Pacific'),\n",
       " 'Canada/Saskatchewan': tzfile('Canada/Saskatchewan'),\n",
       " 'Canada/Yukon': tzfile('Canada/Yukon'),\n",
       " 'Brazil/Acre': tzfile('Brazil/Acre'),\n",
       " 'Brazil/DeNoronha': tzfile('Brazil/DeNoronha'),\n",
       " 'Brazil/East': tzfile('Brazil/East'),\n",
       " 'Brazil/West': tzfile('Brazil/West'),\n",
       " 'US/Alaska': tzfile('US/Alaska'),\n",
       " 'US/Aleutian': tzfile('US/Aleutian'),\n",
       " 'US/Arizona': tzfile('US/Arizona'),\n",
       " 'US/Central': tzfile('US/Central'),\n",
       " 'US/East-Indiana': tzfile('US/East-Indiana'),\n",
       " 'US/Eastern': tzfile('US/Eastern'),\n",
       " 'US/Hawaii': tzfile('US/Hawaii'),\n",
       " 'US/Indiana-Starke': tzfile('US/Indiana-Starke'),\n",
       " 'US/Michigan': tzfile('US/Michigan'),\n",
       " 'US/Pacific': tzfile('US/Pacific'),\n",
       " 'US/Samoa': tzfile('US/Samoa'),\n",
       " 'Arctic/Longyearbyen': tzfile('Arctic/Longyearbyen'),\n",
       " 'Factory': tzfile('Factory'),\n",
       " 'Etc/GMT+1': tzfile('Etc/GMT+1'),\n",
       " 'Etc/GMT+10': tzfile('Etc/GMT+10'),\n",
       " 'Etc/GMT+11': tzfile('Etc/GMT+11'),\n",
       " 'Etc/GMT+12': tzfile('Etc/GMT+12'),\n",
       " 'Etc/GMT+2': tzfile('Etc/GMT+2'),\n",
       " 'Etc/GMT+3': tzfile('Etc/GMT+3'),\n",
       " 'Etc/GMT+4': tzfile('Etc/GMT+4'),\n",
       " 'Etc/GMT+5': tzfile('Etc/GMT+5'),\n",
       " 'Etc/GMT+6': tzfile('Etc/GMT+6'),\n",
       " 'Etc/GMT+7': tzfile('Etc/GMT+7'),\n",
       " 'Etc/GMT+8': tzfile('Etc/GMT+8'),\n",
       " 'Etc/GMT+9': tzfile('Etc/GMT+9'),\n",
       " 'Etc/GMT-1': tzfile('Etc/GMT-1'),\n",
       " 'Etc/GMT-10': tzfile('Etc/GMT-10'),\n",
       " 'Etc/GMT-11': tzfile('Etc/GMT-11'),\n",
       " 'Etc/GMT-12': tzfile('Etc/GMT-12'),\n",
       " 'Etc/GMT-13': tzfile('Etc/GMT-13'),\n",
       " 'Etc/GMT-14': tzfile('Etc/GMT-14'),\n",
       " 'Etc/GMT-2': tzfile('Etc/GMT-2'),\n",
       " 'Etc/GMT-3': tzfile('Etc/GMT-3'),\n",
       " 'Etc/GMT-4': tzfile('Etc/GMT-4'),\n",
       " 'Etc/GMT-5': tzfile('Etc/GMT-5'),\n",
       " 'Etc/GMT-6': tzfile('Etc/GMT-6'),\n",
       " 'Etc/GMT-7': tzfile('Etc/GMT-7'),\n",
       " 'Etc/GMT-8': tzfile('Etc/GMT-8'),\n",
       " 'Etc/GMT-9': tzfile('Etc/GMT-9'),\n",
       " 'PST8PDT': tzfile('PST8PDT'),\n",
       " 'MST7MDT': tzfile('MST7MDT'),\n",
       " 'CST6CDT': tzfile('CST6CDT'),\n",
       " 'EST5EDT': tzfile('EST5EDT'),\n",
       " 'HST': tzfile('HST'),\n",
       " 'MST': tzfile('MST'),\n",
       " 'EST': tzfile('EST'),\n",
       " 'America/Anguilla': tzfile('America/Anguilla'),\n",
       " 'America/Araguaina': tzfile('America/Araguaina'),\n",
       " 'America/Argentina/Buenos_Aires': tzfile('America/Argentina/Buenos_Aires'),\n",
       " 'America/Argentina/Catamarca': tzfile('America/Argentina/Catamarca'),\n",
       " 'America/Argentina/Cordoba': tzfile('America/Argentina/Cordoba'),\n",
       " 'America/Argentina/Jujuy': tzfile('America/Argentina/Jujuy'),\n",
       " 'America/Argentina/La_Rioja': tzfile('America/Argentina/La_Rioja'),\n",
       " 'America/Argentina/Mendoza': tzfile('America/Argentina/Mendoza'),\n",
       " 'America/Argentina/Rio_Gallegos': tzfile('America/Argentina/Rio_Gallegos'),\n",
       " 'America/Argentina/Salta': tzfile('America/Argentina/Salta'),\n",
       " 'America/Argentina/San_Juan': tzfile('America/Argentina/San_Juan'),\n",
       " 'America/Argentina/San_Luis': tzfile('America/Argentina/San_Luis'),\n",
       " 'America/Argentina/Tucuman': tzfile('America/Argentina/Tucuman'),\n",
       " 'America/Argentina/Ushuaia': tzfile('America/Argentina/Ushuaia'),\n",
       " 'America/Aruba': tzfile('America/Aruba'),\n",
       " 'America/Asuncion': tzfile('America/Asuncion'),\n",
       " 'America/Atikokan': tzfile('America/Atikokan'),\n",
       " 'America/Bahia': tzfile('America/Bahia'),\n",
       " 'America/Bahia_Banderas': tzfile('America/Bahia_Banderas'),\n",
       " 'America/Barbados': tzfile('America/Barbados'),\n",
       " 'America/Belem': tzfile('America/Belem'),\n",
       " 'America/Belize': tzfile('America/Belize'),\n",
       " 'America/Blanc-Sablon': tzfile('America/Blanc-Sablon'),\n",
       " 'America/Boa_Vista': tzfile('America/Boa_Vista'),\n",
       " 'America/Bogota': tzfile('America/Bogota'),\n",
       " 'America/Boise': tzfile('America/Boise'),\n",
       " 'America/Cambridge_Bay': tzfile('America/Cambridge_Bay'),\n",
       " 'America/Campo_Grande': tzfile('America/Campo_Grande'),\n",
       " 'America/Cancun': tzfile('America/Cancun'),\n",
       " 'America/Caracas': tzfile('America/Caracas'),\n",
       " 'America/Cayenne': tzfile('America/Cayenne'),\n",
       " 'America/Cayman': tzfile('America/Cayman'),\n",
       " 'America/Chihuahua': tzfile('America/Chihuahua'),\n",
       " 'America/Costa_Rica': tzfile('America/Costa_Rica'),\n",
       " 'America/Creston': tzfile('America/Creston'),\n",
       " 'America/Cuiaba': tzfile('America/Cuiaba'),\n",
       " 'America/Danmarkshavn': tzfile('America/Danmarkshavn'),\n",
       " 'America/Dawson': tzfile('America/Dawson'),\n",
       " 'America/Dawson_Creek': tzfile('America/Dawson_Creek'),\n",
       " 'America/Eirunepe': tzfile('America/Eirunepe'),\n",
       " 'America/El_Salvador': tzfile('America/El_Salvador'),\n",
       " 'America/Fort_Nelson': tzfile('America/Fort_Nelson'),\n",
       " 'America/Fortaleza': tzfile('America/Fortaleza'),\n",
       " 'America/Glace_Bay': tzfile('America/Glace_Bay'),\n",
       " 'America/Godthab': tzfile('America/Godthab'),\n",
       " 'America/Goose_Bay': tzfile('America/Goose_Bay'),\n",
       " 'America/Grand_Turk': tzfile('America/Grand_Turk'),\n",
       " 'America/Guatemala': tzfile('America/Guatemala'),\n",
       " 'America/Guayaquil': tzfile('America/Guayaquil'),\n",
       " 'America/Guyana': tzfile('America/Guyana'),\n",
       " 'America/Hermosillo': tzfile('America/Hermosillo'),\n",
       " 'America/Indiana/Marengo': tzfile('America/Indiana/Marengo'),\n",
       " 'America/Indiana/Petersburg': tzfile('America/Indiana/Petersburg'),\n",
       " 'America/Indiana/Tell_City': tzfile('America/Indiana/Tell_City'),\n",
       " 'America/Indiana/Vevay': tzfile('America/Indiana/Vevay'),\n",
       " 'America/Indiana/Vincennes': tzfile('America/Indiana/Vincennes'),\n",
       " 'America/Indiana/Winamac': tzfile('America/Indiana/Winamac'),\n",
       " 'America/Inuvik': tzfile('America/Inuvik'),\n",
       " 'America/Iqaluit': tzfile('America/Iqaluit'),\n",
       " 'America/Juneau': tzfile('America/Juneau'),\n",
       " 'America/Kentucky/Louisville': tzfile('America/Kentucky/Louisville'),\n",
       " 'America/Kentucky/Monticello': tzfile('America/Kentucky/Monticello'),\n",
       " 'America/La_Paz': tzfile('America/La_Paz'),\n",
       " 'America/Lima': tzfile('America/Lima'),\n",
       " 'America/Maceio': tzfile('America/Maceio'),\n",
       " 'America/Managua': tzfile('America/Managua'),\n",
       " 'America/Martinique': tzfile('America/Martinique'),\n",
       " 'America/Matamoros': tzfile('America/Matamoros'),\n",
       " 'America/Menominee': tzfile('America/Menominee'),\n",
       " 'America/Merida': tzfile('America/Merida'),\n",
       " 'America/Metlakatla': tzfile('America/Metlakatla'),\n",
       " 'America/Miquelon': tzfile('America/Miquelon'),\n",
       " 'America/Moncton': tzfile('America/Moncton'),\n",
       " 'America/Monterrey': tzfile('America/Monterrey'),\n",
       " 'America/Montevideo': tzfile('America/Montevideo'),\n",
       " 'America/Nassau': tzfile('America/Nassau'),\n",
       " 'America/Nipigon': tzfile('America/Nipigon'),\n",
       " 'America/Nome': tzfile('America/Nome'),\n",
       " 'America/North_Dakota/Beulah': tzfile('America/North_Dakota/Beulah'),\n",
       " 'America/North_Dakota/Center': tzfile('America/North_Dakota/Center'),\n",
       " 'America/North_Dakota/New_Salem': tzfile('America/North_Dakota/New_Salem'),\n",
       " 'America/Ojinaga': tzfile('America/Ojinaga'),\n",
       " 'America/Pangnirtung': tzfile('America/Pangnirtung'),\n",
       " 'America/Paramaribo': tzfile('America/Paramaribo'),\n",
       " 'America/Port-au-Prince': tzfile('America/Port-au-Prince'),\n",
       " 'America/Porto_Velho': tzfile('America/Porto_Velho'),\n",
       " 'America/Puerto_Rico': tzfile('America/Puerto_Rico'),\n",
       " 'America/Punta_Arenas': tzfile('America/Punta_Arenas'),\n",
       " 'America/Rainy_River': tzfile('America/Rainy_River'),\n",
       " 'America/Rankin_Inlet': tzfile('America/Rankin_Inlet'),\n",
       " 'America/Recife': tzfile('America/Recife'),\n",
       " 'America/Resolute': tzfile('America/Resolute'),\n",
       " 'America/Santarem': tzfile('America/Santarem'),\n",
       " 'America/Santo_Domingo': tzfile('America/Santo_Domingo'),\n",
       " 'America/Scoresbysund': tzfile('America/Scoresbysund'),\n",
       " 'America/Sitka': tzfile('America/Sitka'),\n",
       " 'America/Swift_Current': tzfile('America/Swift_Current'),\n",
       " 'America/Tegucigalpa': tzfile('America/Tegucigalpa'),\n",
       " 'America/Thule': tzfile('America/Thule'),\n",
       " 'America/Thunder_Bay': tzfile('America/Thunder_Bay'),\n",
       " 'America/Yakutat': tzfile('America/Yakutat'),\n",
       " 'America/Yellowknife': tzfile('America/Yellowknife'),\n",
       " 'EET': tzfile('EET'),\n",
       " 'MET': tzfile('MET'),\n",
       " 'CET': tzfile('CET'),\n",
       " 'WET': tzfile('WET'),\n",
       " 'Europe/Amsterdam': tzfile('Europe/Amsterdam'),\n",
       " 'Europe/Andorra': tzfile('Europe/Andorra'),\n",
       " 'Europe/Astrakhan': tzfile('Europe/Astrakhan'),\n",
       " 'Europe/Athens': tzfile('Europe/Athens'),\n",
       " 'Europe/Belgrade': tzfile('Europe/Belgrade'),\n",
       " 'Europe/Berlin': tzfile('Europe/Berlin'),\n",
       " 'Europe/Bratislava': tzfile('Europe/Bratislava'),\n",
       " 'Europe/Brussels': tzfile('Europe/Brussels'),\n",
       " 'Europe/Bucharest': tzfile('Europe/Bucharest'),\n",
       " 'Europe/Budapest': tzfile('Europe/Budapest'),\n",
       " 'Europe/Busingen': tzfile('Europe/Busingen'),\n",
       " 'Europe/Chisinau': tzfile('Europe/Chisinau'),\n",
       " 'Europe/Copenhagen': tzfile('Europe/Copenhagen'),\n",
       " 'Europe/Gibraltar': tzfile('Europe/Gibraltar'),\n",
       " 'Europe/Helsinki': tzfile('Europe/Helsinki'),\n",
       " 'Europe/Kaliningrad': tzfile('Europe/Kaliningrad'),\n",
       " 'Europe/Kiev': tzfile('Europe/Kiev'),\n",
       " 'Europe/Kirov': tzfile('Europe/Kirov'),\n",
       " 'Europe/Luxembourg': tzfile('Europe/Luxembourg'),\n",
       " 'Europe/Madrid': tzfile('Europe/Madrid'),\n",
       " 'Europe/Malta': tzfile('Europe/Malta'),\n",
       " 'Europe/Minsk': tzfile('Europe/Minsk'),\n",
       " 'Europe/Monaco': tzfile('Europe/Monaco'),\n",
       " 'Europe/Nicosia': tzfile('Europe/Nicosia'),\n",
       " 'Europe/Paris': tzfile('Europe/Paris'),\n",
       " 'Europe/Riga': tzfile('Europe/Riga'),\n",
       " 'Europe/Rome': tzfile('Europe/Rome'),\n",
       " 'Europe/Samara': tzfile('Europe/Samara'),\n",
       " 'Europe/Saratov': tzfile('Europe/Saratov'),\n",
       " 'Europe/Simferopol': tzfile('Europe/Simferopol'),\n",
       " 'Europe/Sofia': tzfile('Europe/Sofia'),\n",
       " 'Europe/Stockholm': tzfile('Europe/Stockholm'),\n",
       " 'Europe/Tallinn': tzfile('Europe/Tallinn'),\n",
       " 'Europe/Tirane': tzfile('Europe/Tirane'),\n",
       " 'Europe/Ulyanovsk': tzfile('Europe/Ulyanovsk'),\n",
       " 'Europe/Uzhgorod': tzfile('Europe/Uzhgorod'),\n",
       " 'Europe/Vienna': tzfile('Europe/Vienna'),\n",
       " 'Europe/Vilnius': tzfile('Europe/Vilnius'),\n",
       " 'Europe/Volgograd': tzfile('Europe/Volgograd'),\n",
       " 'Europe/Zaporozhye': tzfile('Europe/Zaporozhye'),\n",
       " 'Pacific/Apia': tzfile('Pacific/Apia'),\n",
       " 'Pacific/Bougainville': tzfile('Pacific/Bougainville'),\n",
       " 'Pacific/Chuuk': tzfile('Pacific/Chuuk'),\n",
       " 'Pacific/Efate': tzfile('Pacific/Efate'),\n",
       " 'Pacific/Enderbury': tzfile('Pacific/Enderbury'),\n",
       " 'Pacific/Fakaofo': tzfile('Pacific/Fakaofo'),\n",
       " 'Pacific/Fiji': tzfile('Pacific/Fiji'),\n",
       " 'Pacific/Funafuti': tzfile('Pacific/Funafuti'),\n",
       " 'Pacific/Galapagos': tzfile('Pacific/Galapagos'),\n",
       " 'Pacific/Gambier': tzfile('Pacific/Gambier'),\n",
       " 'Pacific/Guadalcanal': tzfile('Pacific/Guadalcanal'),\n",
       " 'Pacific/Guam': tzfile('Pacific/Guam'),\n",
       " 'Pacific/Kiritimati': tzfile('Pacific/Kiritimati'),\n",
       " 'Pacific/Kosrae': tzfile('Pacific/Kosrae'),\n",
       " 'Pacific/Majuro': tzfile('Pacific/Majuro'),\n",
       " 'Pacific/Marquesas': tzfile('Pacific/Marquesas'),\n",
       " 'Pacific/Nauru': tzfile('Pacific/Nauru'),\n",
       " 'Pacific/Niue': tzfile('Pacific/Niue'),\n",
       " 'Pacific/Norfolk': tzfile('Pacific/Norfolk'),\n",
       " 'Pacific/Noumea': tzfile('Pacific/Noumea'),\n",
       " 'Pacific/Palau': tzfile('Pacific/Palau'),\n",
       " 'Pacific/Pitcairn': tzfile('Pacific/Pitcairn'),\n",
       " 'Pacific/Pohnpei': tzfile('Pacific/Pohnpei'),\n",
       " 'Pacific/Port_Moresby': tzfile('Pacific/Port_Moresby'),\n",
       " 'Pacific/Rarotonga': tzfile('Pacific/Rarotonga'),\n",
       " 'Pacific/Tahiti': tzfile('Pacific/Tahiti'),\n",
       " 'Pacific/Tarawa': tzfile('Pacific/Tarawa'),\n",
       " 'Pacific/Tongatapu': tzfile('Pacific/Tongatapu'),\n",
       " 'Pacific/Wake': tzfile('Pacific/Wake'),\n",
       " 'Pacific/Wallis': tzfile('Pacific/Wallis'),\n",
       " 'Australia/ACT': tzfile('Australia/ACT'),\n",
       " 'Australia/Adelaide': tzfile('Australia/Adelaide'),\n",
       " 'Australia/Brisbane': tzfile('Australia/Brisbane'),\n",
       " 'Australia/Broken_Hill': tzfile('Australia/Broken_Hill'),\n",
       " 'Australia/Currie': tzfile('Australia/Currie'),\n",
       " 'Australia/Darwin': tzfile('Australia/Darwin'),\n",
       " 'Australia/Eucla': tzfile('Australia/Eucla'),\n",
       " 'Australia/Hobart': tzfile('Australia/Hobart'),\n",
       " 'Australia/LHI': tzfile('Australia/LHI'),\n",
       " 'Australia/Lindeman': tzfile('Australia/Lindeman'),\n",
       " 'Australia/Melbourne': tzfile('Australia/Melbourne'),\n",
       " 'Australia/Perth': tzfile('Australia/Perth'),\n",
       " 'Asia/Aden': tzfile('Asia/Aden'),\n",
       " 'Asia/Almaty': tzfile('Asia/Almaty'),\n",
       " 'Asia/Amman': tzfile('Asia/Amman'),\n",
       " 'Asia/Anadyr': tzfile('Asia/Anadyr'),\n",
       " 'Asia/Aqtau': tzfile('Asia/Aqtau'),\n",
       " 'Asia/Aqtobe': tzfile('Asia/Aqtobe'),\n",
       " 'Asia/Ashgabat': tzfile('Asia/Ashgabat'),\n",
       " 'Asia/Atyrau': tzfile('Asia/Atyrau'),\n",
       " 'Asia/Baghdad': tzfile('Asia/Baghdad'),\n",
       " 'Asia/Bahrain': tzfile('Asia/Bahrain'),\n",
       " 'Asia/Baku': tzfile('Asia/Baku'),\n",
       " 'Asia/Bangkok': tzfile('Asia/Bangkok'),\n",
       " 'Asia/Barnaul': tzfile('Asia/Barnaul'),\n",
       " 'Asia/Beirut': tzfile('Asia/Beirut'),\n",
       " 'Asia/Bishkek': tzfile('Asia/Bishkek'),\n",
       " 'Asia/Brunei': tzfile('Asia/Brunei'),\n",
       " 'Asia/Calcutta': tzfile('Asia/Calcutta'),\n",
       " 'Asia/Chita': tzfile('Asia/Chita'),\n",
       " 'Asia/Choibalsan': tzfile('Asia/Choibalsan'),\n",
       " 'Asia/Colombo': tzfile('Asia/Colombo'),\n",
       " 'Asia/Dacca': tzfile('Asia/Dacca'),\n",
       " 'Asia/Damascus': tzfile('Asia/Damascus'),\n",
       " 'Asia/Dili': tzfile('Asia/Dili'),\n",
       " 'Asia/Dubai': tzfile('Asia/Dubai'),\n",
       " 'Asia/Dushanbe': tzfile('Asia/Dushanbe'),\n",
       " 'Asia/Famagusta': tzfile('Asia/Famagusta'),\n",
       " 'Asia/Gaza': tzfile('Asia/Gaza'),\n",
       " 'Asia/Hanoi': tzfile('Asia/Hanoi'),\n",
       " 'Asia/Hebron': tzfile('Asia/Hebron'),\n",
       " 'Asia/Ho_Chi_Minh': tzfile('Asia/Ho_Chi_Minh'),\n",
       " 'Asia/Hovd': tzfile('Asia/Hovd'),\n",
       " 'Asia/Irkutsk': tzfile('Asia/Irkutsk'),\n",
       " 'Asia/Jakarta': tzfile('Asia/Jakarta'),\n",
       " 'Asia/Jayapura': tzfile('Asia/Jayapura'),\n",
       " 'Asia/Kabul': tzfile('Asia/Kabul'),\n",
       " 'Asia/Kamchatka': tzfile('Asia/Kamchatka'),\n",
       " 'Asia/Karachi': tzfile('Asia/Karachi'),\n",
       " 'Asia/Kashgar': tzfile('Asia/Kashgar'),\n",
       " 'Asia/Kathmandu': tzfile('Asia/Kathmandu'),\n",
       " 'Asia/Khandyga': tzfile('Asia/Khandyga'),\n",
       " 'Asia/Krasnoyarsk': tzfile('Asia/Krasnoyarsk'),\n",
       " 'Asia/Kuala_Lumpur': tzfile('Asia/Kuala_Lumpur'),\n",
       " 'Asia/Kuching': tzfile('Asia/Kuching'),\n",
       " 'Asia/Macao': tzfile('Asia/Macao'),\n",
       " 'Asia/Magadan': tzfile('Asia/Magadan'),\n",
       " 'Asia/Makassar': tzfile('Asia/Makassar'),\n",
       " 'Asia/Manila': tzfile('Asia/Manila'),\n",
       " 'Asia/Novokuznetsk': tzfile('Asia/Novokuznetsk'),\n",
       " 'Asia/Novosibirsk': tzfile('Asia/Novosibirsk'),\n",
       " 'Asia/Omsk': tzfile('Asia/Omsk'),\n",
       " 'Asia/Oral': tzfile('Asia/Oral'),\n",
       " 'Asia/Pontianak': tzfile('Asia/Pontianak'),\n",
       " 'Asia/Pyongyang': tzfile('Asia/Pyongyang'),\n",
       " 'Asia/Qostanay': tzfile('Asia/Qostanay'),\n",
       " 'Asia/Qyzylorda': tzfile('Asia/Qyzylorda'),\n",
       " 'Asia/Rangoon': tzfile('Asia/Rangoon'),\n",
       " 'Asia/Sakhalin': tzfile('Asia/Sakhalin'),\n",
       " 'Asia/Samarkand': tzfile('Asia/Samarkand'),\n",
       " 'Asia/Srednekolymsk': tzfile('Asia/Srednekolymsk'),\n",
       " 'Asia/Tashkent': tzfile('Asia/Tashkent'),\n",
       " 'Asia/Tbilisi': tzfile('Asia/Tbilisi'),\n",
       " 'Asia/Thimbu': tzfile('Asia/Thimbu'),\n",
       " 'Asia/Tomsk': tzfile('Asia/Tomsk'),\n",
       " 'Asia/Ulaanbaatar': tzfile('Asia/Ulaanbaatar'),\n",
       " 'Asia/Ust-Nera': tzfile('Asia/Ust-Nera'),\n",
       " 'Asia/Vladivostok': tzfile('Asia/Vladivostok'),\n",
       " 'Asia/Yakutsk': tzfile('Asia/Yakutsk'),\n",
       " 'Asia/Yekaterinburg': tzfile('Asia/Yekaterinburg'),\n",
       " 'Asia/Yerevan': tzfile('Asia/Yerevan'),\n",
       " 'Antarctica/Casey': tzfile('Antarctica/Casey'),\n",
       " 'Antarctica/Davis': tzfile('Antarctica/Davis'),\n",
       " 'Antarctica/DumontDUrville': tzfile('Antarctica/DumontDUrville'),\n",
       " 'Antarctica/Macquarie': tzfile('Antarctica/Macquarie'),\n",
       " 'Antarctica/Mawson': tzfile('Antarctica/Mawson'),\n",
       " 'Antarctica/Palmer': tzfile('Antarctica/Palmer'),\n",
       " 'Antarctica/Rothera': tzfile('Antarctica/Rothera'),\n",
       " 'Antarctica/Syowa': tzfile('Antarctica/Syowa'),\n",
       " 'Antarctica/Troll': tzfile('Antarctica/Troll'),\n",
       " 'Antarctica/Vostok': tzfile('Antarctica/Vostok'),\n",
       " 'Indian/Antananarivo': tzfile('Indian/Antananarivo'),\n",
       " 'Indian/Chagos': tzfile('Indian/Chagos'),\n",
       " 'Indian/Christmas': tzfile('Indian/Christmas'),\n",
       " 'Indian/Cocos': tzfile('Indian/Cocos'),\n",
       " 'Indian/Kerguelen': tzfile('Indian/Kerguelen'),\n",
       " 'Indian/Mahe': tzfile('Indian/Mahe'),\n",
       " 'Indian/Maldives': tzfile('Indian/Maldives'),\n",
       " 'Indian/Mauritius': tzfile('Indian/Mauritius'),\n",
       " 'Indian/Reunion': tzfile('Indian/Reunion'),\n",
       " 'Atlantic/Azores': tzfile('Atlantic/Azores'),\n",
       " 'Atlantic/Bermuda': tzfile('Atlantic/Bermuda'),\n",
       " 'Atlantic/Canary': tzfile('Atlantic/Canary'),\n",
       " 'Atlantic/Cape_Verde': tzfile('Atlantic/Cape_Verde'),\n",
       " 'Atlantic/Faeroe': tzfile('Atlantic/Faeroe'),\n",
       " 'Atlantic/Madeira': tzfile('Atlantic/Madeira'),\n",
       " 'Atlantic/South_Georgia': tzfile('Atlantic/South_Georgia'),\n",
       " 'Atlantic/St_Helena': tzfile('Atlantic/St_Helena'),\n",
       " 'Atlantic/Stanley': tzfile('Atlantic/Stanley'),\n",
       " 'Africa/Accra': tzfile('Africa/Accra'),\n",
       " 'Africa/Algiers': tzfile('Africa/Algiers'),\n",
       " 'Africa/Bangui': tzfile('Africa/Bangui'),\n",
       " 'Africa/Bissau': tzfile('Africa/Bissau'),\n",
       " 'Africa/Blantyre': tzfile('Africa/Blantyre'),\n",
       " 'Africa/Casablanca': tzfile('Africa/Casablanca'),\n",
       " 'Africa/Ceuta': tzfile('Africa/Ceuta'),\n",
       " 'Africa/El_Aaiun': tzfile('Africa/El_Aaiun'),\n",
       " 'Africa/Johannesburg': tzfile('Africa/Johannesburg'),\n",
       " 'Africa/Juba': tzfile('Africa/Juba'),\n",
       " 'Africa/Khartoum': tzfile('Africa/Khartoum'),\n",
       " 'Africa/Monrovia': tzfile('Africa/Monrovia'),\n",
       " 'Africa/Ndjamena': tzfile('Africa/Ndjamena'),\n",
       " 'Africa/Sao_Tome': tzfile('Africa/Sao_Tome'),\n",
       " 'Africa/Tunis': tzfile('Africa/Tunis'),\n",
       " 'Africa/Windhoek': tzfile('Africa/Windhoek'),\n",
       " 'Universal': tzfile('Zulu'),\n",
       " 'UTC': tzfile('Zulu'),\n",
       " 'UCT': tzfile('Zulu'),\n",
       " 'GMT0': tzfile('Greenwich'),\n",
       " 'GMT-0': tzfile('Greenwich'),\n",
       " 'GMT+0': tzfile('Greenwich'),\n",
       " 'GB': tzfile('GB-Eire'),\n",
       " 'GMT': tzfile('Greenwich'),\n",
       " 'US/Mountain': tzfile('Navajo'),\n",
       " 'US/Pacific-New': tzfile('US/Pacific'),\n",
       " 'Etc/GMT': tzfile('Greenwich'),\n",
       " 'Etc/GMT+0': tzfile('Greenwich'),\n",
       " 'Etc/GMT-0': tzfile('Greenwich'),\n",
       " 'Etc/GMT0': tzfile('Greenwich'),\n",
       " 'Etc/Greenwich': tzfile('Greenwich'),\n",
       " 'Etc/UCT': tzfile('Zulu'),\n",
       " 'Etc/UTC': tzfile('Zulu'),\n",
       " 'Etc/Universal': tzfile('Zulu'),\n",
       " 'Etc/Zulu': tzfile('Zulu'),\n",
       " 'America/Adak': tzfile('US/Aleutian'),\n",
       " 'America/Anchorage': tzfile('US/Alaska'),\n",
       " 'America/Antigua': tzfile('America/Anguilla'),\n",
       " 'America/Argentina/ComodRivadavia': tzfile('America/Argentina/Catamarca'),\n",
       " 'America/Atka': tzfile('US/Aleutian'),\n",
       " 'America/Buenos_Aires': tzfile('America/Argentina/Buenos_Aires'),\n",
       " 'America/Catamarca': tzfile('America/Argentina/Catamarca'),\n",
       " 'America/Chicago': tzfile('US/Central'),\n",
       " 'America/Coral_Harbour': tzfile('America/Atikokan'),\n",
       " 'America/Cordoba': tzfile('America/Argentina/Cordoba'),\n",
       " 'America/Curacao': tzfile('America/Aruba'),\n",
       " 'America/Denver': tzfile('Navajo'),\n",
       " 'America/Detroit': tzfile('US/Michigan'),\n",
       " 'America/Dominica': tzfile('America/Anguilla'),\n",
       " 'America/Edmonton': tzfile('Canada/Mountain'),\n",
       " 'America/Ensenada': tzfile('Mexico/BajaNorte'),\n",
       " 'America/Fort_Wayne': tzfile('US/East-Indiana'),\n",
       " 'America/Grenada': tzfile('America/Anguilla'),\n",
       " 'America/Guadeloupe': tzfile('America/Anguilla'),\n",
       " 'America/Halifax': tzfile('Canada/Atlantic'),\n",
       " 'America/Havana': tzfile('Cuba'),\n",
       " 'America/Indiana/Indianapolis': tzfile('US/East-Indiana'),\n",
       " 'America/Indiana/Knox': tzfile('US/Indiana-Starke'),\n",
       " 'America/Indianapolis': tzfile('US/East-Indiana'),\n",
       " 'America/Jamaica': tzfile('Jamaica'),\n",
       " 'America/Jujuy': tzfile('America/Argentina/Jujuy'),\n",
       " 'America/Knox_IN': tzfile('US/Indiana-Starke'),\n",
       " 'America/Kralendijk': tzfile('America/Aruba'),\n",
       " 'America/Los_Angeles': tzfile('US/Pacific'),\n",
       " 'America/Louisville': tzfile('America/Kentucky/Louisville'),\n",
       " 'America/Lower_Princes': tzfile('America/Aruba'),\n",
       " 'America/Manaus': tzfile('Brazil/West'),\n",
       " 'America/Marigot': tzfile('America/Anguilla'),\n",
       " 'America/Mazatlan': tzfile('Mexico/BajaSur'),\n",
       " 'America/Mendoza': tzfile('America/Argentina/Mendoza'),\n",
       " 'America/Mexico_City': tzfile('Mexico/General'),\n",
       " 'America/Montreal': tzfile('Canada/Eastern'),\n",
       " 'America/Montserrat': tzfile('America/Anguilla'),\n",
       " 'America/New_York': tzfile('US/Eastern'),\n",
       " 'America/Noronha': tzfile('Brazil/DeNoronha'),\n",
       " 'America/Panama': tzfile('America/Cayman'),\n",
       " 'America/Phoenix': tzfile('US/Arizona'),\n",
       " 'America/Port_of_Spain': tzfile('America/Anguilla'),\n",
       " 'America/Porto_Acre': tzfile('Brazil/Acre'),\n",
       " 'America/Regina': tzfile('Canada/Saskatchewan'),\n",
       " 'America/Rio_Branco': tzfile('Brazil/Acre'),\n",
       " 'America/Rosario': tzfile('America/Argentina/Cordoba'),\n",
       " 'America/Santa_Isabel': tzfile('Mexico/BajaNorte'),\n",
       " 'America/Santiago': tzfile('Chile/Continental'),\n",
       " 'America/Sao_Paulo': tzfile('Brazil/East'),\n",
       " 'America/Shiprock': tzfile('Navajo'),\n",
       " 'America/St_Barthelemy': tzfile('America/Anguilla'),\n",
       " 'America/St_Johns': tzfile('Canada/Newfoundland'),\n",
       " 'America/St_Kitts': tzfile('America/Anguilla'),\n",
       " 'America/St_Lucia': tzfile('America/Anguilla'),\n",
       " 'America/St_Thomas': tzfile('America/Anguilla'),\n",
       " 'America/St_Vincent': tzfile('America/Anguilla'),\n",
       " 'America/Tijuana': tzfile('Mexico/BajaNorte'),\n",
       " 'America/Toronto': tzfile('Canada/Eastern'),\n",
       " 'America/Tortola': tzfile('America/Anguilla'),\n",
       " 'America/Vancouver': tzfile('Canada/Pacific'),\n",
       " 'America/Virgin': tzfile('America/Anguilla'),\n",
       " 'America/Whitehorse': tzfile('Canada/Yukon'),\n",
       " 'America/Winnipeg': tzfile('Canada/Central'),\n",
       " 'Europe/Belfast': tzfile('GB-Eire'),\n",
       " 'Europe/Dublin': tzfile('Eire'),\n",
       " 'Europe/Guernsey': tzfile('GB-Eire'),\n",
       " 'Europe/Isle_of_Man': tzfile('GB-Eire'),\n",
       " 'Europe/Istanbul': tzfile('Turkey'),\n",
       " 'Europe/Jersey': tzfile('GB-Eire'),\n",
       " 'Europe/Lisbon': tzfile('Portugal'),\n",
       " 'Europe/Ljubljana': tzfile('Europe/Belgrade'),\n",
       " 'Europe/London': tzfile('GB-Eire'),\n",
       " 'Europe/Mariehamn': tzfile('Europe/Helsinki'),\n",
       " 'Europe/Moscow': tzfile('W-SU'),\n",
       " 'Europe/Oslo': tzfile('Arctic/Longyearbyen'),\n",
       " 'Europe/Podgorica': tzfile('Europe/Belgrade'),\n",
       " 'Europe/Prague': tzfile('Europe/Bratislava'),\n",
       " 'Europe/San_Marino': tzfile('Europe/Rome'),\n",
       " 'Europe/Sarajevo': tzfile('Europe/Belgrade'),\n",
       " 'Europe/Skopje': tzfile('Europe/Belgrade'),\n",
       " 'Europe/Tiraspol': tzfile('Europe/Chisinau'),\n",
       " 'Europe/Vaduz': tzfile('Europe/Busingen'),\n",
       " 'Europe/Vatican': tzfile('Europe/Rome'),\n",
       " 'Europe/Warsaw': tzfile('Poland'),\n",
       " 'Europe/Zagreb': tzfile('Europe/Belgrade'),\n",
       " 'Europe/Zurich': tzfile('Europe/Busingen'),\n",
       " 'Pacific/Auckland': tzfile('NZ'),\n",
       " 'Pacific/Chatham': tzfile('NZ-CHAT'),\n",
       " 'Pacific/Easter': tzfile('Chile/EasterIsland'),\n",
       " 'Pacific/Honolulu': tzfile('US/Hawaii'),\n",
       " 'Pacific/Johnston': tzfile('US/Hawaii'),\n",
       " 'Pacific/Kwajalein': tzfile('Kwajalein'),\n",
       " 'Pacific/Midway': tzfile('US/Samoa'),\n",
       " 'Pacific/Pago_Pago': tzfile('US/Samoa'),\n",
       " 'Pacific/Ponape': tzfile('Pacific/Pohnpei'),\n",
       " 'Pacific/Saipan': tzfile('Pacific/Guam'),\n",
       " 'Pacific/Samoa': tzfile('US/Samoa'),\n",
       " 'Pacific/Truk': tzfile('Pacific/Chuuk'),\n",
       " 'Pacific/Yap': tzfile('Pacific/Chuuk'),\n",
       " 'Australia/Canberra': tzfile('Australia/ACT'),\n",
       " 'Australia/Lord_Howe': tzfile('Australia/LHI'),\n",
       " 'Australia/NSW': tzfile('Australia/ACT'),\n",
       " 'Australia/North': tzfile('Australia/Darwin'),\n",
       " 'Australia/Queensland': tzfile('Australia/Brisbane'),\n",
       " 'Australia/South': tzfile('Australia/Adelaide'),\n",
       " 'Australia/Sydney': tzfile('Australia/ACT'),\n",
       " 'Australia/Tasmania': tzfile('Australia/Hobart'),\n",
       " 'Australia/Victoria': tzfile('Australia/Melbourne'),\n",
       " 'Australia/West': tzfile('Australia/Perth'),\n",
       " 'Australia/Yancowinna': tzfile('Australia/Broken_Hill'),\n",
       " 'Asia/Ashkhabad': tzfile('Asia/Ashgabat'),\n",
       " 'Asia/Chongqing': tzfile('PRC'),\n",
       " 'Asia/Chungking': tzfile('PRC'),\n",
       " 'Asia/Dhaka': tzfile('Asia/Dacca'),\n",
       " 'Asia/Harbin': tzfile('PRC'),\n",
       " 'Asia/Hong_Kong': tzfile('Hongkong'),\n",
       " 'Asia/Istanbul': tzfile('Turkey'),\n",
       " 'Asia/Jerusalem': tzfile('Israel'),\n",
       " 'Asia/Katmandu': tzfile('Asia/Kathmandu'),\n",
       " 'Asia/Kolkata': tzfile('Asia/Calcutta'),\n",
       " 'Asia/Kuwait': tzfile('Asia/Aden'),\n",
       " 'Asia/Macau': tzfile('Asia/Macao'),\n",
       " 'Asia/Muscat': tzfile('Asia/Dubai'),\n",
       " 'Asia/Nicosia': tzfile('Europe/Nicosia'),\n",
       " 'Asia/Phnom_Penh': tzfile('Asia/Bangkok'),\n",
       " 'Asia/Qatar': tzfile('Asia/Bahrain'),\n",
       " 'Asia/Riyadh': tzfile('Asia/Aden'),\n",
       " 'Asia/Saigon': tzfile('Asia/Ho_Chi_Minh'),\n",
       " 'Asia/Seoul': tzfile('ROK'),\n",
       " 'Asia/Shanghai': tzfile('PRC'),\n",
       " 'Asia/Singapore': tzfile('Singapore'),\n",
       " 'Asia/Taipei': tzfile('ROC'),\n",
       " 'Asia/Tehran': tzfile('Iran'),\n",
       " 'Asia/Tel_Aviv': tzfile('Israel'),\n",
       " 'Asia/Thimphu': tzfile('Asia/Thimbu'),\n",
       " 'Asia/Tokyo': tzfile('Japan'),\n",
       " 'Asia/Ujung_Pandang': tzfile('Asia/Makassar'),\n",
       " 'Asia/Ulan_Bator': tzfile('Asia/Ulaanbaatar'),\n",
       " 'Asia/Urumqi': tzfile('Asia/Kashgar'),\n",
       " 'Asia/Vientiane': tzfile('Asia/Bangkok'),\n",
       " 'Asia/Yangon': tzfile('Asia/Rangoon'),\n",
       " 'Antarctica/McMurdo': tzfile('NZ'),\n",
       " 'Antarctica/South_Pole': tzfile('NZ'),\n",
       " 'Indian/Comoro': tzfile('Indian/Antananarivo'),\n",
       " 'Indian/Mayotte': tzfile('Indian/Antananarivo'),\n",
       " 'Atlantic/Faroe': tzfile('Atlantic/Faeroe'),\n",
       " 'Atlantic/Jan_Mayen': tzfile('Arctic/Longyearbyen'),\n",
       " 'Atlantic/Reykjavik': tzfile('Iceland'),\n",
       " 'Africa/Abidjan': tzfile('Atlantic/St_Helena'),\n",
       " 'Africa/Addis_Ababa': tzfile('Indian/Antananarivo'),\n",
       " 'Africa/Asmara': tzfile('Indian/Antananarivo'),\n",
       " 'Africa/Asmera': tzfile('Indian/Antananarivo'),\n",
       " 'Africa/Bamako': tzfile('Atlantic/St_Helena'),\n",
       " 'Africa/Banjul': tzfile('Atlantic/St_Helena'),\n",
       " 'Africa/Brazzaville': tzfile('Africa/Bangui'),\n",
       " 'Africa/Bujumbura': tzfile('Africa/Blantyre'),\n",
       " 'Africa/Cairo': tzfile('Egypt'),\n",
       " 'Africa/Conakry': tzfile('Atlantic/St_Helena'),\n",
       " 'Africa/Dakar': tzfile('Atlantic/St_Helena'),\n",
       " 'Africa/Dar_es_Salaam': tzfile('Indian/Antananarivo'),\n",
       " 'Africa/Djibouti': tzfile('Indian/Antananarivo'),\n",
       " 'Africa/Douala': tzfile('Africa/Bangui'),\n",
       " 'Africa/Freetown': tzfile('Atlantic/St_Helena'),\n",
       " 'Africa/Gaborone': tzfile('Africa/Blantyre'),\n",
       " 'Africa/Harare': tzfile('Africa/Blantyre'),\n",
       " 'Africa/Kampala': tzfile('Indian/Antananarivo'),\n",
       " 'Africa/Kigali': tzfile('Africa/Blantyre'),\n",
       " 'Africa/Kinshasa': tzfile('Africa/Bangui'),\n",
       " 'Africa/Lagos': tzfile('Africa/Bangui'),\n",
       " 'Africa/Libreville': tzfile('Africa/Bangui'),\n",
       " 'Africa/Lome': tzfile('Atlantic/St_Helena'),\n",
       " 'Africa/Luanda': tzfile('Africa/Bangui'),\n",
       " 'Africa/Lubumbashi': tzfile('Africa/Blantyre'),\n",
       " 'Africa/Lusaka': tzfile('Africa/Blantyre'),\n",
       " 'Africa/Malabo': tzfile('Africa/Bangui'),\n",
       " 'Africa/Maputo': tzfile('Africa/Blantyre'),\n",
       " 'Africa/Maseru': tzfile('Africa/Johannesburg'),\n",
       " 'Africa/Mbabane': tzfile('Africa/Johannesburg'),\n",
       " 'Africa/Mogadishu': tzfile('Indian/Antananarivo'),\n",
       " 'Africa/Nairobi': tzfile('Indian/Antananarivo'),\n",
       " 'Africa/Niamey': tzfile('Africa/Bangui'),\n",
       " 'Africa/Nouakchott': tzfile('Atlantic/St_Helena'),\n",
       " 'Africa/Ouagadougou': tzfile('Atlantic/St_Helena'),\n",
       " 'Africa/Porto-Novo': tzfile('Africa/Bangui'),\n",
       " 'Africa/Timbuktu': tzfile('Atlantic/St_Helena'),\n",
       " 'Africa/Tripoli': tzfile('Libya')}"
      ]
     },
     "execution_count": 86,
     "metadata": {},
     "output_type": "execute_result"
    }
   ],
   "source": [
    "from dateutil.zoneinfo import get_zonefile_instance\n",
    "\n",
    "print(f\"len = {len(get_zonefile_instance().zones)}\")\n",
    "\n",
    "get_zonefile_instance().zones"
   ]
  },
  {
   "cell_type": "markdown",
   "metadata": {},
   "source": [
    "#### Список часовых поясов из пакета `pytz`"
   ]
  },
  {
   "cell_type": "code",
   "execution_count": 87,
   "metadata": {
    "tags": []
   },
   "outputs": [
    {
     "name": "stdout",
     "output_type": "stream",
     "text": [
      "len = 593\n"
     ]
    },
    {
     "data": {
      "text/plain": [
       "['Africa/Abidjan',\n",
       " 'Africa/Accra',\n",
       " 'Africa/Addis_Ababa',\n",
       " 'Africa/Algiers',\n",
       " 'Africa/Asmara',\n",
       " 'Africa/Asmera',\n",
       " 'Africa/Bamako',\n",
       " 'Africa/Bangui',\n",
       " 'Africa/Banjul',\n",
       " 'Africa/Bissau',\n",
       " 'Africa/Blantyre',\n",
       " 'Africa/Brazzaville',\n",
       " 'Africa/Bujumbura',\n",
       " 'Africa/Cairo',\n",
       " 'Africa/Casablanca',\n",
       " 'Africa/Ceuta',\n",
       " 'Africa/Conakry',\n",
       " 'Africa/Dakar',\n",
       " 'Africa/Dar_es_Salaam',\n",
       " 'Africa/Djibouti',\n",
       " 'Africa/Douala',\n",
       " 'Africa/El_Aaiun',\n",
       " 'Africa/Freetown',\n",
       " 'Africa/Gaborone',\n",
       " 'Africa/Harare',\n",
       " 'Africa/Johannesburg',\n",
       " 'Africa/Juba',\n",
       " 'Africa/Kampala',\n",
       " 'Africa/Khartoum',\n",
       " 'Africa/Kigali',\n",
       " 'Africa/Kinshasa',\n",
       " 'Africa/Lagos',\n",
       " 'Africa/Libreville',\n",
       " 'Africa/Lome',\n",
       " 'Africa/Luanda',\n",
       " 'Africa/Lubumbashi',\n",
       " 'Africa/Lusaka',\n",
       " 'Africa/Malabo',\n",
       " 'Africa/Maputo',\n",
       " 'Africa/Maseru',\n",
       " 'Africa/Mbabane',\n",
       " 'Africa/Mogadishu',\n",
       " 'Africa/Monrovia',\n",
       " 'Africa/Nairobi',\n",
       " 'Africa/Ndjamena',\n",
       " 'Africa/Niamey',\n",
       " 'Africa/Nouakchott',\n",
       " 'Africa/Ouagadougou',\n",
       " 'Africa/Porto-Novo',\n",
       " 'Africa/Sao_Tome',\n",
       " 'Africa/Timbuktu',\n",
       " 'Africa/Tripoli',\n",
       " 'Africa/Tunis',\n",
       " 'Africa/Windhoek',\n",
       " 'America/Adak',\n",
       " 'America/Anchorage',\n",
       " 'America/Anguilla',\n",
       " 'America/Antigua',\n",
       " 'America/Araguaina',\n",
       " 'America/Argentina/Buenos_Aires',\n",
       " 'America/Argentina/Catamarca',\n",
       " 'America/Argentina/ComodRivadavia',\n",
       " 'America/Argentina/Cordoba',\n",
       " 'America/Argentina/Jujuy',\n",
       " 'America/Argentina/La_Rioja',\n",
       " 'America/Argentina/Mendoza',\n",
       " 'America/Argentina/Rio_Gallegos',\n",
       " 'America/Argentina/Salta',\n",
       " 'America/Argentina/San_Juan',\n",
       " 'America/Argentina/San_Luis',\n",
       " 'America/Argentina/Tucuman',\n",
       " 'America/Argentina/Ushuaia',\n",
       " 'America/Aruba',\n",
       " 'America/Asuncion',\n",
       " 'America/Atikokan',\n",
       " 'America/Atka',\n",
       " 'America/Bahia',\n",
       " 'America/Bahia_Banderas',\n",
       " 'America/Barbados',\n",
       " 'America/Belem',\n",
       " 'America/Belize',\n",
       " 'America/Blanc-Sablon',\n",
       " 'America/Boa_Vista',\n",
       " 'America/Bogota',\n",
       " 'America/Boise',\n",
       " 'America/Buenos_Aires',\n",
       " 'America/Cambridge_Bay',\n",
       " 'America/Campo_Grande',\n",
       " 'America/Cancun',\n",
       " 'America/Caracas',\n",
       " 'America/Catamarca',\n",
       " 'America/Cayenne',\n",
       " 'America/Cayman',\n",
       " 'America/Chicago',\n",
       " 'America/Chihuahua',\n",
       " 'America/Coral_Harbour',\n",
       " 'America/Cordoba',\n",
       " 'America/Costa_Rica',\n",
       " 'America/Creston',\n",
       " 'America/Cuiaba',\n",
       " 'America/Curacao',\n",
       " 'America/Danmarkshavn',\n",
       " 'America/Dawson',\n",
       " 'America/Dawson_Creek',\n",
       " 'America/Denver',\n",
       " 'America/Detroit',\n",
       " 'America/Dominica',\n",
       " 'America/Edmonton',\n",
       " 'America/Eirunepe',\n",
       " 'America/El_Salvador',\n",
       " 'America/Ensenada',\n",
       " 'America/Fort_Nelson',\n",
       " 'America/Fort_Wayne',\n",
       " 'America/Fortaleza',\n",
       " 'America/Glace_Bay',\n",
       " 'America/Godthab',\n",
       " 'America/Goose_Bay',\n",
       " 'America/Grand_Turk',\n",
       " 'America/Grenada',\n",
       " 'America/Guadeloupe',\n",
       " 'America/Guatemala',\n",
       " 'America/Guayaquil',\n",
       " 'America/Guyana',\n",
       " 'America/Halifax',\n",
       " 'America/Havana',\n",
       " 'America/Hermosillo',\n",
       " 'America/Indiana/Indianapolis',\n",
       " 'America/Indiana/Knox',\n",
       " 'America/Indiana/Marengo',\n",
       " 'America/Indiana/Petersburg',\n",
       " 'America/Indiana/Tell_City',\n",
       " 'America/Indiana/Vevay',\n",
       " 'America/Indiana/Vincennes',\n",
       " 'America/Indiana/Winamac',\n",
       " 'America/Indianapolis',\n",
       " 'America/Inuvik',\n",
       " 'America/Iqaluit',\n",
       " 'America/Jamaica',\n",
       " 'America/Jujuy',\n",
       " 'America/Juneau',\n",
       " 'America/Kentucky/Louisville',\n",
       " 'America/Kentucky/Monticello',\n",
       " 'America/Knox_IN',\n",
       " 'America/Kralendijk',\n",
       " 'America/La_Paz',\n",
       " 'America/Lima',\n",
       " 'America/Los_Angeles',\n",
       " 'America/Louisville',\n",
       " 'America/Lower_Princes',\n",
       " 'America/Maceio',\n",
       " 'America/Managua',\n",
       " 'America/Manaus',\n",
       " 'America/Marigot',\n",
       " 'America/Martinique',\n",
       " 'America/Matamoros',\n",
       " 'America/Mazatlan',\n",
       " 'America/Mendoza',\n",
       " 'America/Menominee',\n",
       " 'America/Merida',\n",
       " 'America/Metlakatla',\n",
       " 'America/Mexico_City',\n",
       " 'America/Miquelon',\n",
       " 'America/Moncton',\n",
       " 'America/Monterrey',\n",
       " 'America/Montevideo',\n",
       " 'America/Montreal',\n",
       " 'America/Montserrat',\n",
       " 'America/Nassau',\n",
       " 'America/New_York',\n",
       " 'America/Nipigon',\n",
       " 'America/Nome',\n",
       " 'America/Noronha',\n",
       " 'America/North_Dakota/Beulah',\n",
       " 'America/North_Dakota/Center',\n",
       " 'America/North_Dakota/New_Salem',\n",
       " 'America/Nuuk',\n",
       " 'America/Ojinaga',\n",
       " 'America/Panama',\n",
       " 'America/Pangnirtung',\n",
       " 'America/Paramaribo',\n",
       " 'America/Phoenix',\n",
       " 'America/Port-au-Prince',\n",
       " 'America/Port_of_Spain',\n",
       " 'America/Porto_Acre',\n",
       " 'America/Porto_Velho',\n",
       " 'America/Puerto_Rico',\n",
       " 'America/Punta_Arenas',\n",
       " 'America/Rainy_River',\n",
       " 'America/Rankin_Inlet',\n",
       " 'America/Recife',\n",
       " 'America/Regina',\n",
       " 'America/Resolute',\n",
       " 'America/Rio_Branco',\n",
       " 'America/Rosario',\n",
       " 'America/Santa_Isabel',\n",
       " 'America/Santarem',\n",
       " 'America/Santiago',\n",
       " 'America/Santo_Domingo',\n",
       " 'America/Sao_Paulo',\n",
       " 'America/Scoresbysund',\n",
       " 'America/Shiprock',\n",
       " 'America/Sitka',\n",
       " 'America/St_Barthelemy',\n",
       " 'America/St_Johns',\n",
       " 'America/St_Kitts',\n",
       " 'America/St_Lucia',\n",
       " 'America/St_Thomas',\n",
       " 'America/St_Vincent',\n",
       " 'America/Swift_Current',\n",
       " 'America/Tegucigalpa',\n",
       " 'America/Thule',\n",
       " 'America/Thunder_Bay',\n",
       " 'America/Tijuana',\n",
       " 'America/Toronto',\n",
       " 'America/Tortola',\n",
       " 'America/Vancouver',\n",
       " 'America/Virgin',\n",
       " 'America/Whitehorse',\n",
       " 'America/Winnipeg',\n",
       " 'America/Yakutat',\n",
       " 'America/Yellowknife',\n",
       " 'Antarctica/Casey',\n",
       " 'Antarctica/Davis',\n",
       " 'Antarctica/DumontDUrville',\n",
       " 'Antarctica/Macquarie',\n",
       " 'Antarctica/Mawson',\n",
       " 'Antarctica/McMurdo',\n",
       " 'Antarctica/Palmer',\n",
       " 'Antarctica/Rothera',\n",
       " 'Antarctica/South_Pole',\n",
       " 'Antarctica/Syowa',\n",
       " 'Antarctica/Troll',\n",
       " 'Antarctica/Vostok',\n",
       " 'Arctic/Longyearbyen',\n",
       " 'Asia/Aden',\n",
       " 'Asia/Almaty',\n",
       " 'Asia/Amman',\n",
       " 'Asia/Anadyr',\n",
       " 'Asia/Aqtau',\n",
       " 'Asia/Aqtobe',\n",
       " 'Asia/Ashgabat',\n",
       " 'Asia/Ashkhabad',\n",
       " 'Asia/Atyrau',\n",
       " 'Asia/Baghdad',\n",
       " 'Asia/Bahrain',\n",
       " 'Asia/Baku',\n",
       " 'Asia/Bangkok',\n",
       " 'Asia/Barnaul',\n",
       " 'Asia/Beirut',\n",
       " 'Asia/Bishkek',\n",
       " 'Asia/Brunei',\n",
       " 'Asia/Calcutta',\n",
       " 'Asia/Chita',\n",
       " 'Asia/Choibalsan',\n",
       " 'Asia/Chongqing',\n",
       " 'Asia/Chungking',\n",
       " 'Asia/Colombo',\n",
       " 'Asia/Dacca',\n",
       " 'Asia/Damascus',\n",
       " 'Asia/Dhaka',\n",
       " 'Asia/Dili',\n",
       " 'Asia/Dubai',\n",
       " 'Asia/Dushanbe',\n",
       " 'Asia/Famagusta',\n",
       " 'Asia/Gaza',\n",
       " 'Asia/Harbin',\n",
       " 'Asia/Hebron',\n",
       " 'Asia/Ho_Chi_Minh',\n",
       " 'Asia/Hong_Kong',\n",
       " 'Asia/Hovd',\n",
       " 'Asia/Irkutsk',\n",
       " 'Asia/Istanbul',\n",
       " 'Asia/Jakarta',\n",
       " 'Asia/Jayapura',\n",
       " 'Asia/Jerusalem',\n",
       " 'Asia/Kabul',\n",
       " 'Asia/Kamchatka',\n",
       " 'Asia/Karachi',\n",
       " 'Asia/Kashgar',\n",
       " 'Asia/Kathmandu',\n",
       " 'Asia/Katmandu',\n",
       " 'Asia/Khandyga',\n",
       " 'Asia/Kolkata',\n",
       " 'Asia/Krasnoyarsk',\n",
       " 'Asia/Kuala_Lumpur',\n",
       " 'Asia/Kuching',\n",
       " 'Asia/Kuwait',\n",
       " 'Asia/Macao',\n",
       " 'Asia/Macau',\n",
       " 'Asia/Magadan',\n",
       " 'Asia/Makassar',\n",
       " 'Asia/Manila',\n",
       " 'Asia/Muscat',\n",
       " 'Asia/Nicosia',\n",
       " 'Asia/Novokuznetsk',\n",
       " 'Asia/Novosibirsk',\n",
       " 'Asia/Omsk',\n",
       " 'Asia/Oral',\n",
       " 'Asia/Phnom_Penh',\n",
       " 'Asia/Pontianak',\n",
       " 'Asia/Pyongyang',\n",
       " 'Asia/Qatar',\n",
       " 'Asia/Qostanay',\n",
       " 'Asia/Qyzylorda',\n",
       " 'Asia/Rangoon',\n",
       " 'Asia/Riyadh',\n",
       " 'Asia/Saigon',\n",
       " 'Asia/Sakhalin',\n",
       " 'Asia/Samarkand',\n",
       " 'Asia/Seoul',\n",
       " 'Asia/Shanghai',\n",
       " 'Asia/Singapore',\n",
       " 'Asia/Srednekolymsk',\n",
       " 'Asia/Taipei',\n",
       " 'Asia/Tashkent',\n",
       " 'Asia/Tbilisi',\n",
       " 'Asia/Tehran',\n",
       " 'Asia/Tel_Aviv',\n",
       " 'Asia/Thimbu',\n",
       " 'Asia/Thimphu',\n",
       " 'Asia/Tokyo',\n",
       " 'Asia/Tomsk',\n",
       " 'Asia/Ujung_Pandang',\n",
       " 'Asia/Ulaanbaatar',\n",
       " 'Asia/Ulan_Bator',\n",
       " 'Asia/Urumqi',\n",
       " 'Asia/Ust-Nera',\n",
       " 'Asia/Vientiane',\n",
       " 'Asia/Vladivostok',\n",
       " 'Asia/Yakutsk',\n",
       " 'Asia/Yangon',\n",
       " 'Asia/Yekaterinburg',\n",
       " 'Asia/Yerevan',\n",
       " 'Atlantic/Azores',\n",
       " 'Atlantic/Bermuda',\n",
       " 'Atlantic/Canary',\n",
       " 'Atlantic/Cape_Verde',\n",
       " 'Atlantic/Faeroe',\n",
       " 'Atlantic/Faroe',\n",
       " 'Atlantic/Jan_Mayen',\n",
       " 'Atlantic/Madeira',\n",
       " 'Atlantic/Reykjavik',\n",
       " 'Atlantic/South_Georgia',\n",
       " 'Atlantic/St_Helena',\n",
       " 'Atlantic/Stanley',\n",
       " 'Australia/ACT',\n",
       " 'Australia/Adelaide',\n",
       " 'Australia/Brisbane',\n",
       " 'Australia/Broken_Hill',\n",
       " 'Australia/Canberra',\n",
       " 'Australia/Currie',\n",
       " 'Australia/Darwin',\n",
       " 'Australia/Eucla',\n",
       " 'Australia/Hobart',\n",
       " 'Australia/LHI',\n",
       " 'Australia/Lindeman',\n",
       " 'Australia/Lord_Howe',\n",
       " 'Australia/Melbourne',\n",
       " 'Australia/NSW',\n",
       " 'Australia/North',\n",
       " 'Australia/Perth',\n",
       " 'Australia/Queensland',\n",
       " 'Australia/South',\n",
       " 'Australia/Sydney',\n",
       " 'Australia/Tasmania',\n",
       " 'Australia/Victoria',\n",
       " 'Australia/West',\n",
       " 'Australia/Yancowinna',\n",
       " 'Brazil/Acre',\n",
       " 'Brazil/DeNoronha',\n",
       " 'Brazil/East',\n",
       " 'Brazil/West',\n",
       " 'CET',\n",
       " 'CST6CDT',\n",
       " 'Canada/Atlantic',\n",
       " 'Canada/Central',\n",
       " 'Canada/Eastern',\n",
       " 'Canada/Mountain',\n",
       " 'Canada/Newfoundland',\n",
       " 'Canada/Pacific',\n",
       " 'Canada/Saskatchewan',\n",
       " 'Canada/Yukon',\n",
       " 'Chile/Continental',\n",
       " 'Chile/EasterIsland',\n",
       " 'Cuba',\n",
       " 'EET',\n",
       " 'EST',\n",
       " 'EST5EDT',\n",
       " 'Egypt',\n",
       " 'Eire',\n",
       " 'Etc/GMT',\n",
       " 'Etc/GMT+0',\n",
       " 'Etc/GMT+1',\n",
       " 'Etc/GMT+10',\n",
       " 'Etc/GMT+11',\n",
       " 'Etc/GMT+12',\n",
       " 'Etc/GMT+2',\n",
       " 'Etc/GMT+3',\n",
       " 'Etc/GMT+4',\n",
       " 'Etc/GMT+5',\n",
       " 'Etc/GMT+6',\n",
       " 'Etc/GMT+7',\n",
       " 'Etc/GMT+8',\n",
       " 'Etc/GMT+9',\n",
       " 'Etc/GMT-0',\n",
       " 'Etc/GMT-1',\n",
       " 'Etc/GMT-10',\n",
       " 'Etc/GMT-11',\n",
       " 'Etc/GMT-12',\n",
       " 'Etc/GMT-13',\n",
       " 'Etc/GMT-14',\n",
       " 'Etc/GMT-2',\n",
       " 'Etc/GMT-3',\n",
       " 'Etc/GMT-4',\n",
       " 'Etc/GMT-5',\n",
       " 'Etc/GMT-6',\n",
       " 'Etc/GMT-7',\n",
       " 'Etc/GMT-8',\n",
       " 'Etc/GMT-9',\n",
       " 'Etc/GMT0',\n",
       " 'Etc/Greenwich',\n",
       " 'Etc/UCT',\n",
       " 'Etc/UTC',\n",
       " 'Etc/Universal',\n",
       " 'Etc/Zulu',\n",
       " 'Europe/Amsterdam',\n",
       " 'Europe/Andorra',\n",
       " 'Europe/Astrakhan',\n",
       " 'Europe/Athens',\n",
       " 'Europe/Belfast',\n",
       " 'Europe/Belgrade',\n",
       " 'Europe/Berlin',\n",
       " 'Europe/Bratislava',\n",
       " 'Europe/Brussels',\n",
       " 'Europe/Bucharest',\n",
       " 'Europe/Budapest',\n",
       " 'Europe/Busingen',\n",
       " 'Europe/Chisinau',\n",
       " 'Europe/Copenhagen',\n",
       " 'Europe/Dublin',\n",
       " 'Europe/Gibraltar',\n",
       " 'Europe/Guernsey',\n",
       " 'Europe/Helsinki',\n",
       " 'Europe/Isle_of_Man',\n",
       " 'Europe/Istanbul',\n",
       " 'Europe/Jersey',\n",
       " 'Europe/Kaliningrad',\n",
       " 'Europe/Kiev',\n",
       " 'Europe/Kirov',\n",
       " 'Europe/Lisbon',\n",
       " 'Europe/Ljubljana',\n",
       " 'Europe/London',\n",
       " 'Europe/Luxembourg',\n",
       " 'Europe/Madrid',\n",
       " 'Europe/Malta',\n",
       " 'Europe/Mariehamn',\n",
       " 'Europe/Minsk',\n",
       " 'Europe/Monaco',\n",
       " 'Europe/Moscow',\n",
       " 'Europe/Nicosia',\n",
       " 'Europe/Oslo',\n",
       " 'Europe/Paris',\n",
       " 'Europe/Podgorica',\n",
       " 'Europe/Prague',\n",
       " 'Europe/Riga',\n",
       " 'Europe/Rome',\n",
       " 'Europe/Samara',\n",
       " 'Europe/San_Marino',\n",
       " 'Europe/Sarajevo',\n",
       " 'Europe/Saratov',\n",
       " 'Europe/Simferopol',\n",
       " 'Europe/Skopje',\n",
       " 'Europe/Sofia',\n",
       " 'Europe/Stockholm',\n",
       " 'Europe/Tallinn',\n",
       " 'Europe/Tirane',\n",
       " 'Europe/Tiraspol',\n",
       " 'Europe/Ulyanovsk',\n",
       " 'Europe/Uzhgorod',\n",
       " 'Europe/Vaduz',\n",
       " 'Europe/Vatican',\n",
       " 'Europe/Vienna',\n",
       " 'Europe/Vilnius',\n",
       " 'Europe/Volgograd',\n",
       " 'Europe/Warsaw',\n",
       " 'Europe/Zagreb',\n",
       " 'Europe/Zaporozhye',\n",
       " 'Europe/Zurich',\n",
       " 'GB',\n",
       " 'GB-Eire',\n",
       " 'GMT',\n",
       " 'GMT+0',\n",
       " 'GMT-0',\n",
       " 'GMT0',\n",
       " 'Greenwich',\n",
       " 'HST',\n",
       " 'Hongkong',\n",
       " 'Iceland',\n",
       " 'Indian/Antananarivo',\n",
       " 'Indian/Chagos',\n",
       " 'Indian/Christmas',\n",
       " 'Indian/Cocos',\n",
       " 'Indian/Comoro',\n",
       " 'Indian/Kerguelen',\n",
       " 'Indian/Mahe',\n",
       " 'Indian/Maldives',\n",
       " 'Indian/Mauritius',\n",
       " 'Indian/Mayotte',\n",
       " 'Indian/Reunion',\n",
       " 'Iran',\n",
       " 'Israel',\n",
       " 'Jamaica',\n",
       " 'Japan',\n",
       " 'Kwajalein',\n",
       " 'Libya',\n",
       " 'MET',\n",
       " 'MST',\n",
       " 'MST7MDT',\n",
       " 'Mexico/BajaNorte',\n",
       " 'Mexico/BajaSur',\n",
       " 'Mexico/General',\n",
       " 'NZ',\n",
       " 'NZ-CHAT',\n",
       " 'Navajo',\n",
       " 'PRC',\n",
       " 'PST8PDT',\n",
       " 'Pacific/Apia',\n",
       " 'Pacific/Auckland',\n",
       " 'Pacific/Bougainville',\n",
       " 'Pacific/Chatham',\n",
       " 'Pacific/Chuuk',\n",
       " 'Pacific/Easter',\n",
       " 'Pacific/Efate',\n",
       " 'Pacific/Enderbury',\n",
       " 'Pacific/Fakaofo',\n",
       " 'Pacific/Fiji',\n",
       " 'Pacific/Funafuti',\n",
       " 'Pacific/Galapagos',\n",
       " 'Pacific/Gambier',\n",
       " 'Pacific/Guadalcanal',\n",
       " 'Pacific/Guam',\n",
       " 'Pacific/Honolulu',\n",
       " 'Pacific/Johnston',\n",
       " 'Pacific/Kiritimati',\n",
       " 'Pacific/Kosrae',\n",
       " 'Pacific/Kwajalein',\n",
       " 'Pacific/Majuro',\n",
       " 'Pacific/Marquesas',\n",
       " 'Pacific/Midway',\n",
       " 'Pacific/Nauru',\n",
       " 'Pacific/Niue',\n",
       " 'Pacific/Norfolk',\n",
       " 'Pacific/Noumea',\n",
       " 'Pacific/Pago_Pago',\n",
       " 'Pacific/Palau',\n",
       " 'Pacific/Pitcairn',\n",
       " 'Pacific/Pohnpei',\n",
       " 'Pacific/Ponape',\n",
       " 'Pacific/Port_Moresby',\n",
       " 'Pacific/Rarotonga',\n",
       " 'Pacific/Saipan',\n",
       " 'Pacific/Samoa',\n",
       " 'Pacific/Tahiti',\n",
       " 'Pacific/Tarawa',\n",
       " 'Pacific/Tongatapu',\n",
       " 'Pacific/Truk',\n",
       " 'Pacific/Wake',\n",
       " 'Pacific/Wallis',\n",
       " 'Pacific/Yap',\n",
       " 'Poland',\n",
       " 'Portugal',\n",
       " 'ROC',\n",
       " 'ROK',\n",
       " 'Singapore',\n",
       " 'Turkey',\n",
       " 'UCT',\n",
       " 'US/Alaska',\n",
       " 'US/Aleutian',\n",
       " 'US/Arizona',\n",
       " 'US/Central',\n",
       " 'US/East-Indiana',\n",
       " 'US/Eastern',\n",
       " 'US/Hawaii',\n",
       " 'US/Indiana-Starke',\n",
       " 'US/Michigan',\n",
       " 'US/Mountain',\n",
       " 'US/Pacific',\n",
       " 'US/Samoa',\n",
       " 'UTC',\n",
       " 'Universal',\n",
       " 'W-SU',\n",
       " 'WET',\n",
       " 'Zulu']"
      ]
     },
     "execution_count": 87,
     "metadata": {},
     "output_type": "execute_result"
    }
   ],
   "source": [
    "# список часовых поясов из пакета pytz\n",
    "\n",
    "import pytz\n",
    "\n",
    "print(f\"len = {len(pytz.all_timezones)}\")\n",
    "\n",
    "pytz.all_timezones"
   ]
  },
  {
   "cell_type": "markdown",
   "metadata": {},
   "source": [
    "#### Обзор `tz_localize`"
   ]
  },
  {
   "cell_type": "code",
   "execution_count": 88,
   "metadata": {},
   "outputs": [],
   "source": [
    "import datetime"
   ]
  },
  {
   "cell_type": "code",
   "execution_count": 89,
   "metadata": {},
   "outputs": [
    {
     "data": {
      "text/html": [
       "<div>\n",
       "<style scoped>\n",
       "    .dataframe tbody tr th:only-of-type {\n",
       "        vertical-align: middle;\n",
       "    }\n",
       "\n",
       "    .dataframe tbody tr th {\n",
       "        vertical-align: top;\n",
       "    }\n",
       "\n",
       "    .dataframe thead th {\n",
       "        text-align: right;\n",
       "    }\n",
       "</style>\n",
       "<table border=\"1\" class=\"dataframe\">\n",
       "  <thead>\n",
       "    <tr style=\"text-align: right;\">\n",
       "      <th></th>\n",
       "      <th>datetime</th>\n",
       "    </tr>\n",
       "  </thead>\n",
       "  <tbody>\n",
       "    <tr>\n",
       "      <th>0</th>\n",
       "      <td>2018-03-10 15:50:00</td>\n",
       "    </tr>\n",
       "    <tr>\n",
       "      <th>1</th>\n",
       "      <td>2019-02-10 16:00:00</td>\n",
       "    </tr>\n",
       "    <tr>\n",
       "      <th>2</th>\n",
       "      <td>2020-05-15 18:20:00</td>\n",
       "    </tr>\n",
       "  </tbody>\n",
       "</table>\n",
       "</div>"
      ],
      "text/plain": [
       "             datetime\n",
       "0 2018-03-10 15:50:00\n",
       "1 2019-02-10 16:00:00\n",
       "2 2020-05-15 18:20:00"
      ]
     },
     "execution_count": 89,
     "metadata": {},
     "output_type": "execute_result"
    }
   ],
   "source": [
    "df_dt = pd.DataFrame({'datetime': [np.datetime64('2018-03-10 15:50'),\n",
    "                                np.datetime64('2019-02-10 16:00'),\n",
    "                                np.datetime64('2020-05-15 18:20')]})\n",
    "df_dt"
   ]
  },
  {
   "cell_type": "code",
   "execution_count": 90,
   "metadata": {},
   "outputs": [
    {
     "data": {
      "text/plain": [
       "0   2018-03-10 15:50:00\n",
       "1   2019-02-10 16:00:00\n",
       "2   2020-05-15 18:20:00\n",
       "Name: datetime, dtype: datetime64[ns]"
      ]
     },
     "execution_count": 90,
     "metadata": {},
     "output_type": "execute_result"
    }
   ],
   "source": [
    "df_dt.datetime"
   ]
  },
  {
   "cell_type": "code",
   "execution_count": 91,
   "metadata": {},
   "outputs": [],
   "source": [
    "# TypeError: index is not a valid DatetimeIndex or PeriodIndex\n",
    "# df_dt.datetime.tz_localize(\"UTC\")"
   ]
  },
  {
   "cell_type": "code",
   "execution_count": 92,
   "metadata": {},
   "outputs": [
    {
     "data": {
      "text/html": [
       "<div>\n",
       "<style scoped>\n",
       "    .dataframe tbody tr th:only-of-type {\n",
       "        vertical-align: middle;\n",
       "    }\n",
       "\n",
       "    .dataframe tbody tr th {\n",
       "        vertical-align: top;\n",
       "    }\n",
       "\n",
       "    .dataframe thead th {\n",
       "        text-align: right;\n",
       "    }\n",
       "</style>\n",
       "<table border=\"1\" class=\"dataframe\">\n",
       "  <thead>\n",
       "    <tr style=\"text-align: right;\">\n",
       "      <th></th>\n",
       "      <th>datetime</th>\n",
       "    </tr>\n",
       "  </thead>\n",
       "  <tbody>\n",
       "    <tr>\n",
       "      <th>0</th>\n",
       "      <td>2018-03-10 15:50:00+00:00</td>\n",
       "    </tr>\n",
       "    <tr>\n",
       "      <th>1</th>\n",
       "      <td>2019-02-10 16:00:00+00:00</td>\n",
       "    </tr>\n",
       "    <tr>\n",
       "      <th>2</th>\n",
       "      <td>2020-05-15 18:20:00+00:00</td>\n",
       "    </tr>\n",
       "  </tbody>\n",
       "</table>\n",
       "</div>"
      ],
      "text/plain": [
       "                   datetime\n",
       "0 2018-03-10 15:50:00+00:00\n",
       "1 2019-02-10 16:00:00+00:00\n",
       "2 2020-05-15 18:20:00+00:00"
      ]
     },
     "execution_count": 92,
     "metadata": {},
     "output_type": "execute_result"
    }
   ],
   "source": [
    "df_dt.datetime = df_dt.datetime.dt.tz_localize(\"UTC\")\n",
    "df_dt"
   ]
  },
  {
   "cell_type": "code",
   "execution_count": 93,
   "metadata": {},
   "outputs": [
    {
     "data": {
      "text/html": [
       "<div>\n",
       "<style scoped>\n",
       "    .dataframe tbody tr th:only-of-type {\n",
       "        vertical-align: middle;\n",
       "    }\n",
       "\n",
       "    .dataframe tbody tr th {\n",
       "        vertical-align: top;\n",
       "    }\n",
       "\n",
       "    .dataframe thead th {\n",
       "        text-align: right;\n",
       "    }\n",
       "</style>\n",
       "<table border=\"1\" class=\"dataframe\">\n",
       "  <thead>\n",
       "    <tr style=\"text-align: right;\">\n",
       "      <th></th>\n",
       "      <th>datetime</th>\n",
       "    </tr>\n",
       "  </thead>\n",
       "  <tbody>\n",
       "    <tr>\n",
       "      <th>0</th>\n",
       "      <td>2018-03-10 17:50:00+02:00</td>\n",
       "    </tr>\n",
       "    <tr>\n",
       "      <th>1</th>\n",
       "      <td>2019-02-10 18:00:00+02:00</td>\n",
       "    </tr>\n",
       "    <tr>\n",
       "      <th>2</th>\n",
       "      <td>2020-05-15 20:20:00+02:00</td>\n",
       "    </tr>\n",
       "  </tbody>\n",
       "</table>\n",
       "</div>"
      ],
      "text/plain": [
       "                   datetime\n",
       "0 2018-03-10 17:50:00+02:00\n",
       "1 2019-02-10 18:00:00+02:00\n",
       "2 2020-05-15 20:20:00+02:00"
      ]
     },
     "execution_count": 93,
     "metadata": {},
     "output_type": "execute_result"
    }
   ],
   "source": [
    "df_dt.datetime = df_dt.datetime.dt.tz_convert(\"Africa/Cairo\")\n",
    "df_dt"
   ]
  },
  {
   "cell_type": "code",
   "execution_count": 94,
   "metadata": {},
   "outputs": [
    {
     "data": {
      "text/plain": [
       "DatetimeIndex(['2018-01-01', '2018-01-01', '2018-01-01'], dtype='datetime64[ns]', freq=None)"
      ]
     },
     "execution_count": 94,
     "metadata": {},
     "output_type": "execute_result"
    }
   ],
   "source": [
    "dti = pd.to_datetime([\"1/1/2018\",\n",
    "                      np.datetime64(\"2018-01-01\"), \n",
    "                      datetime.datetime(2018, 1, 1)])\n",
    "dti"
   ]
  },
  {
   "cell_type": "code",
   "execution_count": 95,
   "metadata": {},
   "outputs": [
    {
     "data": {
      "text/plain": [
       "DatetimeIndex(['2018-01-01 00:00:00', '2018-01-01 01:00:00',\n",
       "               '2018-01-01 02:00:00'],\n",
       "              dtype='datetime64[ns]', freq='H')"
      ]
     },
     "execution_count": 95,
     "metadata": {},
     "output_type": "execute_result"
    }
   ],
   "source": [
    "dti = pd.date_range(\"2018-01-01\", \n",
    "                    periods=3, \n",
    "                    freq=\"H\")\n",
    "\n",
    "dti"
   ]
  },
  {
   "cell_type": "code",
   "execution_count": 96,
   "metadata": {},
   "outputs": [
    {
     "data": {
      "text/plain": [
       "DatetimeIndex(['2018-01-01 00:00:00+00:00', '2018-01-01 01:00:00+00:00',\n",
       "               '2018-01-01 02:00:00+00:00'],\n",
       "              dtype='datetime64[ns, UTC]', freq='H')"
      ]
     },
     "execution_count": 96,
     "metadata": {},
     "output_type": "execute_result"
    }
   ],
   "source": [
    "# управление и преобразование даты и времени \n",
    "# с информацией о часовом поясе\n",
    "dti.tz_localize(\"UTC\")"
   ]
  },
  {
   "cell_type": "code",
   "execution_count": 97,
   "metadata": {},
   "outputs": [
    {
     "data": {
      "text/plain": [
       "DatetimeIndex(['2017-12-31 16:00:00-08:00', '2017-12-31 17:00:00-08:00',\n",
       "               '2017-12-31 18:00:00-08:00'],\n",
       "              dtype='datetime64[ns, US/Pacific]', freq='H')"
      ]
     },
     "execution_count": 97,
     "metadata": {},
     "output_type": "execute_result"
    }
   ],
   "source": [
    "# конвертировать часовой пояс\n",
    "dti.tz_localize('UTC').tz_convert(\"US/Pacific\")"
   ]
  },
  {
   "cell_type": "markdown",
   "metadata": {},
   "source": [
    "#### Нулевые даты"
   ]
  },
  {
   "cell_type": "markdown",
   "metadata": {},
   "source": [
    "`pandas` представляет нулевые даты, временные интервалы и временные интервалы как `NaT,` что полезно для представления отсутствующих или нулевых значений даты, таких как значения, и ведет себя так же, как `np.nan` для данных с плавающей запятой."
   ]
  },
  {
   "cell_type": "code",
   "execution_count": 98,
   "metadata": {},
   "outputs": [
    {
     "data": {
      "text/plain": [
       "NaT"
      ]
     },
     "execution_count": 98,
     "metadata": {},
     "output_type": "execute_result"
    }
   ],
   "source": [
    "pd.Timestamp(pd.NaT)"
   ]
  },
  {
   "cell_type": "code",
   "execution_count": 99,
   "metadata": {},
   "outputs": [
    {
     "data": {
      "text/plain": [
       "NaT"
      ]
     },
     "execution_count": 99,
     "metadata": {},
     "output_type": "execute_result"
    }
   ],
   "source": [
    "pd.Timedelta(pd.NaT)"
   ]
  },
  {
   "cell_type": "code",
   "execution_count": 100,
   "metadata": {},
   "outputs": [
    {
     "data": {
      "text/plain": [
       "False"
      ]
     },
     "execution_count": 100,
     "metadata": {},
     "output_type": "execute_result"
    }
   ],
   "source": [
    "# равенство действует так же, как np.nan\n",
    "pd.NaT == pd.NaT"
   ]
  },
  {
   "cell_type": "markdown",
   "metadata": {},
   "source": [
    "#### Арифметические операции с `Timestamp`"
   ]
  },
  {
   "cell_type": "code",
   "execution_count": 101,
   "metadata": {},
   "outputs": [
    {
     "data": {
      "text/plain": [
       "'Friday'"
      ]
     },
     "execution_count": 101,
     "metadata": {},
     "output_type": "execute_result"
    }
   ],
   "source": [
    "friday = pd.Timestamp(\"2018-01-05\")\n",
    "\n",
    "friday.day_name()"
   ]
  },
  {
   "cell_type": "code",
   "execution_count": 102,
   "metadata": {},
   "outputs": [
    {
     "data": {
      "text/plain": [
       "'Saturday'"
      ]
     },
     "execution_count": 102,
     "metadata": {},
     "output_type": "execute_result"
    }
   ],
   "source": [
    "# добавить 1 день\n",
    "saturday = friday + pd.Timedelta(\"1 day\")\n",
    "\n",
    "saturday.day_name()"
   ]
  },
  {
   "cell_type": "code",
   "execution_count": 103,
   "metadata": {},
   "outputs": [
    {
     "data": {
      "text/plain": [
       "'Sunday'"
      ]
     },
     "execution_count": 103,
     "metadata": {},
     "output_type": "execute_result"
    }
   ],
   "source": [
    "# добавить 1 день и 25 часов\n",
    "saturday = friday + pd.Timedelta(\"1 day 25 hours\")\n",
    "\n",
    "saturday.day_name()"
   ]
  },
  {
   "cell_type": "code",
   "execution_count": 104,
   "metadata": {},
   "outputs": [
    {
     "data": {
      "text/plain": [
       "'Monday'"
      ]
     },
     "execution_count": 104,
     "metadata": {},
     "output_type": "execute_result"
    }
   ],
   "source": [
    "# добавить 1 \"бизнес\" (рабочий) день\n",
    "monday = friday + pd.offsets.BDay()\n",
    "\n",
    "monday.day_name()"
   ]
  },
  {
   "cell_type": "markdown",
   "metadata": {},
   "source": [
    "### [Представление промежутка времени (Time span representation)](https://pandas.pydata.org/pandas-docs/stable/user_guide/timeseries.html#timeseries-periods)"
   ]
  },
  {
   "cell_type": "markdown",
   "metadata": {},
   "source": [
    "#### Вид данных\n",
    "\n",
    "Период представляет собой промежуток времени (например, день, месяц, квартал и т.д.). \n",
    "\n",
    "Можно указать диапазон с помощью ключевого слова `freq`.\n",
    "\n",
    "Поскольку `freq` представляет собой интервал периода, он не может быть отрицательным, например `\"-3D\"`.\n",
    "\n",
    "Постоянные интервалы времени представлены объектами `Period` в `pandas`, в то время как последовательности объектов `Period` собираются в `PeriodIndex`, который можно создать с помощью удобной функции `period_range`.\n",
    "\n",
    "Данные с отметками времени (`Timestamp`) - это самый основной тип данных временных рядов, который связывает значения с моментами времени.\n",
    "\n",
    "Для объектов `pandas` это означает использование точек во времени.\n",
    "\n",
    "Однако во многих случаях более естественно связать такие вещи, как изменения переменных, с промежутком времени (time span / `Period`). Диапазон, представленный `Period` может быть указан явно или выведен из формата строки datetime."
   ]
  },
  {
   "cell_type": "markdown",
   "metadata": {},
   "source": [
    "#### Обзор `Period`"
   ]
  },
  {
   "cell_type": "code",
   "execution_count": 105,
   "metadata": {},
   "outputs": [
    {
     "data": {
      "text/plain": [
       "Timestamp('2012-05-01 00:00:00')"
      ]
     },
     "execution_count": 105,
     "metadata": {},
     "output_type": "execute_result"
    }
   ],
   "source": [
    "pd.Timestamp(datetime.datetime(2012, 5, 1))"
   ]
  },
  {
   "cell_type": "code",
   "execution_count": 106,
   "metadata": {},
   "outputs": [
    {
     "data": {
      "text/plain": [
       "Period('2011-01', 'M')"
      ]
     },
     "execution_count": 106,
     "metadata": {},
     "output_type": "execute_result"
    }
   ],
   "source": [
    "pd.Period(\"2011-01\")"
   ]
  },
  {
   "cell_type": "code",
   "execution_count": 107,
   "metadata": {},
   "outputs": [
    {
     "data": {
      "text/plain": [
       "Period('2012-05-01', 'D')"
      ]
     },
     "execution_count": 107,
     "metadata": {},
     "output_type": "execute_result"
    }
   ],
   "source": [
    "pd.Period(\"2012-05\", freq=\"D\")"
   ]
  },
  {
   "cell_type": "markdown",
   "metadata": {},
   "source": [
    "Отметка времени и период могут служить индексом.\n",
    "\n",
    "Списки `Timestamp` и `Period` автоматически приводятся к `DatetimeIndex` и `PeriodIndex` соответственно.\n",
    "\n",
    "Под капотом `pandas` представляет временные метки, используя экземпляры `Timestamp`, и последовательности временных меток, используя экземпляры `DatetimeIndex`.\n",
    "\n",
    "Для регулярных интервалов времени `pandas` использует объекты `Period` для скалярных значений и `PeriodIndex` для последовательностей интервалов."
   ]
  },
  {
   "cell_type": "code",
   "execution_count": 108,
   "metadata": {},
   "outputs": [
    {
     "data": {
      "text/plain": [
       "2012-05-01    0.853778\n",
       "2012-05-02   -0.774640\n",
       "2012-05-03   -1.193588\n",
       "dtype: float64"
      ]
     },
     "execution_count": 108,
     "metadata": {},
     "output_type": "execute_result"
    }
   ],
   "source": [
    "dates = [pd.Timestamp(\"2012-05-01\"),\n",
    "         pd.Timestamp(\"2012-05-02\"),\n",
    "         pd.Timestamp(\"2012-05-03\"),]\n",
    "\n",
    "ts = pd.Series(np.random.randn(3), dates)\n",
    "ts"
   ]
  },
  {
   "cell_type": "code",
   "execution_count": 109,
   "metadata": {},
   "outputs": [
    {
     "data": {
      "text/plain": [
       "pandas.core.indexes.datetimes.DatetimeIndex"
      ]
     },
     "execution_count": 109,
     "metadata": {},
     "output_type": "execute_result"
    }
   ],
   "source": [
    "type(ts.index)"
   ]
  },
  {
   "cell_type": "code",
   "execution_count": 110,
   "metadata": {},
   "outputs": [
    {
     "data": {
      "text/html": [
       "<div>\n",
       "<style scoped>\n",
       "    .dataframe tbody tr th:only-of-type {\n",
       "        vertical-align: middle;\n",
       "    }\n",
       "\n",
       "    .dataframe tbody tr th {\n",
       "        vertical-align: top;\n",
       "    }\n",
       "\n",
       "    .dataframe thead th {\n",
       "        text-align: right;\n",
       "    }\n",
       "</style>\n",
       "<table border=\"1\" class=\"dataframe\">\n",
       "  <thead>\n",
       "    <tr style=\"text-align: right;\">\n",
       "      <th></th>\n",
       "      <th>dates</th>\n",
       "    </tr>\n",
       "  </thead>\n",
       "  <tbody>\n",
       "    <tr>\n",
       "      <th>0</th>\n",
       "      <td>2012-05-01</td>\n",
       "    </tr>\n",
       "    <tr>\n",
       "      <th>1</th>\n",
       "      <td>2012-05-02</td>\n",
       "    </tr>\n",
       "    <tr>\n",
       "      <th>2</th>\n",
       "      <td>2012-05-03</td>\n",
       "    </tr>\n",
       "  </tbody>\n",
       "</table>\n",
       "</div>"
      ],
      "text/plain": [
       "       dates\n",
       "0 2012-05-01\n",
       "1 2012-05-02\n",
       "2 2012-05-03"
      ]
     },
     "execution_count": 110,
     "metadata": {},
     "output_type": "execute_result"
    }
   ],
   "source": [
    "dates_df = pd.DataFrame({\"dates\": dates})\n",
    "dates_df"
   ]
  },
  {
   "cell_type": "code",
   "execution_count": 111,
   "metadata": {},
   "outputs": [
    {
     "data": {
      "text/plain": [
       "0   2012-05-01\n",
       "1   2012-05-02\n",
       "2   2012-05-03\n",
       "Name: dates, dtype: datetime64[ns]"
      ]
     },
     "execution_count": 111,
     "metadata": {},
     "output_type": "execute_result"
    }
   ],
   "source": [
    "dates_df.dates"
   ]
  },
  {
   "cell_type": "code",
   "execution_count": 112,
   "metadata": {},
   "outputs": [
    {
     "data": {
      "text/plain": [
       "0    2012-05-01\n",
       "1    2012-05-02\n",
       "2    2012-05-03\n",
       "Name: dates, dtype: period[D]"
      ]
     },
     "execution_count": 112,
     "metadata": {},
     "output_type": "execute_result"
    }
   ],
   "source": [
    "# изменить тип столбца dates datetime64 -> period[D]\n",
    "dates_df.dates.dt.to_period(\"D\")"
   ]
  },
  {
   "cell_type": "code",
   "execution_count": 113,
   "metadata": {},
   "outputs": [
    {
     "data": {
      "text/plain": [
       "2012-01    0.009402\n",
       "2012-02   -3.946740\n",
       "2012-03    0.633318\n",
       "Freq: M, dtype: float64"
      ]
     },
     "execution_count": 113,
     "metadata": {},
     "output_type": "execute_result"
    }
   ],
   "source": [
    "periods = [pd.Period(\"2012-01\"), \n",
    "           pd.Period(\"2012-02\"), \n",
    "           pd.Period(\"2012-03\")]\n",
    "\n",
    "ts = pd.Series(np.random.randn(3), periods)\n",
    "ts"
   ]
  },
  {
   "cell_type": "code",
   "execution_count": 114,
   "metadata": {},
   "outputs": [
    {
     "data": {
      "text/plain": [
       "pandas.core.indexes.period.PeriodIndex"
      ]
     },
     "execution_count": 114,
     "metadata": {},
     "output_type": "execute_result"
    }
   ],
   "source": [
    "type(ts.index)"
   ]
  },
  {
   "cell_type": "code",
   "execution_count": 115,
   "metadata": {},
   "outputs": [
    {
     "data": {
      "text/plain": [
       "PeriodIndex(['2012-01', '2012-02', '2012-03'], dtype='period[M]', freq='M')"
      ]
     },
     "execution_count": 115,
     "metadata": {},
     "output_type": "execute_result"
    }
   ],
   "source": [
    "ts.index"
   ]
  },
  {
   "cell_type": "code",
   "execution_count": 116,
   "metadata": {},
   "outputs": [
    {
     "data": {
      "text/plain": [
       "2018-01-01 00:00:00    0\n",
       "2018-01-01 01:00:00    1\n",
       "2018-01-01 02:00:00    2\n",
       "2018-01-01 03:00:00    3\n",
       "2018-01-01 04:00:00    4\n",
       "Freq: H, dtype: int64"
      ]
     },
     "execution_count": 116,
     "metadata": {},
     "output_type": "execute_result"
    }
   ],
   "source": [
    "idx = pd.date_range(\"2018-01-01\", periods=5, freq=\"H\")\n",
    "ts = pd.Series(range(len(idx)), index=idx)\n",
    "\n",
    "ts"
   ]
  },
  {
   "cell_type": "code",
   "execution_count": 117,
   "metadata": {},
   "outputs": [
    {
     "data": {
      "text/plain": [
       "2018-01-01 00:00:00    0.5\n",
       "2018-01-01 02:00:00    2.5\n",
       "2018-01-01 04:00:00    4.0\n",
       "Freq: 2H, dtype: float64"
      ]
     },
     "execution_count": 117,
     "metadata": {},
     "output_type": "execute_result"
    }
   ],
   "source": [
    "ts.resample(\"2H\").mean()"
   ]
  },
  {
   "cell_type": "code",
   "execution_count": 118,
   "metadata": {},
   "outputs": [
    {
     "data": {
      "text/plain": [
       "2000-01-01    0\n",
       "2000-01-02    1\n",
       "2000-01-03    2\n",
       "Freq: D, dtype: int64"
      ]
     },
     "execution_count": 118,
     "metadata": {},
     "output_type": "execute_result"
    }
   ],
   "source": [
    "pd.Series(range(3), \n",
    "          index=pd.date_range(\"2000\", \n",
    "                              freq=\"D\", \n",
    "                              periods=3))"
   ]
  },
  {
   "cell_type": "code",
   "execution_count": 119,
   "metadata": {},
   "outputs": [
    {
     "data": {
      "text/plain": [
       "0   2000-01-01\n",
       "1   2000-01-02\n",
       "2   2000-01-03\n",
       "dtype: datetime64[ns]"
      ]
     },
     "execution_count": 119,
     "metadata": {},
     "output_type": "execute_result"
    }
   ],
   "source": [
    "pd.Series(pd.date_range(\"2000\", \n",
    "                        freq=\"D\", \n",
    "                        periods=3))"
   ]
  },
  {
   "cell_type": "markdown",
   "metadata": {},
   "source": [
    "[Псевдонимы смещения](https://pandas.pydata.org/pandas-docs/stable/user_guide/timeseries.html#timeseries-offset-aliases)"
   ]
  },
  {
   "cell_type": "code",
   "execution_count": 120,
   "metadata": {},
   "outputs": [
    {
     "data": {
      "text/plain": [
       "0   2021-02-25 00:55:00\n",
       "1   2021-02-25 00:56:00\n",
       "2   2021-02-25 00:57:00\n",
       "3   2021-02-25 00:58:00\n",
       "4   2021-02-25 00:59:00\n",
       "5   2021-02-25 01:00:00\n",
       "6   2021-02-25 01:01:00\n",
       "7   2021-02-25 01:02:00\n",
       "8   2021-02-25 01:03:00\n",
       "9   2021-02-25 01:04:00\n",
       "dtype: datetime64[ns]"
      ]
     },
     "execution_count": 120,
     "metadata": {},
     "output_type": "execute_result"
    }
   ],
   "source": [
    "pd.Series(pd.date_range(\"00:55\", \n",
    "                        freq=\"min\", \n",
    "                        periods=10))"
   ]
  },
  {
   "cell_type": "code",
   "execution_count": 121,
   "metadata": {},
   "outputs": [
    {
     "data": {
      "text/plain": [
       "0    2011-01\n",
       "1    2011-02\n",
       "2    2011-03\n",
       "dtype: period[M]"
      ]
     },
     "execution_count": 121,
     "metadata": {},
     "output_type": "execute_result"
    }
   ],
   "source": [
    "pd.Series(pd.period_range(\"1/1/2011\", \n",
    "                          freq=\"M\", \n",
    "                          periods=3))"
   ]
  },
  {
   "cell_type": "code",
   "execution_count": 122,
   "metadata": {},
   "outputs": [
    {
     "data": {
      "text/plain": [
       "0         <DateOffset>\n",
       "1    <2 * DateOffsets>\n",
       "dtype: object"
      ]
     },
     "execution_count": 122,
     "metadata": {},
     "output_type": "execute_result"
    }
   ],
   "source": [
    "pd.Series([pd.DateOffset(1), \n",
    "           pd.DateOffset(2)])"
   ]
  },
  {
   "cell_type": "code",
   "execution_count": 123,
   "metadata": {},
   "outputs": [
    {
     "data": {
      "text/plain": [
       "0   2011-01-31\n",
       "1   2011-02-28\n",
       "2   2011-03-31\n",
       "dtype: datetime64[ns]"
      ]
     },
     "execution_count": 123,
     "metadata": {},
     "output_type": "execute_result"
    }
   ],
   "source": [
    "pd.Series(pd.date_range(\"1/1/2011\", \n",
    "                        freq=\"M\", \n",
    "                        periods=3))"
   ]
  },
  {
   "cell_type": "markdown",
   "metadata": {},
   "source": [
    "#### Нулевые промежутки времени"
   ]
  },
  {
   "cell_type": "code",
   "execution_count": 124,
   "metadata": {},
   "outputs": [
    {
     "data": {
      "text/plain": [
       "NaT"
      ]
     },
     "execution_count": 124,
     "metadata": {},
     "output_type": "execute_result"
    }
   ],
   "source": [
    "pd.Period(pd.NaT)"
   ]
  },
  {
   "cell_type": "markdown",
   "metadata": {},
   "source": [
    "#### Арифметические операции с `Period`"
   ]
  },
  {
   "cell_type": "markdown",
   "metadata": {},
   "source": [
    "Добавление и вычитание целых чисел из периодов сдвигает период на его собственную частоту.\n",
    "\n",
    "Арифметические операции не разрешены между периодами с разной частотой (диапазоном)."
   ]
  },
  {
   "cell_type": "code",
   "execution_count": 125,
   "metadata": {},
   "outputs": [
    {
     "data": {
      "text/plain": [
       "Period('2012', 'A-DEC')"
      ]
     },
     "execution_count": 125,
     "metadata": {},
     "output_type": "execute_result"
    }
   ],
   "source": [
    "p = pd.Period(\"2012\", freq=\"A-DEC\")\n",
    "p"
   ]
  },
  {
   "cell_type": "code",
   "execution_count": 126,
   "metadata": {},
   "outputs": [
    {
     "data": {
      "text/plain": [
       "Period('2013', 'A-DEC')"
      ]
     },
     "execution_count": 126,
     "metadata": {},
     "output_type": "execute_result"
    }
   ],
   "source": [
    "p + 1"
   ]
  },
  {
   "cell_type": "code",
   "execution_count": 127,
   "metadata": {},
   "outputs": [
    {
     "data": {
      "text/plain": [
       "Period('2012-01-01 19:00', 'H')"
      ]
     },
     "execution_count": 127,
     "metadata": {},
     "output_type": "execute_result"
    }
   ],
   "source": [
    "p = pd.Period(\"2012-1-1 19:00\", freq=\"H\")\n",
    "p"
   ]
  },
  {
   "cell_type": "code",
   "execution_count": 128,
   "metadata": {},
   "outputs": [
    {
     "data": {
      "text/plain": [
       "Period('2012-01-01 22:00', 'H')"
      ]
     },
     "execution_count": 128,
     "metadata": {},
     "output_type": "execute_result"
    }
   ],
   "source": [
    "# обавить 4 часа к каждому элементу\n",
    "p + 3"
   ]
  },
  {
   "cell_type": "markdown",
   "metadata": {},
   "source": [
    "К `Period` могут быть добавлены смещения и timedelta-подобные, если результат может иметь ту же частоту. В противном случае возникнет ошибка ValueError."
   ]
  },
  {
   "cell_type": "code",
   "execution_count": 129,
   "metadata": {},
   "outputs": [
    {
     "data": {
      "text/plain": [
       "Period('2014-07-01 09:00', 'H')"
      ]
     },
     "execution_count": 129,
     "metadata": {},
     "output_type": "execute_result"
    }
   ],
   "source": [
    "p = pd.Period(\"2014-07-01 09:00\", \n",
    "              freq=\"H\")\n",
    "p"
   ]
  },
  {
   "cell_type": "code",
   "execution_count": 130,
   "metadata": {},
   "outputs": [
    {
     "data": {
      "text/plain": [
       "Period('2014-07-01 11:00', 'H')"
      ]
     },
     "execution_count": 130,
     "metadata": {},
     "output_type": "execute_result"
    }
   ],
   "source": [
    "p + pd.offsets.Hour(2)"
   ]
  },
  {
   "cell_type": "code",
   "execution_count": 131,
   "metadata": {},
   "outputs": [
    {
     "data": {
      "text/plain": [
       "Period('2014-07-01 11:00', 'H')"
      ]
     },
     "execution_count": 131,
     "metadata": {},
     "output_type": "execute_result"
    }
   ],
   "source": [
    "# обавить timedelta равную 120 минут к каждому элементу \n",
    "p + datetime.timedelta(minutes=120)"
   ]
  },
  {
   "cell_type": "markdown",
   "metadata": {},
   "source": [
    "### [Обнуляемый целочисленный тип данных (Nullable integer data type)](https://pandas.pydata.org/pandas-docs/stable/user_guide/integer_na.html#integer-na)"
   ]
  },
  {
   "cell_type": "markdown",
   "metadata": {},
   "source": [
    "#### Вид данных\n",
    "\n",
    "`pandas` в основном использует `NaN` для представления отсутствующих данных.\n",
    "\n",
    "Поскольку `NaN` является `float`, это заставляет массив целых чисел (`int`) с любыми пропущенными значениями стать `float`.\n",
    "\n",
    "В некоторых случаях это может не иметь большого значения.\n",
    "\n",
    "Но если целочисленный столбец является, например, идентификатором, приведение к типу `float` может быть проблематичным. \n",
    "\n",
    "Некоторые целые числа даже нельзя представить как числа с плавающей запятой."
   ]
  },
  {
   "cell_type": "markdown",
   "metadata": {},
   "source": [
    "#### Создание\n",
    "\n",
    "`pandas` может представлять целочисленные данные с пропущенными значениями используя `pandas.arrays.IntegerArray`."
   ]
  },
  {
   "cell_type": "code",
   "execution_count": 132,
   "metadata": {},
   "outputs": [
    {
     "data": {
      "text/plain": [
       "<IntegerArray>\n",
       "[1, 2, <NA>]\n",
       "Length: 3, dtype: Int64"
      ]
     },
     "execution_count": 132,
     "metadata": {},
     "output_type": "execute_result"
    }
   ],
   "source": [
    "pd.array([1, 2, None], \n",
    "         dtype=pd.Int64Dtype())"
   ]
  },
  {
   "cell_type": "markdown",
   "metadata": {},
   "source": [
    "Или ипользуя строковый псевдоним `\"Int64\"` (обратите внимание на заглавную \"I\", это необходимо для различия с `int64` в `NumPy`)."
   ]
  },
  {
   "cell_type": "code",
   "execution_count": 133,
   "metadata": {},
   "outputs": [
    {
     "data": {
      "text/plain": [
       "<IntegerArray>\n",
       "[1, 2, <NA>]\n",
       "Length: 3, dtype: Int64"
      ]
     },
     "execution_count": 133,
     "metadata": {},
     "output_type": "execute_result"
    }
   ],
   "source": [
    "pd.array([1, 2, np.nan], \n",
    "         dtype=\"Int64\")"
   ]
  },
  {
   "cell_type": "markdown",
   "metadata": {},
   "source": [
    "Все значения типа `NA` заменяются на `pandas.NA`.\n",
    "\n",
    "*NA (not available)"
   ]
  },
  {
   "cell_type": "code",
   "execution_count": 134,
   "metadata": {},
   "outputs": [
    {
     "data": {
      "text/plain": [
       "<IntegerArray>\n",
       "[1, 2, <NA>, <NA>, <NA>]\n",
       "Length: 5, dtype: Int64"
      ]
     },
     "execution_count": 134,
     "metadata": {},
     "output_type": "execute_result"
    }
   ],
   "source": [
    "arr = pd.array([1, 2, np.nan, None, pd.NA], \n",
    "               dtype=\"Int64\")\n",
    "\n",
    "arr"
   ]
  },
  {
   "cell_type": "markdown",
   "metadata": {},
   "source": [
    "Этот массив может храниться в `DataFrame` или `Series`, как любой массив `NumPy`."
   ]
  },
  {
   "cell_type": "code",
   "execution_count": 135,
   "metadata": {},
   "outputs": [
    {
     "data": {
      "text/plain": [
       "0       1\n",
       "1       2\n",
       "2    <NA>\n",
       "3    <NA>\n",
       "4    <NA>\n",
       "dtype: Int64"
      ]
     },
     "execution_count": 135,
     "metadata": {},
     "output_type": "execute_result"
    }
   ],
   "source": [
    "pd.Series(arr)"
   ]
  },
  {
   "cell_type": "markdown",
   "metadata": {},
   "source": [
    "#### Операции\n",
    "\n",
    "Операции с целочисленным массивом будут вести себя аналогично массивам `NumPy`.\n",
    "\n",
    "Отсутствующие значения будут переданы (propagated), а данные будут при необходимости переведены в другой `dtype`."
   ]
  },
  {
   "cell_type": "code",
   "execution_count": 136,
   "metadata": {},
   "outputs": [
    {
     "data": {
      "text/plain": [
       "0       1\n",
       "1       2\n",
       "2    <NA>\n",
       "dtype: Int64"
      ]
     },
     "execution_count": 136,
     "metadata": {},
     "output_type": "execute_result"
    }
   ],
   "source": [
    "s = pd.Series([1, 2, None], \n",
    "              dtype=\"Int64\")\n",
    "s"
   ]
  },
  {
   "cell_type": "code",
   "execution_count": 137,
   "metadata": {},
   "outputs": [
    {
     "data": {
      "text/plain": [
       "0       2\n",
       "1       3\n",
       "2    <NA>\n",
       "dtype: Int64"
      ]
     },
     "execution_count": 137,
     "metadata": {},
     "output_type": "execute_result"
    }
   ],
   "source": [
    "# арифметика\n",
    "s + 1"
   ]
  },
  {
   "cell_type": "code",
   "execution_count": 138,
   "metadata": {},
   "outputs": [
    {
     "data": {
      "text/plain": [
       "0     True\n",
       "1    False\n",
       "2     <NA>\n",
       "dtype: boolean"
      ]
     },
     "execution_count": 138,
     "metadata": {},
     "output_type": "execute_result"
    }
   ],
   "source": [
    "# сравнение\n",
    "s == 1"
   ]
  },
  {
   "cell_type": "code",
   "execution_count": 139,
   "metadata": {},
   "outputs": [
    {
     "data": {
      "text/plain": [
       "1       2\n",
       "2    <NA>\n",
       "dtype: Int64"
      ]
     },
     "execution_count": 139,
     "metadata": {},
     "output_type": "execute_result"
    }
   ],
   "source": [
    "# индексирование\n",
    "s.iloc[1:3]"
   ]
  },
  {
   "cell_type": "code",
   "execution_count": 140,
   "metadata": {},
   "outputs": [
    {
     "data": {
      "text/plain": [
       "0    <NA>\n",
       "1       4\n",
       "2    <NA>\n",
       "dtype: Int64"
      ]
     },
     "execution_count": 140,
     "metadata": {},
     "output_type": "execute_result"
    }
   ],
   "source": [
    "# операции с другими типами данных\n",
    "s + s.iloc[1:3].astype(\"Int8\")"
   ]
  },
  {
   "cell_type": "code",
   "execution_count": 141,
   "metadata": {},
   "outputs": [
    {
     "data": {
      "text/plain": [
       "0    1.01\n",
       "1    2.01\n",
       "2    <NA>\n",
       "dtype: Float64"
      ]
     },
     "execution_count": 141,
     "metadata": {},
     "output_type": "execute_result"
    }
   ],
   "source": [
    "# приведение при необходимости\n",
    "s + 0.01"
   ]
  },
  {
   "cell_type": "markdown",
   "metadata": {},
   "source": [
    "Эти `dtypes` могут работать как часть `DataFrame`."
   ]
  },
  {
   "cell_type": "code",
   "execution_count": 142,
   "metadata": {},
   "outputs": [
    {
     "data": {
      "text/html": [
       "<div>\n",
       "<style scoped>\n",
       "    .dataframe tbody tr th:only-of-type {\n",
       "        vertical-align: middle;\n",
       "    }\n",
       "\n",
       "    .dataframe tbody tr th {\n",
       "        vertical-align: top;\n",
       "    }\n",
       "\n",
       "    .dataframe thead th {\n",
       "        text-align: right;\n",
       "    }\n",
       "</style>\n",
       "<table border=\"1\" class=\"dataframe\">\n",
       "  <thead>\n",
       "    <tr style=\"text-align: right;\">\n",
       "      <th></th>\n",
       "      <th>A</th>\n",
       "      <th>B</th>\n",
       "      <th>C</th>\n",
       "    </tr>\n",
       "  </thead>\n",
       "  <tbody>\n",
       "    <tr>\n",
       "      <th>0</th>\n",
       "      <td>1</td>\n",
       "      <td>1</td>\n",
       "      <td>a</td>\n",
       "    </tr>\n",
       "    <tr>\n",
       "      <th>1</th>\n",
       "      <td>2</td>\n",
       "      <td>1</td>\n",
       "      <td>a</td>\n",
       "    </tr>\n",
       "    <tr>\n",
       "      <th>2</th>\n",
       "      <td>&lt;NA&gt;</td>\n",
       "      <td>3</td>\n",
       "      <td>b</td>\n",
       "    </tr>\n",
       "  </tbody>\n",
       "</table>\n",
       "</div>"
      ],
      "text/plain": [
       "      A  B  C\n",
       "0     1  1  a\n",
       "1     2  1  a\n",
       "2  <NA>  3  b"
      ]
     },
     "execution_count": 142,
     "metadata": {},
     "output_type": "execute_result"
    }
   ],
   "source": [
    "df = pd.DataFrame({\"A\": s, \"B\": [1, 1, 3], \"C\": list(\"aab\")})\n",
    "df"
   ]
  },
  {
   "cell_type": "code",
   "execution_count": 143,
   "metadata": {},
   "outputs": [
    {
     "data": {
      "text/plain": [
       "A     Int64\n",
       "B     int64\n",
       "C    object\n",
       "dtype: object"
      ]
     },
     "execution_count": 143,
     "metadata": {},
     "output_type": "execute_result"
    }
   ],
   "source": [
    "df.dtypes"
   ]
  },
  {
   "cell_type": "markdown",
   "metadata": {},
   "source": [
    "Эти `dtypes` можно объединять, изменять и преобразовывать."
   ]
  },
  {
   "cell_type": "code",
   "execution_count": 144,
   "metadata": {},
   "outputs": [
    {
     "data": {
      "text/plain": [
       "A     Int64\n",
       "B     int64\n",
       "C    object\n",
       "dtype: object"
      ]
     },
     "execution_count": 144,
     "metadata": {},
     "output_type": "execute_result"
    }
   ],
   "source": [
    "pd.concat([df[[\"A\"]], \n",
    "           df[[\"B\", \"C\"]]], \n",
    "          axis=1).dtypes"
   ]
  },
  {
   "cell_type": "code",
   "execution_count": 145,
   "metadata": {},
   "outputs": [
    {
     "data": {
      "text/plain": [
       "0    1.0\n",
       "1    2.0\n",
       "2    NaN\n",
       "Name: A, dtype: float64"
      ]
     },
     "execution_count": 145,
     "metadata": {},
     "output_type": "execute_result"
    }
   ],
   "source": [
    "df[\"A\"].astype(float)"
   ]
  },
  {
   "cell_type": "markdown",
   "metadata": {},
   "source": [
    "Также работают операции сокращения и группировки, такие как `sum()`."
   ]
  },
  {
   "cell_type": "code",
   "execution_count": 146,
   "metadata": {},
   "outputs": [
    {
     "data": {
      "text/plain": [
       "A      3\n",
       "B      5\n",
       "C    aab\n",
       "dtype: object"
      ]
     },
     "execution_count": 146,
     "metadata": {},
     "output_type": "execute_result"
    }
   ],
   "source": [
    "df.sum()"
   ]
  },
  {
   "cell_type": "code",
   "execution_count": 147,
   "metadata": {},
   "outputs": [
    {
     "data": {
      "text/plain": [
       "B\n",
       "1    3\n",
       "3    0\n",
       "Name: A, dtype: Int64"
      ]
     },
     "execution_count": 147,
     "metadata": {},
     "output_type": "execute_result"
    }
   ],
   "source": [
    "df.groupby(\"B\").A.sum()"
   ]
  },
  {
   "cell_type": "markdown",
   "metadata": {},
   "source": [
    "#### Скалярное значение `NA`\n",
    "\n",
    "`array.IntegerArray` использует `pandas.NA` в качестве пропущенного скалярного значения.\n",
    "\n",
    "Срез одного отсутствующего элемента вернет `pandas.NA`."
   ]
  },
  {
   "cell_type": "code",
   "execution_count": 148,
   "metadata": {},
   "outputs": [
    {
     "data": {
      "text/plain": [
       "<IntegerArray>\n",
       "[1, <NA>]\n",
       "Length: 2, dtype: Int64"
      ]
     },
     "execution_count": 148,
     "metadata": {},
     "output_type": "execute_result"
    }
   ],
   "source": [
    "a = pd.array([1, None],\n",
    "             dtype=\"Int64\")\n",
    "a"
   ]
  },
  {
   "cell_type": "code",
   "execution_count": 149,
   "metadata": {},
   "outputs": [
    {
     "data": {
      "text/plain": [
       "<NA>"
      ]
     },
     "execution_count": 149,
     "metadata": {},
     "output_type": "execute_result"
    }
   ],
   "source": [
    "a[1]"
   ]
  },
  {
   "cell_type": "markdown",
   "metadata": {},
   "source": [
    "### [Обнуляемый логический тип данных (Nullable Boolean / Boolean data with missing values)](https://pandas.pydata.org/pandas-docs/stable/user_guide/boolean.html)"
   ]
  },
  {
   "cell_type": "markdown",
   "metadata": {},
   "source": [
    "#### Вид данных\n",
    "\n",
    "`pandas` позволяет индексировать значения `NA` в логическом массиве, которые обрабатываются как `False`.\n",
    "\n",
    "Логический тип `dtype` (с псевдонимом `boolean`) обеспечивает поддержку для хранения логических данных (значения `True`, `False`) с пропущенными значениями, что невозможно с логическим значением `numpy.ndarray`."
   ]
  },
  {
   "cell_type": "markdown",
   "metadata": {},
   "source": [
    "#### Обзор обнуляемого логического типа данных"
   ]
  },
  {
   "cell_type": "code",
   "execution_count": 150,
   "metadata": {},
   "outputs": [
    {
     "data": {
      "text/plain": [
       "<BooleanArray>\n",
       "[True, False, <NA>]\n",
       "Length: 3, dtype: boolean"
      ]
     },
     "execution_count": 150,
     "metadata": {},
     "output_type": "execute_result"
    }
   ],
   "source": [
    "pd.array([True, False, None], \n",
    "        dtype=\"boolean\")"
   ]
  },
  {
   "cell_type": "code",
   "execution_count": 151,
   "metadata": {},
   "outputs": [
    {
     "data": {
      "text/plain": [
       "<BooleanArray>\n",
       "[True, False, <NA>]\n",
       "Length: 3, dtype: boolean"
      ]
     },
     "execution_count": 151,
     "metadata": {},
     "output_type": "execute_result"
    }
   ],
   "source": [
    "mask = pd.array([True, False, pd.NA], \n",
    "                dtype=\"boolean\")\n",
    "mask"
   ]
  },
  {
   "cell_type": "code",
   "execution_count": 152,
   "metadata": {},
   "outputs": [
    {
     "data": {
      "text/plain": [
       "0    1\n",
       "dtype: int64"
      ]
     },
     "execution_count": 152,
     "metadata": {},
     "output_type": "execute_result"
    }
   ],
   "source": [
    "s = pd.Series([1, 2, 3])\n",
    "s[mask]"
   ]
  },
  {
   "cell_type": "markdown",
   "metadata": {},
   "source": [
    "Можно сохранить значения `NA` и вручную заполнить их с помощью `fillna(True)`."
   ]
  },
  {
   "cell_type": "code",
   "execution_count": 153,
   "metadata": {},
   "outputs": [
    {
     "data": {
      "text/plain": [
       "0    1\n",
       "2    3\n",
       "dtype: int64"
      ]
     },
     "execution_count": 153,
     "metadata": {},
     "output_type": "execute_result"
    }
   ],
   "source": [
    "s[mask.fillna(True)]"
   ]
  },
  {
   "cell_type": "markdown",
   "metadata": {},
   "source": [
    "#### Троичная / Трёхзначная логика (Логика Клини)\n",
    "\n",
    "`arrays.BooleanArray` реализует **Kleene Logic (Логика Клини) (иногда называемую трехзначной логикой)** для логических операций: `&` (`and`), `|` (`or`) и `^` (`xor`).\n",
    "\n",
    "**Таблица истинности** — таблица, описывающая логическую функцию.\n",
    "\n",
    "Под **\"логической функцией\"** в данном случае понимается функция, у которой значения переменных (параметров функции) и значение самой функции выражают логическую истинность.\n",
    "\n",
    "Например, в двузначной логике они могут принимать значения \"истина\" либо \"ложь\" (`true` либо `false`, `1` либо `0`).\n",
    "\n",
    "Перечень значений **нечёткой трёхзначной логики** с двумя чёткими и с одним нечётким значением помимо \"истинно\" и \"ложно\" включает также третье значение, которое нечётко и трактуется как \"не определено\" или \"неизвестно\".\n",
    "\n",
    "Таблицы истинности для логических операций **\"Сильной логики неопределённости\" (strong logic of indeterminacy)** Стивена Клини.\n",
    "\n",
    "Логика имеет три логических значения — \"ложь\", \"неопределённость\" и \"истина\", которые в логике Клини обозначаются буквами F (false), U (unknown), T (true), а в логике Приста числами -1, 0 и 1.\n",
    "\n",
    "В этой таблице показаны результаты для каждой комбинации. Эти операции симметричны, поэтому переворачивание левой и правой стороны не влияет на результат."
   ]
  },
  {
   "cell_type": "code",
   "execution_count": 154,
   "metadata": {},
   "outputs": [
    {
     "data": {
      "text/html": [
       "<div>\n",
       "<style scoped>\n",
       "    .dataframe tbody tr th:only-of-type {\n",
       "        vertical-align: middle;\n",
       "    }\n",
       "\n",
       "    .dataframe tbody tr th {\n",
       "        vertical-align: top;\n",
       "    }\n",
       "\n",
       "    .dataframe thead th {\n",
       "        text-align: right;\n",
       "    }\n",
       "</style>\n",
       "<table border=\"1\" class=\"dataframe\">\n",
       "  <thead>\n",
       "    <tr style=\"text-align: right;\">\n",
       "      <th></th>\n",
       "      <th>Expression</th>\n",
       "      <th>Result</th>\n",
       "    </tr>\n",
       "  </thead>\n",
       "  <tbody>\n",
       "    <tr>\n",
       "      <th>0</th>\n",
       "      <td>True &amp; True</td>\n",
       "      <td>True</td>\n",
       "    </tr>\n",
       "    <tr>\n",
       "      <th>1</th>\n",
       "      <td>True &amp; False</td>\n",
       "      <td>False</td>\n",
       "    </tr>\n",
       "    <tr>\n",
       "      <th>2</th>\n",
       "      <td>True &amp; NA</td>\n",
       "      <td>NaN</td>\n",
       "    </tr>\n",
       "    <tr>\n",
       "      <th>3</th>\n",
       "      <td>False &amp; False</td>\n",
       "      <td>False</td>\n",
       "    </tr>\n",
       "    <tr>\n",
       "      <th>4</th>\n",
       "      <td>False &amp; NA</td>\n",
       "      <td>False</td>\n",
       "    </tr>\n",
       "    <tr>\n",
       "      <th>5</th>\n",
       "      <td>NA &amp; NA</td>\n",
       "      <td>NaN</td>\n",
       "    </tr>\n",
       "    <tr>\n",
       "      <th>6</th>\n",
       "      <td>True | True</td>\n",
       "      <td>True</td>\n",
       "    </tr>\n",
       "    <tr>\n",
       "      <th>7</th>\n",
       "      <td>True | False</td>\n",
       "      <td>True</td>\n",
       "    </tr>\n",
       "    <tr>\n",
       "      <th>8</th>\n",
       "      <td>True | NA</td>\n",
       "      <td>True</td>\n",
       "    </tr>\n",
       "    <tr>\n",
       "      <th>9</th>\n",
       "      <td>False | False</td>\n",
       "      <td>False</td>\n",
       "    </tr>\n",
       "    <tr>\n",
       "      <th>10</th>\n",
       "      <td>False | NA</td>\n",
       "      <td>NaN</td>\n",
       "    </tr>\n",
       "    <tr>\n",
       "      <th>11</th>\n",
       "      <td>NA | NA</td>\n",
       "      <td>NaN</td>\n",
       "    </tr>\n",
       "    <tr>\n",
       "      <th>12</th>\n",
       "      <td>True ^ True</td>\n",
       "      <td>False</td>\n",
       "    </tr>\n",
       "    <tr>\n",
       "      <th>13</th>\n",
       "      <td>True ^ False</td>\n",
       "      <td>True</td>\n",
       "    </tr>\n",
       "    <tr>\n",
       "      <th>14</th>\n",
       "      <td>True ^ NA</td>\n",
       "      <td>NaN</td>\n",
       "    </tr>\n",
       "    <tr>\n",
       "      <th>15</th>\n",
       "      <td>False ^ False</td>\n",
       "      <td>False</td>\n",
       "    </tr>\n",
       "    <tr>\n",
       "      <th>16</th>\n",
       "      <td>False ^ NA</td>\n",
       "      <td>NaN</td>\n",
       "    </tr>\n",
       "    <tr>\n",
       "      <th>17</th>\n",
       "      <td>NA ^ NA</td>\n",
       "      <td>NaN</td>\n",
       "    </tr>\n",
       "  </tbody>\n",
       "</table>\n",
       "</div>"
      ],
      "text/plain": [
       "       Expression Result\n",
       "0     True & True   True\n",
       "1    True & False  False\n",
       "2       True & NA    NaN\n",
       "3   False & False  False\n",
       "4      False & NA  False\n",
       "5         NA & NA    NaN\n",
       "6     True | True   True\n",
       "7    True | False   True\n",
       "8       True | NA   True\n",
       "9   False | False  False\n",
       "10     False | NA    NaN\n",
       "11        NA | NA    NaN\n",
       "12    True ^ True  False\n",
       "13   True ^ False   True\n",
       "14      True ^ NA    NaN\n",
       "15  False ^ False  False\n",
       "16     False ^ NA    NaN\n",
       "17        NA ^ NA    NaN"
      ]
     },
     "execution_count": 154,
     "metadata": {},
     "output_type": "execute_result"
    }
   ],
   "source": [
    "nullable_bool_html = \"https://pandas.pydata.org/pandas-docs/stable/user_guide/boolean.html\"\n",
    "\n",
    "kleene_logical_operations = pd.read_html(nullable_bool_html)\n",
    "kleene_logical_operations[0]"
   ]
  },
  {
   "cell_type": "markdown",
   "metadata": {},
   "source": [
    "Когда в операции присутствует `NA`, выходным значением является `NA`, только если результат не может быть определен исключительно на основе другого ввода.\n",
    "\n",
    "Например, `True | NA` - `True`, потому что оба `True | True` и `True | False` верна. В этом случае фактически не нужно учитывать ценность `NA`.\n",
    "\n",
    "С другой стороны, `True & NA` - это `NA`. Результат зависит от того, действительно ли `NA` имеет значение `True` или `False`, поскольку `True & True `- `True`, но `True & False` - `False`, поэтому нельзя определить результат.\n",
    "\n",
    "**Это отличается от того, как `np.nan` ведет себя в логических операциях. `pandas` обработано `np.nan` в результате всегда как `False`.**"
   ]
  },
  {
   "cell_type": "code",
   "execution_count": 155,
   "metadata": {},
   "outputs": [
    {
     "data": {
      "text/plain": [
       "0     True\n",
       "1     True\n",
       "2    False\n",
       "dtype: bool"
      ]
     },
     "execution_count": 155,
     "metadata": {},
     "output_type": "execute_result"
    }
   ],
   "source": [
    "pd.Series([True, False, np.nan], dtype=\"object\") | True"
   ]
  },
  {
   "cell_type": "code",
   "execution_count": 156,
   "metadata": {},
   "outputs": [
    {
     "data": {
      "text/plain": [
       "0    True\n",
       "1    True\n",
       "2    True\n",
       "dtype: boolean"
      ]
     },
     "execution_count": 156,
     "metadata": {},
     "output_type": "execute_result"
    }
   ],
   "source": [
    "pd.Series([True, False, np.nan], dtype=\"boolean\") | True"
   ]
  },
  {
   "cell_type": "code",
   "execution_count": 157,
   "metadata": {},
   "outputs": [
    {
     "data": {
      "text/plain": [
       "0     True\n",
       "1    False\n",
       "2    False\n",
       "dtype: bool"
      ]
     },
     "execution_count": 157,
     "metadata": {},
     "output_type": "execute_result"
    }
   ],
   "source": [
    "pd.Series([True, False, np.nan], dtype=\"object\") & True"
   ]
  },
  {
   "cell_type": "code",
   "execution_count": 158,
   "metadata": {},
   "outputs": [
    {
     "data": {
      "text/plain": [
       "0     True\n",
       "1    False\n",
       "2     <NA>\n",
       "dtype: boolean"
      ]
     },
     "execution_count": 158,
     "metadata": {},
     "output_type": "execute_result"
    }
   ],
   "source": [
    "pd.Series([True, False, np.nan], dtype=\"boolean\") & True"
   ]
  },
  {
   "cell_type": "markdown",
   "metadata": {},
   "source": [
    "### [Текстовые типы данных (Text data types)](https://pandas.pydata.org/pandas-docs/stable/user_guide/text.html)\n",
    "\n",
    "С версии 1.0.0.\n",
    "\n",
    "#### Вид данных\n",
    "\n",
    "Есть два способа хранить текстовые данные в `pandas`: \n",
    "- `object` - тип данных`NumPy`.\n",
    "- `StringDtype` - тип данных `pandas`.\n",
    "\n",
    "\n",
    "`pandas` рекомендует использовать `StringDtype` для хранения текстовых данных.\n",
    "\n",
    "\n",
    "Почему `object` хуже `StringDtype`?\n",
    "- Можно случайно сохранить смесь строк и не строк в массиве типа `object`. Лучше иметь специальный тип данных.\n",
    "- Тип `object` нарушает специфичные для типа данных операции, такие как `DataFrame.select_dtypes()`. Нет четкого способа выделить только текст, исключая нетекстовые столбцы, но типа `object`.\n",
    "- При чтении кода содержимое массива типа `object` менее ясно, чем `string`.\n",
    "- В настоящее время производительность типа массив`object` и `arrays.StringArray` примерно одинакова. Ведутся разработкидля повышения производительности и снижению накладных расходов на память."
   ]
  },
  {
   "cell_type": "markdown",
   "metadata": {},
   "source": [
    "#### Обзор строкового типа данных"
   ]
  },
  {
   "cell_type": "code",
   "execution_count": 159,
   "metadata": {},
   "outputs": [
    {
     "data": {
      "text/plain": [
       "0    a\n",
       "1    b\n",
       "2    c\n",
       "dtype: object"
      ]
     },
     "execution_count": 159,
     "metadata": {},
     "output_type": "execute_result"
    }
   ],
   "source": [
    "# для обратной совместимости object остается типом по умолчанию\n",
    "pd.Series([\"a\", \"b\", \"c\"])"
   ]
  },
  {
   "cell_type": "code",
   "execution_count": 160,
   "metadata": {},
   "outputs": [
    {
     "data": {
      "text/plain": [
       "0    a\n",
       "1    b\n",
       "2    c\n",
       "dtype: string"
      ]
     },
     "execution_count": 160,
     "metadata": {},
     "output_type": "execute_result"
    }
   ],
   "source": [
    "# необходимо явно указать тип string\n",
    "pd.Series([\"a\", \"b\", \"c\"], \n",
    "          dtype=\"string\")"
   ]
  },
  {
   "cell_type": "markdown",
   "metadata": {},
   "source": [
    "ИЛИ"
   ]
  },
  {
   "cell_type": "code",
   "execution_count": 161,
   "metadata": {},
   "outputs": [
    {
     "data": {
      "text/plain": [
       "0    a\n",
       "1    b\n",
       "2    c\n",
       "dtype: string"
      ]
     },
     "execution_count": 161,
     "metadata": {},
     "output_type": "execute_result"
    }
   ],
   "source": [
    "# необходимо явно указать тип pd.StringDtype\n",
    "pd.Series([\"a\", \"b\", \"c\"], \n",
    "          dtype=pd.StringDtype())"
   ]
  },
  {
   "cell_type": "code",
   "execution_count": 162,
   "metadata": {},
   "outputs": [
    {
     "data": {
      "text/plain": [
       "0    a\n",
       "1    b\n",
       "2    c\n",
       "dtype: object"
      ]
     },
     "execution_count": 162,
     "metadata": {},
     "output_type": "execute_result"
    }
   ],
   "source": [
    "s = pd.Series([\"a\", \"b\", \"c\"])\n",
    "s"
   ]
  },
  {
   "cell_type": "code",
   "execution_count": 163,
   "metadata": {},
   "outputs": [
    {
     "data": {
      "text/plain": [
       "0    a\n",
       "1    b\n",
       "2    c\n",
       "dtype: string"
      ]
     },
     "execution_count": 163,
     "metadata": {},
     "output_type": "execute_result"
    }
   ],
   "source": [
    "# можно использовать astype после создания Series или DataFrame\n",
    "s.astype(\"string\")"
   ]
  },
  {
   "cell_type": "markdown",
   "metadata": {},
   "source": [
    "Можно использовать `StringDtype`/`\"string\"` в качестве dtype для нестроковых данных при создании, и данные будут преобразованы в строку:"
   ]
  },
  {
   "cell_type": "code",
   "execution_count": 164,
   "metadata": {},
   "outputs": [
    {
     "data": {
      "text/plain": [
       "0       a\n",
       "1       2\n",
       "2    <NA>\n",
       "dtype: string"
      ]
     },
     "execution_count": 164,
     "metadata": {},
     "output_type": "execute_result"
    }
   ],
   "source": [
    "# преобразовать разлимные типы данных в серии в строку\n",
    "s = pd.Series([\"a\", 2, np.nan], \n",
    "              dtype=\"string\")\n",
    "s"
   ]
  },
  {
   "cell_type": "markdown",
   "metadata": {},
   "source": [
    "Можно использовать `StringDtype`/`\"string\"` в качестве dtype для преобразования существующих нестроковых данных с помощью `astype`:"
   ]
  },
  {
   "cell_type": "code",
   "execution_count": 165,
   "metadata": {},
   "outputs": [
    {
     "data": {
      "text/plain": [
       "0       1\n",
       "1       2\n",
       "2    <NA>\n",
       "dtype: Int64"
      ]
     },
     "execution_count": 165,
     "metadata": {},
     "output_type": "execute_result"
    }
   ],
   "source": [
    "s1 = pd.Series([1, 2, np.nan], dtype=\"Int64\")\n",
    "s1"
   ]
  },
  {
   "cell_type": "code",
   "execution_count": 166,
   "metadata": {},
   "outputs": [
    {
     "data": {
      "text/plain": [
       "0       1\n",
       "1       2\n",
       "2    <NA>\n",
       "dtype: string"
      ]
     },
     "execution_count": 166,
     "metadata": {},
     "output_type": "execute_result"
    }
   ],
   "source": [
    "s2 = s1.astype(\"string\")\n",
    "s2"
   ]
  },
  {
   "cell_type": "markdown",
   "metadata": {},
   "source": [
    "#### Отличия типа `StringDtype` от типа `object`"
   ]
  },
  {
   "cell_type": "markdown",
   "metadata": {},
   "source": [
    "- Для `StringDtype` методы, которые возвращают *числовой* вывод, всегда будут возвращать *обнуляемый целочисленный (nullable integer)* dtype, а не `int` или `float` dtype, в зависимости от наличия значений `NA`.\n",
    "\n",
    "- Методы, возвращающие *логический* вывод, будут возвращать логический тип с пропущенными значениями (*nullable boolean*)."
   ]
  },
  {
   "cell_type": "code",
   "execution_count": 167,
   "metadata": {},
   "outputs": [
    {
     "data": {
      "text/plain": [
       "0       a\n",
       "1    <NA>\n",
       "2       b\n",
       "dtype: string"
      ]
     },
     "execution_count": 167,
     "metadata": {},
     "output_type": "execute_result"
    }
   ],
   "source": [
    "# используется тип string\n",
    "s = pd.Series([\"a\", None, \"b\"], \n",
    "              dtype=\"string\")\n",
    "s"
   ]
  },
  {
   "cell_type": "code",
   "execution_count": 168,
   "metadata": {},
   "outputs": [
    {
     "data": {
      "text/plain": [
       "0       1\n",
       "1    <NA>\n",
       "2       0\n",
       "dtype: Int64"
      ]
     },
     "execution_count": 168,
     "metadata": {},
     "output_type": "execute_result"
    }
   ],
   "source": [
    "# Int64 - это nullable integer (в отличии от int64)\n",
    "s.str.count(\"a\")"
   ]
  },
  {
   "cell_type": "code",
   "execution_count": 169,
   "metadata": {},
   "outputs": [
    {
     "data": {
      "text/plain": [
       "0    1\n",
       "2    0\n",
       "dtype: Int64"
      ]
     },
     "execution_count": 169,
     "metadata": {},
     "output_type": "execute_result"
    }
   ],
   "source": [
    "s.dropna().str.count(\"a\")"
   ]
  },
  {
   "cell_type": "code",
   "execution_count": 170,
   "metadata": {},
   "outputs": [
    {
     "data": {
      "text/plain": [
       "0    False\n",
       "1     <NA>\n",
       "2    False\n",
       "dtype: boolean"
      ]
     },
     "execution_count": 170,
     "metadata": {},
     "output_type": "execute_result"
    }
   ],
   "source": [
    "s.str.isdigit()"
   ]
  },
  {
   "cell_type": "code",
   "execution_count": 171,
   "metadata": {},
   "outputs": [
    {
     "data": {
      "text/plain": [
       "0     True\n",
       "1     <NA>\n",
       "2    False\n",
       "dtype: boolean"
      ]
     },
     "execution_count": 171,
     "metadata": {},
     "output_type": "execute_result"
    }
   ],
   "source": [
    "s.str.match(\"a\")"
   ]
  },
  {
   "cell_type": "code",
   "execution_count": 172,
   "metadata": {},
   "outputs": [
    {
     "data": {
      "text/plain": [
       "0       a\n",
       "1    None\n",
       "2       b\n",
       "dtype: object"
      ]
     },
     "execution_count": 172,
     "metadata": {},
     "output_type": "execute_result"
    }
   ],
   "source": [
    "# используется тип object\n",
    "s2 = pd.Series([\"a\", None, \"b\"],\n",
    "               dtype=\"object\")\n",
    "s2"
   ]
  },
  {
   "cell_type": "markdown",
   "metadata": {},
   "source": [
    "Когда присутствуют значения `NA`, выходной `dtype` будет `float64`."
   ]
  },
  {
   "cell_type": "code",
   "execution_count": 173,
   "metadata": {},
   "outputs": [
    {
     "data": {
      "text/plain": [
       "0    1.0\n",
       "1    NaN\n",
       "2    0.0\n",
       "dtype: float64"
      ]
     },
     "execution_count": 173,
     "metadata": {},
     "output_type": "execute_result"
    }
   ],
   "source": [
    "# float64 - это обычный numpy.float64\n",
    "s2.str.count(\"a\")"
   ]
  },
  {
   "cell_type": "code",
   "execution_count": 174,
   "metadata": {},
   "outputs": [
    {
     "data": {
      "text/plain": [
       "0    1\n",
       "2    0\n",
       "dtype: int64"
      ]
     },
     "execution_count": 174,
     "metadata": {},
     "output_type": "execute_result"
    }
   ],
   "source": [
    "# int64 - это обычный numpy.int64\n",
    "s2.dropna().str.count(\"a\")"
   ]
  },
  {
   "cell_type": "code",
   "execution_count": 175,
   "metadata": {},
   "outputs": [
    {
     "data": {
      "text/plain": [
       "0    False\n",
       "1     None\n",
       "2    False\n",
       "dtype: object"
      ]
     },
     "execution_count": 175,
     "metadata": {},
     "output_type": "execute_result"
    }
   ],
   "source": [
    "s2.str.isdigit()"
   ]
  },
  {
   "cell_type": "code",
   "execution_count": 176,
   "metadata": {},
   "outputs": [
    {
     "data": {
      "text/plain": [
       "0     True\n",
       "1     None\n",
       "2    False\n",
       "dtype: object"
      ]
     },
     "execution_count": 176,
     "metadata": {},
     "output_type": "execute_result"
    }
   ],
   "source": [
    "s2.str.match(\"a\")"
   ]
  },
  {
   "cell_type": "markdown",
   "metadata": {},
   "source": [
    "- Некоторые строковые методы, такие как `Series.str.decode()`, недоступны в `StringArray`, потому что `StringArray` содержит только строки, а не байты."
   ]
  },
  {
   "cell_type": "markdown",
   "metadata": {},
   "source": [
    "- В операциях сравнения `arrays.StringArray` и `Series` типа `StringArray`, будут возвращать объект с `BooleanDtype`, а не объект типа `bool`. Отсутствующие значения в `StringArray` будут передаваться в операциях сравнения, а не всегда при сравнении неравных значений, таких как `numpy.nan`."
   ]
  }
 ],
 "metadata": {
  "kernelspec": {
   "display_name": "Python [conda env:LevelUp_DataScience] *",
   "language": "python",
   "name": "conda-env-LevelUp_DataScience-py"
  },
  "language_info": {
   "codemirror_mode": {
    "name": "ipython",
    "version": 3
   },
   "file_extension": ".py",
   "mimetype": "text/x-python",
   "name": "python",
   "nbconvert_exporter": "python",
   "pygments_lexer": "ipython3",
   "version": "3.8.5"
  },
  "toc-autonumbering": true,
  "toc-showcode": false,
  "toc-showmarkdowntxt": false,
  "toc-showtags": false
 },
 "nbformat": 4,
 "nbformat_minor": 4
}
