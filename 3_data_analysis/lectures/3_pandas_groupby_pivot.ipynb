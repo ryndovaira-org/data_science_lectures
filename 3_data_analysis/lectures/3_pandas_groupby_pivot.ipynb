{
 "cells": [
  {
   "cell_type": "markdown",
   "source": [
    "# Группировка и агрегирование. Сводные таблицы."
   ],
   "metadata": {
    "collapsed": false
   }
  },
  {
   "cell_type": "markdown",
   "source": [
    "---\n",
    "\n",
    "**Источники:**\n",
    "\n",
    "[Сводные таблицы в Python](http://datareview.info/article/svodnyie-tablitsyi-v-python/)\n",
    "\n",
    "---"
   ],
   "metadata": {
    "collapsed": false
   }
  },
  {
   "cell_type": "markdown",
   "source": [
    "## Подготовка окружения"
   ],
   "metadata": {
    "collapsed": false
   }
  },
  {
   "cell_type": "code",
   "execution_count": null,
   "outputs": [],
   "source": [
    "# ВНИМАНИЕ: необходимо удостовериться, что виртуальная среда выбрана правильно!\n",
    "\n",
    "# для Linux\n",
    "!which pip\n",
    "\n",
    "# для Windows\n",
    "# !pip -V"
   ],
   "metadata": {
    "collapsed": false,
    "pycharm": {
     "name": "#%%\n"
    }
   }
  },
  {
   "cell_type": "code",
   "execution_count": null,
   "outputs": [],
   "source": [
    "!conda install pandas -y"
   ],
   "metadata": {
    "collapsed": false,
    "pycharm": {
     "name": "#%%\n"
    }
   }
  },
  {
   "cell_type": "code",
   "execution_count": null,
   "outputs": [],
   "source": [
    "import pandas as pd\n",
    "\n",
    "pd.__version__"
   ],
   "metadata": {
    "collapsed": false,
    "pycharm": {
     "name": "#%%\n"
    }
   }
  },
  {
   "cell_type": "markdown",
   "source": [
    "### Группировка и агрегирование в `pandas`\n",
    "\n",
    "За группировку отвечает метод `pandas.groupby`.\n",
    "\n",
    "Для примера возьмем [данные (data set) Титаника](https://www.kaggle.com/c/titanic)."
   ],
   "metadata": {
    "collapsed": false
   }
  },
  {
   "cell_type": "code",
   "execution_count": null,
   "outputs": [],
   "source": [
    "titanic_df = pd.read_csv('./../../data/titanic.csv')\n",
    "\n",
    "# показать все колонки\n",
    "pd.options.display.max_columns = None\n",
    "\n",
    "titanic_df"
   ],
   "metadata": {
    "collapsed": false,
    "pycharm": {
     "name": "#%%\n"
    }
   }
  },
  {
   "cell_type": "code",
   "execution_count": null,
   "outputs": [],
   "source": [
    "# показать первые 5 строк\n",
    "titanic_df.head()"
   ],
   "metadata": {
    "collapsed": false,
    "pycharm": {
     "name": "#%%\n"
    }
   }
  },
  {
   "cell_type": "code",
   "execution_count": null,
   "outputs": [],
   "source": [
    "# подсчитать, сколько женщин и мужчин выжило, а сколько нет\n",
    "titanic_df.groupby(['Sex', 'Survived'])['PassengerId'].count()"
   ],
   "metadata": {
    "collapsed": false,
    "pycharm": {
     "name": "#%%\n"
    }
   }
  },
  {
   "cell_type": "code",
   "execution_count": null,
   "outputs": [],
   "source": [
    "# анализ выживания в разрезе класса кабины\n",
    "titanic_df.groupby(['Pclass', 'Survived'])['PassengerId'].count()"
   ],
   "metadata": {
    "collapsed": false,
    "pycharm": {
     "name": "#%%\n"
    }
   }
  },
  {
   "cell_type": "code",
   "execution_count": null,
   "outputs": [],
   "source": [
    "# процент выживших для каждого пола\n",
    "titanic_df.groupby('Sex')[['Survived']].mean()"
   ],
   "metadata": {
    "collapsed": false,
    "pycharm": {
     "name": "#%%\n"
    }
   }
  },
  {
   "cell_type": "markdown",
   "source": [
    "Грубо говоря, из каждых четырех женщин, находившихся на борту, выжили три, в то время как из каждых пяти мужчин выжил только один!"
   ],
   "metadata": {
    "collapsed": false
   }
  },
  {
   "cell_type": "code",
   "execution_count": null,
   "outputs": [],
   "source": [
    "# взаимосвязь между показателем выживаемости, полом и классом\n",
    "titanic_df.groupby(['Sex', 'Pclass'])['Survived'].aggregate('mean').unstack()"
   ],
   "metadata": {
    "collapsed": false,
    "pycharm": {
     "name": "#%%\n"
    }
   }
  },
  {
   "cell_type": "code",
   "execution_count": null,
   "outputs": [],
   "source": [
    "# если без unstack()\n",
    "titanic_df.groupby(['Sex', 'Pclass'])['Survived'].aggregate('mean')"
   ],
   "metadata": {
    "collapsed": false,
    "pycharm": {
     "name": "#%%\n"
    }
   }
  },
  {
   "cell_type": "markdown",
   "source": [
    "Хотя каждый шаг этой последовательности вполне понятен, тем не менее длинную строку кода достаточно трудно читать и использовать.\n",
    "\n",
    "Подобные операции широко распространены, в связи с чем библиотека `pandas` имеет в своем составе специальный метод `pivot_table,` лаконично реализующий данный тип многомерной агрегации."
   ],
   "metadata": {
    "collapsed": false
   }
  },
  {
   "cell_type": "markdown",
   "source": [
    "## Что такое сводная таблица?\n",
    "\n",
    "**Сводная таблица (англ. Pivot table)** — инструмент обработки данных, служащий для их обобщения.\n",
    "\n",
    "\n",
    "*Термин \"сводная таблица\" может быть знаком из `Microsoft Excel` или любым иным, предназначенным для обработки и анализа данных. \n",
    "\n",
    "\n",
    "В `pandas` сводные таблицы строятся через метод `DataFrame.pivot_table`."
   ],
   "metadata": {
    "collapsed": false
   }
  },
  {
   "cell_type": "code",
   "execution_count": null,
   "outputs": [],
   "source": [
    "# взаимосвязь между показателем выживаемости, полом и классом\n",
    "titanic_df.pivot_table(values='Survived', \n",
    "                       index='Sex', \n",
    "                       columns='Pclass')"
   ],
   "metadata": {
    "collapsed": false,
    "pycharm": {
     "name": "#%%\n"
    }
   }
  },
  {
   "cell_type": "code",
   "execution_count": null,
   "outputs": [],
   "source": [
    "# посчитать сколько всего женщин и мужчин было в конкретном классе корабля\n",
    "pvt = titanic_df.pivot_table(index=['Sex'], \n",
    "                             columns=['Pclass'], \n",
    "                             values='Name', \n",
    "                             aggfunc='count')\n",
    "\n",
    "pvt"
   ],
   "metadata": {
    "collapsed": false,
    "pycharm": {
     "name": "#%%\n"
    }
   }
  },
  {
   "cell_type": "code",
   "execution_count": null,
   "outputs": [],
   "source": [
    "# качестве индекса будет пол человека, \n",
    "# колонками станут значения из Pclass, \n",
    "# функцией агрегирования будет count по колонке Name.\n",
    "pvt.loc['female', [1, 2, 3]]"
   ],
   "metadata": {
    "collapsed": false,
    "pycharm": {
     "name": "#%%\n"
    }
   }
  },
  {
   "cell_type": "markdown",
   "source": [
    "### Многоуровневые сводные таблицы\n",
    "\n",
    "Точно так же, как при использовании `groupby`, группирование в сводной таблице может иметь несколько уровней и задаваться посредством различных параметров."
   ],
   "metadata": {
    "collapsed": false
   }
  },
  {
   "cell_type": "code",
   "execution_count": null,
   "outputs": [],
   "source": [
    "# разделить возраст на интервалы\n",
    "age = pd.cut(titanic_df['Age'], [0, 18, 80])\n",
    "\n",
    "age"
   ],
   "metadata": {
    "collapsed": false,
    "pycharm": {
     "name": "#%%\n"
    }
   }
  },
  {
   "cell_type": "code",
   "execution_count": null,
   "outputs": [],
   "source": [
    "# взаимосвязь между \n",
    "# показателем выживаемости, полом, классом и возрастом\n",
    "\n",
    "titanic_df.pivot_table(values='Survived', \n",
    "                       index=['Sex', age], \n",
    "                       columns='Pclass')"
   ],
   "metadata": {
    "collapsed": false,
    "pycharm": {
     "name": "#%%\n"
    }
   }
  },
  {
   "cell_type": "code",
   "execution_count": null,
   "outputs": [],
   "source": [
    "# добавить информацию о стоимости билета (квантили):\n",
    "fare = pd.qcut(titanic_df['Fare'], 2)\n",
    "\n",
    "fare"
   ],
   "metadata": {
    "collapsed": false,
    "pycharm": {
     "name": "#%%\n"
    }
   }
  },
  {
   "cell_type": "code",
   "execution_count": null,
   "outputs": [],
   "source": [
    "titanic_df.pivot_table(values='Survived', \n",
    "                       index=['Sex', age], \n",
    "                       columns=[fare, 'Pclass'])"
   ],
   "metadata": {
    "collapsed": false,
    "pycharm": {
     "name": "#%%\n"
    }
   }
  },
  {
   "cell_type": "markdown",
   "source": [
    "В результате получили четырехмерную агрегацию, демонстрирующую взаимосвязь между соответствующими величинами."
   ],
   "metadata": {
    "collapsed": false
   }
  },
  {
   "cell_type": "markdown",
   "source": [
    "### Дополнительные параметры сводной таблицы\n",
    "\n",
    "Полная [сигнатура метода `pivot_table`](https://pandas.pydata.org/pandas-docs/stable/reference/api/pandas.pivot_table.html) объекта `DataFrame` является следующей:\n",
    "\n",
    "```\n",
    "pandas.pivot_table(values=None, \n",
    "                   index=None, \n",
    "                   columns=None, \n",
    "                   aggfunc='mean', \n",
    "                   fill_value=None, \n",
    "                   margins=False, \n",
    "                   dropna=True, \n",
    "                   margins_name='All', \n",
    "                   observed=False)\n",
    "```\n",
    "\n",
    "\n",
    "Параметры `fill_value` и `dropna` задают способ обработки отсутствующих данных. \n",
    "\n",
    "Параметр `aggfunc` задает тип агрегации. По умолчанию его значение равно `mean`. Как и в случае `groupby`, тип агрегации можно задать либо с помощью предопределенной строки (например, `sum`, `mean`, `count`, `min`, `max` и др.), либо посредством функции, реализующей агрегацию (например, `np.sum()`, `min()`, `sum()` и др.).\n",
    "Кроме того, параметр `aggfunc` может быть задан в виде словаря, отображающего столбцы на любые из желаемых значений, перечисленных выше:"
   ],
   "metadata": {
    "collapsed": false
   }
  },
  {
   "cell_type": "code",
   "execution_count": null,
   "outputs": [],
   "source": [
    "titanic_df.pivot_table(index='Sex', \n",
    "                       columns='Pclass', \n",
    "                       aggfunc={'Survived': sum, \n",
    "                                'Fare': 'mean'})"
   ],
   "metadata": {
    "collapsed": false,
    "pycharm": {
     "name": "#%%\n"
    }
   }
  },
  {
   "cell_type": "code",
   "execution_count": null,
   "outputs": [],
   "source": [],
   "metadata": {
    "collapsed": false,
    "pycharm": {
     "name": "#%%\n"
    }
   }
  }
 ],
 "metadata": {
  "kernelspec": {
   "display_name": "Python [conda env:LevelUp_DataScience] *",
   "language": "python",
   "name": "conda-env-LevelUp_DataScience-py"
  },
  "language_info": {
   "codemirror_mode": {
    "name": "ipython",
    "version": 3
   },
   "file_extension": ".py",
   "mimetype": "text/x-python",
   "name": "python",
   "nbconvert_exporter": "python",
   "pygments_lexer": "ipython3",
   "version": "3.8.3"
  }
 },
 "nbformat": 4,
 "nbformat_minor": 4
}