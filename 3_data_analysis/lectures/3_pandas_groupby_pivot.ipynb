{
 "cells": [
  {
   "cell_type": "markdown",
   "metadata": {},
   "source": [
    "# Пакет `pandas`: группировка, агрегирование, сводные таблицы"
   ]
  },
  {
   "cell_type": "markdown",
   "metadata": {},
   "source": [
    "---\n",
    "\n",
    "**Источники:**\n",
    "\n",
    "[Сводные таблицы в Python](http://datareview.info/article/svodnyie-tablitsyi-v-python/)\n",
    "\n",
    "[Group by: split-apply-combine](https://pandas.pydata.org/pandas-docs/stable/user_guide/groupby.html)\n",
    "\n",
    "[Pandas groupby: 13 Functions To Aggregate](https://cmdlinetips.com/2019/10/pandas-groupby-13-functions-to-aggregate/)\n",
    "\n",
    "[Aggregation and Grouping](https://jakevdp.github.io/PythonDataScienceHandbook/03.08-aggregation-and-grouping.html)\n",
    "\n",
    "[pandas.DataFrame.groupby](https://pandas.pydata.org/pandas-docs/stable/reference/api/pandas.DataFrame.groupby.html)\n",
    "\n",
    "---"
   ]
  },
  {
   "cell_type": "markdown",
   "metadata": {},
   "source": [
    "## Подготовка окружения"
   ]
  },
  {
   "cell_type": "code",
   "execution_count": 1,
   "metadata": {
    "collapsed": false,
    "jupyter": {
     "outputs_hidden": false
    },
    "pycharm": {
     "name": "#%%\n"
    }
   },
   "outputs": [
    {
     "name": "stdout",
     "output_type": "stream",
     "text": [
      "pip 20.3 from /home/ira/anaconda3/envs/LevelUp_DataScience/lib/python3.8/site-packages/pip (python 3.8)\n"
     ]
    }
   ],
   "source": [
    "# ВНИМАНИЕ: необходимо удостовериться, что виртуальная среда выбрана правильно!\n",
    "\n",
    "!pip -V"
   ]
  },
  {
   "cell_type": "code",
   "execution_count": 2,
   "metadata": {
    "collapsed": false,
    "jupyter": {
     "outputs_hidden": false
    },
    "pycharm": {
     "name": "#%%\n"
    }
   },
   "outputs": [],
   "source": [
    "# !conda install pandas -y"
   ]
  },
  {
   "cell_type": "code",
   "execution_count": 3,
   "metadata": {
    "collapsed": false,
    "jupyter": {
     "outputs_hidden": false
    },
    "pycharm": {
     "name": "#%%\n"
    }
   },
   "outputs": [
    {
     "data": {
      "text/plain": [
       "'1.2.1'"
      ]
     },
     "execution_count": 3,
     "metadata": {},
     "output_type": "execute_result"
    }
   ],
   "source": [
    "import pandas as pd\n",
    "\n",
    "pd.__version__"
   ]
  },
  {
   "cell_type": "markdown",
   "metadata": {},
   "source": [
    "## Загрузка данных\n",
    "\n",
    "Для примера возьмем [данные (data set) Gapminder World](https://www.kaggle.com/tklimonova/gapminder-datacamp-2007)."
   ]
  },
  {
   "cell_type": "code",
   "execution_count": 4,
   "metadata": {
    "collapsed": false,
    "jupyter": {
     "outputs_hidden": false
    },
    "pycharm": {
     "name": "#%%\n"
    }
   },
   "outputs": [
    {
     "data": {
      "text/html": [
       "<div>\n",
       "<style scoped>\n",
       "    .dataframe tbody tr th:only-of-type {\n",
       "        vertical-align: middle;\n",
       "    }\n",
       "\n",
       "    .dataframe tbody tr th {\n",
       "        vertical-align: top;\n",
       "    }\n",
       "\n",
       "    .dataframe thead th {\n",
       "        text-align: right;\n",
       "    }\n",
       "</style>\n",
       "<table border=\"1\" class=\"dataframe\">\n",
       "  <thead>\n",
       "    <tr style=\"text-align: right;\">\n",
       "      <th></th>\n",
       "      <th>country</th>\n",
       "      <th>year</th>\n",
       "      <th>population</th>\n",
       "      <th>continent</th>\n",
       "      <th>life_exp</th>\n",
       "      <th>gdp_cap</th>\n",
       "    </tr>\n",
       "  </thead>\n",
       "  <tbody>\n",
       "    <tr>\n",
       "      <th>0</th>\n",
       "      <td>Afghanistan</td>\n",
       "      <td>1952</td>\n",
       "      <td>8425333</td>\n",
       "      <td>Asia</td>\n",
       "      <td>28.801</td>\n",
       "      <td>779.445314</td>\n",
       "    </tr>\n",
       "    <tr>\n",
       "      <th>1</th>\n",
       "      <td>Afghanistan</td>\n",
       "      <td>1957</td>\n",
       "      <td>9240934</td>\n",
       "      <td>Asia</td>\n",
       "      <td>30.332</td>\n",
       "      <td>820.853030</td>\n",
       "    </tr>\n",
       "    <tr>\n",
       "      <th>2</th>\n",
       "      <td>Afghanistan</td>\n",
       "      <td>1962</td>\n",
       "      <td>10267083</td>\n",
       "      <td>Asia</td>\n",
       "      <td>31.997</td>\n",
       "      <td>853.100710</td>\n",
       "    </tr>\n",
       "    <tr>\n",
       "      <th>3</th>\n",
       "      <td>Afghanistan</td>\n",
       "      <td>1967</td>\n",
       "      <td>11537966</td>\n",
       "      <td>Asia</td>\n",
       "      <td>34.020</td>\n",
       "      <td>836.197138</td>\n",
       "    </tr>\n",
       "    <tr>\n",
       "      <th>4</th>\n",
       "      <td>Afghanistan</td>\n",
       "      <td>1972</td>\n",
       "      <td>13079460</td>\n",
       "      <td>Asia</td>\n",
       "      <td>36.088</td>\n",
       "      <td>739.981106</td>\n",
       "    </tr>\n",
       "    <tr>\n",
       "      <th>...</th>\n",
       "      <td>...</td>\n",
       "      <td>...</td>\n",
       "      <td>...</td>\n",
       "      <td>...</td>\n",
       "      <td>...</td>\n",
       "      <td>...</td>\n",
       "    </tr>\n",
       "    <tr>\n",
       "      <th>1699</th>\n",
       "      <td>Zimbabwe</td>\n",
       "      <td>1987</td>\n",
       "      <td>9216418</td>\n",
       "      <td>Africa</td>\n",
       "      <td>62.351</td>\n",
       "      <td>706.157306</td>\n",
       "    </tr>\n",
       "    <tr>\n",
       "      <th>1700</th>\n",
       "      <td>Zimbabwe</td>\n",
       "      <td>1992</td>\n",
       "      <td>10704340</td>\n",
       "      <td>Africa</td>\n",
       "      <td>60.377</td>\n",
       "      <td>693.420786</td>\n",
       "    </tr>\n",
       "    <tr>\n",
       "      <th>1701</th>\n",
       "      <td>Zimbabwe</td>\n",
       "      <td>1997</td>\n",
       "      <td>11404948</td>\n",
       "      <td>Africa</td>\n",
       "      <td>46.809</td>\n",
       "      <td>792.449960</td>\n",
       "    </tr>\n",
       "    <tr>\n",
       "      <th>1702</th>\n",
       "      <td>Zimbabwe</td>\n",
       "      <td>2002</td>\n",
       "      <td>11926563</td>\n",
       "      <td>Africa</td>\n",
       "      <td>39.989</td>\n",
       "      <td>672.038623</td>\n",
       "    </tr>\n",
       "    <tr>\n",
       "      <th>1703</th>\n",
       "      <td>Zimbabwe</td>\n",
       "      <td>2007</td>\n",
       "      <td>12311143</td>\n",
       "      <td>Africa</td>\n",
       "      <td>43.487</td>\n",
       "      <td>469.709298</td>\n",
       "    </tr>\n",
       "  </tbody>\n",
       "</table>\n",
       "<p>1704 rows × 6 columns</p>\n",
       "</div>"
      ],
      "text/plain": [
       "          country  year  population continent  life_exp     gdp_cap\n",
       "0     Afghanistan  1952     8425333      Asia    28.801  779.445314\n",
       "1     Afghanistan  1957     9240934      Asia    30.332  820.853030\n",
       "2     Afghanistan  1962    10267083      Asia    31.997  853.100710\n",
       "3     Afghanistan  1967    11537966      Asia    34.020  836.197138\n",
       "4     Afghanistan  1972    13079460      Asia    36.088  739.981106\n",
       "...           ...   ...         ...       ...       ...         ...\n",
       "1699     Zimbabwe  1987     9216418    Africa    62.351  706.157306\n",
       "1700     Zimbabwe  1992    10704340    Africa    60.377  693.420786\n",
       "1701     Zimbabwe  1997    11404948    Africa    46.809  792.449960\n",
       "1702     Zimbabwe  2002    11926563    Africa    39.989  672.038623\n",
       "1703     Zimbabwe  2007    12311143    Africa    43.487  469.709298\n",
       "\n",
       "[1704 rows x 6 columns]"
      ]
     },
     "execution_count": 4,
     "metadata": {},
     "output_type": "execute_result"
    }
   ],
   "source": [
    "df = pd.read_csv('./../../data/gapminder_full.csv')\n",
    "\n",
    "# показать все колонки\n",
    "pd.options.display.max_columns = None\n",
    "\n",
    "# отобразить первые 5 и последние 5 строк\n",
    "df"
   ]
  },
  {
   "cell_type": "code",
   "execution_count": 5,
   "metadata": {
    "collapsed": false,
    "jupyter": {
     "outputs_hidden": false
    },
    "pycharm": {
     "name": "#%%\n"
    }
   },
   "outputs": [
    {
     "data": {
      "text/html": [
       "<div>\n",
       "<style scoped>\n",
       "    .dataframe tbody tr th:only-of-type {\n",
       "        vertical-align: middle;\n",
       "    }\n",
       "\n",
       "    .dataframe tbody tr th {\n",
       "        vertical-align: top;\n",
       "    }\n",
       "\n",
       "    .dataframe thead th {\n",
       "        text-align: right;\n",
       "    }\n",
       "</style>\n",
       "<table border=\"1\" class=\"dataframe\">\n",
       "  <thead>\n",
       "    <tr style=\"text-align: right;\">\n",
       "      <th></th>\n",
       "      <th>country</th>\n",
       "      <th>year</th>\n",
       "      <th>population</th>\n",
       "      <th>continent</th>\n",
       "      <th>life_exp</th>\n",
       "      <th>gdp_cap</th>\n",
       "    </tr>\n",
       "  </thead>\n",
       "  <tbody>\n",
       "    <tr>\n",
       "      <th>0</th>\n",
       "      <td>Afghanistan</td>\n",
       "      <td>1952</td>\n",
       "      <td>8425333</td>\n",
       "      <td>Asia</td>\n",
       "      <td>28.801</td>\n",
       "      <td>779.445314</td>\n",
       "    </tr>\n",
       "    <tr>\n",
       "      <th>1</th>\n",
       "      <td>Afghanistan</td>\n",
       "      <td>1957</td>\n",
       "      <td>9240934</td>\n",
       "      <td>Asia</td>\n",
       "      <td>30.332</td>\n",
       "      <td>820.853030</td>\n",
       "    </tr>\n",
       "    <tr>\n",
       "      <th>2</th>\n",
       "      <td>Afghanistan</td>\n",
       "      <td>1962</td>\n",
       "      <td>10267083</td>\n",
       "      <td>Asia</td>\n",
       "      <td>31.997</td>\n",
       "      <td>853.100710</td>\n",
       "    </tr>\n",
       "    <tr>\n",
       "      <th>3</th>\n",
       "      <td>Afghanistan</td>\n",
       "      <td>1967</td>\n",
       "      <td>11537966</td>\n",
       "      <td>Asia</td>\n",
       "      <td>34.020</td>\n",
       "      <td>836.197138</td>\n",
       "    </tr>\n",
       "    <tr>\n",
       "      <th>4</th>\n",
       "      <td>Afghanistan</td>\n",
       "      <td>1972</td>\n",
       "      <td>13079460</td>\n",
       "      <td>Asia</td>\n",
       "      <td>36.088</td>\n",
       "      <td>739.981106</td>\n",
       "    </tr>\n",
       "  </tbody>\n",
       "</table>\n",
       "</div>"
      ],
      "text/plain": [
       "       country  year  population continent  life_exp     gdp_cap\n",
       "0  Afghanistan  1952     8425333      Asia    28.801  779.445314\n",
       "1  Afghanistan  1957     9240934      Asia    30.332  820.853030\n",
       "2  Afghanistan  1962    10267083      Asia    31.997  853.100710\n",
       "3  Afghanistan  1967    11537966      Asia    34.020  836.197138\n",
       "4  Afghanistan  1972    13079460      Asia    36.088  739.981106"
      ]
     },
     "execution_count": 5,
     "metadata": {},
     "output_type": "execute_result"
    }
   ],
   "source": [
    "# показать первые 5 строк\n",
    "df.head()"
   ]
  },
  {
   "cell_type": "markdown",
   "metadata": {},
   "source": [
    "## Группировка"
   ]
  },
  {
   "cell_type": "markdown",
   "metadata": {},
   "source": [
    "За группировку отвечает метод `pandas.groupby`.\n",
    "\n",
    "Функция `Pandas` `groupby` позволяет легко выполнять парадигму анализа данных **разделить-применить-объединить (Split-Apply-Combine)**.\n",
    "\n",
    "По сути, с помощью  `groupby` можно разбить фрейм данных на более мелкие группы, используя одну или несколько переменных. \n"
   ]
  },
  {
   "cell_type": "markdown",
   "metadata": {},
   "source": [
    "## Функции для агрегирования\n",
    "\n",
    "`Pandas` имеет ряд **агрегирующих** функций, которые уменьшают размер сгруппированного объекта.\n",
    "\n",
    "- `mean()`: среднее значение для каждой группы\n",
    "- `sum()`: сумма значений для каждой группы\n",
    "- `size()`: размер (количество строк) каждой группы\n",
    "- `count()`: количество значений в каждой группе\n",
    "- `std()`: стандартное отклонение (**st**andar**d** deviation) для каждой группы\n",
    "- `var()`: дисперсия (**var**iance) для каждой группы\n",
    "- `sem()`: стандартная ошибка среднего (**S**tandard **E**rror of the **M**ean) для каждой группы\n",
    "- `describe()`: описательная статистика\n",
    "- `first()`: первое из значений группы\n",
    "- `last()`: последнее из значений группы\n",
    "- `nth()`: n-е значение или подмножество, если n - список\n",
    "- `min()`: минимальное значение для каждой группы\n",
    "- `max()`: максимальное значение для каждой группы"
   ]
  },
  {
   "cell_type": "markdown",
   "metadata": {},
   "source": [
    "### `mean()`: среднее значение для каждой группы"
   ]
  },
  {
   "cell_type": "code",
   "execution_count": 6,
   "metadata": {},
   "outputs": [
    {
     "data": {
      "text/html": [
       "<div>\n",
       "<style scoped>\n",
       "    .dataframe tbody tr th:only-of-type {\n",
       "        vertical-align: middle;\n",
       "    }\n",
       "\n",
       "    .dataframe tbody tr th {\n",
       "        vertical-align: top;\n",
       "    }\n",
       "\n",
       "    .dataframe thead th {\n",
       "        text-align: right;\n",
       "    }\n",
       "</style>\n",
       "<table border=\"1\" class=\"dataframe\">\n",
       "  <thead>\n",
       "    <tr style=\"text-align: right;\">\n",
       "      <th></th>\n",
       "      <th>year</th>\n",
       "      <th>population</th>\n",
       "      <th>life_exp</th>\n",
       "      <th>gdp_cap</th>\n",
       "    </tr>\n",
       "    <tr>\n",
       "      <th>continent</th>\n",
       "      <th></th>\n",
       "      <th></th>\n",
       "      <th></th>\n",
       "      <th></th>\n",
       "    </tr>\n",
       "  </thead>\n",
       "  <tbody>\n",
       "    <tr>\n",
       "      <th>Africa</th>\n",
       "      <td>1979.5</td>\n",
       "      <td>9.916003e+06</td>\n",
       "      <td>48.865330</td>\n",
       "      <td>2193.754578</td>\n",
       "    </tr>\n",
       "    <tr>\n",
       "      <th>Americas</th>\n",
       "      <td>1979.5</td>\n",
       "      <td>2.450479e+07</td>\n",
       "      <td>64.658737</td>\n",
       "      <td>7136.110356</td>\n",
       "    </tr>\n",
       "    <tr>\n",
       "      <th>Asia</th>\n",
       "      <td>1979.5</td>\n",
       "      <td>7.703872e+07</td>\n",
       "      <td>60.064903</td>\n",
       "      <td>7902.150428</td>\n",
       "    </tr>\n",
       "    <tr>\n",
       "      <th>Europe</th>\n",
       "      <td>1979.5</td>\n",
       "      <td>1.716976e+07</td>\n",
       "      <td>71.903686</td>\n",
       "      <td>14469.475533</td>\n",
       "    </tr>\n",
       "    <tr>\n",
       "      <th>Oceania</th>\n",
       "      <td>1979.5</td>\n",
       "      <td>8.874672e+06</td>\n",
       "      <td>74.326208</td>\n",
       "      <td>18621.609223</td>\n",
       "    </tr>\n",
       "  </tbody>\n",
       "</table>\n",
       "</div>"
      ],
      "text/plain": [
       "             year    population   life_exp       gdp_cap\n",
       "continent                                               \n",
       "Africa     1979.5  9.916003e+06  48.865330   2193.754578\n",
       "Americas   1979.5  2.450479e+07  64.658737   7136.110356\n",
       "Asia       1979.5  7.703872e+07  60.064903   7902.150428\n",
       "Europe     1979.5  1.716976e+07  71.903686  14469.475533\n",
       "Oceania    1979.5  8.874672e+06  74.326208  18621.609223"
      ]
     },
     "execution_count": 6,
     "metadata": {},
     "output_type": "execute_result"
    }
   ],
   "source": [
    "# среднее значение в каждой колонке по континетнам\n",
    "df.groupby([\"continent\"]).mean()"
   ]
  },
  {
   "cell_type": "code",
   "execution_count": 7,
   "metadata": {},
   "outputs": [
    {
     "data": {
      "text/html": [
       "<div>\n",
       "<style scoped>\n",
       "    .dataframe tbody tr th:only-of-type {\n",
       "        vertical-align: middle;\n",
       "    }\n",
       "\n",
       "    .dataframe tbody tr th {\n",
       "        vertical-align: top;\n",
       "    }\n",
       "\n",
       "    .dataframe thead th {\n",
       "        text-align: right;\n",
       "    }\n",
       "</style>\n",
       "<table border=\"1\" class=\"dataframe\">\n",
       "  <thead>\n",
       "    <tr style=\"text-align: right;\">\n",
       "      <th></th>\n",
       "      <th>year</th>\n",
       "      <th>population</th>\n",
       "      <th>life_exp</th>\n",
       "      <th>gdp_cap</th>\n",
       "    </tr>\n",
       "    <tr>\n",
       "      <th>continent</th>\n",
       "      <th></th>\n",
       "      <th></th>\n",
       "      <th></th>\n",
       "      <th></th>\n",
       "    </tr>\n",
       "  </thead>\n",
       "  <tbody>\n",
       "    <tr>\n",
       "      <th>Africa</th>\n",
       "      <td>1979.5</td>\n",
       "      <td>9.916003e+06</td>\n",
       "      <td>48.865330</td>\n",
       "      <td>2193.754578</td>\n",
       "    </tr>\n",
       "    <tr>\n",
       "      <th>Americas</th>\n",
       "      <td>1979.5</td>\n",
       "      <td>2.450479e+07</td>\n",
       "      <td>64.658737</td>\n",
       "      <td>7136.110356</td>\n",
       "    </tr>\n",
       "    <tr>\n",
       "      <th>Asia</th>\n",
       "      <td>1979.5</td>\n",
       "      <td>7.703872e+07</td>\n",
       "      <td>60.064903</td>\n",
       "      <td>7902.150428</td>\n",
       "    </tr>\n",
       "    <tr>\n",
       "      <th>Europe</th>\n",
       "      <td>1979.5</td>\n",
       "      <td>1.716976e+07</td>\n",
       "      <td>71.903686</td>\n",
       "      <td>14469.475533</td>\n",
       "    </tr>\n",
       "    <tr>\n",
       "      <th>Oceania</th>\n",
       "      <td>1979.5</td>\n",
       "      <td>8.874672e+06</td>\n",
       "      <td>74.326208</td>\n",
       "      <td>18621.609223</td>\n",
       "    </tr>\n",
       "  </tbody>\n",
       "</table>\n",
       "</div>"
      ],
      "text/plain": [
       "             year    population   life_exp       gdp_cap\n",
       "continent                                               \n",
       "Africa     1979.5  9.916003e+06  48.865330   2193.754578\n",
       "Americas   1979.5  2.450479e+07  64.658737   7136.110356\n",
       "Asia       1979.5  7.703872e+07  60.064903   7902.150428\n",
       "Europe     1979.5  1.716976e+07  71.903686  14469.475533\n",
       "Oceania    1979.5  8.874672e+06  74.326208  18621.609223"
      ]
     },
     "execution_count": 7,
     "metadata": {},
     "output_type": "execute_result"
    }
   ],
   "source": [
    "# можно НЕ использовать [], если только одна колонка\n",
    "\n",
    "# среднее значение в каждой колонке по континетнам\n",
    "df.groupby(\"continent\").mean()"
   ]
  },
  {
   "cell_type": "code",
   "execution_count": 8,
   "metadata": {},
   "outputs": [
    {
     "data": {
      "text/plain": [
       "continent\n",
       "Africa      9.916003e+06\n",
       "Americas    2.450479e+07\n",
       "Asia        7.703872e+07\n",
       "Europe      1.716976e+07\n",
       "Oceania     8.874672e+06\n",
       "Name: population, dtype: float64"
      ]
     },
     "execution_count": 8,
     "metadata": {},
     "output_type": "execute_result"
    }
   ],
   "source": [
    "# среднее значение численности населения по континетнам\n",
    "df.groupby(\"continent\")[\"population\"].mean()"
   ]
  },
  {
   "cell_type": "markdown",
   "metadata": {},
   "source": [
    "### `sum()`: сумма значений для каждой группы"
   ]
  },
  {
   "cell_type": "code",
   "execution_count": 9,
   "metadata": {},
   "outputs": [
    {
     "data": {
      "text/html": [
       "<div>\n",
       "<style scoped>\n",
       "    .dataframe tbody tr th:only-of-type {\n",
       "        vertical-align: middle;\n",
       "    }\n",
       "\n",
       "    .dataframe tbody tr th {\n",
       "        vertical-align: top;\n",
       "    }\n",
       "\n",
       "    .dataframe thead th {\n",
       "        text-align: right;\n",
       "    }\n",
       "</style>\n",
       "<table border=\"1\" class=\"dataframe\">\n",
       "  <thead>\n",
       "    <tr style=\"text-align: right;\">\n",
       "      <th></th>\n",
       "      <th>year</th>\n",
       "      <th>population</th>\n",
       "      <th>life_exp</th>\n",
       "      <th>gdp_cap</th>\n",
       "    </tr>\n",
       "    <tr>\n",
       "      <th>continent</th>\n",
       "      <th></th>\n",
       "      <th></th>\n",
       "      <th></th>\n",
       "      <th></th>\n",
       "    </tr>\n",
       "  </thead>\n",
       "  <tbody>\n",
       "    <tr>\n",
       "      <th>Africa</th>\n",
       "      <td>1235208</td>\n",
       "      <td>6187585961</td>\n",
       "      <td>30491.96600</td>\n",
       "      <td>1.368903e+06</td>\n",
       "    </tr>\n",
       "    <tr>\n",
       "      <th>Americas</th>\n",
       "      <td>593850</td>\n",
       "      <td>7351438499</td>\n",
       "      <td>19397.62100</td>\n",
       "      <td>2.140833e+06</td>\n",
       "    </tr>\n",
       "    <tr>\n",
       "      <th>Asia</th>\n",
       "      <td>783882</td>\n",
       "      <td>30507333901</td>\n",
       "      <td>23785.70168</td>\n",
       "      <td>3.129252e+06</td>\n",
       "    </tr>\n",
       "    <tr>\n",
       "      <th>Europe</th>\n",
       "      <td>712620</td>\n",
       "      <td>6181115304</td>\n",
       "      <td>25885.32700</td>\n",
       "      <td>5.209011e+06</td>\n",
       "    </tr>\n",
       "    <tr>\n",
       "      <th>Oceania</th>\n",
       "      <td>47508</td>\n",
       "      <td>212992136</td>\n",
       "      <td>1783.82900</td>\n",
       "      <td>4.469186e+05</td>\n",
       "    </tr>\n",
       "  </tbody>\n",
       "</table>\n",
       "</div>"
      ],
      "text/plain": [
       "              year   population     life_exp       gdp_cap\n",
       "continent                                                 \n",
       "Africa     1235208   6187585961  30491.96600  1.368903e+06\n",
       "Americas    593850   7351438499  19397.62100  2.140833e+06\n",
       "Asia        783882  30507333901  23785.70168  3.129252e+06\n",
       "Europe      712620   6181115304  25885.32700  5.209011e+06\n",
       "Oceania      47508    212992136   1783.82900  4.469186e+05"
      ]
     },
     "execution_count": 9,
     "metadata": {},
     "output_type": "execute_result"
    }
   ],
   "source": [
    "# суммарное значение для каждой колонки по каждому континенту\n",
    "df.groupby(\"continent\").sum()"
   ]
  },
  {
   "cell_type": "code",
   "execution_count": 10,
   "metadata": {},
   "outputs": [
    {
     "data": {
      "text/plain": [
       "continent\n",
       "Africa       6187585961\n",
       "Americas     7351438499\n",
       "Asia        30507333901\n",
       "Europe       6181115304\n",
       "Oceania       212992136\n",
       "Name: population, dtype: int64"
      ]
     },
     "execution_count": 10,
     "metadata": {},
     "output_type": "execute_result"
    }
   ],
   "source": [
    "# суммарное значение численности населения по каждому континенту\n",
    "df.groupby(\"continent\").population.sum()"
   ]
  },
  {
   "cell_type": "markdown",
   "metadata": {},
   "source": [
    "### `size()`: размер (количество строк) каждой группы"
   ]
  },
  {
   "cell_type": "code",
   "execution_count": 11,
   "metadata": {},
   "outputs": [
    {
     "data": {
      "text/plain": [
       "continent\n",
       "Africa      624\n",
       "Americas    300\n",
       "Asia        396\n",
       "Europe      360\n",
       "Oceania      24\n",
       "dtype: int64"
      ]
     },
     "execution_count": 11,
     "metadata": {},
     "output_type": "execute_result"
    }
   ],
   "source": [
    "# количество строк для каждого континента\n",
    "# пропущенные значения (nan, null...) считаются\n",
    "df.groupby(\"continent\").size()"
   ]
  },
  {
   "cell_type": "markdown",
   "metadata": {},
   "source": [
    "### `count()`: количество значений в каждой группе\n",
    "\n",
    "По сути, это та же функция агрегирования, что и `size`, НО *игнорируются любые отсутствующие значения*.\n",
    "\n",
    "Если фрейм данных не имеет пропущенных значений, поэтому результаты обеих функций одинаковы."
   ]
  },
  {
   "cell_type": "code",
   "execution_count": 12,
   "metadata": {},
   "outputs": [
    {
     "data": {
      "text/html": [
       "<div>\n",
       "<style scoped>\n",
       "    .dataframe tbody tr th:only-of-type {\n",
       "        vertical-align: middle;\n",
       "    }\n",
       "\n",
       "    .dataframe tbody tr th {\n",
       "        vertical-align: top;\n",
       "    }\n",
       "\n",
       "    .dataframe thead th {\n",
       "        text-align: right;\n",
       "    }\n",
       "</style>\n",
       "<table border=\"1\" class=\"dataframe\">\n",
       "  <thead>\n",
       "    <tr style=\"text-align: right;\">\n",
       "      <th></th>\n",
       "      <th>country</th>\n",
       "      <th>year</th>\n",
       "      <th>population</th>\n",
       "      <th>life_exp</th>\n",
       "      <th>gdp_cap</th>\n",
       "    </tr>\n",
       "    <tr>\n",
       "      <th>continent</th>\n",
       "      <th></th>\n",
       "      <th></th>\n",
       "      <th></th>\n",
       "      <th></th>\n",
       "      <th></th>\n",
       "    </tr>\n",
       "  </thead>\n",
       "  <tbody>\n",
       "    <tr>\n",
       "      <th>Africa</th>\n",
       "      <td>624</td>\n",
       "      <td>624</td>\n",
       "      <td>624</td>\n",
       "      <td>624</td>\n",
       "      <td>624</td>\n",
       "    </tr>\n",
       "    <tr>\n",
       "      <th>Americas</th>\n",
       "      <td>300</td>\n",
       "      <td>300</td>\n",
       "      <td>300</td>\n",
       "      <td>300</td>\n",
       "      <td>300</td>\n",
       "    </tr>\n",
       "    <tr>\n",
       "      <th>Asia</th>\n",
       "      <td>396</td>\n",
       "      <td>396</td>\n",
       "      <td>396</td>\n",
       "      <td>396</td>\n",
       "      <td>396</td>\n",
       "    </tr>\n",
       "    <tr>\n",
       "      <th>Europe</th>\n",
       "      <td>360</td>\n",
       "      <td>360</td>\n",
       "      <td>360</td>\n",
       "      <td>360</td>\n",
       "      <td>360</td>\n",
       "    </tr>\n",
       "    <tr>\n",
       "      <th>Oceania</th>\n",
       "      <td>24</td>\n",
       "      <td>24</td>\n",
       "      <td>24</td>\n",
       "      <td>24</td>\n",
       "      <td>24</td>\n",
       "    </tr>\n",
       "  </tbody>\n",
       "</table>\n",
       "</div>"
      ],
      "text/plain": [
       "           country  year  population  life_exp  gdp_cap\n",
       "continent                                              \n",
       "Africa         624   624         624       624      624\n",
       "Americas       300   300         300       300      300\n",
       "Asia           396   396         396       396      396\n",
       "Europe         360   360         360       360      360\n",
       "Oceania         24    24          24        24       24"
      ]
     },
     "execution_count": 12,
     "metadata": {},
     "output_type": "execute_result"
    }
   ],
   "source": [
    "# количество значений для каждой колонки для каждого континента\n",
    "# пропущенные значения (nan, null...) НЕ считаются\n",
    "df.groupby(\"continent\").count()"
   ]
  },
  {
   "cell_type": "code",
   "execution_count": 13,
   "metadata": {},
   "outputs": [
    {
     "data": {
      "text/plain": [
       "continent\n",
       "Africa      624\n",
       "Americas    300\n",
       "Asia        396\n",
       "Europe      360\n",
       "Oceania      24\n",
       "Name: population, dtype: int64"
      ]
     },
     "execution_count": 13,
     "metadata": {},
     "output_type": "execute_result"
    }
   ],
   "source": [
    "# количество значений о численности населения для каждого континента\n",
    "# пропущенные значения (nan, null...) НЕ считаются\n",
    "df.groupby(\"continent\").population.count()"
   ]
  },
  {
   "cell_type": "markdown",
   "metadata": {},
   "source": [
    "### `std()`: стандартное отклонение (standard deviation) для каждой группы"
   ]
  },
  {
   "cell_type": "code",
   "execution_count": 14,
   "metadata": {},
   "outputs": [
    {
     "data": {
      "text/html": [
       "<div>\n",
       "<style scoped>\n",
       "    .dataframe tbody tr th:only-of-type {\n",
       "        vertical-align: middle;\n",
       "    }\n",
       "\n",
       "    .dataframe tbody tr th {\n",
       "        vertical-align: top;\n",
       "    }\n",
       "\n",
       "    .dataframe thead th {\n",
       "        text-align: right;\n",
       "    }\n",
       "</style>\n",
       "<table border=\"1\" class=\"dataframe\">\n",
       "  <thead>\n",
       "    <tr style=\"text-align: right;\">\n",
       "      <th></th>\n",
       "      <th>year</th>\n",
       "      <th>population</th>\n",
       "      <th>life_exp</th>\n",
       "      <th>gdp_cap</th>\n",
       "    </tr>\n",
       "    <tr>\n",
       "      <th>continent</th>\n",
       "      <th></th>\n",
       "      <th></th>\n",
       "      <th></th>\n",
       "      <th></th>\n",
       "    </tr>\n",
       "  </thead>\n",
       "  <tbody>\n",
       "    <tr>\n",
       "      <th>Africa</th>\n",
       "      <td>17.274110</td>\n",
       "      <td>1.549092e+07</td>\n",
       "      <td>9.150210</td>\n",
       "      <td>2827.929863</td>\n",
       "    </tr>\n",
       "    <tr>\n",
       "      <th>Americas</th>\n",
       "      <td>17.289102</td>\n",
       "      <td>5.097943e+07</td>\n",
       "      <td>9.345088</td>\n",
       "      <td>6396.764112</td>\n",
       "    </tr>\n",
       "    <tr>\n",
       "      <th>Asia</th>\n",
       "      <td>17.282097</td>\n",
       "      <td>2.068852e+08</td>\n",
       "      <td>11.864532</td>\n",
       "      <td>14045.373112</td>\n",
       "    </tr>\n",
       "    <tr>\n",
       "      <th>Europe</th>\n",
       "      <td>17.284285</td>\n",
       "      <td>2.051944e+07</td>\n",
       "      <td>5.433178</td>\n",
       "      <td>9355.213498</td>\n",
       "    </tr>\n",
       "    <tr>\n",
       "      <th>Oceania</th>\n",
       "      <td>17.631494</td>\n",
       "      <td>6.506342e+06</td>\n",
       "      <td>3.795611</td>\n",
       "      <td>6358.983321</td>\n",
       "    </tr>\n",
       "  </tbody>\n",
       "</table>\n",
       "</div>"
      ],
      "text/plain": [
       "                year    population   life_exp       gdp_cap\n",
       "continent                                                  \n",
       "Africa     17.274110  1.549092e+07   9.150210   2827.929863\n",
       "Americas   17.289102  5.097943e+07   9.345088   6396.764112\n",
       "Asia       17.282097  2.068852e+08  11.864532  14045.373112\n",
       "Europe     17.284285  2.051944e+07   5.433178   9355.213498\n",
       "Oceania    17.631494  6.506342e+06   3.795611   6358.983321"
      ]
     },
     "execution_count": 14,
     "metadata": {},
     "output_type": "execute_result"
    }
   ],
   "source": [
    "# стандартное отклонение для каждой колонки для каждого континента\n",
    "df.groupby(\"continent\").std()"
   ]
  },
  {
   "cell_type": "code",
   "execution_count": 15,
   "metadata": {},
   "outputs": [
    {
     "data": {
      "text/plain": [
       "continent\n",
       "Africa      1.549092e+07\n",
       "Americas    5.097943e+07\n",
       "Asia        2.068852e+08\n",
       "Europe      2.051944e+07\n",
       "Oceania     6.506342e+06\n",
       "Name: population, dtype: float64"
      ]
     },
     "execution_count": 15,
     "metadata": {},
     "output_type": "execute_result"
    }
   ],
   "source": [
    "# стандартное отклонение численности населения для каждого континента\n",
    "df.groupby(\"continent\").population.std()"
   ]
  },
  {
   "cell_type": "markdown",
   "metadata": {},
   "source": [
    "### `var()`: дисперсия для каждой группы"
   ]
  },
  {
   "cell_type": "code",
   "execution_count": 16,
   "metadata": {},
   "outputs": [
    {
     "data": {
      "text/html": [
       "<div>\n",
       "<style scoped>\n",
       "    .dataframe tbody tr th:only-of-type {\n",
       "        vertical-align: middle;\n",
       "    }\n",
       "\n",
       "    .dataframe tbody tr th {\n",
       "        vertical-align: top;\n",
       "    }\n",
       "\n",
       "    .dataframe thead th {\n",
       "        text-align: right;\n",
       "    }\n",
       "</style>\n",
       "<table border=\"1\" class=\"dataframe\">\n",
       "  <thead>\n",
       "    <tr style=\"text-align: right;\">\n",
       "      <th></th>\n",
       "      <th>year</th>\n",
       "      <th>population</th>\n",
       "      <th>life_exp</th>\n",
       "      <th>gdp_cap</th>\n",
       "    </tr>\n",
       "    <tr>\n",
       "      <th>continent</th>\n",
       "      <th></th>\n",
       "      <th></th>\n",
       "      <th></th>\n",
       "      <th></th>\n",
       "    </tr>\n",
       "  </thead>\n",
       "  <tbody>\n",
       "    <tr>\n",
       "      <th>Africa</th>\n",
       "      <td>298.394864</td>\n",
       "      <td>2.399687e+14</td>\n",
       "      <td>83.726347</td>\n",
       "      <td>7.997187e+06</td>\n",
       "    </tr>\n",
       "    <tr>\n",
       "      <th>Americas</th>\n",
       "      <td>298.913043</td>\n",
       "      <td>2.598902e+15</td>\n",
       "      <td>87.330670</td>\n",
       "      <td>4.091859e+07</td>\n",
       "    </tr>\n",
       "    <tr>\n",
       "      <th>Asia</th>\n",
       "      <td>298.670886</td>\n",
       "      <td>4.280149e+16</td>\n",
       "      <td>140.767108</td>\n",
       "      <td>1.972725e+08</td>\n",
       "    </tr>\n",
       "    <tr>\n",
       "      <th>Europe</th>\n",
       "      <td>298.746518</td>\n",
       "      <td>4.210473e+14</td>\n",
       "      <td>29.519421</td>\n",
       "      <td>8.752002e+07</td>\n",
       "    </tr>\n",
       "    <tr>\n",
       "      <th>Oceania</th>\n",
       "      <td>310.869565</td>\n",
       "      <td>4.233249e+13</td>\n",
       "      <td>14.406663</td>\n",
       "      <td>4.043667e+07</td>\n",
       "    </tr>\n",
       "  </tbody>\n",
       "</table>\n",
       "</div>"
      ],
      "text/plain": [
       "                 year    population    life_exp       gdp_cap\n",
       "continent                                                    \n",
       "Africa     298.394864  2.399687e+14   83.726347  7.997187e+06\n",
       "Americas   298.913043  2.598902e+15   87.330670  4.091859e+07\n",
       "Asia       298.670886  4.280149e+16  140.767108  1.972725e+08\n",
       "Europe     298.746518  4.210473e+14   29.519421  8.752002e+07\n",
       "Oceania    310.869565  4.233249e+13   14.406663  4.043667e+07"
      ]
     },
     "execution_count": 16,
     "metadata": {},
     "output_type": "execute_result"
    }
   ],
   "source": [
    "# дисперсия для каждой колонки для каждого континента\n",
    "df.groupby(\"continent\").var()"
   ]
  },
  {
   "cell_type": "code",
   "execution_count": 17,
   "metadata": {},
   "outputs": [
    {
     "data": {
      "text/plain": [
       "continent\n",
       "Africa      2.399687e+14\n",
       "Americas    2.598902e+15\n",
       "Asia        4.280149e+16\n",
       "Europe      4.210473e+14\n",
       "Oceania     4.233249e+13\n",
       "Name: population, dtype: float64"
      ]
     },
     "execution_count": 17,
     "metadata": {},
     "output_type": "execute_result"
    }
   ],
   "source": [
    "# дисперсия численности населения для каждого континента\n",
    "df.groupby(\"continent\").population.var()"
   ]
  },
  {
   "cell_type": "markdown",
   "metadata": {},
   "source": [
    "### `sem()`: стандартная ошибка среднего (Standard Error of the Mean) для каждой группы"
   ]
  },
  {
   "cell_type": "code",
   "execution_count": 18,
   "metadata": {},
   "outputs": [
    {
     "data": {
      "text/html": [
       "<div>\n",
       "<style scoped>\n",
       "    .dataframe tbody tr th:only-of-type {\n",
       "        vertical-align: middle;\n",
       "    }\n",
       "\n",
       "    .dataframe tbody tr th {\n",
       "        vertical-align: top;\n",
       "    }\n",
       "\n",
       "    .dataframe thead th {\n",
       "        text-align: right;\n",
       "    }\n",
       "</style>\n",
       "<table border=\"1\" class=\"dataframe\">\n",
       "  <thead>\n",
       "    <tr style=\"text-align: right;\">\n",
       "      <th></th>\n",
       "      <th>year</th>\n",
       "      <th>population</th>\n",
       "      <th>life_exp</th>\n",
       "      <th>gdp_cap</th>\n",
       "    </tr>\n",
       "    <tr>\n",
       "      <th>continent</th>\n",
       "      <th></th>\n",
       "      <th></th>\n",
       "      <th></th>\n",
       "      <th></th>\n",
       "    </tr>\n",
       "  </thead>\n",
       "  <tbody>\n",
       "    <tr>\n",
       "      <th>Africa</th>\n",
       "      <td>0.691518</td>\n",
       "      <td>6.201332e+05</td>\n",
       "      <td>0.366302</td>\n",
       "      <td>113.207797</td>\n",
       "    </tr>\n",
       "    <tr>\n",
       "      <th>Americas</th>\n",
       "      <td>0.998187</td>\n",
       "      <td>2.943299e+06</td>\n",
       "      <td>0.539539</td>\n",
       "      <td>369.317348</td>\n",
       "    </tr>\n",
       "    <tr>\n",
       "      <th>Asia</th>\n",
       "      <td>0.868458</td>\n",
       "      <td>1.039637e+07</td>\n",
       "      <td>0.596215</td>\n",
       "      <td>705.806555</td>\n",
       "    </tr>\n",
       "    <tr>\n",
       "      <th>Europe</th>\n",
       "      <td>0.910962</td>\n",
       "      <td>1.081469e+06</td>\n",
       "      <td>0.286354</td>\n",
       "      <td>493.063044</td>\n",
       "    </tr>\n",
       "    <tr>\n",
       "      <th>Oceania</th>\n",
       "      <td>3.599014</td>\n",
       "      <td>1.328102e+06</td>\n",
       "      <td>0.774776</td>\n",
       "      <td>1298.022035</td>\n",
       "    </tr>\n",
       "  </tbody>\n",
       "</table>\n",
       "</div>"
      ],
      "text/plain": [
       "               year    population  life_exp      gdp_cap\n",
       "continent                                               \n",
       "Africa     0.691518  6.201332e+05  0.366302   113.207797\n",
       "Americas   0.998187  2.943299e+06  0.539539   369.317348\n",
       "Asia       0.868458  1.039637e+07  0.596215   705.806555\n",
       "Europe     0.910962  1.081469e+06  0.286354   493.063044\n",
       "Oceania    3.599014  1.328102e+06  0.774776  1298.022035"
      ]
     },
     "execution_count": 18,
     "metadata": {},
     "output_type": "execute_result"
    }
   ],
   "source": [
    "# стандартная ошибка среднего для каждой колонки для каждого континента\n",
    "df.groupby(\"continent\").sem()"
   ]
  },
  {
   "cell_type": "code",
   "execution_count": 19,
   "metadata": {},
   "outputs": [
    {
     "data": {
      "text/plain": [
       "continent\n",
       "Africa      6.201332e+05\n",
       "Americas    2.943299e+06\n",
       "Asia        1.039637e+07\n",
       "Europe      1.081469e+06\n",
       "Oceania     1.328102e+06\n",
       "Name: population, dtype: float64"
      ]
     },
     "execution_count": 19,
     "metadata": {},
     "output_type": "execute_result"
    }
   ],
   "source": [
    "# стандартная ошибка среднего численности населения для каждого континента\n",
    "df.groupby(\"continent\").population.sem()"
   ]
  },
  {
   "cell_type": "markdown",
   "metadata": {},
   "source": [
    "### `describe()`: описательная статистика\n",
    "\n",
    "Краткая сводка по значениям в каждой группе.\n",
    "\n",
    "`describe()` вычисляет количество значений, среднее, стандартное, минимальное значение, максимальное значение и значение в нескольких процентилях."
   ]
  },
  {
   "cell_type": "code",
   "execution_count": 20,
   "metadata": {},
   "outputs": [
    {
     "data": {
      "text/html": [
       "<div>\n",
       "<style scoped>\n",
       "    .dataframe tbody tr th:only-of-type {\n",
       "        vertical-align: middle;\n",
       "    }\n",
       "\n",
       "    .dataframe tbody tr th {\n",
       "        vertical-align: top;\n",
       "    }\n",
       "\n",
       "    .dataframe thead tr th {\n",
       "        text-align: left;\n",
       "    }\n",
       "\n",
       "    .dataframe thead tr:last-of-type th {\n",
       "        text-align: right;\n",
       "    }\n",
       "</style>\n",
       "<table border=\"1\" class=\"dataframe\">\n",
       "  <thead>\n",
       "    <tr>\n",
       "      <th></th>\n",
       "      <th colspan=\"8\" halign=\"left\">year</th>\n",
       "      <th colspan=\"8\" halign=\"left\">population</th>\n",
       "      <th colspan=\"8\" halign=\"left\">life_exp</th>\n",
       "      <th colspan=\"8\" halign=\"left\">gdp_cap</th>\n",
       "    </tr>\n",
       "    <tr>\n",
       "      <th></th>\n",
       "      <th>count</th>\n",
       "      <th>mean</th>\n",
       "      <th>std</th>\n",
       "      <th>min</th>\n",
       "      <th>25%</th>\n",
       "      <th>50%</th>\n",
       "      <th>75%</th>\n",
       "      <th>max</th>\n",
       "      <th>count</th>\n",
       "      <th>mean</th>\n",
       "      <th>std</th>\n",
       "      <th>min</th>\n",
       "      <th>25%</th>\n",
       "      <th>50%</th>\n",
       "      <th>75%</th>\n",
       "      <th>max</th>\n",
       "      <th>count</th>\n",
       "      <th>mean</th>\n",
       "      <th>std</th>\n",
       "      <th>min</th>\n",
       "      <th>25%</th>\n",
       "      <th>50%</th>\n",
       "      <th>75%</th>\n",
       "      <th>max</th>\n",
       "      <th>count</th>\n",
       "      <th>mean</th>\n",
       "      <th>std</th>\n",
       "      <th>min</th>\n",
       "      <th>25%</th>\n",
       "      <th>50%</th>\n",
       "      <th>75%</th>\n",
       "      <th>max</th>\n",
       "    </tr>\n",
       "    <tr>\n",
       "      <th>continent</th>\n",
       "      <th></th>\n",
       "      <th></th>\n",
       "      <th></th>\n",
       "      <th></th>\n",
       "      <th></th>\n",
       "      <th></th>\n",
       "      <th></th>\n",
       "      <th></th>\n",
       "      <th></th>\n",
       "      <th></th>\n",
       "      <th></th>\n",
       "      <th></th>\n",
       "      <th></th>\n",
       "      <th></th>\n",
       "      <th></th>\n",
       "      <th></th>\n",
       "      <th></th>\n",
       "      <th></th>\n",
       "      <th></th>\n",
       "      <th></th>\n",
       "      <th></th>\n",
       "      <th></th>\n",
       "      <th></th>\n",
       "      <th></th>\n",
       "      <th></th>\n",
       "      <th></th>\n",
       "      <th></th>\n",
       "      <th></th>\n",
       "      <th></th>\n",
       "      <th></th>\n",
       "      <th></th>\n",
       "      <th></th>\n",
       "    </tr>\n",
       "  </thead>\n",
       "  <tbody>\n",
       "    <tr>\n",
       "      <th>Africa</th>\n",
       "      <td>624.0</td>\n",
       "      <td>1979.5</td>\n",
       "      <td>17.274110</td>\n",
       "      <td>1952.0</td>\n",
       "      <td>1965.75</td>\n",
       "      <td>1979.5</td>\n",
       "      <td>1993.25</td>\n",
       "      <td>2007.0</td>\n",
       "      <td>624.0</td>\n",
       "      <td>9.916003e+06</td>\n",
       "      <td>1.549092e+07</td>\n",
       "      <td>60011.0</td>\n",
       "      <td>1342075.00</td>\n",
       "      <td>4579311.0</td>\n",
       "      <td>10801489.75</td>\n",
       "      <td>1.350312e+08</td>\n",
       "      <td>624.0</td>\n",
       "      <td>48.865330</td>\n",
       "      <td>9.150210</td>\n",
       "      <td>23.599</td>\n",
       "      <td>42.37250</td>\n",
       "      <td>47.7920</td>\n",
       "      <td>54.41150</td>\n",
       "      <td>76.442</td>\n",
       "      <td>624.0</td>\n",
       "      <td>2193.754578</td>\n",
       "      <td>2827.929863</td>\n",
       "      <td>241.165876</td>\n",
       "      <td>761.247010</td>\n",
       "      <td>1192.138217</td>\n",
       "      <td>2377.417422</td>\n",
       "      <td>21951.21176</td>\n",
       "    </tr>\n",
       "    <tr>\n",
       "      <th>Americas</th>\n",
       "      <td>300.0</td>\n",
       "      <td>1979.5</td>\n",
       "      <td>17.289102</td>\n",
       "      <td>1952.0</td>\n",
       "      <td>1965.75</td>\n",
       "      <td>1979.5</td>\n",
       "      <td>1993.25</td>\n",
       "      <td>2007.0</td>\n",
       "      <td>300.0</td>\n",
       "      <td>2.450479e+07</td>\n",
       "      <td>5.097943e+07</td>\n",
       "      <td>662850.0</td>\n",
       "      <td>2962358.75</td>\n",
       "      <td>6227510.0</td>\n",
       "      <td>18340309.00</td>\n",
       "      <td>3.011399e+08</td>\n",
       "      <td>300.0</td>\n",
       "      <td>64.658737</td>\n",
       "      <td>9.345088</td>\n",
       "      <td>37.579</td>\n",
       "      <td>58.41000</td>\n",
       "      <td>67.0480</td>\n",
       "      <td>71.69950</td>\n",
       "      <td>80.653</td>\n",
       "      <td>300.0</td>\n",
       "      <td>7136.110356</td>\n",
       "      <td>6396.764112</td>\n",
       "      <td>1201.637154</td>\n",
       "      <td>3427.779072</td>\n",
       "      <td>5465.509853</td>\n",
       "      <td>7830.210416</td>\n",
       "      <td>42951.65309</td>\n",
       "    </tr>\n",
       "    <tr>\n",
       "      <th>Asia</th>\n",
       "      <td>396.0</td>\n",
       "      <td>1979.5</td>\n",
       "      <td>17.282097</td>\n",
       "      <td>1952.0</td>\n",
       "      <td>1965.75</td>\n",
       "      <td>1979.5</td>\n",
       "      <td>1993.25</td>\n",
       "      <td>2007.0</td>\n",
       "      <td>396.0</td>\n",
       "      <td>7.703872e+07</td>\n",
       "      <td>2.068852e+08</td>\n",
       "      <td>120447.0</td>\n",
       "      <td>3844393.00</td>\n",
       "      <td>14530830.5</td>\n",
       "      <td>46300348.00</td>\n",
       "      <td>1.318683e+09</td>\n",
       "      <td>396.0</td>\n",
       "      <td>60.064903</td>\n",
       "      <td>11.864532</td>\n",
       "      <td>28.801</td>\n",
       "      <td>51.42625</td>\n",
       "      <td>61.7915</td>\n",
       "      <td>69.50525</td>\n",
       "      <td>82.603</td>\n",
       "      <td>396.0</td>\n",
       "      <td>7902.150428</td>\n",
       "      <td>14045.373112</td>\n",
       "      <td>331.000000</td>\n",
       "      <td>1056.993223</td>\n",
       "      <td>2646.786844</td>\n",
       "      <td>8549.255654</td>\n",
       "      <td>113523.13290</td>\n",
       "    </tr>\n",
       "    <tr>\n",
       "      <th>Europe</th>\n",
       "      <td>360.0</td>\n",
       "      <td>1979.5</td>\n",
       "      <td>17.284285</td>\n",
       "      <td>1952.0</td>\n",
       "      <td>1965.75</td>\n",
       "      <td>1979.5</td>\n",
       "      <td>1993.25</td>\n",
       "      <td>2007.0</td>\n",
       "      <td>360.0</td>\n",
       "      <td>1.716976e+07</td>\n",
       "      <td>2.051944e+07</td>\n",
       "      <td>147962.0</td>\n",
       "      <td>4331500.00</td>\n",
       "      <td>8551125.0</td>\n",
       "      <td>21802867.00</td>\n",
       "      <td>8.240100e+07</td>\n",
       "      <td>360.0</td>\n",
       "      <td>71.903686</td>\n",
       "      <td>5.433178</td>\n",
       "      <td>43.585</td>\n",
       "      <td>69.57000</td>\n",
       "      <td>72.2410</td>\n",
       "      <td>75.45050</td>\n",
       "      <td>81.757</td>\n",
       "      <td>360.0</td>\n",
       "      <td>14469.475533</td>\n",
       "      <td>9355.213498</td>\n",
       "      <td>973.533195</td>\n",
       "      <td>7213.085036</td>\n",
       "      <td>12081.749115</td>\n",
       "      <td>20461.386162</td>\n",
       "      <td>49357.19017</td>\n",
       "    </tr>\n",
       "    <tr>\n",
       "      <th>Oceania</th>\n",
       "      <td>24.0</td>\n",
       "      <td>1979.5</td>\n",
       "      <td>17.631494</td>\n",
       "      <td>1952.0</td>\n",
       "      <td>1965.75</td>\n",
       "      <td>1979.5</td>\n",
       "      <td>1993.25</td>\n",
       "      <td>2007.0</td>\n",
       "      <td>24.0</td>\n",
       "      <td>8.874672e+06</td>\n",
       "      <td>6.506342e+06</td>\n",
       "      <td>1994794.0</td>\n",
       "      <td>3199212.50</td>\n",
       "      <td>6403491.5</td>\n",
       "      <td>14351625.00</td>\n",
       "      <td>2.043418e+07</td>\n",
       "      <td>24.0</td>\n",
       "      <td>74.326208</td>\n",
       "      <td>3.795611</td>\n",
       "      <td>69.120</td>\n",
       "      <td>71.20500</td>\n",
       "      <td>73.6650</td>\n",
       "      <td>77.55250</td>\n",
       "      <td>81.235</td>\n",
       "      <td>24.0</td>\n",
       "      <td>18621.609223</td>\n",
       "      <td>6358.983321</td>\n",
       "      <td>10039.595640</td>\n",
       "      <td>14141.858697</td>\n",
       "      <td>17983.303955</td>\n",
       "      <td>22214.117110</td>\n",
       "      <td>34435.36744</td>\n",
       "    </tr>\n",
       "  </tbody>\n",
       "</table>\n",
       "</div>"
      ],
      "text/plain": [
       "            year                                                               \\\n",
       "           count    mean        std     min      25%     50%      75%     max   \n",
       "continent                                                                       \n",
       "Africa     624.0  1979.5  17.274110  1952.0  1965.75  1979.5  1993.25  2007.0   \n",
       "Americas   300.0  1979.5  17.289102  1952.0  1965.75  1979.5  1993.25  2007.0   \n",
       "Asia       396.0  1979.5  17.282097  1952.0  1965.75  1979.5  1993.25  2007.0   \n",
       "Europe     360.0  1979.5  17.284285  1952.0  1965.75  1979.5  1993.25  2007.0   \n",
       "Oceania     24.0  1979.5  17.631494  1952.0  1965.75  1979.5  1993.25  2007.0   \n",
       "\n",
       "          population                                                     \\\n",
       "               count          mean           std        min         25%   \n",
       "continent                                                                 \n",
       "Africa         624.0  9.916003e+06  1.549092e+07    60011.0  1342075.00   \n",
       "Americas       300.0  2.450479e+07  5.097943e+07   662850.0  2962358.75   \n",
       "Asia           396.0  7.703872e+07  2.068852e+08   120447.0  3844393.00   \n",
       "Europe         360.0  1.716976e+07  2.051944e+07   147962.0  4331500.00   \n",
       "Oceania         24.0  8.874672e+06  6.506342e+06  1994794.0  3199212.50   \n",
       "\n",
       "                                                 life_exp             \\\n",
       "                  50%          75%           max    count       mean   \n",
       "continent                                                              \n",
       "Africa      4579311.0  10801489.75  1.350312e+08    624.0  48.865330   \n",
       "Americas    6227510.0  18340309.00  3.011399e+08    300.0  64.658737   \n",
       "Asia       14530830.5  46300348.00  1.318683e+09    396.0  60.064903   \n",
       "Europe      8551125.0  21802867.00  8.240100e+07    360.0  71.903686   \n",
       "Oceania     6403491.5  14351625.00  2.043418e+07     24.0  74.326208   \n",
       "\n",
       "                                                                  gdp_cap  \\\n",
       "                 std     min       25%      50%       75%     max   count   \n",
       "continent                                                                   \n",
       "Africa      9.150210  23.599  42.37250  47.7920  54.41150  76.442   624.0   \n",
       "Americas    9.345088  37.579  58.41000  67.0480  71.69950  80.653   300.0   \n",
       "Asia       11.864532  28.801  51.42625  61.7915  69.50525  82.603   396.0   \n",
       "Europe      5.433178  43.585  69.57000  72.2410  75.45050  81.757   360.0   \n",
       "Oceania     3.795611  69.120  71.20500  73.6650  77.55250  81.235    24.0   \n",
       "\n",
       "                                                                   \\\n",
       "                   mean           std           min           25%   \n",
       "continent                                                           \n",
       "Africa      2193.754578   2827.929863    241.165876    761.247010   \n",
       "Americas    7136.110356   6396.764112   1201.637154   3427.779072   \n",
       "Asia        7902.150428  14045.373112    331.000000   1056.993223   \n",
       "Europe     14469.475533   9355.213498    973.533195   7213.085036   \n",
       "Oceania    18621.609223   6358.983321  10039.595640  14141.858697   \n",
       "\n",
       "                                                     \n",
       "                    50%           75%           max  \n",
       "continent                                            \n",
       "Africa      1192.138217   2377.417422   21951.21176  \n",
       "Americas    5465.509853   7830.210416   42951.65309  \n",
       "Asia        2646.786844   8549.255654  113523.13290  \n",
       "Europe     12081.749115  20461.386162   49357.19017  \n",
       "Oceania    17983.303955  22214.117110   34435.36744  "
      ]
     },
     "execution_count": 20,
     "metadata": {},
     "output_type": "execute_result"
    }
   ],
   "source": [
    "# статистика для каждой колонки для каждого континента\n",
    "df.groupby(\"continent\").describe()"
   ]
  },
  {
   "cell_type": "code",
   "execution_count": 21,
   "metadata": {},
   "outputs": [
    {
     "data": {
      "text/html": [
       "<div>\n",
       "<style scoped>\n",
       "    .dataframe tbody tr th:only-of-type {\n",
       "        vertical-align: middle;\n",
       "    }\n",
       "\n",
       "    .dataframe tbody tr th {\n",
       "        vertical-align: top;\n",
       "    }\n",
       "\n",
       "    .dataframe thead th {\n",
       "        text-align: right;\n",
       "    }\n",
       "</style>\n",
       "<table border=\"1\" class=\"dataframe\">\n",
       "  <thead>\n",
       "    <tr style=\"text-align: right;\">\n",
       "      <th></th>\n",
       "      <th>count</th>\n",
       "      <th>mean</th>\n",
       "      <th>std</th>\n",
       "      <th>min</th>\n",
       "      <th>25%</th>\n",
       "      <th>50%</th>\n",
       "      <th>75%</th>\n",
       "      <th>max</th>\n",
       "    </tr>\n",
       "    <tr>\n",
       "      <th>continent</th>\n",
       "      <th></th>\n",
       "      <th></th>\n",
       "      <th></th>\n",
       "      <th></th>\n",
       "      <th></th>\n",
       "      <th></th>\n",
       "      <th></th>\n",
       "      <th></th>\n",
       "    </tr>\n",
       "  </thead>\n",
       "  <tbody>\n",
       "    <tr>\n",
       "      <th>Africa</th>\n",
       "      <td>624.0</td>\n",
       "      <td>9.916003e+06</td>\n",
       "      <td>1.549092e+07</td>\n",
       "      <td>60011.0</td>\n",
       "      <td>1342075.00</td>\n",
       "      <td>4579311.0</td>\n",
       "      <td>10801489.75</td>\n",
       "      <td>1.350312e+08</td>\n",
       "    </tr>\n",
       "    <tr>\n",
       "      <th>Americas</th>\n",
       "      <td>300.0</td>\n",
       "      <td>2.450479e+07</td>\n",
       "      <td>5.097943e+07</td>\n",
       "      <td>662850.0</td>\n",
       "      <td>2962358.75</td>\n",
       "      <td>6227510.0</td>\n",
       "      <td>18340309.00</td>\n",
       "      <td>3.011399e+08</td>\n",
       "    </tr>\n",
       "    <tr>\n",
       "      <th>Asia</th>\n",
       "      <td>396.0</td>\n",
       "      <td>7.703872e+07</td>\n",
       "      <td>2.068852e+08</td>\n",
       "      <td>120447.0</td>\n",
       "      <td>3844393.00</td>\n",
       "      <td>14530830.5</td>\n",
       "      <td>46300348.00</td>\n",
       "      <td>1.318683e+09</td>\n",
       "    </tr>\n",
       "    <tr>\n",
       "      <th>Europe</th>\n",
       "      <td>360.0</td>\n",
       "      <td>1.716976e+07</td>\n",
       "      <td>2.051944e+07</td>\n",
       "      <td>147962.0</td>\n",
       "      <td>4331500.00</td>\n",
       "      <td>8551125.0</td>\n",
       "      <td>21802867.00</td>\n",
       "      <td>8.240100e+07</td>\n",
       "    </tr>\n",
       "    <tr>\n",
       "      <th>Oceania</th>\n",
       "      <td>24.0</td>\n",
       "      <td>8.874672e+06</td>\n",
       "      <td>6.506342e+06</td>\n",
       "      <td>1994794.0</td>\n",
       "      <td>3199212.50</td>\n",
       "      <td>6403491.5</td>\n",
       "      <td>14351625.00</td>\n",
       "      <td>2.043418e+07</td>\n",
       "    </tr>\n",
       "  </tbody>\n",
       "</table>\n",
       "</div>"
      ],
      "text/plain": [
       "           count          mean           std        min         25%  \\\n",
       "continent                                                             \n",
       "Africa     624.0  9.916003e+06  1.549092e+07    60011.0  1342075.00   \n",
       "Americas   300.0  2.450479e+07  5.097943e+07   662850.0  2962358.75   \n",
       "Asia       396.0  7.703872e+07  2.068852e+08   120447.0  3844393.00   \n",
       "Europe     360.0  1.716976e+07  2.051944e+07   147962.0  4331500.00   \n",
       "Oceania     24.0  8.874672e+06  6.506342e+06  1994794.0  3199212.50   \n",
       "\n",
       "                  50%          75%           max  \n",
       "continent                                         \n",
       "Africa      4579311.0  10801489.75  1.350312e+08  \n",
       "Americas    6227510.0  18340309.00  3.011399e+08  \n",
       "Asia       14530830.5  46300348.00  1.318683e+09  \n",
       "Europe      8551125.0  21802867.00  8.240100e+07  \n",
       "Oceania     6403491.5  14351625.00  2.043418e+07  "
      ]
     },
     "execution_count": 21,
     "metadata": {},
     "output_type": "execute_result"
    }
   ],
   "source": [
    "# статистика по численности населения для каждого континента\n",
    "df.groupby(\"continent\").population.describe()"
   ]
  },
  {
   "cell_type": "markdown",
   "metadata": {},
   "source": [
    "### `first()`: первое из значений группы\n",
    "\n",
    "Получает значение из первой строки в каждой группе."
   ]
  },
  {
   "cell_type": "code",
   "execution_count": 22,
   "metadata": {},
   "outputs": [
    {
     "data": {
      "text/html": [
       "<div>\n",
       "<style scoped>\n",
       "    .dataframe tbody tr th:only-of-type {\n",
       "        vertical-align: middle;\n",
       "    }\n",
       "\n",
       "    .dataframe tbody tr th {\n",
       "        vertical-align: top;\n",
       "    }\n",
       "\n",
       "    .dataframe thead th {\n",
       "        text-align: right;\n",
       "    }\n",
       "</style>\n",
       "<table border=\"1\" class=\"dataframe\">\n",
       "  <thead>\n",
       "    <tr style=\"text-align: right;\">\n",
       "      <th></th>\n",
       "      <th>country</th>\n",
       "      <th>year</th>\n",
       "      <th>population</th>\n",
       "      <th>life_exp</th>\n",
       "      <th>gdp_cap</th>\n",
       "    </tr>\n",
       "    <tr>\n",
       "      <th>continent</th>\n",
       "      <th></th>\n",
       "      <th></th>\n",
       "      <th></th>\n",
       "      <th></th>\n",
       "      <th></th>\n",
       "    </tr>\n",
       "  </thead>\n",
       "  <tbody>\n",
       "    <tr>\n",
       "      <th>Africa</th>\n",
       "      <td>Algeria</td>\n",
       "      <td>1952</td>\n",
       "      <td>9279525</td>\n",
       "      <td>43.077</td>\n",
       "      <td>2449.008185</td>\n",
       "    </tr>\n",
       "    <tr>\n",
       "      <th>Americas</th>\n",
       "      <td>Argentina</td>\n",
       "      <td>1952</td>\n",
       "      <td>17876956</td>\n",
       "      <td>62.485</td>\n",
       "      <td>5911.315053</td>\n",
       "    </tr>\n",
       "    <tr>\n",
       "      <th>Asia</th>\n",
       "      <td>Afghanistan</td>\n",
       "      <td>1952</td>\n",
       "      <td>8425333</td>\n",
       "      <td>28.801</td>\n",
       "      <td>779.445314</td>\n",
       "    </tr>\n",
       "    <tr>\n",
       "      <th>Europe</th>\n",
       "      <td>Albania</td>\n",
       "      <td>1952</td>\n",
       "      <td>1282697</td>\n",
       "      <td>55.230</td>\n",
       "      <td>1601.056136</td>\n",
       "    </tr>\n",
       "    <tr>\n",
       "      <th>Oceania</th>\n",
       "      <td>Australia</td>\n",
       "      <td>1952</td>\n",
       "      <td>8691212</td>\n",
       "      <td>69.120</td>\n",
       "      <td>10039.595640</td>\n",
       "    </tr>\n",
       "  </tbody>\n",
       "</table>\n",
       "</div>"
      ],
      "text/plain": [
       "               country  year  population  life_exp       gdp_cap\n",
       "continent                                                       \n",
       "Africa         Algeria  1952     9279525    43.077   2449.008185\n",
       "Americas     Argentina  1952    17876956    62.485   5911.315053\n",
       "Asia       Afghanistan  1952     8425333    28.801    779.445314\n",
       "Europe         Albania  1952     1282697    55.230   1601.056136\n",
       "Oceania      Australia  1952     8691212    69.120  10039.595640"
      ]
     },
     "execution_count": 22,
     "metadata": {},
     "output_type": "execute_result"
    }
   ],
   "source": [
    "# первое значение для каждой колонки для каждого континента\n",
    "df.groupby(\"continent\").first()"
   ]
  },
  {
   "cell_type": "code",
   "execution_count": 23,
   "metadata": {},
   "outputs": [
    {
     "data": {
      "text/plain": [
       "continent\n",
       "Africa       9279525\n",
       "Americas    17876956\n",
       "Asia         8425333\n",
       "Europe       1282697\n",
       "Oceania      8691212\n",
       "Name: population, dtype: int64"
      ]
     },
     "execution_count": 23,
     "metadata": {},
     "output_type": "execute_result"
    }
   ],
   "source": [
    "# первое значение численности населения для каждого континента\n",
    "df.groupby(\"continent\").population.first()"
   ]
  },
  {
   "cell_type": "markdown",
   "metadata": {},
   "source": [
    "### `last()`: последнее из значений группы\n",
    "\n",
    "Получает значение из последней строки в каждой группе."
   ]
  },
  {
   "cell_type": "code",
   "execution_count": 24,
   "metadata": {},
   "outputs": [
    {
     "data": {
      "text/html": [
       "<div>\n",
       "<style scoped>\n",
       "    .dataframe tbody tr th:only-of-type {\n",
       "        vertical-align: middle;\n",
       "    }\n",
       "\n",
       "    .dataframe tbody tr th {\n",
       "        vertical-align: top;\n",
       "    }\n",
       "\n",
       "    .dataframe thead th {\n",
       "        text-align: right;\n",
       "    }\n",
       "</style>\n",
       "<table border=\"1\" class=\"dataframe\">\n",
       "  <thead>\n",
       "    <tr style=\"text-align: right;\">\n",
       "      <th></th>\n",
       "      <th>country</th>\n",
       "      <th>year</th>\n",
       "      <th>population</th>\n",
       "      <th>life_exp</th>\n",
       "      <th>gdp_cap</th>\n",
       "    </tr>\n",
       "    <tr>\n",
       "      <th>continent</th>\n",
       "      <th></th>\n",
       "      <th></th>\n",
       "      <th></th>\n",
       "      <th></th>\n",
       "      <th></th>\n",
       "    </tr>\n",
       "  </thead>\n",
       "  <tbody>\n",
       "    <tr>\n",
       "      <th>Africa</th>\n",
       "      <td>Zimbabwe</td>\n",
       "      <td>2007</td>\n",
       "      <td>12311143</td>\n",
       "      <td>43.487</td>\n",
       "      <td>469.709298</td>\n",
       "    </tr>\n",
       "    <tr>\n",
       "      <th>Americas</th>\n",
       "      <td>Venezuela</td>\n",
       "      <td>2007</td>\n",
       "      <td>26084662</td>\n",
       "      <td>73.747</td>\n",
       "      <td>11415.805690</td>\n",
       "    </tr>\n",
       "    <tr>\n",
       "      <th>Asia</th>\n",
       "      <td>Yemen, Rep.</td>\n",
       "      <td>2007</td>\n",
       "      <td>22211743</td>\n",
       "      <td>62.698</td>\n",
       "      <td>2280.769906</td>\n",
       "    </tr>\n",
       "    <tr>\n",
       "      <th>Europe</th>\n",
       "      <td>United Kingdom</td>\n",
       "      <td>2007</td>\n",
       "      <td>60776238</td>\n",
       "      <td>79.425</td>\n",
       "      <td>33203.261280</td>\n",
       "    </tr>\n",
       "    <tr>\n",
       "      <th>Oceania</th>\n",
       "      <td>New Zealand</td>\n",
       "      <td>2007</td>\n",
       "      <td>4115771</td>\n",
       "      <td>80.204</td>\n",
       "      <td>25185.009110</td>\n",
       "    </tr>\n",
       "  </tbody>\n",
       "</table>\n",
       "</div>"
      ],
      "text/plain": [
       "                  country  year  population  life_exp       gdp_cap\n",
       "continent                                                          \n",
       "Africa           Zimbabwe  2007    12311143    43.487    469.709298\n",
       "Americas        Venezuela  2007    26084662    73.747  11415.805690\n",
       "Asia          Yemen, Rep.  2007    22211743    62.698   2280.769906\n",
       "Europe     United Kingdom  2007    60776238    79.425  33203.261280\n",
       "Oceania       New Zealand  2007     4115771    80.204  25185.009110"
      ]
     },
     "execution_count": 24,
     "metadata": {},
     "output_type": "execute_result"
    }
   ],
   "source": [
    "# последнее значение для каждой колонки для каждого континента\n",
    "df.groupby(\"continent\").last()"
   ]
  },
  {
   "cell_type": "code",
   "execution_count": 25,
   "metadata": {},
   "outputs": [
    {
     "data": {
      "text/plain": [
       "continent\n",
       "Africa      12311143\n",
       "Americas    26084662\n",
       "Asia        22211743\n",
       "Europe      60776238\n",
       "Oceania      4115771\n",
       "Name: population, dtype: int64"
      ]
     },
     "execution_count": 25,
     "metadata": {},
     "output_type": "execute_result"
    }
   ],
   "source": [
    "# последнее значение численности населения для каждого континента\n",
    "df.groupby(\"continent\").population.last()"
   ]
  },
  {
   "cell_type": "markdown",
   "metadata": {},
   "source": [
    "### `nth()`: n-е значение или подмножество, если n - список"
   ]
  },
  {
   "cell_type": "code",
   "execution_count": 26,
   "metadata": {},
   "outputs": [
    {
     "data": {
      "text/html": [
       "<div>\n",
       "<style scoped>\n",
       "    .dataframe tbody tr th:only-of-type {\n",
       "        vertical-align: middle;\n",
       "    }\n",
       "\n",
       "    .dataframe tbody tr th {\n",
       "        vertical-align: top;\n",
       "    }\n",
       "\n",
       "    .dataframe thead th {\n",
       "        text-align: right;\n",
       "    }\n",
       "</style>\n",
       "<table border=\"1\" class=\"dataframe\">\n",
       "  <thead>\n",
       "    <tr style=\"text-align: right;\">\n",
       "      <th></th>\n",
       "      <th>country</th>\n",
       "      <th>year</th>\n",
       "      <th>population</th>\n",
       "      <th>life_exp</th>\n",
       "      <th>gdp_cap</th>\n",
       "    </tr>\n",
       "    <tr>\n",
       "      <th>continent</th>\n",
       "      <th></th>\n",
       "      <th></th>\n",
       "      <th></th>\n",
       "      <th></th>\n",
       "      <th></th>\n",
       "    </tr>\n",
       "  </thead>\n",
       "  <tbody>\n",
       "    <tr>\n",
       "      <th>Africa</th>\n",
       "      <td>Angola</td>\n",
       "      <td>1967</td>\n",
       "      <td>5247469</td>\n",
       "      <td>35.985</td>\n",
       "      <td>5522.776375</td>\n",
       "    </tr>\n",
       "    <tr>\n",
       "      <th>Americas</th>\n",
       "      <td>Bolivia</td>\n",
       "      <td>1967</td>\n",
       "      <td>4040665</td>\n",
       "      <td>45.032</td>\n",
       "      <td>2586.886053</td>\n",
       "    </tr>\n",
       "    <tr>\n",
       "      <th>Asia</th>\n",
       "      <td>Bahrain</td>\n",
       "      <td>1967</td>\n",
       "      <td>202182</td>\n",
       "      <td>59.923</td>\n",
       "      <td>14804.672700</td>\n",
       "    </tr>\n",
       "    <tr>\n",
       "      <th>Europe</th>\n",
       "      <td>Austria</td>\n",
       "      <td>1967</td>\n",
       "      <td>7376998</td>\n",
       "      <td>70.140</td>\n",
       "      <td>12834.602400</td>\n",
       "    </tr>\n",
       "    <tr>\n",
       "      <th>Oceania</th>\n",
       "      <td>New Zealand</td>\n",
       "      <td>1967</td>\n",
       "      <td>2728150</td>\n",
       "      <td>71.520</td>\n",
       "      <td>14463.918930</td>\n",
       "    </tr>\n",
       "  </tbody>\n",
       "</table>\n",
       "</div>"
      ],
      "text/plain": [
       "               country  year  population  life_exp       gdp_cap\n",
       "continent                                                       \n",
       "Africa          Angola  1967     5247469    35.985   5522.776375\n",
       "Americas       Bolivia  1967     4040665    45.032   2586.886053\n",
       "Asia           Bahrain  1967      202182    59.923  14804.672700\n",
       "Europe         Austria  1967     7376998    70.140  12834.602400\n",
       "Oceania    New Zealand  1967     2728150    71.520  14463.918930"
      ]
     },
     "execution_count": 26,
     "metadata": {},
     "output_type": "execute_result"
    }
   ],
   "source": [
    "# 15 значение для каждой колонки для каждого континента\n",
    "df.groupby(\"continent\").nth(15)"
   ]
  },
  {
   "cell_type": "code",
   "execution_count": 27,
   "metadata": {},
   "outputs": [
    {
     "data": {
      "text/html": [
       "<div>\n",
       "<style scoped>\n",
       "    .dataframe tbody tr th:only-of-type {\n",
       "        vertical-align: middle;\n",
       "    }\n",
       "\n",
       "    .dataframe tbody tr th {\n",
       "        vertical-align: top;\n",
       "    }\n",
       "\n",
       "    .dataframe thead th {\n",
       "        text-align: right;\n",
       "    }\n",
       "</style>\n",
       "<table border=\"1\" class=\"dataframe\">\n",
       "  <thead>\n",
       "    <tr style=\"text-align: right;\">\n",
       "      <th></th>\n",
       "      <th>country</th>\n",
       "      <th>year</th>\n",
       "      <th>population</th>\n",
       "      <th>life_exp</th>\n",
       "      <th>gdp_cap</th>\n",
       "    </tr>\n",
       "    <tr>\n",
       "      <th>continent</th>\n",
       "      <th></th>\n",
       "      <th></th>\n",
       "      <th></th>\n",
       "      <th></th>\n",
       "      <th></th>\n",
       "    </tr>\n",
       "  </thead>\n",
       "  <tbody>\n",
       "    <tr>\n",
       "      <th>Africa</th>\n",
       "      <td>Algeria</td>\n",
       "      <td>1957</td>\n",
       "      <td>10270856</td>\n",
       "      <td>45.685</td>\n",
       "      <td>3013.976023</td>\n",
       "    </tr>\n",
       "    <tr>\n",
       "      <th>Africa</th>\n",
       "      <td>Algeria</td>\n",
       "      <td>1962</td>\n",
       "      <td>11000948</td>\n",
       "      <td>48.303</td>\n",
       "      <td>2550.816880</td>\n",
       "    </tr>\n",
       "    <tr>\n",
       "      <th>Africa</th>\n",
       "      <td>Angola</td>\n",
       "      <td>1967</td>\n",
       "      <td>5247469</td>\n",
       "      <td>35.985</td>\n",
       "      <td>5522.776375</td>\n",
       "    </tr>\n",
       "    <tr>\n",
       "      <th>Americas</th>\n",
       "      <td>Argentina</td>\n",
       "      <td>1957</td>\n",
       "      <td>19610538</td>\n",
       "      <td>64.399</td>\n",
       "      <td>6856.856212</td>\n",
       "    </tr>\n",
       "    <tr>\n",
       "      <th>Americas</th>\n",
       "      <td>Argentina</td>\n",
       "      <td>1962</td>\n",
       "      <td>21283783</td>\n",
       "      <td>65.142</td>\n",
       "      <td>7133.166023</td>\n",
       "    </tr>\n",
       "    <tr>\n",
       "      <th>Americas</th>\n",
       "      <td>Bolivia</td>\n",
       "      <td>1967</td>\n",
       "      <td>4040665</td>\n",
       "      <td>45.032</td>\n",
       "      <td>2586.886053</td>\n",
       "    </tr>\n",
       "    <tr>\n",
       "      <th>Asia</th>\n",
       "      <td>Afghanistan</td>\n",
       "      <td>1957</td>\n",
       "      <td>9240934</td>\n",
       "      <td>30.332</td>\n",
       "      <td>820.853030</td>\n",
       "    </tr>\n",
       "    <tr>\n",
       "      <th>Asia</th>\n",
       "      <td>Afghanistan</td>\n",
       "      <td>1962</td>\n",
       "      <td>10267083</td>\n",
       "      <td>31.997</td>\n",
       "      <td>853.100710</td>\n",
       "    </tr>\n",
       "    <tr>\n",
       "      <th>Asia</th>\n",
       "      <td>Bahrain</td>\n",
       "      <td>1967</td>\n",
       "      <td>202182</td>\n",
       "      <td>59.923</td>\n",
       "      <td>14804.672700</td>\n",
       "    </tr>\n",
       "    <tr>\n",
       "      <th>Europe</th>\n",
       "      <td>Albania</td>\n",
       "      <td>1957</td>\n",
       "      <td>1476505</td>\n",
       "      <td>59.280</td>\n",
       "      <td>1942.284244</td>\n",
       "    </tr>\n",
       "    <tr>\n",
       "      <th>Europe</th>\n",
       "      <td>Albania</td>\n",
       "      <td>1962</td>\n",
       "      <td>1728137</td>\n",
       "      <td>64.820</td>\n",
       "      <td>2312.888958</td>\n",
       "    </tr>\n",
       "    <tr>\n",
       "      <th>Europe</th>\n",
       "      <td>Austria</td>\n",
       "      <td>1967</td>\n",
       "      <td>7376998</td>\n",
       "      <td>70.140</td>\n",
       "      <td>12834.602400</td>\n",
       "    </tr>\n",
       "    <tr>\n",
       "      <th>Oceania</th>\n",
       "      <td>Australia</td>\n",
       "      <td>1957</td>\n",
       "      <td>9712569</td>\n",
       "      <td>70.330</td>\n",
       "      <td>10949.649590</td>\n",
       "    </tr>\n",
       "    <tr>\n",
       "      <th>Oceania</th>\n",
       "      <td>Australia</td>\n",
       "      <td>1962</td>\n",
       "      <td>10794968</td>\n",
       "      <td>70.930</td>\n",
       "      <td>12217.226860</td>\n",
       "    </tr>\n",
       "    <tr>\n",
       "      <th>Oceania</th>\n",
       "      <td>New Zealand</td>\n",
       "      <td>1967</td>\n",
       "      <td>2728150</td>\n",
       "      <td>71.520</td>\n",
       "      <td>14463.918930</td>\n",
       "    </tr>\n",
       "  </tbody>\n",
       "</table>\n",
       "</div>"
      ],
      "text/plain": [
       "               country  year  population  life_exp       gdp_cap\n",
       "continent                                                       \n",
       "Africa         Algeria  1957    10270856    45.685   3013.976023\n",
       "Africa         Algeria  1962    11000948    48.303   2550.816880\n",
       "Africa          Angola  1967     5247469    35.985   5522.776375\n",
       "Americas     Argentina  1957    19610538    64.399   6856.856212\n",
       "Americas     Argentina  1962    21283783    65.142   7133.166023\n",
       "Americas       Bolivia  1967     4040665    45.032   2586.886053\n",
       "Asia       Afghanistan  1957     9240934    30.332    820.853030\n",
       "Asia       Afghanistan  1962    10267083    31.997    853.100710\n",
       "Asia           Bahrain  1967      202182    59.923  14804.672700\n",
       "Europe         Albania  1957     1476505    59.280   1942.284244\n",
       "Europe         Albania  1962     1728137    64.820   2312.888958\n",
       "Europe         Austria  1967     7376998    70.140  12834.602400\n",
       "Oceania      Australia  1957     9712569    70.330  10949.649590\n",
       "Oceania      Australia  1962    10794968    70.930  12217.226860\n",
       "Oceania    New Zealand  1967     2728150    71.520  14463.918930"
      ]
     },
     "execution_count": 27,
     "metadata": {},
     "output_type": "execute_result"
    }
   ],
   "source": [
    "# 1, 2 и 15 значение для каждой колонки для каждого континента\n",
    "df.groupby(\"continent\").nth([1, 2, 15])"
   ]
  },
  {
   "cell_type": "code",
   "execution_count": 28,
   "metadata": {},
   "outputs": [
    {
     "data": {
      "text/plain": [
       "continent\n",
       "Africa      5247469\n",
       "Americas    4040665\n",
       "Asia         202182\n",
       "Europe      7376998\n",
       "Oceania     2728150\n",
       "Name: population, dtype: int64"
      ]
     },
     "execution_count": 28,
     "metadata": {},
     "output_type": "execute_result"
    }
   ],
   "source": [
    "# 15 значение численности населения для каждого континента\n",
    "df.groupby(\"continent\").population.nth(15)"
   ]
  },
  {
   "cell_type": "code",
   "execution_count": 29,
   "metadata": {},
   "outputs": [
    {
     "data": {
      "text/plain": [
       "continent\n",
       "Africa      10270856\n",
       "Africa      11000948\n",
       "Africa       5247469\n",
       "Americas    19610538\n",
       "Americas    21283783\n",
       "Americas     4040665\n",
       "Asia         9240934\n",
       "Asia        10267083\n",
       "Asia          202182\n",
       "Europe       1476505\n",
       "Europe       1728137\n",
       "Europe       7376998\n",
       "Oceania      9712569\n",
       "Oceania     10794968\n",
       "Oceania      2728150\n",
       "Name: population, dtype: int64"
      ]
     },
     "execution_count": 29,
     "metadata": {},
     "output_type": "execute_result"
    }
   ],
   "source": [
    "# 1, 2 и 15 значение численности населения для каждого континента\n",
    "df.groupby(\"continent\").population.nth([1, 2, 15])"
   ]
  },
  {
   "cell_type": "markdown",
   "metadata": {},
   "source": [
    "### `min()`: минимальное значение для каждой группы"
   ]
  },
  {
   "cell_type": "code",
   "execution_count": 30,
   "metadata": {},
   "outputs": [
    {
     "data": {
      "text/html": [
       "<div>\n",
       "<style scoped>\n",
       "    .dataframe tbody tr th:only-of-type {\n",
       "        vertical-align: middle;\n",
       "    }\n",
       "\n",
       "    .dataframe tbody tr th {\n",
       "        vertical-align: top;\n",
       "    }\n",
       "\n",
       "    .dataframe thead th {\n",
       "        text-align: right;\n",
       "    }\n",
       "</style>\n",
       "<table border=\"1\" class=\"dataframe\">\n",
       "  <thead>\n",
       "    <tr style=\"text-align: right;\">\n",
       "      <th></th>\n",
       "      <th>country</th>\n",
       "      <th>year</th>\n",
       "      <th>population</th>\n",
       "      <th>life_exp</th>\n",
       "      <th>gdp_cap</th>\n",
       "    </tr>\n",
       "    <tr>\n",
       "      <th>continent</th>\n",
       "      <th></th>\n",
       "      <th></th>\n",
       "      <th></th>\n",
       "      <th></th>\n",
       "      <th></th>\n",
       "    </tr>\n",
       "  </thead>\n",
       "  <tbody>\n",
       "    <tr>\n",
       "      <th>Africa</th>\n",
       "      <td>Algeria</td>\n",
       "      <td>1952</td>\n",
       "      <td>60011</td>\n",
       "      <td>23.599</td>\n",
       "      <td>241.165876</td>\n",
       "    </tr>\n",
       "    <tr>\n",
       "      <th>Americas</th>\n",
       "      <td>Argentina</td>\n",
       "      <td>1952</td>\n",
       "      <td>662850</td>\n",
       "      <td>37.579</td>\n",
       "      <td>1201.637154</td>\n",
       "    </tr>\n",
       "    <tr>\n",
       "      <th>Asia</th>\n",
       "      <td>Afghanistan</td>\n",
       "      <td>1952</td>\n",
       "      <td>120447</td>\n",
       "      <td>28.801</td>\n",
       "      <td>331.000000</td>\n",
       "    </tr>\n",
       "    <tr>\n",
       "      <th>Europe</th>\n",
       "      <td>Albania</td>\n",
       "      <td>1952</td>\n",
       "      <td>147962</td>\n",
       "      <td>43.585</td>\n",
       "      <td>973.533195</td>\n",
       "    </tr>\n",
       "    <tr>\n",
       "      <th>Oceania</th>\n",
       "      <td>Australia</td>\n",
       "      <td>1952</td>\n",
       "      <td>1994794</td>\n",
       "      <td>69.120</td>\n",
       "      <td>10039.595640</td>\n",
       "    </tr>\n",
       "  </tbody>\n",
       "</table>\n",
       "</div>"
      ],
      "text/plain": [
       "               country  year  population  life_exp       gdp_cap\n",
       "continent                                                       \n",
       "Africa         Algeria  1952       60011    23.599    241.165876\n",
       "Americas     Argentina  1952      662850    37.579   1201.637154\n",
       "Asia       Afghanistan  1952      120447    28.801    331.000000\n",
       "Europe         Albania  1952      147962    43.585    973.533195\n",
       "Oceania      Australia  1952     1994794    69.120  10039.595640"
      ]
     },
     "execution_count": 30,
     "metadata": {},
     "output_type": "execute_result"
    }
   ],
   "source": [
    "# минимальное значение для каждой колонки для каждого континента\n",
    "df.groupby(\"continent\").min()"
   ]
  },
  {
   "cell_type": "code",
   "execution_count": 31,
   "metadata": {},
   "outputs": [
    {
     "data": {
      "text/plain": [
       "continent\n",
       "Africa        60011\n",
       "Americas     662850\n",
       "Asia         120447\n",
       "Europe       147962\n",
       "Oceania     1994794\n",
       "Name: population, dtype: int64"
      ]
     },
     "execution_count": 31,
     "metadata": {},
     "output_type": "execute_result"
    }
   ],
   "source": [
    "# минимальное значение численности населения для каждого континента\n",
    "df.groupby(\"continent\").population.min()"
   ]
  },
  {
   "cell_type": "markdown",
   "metadata": {},
   "source": [
    "### `max()`: максимальное значение для каждой группы"
   ]
  },
  {
   "cell_type": "code",
   "execution_count": 32,
   "metadata": {},
   "outputs": [
    {
     "data": {
      "text/html": [
       "<div>\n",
       "<style scoped>\n",
       "    .dataframe tbody tr th:only-of-type {\n",
       "        vertical-align: middle;\n",
       "    }\n",
       "\n",
       "    .dataframe tbody tr th {\n",
       "        vertical-align: top;\n",
       "    }\n",
       "\n",
       "    .dataframe thead th {\n",
       "        text-align: right;\n",
       "    }\n",
       "</style>\n",
       "<table border=\"1\" class=\"dataframe\">\n",
       "  <thead>\n",
       "    <tr style=\"text-align: right;\">\n",
       "      <th></th>\n",
       "      <th>country</th>\n",
       "      <th>year</th>\n",
       "      <th>population</th>\n",
       "      <th>life_exp</th>\n",
       "      <th>gdp_cap</th>\n",
       "    </tr>\n",
       "    <tr>\n",
       "      <th>continent</th>\n",
       "      <th></th>\n",
       "      <th></th>\n",
       "      <th></th>\n",
       "      <th></th>\n",
       "      <th></th>\n",
       "    </tr>\n",
       "  </thead>\n",
       "  <tbody>\n",
       "    <tr>\n",
       "      <th>Africa</th>\n",
       "      <td>Zimbabwe</td>\n",
       "      <td>2007</td>\n",
       "      <td>135031164</td>\n",
       "      <td>76.442</td>\n",
       "      <td>21951.21176</td>\n",
       "    </tr>\n",
       "    <tr>\n",
       "      <th>Americas</th>\n",
       "      <td>Venezuela</td>\n",
       "      <td>2007</td>\n",
       "      <td>301139947</td>\n",
       "      <td>80.653</td>\n",
       "      <td>42951.65309</td>\n",
       "    </tr>\n",
       "    <tr>\n",
       "      <th>Asia</th>\n",
       "      <td>Yemen, Rep.</td>\n",
       "      <td>2007</td>\n",
       "      <td>1318683096</td>\n",
       "      <td>82.603</td>\n",
       "      <td>113523.13290</td>\n",
       "    </tr>\n",
       "    <tr>\n",
       "      <th>Europe</th>\n",
       "      <td>United Kingdom</td>\n",
       "      <td>2007</td>\n",
       "      <td>82400996</td>\n",
       "      <td>81.757</td>\n",
       "      <td>49357.19017</td>\n",
       "    </tr>\n",
       "    <tr>\n",
       "      <th>Oceania</th>\n",
       "      <td>New Zealand</td>\n",
       "      <td>2007</td>\n",
       "      <td>20434176</td>\n",
       "      <td>81.235</td>\n",
       "      <td>34435.36744</td>\n",
       "    </tr>\n",
       "  </tbody>\n",
       "</table>\n",
       "</div>"
      ],
      "text/plain": [
       "                  country  year  population  life_exp       gdp_cap\n",
       "continent                                                          \n",
       "Africa           Zimbabwe  2007   135031164    76.442   21951.21176\n",
       "Americas        Venezuela  2007   301139947    80.653   42951.65309\n",
       "Asia          Yemen, Rep.  2007  1318683096    82.603  113523.13290\n",
       "Europe     United Kingdom  2007    82400996    81.757   49357.19017\n",
       "Oceania       New Zealand  2007    20434176    81.235   34435.36744"
      ]
     },
     "execution_count": 32,
     "metadata": {},
     "output_type": "execute_result"
    }
   ],
   "source": [
    "# максимальное значение для каждой колонки для каждого континента\n",
    "df.groupby(\"continent\").max()"
   ]
  },
  {
   "cell_type": "code",
   "execution_count": 33,
   "metadata": {},
   "outputs": [
    {
     "data": {
      "text/plain": [
       "continent\n",
       "Africa       135031164\n",
       "Americas     301139947\n",
       "Asia        1318683096\n",
       "Europe        82400996\n",
       "Oceania       20434176\n",
       "Name: population, dtype: int64"
      ]
     },
     "execution_count": 33,
     "metadata": {},
     "output_type": "execute_result"
    }
   ],
   "source": [
    "# максимальное значение численности населения для каждого континента\n",
    "df.groupby(\"continent\").population.max()"
   ]
  },
  {
   "cell_type": "code",
   "execution_count": null,
   "metadata": {},
   "outputs": [],
   "source": []
  },
  {
   "cell_type": "code",
   "execution_count": null,
   "metadata": {},
   "outputs": [],
   "source": []
  },
  {
   "cell_type": "code",
   "execution_count": null,
   "metadata": {},
   "outputs": [],
   "source": []
  },
  {
   "cell_type": "code",
   "execution_count": null,
   "metadata": {},
   "outputs": [],
   "source": []
  },
  {
   "cell_type": "code",
   "execution_count": 34,
   "metadata": {
    "collapsed": false,
    "jupyter": {
     "outputs_hidden": false
    },
    "pycharm": {
     "name": "#%%\n"
    }
   },
   "outputs": [
    {
     "ename": "KeyError",
     "evalue": "'Sex'",
     "output_type": "error",
     "traceback": [
      "\u001B[0;31m---------------------------------------------------------------------------\u001B[0m",
      "\u001B[0;31mKeyError\u001B[0m                                  Traceback (most recent call last)",
      "\u001B[0;32m<ipython-input-34-c7ee1f6dc319>\u001B[0m in \u001B[0;36m<module>\u001B[0;34m\u001B[0m\n\u001B[1;32m      1\u001B[0m \u001B[0;31m# доля выживших для каждого пола\u001B[0m\u001B[0;34m\u001B[0m\u001B[0;34m\u001B[0m\u001B[0;34m\u001B[0m\u001B[0m\n\u001B[0;32m----> 2\u001B[0;31m \u001B[0mdf\u001B[0m\u001B[0;34m.\u001B[0m\u001B[0mgroupby\u001B[0m\u001B[0;34m(\u001B[0m\u001B[0;34m'Sex'\u001B[0m\u001B[0;34m)\u001B[0m\u001B[0;34m[\u001B[0m\u001B[0;34m[\u001B[0m\u001B[0;34m'Survived'\u001B[0m\u001B[0;34m]\u001B[0m\u001B[0;34m]\u001B[0m\u001B[0;34m.\u001B[0m\u001B[0mmean\u001B[0m\u001B[0;34m(\u001B[0m\u001B[0;34m)\u001B[0m\u001B[0;34m\u001B[0m\u001B[0;34m\u001B[0m\u001B[0m\n\u001B[0m",
      "\u001B[0;32m~/anaconda3/envs/LevelUp_DataScience/lib/python3.8/site-packages/pandas/core/frame.py\u001B[0m in \u001B[0;36mgroupby\u001B[0;34m(self, by, axis, level, as_index, sort, group_keys, squeeze, observed, dropna)\u001B[0m\n\u001B[1;32m   6712\u001B[0m         \u001B[0maxis\u001B[0m \u001B[0;34m=\u001B[0m \u001B[0mself\u001B[0m\u001B[0;34m.\u001B[0m\u001B[0m_get_axis_number\u001B[0m\u001B[0;34m(\u001B[0m\u001B[0maxis\u001B[0m\u001B[0;34m)\u001B[0m\u001B[0;34m\u001B[0m\u001B[0;34m\u001B[0m\u001B[0m\n\u001B[1;32m   6713\u001B[0m \u001B[0;34m\u001B[0m\u001B[0m\n\u001B[0;32m-> 6714\u001B[0;31m         return DataFrameGroupBy(\n\u001B[0m\u001B[1;32m   6715\u001B[0m             \u001B[0mobj\u001B[0m\u001B[0;34m=\u001B[0m\u001B[0mself\u001B[0m\u001B[0;34m,\u001B[0m\u001B[0;34m\u001B[0m\u001B[0;34m\u001B[0m\u001B[0m\n\u001B[1;32m   6716\u001B[0m             \u001B[0mkeys\u001B[0m\u001B[0;34m=\u001B[0m\u001B[0mby\u001B[0m\u001B[0;34m,\u001B[0m\u001B[0;34m\u001B[0m\u001B[0;34m\u001B[0m\u001B[0m\n",
      "\u001B[0;32m~/anaconda3/envs/LevelUp_DataScience/lib/python3.8/site-packages/pandas/core/groupby/groupby.py\u001B[0m in \u001B[0;36m__init__\u001B[0;34m(self, obj, keys, axis, level, grouper, exclusions, selection, as_index, sort, group_keys, squeeze, observed, mutated, dropna)\u001B[0m\n\u001B[1;32m    558\u001B[0m             \u001B[0;32mfrom\u001B[0m \u001B[0mpandas\u001B[0m\u001B[0;34m.\u001B[0m\u001B[0mcore\u001B[0m\u001B[0;34m.\u001B[0m\u001B[0mgroupby\u001B[0m\u001B[0;34m.\u001B[0m\u001B[0mgrouper\u001B[0m \u001B[0;32mimport\u001B[0m \u001B[0mget_grouper\u001B[0m\u001B[0;34m\u001B[0m\u001B[0;34m\u001B[0m\u001B[0m\n\u001B[1;32m    559\u001B[0m \u001B[0;34m\u001B[0m\u001B[0m\n\u001B[0;32m--> 560\u001B[0;31m             grouper, exclusions, obj = get_grouper(\n\u001B[0m\u001B[1;32m    561\u001B[0m                 \u001B[0mobj\u001B[0m\u001B[0;34m,\u001B[0m\u001B[0;34m\u001B[0m\u001B[0;34m\u001B[0m\u001B[0m\n\u001B[1;32m    562\u001B[0m                 \u001B[0mkeys\u001B[0m\u001B[0;34m,\u001B[0m\u001B[0;34m\u001B[0m\u001B[0;34m\u001B[0m\u001B[0m\n",
      "\u001B[0;32m~/anaconda3/envs/LevelUp_DataScience/lib/python3.8/site-packages/pandas/core/groupby/grouper.py\u001B[0m in \u001B[0;36mget_grouper\u001B[0;34m(obj, key, axis, level, sort, observed, mutated, validate, dropna)\u001B[0m\n\u001B[1;32m    809\u001B[0m                 \u001B[0min_axis\u001B[0m\u001B[0;34m,\u001B[0m \u001B[0mname\u001B[0m\u001B[0;34m,\u001B[0m \u001B[0mlevel\u001B[0m\u001B[0;34m,\u001B[0m \u001B[0mgpr\u001B[0m \u001B[0;34m=\u001B[0m \u001B[0;32mFalse\u001B[0m\u001B[0;34m,\u001B[0m \u001B[0;32mNone\u001B[0m\u001B[0;34m,\u001B[0m \u001B[0mgpr\u001B[0m\u001B[0;34m,\u001B[0m \u001B[0;32mNone\u001B[0m\u001B[0;34m\u001B[0m\u001B[0;34m\u001B[0m\u001B[0m\n\u001B[1;32m    810\u001B[0m             \u001B[0;32melse\u001B[0m\u001B[0;34m:\u001B[0m\u001B[0;34m\u001B[0m\u001B[0;34m\u001B[0m\u001B[0m\n\u001B[0;32m--> 811\u001B[0;31m                 \u001B[0;32mraise\u001B[0m \u001B[0mKeyError\u001B[0m\u001B[0;34m(\u001B[0m\u001B[0mgpr\u001B[0m\u001B[0;34m)\u001B[0m\u001B[0;34m\u001B[0m\u001B[0;34m\u001B[0m\u001B[0m\n\u001B[0m\u001B[1;32m    812\u001B[0m         \u001B[0;32melif\u001B[0m \u001B[0misinstance\u001B[0m\u001B[0;34m(\u001B[0m\u001B[0mgpr\u001B[0m\u001B[0;34m,\u001B[0m \u001B[0mGrouper\u001B[0m\u001B[0;34m)\u001B[0m \u001B[0;32mand\u001B[0m \u001B[0mgpr\u001B[0m\u001B[0;34m.\u001B[0m\u001B[0mkey\u001B[0m \u001B[0;32mis\u001B[0m \u001B[0;32mnot\u001B[0m \u001B[0;32mNone\u001B[0m\u001B[0;34m:\u001B[0m\u001B[0;34m\u001B[0m\u001B[0;34m\u001B[0m\u001B[0m\n\u001B[1;32m    813\u001B[0m             \u001B[0;31m# Add key to exclusions\u001B[0m\u001B[0;34m\u001B[0m\u001B[0;34m\u001B[0m\u001B[0;34m\u001B[0m\u001B[0m\n",
      "\u001B[0;31mKeyError\u001B[0m: 'Sex'"
     ]
    }
   ],
   "source": [
    "# доля выживших для каждого пола\n",
    "df.groupby('Sex')[['Survived']].mean()"
   ]
  },
  {
   "cell_type": "code",
   "execution_count": null,
   "metadata": {
    "collapsed": false,
    "jupyter": {
     "outputs_hidden": false
    },
    "pycharm": {
     "name": "#%%\n"
    }
   },
   "outputs": [],
   "source": [
    "# взаимосвязь между показателем выживаемости, полом и классом\n",
    "df.groupby(['Sex', 'Pclass'])['Survived'].aggregate('mean').unstack()"
   ]
  },
  {
   "cell_type": "code",
   "execution_count": null,
   "metadata": {
    "collapsed": false,
    "jupyter": {
     "outputs_hidden": false
    },
    "pycharm": {
     "name": "#%%\n"
    }
   },
   "outputs": [],
   "source": [
    "# если без unstack()\n",
    "df.groupby(['Sex', 'Pclass'])['Survived'].aggregate('mean')"
   ]
  },
  {
   "cell_type": "markdown",
   "metadata": {},
   "source": [
    "Хотя каждый шаг этой последовательности вполне понятен, тем не менее длинную строку кода достаточно трудно читать и использовать.\n",
    "\n",
    "Подобные операции широко распространены, в связи с чем библиотека `pandas` имеет в своем составе специальный метод `pivot_table,` лаконично реализующий данный тип многомерной агрегации."
   ]
  },
  {
   "cell_type": "markdown",
   "metadata": {},
   "source": [
    "## Что такое сводная таблица?\n",
    "\n",
    "**Сводная таблица (англ. Pivot table)** — инструмент обработки данных, служащий для их обобщения.\n",
    "\n",
    "\n",
    "*Термин \"сводная таблица\" может быть знаком из `Microsoft Excel` или любым иным, предназначенным для обработки и анализа данных. \n",
    "\n",
    "\n",
    "В `pandas` сводные таблицы строятся через метод `DataFrame.pivot_table`."
   ]
  },
  {
   "cell_type": "code",
   "execution_count": null,
   "metadata": {
    "collapsed": false,
    "jupyter": {
     "outputs_hidden": false
    },
    "pycharm": {
     "name": "#%%\n"
    }
   },
   "outputs": [],
   "source": [
    "# взаимосвязь между показателем выживаемости, полом и классом\n",
    "df.pivot_table(values='Survived', \n",
    "                       index='Sex', \n",
    "                       columns='Pclass')"
   ]
  },
  {
   "cell_type": "code",
   "execution_count": null,
   "metadata": {
    "collapsed": false,
    "jupyter": {
     "outputs_hidden": false
    },
    "pycharm": {
     "name": "#%%\n"
    }
   },
   "outputs": [],
   "source": [
    "# посчитать сколько всего женщин и мужчин было в конкретном классе каюты\n",
    "pvt = df.pivot_table(index=['Sex'], \n",
    "                             columns=['Pclass'], \n",
    "                             values='Name', \n",
    "                             aggfunc='count')\n",
    "\n",
    "pvt"
   ]
  },
  {
   "cell_type": "code",
   "execution_count": null,
   "metadata": {
    "collapsed": false,
    "jupyter": {
     "outputs_hidden": false
    },
    "pycharm": {
     "name": "#%%\n"
    }
   },
   "outputs": [],
   "source": [
    "# качестве индекса будет пол человека, \n",
    "# колонками станут значения из Pclass, \n",
    "# функцией агрегирования будет count по колонке Name.\n",
    "pvt.loc['female', [1, 2, 3]]"
   ]
  },
  {
   "cell_type": "markdown",
   "metadata": {},
   "source": [
    "## Многоуровневые сводные таблицы\n",
    "\n",
    "Точно так же, как при использовании `groupby`, группирование в сводной таблице может иметь несколько уровней и задаваться посредством различных параметров."
   ]
  },
  {
   "cell_type": "code",
   "execution_count": null,
   "metadata": {
    "collapsed": false,
    "jupyter": {
     "outputs_hidden": false
    },
    "pycharm": {
     "name": "#%%\n"
    }
   },
   "outputs": [],
   "source": [
    "# разделить возраст на интервалы\n",
    "age = pd.cut(df['Age'], [0, 18, 80])\n",
    "\n",
    "age"
   ]
  },
  {
   "cell_type": "code",
   "execution_count": null,
   "metadata": {
    "collapsed": false,
    "jupyter": {
     "outputs_hidden": false
    },
    "pycharm": {
     "name": "#%%\n"
    }
   },
   "outputs": [],
   "source": [
    "# взаимосвязь между \n",
    "# показателем выживаемости, полом, классом и возрастом\n",
    "df.pivot_table(values='Survived', \n",
    "                       index=['Sex', age], \n",
    "                       columns='Pclass')"
   ]
  },
  {
   "cell_type": "code",
   "execution_count": null,
   "metadata": {
    "collapsed": false,
    "jupyter": {
     "outputs_hidden": false
    },
    "pycharm": {
     "name": "#%%\n"
    }
   },
   "outputs": [],
   "source": [
    "# добавить информацию о стоимости билета (квантили):\n",
    "fare = pd.qcut(df['Fare'], 2)\n",
    "\n",
    "fare"
   ]
  },
  {
   "cell_type": "code",
   "execution_count": null,
   "metadata": {
    "collapsed": false,
    "jupyter": {
     "outputs_hidden": false
    },
    "pycharm": {
     "name": "#%%\n"
    }
   },
   "outputs": [],
   "source": [
    "df.pivot_table(values='Survived', \n",
    "                       index=['Sex', age], \n",
    "                       columns=[fare, 'Pclass'],\n",
    "                       aggfunc='count')"
   ]
  },
  {
   "cell_type": "markdown",
   "metadata": {},
   "source": [
    "В результате получили четырехмерную агрегацию, демонстрирующую взаимосвязь между соответствующими величинами."
   ]
  },
  {
   "cell_type": "markdown",
   "metadata": {},
   "source": [
    "## Дополнительные параметры сводной таблицы\n",
    "\n",
    "Полная [сигнатура метода `pivot_table`](https://pandas.pydata.org/pandas-docs/stable/reference/api/pandas.pivot_table.html) объекта `DataFrame` является следующей:\n",
    "\n",
    "```\n",
    "pandas.pivot_table(values=None, \n",
    "                   index=None, \n",
    "                   columns=None, \n",
    "                   aggfunc='mean', \n",
    "                   fill_value=None, \n",
    "                   margins=False, \n",
    "                   dropna=True, \n",
    "                   margins_name='All', \n",
    "                   observed=False)\n",
    "```\n",
    "\n",
    "\n",
    "Параметры **`fill_value`** и **`dropna`** задают способ обработки отсутствующих данных. \n",
    "\n",
    "Параметр **`aggfunc`** задает тип агрегации. По умолчанию его значение равно `mean`. Как и в случае `groupby`, тип агрегации можно задать либо с помощью предопределенной строки (например, `sum`, `mean`, `count`, `min`, `max` и др.), либо посредством функции, реализующей агрегацию (например, `np.sum()`, `min()`, `sum()` и др.).\n",
    "\n",
    "Кроме того, параметр **`aggfunc`** может быть задан в виде словаря, *отображающего* столбцы на любые из желаемых значений, перечисленных выше:"
   ]
  },
  {
   "cell_type": "code",
   "execution_count": null,
   "metadata": {
    "collapsed": false,
    "jupyter": {
     "outputs_hidden": false
    },
    "pycharm": {
     "name": "#%%\n"
    }
   },
   "outputs": [],
   "source": [
    "# в данном случае не задается параметр values, \n",
    "# так как values задается автоматически, \n",
    "# когда параметр aggfunc представлен в виде отображения\n",
    "df.pivot_table(index='Sex', \n",
    "                       columns='Pclass', \n",
    "                       aggfunc={'Survived': sum, \n",
    "                                'Fare': 'mean'})"
   ]
  },
  {
   "cell_type": "markdown",
   "metadata": {
    "jupyter": {
     "outputs_hidden": false
    },
    "pycharm": {
     "name": "#%%\n"
    }
   },
   "source": [
    "С помощью параметра **`margins`** можно вычислить обобщенные значения по каждой группе."
   ]
  },
  {
   "cell_type": "code",
   "execution_count": null,
   "metadata": {},
   "outputs": [],
   "source": [
    "df.pivot_table(values='Survived', \n",
    "                       index='Sex', \n",
    "                       columns='Pclass', \n",
    "                       aggfunc='count',\n",
    "                       margins=True)"
   ]
  }
 ],
 "metadata": {
  "kernelspec": {
   "display_name": "Python [conda env:LevelUp_DataScience] *",
   "language": "python",
   "name": "conda-env-LevelUp_DataScience-py"
  },
  "language_info": {
   "codemirror_mode": {
    "name": "ipython",
    "version": 3
   },
   "file_extension": ".py",
   "mimetype": "text/x-python",
   "name": "python",
   "nbconvert_exporter": "python",
   "pygments_lexer": "ipython3",
   "version": "3.8.3"
  }
 },
 "nbformat": 4,
 "nbformat_minor": 4
}