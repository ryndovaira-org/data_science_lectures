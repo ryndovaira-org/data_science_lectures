{
 "cells": [
  {
   "cell_type": "markdown",
   "metadata": {},
   "source": [
    "# Пакет `pandas`: Описательная статистика"
   ]
  },
  {
   "cell_type": "markdown",
   "metadata": {},
   "source": [
    "---\n",
    "\n",
    "**Источники:**\n",
    "\n",
    "[Описательная статистика](https://ru.wikipedia.org/wiki/%D0%9E%D0%BF%D0%B8%D1%81%D0%B0%D1%82%D0%B5%D0%BB%D1%8C%D0%BD%D0%B0%D1%8F_%D1%81%D1%82%D0%B0%D1%82%D0%B8%D1%81%D1%82%D0%B8%D0%BA%D0%B0)\n",
    "\n",
    "[Описательная статистика на Python (часть 1)](http://chel-center.ru/python-yfc/2020/02/11/opisatelnaya-statistika-na-python-chast-1/)\n",
    "\n",
    "[Основы статистики с Python: описательная статистика](https://tproger.ru/translations/basic-statistics-in-python-descriptive-statistics/)\n",
    "\n",
    "[Описательная статистика с использованием Pandas](https://ichi.pro/ru/opisatel-naa-statistika-s-ispol-zovaniem-pandas-201093265076673)\n",
    "\n",
    "[Шпаргалка по pandas](https://habr.com/ru/company/ruvds/blog/494720/)\n",
    "\n",
    "---"
   ]
  },
  {
   "cell_type": "code",
   "execution_count": 1,
   "metadata": {
    "collapsed": false,
    "jupyter": {
     "outputs_hidden": false
    },
    "pycharm": {
     "name": "#%%\n"
    }
   },
   "outputs": [
    {
     "name": "stdout",
     "output_type": "stream",
     "text": [
      "pip 20.3 from /home/ira/anaconda3/envs/LevelUp_DataScience/lib/python3.8/site-packages/pip (python 3.8)\n"
     ]
    }
   ],
   "source": [
    "# ВНИМАНИЕ: необходимо удостовериться, что виртуальная среда выбрана правильно!\n",
    "\n",
    "!pip -V"
   ]
  },
  {
   "cell_type": "code",
   "execution_count": 2,
   "metadata": {
    "collapsed": false,
    "jupyter": {
     "outputs_hidden": false
    },
    "pycharm": {
     "name": "#%%\n"
    }
   },
   "outputs": [
    {
     "name": "stdout",
     "output_type": "stream",
     "text": [
      "Collecting package metadata (current_repodata.json): done\n",
      "Solving environment: done\n",
      "\n",
      "# All requested packages already installed.\n",
      "\n"
     ]
    }
   ],
   "source": [
    "!conda install pandas -y"
   ]
  },
  {
   "cell_type": "code",
   "execution_count": 3,
   "metadata": {
    "collapsed": false,
    "jupyter": {
     "outputs_hidden": false
    },
    "pycharm": {
     "name": "#%%\n"
    }
   },
   "outputs": [
    {
     "data": {
      "text/plain": [
       "'1.2.1'"
      ]
     },
     "execution_count": 3,
     "metadata": {},
     "output_type": "execute_result"
    }
   ],
   "source": [
    "import pandas as pd\n",
    "\n",
    "pd.__version__"
   ]
  },
  {
   "cell_type": "markdown",
   "metadata": {},
   "source": [
    "## Что такое описательная статистика?\n",
    "\n",
    "**Описательная статистика** или **дескриптивная статистика** (англ. **descriptive statistics**) занимается обработкой эмпирических данных, их систематизацией, наглядным представлением в форме графиков и таблиц, а также их количественным описанием посредством основных статистических показателей.\n",
    "\n",
    "Противопоставляется **статистическому выводу** в том смысле, что не делает выводов о генеральной совокупности на основании результатов исследования частных случаев. **Статистический вывод** же предполагает, что свойства и закономерности, выявленные при исследовании объектов выборки, также присущи генеральной совокупности.\n",
    "\n",
    "\n",
    "**Описательная статистика использует** три основных метода агрегирования данных:\n",
    "- Табличное представление\n",
    "- Графическое изображение\n",
    "- Расчет статистических показателей"
   ]
  },
  {
   "cell_type": "markdown",
   "metadata": {},
   "source": [
    "## Основные статистические показатели\n",
    "\n",
    "### Меры среднего уровня\n",
    "**Меры среднего уровня** дают усредненную характеристику совокупности объектов по определенному признаку.\n",
    "- Среднее значение\n",
    "- Стандартная ошибка\n",
    "- Стандартное отклонение\n",
    "- Эксцесс\n",
    "- Асимметрия\n",
    "- Интервал\n",
    "- Минимум\n",
    "- Максимум\n",
    "- Счёт\n",
    "- Медиана\n",
    "- Мода\n",
    "- Квантиль\n",
    "- Математическое ожидание\n",
    "- Доверительный интервал\n",
    "\n",
    "### Меры рассеяния\n",
    "**Меры рассеяния** показывают, насколько хорошо данные значения представляют данную совокупность.\n",
    "- Дисперсия случайной величины\n",
    "- Среднеквадратическое отклонение\n",
    "- Размах вариации\n",
    "- Интерквантильный размах\n",
    "- Среднее абсолютное отклонение"
   ]
  },
  {
   "cell_type": "code",
   "execution_count": 1,
   "metadata": {},
   "outputs": [],
   "source": [
    "# pandas.describe()"
   ]
  },
  {
   "cell_type": "code",
   "execution_count": null,
   "metadata": {},
   "outputs": [],
   "source": []
  }
 ],
 "metadata": {
  "kernelspec": {
   "display_name": "Python [conda env:LevelUp_DataScience] *",
   "language": "python",
   "name": "conda-env-LevelUp_DataScience-py"
  },
  "language_info": {
   "codemirror_mode": {
    "name": "ipython",
    "version": 3
   },
   "file_extension": ".py",
   "mimetype": "text/x-python",
   "name": "python",
   "nbconvert_exporter": "python",
   "pygments_lexer": "ipython3",
   "version": "3.8.3"
  }
 },
 "nbformat": 4,
 "nbformat_minor": 4
}
