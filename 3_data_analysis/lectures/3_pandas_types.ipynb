{
 "cells": [
  {
   "cell_type": "markdown",
   "metadata": {},
   "source": [
    "# Пакеты `pandas` и `numpy`: типы данных"
   ]
  },
  {
   "cell_type": "markdown",
   "metadata": {},
   "source": [
    "\n",
    "---\n",
    "\n",
    "**Источники:**\n",
    "\n",
    "\n",
    "[what are all the dtypes that pandas recognizes?](https://stackoverflow.com/questions/29245848/what-are-all-the-dtypes-that-pandas-recognizes)\n",
    "\n",
    "[numpy.dtype](https://numpy.org/doc/stable/reference/generated/numpy.dtype.html#numpy.dtype)\n",
    "\n",
    "[Data types](https://numpy.org/doc/stable/user/basics.types.html)\n",
    "\n",
    "[Data type objects (dtype)](https://numpy.org/doc/stable/reference/arrays.dtypes.html#arrays-dtypes)\n",
    "\n",
    "[Scalars](https://docs.scipy.org/doc/numpy-1.13.0/reference/arrays.scalars.html)\n",
    "\n",
    "[Categorical data](https://pandas.pydata.org/pandas-docs/stable/user_guide/categorical.html)\n",
    "\n",
    "[Essential basic functionality](https://pandas.pydata.org/pandas-docs/stable/user_guide/basics.html)\n",
    "\n",
    "[Extension types](https://pandas.pydata.org/pandas-docs/stable/development/extending.html#extending-extension-types)\n",
    "\n",
    "---"
   ]
  },
  {
   "cell_type": "markdown",
   "metadata": {},
   "source": [
    "## Подготовка окружения"
   ]
  },
  {
   "cell_type": "code",
   "execution_count": 1,
   "metadata": {
    "collapsed": false,
    "jupyter": {
     "outputs_hidden": false
    },
    "pycharm": {
     "name": "#%%\n"
    }
   },
   "outputs": [
    {
     "name": "stdout",
     "output_type": "stream",
     "text": [
      "pip 20.3.3 from /home/ira/anaconda3/envs/LevelUp_DataScience/lib/python3.8/site-packages/pip (python 3.8)\n"
     ]
    }
   ],
   "source": [
    "# ВНИМАНИЕ: необходимо удостовериться, что виртуальная среда выбрана правильно!\n",
    "\n",
    "!pip -V"
   ]
  },
  {
   "cell_type": "code",
   "execution_count": 2,
   "metadata": {
    "collapsed": false,
    "jupyter": {
     "outputs_hidden": false
    },
    "pycharm": {
     "name": "#%%\n"
    }
   },
   "outputs": [],
   "source": [
    "# !conda install pandas numpy lxml -y"
   ]
  },
  {
   "cell_type": "code",
   "execution_count": 3,
   "metadata": {},
   "outputs": [
    {
     "data": {
      "text/plain": [
       "'1.19.2'"
      ]
     },
     "execution_count": 3,
     "metadata": {},
     "output_type": "execute_result"
    }
   ],
   "source": [
    "import numpy as np\n",
    "\n",
    "np.__version__"
   ]
  },
  {
   "cell_type": "code",
   "execution_count": 4,
   "metadata": {
    "collapsed": false,
    "jupyter": {
     "outputs_hidden": false
    },
    "pycharm": {
     "name": "#%%\n"
    }
   },
   "outputs": [
    {
     "data": {
      "text/plain": [
       "'1.2.1'"
      ]
     },
     "execution_count": 4,
     "metadata": {},
     "output_type": "execute_result"
    }
   ],
   "source": [
    "import pandas as pd\n",
    "\n",
    "pd.__version__"
   ]
  },
  {
   "cell_type": "markdown",
   "metadata": {},
   "source": [
    "## Обзор типов данных\n",
    "\n",
    "**`Pandas` в основном использует массивы и типы `NumPy`** для каждой серии (фрейм данных - это набор серий, каждая из которых может иметь свой собственный `dtype`).\n",
    "\n",
    "Документация `NumPy` дополнительно объясняет [`dtype`](https://numpy.org/doc/stable/reference/generated/numpy.dtype.html#numpy.dtype), [`Data types`](https://numpy.org/doc/stable/user/basics.types.html) и [`Data type objects (dtype)`](https://numpy.org/doc/stable/reference/arrays.dtypes.html#arrays-dtypes).\n"
   ]
  },
  {
   "cell_type": "code",
   "execution_count": 5,
   "metadata": {},
   "outputs": [
    {
     "data": {
      "text/html": [
       "<div>\n",
       "<style scoped>\n",
       "    .dataframe tbody tr th:only-of-type {\n",
       "        vertical-align: middle;\n",
       "    }\n",
       "\n",
       "    .dataframe tbody tr th {\n",
       "        vertical-align: top;\n",
       "    }\n",
       "\n",
       "    .dataframe thead th {\n",
       "        text-align: right;\n",
       "    }\n",
       "</style>\n",
       "<table border=\"1\" class=\"dataframe\">\n",
       "  <thead>\n",
       "    <tr style=\"text-align: right;\">\n",
       "      <th></th>\n",
       "      <th>A</th>\n",
       "    </tr>\n",
       "  </thead>\n",
       "  <tbody>\n",
       "    <tr>\n",
       "      <th>0</th>\n",
       "      <td>1</td>\n",
       "    </tr>\n",
       "    <tr>\n",
       "      <th>1</th>\n",
       "      <td>C</td>\n",
       "    </tr>\n",
       "    <tr>\n",
       "      <th>2</th>\n",
       "      <td>2.0</td>\n",
       "    </tr>\n",
       "  </tbody>\n",
       "</table>\n",
       "</div>"
      ],
      "text/plain": [
       "     A\n",
       "0    1\n",
       "1    C\n",
       "2  2.0"
      ]
     },
     "execution_count": 5,
     "metadata": {},
     "output_type": "execute_result"
    }
   ],
   "source": [
    "df = pd.DataFrame({'A': [1, 'C', 2.]})\n",
    "\n",
    "df"
   ]
  },
  {
   "cell_type": "code",
   "execution_count": 6,
   "metadata": {},
   "outputs": [
    {
     "data": {
      "text/plain": [
       "0      1\n",
       "1      C\n",
       "2    2.0\n",
       "Name: A, dtype: object"
      ]
     },
     "execution_count": 6,
     "metadata": {},
     "output_type": "execute_result"
    }
   ],
   "source": [
    "df['A']"
   ]
  },
  {
   "cell_type": "code",
   "execution_count": 7,
   "metadata": {},
   "outputs": [
    {
     "data": {
      "text/plain": [
       "dtype('O')"
      ]
     },
     "execution_count": 7,
     "metadata": {},
     "output_type": "execute_result"
    }
   ],
   "source": [
    "df['A'].dtype"
   ]
  },
  {
   "cell_type": "code",
   "execution_count": 8,
   "metadata": {},
   "outputs": [
    {
     "data": {
      "text/plain": [
       "numpy.dtype"
      ]
     },
     "execution_count": 8,
     "metadata": {},
     "output_type": "execute_result"
    }
   ],
   "source": [
    "type(df['A'].dtype)"
   ]
  },
  {
   "cell_type": "markdown",
   "metadata": {},
   "source": [
    "По умолчанию `int` - это `int64`, а `float` - `float64`, НЕЗАВИСИМО от платформы (32-разрядная или 64-разрядная)."
   ]
  },
  {
   "cell_type": "code",
   "execution_count": 9,
   "metadata": {},
   "outputs": [
    {
     "data": {
      "text/plain": [
       "a    int64\n",
       "dtype: object"
      ]
     },
     "execution_count": 9,
     "metadata": {},
     "output_type": "execute_result"
    }
   ],
   "source": [
    "pd.DataFrame([1, 2], columns=[\"a\"]).dtypes"
   ]
  },
  {
   "cell_type": "code",
   "execution_count": 10,
   "metadata": {},
   "outputs": [
    {
     "data": {
      "text/plain": [
       "a    int64\n",
       "dtype: object"
      ]
     },
     "execution_count": 10,
     "metadata": {},
     "output_type": "execute_result"
    }
   ],
   "source": [
    "pd.DataFrame({\"a\": [1, 2]}).dtypes"
   ]
  },
  {
   "cell_type": "code",
   "execution_count": 11,
   "metadata": {},
   "outputs": [
    {
     "data": {
      "text/plain": [
       "a    int64\n",
       "dtype: object"
      ]
     },
     "execution_count": 11,
     "metadata": {},
     "output_type": "execute_result"
    }
   ],
   "source": [
    "pd.DataFrame({\"a\": 1}, index=list(range(2))).dtypes"
   ]
  },
  {
   "cell_type": "markdown",
   "metadata": {},
   "source": [
    "`Numpy`, однако, выберет платформо-зависимые типы *при создании массивов*. Следующее будет результатом int32 на 32-битной платформе."
   ]
  },
  {
   "cell_type": "code",
   "execution_count": 12,
   "metadata": {},
   "outputs": [
    {
     "data": {
      "text/plain": [
       "0    int64\n",
       "dtype: object"
      ]
     },
     "execution_count": 12,
     "metadata": {},
     "output_type": "execute_result"
    }
   ],
   "source": [
    "pd.DataFrame(np.array([1, 2])).dtypes"
   ]
  },
  {
   "cell_type": "markdown",
   "metadata": {},
   "source": [
    "Одним из основных изменений в версии 1.0.0 `pandas` является введение `pd.NA` для представления скалярных пропущенных значений (а не предыдущих значений `np.nan`, `pd.NaT` или `None`, в зависимости от использования)."
   ]
  },
  {
   "cell_type": "markdown",
   "metadata": {},
   "source": [
    "## Пакет `numpy`: типы данных\n",
    "\n",
    "\n",
    "`Python` определяет только один тип определенного класса данных (существует только один целочисленный тип, один тип с плавающей запятой и т.д.).\n",
    "\n",
    "Это может быть удобно в приложениях, которым не нужно заботиться обо всех способах представления данных на компьютере.\n",
    "\n",
    "Однако для научных вычислений часто требуется больше контроля.\n",
    "\n",
    "\n",
    "В `NumPy` есть `24` фундаментальных типа `Python` для описания различных типов скаляров.\n",
    "\n",
    "Эти типы в основном основаны на типах, доступных в языке `C`, на котором написан `CPython`, с несколькими дополнительными типами, совместимыми с типами `Python`.\n",
    "\n",
    "Хотя скаляры массива неизменяемы (immutable ), поэтому ни один из скалярных атрибутов массива не может быть установлен."
   ]
  },
  {
   "cell_type": "markdown",
   "metadata": {},
   "source": [
    "<img src=\"images/dtype_hierarchy.png\"/>"
   ]
  },
  {
   "cell_type": "code",
   "execution_count": 13,
   "metadata": {},
   "outputs": [
    {
     "data": {
      "text/plain": [
       "[numpy.generic,\n",
       " [[numpy.number,\n",
       "   [[numpy.integer,\n",
       "     [[numpy.signedinteger,\n",
       "       [numpy.int8,\n",
       "        numpy.int16,\n",
       "        numpy.int32,\n",
       "        numpy.int64,\n",
       "        numpy.longlong,\n",
       "        numpy.timedelta64]],\n",
       "      [numpy.unsignedinteger,\n",
       "       [numpy.uint8,\n",
       "        numpy.uint16,\n",
       "        numpy.uint32,\n",
       "        numpy.uint64,\n",
       "        numpy.ulonglong]]]],\n",
       "    [numpy.inexact,\n",
       "     [[numpy.floating,\n",
       "       [numpy.float16, numpy.float32, numpy.float64, numpy.float128]],\n",
       "      [numpy.complexfloating,\n",
       "       [numpy.complex64, numpy.complex128, numpy.complex256]]]]]],\n",
       "  [numpy.flexible,\n",
       "   [[numpy.character, [numpy.bytes_, numpy.str_]],\n",
       "    [numpy.void, [numpy.record]]]],\n",
       "  numpy.bool_,\n",
       "  numpy.datetime64,\n",
       "  numpy.object_]]"
      ]
     },
     "execution_count": 13,
     "metadata": {},
     "output_type": "execute_result"
    }
   ],
   "source": [
    "def subdtypes(dtype):\n",
    "    subs = dtype.__subclasses__()\n",
    "    if not subs:\n",
    "        return dtype\n",
    "    return [dtype, [subdtypes(dt) for dt in subs]]\n",
    "\n",
    "subdtypes(np.generic)"
   ]
  },
  {
   "cell_type": "code",
   "execution_count": 14,
   "metadata": {},
   "outputs": [
    {
     "data": {
      "text/plain": [
       "1.0"
      ]
     },
     "execution_count": 14,
     "metadata": {},
     "output_type": "execute_result"
    }
   ],
   "source": [
    "np.float32(1.0)"
   ]
  },
  {
   "cell_type": "code",
   "execution_count": 15,
   "metadata": {},
   "outputs": [
    {
     "data": {
      "text/plain": [
       "array([1, 2, 4])"
      ]
     },
     "execution_count": 15,
     "metadata": {},
     "output_type": "execute_result"
    }
   ],
   "source": [
    "np.int_([1,2,4])"
   ]
  },
  {
   "cell_type": "code",
   "execution_count": 16,
   "metadata": {},
   "outputs": [
    {
     "data": {
      "text/plain": [
       "array([0, 1, 2], dtype=uint8)"
      ]
     },
     "execution_count": 16,
     "metadata": {},
     "output_type": "execute_result"
    }
   ],
   "source": [
    "z = np.arange(3, dtype=np.uint8)\n",
    "z"
   ]
  },
  {
   "cell_type": "markdown",
   "metadata": {},
   "source": [
    "Чтобы преобразовать тип массива, используйте метод `.astype()` (предпочтительно) или сам тип как функцию."
   ]
  },
  {
   "cell_type": "code",
   "execution_count": 17,
   "metadata": {},
   "outputs": [
    {
     "data": {
      "text/plain": [
       "array([0., 1., 2.])"
      ]
     },
     "execution_count": 17,
     "metadata": {},
     "output_type": "execute_result"
    }
   ],
   "source": [
    "# предпочтительно\n",
    "z = z.astype(float)  \n",
    "z"
   ]
  },
  {
   "cell_type": "code",
   "execution_count": 18,
   "metadata": {},
   "outputs": [
    {
     "data": {
      "text/plain": [
       "dtype('float64')"
      ]
     },
     "execution_count": 18,
     "metadata": {},
     "output_type": "execute_result"
    }
   ],
   "source": [
    "z.dtype"
   ]
  },
  {
   "cell_type": "code",
   "execution_count": 19,
   "metadata": {},
   "outputs": [
    {
     "data": {
      "text/plain": [
       "array([0.+0.j, 1.+0.j, 2.+0.j])"
      ]
     },
     "execution_count": 19,
     "metadata": {},
     "output_type": "execute_result"
    }
   ],
   "source": [
    "z = np.complex_(z)\n",
    "z"
   ]
  },
  {
   "cell_type": "code",
   "execution_count": 20,
   "metadata": {},
   "outputs": [
    {
     "data": {
      "text/plain": [
       "dtype('complex128')"
      ]
     },
     "execution_count": 20,
     "metadata": {},
     "output_type": "execute_result"
    }
   ],
   "source": [
    "z.dtype"
   ]
  },
  {
   "cell_type": "code",
   "execution_count": 21,
   "metadata": {},
   "outputs": [
    {
     "data": {
      "text/plain": [
       "dtype('int64')"
      ]
     },
     "execution_count": 21,
     "metadata": {},
     "output_type": "execute_result"
    }
   ],
   "source": [
    "d = np.dtype(int)\n",
    "d"
   ]
  },
  {
   "cell_type": "code",
   "execution_count": 22,
   "metadata": {},
   "outputs": [
    {
     "data": {
      "text/plain": [
       "True"
      ]
     },
     "execution_count": 22,
     "metadata": {},
     "output_type": "execute_result"
    }
   ],
   "source": [
    "np.issubdtype(d, np.integer)"
   ]
  },
  {
   "cell_type": "code",
   "execution_count": 23,
   "metadata": {},
   "outputs": [
    {
     "data": {
      "text/plain": [
       "False"
      ]
     },
     "execution_count": 23,
     "metadata": {},
     "output_type": "execute_result"
    }
   ],
   "source": [
    "np.issubdtype(d, np.floating)"
   ]
  },
  {
   "cell_type": "markdown",
   "metadata": {},
   "source": [
    "### [Ошибки переполнения (Overflow Errors)](https://numpy.org/doc/stable/user/basics.types.html#overflow-errors)\n",
    "\n",
    "Поведение целочисленных типов `NumPy` и `Python` значительно отличается для целочисленных переполнений и может сбить с толку пользователей, ожидающих, что целые числа `NumPy` будут вести себя так же, как `int` в `Python`.\n",
    "\n",
    "В отличие от `NumPy`, размер `int` в `Python` является гибким. Это означает, что **целые числа `Python` могут расширяться для размещения любого целого числа и не будут переполняться**.\n",
    "\n",
    "**Фиксированный размер числовых типов `NumPy` может вызвать ошибки переполнения**, когда значение требует больше памяти, чем доступно в типе данных."
   ]
  },
  {
   "cell_type": "code",
   "execution_count": 24,
   "metadata": {},
   "outputs": [
    {
     "data": {
      "text/plain": [
       "10000000000000000"
      ]
     },
     "execution_count": 24,
     "metadata": {},
     "output_type": "execute_result"
    }
   ],
   "source": [
    "np.power(100, 8, dtype=np.int64)"
   ]
  },
  {
   "cell_type": "code",
   "execution_count": 25,
   "metadata": {},
   "outputs": [
    {
     "data": {
      "text/plain": [
       "1874919424"
      ]
     },
     "execution_count": 25,
     "metadata": {},
     "output_type": "execute_result"
    }
   ],
   "source": [
    "np.power(100, 8, dtype=np.int32)"
   ]
  },
  {
   "cell_type": "markdown",
   "metadata": {},
   "source": [
    "`NumPy` предоставляет `numpy.iinfo` и `numpy.finfo` для проверки минимального или максимального значений целых чисел и значений с плавающей запятой `NumPy` соответственно."
   ]
  },
  {
   "cell_type": "code",
   "execution_count": 26,
   "metadata": {},
   "outputs": [
    {
     "data": {
      "text/plain": [
       "iinfo(min=-9223372036854775808, max=9223372036854775807, dtype=int64)"
      ]
     },
     "execution_count": 26,
     "metadata": {},
     "output_type": "execute_result"
    }
   ],
   "source": [
    "np.iinfo(int)"
   ]
  },
  {
   "cell_type": "code",
   "execution_count": 27,
   "metadata": {},
   "outputs": [
    {
     "data": {
      "text/plain": [
       "iinfo(min=-9223372036854775808, max=9223372036854775807, dtype=int64)"
      ]
     },
     "execution_count": 27,
     "metadata": {},
     "output_type": "execute_result"
    }
   ],
   "source": [
    "np.iinfo(np.int64)"
   ]
  },
  {
   "cell_type": "code",
   "execution_count": 28,
   "metadata": {},
   "outputs": [
    {
     "data": {
      "text/plain": [
       "iinfo(min=-2147483648, max=2147483647, dtype=int32)"
      ]
     },
     "execution_count": 28,
     "metadata": {},
     "output_type": "execute_result"
    }
   ],
   "source": [
    "np.iinfo(np.int32)"
   ]
  },
  {
   "cell_type": "code",
   "execution_count": 29,
   "metadata": {},
   "outputs": [
    {
     "data": {
      "text/plain": [
       "0"
      ]
     },
     "execution_count": 29,
     "metadata": {},
     "output_type": "execute_result"
    }
   ],
   "source": [
    "np.power(100, 100, dtype=np.int64)"
   ]
  },
  {
   "cell_type": "code",
   "execution_count": 30,
   "metadata": {},
   "outputs": [
    {
     "data": {
      "text/plain": [
       "1e+200"
      ]
     },
     "execution_count": 30,
     "metadata": {},
     "output_type": "execute_result"
    }
   ],
   "source": [
    "np.power(100, 100, dtype=np.float64)"
   ]
  },
  {
   "cell_type": "markdown",
   "metadata": {},
   "source": [
    "## Пакет `Pandas`: типы данных\n",
    "\n",
    "По большей части `pandas` использует массивы и типы `NumPy` для серий или отдельных столбцов `DataFrame`. \n",
    "\n",
    "`NumPy` обеспечивает поддержку `float`, `int`, `bool`, `timedelta64[ns]` и `datetime64[ns]` (обратите внимание, что `NumPy` не поддерживает дату и время с учетом часового пояса).\n",
    "\n",
    "`pandas` и сторонние (third-party) библиотеки расширяют систему типов `NumPy` в нескольких местах.\n",
    "\n",
    "В этом разделе описываются внутренние расширения `pandas`.\n",
    "\n",
    "В следующей таблице перечислены все типы расширений `pandas`."
   ]
  },
  {
   "cell_type": "code",
   "execution_count": 31,
   "metadata": {},
   "outputs": [],
   "source": [
    "htmp_basic_info = 'https://pandas.pydata.org/pandas-docs/stable/user_guide/basics.html#basics-dtypes'\n",
    "basic_info_tables = pd.read_html(htmp_basic_info)"
   ]
  },
  {
   "cell_type": "markdown",
   "metadata": {
    "jupyter": {
     "outputs_hidden": true
    }
   },
   "source": [
    "for index, table in enumerate(basic_info_tables):\n",
    "    print(f\"index = {index}\")\n",
    "    display(table)"
   ]
  },
  {
   "cell_type": "code",
   "execution_count": 32,
   "metadata": {},
   "outputs": [
    {
     "data": {
      "text/html": [
       "<div>\n",
       "<style scoped>\n",
       "    .dataframe tbody tr th:only-of-type {\n",
       "        vertical-align: middle;\n",
       "    }\n",
       "\n",
       "    .dataframe tbody tr th {\n",
       "        vertical-align: top;\n",
       "    }\n",
       "\n",
       "    .dataframe thead th {\n",
       "        text-align: right;\n",
       "    }\n",
       "</style>\n",
       "<table border=\"1\" class=\"dataframe\">\n",
       "  <thead>\n",
       "    <tr style=\"text-align: right;\">\n",
       "      <th></th>\n",
       "      <th>Kind of Data</th>\n",
       "      <th>Data Type</th>\n",
       "      <th>Scalar</th>\n",
       "      <th>Array</th>\n",
       "      <th>String Aliases</th>\n",
       "      <th>Documentation</th>\n",
       "    </tr>\n",
       "  </thead>\n",
       "  <tbody>\n",
       "    <tr>\n",
       "      <th>0</th>\n",
       "      <td>tz-aware datetime</td>\n",
       "      <td>DatetimeTZDtype</td>\n",
       "      <td>Timestamp</td>\n",
       "      <td>arrays.DatetimeArray</td>\n",
       "      <td>'datetime64[ns, &lt;tz&gt;]'</td>\n",
       "      <td>Time zone handling</td>\n",
       "    </tr>\n",
       "    <tr>\n",
       "      <th>1</th>\n",
       "      <td>Categorical</td>\n",
       "      <td>CategoricalDtype</td>\n",
       "      <td>(none)</td>\n",
       "      <td>Categorical</td>\n",
       "      <td>'category'</td>\n",
       "      <td>Categorical data</td>\n",
       "    </tr>\n",
       "    <tr>\n",
       "      <th>2</th>\n",
       "      <td>period (time spans)</td>\n",
       "      <td>PeriodDtype</td>\n",
       "      <td>Period</td>\n",
       "      <td>arrays.PeriodArray</td>\n",
       "      <td>'period[&lt;freq&gt;]', 'Period[&lt;freq&gt;]'</td>\n",
       "      <td>Time span representation</td>\n",
       "    </tr>\n",
       "    <tr>\n",
       "      <th>3</th>\n",
       "      <td>sparse</td>\n",
       "      <td>SparseDtype</td>\n",
       "      <td>(none)</td>\n",
       "      <td>arrays.SparseArray</td>\n",
       "      <td>'Sparse', 'Sparse[int]', 'Sparse[float]'</td>\n",
       "      <td>Sparse data structures</td>\n",
       "    </tr>\n",
       "    <tr>\n",
       "      <th>4</th>\n",
       "      <td>intervals</td>\n",
       "      <td>IntervalDtype</td>\n",
       "      <td>Interval</td>\n",
       "      <td>arrays.IntervalArray</td>\n",
       "      <td>'interval', 'Interval', 'Interval[&lt;numpy_dtype...</td>\n",
       "      <td>IntervalIndex</td>\n",
       "    </tr>\n",
       "    <tr>\n",
       "      <th>5</th>\n",
       "      <td>nullable integer</td>\n",
       "      <td>Int64Dtype, …</td>\n",
       "      <td>(none)</td>\n",
       "      <td>arrays.IntegerArray</td>\n",
       "      <td>'Int8', 'Int16', 'Int32', 'Int64', 'UInt8', 'U...</td>\n",
       "      <td>Nullable integer data type</td>\n",
       "    </tr>\n",
       "    <tr>\n",
       "      <th>6</th>\n",
       "      <td>nullable integer</td>\n",
       "      <td>Int64Dtype, …</td>\n",
       "      <td>(none)</td>\n",
       "      <td>arrays.IntegerArray</td>\n",
       "      <td>'Int8', 'Int16', 'Int32', 'Int64', 'UInt8', 'U...</td>\n",
       "      <td>Nullable integer data type</td>\n",
       "    </tr>\n",
       "    <tr>\n",
       "      <th>7</th>\n",
       "      <td>Strings</td>\n",
       "      <td>StringDtype</td>\n",
       "      <td>str</td>\n",
       "      <td>arrays.StringArray</td>\n",
       "      <td>'string'</td>\n",
       "      <td>Working with text data</td>\n",
       "    </tr>\n",
       "    <tr>\n",
       "      <th>8</th>\n",
       "      <td>Boolean (with NA)</td>\n",
       "      <td>BooleanDtype</td>\n",
       "      <td>bool</td>\n",
       "      <td>arrays.BooleanArray</td>\n",
       "      <td>'boolean'</td>\n",
       "      <td>Boolean data with missing values</td>\n",
       "    </tr>\n",
       "  </tbody>\n",
       "</table>\n",
       "</div>"
      ],
      "text/plain": [
       "          Kind of Data         Data Type     Scalar                 Array  \\\n",
       "0    tz-aware datetime   DatetimeTZDtype  Timestamp  arrays.DatetimeArray   \n",
       "1          Categorical  CategoricalDtype     (none)           Categorical   \n",
       "2  period (time spans)       PeriodDtype     Period    arrays.PeriodArray   \n",
       "3               sparse       SparseDtype     (none)    arrays.SparseArray   \n",
       "4            intervals     IntervalDtype   Interval  arrays.IntervalArray   \n",
       "5     nullable integer     Int64Dtype, …     (none)   arrays.IntegerArray   \n",
       "6     nullable integer     Int64Dtype, …     (none)   arrays.IntegerArray   \n",
       "7              Strings       StringDtype        str    arrays.StringArray   \n",
       "8    Boolean (with NA)      BooleanDtype       bool   arrays.BooleanArray   \n",
       "\n",
       "                                      String Aliases  \\\n",
       "0                             'datetime64[ns, <tz>]'   \n",
       "1                                         'category'   \n",
       "2                 'period[<freq>]', 'Period[<freq>]'   \n",
       "3           'Sparse', 'Sparse[int]', 'Sparse[float]'   \n",
       "4  'interval', 'Interval', 'Interval[<numpy_dtype...   \n",
       "5  'Int8', 'Int16', 'Int32', 'Int64', 'UInt8', 'U...   \n",
       "6  'Int8', 'Int16', 'Int32', 'Int64', 'UInt8', 'U...   \n",
       "7                                           'string'   \n",
       "8                                          'boolean'   \n",
       "\n",
       "                      Documentation  \n",
       "0                Time zone handling  \n",
       "1                  Categorical data  \n",
       "2          Time span representation  \n",
       "3            Sparse data structures  \n",
       "4                     IntervalIndex  \n",
       "5        Nullable integer data type  \n",
       "6        Nullable integer data type  \n",
       "7            Working with text data  \n",
       "8  Boolean data with missing values  "
      ]
     },
     "execution_count": 32,
     "metadata": {},
     "output_type": "execute_result"
    }
   ],
   "source": [
    "pandas_types_df = basic_info_tables[3]\n",
    "\n",
    "pandas_types_df"
   ]
  },
  {
   "cell_type": "markdown",
   "metadata": {},
   "source": [
    "### [Категориальные данные (Categorical data)](https://pandas.pydata.org/pandas-docs/stable/user_guide/categorical.html#categorical)\n",
    "\n",
    "**Вид данных:** \n",
    "\n",
    "Категории - это тип данных, соответствующий категориальным переменным в статистике. \n",
    "\n",
    "Категориальная переменная принимает ограниченное и обычно фиксированное количество возможных значений.\n",
    "\n",
    "Примеры: пол, социальный класс, группа крови, принадлежность к стране, язык."
   ]
  },
  {
   "cell_type": "code",
   "execution_count": null,
   "metadata": {},
   "outputs": [],
   "source": []
  },
  {
   "cell_type": "markdown",
   "metadata": {},
   "source": [
    "### [Обработка часовых поясов (Time zone handling)](https://pandas.pydata.org/pandas-docs/stable/user_guide/timeseries.html#timeseries-timezone)\n",
    "\n",
    "**Вид данных:** \n",
    "\n",
    "Дата и время с учетом часового пояса (`tz`) (обратите внимание, что `NumPy` не поддерживает дату и время с учетом часовых поясов).\n",
    "\n",
    "`pandas` предоставляет хорошую поддержку работы с отметками времен (timestamps) и в разных часовых поясах с использованием библиотек `pytz` и `dateutil` или объектов `datetime.timezone` из стандартной библиотеки.\n",
    "\n",
    "`pandas` содержит обширные возможности и функции для работы с данными временных рядов для всех областей. \n",
    "\n",
    "Используя `datetime64` и `timedelta64` `NumPy`, `pandas` объединил большое количество функций из других библиотек `Python`, таких как `scikits.timeseries`, а также создал огромное количество новых функций для управления данными временных рядов.\n",
    "\n",
    "Благодаря этому возможет анализ информации временных рядов из различных источников и форматов.\n",
    "\n",
    "`pandas` представляет нулевые даты, временные интервалы и временные интервалы как `NaT,` что полезно для представления отсутствующих или нулевых значений даты, таких как значения, и ведет себя так же, как `np.nan` для данных с плавающей запятой.\n",
    "\n",
    "`pandas` объединяет 4 общие концепции, связанные со временем:\n",
    "- Дата и время: определенная дата и время с поддержкой часового пояса. Аналогично `datetime.datetime` из стандартной библиотеки.\n",
    "- Дельты времени: абсолютная продолжительность времени. Аналогично `datetime.timedelta` из стандартной библиотеки.\n",
    "- Интервалы времени: интервал времени, определяемый моментом времени и связанной с ним частотой.\n",
    "- Смещения даты: относительная продолжительность времени, учитывающая календарную арифметику. Аналогично `dateutil.relativedelta.relativedelta` из пакета `dateutil`."
   ]
  },
  {
   "cell_type": "code",
   "execution_count": 33,
   "metadata": {},
   "outputs": [
    {
     "name": "stdout",
     "output_type": "stream",
     "text": [
      "len = 595\n"
     ]
    },
    {
     "data": {
      "text/plain": [
       "{'Zulu': tzfile('Zulu'),\n",
       " 'W-SU': tzfile('W-SU'),\n",
       " 'Turkey': tzfile('Turkey'),\n",
       " 'Singapore': tzfile('Singapore'),\n",
       " 'ROK': tzfile('ROK'),\n",
       " 'ROC': tzfile('ROC'),\n",
       " 'Portugal': tzfile('Portugal'),\n",
       " 'Poland': tzfile('Poland'),\n",
       " 'PRC': tzfile('PRC'),\n",
       " 'Navajo': tzfile('Navajo'),\n",
       " 'NZ-CHAT': tzfile('NZ-CHAT'),\n",
       " 'NZ': tzfile('NZ'),\n",
       " 'Mexico/BajaNorte': tzfile('Mexico/BajaNorte'),\n",
       " 'Mexico/BajaSur': tzfile('Mexico/BajaSur'),\n",
       " 'Mexico/General': tzfile('Mexico/General'),\n",
       " 'Libya': tzfile('Libya'),\n",
       " 'Kwajalein': tzfile('Kwajalein'),\n",
       " 'Japan': tzfile('Japan'),\n",
       " 'Jamaica': tzfile('Jamaica'),\n",
       " 'Israel': tzfile('Israel'),\n",
       " 'Iran': tzfile('Iran'),\n",
       " 'Iceland': tzfile('Iceland'),\n",
       " 'Hongkong': tzfile('Hongkong'),\n",
       " 'Greenwich': tzfile('Greenwich'),\n",
       " 'GB-Eire': tzfile('GB-Eire'),\n",
       " 'Eire': tzfile('Eire'),\n",
       " 'Egypt': tzfile('Egypt'),\n",
       " 'Cuba': tzfile('Cuba'),\n",
       " 'Chile/Continental': tzfile('Chile/Continental'),\n",
       " 'Chile/EasterIsland': tzfile('Chile/EasterIsland'),\n",
       " 'Canada/Atlantic': tzfile('Canada/Atlantic'),\n",
       " 'Canada/Central': tzfile('Canada/Central'),\n",
       " 'Canada/Eastern': tzfile('Canada/Eastern'),\n",
       " 'Canada/Mountain': tzfile('Canada/Mountain'),\n",
       " 'Canada/Newfoundland': tzfile('Canada/Newfoundland'),\n",
       " 'Canada/Pacific': tzfile('Canada/Pacific'),\n",
       " 'Canada/Saskatchewan': tzfile('Canada/Saskatchewan'),\n",
       " 'Canada/Yukon': tzfile('Canada/Yukon'),\n",
       " 'Brazil/Acre': tzfile('Brazil/Acre'),\n",
       " 'Brazil/DeNoronha': tzfile('Brazil/DeNoronha'),\n",
       " 'Brazil/East': tzfile('Brazil/East'),\n",
       " 'Brazil/West': tzfile('Brazil/West'),\n",
       " 'US/Alaska': tzfile('US/Alaska'),\n",
       " 'US/Aleutian': tzfile('US/Aleutian'),\n",
       " 'US/Arizona': tzfile('US/Arizona'),\n",
       " 'US/Central': tzfile('US/Central'),\n",
       " 'US/East-Indiana': tzfile('US/East-Indiana'),\n",
       " 'US/Eastern': tzfile('US/Eastern'),\n",
       " 'US/Hawaii': tzfile('US/Hawaii'),\n",
       " 'US/Indiana-Starke': tzfile('US/Indiana-Starke'),\n",
       " 'US/Michigan': tzfile('US/Michigan'),\n",
       " 'US/Pacific': tzfile('US/Pacific'),\n",
       " 'US/Samoa': tzfile('US/Samoa'),\n",
       " 'Arctic/Longyearbyen': tzfile('Arctic/Longyearbyen'),\n",
       " 'Factory': tzfile('Factory'),\n",
       " 'Etc/GMT+1': tzfile('Etc/GMT+1'),\n",
       " 'Etc/GMT+10': tzfile('Etc/GMT+10'),\n",
       " 'Etc/GMT+11': tzfile('Etc/GMT+11'),\n",
       " 'Etc/GMT+12': tzfile('Etc/GMT+12'),\n",
       " 'Etc/GMT+2': tzfile('Etc/GMT+2'),\n",
       " 'Etc/GMT+3': tzfile('Etc/GMT+3'),\n",
       " 'Etc/GMT+4': tzfile('Etc/GMT+4'),\n",
       " 'Etc/GMT+5': tzfile('Etc/GMT+5'),\n",
       " 'Etc/GMT+6': tzfile('Etc/GMT+6'),\n",
       " 'Etc/GMT+7': tzfile('Etc/GMT+7'),\n",
       " 'Etc/GMT+8': tzfile('Etc/GMT+8'),\n",
       " 'Etc/GMT+9': tzfile('Etc/GMT+9'),\n",
       " 'Etc/GMT-1': tzfile('Etc/GMT-1'),\n",
       " 'Etc/GMT-10': tzfile('Etc/GMT-10'),\n",
       " 'Etc/GMT-11': tzfile('Etc/GMT-11'),\n",
       " 'Etc/GMT-12': tzfile('Etc/GMT-12'),\n",
       " 'Etc/GMT-13': tzfile('Etc/GMT-13'),\n",
       " 'Etc/GMT-14': tzfile('Etc/GMT-14'),\n",
       " 'Etc/GMT-2': tzfile('Etc/GMT-2'),\n",
       " 'Etc/GMT-3': tzfile('Etc/GMT-3'),\n",
       " 'Etc/GMT-4': tzfile('Etc/GMT-4'),\n",
       " 'Etc/GMT-5': tzfile('Etc/GMT-5'),\n",
       " 'Etc/GMT-6': tzfile('Etc/GMT-6'),\n",
       " 'Etc/GMT-7': tzfile('Etc/GMT-7'),\n",
       " 'Etc/GMT-8': tzfile('Etc/GMT-8'),\n",
       " 'Etc/GMT-9': tzfile('Etc/GMT-9'),\n",
       " 'PST8PDT': tzfile('PST8PDT'),\n",
       " 'MST7MDT': tzfile('MST7MDT'),\n",
       " 'CST6CDT': tzfile('CST6CDT'),\n",
       " 'EST5EDT': tzfile('EST5EDT'),\n",
       " 'HST': tzfile('HST'),\n",
       " 'MST': tzfile('MST'),\n",
       " 'EST': tzfile('EST'),\n",
       " 'America/Anguilla': tzfile('America/Anguilla'),\n",
       " 'America/Araguaina': tzfile('America/Araguaina'),\n",
       " 'America/Argentina/Buenos_Aires': tzfile('America/Argentina/Buenos_Aires'),\n",
       " 'America/Argentina/Catamarca': tzfile('America/Argentina/Catamarca'),\n",
       " 'America/Argentina/Cordoba': tzfile('America/Argentina/Cordoba'),\n",
       " 'America/Argentina/Jujuy': tzfile('America/Argentina/Jujuy'),\n",
       " 'America/Argentina/La_Rioja': tzfile('America/Argentina/La_Rioja'),\n",
       " 'America/Argentina/Mendoza': tzfile('America/Argentina/Mendoza'),\n",
       " 'America/Argentina/Rio_Gallegos': tzfile('America/Argentina/Rio_Gallegos'),\n",
       " 'America/Argentina/Salta': tzfile('America/Argentina/Salta'),\n",
       " 'America/Argentina/San_Juan': tzfile('America/Argentina/San_Juan'),\n",
       " 'America/Argentina/San_Luis': tzfile('America/Argentina/San_Luis'),\n",
       " 'America/Argentina/Tucuman': tzfile('America/Argentina/Tucuman'),\n",
       " 'America/Argentina/Ushuaia': tzfile('America/Argentina/Ushuaia'),\n",
       " 'America/Aruba': tzfile('America/Aruba'),\n",
       " 'America/Asuncion': tzfile('America/Asuncion'),\n",
       " 'America/Atikokan': tzfile('America/Atikokan'),\n",
       " 'America/Bahia': tzfile('America/Bahia'),\n",
       " 'America/Bahia_Banderas': tzfile('America/Bahia_Banderas'),\n",
       " 'America/Barbados': tzfile('America/Barbados'),\n",
       " 'America/Belem': tzfile('America/Belem'),\n",
       " 'America/Belize': tzfile('America/Belize'),\n",
       " 'America/Blanc-Sablon': tzfile('America/Blanc-Sablon'),\n",
       " 'America/Boa_Vista': tzfile('America/Boa_Vista'),\n",
       " 'America/Bogota': tzfile('America/Bogota'),\n",
       " 'America/Boise': tzfile('America/Boise'),\n",
       " 'America/Cambridge_Bay': tzfile('America/Cambridge_Bay'),\n",
       " 'America/Campo_Grande': tzfile('America/Campo_Grande'),\n",
       " 'America/Cancun': tzfile('America/Cancun'),\n",
       " 'America/Caracas': tzfile('America/Caracas'),\n",
       " 'America/Cayenne': tzfile('America/Cayenne'),\n",
       " 'America/Cayman': tzfile('America/Cayman'),\n",
       " 'America/Chihuahua': tzfile('America/Chihuahua'),\n",
       " 'America/Costa_Rica': tzfile('America/Costa_Rica'),\n",
       " 'America/Creston': tzfile('America/Creston'),\n",
       " 'America/Cuiaba': tzfile('America/Cuiaba'),\n",
       " 'America/Danmarkshavn': tzfile('America/Danmarkshavn'),\n",
       " 'America/Dawson': tzfile('America/Dawson'),\n",
       " 'America/Dawson_Creek': tzfile('America/Dawson_Creek'),\n",
       " 'America/Eirunepe': tzfile('America/Eirunepe'),\n",
       " 'America/El_Salvador': tzfile('America/El_Salvador'),\n",
       " 'America/Fort_Nelson': tzfile('America/Fort_Nelson'),\n",
       " 'America/Fortaleza': tzfile('America/Fortaleza'),\n",
       " 'America/Glace_Bay': tzfile('America/Glace_Bay'),\n",
       " 'America/Godthab': tzfile('America/Godthab'),\n",
       " 'America/Goose_Bay': tzfile('America/Goose_Bay'),\n",
       " 'America/Grand_Turk': tzfile('America/Grand_Turk'),\n",
       " 'America/Guatemala': tzfile('America/Guatemala'),\n",
       " 'America/Guayaquil': tzfile('America/Guayaquil'),\n",
       " 'America/Guyana': tzfile('America/Guyana'),\n",
       " 'America/Hermosillo': tzfile('America/Hermosillo'),\n",
       " 'America/Indiana/Marengo': tzfile('America/Indiana/Marengo'),\n",
       " 'America/Indiana/Petersburg': tzfile('America/Indiana/Petersburg'),\n",
       " 'America/Indiana/Tell_City': tzfile('America/Indiana/Tell_City'),\n",
       " 'America/Indiana/Vevay': tzfile('America/Indiana/Vevay'),\n",
       " 'America/Indiana/Vincennes': tzfile('America/Indiana/Vincennes'),\n",
       " 'America/Indiana/Winamac': tzfile('America/Indiana/Winamac'),\n",
       " 'America/Inuvik': tzfile('America/Inuvik'),\n",
       " 'America/Iqaluit': tzfile('America/Iqaluit'),\n",
       " 'America/Juneau': tzfile('America/Juneau'),\n",
       " 'America/Kentucky/Louisville': tzfile('America/Kentucky/Louisville'),\n",
       " 'America/Kentucky/Monticello': tzfile('America/Kentucky/Monticello'),\n",
       " 'America/La_Paz': tzfile('America/La_Paz'),\n",
       " 'America/Lima': tzfile('America/Lima'),\n",
       " 'America/Maceio': tzfile('America/Maceio'),\n",
       " 'America/Managua': tzfile('America/Managua'),\n",
       " 'America/Martinique': tzfile('America/Martinique'),\n",
       " 'America/Matamoros': tzfile('America/Matamoros'),\n",
       " 'America/Menominee': tzfile('America/Menominee'),\n",
       " 'America/Merida': tzfile('America/Merida'),\n",
       " 'America/Metlakatla': tzfile('America/Metlakatla'),\n",
       " 'America/Miquelon': tzfile('America/Miquelon'),\n",
       " 'America/Moncton': tzfile('America/Moncton'),\n",
       " 'America/Monterrey': tzfile('America/Monterrey'),\n",
       " 'America/Montevideo': tzfile('America/Montevideo'),\n",
       " 'America/Nassau': tzfile('America/Nassau'),\n",
       " 'America/Nipigon': tzfile('America/Nipigon'),\n",
       " 'America/Nome': tzfile('America/Nome'),\n",
       " 'America/North_Dakota/Beulah': tzfile('America/North_Dakota/Beulah'),\n",
       " 'America/North_Dakota/Center': tzfile('America/North_Dakota/Center'),\n",
       " 'America/North_Dakota/New_Salem': tzfile('America/North_Dakota/New_Salem'),\n",
       " 'America/Ojinaga': tzfile('America/Ojinaga'),\n",
       " 'America/Pangnirtung': tzfile('America/Pangnirtung'),\n",
       " 'America/Paramaribo': tzfile('America/Paramaribo'),\n",
       " 'America/Port-au-Prince': tzfile('America/Port-au-Prince'),\n",
       " 'America/Porto_Velho': tzfile('America/Porto_Velho'),\n",
       " 'America/Puerto_Rico': tzfile('America/Puerto_Rico'),\n",
       " 'America/Punta_Arenas': tzfile('America/Punta_Arenas'),\n",
       " 'America/Rainy_River': tzfile('America/Rainy_River'),\n",
       " 'America/Rankin_Inlet': tzfile('America/Rankin_Inlet'),\n",
       " 'America/Recife': tzfile('America/Recife'),\n",
       " 'America/Resolute': tzfile('America/Resolute'),\n",
       " 'America/Santarem': tzfile('America/Santarem'),\n",
       " 'America/Santo_Domingo': tzfile('America/Santo_Domingo'),\n",
       " 'America/Scoresbysund': tzfile('America/Scoresbysund'),\n",
       " 'America/Sitka': tzfile('America/Sitka'),\n",
       " 'America/Swift_Current': tzfile('America/Swift_Current'),\n",
       " 'America/Tegucigalpa': tzfile('America/Tegucigalpa'),\n",
       " 'America/Thule': tzfile('America/Thule'),\n",
       " 'America/Thunder_Bay': tzfile('America/Thunder_Bay'),\n",
       " 'America/Yakutat': tzfile('America/Yakutat'),\n",
       " 'America/Yellowknife': tzfile('America/Yellowknife'),\n",
       " 'EET': tzfile('EET'),\n",
       " 'MET': tzfile('MET'),\n",
       " 'CET': tzfile('CET'),\n",
       " 'WET': tzfile('WET'),\n",
       " 'Europe/Amsterdam': tzfile('Europe/Amsterdam'),\n",
       " 'Europe/Andorra': tzfile('Europe/Andorra'),\n",
       " 'Europe/Astrakhan': tzfile('Europe/Astrakhan'),\n",
       " 'Europe/Athens': tzfile('Europe/Athens'),\n",
       " 'Europe/Belgrade': tzfile('Europe/Belgrade'),\n",
       " 'Europe/Berlin': tzfile('Europe/Berlin'),\n",
       " 'Europe/Bratislava': tzfile('Europe/Bratislava'),\n",
       " 'Europe/Brussels': tzfile('Europe/Brussels'),\n",
       " 'Europe/Bucharest': tzfile('Europe/Bucharest'),\n",
       " 'Europe/Budapest': tzfile('Europe/Budapest'),\n",
       " 'Europe/Busingen': tzfile('Europe/Busingen'),\n",
       " 'Europe/Chisinau': tzfile('Europe/Chisinau'),\n",
       " 'Europe/Copenhagen': tzfile('Europe/Copenhagen'),\n",
       " 'Europe/Gibraltar': tzfile('Europe/Gibraltar'),\n",
       " 'Europe/Helsinki': tzfile('Europe/Helsinki'),\n",
       " 'Europe/Kaliningrad': tzfile('Europe/Kaliningrad'),\n",
       " 'Europe/Kiev': tzfile('Europe/Kiev'),\n",
       " 'Europe/Kirov': tzfile('Europe/Kirov'),\n",
       " 'Europe/Luxembourg': tzfile('Europe/Luxembourg'),\n",
       " 'Europe/Madrid': tzfile('Europe/Madrid'),\n",
       " 'Europe/Malta': tzfile('Europe/Malta'),\n",
       " 'Europe/Minsk': tzfile('Europe/Minsk'),\n",
       " 'Europe/Monaco': tzfile('Europe/Monaco'),\n",
       " 'Europe/Nicosia': tzfile('Europe/Nicosia'),\n",
       " 'Europe/Paris': tzfile('Europe/Paris'),\n",
       " 'Europe/Riga': tzfile('Europe/Riga'),\n",
       " 'Europe/Rome': tzfile('Europe/Rome'),\n",
       " 'Europe/Samara': tzfile('Europe/Samara'),\n",
       " 'Europe/Saratov': tzfile('Europe/Saratov'),\n",
       " 'Europe/Simferopol': tzfile('Europe/Simferopol'),\n",
       " 'Europe/Sofia': tzfile('Europe/Sofia'),\n",
       " 'Europe/Stockholm': tzfile('Europe/Stockholm'),\n",
       " 'Europe/Tallinn': tzfile('Europe/Tallinn'),\n",
       " 'Europe/Tirane': tzfile('Europe/Tirane'),\n",
       " 'Europe/Ulyanovsk': tzfile('Europe/Ulyanovsk'),\n",
       " 'Europe/Uzhgorod': tzfile('Europe/Uzhgorod'),\n",
       " 'Europe/Vienna': tzfile('Europe/Vienna'),\n",
       " 'Europe/Vilnius': tzfile('Europe/Vilnius'),\n",
       " 'Europe/Volgograd': tzfile('Europe/Volgograd'),\n",
       " 'Europe/Zaporozhye': tzfile('Europe/Zaporozhye'),\n",
       " 'Pacific/Apia': tzfile('Pacific/Apia'),\n",
       " 'Pacific/Bougainville': tzfile('Pacific/Bougainville'),\n",
       " 'Pacific/Chuuk': tzfile('Pacific/Chuuk'),\n",
       " 'Pacific/Efate': tzfile('Pacific/Efate'),\n",
       " 'Pacific/Enderbury': tzfile('Pacific/Enderbury'),\n",
       " 'Pacific/Fakaofo': tzfile('Pacific/Fakaofo'),\n",
       " 'Pacific/Fiji': tzfile('Pacific/Fiji'),\n",
       " 'Pacific/Funafuti': tzfile('Pacific/Funafuti'),\n",
       " 'Pacific/Galapagos': tzfile('Pacific/Galapagos'),\n",
       " 'Pacific/Gambier': tzfile('Pacific/Gambier'),\n",
       " 'Pacific/Guadalcanal': tzfile('Pacific/Guadalcanal'),\n",
       " 'Pacific/Guam': tzfile('Pacific/Guam'),\n",
       " 'Pacific/Kiritimati': tzfile('Pacific/Kiritimati'),\n",
       " 'Pacific/Kosrae': tzfile('Pacific/Kosrae'),\n",
       " 'Pacific/Majuro': tzfile('Pacific/Majuro'),\n",
       " 'Pacific/Marquesas': tzfile('Pacific/Marquesas'),\n",
       " 'Pacific/Nauru': tzfile('Pacific/Nauru'),\n",
       " 'Pacific/Niue': tzfile('Pacific/Niue'),\n",
       " 'Pacific/Norfolk': tzfile('Pacific/Norfolk'),\n",
       " 'Pacific/Noumea': tzfile('Pacific/Noumea'),\n",
       " 'Pacific/Palau': tzfile('Pacific/Palau'),\n",
       " 'Pacific/Pitcairn': tzfile('Pacific/Pitcairn'),\n",
       " 'Pacific/Pohnpei': tzfile('Pacific/Pohnpei'),\n",
       " 'Pacific/Port_Moresby': tzfile('Pacific/Port_Moresby'),\n",
       " 'Pacific/Rarotonga': tzfile('Pacific/Rarotonga'),\n",
       " 'Pacific/Tahiti': tzfile('Pacific/Tahiti'),\n",
       " 'Pacific/Tarawa': tzfile('Pacific/Tarawa'),\n",
       " 'Pacific/Tongatapu': tzfile('Pacific/Tongatapu'),\n",
       " 'Pacific/Wake': tzfile('Pacific/Wake'),\n",
       " 'Pacific/Wallis': tzfile('Pacific/Wallis'),\n",
       " 'Australia/ACT': tzfile('Australia/ACT'),\n",
       " 'Australia/Adelaide': tzfile('Australia/Adelaide'),\n",
       " 'Australia/Brisbane': tzfile('Australia/Brisbane'),\n",
       " 'Australia/Broken_Hill': tzfile('Australia/Broken_Hill'),\n",
       " 'Australia/Currie': tzfile('Australia/Currie'),\n",
       " 'Australia/Darwin': tzfile('Australia/Darwin'),\n",
       " 'Australia/Eucla': tzfile('Australia/Eucla'),\n",
       " 'Australia/Hobart': tzfile('Australia/Hobart'),\n",
       " 'Australia/LHI': tzfile('Australia/LHI'),\n",
       " 'Australia/Lindeman': tzfile('Australia/Lindeman'),\n",
       " 'Australia/Melbourne': tzfile('Australia/Melbourne'),\n",
       " 'Australia/Perth': tzfile('Australia/Perth'),\n",
       " 'Asia/Aden': tzfile('Asia/Aden'),\n",
       " 'Asia/Almaty': tzfile('Asia/Almaty'),\n",
       " 'Asia/Amman': tzfile('Asia/Amman'),\n",
       " 'Asia/Anadyr': tzfile('Asia/Anadyr'),\n",
       " 'Asia/Aqtau': tzfile('Asia/Aqtau'),\n",
       " 'Asia/Aqtobe': tzfile('Asia/Aqtobe'),\n",
       " 'Asia/Ashgabat': tzfile('Asia/Ashgabat'),\n",
       " 'Asia/Atyrau': tzfile('Asia/Atyrau'),\n",
       " 'Asia/Baghdad': tzfile('Asia/Baghdad'),\n",
       " 'Asia/Bahrain': tzfile('Asia/Bahrain'),\n",
       " 'Asia/Baku': tzfile('Asia/Baku'),\n",
       " 'Asia/Bangkok': tzfile('Asia/Bangkok'),\n",
       " 'Asia/Barnaul': tzfile('Asia/Barnaul'),\n",
       " 'Asia/Beirut': tzfile('Asia/Beirut'),\n",
       " 'Asia/Bishkek': tzfile('Asia/Bishkek'),\n",
       " 'Asia/Brunei': tzfile('Asia/Brunei'),\n",
       " 'Asia/Calcutta': tzfile('Asia/Calcutta'),\n",
       " 'Asia/Chita': tzfile('Asia/Chita'),\n",
       " 'Asia/Choibalsan': tzfile('Asia/Choibalsan'),\n",
       " 'Asia/Colombo': tzfile('Asia/Colombo'),\n",
       " 'Asia/Dacca': tzfile('Asia/Dacca'),\n",
       " 'Asia/Damascus': tzfile('Asia/Damascus'),\n",
       " 'Asia/Dili': tzfile('Asia/Dili'),\n",
       " 'Asia/Dubai': tzfile('Asia/Dubai'),\n",
       " 'Asia/Dushanbe': tzfile('Asia/Dushanbe'),\n",
       " 'Asia/Famagusta': tzfile('Asia/Famagusta'),\n",
       " 'Asia/Gaza': tzfile('Asia/Gaza'),\n",
       " 'Asia/Hanoi': tzfile('Asia/Hanoi'),\n",
       " 'Asia/Hebron': tzfile('Asia/Hebron'),\n",
       " 'Asia/Ho_Chi_Minh': tzfile('Asia/Ho_Chi_Minh'),\n",
       " 'Asia/Hovd': tzfile('Asia/Hovd'),\n",
       " 'Asia/Irkutsk': tzfile('Asia/Irkutsk'),\n",
       " 'Asia/Jakarta': tzfile('Asia/Jakarta'),\n",
       " 'Asia/Jayapura': tzfile('Asia/Jayapura'),\n",
       " 'Asia/Kabul': tzfile('Asia/Kabul'),\n",
       " 'Asia/Kamchatka': tzfile('Asia/Kamchatka'),\n",
       " 'Asia/Karachi': tzfile('Asia/Karachi'),\n",
       " 'Asia/Kashgar': tzfile('Asia/Kashgar'),\n",
       " 'Asia/Kathmandu': tzfile('Asia/Kathmandu'),\n",
       " 'Asia/Khandyga': tzfile('Asia/Khandyga'),\n",
       " 'Asia/Krasnoyarsk': tzfile('Asia/Krasnoyarsk'),\n",
       " 'Asia/Kuala_Lumpur': tzfile('Asia/Kuala_Lumpur'),\n",
       " 'Asia/Kuching': tzfile('Asia/Kuching'),\n",
       " 'Asia/Macao': tzfile('Asia/Macao'),\n",
       " 'Asia/Magadan': tzfile('Asia/Magadan'),\n",
       " 'Asia/Makassar': tzfile('Asia/Makassar'),\n",
       " 'Asia/Manila': tzfile('Asia/Manila'),\n",
       " 'Asia/Novokuznetsk': tzfile('Asia/Novokuznetsk'),\n",
       " 'Asia/Novosibirsk': tzfile('Asia/Novosibirsk'),\n",
       " 'Asia/Omsk': tzfile('Asia/Omsk'),\n",
       " 'Asia/Oral': tzfile('Asia/Oral'),\n",
       " 'Asia/Pontianak': tzfile('Asia/Pontianak'),\n",
       " 'Asia/Pyongyang': tzfile('Asia/Pyongyang'),\n",
       " 'Asia/Qostanay': tzfile('Asia/Qostanay'),\n",
       " 'Asia/Qyzylorda': tzfile('Asia/Qyzylorda'),\n",
       " 'Asia/Rangoon': tzfile('Asia/Rangoon'),\n",
       " 'Asia/Sakhalin': tzfile('Asia/Sakhalin'),\n",
       " 'Asia/Samarkand': tzfile('Asia/Samarkand'),\n",
       " 'Asia/Srednekolymsk': tzfile('Asia/Srednekolymsk'),\n",
       " 'Asia/Tashkent': tzfile('Asia/Tashkent'),\n",
       " 'Asia/Tbilisi': tzfile('Asia/Tbilisi'),\n",
       " 'Asia/Thimbu': tzfile('Asia/Thimbu'),\n",
       " 'Asia/Tomsk': tzfile('Asia/Tomsk'),\n",
       " 'Asia/Ulaanbaatar': tzfile('Asia/Ulaanbaatar'),\n",
       " 'Asia/Ust-Nera': tzfile('Asia/Ust-Nera'),\n",
       " 'Asia/Vladivostok': tzfile('Asia/Vladivostok'),\n",
       " 'Asia/Yakutsk': tzfile('Asia/Yakutsk'),\n",
       " 'Asia/Yekaterinburg': tzfile('Asia/Yekaterinburg'),\n",
       " 'Asia/Yerevan': tzfile('Asia/Yerevan'),\n",
       " 'Antarctica/Casey': tzfile('Antarctica/Casey'),\n",
       " 'Antarctica/Davis': tzfile('Antarctica/Davis'),\n",
       " 'Antarctica/DumontDUrville': tzfile('Antarctica/DumontDUrville'),\n",
       " 'Antarctica/Macquarie': tzfile('Antarctica/Macquarie'),\n",
       " 'Antarctica/Mawson': tzfile('Antarctica/Mawson'),\n",
       " 'Antarctica/Palmer': tzfile('Antarctica/Palmer'),\n",
       " 'Antarctica/Rothera': tzfile('Antarctica/Rothera'),\n",
       " 'Antarctica/Syowa': tzfile('Antarctica/Syowa'),\n",
       " 'Antarctica/Troll': tzfile('Antarctica/Troll'),\n",
       " 'Antarctica/Vostok': tzfile('Antarctica/Vostok'),\n",
       " 'Indian/Antananarivo': tzfile('Indian/Antananarivo'),\n",
       " 'Indian/Chagos': tzfile('Indian/Chagos'),\n",
       " 'Indian/Christmas': tzfile('Indian/Christmas'),\n",
       " 'Indian/Cocos': tzfile('Indian/Cocos'),\n",
       " 'Indian/Kerguelen': tzfile('Indian/Kerguelen'),\n",
       " 'Indian/Mahe': tzfile('Indian/Mahe'),\n",
       " 'Indian/Maldives': tzfile('Indian/Maldives'),\n",
       " 'Indian/Mauritius': tzfile('Indian/Mauritius'),\n",
       " 'Indian/Reunion': tzfile('Indian/Reunion'),\n",
       " 'Atlantic/Azores': tzfile('Atlantic/Azores'),\n",
       " 'Atlantic/Bermuda': tzfile('Atlantic/Bermuda'),\n",
       " 'Atlantic/Canary': tzfile('Atlantic/Canary'),\n",
       " 'Atlantic/Cape_Verde': tzfile('Atlantic/Cape_Verde'),\n",
       " 'Atlantic/Faeroe': tzfile('Atlantic/Faeroe'),\n",
       " 'Atlantic/Madeira': tzfile('Atlantic/Madeira'),\n",
       " 'Atlantic/South_Georgia': tzfile('Atlantic/South_Georgia'),\n",
       " 'Atlantic/St_Helena': tzfile('Atlantic/St_Helena'),\n",
       " 'Atlantic/Stanley': tzfile('Atlantic/Stanley'),\n",
       " 'Africa/Accra': tzfile('Africa/Accra'),\n",
       " 'Africa/Algiers': tzfile('Africa/Algiers'),\n",
       " 'Africa/Bangui': tzfile('Africa/Bangui'),\n",
       " 'Africa/Bissau': tzfile('Africa/Bissau'),\n",
       " 'Africa/Blantyre': tzfile('Africa/Blantyre'),\n",
       " 'Africa/Casablanca': tzfile('Africa/Casablanca'),\n",
       " 'Africa/Ceuta': tzfile('Africa/Ceuta'),\n",
       " 'Africa/El_Aaiun': tzfile('Africa/El_Aaiun'),\n",
       " 'Africa/Johannesburg': tzfile('Africa/Johannesburg'),\n",
       " 'Africa/Juba': tzfile('Africa/Juba'),\n",
       " 'Africa/Khartoum': tzfile('Africa/Khartoum'),\n",
       " 'Africa/Monrovia': tzfile('Africa/Monrovia'),\n",
       " 'Africa/Ndjamena': tzfile('Africa/Ndjamena'),\n",
       " 'Africa/Sao_Tome': tzfile('Africa/Sao_Tome'),\n",
       " 'Africa/Tunis': tzfile('Africa/Tunis'),\n",
       " 'Africa/Windhoek': tzfile('Africa/Windhoek'),\n",
       " 'Universal': tzfile('Zulu'),\n",
       " 'UTC': tzfile('Zulu'),\n",
       " 'UCT': tzfile('Zulu'),\n",
       " 'GMT0': tzfile('Greenwich'),\n",
       " 'GMT-0': tzfile('Greenwich'),\n",
       " 'GMT+0': tzfile('Greenwich'),\n",
       " 'GB': tzfile('GB-Eire'),\n",
       " 'GMT': tzfile('Greenwich'),\n",
       " 'US/Mountain': tzfile('Navajo'),\n",
       " 'US/Pacific-New': tzfile('US/Pacific'),\n",
       " 'Etc/GMT': tzfile('Greenwich'),\n",
       " 'Etc/GMT+0': tzfile('Greenwich'),\n",
       " 'Etc/GMT-0': tzfile('Greenwich'),\n",
       " 'Etc/GMT0': tzfile('Greenwich'),\n",
       " 'Etc/Greenwich': tzfile('Greenwich'),\n",
       " 'Etc/UCT': tzfile('Zulu'),\n",
       " 'Etc/UTC': tzfile('Zulu'),\n",
       " 'Etc/Universal': tzfile('Zulu'),\n",
       " 'Etc/Zulu': tzfile('Zulu'),\n",
       " 'America/Adak': tzfile('US/Aleutian'),\n",
       " 'America/Anchorage': tzfile('US/Alaska'),\n",
       " 'America/Antigua': tzfile('America/Anguilla'),\n",
       " 'America/Argentina/ComodRivadavia': tzfile('America/Argentina/Catamarca'),\n",
       " 'America/Atka': tzfile('US/Aleutian'),\n",
       " 'America/Buenos_Aires': tzfile('America/Argentina/Buenos_Aires'),\n",
       " 'America/Catamarca': tzfile('America/Argentina/Catamarca'),\n",
       " 'America/Chicago': tzfile('US/Central'),\n",
       " 'America/Coral_Harbour': tzfile('America/Atikokan'),\n",
       " 'America/Cordoba': tzfile('America/Argentina/Cordoba'),\n",
       " 'America/Curacao': tzfile('America/Aruba'),\n",
       " 'America/Denver': tzfile('Navajo'),\n",
       " 'America/Detroit': tzfile('US/Michigan'),\n",
       " 'America/Dominica': tzfile('America/Anguilla'),\n",
       " 'America/Edmonton': tzfile('Canada/Mountain'),\n",
       " 'America/Ensenada': tzfile('Mexico/BajaNorte'),\n",
       " 'America/Fort_Wayne': tzfile('US/East-Indiana'),\n",
       " 'America/Grenada': tzfile('America/Anguilla'),\n",
       " 'America/Guadeloupe': tzfile('America/Anguilla'),\n",
       " 'America/Halifax': tzfile('Canada/Atlantic'),\n",
       " 'America/Havana': tzfile('Cuba'),\n",
       " 'America/Indiana/Indianapolis': tzfile('US/East-Indiana'),\n",
       " 'America/Indiana/Knox': tzfile('US/Indiana-Starke'),\n",
       " 'America/Indianapolis': tzfile('US/East-Indiana'),\n",
       " 'America/Jamaica': tzfile('Jamaica'),\n",
       " 'America/Jujuy': tzfile('America/Argentina/Jujuy'),\n",
       " 'America/Knox_IN': tzfile('US/Indiana-Starke'),\n",
       " 'America/Kralendijk': tzfile('America/Aruba'),\n",
       " 'America/Los_Angeles': tzfile('US/Pacific'),\n",
       " 'America/Louisville': tzfile('America/Kentucky/Louisville'),\n",
       " 'America/Lower_Princes': tzfile('America/Aruba'),\n",
       " 'America/Manaus': tzfile('Brazil/West'),\n",
       " 'America/Marigot': tzfile('America/Anguilla'),\n",
       " 'America/Mazatlan': tzfile('Mexico/BajaSur'),\n",
       " 'America/Mendoza': tzfile('America/Argentina/Mendoza'),\n",
       " 'America/Mexico_City': tzfile('Mexico/General'),\n",
       " 'America/Montreal': tzfile('Canada/Eastern'),\n",
       " 'America/Montserrat': tzfile('America/Anguilla'),\n",
       " 'America/New_York': tzfile('US/Eastern'),\n",
       " 'America/Noronha': tzfile('Brazil/DeNoronha'),\n",
       " 'America/Panama': tzfile('America/Cayman'),\n",
       " 'America/Phoenix': tzfile('US/Arizona'),\n",
       " 'America/Port_of_Spain': tzfile('America/Anguilla'),\n",
       " 'America/Porto_Acre': tzfile('Brazil/Acre'),\n",
       " 'America/Regina': tzfile('Canada/Saskatchewan'),\n",
       " 'America/Rio_Branco': tzfile('Brazil/Acre'),\n",
       " 'America/Rosario': tzfile('America/Argentina/Cordoba'),\n",
       " 'America/Santa_Isabel': tzfile('Mexico/BajaNorte'),\n",
       " 'America/Santiago': tzfile('Chile/Continental'),\n",
       " 'America/Sao_Paulo': tzfile('Brazil/East'),\n",
       " 'America/Shiprock': tzfile('Navajo'),\n",
       " 'America/St_Barthelemy': tzfile('America/Anguilla'),\n",
       " 'America/St_Johns': tzfile('Canada/Newfoundland'),\n",
       " 'America/St_Kitts': tzfile('America/Anguilla'),\n",
       " 'America/St_Lucia': tzfile('America/Anguilla'),\n",
       " 'America/St_Thomas': tzfile('America/Anguilla'),\n",
       " 'America/St_Vincent': tzfile('America/Anguilla'),\n",
       " 'America/Tijuana': tzfile('Mexico/BajaNorte'),\n",
       " 'America/Toronto': tzfile('Canada/Eastern'),\n",
       " 'America/Tortola': tzfile('America/Anguilla'),\n",
       " 'America/Vancouver': tzfile('Canada/Pacific'),\n",
       " 'America/Virgin': tzfile('America/Anguilla'),\n",
       " 'America/Whitehorse': tzfile('Canada/Yukon'),\n",
       " 'America/Winnipeg': tzfile('Canada/Central'),\n",
       " 'Europe/Belfast': tzfile('GB-Eire'),\n",
       " 'Europe/Dublin': tzfile('Eire'),\n",
       " 'Europe/Guernsey': tzfile('GB-Eire'),\n",
       " 'Europe/Isle_of_Man': tzfile('GB-Eire'),\n",
       " 'Europe/Istanbul': tzfile('Turkey'),\n",
       " 'Europe/Jersey': tzfile('GB-Eire'),\n",
       " 'Europe/Lisbon': tzfile('Portugal'),\n",
       " 'Europe/Ljubljana': tzfile('Europe/Belgrade'),\n",
       " 'Europe/London': tzfile('GB-Eire'),\n",
       " 'Europe/Mariehamn': tzfile('Europe/Helsinki'),\n",
       " 'Europe/Moscow': tzfile('W-SU'),\n",
       " 'Europe/Oslo': tzfile('Arctic/Longyearbyen'),\n",
       " 'Europe/Podgorica': tzfile('Europe/Belgrade'),\n",
       " 'Europe/Prague': tzfile('Europe/Bratislava'),\n",
       " 'Europe/San_Marino': tzfile('Europe/Rome'),\n",
       " 'Europe/Sarajevo': tzfile('Europe/Belgrade'),\n",
       " 'Europe/Skopje': tzfile('Europe/Belgrade'),\n",
       " 'Europe/Tiraspol': tzfile('Europe/Chisinau'),\n",
       " 'Europe/Vaduz': tzfile('Europe/Busingen'),\n",
       " 'Europe/Vatican': tzfile('Europe/Rome'),\n",
       " 'Europe/Warsaw': tzfile('Poland'),\n",
       " 'Europe/Zagreb': tzfile('Europe/Belgrade'),\n",
       " 'Europe/Zurich': tzfile('Europe/Busingen'),\n",
       " 'Pacific/Auckland': tzfile('NZ'),\n",
       " 'Pacific/Chatham': tzfile('NZ-CHAT'),\n",
       " 'Pacific/Easter': tzfile('Chile/EasterIsland'),\n",
       " 'Pacific/Honolulu': tzfile('US/Hawaii'),\n",
       " 'Pacific/Johnston': tzfile('US/Hawaii'),\n",
       " 'Pacific/Kwajalein': tzfile('Kwajalein'),\n",
       " 'Pacific/Midway': tzfile('US/Samoa'),\n",
       " 'Pacific/Pago_Pago': tzfile('US/Samoa'),\n",
       " 'Pacific/Ponape': tzfile('Pacific/Pohnpei'),\n",
       " 'Pacific/Saipan': tzfile('Pacific/Guam'),\n",
       " 'Pacific/Samoa': tzfile('US/Samoa'),\n",
       " 'Pacific/Truk': tzfile('Pacific/Chuuk'),\n",
       " 'Pacific/Yap': tzfile('Pacific/Chuuk'),\n",
       " 'Australia/Canberra': tzfile('Australia/ACT'),\n",
       " 'Australia/Lord_Howe': tzfile('Australia/LHI'),\n",
       " 'Australia/NSW': tzfile('Australia/ACT'),\n",
       " 'Australia/North': tzfile('Australia/Darwin'),\n",
       " 'Australia/Queensland': tzfile('Australia/Brisbane'),\n",
       " 'Australia/South': tzfile('Australia/Adelaide'),\n",
       " 'Australia/Sydney': tzfile('Australia/ACT'),\n",
       " 'Australia/Tasmania': tzfile('Australia/Hobart'),\n",
       " 'Australia/Victoria': tzfile('Australia/Melbourne'),\n",
       " 'Australia/West': tzfile('Australia/Perth'),\n",
       " 'Australia/Yancowinna': tzfile('Australia/Broken_Hill'),\n",
       " 'Asia/Ashkhabad': tzfile('Asia/Ashgabat'),\n",
       " 'Asia/Chongqing': tzfile('PRC'),\n",
       " 'Asia/Chungking': tzfile('PRC'),\n",
       " 'Asia/Dhaka': tzfile('Asia/Dacca'),\n",
       " 'Asia/Harbin': tzfile('PRC'),\n",
       " 'Asia/Hong_Kong': tzfile('Hongkong'),\n",
       " 'Asia/Istanbul': tzfile('Turkey'),\n",
       " 'Asia/Jerusalem': tzfile('Israel'),\n",
       " 'Asia/Katmandu': tzfile('Asia/Kathmandu'),\n",
       " 'Asia/Kolkata': tzfile('Asia/Calcutta'),\n",
       " 'Asia/Kuwait': tzfile('Asia/Aden'),\n",
       " 'Asia/Macau': tzfile('Asia/Macao'),\n",
       " 'Asia/Muscat': tzfile('Asia/Dubai'),\n",
       " 'Asia/Nicosia': tzfile('Europe/Nicosia'),\n",
       " 'Asia/Phnom_Penh': tzfile('Asia/Bangkok'),\n",
       " 'Asia/Qatar': tzfile('Asia/Bahrain'),\n",
       " 'Asia/Riyadh': tzfile('Asia/Aden'),\n",
       " 'Asia/Saigon': tzfile('Asia/Ho_Chi_Minh'),\n",
       " 'Asia/Seoul': tzfile('ROK'),\n",
       " 'Asia/Shanghai': tzfile('PRC'),\n",
       " 'Asia/Singapore': tzfile('Singapore'),\n",
       " 'Asia/Taipei': tzfile('ROC'),\n",
       " 'Asia/Tehran': tzfile('Iran'),\n",
       " 'Asia/Tel_Aviv': tzfile('Israel'),\n",
       " 'Asia/Thimphu': tzfile('Asia/Thimbu'),\n",
       " 'Asia/Tokyo': tzfile('Japan'),\n",
       " 'Asia/Ujung_Pandang': tzfile('Asia/Makassar'),\n",
       " 'Asia/Ulan_Bator': tzfile('Asia/Ulaanbaatar'),\n",
       " 'Asia/Urumqi': tzfile('Asia/Kashgar'),\n",
       " 'Asia/Vientiane': tzfile('Asia/Bangkok'),\n",
       " 'Asia/Yangon': tzfile('Asia/Rangoon'),\n",
       " 'Antarctica/McMurdo': tzfile('NZ'),\n",
       " 'Antarctica/South_Pole': tzfile('NZ'),\n",
       " 'Indian/Comoro': tzfile('Indian/Antananarivo'),\n",
       " 'Indian/Mayotte': tzfile('Indian/Antananarivo'),\n",
       " 'Atlantic/Faroe': tzfile('Atlantic/Faeroe'),\n",
       " 'Atlantic/Jan_Mayen': tzfile('Arctic/Longyearbyen'),\n",
       " 'Atlantic/Reykjavik': tzfile('Iceland'),\n",
       " 'Africa/Abidjan': tzfile('Atlantic/St_Helena'),\n",
       " 'Africa/Addis_Ababa': tzfile('Indian/Antananarivo'),\n",
       " 'Africa/Asmara': tzfile('Indian/Antananarivo'),\n",
       " 'Africa/Asmera': tzfile('Indian/Antananarivo'),\n",
       " 'Africa/Bamako': tzfile('Atlantic/St_Helena'),\n",
       " 'Africa/Banjul': tzfile('Atlantic/St_Helena'),\n",
       " 'Africa/Brazzaville': tzfile('Africa/Bangui'),\n",
       " 'Africa/Bujumbura': tzfile('Africa/Blantyre'),\n",
       " 'Africa/Cairo': tzfile('Egypt'),\n",
       " 'Africa/Conakry': tzfile('Atlantic/St_Helena'),\n",
       " 'Africa/Dakar': tzfile('Atlantic/St_Helena'),\n",
       " 'Africa/Dar_es_Salaam': tzfile('Indian/Antananarivo'),\n",
       " 'Africa/Djibouti': tzfile('Indian/Antananarivo'),\n",
       " 'Africa/Douala': tzfile('Africa/Bangui'),\n",
       " 'Africa/Freetown': tzfile('Atlantic/St_Helena'),\n",
       " 'Africa/Gaborone': tzfile('Africa/Blantyre'),\n",
       " 'Africa/Harare': tzfile('Africa/Blantyre'),\n",
       " 'Africa/Kampala': tzfile('Indian/Antananarivo'),\n",
       " 'Africa/Kigali': tzfile('Africa/Blantyre'),\n",
       " 'Africa/Kinshasa': tzfile('Africa/Bangui'),\n",
       " 'Africa/Lagos': tzfile('Africa/Bangui'),\n",
       " 'Africa/Libreville': tzfile('Africa/Bangui'),\n",
       " 'Africa/Lome': tzfile('Atlantic/St_Helena'),\n",
       " 'Africa/Luanda': tzfile('Africa/Bangui'),\n",
       " 'Africa/Lubumbashi': tzfile('Africa/Blantyre'),\n",
       " 'Africa/Lusaka': tzfile('Africa/Blantyre'),\n",
       " 'Africa/Malabo': tzfile('Africa/Bangui'),\n",
       " 'Africa/Maputo': tzfile('Africa/Blantyre'),\n",
       " 'Africa/Maseru': tzfile('Africa/Johannesburg'),\n",
       " 'Africa/Mbabane': tzfile('Africa/Johannesburg'),\n",
       " 'Africa/Mogadishu': tzfile('Indian/Antananarivo'),\n",
       " 'Africa/Nairobi': tzfile('Indian/Antananarivo'),\n",
       " 'Africa/Niamey': tzfile('Africa/Bangui'),\n",
       " 'Africa/Nouakchott': tzfile('Atlantic/St_Helena'),\n",
       " 'Africa/Ouagadougou': tzfile('Atlantic/St_Helena'),\n",
       " 'Africa/Porto-Novo': tzfile('Africa/Bangui'),\n",
       " 'Africa/Timbuktu': tzfile('Atlantic/St_Helena'),\n",
       " 'Africa/Tripoli': tzfile('Libya')}"
      ]
     },
     "execution_count": 33,
     "metadata": {},
     "output_type": "execute_result"
    }
   ],
   "source": [
    "# список часовых поясов из пакета dateutil\n",
    "\n",
    "from dateutil.zoneinfo import get_zonefile_instance\n",
    "\n",
    "print(f\"len = {len(get_zonefile_instance().zones)}\")\n",
    "\n",
    "get_zonefile_instance().zones"
   ]
  },
  {
   "cell_type": "code",
   "execution_count": 34,
   "metadata": {},
   "outputs": [
    {
     "name": "stdout",
     "output_type": "stream",
     "text": [
      "len = 593\n"
     ]
    },
    {
     "data": {
      "text/plain": [
       "['Africa/Abidjan',\n",
       " 'Africa/Accra',\n",
       " 'Africa/Addis_Ababa',\n",
       " 'Africa/Algiers',\n",
       " 'Africa/Asmara',\n",
       " 'Africa/Asmera',\n",
       " 'Africa/Bamako',\n",
       " 'Africa/Bangui',\n",
       " 'Africa/Banjul',\n",
       " 'Africa/Bissau',\n",
       " 'Africa/Blantyre',\n",
       " 'Africa/Brazzaville',\n",
       " 'Africa/Bujumbura',\n",
       " 'Africa/Cairo',\n",
       " 'Africa/Casablanca',\n",
       " 'Africa/Ceuta',\n",
       " 'Africa/Conakry',\n",
       " 'Africa/Dakar',\n",
       " 'Africa/Dar_es_Salaam',\n",
       " 'Africa/Djibouti',\n",
       " 'Africa/Douala',\n",
       " 'Africa/El_Aaiun',\n",
       " 'Africa/Freetown',\n",
       " 'Africa/Gaborone',\n",
       " 'Africa/Harare',\n",
       " 'Africa/Johannesburg',\n",
       " 'Africa/Juba',\n",
       " 'Africa/Kampala',\n",
       " 'Africa/Khartoum',\n",
       " 'Africa/Kigali',\n",
       " 'Africa/Kinshasa',\n",
       " 'Africa/Lagos',\n",
       " 'Africa/Libreville',\n",
       " 'Africa/Lome',\n",
       " 'Africa/Luanda',\n",
       " 'Africa/Lubumbashi',\n",
       " 'Africa/Lusaka',\n",
       " 'Africa/Malabo',\n",
       " 'Africa/Maputo',\n",
       " 'Africa/Maseru',\n",
       " 'Africa/Mbabane',\n",
       " 'Africa/Mogadishu',\n",
       " 'Africa/Monrovia',\n",
       " 'Africa/Nairobi',\n",
       " 'Africa/Ndjamena',\n",
       " 'Africa/Niamey',\n",
       " 'Africa/Nouakchott',\n",
       " 'Africa/Ouagadougou',\n",
       " 'Africa/Porto-Novo',\n",
       " 'Africa/Sao_Tome',\n",
       " 'Africa/Timbuktu',\n",
       " 'Africa/Tripoli',\n",
       " 'Africa/Tunis',\n",
       " 'Africa/Windhoek',\n",
       " 'America/Adak',\n",
       " 'America/Anchorage',\n",
       " 'America/Anguilla',\n",
       " 'America/Antigua',\n",
       " 'America/Araguaina',\n",
       " 'America/Argentina/Buenos_Aires',\n",
       " 'America/Argentina/Catamarca',\n",
       " 'America/Argentina/ComodRivadavia',\n",
       " 'America/Argentina/Cordoba',\n",
       " 'America/Argentina/Jujuy',\n",
       " 'America/Argentina/La_Rioja',\n",
       " 'America/Argentina/Mendoza',\n",
       " 'America/Argentina/Rio_Gallegos',\n",
       " 'America/Argentina/Salta',\n",
       " 'America/Argentina/San_Juan',\n",
       " 'America/Argentina/San_Luis',\n",
       " 'America/Argentina/Tucuman',\n",
       " 'America/Argentina/Ushuaia',\n",
       " 'America/Aruba',\n",
       " 'America/Asuncion',\n",
       " 'America/Atikokan',\n",
       " 'America/Atka',\n",
       " 'America/Bahia',\n",
       " 'America/Bahia_Banderas',\n",
       " 'America/Barbados',\n",
       " 'America/Belem',\n",
       " 'America/Belize',\n",
       " 'America/Blanc-Sablon',\n",
       " 'America/Boa_Vista',\n",
       " 'America/Bogota',\n",
       " 'America/Boise',\n",
       " 'America/Buenos_Aires',\n",
       " 'America/Cambridge_Bay',\n",
       " 'America/Campo_Grande',\n",
       " 'America/Cancun',\n",
       " 'America/Caracas',\n",
       " 'America/Catamarca',\n",
       " 'America/Cayenne',\n",
       " 'America/Cayman',\n",
       " 'America/Chicago',\n",
       " 'America/Chihuahua',\n",
       " 'America/Coral_Harbour',\n",
       " 'America/Cordoba',\n",
       " 'America/Costa_Rica',\n",
       " 'America/Creston',\n",
       " 'America/Cuiaba',\n",
       " 'America/Curacao',\n",
       " 'America/Danmarkshavn',\n",
       " 'America/Dawson',\n",
       " 'America/Dawson_Creek',\n",
       " 'America/Denver',\n",
       " 'America/Detroit',\n",
       " 'America/Dominica',\n",
       " 'America/Edmonton',\n",
       " 'America/Eirunepe',\n",
       " 'America/El_Salvador',\n",
       " 'America/Ensenada',\n",
       " 'America/Fort_Nelson',\n",
       " 'America/Fort_Wayne',\n",
       " 'America/Fortaleza',\n",
       " 'America/Glace_Bay',\n",
       " 'America/Godthab',\n",
       " 'America/Goose_Bay',\n",
       " 'America/Grand_Turk',\n",
       " 'America/Grenada',\n",
       " 'America/Guadeloupe',\n",
       " 'America/Guatemala',\n",
       " 'America/Guayaquil',\n",
       " 'America/Guyana',\n",
       " 'America/Halifax',\n",
       " 'America/Havana',\n",
       " 'America/Hermosillo',\n",
       " 'America/Indiana/Indianapolis',\n",
       " 'America/Indiana/Knox',\n",
       " 'America/Indiana/Marengo',\n",
       " 'America/Indiana/Petersburg',\n",
       " 'America/Indiana/Tell_City',\n",
       " 'America/Indiana/Vevay',\n",
       " 'America/Indiana/Vincennes',\n",
       " 'America/Indiana/Winamac',\n",
       " 'America/Indianapolis',\n",
       " 'America/Inuvik',\n",
       " 'America/Iqaluit',\n",
       " 'America/Jamaica',\n",
       " 'America/Jujuy',\n",
       " 'America/Juneau',\n",
       " 'America/Kentucky/Louisville',\n",
       " 'America/Kentucky/Monticello',\n",
       " 'America/Knox_IN',\n",
       " 'America/Kralendijk',\n",
       " 'America/La_Paz',\n",
       " 'America/Lima',\n",
       " 'America/Los_Angeles',\n",
       " 'America/Louisville',\n",
       " 'America/Lower_Princes',\n",
       " 'America/Maceio',\n",
       " 'America/Managua',\n",
       " 'America/Manaus',\n",
       " 'America/Marigot',\n",
       " 'America/Martinique',\n",
       " 'America/Matamoros',\n",
       " 'America/Mazatlan',\n",
       " 'America/Mendoza',\n",
       " 'America/Menominee',\n",
       " 'America/Merida',\n",
       " 'America/Metlakatla',\n",
       " 'America/Mexico_City',\n",
       " 'America/Miquelon',\n",
       " 'America/Moncton',\n",
       " 'America/Monterrey',\n",
       " 'America/Montevideo',\n",
       " 'America/Montreal',\n",
       " 'America/Montserrat',\n",
       " 'America/Nassau',\n",
       " 'America/New_York',\n",
       " 'America/Nipigon',\n",
       " 'America/Nome',\n",
       " 'America/Noronha',\n",
       " 'America/North_Dakota/Beulah',\n",
       " 'America/North_Dakota/Center',\n",
       " 'America/North_Dakota/New_Salem',\n",
       " 'America/Nuuk',\n",
       " 'America/Ojinaga',\n",
       " 'America/Panama',\n",
       " 'America/Pangnirtung',\n",
       " 'America/Paramaribo',\n",
       " 'America/Phoenix',\n",
       " 'America/Port-au-Prince',\n",
       " 'America/Port_of_Spain',\n",
       " 'America/Porto_Acre',\n",
       " 'America/Porto_Velho',\n",
       " 'America/Puerto_Rico',\n",
       " 'America/Punta_Arenas',\n",
       " 'America/Rainy_River',\n",
       " 'America/Rankin_Inlet',\n",
       " 'America/Recife',\n",
       " 'America/Regina',\n",
       " 'America/Resolute',\n",
       " 'America/Rio_Branco',\n",
       " 'America/Rosario',\n",
       " 'America/Santa_Isabel',\n",
       " 'America/Santarem',\n",
       " 'America/Santiago',\n",
       " 'America/Santo_Domingo',\n",
       " 'America/Sao_Paulo',\n",
       " 'America/Scoresbysund',\n",
       " 'America/Shiprock',\n",
       " 'America/Sitka',\n",
       " 'America/St_Barthelemy',\n",
       " 'America/St_Johns',\n",
       " 'America/St_Kitts',\n",
       " 'America/St_Lucia',\n",
       " 'America/St_Thomas',\n",
       " 'America/St_Vincent',\n",
       " 'America/Swift_Current',\n",
       " 'America/Tegucigalpa',\n",
       " 'America/Thule',\n",
       " 'America/Thunder_Bay',\n",
       " 'America/Tijuana',\n",
       " 'America/Toronto',\n",
       " 'America/Tortola',\n",
       " 'America/Vancouver',\n",
       " 'America/Virgin',\n",
       " 'America/Whitehorse',\n",
       " 'America/Winnipeg',\n",
       " 'America/Yakutat',\n",
       " 'America/Yellowknife',\n",
       " 'Antarctica/Casey',\n",
       " 'Antarctica/Davis',\n",
       " 'Antarctica/DumontDUrville',\n",
       " 'Antarctica/Macquarie',\n",
       " 'Antarctica/Mawson',\n",
       " 'Antarctica/McMurdo',\n",
       " 'Antarctica/Palmer',\n",
       " 'Antarctica/Rothera',\n",
       " 'Antarctica/South_Pole',\n",
       " 'Antarctica/Syowa',\n",
       " 'Antarctica/Troll',\n",
       " 'Antarctica/Vostok',\n",
       " 'Arctic/Longyearbyen',\n",
       " 'Asia/Aden',\n",
       " 'Asia/Almaty',\n",
       " 'Asia/Amman',\n",
       " 'Asia/Anadyr',\n",
       " 'Asia/Aqtau',\n",
       " 'Asia/Aqtobe',\n",
       " 'Asia/Ashgabat',\n",
       " 'Asia/Ashkhabad',\n",
       " 'Asia/Atyrau',\n",
       " 'Asia/Baghdad',\n",
       " 'Asia/Bahrain',\n",
       " 'Asia/Baku',\n",
       " 'Asia/Bangkok',\n",
       " 'Asia/Barnaul',\n",
       " 'Asia/Beirut',\n",
       " 'Asia/Bishkek',\n",
       " 'Asia/Brunei',\n",
       " 'Asia/Calcutta',\n",
       " 'Asia/Chita',\n",
       " 'Asia/Choibalsan',\n",
       " 'Asia/Chongqing',\n",
       " 'Asia/Chungking',\n",
       " 'Asia/Colombo',\n",
       " 'Asia/Dacca',\n",
       " 'Asia/Damascus',\n",
       " 'Asia/Dhaka',\n",
       " 'Asia/Dili',\n",
       " 'Asia/Dubai',\n",
       " 'Asia/Dushanbe',\n",
       " 'Asia/Famagusta',\n",
       " 'Asia/Gaza',\n",
       " 'Asia/Harbin',\n",
       " 'Asia/Hebron',\n",
       " 'Asia/Ho_Chi_Minh',\n",
       " 'Asia/Hong_Kong',\n",
       " 'Asia/Hovd',\n",
       " 'Asia/Irkutsk',\n",
       " 'Asia/Istanbul',\n",
       " 'Asia/Jakarta',\n",
       " 'Asia/Jayapura',\n",
       " 'Asia/Jerusalem',\n",
       " 'Asia/Kabul',\n",
       " 'Asia/Kamchatka',\n",
       " 'Asia/Karachi',\n",
       " 'Asia/Kashgar',\n",
       " 'Asia/Kathmandu',\n",
       " 'Asia/Katmandu',\n",
       " 'Asia/Khandyga',\n",
       " 'Asia/Kolkata',\n",
       " 'Asia/Krasnoyarsk',\n",
       " 'Asia/Kuala_Lumpur',\n",
       " 'Asia/Kuching',\n",
       " 'Asia/Kuwait',\n",
       " 'Asia/Macao',\n",
       " 'Asia/Macau',\n",
       " 'Asia/Magadan',\n",
       " 'Asia/Makassar',\n",
       " 'Asia/Manila',\n",
       " 'Asia/Muscat',\n",
       " 'Asia/Nicosia',\n",
       " 'Asia/Novokuznetsk',\n",
       " 'Asia/Novosibirsk',\n",
       " 'Asia/Omsk',\n",
       " 'Asia/Oral',\n",
       " 'Asia/Phnom_Penh',\n",
       " 'Asia/Pontianak',\n",
       " 'Asia/Pyongyang',\n",
       " 'Asia/Qatar',\n",
       " 'Asia/Qostanay',\n",
       " 'Asia/Qyzylorda',\n",
       " 'Asia/Rangoon',\n",
       " 'Asia/Riyadh',\n",
       " 'Asia/Saigon',\n",
       " 'Asia/Sakhalin',\n",
       " 'Asia/Samarkand',\n",
       " 'Asia/Seoul',\n",
       " 'Asia/Shanghai',\n",
       " 'Asia/Singapore',\n",
       " 'Asia/Srednekolymsk',\n",
       " 'Asia/Taipei',\n",
       " 'Asia/Tashkent',\n",
       " 'Asia/Tbilisi',\n",
       " 'Asia/Tehran',\n",
       " 'Asia/Tel_Aviv',\n",
       " 'Asia/Thimbu',\n",
       " 'Asia/Thimphu',\n",
       " 'Asia/Tokyo',\n",
       " 'Asia/Tomsk',\n",
       " 'Asia/Ujung_Pandang',\n",
       " 'Asia/Ulaanbaatar',\n",
       " 'Asia/Ulan_Bator',\n",
       " 'Asia/Urumqi',\n",
       " 'Asia/Ust-Nera',\n",
       " 'Asia/Vientiane',\n",
       " 'Asia/Vladivostok',\n",
       " 'Asia/Yakutsk',\n",
       " 'Asia/Yangon',\n",
       " 'Asia/Yekaterinburg',\n",
       " 'Asia/Yerevan',\n",
       " 'Atlantic/Azores',\n",
       " 'Atlantic/Bermuda',\n",
       " 'Atlantic/Canary',\n",
       " 'Atlantic/Cape_Verde',\n",
       " 'Atlantic/Faeroe',\n",
       " 'Atlantic/Faroe',\n",
       " 'Atlantic/Jan_Mayen',\n",
       " 'Atlantic/Madeira',\n",
       " 'Atlantic/Reykjavik',\n",
       " 'Atlantic/South_Georgia',\n",
       " 'Atlantic/St_Helena',\n",
       " 'Atlantic/Stanley',\n",
       " 'Australia/ACT',\n",
       " 'Australia/Adelaide',\n",
       " 'Australia/Brisbane',\n",
       " 'Australia/Broken_Hill',\n",
       " 'Australia/Canberra',\n",
       " 'Australia/Currie',\n",
       " 'Australia/Darwin',\n",
       " 'Australia/Eucla',\n",
       " 'Australia/Hobart',\n",
       " 'Australia/LHI',\n",
       " 'Australia/Lindeman',\n",
       " 'Australia/Lord_Howe',\n",
       " 'Australia/Melbourne',\n",
       " 'Australia/NSW',\n",
       " 'Australia/North',\n",
       " 'Australia/Perth',\n",
       " 'Australia/Queensland',\n",
       " 'Australia/South',\n",
       " 'Australia/Sydney',\n",
       " 'Australia/Tasmania',\n",
       " 'Australia/Victoria',\n",
       " 'Australia/West',\n",
       " 'Australia/Yancowinna',\n",
       " 'Brazil/Acre',\n",
       " 'Brazil/DeNoronha',\n",
       " 'Brazil/East',\n",
       " 'Brazil/West',\n",
       " 'CET',\n",
       " 'CST6CDT',\n",
       " 'Canada/Atlantic',\n",
       " 'Canada/Central',\n",
       " 'Canada/Eastern',\n",
       " 'Canada/Mountain',\n",
       " 'Canada/Newfoundland',\n",
       " 'Canada/Pacific',\n",
       " 'Canada/Saskatchewan',\n",
       " 'Canada/Yukon',\n",
       " 'Chile/Continental',\n",
       " 'Chile/EasterIsland',\n",
       " 'Cuba',\n",
       " 'EET',\n",
       " 'EST',\n",
       " 'EST5EDT',\n",
       " 'Egypt',\n",
       " 'Eire',\n",
       " 'Etc/GMT',\n",
       " 'Etc/GMT+0',\n",
       " 'Etc/GMT+1',\n",
       " 'Etc/GMT+10',\n",
       " 'Etc/GMT+11',\n",
       " 'Etc/GMT+12',\n",
       " 'Etc/GMT+2',\n",
       " 'Etc/GMT+3',\n",
       " 'Etc/GMT+4',\n",
       " 'Etc/GMT+5',\n",
       " 'Etc/GMT+6',\n",
       " 'Etc/GMT+7',\n",
       " 'Etc/GMT+8',\n",
       " 'Etc/GMT+9',\n",
       " 'Etc/GMT-0',\n",
       " 'Etc/GMT-1',\n",
       " 'Etc/GMT-10',\n",
       " 'Etc/GMT-11',\n",
       " 'Etc/GMT-12',\n",
       " 'Etc/GMT-13',\n",
       " 'Etc/GMT-14',\n",
       " 'Etc/GMT-2',\n",
       " 'Etc/GMT-3',\n",
       " 'Etc/GMT-4',\n",
       " 'Etc/GMT-5',\n",
       " 'Etc/GMT-6',\n",
       " 'Etc/GMT-7',\n",
       " 'Etc/GMT-8',\n",
       " 'Etc/GMT-9',\n",
       " 'Etc/GMT0',\n",
       " 'Etc/Greenwich',\n",
       " 'Etc/UCT',\n",
       " 'Etc/UTC',\n",
       " 'Etc/Universal',\n",
       " 'Etc/Zulu',\n",
       " 'Europe/Amsterdam',\n",
       " 'Europe/Andorra',\n",
       " 'Europe/Astrakhan',\n",
       " 'Europe/Athens',\n",
       " 'Europe/Belfast',\n",
       " 'Europe/Belgrade',\n",
       " 'Europe/Berlin',\n",
       " 'Europe/Bratislava',\n",
       " 'Europe/Brussels',\n",
       " 'Europe/Bucharest',\n",
       " 'Europe/Budapest',\n",
       " 'Europe/Busingen',\n",
       " 'Europe/Chisinau',\n",
       " 'Europe/Copenhagen',\n",
       " 'Europe/Dublin',\n",
       " 'Europe/Gibraltar',\n",
       " 'Europe/Guernsey',\n",
       " 'Europe/Helsinki',\n",
       " 'Europe/Isle_of_Man',\n",
       " 'Europe/Istanbul',\n",
       " 'Europe/Jersey',\n",
       " 'Europe/Kaliningrad',\n",
       " 'Europe/Kiev',\n",
       " 'Europe/Kirov',\n",
       " 'Europe/Lisbon',\n",
       " 'Europe/Ljubljana',\n",
       " 'Europe/London',\n",
       " 'Europe/Luxembourg',\n",
       " 'Europe/Madrid',\n",
       " 'Europe/Malta',\n",
       " 'Europe/Mariehamn',\n",
       " 'Europe/Minsk',\n",
       " 'Europe/Monaco',\n",
       " 'Europe/Moscow',\n",
       " 'Europe/Nicosia',\n",
       " 'Europe/Oslo',\n",
       " 'Europe/Paris',\n",
       " 'Europe/Podgorica',\n",
       " 'Europe/Prague',\n",
       " 'Europe/Riga',\n",
       " 'Europe/Rome',\n",
       " 'Europe/Samara',\n",
       " 'Europe/San_Marino',\n",
       " 'Europe/Sarajevo',\n",
       " 'Europe/Saratov',\n",
       " 'Europe/Simferopol',\n",
       " 'Europe/Skopje',\n",
       " 'Europe/Sofia',\n",
       " 'Europe/Stockholm',\n",
       " 'Europe/Tallinn',\n",
       " 'Europe/Tirane',\n",
       " 'Europe/Tiraspol',\n",
       " 'Europe/Ulyanovsk',\n",
       " 'Europe/Uzhgorod',\n",
       " 'Europe/Vaduz',\n",
       " 'Europe/Vatican',\n",
       " 'Europe/Vienna',\n",
       " 'Europe/Vilnius',\n",
       " 'Europe/Volgograd',\n",
       " 'Europe/Warsaw',\n",
       " 'Europe/Zagreb',\n",
       " 'Europe/Zaporozhye',\n",
       " 'Europe/Zurich',\n",
       " 'GB',\n",
       " 'GB-Eire',\n",
       " 'GMT',\n",
       " 'GMT+0',\n",
       " 'GMT-0',\n",
       " 'GMT0',\n",
       " 'Greenwich',\n",
       " 'HST',\n",
       " 'Hongkong',\n",
       " 'Iceland',\n",
       " 'Indian/Antananarivo',\n",
       " 'Indian/Chagos',\n",
       " 'Indian/Christmas',\n",
       " 'Indian/Cocos',\n",
       " 'Indian/Comoro',\n",
       " 'Indian/Kerguelen',\n",
       " 'Indian/Mahe',\n",
       " 'Indian/Maldives',\n",
       " 'Indian/Mauritius',\n",
       " 'Indian/Mayotte',\n",
       " 'Indian/Reunion',\n",
       " 'Iran',\n",
       " 'Israel',\n",
       " 'Jamaica',\n",
       " 'Japan',\n",
       " 'Kwajalein',\n",
       " 'Libya',\n",
       " 'MET',\n",
       " 'MST',\n",
       " 'MST7MDT',\n",
       " 'Mexico/BajaNorte',\n",
       " 'Mexico/BajaSur',\n",
       " 'Mexico/General',\n",
       " 'NZ',\n",
       " 'NZ-CHAT',\n",
       " 'Navajo',\n",
       " 'PRC',\n",
       " 'PST8PDT',\n",
       " 'Pacific/Apia',\n",
       " 'Pacific/Auckland',\n",
       " 'Pacific/Bougainville',\n",
       " 'Pacific/Chatham',\n",
       " 'Pacific/Chuuk',\n",
       " 'Pacific/Easter',\n",
       " 'Pacific/Efate',\n",
       " 'Pacific/Enderbury',\n",
       " 'Pacific/Fakaofo',\n",
       " 'Pacific/Fiji',\n",
       " 'Pacific/Funafuti',\n",
       " 'Pacific/Galapagos',\n",
       " 'Pacific/Gambier',\n",
       " 'Pacific/Guadalcanal',\n",
       " 'Pacific/Guam',\n",
       " 'Pacific/Honolulu',\n",
       " 'Pacific/Johnston',\n",
       " 'Pacific/Kiritimati',\n",
       " 'Pacific/Kosrae',\n",
       " 'Pacific/Kwajalein',\n",
       " 'Pacific/Majuro',\n",
       " 'Pacific/Marquesas',\n",
       " 'Pacific/Midway',\n",
       " 'Pacific/Nauru',\n",
       " 'Pacific/Niue',\n",
       " 'Pacific/Norfolk',\n",
       " 'Pacific/Noumea',\n",
       " 'Pacific/Pago_Pago',\n",
       " 'Pacific/Palau',\n",
       " 'Pacific/Pitcairn',\n",
       " 'Pacific/Pohnpei',\n",
       " 'Pacific/Ponape',\n",
       " 'Pacific/Port_Moresby',\n",
       " 'Pacific/Rarotonga',\n",
       " 'Pacific/Saipan',\n",
       " 'Pacific/Samoa',\n",
       " 'Pacific/Tahiti',\n",
       " 'Pacific/Tarawa',\n",
       " 'Pacific/Tongatapu',\n",
       " 'Pacific/Truk',\n",
       " 'Pacific/Wake',\n",
       " 'Pacific/Wallis',\n",
       " 'Pacific/Yap',\n",
       " 'Poland',\n",
       " 'Portugal',\n",
       " 'ROC',\n",
       " 'ROK',\n",
       " 'Singapore',\n",
       " 'Turkey',\n",
       " 'UCT',\n",
       " 'US/Alaska',\n",
       " 'US/Aleutian',\n",
       " 'US/Arizona',\n",
       " 'US/Central',\n",
       " 'US/East-Indiana',\n",
       " 'US/Eastern',\n",
       " 'US/Hawaii',\n",
       " 'US/Indiana-Starke',\n",
       " 'US/Michigan',\n",
       " 'US/Mountain',\n",
       " 'US/Pacific',\n",
       " 'US/Samoa',\n",
       " 'UTC',\n",
       " 'Universal',\n",
       " 'W-SU',\n",
       " 'WET',\n",
       " 'Zulu']"
      ]
     },
     "execution_count": 34,
     "metadata": {},
     "output_type": "execute_result"
    }
   ],
   "source": [
    "# список часовых поясов из пакета pytz\n",
    "\n",
    "import pytz\n",
    "\n",
    "print(f\"len = {len(pytz.all_timezones)}\")\n",
    "\n",
    "pytz.all_timezones"
   ]
  },
  {
   "cell_type": "code",
   "execution_count": 35,
   "metadata": {},
   "outputs": [],
   "source": [
    "import datetime"
   ]
  },
  {
   "cell_type": "code",
   "execution_count": 36,
   "metadata": {},
   "outputs": [
    {
     "data": {
      "text/plain": [
       "DatetimeIndex(['2018-01-01', '2018-01-01', '2018-01-01'], dtype='datetime64[ns]', freq=None)"
      ]
     },
     "execution_count": 36,
     "metadata": {},
     "output_type": "execute_result"
    }
   ],
   "source": [
    "dti = pd.to_datetime([\"1/1/2018\",\n",
    "                      np.datetime64(\"2018-01-01\"), \n",
    "                      datetime.datetime(2018, 1, 1)])\n",
    "dti"
   ]
  },
  {
   "cell_type": "code",
   "execution_count": 37,
   "metadata": {},
   "outputs": [
    {
     "data": {
      "text/plain": [
       "DatetimeIndex(['2018-01-01 00:00:00', '2018-01-01 01:00:00',\n",
       "               '2018-01-01 02:00:00'],\n",
       "              dtype='datetime64[ns]', freq='H')"
      ]
     },
     "execution_count": 37,
     "metadata": {},
     "output_type": "execute_result"
    }
   ],
   "source": [
    "dti = pd.date_range(\"2018-01-01\", \n",
    "                    periods=3, \n",
    "                    freq=\"H\")\n",
    "\n",
    "dti"
   ]
  },
  {
   "cell_type": "code",
   "execution_count": 38,
   "metadata": {},
   "outputs": [
    {
     "data": {
      "text/plain": [
       "DatetimeIndex(['2018-01-01 00:00:00+00:00', '2018-01-01 01:00:00+00:00',\n",
       "               '2018-01-01 02:00:00+00:00'],\n",
       "              dtype='datetime64[ns, UTC]', freq='H')"
      ]
     },
     "execution_count": 38,
     "metadata": {},
     "output_type": "execute_result"
    }
   ],
   "source": [
    "# управление и преобразование даты и времени \n",
    "# с информацией о часовом поясе\n",
    "dti.tz_localize(\"UTC\")"
   ]
  },
  {
   "cell_type": "code",
   "execution_count": 39,
   "metadata": {},
   "outputs": [
    {
     "data": {
      "text/plain": [
       "DatetimeIndex(['2018-01-01 00:00:00-08:00', '2018-01-01 01:00:00-08:00',\n",
       "               '2018-01-01 02:00:00-08:00'],\n",
       "              dtype='datetime64[ns, US/Pacific]', freq=None)"
      ]
     },
     "execution_count": 39,
     "metadata": {},
     "output_type": "execute_result"
    }
   ],
   "source": [
    "dti.tz_localize(\"US/Pacific\")"
   ]
  },
  {
   "cell_type": "code",
   "execution_count": 40,
   "metadata": {},
   "outputs": [
    {
     "data": {
      "text/plain": [
       "2018-01-01 00:00:00    0\n",
       "2018-01-01 01:00:00    1\n",
       "2018-01-01 02:00:00    2\n",
       "2018-01-01 03:00:00    3\n",
       "2018-01-01 04:00:00    4\n",
       "Freq: H, dtype: int64"
      ]
     },
     "execution_count": 40,
     "metadata": {},
     "output_type": "execute_result"
    }
   ],
   "source": [
    "idx = pd.date_range(\"2018-01-01\", periods=5, freq=\"H\")\n",
    "ts = pd.Series(range(len(idx)), index=idx)\n",
    "\n",
    "ts"
   ]
  },
  {
   "cell_type": "code",
   "execution_count": 41,
   "metadata": {},
   "outputs": [
    {
     "data": {
      "text/plain": [
       "2018-01-01 00:00:00    0.5\n",
       "2018-01-01 02:00:00    2.5\n",
       "2018-01-01 04:00:00    4.0\n",
       "Freq: 2H, dtype: float64"
      ]
     },
     "execution_count": 41,
     "metadata": {},
     "output_type": "execute_result"
    }
   ],
   "source": [
    "ts.resample(\"2H\").mean()"
   ]
  },
  {
   "cell_type": "code",
   "execution_count": 42,
   "metadata": {},
   "outputs": [
    {
     "data": {
      "text/plain": [
       "'Friday'"
      ]
     },
     "execution_count": 42,
     "metadata": {},
     "output_type": "execute_result"
    }
   ],
   "source": [
    "friday = pd.Timestamp(\"2018-01-05\")\n",
    "\n",
    "friday.day_name()"
   ]
  },
  {
   "cell_type": "code",
   "execution_count": 43,
   "metadata": {},
   "outputs": [
    {
     "data": {
      "text/plain": [
       "'Saturday'"
      ]
     },
     "execution_count": 43,
     "metadata": {},
     "output_type": "execute_result"
    }
   ],
   "source": [
    "# добавить 1 день\n",
    "saturday = friday + pd.Timedelta(\"1 day\")\n",
    "\n",
    "saturday.day_name()"
   ]
  },
  {
   "cell_type": "code",
   "execution_count": 44,
   "metadata": {},
   "outputs": [
    {
     "data": {
      "text/plain": [
       "'Monday'"
      ]
     },
     "execution_count": 44,
     "metadata": {},
     "output_type": "execute_result"
    }
   ],
   "source": [
    "# добавить 1 \"бизнес\" (рабочий) день\n",
    "monday = friday + pd.offsets.BDay()\n",
    "\n",
    "monday.day_name()"
   ]
  },
  {
   "cell_type": "code",
   "execution_count": 45,
   "metadata": {},
   "outputs": [
    {
     "data": {
      "text/plain": [
       "2000-01-01    0\n",
       "2000-01-02    1\n",
       "2000-01-03    2\n",
       "Freq: D, dtype: int64"
      ]
     },
     "execution_count": 45,
     "metadata": {},
     "output_type": "execute_result"
    }
   ],
   "source": [
    "pd.Series(range(3), \n",
    "          index=pd.date_range(\"2000\", freq=\"D\", periods=3))"
   ]
  },
  {
   "cell_type": "code",
   "execution_count": 46,
   "metadata": {},
   "outputs": [
    {
     "data": {
      "text/plain": [
       "0   2000-01-01\n",
       "1   2000-01-02\n",
       "2   2000-01-03\n",
       "dtype: datetime64[ns]"
      ]
     },
     "execution_count": 46,
     "metadata": {},
     "output_type": "execute_result"
    }
   ],
   "source": [
    "pd.Series(pd.date_range(\"2000\", freq=\"D\", periods=3))"
   ]
  },
  {
   "cell_type": "code",
   "execution_count": 47,
   "metadata": {},
   "outputs": [
    {
     "data": {
      "text/plain": [
       "0    2011-01\n",
       "1    2011-02\n",
       "2    2011-03\n",
       "dtype: period[M]"
      ]
     },
     "execution_count": 47,
     "metadata": {},
     "output_type": "execute_result"
    }
   ],
   "source": [
    "pd.Series(pd.period_range(\"1/1/2011\", freq=\"M\", periods=3))"
   ]
  },
  {
   "cell_type": "code",
   "execution_count": 48,
   "metadata": {},
   "outputs": [
    {
     "data": {
      "text/plain": [
       "0         <DateOffset>\n",
       "1    <2 * DateOffsets>\n",
       "dtype: object"
      ]
     },
     "execution_count": 48,
     "metadata": {},
     "output_type": "execute_result"
    }
   ],
   "source": [
    "pd.Series([pd.DateOffset(1), pd.DateOffset(2)])"
   ]
  },
  {
   "cell_type": "code",
   "execution_count": 49,
   "metadata": {},
   "outputs": [
    {
     "data": {
      "text/plain": [
       "0   2011-01-31\n",
       "1   2011-02-28\n",
       "2   2011-03-31\n",
       "dtype: datetime64[ns]"
      ]
     },
     "execution_count": 49,
     "metadata": {},
     "output_type": "execute_result"
    }
   ],
   "source": [
    "pd.Series(pd.date_range(\"1/1/2011\", freq=\"M\", periods=3))"
   ]
  },
  {
   "cell_type": "code",
   "execution_count": 50,
   "metadata": {},
   "outputs": [
    {
     "data": {
      "text/plain": [
       "NaT"
      ]
     },
     "execution_count": 50,
     "metadata": {},
     "output_type": "execute_result"
    }
   ],
   "source": [
    "pd.Timestamp(pd.NaT)"
   ]
  },
  {
   "cell_type": "code",
   "execution_count": 51,
   "metadata": {},
   "outputs": [
    {
     "data": {
      "text/plain": [
       "NaT"
      ]
     },
     "execution_count": 51,
     "metadata": {},
     "output_type": "execute_result"
    }
   ],
   "source": [
    "pd.Timedelta(pd.NaT)"
   ]
  },
  {
   "cell_type": "code",
   "execution_count": 52,
   "metadata": {},
   "outputs": [
    {
     "data": {
      "text/plain": [
       "NaT"
      ]
     },
     "execution_count": 52,
     "metadata": {},
     "output_type": "execute_result"
    }
   ],
   "source": [
    "pd.Period(pd.NaT)"
   ]
  },
  {
   "cell_type": "code",
   "execution_count": 53,
   "metadata": {},
   "outputs": [
    {
     "data": {
      "text/plain": [
       "False"
      ]
     },
     "execution_count": 53,
     "metadata": {},
     "output_type": "execute_result"
    }
   ],
   "source": [
    "# равенство действует так же, как np.nan\n",
    "pd.NaT == pd.NaT"
   ]
  },
  {
   "cell_type": "markdown",
   "metadata": {},
   "source": [
    "### [Представление промежутка времени (Time span representation)](https://pandas.pydata.org/pandas-docs/stable/user_guide/timeseries.html#timeseries-periods)\n",
    "\n",
    "**Вид данных:** \n",
    "\n",
    "Период представляет собой промежуток времени (например, день, месяц, квартал и т. Д.).\n",
    "\n",
    "Можно указать диапазон с помощью ключевого слова `freq`.\n",
    "\n",
    "Обычные интервалы времени представлены объектами `Period` в `pandas`, в то время как последовательности объектов `Period` собираются в `PeriodIndex`, который можно создать с помощью удобной функции `period_range`.\n",
    "\n",
    "Данные с отметками времени (`Timestamp`) - это самый основной тип данных временных рядов, который связывает значения с моментами времени.\n",
    "\n",
    "Для объектов `pandas` это означает использование точек во времени.\n",
    "\n",
    "Однако во многих случаях более естественно связать такие вещи, как изменения переменных, с промежутком времени (time span / `Period`). Диапазон, представленный `Period` может быть указан явно или выведен из формата строки datetime."
   ]
  },
  {
   "cell_type": "code",
   "execution_count": 54,
   "metadata": {},
   "outputs": [
    {
     "data": {
      "text/plain": [
       "Timestamp('2012-05-01 00:00:00')"
      ]
     },
     "execution_count": 54,
     "metadata": {},
     "output_type": "execute_result"
    }
   ],
   "source": [
    "pd.Timestamp(datetime.datetime(2012, 5, 1))"
   ]
  },
  {
   "cell_type": "code",
   "execution_count": 55,
   "metadata": {},
   "outputs": [
    {
     "data": {
      "text/plain": [
       "Period('2011-01', 'M')"
      ]
     },
     "execution_count": 55,
     "metadata": {},
     "output_type": "execute_result"
    }
   ],
   "source": [
    "pd.Period(\"2011-01\")"
   ]
  },
  {
   "cell_type": "code",
   "execution_count": 56,
   "metadata": {},
   "outputs": [
    {
     "data": {
      "text/plain": [
       "Period('2012-05-01', 'D')"
      ]
     },
     "execution_count": 56,
     "metadata": {},
     "output_type": "execute_result"
    }
   ],
   "source": [
    "pd.Period(\"2012-05\", freq=\"D\")"
   ]
  },
  {
   "cell_type": "markdown",
   "metadata": {},
   "source": [
    "Отметка времени и период могут служить индексом.\n",
    "\n",
    "Списки `Timestamp` и `Period` автоматически приводятся к `DatetimeIndex` и `PeriodIndex` соответственно."
   ]
  },
  {
   "cell_type": "code",
   "execution_count": 57,
   "metadata": {},
   "outputs": [
    {
     "data": {
      "text/plain": [
       "2012-05-01   -1.518771\n",
       "2012-05-02    0.716577\n",
       "2012-05-03   -0.211708\n",
       "dtype: float64"
      ]
     },
     "execution_count": 57,
     "metadata": {},
     "output_type": "execute_result"
    }
   ],
   "source": [
    "dates = [pd.Timestamp(\"2012-05-01\"),\n",
    "         pd.Timestamp(\"2012-05-02\"),\n",
    "         pd.Timestamp(\"2012-05-03\"),]\n",
    "\n",
    "ts = pd.Series(np.random.randn(3), dates)\n",
    "ts"
   ]
  },
  {
   "cell_type": "code",
   "execution_count": 58,
   "metadata": {},
   "outputs": [
    {
     "data": {
      "text/plain": [
       "pandas.core.indexes.datetimes.DatetimeIndex"
      ]
     },
     "execution_count": 58,
     "metadata": {},
     "output_type": "execute_result"
    }
   ],
   "source": [
    "type(ts.index)"
   ]
  },
  {
   "cell_type": "code",
   "execution_count": 59,
   "metadata": {},
   "outputs": [
    {
     "data": {
      "text/plain": [
       "2012-01    1.658957\n",
       "2012-02    0.306257\n",
       "2012-03   -1.442650\n",
       "Freq: M, dtype: float64"
      ]
     },
     "execution_count": 59,
     "metadata": {},
     "output_type": "execute_result"
    }
   ],
   "source": [
    "periods = [pd.Period(\"2012-01\"), \n",
    "           pd.Period(\"2012-02\"), \n",
    "           pd.Period(\"2012-03\")]\n",
    "\n",
    "ts = pd.Series(np.random.randn(3), periods)\n",
    "ts"
   ]
  },
  {
   "cell_type": "code",
   "execution_count": 60,
   "metadata": {},
   "outputs": [
    {
     "data": {
      "text/plain": [
       "pandas.core.indexes.period.PeriodIndex"
      ]
     },
     "execution_count": 60,
     "metadata": {},
     "output_type": "execute_result"
    }
   ],
   "source": [
    "type(ts.index)"
   ]
  },
  {
   "cell_type": "code",
   "execution_count": 61,
   "metadata": {},
   "outputs": [
    {
     "data": {
      "text/plain": [
       "PeriodIndex(['2012-01', '2012-02', '2012-03'], dtype='period[M]', freq='M')"
      ]
     },
     "execution_count": 61,
     "metadata": {},
     "output_type": "execute_result"
    }
   ],
   "source": [
    "ts.index"
   ]
  },
  {
   "cell_type": "markdown",
   "metadata": {},
   "source": [
    "Под капотом `pandas` представляет временные метки, используя экземпляры `Timestamp`, и последовательности временных меток, используя экземпляры `DatetimeIndex`.\n",
    "\n",
    "Для регулярных интервалов времени `pandas` использует объекты `Period` для скалярных значений и `PeriodIndex` для последовательностей интервалов."
   ]
  },
  {
   "cell_type": "code",
   "execution_count": null,
   "metadata": {},
   "outputs": [],
   "source": []
  },
  {
   "cell_type": "code",
   "execution_count": null,
   "metadata": {},
   "outputs": [],
   "source": []
  },
  {
   "cell_type": "markdown",
   "metadata": {},
   "source": [
    "### [Разреженные структуры данных (Sparse data structures)](https://pandas.pydata.org/pandas-docs/stable/user_guide/sparse.html#sparse)\n",
    "\n",
    "**Вид данных:**\n",
    "\n",
    "Различные разреженные матрицы.\n",
    "\n",
    "Это не обязательно разреженность в типичном варианте: \"в основном 0\".\n",
    "\n",
    "Скорее, можно рассматривать эти объекты как \"сжатые\", где любые данные, соответствующие определенному значению (`NaN` / отсутствующее значение, хотя может быть выбрано любое значение, включая `0`), опущены.\n",
    "\n",
    "Сжатые значения фактически не хранятся в массиве."
   ]
  },
  {
   "cell_type": "code",
   "execution_count": null,
   "metadata": {},
   "outputs": [],
   "source": []
  },
  {
   "cell_type": "markdown",
   "metadata": {},
   "source": [
    "### [Интервальный индекс (IntervalIndex)](https://pandas.pydata.org/pandas-docs/stable/user_guide/advanced.html#advanced-intervalindex)\n",
    "\n",
    "**Вид данных:**\n",
    "\n",
    "`IntervalIndex` вместе со своим собственным `dtype` - `IntervalDtype`, а также скалярным типом `Interval` обеспечивают первоклассную поддержку `pandas` для обозначения интервалов.\n"
   ]
  },
  {
   "cell_type": "code",
   "execution_count": null,
   "metadata": {},
   "outputs": [],
   "source": []
  },
  {
   "cell_type": "markdown",
   "metadata": {},
   "source": [
    "### [Обнуляемый целочисленный тип данных (Nullable integer data type)](https://pandas.pydata.org/pandas-docs/stable/user_guide/integer_na.html#integer-na)\n",
    "\n",
    "**Вид данных:** \n",
    "\n",
    "`pandas` в основном использует `NaN` для представления отсутствующих данных.\n",
    "\n",
    "Поскольку `NaN` является `float`, это заставляет массив целых чисел (`int`) с любыми пропущенными значениями стать `float`.\n",
    "\n",
    "В некоторых случаях это может не иметь большого значения.\n",
    "\n",
    "Но если целочисленный столбец является, например, идентификатором, приведение к типу `float` может быть проблематичным. \n",
    "\n",
    "Некоторые целые числа даже нельзя представить как числа с плавающей запятой."
   ]
  },
  {
   "cell_type": "markdown",
   "metadata": {},
   "source": [
    "### [Текстовые типы данных (Text data types)](https://pandas.pydata.org/pandas-docs/stable/user_guide/text.html)\n",
    "\n",
    "**Вид данных:** \n",
    "\n",
    "Есть два способа хранить текстовые данные в `pandas`: \n",
    "- объект `dtype` `NumPy` `array`.\n",
    "- тип `StringDtype`.\n",
    "\n",
    "\n",
    "`pandas` рекомендует использовать `StringDtype` для хранения текстовых данных."
   ]
  },
  {
   "cell_type": "code",
   "execution_count": null,
   "metadata": {},
   "outputs": [],
   "source": []
  },
  {
   "cell_type": "markdown",
   "metadata": {},
   "source": [
    "### [Логические данные с пропущенными значениями (Boolean data with missing values)](https://pandas.pydata.org/pandas-docs/stable/reference/arrays.html#api-arrays-bool)\n",
    "\n",
    "**Вид данных:** \n",
    "\n",
    "Логический тип `dtype` (с псевдонимом `boolean`) обеспечивает поддержку для хранения логических данных (значения `True`, `False`) с пропущенными значениями, что невозможно с логическим значением `numpy.ndarray`."
   ]
  },
  {
   "cell_type": "code",
   "execution_count": null,
   "metadata": {},
   "outputs": [],
   "source": []
  },
  {
   "cell_type": "code",
   "execution_count": null,
   "metadata": {},
   "outputs": [],
   "source": []
  }
 ],
 "metadata": {
  "kernelspec": {
   "display_name": "Python [conda env:LevelUp_DataScience] *",
   "language": "python",
   "name": "conda-env-LevelUp_DataScience-py"
  },
  "language_info": {
   "codemirror_mode": {
    "name": "ipython",
    "version": 3
   },
   "file_extension": ".py",
   "mimetype": "text/x-python",
   "name": "python",
   "nbconvert_exporter": "python",
   "pygments_lexer": "ipython3",
   "version": "3.8.5"
  }
 },
 "nbformat": 4,
 "nbformat_minor": 4
}
