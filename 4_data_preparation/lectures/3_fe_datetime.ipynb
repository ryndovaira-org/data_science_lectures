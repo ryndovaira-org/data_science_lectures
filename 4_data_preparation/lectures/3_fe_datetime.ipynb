{
 "cells": [
  {
   "cell_type": "markdown",
   "metadata": {
    "jupyter": {
     "outputs_hidden": true
    }
   },
   "source": [
    "# Конструирование признаков (Feature Engineering): Дата/Время"
   ]
  },
  {
   "cell_type": "markdown",
   "metadata": {},
   "source": [
    "---\n",
    "\n",
    "**Источники:**\n",
    "\n",
    "[5 Most Common Date/Time Data Wrangling Operations with Exploratory](https://blog.exploratory.io/5-most-common-date-time-data-wrangling-operations-in-exploratory-97b41d299934)\n",
    "\n",
    "[Data Cleaning Challenge: Parsing Dates](https://www.kaggle.com/rtatman/data-cleaning-challenge-parsing-dates)\n",
    "\n",
    "[Machine learning - features engineering from date/time data](https://datascience.stackexchange.com/questions/2368/machine-learning-features-engineering-from-date-time-data)\n",
    "\n",
    "[Feature Engineering on Date-Time Data](https://towardsdatascience.com/feature-engineering-on-date-time-data-90f6e954e6b8)\n",
    "\n",
    "---"
   ]
  },
  {
   "cell_type": "markdown",
   "metadata": {},
   "source": [
    "**Возможное решение:**\n",
    "- Добавить признаки, соответствующие времени дня, количеству прошеднего времени с определенного момента, выделение сезонов, времен года, кварталов. \n",
    "- Разделение времени на часы, минуты и секунды (если время дано в Unix-Time или ISO формате). "
   ]
  },
  {
   "cell_type": "code",
   "execution_count": 1,
   "metadata": {},
   "outputs": [],
   "source": [
    "import matplotlib.pyplot as plt\n",
    "\n",
    "import pandas as pd\n",
    "\n",
    "import numpy as np"
   ]
  },
  {
   "cell_type": "code",
   "execution_count": null,
   "metadata": {},
   "outputs": [],
   "source": []
  }
 ],
 "metadata": {
  "kernelspec": {
   "display_name": "Python 3",
   "language": "python",
   "name": "python3"
  },
  "language_info": {
   "codemirror_mode": {
    "name": "ipython",
    "version": 3
   },
   "file_extension": ".py",
   "mimetype": "text/x-python",
   "name": "python",
   "nbconvert_exporter": "python",
   "pygments_lexer": "ipython3",
   "version": "3.8.3"
  }
 },
 "nbformat": 4,
 "nbformat_minor": 4
}
