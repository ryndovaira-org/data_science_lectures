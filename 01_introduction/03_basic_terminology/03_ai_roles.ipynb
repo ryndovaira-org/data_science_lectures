{
 "cells": [
  {
   "cell_type": "markdown",
   "id": "64a243cb-ab49-4d7b-911d-da746e68f157",
   "metadata": {},
   "source": [
    "# Роли в AI команде"
   ]
  },
  {
   "cell_type": "markdown",
   "id": "cbd20b0d-5979-490d-93c6-70236e03f010",
   "metadata": {},
   "source": [
    "<center><img src=\"images/ai_pipeline_people.jpg\" alt=\"ai_pipeline_people\" width=\"1500\" height=\"1500\"/></center>"
   ]
  }
 ],
 "metadata": {
  "kernelspec": {
   "display_name": "Python [conda env:data-science-course] *",
   "language": "python",
   "name": "conda-env-data-science-course-py"
  },
  "language_info": {
   "codemirror_mode": {
    "name": "ipython",
    "version": 3
   },
   "file_extension": ".py",
   "mimetype": "text/x-python",
   "name": "python",
   "nbconvert_exporter": "python",
   "pygments_lexer": "ipython3",
   "version": "3.10.9"
  }
 },
 "nbformat": 4,
 "nbformat_minor": 5
}
