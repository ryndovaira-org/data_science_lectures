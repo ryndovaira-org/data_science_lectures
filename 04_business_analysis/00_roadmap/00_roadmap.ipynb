{
 "cells": [
  {
   "cell_type": "markdown",
   "id": "3f24f3a0-7cbd-460f-bb82-9b34342506e4",
   "metadata": {},
   "source": [
    "# Roles of business analysts"
   ]
  },
  {
   "cell_type": "markdown",
   "id": "b30c9e55-2d8c-4afc-9a48-8a6fa701850b",
   "metadata": {},
   "source": [
    "# Function within the organizational structure"
   ]
  },
  {
   "cell_type": "markdown",
   "id": "9b9b03cb-24d5-42a6-819e-24c384d009a9",
   "metadata": {},
   "source": [
    "# Goals"
   ]
  },
  {
   "cell_type": "markdown",
   "id": "e6a07391-3a36-4d7d-a1ff-07f511b37203",
   "metadata": {},
   "source": [
    "# Business analysis qualifications"
   ]
  },
  {
   "cell_type": "markdown",
   "id": "273025a6-be26-41e7-b92d-f91b2837e85a",
   "metadata": {},
   "source": [
    "# References\n",
    "\n",
    "[Business analysis](https://en.wikipedia.org/wiki/Business_analysis)\n",
    "\n",
    "[]()\n",
    "\n",
    "[]()\n",
    "\n",
    "[]()\n",
    "\n",
    "[]()\n",
    "\n",
    "[]()"
   ]
  }
 ],
 "metadata": {
  "kernelspec": {
   "display_name": "Python [conda env:data-science-course] *",
   "language": "python",
   "name": "conda-env-data-science-course-py"
  },
  "language_info": {
   "codemirror_mode": {
    "name": "ipython",
    "version": 3
   },
   "file_extension": ".py",
   "mimetype": "text/x-python",
   "name": "python",
   "nbconvert_exporter": "python",
   "pygments_lexer": "ipython3",
   "version": "3.10.9"
  }
 },
 "nbformat": 4,
 "nbformat_minor": 5
}
