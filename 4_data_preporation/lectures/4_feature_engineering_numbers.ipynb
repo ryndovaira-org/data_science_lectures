{
 "cells": [
  {
   "cell_type": "markdown",
   "metadata": {
    "jupyter": {
     "outputs_hidden": true
    }
   },
   "source": [
    "# Конструирование признаков (Feature Engineering): Числовые признаки"
   ]
  },
  {
   "cell_type": "markdown",
   "metadata": {},
   "source": [
    "---\n",
    "\n",
    "**Источники:**\n",
    "\n",
    "[Feature Engineering for Numerical Data](https://towardsdatascience.com/feature-engineering-for-numerical-data-e20167ec18)\n",
    "\n",
    "[Machine Learning Pipelines: Feature Engineering Numbers](https://towardsdatascience.com/machine-learning-pipelines-feature-engineering-numbers-29f53aaec82a)\n",
    "\n",
    "[STRATEGIES OF FEATURE ENGINEERING OVER NUMERICAL AND CATEGORICAL FEATURES FOR MACHINE LEARNING](https://vignesh943628.medium.com/strategies-of-feature-engineering-over-numerical-and-categorical-features-for-machine-learning-c97edd7ab7e4)\n",
    "\n",
    "[Feature Engineering – Numeric Data](https://mylearningsinaiml.wordpress.com/ml-models/feature-engineering/feature-engineering-numeric-data/)\n",
    "\n",
    "---"
   ]
  },
  {
   "cell_type": "markdown",
   "metadata": {},
   "source": [
    "**Возможное решение:**\n",
    "- Округление или разделение на целую и вещественную часть (+ нормализация).\n",
    "- Приведение числового признака в категориальный (добавить признаки вида \"рост больше X\", \"рост меньше X\")."
   ]
  }
 ],
 "metadata": {
  "kernelspec": {
   "display_name": "Python 3",
   "language": "python",
   "name": "python3"
  },
  "language_info": {
   "codemirror_mode": {
    "name": "ipython",
    "version": 3
   },
   "file_extension": ".py",
   "mimetype": "text/x-python",
   "name": "python",
   "nbconvert_exporter": "python",
   "pygments_lexer": "ipython3",
   "version": "3.8.3"
  }
 },
 "nbformat": 4,
 "nbformat_minor": 4
}
