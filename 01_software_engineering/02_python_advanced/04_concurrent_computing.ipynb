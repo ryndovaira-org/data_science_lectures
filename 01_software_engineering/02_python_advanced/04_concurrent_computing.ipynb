{
 "cells": [
  {
   "cell_type": "markdown",
   "id": "7351f2df-8ef1-475e-afc0-e43296403db9",
   "metadata": {},
   "source": [
    "# Concurrent computing"
   ]
  },
  {
   "cell_type": "code",
   "execution_count": null,
   "id": "9c62d987-7413-4be1-bb86-4ad3967c07fb",
   "metadata": {},
   "outputs": [],
   "source": []
  },
  {
   "cell_type": "markdown",
   "id": "ac5167e0-c6e8-4aa0-8307-04e6c81fae80",
   "metadata": {},
   "source": [
    "---\n",
    "\n",
    "[Wikipedia Concurrent computing](https://en.wikipedia.org/wiki/Concurrent_computing)\n",
    "\n",
    "[]()\n",
    "\n",
    "[]()\n",
    "\n",
    "[]()\n",
    "\n",
    "[]()\n",
    "\n",
    "[]()"
   ]
  }
 ],
 "metadata": {
  "kernelspec": {
   "display_name": "Python [conda env:data-science-course-original] *",
   "language": "python",
   "name": "conda-env-data-science-course-original-py"
  },
  "language_info": {
   "codemirror_mode": {
    "name": "ipython",
    "version": 3
   },
   "file_extension": ".py",
   "mimetype": "text/x-python",
   "name": "python",
   "nbconvert_exporter": "python",
   "pygments_lexer": "ipython3",
   "version": "3.10.4"
  }
 },
 "nbformat": 4,
 "nbformat_minor": 5
}
