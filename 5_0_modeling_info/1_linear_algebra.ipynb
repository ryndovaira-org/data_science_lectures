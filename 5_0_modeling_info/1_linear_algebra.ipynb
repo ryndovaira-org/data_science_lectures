{
 "cells": [
  {
   "cell_type": "markdown",
   "metadata": {},
   "source": [
    "# `NumPy`: матрицы и операции над ними"
   ]
  },
  {
   "cell_type": "markdown",
   "metadata": {},
   "source": [
    "### Загрузка библиотеки `numpy`\n"
   ]
  },
  {
   "cell_type": "code",
   "execution_count": 1,
   "metadata": {},
   "outputs": [],
   "source": [
    "import numpy as np"
   ]
  },
  {
   "cell_type": "markdown",
   "metadata": {},
   "source": [
    "#### Вектор и Список\n",
    "\n",
    "Пакет `numpy`(`np`) реализует работу с линейной алгеброй. Для создания вектора из list ($[1,2,3]$) с помощью np.array нужно:"
   ]
  },
  {
   "cell_type": "code",
   "execution_count": 2,
   "metadata": {},
   "outputs": [
    {
     "name": "stdout",
     "output_type": "stream",
     "text": [
      "[1 2 3]\n"
     ]
    }
   ],
   "source": [
    "x_vector = np.array([1,2,3])\n",
    "print(x_vector)"
   ]
  },
  {
   "cell_type": "markdown",
   "metadata": {},
   "source": [
    "Другой способ:"
   ]
  },
  {
   "cell_type": "code",
   "execution_count": 3,
   "metadata": {},
   "outputs": [
    {
     "name": "stdout",
     "output_type": "stream",
     "text": [
      "The list: [1, 2]\n",
      "Has length: 2\n",
      "The vector: [1 2]\n",
      "Has shape: (2,)\n"
     ]
    }
   ],
   "source": [
    "c_list = [1,2]\n",
    "print(\"The list:\",c_list)\n",
    "print(\"Has length:\", len(c_list))\n",
    "\n",
    "c_vector = np.array(c_list)\n",
    "print(\"The vector:\", c_vector)\n",
    "print(\"Has shape:\",c_vector.shape)"
   ]
  },
  {
   "cell_type": "code",
   "execution_count": 4,
   "metadata": {},
   "outputs": [
    {
     "name": "stdout",
     "output_type": "stream",
     "text": [
      "This is a list, not an array: [5, 6]\n",
      "<class 'list'>\n"
     ]
    }
   ],
   "source": [
    "z = [5,6]\n",
    "print(\"This is a list, not an array:\",z)\n",
    "print(type(z))"
   ]
  },
  {
   "cell_type": "code",
   "execution_count": 5,
   "metadata": {},
   "outputs": [
    {
     "name": "stdout",
     "output_type": "stream",
     "text": [
      "This is an array, not a list [5 6]\n",
      "<class 'numpy.ndarray'>\n"
     ]
    }
   ],
   "source": [
    "zarray = np.array(z)\n",
    "print(\"This is an array, not a list\",zarray)\n",
    "print(type(zarray))"
   ]
  },
  {
   "cell_type": "markdown",
   "metadata": {},
   "source": [
    "#### Матрицы"
   ]
  },
  {
   "cell_type": "code",
   "execution_count": 6,
   "metadata": {},
   "outputs": [
    {
     "name": "stdout",
     "output_type": "stream",
     "text": [
      "[(5, 1), (6, 2)]\n",
      "Note that the length of our zipped list is 2 not (2 by 2): 2\n"
     ]
    }
   ],
   "source": [
    "b = list(zip(z,c_vector))\n",
    "print(b)\n",
    "print(\"Note that the length of our zipped list is 2 not (2 by 2):\",len(b))"
   ]
  },
  {
   "cell_type": "code",
   "execution_count": 7,
   "metadata": {},
   "outputs": [
    {
     "name": "stdout",
     "output_type": "stream",
     "text": [
      "But we can convert the list to a matrix like this:\n",
      "[[5 1]\n",
      " [6 2]]\n",
      "<class 'numpy.ndarray'>\n",
      "A has shape: (2, 2)\n"
     ]
    }
   ],
   "source": [
    "print(\"But we can convert the list to a matrix like this:\")\n",
    "A = np.array(b)\n",
    "print(A)\n",
    "print(type(A))\n",
    "print(\"A has shape:\",A.shape)"
   ]
  },
  {
   "cell_type": "markdown",
   "metadata": {},
   "source": [
    "## Операции с матрицами\n",
    "\n",
    "### Сложение / вычитание скалярной величины (числа)\n",
    "\n",
    "Рассмотрим пример для размерности $2 \\times 2$, где количество строк $\\times$ количество колонок.\n",
    "\n",
    "$A$=$\\bigl( \\begin{smallmatrix} a_{11} & a_{12} \\\\ a_{21} & a_{22} \\end{smallmatrix} \\bigr)$.\n",
    "\n",
    "Скаляром обозначим $S$.\n",
    "$$\n",
    "\\begin{equation}\n",
    "\tA+S=\\begin{bmatrix}\n",
    "\t  a_{11} & a_{12} \\\\\n",
    "\t  a_{21} & a_{22} \t\n",
    "\t\\end{bmatrix}+S\n",
    "\t=\\begin{bmatrix}\n",
    "\t  a_{11}+S & a_{12}+S \\\\\n",
    "\t  a_{21}+S & a_{22}+S \t\n",
    "\t\\end{bmatrix}\n",
    "\\end{equation}\n",
    "$$\n",
    "\n",
    "Аналогично: \n",
    "\n",
    "$$\n",
    "\\begin{equation}\n",
    "\tA-S=\\begin{bmatrix}\n",
    "\t  a_{11} & a_{12} \\\\\n",
    "\t  a_{21} & a_{22} \t\n",
    "\t\\end{bmatrix}-S\n",
    "\t=\\begin{bmatrix}\n",
    "\t  a_{11}-S & a_{12}-S \\\\\n",
    "\t  a_{21}-S & a_{22}-S \t\n",
    "\t\\end{bmatrix}\n",
    "\\end{equation}\n",
    "$$\n",
    "\n",
    "\n",
    "Это правило работает для любой размерности."
   ]
  },
  {
   "cell_type": "code",
   "execution_count": 8,
   "metadata": {},
   "outputs": [
    {
     "name": "stdout",
     "output_type": "stream",
     "text": [
      "A:\n",
      " [[5 1]\n",
      " [6 2]] \n",
      "\n",
      "result:\n",
      " [[8 4]\n",
      " [9 5]]\n"
     ]
    }
   ],
   "source": [
    "print('A:\\n', A, '\\n')\n",
    "\n",
    "result = A + 3\n",
    "#or\n",
    "result = 3 + A\n",
    "print('result:\\n', result)"
   ]
  },
  {
   "cell_type": "markdown",
   "metadata": {},
   "source": [
    "### Сложение и вычитание матриц\n",
    "\n",
    "$A$=$\\bigl( \\begin{smallmatrix} a_{11} & a_{12} \\\\ a_{21} & a_{22} \\end{smallmatrix} \\bigr)$\n",
    "\n",
    "$B$=$\\bigl( \\begin{smallmatrix} b_{11} & b_{12} \\\\ b_{21} & b_{22} \\end{smallmatrix} \\bigr)$.\n",
    "\n",
    "\\begin{equation}\n",
    "\tA -B =\n",
    "\t\\begin{bmatrix}\n",
    "\t  a_{11} & a_{12} \\\\\n",
    "\t  a_{21} & a_{22} \t\n",
    "\t\\end{bmatrix} -\n",
    "\t\\begin{bmatrix} b_{11} & b_{12} \\\\\n",
    "\t  b_{21} & b_{22}\n",
    "\t\\end{bmatrix}\n",
    "\t=\n",
    "\t\\begin{bmatrix}\n",
    "\t  a_{11}-b_{11} & a_{12}-b_{12} \\\\\n",
    "\t  a_{21}-b_{21} & a_{22}-b_{22} \t\n",
    "\t\\end{bmatrix}\n",
    "\\end{equation}\n",
    "\n",
    "Аналогично:\n",
    "\n",
    "\\begin{equation}\n",
    "\tA + B =\n",
    "\t\\begin{bmatrix}\n",
    "\t  a_{11} & a_{12} \\\\\n",
    "\t  a_{21} & a_{22} \t\n",
    "\t\\end{bmatrix} +\n",
    "\t\\begin{bmatrix} b_{11} & b_{12} \\\\\n",
    "\t  b_{21} & b_{22}\n",
    "\t\\end{bmatrix}\n",
    "\t=\n",
    "\t\\begin{bmatrix}\n",
    "\t  a_{11}+b_{11} & a_{12}+b_{12} \\\\\n",
    "\t  a_{21}+b_{21} & a_{22}+b_{22} \t\n",
    "\t\\end{bmatrix}\n",
    "\\end{equation}\n",
    "\n",
    "\n",
    "Важно помнить, что при сложении / вычитании размерность матриц должна быть одинаковой и не изменяется.\n",
    "\n",
    "\\begin{equation}\n",
    "A_{2 \\times 2} + B_{2 \\times 2}= \\begin{bmatrix}\n",
    "  a_{11}+b_{11} & a_{12}+b_{12} \\\\\n",
    "  a_{21}+b_{21} & a_{22}+b_{22} \t\n",
    "\\end{bmatrix}_{2 \\times 2}\n",
    "\\end{equation}"
   ]
  },
  {
   "cell_type": "code",
   "execution_count": 9,
   "metadata": {},
   "outputs": [
    {
     "name": "stdout",
     "output_type": "stream",
     "text": [
      "[[5 1]\n",
      " [6 2]]\n",
      "[[0.9043308  0.39875921]\n",
      " [0.24083564 1.66295932]]\n"
     ]
    }
   ],
   "source": [
    "B = np.random.randn(2,2)\n",
    "print(A)\n",
    "print(B)"
   ]
  },
  {
   "cell_type": "code",
   "execution_count": 10,
   "metadata": {},
   "outputs": [
    {
     "data": {
      "text/plain": [
       "array([[5.9043308 , 1.39875921],\n",
       "       [6.24083564, 3.66295932]])"
      ]
     },
     "execution_count": 10,
     "metadata": {},
     "output_type": "execute_result"
    }
   ],
   "source": [
    "result = A + B\n",
    "result"
   ]
  },
  {
   "cell_type": "markdown",
   "metadata": {},
   "source": [
    "## Умножение матриц\n",
    "\n",
    "### Умножение матриц на скаляр (число)\n",
    "\n",
    "$A$=$\\bigl( \\begin{smallmatrix} a_{11} & a_{12} \\\\ a_{21} & a_{22} \\end{smallmatrix} \\bigr)$.\n",
    "Обозначим скаляром $S$\n",
    "\n",
    "\\begin{equation}\n",
    "\tS \\times A = S \\times \\begin{bmatrix}\n",
    "\t  a_{11} & a_{12} \\\\\n",
    "\t  a_{21} & a_{22} \t\n",
    "\t\\end{bmatrix}\n",
    "\t=\n",
    "\t\\begin{bmatrix}\n",
    "\t  Sa_{11} & Sa_{12} \\\\\n",
    "\t  Sa_{21} & Sa_{22} \t\n",
    "\t\\end{bmatrix}\n",
    "\\end{equation}\n",
    "\n",
    "$3 \\times A$=$A \\times 3$\n"
   ]
  },
  {
   "cell_type": "code",
   "execution_count": 11,
   "metadata": {},
   "outputs": [
    {
     "data": {
      "text/plain": [
       "array([[15,  3],\n",
       "       [18,  6]])"
      ]
     },
     "execution_count": 11,
     "metadata": {},
     "output_type": "execute_result"
    }
   ],
   "source": [
    "A * 3"
   ]
  },
  {
   "cell_type": "markdown",
   "metadata": {},
   "source": [
    "### Умножение матриц\n",
    "\n",
    "$2 \\times 1$ вектор $C=\\bigl( \\begin{smallmatrix} c_{11} \\\\\n",
    "  c_{21}\n",
    "\\end{smallmatrix} \\bigr)$  \n",
    "\n",
    "Умножим матрицу $A_{2 \\times 2}$ и вектор $C_{2 \\times 1}$. \n",
    "В данном случае обязательно должны совпадать размерности row (левой) **and** column (правой).\n",
    "\n",
    "\n",
    "\\begin{equation}\n",
    "\tA_{2 \\times 2} \\times C_{2 \\times 1} = \n",
    "\t\\begin{bmatrix}\n",
    "\t  a_{11} & a_{12} \\\\\n",
    "\t  a_{21} & a_{22} \t\n",
    "\t\\end{bmatrix}_{2 \\times 2}\n",
    "    \\times\n",
    "    \\begin{bmatrix}\n",
    "\tc_{11} \\\\\n",
    "\tc_{21}\n",
    "\t\\end{bmatrix}_{2 \\times 1}\n",
    "\t=\n",
    "\t\\begin{bmatrix}\n",
    "\t  a_{11}c_{11} + a_{12}c_{21} \\\\\n",
    "\t  a_{21}c_{11} + a_{22}c_{21} \t\n",
    "\t\\end{bmatrix}_{2 \\times 1}\n",
    "\\end{equation}\n",
    "\n",
    "Матрица C с размерностями $2 \\times 3$ и матрица A с размерностями $3 \\times 2$\n",
    "\n",
    "\\begin{equation}\n",
    "\tA_{3 \\times 2}=\\begin{bmatrix}\n",
    "\t  a_{11} & a_{12} \\\\\n",
    "\t  a_{21} & a_{22} \\\\\n",
    "\t  a_{31} & a_{32} \t\n",
    "\t\\end{bmatrix}_{3 \\times 2}\n",
    "\t,\n",
    "\tC_{2 \\times 3} = \n",
    "\t\\begin{bmatrix}\n",
    "\t\t  c_{11} & c_{12} & c_{13} \\\\\n",
    "\t\t  c_{21} & c_{22} & c_{23} \\\\\n",
    "\t\\end{bmatrix}_{2 \\times 3}\n",
    "\t\\end{equation}\n",
    "\n",
    "A $\\times$ C будет\n",
    "\n",
    "\\begin{align}\n",
    "\tA_{3 \\times 2} \\times C_{2 \\times 3}=&\n",
    "\t\\begin{bmatrix}\n",
    "\t  a_{11} & a_{12} \\\\\n",
    "\t  a_{21} & a_{22} \\\\\n",
    "\t  a_{31} & a_{32} \t\n",
    "\t\\end{bmatrix}_{3 \\times 2}\n",
    "\t\\times\n",
    "\t\\begin{bmatrix}\n",
    "\t  c_{11} & c_{12} & c_{13} \\\\\n",
    "\t  c_{21} & c_{22} & c_{23} \n",
    "\t\\end{bmatrix}_{2 \\times 3} \\\\\n",
    "\t=&\n",
    "\t\\begin{bmatrix}\n",
    "\t  a_{11} c_{11}+a_{12} c_{21} & a_{11} c_{12}+a_{12} c_{22} & a_{11} c_{13}+a_{12} c_{23} \\\\\n",
    "\t  a_{21} c_{11}+a_{22} c_{21} & a_{21} c_{12}+a_{22} c_{22} & a_{21} c_{13}+a_{22} c_{23} \\\\\n",
    "\t  a_{31} c_{11}+a_{32} c_{21} & a_{31} c_{12}+a_{32} c_{22} & a_{31} c_{13}+a_{32} c_{23}\n",
    "\t\\end{bmatrix}_{3 \\times 3}\t\n",
    "\\end{align}\n",
    "\n",
    "$X_{r_x \\times c_x} \\times Y_{r_y \\times c_y}$\n",
    "\n",
    "Важно:\n",
    "\n",
    "* $c_x=r_y$, columns первого операнда дожны быть равны rows второго операнда.\n",
    "* Размерность результата будет равна $r_x \\times c_y$ (rows первого операнда и columns второго операнда).\n",
    "\n",
    "Следовательно, $X \\times Y = Y \\times X$ истинно **НЕ** во всех случаях.\n",
    "\n",
    "[Wiki Matrix multiplication](http://en.wikipedia.org/wiki/Matrix_multiplication)"
   ]
  },
  {
   "cell_type": "code",
   "execution_count": 12,
   "metadata": {},
   "outputs": [
    {
     "name": "stdout",
     "output_type": "stream",
     "text": [
      "(3, 2)\n",
      "(2, 2)\n"
     ]
    }
   ],
   "source": [
    "# Let's redefine A and C to demonstrate matrix multiplication:\n",
    "A = np.arange(6).reshape((3,2))\n",
    "C = np.random.randn(2,2)\n",
    "\n",
    "print(A.shape)\n",
    "print(C.shape)"
   ]
  },
  {
   "cell_type": "markdown",
   "metadata": {},
   "source": [
    "Это также называется Скалярное произведение матриц (`dot`):"
   ]
  },
  {
   "cell_type": "code",
   "execution_count": 13,
   "metadata": {},
   "outputs": [
    {
     "name": "stdout",
     "output_type": "stream",
     "text": [
      "[[0.27289389 0.72653593]\n",
      " [4.10199204 4.20022434]\n",
      " [7.93109019 7.67391275]]\n",
      "[[0.27289389 0.72653593]\n",
      " [4.10199204 4.20022434]\n",
      " [7.93109019 7.67391275]]\n"
     ]
    }
   ],
   "source": [
    "print(A.dot(C))\n",
    "print(np.dot(A,C))"
   ]
  },
  {
   "cell_type": "markdown",
   "metadata": {},
   "source": [
    "А так не сработает из-за размерностей:"
   ]
  },
  {
   "cell_type": "code",
   "execution_count": 14,
   "metadata": {},
   "outputs": [
    {
     "ename": "ValueError",
     "evalue": "shapes (2,2) and (3,2) not aligned: 2 (dim 1) != 3 (dim 0)",
     "output_type": "error",
     "traceback": [
      "\u001B[0;31m---------------------------------------------------------------------------\u001B[0m",
      "\u001B[0;31mValueError\u001B[0m                                Traceback (most recent call last)",
      "\u001B[0;32m<ipython-input-14-b4bc17848904>\u001B[0m in \u001B[0;36m<module>\u001B[0;34m\u001B[0m\n\u001B[0;32m----> 1\u001B[0;31m \u001B[0mC\u001B[0m\u001B[0;34m.\u001B[0m\u001B[0mdot\u001B[0m\u001B[0;34m(\u001B[0m\u001B[0mA\u001B[0m\u001B[0;34m)\u001B[0m\u001B[0;34m\u001B[0m\u001B[0;34m\u001B[0m\u001B[0m\n\u001B[0m",
      "\u001B[0;31mValueError\u001B[0m: shapes (2,2) and (3,2) not aligned: 2 (dim 1) != 3 (dim 0)"
     ]
    }
   ],
   "source": [
    "C.dot(A)"
   ]
  },
  {
   "cell_type": "markdown",
   "metadata": {},
   "source": [
    "## Обратная матрица\n",
    "\n",
    "Матрица $2 \\times 2$ $A$=$\\bigl( \\begin{smallmatrix} a_{11} & a_{12} \\\\ a_{21} & a_{22}\\end{smallmatrix} \\bigr)$.\n",
    "Обозначим обратную матрицу для $A$ как $A^{-1}$)\n",
    "\n",
    "$$\n",
    "\\begin{equation}\n",
    "\tA^{-1}=\\begin{bmatrix}\n",
    "             a_{11} & a_{12} \\\\\n",
    "\t\t     a_{21} & a_{22} \n",
    "           \\end{bmatrix}^{-1}=\\frac{1}{a_{11}a_{22}-a_{12}a_{21}}\t\\begin{bmatrix}\n",
    "\t\t             a_{22} & -a_{12} \\\\\n",
    "\t\t\t\t     -a_{21} & a_{11} \n",
    "\t\t           \\end{bmatrix}\n",
    "\\end{equation}\n",
    "$$\n",
    "\n",
    "Обратная матрица $A^{-1}$ имеет полезное свойсво:\n",
    "$$\n",
    "\\begin{equation}\n",
    "\tA \\times A^{-1}=A^{-1} \\times A=I\n",
    "\\end{equation}\n",
    "$$\n",
    "\n",
    "где I, единичная матрица (как скалярная 1)\n",
    "\n",
    "$$\n",
    "\\begin{equation}\n",
    "\tI_{2 \\times 2}=\\begin{bmatrix}\n",
    "             1 & 0 \\\\\n",
    "\t\t     0 & 1 \n",
    "           \\end{bmatrix}\n",
    "\\end{equation}\n",
    "$$\n",
    "более того, $A \\times I = A$ и $I \\times A = A$.\n",
    "\n",
    "[Wiki Matrix inversion](http://en.wikipedia.org/wiki/Matrix_inversion)"
   ]
  },
  {
   "cell_type": "code",
   "execution_count": null,
   "metadata": {},
   "outputs": [],
   "source": [
    "# note, we need a square matrix (# rows = # cols), use C:\n",
    "C_inverse = np.linalg.inv(C)\n",
    "print(C_inverse)"
   ]
  },
  {
   "cell_type": "markdown",
   "metadata": {},
   "source": [
    "Check that $C\\times C^{-1} = I$:"
   ]
  },
  {
   "cell_type": "code",
   "execution_count": null,
   "metadata": {},
   "outputs": [],
   "source": [
    "print(C.dot(C_inverse))\n",
    "print(\"Is identical to:\")\n",
    "print(C_inverse.dot(C))"
   ]
  },
  {
   "cell_type": "markdown",
   "metadata": {},
   "source": [
    "## Транспонирование матриц\n",
    "\n",
    "$$\n",
    "\\begin{equation}\n",
    "\tA_{3 \\times 2}=\\begin{bmatrix}\n",
    "\t  a_{11} & a_{12} \\\\\n",
    "\t  a_{21} & a_{22} \\\\\n",
    "\t  a_{31} & a_{32} \t\n",
    "\t\\end{bmatrix}_{3 \\times 2}\t\n",
    "\\end{equation}\n",
    "$$\n",
    "Транспонированная матрица A (обозначается как $A^{\\prime}$)\n",
    "$$\n",
    "\\begin{equation}\n",
    "   A^{\\prime}=\\begin{bmatrix}\n",
    "\t  a_{11} & a_{21} & a_{31} \\\\\n",
    "\t  a_{12} & a_{22} & a_{32} \\\\\n",
    "\t\\end{bmatrix}_{2 \\times 3}\n",
    "\\end{equation}\n",
    "$$"
   ]
  },
  {
   "cell_type": "code",
   "execution_count": null,
   "metadata": {},
   "outputs": [],
   "source": [
    "A = np.arange(6).reshape((3,2))\n",
    "B = np.arange(8).reshape((2,4))\n",
    "print(\"A is\")\n",
    "print(A)\n",
    "\n",
    "print(\"The Transpose of A is\")\n",
    "print(A.T)"
   ]
  },
  {
   "cell_type": "markdown",
   "metadata": {},
   "source": [
    "Матрица A размерности $N \\times M$ и B размерности $M \\times P$\n",
    "$$\n",
    "\\begin{equation}\n",
    "\t(AB)^{\\prime}=B^{\\prime}A^{\\prime}\n",
    "\\end{equation}\n",
    "$$\n",
    "\n",
    "[Wiki Matrix transposition](http://en.wikipedia.org/wiki/Matrix_transposition)"
   ]
  },
  {
   "cell_type": "code",
   "execution_count": null,
   "metadata": {
    "pycharm": {
     "name": "#%%\n"
    }
   },
   "outputs": [],
   "source": [
    "print(B.T.dot(A.T))\n",
    "print(\"Is identical to:\")\n",
    "print((A.dot(B)).T)"
   ]
  }
 ],
 "metadata": {
  "hide_input": false,
  "kernelspec": {
   "display_name": "Python 3",
   "language": "python",
   "name": "python3"
  },
  "language_info": {
   "codemirror_mode": {
    "name": "ipython",
    "version": 3
   },
   "file_extension": ".py",
   "mimetype": "text/x-python",
   "name": "python",
   "nbconvert_exporter": "python",
   "pygments_lexer": "ipython3",
   "version": "3.8.5"
  }
 },
 "nbformat": 4,
 "nbformat_minor": 4
}