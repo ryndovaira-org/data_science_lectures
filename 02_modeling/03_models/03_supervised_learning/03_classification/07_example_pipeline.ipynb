{
 "cells": [
  {
   "cell_type": "markdown",
   "metadata": {},
   "source": [
    "# Построение модели на примере Decision tree"
   ]
  },
  {
   "cell_type": "markdown",
   "metadata": {},
   "source": [
    "## Подготовка окружения"
   ]
  },
  {
   "cell_type": "code",
   "execution_count": 1,
   "metadata": {
    "collapsed": false,
    "jupyter": {
     "outputs_hidden": false
    },
    "pycharm": {
     "name": "#%%\n"
    }
   },
   "outputs": [],
   "source": [
    "# ВНИМАНИЕ: необходимо удостовериться, что виртуальная среда выбрана правильно!\n",
    "\n",
    "# Для MacOS/Ubuntu\n",
    "# !which pip\n",
    "\n",
    "# Для Windows\n",
    "# !where pip"
   ]
  },
  {
   "cell_type": "code",
   "execution_count": 2,
   "metadata": {
    "collapsed": false,
    "jupyter": {
     "outputs_hidden": false
    },
    "pycharm": {
     "name": "#%%\n"
    }
   },
   "outputs": [],
   "source": [
    "# !conda install matplotlib numpy scikit-learn seaborn scipy -y"
   ]
  },
  {
   "cell_type": "code",
   "execution_count": 3,
   "metadata": {},
   "outputs": [],
   "source": [
    "# !conda install -c conda-forge imbalanced-learn -y"
   ]
  },
  {
   "cell_type": "code",
   "execution_count": 4,
   "metadata": {
    "collapsed": false,
    "jupyter": {
     "outputs_hidden": false
    },
    "pycharm": {
     "name": "#%%\n"
    }
   },
   "outputs": [
    {
     "data": {
      "text/plain": [
       "'1.19.2'"
      ]
     },
     "execution_count": 4,
     "metadata": {},
     "output_type": "execute_result"
    }
   ],
   "source": [
    "import numpy as np\n",
    "\n",
    "np.__version__"
   ]
  },
  {
   "cell_type": "code",
   "execution_count": 5,
   "metadata": {
    "collapsed": false,
    "jupyter": {
     "outputs_hidden": false
    },
    "pycharm": {
     "name": "#%%\n"
    }
   },
   "outputs": [
    {
     "data": {
      "text/plain": [
       "'1.2.3'"
      ]
     },
     "execution_count": 5,
     "metadata": {},
     "output_type": "execute_result"
    }
   ],
   "source": [
    "import pandas as pd\n",
    "\n",
    "pd.__version__"
   ]
  },
  {
   "cell_type": "code",
   "execution_count": 6,
   "metadata": {
    "collapsed": false,
    "jupyter": {
     "outputs_hidden": false
    },
    "pycharm": {
     "name": "#%%\n"
    }
   },
   "outputs": [
    {
     "data": {
      "text/plain": [
       "'1.6.2'"
      ]
     },
     "execution_count": 6,
     "metadata": {},
     "output_type": "execute_result"
    }
   ],
   "source": [
    "import scipy\n",
    "from scipy import stats\n",
    "\n",
    "scipy.__version__"
   ]
  },
  {
   "cell_type": "code",
   "execution_count": 7,
   "metadata": {
    "collapsed": false,
    "jupyter": {
     "outputs_hidden": false
    },
    "pycharm": {
     "name": "#%%\n"
    }
   },
   "outputs": [
    {
     "data": {
      "text/plain": [
       "'3.3.4'"
      ]
     },
     "execution_count": 7,
     "metadata": {},
     "output_type": "execute_result"
    }
   ],
   "source": [
    "import matplotlib\n",
    "import matplotlib.pyplot as plt\n",
    "\n",
    "matplotlib.__version__"
   ]
  },
  {
   "cell_type": "code",
   "execution_count": 8,
   "metadata": {
    "collapsed": false,
    "jupyter": {
     "outputs_hidden": false
    },
    "pycharm": {
     "name": "#%%\n"
    }
   },
   "outputs": [
    {
     "data": {
      "text/plain": [
       "'0.11.1'"
      ]
     },
     "execution_count": 8,
     "metadata": {},
     "output_type": "execute_result"
    }
   ],
   "source": [
    "import seaborn as sns\n",
    "\n",
    "sns.__version__"
   ]
  },
  {
   "cell_type": "code",
   "execution_count": 9,
   "metadata": {},
   "outputs": [
    {
     "data": {
      "text/plain": [
       "'0.8.0'"
      ]
     },
     "execution_count": 9,
     "metadata": {},
     "output_type": "execute_result"
    }
   ],
   "source": [
    "import imblearn\n",
    "from imblearn.over_sampling import RandomOverSampler\n",
    "from imblearn.over_sampling import SMOTE\n",
    "\n",
    "imblearn.__version__"
   ]
  },
  {
   "cell_type": "code",
   "execution_count": 10,
   "metadata": {
    "collapsed": false,
    "jupyter": {
     "outputs_hidden": false
    },
    "pycharm": {
     "name": "#%%\n"
    }
   },
   "outputs": [],
   "source": [
    "from sklearn.preprocessing import OrdinalEncoder\n",
    "\n",
    "from sklearn.preprocessing import RobustScaler\n",
    "\n",
    "from sklearn.tree import DecisionTreeClassifier\n",
    "\n",
    "from sklearn.preprocessing import FunctionTransformer\n",
    "from sklearn.compose import ColumnTransformer\n",
    "\n",
    "# from sklearn.pipeline import Pipeline\n",
    "from imblearn.pipeline import Pipeline\n",
    "from sklearn.model_selection import GridSearchCV"
   ]
  },
  {
   "cell_type": "code",
   "execution_count": 11,
   "metadata": {},
   "outputs": [],
   "source": [
    "from sklearn.metrics import plot_confusion_matrix\n",
    "\n",
    "from sklearn.metrics import accuracy_score\n",
    "from sklearn.metrics import balanced_accuracy_score\n",
    "from sklearn.metrics import precision_score\n",
    "from sklearn.metrics import recall_score\n",
    "from sklearn.metrics import f1_score\n",
    "from sklearn.metrics import roc_auc_score"
   ]
  },
  {
   "cell_type": "markdown",
   "metadata": {},
   "source": [
    "## Загрузка данных\n",
    "\n",
    "[Источник (Churn Modelling)](https://www.kaggle.com/shrutimechlearn/churn-modelling)"
   ]
  },
  {
   "cell_type": "code",
   "execution_count": 12,
   "metadata": {
    "collapsed": false,
    "jupyter": {
     "outputs_hidden": false
    },
    "pycharm": {
     "name": "#%%\n"
    }
   },
   "outputs": [
    {
     "data": {
      "text/html": [
       "<div>\n",
       "<style scoped>\n",
       "    .dataframe tbody tr th:only-of-type {\n",
       "        vertical-align: middle;\n",
       "    }\n",
       "\n",
       "    .dataframe tbody tr th {\n",
       "        vertical-align: top;\n",
       "    }\n",
       "\n",
       "    .dataframe thead th {\n",
       "        text-align: right;\n",
       "    }\n",
       "</style>\n",
       "<table border=\"1\" class=\"dataframe\">\n",
       "  <thead>\n",
       "    <tr style=\"text-align: right;\">\n",
       "      <th></th>\n",
       "      <th>CustomerId</th>\n",
       "      <th>Surname</th>\n",
       "      <th>CreditScore</th>\n",
       "      <th>Geography</th>\n",
       "      <th>Gender</th>\n",
       "      <th>Age</th>\n",
       "      <th>Tenure</th>\n",
       "      <th>Balance</th>\n",
       "      <th>NumOfProducts</th>\n",
       "      <th>HasCrCard</th>\n",
       "      <th>IsActiveMember</th>\n",
       "      <th>EstimatedSalary</th>\n",
       "      <th>Exited</th>\n",
       "    </tr>\n",
       "    <tr>\n",
       "      <th>RowNumber</th>\n",
       "      <th></th>\n",
       "      <th></th>\n",
       "      <th></th>\n",
       "      <th></th>\n",
       "      <th></th>\n",
       "      <th></th>\n",
       "      <th></th>\n",
       "      <th></th>\n",
       "      <th></th>\n",
       "      <th></th>\n",
       "      <th></th>\n",
       "      <th></th>\n",
       "      <th></th>\n",
       "    </tr>\n",
       "  </thead>\n",
       "  <tbody>\n",
       "    <tr>\n",
       "      <th>1</th>\n",
       "      <td>15634602</td>\n",
       "      <td>Hargrave</td>\n",
       "      <td>619</td>\n",
       "      <td>France</td>\n",
       "      <td>Female</td>\n",
       "      <td>42</td>\n",
       "      <td>2</td>\n",
       "      <td>0.00</td>\n",
       "      <td>1</td>\n",
       "      <td>1</td>\n",
       "      <td>1</td>\n",
       "      <td>101348.88</td>\n",
       "      <td>1</td>\n",
       "    </tr>\n",
       "    <tr>\n",
       "      <th>2</th>\n",
       "      <td>15647311</td>\n",
       "      <td>Hill</td>\n",
       "      <td>608</td>\n",
       "      <td>Spain</td>\n",
       "      <td>Female</td>\n",
       "      <td>41</td>\n",
       "      <td>1</td>\n",
       "      <td>83807.86</td>\n",
       "      <td>1</td>\n",
       "      <td>0</td>\n",
       "      <td>1</td>\n",
       "      <td>112542.58</td>\n",
       "      <td>0</td>\n",
       "    </tr>\n",
       "    <tr>\n",
       "      <th>3</th>\n",
       "      <td>15619304</td>\n",
       "      <td>Onio</td>\n",
       "      <td>502</td>\n",
       "      <td>France</td>\n",
       "      <td>Female</td>\n",
       "      <td>42</td>\n",
       "      <td>8</td>\n",
       "      <td>159660.80</td>\n",
       "      <td>3</td>\n",
       "      <td>1</td>\n",
       "      <td>0</td>\n",
       "      <td>113931.57</td>\n",
       "      <td>1</td>\n",
       "    </tr>\n",
       "    <tr>\n",
       "      <th>4</th>\n",
       "      <td>15701354</td>\n",
       "      <td>Boni</td>\n",
       "      <td>699</td>\n",
       "      <td>France</td>\n",
       "      <td>Female</td>\n",
       "      <td>39</td>\n",
       "      <td>1</td>\n",
       "      <td>0.00</td>\n",
       "      <td>2</td>\n",
       "      <td>0</td>\n",
       "      <td>0</td>\n",
       "      <td>93826.63</td>\n",
       "      <td>0</td>\n",
       "    </tr>\n",
       "    <tr>\n",
       "      <th>5</th>\n",
       "      <td>15737888</td>\n",
       "      <td>Mitchell</td>\n",
       "      <td>850</td>\n",
       "      <td>Spain</td>\n",
       "      <td>Female</td>\n",
       "      <td>43</td>\n",
       "      <td>2</td>\n",
       "      <td>125510.82</td>\n",
       "      <td>1</td>\n",
       "      <td>1</td>\n",
       "      <td>1</td>\n",
       "      <td>79084.10</td>\n",
       "      <td>0</td>\n",
       "    </tr>\n",
       "    <tr>\n",
       "      <th>...</th>\n",
       "      <td>...</td>\n",
       "      <td>...</td>\n",
       "      <td>...</td>\n",
       "      <td>...</td>\n",
       "      <td>...</td>\n",
       "      <td>...</td>\n",
       "      <td>...</td>\n",
       "      <td>...</td>\n",
       "      <td>...</td>\n",
       "      <td>...</td>\n",
       "      <td>...</td>\n",
       "      <td>...</td>\n",
       "      <td>...</td>\n",
       "    </tr>\n",
       "    <tr>\n",
       "      <th>9996</th>\n",
       "      <td>15606229</td>\n",
       "      <td>Obijiaku</td>\n",
       "      <td>771</td>\n",
       "      <td>France</td>\n",
       "      <td>Male</td>\n",
       "      <td>39</td>\n",
       "      <td>5</td>\n",
       "      <td>0.00</td>\n",
       "      <td>2</td>\n",
       "      <td>1</td>\n",
       "      <td>0</td>\n",
       "      <td>96270.64</td>\n",
       "      <td>0</td>\n",
       "    </tr>\n",
       "    <tr>\n",
       "      <th>9997</th>\n",
       "      <td>15569892</td>\n",
       "      <td>Johnstone</td>\n",
       "      <td>516</td>\n",
       "      <td>France</td>\n",
       "      <td>Male</td>\n",
       "      <td>35</td>\n",
       "      <td>10</td>\n",
       "      <td>57369.61</td>\n",
       "      <td>1</td>\n",
       "      <td>1</td>\n",
       "      <td>1</td>\n",
       "      <td>101699.77</td>\n",
       "      <td>0</td>\n",
       "    </tr>\n",
       "    <tr>\n",
       "      <th>9998</th>\n",
       "      <td>15584532</td>\n",
       "      <td>Liu</td>\n",
       "      <td>709</td>\n",
       "      <td>France</td>\n",
       "      <td>Female</td>\n",
       "      <td>36</td>\n",
       "      <td>7</td>\n",
       "      <td>0.00</td>\n",
       "      <td>1</td>\n",
       "      <td>0</td>\n",
       "      <td>1</td>\n",
       "      <td>42085.58</td>\n",
       "      <td>1</td>\n",
       "    </tr>\n",
       "    <tr>\n",
       "      <th>9999</th>\n",
       "      <td>15682355</td>\n",
       "      <td>Sabbatini</td>\n",
       "      <td>772</td>\n",
       "      <td>Germany</td>\n",
       "      <td>Male</td>\n",
       "      <td>42</td>\n",
       "      <td>3</td>\n",
       "      <td>75075.31</td>\n",
       "      <td>2</td>\n",
       "      <td>1</td>\n",
       "      <td>0</td>\n",
       "      <td>92888.52</td>\n",
       "      <td>1</td>\n",
       "    </tr>\n",
       "    <tr>\n",
       "      <th>10000</th>\n",
       "      <td>15628319</td>\n",
       "      <td>Walker</td>\n",
       "      <td>792</td>\n",
       "      <td>France</td>\n",
       "      <td>Female</td>\n",
       "      <td>28</td>\n",
       "      <td>4</td>\n",
       "      <td>130142.79</td>\n",
       "      <td>1</td>\n",
       "      <td>1</td>\n",
       "      <td>0</td>\n",
       "      <td>38190.78</td>\n",
       "      <td>0</td>\n",
       "    </tr>\n",
       "  </tbody>\n",
       "</table>\n",
       "<p>10000 rows × 13 columns</p>\n",
       "</div>"
      ],
      "text/plain": [
       "           CustomerId    Surname  CreditScore Geography  Gender  Age  Tenure  \\\n",
       "RowNumber                                                                      \n",
       "1            15634602   Hargrave          619    France  Female   42       2   \n",
       "2            15647311       Hill          608     Spain  Female   41       1   \n",
       "3            15619304       Onio          502    France  Female   42       8   \n",
       "4            15701354       Boni          699    France  Female   39       1   \n",
       "5            15737888   Mitchell          850     Spain  Female   43       2   \n",
       "...               ...        ...          ...       ...     ...  ...     ...   \n",
       "9996         15606229   Obijiaku          771    France    Male   39       5   \n",
       "9997         15569892  Johnstone          516    France    Male   35      10   \n",
       "9998         15584532        Liu          709    France  Female   36       7   \n",
       "9999         15682355  Sabbatini          772   Germany    Male   42       3   \n",
       "10000        15628319     Walker          792    France  Female   28       4   \n",
       "\n",
       "             Balance  NumOfProducts  HasCrCard  IsActiveMember  \\\n",
       "RowNumber                                                        \n",
       "1               0.00              1          1               1   \n",
       "2           83807.86              1          0               1   \n",
       "3          159660.80              3          1               0   \n",
       "4               0.00              2          0               0   \n",
       "5          125510.82              1          1               1   \n",
       "...              ...            ...        ...             ...   \n",
       "9996            0.00              2          1               0   \n",
       "9997        57369.61              1          1               1   \n",
       "9998            0.00              1          0               1   \n",
       "9999        75075.31              2          1               0   \n",
       "10000      130142.79              1          1               0   \n",
       "\n",
       "           EstimatedSalary  Exited  \n",
       "RowNumber                           \n",
       "1                101348.88       1  \n",
       "2                112542.58       0  \n",
       "3                113931.57       1  \n",
       "4                 93826.63       0  \n",
       "5                 79084.10       0  \n",
       "...                    ...     ...  \n",
       "9996              96270.64       0  \n",
       "9997             101699.77       0  \n",
       "9998              42085.58       1  \n",
       "9999              92888.52       1  \n",
       "10000             38190.78       0  \n",
       "\n",
       "[10000 rows x 13 columns]"
      ]
     },
     "execution_count": 12,
     "metadata": {},
     "output_type": "execute_result"
    }
   ],
   "source": [
    "df = pd.read_csv(\"./../../data/Churn_Modelling.csv\", index_col=0)\n",
    "df"
   ]
  },
  {
   "cell_type": "code",
   "execution_count": 13,
   "metadata": {},
   "outputs": [
    {
     "name": "stdout",
     "output_type": "stream",
     "text": [
      "<class 'pandas.core.frame.DataFrame'>\n",
      "Int64Index: 10000 entries, 1 to 10000\n",
      "Data columns (total 13 columns):\n",
      " #   Column           Non-Null Count  Dtype  \n",
      "---  ------           --------------  -----  \n",
      " 0   CustomerId       10000 non-null  int64  \n",
      " 1   Surname          10000 non-null  object \n",
      " 2   CreditScore      10000 non-null  int64  \n",
      " 3   Geography        10000 non-null  object \n",
      " 4   Gender           10000 non-null  object \n",
      " 5   Age              10000 non-null  int64  \n",
      " 6   Tenure           10000 non-null  int64  \n",
      " 7   Balance          10000 non-null  float64\n",
      " 8   NumOfProducts    10000 non-null  int64  \n",
      " 9   HasCrCard        10000 non-null  int64  \n",
      " 10  IsActiveMember   10000 non-null  int64  \n",
      " 11  EstimatedSalary  10000 non-null  float64\n",
      " 12  Exited           10000 non-null  int64  \n",
      "dtypes: float64(2), int64(8), object(3)\n",
      "memory usage: 1.1+ MB\n"
     ]
    }
   ],
   "source": [
    "df.info()"
   ]
  },
  {
   "cell_type": "markdown",
   "metadata": {},
   "source": [
    "## Разделение данных на `X` и `y`"
   ]
  },
  {
   "cell_type": "code",
   "execution_count": 14,
   "metadata": {},
   "outputs": [],
   "source": [
    "# колонка, которая не несет полезной информации\n",
    "# если добавить, то может испортить качество, так как\n",
    "# номер пользователя объективно не должен влиять на результат\n",
    "del df[\"CustomerId\"]"
   ]
  },
  {
   "cell_type": "code",
   "execution_count": 15,
   "metadata": {},
   "outputs": [],
   "source": [
    "target_column_name = \"Exited\""
   ]
  },
  {
   "cell_type": "code",
   "execution_count": 16,
   "metadata": {
    "collapsed": false,
    "jupyter": {
     "outputs_hidden": false
    },
    "pycharm": {
     "name": "#%%\n"
    }
   },
   "outputs": [],
   "source": [
    "from sklearn.model_selection import train_test_split\n",
    "\n",
    "y = df[target_column_name].copy()\n",
    "X = df.loc[:, df.columns != target_column_name].copy()\n",
    "\n",
    "X_train, X_test, y_train, y_test = train_test_split(X, y, test_size=0.2)"
   ]
  },
  {
   "cell_type": "markdown",
   "metadata": {},
   "source": [
    "## Анализ и обработка пропущенных значений"
   ]
  },
  {
   "cell_type": "code",
   "execution_count": 17,
   "metadata": {},
   "outputs": [
    {
     "data": {
      "text/plain": [
       "Surname            0\n",
       "CreditScore        0\n",
       "Geography          0\n",
       "Gender             0\n",
       "Age                0\n",
       "Tenure             0\n",
       "Balance            0\n",
       "NumOfProducts      0\n",
       "HasCrCard          0\n",
       "IsActiveMember     0\n",
       "EstimatedSalary    0\n",
       "Exited             0\n",
       "dtype: int64"
      ]
     },
     "execution_count": 17,
     "metadata": {},
     "output_type": "execute_result"
    }
   ],
   "source": [
    "df.isna().sum()"
   ]
  },
  {
   "cell_type": "markdown",
   "metadata": {},
   "source": [
    "## Преобразование типов и очистка"
   ]
  },
  {
   "cell_type": "code",
   "execution_count": 18,
   "metadata": {},
   "outputs": [
    {
     "name": "stdout",
     "output_type": "stream",
     "text": [
      "Surname : 2623\n",
      "--------------------\n",
      "Geography : 3\n",
      "--------------------\n",
      "Gender : 2\n",
      "--------------------\n"
     ]
    }
   ],
   "source": [
    "for col_name in X_train.select_dtypes(include=\"object\"):\n",
    "    print(f\"{col_name} : {X_train[col_name].nunique()}\")\n",
    "    print(\"-\" * 20)"
   ]
  },
  {
   "cell_type": "code",
   "execution_count": 19,
   "metadata": {},
   "outputs": [
    {
     "name": "stdout",
     "output_type": "stream",
     "text": [
      "CreditScore : 453\n",
      "--------------------\n",
      "Age : 68\n",
      "--------------------\n",
      "Tenure : 11\n"
     ]
    },
    {
     "data": {
      "text/plain": [
       "7     845\n",
       "2     838\n",
       "5     819\n",
       "8     818\n",
       "1     801\n",
       "3     801\n",
       "9     796\n",
       "6     784\n",
       "4     783\n",
       "10    387\n",
       "0     328\n",
       "Name: Tenure, dtype: int64"
      ]
     },
     "metadata": {},
     "output_type": "display_data"
    },
    {
     "name": "stdout",
     "output_type": "stream",
     "text": [
      "--------------------\n",
      "NumOfProducts : 4\n"
     ]
    },
    {
     "data": {
      "text/plain": [
       "1    4042\n",
       "2    3704\n",
       "3     207\n",
       "4      47\n",
       "Name: NumOfProducts, dtype: int64"
      ]
     },
     "metadata": {},
     "output_type": "display_data"
    },
    {
     "name": "stdout",
     "output_type": "stream",
     "text": [
      "--------------------\n",
      "HasCrCard : 2\n"
     ]
    },
    {
     "data": {
      "text/plain": [
       "1    5648\n",
       "0    2352\n",
       "Name: HasCrCard, dtype: int64"
      ]
     },
     "metadata": {},
     "output_type": "display_data"
    },
    {
     "name": "stdout",
     "output_type": "stream",
     "text": [
      "--------------------\n",
      "IsActiveMember : 2\n"
     ]
    },
    {
     "data": {
      "text/plain": [
       "1    4096\n",
       "0    3904\n",
       "Name: IsActiveMember, dtype: int64"
      ]
     },
     "metadata": {},
     "output_type": "display_data"
    },
    {
     "name": "stdout",
     "output_type": "stream",
     "text": [
      "--------------------\n"
     ]
    }
   ],
   "source": [
    "for col_name in X_train.select_dtypes(include=int):\n",
    "    nunique = X_train[col_name].nunique()\n",
    "\n",
    "    print(f\"{col_name} : {nunique}\")\n",
    "    if nunique < 40:\n",
    "        display(X_train[col_name].value_counts())\n",
    "    print(\"-\" * 20)"
   ]
  },
  {
   "cell_type": "markdown",
   "metadata": {},
   "source": [
    "## Анализ баланса целевой переменной (`y`)"
   ]
  },
  {
   "cell_type": "code",
   "execution_count": 20,
   "metadata": {
    "jupyter": {
     "source_hidden": true
    }
   },
   "outputs": [],
   "source": [
    "def plot_cat_count_s(cs: pd.Series):\n",
    "    \"\"\"\n",
    "    Функция для рисования countplot для Series\n",
    "    \"\"\"\n",
    "    fig, ax = plt.subplots(1, 1, figsize=(6, 2))\n",
    "    g = sns.countplot(x=cs, ax=ax)\n",
    "    g.set_xticklabels(g.get_xticklabels(), rotation=45, horizontalalignment=\"right\")\n",
    "\n",
    "    ax.xaxis.label.set_visible(False)\n",
    "    ax.yaxis.label.set_visible(False)\n",
    "\n",
    "    ax.set_title(cs.name, loc=\"right\", fontsize=15)\n",
    "    ax.grid()\n",
    "\n",
    "    total = len(cs)\n",
    "\n",
    "    print(f\"{total} ({cs.name})\")\n",
    "\n",
    "    for p in ax.patches:\n",
    "        percentage = \"{:.1f}%\".format(100 * p.get_height() / total)\n",
    "        x_pos = p.get_x()\n",
    "        y_pos = p.get_y() + p.get_height()\n",
    "        ax.annotate(percentage, xy=(x_pos, y_pos), fontsize=15)"
   ]
  },
  {
   "cell_type": "code",
   "execution_count": 21,
   "metadata": {},
   "outputs": [
    {
     "name": "stdout",
     "output_type": "stream",
     "text": [
      "10000 (Exited)\n"
     ]
    },
    {
     "data": {
      "image/png": "[encoded data removed]",
      "text/plain": [
       "<Figure size 432x144 with 1 Axes>"
      ]
     },
     "metadata": {
      "needs_background": "light"
     },
     "output_type": "display_data"
    }
   ],
   "source": [
    "plot_cat_count_s(y)"
   ]
  },
  {
   "cell_type": "markdown",
   "metadata": {},
   "source": [
    "Можно сказать, что имеется умеренная (moderate) несбалансированность классов."
   ]
  },
  {
   "cell_type": "markdown",
   "metadata": {},
   "source": [
    "## Анализ и обработка выбросов"
   ]
  },
  {
   "cell_type": "code",
   "execution_count": 22,
   "metadata": {
    "tags": []
   },
   "outputs": [],
   "source": [
    "def box_hist(data, col_name):\n",
    "    _, axs = plt.subplots(1, 2, figsize=(10, 2))\n",
    "    sns.boxplot(data=data[col_name], ax=axs[0])\n",
    "    sns.histplot(data=data[col_name], ax=axs[1])"
   ]
  },
  {
   "cell_type": "code",
   "execution_count": 23,
   "metadata": {
    "tags": []
   },
   "outputs": [
    {
     "data": {
      "image/png": "[encoded data removed]",
      "text/plain": [
       "<Figure size 720x144 with 2 Axes>"
      ]
     },
     "metadata": {
      "needs_background": "light"
     },
     "output_type": "display_data"
    },
    {
     "data": {
      "image/png": "[encoded data removed]",
      "text/plain": [
       "<Figure size 720x144 with 2 Axes>"
      ]
     },
     "metadata": {
      "needs_background": "light"
     },
     "output_type": "display_data"
    },
    {
     "data": {
      "image/png": "[encoded data removed]",
      "text/plain": [
       "<Figure size 720x144 with 2 Axes>"
      ]
     },
     "metadata": {
      "needs_background": "light"
     },
     "output_type": "display_data"
    },
    {
     "data": {
      "image/png": "[encoded data removed]",
      "text/plain": [
       "<Figure size 720x144 with 2 Axes>"
      ]
     },
     "metadata": {
      "needs_background": "light"
     },
     "output_type": "display_data"
    },
    {
     "data": {
      "image/png": "[encoded data removed]",
      "text/plain": [
       "<Figure size 720x144 with 2 Axes>"
      ]
     },
     "metadata": {
      "needs_background": "light"
     },
     "output_type": "display_data"
    },
    {
     "data": {
      "image/png": "[encoded data removed]",
      "text/plain": [
       "<Figure size 720x144 with 2 Axes>"
      ]
     },
     "metadata": {
      "needs_background": "light"
     },
     "output_type": "display_data"
    },
    {
     "data": {
      "image/png": "[encoded data removed]",
      "text/plain": [
       "<Figure size 720x144 with 2 Axes>"
      ]
     },
     "metadata": {
      "needs_background": "light"
     },
     "output_type": "display_data"
    },
    {
     "data": {
      "image/png": "[encoded data removed]",
      "text/plain": [
       "<Figure size 720x144 with 2 Axes>"
      ]
     },
     "metadata": {
      "needs_background": "light"
     },
     "output_type": "display_data"
    },
    {
     "data": {
      "image/png": "[encoded data removed]",
      "text/plain": [
       "<Figure size 720x144 with 2 Axes>"
      ]
     },
     "metadata": {
      "needs_background": "light"
     },
     "output_type": "display_data"
    }
   ],
   "source": [
    "df_train = X_train.join(y_train).reset_index(drop=True)\n",
    "for col_name in df_train.select_dtypes(include=np.number):\n",
    "    box_hist(df_train, col_name)\n",
    "\n",
    "X_train = df_train.loc[:, df_train.columns != target_column_name].copy()\n",
    "y_train = df_train[target_column_name].copy()"
   ]
  },
  {
   "cell_type": "markdown",
   "metadata": {},
   "source": [
    "## Анализ корреляции"
   ]
  },
  {
   "cell_type": "code",
   "execution_count": 24,
   "metadata": {},
   "outputs": [
    {
     "data": {
      "text/html": [
       "<div>\n",
       "<style scoped>\n",
       "    .dataframe tbody tr th:only-of-type {\n",
       "        vertical-align: middle;\n",
       "    }\n",
       "\n",
       "    .dataframe tbody tr th {\n",
       "        vertical-align: top;\n",
       "    }\n",
       "\n",
       "    .dataframe thead th {\n",
       "        text-align: right;\n",
       "    }\n",
       "</style>\n",
       "<table border=\"1\" class=\"dataframe\">\n",
       "  <thead>\n",
       "    <tr style=\"text-align: right;\">\n",
       "      <th></th>\n",
       "      <th>CreditScore</th>\n",
       "      <th>Age</th>\n",
       "      <th>Tenure</th>\n",
       "      <th>Balance</th>\n",
       "      <th>NumOfProducts</th>\n",
       "      <th>HasCrCard</th>\n",
       "      <th>IsActiveMember</th>\n",
       "      <th>EstimatedSalary</th>\n",
       "      <th>Exited</th>\n",
       "    </tr>\n",
       "  </thead>\n",
       "  <tbody>\n",
       "    <tr>\n",
       "      <th>CreditScore</th>\n",
       "      <td>1.0</td>\n",
       "      <td>NaN</td>\n",
       "      <td>NaN</td>\n",
       "      <td>NaN</td>\n",
       "      <td>NaN</td>\n",
       "      <td>NaN</td>\n",
       "      <td>NaN</td>\n",
       "      <td>NaN</td>\n",
       "      <td>NaN</td>\n",
       "    </tr>\n",
       "    <tr>\n",
       "      <th>Age</th>\n",
       "      <td>NaN</td>\n",
       "      <td>1.0</td>\n",
       "      <td>NaN</td>\n",
       "      <td>NaN</td>\n",
       "      <td>NaN</td>\n",
       "      <td>NaN</td>\n",
       "      <td>NaN</td>\n",
       "      <td>NaN</td>\n",
       "      <td>NaN</td>\n",
       "    </tr>\n",
       "    <tr>\n",
       "      <th>Tenure</th>\n",
       "      <td>NaN</td>\n",
       "      <td>NaN</td>\n",
       "      <td>1.0</td>\n",
       "      <td>NaN</td>\n",
       "      <td>NaN</td>\n",
       "      <td>NaN</td>\n",
       "      <td>NaN</td>\n",
       "      <td>NaN</td>\n",
       "      <td>NaN</td>\n",
       "    </tr>\n",
       "    <tr>\n",
       "      <th>Balance</th>\n",
       "      <td>NaN</td>\n",
       "      <td>NaN</td>\n",
       "      <td>NaN</td>\n",
       "      <td>1.0</td>\n",
       "      <td>NaN</td>\n",
       "      <td>NaN</td>\n",
       "      <td>NaN</td>\n",
       "      <td>NaN</td>\n",
       "      <td>NaN</td>\n",
       "    </tr>\n",
       "    <tr>\n",
       "      <th>NumOfProducts</th>\n",
       "      <td>NaN</td>\n",
       "      <td>NaN</td>\n",
       "      <td>NaN</td>\n",
       "      <td>NaN</td>\n",
       "      <td>1.0</td>\n",
       "      <td>NaN</td>\n",
       "      <td>NaN</td>\n",
       "      <td>NaN</td>\n",
       "      <td>NaN</td>\n",
       "    </tr>\n",
       "    <tr>\n",
       "      <th>HasCrCard</th>\n",
       "      <td>NaN</td>\n",
       "      <td>NaN</td>\n",
       "      <td>NaN</td>\n",
       "      <td>NaN</td>\n",
       "      <td>NaN</td>\n",
       "      <td>1.0</td>\n",
       "      <td>NaN</td>\n",
       "      <td>NaN</td>\n",
       "      <td>NaN</td>\n",
       "    </tr>\n",
       "    <tr>\n",
       "      <th>IsActiveMember</th>\n",
       "      <td>NaN</td>\n",
       "      <td>NaN</td>\n",
       "      <td>NaN</td>\n",
       "      <td>NaN</td>\n",
       "      <td>NaN</td>\n",
       "      <td>NaN</td>\n",
       "      <td>1.0</td>\n",
       "      <td>NaN</td>\n",
       "      <td>NaN</td>\n",
       "    </tr>\n",
       "    <tr>\n",
       "      <th>EstimatedSalary</th>\n",
       "      <td>NaN</td>\n",
       "      <td>NaN</td>\n",
       "      <td>NaN</td>\n",
       "      <td>NaN</td>\n",
       "      <td>NaN</td>\n",
       "      <td>NaN</td>\n",
       "      <td>NaN</td>\n",
       "      <td>1.0</td>\n",
       "      <td>NaN</td>\n",
       "    </tr>\n",
       "    <tr>\n",
       "      <th>Exited</th>\n",
       "      <td>NaN</td>\n",
       "      <td>NaN</td>\n",
       "      <td>NaN</td>\n",
       "      <td>NaN</td>\n",
       "      <td>NaN</td>\n",
       "      <td>NaN</td>\n",
       "      <td>NaN</td>\n",
       "      <td>NaN</td>\n",
       "      <td>1.0</td>\n",
       "    </tr>\n",
       "  </tbody>\n",
       "</table>\n",
       "</div>"
      ],
      "text/plain": [
       "                 CreditScore  Age  Tenure  Balance  NumOfProducts  HasCrCard  \\\n",
       "CreditScore              1.0  NaN     NaN      NaN            NaN        NaN   \n",
       "Age                      NaN  1.0     NaN      NaN            NaN        NaN   \n",
       "Tenure                   NaN  NaN     1.0      NaN            NaN        NaN   \n",
       "Balance                  NaN  NaN     NaN      1.0            NaN        NaN   \n",
       "NumOfProducts            NaN  NaN     NaN      NaN            1.0        NaN   \n",
       "HasCrCard                NaN  NaN     NaN      NaN            NaN        1.0   \n",
       "IsActiveMember           NaN  NaN     NaN      NaN            NaN        NaN   \n",
       "EstimatedSalary          NaN  NaN     NaN      NaN            NaN        NaN   \n",
       "Exited                   NaN  NaN     NaN      NaN            NaN        NaN   \n",
       "\n",
       "                 IsActiveMember  EstimatedSalary  Exited  \n",
       "CreditScore                 NaN              NaN     NaN  \n",
       "Age                         NaN              NaN     NaN  \n",
       "Tenure                      NaN              NaN     NaN  \n",
       "Balance                     NaN              NaN     NaN  \n",
       "NumOfProducts               NaN              NaN     NaN  \n",
       "HasCrCard                   NaN              NaN     NaN  \n",
       "IsActiveMember              1.0              NaN     NaN  \n",
       "EstimatedSalary             NaN              1.0     NaN  \n",
       "Exited                      NaN              NaN     1.0  "
      ]
     },
     "execution_count": 24,
     "metadata": {},
     "output_type": "execute_result"
    }
   ],
   "source": [
    "corr_matrix = df_train.select_dtypes(include=np.number).corr(method=\"spearman\")\n",
    "corr_matrix[(abs(corr_matrix)) > 0.5]"
   ]
  },
  {
   "cell_type": "markdown",
   "metadata": {},
   "source": [
    "## Pipeline"
   ]
  },
  {
   "cell_type": "code",
   "execution_count": 25,
   "metadata": {},
   "outputs": [],
   "source": [
    "cat_columns = [\"Gender\", \"NumOfProducts\"]\n",
    "bool_columns = [\"HasCrCard\", \"IsActiveMember\"]\n",
    "num_columns = [\"CreditScore\", \"Age\", \"Balance\", \"EstimatedSalary\", \"Tenure\"]\n",
    "str_columns = [\"Surname\", \"Geography\"]"
   ]
  },
  {
   "cell_type": "code",
   "execution_count": 26,
   "metadata": {},
   "outputs": [
    {
     "name": "stdout",
     "output_type": "stream",
     "text": [
      "cat_columns: ['Gender', 'NumOfProducts']\n",
      "bin_cat_columns: ['Gender']\n",
      "mul_cat_columns: ['NumOfProducts']\n",
      "bool_columns: ['HasCrCard', 'IsActiveMember']\n",
      "bin_columns: ['Gender', 'HasCrCard', 'IsActiveMember']\n",
      "num_columns: ['CreditScore', 'Age', 'Balance', 'EstimatedSalary', 'Tenure']\n",
      "str_columns: ['Surname', 'Geography']\n"
     ]
    }
   ],
   "source": [
    "bin_cat_columns = [\n",
    "    col_name for col_name in X[cat_columns] if X[col_name].nunique() == 2\n",
    "]\n",
    "mul_cat_columns = [\n",
    "    col_name for col_name in cat_columns if col_name not in bin_cat_columns\n",
    "]\n",
    "bin_columns = bin_cat_columns + bool_columns\n",
    "\n",
    "print(f\"cat_columns: {cat_columns}\")\n",
    "print(f\"bin_cat_columns: {bin_cat_columns}\")\n",
    "print(f\"mul_cat_columns: {mul_cat_columns}\")\n",
    "print(f\"bool_columns: {bool_columns}\")\n",
    "print(f\"bin_columns: {bin_columns}\")\n",
    "print(f\"num_columns: {num_columns}\")\n",
    "print(f\"str_columns: {str_columns}\")"
   ]
  },
  {
   "cell_type": "code",
   "execution_count": 27,
   "metadata": {},
   "outputs": [],
   "source": [
    "bin_cat_transformer = Pipeline(steps=[(\"encoder_ord\", OrdinalEncoder())])\n",
    "\n",
    "mul_cat_transformer = Pipeline(\n",
    "    steps=[(\"replace\", FunctionTransformer(lambda x: x.replace(4, 3)))]\n",
    ")\n",
    "\n",
    "num_transformer = Pipeline(\n",
    "    steps=[\n",
    "        #     ('discretizer', KBinsDiscretizer(n_bins=3, encode='ordinal', strategy='kmeans'))\n",
    "        (\"scaler\", RobustScaler())\n",
    "    ]\n",
    ")"
   ]
  },
  {
   "cell_type": "code",
   "execution_count": 28,
   "metadata": {
    "pycharm": {
     "name": "#%%\n"
    }
   },
   "outputs": [],
   "source": [
    "preprocessor = ColumnTransformer(\n",
    "    transformers=[\n",
    "        (\"bin_cat_transformer\", bin_cat_transformer, bin_columns),\n",
    "        #         ('mul_cat_transformer', mul_cat_transformer, mul_cat_columns),\n",
    "        (\"num_transformer\", num_transformer, num_columns),\n",
    "        (\"passthrough\", \"passthrough\", mul_cat_columns),\n",
    "        (\"drop\", \"drop\", str_columns),\n",
    "    ]\n",
    ")"
   ]
  },
  {
   "cell_type": "code",
   "execution_count": 29,
   "metadata": {},
   "outputs": [],
   "source": [
    "# X[bin_columns + mul_cat_columns + num_columns]"
   ]
  },
  {
   "cell_type": "code",
   "execution_count": 30,
   "metadata": {},
   "outputs": [],
   "source": [
    "# prep_for_test = preprocessor.fit(X_train, y_train)\n",
    "# pd.DataFrame(prep_for_test.transform(X_train), columns=bin_columns + mul_cat_columns + num_columns)"
   ]
  },
  {
   "cell_type": "markdown",
   "metadata": {},
   "source": [
    "## Обучение модели (эксперименты)"
   ]
  },
  {
   "cell_type": "code",
   "execution_count": 31,
   "metadata": {},
   "outputs": [],
   "source": [
    "pipeline_without_resampling = Pipeline(\n",
    "    steps=[\n",
    "        (\"preprocessor\", preprocessor),\n",
    "        (\"model\", DecisionTreeClassifier(criterion=\"entropy\")),\n",
    "    ]\n",
    ")\n",
    "\n",
    "pipeline_over_sampling = Pipeline(\n",
    "    steps=[\n",
    "        (\"preprocessor\", preprocessor),\n",
    "        (\"over_sample\", RandomOverSampler()),\n",
    "        (\"model\", DecisionTreeClassifier(criterion=\"entropy\")),\n",
    "    ]\n",
    ")\n",
    "\n",
    "pipeline_SMOT = Pipeline(\n",
    "    steps=[\n",
    "        (\"preprocessor\", preprocessor),\n",
    "        (\"over_sample\", SMOTE()),\n",
    "        (\"model\", DecisionTreeClassifier(criterion=\"entropy\")),\n",
    "    ]\n",
    ")\n",
    "\n",
    "param_grid_without_resampling = {\n",
    "    \"model__max_depth\": list(range(3, 8)),\n",
    "    \"model__min_samples_split\": list(range(2, 8)),\n",
    "}\n",
    "\n",
    "param_grid_over_sampling = {\n",
    "    \"model__max_depth\": list(range(3, 8)),\n",
    "    \"model__min_samples_split\": list(range(2, 8)),\n",
    "    \"over_sample__sampling_strategy\": list(np.arange(0.4, 1, 0.1)),\n",
    "}\n",
    "\n",
    "param_grid_SMOT = {\n",
    "    \"model__max_depth\": list(range(3, 8)),\n",
    "    \"model__min_samples_split\": list(range(2, 8)),\n",
    "    \"over_sample__sampling_strategy\": list(np.arange(0.4, 1, 0.1)),\n",
    "    \"over_sample__k_neighbors\": list(range(3, 7)),\n",
    "}"
   ]
  },
  {
   "cell_type": "code",
   "execution_count": 32,
   "metadata": {},
   "outputs": [],
   "source": [
    "params = {\n",
    "    \"without_resampling\": (pipeline_without_resampling, param_grid_without_resampling),\n",
    "    \"over_sampling\": (pipeline_over_sampling, param_grid_over_sampling),\n",
    "    \"SMOT\": (pipeline_SMOT, param_grid_SMOT),\n",
    "}"
   ]
  },
  {
   "cell_type": "markdown",
   "metadata": {},
   "source": [
    "[scoring parameter](https://scikit-learn.org/stable/modules/model_evaluation.html#common-cases-predefined-values)"
   ]
  },
  {
   "cell_type": "code",
   "execution_count": 33,
   "metadata": {},
   "outputs": [],
   "source": [
    "gs_scoring = [\"roc_auc\", \"recall\", \"precision\", \"f1\", \"balanced_accuracy\", \"accuracy\"]"
   ]
  },
  {
   "cell_type": "code",
   "execution_count": 34,
   "metadata": {},
   "outputs": [
    {
     "name": "stdout",
     "output_type": "stream",
     "text": [
      "without_resampling | roc_auc ... finished! (3.42s) 1/18\n",
      "without_resampling | recall ... finished! (2.30s) 2/18\n",
      "without_resampling | precision ... finished! (2.25s) 3/18\n",
      "without_resampling | f1 ... finished! (2.05s) 4/18\n",
      "without_resampling | balanced_accuracy ... finished! (1.94s) 5/18\n",
      "without_resampling | accuracy ... finished! (1.97s) 6/18\n",
      "\n",
      "over_sampling | roc_auc ... finished! (14.86s) 7/18\n",
      "over_sampling | recall ... finished! (13.93s) 8/18\n",
      "over_sampling | precision ... finished! (14.88s) 9/18\n",
      "over_sampling | f1 ... finished! (15.87s) 10/18\n",
      "over_sampling | balanced_accuracy ... finished! (14.19s) 11/18\n",
      "over_sampling | accuracy ... finished! (13.71s) 12/18\n",
      "\n",
      "SMOT | roc_auc ... finished! (84.30s) 13/18\n",
      "SMOT | recall ... finished! (86.29s) 14/18\n",
      "SMOT | precision ... finished! (88.97s) 15/18\n",
      "SMOT | f1 ... finished! (83.13s) 16/18\n",
      "SMOT | balanced_accuracy ... finished! (84.10s) 17/18\n",
      "SMOT | accuracy ... finished! (87.84s) 18/18\n",
      "\n"
     ]
    }
   ],
   "source": [
    "import time\n",
    "\n",
    "total = len(params) * len(gs_scoring)\n",
    "index = 1\n",
    "models = {}\n",
    "\n",
    "for name, (pipeline, param_grid) in params.items():\n",
    "    models[name] = {}\n",
    "    for scoring in gs_scoring:\n",
    "        start = time.time()\n",
    "        print(f\"{name} | {scoring} ...\", end=\" \")\n",
    "        model = GridSearchCV(pipeline, param_grid, n_jobs=-1, scoring=scoring)\n",
    "        model.fit(X_train, y_train)\n",
    "\n",
    "        models[name].update({scoring: model})\n",
    "        end = time.time()\n",
    "\n",
    "        print(f\"finished! ({end - start:0.2f}s) {index}/{total}\")\n",
    "        index += 1\n",
    "    print()"
   ]
  },
  {
   "cell_type": "markdown",
   "metadata": {},
   "source": [
    "## Анализ результатов"
   ]
  },
  {
   "cell_type": "code",
   "execution_count": 35,
   "metadata": {},
   "outputs": [],
   "source": [
    "columns = [\"accuracy\", \"b_accuracy\", \"precision\", \"recall\", \"f1\", \"roc_auc\"]"
   ]
  },
  {
   "cell_type": "code",
   "execution_count": 36,
   "metadata": {},
   "outputs": [],
   "source": [
    "def evaluate_model(y_predicted, X_test, y_test):\n",
    "    accuracy = accuracy_score(y_test, y_predicted)\n",
    "    balanced_accuracy = balanced_accuracy_score(y_test, y_predicted)\n",
    "    precision = precision_score(y_test, y_predicted)\n",
    "    recall = recall_score(y_test, y_predicted)\n",
    "    f1 = f1_score(y_test, y_predicted, average=\"weighted\")\n",
    "    roc_auc = roc_auc_score(y_test, y_predicted)\n",
    "\n",
    "    return pd.Series(\n",
    "        [accuracy, balanced_accuracy, precision, recall, f1, roc_auc], index=columns\n",
    "    )"
   ]
  },
  {
   "cell_type": "code",
   "execution_count": 37,
   "metadata": {},
   "outputs": [
    {
     "name": "stdout",
     "output_type": "stream",
     "text": [
      "\n",
      "\n",
      "plot matrix: 6x3\n"
     ]
    },
    {
     "data": {
      "image/png": "[encoded data removed]",
      "text/plain": [
       "<Figure size 1296x1512 with 36 Axes>"
      ]
     },
     "metadata": {
      "needs_background": "light"
     },
     "output_type": "display_data"
    }
   ],
   "source": [
    "eval_df = pd.DataFrame(columns=columns)\n",
    "name_scorer_index = []\n",
    "\n",
    "names_len = len(params)\n",
    "scorers_len = len(gs_scoring)\n",
    "fig, axes = plt.subplots(\n",
    "    scorers_len, names_len, figsize=(scorers_len * 3, names_len * 7)\n",
    ")\n",
    "\n",
    "for name_index, (name, models_by_scorer) in enumerate(models.items()):\n",
    "    for scorer_index, (scorer, model) in enumerate(models_by_scorer.items()):\n",
    "        name_scorer_index.append((name, scorer))\n",
    "\n",
    "        y_predicted = model.predict(X_test)\n",
    "        ax = axes[scorer_index][name_index]\n",
    "        plot_confusion_matrix(model, X_test, y_test, ax=ax)\n",
    "        ax.set_title(f\"{name} ({scorer})\")\n",
    "\n",
    "        eval_res = evaluate_model(y_predicted, X_test, y_test)\n",
    "        eval_df = eval_df.append(eval_res, ignore_index=True)\n",
    "\n",
    "index = pd.MultiIndex.from_tuples(name_scorer_index, names=[\"name\", \"scorer\"])\n",
    "eval_df.set_index(index, inplace=True)\n",
    "\n",
    "print(f\"\\n\\nplot matrix: {scorers_len}x{names_len}\")\n",
    "# расстояние между графиками по горизонтали и вертикали\n",
    "fig.subplots_adjust(hspace=0.5, wspace=0)"
   ]
  },
  {
   "cell_type": "code",
   "execution_count": 38,
   "metadata": {},
   "outputs": [
    {
     "data": {
      "text/html": [
       "<div>\n",
       "<style scoped>\n",
       "    .dataframe tbody tr th:only-of-type {\n",
       "        vertical-align: middle;\n",
       "    }\n",
       "\n",
       "    .dataframe tbody tr th {\n",
       "        vertical-align: top;\n",
       "    }\n",
       "\n",
       "    .dataframe thead th {\n",
       "        text-align: right;\n",
       "    }\n",
       "</style>\n",
       "<table border=\"1\" class=\"dataframe\">\n",
       "  <thead>\n",
       "    <tr style=\"text-align: right;\">\n",
       "      <th></th>\n",
       "      <th></th>\n",
       "      <th>accuracy</th>\n",
       "      <th>b_accuracy</th>\n",
       "      <th>precision</th>\n",
       "      <th>recall</th>\n",
       "      <th>f1</th>\n",
       "      <th>roc_auc</th>\n",
       "    </tr>\n",
       "    <tr>\n",
       "      <th>name</th>\n",
       "      <th>scorer</th>\n",
       "      <th></th>\n",
       "      <th></th>\n",
       "      <th></th>\n",
       "      <th></th>\n",
       "      <th></th>\n",
       "      <th></th>\n",
       "    </tr>\n",
       "  </thead>\n",
       "  <tbody>\n",
       "    <tr>\n",
       "      <th rowspan=\"6\" valign=\"top\">without_resampling</th>\n",
       "      <th>roc_auc</th>\n",
       "      <td>0.8530</td>\n",
       "      <td>0.678703</td>\n",
       "      <td>0.832461</td>\n",
       "      <td>0.377672</td>\n",
       "      <td>0.830367</td>\n",
       "      <td>0.678703</td>\n",
       "    </tr>\n",
       "    <tr>\n",
       "      <th>recall</th>\n",
       "      <td>0.8485</td>\n",
       "      <td>0.701112</td>\n",
       "      <td>0.728682</td>\n",
       "      <td>0.446556</td>\n",
       "      <td>0.834033</td>\n",
       "      <td>0.701112</td>\n",
       "    </tr>\n",
       "    <tr>\n",
       "      <th>precision</th>\n",
       "      <td>0.8530</td>\n",
       "      <td>0.678703</td>\n",
       "      <td>0.832461</td>\n",
       "      <td>0.377672</td>\n",
       "      <td>0.830367</td>\n",
       "      <td>0.678703</td>\n",
       "    </tr>\n",
       "    <tr>\n",
       "      <th>f1</th>\n",
       "      <td>0.8520</td>\n",
       "      <td>0.685038</td>\n",
       "      <td>0.799043</td>\n",
       "      <td>0.396675</td>\n",
       "      <td>0.831754</td>\n",
       "      <td>0.685038</td>\n",
       "    </tr>\n",
       "    <tr>\n",
       "      <th>balanced_accuracy</th>\n",
       "      <td>0.8485</td>\n",
       "      <td>0.701112</td>\n",
       "      <td>0.728682</td>\n",
       "      <td>0.446556</td>\n",
       "      <td>0.834033</td>\n",
       "      <td>0.701112</td>\n",
       "    </tr>\n",
       "    <tr>\n",
       "      <th>accuracy</th>\n",
       "      <td>0.8530</td>\n",
       "      <td>0.678703</td>\n",
       "      <td>0.832461</td>\n",
       "      <td>0.377672</td>\n",
       "      <td>0.830367</td>\n",
       "      <td>0.678703</td>\n",
       "    </tr>\n",
       "    <tr>\n",
       "      <th rowspan=\"6\" valign=\"top\">over_sampling</th>\n",
       "      <th>roc_auc</th>\n",
       "      <td>0.7995</td>\n",
       "      <td>0.760663</td>\n",
       "      <td>0.517730</td>\n",
       "      <td>0.693587</td>\n",
       "      <td>0.809299</td>\n",
       "      <td>0.760663</td>\n",
       "    </tr>\n",
       "    <tr>\n",
       "      <th>recall</th>\n",
       "      <td>0.7710</td>\n",
       "      <td>0.751323</td>\n",
       "      <td>0.471139</td>\n",
       "      <td>0.717340</td>\n",
       "      <td>0.786146</td>\n",
       "      <td>0.751323</td>\n",
       "    </tr>\n",
       "    <tr>\n",
       "      <th>precision</th>\n",
       "      <td>0.8475</td>\n",
       "      <td>0.694382</td>\n",
       "      <td>0.735772</td>\n",
       "      <td>0.429929</td>\n",
       "      <td>0.831498</td>\n",
       "      <td>0.694382</td>\n",
       "    </tr>\n",
       "    <tr>\n",
       "      <th>f1</th>\n",
       "      <td>0.8125</td>\n",
       "      <td>0.758444</td>\n",
       "      <td>0.544747</td>\n",
       "      <td>0.665083</td>\n",
       "      <td>0.818980</td>\n",
       "      <td>0.758444</td>\n",
       "    </tr>\n",
       "    <tr>\n",
       "      <th>balanced_accuracy</th>\n",
       "      <td>0.8185</td>\n",
       "      <td>0.759631</td>\n",
       "      <td>0.558468</td>\n",
       "      <td>0.657957</td>\n",
       "      <td>0.823715</td>\n",
       "      <td>0.759631</td>\n",
       "    </tr>\n",
       "    <tr>\n",
       "      <th>accuracy</th>\n",
       "      <td>0.8500</td>\n",
       "      <td>0.669835</td>\n",
       "      <td>0.834254</td>\n",
       "      <td>0.358670</td>\n",
       "      <td>0.825397</td>\n",
       "      <td>0.669835</td>\n",
       "    </tr>\n",
       "    <tr>\n",
       "      <th rowspan=\"6\" valign=\"top\">SMOT</th>\n",
       "      <th>roc_auc</th>\n",
       "      <td>0.8275</td>\n",
       "      <td>0.761847</td>\n",
       "      <td>0.580851</td>\n",
       "      <td>0.648456</td>\n",
       "      <td>0.830884</td>\n",
       "      <td>0.761847</td>\n",
       "    </tr>\n",
       "    <tr>\n",
       "      <th>recall</th>\n",
       "      <td>0.7485</td>\n",
       "      <td>0.725751</td>\n",
       "      <td>0.437879</td>\n",
       "      <td>0.686461</td>\n",
       "      <td>0.766006</td>\n",
       "      <td>0.725751</td>\n",
       "    </tr>\n",
       "    <tr>\n",
       "      <th>precision</th>\n",
       "      <td>0.8475</td>\n",
       "      <td>0.694382</td>\n",
       "      <td>0.735772</td>\n",
       "      <td>0.429929</td>\n",
       "      <td>0.831498</td>\n",
       "      <td>0.694382</td>\n",
       "    </tr>\n",
       "    <tr>\n",
       "      <th>f1</th>\n",
       "      <td>0.8360</td>\n",
       "      <td>0.749810</td>\n",
       "      <td>0.612591</td>\n",
       "      <td>0.600950</td>\n",
       "      <td>0.835421</td>\n",
       "      <td>0.749810</td>\n",
       "    </tr>\n",
       "    <tr>\n",
       "      <th>balanced_accuracy</th>\n",
       "      <td>0.8190</td>\n",
       "      <td>0.758206</td>\n",
       "      <td>0.560081</td>\n",
       "      <td>0.653207</td>\n",
       "      <td>0.823895</td>\n",
       "      <td>0.758206</td>\n",
       "    </tr>\n",
       "    <tr>\n",
       "      <th>accuracy</th>\n",
       "      <td>0.8475</td>\n",
       "      <td>0.694382</td>\n",
       "      <td>0.735772</td>\n",
       "      <td>0.429929</td>\n",
       "      <td>0.831498</td>\n",
       "      <td>0.694382</td>\n",
       "    </tr>\n",
       "  </tbody>\n",
       "</table>\n",
       "</div>"
      ],
      "text/plain": [
       "                                      accuracy  b_accuracy  precision  \\\n",
       "name               scorer                                               \n",
       "without_resampling roc_auc              0.8530    0.678703   0.832461   \n",
       "                   recall               0.8485    0.701112   0.728682   \n",
       "                   precision            0.8530    0.678703   0.832461   \n",
       "                   f1                   0.8520    0.685038   0.799043   \n",
       "                   balanced_accuracy    0.8485    0.701112   0.728682   \n",
       "                   accuracy             0.8530    0.678703   0.832461   \n",
       "over_sampling      roc_auc              0.7995    0.760663   0.517730   \n",
       "                   recall               0.7710    0.751323   0.471139   \n",
       "                   precision            0.8475    0.694382   0.735772   \n",
       "                   f1                   0.8125    0.758444   0.544747   \n",
       "                   balanced_accuracy    0.8185    0.759631   0.558468   \n",
       "                   accuracy             0.8500    0.669835   0.834254   \n",
       "SMOT               roc_auc              0.8275    0.761847   0.580851   \n",
       "                   recall               0.7485    0.725751   0.437879   \n",
       "                   precision            0.8475    0.694382   0.735772   \n",
       "                   f1                   0.8360    0.749810   0.612591   \n",
       "                   balanced_accuracy    0.8190    0.758206   0.560081   \n",
       "                   accuracy             0.8475    0.694382   0.735772   \n",
       "\n",
       "                                        recall        f1   roc_auc  \n",
       "name               scorer                                           \n",
       "without_resampling roc_auc            0.377672  0.830367  0.678703  \n",
       "                   recall             0.446556  0.834033  0.701112  \n",
       "                   precision          0.377672  0.830367  0.678703  \n",
       "                   f1                 0.396675  0.831754  0.685038  \n",
       "                   balanced_accuracy  0.446556  0.834033  0.701112  \n",
       "                   accuracy           0.377672  0.830367  0.678703  \n",
       "over_sampling      roc_auc            0.693587  0.809299  0.760663  \n",
       "                   recall             0.717340  0.786146  0.751323  \n",
       "                   precision          0.429929  0.831498  0.694382  \n",
       "                   f1                 0.665083  0.818980  0.758444  \n",
       "                   balanced_accuracy  0.657957  0.823715  0.759631  \n",
       "                   accuracy           0.358670  0.825397  0.669835  \n",
       "SMOT               roc_auc            0.648456  0.830884  0.761847  \n",
       "                   recall             0.686461  0.766006  0.725751  \n",
       "                   precision          0.429929  0.831498  0.694382  \n",
       "                   f1                 0.600950  0.835421  0.749810  \n",
       "                   balanced_accuracy  0.653207  0.823895  0.758206  \n",
       "                   accuracy           0.429929  0.831498  0.694382  "
      ]
     },
     "execution_count": 38,
     "metadata": {},
     "output_type": "execute_result"
    }
   ],
   "source": [
    "eval_df"
   ]
  },
  {
   "cell_type": "code",
   "execution_count": 39,
   "metadata": {},
   "outputs": [
    {
     "data": {
      "text/plain": [
       "<AxesSubplot:ylabel='name-scorer'>"
      ]
     },
     "execution_count": 39,
     "metadata": {},
     "output_type": "execute_result"
    },
    {
     "data": {
      "image/png": "[encoded data removed]",
      "text/plain": [
       "<Figure size 576x576 with 2 Axes>"
      ]
     },
     "metadata": {
      "needs_background": "light"
     },
     "output_type": "display_data"
    }
   ],
   "source": [
    "plt.figure(figsize=(8, 8))\n",
    "sns.heatmap(\n",
    "    eval_df,\n",
    "    annot=True,\n",
    "    annot_kws={\"size\": 13},\n",
    "    fmt=\"1.2f\",\n",
    "    cmap=\"Purples\",\n",
    "    vmin=0,\n",
    "    vmax=1,\n",
    ")"
   ]
  },
  {
   "cell_type": "code",
   "execution_count": 40,
   "metadata": {},
   "outputs": [
    {
     "data": {
      "text/plain": [
       "['./tmp/08_model_over_sampling_recall.joblib']"
      ]
     },
     "execution_count": 40,
     "metadata": {},
     "output_type": "execute_result"
    }
   ],
   "source": [
    "import joblib\n",
    "\n",
    "joblib.dump(\n",
    "    models[\"over_sampling\"][\"recall\"], \"./tmp/08_model_over_sampling_recall.joblib\"\n",
    ")"
   ]
  }
 ],
 "metadata": {
  "kernelspec": {
   "display_name": "Python [conda env:LevelUp_DataScience] *",
   "language": "python",
   "name": "conda-env-LevelUp_DataScience-py"
  },
  "language_info": {
   "codemirror_mode": {
    "name": "ipython",
    "version": 3
   },
   "file_extension": ".py",
   "mimetype": "text/x-python",
   "name": "python",
   "nbconvert_exporter": "python",
   "pygments_lexer": "ipython3",
   "version": "3.8.3"
  },
  "toc-autonumbering": true
 },
 "nbformat": 4,
 "nbformat_minor": 4
}
