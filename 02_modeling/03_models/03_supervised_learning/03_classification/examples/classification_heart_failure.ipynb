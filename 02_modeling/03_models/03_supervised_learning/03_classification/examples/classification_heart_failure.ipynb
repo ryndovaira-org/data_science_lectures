{
 "cells": [
  {
   "cell_type": "markdown",
   "metadata": {
    "jupyter": {
     "outputs_hidden": true
    }
   },
   "source": [
    "# Анализ и построение модели по данным о пациентах с сердечной недостаточностью"
   ]
  },
  {
   "cell_type": "markdown",
   "metadata": {},
   "source": [
    "## Импорт пакетов\n",
    "- `matplotlib.pyplot` и `pylab` - рисование графиков\n",
    "- `pandas` - работа с таблицами\n",
    "- `numpy` - работа с матрицами"
   ]
  },
  {
   "cell_type": "code",
   "execution_count": 2,
   "metadata": {},
   "outputs": [],
   "source": [
    "import matplotlib.pyplot as plt\n",
    "import pylab as pl\n",
    "\n",
    "import pandas as pd\n",
    "\n",
    "import numpy as np\n",
    "\n",
    "%matplotlib inline"
   ]
  },
  {
   "cell_type": "code",
   "execution_count": 3,
   "metadata": {},
   "outputs": [],
   "source": [
    "plt.rcParams[\"figure.figsize\"] = 10, 10"
   ]
  },
  {
   "cell_type": "markdown",
   "metadata": {},
   "source": [
    "## Анализ данных\n",
    "\n",
    "`heart_failure_clinical_records_dataset.csv` (Данные о пациентах с сердечной недостаточностью):\n",
    "\n",
    "[Dataset source](https://archive.ics.uci.edu/ml/datasets/Heart+failure+clinical+records)\n",
    "\n",
    "- **age**: age of the patient (years)\n",
    "- **anaemia**: decrease of red blood cells or hemoglobin (boolean)\n",
    "- **high blood pressure**: if the patient has hypertension (boolean)\n",
    "- **creatinine phosphokinase (CPK)**: level of the CPK enzyme in the blood (mcg/L)\n",
    "- **diabetes**: if the patient has diabetes (boolean)\n",
    "- **ejection fraction**: percentage of blood leaving the heart at each contraction (percentage)\n",
    "- **platelets**: platelets in the blood (kiloplatelets/mL)\n",
    "- **sex**: woman or man (binary)\n",
    "- **serum creatinine**: level of serum creatinine in the blood (mg/dL)\n",
    "- **serum sodium**: level of serum sodium in the blood (mEq/L)\n",
    "- **smoking**: if the patient smokes or not (boolean)\n",
    "- **time**: follow-up period (days)\n",
    "- **death event**: if the patient deceased during the follow-up period (boolean)"
   ]
  },
  {
   "cell_type": "markdown",
   "metadata": {},
   "source": [
    "### Загрузка данных"
   ]
  },
  {
   "cell_type": "code",
   "execution_count": null,
   "metadata": {},
   "outputs": [],
   "source": [
    "import os\n",
    "\n",
    "notebook_path = os.path.abspath(\n",
    "    \"Notebook.ipynb\"\n",
    ")  # получить \"точку отсчета\" для поиска файла\n",
    "data_csv = os.path.join(os.path.dirname(notebook_path), \"data/FuelConsumptionCo2.csv\")\n",
    "df = pd.read_csv(data_csv)\n",
    "\n",
    "# вывести первые 5 строк из таблицы\n",
    "df.head()"
   ]
  }
 ],
 "metadata": {
  "kernelspec": {
   "display_name": "Python 3",
   "language": "python",
   "name": "python3"
  },
  "language_info": {
   "codemirror_mode": {
    "name": "ipython",
    "version": 3
   },
   "file_extension": ".py",
   "mimetype": "text/x-python",
   "name": "python",
   "nbconvert_exporter": "python",
   "pygments_lexer": "ipython3",
   "version": "3.8.5"
  }
 },
 "nbformat": 4,
 "nbformat_minor": 4
}
