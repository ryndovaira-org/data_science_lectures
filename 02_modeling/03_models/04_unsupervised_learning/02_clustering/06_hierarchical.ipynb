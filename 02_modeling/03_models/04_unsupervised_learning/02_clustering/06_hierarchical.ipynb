{
 "cells": [
  {
   "cell_type": "markdown",
   "metadata": {},
   "source": [
    "# Hierarchical Clustering\n"
   ]
  },
  {
   "cell_type": "markdown",
   "metadata": {},
   "source": [
    "---\n",
    "\n",
    "**Источники:**\n",
    "\n",
    "[What is Hierarchical Clustering?](https://www.displayr.com/what-is-hierarchical-clustering/)\n",
    "\n",
    "[Hierarchical clustering](https://en.wikipedia.org/wiki/Hierarchical_clustering)\n",
    "\n",
    "[Иерархическая кластеризация](https://ru.wikipedia.org/wiki/%D0%98%D0%B5%D1%80%D0%B0%D1%80%D1%85%D0%B8%D1%87%D0%B5%D1%81%D0%BA%D0%B0%D1%8F_%D0%BA%D0%BB%D0%B0%D1%81%D1%82%D0%B5%D1%80%D0%B8%D0%B7%D0%B0%D1%86%D0%B8%D1%8F)\n",
    "\n",
    "[Understanding the concept of Hierarchical clustering Technique](https://towardsdatascience.com/understanding-the-concept-of-hierarchical-clustering-technique-c6e8243758ec)\n",
    "\n",
    "[Hierarchical clustering explained](https://towardsdatascience.com/hierarchical-clustering-explained-e59b13846da8)\n",
    "\n",
    "[A Beginner’s Guide to Hierarchical Clustering and how to Perform it in Python](https://www.analyticsvidhya.com/blog/2019/05/beginners-guide-hierarchical-clustering/)\n",
    "\n",
    "[Clustering with Scikit with GIFs](https://dashee87.github.io/data%20science/general/Clustering-with-Scikit-with-GIFs/)\n",
    "\n",
    "[Agglomerative clustering with different metrics](https://scikit-learn.org/stable/auto_examples/cluster/plot_agglomerative_clustering_metrics.html#sphx-glr-auto-examples-cluster-plot-agglomerative-clustering-metrics-py)\n",
    "\n",
    "[Various Agglomerative Clustering on a 2D embedding of digits](https://scikit-learn.org/stable/auto_examples/cluster/plot_digits_linkage.html#sphx-glr-auto-examples-cluster-plot-digits-linkage-py)\n",
    "\n",
    "[Hierarchical clustering](https://scikit-learn.org/stable/modules/clustering.html#hierarchical-clustering)\n",
    "\n",
    "[SciPy Hierarchical Clustering and Dendrogram Tutorial](https://joernhees.de/blog/2015/08/26/scipy-hierarchical-clustering-and-dendrogram-tutorial/)\n",
    "\n",
    "---"
   ]
  },
  {
   "cell_type": "markdown",
   "metadata": {},
   "source": [
    "## Подготовка окружения"
   ]
  },
  {
   "cell_type": "code",
   "execution_count": 1,
   "metadata": {
    "collapsed": false,
    "jupyter": {
     "outputs_hidden": false
    },
    "pycharm": {
     "name": "#%%\n"
    }
   },
   "outputs": [],
   "source": [
    "# ВНИМАНИЕ: необходимо удостовериться, что виртуальная среда выбрана правильно!\n",
    "\n",
    "# Для MacOS/Ubuntu\n",
    "# !which pip\n",
    "\n",
    "# Для Windows\n",
    "# !where pip"
   ]
  },
  {
   "cell_type": "code",
   "execution_count": 2,
   "metadata": {
    "collapsed": false,
    "jupyter": {
     "outputs_hidden": false
    },
    "pycharm": {
     "name": "#%%\n"
    }
   },
   "outputs": [],
   "source": [
    "# !conda install matplotlib numpy scikit-learn seaborn scipy -y"
   ]
  },
  {
   "cell_type": "code",
   "execution_count": 4,
   "metadata": {
    "collapsed": false,
    "jupyter": {
     "outputs_hidden": false
    },
    "pycharm": {
     "name": "#%%\n"
    }
   },
   "outputs": [],
   "source": [
    "# !conda install -c conda-forge umap-learn -y"
   ]
  },
  {
   "cell_type": "code",
   "execution_count": 12,
   "metadata": {
    "collapsed": false,
    "jupyter": {
     "outputs_hidden": false
    },
    "pycharm": {
     "name": "#%%\n"
    }
   },
   "outputs": [],
   "source": [
    "# ipympl + widget включает интерактивные функции matplotlib\n",
    "\n",
    "# !conda install ipympl -y\n",
    "# !conda install -c conda-forge nodejs -y\n",
    "# !conda install -c conda-forge/label/gcc7 nodejs -y\n",
    "# !conda install -c conda-forge/label/cf201901 nodejs -y\n",
    "# !conda install -c conda-forge/label/cf202003 nodejs -y"
   ]
  },
  {
   "cell_type": "markdown",
   "metadata": {},
   "source": [
    "**ВНИМАНИЕ:**\n",
    "\n",
    "При установке `labextension` может возникнуть Warning:\n",
    "```\n",
    "Config option `kernel_spec_manager_class` not recognized by `InstallLabExtensionApp`.\n",
    "[W 2021-07-03 10:54:07.747 LabApp] Config option `kernel_spec_manager_class` not recognized by `LabApp`.\n",
    "```\n",
    "Это предупреждение не должно повлиять на результат.\n",
    "\n",
    "После это очень важно перезапустить `jupyter-lab`. Для выключения недостаточно закрыть окно, нужно воспользоваться командой `File -> Shut Down`. Затем можно привычным способом запусить `jupyter-lab`."
   ]
  },
  {
   "cell_type": "code",
   "execution_count": 13,
   "metadata": {},
   "outputs": [],
   "source": [
    "# !jupyter labextension install @jupyter-widgets/jupyterlab-manager\n",
    "# !jupyter labextension install jupyter-matplotlib\n",
    "# !jupyter nbextension enable --py widgetsnbextension"
   ]
  },
  {
   "cell_type": "code",
   "execution_count": 5,
   "metadata": {
    "collapsed": false,
    "jupyter": {
     "outputs_hidden": false
    },
    "pycharm": {
     "name": "#%%\n"
    }
   },
   "outputs": [
    {
     "data": {
      "text/plain": [
       "'1.20.2'"
      ]
     },
     "execution_count": 5,
     "metadata": {},
     "output_type": "execute_result"
    }
   ],
   "source": [
    "import numpy as np\n",
    "\n",
    "np.__version__"
   ]
  },
  {
   "cell_type": "code",
   "execution_count": 6,
   "metadata": {
    "collapsed": false,
    "jupyter": {
     "outputs_hidden": false
    },
    "pycharm": {
     "name": "#%%\n"
    }
   },
   "outputs": [
    {
     "data": {
      "text/plain": [
       "'1.2.4'"
      ]
     },
     "execution_count": 6,
     "metadata": {},
     "output_type": "execute_result"
    }
   ],
   "source": [
    "import pandas as pd\n",
    "\n",
    "pd.__version__"
   ]
  },
  {
   "cell_type": "code",
   "execution_count": 7,
   "metadata": {
    "collapsed": false,
    "jupyter": {
     "outputs_hidden": false
    },
    "pycharm": {
     "name": "#%%\n"
    }
   },
   "outputs": [
    {
     "data": {
      "text/plain": [
       "'3.3.4'"
      ]
     },
     "execution_count": 7,
     "metadata": {},
     "output_type": "execute_result"
    }
   ],
   "source": [
    "import matplotlib\n",
    "import matplotlib.pyplot as plt\n",
    "import matplotlib.ticker as ticker\n",
    "\n",
    "matplotlib.__version__"
   ]
  },
  {
   "cell_type": "code",
   "execution_count": 8,
   "metadata": {
    "collapsed": false,
    "jupyter": {
     "outputs_hidden": false
    },
    "pycharm": {
     "name": "#%%\n"
    }
   },
   "outputs": [
    {
     "data": {
      "text/plain": [
       "'0.11.1'"
      ]
     },
     "execution_count": 8,
     "metadata": {},
     "output_type": "execute_result"
    }
   ],
   "source": [
    "import seaborn as sns\n",
    "\n",
    "sns.__version__"
   ]
  },
  {
   "cell_type": "code",
   "execution_count": 9,
   "metadata": {
    "collapsed": false,
    "jupyter": {
     "outputs_hidden": false
    },
    "pycharm": {
     "name": "#%%\n"
    }
   },
   "outputs": [
    {
     "data": {
      "text/plain": [
       "'0.5.1'"
      ]
     },
     "execution_count": 9,
     "metadata": {},
     "output_type": "execute_result"
    }
   ],
   "source": [
    "import umap\n",
    "from umap import UMAP\n",
    "\n",
    "umap.__version__"
   ]
  },
  {
   "cell_type": "code",
   "execution_count": 10,
   "metadata": {
    "collapsed": false,
    "jupyter": {
     "outputs_hidden": false
    },
    "pycharm": {
     "name": "#%%\n"
    }
   },
   "outputs": [
    {
     "data": {
      "text/plain": [
       "'0.24.2'"
      ]
     },
     "execution_count": 10,
     "metadata": {},
     "output_type": "execute_result"
    }
   ],
   "source": [
    "import sklearn\n",
    "\n",
    "from sklearn.cluster import AgglomerativeClustering\n",
    "\n",
    "from sklearn.decomposition import PCA\n",
    "\n",
    "from sklearn.preprocessing import QuantileTransformer\n",
    "\n",
    "sklearn.__version__"
   ]
  },
  {
   "cell_type": "code",
   "execution_count": 11,
   "metadata": {
    "collapsed": false,
    "jupyter": {
     "outputs_hidden": false
    },
    "pycharm": {
     "name": "#%%\n"
    }
   },
   "outputs": [
    {
     "data": {
      "text/plain": [
       "'1.6.2'"
      ]
     },
     "execution_count": 11,
     "metadata": {},
     "output_type": "execute_result"
    }
   ],
   "source": [
    "import scipy\n",
    "\n",
    "from scipy.cluster.hierarchy import dendrogram, linkage\n",
    "\n",
    "scipy.__version__"
   ]
  },
  {
   "cell_type": "markdown",
   "metadata": {},
   "source": [
    "## Описание\n",
    "\n",
    "**Иерархическая кластеризация (также графовые алгоритмы кластеризации и иерархический кластерный анализ)** — совокупность алгоритмов упорядочивания данных, направленных на создание иерархии (дерева) вложенных кластеров.\n",
    "\n",
    "Выделяют два класса методов иерархической кластеризации:\n",
    "\n",
    "- **Агломеративные методы (англ. agglomerative)**: новые кластеры создаются путем объединения более мелких кластеров и, таким образом, дерево создается от листьев к стволу.\n",
    "\n",
    "- *Дивизивные или дивизионные методы (англ. divisive)*: новые кластеры создаются путем деления более крупных кластеров на более мелкие и, таким образом, дерево создается от ствола к листьям.\n",
    "\n",
    "Алгоритмы иерархической кластеризации предполагают, что анализируемое множество объектов характеризуется определённой степенью связности. \n",
    "\n",
    "По количеству признаков иногда выделяют монотетические и политетические методы классификации. \n",
    "\n",
    "**Графы, как и большинство визуальных способов представления зависимостей, быстро теряют наглядность при увеличении числа кластеров.**"
   ]
  },
  {
   "cell_type": "markdown",
   "metadata": {},
   "source": [
    "### Агломеративная кластеризация (Agglomerative clustering)\n",
    "\n",
    "Важные гиперпараметры:\n",
    "\n",
    "- `n_clusters` - количество кластеров, которые нужно найти.\n",
    "\n",
    "- `affinity` - метрика, используемая для вычисления связи (`linkage`).\n",
    "\n",
    "- `linkage` (критерий связи) определяет метрику, используемую для стратегии слияния.\n",
    "    - `'ward'` (default) минимизирует сумму квадратов разностей во всех кластерах. Это подход с минимизацией дисперсии (variance), и в этом смысле он аналогичен целевой функции k-средних, но решается с помощью агломеративного иерархического подхода.\n",
    "    - `'complete'` - максимальное (maximum) или полное связывание (complete linkage) сводит к минимуму максимальное расстояние между наблюдениями пар кластеров.\n",
    "    - `'average'` минимизирует среднее значение расстояний между всеми наблюдениями пар кластеров.\n",
    "    - `'single'` минимизирует расстояние между ближайшими наблюдениями пар кластеров.\n",
    "    \n",
    "    - Агломеративный кластер ведет себя \"жадно\", что приводит к неравномерному размеру кластера. В этом отношении `'single'` - худшая стратегия, и `'ward'` дает самые обычные размеры. \n",
    "    \n",
    "    - Однако сродство (или расстояние, используемое при кластеризации) нельзя изменять с помощью `'ward'`, поэтому для **не евклидовых** расстояний хорошей альтернативой является **`'average'`**.\n",
    "    \n",
    "    - `'single'` связь, хотя и **не устойчива к зашумленным данным**, может быть вычислена очень эффективно и поэтому может быть полезна для обеспечения иерархической кластеризации **больших наборов** данных. Одиночная связь также может хорошо работать с не глобулярными данными.\n",
    "    \n",
    "    <img src=\"images/linkage_comparison.png\" width=500/>"
   ]
  },
  {
   "cell_type": "markdown",
   "metadata": {},
   "source": [
    "### Дендрограмма\n",
    "\n",
    "**Под дендрограммой обычно понимается дерево, построенное по матрице мер близости.**\n",
    "\n",
    "Дендрограмма позволяет изобразить взаимные связи между объектами из заданного множества.\n",
    "\n",
    "Для создания дендрограммы требуется матрица сходства (или различия), которая определяет уровень сходства между парами кластеров. Чаще используются агломеративные методы.\n",
    "\n",
    "<img src=\"images/agglomerative_clustering.gif\" width=800/>"
   ]
  },
  {
   "cell_type": "markdown",
   "metadata": {},
   "source": [
    "## Загрузка данных\n",
    "\n",
    "[Источник (custDatasets)](https://www.kaggle.com/gangliu/custdatasets)."
   ]
  },
  {
   "cell_type": "code",
   "execution_count": 12,
   "metadata": {
    "collapsed": false,
    "jupyter": {
     "outputs_hidden": false
    },
    "pycharm": {
     "name": "#%%\n"
    }
   },
   "outputs": [
    {
     "data": {
      "text/html": [
       "<div>\n",
       "<style scoped>\n",
       "    .dataframe tbody tr th:only-of-type {\n",
       "        vertical-align: middle;\n",
       "    }\n",
       "\n",
       "    .dataframe tbody tr th {\n",
       "        vertical-align: top;\n",
       "    }\n",
       "\n",
       "    .dataframe thead th {\n",
       "        text-align: right;\n",
       "    }\n",
       "</style>\n",
       "<table border=\"1\" class=\"dataframe\">\n",
       "  <thead>\n",
       "    <tr style=\"text-align: right;\">\n",
       "      <th></th>\n",
       "      <th>Age</th>\n",
       "      <th>Edu</th>\n",
       "      <th>Years Employed</th>\n",
       "      <th>Income</th>\n",
       "      <th>Card Debt</th>\n",
       "      <th>Other Debt</th>\n",
       "      <th>Defaulted</th>\n",
       "      <th>Address</th>\n",
       "      <th>DebtIncomeRatio</th>\n",
       "    </tr>\n",
       "    <tr>\n",
       "      <th>Customer Id</th>\n",
       "      <th></th>\n",
       "      <th></th>\n",
       "      <th></th>\n",
       "      <th></th>\n",
       "      <th></th>\n",
       "      <th></th>\n",
       "      <th></th>\n",
       "      <th></th>\n",
       "      <th></th>\n",
       "    </tr>\n",
       "  </thead>\n",
       "  <tbody>\n",
       "    <tr>\n",
       "      <th>1</th>\n",
       "      <td>41</td>\n",
       "      <td>2</td>\n",
       "      <td>6</td>\n",
       "      <td>19</td>\n",
       "      <td>0.124</td>\n",
       "      <td>1.073</td>\n",
       "      <td>0.0</td>\n",
       "      <td>NBA001</td>\n",
       "      <td>6.3</td>\n",
       "    </tr>\n",
       "    <tr>\n",
       "      <th>2</th>\n",
       "      <td>47</td>\n",
       "      <td>1</td>\n",
       "      <td>26</td>\n",
       "      <td>100</td>\n",
       "      <td>4.582</td>\n",
       "      <td>8.218</td>\n",
       "      <td>0.0</td>\n",
       "      <td>NBA021</td>\n",
       "      <td>12.8</td>\n",
       "    </tr>\n",
       "    <tr>\n",
       "      <th>3</th>\n",
       "      <td>33</td>\n",
       "      <td>2</td>\n",
       "      <td>10</td>\n",
       "      <td>57</td>\n",
       "      <td>6.111</td>\n",
       "      <td>5.802</td>\n",
       "      <td>1.0</td>\n",
       "      <td>NBA013</td>\n",
       "      <td>20.9</td>\n",
       "    </tr>\n",
       "    <tr>\n",
       "      <th>4</th>\n",
       "      <td>29</td>\n",
       "      <td>2</td>\n",
       "      <td>4</td>\n",
       "      <td>19</td>\n",
       "      <td>0.681</td>\n",
       "      <td>0.516</td>\n",
       "      <td>0.0</td>\n",
       "      <td>NBA009</td>\n",
       "      <td>6.3</td>\n",
       "    </tr>\n",
       "    <tr>\n",
       "      <th>5</th>\n",
       "      <td>47</td>\n",
       "      <td>1</td>\n",
       "      <td>31</td>\n",
       "      <td>253</td>\n",
       "      <td>9.308</td>\n",
       "      <td>8.908</td>\n",
       "      <td>0.0</td>\n",
       "      <td>NBA008</td>\n",
       "      <td>7.2</td>\n",
       "    </tr>\n",
       "    <tr>\n",
       "      <th>...</th>\n",
       "      <td>...</td>\n",
       "      <td>...</td>\n",
       "      <td>...</td>\n",
       "      <td>...</td>\n",
       "      <td>...</td>\n",
       "      <td>...</td>\n",
       "      <td>...</td>\n",
       "      <td>...</td>\n",
       "      <td>...</td>\n",
       "    </tr>\n",
       "    <tr>\n",
       "      <th>846</th>\n",
       "      <td>27</td>\n",
       "      <td>1</td>\n",
       "      <td>5</td>\n",
       "      <td>26</td>\n",
       "      <td>0.548</td>\n",
       "      <td>1.220</td>\n",
       "      <td>NaN</td>\n",
       "      <td>NBA007</td>\n",
       "      <td>6.8</td>\n",
       "    </tr>\n",
       "    <tr>\n",
       "      <th>847</th>\n",
       "      <td>28</td>\n",
       "      <td>2</td>\n",
       "      <td>7</td>\n",
       "      <td>34</td>\n",
       "      <td>0.359</td>\n",
       "      <td>2.021</td>\n",
       "      <td>0.0</td>\n",
       "      <td>NBA002</td>\n",
       "      <td>7.0</td>\n",
       "    </tr>\n",
       "    <tr>\n",
       "      <th>848</th>\n",
       "      <td>25</td>\n",
       "      <td>4</td>\n",
       "      <td>0</td>\n",
       "      <td>18</td>\n",
       "      <td>2.802</td>\n",
       "      <td>3.210</td>\n",
       "      <td>1.0</td>\n",
       "      <td>NBA001</td>\n",
       "      <td>33.4</td>\n",
       "    </tr>\n",
       "    <tr>\n",
       "      <th>849</th>\n",
       "      <td>32</td>\n",
       "      <td>1</td>\n",
       "      <td>12</td>\n",
       "      <td>28</td>\n",
       "      <td>0.116</td>\n",
       "      <td>0.696</td>\n",
       "      <td>0.0</td>\n",
       "      <td>NBA012</td>\n",
       "      <td>2.9</td>\n",
       "    </tr>\n",
       "    <tr>\n",
       "      <th>850</th>\n",
       "      <td>52</td>\n",
       "      <td>1</td>\n",
       "      <td>16</td>\n",
       "      <td>64</td>\n",
       "      <td>1.866</td>\n",
       "      <td>3.638</td>\n",
       "      <td>0.0</td>\n",
       "      <td>NBA025</td>\n",
       "      <td>8.6</td>\n",
       "    </tr>\n",
       "  </tbody>\n",
       "</table>\n",
       "<p>850 rows × 9 columns</p>\n",
       "</div>"
      ],
      "text/plain": [
       "             Age  Edu  Years Employed  Income  Card Debt  Other Debt  \\\n",
       "Customer Id                                                            \n",
       "1             41    2               6      19      0.124       1.073   \n",
       "2             47    1              26     100      4.582       8.218   \n",
       "3             33    2              10      57      6.111       5.802   \n",
       "4             29    2               4      19      0.681       0.516   \n",
       "5             47    1              31     253      9.308       8.908   \n",
       "...          ...  ...             ...     ...        ...         ...   \n",
       "846           27    1               5      26      0.548       1.220   \n",
       "847           28    2               7      34      0.359       2.021   \n",
       "848           25    4               0      18      2.802       3.210   \n",
       "849           32    1              12      28      0.116       0.696   \n",
       "850           52    1              16      64      1.866       3.638   \n",
       "\n",
       "             Defaulted Address  DebtIncomeRatio  \n",
       "Customer Id                                      \n",
       "1                  0.0  NBA001              6.3  \n",
       "2                  0.0  NBA021             12.8  \n",
       "3                  1.0  NBA013             20.9  \n",
       "4                  0.0  NBA009              6.3  \n",
       "5                  0.0  NBA008              7.2  \n",
       "...                ...     ...              ...  \n",
       "846                NaN  NBA007              6.8  \n",
       "847                0.0  NBA002              7.0  \n",
       "848                1.0  NBA001             33.4  \n",
       "849                0.0  NBA012              2.9  \n",
       "850                0.0  NBA025              8.6  \n",
       "\n",
       "[850 rows x 9 columns]"
      ]
     },
     "execution_count": 12,
     "metadata": {},
     "output_type": "execute_result"
    }
   ],
   "source": [
    "df = pd.read_csv(\"./../../data/Cust_Segmentation.csv\", index_col=0)\n",
    "df"
   ]
  },
  {
   "cell_type": "markdown",
   "metadata": {},
   "source": [
    "## Анализ данных\n",
    "\n",
    "См. лекцию [02_pca](../../08_modeling_ml_demensionality_reduction/lectures/02_pca.ipynb)"
   ]
  },
  {
   "cell_type": "markdown",
   "metadata": {},
   "source": [
    "## Подготовка данных"
   ]
  },
  {
   "cell_type": "code",
   "execution_count": 13,
   "metadata": {
    "collapsed": false,
    "jupyter": {
     "outputs_hidden": false
    },
    "pycharm": {
     "name": "#%%\n"
    }
   },
   "outputs": [
    {
     "data": {
      "text/plain": [
       "0"
      ]
     },
     "execution_count": 13,
     "metadata": {},
     "output_type": "execute_result"
    }
   ],
   "source": [
    "df[\"Defaulted\"].fillna(0, inplace=True)\n",
    "df[\"Defaulted\"] = df[\"Defaulted\"].astype(int)\n",
    "df[\"Defaulted\"].isna().sum()"
   ]
  },
  {
   "cell_type": "code",
   "execution_count": 14,
   "metadata": {
    "collapsed": false,
    "jupyter": {
     "outputs_hidden": false
    },
    "pycharm": {
     "name": "#%%\n"
    }
   },
   "outputs": [
    {
     "data": {
      "image/png": "[encoded data removed]",
      "text/plain": [
       "<Figure size 1080x360 with 9 Axes>"
      ]
     },
     "metadata": {
      "needs_background": "light"
     },
     "output_type": "display_data"
    }
   ],
   "source": [
    "num_cols = df.select_dtypes(include=np.number).columns.tolist()\n",
    "norm_trans = QuantileTransformer(output_distribution=\"normal\", n_quantiles=100)\n",
    "df_norm = pd.DataFrame(norm_trans.fit_transform(df[num_cols]), columns=num_cols)\n",
    "df_norm.hist(bins=30, figsize=(15, 5))\n",
    "plt.tight_layout()"
   ]
  },
  {
   "cell_type": "markdown",
   "metadata": {},
   "source": [
    "## 3-D PCA"
   ]
  },
  {
   "cell_type": "code",
   "execution_count": 15,
   "metadata": {
    "collapsed": false,
    "jupyter": {
     "outputs_hidden": false
    },
    "pycharm": {
     "name": "#%%\n"
    }
   },
   "outputs": [],
   "source": [
    "pca_3 = PCA(n_components=3)\n",
    "df_pca_3 = pd.DataFrame(pca_3.fit_transform(df_norm))"
   ]
  },
  {
   "cell_type": "code",
   "execution_count": 16,
   "metadata": {
    "collapsed": false,
    "jupyter": {
     "outputs_hidden": false
    },
    "pycharm": {
     "name": "#%%\n"
    }
   },
   "outputs": [
    {
     "data": {
      "application/vnd.jupyter.widget-view+json": {
       "model_id": "a5203dd026a24410bc29b9b0d975117a",
       "version_major": 2,
       "version_minor": 0
      },
      "text/plain": [
       "Canvas(toolbar=Toolbar(toolitems=[('Home', 'Reset original view', 'home', 'home'), ('Back', 'Back to previous …"
      ]
     },
     "metadata": {},
     "output_type": "display_data"
    },
    {
     "data": {
      "text/plain": [
       "<mpl_toolkits.mplot3d.art3d.Path3DCollection at 0x7efbf6264b50>"
      ]
     },
     "execution_count": 16,
     "metadata": {},
     "output_type": "execute_result"
    }
   ],
   "source": [
    "%matplotlib widget\n",
    "from mpl_toolkits.mplot3d.axes3d import Axes3D\n",
    "\n",
    "fig = plt.figure(figsize=(5, 5))\n",
    "ax = Axes3D(fig, azim=-135, elev=35)\n",
    "\n",
    "ax.scatter(df_pca_3[0], df_pca_3[1], df_pca_3[2], alpha=0.4, s=80)"
   ]
  },
  {
   "cell_type": "code",
   "execution_count": 17,
   "metadata": {
    "collapsed": false,
    "jupyter": {
     "outputs_hidden": false
    },
    "pycharm": {
     "name": "#%%\n"
    }
   },
   "outputs": [],
   "source": [
    "%matplotlib inline"
   ]
  },
  {
   "cell_type": "markdown",
   "metadata": {},
   "source": [
    "## 3-D UMAP"
   ]
  },
  {
   "cell_type": "code",
   "execution_count": 18,
   "metadata": {
    "collapsed": false,
    "jupyter": {
     "outputs_hidden": false
    },
    "pycharm": {
     "name": "#%%\n"
    }
   },
   "outputs": [],
   "source": [
    "umap_3 = UMAP(n_components=3)\n",
    "df_umap_3 = pd.DataFrame(umap_3.fit_transform(df_norm))"
   ]
  },
  {
   "cell_type": "code",
   "execution_count": 19,
   "metadata": {
    "collapsed": false,
    "jupyter": {
     "outputs_hidden": false
    },
    "pycharm": {
     "name": "#%%\n"
    }
   },
   "outputs": [
    {
     "data": {
      "application/vnd.jupyter.widget-view+json": {
       "model_id": "3663393f855048e482dcdf563a425f8d",
       "version_major": 2,
       "version_minor": 0
      },
      "text/plain": [
       "Canvas(toolbar=Toolbar(toolitems=[('Home', 'Reset original view', 'home', 'home'), ('Back', 'Back to previous …"
      ]
     },
     "metadata": {},
     "output_type": "display_data"
    },
    {
     "data": {
      "text/plain": [
       "<mpl_toolkits.mplot3d.art3d.Path3DCollection at 0x7efbe8291940>"
      ]
     },
     "execution_count": 19,
     "metadata": {},
     "output_type": "execute_result"
    }
   ],
   "source": [
    "%matplotlib widget\n",
    "\n",
    "from mpl_toolkits.mplot3d.axes3d import Axes3D\n",
    "\n",
    "fig = plt.figure(figsize=(5, 5))\n",
    "ax = Axes3D(fig, azim=25, elev=35)\n",
    "\n",
    "ax.scatter(df_umap_3[0], df_umap_3[1], df_umap_3[2], alpha=0.3, s=80)"
   ]
  },
  {
   "cell_type": "code",
   "execution_count": 20,
   "metadata": {
    "collapsed": false,
    "jupyter": {
     "outputs_hidden": false
    },
    "pycharm": {
     "name": "#%%\n"
    }
   },
   "outputs": [],
   "source": [
    "%matplotlib inline"
   ]
  },
  {
   "cell_type": "markdown",
   "metadata": {},
   "source": [
    "## Построение модели"
   ]
  },
  {
   "cell_type": "code",
   "execution_count": 21,
   "metadata": {
    "collapsed": false,
    "jupyter": {
     "outputs_hidden": false
    },
    "pycharm": {
     "name": "#%%\n"
    }
   },
   "outputs": [
    {
     "data": {
      "text/plain": [
       "AgglomerativeClustering(compute_distances=True, linkage='single', n_clusters=4)"
      ]
     },
     "execution_count": 21,
     "metadata": {},
     "output_type": "execute_result"
    }
   ],
   "source": [
    "model = AgglomerativeClustering(\n",
    "    n_clusters=4, compute_distances=True, linkage=\"single\"\n",
    ").fit(df_norm)\n",
    "model"
   ]
  },
  {
   "cell_type": "code",
   "execution_count": 22,
   "metadata": {},
   "outputs": [
    {
     "data": {
      "text/plain": [
       "<AxesSubplot:ylabel='count'>"
      ]
     },
     "execution_count": 22,
     "metadata": {},
     "output_type": "execute_result"
    },
    {
     "data": {
      "image/png": "[encoded data removed]",
      "text/plain": [
       "<Figure size 432x288 with 1 Axes>"
      ]
     },
     "metadata": {
      "needs_background": "light"
     },
     "output_type": "display_data"
    }
   ],
   "source": [
    "labels = model.labels_\n",
    "sns.countplot(x=labels)"
   ]
  },
  {
   "cell_type": "code",
   "execution_count": 23,
   "metadata": {},
   "outputs": [
    {
     "data": {
      "text/plain": [
       "array([0, 1, 2, 3])"
      ]
     },
     "execution_count": 23,
     "metadata": {},
     "output_type": "execute_result"
    }
   ],
   "source": [
    "clusters = np.unique(labels)\n",
    "clusters"
   ]
  },
  {
   "cell_type": "code",
   "execution_count": 24,
   "metadata": {},
   "outputs": [
    {
     "data": {
      "text/html": [
       "<div>\n",
       "<style scoped>\n",
       "    .dataframe tbody tr th:only-of-type {\n",
       "        vertical-align: middle;\n",
       "    }\n",
       "\n",
       "    .dataframe tbody tr th {\n",
       "        vertical-align: top;\n",
       "    }\n",
       "\n",
       "    .dataframe thead th {\n",
       "        text-align: right;\n",
       "    }\n",
       "</style>\n",
       "<table border=\"1\" class=\"dataframe\">\n",
       "  <thead>\n",
       "    <tr style=\"text-align: right;\">\n",
       "      <th></th>\n",
       "      <th>Age</th>\n",
       "      <th>Edu</th>\n",
       "      <th>Years Employed</th>\n",
       "      <th>Income</th>\n",
       "      <th>Card Debt</th>\n",
       "      <th>Other Debt</th>\n",
       "      <th>Defaulted</th>\n",
       "      <th>Address</th>\n",
       "      <th>DebtIncomeRatio</th>\n",
       "      <th>Cluster</th>\n",
       "    </tr>\n",
       "    <tr>\n",
       "      <th>Customer Id</th>\n",
       "      <th></th>\n",
       "      <th></th>\n",
       "      <th></th>\n",
       "      <th></th>\n",
       "      <th></th>\n",
       "      <th></th>\n",
       "      <th></th>\n",
       "      <th></th>\n",
       "      <th></th>\n",
       "      <th></th>\n",
       "    </tr>\n",
       "  </thead>\n",
       "  <tbody>\n",
       "    <tr>\n",
       "      <th>1</th>\n",
       "      <td>41</td>\n",
       "      <td>2</td>\n",
       "      <td>6</td>\n",
       "      <td>19</td>\n",
       "      <td>0.124</td>\n",
       "      <td>1.073</td>\n",
       "      <td>0</td>\n",
       "      <td>NBA001</td>\n",
       "      <td>6.3</td>\n",
       "      <td>0</td>\n",
       "    </tr>\n",
       "    <tr>\n",
       "      <th>2</th>\n",
       "      <td>47</td>\n",
       "      <td>1</td>\n",
       "      <td>26</td>\n",
       "      <td>100</td>\n",
       "      <td>4.582</td>\n",
       "      <td>8.218</td>\n",
       "      <td>0</td>\n",
       "      <td>NBA021</td>\n",
       "      <td>12.8</td>\n",
       "      <td>3</td>\n",
       "    </tr>\n",
       "    <tr>\n",
       "      <th>3</th>\n",
       "      <td>33</td>\n",
       "      <td>2</td>\n",
       "      <td>10</td>\n",
       "      <td>57</td>\n",
       "      <td>6.111</td>\n",
       "      <td>5.802</td>\n",
       "      <td>1</td>\n",
       "      <td>NBA013</td>\n",
       "      <td>20.9</td>\n",
       "      <td>1</td>\n",
       "    </tr>\n",
       "    <tr>\n",
       "      <th>4</th>\n",
       "      <td>29</td>\n",
       "      <td>2</td>\n",
       "      <td>4</td>\n",
       "      <td>19</td>\n",
       "      <td>0.681</td>\n",
       "      <td>0.516</td>\n",
       "      <td>0</td>\n",
       "      <td>NBA009</td>\n",
       "      <td>6.3</td>\n",
       "      <td>0</td>\n",
       "    </tr>\n",
       "    <tr>\n",
       "      <th>5</th>\n",
       "      <td>47</td>\n",
       "      <td>1</td>\n",
       "      <td>31</td>\n",
       "      <td>253</td>\n",
       "      <td>9.308</td>\n",
       "      <td>8.908</td>\n",
       "      <td>0</td>\n",
       "      <td>NBA008</td>\n",
       "      <td>7.2</td>\n",
       "      <td>3</td>\n",
       "    </tr>\n",
       "    <tr>\n",
       "      <th>...</th>\n",
       "      <td>...</td>\n",
       "      <td>...</td>\n",
       "      <td>...</td>\n",
       "      <td>...</td>\n",
       "      <td>...</td>\n",
       "      <td>...</td>\n",
       "      <td>...</td>\n",
       "      <td>...</td>\n",
       "      <td>...</td>\n",
       "      <td>...</td>\n",
       "    </tr>\n",
       "    <tr>\n",
       "      <th>846</th>\n",
       "      <td>27</td>\n",
       "      <td>1</td>\n",
       "      <td>5</td>\n",
       "      <td>26</td>\n",
       "      <td>0.548</td>\n",
       "      <td>1.220</td>\n",
       "      <td>0</td>\n",
       "      <td>NBA007</td>\n",
       "      <td>6.8</td>\n",
       "      <td>3</td>\n",
       "    </tr>\n",
       "    <tr>\n",
       "      <th>847</th>\n",
       "      <td>28</td>\n",
       "      <td>2</td>\n",
       "      <td>7</td>\n",
       "      <td>34</td>\n",
       "      <td>0.359</td>\n",
       "      <td>2.021</td>\n",
       "      <td>0</td>\n",
       "      <td>NBA002</td>\n",
       "      <td>7.0</td>\n",
       "      <td>0</td>\n",
       "    </tr>\n",
       "    <tr>\n",
       "      <th>848</th>\n",
       "      <td>25</td>\n",
       "      <td>4</td>\n",
       "      <td>0</td>\n",
       "      <td>18</td>\n",
       "      <td>2.802</td>\n",
       "      <td>3.210</td>\n",
       "      <td>1</td>\n",
       "      <td>NBA001</td>\n",
       "      <td>33.4</td>\n",
       "      <td>1</td>\n",
       "    </tr>\n",
       "    <tr>\n",
       "      <th>849</th>\n",
       "      <td>32</td>\n",
       "      <td>1</td>\n",
       "      <td>12</td>\n",
       "      <td>28</td>\n",
       "      <td>0.116</td>\n",
       "      <td>0.696</td>\n",
       "      <td>0</td>\n",
       "      <td>NBA012</td>\n",
       "      <td>2.9</td>\n",
       "      <td>3</td>\n",
       "    </tr>\n",
       "    <tr>\n",
       "      <th>850</th>\n",
       "      <td>52</td>\n",
       "      <td>1</td>\n",
       "      <td>16</td>\n",
       "      <td>64</td>\n",
       "      <td>1.866</td>\n",
       "      <td>3.638</td>\n",
       "      <td>0</td>\n",
       "      <td>NBA025</td>\n",
       "      <td>8.6</td>\n",
       "      <td>3</td>\n",
       "    </tr>\n",
       "  </tbody>\n",
       "</table>\n",
       "<p>850 rows × 10 columns</p>\n",
       "</div>"
      ],
      "text/plain": [
       "             Age  Edu  Years Employed  Income  Card Debt  Other Debt  \\\n",
       "Customer Id                                                            \n",
       "1             41    2               6      19      0.124       1.073   \n",
       "2             47    1              26     100      4.582       8.218   \n",
       "3             33    2              10      57      6.111       5.802   \n",
       "4             29    2               4      19      0.681       0.516   \n",
       "5             47    1              31     253      9.308       8.908   \n",
       "...          ...  ...             ...     ...        ...         ...   \n",
       "846           27    1               5      26      0.548       1.220   \n",
       "847           28    2               7      34      0.359       2.021   \n",
       "848           25    4               0      18      2.802       3.210   \n",
       "849           32    1              12      28      0.116       0.696   \n",
       "850           52    1              16      64      1.866       3.638   \n",
       "\n",
       "             Defaulted Address  DebtIncomeRatio  Cluster  \n",
       "Customer Id                                               \n",
       "1                    0  NBA001              6.3        0  \n",
       "2                    0  NBA021             12.8        3  \n",
       "3                    1  NBA013             20.9        1  \n",
       "4                    0  NBA009              6.3        0  \n",
       "5                    0  NBA008              7.2        3  \n",
       "...                ...     ...              ...      ...  \n",
       "846                  0  NBA007              6.8        3  \n",
       "847                  0  NBA002              7.0        0  \n",
       "848                  1  NBA001             33.4        1  \n",
       "849                  0  NBA012              2.9        3  \n",
       "850                  0  NBA025              8.6        3  \n",
       "\n",
       "[850 rows x 10 columns]"
      ]
     },
     "execution_count": 24,
     "metadata": {},
     "output_type": "execute_result"
    }
   ],
   "source": [
    "df_norm[\"Cluster\"] = model.labels_\n",
    "df[\"Cluster\"] = model.labels_\n",
    "df"
   ]
  },
  {
   "cell_type": "markdown",
   "metadata": {},
   "source": [
    "## Анализ результатов"
   ]
  },
  {
   "cell_type": "code",
   "execution_count": 25,
   "metadata": {},
   "outputs": [],
   "source": [
    "from matplotlib.colors import ListedColormap, BoundaryNorm\n",
    "\n",
    "cmap = ListedColormap([\"coral\", \"blue\", \"lime\", \"violet\"])"
   ]
  },
  {
   "cell_type": "markdown",
   "metadata": {},
   "source": [
    "### Полная дендограмма"
   ]
  },
  {
   "cell_type": "code",
   "execution_count": 26,
   "metadata": {},
   "outputs": [
    {
     "data": {
      "text/plain": [
       "Text(0, 0.5, 'Euclidean distances')"
      ]
     },
     "execution_count": 26,
     "metadata": {},
     "output_type": "execute_result"
    },
    {
     "data": {
      "image/png": "[encoded data removed]",
      "text/plain": [
       "<Figure size 432x288 with 1 Axes>"
      ]
     },
     "metadata": {
      "needs_background": "light"
     },
     "output_type": "display_data"
    }
   ],
   "source": [
    "d = dendrogram(linkage(df_norm, method=\"single\"))\n",
    "plt.xticks(rotation=90)\n",
    "\n",
    "plt.title(\"Dendrogram\")\n",
    "plt.ylabel(\"Euclidean distances\")"
   ]
  },
  {
   "cell_type": "markdown",
   "metadata": {},
   "source": [
    "### Сокращенная дендограмма"
   ]
  },
  {
   "cell_type": "code",
   "execution_count": 27,
   "metadata": {},
   "outputs": [],
   "source": [
    "def plot_dendrogram(model, **kwargs):\n",
    "    # количество выборок под каждым узлом\n",
    "    counts = np.zeros(model.children_.shape[0])\n",
    "    n_samples = len(model.labels_)\n",
    "    for i, merge in enumerate(model.children_):\n",
    "        current_count = 0\n",
    "        for child_idx in merge:\n",
    "            if child_idx < n_samples:\n",
    "                current_count += 1  # leaf node\n",
    "            else:\n",
    "                current_count += counts[child_idx - n_samples]\n",
    "        counts[i] = current_count\n",
    "\n",
    "    linkage_matrix = np.column_stack(\n",
    "        [model.children_, model.distances_, counts]\n",
    "    ).astype(float)\n",
    "\n",
    "    # Plot the corresponding dendrogram\n",
    "    dendrogram(linkage_matrix, **kwargs)"
   ]
  },
  {
   "cell_type": "code",
   "execution_count": 28,
   "metadata": {},
   "outputs": [
    {
     "data": {
      "text/plain": [
       "Text(0.5, 0, 'Number of points in node (or index of point if no parenthesis).')"
      ]
     },
     "execution_count": 28,
     "metadata": {},
     "output_type": "execute_result"
    },
    {
     "data": {
      "image/png": "[encoded data removed]",
      "text/plain": [
       "<Figure size 432x288 with 1 Axes>"
      ]
     },
     "metadata": {
      "needs_background": "light"
     },
     "output_type": "display_data"
    }
   ],
   "source": [
    "# TODO\n",
    "plt.title(\"Hierarchical Clustering Dendrogram\")\n",
    "# график трех верхних уровней дендрограммы\n",
    "plot_dendrogram(model, truncate_mode=\"level\", p=3)\n",
    "\n",
    "plt.xticks(rotation=60)\n",
    "plt.xlabel(\"Number of points in node (or index of point if no parenthesis).\")"
   ]
  },
  {
   "cell_type": "markdown",
   "metadata": {},
   "source": [
    "### Анализ \"представителей\" кластеров"
   ]
  },
  {
   "cell_type": "code",
   "execution_count": 29,
   "metadata": {},
   "outputs": [
    {
     "name": "stdout",
     "output_type": "stream",
     "text": [
      "Cluster = 0\n"
     ]
    },
    {
     "data": {
      "text/html": [
       "<div>\n",
       "<style scoped>\n",
       "    .dataframe tbody tr th:only-of-type {\n",
       "        vertical-align: middle;\n",
       "    }\n",
       "\n",
       "    .dataframe tbody tr th {\n",
       "        vertical-align: top;\n",
       "    }\n",
       "\n",
       "    .dataframe thead th {\n",
       "        text-align: right;\n",
       "    }\n",
       "</style>\n",
       "<table border=\"1\" class=\"dataframe\">\n",
       "  <thead>\n",
       "    <tr style=\"text-align: right;\">\n",
       "      <th></th>\n",
       "      <th>Age</th>\n",
       "      <th>Edu</th>\n",
       "      <th>Years Employed</th>\n",
       "      <th>Income</th>\n",
       "      <th>Card Debt</th>\n",
       "      <th>Other Debt</th>\n",
       "      <th>Defaulted</th>\n",
       "      <th>Address</th>\n",
       "      <th>DebtIncomeRatio</th>\n",
       "      <th>Cluster</th>\n",
       "    </tr>\n",
       "    <tr>\n",
       "      <th>Customer Id</th>\n",
       "      <th></th>\n",
       "      <th></th>\n",
       "      <th></th>\n",
       "      <th></th>\n",
       "      <th></th>\n",
       "      <th></th>\n",
       "      <th></th>\n",
       "      <th></th>\n",
       "      <th></th>\n",
       "      <th></th>\n",
       "    </tr>\n",
       "  </thead>\n",
       "  <tbody>\n",
       "    <tr>\n",
       "      <th>1</th>\n",
       "      <td>41</td>\n",
       "      <td>2</td>\n",
       "      <td>6</td>\n",
       "      <td>19</td>\n",
       "      <td>0.124</td>\n",
       "      <td>1.073</td>\n",
       "      <td>0</td>\n",
       "      <td>NBA001</td>\n",
       "      <td>6.3</td>\n",
       "      <td>0</td>\n",
       "    </tr>\n",
       "    <tr>\n",
       "      <th>4</th>\n",
       "      <td>29</td>\n",
       "      <td>2</td>\n",
       "      <td>4</td>\n",
       "      <td>19</td>\n",
       "      <td>0.681</td>\n",
       "      <td>0.516</td>\n",
       "      <td>0</td>\n",
       "      <td>NBA009</td>\n",
       "      <td>6.3</td>\n",
       "      <td>0</td>\n",
       "    </tr>\n",
       "    <tr>\n",
       "      <th>7</th>\n",
       "      <td>38</td>\n",
       "      <td>2</td>\n",
       "      <td>4</td>\n",
       "      <td>56</td>\n",
       "      <td>0.442</td>\n",
       "      <td>0.454</td>\n",
       "      <td>0</td>\n",
       "      <td>NBA013</td>\n",
       "      <td>1.6</td>\n",
       "      <td>0</td>\n",
       "    </tr>\n",
       "    <tr>\n",
       "      <th>8</th>\n",
       "      <td>42</td>\n",
       "      <td>3</td>\n",
       "      <td>0</td>\n",
       "      <td>64</td>\n",
       "      <td>0.279</td>\n",
       "      <td>3.945</td>\n",
       "      <td>0</td>\n",
       "      <td>NBA009</td>\n",
       "      <td>6.6</td>\n",
       "      <td>0</td>\n",
       "    </tr>\n",
       "    <tr>\n",
       "      <th>10</th>\n",
       "      <td>47</td>\n",
       "      <td>3</td>\n",
       "      <td>23</td>\n",
       "      <td>115</td>\n",
       "      <td>0.653</td>\n",
       "      <td>3.947</td>\n",
       "      <td>0</td>\n",
       "      <td>NBA011</td>\n",
       "      <td>4.0</td>\n",
       "      <td>0</td>\n",
       "    </tr>\n",
       "    <tr>\n",
       "      <th>...</th>\n",
       "      <td>...</td>\n",
       "      <td>...</td>\n",
       "      <td>...</td>\n",
       "      <td>...</td>\n",
       "      <td>...</td>\n",
       "      <td>...</td>\n",
       "      <td>...</td>\n",
       "      <td>...</td>\n",
       "      <td>...</td>\n",
       "      <td>...</td>\n",
       "    </tr>\n",
       "    <tr>\n",
       "      <th>837</th>\n",
       "      <td>23</td>\n",
       "      <td>2</td>\n",
       "      <td>3</td>\n",
       "      <td>24</td>\n",
       "      <td>0.552</td>\n",
       "      <td>0.960</td>\n",
       "      <td>0</td>\n",
       "      <td>NBA004</td>\n",
       "      <td>6.3</td>\n",
       "      <td>0</td>\n",
       "    </tr>\n",
       "    <tr>\n",
       "      <th>841</th>\n",
       "      <td>38</td>\n",
       "      <td>3</td>\n",
       "      <td>13</td>\n",
       "      <td>25</td>\n",
       "      <td>0.343</td>\n",
       "      <td>1.082</td>\n",
       "      <td>0</td>\n",
       "      <td>NBA018</td>\n",
       "      <td>5.7</td>\n",
       "      <td>0</td>\n",
       "    </tr>\n",
       "    <tr>\n",
       "      <th>842</th>\n",
       "      <td>29</td>\n",
       "      <td>3</td>\n",
       "      <td>7</td>\n",
       "      <td>63</td>\n",
       "      <td>0.572</td>\n",
       "      <td>2.893</td>\n",
       "      <td>0</td>\n",
       "      <td>NBA001</td>\n",
       "      <td>5.5</td>\n",
       "      <td>0</td>\n",
       "    </tr>\n",
       "    <tr>\n",
       "      <th>844</th>\n",
       "      <td>32</td>\n",
       "      <td>2</td>\n",
       "      <td>8</td>\n",
       "      <td>45</td>\n",
       "      <td>0.982</td>\n",
       "      <td>0.683</td>\n",
       "      <td>0</td>\n",
       "      <td>NBA002</td>\n",
       "      <td>3.7</td>\n",
       "      <td>0</td>\n",
       "    </tr>\n",
       "    <tr>\n",
       "      <th>847</th>\n",
       "      <td>28</td>\n",
       "      <td>2</td>\n",
       "      <td>7</td>\n",
       "      <td>34</td>\n",
       "      <td>0.359</td>\n",
       "      <td>2.021</td>\n",
       "      <td>0</td>\n",
       "      <td>NBA002</td>\n",
       "      <td>7.0</td>\n",
       "      <td>0</td>\n",
       "    </tr>\n",
       "  </tbody>\n",
       "</table>\n",
       "<p>286 rows × 10 columns</p>\n",
       "</div>"
      ],
      "text/plain": [
       "             Age  Edu  Years Employed  Income  Card Debt  Other Debt  \\\n",
       "Customer Id                                                            \n",
       "1             41    2               6      19      0.124       1.073   \n",
       "4             29    2               4      19      0.681       0.516   \n",
       "7             38    2               4      56      0.442       0.454   \n",
       "8             42    3               0      64      0.279       3.945   \n",
       "10            47    3              23     115      0.653       3.947   \n",
       "...          ...  ...             ...     ...        ...         ...   \n",
       "837           23    2               3      24      0.552       0.960   \n",
       "841           38    3              13      25      0.343       1.082   \n",
       "842           29    3               7      63      0.572       2.893   \n",
       "844           32    2               8      45      0.982       0.683   \n",
       "847           28    2               7      34      0.359       2.021   \n",
       "\n",
       "             Defaulted Address  DebtIncomeRatio  Cluster  \n",
       "Customer Id                                               \n",
       "1                    0  NBA001              6.3        0  \n",
       "4                    0  NBA009              6.3        0  \n",
       "7                    0  NBA013              1.6        0  \n",
       "8                    0  NBA009              6.6        0  \n",
       "10                   0  NBA011              4.0        0  \n",
       "...                ...     ...              ...      ...  \n",
       "837                  0  NBA004              6.3        0  \n",
       "841                  0  NBA018              5.7        0  \n",
       "842                  0  NBA001              5.5        0  \n",
       "844                  0  NBA002              3.7        0  \n",
       "847                  0  NBA002              7.0        0  \n",
       "\n",
       "[286 rows x 10 columns]"
      ]
     },
     "metadata": {},
     "output_type": "display_data"
    },
    {
     "data": {
      "text/html": [
       "<div>\n",
       "<style scoped>\n",
       "    .dataframe tbody tr th:only-of-type {\n",
       "        vertical-align: middle;\n",
       "    }\n",
       "\n",
       "    .dataframe tbody tr th {\n",
       "        vertical-align: top;\n",
       "    }\n",
       "\n",
       "    .dataframe thead th {\n",
       "        text-align: right;\n",
       "    }\n",
       "</style>\n",
       "<table border=\"1\" class=\"dataframe\">\n",
       "  <thead>\n",
       "    <tr style=\"text-align: right;\">\n",
       "      <th></th>\n",
       "      <th>Age</th>\n",
       "      <th>Edu</th>\n",
       "      <th>Years Employed</th>\n",
       "      <th>Income</th>\n",
       "      <th>Card Debt</th>\n",
       "      <th>Other Debt</th>\n",
       "      <th>Defaulted</th>\n",
       "      <th>DebtIncomeRatio</th>\n",
       "      <th>Cluster</th>\n",
       "    </tr>\n",
       "  </thead>\n",
       "  <tbody>\n",
       "    <tr>\n",
       "      <th>count</th>\n",
       "      <td>286.000000</td>\n",
       "      <td>286.000000</td>\n",
       "      <td>286.000000</td>\n",
       "      <td>286.000000</td>\n",
       "      <td>286.000000</td>\n",
       "      <td>286.000000</td>\n",
       "      <td>286.0</td>\n",
       "      <td>286.000000</td>\n",
       "      <td>286.0</td>\n",
       "    </tr>\n",
       "    <tr>\n",
       "      <th>mean</th>\n",
       "      <td>35.622378</td>\n",
       "      <td>2.534965</td>\n",
       "      <td>8.541958</td>\n",
       "      <td>55.706294</td>\n",
       "      <td>1.472444</td>\n",
       "      <td>3.165122</td>\n",
       "      <td>0.0</td>\n",
       "      <td>8.685315</td>\n",
       "      <td>0.0</td>\n",
       "    </tr>\n",
       "    <tr>\n",
       "      <th>std</th>\n",
       "      <td>8.071004</td>\n",
       "      <td>0.761232</td>\n",
       "      <td>6.441368</td>\n",
       "      <td>40.263576</td>\n",
       "      <td>1.704603</td>\n",
       "      <td>3.176850</td>\n",
       "      <td>0.0</td>\n",
       "      <td>5.656841</td>\n",
       "      <td>0.0</td>\n",
       "    </tr>\n",
       "    <tr>\n",
       "      <th>min</th>\n",
       "      <td>20.000000</td>\n",
       "      <td>2.000000</td>\n",
       "      <td>0.000000</td>\n",
       "      <td>14.000000</td>\n",
       "      <td>0.015000</td>\n",
       "      <td>0.053000</td>\n",
       "      <td>0.0</td>\n",
       "      <td>0.100000</td>\n",
       "      <td>0.0</td>\n",
       "    </tr>\n",
       "    <tr>\n",
       "      <th>25%</th>\n",
       "      <td>29.000000</td>\n",
       "      <td>2.000000</td>\n",
       "      <td>3.000000</td>\n",
       "      <td>28.000000</td>\n",
       "      <td>0.403500</td>\n",
       "      <td>1.021000</td>\n",
       "      <td>0.0</td>\n",
       "      <td>4.400000</td>\n",
       "      <td>0.0</td>\n",
       "    </tr>\n",
       "    <tr>\n",
       "      <th>50%</th>\n",
       "      <td>35.000000</td>\n",
       "      <td>2.000000</td>\n",
       "      <td>8.000000</td>\n",
       "      <td>43.000000</td>\n",
       "      <td>0.891500</td>\n",
       "      <td>2.067000</td>\n",
       "      <td>0.0</td>\n",
       "      <td>7.550000</td>\n",
       "      <td>0.0</td>\n",
       "    </tr>\n",
       "    <tr>\n",
       "      <th>75%</th>\n",
       "      <td>41.000000</td>\n",
       "      <td>3.000000</td>\n",
       "      <td>12.000000</td>\n",
       "      <td>68.750000</td>\n",
       "      <td>1.839750</td>\n",
       "      <td>4.272250</td>\n",
       "      <td>0.0</td>\n",
       "      <td>12.175000</td>\n",
       "      <td>0.0</td>\n",
       "    </tr>\n",
       "    <tr>\n",
       "      <th>max</th>\n",
       "      <td>54.000000</td>\n",
       "      <td>5.000000</td>\n",
       "      <td>31.000000</td>\n",
       "      <td>266.000000</td>\n",
       "      <td>9.877000</td>\n",
       "      <td>18.269000</td>\n",
       "      <td>0.0</td>\n",
       "      <td>32.400000</td>\n",
       "      <td>0.0</td>\n",
       "    </tr>\n",
       "  </tbody>\n",
       "</table>\n",
       "</div>"
      ],
      "text/plain": [
       "              Age         Edu  Years Employed      Income   Card Debt  \\\n",
       "count  286.000000  286.000000      286.000000  286.000000  286.000000   \n",
       "mean    35.622378    2.534965        8.541958   55.706294    1.472444   \n",
       "std      8.071004    0.761232        6.441368   40.263576    1.704603   \n",
       "min     20.000000    2.000000        0.000000   14.000000    0.015000   \n",
       "25%     29.000000    2.000000        3.000000   28.000000    0.403500   \n",
       "50%     35.000000    2.000000        8.000000   43.000000    0.891500   \n",
       "75%     41.000000    3.000000       12.000000   68.750000    1.839750   \n",
       "max     54.000000    5.000000       31.000000  266.000000    9.877000   \n",
       "\n",
       "       Other Debt  Defaulted  DebtIncomeRatio  Cluster  \n",
       "count  286.000000      286.0       286.000000    286.0  \n",
       "mean     3.165122        0.0         8.685315      0.0  \n",
       "std      3.176850        0.0         5.656841      0.0  \n",
       "min      0.053000        0.0         0.100000      0.0  \n",
       "25%      1.021000        0.0         4.400000      0.0  \n",
       "50%      2.067000        0.0         7.550000      0.0  \n",
       "75%      4.272250        0.0        12.175000      0.0  \n",
       "max     18.269000        0.0        32.400000      0.0  "
      ]
     },
     "metadata": {},
     "output_type": "display_data"
    },
    {
     "name": "stdout",
     "output_type": "stream",
     "text": [
      "\n",
      " ================================================== \n",
      "\n",
      "Cluster = 1\n"
     ]
    },
    {
     "data": {
      "text/html": [
       "<div>\n",
       "<style scoped>\n",
       "    .dataframe tbody tr th:only-of-type {\n",
       "        vertical-align: middle;\n",
       "    }\n",
       "\n",
       "    .dataframe tbody tr th {\n",
       "        vertical-align: top;\n",
       "    }\n",
       "\n",
       "    .dataframe thead th {\n",
       "        text-align: right;\n",
       "    }\n",
       "</style>\n",
       "<table border=\"1\" class=\"dataframe\">\n",
       "  <thead>\n",
       "    <tr style=\"text-align: right;\">\n",
       "      <th></th>\n",
       "      <th>Age</th>\n",
       "      <th>Edu</th>\n",
       "      <th>Years Employed</th>\n",
       "      <th>Income</th>\n",
       "      <th>Card Debt</th>\n",
       "      <th>Other Debt</th>\n",
       "      <th>Defaulted</th>\n",
       "      <th>Address</th>\n",
       "      <th>DebtIncomeRatio</th>\n",
       "      <th>Cluster</th>\n",
       "    </tr>\n",
       "    <tr>\n",
       "      <th>Customer Id</th>\n",
       "      <th></th>\n",
       "      <th></th>\n",
       "      <th></th>\n",
       "      <th></th>\n",
       "      <th></th>\n",
       "      <th></th>\n",
       "      <th></th>\n",
       "      <th></th>\n",
       "      <th></th>\n",
       "      <th></th>\n",
       "    </tr>\n",
       "  </thead>\n",
       "  <tbody>\n",
       "    <tr>\n",
       "      <th>3</th>\n",
       "      <td>33</td>\n",
       "      <td>2</td>\n",
       "      <td>10</td>\n",
       "      <td>57</td>\n",
       "      <td>6.111</td>\n",
       "      <td>5.802</td>\n",
       "      <td>1</td>\n",
       "      <td>NBA013</td>\n",
       "      <td>20.9</td>\n",
       "      <td>1</td>\n",
       "    </tr>\n",
       "    <tr>\n",
       "      <th>11</th>\n",
       "      <td>44</td>\n",
       "      <td>3</td>\n",
       "      <td>8</td>\n",
       "      <td>88</td>\n",
       "      <td>0.285</td>\n",
       "      <td>5.083</td>\n",
       "      <td>1</td>\n",
       "      <td>NBA010</td>\n",
       "      <td>6.1</td>\n",
       "      <td>1</td>\n",
       "    </tr>\n",
       "    <tr>\n",
       "      <th>15</th>\n",
       "      <td>28</td>\n",
       "      <td>3</td>\n",
       "      <td>2</td>\n",
       "      <td>20</td>\n",
       "      <td>0.233</td>\n",
       "      <td>1.647</td>\n",
       "      <td>1</td>\n",
       "      <td>NBA000</td>\n",
       "      <td>9.4</td>\n",
       "      <td>1</td>\n",
       "    </tr>\n",
       "    <tr>\n",
       "      <th>23</th>\n",
       "      <td>28</td>\n",
       "      <td>3</td>\n",
       "      <td>6</td>\n",
       "      <td>47</td>\n",
       "      <td>5.574</td>\n",
       "      <td>3.732</td>\n",
       "      <td>1</td>\n",
       "      <td>NBA008</td>\n",
       "      <td>19.8</td>\n",
       "      <td>1</td>\n",
       "    </tr>\n",
       "    <tr>\n",
       "      <th>33</th>\n",
       "      <td>23</td>\n",
       "      <td>2</td>\n",
       "      <td>0</td>\n",
       "      <td>42</td>\n",
       "      <td>1.019</td>\n",
       "      <td>0.619</td>\n",
       "      <td>1</td>\n",
       "      <td>NBA001</td>\n",
       "      <td>3.9</td>\n",
       "      <td>1</td>\n",
       "    </tr>\n",
       "    <tr>\n",
       "      <th>...</th>\n",
       "      <td>...</td>\n",
       "      <td>...</td>\n",
       "      <td>...</td>\n",
       "      <td>...</td>\n",
       "      <td>...</td>\n",
       "      <td>...</td>\n",
       "      <td>...</td>\n",
       "      <td>...</td>\n",
       "      <td>...</td>\n",
       "      <td>...</td>\n",
       "    </tr>\n",
       "    <tr>\n",
       "      <th>797</th>\n",
       "      <td>25</td>\n",
       "      <td>4</td>\n",
       "      <td>0</td>\n",
       "      <td>24</td>\n",
       "      <td>1.597</td>\n",
       "      <td>1.307</td>\n",
       "      <td>1</td>\n",
       "      <td>NBA006</td>\n",
       "      <td>12.1</td>\n",
       "      <td>1</td>\n",
       "    </tr>\n",
       "    <tr>\n",
       "      <th>817</th>\n",
       "      <td>36</td>\n",
       "      <td>2</td>\n",
       "      <td>6</td>\n",
       "      <td>27</td>\n",
       "      <td>0.262</td>\n",
       "      <td>0.980</td>\n",
       "      <td>1</td>\n",
       "      <td>NBA015</td>\n",
       "      <td>4.6</td>\n",
       "      <td>1</td>\n",
       "    </tr>\n",
       "    <tr>\n",
       "      <th>824</th>\n",
       "      <td>27</td>\n",
       "      <td>4</td>\n",
       "      <td>0</td>\n",
       "      <td>25</td>\n",
       "      <td>1.419</td>\n",
       "      <td>1.756</td>\n",
       "      <td>1</td>\n",
       "      <td>NBA000</td>\n",
       "      <td>12.7</td>\n",
       "      <td>1</td>\n",
       "    </tr>\n",
       "    <tr>\n",
       "      <th>825</th>\n",
       "      <td>41</td>\n",
       "      <td>2</td>\n",
       "      <td>4</td>\n",
       "      <td>26</td>\n",
       "      <td>1.473</td>\n",
       "      <td>3.519</td>\n",
       "      <td>1</td>\n",
       "      <td>NBA014</td>\n",
       "      <td>19.2</td>\n",
       "      <td>1</td>\n",
       "    </tr>\n",
       "    <tr>\n",
       "      <th>848</th>\n",
       "      <td>25</td>\n",
       "      <td>4</td>\n",
       "      <td>0</td>\n",
       "      <td>18</td>\n",
       "      <td>2.802</td>\n",
       "      <td>3.210</td>\n",
       "      <td>1</td>\n",
       "      <td>NBA001</td>\n",
       "      <td>33.4</td>\n",
       "      <td>1</td>\n",
       "    </tr>\n",
       "  </tbody>\n",
       "</table>\n",
       "<p>104 rows × 10 columns</p>\n",
       "</div>"
      ],
      "text/plain": [
       "             Age  Edu  Years Employed  Income  Card Debt  Other Debt  \\\n",
       "Customer Id                                                            \n",
       "3             33    2              10      57      6.111       5.802   \n",
       "11            44    3               8      88      0.285       5.083   \n",
       "15            28    3               2      20      0.233       1.647   \n",
       "23            28    3               6      47      5.574       3.732   \n",
       "33            23    2               0      42      1.019       0.619   \n",
       "...          ...  ...             ...     ...        ...         ...   \n",
       "797           25    4               0      24      1.597       1.307   \n",
       "817           36    2               6      27      0.262       0.980   \n",
       "824           27    4               0      25      1.419       1.756   \n",
       "825           41    2               4      26      1.473       3.519   \n",
       "848           25    4               0      18      2.802       3.210   \n",
       "\n",
       "             Defaulted Address  DebtIncomeRatio  Cluster  \n",
       "Customer Id                                               \n",
       "3                    1  NBA013             20.9        1  \n",
       "11                   1  NBA010              6.1        1  \n",
       "15                   1  NBA000              9.4        1  \n",
       "23                   1  NBA008             19.8        1  \n",
       "33                   1  NBA001              3.9        1  \n",
       "...                ...     ...              ...      ...  \n",
       "797                  1  NBA006             12.1        1  \n",
       "817                  1  NBA015              4.6        1  \n",
       "824                  1  NBA000             12.7        1  \n",
       "825                  1  NBA014             19.2        1  \n",
       "848                  1  NBA001             33.4        1  \n",
       "\n",
       "[104 rows x 10 columns]"
      ]
     },
     "metadata": {},
     "output_type": "display_data"
    },
    {
     "data": {
      "text/html": [
       "<div>\n",
       "<style scoped>\n",
       "    .dataframe tbody tr th:only-of-type {\n",
       "        vertical-align: middle;\n",
       "    }\n",
       "\n",
       "    .dataframe tbody tr th {\n",
       "        vertical-align: top;\n",
       "    }\n",
       "\n",
       "    .dataframe thead th {\n",
       "        text-align: right;\n",
       "    }\n",
       "</style>\n",
       "<table border=\"1\" class=\"dataframe\">\n",
       "  <thead>\n",
       "    <tr style=\"text-align: right;\">\n",
       "      <th></th>\n",
       "      <th>Age</th>\n",
       "      <th>Edu</th>\n",
       "      <th>Years Employed</th>\n",
       "      <th>Income</th>\n",
       "      <th>Card Debt</th>\n",
       "      <th>Other Debt</th>\n",
       "      <th>Defaulted</th>\n",
       "      <th>DebtIncomeRatio</th>\n",
       "      <th>Cluster</th>\n",
       "    </tr>\n",
       "  </thead>\n",
       "  <tbody>\n",
       "    <tr>\n",
       "      <th>count</th>\n",
       "      <td>104.000000</td>\n",
       "      <td>104.000000</td>\n",
       "      <td>104.000000</td>\n",
       "      <td>104.000000</td>\n",
       "      <td>104.000000</td>\n",
       "      <td>104.000000</td>\n",
       "      <td>104.0</td>\n",
       "      <td>104.000000</td>\n",
       "      <td>104.0</td>\n",
       "    </tr>\n",
       "    <tr>\n",
       "      <th>mean</th>\n",
       "      <td>32.663462</td>\n",
       "      <td>2.586538</td>\n",
       "      <td>4.615385</td>\n",
       "      <td>47.663462</td>\n",
       "      <td>2.422279</td>\n",
       "      <td>4.287221</td>\n",
       "      <td>1.0</td>\n",
       "      <td>14.088462</td>\n",
       "      <td>1.0</td>\n",
       "    </tr>\n",
       "    <tr>\n",
       "      <th>std</th>\n",
       "      <td>7.836448</td>\n",
       "      <td>0.758263</td>\n",
       "      <td>4.653650</td>\n",
       "      <td>52.537109</td>\n",
       "      <td>2.908140</td>\n",
       "      <td>4.689026</td>\n",
       "      <td>0.0</td>\n",
       "      <td>7.407701</td>\n",
       "      <td>0.0</td>\n",
       "    </tr>\n",
       "    <tr>\n",
       "      <th>min</th>\n",
       "      <td>21.000000</td>\n",
       "      <td>2.000000</td>\n",
       "      <td>0.000000</td>\n",
       "      <td>15.000000</td>\n",
       "      <td>0.118000</td>\n",
       "      <td>0.161000</td>\n",
       "      <td>1.0</td>\n",
       "      <td>0.900000</td>\n",
       "      <td>1.0</td>\n",
       "    </tr>\n",
       "    <tr>\n",
       "      <th>25%</th>\n",
       "      <td>27.000000</td>\n",
       "      <td>2.000000</td>\n",
       "      <td>1.000000</td>\n",
       "      <td>24.000000</td>\n",
       "      <td>0.480750</td>\n",
       "      <td>1.459000</td>\n",
       "      <td>1.0</td>\n",
       "      <td>8.475000</td>\n",
       "      <td>1.0</td>\n",
       "    </tr>\n",
       "    <tr>\n",
       "      <th>50%</th>\n",
       "      <td>31.000000</td>\n",
       "      <td>2.000000</td>\n",
       "      <td>3.000000</td>\n",
       "      <td>33.000000</td>\n",
       "      <td>1.446000</td>\n",
       "      <td>2.711000</td>\n",
       "      <td>1.0</td>\n",
       "      <td>13.450000</td>\n",
       "      <td>1.0</td>\n",
       "    </tr>\n",
       "    <tr>\n",
       "      <th>75%</th>\n",
       "      <td>39.000000</td>\n",
       "      <td>3.000000</td>\n",
       "      <td>6.250000</td>\n",
       "      <td>52.750000</td>\n",
       "      <td>3.059000</td>\n",
       "      <td>5.071750</td>\n",
       "      <td>1.0</td>\n",
       "      <td>18.475000</td>\n",
       "      <td>1.0</td>\n",
       "    </tr>\n",
       "    <tr>\n",
       "      <th>max</th>\n",
       "      <td>53.000000</td>\n",
       "      <td>5.000000</td>\n",
       "      <td>18.000000</td>\n",
       "      <td>446.000000</td>\n",
       "      <td>16.031000</td>\n",
       "      <td>27.034000</td>\n",
       "      <td>1.0</td>\n",
       "      <td>36.600000</td>\n",
       "      <td>1.0</td>\n",
       "    </tr>\n",
       "  </tbody>\n",
       "</table>\n",
       "</div>"
      ],
      "text/plain": [
       "              Age         Edu  Years Employed      Income   Card Debt  \\\n",
       "count  104.000000  104.000000      104.000000  104.000000  104.000000   \n",
       "mean    32.663462    2.586538        4.615385   47.663462    2.422279   \n",
       "std      7.836448    0.758263        4.653650   52.537109    2.908140   \n",
       "min     21.000000    2.000000        0.000000   15.000000    0.118000   \n",
       "25%     27.000000    2.000000        1.000000   24.000000    0.480750   \n",
       "50%     31.000000    2.000000        3.000000   33.000000    1.446000   \n",
       "75%     39.000000    3.000000        6.250000   52.750000    3.059000   \n",
       "max     53.000000    5.000000       18.000000  446.000000   16.031000   \n",
       "\n",
       "       Other Debt  Defaulted  DebtIncomeRatio  Cluster  \n",
       "count  104.000000      104.0       104.000000    104.0  \n",
       "mean     4.287221        1.0        14.088462      1.0  \n",
       "std      4.689026        0.0         7.407701      0.0  \n",
       "min      0.161000        1.0         0.900000      1.0  \n",
       "25%      1.459000        1.0         8.475000      1.0  \n",
       "50%      2.711000        1.0        13.450000      1.0  \n",
       "75%      5.071750        1.0        18.475000      1.0  \n",
       "max     27.034000        1.0        36.600000      1.0  "
      ]
     },
     "metadata": {},
     "output_type": "display_data"
    },
    {
     "name": "stdout",
     "output_type": "stream",
     "text": [
      "\n",
      " ================================================== \n",
      "\n",
      "Cluster = 2\n"
     ]
    },
    {
     "data": {
      "text/html": [
       "<div>\n",
       "<style scoped>\n",
       "    .dataframe tbody tr th:only-of-type {\n",
       "        vertical-align: middle;\n",
       "    }\n",
       "\n",
       "    .dataframe tbody tr th {\n",
       "        vertical-align: top;\n",
       "    }\n",
       "\n",
       "    .dataframe thead th {\n",
       "        text-align: right;\n",
       "    }\n",
       "</style>\n",
       "<table border=\"1\" class=\"dataframe\">\n",
       "  <thead>\n",
       "    <tr style=\"text-align: right;\">\n",
       "      <th></th>\n",
       "      <th>Age</th>\n",
       "      <th>Edu</th>\n",
       "      <th>Years Employed</th>\n",
       "      <th>Income</th>\n",
       "      <th>Card Debt</th>\n",
       "      <th>Other Debt</th>\n",
       "      <th>Defaulted</th>\n",
       "      <th>Address</th>\n",
       "      <th>DebtIncomeRatio</th>\n",
       "      <th>Cluster</th>\n",
       "    </tr>\n",
       "    <tr>\n",
       "      <th>Customer Id</th>\n",
       "      <th></th>\n",
       "      <th></th>\n",
       "      <th></th>\n",
       "      <th></th>\n",
       "      <th></th>\n",
       "      <th></th>\n",
       "      <th></th>\n",
       "      <th></th>\n",
       "      <th></th>\n",
       "      <th></th>\n",
       "    </tr>\n",
       "  </thead>\n",
       "  <tbody>\n",
       "    <tr>\n",
       "      <th>38</th>\n",
       "      <td>37</td>\n",
       "      <td>1</td>\n",
       "      <td>0</td>\n",
       "      <td>18</td>\n",
       "      <td>1.584</td>\n",
       "      <td>0.738</td>\n",
       "      <td>1</td>\n",
       "      <td>NBA018</td>\n",
       "      <td>12.9</td>\n",
       "      <td>2</td>\n",
       "    </tr>\n",
       "    <tr>\n",
       "      <th>41</th>\n",
       "      <td>20</td>\n",
       "      <td>1</td>\n",
       "      <td>4</td>\n",
       "      <td>14</td>\n",
       "      <td>0.201</td>\n",
       "      <td>1.157</td>\n",
       "      <td>1</td>\n",
       "      <td>NBA000</td>\n",
       "      <td>9.7</td>\n",
       "      <td>2</td>\n",
       "    </tr>\n",
       "    <tr>\n",
       "      <th>53</th>\n",
       "      <td>24</td>\n",
       "      <td>1</td>\n",
       "      <td>3</td>\n",
       "      <td>19</td>\n",
       "      <td>1.358</td>\n",
       "      <td>3.278</td>\n",
       "      <td>1</td>\n",
       "      <td>NBA004</td>\n",
       "      <td>24.4</td>\n",
       "      <td>2</td>\n",
       "    </tr>\n",
       "    <tr>\n",
       "      <th>56</th>\n",
       "      <td>34</td>\n",
       "      <td>1</td>\n",
       "      <td>2</td>\n",
       "      <td>25</td>\n",
       "      <td>0.573</td>\n",
       "      <td>2.577</td>\n",
       "      <td>1</td>\n",
       "      <td>NBA011</td>\n",
       "      <td>12.6</td>\n",
       "      <td>2</td>\n",
       "    </tr>\n",
       "    <tr>\n",
       "      <th>57</th>\n",
       "      <td>32</td>\n",
       "      <td>1</td>\n",
       "      <td>1</td>\n",
       "      <td>20</td>\n",
       "      <td>0.315</td>\n",
       "      <td>0.645</td>\n",
       "      <td>1</td>\n",
       "      <td>NBA000</td>\n",
       "      <td>4.8</td>\n",
       "      <td>2</td>\n",
       "    </tr>\n",
       "    <tr>\n",
       "      <th>...</th>\n",
       "      <td>...</td>\n",
       "      <td>...</td>\n",
       "      <td>...</td>\n",
       "      <td>...</td>\n",
       "      <td>...</td>\n",
       "      <td>...</td>\n",
       "      <td>...</td>\n",
       "      <td>...</td>\n",
       "      <td>...</td>\n",
       "      <td>...</td>\n",
       "    </tr>\n",
       "    <tr>\n",
       "      <th>803</th>\n",
       "      <td>26</td>\n",
       "      <td>1</td>\n",
       "      <td>0</td>\n",
       "      <td>14</td>\n",
       "      <td>0.302</td>\n",
       "      <td>0.748</td>\n",
       "      <td>1</td>\n",
       "      <td>NBA000</td>\n",
       "      <td>7.5</td>\n",
       "      <td>2</td>\n",
       "    </tr>\n",
       "    <tr>\n",
       "      <th>810</th>\n",
       "      <td>22</td>\n",
       "      <td>1</td>\n",
       "      <td>4</td>\n",
       "      <td>19</td>\n",
       "      <td>1.887</td>\n",
       "      <td>2.502</td>\n",
       "      <td>1</td>\n",
       "      <td>NBA003</td>\n",
       "      <td>23.1</td>\n",
       "      <td>2</td>\n",
       "    </tr>\n",
       "    <tr>\n",
       "      <th>814</th>\n",
       "      <td>31</td>\n",
       "      <td>1</td>\n",
       "      <td>10</td>\n",
       "      <td>49</td>\n",
       "      <td>3.237</td>\n",
       "      <td>1.565</td>\n",
       "      <td>1</td>\n",
       "      <td>NBA012</td>\n",
       "      <td>9.8</td>\n",
       "      <td>2</td>\n",
       "    </tr>\n",
       "    <tr>\n",
       "      <th>827</th>\n",
       "      <td>48</td>\n",
       "      <td>1</td>\n",
       "      <td>13</td>\n",
       "      <td>50</td>\n",
       "      <td>6.114</td>\n",
       "      <td>9.286</td>\n",
       "      <td>1</td>\n",
       "      <td>NBA020</td>\n",
       "      <td>30.8</td>\n",
       "      <td>2</td>\n",
       "    </tr>\n",
       "    <tr>\n",
       "      <th>831</th>\n",
       "      <td>33</td>\n",
       "      <td>1</td>\n",
       "      <td>13</td>\n",
       "      <td>52</td>\n",
       "      <td>2.714</td>\n",
       "      <td>8.362</td>\n",
       "      <td>1</td>\n",
       "      <td>NBA003</td>\n",
       "      <td>21.3</td>\n",
       "      <td>2</td>\n",
       "    </tr>\n",
       "  </tbody>\n",
       "</table>\n",
       "<p>79 rows × 10 columns</p>\n",
       "</div>"
      ],
      "text/plain": [
       "             Age  Edu  Years Employed  Income  Card Debt  Other Debt  \\\n",
       "Customer Id                                                            \n",
       "38            37    1               0      18      1.584       0.738   \n",
       "41            20    1               4      14      0.201       1.157   \n",
       "53            24    1               3      19      1.358       3.278   \n",
       "56            34    1               2      25      0.573       2.577   \n",
       "57            32    1               1      20      0.315       0.645   \n",
       "...          ...  ...             ...     ...        ...         ...   \n",
       "803           26    1               0      14      0.302       0.748   \n",
       "810           22    1               4      19      1.887       2.502   \n",
       "814           31    1              10      49      3.237       1.565   \n",
       "827           48    1              13      50      6.114       9.286   \n",
       "831           33    1              13      52      2.714       8.362   \n",
       "\n",
       "             Defaulted Address  DebtIncomeRatio  Cluster  \n",
       "Customer Id                                               \n",
       "38                   1  NBA018             12.9        2  \n",
       "41                   1  NBA000              9.7        2  \n",
       "53                   1  NBA004             24.4        2  \n",
       "56                   1  NBA011             12.6        2  \n",
       "57                   1  NBA000              4.8        2  \n",
       "...                ...     ...              ...      ...  \n",
       "803                  1  NBA000              7.5        2  \n",
       "810                  1  NBA003             23.1        2  \n",
       "814                  1  NBA012              9.8        2  \n",
       "827                  1  NBA020             30.8        2  \n",
       "831                  1  NBA003             21.3        2  \n",
       "\n",
       "[79 rows x 10 columns]"
      ]
     },
     "metadata": {},
     "output_type": "display_data"
    },
    {
     "data": {
      "text/html": [
       "<div>\n",
       "<style scoped>\n",
       "    .dataframe tbody tr th:only-of-type {\n",
       "        vertical-align: middle;\n",
       "    }\n",
       "\n",
       "    .dataframe tbody tr th {\n",
       "        vertical-align: top;\n",
       "    }\n",
       "\n",
       "    .dataframe thead th {\n",
       "        text-align: right;\n",
       "    }\n",
       "</style>\n",
       "<table border=\"1\" class=\"dataframe\">\n",
       "  <thead>\n",
       "    <tr style=\"text-align: right;\">\n",
       "      <th></th>\n",
       "      <th>Age</th>\n",
       "      <th>Edu</th>\n",
       "      <th>Years Employed</th>\n",
       "      <th>Income</th>\n",
       "      <th>Card Debt</th>\n",
       "      <th>Other Debt</th>\n",
       "      <th>Defaulted</th>\n",
       "      <th>DebtIncomeRatio</th>\n",
       "      <th>Cluster</th>\n",
       "    </tr>\n",
       "  </thead>\n",
       "  <tbody>\n",
       "    <tr>\n",
       "      <th>count</th>\n",
       "      <td>79.000000</td>\n",
       "      <td>79.0</td>\n",
       "      <td>79.000000</td>\n",
       "      <td>79.000000</td>\n",
       "      <td>79.000000</td>\n",
       "      <td>79.000000</td>\n",
       "      <td>79.0</td>\n",
       "      <td>79.000000</td>\n",
       "      <td>79.0</td>\n",
       "    </tr>\n",
       "    <tr>\n",
       "      <th>mean</th>\n",
       "      <td>33.468354</td>\n",
       "      <td>1.0</td>\n",
       "      <td>6.025316</td>\n",
       "      <td>32.721519</td>\n",
       "      <td>2.425937</td>\n",
       "      <td>3.304101</td>\n",
       "      <td>1.0</td>\n",
       "      <td>15.569620</td>\n",
       "      <td>2.0</td>\n",
       "    </tr>\n",
       "    <tr>\n",
       "      <th>std</th>\n",
       "      <td>9.371035</td>\n",
       "      <td>0.0</td>\n",
       "      <td>6.476733</td>\n",
       "      <td>23.753508</td>\n",
       "      <td>3.634974</td>\n",
       "      <td>3.581543</td>\n",
       "      <td>0.0</td>\n",
       "      <td>8.485392</td>\n",
       "      <td>0.0</td>\n",
       "    </tr>\n",
       "    <tr>\n",
       "      <th>min</th>\n",
       "      <td>20.000000</td>\n",
       "      <td>1.0</td>\n",
       "      <td>0.000000</td>\n",
       "      <td>14.000000</td>\n",
       "      <td>0.073000</td>\n",
       "      <td>0.182000</td>\n",
       "      <td>1.0</td>\n",
       "      <td>2.100000</td>\n",
       "      <td>2.0</td>\n",
       "    </tr>\n",
       "    <tr>\n",
       "      <th>25%</th>\n",
       "      <td>26.000000</td>\n",
       "      <td>1.0</td>\n",
       "      <td>1.000000</td>\n",
       "      <td>19.000000</td>\n",
       "      <td>0.569000</td>\n",
       "      <td>1.000000</td>\n",
       "      <td>1.0</td>\n",
       "      <td>9.300000</td>\n",
       "      <td>2.0</td>\n",
       "    </tr>\n",
       "    <tr>\n",
       "      <th>50%</th>\n",
       "      <td>31.000000</td>\n",
       "      <td>1.0</td>\n",
       "      <td>4.000000</td>\n",
       "      <td>24.000000</td>\n",
       "      <td>1.370000</td>\n",
       "      <td>2.350000</td>\n",
       "      <td>1.0</td>\n",
       "      <td>14.800000</td>\n",
       "      <td>2.0</td>\n",
       "    </tr>\n",
       "    <tr>\n",
       "      <th>75%</th>\n",
       "      <td>38.500000</td>\n",
       "      <td>1.0</td>\n",
       "      <td>9.000000</td>\n",
       "      <td>39.500000</td>\n",
       "      <td>2.514500</td>\n",
       "      <td>3.661500</td>\n",
       "      <td>1.0</td>\n",
       "      <td>22.200000</td>\n",
       "      <td>2.0</td>\n",
       "    </tr>\n",
       "    <tr>\n",
       "      <th>max</th>\n",
       "      <td>55.000000</td>\n",
       "      <td>1.0</td>\n",
       "      <td>31.000000</td>\n",
       "      <td>136.000000</td>\n",
       "      <td>20.561000</td>\n",
       "      <td>17.204000</td>\n",
       "      <td>1.0</td>\n",
       "      <td>41.300000</td>\n",
       "      <td>2.0</td>\n",
       "    </tr>\n",
       "  </tbody>\n",
       "</table>\n",
       "</div>"
      ],
      "text/plain": [
       "             Age   Edu  Years Employed      Income  Card Debt  Other Debt  \\\n",
       "count  79.000000  79.0       79.000000   79.000000  79.000000   79.000000   \n",
       "mean   33.468354   1.0        6.025316   32.721519   2.425937    3.304101   \n",
       "std     9.371035   0.0        6.476733   23.753508   3.634974    3.581543   \n",
       "min    20.000000   1.0        0.000000   14.000000   0.073000    0.182000   \n",
       "25%    26.000000   1.0        1.000000   19.000000   0.569000    1.000000   \n",
       "50%    31.000000   1.0        4.000000   24.000000   1.370000    2.350000   \n",
       "75%    38.500000   1.0        9.000000   39.500000   2.514500    3.661500   \n",
       "max    55.000000   1.0       31.000000  136.000000  20.561000   17.204000   \n",
       "\n",
       "       Defaulted  DebtIncomeRatio  Cluster  \n",
       "count       79.0        79.000000     79.0  \n",
       "mean         1.0        15.569620      2.0  \n",
       "std          0.0         8.485392      0.0  \n",
       "min          1.0         2.100000      2.0  \n",
       "25%          1.0         9.300000      2.0  \n",
       "50%          1.0        14.800000      2.0  \n",
       "75%          1.0        22.200000      2.0  \n",
       "max          1.0        41.300000      2.0  "
      ]
     },
     "metadata": {},
     "output_type": "display_data"
    },
    {
     "name": "stdout",
     "output_type": "stream",
     "text": [
      "\n",
      " ================================================== \n",
      "\n",
      "Cluster = 3\n"
     ]
    },
    {
     "data": {
      "text/html": [
       "<div>\n",
       "<style scoped>\n",
       "    .dataframe tbody tr th:only-of-type {\n",
       "        vertical-align: middle;\n",
       "    }\n",
       "\n",
       "    .dataframe tbody tr th {\n",
       "        vertical-align: top;\n",
       "    }\n",
       "\n",
       "    .dataframe thead th {\n",
       "        text-align: right;\n",
       "    }\n",
       "</style>\n",
       "<table border=\"1\" class=\"dataframe\">\n",
       "  <thead>\n",
       "    <tr style=\"text-align: right;\">\n",
       "      <th></th>\n",
       "      <th>Age</th>\n",
       "      <th>Edu</th>\n",
       "      <th>Years Employed</th>\n",
       "      <th>Income</th>\n",
       "      <th>Card Debt</th>\n",
       "      <th>Other Debt</th>\n",
       "      <th>Defaulted</th>\n",
       "      <th>Address</th>\n",
       "      <th>DebtIncomeRatio</th>\n",
       "      <th>Cluster</th>\n",
       "    </tr>\n",
       "    <tr>\n",
       "      <th>Customer Id</th>\n",
       "      <th></th>\n",
       "      <th></th>\n",
       "      <th></th>\n",
       "      <th></th>\n",
       "      <th></th>\n",
       "      <th></th>\n",
       "      <th></th>\n",
       "      <th></th>\n",
       "      <th></th>\n",
       "      <th></th>\n",
       "    </tr>\n",
       "  </thead>\n",
       "  <tbody>\n",
       "    <tr>\n",
       "      <th>2</th>\n",
       "      <td>47</td>\n",
       "      <td>1</td>\n",
       "      <td>26</td>\n",
       "      <td>100</td>\n",
       "      <td>4.582</td>\n",
       "      <td>8.218</td>\n",
       "      <td>0</td>\n",
       "      <td>NBA021</td>\n",
       "      <td>12.8</td>\n",
       "      <td>3</td>\n",
       "    </tr>\n",
       "    <tr>\n",
       "      <th>5</th>\n",
       "      <td>47</td>\n",
       "      <td>1</td>\n",
       "      <td>31</td>\n",
       "      <td>253</td>\n",
       "      <td>9.308</td>\n",
       "      <td>8.908</td>\n",
       "      <td>0</td>\n",
       "      <td>NBA008</td>\n",
       "      <td>7.2</td>\n",
       "      <td>3</td>\n",
       "    </tr>\n",
       "    <tr>\n",
       "      <th>6</th>\n",
       "      <td>40</td>\n",
       "      <td>1</td>\n",
       "      <td>23</td>\n",
       "      <td>81</td>\n",
       "      <td>0.998</td>\n",
       "      <td>7.831</td>\n",
       "      <td>0</td>\n",
       "      <td>NBA016</td>\n",
       "      <td>10.9</td>\n",
       "      <td>3</td>\n",
       "    </tr>\n",
       "    <tr>\n",
       "      <th>9</th>\n",
       "      <td>26</td>\n",
       "      <td>1</td>\n",
       "      <td>5</td>\n",
       "      <td>18</td>\n",
       "      <td>0.575</td>\n",
       "      <td>2.215</td>\n",
       "      <td>0</td>\n",
       "      <td>NBA006</td>\n",
       "      <td>15.5</td>\n",
       "      <td>3</td>\n",
       "    </tr>\n",
       "    <tr>\n",
       "      <th>13</th>\n",
       "      <td>24</td>\n",
       "      <td>1</td>\n",
       "      <td>7</td>\n",
       "      <td>18</td>\n",
       "      <td>0.526</td>\n",
       "      <td>0.643</td>\n",
       "      <td>0</td>\n",
       "      <td>NBA000</td>\n",
       "      <td>6.5</td>\n",
       "      <td>3</td>\n",
       "    </tr>\n",
       "    <tr>\n",
       "      <th>...</th>\n",
       "      <td>...</td>\n",
       "      <td>...</td>\n",
       "      <td>...</td>\n",
       "      <td>...</td>\n",
       "      <td>...</td>\n",
       "      <td>...</td>\n",
       "      <td>...</td>\n",
       "      <td>...</td>\n",
       "      <td>...</td>\n",
       "      <td>...</td>\n",
       "    </tr>\n",
       "    <tr>\n",
       "      <th>843</th>\n",
       "      <td>32</td>\n",
       "      <td>1</td>\n",
       "      <td>14</td>\n",
       "      <td>36</td>\n",
       "      <td>0.273</td>\n",
       "      <td>0.591</td>\n",
       "      <td>0</td>\n",
       "      <td>NBA000</td>\n",
       "      <td>2.4</td>\n",
       "      <td>3</td>\n",
       "    </tr>\n",
       "    <tr>\n",
       "      <th>845</th>\n",
       "      <td>41</td>\n",
       "      <td>1</td>\n",
       "      <td>7</td>\n",
       "      <td>43</td>\n",
       "      <td>0.694</td>\n",
       "      <td>1.198</td>\n",
       "      <td>0</td>\n",
       "      <td>NBA011</td>\n",
       "      <td>4.4</td>\n",
       "      <td>3</td>\n",
       "    </tr>\n",
       "    <tr>\n",
       "      <th>846</th>\n",
       "      <td>27</td>\n",
       "      <td>1</td>\n",
       "      <td>5</td>\n",
       "      <td>26</td>\n",
       "      <td>0.548</td>\n",
       "      <td>1.220</td>\n",
       "      <td>0</td>\n",
       "      <td>NBA007</td>\n",
       "      <td>6.8</td>\n",
       "      <td>3</td>\n",
       "    </tr>\n",
       "    <tr>\n",
       "      <th>849</th>\n",
       "      <td>32</td>\n",
       "      <td>1</td>\n",
       "      <td>12</td>\n",
       "      <td>28</td>\n",
       "      <td>0.116</td>\n",
       "      <td>0.696</td>\n",
       "      <td>0</td>\n",
       "      <td>NBA012</td>\n",
       "      <td>2.9</td>\n",
       "      <td>3</td>\n",
       "    </tr>\n",
       "    <tr>\n",
       "      <th>850</th>\n",
       "      <td>52</td>\n",
       "      <td>1</td>\n",
       "      <td>16</td>\n",
       "      <td>64</td>\n",
       "      <td>1.866</td>\n",
       "      <td>3.638</td>\n",
       "      <td>0</td>\n",
       "      <td>NBA025</td>\n",
       "      <td>8.6</td>\n",
       "      <td>3</td>\n",
       "    </tr>\n",
       "  </tbody>\n",
       "</table>\n",
       "<p>381 rows × 10 columns</p>\n",
       "</div>"
      ],
      "text/plain": [
       "             Age  Edu  Years Employed  Income  Card Debt  Other Debt  \\\n",
       "Customer Id                                                            \n",
       "2             47    1              26     100      4.582       8.218   \n",
       "5             47    1              31     253      9.308       8.908   \n",
       "6             40    1              23      81      0.998       7.831   \n",
       "9             26    1               5      18      0.575       2.215   \n",
       "13            24    1               7      18      0.526       0.643   \n",
       "...          ...  ...             ...     ...        ...         ...   \n",
       "843           32    1              14      36      0.273       0.591   \n",
       "845           41    1               7      43      0.694       1.198   \n",
       "846           27    1               5      26      0.548       1.220   \n",
       "849           32    1              12      28      0.116       0.696   \n",
       "850           52    1              16      64      1.866       3.638   \n",
       "\n",
       "             Defaulted Address  DebtIncomeRatio  Cluster  \n",
       "Customer Id                                               \n",
       "2                    0  NBA021             12.8        3  \n",
       "5                    0  NBA008              7.2        3  \n",
       "6                    0  NBA016             10.9        3  \n",
       "9                    0  NBA006             15.5        3  \n",
       "13                   0  NBA000              6.5        3  \n",
       "...                ...     ...              ...      ...  \n",
       "843                  0  NBA000              2.4        3  \n",
       "845                  0  NBA011              4.4        3  \n",
       "846                  0  NBA007              6.8        3  \n",
       "849                  0  NBA012              2.9        3  \n",
       "850                  0  NBA025              8.6        3  \n",
       "\n",
       "[381 rows x 10 columns]"
      ]
     },
     "metadata": {},
     "output_type": "display_data"
    },
    {
     "data": {
      "text/html": [
       "<div>\n",
       "<style scoped>\n",
       "    .dataframe tbody tr th:only-of-type {\n",
       "        vertical-align: middle;\n",
       "    }\n",
       "\n",
       "    .dataframe tbody tr th {\n",
       "        vertical-align: top;\n",
       "    }\n",
       "\n",
       "    .dataframe thead th {\n",
       "        text-align: right;\n",
       "    }\n",
       "</style>\n",
       "<table border=\"1\" class=\"dataframe\">\n",
       "  <thead>\n",
       "    <tr style=\"text-align: right;\">\n",
       "      <th></th>\n",
       "      <th>Age</th>\n",
       "      <th>Edu</th>\n",
       "      <th>Years Employed</th>\n",
       "      <th>Income</th>\n",
       "      <th>Card Debt</th>\n",
       "      <th>Other Debt</th>\n",
       "      <th>Defaulted</th>\n",
       "      <th>DebtIncomeRatio</th>\n",
       "      <th>Cluster</th>\n",
       "    </tr>\n",
       "  </thead>\n",
       "  <tbody>\n",
       "    <tr>\n",
       "      <th>count</th>\n",
       "      <td>381.000000</td>\n",
       "      <td>381.0</td>\n",
       "      <td>381.000000</td>\n",
       "      <td>381.000000</td>\n",
       "      <td>381.000000</td>\n",
       "      <td>381.000000</td>\n",
       "      <td>381.0</td>\n",
       "      <td>381.000000</td>\n",
       "      <td>381.0</td>\n",
       "    </tr>\n",
       "    <tr>\n",
       "      <th>mean</th>\n",
       "      <td>35.553806</td>\n",
       "      <td>1.0</td>\n",
       "      <td>10.188976</td>\n",
       "      <td>42.519685</td>\n",
       "      <td>1.248325</td>\n",
       "      <td>2.637367</td>\n",
       "      <td>0.0</td>\n",
       "      <td>9.098950</td>\n",
       "      <td>3.0</td>\n",
       "    </tr>\n",
       "    <tr>\n",
       "      <th>std</th>\n",
       "      <td>7.639948</td>\n",
       "      <td>0.0</td>\n",
       "      <td>6.984644</td>\n",
       "      <td>33.463378</td>\n",
       "      <td>1.565625</td>\n",
       "      <td>3.006015</td>\n",
       "      <td>0.0</td>\n",
       "      <td>5.843872</td>\n",
       "      <td>0.0</td>\n",
       "    </tr>\n",
       "    <tr>\n",
       "      <th>min</th>\n",
       "      <td>21.000000</td>\n",
       "      <td>1.0</td>\n",
       "      <td>0.000000</td>\n",
       "      <td>13.000000</td>\n",
       "      <td>0.012000</td>\n",
       "      <td>0.046000</td>\n",
       "      <td>0.0</td>\n",
       "      <td>0.400000</td>\n",
       "      <td>3.0</td>\n",
       "    </tr>\n",
       "    <tr>\n",
       "      <th>25%</th>\n",
       "      <td>30.000000</td>\n",
       "      <td>1.0</td>\n",
       "      <td>4.000000</td>\n",
       "      <td>23.000000</td>\n",
       "      <td>0.304000</td>\n",
       "      <td>0.993000</td>\n",
       "      <td>0.0</td>\n",
       "      <td>4.900000</td>\n",
       "      <td>3.0</td>\n",
       "    </tr>\n",
       "    <tr>\n",
       "      <th>50%</th>\n",
       "      <td>35.000000</td>\n",
       "      <td>1.0</td>\n",
       "      <td>9.000000</td>\n",
       "      <td>33.000000</td>\n",
       "      <td>0.764000</td>\n",
       "      <td>1.778000</td>\n",
       "      <td>0.0</td>\n",
       "      <td>7.900000</td>\n",
       "      <td>3.0</td>\n",
       "    </tr>\n",
       "    <tr>\n",
       "      <th>75%</th>\n",
       "      <td>41.000000</td>\n",
       "      <td>1.0</td>\n",
       "      <td>15.000000</td>\n",
       "      <td>50.000000</td>\n",
       "      <td>1.474000</td>\n",
       "      <td>3.021000</td>\n",
       "      <td>0.0</td>\n",
       "      <td>12.000000</td>\n",
       "      <td>3.0</td>\n",
       "    </tr>\n",
       "    <tr>\n",
       "      <th>max</th>\n",
       "      <td>56.000000</td>\n",
       "      <td>1.0</td>\n",
       "      <td>33.000000</td>\n",
       "      <td>324.000000</td>\n",
       "      <td>13.553000</td>\n",
       "      <td>35.197000</td>\n",
       "      <td>0.0</td>\n",
       "      <td>32.500000</td>\n",
       "      <td>3.0</td>\n",
       "    </tr>\n",
       "  </tbody>\n",
       "</table>\n",
       "</div>"
      ],
      "text/plain": [
       "              Age    Edu  Years Employed      Income   Card Debt  Other Debt  \\\n",
       "count  381.000000  381.0      381.000000  381.000000  381.000000  381.000000   \n",
       "mean    35.553806    1.0       10.188976   42.519685    1.248325    2.637367   \n",
       "std      7.639948    0.0        6.984644   33.463378    1.565625    3.006015   \n",
       "min     21.000000    1.0        0.000000   13.000000    0.012000    0.046000   \n",
       "25%     30.000000    1.0        4.000000   23.000000    0.304000    0.993000   \n",
       "50%     35.000000    1.0        9.000000   33.000000    0.764000    1.778000   \n",
       "75%     41.000000    1.0       15.000000   50.000000    1.474000    3.021000   \n",
       "max     56.000000    1.0       33.000000  324.000000   13.553000   35.197000   \n",
       "\n",
       "       Defaulted  DebtIncomeRatio  Cluster  \n",
       "count      381.0       381.000000    381.0  \n",
       "mean         0.0         9.098950      3.0  \n",
       "std          0.0         5.843872      0.0  \n",
       "min          0.0         0.400000      3.0  \n",
       "25%          0.0         4.900000      3.0  \n",
       "50%          0.0         7.900000      3.0  \n",
       "75%          0.0        12.000000      3.0  \n",
       "max          0.0        32.500000      3.0  "
      ]
     },
     "metadata": {},
     "output_type": "display_data"
    },
    {
     "name": "stdout",
     "output_type": "stream",
     "text": [
      "\n",
      " ================================================== \n",
      "\n"
     ]
    }
   ],
   "source": [
    "df_clusters = {}\n",
    "cluster_examples = pd.DataFrame()\n",
    "\n",
    "for c in clusters:\n",
    "    print(f\"Cluster = {c}\")\n",
    "\n",
    "    df_c = df[df.Cluster == c]\n",
    "    df_clusters[c] = df_c\n",
    "\n",
    "    middle_row_index = int(len(df_c) * 0.75)\n",
    "    cluster_examples = cluster_examples.append(df_c.iloc[middle_row_index])\n",
    "\n",
    "    display(df_c)\n",
    "    display(df_c.describe())\n",
    "\n",
    "    print(\"\\n\", \"=\" * 50, \"\\n\")"
   ]
  },
  {
   "cell_type": "markdown",
   "metadata": {},
   "source": [
    "### 3-D PCA"
   ]
  },
  {
   "cell_type": "code",
   "execution_count": 42,
   "metadata": {
    "collapsed": false,
    "jupyter": {
     "outputs_hidden": false
    },
    "pycharm": {
     "name": "#%%\n"
    }
   },
   "outputs": [
    {
     "data": {
      "application/vnd.jupyter.widget-view+json": {
       "model_id": "493788d658f84552b83a7b90589fa6ae",
       "version_major": 2,
       "version_minor": 0
      },
      "text/plain": [
       "Canvas(toolbar=Toolbar(toolitems=[('Home', 'Reset original view', 'home', 'home'), ('Back', 'Back to previous …"
      ]
     },
     "metadata": {},
     "output_type": "display_data"
    },
    {
     "data": {
      "text/plain": [
       "<mpl_toolkits.mplot3d.art3d.Path3DCollection at 0x7efbd84209a0>"
      ]
     },
     "execution_count": 42,
     "metadata": {},
     "output_type": "execute_result"
    }
   ],
   "source": [
    "%matplotlib widget\n",
    "from mpl_toolkits.mplot3d.axes3d import Axes3D\n",
    "\n",
    "fig = plt.figure(figsize=(5, 5))\n",
    "ax = Axes3D(fig, azim=-75, elev=20)\n",
    "\n",
    "ax.scatter(df_pca_3[0], df_pca_3[1], df_pca_3[2], c=labels, alpha=0.4, s=80, cmap=cmap)"
   ]
  },
  {
   "cell_type": "code",
   "execution_count": 31,
   "metadata": {
    "collapsed": false,
    "jupyter": {
     "outputs_hidden": false
    },
    "pycharm": {
     "name": "#%%\n"
    }
   },
   "outputs": [],
   "source": [
    "%matplotlib inline"
   ]
  },
  {
   "cell_type": "markdown",
   "metadata": {},
   "source": [
    "### 3-D UMAP"
   ]
  },
  {
   "cell_type": "code",
   "execution_count": 41,
   "metadata": {
    "collapsed": false,
    "jupyter": {
     "outputs_hidden": false
    },
    "pycharm": {
     "name": "#%%\n"
    }
   },
   "outputs": [
    {
     "data": {
      "application/vnd.jupyter.widget-view+json": {
       "model_id": "b7aedc04deb1488bbd2189d39acce903",
       "version_major": 2,
       "version_minor": 0
      },
      "text/plain": [
       "Canvas(toolbar=Toolbar(toolitems=[('Home', 'Reset original view', 'home', 'home'), ('Back', 'Back to previous …"
      ]
     },
     "metadata": {},
     "output_type": "display_data"
    },
    {
     "data": {
      "text/plain": [
       "<mpl_toolkits.mplot3d.art3d.Path3DCollection at 0x7efbd9d7adf0>"
      ]
     },
     "execution_count": 41,
     "metadata": {},
     "output_type": "execute_result"
    }
   ],
   "source": [
    "%matplotlib widget\n",
    "\n",
    "from mpl_toolkits.mplot3d.axes3d import Axes3D\n",
    "\n",
    "fig = plt.figure(figsize=(5, 5))\n",
    "ax = Axes3D(fig, azim=-50, elev=30)\n",
    "\n",
    "ax.scatter(\n",
    "    df_umap_3[0], df_umap_3[1], df_umap_3[2], c=labels, alpha=0.4, s=80, cmap=cmap\n",
    ")"
   ]
  },
  {
   "cell_type": "code",
   "execution_count": 33,
   "metadata": {
    "collapsed": false,
    "jupyter": {
     "outputs_hidden": false
    },
    "pycharm": {
     "name": "#%%\n"
    }
   },
   "outputs": [],
   "source": [
    "%matplotlib inline"
   ]
  },
  {
   "cell_type": "markdown",
   "metadata": {},
   "source": [
    "### 2-D: `Edu` / `Defaulted` / `Income`"
   ]
  },
  {
   "cell_type": "code",
   "execution_count": 34,
   "metadata": {},
   "outputs": [
    {
     "data": {
      "text/plain": [
       "<matplotlib.legend.Legend at 0x7efbe9cf91c0>"
      ]
     },
     "execution_count": 34,
     "metadata": {},
     "output_type": "execute_result"
    },
    {
     "data": {
      "image/png": "[encoded data removed]",
      "text/plain": [
       "<Figure size 720x216 with 1 Axes>"
      ]
     },
     "metadata": {
      "needs_background": "light"
     },
     "output_type": "display_data"
    }
   ],
   "source": [
    "fig, ax = plt.subplots(figsize=(10, 3))\n",
    "\n",
    "sns.scatterplot(\n",
    "    x=df.Edu,\n",
    "    y=df.Defaulted,\n",
    "    size=df.Income,\n",
    "    sizes=(10, 450),\n",
    "    hue=df.Cluster,\n",
    "    alpha=0.4,\n",
    "    palette=cmap,\n",
    "    ax=ax,\n",
    ")\n",
    "\n",
    "ax.xaxis.set_major_locator(ticker.MultipleLocator(1))\n",
    "ax.yaxis.set_major_locator(ticker.MultipleLocator(1))\n",
    "\n",
    "plt.legend(bbox_to_anchor=(1.05, 1), loc=2, borderaxespad=0.0)"
   ]
  },
  {
   "cell_type": "markdown",
   "metadata": {},
   "source": [
    "### 2-D: `Edu` / `Years Employed` / `Defaulted`"
   ]
  },
  {
   "cell_type": "code",
   "execution_count": 35,
   "metadata": {},
   "outputs": [
    {
     "data": {
      "text/plain": [
       "<matplotlib.legend.Legend at 0x7efbeb238c10>"
      ]
     },
     "execution_count": 35,
     "metadata": {},
     "output_type": "execute_result"
    },
    {
     "data": {
      "image/png": "[encoded data removed]",
      "text/plain": [
       "<Figure size 360x720 with 1 Axes>"
      ]
     },
     "metadata": {
      "needs_background": "light"
     },
     "output_type": "display_data"
    }
   ],
   "source": [
    "fig, ax = plt.subplots(figsize=(5, 10))\n",
    "\n",
    "sns.scatterplot(\n",
    "    x=df.Edu,\n",
    "    y=df[\"Years Employed\"],  # df.Defaulted,\n",
    "    size=df.Defaulted,\n",
    "    sizes=(500, 100),\n",
    "    hue=df.Cluster,\n",
    "    alpha=0.4,\n",
    "    palette=cmap,\n",
    "    ax=ax,\n",
    ")\n",
    "\n",
    "ax.xaxis.set_major_locator(ticker.MultipleLocator(1))\n",
    "ax.yaxis.set_major_locator(ticker.MultipleLocator(1))\n",
    "\n",
    "plt.legend(bbox_to_anchor=(1.05, 1), loc=2, borderaxespad=0.0)"
   ]
  },
  {
   "cell_type": "markdown",
   "metadata": {},
   "source": [
    "### 3-D"
   ]
  },
  {
   "cell_type": "code",
   "execution_count": 36,
   "metadata": {},
   "outputs": [],
   "source": [
    "cluster_examples[\"Cluster\"] = cluster_examples.Cluster.astype(int)"
   ]
  },
  {
   "cell_type": "code",
   "execution_count": 37,
   "metadata": {},
   "outputs": [
    {
     "data": {
      "text/html": [
       "<div>\n",
       "<style scoped>\n",
       "    .dataframe tbody tr th:only-of-type {\n",
       "        vertical-align: middle;\n",
       "    }\n",
       "\n",
       "    .dataframe tbody tr th {\n",
       "        vertical-align: top;\n",
       "    }\n",
       "\n",
       "    .dataframe thead th {\n",
       "        text-align: right;\n",
       "    }\n",
       "</style>\n",
       "<table border=\"1\" class=\"dataframe\">\n",
       "  <thead>\n",
       "    <tr style=\"text-align: right;\">\n",
       "      <th></th>\n",
       "      <th>Address</th>\n",
       "      <th>Age</th>\n",
       "      <th>Card Debt</th>\n",
       "      <th>Cluster</th>\n",
       "      <th>DebtIncomeRatio</th>\n",
       "      <th>Defaulted</th>\n",
       "      <th>Edu</th>\n",
       "      <th>Income</th>\n",
       "      <th>Other Debt</th>\n",
       "      <th>Years Employed</th>\n",
       "    </tr>\n",
       "  </thead>\n",
       "  <tbody>\n",
       "    <tr>\n",
       "      <th>671</th>\n",
       "      <td>NBA011</td>\n",
       "      <td>53.0</td>\n",
       "      <td>1.875</td>\n",
       "      <td>0</td>\n",
       "      <td>7.9</td>\n",
       "      <td>0.0</td>\n",
       "      <td>4.0</td>\n",
       "      <td>61.0</td>\n",
       "      <td>2.944</td>\n",
       "      <td>7.0</td>\n",
       "    </tr>\n",
       "    <tr>\n",
       "      <th>579</th>\n",
       "      <td>NBA003</td>\n",
       "      <td>24.0</td>\n",
       "      <td>0.888</td>\n",
       "      <td>1</td>\n",
       "      <td>9.7</td>\n",
       "      <td>1.0</td>\n",
       "      <td>2.0</td>\n",
       "      <td>26.0</td>\n",
       "      <td>1.634</td>\n",
       "      <td>2.0</td>\n",
       "    </tr>\n",
       "    <tr>\n",
       "      <th>632</th>\n",
       "      <td>NBA000</td>\n",
       "      <td>36.0</td>\n",
       "      <td>0.815</td>\n",
       "      <td>2</td>\n",
       "      <td>11.2</td>\n",
       "      <td>1.0</td>\n",
       "      <td>1.0</td>\n",
       "      <td>28.0</td>\n",
       "      <td>2.321</td>\n",
       "      <td>10.0</td>\n",
       "    </tr>\n",
       "    <tr>\n",
       "      <th>635</th>\n",
       "      <td>NBA019</td>\n",
       "      <td>47.0</td>\n",
       "      <td>5.821</td>\n",
       "      <td>3</td>\n",
       "      <td>12.6</td>\n",
       "      <td>0.0</td>\n",
       "      <td>1.0</td>\n",
       "      <td>110.0</td>\n",
       "      <td>8.039</td>\n",
       "      <td>16.0</td>\n",
       "    </tr>\n",
       "  </tbody>\n",
       "</table>\n",
       "</div>"
      ],
      "text/plain": [
       "    Address   Age  Card Debt  Cluster  DebtIncomeRatio  Defaulted  Edu  \\\n",
       "671  NBA011  53.0      1.875        0              7.9        0.0  4.0   \n",
       "579  NBA003  24.0      0.888        1              9.7        1.0  2.0   \n",
       "632  NBA000  36.0      0.815        2             11.2        1.0  1.0   \n",
       "635  NBA019  47.0      5.821        3             12.6        0.0  1.0   \n",
       "\n",
       "     Income  Other Debt  Years Employed  \n",
       "671    61.0       2.944             7.0  \n",
       "579    26.0       1.634             2.0  \n",
       "632    28.0       2.321            10.0  \n",
       "635   110.0       8.039            16.0  "
      ]
     },
     "execution_count": 37,
     "metadata": {},
     "output_type": "execute_result"
    }
   ],
   "source": [
    "cluster_examples"
   ]
  },
  {
   "cell_type": "code",
   "execution_count": 40,
   "metadata": {
    "collapsed": false,
    "jupyter": {
     "outputs_hidden": false
    },
    "pycharm": {
     "name": "#%%\n"
    }
   },
   "outputs": [
    {
     "data": {
      "application/vnd.jupyter.widget-view+json": {
       "model_id": "e7618e56dcd7454f9107f7626118e85f",
       "version_major": 2,
       "version_minor": 0
      },
      "text/plain": [
       "Canvas(toolbar=Toolbar(toolitems=[('Home', 'Reset original view', 'home', 'home'), ('Back', 'Back to previous …"
      ]
     },
     "metadata": {},
     "output_type": "display_data"
    }
   ],
   "source": [
    "%matplotlib widget\n",
    "from mpl_toolkits.mplot3d.axes3d import Axes3D\n",
    "\n",
    "fig = plt.figure(figsize=(5, 5))\n",
    "ax = Axes3D(fig, azim=-40, elev=-150)\n",
    "\n",
    "\n",
    "ax.scatter(\n",
    "    df.Edu, df.Defaulted, df[\"Years Employed\"], c=df.Cluster, alpha=0.4, s=80, cmap=cmap\n",
    ")\n",
    "\n",
    "ax.set_xlabel(\"Education\")\n",
    "ax.set_ylabel(\"Defaulted\")\n",
    "ax.set_zlabel(\"Years Employed\")\n",
    "\n",
    "norm = BoundaryNorm(clusters, cmap.N - 1)\n",
    "\n",
    "for index, row in cluster_examples.iterrows():\n",
    "    ax.scatter(\n",
    "        row.Edu,\n",
    "        row.Defaulted + 0.1,\n",
    "        row[\"Years Employed\"],\n",
    "        c=row.Cluster,\n",
    "        marker=f\"${row.Cluster:1.0f}$\",\n",
    "        alpha=1,\n",
    "        s=500,\n",
    "        edgecolor=\"gray\",\n",
    "        norm=norm,\n",
    "        cmap=cmap,\n",
    "    )"
   ]
  },
  {
   "cell_type": "code",
   "execution_count": 39,
   "metadata": {
    "collapsed": false,
    "jupyter": {
     "outputs_hidden": false
    },
    "pycharm": {
     "name": "#%%\n"
    }
   },
   "outputs": [],
   "source": [
    "%matplotlib inline"
   ]
  }
 ],
 "metadata": {
  "kernelspec": {
   "display_name": "Python [conda env:LevelUp_DataScience] *",
   "language": "python",
   "name": "conda-env-LevelUp_DataScience-py"
  },
  "language_info": {
   "codemirror_mode": {
    "name": "ipython",
    "version": 3
   },
   "file_extension": ".py",
   "mimetype": "text/x-python",
   "name": "python",
   "nbconvert_exporter": "python",
   "pygments_lexer": "ipython3",
   "version": "3.8.3"
  }
 },
 "nbformat": 4,
 "nbformat_minor": 4
}
