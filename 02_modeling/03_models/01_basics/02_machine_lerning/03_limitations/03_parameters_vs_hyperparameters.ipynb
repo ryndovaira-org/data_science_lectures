{
 "cells": [
  {
   "cell_type": "markdown",
   "id": "3f24f3a0-7cbd-460f-bb82-9b34342506e4",
   "metadata": {},
   "source": [
    "# "
   ]
  },
  {
   "cell_type": "markdown",
   "id": "baf9b2d8-9a9e-4f44-bc43-500782d4a70d",
   "metadata": {
    "jupyter": {
     "outputs_hidden": true
    }
   },
   "source": [
    "# Pipeline (Конвейер) & Hyper-parameters (Гиперпараметры)"
   ]
  },
  {
   "cell_type": "markdown",
   "id": "6ebf02d2-1caf-4fe0-9800-f1ce357a2862",
   "metadata": {},
   "source": [
    "---\n",
    "\n",
    "**Источники:**\n",
    "\n",
    "[Step by Step Tutorial of Sci-kit Learn Pipeline](https://towardsdatascience.com/step-by-step-tutorial-of-sci-kit-learn-pipeline-62402d5629b6)\n",
    "\n",
    "[Hyperparameter (machine learning)](https://en.wikipedia.org/wiki/Hyperparameter_(machine_learning))\n",
    "\n",
    "[How to Calculate Feature Importance With Python](https://machinelearningmastery.com/calculate-feature-importance-with-python/)\n",
    "\n",
    "[Putting it all together](https://scikit-learn.org/stable/tutorial/statistical_inference/putting_together.html)\n",
    "\n",
    "[Are you using Pipeline in Scikit-Learn?](https://towardsdatascience.com/are-you-using-pipeline-in-scikit-learn-ac4cd85cb27f)\n",
    "\n",
    "[How to Transform Target Variables for Regression in Python](https://machinelearningmastery.com/how-to-transform-target-variables-for-regression-with-scikit-learn/)\n",
    "\n",
    "[A Simple Guide to Scikit-learn Pipelines](https://medium.com/vickdata/a-simple-guide-to-scikit-learn-pipelines-4ac0d974bdcf)\n",
    "\n",
    "[Removing Outliers within a Pipeline](https://www.kaggle.com/jonaspalucibarbosa/removing-outliers-within-a-pipeline)\n",
    "\n",
    "[How to Use the ColumnTransformer for Data Preparation](https://machinelearningmastery.com/columntransformer-for-numerical-and-categorical-data/)\n",
    "\n",
    "[Machine Learning — How to Save and Load scikit-learn Models](https://medium.datadriveninvestor.com/machine-learning-how-to-save-and-load-scikit-learn-models-d7b99bc32c27)\n",
    "\n",
    "[Machine Learning Pipeline](https://zhangruochi.com/Machine-Learning-Pipeline/2020/04/13/)\n",
    "\n",
    "[From pandas to scikit-learn - An Exciting New Workflow](https://www.dunderdata.com/blog/from-pandas-to-scikit-learn-an-exciting-new-worflow)\n",
    "\n",
    "[Column Transformer with Mixed Types](https://scikit-learn.org/stable/auto_examples/compose/plot_column_transformer_mixed_types.html)\n",
    "\n",
    "---"
   ]
  },
  {
   "cell_type": "code",
   "execution_count": null,
   "id": "5c3076ba-79b5-420b-9f01-12cbbcace881",
   "metadata": {
    "collapsed": false,
    "jupyter": {
     "outputs_hidden": false
    },
    "pycharm": {
     "name": "#%%\n"
    }
   },
   "outputs": [],
   "source": [
    "# ВНИМАНИЕ: необходимо удостовериться, что виртуальная среда выбрана правильно!\n",
    "\n",
    "# Для MacOS/Ubuntu\n",
    "# !which pip\n",
    "\n",
    "# Для Windows\n",
    "# !where pip"
   ]
  },
  {
   "cell_type": "code",
   "execution_count": null,
   "id": "85754655-49cb-4a0c-a457-e6cb063c7356",
   "metadata": {
    "collapsed": false,
    "jupyter": {
     "outputs_hidden": false
    },
    "pycharm": {
     "name": "#%%\n"
    }
   },
   "outputs": [],
   "source": [
    "# !conda install pandas numpy scikit-learn -y"
   ]
  },
  {
   "cell_type": "code",
   "execution_count": 3,
   "id": "13db8253-241e-4f11-abd8-93a44862ae0a",
   "metadata": {
    "collapsed": false,
    "jupyter": {
     "outputs_hidden": false
    },
    "pycharm": {
     "name": "#%%\n"
    }
   },
   "outputs": [
    {
     "data": {
      "text/plain": [
       "'1.19.2'"
      ]
     },
     "execution_count": 3,
     "metadata": {},
     "output_type": "execute_result"
    }
   ],
   "source": [
    "import numpy as np\n",
    "\n",
    "np.__version__"
   ]
  },
  {
   "cell_type": "code",
   "execution_count": 4,
   "id": "4f75c8f6-b847-4ef9-9d71-cd1a97a2d757",
   "metadata": {
    "collapsed": false,
    "jupyter": {
     "outputs_hidden": false
    },
    "pycharm": {
     "name": "#%%\n"
    }
   },
   "outputs": [
    {
     "data": {
      "text/plain": [
       "'1.2.3'"
      ]
     },
     "execution_count": 4,
     "metadata": {},
     "output_type": "execute_result"
    }
   ],
   "source": [
    "import pandas as pd\n",
    "\n",
    "pd.__version__"
   ]
  },
  {
   "cell_type": "code",
   "execution_count": 5,
   "id": "31e0d101-bb7b-4744-bebb-01e8a8b8a1a0",
   "metadata": {
    "collapsed": false,
    "jupyter": {
     "outputs_hidden": false
    },
    "pycharm": {
     "name": "#%%\n"
    }
   },
   "outputs": [
    {
     "data": {
      "text/plain": [
       "'0.24.1'"
      ]
     },
     "execution_count": 5,
     "metadata": {},
     "output_type": "execute_result"
    }
   ],
   "source": [
    "import sklearn\n",
    "\n",
    "sklearn.__version__"
   ]
  },
  {
   "cell_type": "markdown",
   "id": "8895b0ab-6d19-4e72-92f7-508071d4f8bd",
   "metadata": {},
   "source": [
    "## Загрузка данных\n",
    "\n",
    "[Источник (Bike Share Daily Data)](https://www.kaggle.com/contactprad/bike-share-daily-data)."
   ]
  },
  {
   "cell_type": "code",
   "execution_count": 6,
   "id": "ab20b0b9-9f0d-405d-9ad4-c9ec16cc7b80",
   "metadata": {},
   "outputs": [
    {
     "data": {
      "text/html": [
       "<div>\n",
       "<style scoped>\n",
       "    .dataframe tbody tr th:only-of-type {\n",
       "        vertical-align: middle;\n",
       "    }\n",
       "\n",
       "    .dataframe tbody tr th {\n",
       "        vertical-align: top;\n",
       "    }\n",
       "\n",
       "    .dataframe thead th {\n",
       "        text-align: right;\n",
       "    }\n",
       "</style>\n",
       "<table border=\"1\" class=\"dataframe\">\n",
       "  <thead>\n",
       "    <tr style=\"text-align: right;\">\n",
       "      <th></th>\n",
       "      <th>dteday</th>\n",
       "      <th>season</th>\n",
       "      <th>yr</th>\n",
       "      <th>mnth</th>\n",
       "      <th>holiday</th>\n",
       "      <th>weekday</th>\n",
       "      <th>workingday</th>\n",
       "      <th>weathersit</th>\n",
       "      <th>temp</th>\n",
       "      <th>atemp</th>\n",
       "      <th>hum</th>\n",
       "      <th>windspeed</th>\n",
       "      <th>casual</th>\n",
       "      <th>registered</th>\n",
       "      <th>cnt</th>\n",
       "    </tr>\n",
       "    <tr>\n",
       "      <th>instant</th>\n",
       "      <th></th>\n",
       "      <th></th>\n",
       "      <th></th>\n",
       "      <th></th>\n",
       "      <th></th>\n",
       "      <th></th>\n",
       "      <th></th>\n",
       "      <th></th>\n",
       "      <th></th>\n",
       "      <th></th>\n",
       "      <th></th>\n",
       "      <th></th>\n",
       "      <th></th>\n",
       "      <th></th>\n",
       "      <th></th>\n",
       "    </tr>\n",
       "  </thead>\n",
       "  <tbody>\n",
       "    <tr>\n",
       "      <th>1</th>\n",
       "      <td>2011-01-01</td>\n",
       "      <td>1</td>\n",
       "      <td>0</td>\n",
       "      <td>1</td>\n",
       "      <td>0</td>\n",
       "      <td>6</td>\n",
       "      <td>0</td>\n",
       "      <td>2</td>\n",
       "      <td>0.344167</td>\n",
       "      <td>0.363625</td>\n",
       "      <td>0.805833</td>\n",
       "      <td>0.160446</td>\n",
       "      <td>331</td>\n",
       "      <td>654</td>\n",
       "      <td>985</td>\n",
       "    </tr>\n",
       "    <tr>\n",
       "      <th>2</th>\n",
       "      <td>2011-01-02</td>\n",
       "      <td>1</td>\n",
       "      <td>0</td>\n",
       "      <td>1</td>\n",
       "      <td>0</td>\n",
       "      <td>0</td>\n",
       "      <td>0</td>\n",
       "      <td>2</td>\n",
       "      <td>0.363478</td>\n",
       "      <td>0.353739</td>\n",
       "      <td>0.696087</td>\n",
       "      <td>0.248539</td>\n",
       "      <td>131</td>\n",
       "      <td>670</td>\n",
       "      <td>801</td>\n",
       "    </tr>\n",
       "    <tr>\n",
       "      <th>3</th>\n",
       "      <td>2011-01-03</td>\n",
       "      <td>1</td>\n",
       "      <td>0</td>\n",
       "      <td>1</td>\n",
       "      <td>0</td>\n",
       "      <td>1</td>\n",
       "      <td>1</td>\n",
       "      <td>1</td>\n",
       "      <td>0.196364</td>\n",
       "      <td>0.189405</td>\n",
       "      <td>0.437273</td>\n",
       "      <td>0.248309</td>\n",
       "      <td>120</td>\n",
       "      <td>1229</td>\n",
       "      <td>1349</td>\n",
       "    </tr>\n",
       "    <tr>\n",
       "      <th>4</th>\n",
       "      <td>2011-01-04</td>\n",
       "      <td>1</td>\n",
       "      <td>0</td>\n",
       "      <td>1</td>\n",
       "      <td>0</td>\n",
       "      <td>2</td>\n",
       "      <td>1</td>\n",
       "      <td>1</td>\n",
       "      <td>0.200000</td>\n",
       "      <td>0.212122</td>\n",
       "      <td>0.590435</td>\n",
       "      <td>0.160296</td>\n",
       "      <td>108</td>\n",
       "      <td>1454</td>\n",
       "      <td>1562</td>\n",
       "    </tr>\n",
       "    <tr>\n",
       "      <th>5</th>\n",
       "      <td>2011-01-05</td>\n",
       "      <td>1</td>\n",
       "      <td>0</td>\n",
       "      <td>1</td>\n",
       "      <td>0</td>\n",
       "      <td>3</td>\n",
       "      <td>1</td>\n",
       "      <td>1</td>\n",
       "      <td>0.226957</td>\n",
       "      <td>0.229270</td>\n",
       "      <td>0.436957</td>\n",
       "      <td>0.186900</td>\n",
       "      <td>82</td>\n",
       "      <td>1518</td>\n",
       "      <td>1600</td>\n",
       "    </tr>\n",
       "    <tr>\n",
       "      <th>...</th>\n",
       "      <td>...</td>\n",
       "      <td>...</td>\n",
       "      <td>...</td>\n",
       "      <td>...</td>\n",
       "      <td>...</td>\n",
       "      <td>...</td>\n",
       "      <td>...</td>\n",
       "      <td>...</td>\n",
       "      <td>...</td>\n",
       "      <td>...</td>\n",
       "      <td>...</td>\n",
       "      <td>...</td>\n",
       "      <td>...</td>\n",
       "      <td>...</td>\n",
       "      <td>...</td>\n",
       "    </tr>\n",
       "    <tr>\n",
       "      <th>727</th>\n",
       "      <td>2012-12-27</td>\n",
       "      <td>1</td>\n",
       "      <td>1</td>\n",
       "      <td>12</td>\n",
       "      <td>0</td>\n",
       "      <td>4</td>\n",
       "      <td>1</td>\n",
       "      <td>2</td>\n",
       "      <td>0.254167</td>\n",
       "      <td>0.226642</td>\n",
       "      <td>0.652917</td>\n",
       "      <td>0.350133</td>\n",
       "      <td>247</td>\n",
       "      <td>1867</td>\n",
       "      <td>2114</td>\n",
       "    </tr>\n",
       "    <tr>\n",
       "      <th>728</th>\n",
       "      <td>2012-12-28</td>\n",
       "      <td>1</td>\n",
       "      <td>1</td>\n",
       "      <td>12</td>\n",
       "      <td>0</td>\n",
       "      <td>5</td>\n",
       "      <td>1</td>\n",
       "      <td>2</td>\n",
       "      <td>0.253333</td>\n",
       "      <td>0.255046</td>\n",
       "      <td>0.590000</td>\n",
       "      <td>0.155471</td>\n",
       "      <td>644</td>\n",
       "      <td>2451</td>\n",
       "      <td>3095</td>\n",
       "    </tr>\n",
       "    <tr>\n",
       "      <th>729</th>\n",
       "      <td>2012-12-29</td>\n",
       "      <td>1</td>\n",
       "      <td>1</td>\n",
       "      <td>12</td>\n",
       "      <td>0</td>\n",
       "      <td>6</td>\n",
       "      <td>0</td>\n",
       "      <td>2</td>\n",
       "      <td>0.253333</td>\n",
       "      <td>0.242400</td>\n",
       "      <td>0.752917</td>\n",
       "      <td>0.124383</td>\n",
       "      <td>159</td>\n",
       "      <td>1182</td>\n",
       "      <td>1341</td>\n",
       "    </tr>\n",
       "    <tr>\n",
       "      <th>730</th>\n",
       "      <td>2012-12-30</td>\n",
       "      <td>1</td>\n",
       "      <td>1</td>\n",
       "      <td>12</td>\n",
       "      <td>0</td>\n",
       "      <td>0</td>\n",
       "      <td>0</td>\n",
       "      <td>1</td>\n",
       "      <td>0.255833</td>\n",
       "      <td>0.231700</td>\n",
       "      <td>0.483333</td>\n",
       "      <td>0.350754</td>\n",
       "      <td>364</td>\n",
       "      <td>1432</td>\n",
       "      <td>1796</td>\n",
       "    </tr>\n",
       "    <tr>\n",
       "      <th>731</th>\n",
       "      <td>2012-12-31</td>\n",
       "      <td>1</td>\n",
       "      <td>1</td>\n",
       "      <td>12</td>\n",
       "      <td>0</td>\n",
       "      <td>1</td>\n",
       "      <td>1</td>\n",
       "      <td>2</td>\n",
       "      <td>0.215833</td>\n",
       "      <td>0.223487</td>\n",
       "      <td>0.577500</td>\n",
       "      <td>0.154846</td>\n",
       "      <td>439</td>\n",
       "      <td>2290</td>\n",
       "      <td>2729</td>\n",
       "    </tr>\n",
       "  </tbody>\n",
       "</table>\n",
       "<p>731 rows × 15 columns</p>\n",
       "</div>"
      ],
      "text/plain": [
       "             dteday  season  yr  mnth  holiday  weekday  workingday  \\\n",
       "instant                                                               \n",
       "1        2011-01-01       1   0     1        0        6           0   \n",
       "2        2011-01-02       1   0     1        0        0           0   \n",
       "3        2011-01-03       1   0     1        0        1           1   \n",
       "4        2011-01-04       1   0     1        0        2           1   \n",
       "5        2011-01-05       1   0     1        0        3           1   \n",
       "...             ...     ...  ..   ...      ...      ...         ...   \n",
       "727      2012-12-27       1   1    12        0        4           1   \n",
       "728      2012-12-28       1   1    12        0        5           1   \n",
       "729      2012-12-29       1   1    12        0        6           0   \n",
       "730      2012-12-30       1   1    12        0        0           0   \n",
       "731      2012-12-31       1   1    12        0        1           1   \n",
       "\n",
       "         weathersit      temp     atemp       hum  windspeed  casual  \\\n",
       "instant                                                                \n",
       "1                 2  0.344167  0.363625  0.805833   0.160446     331   \n",
       "2                 2  0.363478  0.353739  0.696087   0.248539     131   \n",
       "3                 1  0.196364  0.189405  0.437273   0.248309     120   \n",
       "4                 1  0.200000  0.212122  0.590435   0.160296     108   \n",
       "5                 1  0.226957  0.229270  0.436957   0.186900      82   \n",
       "...             ...       ...       ...       ...        ...     ...   \n",
       "727               2  0.254167  0.226642  0.652917   0.350133     247   \n",
       "728               2  0.253333  0.255046  0.590000   0.155471     644   \n",
       "729               2  0.253333  0.242400  0.752917   0.124383     159   \n",
       "730               1  0.255833  0.231700  0.483333   0.350754     364   \n",
       "731               2  0.215833  0.223487  0.577500   0.154846     439   \n",
       "\n",
       "         registered   cnt  \n",
       "instant                    \n",
       "1               654   985  \n",
       "2               670   801  \n",
       "3              1229  1349  \n",
       "4              1454  1562  \n",
       "5              1518  1600  \n",
       "...             ...   ...  \n",
       "727            1867  2114  \n",
       "728            2451  3095  \n",
       "729            1182  1341  \n",
       "730            1432  1796  \n",
       "731            2290  2729  \n",
       "\n",
       "[731 rows x 15 columns]"
      ]
     },
     "execution_count": 6,
     "metadata": {},
     "output_type": "execute_result"
    }
   ],
   "source": [
    "df = pd.read_csv(\"./../../data/bike_sharing_daily.csv\", index_col=0)\n",
    "df"
   ]
  },
  {
   "cell_type": "code",
   "execution_count": 7,
   "id": "9309a01c-4919-400c-bc95-8c3ab796aa23",
   "metadata": {},
   "outputs": [],
   "source": [
    "from sklearn.model_selection import train_test_split\n",
    "\n",
    "X = df.drop(\"cnt\", axis=1)\n",
    "y = df[\"cnt\"]\n",
    "\n",
    "X_train, X_test, y_train, y_test = train_test_split(\n",
    "    X, y, test_size=0.2, random_state=123\n",
    ")"
   ]
  },
  {
   "cell_type": "markdown",
   "id": "79cb5eba-b932-4b0b-a505-7f0f21ba60f4",
   "metadata": {},
   "source": [
    "## `sklearn.pipeline.Pipeline`\n",
    "\n",
    "[sklearn.pipeline.Pipeline](https://scikit-learn.org/stable/modules/generated/sklearn.pipeline.Pipeline.html)\n",
    "\n",
    "Последовательно применяет список преобразований и окончательную оценку. Промежуточные этапы конвейера должны быть \"преобразованиями\", то есть они должны реализовывать методы подгонки (fit) и преобразования (transform).\n",
    "\n",
    "Окончательному оценщику (final estimator) нужно только реализовать подгонку (fit).\n",
    "\n",
    "**Большинство проектов в области науки о данных требуют определенного уровня очистки и предварительной обработки данных, чтобы максимально использовать модели машинного обучения.**\n",
    "\n",
    "Некоторые распространенные предварительные обработки или преобразования:\n",
    "- Замещение пропущенных значений (Imputing missing values).\n",
    "- Удаление выбросов (Removing outliers).\n",
    "- Нормализация или стандартизация числовых признаков (Normalising or standardising numerical features).\n",
    "- Кодирование категориальных признаков (Encoding categorical features).\n",
    "\n",
    "В пакете `sklearn` есть набор функций, поддерживающих такого рода преобразования, таких как `StandardScaler`, `SimpleImputer` … и т.д.\n",
    "\n",
    "Типичный (упрощенный) рабочий процесс в области науки о данных:\n",
    "- Получить данные для обучения (training data).\n",
    "- Очистить (Clean) / Предобработать (Preprocess) / Преобразовать (Transform) данные.\n",
    "- Обучить (Train) модель машинного обучения.\n",
    "- Оценить (Evaluate) модель.\n",
    "- Оптимизировать (Optimise) модель.\n",
    "- Очистить (Clean) / Предобработать (Preprocess) / Преобразовать (Transform) НОВЫЕ данные.\n",
    "- Подготовить (Fit) модель на новых данных, чтобы делать прогнозы (predictions).\n",
    "\n",
    "Можно заметить, что предварительная обработка данных должна выполняться как минимум дважды в рабочем процессе. Это утомительный и трудоемкий шаг, но хорошая новость в том, что можно автоматизировать этот процесс и применить его ко всем будущим новым наборам данных.\n",
    "\n",
    "С помощью конвейера (`pipeline`) обучения `scikit` можно легко систематизировать процесс и, следовательно, сделать его чрезвычайно воспроизводимым.\n",
    "\n",
    "Основным параметром конвейера (pipeline), над которым нужно работать, являются `steps`.\n",
    "\n",
    "Примерно так должен выглядеть конвейер (pipeline):\n",
    "```\n",
    "Pipeline(steps=[('name_of_preprocessor', preprocessor),\n",
    "                ('name_of_ml_model', ml_model())])\n",
    "```"
   ]
  },
  {
   "cell_type": "markdown",
   "id": "2b9a084a-8697-44c4-9f0e-ec722e1b1bcb",
   "metadata": {},
   "source": [
    "### Preprocessor"
   ]
  },
  {
   "cell_type": "code",
   "execution_count": 8,
   "id": "012ca532-5dfd-4be4-9507-b2e3fea5f063",
   "metadata": {},
   "outputs": [],
   "source": [
    "from sklearn.preprocessing import StandardScaler, OrdinalEncoder\n",
    "from sklearn.impute import SimpleImputer\n",
    "from sklearn.compose import ColumnTransformer\n",
    "from sklearn.pipeline import Pipeline"
   ]
  },
  {
   "cell_type": "markdown",
   "id": "845792e7-7e0b-4b8e-a4e5-787a9a0e64d3",
   "metadata": {},
   "source": [
    "- Нужно определить преобразователи как для числовых, так и для категориальных функций.\n",
    "\n",
    "- Шаг преобразования представлен кортежем. В этом кортеже сначала нужно определить имя преобразователя, а затем функцию, которую хотите применить.\n",
    "\n",
    "- Порядок кортежа будет порядком, в котором конвейер применяет преобразования.\n",
    "\n",
    "\n",
    "Здесь сначала решим проблему с отсутствующими значениями, затем стандартизируем числовые функции и кодируем категориальные функции."
   ]
  },
  {
   "cell_type": "code",
   "execution_count": 9,
   "id": "48641502-e747-4f78-b024-6dc1cd25bcf3",
   "metadata": {},
   "outputs": [],
   "source": [
    "numeric_transformer = Pipeline(\n",
    "    steps=[(\"imputer\", SimpleImputer(strategy=\"mean\")), (\"scaler\", StandardScaler())]\n",
    ")\n",
    "\n",
    "categorical_transformer = Pipeline(\n",
    "    steps=[\n",
    "        (\"imputer\", SimpleImputer(strategy=\"constant\")),\n",
    "        (\"encoder\", OrdinalEncoder()),\n",
    "    ]\n",
    ")"
   ]
  },
  {
   "cell_type": "markdown",
   "id": "fd3a7abd-4325-4e8e-b3cb-d29fded69011",
   "metadata": {},
   "source": [
    "- Следующее, что нужно сделать — это указать, какие столбцы являются числовыми, а какие — категориальными, чтобы соответствующим образом применить преобразователи.\n",
    "\n",
    "- Применяем преобразователи к признакам с помощью `ColumnTransformer`.\n",
    "\n",
    "- Препроцессор — это применение преобразователей к признакам.\n",
    "\n",
    "Как и в случае с конвейером, передаем список кортежей, состоящий из (`name`, `transformer`, `features`), в параметр `transformers`."
   ]
  },
  {
   "cell_type": "code",
   "execution_count": 10,
   "id": "be917790-148b-414d-8890-a1fc8d317dd7",
   "metadata": {},
   "outputs": [],
   "source": [
    "numeric_features = [\"temp\", \"atemp\", \"hum\", \"windspeed\"]\n",
    "categorical_features = [\n",
    "    \"season\",\n",
    "    \"mnth\",\n",
    "    \"holiday\",\n",
    "    \"weekday\",\n",
    "    \"workingday\",\n",
    "    \"weathersit\",\n",
    "]\n",
    "\n",
    "preprocessor = ColumnTransformer(\n",
    "    transformers=[\n",
    "        (\"numeric\", numeric_transformer, numeric_features),\n",
    "        (\"categorical\", categorical_transformer, categorical_features),\n",
    "    ]\n",
    ")"
   ]
  },
  {
   "cell_type": "markdown",
   "id": "e911239e-2124-44b2-b73a-481d90710d78",
   "metadata": {},
   "source": [
    "Можно создать список числовых / категориальных функций на основе типа данных, например:\n",
    "\n",
    "```python\n",
    "numeric_features = df.select_dtypes(include=['int64', 'float64']).columns\n",
    "\n",
    "categorical_features = df.select_dtypes(include=['object']).drop(['weekday'], axis=1).columns\n",
    "```\n",
    "\n",
    "Используйте этот метод только в том случае, если на 100% уверены, что только типы данных соответствуют смыслу данных (нет чисел, который на самом деле являются категориями). Или после адекватного преобразования данных к нужным типам."
   ]
  },
  {
   "cell_type": "markdown",
   "id": "205a517e-220a-4598-94b9-3c141c5f3bb1",
   "metadata": {},
   "source": [
    "### Estimator\n",
    "\n",
    "После сборки нашего препроцессора можно добавить оценщик (estimator), который представляет собой алгоритм машинного обучения, который нужно применить, чтобы завершить предварительную обработку и конвейер обучения. \n",
    "\n",
    "Поскольку в этом случае целевая переменная является непрерывной, будем применять здесь модель Random Forest Regression."
   ]
  },
  {
   "cell_type": "code",
   "execution_count": 11,
   "id": "12ee530c-db90-4dd0-9cb1-7e31d9c89888",
   "metadata": {},
   "outputs": [
    {
     "name": "stdout",
     "output_type": "stream",
     "text": [
      "Pipeline(steps=[('preprocessor',\n",
      "                 ColumnTransformer(transformers=[('numeric',\n",
      "                                                  Pipeline(steps=[('imputer',\n",
      "                                                                   SimpleImputer()),\n",
      "                                                                  ('scaler',\n",
      "                                                                   StandardScaler())]),\n",
      "                                                  ['temp', 'atemp', 'hum',\n",
      "                                                   'windspeed']),\n",
      "                                                 ('categorical',\n",
      "                                                  Pipeline(steps=[('imputer',\n",
      "                                                                   SimpleImputer(strategy='constant')),\n",
      "                                                                  ('encoder',\n",
      "                                                                   OrdinalEncoder())]),\n",
      "                                                  ['season', 'mnth', 'holiday',\n",
      "                                                   'weekday', 'workingday',\n",
      "                                                   'weathersit'])])),\n",
      "                ('regressor', RandomForestRegressor())])\n"
     ]
    }
   ],
   "source": [
    "from sklearn.ensemble import RandomForestRegressor\n",
    "\n",
    "pipeline = Pipeline(\n",
    "    steps=[(\"preprocessor\", preprocessor), (\"regressor\", RandomForestRegressor())]\n",
    ")\n",
    "\n",
    "rf_model = pipeline.fit(X_train, y_train)\n",
    "print(rf_model)"
   ]
  },
  {
   "cell_type": "code",
   "execution_count": 12,
   "id": "ce517eff-006d-4258-b992-9bfd652648d6",
   "metadata": {},
   "outputs": [
    {
     "name": "stdout",
     "output_type": "stream",
     "text": [
      "0.2854724338769593\n"
     ]
    }
   ],
   "source": [
    "from sklearn.metrics import r2_score\n",
    "\n",
    "# оценить модель\n",
    "predictions = rf_model.predict(X_test)\n",
    "\n",
    "# Наилучшая возможная оценка - 1.0\n",
    "print(r2_score(predictions, y_test))"
   ]
  },
  {
   "cell_type": "markdown",
   "id": "2eed5ee5-0d07-4ea7-8aa0-dd3797a67ddd",
   "metadata": {},
   "source": [
    "### Использование модели\n",
    "\n",
    "Чтобы максимизировать воспроизводимость, хотелось бы многократно использовать эту модель для новых входящих данных.\n",
    "\n",
    "Сохраним модель с помощью пакета `joblib`. `joblib` является частью экосистемы `SciPy` и предоставляет утилиты для конвейерной обработки заданий (jobs) Python.\n",
    "\n",
    "`joblib` предоставляет утилиты для сохранения и загрузки объектов Python, которые эффективно используют структуры данных NumPy.\n",
    "\n",
    "Расширение файла в данном случае не имеет значения, оно используется просто \"по привычке\". Важны расшения типов сжатия, они имеют значения (zip, tar, ...)."
   ]
  },
  {
   "cell_type": "code",
   "execution_count": 13,
   "id": "1d93e55a-5af0-40da-854b-d614accca75c",
   "metadata": {},
   "outputs": [],
   "source": [
    "import joblib"
   ]
  },
  {
   "cell_type": "code",
   "execution_count": 14,
   "id": "c58bf00d-75c2-4e80-b5d7-0183d73021bb",
   "metadata": {},
   "outputs": [
    {
     "data": {
      "text/plain": [
       "['./tmp/rf_model.pkl']"
      ]
     },
     "execution_count": 14,
     "metadata": {},
     "output_type": "execute_result"
    }
   ],
   "source": [
    "# иногда пишут .pkl\n",
    "joblib.dump(rf_model, \"./tmp/rf_model.pkl\")"
   ]
  },
  {
   "cell_type": "code",
   "execution_count": 15,
   "id": "d0f17a43-1554-4665-8428-da981b56cfbe",
   "metadata": {},
   "outputs": [
    {
     "data": {
      "text/plain": [
       "['./tmp/rf_model.joblib']"
      ]
     },
     "execution_count": 15,
     "metadata": {},
     "output_type": "execute_result"
    }
   ],
   "source": [
    "# иногда пишут .joblib\n",
    "joblib.dump(rf_model, \"./tmp/rf_model.joblib\")"
   ]
  },
  {
   "cell_type": "code",
   "execution_count": 16,
   "id": "6f73c90a-71a9-48a0-82f2-ae5db2da2004",
   "metadata": {},
   "outputs": [
    {
     "data": {
      "text/plain": [
       "['./tmp/rf_model.sav']"
      ]
     },
     "execution_count": 16,
     "metadata": {},
     "output_type": "execute_result"
    }
   ],
   "source": [
    "# иногда пишут .sav\n",
    "joblib.dump(rf_model, \"./tmp/rf_model.sav\")"
   ]
  },
  {
   "cell_type": "markdown",
   "id": "cdb47a07-b43d-4d92-953c-a6e066a5dfe2",
   "metadata": {},
   "source": [
    "Теперь можно вызвать этот конвейер, который включает в себя все виды предварительной обработки данных, которые нужны, и модель обучения, когда это нужно."
   ]
  },
  {
   "cell_type": "code",
   "execution_count": 17,
   "id": "ea31ddd2-6d5d-4a16-a447-b0afae680078",
   "metadata": {},
   "outputs": [
    {
     "data": {
      "text/plain": [
       "array([5951.2 , 3183.6 , 2825.18, 4091.27, 6046.72, 5129.84, 4016.72,\n",
       "       5263.37, 5482.94, 4054.71, 5106.8 , 4413.49, 5775.18, 5254.99,\n",
       "       2305.34, 5431.53, 4125.83, 6339.21, 6061.21, 4278.36, 7700.87,\n",
       "       5893.1 , 1478.91, 5679.84, 4880.83, 2862.93, 5447.31, 1050.93,\n",
       "       5180.43, 5013.39, 5350.31, 5017.69, 6947.42, 4521.33, 6602.48,\n",
       "       4481.87, 5962.4 , 4530.53, 2823.45, 3049.25, 6827.26, 1518.78,\n",
       "       4687.73, 4825.37, 3839.53, 4854.56, 5219.44, 5468.33, 5058.08,\n",
       "       2170.65, 4123.14, 4192.  , 5457.26, 3705.9 , 2669.47, 5678.64,\n",
       "       6369.75, 5865.39, 5287.48, 2913.44, 5748.05, 3261.2 , 4731.09,\n",
       "       5957.75, 5410.56, 1755.7 , 1523.21, 3992.83, 3011.08, 5462.25,\n",
       "       5850.97, 1538.78, 5443.58, 5432.88, 1872.01, 3718.1 , 1330.24,\n",
       "       3035.03, 6496.74, 1632.72, 3950.29, 5440.04, 4978.96, 4820.49,\n",
       "       4089.31, 5826.86, 3451.15, 5076.77, 7564.69, 2592.36, 5776.38,\n",
       "       5886.45, 3178.4 , 4785.56, 4906.22, 5573.27, 1844.72, 4449.17,\n",
       "       4601.64, 5321.02, 4060.76, 4605.48, 2207.92, 6414.41, 4687.87,\n",
       "       3468.48, 2413.88, 4104.54, 1625.77, 5278.46, 5967.89, 7013.27,\n",
       "       5757.13, 5581.66, 2232.42, 1749.63, 2620.22, 5265.75, 3975.5 ,\n",
       "       1107.25, 3277.4 , 6769.17, 4793.99, 5719.88, 4966.08, 5305.1 ,\n",
       "       3436.68, 4997.49, 5856.94, 6342.52, 5411.16, 6044.64, 5812.21,\n",
       "       3749.68, 4919.21, 5656.69, 5597.35, 5327.14, 5787.17, 5430.69,\n",
       "       2959.33, 5987.25, 6172.28, 5131.5 , 6377.63, 3173.94, 5096.23])"
      ]
     },
     "execution_count": 17,
     "metadata": {},
     "output_type": "execute_result"
    }
   ],
   "source": [
    "rf_model = joblib.load(\"./tmp/rf_model.pkl\")\n",
    "new_prediction = rf_model.predict(X_test)\n",
    "new_prediction"
   ]
  },
  {
   "cell_type": "code",
   "execution_count": 18,
   "id": "d7c43f5f-96a4-4864-a016-83fb393d5d18",
   "metadata": {},
   "outputs": [
    {
     "data": {
      "text/plain": [
       "array([5951.2 , 3183.6 , 2825.18, 4091.27, 6046.72, 5129.84, 4016.72,\n",
       "       5263.37, 5482.94, 4054.71, 5106.8 , 4413.49, 5775.18, 5254.99,\n",
       "       2305.34, 5431.53, 4125.83, 6339.21, 6061.21, 4278.36, 7700.87,\n",
       "       5893.1 , 1478.91, 5679.84, 4880.83, 2862.93, 5447.31, 1050.93,\n",
       "       5180.43, 5013.39, 5350.31, 5017.69, 6947.42, 4521.33, 6602.48,\n",
       "       4481.87, 5962.4 , 4530.53, 2823.45, 3049.25, 6827.26, 1518.78,\n",
       "       4687.73, 4825.37, 3839.53, 4854.56, 5219.44, 5468.33, 5058.08,\n",
       "       2170.65, 4123.14, 4192.  , 5457.26, 3705.9 , 2669.47, 5678.64,\n",
       "       6369.75, 5865.39, 5287.48, 2913.44, 5748.05, 3261.2 , 4731.09,\n",
       "       5957.75, 5410.56, 1755.7 , 1523.21, 3992.83, 3011.08, 5462.25,\n",
       "       5850.97, 1538.78, 5443.58, 5432.88, 1872.01, 3718.1 , 1330.24,\n",
       "       3035.03, 6496.74, 1632.72, 3950.29, 5440.04, 4978.96, 4820.49,\n",
       "       4089.31, 5826.86, 3451.15, 5076.77, 7564.69, 2592.36, 5776.38,\n",
       "       5886.45, 3178.4 , 4785.56, 4906.22, 5573.27, 1844.72, 4449.17,\n",
       "       4601.64, 5321.02, 4060.76, 4605.48, 2207.92, 6414.41, 4687.87,\n",
       "       3468.48, 2413.88, 4104.54, 1625.77, 5278.46, 5967.89, 7013.27,\n",
       "       5757.13, 5581.66, 2232.42, 1749.63, 2620.22, 5265.75, 3975.5 ,\n",
       "       1107.25, 3277.4 , 6769.17, 4793.99, 5719.88, 4966.08, 5305.1 ,\n",
       "       3436.68, 4997.49, 5856.94, 6342.52, 5411.16, 6044.64, 5812.21,\n",
       "       3749.68, 4919.21, 5656.69, 5597.35, 5327.14, 5787.17, 5430.69,\n",
       "       2959.33, 5987.25, 6172.28, 5131.5 , 6377.63, 3173.94, 5096.23])"
      ]
     },
     "execution_count": 18,
     "metadata": {},
     "output_type": "execute_result"
    }
   ],
   "source": [
    "rf_model = joblib.load(\"./tmp/rf_model.joblib\")\n",
    "new_prediction = rf_model.predict(X_test)\n",
    "new_prediction"
   ]
  },
  {
   "cell_type": "code",
   "execution_count": 19,
   "id": "e40388a7-e5c8-4667-8cc0-c5ff65b7569e",
   "metadata": {},
   "outputs": [
    {
     "data": {
      "text/plain": [
       "array([5951.2 , 3183.6 , 2825.18, 4091.27, 6046.72, 5129.84, 4016.72,\n",
       "       5263.37, 5482.94, 4054.71, 5106.8 , 4413.49, 5775.18, 5254.99,\n",
       "       2305.34, 5431.53, 4125.83, 6339.21, 6061.21, 4278.36, 7700.87,\n",
       "       5893.1 , 1478.91, 5679.84, 4880.83, 2862.93, 5447.31, 1050.93,\n",
       "       5180.43, 5013.39, 5350.31, 5017.69, 6947.42, 4521.33, 6602.48,\n",
       "       4481.87, 5962.4 , 4530.53, 2823.45, 3049.25, 6827.26, 1518.78,\n",
       "       4687.73, 4825.37, 3839.53, 4854.56, 5219.44, 5468.33, 5058.08,\n",
       "       2170.65, 4123.14, 4192.  , 5457.26, 3705.9 , 2669.47, 5678.64,\n",
       "       6369.75, 5865.39, 5287.48, 2913.44, 5748.05, 3261.2 , 4731.09,\n",
       "       5957.75, 5410.56, 1755.7 , 1523.21, 3992.83, 3011.08, 5462.25,\n",
       "       5850.97, 1538.78, 5443.58, 5432.88, 1872.01, 3718.1 , 1330.24,\n",
       "       3035.03, 6496.74, 1632.72, 3950.29, 5440.04, 4978.96, 4820.49,\n",
       "       4089.31, 5826.86, 3451.15, 5076.77, 7564.69, 2592.36, 5776.38,\n",
       "       5886.45, 3178.4 , 4785.56, 4906.22, 5573.27, 1844.72, 4449.17,\n",
       "       4601.64, 5321.02, 4060.76, 4605.48, 2207.92, 6414.41, 4687.87,\n",
       "       3468.48, 2413.88, 4104.54, 1625.77, 5278.46, 5967.89, 7013.27,\n",
       "       5757.13, 5581.66, 2232.42, 1749.63, 2620.22, 5265.75, 3975.5 ,\n",
       "       1107.25, 3277.4 , 6769.17, 4793.99, 5719.88, 4966.08, 5305.1 ,\n",
       "       3436.68, 4997.49, 5856.94, 6342.52, 5411.16, 6044.64, 5812.21,\n",
       "       3749.68, 4919.21, 5656.69, 5597.35, 5327.14, 5787.17, 5430.69,\n",
       "       2959.33, 5987.25, 6172.28, 5131.5 , 6377.63, 3173.94, 5096.23])"
      ]
     },
     "execution_count": 19,
     "metadata": {},
     "output_type": "execute_result"
    }
   ],
   "source": [
    "rf_model = joblib.load(\"./tmp/rf_model.sav\")\n",
    "new_prediction = rf_model.predict(X_test)\n",
    "new_prediction"
   ]
  },
  {
   "cell_type": "markdown",
   "id": "d2c6e935-ce0b-4261-8869-4d215a699681",
   "metadata": {},
   "source": [
    "### Идеи\n",
    "\n",
    "Можно легко сравнить производительность ряда алгоритмов:\n",
    "\n",
    "```python\n",
    "regressors = [\n",
    "    regressor_1(),\n",
    "    regressor_2(),\n",
    "    regressor_3()\n",
    "    ...\n",
    "]\n",
    "\n",
    "for regressor in regressors:\n",
    "    pipeline = Pipeline(steps=[\n",
    "        ('preprocessor', preprocessor),\n",
    "        'regressor',regressor)\n",
    "    ])\n",
    "    model = pipeline.fit(X_train, y_train)\n",
    "    predictions = model.predict(X_test)\n",
    "    \n",
    "    print(regressor)\n",
    "    print(f'Model r2 score: {r2_score(predictions, y_test)}')\n",
    "```\n",
    "\n",
    "Или настроить методы предварительной обработки (preprocessing) / преобразования (transforming).\n",
    "\n",
    "Например, можно использовать значение `median` для заполнения пропущенных значений, использовать другой Scaler для числовых функций, перейдите на one-hot encoding вместо ordinal encoding для обработки категориальных функций, настройку гиперпараметров и т.д."
   ]
  },
  {
   "cell_type": "markdown",
   "id": "342cfa2b-30c0-4105-bcf2-f68f8bc7b32d",
   "metadata": {},
   "source": [
    "## Подбор гиперпараметров (hyper-parameters)\n",
    "\n",
    "[sklearn.model_selection.GridSearchCV](https://scikit-learn.org/stable/modules/generated/sklearn.model_selection.GridSearchCV.html#sklearn.model_selection.GridSearchCV) - исчерпывающий поиск по заданным значениям параметров для оценщика (estimator).\n",
    "\n",
    "В машинном обучении **гиперпараметр (hyperparameter)** - это параметр, значение которого используется для управления процессом обучения. Напротив, значения других параметров (обычно весов узлов) выводятся посредством обучения.\n",
    "\n",
    "**Поиск по сетке (Grid Search)** - это процесс настройки гиперпараметров с целью определения оптимальных значений для данной модели. Это важно, поскольку производительность всей модели основана на указанных значениях **гиперпараметров**.\n",
    "\n",
    "Существуют другие способы подобрать гиперпараметры ([Hyper-parameter optimizers](https://scikit-learn.org/stable/modules/classes.html#hyper-parameter-optimizers)).\n",
    "\n",
    "(конкретные примеры будем рассматривать вместе с моделями)\n",
    "\n",
    "[Пример использования](../../06_modeling_ml_regression_1/lectures/08_example_pipeline.ipynb)"
   ]
  },
  {
   "cell_type": "code",
   "execution_count": null,
   "id": "db3b2306-e2fe-4393-aa24-edf0fbd7a0b9",
   "metadata": {},
   "outputs": [],
   "source": []
  },
  {
   "cell_type": "markdown",
   "id": "273025a6-be26-41e7-b92d-f91b2837e85a",
   "metadata": {},
   "source": [
    "---\n",
    "\n",
    "[]()\n",
    "\n",
    "[]()\n",
    "\n",
    "[]()\n",
    "\n",
    "[]()\n",
    "\n",
    "[]()\n",
    "\n",
    "[]()"
   ]
  }
 ],
 "metadata": {
  "kernelspec": {
   "display_name": "Python [conda env:data-science-course] *",
   "language": "python",
   "name": "conda-env-data-science-course-py"
  },
  "language_info": {
   "codemirror_mode": {
    "name": "ipython",
    "version": 3
   },
   "file_extension": ".py",
   "mimetype": "text/x-python",
   "name": "python",
   "nbconvert_exporter": "python",
   "pygments_lexer": "ipython3",
   "version": "3.10.9"
  }
 },
 "nbformat": 4,
 "nbformat_minor": 5
}
