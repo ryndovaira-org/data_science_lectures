{
 "cells": [
  {
   "cell_type": "code",
   "execution_count": 1,
   "id": "188b0737-218c-443f-b5fc-c93462674dc8",
   "metadata": {},
   "outputs": [],
   "source": [
    "%load_ext autoreload\n",
    "%autoreload 2\n",
    "\n",
    "import os\n",
    "import sys\n",
    "\n",
    "sys.path.append(os.path.abspath(\"../../../../\"))\n",
    "from utils.curve_analysis.curve_analyser import *"
   ]
  },
  {
   "cell_type": "markdown",
   "id": "c5e08960-af48-4d0f-a4a4-6a306f463451",
   "metadata": {},
   "source": [
    "# Исследование функции / Основные параметры функций\n",
    "\n",
    "In mathematics, a function from a set X to a set Y assigns to each element of X exactly one element of Y.\n",
    "\n",
    "The set X is called the domain of the function and the set Y is called the codomain of the function.\n",
    "\n",
    "<img src='https://raw.githubusercontent.com/ryndovaira-org/data_science_notes/main/diagrams/function_definition.drawio.png'/>"
   ]
  },
  {
   "cell_type": "markdown",
   "id": "344d0b4f-e613-413f-b7ae-a95c4e74439e",
   "metadata": {},
   "source": [
    "## Область определения\n",
    "\n",
    "Область определения функции $D(y)$ - это **допустимые значения независимой переменной** (переменной $x$)."
   ]
  },
  {
   "cell_type": "markdown",
   "id": "0a3b8fe2-55de-4ba1-93c4-ad722c7e8918",
   "metadata": {},
   "source": [
    "## Область значений\n",
    "\n",
    "Область значений функции $E(y)$ — это множество значений, которые принимает **зависимая переменная** $y$."
   ]
  },
  {
   "cell_type": "markdown",
   "id": "e3430b0b-8591-471f-81f9-79e8d0722a67",
   "metadata": {},
   "source": [
    "## Нули / Корни\n",
    "\n",
    "Нули функции — это значения аргумента $x$, при которых значение функции $y = 0$."
   ]
  },
  {
   "cell_type": "markdown",
   "id": "91b8a04c-9bcd-4799-82f3-701afed74372",
   "metadata": {},
   "source": [
    "## Промежутки монотонности\n",
    "\n",
    "Промежутки монотонности функции $y=f(x)$ - это такие промежутки значений  аргумента $х$, при которых функция $y=f(x)$ возрастает или убывает.\n",
    "\n",
    "Функция называется возрастающей ($y\\uparrow$) на некотором промежутке, если для любых значений аргумента из этого промежутка большему значению аргумента соответствует большее значение функции.\n",
    "\n",
    "Функция называется убывающей ($y\\downarrow$) на некотором промежутке, если для любых значений аргумента из этого промежутка большему значению аргумента соответствует меньшее значение функции.\n",
    "\n",
    "Другими словами: если слева направо график функции \"идёт вверх\", то на этом промежутке функция возрастает, а если \"вниз\" — то убывает. "
   ]
  },
  {
   "cell_type": "markdown",
   "id": "c7c7fbb3-412f-4ab0-ab1e-6dee843a6dc8",
   "metadata": {},
   "source": [
    "## Промежутки знакопостоянства\n",
    "\n",
    "Промежутки знакопостоянства функции $y=f(x)$ - это такие промежутки значений аргумента, на которых функция сохраняет свой знак, то есть $f(x) > 0 $ или $f(x) < 0$."
   ]
  },
  {
   "cell_type": "markdown",
   "id": "09ada020-df03-48a5-b828-20a61482aea9",
   "metadata": {
    "jp-MarkdownHeadingCollapsed": true,
    "tags": []
   },
   "source": [
    "## Even (Четность) / Odd (Нечетность)\n",
    "\n",
    "Нечётными и чётными называются функции, обладающие симметрией относительно изменения знака аргумента.\n",
    "\n",
    "- **Нечётная функция** — функция, меняющая значение на противоположное при изменении знака независимой переменной (график её симметричен относительно центра координат), то есть $-f(x) = f(-x)$.\n",
    "\n",
    "- **Чётная функция** — функция, не изменяющая своего значения при изменении знака независимой переменной (график её симметричен относительно оси ординат), то есть $f(x) = f(-x)$.\n",
    "\n",
    "- **Ни чётная, ни нечётная функция (или функция общего вида)** — функция, не попадающая в предыдущие 2 категории.\n",
    "\n",
    "*Функции, принимающие нулевое значение на всей своей области определения, причём эта область определения симметрична относительно нуля, являются одновременно чётными и нечётными; например, функции f(x) = 0 и f(x) = 0/х. Любая функция, являющаяся одновременно чётной и нечётной, тождественно равна нулю на всей своей области определения.*\n",
    "\n",
    "**Свойства**\n",
    "- График нечётной функции симметричен относительно начала координат $O$.\n",
    "- График чётной функции симметричен относительно оси ординат $Oy$.\n",
    "- Произвольная функция $f$ может быть единственным образом представлена в виде суммы нечётной и чётной функций: $f(x) = g(x) + h(x)$, где $g(x) = \\frac{f(x) - f(-x)}{2}, h(x) = \\frac{f(x) + f(-x)}{2}$. Функции $g(x)$ и $h(x)$ называются соответственно нечётной частью и чётной частью функции $f(x)$.\n",
    "- Сумма, разность и вообще любая линейная комбинация чётных функций чётна, а нечётных — нечётна. Поэтому чётные функции образуют линейное векторное пространство над полем действительных чисел, это же справедливо и для нечётных функций.\n",
    "- Произведение двух функций одной чётности чётно.\n",
    "- Произведение двух функций разной чётности нечётно.\n",
    "- Композиция двух нечётных функций нечётна.\n",
    "- Композиция чётной функции с нечётной чётна.\n",
    "- Композиция любой функции с чётной чётна (но не наоборот).\n",
    "- Производная чётной функции нечётна, а нечётной — чётна.\n",
    "- Для определённых интегралов от чётных функций выполняется равенство.\n",
    "- ..."
   ]
  },
  {
   "cell_type": "markdown",
   "id": "913cb36f-5032-4497-bde5-61d69a91817c",
   "metadata": {},
   "source": [
    "## Точки экстремума (Extremum) \n",
    "\n",
    "Соответственно, если достигается минимум — точка экстремума называется точкой **минимума**, а если максимум — точкой **максимума**. \n",
    "\n",
    "В математическом анализе выделяют также понятие **локальный/глобальный** экстремум (соответственно минимум или максимум).\n",
    "\n",
    "**Оптимизация** (в математике, информатике и исследовании операций) — это задача нахождения экстремума (минимума или максимума) целевой функции в некоторой области конечномерного векторного пространства, ограниченной набором линейных и/или нелинейных равенств и/или неравенств.\n",
    "\n",
    "Обычно точки экстремума функции находятся, проводя исследование функции **с помощью производной**."
   ]
  },
  {
   "cell_type": "markdown",
   "id": "05b42939-0d8e-4815-b13d-f442a163a4a5",
   "metadata": {},
   "source": [
    "## Period (Периодичность)\n",
    "\n",
    "Периодическая функция ― функция, повторяющая свои значения через некоторый **регулярный интервал** аргумента, то есть не меняющая своего значения при добавлении к аргументу некоторого фиксированного ненулевого числа (периода функции) на всей области определения.\n",
    "\n",
    "$f(x) = f(x + T) = f(x -T)$\n",
    "\n",
    "$f(x) = f(x + nT)$\n",
    "\n",
    "*Все тригонометрические функции являются периодическими.*"
   ]
  },
  {
   "cell_type": "markdown",
   "id": "550e2fec-70e2-403f-9a6c-94ef4b32de6f",
   "metadata": {
    "tags": []
   },
   "source": [
    "## Continuous/Discontinuous (Непрерывность/Прерывность)\n",
    "\n",
    "**Непрерывная функция** — функция, которая меняется без мгновенных \"скачков\" (называемых разрывами), то есть такая, малые изменения аргумента которой приводят к малым изменениям значения функции. \n",
    "График непрерывной функции является непрерывной линией.\n",
    "\n",
    "**Асимптота** — прямая, обладающая тем свойством, что расстояние от точки кривой до этой прямой стремится к нулю при удалении точки вдоль ветви в бесконечность.\n",
    "Асимптоты находятся с помощью $\\lim_{x\\to\\infty} f(x)$ и $\\lim_{x \\to +\\infty} f(x)$.\n",
    "\n",
    "**Типы разрывов**:\n",
    "- скачкообразные (jump)\n",
    "- бесконечные (infinite)\n",
    "- устранимые (removable)\n",
    "- конечные (endpoint) \n",
    "- смешанные (mixed)\n",
    "\n",
    "Если функция имеет разрыв в данной точке (то есть предел функции в данной точке отсутствует или не совпадает со значением функции в данной точке), то для числовых функций возникает два возможных варианта, связанных с существованием у числовых функций односторонних пределов:\n",
    "- если оба односторонних предела существуют и конечны, то такую точку называют точкой разрыва **первого рода**. К точкам разрыва первого рода относят **устранимые разрывы и скачки**.\n",
    "- если хотя бы один из односторонних пределов не существует или не является конечной величиной, то такую точку называют точкой разрыва **второго рода**. К точкам разрыва второго рода относят **полюса** и **точки существенного разрыва**."
   ]
  },
  {
   "cell_type": "code",
   "execution_count": 9,
   "id": "06cb7fa7-d510-4712-bdba-c440e47b8c46",
   "metadata": {},
   "outputs": [
    {
     "name": "stderr",
     "output_type": "stream",
     "text": [
      "/tmp/ipykernel_38656/2338452415.py:8: RuntimeWarning: divide by zero encountered in divide\n",
      "  formula=lambda x: 1 / x,\n",
      "/tmp/ipykernel_38656/2338452415.py:15: RuntimeWarning: divide by zero encountered in divide\n",
      "  formula=lambda x: 1 / x,\n"
     ]
    },
    {
     "ename": "AttributeError",
     "evalue": "Line2D.set() got an unexpected keyword argument 's'",
     "output_type": "error",
     "traceback": [
      "\u001b[0;31m---------------------------------------------------------------------------\u001b[0m",
      "\u001b[0;31mAttributeError\u001b[0m                            Traceback (most recent call last)",
      "Cell \u001b[0;32mIn[9], line 42\u001b[0m\n\u001b[1;32m      1\u001b[0m curves \u001b[38;5;241m=\u001b[39m {\n\u001b[1;32m      2\u001b[0m         \u001b[38;5;124mr\u001b[39m\u001b[38;5;124m\"\u001b[39m\u001b[38;5;124minfinite\u001b[39m\u001b[38;5;124m\"\u001b[39m: (\n\u001b[1;32m      3\u001b[0m             \u001b[38;5;28mdict\u001b[39m(\n\u001b[0;32m   (...)\u001b[0m\n\u001b[1;32m     40\u001b[0m         ),\n\u001b[1;32m     41\u001b[0m     }\n\u001b[0;32m---> 42\u001b[0m \u001b[43mCurveAnalyser\u001b[49m\u001b[43m(\u001b[49m\u001b[43mcurves\u001b[49m\u001b[43m,\u001b[49m\u001b[43m \u001b[49m\u001b[38;5;28;43;01mFalse\u001b[39;49;00m\u001b[43m)\u001b[49m\n",
      "File \u001b[0;32m~/Projects/data-science-course-original/utils/curve_analysis/curve_analyser.py:25\u001b[0m, in \u001b[0;36mCurveAnalyser.__init__\u001b[0;34m(self, curves_to_draw, analyse, figure_width, figure_height)\u001b[0m\n\u001b[1;32m     22\u001b[0m \u001b[38;5;28mself\u001b[39m\u001b[38;5;241m.\u001b[39maxes \u001b[38;5;241m=\u001b[39m \u001b[38;5;28;01mNone\u001b[39;00m\n\u001b[1;32m     24\u001b[0m \u001b[38;5;28mself\u001b[39m\u001b[38;5;241m.\u001b[39mprepare_figures()\n\u001b[0;32m---> 25\u001b[0m \u001b[38;5;28;43mself\u001b[39;49m\u001b[38;5;241;43m.\u001b[39;49m\u001b[43mdraw\u001b[49m\u001b[43m(\u001b[49m\u001b[43m)\u001b[49m\n",
      "File \u001b[0;32m~/Projects/data-science-course-original/utils/curve_analysis/curve_analyser.py:50\u001b[0m, in \u001b[0;36mCurveAnalyser.draw\u001b[0;34m(self)\u001b[0m\n\u001b[1;32m     48\u001b[0m \u001b[38;5;28;01mdef\u001b[39;00m \u001b[38;5;21mdraw\u001b[39m(\u001b[38;5;28mself\u001b[39m):\n\u001b[1;32m     49\u001b[0m     \u001b[38;5;28;01mfor\u001b[39;00m figure \u001b[38;5;129;01min\u001b[39;00m \u001b[38;5;28mself\u001b[39m\u001b[38;5;241m.\u001b[39mfigures_to_draw:\n\u001b[0;32m---> 50\u001b[0m         \u001b[43mfigure\u001b[49m\u001b[38;5;241;43m.\u001b[39;49m\u001b[43mdraw\u001b[49m\u001b[43m(\u001b[49m\u001b[43m)\u001b[49m\n\u001b[1;32m     52\u001b[0m     plt\u001b[38;5;241m.\u001b[39mtight_layout(h_pad\u001b[38;5;241m=\u001b[39m\u001b[38;5;241m5\u001b[39m, w_pad\u001b[38;5;241m=\u001b[39m\u001b[38;5;241m2\u001b[39m)\n\u001b[1;32m     53\u001b[0m     \u001b[38;5;28;01mfor\u001b[39;00m ax \u001b[38;5;129;01min\u001b[39;00m \u001b[38;5;28mself\u001b[39m\u001b[38;5;241m.\u001b[39maxes:\n",
      "File \u001b[0;32m~/Projects/data-science-course-original/utils/curve_analysis/curve.py:39\u001b[0m, in \u001b[0;36mCurve.draw\u001b[0;34m(self)\u001b[0m\n\u001b[1;32m     38\u001b[0m \u001b[38;5;28;01mdef\u001b[39;00m \u001b[38;5;21mdraw\u001b[39m(\u001b[38;5;28mself\u001b[39m):\n\u001b[0;32m---> 39\u001b[0m     \u001b[43mInterval\u001b[49m\u001b[38;5;241;43m.\u001b[39;49m\u001b[43mdraw\u001b[49m\u001b[43m(\u001b[49m\u001b[38;5;28;43mself\u001b[39;49m\u001b[43m)\u001b[49m\n\u001b[1;32m     41\u001b[0m     ax_y_min, ax_y_max \u001b[38;5;241m=\u001b[39m \u001b[38;5;28mself\u001b[39m\u001b[38;5;241m.\u001b[39max\u001b[38;5;241m.\u001b[39mget_ylim()\n\u001b[1;32m     42\u001b[0m     \u001b[38;5;28;01mif\u001b[39;00m ax_y_min \u001b[38;5;241m>\u001b[39m \u001b[38;5;28mself\u001b[39m\u001b[38;5;241m.\u001b[39mmin_y:\n",
      "File \u001b[0;32m~/Projects/data-science-course-original/utils/curve_analysis/interval.py:14\u001b[0m, in \u001b[0;36mInterval.draw\u001b[0;34m(self)\u001b[0m\n\u001b[1;32m     13\u001b[0m \u001b[38;5;28;01mdef\u001b[39;00m \u001b[38;5;21mdraw\u001b[39m(\u001b[38;5;28mself\u001b[39m):\n\u001b[0;32m---> 14\u001b[0m     \u001b[38;5;28;43mself\u001b[39;49m\u001b[38;5;241;43m.\u001b[39;49m\u001b[43max\u001b[49m\u001b[38;5;241;43m.\u001b[39;49m\u001b[43mplot\u001b[49m\u001b[43m(\u001b[49m\n\u001b[1;32m     15\u001b[0m \u001b[43m        \u001b[49m\u001b[38;5;28;43mself\u001b[39;49m\u001b[38;5;241;43m.\u001b[39;49m\u001b[43mx\u001b[49m\u001b[43m,\u001b[49m\u001b[43m \u001b[49m\u001b[38;5;28;43mself\u001b[39;49m\u001b[38;5;241;43m.\u001b[39;49m\u001b[43my\u001b[49m\u001b[43m,\u001b[49m\u001b[43m \u001b[49m\u001b[43mlabel\u001b[49m\u001b[38;5;241;43m=\u001b[39;49m\u001b[38;5;28;43mself\u001b[39;49m\u001b[38;5;241;43m.\u001b[39;49m\u001b[43mlabel\u001b[49m\u001b[43m,\u001b[49m\u001b[43m \u001b[49m\u001b[38;5;241;43m*\u001b[39;49m\u001b[38;5;241;43m*\u001b[39;49m\u001b[38;5;28;43mself\u001b[39;49m\u001b[38;5;241;43m.\u001b[39;49m\u001b[43mPARAMS\u001b[49m\u001b[38;5;241;43m.\u001b[39;49m\u001b[43mget\u001b[49m\u001b[43m(\u001b[49m\u001b[38;5;28;43mself\u001b[39;49m\u001b[38;5;241;43m.\u001b[39;49m\u001b[43mobj_type\u001b[49m\u001b[43m,\u001b[49m\u001b[43m \u001b[49m\u001b[38;5;28;43mdict\u001b[39;49m\u001b[43m(\u001b[49m\u001b[43m)\u001b[49m\u001b[43m)\u001b[49m\n\u001b[1;32m     16\u001b[0m \u001b[43m    \u001b[49m\u001b[43m)\u001b[49m\n",
      "File \u001b[0;32m~/anaconda3/envs/data-science-course/lib/python3.10/site-packages/matplotlib/axes/_axes.py:1688\u001b[0m, in \u001b[0;36mAxes.plot\u001b[0;34m(self, scalex, scaley, data, *args, **kwargs)\u001b[0m\n\u001b[1;32m   1445\u001b[0m \u001b[38;5;250m\u001b[39m\u001b[38;5;124;03m\"\"\"\u001b[39;00m\n\u001b[1;32m   1446\u001b[0m \u001b[38;5;124;03mPlot y versus x as lines and/or markers.\u001b[39;00m\n\u001b[1;32m   1447\u001b[0m \n\u001b[0;32m   (...)\u001b[0m\n\u001b[1;32m   1685\u001b[0m \u001b[38;5;124;03m(``'green'``) or hex strings (``'#008000'``).\u001b[39;00m\n\u001b[1;32m   1686\u001b[0m \u001b[38;5;124;03m\"\"\"\u001b[39;00m\n\u001b[1;32m   1687\u001b[0m kwargs \u001b[38;5;241m=\u001b[39m cbook\u001b[38;5;241m.\u001b[39mnormalize_kwargs(kwargs, mlines\u001b[38;5;241m.\u001b[39mLine2D)\n\u001b[0;32m-> 1688\u001b[0m lines \u001b[38;5;241m=\u001b[39m [\u001b[38;5;241m*\u001b[39m\u001b[38;5;28mself\u001b[39m\u001b[38;5;241m.\u001b[39m_get_lines(\u001b[38;5;241m*\u001b[39margs, data\u001b[38;5;241m=\u001b[39mdata, \u001b[38;5;241m*\u001b[39m\u001b[38;5;241m*\u001b[39mkwargs)]\n\u001b[1;32m   1689\u001b[0m \u001b[38;5;28;01mfor\u001b[39;00m line \u001b[38;5;129;01min\u001b[39;00m lines:\n\u001b[1;32m   1690\u001b[0m     \u001b[38;5;28mself\u001b[39m\u001b[38;5;241m.\u001b[39madd_line(line)\n",
      "File \u001b[0;32m~/anaconda3/envs/data-science-course/lib/python3.10/site-packages/matplotlib/axes/_base.py:311\u001b[0m, in \u001b[0;36m_process_plot_var_args.__call__\u001b[0;34m(self, data, *args, **kwargs)\u001b[0m\n\u001b[1;32m    309\u001b[0m     this \u001b[38;5;241m+\u001b[39m\u001b[38;5;241m=\u001b[39m args[\u001b[38;5;241m0\u001b[39m],\n\u001b[1;32m    310\u001b[0m     args \u001b[38;5;241m=\u001b[39m args[\u001b[38;5;241m1\u001b[39m:]\n\u001b[0;32m--> 311\u001b[0m \u001b[38;5;28;01myield from\u001b[39;00m \u001b[38;5;28;43mself\u001b[39;49m\u001b[38;5;241;43m.\u001b[39;49m\u001b[43m_plot_args\u001b[49m\u001b[43m(\u001b[49m\n\u001b[1;32m    312\u001b[0m \u001b[43m    \u001b[49m\u001b[43mthis\u001b[49m\u001b[43m,\u001b[49m\u001b[43m \u001b[49m\u001b[43mkwargs\u001b[49m\u001b[43m,\u001b[49m\u001b[43m \u001b[49m\u001b[43mambiguous_fmt_datakey\u001b[49m\u001b[38;5;241;43m=\u001b[39;49m\u001b[43mambiguous_fmt_datakey\u001b[49m\u001b[43m)\u001b[49m\n",
      "File \u001b[0;32m~/anaconda3/envs/data-science-course/lib/python3.10/site-packages/matplotlib/axes/_base.py:544\u001b[0m, in \u001b[0;36m_process_plot_var_args._plot_args\u001b[0;34m(self, tup, kwargs, return_kwargs, ambiguous_fmt_datakey)\u001b[0m\n\u001b[1;32m    542\u001b[0m     \u001b[38;5;28;01mreturn\u001b[39;00m \u001b[38;5;28mlist\u001b[39m(result)\n\u001b[1;32m    543\u001b[0m \u001b[38;5;28;01melse\u001b[39;00m:\n\u001b[0;32m--> 544\u001b[0m     \u001b[38;5;28;01mreturn\u001b[39;00m [l[\u001b[38;5;241m0\u001b[39m] \u001b[38;5;28;01mfor\u001b[39;00m l \u001b[38;5;129;01min\u001b[39;00m result]\n",
      "File \u001b[0;32m~/anaconda3/envs/data-science-course/lib/python3.10/site-packages/matplotlib/axes/_base.py:544\u001b[0m, in \u001b[0;36m<listcomp>\u001b[0;34m(.0)\u001b[0m\n\u001b[1;32m    542\u001b[0m     \u001b[38;5;28;01mreturn\u001b[39;00m \u001b[38;5;28mlist\u001b[39m(result)\n\u001b[1;32m    543\u001b[0m \u001b[38;5;28;01melse\u001b[39;00m:\n\u001b[0;32m--> 544\u001b[0m     \u001b[38;5;28;01mreturn\u001b[39;00m [l[\u001b[38;5;241m0\u001b[39m] \u001b[38;5;28;01mfor\u001b[39;00m l \u001b[38;5;129;01min\u001b[39;00m result]\n",
      "File \u001b[0;32m~/anaconda3/envs/data-science-course/lib/python3.10/site-packages/matplotlib/axes/_base.py:537\u001b[0m, in \u001b[0;36m<genexpr>\u001b[0;34m(.0)\u001b[0m\n\u001b[1;32m    534\u001b[0m \u001b[38;5;28;01melse\u001b[39;00m:\n\u001b[1;32m    535\u001b[0m     labels \u001b[38;5;241m=\u001b[39m [label] \u001b[38;5;241m*\u001b[39m n_datasets\n\u001b[0;32m--> 537\u001b[0m result \u001b[38;5;241m=\u001b[39m (\u001b[43mmake_artist\u001b[49m\u001b[43m(\u001b[49m\u001b[43mx\u001b[49m\u001b[43m[\u001b[49m\u001b[43m:\u001b[49m\u001b[43m,\u001b[49m\u001b[43m \u001b[49m\u001b[43mj\u001b[49m\u001b[43m \u001b[49m\u001b[38;5;241;43m%\u001b[39;49m\u001b[43m \u001b[49m\u001b[43mncx\u001b[49m\u001b[43m]\u001b[49m\u001b[43m,\u001b[49m\u001b[43m \u001b[49m\u001b[43my\u001b[49m\u001b[43m[\u001b[49m\u001b[43m:\u001b[49m\u001b[43m,\u001b[49m\u001b[43m \u001b[49m\u001b[43mj\u001b[49m\u001b[43m \u001b[49m\u001b[38;5;241;43m%\u001b[39;49m\u001b[43m \u001b[49m\u001b[43mncy\u001b[49m\u001b[43m]\u001b[49m\u001b[43m,\u001b[49m\u001b[43m \u001b[49m\u001b[43mkw\u001b[49m\u001b[43m,\u001b[49m\n\u001b[1;32m    538\u001b[0m \u001b[43m                      \u001b[49m\u001b[43m{\u001b[49m\u001b[38;5;241;43m*\u001b[39;49m\u001b[38;5;241;43m*\u001b[39;49m\u001b[43mkwargs\u001b[49m\u001b[43m,\u001b[49m\u001b[43m \u001b[49m\u001b[38;5;124;43m'\u001b[39;49m\u001b[38;5;124;43mlabel\u001b[39;49m\u001b[38;5;124;43m'\u001b[39;49m\u001b[43m:\u001b[49m\u001b[43m \u001b[49m\u001b[43mlabel\u001b[49m\u001b[43m}\u001b[49m\u001b[43m)\u001b[49m\n\u001b[1;32m    539\u001b[0m           \u001b[38;5;28;01mfor\u001b[39;00m j, label \u001b[38;5;129;01min\u001b[39;00m \u001b[38;5;28menumerate\u001b[39m(labels))\n\u001b[1;32m    541\u001b[0m \u001b[38;5;28;01mif\u001b[39;00m return_kwargs:\n\u001b[1;32m    542\u001b[0m     \u001b[38;5;28;01mreturn\u001b[39;00m \u001b[38;5;28mlist\u001b[39m(result)\n",
      "File \u001b[0;32m~/anaconda3/envs/data-science-course/lib/python3.10/site-packages/matplotlib/axes/_base.py:351\u001b[0m, in \u001b[0;36m_process_plot_var_args._makeline\u001b[0;34m(self, x, y, kw, kwargs)\u001b[0m\n\u001b[1;32m    349\u001b[0m default_dict \u001b[38;5;241m=\u001b[39m \u001b[38;5;28mself\u001b[39m\u001b[38;5;241m.\u001b[39m_getdefaults(\u001b[38;5;28mset\u001b[39m(), kw)\n\u001b[1;32m    350\u001b[0m \u001b[38;5;28mself\u001b[39m\u001b[38;5;241m.\u001b[39m_setdefaults(default_dict, kw)\n\u001b[0;32m--> 351\u001b[0m seg \u001b[38;5;241m=\u001b[39m \u001b[43mmlines\u001b[49m\u001b[38;5;241;43m.\u001b[39;49m\u001b[43mLine2D\u001b[49m\u001b[43m(\u001b[49m\u001b[43mx\u001b[49m\u001b[43m,\u001b[49m\u001b[43m \u001b[49m\u001b[43my\u001b[49m\u001b[43m,\u001b[49m\u001b[43m \u001b[49m\u001b[38;5;241;43m*\u001b[39;49m\u001b[38;5;241;43m*\u001b[39;49m\u001b[43mkw\u001b[49m\u001b[43m)\u001b[49m\n\u001b[1;32m    352\u001b[0m \u001b[38;5;28;01mreturn\u001b[39;00m seg, kw\n",
      "File \u001b[0;32m~/anaconda3/envs/data-science-course/lib/python3.10/site-packages/matplotlib/_api/deprecation.py:454\u001b[0m, in \u001b[0;36mmake_keyword_only.<locals>.wrapper\u001b[0;34m(*args, **kwargs)\u001b[0m\n\u001b[1;32m    448\u001b[0m \u001b[38;5;28;01mif\u001b[39;00m \u001b[38;5;28mlen\u001b[39m(args) \u001b[38;5;241m>\u001b[39m name_idx:\n\u001b[1;32m    449\u001b[0m     warn_deprecated(\n\u001b[1;32m    450\u001b[0m         since, message\u001b[38;5;241m=\u001b[39m\u001b[38;5;124m\"\u001b[39m\u001b[38;5;124mPassing the \u001b[39m\u001b[38;5;132;01m%(name)s\u001b[39;00m\u001b[38;5;124m \u001b[39m\u001b[38;5;132;01m%(obj_type)s\u001b[39;00m\u001b[38;5;124m \u001b[39m\u001b[38;5;124m\"\u001b[39m\n\u001b[1;32m    451\u001b[0m         \u001b[38;5;124m\"\u001b[39m\u001b[38;5;124mpositionally is deprecated since Matplotlib \u001b[39m\u001b[38;5;132;01m%(since)s\u001b[39;00m\u001b[38;5;124m; the \u001b[39m\u001b[38;5;124m\"\u001b[39m\n\u001b[1;32m    452\u001b[0m         \u001b[38;5;124m\"\u001b[39m\u001b[38;5;124mparameter will become keyword-only \u001b[39m\u001b[38;5;132;01m%(removal)s\u001b[39;00m\u001b[38;5;124m.\u001b[39m\u001b[38;5;124m\"\u001b[39m,\n\u001b[1;32m    453\u001b[0m         name\u001b[38;5;241m=\u001b[39mname, obj_type\u001b[38;5;241m=\u001b[39m\u001b[38;5;124mf\u001b[39m\u001b[38;5;124m\"\u001b[39m\u001b[38;5;124mparameter of \u001b[39m\u001b[38;5;132;01m{\u001b[39;00mfunc\u001b[38;5;241m.\u001b[39m\u001b[38;5;18m__name__\u001b[39m\u001b[38;5;132;01m}\u001b[39;00m\u001b[38;5;124m()\u001b[39m\u001b[38;5;124m\"\u001b[39m)\n\u001b[0;32m--> 454\u001b[0m \u001b[38;5;28;01mreturn\u001b[39;00m \u001b[43mfunc\u001b[49m\u001b[43m(\u001b[49m\u001b[38;5;241;43m*\u001b[39;49m\u001b[43margs\u001b[49m\u001b[43m,\u001b[49m\u001b[43m \u001b[49m\u001b[38;5;241;43m*\u001b[39;49m\u001b[38;5;241;43m*\u001b[39;49m\u001b[43mkwargs\u001b[49m\u001b[43m)\u001b[49m\n",
      "File \u001b[0;32m~/anaconda3/envs/data-science-course/lib/python3.10/site-packages/matplotlib/lines.py:393\u001b[0m, in \u001b[0;36mLine2D.__init__\u001b[0;34m(self, xdata, ydata, linewidth, linestyle, color, gapcolor, marker, markersize, markeredgewidth, markeredgecolor, markerfacecolor, markerfacecoloralt, fillstyle, antialiased, dash_capstyle, solid_capstyle, dash_joinstyle, solid_joinstyle, pickradius, drawstyle, markevery, **kwargs)\u001b[0m\n\u001b[1;32m    389\u001b[0m \u001b[38;5;28mself\u001b[39m\u001b[38;5;241m.\u001b[39mset_markeredgewidth(markeredgewidth)\n\u001b[1;32m    391\u001b[0m \u001b[38;5;66;03m# update kwargs before updating data to give the caller a\u001b[39;00m\n\u001b[1;32m    392\u001b[0m \u001b[38;5;66;03m# chance to init axes (and hence unit support)\u001b[39;00m\n\u001b[0;32m--> 393\u001b[0m \u001b[38;5;28;43mself\u001b[39;49m\u001b[38;5;241;43m.\u001b[39;49m\u001b[43m_internal_update\u001b[49m\u001b[43m(\u001b[49m\u001b[43mkwargs\u001b[49m\u001b[43m)\u001b[49m\n\u001b[1;32m    394\u001b[0m \u001b[38;5;28mself\u001b[39m\u001b[38;5;241m.\u001b[39m_pickradius \u001b[38;5;241m=\u001b[39m pickradius\n\u001b[1;32m    395\u001b[0m \u001b[38;5;28mself\u001b[39m\u001b[38;5;241m.\u001b[39mind_offset \u001b[38;5;241m=\u001b[39m \u001b[38;5;241m0\u001b[39m\n",
      "File \u001b[0;32m~/anaconda3/envs/data-science-course/lib/python3.10/site-packages/matplotlib/artist.py:1223\u001b[0m, in \u001b[0;36mArtist._internal_update\u001b[0;34m(self, kwargs)\u001b[0m\n\u001b[1;32m   1216\u001b[0m \u001b[38;5;28;01mdef\u001b[39;00m \u001b[38;5;21m_internal_update\u001b[39m(\u001b[38;5;28mself\u001b[39m, kwargs):\n\u001b[1;32m   1217\u001b[0m \u001b[38;5;250m    \u001b[39m\u001b[38;5;124;03m\"\"\"\u001b[39;00m\n\u001b[1;32m   1218\u001b[0m \u001b[38;5;124;03m    Update artist properties without prenormalizing them, but generating\u001b[39;00m\n\u001b[1;32m   1219\u001b[0m \u001b[38;5;124;03m    errors as if calling `set`.\u001b[39;00m\n\u001b[1;32m   1220\u001b[0m \n\u001b[1;32m   1221\u001b[0m \u001b[38;5;124;03m    The lack of prenormalization is to maintain backcompatibility.\u001b[39;00m\n\u001b[1;32m   1222\u001b[0m \u001b[38;5;124;03m    \"\"\"\u001b[39;00m\n\u001b[0;32m-> 1223\u001b[0m     \u001b[38;5;28;01mreturn\u001b[39;00m \u001b[38;5;28;43mself\u001b[39;49m\u001b[38;5;241;43m.\u001b[39;49m\u001b[43m_update_props\u001b[49m\u001b[43m(\u001b[49m\n\u001b[1;32m   1224\u001b[0m \u001b[43m        \u001b[49m\u001b[43mkwargs\u001b[49m\u001b[43m,\u001b[49m\u001b[43m \u001b[49m\u001b[38;5;124;43m\"\u001b[39;49m\u001b[38;5;132;43;01m{cls.__name__}\u001b[39;49;00m\u001b[38;5;124;43m.set() got an unexpected keyword argument \u001b[39;49m\u001b[38;5;124;43m\"\u001b[39;49m\n\u001b[1;32m   1225\u001b[0m \u001b[43m        \u001b[49m\u001b[38;5;124;43m\"\u001b[39;49m\u001b[38;5;132;43;01m{prop_name!r}\u001b[39;49;00m\u001b[38;5;124;43m\"\u001b[39;49m\u001b[43m)\u001b[49m\n",
      "File \u001b[0;32m~/anaconda3/envs/data-science-course/lib/python3.10/site-packages/matplotlib/artist.py:1197\u001b[0m, in \u001b[0;36mArtist._update_props\u001b[0;34m(self, props, errfmt)\u001b[0m\n\u001b[1;32m   1195\u001b[0m             func \u001b[38;5;241m=\u001b[39m \u001b[38;5;28mgetattr\u001b[39m(\u001b[38;5;28mself\u001b[39m, \u001b[38;5;124mf\u001b[39m\u001b[38;5;124m\"\u001b[39m\u001b[38;5;124mset_\u001b[39m\u001b[38;5;132;01m{\u001b[39;00mk\u001b[38;5;132;01m}\u001b[39;00m\u001b[38;5;124m\"\u001b[39m, \u001b[38;5;28;01mNone\u001b[39;00m)\n\u001b[1;32m   1196\u001b[0m             \u001b[38;5;28;01mif\u001b[39;00m \u001b[38;5;129;01mnot\u001b[39;00m callable(func):\n\u001b[0;32m-> 1197\u001b[0m                 \u001b[38;5;28;01mraise\u001b[39;00m \u001b[38;5;167;01mAttributeError\u001b[39;00m(\n\u001b[1;32m   1198\u001b[0m                     errfmt\u001b[38;5;241m.\u001b[39mformat(\u001b[38;5;28mcls\u001b[39m\u001b[38;5;241m=\u001b[39m\u001b[38;5;28mtype\u001b[39m(\u001b[38;5;28mself\u001b[39m), prop_name\u001b[38;5;241m=\u001b[39mk))\n\u001b[1;32m   1199\u001b[0m             ret\u001b[38;5;241m.\u001b[39mappend(func(v))\n\u001b[1;32m   1200\u001b[0m \u001b[38;5;28;01mif\u001b[39;00m ret:\n",
      "\u001b[0;31mAttributeError\u001b[0m: Line2D.set() got an unexpected keyword argument 's'"
     ]
    },
    {
     "data": {
      "image/png": "[encoded data removed]",
      "text/plain": [
       "<Figure size 1200x1200 with 2 Axes>"
      ]
     },
     "metadata": {},
     "output_type": "display_data"
    }
   ],
   "source": [
    "curves = {\n",
    "        r\"infinite\": (\n",
    "            dict(\n",
    "                obj_type=Figure.Type.CURVE,\n",
    "                label=r\"$\\frac{1}{x}$\",\n",
    "                x_min=-4,\n",
    "                x_max=0,\n",
    "                formula=lambda x: 1 / x,\n",
    "            ),\n",
    "            dict(\n",
    "                obj_type=Figure.Type.CURVE,\n",
    "                label=r\"$\\frac{1}{x}$\",\n",
    "                x_min=0,\n",
    "                x_max=4,\n",
    "                formula=lambda x: 1 / x,\n",
    "            ),\n",
    "        ),\n",
    "    r\"jump\": (\n",
    "            dict(\n",
    "                obj_type=Figure.Type.CURVE,\n",
    "                label=r\"$x^2$\",\n",
    "                x_min=-2,\n",
    "                x_max=1,\n",
    "                formula=lambda x: x*x,\n",
    "            ),\n",
    "            dict(\n",
    "                obj_type=Figure.Type.CURVE,\n",
    "                label=r\"$x^2 + 2$\",\n",
    "                x_min=1,\n",
    "                x_max=2,\n",
    "                formula=lambda x: x*x+1,\n",
    "            ),\n",
    "        dict(\n",
    "                obj_type=Figure.Type.POINT_EMPTY,\n",
    "                label=r\"$y=1 if x=1$\",\n",
    "                x_min=1,\n",
    "                x_max=1,\n",
    "                formula=lambda x: 1*x,\n",
    "            ),\n",
    "        ),\n",
    "    }\n",
    "CurveAnalyser(curves, False)"
   ]
  },
  {
   "cell_type": "markdown",
   "id": "68d7b2a0-0332-4caf-a0b7-ade2d8a6a3ef",
   "metadata": {},
   "source": []
  },
  {
   "cell_type": "markdown",
   "id": "53a77d65-14e2-4502-89a9-83d4dd98e397",
   "metadata": {},
   "source": [
    "## Critical points (Критические точки)"
   ]
  },
  {
   "cell_type": "markdown",
   "id": "da14ec54-88da-427a-bee5-4066b27f78f9",
   "metadata": {},
   "source": [
    "## Точка излома"
   ]
  },
  {
   "cell_type": "markdown",
   "id": "daa7f433-e54d-41a5-9606-35c1502256cb",
   "metadata": {},
   "source": [
    "## Limit of a function (Предел функции)"
   ]
  },
  {
   "cell_type": "markdown",
   "id": "1fd4be45-c7f8-4a1d-931a-a3e64c151111",
   "metadata": {},
   "source": [
    "# Singularity (Особенность / Cингулярность функции)"
   ]
  },
  {
   "cell_type": "markdown",
   "id": "85d8851d-cfe3-47b9-9130-300703e15cb8",
   "metadata": {},
   "source": [
    "# Производная функции"
   ]
  },
  {
   "cell_type": "markdown",
   "id": "40e9e961-9697-421e-94e7-c708f4125d45",
   "metadata": {},
   "source": [
    "# Полезные/Элементарные функции"
   ]
  },
  {
   "cell_type": "markdown",
   "id": "a8e99a15-cc53-4c95-a0b6-0cdbe9b78e27",
   "metadata": {},
   "source": [
    "## Степень\n",
    "\n",
    "$f(x) = x^{k+b}$"
   ]
  },
  {
   "cell_type": "markdown",
   "id": "1eb7db4c-c105-4de9-ae17-67e1d5dbca68",
   "metadata": {
    "tags": []
   },
   "source": [
    "## Sign function\n",
    "\n",
    "The **sign function** or **signum function** (from signum, Latin for \"sign\") is a function that returns the **sign of a real number**.\n",
    "\n",
    "$\n",
    "sgn(x) :=\n",
    "\\begin{cases}\n",
    "-1 & \\text{if } x < 0,\\\\\n",
    "0 & \\text{if } x = 0,\\\\\n",
    "1 & \\text{if} x > 0.\n",
    "\\end{cases}\n",
    "$\n",
    "\n",
    "- Нечетная"
   ]
  },
  {
   "cell_type": "code",
   "execution_count": 3,
   "id": "832f7c31-f568-4237-8e3b-27237accebbd",
   "metadata": {},
   "outputs": [
    {
     "ename": "AttributeError",
     "evalue": "CURVE_WITH_GAPS",
     "output_type": "error",
     "traceback": [
      "\u001b[0;31m---------------------------------------------------------------------------\u001b[0m",
      "\u001b[0;31mAttributeError\u001b[0m                            Traceback (most recent call last)",
      "Cell \u001b[0;32mIn[3], line 3\u001b[0m\n\u001b[1;32m      1\u001b[0m curves \u001b[38;5;241m=\u001b[39m {\n\u001b[1;32m      2\u001b[0m     \u001b[38;5;124m\"\u001b[39m\u001b[38;5;124msign(x)\u001b[39m\u001b[38;5;124m\"\u001b[39m: (\n\u001b[0;32m----> 3\u001b[0m         \u001b[38;5;28mdict\u001b[39m(obj_type\u001b[38;5;241m=\u001b[39m\u001b[43mFigure\u001b[49m\u001b[38;5;241;43m.\u001b[39;49m\u001b[43mType\u001b[49m\u001b[38;5;241;43m.\u001b[39;49m\u001b[43mCURVE_WITH_GAPS\u001b[49m, x_min\u001b[38;5;241m=\u001b[39m\u001b[38;5;241m-\u001b[39m\u001b[38;5;241m4\u001b[39m, x_max\u001b[38;5;241m=\u001b[39m\u001b[38;5;241m4\u001b[39m, formula\u001b[38;5;241m=\u001b[39mnp\u001b[38;5;241m.\u001b[39msign),\n\u001b[1;32m      4\u001b[0m     )\n\u001b[1;32m      5\u001b[0m }\n\u001b[1;32m      6\u001b[0m CurveAnalyser(curves, \u001b[38;5;28;01mFalse\u001b[39;00m, \u001b[38;5;241m6\u001b[39m, \u001b[38;5;241m4\u001b[39m)\n",
      "File \u001b[0;32m~/anaconda3/envs/data-science-course/lib/python3.10/enum.py:437\u001b[0m, in \u001b[0;36mEnumMeta.__getattr__\u001b[0;34m(cls, name)\u001b[0m\n\u001b[1;32m    435\u001b[0m     \u001b[38;5;28;01mreturn\u001b[39;00m \u001b[38;5;28mcls\u001b[39m\u001b[38;5;241m.\u001b[39m_member_map_[name]\n\u001b[1;32m    436\u001b[0m \u001b[38;5;28;01mexcept\u001b[39;00m \u001b[38;5;167;01mKeyError\u001b[39;00m:\n\u001b[0;32m--> 437\u001b[0m     \u001b[38;5;28;01mraise\u001b[39;00m \u001b[38;5;167;01mAttributeError\u001b[39;00m(name) \u001b[38;5;28;01mfrom\u001b[39;00m \u001b[38;5;28mNone\u001b[39m\n",
      "\u001b[0;31mAttributeError\u001b[0m: CURVE_WITH_GAPS"
     ]
    }
   ],
   "source": [
    "curves = {\n",
    "    \"sign(x)\": (\n",
    "        dict(obj_type=Figure.Type.CURVE_WITH_GAPS, x_min=-4, x_max=4, formula=np.sign),\n",
    "    )\n",
    "}\n",
    "CurveAnalyser(curves, False, 6, 4)"
   ]
  },
  {
   "cell_type": "markdown",
   "id": "7851e454-4a4e-4fd8-9ec1-9341ba567f2f",
   "metadata": {},
   "source": [
    "## Absolute value / Modulus (Абсолютная величина / Модуль)"
   ]
  },
  {
   "cell_type": "markdown",
   "id": "6972d568-bdf6-4c52-b133-f213cf5a0c00",
   "metadata": {},
   "source": [
    "## Measurable function (Простая функция)\n",
    "\n",
    "Простая функция — измеримая функция, принимающая конечное число значений."
   ]
  },
  {
   "cell_type": "markdown",
   "id": "0ecb5b7b-e27b-4868-9326-ec977b15eaa2",
   "metadata": {},
   "source": [
    "# Симметричная функция"
   ]
  },
  {
   "cell_type": "markdown",
   "id": "3f24f3a0-7cbd-460f-bb82-9b34342506e4",
   "metadata": {
    "tags": []
   },
   "source": [
    "# Monotonic function (Монотонная функция)"
   ]
  },
  {
   "cell_type": "markdown",
   "id": "af8aff8e-113a-40b8-b54e-ef7c5170d463",
   "metadata": {},
   "source": [
    "## Smoothness (Гладкость)\n"
   ]
  },
  {
   "cell_type": "markdown",
   "id": "67abcc44-6ea2-44d5-8dab-cccdeb9e20d7",
   "metadata": {},
   "source": [
    "# Differentiable function (Дифференцируемая функция"
   ]
  },
  {
   "cell_type": "markdown",
   "id": "4ff0779c-65a0-4760-9657-ebea0189b67d",
   "metadata": {
    "tags": []
   },
   "source": [
    "## Функция $f(x)$ будет недифференцируема в точке $x_{0}$,например, в следующих случаях:\n",
    "\n",
    "- Точка $x_{0}$ является **точкой разрыва**, например, функция сигнум недифференцируема в нуле.\n",
    "\n",
    "- Функция имеет **угловую точку** в $x_{0}$, например, функция $|x|$ недифференцируема в нуле."
   ]
  },
  {
   "cell_type": "markdown",
   "id": "7194a26d-8f2a-4c94-b541-6ba4838b8839",
   "metadata": {},
   "source": [
    "# Homogeneous function (Однородная функция)\n"
   ]
  },
  {
   "cell_type": "markdown",
   "id": "0cd587c8-ca9d-4cd5-8218-3adf6732fba2",
   "metadata": {},
   "source": [
    "# Константная функция\n"
   ]
  },
  {
   "cell_type": "markdown",
   "id": "3d519fe9-d2dd-4083-a6c5-89d6508a827b",
   "metadata": {},
   "source": [
    "# Пример анализа"
   ]
  },
  {
   "cell_type": "code",
   "execution_count": null,
   "id": "8412faa4-b657-4fa1-ad71-794df5fa5e92",
   "metadata": {},
   "outputs": [],
   "source": [
    "curves_to_analyse = {\n",
    "    \"sin(x)\": (\n",
    "        dict(obj_type=Figure.Type.CURVE, x_min=-np.pi, x_max=np.pi, formula=np.sin),\n",
    "        dict(\n",
    "            obj_type=Figure.Type.DERIVATIVE_1, x_min=-np.pi, x_max=np.pi, formula=np.cos\n",
    "        ),\n",
    "        dict(\n",
    "            obj_type=Figure.Type.DERIVATIVE_2,\n",
    "            x_min=-np.pi,\n",
    "            x_max=np.pi,\n",
    "            formula=lambda x: -np.sin(x),\n",
    "        ),\n",
    "    ),\n",
    "    \"x\\u00B3\": (\n",
    "        dict(obj_type=Figure.Type.CURVE, x_min=-4, x_max=4, formula=np.square),\n",
    "        dict(\n",
    "            obj_type=Figure.Type.DERIVATIVE_1,\n",
    "            x_min=-4,\n",
    "            x_max=4,\n",
    "            formula=lambda x: 2 * x,\n",
    "        ),\n",
    "        dict(\n",
    "            obj_type=Figure.Type.DERIVATIVE_2,\n",
    "            x_min=-4,\n",
    "            x_max=4,\n",
    "            formula=lambda x: 2 + 0 * x,\n",
    "        ),\n",
    "    ),\n",
    "    \"x\\u00B2\": (\n",
    "        dict(\n",
    "            obj_type=Figure.Type.CURVE,\n",
    "            x_min=-4,\n",
    "            x_max=4,\n",
    "            formula=lambda x: x * x * x,\n",
    "        ),\n",
    "        dict(\n",
    "            obj_type=Figure.Type.DERIVATIVE_1,\n",
    "            x_min=-4,\n",
    "            x_max=4,\n",
    "            formula=lambda x: 3 * x * x,\n",
    "        ),\n",
    "        dict(\n",
    "            obj_type=Figure.Type.DERIVATIVE_2,\n",
    "            x_min=-4,\n",
    "            x_max=4,\n",
    "            formula=lambda x: 6 * x,\n",
    "        ),\n",
    "    ),\n",
    "}"
   ]
  },
  {
   "cell_type": "code",
   "execution_count": null,
   "id": "e886e45f-f202-4304-a191-90ad72b149aa",
   "metadata": {},
   "outputs": [],
   "source": [
    "CurveAnalyser(curves_to_analyse)"
   ]
  },
  {
   "cell_type": "markdown",
   "id": "273025a6-be26-41e7-b92d-f91b2837e85a",
   "metadata": {},
   "source": [
    "---\n",
    "\n",
    "[Monotonic function](https://en.wikipedia.org/wiki/Monotonic_function)\n",
    "\n",
    "[Монотонная функция](https://ru.wikipedia.org/wiki/%D0%9C%D0%BE%D0%BD%D0%BE%D1%82%D0%BE%D0%BD%D0%BD%D0%B0%D1%8F_%D1%84%D1%83%D0%BD%D0%BA%D1%86%D0%B8%D1%8F)\n",
    "\n",
    "[Differentiable function](https://en.wikipedia.org/wiki/Differentiable_function#Differentiability_classes)\n",
    "\n",
    "[Дифференцируемая функция]()\n",
    "\n",
    "[Непрерывная функция](https://ru.wikipedia.org/wiki/%D0%9D%D0%B5%D0%BF%D1%80%D0%B5%D1%80%D1%8B%D0%B2%D0%BD%D0%B0%D1%8F_%D1%84%D1%83%D0%BD%D0%BA%D1%86%D0%B8%D1%8F)\n",
    "\n",
    "[Sign function](https://en.wikipedia.org/wiki/Sign_function)\n",
    "\n",
    "[Предел функции](https://ru.wikipedia.org/wiki/%D0%9F%D1%80%D0%B5%D0%B4%D0%B5%D0%BB_%D1%84%D1%83%D0%BD%D0%BA%D1%86%D0%B8%D0%B8)\n",
    "\n",
    "[Limit of a function](https://en.wikipedia.org/wiki/Limit_of_a_function)\n",
    "\n",
    "[Экстремум](https://ru.wikipedia.org/wiki/%D0%AD%D0%BA%D1%81%D1%82%D1%80%D0%B5%D0%BC%D1%83%D0%BC)\n",
    "\n",
    "[Maximum and minimum](https://en.wikipedia.org/wiki/Maximum_and_minimum)\n",
    "\n",
    "[Симметрия](https://ru.wikipedia.org/wiki/%D0%A1%D0%B8%D0%BC%D0%BC%D0%B5%D1%82%D1%80%D0%B8%D1%8F)\n",
    "\n",
    "[Константная функция](https://ru.wikipedia.org/wiki/%D0%9A%D0%BE%D0%BD%D1%81%D1%82%D0%B0%D0%BD%D1%82%D0%BD%D0%B0%D1%8F_%D1%84%D1%83%D0%BD%D0%BA%D1%86%D0%B8%D1%8F)\n",
    "\n",
    "[Constant function](https://en.wikipedia.org/wiki/Constant_function)\n",
    "\n",
    "[Простая функция](https://ru.wikipedia.org/wiki/%D0%9F%D1%80%D0%BE%D1%81%D1%82%D0%B0%D1%8F_%D1%84%D1%83%D0%BD%D0%BA%D1%86%D0%B8%D1%8F)\n",
    "\n",
    "[Measurable function](https://en.wikipedia.org/wiki/Measurable_function)\n",
    "\n",
    "[Однородная функция](https://ru.wikipedia.org/wiki/%D0%9E%D0%B4%D0%BD%D0%BE%D1%80%D0%BE%D0%B4%D0%BD%D0%B0%D1%8F_%D1%84%D1%83%D0%BD%D0%BA%D1%86%D0%B8%D1%8F)\n",
    "\n",
    "[Homogeneous function](https://en.wikipedia.org/wiki/Homogeneous_function)\n",
    "\n",
    "[Периодическая функция]()\n",
    "\n",
    "[Periodic function](https://en.wikipedia.org/wiki/Periodic_function)\n",
    "\n",
    "[Smoothness](https://en.wikipedia.org/wiki/Smoothness)\n",
    "\n",
    "[Гладкая функция](https://ru.wikipedia.org/wiki/%D0%93%D0%BB%D0%B0%D0%B4%D0%BA%D0%B0%D1%8F_%D1%84%D1%83%D0%BD%D0%BA%D1%86%D0%B8%D1%8F#:~:text=%D0%93%D0%BB%D0%B0%D0%B4%D0%BA%D0%B0%D1%8F%20%D1%84%D1%83%D0%BD%D0%BA%D1%86%D0%B8%D1%8F%2C%20%D0%B8%D0%BB%D0%B8%20%D0%BD%D0%B5%D0%BF%D1%80%D0%B5%D1%80%D1%8B%D0%B2%D0%BD%D0%BE%20%D0%B4%D0%B8%D1%84%D1%84%D0%B5%D1%80%D0%B5%D0%BD%D1%86%D0%B8%D1%80%D1%83%D0%B5%D0%BC%D0%B0%D1%8F,%D0%B8%D0%BC%D0%B5%D1%8E%D1%89%D0%B8%D0%B5%20%D0%BD%D0%B5%D0%BF%D1%80%D0%B5%D1%80%D1%8B%D0%B2%D0%BD%D1%8B%D0%B5%20%D0%BF%D1%80%D0%BE%D0%B8%D0%B7%D0%B2%D0%BE%D0%B4%D0%BD%D1%8B%D0%B5%20%D0%B2%D1%81%D0%B5%D1%85%20%D0%BF%D0%BE%D1%80%D1%8F%D0%B4%D0%BA%D0%BE%D0%B2.)\n",
    "\n",
    "[Производная функции](https://ru.wikipedia.org/wiki/%D0%9F%D1%80%D0%BE%D0%B8%D0%B7%D0%B2%D0%BE%D0%B4%D0%BD%D0%B0%D1%8F_%D1%84%D1%83%D0%BD%D0%BA%D1%86%D0%B8%D0%B8)\n",
    "\n",
    "[Частная производная](https://ru.wikipedia.org/wiki/%D0%A7%D0%B0%D1%81%D1%82%D0%BD%D0%B0%D1%8F_%D0%BF%D1%80%D0%BE%D0%B8%D0%B7%D0%B2%D0%BE%D0%B4%D0%BD%D0%B0%D1%8F)\n",
    "\n",
    "[Partial derivative](https://en.wikipedia.org/wiki/Partial_derivative)\n",
    "\n",
    "[Derivative](https://en.wikipedia.org/wiki/Derivative)\n",
    "\n",
    "[Singularity (mathematics)](https://en.wikipedia.org/wiki/Singularity_(mathematics))\n",
    "\n",
    "[Особенность](https://ru.wikipedia.org/wiki/%D0%9E%D1%81%D0%BE%D0%B1%D0%B5%D0%BD%D0%BD%D0%BE%D1%81%D1%82%D1%8C)\n",
    "\n",
    "[Точка излома](https://ru.wikipedia.org/wiki/%D0%A2%D0%BE%D1%87%D0%BA%D0%B0_%D0%B8%D0%B7%D0%BB%D0%BE%D0%BC%D0%B0)\n",
    "\n",
    "[Критическая точка (математика)](https://ru.wikipedia.org/wiki/%D0%9A%D1%80%D0%B8%D1%82%D0%B8%D1%87%D0%B5%D1%81%D0%BA%D0%B0%D1%8F_%D1%82%D0%BE%D1%87%D0%BA%D0%B0_(%D0%BC%D0%B0%D1%82%D0%B5%D0%BC%D0%B0%D1%82%D0%B8%D0%BA%D0%B0))\n",
    "\n",
    "[Critical point](https://en.wikipedia.org/wiki/Critical_point_(mathematics))\n",
    "\n",
    "[Continuous function](https://en.wikipedia.org/wiki/Continuous_function)\n",
    "\n",
    "[Asymptote](https://en.wikipedia.org/wiki/Asymptote)\n",
    "\n",
    "[Асимптота](https://ru.wikipedia.org/wiki/%D0%90%D1%81%D0%B8%D0%BC%D0%BF%D1%82%D0%BE%D1%82%D0%B0)\n",
    "\n",
    "[What are the types of Discontinuities?](https://www.mathwarehouse.com/calculus/continuity/what-are-types-of-discontinuities.php)\n",
    "\n",
    "[]()\n",
    "\n",
    "[]()\n",
    "\n",
    "[]()\n",
    "\n",
    "[]()"
   ]
  },
  {
   "cell_type": "code",
   "execution_count": null,
   "id": "682522af-f592-458f-b9ef-554cad94e176",
   "metadata": {},
   "outputs": [],
   "source": []
  },
  {
   "cell_type": "code",
   "execution_count": null,
   "id": "31d12973-a978-4269-883e-908fbb82920c",
   "metadata": {},
   "outputs": [],
   "source": []
  }
 ],
 "metadata": {
  "kernelspec": {
   "display_name": "Python [conda env:data-science-course] *",
   "language": "python",
   "name": "conda-env-data-science-course-py"
  },
  "language_info": {
   "codemirror_mode": {
    "name": "ipython",
    "version": 3
   },
   "file_extension": ".py",
   "mimetype": "text/x-python",
   "name": "python",
   "nbconvert_exporter": "python",
   "pygments_lexer": "ipython3",
   "version": "3.10.9"
  }
 },
 "nbformat": 4,
 "nbformat_minor": 5
}
