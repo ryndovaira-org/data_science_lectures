{
 "cells": [
  {
   "cell_type": "markdown",
   "metadata": {
    "pycharm": {
     "name": "#%% md\n"
    }
   },
   "source": [
    "# Градиентный спуск (Gradient descent)"
   ]
  },
  {
   "cell_type": "markdown",
   "metadata": {},
   "source": [
    "---\n",
    "\n",
    "**Источники:**\n",
    "\n",
    "[Gradient descent](https://en.wikipedia.org/wiki/Gradient_descent)\n",
    "\n",
    "[Градиентный спуск](https://ru.wikipedia.org/wiki/%D0%93%D1%80%D0%B0%D0%B4%D0%B8%D0%B5%D0%BD%D1%82%D0%BD%D1%8B%D0%B9_%D1%81%D0%BF%D1%83%D1%81%D0%BA)\n",
    "\n",
    "[Gradient descent and loss landscape animations of neural networks in Python](https://prog.world/gradient-descent-and-loss-landscape-animations-of-neural-networks-in-python/)\n",
    "\n",
    "[Stochastic Gradient Descent for machine learning clearly explained](https://baptiste-monpezat.github.io/blog/stochastic-gradient-descent-for-machine-learning-clearly-explained)\n",
    "\n",
    "[]()\n",
    "\n",
    "[]()\n",
    "\n",
    "[]()\n",
    "\n",
    "[]()\n",
    "\n",
    "---"
   ]
  },
  {
   "cell_type": "markdown",
   "metadata": {},
   "source": [
    "## Локальный vs. Глобальный экстремум (минимум/максимум) / Local vs. Global extrema\n",
    "\n",
    "**Экстремум (лат. extremum — крайний) в математике — максимальное или минимальное значение функции** на заданном множестве.\n",
    "\n",
    "Точка, в которой достигается экстремум, называется точкой экстремума.\n",
    "\n",
    "Соответственно, если достигается минимум — точка экстремума называется точкой минимума, а если максимум — точкой максимума. \n",
    "\n",
    "В математическом анализе выделяют также понятие локальный экстремум (соответственно минимум или максимум).\n",
    "\n",
    "<img src=\"images/global_local_extrema.png\" width=500><img src=\"images/global_local_extrema_3d.png\" width=600>"
   ]
  },
  {
   "cell_type": "markdown",
   "metadata": {},
   "source": [
    "## Градиент\n",
    "\n",
    "Градиент (от лат. gradiens, род. п. gradientis \"шагающий, растущий\") — **вектор, своим направлением указывающий направление наибольшего возрастания некоторой величины** $\\varphi$, значение которой меняется от одной точки пространства к другой (скалярного поля), а по величине (модулю) равный скорости роста этой величины в этом направлении.\n",
    "\n",
    "<img src=\"images/gradient_1.gif\" width=800>\n",
    "\n",
    "**Операция градиента преобразует холм (слева), если смотреть на него сверху, в поле векторов (справа). Видно, что векторы направлены \"в горку\" и чем длиннее, тем круче наклон.**\n",
    "\n",
    "<img src=\"images/gradient_2.png\" width=800>"
   ]
  },
  {
   "cell_type": "markdown",
   "metadata": {},
   "source": [
    "## Выпуклая функция (выпуклая вниз функция) vs. Вогнутая функция (выпуклая вверх функция) / Convex function vs. Concave function\n",
    "\n",
    "**Выпуклая функция (выпуклая вниз функция)** — функция, для которой любой отрезок между двумя любыми точками графика функции в векторном пространстве лежит не ниже соответствующей дуги графика. Эквивалентно, выпуклой является функция, надграфик которой является выпуклым множеством.\n",
    "\n",
    "**Вогнутая функция (выпуклая вверх функция)** — функция, хорда между двумя точками графика, которой лежит не выше образованной дуги графика, или, что эквивалентно, подграфик которой является выпуклым множеством.\n",
    "\n",
    "<img src=\"images/convex_concave_1.svg\">\n",
    "\n",
    "**ВАЖНО: Локальный минимум выпуклой функции является также глобальным минимумом (соответственно, для вогнутых функций локальный максимум является глобальным максимумом).**\n",
    "\n",
    "<img src=\"images/convex_concave_2.gif\" width=600>"
   ]
  },
  {
   "cell_type": "markdown",
   "metadata": {},
   "source": [
    "## Градиентный спуск\n",
    "\n",
    "**Градиентный спуск — метод нахождения локального минимума или максимума функции с помощью движения вдоль градиента.**\n",
    "\n",
    "Для минимизации функции в направлении градиента используются методы одномерной оптимизации, например, метод золотого сечения. Также можно искать не наилучшую точку в направлении градиента, а какую-либо лучше текущей.\n",
    "\n",
    "**Наиболее простой в реализации из всех методов локальной оптимизации.**\n",
    "\n",
    "Имеет довольно слабые условия сходимости, но при этом скорость сходимости достаточно мала (линейна).\n",
    "\n",
    "<img src=\"images/3d_plot_example_1.png\" width=800>\n",
    "\n",
    "<img src=\"images/3d_plot_example_2.png\" width=500><img src=\"images/gradient_descent_1.gif\" width=500>\n",
    "\n",
    "<img src=\"images/gradient_descent_2.gif\">\n",
    "\n",
    "<img src=\"images/gradient_descent_3.gif\">"
   ]
  }
 ],
 "metadata": {
  "kernelspec": {
   "display_name": "Python 3",
   "language": "python",
   "name": "python3"
  },
  "language_info": {
   "codemirror_mode": {
    "name": "ipython",
    "version": 3
   },
   "file_extension": ".py",
   "mimetype": "text/x-python",
   "name": "python",
   "nbconvert_exporter": "python",
   "pygments_lexer": "ipython3",
   "version": "3.8.3"
  }
 },
 "nbformat": 4,
 "nbformat_minor": 4
}
