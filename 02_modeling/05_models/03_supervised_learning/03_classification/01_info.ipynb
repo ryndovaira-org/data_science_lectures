{
 "cells": [
  {
   "cell_type": "markdown",
   "metadata": {
    "jupyter": {
     "outputs_hidden": true
    }
   },
   "source": [
    "# Классификация (Classification)"
   ]
  },
  {
   "cell_type": "markdown",
   "source": [
    "# References\n",
    "\n",
    "**Источники:**\n",
    "\n",
    "[17 Clustering Algorithms Used In Data Science and Mining](https://towardsdatascience.com/17-clustering-algorithms-used-in-data-science-mining-49dbfa5bf69a)\n",
    "\n",
    "[]()\n",
    "\n",
    "[]()\n",
    "\n",
    "[]()\n",
    "\n",
    "[]()\n",
    "\n",
    "[]()\n",
    "\n",
    "[]()\n",
    "\n",
    "[]()\n",
    "\n",
    "[]()\n",
    "\n",
    "[]()\n",
    "\n",
    "[]()\n",
    "\n",
    "# References"
   ],
   "metadata": {
    "collapsed": false
   }
  },
  {
   "cell_type": "markdown",
   "metadata": {},
   "source": [
    "# References\n",
    "\n",
    "**Тип**:\n",
    "\n",
    "Обучение с учителем (supervised learning).\n",
    "\n",
    "# References\n",
    "\n",
    "**Примеры использования**:\n",
    "\n",
    "- Классификация вида заболевания (дифференциальная диагностика)\n",
    "- Определение наиболее подходящего лекарства\n",
    "- Предсказание месторождений полезных ископаемых\n",
    "- Оценивание кредитоспособности\n",
    "- Классификация документов\n",
    "- Детектирование спама\n",
    "- Предсказание оттока клиентов\n",
    "\n",
    "# References\n",
    "\n",
    "**Дано**:\n",
    "\n",
    "Признаки (features).\n",
    "\n",
    "Примеры:\n",
    "- возраст\n",
    "- площадь\n",
    "- температура тела\n",
    "- средний доход\n",
    "- объем\n",
    "- цвет\n",
    "- число покупок\n",
    "\n",
    "# References\n",
    "\n",
    "**Результат**:\n",
    "\n",
    "Класс или несколько классов (multi-label).\n",
    "\n",
    "Примеры:\n",
    "- спам / не спам\n",
    "- доступен кредит малых / средних / крупных размеров\n",
    "- кошка / собака / птица\n",
    "- мужчина / женщина\n",
    "\n",
    "# References\n",
    "\n",
    "**Модели:**\n",
    "\n",
    "- **Метод k-ближайших соседей (k-nearest neighbors, KNNs)**\n",
    "- **Логистическая регрессия (Logistic regression)**\n",
    "- **Метод опорных векторов (Support-vector machine, SVM)**\n",
    "- **Дерево решений (Decision tree)**\n",
    "- *Наивный байесовский классификатор (Naive Bayes classifier)*\n",
    "- *XGBoost Classifier*\n",
    "- *Random Forest Classifier*\n",
    "- *LGBM Classifier*\n",
    "- *CatBoostClassifier*\n",
    "    \n",
    "# References\n",
    "\n",
    "<img src=\"images/classification_vs_regression.png\"/>\n",
    "\n",
    "# References\n",
    "\n",
    "**ВНИМАНИЕ:**\n",
    "\n",
    "Не путать **multi-class** и **multi-label** классификации.\n",
    "\n",
    "<img src=\"images/multiclass_vs_multilabel.png\"/>"
   ]
  }
 ],
 "metadata": {
  "kernelspec": {
   "display_name": "Python [conda env:LevelUp_DataScience] *",
   "language": "python",
   "name": "conda-env-LevelUp_DataScience-py"
  },
  "language_info": {
   "codemirror_mode": {
    "name": "ipython",
    "version": 3
   },
   "file_extension": ".py",
   "mimetype": "text/x-python",
   "name": "python",
   "nbconvert_exporter": "python",
   "pygments_lexer": "ipython3",
   "version": "3.8.3"
  }
 },
 "nbformat": 4,
 "nbformat_minor": 4
}
