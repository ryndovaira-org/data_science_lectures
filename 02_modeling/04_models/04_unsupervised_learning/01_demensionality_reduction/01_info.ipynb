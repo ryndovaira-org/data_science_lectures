{
 "cells": [
  {
   "cell_type": "markdown",
   "metadata": {},
   "source": [
    "# Снижение размерности (Dimensionality reduction)\n",
    " — это преобразование данных, состоящее в уменьшении числа переменных путём получения главных переменных.\n",
    "Преобразование может быть разделено на отбор признаков и выделение признаков."
   ]
  },
  {
   "cell_type": "markdown",
   "metadata": {},
   "source": [
    "# References\n",
    "\n",
    "\n",
    "**Тип**:\n",
    "\n",
    "Обучение без учителя (unsupervised learning).\n",
    "\n",
    "# References\n",
    "\n",
    "**Примеры использования**:\n",
    "\n",
    "- Уменьшает требуемое время и память. Производительность алгоритмов машинного обучения может снизиться из-за слишком большого количества входных переменных.\n",
    "- Удаление мультиколлинеарности улучшает скорость модели машинного обучения.\n",
    "- Проще представить данные визуально, если свести к очень низким размерностям, таким как 2D или 3D.\n",
    "\n",
    "<img src=\"images/dimensionality_example.png\" width=500/>\n",
    "\n",
    "# References\n",
    "\n",
    "**Модели:**\n",
    "\n",
    "- **Principal component analysis (PCA) / Метод главных компонент (МГК)**\n",
    "- **T-distributed Stochastic Neighbor Embedding (t-SNE) / t-распределенное стохастическое вложение соседей**\n",
    "- **Uniform manifold approximation and projection (UMAP) / Аппроксимация и проекция равномерного многообразия**\n",
    "- Non-negative matrix factorization (NMF) / Неотрицательное матричное разложение (НМР)\n",
    "- Kernel PCA / Ядерный метод главных компонент (ЯМГК)\n",
    "- Graph-based kernel PCA / Основанный на графах ядерный МГК\n",
    "- Linear discriminant analysis (LDA) / Линейный дискриминантный анализ (ЛДА)\n",
    "- Generalized discriminant analysis (GDA) / Обобщённый дискриминантный анализ (ОДА)\n",
    "- Autoencoder / Автокодировщик\n",
    "- Factor analysis / Факторный анализ\n",
    "- ..."
   ]
  },
  {
   "cell_type": "markdown",
   "metadata": {},
   "source": [
    "См. [Manifold learning](https://scikit-learn.org/stable/modules/manifold.html#t-sne)"
   ]
  }
 ],
 "metadata": {
  "kernelspec": {
   "display_name": "Python 3",
   "language": "python",
   "name": "python3"
  },
  "language_info": {
   "codemirror_mode": {
    "name": "ipython",
    "version": 3
   },
   "file_extension": ".py",
   "mimetype": "text/x-python",
   "name": "python",
   "nbconvert_exporter": "python",
   "pygments_lexer": "ipython3",
   "version": "3.8.3"
  }
 },
 "nbformat": 4,
 "nbformat_minor": 4
}
