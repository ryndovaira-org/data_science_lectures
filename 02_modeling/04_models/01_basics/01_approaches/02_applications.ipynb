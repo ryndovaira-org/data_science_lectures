{
 "cells": [
  {
   "cell_type": "code",
   "execution_count": 3,
   "id": "188b0737-218c-443f-b5fc-c93462674dc8",
   "metadata": {},
   "outputs": [],
   "source": [
    "%load_ext autoreload\n",
    "%autoreload 2\n",
    "\n",
    "import os\n",
    "import sys\n",
    "\n",
    "sys.path.append(os.path.abspath('../../../../../'))\n",
    "from utils.plot_example_functions import function_features"
   ]
  },
  {
   "cell_type": "markdown",
   "id": "c5e08960-af48-4d0f-a4a4-6a306f463451",
   "metadata": {},
   "source": [
    "# Исследование функции / Основные параметры функций\n",
    "\n",
    "In mathematics, a function from a set X to a set Y assigns to each element of X exactly one element of Y.\n",
    "\n",
    "The set X is called the domain of the function and the set Y is called the codomain of the function."
   ]
  },
  {
   "cell_type": "markdown",
   "id": "344d0b4f-e613-413f-b7ae-a95c4e74439e",
   "metadata": {},
   "source": [
    "## Область определения\n",
    "\n",
    "Область определения функции $D(y)$ - это **допустимые значения независимой переменной** (переменной $x$)."
   ]
  },
  {
   "cell_type": "markdown",
   "id": "0a3b8fe2-55de-4ba1-93c4-ad722c7e8918",
   "metadata": {},
   "source": [
    "## Область значений\n",
    "\n",
    "Область значений функции $E(y)$ — это множество значений, которые принимает **зависимая переменная** (переменная $y$)."
   ]
  },
  {
   "cell_type": "markdown",
   "id": "e3430b0b-8591-471f-81f9-79e8d0722a67",
   "metadata": {},
   "source": [
    "## Нули / Корни\n",
    "\n",
    "Нули функции — это значения аргумента (переменной $x$), при которых значение функции (переменной $y$) равно 0."
   ]
  },
  {
   "cell_type": "markdown",
   "id": "91b8a04c-9bcd-4799-82f3-701afed74372",
   "metadata": {},
   "source": [
    "## Промежутки монотонности\n",
    "\n",
    "Промежутки монотонности функции $y=f(x)$ - это такие промежутки значений  аргумента $х$, при которых функция $y=f(x)$ возрастает или убывает.\n",
    "\n",
    "Функция называется возрастающей ($y\\uparrow$) на некотором промежутке, если для любых значений аргумента из этого промежутка большему значению аргумента соответствует большее значение функции.\n",
    "\n",
    "Функция называется убывающей ($y\\downarrow$) на некотором промежутке, если для любых значений аргумента из этого промежутка большему значению аргумента соответствует меньшее значение функции.\n",
    "\n",
    "Другими словами: если слева направо график функции \"идёт вверх\", то на этом промежутке функция возрастает, а если \"вниз\" — то убывает. "
   ]
  },
  {
   "cell_type": "markdown",
   "id": "c7c7fbb3-412f-4ab0-ab1e-6dee843a6dc8",
   "metadata": {},
   "source": [
    "## Промежутки знакопостоянства\n",
    "\n",
    "Промежутки знакопостоянства функции $y=f(x)$ - это такие промежутки значений аргумента, на которых функция сохраняет свой знак, то есть $f(x) > 0 $ или $f(x) < 0$."
   ]
  },
  {
   "cell_type": "markdown",
   "id": "913cb36f-5032-4497-bde5-61d69a91817c",
   "metadata": {},
   "source": [
    "## Точки максимума и минимума\n",
    "\n",
    "Обычно точки максимума и минимума функции находятся, проводя исследование функции с помощью производной."
   ]
  },
  {
   "cell_type": "markdown",
   "id": "09ada020-df03-48a5-b828-20a61482aea9",
   "metadata": {},
   "source": [
    "## Четность / Нечетность\n",
    "\n",
    "Нечётными и чётными называются функции, обладающие симметрией относительно изменения знака аргумента.\n",
    "\n",
    "**Нечётная функция** — функция, меняющая значение на противоположное при изменении знака независимой переменной (график её симметричен относительно центра координат).\n",
    "\n",
    "**Чётная функция** — функция, не изменяющая своего значения при изменении знака независимой переменной (график её симметричен относительно оси ординат).\n",
    "\n",
    "**Ни чётная, ни нечётная функция (или функция общего вида)** — функция, не попадающая в предыдущие 2 категории."
   ]
  },
  {
   "cell_type": "markdown",
   "id": "0de9eac3-8088-434b-935f-c2f8e4941ac5",
   "metadata": {},
   "source": [
    "## Периодичность"
   ]
  },
  {
   "cell_type": "code",
   "execution_count": 74,
   "id": "e886e45f-f202-4304-a191-90ad72b149aa",
   "metadata": {},
   "outputs": [
    {
     "name": "stdout",
     "output_type": "stream",
     "text": [
      "y↑ where x = [-3, 0]\n",
      "y↑ where x = [2, 4]\n",
      "y↓ where x = [0, 2]\n"
     ]
    },
    {
     "data": {
      "image/png": "[encoded data removed]",
      "text/plain": [
       "<Figure size 640x480 with 1 Axes>"
      ]
     },
     "metadata": {},
     "output_type": "display_data"
    }
   ],
   "source": [
    "function_features()"
   ]
  },
  {
   "cell_type": "markdown",
   "id": "53a77d65-14e2-4502-89a9-83d4dd98e397",
   "metadata": {},
   "source": [
    "## Critical point (Критическая точка)"
   ]
  },
  {
   "cell_type": "markdown",
   "id": "da14ec54-88da-427a-bee5-4066b27f78f9",
   "metadata": {},
   "source": [
    "## Точка излома"
   ]
  },
  {
   "cell_type": "markdown",
   "id": "daa7f433-e54d-41a5-9606-35c1502256cb",
   "metadata": {},
   "source": [
    "## Limit of a function (Предел функции)"
   ]
  },
  {
   "cell_type": "markdown",
   "id": "1fd4be45-c7f8-4a1d-931a-a3e64c151111",
   "metadata": {},
   "source": [
    "# Singularity (Особенность / Cингулярность функции)"
   ]
  },
  {
   "cell_type": "markdown",
   "id": "85d8851d-cfe3-47b9-9130-300703e15cb8",
   "metadata": {},
   "source": [
    "# Производная функции"
   ]
  },
  {
   "cell_type": "markdown",
   "id": "40e9e961-9697-421e-94e7-c708f4125d45",
   "metadata": {},
   "source": [
    "# Полезные/Элементарные функции"
   ]
  },
  {
   "cell_type": "markdown",
   "id": "1eb7db4c-c105-4de9-ae17-67e1d5dbca68",
   "metadata": {
    "tags": []
   },
   "source": [
    "## Sign function\n",
    "\n",
    "The **sign function** or **signum function** (from signum, Latin for \"sign\") is a function that returns the **sign of a real number**.\n",
    "\n",
    "$$\n",
    "sgn(x) :=\n",
    "\\begin{cases}\n",
    "-1 & \\text{if } x < 0,\\\\\n",
    "0 & \\text{if } x = 0,\\\\\n",
    "1 & \\text{if} x > 0.\n",
    "\\end{cases}\n",
    "$$\n",
    "\n",
    "<center><img src='../../../../../images/signum_function.png' width=300/></center>"
   ]
  },
  {
   "cell_type": "markdown",
   "id": "7851e454-4a4e-4fd8-9ec1-9341ba567f2f",
   "metadata": {},
   "source": [
    "## Absolute value / Modulus (Абсолютная величина / Модуль)"
   ]
  },
  {
   "cell_type": "markdown",
   "id": "6972d568-bdf6-4c52-b133-f213cf5a0c00",
   "metadata": {},
   "source": [
    "# Measurable function (Простая функция)\n",
    "\n",
    "Простая функция — измеримая функция, принимающая конечное число значений."
   ]
  },
  {
   "cell_type": "markdown",
   "id": "0ecb5b7b-e27b-4868-9326-ec977b15eaa2",
   "metadata": {},
   "source": [
    "# Симметричная функция"
   ]
  },
  {
   "cell_type": "markdown",
   "id": "2d01365b-1909-47f6-bf96-5b286deebc38",
   "metadata": {},
   "source": [
    "# Continuous function (Непрерывная функция)"
   ]
  },
  {
   "cell_type": "markdown",
   "id": "3f24f3a0-7cbd-460f-bb82-9b34342506e4",
   "metadata": {
    "tags": []
   },
   "source": [
    "# Monotonic function (Монотонная функция)"
   ]
  },
  {
   "cell_type": "markdown",
   "id": "af8aff8e-113a-40b8-b54e-ef7c5170d463",
   "metadata": {},
   "source": [
    "## (Гладкая функция)\n"
   ]
  },
  {
   "cell_type": "markdown",
   "id": "67abcc44-6ea2-44d5-8dab-cccdeb9e20d7",
   "metadata": {},
   "source": [
    "# Differentiable function (Дифференцируемая функция"
   ]
  },
  {
   "cell_type": "markdown",
   "id": "4ff0779c-65a0-4760-9657-ebea0189b67d",
   "metadata": {
    "tags": []
   },
   "source": [
    "## Функция $f(x)$ будет недифференцируема в точке $x_{0}$,например, в следующих случаях:\n",
    "\n",
    "- Точка $x_{0}$ является **точкой разрыва**, например, функция сигнум недифференцируема в нуле.\n",
    "\n",
    "- Функция имеет **угловую точку** в $x_{0}$, например, функция $|x|$ недифференцируема в нуле."
   ]
  },
  {
   "cell_type": "markdown",
   "id": "7194a26d-8f2a-4c94-b541-6ba4838b8839",
   "metadata": {},
   "source": [
    "# Homogeneous function (Однородная функция)\n"
   ]
  },
  {
   "cell_type": "markdown",
   "id": "0cd587c8-ca9d-4cd5-8218-3adf6732fba2",
   "metadata": {},
   "source": [
    "# Константная функция\n"
   ]
  },
  {
   "cell_type": "markdown",
   "id": "d4e21cd2-be33-4692-8e3d-c5f62f69fb22",
   "metadata": {},
   "source": [
    "# Periodic function (Периодическая функция)\n",
    "\n",
    "Периодическая функция ― функция, повторяющая свои значения через некоторый **регулярный интервал** аргумента, то есть не меняющая своего значения при добавлении к аргументу некоторого фиксированного ненулевого числа (периода функции) на всей области определения.\n",
    "\n",
    "Графики синуса и косинуса — периодических функций с периодом $=2\\pi$.\n",
    "\n",
    "<center><img src='../../../../../images/sine_cosine_plot.png' width=400/></center>"
   ]
  },
  {
   "cell_type": "markdown",
   "id": "273025a6-be26-41e7-b92d-f91b2837e85a",
   "metadata": {},
   "source": [
    "---\n",
    "\n",
    "[Monotonic function](https://en.wikipedia.org/wiki/Monotonic_function)\n",
    "\n",
    "[Монотонная функция](https://ru.wikipedia.org/wiki/%D0%9C%D0%BE%D0%BD%D0%BE%D1%82%D0%BE%D0%BD%D0%BD%D0%B0%D1%8F_%D1%84%D1%83%D0%BD%D0%BA%D1%86%D0%B8%D1%8F)\n",
    "\n",
    "[Differentiable function](https://en.wikipedia.org/wiki/Differentiable_function#Differentiability_classes)\n",
    "\n",
    "[Дифференцируемая функция]()\n",
    "\n",
    "[Непрерывная функция](https://ru.wikipedia.org/wiki/%D0%9D%D0%B5%D0%BF%D1%80%D0%B5%D1%80%D1%8B%D0%B2%D0%BD%D0%B0%D1%8F_%D1%84%D1%83%D0%BD%D0%BA%D1%86%D0%B8%D1%8F)\n",
    "\n",
    "[Sign function](https://en.wikipedia.org/wiki/Sign_function)\n",
    "\n",
    "[Предел функции](https://ru.wikipedia.org/wiki/%D0%9F%D1%80%D0%B5%D0%B4%D0%B5%D0%BB_%D1%84%D1%83%D0%BD%D0%BA%D1%86%D0%B8%D0%B8)\n",
    "\n",
    "[Limit of a function](https://en.wikipedia.org/wiki/Limit_of_a_function)\n",
    "\n",
    "[Экстремум](https://ru.wikipedia.org/wiki/%D0%AD%D0%BA%D1%81%D1%82%D1%80%D0%B5%D0%BC%D1%83%D0%BC)\n",
    "\n",
    "[Maximum and minimum](https://en.wikipedia.org/wiki/Maximum_and_minimum)\n",
    "\n",
    "[Симметрия](https://ru.wikipedia.org/wiki/%D0%A1%D0%B8%D0%BC%D0%BC%D0%B5%D1%82%D1%80%D0%B8%D1%8F)\n",
    "\n",
    "[Константная функция](https://ru.wikipedia.org/wiki/%D0%9A%D0%BE%D0%BD%D1%81%D1%82%D0%B0%D0%BD%D1%82%D0%BD%D0%B0%D1%8F_%D1%84%D1%83%D0%BD%D0%BA%D1%86%D0%B8%D1%8F)\n",
    "\n",
    "[Constant function](https://en.wikipedia.org/wiki/Constant_function)\n",
    "\n",
    "[Простая функция](https://ru.wikipedia.org/wiki/%D0%9F%D1%80%D0%BE%D1%81%D1%82%D0%B0%D1%8F_%D1%84%D1%83%D0%BD%D0%BA%D1%86%D0%B8%D1%8F)\n",
    "\n",
    "[Measurable function](https://en.wikipedia.org/wiki/Measurable_function)\n",
    "\n",
    "[Однородная функция](https://ru.wikipedia.org/wiki/%D0%9E%D0%B4%D0%BD%D0%BE%D1%80%D0%BE%D0%B4%D0%BD%D0%B0%D1%8F_%D1%84%D1%83%D0%BD%D0%BA%D1%86%D0%B8%D1%8F)\n",
    "\n",
    "[Homogeneous function](https://en.wikipedia.org/wiki/Homogeneous_function)\n",
    "\n",
    "[Периодическая функция]()\n",
    "\n",
    "[Periodic function](https://en.wikipedia.org/wiki/Periodic_function)\n",
    "\n",
    "[Smoothness](https://en.wikipedia.org/wiki/Smoothness)\n",
    "\n",
    "[Гладкая функция](https://ru.wikipedia.org/wiki/%D0%93%D0%BB%D0%B0%D0%B4%D0%BA%D0%B0%D1%8F_%D1%84%D1%83%D0%BD%D0%BA%D1%86%D0%B8%D1%8F#:~:text=%D0%93%D0%BB%D0%B0%D0%B4%D0%BA%D0%B0%D1%8F%20%D1%84%D1%83%D0%BD%D0%BA%D1%86%D0%B8%D1%8F%2C%20%D0%B8%D0%BB%D0%B8%20%D0%BD%D0%B5%D0%BF%D1%80%D0%B5%D1%80%D1%8B%D0%B2%D0%BD%D0%BE%20%D0%B4%D0%B8%D1%84%D1%84%D0%B5%D1%80%D0%B5%D0%BD%D1%86%D0%B8%D1%80%D1%83%D0%B5%D0%BC%D0%B0%D1%8F,%D0%B8%D0%BC%D0%B5%D1%8E%D1%89%D0%B8%D0%B5%20%D0%BD%D0%B5%D0%BF%D1%80%D0%B5%D1%80%D1%8B%D0%B2%D0%BD%D1%8B%D0%B5%20%D0%BF%D1%80%D0%BE%D0%B8%D0%B7%D0%B2%D0%BE%D0%B4%D0%BD%D1%8B%D0%B5%20%D0%B2%D1%81%D0%B5%D1%85%20%D0%BF%D0%BE%D1%80%D1%8F%D0%B4%D0%BA%D0%BE%D0%B2.)\n",
    "\n",
    "[Производная функции](https://ru.wikipedia.org/wiki/%D0%9F%D1%80%D0%BE%D0%B8%D0%B7%D0%B2%D0%BE%D0%B4%D0%BD%D0%B0%D1%8F_%D1%84%D1%83%D0%BD%D0%BA%D1%86%D0%B8%D0%B8)\n",
    "\n",
    "[Частная производная](https://ru.wikipedia.org/wiki/%D0%A7%D0%B0%D1%81%D1%82%D0%BD%D0%B0%D1%8F_%D0%BF%D1%80%D0%BE%D0%B8%D0%B7%D0%B2%D0%BE%D0%B4%D0%BD%D0%B0%D1%8F)\n",
    "\n",
    "[Partial derivative](https://en.wikipedia.org/wiki/Partial_derivative)\n",
    "\n",
    "[Derivative](https://en.wikipedia.org/wiki/Derivative)\n",
    "\n",
    "[Singularity (mathematics)](https://en.wikipedia.org/wiki/Singularity_(mathematics))\n",
    "\n",
    "[Особенность](https://ru.wikipedia.org/wiki/%D0%9E%D1%81%D0%BE%D0%B1%D0%B5%D0%BD%D0%BD%D0%BE%D1%81%D1%82%D1%8C)\n",
    "\n",
    "[Точка излома](https://ru.wikipedia.org/wiki/%D0%A2%D0%BE%D1%87%D0%BA%D0%B0_%D0%B8%D0%B7%D0%BB%D0%BE%D0%BC%D0%B0)\n",
    "\n",
    "[Критическая точка (математика)](https://ru.wikipedia.org/wiki/%D0%9A%D1%80%D0%B8%D1%82%D0%B8%D1%87%D0%B5%D1%81%D0%BA%D0%B0%D1%8F_%D1%82%D0%BE%D1%87%D0%BA%D0%B0_(%D0%BC%D0%B0%D1%82%D0%B5%D0%BC%D0%B0%D1%82%D0%B8%D0%BA%D0%B0))\n",
    "\n",
    "[Critical point](https://en.wikipedia.org/wiki/Critical_point_(mathematics))\n",
    "\n",
    "[Continuous function](https://en.wikipedia.org/wiki/Continuous_function)\n",
    "\n",
    "[]()"
   ]
  },
  {
   "cell_type": "code",
   "execution_count": null,
   "id": "682522af-f592-458f-b9ef-554cad94e176",
   "metadata": {},
   "outputs": [],
   "source": []
  },
  {
   "cell_type": "code",
   "execution_count": null,
   "id": "31d12973-a978-4269-883e-908fbb82920c",
   "metadata": {},
   "outputs": [],
   "source": []
  }
 ],
 "metadata": {
  "kernelspec": {
   "display_name": "Python [conda env:data-science-course] *",
   "language": "python",
   "name": "conda-env-data-science-course-py"
  },
  "language_info": {
   "codemirror_mode": {
    "name": "ipython",
    "version": 3
   },
   "file_extension": ".py",
   "mimetype": "text/x-python",
   "name": "python",
   "nbconvert_exporter": "python",
   "pygments_lexer": "ipython3",
   "version": "3.10.9"
  }
 },
 "nbformat": 4,
 "nbformat_minor": 5
}
