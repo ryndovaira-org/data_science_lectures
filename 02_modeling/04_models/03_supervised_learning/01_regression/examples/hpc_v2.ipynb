{
 "cells": [
  {
   "cell_type": "markdown",
   "metadata": {},
   "source": [
    "# [Housing Prices Competition for Kaggle Learn Users](https://www.kaggle.com/c/home-data-for-ml-course)"
   ]
  },
  {
   "cell_type": "markdown",
   "metadata": {},
   "source": [
    "## Install necessary packages"
   ]
  },
  {
   "cell_type": "code",
   "execution_count": 1,
   "metadata": {
    "collapsed": false,
    "jupyter": {
     "outputs_hidden": false
    },
    "pycharm": {
     "name": "#%%\n"
    }
   },
   "outputs": [],
   "source": [
    "# !conda install numpy pandas matplotlib seaborn missingno scikit-learn pandas_profiling -y"
   ]
  },
  {
   "cell_type": "code",
   "execution_count": 2,
   "metadata": {
    "collapsed": false,
    "jupyter": {
     "outputs_hidden": false
    },
    "pycharm": {
     "name": "#%%\n"
    }
   },
   "outputs": [],
   "source": [
    "# !conda install -c conda-forge xgboost -y"
   ]
  },
  {
   "cell_type": "markdown",
   "metadata": {},
   "source": [
    "## Import necessary packages"
   ]
  },
  {
   "cell_type": "code",
   "execution_count": 3,
   "metadata": {
    "collapsed": false,
    "jupyter": {
     "outputs_hidden": false
    },
    "pycharm": {
     "name": "#%%\n"
    }
   },
   "outputs": [],
   "source": [
    "import numpy as np\n",
    "import pandas as pd\n",
    "\n",
    "from pandas.api.types import CategoricalDtype\n",
    "\n",
    "import seaborn as sns\n",
    "import matplotlib.pyplot as plt\n",
    "import missingno as msno\n",
    "from pandas_profiling import ProfileReport\n",
    "\n",
    "from sklearn.model_selection import train_test_split\n",
    "from sklearn.metrics import mean_absolute_error\n",
    "from sklearn.model_selection import cross_val_score\n",
    "from sklearn.compose import ColumnTransformer\n",
    "from sklearn.pipeline import Pipeline\n",
    "from sklearn.impute import SimpleImputer\n",
    "from sklearn.preprocessing import OneHotEncoder\n",
    "from xgboost import XGBRegressor"
   ]
  },
  {
   "cell_type": "markdown",
   "metadata": {},
   "source": [
    "## Read in data"
   ]
  },
  {
   "cell_type": "code",
   "execution_count": 4,
   "metadata": {},
   "outputs": [],
   "source": [
    "train_file_path = \"./../../data/hpc_train.csv\"\n",
    "test_file_path = \"./../../data/hpc_test.csv\""
   ]
  },
  {
   "cell_type": "code",
   "execution_count": 5,
   "metadata": {},
   "outputs": [],
   "source": [
    "pd.options.display.max_columns = None"
   ]
  },
  {
   "cell_type": "code",
   "execution_count": 6,
   "metadata": {
    "collapsed": false,
    "jupyter": {
     "outputs_hidden": false
    },
    "pycharm": {
     "name": "#%%\n"
    }
   },
   "outputs": [
    {
     "data": {
      "text/html": [
       "<div>\n",
       "<style scoped>\n",
       "    .dataframe tbody tr th:only-of-type {\n",
       "        vertical-align: middle;\n",
       "    }\n",
       "\n",
       "    .dataframe tbody tr th {\n",
       "        vertical-align: top;\n",
       "    }\n",
       "\n",
       "    .dataframe thead th {\n",
       "        text-align: right;\n",
       "    }\n",
       "</style>\n",
       "<table border=\"1\" class=\"dataframe\">\n",
       "  <thead>\n",
       "    <tr style=\"text-align: right;\">\n",
       "      <th></th>\n",
       "      <th>MSSubClass</th>\n",
       "      <th>MSZoning</th>\n",
       "      <th>LotFrontage</th>\n",
       "      <th>LotArea</th>\n",
       "      <th>Street</th>\n",
       "      <th>Alley</th>\n",
       "      <th>LotShape</th>\n",
       "      <th>LandContour</th>\n",
       "      <th>Utilities</th>\n",
       "      <th>LotConfig</th>\n",
       "      <th>LandSlope</th>\n",
       "      <th>Neighborhood</th>\n",
       "      <th>Condition1</th>\n",
       "      <th>Condition2</th>\n",
       "      <th>BldgType</th>\n",
       "      <th>HouseStyle</th>\n",
       "      <th>OverallQual</th>\n",
       "      <th>OverallCond</th>\n",
       "      <th>YearBuilt</th>\n",
       "      <th>YearRemodAdd</th>\n",
       "      <th>RoofStyle</th>\n",
       "      <th>RoofMatl</th>\n",
       "      <th>Exterior1st</th>\n",
       "      <th>Exterior2nd</th>\n",
       "      <th>MasVnrType</th>\n",
       "      <th>MasVnrArea</th>\n",
       "      <th>ExterQual</th>\n",
       "      <th>ExterCond</th>\n",
       "      <th>Foundation</th>\n",
       "      <th>BsmtQual</th>\n",
       "      <th>BsmtCond</th>\n",
       "      <th>BsmtExposure</th>\n",
       "      <th>BsmtFinType1</th>\n",
       "      <th>BsmtFinSF1</th>\n",
       "      <th>BsmtFinType2</th>\n",
       "      <th>BsmtFinSF2</th>\n",
       "      <th>BsmtUnfSF</th>\n",
       "      <th>TotalBsmtSF</th>\n",
       "      <th>Heating</th>\n",
       "      <th>HeatingQC</th>\n",
       "      <th>CentralAir</th>\n",
       "      <th>Electrical</th>\n",
       "      <th>1stFlrSF</th>\n",
       "      <th>2ndFlrSF</th>\n",
       "      <th>LowQualFinSF</th>\n",
       "      <th>GrLivArea</th>\n",
       "      <th>BsmtFullBath</th>\n",
       "      <th>BsmtHalfBath</th>\n",
       "      <th>FullBath</th>\n",
       "      <th>HalfBath</th>\n",
       "      <th>BedroomAbvGr</th>\n",
       "      <th>KitchenAbvGr</th>\n",
       "      <th>KitchenQual</th>\n",
       "      <th>TotRmsAbvGrd</th>\n",
       "      <th>Functional</th>\n",
       "      <th>Fireplaces</th>\n",
       "      <th>FireplaceQu</th>\n",
       "      <th>GarageType</th>\n",
       "      <th>GarageYrBlt</th>\n",
       "      <th>GarageFinish</th>\n",
       "      <th>GarageCars</th>\n",
       "      <th>GarageArea</th>\n",
       "      <th>GarageQual</th>\n",
       "      <th>GarageCond</th>\n",
       "      <th>PavedDrive</th>\n",
       "      <th>WoodDeckSF</th>\n",
       "      <th>OpenPorchSF</th>\n",
       "      <th>EnclosedPorch</th>\n",
       "      <th>3SsnPorch</th>\n",
       "      <th>ScreenPorch</th>\n",
       "      <th>PoolArea</th>\n",
       "      <th>PoolQC</th>\n",
       "      <th>Fence</th>\n",
       "      <th>MiscFeature</th>\n",
       "      <th>MiscVal</th>\n",
       "      <th>MoSold</th>\n",
       "      <th>YrSold</th>\n",
       "      <th>SaleType</th>\n",
       "      <th>SaleCondition</th>\n",
       "      <th>SalePrice</th>\n",
       "    </tr>\n",
       "    <tr>\n",
       "      <th>Id</th>\n",
       "      <th></th>\n",
       "      <th></th>\n",
       "      <th></th>\n",
       "      <th></th>\n",
       "      <th></th>\n",
       "      <th></th>\n",
       "      <th></th>\n",
       "      <th></th>\n",
       "      <th></th>\n",
       "      <th></th>\n",
       "      <th></th>\n",
       "      <th></th>\n",
       "      <th></th>\n",
       "      <th></th>\n",
       "      <th></th>\n",
       "      <th></th>\n",
       "      <th></th>\n",
       "      <th></th>\n",
       "      <th></th>\n",
       "      <th></th>\n",
       "      <th></th>\n",
       "      <th></th>\n",
       "      <th></th>\n",
       "      <th></th>\n",
       "      <th></th>\n",
       "      <th></th>\n",
       "      <th></th>\n",
       "      <th></th>\n",
       "      <th></th>\n",
       "      <th></th>\n",
       "      <th></th>\n",
       "      <th></th>\n",
       "      <th></th>\n",
       "      <th></th>\n",
       "      <th></th>\n",
       "      <th></th>\n",
       "      <th></th>\n",
       "      <th></th>\n",
       "      <th></th>\n",
       "      <th></th>\n",
       "      <th></th>\n",
       "      <th></th>\n",
       "      <th></th>\n",
       "      <th></th>\n",
       "      <th></th>\n",
       "      <th></th>\n",
       "      <th></th>\n",
       "      <th></th>\n",
       "      <th></th>\n",
       "      <th></th>\n",
       "      <th></th>\n",
       "      <th></th>\n",
       "      <th></th>\n",
       "      <th></th>\n",
       "      <th></th>\n",
       "      <th></th>\n",
       "      <th></th>\n",
       "      <th></th>\n",
       "      <th></th>\n",
       "      <th></th>\n",
       "      <th></th>\n",
       "      <th></th>\n",
       "      <th></th>\n",
       "      <th></th>\n",
       "      <th></th>\n",
       "      <th></th>\n",
       "      <th></th>\n",
       "      <th></th>\n",
       "      <th></th>\n",
       "      <th></th>\n",
       "      <th></th>\n",
       "      <th></th>\n",
       "      <th></th>\n",
       "      <th></th>\n",
       "      <th></th>\n",
       "      <th></th>\n",
       "      <th></th>\n",
       "      <th></th>\n",
       "      <th></th>\n",
       "      <th></th>\n",
       "    </tr>\n",
       "  </thead>\n",
       "  <tbody>\n",
       "    <tr>\n",
       "      <th>1</th>\n",
       "      <td>60</td>\n",
       "      <td>RL</td>\n",
       "      <td>65.0</td>\n",
       "      <td>8450</td>\n",
       "      <td>Pave</td>\n",
       "      <td>NaN</td>\n",
       "      <td>Reg</td>\n",
       "      <td>Lvl</td>\n",
       "      <td>AllPub</td>\n",
       "      <td>Inside</td>\n",
       "      <td>Gtl</td>\n",
       "      <td>CollgCr</td>\n",
       "      <td>Norm</td>\n",
       "      <td>Norm</td>\n",
       "      <td>1Fam</td>\n",
       "      <td>2Story</td>\n",
       "      <td>7</td>\n",
       "      <td>5</td>\n",
       "      <td>2003</td>\n",
       "      <td>2003</td>\n",
       "      <td>Gable</td>\n",
       "      <td>CompShg</td>\n",
       "      <td>VinylSd</td>\n",
       "      <td>VinylSd</td>\n",
       "      <td>BrkFace</td>\n",
       "      <td>196.0</td>\n",
       "      <td>Gd</td>\n",
       "      <td>TA</td>\n",
       "      <td>PConc</td>\n",
       "      <td>Gd</td>\n",
       "      <td>TA</td>\n",
       "      <td>No</td>\n",
       "      <td>GLQ</td>\n",
       "      <td>706</td>\n",
       "      <td>Unf</td>\n",
       "      <td>0</td>\n",
       "      <td>150</td>\n",
       "      <td>856</td>\n",
       "      <td>GasA</td>\n",
       "      <td>Ex</td>\n",
       "      <td>Y</td>\n",
       "      <td>SBrkr</td>\n",
       "      <td>856</td>\n",
       "      <td>854</td>\n",
       "      <td>0</td>\n",
       "      <td>1710</td>\n",
       "      <td>1</td>\n",
       "      <td>0</td>\n",
       "      <td>2</td>\n",
       "      <td>1</td>\n",
       "      <td>3</td>\n",
       "      <td>1</td>\n",
       "      <td>Gd</td>\n",
       "      <td>8</td>\n",
       "      <td>Typ</td>\n",
       "      <td>0</td>\n",
       "      <td>NaN</td>\n",
       "      <td>Attchd</td>\n",
       "      <td>2003.0</td>\n",
       "      <td>RFn</td>\n",
       "      <td>2</td>\n",
       "      <td>548</td>\n",
       "      <td>TA</td>\n",
       "      <td>TA</td>\n",
       "      <td>Y</td>\n",
       "      <td>0</td>\n",
       "      <td>61</td>\n",
       "      <td>0</td>\n",
       "      <td>0</td>\n",
       "      <td>0</td>\n",
       "      <td>0</td>\n",
       "      <td>NaN</td>\n",
       "      <td>NaN</td>\n",
       "      <td>NaN</td>\n",
       "      <td>0</td>\n",
       "      <td>2</td>\n",
       "      <td>2008</td>\n",
       "      <td>WD</td>\n",
       "      <td>Normal</td>\n",
       "      <td>208500</td>\n",
       "    </tr>\n",
       "    <tr>\n",
       "      <th>2</th>\n",
       "      <td>20</td>\n",
       "      <td>RL</td>\n",
       "      <td>80.0</td>\n",
       "      <td>9600</td>\n",
       "      <td>Pave</td>\n",
       "      <td>NaN</td>\n",
       "      <td>Reg</td>\n",
       "      <td>Lvl</td>\n",
       "      <td>AllPub</td>\n",
       "      <td>FR2</td>\n",
       "      <td>Gtl</td>\n",
       "      <td>Veenker</td>\n",
       "      <td>Feedr</td>\n",
       "      <td>Norm</td>\n",
       "      <td>1Fam</td>\n",
       "      <td>1Story</td>\n",
       "      <td>6</td>\n",
       "      <td>8</td>\n",
       "      <td>1976</td>\n",
       "      <td>1976</td>\n",
       "      <td>Gable</td>\n",
       "      <td>CompShg</td>\n",
       "      <td>MetalSd</td>\n",
       "      <td>MetalSd</td>\n",
       "      <td>None</td>\n",
       "      <td>0.0</td>\n",
       "      <td>TA</td>\n",
       "      <td>TA</td>\n",
       "      <td>CBlock</td>\n",
       "      <td>Gd</td>\n",
       "      <td>TA</td>\n",
       "      <td>Gd</td>\n",
       "      <td>ALQ</td>\n",
       "      <td>978</td>\n",
       "      <td>Unf</td>\n",
       "      <td>0</td>\n",
       "      <td>284</td>\n",
       "      <td>1262</td>\n",
       "      <td>GasA</td>\n",
       "      <td>Ex</td>\n",
       "      <td>Y</td>\n",
       "      <td>SBrkr</td>\n",
       "      <td>1262</td>\n",
       "      <td>0</td>\n",
       "      <td>0</td>\n",
       "      <td>1262</td>\n",
       "      <td>0</td>\n",
       "      <td>1</td>\n",
       "      <td>2</td>\n",
       "      <td>0</td>\n",
       "      <td>3</td>\n",
       "      <td>1</td>\n",
       "      <td>TA</td>\n",
       "      <td>6</td>\n",
       "      <td>Typ</td>\n",
       "      <td>1</td>\n",
       "      <td>TA</td>\n",
       "      <td>Attchd</td>\n",
       "      <td>1976.0</td>\n",
       "      <td>RFn</td>\n",
       "      <td>2</td>\n",
       "      <td>460</td>\n",
       "      <td>TA</td>\n",
       "      <td>TA</td>\n",
       "      <td>Y</td>\n",
       "      <td>298</td>\n",
       "      <td>0</td>\n",
       "      <td>0</td>\n",
       "      <td>0</td>\n",
       "      <td>0</td>\n",
       "      <td>0</td>\n",
       "      <td>NaN</td>\n",
       "      <td>NaN</td>\n",
       "      <td>NaN</td>\n",
       "      <td>0</td>\n",
       "      <td>5</td>\n",
       "      <td>2007</td>\n",
       "      <td>WD</td>\n",
       "      <td>Normal</td>\n",
       "      <td>181500</td>\n",
       "    </tr>\n",
       "    <tr>\n",
       "      <th>3</th>\n",
       "      <td>60</td>\n",
       "      <td>RL</td>\n",
       "      <td>68.0</td>\n",
       "      <td>11250</td>\n",
       "      <td>Pave</td>\n",
       "      <td>NaN</td>\n",
       "      <td>IR1</td>\n",
       "      <td>Lvl</td>\n",
       "      <td>AllPub</td>\n",
       "      <td>Inside</td>\n",
       "      <td>Gtl</td>\n",
       "      <td>CollgCr</td>\n",
       "      <td>Norm</td>\n",
       "      <td>Norm</td>\n",
       "      <td>1Fam</td>\n",
       "      <td>2Story</td>\n",
       "      <td>7</td>\n",
       "      <td>5</td>\n",
       "      <td>2001</td>\n",
       "      <td>2002</td>\n",
       "      <td>Gable</td>\n",
       "      <td>CompShg</td>\n",
       "      <td>VinylSd</td>\n",
       "      <td>VinylSd</td>\n",
       "      <td>BrkFace</td>\n",
       "      <td>162.0</td>\n",
       "      <td>Gd</td>\n",
       "      <td>TA</td>\n",
       "      <td>PConc</td>\n",
       "      <td>Gd</td>\n",
       "      <td>TA</td>\n",
       "      <td>Mn</td>\n",
       "      <td>GLQ</td>\n",
       "      <td>486</td>\n",
       "      <td>Unf</td>\n",
       "      <td>0</td>\n",
       "      <td>434</td>\n",
       "      <td>920</td>\n",
       "      <td>GasA</td>\n",
       "      <td>Ex</td>\n",
       "      <td>Y</td>\n",
       "      <td>SBrkr</td>\n",
       "      <td>920</td>\n",
       "      <td>866</td>\n",
       "      <td>0</td>\n",
       "      <td>1786</td>\n",
       "      <td>1</td>\n",
       "      <td>0</td>\n",
       "      <td>2</td>\n",
       "      <td>1</td>\n",
       "      <td>3</td>\n",
       "      <td>1</td>\n",
       "      <td>Gd</td>\n",
       "      <td>6</td>\n",
       "      <td>Typ</td>\n",
       "      <td>1</td>\n",
       "      <td>TA</td>\n",
       "      <td>Attchd</td>\n",
       "      <td>2001.0</td>\n",
       "      <td>RFn</td>\n",
       "      <td>2</td>\n",
       "      <td>608</td>\n",
       "      <td>TA</td>\n",
       "      <td>TA</td>\n",
       "      <td>Y</td>\n",
       "      <td>0</td>\n",
       "      <td>42</td>\n",
       "      <td>0</td>\n",
       "      <td>0</td>\n",
       "      <td>0</td>\n",
       "      <td>0</td>\n",
       "      <td>NaN</td>\n",
       "      <td>NaN</td>\n",
       "      <td>NaN</td>\n",
       "      <td>0</td>\n",
       "      <td>9</td>\n",
       "      <td>2008</td>\n",
       "      <td>WD</td>\n",
       "      <td>Normal</td>\n",
       "      <td>223500</td>\n",
       "    </tr>\n",
       "    <tr>\n",
       "      <th>4</th>\n",
       "      <td>70</td>\n",
       "      <td>RL</td>\n",
       "      <td>60.0</td>\n",
       "      <td>9550</td>\n",
       "      <td>Pave</td>\n",
       "      <td>NaN</td>\n",
       "      <td>IR1</td>\n",
       "      <td>Lvl</td>\n",
       "      <td>AllPub</td>\n",
       "      <td>Corner</td>\n",
       "      <td>Gtl</td>\n",
       "      <td>Crawfor</td>\n",
       "      <td>Norm</td>\n",
       "      <td>Norm</td>\n",
       "      <td>1Fam</td>\n",
       "      <td>2Story</td>\n",
       "      <td>7</td>\n",
       "      <td>5</td>\n",
       "      <td>1915</td>\n",
       "      <td>1970</td>\n",
       "      <td>Gable</td>\n",
       "      <td>CompShg</td>\n",
       "      <td>Wd Sdng</td>\n",
       "      <td>Wd Shng</td>\n",
       "      <td>None</td>\n",
       "      <td>0.0</td>\n",
       "      <td>TA</td>\n",
       "      <td>TA</td>\n",
       "      <td>BrkTil</td>\n",
       "      <td>TA</td>\n",
       "      <td>Gd</td>\n",
       "      <td>No</td>\n",
       "      <td>ALQ</td>\n",
       "      <td>216</td>\n",
       "      <td>Unf</td>\n",
       "      <td>0</td>\n",
       "      <td>540</td>\n",
       "      <td>756</td>\n",
       "      <td>GasA</td>\n",
       "      <td>Gd</td>\n",
       "      <td>Y</td>\n",
       "      <td>SBrkr</td>\n",
       "      <td>961</td>\n",
       "      <td>756</td>\n",
       "      <td>0</td>\n",
       "      <td>1717</td>\n",
       "      <td>1</td>\n",
       "      <td>0</td>\n",
       "      <td>1</td>\n",
       "      <td>0</td>\n",
       "      <td>3</td>\n",
       "      <td>1</td>\n",
       "      <td>Gd</td>\n",
       "      <td>7</td>\n",
       "      <td>Typ</td>\n",
       "      <td>1</td>\n",
       "      <td>Gd</td>\n",
       "      <td>Detchd</td>\n",
       "      <td>1998.0</td>\n",
       "      <td>Unf</td>\n",
       "      <td>3</td>\n",
       "      <td>642</td>\n",
       "      <td>TA</td>\n",
       "      <td>TA</td>\n",
       "      <td>Y</td>\n",
       "      <td>0</td>\n",
       "      <td>35</td>\n",
       "      <td>272</td>\n",
       "      <td>0</td>\n",
       "      <td>0</td>\n",
       "      <td>0</td>\n",
       "      <td>NaN</td>\n",
       "      <td>NaN</td>\n",
       "      <td>NaN</td>\n",
       "      <td>0</td>\n",
       "      <td>2</td>\n",
       "      <td>2006</td>\n",
       "      <td>WD</td>\n",
       "      <td>Abnorml</td>\n",
       "      <td>140000</td>\n",
       "    </tr>\n",
       "    <tr>\n",
       "      <th>5</th>\n",
       "      <td>60</td>\n",
       "      <td>RL</td>\n",
       "      <td>84.0</td>\n",
       "      <td>14260</td>\n",
       "      <td>Pave</td>\n",
       "      <td>NaN</td>\n",
       "      <td>IR1</td>\n",
       "      <td>Lvl</td>\n",
       "      <td>AllPub</td>\n",
       "      <td>FR2</td>\n",
       "      <td>Gtl</td>\n",
       "      <td>NoRidge</td>\n",
       "      <td>Norm</td>\n",
       "      <td>Norm</td>\n",
       "      <td>1Fam</td>\n",
       "      <td>2Story</td>\n",
       "      <td>8</td>\n",
       "      <td>5</td>\n",
       "      <td>2000</td>\n",
       "      <td>2000</td>\n",
       "      <td>Gable</td>\n",
       "      <td>CompShg</td>\n",
       "      <td>VinylSd</td>\n",
       "      <td>VinylSd</td>\n",
       "      <td>BrkFace</td>\n",
       "      <td>350.0</td>\n",
       "      <td>Gd</td>\n",
       "      <td>TA</td>\n",
       "      <td>PConc</td>\n",
       "      <td>Gd</td>\n",
       "      <td>TA</td>\n",
       "      <td>Av</td>\n",
       "      <td>GLQ</td>\n",
       "      <td>655</td>\n",
       "      <td>Unf</td>\n",
       "      <td>0</td>\n",
       "      <td>490</td>\n",
       "      <td>1145</td>\n",
       "      <td>GasA</td>\n",
       "      <td>Ex</td>\n",
       "      <td>Y</td>\n",
       "      <td>SBrkr</td>\n",
       "      <td>1145</td>\n",
       "      <td>1053</td>\n",
       "      <td>0</td>\n",
       "      <td>2198</td>\n",
       "      <td>1</td>\n",
       "      <td>0</td>\n",
       "      <td>2</td>\n",
       "      <td>1</td>\n",
       "      <td>4</td>\n",
       "      <td>1</td>\n",
       "      <td>Gd</td>\n",
       "      <td>9</td>\n",
       "      <td>Typ</td>\n",
       "      <td>1</td>\n",
       "      <td>TA</td>\n",
       "      <td>Attchd</td>\n",
       "      <td>2000.0</td>\n",
       "      <td>RFn</td>\n",
       "      <td>3</td>\n",
       "      <td>836</td>\n",
       "      <td>TA</td>\n",
       "      <td>TA</td>\n",
       "      <td>Y</td>\n",
       "      <td>192</td>\n",
       "      <td>84</td>\n",
       "      <td>0</td>\n",
       "      <td>0</td>\n",
       "      <td>0</td>\n",
       "      <td>0</td>\n",
       "      <td>NaN</td>\n",
       "      <td>NaN</td>\n",
       "      <td>NaN</td>\n",
       "      <td>0</td>\n",
       "      <td>12</td>\n",
       "      <td>2008</td>\n",
       "      <td>WD</td>\n",
       "      <td>Normal</td>\n",
       "      <td>250000</td>\n",
       "    </tr>\n",
       "    <tr>\n",
       "      <th>...</th>\n",
       "      <td>...</td>\n",
       "      <td>...</td>\n",
       "      <td>...</td>\n",
       "      <td>...</td>\n",
       "      <td>...</td>\n",
       "      <td>...</td>\n",
       "      <td>...</td>\n",
       "      <td>...</td>\n",
       "      <td>...</td>\n",
       "      <td>...</td>\n",
       "      <td>...</td>\n",
       "      <td>...</td>\n",
       "      <td>...</td>\n",
       "      <td>...</td>\n",
       "      <td>...</td>\n",
       "      <td>...</td>\n",
       "      <td>...</td>\n",
       "      <td>...</td>\n",
       "      <td>...</td>\n",
       "      <td>...</td>\n",
       "      <td>...</td>\n",
       "      <td>...</td>\n",
       "      <td>...</td>\n",
       "      <td>...</td>\n",
       "      <td>...</td>\n",
       "      <td>...</td>\n",
       "      <td>...</td>\n",
       "      <td>...</td>\n",
       "      <td>...</td>\n",
       "      <td>...</td>\n",
       "      <td>...</td>\n",
       "      <td>...</td>\n",
       "      <td>...</td>\n",
       "      <td>...</td>\n",
       "      <td>...</td>\n",
       "      <td>...</td>\n",
       "      <td>...</td>\n",
       "      <td>...</td>\n",
       "      <td>...</td>\n",
       "      <td>...</td>\n",
       "      <td>...</td>\n",
       "      <td>...</td>\n",
       "      <td>...</td>\n",
       "      <td>...</td>\n",
       "      <td>...</td>\n",
       "      <td>...</td>\n",
       "      <td>...</td>\n",
       "      <td>...</td>\n",
       "      <td>...</td>\n",
       "      <td>...</td>\n",
       "      <td>...</td>\n",
       "      <td>...</td>\n",
       "      <td>...</td>\n",
       "      <td>...</td>\n",
       "      <td>...</td>\n",
       "      <td>...</td>\n",
       "      <td>...</td>\n",
       "      <td>...</td>\n",
       "      <td>...</td>\n",
       "      <td>...</td>\n",
       "      <td>...</td>\n",
       "      <td>...</td>\n",
       "      <td>...</td>\n",
       "      <td>...</td>\n",
       "      <td>...</td>\n",
       "      <td>...</td>\n",
       "      <td>...</td>\n",
       "      <td>...</td>\n",
       "      <td>...</td>\n",
       "      <td>...</td>\n",
       "      <td>...</td>\n",
       "      <td>...</td>\n",
       "      <td>...</td>\n",
       "      <td>...</td>\n",
       "      <td>...</td>\n",
       "      <td>...</td>\n",
       "      <td>...</td>\n",
       "      <td>...</td>\n",
       "      <td>...</td>\n",
       "      <td>...</td>\n",
       "    </tr>\n",
       "    <tr>\n",
       "      <th>1456</th>\n",
       "      <td>60</td>\n",
       "      <td>RL</td>\n",
       "      <td>62.0</td>\n",
       "      <td>7917</td>\n",
       "      <td>Pave</td>\n",
       "      <td>NaN</td>\n",
       "      <td>Reg</td>\n",
       "      <td>Lvl</td>\n",
       "      <td>AllPub</td>\n",
       "      <td>Inside</td>\n",
       "      <td>Gtl</td>\n",
       "      <td>Gilbert</td>\n",
       "      <td>Norm</td>\n",
       "      <td>Norm</td>\n",
       "      <td>1Fam</td>\n",
       "      <td>2Story</td>\n",
       "      <td>6</td>\n",
       "      <td>5</td>\n",
       "      <td>1999</td>\n",
       "      <td>2000</td>\n",
       "      <td>Gable</td>\n",
       "      <td>CompShg</td>\n",
       "      <td>VinylSd</td>\n",
       "      <td>VinylSd</td>\n",
       "      <td>None</td>\n",
       "      <td>0.0</td>\n",
       "      <td>TA</td>\n",
       "      <td>TA</td>\n",
       "      <td>PConc</td>\n",
       "      <td>Gd</td>\n",
       "      <td>TA</td>\n",
       "      <td>No</td>\n",
       "      <td>Unf</td>\n",
       "      <td>0</td>\n",
       "      <td>Unf</td>\n",
       "      <td>0</td>\n",
       "      <td>953</td>\n",
       "      <td>953</td>\n",
       "      <td>GasA</td>\n",
       "      <td>Ex</td>\n",
       "      <td>Y</td>\n",
       "      <td>SBrkr</td>\n",
       "      <td>953</td>\n",
       "      <td>694</td>\n",
       "      <td>0</td>\n",
       "      <td>1647</td>\n",
       "      <td>0</td>\n",
       "      <td>0</td>\n",
       "      <td>2</td>\n",
       "      <td>1</td>\n",
       "      <td>3</td>\n",
       "      <td>1</td>\n",
       "      <td>TA</td>\n",
       "      <td>7</td>\n",
       "      <td>Typ</td>\n",
       "      <td>1</td>\n",
       "      <td>TA</td>\n",
       "      <td>Attchd</td>\n",
       "      <td>1999.0</td>\n",
       "      <td>RFn</td>\n",
       "      <td>2</td>\n",
       "      <td>460</td>\n",
       "      <td>TA</td>\n",
       "      <td>TA</td>\n",
       "      <td>Y</td>\n",
       "      <td>0</td>\n",
       "      <td>40</td>\n",
       "      <td>0</td>\n",
       "      <td>0</td>\n",
       "      <td>0</td>\n",
       "      <td>0</td>\n",
       "      <td>NaN</td>\n",
       "      <td>NaN</td>\n",
       "      <td>NaN</td>\n",
       "      <td>0</td>\n",
       "      <td>8</td>\n",
       "      <td>2007</td>\n",
       "      <td>WD</td>\n",
       "      <td>Normal</td>\n",
       "      <td>175000</td>\n",
       "    </tr>\n",
       "    <tr>\n",
       "      <th>1457</th>\n",
       "      <td>20</td>\n",
       "      <td>RL</td>\n",
       "      <td>85.0</td>\n",
       "      <td>13175</td>\n",
       "      <td>Pave</td>\n",
       "      <td>NaN</td>\n",
       "      <td>Reg</td>\n",
       "      <td>Lvl</td>\n",
       "      <td>AllPub</td>\n",
       "      <td>Inside</td>\n",
       "      <td>Gtl</td>\n",
       "      <td>NWAmes</td>\n",
       "      <td>Norm</td>\n",
       "      <td>Norm</td>\n",
       "      <td>1Fam</td>\n",
       "      <td>1Story</td>\n",
       "      <td>6</td>\n",
       "      <td>6</td>\n",
       "      <td>1978</td>\n",
       "      <td>1988</td>\n",
       "      <td>Gable</td>\n",
       "      <td>CompShg</td>\n",
       "      <td>Plywood</td>\n",
       "      <td>Plywood</td>\n",
       "      <td>Stone</td>\n",
       "      <td>119.0</td>\n",
       "      <td>TA</td>\n",
       "      <td>TA</td>\n",
       "      <td>CBlock</td>\n",
       "      <td>Gd</td>\n",
       "      <td>TA</td>\n",
       "      <td>No</td>\n",
       "      <td>ALQ</td>\n",
       "      <td>790</td>\n",
       "      <td>Rec</td>\n",
       "      <td>163</td>\n",
       "      <td>589</td>\n",
       "      <td>1542</td>\n",
       "      <td>GasA</td>\n",
       "      <td>TA</td>\n",
       "      <td>Y</td>\n",
       "      <td>SBrkr</td>\n",
       "      <td>2073</td>\n",
       "      <td>0</td>\n",
       "      <td>0</td>\n",
       "      <td>2073</td>\n",
       "      <td>1</td>\n",
       "      <td>0</td>\n",
       "      <td>2</td>\n",
       "      <td>0</td>\n",
       "      <td>3</td>\n",
       "      <td>1</td>\n",
       "      <td>TA</td>\n",
       "      <td>7</td>\n",
       "      <td>Min1</td>\n",
       "      <td>2</td>\n",
       "      <td>TA</td>\n",
       "      <td>Attchd</td>\n",
       "      <td>1978.0</td>\n",
       "      <td>Unf</td>\n",
       "      <td>2</td>\n",
       "      <td>500</td>\n",
       "      <td>TA</td>\n",
       "      <td>TA</td>\n",
       "      <td>Y</td>\n",
       "      <td>349</td>\n",
       "      <td>0</td>\n",
       "      <td>0</td>\n",
       "      <td>0</td>\n",
       "      <td>0</td>\n",
       "      <td>0</td>\n",
       "      <td>NaN</td>\n",
       "      <td>MnPrv</td>\n",
       "      <td>NaN</td>\n",
       "      <td>0</td>\n",
       "      <td>2</td>\n",
       "      <td>2010</td>\n",
       "      <td>WD</td>\n",
       "      <td>Normal</td>\n",
       "      <td>210000</td>\n",
       "    </tr>\n",
       "    <tr>\n",
       "      <th>1458</th>\n",
       "      <td>70</td>\n",
       "      <td>RL</td>\n",
       "      <td>66.0</td>\n",
       "      <td>9042</td>\n",
       "      <td>Pave</td>\n",
       "      <td>NaN</td>\n",
       "      <td>Reg</td>\n",
       "      <td>Lvl</td>\n",
       "      <td>AllPub</td>\n",
       "      <td>Inside</td>\n",
       "      <td>Gtl</td>\n",
       "      <td>Crawfor</td>\n",
       "      <td>Norm</td>\n",
       "      <td>Norm</td>\n",
       "      <td>1Fam</td>\n",
       "      <td>2Story</td>\n",
       "      <td>7</td>\n",
       "      <td>9</td>\n",
       "      <td>1941</td>\n",
       "      <td>2006</td>\n",
       "      <td>Gable</td>\n",
       "      <td>CompShg</td>\n",
       "      <td>CemntBd</td>\n",
       "      <td>CmentBd</td>\n",
       "      <td>None</td>\n",
       "      <td>0.0</td>\n",
       "      <td>Ex</td>\n",
       "      <td>Gd</td>\n",
       "      <td>Stone</td>\n",
       "      <td>TA</td>\n",
       "      <td>Gd</td>\n",
       "      <td>No</td>\n",
       "      <td>GLQ</td>\n",
       "      <td>275</td>\n",
       "      <td>Unf</td>\n",
       "      <td>0</td>\n",
       "      <td>877</td>\n",
       "      <td>1152</td>\n",
       "      <td>GasA</td>\n",
       "      <td>Ex</td>\n",
       "      <td>Y</td>\n",
       "      <td>SBrkr</td>\n",
       "      <td>1188</td>\n",
       "      <td>1152</td>\n",
       "      <td>0</td>\n",
       "      <td>2340</td>\n",
       "      <td>0</td>\n",
       "      <td>0</td>\n",
       "      <td>2</td>\n",
       "      <td>0</td>\n",
       "      <td>4</td>\n",
       "      <td>1</td>\n",
       "      <td>Gd</td>\n",
       "      <td>9</td>\n",
       "      <td>Typ</td>\n",
       "      <td>2</td>\n",
       "      <td>Gd</td>\n",
       "      <td>Attchd</td>\n",
       "      <td>1941.0</td>\n",
       "      <td>RFn</td>\n",
       "      <td>1</td>\n",
       "      <td>252</td>\n",
       "      <td>TA</td>\n",
       "      <td>TA</td>\n",
       "      <td>Y</td>\n",
       "      <td>0</td>\n",
       "      <td>60</td>\n",
       "      <td>0</td>\n",
       "      <td>0</td>\n",
       "      <td>0</td>\n",
       "      <td>0</td>\n",
       "      <td>NaN</td>\n",
       "      <td>GdPrv</td>\n",
       "      <td>Shed</td>\n",
       "      <td>2500</td>\n",
       "      <td>5</td>\n",
       "      <td>2010</td>\n",
       "      <td>WD</td>\n",
       "      <td>Normal</td>\n",
       "      <td>266500</td>\n",
       "    </tr>\n",
       "    <tr>\n",
       "      <th>1459</th>\n",
       "      <td>20</td>\n",
       "      <td>RL</td>\n",
       "      <td>68.0</td>\n",
       "      <td>9717</td>\n",
       "      <td>Pave</td>\n",
       "      <td>NaN</td>\n",
       "      <td>Reg</td>\n",
       "      <td>Lvl</td>\n",
       "      <td>AllPub</td>\n",
       "      <td>Inside</td>\n",
       "      <td>Gtl</td>\n",
       "      <td>NAmes</td>\n",
       "      <td>Norm</td>\n",
       "      <td>Norm</td>\n",
       "      <td>1Fam</td>\n",
       "      <td>1Story</td>\n",
       "      <td>5</td>\n",
       "      <td>6</td>\n",
       "      <td>1950</td>\n",
       "      <td>1996</td>\n",
       "      <td>Hip</td>\n",
       "      <td>CompShg</td>\n",
       "      <td>MetalSd</td>\n",
       "      <td>MetalSd</td>\n",
       "      <td>None</td>\n",
       "      <td>0.0</td>\n",
       "      <td>TA</td>\n",
       "      <td>TA</td>\n",
       "      <td>CBlock</td>\n",
       "      <td>TA</td>\n",
       "      <td>TA</td>\n",
       "      <td>Mn</td>\n",
       "      <td>GLQ</td>\n",
       "      <td>49</td>\n",
       "      <td>Rec</td>\n",
       "      <td>1029</td>\n",
       "      <td>0</td>\n",
       "      <td>1078</td>\n",
       "      <td>GasA</td>\n",
       "      <td>Gd</td>\n",
       "      <td>Y</td>\n",
       "      <td>FuseA</td>\n",
       "      <td>1078</td>\n",
       "      <td>0</td>\n",
       "      <td>0</td>\n",
       "      <td>1078</td>\n",
       "      <td>1</td>\n",
       "      <td>0</td>\n",
       "      <td>1</td>\n",
       "      <td>0</td>\n",
       "      <td>2</td>\n",
       "      <td>1</td>\n",
       "      <td>Gd</td>\n",
       "      <td>5</td>\n",
       "      <td>Typ</td>\n",
       "      <td>0</td>\n",
       "      <td>NaN</td>\n",
       "      <td>Attchd</td>\n",
       "      <td>1950.0</td>\n",
       "      <td>Unf</td>\n",
       "      <td>1</td>\n",
       "      <td>240</td>\n",
       "      <td>TA</td>\n",
       "      <td>TA</td>\n",
       "      <td>Y</td>\n",
       "      <td>366</td>\n",
       "      <td>0</td>\n",
       "      <td>112</td>\n",
       "      <td>0</td>\n",
       "      <td>0</td>\n",
       "      <td>0</td>\n",
       "      <td>NaN</td>\n",
       "      <td>NaN</td>\n",
       "      <td>NaN</td>\n",
       "      <td>0</td>\n",
       "      <td>4</td>\n",
       "      <td>2010</td>\n",
       "      <td>WD</td>\n",
       "      <td>Normal</td>\n",
       "      <td>142125</td>\n",
       "    </tr>\n",
       "    <tr>\n",
       "      <th>1460</th>\n",
       "      <td>20</td>\n",
       "      <td>RL</td>\n",
       "      <td>75.0</td>\n",
       "      <td>9937</td>\n",
       "      <td>Pave</td>\n",
       "      <td>NaN</td>\n",
       "      <td>Reg</td>\n",
       "      <td>Lvl</td>\n",
       "      <td>AllPub</td>\n",
       "      <td>Inside</td>\n",
       "      <td>Gtl</td>\n",
       "      <td>Edwards</td>\n",
       "      <td>Norm</td>\n",
       "      <td>Norm</td>\n",
       "      <td>1Fam</td>\n",
       "      <td>1Story</td>\n",
       "      <td>5</td>\n",
       "      <td>6</td>\n",
       "      <td>1965</td>\n",
       "      <td>1965</td>\n",
       "      <td>Gable</td>\n",
       "      <td>CompShg</td>\n",
       "      <td>HdBoard</td>\n",
       "      <td>HdBoard</td>\n",
       "      <td>None</td>\n",
       "      <td>0.0</td>\n",
       "      <td>Gd</td>\n",
       "      <td>TA</td>\n",
       "      <td>CBlock</td>\n",
       "      <td>TA</td>\n",
       "      <td>TA</td>\n",
       "      <td>No</td>\n",
       "      <td>BLQ</td>\n",
       "      <td>830</td>\n",
       "      <td>LwQ</td>\n",
       "      <td>290</td>\n",
       "      <td>136</td>\n",
       "      <td>1256</td>\n",
       "      <td>GasA</td>\n",
       "      <td>Gd</td>\n",
       "      <td>Y</td>\n",
       "      <td>SBrkr</td>\n",
       "      <td>1256</td>\n",
       "      <td>0</td>\n",
       "      <td>0</td>\n",
       "      <td>1256</td>\n",
       "      <td>1</td>\n",
       "      <td>0</td>\n",
       "      <td>1</td>\n",
       "      <td>1</td>\n",
       "      <td>3</td>\n",
       "      <td>1</td>\n",
       "      <td>TA</td>\n",
       "      <td>6</td>\n",
       "      <td>Typ</td>\n",
       "      <td>0</td>\n",
       "      <td>NaN</td>\n",
       "      <td>Attchd</td>\n",
       "      <td>1965.0</td>\n",
       "      <td>Fin</td>\n",
       "      <td>1</td>\n",
       "      <td>276</td>\n",
       "      <td>TA</td>\n",
       "      <td>TA</td>\n",
       "      <td>Y</td>\n",
       "      <td>736</td>\n",
       "      <td>68</td>\n",
       "      <td>0</td>\n",
       "      <td>0</td>\n",
       "      <td>0</td>\n",
       "      <td>0</td>\n",
       "      <td>NaN</td>\n",
       "      <td>NaN</td>\n",
       "      <td>NaN</td>\n",
       "      <td>0</td>\n",
       "      <td>6</td>\n",
       "      <td>2008</td>\n",
       "      <td>WD</td>\n",
       "      <td>Normal</td>\n",
       "      <td>147500</td>\n",
       "    </tr>\n",
       "  </tbody>\n",
       "</table>\n",
       "<p>1460 rows × 80 columns</p>\n",
       "</div>"
      ],
      "text/plain": [
       "      MSSubClass MSZoning  LotFrontage  LotArea Street Alley LotShape  \\\n",
       "Id                                                                      \n",
       "1             60       RL         65.0     8450   Pave   NaN      Reg   \n",
       "2             20       RL         80.0     9600   Pave   NaN      Reg   \n",
       "3             60       RL         68.0    11250   Pave   NaN      IR1   \n",
       "4             70       RL         60.0     9550   Pave   NaN      IR1   \n",
       "5             60       RL         84.0    14260   Pave   NaN      IR1   \n",
       "...          ...      ...          ...      ...    ...   ...      ...   \n",
       "1456          60       RL         62.0     7917   Pave   NaN      Reg   \n",
       "1457          20       RL         85.0    13175   Pave   NaN      Reg   \n",
       "1458          70       RL         66.0     9042   Pave   NaN      Reg   \n",
       "1459          20       RL         68.0     9717   Pave   NaN      Reg   \n",
       "1460          20       RL         75.0     9937   Pave   NaN      Reg   \n",
       "\n",
       "     LandContour Utilities LotConfig LandSlope Neighborhood Condition1  \\\n",
       "Id                                                                       \n",
       "1            Lvl    AllPub    Inside       Gtl      CollgCr       Norm   \n",
       "2            Lvl    AllPub       FR2       Gtl      Veenker      Feedr   \n",
       "3            Lvl    AllPub    Inside       Gtl      CollgCr       Norm   \n",
       "4            Lvl    AllPub    Corner       Gtl      Crawfor       Norm   \n",
       "5            Lvl    AllPub       FR2       Gtl      NoRidge       Norm   \n",
       "...          ...       ...       ...       ...          ...        ...   \n",
       "1456         Lvl    AllPub    Inside       Gtl      Gilbert       Norm   \n",
       "1457         Lvl    AllPub    Inside       Gtl       NWAmes       Norm   \n",
       "1458         Lvl    AllPub    Inside       Gtl      Crawfor       Norm   \n",
       "1459         Lvl    AllPub    Inside       Gtl        NAmes       Norm   \n",
       "1460         Lvl    AllPub    Inside       Gtl      Edwards       Norm   \n",
       "\n",
       "     Condition2 BldgType HouseStyle  OverallQual  OverallCond  YearBuilt  \\\n",
       "Id                                                                         \n",
       "1          Norm     1Fam     2Story            7            5       2003   \n",
       "2          Norm     1Fam     1Story            6            8       1976   \n",
       "3          Norm     1Fam     2Story            7            5       2001   \n",
       "4          Norm     1Fam     2Story            7            5       1915   \n",
       "5          Norm     1Fam     2Story            8            5       2000   \n",
       "...         ...      ...        ...          ...          ...        ...   \n",
       "1456       Norm     1Fam     2Story            6            5       1999   \n",
       "1457       Norm     1Fam     1Story            6            6       1978   \n",
       "1458       Norm     1Fam     2Story            7            9       1941   \n",
       "1459       Norm     1Fam     1Story            5            6       1950   \n",
       "1460       Norm     1Fam     1Story            5            6       1965   \n",
       "\n",
       "      YearRemodAdd RoofStyle RoofMatl Exterior1st Exterior2nd MasVnrType  \\\n",
       "Id                                                                         \n",
       "1             2003     Gable  CompShg     VinylSd     VinylSd    BrkFace   \n",
       "2             1976     Gable  CompShg     MetalSd     MetalSd       None   \n",
       "3             2002     Gable  CompShg     VinylSd     VinylSd    BrkFace   \n",
       "4             1970     Gable  CompShg     Wd Sdng     Wd Shng       None   \n",
       "5             2000     Gable  CompShg     VinylSd     VinylSd    BrkFace   \n",
       "...            ...       ...      ...         ...         ...        ...   \n",
       "1456          2000     Gable  CompShg     VinylSd     VinylSd       None   \n",
       "1457          1988     Gable  CompShg     Plywood     Plywood      Stone   \n",
       "1458          2006     Gable  CompShg     CemntBd     CmentBd       None   \n",
       "1459          1996       Hip  CompShg     MetalSd     MetalSd       None   \n",
       "1460          1965     Gable  CompShg     HdBoard     HdBoard       None   \n",
       "\n",
       "      MasVnrArea ExterQual ExterCond Foundation BsmtQual BsmtCond  \\\n",
       "Id                                                                  \n",
       "1          196.0        Gd        TA      PConc       Gd       TA   \n",
       "2            0.0        TA        TA     CBlock       Gd       TA   \n",
       "3          162.0        Gd        TA      PConc       Gd       TA   \n",
       "4            0.0        TA        TA     BrkTil       TA       Gd   \n",
       "5          350.0        Gd        TA      PConc       Gd       TA   \n",
       "...          ...       ...       ...        ...      ...      ...   \n",
       "1456         0.0        TA        TA      PConc       Gd       TA   \n",
       "1457       119.0        TA        TA     CBlock       Gd       TA   \n",
       "1458         0.0        Ex        Gd      Stone       TA       Gd   \n",
       "1459         0.0        TA        TA     CBlock       TA       TA   \n",
       "1460         0.0        Gd        TA     CBlock       TA       TA   \n",
       "\n",
       "     BsmtExposure BsmtFinType1  BsmtFinSF1 BsmtFinType2  BsmtFinSF2  \\\n",
       "Id                                                                    \n",
       "1              No          GLQ         706          Unf           0   \n",
       "2              Gd          ALQ         978          Unf           0   \n",
       "3              Mn          GLQ         486          Unf           0   \n",
       "4              No          ALQ         216          Unf           0   \n",
       "5              Av          GLQ         655          Unf           0   \n",
       "...           ...          ...         ...          ...         ...   \n",
       "1456           No          Unf           0          Unf           0   \n",
       "1457           No          ALQ         790          Rec         163   \n",
       "1458           No          GLQ         275          Unf           0   \n",
       "1459           Mn          GLQ          49          Rec        1029   \n",
       "1460           No          BLQ         830          LwQ         290   \n",
       "\n",
       "      BsmtUnfSF  TotalBsmtSF Heating HeatingQC CentralAir Electrical  \\\n",
       "Id                                                                     \n",
       "1           150          856    GasA        Ex          Y      SBrkr   \n",
       "2           284         1262    GasA        Ex          Y      SBrkr   \n",
       "3           434          920    GasA        Ex          Y      SBrkr   \n",
       "4           540          756    GasA        Gd          Y      SBrkr   \n",
       "5           490         1145    GasA        Ex          Y      SBrkr   \n",
       "...         ...          ...     ...       ...        ...        ...   \n",
       "1456        953          953    GasA        Ex          Y      SBrkr   \n",
       "1457        589         1542    GasA        TA          Y      SBrkr   \n",
       "1458        877         1152    GasA        Ex          Y      SBrkr   \n",
       "1459          0         1078    GasA        Gd          Y      FuseA   \n",
       "1460        136         1256    GasA        Gd          Y      SBrkr   \n",
       "\n",
       "      1stFlrSF  2ndFlrSF  LowQualFinSF  GrLivArea  BsmtFullBath  BsmtHalfBath  \\\n",
       "Id                                                                              \n",
       "1          856       854             0       1710             1             0   \n",
       "2         1262         0             0       1262             0             1   \n",
       "3          920       866             0       1786             1             0   \n",
       "4          961       756             0       1717             1             0   \n",
       "5         1145      1053             0       2198             1             0   \n",
       "...        ...       ...           ...        ...           ...           ...   \n",
       "1456       953       694             0       1647             0             0   \n",
       "1457      2073         0             0       2073             1             0   \n",
       "1458      1188      1152             0       2340             0             0   \n",
       "1459      1078         0             0       1078             1             0   \n",
       "1460      1256         0             0       1256             1             0   \n",
       "\n",
       "      FullBath  HalfBath  BedroomAbvGr  KitchenAbvGr KitchenQual  \\\n",
       "Id                                                                 \n",
       "1            2         1             3             1          Gd   \n",
       "2            2         0             3             1          TA   \n",
       "3            2         1             3             1          Gd   \n",
       "4            1         0             3             1          Gd   \n",
       "5            2         1             4             1          Gd   \n",
       "...        ...       ...           ...           ...         ...   \n",
       "1456         2         1             3             1          TA   \n",
       "1457         2         0             3             1          TA   \n",
       "1458         2         0             4             1          Gd   \n",
       "1459         1         0             2             1          Gd   \n",
       "1460         1         1             3             1          TA   \n",
       "\n",
       "      TotRmsAbvGrd Functional  Fireplaces FireplaceQu GarageType  GarageYrBlt  \\\n",
       "Id                                                                              \n",
       "1                8        Typ           0         NaN     Attchd       2003.0   \n",
       "2                6        Typ           1          TA     Attchd       1976.0   \n",
       "3                6        Typ           1          TA     Attchd       2001.0   \n",
       "4                7        Typ           1          Gd     Detchd       1998.0   \n",
       "5                9        Typ           1          TA     Attchd       2000.0   \n",
       "...            ...        ...         ...         ...        ...          ...   \n",
       "1456             7        Typ           1          TA     Attchd       1999.0   \n",
       "1457             7       Min1           2          TA     Attchd       1978.0   \n",
       "1458             9        Typ           2          Gd     Attchd       1941.0   \n",
       "1459             5        Typ           0         NaN     Attchd       1950.0   \n",
       "1460             6        Typ           0         NaN     Attchd       1965.0   \n",
       "\n",
       "     GarageFinish  GarageCars  GarageArea GarageQual GarageCond PavedDrive  \\\n",
       "Id                                                                           \n",
       "1             RFn           2         548         TA         TA          Y   \n",
       "2             RFn           2         460         TA         TA          Y   \n",
       "3             RFn           2         608         TA         TA          Y   \n",
       "4             Unf           3         642         TA         TA          Y   \n",
       "5             RFn           3         836         TA         TA          Y   \n",
       "...           ...         ...         ...        ...        ...        ...   \n",
       "1456          RFn           2         460         TA         TA          Y   \n",
       "1457          Unf           2         500         TA         TA          Y   \n",
       "1458          RFn           1         252         TA         TA          Y   \n",
       "1459          Unf           1         240         TA         TA          Y   \n",
       "1460          Fin           1         276         TA         TA          Y   \n",
       "\n",
       "      WoodDeckSF  OpenPorchSF  EnclosedPorch  3SsnPorch  ScreenPorch  \\\n",
       "Id                                                                     \n",
       "1              0           61              0          0            0   \n",
       "2            298            0              0          0            0   \n",
       "3              0           42              0          0            0   \n",
       "4              0           35            272          0            0   \n",
       "5            192           84              0          0            0   \n",
       "...          ...          ...            ...        ...          ...   \n",
       "1456           0           40              0          0            0   \n",
       "1457         349            0              0          0            0   \n",
       "1458           0           60              0          0            0   \n",
       "1459         366            0            112          0            0   \n",
       "1460         736           68              0          0            0   \n",
       "\n",
       "      PoolArea PoolQC  Fence MiscFeature  MiscVal  MoSold  YrSold SaleType  \\\n",
       "Id                                                                           \n",
       "1            0    NaN    NaN         NaN        0       2    2008       WD   \n",
       "2            0    NaN    NaN         NaN        0       5    2007       WD   \n",
       "3            0    NaN    NaN         NaN        0       9    2008       WD   \n",
       "4            0    NaN    NaN         NaN        0       2    2006       WD   \n",
       "5            0    NaN    NaN         NaN        0      12    2008       WD   \n",
       "...        ...    ...    ...         ...      ...     ...     ...      ...   \n",
       "1456         0    NaN    NaN         NaN        0       8    2007       WD   \n",
       "1457         0    NaN  MnPrv         NaN        0       2    2010       WD   \n",
       "1458         0    NaN  GdPrv        Shed     2500       5    2010       WD   \n",
       "1459         0    NaN    NaN         NaN        0       4    2010       WD   \n",
       "1460         0    NaN    NaN         NaN        0       6    2008       WD   \n",
       "\n",
       "     SaleCondition  SalePrice  \n",
       "Id                             \n",
       "1           Normal     208500  \n",
       "2           Normal     181500  \n",
       "3           Normal     223500  \n",
       "4          Abnorml     140000  \n",
       "5           Normal     250000  \n",
       "...            ...        ...  \n",
       "1456        Normal     175000  \n",
       "1457        Normal     210000  \n",
       "1458        Normal     266500  \n",
       "1459        Normal     142125  \n",
       "1460        Normal     147500  \n",
       "\n",
       "[1460 rows x 80 columns]"
      ]
     },
     "execution_count": 6,
     "metadata": {},
     "output_type": "execute_result"
    }
   ],
   "source": [
    "train = pd.read_csv(train_file_path, index_col=\"Id\")\n",
    "train"
   ]
  },
  {
   "cell_type": "code",
   "execution_count": 7,
   "metadata": {
    "collapsed": false,
    "jupyter": {
     "outputs_hidden": false
    },
    "pycharm": {
     "name": "#%%\n"
    }
   },
   "outputs": [],
   "source": [
    "test = pd.read_csv(test_file_path, index_col=\"Id\")"
   ]
  },
  {
   "cell_type": "code",
   "execution_count": 8,
   "metadata": {},
   "outputs": [],
   "source": [
    "train.MSSubClass = train.MSSubClass.astype(\"category\")\n",
    "\n",
    "train.OverallQual = train.OverallQual.astype(\n",
    "    CategoricalDtype(categories=list(range(1, 11)), ordered=True)\n",
    ")\n",
    "\n",
    "train.OverallCond = train.OverallCond.astype(\n",
    "    CategoricalDtype(categories=list(range(1, 11)), ordered=True)\n",
    ")"
   ]
  },
  {
   "cell_type": "code",
   "execution_count": 9,
   "metadata": {},
   "outputs": [],
   "source": [
    "train.YearBuilt = pd.to_datetime(train.YearBuilt, format=\"%Y\")\n",
    "\n",
    "train.YearRemodAdd = pd.to_datetime(train.YearRemodAdd, format=\"%Y\")\n",
    "\n",
    "train.GarageYrBlt = pd.to_datetime(train.GarageYrBlt, format=\"%Y\")\n",
    "\n",
    "train.MoSold = pd.to_datetime(train.MoSold, format=\"%M\")\n",
    "train.YrSold = pd.to_datetime(train.YrSold, format=\"%Y\")"
   ]
  },
  {
   "cell_type": "code",
   "execution_count": 10,
   "metadata": {},
   "outputs": [],
   "source": [
    "yes_no_map = {\"Y\": True, \"N\": False}\n",
    "\n",
    "train.CentralAir = train.CentralAir.map(yes_no_map).astype(\"bool\")"
   ]
  },
  {
   "cell_type": "markdown",
   "metadata": {},
   "source": [
    "## Exploratory Data Analysis\n"
   ]
  },
  {
   "cell_type": "markdown",
   "metadata": {},
   "source": [
    "### Missing values"
   ]
  },
  {
   "cell_type": "code",
   "execution_count": 11,
   "metadata": {},
   "outputs": [
    {
     "name": "stdout",
     "output_type": "stream",
     "text": [
      "<class 'pandas.core.frame.DataFrame'>\n",
      "Int64Index: 1460 entries, 1 to 1460\n",
      "Data columns (total 80 columns):\n",
      " #   Column         Non-Null Count  Dtype         \n",
      "# References  ------         --------------  -----         \n",
      " 0   MSSubClass     1460 non-null   category      \n",
      " 1   MSZoning       1460 non-null   object        \n",
      " 2   LotFrontage    1201 non-null   float64       \n",
      " 3   LotArea        1460 non-null   int64         \n",
      " 4   Street         1460 non-null   object        \n",
      " 5   Alley          91 non-null     object        \n",
      " 6   LotShape       1460 non-null   object        \n",
      " 7   LandContour    1460 non-null   object        \n",
      " 8   Utilities      1460 non-null   object        \n",
      " 9   LotConfig      1460 non-null   object        \n",
      " 10  LandSlope      1460 non-null   object        \n",
      " 11  Neighborhood   1460 non-null   object        \n",
      " 12  Condition1     1460 non-null   object        \n",
      " 13  Condition2     1460 non-null   object        \n",
      " 14  BldgType       1460 non-null   object        \n",
      " 15  HouseStyle     1460 non-null   object        \n",
      " 16  OverallQual    1460 non-null   category      \n",
      " 17  OverallCond    1460 non-null   category      \n",
      " 18  YearBuilt      1460 non-null   datetime64[ns]\n",
      " 19  YearRemodAdd   1460 non-null   datetime64[ns]\n",
      " 20  RoofStyle      1460 non-null   object        \n",
      " 21  RoofMatl       1460 non-null   object        \n",
      " 22  Exterior1st    1460 non-null   object        \n",
      " 23  Exterior2nd    1460 non-null   object        \n",
      " 24  MasVnrType     1452 non-null   object        \n",
      " 25  MasVnrArea     1452 non-null   float64       \n",
      " 26  ExterQual      1460 non-null   object        \n",
      " 27  ExterCond      1460 non-null   object        \n",
      " 28  Foundation     1460 non-null   object        \n",
      " 29  BsmtQual       1423 non-null   object        \n",
      " 30  BsmtCond       1423 non-null   object        \n",
      " 31  BsmtExposure   1422 non-null   object        \n",
      " 32  BsmtFinType1   1423 non-null   object        \n",
      " 33  BsmtFinSF1     1460 non-null   int64         \n",
      " 34  BsmtFinType2   1422 non-null   object        \n",
      " 35  BsmtFinSF2     1460 non-null   int64         \n",
      " 36  BsmtUnfSF      1460 non-null   int64         \n",
      " 37  TotalBsmtSF    1460 non-null   int64         \n",
      " 38  Heating        1460 non-null   object        \n",
      " 39  HeatingQC      1460 non-null   object        \n",
      " 40  CentralAir     1460 non-null   bool          \n",
      " 41  Electrical     1459 non-null   object        \n",
      " 42  1stFlrSF       1460 non-null   int64         \n",
      " 43  2ndFlrSF       1460 non-null   int64         \n",
      " 44  LowQualFinSF   1460 non-null   int64         \n",
      " 45  GrLivArea      1460 non-null   int64         \n",
      " 46  BsmtFullBath   1460 non-null   int64         \n",
      " 47  BsmtHalfBath   1460 non-null   int64         \n",
      " 48  FullBath       1460 non-null   int64         \n",
      " 49  HalfBath       1460 non-null   int64         \n",
      " 50  BedroomAbvGr   1460 non-null   int64         \n",
      " 51  KitchenAbvGr   1460 non-null   int64         \n",
      " 52  KitchenQual    1460 non-null   object        \n",
      " 53  TotRmsAbvGrd   1460 non-null   int64         \n",
      " 54  Functional     1460 non-null   object        \n",
      " 55  Fireplaces     1460 non-null   int64         \n",
      " 56  FireplaceQu    770 non-null    object        \n",
      " 57  GarageType     1379 non-null   object        \n",
      " 58  GarageYrBlt    1379 non-null   datetime64[ns]\n",
      " 59  GarageFinish   1379 non-null   object        \n",
      " 60  GarageCars     1460 non-null   int64         \n",
      " 61  GarageArea     1460 non-null   int64         \n",
      " 62  GarageQual     1379 non-null   object        \n",
      " 63  GarageCond     1379 non-null   object        \n",
      " 64  PavedDrive     1460 non-null   object        \n",
      " 65  WoodDeckSF     1460 non-null   int64         \n",
      " 66  OpenPorchSF    1460 non-null   int64         \n",
      " 67  EnclosedPorch  1460 non-null   int64         \n",
      " 68  3SsnPorch      1460 non-null   int64         \n",
      " 69  ScreenPorch    1460 non-null   int64         \n",
      " 70  PoolArea       1460 non-null   int64         \n",
      " 71  PoolQC         7 non-null      object        \n",
      " 72  Fence          281 non-null    object        \n",
      " 73  MiscFeature    54 non-null     object        \n",
      " 74  MiscVal        1460 non-null   int64         \n",
      " 75  MoSold         1460 non-null   datetime64[ns]\n",
      " 76  YrSold         1460 non-null   datetime64[ns]\n",
      " 77  SaleType       1460 non-null   object        \n",
      " 78  SaleCondition  1460 non-null   object        \n",
      " 79  SalePrice      1460 non-null   int64         \n",
      "dtypes: bool(1), category(3), datetime64[ns](5), float64(2), int64(27), object(42)\n",
      "memory usage: 885.4+ KB\n"
     ]
    }
   ],
   "source": [
    "train.info()"
   ]
  },
  {
   "cell_type": "code",
   "execution_count": 12,
   "metadata": {},
   "outputs": [
    {
     "name": "stdout",
     "output_type": "stream",
     "text": [
      "Name: MSZoning\tdtype: object\n",
      "nunique: 5\n"
     ]
    },
    {
     "data": {
      "text/plain": [
       "C (all)      10\n",
       "RH           16\n",
       "RM          218\n",
       "RL         1151\n",
       "FV           65\n",
       "Name: MSZoning, dtype: int64"
      ]
     },
     "metadata": {},
     "output_type": "display_data"
    },
    {
     "name": "stdout",
     "output_type": "stream",
     "text": [
      "------------------------------ \n",
      "\n",
      "Name: Street\tdtype: object\n",
      "nunique: 2\n"
     ]
    },
    {
     "data": {
      "text/plain": [
       "Pave    1454\n",
       "Grvl       6\n",
       "Name: Street, dtype: int64"
      ]
     },
     "metadata": {},
     "output_type": "display_data"
    },
    {
     "name": "stdout",
     "output_type": "stream",
     "text": [
      "------------------------------ \n",
      "\n",
      "Name: Alley\tdtype: object\n",
      "nunique: 2\n",
      "Missing: 1369 / 91 -> 93.76712328767123% \n"
     ]
    },
    {
     "data": {
      "text/plain": [
       "Pave    41\n",
       "Grvl    50\n",
       "Name: Alley, dtype: int64"
      ]
     },
     "metadata": {},
     "output_type": "display_data"
    },
    {
     "name": "stdout",
     "output_type": "stream",
     "text": [
      "------------------------------ \n",
      "\n",
      "Name: LotShape\tdtype: object\n",
      "nunique: 4\n"
     ]
    },
    {
     "data": {
      "text/plain": [
       "Reg    925\n",
       "IR3     10\n",
       "IR2     41\n",
       "IR1    484\n",
       "Name: LotShape, dtype: int64"
      ]
     },
     "metadata": {},
     "output_type": "display_data"
    },
    {
     "name": "stdout",
     "output_type": "stream",
     "text": [
      "------------------------------ \n",
      "\n",
      "Name: LandContour\tdtype: object\n",
      "nunique: 4\n"
     ]
    },
    {
     "data": {
      "text/plain": [
       "HLS      50\n",
       "Low      36\n",
       "Bnk      63\n",
       "Lvl    1311\n",
       "Name: LandContour, dtype: int64"
      ]
     },
     "metadata": {},
     "output_type": "display_data"
    },
    {
     "name": "stdout",
     "output_type": "stream",
     "text": [
      "------------------------------ \n",
      "\n",
      "Name: Utilities\tdtype: object\n",
      "nunique: 2\n"
     ]
    },
    {
     "data": {
      "text/plain": [
       "NoSeWa       1\n",
       "AllPub    1459\n",
       "Name: Utilities, dtype: int64"
      ]
     },
     "metadata": {},
     "output_type": "display_data"
    },
    {
     "name": "stdout",
     "output_type": "stream",
     "text": [
      "------------------------------ \n",
      "\n",
      "Name: LotConfig\tdtype: object\n",
      "nunique: 5\n"
     ]
    },
    {
     "data": {
      "text/plain": [
       "Corner      263\n",
       "CulDSac      94\n",
       "FR2          47\n",
       "Inside     1052\n",
       "FR3           4\n",
       "Name: LotConfig, dtype: int64"
      ]
     },
     "metadata": {},
     "output_type": "display_data"
    },
    {
     "name": "stdout",
     "output_type": "stream",
     "text": [
      "------------------------------ \n",
      "\n",
      "Name: LandSlope\tdtype: object\n",
      "nunique: 3\n"
     ]
    },
    {
     "data": {
      "text/plain": [
       "Gtl    1382\n",
       "Mod      65\n",
       "Sev      13\n",
       "Name: LandSlope, dtype: int64"
      ]
     },
     "metadata": {},
     "output_type": "display_data"
    },
    {
     "name": "stdout",
     "output_type": "stream",
     "text": [
      "------------------------------ \n",
      "\n",
      "Name: Neighborhood\tdtype: object\n",
      "nunique: 25\n"
     ]
    },
    {
     "data": {
      "text/plain": [
       "NoRidge     41\n",
       "NAmes      225\n",
       "MeadowV     17\n",
       "Mitchel     49\n",
       "Sawyer      74\n",
       "Veenker     11\n",
       "SawyerW     59\n",
       "Edwards    100\n",
       "NWAmes      73\n",
       "ClearCr     28\n",
       "OldTown    113\n",
       "Timber      38\n",
       "IDOTRR      37\n",
       "Blueste      2\n",
       "BrDale      16\n",
       "StoneBr     25\n",
       "BrkSide     58\n",
       "Crawfor     51\n",
       "NPkVill      9\n",
       "NridgHt     77\n",
       "Somerst     86\n",
       "Blmngtn     17\n",
       "SWISU       25\n",
       "Gilbert     79\n",
       "CollgCr    150\n",
       "Name: Neighborhood, dtype: int64"
      ]
     },
     "metadata": {},
     "output_type": "display_data"
    },
    {
     "name": "stdout",
     "output_type": "stream",
     "text": [
      "------------------------------ \n",
      "\n",
      "Name: Condition1\tdtype: object\n",
      "nunique: 9\n"
     ]
    },
    {
     "data": {
      "text/plain": [
       "PosA         8\n",
       "RRAn        26\n",
       "Artery      48\n",
       "Feedr       81\n",
       "Norm      1260\n",
       "RRAe        11\n",
       "PosN        19\n",
       "RRNn         5\n",
       "RRNe         2\n",
       "Name: Condition1, dtype: int64"
      ]
     },
     "metadata": {},
     "output_type": "display_data"
    },
    {
     "name": "stdout",
     "output_type": "stream",
     "text": [
      "------------------------------ \n",
      "\n",
      "Name: Condition2\tdtype: object\n",
      "nunique: 8\n"
     ]
    },
    {
     "data": {
      "text/plain": [
       "PosA         1\n",
       "RRAn         1\n",
       "Artery       2\n",
       "Feedr        6\n",
       "Norm      1445\n",
       "RRAe         1\n",
       "PosN         2\n",
       "RRNn         2\n",
       "Name: Condition2, dtype: int64"
      ]
     },
     "metadata": {},
     "output_type": "display_data"
    },
    {
     "name": "stdout",
     "output_type": "stream",
     "text": [
      "------------------------------ \n",
      "\n",
      "Name: BldgType\tdtype: object\n",
      "nunique: 5\n"
     ]
    },
    {
     "data": {
      "text/plain": [
       "Duplex      52\n",
       "1Fam      1220\n",
       "Twnhs       43\n",
       "TwnhsE     114\n",
       "2fmCon      31\n",
       "Name: BldgType, dtype: int64"
      ]
     },
     "metadata": {},
     "output_type": "display_data"
    },
    {
     "name": "stdout",
     "output_type": "stream",
     "text": [
      "------------------------------ \n",
      "\n",
      "Name: HouseStyle\tdtype: object\n",
      "nunique: 8\n"
     ]
    },
    {
     "data": {
      "text/plain": [
       "1.5Fin    154\n",
       "2Story    445\n",
       "1Story    726\n",
       "SFoyer     37\n",
       "SLvl       65\n",
       "2.5Unf     11\n",
       "1.5Unf     14\n",
       "2.5Fin      8\n",
       "Name: HouseStyle, dtype: int64"
      ]
     },
     "metadata": {},
     "output_type": "display_data"
    },
    {
     "name": "stdout",
     "output_type": "stream",
     "text": [
      "------------------------------ \n",
      "\n",
      "Name: RoofStyle\tdtype: object\n",
      "nunique: 6\n"
     ]
    },
    {
     "data": {
      "text/plain": [
       "Gable      1141\n",
       "Gambrel      11\n",
       "Flat         13\n",
       "Shed          2\n",
       "Hip         286\n",
       "Mansard       7\n",
       "Name: RoofStyle, dtype: int64"
      ]
     },
     "metadata": {},
     "output_type": "display_data"
    },
    {
     "name": "stdout",
     "output_type": "stream",
     "text": [
      "------------------------------ \n",
      "\n",
      "Name: RoofMatl\tdtype: object\n",
      "nunique: 8\n"
     ]
    },
    {
     "data": {
      "text/plain": [
       "ClyTile       1\n",
       "Metal         1\n",
       "Tar&Grv      11\n",
       "CompShg    1434\n",
       "Membran       1\n",
       "Roll          1\n",
       "WdShngl       6\n",
       "WdShake       5\n",
       "Name: RoofMatl, dtype: int64"
      ]
     },
     "metadata": {},
     "output_type": "display_data"
    },
    {
     "name": "stdout",
     "output_type": "stream",
     "text": [
      "------------------------------ \n",
      "\n",
      "Name: Exterior1st\tdtype: object\n",
      "nunique: 15\n"
     ]
    },
    {
     "data": {
      "text/plain": [
       "ImStucc      1\n",
       "HdBoard    222\n",
       "MetalSd    220\n",
       "AsbShng     20\n",
       "Wd Sdng    206\n",
       "BrkFace     50\n",
       "CBlock       1\n",
       "Plywood    108\n",
       "AsphShn      1\n",
       "VinylSd    515\n",
       "Stucco      25\n",
       "Stone        2\n",
       "WdShing     26\n",
       "CemntBd     61\n",
       "BrkComm      2\n",
       "Name: Exterior1st, dtype: int64"
      ]
     },
     "metadata": {},
     "output_type": "display_data"
    },
    {
     "name": "stdout",
     "output_type": "stream",
     "text": [
      "------------------------------ \n",
      "\n",
      "Name: Exterior2nd\tdtype: object\n",
      "nunique: 16\n"
     ]
    },
    {
     "data": {
      "text/plain": [
       "ImStucc     10\n",
       "HdBoard    207\n",
       "MetalSd    214\n",
       "AsbShng     20\n",
       "Wd Sdng    197\n",
       "BrkFace     25\n",
       "Brk Cmn      7\n",
       "CBlock       1\n",
       "Plywood    142\n",
       "AsphShn      3\n",
       "Wd Shng     38\n",
       "VinylSd    504\n",
       "Stucco      26\n",
       "Other        1\n",
       "Stone        5\n",
       "CmentBd     60\n",
       "Name: Exterior2nd, dtype: int64"
      ]
     },
     "metadata": {},
     "output_type": "display_data"
    },
    {
     "name": "stdout",
     "output_type": "stream",
     "text": [
      "------------------------------ \n",
      "\n",
      "Name: MasVnrType\tdtype: object\n",
      "nunique: 4\n",
      "Missing: 8 / 1452 -> 0.547945205479452% \n"
     ]
    },
    {
     "data": {
      "text/plain": [
       "BrkFace    445\n",
       "Stone      128\n",
       "BrkCmn      15\n",
       "None       864\n",
       "Name: MasVnrType, dtype: int64"
      ]
     },
     "metadata": {},
     "output_type": "display_data"
    },
    {
     "name": "stdout",
     "output_type": "stream",
     "text": [
      "------------------------------ \n",
      "\n",
      "Name: ExterQual\tdtype: object\n",
      "nunique: 4\n"
     ]
    },
    {
     "data": {
      "text/plain": [
       "Fa     14\n",
       "Gd    488\n",
       "TA    906\n",
       "Ex     52\n",
       "Name: ExterQual, dtype: int64"
      ]
     },
     "metadata": {},
     "output_type": "display_data"
    },
    {
     "name": "stdout",
     "output_type": "stream",
     "text": [
      "------------------------------ \n",
      "\n",
      "Name: ExterCond\tdtype: object\n",
      "nunique: 5\n"
     ]
    },
    {
     "data": {
      "text/plain": [
       "Fa      28\n",
       "Gd     146\n",
       "TA    1282\n",
       "Ex       3\n",
       "Po       1\n",
       "Name: ExterCond, dtype: int64"
      ]
     },
     "metadata": {},
     "output_type": "display_data"
    },
    {
     "name": "stdout",
     "output_type": "stream",
     "text": [
      "------------------------------ \n",
      "\n",
      "Name: Foundation\tdtype: object\n",
      "nunique: 6\n"
     ]
    },
    {
     "data": {
      "text/plain": [
       "CBlock    634\n",
       "BrkTil    146\n",
       "Slab       24\n",
       "Wood        3\n",
       "PConc     647\n",
       "Stone       6\n",
       "Name: Foundation, dtype: int64"
      ]
     },
     "metadata": {},
     "output_type": "display_data"
    },
    {
     "name": "stdout",
     "output_type": "stream",
     "text": [
      "------------------------------ \n",
      "\n",
      "Name: BsmtQual\tdtype: object\n",
      "nunique: 4\n",
      "Missing: 37 / 1423 -> 2.5342465753424657% \n"
     ]
    },
    {
     "data": {
      "text/plain": [
       "Fa     35\n",
       "Gd    618\n",
       "TA    649\n",
       "Ex    121\n",
       "Name: BsmtQual, dtype: int64"
      ]
     },
     "metadata": {},
     "output_type": "display_data"
    },
    {
     "name": "stdout",
     "output_type": "stream",
     "text": [
      "------------------------------ \n",
      "\n",
      "Name: BsmtCond\tdtype: object\n",
      "nunique: 4\n",
      "Missing: 37 / 1423 -> 2.5342465753424657% \n"
     ]
    },
    {
     "data": {
      "text/plain": [
       "Fa      45\n",
       "Gd      65\n",
       "TA    1311\n",
       "Po       2\n",
       "Name: BsmtCond, dtype: int64"
      ]
     },
     "metadata": {},
     "output_type": "display_data"
    },
    {
     "name": "stdout",
     "output_type": "stream",
     "text": [
      "------------------------------ \n",
      "\n",
      "Name: BsmtExposure\tdtype: object\n",
      "nunique: 4\n",
      "Missing: 38 / 1422 -> 2.6027397260273974% \n"
     ]
    },
    {
     "data": {
      "text/plain": [
       "Gd    134\n",
       "Mn    114\n",
       "Av    221\n",
       "No    953\n",
       "Name: BsmtExposure, dtype: int64"
      ]
     },
     "metadata": {},
     "output_type": "display_data"
    },
    {
     "name": "stdout",
     "output_type": "stream",
     "text": [
      "------------------------------ \n",
      "\n",
      "Name: BsmtFinType1\tdtype: object\n",
      "nunique: 6\n",
      "Missing: 37 / 1423 -> 2.5342465753424657% \n"
     ]
    },
    {
     "data": {
      "text/plain": [
       "Unf    430\n",
       "Rec    133\n",
       "GLQ    418\n",
       "LwQ     74\n",
       "ALQ    220\n",
       "BLQ    148\n",
       "Name: BsmtFinType1, dtype: int64"
      ]
     },
     "metadata": {},
     "output_type": "display_data"
    },
    {
     "name": "stdout",
     "output_type": "stream",
     "text": [
      "------------------------------ \n",
      "\n",
      "Name: BsmtFinType2\tdtype: object\n",
      "nunique: 6\n",
      "Missing: 38 / 1422 -> 2.6027397260273974% \n"
     ]
    },
    {
     "data": {
      "text/plain": [
       "Unf    1256\n",
       "Rec      54\n",
       "GLQ      14\n",
       "LwQ      46\n",
       "ALQ      19\n",
       "BLQ      33\n",
       "Name: BsmtFinType2, dtype: int64"
      ]
     },
     "metadata": {},
     "output_type": "display_data"
    },
    {
     "name": "stdout",
     "output_type": "stream",
     "text": [
      "------------------------------ \n",
      "\n",
      "Name: Heating\tdtype: object\n",
      "nunique: 6\n"
     ]
    },
    {
     "data": {
      "text/plain": [
       "Wall        4\n",
       "GasA     1428\n",
       "GasW       18\n",
       "Grav        7\n",
       "OthW        2\n",
       "Floor       1\n",
       "Name: Heating, dtype: int64"
      ]
     },
     "metadata": {},
     "output_type": "display_data"
    },
    {
     "name": "stdout",
     "output_type": "stream",
     "text": [
      "------------------------------ \n",
      "\n",
      "Name: HeatingQC\tdtype: object\n",
      "nunique: 5\n"
     ]
    },
    {
     "data": {
      "text/plain": [
       "Fa     49\n",
       "Gd    241\n",
       "TA    428\n",
       "Ex    741\n",
       "Po      1\n",
       "Name: HeatingQC, dtype: int64"
      ]
     },
     "metadata": {},
     "output_type": "display_data"
    },
    {
     "name": "stdout",
     "output_type": "stream",
     "text": [
      "------------------------------ \n",
      "\n",
      "Name: Electrical\tdtype: object\n",
      "nunique: 5\n",
      "Missing: 1 / 1459 -> 0.0684931506849315% \n"
     ]
    },
    {
     "data": {
      "text/plain": [
       "FuseP       3\n",
       "FuseA      94\n",
       "Mix         1\n",
       "FuseF      27\n",
       "SBrkr    1334\n",
       "Name: Electrical, dtype: int64"
      ]
     },
     "metadata": {},
     "output_type": "display_data"
    },
    {
     "name": "stdout",
     "output_type": "stream",
     "text": [
      "------------------------------ \n",
      "\n",
      "Name: KitchenQual\tdtype: object\n",
      "nunique: 4\n"
     ]
    },
    {
     "data": {
      "text/plain": [
       "Fa     39\n",
       "Gd    586\n",
       "TA    735\n",
       "Ex    100\n",
       "Name: KitchenQual, dtype: int64"
      ]
     },
     "metadata": {},
     "output_type": "display_data"
    },
    {
     "name": "stdout",
     "output_type": "stream",
     "text": [
      "------------------------------ \n",
      "\n",
      "Name: Functional\tdtype: object\n",
      "nunique: 7\n"
     ]
    },
    {
     "data": {
      "text/plain": [
       "Min2      34\n",
       "Min1      31\n",
       "Maj1      14\n",
       "Maj2       5\n",
       "Mod       15\n",
       "Typ     1360\n",
       "Sev        1\n",
       "Name: Functional, dtype: int64"
      ]
     },
     "metadata": {},
     "output_type": "display_data"
    },
    {
     "name": "stdout",
     "output_type": "stream",
     "text": [
      "------------------------------ \n",
      "\n",
      "Name: FireplaceQu\tdtype: object\n",
      "nunique: 5\n",
      "Missing: 690 / 770 -> 47.26027397260274% \n"
     ]
    },
    {
     "data": {
      "text/plain": [
       "Fa     33\n",
       "Gd    380\n",
       "TA    313\n",
       "Ex     24\n",
       "Po     20\n",
       "Name: FireplaceQu, dtype: int64"
      ]
     },
     "metadata": {},
     "output_type": "display_data"
    },
    {
     "name": "stdout",
     "output_type": "stream",
     "text": [
      "------------------------------ \n",
      "\n",
      "Name: GarageType\tdtype: object\n",
      "nunique: 6\n",
      "Missing: 81 / 1379 -> 5.5479452054794525% \n"
     ]
    },
    {
     "data": {
      "text/plain": [
       "CarPort      9\n",
       "Basment     19\n",
       "Attchd     870\n",
       "2Types       6\n",
       "Detchd     387\n",
       "BuiltIn     88\n",
       "Name: GarageType, dtype: int64"
      ]
     },
     "metadata": {},
     "output_type": "display_data"
    },
    {
     "name": "stdout",
     "output_type": "stream",
     "text": [
      "------------------------------ \n",
      "\n",
      "Name: GarageFinish\tdtype: object\n",
      "nunique: 3\n",
      "Missing: 81 / 1379 -> 5.5479452054794525% \n"
     ]
    },
    {
     "data": {
      "text/plain": [
       "Fin    352\n",
       "Unf    605\n",
       "RFn    422\n",
       "Name: GarageFinish, dtype: int64"
      ]
     },
     "metadata": {},
     "output_type": "display_data"
    },
    {
     "name": "stdout",
     "output_type": "stream",
     "text": [
      "------------------------------ \n",
      "\n",
      "Name: GarageQual\tdtype: object\n",
      "nunique: 5\n",
      "Missing: 81 / 1379 -> 5.5479452054794525% \n"
     ]
    },
    {
     "data": {
      "text/plain": [
       "Fa      48\n",
       "Gd      14\n",
       "TA    1311\n",
       "Ex       3\n",
       "Po       3\n",
       "Name: GarageQual, dtype: int64"
      ]
     },
     "metadata": {},
     "output_type": "display_data"
    },
    {
     "name": "stdout",
     "output_type": "stream",
     "text": [
      "------------------------------ \n",
      "\n",
      "Name: GarageCond\tdtype: object\n",
      "nunique: 5\n",
      "Missing: 81 / 1379 -> 5.5479452054794525% \n"
     ]
    },
    {
     "data": {
      "text/plain": [
       "Fa      35\n",
       "Gd       9\n",
       "TA    1326\n",
       "Ex       2\n",
       "Po       7\n",
       "Name: GarageCond, dtype: int64"
      ]
     },
     "metadata": {},
     "output_type": "display_data"
    },
    {
     "name": "stdout",
     "output_type": "stream",
     "text": [
      "------------------------------ \n",
      "\n",
      "Name: PavedDrive\tdtype: object\n",
      "nunique: 3\n"
     ]
    },
    {
     "data": {
      "text/plain": [
       "N      90\n",
       "Y    1340\n",
       "P      30\n",
       "Name: PavedDrive, dtype: int64"
      ]
     },
     "metadata": {},
     "output_type": "display_data"
    },
    {
     "name": "stdout",
     "output_type": "stream",
     "text": [
      "------------------------------ \n",
      "\n",
      "Name: PoolQC\tdtype: object\n",
      "nunique: 3\n",
      "Missing: 1453 / 7 -> 99.52054794520548% \n"
     ]
    },
    {
     "data": {
      "text/plain": [
       "Fa    2\n",
       "Gd    3\n",
       "Ex    2\n",
       "Name: PoolQC, dtype: int64"
      ]
     },
     "metadata": {},
     "output_type": "display_data"
    },
    {
     "name": "stdout",
     "output_type": "stream",
     "text": [
      "------------------------------ \n",
      "\n",
      "Name: Fence\tdtype: object\n",
      "nunique: 4\n",
      "Missing: 1179 / 281 -> 80.75342465753424% \n"
     ]
    },
    {
     "data": {
      "text/plain": [
       "GdPrv     59\n",
       "GdWo      54\n",
       "MnWw      11\n",
       "MnPrv    157\n",
       "Name: Fence, dtype: int64"
      ]
     },
     "metadata": {},
     "output_type": "display_data"
    },
    {
     "name": "stdout",
     "output_type": "stream",
     "text": [
      "------------------------------ \n",
      "\n",
      "Name: MiscFeature\tdtype: object\n",
      "nunique: 4\n",
      "Missing: 1406 / 54 -> 96.30136986301369% \n"
     ]
    },
    {
     "data": {
      "text/plain": [
       "Shed    49\n",
       "TenC     1\n",
       "Gar2     2\n",
       "Othr     2\n",
       "Name: MiscFeature, dtype: int64"
      ]
     },
     "metadata": {},
     "output_type": "display_data"
    },
    {
     "name": "stdout",
     "output_type": "stream",
     "text": [
      "------------------------------ \n",
      "\n",
      "Name: SaleType\tdtype: object\n",
      "nunique: 9\n"
     ]
    },
    {
     "data": {
      "text/plain": [
       "Oth         3\n",
       "CWD         4\n",
       "WD       1267\n",
       "Con         2\n",
       "New       122\n",
       "ConLw       5\n",
       "ConLI       5\n",
       "COD        43\n",
       "ConLD       9\n",
       "Name: SaleType, dtype: int64"
      ]
     },
     "metadata": {},
     "output_type": "display_data"
    },
    {
     "name": "stdout",
     "output_type": "stream",
     "text": [
      "------------------------------ \n",
      "\n",
      "Name: SaleCondition\tdtype: object\n",
      "nunique: 6\n"
     ]
    },
    {
     "data": {
      "text/plain": [
       "Abnorml     101\n",
       "Alloca       12\n",
       "Normal     1198\n",
       "Family       20\n",
       "AdjLand       4\n",
       "Partial     125\n",
       "Name: SaleCondition, dtype: int64"
      ]
     },
     "metadata": {},
     "output_type": "display_data"
    },
    {
     "name": "stdout",
     "output_type": "stream",
     "text": [
      "------------------------------ \n",
      "\n"
     ]
    }
   ],
   "source": [
    "cat_col_names_with_na = []\n",
    "cat_col_names_without_na = []\n",
    "for col_name in train.select_dtypes(include=[\"object\"]):\n",
    "    print(f\"Name: {col_name}\\tdtype: {train[col_name].dtype}\")\n",
    "    print(f\"nunique: {train[col_name].nunique()}\")\n",
    "    missing_count = train[col_name].isnull().sum()\n",
    "    count = train[col_name].count()\n",
    "    if missing_count:\n",
    "        cat_col_names_with_na.append(col_name)\n",
    "        print(\n",
    "            f\"Missing: {missing_count} / {count} -> {missing_count/(missing_count + count)*100}% \"\n",
    "        )\n",
    "    else:\n",
    "        cat_col_names_without_na.append(col_name)\n",
    "    display(train[col_name].value_counts(sort=False))\n",
    "\n",
    "    print(\"-\" * 30, \"\\n\")"
   ]
  },
  {
   "cell_type": "code",
   "execution_count": 13,
   "metadata": {},
   "outputs": [
    {
     "data": {
      "text/plain": [
       "['MSZoning',\n",
       " 'Street',\n",
       " 'LotShape',\n",
       " 'LandContour',\n",
       " 'Utilities',\n",
       " 'LotConfig',\n",
       " 'LandSlope',\n",
       " 'Neighborhood',\n",
       " 'Condition1',\n",
       " 'Condition2',\n",
       " 'BldgType',\n",
       " 'HouseStyle',\n",
       " 'RoofStyle',\n",
       " 'RoofMatl',\n",
       " 'Exterior1st',\n",
       " 'Exterior2nd',\n",
       " 'ExterQual',\n",
       " 'ExterCond',\n",
       " 'Foundation',\n",
       " 'Heating',\n",
       " 'HeatingQC',\n",
       " 'KitchenQual',\n",
       " 'Functional',\n",
       " 'PavedDrive',\n",
       " 'SaleType',\n",
       " 'SaleCondition']"
      ]
     },
     "execution_count": 13,
     "metadata": {},
     "output_type": "execute_result"
    }
   ],
   "source": [
    "cat_col_names_without_na"
   ]
  },
  {
   "cell_type": "code",
   "execution_count": 14,
   "metadata": {},
   "outputs": [
    {
     "name": "stdout",
     "output_type": "stream",
     "text": [
      "<class 'pandas.core.frame.DataFrame'>\n",
      "Int64Index: 1460 entries, 1 to 1460\n",
      "Data columns (total 80 columns):\n",
      " #   Column         Non-Null Count  Dtype         \n",
      "# References  ------         --------------  -----         \n",
      " 0   MSSubClass     1460 non-null   category      \n",
      " 1   MSZoning       1460 non-null   object        \n",
      " 2   LotFrontage    1201 non-null   float64       \n",
      " 3   LotArea        1460 non-null   int64         \n",
      " 4   Street         1460 non-null   object        \n",
      " 5   Alley          91 non-null     object        \n",
      " 6   LotShape       1460 non-null   object        \n",
      " 7   LandContour    1460 non-null   object        \n",
      " 8   Utilities      1460 non-null   object        \n",
      " 9   LotConfig      1460 non-null   object        \n",
      " 10  LandSlope      1460 non-null   object        \n",
      " 11  Neighborhood   1460 non-null   object        \n",
      " 12  Condition1     1460 non-null   object        \n",
      " 13  Condition2     1460 non-null   object        \n",
      " 14  BldgType       1460 non-null   object        \n",
      " 15  HouseStyle     1460 non-null   object        \n",
      " 16  OverallQual    1460 non-null   category      \n",
      " 17  OverallCond    1460 non-null   category      \n",
      " 18  YearBuilt      1460 non-null   datetime64[ns]\n",
      " 19  YearRemodAdd   1460 non-null   datetime64[ns]\n",
      " 20  RoofStyle      1460 non-null   object        \n",
      " 21  RoofMatl       1460 non-null   object        \n",
      " 22  Exterior1st    1460 non-null   object        \n",
      " 23  Exterior2nd    1460 non-null   object        \n",
      " 24  MasVnrType     1452 non-null   object        \n",
      " 25  MasVnrArea     1452 non-null   float64       \n",
      " 26  ExterQual      1460 non-null   object        \n",
      " 27  ExterCond      1460 non-null   object        \n",
      " 28  Foundation     1460 non-null   object        \n",
      " 29  BsmtQual       1423 non-null   object        \n",
      " 30  BsmtCond       1423 non-null   object        \n",
      " 31  BsmtExposure   1422 non-null   object        \n",
      " 32  BsmtFinType1   1423 non-null   object        \n",
      " 33  BsmtFinSF1     1460 non-null   int64         \n",
      " 34  BsmtFinType2   1422 non-null   object        \n",
      " 35  BsmtFinSF2     1460 non-null   int64         \n",
      " 36  BsmtUnfSF      1460 non-null   int64         \n",
      " 37  TotalBsmtSF    1460 non-null   int64         \n",
      " 38  Heating        1460 non-null   object        \n",
      " 39  HeatingQC      1460 non-null   object        \n",
      " 40  CentralAir     1460 non-null   bool          \n",
      " 41  Electrical     1459 non-null   object        \n",
      " 42  1stFlrSF       1460 non-null   int64         \n",
      " 43  2ndFlrSF       1460 non-null   int64         \n",
      " 44  LowQualFinSF   1460 non-null   int64         \n",
      " 45  GrLivArea      1460 non-null   int64         \n",
      " 46  BsmtFullBath   1460 non-null   int64         \n",
      " 47  BsmtHalfBath   1460 non-null   int64         \n",
      " 48  FullBath       1460 non-null   int64         \n",
      " 49  HalfBath       1460 non-null   int64         \n",
      " 50  BedroomAbvGr   1460 non-null   int64         \n",
      " 51  KitchenAbvGr   1460 non-null   int64         \n",
      " 52  KitchenQual    1460 non-null   object        \n",
      " 53  TotRmsAbvGrd   1460 non-null   int64         \n",
      " 54  Functional     1460 non-null   object        \n",
      " 55  Fireplaces     1460 non-null   int64         \n",
      " 56  FireplaceQu    770 non-null    object        \n",
      " 57  GarageType     1379 non-null   object        \n",
      " 58  GarageYrBlt    1379 non-null   datetime64[ns]\n",
      " 59  GarageFinish   1379 non-null   object        \n",
      " 60  GarageCars     1460 non-null   int64         \n",
      " 61  GarageArea     1460 non-null   int64         \n",
      " 62  GarageQual     1379 non-null   object        \n",
      " 63  GarageCond     1379 non-null   object        \n",
      " 64  PavedDrive     1460 non-null   object        \n",
      " 65  WoodDeckSF     1460 non-null   int64         \n",
      " 66  OpenPorchSF    1460 non-null   int64         \n",
      " 67  EnclosedPorch  1460 non-null   int64         \n",
      " 68  3SsnPorch      1460 non-null   int64         \n",
      " 69  ScreenPorch    1460 non-null   int64         \n",
      " 70  PoolArea       1460 non-null   int64         \n",
      " 71  PoolQC         7 non-null      object        \n",
      " 72  Fence          281 non-null    object        \n",
      " 73  MiscFeature    54 non-null     object        \n",
      " 74  MiscVal        1460 non-null   int64         \n",
      " 75  MoSold         1460 non-null   datetime64[ns]\n",
      " 76  YrSold         1460 non-null   datetime64[ns]\n",
      " 77  SaleType       1460 non-null   object        \n",
      " 78  SaleCondition  1460 non-null   object        \n",
      " 79  SalePrice      1460 non-null   int64         \n",
      "dtypes: bool(1), category(3), datetime64[ns](5), float64(2), int64(27), object(42)\n",
      "memory usage: 885.4+ KB\n"
     ]
    }
   ],
   "source": [
    "train.info()"
   ]
  },
  {
   "cell_type": "code",
   "execution_count": 15,
   "metadata": {},
   "outputs": [
    {
     "data": {
      "text/plain": [
       "['Alley',\n",
       " 'MasVnrType',\n",
       " 'BsmtQual',\n",
       " 'BsmtCond',\n",
       " 'BsmtExposure',\n",
       " 'BsmtFinType1',\n",
       " 'BsmtFinType2',\n",
       " 'Electrical',\n",
       " 'FireplaceQu',\n",
       " 'GarageType',\n",
       " 'GarageFinish',\n",
       " 'GarageQual',\n",
       " 'GarageCond',\n",
       " 'PoolQC',\n",
       " 'Fence',\n",
       " 'MiscFeature']"
      ]
     },
     "execution_count": 15,
     "metadata": {},
     "output_type": "execute_result"
    }
   ],
   "source": [
    "cat_col_names_with_na"
   ]
  },
  {
   "cell_type": "code",
   "execution_count": 16,
   "metadata": {},
   "outputs": [],
   "source": [
    "train.Alley.fillna(\"NA\", inplace=True)\n",
    "train.BsmtQual.fillna(\"NA\", inplace=True)\n",
    "train.BsmtCond.fillna(\"NA\", inplace=True)\n",
    "train.BsmtExposure.fillna(\"NA\", inplace=True)\n",
    "train.BsmtFinType1.fillna(\"NA\", inplace=True)\n",
    "train.BsmtFinType2.fillna(\"NA\", inplace=True)\n",
    "train.FireplaceQu.fillna(\"NA\", inplace=True)\n",
    "train.GarageType.fillna(\"NA\", inplace=True)\n",
    "train.GarageFinish.fillna(\"NA\", inplace=True)\n",
    "train.GarageQual.fillna(\"NA\", inplace=True)\n",
    "train.GarageCond.fillna(\"NA\", inplace=True)\n",
    "train.PoolQC.fillna(\"NA\", inplace=True)\n",
    "train.Fence.fillna(\"NA\", inplace=True)\n",
    "train.MiscFeature.fillna(\"NA\", inplace=True)"
   ]
  },
  {
   "cell_type": "code",
   "execution_count": 17,
   "metadata": {},
   "outputs": [],
   "source": [
    "train.MasVnrType.fillna(train.MasVnrType.mode()[0], inplace=True)\n",
    "\n",
    "train.Electrical.fillna(train.Electrical.mode()[0], inplace=True)"
   ]
  },
  {
   "cell_type": "markdown",
   "metadata": {},
   "source": [
    "### Data types"
   ]
  },
  {
   "cell_type": "markdown",
   "metadata": {},
   "source": [
    "#### object -> categorical"
   ]
  },
  {
   "cell_type": "code",
   "execution_count": 18,
   "metadata": {},
   "outputs": [
    {
     "data": {
      "text/plain": [
       "array(['VinylSd', 'MetalSd', 'Wd Sdng', 'HdBoard', 'BrkFace', 'WdShing',\n",
       "       'CemntBd', 'Plywood', 'AsbShng', 'Stucco', 'BrkComm', 'AsphShn',\n",
       "       'Stone', 'ImStucc', 'CBlock'], dtype=object)"
      ]
     },
     "execution_count": 18,
     "metadata": {},
     "output_type": "execute_result"
    }
   ],
   "source": [
    "train.Exterior1st.unique()"
   ]
  },
  {
   "cell_type": "code",
   "execution_count": 19,
   "metadata": {},
   "outputs": [
    {
     "data": {
      "text/plain": [
       "array(['VinylSd', 'MetalSd', 'Wd Shng', 'HdBoard', 'Plywood', 'Wd Sdng',\n",
       "       'CmentBd', 'BrkFace', 'Stucco', 'AsbShng', 'Brk Cmn', 'ImStucc',\n",
       "       'AsphShn', 'Stone', 'Other', 'CBlock'], dtype=object)"
      ]
     },
     "execution_count": 19,
     "metadata": {},
     "output_type": "execute_result"
    }
   ],
   "source": [
    "train.Exterior2nd.unique()"
   ]
  },
  {
   "cell_type": "code",
   "execution_count": null,
   "metadata": {},
   "outputs": [],
   "source": []
  },
  {
   "cell_type": "code",
   "execution_count": 20,
   "metadata": {},
   "outputs": [],
   "source": [
    "train.Exterior2nd.replace(\"Brk Cmn\", \"BrkComm\", inplace=True)\n",
    "train.Exterior2nd.replace(\"Wd Shng\", \"Wd Sdng\", inplace=True)\n",
    "train.Exterior2nd.replace(\"Wd Shng\", \"Wd Sdng\", inplace=True)\n",
    "train.Exterior2nd.replace(\"CmentBd\", \"CemntBd\", inplace=True)"
   ]
  },
  {
   "cell_type": "code",
   "execution_count": 21,
   "metadata": {},
   "outputs": [
    {
     "data": {
      "text/plain": [
       "{'WdShing'}"
      ]
     },
     "execution_count": 21,
     "metadata": {},
     "output_type": "execute_result"
    }
   ],
   "source": [
    "set(train.Exterior1st.unique()) - set(train.Exterior2nd.unique())"
   ]
  },
  {
   "cell_type": "code",
   "execution_count": 22,
   "metadata": {},
   "outputs": [
    {
     "data": {
      "text/plain": [
       "{'Other'}"
      ]
     },
     "execution_count": 22,
     "metadata": {},
     "output_type": "execute_result"
    }
   ],
   "source": [
    "set(train.Exterior2nd.unique()) - set(train.Exterior1st.unique())"
   ]
  },
  {
   "cell_type": "code",
   "execution_count": 23,
   "metadata": {},
   "outputs": [
    {
     "data": {
      "text/plain": [
       "CategoricalDtype(categories=['VinylSd', 'MetalSd', 'Wd Sdng', 'HdBoard', 'BrkFace',\n",
       "                  'WdShing', 'CemntBd', 'Plywood', 'AsbShng', 'Stucco',\n",
       "                  'BrkComm', 'AsphShn', 'Stone', 'ImStucc', 'CBlock', 'Other',\n",
       "                  'PreCast'],\n",
       ", ordered=False)"
      ]
     },
     "execution_count": 23,
     "metadata": {},
     "output_type": "execute_result"
    }
   ],
   "source": [
    "Exterior_cat = CategoricalDtype(\n",
    "    categories=train.Exterior1st.unique().tolist() + [\"Other\", \"PreCast\"], ordered=False\n",
    ")\n",
    "Exterior_cat"
   ]
  },
  {
   "cell_type": "code",
   "execution_count": 24,
   "metadata": {},
   "outputs": [],
   "source": [
    "train.MSZoning = train.MSZoning.astype(\n",
    "    CategoricalDtype(\n",
    "        categories=[\"A\", \"C (all)\", \"FV\", \"I\", \"RH\", \"RL\", \"RP\", \"RM\"], ordered=False\n",
    "    )\n",
    ")\n",
    "\n",
    "train.MSSubClass = train.MSSubClass.astype(\n",
    "    CategoricalDtype(\n",
    "        categories=[\n",
    "            20,\n",
    "            30,\n",
    "            40,\n",
    "            45,\n",
    "            50,\n",
    "            60,\n",
    "            70,\n",
    "            75,\n",
    "            80,\n",
    "            85,\n",
    "            90,\n",
    "            120,\n",
    "            150,\n",
    "            160,\n",
    "            180,\n",
    "            190,\n",
    "        ],\n",
    "        ordered=False,\n",
    "    )\n",
    ")\n",
    "\n",
    "train.Street = train.Street.astype(\"category\")\n",
    "\n",
    "train.Alley = train.Alley.astype(\"category\")\n",
    "\n",
    "train.LotShape = train.LotShape.astype(\"category\")\n",
    "\n",
    "train.LandContour = train.LandContour.astype(\"category\")\n",
    "\n",
    "train.Utilities = train.Utilities.astype(\n",
    "    CategoricalDtype(categories=[\"ELO\", \"NoSeWa\", \"NoSewr\", \"AllPub\"], ordered=True)\n",
    ")\n",
    "\n",
    "train.LotConfig = train.LotConfig.astype(\"category\")\n",
    "\n",
    "train.LandSlope = train.LandSlope.astype(\"category\")\n",
    "\n",
    "train.Neighborhood = train.Neighborhood.astype(\"category\")\n",
    "\n",
    "train.Condition1 = train.Condition1.astype(\"category\")\n",
    "\n",
    "train.Condition2 = train.Condition2.astype(\"category\")\n",
    "\n",
    "train.BldgType = train.BldgType.astype(\"category\")\n",
    "\n",
    "train.HouseStyle = train.HouseStyle.astype(\"category\")\n",
    "\n",
    "train.RoofStyle = train.RoofStyle.astype(\"category\")\n",
    "\n",
    "train.RoofMatl = train.RoofMatl.astype(\"category\")\n",
    "\n",
    "Exterior_cat = CategoricalDtype(\n",
    "    categories=train.Exterior1st.unique().tolist() + [\"Other\", \"PreCast\"], ordered=False\n",
    ")\n",
    "train.Exterior1st = train.Exterior1st.astype(Exterior_cat)\n",
    "train.Exterior2nd = train.Exterior2nd.astype(Exterior_cat)\n",
    "\n",
    "MasVnrType_cat = CategoricalDtype(\n",
    "    categories=train.MasVnrType.unique().tolist() + [\"CBlock\"], ordered=False\n",
    ")\n",
    "train.MasVnrType = train.MasVnrType.astype(MasVnrType_cat)\n",
    "\n",
    "Exter_cat = CategoricalDtype(categories=[\"Po\", \"Fa\", \"TA\", \"Gd\", \"Ex\"], ordered=True)\n",
    "train.ExterQual = train.ExterQual.astype(Exter_cat)\n",
    "train.ExterCond = train.ExterQual.astype(Exter_cat)\n",
    "train.HeatingQC = train.HeatingQC.astype(Exter_cat)\n",
    "train.KitchenQual = train.KitchenQual.astype(Exter_cat)\n",
    "\n",
    "\n",
    "# TODO: what is the best - no or something?\n",
    "Bsmt_cat = CategoricalDtype(\n",
    "    categories=[\"NA\", \"Po\", \"Fa\", \"TA\", \"Gd\", \"Ex\"], ordered=True\n",
    ")\n",
    "train.BsmtQual = train.BsmtQual.astype(Bsmt_cat)\n",
    "train.BsmtCond = train.BsmtCond.astype(Bsmt_cat)\n",
    "train.FireplaceQu = train.FireplaceQu.astype(Bsmt_cat)\n",
    "train.GarageQual = train.GarageQual.astype(Bsmt_cat)\n",
    "train.GarageCond = train.GarageCond.astype(Bsmt_cat)\n",
    "train.PoolQC = train.PoolQC.astype(Bsmt_cat)\n",
    "\n",
    "\n",
    "train.Foundation = train.Foundation.astype(\"category\")\n",
    "\n",
    "train.BsmtExposure = train.BsmtExposure.astype(\"category\")\n",
    "\n",
    "Bsmt_fin = CategoricalDtype(\n",
    "    categories=[\"NA\", \"Unf\", \"LwQ\", \"Rec\", \"BLQ\", \"ALQ\", \"GLQ\"], ordered=True\n",
    ")\n",
    "train.BsmtFinType1 = train.BsmtFinType1.astype(Bsmt_fin)\n",
    "train.BsmtFinType2 = train.BsmtFinType2.astype(Bsmt_fin)\n",
    "\n",
    "\n",
    "train.Heating = train.Heating.astype(\"category\")\n",
    "\n",
    "Electrical_cat = CategoricalDtype(\n",
    "    categories=[\"Mix\", \"FuseP\", \"FuseF\", \"FuseA\", \"SBrkr\"], ordered=True\n",
    ")\n",
    "train.Electrical = train.Electrical.astype(Electrical_cat)\n",
    "\n",
    "Functional_cat = CategoricalDtype(\n",
    "    categories=[\"Sal\", \"Sev\", \"Maj2\", \"Maj1\", \"Mod\", \"Min2\", \"Min1\", \"Typ\"],\n",
    "    ordered=True,\n",
    ")\n",
    "train.Functional = train.Functional.astype(Functional_cat)\n",
    "\n",
    "# ordered?\n",
    "train.GarageType = train.GarageType.astype(\"category\")\n",
    "\n",
    "GarageFinish_cat = CategoricalDtype(\n",
    "    categories=[\"NA\", \"Unf\", \"RFn\", \"Fin\"], ordered=True\n",
    ")\n",
    "train.GarageFinish = train.GarageFinish.astype(GarageFinish_cat)\n",
    "\n",
    "PavedDrive_cat = CategoricalDtype(categories=[\"N\", \"P\", \"Y\"], ordered=True)\n",
    "train.PavedDrive = train.PavedDrive.astype(PavedDrive_cat)\n",
    "\n",
    "PavedDrive_cat = CategoricalDtype(\n",
    "    categories=[\"NA\", \"MnWw\", \"GdWo\", \"MnPrv\", \"GdPrv\"], ordered=True\n",
    ")\n",
    "train.Fence = train.Fence.astype(PavedDrive_cat)\n",
    "\n",
    "train.MiscFeature = train.MiscFeature.astype(\"category\")\n",
    "\n",
    "train.SaleType = train.SaleType.astype(\"category\")\n",
    "\n",
    "train.SaleCondition = train.SaleCondition.astype(\"category\")"
   ]
  },
  {
   "cell_type": "code",
   "execution_count": 25,
   "metadata": {},
   "outputs": [
    {
     "name": "stdout",
     "output_type": "stream",
     "text": [
      "<class 'pandas.core.frame.DataFrame'>\n",
      "Int64Index: 1460 entries, 1 to 1460\n",
      "Empty DataFrame"
     ]
    }
   ],
   "source": [
    "train.select_dtypes(exclude=[\"category\", \"number\", \"datetime\", \"bool\"]).info()"
   ]
  },
  {
   "cell_type": "code",
   "execution_count": 26,
   "metadata": {},
   "outputs": [
    {
     "name": "stdout",
     "output_type": "stream",
     "text": [
      "<class 'pandas.core.frame.DataFrame'>\n",
      "Int64Index: 1460 entries, 1 to 1460\n",
      "Data columns (total 80 columns):\n",
      " #   Column         Non-Null Count  Dtype         \n",
      "# References  ------         --------------  -----         \n",
      " 0   MSSubClass     1460 non-null   category      \n",
      " 1   MSZoning       1460 non-null   category      \n",
      " 2   LotFrontage    1201 non-null   float64       \n",
      " 3   LotArea        1460 non-null   int64         \n",
      " 4   Street         1460 non-null   category      \n",
      " 5   Alley          1460 non-null   category      \n",
      " 6   LotShape       1460 non-null   category      \n",
      " 7   LandContour    1460 non-null   category      \n",
      " 8   Utilities      1460 non-null   category      \n",
      " 9   LotConfig      1460 non-null   category      \n",
      " 10  LandSlope      1460 non-null   category      \n",
      " 11  Neighborhood   1460 non-null   category      \n",
      " 12  Condition1     1460 non-null   category      \n",
      " 13  Condition2     1460 non-null   category      \n",
      " 14  BldgType       1460 non-null   category      \n",
      " 15  HouseStyle     1460 non-null   category      \n",
      " 16  OverallQual    1460 non-null   category      \n",
      " 17  OverallCond    1460 non-null   category      \n",
      " 18  YearBuilt      1460 non-null   datetime64[ns]\n",
      " 19  YearRemodAdd   1460 non-null   datetime64[ns]\n",
      " 20  RoofStyle      1460 non-null   category      \n",
      " 21  RoofMatl       1460 non-null   category      \n",
      " 22  Exterior1st    1460 non-null   category      \n",
      " 23  Exterior2nd    1460 non-null   category      \n",
      " 24  MasVnrType     1460 non-null   category      \n",
      " 25  MasVnrArea     1452 non-null   float64       \n",
      " 26  ExterQual      1460 non-null   category      \n",
      " 27  ExterCond      1460 non-null   category      \n",
      " 28  Foundation     1460 non-null   category      \n",
      " 29  BsmtQual       1460 non-null   category      \n",
      " 30  BsmtCond       1460 non-null   category      \n",
      " 31  BsmtExposure   1460 non-null   category      \n",
      " 32  BsmtFinType1   1460 non-null   category      \n",
      " 33  BsmtFinSF1     1460 non-null   int64         \n",
      " 34  BsmtFinType2   1460 non-null   category      \n",
      " 35  BsmtFinSF2     1460 non-null   int64         \n",
      " 36  BsmtUnfSF      1460 non-null   int64         \n",
      " 37  TotalBsmtSF    1460 non-null   int64         \n",
      " 38  Heating        1460 non-null   category      \n",
      " 39  HeatingQC      1460 non-null   category      \n",
      " 40  CentralAir     1460 non-null   bool          \n",
      " 41  Electrical     1460 non-null   category      \n",
      " 42  1stFlrSF       1460 non-null   int64         \n",
      " 43  2ndFlrSF       1460 non-null   int64         \n",
      " 44  LowQualFinSF   1460 non-null   int64         \n",
      " 45  GrLivArea      1460 non-null   int64         \n",
      " 46  BsmtFullBath   1460 non-null   int64         \n",
      " 47  BsmtHalfBath   1460 non-null   int64         \n",
      " 48  FullBath       1460 non-null   int64         \n",
      " 49  HalfBath       1460 non-null   int64         \n",
      " 50  BedroomAbvGr   1460 non-null   int64         \n",
      " 51  KitchenAbvGr   1460 non-null   int64         \n",
      " 52  KitchenQual    1460 non-null   category      \n",
      " 53  TotRmsAbvGrd   1460 non-null   int64         \n",
      " 54  Functional     1460 non-null   category      \n",
      " 55  Fireplaces     1460 non-null   int64         \n",
      " 56  FireplaceQu    1460 non-null   category      \n",
      " 57  GarageType     1460 non-null   category      \n",
      " 58  GarageYrBlt    1379 non-null   datetime64[ns]\n",
      " 59  GarageFinish   1460 non-null   category      \n",
      " 60  GarageCars     1460 non-null   int64         \n",
      " 61  GarageArea     1460 non-null   int64         \n",
      " 62  GarageQual     1460 non-null   category      \n",
      " 63  GarageCond     1460 non-null   category      \n",
      " 64  PavedDrive     1460 non-null   category      \n",
      " 65  WoodDeckSF     1460 non-null   int64         \n",
      " 66  OpenPorchSF    1460 non-null   int64         \n",
      " 67  EnclosedPorch  1460 non-null   int64         \n",
      " 68  3SsnPorch      1460 non-null   int64         \n",
      " 69  ScreenPorch    1460 non-null   int64         \n",
      " 70  PoolArea       1460 non-null   int64         \n",
      " 71  PoolQC         1460 non-null   category      \n",
      " 72  Fence          1460 non-null   category      \n",
      " 73  MiscFeature    1460 non-null   category      \n",
      " 74  MiscVal        1460 non-null   int64         \n",
      " 75  MoSold         1460 non-null   datetime64[ns]\n",
      " 76  YrSold         1460 non-null   datetime64[ns]\n",
      " 77  SaleType       1460 non-null   category      \n",
      " 78  SaleCondition  1460 non-null   category      \n",
      " 79  SalePrice      1460 non-null   int64         \n",
      "dtypes: bool(1), category(45), datetime64[ns](5), float64(2), int64(27)\n",
      "memory usage: 477.6 KB\n"
     ]
    }
   ],
   "source": [
    "train.info()"
   ]
  },
  {
   "cell_type": "code",
   "execution_count": 37,
   "metadata": {
    "collapsed": true,
    "jupyter": {
     "outputs_hidden": true
    }
   },
   "outputs": [
    {
     "data": {
      "text/plain": [
       "MSSubClass         0\n",
       "MSZoning           0\n",
       "LotFrontage      259\n",
       "LotArea            0\n",
       "Street             0\n",
       "Alley              0\n",
       "LotShape           0\n",
       "LandContour        0\n",
       "Utilities          0\n",
       "LotConfig          0\n",
       "LandSlope          0\n",
       "Neighborhood       0\n",
       "Condition1         0\n",
       "Condition2         0\n",
       "BldgType           0\n",
       "HouseStyle         0\n",
       "OverallQual        0\n",
       "OverallCond        0\n",
       "YearBuilt          0\n",
       "YearRemodAdd       0\n",
       "RoofStyle          0\n",
       "RoofMatl           0\n",
       "Exterior1st        0\n",
       "Exterior2nd        0\n",
       "MasVnrType         0\n",
       "MasVnrArea         8\n",
       "ExterQual          0\n",
       "ExterCond          0\n",
       "Foundation         0\n",
       "BsmtQual           0\n",
       "BsmtCond           0\n",
       "BsmtExposure       0\n",
       "BsmtFinType1       0\n",
       "BsmtFinSF1         0\n",
       "BsmtFinType2       0\n",
       "BsmtFinSF2         0\n",
       "BsmtUnfSF          0\n",
       "TotalBsmtSF        0\n",
       "Heating            0\n",
       "HeatingQC          0\n",
       "CentralAir         0\n",
       "Electrical         0\n",
       "1stFlrSF           0\n",
       "2ndFlrSF           0\n",
       "LowQualFinSF       0\n",
       "GrLivArea          0\n",
       "BsmtFullBath       0\n",
       "BsmtHalfBath       0\n",
       "FullBath           0\n",
       "HalfBath           0\n",
       "BedroomAbvGr       0\n",
       "KitchenAbvGr       0\n",
       "KitchenQual        0\n",
       "TotRmsAbvGrd       0\n",
       "Functional         0\n",
       "Fireplaces         0\n",
       "FireplaceQu        0\n",
       "GarageType         0\n",
       "GarageYrBlt       81\n",
       "GarageFinish       0\n",
       "GarageCars         0\n",
       "GarageArea         0\n",
       "GarageQual         0\n",
       "GarageCond         0\n",
       "PavedDrive         0\n",
       "WoodDeckSF         0\n",
       "OpenPorchSF        0\n",
       "EnclosedPorch      0\n",
       "3SsnPorch          0\n",
       "ScreenPorch        0\n",
       "PoolArea           0\n",
       "PoolQC             0\n",
       "Fence              0\n",
       "MiscFeature        0\n",
       "MiscVal            0\n",
       "MoSold             0\n",
       "YrSold             0\n",
       "SaleType           0\n",
       "SaleCondition      0\n",
       "SalePrice          0\n",
       "dtype: int64"
      ]
     },
     "execution_count": 37,
     "metadata": {},
     "output_type": "execute_result"
    }
   ],
   "source": [
    "pd.set_option(\"display.max_rows\", 100)\n",
    "\n",
    "train.isna().sum()"
   ]
  },
  {
   "cell_type": "code",
   "execution_count": 45,
   "metadata": {},
   "outputs": [
    {
     "data": {
      "text/plain": [
       "<AxesSubplot:>"
      ]
     },
     "execution_count": 45,
     "metadata": {},
     "output_type": "execute_result"
    },
    {
     "data": {
      "image/png": "[encoded data removed]",
      "text/plain": [
       "<Figure size 432x288 with 1 Axes>"
      ]
     },
     "metadata": {
      "needs_background": "light"
     },
     "output_type": "display_data"
    }
   ],
   "source": [
    "train.GarageYrBlt.hist()"
   ]
  },
  {
   "cell_type": "code",
   "execution_count": 54,
   "metadata": {},
   "outputs": [
    {
     "data": {
      "text/plain": [
       "<AxesSubplot:ylabel='Density'>"
      ]
     },
     "execution_count": 54,
     "metadata": {},
     "output_type": "execute_result"
    },
    {
     "data": {
      "image/png": "[encoded data removed]",
      "text/plain": [
       "<Figure size 432x288 with 1 Axes>"
      ]
     },
     "metadata": {
      "needs_background": "light"
     },
     "output_type": "display_data"
    }
   ],
   "source": [
    "train.LotFrontage.plot.kde()"
   ]
  },
  {
   "cell_type": "code",
   "execution_count": 46,
   "metadata": {},
   "outputs": [
    {
     "data": {
      "text/plain": [
       "<AxesSubplot:>"
      ]
     },
     "execution_count": 46,
     "metadata": {},
     "output_type": "execute_result"
    },
    {
     "data": {
      "image/png": "[encoded data removed]",
      "text/plain": [
       "<Figure size 432x288 with 1 Axes>"
      ]
     },
     "metadata": {
      "needs_background": "light"
     },
     "output_type": "display_data"
    }
   ],
   "source": [
    "train.LotFrontage.plot.box()"
   ]
  },
  {
   "cell_type": "code",
   "execution_count": 42,
   "metadata": {},
   "outputs": [],
   "source": [
    "import sklearn\n",
    "import sklearn.impute"
   ]
  },
  {
   "cell_type": "code",
   "execution_count": 49,
   "metadata": {},
   "outputs": [
    {
     "data": {
      "text/plain": [
       "SimpleImputer(strategy='median')"
      ]
     },
     "execution_count": 49,
     "metadata": {},
     "output_type": "execute_result"
    }
   ],
   "source": [
    "# strategy: mean, median, most_frequent, constant\n",
    "imp_median = sklearn.impute.SimpleImputer(missing_values=np.nan, strategy=\"median\")\n",
    "imp_median"
   ]
  },
  {
   "cell_type": "code",
   "execution_count": 51,
   "metadata": {},
   "outputs": [
    {
     "data": {
      "text/html": [
       "<div>\n",
       "<style scoped>\n",
       "    .dataframe tbody tr th:only-of-type {\n",
       "        vertical-align: middle;\n",
       "    }\n",
       "\n",
       "    .dataframe tbody tr th {\n",
       "        vertical-align: top;\n",
       "    }\n",
       "\n",
       "    .dataframe thead th {\n",
       "        text-align: right;\n",
       "    }\n",
       "</style>\n",
       "<table border=\"1\" class=\"dataframe\">\n",
       "  <thead>\n",
       "    <tr style=\"text-align: right;\">\n",
       "      <th></th>\n",
       "      <th>LotFrontage</th>\n",
       "    </tr>\n",
       "  </thead>\n",
       "  <tbody>\n",
       "    <tr>\n",
       "      <th>0</th>\n",
       "      <td>65.0</td>\n",
       "    </tr>\n",
       "    <tr>\n",
       "      <th>1</th>\n",
       "      <td>80.0</td>\n",
       "    </tr>\n",
       "    <tr>\n",
       "      <th>2</th>\n",
       "      <td>68.0</td>\n",
       "    </tr>\n",
       "    <tr>\n",
       "      <th>3</th>\n",
       "      <td>60.0</td>\n",
       "    </tr>\n",
       "    <tr>\n",
       "      <th>4</th>\n",
       "      <td>84.0</td>\n",
       "    </tr>\n",
       "    <tr>\n",
       "      <th>...</th>\n",
       "      <td>...</td>\n",
       "    </tr>\n",
       "    <tr>\n",
       "      <th>1455</th>\n",
       "      <td>62.0</td>\n",
       "    </tr>\n",
       "    <tr>\n",
       "      <th>1456</th>\n",
       "      <td>85.0</td>\n",
       "    </tr>\n",
       "    <tr>\n",
       "      <th>1457</th>\n",
       "      <td>66.0</td>\n",
       "    </tr>\n",
       "    <tr>\n",
       "      <th>1458</th>\n",
       "      <td>68.0</td>\n",
       "    </tr>\n",
       "    <tr>\n",
       "      <th>1459</th>\n",
       "      <td>75.0</td>\n",
       "    </tr>\n",
       "  </tbody>\n",
       "</table>\n",
       "<p>1460 rows × 1 columns</p>\n",
       "</div>"
      ],
      "text/plain": [
       "      LotFrontage\n",
       "0            65.0\n",
       "1            80.0\n",
       "2            68.0\n",
       "3            60.0\n",
       "4            84.0\n",
       "...           ...\n",
       "1455         62.0\n",
       "1456         85.0\n",
       "1457         66.0\n",
       "1458         68.0\n",
       "1459         75.0\n",
       "\n",
       "[1460 rows x 1 columns]"
      ]
     },
     "execution_count": 51,
     "metadata": {},
     "output_type": "execute_result"
    }
   ],
   "source": [
    "LotFrontage_imp = pd.DataFrame(\n",
    "    imp_median.fit_transform(train[[\"LotFrontage\"]]), columns=[train.LotFrontage.name]\n",
    ")\n",
    "LotFrontage_imp"
   ]
  },
  {
   "cell_type": "code",
   "execution_count": 55,
   "metadata": {},
   "outputs": [
    {
     "data": {
      "text/plain": [
       "<AxesSubplot:ylabel='Density'>"
      ]
     },
     "execution_count": 55,
     "metadata": {},
     "output_type": "execute_result"
    },
    {
     "data": {
      "image/png": "[encoded data removed]",
      "text/plain": [
       "<Figure size 432x288 with 1 Axes>"
      ]
     },
     "metadata": {
      "needs_background": "light"
     },
     "output_type": "display_data"
    }
   ],
   "source": [
    "LotFrontage_imp.plot.kde()"
   ]
  },
  {
   "cell_type": "code",
   "execution_count": 56,
   "metadata": {},
   "outputs": [],
   "source": [
    "train.LotFrontage = LotFrontage_imp"
   ]
  },
  {
   "cell_type": "code",
   "execution_count": 57,
   "metadata": {},
   "outputs": [
    {
     "data": {
      "text/plain": [
       "SimpleImputer(strategy='most_frequent')"
      ]
     },
     "execution_count": 57,
     "metadata": {},
     "output_type": "execute_result"
    }
   ],
   "source": [
    "# strategy: mean, median, most_frequent, constant\n",
    "imp_frequent = sklearn.impute.SimpleImputer(\n",
    "    missing_values=np.nan, strategy=\"most_frequent\"\n",
    ")\n",
    "imp_frequent"
   ]
  },
  {
   "cell_type": "code",
   "execution_count": 58,
   "metadata": {},
   "outputs": [
    {
     "data": {
      "text/html": [
       "<div>\n",
       "<style scoped>\n",
       "    .dataframe tbody tr th:only-of-type {\n",
       "        vertical-align: middle;\n",
       "    }\n",
       "\n",
       "    .dataframe tbody tr th {\n",
       "        vertical-align: top;\n",
       "    }\n",
       "\n",
       "    .dataframe thead th {\n",
       "        text-align: right;\n",
       "    }\n",
       "</style>\n",
       "<table border=\"1\" class=\"dataframe\">\n",
       "  <thead>\n",
       "    <tr style=\"text-align: right;\">\n",
       "      <th></th>\n",
       "      <th>GarageYrBlt</th>\n",
       "    </tr>\n",
       "  </thead>\n",
       "  <tbody>\n",
       "    <tr>\n",
       "      <th>0</th>\n",
       "      <td>1.041379e+18</td>\n",
       "    </tr>\n",
       "    <tr>\n",
       "      <th>1</th>\n",
       "      <td>1.893024e+17</td>\n",
       "    </tr>\n",
       "    <tr>\n",
       "      <th>2</th>\n",
       "      <td>9.783072e+17</td>\n",
       "    </tr>\n",
       "    <tr>\n",
       "      <th>3</th>\n",
       "      <td>8.836128e+17</td>\n",
       "    </tr>\n",
       "    <tr>\n",
       "      <th>4</th>\n",
       "      <td>9.466848e+17</td>\n",
       "    </tr>\n",
       "    <tr>\n",
       "      <th>...</th>\n",
       "      <td>...</td>\n",
       "    </tr>\n",
       "    <tr>\n",
       "      <th>1455</th>\n",
       "      <td>9.151488e+17</td>\n",
       "    </tr>\n",
       "    <tr>\n",
       "      <th>1456</th>\n",
       "      <td>2.524608e+17</td>\n",
       "    </tr>\n",
       "    <tr>\n",
       "      <th>1457</th>\n",
       "      <td>-9.151488e+17</td>\n",
       "    </tr>\n",
       "    <tr>\n",
       "      <th>1458</th>\n",
       "      <td>-6.311520e+17</td>\n",
       "    </tr>\n",
       "    <tr>\n",
       "      <th>1459</th>\n",
       "      <td>-1.577664e+17</td>\n",
       "    </tr>\n",
       "  </tbody>\n",
       "</table>\n",
       "<p>1460 rows × 1 columns</p>\n",
       "</div>"
      ],
      "text/plain": [
       "       GarageYrBlt\n",
       "0     1.041379e+18\n",
       "1     1.893024e+17\n",
       "2     9.783072e+17\n",
       "3     8.836128e+17\n",
       "4     9.466848e+17\n",
       "...            ...\n",
       "1455  9.151488e+17\n",
       "1456  2.524608e+17\n",
       "1457 -9.151488e+17\n",
       "1458 -6.311520e+17\n",
       "1459 -1.577664e+17\n",
       "\n",
       "[1460 rows x 1 columns]"
      ]
     },
     "execution_count": 58,
     "metadata": {},
     "output_type": "execute_result"
    }
   ],
   "source": [
    "GarageYrBlt_imp = pd.DataFrame(\n",
    "    imp_median.fit_transform(train[[\"GarageYrBlt\"]]), columns=[train.GarageYrBlt.name]\n",
    ")\n",
    "GarageYrBlt_imp"
   ]
  },
  {
   "cell_type": "code",
   "execution_count": 59,
   "metadata": {},
   "outputs": [],
   "source": [
    "train.GarageYrBlt = GarageYrBlt_imp"
   ]
  },
  {
   "cell_type": "code",
   "execution_count": null,
   "metadata": {},
   "outputs": [],
   "source": []
  },
  {
   "cell_type": "code",
   "execution_count": 60,
   "metadata": {},
   "outputs": [
    {
     "data": {
      "text/plain": [
       "<AxesSubplot:>"
      ]
     },
     "execution_count": 60,
     "metadata": {},
     "output_type": "execute_result"
    },
    {
     "data": {
      "image/png": "[encoded data removed]",
      "text/plain": [
       "<Figure size 432x288 with 1 Axes>"
      ]
     },
     "metadata": {
      "needs_background": "light"
     },
     "output_type": "display_data"
    }
   ],
   "source": [
    "train.GarageYrBlt.hist()"
   ]
  },
  {
   "cell_type": "code",
   "execution_count": null,
   "metadata": {},
   "outputs": [],
   "source": []
  }
 ],
 "metadata": {
  "kernelspec": {
   "display_name": "Python [conda env:LevelUp_DataScience] *",
   "language": "python",
   "name": "conda-env-LevelUp_DataScience-py"
  },
  "language_info": {
   "codemirror_mode": {
    "name": "ipython",
    "version": 3
   },
   "file_extension": ".py",
   "mimetype": "text/x-python",
   "name": "python",
   "nbconvert_exporter": "python",
   "pygments_lexer": "ipython3",
   "version": "3.8.5"
  }
 },
 "nbformat": 4,
 "nbformat_minor": 4
}
