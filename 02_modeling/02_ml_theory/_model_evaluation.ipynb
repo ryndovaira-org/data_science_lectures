{
 "cells": [
  {
   "cell_type": "markdown",
   "id": "3f24f3a0-7cbd-460f-bb82-9b34342506e4",
   "metadata": {},
   "source": [
    "# "
   ]
  },
  {
   "cell_type": "code",
   "execution_count": null,
   "id": "db3b2306-e2fe-4393-aa24-edf0fbd7a0b9",
   "metadata": {},
   "outputs": [],
   "source": []
  },
  {
   "cell_type": "markdown",
   "id": "58f21412-044e-461f-8755-3ca754de7a35",
   "metadata": {},
   "source": [
    "# Относительное и абсолютное изменение качества модели"
   ]
  },
  {
   "cell_type": "markdown",
   "id": "88261d8d-0e9e-4f1d-9003-cfb559e0cb83",
   "metadata": {},
   "source": [
    "## Относительное изменение"
   ]
  },
  {
   "cell_type": "markdown",
   "id": "43acb258-667e-41dd-9995-d602e11109a0",
   "metadata": {
    "pycharm": {
     "name": "#%% md\n"
    }
   },
   "source": [
    "Если смогли улучшить AUC **с 0.8 до 0.9**, то это соответствуют относительному улучшению в **12.5%**.\n",
    "\n",
    "$\\large relative\\space change (x_{after}, x_{before}) = \\cfrac{x_{after} - x_{before}}{x_{before}} \\times 100 = \\cfrac{0.9 - 0.8}{0.8} \\times 100 = 12.5\\%$\n",
    "\n",
    "В то же время соответствующие индексы Джини были улучшены **с 0.6 до 0.8**, то есть на **33.3%** - относительное улучшение повысилось почти в 3 раза!\n",
    "\n",
    "$\\large relative\\space change (x_{after}, x_{before}) = \\cfrac{0.8 - 0.6}{0.6} \\times 100 = 33.3\\%$"
   ]
  },
  {
   "cell_type": "markdown",
   "id": "310bc6ae-0502-44da-ae38-dce36f12f1ba",
   "metadata": {},
   "source": [
    "## Абсолютное изменение"
   ]
  },
  {
   "cell_type": "markdown",
   "id": "13e9cfa2-7853-4a13-8028-a7d851724d87",
   "metadata": {},
   "source": [
    "Если смогли улучшить AUC с **0.8 до 0.9**, то это соответствуют абсолютному улучшению в **10.0%**.\n",
    "\n",
    "$\\large abs\\space change (x_{after}, x_{before}) = |x_{after} - x_{before}| \\times 100 = |0.9 - 0.8| \\times 100 = 10.0\\%$\n",
    "\n",
    "В то же время соответствующие индексы Джини были улучшены **с 0.6 до 0.8**, то есть на **20.0%** - абсолютное улучшение повысилось ровно в 2 раза!\n",
    "\n",
    "$\\large abs\\space change (x_{after}, x_{before}) = |0.8 - 0.6| \\times 100 = 20.0\\%$"
   ]
  },
  {
   "cell_type": "markdown",
   "id": "273025a6-be26-41e7-b92d-f91b2837e85a",
   "metadata": {},
   "source": [
    "# References\n",
    "\n",
    "[Relative change and difference](https://en.wikipedia.org/wiki/Relative_change_and_difference)\n",
    "\n",
    "[Absolute difference](https://en.wikipedia.org/wiki/Absolute_difference)\n",
    "\n",
    "[]()\n",
    "\n",
    "[]()\n",
    "\n",
    "[]()\n",
    "\n",
    "[]()\n",
    "\n",
    "[]()\n",
    "\n",
    "[]()"
   ]
  }
 ],
 "metadata": {
  "kernelspec": {
   "display_name": "Python [conda env:data-science-course] *",
   "language": "python",
   "name": "conda-env-data-science-course-py"
  },
  "language_info": {
   "codemirror_mode": {
    "name": "ipython",
    "version": 3
   },
   "file_extension": ".py",
   "mimetype": "text/x-python",
   "name": "python",
   "nbconvert_exporter": "python",
   "pygments_lexer": "ipython3",
   "version": "3.10.9"
  }
 },
 "nbformat": 4,
 "nbformat_minor": 5
}
