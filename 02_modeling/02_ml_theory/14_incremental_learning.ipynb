{
 "cells": [
  {
   "cell_type": "markdown",
   "metadata": {
    "pycharm": {
     "name": "#%% md\n"
    }
   },
   "source": [
    "# Пошаговое обучение (Incremental learning)"
   ]
  },
  {
   "cell_type": "markdown",
   "metadata": {},
   "source": [
    "# References\n",
    "\n",
    "",
    "\n",
    "[Incremental learning](https://en.wikipedia.org/wiki/Incremental_learning)\n",
    "\n",
    "[Incremental Online Learning](https://medium.com/analytics-vidhya/incremental-online-learning-9868861db880)\n",
    "\n",
    "[An Introduction to Online Machine Learning](https://medium.com/analytics-vidhya/https-medium-com-dannybutvinik-online-machine-learning-842b1e999880)\n",
    "\n",
    "[Evolving Classifiers: Methods for Incremental Learning](https://arxiv.org/pdf/0709.3965.pdf)\n",
    "\n",
    "[How to reach continue training in xgboost](https://datascience.stackexchange.com/questions/47510/how-to-reach-continue-training-in-xgboost)\n",
    "\n",
    "[How can I implement incremental training for xgboost?](https://stackoverflow.com/questions/38079853/how-can-i-implement-incremental-training-for-xgboost)\n",
    "\n",
    "[ЗАЧЕМ ВАМ ДООБУЧЕНИЕ: как повысить точность ML-модели](https://medium.com/@bigdataschool/%D0%B7%D0%B0%D1%87%D0%B5%D0%BC-%D0%B2%D0%B0%D0%BC-%D0%B4%D0%BE%D0%BE%D0%B1%D1%83%D1%87%D0%B5%D0%BD%D0%B8%D0%B5-%D0%BA%D0%B0%D0%BA-%D0%BF%D0%BE%D0%B2%D1%8B%D1%81%D0%B8%D1%82%D1%8C-%D1%82%D0%BE%D1%87%D0%BD%D0%BE%D1%81%D1%82%D1%8C-ml-%D0%BC%D0%BE%D0%B4%D0%B5%D0%BB%D0%B8-f50f1d55e619)\n",
    "\n",
    "[Incremental and Parallel Machine Learning Algorithms With Automated Learning Rate Adjustments](https://www.frontiersin.org/articles/10.3389/frobt.2019.00077/full)\n",
    "\n",
    "[What is Online Machine Learning?](https://medium.com/value-stream-design/online-machine-learning-515556ff72c5)\n",
    "\n",
    "[Online machine learning](https://en.wikipedia.org/wiki/Online_machine_learning)\n",
    "\n",
    "[Онлайновое машинное обучение](https://ru.wikipedia.org/wiki/%D0%9E%D0%BD%D0%BB%D0%B0%D0%B9%D0%BD%D0%BE%D0%B2%D0%BE%D0%B5_%D0%BC%D0%B0%D1%88%D0%B8%D0%BD%D0%BD%D0%BE%D0%B5_%D0%BE%D0%B1%D1%83%D1%87%D0%B5%D0%BD%D0%B8%D0%B5)\n",
    "\n",
    "[Online Methods in Machine Learning](http://www.mit.edu/~rakhlin/6.883/)\n",
    "\n",
    "[Is there a difference between on-line learning, incremental learning and sequential learning?](https://datascience.stackexchange.com/questions/6186/is-there-a-difference-between-on-line-learning-incremental-learning-and-sequent)\n",
    "\n",
    "[A Simple Introduction to Online Machine Learning](https://www.iunera.com/kraken/fabric/simple-introduction-to-online-learning-in-machine-learning/)\n",
    "\n",
    "[What is the relationship between Online Machine Learning and Incremental Machine Learning?](https://www.quora.com/What-is-the-relationship-between-Online-Machine-Learning-and-Incremental-Machine-Learning)\n",
    "\n",
    "[Online Learning: A Comprehensive Survey](https://arxiv.org/pdf/1802.02871.pdf)\n",
    "\n",
    "[Online and Incremental Learning](http://www.ra.cs.uni-tuebingen.de/lehre/ss12/advanced_ml/lecture8.pdf)\n",
    "\n",
    "[]()\n",
    "\n",
    "[]()\n",
    "\n",
    "# References"
   ]
  },
  {
   "cell_type": "markdown",
   "metadata": {},
   "source": [
    "## Описание"
   ]
  }
 ],
 "metadata": {
  "kernelspec": {
   "display_name": "Python [conda env:LevelUp_DataScience] *",
   "language": "python",
   "name": "conda-env-LevelUp_DataScience-py"
  },
  "language_info": {
   "codemirror_mode": {
    "name": "ipython",
    "version": 3
   },
   "file_extension": ".py",
   "mimetype": "text/x-python",
   "name": "python",
   "nbconvert_exporter": "python",
   "pygments_lexer": "ipython3",
   "version": "3.8.3"
  }
 },
 "nbformat": 4,
 "nbformat_minor": 4
}
