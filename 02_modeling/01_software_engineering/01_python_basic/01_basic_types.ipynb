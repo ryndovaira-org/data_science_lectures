{
 "cells": [
  {
   "cell_type": "code",
   "execution_count": 1,
   "id": "7e93530a-214c-4547-bf10-9bcfa6c24760",
   "metadata": {},
   "outputs": [],
   "source": [
    "import os\n",
    "import sys\n",
    "\n",
    "sys.path.append(os.path.abspath(\"../../../\"))\n",
    "from utils.print_information import *"
   ]
  },
  {
   "cell_type": "markdown",
   "id": "349608fa-8887-49f0-8f65-6a6aa84e5b50",
   "metadata": {
    "tags": []
   },
   "source": [
    "# Numbers"
   ]
  },
  {
   "cell_type": "markdown",
   "id": "19cff07d-4780-4449-aede-34f225b9bcc4",
   "metadata": {
    "tags": []
   },
   "source": [
    "## `int`\n",
    "\n",
    "Python has **arbitrary-length integers** and **automatically increases their storage size as necessary**."
   ]
  },
  {
   "cell_type": "code",
   "execution_count": 2,
   "id": "16dacb5f-7fae-4429-b229-6b1bc967e1f1",
   "metadata": {},
   "outputs": [
    {
     "name": "stdout",
     "output_type": "stream",
     "text": [
      "value = -1    type = <class 'int'>\n"
     ]
    }
   ],
   "source": [
    "print_var_type(-1)"
   ]
  },
  {
   "cell_type": "code",
   "execution_count": 3,
   "id": "f240f60e-4b26-459b-b930-a3ded34767d0",
   "metadata": {},
   "outputs": [
    {
     "name": "stdout",
     "output_type": "stream",
     "text": [
      "value = 999    type = <class 'int'>\n"
     ]
    }
   ],
   "source": [
    "print_var_type(999)"
   ]
  },
  {
   "cell_type": "code",
   "execution_count": 4,
   "id": "01b81ec8-307d-46e3-8107-2a0bad59ddcb",
   "metadata": {},
   "outputs": [
    {
     "name": "stdout",
     "output_type": "stream",
     "text": [
      "value = 4    type = <class 'int'>\n"
     ]
    }
   ],
   "source": [
    "print_var_type(2**2)"
   ]
  },
  {
   "cell_type": "markdown",
   "id": "dd71a0e5-d187-4159-9c15-05b9f760beb8",
   "metadata": {},
   "source": [
    "### Type conversion"
   ]
  },
  {
   "cell_type": "code",
   "execution_count": 5,
   "id": "a2654f0e-30bc-4340-ae0f-634db752742c",
   "metadata": {},
   "outputs": [
    {
     "name": "stdout",
     "output_type": "stream",
     "text": [
      "value = 4    type = <class 'int'>\n"
     ]
    }
   ],
   "source": [
    "print_var_type(int(4.67))"
   ]
  },
  {
   "cell_type": "markdown",
   "id": "ea7cf0ba-95ac-4d2f-b11b-9ad58f4083a8",
   "metadata": {},
   "source": [
    "### `round`"
   ]
  },
  {
   "cell_type": "code",
   "execution_count": 6,
   "id": "f029b031-3e81-4fa4-935d-54956f1a2103",
   "metadata": {},
   "outputs": [
    {
     "name": "stdout",
     "output_type": "stream",
     "text": [
      "value = 5    type = <class 'int'>\n"
     ]
    }
   ],
   "source": [
    "print_var_type(round(4.566))"
   ]
  },
  {
   "cell_type": "code",
   "execution_count": 7,
   "id": "fff737e7-b79a-456c-84c5-16e55e286218",
   "metadata": {},
   "outputs": [
    {
     "name": "stdout",
     "output_type": "stream",
     "text": [
      "value = 460    type = <class 'int'>\n"
     ]
    }
   ],
   "source": [
    "print_var_type(round(456, -1))"
   ]
  },
  {
   "cell_type": "markdown",
   "id": "864353de-9e4f-4aea-8382-38513d73b404",
   "metadata": {},
   "source": [
    "### Bitwise operations\n",
    "\n",
    "Bitwise operations **only make sense for integers**. \n",
    "\n",
    "The result of bitwise operations is calculated as though carried out in two’s complement with an infinite number of sign bits.\n",
    "\n",
    "The priorities of the binary bitwise operations are all lower than the numeric operations and higher than the comparisons; the unary operation ~ has the same priority as the other unary numeric operations (+ and -)."
   ]
  },
  {
   "cell_type": "code",
   "execution_count": 8,
   "id": "94123c67-98b5-4e9f-9d79-9186a65efb45",
   "metadata": {},
   "outputs": [
    {
     "name": "stdout",
     "output_type": "stream",
     "text": [
      "int = 4    bin = 0b100\n",
      "int = 2    bin = 0b10\n"
     ]
    }
   ],
   "source": [
    "x, y = 4, 2\n",
    "print_int_bin(x)\n",
    "print_int_bin(y)"
   ]
  },
  {
   "cell_type": "markdown",
   "id": "49552aa0-08a8-4ff0-aa17-55aff02676b9",
   "metadata": {},
   "source": [
    "The bitwise operations sorted in **ascending priority**:"
   ]
  },
  {
   "cell_type": "code",
   "execution_count": 9,
   "id": "4ff1ea06-bbbb-40c9-a047-633e3d7c90d7",
   "metadata": {},
   "outputs": [
    {
     "name": "stdout",
     "output_type": "stream",
     "text": [
      "int = 6    bin = 0b110\n"
     ]
    }
   ],
   "source": [
    "# bitwise or of x and y\n",
    "print_int_bin(x | y)"
   ]
  },
  {
   "cell_type": "code",
   "execution_count": 10,
   "id": "88e108b5-1183-4370-9704-3d079fa6ae51",
   "metadata": {},
   "outputs": [
    {
     "name": "stdout",
     "output_type": "stream",
     "text": [
      "int = 6    bin = 0b110\n"
     ]
    }
   ],
   "source": [
    "# bitwise exclusive or of x and y\n",
    "print_int_bin(x ^ y)"
   ]
  },
  {
   "cell_type": "code",
   "execution_count": 11,
   "id": "b6826fb5-36d0-4006-b168-699d3770103a",
   "metadata": {},
   "outputs": [
    {
     "name": "stdout",
     "output_type": "stream",
     "text": [
      "int = 0    bin = 0b0\n"
     ]
    }
   ],
   "source": [
    "# bitwise and of x and y\n",
    "\n",
    "print_int_bin(x & y)"
   ]
  },
  {
   "cell_type": "code",
   "execution_count": 12,
   "id": "c4827d6c-1225-483b-85a7-2cea981012fd",
   "metadata": {},
   "outputs": [
    {
     "name": "stdout",
     "output_type": "stream",
     "text": [
      "int = 16    bin = 0b10000\n"
     ]
    }
   ],
   "source": [
    "# x shifted left by n bits\n",
    "\n",
    "print_int_bin(x << y)"
   ]
  },
  {
   "cell_type": "code",
   "execution_count": 13,
   "id": "0695e3b1-690d-40d1-8979-999fd26b3e81",
   "metadata": {},
   "outputs": [
    {
     "name": "stdout",
     "output_type": "stream",
     "text": [
      "int = 1    bin = 0b1\n"
     ]
    }
   ],
   "source": [
    "# x shifted right by n bits\n",
    "\n",
    "print_int_bin(x >> y)"
   ]
  },
  {
   "cell_type": "code",
   "execution_count": 14,
   "id": "a996370c-dc54-44ce-b19c-c0ecf99c1544",
   "metadata": {},
   "outputs": [
    {
     "name": "stdout",
     "output_type": "stream",
     "text": [
      "int = -5    bin = -0b101\n"
     ]
    }
   ],
   "source": [
    "# the bits of x inverted\n",
    "\n",
    "print_int_bin(~x)"
   ]
  },
  {
   "cell_type": "markdown",
   "id": "0d8a895c-f430-4edc-96c4-2705cd35e72a",
   "metadata": {},
   "source": [
    "## `float`\n",
    "\n",
    "Python supports normal floating point numbers, which are created \n",
    "- when a dot is used in a literal, \n",
    "- when an integer and a floating point number are used in an expression, \n",
    "- as a result of some mathematical operations (\"true division\" via the `/` operator, or exponentiation with a negative exponent)."
   ]
  },
  {
   "cell_type": "code",
   "execution_count": 15,
   "id": "c87c3728-2c0e-4078-942e-9c60cfbbb4f7",
   "metadata": {},
   "outputs": [
    {
     "name": "stdout",
     "output_type": "stream",
     "text": [
      "value = 123.456    type = <class 'float'>\n"
     ]
    }
   ],
   "source": [
    "print_var_type(123.456)"
   ]
  },
  {
   "cell_type": "code",
   "execution_count": 16,
   "id": "d94d9e41-39e4-475a-b8f4-19f5a1750836",
   "metadata": {},
   "outputs": [
    {
     "name": "stdout",
     "output_type": "stream",
     "text": [
      "value = 6.1    type = <class 'float'>\n"
     ]
    }
   ],
   "source": [
    "print_var_type(5 + 1.1)"
   ]
  },
  {
   "cell_type": "code",
   "execution_count": 17,
   "id": "8c890c91-e04e-4fd5-9b31-65ec41cbe029",
   "metadata": {},
   "outputs": [
    {
     "name": "stdout",
     "output_type": "stream",
     "text": [
      "value = 3.0    type = <class 'float'>\n"
     ]
    }
   ],
   "source": [
    "print_var_type(6 / 2)"
   ]
  },
  {
   "cell_type": "code",
   "execution_count": 18,
   "id": "d2159373-63a0-47ba-a4e4-5c2cf69b26fd",
   "metadata": {},
   "outputs": [
    {
     "name": "stdout",
     "output_type": "stream",
     "text": [
      "value = 0.25    type = <class 'float'>\n"
     ]
    }
   ],
   "source": [
    "print_var_type(2**-2)"
   ]
  },
  {
   "cell_type": "code",
   "execution_count": 19,
   "id": "dece62c8-5618-4ea4-a1e1-a0d52be328d4",
   "metadata": {},
   "outputs": [
    {
     "name": "stdout",
     "output_type": "stream",
     "text": [
      "value = 20000.0    type = <class 'float'>\n"
     ]
    }
   ],
   "source": [
    "print_var_type(2e4)"
   ]
  },
  {
   "cell_type": "markdown",
   "id": "889c0daf-74d8-48e7-8bbc-9f93aedbebaf",
   "metadata": {},
   "source": [
    "### Type conversion"
   ]
  },
  {
   "cell_type": "code",
   "execution_count": 20,
   "id": "4c25519c-2fe4-4a7b-83c4-f3334d153ff6",
   "metadata": {},
   "outputs": [
    {
     "name": "stdout",
     "output_type": "stream",
     "text": [
      "value = 4.0    type = <class 'float'>\n"
     ]
    }
   ],
   "source": [
    "print_var_type(float(4))"
   ]
  },
  {
   "cell_type": "code",
   "execution_count": 21,
   "id": "e57fb1e2-c65c-4ae7-a51f-c6673bd892cc",
   "metadata": {},
   "outputs": [
    {
     "name": "stdout",
     "output_type": "stream",
     "text": [
      "value = nan    type = <class 'float'>\n"
     ]
    }
   ],
   "source": [
    "print_var_type(float(\"nan\"))"
   ]
  },
  {
   "cell_type": "code",
   "execution_count": 22,
   "id": "db4a3f4c-088e-4e2a-b0b1-5b7f211efcde",
   "metadata": {},
   "outputs": [
    {
     "name": "stdout",
     "output_type": "stream",
     "text": [
      "value = -inf    type = <class 'float'>\n"
     ]
    }
   ],
   "source": [
    "print_var_type(float(\"-inf\"))"
   ]
  },
  {
   "cell_type": "markdown",
   "id": "ff3feb21-59a7-4adc-9cc2-c8722c05af6a",
   "metadata": {},
   "source": [
    "### `round`"
   ]
  },
  {
   "cell_type": "code",
   "execution_count": 23,
   "id": "2530b379-6152-49a4-b0c7-98aba3cba70c",
   "metadata": {},
   "outputs": [
    {
     "name": "stdout",
     "output_type": "stream",
     "text": [
      "value = 50.0    type = <class 'float'>\n"
     ]
    }
   ],
   "source": [
    "print_var_type(round(45.6, -1))"
   ]
  },
  {
   "cell_type": "markdown",
   "id": "08b18367-fa46-4f86-897d-8d3b495c07c1",
   "metadata": {},
   "source": [
    "## `complex`\n",
    "\n",
    "Complex numbers are indicated with the J or j suffix."
   ]
  },
  {
   "cell_type": "code",
   "execution_count": 24,
   "id": "e7e1c835-78e7-428d-b973-759ee3bab45e",
   "metadata": {},
   "outputs": [
    {
     "name": "stdout",
     "output_type": "stream",
     "text": [
      "value = (2+4j)    type = <class 'complex'>\n"
     ]
    }
   ],
   "source": [
    "print_var_type(2 + 4j)"
   ]
  },
  {
   "cell_type": "markdown",
   "id": "18d98d9b-6557-4c66-864a-de493c97a0bf",
   "metadata": {},
   "source": [
    "### Type conversion"
   ]
  },
  {
   "cell_type": "code",
   "execution_count": 25,
   "id": "148645a0-a3e1-47f2-a18a-dbfe04c26152",
   "metadata": {},
   "outputs": [
    {
     "name": "stdout",
     "output_type": "stream",
     "text": [
      "value = (5+0j)    type = <class 'complex'>\n"
     ]
    }
   ],
   "source": [
    "print_var_type(complex(5))"
   ]
  },
  {
   "cell_type": "markdown",
   "id": "170b7888-9b99-4e01-9286-610112046ddc",
   "metadata": {},
   "source": [
    "## `decimal`\n",
    "\n",
    "TODO"
   ]
  },
  {
   "cell_type": "markdown",
   "id": "205ed5ff-8a36-4e87-ae9d-a3ccb8bb80a2",
   "metadata": {},
   "source": [
    "## `fractions`\n",
    "\n",
    "TODO"
   ]
  },
  {
   "cell_type": "markdown",
   "id": "1e191618-73f0-4298-a23c-6e67f94658d5",
   "metadata": {},
   "source": [
    "# Boolean\n",
    "\n",
    "TODO"
   ]
  },
  {
   "cell_type": "code",
   "execution_count": 26,
   "id": "702386be-7207-4359-af84-f1c7cd628127",
   "metadata": {},
   "outputs": [
    {
     "name": "stdout",
     "output_type": "stream",
     "text": [
      "value = True    type = <class 'bool'>\n"
     ]
    }
   ],
   "source": [
    "print_var_type(True)"
   ]
  },
  {
   "cell_type": "markdown",
   "id": "e6282bca-7528-40b7-81d7-eec1d92dc5dc",
   "metadata": {},
   "source": [
    "# Collections"
   ]
  },
  {
   "cell_type": "markdown",
   "id": "31842e35-d44b-4f4a-963d-b4c14b1b44bf",
   "metadata": {},
   "source": [
    "## Mutable\n",
    "\n",
    "TODO"
   ]
  },
  {
   "cell_type": "markdown",
   "id": "6b8b7c64-1cad-4659-a6f4-61456ede6d05",
   "metadata": {},
   "source": [
    "### `list`\n",
    "\n",
    "TODO"
   ]
  },
  {
   "cell_type": "code",
   "execution_count": 27,
   "id": "e617975b-f2ef-44e4-8a41-9137737b3448",
   "metadata": {},
   "outputs": [
    {
     "name": "stdout",
     "output_type": "stream",
     "text": [
      "value = [1, 3, 5]    type = <class 'list'>\n"
     ]
    }
   ],
   "source": [
    "print_var_type([1, 3, 5])"
   ]
  },
  {
   "cell_type": "markdown",
   "id": "51488710-33ea-4442-8f17-1e589a869d29",
   "metadata": {},
   "source": [
    "### `set`\n",
    "\n",
    "TODO"
   ]
  },
  {
   "cell_type": "code",
   "execution_count": 28,
   "id": "44ab7e46-004c-4875-8cb6-b228ef6d7036",
   "metadata": {},
   "outputs": [
    {
     "name": "stdout",
     "output_type": "stream",
     "text": [
      "value = {1, 3, 5}    type = <class 'set'>\n"
     ]
    }
   ],
   "source": [
    "print_var_type({1, 3, 5})"
   ]
  },
  {
   "cell_type": "markdown",
   "id": "cb859d80-ee24-42d9-97c1-9c869bc161ff",
   "metadata": {},
   "source": [
    "### `dict`"
   ]
  },
  {
   "cell_type": "code",
   "execution_count": 29,
   "id": "a1bb8be3-038c-4ea0-8f24-016b6e70102c",
   "metadata": {},
   "outputs": [
    {
     "name": "stdout",
     "output_type": "stream",
     "text": [
      "value = {1: 1, 2: 3, 'h': 5}    type = <class 'dict'>\n"
     ]
    }
   ],
   "source": [
    "print_var_type({1: 1, 2: 3, \"h\": 5})"
   ]
  },
  {
   "cell_type": "markdown",
   "id": "7498062a-24f0-4574-b1fd-1b462431dfe6",
   "metadata": {},
   "source": [
    "## Immutable\n",
    "\n",
    "TODO"
   ]
  },
  {
   "cell_type": "markdown",
   "id": "12ea3f66-5466-45c8-b602-ad874d00a51f",
   "metadata": {},
   "source": [
    "### `tuple`"
   ]
  },
  {
   "cell_type": "code",
   "execution_count": 30,
   "id": "72a30b91-38fd-4753-b641-f401ab8aa3a8",
   "metadata": {},
   "outputs": [
    {
     "name": "stdout",
     "output_type": "stream",
     "text": [
      "value = (1, 3, 5)    type = <class 'tuple'>\n"
     ]
    }
   ],
   "source": [
    "print_var_type((1, 3, 5))"
   ]
  },
  {
   "cell_type": "markdown",
   "id": "8150b073-1e49-4660-8cd9-ec61d2263e4f",
   "metadata": {},
   "source": [
    "### `range`"
   ]
  },
  {
   "cell_type": "code",
   "execution_count": 31,
   "id": "e6521268-9959-4704-98f3-1512f3adc0a3",
   "metadata": {},
   "outputs": [
    {
     "name": "stdout",
     "output_type": "stream",
     "text": [
      "value = range(0, 9)    type = <class 'range'>\n"
     ]
    }
   ],
   "source": [
    "print_var_type(range(9))"
   ]
  },
  {
   "cell_type": "markdown",
   "id": "6019f5a2-7c1b-436d-86ad-8d9526777b23",
   "metadata": {},
   "source": [
    "## `frozenset`"
   ]
  },
  {
   "cell_type": "code",
   "execution_count": 32,
   "id": "2d15be5b-5f9f-439d-a03b-e299a1d20123",
   "metadata": {},
   "outputs": [
    {
     "name": "stdout",
     "output_type": "stream",
     "text": [
      "value = frozenset({1, 3, 5})    type = <class 'frozenset'>\n"
     ]
    }
   ],
   "source": [
    "print_var_type(frozenset({1, 3, 5}))"
   ]
  },
  {
   "cell_type": "markdown",
   "id": "60d68432-4f14-4cd4-a941-42b6d3ece4c4",
   "metadata": {
    "tags": []
   },
   "source": [
    "# Text Sequence\n",
    "\n",
    "TODO"
   ]
  },
  {
   "cell_type": "markdown",
   "id": "0dea22a0-eebe-4139-854f-ebee2f54b180",
   "metadata": {},
   "source": [
    "## Normal string literals\n",
    "\n",
    "Either **single or double quotes** can be used to quote strings. Unlike in Unix shell languages, Perl or Perl-influenced languages such as Ruby or Groovy, single quotes and double quotes function **identically**."
   ]
  },
  {
   "cell_type": "code",
   "execution_count": 33,
   "id": "821c4623-db74-4976-b1ce-80a1f56de47a",
   "metadata": {},
   "outputs": [
    {
     "name": "stdout",
     "output_type": "stream",
     "text": [
      "value = cat    type = <class 'str'>\n"
     ]
    }
   ],
   "source": [
    "print_var_type(\"cat\")"
   ]
  },
  {
   "cell_type": "code",
   "execution_count": 34,
   "id": "eb5d55ae-4b4c-4c03-b89a-4374931a4d2b",
   "metadata": {},
   "outputs": [
    {
     "data": {
      "text/plain": [
       "True"
      ]
     },
     "execution_count": 34,
     "metadata": {},
     "output_type": "execute_result"
    }
   ],
   "source": [
    "\"just normal string\" == \"just normal string\""
   ]
  },
  {
   "cell_type": "markdown",
   "id": "cc102b94-16b5-4677-b0e5-1fc6e8202aa5",
   "metadata": {},
   "source": [
    "## Multi-line string literals\n",
    "\n",
    "There are also multi-line strings, which begin and end with a series of three single or double quotes."
   ]
  },
  {
   "cell_type": "code",
   "execution_count": 35,
   "id": "681ee9b3-7bce-4c66-a7ff-d15ec05c2e78",
   "metadata": {},
   "outputs": [
    {
     "data": {
      "text/plain": [
       "'Hi!\\nI am a multi-line string.\\nI am useful for comments and long descriptions.\\n'"
      ]
     },
     "execution_count": 35,
     "metadata": {},
     "output_type": "execute_result"
    }
   ],
   "source": [
    "\"\"\"Hi!\n",
    "I am a multi-line string.\n",
    "I am useful for comments and long descriptions.\n",
    "\"\"\""
   ]
  },
  {
   "cell_type": "markdown",
   "id": "6075f306-d0d3-4844-b1e9-f171d5b1aae2",
   "metadata": {},
   "source": [
    "## Raw strings\n",
    "\n",
    "String types come in \"raw\" varieties (denoted by placing a literal r before the opening quote), which do **no backslash-interpolation** and hence are very **useful for regular expressions**."
   ]
  },
  {
   "cell_type": "code",
   "execution_count": 36,
   "id": "40c6ce42-429c-40cb-988c-5b4e7201c3d7",
   "metadata": {},
   "outputs": [
    {
     "data": {
      "text/plain": [
       "'C:\\\\Foo\\\\Bar\\\\Baz\\\\ '"
      ]
     },
     "execution_count": 36,
     "metadata": {},
     "output_type": "execute_result"
    }
   ],
   "source": [
    "r\"C:\\Foo\\Bar\\Baz\\ \""
   ]
  },
  {
   "cell_type": "code",
   "execution_count": 37,
   "id": "59e43d1b-91b3-49ec-80e7-c94d943efd96",
   "metadata": {
    "tags": []
   },
   "outputs": [
    {
     "data": {
      "text/plain": [
       "True"
      ]
     },
     "execution_count": 37,
     "metadata": {},
     "output_type": "execute_result"
    }
   ],
   "source": [
    "# the whitespace is vital here!\n",
    "r\"C:\\Foo\\Bar\\Baz\\ \" == r\"C:\\Foo\\Bar\\Baz\\ \""
   ]
  },
  {
   "cell_type": "code",
   "execution_count": 38,
   "id": "67d38332-e5a0-492d-8584-f66f3090d11c",
   "metadata": {},
   "outputs": [
    {
     "data": {
      "text/plain": [
       "'C:/Foo/Bar/Baz/'"
      ]
     },
     "execution_count": 38,
     "metadata": {},
     "output_type": "execute_result"
    }
   ],
   "source": [
    "r\"C:/Foo/Bar/Baz/\""
   ]
  },
  {
   "cell_type": "code",
   "execution_count": 39,
   "id": "41433876-c32e-48e6-9b21-0dd1508324a5",
   "metadata": {},
   "outputs": [
    {
     "data": {
      "text/plain": [
       "'C:/Foo/nBar/tBaz/'"
      ]
     },
     "execution_count": 39,
     "metadata": {},
     "output_type": "execute_result"
    }
   ],
   "source": [
    "r\"C:/Foo/nBar/tBaz/\""
   ]
  },
  {
   "cell_type": "markdown",
   "id": "6ffd1971-0dc8-40e3-b92f-fcffee3925dc",
   "metadata": {},
   "source": [
    "## Concatenation of adjacent string literals"
   ]
  },
  {
   "cell_type": "code",
   "execution_count": 40,
   "id": "fbcf0ec9-ce21-464d-aebd-d1697679bef4",
   "metadata": {},
   "outputs": [
    {
     "data": {
      "text/plain": [
       "'first part and second part'"
      ]
     },
     "execution_count": 40,
     "metadata": {},
     "output_type": "execute_result"
    }
   ],
   "source": [
    "\"first part \" \"and second part\""
   ]
  },
  {
   "cell_type": "markdown",
   "id": "66f1429a-9863-48d1-b53a-e662275626f4",
   "metadata": {},
   "source": [
    "## Unicode\n",
    "\n",
    "**Since Python 3.0**, the default character set is **UTF-8 both for source code and the interpreter**. In UTF-8, unicode strings are handled like traditional byte strings."
   ]
  },
  {
   "cell_type": "markdown",
   "id": "53552b16-e879-47f0-8bcc-2948d048872a",
   "metadata": {},
   "source": [
    "### String"
   ]
  },
  {
   "cell_type": "code",
   "execution_count": 41,
   "id": "836c8969-dc3f-4687-b317-893b72f778c0",
   "metadata": {},
   "outputs": [
    {
     "data": {
      "text/plain": [
       "'Selam Dünya'"
      ]
     },
     "execution_count": 41,
     "metadata": {},
     "output_type": "execute_result"
    }
   ],
   "source": [
    "hello_world = \"Selam Dünya\"\n",
    "hello_world"
   ]
  },
  {
   "cell_type": "code",
   "execution_count": 42,
   "id": "fb90e332-4e62-4350-afff-c73343a50ee4",
   "metadata": {},
   "outputs": [
    {
     "data": {
      "text/plain": [
       "'hello world'"
      ]
     },
     "execution_count": 42,
     "metadata": {},
     "output_type": "execute_result"
    }
   ],
   "source": [
    "selam_dünya = \"hello world\"\n",
    "selam_dünya"
   ]
  },
  {
   "cell_type": "markdown",
   "id": "3335c0f7-cac6-4e7f-bdb8-56f448565c0d",
   "metadata": {},
   "source": [
    "### Symbols\n",
    "\n",
    "[Unicode table](https://old.unicode-table.com/en/blocks/arrows/)"
   ]
  },
  {
   "cell_type": "code",
   "execution_count": 43,
   "id": "7670585d-12fa-4e06-ac52-e148fdfabec4",
   "metadata": {},
   "outputs": [
    {
     "name": "stdout",
     "output_type": "stream",
     "text": [
      "↑ ↹ ↓\n"
     ]
    }
   ],
   "source": [
    "up_arrow = \"\\u2191\"\n",
    "down_arrow = \"\\u2193\"\n",
    "tab_with_shift_tab = \"\\u21B9\"\n",
    "print(up_arrow, tab_with_shift_tab, down_arrow)"
   ]
  },
  {
   "cell_type": "markdown",
   "id": "8a125ad4-73b1-4938-9d16-986052a6c8e7",
   "metadata": {},
   "source": [
    "# Binary sequence\n",
    "\n",
    "TODO"
   ]
  },
  {
   "cell_type": "markdown",
   "id": "84791725-f335-4556-8d7e-60a274570a31",
   "metadata": {},
   "source": [
    "##  `bytes`\n",
    "\n",
    "TODO"
   ]
  },
  {
   "cell_type": "markdown",
   "id": "8a412996-06dd-42c0-b913-b23cfd135032",
   "metadata": {},
   "source": [
    "## `bytearray`\n",
    "\n",
    "TODO"
   ]
  },
  {
   "cell_type": "markdown",
   "id": "10b262ad-8dc6-446a-ba12-ee182f85cc18",
   "metadata": {},
   "source": [
    "## `memoryview`\n",
    "\n",
    "TODO"
   ]
  },
  {
   "cell_type": "markdown",
   "id": "70ecf416-bfdf-4657-a831-ec9923c444b8",
   "metadata": {},
   "source": [
    "# Date / Time"
   ]
  },
  {
   "cell_type": "markdown",
   "id": "2dd34116-749d-492d-924e-db7a5ad5500d",
   "metadata": {},
   "source": [
    "# Files"
   ]
  },
  {
   "cell_type": "markdown",
   "id": "e4cb6566-4737-4680-aac1-93f9bc88393c",
   "metadata": {},
   "source": [
    "# References\n",
    "\n",
    "[After Hours Programming](https://www.afterhoursprogramming.com/tutorial/python/python-overview/)\n",
    "\n",
    "[Numeric Types — int, float, complex](https://docs.python.org/3/library/stdtypes.html#typesnumeric)\n",
    "\n",
    "[decimal — Decimal fixed point and floating point arithmetic](https://docs.python.org/3/library/decimal.html)\n",
    "\n",
    "[fractions — Rational numbers](https://docs.python.org/3/library/fractions.html)"
   ]
  }
 ],
 "metadata": {
  "kernelspec": {
   "display_name": "Python [conda env:data-science-course] *",
   "language": "python",
   "name": "conda-env-data-science-course-py"
  },
  "language_info": {
   "codemirror_mode": {
    "name": "ipython",
    "version": 3
   },
   "file_extension": ".py",
   "mimetype": "text/x-python",
   "name": "python",
   "nbconvert_exporter": "python",
   "pygments_lexer": "ipython3",
   "version": "3.10.9"
  }
 },
 "nbformat": 4,
 "nbformat_minor": 5
}
