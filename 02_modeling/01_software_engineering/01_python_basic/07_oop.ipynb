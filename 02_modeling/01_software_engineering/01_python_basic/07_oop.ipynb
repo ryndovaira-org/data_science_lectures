{
 "cells": [
  {
   "cell_type": "markdown",
   "id": "06e4af48-0fe3-4318-9c39-a3f17c48a1cf",
   "metadata": {},
   "source": [
    "# Object-oriented programming (OOP)"
   ]
  },
  {
   "cell_type": "code",
   "execution_count": null,
   "id": "59d54e4e-5e66-48a2-b915-c609d1b636a0",
   "metadata": {},
   "outputs": [],
   "source": []
  },
  {
   "cell_type": "markdown",
   "id": "f2ca6cab-dfe4-4ab7-a213-e115288e7bfd",
   "metadata": {},
   "source": [
    "---\n",
    "\n",
    "[]()\n",
    "\n",
    "[]()\n",
    "\n",
    "[]()\n",
    "\n",
    "[]()\n",
    "\n",
    "[]()\n",
    "\n",
    "[]()"
   ]
  }
 ],
 "metadata": {
  "kernelspec": {
   "display_name": "Python [conda env:data-science-course] *",
   "language": "python",
   "name": "conda-env-data-science-course-py"
  },
  "language_info": {
   "codemirror_mode": {
    "name": "ipython",
    "version": 3
   },
   "file_extension": ".py",
   "mimetype": "text/x-python",
   "name": "python",
   "nbconvert_exporter": "python",
   "pygments_lexer": "ipython3",
   "version": "3.10.9"
  }
 },
 "nbformat": 4,
 "nbformat_minor": 5
}
