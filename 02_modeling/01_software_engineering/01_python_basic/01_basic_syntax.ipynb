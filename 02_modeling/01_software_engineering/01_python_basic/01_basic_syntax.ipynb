{
 "cells": [
  {
   "cell_type": "code",
   "execution_count": 1,
   "id": "7e93530a-214c-4547-bf10-9bcfa6c24760",
   "metadata": {},
   "outputs": [],
   "source": [
    "import os\n",
    "import sys\n",
    "\n",
    "sys.path.append(os.path.abspath('../../../'))\n",
    "from utils.print_information import print_var_type"
   ]
  },
  {
   "cell_type": "markdown",
   "id": "6d93dd78-88f0-4871-be47-3e921e6b57af",
   "metadata": {},
   "source": [
    "# Indentation\n",
    "\n",
    "Python uses **whitespace* to delimit control flow blocks (following the off-side rule). Python borrows this feature from its predecessor ABC: instead of punctuation or keywords, it uses indentation to indicate the run of a block."
   ]
  },
  {
   "cell_type": "markdown",
   "id": "ba557b3d-f168-43cd-b0ec-7c01a99c8341",
   "metadata": {},
   "source": [
    "# Data types"
   ]
  },
  {
   "cell_type": "markdown",
   "id": "0b2e193d-137b-43f6-84d2-9eff41285f97",
   "metadata": {},
   "source": [
    "## Strings"
   ]
  },
  {
   "cell_type": "markdown",
   "id": "bf59ff97-b903-432e-9cbf-82bb9214144d",
   "metadata": {},
   "source": [
    "### Normal string literals\n",
    "\n",
    "Either **single or double quotes** can be used to quote strings. Unlike in Unix shell languages, Perl or Perl-influenced languages such as Ruby or Groovy, single quotes and double quotes function **identically**."
   ]
  },
  {
   "cell_type": "code",
   "execution_count": 2,
   "id": "eb5d55ae-4b4c-4c03-b89a-4374931a4d2b",
   "metadata": {},
   "outputs": [
    {
     "data": {
      "text/plain": [
       "True"
      ]
     },
     "execution_count": 2,
     "metadata": {},
     "output_type": "execute_result"
    }
   ],
   "source": [
    "'just normal string' == \"just normal string\""
   ]
  },
  {
   "cell_type": "markdown",
   "id": "fa575eed-406d-4d5c-8eb5-4031a25d5362",
   "metadata": {},
   "source": [
    "### Multi-line string literals\n",
    "\n",
    "There are also multi-line strings, which begin and end with a series of three single or double quotes."
   ]
  },
  {
   "cell_type": "code",
   "execution_count": 3,
   "id": "681ee9b3-7bce-4c66-a7ff-d15ec05c2e78",
   "metadata": {},
   "outputs": [
    {
     "data": {
      "text/plain": [
       "'Hi!\\nI am a multi-line string.\\nI am useful for comments and long descriptions.\\n'"
      ]
     },
     "execution_count": 3,
     "metadata": {},
     "output_type": "execute_result"
    }
   ],
   "source": [
    "'''Hi!\n",
    "I am a multi-line string.\n",
    "I am useful for comments and long descriptions.\n",
    "'''"
   ]
  },
  {
   "cell_type": "markdown",
   "id": "ce1ea3ed-6647-4443-b958-a8375d6f7363",
   "metadata": {},
   "source": [
    "### Raw strings\n",
    "\n",
    "String types come in \"raw\" varieties (denoted by placing a literal r before the opening quote), which do **no backslash-interpolation** and hence are very **useful for regular expressions**."
   ]
  },
  {
   "cell_type": "code",
   "execution_count": 4,
   "id": "40c6ce42-429c-40cb-988c-5b4e7201c3d7",
   "metadata": {},
   "outputs": [
    {
     "data": {
      "text/plain": [
       "'C:\\\\Foo\\\\Bar\\\\Baz\\\\ '"
      ]
     },
     "execution_count": 4,
     "metadata": {},
     "output_type": "execute_result"
    }
   ],
   "source": [
    "r\"C:\\Foo\\Bar\\Baz\\ \""
   ]
  },
  {
   "cell_type": "code",
   "execution_count": 5,
   "id": "59e43d1b-91b3-49ec-80e7-c94d943efd96",
   "metadata": {
    "tags": []
   },
   "outputs": [
    {
     "data": {
      "text/plain": [
       "True"
      ]
     },
     "execution_count": 5,
     "metadata": {},
     "output_type": "execute_result"
    }
   ],
   "source": [
    "# the whitespace is vital here!\n",
    "r\"C:\\Foo\\Bar\\Baz\\ \" == r'C:\\Foo\\Bar\\Baz\\ '"
   ]
  },
  {
   "cell_type": "code",
   "execution_count": 6,
   "id": "67d38332-e5a0-492d-8584-f66f3090d11c",
   "metadata": {},
   "outputs": [
    {
     "data": {
      "text/plain": [
       "'C:/Foo/Bar/Baz/'"
      ]
     },
     "execution_count": 6,
     "metadata": {},
     "output_type": "execute_result"
    }
   ],
   "source": [
    "r\"C:/Foo/Bar/Baz/\""
   ]
  },
  {
   "cell_type": "code",
   "execution_count": 7,
   "id": "41433876-c32e-48e6-9b21-0dd1508324a5",
   "metadata": {},
   "outputs": [
    {
     "data": {
      "text/plain": [
       "'C:/Foo/nBar/tBaz/'"
      ]
     },
     "execution_count": 7,
     "metadata": {},
     "output_type": "execute_result"
    }
   ],
   "source": [
    "r\"C:/Foo/nBar/tBaz/\""
   ]
  },
  {
   "cell_type": "markdown",
   "id": "25dacf47-fa89-406e-aa31-17944280fb4c",
   "metadata": {},
   "source": [
    "### Concatenation of adjacent string literals"
   ]
  },
  {
   "cell_type": "code",
   "execution_count": 8,
   "id": "fbcf0ec9-ce21-464d-aebd-d1697679bef4",
   "metadata": {},
   "outputs": [
    {
     "data": {
      "text/plain": [
       "'first part and second part'"
      ]
     },
     "execution_count": 8,
     "metadata": {},
     "output_type": "execute_result"
    }
   ],
   "source": [
    "\"first part \" \\\n",
    "        'and second part'"
   ]
  },
  {
   "cell_type": "markdown",
   "id": "fbef58ce-a9ae-4d3f-8b13-4c00d2042215",
   "metadata": {},
   "source": [
    "### Unicode\n",
    "\n",
    "**Since Python 3.0**, the default character set is **UTF-8 both for source code and the interpreter**. In UTF-8, unicode strings are handled like traditional byte strings."
   ]
  },
  {
   "cell_type": "code",
   "execution_count": 9,
   "id": "836c8969-dc3f-4687-b317-893b72f778c0",
   "metadata": {},
   "outputs": [
    {
     "data": {
      "text/plain": [
       "'Selam Dünya'"
      ]
     },
     "execution_count": 9,
     "metadata": {},
     "output_type": "execute_result"
    }
   ],
   "source": [
    "hello_world = 'Selam Dünya'\n",
    "hello_world"
   ]
  },
  {
   "cell_type": "code",
   "execution_count": 10,
   "id": "fb90e332-4e62-4350-afff-c73343a50ee4",
   "metadata": {},
   "outputs": [
    {
     "data": {
      "text/plain": [
       "'hello world'"
      ]
     },
     "execution_count": 10,
     "metadata": {},
     "output_type": "execute_result"
    }
   ],
   "source": [
    "selam_dünya = 'hello world'\n",
    "selam_dünya"
   ]
  },
  {
   "cell_type": "markdown",
   "id": "349608fa-8887-49f0-8f65-6a6aa84e5b50",
   "metadata": {
    "tags": []
   },
   "source": [
    "## Numbers"
   ]
  },
  {
   "cell_type": "markdown",
   "id": "19cff07d-4780-4449-aede-34f225b9bcc4",
   "metadata": {
    "tags": []
   },
   "source": [
    "### `int`\n",
    "\n",
    "Python has **arbitrary-length integers** and **automatically increases their storage size as necessary**."
   ]
  },
  {
   "cell_type": "code",
   "execution_count": 11,
   "id": "16dacb5f-7fae-4429-b229-6b1bc967e1f1",
   "metadata": {},
   "outputs": [
    {
     "name": "stdout",
     "output_type": "stream",
     "text": [
      "-1\n",
      "<class 'int'>\n"
     ]
    }
   ],
   "source": [
    "print_var_type(-1)"
   ]
  },
  {
   "cell_type": "code",
   "execution_count": 12,
   "id": "f240f60e-4b26-459b-b930-a3ded34767d0",
   "metadata": {},
   "outputs": [
    {
     "name": "stdout",
     "output_type": "stream",
     "text": [
      "999\n",
      "<class 'int'>\n"
     ]
    }
   ],
   "source": [
    "print_var_type(999)"
   ]
  },
  {
   "cell_type": "code",
   "execution_count": 13,
   "id": "01b81ec8-307d-46e3-8107-2a0bad59ddcb",
   "metadata": {},
   "outputs": [
    {
     "name": "stdout",
     "output_type": "stream",
     "text": [
      "4\n",
      "<class 'int'>\n"
     ]
    }
   ],
   "source": [
    "print_var_type(2**2)"
   ]
  },
  {
   "cell_type": "markdown",
   "id": "0d8a895c-f430-4edc-96c4-2705cd35e72a",
   "metadata": {},
   "source": [
    "### `float`\n",
    "\n",
    "Python supports normal floating point numbers, which are created \n",
    "- when a dot is used in a literal, \n",
    "- when an integer and a floating point number are used in an expression, \n",
    "- as a result of some mathematical operations (\"true division\" via the `/` operator, or exponentiation with a negative exponent)."
   ]
  },
  {
   "cell_type": "code",
   "execution_count": 14,
   "id": "c87c3728-2c0e-4078-942e-9c60cfbbb4f7",
   "metadata": {},
   "outputs": [
    {
     "name": "stdout",
     "output_type": "stream",
     "text": [
      "123.456\n",
      "<class 'float'>\n"
     ]
    }
   ],
   "source": [
    "print_var_type(123.456)"
   ]
  },
  {
   "cell_type": "code",
   "execution_count": 15,
   "id": "d94d9e41-39e4-475a-b8f4-19f5a1750836",
   "metadata": {},
   "outputs": [
    {
     "name": "stdout",
     "output_type": "stream",
     "text": [
      "6.1\n",
      "<class 'float'>\n"
     ]
    }
   ],
   "source": [
    "print_var_type(5 + 1.1)"
   ]
  },
  {
   "cell_type": "code",
   "execution_count": 16,
   "id": "8c890c91-e04e-4fd5-9b31-65ec41cbe029",
   "metadata": {},
   "outputs": [
    {
     "name": "stdout",
     "output_type": "stream",
     "text": [
      "3.0\n",
      "<class 'float'>\n"
     ]
    }
   ],
   "source": [
    "print_var_type(6/2)"
   ]
  },
  {
   "cell_type": "code",
   "execution_count": 17,
   "id": "d2159373-63a0-47ba-a4e4-5c2cf69b26fd",
   "metadata": {},
   "outputs": [
    {
     "name": "stdout",
     "output_type": "stream",
     "text": [
      "0.25\n",
      "<class 'float'>\n"
     ]
    }
   ],
   "source": [
    "print_var_type(2**-2)"
   ]
  },
  {
   "cell_type": "code",
   "execution_count": 18,
   "id": "dece62c8-5618-4ea4-a1e1-a0d52be328d4",
   "metadata": {},
   "outputs": [
    {
     "name": "stdout",
     "output_type": "stream",
     "text": [
      "20000.0\n",
      "<class 'float'>\n"
     ]
    }
   ],
   "source": [
    "print_var_type(2e4)"
   ]
  },
  {
   "cell_type": "markdown",
   "id": "08b18367-fa46-4f86-897d-8d3b495c07c1",
   "metadata": {},
   "source": [
    "### `complex`\n",
    "\n",
    "Complex numbers are indicated with the J or j suffix."
   ]
  },
  {
   "cell_type": "code",
   "execution_count": 19,
   "id": "e7e1c835-78e7-428d-b973-759ee3bab45e",
   "metadata": {},
   "outputs": [
    {
     "name": "stdout",
     "output_type": "stream",
     "text": [
      "(2+4j)\n",
      "<class 'complex'>\n"
     ]
    }
   ],
   "source": [
    "print_var_type(2 + 4j)"
   ]
  },
  {
   "cell_type": "markdown",
   "id": "70ecf416-bfdf-4657-a831-ec9923c444b8",
   "metadata": {},
   "source": [
    "# Date / Time"
   ]
  },
  {
   "cell_type": "markdown",
   "id": "2dd34116-749d-492d-924e-db7a5ad5500d",
   "metadata": {},
   "source": [
    "# Files"
   ]
  },
  {
   "cell_type": "markdown",
   "id": "5c8cddf5-114f-4579-8706-bffbf72df7f3",
   "metadata": {},
   "source": [
    "# Operators"
   ]
  },
  {
   "cell_type": "markdown",
   "id": "602833d8-05f4-47e8-9509-765010fda946",
   "metadata": {
    "jp-MarkdownHeadingCollapsed": true,
    "tags": []
   },
   "source": [
    "# Compound statements"
   ]
  },
  {
   "cell_type": "markdown",
   "id": "69f8831f-a052-479c-b583-a4803dfd6cdd",
   "metadata": {},
   "source": [
    "# Argparse"
   ]
  },
  {
   "cell_type": "markdown",
   "id": "b765cd8a-bb71-4e58-9d8f-208e1d30a122",
   "metadata": {},
   "source": [
    "# Functions"
   ]
  },
  {
   "cell_type": "markdown",
   "id": "1a73740e-36ce-466f-9c48-d02d56762a98",
   "metadata": {
    "tags": []
   },
   "source": [
    "# Exceptions"
   ]
  },
  {
   "cell_type": "markdown",
   "id": "bffbe3b5-add5-4aa0-ad1a-41087f763dd3",
   "metadata": {
    "tags": []
   },
   "source": [
    "# Logging"
   ]
  },
  {
   "cell_type": "markdown",
   "id": "9382a099-08e1-4c4f-b775-ec55e9156017",
   "metadata": {},
   "source": [
    "# Virtual environment"
   ]
  },
  {
   "cell_type": "markdown",
   "id": "84c991ae-a643-4179-913f-d0ca990e3632",
   "metadata": {},
   "source": [
    "---\n",
    "\n",
    "[]()\n",
    "\n",
    "[]()\n",
    "\n",
    "[]()\n",
    "\n",
    "[]()\n",
    "\n",
    "[]()\n",
    "\n",
    "[]()\n",
    "\n",
    "[]()\n",
    "\n",
    "[]()\n",
    "\n",
    "[]()\n",
    "\n",
    "[]()\n",
    "\n",
    "[]()\n",
    "\n",
    "[]()"
   ]
  },
  {
   "cell_type": "markdown",
   "id": "e4cb6566-4737-4680-aac1-93f9bc88393c",
   "metadata": {},
   "source": [
    "---\n",
    "\n",
    "[After Hours Programming](https://www.afterhoursprogramming.com/tutorial/python/python-overview/)\n",
    "\n",
    "[Numeric Types — int, float, complex](https://docs.python.org/3/library/stdtypes.html#typesnumeric)\n",
    "\n",
    "[]()\n",
    "\n",
    "[Compound statements](https://docs.python.org/3/reference/compound_stmts.html#)\n",
    "\n",
    "[]()"
   ]
  }
 ],
 "metadata": {
  "kernelspec": {
   "display_name": "Python [conda env:data-science-course] *",
   "language": "python",
   "name": "conda-env-data-science-course-py"
  },
  "language_info": {
   "codemirror_mode": {
    "name": "ipython",
    "version": 3
   },
   "file_extension": ".py",
   "mimetype": "text/x-python",
   "name": "python",
   "nbconvert_exporter": "python",
   "pygments_lexer": "ipython3",
   "version": "3.10.9"
  }
 },
 "nbformat": 4,
 "nbformat_minor": 5
}
