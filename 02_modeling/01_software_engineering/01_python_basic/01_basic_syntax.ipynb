{
 "cells": [
  {
   "cell_type": "markdown",
   "id": "ba557b3d-f168-43cd-b0ec-7c01a99c8341",
   "metadata": {},
   "source": [
    "# Data types"
   ]
  },
  {
   "cell_type": "markdown",
   "id": "70ecf416-bfdf-4657-a831-ec9923c444b8",
   "metadata": {},
   "source": [
    "# Date / Time"
   ]
  },
  {
   "cell_type": "markdown",
   "id": "2dd34116-749d-492d-924e-db7a5ad5500d",
   "metadata": {},
   "source": [
    "# Files"
   ]
  },
  {
   "cell_type": "markdown",
   "id": "5c8cddf5-114f-4579-8706-bffbf72df7f3",
   "metadata": {},
   "source": [
    "# Operators"
   ]
  },
  {
   "cell_type": "markdown",
   "id": "602833d8-05f4-47e8-9509-765010fda946",
   "metadata": {
    "jp-MarkdownHeadingCollapsed": true,
    "tags": []
   },
   "source": [
    "# Compound statements"
   ]
  },
  {
   "cell_type": "markdown",
   "id": "69f8831f-a052-479c-b583-a4803dfd6cdd",
   "metadata": {},
   "source": [
    "# Argparse"
   ]
  },
  {
   "cell_type": "markdown",
   "id": "b765cd8a-bb71-4e58-9d8f-208e1d30a122",
   "metadata": {},
   "source": [
    "# Functions"
   ]
  },
  {
   "cell_type": "markdown",
   "id": "1a73740e-36ce-466f-9c48-d02d56762a98",
   "metadata": {
    "tags": []
   },
   "source": [
    "# Exceptions"
   ]
  },
  {
   "cell_type": "markdown",
   "id": "bffbe3b5-add5-4aa0-ad1a-41087f763dd3",
   "metadata": {
    "tags": []
   },
   "source": [
    "# Logging"
   ]
  },
  {
   "cell_type": "markdown",
   "id": "9382a099-08e1-4c4f-b775-ec55e9156017",
   "metadata": {},
   "source": [
    "# Virtual environment"
   ]
  },
  {
   "cell_type": "markdown",
   "id": "84c991ae-a643-4179-913f-d0ca990e3632",
   "metadata": {},
   "source": [
    "---\n",
    "\n",
    "[]()\n",
    "\n",
    "[]()\n",
    "\n",
    "[]()\n",
    "\n",
    "[]()\n",
    "\n",
    "[]()\n",
    "\n",
    "[]()\n",
    "\n",
    "[]()\n",
    "\n",
    "[]()\n",
    "\n",
    "[]()\n",
    "\n",
    "[]()\n",
    "\n",
    "[]()\n",
    "\n",
    "[]()"
   ]
  },
  {
   "cell_type": "markdown",
   "id": "e4cb6566-4737-4680-aac1-93f9bc88393c",
   "metadata": {},
   "source": [
    "---\n",
    "\n",
    "[]()\n",
    "\n",
    "[]()\n",
    "\n",
    "[]()\n",
    "\n",
    "[Compound statements](https://docs.python.org/3/reference/compound_stmts.html#)\n",
    "\n",
    "[]()"
   ]
  }
 ],
 "metadata": {
  "kernelspec": {
   "display_name": "Python [conda env:data-science-course] *",
   "language": "python",
   "name": "conda-env-data-science-course-py"
  },
  "language_info": {
   "codemirror_mode": {
    "name": "ipython",
    "version": 3
   },
   "file_extension": ".py",
   "mimetype": "text/x-python",
   "name": "python",
   "nbconvert_exporter": "python",
   "pygments_lexer": "ipython3",
   "version": "3.10.9"
  }
 },
 "nbformat": 4,
 "nbformat_minor": 5
}
