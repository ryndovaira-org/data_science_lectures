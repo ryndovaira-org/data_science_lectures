{
 "cells": [
  {
   "cell_type": "markdown",
   "metadata": {
    "pycharm": {
     "name": "#%% md\n"
    }
   },
   "source": [
    "# R language\n",
    "\n",
    "<img src=\"images/R_logo.png\">\n"
   ]
  },
  {
   "cell_type": "markdown",
   "metadata": {},
   "source": [
    "# References\n",
    "\n",
    "**Источники:**\n",
    "\n",
    "[R (язык программирования)](https://ru.wikipedia.org/wiki/R_(%D1%8F%D0%B7%D1%8B%D0%BA_%D0%BF%D1%80%D0%BE%D0%B3%D1%80%D0%B0%D0%BC%D0%BC%D0%B8%D1%80%D0%BE%D0%B2%D0%B0%D0%BD%D0%B8%D1%8F))\n",
    "\n",
    "[R Packages: A Beginner's Guide](https://www.datacamp.com/community/tutorials/r-packages-guide)\n",
    "\n",
    "[RStudio](https://ru.wikipedia.org/wiki/RStudio)\n",
    "\n",
    "[]()\n",
    "\n",
    "[]()\n",
    "\n",
    "[]()\n",
    "\n",
    "[]()\n",
    "\n",
    "[]()\n",
    "\n",
    "# References"
   ]
  },
  {
   "cell_type": "markdown",
   "metadata": {
    "jupyter": {
     "outputs_hidden": false
    },
    "pycharm": {
     "name": "#%% md\n"
    },
    "tags": []
   },
   "source": [
    "## Описание\n",
    "\n",
    "**[R](https://www.r-project.org/)** — язык программирования для **статистической обработки** данных и работы с **графикой**, а также свободная программная **среда вычислений** с открытым исходным кодом.\n",
    "\n",
    "Широко используется как статистическое программное обеспечение для анализа данных и фактически стал **стандартом для статистических программ**.\n",
    "\n",
    "**[RStudio](https://www.rstudio.com/) — свободная среда разработки программного обеспечения** с открытым исходным кодом для языка программирования R, который предназначен для статистической обработки данных и работы с грикой.\n",
    "\n",
    "RStudio доступна в двух версиях: **RStudio Desktop**, в которой программа выполняется на локальной машине как обычное приложение; и **RStudio Server**, в которой предоставляется доступ через браузер к RStudio установленной на удаленном Linux-сервере."
   ]
  },
  {
   "cell_type": "code",
   "execution_count": 2,
   "metadata": {},
   "outputs": [
    {
     "name": "stdout",
     "output_type": "stream",
     "text": [
      "Collecting package metadata (current_repodata.json): done\n",
      "Solving environment: done\n",
      "\n",
      "## Package Plan ##\n",
      "\n",
      "  environment location: /home/ira/anaconda3/envs/LevelUp_DataScience_Py_R\n",
      "\n",
      "  added / updated specs:\n",
      "    - r-essentials\n",
      "\n",
      "\n",
      "The following packages will be downloaded:\n",
      "\n",
      "    package                    |            build\n",
      "    ---------------------------|-----------------\n",
      "    r-essentials-3.6.0         |            r36_0           5 KB  r\n",
      "    ------------------------------------------------------------\n",
      "                                           Total:           5 KB\n",
      "\n",
      "The following packages will be SUPERSEDED by a higher-priority channel:\n",
      "\n",
      "  r-essentials                                       pkgs/r --> r\n",
      "\n",
      "\n",
      "\n",
      "Downloading and Extracting Packages\n",
      "r-essentials-3.6.0   | 5 KB      | ##################################### | 100% \n",
      "Preparing transaction: done\n",
      "Verifying transaction: done\n",
      "Executing transaction: done\n"
     ]
    }
   ],
   "source": [
    "!conda install -c r r-essentials -y"
   ]
  },
  {
   "cell_type": "code",
   "execution_count": null,
   "metadata": {},
   "outputs": [],
   "source": []
  }
 ],
 "metadata": {
  "kernelspec": {
   "display_name": "Python [conda env:LevelUp_DataScience_Py_R] *",
   "language": "python",
   "name": "conda-env-LevelUp_DataScience_Py_R-py"
  },
  "language_info": {
   "codemirror_mode": {
    "name": "ipython",
    "version": 3
   },
   "file_extension": ".py",
   "mimetype": "text/x-python",
   "name": "python",
   "nbconvert_exporter": "python",
   "pygments_lexer": "ipython3",
   "version": "3.8.11"
  }
 },
 "nbformat": 4,
 "nbformat_minor": 4
}
