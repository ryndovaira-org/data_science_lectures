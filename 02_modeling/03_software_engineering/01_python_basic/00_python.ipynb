{
 "cells": [
  {
   "cell_type": "markdown",
   "id": "3f24f3a0-7cbd-460f-bb82-9b34342506e4",
   "metadata": {},
   "source": [
    "# Python\n",
    "\n",
    "**Guido van Rossum** began working on Python in the late 1980s as a successor to the ABC programming language and **first released** it in **1991** as Python 0.9.0.\n",
    "\n",
    "- high-level\n",
    "- general-purpose\n",
    "- dynamically typed\n",
    "- garbage-collected\n",
    "- multiple programming paradigms, including structured (particularly procedural), object-oriented and functional programming\n",
    "\n",
    "\n",
    "Python comes with an Integrated development environment (IDE) called *IDLE*, which is more beginner-oriented.\n",
    "\n"
   ]
  },
  {
   "cell_type": "markdown",
   "id": "b32a73b3-6926-43a1-a440-3285085425b0",
   "metadata": {},
   "source": [
    "## Python's notable features\n",
    "\n",
    "- Uses an **elegant syntax**, making the programs you write easier to read.\n",
    "- Is an easy-to-use language that makes it simple to get your program working. This makes Python **ideal for prototype** development and other ad-hoc programming tasks, without compromising maintainability.\n",
    "- Comes with a **large standard library** that supports many common programming tasks such as connecting to web servers, searching text with regular expressions, reading and modifying files.\n",
    "- Python's **interactive mode** makes it easy to test short snippets of code. There's also a bundled development environment called IDLE.\n",
    "- Is **easily extended by** adding new modules implemented in a compiled language such as **C or C++**.\n",
    "- Can also be embedded into an application to provide a programmable interface.\n",
    "- **Runs anywhere**, including Mac OS X, Windows, Linux, and Unix, with unofficial builds also available for Android and iOS.\n",
    "- Is **free** software in two senses. It doesn't cost anything to download or use Python, or to include it in your application. Python can also be freely modified and re-distributed because while the language is copyrighted it's available under an open-source license."
   ]
  },
  {
   "cell_type": "markdown",
   "id": "ad3a310b-225a-4a19-8079-1e520d5ba1d6",
   "metadata": {},
   "source": [
    "## Some programming-language features of Python are:\n",
    "\n",
    "- A variety of basic data types are available: numbers (floating point, complex, and unlimited-length long integers), strings (both ASCII and Unicode), lists, and dictionaries.\n",
    "- Python supports object-oriented programming with classes and multiple inheritances.\n",
    "- Code can be grouped into modules and packages.\n",
    "- The language supports raising and catching exceptions, resulting in cleaner error handling.\n",
    "- Data types are strongly and dynamically typed. Mixing incompatible types (e.g. attempting to add a string and a number) causes an exception to be raised, so errors are caught sooner.\n",
    "- Python contains advanced programming features such as generators and list comprehensions.\n",
    "- Python's automatic memory management frees you from having to manually allocate and free memory in your code."
   ]
  },
  {
   "cell_type": "markdown",
   "id": "429dd4af-9410-4132-a3b5-718fa0b09833",
   "metadata": {},
   "source": [
    "## The Zen of Python (PEP 20)\n",
    "\n",
    "1. Beautiful is better than ugly.\n",
    "1. Explicit is better than implicit.\n",
    "1. Simple is better than complex.\n",
    "1. Complex is better than complicated.\n",
    "1. Flat is better than nested.\n",
    "1. Sparse is better than dense.\n",
    "1. Readability counts.\n",
    "1. Special cases aren't special enough to break the rules.\n",
    "1. Although practicality beats purity.\n",
    "1. Errors should never pass silently.\n",
    "1. Unless explicitly silenced.\n",
    "1. In the face of ambiguity, refuse the temptation to guess.\n",
    "1. There should be one -- and preferably only one --obvious way to do it.\n",
    "1. Although that way may not be obvious at first unless you're Dutch.\n",
    "1. Now is better than never.\n",
    "1. Although never is often better than right now.\n",
    "1. If the implementation is hard to explain, it's a bad idea.\n",
    "1. If the implementation is easy to explain, it may be a good idea.\n",
    "1. Namespaces are one honking great idea – let's do more of those!"
   ]
  },
  {
   "cell_type": "markdown",
   "id": "273025a6-be26-41e7-b92d-f91b2837e85a",
   "metadata": {},
   "source": [
    "# References\n",
    "\n",
    "[The Python Language Reference](https://docs.python.org/3/reference/index.html#reference-index)\n",
    "\n",
    "[The Python Standard Library](https://docs.python.org/3/library/index.html#library-index)\n",
    "\n",
    "[The Python Tutorial](https://docs.python.org/3/tutorial/index.html)\n",
    "\n",
    "[Python HOWTOs](https://docs.python.org/3/howto/index.html)\n",
    "\n",
    "[Wiki Python (Ru)](https://ru.wikipedia.org/wiki/Python)\n",
    "\n",
    "[Python Docs](https://www.python.org/doc/)\n",
    "\n",
    "[PEP 8 – Style Guide for Python Code](https://peps.python.org/pep-0008/)"
   ]
  }
 ],
 "metadata": {
  "kernelspec": {
   "display_name": "Python [conda env:data-science-course] *",
   "language": "python",
   "name": "conda-env-data-science-course-py"
  },
  "language_info": {
   "codemirror_mode": {
    "name": "ipython",
    "version": 3
   },
   "file_extension": ".py",
   "mimetype": "text/x-python",
   "name": "python",
   "nbconvert_exporter": "python",
   "pygments_lexer": "ipython3",
   "version": "3.10.9"
  }
 },
 "nbformat": 4,
 "nbformat_minor": 5
}
