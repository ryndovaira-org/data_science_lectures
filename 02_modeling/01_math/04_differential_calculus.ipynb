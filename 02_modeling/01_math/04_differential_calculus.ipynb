{
 "cells": [
  {
   "cell_type": "markdown",
   "id": "c59568f9-d4f4-4b9f-b244-83875b045379",
   "metadata": {},
   "source": [
    "# Дифференциальное исчисление\n",
    "\n",
    "Дифференциальное исчисление — раздел математического анализа, в котором изучаются понятия производной и дифференциала и способы их применения к исследованию функций.\n",
    "\n",
    "Формирование дифференциального исчисления связано с именами Исаака Ньютона и Готфрида Лейбница."
   ]
  },
  {
   "cell_type": "markdown",
   "id": "a16a7408-509d-45d9-8b01-ddc841bc9cd2",
   "metadata": {},
   "source": [
    "# Предел\n",
    "\n",
    "## Предел последовательности\n",
    "Пределом последовательности называют объект, к которому члены последовательности в некотором смысле стремятся или приближаются с ростом порядкового номера.\n",
    "Предел последовательности обозначается $\\lim _{n\\to +\\infty }x_{n} = A$\n",
    "\n",
    "\n",
    "\n",
    "## Предел функции\n",
    "Функция $f(x)$ имеет предел $A$ в точке $x_{0}$, если для всех значений $x$, достаточно близких к $x_{0}$, значение $f(x)$ близко к $A$.\n",
    "Предел функции обозначается $\\lim _{x\\to x_{0}}f(x)=A$\n",
    "\n",
    "\n",
    "## Свойства\n",
    "- Если предел последовательности существует, то он единственный\n",
    "- $\\lim c=c$, $c=const$\n",
    "- $\\lim(x_{n}+y_{n})=\\lim x_{n}+\\lim y_{n}$, если оба предела существуют\n",
    "- $\\lim(qx_{n})=q\\lim x_{n}$, $q = const$\n",
    "- $\\lim(x_{n}y_{n})=\\lim x_{n}\\lim y_{n}$, если оба предела существуют\n",
    "- $\\lim(x_{n}/y_{n})=\\lim x_{n}/\\lim y_{n}$, если оба предела существуют и знаменатель правой части не ноль\n",
    "- Если $a_{n}>x_{n}>b_{n}\\forall n$ и $\\lim a_{n}=\\lim b_{n}$, то $\\lim x_{n}=\\lim a_{n}=\\lim b_{n}$ (теорема \"о зажатой последовательности\", также известная, как \"теорема о двух милиционерах\")"
   ]
  },
  {
   "cell_type": "markdown",
   "id": "e7f828b9-2213-4523-a9e2-a1c4245e8cfc",
   "metadata": {},
   "source": [
    "## Примеры \n",
    "\n",
    "TODO"
   ]
  },
  {
   "cell_type": "markdown",
   "id": "f0e1ebe6-389a-4603-9886-d257d77d4cfe",
   "metadata": {},
   "source": [
    "# Дифференцирование / Производная\n",
    "\n",
    "Производная функции — понятие дифференциального исчисления, характеризующее **скорость изменения функции в данной точке**. \n",
    "\n",
    " \n",
    "$\\Delta x=x-x_0$ приращение аргумента функции.\n",
    "\n",
    "$\\frac{df}{dx}(x_0) = f'(x_0) = lim_{x\\to x_0}\\frac{f(x) - f(x_0)}{x-x_0} = lim_{\\Delta x \\to 0} \\frac{\\Delta f(x)}{\\Delta x}$\n",
    "\n",
    "Определяется как предел отношения приращения функции к приращению её аргумента при стремлении приращения аргумента к нулю (при условии, что такой предел существует). \n",
    "\n",
    "Функцию, имеющую конечную производную (в некоторой точке), называют **дифференцируемой** (в данной точке).\n",
    "\n",
    "Процесс вычисления производной называется дифференцированием. Обратный процесс — нахождение первообразной — интегрирование.\n",
    "\n",
    "Функция $f(x)$ будет **недифференцируема** в точке $x_{0}$,например, в следующих случаях:\n",
    "- Точка $x_{0}$ является **точкой разрыва**, например, функция сигнум недифференцируема в нуле.\n",
    "- Функция имеет **угловую точку** в $x_{0}$, например, функция $|x|$ недифференцируема в нуле.\n",
    "- Функция имеет **вертикальную касательную** (ассимптоту) в $x_{0}$, то есть  $\\lim _{x\\to x_{0}}f'=\\pm \\infty$, например, $x^\\frac{1}{3}$ недифференцируема в нуле.\n",
    "- Функция имеет **заострение** в $x_{0}$, например, $x^{\\frac {2}{3}}$ недифференцируема в нуле.\n",
    "*Однако эти случаи не исчерпывают всех ситуаций, когда функция недифференцируема. Так например, функция $x\\sin({\\frac {1}{x}})$ не относится ни к одному из этих случаев, но тем не менее недифференцируема в нуле.*"
   ]
  },
  {
   "cell_type": "markdown",
   "id": "009823b4-4935-401e-94a2-e90b32ed746d",
   "metadata": {},
   "source": [
    "## Common derivatives\n",
    "\n",
    "<img src='https://raw.githubusercontent.com/ryndovaira-org/data_science_notes/main/diagrams/common_derivatives.drawio.png'/>"
   ]
  },
  {
   "cell_type": "markdown",
   "id": "196a807c-61c8-4abe-aa27-4fe6e815438f",
   "metadata": {},
   "source": [
    "## Правила дифференцирования функций\n",
    "\n",
    "<img src='https://raw.githubusercontent.com/ryndovaira-org/data_science_notes/main/diagrams/derivative_rules.drawio.png'/>"
   ]
  },
  {
   "cell_type": "markdown",
   "id": "4cef5834-d091-43bd-b48e-079201108fad",
   "metadata": {},
   "source": [
    "## Примеры \n",
    "\n",
    "TODO"
   ]
  },
  {
   "cell_type": "markdown",
   "id": "6d461d97-3f6c-411f-a18b-5285c5e3613f",
   "metadata": {},
   "source": [
    "# Singularity (Особенность / Cингулярность)\n",
    "\n",
    "Особенность, или сингулярность в математике, — это точка, в которой математический объект (обычно функция) не определён или имеет нерегулярное поведение (например, точка, в которой функция имеет разрыв или недифференцируема)."
   ]
  },
  {
   "cell_type": "markdown",
   "id": "cf96ece8-241e-4ee3-bdc8-8e1761d84a2c",
   "metadata": {},
   "source": [
    "# References\n",
    "\n",
    "[Дифференциальное исчисление](https://ru.wikipedia.org/wiki/%D0%94%D0%B8%D1%84%D1%84%D0%B5%D1%80%D0%B5%D0%BD%D1%86%D0%B8%D0%B0%D0%BB%D1%8C%D0%BD%D0%BE%D0%B5_%D0%B8%D1%81%D1%87%D0%B8%D1%81%D0%BB%D0%B5%D0%BD%D0%B8%D0%B5)\n",
    "\n",
    "[Предел функции](https://ru.wikipedia.org/wiki/%D0%9F%D1%80%D0%B5%D0%B4%D0%B5%D0%BB_%D1%84%D1%83%D0%BD%D0%BA%D1%86%D0%B8%D0%B8)\n",
    "\n",
    "[Limit of a function](https://en.wikipedia.org/wiki/Limit_of_a_function)\n",
    "\n",
    "[Производная функции](https://ru.wikipedia.org/wiki/%D0%9F%D1%80%D0%BE%D0%B8%D0%B7%D0%B2%D0%BE%D0%B4%D0%BD%D0%B0%D1%8F_%D1%84%D1%83%D0%BD%D0%BA%D1%86%D0%B8%D0%B8)\n",
    "\n",
    "[Частная производная](https://ru.wikipedia.org/wiki/%D0%A7%D0%B0%D1%81%D1%82%D0%BD%D0%B0%D1%8F_%D0%BF%D1%80%D0%BE%D0%B8%D0%B7%D0%B2%D0%BE%D0%B4%D0%BD%D0%B0%D1%8F)\n",
    "\n",
    "[Partial derivative](https://en.wikipedia.org/wiki/Partial_derivative)\n",
    "\n",
    "[Derivative](https://en.wikipedia.org/wiki/Derivative)\n",
    "\n",
    "[Singularity (mathematics)](https://en.wikipedia.org/wiki/Singularity_(mathematics))\n",
    "\n",
    "[Особенность](https://ru.wikipedia.org/wiki/%D0%9E%D1%81%D0%BE%D0%B1%D0%B5%D0%BD%D0%BD%D0%BE%D1%81%D1%82%D1%8C)"
   ]
  }
 ],
 "metadata": {
  "kernelspec": {
   "display_name": "Python [conda env:data-science-course] *",
   "language": "python",
   "name": "conda-env-data-science-course-py"
  },
  "language_info": {
   "codemirror_mode": {
    "name": "ipython",
    "version": 3
   },
   "file_extension": ".py",
   "mimetype": "text/x-python",
   "name": "python",
   "nbconvert_exporter": "python",
   "pygments_lexer": "ipython3",
   "version": "3.10.9"
  }
 },
 "nbformat": 4,
 "nbformat_minor": 5
}
