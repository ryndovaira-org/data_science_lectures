{
 "cells": [
  {
   "cell_type": "markdown",
   "metadata": {},
   "source": [
    "# Euclidean space (Евклидово пространство)\n",
    "\n",
    "Евклидово пространство — это основное пространство геометрии, **предназначенное для представления физического пространства**.\n",
    "\n",
    "В современной математике существуют евклидовы пространства **любой положительной целочисленной размерности n ($R^n$)**, которые называются евклидовыми n-пространствами, когда нужно указать их размерность. \n",
    "\n",
    "<img src='https://raw.githubusercontent.com/ryndovaira-org/data_science_notes/main/images/euclidean_space.png' width=400/>\n",
    "\n",
    "При n, равном единице или двум, их принято называть соответственно евклидовыми линиями и евклидовыми плоскостями.\n",
    "\n",
    "Классификатор \"евклидово\" используется, чтобы отличить евклидовы пространства от других пространств, которые позже стали рассматриваться в физике и современной математике.\n",
    "\n",
    "<img src='https://raw.githubusercontent.com/ryndovaira-org/data_science_notes/main/images/euclidean_spherical_hyperbolic_spaces.jpeg' width=600/>\n",
    "\n",
    "<img src='https://raw.githubusercontent.com/ryndovaira-org/data_science_notes/main/images/topology_balls_surfaces.webp' width=600/>"
   ]
  },
  {
   "cell_type": "markdown",
   "metadata": {
    "tags": []
   },
   "source": [
    "# Manifold (Топологическое многообразие)\n",
    "\n",
    "В математике многообразие — это пространство, локально сходное с евклидовым. \n",
    "\n",
    "Примеры: \n",
    "- **Евклидово пространство является самым простым примером многообразия**. Размерность многообразия определяется по размерности евклидова пространства, с которым оно локально сходно.\n",
    "- **Поверхность Земли**: возможно сделать карту какой-либо области земной поверхности, например, карту полушария, но невозможно составить единую (плоскую и без разрывов) карту всей её поверхности.\n",
    "- Любая двумерная поверхность без края является примером двумерного многообразия (сфера, тор, крендель, …).\n",
    "- Лента Мёбиуса — это пример двумерного неориентируемого многообразия с краем.\n",
    "\n",
    "<img src='https://raw.githubusercontent.com/ryndovaira-org/data_science_notes/main/images/topology_division_overview.webp' width=800/>"
   ]
  },
  {
   "cell_type": "markdown",
   "metadata": {},
   "source": [
    "# Тензор\n",
    "\n",
    "В математике тензор — это алгебраический объект, описывающий полилинейную связь между наборами алгебраических объектов, связанных с векторным пространством. Тензоры могут отображаться между различными объектами, такими как векторы, скаляры и даже другие тензоры. \n",
    "\n",
    "Существует много типов тензоров, включая скаляры и векторы (самые простые тензоры), двойственные векторы, полилинейные отображения между векторными пространствами и даже некоторые операции, такие как скалярное произведение.\n",
    "\n",
    "Тензоры определяются независимо от какого-либо базиса, хотя на них часто ссылаются их компоненты в базисе, связанном с конкретной системой координат.\n",
    "\n",
    "<img src='https://raw.githubusercontent.com/ryndovaira-org/data_science_notes/main/images/scalar_vector_matrix_tensor.png' width=700/>\n",
    "\n",
    "<img src='https://raw.githubusercontent.com/ryndovaira-org/data_science_notes/main/images/pytorch_tensors.png' width=700/>"
   ]
  },
  {
   "cell_type": "markdown",
   "metadata": {},
   "source": [
    "# Тензорный анализ\n",
    "\n",
    "**Tensor calculus**, **tensor analysis**, or **Ricci calculus** является расширением векторного исчисления на тензорные поля (тензоры, например, в пространстве-времени).\n",
    "\n",
    "Разработанная Грегорио Риччи-Курбастро и его учеником Туллио Леви-Чивитой, **использовалась Альбертом Эйнштейном для разработки своей общей теории относительности**. \n",
    "\n",
    "TODO\n",
    "\n",
    "В отличие от исчисления бесконечно малых, тензорное исчисление позволяет представлять уравнения физики в форме, не зависящей от выбора координат на многообразии."
   ]
  },
  {
   "cell_type": "markdown",
   "metadata": {
    "pycharm": {
     "name": "#%% md\n"
    }
   },
   "source": [
    "[Tensor calculus](https://en.wikipedia.org/wiki/Tensor_calculus)\n",
    "\n",
    "[Тензорный анализ](https://ru.wikipedia.org/wiki/%D0%A2%D0%B5%D0%BD%D0%B7%D0%BE%D1%80%D0%BD%D1%8B%D0%B9_%D0%B0%D0%BD%D0%B0%D0%BB%D0%B8%D0%B7)\n",
    "\n",
    "[Многообразие](https://ru.wikipedia.org/wiki/%D0%9C%D0%BD%D0%BE%D0%B3%D0%BE%D0%BE%D0%B1%D1%80%D0%B0%D0%B7%D0%B8%D0%B5)\n",
    "\n",
    "[Manifold](https://en.wikipedia.org/wiki/Manifold)\n",
    "\n",
    "[Евклидово пространство](https://ru.wikipedia.org/wiki/%D0%95%D0%B2%D0%BA%D0%BB%D0%B8%D0%B4%D0%BE%D0%B2%D0%BE_%D0%BF%D1%80%D0%BE%D1%81%D1%82%D1%80%D0%B0%D0%BD%D1%81%D1%82%D0%B2%D0%BE)\n",
    "\n",
    "[Euclidean space](https://en.wikipedia.org/wiki/Euclidean_space)\n",
    "\n",
    "[An Introduction to Topology](https://kevinbinz.com/2017/10/13/topology/)\n",
    "\n",
    "[What is Tensor?](https://hkilter.com/index.php?title=What_is_Tensor%3F)\n",
    "\n",
    "[Tensors Introduction](https://www.javatpoint.com/pytorch-tensors)"
   ]
  }
 ],
 "metadata": {
  "kernelspec": {
   "display_name": "Python [conda env:data-science-course] *",
   "language": "python",
   "name": "conda-env-data-science-course-py"
  },
  "language_info": {
   "codemirror_mode": {
    "name": "ipython",
    "version": 3
   },
   "file_extension": ".py",
   "mimetype": "text/x-python",
   "name": "python",
   "nbconvert_exporter": "python",
   "pygments_lexer": "ipython3",
   "version": "3.10.9"
  }
 },
 "nbformat": 4,
 "nbformat_minor": 4
}
