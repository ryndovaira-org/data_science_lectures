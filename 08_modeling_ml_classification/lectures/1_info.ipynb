{
 "cells": [
  {
   "cell_type": "markdown",
   "metadata": {
    "jupyter": {
     "outputs_hidden": true
    }
   },
   "source": [
    "# Классификация (Classification)"
   ]
  },
  {
   "cell_type": "markdown",
   "metadata": {},
   "source": [
    "---\n",
    "\n",
    "**Источники:**\n",
    "\n",
    "[]()\n",
    "[]()\n",
    "[]()\n",
    "[]()\n",
    "[]()\n",
    "[]()\n",
    "[]()\n",
    "\n",
    "---"
   ]
  },
  {
   "cell_type": "markdown",
   "metadata": {},
   "source": [
    "---\n",
    "\n",
    "**Тип**:\n",
    "\n",
    "Обучение с учителем (supervised learning).\n",
    "\n",
    "---\n",
    "\n",
    "**Примеры использования**:\n",
    "\n",
    "- Классификация вида заболевания (дифференциальная диагностика)\n",
    "- Определение наиболее подходящего лекарства\n",
    "- Предсказание месторождений полезных ископаемых\n",
    "- Оценивание кредитоспособности\n",
    "- Классификация документов\n",
    "- Детектирование спама\n",
    "- Предсказание оттока клиентов\n",
    "\n",
    "---\n",
    "\n",
    "**Дано**:\n",
    "\n",
    "Признаки (features).\n",
    "\n",
    "Примеры:\n",
    "- возраст\n",
    "- площадь\n",
    "- температура тела\n",
    "- средний доход\n",
    "- объем\n",
    "- цвет\n",
    "- число покупок\n",
    "\n",
    "---\n",
    "\n",
    "**Результат**:\n",
    "\n",
    "Действительное число или числовой вектор.\n",
    "\n",
    "Примеры:\n",
    "- стоимость дома\n",
    "- количество выделяемого углекислого газа\n",
    "- доход клиента\n",
    "- рост человека\n",
    "\n",
    "---\n",
    "\n",
    "**Модели:**\n",
    "\n",
    "- Логистическая регрессия (Logistic regression)\n",
    "- Метод k-ближайших соседей (k-nearest neighbors, KNNs)\n",
    "- Метод опорных векторов (Support-vector machine, SVM)\n",
    "- Дерево решений (Decision tree)\n",
    "- Наивный байесовский классификатор (Naive Bayes classifier)\n",
    "- XGBoost\n",
    "- Random Forest\n",
    "    \n",
    "---\n",
    "\n",
    "<img src=\"images/classification_vs_regression.png\" width=500 height=500/>\n",
    "---\n",
    "\n",
    "**Пакеты:**\n",
    "\n",
    "[sklearn.linear_model.LogisticRegression](https://scikit-learn.org/stable/modules/generated/sklearn.linear_model.LogisticRegression.html)\n",
    "\n",
    "[sklearn.neighbors.KNeighborsClassifier](https://scikit-learn.org/stable/modules/generated/sklearn.neighbors.KNeighborsClassifier.html#sklearn.neighbors.KNeighborsClassifier)\n",
    "\n",
    "[sklearn.svm.SVC](https://scikit-learn.org/stable/modules/generated/sklearn.svm.SVC.html)\n",
    "\n",
    "[sklearn.tree.DecisionTreeClassifier](https://scikit-learn.org/stable/modules/generated/sklearn.tree.DecisionTreeClassifier.html#sklearn.tree.DecisionTreeClassifier)\n",
    "\n",
    "[sklearn.naive_bayes.GaussianNB](https://scikit-learn.org/stable/modules/generated/sklearn.naive_bayes.GaussianNB.html)\n",
    "\n",
    "[sklearn.ensemble.RandomForestRegressor](https://scikit-learn.org/stable/modules/generated/sklearn.ensemble.RandomForestRegressor.html)\n",
    "\n",
    "[xgboost.XGBRegressor](https://xgboost.readthedocs.io/en/latest/python/python_api.html#module-xgboost.sklearn)\n",
    "\n",
    "---"
   ]
  }
 ],
 "metadata": {
  "kernelspec": {
   "display_name": "Python [conda env:LevelUp_DataScience] *",
   "language": "python",
   "name": "conda-env-LevelUp_DataScience-py"
  },
  "language_info": {
   "codemirror_mode": {
    "name": "ipython",
    "version": 3
   },
   "file_extension": ".py",
   "mimetype": "text/x-python",
   "name": "python",
   "nbconvert_exporter": "python",
   "pygments_lexer": "ipython3",
   "version": "3.8.3"
  }
 },
 "nbformat": 4,
 "nbformat_minor": 4
}
