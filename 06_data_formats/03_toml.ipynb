{
 "cells": [
  {
   "cell_type": "markdown",
   "id": "bbba9bda-a522-4f3e-a7ac-51c1c27371a4",
   "metadata": {},
   "source": [
    "# TOML"
   ]
  },
  {
   "cell_type": "code",
   "execution_count": null,
   "id": "157a34e0-b7af-4446-918a-974ad01fb3cd",
   "metadata": {},
   "outputs": [],
   "source": []
  },
  {
   "cell_type": "markdown",
   "id": "30beb197-1fa0-48cb-94e3-184b2ea460ef",
   "metadata": {},
   "source": [
    "---\n",
    "\n",
    "[]()\n",
    "\n",
    "[]()\n",
    "\n",
    "[]()\n",
    "\n",
    "[]()\n",
    "\n",
    "[]()\n",
    "\n",
    "[]()"
   ]
  }
 ],
 "metadata": {
  "kernelspec": {
   "display_name": "Python [conda env:data-science-course] *",
   "language": "python",
   "name": "conda-env-data-science-course-py"
  },
  "language_info": {
   "codemirror_mode": {
    "name": "ipython",
    "version": 3
   },
   "file_extension": ".py",
   "mimetype": "text/x-python",
   "name": "python",
   "nbconvert_exporter": "python",
   "pygments_lexer": "ipython3",
   "version": "3.10.9"
  }
 },
 "nbformat": 4,
 "nbformat_minor": 5
}
