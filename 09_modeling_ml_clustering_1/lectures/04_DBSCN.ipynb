{
 "cells": [
  {
   "cell_type": "markdown",
   "metadata": {},
   "source": [
    "# Density-based spatial clustering of applications with noise (DBSCAN) / Основанная на плотности пространственная кластеризация для приложений с шумами"
   ]
  },
  {
   "cell_type": "markdown",
   "metadata": {},
   "source": [
    "---\n",
    "\n",
    "**Источники:**\n",
    "\n",
    "\n",
    "[Density-based spatial clustering of applications with noise (DBSCAN)](https://en.wikipedia.org/wiki/DBSCAN)\n",
    "\n",
    "[Основанная на плотности пространственная кластеризация для приложений с шумами](https://ru.wikipedia.org/wiki/DBSCAN)\n",
    "\n",
    "[DBSCAN](https://scikit-learn.org/stable/modules/clustering.html#dbscan)\n",
    "\n",
    "[Интересные алгоритмы кластеризации, часть вторая: DBSCAN](https://habr.com/ru/post/322034/)\n",
    "\n",
    "[]()\n",
    "\n",
    "[]()\n",
    "\n",
    "[]()\n",
    "\n",
    "[]()\n",
    "\n",
    "[]()\n",
    "\n",
    "---"
   ]
  },
  {
   "cell_type": "markdown",
   "metadata": {},
   "source": [
    "## Подготовка окружения"
   ]
  },
  {
   "cell_type": "code",
   "execution_count": 1,
   "metadata": {
    "collapsed": false,
    "jupyter": {
     "outputs_hidden": false
    },
    "pycharm": {
     "name": "#%%\n"
    }
   },
   "outputs": [],
   "source": [
    "# ВНИМАНИЕ: необходимо удостовериться, что виртуальная среда выбрана правильно!\n",
    "\n",
    "# Для MacOS/Ubuntu\n",
    "# !which pip\n",
    "\n",
    "# Для Windows\n",
    "# !where pip"
   ]
  },
  {
   "cell_type": "code",
   "execution_count": 2,
   "metadata": {
    "collapsed": false,
    "jupyter": {
     "outputs_hidden": false
    },
    "pycharm": {
     "name": "#%%\n"
    }
   },
   "outputs": [],
   "source": [
    "# !conda install matplotlib numpy scikit-learn seaborn -y"
   ]
  },
  {
   "cell_type": "code",
   "execution_count": 3,
   "metadata": {
    "collapsed": false,
    "jupyter": {
     "outputs_hidden": false
    },
    "pycharm": {
     "name": "#%%\n"
    }
   },
   "outputs": [],
   "source": [
    "# !conda install basemap matplotlib -y"
   ]
  },
  {
   "cell_type": "code",
   "execution_count": 4,
   "metadata": {
    "collapsed": false,
    "jupyter": {
     "outputs_hidden": false
    },
    "pycharm": {
     "name": "#%%\n"
    }
   },
   "outputs": [],
   "source": [
    "# !conda install -c conda-forge umap-learn -y"
   ]
  },
  {
   "cell_type": "code",
   "execution_count": 5,
   "metadata": {
    "collapsed": false,
    "jupyter": {
     "outputs_hidden": false
    },
    "pycharm": {
     "name": "#%%\n"
    }
   },
   "outputs": [
    {
     "data": {
      "text/plain": [
       "'1.20.2'"
      ]
     },
     "execution_count": 5,
     "metadata": {},
     "output_type": "execute_result"
    }
   ],
   "source": [
    "import numpy as np\n",
    "\n",
    "np.__version__"
   ]
  },
  {
   "cell_type": "code",
   "execution_count": 6,
   "metadata": {
    "collapsed": false,
    "jupyter": {
     "outputs_hidden": false
    },
    "pycharm": {
     "name": "#%%\n"
    }
   },
   "outputs": [
    {
     "data": {
      "text/plain": [
       "'1.2.4'"
      ]
     },
     "execution_count": 6,
     "metadata": {},
     "output_type": "execute_result"
    }
   ],
   "source": [
    "import pandas as pd\n",
    "\n",
    "pd.__version__"
   ]
  },
  {
   "cell_type": "code",
   "execution_count": 7,
   "metadata": {
    "collapsed": false,
    "jupyter": {
     "outputs_hidden": false
    },
    "pycharm": {
     "name": "#%%\n"
    }
   },
   "outputs": [
    {
     "data": {
      "text/plain": [
       "'3.3.4'"
      ]
     },
     "execution_count": 7,
     "metadata": {},
     "output_type": "execute_result"
    }
   ],
   "source": [
    "import matplotlib\n",
    "import matplotlib.pyplot as plt\n",
    "\n",
    "matplotlib.__version__"
   ]
  },
  {
   "cell_type": "code",
   "execution_count": 8,
   "metadata": {
    "collapsed": false,
    "jupyter": {
     "outputs_hidden": false
    },
    "pycharm": {
     "name": "#%%\n"
    }
   },
   "outputs": [
    {
     "data": {
      "text/plain": [
       "'0.11.1'"
      ]
     },
     "execution_count": 8,
     "metadata": {},
     "output_type": "execute_result"
    }
   ],
   "source": [
    "import seaborn as sns\n",
    "\n",
    "sns.__version__"
   ]
  },
  {
   "cell_type": "code",
   "execution_count": 9,
   "metadata": {
    "collapsed": false,
    "jupyter": {
     "outputs_hidden": false
    },
    "pycharm": {
     "name": "#%%\n"
    }
   },
   "outputs": [
    {
     "data": {
      "text/plain": [
       "'0.5.1'"
      ]
     },
     "execution_count": 9,
     "metadata": {},
     "output_type": "execute_result"
    }
   ],
   "source": [
    "import umap\n",
    "from umap import UMAP\n",
    "\n",
    "umap.__version__"
   ]
  },
  {
   "cell_type": "code",
   "execution_count": 10,
   "metadata": {
    "collapsed": false,
    "jupyter": {
     "outputs_hidden": false
    },
    "pycharm": {
     "name": "#%%\n"
    }
   },
   "outputs": [
    {
     "data": {
      "text/plain": [
       "'0.24.2'"
      ]
     },
     "execution_count": 10,
     "metadata": {},
     "output_type": "execute_result"
    }
   ],
   "source": [
    "import sklearn\n",
    "\n",
    "from sklearn.decomposition import PCA\n",
    "\n",
    "from sklearn.preprocessing import QuantileTransformer\n",
    "\n",
    "sklearn.__version__"
   ]
  },
  {
   "cell_type": "markdown",
   "metadata": {},
   "source": [
    "## Описание\n",
    "\n",
    "DBSCAN — это алгоритм кластеризации данных, который предложили Маритин Эстер, Ганс-Петер Кригель, Ёрг Сандер и Сяовэй Су в 1996.\n",
    "\n",
    "**Подходит для данных, содержащих кластеры одинаковой плотности.**\n",
    "\n",
    "Это алгоритм кластеризации, **основанной на плотности** — если дан набор точек в некотором пространстве, алгоритм **группирует точки, которые тесно расположены** (точки со многими близкими соседями), **помечая как выбросы** точки, которые находятся одиноко в областях с малой плотностью (ближайшие соседи которых лежат далеко).\n",
    "\n",
    "**DBSCAN является одним из наиболее часто используемых алгоритмов кластеризации, и наиболее часто упоминается в научной литературе.**\n",
    "\n",
    "В 2014 алгоритм получил премию \"проверено временем (test of time)\" (премия даётся алгоритмам, которые получили существенное внимание в теории и практике) на ведущей конференции по интеллектуальному анализу данных.\n",
    "\n",
    "\n",
    "Самые важные гиперпараметры [sklearn.cluster.DBSCAN](https://scikit-learn.org/stable/modules/generated/sklearn.cluster.DBSCAN.html):\n",
    "\n",
    "- **`eps (default=0.5)`** - максимальное расстояние между двумя примерами (samples), чтобы один считался соседним с другим. Это не максимальная граница расстояний до точек в кластере. Это наиболее важный параметр DBSCAN, который нужно выбрать в соответствии с набором данных и функцией расстояния (`metric`).\n",
    "\n",
    "- **`min_samples (default=5)`** - количество примеров (samples) или общий вес в окрестности точки, которая будет считаться базовой точкой. Сюда входит и сама точка.\n",
    "\n",
    "Любая задача интеллектуальной обработки данных имеет проблему параметров. \n",
    "\n",
    "Любой параметр специфично влияет на алгоритм. Для алгоритма DBSCAN нужны параметры `eps`  и `min_samples`.\n",
    "\n",
    "**В идеале, значение `eps`  определяется решаемой задачей (например, физические расстояния), а `min_samples` определяет тогда минимальный желаемый размер кластера.**"
   ]
  },
  {
   "cell_type": "markdown",
   "metadata": {},
   "source": [
    "### Рекомендации по выбору гиперпараметров `eps`  и `min_samples`\n",
    "\n",
    "TODO"
   ]
  },
  {
   "cell_type": "markdown",
   "metadata": {},
   "source": [
    "### Преимущества\n",
    "\n",
    "- DBSCAN **не требует указать число кластеров** в данных априори в отличие от метода k-средних.\n",
    "\n",
    "- DBSCAN может найти **кластеры произвольной формы**. \n",
    "    - DBSCAN может найти даже кластеры полностью окружённые (но не связанные с) другими кластерами.\n",
    "    - Благодаря параметру `min_samples` уменьшается так называемый эффект одной связи (связь различных кластеров тонкой линией точек).\n",
    "\n",
    "\n",
    "- DBSCAN имеет понятие шума и **устойчив к выбросам**.\n",
    "\n",
    "- DBSCAN требует лишь двух параметров и большей частью **нечувствителен к порядку точек** в наборе данных.\n",
    "    - Однако, точки, находящиеся на границе двух различных кластеров могут оказаться в другом кластере, если изменить порядок точек, а назначение кластеров единственно с точностью до [изоморфизма](https://ru.wikipedia.org/wiki/%D0%98%D0%B7%D0%BE%D0%BC%D0%BE%D1%80%D1%84%D0%B8%D0%B7%D0%BC).\n",
    "\n",
    "\n",
    "- DBSCAN разработан для применения с базами данных, которые позволяют ускорить запросы в диапазоне значений, например, с помощью [R*-дерева](https://ru.wikipedia.org/wiki/R*-%D0%B4%D0%B5%D1%80%D0%B5%D0%B2%D0%BE).\n",
    "\n",
    "- Параметры `min_samples` и `eps`  могут быть установлены экспертами в рассматриваемой области, если данные хорошо понимаются."
   ]
  },
  {
   "cell_type": "markdown",
   "metadata": {},
   "source": [
    "### Недостатки\n",
    "\n",
    "- DBSCAN **не полностью однозначен — краевые точки, которые могут быть достигнуты из более чем одного кластера, могут принадлежать любому из этих кластеров, что зависит от порядка просмотра точек**.\n",
    "    - Для большинства наборов данных эти ситуации возникают редко и имеют малое влияние на результат кластеризации — основные точки и шум DBSCAN обрабатывает однозначно. \n",
    "    - Существует версия DBSCAN, которая трактует краевые точки как шум и тем самым достигается полностью однозначный результат, а также более согласованная статистическая интерпретация связных по плотности компонент.\n",
    "\n",
    "- Качество DBSCAN **зависит от измерения расстояния (`metric`)**.\n",
    "    - Наиболее часто используемой метрикой расстояний является евклидова метрика. \n",
    "    - Особенно для кластеризации **данных высокой размерности евклидова метрика может оказаться почти бесполезной** ввиду так называемого \"[проклятия размерности](https://ru.wikipedia.org/wiki/%D0%9F%D1%80%D0%BE%D0%BA%D0%BB%D1%8F%D1%82%D0%B8%D0%B5_%D1%80%D0%B0%D0%B7%D0%BC%D0%B5%D1%80%D0%BD%D0%BE%D1%81%D1%82%D0%B8)\", что делает трудным делом нахождение подходящего значения `eps`. \n",
    "    - Этот эффект, однако, присутствует в любом другом алгоритме, основанном на евклидовом расстоянии.\n",
    "\n",
    "- DBSCAN не может хорошо кластеризовать наборы данных **с большой разницей в плотности**, поскольку не удается выбрать приемлемую для всех кластеров комбинацию `min_samples` и `eps`.\n",
    "\n",
    "- Если данные и масштаб не вполне хорошо поняты, **выбор осмысленного порога расстояния `eps`  может оказаться трудным**."
   ]
  },
  {
   "cell_type": "markdown",
   "metadata": {},
   "source": [
    "## Загрузка данных\n",
    "\n",
    "[Источник (custDatasets)](https://www.kaggle.com/gangliu/custdatasets)."
   ]
  },
  {
   "cell_type": "code",
   "execution_count": 34,
   "metadata": {
    "collapsed": false,
    "jupyter": {
     "outputs_hidden": false
    },
    "pycharm": {
     "name": "#%%\n"
    }
   },
   "outputs": [
    {
     "data": {
      "text/html": [
       "<div>\n",
       "<style scoped>\n",
       "    .dataframe tbody tr th:only-of-type {\n",
       "        vertical-align: middle;\n",
       "    }\n",
       "\n",
       "    .dataframe tbody tr th {\n",
       "        vertical-align: top;\n",
       "    }\n",
       "\n",
       "    .dataframe thead th {\n",
       "        text-align: right;\n",
       "    }\n",
       "</style>\n",
       "<table border=\"1\" class=\"dataframe\">\n",
       "  <thead>\n",
       "    <tr style=\"text-align: right;\">\n",
       "      <th></th>\n",
       "      <th>Age</th>\n",
       "      <th>Edu</th>\n",
       "      <th>Years Employed</th>\n",
       "      <th>Income</th>\n",
       "      <th>Card Debt</th>\n",
       "      <th>Other Debt</th>\n",
       "      <th>Defaulted</th>\n",
       "      <th>Address</th>\n",
       "      <th>DebtIncomeRatio</th>\n",
       "    </tr>\n",
       "    <tr>\n",
       "      <th>Customer Id</th>\n",
       "      <th></th>\n",
       "      <th></th>\n",
       "      <th></th>\n",
       "      <th></th>\n",
       "      <th></th>\n",
       "      <th></th>\n",
       "      <th></th>\n",
       "      <th></th>\n",
       "      <th></th>\n",
       "    </tr>\n",
       "  </thead>\n",
       "  <tbody>\n",
       "    <tr>\n",
       "      <th>1</th>\n",
       "      <td>41</td>\n",
       "      <td>2</td>\n",
       "      <td>6</td>\n",
       "      <td>19</td>\n",
       "      <td>0.124</td>\n",
       "      <td>1.073</td>\n",
       "      <td>0.0</td>\n",
       "      <td>NBA001</td>\n",
       "      <td>6.3</td>\n",
       "    </tr>\n",
       "    <tr>\n",
       "      <th>2</th>\n",
       "      <td>47</td>\n",
       "      <td>1</td>\n",
       "      <td>26</td>\n",
       "      <td>100</td>\n",
       "      <td>4.582</td>\n",
       "      <td>8.218</td>\n",
       "      <td>0.0</td>\n",
       "      <td>NBA021</td>\n",
       "      <td>12.8</td>\n",
       "    </tr>\n",
       "    <tr>\n",
       "      <th>3</th>\n",
       "      <td>33</td>\n",
       "      <td>2</td>\n",
       "      <td>10</td>\n",
       "      <td>57</td>\n",
       "      <td>6.111</td>\n",
       "      <td>5.802</td>\n",
       "      <td>1.0</td>\n",
       "      <td>NBA013</td>\n",
       "      <td>20.9</td>\n",
       "    </tr>\n",
       "    <tr>\n",
       "      <th>4</th>\n",
       "      <td>29</td>\n",
       "      <td>2</td>\n",
       "      <td>4</td>\n",
       "      <td>19</td>\n",
       "      <td>0.681</td>\n",
       "      <td>0.516</td>\n",
       "      <td>0.0</td>\n",
       "      <td>NBA009</td>\n",
       "      <td>6.3</td>\n",
       "    </tr>\n",
       "    <tr>\n",
       "      <th>5</th>\n",
       "      <td>47</td>\n",
       "      <td>1</td>\n",
       "      <td>31</td>\n",
       "      <td>253</td>\n",
       "      <td>9.308</td>\n",
       "      <td>8.908</td>\n",
       "      <td>0.0</td>\n",
       "      <td>NBA008</td>\n",
       "      <td>7.2</td>\n",
       "    </tr>\n",
       "    <tr>\n",
       "      <th>...</th>\n",
       "      <td>...</td>\n",
       "      <td>...</td>\n",
       "      <td>...</td>\n",
       "      <td>...</td>\n",
       "      <td>...</td>\n",
       "      <td>...</td>\n",
       "      <td>...</td>\n",
       "      <td>...</td>\n",
       "      <td>...</td>\n",
       "    </tr>\n",
       "    <tr>\n",
       "      <th>846</th>\n",
       "      <td>27</td>\n",
       "      <td>1</td>\n",
       "      <td>5</td>\n",
       "      <td>26</td>\n",
       "      <td>0.548</td>\n",
       "      <td>1.220</td>\n",
       "      <td>NaN</td>\n",
       "      <td>NBA007</td>\n",
       "      <td>6.8</td>\n",
       "    </tr>\n",
       "    <tr>\n",
       "      <th>847</th>\n",
       "      <td>28</td>\n",
       "      <td>2</td>\n",
       "      <td>7</td>\n",
       "      <td>34</td>\n",
       "      <td>0.359</td>\n",
       "      <td>2.021</td>\n",
       "      <td>0.0</td>\n",
       "      <td>NBA002</td>\n",
       "      <td>7.0</td>\n",
       "    </tr>\n",
       "    <tr>\n",
       "      <th>848</th>\n",
       "      <td>25</td>\n",
       "      <td>4</td>\n",
       "      <td>0</td>\n",
       "      <td>18</td>\n",
       "      <td>2.802</td>\n",
       "      <td>3.210</td>\n",
       "      <td>1.0</td>\n",
       "      <td>NBA001</td>\n",
       "      <td>33.4</td>\n",
       "    </tr>\n",
       "    <tr>\n",
       "      <th>849</th>\n",
       "      <td>32</td>\n",
       "      <td>1</td>\n",
       "      <td>12</td>\n",
       "      <td>28</td>\n",
       "      <td>0.116</td>\n",
       "      <td>0.696</td>\n",
       "      <td>0.0</td>\n",
       "      <td>NBA012</td>\n",
       "      <td>2.9</td>\n",
       "    </tr>\n",
       "    <tr>\n",
       "      <th>850</th>\n",
       "      <td>52</td>\n",
       "      <td>1</td>\n",
       "      <td>16</td>\n",
       "      <td>64</td>\n",
       "      <td>1.866</td>\n",
       "      <td>3.638</td>\n",
       "      <td>0.0</td>\n",
       "      <td>NBA025</td>\n",
       "      <td>8.6</td>\n",
       "    </tr>\n",
       "  </tbody>\n",
       "</table>\n",
       "<p>850 rows × 9 columns</p>\n",
       "</div>"
      ],
      "text/plain": [
       "             Age  Edu  Years Employed  Income  Card Debt  Other Debt  \\\n",
       "Customer Id                                                            \n",
       "1             41    2               6      19      0.124       1.073   \n",
       "2             47    1              26     100      4.582       8.218   \n",
       "3             33    2              10      57      6.111       5.802   \n",
       "4             29    2               4      19      0.681       0.516   \n",
       "5             47    1              31     253      9.308       8.908   \n",
       "...          ...  ...             ...     ...        ...         ...   \n",
       "846           27    1               5      26      0.548       1.220   \n",
       "847           28    2               7      34      0.359       2.021   \n",
       "848           25    4               0      18      2.802       3.210   \n",
       "849           32    1              12      28      0.116       0.696   \n",
       "850           52    1              16      64      1.866       3.638   \n",
       "\n",
       "             Defaulted Address  DebtIncomeRatio  \n",
       "Customer Id                                      \n",
       "1                  0.0  NBA001              6.3  \n",
       "2                  0.0  NBA021             12.8  \n",
       "3                  1.0  NBA013             20.9  \n",
       "4                  0.0  NBA009              6.3  \n",
       "5                  0.0  NBA008              7.2  \n",
       "...                ...     ...              ...  \n",
       "846                NaN  NBA007              6.8  \n",
       "847                0.0  NBA002              7.0  \n",
       "848                1.0  NBA001             33.4  \n",
       "849                0.0  NBA012              2.9  \n",
       "850                0.0  NBA025              8.6  \n",
       "\n",
       "[850 rows x 9 columns]"
      ]
     },
     "execution_count": 34,
     "metadata": {},
     "output_type": "execute_result"
    }
   ],
   "source": [
    "df = pd.read_csv('./../../data/Cust_Segmentation.csv', index_col=0)\n",
    "df"
   ]
  },
  {
   "cell_type": "markdown",
   "metadata": {},
   "source": [
    "## Анализ данных\n",
    "\n",
    "См. лекцию [02_pca](../../08_modeling_ml_demensionality_reduction/lectures/02_pca.ipynb)"
   ]
  },
  {
   "cell_type": "markdown",
   "metadata": {},
   "source": [
    "## Подготовка данных"
   ]
  },
  {
   "cell_type": "code",
   "execution_count": 35,
   "metadata": {
    "collapsed": false,
    "jupyter": {
     "outputs_hidden": false
    },
    "pycharm": {
     "name": "#%%\n"
    }
   },
   "outputs": [
    {
     "data": {
      "text/plain": [
       "0"
      ]
     },
     "execution_count": 35,
     "metadata": {},
     "output_type": "execute_result"
    }
   ],
   "source": [
    "df['Defaulted'].fillna(0, inplace=True)\n",
    "df['Defaulted'] = df['Defaulted'].astype(int)\n",
    "df['Defaulted'].isna().sum()"
   ]
  },
  {
   "cell_type": "code",
   "execution_count": 36,
   "metadata": {
    "collapsed": false,
    "jupyter": {
     "outputs_hidden": false
    },
    "pycharm": {
     "name": "#%%\n"
    }
   },
   "outputs": [
    {
     "data": {
      "image/png": "[encoded data removed]",
      "text/plain": [
       "<Figure size 1080x360 with 9 Axes>"
      ]
     },
     "metadata": {
      "needs_background": "light"
     },
     "output_type": "display_data"
    }
   ],
   "source": [
    "num_cols = df.select_dtypes(include=np.number).columns.tolist()\n",
    "norm_trans = QuantileTransformer(output_distribution='normal', n_quantiles=100)\n",
    "df_norm = pd.DataFrame(norm_trans.fit_transform(df[num_cols]), columns=num_cols)\n",
    "df_norm.hist(bins=30, figsize=(15, 5))\n",
    "plt.tight_layout()"
   ]
  },
  {
   "cell_type": "markdown",
   "metadata": {},
   "source": [
    "## 3-D PCA"
   ]
  },
  {
   "cell_type": "code",
   "execution_count": 14,
   "metadata": {
    "collapsed": false,
    "jupyter": {
     "outputs_hidden": false
    },
    "pycharm": {
     "name": "#%%\n"
    }
   },
   "outputs": [],
   "source": [
    "pca_3 = PCA(n_components=3)\n",
    "df_pca_3 = pd.DataFrame(pca_3.fit_transform(df_norm))"
   ]
  },
  {
   "cell_type": "code",
   "execution_count": 25,
   "metadata": {
    "collapsed": false,
    "jupyter": {
     "outputs_hidden": false
    },
    "pycharm": {
     "name": "#%%\n"
    }
   },
   "outputs": [
    {
     "data": {
      "application/vnd.jupyter.widget-view+json": {
       "model_id": "d60b81c57b2b4f74b076d53cedcc9468",
       "version_major": 2,
       "version_minor": 0
      },
      "text/plain": [
       "Canvas(toolbar=Toolbar(toolitems=[('Home', 'Reset original view', 'home', 'home'), ('Back', 'Back to previous …"
      ]
     },
     "metadata": {},
     "output_type": "display_data"
    },
    {
     "data": {
      "text/plain": [
       "<mpl_toolkits.mplot3d.art3d.Path3DCollection at 0x7f57152a0e20>"
      ]
     },
     "execution_count": 25,
     "metadata": {},
     "output_type": "execute_result"
    }
   ],
   "source": [
    "%matplotlib widget\n",
    "from mpl_toolkits.mplot3d.axes3d import Axes3D\n",
    "fig = plt.figure(figsize=(5, 5))\n",
    "ax = Axes3D(fig, azim=-135, elev=35)\n",
    "\n",
    "\n",
    "ax.scatter(df_pca_3[0], df_pca_3[1], df_pca_3[2],\n",
    "           alpha=0.3)"
   ]
  },
  {
   "cell_type": "code",
   "execution_count": 26,
   "metadata": {
    "collapsed": false,
    "jupyter": {
     "outputs_hidden": false
    },
    "pycharm": {
     "name": "#%%\n"
    }
   },
   "outputs": [],
   "source": [
    "%matplotlib inline"
   ]
  },
  {
   "cell_type": "markdown",
   "metadata": {},
   "source": [
    "## 3-D UMAP"
   ]
  },
  {
   "cell_type": "code",
   "execution_count": 17,
   "metadata": {
    "collapsed": false,
    "jupyter": {
     "outputs_hidden": false
    },
    "pycharm": {
     "name": "#%%\n"
    }
   },
   "outputs": [],
   "source": [
    "umap_3 = UMAP(n_components=3)\n",
    "df_umap_3 = pd.DataFrame(umap_3.fit_transform(df_norm))"
   ]
  },
  {
   "cell_type": "code",
   "execution_count": 27,
   "metadata": {
    "collapsed": false,
    "jupyter": {
     "outputs_hidden": false
    },
    "pycharm": {
     "name": "#%%\n"
    }
   },
   "outputs": [
    {
     "data": {
      "application/vnd.jupyter.widget-view+json": {
       "model_id": "09b8f26d2eac4d93bb602e8951e55e16",
       "version_major": 2,
       "version_minor": 0
      },
      "text/plain": [
       "Canvas(toolbar=Toolbar(toolitems=[('Home', 'Reset original view', 'home', 'home'), ('Back', 'Back to previous …"
      ]
     },
     "metadata": {},
     "output_type": "display_data"
    },
    {
     "data": {
      "text/plain": [
       "<mpl_toolkits.mplot3d.art3d.Path3DCollection at 0x7f5710a33040>"
      ]
     },
     "execution_count": 27,
     "metadata": {},
     "output_type": "execute_result"
    }
   ],
   "source": [
    "%matplotlib widget\n",
    "\n",
    "from mpl_toolkits.mplot3d.axes3d import Axes3D\n",
    "fig = plt.figure(figsize=(5, 5))\n",
    "ax = Axes3D(fig, azim=25, elev=35)\n",
    "\n",
    "ax.scatter(df_umap_3[0], df_umap_3[1], df_umap_3[2], alpha=0.3)"
   ]
  },
  {
   "cell_type": "code",
   "execution_count": 28,
   "metadata": {
    "collapsed": false,
    "jupyter": {
     "outputs_hidden": false
    },
    "pycharm": {
     "name": "#%%\n"
    }
   },
   "outputs": [],
   "source": [
    "%matplotlib inline"
   ]
  },
  {
   "cell_type": "markdown",
   "metadata": {},
   "source": [
    "## Построение модели"
   ]
  },
  {
   "cell_type": "code",
   "execution_count": 37,
   "metadata": {
    "collapsed": false,
    "jupyter": {
     "outputs_hidden": false
    },
    "pycharm": {
     "name": "#%%\n"
    }
   },
   "outputs": [],
   "source": [
    "from sklearn.cluster import DBSCAN"
   ]
  },
  {
   "cell_type": "code",
   "execution_count": 61,
   "metadata": {
    "collapsed": false,
    "jupyter": {
     "outputs_hidden": false
    },
    "pycharm": {
     "name": "#%%\n"
    }
   },
   "outputs": [
    {
     "data": {
      "text/plain": [
       "array([0, 1, 2, 0, 1, 1, 0, 3, 1, 0, 2, 0, 1, 1, 2, 1, 1, 0, 1, 1, 0, 0,\n",
       "       2, 1, 0, 1, 1, 1, 0, 0, 0, 0, 4, 0, 1, 0, 2, 5, 1, 0, 6, 0, 0, 0,\n",
       "       1, 0, 1, 1, 1, 0, 1, 1, 6, 1, 2, 6, 6, 0, 1, 1, 1, 1, 1, 0, 0, 1,\n",
       "       1, 6, 1, 6, 0, 0, 0, 0, 1, 1, 1, 0, 0, 0, 1, 4, 0, 1, 0, 7, 3, 0,\n",
       "       2, 4, 0, 0, 6, 6, 0, 0, 1, 1, 2, 3, 6, 0, 1, 6, 2, 1, 1, 1, 0, 0,\n",
       "       1, 3, 1, 5, 1, 0, 1, 1, 0, 1, 0, 0, 0, 0, 1, 1, 0, 0, 1, 7, 1, 1,\n",
       "       0, 0, 1, 0, 0, 1, 1, 2, 2, 3, 0, 1, 6, 0, 1, 2, 0, 0, 1, 1, 2, 1,\n",
       "       0, 1, 1, 1, 2, 2, 1, 0, 0, 1, 0, 0, 0, 1, 1, 0, 0, 1, 0, 2, 1, 5,\n",
       "       1, 1, 2, 1, 2, 0, 1, 6, 2, 0, 1, 1, 1, 0, 1, 1, 0, 4, 0, 0, 3, 1,\n",
       "       2, 3, 1, 3, 2, 1, 1, 6, 0, 1, 1, 2, 1, 1, 1, 0, 1, 6, 2, 0, 1, 1,\n",
       "       4, 0, 0, 3, 1, 1, 0, 1, 0, 6, 1, 1, 1, 1, 1, 1, 1, 4, 0, 0, 1, 1,\n",
       "       1, 1, 1, 1, 1, 1, 0, 0, 1, 0, 1, 0, 0, 2, 1, 6, 1, 1, 1, 0, 0, 2,\n",
       "       1, 6, 1, 0, 1, 1, 2, 1, 1, 0, 0, 6, 2, 2, 1, 0, 1, 1, 1, 7, 1, 0,\n",
       "       1, 1, 0, 1, 1, 0, 7, 6, 0, 1, 2, 1, 2, 1, 0, 0, 1, 1, 6, 0, 1, 1,\n",
       "       2, 1, 0, 1, 1, 0, 1, 7, 1, 4, 0, 5, 2, 0, 2, 1, 1, 1, 5, 2, 0, 1,\n",
       "       1, 0, 4, 1, 0, 6, 1, 1, 1, 0, 0, 1, 1, 2, 1, 0, 0, 0, 1, 1, 6, 0,\n",
       "       1, 1, 1, 1, 2, 0, 0, 1, 0, 2, 1, 4, 0, 1, 1, 0, 0, 1, 6, 0, 1, 6,\n",
       "       6, 7, 0, 1, 4, 0, 1, 1, 3, 1, 0, 1, 1, 0, 1, 1, 1, 2, 1, 6, 1, 0,\n",
       "       3, 0, 1, 1, 0, 1, 5, 7, 1, 2, 2, 0, 0, 1, 1, 0, 0, 6, 4, 1, 1, 6,\n",
       "       1, 1, 1, 2, 1, 0, 1, 0, 1, 6, 0, 1, 1, 1, 2, 3, 2, 0, 0, 1, 1, 1,\n",
       "       1, 0, 1, 0, 1, 2, 0, 1, 1, 1, 2, 6, 3, 7, 0, 3, 4, 1, 1, 0, 0, 2,\n",
       "       1, 1, 1, 3, 0, 1, 1, 2, 1, 0, 1, 1, 0, 4, 0, 1, 1, 6, 1, 2, 0, 1,\n",
       "       1, 0, 1, 1, 2, 6, 1, 1, 1, 0, 1, 0, 6, 6, 0, 6, 2, 4, 0, 0, 2, 0,\n",
       "       0, 2, 0, 2, 6, 3, 5, 6, 1, 1, 2, 0, 6, 0, 2, 0, 0, 6, 1, 0, 6, 2,\n",
       "       6, 1, 1, 1, 2, 0, 1, 1, 2, 1, 1, 6, 1, 0, 2, 1, 1, 1, 2, 1, 0, 3,\n",
       "       1, 0, 0, 0, 1, 1, 1, 0, 6, 1, 1, 1, 0, 2, 2, 1, 0, 1, 1, 1, 1, 2,\n",
       "       1, 6, 1, 3, 1, 2, 2, 6, 6, 2, 1, 1, 1, 2, 1, 1, 1, 0, 0, 0, 0, 2,\n",
       "       5, 1, 1, 1, 0, 1, 1, 1, 6, 2, 0, 1, 0, 0, 6, 0, 1, 1, 5, 0, 0, 2,\n",
       "       6, 2, 6, 1, 0, 1, 4, 2, 1, 1, 1, 7, 0, 0, 0, 6, 1, 1, 1, 1, 1, 0,\n",
       "       1, 0, 1, 0, 0, 4, 0, 0, 0, 4, 1, 1, 2, 0, 0, 0, 7, 0, 1, 2, 2, 1,\n",
       "       1, 0, 1, 1, 1, 1, 1, 1, 1, 6, 0, 1, 0, 0, 3, 0, 1, 1, 1, 1, 1, 1,\n",
       "       6, 0, 3, 0, 2, 0, 0, 1, 1, 6, 0, 1, 1, 1, 0, 1, 0, 6, 0, 6, 0, 2,\n",
       "       6, 1, 7, 1, 1, 6, 0, 0, 0, 0, 0, 6, 1, 0, 1, 2, 1, 1, 1, 1, 3, 0,\n",
       "       1, 6, 1, 0, 0, 1, 0, 0, 1, 1, 1, 0, 0, 0, 1, 0, 1, 2, 0, 1, 0, 1,\n",
       "       3, 0, 1, 1, 1, 0, 6, 1, 0, 1, 1, 6, 1, 0, 7, 0, 3, 4, 0, 1, 1, 6,\n",
       "       6, 1, 2, 1, 0, 1, 0, 0, 0, 7, 0, 1, 1, 1, 1, 0, 0, 1, 0, 7, 0, 1,\n",
       "       1, 2, 5, 0, 4, 0, 0, 1, 1, 1, 5, 1, 1, 1, 0, 0, 1, 6, 1, 0, 1, 6,\n",
       "       1, 0, 2, 0, 3, 1, 1, 1, 1, 4, 2, 0, 6, 1, 3, 0, 6, 0, 0, 0, 0, 3,\n",
       "       0, 1, 1, 1, 0, 0, 1, 0, 1, 1, 0, 4, 1, 1])"
      ]
     },
     "execution_count": 61,
     "metadata": {},
     "output_type": "execute_result"
    }
   ],
   "source": [
    "epsilon = 4\n",
    "minimumSamples = 5\n",
    "db = DBSCAN(eps=epsilon, min_samples=minimumSamples).fit(df_norm)\n",
    "labels = db.labels_\n",
    "labels"
   ]
  },
  {
   "cell_type": "code",
   "execution_count": 62,
   "metadata": {},
   "outputs": [
    {
     "data": {
      "text/plain": [
       "array([0, 1, 2, 3, 4, 5, 6, 7])"
      ]
     },
     "execution_count": 62,
     "metadata": {},
     "output_type": "execute_result"
    }
   ],
   "source": [
    "np.unique(labels)"
   ]
  },
  {
   "cell_type": "markdown",
   "metadata": {},
   "source": [
    "## Анализ результатов (4 кластера)"
   ]
  },
  {
   "cell_type": "markdown",
   "metadata": {},
   "source": [
    "### 3-D PCA"
   ]
  },
  {
   "cell_type": "code",
   "execution_count": 66,
   "metadata": {
    "collapsed": false,
    "jupyter": {
     "outputs_hidden": false
    },
    "pycharm": {
     "name": "#%%\n"
    }
   },
   "outputs": [
    {
     "data": {
      "application/vnd.jupyter.widget-view+json": {
       "model_id": "9ea2f1c6938449099d5940b72069c477",
       "version_major": 2,
       "version_minor": 0
      },
      "text/plain": [
       "Canvas(toolbar=Toolbar(toolitems=[('Home', 'Reset original view', 'home', 'home'), ('Back', 'Back to previous …"
      ]
     },
     "metadata": {},
     "output_type": "display_data"
    },
    {
     "data": {
      "text/plain": [
       "<mpl_toolkits.mplot3d.art3d.Path3DCollection at 0x7f5701d3c640>"
      ]
     },
     "execution_count": 66,
     "metadata": {},
     "output_type": "execute_result"
    }
   ],
   "source": [
    "%matplotlib widget\n",
    "from mpl_toolkits.mplot3d.axes3d import Axes3D\n",
    "fig = plt.figure(figsize=(5, 5))\n",
    "ax = Axes3D(fig, azim=-125, elev=35)\n",
    "\n",
    "\n",
    "ax.scatter(df_pca_3[0], df_pca_3[1], df_pca_3[2], \n",
    "           c=labels, \n",
    "           alpha=0.3, cmap='brg')"
   ]
  },
  {
   "cell_type": "code",
   "execution_count": 21,
   "metadata": {
    "collapsed": false,
    "jupyter": {
     "outputs_hidden": false
    },
    "pycharm": {
     "name": "#%%\n"
    }
   },
   "outputs": [],
   "source": [
    "%matplotlib inline"
   ]
  },
  {
   "cell_type": "markdown",
   "metadata": {},
   "source": [
    "### 3-D UMAP"
   ]
  },
  {
   "cell_type": "code",
   "execution_count": 45,
   "metadata": {
    "collapsed": false,
    "jupyter": {
     "outputs_hidden": false
    },
    "pycharm": {
     "name": "#%%\n"
    }
   },
   "outputs": [
    {
     "data": {
      "application/vnd.jupyter.widget-view+json": {
       "model_id": "ffd9a78bb9494ceb9243a02876df4496",
       "version_major": 2,
       "version_minor": 0
      },
      "text/plain": [
       "Canvas(toolbar=Toolbar(toolitems=[('Home', 'Reset original view', 'home', 'home'), ('Back', 'Back to previous …"
      ]
     },
     "metadata": {},
     "output_type": "display_data"
    },
    {
     "data": {
      "text/plain": [
       "<mpl_toolkits.mplot3d.art3d.Path3DCollection at 0x7f6f7015d7f0>"
      ]
     },
     "execution_count": 45,
     "metadata": {},
     "output_type": "execute_result"
    }
   ],
   "source": [
    "%matplotlib widget\n",
    "\n",
    "from mpl_toolkits.mplot3d.axes3d import Axes3D    \n",
    "fig = plt.figure(figsize=(5, 5))\n",
    "ax = Axes3D(fig, azim=142, elev=35)\n",
    "\n",
    "ax.scatter(df_umap_3[0], df_umap_3[1], df_umap_3[2], \n",
    "           c=labels_4, \n",
    "           alpha=0.3)"
   ]
  },
  {
   "cell_type": "code",
   "execution_count": 23,
   "metadata": {
    "collapsed": false,
    "jupyter": {
     "outputs_hidden": false
    },
    "pycharm": {
     "name": "#%%\n"
    }
   },
   "outputs": [],
   "source": [
    "%matplotlib inline"
   ]
  },
  {
   "cell_type": "markdown",
   "metadata": {},
   "source": [
    "### Анализ \"представителей\" кластеров"
   ]
  },
  {
   "cell_type": "code",
   "execution_count": 24,
   "metadata": {
    "collapsed": false,
    "jupyter": {
     "outputs_hidden": false
    },
    "pycharm": {
     "name": "#%%\n"
    }
   },
   "outputs": [
    {
     "data": {
      "text/html": [
       "<div>\n",
       "<style scoped>\n",
       "    .dataframe tbody tr th:only-of-type {\n",
       "        vertical-align: middle;\n",
       "    }\n",
       "\n",
       "    .dataframe tbody tr th {\n",
       "        vertical-align: top;\n",
       "    }\n",
       "\n",
       "    .dataframe thead th {\n",
       "        text-align: right;\n",
       "    }\n",
       "</style>\n",
       "<table border=\"1\" class=\"dataframe\">\n",
       "  <thead>\n",
       "    <tr style=\"text-align: right;\">\n",
       "      <th></th>\n",
       "      <th>Age</th>\n",
       "      <th>Edu</th>\n",
       "      <th>Years Employed</th>\n",
       "      <th>Income</th>\n",
       "      <th>Card Debt</th>\n",
       "      <th>Other Debt</th>\n",
       "      <th>Defaulted</th>\n",
       "      <th>Address</th>\n",
       "      <th>DebtIncomeRatio</th>\n",
       "      <th>Cluster_4</th>\n",
       "    </tr>\n",
       "    <tr>\n",
       "      <th>Customer Id</th>\n",
       "      <th></th>\n",
       "      <th></th>\n",
       "      <th></th>\n",
       "      <th></th>\n",
       "      <th></th>\n",
       "      <th></th>\n",
       "      <th></th>\n",
       "      <th></th>\n",
       "      <th></th>\n",
       "      <th></th>\n",
       "    </tr>\n",
       "  </thead>\n",
       "  <tbody>\n",
       "    <tr>\n",
       "      <th>1</th>\n",
       "      <td>41</td>\n",
       "      <td>2</td>\n",
       "      <td>6</td>\n",
       "      <td>19</td>\n",
       "      <td>0.124</td>\n",
       "      <td>1.073</td>\n",
       "      <td>0</td>\n",
       "      <td>NBA001</td>\n",
       "      <td>6.3</td>\n",
       "      <td>0</td>\n",
       "    </tr>\n",
       "    <tr>\n",
       "      <th>2</th>\n",
       "      <td>47</td>\n",
       "      <td>1</td>\n",
       "      <td>26</td>\n",
       "      <td>100</td>\n",
       "      <td>4.582</td>\n",
       "      <td>8.218</td>\n",
       "      <td>0</td>\n",
       "      <td>NBA021</td>\n",
       "      <td>12.8</td>\n",
       "      <td>2</td>\n",
       "    </tr>\n",
       "    <tr>\n",
       "      <th>3</th>\n",
       "      <td>33</td>\n",
       "      <td>2</td>\n",
       "      <td>10</td>\n",
       "      <td>57</td>\n",
       "      <td>6.111</td>\n",
       "      <td>5.802</td>\n",
       "      <td>1</td>\n",
       "      <td>NBA013</td>\n",
       "      <td>20.9</td>\n",
       "      <td>3</td>\n",
       "    </tr>\n",
       "    <tr>\n",
       "      <th>4</th>\n",
       "      <td>29</td>\n",
       "      <td>2</td>\n",
       "      <td>4</td>\n",
       "      <td>19</td>\n",
       "      <td>0.681</td>\n",
       "      <td>0.516</td>\n",
       "      <td>0</td>\n",
       "      <td>NBA009</td>\n",
       "      <td>6.3</td>\n",
       "      <td>0</td>\n",
       "    </tr>\n",
       "    <tr>\n",
       "      <th>5</th>\n",
       "      <td>47</td>\n",
       "      <td>1</td>\n",
       "      <td>31</td>\n",
       "      <td>253</td>\n",
       "      <td>9.308</td>\n",
       "      <td>8.908</td>\n",
       "      <td>0</td>\n",
       "      <td>NBA008</td>\n",
       "      <td>7.2</td>\n",
       "      <td>2</td>\n",
       "    </tr>\n",
       "    <tr>\n",
       "      <th>...</th>\n",
       "      <td>...</td>\n",
       "      <td>...</td>\n",
       "      <td>...</td>\n",
       "      <td>...</td>\n",
       "      <td>...</td>\n",
       "      <td>...</td>\n",
       "      <td>...</td>\n",
       "      <td>...</td>\n",
       "      <td>...</td>\n",
       "      <td>...</td>\n",
       "    </tr>\n",
       "    <tr>\n",
       "      <th>846</th>\n",
       "      <td>27</td>\n",
       "      <td>1</td>\n",
       "      <td>5</td>\n",
       "      <td>26</td>\n",
       "      <td>0.548</td>\n",
       "      <td>1.220</td>\n",
       "      <td>0</td>\n",
       "      <td>NBA007</td>\n",
       "      <td>6.8</td>\n",
       "      <td>2</td>\n",
       "    </tr>\n",
       "    <tr>\n",
       "      <th>847</th>\n",
       "      <td>28</td>\n",
       "      <td>2</td>\n",
       "      <td>7</td>\n",
       "      <td>34</td>\n",
       "      <td>0.359</td>\n",
       "      <td>2.021</td>\n",
       "      <td>0</td>\n",
       "      <td>NBA002</td>\n",
       "      <td>7.0</td>\n",
       "      <td>0</td>\n",
       "    </tr>\n",
       "    <tr>\n",
       "      <th>848</th>\n",
       "      <td>25</td>\n",
       "      <td>4</td>\n",
       "      <td>0</td>\n",
       "      <td>18</td>\n",
       "      <td>2.802</td>\n",
       "      <td>3.210</td>\n",
       "      <td>1</td>\n",
       "      <td>NBA001</td>\n",
       "      <td>33.4</td>\n",
       "      <td>3</td>\n",
       "    </tr>\n",
       "    <tr>\n",
       "      <th>849</th>\n",
       "      <td>32</td>\n",
       "      <td>1</td>\n",
       "      <td>12</td>\n",
       "      <td>28</td>\n",
       "      <td>0.116</td>\n",
       "      <td>0.696</td>\n",
       "      <td>0</td>\n",
       "      <td>NBA012</td>\n",
       "      <td>2.9</td>\n",
       "      <td>2</td>\n",
       "    </tr>\n",
       "    <tr>\n",
       "      <th>850</th>\n",
       "      <td>52</td>\n",
       "      <td>1</td>\n",
       "      <td>16</td>\n",
       "      <td>64</td>\n",
       "      <td>1.866</td>\n",
       "      <td>3.638</td>\n",
       "      <td>0</td>\n",
       "      <td>NBA025</td>\n",
       "      <td>8.6</td>\n",
       "      <td>2</td>\n",
       "    </tr>\n",
       "  </tbody>\n",
       "</table>\n",
       "<p>850 rows × 10 columns</p>\n",
       "</div>"
      ],
      "text/plain": [
       "             Age  Edu  Years Employed  Income  Card Debt  Other Debt  \\\n",
       "Customer Id                                                            \n",
       "1             41    2               6      19      0.124       1.073   \n",
       "2             47    1              26     100      4.582       8.218   \n",
       "3             33    2              10      57      6.111       5.802   \n",
       "4             29    2               4      19      0.681       0.516   \n",
       "5             47    1              31     253      9.308       8.908   \n",
       "...          ...  ...             ...     ...        ...         ...   \n",
       "846           27    1               5      26      0.548       1.220   \n",
       "847           28    2               7      34      0.359       2.021   \n",
       "848           25    4               0      18      2.802       3.210   \n",
       "849           32    1              12      28      0.116       0.696   \n",
       "850           52    1              16      64      1.866       3.638   \n",
       "\n",
       "             Defaulted Address  DebtIncomeRatio  Cluster_4  \n",
       "Customer Id                                                 \n",
       "1                    0  NBA001              6.3          0  \n",
       "2                    0  NBA021             12.8          2  \n",
       "3                    1  NBA013             20.9          3  \n",
       "4                    0  NBA009              6.3          0  \n",
       "5                    0  NBA008              7.2          2  \n",
       "...                ...     ...              ...        ...  \n",
       "846                  0  NBA007              6.8          2  \n",
       "847                  0  NBA002              7.0          0  \n",
       "848                  1  NBA001             33.4          3  \n",
       "849                  0  NBA012              2.9          2  \n",
       "850                  0  NBA025              8.6          2  \n",
       "\n",
       "[850 rows x 10 columns]"
      ]
     },
     "execution_count": 24,
     "metadata": {},
     "output_type": "execute_result"
    }
   ],
   "source": [
    "df[\"Cluster_4\"] = labels_4\n",
    "df"
   ]
  },
  {
   "cell_type": "code",
   "execution_count": 25,
   "metadata": {
    "collapsed": false,
    "jupyter": {
     "outputs_hidden": false
    },
    "pycharm": {
     "name": "#%%\n"
    }
   },
   "outputs": [
    {
     "data": {
      "text/html": [
       "<div>\n",
       "<style scoped>\n",
       "    .dataframe tbody tr th:only-of-type {\n",
       "        vertical-align: middle;\n",
       "    }\n",
       "\n",
       "    .dataframe tbody tr th {\n",
       "        vertical-align: top;\n",
       "    }\n",
       "\n",
       "    .dataframe thead th {\n",
       "        text-align: right;\n",
       "    }\n",
       "</style>\n",
       "<table border=\"1\" class=\"dataframe\">\n",
       "  <thead>\n",
       "    <tr style=\"text-align: right;\">\n",
       "      <th></th>\n",
       "      <th>Age</th>\n",
       "      <th>Edu</th>\n",
       "      <th>Years Employed</th>\n",
       "      <th>Income</th>\n",
       "      <th>Card Debt</th>\n",
       "      <th>Other Debt</th>\n",
       "      <th>Defaulted</th>\n",
       "      <th>DebtIncomeRatio</th>\n",
       "    </tr>\n",
       "    <tr>\n",
       "      <th>Cluster_4</th>\n",
       "      <th></th>\n",
       "      <th></th>\n",
       "      <th></th>\n",
       "      <th></th>\n",
       "      <th></th>\n",
       "      <th></th>\n",
       "      <th></th>\n",
       "      <th></th>\n",
       "    </tr>\n",
       "  </thead>\n",
       "  <tbody>\n",
       "    <tr>\n",
       "      <th>0</th>\n",
       "      <td>35.62</td>\n",
       "      <td>2.53</td>\n",
       "      <td>8.54</td>\n",
       "      <td>55.71</td>\n",
       "      <td>1.47</td>\n",
       "      <td>3.17</td>\n",
       "      <td>0.0</td>\n",
       "      <td>8.69</td>\n",
       "    </tr>\n",
       "    <tr>\n",
       "      <th>1</th>\n",
       "      <td>33.47</td>\n",
       "      <td>1.00</td>\n",
       "      <td>6.03</td>\n",
       "      <td>32.72</td>\n",
       "      <td>2.43</td>\n",
       "      <td>3.30</td>\n",
       "      <td>1.0</td>\n",
       "      <td>15.57</td>\n",
       "    </tr>\n",
       "    <tr>\n",
       "      <th>2</th>\n",
       "      <td>35.55</td>\n",
       "      <td>1.00</td>\n",
       "      <td>10.19</td>\n",
       "      <td>42.52</td>\n",
       "      <td>1.25</td>\n",
       "      <td>2.64</td>\n",
       "      <td>0.0</td>\n",
       "      <td>9.10</td>\n",
       "    </tr>\n",
       "    <tr>\n",
       "      <th>3</th>\n",
       "      <td>32.66</td>\n",
       "      <td>2.59</td>\n",
       "      <td>4.62</td>\n",
       "      <td>47.66</td>\n",
       "      <td>2.42</td>\n",
       "      <td>4.29</td>\n",
       "      <td>1.0</td>\n",
       "      <td>14.09</td>\n",
       "    </tr>\n",
       "  </tbody>\n",
       "</table>\n",
       "</div>"
      ],
      "text/plain": [
       "             Age   Edu  Years Employed  Income  Card Debt  Other Debt  \\\n",
       "Cluster_4                                                               \n",
       "0          35.62  2.53            8.54   55.71       1.47        3.17   \n",
       "1          33.47  1.00            6.03   32.72       2.43        3.30   \n",
       "2          35.55  1.00           10.19   42.52       1.25        2.64   \n",
       "3          32.66  2.59            4.62   47.66       2.42        4.29   \n",
       "\n",
       "           Defaulted  DebtIncomeRatio  \n",
       "Cluster_4                              \n",
       "0                0.0             8.69  \n",
       "1                1.0            15.57  \n",
       "2                0.0             9.10  \n",
       "3                1.0            14.09  "
      ]
     },
     "execution_count": 25,
     "metadata": {},
     "output_type": "execute_result"
    }
   ],
   "source": [
    "df.groupby('Cluster_4').mean().round(2)"
   ]
  },
  {
   "cell_type": "code",
   "execution_count": 26,
   "metadata": {},
   "outputs": [
    {
     "data": {
      "text/html": [
       "<div>\n",
       "<style scoped>\n",
       "    .dataframe tbody tr th:only-of-type {\n",
       "        vertical-align: middle;\n",
       "    }\n",
       "\n",
       "    .dataframe tbody tr th {\n",
       "        vertical-align: top;\n",
       "    }\n",
       "\n",
       "    .dataframe thead th {\n",
       "        text-align: right;\n",
       "    }\n",
       "</style>\n",
       "<table border=\"1\" class=\"dataframe\">\n",
       "  <thead>\n",
       "    <tr style=\"text-align: right;\">\n",
       "      <th></th>\n",
       "      <th>Age</th>\n",
       "      <th>Edu</th>\n",
       "      <th>Years Employed</th>\n",
       "      <th>Income</th>\n",
       "      <th>Card Debt</th>\n",
       "      <th>Other Debt</th>\n",
       "      <th>Defaulted</th>\n",
       "      <th>Address</th>\n",
       "      <th>DebtIncomeRatio</th>\n",
       "      <th>Cluster_4</th>\n",
       "    </tr>\n",
       "    <tr>\n",
       "      <th>Customer Id</th>\n",
       "      <th></th>\n",
       "      <th></th>\n",
       "      <th></th>\n",
       "      <th></th>\n",
       "      <th></th>\n",
       "      <th></th>\n",
       "      <th></th>\n",
       "      <th></th>\n",
       "      <th></th>\n",
       "      <th></th>\n",
       "    </tr>\n",
       "  </thead>\n",
       "  <tbody>\n",
       "    <tr>\n",
       "      <th>1</th>\n",
       "      <td>41</td>\n",
       "      <td>2</td>\n",
       "      <td>6</td>\n",
       "      <td>19</td>\n",
       "      <td>0.124</td>\n",
       "      <td>1.073</td>\n",
       "      <td>0</td>\n",
       "      <td>NBA001</td>\n",
       "      <td>6.3</td>\n",
       "      <td>0</td>\n",
       "    </tr>\n",
       "    <tr>\n",
       "      <th>4</th>\n",
       "      <td>29</td>\n",
       "      <td>2</td>\n",
       "      <td>4</td>\n",
       "      <td>19</td>\n",
       "      <td>0.681</td>\n",
       "      <td>0.516</td>\n",
       "      <td>0</td>\n",
       "      <td>NBA009</td>\n",
       "      <td>6.3</td>\n",
       "      <td>0</td>\n",
       "    </tr>\n",
       "    <tr>\n",
       "      <th>7</th>\n",
       "      <td>38</td>\n",
       "      <td>2</td>\n",
       "      <td>4</td>\n",
       "      <td>56</td>\n",
       "      <td>0.442</td>\n",
       "      <td>0.454</td>\n",
       "      <td>0</td>\n",
       "      <td>NBA013</td>\n",
       "      <td>1.6</td>\n",
       "      <td>0</td>\n",
       "    </tr>\n",
       "    <tr>\n",
       "      <th>8</th>\n",
       "      <td>42</td>\n",
       "      <td>3</td>\n",
       "      <td>0</td>\n",
       "      <td>64</td>\n",
       "      <td>0.279</td>\n",
       "      <td>3.945</td>\n",
       "      <td>0</td>\n",
       "      <td>NBA009</td>\n",
       "      <td>6.6</td>\n",
       "      <td>0</td>\n",
       "    </tr>\n",
       "    <tr>\n",
       "      <th>10</th>\n",
       "      <td>47</td>\n",
       "      <td>3</td>\n",
       "      <td>23</td>\n",
       "      <td>115</td>\n",
       "      <td>0.653</td>\n",
       "      <td>3.947</td>\n",
       "      <td>0</td>\n",
       "      <td>NBA011</td>\n",
       "      <td>4.0</td>\n",
       "      <td>0</td>\n",
       "    </tr>\n",
       "    <tr>\n",
       "      <th>...</th>\n",
       "      <td>...</td>\n",
       "      <td>...</td>\n",
       "      <td>...</td>\n",
       "      <td>...</td>\n",
       "      <td>...</td>\n",
       "      <td>...</td>\n",
       "      <td>...</td>\n",
       "      <td>...</td>\n",
       "      <td>...</td>\n",
       "      <td>...</td>\n",
       "    </tr>\n",
       "    <tr>\n",
       "      <th>837</th>\n",
       "      <td>23</td>\n",
       "      <td>2</td>\n",
       "      <td>3</td>\n",
       "      <td>24</td>\n",
       "      <td>0.552</td>\n",
       "      <td>0.960</td>\n",
       "      <td>0</td>\n",
       "      <td>NBA004</td>\n",
       "      <td>6.3</td>\n",
       "      <td>0</td>\n",
       "    </tr>\n",
       "    <tr>\n",
       "      <th>841</th>\n",
       "      <td>38</td>\n",
       "      <td>3</td>\n",
       "      <td>13</td>\n",
       "      <td>25</td>\n",
       "      <td>0.343</td>\n",
       "      <td>1.082</td>\n",
       "      <td>0</td>\n",
       "      <td>NBA018</td>\n",
       "      <td>5.7</td>\n",
       "      <td>0</td>\n",
       "    </tr>\n",
       "    <tr>\n",
       "      <th>842</th>\n",
       "      <td>29</td>\n",
       "      <td>3</td>\n",
       "      <td>7</td>\n",
       "      <td>63</td>\n",
       "      <td>0.572</td>\n",
       "      <td>2.893</td>\n",
       "      <td>0</td>\n",
       "      <td>NBA001</td>\n",
       "      <td>5.5</td>\n",
       "      <td>0</td>\n",
       "    </tr>\n",
       "    <tr>\n",
       "      <th>844</th>\n",
       "      <td>32</td>\n",
       "      <td>2</td>\n",
       "      <td>8</td>\n",
       "      <td>45</td>\n",
       "      <td>0.982</td>\n",
       "      <td>0.683</td>\n",
       "      <td>0</td>\n",
       "      <td>NBA002</td>\n",
       "      <td>3.7</td>\n",
       "      <td>0</td>\n",
       "    </tr>\n",
       "    <tr>\n",
       "      <th>847</th>\n",
       "      <td>28</td>\n",
       "      <td>2</td>\n",
       "      <td>7</td>\n",
       "      <td>34</td>\n",
       "      <td>0.359</td>\n",
       "      <td>2.021</td>\n",
       "      <td>0</td>\n",
       "      <td>NBA002</td>\n",
       "      <td>7.0</td>\n",
       "      <td>0</td>\n",
       "    </tr>\n",
       "  </tbody>\n",
       "</table>\n",
       "<p>286 rows × 10 columns</p>\n",
       "</div>"
      ],
      "text/plain": [
       "             Age  Edu  Years Employed  Income  Card Debt  Other Debt  \\\n",
       "Customer Id                                                            \n",
       "1             41    2               6      19      0.124       1.073   \n",
       "4             29    2               4      19      0.681       0.516   \n",
       "7             38    2               4      56      0.442       0.454   \n",
       "8             42    3               0      64      0.279       3.945   \n",
       "10            47    3              23     115      0.653       3.947   \n",
       "...          ...  ...             ...     ...        ...         ...   \n",
       "837           23    2               3      24      0.552       0.960   \n",
       "841           38    3              13      25      0.343       1.082   \n",
       "842           29    3               7      63      0.572       2.893   \n",
       "844           32    2               8      45      0.982       0.683   \n",
       "847           28    2               7      34      0.359       2.021   \n",
       "\n",
       "             Defaulted Address  DebtIncomeRatio  Cluster_4  \n",
       "Customer Id                                                 \n",
       "1                    0  NBA001              6.3          0  \n",
       "4                    0  NBA009              6.3          0  \n",
       "7                    0  NBA013              1.6          0  \n",
       "8                    0  NBA009              6.6          0  \n",
       "10                   0  NBA011              4.0          0  \n",
       "...                ...     ...              ...        ...  \n",
       "837                  0  NBA004              6.3          0  \n",
       "841                  0  NBA018              5.7          0  \n",
       "842                  0  NBA001              5.5          0  \n",
       "844                  0  NBA002              3.7          0  \n",
       "847                  0  NBA002              7.0          0  \n",
       "\n",
       "[286 rows x 10 columns]"
      ]
     },
     "metadata": {},
     "output_type": "display_data"
    },
    {
     "data": {
      "text/html": [
       "<div>\n",
       "<style scoped>\n",
       "    .dataframe tbody tr th:only-of-type {\n",
       "        vertical-align: middle;\n",
       "    }\n",
       "\n",
       "    .dataframe tbody tr th {\n",
       "        vertical-align: top;\n",
       "    }\n",
       "\n",
       "    .dataframe thead th {\n",
       "        text-align: right;\n",
       "    }\n",
       "</style>\n",
       "<table border=\"1\" class=\"dataframe\">\n",
       "  <thead>\n",
       "    <tr style=\"text-align: right;\">\n",
       "      <th></th>\n",
       "      <th>Age</th>\n",
       "      <th>Edu</th>\n",
       "      <th>Years Employed</th>\n",
       "      <th>Income</th>\n",
       "      <th>Card Debt</th>\n",
       "      <th>Other Debt</th>\n",
       "      <th>Defaulted</th>\n",
       "      <th>DebtIncomeRatio</th>\n",
       "      <th>Cluster_4</th>\n",
       "    </tr>\n",
       "  </thead>\n",
       "  <tbody>\n",
       "    <tr>\n",
       "      <th>count</th>\n",
       "      <td>286.000000</td>\n",
       "      <td>286.000000</td>\n",
       "      <td>286.000000</td>\n",
       "      <td>286.000000</td>\n",
       "      <td>286.000000</td>\n",
       "      <td>286.000000</td>\n",
       "      <td>286.0</td>\n",
       "      <td>286.000000</td>\n",
       "      <td>286.0</td>\n",
       "    </tr>\n",
       "    <tr>\n",
       "      <th>mean</th>\n",
       "      <td>35.622378</td>\n",
       "      <td>2.534965</td>\n",
       "      <td>8.541958</td>\n",
       "      <td>55.706294</td>\n",
       "      <td>1.472444</td>\n",
       "      <td>3.165122</td>\n",
       "      <td>0.0</td>\n",
       "      <td>8.685315</td>\n",
       "      <td>0.0</td>\n",
       "    </tr>\n",
       "    <tr>\n",
       "      <th>std</th>\n",
       "      <td>8.071004</td>\n",
       "      <td>0.761232</td>\n",
       "      <td>6.441368</td>\n",
       "      <td>40.263576</td>\n",
       "      <td>1.704603</td>\n",
       "      <td>3.176850</td>\n",
       "      <td>0.0</td>\n",
       "      <td>5.656841</td>\n",
       "      <td>0.0</td>\n",
       "    </tr>\n",
       "    <tr>\n",
       "      <th>min</th>\n",
       "      <td>20.000000</td>\n",
       "      <td>2.000000</td>\n",
       "      <td>0.000000</td>\n",
       "      <td>14.000000</td>\n",
       "      <td>0.015000</td>\n",
       "      <td>0.053000</td>\n",
       "      <td>0.0</td>\n",
       "      <td>0.100000</td>\n",
       "      <td>0.0</td>\n",
       "    </tr>\n",
       "    <tr>\n",
       "      <th>25%</th>\n",
       "      <td>29.000000</td>\n",
       "      <td>2.000000</td>\n",
       "      <td>3.000000</td>\n",
       "      <td>28.000000</td>\n",
       "      <td>0.403500</td>\n",
       "      <td>1.021000</td>\n",
       "      <td>0.0</td>\n",
       "      <td>4.400000</td>\n",
       "      <td>0.0</td>\n",
       "    </tr>\n",
       "    <tr>\n",
       "      <th>50%</th>\n",
       "      <td>35.000000</td>\n",
       "      <td>2.000000</td>\n",
       "      <td>8.000000</td>\n",
       "      <td>43.000000</td>\n",
       "      <td>0.891500</td>\n",
       "      <td>2.067000</td>\n",
       "      <td>0.0</td>\n",
       "      <td>7.550000</td>\n",
       "      <td>0.0</td>\n",
       "    </tr>\n",
       "    <tr>\n",
       "      <th>75%</th>\n",
       "      <td>41.000000</td>\n",
       "      <td>3.000000</td>\n",
       "      <td>12.000000</td>\n",
       "      <td>68.750000</td>\n",
       "      <td>1.839750</td>\n",
       "      <td>4.272250</td>\n",
       "      <td>0.0</td>\n",
       "      <td>12.175000</td>\n",
       "      <td>0.0</td>\n",
       "    </tr>\n",
       "    <tr>\n",
       "      <th>max</th>\n",
       "      <td>54.000000</td>\n",
       "      <td>5.000000</td>\n",
       "      <td>31.000000</td>\n",
       "      <td>266.000000</td>\n",
       "      <td>9.877000</td>\n",
       "      <td>18.269000</td>\n",
       "      <td>0.0</td>\n",
       "      <td>32.400000</td>\n",
       "      <td>0.0</td>\n",
       "    </tr>\n",
       "  </tbody>\n",
       "</table>\n",
       "</div>"
      ],
      "text/plain": [
       "              Age         Edu  Years Employed      Income   Card Debt  \\\n",
       "count  286.000000  286.000000      286.000000  286.000000  286.000000   \n",
       "mean    35.622378    2.534965        8.541958   55.706294    1.472444   \n",
       "std      8.071004    0.761232        6.441368   40.263576    1.704603   \n",
       "min     20.000000    2.000000        0.000000   14.000000    0.015000   \n",
       "25%     29.000000    2.000000        3.000000   28.000000    0.403500   \n",
       "50%     35.000000    2.000000        8.000000   43.000000    0.891500   \n",
       "75%     41.000000    3.000000       12.000000   68.750000    1.839750   \n",
       "max     54.000000    5.000000       31.000000  266.000000    9.877000   \n",
       "\n",
       "       Other Debt  Defaulted  DebtIncomeRatio  Cluster_4  \n",
       "count  286.000000      286.0       286.000000      286.0  \n",
       "mean     3.165122        0.0         8.685315        0.0  \n",
       "std      3.176850        0.0         5.656841        0.0  \n",
       "min      0.053000        0.0         0.100000        0.0  \n",
       "25%      1.021000        0.0         4.400000        0.0  \n",
       "50%      2.067000        0.0         7.550000        0.0  \n",
       "75%      4.272250        0.0        12.175000        0.0  \n",
       "max     18.269000        0.0        32.400000        0.0  "
      ]
     },
     "metadata": {},
     "output_type": "display_data"
    },
    {
     "name": "stdout",
     "output_type": "stream",
     "text": [
      "\n",
      " ==================================================================================================== \n",
      "\n"
     ]
    },
    {
     "data": {
      "text/html": [
       "<div>\n",
       "<style scoped>\n",
       "    .dataframe tbody tr th:only-of-type {\n",
       "        vertical-align: middle;\n",
       "    }\n",
       "\n",
       "    .dataframe tbody tr th {\n",
       "        vertical-align: top;\n",
       "    }\n",
       "\n",
       "    .dataframe thead th {\n",
       "        text-align: right;\n",
       "    }\n",
       "</style>\n",
       "<table border=\"1\" class=\"dataframe\">\n",
       "  <thead>\n",
       "    <tr style=\"text-align: right;\">\n",
       "      <th></th>\n",
       "      <th>Age</th>\n",
       "      <th>Edu</th>\n",
       "      <th>Years Employed</th>\n",
       "      <th>Income</th>\n",
       "      <th>Card Debt</th>\n",
       "      <th>Other Debt</th>\n",
       "      <th>Defaulted</th>\n",
       "      <th>Address</th>\n",
       "      <th>DebtIncomeRatio</th>\n",
       "      <th>Cluster_4</th>\n",
       "    </tr>\n",
       "    <tr>\n",
       "      <th>Customer Id</th>\n",
       "      <th></th>\n",
       "      <th></th>\n",
       "      <th></th>\n",
       "      <th></th>\n",
       "      <th></th>\n",
       "      <th></th>\n",
       "      <th></th>\n",
       "      <th></th>\n",
       "      <th></th>\n",
       "      <th></th>\n",
       "    </tr>\n",
       "  </thead>\n",
       "  <tbody>\n",
       "    <tr>\n",
       "      <th>38</th>\n",
       "      <td>37</td>\n",
       "      <td>1</td>\n",
       "      <td>0</td>\n",
       "      <td>18</td>\n",
       "      <td>1.584</td>\n",
       "      <td>0.738</td>\n",
       "      <td>1</td>\n",
       "      <td>NBA018</td>\n",
       "      <td>12.9</td>\n",
       "      <td>1</td>\n",
       "    </tr>\n",
       "    <tr>\n",
       "      <th>41</th>\n",
       "      <td>20</td>\n",
       "      <td>1</td>\n",
       "      <td>4</td>\n",
       "      <td>14</td>\n",
       "      <td>0.201</td>\n",
       "      <td>1.157</td>\n",
       "      <td>1</td>\n",
       "      <td>NBA000</td>\n",
       "      <td>9.7</td>\n",
       "      <td>1</td>\n",
       "    </tr>\n",
       "    <tr>\n",
       "      <th>53</th>\n",
       "      <td>24</td>\n",
       "      <td>1</td>\n",
       "      <td>3</td>\n",
       "      <td>19</td>\n",
       "      <td>1.358</td>\n",
       "      <td>3.278</td>\n",
       "      <td>1</td>\n",
       "      <td>NBA004</td>\n",
       "      <td>24.4</td>\n",
       "      <td>1</td>\n",
       "    </tr>\n",
       "    <tr>\n",
       "      <th>56</th>\n",
       "      <td>34</td>\n",
       "      <td>1</td>\n",
       "      <td>2</td>\n",
       "      <td>25</td>\n",
       "      <td>0.573</td>\n",
       "      <td>2.577</td>\n",
       "      <td>1</td>\n",
       "      <td>NBA011</td>\n",
       "      <td>12.6</td>\n",
       "      <td>1</td>\n",
       "    </tr>\n",
       "    <tr>\n",
       "      <th>57</th>\n",
       "      <td>32</td>\n",
       "      <td>1</td>\n",
       "      <td>1</td>\n",
       "      <td>20</td>\n",
       "      <td>0.315</td>\n",
       "      <td>0.645</td>\n",
       "      <td>1</td>\n",
       "      <td>NBA000</td>\n",
       "      <td>4.8</td>\n",
       "      <td>1</td>\n",
       "    </tr>\n",
       "    <tr>\n",
       "      <th>...</th>\n",
       "      <td>...</td>\n",
       "      <td>...</td>\n",
       "      <td>...</td>\n",
       "      <td>...</td>\n",
       "      <td>...</td>\n",
       "      <td>...</td>\n",
       "      <td>...</td>\n",
       "      <td>...</td>\n",
       "      <td>...</td>\n",
       "      <td>...</td>\n",
       "    </tr>\n",
       "    <tr>\n",
       "      <th>803</th>\n",
       "      <td>26</td>\n",
       "      <td>1</td>\n",
       "      <td>0</td>\n",
       "      <td>14</td>\n",
       "      <td>0.302</td>\n",
       "      <td>0.748</td>\n",
       "      <td>1</td>\n",
       "      <td>NBA000</td>\n",
       "      <td>7.5</td>\n",
       "      <td>1</td>\n",
       "    </tr>\n",
       "    <tr>\n",
       "      <th>810</th>\n",
       "      <td>22</td>\n",
       "      <td>1</td>\n",
       "      <td>4</td>\n",
       "      <td>19</td>\n",
       "      <td>1.887</td>\n",
       "      <td>2.502</td>\n",
       "      <td>1</td>\n",
       "      <td>NBA003</td>\n",
       "      <td>23.1</td>\n",
       "      <td>1</td>\n",
       "    </tr>\n",
       "    <tr>\n",
       "      <th>814</th>\n",
       "      <td>31</td>\n",
       "      <td>1</td>\n",
       "      <td>10</td>\n",
       "      <td>49</td>\n",
       "      <td>3.237</td>\n",
       "      <td>1.565</td>\n",
       "      <td>1</td>\n",
       "      <td>NBA012</td>\n",
       "      <td>9.8</td>\n",
       "      <td>1</td>\n",
       "    </tr>\n",
       "    <tr>\n",
       "      <th>827</th>\n",
       "      <td>48</td>\n",
       "      <td>1</td>\n",
       "      <td>13</td>\n",
       "      <td>50</td>\n",
       "      <td>6.114</td>\n",
       "      <td>9.286</td>\n",
       "      <td>1</td>\n",
       "      <td>NBA020</td>\n",
       "      <td>30.8</td>\n",
       "      <td>1</td>\n",
       "    </tr>\n",
       "    <tr>\n",
       "      <th>831</th>\n",
       "      <td>33</td>\n",
       "      <td>1</td>\n",
       "      <td>13</td>\n",
       "      <td>52</td>\n",
       "      <td>2.714</td>\n",
       "      <td>8.362</td>\n",
       "      <td>1</td>\n",
       "      <td>NBA003</td>\n",
       "      <td>21.3</td>\n",
       "      <td>1</td>\n",
       "    </tr>\n",
       "  </tbody>\n",
       "</table>\n",
       "<p>79 rows × 10 columns</p>\n",
       "</div>"
      ],
      "text/plain": [
       "             Age  Edu  Years Employed  Income  Card Debt  Other Debt  \\\n",
       "Customer Id                                                            \n",
       "38            37    1               0      18      1.584       0.738   \n",
       "41            20    1               4      14      0.201       1.157   \n",
       "53            24    1               3      19      1.358       3.278   \n",
       "56            34    1               2      25      0.573       2.577   \n",
       "57            32    1               1      20      0.315       0.645   \n",
       "...          ...  ...             ...     ...        ...         ...   \n",
       "803           26    1               0      14      0.302       0.748   \n",
       "810           22    1               4      19      1.887       2.502   \n",
       "814           31    1              10      49      3.237       1.565   \n",
       "827           48    1              13      50      6.114       9.286   \n",
       "831           33    1              13      52      2.714       8.362   \n",
       "\n",
       "             Defaulted Address  DebtIncomeRatio  Cluster_4  \n",
       "Customer Id                                                 \n",
       "38                   1  NBA018             12.9          1  \n",
       "41                   1  NBA000              9.7          1  \n",
       "53                   1  NBA004             24.4          1  \n",
       "56                   1  NBA011             12.6          1  \n",
       "57                   1  NBA000              4.8          1  \n",
       "...                ...     ...              ...        ...  \n",
       "803                  1  NBA000              7.5          1  \n",
       "810                  1  NBA003             23.1          1  \n",
       "814                  1  NBA012              9.8          1  \n",
       "827                  1  NBA020             30.8          1  \n",
       "831                  1  NBA003             21.3          1  \n",
       "\n",
       "[79 rows x 10 columns]"
      ]
     },
     "metadata": {},
     "output_type": "display_data"
    },
    {
     "data": {
      "text/html": [
       "<div>\n",
       "<style scoped>\n",
       "    .dataframe tbody tr th:only-of-type {\n",
       "        vertical-align: middle;\n",
       "    }\n",
       "\n",
       "    .dataframe tbody tr th {\n",
       "        vertical-align: top;\n",
       "    }\n",
       "\n",
       "    .dataframe thead th {\n",
       "        text-align: right;\n",
       "    }\n",
       "</style>\n",
       "<table border=\"1\" class=\"dataframe\">\n",
       "  <thead>\n",
       "    <tr style=\"text-align: right;\">\n",
       "      <th></th>\n",
       "      <th>Age</th>\n",
       "      <th>Edu</th>\n",
       "      <th>Years Employed</th>\n",
       "      <th>Income</th>\n",
       "      <th>Card Debt</th>\n",
       "      <th>Other Debt</th>\n",
       "      <th>Defaulted</th>\n",
       "      <th>DebtIncomeRatio</th>\n",
       "      <th>Cluster_4</th>\n",
       "    </tr>\n",
       "  </thead>\n",
       "  <tbody>\n",
       "    <tr>\n",
       "      <th>count</th>\n",
       "      <td>79.000000</td>\n",
       "      <td>79.0</td>\n",
       "      <td>79.000000</td>\n",
       "      <td>79.000000</td>\n",
       "      <td>79.000000</td>\n",
       "      <td>79.000000</td>\n",
       "      <td>79.0</td>\n",
       "      <td>79.000000</td>\n",
       "      <td>79.0</td>\n",
       "    </tr>\n",
       "    <tr>\n",
       "      <th>mean</th>\n",
       "      <td>33.468354</td>\n",
       "      <td>1.0</td>\n",
       "      <td>6.025316</td>\n",
       "      <td>32.721519</td>\n",
       "      <td>2.425937</td>\n",
       "      <td>3.304101</td>\n",
       "      <td>1.0</td>\n",
       "      <td>15.569620</td>\n",
       "      <td>1.0</td>\n",
       "    </tr>\n",
       "    <tr>\n",
       "      <th>std</th>\n",
       "      <td>9.371035</td>\n",
       "      <td>0.0</td>\n",
       "      <td>6.476733</td>\n",
       "      <td>23.753508</td>\n",
       "      <td>3.634974</td>\n",
       "      <td>3.581543</td>\n",
       "      <td>0.0</td>\n",
       "      <td>8.485392</td>\n",
       "      <td>0.0</td>\n",
       "    </tr>\n",
       "    <tr>\n",
       "      <th>min</th>\n",
       "      <td>20.000000</td>\n",
       "      <td>1.0</td>\n",
       "      <td>0.000000</td>\n",
       "      <td>14.000000</td>\n",
       "      <td>0.073000</td>\n",
       "      <td>0.182000</td>\n",
       "      <td>1.0</td>\n",
       "      <td>2.100000</td>\n",
       "      <td>1.0</td>\n",
       "    </tr>\n",
       "    <tr>\n",
       "      <th>25%</th>\n",
       "      <td>26.000000</td>\n",
       "      <td>1.0</td>\n",
       "      <td>1.000000</td>\n",
       "      <td>19.000000</td>\n",
       "      <td>0.569000</td>\n",
       "      <td>1.000000</td>\n",
       "      <td>1.0</td>\n",
       "      <td>9.300000</td>\n",
       "      <td>1.0</td>\n",
       "    </tr>\n",
       "    <tr>\n",
       "      <th>50%</th>\n",
       "      <td>31.000000</td>\n",
       "      <td>1.0</td>\n",
       "      <td>4.000000</td>\n",
       "      <td>24.000000</td>\n",
       "      <td>1.370000</td>\n",
       "      <td>2.350000</td>\n",
       "      <td>1.0</td>\n",
       "      <td>14.800000</td>\n",
       "      <td>1.0</td>\n",
       "    </tr>\n",
       "    <tr>\n",
       "      <th>75%</th>\n",
       "      <td>38.500000</td>\n",
       "      <td>1.0</td>\n",
       "      <td>9.000000</td>\n",
       "      <td>39.500000</td>\n",
       "      <td>2.514500</td>\n",
       "      <td>3.661500</td>\n",
       "      <td>1.0</td>\n",
       "      <td>22.200000</td>\n",
       "      <td>1.0</td>\n",
       "    </tr>\n",
       "    <tr>\n",
       "      <th>max</th>\n",
       "      <td>55.000000</td>\n",
       "      <td>1.0</td>\n",
       "      <td>31.000000</td>\n",
       "      <td>136.000000</td>\n",
       "      <td>20.561000</td>\n",
       "      <td>17.204000</td>\n",
       "      <td>1.0</td>\n",
       "      <td>41.300000</td>\n",
       "      <td>1.0</td>\n",
       "    </tr>\n",
       "  </tbody>\n",
       "</table>\n",
       "</div>"
      ],
      "text/plain": [
       "             Age   Edu  Years Employed      Income  Card Debt  Other Debt  \\\n",
       "count  79.000000  79.0       79.000000   79.000000  79.000000   79.000000   \n",
       "mean   33.468354   1.0        6.025316   32.721519   2.425937    3.304101   \n",
       "std     9.371035   0.0        6.476733   23.753508   3.634974    3.581543   \n",
       "min    20.000000   1.0        0.000000   14.000000   0.073000    0.182000   \n",
       "25%    26.000000   1.0        1.000000   19.000000   0.569000    1.000000   \n",
       "50%    31.000000   1.0        4.000000   24.000000   1.370000    2.350000   \n",
       "75%    38.500000   1.0        9.000000   39.500000   2.514500    3.661500   \n",
       "max    55.000000   1.0       31.000000  136.000000  20.561000   17.204000   \n",
       "\n",
       "       Defaulted  DebtIncomeRatio  Cluster_4  \n",
       "count       79.0        79.000000       79.0  \n",
       "mean         1.0        15.569620        1.0  \n",
       "std          0.0         8.485392        0.0  \n",
       "min          1.0         2.100000        1.0  \n",
       "25%          1.0         9.300000        1.0  \n",
       "50%          1.0        14.800000        1.0  \n",
       "75%          1.0        22.200000        1.0  \n",
       "max          1.0        41.300000        1.0  "
      ]
     },
     "metadata": {},
     "output_type": "display_data"
    },
    {
     "name": "stdout",
     "output_type": "stream",
     "text": [
      "\n",
      " ==================================================================================================== \n",
      "\n"
     ]
    },
    {
     "data": {
      "text/html": [
       "<div>\n",
       "<style scoped>\n",
       "    .dataframe tbody tr th:only-of-type {\n",
       "        vertical-align: middle;\n",
       "    }\n",
       "\n",
       "    .dataframe tbody tr th {\n",
       "        vertical-align: top;\n",
       "    }\n",
       "\n",
       "    .dataframe thead th {\n",
       "        text-align: right;\n",
       "    }\n",
       "</style>\n",
       "<table border=\"1\" class=\"dataframe\">\n",
       "  <thead>\n",
       "    <tr style=\"text-align: right;\">\n",
       "      <th></th>\n",
       "      <th>Age</th>\n",
       "      <th>Edu</th>\n",
       "      <th>Years Employed</th>\n",
       "      <th>Income</th>\n",
       "      <th>Card Debt</th>\n",
       "      <th>Other Debt</th>\n",
       "      <th>Defaulted</th>\n",
       "      <th>Address</th>\n",
       "      <th>DebtIncomeRatio</th>\n",
       "      <th>Cluster_4</th>\n",
       "    </tr>\n",
       "    <tr>\n",
       "      <th>Customer Id</th>\n",
       "      <th></th>\n",
       "      <th></th>\n",
       "      <th></th>\n",
       "      <th></th>\n",
       "      <th></th>\n",
       "      <th></th>\n",
       "      <th></th>\n",
       "      <th></th>\n",
       "      <th></th>\n",
       "      <th></th>\n",
       "    </tr>\n",
       "  </thead>\n",
       "  <tbody>\n",
       "    <tr>\n",
       "      <th>2</th>\n",
       "      <td>47</td>\n",
       "      <td>1</td>\n",
       "      <td>26</td>\n",
       "      <td>100</td>\n",
       "      <td>4.582</td>\n",
       "      <td>8.218</td>\n",
       "      <td>0</td>\n",
       "      <td>NBA021</td>\n",
       "      <td>12.8</td>\n",
       "      <td>2</td>\n",
       "    </tr>\n",
       "    <tr>\n",
       "      <th>5</th>\n",
       "      <td>47</td>\n",
       "      <td>1</td>\n",
       "      <td>31</td>\n",
       "      <td>253</td>\n",
       "      <td>9.308</td>\n",
       "      <td>8.908</td>\n",
       "      <td>0</td>\n",
       "      <td>NBA008</td>\n",
       "      <td>7.2</td>\n",
       "      <td>2</td>\n",
       "    </tr>\n",
       "    <tr>\n",
       "      <th>6</th>\n",
       "      <td>40</td>\n",
       "      <td>1</td>\n",
       "      <td>23</td>\n",
       "      <td>81</td>\n",
       "      <td>0.998</td>\n",
       "      <td>7.831</td>\n",
       "      <td>0</td>\n",
       "      <td>NBA016</td>\n",
       "      <td>10.9</td>\n",
       "      <td>2</td>\n",
       "    </tr>\n",
       "    <tr>\n",
       "      <th>9</th>\n",
       "      <td>26</td>\n",
       "      <td>1</td>\n",
       "      <td>5</td>\n",
       "      <td>18</td>\n",
       "      <td>0.575</td>\n",
       "      <td>2.215</td>\n",
       "      <td>0</td>\n",
       "      <td>NBA006</td>\n",
       "      <td>15.5</td>\n",
       "      <td>2</td>\n",
       "    </tr>\n",
       "    <tr>\n",
       "      <th>13</th>\n",
       "      <td>24</td>\n",
       "      <td>1</td>\n",
       "      <td>7</td>\n",
       "      <td>18</td>\n",
       "      <td>0.526</td>\n",
       "      <td>0.643</td>\n",
       "      <td>0</td>\n",
       "      <td>NBA000</td>\n",
       "      <td>6.5</td>\n",
       "      <td>2</td>\n",
       "    </tr>\n",
       "    <tr>\n",
       "      <th>...</th>\n",
       "      <td>...</td>\n",
       "      <td>...</td>\n",
       "      <td>...</td>\n",
       "      <td>...</td>\n",
       "      <td>...</td>\n",
       "      <td>...</td>\n",
       "      <td>...</td>\n",
       "      <td>...</td>\n",
       "      <td>...</td>\n",
       "      <td>...</td>\n",
       "    </tr>\n",
       "    <tr>\n",
       "      <th>843</th>\n",
       "      <td>32</td>\n",
       "      <td>1</td>\n",
       "      <td>14</td>\n",
       "      <td>36</td>\n",
       "      <td>0.273</td>\n",
       "      <td>0.591</td>\n",
       "      <td>0</td>\n",
       "      <td>NBA000</td>\n",
       "      <td>2.4</td>\n",
       "      <td>2</td>\n",
       "    </tr>\n",
       "    <tr>\n",
       "      <th>845</th>\n",
       "      <td>41</td>\n",
       "      <td>1</td>\n",
       "      <td>7</td>\n",
       "      <td>43</td>\n",
       "      <td>0.694</td>\n",
       "      <td>1.198</td>\n",
       "      <td>0</td>\n",
       "      <td>NBA011</td>\n",
       "      <td>4.4</td>\n",
       "      <td>2</td>\n",
       "    </tr>\n",
       "    <tr>\n",
       "      <th>846</th>\n",
       "      <td>27</td>\n",
       "      <td>1</td>\n",
       "      <td>5</td>\n",
       "      <td>26</td>\n",
       "      <td>0.548</td>\n",
       "      <td>1.220</td>\n",
       "      <td>0</td>\n",
       "      <td>NBA007</td>\n",
       "      <td>6.8</td>\n",
       "      <td>2</td>\n",
       "    </tr>\n",
       "    <tr>\n",
       "      <th>849</th>\n",
       "      <td>32</td>\n",
       "      <td>1</td>\n",
       "      <td>12</td>\n",
       "      <td>28</td>\n",
       "      <td>0.116</td>\n",
       "      <td>0.696</td>\n",
       "      <td>0</td>\n",
       "      <td>NBA012</td>\n",
       "      <td>2.9</td>\n",
       "      <td>2</td>\n",
       "    </tr>\n",
       "    <tr>\n",
       "      <th>850</th>\n",
       "      <td>52</td>\n",
       "      <td>1</td>\n",
       "      <td>16</td>\n",
       "      <td>64</td>\n",
       "      <td>1.866</td>\n",
       "      <td>3.638</td>\n",
       "      <td>0</td>\n",
       "      <td>NBA025</td>\n",
       "      <td>8.6</td>\n",
       "      <td>2</td>\n",
       "    </tr>\n",
       "  </tbody>\n",
       "</table>\n",
       "<p>381 rows × 10 columns</p>\n",
       "</div>"
      ],
      "text/plain": [
       "             Age  Edu  Years Employed  Income  Card Debt  Other Debt  \\\n",
       "Customer Id                                                            \n",
       "2             47    1              26     100      4.582       8.218   \n",
       "5             47    1              31     253      9.308       8.908   \n",
       "6             40    1              23      81      0.998       7.831   \n",
       "9             26    1               5      18      0.575       2.215   \n",
       "13            24    1               7      18      0.526       0.643   \n",
       "...          ...  ...             ...     ...        ...         ...   \n",
       "843           32    1              14      36      0.273       0.591   \n",
       "845           41    1               7      43      0.694       1.198   \n",
       "846           27    1               5      26      0.548       1.220   \n",
       "849           32    1              12      28      0.116       0.696   \n",
       "850           52    1              16      64      1.866       3.638   \n",
       "\n",
       "             Defaulted Address  DebtIncomeRatio  Cluster_4  \n",
       "Customer Id                                                 \n",
       "2                    0  NBA021             12.8          2  \n",
       "5                    0  NBA008              7.2          2  \n",
       "6                    0  NBA016             10.9          2  \n",
       "9                    0  NBA006             15.5          2  \n",
       "13                   0  NBA000              6.5          2  \n",
       "...                ...     ...              ...        ...  \n",
       "843                  0  NBA000              2.4          2  \n",
       "845                  0  NBA011              4.4          2  \n",
       "846                  0  NBA007              6.8          2  \n",
       "849                  0  NBA012              2.9          2  \n",
       "850                  0  NBA025              8.6          2  \n",
       "\n",
       "[381 rows x 10 columns]"
      ]
     },
     "metadata": {},
     "output_type": "display_data"
    },
    {
     "data": {
      "text/html": [
       "<div>\n",
       "<style scoped>\n",
       "    .dataframe tbody tr th:only-of-type {\n",
       "        vertical-align: middle;\n",
       "    }\n",
       "\n",
       "    .dataframe tbody tr th {\n",
       "        vertical-align: top;\n",
       "    }\n",
       "\n",
       "    .dataframe thead th {\n",
       "        text-align: right;\n",
       "    }\n",
       "</style>\n",
       "<table border=\"1\" class=\"dataframe\">\n",
       "  <thead>\n",
       "    <tr style=\"text-align: right;\">\n",
       "      <th></th>\n",
       "      <th>Age</th>\n",
       "      <th>Edu</th>\n",
       "      <th>Years Employed</th>\n",
       "      <th>Income</th>\n",
       "      <th>Card Debt</th>\n",
       "      <th>Other Debt</th>\n",
       "      <th>Defaulted</th>\n",
       "      <th>DebtIncomeRatio</th>\n",
       "      <th>Cluster_4</th>\n",
       "    </tr>\n",
       "  </thead>\n",
       "  <tbody>\n",
       "    <tr>\n",
       "      <th>count</th>\n",
       "      <td>381.000000</td>\n",
       "      <td>381.0</td>\n",
       "      <td>381.000000</td>\n",
       "      <td>381.000000</td>\n",
       "      <td>381.000000</td>\n",
       "      <td>381.000000</td>\n",
       "      <td>381.0</td>\n",
       "      <td>381.000000</td>\n",
       "      <td>381.0</td>\n",
       "    </tr>\n",
       "    <tr>\n",
       "      <th>mean</th>\n",
       "      <td>35.553806</td>\n",
       "      <td>1.0</td>\n",
       "      <td>10.188976</td>\n",
       "      <td>42.519685</td>\n",
       "      <td>1.248325</td>\n",
       "      <td>2.637367</td>\n",
       "      <td>0.0</td>\n",
       "      <td>9.098950</td>\n",
       "      <td>2.0</td>\n",
       "    </tr>\n",
       "    <tr>\n",
       "      <th>std</th>\n",
       "      <td>7.639948</td>\n",
       "      <td>0.0</td>\n",
       "      <td>6.984644</td>\n",
       "      <td>33.463378</td>\n",
       "      <td>1.565625</td>\n",
       "      <td>3.006015</td>\n",
       "      <td>0.0</td>\n",
       "      <td>5.843872</td>\n",
       "      <td>0.0</td>\n",
       "    </tr>\n",
       "    <tr>\n",
       "      <th>min</th>\n",
       "      <td>21.000000</td>\n",
       "      <td>1.0</td>\n",
       "      <td>0.000000</td>\n",
       "      <td>13.000000</td>\n",
       "      <td>0.012000</td>\n",
       "      <td>0.046000</td>\n",
       "      <td>0.0</td>\n",
       "      <td>0.400000</td>\n",
       "      <td>2.0</td>\n",
       "    </tr>\n",
       "    <tr>\n",
       "      <th>25%</th>\n",
       "      <td>30.000000</td>\n",
       "      <td>1.0</td>\n",
       "      <td>4.000000</td>\n",
       "      <td>23.000000</td>\n",
       "      <td>0.304000</td>\n",
       "      <td>0.993000</td>\n",
       "      <td>0.0</td>\n",
       "      <td>4.900000</td>\n",
       "      <td>2.0</td>\n",
       "    </tr>\n",
       "    <tr>\n",
       "      <th>50%</th>\n",
       "      <td>35.000000</td>\n",
       "      <td>1.0</td>\n",
       "      <td>9.000000</td>\n",
       "      <td>33.000000</td>\n",
       "      <td>0.764000</td>\n",
       "      <td>1.778000</td>\n",
       "      <td>0.0</td>\n",
       "      <td>7.900000</td>\n",
       "      <td>2.0</td>\n",
       "    </tr>\n",
       "    <tr>\n",
       "      <th>75%</th>\n",
       "      <td>41.000000</td>\n",
       "      <td>1.0</td>\n",
       "      <td>15.000000</td>\n",
       "      <td>50.000000</td>\n",
       "      <td>1.474000</td>\n",
       "      <td>3.021000</td>\n",
       "      <td>0.0</td>\n",
       "      <td>12.000000</td>\n",
       "      <td>2.0</td>\n",
       "    </tr>\n",
       "    <tr>\n",
       "      <th>max</th>\n",
       "      <td>56.000000</td>\n",
       "      <td>1.0</td>\n",
       "      <td>33.000000</td>\n",
       "      <td>324.000000</td>\n",
       "      <td>13.553000</td>\n",
       "      <td>35.197000</td>\n",
       "      <td>0.0</td>\n",
       "      <td>32.500000</td>\n",
       "      <td>2.0</td>\n",
       "    </tr>\n",
       "  </tbody>\n",
       "</table>\n",
       "</div>"
      ],
      "text/plain": [
       "              Age    Edu  Years Employed      Income   Card Debt  Other Debt  \\\n",
       "count  381.000000  381.0      381.000000  381.000000  381.000000  381.000000   \n",
       "mean    35.553806    1.0       10.188976   42.519685    1.248325    2.637367   \n",
       "std      7.639948    0.0        6.984644   33.463378    1.565625    3.006015   \n",
       "min     21.000000    1.0        0.000000   13.000000    0.012000    0.046000   \n",
       "25%     30.000000    1.0        4.000000   23.000000    0.304000    0.993000   \n",
       "50%     35.000000    1.0        9.000000   33.000000    0.764000    1.778000   \n",
       "75%     41.000000    1.0       15.000000   50.000000    1.474000    3.021000   \n",
       "max     56.000000    1.0       33.000000  324.000000   13.553000   35.197000   \n",
       "\n",
       "       Defaulted  DebtIncomeRatio  Cluster_4  \n",
       "count      381.0       381.000000      381.0  \n",
       "mean         0.0         9.098950        2.0  \n",
       "std          0.0         5.843872        0.0  \n",
       "min          0.0         0.400000        2.0  \n",
       "25%          0.0         4.900000        2.0  \n",
       "50%          0.0         7.900000        2.0  \n",
       "75%          0.0        12.000000        2.0  \n",
       "max          0.0        32.500000        2.0  "
      ]
     },
     "metadata": {},
     "output_type": "display_data"
    },
    {
     "name": "stdout",
     "output_type": "stream",
     "text": [
      "\n",
      " ==================================================================================================== \n",
      "\n"
     ]
    },
    {
     "data": {
      "text/html": [
       "<div>\n",
       "<style scoped>\n",
       "    .dataframe tbody tr th:only-of-type {\n",
       "        vertical-align: middle;\n",
       "    }\n",
       "\n",
       "    .dataframe tbody tr th {\n",
       "        vertical-align: top;\n",
       "    }\n",
       "\n",
       "    .dataframe thead th {\n",
       "        text-align: right;\n",
       "    }\n",
       "</style>\n",
       "<table border=\"1\" class=\"dataframe\">\n",
       "  <thead>\n",
       "    <tr style=\"text-align: right;\">\n",
       "      <th></th>\n",
       "      <th>Age</th>\n",
       "      <th>Edu</th>\n",
       "      <th>Years Employed</th>\n",
       "      <th>Income</th>\n",
       "      <th>Card Debt</th>\n",
       "      <th>Other Debt</th>\n",
       "      <th>Defaulted</th>\n",
       "      <th>Address</th>\n",
       "      <th>DebtIncomeRatio</th>\n",
       "      <th>Cluster_4</th>\n",
       "    </tr>\n",
       "    <tr>\n",
       "      <th>Customer Id</th>\n",
       "      <th></th>\n",
       "      <th></th>\n",
       "      <th></th>\n",
       "      <th></th>\n",
       "      <th></th>\n",
       "      <th></th>\n",
       "      <th></th>\n",
       "      <th></th>\n",
       "      <th></th>\n",
       "      <th></th>\n",
       "    </tr>\n",
       "  </thead>\n",
       "  <tbody>\n",
       "    <tr>\n",
       "      <th>3</th>\n",
       "      <td>33</td>\n",
       "      <td>2</td>\n",
       "      <td>10</td>\n",
       "      <td>57</td>\n",
       "      <td>6.111</td>\n",
       "      <td>5.802</td>\n",
       "      <td>1</td>\n",
       "      <td>NBA013</td>\n",
       "      <td>20.9</td>\n",
       "      <td>3</td>\n",
       "    </tr>\n",
       "    <tr>\n",
       "      <th>11</th>\n",
       "      <td>44</td>\n",
       "      <td>3</td>\n",
       "      <td>8</td>\n",
       "      <td>88</td>\n",
       "      <td>0.285</td>\n",
       "      <td>5.083</td>\n",
       "      <td>1</td>\n",
       "      <td>NBA010</td>\n",
       "      <td>6.1</td>\n",
       "      <td>3</td>\n",
       "    </tr>\n",
       "    <tr>\n",
       "      <th>15</th>\n",
       "      <td>28</td>\n",
       "      <td>3</td>\n",
       "      <td>2</td>\n",
       "      <td>20</td>\n",
       "      <td>0.233</td>\n",
       "      <td>1.647</td>\n",
       "      <td>1</td>\n",
       "      <td>NBA000</td>\n",
       "      <td>9.4</td>\n",
       "      <td>3</td>\n",
       "    </tr>\n",
       "    <tr>\n",
       "      <th>23</th>\n",
       "      <td>28</td>\n",
       "      <td>3</td>\n",
       "      <td>6</td>\n",
       "      <td>47</td>\n",
       "      <td>5.574</td>\n",
       "      <td>3.732</td>\n",
       "      <td>1</td>\n",
       "      <td>NBA008</td>\n",
       "      <td>19.8</td>\n",
       "      <td>3</td>\n",
       "    </tr>\n",
       "    <tr>\n",
       "      <th>33</th>\n",
       "      <td>23</td>\n",
       "      <td>2</td>\n",
       "      <td>0</td>\n",
       "      <td>42</td>\n",
       "      <td>1.019</td>\n",
       "      <td>0.619</td>\n",
       "      <td>1</td>\n",
       "      <td>NBA001</td>\n",
       "      <td>3.9</td>\n",
       "      <td>3</td>\n",
       "    </tr>\n",
       "    <tr>\n",
       "      <th>...</th>\n",
       "      <td>...</td>\n",
       "      <td>...</td>\n",
       "      <td>...</td>\n",
       "      <td>...</td>\n",
       "      <td>...</td>\n",
       "      <td>...</td>\n",
       "      <td>...</td>\n",
       "      <td>...</td>\n",
       "      <td>...</td>\n",
       "      <td>...</td>\n",
       "    </tr>\n",
       "    <tr>\n",
       "      <th>797</th>\n",
       "      <td>25</td>\n",
       "      <td>4</td>\n",
       "      <td>0</td>\n",
       "      <td>24</td>\n",
       "      <td>1.597</td>\n",
       "      <td>1.307</td>\n",
       "      <td>1</td>\n",
       "      <td>NBA006</td>\n",
       "      <td>12.1</td>\n",
       "      <td>3</td>\n",
       "    </tr>\n",
       "    <tr>\n",
       "      <th>817</th>\n",
       "      <td>36</td>\n",
       "      <td>2</td>\n",
       "      <td>6</td>\n",
       "      <td>27</td>\n",
       "      <td>0.262</td>\n",
       "      <td>0.980</td>\n",
       "      <td>1</td>\n",
       "      <td>NBA015</td>\n",
       "      <td>4.6</td>\n",
       "      <td>3</td>\n",
       "    </tr>\n",
       "    <tr>\n",
       "      <th>824</th>\n",
       "      <td>27</td>\n",
       "      <td>4</td>\n",
       "      <td>0</td>\n",
       "      <td>25</td>\n",
       "      <td>1.419</td>\n",
       "      <td>1.756</td>\n",
       "      <td>1</td>\n",
       "      <td>NBA000</td>\n",
       "      <td>12.7</td>\n",
       "      <td>3</td>\n",
       "    </tr>\n",
       "    <tr>\n",
       "      <th>825</th>\n",
       "      <td>41</td>\n",
       "      <td>2</td>\n",
       "      <td>4</td>\n",
       "      <td>26</td>\n",
       "      <td>1.473</td>\n",
       "      <td>3.519</td>\n",
       "      <td>1</td>\n",
       "      <td>NBA014</td>\n",
       "      <td>19.2</td>\n",
       "      <td>3</td>\n",
       "    </tr>\n",
       "    <tr>\n",
       "      <th>848</th>\n",
       "      <td>25</td>\n",
       "      <td>4</td>\n",
       "      <td>0</td>\n",
       "      <td>18</td>\n",
       "      <td>2.802</td>\n",
       "      <td>3.210</td>\n",
       "      <td>1</td>\n",
       "      <td>NBA001</td>\n",
       "      <td>33.4</td>\n",
       "      <td>3</td>\n",
       "    </tr>\n",
       "  </tbody>\n",
       "</table>\n",
       "<p>104 rows × 10 columns</p>\n",
       "</div>"
      ],
      "text/plain": [
       "             Age  Edu  Years Employed  Income  Card Debt  Other Debt  \\\n",
       "Customer Id                                                            \n",
       "3             33    2              10      57      6.111       5.802   \n",
       "11            44    3               8      88      0.285       5.083   \n",
       "15            28    3               2      20      0.233       1.647   \n",
       "23            28    3               6      47      5.574       3.732   \n",
       "33            23    2               0      42      1.019       0.619   \n",
       "...          ...  ...             ...     ...        ...         ...   \n",
       "797           25    4               0      24      1.597       1.307   \n",
       "817           36    2               6      27      0.262       0.980   \n",
       "824           27    4               0      25      1.419       1.756   \n",
       "825           41    2               4      26      1.473       3.519   \n",
       "848           25    4               0      18      2.802       3.210   \n",
       "\n",
       "             Defaulted Address  DebtIncomeRatio  Cluster_4  \n",
       "Customer Id                                                 \n",
       "3                    1  NBA013             20.9          3  \n",
       "11                   1  NBA010              6.1          3  \n",
       "15                   1  NBA000              9.4          3  \n",
       "23                   1  NBA008             19.8          3  \n",
       "33                   1  NBA001              3.9          3  \n",
       "...                ...     ...              ...        ...  \n",
       "797                  1  NBA006             12.1          3  \n",
       "817                  1  NBA015              4.6          3  \n",
       "824                  1  NBA000             12.7          3  \n",
       "825                  1  NBA014             19.2          3  \n",
       "848                  1  NBA001             33.4          3  \n",
       "\n",
       "[104 rows x 10 columns]"
      ]
     },
     "metadata": {},
     "output_type": "display_data"
    },
    {
     "data": {
      "text/html": [
       "<div>\n",
       "<style scoped>\n",
       "    .dataframe tbody tr th:only-of-type {\n",
       "        vertical-align: middle;\n",
       "    }\n",
       "\n",
       "    .dataframe tbody tr th {\n",
       "        vertical-align: top;\n",
       "    }\n",
       "\n",
       "    .dataframe thead th {\n",
       "        text-align: right;\n",
       "    }\n",
       "</style>\n",
       "<table border=\"1\" class=\"dataframe\">\n",
       "  <thead>\n",
       "    <tr style=\"text-align: right;\">\n",
       "      <th></th>\n",
       "      <th>Age</th>\n",
       "      <th>Edu</th>\n",
       "      <th>Years Employed</th>\n",
       "      <th>Income</th>\n",
       "      <th>Card Debt</th>\n",
       "      <th>Other Debt</th>\n",
       "      <th>Defaulted</th>\n",
       "      <th>DebtIncomeRatio</th>\n",
       "      <th>Cluster_4</th>\n",
       "    </tr>\n",
       "  </thead>\n",
       "  <tbody>\n",
       "    <tr>\n",
       "      <th>count</th>\n",
       "      <td>104.000000</td>\n",
       "      <td>104.000000</td>\n",
       "      <td>104.000000</td>\n",
       "      <td>104.000000</td>\n",
       "      <td>104.000000</td>\n",
       "      <td>104.000000</td>\n",
       "      <td>104.0</td>\n",
       "      <td>104.000000</td>\n",
       "      <td>104.0</td>\n",
       "    </tr>\n",
       "    <tr>\n",
       "      <th>mean</th>\n",
       "      <td>32.663462</td>\n",
       "      <td>2.586538</td>\n",
       "      <td>4.615385</td>\n",
       "      <td>47.663462</td>\n",
       "      <td>2.422279</td>\n",
       "      <td>4.287221</td>\n",
       "      <td>1.0</td>\n",
       "      <td>14.088462</td>\n",
       "      <td>3.0</td>\n",
       "    </tr>\n",
       "    <tr>\n",
       "      <th>std</th>\n",
       "      <td>7.836448</td>\n",
       "      <td>0.758263</td>\n",
       "      <td>4.653650</td>\n",
       "      <td>52.537109</td>\n",
       "      <td>2.908140</td>\n",
       "      <td>4.689026</td>\n",
       "      <td>0.0</td>\n",
       "      <td>7.407701</td>\n",
       "      <td>0.0</td>\n",
       "    </tr>\n",
       "    <tr>\n",
       "      <th>min</th>\n",
       "      <td>21.000000</td>\n",
       "      <td>2.000000</td>\n",
       "      <td>0.000000</td>\n",
       "      <td>15.000000</td>\n",
       "      <td>0.118000</td>\n",
       "      <td>0.161000</td>\n",
       "      <td>1.0</td>\n",
       "      <td>0.900000</td>\n",
       "      <td>3.0</td>\n",
       "    </tr>\n",
       "    <tr>\n",
       "      <th>25%</th>\n",
       "      <td>27.000000</td>\n",
       "      <td>2.000000</td>\n",
       "      <td>1.000000</td>\n",
       "      <td>24.000000</td>\n",
       "      <td>0.480750</td>\n",
       "      <td>1.459000</td>\n",
       "      <td>1.0</td>\n",
       "      <td>8.475000</td>\n",
       "      <td>3.0</td>\n",
       "    </tr>\n",
       "    <tr>\n",
       "      <th>50%</th>\n",
       "      <td>31.000000</td>\n",
       "      <td>2.000000</td>\n",
       "      <td>3.000000</td>\n",
       "      <td>33.000000</td>\n",
       "      <td>1.446000</td>\n",
       "      <td>2.711000</td>\n",
       "      <td>1.0</td>\n",
       "      <td>13.450000</td>\n",
       "      <td>3.0</td>\n",
       "    </tr>\n",
       "    <tr>\n",
       "      <th>75%</th>\n",
       "      <td>39.000000</td>\n",
       "      <td>3.000000</td>\n",
       "      <td>6.250000</td>\n",
       "      <td>52.750000</td>\n",
       "      <td>3.059000</td>\n",
       "      <td>5.071750</td>\n",
       "      <td>1.0</td>\n",
       "      <td>18.475000</td>\n",
       "      <td>3.0</td>\n",
       "    </tr>\n",
       "    <tr>\n",
       "      <th>max</th>\n",
       "      <td>53.000000</td>\n",
       "      <td>5.000000</td>\n",
       "      <td>18.000000</td>\n",
       "      <td>446.000000</td>\n",
       "      <td>16.031000</td>\n",
       "      <td>27.034000</td>\n",
       "      <td>1.0</td>\n",
       "      <td>36.600000</td>\n",
       "      <td>3.0</td>\n",
       "    </tr>\n",
       "  </tbody>\n",
       "</table>\n",
       "</div>"
      ],
      "text/plain": [
       "              Age         Edu  Years Employed      Income   Card Debt  \\\n",
       "count  104.000000  104.000000      104.000000  104.000000  104.000000   \n",
       "mean    32.663462    2.586538        4.615385   47.663462    2.422279   \n",
       "std      7.836448    0.758263        4.653650   52.537109    2.908140   \n",
       "min     21.000000    2.000000        0.000000   15.000000    0.118000   \n",
       "25%     27.000000    2.000000        1.000000   24.000000    0.480750   \n",
       "50%     31.000000    2.000000        3.000000   33.000000    1.446000   \n",
       "75%     39.000000    3.000000        6.250000   52.750000    3.059000   \n",
       "max     53.000000    5.000000       18.000000  446.000000   16.031000   \n",
       "\n",
       "       Other Debt  Defaulted  DebtIncomeRatio  Cluster_4  \n",
       "count  104.000000      104.0       104.000000      104.0  \n",
       "mean     4.287221        1.0        14.088462        3.0  \n",
       "std      4.689026        0.0         7.407701        0.0  \n",
       "min      0.161000        1.0         0.900000        3.0  \n",
       "25%      1.459000        1.0         8.475000        3.0  \n",
       "50%      2.711000        1.0        13.450000        3.0  \n",
       "75%      5.071750        1.0        18.475000        3.0  \n",
       "max     27.034000        1.0        36.600000        3.0  "
      ]
     },
     "metadata": {},
     "output_type": "display_data"
    },
    {
     "name": "stdout",
     "output_type": "stream",
     "text": [
      "\n",
      " ==================================================================================================== \n",
      "\n"
     ]
    }
   ],
   "source": [
    "clusters = {}\n",
    "\n",
    "for c in range(n_clusters_4):\n",
    "    clusters[c] = df[df.Cluster_4 == c]\n",
    "    display(clusters[c])\n",
    "    display(clusters[c].describe())\n",
    "    print('\\n', '=' * 100, '\\n')"
   ]
  },
  {
   "cell_type": "markdown",
   "metadata": {},
   "source": [
    "#### 2-D"
   ]
  },
  {
   "cell_type": "code",
   "execution_count": 27,
   "metadata": {},
   "outputs": [
    {
     "data": {
      "text/plain": [
       "<matplotlib.legend.Legend at 0x7f6f6365e040>"
      ]
     },
     "execution_count": 27,
     "metadata": {},
     "output_type": "execute_result"
    },
    {
     "data": {
      "image/png": "[encoded data removed]",
      "text/plain": [
       "<Figure size 720x216 with 1 Axes>"
      ]
     },
     "metadata": {
      "needs_background": "light"
     },
     "output_type": "display_data"
    }
   ],
   "source": [
    "fig, ax = plt.subplots(figsize=(10, 3))\n",
    "\n",
    "sns.scatterplot(x=df.Edu, \n",
    "                y=df.Defaulted, \n",
    "                size=df.Income, \n",
    "                sizes=(10, 450), \n",
    "                hue=df.Cluster_4, \n",
    "                palette=['r', 'b', 'g', 'm'], \n",
    "                alpha=0.3,\n",
    "                ax=ax)\n",
    "\n",
    "ax.xaxis.set_major_locator(ticker.MultipleLocator(1))\n",
    "ax.yaxis.set_major_locator(ticker.MultipleLocator(1))\n",
    "\n",
    "plt.legend(bbox_to_anchor=(1.05, 1), loc=2, borderaxespad=0.)"
   ]
  },
  {
   "cell_type": "code",
   "execution_count": 28,
   "metadata": {},
   "outputs": [
    {
     "data": {
      "text/plain": [
       "<matplotlib.legend.Legend at 0x7f6f636837c0>"
      ]
     },
     "execution_count": 28,
     "metadata": {},
     "output_type": "execute_result"
    },
    {
     "data": {
      "image/png": "[encoded data removed]",
      "text/plain": [
       "<Figure size 360x720 with 1 Axes>"
      ]
     },
     "metadata": {
      "needs_background": "light"
     },
     "output_type": "display_data"
    }
   ],
   "source": [
    "fig, ax = plt.subplots(figsize=(5, 10))\n",
    "\n",
    "sns.scatterplot(x=df.Edu, \n",
    "                y=df['Years Employed'], #df.Defaulted, \n",
    "                size=df.Defaulted, \n",
    "                sizes=(250, 50), \n",
    "                hue=df.Cluster_4, \n",
    "                palette=['fuchsia', 'r', 'dodgerblue', 'lime'], \n",
    "                alpha=0.3,\n",
    "                ax=ax)\n",
    "\n",
    "ax.xaxis.set_major_locator(ticker.MultipleLocator(1))\n",
    "ax.yaxis.set_major_locator(ticker.MultipleLocator(1))\n",
    "\n",
    "plt.legend(bbox_to_anchor=(1.05, 1), loc=2, borderaxespad=0.)"
   ]
  },
  {
   "cell_type": "markdown",
   "metadata": {},
   "source": [
    "#### 3-D"
   ]
  },
  {
   "cell_type": "code",
   "execution_count": 46,
   "metadata": {
    "collapsed": false,
    "jupyter": {
     "outputs_hidden": false
    },
    "pycharm": {
     "name": "#%%\n"
    }
   },
   "outputs": [
    {
     "data": {
      "application/vnd.jupyter.widget-view+json": {
       "model_id": "77fc2d8aaff7478795029c30997072b5",
       "version_major": 2,
       "version_minor": 0
      },
      "text/plain": [
       "Canvas(toolbar=Toolbar(toolitems=[('Home', 'Reset original view', 'home', 'home'), ('Back', 'Back to previous …"
      ]
     },
     "metadata": {},
     "output_type": "display_data"
    },
    {
     "data": {
      "text/plain": [
       "Text(0.5, 0, 'Income')"
      ]
     },
     "execution_count": 46,
     "metadata": {},
     "output_type": "execute_result"
    }
   ],
   "source": [
    "%matplotlib widget\n",
    "from mpl_toolkits.mplot3d.axes3d import Axes3D\n",
    "fig = plt.figure(figsize=(5, 5))\n",
    "ax = Axes3D(fig, azim=-45, elev=25)\n",
    "\n",
    "\n",
    "ax.scatter(df.Edu, df.Defaulted, df.Income, \n",
    "           c=df.Cluster_4,\n",
    "           alpha=0.5, \n",
    "           s=50)\n",
    "\n",
    "ax.set_xlabel('Education')\n",
    "ax.set_ylabel('Defaulted')\n",
    "ax.set_zlabel('Income')"
   ]
  },
  {
   "cell_type": "code",
   "execution_count": 30,
   "metadata": {
    "collapsed": false,
    "jupyter": {
     "outputs_hidden": false
    },
    "pycharm": {
     "name": "#%%\n"
    }
   },
   "outputs": [],
   "source": [
    "%matplotlib inline"
   ]
  }
 ],
 "metadata": {
  "kernelspec": {
   "display_name": "Python [conda env:LevelUp_DataScience] *",
   "language": "python",
   "name": "conda-env-LevelUp_DataScience-py"
  },
  "language_info": {
   "codemirror_mode": {
    "name": "ipython",
    "version": 3
   },
   "file_extension": ".py",
   "mimetype": "text/x-python",
   "name": "python",
   "nbconvert_exporter": "python",
   "pygments_lexer": "ipython3",
   "version": "3.8.3"
  }
 },
 "nbformat": 4,
 "nbformat_minor": 4
}
