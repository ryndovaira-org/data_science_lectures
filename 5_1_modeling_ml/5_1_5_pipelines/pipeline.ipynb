{
 "cells": [
  {
   "cell_type": "markdown",
   "source": [
    "[Machine Learning Pipeline](https://zhangruochi.com/Machine-Learning-Pipeline/2020/04/13/)\n",
    "\n",
    "[From pandas to scikit-learn - An Exciting New Workflow](https://www.dunderdata.com/blog/from-pandas-to-scikit-learn-an-exciting-new-worflow)\n",
    "\n",
    "[Column Transformer with Mixed Types](https://scikit-learn.org/stable/auto_examples/compose/plot_column_transformer_mixed_types.html)\n",
    "\n",
    "[]()\n",
    "\n",
    "[]()\n",
    "\n",
    "[]()\n",
    "\n",
    "[]()"
   ],
   "metadata": {
    "collapsed": false
   }
  }
 ],
 "metadata": {
  "kernelspec": {
   "display_name": "Python 3",
   "language": "python",
   "name": "python3"
  },
  "language_info": {
   "codemirror_mode": {
    "name": "ipython",
    "version": 2
   },
   "file_extension": ".py",
   "mimetype": "text/x-python",
   "name": "python",
   "nbconvert_exporter": "python",
   "pygments_lexer": "ipython2",
   "version": "2.7.6"
  }
 },
 "nbformat": 4,
 "nbformat_minor": 0
}