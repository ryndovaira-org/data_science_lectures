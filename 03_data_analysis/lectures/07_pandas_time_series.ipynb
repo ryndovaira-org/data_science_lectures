{
 "cells": [
  {
   "cell_type": "markdown",
   "metadata": {
    "pycharm": {
     "name": "#%% md\n"
    }
   },
   "source": [
    "# Пакет `pandas`: анализ временных рядов"
   ]
  },
  {
   "cell_type": "markdown",
   "metadata": {},
   "source": [
    "---\n",
    "\n",
    "**Источники:**\n",
    "\n",
    "[Временной ряд](https://ru.wikipedia.org/wiki/%D0%92%D1%80%D0%B5%D0%BC%D0%B5%D0%BD%D0%BD%D0%BE%D0%B9_%D1%80%D1%8F%D0%B4#:~:text=%D0%BF%D0%BE%20%D1%85%D0%B0%D1%80%D0%B0%D0%BA%D1%82%D0%B5%D1%80%D1%83%20%D0%B2%D1%80%D0%B5%D0%BC%D0%B5%D0%BD%D0%BD%D0%BE%D0%B3%D0%BE%20%D0%BF%D0%B0%D1%80%D0%B0%D0%BC%D0%B5%D1%82%D1%80%D0%B0%3A%20%D0%BC%D0%BE%D0%BC%D0%B5%D0%BD%D1%82%D0%BD%D1%8B%D0%B5,%D0%BF%D0%BE%D0%BA%D0%B0%D0%B7%D0%B0%D1%82%D0%B5%D0%BB%D1%8F%20%D0%B7%D0%B0%20%D0%BE%D0%BF%D1%80%D0%B5%D0%B4%D0%B5%D0%BB%D0%B5%D0%BD%D0%BD%D1%8B%D0%B5%20%D0%BF%D0%B5%D1%80%D0%B8%D0%BE%D0%B4%D1%8B%20%D0%B2%D1%80%D0%B5%D0%BC%D0%B5%D0%BD%D0%B8.)\n",
    "\n",
    "[Введение в pandas: анализ данных на Python](https://khashtamov.com/ru/pandas-introduction/)\n",
    "\n",
    "[Time series / date functionality](https://pandas.pydata.org/pandas-docs/stable/user_guide/timeseries.html)\n",
    "\n",
    "---"
   ]
  },
  {
   "cell_type": "markdown",
   "metadata": {},
   "source": [
    "## Подготовка окружения"
   ]
  },
  {
   "cell_type": "code",
   "execution_count": 1,
   "metadata": {
    "collapsed": false,
    "jupyter": {
     "outputs_hidden": false
    },
    "pycharm": {
     "name": "#%%\n"
    }
   },
   "outputs": [
    {
     "name": "stdout",
     "output_type": "stream",
     "text": [
      "pip 20.3.3 from /home/ira/anaconda3/envs/LevelUp_DataScience/lib/python3.8/site-packages/pip (python 3.8)\n"
     ]
    }
   ],
   "source": [
    "# ВНИМАНИЕ: необходимо удостовериться, что виртуальная среда выбрана правильно!\n",
    "\n",
    "!pip -V"
   ]
  },
  {
   "cell_type": "code",
   "execution_count": 2,
   "metadata": {
    "collapsed": false,
    "jupyter": {
     "outputs_hidden": false
    },
    "pycharm": {
     "name": "#%%\n"
    }
   },
   "outputs": [],
   "source": [
    "# !conda install pandas -y"
   ]
  },
  {
   "cell_type": "code",
   "execution_count": 3,
   "metadata": {
    "collapsed": false,
    "jupyter": {
     "outputs_hidden": false
    },
    "pycharm": {
     "name": "#%%\n"
    }
   },
   "outputs": [
    {
     "data": {
      "text/plain": [
       "'1.2.1'"
      ]
     },
     "execution_count": 3,
     "metadata": {},
     "output_type": "execute_result"
    }
   ],
   "source": [
    "import pandas as pd\n",
    "\n",
    "pd.__version__"
   ]
  },
  {
   "cell_type": "markdown",
   "metadata": {},
   "source": [
    "## Что такое временно́й ряд и анализ временны́х рядов?\n",
    "\n",
    "**Временно́й ряд (или ряд динамики)** — собранный в разные моменты времени статистический материал о значении каких-либо параметров (в простейшем случае одного) исследуемого процесса.\n",
    "\n",
    "Каждая единица статистического материала называется измерением или отсчётом, также допустимо называть его уровнем на указанный с ним момент времени.\n",
    "\n",
    "Во временном ряде для каждого отсчёта должно быть указано время измерения или номер измерения по порядку.\n",
    "\n",
    "**Примеры временных рядов:**\n",
    "Это могут быть как показатели (характеристики) технических систем, так и показатели природных, социальных, экономических и других систем (например, погодные данные).\n",
    "Типичным примером временного ряда можно назвать биржевой курс, при анализе которого пытаются определить основное направление развития (тенденцию или тренд).\n",
    "\n",
    "Временной ряд существенно отличается от простой выборки данных, так как **при анализе учитывается взаимосвязь измерений со временем**, а не только статистическое разнообразие и статистические характеристики выборки.\n",
    "\n",
    "\n",
    "**Анализ временны́х рядов** — совокупность математико-статистических методов анализа, предназначенных для выявления структуры временных рядов и для их прогнозирования.\n",
    "\n",
    "Выявление структуры временного ряда необходимо для того, чтобы построить математическую модель того явления, которое является источником анализируемого временного ряда. Прогноз будущих значений временного ряда используется для эффективного принятия решений.\n",
    "\n",
    "**Временные ряды** состоят из двух элементов:\n",
    "- периода времени, за который или по состоянию на который приводятся числовые значения;\n",
    "- числовых значений того или иного показателя, называемых уровнями ряда.\n",
    "\n",
    "<img src=\"images/time_series_example.png\"/>"
   ]
  },
  {
   "cell_type": "markdown",
   "metadata": {},
   "source": [
    "## Анализ временных рядов с помощью `pandas`\n",
    "\n",
    "Используются [данные о ценах на акции Apple 2010-2017](https://www.kaggle.com/fayomi/apple-stock-prices-from-20102017)"
   ]
  },
  {
   "cell_type": "code",
   "execution_count": 4,
   "metadata": {},
   "outputs": [
    {
     "data": {
      "text/html": [
       "<div>\n",
       "<style scoped>\n",
       "    .dataframe tbody tr th:only-of-type {\n",
       "        vertical-align: middle;\n",
       "    }\n",
       "\n",
       "    .dataframe tbody tr th {\n",
       "        vertical-align: top;\n",
       "    }\n",
       "\n",
       "    .dataframe thead th {\n",
       "        text-align: right;\n",
       "    }\n",
       "</style>\n",
       "<table border=\"1\" class=\"dataframe\">\n",
       "  <thead>\n",
       "    <tr style=\"text-align: right;\">\n",
       "      <th></th>\n",
       "      <th>Open</th>\n",
       "      <th>High</th>\n",
       "      <th>Low</th>\n",
       "      <th>Close</th>\n",
       "      <th>Volume</th>\n",
       "      <th>Ex-Dividend</th>\n",
       "      <th>Split Ratio</th>\n",
       "      <th>Adj. Open</th>\n",
       "      <th>Adj. High</th>\n",
       "      <th>Adj. Low</th>\n",
       "      <th>Adj. Close</th>\n",
       "      <th>Adj. Volume</th>\n",
       "    </tr>\n",
       "    <tr>\n",
       "      <th>Date</th>\n",
       "      <th></th>\n",
       "      <th></th>\n",
       "      <th></th>\n",
       "      <th></th>\n",
       "      <th></th>\n",
       "      <th></th>\n",
       "      <th></th>\n",
       "      <th></th>\n",
       "      <th></th>\n",
       "      <th></th>\n",
       "      <th></th>\n",
       "      <th></th>\n",
       "    </tr>\n",
       "  </thead>\n",
       "  <tbody>\n",
       "    <tr>\n",
       "      <th>2010-01-04</th>\n",
       "      <td>213.43</td>\n",
       "      <td>214.5000</td>\n",
       "      <td>212.38</td>\n",
       "      <td>214.01</td>\n",
       "      <td>17633200.0</td>\n",
       "      <td>0.0</td>\n",
       "      <td>1.0</td>\n",
       "      <td>27.428730</td>\n",
       "      <td>27.566240</td>\n",
       "      <td>27.293790</td>\n",
       "      <td>27.503268</td>\n",
       "      <td>123432400.0</td>\n",
       "    </tr>\n",
       "    <tr>\n",
       "      <th>2010-01-05</th>\n",
       "      <td>214.60</td>\n",
       "      <td>215.5900</td>\n",
       "      <td>213.25</td>\n",
       "      <td>214.38</td>\n",
       "      <td>21496600.0</td>\n",
       "      <td>0.0</td>\n",
       "      <td>1.0</td>\n",
       "      <td>27.579091</td>\n",
       "      <td>27.706320</td>\n",
       "      <td>27.405597</td>\n",
       "      <td>27.550818</td>\n",
       "      <td>150476200.0</td>\n",
       "    </tr>\n",
       "    <tr>\n",
       "      <th>2010-01-06</th>\n",
       "      <td>214.38</td>\n",
       "      <td>215.2300</td>\n",
       "      <td>210.75</td>\n",
       "      <td>210.97</td>\n",
       "      <td>19720000.0</td>\n",
       "      <td>0.0</td>\n",
       "      <td>1.0</td>\n",
       "      <td>27.550818</td>\n",
       "      <td>27.660055</td>\n",
       "      <td>27.084312</td>\n",
       "      <td>27.112585</td>\n",
       "      <td>138040000.0</td>\n",
       "    </tr>\n",
       "    <tr>\n",
       "      <th>2010-01-07</th>\n",
       "      <td>211.75</td>\n",
       "      <td>212.0000</td>\n",
       "      <td>209.05</td>\n",
       "      <td>210.58</td>\n",
       "      <td>17040400.0</td>\n",
       "      <td>0.0</td>\n",
       "      <td>1.0</td>\n",
       "      <td>27.212826</td>\n",
       "      <td>27.244955</td>\n",
       "      <td>26.865839</td>\n",
       "      <td>27.062465</td>\n",
       "      <td>119282800.0</td>\n",
       "    </tr>\n",
       "    <tr>\n",
       "      <th>2010-01-08</th>\n",
       "      <td>210.30</td>\n",
       "      <td>212.0000</td>\n",
       "      <td>209.06</td>\n",
       "      <td>211.98</td>\n",
       "      <td>15986100.0</td>\n",
       "      <td>0.0</td>\n",
       "      <td>1.0</td>\n",
       "      <td>27.026481</td>\n",
       "      <td>27.244955</td>\n",
       "      <td>26.867124</td>\n",
       "      <td>27.242385</td>\n",
       "      <td>111902700.0</td>\n",
       "    </tr>\n",
       "    <tr>\n",
       "      <th>...</th>\n",
       "      <td>...</td>\n",
       "      <td>...</td>\n",
       "      <td>...</td>\n",
       "      <td>...</td>\n",
       "      <td>...</td>\n",
       "      <td>...</td>\n",
       "      <td>...</td>\n",
       "      <td>...</td>\n",
       "      <td>...</td>\n",
       "      <td>...</td>\n",
       "      <td>...</td>\n",
       "      <td>...</td>\n",
       "    </tr>\n",
       "    <tr>\n",
       "      <th>2016-12-23</th>\n",
       "      <td>115.59</td>\n",
       "      <td>116.5200</td>\n",
       "      <td>115.59</td>\n",
       "      <td>116.52</td>\n",
       "      <td>14249484.0</td>\n",
       "      <td>0.0</td>\n",
       "      <td>1.0</td>\n",
       "      <td>114.162295</td>\n",
       "      <td>115.080808</td>\n",
       "      <td>114.162295</td>\n",
       "      <td>115.080808</td>\n",
       "      <td>14249484.0</td>\n",
       "    </tr>\n",
       "    <tr>\n",
       "      <th>2016-12-27</th>\n",
       "      <td>116.52</td>\n",
       "      <td>117.8000</td>\n",
       "      <td>116.49</td>\n",
       "      <td>117.26</td>\n",
       "      <td>18296855.0</td>\n",
       "      <td>0.0</td>\n",
       "      <td>1.0</td>\n",
       "      <td>115.080808</td>\n",
       "      <td>116.344998</td>\n",
       "      <td>115.051178</td>\n",
       "      <td>115.811668</td>\n",
       "      <td>18296855.0</td>\n",
       "    </tr>\n",
       "    <tr>\n",
       "      <th>2016-12-28</th>\n",
       "      <td>117.52</td>\n",
       "      <td>118.0166</td>\n",
       "      <td>116.20</td>\n",
       "      <td>116.76</td>\n",
       "      <td>20905892.0</td>\n",
       "      <td>0.0</td>\n",
       "      <td>1.0</td>\n",
       "      <td>116.068456</td>\n",
       "      <td>116.558923</td>\n",
       "      <td>114.764760</td>\n",
       "      <td>115.317843</td>\n",
       "      <td>20905892.0</td>\n",
       "    </tr>\n",
       "    <tr>\n",
       "      <th>2016-12-29</th>\n",
       "      <td>116.45</td>\n",
       "      <td>117.1095</td>\n",
       "      <td>116.40</td>\n",
       "      <td>116.73</td>\n",
       "      <td>15039519.0</td>\n",
       "      <td>0.0</td>\n",
       "      <td>1.0</td>\n",
       "      <td>115.011672</td>\n",
       "      <td>115.663027</td>\n",
       "      <td>114.962290</td>\n",
       "      <td>115.288214</td>\n",
       "      <td>15039519.0</td>\n",
       "    </tr>\n",
       "    <tr>\n",
       "      <th>2016-12-30</th>\n",
       "      <td>116.65</td>\n",
       "      <td>117.2000</td>\n",
       "      <td>115.43</td>\n",
       "      <td>115.82</td>\n",
       "      <td>30586265.0</td>\n",
       "      <td>0.0</td>\n",
       "      <td>1.0</td>\n",
       "      <td>115.209202</td>\n",
       "      <td>115.752409</td>\n",
       "      <td>114.004271</td>\n",
       "      <td>114.389454</td>\n",
       "      <td>30586265.0</td>\n",
       "    </tr>\n",
       "  </tbody>\n",
       "</table>\n",
       "<p>1762 rows × 12 columns</p>\n",
       "</div>"
      ],
      "text/plain": [
       "              Open      High     Low   Close      Volume  Ex-Dividend  \\\n",
       "Date                                                                    \n",
       "2010-01-04  213.43  214.5000  212.38  214.01  17633200.0          0.0   \n",
       "2010-01-05  214.60  215.5900  213.25  214.38  21496600.0          0.0   \n",
       "2010-01-06  214.38  215.2300  210.75  210.97  19720000.0          0.0   \n",
       "2010-01-07  211.75  212.0000  209.05  210.58  17040400.0          0.0   \n",
       "2010-01-08  210.30  212.0000  209.06  211.98  15986100.0          0.0   \n",
       "...            ...       ...     ...     ...         ...          ...   \n",
       "2016-12-23  115.59  116.5200  115.59  116.52  14249484.0          0.0   \n",
       "2016-12-27  116.52  117.8000  116.49  117.26  18296855.0          0.0   \n",
       "2016-12-28  117.52  118.0166  116.20  116.76  20905892.0          0.0   \n",
       "2016-12-29  116.45  117.1095  116.40  116.73  15039519.0          0.0   \n",
       "2016-12-30  116.65  117.2000  115.43  115.82  30586265.0          0.0   \n",
       "\n",
       "            Split Ratio   Adj. Open   Adj. High    Adj. Low  Adj. Close  \\\n",
       "Date                                                                      \n",
       "2010-01-04          1.0   27.428730   27.566240   27.293790   27.503268   \n",
       "2010-01-05          1.0   27.579091   27.706320   27.405597   27.550818   \n",
       "2010-01-06          1.0   27.550818   27.660055   27.084312   27.112585   \n",
       "2010-01-07          1.0   27.212826   27.244955   26.865839   27.062465   \n",
       "2010-01-08          1.0   27.026481   27.244955   26.867124   27.242385   \n",
       "...                 ...         ...         ...         ...         ...   \n",
       "2016-12-23          1.0  114.162295  115.080808  114.162295  115.080808   \n",
       "2016-12-27          1.0  115.080808  116.344998  115.051178  115.811668   \n",
       "2016-12-28          1.0  116.068456  116.558923  114.764760  115.317843   \n",
       "2016-12-29          1.0  115.011672  115.663027  114.962290  115.288214   \n",
       "2016-12-30          1.0  115.209202  115.752409  114.004271  114.389454   \n",
       "\n",
       "            Adj. Volume  \n",
       "Date                     \n",
       "2010-01-04  123432400.0  \n",
       "2010-01-05  150476200.0  \n",
       "2010-01-06  138040000.0  \n",
       "2010-01-07  119282800.0  \n",
       "2010-01-08  111902700.0  \n",
       "...                 ...  \n",
       "2016-12-23   14249484.0  \n",
       "2016-12-27   18296855.0  \n",
       "2016-12-28   20905892.0  \n",
       "2016-12-29   15039519.0  \n",
       "2016-12-30   30586265.0  \n",
       "\n",
       "[1762 rows x 12 columns]"
      ]
     },
     "execution_count": 4,
     "metadata": {},
     "output_type": "execute_result"
    }
   ],
   "source": [
    "df = pd.read_csv('./../../data/apple.csv', \n",
    "                 index_col='Date', \n",
    "                 parse_dates=True)\n",
    "\n",
    "df"
   ]
  },
  {
   "cell_type": "markdown",
   "metadata": {},
   "source": [
    "Сформируем `DataFrame` с `DatetimeIndex` по колонке `Date` и сортируем новый индекс в правильном порядке для работы с выборками.\n",
    "\n",
    "Если колонка имеет формат даты и времени отличный от `ISO8601`, то для правильного перевода строки в нужный тип, можно использовать метод `pandas.to_datetime`."
   ]
  },
  {
   "cell_type": "code",
   "execution_count": 5,
   "metadata": {},
   "outputs": [
    {
     "data": {
      "text/html": [
       "<div>\n",
       "<style scoped>\n",
       "    .dataframe tbody tr th:only-of-type {\n",
       "        vertical-align: middle;\n",
       "    }\n",
       "\n",
       "    .dataframe tbody tr th {\n",
       "        vertical-align: top;\n",
       "    }\n",
       "\n",
       "    .dataframe thead th {\n",
       "        text-align: right;\n",
       "    }\n",
       "</style>\n",
       "<table border=\"1\" class=\"dataframe\">\n",
       "  <thead>\n",
       "    <tr style=\"text-align: right;\">\n",
       "      <th></th>\n",
       "      <th>Open</th>\n",
       "      <th>High</th>\n",
       "      <th>Low</th>\n",
       "      <th>Close</th>\n",
       "      <th>Volume</th>\n",
       "      <th>Ex-Dividend</th>\n",
       "      <th>Split Ratio</th>\n",
       "      <th>Adj. Open</th>\n",
       "      <th>Adj. High</th>\n",
       "      <th>Adj. Low</th>\n",
       "      <th>Adj. Close</th>\n",
       "      <th>Adj. Volume</th>\n",
       "    </tr>\n",
       "    <tr>\n",
       "      <th>Date</th>\n",
       "      <th></th>\n",
       "      <th></th>\n",
       "      <th></th>\n",
       "      <th></th>\n",
       "      <th></th>\n",
       "      <th></th>\n",
       "      <th></th>\n",
       "      <th></th>\n",
       "      <th></th>\n",
       "      <th></th>\n",
       "      <th></th>\n",
       "      <th></th>\n",
       "    </tr>\n",
       "  </thead>\n",
       "  <tbody>\n",
       "    <tr>\n",
       "      <th>2010-01-04</th>\n",
       "      <td>213.43</td>\n",
       "      <td>214.5000</td>\n",
       "      <td>212.38</td>\n",
       "      <td>214.01</td>\n",
       "      <td>17633200.0</td>\n",
       "      <td>0.0</td>\n",
       "      <td>1.0</td>\n",
       "      <td>27.428730</td>\n",
       "      <td>27.566240</td>\n",
       "      <td>27.293790</td>\n",
       "      <td>27.503268</td>\n",
       "      <td>123432400.0</td>\n",
       "    </tr>\n",
       "    <tr>\n",
       "      <th>2010-01-05</th>\n",
       "      <td>214.60</td>\n",
       "      <td>215.5900</td>\n",
       "      <td>213.25</td>\n",
       "      <td>214.38</td>\n",
       "      <td>21496600.0</td>\n",
       "      <td>0.0</td>\n",
       "      <td>1.0</td>\n",
       "      <td>27.579091</td>\n",
       "      <td>27.706320</td>\n",
       "      <td>27.405597</td>\n",
       "      <td>27.550818</td>\n",
       "      <td>150476200.0</td>\n",
       "    </tr>\n",
       "    <tr>\n",
       "      <th>2010-01-06</th>\n",
       "      <td>214.38</td>\n",
       "      <td>215.2300</td>\n",
       "      <td>210.75</td>\n",
       "      <td>210.97</td>\n",
       "      <td>19720000.0</td>\n",
       "      <td>0.0</td>\n",
       "      <td>1.0</td>\n",
       "      <td>27.550818</td>\n",
       "      <td>27.660055</td>\n",
       "      <td>27.084312</td>\n",
       "      <td>27.112585</td>\n",
       "      <td>138040000.0</td>\n",
       "    </tr>\n",
       "    <tr>\n",
       "      <th>2010-01-07</th>\n",
       "      <td>211.75</td>\n",
       "      <td>212.0000</td>\n",
       "      <td>209.05</td>\n",
       "      <td>210.58</td>\n",
       "      <td>17040400.0</td>\n",
       "      <td>0.0</td>\n",
       "      <td>1.0</td>\n",
       "      <td>27.212826</td>\n",
       "      <td>27.244955</td>\n",
       "      <td>26.865839</td>\n",
       "      <td>27.062465</td>\n",
       "      <td>119282800.0</td>\n",
       "    </tr>\n",
       "    <tr>\n",
       "      <th>2010-01-08</th>\n",
       "      <td>210.30</td>\n",
       "      <td>212.0000</td>\n",
       "      <td>209.06</td>\n",
       "      <td>211.98</td>\n",
       "      <td>15986100.0</td>\n",
       "      <td>0.0</td>\n",
       "      <td>1.0</td>\n",
       "      <td>27.026481</td>\n",
       "      <td>27.244955</td>\n",
       "      <td>26.867124</td>\n",
       "      <td>27.242385</td>\n",
       "      <td>111902700.0</td>\n",
       "    </tr>\n",
       "    <tr>\n",
       "      <th>...</th>\n",
       "      <td>...</td>\n",
       "      <td>...</td>\n",
       "      <td>...</td>\n",
       "      <td>...</td>\n",
       "      <td>...</td>\n",
       "      <td>...</td>\n",
       "      <td>...</td>\n",
       "      <td>...</td>\n",
       "      <td>...</td>\n",
       "      <td>...</td>\n",
       "      <td>...</td>\n",
       "      <td>...</td>\n",
       "    </tr>\n",
       "    <tr>\n",
       "      <th>2016-12-23</th>\n",
       "      <td>115.59</td>\n",
       "      <td>116.5200</td>\n",
       "      <td>115.59</td>\n",
       "      <td>116.52</td>\n",
       "      <td>14249484.0</td>\n",
       "      <td>0.0</td>\n",
       "      <td>1.0</td>\n",
       "      <td>114.162295</td>\n",
       "      <td>115.080808</td>\n",
       "      <td>114.162295</td>\n",
       "      <td>115.080808</td>\n",
       "      <td>14249484.0</td>\n",
       "    </tr>\n",
       "    <tr>\n",
       "      <th>2016-12-27</th>\n",
       "      <td>116.52</td>\n",
       "      <td>117.8000</td>\n",
       "      <td>116.49</td>\n",
       "      <td>117.26</td>\n",
       "      <td>18296855.0</td>\n",
       "      <td>0.0</td>\n",
       "      <td>1.0</td>\n",
       "      <td>115.080808</td>\n",
       "      <td>116.344998</td>\n",
       "      <td>115.051178</td>\n",
       "      <td>115.811668</td>\n",
       "      <td>18296855.0</td>\n",
       "    </tr>\n",
       "    <tr>\n",
       "      <th>2016-12-28</th>\n",
       "      <td>117.52</td>\n",
       "      <td>118.0166</td>\n",
       "      <td>116.20</td>\n",
       "      <td>116.76</td>\n",
       "      <td>20905892.0</td>\n",
       "      <td>0.0</td>\n",
       "      <td>1.0</td>\n",
       "      <td>116.068456</td>\n",
       "      <td>116.558923</td>\n",
       "      <td>114.764760</td>\n",
       "      <td>115.317843</td>\n",
       "      <td>20905892.0</td>\n",
       "    </tr>\n",
       "    <tr>\n",
       "      <th>2016-12-29</th>\n",
       "      <td>116.45</td>\n",
       "      <td>117.1095</td>\n",
       "      <td>116.40</td>\n",
       "      <td>116.73</td>\n",
       "      <td>15039519.0</td>\n",
       "      <td>0.0</td>\n",
       "      <td>1.0</td>\n",
       "      <td>115.011672</td>\n",
       "      <td>115.663027</td>\n",
       "      <td>114.962290</td>\n",
       "      <td>115.288214</td>\n",
       "      <td>15039519.0</td>\n",
       "    </tr>\n",
       "    <tr>\n",
       "      <th>2016-12-30</th>\n",
       "      <td>116.65</td>\n",
       "      <td>117.2000</td>\n",
       "      <td>115.43</td>\n",
       "      <td>115.82</td>\n",
       "      <td>30586265.0</td>\n",
       "      <td>0.0</td>\n",
       "      <td>1.0</td>\n",
       "      <td>115.209202</td>\n",
       "      <td>115.752409</td>\n",
       "      <td>114.004271</td>\n",
       "      <td>114.389454</td>\n",
       "      <td>30586265.0</td>\n",
       "    </tr>\n",
       "  </tbody>\n",
       "</table>\n",
       "<p>1762 rows × 12 columns</p>\n",
       "</div>"
      ],
      "text/plain": [
       "              Open      High     Low   Close      Volume  Ex-Dividend  \\\n",
       "Date                                                                    \n",
       "2010-01-04  213.43  214.5000  212.38  214.01  17633200.0          0.0   \n",
       "2010-01-05  214.60  215.5900  213.25  214.38  21496600.0          0.0   \n",
       "2010-01-06  214.38  215.2300  210.75  210.97  19720000.0          0.0   \n",
       "2010-01-07  211.75  212.0000  209.05  210.58  17040400.0          0.0   \n",
       "2010-01-08  210.30  212.0000  209.06  211.98  15986100.0          0.0   \n",
       "...            ...       ...     ...     ...         ...          ...   \n",
       "2016-12-23  115.59  116.5200  115.59  116.52  14249484.0          0.0   \n",
       "2016-12-27  116.52  117.8000  116.49  117.26  18296855.0          0.0   \n",
       "2016-12-28  117.52  118.0166  116.20  116.76  20905892.0          0.0   \n",
       "2016-12-29  116.45  117.1095  116.40  116.73  15039519.0          0.0   \n",
       "2016-12-30  116.65  117.2000  115.43  115.82  30586265.0          0.0   \n",
       "\n",
       "            Split Ratio   Adj. Open   Adj. High    Adj. Low  Adj. Close  \\\n",
       "Date                                                                      \n",
       "2010-01-04          1.0   27.428730   27.566240   27.293790   27.503268   \n",
       "2010-01-05          1.0   27.579091   27.706320   27.405597   27.550818   \n",
       "2010-01-06          1.0   27.550818   27.660055   27.084312   27.112585   \n",
       "2010-01-07          1.0   27.212826   27.244955   26.865839   27.062465   \n",
       "2010-01-08          1.0   27.026481   27.244955   26.867124   27.242385   \n",
       "...                 ...         ...         ...         ...         ...   \n",
       "2016-12-23          1.0  114.162295  115.080808  114.162295  115.080808   \n",
       "2016-12-27          1.0  115.080808  116.344998  115.051178  115.811668   \n",
       "2016-12-28          1.0  116.068456  116.558923  114.764760  115.317843   \n",
       "2016-12-29          1.0  115.011672  115.663027  114.962290  115.288214   \n",
       "2016-12-30          1.0  115.209202  115.752409  114.004271  114.389454   \n",
       "\n",
       "            Adj. Volume  \n",
       "Date                     \n",
       "2010-01-04  123432400.0  \n",
       "2010-01-05  150476200.0  \n",
       "2010-01-06  138040000.0  \n",
       "2010-01-07  119282800.0  \n",
       "2010-01-08  111902700.0  \n",
       "...                 ...  \n",
       "2016-12-23   14249484.0  \n",
       "2016-12-27   18296855.0  \n",
       "2016-12-28   20905892.0  \n",
       "2016-12-29   15039519.0  \n",
       "2016-12-30   30586265.0  \n",
       "\n",
       "[1762 rows x 12 columns]"
      ]
     },
     "execution_count": 5,
     "metadata": {},
     "output_type": "execute_result"
    }
   ],
   "source": [
    "df = df.sort_index()\n",
    "\n",
    "df"
   ]
  },
  {
   "cell_type": "code",
   "execution_count": 6,
   "metadata": {},
   "outputs": [
    {
     "name": "stdout",
     "output_type": "stream",
     "text": [
      "<class 'pandas.core.frame.DataFrame'>\n",
      "DatetimeIndex: 1762 entries, 2010-01-04 to 2016-12-30\n",
      "Data columns (total 12 columns):\n",
      " #   Column       Non-Null Count  Dtype  \n",
      "---  ------       --------------  -----  \n",
      " 0   Open         1762 non-null   float64\n",
      " 1   High         1762 non-null   float64\n",
      " 2   Low          1762 non-null   float64\n",
      " 3   Close        1762 non-null   float64\n",
      " 4   Volume       1762 non-null   float64\n",
      " 5   Ex-Dividend  1762 non-null   float64\n",
      " 6   Split Ratio  1762 non-null   float64\n",
      " 7   Adj. Open    1762 non-null   float64\n",
      " 8   Adj. High    1762 non-null   float64\n",
      " 9   Adj. Low     1762 non-null   float64\n",
      " 10  Adj. Close   1762 non-null   float64\n",
      " 11  Adj. Volume  1762 non-null   float64\n",
      "dtypes: float64(12)\n",
      "memory usage: 179.0 KB\n"
     ]
    }
   ],
   "source": [
    "df.info()"
   ]
  },
  {
   "cell_type": "code",
   "execution_count": 7,
   "metadata": {},
   "outputs": [
    {
     "data": {
      "text/html": [
       "<div>\n",
       "<style scoped>\n",
       "    .dataframe tbody tr th:only-of-type {\n",
       "        vertical-align: middle;\n",
       "    }\n",
       "\n",
       "    .dataframe tbody tr th {\n",
       "        vertical-align: top;\n",
       "    }\n",
       "\n",
       "    .dataframe thead th {\n",
       "        text-align: right;\n",
       "    }\n",
       "</style>\n",
       "<table border=\"1\" class=\"dataframe\">\n",
       "  <thead>\n",
       "    <tr style=\"text-align: right;\">\n",
       "      <th></th>\n",
       "      <th>Open</th>\n",
       "      <th>High</th>\n",
       "      <th>Low</th>\n",
       "      <th>Close</th>\n",
       "      <th>Volume</th>\n",
       "      <th>Ex-Dividend</th>\n",
       "      <th>Split Ratio</th>\n",
       "      <th>Adj. Open</th>\n",
       "      <th>Adj. High</th>\n",
       "      <th>Adj. Low</th>\n",
       "      <th>Adj. Close</th>\n",
       "      <th>Adj. Volume</th>\n",
       "    </tr>\n",
       "  </thead>\n",
       "  <tbody>\n",
       "    <tr>\n",
       "      <th>count</th>\n",
       "      <td>1762.000000</td>\n",
       "      <td>1762.000000</td>\n",
       "      <td>1762.000000</td>\n",
       "      <td>1762.000000</td>\n",
       "      <td>1.762000e+03</td>\n",
       "      <td>1762.000000</td>\n",
       "      <td>1762.000000</td>\n",
       "      <td>1762.000000</td>\n",
       "      <td>1762.000000</td>\n",
       "      <td>1762.000000</td>\n",
       "      <td>1762.000000</td>\n",
       "      <td>1.762000e+03</td>\n",
       "    </tr>\n",
       "    <tr>\n",
       "      <th>mean</th>\n",
       "      <td>313.074500</td>\n",
       "      <td>315.910814</td>\n",
       "      <td>309.824105</td>\n",
       "      <td>312.926818</td>\n",
       "      <td>2.819498e+07</td>\n",
       "      <td>0.016254</td>\n",
       "      <td>1.003405</td>\n",
       "      <td>74.418319</td>\n",
       "      <td>75.086539</td>\n",
       "      <td>73.684675</td>\n",
       "      <td>74.396986</td>\n",
       "      <td>9.422467e+07</td>\n",
       "    </tr>\n",
       "    <tr>\n",
       "      <th>std</th>\n",
       "      <td>185.301563</td>\n",
       "      <td>186.898629</td>\n",
       "      <td>183.374468</td>\n",
       "      <td>185.147360</td>\n",
       "      <td>2.006877e+07</td>\n",
       "      <td>0.201295</td>\n",
       "      <td>0.142938</td>\n",
       "      <td>28.346796</td>\n",
       "      <td>28.572294</td>\n",
       "      <td>28.120892</td>\n",
       "      <td>28.343637</td>\n",
       "      <td>6.020590e+07</td>\n",
       "    </tr>\n",
       "    <tr>\n",
       "      <th>min</th>\n",
       "      <td>90.000000</td>\n",
       "      <td>90.700000</td>\n",
       "      <td>89.470000</td>\n",
       "      <td>90.280000</td>\n",
       "      <td>5.624800e+06</td>\n",
       "      <td>0.000000</td>\n",
       "      <td>1.000000</td>\n",
       "      <td>24.722226</td>\n",
       "      <td>25.188732</td>\n",
       "      <td>24.449777</td>\n",
       "      <td>24.681102</td>\n",
       "      <td>1.147592e+07</td>\n",
       "    </tr>\n",
       "    <tr>\n",
       "      <th>25%</th>\n",
       "      <td>115.222500</td>\n",
       "      <td>116.362500</td>\n",
       "      <td>114.002500</td>\n",
       "      <td>115.190000</td>\n",
       "      <td>1.379790e+07</td>\n",
       "      <td>0.000000</td>\n",
       "      <td>1.000000</td>\n",
       "      <td>49.846058</td>\n",
       "      <td>50.295857</td>\n",
       "      <td>49.183248</td>\n",
       "      <td>49.882685</td>\n",
       "      <td>4.915603e+07</td>\n",
       "    </tr>\n",
       "    <tr>\n",
       "      <th>50%</th>\n",
       "      <td>318.230000</td>\n",
       "      <td>320.600000</td>\n",
       "      <td>316.545000</td>\n",
       "      <td>318.240000</td>\n",
       "      <td>2.177095e+07</td>\n",
       "      <td>0.000000</td>\n",
       "      <td>1.000000</td>\n",
       "      <td>72.471613</td>\n",
       "      <td>73.063212</td>\n",
       "      <td>71.707141</td>\n",
       "      <td>72.398461</td>\n",
       "      <td>8.050385e+07</td>\n",
       "    </tr>\n",
       "    <tr>\n",
       "      <th>75%</th>\n",
       "      <td>470.880000</td>\n",
       "      <td>478.110000</td>\n",
       "      <td>467.973500</td>\n",
       "      <td>472.592500</td>\n",
       "      <td>3.700019e+07</td>\n",
       "      <td>0.000000</td>\n",
       "      <td>1.000000</td>\n",
       "      <td>99.277854</td>\n",
       "      <td>99.942148</td>\n",
       "      <td>98.580770</td>\n",
       "      <td>99.401332</td>\n",
       "      <td>1.210816e+08</td>\n",
       "    </tr>\n",
       "    <tr>\n",
       "      <th>max</th>\n",
       "      <td>702.410000</td>\n",
       "      <td>705.070000</td>\n",
       "      <td>699.570000</td>\n",
       "      <td>702.100000</td>\n",
       "      <td>1.895606e+08</td>\n",
       "      <td>3.290000</td>\n",
       "      <td>7.000000</td>\n",
       "      <td>128.233349</td>\n",
       "      <td>128.314416</td>\n",
       "      <td>125.839962</td>\n",
       "      <td>126.931724</td>\n",
       "      <td>4.702495e+08</td>\n",
       "    </tr>\n",
       "  </tbody>\n",
       "</table>\n",
       "</div>"
      ],
      "text/plain": [
       "              Open         High          Low        Close        Volume  \\\n",
       "count  1762.000000  1762.000000  1762.000000  1762.000000  1.762000e+03   \n",
       "mean    313.074500   315.910814   309.824105   312.926818  2.819498e+07   \n",
       "std     185.301563   186.898629   183.374468   185.147360  2.006877e+07   \n",
       "min      90.000000    90.700000    89.470000    90.280000  5.624800e+06   \n",
       "25%     115.222500   116.362500   114.002500   115.190000  1.379790e+07   \n",
       "50%     318.230000   320.600000   316.545000   318.240000  2.177095e+07   \n",
       "75%     470.880000   478.110000   467.973500   472.592500  3.700019e+07   \n",
       "max     702.410000   705.070000   699.570000   702.100000  1.895606e+08   \n",
       "\n",
       "       Ex-Dividend  Split Ratio    Adj. Open    Adj. High     Adj. Low  \\\n",
       "count  1762.000000  1762.000000  1762.000000  1762.000000  1762.000000   \n",
       "mean      0.016254     1.003405    74.418319    75.086539    73.684675   \n",
       "std       0.201295     0.142938    28.346796    28.572294    28.120892   \n",
       "min       0.000000     1.000000    24.722226    25.188732    24.449777   \n",
       "25%       0.000000     1.000000    49.846058    50.295857    49.183248   \n",
       "50%       0.000000     1.000000    72.471613    73.063212    71.707141   \n",
       "75%       0.000000     1.000000    99.277854    99.942148    98.580770   \n",
       "max       3.290000     7.000000   128.233349   128.314416   125.839962   \n",
       "\n",
       "        Adj. Close   Adj. Volume  \n",
       "count  1762.000000  1.762000e+03  \n",
       "mean     74.396986  9.422467e+07  \n",
       "std      28.343637  6.020590e+07  \n",
       "min      24.681102  1.147592e+07  \n",
       "25%      49.882685  4.915603e+07  \n",
       "50%      72.398461  8.050385e+07  \n",
       "75%      99.401332  1.210816e+08  \n",
       "max     126.931724  4.702495e+08  "
      ]
     },
     "execution_count": 7,
     "metadata": {},
     "output_type": "execute_result"
    }
   ],
   "source": [
    "df.describe()"
   ]
  },
  {
   "cell_type": "code",
   "execution_count": 8,
   "metadata": {},
   "outputs": [
    {
     "data": {
      "text/plain": [
       "497.5710000000001"
      ]
     },
     "execution_count": 8,
     "metadata": {},
     "output_type": "execute_result"
    }
   ],
   "source": [
    "# средняя цена акции (mean) на закрытии (Close) на дату\n",
    "df.loc['2012-Feb', 'Close'].mean()"
   ]
  },
  {
   "cell_type": "code",
   "execution_count": 9,
   "metadata": {},
   "outputs": [
    {
     "data": {
      "text/plain": [
       "431.542362742561"
      ]
     },
     "execution_count": 9,
     "metadata": {},
     "output_type": "execute_result"
    }
   ],
   "source": [
    "# средняя цена акции (mean) на закрытии (Close) в промежутке дат\n",
    "df.loc['2012-Feb':'2015-Feb', 'Close'].mean()"
   ]
  },
  {
   "cell_type": "markdown",
   "metadata": {},
   "source": [
    "### Метод `resample`\n",
    "\n",
    "Удобный метод преобразования частоты и передискретизации временных рядов.\n",
    "\n",
    "Объект должен иметь индекс, подобный `datetime` (`DatetimeIndex`, `PeriodIndex` или `TimedeltaIndex`), или передавать значения, подобные `datetime`, в ключевое слово `on` (столбец, который следует использовать вместо индекса для повторной выборки) или `level` (при использовании `MultiIndex`, уровень используемый для повторной выборки).\n",
    "\n",
    "Resampling мощный инструмент при работе с временными рядами (`time series`), помогающий переформировать выборку так, как удобно.\n",
    "\n",
    "Дополнительную информацию можно посмотреть в [документации](https://pandas.pydata.org/pandas-docs/stable/user_guide/timeseries.html)."
   ]
  },
  {
   "cell_type": "code",
   "execution_count": 10,
   "metadata": {},
   "outputs": [
    {
     "data": {
      "text/plain": [
       "<AxesSubplot:xlabel='Date'>"
      ]
     },
     "execution_count": 10,
     "metadata": {},
     "output_type": "execute_result"
    },
    {
     "data": {
      "image/png": "[encoded data removed]",
      "text/plain": [
       "<Figure size 432x288 with 1 Axes>"
      ]
     },
     "metadata": {
      "needs_background": "light"
     },
     "output_type": "display_data"
    }
   ],
   "source": [
    "df.Close.plot()"
   ]
  },
  {
   "cell_type": "code",
   "execution_count": 11,
   "metadata": {},
   "outputs": [],
   "source": [
    "# средняя цена акции (mean) на закрытии (Close) по неделям\n",
    "close_w_mean = df.resample('W')['Close'].mean()"
   ]
  },
  {
   "cell_type": "code",
   "execution_count": 12,
   "metadata": {},
   "outputs": [
    {
     "data": {
      "text/plain": [
       "<AxesSubplot:xlabel='Date'>"
      ]
     },
     "execution_count": 12,
     "metadata": {},
     "output_type": "execute_result"
    },
    {
     "data": {
      "image/png": "[encoded data removed]",
      "text/plain": [
       "<Figure size 432x288 with 1 Axes>"
      ]
     },
     "metadata": {
      "needs_background": "light"
     },
     "output_type": "display_data"
    }
   ],
   "source": [
    "close_w_mean.plot()"
   ]
  },
  {
   "cell_type": "code",
   "execution_count": 13,
   "metadata": {},
   "outputs": [],
   "source": [
    "# средняя цена акции (mean) на закрытии (Close) по месяцам\n",
    "close_m_mean = df.resample('M')['Close'].mean()"
   ]
  },
  {
   "cell_type": "code",
   "execution_count": 14,
   "metadata": {},
   "outputs": [
    {
     "data": {
      "text/plain": [
       "<AxesSubplot:xlabel='Date'>"
      ]
     },
     "execution_count": 14,
     "metadata": {},
     "output_type": "execute_result"
    },
    {
     "data": {
      "image/png": "[encoded data removed]",
      "text/plain": [
       "<Figure size 432x288 with 1 Axes>"
      ]
     },
     "metadata": {
      "needs_background": "light"
     },
     "output_type": "display_data"
    }
   ],
   "source": [
    "close_m_mean.plot()"
   ]
  }
 ],
 "metadata": {
  "kernelspec": {
   "display_name": "Python [conda env:LevelUp_DataScience] *",
   "language": "python",
   "name": "conda-env-LevelUp_DataScience-py"
  },
  "language_info": {
   "codemirror_mode": {
    "name": "ipython",
    "version": 3
   },
   "file_extension": ".py",
   "mimetype": "text/x-python",
   "name": "python",
   "nbconvert_exporter": "python",
   "pygments_lexer": "ipython3",
   "version": "3.8.5"
  },
  "toc-autonumbering": true
 },
 "nbformat": 4,
 "nbformat_minor": 4
}
