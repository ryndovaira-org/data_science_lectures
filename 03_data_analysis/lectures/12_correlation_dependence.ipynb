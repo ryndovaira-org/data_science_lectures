{
 "cells": [
  {
   "cell_type": "markdown",
   "metadata": {
    "pycharm": {
     "name": "#%% md\n"
    }
   },
   "source": [
    "# Корреляция и зависимость"
   ]
  },
  {
   "cell_type": "markdown",
   "metadata": {},
   "source": [
    "---\n",
    "\n",
    "**Источники:**\n",
    "\n",
    "[Correlation and dependence](https://en.wikipedia.org/wiki/Correlation_and_dependence)\n",
    "\n",
    "[Корреляция](https://ru.wikipedia.org/wiki/%D0%9A%D0%BE%D1%80%D1%80%D0%B5%D0%BB%D1%8F%D1%86%D0%B8%D1%8F)\n",
    "\n",
    "[Как использовать корреляцию для понимания взаимосвязи между переменными](https://www.machinelearningmastery.ru/how-to-use-correlation-to-understand-the-relationship-between-variables/)\n",
    "\n",
    "[Применение корреляционного анализа в психологии](https://psyjournals.ru/psyedu/2009/n1/Shishlyannikova_full.shtml)\n",
    "\n",
    "[Визуализируйте данные машинного обучения в Python с помощью Pandas](https://www.machinelearningmastery.ru/visualize-machine-learning-data-python-pandas/)\n",
    "\n",
    "[NumPy, SciPy, and Pandas: Correlation With Python](https://realpython.com/numpy-scipy-pandas-correlation-python/)\n",
    "\n",
    "[Корреляция не подразумевает причинно-следственной связи - Correlation does not imply causation Корреляция не подразумевает причинно-следственной связи](https://ru.qaz.wiki/wiki/Correlation_does_not_imply_causation)\n",
    "\n",
    "[Регрессионный анализ](https://ru.wikipedia.org/wiki/%D0%A0%D0%B5%D0%B3%D1%80%D0%B5%D1%81%D1%81%D0%B8%D0%BE%D0%BD%D0%BD%D1%8B%D0%B9_%D0%B0%D0%BD%D0%B0%D0%BB%D0%B8%D0%B7)\n",
    "\n",
    "---"
   ]
  },
  {
   "cell_type": "markdown",
   "metadata": {},
   "source": [
    "## Подготовка окружения"
   ]
  },
  {
   "cell_type": "code",
   "execution_count": 1,
   "metadata": {
    "collapsed": false,
    "jupyter": {
     "outputs_hidden": false
    },
    "pycharm": {
     "name": "#%%\n"
    }
   },
   "outputs": [
    {
     "name": "stdout",
     "output_type": "stream",
     "text": [
      "pip 20.3.3 from /home/ira/anaconda3/envs/LevelUp_DataScience/lib/python3.8/site-packages/pip (python 3.8)\n"
     ]
    }
   ],
   "source": [
    "# ВНИМАНИЕ: необходимо удостовериться, что виртуальная среда выбрана правильно!\n",
    "\n",
    "!pip -V"
   ]
  },
  {
   "cell_type": "code",
   "execution_count": 2,
   "metadata": {
    "collapsed": false,
    "jupyter": {
     "outputs_hidden": false
    },
    "pycharm": {
     "name": "#%%\n"
    }
   },
   "outputs": [],
   "source": [
    "# !conda install numpy pandas matplotlib seaborn-y"
   ]
  },
  {
   "cell_type": "code",
   "execution_count": 3,
   "metadata": {
    "collapsed": false,
    "jupyter": {
     "outputs_hidden": false
    },
    "pycharm": {
     "name": "#%%\n"
    }
   },
   "outputs": [
    {
     "data": {
      "text/plain": [
       "'3.3.4'"
      ]
     },
     "execution_count": 3,
     "metadata": {},
     "output_type": "execute_result"
    }
   ],
   "source": [
    "import matplotlib\n",
    "import matplotlib.pyplot as plt\n",
    "\n",
    "matplotlib.__version__"
   ]
  },
  {
   "cell_type": "code",
   "execution_count": 4,
   "metadata": {
    "collapsed": false,
    "jupyter": {
     "outputs_hidden": false
    },
    "pycharm": {
     "name": "#%%\n"
    }
   },
   "outputs": [
    {
     "data": {
      "text/plain": [
       "'1.19.2'"
      ]
     },
     "execution_count": 4,
     "metadata": {},
     "output_type": "execute_result"
    }
   ],
   "source": [
    "import numpy as np\n",
    "\n",
    "np.__version__"
   ]
  },
  {
   "cell_type": "code",
   "execution_count": 5,
   "metadata": {
    "collapsed": false,
    "jupyter": {
     "outputs_hidden": false
    },
    "pycharm": {
     "name": "#%%\n"
    }
   },
   "outputs": [
    {
     "data": {
      "text/plain": [
       "'1.2.3'"
      ]
     },
     "execution_count": 5,
     "metadata": {},
     "output_type": "execute_result"
    }
   ],
   "source": [
    "import pandas as pd\n",
    "\n",
    "pd.__version__"
   ]
  },
  {
   "cell_type": "code",
   "execution_count": 6,
   "metadata": {
    "collapsed": false,
    "jupyter": {
     "outputs_hidden": false
    },
    "pycharm": {
     "name": "#%%\n"
    }
   },
   "outputs": [
    {
     "data": {
      "text/plain": [
       "'3.3.4'"
      ]
     },
     "execution_count": 6,
     "metadata": {},
     "output_type": "execute_result"
    }
   ],
   "source": [
    "import matplotlib\n",
    "\n",
    "matplotlib.__version__"
   ]
  },
  {
   "cell_type": "code",
   "execution_count": 7,
   "metadata": {},
   "outputs": [
    {
     "data": {
      "text/plain": [
       "'0.11.1'"
      ]
     },
     "execution_count": 7,
     "metadata": {},
     "output_type": "execute_result"
    }
   ],
   "source": [
    "import seaborn as sns\n",
    "\n",
    "sns.__version__"
   ]
  },
  {
   "cell_type": "markdown",
   "metadata": {},
   "source": [
    "## Загрузка данных\n",
    "\n",
    "Для примера возьмем [данные (dataset) Gapminder World](https://www.kaggle.com/tklimonova/gapminder-datacamp-2007)."
   ]
  },
  {
   "cell_type": "code",
   "execution_count": 8,
   "metadata": {
    "collapsed": false,
    "jupyter": {
     "outputs_hidden": false
    },
    "pycharm": {
     "name": "#%%\n"
    }
   },
   "outputs": [
    {
     "data": {
      "text/html": [
       "<div>\n",
       "<style scoped>\n",
       "    .dataframe tbody tr th:only-of-type {\n",
       "        vertical-align: middle;\n",
       "    }\n",
       "\n",
       "    .dataframe tbody tr th {\n",
       "        vertical-align: top;\n",
       "    }\n",
       "\n",
       "    .dataframe thead th {\n",
       "        text-align: right;\n",
       "    }\n",
       "</style>\n",
       "<table border=\"1\" class=\"dataframe\">\n",
       "  <thead>\n",
       "    <tr style=\"text-align: right;\">\n",
       "      <th></th>\n",
       "      <th>country</th>\n",
       "      <th>year</th>\n",
       "      <th>population</th>\n",
       "      <th>continent</th>\n",
       "      <th>life_exp</th>\n",
       "      <th>gdp_cap</th>\n",
       "    </tr>\n",
       "  </thead>\n",
       "  <tbody>\n",
       "    <tr>\n",
       "      <th>0</th>\n",
       "      <td>Afghanistan</td>\n",
       "      <td>1952</td>\n",
       "      <td>8425333</td>\n",
       "      <td>Asia</td>\n",
       "      <td>28.80</td>\n",
       "      <td>779.45</td>\n",
       "    </tr>\n",
       "    <tr>\n",
       "      <th>1</th>\n",
       "      <td>Afghanistan</td>\n",
       "      <td>1957</td>\n",
       "      <td>9240934</td>\n",
       "      <td>Asia</td>\n",
       "      <td>30.33</td>\n",
       "      <td>820.85</td>\n",
       "    </tr>\n",
       "    <tr>\n",
       "      <th>2</th>\n",
       "      <td>Afghanistan</td>\n",
       "      <td>1962</td>\n",
       "      <td>10267083</td>\n",
       "      <td>Asia</td>\n",
       "      <td>32.00</td>\n",
       "      <td>853.10</td>\n",
       "    </tr>\n",
       "    <tr>\n",
       "      <th>3</th>\n",
       "      <td>Afghanistan</td>\n",
       "      <td>1967</td>\n",
       "      <td>11537966</td>\n",
       "      <td>Asia</td>\n",
       "      <td>34.02</td>\n",
       "      <td>836.20</td>\n",
       "    </tr>\n",
       "    <tr>\n",
       "      <th>4</th>\n",
       "      <td>Afghanistan</td>\n",
       "      <td>1972</td>\n",
       "      <td>13079460</td>\n",
       "      <td>Asia</td>\n",
       "      <td>36.09</td>\n",
       "      <td>739.98</td>\n",
       "    </tr>\n",
       "    <tr>\n",
       "      <th>...</th>\n",
       "      <td>...</td>\n",
       "      <td>...</td>\n",
       "      <td>...</td>\n",
       "      <td>...</td>\n",
       "      <td>...</td>\n",
       "      <td>...</td>\n",
       "    </tr>\n",
       "    <tr>\n",
       "      <th>1699</th>\n",
       "      <td>Zimbabwe</td>\n",
       "      <td>1987</td>\n",
       "      <td>9216418</td>\n",
       "      <td>Africa</td>\n",
       "      <td>62.35</td>\n",
       "      <td>706.16</td>\n",
       "    </tr>\n",
       "    <tr>\n",
       "      <th>1700</th>\n",
       "      <td>Zimbabwe</td>\n",
       "      <td>1992</td>\n",
       "      <td>10704340</td>\n",
       "      <td>Africa</td>\n",
       "      <td>60.38</td>\n",
       "      <td>693.42</td>\n",
       "    </tr>\n",
       "    <tr>\n",
       "      <th>1701</th>\n",
       "      <td>Zimbabwe</td>\n",
       "      <td>1997</td>\n",
       "      <td>11404948</td>\n",
       "      <td>Africa</td>\n",
       "      <td>46.81</td>\n",
       "      <td>792.45</td>\n",
       "    </tr>\n",
       "    <tr>\n",
       "      <th>1702</th>\n",
       "      <td>Zimbabwe</td>\n",
       "      <td>2002</td>\n",
       "      <td>11926563</td>\n",
       "      <td>Africa</td>\n",
       "      <td>39.99</td>\n",
       "      <td>672.04</td>\n",
       "    </tr>\n",
       "    <tr>\n",
       "      <th>1703</th>\n",
       "      <td>Zimbabwe</td>\n",
       "      <td>2007</td>\n",
       "      <td>12311143</td>\n",
       "      <td>Africa</td>\n",
       "      <td>43.49</td>\n",
       "      <td>469.71</td>\n",
       "    </tr>\n",
       "  </tbody>\n",
       "</table>\n",
       "<p>1704 rows × 6 columns</p>\n",
       "</div>"
      ],
      "text/plain": [
       "          country  year  population continent  life_exp  gdp_cap\n",
       "0     Afghanistan  1952     8425333      Asia     28.80   779.45\n",
       "1     Afghanistan  1957     9240934      Asia     30.33   820.85\n",
       "2     Afghanistan  1962    10267083      Asia     32.00   853.10\n",
       "3     Afghanistan  1967    11537966      Asia     34.02   836.20\n",
       "4     Afghanistan  1972    13079460      Asia     36.09   739.98\n",
       "...           ...   ...         ...       ...       ...      ...\n",
       "1699     Zimbabwe  1987     9216418    Africa     62.35   706.16\n",
       "1700     Zimbabwe  1992    10704340    Africa     60.38   693.42\n",
       "1701     Zimbabwe  1997    11404948    Africa     46.81   792.45\n",
       "1702     Zimbabwe  2002    11926563    Africa     39.99   672.04\n",
       "1703     Zimbabwe  2007    12311143    Africa     43.49   469.71\n",
       "\n",
       "[1704 rows x 6 columns]"
      ]
     },
     "execution_count": 8,
     "metadata": {},
     "output_type": "execute_result"
    }
   ],
   "source": [
    "df = pd.read_csv('./../../data/gapminder_full.csv')\n",
    "\n",
    "# показать все колонки\n",
    "pd.options.display.max_columns = None\n",
    "\n",
    "# изменить формат отображения с помощью средства форматирования\n",
    "# (float без E, а 2 знаков после запятой)\n",
    "# (для удобства чтения)\n",
    "pd.options.display.float_format = '{:.2f}'.format\n",
    "\n",
    "# отобразить первые 5 и последние 5 строк\n",
    "df"
   ]
  },
  {
   "cell_type": "code",
   "execution_count": 9,
   "metadata": {
    "pycharm": {
     "name": "#%%\n"
    }
   },
   "outputs": [
    {
     "name": "stdout",
     "output_type": "stream",
     "text": [
      "<class 'pandas.core.frame.DataFrame'>\n",
      "RangeIndex: 1704 entries, 0 to 1703\n",
      "Data columns (total 6 columns):\n",
      " #   Column      Non-Null Count  Dtype  \n",
      "---  ------      --------------  -----  \n",
      " 0   country     1704 non-null   object \n",
      " 1   year        1704 non-null   int64  \n",
      " 2   population  1704 non-null   int64  \n",
      " 3   continent   1704 non-null   object \n",
      " 4   life_exp    1704 non-null   float64\n",
      " 5   gdp_cap     1704 non-null   float64\n",
      "dtypes: float64(2), int64(2), object(2)\n",
      "memory usage: 80.0+ KB\n"
     ]
    }
   ],
   "source": [
    "# получить сведения о датафрейме\n",
    "df.info()"
   ]
  },
  {
   "cell_type": "markdown",
   "metadata": {},
   "source": [
    "## Что такое корреляция?\n",
    "\n",
    "Переменные в наборе данных могут быть связаны по многим причинам.\n",
    "\n",
    "Например:\n",
    "- Одна переменная может вызывать или зависеть от значений другой переменной.\n",
    "- Одна переменная может быть легко связана с другой переменной.\n",
    "- Две переменные могут зависеть от третьей неизвестной переменной.\n",
    "\n",
    "**Корреля́ция (от лат. correlatio \"соотношение\")**, или корреляцио́нная зави́симость — статистическая взаимосвязь двух или более случайных величин (либо величин, которые можно с некоторой допустимой степенью точности считать таковыми). При этом изменения значений одной или нескольких из этих величин сопутствуют систематическому изменению значений другой или других величин.\n",
    "\n",
    "Математической мерой корреляции двух случайных величин служит корреляционное отношение $\\eta$ либо коэффициент корреляции $R$ (или $r$).\n",
    "\n",
    "\n",
    "В случае если изменение одной случайной величины не ведёт к закономерному изменению другой случайной величины, но приводит к изменению другой статистической характеристики данной случайной величины, то подобная связь не считается корреляционной, хотя и является статистической.\n",
    "\n",
    "Отсутствие корреляции между двумя величинами ещё не значит, что между ними нет никакой связи. \n",
    "\n",
    "Зависимость может иметь сложный нелинейный характер, который корреляция не выявляет.\n",
    "\n",
    "**Корреляция** может быть **положительной**, что означает, что обе переменные движутся в одном и том же направлении, или **отрицательной**, что означает, что когда значение одной переменной увеличивается, значения других переменных уменьшаются.\n",
    "\n",
    "**Корреляция** также может быть **нулевой**, что означает, что переменные не связаны.\n",
    "\n",
    "**Положительное** соотношение: обе переменные изменяются в одном направлении.\n",
    "**Нейтральная** корреляция: Нет связи в изменении переменных.\n",
    "**Отрицательная** корреляция: переменные меняются в противоположных направлениях.\n",
    "\n",
    "![](./images/correlation.png)"
   ]
  },
  {
   "cell_type": "markdown",
   "metadata": {},
   "source": [
    "## Отличие корреляции от причинно-следственной связи\n",
    "\n",
    "Часто заманчивая простота корреляционного исследования подталкивает исследователя делать ложные интуитивные выводы о наличии причинно-следственной связи между парами признаков, в то время как коэффициенты корреляции устанавливают лишь статистические взаимосвязи. \n",
    "\n",
    "**Корреляция не подразумевает причинно-следственной связи.** То есть нельзя обоснованно вывести причинно-следственную связь между двумя событиями или переменными исключительно на основе наблюдаемой ассоциации или корреляции между ними.\n",
    "\n",
    "Идея о том, что \"корреляция подразумевает причинно-следственную связь\", является примером логической ошибки с сомнительной причиной, в которой два события, происходящие вместе, считаются установившими причинно-следственную связь.\n",
    "\n",
    "Это заблуждение также известно по латинскому выражению cum hoc ergo propter hoc (\"с этим, поэтому из-за этого\").\n",
    "\n",
    "Это отличается от заблуждения, известного как post hoc ergo propter hoc (\"после этого, следовательно, из-за этого\"), в котором событие, следующее за другим, рассматривается как необходимое следствие предыдущего события, а от слияния - ошибочное слияние двух события, идеи, базы данных и т. д. в одно целое.\n",
    "\n",
    "\n",
    "Как и в случае с любой логической ошибкой, определение того, что аргумент в основе аргумента ошибочен, не обязательно означает, что итоговый вывод является ложным.\n",
    "\n",
    "Существуют статистические методы, использующие корреляцию в качестве основы для проверки гипотез о причинной связи, включая тест причинности Грейнджера и конвергентное перекрестное отображение.\n",
    "\n",
    "\n",
    "Например, рассматривая пожары в конкретном городе, можно выявить весьма высокую корреляцию между ущербом, который нанёс пожар, и количеством пожарных, участвовавших в ликвидации пожара, причём эта корреляция будет положительной. Из этого, однако, не следует вывод \"увеличение количества пожарных приводит к увеличению причинённого ущерба\", и тем более не будет успешной попытка минимизировать ущерб от пожаров путём ликвидации пожарных бригад. "
   ]
  },
  {
   "cell_type": "markdown",
   "metadata": {},
   "source": [
    "## Корреляционный анализ\n",
    "\n",
    "**Корреляционный анализ** — метод обработки статистических данных, с помощью которого измеряется теснота связи между двумя или более переменными.\n",
    "\n",
    "**Корреляционный анализ** тесно связан с регрессионным анализом (также часто встречается термин \"корреляционно-регрессионный анализ\", который является более общим статистическим понятием), с его помощью определяют необходимость включения тех или иных факторов в уравнение множественной регрессии, а также оценивают полученное уравнение регрессии на соответствие выявленным связям (используя коэффициент детерминации).\n",
    "\n",
    "\n",
    "**Производительность некоторых алгоритмов может ухудшиться, если две или более переменных тесно связаны между собой, что называется мультиколлинеарностью.** Примером является линейная/логистическая регрессия, где одна из нарушенных коррелированных переменных должна быть удалена, чтобы улучшить навыки модели.\n",
    "\n",
    "Часто может быть полезна корреляция между входными переменными и выходной переменной, чтобы дать представление о том, какие переменные могут или не могут иметь значение в качестве входных данных для разработки модели."
   ]
  },
  {
   "cell_type": "markdown",
   "metadata": {},
   "source": [
    "## Матрица корреляции\n",
    "\n",
    "**Матрица корреляции** является симметричной, то есть нижний левый угол матрицы совпадает с верхним правым.\n",
    "\n",
    "Это полезно, так как можно увидеть два разных представления одних и тех же данных на одном графике.\n",
    "\n",
    "Также можно увидеть, что каждая переменная идеально положительно коррелирует друг с другом (как и следовало ожидать) в диагональной линии сверху вниз слева направо.\n",
    "\n",
    "\n",
    "\n",
    "[pandas.DataFrame.corr](https://pandas.pydata.org/pandas-docs/stable/reference/api/pandas.DataFrame.corr.html)\n",
    "\n",
    "[seaborn.heatmap](https://seaborn.pydata.org/generated/seaborn.heatmap.html#seaborn.heatmap)"
   ]
  },
  {
   "cell_type": "code",
   "execution_count": 10,
   "metadata": {},
   "outputs": [
    {
     "data": {
      "text/html": [
       "<div>\n",
       "<style scoped>\n",
       "    .dataframe tbody tr th:only-of-type {\n",
       "        vertical-align: middle;\n",
       "    }\n",
       "\n",
       "    .dataframe tbody tr th {\n",
       "        vertical-align: top;\n",
       "    }\n",
       "\n",
       "    .dataframe thead th {\n",
       "        text-align: right;\n",
       "    }\n",
       "</style>\n",
       "<table border=\"1\" class=\"dataframe\">\n",
       "  <thead>\n",
       "    <tr style=\"text-align: right;\">\n",
       "      <th></th>\n",
       "      <th>year</th>\n",
       "      <th>population</th>\n",
       "      <th>life_exp</th>\n",
       "      <th>gdp_cap</th>\n",
       "    </tr>\n",
       "  </thead>\n",
       "  <tbody>\n",
       "    <tr>\n",
       "      <th>year</th>\n",
       "      <td>1.00</td>\n",
       "      <td>0.08</td>\n",
       "      <td>0.44</td>\n",
       "      <td>0.23</td>\n",
       "    </tr>\n",
       "    <tr>\n",
       "      <th>population</th>\n",
       "      <td>0.08</td>\n",
       "      <td>1.00</td>\n",
       "      <td>0.06</td>\n",
       "      <td>-0.03</td>\n",
       "    </tr>\n",
       "    <tr>\n",
       "      <th>life_exp</th>\n",
       "      <td>0.44</td>\n",
       "      <td>0.06</td>\n",
       "      <td>1.00</td>\n",
       "      <td>0.58</td>\n",
       "    </tr>\n",
       "    <tr>\n",
       "      <th>gdp_cap</th>\n",
       "      <td>0.23</td>\n",
       "      <td>-0.03</td>\n",
       "      <td>0.58</td>\n",
       "      <td>1.00</td>\n",
       "    </tr>\n",
       "  </tbody>\n",
       "</table>\n",
       "</div>"
      ],
      "text/plain": [
       "            year  population  life_exp  gdp_cap\n",
       "year        1.00        0.08      0.44     0.23\n",
       "population  0.08        1.00      0.06    -0.03\n",
       "life_exp    0.44        0.06      1.00     0.58\n",
       "gdp_cap     0.23       -0.03      0.58     1.00"
      ]
     },
     "execution_count": 10,
     "metadata": {},
     "output_type": "execute_result"
    }
   ],
   "source": [
    "corr = df.corr()\n",
    "\n",
    "corr"
   ]
  },
  {
   "cell_type": "code",
   "execution_count": 11,
   "metadata": {},
   "outputs": [
    {
     "data": {
      "text/plain": [
       "<AxesSubplot:>"
      ]
     },
     "execution_count": 11,
     "metadata": {},
     "output_type": "execute_result"
    },
    {
     "data": {
      "image/png": "[encoded data removed]",
      "text/plain": [
       "<Figure size 432x288 with 2 Axes>"
      ]
     },
     "metadata": {
      "needs_background": "light"
     },
     "output_type": "display_data"
    }
   ],
   "source": [
    "sns.heatmap(corr)"
   ]
  },
  {
   "cell_type": "code",
   "execution_count": 12,
   "metadata": {},
   "outputs": [
    {
     "data": {
      "text/plain": [
       "<AxesSubplot:>"
      ]
     },
     "execution_count": 12,
     "metadata": {},
     "output_type": "execute_result"
    },
    {
     "data": {
      "image/png": "[encoded data removed]",
      "text/plain": [
       "<Figure size 432x288 with 2 Axes>"
      ]
     },
     "metadata": {
      "needs_background": "light"
     },
     "output_type": "display_data"
    }
   ],
   "source": [
    "sns.heatmap(corr, cmap=\"Greens\", annot=True)"
   ]
  },
  {
   "cell_type": "code",
   "execution_count": 13,
   "metadata": {},
   "outputs": [
    {
     "data": {
      "text/html": [
       "<style  type=\"text/css\" >\n",
       "    #T_e2b2d_ th {\n",
       "          font-size: 10pt;\n",
       "    }    #T_e2b2d_ td {\n",
       "          padding: 0em 0em;\n",
       "    }    #T_e2b2d_ th:hover {\n",
       "          font-size: 12pt;\n",
       "    }    #T_e2b2d_ tr:hover td:hover {\n",
       "          max-width: 200px;\n",
       "          font-size: 12pt;\n",
       "    }#T_e2b2d_row0_col0,#T_e2b2d_row1_col1,#T_e2b2d_row2_col2,#T_e2b2d_row3_col3{\n",
       "            background-color:  #4479bb;\n",
       "            color:  #000000;\n",
       "            max-width:  80px;\n",
       "            font-size:  10pt;\n",
       "        }#T_e2b2d_row0_col1,#T_e2b2d_row1_col3,#T_e2b2d_row2_col1,#T_e2b2d_row3_col1{\n",
       "            background-color:  #d73c5b;\n",
       "            color:  #f1f1f1;\n",
       "            max-width:  80px;\n",
       "            font-size:  10pt;\n",
       "        }#T_e2b2d_row0_col2{\n",
       "            background-color:  #ecc8cf;\n",
       "            color:  #000000;\n",
       "            max-width:  80px;\n",
       "            font-size:  10pt;\n",
       "        }#T_e2b2d_row0_col3{\n",
       "            background-color:  #e0748a;\n",
       "            color:  #000000;\n",
       "            max-width:  80px;\n",
       "            font-size:  10pt;\n",
       "        }#T_e2b2d_row1_col0{\n",
       "            background-color:  #dd6179;\n",
       "            color:  #000000;\n",
       "            max-width:  80px;\n",
       "            font-size:  10pt;\n",
       "        }#T_e2b2d_row1_col2{\n",
       "            background-color:  #dc5b75;\n",
       "            color:  #000000;\n",
       "            max-width:  80px;\n",
       "            font-size:  10pt;\n",
       "        }#T_e2b2d_row2_col0{\n",
       "            background-color:  #edccd2;\n",
       "            color:  #000000;\n",
       "            max-width:  80px;\n",
       "            font-size:  10pt;\n",
       "        }#T_e2b2d_row2_col3{\n",
       "            background-color:  #dee4ec;\n",
       "            color:  #000000;\n",
       "            max-width:  80px;\n",
       "            font-size:  10pt;\n",
       "        }#T_e2b2d_row3_col0{\n",
       "            background-color:  #e595a5;\n",
       "            color:  #000000;\n",
       "            max-width:  80px;\n",
       "            font-size:  10pt;\n",
       "        }#T_e2b2d_row3_col2{\n",
       "            background-color:  #d0dae8;\n",
       "            color:  #000000;\n",
       "            max-width:  80px;\n",
       "            font-size:  10pt;\n",
       "        }</style><table id=\"T_e2b2d_\" ><caption>Gapminder World</caption><thead>    <tr>        <th class=\"blank level0\" ></th>        <th class=\"col_heading level0 col0\" >year</th>        <th class=\"col_heading level0 col1\" >population</th>        <th class=\"col_heading level0 col2\" >life_exp</th>        <th class=\"col_heading level0 col3\" >gdp_cap</th>    </tr></thead><tbody>\n",
       "                <tr>\n",
       "                        <th id=\"T_e2b2d_level0_row0\" class=\"row_heading level0 row0\" >year</th>\n",
       "                        <td id=\"T_e2b2d_row0_col0\" class=\"data row0 col0\" >1.00</td>\n",
       "                        <td id=\"T_e2b2d_row0_col1\" class=\"data row0 col1\" >0.08</td>\n",
       "                        <td id=\"T_e2b2d_row0_col2\" class=\"data row0 col2\" >0.44</td>\n",
       "                        <td id=\"T_e2b2d_row0_col3\" class=\"data row0 col3\" >0.23</td>\n",
       "            </tr>\n",
       "            <tr>\n",
       "                        <th id=\"T_e2b2d_level0_row1\" class=\"row_heading level0 row1\" >population</th>\n",
       "                        <td id=\"T_e2b2d_row1_col0\" class=\"data row1 col0\" >0.08</td>\n",
       "                        <td id=\"T_e2b2d_row1_col1\" class=\"data row1 col1\" >1.00</td>\n",
       "                        <td id=\"T_e2b2d_row1_col2\" class=\"data row1 col2\" >0.06</td>\n",
       "                        <td id=\"T_e2b2d_row1_col3\" class=\"data row1 col3\" >-0.03</td>\n",
       "            </tr>\n",
       "            <tr>\n",
       "                        <th id=\"T_e2b2d_level0_row2\" class=\"row_heading level0 row2\" >life_exp</th>\n",
       "                        <td id=\"T_e2b2d_row2_col0\" class=\"data row2 col0\" >0.44</td>\n",
       "                        <td id=\"T_e2b2d_row2_col1\" class=\"data row2 col1\" >0.06</td>\n",
       "                        <td id=\"T_e2b2d_row2_col2\" class=\"data row2 col2\" >1.00</td>\n",
       "                        <td id=\"T_e2b2d_row2_col3\" class=\"data row2 col3\" >0.58</td>\n",
       "            </tr>\n",
       "            <tr>\n",
       "                        <th id=\"T_e2b2d_level0_row3\" class=\"row_heading level0 row3\" >gdp_cap</th>\n",
       "                        <td id=\"T_e2b2d_row3_col0\" class=\"data row3 col0\" >0.23</td>\n",
       "                        <td id=\"T_e2b2d_row3_col1\" class=\"data row3 col1\" >-0.03</td>\n",
       "                        <td id=\"T_e2b2d_row3_col2\" class=\"data row3 col2\" >0.58</td>\n",
       "                        <td id=\"T_e2b2d_row3_col3\" class=\"data row3 col3\" >1.00</td>\n",
       "            </tr>\n",
       "    </tbody></table>"
      ],
      "text/plain": [
       "<pandas.io.formats.style.Styler at 0x7f1238c5fdf0>"
      ]
     },
     "execution_count": 13,
     "metadata": {},
     "output_type": "execute_result"
    }
   ],
   "source": [
    "cmap = cmap=sns.diverging_palette(5, 250, as_cmap=True)\n",
    "\n",
    "def magnify():\n",
    "    return [dict(selector=\"th\",\n",
    "                 props=[(\"font-size\", \"10pt\")]),\n",
    "            dict(selector=\"td\",\n",
    "                 props=[('padding', \"0em 0em\")]),\n",
    "            dict(selector=\"th:hover\",\n",
    "                 props=[(\"font-size\", \"12pt\")]),\n",
    "            dict(selector=\"tr:hover td:hover\",\n",
    "                 props=[('max-width', '200px'),\n",
    "                        ('font-size', '12pt')])\n",
    "]\n",
    "\n",
    "corr.style.background_gradient(cmap, axis=1)\\\n",
    "    .set_properties(**{'max-width': '80px', 'font-size': '10pt'})\\\n",
    "    .set_caption(\"Gapminder World\")\\\n",
    "    .set_precision(2)\\\n",
    "    .set_table_styles(magnify())"
   ]
  },
  {
   "cell_type": "markdown",
   "metadata": {},
   "source": [
    "## Матрица рассеивания"
   ]
  },
  {
   "cell_type": "code",
   "execution_count": null,
   "metadata": {},
   "outputs": [],
   "source": []
  }
 ],
 "metadata": {
  "kernelspec": {
   "display_name": "Python [conda env:LevelUp_DataScience] *",
   "language": "python",
   "name": "conda-env-LevelUp_DataScience-py"
  },
  "language_info": {
   "codemirror_mode": {
    "name": "ipython",
    "version": 3
   },
   "file_extension": ".py",
   "mimetype": "text/x-python",
   "name": "python",
   "nbconvert_exporter": "python",
   "pygments_lexer": "ipython3",
   "version": "3.8.5"
  }
 },
 "nbformat": 4,
 "nbformat_minor": 4
}
