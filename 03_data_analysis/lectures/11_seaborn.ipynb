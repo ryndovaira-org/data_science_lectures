{
 "cells": [
  {
   "cell_type": "markdown",
   "metadata": {
    "jupyter": {
     "outputs_hidden": true
    },
    "pycharm": {
     "name": "#%% md\n"
    }
   },
   "source": [
    "# Пакет `seaborn`"
   ]
  },
  {
   "cell_type": "markdown",
   "metadata": {},
   "source": [
    "---\n",
    "\n",
    "**Источники:**\n",
    "\n",
    "[github.com/mwaskom/seaborn](https://github.com/mwaskom/seaborn)\n",
    "\n",
    "[https://pypi.org/project/seaborn/](https://pypi.org/project/seaborn/)\n",
    "\n",
    "[API overview](https://seaborn.pydata.org/tutorial.html)\n",
    "\n",
    "[How to build beautiful plots with Python and Seaborn](https://livecodestream.dev/post/how-to-build-beautiful-plots-with-python-and-seaborn/)\n",
    "\n",
    "[Long-form vs. wide-form data](https://seaborn.pydata.org/tutorial/data_structure.html)\n",
    "\n",
    "[Rug plot](https://en.wikipedia.org/wiki/Rug_plot)\n",
    "\n",
    "[Dot plot (statistics)](https://en.wikipedia.org/wiki/Dot_plot_(statistics))\n",
    "\n",
    "[Data visualization using Seaborn](https://medium.datadriveninvestor.com/data-visualization-using-seaborn-ee2f21b9bc1c)\n",
    "\n",
    "---"
   ]
  },
  {
   "cell_type": "code",
   "execution_count": 1,
   "metadata": {
    "collapsed": false,
    "jupyter": {
     "outputs_hidden": false
    },
    "pycharm": {
     "name": "#%%\n"
    }
   },
   "outputs": [
    {
     "name": "stdout",
     "output_type": "stream",
     "text": [
      "pip 21.0.1 from /home/ira/.local/lib/python3.8/site-packages/pip (python 3.8)\n"
     ]
    }
   ],
   "source": [
    "# ВНИМАНИЕ: необходимо удостовериться, что виртуальная среда выбрана правильно!\n",
    "\n",
    "!pip -V"
   ]
  },
  {
   "cell_type": "code",
   "execution_count": 2,
   "metadata": {
    "collapsed": false,
    "jupyter": {
     "outputs_hidden": false
    },
    "pycharm": {
     "name": "#%%\n"
    }
   },
   "outputs": [],
   "source": [
    "# !conda install pandas matplotlib numpy seaborn -y"
   ]
  },
  {
   "cell_type": "code",
   "execution_count": 3,
   "metadata": {},
   "outputs": [
    {
     "data": {
      "text/plain": [
       "'1.19.2'"
      ]
     },
     "execution_count": 3,
     "metadata": {},
     "output_type": "execute_result"
    }
   ],
   "source": [
    "import numpy as np\n",
    "\n",
    "np.__version__"
   ]
  },
  {
   "cell_type": "code",
   "execution_count": 4,
   "metadata": {
    "collapsed": false,
    "jupyter": {
     "outputs_hidden": false
    },
    "pycharm": {
     "name": "#%%\n"
    }
   },
   "outputs": [
    {
     "data": {
      "text/plain": [
       "'1.2.3'"
      ]
     },
     "execution_count": 4,
     "metadata": {},
     "output_type": "execute_result"
    }
   ],
   "source": [
    "import pandas as pd\n",
    "\n",
    "pd.__version__"
   ]
  },
  {
   "cell_type": "code",
   "execution_count": 5,
   "metadata": {
    "collapsed": false,
    "jupyter": {
     "outputs_hidden": false
    },
    "pycharm": {
     "name": "#%%\n"
    }
   },
   "outputs": [
    {
     "data": {
      "text/plain": [
       "'3.3.4'"
      ]
     },
     "execution_count": 5,
     "metadata": {},
     "output_type": "execute_result"
    }
   ],
   "source": [
    "import matplotlib\n",
    "\n",
    "matplotlib.__version__"
   ]
  },
  {
   "cell_type": "code",
   "execution_count": 6,
   "metadata": {},
   "outputs": [
    {
     "data": {
      "text/plain": [
       "'0.11.1'"
      ]
     },
     "execution_count": 6,
     "metadata": {},
     "output_type": "execute_result"
    }
   ],
   "source": [
    "import seaborn as sns\n",
    "\n",
    "sns.__version__"
   ]
  },
  {
   "cell_type": "markdown",
   "metadata": {},
   "source": [
    "## Загрузка данных\n",
    "\n",
    "Для примера возьмем [данные (dataset) Gapminder World](https://www.kaggle.com/tklimonova/gapminder-datacamp-2007)."
   ]
  },
  {
   "cell_type": "code",
   "execution_count": 7,
   "metadata": {
    "collapsed": false,
    "jupyter": {
     "outputs_hidden": false
    },
    "pycharm": {
     "name": "#%%\n"
    }
   },
   "outputs": [
    {
     "data": {
      "text/html": [
       "<div>\n",
       "<style scoped>\n",
       "    .dataframe tbody tr th:only-of-type {\n",
       "        vertical-align: middle;\n",
       "    }\n",
       "\n",
       "    .dataframe tbody tr th {\n",
       "        vertical-align: top;\n",
       "    }\n",
       "\n",
       "    .dataframe thead th {\n",
       "        text-align: right;\n",
       "    }\n",
       "</style>\n",
       "<table border=\"1\" class=\"dataframe\">\n",
       "  <thead>\n",
       "    <tr style=\"text-align: right;\">\n",
       "      <th></th>\n",
       "      <th>country</th>\n",
       "      <th>year</th>\n",
       "      <th>population</th>\n",
       "      <th>continent</th>\n",
       "      <th>life_exp</th>\n",
       "      <th>gdp_cap</th>\n",
       "    </tr>\n",
       "  </thead>\n",
       "  <tbody>\n",
       "    <tr>\n",
       "      <th>0</th>\n",
       "      <td>Afghanistan</td>\n",
       "      <td>1952</td>\n",
       "      <td>8425333</td>\n",
       "      <td>Asia</td>\n",
       "      <td>28.80</td>\n",
       "      <td>779.45</td>\n",
       "    </tr>\n",
       "    <tr>\n",
       "      <th>1</th>\n",
       "      <td>Afghanistan</td>\n",
       "      <td>1957</td>\n",
       "      <td>9240934</td>\n",
       "      <td>Asia</td>\n",
       "      <td>30.33</td>\n",
       "      <td>820.85</td>\n",
       "    </tr>\n",
       "    <tr>\n",
       "      <th>2</th>\n",
       "      <td>Afghanistan</td>\n",
       "      <td>1962</td>\n",
       "      <td>10267083</td>\n",
       "      <td>Asia</td>\n",
       "      <td>32.00</td>\n",
       "      <td>853.10</td>\n",
       "    </tr>\n",
       "    <tr>\n",
       "      <th>3</th>\n",
       "      <td>Afghanistan</td>\n",
       "      <td>1967</td>\n",
       "      <td>11537966</td>\n",
       "      <td>Asia</td>\n",
       "      <td>34.02</td>\n",
       "      <td>836.20</td>\n",
       "    </tr>\n",
       "    <tr>\n",
       "      <th>4</th>\n",
       "      <td>Afghanistan</td>\n",
       "      <td>1972</td>\n",
       "      <td>13079460</td>\n",
       "      <td>Asia</td>\n",
       "      <td>36.09</td>\n",
       "      <td>739.98</td>\n",
       "    </tr>\n",
       "    <tr>\n",
       "      <th>...</th>\n",
       "      <td>...</td>\n",
       "      <td>...</td>\n",
       "      <td>...</td>\n",
       "      <td>...</td>\n",
       "      <td>...</td>\n",
       "      <td>...</td>\n",
       "    </tr>\n",
       "    <tr>\n",
       "      <th>1699</th>\n",
       "      <td>Zimbabwe</td>\n",
       "      <td>1987</td>\n",
       "      <td>9216418</td>\n",
       "      <td>Africa</td>\n",
       "      <td>62.35</td>\n",
       "      <td>706.16</td>\n",
       "    </tr>\n",
       "    <tr>\n",
       "      <th>1700</th>\n",
       "      <td>Zimbabwe</td>\n",
       "      <td>1992</td>\n",
       "      <td>10704340</td>\n",
       "      <td>Africa</td>\n",
       "      <td>60.38</td>\n",
       "      <td>693.42</td>\n",
       "    </tr>\n",
       "    <tr>\n",
       "      <th>1701</th>\n",
       "      <td>Zimbabwe</td>\n",
       "      <td>1997</td>\n",
       "      <td>11404948</td>\n",
       "      <td>Africa</td>\n",
       "      <td>46.81</td>\n",
       "      <td>792.45</td>\n",
       "    </tr>\n",
       "    <tr>\n",
       "      <th>1702</th>\n",
       "      <td>Zimbabwe</td>\n",
       "      <td>2002</td>\n",
       "      <td>11926563</td>\n",
       "      <td>Africa</td>\n",
       "      <td>39.99</td>\n",
       "      <td>672.04</td>\n",
       "    </tr>\n",
       "    <tr>\n",
       "      <th>1703</th>\n",
       "      <td>Zimbabwe</td>\n",
       "      <td>2007</td>\n",
       "      <td>12311143</td>\n",
       "      <td>Africa</td>\n",
       "      <td>43.49</td>\n",
       "      <td>469.71</td>\n",
       "    </tr>\n",
       "  </tbody>\n",
       "</table>\n",
       "<p>1704 rows × 6 columns</p>\n",
       "</div>"
      ],
      "text/plain": [
       "          country  year  population continent  life_exp  gdp_cap\n",
       "0     Afghanistan  1952     8425333      Asia     28.80   779.45\n",
       "1     Afghanistan  1957     9240934      Asia     30.33   820.85\n",
       "2     Afghanistan  1962    10267083      Asia     32.00   853.10\n",
       "3     Afghanistan  1967    11537966      Asia     34.02   836.20\n",
       "4     Afghanistan  1972    13079460      Asia     36.09   739.98\n",
       "...           ...   ...         ...       ...       ...      ...\n",
       "1699     Zimbabwe  1987     9216418    Africa     62.35   706.16\n",
       "1700     Zimbabwe  1992    10704340    Africa     60.38   693.42\n",
       "1701     Zimbabwe  1997    11404948    Africa     46.81   792.45\n",
       "1702     Zimbabwe  2002    11926563    Africa     39.99   672.04\n",
       "1703     Zimbabwe  2007    12311143    Africa     43.49   469.71\n",
       "\n",
       "[1704 rows x 6 columns]"
      ]
     },
     "execution_count": 7,
     "metadata": {},
     "output_type": "execute_result"
    }
   ],
   "source": [
    "df = pd.read_csv('./../../data/gapminder_full.csv')\n",
    "\n",
    "# показать все колонки\n",
    "pd.options.display.max_columns = None\n",
    "\n",
    "# изменить формат отображения с помощью средства форматирования\n",
    "# (float без E, а 2 знаков после запятой)\n",
    "# (для удобства чтения)\n",
    "pd.options.display.float_format = '{:.2f}'.format\n",
    "\n",
    "# отобразить первые 5 и последние 5 строк\n",
    "df"
   ]
  },
  {
   "cell_type": "code",
   "execution_count": 8,
   "metadata": {
    "pycharm": {
     "name": "#%%\n"
    }
   },
   "outputs": [
    {
     "name": "stdout",
     "output_type": "stream",
     "text": [
      "<class 'pandas.core.frame.DataFrame'>\n",
      "RangeIndex: 1704 entries, 0 to 1703\n",
      "Data columns (total 6 columns):\n",
      " #   Column      Non-Null Count  Dtype  \n",
      "---  ------      --------------  -----  \n",
      " 0   country     1704 non-null   object \n",
      " 1   year        1704 non-null   int64  \n",
      " 2   population  1704 non-null   int64  \n",
      " 3   continent   1704 non-null   object \n",
      " 4   life_exp    1704 non-null   float64\n",
      " 5   gdp_cap     1704 non-null   float64\n",
      "dtypes: float64(2), int64(2), object(2)\n",
      "memory usage: 80.0+ KB\n"
     ]
    }
   ],
   "source": [
    "# получить сведения о датафрейме\n",
    "df.info()"
   ]
  },
  {
   "cell_type": "markdown",
   "metadata": {},
   "source": [
    "## Обзор пакета `seaborn`\n",
    "\n",
    "<img src=\"images/logo_seaborn.svg\" heigh=400 width=400/>\n",
    "\n",
    "\n",
    "[`Seaborn`](https://seaborn.pydata.org/) - это библиотека визуализации `Python`.\n",
    "\n",
    "Пакет `Seaborn` построен поверх `matplotlib` и тесно интегрирован со структурами данных `pandas`.\n",
    "\n",
    "Пакет `Seaborn` предоставляет высокоуровневый интерфейс для рисования привлекательной статистической графики.\n",
    "\n",
    "ВНИМАНИЕ: `Seaborn` поддерживает Python 3.7+ и больше НЕ поддерживает Python 2.\n",
    "\n",
    "Каждый модуль имеет одну функцию уровня фигуры (figure), которая предлагает единый интерфейс для различных функций уровня осей."
   ]
  },
  {
   "cell_type": "markdown",
   "metadata": {},
   "source": [
    "### Структура основных модулей пакета `seaborn`\n",
    "\n",
    "Пространство имен `seaborn` плоское. Вся функциональность доступна на верхнем уровне.\n",
    "\n",
    "Но сам код имеет иерархическую структуру с модулями функций, которые достигают одинаковых целей визуализации с помощью различных средств.\n",
    "\n",
    "Имеется три основных модуля:\n",
    "- \"относительный (**relational**)\"\n",
    "- \"распределительный (**distributional**)\"\n",
    "- \"категориальный (**categorical**)\".\n",
    "\n",
    "Структура выглядит примерно так:\n",
    "\n",
    "<img src=\"images/seaborn_function_overview.png\" heigh=600 width=600/>"
   ]
  },
  {
   "cell_type": "markdown",
   "metadata": {},
   "source": [
    "### \"Длинные (Long-form)\" и \"широкие (wide-form)\" данные\n",
    "\n",
    "Большинство функций построения графиков в `seaborn` ориентированы на векторы (vectors) данных.\n",
    "\n",
    "При построении графика `x` от `y` каждая переменная должна быть вектором. \n",
    "\n",
    "Пакет `Seaborn` принимает наборы данных, в которых несколько векторов организованы в виде таблиц\n",
    "\n",
    "Существует фундаментальное различие между таблицами данных \"**длинной формы (long-form)**\" и \"**широкой формы (wide-form)**\", и `seaborn` будет рассматривать каждую по-разному.\n",
    "\n",
    "При использовании `pandas` для представления данных в широкой форме (wide-form) используется всего несколько переменных (не более трех).\n",
    "\n",
    "Это связано с тем, что `seaborn` не использует многоиндексную (multi-index) информацию, в которой `pandas` представляет дополнительные переменные в табличном формате.\n",
    "\n",
    "\n",
    "В общем, можно думать о длинных (long) и широких (wide) наборах данных как о том, что выглядит примерно так:\n",
    "\n",
    "<img src=\"images/seaborn_longform_wideform_data.png\" heigh=600 width=600/>"
   ]
  },
  {
   "cell_type": "markdown",
   "metadata": {},
   "source": [
    "#### Данные длинной формы (long-form)\n",
    "\n",
    "Таблица данных **длинной формы (long-form)** имеет следующие характеристики:\n",
    "- Каждая переменная представляет собой столбец (variable = column)\n",
    "- Каждое наблюдение — это строка (observation = row)\n",
    "\n",
    "\n",
    "В случае данных в **длинной форме (long-form)** столбцам в таблице назначаются роли на графике путем *явного присвоения* им одной из переменных.\n",
    "\n",
    "Преимущество данных в **длинной форме (long-form)** состоит в том, что они хорошо **подходят для этой явной спецификации графика**.\n",
    "\n",
    "График может содержать наборы данных произвольной сложности, если можно четко определить переменные и наблюдения.\n",
    "\n",
    "Но к этому формату нужно привыкнуть, потому что часто это не модель данных, которая имеется \"в голове\"."
   ]
  },
  {
   "cell_type": "code",
   "execution_count": 9,
   "metadata": {},
   "outputs": [
    {
     "data": {
      "text/html": [
       "<div>\n",
       "<style scoped>\n",
       "    .dataframe tbody tr th:only-of-type {\n",
       "        vertical-align: middle;\n",
       "    }\n",
       "\n",
       "    .dataframe tbody tr th {\n",
       "        vertical-align: top;\n",
       "    }\n",
       "\n",
       "    .dataframe thead th {\n",
       "        text-align: right;\n",
       "    }\n",
       "</style>\n",
       "<table border=\"1\" class=\"dataframe\">\n",
       "  <thead>\n",
       "    <tr style=\"text-align: right;\">\n",
       "      <th></th>\n",
       "      <th>country</th>\n",
       "      <th>year</th>\n",
       "      <th>population</th>\n",
       "      <th>continent</th>\n",
       "      <th>life_exp</th>\n",
       "      <th>gdp_cap</th>\n",
       "    </tr>\n",
       "  </thead>\n",
       "  <tbody>\n",
       "    <tr>\n",
       "      <th>0</th>\n",
       "      <td>Afghanistan</td>\n",
       "      <td>1952</td>\n",
       "      <td>8425333</td>\n",
       "      <td>Asia</td>\n",
       "      <td>28.80</td>\n",
       "      <td>779.45</td>\n",
       "    </tr>\n",
       "    <tr>\n",
       "      <th>1</th>\n",
       "      <td>Afghanistan</td>\n",
       "      <td>1957</td>\n",
       "      <td>9240934</td>\n",
       "      <td>Asia</td>\n",
       "      <td>30.33</td>\n",
       "      <td>820.85</td>\n",
       "    </tr>\n",
       "    <tr>\n",
       "      <th>2</th>\n",
       "      <td>Afghanistan</td>\n",
       "      <td>1962</td>\n",
       "      <td>10267083</td>\n",
       "      <td>Asia</td>\n",
       "      <td>32.00</td>\n",
       "      <td>853.10</td>\n",
       "    </tr>\n",
       "    <tr>\n",
       "      <th>3</th>\n",
       "      <td>Afghanistan</td>\n",
       "      <td>1967</td>\n",
       "      <td>11537966</td>\n",
       "      <td>Asia</td>\n",
       "      <td>34.02</td>\n",
       "      <td>836.20</td>\n",
       "    </tr>\n",
       "    <tr>\n",
       "      <th>4</th>\n",
       "      <td>Afghanistan</td>\n",
       "      <td>1972</td>\n",
       "      <td>13079460</td>\n",
       "      <td>Asia</td>\n",
       "      <td>36.09</td>\n",
       "      <td>739.98</td>\n",
       "    </tr>\n",
       "  </tbody>\n",
       "</table>\n",
       "</div>"
      ],
      "text/plain": [
       "       country  year  population continent  life_exp  gdp_cap\n",
       "0  Afghanistan  1952     8425333      Asia     28.80   779.45\n",
       "1  Afghanistan  1957     9240934      Asia     30.33   820.85\n",
       "2  Afghanistan  1962    10267083      Asia     32.00   853.10\n",
       "3  Afghanistan  1967    11537966      Asia     34.02   836.20\n",
       "4  Afghanistan  1972    13079460      Asia     36.09   739.98"
      ]
     },
     "execution_count": 9,
     "metadata": {},
     "output_type": "execute_result"
    }
   ],
   "source": [
    "df.head()"
   ]
  },
  {
   "cell_type": "code",
   "execution_count": 10,
   "metadata": {},
   "outputs": [
    {
     "data": {
      "text/plain": [
       "<seaborn.axisgrid.FacetGrid at 0x7f2c6920a910>"
      ]
     },
     "execution_count": 10,
     "metadata": {},
     "output_type": "execute_result"
    },
    {
     "data": {
      "image/png": "[encoded data removed]",
      "text/plain": [
       "<Figure size 442.5x360 with 1 Axes>"
      ]
     },
     "metadata": {
      "needs_background": "light"
     },
     "output_type": "display_data"
    }
   ],
   "source": [
    "# по умолчанию используется тип scatter\n",
    "sns.relplot(data=df, \n",
    "            x=\"year\", \n",
    "            y=\"life_exp\", \n",
    "            hue='continent')"
   ]
  },
  {
   "cell_type": "code",
   "execution_count": 11,
   "metadata": {},
   "outputs": [
    {
     "data": {
      "text/plain": [
       "<seaborn.axisgrid.FacetGrid at 0x7f2c65022850>"
      ]
     },
     "execution_count": 11,
     "metadata": {},
     "output_type": "execute_result"
    },
    {
     "data": {
      "image/png": "[encoded data removed]",
      "text/plain": [
       "<Figure size 442.5x360 with 1 Axes>"
      ]
     },
     "metadata": {
      "needs_background": "light"
     },
     "output_type": "display_data"
    }
   ],
   "source": [
    "# можно указать тип line\n",
    "# TODO: какой именно разброс?\n",
    "sns.relplot(kind=\"line\",\n",
    "            data=df, \n",
    "            x=\"year\", \n",
    "            y=\"life_exp\", \n",
    "            hue='continent')"
   ]
  },
  {
   "cell_type": "code",
   "execution_count": 12,
   "metadata": {},
   "outputs": [
    {
     "data": {
      "text/plain": [
       "<seaborn.axisgrid.FacetGrid at 0x7f2c64756b20>"
      ]
     },
     "execution_count": 12,
     "metadata": {},
     "output_type": "execute_result"
    },
    {
     "data": {
      "image/png": "[encoded data removed]",
      "text/plain": [
       "<Figure size 430.875x360 with 1 Axes>"
      ]
     },
     "metadata": {
      "needs_background": "light"
     },
     "output_type": "display_data"
    }
   ],
   "source": [
    "sns.relplot(kind=\"line\",\n",
    "            data=df[df.continent == \"Europe\"], \n",
    "            x=\"year\", \n",
    "            y=\"life_exp\", \n",
    "            hue='continent')"
   ]
  },
  {
   "cell_type": "code",
   "execution_count": 13,
   "metadata": {},
   "outputs": [
    {
     "data": {
      "text/plain": [
       "<seaborn.axisgrid.FacetGrid at 0x7f2c647569a0>"
      ]
     },
     "execution_count": 13,
     "metadata": {},
     "output_type": "execute_result"
    },
    {
     "data": {
      "image/png": "[encoded data removed]",
      "text/plain": [
       "<Figure size 517.25x360 with 1 Axes>"
      ]
     },
     "metadata": {
      "needs_background": "light"
     },
     "output_type": "display_data"
    }
   ],
   "source": [
    "sns.relplot(kind=\"line\",\n",
    "            data=df[df.continent == \"Europe\"], \n",
    "            x=\"year\", \n",
    "            y=\"life_exp\", \n",
    "            hue='country')"
   ]
  },
  {
   "cell_type": "code",
   "execution_count": 14,
   "metadata": {},
   "outputs": [
    {
     "data": {
      "text/plain": [
       "<seaborn.axisgrid.FacetGrid at 0x7f2c6595f6a0>"
      ]
     },
     "execution_count": 14,
     "metadata": {},
     "output_type": "execute_result"
    },
    {
     "data": {
      "image/png": "[encoded data removed]",
      "text/plain": [
       "<Figure size 430.875x360 with 1 Axes>"
      ]
     },
     "metadata": {
      "needs_background": "light"
     },
     "output_type": "display_data"
    }
   ],
   "source": [
    "# можно указать тип box\n",
    "sns.catplot(kind=\"box\",\n",
    "            data=df[df.continent == \"Europe\"], \n",
    "            x=\"year\", \n",
    "            y=\"life_exp\", \n",
    "            hue='continent')"
   ]
  },
  {
   "cell_type": "markdown",
   "metadata": {},
   "source": [
    "#### Данные широкой формы (wide-form)\n",
    "\n",
    "Для простых наборов данных часто бывает более интуитивно понятным думать о данных так, как они могут быть просмотрены в электронной таблице, где столбцы и строки содержат уровни различных переменных.\n",
    "\n",
    "Например, можно преобразовать датасет в **широкую форму (wide-form)** сводной таблицей.\n",
    "\n",
    "Здесь используются те же переменные, но они организованы по-другому. Переменные в этом наборе данных связаны с размерами таблицы, а не с именованными полями.\n",
    "Каждое наблюдение определяется как значением в ячейке в таблице, так и координатами этой ячейки относительно индексов строки и столбца."
   ]
  },
  {
   "cell_type": "code",
   "execution_count": 15,
   "metadata": {},
   "outputs": [
    {
     "data": {
      "text/html": [
       "<div>\n",
       "<style scoped>\n",
       "    .dataframe tbody tr th:only-of-type {\n",
       "        vertical-align: middle;\n",
       "    }\n",
       "\n",
       "    .dataframe tbody tr th {\n",
       "        vertical-align: top;\n",
       "    }\n",
       "\n",
       "    .dataframe thead th {\n",
       "        text-align: right;\n",
       "    }\n",
       "</style>\n",
       "<table border=\"1\" class=\"dataframe\">\n",
       "  <thead>\n",
       "    <tr style=\"text-align: right;\">\n",
       "      <th>continent</th>\n",
       "      <th>Africa</th>\n",
       "      <th>Americas</th>\n",
       "      <th>Asia</th>\n",
       "      <th>Europe</th>\n",
       "      <th>Oceania</th>\n",
       "    </tr>\n",
       "    <tr>\n",
       "      <th>year</th>\n",
       "      <th></th>\n",
       "      <th></th>\n",
       "      <th></th>\n",
       "      <th></th>\n",
       "      <th></th>\n",
       "    </tr>\n",
       "  </thead>\n",
       "  <tbody>\n",
       "    <tr>\n",
       "      <th>1952</th>\n",
       "      <td>39.14</td>\n",
       "      <td>53.28</td>\n",
       "      <td>46.31</td>\n",
       "      <td>64.41</td>\n",
       "      <td>69.25</td>\n",
       "    </tr>\n",
       "    <tr>\n",
       "      <th>1957</th>\n",
       "      <td>41.27</td>\n",
       "      <td>55.96</td>\n",
       "      <td>49.32</td>\n",
       "      <td>66.70</td>\n",
       "      <td>70.30</td>\n",
       "    </tr>\n",
       "    <tr>\n",
       "      <th>1962</th>\n",
       "      <td>43.32</td>\n",
       "      <td>58.40</td>\n",
       "      <td>51.56</td>\n",
       "      <td>68.54</td>\n",
       "      <td>71.09</td>\n",
       "    </tr>\n",
       "    <tr>\n",
       "      <th>1967</th>\n",
       "      <td>45.33</td>\n",
       "      <td>60.41</td>\n",
       "      <td>54.66</td>\n",
       "      <td>69.74</td>\n",
       "      <td>71.31</td>\n",
       "    </tr>\n",
       "    <tr>\n",
       "      <th>1972</th>\n",
       "      <td>47.45</td>\n",
       "      <td>62.39</td>\n",
       "      <td>57.32</td>\n",
       "      <td>70.78</td>\n",
       "      <td>71.91</td>\n",
       "    </tr>\n",
       "    <tr>\n",
       "      <th>1977</th>\n",
       "      <td>49.58</td>\n",
       "      <td>64.39</td>\n",
       "      <td>59.61</td>\n",
       "      <td>71.94</td>\n",
       "      <td>72.85</td>\n",
       "    </tr>\n",
       "    <tr>\n",
       "      <th>1982</th>\n",
       "      <td>51.59</td>\n",
       "      <td>66.23</td>\n",
       "      <td>62.62</td>\n",
       "      <td>72.81</td>\n",
       "      <td>74.29</td>\n",
       "    </tr>\n",
       "    <tr>\n",
       "      <th>1987</th>\n",
       "      <td>53.34</td>\n",
       "      <td>68.09</td>\n",
       "      <td>64.85</td>\n",
       "      <td>73.64</td>\n",
       "      <td>75.32</td>\n",
       "    </tr>\n",
       "    <tr>\n",
       "      <th>1992</th>\n",
       "      <td>53.63</td>\n",
       "      <td>69.57</td>\n",
       "      <td>66.54</td>\n",
       "      <td>74.44</td>\n",
       "      <td>76.94</td>\n",
       "    </tr>\n",
       "    <tr>\n",
       "      <th>1997</th>\n",
       "      <td>53.60</td>\n",
       "      <td>71.15</td>\n",
       "      <td>68.02</td>\n",
       "      <td>75.51</td>\n",
       "      <td>78.19</td>\n",
       "    </tr>\n",
       "    <tr>\n",
       "      <th>2002</th>\n",
       "      <td>53.33</td>\n",
       "      <td>72.42</td>\n",
       "      <td>69.23</td>\n",
       "      <td>76.70</td>\n",
       "      <td>79.74</td>\n",
       "    </tr>\n",
       "    <tr>\n",
       "      <th>2007</th>\n",
       "      <td>54.81</td>\n",
       "      <td>73.61</td>\n",
       "      <td>70.73</td>\n",
       "      <td>77.65</td>\n",
       "      <td>80.72</td>\n",
       "    </tr>\n",
       "  </tbody>\n",
       "</table>\n",
       "</div>"
      ],
      "text/plain": [
       "continent  Africa  Americas  Asia  Europe  Oceania\n",
       "year                                              \n",
       "1952        39.14     53.28 46.31   64.41    69.25\n",
       "1957        41.27     55.96 49.32   66.70    70.30\n",
       "1962        43.32     58.40 51.56   68.54    71.09\n",
       "1967        45.33     60.41 54.66   69.74    71.31\n",
       "1972        47.45     62.39 57.32   70.78    71.91\n",
       "1977        49.58     64.39 59.61   71.94    72.85\n",
       "1982        51.59     66.23 62.62   72.81    74.29\n",
       "1987        53.34     68.09 64.85   73.64    75.32\n",
       "1992        53.63     69.57 66.54   74.44    76.94\n",
       "1997        53.60     71.15 68.02   75.51    78.19\n",
       "2002        53.33     72.42 69.23   76.70    79.74\n",
       "2007        54.81     73.61 70.73   77.65    80.72"
      ]
     },
     "execution_count": 15,
     "metadata": {},
     "output_type": "execute_result"
    }
   ],
   "source": [
    "# среднее значение населения по году и континенту\n",
    "pvt = df.pivot_table(index='year', \n",
    "                     columns='continent',\n",
    "                     values='life_exp',\n",
    "                     aggfunc=\"mean\")\n",
    "pvt"
   ]
  },
  {
   "cell_type": "code",
   "execution_count": null,
   "metadata": {},
   "outputs": [
    {
     "data": {
      "text/plain": [
       "<seaborn.axisgrid.FacetGrid at 0x7f2c65057370>"
      ]
     },
     "execution_count": 16,
     "metadata": {},
     "output_type": "execute_result"
    }
   ],
   "source": [
    "sns.relplot(data=pvt)"
   ]
  },
  {
   "cell_type": "code",
   "execution_count": null,
   "metadata": {},
   "outputs": [],
   "source": [
    "sns.relplot(data=pvt, kind=\"line\")"
   ]
  },
  {
   "cell_type": "code",
   "execution_count": null,
   "metadata": {},
   "outputs": [],
   "source": [
    "# по умолчанию stripplot\n",
    "sns.catplot(data=pvt)"
   ]
  },
  {
   "cell_type": "code",
   "execution_count": null,
   "metadata": {},
   "outputs": [],
   "source": [
    "sns.catplot(data=pvt, kind=\"box\")"
   ]
  },
  {
   "cell_type": "markdown",
   "metadata": {},
   "source": [
    "С данными в **длинной форме (long-form)** можно получить доступ к переменным в наборе данных по их имени.\n",
    "\n",
    "Это не относится к данным в **широкой форме (wide-form)**. Тем не менее, поскольку существует четкая связь между размерами таблицы и переменной в наборе данных, `seaborn` может назначить этим переменным роли на графике."
   ]
  },
  {
   "cell_type": "markdown",
   "metadata": {},
   "source": [
    "## Relational plots"
   ]
  },
  {
   "cell_type": "markdown",
   "metadata": {},
   "source": [
    "### `relplot`\n",
    "\n",
    "[seaborn.relplot](https://seaborn.pydata.org/generated/seaborn.relplot.html#seaborn.relplot)\n",
    "\n",
    "По умолчанию `kind=\"scatter\"`."
   ]
  },
  {
   "cell_type": "code",
   "execution_count": null,
   "metadata": {},
   "outputs": [],
   "source": [
    "sns.relplot(data=df[df.continent == \"Oceania\"], \n",
    "            x='year', \n",
    "            y=\"life_exp\", \n",
    "            hue=\"country\",\n",
    "            size=\"population\", \n",
    "            palette='coolwarm')"
   ]
  },
  {
   "cell_type": "markdown",
   "metadata": {},
   "source": [
    "### `scatterplot`\n",
    "\n",
    "[seaborn.scatterplot](https://seaborn.pydata.org/generated/seaborn.scatterplot.html#seaborn.scatterplot)\n",
    "\n",
    "*[Colormaps in Matplotlib](https://matplotlib.org/stable/tutorials/colors/colormaps.html)"
   ]
  },
  {
   "cell_type": "code",
   "execution_count": null,
   "metadata": {},
   "outputs": [],
   "source": [
    "sns.scatterplot(data=df[df.continent == \"Oceania\"], \n",
    "                x='year', \n",
    "                y=\"life_exp\", \n",
    "                hue=\"country\",\n",
    "                size=\"population\", \n",
    "                palette='coolwarm')"
   ]
  },
  {
   "cell_type": "markdown",
   "metadata": {},
   "source": [
    "### `lineplot`\n",
    "\n",
    "[seaborn.lineplot](https://seaborn.pydata.org/generated/seaborn.lineplot.html#seaborn.lineplot)"
   ]
  },
  {
   "cell_type": "code",
   "execution_count": null,
   "metadata": {},
   "outputs": [],
   "source": [
    "sns.lineplot(data=df[df.continent == \"Oceania\"], \n",
    "             x='year', \n",
    "             y=\"life_exp\", \n",
    "             hue=\"country\",\n",
    "             palette=['red', 'blue'])"
   ]
  },
  {
   "cell_type": "markdown",
   "metadata": {},
   "source": [
    "## Distribution plots"
   ]
  },
  {
   "cell_type": "markdown",
   "metadata": {},
   "source": [
    "### `displot`\n",
    "\n",
    "Эта функция обеспечивает доступ к нескольким подходам для визуализации одномерного или двумерного распределения данных, включая подмножества данных, определенных семантическим отображением и фасетированием по множеству подзаголовков.\n",
    "\n",
    "Кроме того, `rugplot` может быть добавлен к любому типу графика для отображения отдельных наблюдений.\n",
    "\n",
    "\n",
    "[seaborn.displot](https://seaborn.pydata.org/generated/seaborn.displot.html#seaborn.displot)\n",
    "\n",
    "По умолчанию `kind=\"hist\"`"
   ]
  },
  {
   "cell_type": "code",
   "execution_count": null,
   "metadata": {},
   "outputs": [],
   "source": [
    "# hist + kde + rug\n",
    "sns.displot(data=pvt.Africa, \n",
    "            kde=True, \n",
    "            rug=True)"
   ]
  },
  {
   "cell_type": "markdown",
   "metadata": {},
   "source": [
    "### `histplot`\n",
    "\n",
    "[seaborn.histplot](https://seaborn.pydata.org/generated/seaborn.histplot.html#seaborn.histplot)"
   ]
  },
  {
   "cell_type": "code",
   "execution_count": null,
   "metadata": {},
   "outputs": [],
   "source": [
    "# по умолчанию element=\"bars\"\n",
    "sns.histplot(data=pvt.Africa, \n",
    "             kde=True)"
   ]
  },
  {
   "cell_type": "code",
   "execution_count": null,
   "metadata": {},
   "outputs": [],
   "source": [
    "sns.histplot(data=pvt.Africa, \n",
    "             kde=True, \n",
    "             element=\"step\")"
   ]
  },
  {
   "cell_type": "code",
   "execution_count": null,
   "metadata": {},
   "outputs": [],
   "source": [
    "sns.histplot(data=pvt.Africa, \n",
    "             kde=True, \n",
    "             element=\"poly\")"
   ]
  },
  {
   "cell_type": "code",
   "execution_count": null,
   "metadata": {},
   "outputs": [],
   "source": [
    "sns.histplot(data=pvt[[\"Africa\", \"Europe\"]], \n",
    "             kde=True, \n",
    "             fill=False)"
   ]
  },
  {
   "cell_type": "code",
   "execution_count": null,
   "metadata": {},
   "outputs": [],
   "source": [
    "sns.histplot(data=pvt[[\"Americas\", \"Europe\"]], \n",
    "             kde=True, \n",
    "             common_bins=True, \n",
    "             multiple=\"dodge\")"
   ]
  },
  {
   "cell_type": "code",
   "execution_count": null,
   "metadata": {},
   "outputs": [],
   "source": [
    "sns.histplot(data=pvt[[\"Americas\", \"Europe\"]], \n",
    "             kde=True, \n",
    "             common_bins=True, \n",
    "             multiple=\"stack\")"
   ]
  },
  {
   "cell_type": "code",
   "execution_count": null,
   "metadata": {},
   "outputs": [],
   "source": [
    "sns.histplot(data=pvt[[\"Americas\", \"Europe\"]], \n",
    "             kde=True, \n",
    "             common_bins=True, \n",
    "             multiple=\"fill\")"
   ]
  },
  {
   "cell_type": "code",
   "execution_count": null,
   "metadata": {},
   "outputs": [],
   "source": [
    "# по умолчанию multiple=\"dodge\"\n",
    "sns.histplot(data=pvt[[\"Americas\", \"Europe\"]], \n",
    "             kde=True, \n",
    "             common_bins=True)"
   ]
  },
  {
   "cell_type": "code",
   "execution_count": null,
   "metadata": {},
   "outputs": [],
   "source": [
    "sns.histplot(data=pvt[[\"Americas\", \"Europe\"]], \n",
    "             kde=True, common_bins=False)"
   ]
  },
  {
   "cell_type": "markdown",
   "metadata": {},
   "source": [
    "### `kdeplot` (kernel density estimation)\n",
    "\n",
    "[seaborn.kdeplot](https://seaborn.pydata.org/generated/seaborn.kdeplot.html#seaborn.kdeplot)"
   ]
  },
  {
   "cell_type": "code",
   "execution_count": null,
   "metadata": {},
   "outputs": [],
   "source": [
    "sns.kdeplot(data=pvt.Africa)"
   ]
  },
  {
   "cell_type": "code",
   "execution_count": null,
   "metadata": {},
   "outputs": [],
   "source": [
    "sns.kdeplot(data=pvt.Africa,\n",
    "            shade=True)"
   ]
  },
  {
   "cell_type": "code",
   "execution_count": null,
   "metadata": {},
   "outputs": [],
   "source": [
    "sns.kdeplot(data=pvt[[\"Americas\", \"Europe\"]], \n",
    "            multiple=\"layer\")"
   ]
  },
  {
   "cell_type": "code",
   "execution_count": null,
   "metadata": {},
   "outputs": [],
   "source": [
    "sns.kdeplot(data=pvt[[\"Americas\", \"Europe\"]], \n",
    "            multiple=\"stack\")"
   ]
  },
  {
   "cell_type": "markdown",
   "metadata": {},
   "source": [
    "### *`ecdfplot` (empirical cumulative distribution functions)\n",
    "\n",
    "**Выборочная (эмпирическая) функция распределения (Empirical Distribution Function = EDF или empirical Cumulative Distribution Function = eCDF)** в математической статистике — это приближение теоретической функции распределения, построенное с помощью выборки из него.\n",
    "\n",
    "[seaborn.ecdfplot](https://seaborn.pydata.org/generated/seaborn.ecdfplot.html#seaborn.ecdfplot)"
   ]
  },
  {
   "cell_type": "code",
   "execution_count": null,
   "metadata": {},
   "outputs": [],
   "source": [
    "pvt"
   ]
  },
  {
   "cell_type": "code",
   "execution_count": null,
   "metadata": {},
   "outputs": [],
   "source": [
    "sns.ecdfplot(data=pvt.Africa)"
   ]
  },
  {
   "cell_type": "code",
   "execution_count": null,
   "metadata": {},
   "outputs": [],
   "source": [
    "sns.ecdfplot(data=pvt[[\"Americas\", \"Europe\"]])"
   ]
  },
  {
   "cell_type": "markdown",
   "metadata": {},
   "source": [
    "### `rugplot` (marginal distributions)\n",
    "\n",
    "**ВНИМАНИЕ:** Не путать с \"Carpet plot\"\n",
    "\n",
    "Ковровый график (rug plot) - это график данных для одной количественной переменной, отображаемый в виде отметок вдоль оси.\n",
    "\n",
    "Метод `rugplot` используется для визуализации распределения данных.\n",
    "\n",
    "По сути, он аналогичен гистограмме (hist) с ячейками нулевой ширины или одномерному графику рассеяния (scatter).\n",
    "\n",
    "Ковровые графики часто используются в сочетании с двумерными диаграммами рассеяния (scatter), помещая коврик (rug) для значений x данных вдоль оси x, и аналогично для значений y.\n",
    "\n",
    "Отсюда и возник термин \"коврик\", поскольку эти ковровые площадки с перпендикулярными маркерами выглядят как кисточки по краям прямоугольного \"коврика\" диаграммы рассеяния.\n",
    "\n",
    "[seaborn.rugplot](https://seaborn.pydata.org/generated/seaborn.rugplot.html#seaborn.rugplot)"
   ]
  },
  {
   "cell_type": "code",
   "execution_count": null,
   "metadata": {},
   "outputs": [],
   "source": [
    "sns.rugplot(data=pvt[[\"Americas\", \"Europe\"]], \n",
    "            height=0.8)"
   ]
  },
  {
   "cell_type": "code",
   "execution_count": null,
   "metadata": {},
   "outputs": [],
   "source": [
    "sns.histplot(data=pvt.Africa, kde=True)\n",
    "sns.rugplot(data=pvt.Africa, \n",
    "            height=0.1, \n",
    "            color='red')"
   ]
  },
  {
   "cell_type": "markdown",
   "metadata": {},
   "source": [
    "## Categorical plots"
   ]
  },
  {
   "cell_type": "markdown",
   "metadata": {},
   "source": [
    "### `catplot`\n",
    "\n",
    "По умолчанию `kind=\"strip\"`\n",
    "\n",
    "[seaborn.catplot](https://seaborn.pydata.org/generated/seaborn.catplot.html#seaborn.catplot)"
   ]
  },
  {
   "cell_type": "code",
   "execution_count": null,
   "metadata": {},
   "outputs": [],
   "source": [
    "sns.catplot(data=pvt)"
   ]
  },
  {
   "cell_type": "markdown",
   "metadata": {},
   "source": [
    "### `stripplot`\n",
    "\n",
    "Другие названия: dot plot, dot chart \n",
    "\n",
    "Диаграмма рассеяния (scatterplot), на которой одна переменная является категориальной.\n",
    "\n",
    "Метод `stripplot` можно нарисовать отдельно, но `stripplot` также является хорошим дополнением к графику `box` или `violin` в тех случаях, когда нужно показать все наблюдения вместе с некоторым представлением основного распределения.\n",
    "\n",
    "[seaborn. stripplot](https://seaborn.pydata.org/generated/seaborn.stripplot.html#seaborn.stripplot)"
   ]
  },
  {
   "cell_type": "code",
   "execution_count": null,
   "metadata": {},
   "outputs": [],
   "source": [
    "sns.stripplot(data=pvt)"
   ]
  },
  {
   "cell_type": "code",
   "execution_count": null,
   "metadata": {},
   "outputs": [],
   "source": [
    "sns.stripplot(data=pvt, \n",
    "              orient='h', \n",
    "              size=15,\n",
    "              linewidth=2, \n",
    "              edgecolor='yellow')"
   ]
  },
  {
   "cell_type": "markdown",
   "metadata": {},
   "source": [
    "### `swarmplot`\n",
    "\n",
    "Категориальная диаграмма рассеяния (`scatterplot`) с непересекающимися точками.\n",
    "\n",
    "\n",
    "Похож на `stripplot`, но точки корректируются (только вдоль категориальной оси) так, чтобы они не перекрывались. Это дает лучшее представление о распределении значений, но плохо масштабируется для большого количества наблюдений.\n",
    "\n",
    "Такой стиль диаграммы иногда называют `beeswarm`.\n",
    "\n",
    "Метод `swarmplot` можно нарисовать отдельно, но `swarmplot` также является хорошим дополнением к графику `box` или `violin` в тех случаях, когда нужно показать все наблюдения вместе с некоторым представлением основного распределения.\n",
    "\n",
    "[seaborn.swarmplot](https://seaborn.pydata.org/generated/seaborn.swarmplot.html#seaborn.swarmplot)"
   ]
  },
  {
   "cell_type": "code",
   "execution_count": null,
   "metadata": {},
   "outputs": [],
   "source": [
    "sns.swarmplot(data=pvt)"
   ]
  },
  {
   "cell_type": "code",
   "execution_count": null,
   "metadata": {},
   "outputs": [],
   "source": [
    "sns.swarmplot(data=pvt, \n",
    "              orient='h', \n",
    "              size=7,\n",
    "              linewidth=1, \n",
    "              edgecolor='yellow')"
   ]
  },
  {
   "cell_type": "markdown",
   "metadata": {},
   "source": [
    "### `boxplot`\n",
    "\n",
    "[seaborn.boxplot](https://seaborn.pydata.org/generated/seaborn.boxplot.html#seaborn.boxplot)"
   ]
  },
  {
   "cell_type": "code",
   "execution_count": null,
   "metadata": {},
   "outputs": [],
   "source": [
    "sns.boxplot(data=pvt, \n",
    "            orient='h', \n",
    "            saturation=1,\n",
    "            width=0.5, \n",
    "            linewidth=3)"
   ]
  },
  {
   "cell_type": "code",
   "execution_count": null,
   "metadata": {},
   "outputs": [],
   "source": [
    "sns.boxplot(data=pvt, \n",
    "            palette='tab20c')\n",
    "\n",
    "sns.stripplot(data=pvt, \n",
    "              palette='tab20b')"
   ]
  },
  {
   "cell_type": "code",
   "execution_count": null,
   "metadata": {},
   "outputs": [],
   "source": [
    "sns.boxplot(data=pvt, \n",
    "            palette='tab20c')\n",
    "\n",
    "sns.swarmplot(data=pvt, \n",
    "              palette='tab20b')"
   ]
  },
  {
   "cell_type": "markdown",
   "metadata": {},
   "source": [
    "### `violinplot`\n",
    "\n",
    "\n",
    "`violinplot` - это комбинация `boxplot` и `kde` с каждой стороны.\n",
    "\n",
    "Метод `violinplot` похожи на коробчатые диаграммы, за исключением того, что они также показывают плотность вероятности данных при различных значениях, обычно сглаженных с помощью оценщика плотности ядра.\n",
    "\n",
    "\n",
    "[seaborn.violinplot](https://seaborn.pydata.org/generated/seaborn.violinplot.html#seaborn.violinplot)"
   ]
  },
  {
   "cell_type": "code",
   "execution_count": null,
   "metadata": {},
   "outputs": [],
   "source": [
    "sns.violinplot(data=pvt)"
   ]
  },
  {
   "cell_type": "code",
   "execution_count": null,
   "metadata": {},
   "outputs": [],
   "source": [
    "sns.violinplot(data=pvt, \n",
    "               scale=\"count\")"
   ]
  },
  {
   "cell_type": "code",
   "execution_count": null,
   "metadata": {},
   "outputs": [],
   "source": [
    "sns.violinplot(data=pvt, \n",
    "               scale=\"area\")"
   ]
  },
  {
   "cell_type": "code",
   "execution_count": null,
   "metadata": {},
   "outputs": [],
   "source": [
    "sns.violinplot(data=pvt, \n",
    "               scale=\"width\")"
   ]
  },
  {
   "cell_type": "code",
   "execution_count": null,
   "metadata": {},
   "outputs": [],
   "source": [
    "sns.violinplot(data=pvt, \n",
    "               inner=\"quartile\")"
   ]
  },
  {
   "cell_type": "code",
   "execution_count": null,
   "metadata": {},
   "outputs": [],
   "source": [
    "sns.violinplot(data=pvt, \n",
    "               inner=\"point\")"
   ]
  },
  {
   "cell_type": "code",
   "execution_count": null,
   "metadata": {},
   "outputs": [],
   "source": [
    "sns.violinplot(data=pvt, \n",
    "               inner=\"stick\")"
   ]
  },
  {
   "cell_type": "markdown",
   "metadata": {},
   "source": [
    "### `pointplot`\n",
    "\n",
    "Точечный график представляет собой оценку центральной тенденции для числовой переменной по положению точек диаграммы рассеяния (scatter) и дает некоторое представление о неопределенности вокруг этой оценки с использованием планок (bar) погрешностей.\n",
    "\n",
    "Точечные графики могут быть более полезными, чем гистограммы, для сравнений между разными уровнями одной или нескольких категориальных переменных.\n",
    "\n",
    "Они особенно хорошо подходят для демонстрации взаимодействий: как отношения между уровни одной категориальной переменной меняются на разных уровнях второй категориальной переменной.\n",
    "\n",
    "Линии, соединяющие каждую точку с одним и тем же уровнем оттенка, позволяют судить о взаимодействиях по разнице наклона, что проще для глаз, чем сравнение высоты нескольких групп точек или полос.\n",
    "\n",
    "Важно помнить, что точечный график показывает только среднее (или другое оценочное) значение, но во многих случаях может быть более информативным показать распределение значений на каждом уровне категориальных переменных. В этом случае могут быть более подходящими другие подходы, такие как `boxplot` или `violinplot`.\n",
    "\n",
    "*[Linestyles](https://matplotlib.org/stable/gallery/lines_bars_and_markers/linestyles.html)\n",
    "\n",
    "[seaborn.pointplot](https://seaborn.pydata.org/generated/seaborn.pointplot.html#seaborn.pointplot)"
   ]
  },
  {
   "cell_type": "code",
   "execution_count": null,
   "metadata": {},
   "outputs": [],
   "source": [
    "sns.pointplot(data=pvt)"
   ]
  },
  {
   "cell_type": "code",
   "execution_count": null,
   "metadata": {},
   "outputs": [],
   "source": [
    "sns.pointplot(data=pvt, \n",
    "              orient='h', \n",
    "              scale=2, \n",
    "              errwidth=8)"
   ]
  },
  {
   "cell_type": "code",
   "execution_count": null,
   "metadata": {},
   "outputs": [],
   "source": [
    "sns.pointplot(data=df[df.continent == \"Oceania\"],\n",
    "              x='year', \n",
    "              y=\"life_exp\", \n",
    "              hue=\"country\",\n",
    "              palette=['red', 'blue'],\n",
    "              linestyles=[(0, (1, 4)), \"dotted\"],\n",
    "              markers=[\"*\", \"^\"])"
   ]
  },
  {
   "cell_type": "markdown",
   "metadata": {},
   "source": [
    "### `barplot`\n",
    "\n",
    "[seaborn.barplot](https://seaborn.pydata.org/generated/seaborn.barplot.html#seaborn.barplot)"
   ]
  },
  {
   "cell_type": "code",
   "execution_count": null,
   "metadata": {},
   "outputs": [],
   "source": [
    "sns.barplot(data=pvt)"
   ]
  },
  {
   "cell_type": "code",
   "execution_count": null,
   "metadata": {},
   "outputs": [],
   "source": [
    "sns.barplot(data=pvt, \n",
    "            orient='h', \n",
    "            capsize=.3, \n",
    "            palette=\"Blues_d\")"
   ]
  },
  {
   "cell_type": "code",
   "execution_count": null,
   "metadata": {},
   "outputs": [],
   "source": [
    "sns.barplot(data=df[df.continent == \"Oceania\"],\n",
    "              x='year', \n",
    "              y=\"life_exp\", \n",
    "              hue=\"country\")"
   ]
  },
  {
   "cell_type": "markdown",
   "metadata": {},
   "source": [
    "### `countplot`\n",
    "\n",
    "Метод `countplot` можно рассматривать как гистограмму по категориальной, а не количественной переменной.\n",
    "\n",
    "[seaborn.countplot](https://seaborn.pydata.org/generated/seaborn.countplot.html#seaborn.countplot)"
   ]
  },
  {
   "cell_type": "code",
   "execution_count": null,
   "metadata": {},
   "outputs": [],
   "source": [
    "df"
   ]
  },
  {
   "cell_type": "code",
   "execution_count": null,
   "metadata": {},
   "outputs": [],
   "source": [
    "# TODO\n",
    "sns.countplot(data=df,\n",
    "              x='continent')"
   ]
  },
  {
   "cell_type": "markdown",
   "metadata": {},
   "source": [
    "## Дополнительные примеры"
   ]
  },
  {
   "cell_type": "markdown",
   "metadata": {},
   "source": [
    "### `jointplot`\n",
    "\n",
    "TODO\n",
    "\n",
    "[seaborn.jointplot](http://seaborn.pydata.org/generated/seaborn.jointplot.html)"
   ]
  },
  {
   "cell_type": "code",
   "execution_count": null,
   "metadata": {},
   "outputs": [],
   "source": [
    "oceania = df[df.continent == \"Oceania\"]\n",
    "oceania"
   ]
  },
  {
   "cell_type": "code",
   "execution_count": null,
   "metadata": {},
   "outputs": [],
   "source": [
    "sns.jointplot(x=oceania.gdp_cap, \n",
    "              y=oceania.life_exp)"
   ]
  },
  {
   "cell_type": "code",
   "execution_count": null,
   "metadata": {},
   "outputs": [],
   "source": [
    "sns.jointplot(x=oceania.gdp_cap, \n",
    "              y=oceania.life_exp,\n",
    "              hue=oceania.country,\n",
    "              marginal_ticks=True)"
   ]
  },
  {
   "cell_type": "code",
   "execution_count": null,
   "metadata": {},
   "outputs": [],
   "source": [
    "sns.jointplot(x=oceania.gdp_cap, \n",
    "              y=oceania.life_exp,\n",
    "              hue=oceania.country,\n",
    "              marginal_ticks=True,\n",
    "              kind='kde')"
   ]
  },
  {
   "cell_type": "markdown",
   "metadata": {},
   "source": [
    "### `lmplot`\n",
    "\n",
    "TODO\n",
    "\n",
    "[seaborn.lmplot](https://seaborn.pydata.org/generated/seaborn.lmplot.html)"
   ]
  },
  {
   "cell_type": "code",
   "execution_count": null,
   "metadata": {},
   "outputs": [],
   "source": [
    "sns.lmplot(data=oceania,\n",
    "           x='gdp_cap', \n",
    "           y='life_exp',\n",
    "           hue='country')"
   ]
  }
 ],
 "metadata": {
  "kernelspec": {
   "display_name": "Python [conda env:LevelUp_DataScience] *",
   "language": "python",
   "name": "conda-env-LevelUp_DataScience-py"
  },
  "language_info": {
   "codemirror_mode": {
    "name": "ipython",
    "version": 3
   },
   "file_extension": ".py",
   "mimetype": "text/x-python",
   "name": "python",
   "nbconvert_exporter": "python",
   "pygments_lexer": "ipython3",
   "version": "3.8.5"
  }
 },
 "nbformat": 4,
 "nbformat_minor": 4
}
