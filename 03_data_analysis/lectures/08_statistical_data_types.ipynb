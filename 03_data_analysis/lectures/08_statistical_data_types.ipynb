{
 "cells": [
  {
   "cell_type": "markdown",
   "metadata": {
    "pycharm": {
     "name": "#%% md\n"
    }
   },
   "source": [
    "# Типы данных в статистике"
   ]
  },
  {
   "cell_type": "markdown",
   "metadata": {},
   "source": [
    "---\n",
    "\n",
    "**Источники:**\n",
    "\n",
    "[Statistical data type](https://en.wikipedia.org/wiki/Statistical_data_type)\n",
    "\n",
    "[Data Types in Statistics](https://towardsdatascience.com/data-types-in-statistics-347e152e8bee)\n",
    "\n",
    "[ОСНОВНЫЕ ТИПЫ ДАННЫХ](https://books.irrp.org.ua/data-design/osnovnye-tipy-dannyh/)\n",
    "\n",
    "[Типы данных в статистике](https://www.machinelearningmastery.ru/data-types-in-statistics-347e152e8bee/)\n",
    "\n",
    "[Статистические типы данных, используемые в машинном обучении](https://nuancesprog.ru/p/9713/)\n",
    "\n",
    "---"
   ]
  },
  {
   "cell_type": "markdown",
   "metadata": {},
   "source": [
    "## Подготовка окружения"
   ]
  },
  {
   "cell_type": "code",
   "execution_count": 1,
   "metadata": {
    "collapsed": false,
    "jupyter": {
     "outputs_hidden": false
    },
    "pycharm": {
     "name": "#%%\n"
    }
   },
   "outputs": [
    {
     "name": "stdout",
     "output_type": "stream",
     "text": [
      "/home/ira/anaconda3/envs/LevelUp_DataScience/bin/pip\n"
     ]
    }
   ],
   "source": [
    "# ВНИМАНИЕ: необходимо удостовериться, что виртуальная среда выбрана правильно!\n",
    "\n",
    "# Для MacOS/Ubuntu\n",
    "!which pip\n",
    "\n",
    "# Для Windows\n",
    "# !where pip"
   ]
  },
  {
   "cell_type": "code",
   "execution_count": 2,
   "metadata": {
    "collapsed": false,
    "jupyter": {
     "outputs_hidden": false
    },
    "pycharm": {
     "name": "#%%\n"
    }
   },
   "outputs": [],
   "source": [
    "# !conda install pandas numpy matplotlib -y"
   ]
  },
  {
   "cell_type": "code",
   "execution_count": 3,
   "metadata": {
    "collapsed": false,
    "jupyter": {
     "outputs_hidden": false
    },
    "pycharm": {
     "name": "#%%\n"
    }
   },
   "outputs": [
    {
     "data": {
      "text/plain": [
       "'1.2.3'"
      ]
     },
     "execution_count": 3,
     "metadata": {},
     "output_type": "execute_result"
    }
   ],
   "source": [
    "import pandas as pd\n",
    "\n",
    "pd.__version__"
   ]
  },
  {
   "cell_type": "markdown",
   "metadata": {},
   "source": [
    "## Типы данных в статистике\n",
    "\n",
    "Хорошее понимание разных типов данных (шкал измерений) — основное условие для проведения разведочного анализа данных (**EDA**), ведь для определённых типов данных можно использовать только ограниченный набор статистических измерений.\n",
    "\n",
    "Чтобы решить, какой метод визуализации выбрать, также необходимо понимать, с какими данными предстоит работать.\n",
    "\n",
    "Можно думать о типах данных как о способе категоризации разновидностей переменных.\n",
    "\n",
    "![](./images/stat_dtypes.png)\n",
    "\n",
    "![](./images/stat_dtypes_example.png)"
   ]
  }
 ],
 "metadata": {
  "kernelspec": {
   "display_name": "Python [conda env:LevelUp_DataScience] *",
   "language": "python",
   "name": "conda-env-LevelUp_DataScience-py"
  },
  "language_info": {
   "codemirror_mode": {
    "name": "ipython",
    "version": 3
   },
   "file_extension": ".py",
   "mimetype": "text/x-python",
   "name": "python",
   "nbconvert_exporter": "python",
   "pygments_lexer": "ipython3",
   "version": "3.8.5"
  }
 },
 "nbformat": 4,
 "nbformat_minor": 4
}