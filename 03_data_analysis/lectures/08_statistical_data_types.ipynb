{
 "cells": [
  {
   "cell_type": "markdown",
   "metadata": {
    "pycharm": {
     "name": "#%% md\n"
    }
   },
   "source": [
    "# Типы данных в статистике"
   ]
  },
  {
   "cell_type": "markdown",
   "metadata": {},
   "source": [
    "---\n",
    "\n",
    "**Источники:**\n",
    "\n",
    "[Statistical data type](https://en.wikipedia.org/wiki/Statistical_data_type)\n",
    "\n",
    "[Data Types in Statistics](https://towardsdatascience.com/data-types-in-statistics-347e152e8bee)\n",
    "\n",
    "[ОСНОВНЫЕ ТИПЫ ДАННЫХ](https://books.irrp.org.ua/data-design/osnovnye-tipy-dannyh/)\n",
    "\n",
    "[Типы данных в статистике](https://www.machinelearningmastery.ru/data-types-in-statistics-347e152e8bee/)\n",
    "\n",
    "[Статистические типы данных, используемые в машинном обучении](https://nuancesprog.ru/p/9713/)\n",
    "\n",
    "[Шкала](https://ru.wikipedia.org/wiki/%D0%A8%D0%BA%D0%B0%D0%BB%D0%B0)\n",
    "\n",
    "[Level of measurement](https://en.wikipedia.org/wiki/Level_of_measurement)\n",
    "\n",
    "[Измерение и шкалы](https://forecasting.svetunkov.ru/etextbook/about/scales/)\n",
    "\n",
    "[2.3. ШКАЛЫ ИЗМЕРЕНИЙ](http://gis.web.tstu.ru/metodic/gis/terminpon/glava2_3.html)\n",
    "\n",
    "---"
   ]
  },
  {
   "cell_type": "markdown",
   "metadata": {},
   "source": [
    "## Подготовка окружения"
   ]
  },
  {
   "cell_type": "code",
   "execution_count": 1,
   "metadata": {
    "collapsed": false,
    "jupyter": {
     "outputs_hidden": false
    },
    "pycharm": {
     "name": "#%%\n"
    }
   },
   "outputs": [],
   "source": [
    "# ВНИМАНИЕ: необходимо удостовериться, что виртуальная среда выбрана правильно!\n",
    "\n",
    "# Для MacOS/Ubuntu\n",
    "# !which pip\n",
    "\n",
    "# Для Windows\n",
    "# !where pip"
   ]
  },
  {
   "cell_type": "code",
   "execution_count": 2,
   "metadata": {
    "collapsed": false,
    "jupyter": {
     "outputs_hidden": false
    },
    "pycharm": {
     "name": "#%%\n"
    }
   },
   "outputs": [],
   "source": [
    "# !conda install pandas numpy matplotlib -y"
   ]
  },
  {
   "cell_type": "code",
   "execution_count": 3,
   "metadata": {
    "collapsed": false,
    "jupyter": {
     "outputs_hidden": false
    },
    "pycharm": {
     "name": "#%%\n"
    }
   },
   "outputs": [
    {
     "data": {
      "text/plain": [
       "'1.2.3'"
      ]
     },
     "execution_count": 3,
     "metadata": {},
     "output_type": "execute_result"
    }
   ],
   "source": [
    "import pandas as pd\n",
    "\n",
    "pd.__version__"
   ]
  },
  {
   "cell_type": "markdown",
   "metadata": {},
   "source": [
    "## Типы шкал и их свойства согласно классификации Стэнли Смита Стивенса\n",
    "\n",
    "Хорошее понимание разных типов данных (шкал измерений) — основное условие для проведения разведочного анализа данных (exploratory data analysis = **EDA**), ведь для определённых типов данных можно использовать только ограниченный набор статистических измерений.\n",
    "\n",
    "Чтобы решить, какой метод визуализации выбрать, также необходимо понимать, с какими данными предстоит работать.\n",
    "\n",
    "Можно думать о типах данных как о способе категоризации разновидностей переменных.\n",
    "\n",
    "Шкалы измерений классифицируются по типам измеряемых данных, которые определяют допустимые для данной шкалы отношения, в том числе те, что соответствуют математическим преобразованиям значений шкалы. Современная классификация шкал была предложена в 1946 году **Стэнли Смитом Стивенсом**.\n",
    "\n",
    "\n",
    "<img src=\"images/measure_scales.png\" />"
   ]
  },
  {
   "cell_type": "markdown",
   "metadata": {},
   "source": [
    "- Пример:\n",
    "    - Пол (качественная номинальная шкала, две категории = дихотомическая):\n",
    "        - 1 = мужской\n",
    "        - 2 = женский\n",
    "    - Семейное положение (качественная номинальная шкала)\n",
    "        - 1 = холост/не замужем\n",
    "        - 2 = женат/замужем\n",
    "        - 3 = вдовец/вдова\n",
    "        - 4 = разведен(а)\n",
    "    - Курение (качественная порядковая=ранговая шкала)\n",
    "        - 1 = некурящий\n",
    "        - 2 = изредка курящий\n",
    "        - 3 = интенсивно курящий\n",
    "        - 4 = очень интенсивно курящий\n",
    "    - Месячный доход (качественная порядковая=ранговая шкала)\n",
    "        - 1 = до 30000\n",
    "        - 2 = 30001 - 50000    \n",
    "        - 3 = более 50000\n",
    "    - Коэффициент интеллекта (IQ) (дискретная интервальная шкала) \n",
    "    - Возраст (лет) (непрерывная шкала отношений)\n",
    "\n",
    "| Статистическая шкала | Эмпирическая значимость | Примеры |\n",
    "| --- | --- | --- |\n",
    "| Номинальная | Нет | Пол, семейное положение |\n",
    "| Порядковая (ранговая) | Порядок чисел | Курение, месячный доход |\n",
    "| Интервальная | Разность чисел | Коэффициент интеллекта (IQ) |\n",
    "| Шкала отношений | Отношение чисел | Возраст (лет) |\n",
    "\n"
   ]
  },
  {
   "cell_type": "markdown",
   "metadata": {},
   "source": [
    "<img src=\"images/gis_measures.jpg\" />"
   ]
  },
  {
   "cell_type": "code",
   "execution_count": null,
   "metadata": {},
   "outputs": [],
   "source": []
  }
 ],
 "metadata": {
  "kernelspec": {
   "display_name": "Python [conda env:LevelUp_DataScience] *",
   "language": "python",
   "name": "conda-env-LevelUp_DataScience-py"
  },
  "language_info": {
   "codemirror_mode": {
    "name": "ipython",
    "version": 3
   },
   "file_extension": ".py",
   "mimetype": "text/x-python",
   "name": "python",
   "nbconvert_exporter": "python",
   "pygments_lexer": "ipython3",
   "version": "3.8.5"
  }
 },
 "nbformat": 4,
 "nbformat_minor": 4
}
