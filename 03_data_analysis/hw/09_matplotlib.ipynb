{
 "cells": [
  {
   "cell_type": "markdown",
   "metadata": {
    "pycharm": {
     "name": "#%% md\n"
    }
   },
   "source": [
    "# Домашнее задание по теме: пакет `matplotlib`"
   ]
  },
  {
   "cell_type": "markdown",
   "metadata": {},
   "source": [
    "## Подготовка окружения"
   ]
  },
  {
   "cell_type": "code",
   "execution_count": null,
   "metadata": {
    "collapsed": false,
    "jupyter": {
     "outputs_hidden": false
    },
    "pycharm": {
     "name": "#%%\n"
    }
   },
   "outputs": [],
   "source": [
    "# ВНИМАНИЕ: необходимо удостовериться, что виртуальная среда выбрана правильно!\n",
    "\n",
    "# Для MacOS/Ubuntu
!which pip

# Для Windows
# !where pip"
   ]
  },
  {
   "cell_type": "code",
   "execution_count": null,
   "metadata": {
    "collapsed": false,
    "jupyter": {
     "outputs_hidden": false
    },
    "pycharm": {
     "name": "#%%\n"
    }
   },
   "outputs": [],
   "source": [
    "# !conda install numpy pandas matplotlib -y"
   ]
  },
  {
   "cell_type": "code",
   "execution_count": null,
   "metadata": {
    "collapsed": false,
    "jupyter": {
     "outputs_hidden": false
    },
    "pycharm": {
     "name": "#%%\n"
    }
   },
   "outputs": [],
   "source": [
    "import numpy as np\n",
    "\n",
    "np.__version__"
   ]
  },
  {
   "cell_type": "code",
   "execution_count": null,
   "metadata": {
    "collapsed": false,
    "jupyter": {
     "outputs_hidden": false
    },
    "pycharm": {
     "name": "#%%\n"
    }
   },
   "outputs": [],
   "source": [
    "import pandas as pd\n",
    "\n",
    "pd.__version__"
   ]
  },
  {
   "cell_type": "code",
   "execution_count": null,
   "metadata": {
    "collapsed": false,
    "jupyter": {
     "outputs_hidden": false
    },
    "pycharm": {
     "name": "#%%\n"
    }
   },
   "outputs": [],
   "source": [
    "import matplotlib\n",
    "import matplotlib.pyplot as plt\n",
    "\n",
    "matplotlib.__version__"
   ]
  },
  {
   "cell_type": "markdown",
   "metadata": {},
   "source": [
    "## Загрузка данных\n",
    "\n",
    "[Источник (Hotel booking demand)](https://www.kaggle.com/jessemostipak/hotel-booking-demand)\n",
    "\n",
    "[Описание колонок](https://www.sciencedirect.com/science/article/pii/S2352340918315191#t0005)\n",
    "\n",
    "ВНИМАНИЕ: Предварительно датасет необходимо скачать к себе на локальный компьютер."
   ]
  },
  {
   "cell_type": "code",
   "execution_count": null,
   "metadata": {
    "collapsed": false,
    "jupyter": {
     "outputs_hidden": false
    },
    "pycharm": {
     "name": "#%%\n"
    }
   },
   "outputs": [],
   "source": [
    "# загрузить датасет в pandas dataframe\n",
    "\n",
    "\n",
    "# показать все колонки\n",
    "\n",
    "\n",
    "# вывести первые 5 и последние 5 строк\n",
    "\n"
   ]
  },
  {
   "cell_type": "markdown",
   "metadata": {},
   "source": [
    "## Задание\n",
    "\n",
    "- Далее в заданиях будут использованы сокращенные называния с помощью `(=название)`. Это нужно для удобства описания.\n",
    "- Можно использовать любые названия для переменных.\n",
    "- Графики должны быть максимально похожи на заданное изображение, но не обязательно идентичными\n",
    "(по желанию можно менять что-то, сохраняя сложность построения изображения). Важные замечания будут даны в комментарии к конкретному графику (например: \"использовать RGB цвета\" значит ЛЮБЫЕ нестандартные цвета).\n",
    "- Важно обращать внимание на размер изображения и пропорции.\n",
    "- Каждый график необходимо сохранить в файл (в отдельную директорию). Формат можно выбрать любой, лучше использовать несколько различных."
   ]
  },
  {
   "cell_type": "markdown",
   "metadata": {},
   "source": [
    "## Подготовка данных"
   ]
  },
  {
   "cell_type": "code",
   "execution_count": null,
   "metadata": {},
   "outputs": [],
   "source": [
    "# добавить новый столбец (=all_days), который является суммой stays_in_week_nights (=weekdays) и stays_in_weekend_nights (=weekends)\n",
    "\n"
   ]
  },
  {
   "cell_type": "code",
   "execution_count": null,
   "metadata": {},
   "outputs": [],
   "source": [
    "# сгруппировать данные по lead_time (функция агрегации - среднее значение)\n",
    "\n",
    "\n",
    "# сохранить в новую переменную сгруппированные значения для:\n",
    "# all_days\n",
    "\n",
    "# weekdays\n",
    "\n",
    "# weekends\n"
   ]
  },
  {
   "cell_type": "code",
   "execution_count": null,
   "metadata": {},
   "outputs": [],
   "source": [
    "# сгруппировать данные по arrival_date_month (функция агрегации - сумма)\n",
    "\n",
    "\n",
    "# сохранить в новую переменную сгруппированные значения для is_canceled (=month_canceled)\n",
    "\n",
    "\n",
    "# сохранить в новую переменную сгруппированные значения для is_canceled ТОЛЬКО для летных месяцев (=summer_canceled)\n"
   ]
  },
  {
   "cell_type": "markdown",
   "metadata": {},
   "source": [
    "## Графики (line plot)"
   ]
  },
  {
   "cell_type": "markdown",
   "metadata": {},
   "source": [
    "### `Pyplot`-стиль\n",
    "\n",
    "![](./images/09/line_plt.png)"
   ]
  },
  {
   "cell_type": "code",
   "execution_count": null,
   "metadata": {},
   "outputs": [],
   "source": []
  },
  {
   "cell_type": "markdown",
   "metadata": {},
   "source": [
    "### ОО-стиль\n",
    "\n",
    "**ВНИМАНИЕ**:\n",
    "- Важно не \"слепить\" изображения (наименования для осей `y` должны быть хорошо видны).\n",
    "\n",
    "![](./images/09/line_oo.png)"
   ]
  },
  {
   "cell_type": "code",
   "execution_count": null,
   "metadata": {},
   "outputs": [],
   "source": []
  },
  {
   "cell_type": "markdown",
   "metadata": {},
   "source": [
    "## Диаграммы разброса (scatter plot)"
   ]
  },
  {
   "cell_type": "markdown",
   "metadata": {},
   "source": [
    "### `Pyplot`-стиль\n",
    "\n",
    "**ВНИМАНИЕ**:\n",
    "- Различный уровень прозрачности (`alpha`).\n",
    "\n",
    "![](./images/09/scatter_plt.png)"
   ]
  },
  {
   "cell_type": "code",
   "execution_count": null,
   "metadata": {},
   "outputs": [],
   "source": []
  },
  {
   "cell_type": "markdown",
   "metadata": {},
   "source": [
    "### ОО-стиль\n",
    "\n",
    "**ВНИМАНИЕ**: \n",
    "- Различный уровень прозрачности (`alpha`).\n",
    "- Важно не \"слепить\" изображения (наименования для осей `x` должны быть хорошо видны).\n",
    "\n",
    "![](./images/09/scatter_oo.png)"
   ]
  },
  {
   "cell_type": "code",
   "execution_count": null,
   "metadata": {},
   "outputs": [],
   "source": []
  },
  {
   "cell_type": "markdown",
   "metadata": {},
   "source": [
    "## Столбчатые диаграммы (bar chart)"
   ]
  },
  {
   "cell_type": "markdown",
   "metadata": {},
   "source": [
    "### `Pyplot`-стиль\n",
    "\n",
    "**ВНИМАНИЕ**:\n",
    "- Использовать `RGB` код (например, `HEX` представление, которое начинается с символа `#`). См. код в интернете, например, [тут](https://htmlcolorcodes.com/).\n",
    "\n",
    "![](./images/09/bar_plt.png)"
   ]
  },
  {
   "cell_type": "code",
   "execution_count": null,
   "metadata": {},
   "outputs": [],
   "source": []
  },
  {
   "cell_type": "markdown",
   "metadata": {},
   "source": [
    "### ОО-стиль\n",
    "\n",
    "**ВНИМАНИЕ**:\n",
    "- Использовать `RGB` код (например, `HEX` представление, которое начинается с символа `#`). См. код в интернете, например, [тут](https://htmlcolorcodes.com/).\n",
    "\n",
    "![](./images/09/bar_oo.png)"
   ]
  },
  {
   "cell_type": "code",
   "execution_count": null,
   "metadata": {},
   "outputs": [],
   "source": []
  },
  {
   "cell_type": "markdown",
   "metadata": {},
   "source": [
    "## Гистограммы (histogram)"
   ]
  },
  {
   "cell_type": "markdown",
   "metadata": {},
   "source": [
    "### `Pyplot`-стиль\n",
    "\n",
    "**ВНИМАНИЕ**:\n",
    "- Различный уровень прозрачности (`alpha`).\n",
    "\n",
    "![](./images/09/hist_plt.png)"
   ]
  },
  {
   "cell_type": "code",
   "execution_count": null,
   "metadata": {},
   "outputs": [],
   "source": []
  },
  {
   "cell_type": "markdown",
   "metadata": {},
   "source": [
    "### ОО-стиль\n",
    "\n",
    "**ВНИМАНИЕ**: \n",
    "- Различный уровень прозрачности (`alpha`).\n",
    "- `ticks` должны быть одинаковыми для оси `x`.\n",
    "\n",
    "![](./images/09/hist_oo.png)"
   ]
  },
  {
   "cell_type": "code",
   "execution_count": null,
   "metadata": {},
   "outputs": [],
   "source": []
  },
  {
   "cell_type": "markdown",
   "metadata": {},
   "source": [
    "## Круговые диаграммы (pie chart)"
   ]
  },
  {
   "cell_type": "markdown",
   "metadata": {},
   "source": [
    "### `Pyplot`-стиль\n",
    "\n",
    "**ВНИМАНИЕ**:\n",
    "- Выделить сектор с **максимальным** процентом.\n",
    "\n",
    "![](./images/09/pie_plt.png)"
   ]
  },
  {
   "cell_type": "code",
   "execution_count": null,
   "metadata": {},
   "outputs": [],
   "source": []
  },
  {
   "cell_type": "markdown",
   "metadata": {},
   "source": [
    "### ОО-стиль\n",
    "\n",
    "**ВНИМАНИЕ**:\n",
    "- Выделить сектор с **минимальным** процентом.\n",
    "- Наименования секторов должны находится внутри.\n",
    "\n",
    "![](./images/09/pie_oo.png)"
   ]
  },
  {
   "cell_type": "code",
   "execution_count": null,
   "metadata": {},
   "outputs": [],
   "source": []
  },
  {
   "cell_type": "markdown",
   "metadata": {},
   "source": [
    "## Ствол-лист диаграммы (stem plot)"
   ]
  },
  {
   "cell_type": "markdown",
   "metadata": {},
   "source": [
    "### `Pyplot`-стиль\n",
    "\n",
    "**ВНИМАНИЕ**:\n",
    "- \"Базовая линия\" (`bottom`) - это медиана.\n",
    "\n",
    "![](./images/09/stem_plt.png)"
   ]
  },
  {
   "cell_type": "code",
   "execution_count": null,
   "metadata": {},
   "outputs": [],
   "source": []
  },
  {
   "cell_type": "markdown",
   "metadata": {},
   "source": [
    "### ОО-стиль\n",
    "\n",
    "**ВНИМАНИЕ**:\n",
    "- \"Базовая линия\" (`bottom`) - это медиана.\n",
    "\n",
    "![](./images/09/stem_oo.png)"
   ]
  },
  {
   "cell_type": "code",
   "execution_count": null,
   "metadata": {},
   "outputs": [],
   "source": []
  },
  {
   "cell_type": "markdown",
   "metadata": {},
   "source": [
    "## Ящик с усами (Box Plot)"
   ]
  },
  {
   "cell_type": "markdown",
   "metadata": {},
   "source": [
    "### `Pyplot`-стиль\n",
    "\n",
    "**ВНИМАНИЕ**:\n",
    "- Особый стиль для отображения выбросов (outliers).\n",
    "\n",
    "![](./images/09/box_plt.png)"
   ]
  },
  {
   "cell_type": "code",
   "execution_count": null,
   "metadata": {},
   "outputs": [],
   "source": []
  },
  {
   "cell_type": "markdown",
   "metadata": {},
   "source": [
    "### ОО-стиль\n",
    "\n",
    "**ВНИМАНИЕ**: \n",
    "- Особый стиль для отображения выбросов (outliers).\n",
    "\n",
    "![](./images/09/box_oo.png)"
   ]
  },
  {
   "cell_type": "code",
   "execution_count": null,
   "metadata": {},
   "outputs": [],
   "source": []
  }
 ],
 "metadata": {
  "kernelspec": {
   "display_name": "Python [conda env:LevelUp_DataScience] *",
   "language": "python",
   "name": "conda-env-LevelUp_DataScience-py"
  },
  "language_info": {
   "codemirror_mode": {
    "name": "ipython",
    "version": 3
   },
   "file_extension": ".py",
   "mimetype": "text/x-python",
   "name": "python",
   "nbconvert_exporter": "python",
   "pygments_lexer": "ipython3",
   "version": "3.8.5"
  }
 },
 "nbformat": 4,
 "nbformat_minor": 4
}
