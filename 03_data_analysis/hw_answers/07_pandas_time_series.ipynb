{
 "cells": [
  {
   "cell_type": "markdown",
   "metadata": {
    "pycharm": {
     "name": "#%% md\n"
    }
   },
   "source": [
    "# Домашнее задание по теме: пакет `pandas` (анализ временных рядов)"
   ]
  },
  {
   "cell_type": "markdown",
   "metadata": {},
   "source": [
    "## Подготовка окружения"
   ]
  },
  {
   "cell_type": "code",
   "execution_count": 1,
   "metadata": {
    "collapsed": false,
    "jupyter": {
     "outputs_hidden": false
    },
    "pycharm": {
     "name": "#%%\n"
    }
   },
   "outputs": [
    {
     "name": "stdout",
     "output_type": "stream",
     "text": [
      "pip 20.3.3 from /home/ira/anaconda3/envs/LevelUp_DataScience/lib/python3.8/site-packages/pip (python 3.8)\n"
     ]
    }
   ],
   "source": [
    "# ВНИМАНИЕ: необходимо удостовериться, что виртуальная среда выбрана правильно!\n",
    "\n",
    "# Для MacOS/Ubuntu
!which pip

# Для Windows
# !where pip"
   ]
  },
  {
   "cell_type": "code",
   "execution_count": 2,
   "metadata": {
    "collapsed": false,
    "jupyter": {
     "outputs_hidden": false
    },
    "pycharm": {
     "name": "#%%\n"
    }
   },
   "outputs": [],
   "source": [
    "# !conda install numpy pandas matplotlib -y"
   ]
  },
  {
   "cell_type": "code",
   "execution_count": 3,
   "metadata": {
    "collapsed": false,
    "jupyter": {
     "outputs_hidden": false
    },
    "pycharm": {
     "name": "#%%\n"
    }
   },
   "outputs": [
    {
     "data": {
      "text/plain": [
       "'1.2.3'"
      ]
     },
     "execution_count": 3,
     "metadata": {},
     "output_type": "execute_result"
    }
   ],
   "source": [
    "import pandas as pd\n",
    "\n",
    "pd.__version__"
   ]
  },
  {
   "cell_type": "markdown",
   "metadata": {},
   "source": [
    "## Загрузка данных\n",
    "\n",
    "[Источник (Tesla stock data from 2010 to 2020)](https://www.kaggle.com/rpaguirre/tesla-stock-price)\n",
    "\n",
    "ВНИМАНИЕ: Предварительно датасет необходимо скачать к себе на локальный компьютер."
   ]
  },
  {
   "cell_type": "code",
   "execution_count": 4,
   "metadata": {
    "collapsed": false,
    "jupyter": {
     "outputs_hidden": false
    },
    "pycharm": {
     "name": "#%%\n"
    }
   },
   "outputs": [
    {
     "data": {
      "text/html": [
       "<div>\n",
       "<style scoped>\n",
       "    .dataframe tbody tr th:only-of-type {\n",
       "        vertical-align: middle;\n",
       "    }\n",
       "\n",
       "    .dataframe tbody tr th {\n",
       "        vertical-align: top;\n",
       "    }\n",
       "\n",
       "    .dataframe thead th {\n",
       "        text-align: right;\n",
       "    }\n",
       "</style>\n",
       "<table border=\"1\" class=\"dataframe\">\n",
       "  <thead>\n",
       "    <tr style=\"text-align: right;\">\n",
       "      <th></th>\n",
       "      <th>Open</th>\n",
       "      <th>High</th>\n",
       "      <th>Low</th>\n",
       "      <th>Close</th>\n",
       "      <th>Volume</th>\n",
       "      <th>Adj Close</th>\n",
       "    </tr>\n",
       "    <tr>\n",
       "      <th>Date</th>\n",
       "      <th></th>\n",
       "      <th></th>\n",
       "      <th></th>\n",
       "      <th></th>\n",
       "      <th></th>\n",
       "      <th></th>\n",
       "    </tr>\n",
       "  </thead>\n",
       "  <tbody>\n",
       "    <tr>\n",
       "      <th>2010-06-29</th>\n",
       "      <td>19.000000</td>\n",
       "      <td>25.000000</td>\n",
       "      <td>17.540001</td>\n",
       "      <td>23.889999</td>\n",
       "      <td>18766300</td>\n",
       "      <td>23.889999</td>\n",
       "    </tr>\n",
       "    <tr>\n",
       "      <th>2010-06-30</th>\n",
       "      <td>25.790001</td>\n",
       "      <td>30.420000</td>\n",
       "      <td>23.299999</td>\n",
       "      <td>23.830000</td>\n",
       "      <td>17187100</td>\n",
       "      <td>23.830000</td>\n",
       "    </tr>\n",
       "    <tr>\n",
       "      <th>2010-07-01</th>\n",
       "      <td>25.000000</td>\n",
       "      <td>25.920000</td>\n",
       "      <td>20.270000</td>\n",
       "      <td>21.959999</td>\n",
       "      <td>8218800</td>\n",
       "      <td>21.959999</td>\n",
       "    </tr>\n",
       "    <tr>\n",
       "      <th>2010-07-02</th>\n",
       "      <td>23.000000</td>\n",
       "      <td>23.100000</td>\n",
       "      <td>18.709999</td>\n",
       "      <td>19.200001</td>\n",
       "      <td>5139800</td>\n",
       "      <td>19.200001</td>\n",
       "    </tr>\n",
       "    <tr>\n",
       "      <th>2010-07-06</th>\n",
       "      <td>20.000000</td>\n",
       "      <td>20.000000</td>\n",
       "      <td>15.830000</td>\n",
       "      <td>16.110001</td>\n",
       "      <td>6866900</td>\n",
       "      <td>16.110001</td>\n",
       "    </tr>\n",
       "    <tr>\n",
       "      <th>...</th>\n",
       "      <td>...</td>\n",
       "      <td>...</td>\n",
       "      <td>...</td>\n",
       "      <td>...</td>\n",
       "      <td>...</td>\n",
       "      <td>...</td>\n",
       "    </tr>\n",
       "    <tr>\n",
       "      <th>2017-03-13</th>\n",
       "      <td>244.820007</td>\n",
       "      <td>246.850006</td>\n",
       "      <td>242.779999</td>\n",
       "      <td>246.169998</td>\n",
       "      <td>3010700</td>\n",
       "      <td>246.169998</td>\n",
       "    </tr>\n",
       "    <tr>\n",
       "      <th>2017-03-14</th>\n",
       "      <td>246.110001</td>\n",
       "      <td>258.119995</td>\n",
       "      <td>246.020004</td>\n",
       "      <td>258.000000</td>\n",
       "      <td>7575500</td>\n",
       "      <td>258.000000</td>\n",
       "    </tr>\n",
       "    <tr>\n",
       "      <th>2017-03-15</th>\n",
       "      <td>257.000000</td>\n",
       "      <td>261.000000</td>\n",
       "      <td>254.270004</td>\n",
       "      <td>255.729996</td>\n",
       "      <td>4816600</td>\n",
       "      <td>255.729996</td>\n",
       "    </tr>\n",
       "    <tr>\n",
       "      <th>2017-03-16</th>\n",
       "      <td>262.399994</td>\n",
       "      <td>265.750000</td>\n",
       "      <td>259.059998</td>\n",
       "      <td>262.049988</td>\n",
       "      <td>7100400</td>\n",
       "      <td>262.049988</td>\n",
       "    </tr>\n",
       "    <tr>\n",
       "      <th>2017-03-17</th>\n",
       "      <td>264.000000</td>\n",
       "      <td>265.329987</td>\n",
       "      <td>261.200012</td>\n",
       "      <td>261.500000</td>\n",
       "      <td>6475900</td>\n",
       "      <td>261.500000</td>\n",
       "    </tr>\n",
       "  </tbody>\n",
       "</table>\n",
       "<p>1692 rows × 6 columns</p>\n",
       "</div>"
      ],
      "text/plain": [
       "                  Open        High         Low       Close    Volume  \\\n",
       "Date                                                                   \n",
       "2010-06-29   19.000000   25.000000   17.540001   23.889999  18766300   \n",
       "2010-06-30   25.790001   30.420000   23.299999   23.830000  17187100   \n",
       "2010-07-01   25.000000   25.920000   20.270000   21.959999   8218800   \n",
       "2010-07-02   23.000000   23.100000   18.709999   19.200001   5139800   \n",
       "2010-07-06   20.000000   20.000000   15.830000   16.110001   6866900   \n",
       "...                ...         ...         ...         ...       ...   \n",
       "2017-03-13  244.820007  246.850006  242.779999  246.169998   3010700   \n",
       "2017-03-14  246.110001  258.119995  246.020004  258.000000   7575500   \n",
       "2017-03-15  257.000000  261.000000  254.270004  255.729996   4816600   \n",
       "2017-03-16  262.399994  265.750000  259.059998  262.049988   7100400   \n",
       "2017-03-17  264.000000  265.329987  261.200012  261.500000   6475900   \n",
       "\n",
       "             Adj Close  \n",
       "Date                    \n",
       "2010-06-29   23.889999  \n",
       "2010-06-30   23.830000  \n",
       "2010-07-01   21.959999  \n",
       "2010-07-02   19.200001  \n",
       "2010-07-06   16.110001  \n",
       "...                ...  \n",
       "2017-03-13  246.169998  \n",
       "2017-03-14  258.000000  \n",
       "2017-03-15  255.729996  \n",
       "2017-03-16  262.049988  \n",
       "2017-03-17  261.500000  \n",
       "\n",
       "[1692 rows x 6 columns]"
      ]
     },
     "execution_count": 4,
     "metadata": {},
     "output_type": "execute_result"
    }
   ],
   "source": [
    "# загрузить датасет в pandas dataframe\n",
    "# ВНИМАНИЕ: при загрузке указать колонку Date как индекс\n",
    "# ВНИМАНИЕ: загрузить даты как даты (а не как object)\n",
    "df = pd.read_csv(\"./../../data/Tesla.csv\", \n",
    "                 index_col='Date', \n",
    "                 parse_dates=True)\n",
    "\n",
    "# вывести первые 5 и последние 5 строк\n",
    "df"
   ]
  },
  {
   "cell_type": "code",
   "execution_count": 5,
   "metadata": {},
   "outputs": [
    {
     "data": {
      "text/plain": [
       "pandas.core.indexes.datetimes.DatetimeIndex"
      ]
     },
     "execution_count": 5,
     "metadata": {},
     "output_type": "execute_result"
    }
   ],
   "source": [
    "# тип индекса\n",
    "# ВНИМАНИЕ: проверить, что тип DatetimeIndex\n",
    "type(df.index)"
   ]
  },
  {
   "cell_type": "code",
   "execution_count": 6,
   "metadata": {},
   "outputs": [
    {
     "data": {
      "text/html": [
       "<div>\n",
       "<style scoped>\n",
       "    .dataframe tbody tr th:only-of-type {\n",
       "        vertical-align: middle;\n",
       "    }\n",
       "\n",
       "    .dataframe tbody tr th {\n",
       "        vertical-align: top;\n",
       "    }\n",
       "\n",
       "    .dataframe thead th {\n",
       "        text-align: right;\n",
       "    }\n",
       "</style>\n",
       "<table border=\"1\" class=\"dataframe\">\n",
       "  <thead>\n",
       "    <tr style=\"text-align: right;\">\n",
       "      <th></th>\n",
       "      <th>Open</th>\n",
       "      <th>High</th>\n",
       "      <th>Low</th>\n",
       "      <th>Close</th>\n",
       "      <th>Volume</th>\n",
       "      <th>Adj Close</th>\n",
       "    </tr>\n",
       "  </thead>\n",
       "  <tbody>\n",
       "    <tr>\n",
       "      <th>count</th>\n",
       "      <td>1692.000000</td>\n",
       "      <td>1692.000000</td>\n",
       "      <td>1692.000000</td>\n",
       "      <td>1692.000000</td>\n",
       "      <td>1.692000e+03</td>\n",
       "      <td>1692.000000</td>\n",
       "    </tr>\n",
       "    <tr>\n",
       "      <th>mean</th>\n",
       "      <td>132.441572</td>\n",
       "      <td>134.769698</td>\n",
       "      <td>129.996223</td>\n",
       "      <td>132.428658</td>\n",
       "      <td>4.270741e+06</td>\n",
       "      <td>132.428658</td>\n",
       "    </tr>\n",
       "    <tr>\n",
       "      <th>std</th>\n",
       "      <td>94.309923</td>\n",
       "      <td>95.694914</td>\n",
       "      <td>92.855227</td>\n",
       "      <td>94.313187</td>\n",
       "      <td>4.295971e+06</td>\n",
       "      <td>94.313187</td>\n",
       "    </tr>\n",
       "    <tr>\n",
       "      <th>min</th>\n",
       "      <td>16.139999</td>\n",
       "      <td>16.629999</td>\n",
       "      <td>14.980000</td>\n",
       "      <td>15.800000</td>\n",
       "      <td>1.185000e+05</td>\n",
       "      <td>15.800000</td>\n",
       "    </tr>\n",
       "    <tr>\n",
       "      <th>25%</th>\n",
       "      <td>30.000000</td>\n",
       "      <td>30.650000</td>\n",
       "      <td>29.215000</td>\n",
       "      <td>29.884999</td>\n",
       "      <td>1.194350e+06</td>\n",
       "      <td>29.884999</td>\n",
       "    </tr>\n",
       "    <tr>\n",
       "      <th>50%</th>\n",
       "      <td>156.334999</td>\n",
       "      <td>162.370002</td>\n",
       "      <td>153.150002</td>\n",
       "      <td>158.160004</td>\n",
       "      <td>3.180700e+06</td>\n",
       "      <td>158.160004</td>\n",
       "    </tr>\n",
       "    <tr>\n",
       "      <th>75%</th>\n",
       "      <td>220.557495</td>\n",
       "      <td>224.099999</td>\n",
       "      <td>217.119999</td>\n",
       "      <td>220.022503</td>\n",
       "      <td>5.662100e+06</td>\n",
       "      <td>220.022503</td>\n",
       "    </tr>\n",
       "    <tr>\n",
       "      <th>max</th>\n",
       "      <td>287.670013</td>\n",
       "      <td>291.420013</td>\n",
       "      <td>280.399994</td>\n",
       "      <td>286.040009</td>\n",
       "      <td>3.716390e+07</td>\n",
       "      <td>286.040009</td>\n",
       "    </tr>\n",
       "  </tbody>\n",
       "</table>\n",
       "</div>"
      ],
      "text/plain": [
       "              Open         High          Low        Close        Volume  \\\n",
       "count  1692.000000  1692.000000  1692.000000  1692.000000  1.692000e+03   \n",
       "mean    132.441572   134.769698   129.996223   132.428658  4.270741e+06   \n",
       "std      94.309923    95.694914    92.855227    94.313187  4.295971e+06   \n",
       "min      16.139999    16.629999    14.980000    15.800000  1.185000e+05   \n",
       "25%      30.000000    30.650000    29.215000    29.884999  1.194350e+06   \n",
       "50%     156.334999   162.370002   153.150002   158.160004  3.180700e+06   \n",
       "75%     220.557495   224.099999   217.119999   220.022503  5.662100e+06   \n",
       "max     287.670013   291.420013   280.399994   286.040009  3.716390e+07   \n",
       "\n",
       "         Adj Close  \n",
       "count  1692.000000  \n",
       "mean    132.428658  \n",
       "std      94.313187  \n",
       "min      15.800000  \n",
       "25%      29.884999  \n",
       "50%     158.160004  \n",
       "75%     220.022503  \n",
       "max     286.040009  "
      ]
     },
     "execution_count": 6,
     "metadata": {},
     "output_type": "execute_result"
    }
   ],
   "source": [
    "# основные значения описательной статистики\n",
    "df.describe()"
   ]
  },
  {
   "cell_type": "code",
   "execution_count": 7,
   "metadata": {},
   "outputs": [
    {
     "data": {
      "text/plain": [
       "237.210007"
      ]
     },
     "execution_count": 7,
     "metadata": {},
     "output_type": "execute_result"
    }
   ],
   "source": [
    "# максимальная цена акции при открытии в марте 2016\n",
    "df.loc['2016-Mar', 'Open'].max()"
   ]
  },
  {
   "cell_type": "code",
   "execution_count": 8,
   "metadata": {},
   "outputs": [
    {
     "data": {
      "text/plain": [
       "262.079987"
      ]
     },
     "execution_count": 8,
     "metadata": {},
     "output_type": "execute_result"
    }
   ],
   "source": [
    "# медианная цена акции при закрытии в феврале 2017\n",
    "df.loc['2017-Feb', 'Close'].median()"
   ]
  },
  {
   "cell_type": "code",
   "execution_count": 9,
   "metadata": {},
   "outputs": [
    {
     "data": {
      "text/plain": [
       "211.32523783333332"
      ]
     },
     "execution_count": 9,
     "metadata": {},
     "output_type": "execute_result"
    }
   ],
   "source": [
    "# средняя цена акции при закрытии \n",
    "# в период между декабрем 2014 и январем 2015\n",
    "df.loc['2014-Dec':'2015-Jan', 'Close'].mean()"
   ]
  },
  {
   "cell_type": "code",
   "execution_count": 10,
   "metadata": {},
   "outputs": [
    {
     "data": {
      "text/plain": [
       "<AxesSubplot:xlabel='Date'>"
      ]
     },
     "execution_count": 10,
     "metadata": {},
     "output_type": "execute_result"
    },
    {
     "data": {
      "image/png": "[encoded data removed]",
      "text/plain": [
       "<Figure size 432x288 with 1 Axes>"
      ]
     },
     "metadata": {
      "needs_background": "light"
     },
     "output_type": "display_data"
    }
   ],
   "source": [
    "# линейный графиик для цен акции при открытии\n",
    "df.Open.plot()"
   ]
  },
  {
   "cell_type": "code",
   "execution_count": 11,
   "metadata": {},
   "outputs": [
    {
     "data": {
      "text/plain": [
       "<AxesSubplot:xlabel='Date'>"
      ]
     },
     "execution_count": 11,
     "metadata": {},
     "output_type": "execute_result"
    },
    {
     "data": {
      "image/png": "[encoded data removed]",
      "text/plain": [
       "<Figure size 432x288 with 1 Axes>"
      ]
     },
     "metadata": {
      "needs_background": "light"
     },
     "output_type": "display_data"
    }
   ],
   "source": [
    "# линейный график для цен акции при закрытии\n",
    "df.Close.plot()"
   ]
  },
  {
   "cell_type": "code",
   "execution_count": 12,
   "metadata": {},
   "outputs": [
    {
     "data": {
      "text/plain": [
       "<AxesSubplot:>"
      ]
     },
     "execution_count": 12,
     "metadata": {},
     "output_type": "execute_result"
    },
    {
     "data": {
      "image/png": "[encoded data removed]",
      "text/plain": [
       "<Figure size 432x288 with 1 Axes>"
      ]
     },
     "metadata": {
      "needs_background": "light"
     },
     "output_type": "display_data"
    }
   ],
   "source": [
    "# гистограмма для цены акции при закрытии \n",
    "# в период между декабрем 2014 и январем 2015\n",
    "df.loc['2014-Dec':'2015-Jan', 'Close'].hist()"
   ]
  },
  {
   "cell_type": "code",
   "execution_count": 13,
   "metadata": {},
   "outputs": [
    {
     "data": {
      "text/plain": [
       "<AxesSubplot:ylabel='Density'>"
      ]
     },
     "execution_count": 13,
     "metadata": {},
     "output_type": "execute_result"
    },
    {
     "data": {
      "image/png": "[encoded data removed]",
      "text/plain": [
       "<Figure size 432x288 with 1 Axes>"
      ]
     },
     "metadata": {
      "needs_background": "light"
     },
     "output_type": "display_data"
    }
   ],
   "source": [
    "# ядерная оценка плотности для цены акции при закрытии \n",
    "# в период между декабрем 2014 и январем 2015\n",
    "df.loc['2014-Dec':'2015-Jan', 'Close'].plot.kde()"
   ]
  },
  {
   "cell_type": "code",
   "execution_count": 14,
   "metadata": {},
   "outputs": [
    {
     "data": {
      "text/plain": [
       "<AxesSubplot:xlabel='Date'>"
      ]
     },
     "execution_count": 14,
     "metadata": {},
     "output_type": "execute_result"
    },
    {
     "data": {
      "image/png": "[encoded data removed]",
      "text/plain": [
       "<Figure size 432x288 with 1 Axes>"
      ]
     },
     "metadata": {
      "needs_background": "light"
     },
     "output_type": "display_data"
    }
   ],
   "source": [
    "# средняя цена акции (mean) на открытии (Close) по месяцам\n",
    "close_month_mean = df.resample('M')['Open'].mean()\n",
    "\n",
    "# линейный график\n",
    "close_month_mean.plot()"
   ]
  },
  {
   "cell_type": "code",
   "execution_count": 15,
   "metadata": {},
   "outputs": [
    {
     "data": {
      "text/plain": [
       "<AxesSubplot:xlabel='Date'>"
      ]
     },
     "execution_count": 15,
     "metadata": {},
     "output_type": "execute_result"
    },
    {
     "data": {
      "image/png": "[encoded data removed]",
      "text/plain": [
       "<Figure size 432x288 with 1 Axes>"
      ]
     },
     "metadata": {
      "needs_background": "light"
     },
     "output_type": "display_data"
    }
   ],
   "source": [
    "# средняя цена акции (mean) на открытии (Close) по годам\n",
    "close_year_mean = df.resample('Y')['Open'].mean()\n",
    "\n",
    "# линейный график\n",
    "close_year_mean.plot()"
   ]
  }
 ],
 "metadata": {
  "kernelspec": {
   "display_name": "Python [conda env:LevelUp_DataScience] *",
   "language": "python",
   "name": "conda-env-LevelUp_DataScience-py"
  },
  "language_info": {
   "codemirror_mode": {
    "name": "ipython",
    "version": 3
   },
   "file_extension": ".py",
   "mimetype": "text/x-python",
   "name": "python",
   "nbconvert_exporter": "python",
   "pygments_lexer": "ipython3",
   "version": "3.8.5"
  }
 },
 "nbformat": 4,
 "nbformat_minor": 4
}
