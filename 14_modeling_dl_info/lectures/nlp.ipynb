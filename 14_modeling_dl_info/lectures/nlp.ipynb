{
 "cells": [
  {
   "cell_type": "markdown",
   "metadata": {
    "collapsed": true,
    "pycharm": {
     "name": "#%% md\n"
    }
   },
   "source": [
    "[Анализ тональности текста](https://ru.wikipedia.org/wiki/%D0%90%D0%BD%D0%B0%D0%BB%D0%B8%D0%B7_%D1%82%D0%BE%D0%BD%D0%B0%D0%BB%D1%8C%D0%BD%D0%BE%D1%81%D1%82%D0%B8_%D1%82%D0%B5%D0%BA%D1%81%D1%82%D0%B0#%D0%9C%D0%B5%D1%82%D0%BE%D0%B4%D1%8B_%D0%BA%D0%BB%D0%B0%D1%81%D1%81%D0%B8%D1%84%D0%B8%D0%BA%D0%B0%D1%86%D0%B8%D0%B8_%D1%82%D0%BE%D0%BD%D0%B0%D0%BB%D1%8C%D0%BD%D0%BE%D1%81%D1%82%D0%B8)\n",
    "\n",
    "[Sentiment Analysis of Tweets in Russian using Convolutional Neural Network with Word2Vec Word Embeddings](https://github.com/sismetanin/sentiment-analysis-of-tweets-in-russian)\n",
    "\n",
    "[Word2vec](https://ru.wikipedia.org/wiki/Word2vec)\n",
    "\n",
    "[Энтропия: золотая мера машинного обучения](https://vc.ru/ml/151037-entropiya-zolotaya-mera-mashinnogo-obucheniya)\n",
    "\n",
    "[7 архитектур нейронных сетей для решения задач NLP](https://neurohive.io/ru/osnovy-data-science/7-arhitektur-nejronnyh-setej-nlp/)\n",
    "\n",
    "[Основные термины в Natural Language Processing](https://singularika.com/ru/nlp/natural-language-processing-terms/)\n",
    "\n",
    "[Обработка естественного языка](http://neerc.ifmo.ru/wiki/index.php?title=%D0%9E%D0%B1%D1%80%D0%B0%D0%B1%D0%BE%D1%82%D0%BA%D0%B0_%D0%B5%D1%81%D1%82%D0%B5%D1%81%D1%82%D0%B2%D0%B5%D0%BD%D0%BD%D0%BE%D0%B3%D0%BE_%D1%8F%D0%B7%D1%8B%D0%BA%D0%B0)\n",
    "\n",
    "[Основы Natural Language Processing для текста](https://habr.com/ru/company/Voximplant/blog/446738/)\n",
    "\n",
    "[Туториалы](https://neurohive.io/ru/tutorial/)\n",
    "\n",
    "[Теория информации](https://ru.wikipedia.org/wiki/%D0%A2%D0%B5%D0%BE%D1%80%D0%B8%D1%8F_%D0%B8%D0%BD%D1%84%D0%BE%D1%80%D0%BC%D0%B0%D1%86%D0%B8%D0%B8)"
   ]
  }
 ],
 "metadata": {
  "kernelspec": {
   "display_name": "Python 3",
   "language": "python",
   "name": "python3"
  },
  "language_info": {
   "codemirror_mode": {
    "name": "ipython",
    "version": 2
   },
   "file_extension": ".py",
   "mimetype": "text/x-python",
   "name": "python",
   "nbconvert_exporter": "python",
   "pygments_lexer": "ipython2",
   "version": "2.7.6"
  }
 },
 "nbformat": 4,
 "nbformat_minor": 0
}