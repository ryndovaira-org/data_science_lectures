{
 "cells": [
  {
   "cell_type": "markdown",
   "metadata": {
    "collapsed": true,
    "pycharm": {
     "name": "#%% md\n"
    }
   },
   "source": [
    "[Рекомендательная система](https://ru.wikipedia.org/wiki/%D0%A0%D0%B5%D0%BA%D0%BE%D0%BC%D0%B5%D0%BD%D0%B4%D0%B0%D1%82%D0%B5%D0%BB%D1%8C%D0%BD%D0%B0%D1%8F_%D1%81%D0%B8%D1%81%D1%82%D0%B5%D0%BC%D0%B0)\n",
    "\n",
    "[Recommender system](https://en.wikipedia.org/wiki/Recommender_system#Content-based_filtering)\n",
    "\n",
    "[Коллаборативная фильтрация](https://ru.wikipedia.org/wiki/%D0%9A%D0%BE%D0%BB%D0%BB%D0%B0%D0%B1%D0%BE%D1%80%D0%B0%D1%82%D0%B8%D0%B2%D0%BD%D0%B0%D1%8F_%D1%84%D0%B8%D0%BB%D1%8C%D1%82%D1%80%D0%B0%D1%86%D0%B8%D1%8F)\n",
    "\n",
    "[Collaborative search engine](https://en.wikipedia.org/wiki/Collaborative_search_engine)\n",
    "\n",
    "[Machine Learning. Explanation of Collaborative Filtering vs Content Based Filtering.](https://codeburst.io/explanation-of-recommender-systems-in-information-retrieval-13077e1d916c)\n",
    "\n",
    "[Introduction To Recommender Systems- 1: Content-Based Filtering And Collaborative Filtering](https://towardsdatascience.com/introduction-to-recommender-systems-1-971bd274f421)\n",
    "\n",
    "[Рекомендательные системы: идеи, подходы, задачи](https://habr.com/ru/company/jetinfosystems/blog/453792/)\n",
    "\n",
    "[Image 2 Vec with PyTorch](https://github.com/christiansafka/img2vec)\n",
    "\n",
    "[Extract a feature vector for any image with PyTorch](https://becominghuman.ai/extract-a-feature-vector-for-any-image-with-pytorch-9717561d1d4c)\n",
    "\n",
    "[Как работают рекомендательные системы](https://neurohive.io/ru/osnovy-data-science/rekomendatelnye-sistemy-modeli-i-ocenka/)\n",
    "\n",
    "[RESNET](https://pytorch.org/hub/pytorch_vision_resnet/)\n",
    "\n",
    "[ResNet-18](https://www.kaggle.com/pytorch/resnet18)\n",
    "\n",
    "[Рекомендательные системы](http://neerc.ifmo.ru/wiki/index.php?title=%D0%A0%D0%B5%D0%BA%D0%BE%D0%BC%D0%B5%D0%BD%D0%B4%D0%B0%D1%82%D0%B5%D0%BB%D1%8C%D0%BD%D1%8B%D0%B5_%D1%81%D0%B8%D1%81%D1%82%D0%B5%D0%BC%D1%8B)\n",
    "\n",
    "[FAISS](https://ai.facebook.com/tools/faiss)\n",
    "\n",
    "[Sphinx (поисковая машина)](https://ru.wikipedia.org/wiki/Sphinx_(%D0%BF%D0%BE%D0%B8%D1%81%D0%BA%D0%BE%D0%B2%D0%B0%D1%8F_%D0%BC%D0%B0%D1%88%D0%B8%D0%BD%D0%B0))\n",
    "\n",
    "[Обучение ранжированию](https://ru.wikipedia.org/wiki/%D0%9E%D0%B1%D1%83%D1%87%D0%B5%D0%BD%D0%B8%D0%B5_%D1%80%D0%B0%D0%BD%D0%B6%D0%B8%D1%80%D0%BE%D0%B2%D0%B0%D0%BD%D0%B8%D1%8E)\n",
    "\n",
    "[]()\n",
    "\n",
    "[]()"
   ]
  }
 ],
 "metadata": {
  "kernelspec": {
   "display_name": "Python 3",
   "language": "python",
   "name": "python3"
  },
  "language_info": {
   "codemirror_mode": {
    "name": "ipython",
    "version": 2
   },
   "file_extension": ".py",
   "mimetype": "text/x-python",
   "name": "python",
   "nbconvert_exporter": "python",
   "pygments_lexer": "ipython2",
   "version": "2.7.6"
  }
 },
 "nbformat": 4,
 "nbformat_minor": 0
}