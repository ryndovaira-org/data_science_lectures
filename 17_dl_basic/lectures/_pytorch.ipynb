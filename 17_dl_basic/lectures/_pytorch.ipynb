{
 "cells": [
  {
   "cell_type": "markdown",
   "metadata": {
    "pycharm": {
     "name": "#%% md\n"
    }
   },
   "source": [
    "[PyTorch](https://ru.wikipedia.org/wiki/PyTorch)\n",
    "\n",
    "[]()\n",
    "\n",
    "[]()\n",
    "\n",
    "[]()\n",
    "\n",
    "[]()\n",
    "\n",
    "[]()\n",
    "\n"
   ]
  },
  {
   "cell_type": "markdown",
   "metadata": {},
   "source": [
    "# PyTorch\n",
    "\n",
    "**PyTorch — фреймворк машинного обучения для языка Python с открытым исходным кодом**, созданный на базе Torch. \n",
    "\n",
    "Используется для решения различных задач: компьютерное зрение, обработка естественного языка.\n",
    "Разрабатывается преимущественно группой искусственного интеллекта **Facebook**.\n",
    "\n",
    "Также вокруг этого фреймворка выстроена экосистема, состоящая из различных библиотек, разрабатываемых сторонними командами: **PyTorch Lightning** и **Fast.ai**, упрощающие процесс обучения моделей, **Pyro**, модуль для вероятностного программирования, от Uber, **Flair**, для обработки естественного языка и **Catalyst**, для обучения DL и RL моделей.\n",
    "\n",
    "PyTorch предоставляет две основные высокоуровневые модели:\n",
    "- Тензорные вычисления (по аналогии с NumPy) с развитой поддержкой ускорения на GPU.\n",
    "- Глубокие нейронные сети на базе системы autodiff."
   ]
  },
  {
   "cell_type": "markdown",
   "metadata": {},
   "source": [
    "## Тензор\n",
    "\n",
    "**Тензоры** не представляют собой чего-либо особенного, просто являясь **многомерными массивами**. \n",
    "\n",
    "Тензоры PyTorch (Tensors) похожи на массивы пакета NumPy, но дополнительно могут обрабатываться на видеоускорителях. \n",
    "\n",
    "PyTorch поддерживает различные типы тензоров."
   ]
  }
 ],
 "metadata": {
  "kernelspec": {
   "display_name": "Python [conda env:data-science-course-original] *",
   "language": "python",
   "name": "conda-env-data-science-course-original-py"
  },
  "language_info": {
   "codemirror_mode": {
    "name": "ipython",
    "version": 3
   },
   "file_extension": ".py",
   "mimetype": "text/x-python",
   "name": "python",
   "nbconvert_exporter": "python",
   "pygments_lexer": "ipython3",
   "version": "3.10.4"
  }
 },
 "nbformat": 4,
 "nbformat_minor": 4
}
