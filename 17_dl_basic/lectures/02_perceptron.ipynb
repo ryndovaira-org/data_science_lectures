{
 "cells": [
  {
   "cell_type": "markdown",
   "metadata": {
    "tags": []
   },
   "source": [
    "# Персептрон (Perceptron)\n",
    "\n",
    "Персептрон был изобретен Фрэнком Розенблаттом в 1957 году. \n",
    "\n",
    "**Персептрон состоит из одного слоя пороговой логической единицы (Threshold Logic Unit = TLU)**. \n",
    "\n",
    "Сам персептрон обычно **используется для простой линейной двоичной классификации**."
   ]
  },
  {
   "cell_type": "markdown",
   "metadata": {
    "tags": []
   },
   "source": [
    "## Как работает Персептрон\n",
    "\n",
    "- TLU вычисляет сумму входных данных, умноженных на его вес и еще один дополнительный нейрон смещения, который всегда выводит 1 во взвешенную сумму. - Затем взвешенная сумма подается в ступенчатую функцию и выводит результат."
   ]
  },
  {
   "cell_type": "markdown",
   "metadata": {},
   "source": [
    "## Многослойный персептрон (Multilayer Perceptron)\n",
    "Множество слоев персептронов образуют **многослойный персептрон (Multilayer Perceptron = MLP)**. \n",
    "\n",
    "- MLP состоит из входного слоя (слой состоит из входных нейронов), выходного слоя (слой состоит из выходных нейронов) и одного или нескольких слоев TLUs. \n",
    "\n",
    "- Дополнительные слои TLUs известны как **скрытые слои (hidden layers)**. \n",
    "\n",
    "- Если ANN имеет **больше одного скрытого слоя**, то она называется **глубокой нейронной сетью (DNN)**."
   ]
  },
  {
   "cell_type": "code",
   "execution_count": null,
   "metadata": {},
   "outputs": [],
   "source": []
  }
 ],
 "metadata": {
  "kernelspec": {
   "display_name": "Python 3 (ipykernel)",
   "language": "python",
   "name": "python3"
  },
  "language_info": {
   "codemirror_mode": {
    "name": "ipython",
    "version": 3
   },
   "file_extension": ".py",
   "mimetype": "text/x-python",
   "name": "python",
   "nbconvert_exporter": "python",
   "pygments_lexer": "ipython3",
   "version": "3.10.4"
  }
 },
 "nbformat": 4,
 "nbformat_minor": 4
}
