{
 "cells": [
  {
   "cell_type": "markdown",
   "metadata": {
    "pycharm": {
     "name": "#%% md\n"
    }
   },
   "source": [
    "[Caffe](https://ru.wikipedia.org/wiki/Caffe)\n",
    "\n",
    "[CUDA](https://ru.wikipedia.org/wiki/CUDA)\n",
    "\n",
    "[LLVM](https://ru.wikipedia.org/wiki/LLVM)\n",
    "\n",
    "[Keras](https://ru.wikipedia.org/wiki/Keras)\n",
    "\n",
    "[TensorFlow](https://ru.wikipedia.org/wiki/TensorFlow)\n",
    "\n",
    "[Torch](https://ru.wikipedia.org/wiki/Torch)\n",
    "\n",
    "[Torch](https://en.wikipedia.org/wiki/Torch_(machine_learning))\n",
    "\n",
    "[MATLAB](https://en.wikipedia.org/wiki/MATLAB)\n",
    "\n",
    "[MATLAB](https://ru.wikipedia.org/wiki/MATLAB)\n",
    "\n",
    "[Mathematica](https://ru.wikipedia.org/wiki/Mathematica)\n",
    "\n",
    "[Wolfram Mathematica](https://en.wikipedia.org/wiki/Wolfram_Mathematica)\n",
    "\n",
    "[PyTorch Lightning](https://en.wikipedia.org/wiki/PyTorch_Lightning)\n",
    "\n",
    "[GNU Octave](https://ru.wikipedia.org/wiki/GNU_Octave)\n",
    "\n",
    "[GNU Octave](https://en.wikipedia.org/wiki/GNU_Octave)\n",
    "\n",
    "[]()\n",
    "\n",
    "[]()"
   ]
  },
  {
   "cell_type": "markdown",
   "metadata": {},
   "source": [
    "# Обзор библиотек/фреймворков для глубокого обучения"
   ]
  },
  {
   "cell_type": "markdown",
   "metadata": {},
   "source": [
    "## CUDA\n",
    "\n",
    "CUDA (**Compute Unified Device Architecture**) — **программно-аппаратная архитектура параллельных вычислений**, которая позволяет существенно увеличить вычислительную производительность благодаря использованию графических процессоров фирмы **Nvidia**.\n",
    "\n",
    "CUDA SDK позволяет программистам реализовывать на специальных упрощённых диалектах языков программирования **C, C++ и Фортран** алгоритмы, выполнимые на графических и тензорных процессорах Nvidia.\n",
    "\n",
    "Функции, ускоренные при помощи CUDA, можно вызывать из различных языков, в том числе **Python**, **MATLAB** и т. п."
   ]
  },
  {
   "cell_type": "markdown",
   "metadata": {},
   "source": [
    "### Преимущества\n",
    "\n",
    "По сравнению с традиционным подходом к организации вычислений общего назначения посредством возможностей графических API, у архитектуры CUDA отмечают следующие преимущества в этой области:\n",
    "- Интерфейс программирования приложений CUDA (CUDA API) основан на стандартном **яыке программирования C** некоторыми ограничениями. По мнению разработчиков, это должно упростить и сгладить процесс изучения архитектуры CUDA.\n",
    "- **Разделяемая между потоками память (shared memory)** размером в 16 Кб может быть использована под организованный пользователем **с более широкой полосой пропускания**чем при выборке из обычных текстур.\n",
    "- Более **эфективные транзакции между памятью ЦП и видеопамятью**.\n",
    "- Полная **аппаратная поддержка целочисленных и побитовых операций**.\n",
    "- Поддержка компиляции кода GPU средствами открытого проекта **LLVM**. LLVM (Low Level Virtual Machine) — проект программной инфраструктуры для создания компиляторов и сопутствующих им утилит. Написан на C++, обеспечивает оптимизации на этапах компиляции, компоновки и исполнения."
   ]
  },
  {
   "cell_type": "markdown",
   "metadata": {},
   "source": [
    "### Ограничения\n",
    "\n",
    "- Все функции, выполнимые на устройстве, **не поддерживают рекурсии** (в версии CUDA Toolkit 3.1 поддерживает указатели и рекурсию) и имеют некоторые другие ограничения."
   ]
  },
  {
   "cell_type": "markdown",
   "metadata": {},
   "source": [
    "## TensorFlow\n",
    "\n",
    "TensorFlow — открытая программная библиотека для машинного обучения, разработанная компанией **Google** для решения задач построения и тренировки нейронной сети с целью автоматического **нахождения и классификации образов**, достигая качества человеческого восприятия.\n",
    "\n",
    "Основной **API** для работы с библиотекой реализован для **Python**, также существуют реализации для **R, C Sharp, C++, Haskell, Java, Go и Swift**.\n",
    "\n",
    "TensorFlow хорошо **подходит для автоматизированной аннотации изображений** в таких системах как DeepDream.\n",
    "\n",
    "Google использует систему RankBrain для **увеличения релевантности ранжировки поисковой выдачи** Google. RankBrain основан на TensorFlow."
   ]
  },
  {
   "cell_type": "markdown",
   "metadata": {},
   "source": [
    "## Keras\n",
    "\n",
    "Keras — открытая библиотека, **написанная на языке Python** и обеспечивающая взаимодействие с искусственными нейронными сетями.\n",
    "\n",
    "Основной автор и ведущий разработчик — инженер **Google** Франсуа Шолле (фр. François Chollet).\n",
    "\n",
    "**Поддерживает библиотеку TensorFlow.**"
   ]
  },
  {
   "cell_type": "markdown",
   "metadata": {},
   "source": [
    "## Caffe\n",
    "\n",
    "Caffe (**Convolution Architecture For Feature Extraction** = Свёрточная архитектура для извлечения признаков) — среда для глубокого обучения, разработанная Яньцинем Цзя (Yangqing Jia) в процессе подготовки своей диссертации в университете Беркли. \n",
    "\n",
    "Caffe является открытым программным обеспечением, распространяемым под лицензией BSD license. \n",
    "\n",
    "Написано на языке C++, и поддерживает **интерфейс на языке Python**.\n",
    "\n",
    "Caffe поддерживает много типов машинного обучения, нацеленных в первую очередь на решение задач **классификации** и **сегментации изображений**. \n",
    "\n",
    "Для ускорения обучения применяется система графических процессоров (GPU), поддерживаемая архитектурой **CUDA** и иcпользующих библиотеку CuDNN от фирмы **Nvidia**.\n",
    "\n",
    "**В мае 2018 команды Caffe2 и PyTorch объединились. С тех пор код Caffe2 перенесён в репозиторий PyTorch и является частью последнего.**"
   ]
  },
  {
   "cell_type": "markdown",
   "metadata": {
    "tags": []
   },
   "source": [
    "## MATLAB"
   ]
  },
  {
   "cell_type": "markdown",
   "metadata": {},
   "source": [
    "## Octave\n",
    "\n",
    "GNU Octave — свободная программная система для математических вычислений, использующая совместимый с MATLAB язык высокого уровня.\n",
    "\n",
    "Octave представляет интерактивный командный интерфейс для решения линейных и нелинейных математических задач, а также проведения других численных экспериментов. \n",
    "\n",
    "Octave — интерпретируемый язык программирования. Он похож на Си и поддерживает большинство основных функций стандартной библиотеки Си, а также основные команды и системные вызовы Unix. С другой стороны, он не поддерживает передачу аргументов по ссылке (особенность дизайна).\n",
    "\n",
    "Синтаксис языка **очень похож на MATLAB**, и грамотно написанные скрипты будут запускаться как в Octave, так и в MATLAB.\n",
    "\n",
    "<center><img src=\"images/gnu_octave_example_1.jpg\" width=\"700\"/></center>\n",
    "\n",
    "<center><img src=\"images/gnu_octave_example_2.png\" width=\"700\"/></center>\n",
    "\n",
    "<center><img src=\"images/gnu_octave_example_3.gif\" width=\"700\"/></center>"
   ]
  },
  {
   "cell_type": "markdown",
   "metadata": {},
   "source": [
    "## Wolfram Mathematica"
   ]
  },
  {
   "cell_type": "markdown",
   "metadata": {},
   "source": [
    "## Torch\n",
    "\n",
    "Torch — библиотека для языка программирования **Lua** с открытым исходным кодом, предоставляет большое количество алгоритмов для глубинного обучения и научных расчётов.\n",
    "\n",
    "Ядро написано на Си, прикладная часть выполняется на LuaJIT, поддерживается распараллеливание вычислений средствами CUDA и OpenMP.\n",
    "\n",
    "**Стиль работы с массивами схож с Matlab и Octave, в связи с чем иногда определяется как \"Matlab-подобное окружение для машинного обучения\".**\n",
    "\n",
    "По состоянию на 2018 год **Torch больше не находится в активной разработке**. Однако по состоянию на август 2022 года **PyTorch, основанный на библиотеке Torch, активно развивается**."
   ]
  },
  {
   "cell_type": "markdown",
   "metadata": {},
   "source": [
    "## PyTorch\n",
    "\n",
    "<center><img src=\"images/pytorch_logo.png\" width=\"700\"/></center>\n",
    "\n",
    "PyTorch — это платформа машинного обучения с открытым исходным кодом, основанная на библиотеке Torch[3][4][5], используемая для таких приложений, как компьютерное зрение и обработка естественного языка[6], в первую очередь разработанная Meta AI.[7][8] [9] Это бесплатное программное обеспечение с открытым исходным кодом, выпущенное под модифицированной лицензией BSD. Хотя интерфейс Python более совершенен и находится в центре внимания разработки, PyTorch также имеет интерфейс C++.[10]"
   ]
  },
  {
   "cell_type": "markdown",
   "metadata": {},
   "source": [
    "## PyTorch Lightning\n",
    "\n",
    "<center><img src=\"images/pytorch_lightning_logo.png\" width=\"700\"/></center>\n",
    "\n",
    "PyTorch Lightning — это библиотека Python с открытым исходным кодом, которая предоставляет **высокоуровневый интерфейс для PyTorch**, популярной среды глубокого обучения."
   ]
  },
  {
   "cell_type": "markdown",
   "metadata": {},
   "source": [
    "## "
   ]
  },
  {
   "cell_type": "markdown",
   "metadata": {},
   "source": [
    "## "
   ]
  },
  {
   "cell_type": "markdown",
   "metadata": {},
   "source": [
    "## "
   ]
  },
  {
   "cell_type": "markdown",
   "metadata": {},
   "source": [
    "## "
   ]
  },
  {
   "cell_type": "markdown",
   "metadata": {},
   "source": [
    "## "
   ]
  }
 ],
 "metadata": {
  "kernelspec": {
   "display_name": "Python [conda env:data-science-course-original] *",
   "language": "python",
   "name": "conda-env-data-science-course-original-py"
  },
  "language_info": {
   "codemirror_mode": {
    "name": "ipython",
    "version": 3
   },
   "file_extension": ".py",
   "mimetype": "text/x-python",
   "name": "python",
   "nbconvert_exporter": "python",
   "pygments_lexer": "ipython3",
   "version": "3.10.4"
  }
 },
 "nbformat": 4,
 "nbformat_minor": 4
}
