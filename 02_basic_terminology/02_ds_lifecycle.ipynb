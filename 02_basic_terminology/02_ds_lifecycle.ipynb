{
 "cells": [
  {
   "cell_type": "markdown",
   "id": "d142e3c1-6bdc-40b3-8a1a-5af9d9b10a51",
   "metadata": {},
   "source": [
    "# Цикл разработки Data Science"
   ]
  },
  {
   "cell_type": "markdown",
   "id": "1a71b6e1-82cb-4e45-8e88-de1cdac4e83c",
   "metadata": {},
   "source": [
    "<center><img src=\"images/ds_lifecycle.png\" width=600></center>"
   ]
  },
  {
   "cell_type": "markdown",
   "id": "6aa7681b-e995-4f56-aefa-b2771f8dd716",
   "metadata": {},
   "source": [
    "<center><img src=\"images/ds_pipeline_agile.png\" width=700 /></center>"
   ]
  },
  {
   "cell_type": "markdown",
   "id": "6dc24fcb-81a7-4cb0-9a4c-8c65fa2c6af2",
   "metadata": {},
   "source": [
    "<center><img src=\"images/ai_pipeline_real.png\" alt=\"ai_pipeline_real\" width=\"1000\" height=\"1000\"/></center>"
   ]
  },
  {
   "cell_type": "code",
   "execution_count": null,
   "id": "5d4576ef-f6ce-4887-9ee5-a2922a05580a",
   "metadata": {},
   "outputs": [],
   "source": []
  }
 ],
 "metadata": {
  "kernelspec": {
   "display_name": "Python 3 (ipykernel)",
   "language": "python",
   "name": "python3"
  },
  "language_info": {
   "codemirror_mode": {
    "name": "ipython",
    "version": 3
   },
   "file_extension": ".py",
   "mimetype": "text/x-python",
   "name": "python",
   "nbconvert_exporter": "python",
   "pygments_lexer": "ipython3",
   "version": "3.10.4"
  }
 },
 "nbformat": 4,
 "nbformat_minor": 5
}
