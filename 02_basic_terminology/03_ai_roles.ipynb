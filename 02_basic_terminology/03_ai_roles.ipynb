{
 "cells": [
  {
   "cell_type": "markdown",
   "id": "64a243cb-ab49-4d7b-911d-da746e68f157",
   "metadata": {},
   "source": [
    "# Роли в AI команде"
   ]
  },
  {
   "cell_type": "markdown",
   "id": "cbd20b0d-5979-490d-93c6-70236e03f010",
   "metadata": {},
   "source": [
    "<center><img src=\"images/ai_pipeline_people.jpg\" alt=\"ai_pipeline_people\" width=\"1500\" height=\"1500\"/></center>"
   ]
  },
  {
   "cell_type": "markdown",
   "id": "02421d79-aae3-4328-94e7-9111cec04a81",
   "metadata": {
    "pycharm": {
     "name": "#%% md\n"
    }
   },
   "source": [
    "<center><img src=\"images/ai_roles.png\" alt=\"ai_roles\" width=\"1500\" height=\"1500\"/></center>"
   ]
  }
 ],
 "metadata": {
  "kernelspec": {
   "display_name": "Python 3 (ipykernel)",
   "language": "python",
   "name": "python3"
  },
  "language_info": {
   "codemirror_mode": {
    "name": "ipython",
    "version": 3
   },
   "file_extension": ".py",
   "mimetype": "text/x-python",
   "name": "python",
   "nbconvert_exporter": "python",
   "pygments_lexer": "ipython3",
   "version": "3.10.4"
  }
 },
 "nbformat": 4,
 "nbformat_minor": 5
}
