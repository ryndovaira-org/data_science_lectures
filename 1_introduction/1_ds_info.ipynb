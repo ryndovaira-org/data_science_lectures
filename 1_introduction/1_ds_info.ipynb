{
 "cells": [
  {
   "cell_type": "markdown",
   "source": [
    "# Введение в Data Science\n",
    "\n",
    "---\n",
    "\n",
    "Источники:\n",
    "\n",
    "[Data Science - A Complete Introduction](https://www.omnisci.com/learn/data-science)\n",
    "[Применение машинного обучения и Data Science в промышленности](https://vc.ru/ml/79368-primenenie-mashinnogo-obucheniya-i-data-science-v-promyshlennosti)\n",
    "\n",
    "\n",
    "---"
   ],
   "metadata": {
    "collapsed": false
   }
  },
  {
   "cell_type": "markdown",
   "source": [
    "**Наука об анализе данных (Data Science)** -  наука о получении (скраппинг), обработке (очистка от дублей, удаление \"бракованных\" записей), анализе (какие выводы можно из этого сделать) и использовании (создание моделей для предсказания или анализа) данных (структурированных или не структурированных)."
   ],
   "metadata": {
    "collapsed": false
   }
  },
  {
   "cell_type": "markdown",
   "source": [
    "![ai_ml_dl_dnn.png](attachment:cbe633aa-a34e-4cfc-a23f-b403fb9343f5.png)"
   ],
   "metadata": {
    "collapsed": false
   }
  },
  {
   "cell_type": "markdown",
   "source": [
    "![ds_cs_ms.png](attachment:5ccf7e2b-caae-47d7-90b1-0fe0805ab31f.png)"
   ],
   "metadata": {
    "collapsed": false
   }
  },
  {
   "cell_type": "markdown",
   "source": [
    "![ds_lifecycle.png](attachment:82d434db-4400-48c1-997c-ed0b22f16f33.png)"
   ],
   "metadata": {
    "collapsed": false
   }
  },
  {
   "cell_type": "markdown",
   "source": [
    "![ai_pipeline.jpeg](attachment:efab43d3-e1cf-4f78-bcd4-854beca0ac95.jpeg)"
   ],
   "metadata": {
    "collapsed": false
   }
  },
  {
   "cell_type": "code",
   "execution_count": 0,
   "metadata": {
    "collapsed": true
   },
   "outputs": [],
   "source": []
  }
 ],
 "metadata": {
  "kernelspec": {
   "display_name": "Python 3",
   "language": "python",
   "name": "python3"
  },
  "language_info": {
   "codemirror_mode": {
    "name": "ipython",
    "version": 2
   },
   "file_extension": ".py",
   "mimetype": "text/x-python",
   "name": "python",
   "nbconvert_exporter": "python",
   "pygments_lexer": "ipython2",
   "version": "2.7.6"
  }
 },
 "nbformat": 4,
 "nbformat_minor": 0
}