{
 "cells": [
  {
   "cell_type": "markdown",
   "metadata": {},
   "source": [
    "# Введение в Data Science\n",
    "\n",
    "---\n",
    "\n",
    "**Источники:**\n",
    "\n",
    "[Data Science - A Complete Introduction](https://www.omnisci.com/learn/data-science)\n",
    "[Применение машинного обучения и Data Science в промышленности](https://vc.ru/ml/79368-primenenie-mashinnogo-obucheniya-i-data-science-v-promyshlennosti)\n",
    "\n",
    "[How and Why Your Enterprise Should Democratize Data Science](https://tdwi.org/Articles/2019/01/29/ADV-ALL-Democratizing-Data-Science.aspx?Page=1)\n",
    "\n",
    "[Кто такие дата-инженеры, и как ими становятся?](https://habr.com/ru/company/otus/blog/452670/)\n",
    "\n",
    "---"
   ]
  },
  {
   "cell_type": "markdown",
   "metadata": {},
   "source": [
    "## Терминология"
   ]
  },
  {
   "cell_type": "markdown",
   "metadata": {},
   "source": [
    "**Наука об анализе данных (Data Science)** -  наука о получении (скраппинг, бд), обработке (очистка от дублей, удаление \"бракованных\" записей), анализе (визуализация, статистический анализ, какие выводы можно из этого сделать) и использовании (создание моделей для предсказания или анализа) данных (структурированных или не структурированных)."
   ]
  },
  {
   "cell_type": "markdown",
   "metadata": {},
   "source": [
    "**Информационные технологии (Computer Science)** – методы и средства интеллектуального анализа данных (Data Mining): алгоритмы и структуры данных, машинное обучение и другие разделы искусственного интеллекта (искусственные нейронные сети, генетические алгоритмы, deep learning), языки программирования (R, Python, Julia, Haskell), среды статистического анализа (R-Studio, MatLab, Jupyter Notebook);\n",
    "\n",
    "**Математика (Maths)** - статистика, теория вероятностей, дискретная математика;\n",
    "\n",
    "**Знание предметной области (Bomain Expertise)** – отраслевая или корпоративная специфика."
   ]
  },
  {
   "cell_type": "markdown",
   "metadata": {
    "pycharm": {
     "name": "#%% md\n"
    }
   },
   "source": [
    "<center><img src=\"images/ds_cs_ms.png\" alt=\"DS vs CS vs MS\" width=\"600\" height=\"600\"/></center>"
   ]
  },
  {
   "cell_type": "markdown",
   "metadata": {},
   "source": [
    "<center><img src=\"images/ai_ml_dl_dnn.png\" alt=\"ai_ml_dl_dnn\" width=\"900\" height=\"900\"/></center>"
   ]
  },
  {
   "cell_type": "markdown",
   "metadata": {},
   "source": [
    "## Цикл разработки Data Science"
   ]
  },
  {
   "cell_type": "markdown",
   "metadata": {},
   "source": [
    "<center><img src=\"images/ds_lifecycle.png\" alt=\"ds_lifecycle\" width=\"830\" height=\"830\"/></center>"
   ]
  },
  {
   "cell_type": "markdown",
   "metadata": {},
   "source": [
    "<center><img src=\"images/ds_pipeline_agile.png\" alt=\"ds_pipeline_agile\" width=\"1000\" height=\"1000\"/></center>"
   ]
  },
  {
   "cell_type": "markdown",
   "metadata": {},
   "source": [
    "<center><img src=\"images/ai_pipeline_real.png\" alt=\"ai_pipeline_real\" width=\"1000\" height=\"1000\"/></center>"
   ]
  },
  {
   "cell_type": "markdown",
   "metadata": {},
   "source": [
    "## Роли в AI команде"
   ]
  },
  {
   "cell_type": "markdown",
   "metadata": {},
   "source": [
    "<center><img src=\"images/ai_pipeline_people.jpg\" alt=\"ai_pipeline_people\" width=\"1500\" height=\"1500\"/></center>"
   ]
  },
  {
   "cell_type": "markdown",
   "metadata": {
    "pycharm": {
     "name": "#%%\n"
    }
   },
   "source": [
    "<center><img src=\"images/ai_roles.png\" alt=\"ai_roles\" width=\"1500\" height=\"1500\"/></center>"
   ]
  }
 ],
 "metadata": {
  "kernelspec": {
   "display_name": "Python 3",
   "language": "python",
   "name": "python3"
  },
  "language_info": {
   "codemirror_mode": {
    "name": "ipython",
    "version": 3
   },
   "file_extension": ".py",
   "mimetype": "text/x-python",
   "name": "python",
   "nbconvert_exporter": "python",
   "pygments_lexer": "ipython3",
   "version": "3.8.5"
  }
 },
 "nbformat": 4,
 "nbformat_minor": 4
}
