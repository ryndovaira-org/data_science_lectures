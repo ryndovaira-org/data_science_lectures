{
 "cells": [
  {
   "cell_type": "markdown",
   "metadata": {
    "jupyter": {
     "outputs_hidden": true
    }
   },
   "source": [
    "# Курс: Junior Data Dcientist\n"
   ]
  },
  {
   "cell_type": "markdown",
   "metadata": {},
   "source": [
    "# О преподавателе\n",
    "\n",
    "### Рындова Ирина\n",
    "<img src=\"images/ryndovaira.jpg\" alt=\"ryndovaira\" width=\"400\" height=\"400\"/>\n",
    "\n",
    "- Бакалавриат и магистратура в СПбГЭТУ (ЛЭТИ) по специальности “Информатика и вычислительная техника”.\n",
    "\n",
    "- Опыт разработки более 6 лет.\n",
    "\n",
    "- Работала с различными языками программирования (Java, Kotlin, Assembler, Cython, Qt … ) и ОС (Ubuntu, Mac Os, Centos, Windows … ), но основными всегда были C++ и Python.\n",
    "\n",
    "- Тестирование ПО: юнит, функциональные, нагрузочные и другие тесты.\n",
    "\n",
    "- АО \"Российский институт радионавигации и времени\"\n",
    "\n",
    "- Центр речевых технологий\n",
    "\n",
    "- Последние 3 года работаю в области распознавания речи (ASR, Speech to Text).\n",
    "\n",
    "- На данный момент участвую в разработке умной колонки в МТС Искусственный Интеллект на должности старший разработчик."
   ]
  },
  {
   "cell_type": "code",
   "execution_count": null,
   "metadata": {},
   "outputs": [],
   "source": []
  }
 ],
 "metadata": {
  "kernelspec": {
   "display_name": "Python 3",
   "language": "python",
   "name": "python3"
  },
  "language_info": {
   "codemirror_mode": {
    "name": "ipython",
    "version": 3
   },
   "file_extension": ".py",
   "mimetype": "text/x-python",
   "name": "python",
   "nbconvert_exporter": "python",
   "pygments_lexer": "ipython3",
   "version": "3.8.5"
  }
 },
 "nbformat": 4,
 "nbformat_minor": 4
}
