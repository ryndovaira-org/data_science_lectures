{
 "cells": [
  {
   "cell_type": "markdown",
   "metadata": {
    "jupyter": {
     "outputs_hidden": true
    }
   },
   "source": [
    "# Курс: Junior Data Dcientist\n"
   ]
  },
  {
   "cell_type": "markdown",
   "metadata": {},
   "source": [
    "---\n",
    "\n",
    "## О преподавателе\n",
    "\n",
    "#### Рындова Ирина\n",
    "\n",
    "<img src=\"images/ryndovaira.jpg\" alt=\"ryndovaira\" width=\"400\" height=\"400\"/>\n",
    "\n",
    "#### Почта: ryndovaira@gmail.com\n",
    "#### Telegram: [@ryndovairina](https://t.me/ryndovairina)\n",
    "\n",
    "- Бакалавриат и магистратура в СПбГЭТУ (ЛЭТИ) по специальности “Информатика и вычислительная техника”\n",
    "\n",
    "- Опыт коммерческой разработки более 6 лет\n",
    "\n",
    "- АО \"Российский институт радионавигации и времени\"\n",
    "\n",
    "- Последние 3.5 года работаю в области распознавания речи (ASR, Speech to Text)\n",
    "    - Центр речевых технологий\n",
    "    - Разработка умной колонки в МТС Искусственный Интеллект\n",
    "    \n",
    "---"
   ]
  },
  {
   "cell_type": "markdown",
   "metadata": {},
   "source": [
    "## Расскажите о себе\n",
    "\n",
    "- Работаете/учитесь?\n",
    "- Почему решили пройти этот курс?"
   ]
  },
  {
   "cell_type": "markdown",
   "metadata": {},
   "source": [
    "---\n",
    "\n",
    "### Как будут проходить занятия?\n",
    "- 3 часа: 19.00-20.30 + 15м перерыв + 20.45-22.00\n",
    "\n",
    "- Теория + Практика во время занятий\n",
    "\n",
    "- Домашние задания (закрепление материала)\n",
    "\n",
    "- Для успешного завершения курса необходимо выполнить 80% домашних заданий.\n",
    "\n",
    "---"
   ]
  },
  {
   "cell_type": "markdown",
   "metadata": {},
   "source": [
    "## Программа курса\n",
    "\n",
    "1. Введение. Терминология. Инструменты.\n",
    "\n",
    "1. Инженерия данных (Data Engineering)\n",
    "\n",
    "1. Анализ данных (Analysis)\n",
    "\n",
    "1. Конструирование признаков (Feature engineering)\n",
    "\n",
    "1. Обучение моделей (Modeling)\n",
    "    - Classical Machine Learning\n",
    "    - Deep Learning\n",
    "\n",
    "1. Развёртывание (Deployment)\n",
    "\n",
    "1. AI Инфраструктура (Infrastructure)\n",
    "\n",
    "1. Чтение научных статей (Reading Academic Research Papers)\n",
    "\n",
    "1. Разбор классических вопросов на собеседовании\n",
    "\n",
    "---"
   ]
  }
 ],
 "metadata": {
  "kernelspec": {
   "display_name": "Python 3",
   "language": "python",
   "name": "python3"
  },
  "language_info": {
   "codemirror_mode": {
    "name": "ipython",
    "version": 3
   },
   "file_extension": ".py",
   "mimetype": "text/x-python",
   "name": "python",
   "nbconvert_exporter": "python",
   "pygments_lexer": "ipython3",
   "version": "3.8.5"
  }
 },
 "nbformat": 4,
 "nbformat_minor": 4
}
