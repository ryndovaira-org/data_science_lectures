{
 "cells": [
  {
   "cell_type": "markdown",
   "id": "e00ae06c-a89b-4028-bc23-e94cb467830d",
   "metadata": {},
   "source": [
    "# Control structures"
   ]
  },
  {
   "cell_type": "code",
   "execution_count": null,
   "id": "f2a61732-5da4-4a70-bf32-0a66e38bc7e6",
   "metadata": {},
   "outputs": [],
   "source": []
  },
  {
   "cell_type": "markdown",
   "id": "98f8b681-af02-477d-b00d-04982093c875",
   "metadata": {},
   "source": [
    "---\n",
    "\n",
    "[]()\n",
    "\n",
    "[]()\n",
    "\n",
    "[]()\n",
    "\n",
    "[]()\n",
    "\n",
    "[]()\n",
    "\n",
    "[]()"
   ]
  }
 ],
 "metadata": {
  "kernelspec": {
   "display_name": "Python [conda env:data-science-course-original] *",
   "language": "python",
   "name": "conda-env-data-science-course-original-py"
  },
  "language_info": {
   "codemirror_mode": {
    "name": "ipython",
    "version": 3
   },
   "file_extension": ".py",
   "mimetype": "text/x-python",
   "name": "python",
   "nbconvert_exporter": "python",
   "pygments_lexer": "ipython3",
   "version": "3.10.4"
  }
 },
 "nbformat": 4,
 "nbformat_minor": 5
}
