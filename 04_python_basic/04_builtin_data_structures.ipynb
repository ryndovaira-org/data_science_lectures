{
 "cells": [
  {
   "cell_type": "markdown",
   "id": "bcc43ed0-eb2e-4f00-8d90-594e7b18061f",
   "metadata": {},
   "source": [
    "# Builtin data structures"
   ]
  },
  {
   "cell_type": "code",
   "execution_count": null,
   "id": "c8f7e7df-2cdb-4b2f-a0a2-df6f066bb8f3",
   "metadata": {},
   "outputs": [],
   "source": []
  },
  {
   "cell_type": "markdown",
   "id": "59713bfd-194d-4569-a67e-a31bb2aacafe",
   "metadata": {},
   "source": [
    "---\n",
    "\n",
    "[]()\n",
    "\n",
    "[]()\n",
    "\n",
    "[]()\n",
    "\n",
    "[]()\n",
    "\n",
    "[]()\n",
    "\n",
    "[]()"
   ]
  }
 ],
 "metadata": {
  "kernelspec": {
   "display_name": "Python 3 (ipykernel)",
   "language": "python",
   "name": "python3"
  },
  "language_info": {
   "codemirror_mode": {
    "name": "ipython",
    "version": 3
   },
   "file_extension": ".py",
   "mimetype": "text/x-python",
   "name": "python",
   "nbconvert_exporter": "python",
   "pygments_lexer": "ipython3",
   "version": "3.10.4"
  }
 },
 "nbformat": 4,
 "nbformat_minor": 5
}
