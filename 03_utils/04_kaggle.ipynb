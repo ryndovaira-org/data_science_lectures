{
 "cells": [
  {
   "cell_type": "markdown",
   "id": "e01c7322-92e1-423c-9954-497e3a7bbdbe",
   "metadata": {},
   "source": [
    "# Kaggle\n",
    "\n",
    "Kaggle — система организации конкурсов по исследованию данных, а также социальная сеть специалистов по обработке данных и машинному обучению. Принадлежит корпорации Google (с марта 2017 года)."
   ]
  },
  {
   "cell_type": "code",
   "execution_count": null,
   "id": "890a573f-3384-453d-8ab8-8f27a533e5dd",
   "metadata": {},
   "outputs": [],
   "source": []
  },
  {
   "cell_type": "markdown",
   "id": "5d17193d-66ad-4b49-b5ae-cf7d411e451c",
   "metadata": {},
   "source": [
    "---\n",
    "\n",
    "[Kaggle Learn](https://www.kaggle.com/learn)\n",
    "\n",
    "[Kaggle Models](https://www.kaggle.com/models)\n",
    "\n",
    "[Wikipedia Kaggle](https://en.wikipedia.org/wiki/Kaggle)\n",
    "\n",
    "[]()\n",
    "\n",
    "[]()\n",
    "\n",
    "[]()"
   ]
  }
 ],
 "metadata": {
  "kernelspec": {
   "display_name": "Python [conda env:data-science-course-original] *",
   "language": "python",
   "name": "conda-env-data-science-course-original-py"
  },
  "language_info": {
   "codemirror_mode": {
    "name": "ipython",
    "version": 3
   },
   "file_extension": ".py",
   "mimetype": "text/x-python",
   "name": "python",
   "nbconvert_exporter": "python",
   "pygments_lexer": "ipython3",
   "version": "3.10.4"
  }
 },
 "nbformat": 4,
 "nbformat_minor": 5
}
