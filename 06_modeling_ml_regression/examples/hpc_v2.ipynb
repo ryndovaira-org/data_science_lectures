{
 "cells": [
  {
   "cell_type": "markdown",
   "metadata": {},
   "source": [
    "# [Housing Prices Competition for Kaggle Learn Users](https://www.kaggle.com/c/home-data-for-ml-course)"
   ]
  },
  {
   "cell_type": "markdown",
   "metadata": {},
   "source": [
    "## Install necessary packages"
   ]
  },
  {
   "cell_type": "code",
   "execution_count": null,
   "metadata": {
    "collapsed": false,
    "jupyter": {
     "outputs_hidden": false
    },
    "pycharm": {
     "name": "#%%\n"
    }
   },
   "outputs": [],
   "source": [
    "# !conda install numpy pandas matplotlib seaborn missingno scikit-learn pandas_profiling -y"
   ]
  },
  {
   "cell_type": "code",
   "execution_count": null,
   "metadata": {
    "collapsed": false,
    "jupyter": {
     "outputs_hidden": false
    },
    "pycharm": {
     "name": "#%%\n"
    }
   },
   "outputs": [],
   "source": [
    "# !conda install -c conda-forge xgboost -y"
   ]
  },
  {
   "cell_type": "markdown",
   "metadata": {},
   "source": [
    "## Import necessary packages"
   ]
  },
  {
   "cell_type": "code",
   "execution_count": 3,
   "metadata": {
    "collapsed": false,
    "jupyter": {
     "outputs_hidden": false
    },
    "pycharm": {
     "name": "#%%\n"
    }
   },
   "outputs": [],
   "source": [
    "import numpy as np\n",
    "import pandas as pd\n",
    "\n",
    "import seaborn as sns\n",
    "import matplotlib.pyplot as plt\n",
    "import missingno as msno\n",
    "from pandas_profiling import ProfileReport\n",
    "\n",
    "from sklearn.model_selection import train_test_split\n",
    "from sklearn.metrics import mean_absolute_error\n",
    "from sklearn.model_selection import cross_val_score\n",
    "from sklearn.compose import ColumnTransformer\n",
    "from sklearn.pipeline import Pipeline\n",
    "from sklearn.impute import SimpleImputer\n",
    "from sklearn.preprocessing import OneHotEncoder\n",
    "from xgboost import XGBRegressor"
   ]
  },
  {
   "cell_type": "markdown",
   "metadata": {},
   "source": [
    "## Read in data"
   ]
  },
  {
   "cell_type": "code",
   "execution_count": 4,
   "metadata": {},
   "outputs": [],
   "source": [
    "train_file_path = \"./../../data/hpc_train.csv\"\n",
    "test_file_path = \"./../../data/hpc_test.csv\""
   ]
  },
  {
   "cell_type": "code",
   "execution_count": 5,
   "metadata": {
    "collapsed": false,
    "jupyter": {
     "outputs_hidden": false
    },
    "pycharm": {
     "name": "#%%\n"
    }
   },
   "outputs": [
    {
     "data": {
      "text/html": [
       "<div>\n",
       "<style scoped>\n",
       "    .dataframe tbody tr th:only-of-type {\n",
       "        vertical-align: middle;\n",
       "    }\n",
       "\n",
       "    .dataframe tbody tr th {\n",
       "        vertical-align: top;\n",
       "    }\n",
       "\n",
       "    .dataframe thead th {\n",
       "        text-align: right;\n",
       "    }\n",
       "</style>\n",
       "<table border=\"1\" class=\"dataframe\">\n",
       "  <thead>\n",
       "    <tr style=\"text-align: right;\">\n",
       "      <th></th>\n",
       "      <th>MSSubClass</th>\n",
       "      <th>MSZoning</th>\n",
       "      <th>LotFrontage</th>\n",
       "      <th>LotArea</th>\n",
       "      <th>Street</th>\n",
       "      <th>Alley</th>\n",
       "      <th>LotShape</th>\n",
       "      <th>LandContour</th>\n",
       "      <th>Utilities</th>\n",
       "      <th>LotConfig</th>\n",
       "      <th>...</th>\n",
       "      <th>PoolArea</th>\n",
       "      <th>PoolQC</th>\n",
       "      <th>Fence</th>\n",
       "      <th>MiscFeature</th>\n",
       "      <th>MiscVal</th>\n",
       "      <th>MoSold</th>\n",
       "      <th>YrSold</th>\n",
       "      <th>SaleType</th>\n",
       "      <th>SaleCondition</th>\n",
       "      <th>SalePrice</th>\n",
       "    </tr>\n",
       "    <tr>\n",
       "      <th>Id</th>\n",
       "      <th></th>\n",
       "      <th></th>\n",
       "      <th></th>\n",
       "      <th></th>\n",
       "      <th></th>\n",
       "      <th></th>\n",
       "      <th></th>\n",
       "      <th></th>\n",
       "      <th></th>\n",
       "      <th></th>\n",
       "      <th></th>\n",
       "      <th></th>\n",
       "      <th></th>\n",
       "      <th></th>\n",
       "      <th></th>\n",
       "      <th></th>\n",
       "      <th></th>\n",
       "      <th></th>\n",
       "      <th></th>\n",
       "      <th></th>\n",
       "      <th></th>\n",
       "    </tr>\n",
       "  </thead>\n",
       "  <tbody>\n",
       "    <tr>\n",
       "      <th>1</th>\n",
       "      <td>60</td>\n",
       "      <td>RL</td>\n",
       "      <td>65.0</td>\n",
       "      <td>8450</td>\n",
       "      <td>Pave</td>\n",
       "      <td>NaN</td>\n",
       "      <td>Reg</td>\n",
       "      <td>Lvl</td>\n",
       "      <td>AllPub</td>\n",
       "      <td>Inside</td>\n",
       "      <td>...</td>\n",
       "      <td>0</td>\n",
       "      <td>NaN</td>\n",
       "      <td>NaN</td>\n",
       "      <td>NaN</td>\n",
       "      <td>0</td>\n",
       "      <td>2</td>\n",
       "      <td>2008</td>\n",
       "      <td>WD</td>\n",
       "      <td>Normal</td>\n",
       "      <td>208500</td>\n",
       "    </tr>\n",
       "    <tr>\n",
       "      <th>2</th>\n",
       "      <td>20</td>\n",
       "      <td>RL</td>\n",
       "      <td>80.0</td>\n",
       "      <td>9600</td>\n",
       "      <td>Pave</td>\n",
       "      <td>NaN</td>\n",
       "      <td>Reg</td>\n",
       "      <td>Lvl</td>\n",
       "      <td>AllPub</td>\n",
       "      <td>FR2</td>\n",
       "      <td>...</td>\n",
       "      <td>0</td>\n",
       "      <td>NaN</td>\n",
       "      <td>NaN</td>\n",
       "      <td>NaN</td>\n",
       "      <td>0</td>\n",
       "      <td>5</td>\n",
       "      <td>2007</td>\n",
       "      <td>WD</td>\n",
       "      <td>Normal</td>\n",
       "      <td>181500</td>\n",
       "    </tr>\n",
       "    <tr>\n",
       "      <th>3</th>\n",
       "      <td>60</td>\n",
       "      <td>RL</td>\n",
       "      <td>68.0</td>\n",
       "      <td>11250</td>\n",
       "      <td>Pave</td>\n",
       "      <td>NaN</td>\n",
       "      <td>IR1</td>\n",
       "      <td>Lvl</td>\n",
       "      <td>AllPub</td>\n",
       "      <td>Inside</td>\n",
       "      <td>...</td>\n",
       "      <td>0</td>\n",
       "      <td>NaN</td>\n",
       "      <td>NaN</td>\n",
       "      <td>NaN</td>\n",
       "      <td>0</td>\n",
       "      <td>9</td>\n",
       "      <td>2008</td>\n",
       "      <td>WD</td>\n",
       "      <td>Normal</td>\n",
       "      <td>223500</td>\n",
       "    </tr>\n",
       "    <tr>\n",
       "      <th>4</th>\n",
       "      <td>70</td>\n",
       "      <td>RL</td>\n",
       "      <td>60.0</td>\n",
       "      <td>9550</td>\n",
       "      <td>Pave</td>\n",
       "      <td>NaN</td>\n",
       "      <td>IR1</td>\n",
       "      <td>Lvl</td>\n",
       "      <td>AllPub</td>\n",
       "      <td>Corner</td>\n",
       "      <td>...</td>\n",
       "      <td>0</td>\n",
       "      <td>NaN</td>\n",
       "      <td>NaN</td>\n",
       "      <td>NaN</td>\n",
       "      <td>0</td>\n",
       "      <td>2</td>\n",
       "      <td>2006</td>\n",
       "      <td>WD</td>\n",
       "      <td>Abnorml</td>\n",
       "      <td>140000</td>\n",
       "    </tr>\n",
       "    <tr>\n",
       "      <th>5</th>\n",
       "      <td>60</td>\n",
       "      <td>RL</td>\n",
       "      <td>84.0</td>\n",
       "      <td>14260</td>\n",
       "      <td>Pave</td>\n",
       "      <td>NaN</td>\n",
       "      <td>IR1</td>\n",
       "      <td>Lvl</td>\n",
       "      <td>AllPub</td>\n",
       "      <td>FR2</td>\n",
       "      <td>...</td>\n",
       "      <td>0</td>\n",
       "      <td>NaN</td>\n",
       "      <td>NaN</td>\n",
       "      <td>NaN</td>\n",
       "      <td>0</td>\n",
       "      <td>12</td>\n",
       "      <td>2008</td>\n",
       "      <td>WD</td>\n",
       "      <td>Normal</td>\n",
       "      <td>250000</td>\n",
       "    </tr>\n",
       "    <tr>\n",
       "      <th>...</th>\n",
       "      <td>...</td>\n",
       "      <td>...</td>\n",
       "      <td>...</td>\n",
       "      <td>...</td>\n",
       "      <td>...</td>\n",
       "      <td>...</td>\n",
       "      <td>...</td>\n",
       "      <td>...</td>\n",
       "      <td>...</td>\n",
       "      <td>...</td>\n",
       "      <td>...</td>\n",
       "      <td>...</td>\n",
       "      <td>...</td>\n",
       "      <td>...</td>\n",
       "      <td>...</td>\n",
       "      <td>...</td>\n",
       "      <td>...</td>\n",
       "      <td>...</td>\n",
       "      <td>...</td>\n",
       "      <td>...</td>\n",
       "      <td>...</td>\n",
       "    </tr>\n",
       "    <tr>\n",
       "      <th>1456</th>\n",
       "      <td>60</td>\n",
       "      <td>RL</td>\n",
       "      <td>62.0</td>\n",
       "      <td>7917</td>\n",
       "      <td>Pave</td>\n",
       "      <td>NaN</td>\n",
       "      <td>Reg</td>\n",
       "      <td>Lvl</td>\n",
       "      <td>AllPub</td>\n",
       "      <td>Inside</td>\n",
       "      <td>...</td>\n",
       "      <td>0</td>\n",
       "      <td>NaN</td>\n",
       "      <td>NaN</td>\n",
       "      <td>NaN</td>\n",
       "      <td>0</td>\n",
       "      <td>8</td>\n",
       "      <td>2007</td>\n",
       "      <td>WD</td>\n",
       "      <td>Normal</td>\n",
       "      <td>175000</td>\n",
       "    </tr>\n",
       "    <tr>\n",
       "      <th>1457</th>\n",
       "      <td>20</td>\n",
       "      <td>RL</td>\n",
       "      <td>85.0</td>\n",
       "      <td>13175</td>\n",
       "      <td>Pave</td>\n",
       "      <td>NaN</td>\n",
       "      <td>Reg</td>\n",
       "      <td>Lvl</td>\n",
       "      <td>AllPub</td>\n",
       "      <td>Inside</td>\n",
       "      <td>...</td>\n",
       "      <td>0</td>\n",
       "      <td>NaN</td>\n",
       "      <td>MnPrv</td>\n",
       "      <td>NaN</td>\n",
       "      <td>0</td>\n",
       "      <td>2</td>\n",
       "      <td>2010</td>\n",
       "      <td>WD</td>\n",
       "      <td>Normal</td>\n",
       "      <td>210000</td>\n",
       "    </tr>\n",
       "    <tr>\n",
       "      <th>1458</th>\n",
       "      <td>70</td>\n",
       "      <td>RL</td>\n",
       "      <td>66.0</td>\n",
       "      <td>9042</td>\n",
       "      <td>Pave</td>\n",
       "      <td>NaN</td>\n",
       "      <td>Reg</td>\n",
       "      <td>Lvl</td>\n",
       "      <td>AllPub</td>\n",
       "      <td>Inside</td>\n",
       "      <td>...</td>\n",
       "      <td>0</td>\n",
       "      <td>NaN</td>\n",
       "      <td>GdPrv</td>\n",
       "      <td>Shed</td>\n",
       "      <td>2500</td>\n",
       "      <td>5</td>\n",
       "      <td>2010</td>\n",
       "      <td>WD</td>\n",
       "      <td>Normal</td>\n",
       "      <td>266500</td>\n",
       "    </tr>\n",
       "    <tr>\n",
       "      <th>1459</th>\n",
       "      <td>20</td>\n",
       "      <td>RL</td>\n",
       "      <td>68.0</td>\n",
       "      <td>9717</td>\n",
       "      <td>Pave</td>\n",
       "      <td>NaN</td>\n",
       "      <td>Reg</td>\n",
       "      <td>Lvl</td>\n",
       "      <td>AllPub</td>\n",
       "      <td>Inside</td>\n",
       "      <td>...</td>\n",
       "      <td>0</td>\n",
       "      <td>NaN</td>\n",
       "      <td>NaN</td>\n",
       "      <td>NaN</td>\n",
       "      <td>0</td>\n",
       "      <td>4</td>\n",
       "      <td>2010</td>\n",
       "      <td>WD</td>\n",
       "      <td>Normal</td>\n",
       "      <td>142125</td>\n",
       "    </tr>\n",
       "    <tr>\n",
       "      <th>1460</th>\n",
       "      <td>20</td>\n",
       "      <td>RL</td>\n",
       "      <td>75.0</td>\n",
       "      <td>9937</td>\n",
       "      <td>Pave</td>\n",
       "      <td>NaN</td>\n",
       "      <td>Reg</td>\n",
       "      <td>Lvl</td>\n",
       "      <td>AllPub</td>\n",
       "      <td>Inside</td>\n",
       "      <td>...</td>\n",
       "      <td>0</td>\n",
       "      <td>NaN</td>\n",
       "      <td>NaN</td>\n",
       "      <td>NaN</td>\n",
       "      <td>0</td>\n",
       "      <td>6</td>\n",
       "      <td>2008</td>\n",
       "      <td>WD</td>\n",
       "      <td>Normal</td>\n",
       "      <td>147500</td>\n",
       "    </tr>\n",
       "  </tbody>\n",
       "</table>\n",
       "<p>1460 rows × 80 columns</p>\n",
       "</div>"
      ],
      "text/plain": [
       "      MSSubClass MSZoning  LotFrontage  LotArea Street Alley LotShape  \\\n",
       "Id                                                                      \n",
       "1             60       RL         65.0     8450   Pave   NaN      Reg   \n",
       "2             20       RL         80.0     9600   Pave   NaN      Reg   \n",
       "3             60       RL         68.0    11250   Pave   NaN      IR1   \n",
       "4             70       RL         60.0     9550   Pave   NaN      IR1   \n",
       "5             60       RL         84.0    14260   Pave   NaN      IR1   \n",
       "...          ...      ...          ...      ...    ...   ...      ...   \n",
       "1456          60       RL         62.0     7917   Pave   NaN      Reg   \n",
       "1457          20       RL         85.0    13175   Pave   NaN      Reg   \n",
       "1458          70       RL         66.0     9042   Pave   NaN      Reg   \n",
       "1459          20       RL         68.0     9717   Pave   NaN      Reg   \n",
       "1460          20       RL         75.0     9937   Pave   NaN      Reg   \n",
       "\n",
       "     LandContour Utilities LotConfig  ... PoolArea PoolQC  Fence MiscFeature  \\\n",
       "Id                                    ...                                      \n",
       "1            Lvl    AllPub    Inside  ...        0    NaN    NaN         NaN   \n",
       "2            Lvl    AllPub       FR2  ...        0    NaN    NaN         NaN   \n",
       "3            Lvl    AllPub    Inside  ...        0    NaN    NaN         NaN   \n",
       "4            Lvl    AllPub    Corner  ...        0    NaN    NaN         NaN   \n",
       "5            Lvl    AllPub       FR2  ...        0    NaN    NaN         NaN   \n",
       "...          ...       ...       ...  ...      ...    ...    ...         ...   \n",
       "1456         Lvl    AllPub    Inside  ...        0    NaN    NaN         NaN   \n",
       "1457         Lvl    AllPub    Inside  ...        0    NaN  MnPrv         NaN   \n",
       "1458         Lvl    AllPub    Inside  ...        0    NaN  GdPrv        Shed   \n",
       "1459         Lvl    AllPub    Inside  ...        0    NaN    NaN         NaN   \n",
       "1460         Lvl    AllPub    Inside  ...        0    NaN    NaN         NaN   \n",
       "\n",
       "     MiscVal MoSold  YrSold  SaleType  SaleCondition  SalePrice  \n",
       "Id                                                               \n",
       "1          0      2    2008        WD         Normal     208500  \n",
       "2          0      5    2007        WD         Normal     181500  \n",
       "3          0      9    2008        WD         Normal     223500  \n",
       "4          0      2    2006        WD        Abnorml     140000  \n",
       "5          0     12    2008        WD         Normal     250000  \n",
       "...      ...    ...     ...       ...            ...        ...  \n",
       "1456       0      8    2007        WD         Normal     175000  \n",
       "1457       0      2    2010        WD         Normal     210000  \n",
       "1458    2500      5    2010        WD         Normal     266500  \n",
       "1459       0      4    2010        WD         Normal     142125  \n",
       "1460       0      6    2008        WD         Normal     147500  \n",
       "\n",
       "[1460 rows x 80 columns]"
      ]
     },
     "execution_count": 5,
     "metadata": {},
     "output_type": "execute_result"
    }
   ],
   "source": [
    "train = pd.read_csv(train_file_path, \n",
    "                    index_col='Id')\n",
    "train"
   ]
  },
  {
   "cell_type": "code",
   "execution_count": 6,
   "metadata": {
    "collapsed": false,
    "jupyter": {
     "outputs_hidden": false
    },
    "pycharm": {
     "name": "#%%\n"
    }
   },
   "outputs": [
    {
     "data": {
      "text/html": [
       "<div>\n",
       "<style scoped>\n",
       "    .dataframe tbody tr th:only-of-type {\n",
       "        vertical-align: middle;\n",
       "    }\n",
       "\n",
       "    .dataframe tbody tr th {\n",
       "        vertical-align: top;\n",
       "    }\n",
       "\n",
       "    .dataframe thead th {\n",
       "        text-align: right;\n",
       "    }\n",
       "</style>\n",
       "<table border=\"1\" class=\"dataframe\">\n",
       "  <thead>\n",
       "    <tr style=\"text-align: right;\">\n",
       "      <th></th>\n",
       "      <th>MSSubClass</th>\n",
       "      <th>MSZoning</th>\n",
       "      <th>LotFrontage</th>\n",
       "      <th>LotArea</th>\n",
       "      <th>Street</th>\n",
       "      <th>Alley</th>\n",
       "      <th>LotShape</th>\n",
       "      <th>LandContour</th>\n",
       "      <th>Utilities</th>\n",
       "      <th>LotConfig</th>\n",
       "      <th>...</th>\n",
       "      <th>ScreenPorch</th>\n",
       "      <th>PoolArea</th>\n",
       "      <th>PoolQC</th>\n",
       "      <th>Fence</th>\n",
       "      <th>MiscFeature</th>\n",
       "      <th>MiscVal</th>\n",
       "      <th>MoSold</th>\n",
       "      <th>YrSold</th>\n",
       "      <th>SaleType</th>\n",
       "      <th>SaleCondition</th>\n",
       "    </tr>\n",
       "    <tr>\n",
       "      <th>Id</th>\n",
       "      <th></th>\n",
       "      <th></th>\n",
       "      <th></th>\n",
       "      <th></th>\n",
       "      <th></th>\n",
       "      <th></th>\n",
       "      <th></th>\n",
       "      <th></th>\n",
       "      <th></th>\n",
       "      <th></th>\n",
       "      <th></th>\n",
       "      <th></th>\n",
       "      <th></th>\n",
       "      <th></th>\n",
       "      <th></th>\n",
       "      <th></th>\n",
       "      <th></th>\n",
       "      <th></th>\n",
       "      <th></th>\n",
       "      <th></th>\n",
       "      <th></th>\n",
       "    </tr>\n",
       "  </thead>\n",
       "  <tbody>\n",
       "    <tr>\n",
       "      <th>1461</th>\n",
       "      <td>20</td>\n",
       "      <td>RH</td>\n",
       "      <td>80.0</td>\n",
       "      <td>11622</td>\n",
       "      <td>Pave</td>\n",
       "      <td>NaN</td>\n",
       "      <td>Reg</td>\n",
       "      <td>Lvl</td>\n",
       "      <td>AllPub</td>\n",
       "      <td>Inside</td>\n",
       "      <td>...</td>\n",
       "      <td>120</td>\n",
       "      <td>0</td>\n",
       "      <td>NaN</td>\n",
       "      <td>MnPrv</td>\n",
       "      <td>NaN</td>\n",
       "      <td>0</td>\n",
       "      <td>6</td>\n",
       "      <td>2010</td>\n",
       "      <td>WD</td>\n",
       "      <td>Normal</td>\n",
       "    </tr>\n",
       "    <tr>\n",
       "      <th>1462</th>\n",
       "      <td>20</td>\n",
       "      <td>RL</td>\n",
       "      <td>81.0</td>\n",
       "      <td>14267</td>\n",
       "      <td>Pave</td>\n",
       "      <td>NaN</td>\n",
       "      <td>IR1</td>\n",
       "      <td>Lvl</td>\n",
       "      <td>AllPub</td>\n",
       "      <td>Corner</td>\n",
       "      <td>...</td>\n",
       "      <td>0</td>\n",
       "      <td>0</td>\n",
       "      <td>NaN</td>\n",
       "      <td>NaN</td>\n",
       "      <td>Gar2</td>\n",
       "      <td>12500</td>\n",
       "      <td>6</td>\n",
       "      <td>2010</td>\n",
       "      <td>WD</td>\n",
       "      <td>Normal</td>\n",
       "    </tr>\n",
       "    <tr>\n",
       "      <th>1463</th>\n",
       "      <td>60</td>\n",
       "      <td>RL</td>\n",
       "      <td>74.0</td>\n",
       "      <td>13830</td>\n",
       "      <td>Pave</td>\n",
       "      <td>NaN</td>\n",
       "      <td>IR1</td>\n",
       "      <td>Lvl</td>\n",
       "      <td>AllPub</td>\n",
       "      <td>Inside</td>\n",
       "      <td>...</td>\n",
       "      <td>0</td>\n",
       "      <td>0</td>\n",
       "      <td>NaN</td>\n",
       "      <td>MnPrv</td>\n",
       "      <td>NaN</td>\n",
       "      <td>0</td>\n",
       "      <td>3</td>\n",
       "      <td>2010</td>\n",
       "      <td>WD</td>\n",
       "      <td>Normal</td>\n",
       "    </tr>\n",
       "    <tr>\n",
       "      <th>1464</th>\n",
       "      <td>60</td>\n",
       "      <td>RL</td>\n",
       "      <td>78.0</td>\n",
       "      <td>9978</td>\n",
       "      <td>Pave</td>\n",
       "      <td>NaN</td>\n",
       "      <td>IR1</td>\n",
       "      <td>Lvl</td>\n",
       "      <td>AllPub</td>\n",
       "      <td>Inside</td>\n",
       "      <td>...</td>\n",
       "      <td>0</td>\n",
       "      <td>0</td>\n",
       "      <td>NaN</td>\n",
       "      <td>NaN</td>\n",
       "      <td>NaN</td>\n",
       "      <td>0</td>\n",
       "      <td>6</td>\n",
       "      <td>2010</td>\n",
       "      <td>WD</td>\n",
       "      <td>Normal</td>\n",
       "    </tr>\n",
       "    <tr>\n",
       "      <th>1465</th>\n",
       "      <td>120</td>\n",
       "      <td>RL</td>\n",
       "      <td>43.0</td>\n",
       "      <td>5005</td>\n",
       "      <td>Pave</td>\n",
       "      <td>NaN</td>\n",
       "      <td>IR1</td>\n",
       "      <td>HLS</td>\n",
       "      <td>AllPub</td>\n",
       "      <td>Inside</td>\n",
       "      <td>...</td>\n",
       "      <td>144</td>\n",
       "      <td>0</td>\n",
       "      <td>NaN</td>\n",
       "      <td>NaN</td>\n",
       "      <td>NaN</td>\n",
       "      <td>0</td>\n",
       "      <td>1</td>\n",
       "      <td>2010</td>\n",
       "      <td>WD</td>\n",
       "      <td>Normal</td>\n",
       "    </tr>\n",
       "    <tr>\n",
       "      <th>...</th>\n",
       "      <td>...</td>\n",
       "      <td>...</td>\n",
       "      <td>...</td>\n",
       "      <td>...</td>\n",
       "      <td>...</td>\n",
       "      <td>...</td>\n",
       "      <td>...</td>\n",
       "      <td>...</td>\n",
       "      <td>...</td>\n",
       "      <td>...</td>\n",
       "      <td>...</td>\n",
       "      <td>...</td>\n",
       "      <td>...</td>\n",
       "      <td>...</td>\n",
       "      <td>...</td>\n",
       "      <td>...</td>\n",
       "      <td>...</td>\n",
       "      <td>...</td>\n",
       "      <td>...</td>\n",
       "      <td>...</td>\n",
       "      <td>...</td>\n",
       "    </tr>\n",
       "    <tr>\n",
       "      <th>2915</th>\n",
       "      <td>160</td>\n",
       "      <td>RM</td>\n",
       "      <td>21.0</td>\n",
       "      <td>1936</td>\n",
       "      <td>Pave</td>\n",
       "      <td>NaN</td>\n",
       "      <td>Reg</td>\n",
       "      <td>Lvl</td>\n",
       "      <td>AllPub</td>\n",
       "      <td>Inside</td>\n",
       "      <td>...</td>\n",
       "      <td>0</td>\n",
       "      <td>0</td>\n",
       "      <td>NaN</td>\n",
       "      <td>NaN</td>\n",
       "      <td>NaN</td>\n",
       "      <td>0</td>\n",
       "      <td>6</td>\n",
       "      <td>2006</td>\n",
       "      <td>WD</td>\n",
       "      <td>Normal</td>\n",
       "    </tr>\n",
       "    <tr>\n",
       "      <th>2916</th>\n",
       "      <td>160</td>\n",
       "      <td>RM</td>\n",
       "      <td>21.0</td>\n",
       "      <td>1894</td>\n",
       "      <td>Pave</td>\n",
       "      <td>NaN</td>\n",
       "      <td>Reg</td>\n",
       "      <td>Lvl</td>\n",
       "      <td>AllPub</td>\n",
       "      <td>Inside</td>\n",
       "      <td>...</td>\n",
       "      <td>0</td>\n",
       "      <td>0</td>\n",
       "      <td>NaN</td>\n",
       "      <td>NaN</td>\n",
       "      <td>NaN</td>\n",
       "      <td>0</td>\n",
       "      <td>4</td>\n",
       "      <td>2006</td>\n",
       "      <td>WD</td>\n",
       "      <td>Abnorml</td>\n",
       "    </tr>\n",
       "    <tr>\n",
       "      <th>2917</th>\n",
       "      <td>20</td>\n",
       "      <td>RL</td>\n",
       "      <td>160.0</td>\n",
       "      <td>20000</td>\n",
       "      <td>Pave</td>\n",
       "      <td>NaN</td>\n",
       "      <td>Reg</td>\n",
       "      <td>Lvl</td>\n",
       "      <td>AllPub</td>\n",
       "      <td>Inside</td>\n",
       "      <td>...</td>\n",
       "      <td>0</td>\n",
       "      <td>0</td>\n",
       "      <td>NaN</td>\n",
       "      <td>NaN</td>\n",
       "      <td>NaN</td>\n",
       "      <td>0</td>\n",
       "      <td>9</td>\n",
       "      <td>2006</td>\n",
       "      <td>WD</td>\n",
       "      <td>Abnorml</td>\n",
       "    </tr>\n",
       "    <tr>\n",
       "      <th>2918</th>\n",
       "      <td>85</td>\n",
       "      <td>RL</td>\n",
       "      <td>62.0</td>\n",
       "      <td>10441</td>\n",
       "      <td>Pave</td>\n",
       "      <td>NaN</td>\n",
       "      <td>Reg</td>\n",
       "      <td>Lvl</td>\n",
       "      <td>AllPub</td>\n",
       "      <td>Inside</td>\n",
       "      <td>...</td>\n",
       "      <td>0</td>\n",
       "      <td>0</td>\n",
       "      <td>NaN</td>\n",
       "      <td>MnPrv</td>\n",
       "      <td>Shed</td>\n",
       "      <td>700</td>\n",
       "      <td>7</td>\n",
       "      <td>2006</td>\n",
       "      <td>WD</td>\n",
       "      <td>Normal</td>\n",
       "    </tr>\n",
       "    <tr>\n",
       "      <th>2919</th>\n",
       "      <td>60</td>\n",
       "      <td>RL</td>\n",
       "      <td>74.0</td>\n",
       "      <td>9627</td>\n",
       "      <td>Pave</td>\n",
       "      <td>NaN</td>\n",
       "      <td>Reg</td>\n",
       "      <td>Lvl</td>\n",
       "      <td>AllPub</td>\n",
       "      <td>Inside</td>\n",
       "      <td>...</td>\n",
       "      <td>0</td>\n",
       "      <td>0</td>\n",
       "      <td>NaN</td>\n",
       "      <td>NaN</td>\n",
       "      <td>NaN</td>\n",
       "      <td>0</td>\n",
       "      <td>11</td>\n",
       "      <td>2006</td>\n",
       "      <td>WD</td>\n",
       "      <td>Normal</td>\n",
       "    </tr>\n",
       "  </tbody>\n",
       "</table>\n",
       "<p>1459 rows × 79 columns</p>\n",
       "</div>"
      ],
      "text/plain": [
       "      MSSubClass MSZoning  LotFrontage  LotArea Street Alley LotShape  \\\n",
       "Id                                                                      \n",
       "1461          20       RH         80.0    11622   Pave   NaN      Reg   \n",
       "1462          20       RL         81.0    14267   Pave   NaN      IR1   \n",
       "1463          60       RL         74.0    13830   Pave   NaN      IR1   \n",
       "1464          60       RL         78.0     9978   Pave   NaN      IR1   \n",
       "1465         120       RL         43.0     5005   Pave   NaN      IR1   \n",
       "...          ...      ...          ...      ...    ...   ...      ...   \n",
       "2915         160       RM         21.0     1936   Pave   NaN      Reg   \n",
       "2916         160       RM         21.0     1894   Pave   NaN      Reg   \n",
       "2917          20       RL        160.0    20000   Pave   NaN      Reg   \n",
       "2918          85       RL         62.0    10441   Pave   NaN      Reg   \n",
       "2919          60       RL         74.0     9627   Pave   NaN      Reg   \n",
       "\n",
       "     LandContour Utilities LotConfig  ... ScreenPorch PoolArea PoolQC  Fence  \\\n",
       "Id                                    ...                                      \n",
       "1461         Lvl    AllPub    Inside  ...         120        0    NaN  MnPrv   \n",
       "1462         Lvl    AllPub    Corner  ...           0        0    NaN    NaN   \n",
       "1463         Lvl    AllPub    Inside  ...           0        0    NaN  MnPrv   \n",
       "1464         Lvl    AllPub    Inside  ...           0        0    NaN    NaN   \n",
       "1465         HLS    AllPub    Inside  ...         144        0    NaN    NaN   \n",
       "...          ...       ...       ...  ...         ...      ...    ...    ...   \n",
       "2915         Lvl    AllPub    Inside  ...           0        0    NaN    NaN   \n",
       "2916         Lvl    AllPub    Inside  ...           0        0    NaN    NaN   \n",
       "2917         Lvl    AllPub    Inside  ...           0        0    NaN    NaN   \n",
       "2918         Lvl    AllPub    Inside  ...           0        0    NaN  MnPrv   \n",
       "2919         Lvl    AllPub    Inside  ...           0        0    NaN    NaN   \n",
       "\n",
       "     MiscFeature MiscVal  MoSold  YrSold  SaleType  SaleCondition  \n",
       "Id                                                                 \n",
       "1461         NaN       0       6    2010        WD         Normal  \n",
       "1462        Gar2   12500       6    2010        WD         Normal  \n",
       "1463         NaN       0       3    2010        WD         Normal  \n",
       "1464         NaN       0       6    2010        WD         Normal  \n",
       "1465         NaN       0       1    2010        WD         Normal  \n",
       "...          ...     ...     ...     ...       ...            ...  \n",
       "2915         NaN       0       6    2006        WD         Normal  \n",
       "2916         NaN       0       4    2006        WD        Abnorml  \n",
       "2917         NaN       0       9    2006        WD        Abnorml  \n",
       "2918        Shed     700       7    2006        WD         Normal  \n",
       "2919         NaN       0      11    2006        WD         Normal  \n",
       "\n",
       "[1459 rows x 79 columns]"
      ]
     },
     "execution_count": 6,
     "metadata": {},
     "output_type": "execute_result"
    }
   ],
   "source": [
    "test = pd.read_csv(test_file_path, \n",
    "                   index_col='Id')\n",
    "test"
   ]
  },
  {
   "cell_type": "code",
   "execution_count": 7,
   "metadata": {},
   "outputs": [],
   "source": [
    "train.MSSubClass = train.MSSubClass.astype('category')"
   ]
  },
  {
   "cell_type": "markdown",
   "metadata": {},
   "source": [
    "## Exploratory Data Analysis\n"
   ]
  },
  {
   "cell_type": "markdown",
   "metadata": {},
   "source": [
    "### Missing values"
   ]
  },
  {
   "cell_type": "code",
   "execution_count": 8,
   "metadata": {},
   "outputs": [
    {
     "name": "stdout",
     "output_type": "stream",
     "text": [
      "<class 'pandas.core.frame.DataFrame'>\n",
      "Int64Index: 1460 entries, 1 to 1460\n",
      "Data columns (total 80 columns):\n",
      " #   Column         Non-Null Count  Dtype   \n",
      "---  ------         --------------  -----   \n",
      " 0   MSSubClass     1460 non-null   category\n",
      " 1   MSZoning       1460 non-null   object  \n",
      " 2   LotFrontage    1201 non-null   float64 \n",
      " 3   LotArea        1460 non-null   int64   \n",
      " 4   Street         1460 non-null   object  \n",
      " 5   Alley          91 non-null     object  \n",
      " 6   LotShape       1460 non-null   object  \n",
      " 7   LandContour    1460 non-null   object  \n",
      " 8   Utilities      1460 non-null   object  \n",
      " 9   LotConfig      1460 non-null   object  \n",
      " 10  LandSlope      1460 non-null   object  \n",
      " 11  Neighborhood   1460 non-null   object  \n",
      " 12  Condition1     1460 non-null   object  \n",
      " 13  Condition2     1460 non-null   object  \n",
      " 14  BldgType       1460 non-null   object  \n",
      " 15  HouseStyle     1460 non-null   object  \n",
      " 16  OverallQual    1460 non-null   int64   \n",
      " 17  OverallCond    1460 non-null   int64   \n",
      " 18  YearBuilt      1460 non-null   int64   \n",
      " 19  YearRemodAdd   1460 non-null   int64   \n",
      " 20  RoofStyle      1460 non-null   object  \n",
      " 21  RoofMatl       1460 non-null   object  \n",
      " 22  Exterior1st    1460 non-null   object  \n",
      " 23  Exterior2nd    1460 non-null   object  \n",
      " 24  MasVnrType     1452 non-null   object  \n",
      " 25  MasVnrArea     1452 non-null   float64 \n",
      " 26  ExterQual      1460 non-null   object  \n",
      " 27  ExterCond      1460 non-null   object  \n",
      " 28  Foundation     1460 non-null   object  \n",
      " 29  BsmtQual       1423 non-null   object  \n",
      " 30  BsmtCond       1423 non-null   object  \n",
      " 31  BsmtExposure   1422 non-null   object  \n",
      " 32  BsmtFinType1   1423 non-null   object  \n",
      " 33  BsmtFinSF1     1460 non-null   int64   \n",
      " 34  BsmtFinType2   1422 non-null   object  \n",
      " 35  BsmtFinSF2     1460 non-null   int64   \n",
      " 36  BsmtUnfSF      1460 non-null   int64   \n",
      " 37  TotalBsmtSF    1460 non-null   int64   \n",
      " 38  Heating        1460 non-null   object  \n",
      " 39  HeatingQC      1460 non-null   object  \n",
      " 40  CentralAir     1460 non-null   object  \n",
      " 41  Electrical     1459 non-null   object  \n",
      " 42  1stFlrSF       1460 non-null   int64   \n",
      " 43  2ndFlrSF       1460 non-null   int64   \n",
      " 44  LowQualFinSF   1460 non-null   int64   \n",
      " 45  GrLivArea      1460 non-null   int64   \n",
      " 46  BsmtFullBath   1460 non-null   int64   \n",
      " 47  BsmtHalfBath   1460 non-null   int64   \n",
      " 48  FullBath       1460 non-null   int64   \n",
      " 49  HalfBath       1460 non-null   int64   \n",
      " 50  BedroomAbvGr   1460 non-null   int64   \n",
      " 51  KitchenAbvGr   1460 non-null   int64   \n",
      " 52  KitchenQual    1460 non-null   object  \n",
      " 53  TotRmsAbvGrd   1460 non-null   int64   \n",
      " 54  Functional     1460 non-null   object  \n",
      " 55  Fireplaces     1460 non-null   int64   \n",
      " 56  FireplaceQu    770 non-null    object  \n",
      " 57  GarageType     1379 non-null   object  \n",
      " 58  GarageYrBlt    1379 non-null   float64 \n",
      " 59  GarageFinish   1379 non-null   object  \n",
      " 60  GarageCars     1460 non-null   int64   \n",
      " 61  GarageArea     1460 non-null   int64   \n",
      " 62  GarageQual     1379 non-null   object  \n",
      " 63  GarageCond     1379 non-null   object  \n",
      " 64  PavedDrive     1460 non-null   object  \n",
      " 65  WoodDeckSF     1460 non-null   int64   \n",
      " 66  OpenPorchSF    1460 non-null   int64   \n",
      " 67  EnclosedPorch  1460 non-null   int64   \n",
      " 68  3SsnPorch      1460 non-null   int64   \n",
      " 69  ScreenPorch    1460 non-null   int64   \n",
      " 70  PoolArea       1460 non-null   int64   \n",
      " 71  PoolQC         7 non-null      object  \n",
      " 72  Fence          281 non-null    object  \n",
      " 73  MiscFeature    54 non-null     object  \n",
      " 74  MiscVal        1460 non-null   int64   \n",
      " 75  MoSold         1460 non-null   int64   \n",
      " 76  YrSold         1460 non-null   int64   \n",
      " 77  SaleType       1460 non-null   object  \n",
      " 78  SaleCondition  1460 non-null   object  \n",
      " 79  SalePrice      1460 non-null   int64   \n",
      "dtypes: category(1), float64(3), int64(33), object(43)\n",
      "memory usage: 914.6+ KB\n"
     ]
    }
   ],
   "source": [
    "train.info()"
   ]
  },
  {
   "cell_type": "code",
   "execution_count": 17,
   "metadata": {},
   "outputs": [
    {
     "name": "stdout",
     "output_type": "stream",
     "text": [
      "Name: MSSubClass\tdtype: category\n",
      "nunique: 15\n"
     ]
    },
    {
     "data": {
      "text/plain": [
       "20     536\n",
       "30      69\n",
       "40       4\n",
       "45      12\n",
       "50     144\n",
       "60     299\n",
       "70      60\n",
       "75      16\n",
       "80      58\n",
       "85      20\n",
       "90      52\n",
       "120     87\n",
       "160     63\n",
       "180     10\n",
       "190     30\n",
       "Name: MSSubClass, dtype: int64"
      ]
     },
     "metadata": {},
     "output_type": "display_data"
    },
    {
     "name": "stdout",
     "output_type": "stream",
     "text": [
      "------------------------------ \n",
      "\n",
      "Name: MSZoning\tdtype: object\n",
      "nunique: 5\n"
     ]
    },
    {
     "data": {
      "text/plain": [
       "C (all)      10\n",
       "FV           65\n",
       "RH           16\n",
       "RL         1151\n",
       "RM          218\n",
       "Name: MSZoning, dtype: int64"
      ]
     },
     "metadata": {},
     "output_type": "display_data"
    },
    {
     "name": "stdout",
     "output_type": "stream",
     "text": [
      "------------------------------ \n",
      "\n",
      "Name: Street\tdtype: object\n",
      "nunique: 2\n"
     ]
    },
    {
     "data": {
      "text/plain": [
       "Pave    1454\n",
       "Grvl       6\n",
       "Name: Street, dtype: int64"
      ]
     },
     "metadata": {},
     "output_type": "display_data"
    },
    {
     "name": "stdout",
     "output_type": "stream",
     "text": [
      "------------------------------ \n",
      "\n",
      "Name: Alley\tdtype: object\n",
      "nunique: 3\n"
     ]
    },
    {
     "data": {
      "text/plain": [
       "Pave          41\n",
       "No alley    1369\n",
       "Grvl          50\n",
       "Name: Alley, dtype: int64"
      ]
     },
     "metadata": {},
     "output_type": "display_data"
    },
    {
     "name": "stdout",
     "output_type": "stream",
     "text": [
      "------------------------------ \n",
      "\n",
      "Name: LotShape\tdtype: object\n",
      "nunique: 4\n"
     ]
    },
    {
     "data": {
      "text/plain": [
       "IR2     41\n",
       "IR3     10\n",
       "Reg    925\n",
       "IR1    484\n",
       "Name: LotShape, dtype: int64"
      ]
     },
     "metadata": {},
     "output_type": "display_data"
    },
    {
     "name": "stdout",
     "output_type": "stream",
     "text": [
      "------------------------------ \n",
      "\n",
      "Name: LandContour\tdtype: object\n",
      "nunique: 4\n"
     ]
    },
    {
     "data": {
      "text/plain": [
       "Bnk      63\n",
       "HLS      50\n",
       "Low      36\n",
       "Lvl    1311\n",
       "Name: LandContour, dtype: int64"
      ]
     },
     "metadata": {},
     "output_type": "display_data"
    },
    {
     "name": "stdout",
     "output_type": "stream",
     "text": [
      "------------------------------ \n",
      "\n",
      "Name: Utilities\tdtype: object\n",
      "nunique: 2\n"
     ]
    },
    {
     "data": {
      "text/plain": [
       "NoSeWa       1\n",
       "AllPub    1459\n",
       "Name: Utilities, dtype: int64"
      ]
     },
     "metadata": {},
     "output_type": "display_data"
    },
    {
     "name": "stdout",
     "output_type": "stream",
     "text": [
      "------------------------------ \n",
      "\n",
      "Name: LotConfig\tdtype: object\n",
      "nunique: 5\n"
     ]
    },
    {
     "data": {
      "text/plain": [
       "FR2          47\n",
       "Inside     1052\n",
       "CulDSac      94\n",
       "FR3           4\n",
       "Corner      263\n",
       "Name: LotConfig, dtype: int64"
      ]
     },
     "metadata": {},
     "output_type": "display_data"
    },
    {
     "name": "stdout",
     "output_type": "stream",
     "text": [
      "------------------------------ \n",
      "\n",
      "Name: LandSlope\tdtype: object\n",
      "nunique: 3\n"
     ]
    },
    {
     "data": {
      "text/plain": [
       "Mod      65\n",
       "Sev      13\n",
       "Gtl    1382\n",
       "Name: LandSlope, dtype: int64"
      ]
     },
     "metadata": {},
     "output_type": "display_data"
    },
    {
     "name": "stdout",
     "output_type": "stream",
     "text": [
      "------------------------------ \n",
      "\n",
      "Name: Neighborhood\tdtype: object\n",
      "nunique: 25\n"
     ]
    },
    {
     "data": {
      "text/plain": [
       "NridgHt     77\n",
       "BrkSide     58\n",
       "NWAmes      73\n",
       "Gilbert     79\n",
       "SWISU       25\n",
       "Edwards    100\n",
       "OldTown    113\n",
       "Blueste      2\n",
       "SawyerW     59\n",
       "Veenker     11\n",
       "Mitchel     49\n",
       "Crawfor     51\n",
       "ClearCr     28\n",
       "StoneBr     25\n",
       "Somerst     86\n",
       "NAmes      225\n",
       "Timber      38\n",
       "CollgCr    150\n",
       "MeadowV     17\n",
       "BrDale      16\n",
       "IDOTRR      37\n",
       "Blmngtn     17\n",
       "NPkVill      9\n",
       "NoRidge     41\n",
       "Sawyer      74\n",
       "Name: Neighborhood, dtype: int64"
      ]
     },
     "metadata": {},
     "output_type": "display_data"
    },
    {
     "name": "stdout",
     "output_type": "stream",
     "text": [
      "------------------------------ \n",
      "\n",
      "Name: Condition1\tdtype: object\n",
      "nunique: 9\n"
     ]
    },
    {
     "data": {
      "text/plain": [
       "Norm      1260\n",
       "RRNn         5\n",
       "PosA         8\n",
       "RRAe        11\n",
       "Feedr       81\n",
       "Artery      48\n",
       "RRNe         2\n",
       "PosN        19\n",
       "RRAn        26\n",
       "Name: Condition1, dtype: int64"
      ]
     },
     "metadata": {},
     "output_type": "display_data"
    },
    {
     "name": "stdout",
     "output_type": "stream",
     "text": [
      "------------------------------ \n",
      "\n",
      "Name: Condition2\tdtype: object\n",
      "nunique: 8\n"
     ]
    },
    {
     "data": {
      "text/plain": [
       "Norm      1445\n",
       "RRNn         2\n",
       "PosA         1\n",
       "RRAe         1\n",
       "Feedr        6\n",
       "Artery       2\n",
       "PosN         2\n",
       "RRAn         1\n",
       "Name: Condition2, dtype: int64"
      ]
     },
     "metadata": {},
     "output_type": "display_data"
    },
    {
     "name": "stdout",
     "output_type": "stream",
     "text": [
      "------------------------------ \n",
      "\n",
      "Name: BldgType\tdtype: object\n",
      "nunique: 5\n"
     ]
    },
    {
     "data": {
      "text/plain": [
       "2fmCon      31\n",
       "TwnhsE     114\n",
       "Twnhs       43\n",
       "1Fam      1220\n",
       "Duplex      52\n",
       "Name: BldgType, dtype: int64"
      ]
     },
     "metadata": {},
     "output_type": "display_data"
    },
    {
     "name": "stdout",
     "output_type": "stream",
     "text": [
      "------------------------------ \n",
      "\n",
      "Name: HouseStyle\tdtype: object\n",
      "nunique: 8\n"
     ]
    },
    {
     "data": {
      "text/plain": [
       "2.5Fin      8\n",
       "1.5Fin    154\n",
       "1Story    726\n",
       "2.5Unf     11\n",
       "SFoyer     37\n",
       "2Story    445\n",
       "1.5Unf     14\n",
       "SLvl       65\n",
       "Name: HouseStyle, dtype: int64"
      ]
     },
     "metadata": {},
     "output_type": "display_data"
    },
    {
     "name": "stdout",
     "output_type": "stream",
     "text": [
      "------------------------------ \n",
      "\n",
      "Name: RoofStyle\tdtype: object\n",
      "nunique: 6\n"
     ]
    },
    {
     "data": {
      "text/plain": [
       "Mansard       7\n",
       "Shed          2\n",
       "Gable      1141\n",
       "Gambrel      11\n",
       "Hip         286\n",
       "Flat         13\n",
       "Name: RoofStyle, dtype: int64"
      ]
     },
     "metadata": {},
     "output_type": "display_data"
    },
    {
     "name": "stdout",
     "output_type": "stream",
     "text": [
      "------------------------------ \n",
      "\n",
      "Name: RoofMatl\tdtype: object\n",
      "nunique: 8\n"
     ]
    },
    {
     "data": {
      "text/plain": [
       "Roll          1\n",
       "CompShg    1434\n",
       "WdShake       5\n",
       "Tar&Grv      11\n",
       "Membran       1\n",
       "Metal         1\n",
       "WdShngl       6\n",
       "ClyTile       1\n",
       "Name: RoofMatl, dtype: int64"
      ]
     },
     "metadata": {},
     "output_type": "display_data"
    },
    {
     "name": "stdout",
     "output_type": "stream",
     "text": [
      "------------------------------ \n",
      "\n",
      "Name: Exterior1st\tdtype: object\n",
      "nunique: 15\n"
     ]
    },
    {
     "data": {
      "text/plain": [
       "Wd Sdng    206\n",
       "AsbShng     20\n",
       "Plywood    108\n",
       "HdBoard    222\n",
       "CemntBd     61\n",
       "Stone        2\n",
       "CBlock       1\n",
       "VinylSd    515\n",
       "MetalSd    220\n",
       "AsphShn      1\n",
       "WdShing     26\n",
       "BrkComm      2\n",
       "Stucco      25\n",
       "BrkFace     50\n",
       "ImStucc      1\n",
       "Name: Exterior1st, dtype: int64"
      ]
     },
     "metadata": {},
     "output_type": "display_data"
    },
    {
     "name": "stdout",
     "output_type": "stream",
     "text": [
      "------------------------------ \n",
      "\n",
      "Name: Exterior2nd\tdtype: object\n",
      "nunique: 16\n"
     ]
    },
    {
     "data": {
      "text/plain": [
       "Wd Sdng    197\n",
       "AsbShng     20\n",
       "Plywood    142\n",
       "HdBoard    207\n",
       "Wd Shng     38\n",
       "Stone        5\n",
       "CBlock       1\n",
       "VinylSd    504\n",
       "MetalSd    214\n",
       "Other        1\n",
       "AsphShn      3\n",
       "Stucco      26\n",
       "CmentBd     60\n",
       "BrkFace     25\n",
       "ImStucc     10\n",
       "Brk Cmn      7\n",
       "Name: Exterior2nd, dtype: int64"
      ]
     },
     "metadata": {},
     "output_type": "display_data"
    },
    {
     "name": "stdout",
     "output_type": "stream",
     "text": [
      "------------------------------ \n",
      "\n",
      "Name: MasVnrType\tdtype: object\n",
      "nunique: 5\n"
     ]
    },
    {
     "data": {
      "text/plain": [
       "BrkCmn      15\n",
       "Stone      128\n",
       "No           8\n",
       "BrkFace    445\n",
       "None       864\n",
       "Name: MasVnrType, dtype: int64"
      ]
     },
     "metadata": {},
     "output_type": "display_data"
    },
    {
     "name": "stdout",
     "output_type": "stream",
     "text": [
      "------------------------------ \n",
      "\n",
      "Name: ExterQual\tdtype: object\n",
      "nunique: 4\n"
     ]
    },
    {
     "data": {
      "text/plain": [
       "Fa     14\n",
       "TA    906\n",
       "Gd    488\n",
       "Ex     52\n",
       "Name: ExterQual, dtype: int64"
      ]
     },
     "metadata": {},
     "output_type": "display_data"
    },
    {
     "name": "stdout",
     "output_type": "stream",
     "text": [
      "------------------------------ \n",
      "\n",
      "Name: ExterCond\tdtype: object\n",
      "nunique: 5\n"
     ]
    },
    {
     "data": {
      "text/plain": [
       "Fa      28\n",
       "TA    1282\n",
       "Gd     146\n",
       "Ex       3\n",
       "Po       1\n",
       "Name: ExterCond, dtype: int64"
      ]
     },
     "metadata": {},
     "output_type": "display_data"
    },
    {
     "name": "stdout",
     "output_type": "stream",
     "text": [
      "------------------------------ \n",
      "\n",
      "Name: Foundation\tdtype: object\n",
      "nunique: 6\n"
     ]
    },
    {
     "data": {
      "text/plain": [
       "Slab       24\n",
       "Stone       6\n",
       "CBlock    634\n",
       "PConc     647\n",
       "Wood        3\n",
       "BrkTil    146\n",
       "Name: Foundation, dtype: int64"
      ]
     },
     "metadata": {},
     "output_type": "display_data"
    },
    {
     "name": "stdout",
     "output_type": "stream",
     "text": [
      "------------------------------ \n",
      "\n",
      "Name: BsmtQual\tdtype: object\n",
      "nunique: 5\n"
     ]
    },
    {
     "data": {
      "text/plain": [
       "Fa              35\n",
       "No Basement     37\n",
       "TA             649\n",
       "Gd             618\n",
       "Ex             121\n",
       "Name: BsmtQual, dtype: int64"
      ]
     },
     "metadata": {},
     "output_type": "display_data"
    },
    {
     "name": "stdout",
     "output_type": "stream",
     "text": [
      "------------------------------ \n",
      "\n",
      "Name: BsmtCond\tdtype: object\n",
      "nunique: 5\n"
     ]
    },
    {
     "data": {
      "text/plain": [
       "Fa               45\n",
       "No Basement      37\n",
       "TA             1311\n",
       "Gd               65\n",
       "Po                2\n",
       "Name: BsmtCond, dtype: int64"
      ]
     },
     "metadata": {},
     "output_type": "display_data"
    },
    {
     "name": "stdout",
     "output_type": "stream",
     "text": [
      "------------------------------ \n",
      "\n",
      "Name: BsmtExposure\tdtype: object\n",
      "nunique: 5\n"
     ]
    },
    {
     "data": {
      "text/plain": [
       "No Basement     38\n",
       "Mn             114\n",
       "Gd             134\n",
       "No             953\n",
       "Av             221\n",
       "Name: BsmtExposure, dtype: int64"
      ]
     },
     "metadata": {},
     "output_type": "display_data"
    },
    {
     "name": "stdout",
     "output_type": "stream",
     "text": [
      "------------------------------ \n",
      "\n",
      "Name: BsmtFinType1\tdtype: object\n",
      "nunique: 7\n"
     ]
    },
    {
     "data": {
      "text/plain": [
       "Rec            133\n",
       "ALQ            220\n",
       "Unf            430\n",
       "No Basement     37\n",
       "BLQ            148\n",
       "GLQ            418\n",
       "LwQ             74\n",
       "Name: BsmtFinType1, dtype: int64"
      ]
     },
     "metadata": {},
     "output_type": "display_data"
    },
    {
     "name": "stdout",
     "output_type": "stream",
     "text": [
      "------------------------------ \n",
      "\n",
      "Name: BsmtFinType2\tdtype: object\n",
      "nunique: 7\n"
     ]
    },
    {
     "data": {
      "text/plain": [
       "Rec              54\n",
       "ALQ              19\n",
       "Unf            1256\n",
       "No Basement      38\n",
       "BLQ              33\n",
       "GLQ              14\n",
       "LwQ              46\n",
       "Name: BsmtFinType2, dtype: int64"
      ]
     },
     "metadata": {},
     "output_type": "display_data"
    },
    {
     "name": "stdout",
     "output_type": "stream",
     "text": [
      "------------------------------ \n",
      "\n",
      "Name: Heating\tdtype: object\n",
      "nunique: 6\n"
     ]
    },
    {
     "data": {
      "text/plain": [
       "Grav        7\n",
       "Floor       1\n",
       "OthW        2\n",
       "GasA     1428\n",
       "Wall        4\n",
       "GasW       18\n",
       "Name: Heating, dtype: int64"
      ]
     },
     "metadata": {},
     "output_type": "display_data"
    },
    {
     "name": "stdout",
     "output_type": "stream",
     "text": [
      "------------------------------ \n",
      "\n",
      "Name: HeatingQC\tdtype: object\n",
      "nunique: 5\n"
     ]
    },
    {
     "data": {
      "text/plain": [
       "Fa     49\n",
       "TA    428\n",
       "Gd    241\n",
       "Ex    741\n",
       "Po      1\n",
       "Name: HeatingQC, dtype: int64"
      ]
     },
     "metadata": {},
     "output_type": "display_data"
    },
    {
     "name": "stdout",
     "output_type": "stream",
     "text": [
      "------------------------------ \n",
      "\n",
      "Name: CentralAir\tdtype: object\n",
      "nunique: 2\n"
     ]
    },
    {
     "data": {
      "text/plain": [
       "Y    1365\n",
       "N      95\n",
       "Name: CentralAir, dtype: int64"
      ]
     },
     "metadata": {},
     "output_type": "display_data"
    },
    {
     "name": "stdout",
     "output_type": "stream",
     "text": [
      "------------------------------ \n",
      "\n",
      "Name: Electrical\tdtype: object\n",
      "nunique: 5\n"
     ]
    },
    {
     "data": {
      "text/plain": [
       "FuseP       3\n",
       "FuseF      27\n",
       "SBrkr    1335\n",
       "FuseA      94\n",
       "Mix         1\n",
       "Name: Electrical, dtype: int64"
      ]
     },
     "metadata": {},
     "output_type": "display_data"
    },
    {
     "name": "stdout",
     "output_type": "stream",
     "text": [
      "------------------------------ \n",
      "\n",
      "Name: KitchenQual\tdtype: object\n",
      "nunique: 4\n"
     ]
    },
    {
     "data": {
      "text/plain": [
       "Fa     39\n",
       "TA    735\n",
       "Gd    586\n",
       "Ex    100\n",
       "Name: KitchenQual, dtype: int64"
      ]
     },
     "metadata": {},
     "output_type": "display_data"
    },
    {
     "name": "stdout",
     "output_type": "stream",
     "text": [
      "------------------------------ \n",
      "\n",
      "Name: Functional\tdtype: object\n",
      "nunique: 7\n"
     ]
    },
    {
     "data": {
      "text/plain": [
       "Min2      34\n",
       "Mod       15\n",
       "Sev        1\n",
       "Maj1      14\n",
       "Min1      31\n",
       "Typ     1360\n",
       "Maj2       5\n",
       "Name: Functional, dtype: int64"
      ]
     },
     "metadata": {},
     "output_type": "display_data"
    },
    {
     "name": "stdout",
     "output_type": "stream",
     "text": [
      "------------------------------ \n",
      "\n",
      "Name: FireplaceQu\tdtype: object\n",
      "nunique: 6\n"
     ]
    },
    {
     "data": {
      "text/plain": [
       "Fa               33\n",
       "TA              313\n",
       "No Fireplace    690\n",
       "Gd              380\n",
       "Ex               24\n",
       "Po               20\n",
       "Name: FireplaceQu, dtype: int64"
      ]
     },
     "metadata": {},
     "output_type": "display_data"
    },
    {
     "name": "stdout",
     "output_type": "stream",
     "text": [
      "------------------------------ \n",
      "\n",
      "Name: GarageType\tdtype: object\n",
      "nunique: 7\n"
     ]
    },
    {
     "data": {
      "text/plain": [
       "Attchd       870\n",
       "Basment       19\n",
       "Detchd       387\n",
       "2Types         6\n",
       "No Garage     81\n",
       "BuiltIn       88\n",
       "CarPort        9\n",
       "Name: GarageType, dtype: int64"
      ]
     },
     "metadata": {},
     "output_type": "display_data"
    },
    {
     "name": "stdout",
     "output_type": "stream",
     "text": [
      "------------------------------ \n",
      "\n",
      "Name: GarageFinish\tdtype: object\n",
      "nunique: 4\n"
     ]
    },
    {
     "data": {
      "text/plain": [
       "Fin          352\n",
       "Unf          605\n",
       "RFn          422\n",
       "No Garage     81\n",
       "Name: GarageFinish, dtype: int64"
      ]
     },
     "metadata": {},
     "output_type": "display_data"
    },
    {
     "name": "stdout",
     "output_type": "stream",
     "text": [
      "------------------------------ \n",
      "\n",
      "Name: GarageQual\tdtype: object\n",
      "nunique: 6\n"
     ]
    },
    {
     "data": {
      "text/plain": [
       "Fa             48\n",
       "TA           1311\n",
       "Gd             14\n",
       "Ex              3\n",
       "No Garage      81\n",
       "Po              3\n",
       "Name: GarageQual, dtype: int64"
      ]
     },
     "metadata": {},
     "output_type": "display_data"
    },
    {
     "name": "stdout",
     "output_type": "stream",
     "text": [
      "------------------------------ \n",
      "\n",
      "Name: GarageCond\tdtype: object\n",
      "nunique: 6\n"
     ]
    },
    {
     "data": {
      "text/plain": [
       "Fa             35\n",
       "TA           1326\n",
       "Gd              9\n",
       "Ex              2\n",
       "No Garage      81\n",
       "Po              7\n",
       "Name: GarageCond, dtype: int64"
      ]
     },
     "metadata": {},
     "output_type": "display_data"
    },
    {
     "name": "stdout",
     "output_type": "stream",
     "text": [
      "------------------------------ \n",
      "\n",
      "Name: PavedDrive\tdtype: object\n",
      "nunique: 3\n"
     ]
    },
    {
     "data": {
      "text/plain": [
       "Y    1340\n",
       "N      90\n",
       "P      30\n",
       "Name: PavedDrive, dtype: int64"
      ]
     },
     "metadata": {},
     "output_type": "display_data"
    },
    {
     "name": "stdout",
     "output_type": "stream",
     "text": [
      "------------------------------ \n",
      "\n",
      "Name: PoolQC\tdtype: object\n",
      "nunique: 4\n"
     ]
    },
    {
     "data": {
      "text/plain": [
       "Fa            2\n",
       "No Pool    1453\n",
       "Gd            3\n",
       "Ex            2\n",
       "Name: PoolQC, dtype: int64"
      ]
     },
     "metadata": {},
     "output_type": "display_data"
    },
    {
     "name": "stdout",
     "output_type": "stream",
     "text": [
      "------------------------------ \n",
      "\n",
      "Name: Fence\tdtype: object\n",
      "nunique: 5\n"
     ]
    },
    {
     "data": {
      "text/plain": [
       "GdPrv         59\n",
       "No Fence    1179\n",
       "MnPrv        157\n",
       "GdWo          54\n",
       "MnWw          11\n",
       "Name: Fence, dtype: int64"
      ]
     },
     "metadata": {},
     "output_type": "display_data"
    },
    {
     "name": "stdout",
     "output_type": "stream",
     "text": [
      "------------------------------ \n",
      "\n",
      "Name: MiscFeature\tdtype: object\n",
      "nunique: 5\n"
     ]
    },
    {
     "data": {
      "text/plain": [
       "Shed      49\n",
       "Gar2       2\n",
       "Othr       2\n",
       "TenC       1\n",
       "No      1406\n",
       "Name: MiscFeature, dtype: int64"
      ]
     },
     "metadata": {},
     "output_type": "display_data"
    },
    {
     "name": "stdout",
     "output_type": "stream",
     "text": [
      "------------------------------ \n",
      "\n",
      "Name: SaleType\tdtype: object\n",
      "nunique: 9\n"
     ]
    },
    {
     "data": {
      "text/plain": [
       "ConLD       9\n",
       "WD       1267\n",
       "CWD         4\n",
       "New       122\n",
       "ConLw       5\n",
       "Oth         3\n",
       "ConLI       5\n",
       "Con         2\n",
       "COD        43\n",
       "Name: SaleType, dtype: int64"
      ]
     },
     "metadata": {},
     "output_type": "display_data"
    },
    {
     "name": "stdout",
     "output_type": "stream",
     "text": [
      "------------------------------ \n",
      "\n",
      "Name: SaleCondition\tdtype: object\n",
      "nunique: 6\n"
     ]
    },
    {
     "data": {
      "text/plain": [
       "AdjLand       4\n",
       "Normal     1198\n",
       "Partial     125\n",
       "Abnorml     101\n",
       "Alloca       12\n",
       "Family       20\n",
       "Name: SaleCondition, dtype: int64"
      ]
     },
     "metadata": {},
     "output_type": "display_data"
    },
    {
     "name": "stdout",
     "output_type": "stream",
     "text": [
      "------------------------------ \n",
      "\n"
     ]
    }
   ],
   "source": [
    "cat_col_names_with_na = []\n",
    "cat_col_names_without_na = []\n",
    "for col_name in train.select_dtypes(exclude=['number']):\n",
    "    print(f\"Name: {col_name}\\tdtype: {train[col_name].dtype}\")\n",
    "    print(f\"nunique: {train[col_name].nunique()}\")\n",
    "    missing_count = train[col_name].isnull().sum()\n",
    "    count = train[col_name].count()\n",
    "    if missing_count:\n",
    "        cat_col_names_with_na.append(col_name)\n",
    "        print(f\"Missing: {missing_count} / {count} -> {missing_count/(missing_count + count)*100}% \")    \n",
    "    else:\n",
    "        cat_col_names_without_na.append(col_name)\n",
    "    display(train[col_name].value_counts(sort=False))\n",
    "    \n",
    "    print('-' * 30, '\\n')"
   ]
  },
  {
   "cell_type": "code",
   "execution_count": 10,
   "metadata": {},
   "outputs": [
    {
     "data": {
      "text/plain": [
       "['MSSubClass',\n",
       " 'MSZoning',\n",
       " 'Street',\n",
       " 'LotShape',\n",
       " 'LandContour',\n",
       " 'Utilities',\n",
       " 'LotConfig',\n",
       " 'LandSlope',\n",
       " 'Neighborhood',\n",
       " 'Condition1',\n",
       " 'Condition2',\n",
       " 'BldgType',\n",
       " 'HouseStyle',\n",
       " 'RoofStyle',\n",
       " 'RoofMatl',\n",
       " 'Exterior1st',\n",
       " 'Exterior2nd',\n",
       " 'ExterQual',\n",
       " 'ExterCond',\n",
       " 'Foundation',\n",
       " 'Heating',\n",
       " 'HeatingQC',\n",
       " 'CentralAir',\n",
       " 'KitchenQual',\n",
       " 'Functional',\n",
       " 'PavedDrive',\n",
       " 'SaleType',\n",
       " 'SaleCondition']"
      ]
     },
     "execution_count": 10,
     "metadata": {},
     "output_type": "execute_result"
    }
   ],
   "source": [
    "cat_col_names_without_na"
   ]
  },
  {
   "cell_type": "code",
   "execution_count": 11,
   "metadata": {},
   "outputs": [
    {
     "name": "stdout",
     "output_type": "stream",
     "text": [
      "<class 'pandas.core.frame.DataFrame'>\n",
      "Int64Index: 1460 entries, 1 to 1460\n",
      "Data columns (total 80 columns):\n",
      " #   Column         Non-Null Count  Dtype   \n",
      "---  ------         --------------  -----   \n",
      " 0   MSSubClass     1460 non-null   category\n",
      " 1   MSZoning       1460 non-null   object  \n",
      " 2   LotFrontage    1201 non-null   float64 \n",
      " 3   LotArea        1460 non-null   int64   \n",
      " 4   Street         1460 non-null   object  \n",
      " 5   Alley          91 non-null     object  \n",
      " 6   LotShape       1460 non-null   object  \n",
      " 7   LandContour    1460 non-null   object  \n",
      " 8   Utilities      1460 non-null   object  \n",
      " 9   LotConfig      1460 non-null   object  \n",
      " 10  LandSlope      1460 non-null   object  \n",
      " 11  Neighborhood   1460 non-null   object  \n",
      " 12  Condition1     1460 non-null   object  \n",
      " 13  Condition2     1460 non-null   object  \n",
      " 14  BldgType       1460 non-null   object  \n",
      " 15  HouseStyle     1460 non-null   object  \n",
      " 16  OverallQual    1460 non-null   int64   \n",
      " 17  OverallCond    1460 non-null   int64   \n",
      " 18  YearBuilt      1460 non-null   int64   \n",
      " 19  YearRemodAdd   1460 non-null   int64   \n",
      " 20  RoofStyle      1460 non-null   object  \n",
      " 21  RoofMatl       1460 non-null   object  \n",
      " 22  Exterior1st    1460 non-null   object  \n",
      " 23  Exterior2nd    1460 non-null   object  \n",
      " 24  MasVnrType     1452 non-null   object  \n",
      " 25  MasVnrArea     1452 non-null   float64 \n",
      " 26  ExterQual      1460 non-null   object  \n",
      " 27  ExterCond      1460 non-null   object  \n",
      " 28  Foundation     1460 non-null   object  \n",
      " 29  BsmtQual       1423 non-null   object  \n",
      " 30  BsmtCond       1423 non-null   object  \n",
      " 31  BsmtExposure   1422 non-null   object  \n",
      " 32  BsmtFinType1   1423 non-null   object  \n",
      " 33  BsmtFinSF1     1460 non-null   int64   \n",
      " 34  BsmtFinType2   1422 non-null   object  \n",
      " 35  BsmtFinSF2     1460 non-null   int64   \n",
      " 36  BsmtUnfSF      1460 non-null   int64   \n",
      " 37  TotalBsmtSF    1460 non-null   int64   \n",
      " 38  Heating        1460 non-null   object  \n",
      " 39  HeatingQC      1460 non-null   object  \n",
      " 40  CentralAir     1460 non-null   object  \n",
      " 41  Electrical     1459 non-null   object  \n",
      " 42  1stFlrSF       1460 non-null   int64   \n",
      " 43  2ndFlrSF       1460 non-null   int64   \n",
      " 44  LowQualFinSF   1460 non-null   int64   \n",
      " 45  GrLivArea      1460 non-null   int64   \n",
      " 46  BsmtFullBath   1460 non-null   int64   \n",
      " 47  BsmtHalfBath   1460 non-null   int64   \n",
      " 48  FullBath       1460 non-null   int64   \n",
      " 49  HalfBath       1460 non-null   int64   \n",
      " 50  BedroomAbvGr   1460 non-null   int64   \n",
      " 51  KitchenAbvGr   1460 non-null   int64   \n",
      " 52  KitchenQual    1460 non-null   object  \n",
      " 53  TotRmsAbvGrd   1460 non-null   int64   \n",
      " 54  Functional     1460 non-null   object  \n",
      " 55  Fireplaces     1460 non-null   int64   \n",
      " 56  FireplaceQu    770 non-null    object  \n",
      " 57  GarageType     1379 non-null   object  \n",
      " 58  GarageYrBlt    1379 non-null   float64 \n",
      " 59  GarageFinish   1379 non-null   object  \n",
      " 60  GarageCars     1460 non-null   int64   \n",
      " 61  GarageArea     1460 non-null   int64   \n",
      " 62  GarageQual     1379 non-null   object  \n",
      " 63  GarageCond     1379 non-null   object  \n",
      " 64  PavedDrive     1460 non-null   object  \n",
      " 65  WoodDeckSF     1460 non-null   int64   \n",
      " 66  OpenPorchSF    1460 non-null   int64   \n",
      " 67  EnclosedPorch  1460 non-null   int64   \n",
      " 68  3SsnPorch      1460 non-null   int64   \n",
      " 69  ScreenPorch    1460 non-null   int64   \n",
      " 70  PoolArea       1460 non-null   int64   \n",
      " 71  PoolQC         7 non-null      object  \n",
      " 72  Fence          281 non-null    object  \n",
      " 73  MiscFeature    54 non-null     object  \n",
      " 74  MiscVal        1460 non-null   int64   \n",
      " 75  MoSold         1460 non-null   int64   \n",
      " 76  YrSold         1460 non-null   int64   \n",
      " 77  SaleType       1460 non-null   object  \n",
      " 78  SaleCondition  1460 non-null   object  \n",
      " 79  SalePrice      1460 non-null   int64   \n",
      "dtypes: category(1), float64(3), int64(33), object(43)\n",
      "memory usage: 914.6+ KB\n"
     ]
    }
   ],
   "source": [
    "train.info()"
   ]
  },
  {
   "cell_type": "code",
   "execution_count": 12,
   "metadata": {},
   "outputs": [
    {
     "data": {
      "text/plain": [
       "['Alley',\n",
       " 'MasVnrType',\n",
       " 'BsmtQual',\n",
       " 'BsmtCond',\n",
       " 'BsmtExposure',\n",
       " 'BsmtFinType1',\n",
       " 'BsmtFinType2',\n",
       " 'Electrical',\n",
       " 'FireplaceQu',\n",
       " 'GarageType',\n",
       " 'GarageFinish',\n",
       " 'GarageQual',\n",
       " 'GarageCond',\n",
       " 'PoolQC',\n",
       " 'Fence',\n",
       " 'MiscFeature']"
      ]
     },
     "execution_count": 12,
     "metadata": {},
     "output_type": "execute_result"
    }
   ],
   "source": [
    "cat_col_names_with_na"
   ]
  },
  {
   "cell_type": "code",
   "execution_count": 13,
   "metadata": {},
   "outputs": [],
   "source": [
    "train.Alley.fillna('No alley', inplace=True)\n",
    "train.MasVnrType.fillna('No', inplace=True)\n",
    "train.BsmtQual.fillna('No Basement', inplace=True)\n",
    "train.BsmtCond.fillna('No Basement', inplace=True)\n",
    "train.BsmtExposure.fillna('No Basement', inplace=True)\n",
    "train.BsmtFinType1.fillna('No Basement', inplace=True)\n",
    "train.BsmtFinType2.fillna('No Basement', inplace=True)\n",
    "train.FireplaceQu.fillna('No Fireplace', inplace=True)\n",
    "train.GarageType.fillna('No Garage', inplace=True)\n",
    "train.GarageFinish.fillna('No Garage', inplace=True)\n",
    "train.GarageQual.fillna('No Garage', inplace=True)\n",
    "train.GarageCond.fillna('No Garage', inplace=True)\n",
    "train.PoolQC.fillna('No Pool', inplace=True)\n",
    "train.Fence.fillna('No Fence', inplace=True)\n",
    "train.MiscFeature.fillna('No', inplace=True)"
   ]
  },
  {
   "cell_type": "code",
   "execution_count": 14,
   "metadata": {},
   "outputs": [],
   "source": [
    "train.Electrical.fillna(train.Electrical.mode()[0], inplace=True)"
   ]
  },
  {
   "cell_type": "markdown",
   "metadata": {},
   "source": [
    "### Data types"
   ]
  },
  {
   "cell_type": "markdown",
   "metadata": {},
   "source": [
    "#### object -> categorical"
   ]
  },
  {
   "cell_type": "code",
   "execution_count": 15,
   "metadata": {},
   "outputs": [
    {
     "ename": "SyntaxError",
     "evalue": "invalid syntax (<ipython-input-15-95db40fb5b25>, line 39)",
     "output_type": "error",
     "traceback": [
      "\u001b[0;36m  File \u001b[0;32m\"<ipython-input-15-95db40fb5b25>\"\u001b[0;36m, line \u001b[0;32m39\u001b[0m\n\u001b[0;31m    train. = train..astype(\"category\",\u001b[0m\n\u001b[0m           ^\u001b[0m\n\u001b[0;31mSyntaxError\u001b[0m\u001b[0;31m:\u001b[0m invalid syntax\n"
     ]
    }
   ],
   "source": [
    "train.MSZoning = train.MSZoning.astype(\"category\", \n",
    "                                       categories=['A', \n",
    "                                                   'C', \n",
    "                                                   'FV', \n",
    "                                                   'I', \n",
    "                                                   'RH', \n",
    "                                                   'RL', \n",
    "                                                   'RP', \n",
    "                                                   'RM'], \n",
    "                                       ordered=False)\n",
    "\n",
    "train.MSSubClass = train.MSSubClass.astype(\"category\", \n",
    "                                           categories=[20, 30, \n",
    "                                                       40, 45, \n",
    "                                                       50, 60, \n",
    "                                                       70, 75, \n",
    "                                                       80, 85, \n",
    "                                                       90, 120, \n",
    "                                                       150, 160, \n",
    "                                                       180, 190], \n",
    "                                           ordered=False)\n",
    "\n",
    "train.Street = train.Street.astype(\"category\", ordered=False)\n",
    "\n",
    "train.Alley = train.Alley.astype(\"category\", \n",
    "                                 ordered=False)\n",
    "\n",
    "train.LotShape = train.LotShape.astype(\"category\", \n",
    "                                       categories=['Reg', \n",
    "                                                   'IR1', \n",
    "                                                   'IR2', \n",
    "                                                   'IR3'], \n",
    "                                       ordered=False)\n",
    "\n",
    "train.LandContour = train.LandContour.astype(\"category\", \n",
    "                                       categories=[''], \n",
    "                                       ordered=True)\n",
    "\n",
    "train. = train..astype(\"category\", \n",
    "                                       categories=[], \n",
    "                                       ordered=True)\n",
    "\n",
    "train. = train..astype(\"category\", \n",
    "                                       categories=[], \n",
    "                                       ordered=True)\n",
    "\n",
    "train. = train..astype(\"category\", \n",
    "                                       categories=[], \n",
    "                                       ordered=True)\n",
    "\n",
    "train. = train..astype(\"category\", \n",
    "                                       categories=[], \n",
    "                                       ordered=True)\n",
    "\n",
    "train. = train..astype(\"category\", \n",
    "                                       categories=[], \n",
    "                                       ordered=True)\n",
    "\n",
    "train. = train..astype(\"category\", \n",
    "                                       categories=[], \n",
    "                                       ordered=True)\n"
   ]
  },
  {
   "cell_type": "code",
   "execution_count": null,
   "metadata": {},
   "outputs": [],
   "source": []
  }
 ],
 "metadata": {
  "kernelspec": {
   "display_name": "Python [conda env:LevelUp_DataScience] *",
   "language": "python",
   "name": "conda-env-LevelUp_DataScience-py"
  },
  "language_info": {
   "codemirror_mode": {
    "name": "ipython",
    "version": 3
   },
   "file_extension": ".py",
   "mimetype": "text/x-python",
   "name": "python",
   "nbconvert_exporter": "python",
   "pygments_lexer": "ipython3",
   "version": "3.8.5"
  }
 },
 "nbformat": 4,
 "nbformat_minor": 4
}
