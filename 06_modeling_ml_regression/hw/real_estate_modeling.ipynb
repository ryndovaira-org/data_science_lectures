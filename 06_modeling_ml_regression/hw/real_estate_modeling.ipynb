{
 "cells": [
  {
   "cell_type": "markdown",
   "metadata": {},
   "source": [
    "# Построение модели по данным о ценах на жилье"
   ]
  },
  {
   "cell_type": "markdown",
   "metadata": {},
   "source": [
    "## Импорт пакетов\n",
    "- `matplotlib.pyplot`, `seaborn` - рисование графиков\n",
    "- `pandas` - работа с таблицами"
   ]
  },
  {
   "cell_type": "code",
   "execution_count": 5,
   "metadata": {
    "collapsed": false,
    "jupyter": {
     "outputs_hidden": false
    },
    "pycharm": {
     "name": "#%%\n"
    }
   },
   "outputs": [],
   "source": [
    "import matplotlib.pyplot as plt\n",
    "import pylab as pl\n",
    "import seaborn as sns\n",
    "\n",
    "import pandas as pd\n",
    "\n",
    "import numpy as np\n",
    "\n",
    "# импортировать из пакета с моделями модель линейной регрессии\n",
    "from sklearn import linear_model\n",
    "\n",
    "from sklearn.metrics import r2_score, mean_squared_error\n",
    "\n",
    "from sklearn.preprocessing import PolynomialFeatures\n",
    "\n",
    "import xgboost as xg \n",
    "\n",
    "from sklearn.model_selection import train_test_split\n",
    "\n",
    "%matplotlib inline"
   ]
  },
  {
   "cell_type": "markdown",
   "metadata": {},
   "source": [
    "## Анализ данных\n",
    "\n",
    "`Daegu_Real_Estate_data.csv`\n",
    "\n",
    "[Dataset source](https://www.kaggle.com/harlfoxem/housesalesprediction)"
   ]
  },
  {
   "cell_type": "markdown",
   "metadata": {},
   "source": [
    "### Загрузка данных"
   ]
  },
  {
   "cell_type": "code",
   "execution_count": 2,
   "metadata": {
    "collapsed": false,
    "jupyter": {
     "outputs_hidden": false
    },
    "pycharm": {
     "name": "#%%\n"
    }
   },
   "outputs": [
    {
     "data": {
      "text/html": [
       "<div>\n",
       "<style scoped>\n",
       "    .dataframe tbody tr th:only-of-type {\n",
       "        vertical-align: middle;\n",
       "    }\n",
       "\n",
       "    .dataframe tbody tr th {\n",
       "        vertical-align: top;\n",
       "    }\n",
       "\n",
       "    .dataframe thead th {\n",
       "        text-align: right;\n",
       "    }\n",
       "</style>\n",
       "<table border=\"1\" class=\"dataframe\">\n",
       "  <thead>\n",
       "    <tr style=\"text-align: right;\">\n",
       "      <th></th>\n",
       "      <th>SalePrice</th>\n",
       "      <th>YearBuilt</th>\n",
       "      <th>YrSold</th>\n",
       "      <th>MonthSold</th>\n",
       "      <th>Size(sqf)</th>\n",
       "      <th>Floor</th>\n",
       "      <th>HallwayType</th>\n",
       "      <th>HeatingType</th>\n",
       "      <th>AptManageType</th>\n",
       "      <th>N_Parkinglot(Ground)</th>\n",
       "      <th>...</th>\n",
       "      <th>N_FacilitiesNearBy(Mall)</th>\n",
       "      <th>N_FacilitiesNearBy(ETC)</th>\n",
       "      <th>N_FacilitiesNearBy(Park)</th>\n",
       "      <th>N_SchoolNearBy(Elementary)</th>\n",
       "      <th>N_SchoolNearBy(Middle)</th>\n",
       "      <th>N_SchoolNearBy(High)</th>\n",
       "      <th>N_SchoolNearBy(University)</th>\n",
       "      <th>N_FacilitiesInApt</th>\n",
       "      <th>N_FacilitiesNearBy(Total)</th>\n",
       "      <th>N_SchoolNearBy(Total)</th>\n",
       "    </tr>\n",
       "  </thead>\n",
       "  <tbody>\n",
       "    <tr>\n",
       "      <th>0</th>\n",
       "      <td>141592</td>\n",
       "      <td>2006</td>\n",
       "      <td>2007</td>\n",
       "      <td>8</td>\n",
       "      <td>814</td>\n",
       "      <td>3</td>\n",
       "      <td>terraced</td>\n",
       "      <td>individual_heating</td>\n",
       "      <td>management_in_trust</td>\n",
       "      <td>111.0</td>\n",
       "      <td>...</td>\n",
       "      <td>1.0</td>\n",
       "      <td>1.0</td>\n",
       "      <td>0.0</td>\n",
       "      <td>3.0</td>\n",
       "      <td>2.0</td>\n",
       "      <td>2.0</td>\n",
       "      <td>2.0</td>\n",
       "      <td>5</td>\n",
       "      <td>6.0</td>\n",
       "      <td>9.0</td>\n",
       "    </tr>\n",
       "    <tr>\n",
       "      <th>1</th>\n",
       "      <td>51327</td>\n",
       "      <td>1985</td>\n",
       "      <td>2007</td>\n",
       "      <td>8</td>\n",
       "      <td>587</td>\n",
       "      <td>8</td>\n",
       "      <td>corridor</td>\n",
       "      <td>individual_heating</td>\n",
       "      <td>self_management</td>\n",
       "      <td>80.0</td>\n",
       "      <td>...</td>\n",
       "      <td>1.0</td>\n",
       "      <td>2.0</td>\n",
       "      <td>1.0</td>\n",
       "      <td>2.0</td>\n",
       "      <td>1.0</td>\n",
       "      <td>1.0</td>\n",
       "      <td>0.0</td>\n",
       "      <td>3</td>\n",
       "      <td>12.0</td>\n",
       "      <td>4.0</td>\n",
       "    </tr>\n",
       "    <tr>\n",
       "      <th>2</th>\n",
       "      <td>48672</td>\n",
       "      <td>1985</td>\n",
       "      <td>2007</td>\n",
       "      <td>8</td>\n",
       "      <td>587</td>\n",
       "      <td>6</td>\n",
       "      <td>corridor</td>\n",
       "      <td>individual_heating</td>\n",
       "      <td>self_management</td>\n",
       "      <td>80.0</td>\n",
       "      <td>...</td>\n",
       "      <td>1.0</td>\n",
       "      <td>2.0</td>\n",
       "      <td>1.0</td>\n",
       "      <td>2.0</td>\n",
       "      <td>1.0</td>\n",
       "      <td>1.0</td>\n",
       "      <td>0.0</td>\n",
       "      <td>3</td>\n",
       "      <td>12.0</td>\n",
       "      <td>4.0</td>\n",
       "    </tr>\n",
       "    <tr>\n",
       "      <th>3</th>\n",
       "      <td>380530</td>\n",
       "      <td>2006</td>\n",
       "      <td>2007</td>\n",
       "      <td>8</td>\n",
       "      <td>2056</td>\n",
       "      <td>8</td>\n",
       "      <td>terraced</td>\n",
       "      <td>individual_heating</td>\n",
       "      <td>management_in_trust</td>\n",
       "      <td>249.0</td>\n",
       "      <td>...</td>\n",
       "      <td>1.0</td>\n",
       "      <td>0.0</td>\n",
       "      <td>0.0</td>\n",
       "      <td>2.0</td>\n",
       "      <td>2.0</td>\n",
       "      <td>1.0</td>\n",
       "      <td>2.0</td>\n",
       "      <td>5</td>\n",
       "      <td>3.0</td>\n",
       "      <td>7.0</td>\n",
       "    </tr>\n",
       "    <tr>\n",
       "      <th>4</th>\n",
       "      <td>221238</td>\n",
       "      <td>1993</td>\n",
       "      <td>2007</td>\n",
       "      <td>8</td>\n",
       "      <td>1761</td>\n",
       "      <td>3</td>\n",
       "      <td>mixed</td>\n",
       "      <td>individual_heating</td>\n",
       "      <td>management_in_trust</td>\n",
       "      <td>523.0</td>\n",
       "      <td>...</td>\n",
       "      <td>1.0</td>\n",
       "      <td>5.0</td>\n",
       "      <td>0.0</td>\n",
       "      <td>4.0</td>\n",
       "      <td>3.0</td>\n",
       "      <td>5.0</td>\n",
       "      <td>5.0</td>\n",
       "      <td>4</td>\n",
       "      <td>14.0</td>\n",
       "      <td>17.0</td>\n",
       "    </tr>\n",
       "    <tr>\n",
       "      <th>...</th>\n",
       "      <td>...</td>\n",
       "      <td>...</td>\n",
       "      <td>...</td>\n",
       "      <td>...</td>\n",
       "      <td>...</td>\n",
       "      <td>...</td>\n",
       "      <td>...</td>\n",
       "      <td>...</td>\n",
       "      <td>...</td>\n",
       "      <td>...</td>\n",
       "      <td>...</td>\n",
       "      <td>...</td>\n",
       "      <td>...</td>\n",
       "      <td>...</td>\n",
       "      <td>...</td>\n",
       "      <td>...</td>\n",
       "      <td>...</td>\n",
       "      <td>...</td>\n",
       "      <td>...</td>\n",
       "      <td>...</td>\n",
       "      <td>...</td>\n",
       "    </tr>\n",
       "    <tr>\n",
       "      <th>5886</th>\n",
       "      <td>511504</td>\n",
       "      <td>2007</td>\n",
       "      <td>2017</td>\n",
       "      <td>8</td>\n",
       "      <td>1643</td>\n",
       "      <td>19</td>\n",
       "      <td>terraced</td>\n",
       "      <td>individual_heating</td>\n",
       "      <td>management_in_trust</td>\n",
       "      <td>0.0</td>\n",
       "      <td>...</td>\n",
       "      <td>1.0</td>\n",
       "      <td>0.0</td>\n",
       "      <td>2.0</td>\n",
       "      <td>3.0</td>\n",
       "      <td>3.0</td>\n",
       "      <td>2.0</td>\n",
       "      <td>2.0</td>\n",
       "      <td>10</td>\n",
       "      <td>9.0</td>\n",
       "      <td>10.0</td>\n",
       "    </tr>\n",
       "    <tr>\n",
       "      <th>5887</th>\n",
       "      <td>298230</td>\n",
       "      <td>2006</td>\n",
       "      <td>2017</td>\n",
       "      <td>8</td>\n",
       "      <td>903</td>\n",
       "      <td>13</td>\n",
       "      <td>terraced</td>\n",
       "      <td>individual_heating</td>\n",
       "      <td>management_in_trust</td>\n",
       "      <td>123.0</td>\n",
       "      <td>...</td>\n",
       "      <td>1.0</td>\n",
       "      <td>2.0</td>\n",
       "      <td>0.0</td>\n",
       "      <td>4.0</td>\n",
       "      <td>3.0</td>\n",
       "      <td>3.0</td>\n",
       "      <td>1.0</td>\n",
       "      <td>4</td>\n",
       "      <td>8.0</td>\n",
       "      <td>11.0</td>\n",
       "    </tr>\n",
       "    <tr>\n",
       "      <th>5888</th>\n",
       "      <td>357522</td>\n",
       "      <td>2007</td>\n",
       "      <td>2017</td>\n",
       "      <td>8</td>\n",
       "      <td>868</td>\n",
       "      <td>20</td>\n",
       "      <td>terraced</td>\n",
       "      <td>individual_heating</td>\n",
       "      <td>management_in_trust</td>\n",
       "      <td>0.0</td>\n",
       "      <td>...</td>\n",
       "      <td>1.0</td>\n",
       "      <td>0.0</td>\n",
       "      <td>2.0</td>\n",
       "      <td>3.0</td>\n",
       "      <td>3.0</td>\n",
       "      <td>2.0</td>\n",
       "      <td>2.0</td>\n",
       "      <td>10</td>\n",
       "      <td>9.0</td>\n",
       "      <td>10.0</td>\n",
       "    </tr>\n",
       "    <tr>\n",
       "      <th>5889</th>\n",
       "      <td>312389</td>\n",
       "      <td>1978</td>\n",
       "      <td>2017</td>\n",
       "      <td>8</td>\n",
       "      <td>1327</td>\n",
       "      <td>1</td>\n",
       "      <td>corridor</td>\n",
       "      <td>individual_heating</td>\n",
       "      <td>self_management</td>\n",
       "      <td>87.0</td>\n",
       "      <td>...</td>\n",
       "      <td>1.0</td>\n",
       "      <td>0.0</td>\n",
       "      <td>0.0</td>\n",
       "      <td>3.0</td>\n",
       "      <td>3.0</td>\n",
       "      <td>3.0</td>\n",
       "      <td>2.0</td>\n",
       "      <td>3</td>\n",
       "      <td>7.0</td>\n",
       "      <td>11.0</td>\n",
       "    </tr>\n",
       "    <tr>\n",
       "      <th>5890</th>\n",
       "      <td>393805</td>\n",
       "      <td>2007</td>\n",
       "      <td>2017</td>\n",
       "      <td>8</td>\n",
       "      <td>868</td>\n",
       "      <td>13</td>\n",
       "      <td>terraced</td>\n",
       "      <td>individual_heating</td>\n",
       "      <td>management_in_trust</td>\n",
       "      <td>0.0</td>\n",
       "      <td>...</td>\n",
       "      <td>1.0</td>\n",
       "      <td>0.0</td>\n",
       "      <td>2.0</td>\n",
       "      <td>3.0</td>\n",
       "      <td>3.0</td>\n",
       "      <td>2.0</td>\n",
       "      <td>2.0</td>\n",
       "      <td>10</td>\n",
       "      <td>9.0</td>\n",
       "      <td>10.0</td>\n",
       "    </tr>\n",
       "  </tbody>\n",
       "</table>\n",
       "<p>5891 rows × 30 columns</p>\n",
       "</div>"
      ],
      "text/plain": [
       "      SalePrice  YearBuilt  YrSold  MonthSold  Size(sqf)  Floor HallwayType  \\\n",
       "0        141592       2006    2007          8        814      3    terraced   \n",
       "1         51327       1985    2007          8        587      8    corridor   \n",
       "2         48672       1985    2007          8        587      6    corridor   \n",
       "3        380530       2006    2007          8       2056      8    terraced   \n",
       "4        221238       1993    2007          8       1761      3       mixed   \n",
       "...         ...        ...     ...        ...        ...    ...         ...   \n",
       "5886     511504       2007    2017          8       1643     19    terraced   \n",
       "5887     298230       2006    2017          8        903     13    terraced   \n",
       "5888     357522       2007    2017          8        868     20    terraced   \n",
       "5889     312389       1978    2017          8       1327      1    corridor   \n",
       "5890     393805       2007    2017          8        868     13    terraced   \n",
       "\n",
       "             HeatingType        AptManageType  N_Parkinglot(Ground)  ...  \\\n",
       "0     individual_heating  management_in_trust                 111.0  ...   \n",
       "1     individual_heating      self_management                  80.0  ...   \n",
       "2     individual_heating      self_management                  80.0  ...   \n",
       "3     individual_heating  management_in_trust                 249.0  ...   \n",
       "4     individual_heating  management_in_trust                 523.0  ...   \n",
       "...                  ...                  ...                   ...  ...   \n",
       "5886  individual_heating  management_in_trust                   0.0  ...   \n",
       "5887  individual_heating  management_in_trust                 123.0  ...   \n",
       "5888  individual_heating  management_in_trust                   0.0  ...   \n",
       "5889  individual_heating      self_management                  87.0  ...   \n",
       "5890  individual_heating  management_in_trust                   0.0  ...   \n",
       "\n",
       "      N_FacilitiesNearBy(Mall) N_FacilitiesNearBy(ETC)  \\\n",
       "0                          1.0                     1.0   \n",
       "1                          1.0                     2.0   \n",
       "2                          1.0                     2.0   \n",
       "3                          1.0                     0.0   \n",
       "4                          1.0                     5.0   \n",
       "...                        ...                     ...   \n",
       "5886                       1.0                     0.0   \n",
       "5887                       1.0                     2.0   \n",
       "5888                       1.0                     0.0   \n",
       "5889                       1.0                     0.0   \n",
       "5890                       1.0                     0.0   \n",
       "\n",
       "     N_FacilitiesNearBy(Park)  N_SchoolNearBy(Elementary)  \\\n",
       "0                         0.0                         3.0   \n",
       "1                         1.0                         2.0   \n",
       "2                         1.0                         2.0   \n",
       "3                         0.0                         2.0   \n",
       "4                         0.0                         4.0   \n",
       "...                       ...                         ...   \n",
       "5886                      2.0                         3.0   \n",
       "5887                      0.0                         4.0   \n",
       "5888                      2.0                         3.0   \n",
       "5889                      0.0                         3.0   \n",
       "5890                      2.0                         3.0   \n",
       "\n",
       "      N_SchoolNearBy(Middle)  N_SchoolNearBy(High) N_SchoolNearBy(University)  \\\n",
       "0                        2.0                   2.0                        2.0   \n",
       "1                        1.0                   1.0                        0.0   \n",
       "2                        1.0                   1.0                        0.0   \n",
       "3                        2.0                   1.0                        2.0   \n",
       "4                        3.0                   5.0                        5.0   \n",
       "...                      ...                   ...                        ...   \n",
       "5886                     3.0                   2.0                        2.0   \n",
       "5887                     3.0                   3.0                        1.0   \n",
       "5888                     3.0                   2.0                        2.0   \n",
       "5889                     3.0                   3.0                        2.0   \n",
       "5890                     3.0                   2.0                        2.0   \n",
       "\n",
       "      N_FacilitiesInApt  N_FacilitiesNearBy(Total)  N_SchoolNearBy(Total)  \n",
       "0                     5                        6.0                    9.0  \n",
       "1                     3                       12.0                    4.0  \n",
       "2                     3                       12.0                    4.0  \n",
       "3                     5                        3.0                    7.0  \n",
       "4                     4                       14.0                   17.0  \n",
       "...                 ...                        ...                    ...  \n",
       "5886                 10                        9.0                   10.0  \n",
       "5887                  4                        8.0                   11.0  \n",
       "5888                 10                        9.0                   10.0  \n",
       "5889                  3                        7.0                   11.0  \n",
       "5890                 10                        9.0                   10.0  \n",
       "\n",
       "[5891 rows x 30 columns]"
      ]
     },
     "execution_count": 2,
     "metadata": {},
     "output_type": "execute_result"
    }
   ],
   "source": [
    "import os\n",
    "notebook_path = os.path.abspath(\"Notebook.ipynb\")    # получить \"точку отсчета\" для поиска файла\n",
    "data_csv = os.path.join(os.path.dirname(notebook_path), \"data/Daegu_Real_Estate_data.csv\")\n",
    "df = pd.read_csv(data_csv)\n",
    "df"
   ]
  },
  {
   "cell_type": "code",
   "execution_count": 3,
   "metadata": {},
   "outputs": [
    {
     "name": "stdout",
     "output_type": "stream",
     "text": [
      "<class 'pandas.core.frame.DataFrame'>\n",
      "RangeIndex: 5891 entries, 0 to 5890\n",
      "Data columns (total 30 columns):\n",
      " #   Column                              Non-Null Count  Dtype  \n",
      "---  ------                              --------------  -----  \n",
      " 0   SalePrice                           5891 non-null   int64  \n",
      " 1   YearBuilt                           5891 non-null   int64  \n",
      " 2   YrSold                              5891 non-null   int64  \n",
      " 3   MonthSold                           5891 non-null   int64  \n",
      " 4   Size(sqf)                           5891 non-null   int64  \n",
      " 5   Floor                               5891 non-null   int64  \n",
      " 6   HallwayType                         5891 non-null   object \n",
      " 7   HeatingType                         5891 non-null   object \n",
      " 8   AptManageType                       5891 non-null   object \n",
      " 9   N_Parkinglot(Ground)                5891 non-null   float64\n",
      " 10  N_Parkinglot(Basement)              5891 non-null   float64\n",
      " 11  TimeToBusStop                       5891 non-null   object \n",
      " 12  TimeToSubway                        5891 non-null   object \n",
      " 13  N_APT                               5891 non-null   float64\n",
      " 14  N_manager                           5891 non-null   float64\n",
      " 15  N_elevators                         5891 non-null   float64\n",
      " 16  SubwayStation                       5891 non-null   object \n",
      " 17  N_FacilitiesNearBy(PublicOffice)    5891 non-null   float64\n",
      " 18  N_FacilitiesNearBy(Hospital)        5891 non-null   int64  \n",
      " 19  N_FacilitiesNearBy(Dpartmentstore)  5891 non-null   float64\n",
      " 20  N_FacilitiesNearBy(Mall)            5891 non-null   float64\n",
      " 21  N_FacilitiesNearBy(ETC)             5891 non-null   float64\n",
      " 22  N_FacilitiesNearBy(Park)            5891 non-null   float64\n",
      " 23  N_SchoolNearBy(Elementary)          5891 non-null   float64\n",
      " 24  N_SchoolNearBy(Middle)              5891 non-null   float64\n",
      " 25  N_SchoolNearBy(High)                5891 non-null   float64\n",
      " 26  N_SchoolNearBy(University)          5891 non-null   float64\n",
      " 27  N_FacilitiesInApt                   5891 non-null   int64  \n",
      " 28  N_FacilitiesNearBy(Total)           5891 non-null   float64\n",
      " 29  N_SchoolNearBy(Total)               5891 non-null   float64\n",
      "dtypes: float64(16), int64(8), object(6)\n",
      "memory usage: 1.3+ MB\n"
     ]
    }
   ],
   "source": [
    "df.info()"
   ]
  },
  {
   "cell_type": "markdown",
   "metadata": {},
   "source": [
    "## Простая линейная регрессия"
   ]
  },
  {
   "cell_type": "code",
   "execution_count": 6,
   "metadata": {},
   "outputs": [],
   "source": [
    "# разделить независимую и зависимую переменные / train и test\n",
    "y = df['SalePrice'].copy()\n",
    "X = df[['Size(sqf)']].copy()\n",
    "\n",
    "X_train, X_test, y_train, y_test = train_test_split(X, y, test_size=0.33, random_state=42)"
   ]
  },
  {
   "cell_type": "code",
   "execution_count": 7,
   "metadata": {},
   "outputs": [
    {
     "name": "stdout",
     "output_type": "stream",
     "text": [
      "Coefficients:  [194.72965485]\n",
      "Intercept:  35466.308960636845\n"
     ]
    }
   ],
   "source": [
    "simple_regr = linear_model.LinearRegression()\n",
    "simple_regr.fit(X_train, y_train)\n",
    "print('Coefficients: ', simple_regr.coef_)\n",
    "print('Intercept: ', simple_regr.intercept_)"
   ]
  },
  {
   "cell_type": "code",
   "execution_count": 8,
   "metadata": {},
   "outputs": [
    {
     "data": {
      "text/plain": [
       "Text(0, 0.5, 'price')"
      ]
     },
     "execution_count": 8,
     "metadata": {},
     "output_type": "execute_result"
    },
    {
     "data": {
      "image/png": "[encoded data removed]",
      "text/plain": [
       "<Figure size 432x288 with 1 Axes>"
      ]
     },
     "metadata": {
      "needs_background": "light"
     },
     "output_type": "display_data"
    }
   ],
   "source": [
    "plt.scatter(X_train, y_train,  color='red')\n",
    "plt.scatter(X_test, y_test,  color='yellow', alpha=0.5)\n",
    "\n",
    "plt.plot(X_train, simple_regr.coef_[0]*X_train + simple_regr.intercept_, '-g', linewidth=6)\n",
    "plt.xlabel(\"bathrooms\", fontsize=20)\n",
    "plt.ylabel(\"price\", fontsize=20)"
   ]
  },
  {
   "cell_type": "code",
   "execution_count": 9,
   "metadata": {},
   "outputs": [
    {
     "name": "stdout",
     "output_type": "stream",
     "text": [
      "R2: 0.4920533642120909\n",
      "MSE: 5591073115.885193\n"
     ]
    }
   ],
   "source": [
    "y_predicted = simple_regr.predict(X_test)\n",
    "\n",
    "print(f'R2: {r2_score(y_test, y_predicted)}')\n",
    "print(f\"MSE: {mean_squared_error(y_test, y_predicted, squared=True)}\")"
   ]
  },
  {
   "cell_type": "markdown",
   "metadata": {},
   "source": [
    "## Множественная линейная регрессия (N-D)"
   ]
  },
  {
   "cell_type": "code",
   "execution_count": 10,
   "metadata": {},
   "outputs": [],
   "source": [
    "# выбрать даннные для обучения / предсказания\n",
    "y = df['SalePrice'].copy()\n",
    "X = df[['Size(sqf)', 'N_FacilitiesInApt', 'N_Parkinglot(Basement)']].copy()\n",
    "\n",
    "X_train, X_test, y_train, y_test = train_test_split(X, y, test_size=0.33, random_state=42)"
   ]
  },
  {
   "cell_type": "code",
   "execution_count": 11,
   "metadata": {},
   "outputs": [
    {
     "name": "stdout",
     "output_type": "stream",
     "text": [
      "Coefficients:  [1.77700140e+02 1.74656128e+04 1.32813758e+01]\n",
      "Intercept:  -56854.566231458884\n",
      "R2: 0.656401974110501\n",
      "MSE: 3782054156.618415\n"
     ]
    }
   ],
   "source": [
    "multiple_regr = linear_model.LinearRegression()\n",
    "multiple_regr.fit(X_train, y_train)\n",
    "\n",
    "print('Coefficients: ', multiple_regr.coef_)\n",
    "print('Intercept: ', multiple_regr.intercept_)\n",
    "\n",
    "y_predicted = multiple_regr.predict(X_test)\n",
    "\n",
    "print(f'R2: {r2_score(y_test, y_predicted)}')\n",
    "print(f\"MSE: {mean_squared_error(y_test, y_predicted, squared=True)}\")"
   ]
  },
  {
   "cell_type": "markdown",
   "metadata": {},
   "source": [
    "---"
   ]
  },
  {
   "cell_type": "code",
   "execution_count": 17,
   "metadata": {},
   "outputs": [
    {
     "name": "stdout",
     "output_type": "stream",
     "text": [
      "<class 'pandas.core.frame.DataFrame'>\n",
      "RangeIndex: 5891 entries, 0 to 5890\n",
      "Data columns (total 24 columns):\n",
      " #   Column                              Non-Null Count  Dtype  \n",
      "---  ------                              --------------  -----  \n",
      " 0   SalePrice                           5891 non-null   int64  \n",
      " 1   YearBuilt                           5891 non-null   int64  \n",
      " 2   YrSold                              5891 non-null   int64  \n",
      " 3   MonthSold                           5891 non-null   int64  \n",
      " 4   Size(sqf)                           5891 non-null   int64  \n",
      " 5   Floor                               5891 non-null   int64  \n",
      " 6   N_Parkinglot(Ground)                5891 non-null   float64\n",
      " 7   N_Parkinglot(Basement)              5891 non-null   float64\n",
      " 8   N_APT                               5891 non-null   float64\n",
      " 9   N_manager                           5891 non-null   float64\n",
      " 10  N_elevators                         5891 non-null   float64\n",
      " 11  N_FacilitiesNearBy(PublicOffice)    5891 non-null   float64\n",
      " 12  N_FacilitiesNearBy(Hospital)        5891 non-null   int64  \n",
      " 13  N_FacilitiesNearBy(Dpartmentstore)  5891 non-null   float64\n",
      " 14  N_FacilitiesNearBy(Mall)            5891 non-null   float64\n",
      " 15  N_FacilitiesNearBy(ETC)             5891 non-null   float64\n",
      " 16  N_FacilitiesNearBy(Park)            5891 non-null   float64\n",
      " 17  N_SchoolNearBy(Elementary)          5891 non-null   float64\n",
      " 18  N_SchoolNearBy(Middle)              5891 non-null   float64\n",
      " 19  N_SchoolNearBy(High)                5891 non-null   float64\n",
      " 20  N_SchoolNearBy(University)          5891 non-null   float64\n",
      " 21  N_FacilitiesInApt                   5891 non-null   int64  \n",
      " 22  N_FacilitiesNearBy(Total)           5891 non-null   float64\n",
      " 23  N_SchoolNearBy(Total)               5891 non-null   float64\n",
      "dtypes: float64(16), int64(8)\n",
      "memory usage: 1.1 MB\n"
     ]
    }
   ],
   "source": [
    "df_num = df.select_dtypes(include=[np.number])\n",
    "df_num.info()"
   ]
  },
  {
   "cell_type": "code",
   "execution_count": 19,
   "metadata": {},
   "outputs": [
    {
     "name": "stdout",
     "output_type": "stream",
     "text": [
      "<class 'pandas.core.frame.DataFrame'>\n",
      "RangeIndex: 5891 entries, 0 to 5890\n",
      "Data columns (total 6 columns):\n",
      " #   Column         Non-Null Count  Dtype \n",
      "---  ------         --------------  ----- \n",
      " 0   HallwayType    5891 non-null   object\n",
      " 1   HeatingType    5891 non-null   object\n",
      " 2   AptManageType  5891 non-null   object\n",
      " 3   TimeToBusStop  5891 non-null   object\n",
      " 4   TimeToSubway   5891 non-null   object\n",
      " 5   SubwayStation  5891 non-null   object\n",
      "dtypes: object(6)\n",
      "memory usage: 276.3+ KB\n"
     ]
    }
   ],
   "source": [
    "df_obj = df.select_dtypes(exclude=[np.number])\n",
    "df_obj.info()"
   ]
  },
  {
   "cell_type": "code",
   "execution_count": 23,
   "metadata": {},
   "outputs": [
    {
     "data": {
      "text/plain": [
       "<bound method IndexOpsMixin.tolist of Index(['HallwayType', 'HeatingType', 'AptManageType', 'TimeToBusStop',\n",
       "       'TimeToSubway', 'SubwayStation'],\n",
       "      dtype='object')>"
      ]
     },
     "execution_count": 23,
     "metadata": {},
     "output_type": "execute_result"
    }
   ],
   "source": [
    "df_obj.columns"
   ]
  },
  {
   "cell_type": "code",
   "execution_count": 29,
   "metadata": {},
   "outputs": [],
   "source": [
    "# разделить независимую и зависимую переменные / train и test\n",
    "y = df['SalePrice'].copy()\n",
    "X = df.drop(['SalePrice'], axis=1)\n",
    "X = X.drop(df_obj.columns, axis=1)\n",
    "X_train, X_test, y_train, y_test = train_test_split(X, y, test_size=0.33, random_state=42)"
   ]
  },
  {
   "cell_type": "code",
   "execution_count": 30,
   "metadata": {},
   "outputs": [
    {
     "name": "stdout",
     "output_type": "stream",
     "text": [
      "Coefficients:  [  1020.97952248  12298.73093069   2146.58433201    166.11741217\n",
      "   1135.0036352      48.9352802      98.08737729  -9004.34477137\n",
      "  -4108.74639346   1413.09997062   2138.50923581 -16882.64277154\n",
      "  35108.52885044 -16140.14871111  11838.29265656 -22164.98075753\n",
      "  -7623.92437415   2832.03076687   8872.09717354  -5617.82176413\n",
      "  10325.02904244  -6102.44149737  -1537.61819786]\n",
      "Intercept:  -26754040.053671937\n",
      "R2: 0.8579561677007929\n",
      "MSE: 1563505683.6502156\n"
     ]
    }
   ],
   "source": [
    "multiple_regr = linear_model.LinearRegression()\n",
    "multiple_regr.fit(X_train, y_train)\n",
    "\n",
    "print('Coefficients: ', multiple_regr.coef_)\n",
    "print('Intercept: ', multiple_regr.intercept_)\n",
    "\n",
    "y_predicted = multiple_regr.predict(X_test)\n",
    "\n",
    "print(f'R2: {r2_score(y_test, y_predicted)}')\n",
    "print(f\"MSE: {mean_squared_error(y_test, y_predicted, squared=True)}\")"
   ]
  },
  {
   "cell_type": "markdown",
   "metadata": {},
   "source": [
    "## XGBoost for Regression"
   ]
  },
  {
   "cell_type": "code",
   "execution_count": 45,
   "metadata": {},
   "outputs": [
    {
     "name": "stdout",
     "output_type": "stream",
     "text": [
      "R2: 0.9792919717275327\n",
      "MSE: 227937527.2908114\n"
     ]
    }
   ],
   "source": [
    "xgb_r = xg.XGBRegressor(n_estimators=750, \n",
    "                        learning_rate=0.05, \n",
    "                        max_depth=5) \n",
    "\n",
    "# Fitting the model \n",
    "xgb_r.fit(X_train, y_train) \n",
    "\n",
    "# Predict the model \n",
    "y_predicted = xgb_r.predict(X_test) \n",
    "\n",
    "# вывести результаты оценки предсказания\n",
    "print(f'R2: {r2_score(y_test, y_predicted)}')\n",
    "print(f\"MSE: {mean_squared_error(y_test, y_predicted, squared=True)}\")"
   ]
  }
 ],
 "metadata": {
  "kernelspec": {
   "display_name": "Python 3",
   "language": "python",
   "name": "python3"
  },
  "language_info": {
   "codemirror_mode": {
    "name": "ipython",
    "version": 3
   },
   "file_extension": ".py",
   "mimetype": "text/x-python",
   "name": "python",
   "nbconvert_exporter": "python",
   "pygments_lexer": "ipython3",
   "version": "3.8.3"
  }
 },
 "nbformat": 4,
 "nbformat_minor": 4
}