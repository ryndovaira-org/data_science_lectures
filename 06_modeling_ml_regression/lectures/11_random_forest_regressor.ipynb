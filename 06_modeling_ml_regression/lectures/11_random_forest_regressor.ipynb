{
 "cells": [
  {
   "cell_type": "markdown",
   "metadata": {},
   "source": [
    "# Random Forest Regressor"
   ]
  },
  {
   "cell_type": "markdown",
   "metadata": {},
   "source": [
    "---\n",
    "\n",
    "**Источники:**\n",
    "\n",
    "[sklearn.ensemble.RandomForestRegressor](https://scikit-learn.org/stable/modules/generated/sklearn.ensemble.RandomForestRegressor.html)\n",
    "\n",
    "[1.11.2. Forests of randomized trees](https://scikit-learn.org/stable/modules/ensemble.html#forest)\n",
    "\n",
    "\n",
    "[Random Forest Regression](https://medium.com/swlh/random-forest-and-its-implementation-71824ced454f)\n",
    "\n",
    "[Painless Random Forest Regression in Python – Step-by-Step with Sklearn](https://onestopdataanalysis.com/python-random-forest-regression/)\n",
    "\n",
    "---\n"
   ]
  },
  {
   "cell_type": "markdown",
   "source": [
    "## Подготовка окружения"
   ],
   "metadata": {
    "collapsed": false
   }
  },
  {
   "cell_type": "code",
   "execution_count": null,
   "outputs": [],
   "source": [
    "# ВНИМАНИЕ: необходимо удостовериться, что виртуальная среда выбрана правильно!\n",
    "\n",
    "# Для MacOS/Ubuntu\n",
    "# !which pip\n",
    "\n",
    "# Для Windows\n",
    "# !where pip"
   ],
   "metadata": {
    "collapsed": false,
    "pycharm": {
     "name": "#%%\n"
    }
   }
  },
  {
   "cell_type": "code",
   "execution_count": null,
   "outputs": [],
   "source": [
    "# !conda install matplotlib numpy scikit-learn seaborn -y"
   ],
   "metadata": {
    "collapsed": false,
    "pycharm": {
     "name": "#%%\n"
    }
   }
  },
  {
   "cell_type": "code",
   "execution_count": null,
   "outputs": [],
   "source": [
    "import numpy as np\n",
    "\n",
    "np.__version__"
   ],
   "metadata": {
    "collapsed": false,
    "pycharm": {
     "name": "#%%\n"
    }
   }
  },
  {
   "cell_type": "code",
   "execution_count": null,
   "outputs": [],
   "source": [
    "import pandas as pd\n",
    "\n",
    "pd.__version__"
   ],
   "metadata": {
    "collapsed": false,
    "pycharm": {
     "name": "#%%\n"
    }
   }
  },
  {
   "cell_type": "code",
   "execution_count": null,
   "outputs": [],
   "source": [
    "import matplotlib\n",
    "import matplotlib.pyplot as plt\n",
    "\n",
    "matplotlib.__version__"
   ],
   "metadata": {
    "collapsed": false,
    "pycharm": {
     "name": "#%%\n"
    }
   }
  },
  {
   "cell_type": "code",
   "execution_count": null,
   "outputs": [],
   "source": [
    "import seaborn as sns\n",
    "\n",
    "sns.__version__"
   ],
   "metadata": {
    "collapsed": false,
    "pycharm": {
     "name": "#%%\n"
    }
   }
  },
  {
   "cell_type": "markdown",
   "source": [
    "## Загрузка данных\n",
    "\n",
    "[Источник (FuelConsumption)](https://open.canada.ca/data/en/dataset/98f1a129-f628-4ce4-b24d-6f16bf24dd64)"
   ],
   "metadata": {
    "collapsed": false
   }
  },
  {
   "cell_type": "code",
   "execution_count": null,
   "outputs": [],
   "source": [
    "df = pd.read_csv(\"./../../data/FuelConsumptionCo2.csv\")\n",
    "df"
   ],
   "metadata": {
    "collapsed": false,
    "pycharm": {
     "name": "#%%\n"
    }
   }
  },
  {
   "cell_type": "markdown",
   "source": [
    "## Разделение данных"
   ],
   "metadata": {
    "collapsed": false
   }
  },
  {
   "cell_type": "code",
   "execution_count": null,
   "outputs": [],
   "source": [
    "from sklearn.model_selection import train_test_split\n",
    "\n",
    "y = df['CO2EMISSIONS'].copy()\n",
    "X = df[['ENGINESIZE']].copy()\n",
    "\n",
    "X_train, X_test, y_train, y_test = train_test_split(X, y, test_size=0.33, random_state=42)"
   ],
   "metadata": {
    "collapsed": false,
    "pycharm": {
     "name": "#%%\n"
    }
   }
  },
  {
   "cell_type": "markdown",
   "metadata": {},
   "source": [
    "<center><img src=\"images/random_forest.png\"/></center>\n",
    "\n",
    "---"
   ]
  },
  {
   "cell_type": "markdown",
   "metadata": {},
   "source": [
    "<center><img src=\"images/random_forest_2.png\"/></center>"
   ]
  },
  {
   "cell_type": "markdown",
   "metadata": {},
   "source": [
    "<center><img src=\"images/random_forest_regression_line.png\"/></center>"
   ]
  },
  {
   "cell_type": "markdown",
   "metadata": {},
   "source": [
    "## Обучение модели (Train)"
   ]
  },
  {
   "cell_type": "code",
   "execution_count": 3,
   "metadata": {},
   "outputs": [],
   "source": [
    "# разделить независимую и зависимую переменные / train и test\n",
    "\n",
    "from sklearn.model_selection import train_test_split\n",
    "\n",
    "y = df['CO2EMISSIONS'].copy()\n",
    "X = df.drop(['CO2EMISSIONS', 'MAKE', 'MODEL', 'VEHICLECLASS', 'TRANSMISSION', 'FUELTYPE'], axis=1)\n",
    "X_train, X_test, y_train, y_test = train_test_split(X, y, test_size=0.33, random_state=42)"
   ]
  },
  {
   "cell_type": "markdown",
   "metadata": {},
   "source": [
    "### Параметры RandomForestRegressor\n",
    "\n",
    "- `n_estimators: int, default=100`\n",
    "    - Количество деревьев в лесу.\n",
    "    \n",
    "    \n",
    "- `criterion: {\"mse\", \"mae\"}, default=\"mse\"`\n",
    "    - Функция измерения качества разделения.\n",
    "    - Поддерживаемые критерии: `\"mse\"` для среднеквадратичной ошибки, которая равна уменьшению дисперсии в качестве критерия выбора признаков, и `\"mae\"` для средней абсолютной ошибки.\n",
    "    \n",
    "    \n",
    "- `max_depth: int, default=None`\n",
    "    - Максимальная глубина дерева.\n",
    "    - Если `None`, то узлы расширяются до тех пор, пока все листья не станут чистыми или пока все листья не будут содержать менее `min_samples_split` выборок.\n",
    "    \n",
    "   \n",
    "- `min_samples_split: int или float, default=2`\n",
    "    - Минимальное количество выборок, необходимое для разделения внутреннего узла:\n",
    "        - Если `int`, то считает `min_samples_split` минимальным числом.\n",
    "        - Если `float`, то `min_samples_split` - это дробь, а `ceil(min_samples_split * n_samples)` - минимальное количество выборок для каждого разделения.\n",
    "        \n",
    "        \n",
    "- `min_samples_leaf: int or float, default=1`\n",
    "    - Минимальное количество выборок, которое требуется для конечного узла.\n",
    "    - Точка разделения на любой глубине будет учитываться только в том случае, если она оставляет не менее `min_samples_leaf` обучающих выборок в каждой из левой и правой ветвей. Это может иметь эффект сглаживания модели, особенно при регрессии.\n",
    "    - Если `int`, то считает `min_samples_leaf` минимальным числом.\n",
    "    - Если `float`, то `min_samples_leaf` - дробная часть, а `ceil(min_samples_leaf * n_samples)` - минимальное количество выборок для каждого узла.\n",
    "    \n",
    "    \n",
    "- `min_weight_fraction_leaf: float, default=0.0`\n",
    "\n",
    "\n",
    "- `max_features: {\"auto\", \"sqrt\", \"log2\"}, int or float, default=\"auto\"`\n",
    "\n",
    "\n",
    "- `max_leaf_nodes: int, default=None`\n",
    "    - Выращиевает деревья с `max_leaf_nodes` способом \"лучший первый\" (best-first).\n",
    "    - Лучшие узлы определяются как относительное уменьшение \"загрязнения\" (impurity).\n",
    "    - Если `None`, то неограниченное количество конечных узлов.\n",
    "    \n",
    "\n",
    "- `min_impurity_decrease: float, default=0.0`\n",
    "\n",
    "\n",
    "- `min_impurity_split: float, default=None`\n",
    "\n",
    "\n",
    "- `bootstrap: bool, default=True`\n",
    "\n",
    "\n",
    "- `oob_score: bool, default=False`\n",
    "\n",
    "\n",
    "- `n_jobs: int, default=None`\n",
    "\n",
    "\n",
    "- `random_state: int, RandomState instance or None, default=None`\n",
    "    - Управляет как рандомизацией bootstrapping выборок, используемых при построении деревьев (если bootstrap = True), так и выборкой признаков, которые следует учитывать при поиске наилучшего разделения на каждом узле (если max_features < n_features).\n",
    "    \n",
    "  \n",
    "- `verbose: int, default=0`\n",
    "\n",
    "\n",
    "- `warm_start: bool, default=False`\n",
    "\n",
    "\n",
    "- `ccp_alpha: non-negative float, default=0.0`\n",
    "\n",
    "\n",
    "- `max_samples: int or float, default=None`"
   ]
  },
  {
   "cell_type": "code",
   "execution_count": 4,
   "metadata": {},
   "outputs": [
    {
     "data": {
      "text/plain": [
       "RandomForestRegressor(max_depth=2, random_state=0)"
      ]
     },
     "execution_count": 4,
     "metadata": {},
     "output_type": "execute_result"
    }
   ],
   "source": [
    "# импортировать пакет RandomForestRegressor\n",
    "from sklearn.ensemble import RandomForestRegressor\n",
    "\n",
    "# создать объект RandomForestRegressor\n",
    "rf_regr = RandomForestRegressor(n_estimators=100, max_depth=2, random_state=0)\n",
    "\n",
    "# обучить модель\n",
    "rf_regr.fit(X_train, y_train)"
   ]
  },
  {
   "cell_type": "markdown",
   "metadata": {},
   "source": [
    "## Оценка качества модели (Evaluation)"
   ]
  },
  {
   "cell_type": "code",
   "execution_count": 5,
   "metadata": {},
   "outputs": [
    {
     "name": "stdout",
     "output_type": "stream",
     "text": [
      "Variance score: 0.8438556908426182\n",
      "Residual sum of squares: 635.8620434467712\n"
     ]
    }
   ],
   "source": [
    "# использовать обученную модель для предсказания на test выборке\n",
    "y_predicted = rf_regr.predict(X_test)\n",
    "\n",
    "# вывести результаты предсказания\n",
    "print(f'Variance score: {rf_regr.score(X_test, y_test)}')    # Coefficient of determination R^2 of the prediction\n",
    "print(f\"Residual sum of squares: {np.mean((y_predicted - y_test) ** 2)}\")    # MSE"
   ]
  },
  {
   "cell_type": "code",
   "execution_count": 6,
   "metadata": {},
   "outputs": [
    {
     "data": {
      "text/plain": [
       "0.8438556908426182"
      ]
     },
     "execution_count": 6,
     "metadata": {},
     "output_type": "execute_result"
    }
   ],
   "source": [
    "from sklearn.metrics import r2_score\n",
    "\n",
    "r2_score(y_true=y_test, y_pred=y_predicted)"
   ]
  },
  {
   "cell_type": "code",
   "execution_count": 7,
   "metadata": {},
   "outputs": [
    {
     "data": {
      "text/plain": [
       "635.8620434467714"
      ]
     },
     "execution_count": 7,
     "metadata": {},
     "output_type": "execute_result"
    }
   ],
   "source": [
    "from sklearn.metrics import mean_squared_error\n",
    "\n",
    "# MSE\n",
    "mean_squared_error(y_test, y_predicted, squared=True)"
   ]
  }
 ],
 "metadata": {
  "kernelspec": {
   "display_name": "Python [conda env:LevelUp_DataScience] *",
   "language": "python",
   "name": "conda-env-LevelUp_DataScience-py"
  },
  "language_info": {
   "codemirror_mode": {
    "name": "ipython",
    "version": 3
   },
   "file_extension": ".py",
   "mimetype": "text/x-python",
   "name": "python",
   "nbconvert_exporter": "python",
   "pygments_lexer": "ipython3",
   "version": "3.8.5"
  }
 },
 "nbformat": 4,
 "nbformat_minor": 4
}