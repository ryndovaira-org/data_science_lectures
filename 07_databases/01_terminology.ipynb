{
 "cells": [
  {
   "cell_type": "markdown",
   "id": "bab50a8f-216e-4e2e-b040-d638e33c7ba5",
   "metadata": {},
   "source": [
    "[Теорема CAP](https://ru.wikipedia.org/wiki/%D0%A2%D0%B5%D0%BE%D1%80%D0%B5%D0%BC%D0%B0_CAP)\n",
    "\n",
    "[CRUD](https://ru.wikipedia.org/wiki/CRUD)"
   ]
  },
  {
   "cell_type": "markdown",
   "id": "e1798dde-db45-4e88-81b3-c9b8d1c20a1e",
   "metadata": {},
   "source": [
    "## CRUD\n",
    "\n",
    "CRUD — акроним, обозначающий четыре базовые функции, используемые при работе с базами данных: \n",
    "- создание (англ. create)\n",
    "- чтение (read)\n",
    "- модификация (update)\n",
    "- удаление (delete). \n",
    "\n",
    "Введён Джеймсом Мартином (англ. James Martin) в 1983 году как стандартная классификация функций по манипуляции данными.\n",
    "\n",
    "В SQL этим функциям, операциям соответствуют операторы \n",
    "- Insert (создание записей)\n",
    "- Select (чтение записей)\n",
    "- Update (редактирование записей)\n",
    "- Delete (удаление записей). \n",
    "\n",
    "В некоторых CASE-средствах использовались специализированные CRUD-матрицы или CRUD-диаграммы, в которых для каждой сущности указывалось, какие базовые функции с этой сущностью выполняет тот или иной процесс или та или иная роль. В системах, реализующих доступ к базе данных через API в стиле REST, эти функции реализуются зачастую (но не обязательно) через HTTP-методы PUT, POST, GET, PATCH, DELETE.\n",
    "\n",
    "Хотя традиционно оперирование в стиле CRUD применяется к базам данных, такой подход может быть распространён на любые хранимые вычислительные сущности (файлы, структуры в памяти, объекты). Шаблон проектирования ActiveRecord обеспечивает соответствие функций CRUD объектно-ориентированному подходу, и широко используется в различных фреймворках для доступа к базам данных из объектно-ориентированных языков программирования."
   ]
  },
  {
   "cell_type": "markdown",
   "id": "71a4c090-45ec-4b90-9778-497f429c7596",
   "metadata": {
    "tags": []
   },
   "source": [
    "## Теорема CAP (теорема Брюера)"
   ]
  },
  {
   "cell_type": "markdown",
   "id": "21b2d922-3f8a-467d-9a67-fa05ff688d99",
   "metadata": {},
   "source": [
    "## Horizontal (scale out) and vertical scaling (scale up)"
   ]
  },
  {
   "cell_type": "markdown",
   "id": "10165c08-0eac-4a7c-a3f8-47cafdc49795",
   "metadata": {},
   "source": [
    "## Data warehouse (DW or DWH) or Enterprise data warehouse (EDW)"
   ]
  },
  {
   "cell_type": "markdown",
   "id": "bdeafa95-2187-45f9-9d4d-82b4c5965e7c",
   "metadata": {},
   "source": [
    "## Database (DB) vs. Database management system (DBMS)"
   ]
  },
  {
   "cell_type": "markdown",
   "id": "c9339949-cfbf-42d4-8924-4d4e9880d71e",
   "metadata": {},
   "source": [
    "## Transactions"
   ]
  },
  {
   "cell_type": "markdown",
   "id": "7c01788f-9151-422f-9c42-30359ecad202",
   "metadata": {},
   "source": [
    "## Online analytical processing (OLAP)"
   ]
  },
  {
   "cell_type": "markdown",
   "id": "a15ae704-51ff-4dcc-92dd-8255ee46123a",
   "metadata": {},
   "source": [
    "## Online transaction processing (OLTP)"
   ]
  }
 ],
 "metadata": {
  "kernelspec": {
   "display_name": "Python [conda env:data-science-course-original] *",
   "language": "python",
   "name": "conda-env-data-science-course-original-py"
  },
  "language_info": {
   "codemirror_mode": {
    "name": "ipython",
    "version": 3
   },
   "file_extension": ".py",
   "mimetype": "text/x-python",
   "name": "python",
   "nbconvert_exporter": "python",
   "pygments_lexer": "ipython3",
   "version": "3.10.4"
  }
 },
 "nbformat": 4,
 "nbformat_minor": 5
}
