{
 "cells": [
  {
   "cell_type": "markdown",
   "source": [
    "# Снижение размерности (Dimensionality reduction)\n",
    " — это преобразование данных, состоящее в уменьшении числа переменных путём получения главных переменных.\n",
    "Преобразование может быть разделено на отбор признаков и выделение признаков."
   ],
   "metadata": {
    "collapsed": false
   }
  },
  {
   "cell_type": "markdown",
   "source": [
    "---\n",
    "\n",
    "\n",
    "**Тип**:\n",
    "\n",
    "Обучение без учителя (unsupervised learning).\n",
    "\n",
    "---\n",
    "\n",
    "**Примеры использования**:\n",
    "\n",
    "-\n",
    "\n",
    "---\n",
    "\n",
    "**Дано**:\n",
    "\n",
    "Признаки (features).\n",
    "\n",
    "Примеры:\n",
    "- возраст\n",
    "- площадь\n",
    "- температура тела\n",
    "- средний доход\n",
    "- объем\n",
    "- цвет\n",
    "- число покупок\n",
    "\n",
    "---\n",
    "\n",
    "**Результат**:\n",
    "\n",
    "\n",
    "\n",
    "Примеры:\n",
    "-\n",
    "\n",
    "---\n",
    "\n",
    "**Модели:**\n",
    "\n",
    "-\n"
   ],
   "metadata": {
    "collapsed": false
   }
  }
 ],
 "metadata": {
  "kernelspec": {
   "display_name": "Python 3",
   "language": "python",
   "name": "python3"
  },
  "language_info": {
   "codemirror_mode": {
    "name": "ipython",
    "version": 2
   },
   "file_extension": ".py",
   "mimetype": "text/x-python",
   "name": "python",
   "nbconvert_exporter": "python",
   "pygments_lexer": "ipython2",
   "version": "2.7.6"
  }
 },
 "nbformat": 4,
 "nbformat_minor": 0
}