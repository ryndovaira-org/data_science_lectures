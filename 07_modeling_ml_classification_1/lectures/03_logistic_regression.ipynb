{
 "cells": [
  {
   "cell_type": "markdown",
   "metadata": {
    "jupyter": {
     "outputs_hidden": true
    }
   },
   "source": [
    "# Логистическая регрессия (Logistic Regression)"
   ]
  },
  {
   "cell_type": "markdown",
   "metadata": {},
   "source": [
    "---\n",
    "\n",
    "**Источники:**\n",
    "\n",
    "\n",
    "[]()\n",
    "\n",
    "---"
   ]
  },
  {
   "cell_type": "markdown",
   "metadata": {},
   "source": [
    "## Подготовка окружения"
   ]
  },
  {
   "cell_type": "code",
   "execution_count": 1,
   "metadata": {
    "collapsed": false,
    "jupyter": {
     "outputs_hidden": false
    },
    "pycharm": {
     "name": "#%%\n"
    }
   },
   "outputs": [],
   "source": [
    "# ВНИМАНИЕ: необходимо удостовериться, что виртуальная среда выбрана правильно!\n",
    "\n",
    "# Для MacOS/Ubuntu\n",
    "# !which pip\n",
    "\n",
    "# Для Windows\n",
    "# !where pip"
   ]
  },
  {
   "cell_type": "code",
   "execution_count": 2,
   "metadata": {
    "collapsed": false,
    "jupyter": {
     "outputs_hidden": false
    },
    "pycharm": {
     "name": "#%%\n"
    }
   },
   "outputs": [],
   "source": [
    "# !conda install matplotlib numpy scikit-learn seaborn -y"
   ]
  },
  {
   "cell_type": "code",
   "execution_count": 3,
   "metadata": {
    "collapsed": false,
    "jupyter": {
     "outputs_hidden": false
    },
    "pycharm": {
     "name": "#%%\n"
    }
   },
   "outputs": [
    {
     "data": {
      "text/plain": [
       "'1.19.2'"
      ]
     },
     "execution_count": 3,
     "metadata": {},
     "output_type": "execute_result"
    }
   ],
   "source": [
    "import numpy as np\n",
    "\n",
    "np.__version__"
   ]
  },
  {
   "cell_type": "code",
   "execution_count": 4,
   "metadata": {
    "collapsed": false,
    "jupyter": {
     "outputs_hidden": false
    },
    "pycharm": {
     "name": "#%%\n"
    }
   },
   "outputs": [
    {
     "data": {
      "text/plain": [
       "'1.2.3'"
      ]
     },
     "execution_count": 4,
     "metadata": {},
     "output_type": "execute_result"
    }
   ],
   "source": [
    "import pandas as pd\n",
    "\n",
    "pd.__version__"
   ]
  },
  {
   "cell_type": "code",
   "execution_count": 5,
   "metadata": {
    "collapsed": false,
    "jupyter": {
     "outputs_hidden": false
    },
    "pycharm": {
     "name": "#%%\n"
    }
   },
   "outputs": [
    {
     "data": {
      "text/plain": [
       "'3.3.4'"
      ]
     },
     "execution_count": 5,
     "metadata": {},
     "output_type": "execute_result"
    }
   ],
   "source": [
    "import matplotlib\n",
    "import matplotlib.pyplot as plt\n",
    "\n",
    "matplotlib.__version__"
   ]
  },
  {
   "cell_type": "code",
   "execution_count": 6,
   "metadata": {
    "collapsed": false,
    "jupyter": {
     "outputs_hidden": false
    },
    "pycharm": {
     "name": "#%%\n"
    }
   },
   "outputs": [
    {
     "data": {
      "text/plain": [
       "'0.11.1'"
      ]
     },
     "execution_count": 6,
     "metadata": {},
     "output_type": "execute_result"
    }
   ],
   "source": [
    "import seaborn as sns\n",
    "\n",
    "sns.__version__"
   ]
  },
  {
   "cell_type": "code",
   "execution_count": 7,
   "metadata": {
    "collapsed": false,
    "jupyter": {
     "outputs_hidden": false
    },
    "pycharm": {
     "name": "#%%\n"
    }
   },
   "outputs": [
    {
     "data": {
      "text/plain": [
       "'0.24.1'"
      ]
     },
     "execution_count": 7,
     "metadata": {},
     "output_type": "execute_result"
    }
   ],
   "source": [
    "import sklearn\n",
    "\n",
    "sklearn.__version__"
   ]
  },
  {
   "cell_type": "markdown",
   "metadata": {},
   "source": [
    "## Загрузка данных\n",
    "\n",
    "[Источник (CustomerChurnRate)](https://www.kaggle.com/gangliu/customerchurnrate)."
   ]
  },
  {
   "cell_type": "code",
   "execution_count": 8,
   "metadata": {
    "collapsed": false,
    "jupyter": {
     "outputs_hidden": false
    },
    "pycharm": {
     "name": "#%%\n"
    }
   },
   "outputs": [
    {
     "data": {
      "text/html": [
       "<div>\n",
       "<style scoped>\n",
       "    .dataframe tbody tr th:only-of-type {\n",
       "        vertical-align: middle;\n",
       "    }\n",
       "\n",
       "    .dataframe tbody tr th {\n",
       "        vertical-align: top;\n",
       "    }\n",
       "\n",
       "    .dataframe thead th {\n",
       "        text-align: right;\n",
       "    }\n",
       "</style>\n",
       "<table border=\"1\" class=\"dataframe\">\n",
       "  <thead>\n",
       "    <tr style=\"text-align: right;\">\n",
       "      <th></th>\n",
       "      <th>tenure</th>\n",
       "      <th>age</th>\n",
       "      <th>address</th>\n",
       "      <th>income</th>\n",
       "      <th>ed</th>\n",
       "      <th>employ</th>\n",
       "      <th>equip</th>\n",
       "      <th>callcard</th>\n",
       "      <th>wireless</th>\n",
       "      <th>longmon</th>\n",
       "      <th>tollmon</th>\n",
       "      <th>equipmon</th>\n",
       "      <th>cardmon</th>\n",
       "      <th>wiremon</th>\n",
       "      <th>longten</th>\n",
       "      <th>tollten</th>\n",
       "      <th>cardten</th>\n",
       "      <th>voice</th>\n",
       "      <th>pager</th>\n",
       "      <th>internet</th>\n",
       "      <th>callwait</th>\n",
       "      <th>confer</th>\n",
       "      <th>ebill</th>\n",
       "      <th>loglong</th>\n",
       "      <th>logtoll</th>\n",
       "      <th>lninc</th>\n",
       "      <th>custcat</th>\n",
       "      <th>churn</th>\n",
       "    </tr>\n",
       "  </thead>\n",
       "  <tbody>\n",
       "    <tr>\n",
       "      <th>0</th>\n",
       "      <td>11.00</td>\n",
       "      <td>33.00</td>\n",
       "      <td>7.00</td>\n",
       "      <td>136.00</td>\n",
       "      <td>5.00</td>\n",
       "      <td>5.00</td>\n",
       "      <td>0.00</td>\n",
       "      <td>1.00</td>\n",
       "      <td>1.00</td>\n",
       "      <td>4.40</td>\n",
       "      <td>20.75</td>\n",
       "      <td>0.00</td>\n",
       "      <td>15.25</td>\n",
       "      <td>35.70</td>\n",
       "      <td>42.00</td>\n",
       "      <td>211.45</td>\n",
       "      <td>125.00</td>\n",
       "      <td>1.00</td>\n",
       "      <td>1.00</td>\n",
       "      <td>0.00</td>\n",
       "      <td>1.00</td>\n",
       "      <td>1.00</td>\n",
       "      <td>0.00</td>\n",
       "      <td>1.48</td>\n",
       "      <td>3.03</td>\n",
       "      <td>4.91</td>\n",
       "      <td>4.00</td>\n",
       "      <td>1.00</td>\n",
       "    </tr>\n",
       "    <tr>\n",
       "      <th>1</th>\n",
       "      <td>33.00</td>\n",
       "      <td>33.00</td>\n",
       "      <td>12.00</td>\n",
       "      <td>33.00</td>\n",
       "      <td>2.00</td>\n",
       "      <td>0.00</td>\n",
       "      <td>0.00</td>\n",
       "      <td>0.00</td>\n",
       "      <td>0.00</td>\n",
       "      <td>9.45</td>\n",
       "      <td>0.00</td>\n",
       "      <td>0.00</td>\n",
       "      <td>0.00</td>\n",
       "      <td>0.00</td>\n",
       "      <td>288.80</td>\n",
       "      <td>0.00</td>\n",
       "      <td>0.00</td>\n",
       "      <td>0.00</td>\n",
       "      <td>0.00</td>\n",
       "      <td>0.00</td>\n",
       "      <td>0.00</td>\n",
       "      <td>0.00</td>\n",
       "      <td>0.00</td>\n",
       "      <td>2.25</td>\n",
       "      <td>3.24</td>\n",
       "      <td>3.50</td>\n",
       "      <td>1.00</td>\n",
       "      <td>1.00</td>\n",
       "    </tr>\n",
       "    <tr>\n",
       "      <th>2</th>\n",
       "      <td>23.00</td>\n",
       "      <td>30.00</td>\n",
       "      <td>9.00</td>\n",
       "      <td>30.00</td>\n",
       "      <td>1.00</td>\n",
       "      <td>2.00</td>\n",
       "      <td>0.00</td>\n",
       "      <td>0.00</td>\n",
       "      <td>0.00</td>\n",
       "      <td>6.30</td>\n",
       "      <td>0.00</td>\n",
       "      <td>0.00</td>\n",
       "      <td>0.00</td>\n",
       "      <td>0.00</td>\n",
       "      <td>157.05</td>\n",
       "      <td>0.00</td>\n",
       "      <td>0.00</td>\n",
       "      <td>0.00</td>\n",
       "      <td>0.00</td>\n",
       "      <td>0.00</td>\n",
       "      <td>0.00</td>\n",
       "      <td>1.00</td>\n",
       "      <td>0.00</td>\n",
       "      <td>1.84</td>\n",
       "      <td>3.24</td>\n",
       "      <td>3.40</td>\n",
       "      <td>3.00</td>\n",
       "      <td>0.00</td>\n",
       "    </tr>\n",
       "    <tr>\n",
       "      <th>3</th>\n",
       "      <td>38.00</td>\n",
       "      <td>35.00</td>\n",
       "      <td>5.00</td>\n",
       "      <td>76.00</td>\n",
       "      <td>2.00</td>\n",
       "      <td>10.00</td>\n",
       "      <td>1.00</td>\n",
       "      <td>1.00</td>\n",
       "      <td>1.00</td>\n",
       "      <td>6.05</td>\n",
       "      <td>45.00</td>\n",
       "      <td>50.10</td>\n",
       "      <td>23.25</td>\n",
       "      <td>64.90</td>\n",
       "      <td>239.55</td>\n",
       "      <td>1873.05</td>\n",
       "      <td>880.00</td>\n",
       "      <td>1.00</td>\n",
       "      <td>1.00</td>\n",
       "      <td>1.00</td>\n",
       "      <td>1.00</td>\n",
       "      <td>1.00</td>\n",
       "      <td>1.00</td>\n",
       "      <td>1.80</td>\n",
       "      <td>3.81</td>\n",
       "      <td>4.33</td>\n",
       "      <td>4.00</td>\n",
       "      <td>0.00</td>\n",
       "    </tr>\n",
       "    <tr>\n",
       "      <th>4</th>\n",
       "      <td>7.00</td>\n",
       "      <td>35.00</td>\n",
       "      <td>14.00</td>\n",
       "      <td>80.00</td>\n",
       "      <td>2.00</td>\n",
       "      <td>15.00</td>\n",
       "      <td>0.00</td>\n",
       "      <td>1.00</td>\n",
       "      <td>0.00</td>\n",
       "      <td>7.10</td>\n",
       "      <td>22.00</td>\n",
       "      <td>0.00</td>\n",
       "      <td>23.75</td>\n",
       "      <td>0.00</td>\n",
       "      <td>47.45</td>\n",
       "      <td>166.10</td>\n",
       "      <td>145.00</td>\n",
       "      <td>1.00</td>\n",
       "      <td>0.00</td>\n",
       "      <td>0.00</td>\n",
       "      <td>1.00</td>\n",
       "      <td>1.00</td>\n",
       "      <td>0.00</td>\n",
       "      <td>1.96</td>\n",
       "      <td>3.09</td>\n",
       "      <td>4.38</td>\n",
       "      <td>3.00</td>\n",
       "      <td>0.00</td>\n",
       "    </tr>\n",
       "    <tr>\n",
       "      <th>...</th>\n",
       "      <td>...</td>\n",
       "      <td>...</td>\n",
       "      <td>...</td>\n",
       "      <td>...</td>\n",
       "      <td>...</td>\n",
       "      <td>...</td>\n",
       "      <td>...</td>\n",
       "      <td>...</td>\n",
       "      <td>...</td>\n",
       "      <td>...</td>\n",
       "      <td>...</td>\n",
       "      <td>...</td>\n",
       "      <td>...</td>\n",
       "      <td>...</td>\n",
       "      <td>...</td>\n",
       "      <td>...</td>\n",
       "      <td>...</td>\n",
       "      <td>...</td>\n",
       "      <td>...</td>\n",
       "      <td>...</td>\n",
       "      <td>...</td>\n",
       "      <td>...</td>\n",
       "      <td>...</td>\n",
       "      <td>...</td>\n",
       "      <td>...</td>\n",
       "      <td>...</td>\n",
       "      <td>...</td>\n",
       "      <td>...</td>\n",
       "    </tr>\n",
       "    <tr>\n",
       "      <th>195</th>\n",
       "      <td>55.00</td>\n",
       "      <td>44.00</td>\n",
       "      <td>24.00</td>\n",
       "      <td>83.00</td>\n",
       "      <td>1.00</td>\n",
       "      <td>23.00</td>\n",
       "      <td>0.00</td>\n",
       "      <td>1.00</td>\n",
       "      <td>0.00</td>\n",
       "      <td>17.35</td>\n",
       "      <td>24.50</td>\n",
       "      <td>0.00</td>\n",
       "      <td>14.25</td>\n",
       "      <td>0.00</td>\n",
       "      <td>973.10</td>\n",
       "      <td>1343.50</td>\n",
       "      <td>720.00</td>\n",
       "      <td>0.00</td>\n",
       "      <td>0.00</td>\n",
       "      <td>0.00</td>\n",
       "      <td>0.00</td>\n",
       "      <td>1.00</td>\n",
       "      <td>0.00</td>\n",
       "      <td>2.85</td>\n",
       "      <td>3.20</td>\n",
       "      <td>4.42</td>\n",
       "      <td>3.00</td>\n",
       "      <td>0.00</td>\n",
       "    </tr>\n",
       "    <tr>\n",
       "      <th>196</th>\n",
       "      <td>34.00</td>\n",
       "      <td>23.00</td>\n",
       "      <td>3.00</td>\n",
       "      <td>24.00</td>\n",
       "      <td>1.00</td>\n",
       "      <td>7.00</td>\n",
       "      <td>0.00</td>\n",
       "      <td>1.00</td>\n",
       "      <td>0.00</td>\n",
       "      <td>6.00</td>\n",
       "      <td>28.00</td>\n",
       "      <td>0.00</td>\n",
       "      <td>12.75</td>\n",
       "      <td>0.00</td>\n",
       "      <td>203.25</td>\n",
       "      <td>959.40</td>\n",
       "      <td>435.00</td>\n",
       "      <td>0.00</td>\n",
       "      <td>0.00</td>\n",
       "      <td>0.00</td>\n",
       "      <td>1.00</td>\n",
       "      <td>1.00</td>\n",
       "      <td>0.00</td>\n",
       "      <td>1.79</td>\n",
       "      <td>3.33</td>\n",
       "      <td>3.18</td>\n",
       "      <td>3.00</td>\n",
       "      <td>0.00</td>\n",
       "    </tr>\n",
       "    <tr>\n",
       "      <th>197</th>\n",
       "      <td>6.00</td>\n",
       "      <td>32.00</td>\n",
       "      <td>10.00</td>\n",
       "      <td>47.00</td>\n",
       "      <td>1.00</td>\n",
       "      <td>10.00</td>\n",
       "      <td>0.00</td>\n",
       "      <td>1.00</td>\n",
       "      <td>0.00</td>\n",
       "      <td>3.85</td>\n",
       "      <td>23.75</td>\n",
       "      <td>0.00</td>\n",
       "      <td>12.50</td>\n",
       "      <td>0.00</td>\n",
       "      <td>29.90</td>\n",
       "      <td>128.45</td>\n",
       "      <td>80.00</td>\n",
       "      <td>0.00</td>\n",
       "      <td>0.00</td>\n",
       "      <td>0.00</td>\n",
       "      <td>1.00</td>\n",
       "      <td>1.00</td>\n",
       "      <td>0.00</td>\n",
       "      <td>1.35</td>\n",
       "      <td>3.17</td>\n",
       "      <td>3.85</td>\n",
       "      <td>3.00</td>\n",
       "      <td>0.00</td>\n",
       "    </tr>\n",
       "    <tr>\n",
       "      <th>198</th>\n",
       "      <td>24.00</td>\n",
       "      <td>30.00</td>\n",
       "      <td>0.00</td>\n",
       "      <td>25.00</td>\n",
       "      <td>4.00</td>\n",
       "      <td>5.00</td>\n",
       "      <td>0.00</td>\n",
       "      <td>1.00</td>\n",
       "      <td>1.00</td>\n",
       "      <td>8.70</td>\n",
       "      <td>47.75</td>\n",
       "      <td>0.00</td>\n",
       "      <td>32.75</td>\n",
       "      <td>64.00</td>\n",
       "      <td>186.60</td>\n",
       "      <td>1152.90</td>\n",
       "      <td>780.00</td>\n",
       "      <td>1.00</td>\n",
       "      <td>1.00</td>\n",
       "      <td>1.00</td>\n",
       "      <td>1.00</td>\n",
       "      <td>1.00</td>\n",
       "      <td>1.00</td>\n",
       "      <td>2.16</td>\n",
       "      <td>3.87</td>\n",
       "      <td>3.22</td>\n",
       "      <td>4.00</td>\n",
       "      <td>1.00</td>\n",
       "    </tr>\n",
       "    <tr>\n",
       "      <th>199</th>\n",
       "      <td>61.00</td>\n",
       "      <td>50.00</td>\n",
       "      <td>16.00</td>\n",
       "      <td>190.00</td>\n",
       "      <td>2.00</td>\n",
       "      <td>22.00</td>\n",
       "      <td>1.00</td>\n",
       "      <td>1.00</td>\n",
       "      <td>1.00</td>\n",
       "      <td>16.85</td>\n",
       "      <td>0.00</td>\n",
       "      <td>42.55</td>\n",
       "      <td>26.50</td>\n",
       "      <td>44.10</td>\n",
       "      <td>1063.15</td>\n",
       "      <td>0.00</td>\n",
       "      <td>1600.00</td>\n",
       "      <td>0.00</td>\n",
       "      <td>0.00</td>\n",
       "      <td>1.00</td>\n",
       "      <td>0.00</td>\n",
       "      <td>0.00</td>\n",
       "      <td>1.00</td>\n",
       "      <td>2.82</td>\n",
       "      <td>3.24</td>\n",
       "      <td>5.25</td>\n",
       "      <td>2.00</td>\n",
       "      <td>0.00</td>\n",
       "    </tr>\n",
       "  </tbody>\n",
       "</table>\n",
       "<p>200 rows × 28 columns</p>\n",
       "</div>"
      ],
      "text/plain": [
       "     tenure   age  address  income   ed  employ  equip  callcard  wireless  \\\n",
       "0     11.00 33.00     7.00  136.00 5.00    5.00   0.00      1.00      1.00   \n",
       "1     33.00 33.00    12.00   33.00 2.00    0.00   0.00      0.00      0.00   \n",
       "2     23.00 30.00     9.00   30.00 1.00    2.00   0.00      0.00      0.00   \n",
       "3     38.00 35.00     5.00   76.00 2.00   10.00   1.00      1.00      1.00   \n",
       "4      7.00 35.00    14.00   80.00 2.00   15.00   0.00      1.00      0.00   \n",
       "..      ...   ...      ...     ...  ...     ...    ...       ...       ...   \n",
       "195   55.00 44.00    24.00   83.00 1.00   23.00   0.00      1.00      0.00   \n",
       "196   34.00 23.00     3.00   24.00 1.00    7.00   0.00      1.00      0.00   \n",
       "197    6.00 32.00    10.00   47.00 1.00   10.00   0.00      1.00      0.00   \n",
       "198   24.00 30.00     0.00   25.00 4.00    5.00   0.00      1.00      1.00   \n",
       "199   61.00 50.00    16.00  190.00 2.00   22.00   1.00      1.00      1.00   \n",
       "\n",
       "     longmon  tollmon  equipmon  cardmon  wiremon  longten  tollten  cardten  \\\n",
       "0       4.40    20.75      0.00    15.25    35.70    42.00   211.45   125.00   \n",
       "1       9.45     0.00      0.00     0.00     0.00   288.80     0.00     0.00   \n",
       "2       6.30     0.00      0.00     0.00     0.00   157.05     0.00     0.00   \n",
       "3       6.05    45.00     50.10    23.25    64.90   239.55  1873.05   880.00   \n",
       "4       7.10    22.00      0.00    23.75     0.00    47.45   166.10   145.00   \n",
       "..       ...      ...       ...      ...      ...      ...      ...      ...   \n",
       "195    17.35    24.50      0.00    14.25     0.00   973.10  1343.50   720.00   \n",
       "196     6.00    28.00      0.00    12.75     0.00   203.25   959.40   435.00   \n",
       "197     3.85    23.75      0.00    12.50     0.00    29.90   128.45    80.00   \n",
       "198     8.70    47.75      0.00    32.75    64.00   186.60  1152.90   780.00   \n",
       "199    16.85     0.00     42.55    26.50    44.10  1063.15     0.00  1600.00   \n",
       "\n",
       "     voice  pager  internet  callwait  confer  ebill  loglong  logtoll  lninc  \\\n",
       "0     1.00   1.00      0.00      1.00    1.00   0.00     1.48     3.03   4.91   \n",
       "1     0.00   0.00      0.00      0.00    0.00   0.00     2.25     3.24   3.50   \n",
       "2     0.00   0.00      0.00      0.00    1.00   0.00     1.84     3.24   3.40   \n",
       "3     1.00   1.00      1.00      1.00    1.00   1.00     1.80     3.81   4.33   \n",
       "4     1.00   0.00      0.00      1.00    1.00   0.00     1.96     3.09   4.38   \n",
       "..     ...    ...       ...       ...     ...    ...      ...      ...    ...   \n",
       "195   0.00   0.00      0.00      0.00    1.00   0.00     2.85     3.20   4.42   \n",
       "196   0.00   0.00      0.00      1.00    1.00   0.00     1.79     3.33   3.18   \n",
       "197   0.00   0.00      0.00      1.00    1.00   0.00     1.35     3.17   3.85   \n",
       "198   1.00   1.00      1.00      1.00    1.00   1.00     2.16     3.87   3.22   \n",
       "199   0.00   0.00      1.00      0.00    0.00   1.00     2.82     3.24   5.25   \n",
       "\n",
       "     custcat  churn  \n",
       "0       4.00   1.00  \n",
       "1       1.00   1.00  \n",
       "2       3.00   0.00  \n",
       "3       4.00   0.00  \n",
       "4       3.00   0.00  \n",
       "..       ...    ...  \n",
       "195     3.00   0.00  \n",
       "196     3.00   0.00  \n",
       "197     3.00   0.00  \n",
       "198     4.00   1.00  \n",
       "199     2.00   0.00  \n",
       "\n",
       "[200 rows x 28 columns]"
      ]
     },
     "execution_count": 8,
     "metadata": {},
     "output_type": "execute_result"
    }
   ],
   "source": [
    "df = pd.read_csv('./../../data/ChurnData.csv')\n",
    "\n",
    "# показать все колонки\n",
    "pd.options.display.max_columns = None\n",
    "\n",
    "# изменить формат отображения с помощью средства форматирования\n",
    "# (float без E, а 2 знаков после запятой)\n",
    "# (для удобства чтения)\n",
    "pd.options.display.float_format = '{:.2f}'.format\n",
    "\n",
    "# отобразить первые 5 и последние 5 строк\n",
    "df"
   ]
  },
  {
   "cell_type": "code",
   "execution_count": 9,
   "metadata": {},
   "outputs": [
    {
     "name": "stdout",
     "output_type": "stream",
     "text": [
      "<class 'pandas.core.frame.DataFrame'>\n",
      "RangeIndex: 200 entries, 0 to 199\n",
      "Data columns (total 10 columns):\n",
      " #   Column    Non-Null Count  Dtype  \n",
      "---  ------    --------------  -----  \n",
      " 0   tenure    200 non-null    float64\n",
      " 1   age       200 non-null    float64\n",
      " 2   address   200 non-null    float64\n",
      " 3   income    200 non-null    float64\n",
      " 4   ed        200 non-null    float64\n",
      " 5   employ    200 non-null    float64\n",
      " 6   equip     200 non-null    float64\n",
      " 7   callcard  200 non-null    float64\n",
      " 8   wireless  200 non-null    float64\n",
      " 9   churn     200 non-null    float64\n",
      "dtypes: float64(10)\n",
      "memory usage: 15.8 KB\n"
     ]
    }
   ],
   "source": [
    "df = df[['tenure', 'age', 'address', 'income', 'ed', 'employ', 'equip',  'callcard', 'wireless','churn']]\n",
    "df.info()"
   ]
  },
  {
   "cell_type": "markdown",
   "metadata": {},
   "source": [
    "## Вероятность (Probability)\n",
    "\n",
    "TODO"
   ]
  },
  {
   "cell_type": "markdown",
   "metadata": {},
   "source": [
    "## Различия между Линейной (Linear) и Логистической (Logistic) регрессией (Regression)\n",
    "\n",
    "\n",
    "<img src=\"images/linear_vs_logistic_regression_2.png\" width=\"600\">\n",
    "\n",
    "\n",
    "В то время как **линейная регрессия** подходит для оценки **непрерывных значений** (например, оценок цены дома), это не лучший инструмент для прогнозирования класса, то есть **дискретных значений**.\n",
    "\n",
    "Чтобы **оценить класс**, нужно какое-то руководство в том, какой класс будет наиболее вероятным для этого набора признаков. Для этого можно использовать **логистическую регрессию**.\n",
    "\n",
    "**Логистическая регрессия** - это **разновидность линейной регрессии**, полезная, когда наблюдаемая зависимая переменная $y$ является категориальной. \n",
    "\n",
    "**Логистическая регрессия** соответствует специальной s-образной кривой, взяв линейную регрессию и преобразовав числовую оценку в вероятность с помощью следующей функции, которая называется сигмоидной функцией $\\sigma$:\n",
    "\n",
    "$$\n",
    "ℎ_\\theta(𝑥) = \\sigma({\\theta^TX}) =  \\frac {e^{(\\theta_0 + \\theta_1  x_1 + \\theta_2  x_2 +...)}}{1 + e^{(\\theta_0 + \\theta_1  x_1 + \\theta_2  x_2 +\\cdots)}}\n",
    "$$\n",
    "Или:\n",
    "$$\n",
    "Probability\\space of \\space Class_1 =  P(y=1|X) = \\sigma({\\theta^TX}) = \\frac{e^{\\theta^TX}}{1+e^{\\theta^TX}} \n",
    "$$\n",
    "\n",
    "В этом уравнении ${\\theta^TX}$ - это результат регрессии (сумма переменных, взвешенных коэффициентами), `exp` - экспоненциальная функция, а $\\sigma(\\theta^TX)$ - сигмоида или [логистическая функция](https://ru.wikipedia.org/wiki/%D0%9B%D0%BE%D0%B3%D0%B8%D1%81%D1%82%D0%B8%D1%87%D0%B5%D1%81%D0%BA%D0%BE%D0%B5_%D1%83%D1%80%D0%B0%D0%B2%D0%BD%D0%B5%D0%BD%D0%B8%D0%B5), также называется логистической кривой. Это обычная S-образная форма (сигмовидная кривая).\n",
    "\n",
    "<img src=\"images/linear_vs_logistic_regression_1.png\" width=\"600\">\n",
    "\n",
    "\n",
    "Итак, вкратце, логистическая регрессия передает входные данные через логистическую / сигмоиду, но затем обрабатывает результат как вероятность:\n",
    "\n",
    "<img src=\"images/log_regr_prob.png\" width=\"400\">\n",
    "\n",
    "Цель алгоритма **логистической регрессии** - найти наилучшие параметры $\\theta$ для $ℎ_\\theta(𝑥)$ = $\\sigma({\\theta^TX})$ таким образом, чтобы наилучшим образом предсказать класс каждого случая.\n"
   ]
  },
  {
   "cell_type": "markdown",
   "metadata": {},
   "source": [
    "## Бинарная классификация (ровно 2 класса)"
   ]
  },
  {
   "cell_type": "markdown",
   "metadata": {},
   "source": [
    "### Предварительная обработка (pre-processing) и выбор (selection) данных"
   ]
  },
  {
   "cell_type": "code",
   "execution_count": 10,
   "metadata": {},
   "outputs": [],
   "source": [
    "X = np.asarray(df[['tenure', 'age', 'address', 'income', 'ed', 'employ', 'equip']])\n",
    "y = np.asarray(df['churn'])"
   ]
  },
  {
   "cell_type": "code",
   "execution_count": 11,
   "metadata": {},
   "outputs": [
    {
     "data": {
      "text/plain": [
       "array([[-1.13518441, -0.62595491, -0.4588971 ,  0.4751423 ,  1.6961288 ,\n",
       "        -0.58477841, -0.85972695],\n",
       "       [-0.11604313, -0.62595491,  0.03454064, -0.32886061, -0.6433592 ,\n",
       "        -1.14437497, -0.85972695],\n",
       "       [-0.57928917, -0.85594447, -0.261522  , -0.35227817, -1.42318853,\n",
       "        -0.92053635, -0.85972695],\n",
       "       [ 0.11557989, -0.47262854, -0.65627219,  0.00679109, -0.6433592 ,\n",
       "        -0.02518185,  1.16316   ],\n",
       "       [-1.32048283, -0.47262854,  0.23191574,  0.03801451, -0.6433592 ,\n",
       "         0.53441472, -0.85972695]])"
      ]
     },
     "execution_count": 11,
     "metadata": {},
     "output_type": "execute_result"
    }
   ],
   "source": [
    "from sklearn import preprocessing\n",
    "\n",
    "# нормализация\n",
    "X = preprocessing.StandardScaler().fit_transform(X)\n",
    "X[0:5]"
   ]
  },
  {
   "cell_type": "code",
   "execution_count": 12,
   "metadata": {},
   "outputs": [],
   "source": [
    "from sklearn.model_selection import train_test_split\n",
    "\n",
    "X_train, X_test, y_train, y_test = train_test_split(X, y, test_size=0.2)"
   ]
  },
  {
   "cell_type": "markdown",
   "metadata": {},
   "source": [
    "### Обучение модели (Train)"
   ]
  },
  {
   "cell_type": "code",
   "execution_count": 13,
   "metadata": {},
   "outputs": [
    {
     "data": {
      "text/plain": [
       "LogisticRegression(C=0.01, solver='liblinear')"
      ]
     },
     "execution_count": 13,
     "metadata": {},
     "output_type": "execute_result"
    }
   ],
   "source": [
    "from sklearn.linear_model import LogisticRegression\n",
    "model = LogisticRegression(C=0.01, solver='liblinear').fit(X_train,y_train)\n",
    "model"
   ]
  },
  {
   "cell_type": "code",
   "execution_count": 14,
   "metadata": {},
   "outputs": [
    {
     "data": {
      "text/plain": [
       "array([0., 1., 1., 0., 0., 1., 0., 0., 0., 1., 0., 0., 1., 1., 0., 1., 0.,\n",
       "       0., 0., 0., 1., 0., 0., 1., 0., 0., 0., 0., 0., 1., 1., 1., 1., 0.,\n",
       "       0., 0., 0., 0., 0., 1.])"
      ]
     },
     "execution_count": 14,
     "metadata": {},
     "output_type": "execute_result"
    }
   ],
   "source": [
    "y_predicted = model.predict(X_test)\n",
    "y_predicted"
   ]
  },
  {
   "cell_type": "code",
   "execution_count": 15,
   "metadata": {},
   "outputs": [
    {
     "data": {
      "text/plain": [
       "array([[0.56667891, 0.43332109],\n",
       "       [0.43381164, 0.56618836],\n",
       "       [0.43405551, 0.56594449],\n",
       "       [0.54773287, 0.45226713],\n",
       "       [0.64219401, 0.35780599],\n",
       "       [0.41636253, 0.58363747],\n",
       "       [0.61814335, 0.38185665],\n",
       "       [0.66015828, 0.33984172],\n",
       "       [0.51083311, 0.48916689],\n",
       "       [0.48316352, 0.51683648],\n",
       "       [0.66330554, 0.33669446],\n",
       "       [0.72512983, 0.27487017],\n",
       "       [0.40830677, 0.59169323],\n",
       "       [0.48266091, 0.51733909],\n",
       "       [0.66569348, 0.33430652],\n",
       "       [0.45029178, 0.54970822],\n",
       "       [0.52312601, 0.47687399],\n",
       "       [0.65758492, 0.34241508],\n",
       "       [0.51501877, 0.48498123],\n",
       "       [0.77606382, 0.22393618],\n",
       "       [0.48323754, 0.51676246],\n",
       "       [0.53731462, 0.46268538],\n",
       "       [0.52350395, 0.47649605],\n",
       "       [0.45452632, 0.54547368],\n",
       "       [0.52121307, 0.47878693],\n",
       "       [0.62553078, 0.37446922],\n",
       "       [0.68532179, 0.31467821],\n",
       "       [0.7744305 , 0.2255695 ],\n",
       "       [0.57884315, 0.42115685],\n",
       "       [0.37266578, 0.62733422],\n",
       "       [0.42152538, 0.57847462],\n",
       "       [0.45639084, 0.54360916],\n",
       "       [0.42278732, 0.57721268],\n",
       "       [0.5025382 , 0.4974618 ],\n",
       "       [0.52621869, 0.47378131],\n",
       "       [0.61691285, 0.38308715],\n",
       "       [0.5640253 , 0.4359747 ],\n",
       "       [0.75353586, 0.24646414],\n",
       "       [0.84714076, 0.15285924],\n",
       "       [0.49553512, 0.50446488]])"
      ]
     },
     "execution_count": 15,
     "metadata": {},
     "output_type": "execute_result"
    }
   ],
   "source": [
    "# получить вероятности\n",
    "y_predicted_prob = model.predict_proba(X_test)\n",
    "y_predicted_prob"
   ]
  },
  {
   "cell_type": "markdown",
   "metadata": {},
   "source": [
    "### Оценка качества модели (Evaluation)"
   ]
  },
  {
   "cell_type": "markdown",
   "metadata": {},
   "source": [
    "####  Матрица ошибок (confusion matrix)"
   ]
  },
  {
   "cell_type": "code",
   "execution_count": 26,
   "metadata": {},
   "outputs": [
    {
     "data": {
      "text/plain": [
       "<sklearn.metrics._plot.confusion_matrix.ConfusionMatrixDisplay at 0x7f86b35d0ca0>"
      ]
     },
     "execution_count": 26,
     "metadata": {},
     "output_type": "execute_result"
    },
    {
     "data": {
      "image/png": "[encoded data removed]",
      "text/plain": [
       "<Figure size 432x288 with 2 Axes>"
      ]
     },
     "metadata": {
      "needs_background": "light"
     },
     "output_type": "display_data"
    }
   ],
   "source": [
    "from sklearn.metrics import plot_confusion_matrix\n",
    "\n",
    "plot_confusion_matrix(model, X_test, y_test, cmap='plasma')  "
   ]
  },
  {
   "cell_type": "code",
   "execution_count": 20,
   "metadata": {},
   "outputs": [
    {
     "name": "stdout",
     "output_type": "stream",
     "text": [
      "              precision    recall  f1-score   support\n",
      "\n",
      "         0.0       0.85      0.79      0.81        28\n",
      "         1.0       0.57      0.67      0.62        12\n",
      "\n",
      "    accuracy                           0.75        40\n",
      "   macro avg       0.71      0.73      0.72        40\n",
      "weighted avg       0.76      0.75      0.75        40\n",
      "\n"
     ]
    }
   ],
   "source": [
    "from sklearn.metrics import classification_report\n",
    "\n",
    "print(classification_report(y_test, y_predicted))"
   ]
  },
  {
   "cell_type": "markdown",
   "metadata": {},
   "source": [
    "#### log loss"
   ]
  },
  {
   "cell_type": "code",
   "execution_count": 21,
   "metadata": {},
   "outputs": [
    {
     "data": {
      "text/plain": [
       "0.6037529958070642"
      ]
     },
     "execution_count": 21,
     "metadata": {},
     "output_type": "execute_result"
    }
   ],
   "source": [
    "from sklearn.metrics import log_loss\n",
    "log_loss(y_test, y_predicted_prob)"
   ]
  },
  {
   "cell_type": "markdown",
   "metadata": {},
   "source": [
    "## Мультиклассовая классификация (> 2 классов)"
   ]
  },
  {
   "cell_type": "markdown",
   "metadata": {},
   "source": [
    "### Предварительная обработка (pre-processing) и выбор (selection) данных"
   ]
  },
  {
   "cell_type": "code",
   "execution_count": 30,
   "metadata": {},
   "outputs": [
    {
     "data": {
      "text/plain": [
       "4.00    59\n",
       "2.00    48\n",
       "1.00    40\n",
       "3.00    36\n",
       "5.00    17\n",
       "Name: ed, dtype: int64"
      ]
     },
     "execution_count": 30,
     "metadata": {},
     "output_type": "execute_result"
    }
   ],
   "source": [
    "df.ed.value_counts()"
   ]
  },
  {
   "cell_type": "code",
   "execution_count": 31,
   "metadata": {},
   "outputs": [],
   "source": [
    "X = np.asarray(df[['tenure', 'age', 'address', 'income', 'churn', 'employ', 'equip']])\n",
    "y = np.asarray(df['ed'])"
   ]
  },
  {
   "cell_type": "code",
   "execution_count": 32,
   "metadata": {},
   "outputs": [
    {
     "data": {
      "text/plain": [
       "array([[-1.13518441, -0.62595491, -0.4588971 ,  0.4751423 ,  1.56469673,\n",
       "        -0.58477841, -0.85972695],\n",
       "       [-0.11604313, -0.62595491,  0.03454064, -0.32886061,  1.56469673,\n",
       "        -1.14437497, -0.85972695],\n",
       "       [-0.57928917, -0.85594447, -0.261522  , -0.35227817, -0.63910148,\n",
       "        -0.92053635, -0.85972695],\n",
       "       [ 0.11557989, -0.47262854, -0.65627219,  0.00679109, -0.63910148,\n",
       "        -0.02518185,  1.16316   ],\n",
       "       [-1.32048283, -0.47262854,  0.23191574,  0.03801451, -0.63910148,\n",
       "         0.53441472, -0.85972695]])"
      ]
     },
     "execution_count": 32,
     "metadata": {},
     "output_type": "execute_result"
    }
   ],
   "source": [
    "from sklearn import preprocessing\n",
    "\n",
    "# нормализация\n",
    "X = preprocessing.StandardScaler().fit_transform(X)\n",
    "X[0:5]"
   ]
  },
  {
   "cell_type": "code",
   "execution_count": 33,
   "metadata": {},
   "outputs": [],
   "source": [
    "from sklearn.model_selection import train_test_split\n",
    "\n",
    "X_train, X_test, y_train, y_test = train_test_split(X, y, test_size=0.2)"
   ]
  },
  {
   "cell_type": "markdown",
   "metadata": {},
   "source": [
    "### Обучение модели (Train)"
   ]
  },
  {
   "cell_type": "code",
   "execution_count": 34,
   "metadata": {},
   "outputs": [
    {
     "data": {
      "text/plain": [
       "LogisticRegression(C=0.01, solver='liblinear')"
      ]
     },
     "execution_count": 34,
     "metadata": {},
     "output_type": "execute_result"
    }
   ],
   "source": [
    "from sklearn.linear_model import LogisticRegression\n",
    "model = LogisticRegression(C=0.01, solver='liblinear').fit(X_train,y_train)\n",
    "model"
   ]
  },
  {
   "cell_type": "code",
   "execution_count": 35,
   "metadata": {},
   "outputs": [
    {
     "data": {
      "text/plain": [
       "array([4., 4., 4., 1., 4., 1., 1., 1., 1., 4., 4., 1., 2., 4., 4., 4., 4.,\n",
       "       4., 4., 4., 2., 1., 1., 4., 1., 4., 1., 1., 2., 4., 4., 1., 4., 2.,\n",
       "       4., 4., 4., 4., 2., 1.])"
      ]
     },
     "execution_count": 35,
     "metadata": {},
     "output_type": "execute_result"
    }
   ],
   "source": [
    "y_predicted = model.predict(X_test)\n",
    "y_predicted"
   ]
  },
  {
   "cell_type": "code",
   "execution_count": 36,
   "metadata": {},
   "outputs": [
    {
     "data": {
      "text/plain": [
       "array([[0.17472793, 0.17582064, 0.20573281, 0.23912385, 0.20459477],\n",
       "       [0.17439521, 0.18079357, 0.20278917, 0.23514217, 0.20687988],\n",
       "       [0.17663229, 0.1946123 , 0.20418058, 0.23032829, 0.19424653],\n",
       "       [0.23973235, 0.21740408, 0.18948312, 0.18453578, 0.16884467],\n",
       "       [0.16917387, 0.18010793, 0.20505312, 0.23846851, 0.20719657],\n",
       "       [0.24182698, 0.2116165 , 0.18869903, 0.19136299, 0.1664945 ],\n",
       "       [0.23055783, 0.20689728, 0.19056564, 0.1999014 , 0.17207785],\n",
       "       [0.23612838, 0.21316578, 0.18889291, 0.18728553, 0.17452741],\n",
       "       [0.24723806, 0.20686946, 0.1852415 , 0.19083514, 0.16981584],\n",
       "       [0.16881061, 0.17772306, 0.20350387, 0.23972641, 0.21023605],\n",
       "       [0.16763017, 0.1763951 , 0.20410374, 0.24173762, 0.21013337],\n",
       "       [0.23146231, 0.21958872, 0.19439471, 0.18896221, 0.16559205],\n",
       "       [0.21762627, 0.22335323, 0.19838491, 0.19540873, 0.16522685],\n",
       "       [0.1596451 , 0.1835191 , 0.20913735, 0.24266951, 0.20502894],\n",
       "       [0.20157126, 0.20819374, 0.20185932, 0.21126537, 0.17711032],\n",
       "       [0.18631961, 0.1946597 , 0.19986215, 0.22285833, 0.19630021],\n",
       "       [0.1711459 , 0.19549075, 0.20530358, 0.23235488, 0.19570489],\n",
       "       [0.17179025, 0.17687734, 0.20244374, 0.24113965, 0.20774902],\n",
       "       [0.1693839 , 0.17504063, 0.20477053, 0.24416316, 0.20664178],\n",
       "       [0.16531783, 0.18087483, 0.20549356, 0.23987313, 0.20844065],\n",
       "       [0.20424212, 0.20838351, 0.19843517, 0.20817277, 0.18076643],\n",
       "       [0.22143919, 0.22071123, 0.19256766, 0.1948755 , 0.17040642],\n",
       "       [0.21720052, 0.18470328, 0.19328676, 0.21282171, 0.19198772],\n",
       "       [0.19895155, 0.20505274, 0.19682316, 0.21574943, 0.18342313],\n",
       "       [0.2222327 , 0.20899019, 0.19317447, 0.20209513, 0.17350751],\n",
       "       [0.16589567, 0.1783306 , 0.2083473 , 0.24453698, 0.20288945],\n",
       "       [0.21959075, 0.21349209, 0.19266006, 0.19850663, 0.17575047],\n",
       "       [0.22373046, 0.21230956, 0.18899852, 0.20532009, 0.16964137],\n",
       "       [0.20611784, 0.22628836, 0.20023111, 0.19912929, 0.1682334 ],\n",
       "       [0.16518873, 0.19741587, 0.20882209, 0.2340827 , 0.19449061],\n",
       "       [0.20003244, 0.2095072 , 0.20175647, 0.20954839, 0.17915551],\n",
       "       [0.23785292, 0.20188293, 0.18777178, 0.19744731, 0.17504506],\n",
       "       [0.1758912 , 0.19107092, 0.20225818, 0.22990836, 0.20087134],\n",
       "       [0.20252168, 0.22327468, 0.1999646 , 0.20152931, 0.17270974],\n",
       "       [0.17375718, 0.195242  , 0.20780909, 0.23135646, 0.19183527],\n",
       "       [0.18948411, 0.1785396 , 0.19029599, 0.24287396, 0.19880633],\n",
       "       [0.17518351, 0.17733907, 0.20185863, 0.23658112, 0.20903766],\n",
       "       [0.17221107, 0.17606196, 0.20251847, 0.23718998, 0.21201853],\n",
       "       [0.21244057, 0.21789161, 0.19751066, 0.20338709, 0.16877006],\n",
       "       [0.22589571, 0.21554378, 0.19383503, 0.19507736, 0.16964812]])"
      ]
     },
     "execution_count": 36,
     "metadata": {},
     "output_type": "execute_result"
    }
   ],
   "source": [
    "# получить вероятности\n",
    "y_predicted_prob = model.predict_proba(X_test)\n",
    "y_predicted_prob"
   ]
  },
  {
   "cell_type": "markdown",
   "metadata": {},
   "source": [
    "### Оценка качества модели (Evaluation)"
   ]
  },
  {
   "cell_type": "markdown",
   "metadata": {},
   "source": [
    "####  Матрица ошибок (confusion matrix)"
   ]
  },
  {
   "cell_type": "code",
   "execution_count": 37,
   "metadata": {},
   "outputs": [
    {
     "data": {
      "text/plain": [
       "<sklearn.metrics._plot.confusion_matrix.ConfusionMatrixDisplay at 0x7f86b1215430>"
      ]
     },
     "execution_count": 37,
     "metadata": {},
     "output_type": "execute_result"
    },
    {
     "data": {
      "image/png": "[encoded data removed]",
      "text/plain": [
       "<Figure size 432x288 with 2 Axes>"
      ]
     },
     "metadata": {
      "needs_background": "light"
     },
     "output_type": "display_data"
    }
   ],
   "source": [
    "from sklearn.metrics import plot_confusion_matrix\n",
    "\n",
    "plot_confusion_matrix(model, X_test, y_test, cmap='plasma')  "
   ]
  },
  {
   "cell_type": "code",
   "execution_count": 38,
   "metadata": {},
   "outputs": [
    {
     "name": "stdout",
     "output_type": "stream",
     "text": [
      "              precision    recall  f1-score   support\n",
      "\n",
      "         1.0       0.38      0.71      0.50         7\n",
      "         2.0       0.20      0.08      0.11        13\n",
      "         3.0       0.00      0.00      0.00         6\n",
      "         4.0       0.41      0.90      0.56        10\n",
      "         5.0       0.00      0.00      0.00         4\n",
      "\n",
      "    accuracy                           0.38        40\n",
      "   macro avg       0.20      0.34      0.23        40\n",
      "weighted avg       0.23      0.38      0.26        40\n",
      "\n"
     ]
    },
    {
     "name": "stderr",
     "output_type": "stream",
     "text": [
      "/home/ira/anaconda3/envs/LevelUp_DataScience/lib/python3.8/site-packages/sklearn/metrics/_classification.py:1245: UndefinedMetricWarning: Precision and F-score are ill-defined and being set to 0.0 in labels with no predicted samples. Use `zero_division` parameter to control this behavior.\n",
      "  _warn_prf(average, modifier, msg_start, len(result))\n",
      "/home/ira/anaconda3/envs/LevelUp_DataScience/lib/python3.8/site-packages/sklearn/metrics/_classification.py:1245: UndefinedMetricWarning: Precision and F-score are ill-defined and being set to 0.0 in labels with no predicted samples. Use `zero_division` parameter to control this behavior.\n",
      "  _warn_prf(average, modifier, msg_start, len(result))\n",
      "/home/ira/anaconda3/envs/LevelUp_DataScience/lib/python3.8/site-packages/sklearn/metrics/_classification.py:1245: UndefinedMetricWarning: Precision and F-score are ill-defined and being set to 0.0 in labels with no predicted samples. Use `zero_division` parameter to control this behavior.\n",
      "  _warn_prf(average, modifier, msg_start, len(result))\n"
     ]
    }
   ],
   "source": [
    "from sklearn.metrics import classification_report\n",
    "\n",
    "print(classification_report(y_test, y_predicted))"
   ]
  },
  {
   "cell_type": "markdown",
   "metadata": {},
   "source": [
    "#### log loss"
   ]
  },
  {
   "cell_type": "code",
   "execution_count": 39,
   "metadata": {},
   "outputs": [
    {
     "data": {
      "text/plain": [
       "1.5587597095825643"
      ]
     },
     "execution_count": 39,
     "metadata": {},
     "output_type": "execute_result"
    }
   ],
   "source": [
    "from sklearn.metrics import log_loss\n",
    "log_loss(y_test, y_predicted_prob)"
   ]
  }
 ],
 "metadata": {
  "kernelspec": {
   "display_name": "Python [conda env:LevelUp_DataScience] *",
   "language": "python",
   "name": "conda-env-LevelUp_DataScience-py"
  },
  "language_info": {
   "codemirror_mode": {
    "name": "ipython",
    "version": 3
   },
   "file_extension": ".py",
   "mimetype": "text/x-python",
   "name": "python",
   "nbconvert_exporter": "python",
   "pygments_lexer": "ipython3",
   "version": "3.8.5"
  }
 },
 "nbformat": 4,
 "nbformat_minor": 4
}
