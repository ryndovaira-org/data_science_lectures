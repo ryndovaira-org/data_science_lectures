{
 "cells": [
  {
   "cell_type": "markdown",
   "metadata": {},
   "source": [
    "# Метрики для оценки качества классификационной модели\n",
    "\n",
    "<img src=\"images/100_accuracy.jpg\">"
   ]
  },
  {
   "cell_type": "markdown",
   "metadata": {},
   "source": [
    "**Источники:**\n",
    "    \n",
    "[МЕТРИКИ ОЦЕНКИ КЛАССИФИКАТОРОВ В ЗАДАЧАХ МЕДИЦИНСКОЙ\n",
    "ДИАГНОСТИКИ](https://core.ac.uk/download/pdf/196226627.pdf)\n",
    "\n",
    "[Оценка классификатора (точность, полнота, F-мера)](http://bazhenov.me/blog/2012/07/21/classification-performance-evaluation.html)\n",
    "\n",
    "[Метрики в задачах машинного обучения](https://habr.com/ru/company/ods/blog/328372/)\n",
    "\n",
    "[Как правильно выбрать метрику оценки для моделей машинного обучения: Часть 3 Классификационные метрики](https://www.machinelearningmastery.ru/how-to-select-the-right-evaluation-metric-for-machine-learning-models-part-3-classification-3eac420ec991/)\n",
    "\n",
    "[Метрики для оценки алгоритмов машинного обучения в Python](https://www.machinelearningmastery.ru/metrics-evaluate-machine-learning-algorithms-python/)\n",
    "\n",
    "[Оценка качества в задачах классификации и регрессии](http://neerc.ifmo.ru/wiki/index.php?title=%D0%9E%D1%86%D0%B5%D0%BD%D0%BA%D0%B0_%D0%BA%D0%B0%D1%87%D0%B5%D1%81%D1%82%D0%B2%D0%B0_%D0%B2_%D0%B7%D0%B0%D0%B4%D0%B0%D1%87%D0%B0%D1%85_%D0%BA%D0%BB%D0%B0%D1%81%D1%81%D0%B8%D1%84%D0%B8%D0%BA%D0%B0%D1%86%D0%B8%D0%B8_%D0%B8_%D1%80%D0%B5%D0%B3%D1%80%D0%B5%D1%81%D1%81%D0%B8%D0%B8)\n",
    "\n",
    "[Расшифровка матрицы путаницы](https://www.machinelearningmastery.ru/decoding-the-confusion-matrix-bb4801decbb/)\n",
    "\n",
    "[Precision-Recall](https://scikit-learn.org/stable/auto_examples/model_selection/plot_precision_recall.html#sphx-glr-auto-examples-model-selection-plot-precision-recall-py)\n",
    "\n",
    "[Understanding AUC - ROC Curve](https://towardsdatascience.com/understanding-auc-roc-curve-68b2303cc9c5)\n",
    "\n",
    "[Ошибки первого и второго рода](https://ru.wikipedia.org/wiki/%D0%9E%D1%88%D0%B8%D0%B1%D0%BA%D0%B8_%D0%BF%D0%B5%D1%80%D0%B2%D0%BE%D0%B3%D0%BE_%D0%B8_%D0%B2%D1%82%D0%BE%D1%80%D0%BE%D0%B3%D0%BE_%D1%80%D0%BE%D0%B4%D0%B0)\n",
    "\n",
    "[F1 Score vs ROC AUC vs Accuracy vs PR AUC: Which Evaluation Metric Should You Choose?](https://neptune.ai/blog/f1-score-accuracy-roc-auc-pr-auc)\n",
    "\n",
    "[Precision-Recall Curves](https://medium.com/@douglaspsteen/precision-recall-curves-d32e5b290248)\n",
    "\n",
    "[Relative change and difference](https://en.wikipedia.org/wiki/Relative_change_and_difference)\n",
    "\n",
    "[Absolute difference](https://en.wikipedia.org/wiki/Absolute_difference)\n",
    "\n",
    "[Gini coefficient](https://en.wikipedia.org/wiki/Gini_coefficient)\n",
    "\n",
    "[Коэффициент Джини](https://ru.wikipedia.org/wiki/%D0%9A%D0%BE%D1%8D%D1%84%D1%84%D0%B8%D1%86%D0%B8%D0%B5%D0%BD%D1%82_%D0%94%D0%B6%D0%B8%D0%BD%D0%B8)\n",
    "\n",
    "[Gini Coefficient - An Intuitive Explanation](https://www.kaggle.com/batzner/gini-coefficient-an-intuitive-explanation)\n",
    "\n",
    "[What is Log Loss?](https://www.kaggle.com/dansbecker/what-is-log-loss)\n",
    "\n",
    "[ml-course-msu/ML15/lecture-notes/Sem05_metrics.pdf](https://github.com/esokolov/ml-course-msu/blob/master/ML15/lecture-notes/Sem05_metrics.pdf)\n",
    "\n",
    "[Multi-Class Metrics Made Simple, Part I: Precision and Recall](https://towardsdatascience.com/multi-class-metrics-made-simple-part-i-precision-and-recall-9250280bddc2)\n",
    "\n",
    "[Metrics and scoring: quantifying the quality of predictions](https://scikit-learn.org/stable/modules/model_evaluation.html)\n",
    "\n",
    "---"
   ]
  },
  {
   "cell_type": "markdown",
   "metadata": {},
   "source": [
    "**Пакет Python: [sklearn.metrics](https://scikit-learn.org/stable/modules/classes.html#module-sklearn.metrics)**"
   ]
  },
  {
   "cell_type": "code",
   "execution_count": 1,
   "metadata": {},
   "outputs": [],
   "source": [
    "import matplotlib.pyplot as plt  "
   ]
  },
  {
   "cell_type": "markdown",
   "metadata": {},
   "source": [
    "## Матрица ошибок (confusion matrix)\n",
    "\n",
    "Как правило, результаты решения проблемы двоичной классификации помечены как положительные и негативные. Эти решения могут быть\n",
    "представлены в матрице ошибок (Confusion Matrix), которая содержит 4 ячейки:\n",
    "- **Верно-положительные (TP)**, объекты, которые были классифицированы как положительные и действительно являются положительными (принадлежащими к данному классу);\n",
    "- **Верно-отрицательные (TN)** объекты, которые были классифицированы как отрицательные и действительно отрицательные (не принадлежат к данному классу);\n",
    "- **Ложно-положительные (FP)** объекты, которые были классифицированы как положительные, но фактически отрицательные;\n",
    "- **Ложно-отрицательный (FN)** объекты, которые были классифицированы как отрицательные, но фактически положительные;"
   ]
  },
  {
   "cell_type": "markdown",
   "metadata": {},
   "source": [
    "<img src=\"./images/confusion_matrix.png\" width=\"500\">\n",
    "\n",
    "<img src=\"./images/confusion_matrix_funny.png\" width=\"500\">\n",
    "\n",
    "**Ошибка первого рода** — ситуация, когда отвергнута верная нулевая гипотеза (англ. **type I errors**, $\\alpha$ errors, false positive, ошибочное отвержение).\n",
    "\n",
    "**Ошибка второго рода** — ситуация, когда принята неверная нулевая гипотеза (англ. **type II errors**, $\\beta$ errors, false negative, ошибочное принятие)."
   ]
  },
  {
   "cell_type": "markdown",
   "metadata": {},
   "source": [
    "На основе матрицы ошибок и её значений, рассчитываются различные метрики классификационной способности алгоритма.\n",
    "\n",
    "Популярные метрики:\n",
    "- $\\large accuracy = \\frac{TP + TN}{TP + TN+ FP + FN}$\n",
    "\n",
    "- (Точность) $\\large precision = \\frac{TP}{TP + FP}$\n",
    "\n",
    "- (Полнота) $\\large recall = \\frac{TP}{TP + FN}$\n",
    "\n",
    "- (F-мера) $\\large F_{1} = 2 \\times \\frac{precision \\times recall}{precision + recall}$\n",
    "\n",
    "- (Специфичность) $\\large specificity = \\frac{TN}{TN + FP}$\n",
    "\n",
    "- Площадь под кривой (AUC ROC/PR).\n"
   ]
  },
  {
   "cell_type": "code",
   "execution_count": 2,
   "metadata": {},
   "outputs": [],
   "source": [
    "font = {'size' : 15}\n",
    "\n",
    "plt.rc('font', **font)"
   ]
  },
  {
   "cell_type": "code",
   "execution_count": 3,
   "metadata": {},
   "outputs": [],
   "source": [
    "from sklearn.datasets import make_classification\n",
    "\n",
    "# создать случайный набор данных для классификации n-классов\n",
    "# по умолчанию 2 класса\n",
    "# random_state нужен для повторяемости результатов \n",
    "# (значение 0 выбрано случайным образом)\n",
    "X, y = make_classification(random_state=0)"
   ]
  },
  {
   "cell_type": "code",
   "execution_count": 4,
   "metadata": {},
   "outputs": [],
   "source": [
    "from sklearn.model_selection import train_test_split\n",
    "\n",
    "X_train, X_test, y_train, y_test = train_test_split(X, y, random_state=0)"
   ]
  },
  {
   "cell_type": "code",
   "execution_count": 5,
   "metadata": {},
   "outputs": [],
   "source": [
    "from sklearn.tree import DecisionTreeClassifier\n",
    "clf = DecisionTreeClassifier()\n",
    "clf.fit(X_train, y_train)\n",
    "y_predicted = clf.predict(X_test)"
   ]
  },
  {
   "cell_type": "code",
   "execution_count": 6,
   "metadata": {},
   "outputs": [
    {
     "data": {
      "text/plain": [
       "(12, 1, 1, 11)"
      ]
     },
     "execution_count": 6,
     "metadata": {},
     "output_type": "execute_result"
    }
   ],
   "source": [
    "from sklearn.metrics import confusion_matrix\n",
    "\n",
    "tn, fp, fn, tp = confusion_matrix(y_test, y_predicted).ravel()\n",
    "\n",
    "tn, fp, fn, tp"
   ]
  },
  {
   "cell_type": "code",
   "execution_count": 7,
   "metadata": {},
   "outputs": [
    {
     "data": {
      "text/plain": [
       "<sklearn.metrics._plot.confusion_matrix.ConfusionMatrixDisplay at 0x7f1645049400>"
      ]
     },
     "execution_count": 7,
     "metadata": {},
     "output_type": "execute_result"
    },
    {
     "data": {
      "image/png": "[encoded data removed]",
      "text/plain": [
       "<Figure size 432x288 with 2 Axes>"
      ]
     },
     "metadata": {
      "needs_background": "light"
     },
     "output_type": "display_data"
    }
   ],
   "source": [
    "from sklearn.metrics import plot_confusion_matrix\n",
    "\n",
    "plot_confusion_matrix(clf, X_test, y_test)  "
   ]
  },
  {
   "cell_type": "markdown",
   "metadata": {},
   "source": [
    "**ИЛИ**"
   ]
  },
  {
   "cell_type": "code",
   "execution_count": 8,
   "metadata": {},
   "outputs": [],
   "source": [
    "# функция построения матрицы ошибок из документации sklearn\n",
    "def plot_confusion_matrix(cm, classes,\n",
    "                          normalize=False,\n",
    "                          title='Confusion matrix',\n",
    "                          cmap=plt.cm.Blues):\n",
    "    \"\"\"\n",
    "    This function prints and plots the confusion matrix.\n",
    "    Normalization can be applied by setting `normalize=True`.\n",
    "    \"\"\"\n",
    "    plt.imshow(cm, interpolation='nearest', cmap=cmap)\n",
    "    plt.title(title)\n",
    "    plt.colorbar()\n",
    "    tick_marks = np.arange(len(classes))\n",
    "    plt.xticks(tick_marks, classes, rotation=45)\n",
    "    plt.yticks(tick_marks, classes)\n",
    "\n",
    "    if normalize:\n",
    "        cm = cm.astype('float') / cm.sum(axis=1)[:, np.newaxis]\n",
    "        print(\"Normalized confusion matrix\")\n",
    "    else:\n",
    "        print('Confusion matrix, without normalization')\n",
    "\n",
    "    print(cm)\n",
    "\n",
    "    thresh = cm.max() / 2.\n",
    "    for i, j in itertools.product(range(cm.shape[0]), range(cm.shape[1])):\n",
    "        plt.text(j, i, cm[i, j],\n",
    "                 horizontalalignment=\"center\",\n",
    "                 color=\"white\" if cm[i, j] > thresh else \"black\")\n",
    "\n",
    "    plt.tight_layout()\n",
    "    plt.ylabel('True label')\n",
    "    plt.xlabel('Predicted label')"
   ]
  },
  {
   "cell_type": "code",
   "execution_count": 9,
   "metadata": {},
   "outputs": [
    {
     "name": "stdout",
     "output_type": "stream",
     "text": [
      "Confusion matrix, without normalization\n",
      "[[12  1]\n",
      " [ 1 11]]\n"
     ]
    },
    {
     "data": {
      "image/png": "[encoded data removed]",
      "text/plain": [
       "<Figure size 432x432 with 2 Axes>"
      ]
     },
     "metadata": {
      "needs_background": "light"
     },
     "output_type": "display_data"
    }
   ],
   "source": [
    "from sklearn.metrics import classification_report, confusion_matrix\n",
    "import numpy as np\n",
    "import itertools\n",
    "\n",
    "cnf_matrix = confusion_matrix(y_test, y_predicted)\n",
    "plt.figure(figsize=(6, 6))\n",
    "plot_confusion_matrix(cnf_matrix, \n",
    "                      classes=['Non-churned', 'Churned'],\n",
    "                      title='Confusion matrix')\n",
    "plt.savefig(\"tmp/conf_matrix.png\")\n",
    "plt.show()"
   ]
  },
  {
   "cell_type": "markdown",
   "metadata": {},
   "source": [
    "## Accuracy\n",
    "\n",
    "**Accuracy** – широко используемая и легкая для понимания метрика. Это отношение всех правильных прогнозов к общему числу всех предсказанных образцов.\n",
    "\n",
    "В ряде задач **accuracy может являться неинформативной**, чаще всего в случае несбалансированных классов (imbalanced).\n",
    "\n",
    "Например, предположим, что только 3% всех пациентов имеют некоторые заболевания. Создадим алгоритм, который будет помечать всех пациентов, как здоровых. В итоге он будет ошибочным только в 3 случаях из 100. Accuracy будет равно 0,97 или 97% и это высокая оценка, но\n",
    "на самом деле алгоритм ничего не делает и абсолютно бесполезен.\n",
    "\n",
    "$\\large accuracy = \\frac{TP + TN}{TP + TN+ FP + FN}$\n",
    "\n",
    "[sklearn.metrics.accuracy_score](https://scikit-learn.org/stable/modules/generated/sklearn.metrics.accuracy_score.html)"
   ]
  },
  {
   "cell_type": "code",
   "execution_count": 10,
   "metadata": {},
   "outputs": [
    {
     "data": {
      "text/plain": [
       "0.92"
      ]
     },
     "execution_count": 10,
     "metadata": {},
     "output_type": "execute_result"
    }
   ],
   "source": [
    "from sklearn.metrics import accuracy_score\n",
    "\n",
    "accuracy_score(y_test, y_predicted)"
   ]
  },
  {
   "cell_type": "markdown",
   "metadata": {},
   "source": [
    "## Точность (Precision)\n",
    "\n",
    "**Точность (precision)** - это доля прогнозируемых положительных результатов, которые являются действительно верно-положительными результатами для всех положительно предсказанных объектов.\n",
    "\n",
    "Другими словами, точность дает ответ на вопрос **\"Из всех объектов, которые классифицированы как принадлежащие классу, сколько на самом\n",
    "деле принадлежит ему?\"**\n",
    "\n",
    "$\\large precision = \\frac{TP}{TP + FP}$\n",
    "\n",
    "[sklearn.metrics.precision_score](https://scikit-learn.org/stable/modules/generated/sklearn.metrics.precision_score.html#sklearn.metrics.precision_score)"
   ]
  },
  {
   "cell_type": "code",
   "execution_count": 11,
   "metadata": {},
   "outputs": [
    {
     "data": {
      "text/plain": [
       "0.9166666666666666"
      ]
     },
     "execution_count": 11,
     "metadata": {},
     "output_type": "execute_result"
    }
   ],
   "source": [
    "from sklearn.metrics import precision_score\n",
    "\n",
    "precision_score(y_test, y_predicted)"
   ]
  },
  {
   "cell_type": "markdown",
   "metadata": {},
   "source": [
    "## Полнота (recall) / Чувствительность (sensitivity) / Оценка верно положительных (true positive rate, TPR) / Вероятность выявления (probability of detection)\n",
    "\n",
    "**Полнота (recall)** – пропорция всех верно-положительно предсказанных объектов к общему количеству действительно положительных. То есть,\n",
    "полнота показывает **сколько образцов из всех положительных примеров были классифицированы правильно**.\n",
    "\n",
    "Чем **выше значение полноты**, тем **меньше положительных примеров пропущено** в классификации.\n",
    "\n",
    "$\\large recall = \\frac{TP}{TP + FN}$\n",
    "\n",
    "**Чувствительность (sensitivity) и полнота (recall) оценивают одно и то же**, различие в наименовании возникло из-за принадлежности этих терминов к разным областям науки. Так же встречаются названия **True positive rate** или **TPR (оценка верно положительных)** и **Probability of detection (вероятность выявления)**.\n",
    "\n",
    "[sklearn.metrics.recall_score](https://scikit-learn.org/stable/modules/generated/sklearn.metrics.recall_score.html#sklearn.metrics.recall_score)"
   ]
  },
  {
   "cell_type": "code",
   "execution_count": 12,
   "metadata": {},
   "outputs": [
    {
     "data": {
      "text/plain": [
       "0.9166666666666666"
      ]
     },
     "execution_count": 12,
     "metadata": {},
     "output_type": "execute_result"
    }
   ],
   "source": [
    "from sklearn.metrics import recall_score\n",
    "\n",
    "recall_score(y_test, y_predicted)"
   ]
  },
  {
   "cell_type": "markdown",
   "metadata": {},
   "source": [
    "## F-мера (F-score/F1)\n",
    "\n",
    "**F-score** – взвешенное гармоническое среднее полноты и точности. Этот показатель демонстрирует, **как много случаев прогнозируется моделью\n",
    "правильно, и сколько истинных экземпляров модель не пропустит**. F-мера **объединяет** в себе **информацию о полноте и точности** используемой модели.\n",
    "\n",
    "Среднее гармоническое обладает важным свойством — оно близко к нулю, если хотя бы один из аргументов близок к нулю. Именно поэтому оно является более предпочтительным, чем среднее арифметическое (если алгоритм будет относить все объекты к положительному классу, то он будет иметь recall = 1 и precision << 1, а их среднее арифметическое будет больше 1/2, что недопустимо).\n",
    "\n",
    "$\\large F_{1} = 2 \\times \\frac{precision \\times recall}{precision + recall}$\n",
    "\n",
    "[sklearn.metrics.f1_score](https://scikit-learn.org/stable/modules/generated/sklearn.metrics.f1_score.html#sklearn.metrics.f1_score)"
   ]
  },
  {
   "cell_type": "code",
   "execution_count": 13,
   "metadata": {},
   "outputs": [
    {
     "data": {
      "text/plain": [
       "0.9166666666666666"
      ]
     },
     "execution_count": 13,
     "metadata": {},
     "output_type": "execute_result"
    }
   ],
   "source": [
    "from sklearn.metrics import f1_score\n",
    "\n",
    "f1_score(y_test, y_predicted)"
   ]
  },
  {
   "cell_type": "markdown",
   "metadata": {},
   "source": [
    "Также может быть полезна функция [sklearn.metrics.precision_recall_fscore_support](https://scikit-learn.org/stable/modules/generated/sklearn.metrics.precision_recall_fscore_support.html#sklearn.metrics.precision_recall_fscore_support).\n",
    "\n",
    "`support` - это количество вхождений каждого класса в `y_true` (в данном случае переменная `y_test`)."
   ]
  },
  {
   "cell_type": "code",
   "execution_count": 14,
   "metadata": {},
   "outputs": [
    {
     "name": "stdout",
     "output_type": "stream",
     "text": [
      "precision = [0.92307692 0.91666667]\n",
      "recall = [0.92307692 0.91666667]\f",
      "score = [0.92307692 0.91666667]\n",
      "support = [13 12]\n"
     ]
    }
   ],
   "source": [
    "from sklearn.metrics import precision_recall_fscore_support\n",
    "\n",
    "precision, recall, fscore, support = precision_recall_fscore_support(y_test, y_predicted)\n",
    "print(f\"precision = {precision}\\nrecall = {recall}\\fscore = {fscore}\\nsupport = {support}\")"
   ]
  },
  {
   "cell_type": "markdown",
   "metadata": {},
   "source": [
    "## Специфичность (Specificity)\n",
    "Специфичность – отношение между верно классифицированных негативных экземпляров к числу всех негативных экземпляров.\n",
    "\n",
    "$\\large specificity = \\frac{TN}{TN + FP}$"
   ]
  },
  {
   "cell_type": "code",
   "execution_count": 15,
   "metadata": {},
   "outputs": [
    {
     "data": {
      "text/plain": [
       "0.9230769230769231"
      ]
     },
     "execution_count": 15,
     "metadata": {},
     "output_type": "execute_result"
    }
   ],
   "source": [
    "tn/(tn + fp)"
   ]
  },
  {
   "cell_type": "markdown",
   "metadata": {},
   "source": [
    "## AUC-ROC / ROC-кривая / Кривая ошибок\n",
    "\n",
    "AUC = area under the curve (площадь под кривой).\n",
    "\n",
    "Информативная и обобщающая метрикой — это площадь под кривой ошибок, что буквально означает площадь под **ROC-кривой\n",
    "(Receiver Operating Characteristic, рабочая характеристика приёмника)**.\n",
    "\n",
    "**ROC-кривая (англ. receiver operating characteristic, рабочая характеристика приёмника)** — график, позволяющий оценить качество **бинарной классификации**.\n",
    "\n",
    "Чтобы получить данную кривую, необходимо вычислить две метрики, которые также получены из матрицы ошибок: уровень верно-положительных предсказанных экземпляров (True Positive Rate, TPR), что тождественно **полноте (recall)**, и **уровень ложно-положительных (False Positive Rate, FPR)**. В свою очередь, FPR - доля негативных объектов, которые по ошибке были классифицированы как положительные, ко всем фактическим негативным. Чем выше FPR, тем больше негативных экземпляров классифицируются неверно.\n",
    "\n",
    "Доля TNR также называется специфичностью (англ. specificity). Следовательно, ROC-кривая изображает чувствительность (англ. sensitivity), т.е. полноту, в сравнении с разностью 1 - specificity.\n",
    "\n",
    "$\\large FPR = \\frac{FP}{FP + TN}$\n",
    "\n",
    "Для объединения FPR и TPR в одну метрику, необходимо вычислить эти метрики, а затем построить их на одном графике с осями `FPR` и `TPR`.\n",
    "\n",
    "**Результирующая кривая представляет собой кривую ROC, а площадь под кривой является метрикой AUC ROC.**\n",
    "\n",
    "Количественную интерпретацию ROC даёт показатель **AUC (англ. area under ROC curve, площадь под ROC-кривой)** — площадь, ограниченная ROC-кривой и осью доли ложных положительных классификаций. **Чем выше показатель AUC, тем качественнее классификатор**, при этом значение `0.5` демонстрирует непригодность выбранного метода классификации (соответствует случайному гаданию). Значение менее `0.5` говорит, что классификатор действует с точностью до наоборот: если положительные назвать отрицательными и наоборот, классификатор будет работать лучше.\n",
    "\n",
    "[sklearn.metrics.roc_auc_score](https://scikit-learn.org/stable/modules/generated/sklearn.metrics.roc_auc_score.html#sklearn.metrics.roc_auc_score)\n",
    "\n",
    "[sklearn.metrics.roc_curve](https://scikit-learn.org/stable/modules/generated/sklearn.metrics.roc_curve.html#sklearn.metrics.roc_curve)\n",
    "\n",
    "[sklearn.metrics.plot_roc_curve](https://scikit-learn.org/stable/modules/generated/sklearn.metrics.plot_roc_curve.html#sklearn.metrics.plot_roc_curve)"
   ]
  },
  {
   "cell_type": "markdown",
   "metadata": {},
   "source": [
    "<img src=\"images/auc_roc_worse_better.png\" height=450 width=450>"
   ]
  },
  {
   "cell_type": "markdown",
   "metadata": {},
   "source": [
    "<img src=\"images/auc_roc.png\" height=400 width=400>"
   ]
  },
  {
   "cell_type": "code",
   "execution_count": 16,
   "metadata": {},
   "outputs": [
    {
     "data": {
      "text/plain": [
       "0.9198717948717948"
      ]
     },
     "execution_count": 16,
     "metadata": {},
     "output_type": "execute_result"
    }
   ],
   "source": [
    "from sklearn.metrics import roc_auc_score\n",
    "\n",
    "roc_auc_score(y_test, y_predicted)"
   ]
  },
  {
   "cell_type": "code",
   "execution_count": 17,
   "metadata": {},
   "outputs": [
    {
     "data": {
      "text/plain": [
       "(array([0.        , 0.07692308, 1.        ]),\n",
       " array([0.        , 0.91666667, 1.        ]),\n",
       " array([2, 1, 0]))"
      ]
     },
     "execution_count": 17,
     "metadata": {},
     "output_type": "execute_result"
    }
   ],
   "source": [
    "from sklearn.metrics import roc_curve\n",
    "\n",
    "roc_curve(y_test, y_predicted)"
   ]
  },
  {
   "cell_type": "code",
   "execution_count": 18,
   "metadata": {},
   "outputs": [
    {
     "data": {
      "text/plain": [
       "<sklearn.metrics._plot.roc_curve.RocCurveDisplay at 0x7f1643f92940>"
      ]
     },
     "execution_count": 18,
     "metadata": {},
     "output_type": "execute_result"
    },
    {
     "data": {
      "image/png": "[encoded data removed]",
      "text/plain": [
       "<Figure size 432x288 with 1 Axes>"
      ]
     },
     "metadata": {
      "needs_background": "light"
     },
     "output_type": "display_data"
    }
   ],
   "source": [
    "from sklearn.metrics import plot_roc_curve\n",
    "\n",
    "plot_roc_curve(clf, X_test, y_test)"
   ]
  },
  {
   "cell_type": "markdown",
   "metadata": {},
   "source": [
    "<img src=\"images/auc_roc.jpg\" height=650 width=650>"
   ]
  },
  {
   "cell_type": "markdown",
   "metadata": {},
   "source": [
    "<img src=\"images/ROC in one picture.png\">"
   ]
  },
  {
   "cell_type": "markdown",
   "metadata": {},
   "source": [
    "<img src=\"images/roc_best.png\" height=300 width=300>\n",
    "<img src=\"images/roc_good.png\" height=300 width=300>\n",
    "<img src=\"images/roc_stupid.png\" height=300 width=300>\n",
    "<img src=\"images/roc_worst.png\" height=300 width=300>"
   ]
  },
  {
   "cell_type": "markdown",
   "metadata": {},
   "source": [
    "## AUC-PR (Precision-Recall)\n",
    "\n",
    "AUC = area under the curve (площадь под кривой).\n",
    "\n",
    "Как следует из названия, эта кривая строится в координатах полнота (R = recall) и точность (P = precision).\n",
    "\n",
    "Чувствительность к соотношению классов.\n",
    " \n",
    "Площадь под ней часто используют в качестве метрики качества алгоритма.\n",
    "\n",
    "Площадь под PR-кривой (AUC PR) **рекомендуют использовать как раз в задачах с дисбалансом классов**, аргументируя это тем, что эта кривая точнее описывает правильность классификации объектов с большими оценками, тогда как ROC-кривая — различие распределений объектов разных классов по оценкам. \n",
    "\n",
    "Важно помнить, что при изменении баланса классов значение AUC_PR меняется, например, если случайную половину одного из классов удалить из выборки (AUC_ROC при этом практически не меняется)\n",
    " \n",
    "[sklearn.metrics.precision_recall_curve](https://scikit-learn.org/stable/modules/generated/sklearn.metrics.precision_recall_curve.html#sklearn.metrics.precision_recall_curve)\n",
    "\n",
    "[sklearn.metrics.plot_precision_recall_curve](https://scikit-learn.org/stable/modules/generated/sklearn.metrics.plot_precision_recall_curve.html#sklearn.metrics.plot_precision_recall_curve)"
   ]
  },
  {
   "cell_type": "markdown",
   "metadata": {},
   "source": [
    "<img src=\"images/pr in one picture.png\" height=400 width=400>"
   ]
  },
  {
   "cell_type": "code",
   "execution_count": 19,
   "metadata": {},
   "outputs": [
    {
     "data": {
      "text/plain": [
       "(array([0.48      , 0.91666667, 1.        ]),\n",
       " array([1.        , 0.91666667, 0.        ]),\n",
       " array([0, 1]))"
      ]
     },
     "execution_count": 19,
     "metadata": {},
     "output_type": "execute_result"
    }
   ],
   "source": [
    "from sklearn.metrics import precision_recall_curve\n",
    "\n",
    "precision_recall_curve(y_test, y_predicted)"
   ]
  },
  {
   "cell_type": "code",
   "execution_count": 20,
   "metadata": {},
   "outputs": [
    {
     "data": {
      "text/plain": [
       "<sklearn.metrics._plot.precision_recall_curve.PrecisionRecallDisplay at 0x7f1643e7fee0>"
      ]
     },
     "execution_count": 20,
     "metadata": {},
     "output_type": "execute_result"
    },
    {
     "data": {
      "image/png": "[encoded data removed]",
      "text/plain": [
       "<Figure size 432x288 with 1 Axes>"
      ]
     },
     "metadata": {
      "needs_background": "light"
     },
     "output_type": "display_data"
    }
   ],
   "source": [
    "from sklearn.metrics import plot_precision_recall_curve\n",
    "\n",
    "plot_precision_recall_curve(clf, X_test, y_test)"
   ]
  },
  {
   "cell_type": "markdown",
   "metadata": {},
   "source": [
    "## Логистическая функция потерь (Logistic Loss / log loss)\n",
    "\n",
    "Данная метрика нечасто выступает в бизнес-требованиях, но часто — в задачах на [kaggle](https://www.kaggle.com/).\n",
    "\n",
    "Интуитивно можно представить минимизацию log loss как задачу **максимизации accuracy путем штрафа за неверные предсказания**. Однако необходимо отметить, что **log loss крайне сильно штрафует за уверенность классификатора в неверном ответе**.\n",
    "\n",
    "Следовательно, ошибка на одном объекте может дать существенное ухудшение общей ошибки на выборке. Такие объекты часто бывают выбросами, которые нужно не забывать фильтровать или рассматривать отдельно.\n",
    "\n",
    "\"Хорошесть\" значения log loss зависит от количества классов. Но в общем случае \"чем ближе к 0, тем лучше\". Чем больше классов, тем большее отдаление от нуля считается все еще нормальным и адекватным.\n",
    "\n",
    "[sklearn.metrics.log_loss](https://scikit-learn.org/stable/modules/generated/sklearn.metrics.log_loss.html)"
   ]
  },
  {
   "cell_type": "code",
   "execution_count": 21,
   "metadata": {},
   "outputs": [
    {
     "data": {
      "text/plain": [
       "2.7631340954900634"
      ]
     },
     "execution_count": 21,
     "metadata": {},
     "output_type": "execute_result"
    }
   ],
   "source": [
    "from sklearn.metrics import log_loss\n",
    "\n",
    "log_loss(y_test, y_predicted)"
   ]
  },
  {
   "cell_type": "markdown",
   "metadata": {},
   "source": [
    "## *Коэффициент/Индекс Джини (Gini index/coefficient/ratio)\n",
    "\n",
    "**Индекс Джини — процентное представление коэффициента Джини.**\n",
    "\n",
    "В задачах кредитного скоринга вместо AUC ROC часто используется пропорциональная метрика, называемая индексом Джини.\n",
    "\n",
    "Чаще используется \"внутри модели\" при обучении.\n",
    "\n",
    "Коэффициент Джини изменяется от 0 до 1.\n",
    "\n",
    "Коэффициент Джини применяется в машинном обучении для предсказания непрерывных величин. Смысл его — погрешность должна быть настолько равномерной, насколько возможно.\n",
    "\n",
    "$\\large Gini = 2 \\times AUC - 1$\n",
    "\n",
    "\n",
    "По сути это площадь между ROC-кривой и диагональю соединяющей точки $(0, 0)$ и $(1, 1)$.\n",
    "\n",
    "Важно отметить, что переход от AUC к индексу Джини приводит к увеличению относительных разниц. Если смогли улучшить AUC с  0.8 до 0.9, то это соответствуют относительному улучшению в 12.5%. \n",
    "\n",
    "$relative\\space change (x_{after}, x_{before}) = \\frac{x_{after} - x_{before}}{x_{before}} \\times 100 = \\frac{0.9 - 0.8}{0.8} \\times 100 = 12.5\\%$\n",
    "\n",
    "В то же время соответствующие индексы Джини были улучшены с 0.6 до 0.8, то есть на 33.3% - относительное улучшение повысилось почти в три раза!\n",
    "\n",
    "$relative\\space change (x_{after}, x_{before}) = \\frac{0.8 - 0.6}{0.6} \\times 100 = 33.3\\%$"
   ]
  },
  {
   "cell_type": "markdown",
   "metadata": {},
   "source": [
    "<img src=\"images/gini.png\" height=400 width=400>"
   ]
  },
  {
   "cell_type": "code",
   "execution_count": 22,
   "metadata": {},
   "outputs": [],
   "source": [
    "def gini(actual, pred):\n",
    "    assert (len(actual) == len(pred))\n",
    "    all = np.asarray(np.c_[actual, pred, np.arange(len(actual))], dtype=np.float)\n",
    "    all = all[np.lexsort((all[:, 2], -1 * all[:, 1]))]\n",
    "    total_losses = all[:, 0].sum()\n",
    "    gini_sum = all[:, 0].cumsum().sum() / total_losses\n",
    "\n",
    "    gini_sum -= (len(actual) + 1) / 2.\n",
    "    return gini_sum / len(actual)\n",
    "\n",
    "\n",
    "def gini_normalized(actual, pred):\n",
    "    return gini(actual, pred) / gini(actual, actual)"
   ]
  },
  {
   "cell_type": "code",
   "execution_count": 23,
   "metadata": {},
   "outputs": [
    {
     "name": "stdout",
     "output_type": "stream",
     "text": [
      "Gini: 0.253, Max. Gini: 0.260, Normalized Gini: 0.974\n"
     ]
    }
   ],
   "source": [
    "gini_predictions = gini(y_test, y_predicted)\n",
    "gini_max = gini(y_test, y_test)\n",
    "n_gini= gini_normalized(y_test, y_predicted)\n",
    "print('Gini: %.3f, Max. Gini: %.3f, Normalized Gini: %.3f' % (gini_predictions, gini_max, n_gini))"
   ]
  },
  {
   "cell_type": "markdown",
   "metadata": {},
   "source": [
    "## Рекомендации\n",
    "\n",
    "- В случае мультиклассовой классификации нужно внимательно следить за метриками каждого из классов и следовать логике решения задачи, а не оптимизации метрики.\n",
    "    - Матрица путаницы усложняется.\n",
    "    \n",
    "    <img src=\"images/confusion_matrix_multi.png\" height=600 width=600>\n",
    "    - Нужно будет использовать дополнительные обобщающие методы для использования классических метрик.\n",
    "\n",
    "- В случае неравных классов нужно подбирать баланс классов для обучения и метрику, которая будет корректно отражать качество классификации.\n",
    "\n",
    "- Выбор метрики нужно делать с фокусом на предметную область, предварительно обрабатывая данные и, возможно, сегментируя (например, в случае с делением на богатых и бедных клиентов).\n",
    "\n",
    "- Можно использовать [sklearn.metrics.classification_report](https://scikit-learn.org/stable/modules/generated/sklearn.metrics.classification_report.html).\n",
    "    - `support` - это количество вхождений каждого класса в `y_true` (в данном случае переменная `y_test`)."
   ]
  },
  {
   "cell_type": "code",
   "execution_count": 24,
   "metadata": {},
   "outputs": [
    {
     "name": "stdout",
     "output_type": "stream",
     "text": [
      "              precision    recall  f1-score   support\n",
      "\n",
      "      class1       0.92      0.92      0.92        13\n",
      "      class2       0.92      0.92      0.92        12\n",
      "\n",
      "    accuracy                           0.92        25\n",
      "   macro avg       0.92      0.92      0.92        25\n",
      "weighted avg       0.92      0.92      0.92        25\n",
      "\n"
     ]
    }
   ],
   "source": [
    "from sklearn.metrics import classification_report\n",
    "\n",
    "report = classification_report(y_test, y_predicted, target_names=['class1', 'class2'])\n",
    "\n",
    "# print отображает лучше, чем display в данном случае\n",
    "print(report)"
   ]
  }
 ],
 "metadata": {
  "kernelspec": {
   "display_name": "Python [conda env:LevelUp_DataScience] *",
   "language": "python",
   "name": "conda-env-LevelUp_DataScience-py"
  },
  "language_info": {
   "codemirror_mode": {
    "name": "ipython",
    "version": 3
   },
   "file_extension": ".py",
   "mimetype": "text/x-python",
   "name": "python",
   "nbconvert_exporter": "python",
   "pygments_lexer": "ipython3",
   "version": "3.8.5"
  }
 },
 "nbformat": 4,
 "nbformat_minor": 4
}
