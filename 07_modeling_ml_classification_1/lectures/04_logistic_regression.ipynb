{
 "cells": [
  {
   "cell_type": "markdown",
   "metadata": {
    "jupyter": {
     "outputs_hidden": true
    }
   },
   "source": [
    "# Логистическая регрессия (Logistic Regression)"
   ]
  },
  {
   "cell_type": "markdown",
   "metadata": {},
   "source": [
    "---\n",
    "\n",
    "**Источники:**\n",
    "\n",
    "\n",
    "[Логистическая регрессия](https://ru.wikipedia.org/wiki/%D0%9B%D0%BE%D0%B3%D0%B8%D1%81%D1%82%D0%B8%D1%87%D0%B5%D1%81%D0%BA%D0%B0%D1%8F_%D1%80%D0%B5%D0%B3%D1%80%D0%B5%D1%81%D1%81%D0%B8%D1%8F)\n",
    "\n",
    "[Логистическая регрессия (Logistic Regression)](https://wiki.loginom.ru/articles/logistic-regression.html)\n",
    "\n",
    "[Multinomial Logistic Regression With Python](https://machinelearningmastery.com/multinomial-logistic-regression-with-python/)\n",
    "\n",
    "[Logistic regression](https://scikit-learn.org/stable/modules/linear_model.html#logistic-regression)\n",
    "\n",
    "[Multinomial logistic regression](https://en.wikipedia.org/wiki/Multinomial_logistic_regression#:~:text=In%20statistics%2C%20multinomial%20logistic%20regression,than%20two%20possible%20discrete%20outcomes.)\n",
    "\n",
    "[Вероятность](https://ru.wikipedia.org/wiki/%D0%92%D0%B5%D1%80%D0%BE%D1%8F%D1%82%D0%BD%D0%BE%D1%81%D1%82%D1%8C)\n",
    "\n",
    "[Теория вероятностей, формулы и примеры](https://skysmart.ru/articles/mathematic/teoriya-veroyatnostej-formuly-i-primery)\n",
    "\n",
    "---"
   ]
  },
  {
   "cell_type": "markdown",
   "metadata": {},
   "source": [
    "## Подготовка окружения"
   ]
  },
  {
   "cell_type": "code",
   "execution_count": 1,
   "metadata": {
    "collapsed": false,
    "jupyter": {
     "outputs_hidden": false
    },
    "pycharm": {
     "name": "#%%\n"
    }
   },
   "outputs": [],
   "source": [
    "# ВНИМАНИЕ: необходимо удостовериться, что виртуальная среда выбрана правильно!\n",
    "\n",
    "# Для MacOS/Ubuntu\n",
    "# !which pip\n",
    "\n",
    "# Для Windows\n",
    "# !where pip"
   ]
  },
  {
   "cell_type": "code",
   "execution_count": 2,
   "metadata": {
    "collapsed": false,
    "jupyter": {
     "outputs_hidden": false
    },
    "pycharm": {
     "name": "#%%\n"
    }
   },
   "outputs": [],
   "source": [
    "# !conda install matplotlib numpy scikit-learn seaborn -y"
   ]
  },
  {
   "cell_type": "code",
   "execution_count": 3,
   "metadata": {
    "collapsed": false,
    "jupyter": {
     "outputs_hidden": false
    },
    "pycharm": {
     "name": "#%%\n"
    }
   },
   "outputs": [
    {
     "data": {
      "text/plain": [
       "'1.19.2'"
      ]
     },
     "execution_count": 3,
     "metadata": {},
     "output_type": "execute_result"
    }
   ],
   "source": [
    "import numpy as np\n",
    "\n",
    "np.__version__"
   ]
  },
  {
   "cell_type": "code",
   "execution_count": 4,
   "metadata": {
    "collapsed": false,
    "jupyter": {
     "outputs_hidden": false
    },
    "pycharm": {
     "name": "#%%\n"
    }
   },
   "outputs": [
    {
     "data": {
      "text/plain": [
       "'1.2.3'"
      ]
     },
     "execution_count": 4,
     "metadata": {},
     "output_type": "execute_result"
    }
   ],
   "source": [
    "import pandas as pd\n",
    "\n",
    "pd.__version__"
   ]
  },
  {
   "cell_type": "code",
   "execution_count": 5,
   "metadata": {
    "collapsed": false,
    "jupyter": {
     "outputs_hidden": false
    },
    "pycharm": {
     "name": "#%%\n"
    }
   },
   "outputs": [
    {
     "data": {
      "text/plain": [
       "'3.3.4'"
      ]
     },
     "execution_count": 5,
     "metadata": {},
     "output_type": "execute_result"
    }
   ],
   "source": [
    "import matplotlib\n",
    "import matplotlib.pyplot as plt\n",
    "\n",
    "matplotlib.__version__"
   ]
  },
  {
   "cell_type": "code",
   "execution_count": 6,
   "metadata": {
    "collapsed": false,
    "jupyter": {
     "outputs_hidden": false
    },
    "pycharm": {
     "name": "#%%\n"
    }
   },
   "outputs": [
    {
     "data": {
      "text/plain": [
       "'0.11.1'"
      ]
     },
     "execution_count": 6,
     "metadata": {},
     "output_type": "execute_result"
    }
   ],
   "source": [
    "import seaborn as sns\n",
    "\n",
    "sns.__version__"
   ]
  },
  {
   "cell_type": "code",
   "execution_count": 7,
   "metadata": {
    "collapsed": false,
    "jupyter": {
     "outputs_hidden": false
    },
    "pycharm": {
     "name": "#%%\n"
    }
   },
   "outputs": [
    {
     "data": {
      "text/plain": [
       "'0.24.1'"
      ]
     },
     "execution_count": 7,
     "metadata": {},
     "output_type": "execute_result"
    }
   ],
   "source": [
    "import sklearn\n",
    "\n",
    "sklearn.__version__"
   ]
  },
  {
   "cell_type": "code",
   "execution_count": 8,
   "metadata": {},
   "outputs": [],
   "source": [
    "from sklearn.metrics import plot_confusion_matrix\n",
    "from sklearn.metrics import classification_report\n",
    "\n",
    "from sklearn.metrics import accuracy_score\n",
    "from sklearn.metrics import precision_score\n",
    "from sklearn.metrics import recall_score\n",
    "from sklearn.metrics import f1_score\n",
    "from sklearn.metrics import roc_auc_score\n",
    "\n",
    "from sklearn.metrics import plot_roc_curve\n",
    "from sklearn.metrics import plot_precision_recall_curve"
   ]
  },
  {
   "cell_type": "markdown",
   "metadata": {},
   "source": [
    "## Загрузка данных\n",
    "\n",
    "[Источник (CustomerChurnRate)](https://www.kaggle.com/gangliu/customerchurnrate)."
   ]
  },
  {
   "cell_type": "code",
   "execution_count": 9,
   "metadata": {
    "collapsed": false,
    "jupyter": {
     "outputs_hidden": false
    },
    "pycharm": {
     "name": "#%%\n"
    }
   },
   "outputs": [
    {
     "data": {
      "text/html": [
       "<div>\n",
       "<style scoped>\n",
       "    .dataframe tbody tr th:only-of-type {\n",
       "        vertical-align: middle;\n",
       "    }\n",
       "\n",
       "    .dataframe tbody tr th {\n",
       "        vertical-align: top;\n",
       "    }\n",
       "\n",
       "    .dataframe thead th {\n",
       "        text-align: right;\n",
       "    }\n",
       "</style>\n",
       "<table border=\"1\" class=\"dataframe\">\n",
       "  <thead>\n",
       "    <tr style=\"text-align: right;\">\n",
       "      <th></th>\n",
       "      <th>tenure</th>\n",
       "      <th>age</th>\n",
       "      <th>address</th>\n",
       "      <th>income</th>\n",
       "      <th>ed</th>\n",
       "      <th>employ</th>\n",
       "      <th>equip</th>\n",
       "      <th>callcard</th>\n",
       "      <th>wireless</th>\n",
       "      <th>longmon</th>\n",
       "      <th>tollmon</th>\n",
       "      <th>equipmon</th>\n",
       "      <th>cardmon</th>\n",
       "      <th>wiremon</th>\n",
       "      <th>longten</th>\n",
       "      <th>tollten</th>\n",
       "      <th>cardten</th>\n",
       "      <th>voice</th>\n",
       "      <th>pager</th>\n",
       "      <th>internet</th>\n",
       "      <th>callwait</th>\n",
       "      <th>confer</th>\n",
       "      <th>ebill</th>\n",
       "      <th>loglong</th>\n",
       "      <th>logtoll</th>\n",
       "      <th>lninc</th>\n",
       "      <th>custcat</th>\n",
       "      <th>churn</th>\n",
       "    </tr>\n",
       "  </thead>\n",
       "  <tbody>\n",
       "    <tr>\n",
       "      <th>0</th>\n",
       "      <td>11.00</td>\n",
       "      <td>33.00</td>\n",
       "      <td>7.00</td>\n",
       "      <td>136.00</td>\n",
       "      <td>5.00</td>\n",
       "      <td>5.00</td>\n",
       "      <td>0.00</td>\n",
       "      <td>1.00</td>\n",
       "      <td>1.00</td>\n",
       "      <td>4.40</td>\n",
       "      <td>20.75</td>\n",
       "      <td>0.00</td>\n",
       "      <td>15.25</td>\n",
       "      <td>35.70</td>\n",
       "      <td>42.00</td>\n",
       "      <td>211.45</td>\n",
       "      <td>125.00</td>\n",
       "      <td>1.00</td>\n",
       "      <td>1.00</td>\n",
       "      <td>0.00</td>\n",
       "      <td>1.00</td>\n",
       "      <td>1.00</td>\n",
       "      <td>0.00</td>\n",
       "      <td>1.48</td>\n",
       "      <td>3.03</td>\n",
       "      <td>4.91</td>\n",
       "      <td>4.00</td>\n",
       "      <td>1.00</td>\n",
       "    </tr>\n",
       "    <tr>\n",
       "      <th>1</th>\n",
       "      <td>33.00</td>\n",
       "      <td>33.00</td>\n",
       "      <td>12.00</td>\n",
       "      <td>33.00</td>\n",
       "      <td>2.00</td>\n",
       "      <td>0.00</td>\n",
       "      <td>0.00</td>\n",
       "      <td>0.00</td>\n",
       "      <td>0.00</td>\n",
       "      <td>9.45</td>\n",
       "      <td>0.00</td>\n",
       "      <td>0.00</td>\n",
       "      <td>0.00</td>\n",
       "      <td>0.00</td>\n",
       "      <td>288.80</td>\n",
       "      <td>0.00</td>\n",
       "      <td>0.00</td>\n",
       "      <td>0.00</td>\n",
       "      <td>0.00</td>\n",
       "      <td>0.00</td>\n",
       "      <td>0.00</td>\n",
       "      <td>0.00</td>\n",
       "      <td>0.00</td>\n",
       "      <td>2.25</td>\n",
       "      <td>3.24</td>\n",
       "      <td>3.50</td>\n",
       "      <td>1.00</td>\n",
       "      <td>1.00</td>\n",
       "    </tr>\n",
       "    <tr>\n",
       "      <th>2</th>\n",
       "      <td>23.00</td>\n",
       "      <td>30.00</td>\n",
       "      <td>9.00</td>\n",
       "      <td>30.00</td>\n",
       "      <td>1.00</td>\n",
       "      <td>2.00</td>\n",
       "      <td>0.00</td>\n",
       "      <td>0.00</td>\n",
       "      <td>0.00</td>\n",
       "      <td>6.30</td>\n",
       "      <td>0.00</td>\n",
       "      <td>0.00</td>\n",
       "      <td>0.00</td>\n",
       "      <td>0.00</td>\n",
       "      <td>157.05</td>\n",
       "      <td>0.00</td>\n",
       "      <td>0.00</td>\n",
       "      <td>0.00</td>\n",
       "      <td>0.00</td>\n",
       "      <td>0.00</td>\n",
       "      <td>0.00</td>\n",
       "      <td>1.00</td>\n",
       "      <td>0.00</td>\n",
       "      <td>1.84</td>\n",
       "      <td>3.24</td>\n",
       "      <td>3.40</td>\n",
       "      <td>3.00</td>\n",
       "      <td>0.00</td>\n",
       "    </tr>\n",
       "    <tr>\n",
       "      <th>3</th>\n",
       "      <td>38.00</td>\n",
       "      <td>35.00</td>\n",
       "      <td>5.00</td>\n",
       "      <td>76.00</td>\n",
       "      <td>2.00</td>\n",
       "      <td>10.00</td>\n",
       "      <td>1.00</td>\n",
       "      <td>1.00</td>\n",
       "      <td>1.00</td>\n",
       "      <td>6.05</td>\n",
       "      <td>45.00</td>\n",
       "      <td>50.10</td>\n",
       "      <td>23.25</td>\n",
       "      <td>64.90</td>\n",
       "      <td>239.55</td>\n",
       "      <td>1873.05</td>\n",
       "      <td>880.00</td>\n",
       "      <td>1.00</td>\n",
       "      <td>1.00</td>\n",
       "      <td>1.00</td>\n",
       "      <td>1.00</td>\n",
       "      <td>1.00</td>\n",
       "      <td>1.00</td>\n",
       "      <td>1.80</td>\n",
       "      <td>3.81</td>\n",
       "      <td>4.33</td>\n",
       "      <td>4.00</td>\n",
       "      <td>0.00</td>\n",
       "    </tr>\n",
       "    <tr>\n",
       "      <th>4</th>\n",
       "      <td>7.00</td>\n",
       "      <td>35.00</td>\n",
       "      <td>14.00</td>\n",
       "      <td>80.00</td>\n",
       "      <td>2.00</td>\n",
       "      <td>15.00</td>\n",
       "      <td>0.00</td>\n",
       "      <td>1.00</td>\n",
       "      <td>0.00</td>\n",
       "      <td>7.10</td>\n",
       "      <td>22.00</td>\n",
       "      <td>0.00</td>\n",
       "      <td>23.75</td>\n",
       "      <td>0.00</td>\n",
       "      <td>47.45</td>\n",
       "      <td>166.10</td>\n",
       "      <td>145.00</td>\n",
       "      <td>1.00</td>\n",
       "      <td>0.00</td>\n",
       "      <td>0.00</td>\n",
       "      <td>1.00</td>\n",
       "      <td>1.00</td>\n",
       "      <td>0.00</td>\n",
       "      <td>1.96</td>\n",
       "      <td>3.09</td>\n",
       "      <td>4.38</td>\n",
       "      <td>3.00</td>\n",
       "      <td>0.00</td>\n",
       "    </tr>\n",
       "    <tr>\n",
       "      <th>...</th>\n",
       "      <td>...</td>\n",
       "      <td>...</td>\n",
       "      <td>...</td>\n",
       "      <td>...</td>\n",
       "      <td>...</td>\n",
       "      <td>...</td>\n",
       "      <td>...</td>\n",
       "      <td>...</td>\n",
       "      <td>...</td>\n",
       "      <td>...</td>\n",
       "      <td>...</td>\n",
       "      <td>...</td>\n",
       "      <td>...</td>\n",
       "      <td>...</td>\n",
       "      <td>...</td>\n",
       "      <td>...</td>\n",
       "      <td>...</td>\n",
       "      <td>...</td>\n",
       "      <td>...</td>\n",
       "      <td>...</td>\n",
       "      <td>...</td>\n",
       "      <td>...</td>\n",
       "      <td>...</td>\n",
       "      <td>...</td>\n",
       "      <td>...</td>\n",
       "      <td>...</td>\n",
       "      <td>...</td>\n",
       "      <td>...</td>\n",
       "    </tr>\n",
       "    <tr>\n",
       "      <th>195</th>\n",
       "      <td>55.00</td>\n",
       "      <td>44.00</td>\n",
       "      <td>24.00</td>\n",
       "      <td>83.00</td>\n",
       "      <td>1.00</td>\n",
       "      <td>23.00</td>\n",
       "      <td>0.00</td>\n",
       "      <td>1.00</td>\n",
       "      <td>0.00</td>\n",
       "      <td>17.35</td>\n",
       "      <td>24.50</td>\n",
       "      <td>0.00</td>\n",
       "      <td>14.25</td>\n",
       "      <td>0.00</td>\n",
       "      <td>973.10</td>\n",
       "      <td>1343.50</td>\n",
       "      <td>720.00</td>\n",
       "      <td>0.00</td>\n",
       "      <td>0.00</td>\n",
       "      <td>0.00</td>\n",
       "      <td>0.00</td>\n",
       "      <td>1.00</td>\n",
       "      <td>0.00</td>\n",
       "      <td>2.85</td>\n",
       "      <td>3.20</td>\n",
       "      <td>4.42</td>\n",
       "      <td>3.00</td>\n",
       "      <td>0.00</td>\n",
       "    </tr>\n",
       "    <tr>\n",
       "      <th>196</th>\n",
       "      <td>34.00</td>\n",
       "      <td>23.00</td>\n",
       "      <td>3.00</td>\n",
       "      <td>24.00</td>\n",
       "      <td>1.00</td>\n",
       "      <td>7.00</td>\n",
       "      <td>0.00</td>\n",
       "      <td>1.00</td>\n",
       "      <td>0.00</td>\n",
       "      <td>6.00</td>\n",
       "      <td>28.00</td>\n",
       "      <td>0.00</td>\n",
       "      <td>12.75</td>\n",
       "      <td>0.00</td>\n",
       "      <td>203.25</td>\n",
       "      <td>959.40</td>\n",
       "      <td>435.00</td>\n",
       "      <td>0.00</td>\n",
       "      <td>0.00</td>\n",
       "      <td>0.00</td>\n",
       "      <td>1.00</td>\n",
       "      <td>1.00</td>\n",
       "      <td>0.00</td>\n",
       "      <td>1.79</td>\n",
       "      <td>3.33</td>\n",
       "      <td>3.18</td>\n",
       "      <td>3.00</td>\n",
       "      <td>0.00</td>\n",
       "    </tr>\n",
       "    <tr>\n",
       "      <th>197</th>\n",
       "      <td>6.00</td>\n",
       "      <td>32.00</td>\n",
       "      <td>10.00</td>\n",
       "      <td>47.00</td>\n",
       "      <td>1.00</td>\n",
       "      <td>10.00</td>\n",
       "      <td>0.00</td>\n",
       "      <td>1.00</td>\n",
       "      <td>0.00</td>\n",
       "      <td>3.85</td>\n",
       "      <td>23.75</td>\n",
       "      <td>0.00</td>\n",
       "      <td>12.50</td>\n",
       "      <td>0.00</td>\n",
       "      <td>29.90</td>\n",
       "      <td>128.45</td>\n",
       "      <td>80.00</td>\n",
       "      <td>0.00</td>\n",
       "      <td>0.00</td>\n",
       "      <td>0.00</td>\n",
       "      <td>1.00</td>\n",
       "      <td>1.00</td>\n",
       "      <td>0.00</td>\n",
       "      <td>1.35</td>\n",
       "      <td>3.17</td>\n",
       "      <td>3.85</td>\n",
       "      <td>3.00</td>\n",
       "      <td>0.00</td>\n",
       "    </tr>\n",
       "    <tr>\n",
       "      <th>198</th>\n",
       "      <td>24.00</td>\n",
       "      <td>30.00</td>\n",
       "      <td>0.00</td>\n",
       "      <td>25.00</td>\n",
       "      <td>4.00</td>\n",
       "      <td>5.00</td>\n",
       "      <td>0.00</td>\n",
       "      <td>1.00</td>\n",
       "      <td>1.00</td>\n",
       "      <td>8.70</td>\n",
       "      <td>47.75</td>\n",
       "      <td>0.00</td>\n",
       "      <td>32.75</td>\n",
       "      <td>64.00</td>\n",
       "      <td>186.60</td>\n",
       "      <td>1152.90</td>\n",
       "      <td>780.00</td>\n",
       "      <td>1.00</td>\n",
       "      <td>1.00</td>\n",
       "      <td>1.00</td>\n",
       "      <td>1.00</td>\n",
       "      <td>1.00</td>\n",
       "      <td>1.00</td>\n",
       "      <td>2.16</td>\n",
       "      <td>3.87</td>\n",
       "      <td>3.22</td>\n",
       "      <td>4.00</td>\n",
       "      <td>1.00</td>\n",
       "    </tr>\n",
       "    <tr>\n",
       "      <th>199</th>\n",
       "      <td>61.00</td>\n",
       "      <td>50.00</td>\n",
       "      <td>16.00</td>\n",
       "      <td>190.00</td>\n",
       "      <td>2.00</td>\n",
       "      <td>22.00</td>\n",
       "      <td>1.00</td>\n",
       "      <td>1.00</td>\n",
       "      <td>1.00</td>\n",
       "      <td>16.85</td>\n",
       "      <td>0.00</td>\n",
       "      <td>42.55</td>\n",
       "      <td>26.50</td>\n",
       "      <td>44.10</td>\n",
       "      <td>1063.15</td>\n",
       "      <td>0.00</td>\n",
       "      <td>1600.00</td>\n",
       "      <td>0.00</td>\n",
       "      <td>0.00</td>\n",
       "      <td>1.00</td>\n",
       "      <td>0.00</td>\n",
       "      <td>0.00</td>\n",
       "      <td>1.00</td>\n",
       "      <td>2.82</td>\n",
       "      <td>3.24</td>\n",
       "      <td>5.25</td>\n",
       "      <td>2.00</td>\n",
       "      <td>0.00</td>\n",
       "    </tr>\n",
       "  </tbody>\n",
       "</table>\n",
       "<p>200 rows × 28 columns</p>\n",
       "</div>"
      ],
      "text/plain": [
       "     tenure   age  address  income   ed  employ  equip  callcard  wireless  \\\n",
       "0     11.00 33.00     7.00  136.00 5.00    5.00   0.00      1.00      1.00   \n",
       "1     33.00 33.00    12.00   33.00 2.00    0.00   0.00      0.00      0.00   \n",
       "2     23.00 30.00     9.00   30.00 1.00    2.00   0.00      0.00      0.00   \n",
       "3     38.00 35.00     5.00   76.00 2.00   10.00   1.00      1.00      1.00   \n",
       "4      7.00 35.00    14.00   80.00 2.00   15.00   0.00      1.00      0.00   \n",
       "..      ...   ...      ...     ...  ...     ...    ...       ...       ...   \n",
       "195   55.00 44.00    24.00   83.00 1.00   23.00   0.00      1.00      0.00   \n",
       "196   34.00 23.00     3.00   24.00 1.00    7.00   0.00      1.00      0.00   \n",
       "197    6.00 32.00    10.00   47.00 1.00   10.00   0.00      1.00      0.00   \n",
       "198   24.00 30.00     0.00   25.00 4.00    5.00   0.00      1.00      1.00   \n",
       "199   61.00 50.00    16.00  190.00 2.00   22.00   1.00      1.00      1.00   \n",
       "\n",
       "     longmon  tollmon  equipmon  cardmon  wiremon  longten  tollten  cardten  \\\n",
       "0       4.40    20.75      0.00    15.25    35.70    42.00   211.45   125.00   \n",
       "1       9.45     0.00      0.00     0.00     0.00   288.80     0.00     0.00   \n",
       "2       6.30     0.00      0.00     0.00     0.00   157.05     0.00     0.00   \n",
       "3       6.05    45.00     50.10    23.25    64.90   239.55  1873.05   880.00   \n",
       "4       7.10    22.00      0.00    23.75     0.00    47.45   166.10   145.00   \n",
       "..       ...      ...       ...      ...      ...      ...      ...      ...   \n",
       "195    17.35    24.50      0.00    14.25     0.00   973.10  1343.50   720.00   \n",
       "196     6.00    28.00      0.00    12.75     0.00   203.25   959.40   435.00   \n",
       "197     3.85    23.75      0.00    12.50     0.00    29.90   128.45    80.00   \n",
       "198     8.70    47.75      0.00    32.75    64.00   186.60  1152.90   780.00   \n",
       "199    16.85     0.00     42.55    26.50    44.10  1063.15     0.00  1600.00   \n",
       "\n",
       "     voice  pager  internet  callwait  confer  ebill  loglong  logtoll  lninc  \\\n",
       "0     1.00   1.00      0.00      1.00    1.00   0.00     1.48     3.03   4.91   \n",
       "1     0.00   0.00      0.00      0.00    0.00   0.00     2.25     3.24   3.50   \n",
       "2     0.00   0.00      0.00      0.00    1.00   0.00     1.84     3.24   3.40   \n",
       "3     1.00   1.00      1.00      1.00    1.00   1.00     1.80     3.81   4.33   \n",
       "4     1.00   0.00      0.00      1.00    1.00   0.00     1.96     3.09   4.38   \n",
       "..     ...    ...       ...       ...     ...    ...      ...      ...    ...   \n",
       "195   0.00   0.00      0.00      0.00    1.00   0.00     2.85     3.20   4.42   \n",
       "196   0.00   0.00      0.00      1.00    1.00   0.00     1.79     3.33   3.18   \n",
       "197   0.00   0.00      0.00      1.00    1.00   0.00     1.35     3.17   3.85   \n",
       "198   1.00   1.00      1.00      1.00    1.00   1.00     2.16     3.87   3.22   \n",
       "199   0.00   0.00      1.00      0.00    0.00   1.00     2.82     3.24   5.25   \n",
       "\n",
       "     custcat  churn  \n",
       "0       4.00   1.00  \n",
       "1       1.00   1.00  \n",
       "2       3.00   0.00  \n",
       "3       4.00   0.00  \n",
       "4       3.00   0.00  \n",
       "..       ...    ...  \n",
       "195     3.00   0.00  \n",
       "196     3.00   0.00  \n",
       "197     3.00   0.00  \n",
       "198     4.00   1.00  \n",
       "199     2.00   0.00  \n",
       "\n",
       "[200 rows x 28 columns]"
      ]
     },
     "execution_count": 9,
     "metadata": {},
     "output_type": "execute_result"
    }
   ],
   "source": [
    "df = pd.read_csv('./../../data/ChurnData.csv')\n",
    "\n",
    "# показать все колонки\n",
    "pd.options.display.max_columns = None\n",
    "\n",
    "# изменить формат отображения с помощью средства форматирования\n",
    "# (float без E, а 2 знаков после запятой)\n",
    "# (для удобства чтения)\n",
    "pd.options.display.float_format = '{:.2f}'.format\n",
    "\n",
    "# отобразить первые 5 и последние 5 строк\n",
    "df"
   ]
  },
  {
   "cell_type": "code",
   "execution_count": 10,
   "metadata": {},
   "outputs": [
    {
     "name": "stdout",
     "output_type": "stream",
     "text": [
      "<class 'pandas.core.frame.DataFrame'>\n",
      "RangeIndex: 200 entries, 0 to 199\n",
      "Data columns (total 10 columns):\n",
      " #   Column    Non-Null Count  Dtype  \n",
      "---  ------    --------------  -----  \n",
      " 0   tenure    200 non-null    float64\n",
      " 1   age       200 non-null    float64\n",
      " 2   address   200 non-null    float64\n",
      " 3   income    200 non-null    float64\n",
      " 4   ed        200 non-null    float64\n",
      " 5   employ    200 non-null    float64\n",
      " 6   equip     200 non-null    float64\n",
      " 7   callcard  200 non-null    float64\n",
      " 8   wireless  200 non-null    float64\n",
      " 9   churn     200 non-null    float64\n",
      "dtypes: float64(10)\n",
      "memory usage: 15.8 KB\n"
     ]
    }
   ],
   "source": [
    "df = df[['tenure', 'age', 'address', 'income', 'ed', 'employ', 'equip',  'callcard', 'wireless','churn']]\n",
    "df.info()"
   ]
  },
  {
   "cell_type": "markdown",
   "metadata": {},
   "source": [
    "## Вероятность (Probability)\n",
    "\n",
    "**Вероятность** ($P$, probability) — степень (относительная мера, количественная оценка) возможности наступления некоторого события.\n",
    "\n",
    "В теории вероятностей и математической статистике понятие **вероятности** формализуется как числовая характеристика события — вероятностная мера (или её значение) — мера на множестве событий (подмножеств множества элементарных событий), принимающая значения **от 0 до 1**.\n",
    "\n",
    "Если вероятность наступления события равна $p$, то вероятность его ненаступления (а также невероятность наступления) равна $1-p$.\n",
    "\n",
    "В частности, вероятность $\\large \\frac{1}{2}$ означает равную вероятность наступления и ненаступления события.\n",
    "\n",
    "Классическое определение вероятности основано на понятии **равновозможности исходов**.\n",
    "\n",
    "События $A$ и $B$ называются **независимыми (independent)**, если вероятность наступления одного из них не зависит от того, наступило ли другое событие.\n",
    "\n",
    "$P(A) = \\cfrac{m}{N}$, где $n$ — общее число всех равновозможных, элементарных исходов этого испытания, а $m$ — количество элементарных исходов, благоприятствующих событию $A$.\n",
    "\n",
    "***Условная вероятность (англ. conditional probability)**: $P(A|B)$ - это условная вероятность события $A$ при условии, что произошло событие $B$."
   ]
  },
  {
   "cell_type": "markdown",
   "metadata": {},
   "source": [
    "### Свойства\n",
    "\n",
    "- Вероятность достоверного события равна $1$.\n",
    "- Вероятность невозможного события равна $0$.\n",
    "- Вероятность случайного события есть положительное число, заключенное между $0$ и $1$. Таким образом, вероятность любого события удовлетворяет двойному неравенству: $0 \\leqslant P(A) \\leqslant 1$.\n"
   ]
  },
  {
   "cell_type": "markdown",
   "metadata": {},
   "source": [
    "### Примеры (для независимых событий)\n",
    "\n",
    "- В пакете 15 конфет: 5 с молочным шоколадом и 10 — с горьким. Какова вероятность вынуть из пакета конфету с белым шоколадом?\n",
    "\n",
    "    Так как в пакете нет конфет с белым шоколадом, то $m$ = 0, $n$ = 15. \n",
    "    \n",
    "    Следовательно, искомая вероятность равна $0$: $P = \\cfrac{0}{15} = 0$.\n",
    "    \n",
    "- Из колоды в 36 карт вынули одну карту. Какова вероятность появления карты червовой масти?\n",
    "    Количество элементарных исходов, то есть количество карт равно $n = 36$. Число случаев, благоприятствующих появлению карты червовой масти ($A$) равно $m = 9$.  \n",
    "    \n",
    "    Следовательно, $P(A) = \\cfrac{9}{36} = \\cfrac{1}{4} = 0.25$\n",
    "\n",
    "- Вероятности выпадения \"орла\" или \"решки\" при случайном подбрасывании монеты одинаковы и равны $\\cfrac{1}{2}$.\n",
    "\n",
    "- Вероятности выпадения любой грани игральной кости одинаковы и равны $\\cfrac{1}{6}$."
   ]
  },
  {
   "cell_type": "markdown",
   "metadata": {},
   "source": [
    "### Энтропия\n",
    "\n",
    "В математической статистике **энтропия** — мера неопределённости распределения вероятностей."
   ]
  },
  {
   "cell_type": "markdown",
   "metadata": {},
   "source": [
    "## Различия между Линейной (Linear) и Логистической (Logistic) регрессией (Regression)\n",
    "\n",
    "\n",
    "<img src=\"images/linear_vs_logistic_regression_2.png\" width=\"600\">\n",
    "\n",
    "\n",
    "В то время как **линейная регрессия** подходит для оценки **непрерывных значений** (например, оценок цены дома), это не лучший инструмент для прогнозирования класса, то есть **дискретных значений**.\n",
    "\n",
    "Чтобы **оценить класс**, нужно какое-то руководство в том, какой класс будет наиболее вероятным для этого набора признаков. Для этого можно использовать **логистическую регрессию**.\n",
    "\n",
    "**Логистическая регрессия** - это **разновидность линейной регрессии**, полезная, когда наблюдаемая зависимая переменная $y$ является категориальной. \n",
    "\n",
    "**Логистическая регрессия** соответствует специальной s-образной кривой, взяв линейную регрессию и преобразовав числовую оценку в вероятность с помощью следующей функции, которая называется сигмоидной функцией $\\sigma$:\n",
    "\n",
    "$$\n",
    "ℎ_\\theta(𝑥) = \\sigma({\\theta^TX}) =  \\frac {e^{(\\theta_0 + \\theta_1  x_1 + \\theta_2  x_2 +...)}}{1 + e^{(\\theta_0 + \\theta_1  x_1 + \\theta_2  x_2 +\\cdots)}}\n",
    "$$\n",
    "Или:\n",
    "$$\n",
    "Probability\\space of \\space Class_1 =  P(y=1|X) = \\sigma({\\theta^TX}) = \\frac{e^{\\theta^TX}}{1+e^{\\theta^TX}} \n",
    "$$\n",
    "\n",
    "В этом уравнении ${\\theta^TX}$ - это результат регрессии (сумма переменных, взвешенных коэффициентами), `exp` - экспоненциальная функция, а $\\sigma(\\theta^TX)$ - сигмоида или [логистическая функция](https://ru.wikipedia.org/wiki/%D0%9B%D0%BE%D0%B3%D0%B8%D1%81%D1%82%D0%B8%D1%87%D0%B5%D1%81%D0%BA%D0%BE%D0%B5_%D1%83%D1%80%D0%B0%D0%B2%D0%BD%D0%B5%D0%BD%D0%B8%D0%B5), также называется логистической кривой. Это обычная S-образная форма (сигмовидная кривая).\n",
    "\n",
    "<img src=\"images/linear_vs_logistic_regression_1.png\" width=\"600\">\n",
    "\n",
    "\n",
    "Итак, вкратце, логистическая регрессия передает входные данные через логистическую / сигмоиду, но затем обрабатывает результат как вероятность:\n",
    "\n",
    "<img src=\"images/log_regr_prob.png\" width=\"400\">\n",
    "\n",
    "**Логистическая регрессия выдаёт ответ в виде вероятности бинарного события (1 или 0).**\n",
    "\n",
    "Эта модель применяется для решения задач классификации — объект $x$ можно отнести к классу $y=1$, если предсказанная моделью вероятность $P\\{y=1|x\\}>0.5$, и к классу $y=0$ в противном случае.\n",
    "А логистическая регрессия **лучшим образом подходит, когда выходная переменная принимает только два значения**.\n",
    "\n",
    "Цель алгоритма **логистической регрессии** - найти наилучшие параметры $\\theta$ для $$ℎ_\\theta(𝑥) = \\sigma({\\theta^TX})$$ таким образом, чтобы наилучшим образом предсказать класс каждого случая.\n",
    "\n",
    "**Для улучшения обобщающей способности получающейся модели, то есть уменьшения эффекта переобучения, на практике часто рассматривается логистическая регрессия с регуляризацией.**\n",
    "\n",
    "<img src=\"images/2d_log_reg.png\" width=\"400\">"
   ]
  },
  {
   "cell_type": "markdown",
   "metadata": {},
   "source": [
    "## Бинарная классификация (ровно 2 класса)"
   ]
  },
  {
   "cell_type": "markdown",
   "metadata": {},
   "source": [
    "### Предварительная обработка (pre-processing) и выбор (selection) данных"
   ]
  },
  {
   "cell_type": "code",
   "execution_count": 11,
   "metadata": {},
   "outputs": [],
   "source": [
    "X = np.asarray(df[['tenure', 'age', 'address', 'income', 'ed', 'employ', 'equip']])\n",
    "y = np.asarray(df['churn'])"
   ]
  },
  {
   "cell_type": "code",
   "execution_count": 12,
   "metadata": {},
   "outputs": [
    {
     "data": {
      "text/plain": [
       "array([[-1.13518441, -0.62595491, -0.4588971 ,  0.4751423 ,  1.6961288 ,\n",
       "        -0.58477841, -0.85972695],\n",
       "       [-0.11604313, -0.62595491,  0.03454064, -0.32886061, -0.6433592 ,\n",
       "        -1.14437497, -0.85972695],\n",
       "       [-0.57928917, -0.85594447, -0.261522  , -0.35227817, -1.42318853,\n",
       "        -0.92053635, -0.85972695],\n",
       "       [ 0.11557989, -0.47262854, -0.65627219,  0.00679109, -0.6433592 ,\n",
       "        -0.02518185,  1.16316   ],\n",
       "       [-1.32048283, -0.47262854,  0.23191574,  0.03801451, -0.6433592 ,\n",
       "         0.53441472, -0.85972695]])"
      ]
     },
     "execution_count": 12,
     "metadata": {},
     "output_type": "execute_result"
    }
   ],
   "source": [
    "from sklearn import preprocessing\n",
    "\n",
    "# нормализация\n",
    "X = preprocessing.StandardScaler().fit_transform(X)\n",
    "X[0:5]"
   ]
  },
  {
   "cell_type": "code",
   "execution_count": 13,
   "metadata": {},
   "outputs": [],
   "source": [
    "from sklearn.model_selection import train_test_split\n",
    "\n",
    "X_train, X_test, y_train, y_test = train_test_split(X, y, test_size=0.2)"
   ]
  },
  {
   "cell_type": "markdown",
   "metadata": {},
   "source": [
    "### Обучение модели (Train)"
   ]
  },
  {
   "cell_type": "code",
   "execution_count": 14,
   "metadata": {},
   "outputs": [
    {
     "data": {
      "text/plain": [
       "LogisticRegression(C=0.01, solver='liblinear')"
      ]
     },
     "execution_count": 14,
     "metadata": {},
     "output_type": "execute_result"
    }
   ],
   "source": [
    "from sklearn.linear_model import LogisticRegression\n",
    "model = LogisticRegression(C=0.01, solver='liblinear').fit(X_train,y_train)\n",
    "model"
   ]
  },
  {
   "cell_type": "code",
   "execution_count": 15,
   "metadata": {},
   "outputs": [
    {
     "data": {
      "text/plain": [
       "array([1., 0., 0., 0., 0., 0., 0., 1., 0., 1., 0., 0., 0., 1., 1., 1., 0.,\n",
       "       1., 1., 1., 0., 1., 1., 1., 0., 1., 0., 0., 0., 1., 0., 0., 0., 0.,\n",
       "       1., 0., 0., 1., 1., 0.])"
      ]
     },
     "execution_count": 15,
     "metadata": {},
     "output_type": "execute_result"
    }
   ],
   "source": [
    "y_predicted = model.predict(X_test)\n",
    "y_predicted"
   ]
  },
  {
   "cell_type": "code",
   "execution_count": 16,
   "metadata": {},
   "outputs": [
    {
     "data": {
      "text/plain": [
       "array([[0.45857357, 0.54142643],\n",
       "       [0.69149898, 0.30850102],\n",
       "       [0.59953181, 0.40046819],\n",
       "       [0.64305913, 0.35694087],\n",
       "       [0.52623889, 0.47376111],\n",
       "       [0.50873991, 0.49126009],\n",
       "       [0.52230552, 0.47769448],\n",
       "       [0.49974994, 0.50025006],\n",
       "       [0.51227058, 0.48772942],\n",
       "       [0.49078306, 0.50921694],\n",
       "       [0.54537462, 0.45462538],\n",
       "       [0.55671773, 0.44328227],\n",
       "       [0.50365787, 0.49634213],\n",
       "       [0.46112255, 0.53887745],\n",
       "       [0.48707607, 0.51292393],\n",
       "       [0.45497396, 0.54502604],\n",
       "       [0.52385862, 0.47614138],\n",
       "       [0.37243644, 0.62756356],\n",
       "       [0.44086785, 0.55913215],\n",
       "       [0.49851814, 0.50148186],\n",
       "       [0.78332631, 0.21667369],\n",
       "       [0.36395557, 0.63604443],\n",
       "       [0.38481202, 0.61518798],\n",
       "       [0.49707568, 0.50292432],\n",
       "       [0.55160677, 0.44839323],\n",
       "       [0.39100364, 0.60899636],\n",
       "       [0.52672355, 0.47327645],\n",
       "       [0.69285056, 0.30714944],\n",
       "       [0.63697871, 0.36302129],\n",
       "       [0.39466533, 0.60533467],\n",
       "       [0.70683584, 0.29316416],\n",
       "       [0.54693284, 0.45306716],\n",
       "       [0.70390281, 0.29609719],\n",
       "       [0.53234396, 0.46765604],\n",
       "       [0.44610473, 0.55389527],\n",
       "       [0.52590118, 0.47409882],\n",
       "       [0.51068887, 0.48931113],\n",
       "       [0.45332994, 0.54667006],\n",
       "       [0.4995866 , 0.5004134 ],\n",
       "       [0.57945165, 0.42054835]])"
      ]
     },
     "execution_count": 16,
     "metadata": {},
     "output_type": "execute_result"
    }
   ],
   "source": [
    "# получить вероятности\n",
    "y_predicted_prob = model.predict_proba(X_test)\n",
    "y_predicted_prob"
   ]
  },
  {
   "cell_type": "markdown",
   "metadata": {},
   "source": [
    "### Оценка качества модели (Evaluation)"
   ]
  },
  {
   "cell_type": "code",
   "execution_count": 17,
   "metadata": {},
   "outputs": [
    {
     "data": {
      "text/plain": [
       "<sklearn.metrics._plot.confusion_matrix.ConfusionMatrixDisplay at 0x7fb14739d580>"
      ]
     },
     "execution_count": 17,
     "metadata": {},
     "output_type": "execute_result"
    },
    {
     "data": {
      "image/png": "[encoded data removed]",
      "text/plain": [
       "<Figure size 432x288 with 2 Axes>"
      ]
     },
     "metadata": {
      "needs_background": "light"
     },
     "output_type": "display_data"
    }
   ],
   "source": [
    "plot_confusion_matrix(model, X_test, y_test)"
   ]
  },
  {
   "cell_type": "code",
   "execution_count": 18,
   "metadata": {},
   "outputs": [
    {
     "name": "stdout",
     "output_type": "stream",
     "text": [
      "              precision    recall  f1-score   support\n",
      "\n",
      "         0.0       0.83      0.66      0.73        29\n",
      "         1.0       0.41      0.64      0.50        11\n",
      "\n",
      "    accuracy                           0.65        40\n",
      "   macro avg       0.62      0.65      0.62        40\n",
      "weighted avg       0.71      0.65      0.67        40\n",
      "\n"
     ]
    }
   ],
   "source": [
    "print(classification_report(y_test, y_predicted))"
   ]
  },
  {
   "cell_type": "code",
   "execution_count": 19,
   "metadata": {},
   "outputs": [
    {
     "name": "stdout",
     "output_type": "stream",
     "text": [
      "accuracy = 0.650\n",
      "precision = 0.619\n",
      "recall = 0.646\n",
      "f1 = 0.615\n",
      "roc_auc = 0.646\n"
     ]
    }
   ],
   "source": [
    "accuracy = accuracy_score(y_test, y_predicted)\n",
    "precision = precision_score(y_test, y_predicted, average='macro')\n",
    "recall = recall_score(y_test, y_predicted, average='macro')\n",
    "f1 = f1_score(y_test, y_predicted, average='macro')\n",
    "roc_auc = roc_auc_score(y_test, y_predicted, average='macro')\n",
    "\n",
    "print(f\"accuracy = {accuracy:.3f}\\nprecision = {precision:.3f}\\nrecall = {recall:.3f}\\nf1 = {f1:.3f}\\nroc_auc = {roc_auc:.3f}\")"
   ]
  },
  {
   "cell_type": "code",
   "execution_count": 20,
   "metadata": {},
   "outputs": [
    {
     "data": {
      "text/plain": [
       "<sklearn.metrics._plot.roc_curve.RocCurveDisplay at 0x7fb1467890a0>"
      ]
     },
     "execution_count": 20,
     "metadata": {},
     "output_type": "execute_result"
    },
    {
     "data": {
      "image/png": "[encoded data removed]",
      "text/plain": [
       "<Figure size 432x288 with 1 Axes>"
      ]
     },
     "metadata": {
      "needs_background": "light"
     },
     "output_type": "display_data"
    }
   ],
   "source": [
    "plot_roc_curve(model, X_test, y_test)"
   ]
  },
  {
   "cell_type": "code",
   "execution_count": 21,
   "metadata": {},
   "outputs": [
    {
     "data": {
      "text/plain": [
       "<sklearn.metrics._plot.precision_recall_curve.PrecisionRecallDisplay at 0x7fb14674d610>"
      ]
     },
     "execution_count": 21,
     "metadata": {},
     "output_type": "execute_result"
    },
    {
     "data": {
      "image/png": "[encoded data removed]",
      "text/plain": [
       "<Figure size 432x288 with 1 Axes>"
      ]
     },
     "metadata": {
      "needs_background": "light"
     },
     "output_type": "display_data"
    }
   ],
   "source": [
    "plot_precision_recall_curve(model, X_test, y_test)"
   ]
  },
  {
   "cell_type": "markdown",
   "metadata": {},
   "source": [
    "## Мультиклассовая классификация (> 2 классов) / Multinomial logistic regression\n",
    "\n",
    "Полиномиальная логистическая регрессия — это расширение логистической регрессии для мультиклассовой классификации.\n",
    "\n",
    "По умолчанию логистическая регрессия не может использоваться для задач классификации, которые имеют более двух меток классов (мультиклассовая классификация).\n",
    "\n",
    "\n",
    "В `sklearn` реализации в случае нескольких классов алгоритм обучения использует схему **one-vs-rest (OvR)**, если опция `multi_class `установлена на `ovr`, и использует потерю кросс-энтропии (cross-entropy loss), если опция `multi_class` установлена на `multinomial`. По умолчанию установлен вариант `auto`, в таком случае выбирается `ovr`, если данные являются двоичными, или если solver = `liblinear`, и в противном случае выбирает `multinomial`.\n",
    "\n",
    "Если выбран вариант `ovr`, то для каждой метки подходит двоичная задача. Для `multinomial` функция потерь (loss) полином, соответствующие всему распределению вероятностей, даже если данные являются двоичными. Значение `multinomial` недоступно, если solver = `liblinear`."
   ]
  },
  {
   "cell_type": "markdown",
   "metadata": {},
   "source": [
    "### Предварительная обработка (pre-processing) и выбор (selection) данных"
   ]
  },
  {
   "cell_type": "code",
   "execution_count": 22,
   "metadata": {},
   "outputs": [
    {
     "data": {
      "text/plain": [
       "4.00    59\n",
       "2.00    48\n",
       "1.00    40\n",
       "3.00    36\n",
       "5.00    17\n",
       "Name: ed, dtype: int64"
      ]
     },
     "execution_count": 22,
     "metadata": {},
     "output_type": "execute_result"
    }
   ],
   "source": [
    "df.ed.value_counts()"
   ]
  },
  {
   "cell_type": "code",
   "execution_count": 23,
   "metadata": {},
   "outputs": [],
   "source": [
    "X = np.asarray(df[['tenure', 'age', 'address', 'income', 'churn', 'employ', 'equip']])\n",
    "y = np.asarray(df['ed'])"
   ]
  },
  {
   "cell_type": "code",
   "execution_count": 24,
   "metadata": {},
   "outputs": [
    {
     "data": {
      "text/plain": [
       "array([[-1.13518441, -0.62595491, -0.4588971 ,  0.4751423 ,  1.56469673,\n",
       "        -0.58477841, -0.85972695],\n",
       "       [-0.11604313, -0.62595491,  0.03454064, -0.32886061,  1.56469673,\n",
       "        -1.14437497, -0.85972695],\n",
       "       [-0.57928917, -0.85594447, -0.261522  , -0.35227817, -0.63910148,\n",
       "        -0.92053635, -0.85972695],\n",
       "       [ 0.11557989, -0.47262854, -0.65627219,  0.00679109, -0.63910148,\n",
       "        -0.02518185,  1.16316   ],\n",
       "       [-1.32048283, -0.47262854,  0.23191574,  0.03801451, -0.63910148,\n",
       "         0.53441472, -0.85972695]])"
      ]
     },
     "execution_count": 24,
     "metadata": {},
     "output_type": "execute_result"
    }
   ],
   "source": [
    "from sklearn import preprocessing\n",
    "\n",
    "# нормализация\n",
    "X = preprocessing.StandardScaler().fit_transform(X)\n",
    "X[0:5]"
   ]
  },
  {
   "cell_type": "code",
   "execution_count": 25,
   "metadata": {},
   "outputs": [],
   "source": [
    "from sklearn.model_selection import train_test_split\n",
    "\n",
    "X_train, X_test, y_train, y_test = train_test_split(X, y, test_size=0.2)"
   ]
  },
  {
   "cell_type": "markdown",
   "metadata": {},
   "source": [
    "### Обучение модели (Train)"
   ]
  },
  {
   "cell_type": "code",
   "execution_count": 26,
   "metadata": {},
   "outputs": [
    {
     "data": {
      "text/plain": [
       "LogisticRegression(C=0.01, solver='liblinear')"
      ]
     },
     "execution_count": 26,
     "metadata": {},
     "output_type": "execute_result"
    }
   ],
   "source": [
    "from sklearn.linear_model import LogisticRegression\n",
    "model = LogisticRegression(C=0.01, solver='liblinear').fit(X_train,y_train)\n",
    "model"
   ]
  },
  {
   "cell_type": "code",
   "execution_count": 27,
   "metadata": {},
   "outputs": [
    {
     "data": {
      "text/plain": [
       "array([2., 1., 4., 1., 4., 4., 1., 4., 4., 1., 4., 4., 4., 1., 4., 1., 1.,\n",
       "       1., 4., 2., 1., 1., 4., 1., 4., 4., 2., 4., 4., 2., 4., 4., 4., 4.,\n",
       "       1., 4., 4., 1., 4., 4.])"
      ]
     },
     "execution_count": 27,
     "metadata": {},
     "output_type": "execute_result"
    }
   ],
   "source": [
    "y_predicted = model.predict(X_test)\n",
    "y_predicted"
   ]
  },
  {
   "cell_type": "code",
   "execution_count": 28,
   "metadata": {},
   "outputs": [
    {
     "data": {
      "text/plain": [
       "array([[0.20828739, 0.2249759 , 0.19515798, 0.20285573, 0.168723  ],\n",
       "       [0.22354322, 0.21454629, 0.19473364, 0.18716343, 0.18001343],\n",
       "       [0.1719605 , 0.18687407, 0.19384517, 0.25094577, 0.19637449],\n",
       "       [0.22083227, 0.20748418, 0.19694325, 0.1978485 , 0.17689179],\n",
       "       [0.17820108, 0.18328774, 0.19222116, 0.24876212, 0.1975279 ],\n",
       "       [0.18385537, 0.19630213, 0.20732613, 0.21979246, 0.19272392],\n",
       "       [0.23796171, 0.2108863 , 0.19816605, 0.17746685, 0.17551909],\n",
       "       [0.17268661, 0.18339866, 0.19320999, 0.2501595 , 0.20054524],\n",
       "       [0.17289522, 0.18540511, 0.20037764, 0.24435314, 0.1969689 ],\n",
       "       [0.24545241, 0.21117481, 0.19850314, 0.16705198, 0.17781766],\n",
       "       [0.21101546, 0.20626114, 0.1868722 , 0.21759186, 0.17825934],\n",
       "       [0.17298403, 0.18023592, 0.18911589, 0.25578772, 0.20187644],\n",
       "       [0.20483506, 0.20715805, 0.18806808, 0.22137809, 0.17856073],\n",
       "       [0.23303792, 0.21566689, 0.19912523, 0.17932106, 0.1728489 ],\n",
       "       [0.16388641, 0.18648542, 0.2004007 , 0.2527727 , 0.19645477],\n",
       "       [0.22680701, 0.21373296, 0.19896362, 0.18126242, 0.17923399],\n",
       "       [0.23611723, 0.21113292, 0.19803331, 0.17599055, 0.17872599],\n",
       "       [0.23889475, 0.21229172, 0.19556135, 0.17655605, 0.17669614],\n",
       "       [0.18133762, 0.19157037, 0.20457377, 0.2215977 , 0.20092054],\n",
       "       [0.21386158, 0.21912568, 0.19662868, 0.19610891, 0.17427515],\n",
       "       [0.22884601, 0.21561082, 0.19932314, 0.18494929, 0.17127074],\n",
       "       [0.24761302, 0.20588793, 0.19624041, 0.17202126, 0.17823738],\n",
       "       [0.17674003, 0.19899007, 0.20689809, 0.22597963, 0.19139218],\n",
       "       [0.22973956, 0.21409322, 0.19788614, 0.18498569, 0.17329539],\n",
       "       [0.1974929 , 0.19347853, 0.20135794, 0.21349908, 0.19417155],\n",
       "       [0.16869041, 0.20279527, 0.20733033, 0.23232015, 0.18886384],\n",
       "       [0.20744947, 0.225485  , 0.19572684, 0.20333385, 0.16800484],\n",
       "       [0.17168516, 0.20046862, 0.2041773 , 0.23410244, 0.18956648],\n",
       "       [0.16526746, 0.18843113, 0.19821527, 0.25450005, 0.1935861 ],\n",
       "       [0.21928834, 0.22069956, 0.20016565, 0.1893163 , 0.17053016],\n",
       "       [0.18261029, 0.19473365, 0.20401376, 0.22452093, 0.19412137],\n",
       "       [0.21063254, 0.20647992, 0.18601302, 0.22046787, 0.17640665],\n",
       "       [0.20591107, 0.1831655 , 0.20296509, 0.20618901, 0.20176933],\n",
       "       [0.20398635, 0.21139582, 0.18808289, 0.22190875, 0.17462619],\n",
       "       [0.22780676, 0.21250486, 0.19654555, 0.18356672, 0.17957611],\n",
       "       [0.16528476, 0.20071796, 0.20550118, 0.2376611 , 0.190835  ],\n",
       "       [0.17288032, 0.18489822, 0.19305391, 0.25136574, 0.19780182],\n",
       "       [0.22481664, 0.21323682, 0.19312856, 0.19155877, 0.17725921],\n",
       "       [0.1633401 , 0.20531553, 0.20514018, 0.23925877, 0.18694541],\n",
       "       [0.17133005, 0.18489177, 0.19431946, 0.25172698, 0.19773174]])"
      ]
     },
     "execution_count": 28,
     "metadata": {},
     "output_type": "execute_result"
    }
   ],
   "source": [
    "# получить вероятности\n",
    "y_predicted_prob = model.predict_proba(X_test)\n",
    "y_predicted_prob"
   ]
  },
  {
   "cell_type": "markdown",
   "metadata": {},
   "source": [
    "### Оценка качества модели (Evaluation)"
   ]
  },
  {
   "cell_type": "code",
   "execution_count": 29,
   "metadata": {},
   "outputs": [
    {
     "data": {
      "text/plain": [
       "<sklearn.metrics._plot.confusion_matrix.ConfusionMatrixDisplay at 0x7fb1466973a0>"
      ]
     },
     "execution_count": 29,
     "metadata": {},
     "output_type": "execute_result"
    },
    {
     "data": {
      "image/png": "[encoded data removed]",
      "text/plain": [
       "<Figure size 432x288 with 2 Axes>"
      ]
     },
     "metadata": {
      "needs_background": "light"
     },
     "output_type": "display_data"
    }
   ],
   "source": [
    "plot_confusion_matrix(model, X_test, y_test)"
   ]
  },
  {
   "cell_type": "code",
   "execution_count": 30,
   "metadata": {},
   "outputs": [
    {
     "name": "stdout",
     "output_type": "stream",
     "text": [
      "accuracy = 0.400\n",
      "precision = 0.400\n",
      "recall = 0.400\n",
      "f1 = 0.400\n"
     ]
    }
   ],
   "source": [
    "accuracy = accuracy_score(y_test, y_predicted)\n",
    "precision = precision_score(y_test, y_predicted, average='micro')\n",
    "recall = recall_score(y_test, y_predicted, average='micro')\n",
    "f1 = f1_score(y_test, y_predicted, average='micro')\n",
    "\n",
    "print(f\"accuracy = {accuracy:.3f}\\nprecision = {precision:.3f}\\nrecall = {recall:.3f}\\nf1 = {f1:.3f}\")"
   ]
  }
 ],
 "metadata": {
  "kernelspec": {
   "display_name": "Python [conda env:LevelUp_DataScience] *",
   "language": "python",
   "name": "conda-env-LevelUp_DataScience-py"
  },
  "language_info": {
   "codemirror_mode": {
    "name": "ipython",
    "version": 3
   },
   "file_extension": ".py",
   "mimetype": "text/x-python",
   "name": "python",
   "nbconvert_exporter": "python",
   "pygments_lexer": "ipython3",
   "version": "3.8.3"
  }
 },
 "nbformat": 4,
 "nbformat_minor": 4
}
