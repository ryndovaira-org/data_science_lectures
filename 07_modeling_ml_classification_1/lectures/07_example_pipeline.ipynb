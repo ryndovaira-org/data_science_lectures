{
 "cells": [
  {
   "cell_type": "markdown",
   "metadata": {},
   "source": [
    "# Построение модели на примере Decision tree"
   ]
  },
  {
   "cell_type": "markdown",
   "metadata": {},
   "source": [
    "## Подготовка окружения"
   ]
  },
  {
   "cell_type": "code",
   "execution_count": null,
   "metadata": {
    "collapsed": false,
    "jupyter": {
     "outputs_hidden": false
    },
    "pycharm": {
     "name": "#%%\n"
    }
   },
   "outputs": [],
   "source": [
    "# ВНИМАНИЕ: необходимо удостовериться, что виртуальная среда выбрана правильно!\n",
    "\n",
    "# Для MacOS/Ubuntu\n",
    "# !which pip\n",
    "\n",
    "# Для Windows\n",
    "# !where pip"
   ]
  },
  {
   "cell_type": "code",
   "execution_count": null,
   "metadata": {
    "collapsed": false,
    "jupyter": {
     "outputs_hidden": false
    },
    "pycharm": {
     "name": "#%%\n"
    }
   },
   "outputs": [],
   "source": [
    "# !conda install matplotlib numpy scikit-learn seaborn scipy -y"
   ]
  },
  {
   "cell_type": "code",
   "execution_count": null,
   "metadata": {},
   "outputs": [],
   "source": [
    "# !conda install -c conda-forge imbalanced-learn -y"
   ]
  },
  {
   "cell_type": "code",
   "execution_count": null,
   "metadata": {
    "collapsed": false,
    "jupyter": {
     "outputs_hidden": false
    },
    "pycharm": {
     "name": "#%%\n"
    }
   },
   "outputs": [],
   "source": [
    "import numpy as np\n",
    "\n",
    "np.__version__"
   ]
  },
  {
   "cell_type": "code",
   "execution_count": 5,
   "metadata": {
    "collapsed": false,
    "jupyter": {
     "outputs_hidden": false
    },
    "pycharm": {
     "name": "#%%\n"
    }
   },
   "outputs": [
    {
     "data": {
      "text/plain": [
       "'1.2.3'"
      ]
     },
     "execution_count": 5,
     "metadata": {},
     "output_type": "execute_result"
    }
   ],
   "source": [
    "import pandas as pd\n",
    "\n",
    "pd.__version__"
   ]
  },
  {
   "cell_type": "code",
   "execution_count": 6,
   "metadata": {
    "collapsed": false,
    "jupyter": {
     "outputs_hidden": false
    },
    "pycharm": {
     "name": "#%%\n"
    }
   },
   "outputs": [
    {
     "data": {
      "text/plain": [
       "'1.6.2'"
      ]
     },
     "execution_count": 6,
     "metadata": {},
     "output_type": "execute_result"
    }
   ],
   "source": [
    "import scipy\n",
    "from scipy import stats\n",
    "\n",
    "scipy.__version__"
   ]
  },
  {
   "cell_type": "code",
   "execution_count": 7,
   "metadata": {
    "collapsed": false,
    "jupyter": {
     "outputs_hidden": false
    },
    "pycharm": {
     "name": "#%%\n"
    }
   },
   "outputs": [
    {
     "data": {
      "text/plain": [
       "'3.3.4'"
      ]
     },
     "execution_count": 7,
     "metadata": {},
     "output_type": "execute_result"
    }
   ],
   "source": [
    "import matplotlib\n",
    "import matplotlib.pyplot as plt\n",
    "\n",
    "matplotlib.__version__"
   ]
  },
  {
   "cell_type": "code",
   "execution_count": 8,
   "metadata": {
    "collapsed": false,
    "jupyter": {
     "outputs_hidden": false
    },
    "pycharm": {
     "name": "#%%\n"
    }
   },
   "outputs": [
    {
     "data": {
      "text/plain": [
       "'0.11.1'"
      ]
     },
     "execution_count": 8,
     "metadata": {},
     "output_type": "execute_result"
    }
   ],
   "source": [
    "import seaborn as sns\n",
    "\n",
    "sns.__version__"
   ]
  },
  {
   "cell_type": "code",
   "execution_count": 9,
   "metadata": {},
   "outputs": [
    {
     "data": {
      "text/plain": [
       "'0.8.0'"
      ]
     },
     "execution_count": 9,
     "metadata": {},
     "output_type": "execute_result"
    }
   ],
   "source": [
    "import imblearn\n",
    "from imblearn.over_sampling import RandomOverSampler\n",
    "from imblearn.over_sampling import SMOTE\n",
    "\n",
    "imblearn.__version__"
   ]
  },
  {
   "cell_type": "code",
   "execution_count": 10,
   "metadata": {
    "collapsed": false,
    "jupyter": {
     "outputs_hidden": false
    },
    "pycharm": {
     "name": "#%%\n"
    }
   },
   "outputs": [],
   "source": [
    "from sklearn.preprocessing import OrdinalEncoder\n",
    "\n",
    "from sklearn.preprocessing import RobustScaler\n",
    "\n",
    "from sklearn.tree import DecisionTreeClassifier\n",
    "\n",
    "from sklearn.preprocessing import FunctionTransformer\n",
    "from sklearn.compose import ColumnTransformer\n",
    "# from sklearn.pipeline import Pipeline\n",
    "from imblearn.pipeline import Pipeline\n",
    "from sklearn.model_selection import GridSearchCV"
   ]
  },
  {
   "cell_type": "code",
   "execution_count": 11,
   "metadata": {},
   "outputs": [],
   "source": [
    "from sklearn.metrics import plot_confusion_matrix\n",
    "\n",
    "from sklearn.metrics import accuracy_score\n",
    "from sklearn.metrics import balanced_accuracy_score\n",
    "from sklearn.metrics import precision_score\n",
    "from sklearn.metrics import recall_score\n",
    "from sklearn.metrics import f1_score\n",
    "from sklearn.metrics import roc_auc_score"
   ]
  },
  {
   "cell_type": "markdown",
   "metadata": {},
   "source": [
    "## Загрузка данных\n",
    "\n",
    "[Источник (Churn Modelling)](https://www.kaggle.com/shrutimechlearn/churn-modelling)"
   ]
  },
  {
   "cell_type": "code",
   "execution_count": 12,
   "metadata": {
    "collapsed": false,
    "jupyter": {
     "outputs_hidden": false
    },
    "pycharm": {
     "name": "#%%\n"
    }
   },
   "outputs": [
    {
     "data": {
      "text/html": [
       "<div>\n",
       "<style scoped>\n",
       "    .dataframe tbody tr th:only-of-type {\n",
       "        vertical-align: middle;\n",
       "    }\n",
       "\n",
       "    .dataframe tbody tr th {\n",
       "        vertical-align: top;\n",
       "    }\n",
       "\n",
       "    .dataframe thead th {\n",
       "        text-align: right;\n",
       "    }\n",
       "</style>\n",
       "<table border=\"1\" class=\"dataframe\">\n",
       "  <thead>\n",
       "    <tr style=\"text-align: right;\">\n",
       "      <th></th>\n",
       "      <th>CustomerId</th>\n",
       "      <th>Surname</th>\n",
       "      <th>CreditScore</th>\n",
       "      <th>Geography</th>\n",
       "      <th>Gender</th>\n",
       "      <th>Age</th>\n",
       "      <th>Tenure</th>\n",
       "      <th>Balance</th>\n",
       "      <th>NumOfProducts</th>\n",
       "      <th>HasCrCard</th>\n",
       "      <th>IsActiveMember</th>\n",
       "      <th>EstimatedSalary</th>\n",
       "      <th>Exited</th>\n",
       "    </tr>\n",
       "    <tr>\n",
       "      <th>RowNumber</th>\n",
       "      <th></th>\n",
       "      <th></th>\n",
       "      <th></th>\n",
       "      <th></th>\n",
       "      <th></th>\n",
       "      <th></th>\n",
       "      <th></th>\n",
       "      <th></th>\n",
       "      <th></th>\n",
       "      <th></th>\n",
       "      <th></th>\n",
       "      <th></th>\n",
       "      <th></th>\n",
       "    </tr>\n",
       "  </thead>\n",
       "  <tbody>\n",
       "    <tr>\n",
       "      <th>1</th>\n",
       "      <td>15634602</td>\n",
       "      <td>Hargrave</td>\n",
       "      <td>619</td>\n",
       "      <td>France</td>\n",
       "      <td>Female</td>\n",
       "      <td>42</td>\n",
       "      <td>2</td>\n",
       "      <td>0.00</td>\n",
       "      <td>1</td>\n",
       "      <td>1</td>\n",
       "      <td>1</td>\n",
       "      <td>101348.88</td>\n",
       "      <td>1</td>\n",
       "    </tr>\n",
       "    <tr>\n",
       "      <th>2</th>\n",
       "      <td>15647311</td>\n",
       "      <td>Hill</td>\n",
       "      <td>608</td>\n",
       "      <td>Spain</td>\n",
       "      <td>Female</td>\n",
       "      <td>41</td>\n",
       "      <td>1</td>\n",
       "      <td>83807.86</td>\n",
       "      <td>1</td>\n",
       "      <td>0</td>\n",
       "      <td>1</td>\n",
       "      <td>112542.58</td>\n",
       "      <td>0</td>\n",
       "    </tr>\n",
       "    <tr>\n",
       "      <th>3</th>\n",
       "      <td>15619304</td>\n",
       "      <td>Onio</td>\n",
       "      <td>502</td>\n",
       "      <td>France</td>\n",
       "      <td>Female</td>\n",
       "      <td>42</td>\n",
       "      <td>8</td>\n",
       "      <td>159660.80</td>\n",
       "      <td>3</td>\n",
       "      <td>1</td>\n",
       "      <td>0</td>\n",
       "      <td>113931.57</td>\n",
       "      <td>1</td>\n",
       "    </tr>\n",
       "    <tr>\n",
       "      <th>4</th>\n",
       "      <td>15701354</td>\n",
       "      <td>Boni</td>\n",
       "      <td>699</td>\n",
       "      <td>France</td>\n",
       "      <td>Female</td>\n",
       "      <td>39</td>\n",
       "      <td>1</td>\n",
       "      <td>0.00</td>\n",
       "      <td>2</td>\n",
       "      <td>0</td>\n",
       "      <td>0</td>\n",
       "      <td>93826.63</td>\n",
       "      <td>0</td>\n",
       "    </tr>\n",
       "    <tr>\n",
       "      <th>5</th>\n",
       "      <td>15737888</td>\n",
       "      <td>Mitchell</td>\n",
       "      <td>850</td>\n",
       "      <td>Spain</td>\n",
       "      <td>Female</td>\n",
       "      <td>43</td>\n",
       "      <td>2</td>\n",
       "      <td>125510.82</td>\n",
       "      <td>1</td>\n",
       "      <td>1</td>\n",
       "      <td>1</td>\n",
       "      <td>79084.10</td>\n",
       "      <td>0</td>\n",
       "    </tr>\n",
       "    <tr>\n",
       "      <th>...</th>\n",
       "      <td>...</td>\n",
       "      <td>...</td>\n",
       "      <td>...</td>\n",
       "      <td>...</td>\n",
       "      <td>...</td>\n",
       "      <td>...</td>\n",
       "      <td>...</td>\n",
       "      <td>...</td>\n",
       "      <td>...</td>\n",
       "      <td>...</td>\n",
       "      <td>...</td>\n",
       "      <td>...</td>\n",
       "      <td>...</td>\n",
       "    </tr>\n",
       "    <tr>\n",
       "      <th>9996</th>\n",
       "      <td>15606229</td>\n",
       "      <td>Obijiaku</td>\n",
       "      <td>771</td>\n",
       "      <td>France</td>\n",
       "      <td>Male</td>\n",
       "      <td>39</td>\n",
       "      <td>5</td>\n",
       "      <td>0.00</td>\n",
       "      <td>2</td>\n",
       "      <td>1</td>\n",
       "      <td>0</td>\n",
       "      <td>96270.64</td>\n",
       "      <td>0</td>\n",
       "    </tr>\n",
       "    <tr>\n",
       "      <th>9997</th>\n",
       "      <td>15569892</td>\n",
       "      <td>Johnstone</td>\n",
       "      <td>516</td>\n",
       "      <td>France</td>\n",
       "      <td>Male</td>\n",
       "      <td>35</td>\n",
       "      <td>10</td>\n",
       "      <td>57369.61</td>\n",
       "      <td>1</td>\n",
       "      <td>1</td>\n",
       "      <td>1</td>\n",
       "      <td>101699.77</td>\n",
       "      <td>0</td>\n",
       "    </tr>\n",
       "    <tr>\n",
       "      <th>9998</th>\n",
       "      <td>15584532</td>\n",
       "      <td>Liu</td>\n",
       "      <td>709</td>\n",
       "      <td>France</td>\n",
       "      <td>Female</td>\n",
       "      <td>36</td>\n",
       "      <td>7</td>\n",
       "      <td>0.00</td>\n",
       "      <td>1</td>\n",
       "      <td>0</td>\n",
       "      <td>1</td>\n",
       "      <td>42085.58</td>\n",
       "      <td>1</td>\n",
       "    </tr>\n",
       "    <tr>\n",
       "      <th>9999</th>\n",
       "      <td>15682355</td>\n",
       "      <td>Sabbatini</td>\n",
       "      <td>772</td>\n",
       "      <td>Germany</td>\n",
       "      <td>Male</td>\n",
       "      <td>42</td>\n",
       "      <td>3</td>\n",
       "      <td>75075.31</td>\n",
       "      <td>2</td>\n",
       "      <td>1</td>\n",
       "      <td>0</td>\n",
       "      <td>92888.52</td>\n",
       "      <td>1</td>\n",
       "    </tr>\n",
       "    <tr>\n",
       "      <th>10000</th>\n",
       "      <td>15628319</td>\n",
       "      <td>Walker</td>\n",
       "      <td>792</td>\n",
       "      <td>France</td>\n",
       "      <td>Female</td>\n",
       "      <td>28</td>\n",
       "      <td>4</td>\n",
       "      <td>130142.79</td>\n",
       "      <td>1</td>\n",
       "      <td>1</td>\n",
       "      <td>0</td>\n",
       "      <td>38190.78</td>\n",
       "      <td>0</td>\n",
       "    </tr>\n",
       "  </tbody>\n",
       "</table>\n",
       "<p>10000 rows × 13 columns</p>\n",
       "</div>"
      ],
      "text/plain": [
       "           CustomerId    Surname  CreditScore Geography  Gender  Age  Tenure  \\\n",
       "RowNumber                                                                      \n",
       "1            15634602   Hargrave          619    France  Female   42       2   \n",
       "2            15647311       Hill          608     Spain  Female   41       1   \n",
       "3            15619304       Onio          502    France  Female   42       8   \n",
       "4            15701354       Boni          699    France  Female   39       1   \n",
       "5            15737888   Mitchell          850     Spain  Female   43       2   \n",
       "...               ...        ...          ...       ...     ...  ...     ...   \n",
       "9996         15606229   Obijiaku          771    France    Male   39       5   \n",
       "9997         15569892  Johnstone          516    France    Male   35      10   \n",
       "9998         15584532        Liu          709    France  Female   36       7   \n",
       "9999         15682355  Sabbatini          772   Germany    Male   42       3   \n",
       "10000        15628319     Walker          792    France  Female   28       4   \n",
       "\n",
       "             Balance  NumOfProducts  HasCrCard  IsActiveMember  \\\n",
       "RowNumber                                                        \n",
       "1               0.00              1          1               1   \n",
       "2           83807.86              1          0               1   \n",
       "3          159660.80              3          1               0   \n",
       "4               0.00              2          0               0   \n",
       "5          125510.82              1          1               1   \n",
       "...              ...            ...        ...             ...   \n",
       "9996            0.00              2          1               0   \n",
       "9997        57369.61              1          1               1   \n",
       "9998            0.00              1          0               1   \n",
       "9999        75075.31              2          1               0   \n",
       "10000      130142.79              1          1               0   \n",
       "\n",
       "           EstimatedSalary  Exited  \n",
       "RowNumber                           \n",
       "1                101348.88       1  \n",
       "2                112542.58       0  \n",
       "3                113931.57       1  \n",
       "4                 93826.63       0  \n",
       "5                 79084.10       0  \n",
       "...                    ...     ...  \n",
       "9996              96270.64       0  \n",
       "9997             101699.77       0  \n",
       "9998              42085.58       1  \n",
       "9999              92888.52       1  \n",
       "10000             38190.78       0  \n",
       "\n",
       "[10000 rows x 13 columns]"
      ]
     },
     "execution_count": 12,
     "metadata": {},
     "output_type": "execute_result"
    }
   ],
   "source": [
    "df = pd.read_csv(\"./../../data/Churn_Modelling.csv\", index_col=0)\n",
    "df"
   ]
  },
  {
   "cell_type": "code",
   "execution_count": 13,
   "metadata": {},
   "outputs": [
    {
     "name": "stdout",
     "output_type": "stream",
     "text": [
      "<class 'pandas.core.frame.DataFrame'>\n",
      "Int64Index: 10000 entries, 1 to 10000\n",
      "Data columns (total 13 columns):\n",
      " #   Column           Non-Null Count  Dtype  \n",
      "---  ------           --------------  -----  \n",
      " 0   CustomerId       10000 non-null  int64  \n",
      " 1   Surname          10000 non-null  object \n",
      " 2   CreditScore      10000 non-null  int64  \n",
      " 3   Geography        10000 non-null  object \n",
      " 4   Gender           10000 non-null  object \n",
      " 5   Age              10000 non-null  int64  \n",
      " 6   Tenure           10000 non-null  int64  \n",
      " 7   Balance          10000 non-null  float64\n",
      " 8   NumOfProducts    10000 non-null  int64  \n",
      " 9   HasCrCard        10000 non-null  int64  \n",
      " 10  IsActiveMember   10000 non-null  int64  \n",
      " 11  EstimatedSalary  10000 non-null  float64\n",
      " 12  Exited           10000 non-null  int64  \n",
      "dtypes: float64(2), int64(8), object(3)\n",
      "memory usage: 1.1+ MB\n"
     ]
    }
   ],
   "source": [
    "df.info()"
   ]
  },
  {
   "cell_type": "markdown",
   "metadata": {},
   "source": [
    "## Разделение данных на `X` и `y`"
   ]
  },
  {
   "cell_type": "code",
   "execution_count": 14,
   "metadata": {},
   "outputs": [],
   "source": [
    "# колонка, которая не несет полезной информации\n",
    "# если добавить, то может испортить качество, так как\n",
    "# номер пользователя объективно не должен влиять на результат\n",
    "del df['CustomerId']"
   ]
  },
  {
   "cell_type": "code",
   "execution_count": 15,
   "metadata": {},
   "outputs": [],
   "source": [
    "target_column_name = 'Exited'"
   ]
  },
  {
   "cell_type": "code",
   "execution_count": 16,
   "metadata": {
    "collapsed": false,
    "jupyter": {
     "outputs_hidden": false
    },
    "pycharm": {
     "name": "#%%\n"
    }
   },
   "outputs": [],
   "source": [
    "from sklearn.model_selection import train_test_split\n",
    "\n",
    "y = df[target_column_name].copy()\n",
    "X = df.loc[:, df.columns != target_column_name].copy()\n",
    "\n",
    "X_train, X_test, y_train, y_test = train_test_split(X, y, test_size=0.2)"
   ]
  },
  {
   "cell_type": "markdown",
   "metadata": {},
   "source": [
    "## Анализ и обработка пропущенных значений"
   ]
  },
  {
   "cell_type": "code",
   "execution_count": 17,
   "metadata": {},
   "outputs": [
    {
     "data": {
      "text/plain": [
       "Surname            0\n",
       "CreditScore        0\n",
       "Geography          0\n",
       "Gender             0\n",
       "Age                0\n",
       "Tenure             0\n",
       "Balance            0\n",
       "NumOfProducts      0\n",
       "HasCrCard          0\n",
       "IsActiveMember     0\n",
       "EstimatedSalary    0\n",
       "Exited             0\n",
       "dtype: int64"
      ]
     },
     "execution_count": 17,
     "metadata": {},
     "output_type": "execute_result"
    }
   ],
   "source": [
    "df.isna().sum()"
   ]
  },
  {
   "cell_type": "markdown",
   "metadata": {},
   "source": [
    "## Преобразование типов и очистка"
   ]
  },
  {
   "cell_type": "code",
   "execution_count": 18,
   "metadata": {},
   "outputs": [
    {
     "name": "stdout",
     "output_type": "stream",
     "text": [
      "Surname : 2603\n",
      "--------------------\n",
      "Geography : 3\n",
      "--------------------\n",
      "Gender : 2\n",
      "--------------------\n"
     ]
    }
   ],
   "source": [
    "for col_name in X_train.select_dtypes(include='object'):\n",
    "    print(f'{col_name} : {X_train[col_name].nunique()}')\n",
    "    print('-' * 20)"
   ]
  },
  {
   "cell_type": "code",
   "execution_count": 19,
   "metadata": {},
   "outputs": [
    {
     "name": "stdout",
     "output_type": "stream",
     "text": [
      "CreditScore : 449\n",
      "--------------------\n",
      "Age : 70\n",
      "--------------------\n",
      "Tenure : 11\n"
     ]
    },
    {
     "data": {
      "text/plain": [
       "3     839\n",
       "2     824\n",
       "8     823\n",
       "7     823\n",
       "1     819\n",
       "5     805\n",
       "4     799\n",
       "6     778\n",
       "9     769\n",
       "10    399\n",
       "0     322\n",
       "Name: Tenure, dtype: int64"
      ]
     },
     "metadata": {},
     "output_type": "display_data"
    },
    {
     "name": "stdout",
     "output_type": "stream",
     "text": [
      "--------------------\n",
      "NumOfProducts : 4\n"
     ]
    },
    {
     "data": {
      "text/plain": [
       "1    4058\n",
       "2    3671\n",
       "3     223\n",
       "4      48\n",
       "Name: NumOfProducts, dtype: int64"
      ]
     },
     "metadata": {},
     "output_type": "display_data"
    },
    {
     "name": "stdout",
     "output_type": "stream",
     "text": [
      "--------------------\n",
      "HasCrCard : 2\n"
     ]
    },
    {
     "data": {
      "text/plain": [
       "1    5621\n",
       "0    2379\n",
       "Name: HasCrCard, dtype: int64"
      ]
     },
     "metadata": {},
     "output_type": "display_data"
    },
    {
     "name": "stdout",
     "output_type": "stream",
     "text": [
      "--------------------\n",
      "IsActiveMember : 2\n"
     ]
    },
    {
     "data": {
      "text/plain": [
       "1    4116\n",
       "0    3884\n",
       "Name: IsActiveMember, dtype: int64"
      ]
     },
     "metadata": {},
     "output_type": "display_data"
    },
    {
     "name": "stdout",
     "output_type": "stream",
     "text": [
      "--------------------\n"
     ]
    }
   ],
   "source": [
    "for col_name in X_train.select_dtypes(include=int):\n",
    "    nunique = X_train[col_name].nunique()\n",
    "    \n",
    "    print(f'{col_name} : {nunique}')\n",
    "    if nunique < 40:\n",
    "        display(X_train[col_name].value_counts())\n",
    "    print('-' * 20)"
   ]
  },
  {
   "cell_type": "markdown",
   "metadata": {},
   "source": [
    "## Анализ баланса целевой переменной (`y`)"
   ]
  },
  {
   "cell_type": "code",
   "execution_count": 20,
   "metadata": {
    "jupyter": {
     "source_hidden": true
    }
   },
   "outputs": [],
   "source": [
    "def plot_cat_count_s(cs: pd.Series):\n",
    "    \"\"\"\n",
    "    Функция для рисования countplot для Series\n",
    "    \"\"\"\n",
    "    fig, ax = plt.subplots(1, 1, figsize=(6, 2))\n",
    "    g = sns.countplot(x=cs, \n",
    "                      ax=ax)\n",
    "    g.set_xticklabels(g.get_xticklabels(), \n",
    "                      rotation=45, \n",
    "                      horizontalalignment='right')\n",
    "\n",
    "    ax.xaxis.label.set_visible(False)\n",
    "    ax.yaxis.label.set_visible(False)\n",
    "\n",
    "    ax.set_title(cs.name, \n",
    "                 loc='right', \n",
    "                 fontsize=15)\n",
    "    ax.grid()\n",
    "\n",
    "    total = len(cs)\n",
    "    \n",
    "    print(f\"{total} ({cs.name})\")\n",
    "\n",
    "    for p in ax.patches:\n",
    "        percentage = '{:.1f}%'.format(100 * p.get_height()/total)\n",
    "        x_pos = p.get_x()\n",
    "        y_pos = p.get_y() + p.get_height()\n",
    "        ax.annotate(percentage, \n",
    "                    xy=(x_pos, y_pos), \n",
    "                    fontsize=15)"
   ]
  },
  {
   "cell_type": "code",
   "execution_count": 21,
   "metadata": {},
   "outputs": [
    {
     "name": "stdout",
     "output_type": "stream",
     "text": [
      "10000 (Exited)\n"
     ]
    },
    {
     "data": {
      "image/png": "[encoded data removed]",
      "text/plain": [
       "<Figure size 432x144 with 1 Axes>"
      ]
     },
     "metadata": {
      "needs_background": "light"
     },
     "output_type": "display_data"
    }
   ],
   "source": [
    "plot_cat_count_s(y)"
   ]
  },
  {
   "cell_type": "markdown",
   "metadata": {},
   "source": [
    "Можно сказать, что имеется умеренная (moderate) несбалансированность классов."
   ]
  },
  {
   "cell_type": "markdown",
   "metadata": {},
   "source": [
    "## Анализ и обработка выбросов"
   ]
  },
  {
   "cell_type": "code",
   "execution_count": 22,
   "metadata": {
    "jupyter": {
     "source_hidden": true
    }
   },
   "outputs": [],
   "source": [
    "def box_hist(data, col_name):\n",
    "    _, axs = plt.subplots(1, 2, figsize=(10, 2))\n",
    "    sns.boxplot(data=data[col_name], ax=axs[0])\n",
    "    sns.histplot(data=data[col_name], ax=axs[1])"
   ]
  },
  {
   "cell_type": "code",
   "execution_count": 23,
   "metadata": {
    "jupyter": {
     "source_hidden": true
    }
   },
   "outputs": [
    {
     "data": {
      "image/png": "[encoded data removed]",
      "text/plain": [
       "<Figure size 720x144 with 2 Axes>"
      ]
     },
     "metadata": {
      "needs_background": "light"
     },
     "output_type": "display_data"
    },
    {
     "data": {
      "image/png": "[encoded data removed]",
      "text/plain": [
       "<Figure size 720x144 with 2 Axes>"
      ]
     },
     "metadata": {
      "needs_background": "light"
     },
     "output_type": "display_data"
    },
    {
     "data": {
      "image/png": "[encoded data removed]",
      "text/plain": [
       "<Figure size 720x144 with 2 Axes>"
      ]
     },
     "metadata": {
      "needs_background": "light"
     },
     "output_type": "display_data"
    },
    {
     "data": {
      "image/png": "[encoded data removed]",
      "text/plain": [
       "<Figure size 720x144 with 2 Axes>"
      ]
     },
     "metadata": {
      "needs_background": "light"
     },
     "output_type": "display_data"
    },
    {
     "data": {
      "image/png": "[encoded data removed]",
      "text/plain": [
       "<Figure size 720x144 with 2 Axes>"
      ]
     },
     "metadata": {
      "needs_background": "light"
     },
     "output_type": "display_data"
    },
    {
     "data": {
      "image/png": "[encoded data removed]",
      "text/plain": [
       "<Figure size 720x144 with 2 Axes>"
      ]
     },
     "metadata": {
      "needs_background": "light"
     },
     "output_type": "display_data"
    },
    {
     "data": {
      "image/png": "[encoded data removed]",
      "text/plain": [
       "<Figure size 720x144 with 2 Axes>"
      ]
     },
     "metadata": {
      "needs_background": "light"
     },
     "output_type": "display_data"
    },
    {
     "data": {
      "image/png": "[encoded data removed]",
      "text/plain": [
       "<Figure size 720x144 with 2 Axes>"
      ]
     },
     "metadata": {
      "needs_background": "light"
     },
     "output_type": "display_data"
    },
    {
     "data": {
      "image/png": "[encoded data removed]",
      "text/plain": [
       "<Figure size 720x144 with 2 Axes>"
      ]
     },
     "metadata": {
      "needs_background": "light"
     },
     "output_type": "display_data"
    }
   ],
   "source": [
    "df_train = X_train.join(y_train).reset_index(drop=True)\n",
    "for col_name in df_train.select_dtypes(include=np.number):\n",
    "    box_hist(df_train, col_name)\n",
    "\n",
    "X_train = df_train.loc[:, df_train.columns != target_column_name].copy()\n",
    "y_train = df_train[target_column_name].copy()"
   ]
  },
  {
   "cell_type": "markdown",
   "metadata": {},
   "source": [
    "## Анализ корреляции"
   ]
  },
  {
   "cell_type": "code",
   "execution_count": 24,
   "metadata": {},
   "outputs": [
    {
     "data": {
      "text/html": [
       "<div>\n",
       "<style scoped>\n",
       "    .dataframe tbody tr th:only-of-type {\n",
       "        vertical-align: middle;\n",
       "    }\n",
       "\n",
       "    .dataframe tbody tr th {\n",
       "        vertical-align: top;\n",
       "    }\n",
       "\n",
       "    .dataframe thead th {\n",
       "        text-align: right;\n",
       "    }\n",
       "</style>\n",
       "<table border=\"1\" class=\"dataframe\">\n",
       "  <thead>\n",
       "    <tr style=\"text-align: right;\">\n",
       "      <th></th>\n",
       "      <th>CreditScore</th>\n",
       "      <th>Age</th>\n",
       "      <th>Tenure</th>\n",
       "      <th>Balance</th>\n",
       "      <th>NumOfProducts</th>\n",
       "      <th>HasCrCard</th>\n",
       "      <th>IsActiveMember</th>\n",
       "      <th>EstimatedSalary</th>\n",
       "      <th>Exited</th>\n",
       "    </tr>\n",
       "  </thead>\n",
       "  <tbody>\n",
       "    <tr>\n",
       "      <th>CreditScore</th>\n",
       "      <td>1.0</td>\n",
       "      <td>NaN</td>\n",
       "      <td>NaN</td>\n",
       "      <td>NaN</td>\n",
       "      <td>NaN</td>\n",
       "      <td>NaN</td>\n",
       "      <td>NaN</td>\n",
       "      <td>NaN</td>\n",
       "      <td>NaN</td>\n",
       "    </tr>\n",
       "    <tr>\n",
       "      <th>Age</th>\n",
       "      <td>NaN</td>\n",
       "      <td>1.0</td>\n",
       "      <td>NaN</td>\n",
       "      <td>NaN</td>\n",
       "      <td>NaN</td>\n",
       "      <td>NaN</td>\n",
       "      <td>NaN</td>\n",
       "      <td>NaN</td>\n",
       "      <td>NaN</td>\n",
       "    </tr>\n",
       "    <tr>\n",
       "      <th>Tenure</th>\n",
       "      <td>NaN</td>\n",
       "      <td>NaN</td>\n",
       "      <td>1.0</td>\n",
       "      <td>NaN</td>\n",
       "      <td>NaN</td>\n",
       "      <td>NaN</td>\n",
       "      <td>NaN</td>\n",
       "      <td>NaN</td>\n",
       "      <td>NaN</td>\n",
       "    </tr>\n",
       "    <tr>\n",
       "      <th>Balance</th>\n",
       "      <td>NaN</td>\n",
       "      <td>NaN</td>\n",
       "      <td>NaN</td>\n",
       "      <td>1.0</td>\n",
       "      <td>NaN</td>\n",
       "      <td>NaN</td>\n",
       "      <td>NaN</td>\n",
       "      <td>NaN</td>\n",
       "      <td>NaN</td>\n",
       "    </tr>\n",
       "    <tr>\n",
       "      <th>NumOfProducts</th>\n",
       "      <td>NaN</td>\n",
       "      <td>NaN</td>\n",
       "      <td>NaN</td>\n",
       "      <td>NaN</td>\n",
       "      <td>1.0</td>\n",
       "      <td>NaN</td>\n",
       "      <td>NaN</td>\n",
       "      <td>NaN</td>\n",
       "      <td>NaN</td>\n",
       "    </tr>\n",
       "    <tr>\n",
       "      <th>HasCrCard</th>\n",
       "      <td>NaN</td>\n",
       "      <td>NaN</td>\n",
       "      <td>NaN</td>\n",
       "      <td>NaN</td>\n",
       "      <td>NaN</td>\n",
       "      <td>1.0</td>\n",
       "      <td>NaN</td>\n",
       "      <td>NaN</td>\n",
       "      <td>NaN</td>\n",
       "    </tr>\n",
       "    <tr>\n",
       "      <th>IsActiveMember</th>\n",
       "      <td>NaN</td>\n",
       "      <td>NaN</td>\n",
       "      <td>NaN</td>\n",
       "      <td>NaN</td>\n",
       "      <td>NaN</td>\n",
       "      <td>NaN</td>\n",
       "      <td>1.0</td>\n",
       "      <td>NaN</td>\n",
       "      <td>NaN</td>\n",
       "    </tr>\n",
       "    <tr>\n",
       "      <th>EstimatedSalary</th>\n",
       "      <td>NaN</td>\n",
       "      <td>NaN</td>\n",
       "      <td>NaN</td>\n",
       "      <td>NaN</td>\n",
       "      <td>NaN</td>\n",
       "      <td>NaN</td>\n",
       "      <td>NaN</td>\n",
       "      <td>1.0</td>\n",
       "      <td>NaN</td>\n",
       "    </tr>\n",
       "    <tr>\n",
       "      <th>Exited</th>\n",
       "      <td>NaN</td>\n",
       "      <td>NaN</td>\n",
       "      <td>NaN</td>\n",
       "      <td>NaN</td>\n",
       "      <td>NaN</td>\n",
       "      <td>NaN</td>\n",
       "      <td>NaN</td>\n",
       "      <td>NaN</td>\n",
       "      <td>1.0</td>\n",
       "    </tr>\n",
       "  </tbody>\n",
       "</table>\n",
       "</div>"
      ],
      "text/plain": [
       "                 CreditScore  Age  Tenure  Balance  NumOfProducts  HasCrCard  \\\n",
       "CreditScore              1.0  NaN     NaN      NaN            NaN        NaN   \n",
       "Age                      NaN  1.0     NaN      NaN            NaN        NaN   \n",
       "Tenure                   NaN  NaN     1.0      NaN            NaN        NaN   \n",
       "Balance                  NaN  NaN     NaN      1.0            NaN        NaN   \n",
       "NumOfProducts            NaN  NaN     NaN      NaN            1.0        NaN   \n",
       "HasCrCard                NaN  NaN     NaN      NaN            NaN        1.0   \n",
       "IsActiveMember           NaN  NaN     NaN      NaN            NaN        NaN   \n",
       "EstimatedSalary          NaN  NaN     NaN      NaN            NaN        NaN   \n",
       "Exited                   NaN  NaN     NaN      NaN            NaN        NaN   \n",
       "\n",
       "                 IsActiveMember  EstimatedSalary  Exited  \n",
       "CreditScore                 NaN              NaN     NaN  \n",
       "Age                         NaN              NaN     NaN  \n",
       "Tenure                      NaN              NaN     NaN  \n",
       "Balance                     NaN              NaN     NaN  \n",
       "NumOfProducts               NaN              NaN     NaN  \n",
       "HasCrCard                   NaN              NaN     NaN  \n",
       "IsActiveMember              1.0              NaN     NaN  \n",
       "EstimatedSalary             NaN              1.0     NaN  \n",
       "Exited                      NaN              NaN     1.0  "
      ]
     },
     "execution_count": 24,
     "metadata": {},
     "output_type": "execute_result"
    }
   ],
   "source": [
    "corr_matrix = df_train.select_dtypes(include=np.number).corr(method='spearman')\n",
    "corr_matrix[(abs(corr_matrix)) > 0.5]"
   ]
  },
  {
   "cell_type": "markdown",
   "metadata": {},
   "source": [
    "## Pipeline"
   ]
  },
  {
   "cell_type": "code",
   "execution_count": 25,
   "metadata": {},
   "outputs": [],
   "source": [
    "cat_columns = ['Gender', 'NumOfProducts']\n",
    "bool_columns = ['HasCrCard', 'IsActiveMember']\n",
    "num_columns = ['CreditScore', 'Age', 'Balance', 'EstimatedSalary', 'Tenure']\n",
    "str_columns = ['Surname', 'Geography']"
   ]
  },
  {
   "cell_type": "code",
   "execution_count": 26,
   "metadata": {},
   "outputs": [
    {
     "name": "stdout",
     "output_type": "stream",
     "text": [
      "cat_columns: ['Gender', 'NumOfProducts']\n",
      "bin_cat_columns: ['Gender']\n",
      "mul_cat_columns: ['NumOfProducts']\n",
      "bool_columns: ['HasCrCard', 'IsActiveMember']\n",
      "bin_columns: ['Gender', 'HasCrCard', 'IsActiveMember']\n",
      "num_columns: ['CreditScore', 'Age', 'Balance', 'EstimatedSalary', 'Tenure']\n",
      "str_columns: ['Surname', 'Geography']\n"
     ]
    }
   ],
   "source": [
    "bin_cat_columns = [col_name for col_name in X[cat_columns] if X[col_name].nunique() == 2]\n",
    "mul_cat_columns = [col_name for col_name in cat_columns if col_name not in bin_cat_columns]\n",
    "bin_columns = bin_cat_columns + bool_columns\n",
    "\n",
    "print(f\"cat_columns: {cat_columns}\")\n",
    "print(f\"bin_cat_columns: {bin_cat_columns}\")\n",
    "print(f\"mul_cat_columns: {mul_cat_columns}\")\n",
    "print(f\"bool_columns: {bool_columns}\")\n",
    "print(f\"bin_columns: {bin_columns}\")\n",
    "print(f\"num_columns: {num_columns}\")\n",
    "print(f\"str_columns: {str_columns}\")"
   ]
  },
  {
   "cell_type": "code",
   "execution_count": 27,
   "metadata": {},
   "outputs": [],
   "source": [
    "bin_cat_transformer = Pipeline(steps=[\n",
    "    ('encoder_ord', OrdinalEncoder())\n",
    "])\n",
    "\n",
    "mul_cat_transformer = Pipeline(steps=[\n",
    "    ('replace', FunctionTransformer(lambda x: x.replace(4, 3)))\n",
    "])\n",
    "\n",
    "num_transformer = Pipeline(steps=[\n",
    "#     ('discretizer', KBinsDiscretizer(n_bins=3, encode='ordinal', strategy='kmeans'))\n",
    "    ('scaler', RobustScaler())\n",
    "])"
   ]
  },
  {
   "cell_type": "code",
   "execution_count": 28,
   "metadata": {
    "pycharm": {
     "name": "#%%\n"
    }
   },
   "outputs": [],
   "source": [
    "preprocessor = ColumnTransformer(\n",
    "    transformers=[\n",
    "        ('bin_cat_transformer', bin_cat_transformer, bin_columns),\n",
    "#         ('mul_cat_transformer', mul_cat_transformer, mul_cat_columns),\n",
    "        ('num_transformer', num_transformer, num_columns),\n",
    "        ('passthrough', 'passthrough', mul_cat_columns),\n",
    "        ('drop', 'drop', str_columns),\n",
    "])"
   ]
  },
  {
   "cell_type": "code",
   "execution_count": 29,
   "metadata": {},
   "outputs": [],
   "source": [
    "# X[bin_columns + mul_cat_columns + num_columns]"
   ]
  },
  {
   "cell_type": "code",
   "execution_count": 30,
   "metadata": {},
   "outputs": [],
   "source": [
    "# prep_for_test = preprocessor.fit(X_train, y_train)\n",
    "# pd.DataFrame(prep_for_test.transform(X_train), columns=bin_columns + mul_cat_columns + num_columns)"
   ]
  },
  {
   "cell_type": "markdown",
   "metadata": {},
   "source": [
    "## Обучение модели (эксперименты)"
   ]
  },
  {
   "cell_type": "code",
   "execution_count": 31,
   "metadata": {},
   "outputs": [],
   "source": [
    "pipeline_without_resampling = Pipeline(steps = [\n",
    "    ('preprocessor', preprocessor),\n",
    "    ('model', DecisionTreeClassifier(criterion='entropy'))\n",
    "])\n",
    "\n",
    "pipeline_over_sampling = Pipeline(steps = [\n",
    "    ('preprocessor', preprocessor),\n",
    "    ('over_sample', RandomOverSampler()),\n",
    "    ('model', DecisionTreeClassifier(criterion='entropy'))\n",
    "])\n",
    "\n",
    "pipeline_SMOT = Pipeline(steps = [\n",
    "    ('preprocessor', preprocessor),\n",
    "    ('over_sample', SMOTE()),\n",
    "    ('model', DecisionTreeClassifier(criterion='entropy'))\n",
    "])\n",
    "\n",
    "param_grid_without_resampling = {\n",
    "    'model__max_depth': list(range(3, 8)),\n",
    "    'model__min_samples_split': list(range(2, 8))\n",
    "}\n",
    "\n",
    "param_grid_over_sampling = {\n",
    "    'model__max_depth': list(range(3, 8)),    \n",
    "    'model__min_samples_split': list(range(2, 8)),\n",
    "    'over_sample__sampling_strategy': list(np.arange(0.4, 1, 0.1))\n",
    "}\n",
    "\n",
    "param_grid_SMOT = {\n",
    "    'model__max_depth': list(range(3, 8)),    \n",
    "    'model__min_samples_split': list(range(2, 8)),\n",
    "    'over_sample__sampling_strategy': list(np.arange(0.4, 1, 0.1)),\n",
    "    'over_sample__k_neighbors': list(range(3, 7))\n",
    "}"
   ]
  },
  {
   "cell_type": "code",
   "execution_count": 32,
   "metadata": {},
   "outputs": [],
   "source": [
    "params = {'without_resampling': (pipeline_without_resampling, param_grid_without_resampling), \n",
    "          'over_sampling': (pipeline_over_sampling, param_grid_over_sampling), \n",
    "          'SMOT': (pipeline_SMOT, param_grid_SMOT)\n",
    "         }"
   ]
  },
  {
   "cell_type": "markdown",
   "metadata": {},
   "source": [
    "[scoring parameter](https://scikit-learn.org/stable/modules/model_evaluation.html#common-cases-predefined-values)"
   ]
  },
  {
   "cell_type": "code",
   "execution_count": 33,
   "metadata": {},
   "outputs": [],
   "source": [
    "gs_scoring = ['roc_auc', \n",
    "              'recall', \n",
    "              'precision', \n",
    "              'f1', \n",
    "              'balanced_accuracy', \n",
    "              'accuracy']"
   ]
  },
  {
   "cell_type": "code",
   "execution_count": 34,
   "metadata": {},
   "outputs": [
    {
     "name": "stdout",
     "output_type": "stream",
     "text": [
      "without_resampling | roc_auc ... finished! (2.02s) 1/18\n",
      "without_resampling | recall ... finished! (1.01s) 2/18\n",
      "without_resampling | precision ... finished! (1.00s) 3/18\n",
      "without_resampling | f1 ... finished! (0.99s) 4/18\n",
      "without_resampling | balanced_accuracy ... finished! (1.02s) 5/18\n",
      "without_resampling | accuracy ... finished! (0.97s) 6/18\n",
      "\n",
      "over_sampling | roc_auc ... finished! (6.28s) 7/18\n",
      "over_sampling | recall ... finished! (6.29s) 8/18\n",
      "over_sampling | precision ... finished! (6.25s) 9/18\n",
      "over_sampling | f1 ... finished! (6.27s) 10/18\n",
      "over_sampling | balanced_accuracy ... finished! (6.32s) 11/18\n",
      "over_sampling | accuracy ... finished! (6.17s) 12/18\n",
      "\n",
      "SMOT | roc_auc ... finished! (39.65s) 13/18\n",
      "SMOT | recall ... finished! (38.16s) 14/18\n",
      "SMOT | precision ... finished! (39.29s) 15/18\n",
      "SMOT | f1 ... finished! (39.29s) 16/18\n",
      "SMOT | balanced_accuracy ... finished! (39.74s) 17/18\n",
      "SMOT | accuracy ... finished! (38.77s) 18/18\n",
      "\n"
     ]
    }
   ],
   "source": [
    "import time\n",
    "\n",
    "total = len(params) * len(gs_scoring)\n",
    "index = 1\n",
    "models = {}\n",
    "\n",
    "for name, (pipeline, param_grid) in params.items():\n",
    "    models[name] = {}\n",
    "    for scoring in gs_scoring:\n",
    "        start = time.time()\n",
    "        print(f\"{name} | {scoring} ...\", end=' ')\n",
    "        model = GridSearchCV(pipeline, param_grid, n_jobs=-1, scoring=scoring)\n",
    "        model.fit(X_train, y_train)\n",
    "        \n",
    "        models[name].update({scoring: model})\n",
    "        end = time.time()\n",
    "\n",
    "        print(f\"finished! ({end - start:0.2f}s) {index}/{total}\")\n",
    "        index += 1\n",
    "    print()"
   ]
  },
  {
   "cell_type": "markdown",
   "metadata": {},
   "source": [
    "## Анализ результатов"
   ]
  },
  {
   "cell_type": "code",
   "execution_count": 35,
   "metadata": {},
   "outputs": [],
   "source": [
    "columns = ['accuracy', 'b_accuracy', 'precision', 'recall', 'f1', 'roc_auc']"
   ]
  },
  {
   "cell_type": "code",
   "execution_count": 36,
   "metadata": {},
   "outputs": [],
   "source": [
    "def evaluate_model(y_predicted, X_test, y_test):       \n",
    "    accuracy = accuracy_score(y_test, y_predicted)\n",
    "    balanced_accuracy = balanced_accuracy_score(y_test, y_predicted)\n",
    "    precision = precision_score(y_test, y_predicted)\n",
    "    recall = recall_score(y_test, y_predicted)\n",
    "    f1 = f1_score(y_test, y_predicted, average='weighted')\n",
    "    roc_auc = roc_auc_score(y_test, y_predicted)\n",
    "    \n",
    "    return pd.Series([accuracy, balanced_accuracy, precision, recall, f1, roc_auc], \n",
    "                     index=columns)"
   ]
  },
  {
   "cell_type": "code",
   "execution_count": 37,
   "metadata": {},
   "outputs": [
    {
     "name": "stdout",
     "output_type": "stream",
     "text": [
      "\n",
      "\n",
      "plot matrix: 6x3\n"
     ]
    },
    {
     "data": {
      "image/png": "[encoded data removed]",
      "text/plain": [
       "<Figure size 1296x1512 with 36 Axes>"
      ]
     },
     "metadata": {
      "needs_background": "light"
     },
     "output_type": "display_data"
    }
   ],
   "source": [
    "eval_df = pd.DataFrame(columns=columns)\n",
    "name_scorer_index = []\n",
    "\n",
    "names_len = len(params)\n",
    "scorers_len = len(gs_scoring)\n",
    "fig, axes = plt.subplots(scorers_len, names_len, figsize=(scorers_len*3, names_len*7))\n",
    "\n",
    "for name_index, (name, models_by_scorer) in enumerate(models.items()):\n",
    "    \n",
    "    for scorer_index, (scorer, model) in enumerate(models_by_scorer.items()):\n",
    "        name_scorer_index.append((name, scorer))\n",
    "\n",
    "        y_predicted = model.predict(X_test)\n",
    "        ax=axes[scorer_index][name_index]\n",
    "        plot_confusion_matrix(model, X_test, y_test, ax=ax)\n",
    "        ax.set_title(f'{name} ({scorer})')\n",
    "        \n",
    "        \n",
    "        eval_res = evaluate_model(y_predicted, X_test, y_test)        \n",
    "        eval_df = eval_df.append(eval_res, ignore_index=True)\n",
    "        \n",
    "index = pd.MultiIndex.from_tuples(name_scorer_index, names=[\"name\", \"scorer\"])\n",
    "eval_df.set_index(index, inplace=True)\n",
    "\n",
    "print(f'\\n\\nplot matrix: {scorers_len}x{names_len}')\n",
    "# расстояние между графиками по горизонтали и вертикали\n",
    "fig.subplots_adjust(hspace=0.5, wspace=0)"
   ]
  },
  {
   "cell_type": "code",
   "execution_count": 38,
   "metadata": {},
   "outputs": [
    {
     "data": {
      "text/html": [
       "<div>\n",
       "<style scoped>\n",
       "    .dataframe tbody tr th:only-of-type {\n",
       "        vertical-align: middle;\n",
       "    }\n",
       "\n",
       "    .dataframe tbody tr th {\n",
       "        vertical-align: top;\n",
       "    }\n",
       "\n",
       "    .dataframe thead th {\n",
       "        text-align: right;\n",
       "    }\n",
       "</style>\n",
       "<table border=\"1\" class=\"dataframe\">\n",
       "  <thead>\n",
       "    <tr style=\"text-align: right;\">\n",
       "      <th></th>\n",
       "      <th></th>\n",
       "      <th>accuracy</th>\n",
       "      <th>b_accuracy</th>\n",
       "      <th>precision</th>\n",
       "      <th>recall</th>\n",
       "      <th>f1</th>\n",
       "      <th>roc_auc</th>\n",
       "    </tr>\n",
       "    <tr>\n",
       "      <th>name</th>\n",
       "      <th>scorer</th>\n",
       "      <th></th>\n",
       "      <th></th>\n",
       "      <th></th>\n",
       "      <th></th>\n",
       "      <th></th>\n",
       "      <th></th>\n",
       "    </tr>\n",
       "  </thead>\n",
       "  <tbody>\n",
       "    <tr>\n",
       "      <th rowspan=\"6\" valign=\"top\">without_resampling</th>\n",
       "      <th>roc_auc</th>\n",
       "      <td>0.8585</td>\n",
       "      <td>0.702639</td>\n",
       "      <td>0.764957</td>\n",
       "      <td>0.439803</td>\n",
       "      <td>0.843049</td>\n",
       "      <td>0.702639</td>\n",
       "    </tr>\n",
       "    <tr>\n",
       "      <th>recall</th>\n",
       "      <td>0.8585</td>\n",
       "      <td>0.702639</td>\n",
       "      <td>0.764957</td>\n",
       "      <td>0.439803</td>\n",
       "      <td>0.843049</td>\n",
       "      <td>0.702639</td>\n",
       "    </tr>\n",
       "    <tr>\n",
       "      <th>precision</th>\n",
       "      <td>0.8425</td>\n",
       "      <td>0.623998</td>\n",
       "      <td>0.896552</td>\n",
       "      <td>0.255528</td>\n",
       "      <td>0.805274</td>\n",
       "      <td>0.623998</td>\n",
       "    </tr>\n",
       "    <tr>\n",
       "      <th>f1</th>\n",
       "      <td>0.8585</td>\n",
       "      <td>0.702639</td>\n",
       "      <td>0.764957</td>\n",
       "      <td>0.439803</td>\n",
       "      <td>0.843049</td>\n",
       "      <td>0.702639</td>\n",
       "    </tr>\n",
       "    <tr>\n",
       "      <th>balanced_accuracy</th>\n",
       "      <td>0.8585</td>\n",
       "      <td>0.702639</td>\n",
       "      <td>0.764957</td>\n",
       "      <td>0.439803</td>\n",
       "      <td>0.843049</td>\n",
       "      <td>0.702639</td>\n",
       "    </tr>\n",
       "    <tr>\n",
       "      <th>accuracy</th>\n",
       "      <td>0.8585</td>\n",
       "      <td>0.702639</td>\n",
       "      <td>0.764957</td>\n",
       "      <td>0.439803</td>\n",
       "      <td>0.843049</td>\n",
       "      <td>0.702639</td>\n",
       "    </tr>\n",
       "    <tr>\n",
       "      <th rowspan=\"6\" valign=\"top\">over_sampling</th>\n",
       "      <th>roc_auc</th>\n",
       "      <td>0.8435</td>\n",
       "      <td>0.776454</td>\n",
       "      <td>0.605381</td>\n",
       "      <td>0.663391</td>\n",
       "      <td>0.846108</td>\n",
       "      <td>0.776454</td>\n",
       "    </tr>\n",
       "    <tr>\n",
       "      <th>recall</th>\n",
       "      <td>0.7805</td>\n",
       "      <td>0.764344</td>\n",
       "      <td>0.474684</td>\n",
       "      <td>0.737101</td>\n",
       "      <td>0.795927</td>\n",
       "      <td>0.764344</td>\n",
       "    </tr>\n",
       "    <tr>\n",
       "      <th>precision</th>\n",
       "      <td>0.8580</td>\n",
       "      <td>0.702325</td>\n",
       "      <td>0.761702</td>\n",
       "      <td>0.439803</td>\n",
       "      <td>0.842615</td>\n",
       "      <td>0.702325</td>\n",
       "    </tr>\n",
       "    <tr>\n",
       "      <th>f1</th>\n",
       "      <td>0.8210</td>\n",
       "      <td>0.767817</td>\n",
       "      <td>0.548708</td>\n",
       "      <td>0.678133</td>\n",
       "      <td>0.827661</td>\n",
       "      <td>0.767817</td>\n",
       "    </tr>\n",
       "    <tr>\n",
       "      <th>balanced_accuracy</th>\n",
       "      <td>0.8435</td>\n",
       "      <td>0.768222</td>\n",
       "      <td>0.609813</td>\n",
       "      <td>0.641278</td>\n",
       "      <td>0.844949</td>\n",
       "      <td>0.768222</td>\n",
       "    </tr>\n",
       "    <tr>\n",
       "      <th>accuracy</th>\n",
       "      <td>0.8590</td>\n",
       "      <td>0.703867</td>\n",
       "      <td>0.765957</td>\n",
       "      <td>0.442260</td>\n",
       "      <td>0.843723</td>\n",
       "      <td>0.703867</td>\n",
       "    </tr>\n",
       "    <tr>\n",
       "      <th rowspan=\"6\" valign=\"top\">SMOT</th>\n",
       "      <th>roc_auc</th>\n",
       "      <td>0.8350</td>\n",
       "      <td>0.771118</td>\n",
       "      <td>0.583153</td>\n",
       "      <td>0.663391</td>\n",
       "      <td>0.838834</td>\n",
       "      <td>0.771118</td>\n",
       "    </tr>\n",
       "    <tr>\n",
       "      <th>recall</th>\n",
       "      <td>0.8260</td>\n",
       "      <td>0.776444</td>\n",
       "      <td>0.558416</td>\n",
       "      <td>0.692875</td>\n",
       "      <td>0.832588</td>\n",
       "      <td>0.776444</td>\n",
       "    </tr>\n",
       "    <tr>\n",
       "      <th>precision</th>\n",
       "      <td>0.8610</td>\n",
       "      <td>0.713354</td>\n",
       "      <td>0.759036</td>\n",
       "      <td>0.464373</td>\n",
       "      <td>0.847544</td>\n",
       "      <td>0.713354</td>\n",
       "    </tr>\n",
       "    <tr>\n",
       "      <th>f1</th>\n",
       "      <td>0.8345</td>\n",
       "      <td>0.769889</td>\n",
       "      <td>0.582251</td>\n",
       "      <td>0.660934</td>\n",
       "      <td>0.838284</td>\n",
       "      <td>0.769889</td>\n",
       "    </tr>\n",
       "    <tr>\n",
       "      <th>balanced_accuracy</th>\n",
       "      <td>0.8330</td>\n",
       "      <td>0.771692</td>\n",
       "      <td>0.577495</td>\n",
       "      <td>0.668305</td>\n",
       "      <td>0.837375</td>\n",
       "      <td>0.771692</td>\n",
       "    </tr>\n",
       "    <tr>\n",
       "      <th>accuracy</th>\n",
       "      <td>0.8590</td>\n",
       "      <td>0.705696</td>\n",
       "      <td>0.761506</td>\n",
       "      <td>0.447174</td>\n",
       "      <td>0.844197</td>\n",
       "      <td>0.705696</td>\n",
       "    </tr>\n",
       "  </tbody>\n",
       "</table>\n",
       "</div>"
      ],
      "text/plain": [
       "                                      accuracy  b_accuracy  precision  \\\n",
       "name               scorer                                               \n",
       "without_resampling roc_auc              0.8585    0.702639   0.764957   \n",
       "                   recall               0.8585    0.702639   0.764957   \n",
       "                   precision            0.8425    0.623998   0.896552   \n",
       "                   f1                   0.8585    0.702639   0.764957   \n",
       "                   balanced_accuracy    0.8585    0.702639   0.764957   \n",
       "                   accuracy             0.8585    0.702639   0.764957   \n",
       "over_sampling      roc_auc              0.8435    0.776454   0.605381   \n",
       "                   recall               0.7805    0.764344   0.474684   \n",
       "                   precision            0.8580    0.702325   0.761702   \n",
       "                   f1                   0.8210    0.767817   0.548708   \n",
       "                   balanced_accuracy    0.8435    0.768222   0.609813   \n",
       "                   accuracy             0.8590    0.703867   0.765957   \n",
       "SMOT               roc_auc              0.8350    0.771118   0.583153   \n",
       "                   recall               0.8260    0.776444   0.558416   \n",
       "                   precision            0.8610    0.713354   0.759036   \n",
       "                   f1                   0.8345    0.769889   0.582251   \n",
       "                   balanced_accuracy    0.8330    0.771692   0.577495   \n",
       "                   accuracy             0.8590    0.705696   0.761506   \n",
       "\n",
       "                                        recall        f1   roc_auc  \n",
       "name               scorer                                           \n",
       "without_resampling roc_auc            0.439803  0.843049  0.702639  \n",
       "                   recall             0.439803  0.843049  0.702639  \n",
       "                   precision          0.255528  0.805274  0.623998  \n",
       "                   f1                 0.439803  0.843049  0.702639  \n",
       "                   balanced_accuracy  0.439803  0.843049  0.702639  \n",
       "                   accuracy           0.439803  0.843049  0.702639  \n",
       "over_sampling      roc_auc            0.663391  0.846108  0.776454  \n",
       "                   recall             0.737101  0.795927  0.764344  \n",
       "                   precision          0.439803  0.842615  0.702325  \n",
       "                   f1                 0.678133  0.827661  0.767817  \n",
       "                   balanced_accuracy  0.641278  0.844949  0.768222  \n",
       "                   accuracy           0.442260  0.843723  0.703867  \n",
       "SMOT               roc_auc            0.663391  0.838834  0.771118  \n",
       "                   recall             0.692875  0.832588  0.776444  \n",
       "                   precision          0.464373  0.847544  0.713354  \n",
       "                   f1                 0.660934  0.838284  0.769889  \n",
       "                   balanced_accuracy  0.668305  0.837375  0.771692  \n",
       "                   accuracy           0.447174  0.844197  0.705696  "
      ]
     },
     "execution_count": 38,
     "metadata": {},
     "output_type": "execute_result"
    }
   ],
   "source": [
    "eval_df"
   ]
  },
  {
   "cell_type": "code",
   "execution_count": 39,
   "metadata": {},
   "outputs": [
    {
     "data": {
      "text/plain": [
       "<AxesSubplot:ylabel='name-scorer'>"
      ]
     },
     "execution_count": 39,
     "metadata": {},
     "output_type": "execute_result"
    },
    {
     "data": {
      "image/png": "[encoded data removed]",
      "text/plain": [
       "<Figure size 576x576 with 2 Axes>"
      ]
     },
     "metadata": {
      "needs_background": "light"
     },
     "output_type": "display_data"
    }
   ],
   "source": [
    "plt.figure(figsize=(8, 8))\n",
    "sns.heatmap(eval_df, \n",
    "            annot=True, \n",
    "            annot_kws={\"size\": 13}, \n",
    "            fmt=\"1.2f\", \n",
    "            cmap='Purples', \n",
    "            vmin=0, \n",
    "            vmax=1)"
   ]
  },
  {
   "cell_type": "code",
   "execution_count": 40,
   "metadata": {},
   "outputs": [
    {
     "data": {
      "text/plain": [
       "['./tmp/08_model_over_sampling_recall.pkl']"
      ]
     },
     "execution_count": 40,
     "metadata": {},
     "output_type": "execute_result"
    }
   ],
   "source": [
    "import joblib\n",
    "\n",
    "joblib.dump(models['over_sampling']['recall'], './tmp/08_model_over_sampling_recall.joblib')"
   ]
  }
 ],
 "metadata": {
  "kernelspec": {
   "display_name": "Python [conda env:LevelUp_DataScience] *",
   "language": "python",
   "name": "conda-env-LevelUp_DataScience-py"
  },
  "language_info": {
   "codemirror_mode": {
    "name": "ipython",
    "version": 3
   },
   "file_extension": ".py",
   "mimetype": "text/x-python",
   "name": "python",
   "nbconvert_exporter": "python",
   "pygments_lexer": "ipython3",
   "version": "3.8.3"
  },
  "toc-autonumbering": true
 },
 "nbformat": 4,
 "nbformat_minor": 4
}