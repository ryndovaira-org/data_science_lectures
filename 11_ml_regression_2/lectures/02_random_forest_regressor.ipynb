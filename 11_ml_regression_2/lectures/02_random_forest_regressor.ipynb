{
 "cells": [
  {
   "cell_type": "markdown",
   "metadata": {},
   "source": [
    "# Random Forest Regressor"
   ]
  },
  {
   "cell_type": "markdown",
   "metadata": {},
   "source": [
    "---\n",
    "\n",
    "**Источники:**\n",
    "\n",
    "[sklearn.ensemble.RandomForestRegressor](https://scikit-learn.org/stable/modules/generated/sklearn.ensemble.RandomForestRegressor.html)\n",
    "\n",
    "[1.11.2. Forests of randomized trees](https://scikit-learn.org/stable/modules/ensemble.html#forest)\n",
    "\n",
    "\n",
    "[Random Forest Regression](https://medium.com/swlh/random-forest-and-its-implementation-71824ced454f)\n",
    "\n",
    "[Painless Random Forest Regression in Python – Step-by-Step with Sklearn](https://onestopdataanalysis.com/python-random-forest-regression/)\n",
    "\n",
    "[Random forest](https://ru.wikipedia.org/wiki/Random_forest)\n",
    "\n",
    "[Бэггинг](https://ru.wikipedia.org/wiki/%D0%91%D1%8D%D0%B3%D0%B3%D0%B8%D0%BD%D0%B3)\n",
    "\n",
    "[How to Visualize a Decision Tree from a Random Forest in Python using Scikit-Learn](https://towardsdatascience.com/how-to-visualize-a-decision-tree-from-a-random-forest-in-python-using-scikit-learn-38ad2d75f21c)\n",
    "\n",
    "---\n"
   ]
  },
  {
   "cell_type": "markdown",
   "metadata": {},
   "source": [
    "## Подготовка окружения"
   ]
  },
  {
   "cell_type": "code",
   "execution_count": 1,
   "metadata": {
    "collapsed": false,
    "jupyter": {
     "outputs_hidden": false
    },
    "pycharm": {
     "name": "#%%\n"
    }
   },
   "outputs": [],
   "source": [
    "# ВНИМАНИЕ: необходимо удостовериться, что виртуальная среда выбрана правильно!\n",
    "\n",
    "# Для MacOS/Ubuntu\n",
    "# !which pip\n",
    "\n",
    "# Для Windows\n",
    "# !where pip"
   ]
  },
  {
   "cell_type": "code",
   "execution_count": 2,
   "metadata": {
    "collapsed": false,
    "jupyter": {
     "outputs_hidden": false
    },
    "pycharm": {
     "name": "#%%\n"
    }
   },
   "outputs": [],
   "source": [
    "# !conda install matplotlib numpy scikit-learn seaborn -y"
   ]
  },
  {
   "cell_type": "code",
   "execution_count": 3,
   "metadata": {},
   "outputs": [
    {
     "data": {
      "text/plain": [
       "'1.6.2'"
      ]
     },
     "execution_count": 3,
     "metadata": {},
     "output_type": "execute_result"
    }
   ],
   "source": [
    "import scipy\n",
    "from scipy import stats\n",
    "\n",
    "scipy.__version__"
   ]
  },
  {
   "cell_type": "code",
   "execution_count": 4,
   "metadata": {
    "collapsed": false,
    "jupyter": {
     "outputs_hidden": false
    },
    "pycharm": {
     "name": "#%%\n"
    }
   },
   "outputs": [
    {
     "data": {
      "text/plain": [
       "'1.20.2'"
      ]
     },
     "execution_count": 4,
     "metadata": {},
     "output_type": "execute_result"
    }
   ],
   "source": [
    "import numpy as np\n",
    "\n",
    "np.__version__"
   ]
  },
  {
   "cell_type": "code",
   "execution_count": 5,
   "metadata": {
    "collapsed": false,
    "jupyter": {
     "outputs_hidden": false
    },
    "pycharm": {
     "name": "#%%\n"
    }
   },
   "outputs": [
    {
     "data": {
      "text/plain": [
       "'1.2.4'"
      ]
     },
     "execution_count": 5,
     "metadata": {},
     "output_type": "execute_result"
    }
   ],
   "source": [
    "import pandas as pd\n",
    "\n",
    "pd.__version__"
   ]
  },
  {
   "cell_type": "code",
   "execution_count": 6,
   "metadata": {
    "collapsed": false,
    "jupyter": {
     "outputs_hidden": false
    },
    "pycharm": {
     "name": "#%%\n"
    }
   },
   "outputs": [
    {
     "data": {
      "text/plain": [
       "'3.3.4'"
      ]
     },
     "execution_count": 6,
     "metadata": {},
     "output_type": "execute_result"
    }
   ],
   "source": [
    "import matplotlib\n",
    "import matplotlib.pyplot as plt\n",
    "\n",
    "matplotlib.__version__"
   ]
  },
  {
   "cell_type": "code",
   "execution_count": 7,
   "metadata": {
    "collapsed": false,
    "jupyter": {
     "outputs_hidden": false
    },
    "pycharm": {
     "name": "#%%\n"
    }
   },
   "outputs": [
    {
     "data": {
      "text/plain": [
       "'0.11.1'"
      ]
     },
     "execution_count": 7,
     "metadata": {},
     "output_type": "execute_result"
    }
   ],
   "source": [
    "import seaborn as sns\n",
    "\n",
    "sns.__version__"
   ]
  },
  {
   "cell_type": "code",
   "execution_count": 8,
   "metadata": {},
   "outputs": [],
   "source": [
    "from sklearn.feature_selection import SelectKBest, f_regression, mutual_info_regression\n",
    "from sklearn.pipeline import Pipeline\n",
    "from sklearn.model_selection import GridSearchCV\n",
    "\n",
    "from sklearn.metrics import r2_score\n",
    "from sklearn.metrics import mean_squared_error"
   ]
  },
  {
   "cell_type": "markdown",
   "metadata": {},
   "source": [
    "## Загрузка данных\n",
    "\n",
    "[Источник (Calculate Concrete Strength)](https://www.kaggle.com/prathamtripathi/regression-with-neural-networking)"
   ]
  },
  {
   "cell_type": "code",
   "execution_count": 9,
   "metadata": {
    "collapsed": false,
    "jupyter": {
     "outputs_hidden": false
    },
    "pycharm": {
     "name": "#%%\n"
    }
   },
   "outputs": [
    {
     "data": {
      "text/html": [
       "<div>\n",
       "<style scoped>\n",
       "    .dataframe tbody tr th:only-of-type {\n",
       "        vertical-align: middle;\n",
       "    }\n",
       "\n",
       "    .dataframe tbody tr th {\n",
       "        vertical-align: top;\n",
       "    }\n",
       "\n",
       "    .dataframe thead th {\n",
       "        text-align: right;\n",
       "    }\n",
       "</style>\n",
       "<table border=\"1\" class=\"dataframe\">\n",
       "  <thead>\n",
       "    <tr style=\"text-align: right;\">\n",
       "      <th></th>\n",
       "      <th>Cement</th>\n",
       "      <th>Blast Furnace Slag</th>\n",
       "      <th>Fly Ash</th>\n",
       "      <th>Water</th>\n",
       "      <th>Superplasticizer</th>\n",
       "      <th>Coarse Aggregate</th>\n",
       "      <th>Fine Aggregate</th>\n",
       "      <th>Age</th>\n",
       "      <th>Strength</th>\n",
       "    </tr>\n",
       "  </thead>\n",
       "  <tbody>\n",
       "    <tr>\n",
       "      <th>0</th>\n",
       "      <td>540.0</td>\n",
       "      <td>0.0</td>\n",
       "      <td>0.0</td>\n",
       "      <td>162.0</td>\n",
       "      <td>2.5</td>\n",
       "      <td>1040.0</td>\n",
       "      <td>676.0</td>\n",
       "      <td>28</td>\n",
       "      <td>79.99</td>\n",
       "    </tr>\n",
       "    <tr>\n",
       "      <th>1</th>\n",
       "      <td>540.0</td>\n",
       "      <td>0.0</td>\n",
       "      <td>0.0</td>\n",
       "      <td>162.0</td>\n",
       "      <td>2.5</td>\n",
       "      <td>1055.0</td>\n",
       "      <td>676.0</td>\n",
       "      <td>28</td>\n",
       "      <td>61.89</td>\n",
       "    </tr>\n",
       "    <tr>\n",
       "      <th>2</th>\n",
       "      <td>332.5</td>\n",
       "      <td>142.5</td>\n",
       "      <td>0.0</td>\n",
       "      <td>228.0</td>\n",
       "      <td>0.0</td>\n",
       "      <td>932.0</td>\n",
       "      <td>594.0</td>\n",
       "      <td>270</td>\n",
       "      <td>40.27</td>\n",
       "    </tr>\n",
       "    <tr>\n",
       "      <th>3</th>\n",
       "      <td>332.5</td>\n",
       "      <td>142.5</td>\n",
       "      <td>0.0</td>\n",
       "      <td>228.0</td>\n",
       "      <td>0.0</td>\n",
       "      <td>932.0</td>\n",
       "      <td>594.0</td>\n",
       "      <td>365</td>\n",
       "      <td>41.05</td>\n",
       "    </tr>\n",
       "    <tr>\n",
       "      <th>4</th>\n",
       "      <td>198.6</td>\n",
       "      <td>132.4</td>\n",
       "      <td>0.0</td>\n",
       "      <td>192.0</td>\n",
       "      <td>0.0</td>\n",
       "      <td>978.4</td>\n",
       "      <td>825.5</td>\n",
       "      <td>360</td>\n",
       "      <td>44.30</td>\n",
       "    </tr>\n",
       "    <tr>\n",
       "      <th>...</th>\n",
       "      <td>...</td>\n",
       "      <td>...</td>\n",
       "      <td>...</td>\n",
       "      <td>...</td>\n",
       "      <td>...</td>\n",
       "      <td>...</td>\n",
       "      <td>...</td>\n",
       "      <td>...</td>\n",
       "      <td>...</td>\n",
       "    </tr>\n",
       "    <tr>\n",
       "      <th>1025</th>\n",
       "      <td>276.4</td>\n",
       "      <td>116.0</td>\n",
       "      <td>90.3</td>\n",
       "      <td>179.6</td>\n",
       "      <td>8.9</td>\n",
       "      <td>870.1</td>\n",
       "      <td>768.3</td>\n",
       "      <td>28</td>\n",
       "      <td>44.28</td>\n",
       "    </tr>\n",
       "    <tr>\n",
       "      <th>1026</th>\n",
       "      <td>322.2</td>\n",
       "      <td>0.0</td>\n",
       "      <td>115.6</td>\n",
       "      <td>196.0</td>\n",
       "      <td>10.4</td>\n",
       "      <td>817.9</td>\n",
       "      <td>813.4</td>\n",
       "      <td>28</td>\n",
       "      <td>31.18</td>\n",
       "    </tr>\n",
       "    <tr>\n",
       "      <th>1027</th>\n",
       "      <td>148.5</td>\n",
       "      <td>139.4</td>\n",
       "      <td>108.6</td>\n",
       "      <td>192.7</td>\n",
       "      <td>6.1</td>\n",
       "      <td>892.4</td>\n",
       "      <td>780.0</td>\n",
       "      <td>28</td>\n",
       "      <td>23.70</td>\n",
       "    </tr>\n",
       "    <tr>\n",
       "      <th>1028</th>\n",
       "      <td>159.1</td>\n",
       "      <td>186.7</td>\n",
       "      <td>0.0</td>\n",
       "      <td>175.6</td>\n",
       "      <td>11.3</td>\n",
       "      <td>989.6</td>\n",
       "      <td>788.9</td>\n",
       "      <td>28</td>\n",
       "      <td>32.77</td>\n",
       "    </tr>\n",
       "    <tr>\n",
       "      <th>1029</th>\n",
       "      <td>260.9</td>\n",
       "      <td>100.5</td>\n",
       "      <td>78.3</td>\n",
       "      <td>200.6</td>\n",
       "      <td>8.6</td>\n",
       "      <td>864.5</td>\n",
       "      <td>761.5</td>\n",
       "      <td>28</td>\n",
       "      <td>32.40</td>\n",
       "    </tr>\n",
       "  </tbody>\n",
       "</table>\n",
       "<p>1030 rows × 9 columns</p>\n",
       "</div>"
      ],
      "text/plain": [
       "      Cement  Blast Furnace Slag  Fly Ash  Water  Superplasticizer  \\\n",
       "0      540.0                 0.0      0.0  162.0               2.5   \n",
       "1      540.0                 0.0      0.0  162.0               2.5   \n",
       "2      332.5               142.5      0.0  228.0               0.0   \n",
       "3      332.5               142.5      0.0  228.0               0.0   \n",
       "4      198.6               132.4      0.0  192.0               0.0   \n",
       "...      ...                 ...      ...    ...               ...   \n",
       "1025   276.4               116.0     90.3  179.6               8.9   \n",
       "1026   322.2                 0.0    115.6  196.0              10.4   \n",
       "1027   148.5               139.4    108.6  192.7               6.1   \n",
       "1028   159.1               186.7      0.0  175.6              11.3   \n",
       "1029   260.9               100.5     78.3  200.6               8.6   \n",
       "\n",
       "      Coarse Aggregate  Fine Aggregate  Age  Strength  \n",
       "0               1040.0           676.0   28     79.99  \n",
       "1               1055.0           676.0   28     61.89  \n",
       "2                932.0           594.0  270     40.27  \n",
       "3                932.0           594.0  365     41.05  \n",
       "4                978.4           825.5  360     44.30  \n",
       "...                ...             ...  ...       ...  \n",
       "1025             870.1           768.3   28     44.28  \n",
       "1026             817.9           813.4   28     31.18  \n",
       "1027             892.4           780.0   28     23.70  \n",
       "1028             989.6           788.9   28     32.77  \n",
       "1029             864.5           761.5   28     32.40  \n",
       "\n",
       "[1030 rows x 9 columns]"
      ]
     },
     "execution_count": 9,
     "metadata": {},
     "output_type": "execute_result"
    }
   ],
   "source": [
    "df = pd.read_csv(\"./../../data/concrete_data.csv\")\n",
    "df"
   ]
  },
  {
   "cell_type": "markdown",
   "metadata": {},
   "source": [
    "## Разделение данных на `X` и `y`"
   ]
  },
  {
   "cell_type": "code",
   "execution_count": 10,
   "metadata": {},
   "outputs": [],
   "source": [
    "target = 'Strength'"
   ]
  },
  {
   "cell_type": "code",
   "execution_count": 11,
   "metadata": {
    "collapsed": false,
    "jupyter": {
     "outputs_hidden": false
    },
    "pycharm": {
     "name": "#%%\n"
    }
   },
   "outputs": [],
   "source": [
    "from sklearn.model_selection import train_test_split\n",
    "\n",
    "y = df[target].copy()\n",
    "X = df.drop(columns=[target]).copy()\n",
    "\n",
    "X_train, X_test, y_train, y_test = train_test_split(X, y, test_size=0.33, random_state=42)"
   ]
  },
  {
   "cell_type": "code",
   "execution_count": 12,
   "metadata": {},
   "outputs": [
    {
     "data": {
      "text/html": [
       "<div>\n",
       "<style scoped>\n",
       "    .dataframe tbody tr th:only-of-type {\n",
       "        vertical-align: middle;\n",
       "    }\n",
       "\n",
       "    .dataframe tbody tr th {\n",
       "        vertical-align: top;\n",
       "    }\n",
       "\n",
       "    .dataframe thead th {\n",
       "        text-align: right;\n",
       "    }\n",
       "</style>\n",
       "<table border=\"1\" class=\"dataframe\">\n",
       "  <thead>\n",
       "    <tr style=\"text-align: right;\">\n",
       "      <th></th>\n",
       "      <th>Cement</th>\n",
       "      <th>Blast Furnace Slag</th>\n",
       "      <th>Fly Ash</th>\n",
       "      <th>Water</th>\n",
       "      <th>Superplasticizer</th>\n",
       "      <th>Coarse Aggregate</th>\n",
       "      <th>Fine Aggregate</th>\n",
       "      <th>Age</th>\n",
       "    </tr>\n",
       "  </thead>\n",
       "  <tbody>\n",
       "    <tr>\n",
       "      <th>0</th>\n",
       "      <td>540.0</td>\n",
       "      <td>0.0</td>\n",
       "      <td>0.0</td>\n",
       "      <td>162.0</td>\n",
       "      <td>2.5</td>\n",
       "      <td>1040.0</td>\n",
       "      <td>676.0</td>\n",
       "      <td>28</td>\n",
       "    </tr>\n",
       "    <tr>\n",
       "      <th>1</th>\n",
       "      <td>540.0</td>\n",
       "      <td>0.0</td>\n",
       "      <td>0.0</td>\n",
       "      <td>162.0</td>\n",
       "      <td>2.5</td>\n",
       "      <td>1055.0</td>\n",
       "      <td>676.0</td>\n",
       "      <td>28</td>\n",
       "    </tr>\n",
       "    <tr>\n",
       "      <th>2</th>\n",
       "      <td>332.5</td>\n",
       "      <td>142.5</td>\n",
       "      <td>0.0</td>\n",
       "      <td>228.0</td>\n",
       "      <td>0.0</td>\n",
       "      <td>932.0</td>\n",
       "      <td>594.0</td>\n",
       "      <td>270</td>\n",
       "    </tr>\n",
       "    <tr>\n",
       "      <th>3</th>\n",
       "      <td>332.5</td>\n",
       "      <td>142.5</td>\n",
       "      <td>0.0</td>\n",
       "      <td>228.0</td>\n",
       "      <td>0.0</td>\n",
       "      <td>932.0</td>\n",
       "      <td>594.0</td>\n",
       "      <td>365</td>\n",
       "    </tr>\n",
       "    <tr>\n",
       "      <th>4</th>\n",
       "      <td>198.6</td>\n",
       "      <td>132.4</td>\n",
       "      <td>0.0</td>\n",
       "      <td>192.0</td>\n",
       "      <td>0.0</td>\n",
       "      <td>978.4</td>\n",
       "      <td>825.5</td>\n",
       "      <td>360</td>\n",
       "    </tr>\n",
       "    <tr>\n",
       "      <th>...</th>\n",
       "      <td>...</td>\n",
       "      <td>...</td>\n",
       "      <td>...</td>\n",
       "      <td>...</td>\n",
       "      <td>...</td>\n",
       "      <td>...</td>\n",
       "      <td>...</td>\n",
       "      <td>...</td>\n",
       "    </tr>\n",
       "    <tr>\n",
       "      <th>1025</th>\n",
       "      <td>276.4</td>\n",
       "      <td>116.0</td>\n",
       "      <td>90.3</td>\n",
       "      <td>179.6</td>\n",
       "      <td>8.9</td>\n",
       "      <td>870.1</td>\n",
       "      <td>768.3</td>\n",
       "      <td>28</td>\n",
       "    </tr>\n",
       "    <tr>\n",
       "      <th>1026</th>\n",
       "      <td>322.2</td>\n",
       "      <td>0.0</td>\n",
       "      <td>115.6</td>\n",
       "      <td>196.0</td>\n",
       "      <td>10.4</td>\n",
       "      <td>817.9</td>\n",
       "      <td>813.4</td>\n",
       "      <td>28</td>\n",
       "    </tr>\n",
       "    <tr>\n",
       "      <th>1027</th>\n",
       "      <td>148.5</td>\n",
       "      <td>139.4</td>\n",
       "      <td>108.6</td>\n",
       "      <td>192.7</td>\n",
       "      <td>6.1</td>\n",
       "      <td>892.4</td>\n",
       "      <td>780.0</td>\n",
       "      <td>28</td>\n",
       "    </tr>\n",
       "    <tr>\n",
       "      <th>1028</th>\n",
       "      <td>159.1</td>\n",
       "      <td>186.7</td>\n",
       "      <td>0.0</td>\n",
       "      <td>175.6</td>\n",
       "      <td>11.3</td>\n",
       "      <td>989.6</td>\n",
       "      <td>788.9</td>\n",
       "      <td>28</td>\n",
       "    </tr>\n",
       "    <tr>\n",
       "      <th>1029</th>\n",
       "      <td>260.9</td>\n",
       "      <td>100.5</td>\n",
       "      <td>78.3</td>\n",
       "      <td>200.6</td>\n",
       "      <td>8.6</td>\n",
       "      <td>864.5</td>\n",
       "      <td>761.5</td>\n",
       "      <td>28</td>\n",
       "    </tr>\n",
       "  </tbody>\n",
       "</table>\n",
       "<p>1030 rows × 8 columns</p>\n",
       "</div>"
      ],
      "text/plain": [
       "      Cement  Blast Furnace Slag  Fly Ash  Water  Superplasticizer  \\\n",
       "0      540.0                 0.0      0.0  162.0               2.5   \n",
       "1      540.0                 0.0      0.0  162.0               2.5   \n",
       "2      332.5               142.5      0.0  228.0               0.0   \n",
       "3      332.5               142.5      0.0  228.0               0.0   \n",
       "4      198.6               132.4      0.0  192.0               0.0   \n",
       "...      ...                 ...      ...    ...               ...   \n",
       "1025   276.4               116.0     90.3  179.6               8.9   \n",
       "1026   322.2                 0.0    115.6  196.0              10.4   \n",
       "1027   148.5               139.4    108.6  192.7               6.1   \n",
       "1028   159.1               186.7      0.0  175.6              11.3   \n",
       "1029   260.9               100.5     78.3  200.6               8.6   \n",
       "\n",
       "      Coarse Aggregate  Fine Aggregate  Age  \n",
       "0               1040.0           676.0   28  \n",
       "1               1055.0           676.0   28  \n",
       "2                932.0           594.0  270  \n",
       "3                932.0           594.0  365  \n",
       "4                978.4           825.5  360  \n",
       "...                ...             ...  ...  \n",
       "1025             870.1           768.3   28  \n",
       "1026             817.9           813.4   28  \n",
       "1027             892.4           780.0   28  \n",
       "1028             989.6           788.9   28  \n",
       "1029             864.5           761.5   28  \n",
       "\n",
       "[1030 rows x 8 columns]"
      ]
     },
     "execution_count": 12,
     "metadata": {},
     "output_type": "execute_result"
    }
   ],
   "source": [
    "X"
   ]
  },
  {
   "cell_type": "code",
   "execution_count": 13,
   "metadata": {},
   "outputs": [
    {
     "data": {
      "text/plain": [
       "0       79.99\n",
       "1       61.89\n",
       "2       40.27\n",
       "3       41.05\n",
       "4       44.30\n",
       "        ...  \n",
       "1025    44.28\n",
       "1026    31.18\n",
       "1027    23.70\n",
       "1028    32.77\n",
       "1029    32.40\n",
       "Name: Strength, Length: 1030, dtype: float64"
      ]
     },
     "execution_count": 13,
     "metadata": {},
     "output_type": "execute_result"
    }
   ],
   "source": [
    "y"
   ]
  },
  {
   "cell_type": "markdown",
   "metadata": {},
   "source": [
    "## Random Forest (Случайный лес) Regressor\n",
    "\n",
    "[sklearn.ensemble.RandomForestRegressor](https://scikit-learn.org/stable/modules/generated/sklearn.ensemble.RandomForestRegressor.html)\n",
    "\n",
    "Основная идея заключается в использовании большого **ансамбля решающих деревьев (decision tree)**, каждое из которых само по себе даёт очень невысокое качество, но за счёт их большого количества результат получается хорошим.\n",
    "\n",
    "Алгоритм применяется для задач **классификации, регрессии и кластеризации**.\n",
    "\n",
    "**Достоинства:**\n",
    "- Способность эффективно обрабатывать данные с большим числом признаков и классов.\n",
    "- Нечувствительность к масштабированию (и вообще к любым монотонным преобразованиям) значений признаков.\n",
    "- Одинаково хорошо обрабатываются как непрерывные, так и дискретные признаки. Существуют методы построения деревьев по данным с пропущенными значениями признаков.\n",
    "- Существуют методы оценивания значимости отдельных признаков в модели.\n",
    "- Внутренняя оценка способности модели к обобщению (тест по неотобранным образцам out-of-bag).\n",
    "- Высокая параллелизуемость и масштабируемость.\n",
    "\n",
    "**Недостатки:**\n",
    "- Большой размер получающихся моделей. Требуется $O(K)$ памяти для хранения модели, где $K$ — число деревьев."
   ]
  },
  {
   "cell_type": "markdown",
   "metadata": {},
   "source": [
    "<center><img src=\"images/random_forest.png\"/></center>\n",
    "\n",
    "---"
   ]
  },
  {
   "cell_type": "markdown",
   "metadata": {},
   "source": [
    "<center><img src=\"images/random_forest_2.png\"/></center>"
   ]
  },
  {
   "cell_type": "markdown",
   "metadata": {},
   "source": [
    "<center><img src=\"images/random_forest_regression_line.png\"/></center>"
   ]
  },
  {
   "cell_type": "markdown",
   "metadata": {},
   "source": [
    "## Анализ и обработка выбросов"
   ]
  },
  {
   "cell_type": "code",
   "execution_count": 14,
   "metadata": {},
   "outputs": [],
   "source": [
    "def remove_outliers_iqr(data, col_name):\n",
    "    print(f\"column name: {col_name}\\n\")\n",
    "    Q1 = data[col_name].quantile(0.25)\n",
    "    Q3 = data[col_name].quantile(0.75)\n",
    "    IQR = Q3 - Q1\n",
    "    lower_fence = Q1 - 1.5 * IQR\n",
    "    upper_fence = Q3 + 1.5 * IQR\n",
    "    data_new = data[~((data[col_name] < lower_fence) |\n",
    "                      (data[col_name] > upper_fence))]\n",
    "    \n",
    "    diff_len = len(data) - len(data_new)\n",
    "    print(f\"removed: {diff_len}\")\n",
    "    \n",
    "    _, axs = plt.subplots(1, 2, figsize=(10, 2))\n",
    "    sns.boxplot(data=data_new[col_name], ax=axs[0])\n",
    "    sns.histplot(data=data_new[col_name], ax=axs[1])\n",
    "    \n",
    "    return data_new.reset_index(drop=True)"
   ]
  },
  {
   "cell_type": "markdown",
   "metadata": {},
   "source": [
    "## Анализ числовых признаков"
   ]
  },
  {
   "cell_type": "code",
   "execution_count": 15,
   "metadata": {},
   "outputs": [
    {
     "data": {
      "image/png": "[encoded data removed]",
      "text/plain": [
       "<Figure size 1440x1296 with 18 Axes>"
      ]
     },
     "metadata": {
      "needs_background": "light"
     },
     "output_type": "display_data"
    }
   ],
   "source": [
    "num_cols = df.select_dtypes(include=np.number).columns.to_list()\n",
    "fig, axs = plt.subplots(len(num_cols), 2, figsize=(20, 2 * len(num_cols)))\n",
    "\n",
    "for index, column_name in enumerate(num_cols):\n",
    "    sns.boxplot(x=df[column_name], ax=axs[index][0])\n",
    "    axs[index][0].get_lines()[4].set_color('yellow')\n",
    "    \n",
    "    sns.histplot(x=df[column_name], kde=True, ax=axs[index][1])\n",
    "    axs[index][1].get_lines()[0].set_color('lime')\n",
    "    \n",
    "fig.tight_layout(pad=1.0)"
   ]
  },
  {
   "cell_type": "markdown",
   "metadata": {},
   "source": [
    "## Анализ корреляций"
   ]
  },
  {
   "cell_type": "code",
   "execution_count": 16,
   "metadata": {},
   "outputs": [
    {
     "data": {
      "text/html": [
       "<div>\n",
       "<style scoped>\n",
       "    .dataframe tbody tr th:only-of-type {\n",
       "        vertical-align: middle;\n",
       "    }\n",
       "\n",
       "    .dataframe tbody tr th {\n",
       "        vertical-align: top;\n",
       "    }\n",
       "\n",
       "    .dataframe thead th {\n",
       "        text-align: right;\n",
       "    }\n",
       "</style>\n",
       "<table border=\"1\" class=\"dataframe\">\n",
       "  <thead>\n",
       "    <tr style=\"text-align: right;\">\n",
       "      <th></th>\n",
       "      <th>Cement</th>\n",
       "      <th>Blast Furnace Slag</th>\n",
       "      <th>Fly Ash</th>\n",
       "      <th>Water</th>\n",
       "      <th>Superplasticizer</th>\n",
       "      <th>Coarse Aggregate</th>\n",
       "      <th>Fine Aggregate</th>\n",
       "      <th>Age</th>\n",
       "    </tr>\n",
       "  </thead>\n",
       "  <tbody>\n",
       "    <tr>\n",
       "      <th>Cement</th>\n",
       "      <td>1.000000</td>\n",
       "      <td>-0.245167</td>\n",
       "      <td>-0.418320</td>\n",
       "      <td>-0.094437</td>\n",
       "      <td>0.037919</td>\n",
       "      <td>-0.144880</td>\n",
       "      <td>-0.173596</td>\n",
       "      <td>0.004640</td>\n",
       "    </tr>\n",
       "    <tr>\n",
       "      <th>Blast Furnace Slag</th>\n",
       "      <td>-0.245167</td>\n",
       "      <td>1.000000</td>\n",
       "      <td>-0.253551</td>\n",
       "      <td>0.053360</td>\n",
       "      <td>0.098137</td>\n",
       "      <td>-0.348898</td>\n",
       "      <td>-0.302278</td>\n",
       "      <td>-0.017581</td>\n",
       "    </tr>\n",
       "    <tr>\n",
       "      <th>Fly Ash</th>\n",
       "      <td>-0.418320</td>\n",
       "      <td>-0.253551</td>\n",
       "      <td>1.000000</td>\n",
       "      <td>-0.283150</td>\n",
       "      <td>0.454091</td>\n",
       "      <td>0.058366</td>\n",
       "      <td>0.051307</td>\n",
       "      <td>0.002801</td>\n",
       "    </tr>\n",
       "    <tr>\n",
       "      <th>Water</th>\n",
       "      <td>-0.094437</td>\n",
       "      <td>0.053360</td>\n",
       "      <td>-0.283150</td>\n",
       "      <td>1.000000</td>\n",
       "      <td>-0.686923</td>\n",
       "      <td>-0.218487</td>\n",
       "      <td>-0.345614</td>\n",
       "      <td>0.090942</td>\n",
       "    </tr>\n",
       "    <tr>\n",
       "      <th>Superplasticizer</th>\n",
       "      <td>0.037919</td>\n",
       "      <td>0.098137</td>\n",
       "      <td>0.454091</td>\n",
       "      <td>-0.686923</td>\n",
       "      <td>1.000000</td>\n",
       "      <td>-0.198802</td>\n",
       "      <td>0.168313</td>\n",
       "      <td>-0.009525</td>\n",
       "    </tr>\n",
       "    <tr>\n",
       "      <th>Coarse Aggregate</th>\n",
       "      <td>-0.144880</td>\n",
       "      <td>-0.348898</td>\n",
       "      <td>0.058366</td>\n",
       "      <td>-0.218487</td>\n",
       "      <td>-0.198802</td>\n",
       "      <td>1.000000</td>\n",
       "      <td>-0.100480</td>\n",
       "      <td>-0.044928</td>\n",
       "    </tr>\n",
       "    <tr>\n",
       "      <th>Fine Aggregate</th>\n",
       "      <td>-0.173596</td>\n",
       "      <td>-0.302278</td>\n",
       "      <td>0.051307</td>\n",
       "      <td>-0.345614</td>\n",
       "      <td>0.168313</td>\n",
       "      <td>-0.100480</td>\n",
       "      <td>1.000000</td>\n",
       "      <td>-0.057362</td>\n",
       "    </tr>\n",
       "    <tr>\n",
       "      <th>Age</th>\n",
       "      <td>0.004640</td>\n",
       "      <td>-0.017581</td>\n",
       "      <td>0.002801</td>\n",
       "      <td>0.090942</td>\n",
       "      <td>-0.009525</td>\n",
       "      <td>-0.044928</td>\n",
       "      <td>-0.057362</td>\n",
       "      <td>1.000000</td>\n",
       "    </tr>\n",
       "  </tbody>\n",
       "</table>\n",
       "</div>"
      ],
      "text/plain": [
       "                      Cement  Blast Furnace Slag   Fly Ash     Water  \\\n",
       "Cement              1.000000           -0.245167 -0.418320 -0.094437   \n",
       "Blast Furnace Slag -0.245167            1.000000 -0.253551  0.053360   \n",
       "Fly Ash            -0.418320           -0.253551  1.000000 -0.283150   \n",
       "Water              -0.094437            0.053360 -0.283150  1.000000   \n",
       "Superplasticizer    0.037919            0.098137  0.454091 -0.686923   \n",
       "Coarse Aggregate   -0.144880           -0.348898  0.058366 -0.218487   \n",
       "Fine Aggregate     -0.173596           -0.302278  0.051307 -0.345614   \n",
       "Age                 0.004640           -0.017581  0.002801  0.090942   \n",
       "\n",
       "                    Superplasticizer  Coarse Aggregate  Fine Aggregate  \\\n",
       "Cement                      0.037919         -0.144880       -0.173596   \n",
       "Blast Furnace Slag          0.098137         -0.348898       -0.302278   \n",
       "Fly Ash                     0.454091          0.058366        0.051307   \n",
       "Water                      -0.686923         -0.218487       -0.345614   \n",
       "Superplasticizer            1.000000         -0.198802        0.168313   \n",
       "Coarse Aggregate           -0.198802          1.000000       -0.100480   \n",
       "Fine Aggregate              0.168313         -0.100480        1.000000   \n",
       "Age                        -0.009525         -0.044928       -0.057362   \n",
       "\n",
       "                         Age  \n",
       "Cement              0.004640  \n",
       "Blast Furnace Slag -0.017581  \n",
       "Fly Ash             0.002801  \n",
       "Water               0.090942  \n",
       "Superplasticizer   -0.009525  \n",
       "Coarse Aggregate   -0.044928  \n",
       "Fine Aggregate     -0.057362  \n",
       "Age                 1.000000  "
      ]
     },
     "execution_count": 16,
     "metadata": {},
     "output_type": "execute_result"
    }
   ],
   "source": [
    "corr = X.corr(method='spearman')\n",
    "corr"
   ]
  },
  {
   "cell_type": "code",
   "execution_count": 17,
   "metadata": {},
   "outputs": [
    {
     "data": {
      "text/plain": [
       "<AxesSubplot:>"
      ]
     },
     "execution_count": 17,
     "metadata": {},
     "output_type": "execute_result"
    },
    {
     "data": {
      "image/png": "[encoded data removed]",
      "text/plain": [
       "<Figure size 504x504 with 2 Axes>"
      ]
     },
     "metadata": {
      "needs_background": "light"
     },
     "output_type": "display_data"
    }
   ],
   "source": [
    "plt.figure(figsize=(7, 7))\n",
    "\n",
    "sns.heatmap(corr, \n",
    "            square=True,\n",
    "            annot=True,\n",
    "            fmt='.2f',\n",
    "            cmap='PRGn',\n",
    "            cbar_kws={\"shrink\": .5},\n",
    "            annot_kws={\"size\": 12},\n",
    "            robust=True,\n",
    "            vmin=-1, \n",
    "            vmax=1)"
   ]
  },
  {
   "cell_type": "markdown",
   "metadata": {},
   "source": [
    "## Анализ отсутствующих значений"
   ]
  },
  {
   "cell_type": "code",
   "execution_count": 18,
   "metadata": {},
   "outputs": [
    {
     "data": {
      "text/plain": [
       "Cement                0\n",
       "Blast Furnace Slag    0\n",
       "Fly Ash               0\n",
       "Water                 0\n",
       "Superplasticizer      0\n",
       "Coarse Aggregate      0\n",
       "Fine Aggregate        0\n",
       "Age                   0\n",
       "dtype: int64"
      ]
     },
     "execution_count": 18,
     "metadata": {},
     "output_type": "execute_result"
    }
   ],
   "source": [
    "X.isna().sum()"
   ]
  },
  {
   "cell_type": "code",
   "execution_count": 19,
   "metadata": {},
   "outputs": [
    {
     "data": {
      "text/plain": [
       "0"
      ]
     },
     "execution_count": 19,
     "metadata": {},
     "output_type": "execute_result"
    }
   ],
   "source": [
    "y.isna().sum()"
   ]
  },
  {
   "cell_type": "markdown",
   "metadata": {},
   "source": [
    "Выводы: Отсутствующих значений нет."
   ]
  },
  {
   "cell_type": "markdown",
   "metadata": {},
   "source": [
    "## Важные параметры [sklearn.ensemble.RandomForestRegressor](https://scikit-learn.org/stable/modules/generated/sklearn.ensemble.RandomForestRegressor.html)\n",
    "\n",
    "- `n_estimators: int, default=100`\n",
    "    - Количество деревьев в лесу.\n",
    "    \n",
    "    \n",
    "- `criterion: {\"mse\", \"mae\"}, default=\"mse\"`\n",
    "    - Функция измерения качества разделения.\n",
    "    - Поддерживаемые критерии: `\"mse\"` для среднеквадратичной ошибки, которая равна уменьшению дисперсии в качестве критерия выбора признаков, и `\"mae\"` для средней абсолютной ошибки.\n",
    "    \n",
    "    \n",
    "- `max_depth: int, default=None`\n",
    "    - Максимальная глубина дерева.\n",
    "    - Если `None`, то узлы расширяются до тех пор, пока все листья не станут чистыми или пока все листья не будут содержать менее `min_samples_split` выборок.\n",
    "    \n",
    "   \n",
    "- `min_samples_split: int или float, default=2`\n",
    "    - Минимальное количество выборок, необходимое для разделения внутреннего узла:\n",
    "        - Если `int`, то считает `min_samples_split` минимальным числом.\n",
    "        - Если `float`, то `min_samples_split` - это дробь, а `ceil(min_samples_split * n_samples)` - минимальное количество выборок для каждого разделения.\n",
    "        \n",
    "        \n",
    "- `min_samples_leaf: int or float, default=1`\n",
    "    - Минимальное количество выборок, которое требуется для конечного узла.\n",
    "    - Точка разделения на любой глубине будет учитываться только в том случае, если она оставляет не менее `min_samples_leaf` обучающих выборок в каждой из левой и правой ветвей. Это может иметь эффект сглаживания модели, особенно при регрессии.\n",
    "    - Если `int`, то считает `min_samples_leaf` минимальным числом.\n",
    "    - Если `float`, то `min_samples_leaf` - дробная часть, а `ceil(min_samples_leaf * n_samples)` - минимальное количество выборок для каждого узла.\n",
    "    \n",
    "    \n",
    "- `min_weight_fraction_leaf: float, default=0.0`\n",
    "\n",
    "\n",
    "- `max_features: {\"auto\", \"sqrt\", \"log2\"}, int or float, default=\"auto\"`\n",
    "\n",
    "\n",
    "- `max_leaf_nodes: int, default=None`\n",
    "    - Выращиевает деревья с `max_leaf_nodes` способом \"лучший первый\" (best-first).\n",
    "    - Лучшие узлы определяются как относительное уменьшение \"загрязнения\" (impurity).\n",
    "    - Если `None`, то неограниченное количество конечных узлов."
   ]
  },
  {
   "cell_type": "markdown",
   "metadata": {},
   "source": [
    "## Обучение модели (Train) - manual"
   ]
  },
  {
   "cell_type": "code",
   "execution_count": 20,
   "metadata": {},
   "outputs": [
    {
     "data": {
      "text/plain": [
       "RandomForestRegressor(max_depth=5, n_estimators=10)"
      ]
     },
     "execution_count": 20,
     "metadata": {},
     "output_type": "execute_result"
    }
   ],
   "source": [
    "# импортировать пакет RandomForestRegressor\n",
    "from sklearn.ensemble import RandomForestRegressor\n",
    "\n",
    "# создать объект RandomForestRegressor\n",
    "model = RandomForestRegressor(n_estimators=10, \n",
    "                              max_depth=5)\n",
    "\n",
    "# обучить модель\n",
    "model.fit(X_train, y_train)"
   ]
  },
  {
   "cell_type": "markdown",
   "metadata": {},
   "source": [
    "## Оценка качества модели (Evaluation)"
   ]
  },
  {
   "cell_type": "code",
   "execution_count": 21,
   "metadata": {},
   "outputs": [],
   "source": [
    "# использовать обученную модель для предсказания на test выборке\n",
    "y_test_predicted = model.predict(X_test)\n",
    "y_train_predicted = model.predict(X_train)"
   ]
  },
  {
   "cell_type": "code",
   "execution_count": 22,
   "metadata": {},
   "outputs": [
    {
     "name": "stdout",
     "output_type": "stream",
     "text": [
      "R2 (train): 0.8707428904838492\n",
      "R2 (test): 0.7808436321818711\n",
      "MSE (train): 35.924077128031776\n",
      "MSE (test): 61.19186678491543\n"
     ]
    }
   ],
   "source": [
    "print(f'R2 (train): {r2_score(y_train, y_train_predicted)}')\n",
    "print(f'R2 (test): {r2_score(y_test, y_test_predicted)}')\n",
    "\n",
    "print(f\"MSE (train): {mean_squared_error(y_train, y_train_predicted, squared=True)}\")\n",
    "print(f\"MSE (test): {mean_squared_error(y_test, y_test_predicted, squared=True)}\")"
   ]
  },
  {
   "cell_type": "markdown",
   "metadata": {},
   "source": [
    "Для визуализации необходимо установить [`Graphviz`](https://graphviz.gitlab.io/download/)."
   ]
  },
  {
   "cell_type": "code",
   "execution_count": 23,
   "metadata": {},
   "outputs": [],
   "source": [
    "from sklearn.tree import export_graphviz\n",
    "import os\n",
    "\n",
    "for i, est in enumerate(model.estimators_):\n",
    "    export_graphviz(est,\n",
    "                    out_file=f'tmp/rf_tree_{i}.dot', \n",
    "                    feature_names = X_train.columns.to_list(),\n",
    "                    class_names = y_train.name,\n",
    "                    rounded = True, \n",
    "                    proportion = False, \n",
    "                    precision = 2,\n",
    "                    special_characters=True,\n",
    "                    filled = True)\n",
    "    os.system(f'dot -Tpng tmp/rf_tree_{i}.dot -o tmp/rf_tree_{i}.png')"
   ]
  },
  {
   "cell_type": "markdown",
   "metadata": {},
   "source": [
    "## Важность признаков"
   ]
  },
  {
   "cell_type": "markdown",
   "metadata": {},
   "source": [
    "### Важность признаков на основе среднего уменьшения примесей (mean decrease in impurity)\n",
    "\n",
    "Важность признаков обеспечивается соответствующим атрибутом `feature_importances_`, и они вычисляются как среднее значение и стандартное отклонение накопления уменьшения примесей в каждом дереве.\n",
    "\n",
    "**ВНИМАНИЕ:** Важность признаков на основе примесей может вводить в заблуждение для **признаков с высокой мощностью** (много уникальных значений)."
   ]
  },
  {
   "cell_type": "code",
   "execution_count": 24,
   "metadata": {},
   "outputs": [
    {
     "data": {
      "text/plain": [
       "Index(['Cement', 'Blast Furnace Slag', 'Fly Ash', 'Water', 'Superplasticizer',\n",
       "       'Coarse Aggregate', 'Fine Aggregate', 'Age'],\n",
       "      dtype='object')"
      ]
     },
     "execution_count": 24,
     "metadata": {},
     "output_type": "execute_result"
    }
   ],
   "source": [
    "feature_names = X_train.columns\n",
    "feature_names"
   ]
  },
  {
   "cell_type": "code",
   "execution_count": 25,
   "metadata": {},
   "outputs": [
    {
     "data": {
      "text/plain": [
       "array([0.38284334, 0.06406125, 0.00377002, 0.11757728, 0.04375109,\n",
       "       0.00450932, 0.01469991, 0.36878779])"
      ]
     },
     "execution_count": 25,
     "metadata": {},
     "output_type": "execute_result"
    }
   ],
   "source": [
    "importances = model.feature_importances_\n",
    "importances"
   ]
  },
  {
   "cell_type": "code",
   "execution_count": 26,
   "metadata": {},
   "outputs": [
    {
     "data": {
      "text/plain": [
       "array([0.04806573, 0.02209452, 0.00458219, 0.03402725, 0.0231704 ,\n",
       "       0.00720818, 0.0068521 , 0.03201294])"
      ]
     },
     "execution_count": 26,
     "metadata": {},
     "output_type": "execute_result"
    }
   ],
   "source": [
    "std = np.std([tree.feature_importances_ for tree in model.estimators_], \n",
    "             axis=0)\n",
    "\n",
    "std"
   ]
  },
  {
   "cell_type": "code",
   "execution_count": 27,
   "metadata": {},
   "outputs": [
    {
     "data": {
      "image/png": "[encoded data removed]",
      "text/plain": [
       "<Figure size 432x288 with 1 Axes>"
      ]
     },
     "metadata": {
      "needs_background": "light"
     },
     "output_type": "display_data"
    }
   ],
   "source": [
    "forest_importances = pd.Series(importances, index=feature_names)\n",
    "\n",
    "fig, ax = plt.subplots()\n",
    "forest_importances.plot.bar(yerr=std, ax=ax)\n",
    "ax.set_title(\"Feature importances using MDI\")\n",
    "ax.set_ylabel(\"Mean decrease in impurity\")\n",
    "fig.tight_layout()"
   ]
  },
  {
   "cell_type": "markdown",
   "metadata": {},
   "source": [
    "### Важность признаков на основе перестановки признаков (feature permutation)\n",
    "\n",
    "Такой подход преодолевает ограничения важности признака на основе примесей: признаки не имеют предвзятости в сторону признаков с высокой мощностью и могут быть вычислены на оставленном наборе тестов.\n",
    "\n",
    "[sklearn.inspection.permutation_importance](https://scikit-learn.org/stable/modules/generated/sklearn.inspection.permutation_importance.html)\n",
    "\n",
    "Вычисление важности полной перестановки **более затратно: признаки перемешиваются `n` раз**, и модель перестраивается, чтобы оценить их важность.\n",
    "\n",
    "При использовании обоих методов одни и те же признаки определяются как наиболее важные. Хотя относительные значения различаются."
   ]
  },
  {
   "cell_type": "code",
   "execution_count": 28,
   "metadata": {},
   "outputs": [
    {
     "data": {
      "text/plain": [
       "{'importances_mean': array([0.555809  , 0.11509365, 0.00114689, 0.14518535, 0.05947248,\n",
       "        0.00429167, 0.02130554, 0.74995181]),\n",
       " 'importances_std': array([0.06983623, 0.0085005 , 0.00134942, 0.0222346 , 0.00871789,\n",
       "        0.00076922, 0.00332979, 0.06152041]),\n",
       " 'importances': array([[ 4.53658347e-01,  5.95544013e-01,  6.32489103e-01,\n",
       "          5.61695527e-01,  5.36704999e-01,  6.39934741e-01,\n",
       "          4.50658903e-01,  5.11912534e-01,  6.52466033e-01,\n",
       "          5.23025774e-01],\n",
       "        [ 1.12735657e-01,  1.15254255e-01,  1.24289241e-01,\n",
       "          1.19785347e-01,  1.03230613e-01,  1.09054894e-01,\n",
       "          1.02306013e-01,  1.30804056e-01,  1.19694505e-01,\n",
       "          1.13781883e-01],\n",
       "        [ 3.39295711e-03, -8.68478361e-04,  1.68825614e-03,\n",
       "          1.29014444e-03,  6.84550614e-04, -3.46369310e-04,\n",
       "          2.52271037e-03,  2.36027292e-03,  1.31606620e-03,\n",
       "         -5.71162799e-04],\n",
       "        [ 1.26452439e-01,  1.55084517e-01,  2.01477951e-01,\n",
       "          1.36101920e-01,  1.43012513e-01,  1.43973018e-01,\n",
       "          1.28273735e-01,  1.62100595e-01,  1.32830810e-01,\n",
       "          1.22545971e-01],\n",
       "        [ 5.50851480e-02,  5.33969006e-02,  5.86597337e-02,\n",
       "          5.61416414e-02,  6.51686678e-02,  4.64633562e-02,\n",
       "          6.96499441e-02,  6.25793561e-02,  5.07535431e-02,\n",
       "          7.68265140e-02],\n",
       "        [ 3.36718147e-03,  3.08469060e-03,  4.92440106e-03,\n",
       "          3.56714490e-03,  4.94568192e-03,  5.44966489e-03,\n",
       "          5.15976376e-03,  4.32606224e-03,  3.91154143e-03,\n",
       "          4.18053991e-03],\n",
       "        [ 1.68990738e-02,  2.37352386e-02,  2.59158757e-02,\n",
       "          1.65691525e-02,  1.97582579e-02,  2.48916112e-02,\n",
       "          2.47527685e-02,  1.87194964e-02,  2.28721331e-02,\n",
       "          1.89418323e-02],\n",
       "        [ 7.67657349e-01,  7.40601278e-01,  7.17635581e-01,\n",
       "          7.47300945e-01,  7.45918325e-01,  7.07620585e-01,\n",
       "          8.96344931e-01,  8.09701729e-01,  6.64401743e-01,\n",
       "          7.02335595e-01]])}"
      ]
     },
     "execution_count": 28,
     "metadata": {},
     "output_type": "execute_result"
    }
   ],
   "source": [
    "from sklearn.inspection import permutation_importance\n",
    "\n",
    "result = permutation_importance(model, X_test, y_test, n_repeats=10)\n",
    "\n",
    "result"
   ]
  },
  {
   "cell_type": "code",
   "execution_count": 29,
   "metadata": {},
   "outputs": [
    {
     "data": {
      "image/png": "[encoded data removed]",
      "text/plain": [
       "<Figure size 432x288 with 1 Axes>"
      ]
     },
     "metadata": {
      "needs_background": "light"
     },
     "output_type": "display_data"
    }
   ],
   "source": [
    "fig, ax = plt.subplots()\n",
    "forest_importances.plot.bar(yerr=result.importances_std, ax=ax)\n",
    "ax.set_title(\"Feature importances using permutation on full model\")\n",
    "ax.set_ylabel(\"Mean accuracy decrease\")\n",
    "fig.tight_layout()"
   ]
  },
  {
   "cell_type": "markdown",
   "metadata": {},
   "source": [
    "## Feature Selection"
   ]
  },
  {
   "cell_type": "code",
   "execution_count": 30,
   "metadata": {},
   "outputs": [],
   "source": [
    "selector = SelectKBest(score_func=mutual_info_regression, k=6).fit(X_train, y_train)"
   ]
  },
  {
   "cell_type": "code",
   "execution_count": 31,
   "metadata": {},
   "outputs": [
    {
     "data": {
      "text/plain": [
       "array([[ 150. ,  237. ,  174. ,   12. , 1069. ,   28. ],\n",
       "       [ 218.9,    0. ,  158.5,   11.3, 1078.7,   14. ],\n",
       "       [ 339. ,    0. ,  197. ,    0. ,  968. ,  365. ],\n",
       "       ...,\n",
       "       [ 190.3,    0. ,  166.6,    9.9, 1079. ,  100. ],\n",
       "       [ 475. ,  118.8,  181.1,    8.9,  852.1,   28. ],\n",
       "       [ 314. ,    0. ,  170. ,   10. ,  925. ,   28. ]])"
      ]
     },
     "execution_count": 31,
     "metadata": {},
     "output_type": "execute_result"
    }
   ],
   "source": [
    "X_train_new = selector.transform(X_train)\n",
    "X_train_new"
   ]
  },
  {
   "cell_type": "code",
   "execution_count": 32,
   "metadata": {},
   "outputs": [
    {
     "data": {
      "text/html": [
       "<div>\n",
       "<style scoped>\n",
       "    .dataframe tbody tr th:only-of-type {\n",
       "        vertical-align: middle;\n",
       "    }\n",
       "\n",
       "    .dataframe tbody tr th {\n",
       "        vertical-align: top;\n",
       "    }\n",
       "\n",
       "    .dataframe thead th {\n",
       "        text-align: right;\n",
       "    }\n",
       "</style>\n",
       "<table border=\"1\" class=\"dataframe\">\n",
       "  <thead>\n",
       "    <tr style=\"text-align: right;\">\n",
       "      <th></th>\n",
       "      <th>score</th>\n",
       "    </tr>\n",
       "  </thead>\n",
       "  <tbody>\n",
       "    <tr>\n",
       "      <th>Water</th>\n",
       "      <td>0.320677</td>\n",
       "    </tr>\n",
       "    <tr>\n",
       "      <th>Age</th>\n",
       "      <td>0.310877</td>\n",
       "    </tr>\n",
       "    <tr>\n",
       "      <th>Cement</th>\n",
       "      <td>0.223723</td>\n",
       "    </tr>\n",
       "    <tr>\n",
       "      <th>Blast Furnace Slag</th>\n",
       "      <td>0.189754</td>\n",
       "    </tr>\n",
       "    <tr>\n",
       "      <th>Superplasticizer</th>\n",
       "      <td>0.176350</td>\n",
       "    </tr>\n",
       "    <tr>\n",
       "      <th>Coarse Aggregate</th>\n",
       "      <td>0.165445</td>\n",
       "    </tr>\n",
       "    <tr>\n",
       "      <th>Fine Aggregate</th>\n",
       "      <td>0.147728</td>\n",
       "    </tr>\n",
       "    <tr>\n",
       "      <th>Fly Ash</th>\n",
       "      <td>0.043485</td>\n",
       "    </tr>\n",
       "  </tbody>\n",
       "</table>\n",
       "</div>"
      ],
      "text/plain": [
       "                       score\n",
       "Water               0.320677\n",
       "Age                 0.310877\n",
       "Cement              0.223723\n",
       "Blast Furnace Slag  0.189754\n",
       "Superplasticizer    0.176350\n",
       "Coarse Aggregate    0.165445\n",
       "Fine Aggregate      0.147728\n",
       "Fly Ash             0.043485"
      ]
     },
     "execution_count": 32,
     "metadata": {},
     "output_type": "execute_result"
    }
   ],
   "source": [
    "feat_scores = pd.DataFrame({'score': selector.scores_}, index=X_train.columns).sort_values(by='score', \n",
    "                                                                    ascending=False)\n",
    "feat_scores"
   ]
  },
  {
   "cell_type": "code",
   "execution_count": 33,
   "metadata": {},
   "outputs": [
    {
     "data": {
      "text/plain": [
       "<AxesSubplot:>"
      ]
     },
     "execution_count": 33,
     "metadata": {},
     "output_type": "execute_result"
    },
    {
     "data": {
      "image/png": "[encoded data removed]",
      "text/plain": [
       "<Figure size 432x288 with 2 Axes>"
      ]
     },
     "metadata": {
      "needs_background": "light"
     },
     "output_type": "display_data"
    }
   ],
   "source": [
    "sns.heatmap(feat_scores, annot=True, \n",
    "            annot_kws={\"size\": 13}, \n",
    "            fmt=\"1.2f\", \n",
    "            cmap='Greens')"
   ]
  },
  {
   "cell_type": "code",
   "execution_count": 34,
   "metadata": {},
   "outputs": [
    {
     "data": {
      "text/html": [
       "<div>\n",
       "<style scoped>\n",
       "    .dataframe tbody tr th:only-of-type {\n",
       "        vertical-align: middle;\n",
       "    }\n",
       "\n",
       "    .dataframe tbody tr th {\n",
       "        vertical-align: top;\n",
       "    }\n",
       "\n",
       "    .dataframe thead th {\n",
       "        text-align: right;\n",
       "    }\n",
       "</style>\n",
       "<table border=\"1\" class=\"dataframe\">\n",
       "  <thead>\n",
       "    <tr style=\"text-align: right;\">\n",
       "      <th></th>\n",
       "      <th>0</th>\n",
       "      <th>1</th>\n",
       "      <th>2</th>\n",
       "      <th>3</th>\n",
       "      <th>4</th>\n",
       "      <th>5</th>\n",
       "    </tr>\n",
       "  </thead>\n",
       "  <tbody>\n",
       "    <tr>\n",
       "      <th>0</th>\n",
       "      <td>150.0</td>\n",
       "      <td>237.0</td>\n",
       "      <td>174.0</td>\n",
       "      <td>12.0</td>\n",
       "      <td>1069.0</td>\n",
       "      <td>28.0</td>\n",
       "    </tr>\n",
       "    <tr>\n",
       "      <th>1</th>\n",
       "      <td>218.9</td>\n",
       "      <td>0.0</td>\n",
       "      <td>158.5</td>\n",
       "      <td>11.3</td>\n",
       "      <td>1078.7</td>\n",
       "      <td>14.0</td>\n",
       "    </tr>\n",
       "    <tr>\n",
       "      <th>2</th>\n",
       "      <td>339.0</td>\n",
       "      <td>0.0</td>\n",
       "      <td>197.0</td>\n",
       "      <td>0.0</td>\n",
       "      <td>968.0</td>\n",
       "      <td>365.0</td>\n",
       "    </tr>\n",
       "    <tr>\n",
       "      <th>3</th>\n",
       "      <td>143.8</td>\n",
       "      <td>136.3</td>\n",
       "      <td>178.1</td>\n",
       "      <td>7.5</td>\n",
       "      <td>941.5</td>\n",
       "      <td>28.0</td>\n",
       "    </tr>\n",
       "    <tr>\n",
       "      <th>4</th>\n",
       "      <td>252.5</td>\n",
       "      <td>0.0</td>\n",
       "      <td>185.7</td>\n",
       "      <td>0.0</td>\n",
       "      <td>1111.6</td>\n",
       "      <td>7.0</td>\n",
       "    </tr>\n",
       "    <tr>\n",
       "      <th>...</th>\n",
       "      <td>...</td>\n",
       "      <td>...</td>\n",
       "      <td>...</td>\n",
       "      <td>...</td>\n",
       "      <td>...</td>\n",
       "      <td>...</td>\n",
       "    </tr>\n",
       "    <tr>\n",
       "      <th>685</th>\n",
       "      <td>286.3</td>\n",
       "      <td>200.9</td>\n",
       "      <td>144.7</td>\n",
       "      <td>11.2</td>\n",
       "      <td>1004.6</td>\n",
       "      <td>3.0</td>\n",
       "    </tr>\n",
       "    <tr>\n",
       "      <th>686</th>\n",
       "      <td>246.8</td>\n",
       "      <td>0.0</td>\n",
       "      <td>143.3</td>\n",
       "      <td>12.0</td>\n",
       "      <td>1086.8</td>\n",
       "      <td>14.0</td>\n",
       "    </tr>\n",
       "    <tr>\n",
       "      <th>687</th>\n",
       "      <td>190.3</td>\n",
       "      <td>0.0</td>\n",
       "      <td>166.6</td>\n",
       "      <td>9.9</td>\n",
       "      <td>1079.0</td>\n",
       "      <td>100.0</td>\n",
       "    </tr>\n",
       "    <tr>\n",
       "      <th>688</th>\n",
       "      <td>475.0</td>\n",
       "      <td>118.8</td>\n",
       "      <td>181.1</td>\n",
       "      <td>8.9</td>\n",
       "      <td>852.1</td>\n",
       "      <td>28.0</td>\n",
       "    </tr>\n",
       "    <tr>\n",
       "      <th>689</th>\n",
       "      <td>314.0</td>\n",
       "      <td>0.0</td>\n",
       "      <td>170.0</td>\n",
       "      <td>10.0</td>\n",
       "      <td>925.0</td>\n",
       "      <td>28.0</td>\n",
       "    </tr>\n",
       "  </tbody>\n",
       "</table>\n",
       "<p>690 rows × 6 columns</p>\n",
       "</div>"
      ],
      "text/plain": [
       "         0      1      2     3       4      5\n",
       "0    150.0  237.0  174.0  12.0  1069.0   28.0\n",
       "1    218.9    0.0  158.5  11.3  1078.7   14.0\n",
       "2    339.0    0.0  197.0   0.0   968.0  365.0\n",
       "3    143.8  136.3  178.1   7.5   941.5   28.0\n",
       "4    252.5    0.0  185.7   0.0  1111.6    7.0\n",
       "..     ...    ...    ...   ...     ...    ...\n",
       "685  286.3  200.9  144.7  11.2  1004.6    3.0\n",
       "686  246.8    0.0  143.3  12.0  1086.8   14.0\n",
       "687  190.3    0.0  166.6   9.9  1079.0  100.0\n",
       "688  475.0  118.8  181.1   8.9   852.1   28.0\n",
       "689  314.0    0.0  170.0  10.0   925.0   28.0\n",
       "\n",
       "[690 rows x 6 columns]"
      ]
     },
     "execution_count": 34,
     "metadata": {},
     "output_type": "execute_result"
    }
   ],
   "source": [
    "pd.DataFrame(X_train_new)"
   ]
  },
  {
   "cell_type": "code",
   "execution_count": 35,
   "metadata": {},
   "outputs": [
    {
     "data": {
      "text/html": [
       "<div>\n",
       "<style scoped>\n",
       "    .dataframe tbody tr th:only-of-type {\n",
       "        vertical-align: middle;\n",
       "    }\n",
       "\n",
       "    .dataframe tbody tr th {\n",
       "        vertical-align: top;\n",
       "    }\n",
       "\n",
       "    .dataframe thead th {\n",
       "        text-align: right;\n",
       "    }\n",
       "</style>\n",
       "<table border=\"1\" class=\"dataframe\">\n",
       "  <thead>\n",
       "    <tr style=\"text-align: right;\">\n",
       "      <th></th>\n",
       "      <th>Cement</th>\n",
       "      <th>Blast Furnace Slag</th>\n",
       "      <th>Fly Ash</th>\n",
       "      <th>Water</th>\n",
       "      <th>Superplasticizer</th>\n",
       "      <th>Coarse Aggregate</th>\n",
       "      <th>Fine Aggregate</th>\n",
       "      <th>Age</th>\n",
       "    </tr>\n",
       "  </thead>\n",
       "  <tbody>\n",
       "    <tr>\n",
       "      <th>900</th>\n",
       "      <td>150.0</td>\n",
       "      <td>237.0</td>\n",
       "      <td>0.0</td>\n",
       "      <td>174.0</td>\n",
       "      <td>12.0</td>\n",
       "      <td>1069.0</td>\n",
       "      <td>675.0</td>\n",
       "      <td>28</td>\n",
       "    </tr>\n",
       "    <tr>\n",
       "      <th>370</th>\n",
       "      <td>218.9</td>\n",
       "      <td>0.0</td>\n",
       "      <td>124.1</td>\n",
       "      <td>158.5</td>\n",
       "      <td>11.3</td>\n",
       "      <td>1078.7</td>\n",
       "      <td>794.9</td>\n",
       "      <td>14</td>\n",
       "    </tr>\n",
       "    <tr>\n",
       "      <th>604</th>\n",
       "      <td>339.0</td>\n",
       "      <td>0.0</td>\n",
       "      <td>0.0</td>\n",
       "      <td>197.0</td>\n",
       "      <td>0.0</td>\n",
       "      <td>968.0</td>\n",
       "      <td>781.0</td>\n",
       "      <td>365</td>\n",
       "    </tr>\n",
       "    <tr>\n",
       "      <th>973</th>\n",
       "      <td>143.8</td>\n",
       "      <td>136.3</td>\n",
       "      <td>106.2</td>\n",
       "      <td>178.1</td>\n",
       "      <td>7.5</td>\n",
       "      <td>941.5</td>\n",
       "      <td>774.3</td>\n",
       "      <td>28</td>\n",
       "    </tr>\n",
       "    <tr>\n",
       "      <th>593</th>\n",
       "      <td>252.5</td>\n",
       "      <td>0.0</td>\n",
       "      <td>0.0</td>\n",
       "      <td>185.7</td>\n",
       "      <td>0.0</td>\n",
       "      <td>1111.6</td>\n",
       "      <td>784.3</td>\n",
       "      <td>7</td>\n",
       "    </tr>\n",
       "    <tr>\n",
       "      <th>...</th>\n",
       "      <td>...</td>\n",
       "      <td>...</td>\n",
       "      <td>...</td>\n",
       "      <td>...</td>\n",
       "      <td>...</td>\n",
       "      <td>...</td>\n",
       "      <td>...</td>\n",
       "      <td>...</td>\n",
       "    </tr>\n",
       "    <tr>\n",
       "      <th>87</th>\n",
       "      <td>286.3</td>\n",
       "      <td>200.9</td>\n",
       "      <td>0.0</td>\n",
       "      <td>144.7</td>\n",
       "      <td>11.2</td>\n",
       "      <td>1004.6</td>\n",
       "      <td>803.7</td>\n",
       "      <td>3</td>\n",
       "    </tr>\n",
       "    <tr>\n",
       "      <th>330</th>\n",
       "      <td>246.8</td>\n",
       "      <td>0.0</td>\n",
       "      <td>125.1</td>\n",
       "      <td>143.3</td>\n",
       "      <td>12.0</td>\n",
       "      <td>1086.8</td>\n",
       "      <td>800.9</td>\n",
       "      <td>14</td>\n",
       "    </tr>\n",
       "    <tr>\n",
       "      <th>466</th>\n",
       "      <td>190.3</td>\n",
       "      <td>0.0</td>\n",
       "      <td>125.2</td>\n",
       "      <td>166.6</td>\n",
       "      <td>9.9</td>\n",
       "      <td>1079.0</td>\n",
       "      <td>798.9</td>\n",
       "      <td>100</td>\n",
       "    </tr>\n",
       "    <tr>\n",
       "      <th>121</th>\n",
       "      <td>475.0</td>\n",
       "      <td>118.8</td>\n",
       "      <td>0.0</td>\n",
       "      <td>181.1</td>\n",
       "      <td>8.9</td>\n",
       "      <td>852.1</td>\n",
       "      <td>781.5</td>\n",
       "      <td>28</td>\n",
       "    </tr>\n",
       "    <tr>\n",
       "      <th>860</th>\n",
       "      <td>314.0</td>\n",
       "      <td>0.0</td>\n",
       "      <td>113.0</td>\n",
       "      <td>170.0</td>\n",
       "      <td>10.0</td>\n",
       "      <td>925.0</td>\n",
       "      <td>783.0</td>\n",
       "      <td>28</td>\n",
       "    </tr>\n",
       "  </tbody>\n",
       "</table>\n",
       "<p>690 rows × 8 columns</p>\n",
       "</div>"
      ],
      "text/plain": [
       "     Cement  Blast Furnace Slag  Fly Ash  Water  Superplasticizer  \\\n",
       "900   150.0               237.0      0.0  174.0              12.0   \n",
       "370   218.9                 0.0    124.1  158.5              11.3   \n",
       "604   339.0                 0.0      0.0  197.0               0.0   \n",
       "973   143.8               136.3    106.2  178.1               7.5   \n",
       "593   252.5                 0.0      0.0  185.7               0.0   \n",
       "..      ...                 ...      ...    ...               ...   \n",
       "87    286.3               200.9      0.0  144.7              11.2   \n",
       "330   246.8                 0.0    125.1  143.3              12.0   \n",
       "466   190.3                 0.0    125.2  166.6               9.9   \n",
       "121   475.0               118.8      0.0  181.1               8.9   \n",
       "860   314.0                 0.0    113.0  170.0              10.0   \n",
       "\n",
       "     Coarse Aggregate  Fine Aggregate  Age  \n",
       "900            1069.0           675.0   28  \n",
       "370            1078.7           794.9   14  \n",
       "604             968.0           781.0  365  \n",
       "973             941.5           774.3   28  \n",
       "593            1111.6           784.3    7  \n",
       "..                ...             ...  ...  \n",
       "87             1004.6           803.7    3  \n",
       "330            1086.8           800.9   14  \n",
       "466            1079.0           798.9  100  \n",
       "121             852.1           781.5   28  \n",
       "860             925.0           783.0   28  \n",
       "\n",
       "[690 rows x 8 columns]"
      ]
     },
     "execution_count": 35,
     "metadata": {},
     "output_type": "execute_result"
    }
   ],
   "source": [
    "X_train"
   ]
  },
  {
   "cell_type": "markdown",
   "metadata": {},
   "source": [
    "## Обучение модели (Train) - pipeline"
   ]
  },
  {
   "cell_type": "code",
   "execution_count": 36,
   "metadata": {},
   "outputs": [],
   "source": [
    "param_grid = {'model__max_depth': [5, 8, 11], \n",
    "              'model__n_estimators': [50, 100], \n",
    "              'model__criterion': [\"mse\", \"mae\"]}"
   ]
  },
  {
   "cell_type": "code",
   "execution_count": 37,
   "metadata": {},
   "outputs": [],
   "source": [
    "pipeline = Pipeline(steps = [\n",
    "#             ('fs', SelectKBest(score_func=f_regression, k=5)),\n",
    "            ('fs', SelectKBest(score_func=mutual_info_regression, k=6)),\n",
    "\n",
    "            ('model', RandomForestRegressor())\n",
    "        ])"
   ]
  },
  {
   "cell_type": "code",
   "execution_count": 38,
   "metadata": {},
   "outputs": [],
   "source": [
    "model_gs = GridSearchCV(pipeline, param_grid, scoring='neg_mean_squared_error', n_jobs=-1)"
   ]
  },
  {
   "cell_type": "code",
   "execution_count": 39,
   "metadata": {},
   "outputs": [
    {
     "data": {
      "text/plain": [
       "GridSearchCV(estimator=Pipeline(steps=[('fs',\n",
       "                                        SelectKBest(k=6,\n",
       "                                                    score_func=<function mutual_info_regression at 0x7fbbd9581940>)),\n",
       "                                       ('model', RandomForestRegressor())]),\n",
       "             n_jobs=-1,\n",
       "             param_grid={'model__criterion': ['mse', 'mae'],\n",
       "                         'model__max_depth': [5, 8, 11],\n",
       "                         'model__n_estimators': [50, 100]},\n",
       "             scoring='neg_mean_squared_error')"
      ]
     },
     "execution_count": 39,
     "metadata": {},
     "output_type": "execute_result"
    }
   ],
   "source": [
    "model_gs.fit(X_train, y_train)"
   ]
  },
  {
   "cell_type": "code",
   "execution_count": 40,
   "metadata": {},
   "outputs": [
    {
     "name": "stdout",
     "output_type": "stream",
     "text": [
      "best_params: {'model__criterion': 'mse', 'model__max_depth': 11, 'model__n_estimators': 50}\n",
      "best_score: -28.52\n",
      "\n"
     ]
    }
   ],
   "source": [
    "print(f\"best_params: {model_gs.best_params_}\")\n",
    "print(f\"best_score: {model_gs.best_score_:0.2f}\\n\")"
   ]
  },
  {
   "cell_type": "code",
   "execution_count": 41,
   "metadata": {},
   "outputs": [
    {
     "data": {
      "text/html": [
       "<div>\n",
       "<style scoped>\n",
       "    .dataframe tbody tr th:only-of-type {\n",
       "        vertical-align: middle;\n",
       "    }\n",
       "\n",
       "    .dataframe tbody tr th {\n",
       "        vertical-align: top;\n",
       "    }\n",
       "\n",
       "    .dataframe thead th {\n",
       "        text-align: right;\n",
       "    }\n",
       "</style>\n",
       "<table border=\"1\" class=\"dataframe\">\n",
       "  <thead>\n",
       "    <tr style=\"text-align: right;\">\n",
       "      <th></th>\n",
       "      <th>mean_fit_time</th>\n",
       "      <th>std_fit_time</th>\n",
       "      <th>mean_score_time</th>\n",
       "      <th>std_score_time</th>\n",
       "      <th>param_model__criterion</th>\n",
       "      <th>param_model__max_depth</th>\n",
       "      <th>param_model__n_estimators</th>\n",
       "      <th>params</th>\n",
       "      <th>split0_test_score</th>\n",
       "      <th>split1_test_score</th>\n",
       "      <th>split2_test_score</th>\n",
       "      <th>split3_test_score</th>\n",
       "      <th>split4_test_score</th>\n",
       "      <th>mean_test_score</th>\n",
       "      <th>std_test_score</th>\n",
       "      <th>rank_test_score</th>\n",
       "    </tr>\n",
       "  </thead>\n",
       "  <tbody>\n",
       "    <tr>\n",
       "      <th>0</th>\n",
       "      <td>0.129846</td>\n",
       "      <td>0.002660</td>\n",
       "      <td>0.007862</td>\n",
       "      <td>0.000539</td>\n",
       "      <td>mse</td>\n",
       "      <td>5</td>\n",
       "      <td>50</td>\n",
       "      <td>{'model__criterion': 'mse', 'model__max_depth'...</td>\n",
       "      <td>-49.725532</td>\n",
       "      <td>-43.137853</td>\n",
       "      <td>-55.492241</td>\n",
       "      <td>-47.050993</td>\n",
       "      <td>-40.710497</td>\n",
       "      <td>-47.223423</td>\n",
       "      <td>5.172499</td>\n",
       "      <td>10</td>\n",
       "    </tr>\n",
       "    <tr>\n",
       "      <th>1</th>\n",
       "      <td>0.233213</td>\n",
       "      <td>0.019528</td>\n",
       "      <td>0.015179</td>\n",
       "      <td>0.004470</td>\n",
       "      <td>mse</td>\n",
       "      <td>5</td>\n",
       "      <td>100</td>\n",
       "      <td>{'model__criterion': 'mse', 'model__max_depth'...</td>\n",
       "      <td>-49.980011</td>\n",
       "      <td>-41.297317</td>\n",
       "      <td>-55.334056</td>\n",
       "      <td>-46.501783</td>\n",
       "      <td>-40.731912</td>\n",
       "      <td>-46.769016</td>\n",
       "      <td>5.479561</td>\n",
       "      <td>9</td>\n",
       "    </tr>\n",
       "    <tr>\n",
       "      <th>2</th>\n",
       "      <td>0.221893</td>\n",
       "      <td>0.020980</td>\n",
       "      <td>0.011005</td>\n",
       "      <td>0.003194</td>\n",
       "      <td>mse</td>\n",
       "      <td>8</td>\n",
       "      <td>50</td>\n",
       "      <td>{'model__criterion': 'mse', 'model__max_depth'...</td>\n",
       "      <td>-34.152777</td>\n",
       "      <td>-28.063507</td>\n",
       "      <td>-39.094394</td>\n",
       "      <td>-28.901117</td>\n",
       "      <td>-30.056467</td>\n",
       "      <td>-32.053652</td>\n",
       "      <td>4.094554</td>\n",
       "      <td>6</td>\n",
       "    </tr>\n",
       "    <tr>\n",
       "      <th>3</th>\n",
       "      <td>0.300089</td>\n",
       "      <td>0.037474</td>\n",
       "      <td>0.017544</td>\n",
       "      <td>0.005856</td>\n",
       "      <td>mse</td>\n",
       "      <td>8</td>\n",
       "      <td>100</td>\n",
       "      <td>{'model__criterion': 'mse', 'model__max_depth'...</td>\n",
       "      <td>-34.726433</td>\n",
       "      <td>-28.723430</td>\n",
       "      <td>-39.836297</td>\n",
       "      <td>-27.967841</td>\n",
       "      <td>-26.720140</td>\n",
       "      <td>-31.594828</td>\n",
       "      <td>4.957647</td>\n",
       "      <td>5</td>\n",
       "    </tr>\n",
       "    <tr>\n",
       "      <th>4</th>\n",
       "      <td>0.176175</td>\n",
       "      <td>0.032185</td>\n",
       "      <td>0.009529</td>\n",
       "      <td>0.001391</td>\n",
       "      <td>mse</td>\n",
       "      <td>11</td>\n",
       "      <td>50</td>\n",
       "      <td>{'model__criterion': 'mse', 'model__max_depth'...</td>\n",
       "      <td>-31.179027</td>\n",
       "      <td>-26.538004</td>\n",
       "      <td>-35.259567</td>\n",
       "      <td>-25.007409</td>\n",
       "      <td>-24.614395</td>\n",
       "      <td>-28.519680</td>\n",
       "      <td>4.099086</td>\n",
       "      <td>1</td>\n",
       "    </tr>\n",
       "    <tr>\n",
       "      <th>5</th>\n",
       "      <td>0.344710</td>\n",
       "      <td>0.052088</td>\n",
       "      <td>0.021559</td>\n",
       "      <td>0.010707</td>\n",
       "      <td>mse</td>\n",
       "      <td>11</td>\n",
       "      <td>100</td>\n",
       "      <td>{'model__criterion': 'mse', 'model__max_depth'...</td>\n",
       "      <td>-32.863180</td>\n",
       "      <td>-26.723630</td>\n",
       "      <td>-35.990926</td>\n",
       "      <td>-24.836713</td>\n",
       "      <td>-23.560912</td>\n",
       "      <td>-28.795072</td>\n",
       "      <td>4.810109</td>\n",
       "      <td>2</td>\n",
       "    </tr>\n",
       "    <tr>\n",
       "      <th>6</th>\n",
       "      <td>0.511041</td>\n",
       "      <td>0.080093</td>\n",
       "      <td>0.013703</td>\n",
       "      <td>0.005926</td>\n",
       "      <td>mae</td>\n",
       "      <td>5</td>\n",
       "      <td>50</td>\n",
       "      <td>{'model__criterion': 'mae', 'model__max_depth'...</td>\n",
       "      <td>-51.755415</td>\n",
       "      <td>-42.013636</td>\n",
       "      <td>-53.991443</td>\n",
       "      <td>-50.710930</td>\n",
       "      <td>-48.052151</td>\n",
       "      <td>-49.304715</td>\n",
       "      <td>4.115278</td>\n",
       "      <td>11</td>\n",
       "    </tr>\n",
       "    <tr>\n",
       "      <th>7</th>\n",
       "      <td>1.264385</td>\n",
       "      <td>0.230313</td>\n",
       "      <td>0.025760</td>\n",
       "      <td>0.009308</td>\n",
       "      <td>mae</td>\n",
       "      <td>5</td>\n",
       "      <td>100</td>\n",
       "      <td>{'model__criterion': 'mae', 'model__max_depth'...</td>\n",
       "      <td>-52.673669</td>\n",
       "      <td>-44.478494</td>\n",
       "      <td>-56.436664</td>\n",
       "      <td>-51.616480</td>\n",
       "      <td>-48.793473</td>\n",
       "      <td>-50.799756</td>\n",
       "      <td>3.998421</td>\n",
       "      <td>12</td>\n",
       "    </tr>\n",
       "    <tr>\n",
       "      <th>8</th>\n",
       "      <td>0.623494</td>\n",
       "      <td>0.105486</td>\n",
       "      <td>0.009906</td>\n",
       "      <td>0.002105</td>\n",
       "      <td>mae</td>\n",
       "      <td>8</td>\n",
       "      <td>50</td>\n",
       "      <td>{'model__criterion': 'mae', 'model__max_depth'...</td>\n",
       "      <td>-39.285758</td>\n",
       "      <td>-29.356572</td>\n",
       "      <td>-40.066597</td>\n",
       "      <td>-32.922841</td>\n",
       "      <td>-31.045522</td>\n",
       "      <td>-34.535458</td>\n",
       "      <td>4.353387</td>\n",
       "      <td>8</td>\n",
       "    </tr>\n",
       "    <tr>\n",
       "      <th>9</th>\n",
       "      <td>1.057862</td>\n",
       "      <td>0.030869</td>\n",
       "      <td>0.015078</td>\n",
       "      <td>0.002449</td>\n",
       "      <td>mae</td>\n",
       "      <td>8</td>\n",
       "      <td>100</td>\n",
       "      <td>{'model__criterion': 'mae', 'model__max_depth'...</td>\n",
       "      <td>-37.794240</td>\n",
       "      <td>-29.820983</td>\n",
       "      <td>-39.687333</td>\n",
       "      <td>-30.489926</td>\n",
       "      <td>-29.026693</td>\n",
       "      <td>-33.363835</td>\n",
       "      <td>4.455044</td>\n",
       "      <td>7</td>\n",
       "    </tr>\n",
       "    <tr>\n",
       "      <th>10</th>\n",
       "      <td>0.638189</td>\n",
       "      <td>0.074969</td>\n",
       "      <td>0.008605</td>\n",
       "      <td>0.001076</td>\n",
       "      <td>mae</td>\n",
       "      <td>11</td>\n",
       "      <td>50</td>\n",
       "      <td>{'model__criterion': 'mae', 'model__max_depth'...</td>\n",
       "      <td>-34.033489</td>\n",
       "      <td>-29.204567</td>\n",
       "      <td>-36.720126</td>\n",
       "      <td>-29.245808</td>\n",
       "      <td>-25.689691</td>\n",
       "      <td>-30.978736</td>\n",
       "      <td>3.909470</td>\n",
       "      <td>4</td>\n",
       "    </tr>\n",
       "    <tr>\n",
       "      <th>11</th>\n",
       "      <td>1.115747</td>\n",
       "      <td>0.131935</td>\n",
       "      <td>0.013439</td>\n",
       "      <td>0.000895</td>\n",
       "      <td>mae</td>\n",
       "      <td>11</td>\n",
       "      <td>100</td>\n",
       "      <td>{'model__criterion': 'mae', 'model__max_depth'...</td>\n",
       "      <td>-34.356978</td>\n",
       "      <td>-30.730628</td>\n",
       "      <td>-36.737800</td>\n",
       "      <td>-26.010528</td>\n",
       "      <td>-24.931302</td>\n",
       "      <td>-30.553447</td>\n",
       "      <td>4.582381</td>\n",
       "      <td>3</td>\n",
       "    </tr>\n",
       "  </tbody>\n",
       "</table>\n",
       "</div>"
      ],
      "text/plain": [
       "    mean_fit_time  std_fit_time  mean_score_time  std_score_time  \\\n",
       "0        0.129846      0.002660         0.007862        0.000539   \n",
       "1        0.233213      0.019528         0.015179        0.004470   \n",
       "2        0.221893      0.020980         0.011005        0.003194   \n",
       "3        0.300089      0.037474         0.017544        0.005856   \n",
       "4        0.176175      0.032185         0.009529        0.001391   \n",
       "5        0.344710      0.052088         0.021559        0.010707   \n",
       "6        0.511041      0.080093         0.013703        0.005926   \n",
       "7        1.264385      0.230313         0.025760        0.009308   \n",
       "8        0.623494      0.105486         0.009906        0.002105   \n",
       "9        1.057862      0.030869         0.015078        0.002449   \n",
       "10       0.638189      0.074969         0.008605        0.001076   \n",
       "11       1.115747      0.131935         0.013439        0.000895   \n",
       "\n",
       "   param_model__criterion param_model__max_depth param_model__n_estimators  \\\n",
       "0                     mse                      5                        50   \n",
       "1                     mse                      5                       100   \n",
       "2                     mse                      8                        50   \n",
       "3                     mse                      8                       100   \n",
       "4                     mse                     11                        50   \n",
       "5                     mse                     11                       100   \n",
       "6                     mae                      5                        50   \n",
       "7                     mae                      5                       100   \n",
       "8                     mae                      8                        50   \n",
       "9                     mae                      8                       100   \n",
       "10                    mae                     11                        50   \n",
       "11                    mae                     11                       100   \n",
       "\n",
       "                                               params  split0_test_score  \\\n",
       "0   {'model__criterion': 'mse', 'model__max_depth'...         -49.725532   \n",
       "1   {'model__criterion': 'mse', 'model__max_depth'...         -49.980011   \n",
       "2   {'model__criterion': 'mse', 'model__max_depth'...         -34.152777   \n",
       "3   {'model__criterion': 'mse', 'model__max_depth'...         -34.726433   \n",
       "4   {'model__criterion': 'mse', 'model__max_depth'...         -31.179027   \n",
       "5   {'model__criterion': 'mse', 'model__max_depth'...         -32.863180   \n",
       "6   {'model__criterion': 'mae', 'model__max_depth'...         -51.755415   \n",
       "7   {'model__criterion': 'mae', 'model__max_depth'...         -52.673669   \n",
       "8   {'model__criterion': 'mae', 'model__max_depth'...         -39.285758   \n",
       "9   {'model__criterion': 'mae', 'model__max_depth'...         -37.794240   \n",
       "10  {'model__criterion': 'mae', 'model__max_depth'...         -34.033489   \n",
       "11  {'model__criterion': 'mae', 'model__max_depth'...         -34.356978   \n",
       "\n",
       "    split1_test_score  split2_test_score  split3_test_score  \\\n",
       "0          -43.137853         -55.492241         -47.050993   \n",
       "1          -41.297317         -55.334056         -46.501783   \n",
       "2          -28.063507         -39.094394         -28.901117   \n",
       "3          -28.723430         -39.836297         -27.967841   \n",
       "4          -26.538004         -35.259567         -25.007409   \n",
       "5          -26.723630         -35.990926         -24.836713   \n",
       "6          -42.013636         -53.991443         -50.710930   \n",
       "7          -44.478494         -56.436664         -51.616480   \n",
       "8          -29.356572         -40.066597         -32.922841   \n",
       "9          -29.820983         -39.687333         -30.489926   \n",
       "10         -29.204567         -36.720126         -29.245808   \n",
       "11         -30.730628         -36.737800         -26.010528   \n",
       "\n",
       "    split4_test_score  mean_test_score  std_test_score  rank_test_score  \n",
       "0          -40.710497       -47.223423        5.172499               10  \n",
       "1          -40.731912       -46.769016        5.479561                9  \n",
       "2          -30.056467       -32.053652        4.094554                6  \n",
       "3          -26.720140       -31.594828        4.957647                5  \n",
       "4          -24.614395       -28.519680        4.099086                1  \n",
       "5          -23.560912       -28.795072        4.810109                2  \n",
       "6          -48.052151       -49.304715        4.115278               11  \n",
       "7          -48.793473       -50.799756        3.998421               12  \n",
       "8          -31.045522       -34.535458        4.353387                8  \n",
       "9          -29.026693       -33.363835        4.455044                7  \n",
       "10         -25.689691       -30.978736        3.909470                4  \n",
       "11         -24.931302       -30.553447        4.582381                3  "
      ]
     },
     "execution_count": 41,
     "metadata": {},
     "output_type": "execute_result"
    }
   ],
   "source": [
    "pd.DataFrame(model_gs.cv_results_)"
   ]
  },
  {
   "cell_type": "markdown",
   "metadata": {},
   "source": [
    "## Оценка качества модели (Evaluation)"
   ]
  },
  {
   "cell_type": "code",
   "execution_count": 42,
   "metadata": {},
   "outputs": [],
   "source": [
    "# использовать обученную модель для предсказания на test выборке\n",
    "y_test_predicted = model_gs.predict(X_test)\n",
    "y_train_predicted = model_gs.predict(X_train)"
   ]
  },
  {
   "cell_type": "code",
   "execution_count": 43,
   "metadata": {},
   "outputs": [
    {
     "name": "stdout",
     "output_type": "stream",
     "text": [
      "R2 (train): 0.9811899704169965\n",
      "R2 (test): 0.8876002524205822\n",
      "MSE (train): 5.227820396493887\n",
      "MSE (test): 31.383757857520504\n"
     ]
    }
   ],
   "source": [
    "print(f'R2 (train): {r2_score(y_train, y_train_predicted)}')\n",
    "print(f'R2 (test): {r2_score(y_test, y_test_predicted)}')\n",
    "\n",
    "print(f\"MSE (train): {mean_squared_error(y_train, y_train_predicted, squared=True)}\")\n",
    "print(f\"MSE (test): {mean_squared_error(y_test, y_test_predicted, squared=True)}\")"
   ]
  }
 ],
 "metadata": {
  "kernelspec": {
   "display_name": "Python [conda env:LevelUp_DataScience] *",
   "language": "python",
   "name": "conda-env-LevelUp_DataScience-py"
  },
  "language_info": {
   "codemirror_mode": {
    "name": "ipython",
    "version": 3
   },
   "file_extension": ".py",
   "mimetype": "text/x-python",
   "name": "python",
   "nbconvert_exporter": "python",
   "pygments_lexer": "ipython3",
   "version": "3.8.3"
  }
 },
 "nbformat": 4,
 "nbformat_minor": 4
}
