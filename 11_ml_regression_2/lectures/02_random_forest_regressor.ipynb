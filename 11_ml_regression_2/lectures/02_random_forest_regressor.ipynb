{
 "cells": [
  {
   "cell_type": "markdown",
   "metadata": {},
   "source": [
    "# Random Forest Regressor"
   ]
  },
  {
   "cell_type": "markdown",
   "metadata": {},
   "source": [
    "---\n",
    "\n",
    "**Источники:**\n",
    "\n",
    "[sklearn.ensemble.RandomForestRegressor](https://scikit-learn.org/stable/modules/generated/sklearn.ensemble.RandomForestRegressor.html)\n",
    "\n",
    "[1.11.2. Forests of randomized trees](https://scikit-learn.org/stable/modules/ensemble.html#forest)\n",
    "\n",
    "\n",
    "[Random Forest Regression](https://medium.com/swlh/random-forest-and-its-implementation-71824ced454f)\n",
    "\n",
    "[Painless Random Forest Regression in Python – Step-by-Step with Sklearn](https://onestopdataanalysis.com/python-random-forest-regression/)\n",
    "\n",
    "[Random forest](https://ru.wikipedia.org/wiki/Random_forest)\n",
    "\n",
    "[Бэггинг](https://ru.wikipedia.org/wiki/%D0%91%D1%8D%D0%B3%D0%B3%D0%B8%D0%BD%D0%B3)\n",
    "\n",
    "[How to Visualize a Decision Tree from a Random Forest in Python using Scikit-Learn](https://towardsdatascience.com/how-to-visualize-a-decision-tree-from-a-random-forest-in-python-using-scikit-learn-38ad2d75f21c)\n",
    "\n",
    "---\n"
   ]
  },
  {
   "cell_type": "markdown",
   "metadata": {},
   "source": [
    "## Подготовка окружения"
   ]
  },
  {
   "cell_type": "code",
   "execution_count": 1,
   "metadata": {
    "collapsed": false,
    "jupyter": {
     "outputs_hidden": false
    },
    "pycharm": {
     "name": "#%%\n"
    }
   },
   "outputs": [],
   "source": [
    "# ВНИМАНИЕ: необходимо удостовериться, что виртуальная среда выбрана правильно!\n",
    "\n",
    "# Для MacOS/Ubuntu\n",
    "# !which pip\n",
    "\n",
    "# Для Windows\n",
    "# !where pip"
   ]
  },
  {
   "cell_type": "code",
   "execution_count": 2,
   "metadata": {
    "collapsed": false,
    "jupyter": {
     "outputs_hidden": false
    },
    "pycharm": {
     "name": "#%%\n"
    }
   },
   "outputs": [],
   "source": [
    "# !conda install matplotlib numpy scikit-learn seaborn -y"
   ]
  },
  {
   "cell_type": "code",
   "execution_count": 3,
   "metadata": {},
   "outputs": [],
   "source": [
    "# !conda install -c conda-forge shap -y"
   ]
  },
  {
   "cell_type": "code",
   "execution_count": 4,
   "metadata": {},
   "outputs": [
    {
     "data": {
      "text/plain": [
       "'1.6.2'"
      ]
     },
     "execution_count": 4,
     "metadata": {},
     "output_type": "execute_result"
    }
   ],
   "source": [
    "import scipy\n",
    "from scipy import stats\n",
    "\n",
    "scipy.__version__"
   ]
  },
  {
   "cell_type": "code",
   "execution_count": 5,
   "metadata": {
    "collapsed": false,
    "jupyter": {
     "outputs_hidden": false
    },
    "pycharm": {
     "name": "#%%\n"
    }
   },
   "outputs": [
    {
     "data": {
      "text/plain": [
       "'1.20.2'"
      ]
     },
     "execution_count": 5,
     "metadata": {},
     "output_type": "execute_result"
    }
   ],
   "source": [
    "import numpy as np\n",
    "\n",
    "np.__version__"
   ]
  },
  {
   "cell_type": "code",
   "execution_count": 6,
   "metadata": {
    "collapsed": false,
    "jupyter": {
     "outputs_hidden": false
    },
    "pycharm": {
     "name": "#%%\n"
    }
   },
   "outputs": [
    {
     "data": {
      "text/plain": [
       "'1.2.4'"
      ]
     },
     "execution_count": 6,
     "metadata": {},
     "output_type": "execute_result"
    }
   ],
   "source": [
    "import pandas as pd\n",
    "\n",
    "pd.__version__"
   ]
  },
  {
   "cell_type": "code",
   "execution_count": 7,
   "metadata": {
    "collapsed": false,
    "jupyter": {
     "outputs_hidden": false
    },
    "pycharm": {
     "name": "#%%\n"
    }
   },
   "outputs": [
    {
     "data": {
      "text/plain": [
       "'3.3.4'"
      ]
     },
     "execution_count": 7,
     "metadata": {},
     "output_type": "execute_result"
    }
   ],
   "source": [
    "import matplotlib\n",
    "import matplotlib.pyplot as plt\n",
    "\n",
    "matplotlib.__version__"
   ]
  },
  {
   "cell_type": "code",
   "execution_count": 8,
   "metadata": {
    "collapsed": false,
    "jupyter": {
     "outputs_hidden": false
    },
    "pycharm": {
     "name": "#%%\n"
    }
   },
   "outputs": [
    {
     "data": {
      "text/plain": [
       "'0.11.1'"
      ]
     },
     "execution_count": 8,
     "metadata": {},
     "output_type": "execute_result"
    }
   ],
   "source": [
    "import seaborn as sns\n",
    "\n",
    "sns.__version__"
   ]
  },
  {
   "cell_type": "code",
   "execution_count": 9,
   "metadata": {},
   "outputs": [
    {
     "data": {
      "text/plain": [
       "'0.39.0'"
      ]
     },
     "execution_count": 9,
     "metadata": {},
     "output_type": "execute_result"
    }
   ],
   "source": [
    "import shap\n",
    "\n",
    "shap.__version__"
   ]
  },
  {
   "cell_type": "code",
   "execution_count": 10,
   "metadata": {},
   "outputs": [],
   "source": [
    "from sklearn.feature_selection import SelectKBest, f_regression, mutual_info_regression\n",
    "from sklearn.pipeline import Pipeline\n",
    "from sklearn.model_selection import GridSearchCV\n",
    "\n",
    "from sklearn.metrics import r2_score\n",
    "from sklearn.metrics import mean_squared_error"
   ]
  },
  {
   "cell_type": "markdown",
   "metadata": {},
   "source": [
    "## Загрузка данных\n",
    "\n",
    "[Источник (Calculate Concrete Strength)](https://www.kaggle.com/prathamtripathi/regression-with-neural-networking)"
   ]
  },
  {
   "cell_type": "code",
   "execution_count": 11,
   "metadata": {
    "collapsed": false,
    "jupyter": {
     "outputs_hidden": false
    },
    "pycharm": {
     "name": "#%%\n"
    }
   },
   "outputs": [
    {
     "data": {
      "text/html": [
       "<div>\n",
       "<style scoped>\n",
       "    .dataframe tbody tr th:only-of-type {\n",
       "        vertical-align: middle;\n",
       "    }\n",
       "\n",
       "    .dataframe tbody tr th {\n",
       "        vertical-align: top;\n",
       "    }\n",
       "\n",
       "    .dataframe thead th {\n",
       "        text-align: right;\n",
       "    }\n",
       "</style>\n",
       "<table border=\"1\" class=\"dataframe\">\n",
       "  <thead>\n",
       "    <tr style=\"text-align: right;\">\n",
       "      <th></th>\n",
       "      <th>Cement</th>\n",
       "      <th>Blast Furnace Slag</th>\n",
       "      <th>Fly Ash</th>\n",
       "      <th>Water</th>\n",
       "      <th>Superplasticizer</th>\n",
       "      <th>Coarse Aggregate</th>\n",
       "      <th>Fine Aggregate</th>\n",
       "      <th>Age</th>\n",
       "      <th>Strength</th>\n",
       "    </tr>\n",
       "  </thead>\n",
       "  <tbody>\n",
       "    <tr>\n",
       "      <th>0</th>\n",
       "      <td>540.0</td>\n",
       "      <td>0.0</td>\n",
       "      <td>0.0</td>\n",
       "      <td>162.0</td>\n",
       "      <td>2.5</td>\n",
       "      <td>1040.0</td>\n",
       "      <td>676.0</td>\n",
       "      <td>28</td>\n",
       "      <td>79.99</td>\n",
       "    </tr>\n",
       "    <tr>\n",
       "      <th>1</th>\n",
       "      <td>540.0</td>\n",
       "      <td>0.0</td>\n",
       "      <td>0.0</td>\n",
       "      <td>162.0</td>\n",
       "      <td>2.5</td>\n",
       "      <td>1055.0</td>\n",
       "      <td>676.0</td>\n",
       "      <td>28</td>\n",
       "      <td>61.89</td>\n",
       "    </tr>\n",
       "    <tr>\n",
       "      <th>2</th>\n",
       "      <td>332.5</td>\n",
       "      <td>142.5</td>\n",
       "      <td>0.0</td>\n",
       "      <td>228.0</td>\n",
       "      <td>0.0</td>\n",
       "      <td>932.0</td>\n",
       "      <td>594.0</td>\n",
       "      <td>270</td>\n",
       "      <td>40.27</td>\n",
       "    </tr>\n",
       "    <tr>\n",
       "      <th>3</th>\n",
       "      <td>332.5</td>\n",
       "      <td>142.5</td>\n",
       "      <td>0.0</td>\n",
       "      <td>228.0</td>\n",
       "      <td>0.0</td>\n",
       "      <td>932.0</td>\n",
       "      <td>594.0</td>\n",
       "      <td>365</td>\n",
       "      <td>41.05</td>\n",
       "    </tr>\n",
       "    <tr>\n",
       "      <th>4</th>\n",
       "      <td>198.6</td>\n",
       "      <td>132.4</td>\n",
       "      <td>0.0</td>\n",
       "      <td>192.0</td>\n",
       "      <td>0.0</td>\n",
       "      <td>978.4</td>\n",
       "      <td>825.5</td>\n",
       "      <td>360</td>\n",
       "      <td>44.30</td>\n",
       "    </tr>\n",
       "    <tr>\n",
       "      <th>...</th>\n",
       "      <td>...</td>\n",
       "      <td>...</td>\n",
       "      <td>...</td>\n",
       "      <td>...</td>\n",
       "      <td>...</td>\n",
       "      <td>...</td>\n",
       "      <td>...</td>\n",
       "      <td>...</td>\n",
       "      <td>...</td>\n",
       "    </tr>\n",
       "    <tr>\n",
       "      <th>1025</th>\n",
       "      <td>276.4</td>\n",
       "      <td>116.0</td>\n",
       "      <td>90.3</td>\n",
       "      <td>179.6</td>\n",
       "      <td>8.9</td>\n",
       "      <td>870.1</td>\n",
       "      <td>768.3</td>\n",
       "      <td>28</td>\n",
       "      <td>44.28</td>\n",
       "    </tr>\n",
       "    <tr>\n",
       "      <th>1026</th>\n",
       "      <td>322.2</td>\n",
       "      <td>0.0</td>\n",
       "      <td>115.6</td>\n",
       "      <td>196.0</td>\n",
       "      <td>10.4</td>\n",
       "      <td>817.9</td>\n",
       "      <td>813.4</td>\n",
       "      <td>28</td>\n",
       "      <td>31.18</td>\n",
       "    </tr>\n",
       "    <tr>\n",
       "      <th>1027</th>\n",
       "      <td>148.5</td>\n",
       "      <td>139.4</td>\n",
       "      <td>108.6</td>\n",
       "      <td>192.7</td>\n",
       "      <td>6.1</td>\n",
       "      <td>892.4</td>\n",
       "      <td>780.0</td>\n",
       "      <td>28</td>\n",
       "      <td>23.70</td>\n",
       "    </tr>\n",
       "    <tr>\n",
       "      <th>1028</th>\n",
       "      <td>159.1</td>\n",
       "      <td>186.7</td>\n",
       "      <td>0.0</td>\n",
       "      <td>175.6</td>\n",
       "      <td>11.3</td>\n",
       "      <td>989.6</td>\n",
       "      <td>788.9</td>\n",
       "      <td>28</td>\n",
       "      <td>32.77</td>\n",
       "    </tr>\n",
       "    <tr>\n",
       "      <th>1029</th>\n",
       "      <td>260.9</td>\n",
       "      <td>100.5</td>\n",
       "      <td>78.3</td>\n",
       "      <td>200.6</td>\n",
       "      <td>8.6</td>\n",
       "      <td>864.5</td>\n",
       "      <td>761.5</td>\n",
       "      <td>28</td>\n",
       "      <td>32.40</td>\n",
       "    </tr>\n",
       "  </tbody>\n",
       "</table>\n",
       "<p>1030 rows × 9 columns</p>\n",
       "</div>"
      ],
      "text/plain": [
       "      Cement  Blast Furnace Slag  Fly Ash  Water  Superplasticizer  \\\n",
       "0      540.0                 0.0      0.0  162.0               2.5   \n",
       "1      540.0                 0.0      0.0  162.0               2.5   \n",
       "2      332.5               142.5      0.0  228.0               0.0   \n",
       "3      332.5               142.5      0.0  228.0               0.0   \n",
       "4      198.6               132.4      0.0  192.0               0.0   \n",
       "...      ...                 ...      ...    ...               ...   \n",
       "1025   276.4               116.0     90.3  179.6               8.9   \n",
       "1026   322.2                 0.0    115.6  196.0              10.4   \n",
       "1027   148.5               139.4    108.6  192.7               6.1   \n",
       "1028   159.1               186.7      0.0  175.6              11.3   \n",
       "1029   260.9               100.5     78.3  200.6               8.6   \n",
       "\n",
       "      Coarse Aggregate  Fine Aggregate  Age  Strength  \n",
       "0               1040.0           676.0   28     79.99  \n",
       "1               1055.0           676.0   28     61.89  \n",
       "2                932.0           594.0  270     40.27  \n",
       "3                932.0           594.0  365     41.05  \n",
       "4                978.4           825.5  360     44.30  \n",
       "...                ...             ...  ...       ...  \n",
       "1025             870.1           768.3   28     44.28  \n",
       "1026             817.9           813.4   28     31.18  \n",
       "1027             892.4           780.0   28     23.70  \n",
       "1028             989.6           788.9   28     32.77  \n",
       "1029             864.5           761.5   28     32.40  \n",
       "\n",
       "[1030 rows x 9 columns]"
      ]
     },
     "execution_count": 11,
     "metadata": {},
     "output_type": "execute_result"
    }
   ],
   "source": [
    "df = pd.read_csv(\"./../../data/concrete_data.csv\")\n",
    "df"
   ]
  },
  {
   "cell_type": "markdown",
   "metadata": {},
   "source": [
    "## Разделение данных на `X` и `y`"
   ]
  },
  {
   "cell_type": "code",
   "execution_count": 12,
   "metadata": {},
   "outputs": [],
   "source": [
    "target = 'Strength'"
   ]
  },
  {
   "cell_type": "code",
   "execution_count": 13,
   "metadata": {
    "collapsed": false,
    "jupyter": {
     "outputs_hidden": false
    },
    "pycharm": {
     "name": "#%%\n"
    }
   },
   "outputs": [],
   "source": [
    "from sklearn.model_selection import train_test_split\n",
    "\n",
    "y = df[target].copy()\n",
    "X = df.drop(columns=[target]).copy()\n",
    "\n",
    "X_train, X_test, y_train, y_test = train_test_split(X, y, test_size=0.33, random_state=42)"
   ]
  },
  {
   "cell_type": "code",
   "execution_count": 14,
   "metadata": {},
   "outputs": [
    {
     "data": {
      "text/html": [
       "<div>\n",
       "<style scoped>\n",
       "    .dataframe tbody tr th:only-of-type {\n",
       "        vertical-align: middle;\n",
       "    }\n",
       "\n",
       "    .dataframe tbody tr th {\n",
       "        vertical-align: top;\n",
       "    }\n",
       "\n",
       "    .dataframe thead th {\n",
       "        text-align: right;\n",
       "    }\n",
       "</style>\n",
       "<table border=\"1\" class=\"dataframe\">\n",
       "  <thead>\n",
       "    <tr style=\"text-align: right;\">\n",
       "      <th></th>\n",
       "      <th>Cement</th>\n",
       "      <th>Blast Furnace Slag</th>\n",
       "      <th>Fly Ash</th>\n",
       "      <th>Water</th>\n",
       "      <th>Superplasticizer</th>\n",
       "      <th>Coarse Aggregate</th>\n",
       "      <th>Fine Aggregate</th>\n",
       "      <th>Age</th>\n",
       "    </tr>\n",
       "  </thead>\n",
       "  <tbody>\n",
       "    <tr>\n",
       "      <th>0</th>\n",
       "      <td>540.0</td>\n",
       "      <td>0.0</td>\n",
       "      <td>0.0</td>\n",
       "      <td>162.0</td>\n",
       "      <td>2.5</td>\n",
       "      <td>1040.0</td>\n",
       "      <td>676.0</td>\n",
       "      <td>28</td>\n",
       "    </tr>\n",
       "    <tr>\n",
       "      <th>1</th>\n",
       "      <td>540.0</td>\n",
       "      <td>0.0</td>\n",
       "      <td>0.0</td>\n",
       "      <td>162.0</td>\n",
       "      <td>2.5</td>\n",
       "      <td>1055.0</td>\n",
       "      <td>676.0</td>\n",
       "      <td>28</td>\n",
       "    </tr>\n",
       "    <tr>\n",
       "      <th>2</th>\n",
       "      <td>332.5</td>\n",
       "      <td>142.5</td>\n",
       "      <td>0.0</td>\n",
       "      <td>228.0</td>\n",
       "      <td>0.0</td>\n",
       "      <td>932.0</td>\n",
       "      <td>594.0</td>\n",
       "      <td>270</td>\n",
       "    </tr>\n",
       "    <tr>\n",
       "      <th>3</th>\n",
       "      <td>332.5</td>\n",
       "      <td>142.5</td>\n",
       "      <td>0.0</td>\n",
       "      <td>228.0</td>\n",
       "      <td>0.0</td>\n",
       "      <td>932.0</td>\n",
       "      <td>594.0</td>\n",
       "      <td>365</td>\n",
       "    </tr>\n",
       "    <tr>\n",
       "      <th>4</th>\n",
       "      <td>198.6</td>\n",
       "      <td>132.4</td>\n",
       "      <td>0.0</td>\n",
       "      <td>192.0</td>\n",
       "      <td>0.0</td>\n",
       "      <td>978.4</td>\n",
       "      <td>825.5</td>\n",
       "      <td>360</td>\n",
       "    </tr>\n",
       "    <tr>\n",
       "      <th>...</th>\n",
       "      <td>...</td>\n",
       "      <td>...</td>\n",
       "      <td>...</td>\n",
       "      <td>...</td>\n",
       "      <td>...</td>\n",
       "      <td>...</td>\n",
       "      <td>...</td>\n",
       "      <td>...</td>\n",
       "    </tr>\n",
       "    <tr>\n",
       "      <th>1025</th>\n",
       "      <td>276.4</td>\n",
       "      <td>116.0</td>\n",
       "      <td>90.3</td>\n",
       "      <td>179.6</td>\n",
       "      <td>8.9</td>\n",
       "      <td>870.1</td>\n",
       "      <td>768.3</td>\n",
       "      <td>28</td>\n",
       "    </tr>\n",
       "    <tr>\n",
       "      <th>1026</th>\n",
       "      <td>322.2</td>\n",
       "      <td>0.0</td>\n",
       "      <td>115.6</td>\n",
       "      <td>196.0</td>\n",
       "      <td>10.4</td>\n",
       "      <td>817.9</td>\n",
       "      <td>813.4</td>\n",
       "      <td>28</td>\n",
       "    </tr>\n",
       "    <tr>\n",
       "      <th>1027</th>\n",
       "      <td>148.5</td>\n",
       "      <td>139.4</td>\n",
       "      <td>108.6</td>\n",
       "      <td>192.7</td>\n",
       "      <td>6.1</td>\n",
       "      <td>892.4</td>\n",
       "      <td>780.0</td>\n",
       "      <td>28</td>\n",
       "    </tr>\n",
       "    <tr>\n",
       "      <th>1028</th>\n",
       "      <td>159.1</td>\n",
       "      <td>186.7</td>\n",
       "      <td>0.0</td>\n",
       "      <td>175.6</td>\n",
       "      <td>11.3</td>\n",
       "      <td>989.6</td>\n",
       "      <td>788.9</td>\n",
       "      <td>28</td>\n",
       "    </tr>\n",
       "    <tr>\n",
       "      <th>1029</th>\n",
       "      <td>260.9</td>\n",
       "      <td>100.5</td>\n",
       "      <td>78.3</td>\n",
       "      <td>200.6</td>\n",
       "      <td>8.6</td>\n",
       "      <td>864.5</td>\n",
       "      <td>761.5</td>\n",
       "      <td>28</td>\n",
       "    </tr>\n",
       "  </tbody>\n",
       "</table>\n",
       "<p>1030 rows × 8 columns</p>\n",
       "</div>"
      ],
      "text/plain": [
       "      Cement  Blast Furnace Slag  Fly Ash  Water  Superplasticizer  \\\n",
       "0      540.0                 0.0      0.0  162.0               2.5   \n",
       "1      540.0                 0.0      0.0  162.0               2.5   \n",
       "2      332.5               142.5      0.0  228.0               0.0   \n",
       "3      332.5               142.5      0.0  228.0               0.0   \n",
       "4      198.6               132.4      0.0  192.0               0.0   \n",
       "...      ...                 ...      ...    ...               ...   \n",
       "1025   276.4               116.0     90.3  179.6               8.9   \n",
       "1026   322.2                 0.0    115.6  196.0              10.4   \n",
       "1027   148.5               139.4    108.6  192.7               6.1   \n",
       "1028   159.1               186.7      0.0  175.6              11.3   \n",
       "1029   260.9               100.5     78.3  200.6               8.6   \n",
       "\n",
       "      Coarse Aggregate  Fine Aggregate  Age  \n",
       "0               1040.0           676.0   28  \n",
       "1               1055.0           676.0   28  \n",
       "2                932.0           594.0  270  \n",
       "3                932.0           594.0  365  \n",
       "4                978.4           825.5  360  \n",
       "...                ...             ...  ...  \n",
       "1025             870.1           768.3   28  \n",
       "1026             817.9           813.4   28  \n",
       "1027             892.4           780.0   28  \n",
       "1028             989.6           788.9   28  \n",
       "1029             864.5           761.5   28  \n",
       "\n",
       "[1030 rows x 8 columns]"
      ]
     },
     "execution_count": 14,
     "metadata": {},
     "output_type": "execute_result"
    }
   ],
   "source": [
    "X"
   ]
  },
  {
   "cell_type": "code",
   "execution_count": 15,
   "metadata": {},
   "outputs": [
    {
     "data": {
      "text/plain": [
       "0       79.99\n",
       "1       61.89\n",
       "2       40.27\n",
       "3       41.05\n",
       "4       44.30\n",
       "        ...  \n",
       "1025    44.28\n",
       "1026    31.18\n",
       "1027    23.70\n",
       "1028    32.77\n",
       "1029    32.40\n",
       "Name: Strength, Length: 1030, dtype: float64"
      ]
     },
     "execution_count": 15,
     "metadata": {},
     "output_type": "execute_result"
    }
   ],
   "source": [
    "y"
   ]
  },
  {
   "cell_type": "markdown",
   "metadata": {},
   "source": [
    "## Random Forest (Случайный лес) Regressor\n",
    "\n",
    "[sklearn.ensemble.RandomForestRegressor](https://scikit-learn.org/stable/modules/generated/sklearn.ensemble.RandomForestRegressor.html)\n",
    "\n",
    "Основная идея заключается в использовании большого **ансамбля решающих деревьев (decision tree)**, каждое из которых само по себе даёт очень невысокое качество, но за счёт их большого количества результат получается хорошим.\n",
    "\n",
    "Алгоритм применяется для задач **классификации, регрессии и кластеризации**.\n",
    "\n",
    "**Достоинства:**\n",
    "- Способность эффективно обрабатывать данные с большим числом признаков и классов.\n",
    "- Нечувствительность к масштабированию (и вообще к любым монотонным преобразованиям) значений признаков.\n",
    "- Одинаково хорошо обрабатываются как непрерывные, так и дискретные признаки. Существуют методы построения деревьев по данным с пропущенными значениями признаков.\n",
    "- Существуют методы оценивания значимости отдельных признаков в модели.\n",
    "- Внутренняя оценка способности модели к обобщению (тест по неотобранным образцам out-of-bag).\n",
    "- Высокая параллелизуемость и масштабируемость.\n",
    "\n",
    "**Недостатки:**\n",
    "- Большой размер получающихся моделей. Требуется $O(K)$ памяти для хранения модели, где $K$ — число деревьев."
   ]
  },
  {
   "cell_type": "markdown",
   "metadata": {},
   "source": [
    "<center><img src=\"images/random_forest.png\"/></center>\n",
    "\n",
    "---"
   ]
  },
  {
   "cell_type": "markdown",
   "metadata": {},
   "source": [
    "<center><img src=\"images/random_forest_2.png\"/></center>"
   ]
  },
  {
   "cell_type": "markdown",
   "metadata": {},
   "source": [
    "<center><img src=\"images/random_forest_regression_line.png\"/></center>"
   ]
  },
  {
   "cell_type": "markdown",
   "metadata": {},
   "source": [
    "## Анализ и обработка выбросов"
   ]
  },
  {
   "cell_type": "code",
   "execution_count": 16,
   "metadata": {},
   "outputs": [],
   "source": [
    "def remove_outliers_iqr(data, col_name):\n",
    "    print(f\"column name: {col_name}\\n\")\n",
    "    Q1 = data[col_name].quantile(0.25)\n",
    "    Q3 = data[col_name].quantile(0.75)\n",
    "    IQR = Q3 - Q1\n",
    "    lower_fence = Q1 - 1.5 * IQR\n",
    "    upper_fence = Q3 + 1.5 * IQR\n",
    "    data_new = data[~((data[col_name] < lower_fence) |\n",
    "                      (data[col_name] > upper_fence))]\n",
    "    \n",
    "    diff_len = len(data) - len(data_new)\n",
    "    print(f\"removed: {diff_len}\")\n",
    "    \n",
    "    _, axs = plt.subplots(1, 2, figsize=(10, 2))\n",
    "    sns.boxplot(data=data_new[col_name], ax=axs[0])\n",
    "    sns.histplot(data=data_new[col_name], ax=axs[1])\n",
    "    \n",
    "    return data_new.reset_index(drop=True)"
   ]
  },
  {
   "cell_type": "markdown",
   "metadata": {},
   "source": [
    "## Анализ числовых признаков"
   ]
  },
  {
   "cell_type": "code",
   "execution_count": 17,
   "metadata": {},
   "outputs": [
    {
     "data": {
      "image/png": "[encoded data removed]",
      "text/plain": [
       "<Figure size 1440x1296 with 18 Axes>"
      ]
     },
     "metadata": {
      "needs_background": "light"
     },
     "output_type": "display_data"
    }
   ],
   "source": [
    "num_cols = df.select_dtypes(include=np.number).columns.to_list()\n",
    "fig, axs = plt.subplots(len(num_cols), 2, figsize=(20, 2 * len(num_cols)))\n",
    "\n",
    "for index, column_name in enumerate(num_cols):\n",
    "    sns.boxplot(x=df[column_name], ax=axs[index][0])\n",
    "    axs[index][0].get_lines()[4].set_color('yellow')\n",
    "    \n",
    "    sns.histplot(x=df[column_name], kde=True, ax=axs[index][1])\n",
    "    axs[index][1].get_lines()[0].set_color('lime')\n",
    "    \n",
    "fig.tight_layout(pad=1.0)"
   ]
  },
  {
   "cell_type": "markdown",
   "metadata": {},
   "source": [
    "## Анализ корреляций"
   ]
  },
  {
   "cell_type": "code",
   "execution_count": 18,
   "metadata": {},
   "outputs": [
    {
     "data": {
      "text/html": [
       "<div>\n",
       "<style scoped>\n",
       "    .dataframe tbody tr th:only-of-type {\n",
       "        vertical-align: middle;\n",
       "    }\n",
       "\n",
       "    .dataframe tbody tr th {\n",
       "        vertical-align: top;\n",
       "    }\n",
       "\n",
       "    .dataframe thead th {\n",
       "        text-align: right;\n",
       "    }\n",
       "</style>\n",
       "<table border=\"1\" class=\"dataframe\">\n",
       "  <thead>\n",
       "    <tr style=\"text-align: right;\">\n",
       "      <th></th>\n",
       "      <th>Cement</th>\n",
       "      <th>Blast Furnace Slag</th>\n",
       "      <th>Fly Ash</th>\n",
       "      <th>Water</th>\n",
       "      <th>Superplasticizer</th>\n",
       "      <th>Coarse Aggregate</th>\n",
       "      <th>Fine Aggregate</th>\n",
       "      <th>Age</th>\n",
       "    </tr>\n",
       "  </thead>\n",
       "  <tbody>\n",
       "    <tr>\n",
       "      <th>Cement</th>\n",
       "      <td>1.000000</td>\n",
       "      <td>-0.245167</td>\n",
       "      <td>-0.418320</td>\n",
       "      <td>-0.094437</td>\n",
       "      <td>0.037919</td>\n",
       "      <td>-0.144880</td>\n",
       "      <td>-0.173596</td>\n",
       "      <td>0.004640</td>\n",
       "    </tr>\n",
       "    <tr>\n",
       "      <th>Blast Furnace Slag</th>\n",
       "      <td>-0.245167</td>\n",
       "      <td>1.000000</td>\n",
       "      <td>-0.253551</td>\n",
       "      <td>0.053360</td>\n",
       "      <td>0.098137</td>\n",
       "      <td>-0.348898</td>\n",
       "      <td>-0.302278</td>\n",
       "      <td>-0.017581</td>\n",
       "    </tr>\n",
       "    <tr>\n",
       "      <th>Fly Ash</th>\n",
       "      <td>-0.418320</td>\n",
       "      <td>-0.253551</td>\n",
       "      <td>1.000000</td>\n",
       "      <td>-0.283150</td>\n",
       "      <td>0.454091</td>\n",
       "      <td>0.058366</td>\n",
       "      <td>0.051307</td>\n",
       "      <td>0.002801</td>\n",
       "    </tr>\n",
       "    <tr>\n",
       "      <th>Water</th>\n",
       "      <td>-0.094437</td>\n",
       "      <td>0.053360</td>\n",
       "      <td>-0.283150</td>\n",
       "      <td>1.000000</td>\n",
       "      <td>-0.686923</td>\n",
       "      <td>-0.218487</td>\n",
       "      <td>-0.345614</td>\n",
       "      <td>0.090942</td>\n",
       "    </tr>\n",
       "    <tr>\n",
       "      <th>Superplasticizer</th>\n",
       "      <td>0.037919</td>\n",
       "      <td>0.098137</td>\n",
       "      <td>0.454091</td>\n",
       "      <td>-0.686923</td>\n",
       "      <td>1.000000</td>\n",
       "      <td>-0.198802</td>\n",
       "      <td>0.168313</td>\n",
       "      <td>-0.009525</td>\n",
       "    </tr>\n",
       "    <tr>\n",
       "      <th>Coarse Aggregate</th>\n",
       "      <td>-0.144880</td>\n",
       "      <td>-0.348898</td>\n",
       "      <td>0.058366</td>\n",
       "      <td>-0.218487</td>\n",
       "      <td>-0.198802</td>\n",
       "      <td>1.000000</td>\n",
       "      <td>-0.100480</td>\n",
       "      <td>-0.044928</td>\n",
       "    </tr>\n",
       "    <tr>\n",
       "      <th>Fine Aggregate</th>\n",
       "      <td>-0.173596</td>\n",
       "      <td>-0.302278</td>\n",
       "      <td>0.051307</td>\n",
       "      <td>-0.345614</td>\n",
       "      <td>0.168313</td>\n",
       "      <td>-0.100480</td>\n",
       "      <td>1.000000</td>\n",
       "      <td>-0.057362</td>\n",
       "    </tr>\n",
       "    <tr>\n",
       "      <th>Age</th>\n",
       "      <td>0.004640</td>\n",
       "      <td>-0.017581</td>\n",
       "      <td>0.002801</td>\n",
       "      <td>0.090942</td>\n",
       "      <td>-0.009525</td>\n",
       "      <td>-0.044928</td>\n",
       "      <td>-0.057362</td>\n",
       "      <td>1.000000</td>\n",
       "    </tr>\n",
       "  </tbody>\n",
       "</table>\n",
       "</div>"
      ],
      "text/plain": [
       "                      Cement  Blast Furnace Slag   Fly Ash     Water  \\\n",
       "Cement              1.000000           -0.245167 -0.418320 -0.094437   \n",
       "Blast Furnace Slag -0.245167            1.000000 -0.253551  0.053360   \n",
       "Fly Ash            -0.418320           -0.253551  1.000000 -0.283150   \n",
       "Water              -0.094437            0.053360 -0.283150  1.000000   \n",
       "Superplasticizer    0.037919            0.098137  0.454091 -0.686923   \n",
       "Coarse Aggregate   -0.144880           -0.348898  0.058366 -0.218487   \n",
       "Fine Aggregate     -0.173596           -0.302278  0.051307 -0.345614   \n",
       "Age                 0.004640           -0.017581  0.002801  0.090942   \n",
       "\n",
       "                    Superplasticizer  Coarse Aggregate  Fine Aggregate  \\\n",
       "Cement                      0.037919         -0.144880       -0.173596   \n",
       "Blast Furnace Slag          0.098137         -0.348898       -0.302278   \n",
       "Fly Ash                     0.454091          0.058366        0.051307   \n",
       "Water                      -0.686923         -0.218487       -0.345614   \n",
       "Superplasticizer            1.000000         -0.198802        0.168313   \n",
       "Coarse Aggregate           -0.198802          1.000000       -0.100480   \n",
       "Fine Aggregate              0.168313         -0.100480        1.000000   \n",
       "Age                        -0.009525         -0.044928       -0.057362   \n",
       "\n",
       "                         Age  \n",
       "Cement              0.004640  \n",
       "Blast Furnace Slag -0.017581  \n",
       "Fly Ash             0.002801  \n",
       "Water               0.090942  \n",
       "Superplasticizer   -0.009525  \n",
       "Coarse Aggregate   -0.044928  \n",
       "Fine Aggregate     -0.057362  \n",
       "Age                 1.000000  "
      ]
     },
     "execution_count": 18,
     "metadata": {},
     "output_type": "execute_result"
    }
   ],
   "source": [
    "corr = X.corr(method='spearman')\n",
    "corr"
   ]
  },
  {
   "cell_type": "code",
   "execution_count": 19,
   "metadata": {},
   "outputs": [
    {
     "data": {
      "text/plain": [
       "<AxesSubplot:>"
      ]
     },
     "execution_count": 19,
     "metadata": {},
     "output_type": "execute_result"
    },
    {
     "data": {
      "image/png": "[encoded data removed]",
      "text/plain": [
       "<Figure size 504x504 with 2 Axes>"
      ]
     },
     "metadata": {
      "needs_background": "light"
     },
     "output_type": "display_data"
    }
   ],
   "source": [
    "plt.figure(figsize=(7, 7))\n",
    "\n",
    "sns.heatmap(corr, \n",
    "            square=True,\n",
    "            annot=True,\n",
    "            fmt='.2f',\n",
    "            cmap='PRGn',\n",
    "            cbar_kws={\"shrink\": .5},\n",
    "            annot_kws={\"size\": 12},\n",
    "            robust=True,\n",
    "            vmin=-1, \n",
    "            vmax=1)"
   ]
  },
  {
   "cell_type": "markdown",
   "metadata": {},
   "source": [
    "## Анализ отсутствующих значений"
   ]
  },
  {
   "cell_type": "code",
   "execution_count": 20,
   "metadata": {},
   "outputs": [
    {
     "data": {
      "text/plain": [
       "Cement                0\n",
       "Blast Furnace Slag    0\n",
       "Fly Ash               0\n",
       "Water                 0\n",
       "Superplasticizer      0\n",
       "Coarse Aggregate      0\n",
       "Fine Aggregate        0\n",
       "Age                   0\n",
       "dtype: int64"
      ]
     },
     "execution_count": 20,
     "metadata": {},
     "output_type": "execute_result"
    }
   ],
   "source": [
    "X.isna().sum()"
   ]
  },
  {
   "cell_type": "code",
   "execution_count": 21,
   "metadata": {},
   "outputs": [
    {
     "data": {
      "text/plain": [
       "0"
      ]
     },
     "execution_count": 21,
     "metadata": {},
     "output_type": "execute_result"
    }
   ],
   "source": [
    "y.isna().sum()"
   ]
  },
  {
   "cell_type": "markdown",
   "metadata": {},
   "source": [
    "Выводы: Отсутствующих значений нет."
   ]
  },
  {
   "cell_type": "markdown",
   "metadata": {},
   "source": [
    "## Важные параметры [sklearn.ensemble.RandomForestRegressor](https://scikit-learn.org/stable/modules/generated/sklearn.ensemble.RandomForestRegressor.html)\n",
    "\n",
    "- `n_estimators: int, default=100`\n",
    "    - Количество деревьев в лесу.\n",
    "    \n",
    "    \n",
    "- `criterion: {\"mse\", \"mae\"}, default=\"mse\"`\n",
    "    - Функция измерения качества разделения.\n",
    "    - Поддерживаемые критерии: `\"mse\"` для среднеквадратичной ошибки, которая равна уменьшению дисперсии в качестве критерия выбора признаков, и `\"mae\"` для средней абсолютной ошибки.\n",
    "    \n",
    "    \n",
    "- `max_depth: int, default=None`\n",
    "    - Максимальная глубина дерева.\n",
    "    - Если `None`, то узлы расширяются до тех пор, пока все листья не станут чистыми или пока все листья не будут содержать менее `min_samples_split` выборок.\n",
    "    \n",
    "   \n",
    "- `min_samples_split: int или float, default=2`\n",
    "    - Минимальное количество выборок, необходимое для разделения внутреннего узла:\n",
    "        - Если `int`, то считает `min_samples_split` минимальным числом.\n",
    "        - Если `float`, то `min_samples_split` - это дробь, а `ceil(min_samples_split * n_samples)` - минимальное количество выборок для каждого разделения.\n",
    "        \n",
    "        \n",
    "- `min_samples_leaf: int or float, default=1`\n",
    "    - Минимальное количество выборок, которое требуется для конечного узла.\n",
    "    - Точка разделения на любой глубине будет учитываться только в том случае, если она оставляет не менее `min_samples_leaf` обучающих выборок в каждой из левой и правой ветвей. Это может иметь эффект сглаживания модели, особенно при регрессии.\n",
    "    - Если `int`, то считает `min_samples_leaf` минимальным числом.\n",
    "    - Если `float`, то `min_samples_leaf` - дробная часть, а `ceil(min_samples_leaf * n_samples)` - минимальное количество выборок для каждого узла.\n",
    "    \n",
    "    \n",
    "- `min_weight_fraction_leaf: float, default=0.0`\n",
    "\n",
    "\n",
    "- `max_features: {\"auto\", \"sqrt\", \"log2\"}, int or float, default=\"auto\"`\n",
    "\n",
    "\n",
    "- `max_leaf_nodes: int, default=None`\n",
    "    - Выращиевает деревья с `max_leaf_nodes` способом \"лучший первый\" (best-first).\n",
    "    - Лучшие узлы определяются как относительное уменьшение \"загрязнения\" (impurity).\n",
    "    - Если `None`, то неограниченное количество конечных узлов."
   ]
  },
  {
   "cell_type": "markdown",
   "metadata": {},
   "source": [
    "## Обучение модели (Train) - manual"
   ]
  },
  {
   "cell_type": "code",
   "execution_count": 55,
   "metadata": {},
   "outputs": [
    {
     "data": {
      "text/plain": [
       "RandomForestRegressor(max_depth=5, n_estimators=10)"
      ]
     },
     "execution_count": 55,
     "metadata": {},
     "output_type": "execute_result"
    }
   ],
   "source": [
    "# импортировать пакет RandomForestRegressor\n",
    "from sklearn.ensemble import RandomForestRegressor\n",
    "\n",
    "# создать объект RandomForestRegressor\n",
    "model = RandomForestRegressor(n_estimators=10, \n",
    "                              max_depth=5)\n",
    "\n",
    "# обучить модель\n",
    "model.fit(X_train, y_train)"
   ]
  },
  {
   "cell_type": "markdown",
   "metadata": {},
   "source": [
    "## Оценка качества модели (Evaluation)"
   ]
  },
  {
   "cell_type": "code",
   "execution_count": 56,
   "metadata": {},
   "outputs": [],
   "source": [
    "# использовать обученную модель для предсказания на test выборке\n",
    "y_test_predicted = model.predict(X_test)\n",
    "y_train_predicted = model.predict(X_train)"
   ]
  },
  {
   "cell_type": "code",
   "execution_count": 57,
   "metadata": {},
   "outputs": [
    {
     "name": "stdout",
     "output_type": "stream",
     "text": [
      "R2 (train): 0.8768529336868508\n",
      "R2 (test): 0.8077305530896304\n",
      "MSE (train): 34.22592942767022\n",
      "MSE (test): 53.6846202521133\n"
     ]
    }
   ],
   "source": [
    "print(f'R2 (train): {r2_score(y_train, y_train_predicted)}')\n",
    "print(f'R2 (test): {r2_score(y_test, y_test_predicted)}')\n",
    "\n",
    "print(f\"MSE (train): {mean_squared_error(y_train, y_train_predicted, squared=True)}\")\n",
    "print(f\"MSE (test): {mean_squared_error(y_test, y_test_predicted, squared=True)}\")"
   ]
  },
  {
   "cell_type": "markdown",
   "metadata": {},
   "source": [
    "Для визуализации необходимо установить [`Graphviz`](https://graphviz.gitlab.io/download/)."
   ]
  },
  {
   "cell_type": "code",
   "execution_count": 58,
   "metadata": {},
   "outputs": [],
   "source": [
    "from sklearn.tree import export_graphviz\n",
    "import os\n",
    "\n",
    "for i, est in enumerate(model.estimators_):\n",
    "    export_graphviz(est,\n",
    "                    out_file=f'tmp/rf_tree_{i}.dot', \n",
    "                    feature_names = X_train.columns.to_list(),\n",
    "                    class_names = y_train.name,\n",
    "                    rounded = True, \n",
    "                    proportion = False, \n",
    "                    precision = 2,\n",
    "                    special_characters=True,\n",
    "                    filled = True)\n",
    "    os.system(f'dot -Tpng tmp/rf_tree_{i}.dot -o tmp/rf_tree_{i}.png')"
   ]
  },
  {
   "cell_type": "markdown",
   "metadata": {},
   "source": [
    "## Важность признаков"
   ]
  },
  {
   "cell_type": "markdown",
   "metadata": {},
   "source": [
    "### Важность признаков на основе среднего уменьшения примесей (mean decrease in impurity)\n",
    "\n",
    "Важность признаков обеспечивается соответствующим атрибутом `feature_importances_`, и они вычисляются как среднее значение и стандартное отклонение накопления уменьшения примесей в каждом дереве.\n",
    "\n",
    "**ВНИМАНИЕ:** Важность признаков на основе примесей может вводить в заблуждение для **признаков с высокой мощностью** (много уникальных значений)."
   ]
  },
  {
   "cell_type": "code",
   "execution_count": 59,
   "metadata": {},
   "outputs": [
    {
     "data": {
      "text/plain": [
       "Index(['Cement', 'Blast Furnace Slag', 'Fly Ash', 'Water', 'Superplasticizer',\n",
       "       'Coarse Aggregate', 'Fine Aggregate', 'Age'],\n",
       "      dtype='object')"
      ]
     },
     "execution_count": 59,
     "metadata": {},
     "output_type": "execute_result"
    }
   ],
   "source": [
    "feature_names = X_train.columns\n",
    "feature_names"
   ]
  },
  {
   "cell_type": "code",
   "execution_count": 60,
   "metadata": {},
   "outputs": [
    {
     "data": {
      "text/plain": [
       "array([0.30232402, 0.05422526, 0.0138919 , 0.1324214 , 0.05686557,\n",
       "       0.01245784, 0.02442391, 0.4033901 ])"
      ]
     },
     "execution_count": 60,
     "metadata": {},
     "output_type": "execute_result"
    }
   ],
   "source": [
    "importances = model.feature_importances_\n",
    "importances"
   ]
  },
  {
   "cell_type": "code",
   "execution_count": 61,
   "metadata": {},
   "outputs": [
    {
     "data": {
      "text/plain": [
       "array([0.07051901, 0.02378199, 0.01249596, 0.05204887, 0.04432422,\n",
       "       0.00898124, 0.01297711, 0.04624333])"
      ]
     },
     "execution_count": 61,
     "metadata": {},
     "output_type": "execute_result"
    }
   ],
   "source": [
    "std = np.std([tree.feature_importances_ for tree in model.estimators_], \n",
    "             axis=0)\n",
    "\n",
    "std"
   ]
  },
  {
   "cell_type": "code",
   "execution_count": 62,
   "metadata": {},
   "outputs": [
    {
     "data": {
      "image/png": "[encoded data removed]",
      "text/plain": [
       "<Figure size 432x288 with 1 Axes>"
      ]
     },
     "metadata": {
      "needs_background": "light"
     },
     "output_type": "display_data"
    }
   ],
   "source": [
    "forest_importances = pd.Series(importances, index=feature_names)\n",
    "\n",
    "fig, ax = plt.subplots()\n",
    "forest_importances.plot.bar(yerr=std, ax=ax)\n",
    "ax.set_title(\"Feature importances using MDI\")\n",
    "ax.set_ylabel(\"Mean decrease in impurity\")\n",
    "fig.tight_layout()"
   ]
  },
  {
   "cell_type": "markdown",
   "metadata": {},
   "source": [
    "### Важность признаков на основе перестановки признаков (feature permutation)\n",
    "\n",
    "Такой подход преодолевает ограничения важности признака на основе примесей: признаки не имеют предвзятости в сторону признаков с высокой мощностью и могут быть вычислены на оставленном наборе тестов.\n",
    "\n",
    "[sklearn.inspection.permutation_importance](https://scikit-learn.org/stable/modules/generated/sklearn.inspection.permutation_importance.html)\n",
    "\n",
    "Вычисление важности полной перестановки **более затратно: признаки перемешиваются `n` раз**, и модель перестраивается, чтобы оценить их важность.\n",
    "\n",
    "При использовании обоих методов одни и те же признаки определяются как наиболее важные. Хотя относительные значения различаются."
   ]
  },
  {
   "cell_type": "code",
   "execution_count": 63,
   "metadata": {},
   "outputs": [
    {
     "data": {
      "text/plain": [
       "{'importances_mean': array([0.42149043, 0.0802779 , 0.00439027, 0.15659877, 0.06449313,\n",
       "        0.00506027, 0.02340295, 0.70758987]),\n",
       " 'importances_std': array([0.02446132, 0.00865165, 0.00265365, 0.01561587, 0.0078925 ,\n",
       "        0.0015204 , 0.00219909, 0.0367346 ]),\n",
       " 'importances': array([[ 4.09442384e-01,  4.21517819e-01,  3.90525394e-01,\n",
       "          4.27788367e-01,  4.59539955e-01,  4.20445846e-01,\n",
       "          4.54086077e-01,  3.93124961e-01,  3.91706446e-01,\n",
       "          4.46727092e-01],\n",
       "        [ 7.80940189e-02,  9.56876943e-02,  7.24372118e-02,\n",
       "          7.83448562e-02,  8.83950886e-02,  7.74971110e-02,\n",
       "          8.92413274e-02,  6.42505973e-02,  8.32063165e-02,\n",
       "          7.56248216e-02],\n",
       "        [ 4.36307342e-03,  2.37423490e-03,  4.42023415e-03,\n",
       "         -5.30663841e-05,  6.59313777e-03,  3.77352062e-03,\n",
       "          9.74544088e-03,  4.94849157e-03,  1.43538026e-03,\n",
       "          6.30222585e-03],\n",
       "        [ 1.91307311e-01,  1.73154378e-01,  1.61531358e-01,\n",
       "          1.34363851e-01,  1.47178128e-01,  1.58330049e-01,\n",
       "          1.47800055e-01,  1.60927179e-01,  1.48481215e-01,\n",
       "          1.42914187e-01],\n",
       "        [ 5.51122355e-02,  7.05301878e-02,  5.63329570e-02,\n",
       "          6.83155475e-02,  7.05542534e-02,  7.51098372e-02,\n",
       "          5.92108686e-02,  6.73852659e-02,  7.14304537e-02,\n",
       "          5.09497104e-02],\n",
       "        [ 7.15351846e-03,  6.27422613e-03,  3.73647585e-03,\n",
       "          4.59463645e-03,  5.89081870e-03,  3.05316911e-03,\n",
       "          5.01673085e-03,  4.97502282e-03,  2.65826262e-03,\n",
       "          7.24986524e-03],\n",
       "        [ 2.08412856e-02,  2.67937625e-02,  2.58106806e-02,\n",
       "          2.12139525e-02,  2.42995043e-02,  2.10312078e-02,\n",
       "          2.29080174e-02,  2.08038651e-02,  2.49607623e-02,\n",
       "          2.53664417e-02],\n",
       "        [ 6.91849957e-01,  6.61583146e-01,  7.16609364e-01,\n",
       "          7.62043304e-01,  6.91361850e-01,  7.22587650e-01,\n",
       "          6.92203959e-01,  6.44005356e-01,  7.57696988e-01,\n",
       "          7.35957080e-01]])}"
      ]
     },
     "execution_count": 63,
     "metadata": {},
     "output_type": "execute_result"
    }
   ],
   "source": [
    "from sklearn.inspection import permutation_importance\n",
    "\n",
    "result = permutation_importance(model, X_test, y_test, n_repeats=10)\n",
    "\n",
    "result"
   ]
  },
  {
   "cell_type": "code",
   "execution_count": 64,
   "metadata": {},
   "outputs": [
    {
     "data": {
      "image/png": "[encoded data removed]",
      "text/plain": [
       "<Figure size 432x288 with 1 Axes>"
      ]
     },
     "metadata": {
      "needs_background": "light"
     },
     "output_type": "display_data"
    }
   ],
   "source": [
    "fig, ax = plt.subplots()\n",
    "forest_importances.plot.bar(yerr=result.importances_std, ax=ax)\n",
    "ax.set_title(\"Feature importances using permutation on full model\")\n",
    "ax.set_ylabel(\"Mean accuracy decrease\")\n",
    "fig.tight_layout()"
   ]
  },
  {
   "cell_type": "markdown",
   "metadata": {},
   "source": [
    "### [SHAP](https://github.com/slundberg/shap)"
   ]
  },
  {
   "cell_type": "code",
   "execution_count": 68,
   "metadata": {},
   "outputs": [],
   "source": [
    "explainer = shap.TreeExplainer(model)\n",
    "shap_values = explainer(X_train)"
   ]
  },
  {
   "cell_type": "code",
   "execution_count": 75,
   "metadata": {},
   "outputs": [
    {
     "data": {
      "text/html": [
       "<div>\n",
       "<style scoped>\n",
       "    .dataframe tbody tr th:only-of-type {\n",
       "        vertical-align: middle;\n",
       "    }\n",
       "\n",
       "    .dataframe tbody tr th {\n",
       "        vertical-align: top;\n",
       "    }\n",
       "\n",
       "    .dataframe thead th {\n",
       "        text-align: right;\n",
       "    }\n",
       "</style>\n",
       "<table border=\"1\" class=\"dataframe\">\n",
       "  <thead>\n",
       "    <tr style=\"text-align: right;\">\n",
       "      <th></th>\n",
       "      <th>Cement</th>\n",
       "      <th>Blast Furnace Slag</th>\n",
       "      <th>Fly Ash</th>\n",
       "      <th>Water</th>\n",
       "      <th>Superplasticizer</th>\n",
       "      <th>Coarse Aggregate</th>\n",
       "      <th>Fine Aggregate</th>\n",
       "      <th>Age</th>\n",
       "    </tr>\n",
       "  </thead>\n",
       "  <tbody>\n",
       "    <tr>\n",
       "      <th>370</th>\n",
       "      <td>218.9</td>\n",
       "      <td>0.0</td>\n",
       "      <td>124.1</td>\n",
       "      <td>158.5</td>\n",
       "      <td>11.3</td>\n",
       "      <td>1078.7</td>\n",
       "      <td>794.9</td>\n",
       "      <td>14</td>\n",
       "    </tr>\n",
       "  </tbody>\n",
       "</table>\n",
       "</div>"
      ],
      "text/plain": [
       "     Cement  Blast Furnace Slag  Fly Ash  Water  Superplasticizer  \\\n",
       "370   218.9                 0.0    124.1  158.5              11.3   \n",
       "\n",
       "     Coarse Aggregate  Fine Aggregate  Age  \n",
       "370            1078.7           794.9   14  "
      ]
     },
     "execution_count": 75,
     "metadata": {},
     "output_type": "execute_result"
    }
   ],
   "source": [
    "choosen_instance = X_train.iloc[[1]]\n",
    "choosen_instance"
   ]
  },
  {
   "cell_type": "code",
   "execution_count": 85,
   "metadata": {},
   "outputs": [
    {
     "ename": "AssertionError",
     "evalue": "Feature and SHAP matrices must have the same number of rows!",
     "output_type": "error",
     "traceback": [
      "\u001B[0;31m---------------------------------------------------------------------------\u001B[0m",
      "\u001B[0;31mAssertionError\u001B[0m                            Traceback (most recent call last)",
      "\u001B[0;32m<ipython-input-85-9452d1529973>\u001B[0m in \u001B[0;36m<module>\u001B[0;34m\u001B[0m\n\u001B[0;32m----> 1\u001B[0;31m \u001B[0mshap\u001B[0m\u001B[0;34m.\u001B[0m\u001B[0msummary_plot\u001B[0m\u001B[0;34m(\u001B[0m\u001B[0mshap_values\u001B[0m\u001B[0;34m,\u001B[0m \u001B[0mX_train\u001B[0m\u001B[0;34m)\u001B[0m\u001B[0;34m\u001B[0m\u001B[0;34m\u001B[0m\u001B[0m\n\u001B[0m",
      "\u001B[0;32m~/anaconda3/envs/LevelUp_DataScience/lib/python3.8/site-packages/shap/plots/_beeswarm.py\u001B[0m in \u001B[0;36msummary_legacy\u001B[0;34m(shap_values, features, feature_names, max_display, plot_type, color, axis_color, title, alpha, show, sort, color_bar, plot_size, layered_violin_max_num_bins, class_names, class_inds, color_bar_label, cmap, auto_size_plot, use_log_scale)\u001B[0m\n\u001B[1;32m    657\u001B[0m                     \u001B[0mvmin\u001B[0m \u001B[0;34m=\u001B[0m \u001B[0mvmax\u001B[0m\u001B[0;34m\u001B[0m\u001B[0;34m\u001B[0m\u001B[0m\n\u001B[1;32m    658\u001B[0m \u001B[0;34m\u001B[0m\u001B[0m\n\u001B[0;32m--> 659\u001B[0;31m                 \u001B[0;32massert\u001B[0m \u001B[0mfeatures\u001B[0m\u001B[0;34m.\u001B[0m\u001B[0mshape\u001B[0m\u001B[0;34m[\u001B[0m\u001B[0;36m0\u001B[0m\u001B[0;34m]\u001B[0m \u001B[0;34m==\u001B[0m \u001B[0mlen\u001B[0m\u001B[0;34m(\u001B[0m\u001B[0mshaps\u001B[0m\u001B[0;34m)\u001B[0m\u001B[0;34m,\u001B[0m \u001B[0;34m\"Feature and SHAP matrices must have the same number of rows!\"\u001B[0m\u001B[0;34m\u001B[0m\u001B[0;34m\u001B[0m\u001B[0m\n\u001B[0m\u001B[1;32m    660\u001B[0m \u001B[0;34m\u001B[0m\u001B[0m\n\u001B[1;32m    661\u001B[0m                 \u001B[0;31m# plot the nan values in the interaction feature as grey\u001B[0m\u001B[0;34m\u001B[0m\u001B[0;34m\u001B[0m\u001B[0;34m\u001B[0m\u001B[0m\n",
      "\u001B[0;31mAssertionError\u001B[0m: Feature and SHAP matrices must have the same number of rows!"
     ]
    },
    {
     "data": {
      "image/png": "[encoded data removed]",
      "text/plain": [
       "<Figure size 576x338.4 with 1 Axes>"
      ]
     },
     "metadata": {
      "needs_background": "light"
     },
     "output_type": "display_data"
    }
   ],
   "source": [
    "shap.summary_plot(shap_values, X_train)"
   ]
  },
  {
   "cell_type": "code",
   "execution_count": 76,
   "metadata": {},
   "outputs": [],
   "source": [
    "shap_values = explainer.shap_values(choosen_instance)"
   ]
  },
  {
   "cell_type": "code",
   "execution_count": 82,
   "metadata": {},
   "outputs": [
    {
     "data": {
      "text/html": [
       "\n",
       "<div id='iOH4XQPB8B3H26Y37681I'>\n",
       "<div style='color: #900; text-align: center;'>\n",
       "  <b>Visualization omitted, Javascript library not loaded!</b><br>\n",
       "  Have you run `initjs()` in this notebook? If this notebook was from another\n",
       "  user you must also trust this notebook (File -> Trust notebook). If you are viewing\n",
       "  this notebook on github the Javascript has been stripped for security. If you are using\n",
       "  JupyterLab this error is because a JupyterLab extension has not yet been written.\n",
       "</div></div>\n",
       " <script>\n",
       "   if (window.SHAP) SHAP.ReactDom.render(\n",
       "    SHAP.React.createElement(SHAP.AdditiveForceVisualizer, {\"outNames\": [\"f(x)\"], \"baseValue\": 36.207573913043475, \"outValue\": 27.870526823521914, \"link\": \"identity\", \"featureNames\": [\"Cement\", \"Blast Furnace Slag\", \"Fly Ash\", \"Water\", \"Superplasticizer\", \"Coarse Aggregate\", \"Fine Aggregate\", \"Age\"], \"features\": {\"0\": {\"effect\": -3.854364348007418, \"value\": 218.9}, \"1\": {\"effect\": -2.806073491624673, \"value\": 0.0}, \"2\": {\"effect\": -0.018770241571086227, \"value\": 124.1}, \"3\": {\"effect\": 2.8040920386277084, \"value\": 158.5}, \"4\": {\"effect\": 3.2467126557086514, \"value\": 11.3}, \"5\": {\"effect\": -0.24580450429830364, \"value\": 1078.7}, \"6\": {\"effect\": -0.7536942469862764, \"value\": 794.9}, \"7\": {\"effect\": -6.709144951370166, \"value\": 14.0}}, \"plot_cmap\": \"RdBu\", \"labelMargin\": 20}),\n",
       "    document.getElementById('iOH4XQPB8B3H26Y37681I')\n",
       "  );\n",
       "</script>"
      ],
      "text/plain": [
       "<shap.plots._force.AdditiveForceVisualizer at 0x7f953c760fa0>"
      ]
     },
     "execution_count": 82,
     "metadata": {},
     "output_type": "execute_result"
    }
   ],
   "source": [
    "shap.force_plot(explainer.expected_value[0], shap_values[0], choosen_instance)"
   ]
  },
  {
   "cell_type": "markdown",
   "metadata": {},
   "source": [
    "## Feature Selection"
   ]
  },
  {
   "cell_type": "code",
   "execution_count": 32,
   "metadata": {},
   "outputs": [],
   "source": [
    "selector = SelectKBest(score_func=mutual_info_regression, k=6).fit(X_train, y_train)"
   ]
  },
  {
   "cell_type": "code",
   "execution_count": 33,
   "metadata": {},
   "outputs": [
    {
     "data": {
      "text/plain": [
       "array([[ 150. ,  237. ,  174. ,   12. , 1069. ,   28. ],\n",
       "       [ 218.9,    0. ,  158.5,   11.3, 1078.7,   14. ],\n",
       "       [ 339. ,    0. ,  197. ,    0. ,  968. ,  365. ],\n",
       "       ...,\n",
       "       [ 190.3,    0. ,  166.6,    9.9, 1079. ,  100. ],\n",
       "       [ 475. ,  118.8,  181.1,    8.9,  852.1,   28. ],\n",
       "       [ 314. ,    0. ,  170. ,   10. ,  925. ,   28. ]])"
      ]
     },
     "execution_count": 33,
     "metadata": {},
     "output_type": "execute_result"
    }
   ],
   "source": [
    "X_train_new = selector.transform(X_train)\n",
    "X_train_new"
   ]
  },
  {
   "cell_type": "code",
   "execution_count": 34,
   "metadata": {},
   "outputs": [
    {
     "data": {
      "text/html": [
       "<div>\n",
       "<style scoped>\n",
       "    .dataframe tbody tr th:only-of-type {\n",
       "        vertical-align: middle;\n",
       "    }\n",
       "\n",
       "    .dataframe tbody tr th {\n",
       "        vertical-align: top;\n",
       "    }\n",
       "\n",
       "    .dataframe thead th {\n",
       "        text-align: right;\n",
       "    }\n",
       "</style>\n",
       "<table border=\"1\" class=\"dataframe\">\n",
       "  <thead>\n",
       "    <tr style=\"text-align: right;\">\n",
       "      <th></th>\n",
       "      <th>score</th>\n",
       "    </tr>\n",
       "  </thead>\n",
       "  <tbody>\n",
       "    <tr>\n",
       "      <th>Water</th>\n",
       "      <td>0.325142</td>\n",
       "    </tr>\n",
       "    <tr>\n",
       "      <th>Age</th>\n",
       "      <td>0.304922</td>\n",
       "    </tr>\n",
       "    <tr>\n",
       "      <th>Cement</th>\n",
       "      <td>0.225776</td>\n",
       "    </tr>\n",
       "    <tr>\n",
       "      <th>Blast Furnace Slag</th>\n",
       "      <td>0.192978</td>\n",
       "    </tr>\n",
       "    <tr>\n",
       "      <th>Superplasticizer</th>\n",
       "      <td>0.172760</td>\n",
       "    </tr>\n",
       "    <tr>\n",
       "      <th>Coarse Aggregate</th>\n",
       "      <td>0.162619</td>\n",
       "    </tr>\n",
       "    <tr>\n",
       "      <th>Fine Aggregate</th>\n",
       "      <td>0.150519</td>\n",
       "    </tr>\n",
       "    <tr>\n",
       "      <th>Fly Ash</th>\n",
       "      <td>0.041072</td>\n",
       "    </tr>\n",
       "  </tbody>\n",
       "</table>\n",
       "</div>"
      ],
      "text/plain": [
       "                       score\n",
       "Water               0.325142\n",
       "Age                 0.304922\n",
       "Cement              0.225776\n",
       "Blast Furnace Slag  0.192978\n",
       "Superplasticizer    0.172760\n",
       "Coarse Aggregate    0.162619\n",
       "Fine Aggregate      0.150519\n",
       "Fly Ash             0.041072"
      ]
     },
     "execution_count": 34,
     "metadata": {},
     "output_type": "execute_result"
    }
   ],
   "source": [
    "feat_scores = pd.DataFrame({'score': selector.scores_}, index=X_train.columns).sort_values(by='score', \n",
    "                                                                    ascending=False)\n",
    "feat_scores"
   ]
  },
  {
   "cell_type": "code",
   "execution_count": 35,
   "metadata": {},
   "outputs": [
    {
     "data": {
      "text/plain": [
       "<AxesSubplot:>"
      ]
     },
     "execution_count": 35,
     "metadata": {},
     "output_type": "execute_result"
    },
    {
     "data": {
      "image/png": "[encoded data removed]",
      "text/plain": [
       "<Figure size 432x288 with 2 Axes>"
      ]
     },
     "metadata": {
      "needs_background": "light"
     },
     "output_type": "display_data"
    }
   ],
   "source": [
    "sns.heatmap(feat_scores, annot=True, \n",
    "            annot_kws={\"size\": 13}, \n",
    "            fmt=\"1.2f\", \n",
    "            cmap='Greens')"
   ]
  },
  {
   "cell_type": "code",
   "execution_count": 36,
   "metadata": {},
   "outputs": [
    {
     "data": {
      "text/html": [
       "<div>\n",
       "<style scoped>\n",
       "    .dataframe tbody tr th:only-of-type {\n",
       "        vertical-align: middle;\n",
       "    }\n",
       "\n",
       "    .dataframe tbody tr th {\n",
       "        vertical-align: top;\n",
       "    }\n",
       "\n",
       "    .dataframe thead th {\n",
       "        text-align: right;\n",
       "    }\n",
       "</style>\n",
       "<table border=\"1\" class=\"dataframe\">\n",
       "  <thead>\n",
       "    <tr style=\"text-align: right;\">\n",
       "      <th></th>\n",
       "      <th>0</th>\n",
       "      <th>1</th>\n",
       "      <th>2</th>\n",
       "      <th>3</th>\n",
       "      <th>4</th>\n",
       "      <th>5</th>\n",
       "    </tr>\n",
       "  </thead>\n",
       "  <tbody>\n",
       "    <tr>\n",
       "      <th>0</th>\n",
       "      <td>150.0</td>\n",
       "      <td>237.0</td>\n",
       "      <td>174.0</td>\n",
       "      <td>12.0</td>\n",
       "      <td>1069.0</td>\n",
       "      <td>28.0</td>\n",
       "    </tr>\n",
       "    <tr>\n",
       "      <th>1</th>\n",
       "      <td>218.9</td>\n",
       "      <td>0.0</td>\n",
       "      <td>158.5</td>\n",
       "      <td>11.3</td>\n",
       "      <td>1078.7</td>\n",
       "      <td>14.0</td>\n",
       "    </tr>\n",
       "    <tr>\n",
       "      <th>2</th>\n",
       "      <td>339.0</td>\n",
       "      <td>0.0</td>\n",
       "      <td>197.0</td>\n",
       "      <td>0.0</td>\n",
       "      <td>968.0</td>\n",
       "      <td>365.0</td>\n",
       "    </tr>\n",
       "    <tr>\n",
       "      <th>3</th>\n",
       "      <td>143.8</td>\n",
       "      <td>136.3</td>\n",
       "      <td>178.1</td>\n",
       "      <td>7.5</td>\n",
       "      <td>941.5</td>\n",
       "      <td>28.0</td>\n",
       "    </tr>\n",
       "    <tr>\n",
       "      <th>4</th>\n",
       "      <td>252.5</td>\n",
       "      <td>0.0</td>\n",
       "      <td>185.7</td>\n",
       "      <td>0.0</td>\n",
       "      <td>1111.6</td>\n",
       "      <td>7.0</td>\n",
       "    </tr>\n",
       "    <tr>\n",
       "      <th>...</th>\n",
       "      <td>...</td>\n",
       "      <td>...</td>\n",
       "      <td>...</td>\n",
       "      <td>...</td>\n",
       "      <td>...</td>\n",
       "      <td>...</td>\n",
       "    </tr>\n",
       "    <tr>\n",
       "      <th>685</th>\n",
       "      <td>286.3</td>\n",
       "      <td>200.9</td>\n",
       "      <td>144.7</td>\n",
       "      <td>11.2</td>\n",
       "      <td>1004.6</td>\n",
       "      <td>3.0</td>\n",
       "    </tr>\n",
       "    <tr>\n",
       "      <th>686</th>\n",
       "      <td>246.8</td>\n",
       "      <td>0.0</td>\n",
       "      <td>143.3</td>\n",
       "      <td>12.0</td>\n",
       "      <td>1086.8</td>\n",
       "      <td>14.0</td>\n",
       "    </tr>\n",
       "    <tr>\n",
       "      <th>687</th>\n",
       "      <td>190.3</td>\n",
       "      <td>0.0</td>\n",
       "      <td>166.6</td>\n",
       "      <td>9.9</td>\n",
       "      <td>1079.0</td>\n",
       "      <td>100.0</td>\n",
       "    </tr>\n",
       "    <tr>\n",
       "      <th>688</th>\n",
       "      <td>475.0</td>\n",
       "      <td>118.8</td>\n",
       "      <td>181.1</td>\n",
       "      <td>8.9</td>\n",
       "      <td>852.1</td>\n",
       "      <td>28.0</td>\n",
       "    </tr>\n",
       "    <tr>\n",
       "      <th>689</th>\n",
       "      <td>314.0</td>\n",
       "      <td>0.0</td>\n",
       "      <td>170.0</td>\n",
       "      <td>10.0</td>\n",
       "      <td>925.0</td>\n",
       "      <td>28.0</td>\n",
       "    </tr>\n",
       "  </tbody>\n",
       "</table>\n",
       "<p>690 rows × 6 columns</p>\n",
       "</div>"
      ],
      "text/plain": [
       "         0      1      2     3       4      5\n",
       "0    150.0  237.0  174.0  12.0  1069.0   28.0\n",
       "1    218.9    0.0  158.5  11.3  1078.7   14.0\n",
       "2    339.0    0.0  197.0   0.0   968.0  365.0\n",
       "3    143.8  136.3  178.1   7.5   941.5   28.0\n",
       "4    252.5    0.0  185.7   0.0  1111.6    7.0\n",
       "..     ...    ...    ...   ...     ...    ...\n",
       "685  286.3  200.9  144.7  11.2  1004.6    3.0\n",
       "686  246.8    0.0  143.3  12.0  1086.8   14.0\n",
       "687  190.3    0.0  166.6   9.9  1079.0  100.0\n",
       "688  475.0  118.8  181.1   8.9   852.1   28.0\n",
       "689  314.0    0.0  170.0  10.0   925.0   28.0\n",
       "\n",
       "[690 rows x 6 columns]"
      ]
     },
     "execution_count": 36,
     "metadata": {},
     "output_type": "execute_result"
    }
   ],
   "source": [
    "pd.DataFrame(X_train_new)"
   ]
  },
  {
   "cell_type": "code",
   "execution_count": 37,
   "metadata": {},
   "outputs": [
    {
     "data": {
      "text/html": [
       "<div>\n",
       "<style scoped>\n",
       "    .dataframe tbody tr th:only-of-type {\n",
       "        vertical-align: middle;\n",
       "    }\n",
       "\n",
       "    .dataframe tbody tr th {\n",
       "        vertical-align: top;\n",
       "    }\n",
       "\n",
       "    .dataframe thead th {\n",
       "        text-align: right;\n",
       "    }\n",
       "</style>\n",
       "<table border=\"1\" class=\"dataframe\">\n",
       "  <thead>\n",
       "    <tr style=\"text-align: right;\">\n",
       "      <th></th>\n",
       "      <th>Cement</th>\n",
       "      <th>Blast Furnace Slag</th>\n",
       "      <th>Fly Ash</th>\n",
       "      <th>Water</th>\n",
       "      <th>Superplasticizer</th>\n",
       "      <th>Coarse Aggregate</th>\n",
       "      <th>Fine Aggregate</th>\n",
       "      <th>Age</th>\n",
       "    </tr>\n",
       "  </thead>\n",
       "  <tbody>\n",
       "    <tr>\n",
       "      <th>900</th>\n",
       "      <td>150.0</td>\n",
       "      <td>237.0</td>\n",
       "      <td>0.0</td>\n",
       "      <td>174.0</td>\n",
       "      <td>12.0</td>\n",
       "      <td>1069.0</td>\n",
       "      <td>675.0</td>\n",
       "      <td>28</td>\n",
       "    </tr>\n",
       "    <tr>\n",
       "      <th>370</th>\n",
       "      <td>218.9</td>\n",
       "      <td>0.0</td>\n",
       "      <td>124.1</td>\n",
       "      <td>158.5</td>\n",
       "      <td>11.3</td>\n",
       "      <td>1078.7</td>\n",
       "      <td>794.9</td>\n",
       "      <td>14</td>\n",
       "    </tr>\n",
       "    <tr>\n",
       "      <th>604</th>\n",
       "      <td>339.0</td>\n",
       "      <td>0.0</td>\n",
       "      <td>0.0</td>\n",
       "      <td>197.0</td>\n",
       "      <td>0.0</td>\n",
       "      <td>968.0</td>\n",
       "      <td>781.0</td>\n",
       "      <td>365</td>\n",
       "    </tr>\n",
       "    <tr>\n",
       "      <th>973</th>\n",
       "      <td>143.8</td>\n",
       "      <td>136.3</td>\n",
       "      <td>106.2</td>\n",
       "      <td>178.1</td>\n",
       "      <td>7.5</td>\n",
       "      <td>941.5</td>\n",
       "      <td>774.3</td>\n",
       "      <td>28</td>\n",
       "    </tr>\n",
       "    <tr>\n",
       "      <th>593</th>\n",
       "      <td>252.5</td>\n",
       "      <td>0.0</td>\n",
       "      <td>0.0</td>\n",
       "      <td>185.7</td>\n",
       "      <td>0.0</td>\n",
       "      <td>1111.6</td>\n",
       "      <td>784.3</td>\n",
       "      <td>7</td>\n",
       "    </tr>\n",
       "    <tr>\n",
       "      <th>...</th>\n",
       "      <td>...</td>\n",
       "      <td>...</td>\n",
       "      <td>...</td>\n",
       "      <td>...</td>\n",
       "      <td>...</td>\n",
       "      <td>...</td>\n",
       "      <td>...</td>\n",
       "      <td>...</td>\n",
       "    </tr>\n",
       "    <tr>\n",
       "      <th>87</th>\n",
       "      <td>286.3</td>\n",
       "      <td>200.9</td>\n",
       "      <td>0.0</td>\n",
       "      <td>144.7</td>\n",
       "      <td>11.2</td>\n",
       "      <td>1004.6</td>\n",
       "      <td>803.7</td>\n",
       "      <td>3</td>\n",
       "    </tr>\n",
       "    <tr>\n",
       "      <th>330</th>\n",
       "      <td>246.8</td>\n",
       "      <td>0.0</td>\n",
       "      <td>125.1</td>\n",
       "      <td>143.3</td>\n",
       "      <td>12.0</td>\n",
       "      <td>1086.8</td>\n",
       "      <td>800.9</td>\n",
       "      <td>14</td>\n",
       "    </tr>\n",
       "    <tr>\n",
       "      <th>466</th>\n",
       "      <td>190.3</td>\n",
       "      <td>0.0</td>\n",
       "      <td>125.2</td>\n",
       "      <td>166.6</td>\n",
       "      <td>9.9</td>\n",
       "      <td>1079.0</td>\n",
       "      <td>798.9</td>\n",
       "      <td>100</td>\n",
       "    </tr>\n",
       "    <tr>\n",
       "      <th>121</th>\n",
       "      <td>475.0</td>\n",
       "      <td>118.8</td>\n",
       "      <td>0.0</td>\n",
       "      <td>181.1</td>\n",
       "      <td>8.9</td>\n",
       "      <td>852.1</td>\n",
       "      <td>781.5</td>\n",
       "      <td>28</td>\n",
       "    </tr>\n",
       "    <tr>\n",
       "      <th>860</th>\n",
       "      <td>314.0</td>\n",
       "      <td>0.0</td>\n",
       "      <td>113.0</td>\n",
       "      <td>170.0</td>\n",
       "      <td>10.0</td>\n",
       "      <td>925.0</td>\n",
       "      <td>783.0</td>\n",
       "      <td>28</td>\n",
       "    </tr>\n",
       "  </tbody>\n",
       "</table>\n",
       "<p>690 rows × 8 columns</p>\n",
       "</div>"
      ],
      "text/plain": [
       "     Cement  Blast Furnace Slag  Fly Ash  Water  Superplasticizer  \\\n",
       "900   150.0               237.0      0.0  174.0              12.0   \n",
       "370   218.9                 0.0    124.1  158.5              11.3   \n",
       "604   339.0                 0.0      0.0  197.0               0.0   \n",
       "973   143.8               136.3    106.2  178.1               7.5   \n",
       "593   252.5                 0.0      0.0  185.7               0.0   \n",
       "..      ...                 ...      ...    ...               ...   \n",
       "87    286.3               200.9      0.0  144.7              11.2   \n",
       "330   246.8                 0.0    125.1  143.3              12.0   \n",
       "466   190.3                 0.0    125.2  166.6               9.9   \n",
       "121   475.0               118.8      0.0  181.1               8.9   \n",
       "860   314.0                 0.0    113.0  170.0              10.0   \n",
       "\n",
       "     Coarse Aggregate  Fine Aggregate  Age  \n",
       "900            1069.0           675.0   28  \n",
       "370            1078.7           794.9   14  \n",
       "604             968.0           781.0  365  \n",
       "973             941.5           774.3   28  \n",
       "593            1111.6           784.3    7  \n",
       "..                ...             ...  ...  \n",
       "87             1004.6           803.7    3  \n",
       "330            1086.8           800.9   14  \n",
       "466            1079.0           798.9  100  \n",
       "121             852.1           781.5   28  \n",
       "860             925.0           783.0   28  \n",
       "\n",
       "[690 rows x 8 columns]"
      ]
     },
     "execution_count": 37,
     "metadata": {},
     "output_type": "execute_result"
    }
   ],
   "source": [
    "X_train"
   ]
  },
  {
   "cell_type": "markdown",
   "metadata": {},
   "source": [
    "## Обучение модели (Train) - pipeline"
   ]
  },
  {
   "cell_type": "code",
   "execution_count": 38,
   "metadata": {},
   "outputs": [],
   "source": [
    "param_grid = {'model__max_depth': [5, 8, 11], \n",
    "              'model__n_estimators': [50, 100], \n",
    "              'model__criterion': [\"mse\", \"mae\"]}"
   ]
  },
  {
   "cell_type": "code",
   "execution_count": 39,
   "metadata": {},
   "outputs": [],
   "source": [
    "pipeline = Pipeline(steps = [\n",
    "#             ('fs', SelectKBest(score_func=f_regression, k=5)),\n",
    "            ('fs', SelectKBest(score_func=mutual_info_regression, k=6)),\n",
    "\n",
    "            ('model', RandomForestRegressor())\n",
    "        ])"
   ]
  },
  {
   "cell_type": "code",
   "execution_count": 40,
   "metadata": {},
   "outputs": [],
   "source": [
    "model_gs = GridSearchCV(pipeline, param_grid, scoring='neg_mean_squared_error', n_jobs=-1)"
   ]
  },
  {
   "cell_type": "code",
   "execution_count": 41,
   "metadata": {},
   "outputs": [
    {
     "data": {
      "text/plain": [
       "GridSearchCV(estimator=Pipeline(steps=[('fs',\n",
       "                                        SelectKBest(k=6,\n",
       "                                                    score_func=<function mutual_info_regression at 0x7f954c745040>)),\n",
       "                                       ('model', RandomForestRegressor())]),\n",
       "             n_jobs=-1,\n",
       "             param_grid={'model__criterion': ['mse', 'mae'],\n",
       "                         'model__max_depth': [5, 8, 11],\n",
       "                         'model__n_estimators': [50, 100]},\n",
       "             scoring='neg_mean_squared_error')"
      ]
     },
     "execution_count": 41,
     "metadata": {},
     "output_type": "execute_result"
    }
   ],
   "source": [
    "model_gs.fit(X_train, y_train)"
   ]
  },
  {
   "cell_type": "code",
   "execution_count": 42,
   "metadata": {},
   "outputs": [
    {
     "name": "stdout",
     "output_type": "stream",
     "text": [
      "best_params: {'model__criterion': 'mse', 'model__max_depth': 11, 'model__n_estimators': 100}\n",
      "best_score: -28.79\n",
      "\n"
     ]
    }
   ],
   "source": [
    "print(f\"best_params: {model_gs.best_params_}\")\n",
    "print(f\"best_score: {model_gs.best_score_:0.2f}\\n\")"
   ]
  },
  {
   "cell_type": "code",
   "execution_count": 43,
   "metadata": {},
   "outputs": [
    {
     "data": {
      "text/html": [
       "<div>\n",
       "<style scoped>\n",
       "    .dataframe tbody tr th:only-of-type {\n",
       "        vertical-align: middle;\n",
       "    }\n",
       "\n",
       "    .dataframe tbody tr th {\n",
       "        vertical-align: top;\n",
       "    }\n",
       "\n",
       "    .dataframe thead th {\n",
       "        text-align: right;\n",
       "    }\n",
       "</style>\n",
       "<table border=\"1\" class=\"dataframe\">\n",
       "  <thead>\n",
       "    <tr style=\"text-align: right;\">\n",
       "      <th></th>\n",
       "      <th>mean_fit_time</th>\n",
       "      <th>std_fit_time</th>\n",
       "      <th>mean_score_time</th>\n",
       "      <th>std_score_time</th>\n",
       "      <th>param_model__criterion</th>\n",
       "      <th>param_model__max_depth</th>\n",
       "      <th>param_model__n_estimators</th>\n",
       "      <th>params</th>\n",
       "      <th>split0_test_score</th>\n",
       "      <th>split1_test_score</th>\n",
       "      <th>split2_test_score</th>\n",
       "      <th>split3_test_score</th>\n",
       "      <th>split4_test_score</th>\n",
       "      <th>mean_test_score</th>\n",
       "      <th>std_test_score</th>\n",
       "      <th>rank_test_score</th>\n",
       "    </tr>\n",
       "  </thead>\n",
       "  <tbody>\n",
       "    <tr>\n",
       "      <th>0</th>\n",
       "      <td>0.131868</td>\n",
       "      <td>0.007208</td>\n",
       "      <td>0.007707</td>\n",
       "      <td>0.000145</td>\n",
       "      <td>mse</td>\n",
       "      <td>5</td>\n",
       "      <td>50</td>\n",
       "      <td>{'model__criterion': 'mse', 'model__max_depth'...</td>\n",
       "      <td>-49.458635</td>\n",
       "      <td>-43.904124</td>\n",
       "      <td>-57.541064</td>\n",
       "      <td>-47.200078</td>\n",
       "      <td>-41.630726</td>\n",
       "      <td>-47.946925</td>\n",
       "      <td>5.497803</td>\n",
       "      <td>9</td>\n",
       "    </tr>\n",
       "    <tr>\n",
       "      <th>1</th>\n",
       "      <td>0.204354</td>\n",
       "      <td>0.001766</td>\n",
       "      <td>0.011954</td>\n",
       "      <td>0.000257</td>\n",
       "      <td>mse</td>\n",
       "      <td>5</td>\n",
       "      <td>100</td>\n",
       "      <td>{'model__criterion': 'mse', 'model__max_depth'...</td>\n",
       "      <td>-50.888763</td>\n",
       "      <td>-41.323302</td>\n",
       "      <td>-56.711014</td>\n",
       "      <td>-47.507640</td>\n",
       "      <td>-44.554226</td>\n",
       "      <td>-48.196989</td>\n",
       "      <td>5.305220</td>\n",
       "      <td>10</td>\n",
       "    </tr>\n",
       "    <tr>\n",
       "      <th>2</th>\n",
       "      <td>0.145329</td>\n",
       "      <td>0.008282</td>\n",
       "      <td>0.008018</td>\n",
       "      <td>0.000322</td>\n",
       "      <td>mse</td>\n",
       "      <td>8</td>\n",
       "      <td>50</td>\n",
       "      <td>{'model__criterion': 'mse', 'model__max_depth'...</td>\n",
       "      <td>-35.307445</td>\n",
       "      <td>-27.909554</td>\n",
       "      <td>-39.544295</td>\n",
       "      <td>-27.918882</td>\n",
       "      <td>-27.039397</td>\n",
       "      <td>-31.543915</td>\n",
       "      <td>4.996206</td>\n",
       "      <td>6</td>\n",
       "    </tr>\n",
       "    <tr>\n",
       "      <th>3</th>\n",
       "      <td>0.240230</td>\n",
       "      <td>0.005941</td>\n",
       "      <td>0.012445</td>\n",
       "      <td>0.000174</td>\n",
       "      <td>mse</td>\n",
       "      <td>8</td>\n",
       "      <td>100</td>\n",
       "      <td>{'model__criterion': 'mse', 'model__max_depth'...</td>\n",
       "      <td>-33.199091</td>\n",
       "      <td>-29.190826</td>\n",
       "      <td>-38.959674</td>\n",
       "      <td>-28.276376</td>\n",
       "      <td>-27.615005</td>\n",
       "      <td>-31.448194</td>\n",
       "      <td>4.226996</td>\n",
       "      <td>5</td>\n",
       "    </tr>\n",
       "    <tr>\n",
       "      <th>4</th>\n",
       "      <td>0.143628</td>\n",
       "      <td>0.003176</td>\n",
       "      <td>0.008174</td>\n",
       "      <td>0.000233</td>\n",
       "      <td>mse</td>\n",
       "      <td>11</td>\n",
       "      <td>50</td>\n",
       "      <td>{'model__criterion': 'mse', 'model__max_depth'...</td>\n",
       "      <td>-32.809016</td>\n",
       "      <td>-29.365640</td>\n",
       "      <td>-36.471835</td>\n",
       "      <td>-26.490164</td>\n",
       "      <td>-24.054700</td>\n",
       "      <td>-29.838271</td>\n",
       "      <td>4.420688</td>\n",
       "      <td>2</td>\n",
       "    </tr>\n",
       "    <tr>\n",
       "      <th>5</th>\n",
       "      <td>0.270690</td>\n",
       "      <td>0.010850</td>\n",
       "      <td>0.013754</td>\n",
       "      <td>0.000914</td>\n",
       "      <td>mse</td>\n",
       "      <td>11</td>\n",
       "      <td>100</td>\n",
       "      <td>{'model__criterion': 'mse', 'model__max_depth'...</td>\n",
       "      <td>-33.066913</td>\n",
       "      <td>-26.057824</td>\n",
       "      <td>-36.225896</td>\n",
       "      <td>-23.646657</td>\n",
       "      <td>-24.940315</td>\n",
       "      <td>-28.787521</td>\n",
       "      <td>4.946177</td>\n",
       "      <td>1</td>\n",
       "    </tr>\n",
       "    <tr>\n",
       "      <th>6</th>\n",
       "      <td>0.419615</td>\n",
       "      <td>0.034385</td>\n",
       "      <td>0.008426</td>\n",
       "      <td>0.001144</td>\n",
       "      <td>mae</td>\n",
       "      <td>5</td>\n",
       "      <td>50</td>\n",
       "      <td>{'model__criterion': 'mae', 'model__max_depth'...</td>\n",
       "      <td>-52.345159</td>\n",
       "      <td>-43.254770</td>\n",
       "      <td>-52.792112</td>\n",
       "      <td>-51.600815</td>\n",
       "      <td>-47.557529</td>\n",
       "      <td>-49.510077</td>\n",
       "      <td>3.636535</td>\n",
       "      <td>11</td>\n",
       "    </tr>\n",
       "    <tr>\n",
       "      <th>7</th>\n",
       "      <td>0.822566</td>\n",
       "      <td>0.061266</td>\n",
       "      <td>0.012845</td>\n",
       "      <td>0.000640</td>\n",
       "      <td>mae</td>\n",
       "      <td>5</td>\n",
       "      <td>100</td>\n",
       "      <td>{'model__criterion': 'mae', 'model__max_depth'...</td>\n",
       "      <td>-55.227987</td>\n",
       "      <td>-44.352050</td>\n",
       "      <td>-57.665960</td>\n",
       "      <td>-49.457125</td>\n",
       "      <td>-47.822064</td>\n",
       "      <td>-50.905037</td>\n",
       "      <td>4.877310</td>\n",
       "      <td>12</td>\n",
       "    </tr>\n",
       "    <tr>\n",
       "      <th>8</th>\n",
       "      <td>0.476802</td>\n",
       "      <td>0.020106</td>\n",
       "      <td>0.008522</td>\n",
       "      <td>0.001280</td>\n",
       "      <td>mae</td>\n",
       "      <td>8</td>\n",
       "      <td>50</td>\n",
       "      <td>{'model__criterion': 'mae', 'model__max_depth'...</td>\n",
       "      <td>-39.962404</td>\n",
       "      <td>-31.090621</td>\n",
       "      <td>-37.781818</td>\n",
       "      <td>-33.302755</td>\n",
       "      <td>-30.205156</td>\n",
       "      <td>-34.468551</td>\n",
       "      <td>3.797531</td>\n",
       "      <td>8</td>\n",
       "    </tr>\n",
       "    <tr>\n",
       "      <th>9</th>\n",
       "      <td>0.921248</td>\n",
       "      <td>0.051099</td>\n",
       "      <td>0.014008</td>\n",
       "      <td>0.001247</td>\n",
       "      <td>mae</td>\n",
       "      <td>8</td>\n",
       "      <td>100</td>\n",
       "      <td>{'model__criterion': 'mae', 'model__max_depth'...</td>\n",
       "      <td>-37.400087</td>\n",
       "      <td>-31.595667</td>\n",
       "      <td>-39.739712</td>\n",
       "      <td>-31.008137</td>\n",
       "      <td>-29.359853</td>\n",
       "      <td>-33.820691</td>\n",
       "      <td>4.015150</td>\n",
       "      <td>7</td>\n",
       "    </tr>\n",
       "    <tr>\n",
       "      <th>10</th>\n",
       "      <td>0.537256</td>\n",
       "      <td>0.018534</td>\n",
       "      <td>0.008505</td>\n",
       "      <td>0.000898</td>\n",
       "      <td>mae</td>\n",
       "      <td>11</td>\n",
       "      <td>50</td>\n",
       "      <td>{'model__criterion': 'mae', 'model__max_depth'...</td>\n",
       "      <td>-38.092932</td>\n",
       "      <td>-28.260625</td>\n",
       "      <td>-34.971112</td>\n",
       "      <td>-27.351457</td>\n",
       "      <td>-26.667282</td>\n",
       "      <td>-31.068682</td>\n",
       "      <td>4.596614</td>\n",
       "      <td>4</td>\n",
       "    </tr>\n",
       "    <tr>\n",
       "      <th>11</th>\n",
       "      <td>0.945366</td>\n",
       "      <td>0.015796</td>\n",
       "      <td>0.012835</td>\n",
       "      <td>0.000405</td>\n",
       "      <td>mae</td>\n",
       "      <td>11</td>\n",
       "      <td>100</td>\n",
       "      <td>{'model__criterion': 'mae', 'model__max_depth'...</td>\n",
       "      <td>-34.052004</td>\n",
       "      <td>-28.894949</td>\n",
       "      <td>-36.893069</td>\n",
       "      <td>-26.278671</td>\n",
       "      <td>-25.375547</td>\n",
       "      <td>-30.298848</td>\n",
       "      <td>4.470829</td>\n",
       "      <td>3</td>\n",
       "    </tr>\n",
       "  </tbody>\n",
       "</table>\n",
       "</div>"
      ],
      "text/plain": [
       "    mean_fit_time  std_fit_time  mean_score_time  std_score_time  \\\n",
       "0        0.131868      0.007208         0.007707        0.000145   \n",
       "1        0.204354      0.001766         0.011954        0.000257   \n",
       "2        0.145329      0.008282         0.008018        0.000322   \n",
       "3        0.240230      0.005941         0.012445        0.000174   \n",
       "4        0.143628      0.003176         0.008174        0.000233   \n",
       "5        0.270690      0.010850         0.013754        0.000914   \n",
       "6        0.419615      0.034385         0.008426        0.001144   \n",
       "7        0.822566      0.061266         0.012845        0.000640   \n",
       "8        0.476802      0.020106         0.008522        0.001280   \n",
       "9        0.921248      0.051099         0.014008        0.001247   \n",
       "10       0.537256      0.018534         0.008505        0.000898   \n",
       "11       0.945366      0.015796         0.012835        0.000405   \n",
       "\n",
       "   param_model__criterion param_model__max_depth param_model__n_estimators  \\\n",
       "0                     mse                      5                        50   \n",
       "1                     mse                      5                       100   \n",
       "2                     mse                      8                        50   \n",
       "3                     mse                      8                       100   \n",
       "4                     mse                     11                        50   \n",
       "5                     mse                     11                       100   \n",
       "6                     mae                      5                        50   \n",
       "7                     mae                      5                       100   \n",
       "8                     mae                      8                        50   \n",
       "9                     mae                      8                       100   \n",
       "10                    mae                     11                        50   \n",
       "11                    mae                     11                       100   \n",
       "\n",
       "                                               params  split0_test_score  \\\n",
       "0   {'model__criterion': 'mse', 'model__max_depth'...         -49.458635   \n",
       "1   {'model__criterion': 'mse', 'model__max_depth'...         -50.888763   \n",
       "2   {'model__criterion': 'mse', 'model__max_depth'...         -35.307445   \n",
       "3   {'model__criterion': 'mse', 'model__max_depth'...         -33.199091   \n",
       "4   {'model__criterion': 'mse', 'model__max_depth'...         -32.809016   \n",
       "5   {'model__criterion': 'mse', 'model__max_depth'...         -33.066913   \n",
       "6   {'model__criterion': 'mae', 'model__max_depth'...         -52.345159   \n",
       "7   {'model__criterion': 'mae', 'model__max_depth'...         -55.227987   \n",
       "8   {'model__criterion': 'mae', 'model__max_depth'...         -39.962404   \n",
       "9   {'model__criterion': 'mae', 'model__max_depth'...         -37.400087   \n",
       "10  {'model__criterion': 'mae', 'model__max_depth'...         -38.092932   \n",
       "11  {'model__criterion': 'mae', 'model__max_depth'...         -34.052004   \n",
       "\n",
       "    split1_test_score  split2_test_score  split3_test_score  \\\n",
       "0          -43.904124         -57.541064         -47.200078   \n",
       "1          -41.323302         -56.711014         -47.507640   \n",
       "2          -27.909554         -39.544295         -27.918882   \n",
       "3          -29.190826         -38.959674         -28.276376   \n",
       "4          -29.365640         -36.471835         -26.490164   \n",
       "5          -26.057824         -36.225896         -23.646657   \n",
       "6          -43.254770         -52.792112         -51.600815   \n",
       "7          -44.352050         -57.665960         -49.457125   \n",
       "8          -31.090621         -37.781818         -33.302755   \n",
       "9          -31.595667         -39.739712         -31.008137   \n",
       "10         -28.260625         -34.971112         -27.351457   \n",
       "11         -28.894949         -36.893069         -26.278671   \n",
       "\n",
       "    split4_test_score  mean_test_score  std_test_score  rank_test_score  \n",
       "0          -41.630726       -47.946925        5.497803                9  \n",
       "1          -44.554226       -48.196989        5.305220               10  \n",
       "2          -27.039397       -31.543915        4.996206                6  \n",
       "3          -27.615005       -31.448194        4.226996                5  \n",
       "4          -24.054700       -29.838271        4.420688                2  \n",
       "5          -24.940315       -28.787521        4.946177                1  \n",
       "6          -47.557529       -49.510077        3.636535               11  \n",
       "7          -47.822064       -50.905037        4.877310               12  \n",
       "8          -30.205156       -34.468551        3.797531                8  \n",
       "9          -29.359853       -33.820691        4.015150                7  \n",
       "10         -26.667282       -31.068682        4.596614                4  \n",
       "11         -25.375547       -30.298848        4.470829                3  "
      ]
     },
     "execution_count": 43,
     "metadata": {},
     "output_type": "execute_result"
    }
   ],
   "source": [
    "pd.DataFrame(model_gs.cv_results_)"
   ]
  },
  {
   "cell_type": "markdown",
   "metadata": {},
   "source": [
    "## Оценка качества модели (Evaluation)"
   ]
  },
  {
   "cell_type": "code",
   "execution_count": 44,
   "metadata": {},
   "outputs": [],
   "source": [
    "# использовать обученную модель для предсказания на test выборке\n",
    "y_test_predicted = model_gs.predict(X_test)\n",
    "y_train_predicted = model_gs.predict(X_train)"
   ]
  },
  {
   "cell_type": "code",
   "execution_count": 45,
   "metadata": {},
   "outputs": [
    {
     "name": "stdout",
     "output_type": "stream",
     "text": [
      "R2 (train): 0.9824516247711451\n",
      "R2 (test): 0.8862836051610641\n",
      "MSE (train): 4.877172231011829\n",
      "MSE (test): 31.75138625230217\n"
     ]
    }
   ],
   "source": [
    "print(f'R2 (train): {r2_score(y_train, y_train_predicted)}')\n",
    "print(f'R2 (test): {r2_score(y_test, y_test_predicted)}')\n",
    "\n",
    "print(f\"MSE (train): {mean_squared_error(y_train, y_train_predicted, squared=True)}\")\n",
    "print(f\"MSE (test): {mean_squared_error(y_test, y_test_predicted, squared=True)}\")"
   ]
  }
 ],
 "metadata": {
  "kernelspec": {
   "display_name": "Python [conda env:LevelUp_DataScience] *",
   "language": "python",
   "name": "conda-env-LevelUp_DataScience-py"
  },
  "language_info": {
   "codemirror_mode": {
    "name": "ipython",
    "version": 3
   },
   "file_extension": ".py",
   "mimetype": "text/x-python",
   "name": "python",
   "nbconvert_exporter": "python",
   "pygments_lexer": "ipython3",
   "version": "3.8.3"
  }
 },
 "nbformat": 4,
 "nbformat_minor": 4
}