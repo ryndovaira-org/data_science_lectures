{
 "cells": [
  {
   "cell_type": "markdown",
   "metadata": {},
   "source": [
    "# Конструирование признаков (Feature Engineering)"
   ]
  },
  {
   "cell_type": "markdown",
   "metadata": {},
   "source": [
    "---\n",
    "\n",
    "**Источники:**\n",
    "\n",
    "[Искусство Feature Engineering в машинном обучении](https://habr.com/ru/company/mlclass/blog/248129/)\n",
    "\n",
    "[Конструирование признаков](https://ru.wikipedia.org/wiki/%D0%9A%D0%BE%D0%BD%D1%81%D1%82%D1%80%D1%83%D0%B8%D1%80%D0%BE%D0%B2%D0%B0%D0%BD%D0%B8%D0%B5_%D0%BF%D1%80%D0%B8%D0%B7%D0%BD%D0%B0%D0%BA%D0%BE%D0%B2)\n",
    "\n",
    "[Representation: Feature Engineering](https://developers.google.com/machine-learning/crash-course/representation/feature-engineering)\n",
    "\n",
    "[7 Feature Engineering Techniques in Machine Learning You Should Know](https://www.analyticsvidhya.com/blog/2020/10/7-feature-engineering-techniques-machine-learning/)\n",
    "\n",
    "[Feature Engineering — deep dive into Encoding and Binning techniques](https://towardsdatascience.com/feature-engineering-deep-dive-into-encoding-and-binning-techniques-5618d55a6b38)\n",
    "\n",
    "[Feature Engineering in Machine Learning](https://lucasxlu.github.io/blog/2018/08/20/ml-feml/)\n",
    "\n",
    "[Binning Data with Pandas qcut and cut](https://pbpython.com/pandas-qcut-cut.html)\n",
    "\n",
    "[Data Preprocessing with Python Pandas — Part 5 Binning](https://towardsdatascience.com/data-preprocessing-with-python-pandas-part-5-binning-c5bd5fd1b950)\n",
    "\n",
    "---"
   ]
  },
  {
   "cell_type": "markdown",
   "metadata": {},
   "source": [
    "## Подготовка окружения"
   ]
  },
  {
   "cell_type": "code",
   "execution_count": null,
   "metadata": {
    "collapsed": false,
    "jupyter": {
     "outputs_hidden": false
    },
    "pycharm": {
     "name": "#%%\n"
    }
   },
   "outputs": [],
   "source": [
    "# ВНИМАНИЕ: необходимо удостовериться, что виртуальная среда выбрана правильно!\n",
    "\n",
    "# Для MacOS/Ubuntu\n",
    "# !which pip\n",
    "\n",
    "# Для Windows\n",
    "# !where pip"
   ]
  },
  {
   "cell_type": "code",
   "execution_count": null,
   "metadata": {
    "collapsed": false,
    "jupyter": {
     "outputs_hidden": false
    },
    "pycharm": {
     "name": "#%%\n"
    }
   },
   "outputs": [],
   "source": [
    "# !conda install matplotlib numpy missingno scikit-learn -y"
   ]
  },
  {
   "cell_type": "code",
   "execution_count": null,
   "metadata": {
    "collapsed": false,
    "jupyter": {
     "outputs_hidden": false
    },
    "pycharm": {
     "name": "#%%\n"
    }
   },
   "outputs": [],
   "source": [
    "# !conda install -c conda-forge category_encoders -y"
   ]
  },
  {
   "cell_type": "code",
   "execution_count": 4,
   "metadata": {
    "collapsed": false,
    "jupyter": {
     "outputs_hidden": false
    },
    "pycharm": {
     "name": "#%%\n"
    }
   },
   "outputs": [
    {
     "data": {
      "text/plain": [
       "'1.19.2'"
      ]
     },
     "execution_count": 4,
     "metadata": {},
     "output_type": "execute_result"
    }
   ],
   "source": [
    "import numpy as np\n",
    "\n",
    "np.__version__"
   ]
  },
  {
   "cell_type": "code",
   "execution_count": 5,
   "metadata": {
    "collapsed": false,
    "jupyter": {
     "outputs_hidden": false
    },
    "pycharm": {
     "name": "#%%\n"
    }
   },
   "outputs": [
    {
     "data": {
      "text/plain": [
       "'1.2.3'"
      ]
     },
     "execution_count": 5,
     "metadata": {},
     "output_type": "execute_result"
    }
   ],
   "source": [
    "import pandas as pd\n",
    "\n",
    "pd.__version__"
   ]
  },
  {
   "cell_type": "markdown",
   "metadata": {},
   "source": [
    "## Создание `DataFrame` для примера"
   ]
  },
  {
   "cell_type": "code",
   "execution_count": 6,
   "metadata": {},
   "outputs": [],
   "source": [
    "# товары в интернет магазине\n",
    "df = pd.DataFrame({'user_name': pd.Series(['Mr Oleg', 'Mr Oleg',\n",
    "                                           'Mr Pete', 'Mr Pete', \n",
    "                                           'Mrs Elena', 'Mr Viktor',\n",
    "                                           'Mr Anton', 'Mr Anton', \n",
    "                                           'Mrs Alex', 'Mrs Alex'], \n",
    "                                          dtype='string'),\n",
    "                   \n",
    "                  'user_rating': pd.Series(['5 star', '5 star', \n",
    "                                            '3 star', '3 star', \n",
    "                                            '1 star', '2 star', \n",
    "                                            '5 star', '5 star', \n",
    "                                            '4 star', '4 star'], \n",
    "                                           dtype=pd.CategoricalDtype(categories=['1 star', \n",
    "                                                                                 '2 star', \n",
    "                                                                                 '3 star', \n",
    "                                                                                 '4 star', \n",
    "                                                                                 '5 star'], ordered=True)),\n",
    "                  'title': pd.Series(['toy', 'Beautiful Cat', \n",
    "                                      'Car', 'TV', \n",
    "                                      'Toys', 'Television', \n",
    "                                      'House', 'Dog', \n",
    "                                      'Kitty', 'Soft TOY'], \n",
    "                                     dtype='string'),\n",
    "                   \n",
    "                  \n",
    "                   'tags': pd.Series(['children, beautiful, good_condition', \n",
    "                                      'animal, cat, beautiful', \n",
    "                                      'beautiful, good_condition', \n",
    "                                      'good_condition', \n",
    "                                      'children, animal', \n",
    "                                      'good_condition', \n",
    "                                      'good_condition, suburbs', \n",
    "                                      'animal, dog', 'animal', \n",
    "                                      'children, good_condition'], \n",
    "                                     dtype='string'),\n",
    "                                     \n",
    "                   'item_age_month': pd.Series(['0-1', '1-6', \n",
    "                                               '6-12', '12+', \n",
    "                                               '1-6', '1-6', \n",
    "                                               '12+', '0-1', \n",
    "                                               '6-12', '6-12'], \n",
    "                                              dtype=pd.CategoricalDtype(categories=['0-1', \n",
    "                                                                                    '1-6', \n",
    "                                                                                    '6-12', \n",
    "                                                                                    '12+'], ordered=True)),\n",
    "                   \n",
    "                   'item_color': pd.Series(['red', 'blue', \n",
    "                                           'rainbow', 'white', \n",
    "                                           'red', 'white', \n",
    "                                           'rainbow', 'white', \n",
    "                                           'white', 'blue'], \n",
    "                                          dtype='category'),\n",
    "                   \n",
    "                    'open_date_time': pd.Series(['10.10.2020 18:25', '20.12.2020 16:36', \n",
    "                                                 '06.04.2021 10:14', '07.04.2021 23:25', \n",
    "                                                 '25.11.2020 06:17', '16.12.2020 15:15', \n",
    "                                                 '10.03.2021 09:08', '31.12.2020 04:57', \n",
    "                                                 '28.12.2020 12:54', '29.12.2020 23:25'], dtype='datetime64[ns]'),\n",
    "                   'status': pd.Series(['sold out', 'for_sale', \n",
    "                                        'for_sale', 'for_sale', \n",
    "                                        'sold out', 'sold out', \n",
    "                                        'for_sale', 'for_sale', \n",
    "                                        'sold out', 'for_sale'], \n",
    "                                       dtype='string')\n",
    "                  })"
   ]
  },
  {
   "cell_type": "code",
   "execution_count": 7,
   "metadata": {},
   "outputs": [
    {
     "data": {
      "text/html": [
       "<div>\n",
       "<style scoped>\n",
       "    .dataframe tbody tr th:only-of-type {\n",
       "        vertical-align: middle;\n",
       "    }\n",
       "\n",
       "    .dataframe tbody tr th {\n",
       "        vertical-align: top;\n",
       "    }\n",
       "\n",
       "    .dataframe thead th {\n",
       "        text-align: right;\n",
       "    }\n",
       "</style>\n",
       "<table border=\"1\" class=\"dataframe\">\n",
       "  <thead>\n",
       "    <tr style=\"text-align: right;\">\n",
       "      <th></th>\n",
       "      <th>user_name</th>\n",
       "      <th>user_rating</th>\n",
       "      <th>title</th>\n",
       "      <th>tags</th>\n",
       "      <th>item_age_month</th>\n",
       "      <th>item_color</th>\n",
       "      <th>open_date_time</th>\n",
       "      <th>status</th>\n",
       "    </tr>\n",
       "  </thead>\n",
       "  <tbody>\n",
       "    <tr>\n",
       "      <th>0</th>\n",
       "      <td>Mr Oleg</td>\n",
       "      <td>5 star</td>\n",
       "      <td>toy</td>\n",
       "      <td>children, beautiful, good_condition</td>\n",
       "      <td>0-1</td>\n",
       "      <td>red</td>\n",
       "      <td>2020-10-10 18:25:00</td>\n",
       "      <td>sold out</td>\n",
       "    </tr>\n",
       "    <tr>\n",
       "      <th>1</th>\n",
       "      <td>Mr Oleg</td>\n",
       "      <td>5 star</td>\n",
       "      <td>Beautiful Cat</td>\n",
       "      <td>animal, cat, beautiful</td>\n",
       "      <td>1-6</td>\n",
       "      <td>blue</td>\n",
       "      <td>2020-12-20 16:36:00</td>\n",
       "      <td>for_sale</td>\n",
       "    </tr>\n",
       "    <tr>\n",
       "      <th>2</th>\n",
       "      <td>Mr Pete</td>\n",
       "      <td>3 star</td>\n",
       "      <td>Car</td>\n",
       "      <td>beautiful, good_condition</td>\n",
       "      <td>6-12</td>\n",
       "      <td>rainbow</td>\n",
       "      <td>2021-06-04 10:14:00</td>\n",
       "      <td>for_sale</td>\n",
       "    </tr>\n",
       "    <tr>\n",
       "      <th>3</th>\n",
       "      <td>Mr Pete</td>\n",
       "      <td>3 star</td>\n",
       "      <td>TV</td>\n",
       "      <td>good_condition</td>\n",
       "      <td>12+</td>\n",
       "      <td>white</td>\n",
       "      <td>2021-07-04 23:25:00</td>\n",
       "      <td>for_sale</td>\n",
       "    </tr>\n",
       "    <tr>\n",
       "      <th>4</th>\n",
       "      <td>Mrs Elena</td>\n",
       "      <td>1 star</td>\n",
       "      <td>Toys</td>\n",
       "      <td>children, animal</td>\n",
       "      <td>1-6</td>\n",
       "      <td>red</td>\n",
       "      <td>2020-11-25 06:17:00</td>\n",
       "      <td>sold out</td>\n",
       "    </tr>\n",
       "    <tr>\n",
       "      <th>5</th>\n",
       "      <td>Mr Viktor</td>\n",
       "      <td>2 star</td>\n",
       "      <td>Television</td>\n",
       "      <td>good_condition</td>\n",
       "      <td>1-6</td>\n",
       "      <td>white</td>\n",
       "      <td>2020-12-16 15:15:00</td>\n",
       "      <td>sold out</td>\n",
       "    </tr>\n",
       "    <tr>\n",
       "      <th>6</th>\n",
       "      <td>Mr Anton</td>\n",
       "      <td>5 star</td>\n",
       "      <td>House</td>\n",
       "      <td>good_condition, suburbs</td>\n",
       "      <td>12+</td>\n",
       "      <td>rainbow</td>\n",
       "      <td>2021-10-03 09:08:00</td>\n",
       "      <td>for_sale</td>\n",
       "    </tr>\n",
       "    <tr>\n",
       "      <th>7</th>\n",
       "      <td>Mr Anton</td>\n",
       "      <td>5 star</td>\n",
       "      <td>Dog</td>\n",
       "      <td>animal, dog</td>\n",
       "      <td>0-1</td>\n",
       "      <td>white</td>\n",
       "      <td>2020-12-31 04:57:00</td>\n",
       "      <td>for_sale</td>\n",
       "    </tr>\n",
       "    <tr>\n",
       "      <th>8</th>\n",
       "      <td>Mrs Alex</td>\n",
       "      <td>4 star</td>\n",
       "      <td>Kitty</td>\n",
       "      <td>animal</td>\n",
       "      <td>6-12</td>\n",
       "      <td>white</td>\n",
       "      <td>2020-12-28 12:54:00</td>\n",
       "      <td>sold out</td>\n",
       "    </tr>\n",
       "    <tr>\n",
       "      <th>9</th>\n",
       "      <td>Mrs Alex</td>\n",
       "      <td>4 star</td>\n",
       "      <td>Soft TOY</td>\n",
       "      <td>children, good_condition</td>\n",
       "      <td>6-12</td>\n",
       "      <td>blue</td>\n",
       "      <td>2020-12-29 23:25:00</td>\n",
       "      <td>for_sale</td>\n",
       "    </tr>\n",
       "  </tbody>\n",
       "</table>\n",
       "</div>"
      ],
      "text/plain": [
       "   user_name user_rating          title                                 tags  \\\n",
       "0    Mr Oleg      5 star            toy  children, beautiful, good_condition   \n",
       "1    Mr Oleg      5 star  Beautiful Cat               animal, cat, beautiful   \n",
       "2    Mr Pete      3 star            Car            beautiful, good_condition   \n",
       "3    Mr Pete      3 star             TV                       good_condition   \n",
       "4  Mrs Elena      1 star           Toys                     children, animal   \n",
       "5  Mr Viktor      2 star     Television                       good_condition   \n",
       "6   Mr Anton      5 star          House              good_condition, suburbs   \n",
       "7   Mr Anton      5 star            Dog                          animal, dog   \n",
       "8   Mrs Alex      4 star          Kitty                               animal   \n",
       "9   Mrs Alex      4 star       Soft TOY             children, good_condition   \n",
       "\n",
       "  item_age_month item_color      open_date_time    status  \n",
       "0            0-1        red 2020-10-10 18:25:00  sold out  \n",
       "1            1-6       blue 2020-12-20 16:36:00  for_sale  \n",
       "2           6-12    rainbow 2021-06-04 10:14:00  for_sale  \n",
       "3            12+      white 2021-07-04 23:25:00  for_sale  \n",
       "4            1-6        red 2020-11-25 06:17:00  sold out  \n",
       "5            1-6      white 2020-12-16 15:15:00  sold out  \n",
       "6            12+    rainbow 2021-10-03 09:08:00  for_sale  \n",
       "7            0-1      white 2020-12-31 04:57:00  for_sale  \n",
       "8           6-12      white 2020-12-28 12:54:00  sold out  \n",
       "9           6-12       blue 2020-12-29 23:25:00  for_sale  "
      ]
     },
     "execution_count": 7,
     "metadata": {},
     "output_type": "execute_result"
    }
   ],
   "source": [
    "df"
   ]
  },
  {
   "cell_type": "code",
   "execution_count": 8,
   "metadata": {},
   "outputs": [
    {
     "name": "stdout",
     "output_type": "stream",
     "text": [
      "<class 'pandas.core.frame.DataFrame'>\n",
      "RangeIndex: 10 entries, 0 to 9\n",
      "Data columns (total 8 columns):\n",
      " #   Column          Non-Null Count  Dtype         \n",
      "---  ------          --------------  -----         \n",
      " 0   user_name       10 non-null     string        \n",
      " 1   user_rating     10 non-null     category      \n",
      " 2   title           10 non-null     string        \n",
      " 3   tags            10 non-null     string        \n",
      " 4   item_age_month  10 non-null     category      \n",
      " 5   item_color      10 non-null     category      \n",
      " 6   open_date_time  10 non-null     datetime64[ns]\n",
      " 7   status          10 non-null     string        \n",
      "dtypes: category(3), datetime64[ns](1), string(4)\n",
      "memory usage: 1.2 KB\n"
     ]
    }
   ],
   "source": [
    "df.info()"
   ]
  },
  {
   "cell_type": "code",
   "execution_count": 9,
   "metadata": {},
   "outputs": [
    {
     "data": {
      "text/plain": [
       "0     0-1\n",
       "1     1-6\n",
       "2    6-12\n",
       "3     12+\n",
       "4     1-6\n",
       "5     1-6\n",
       "6     12+\n",
       "7     0-1\n",
       "8    6-12\n",
       "9    6-12\n",
       "Name: item_age_month, dtype: category\n",
       "Categories (4, object): ['0-1' < '1-6' < '6-12' < '12+']"
      ]
     },
     "execution_count": 9,
     "metadata": {},
     "output_type": "execute_result"
    }
   ],
   "source": [
    "df.item_age_month"
   ]
  },
  {
   "cell_type": "code",
   "execution_count": 10,
   "metadata": {},
   "outputs": [
    {
     "data": {
      "text/plain": [
       "Timestamp('2020-10-10 18:25:00')"
      ]
     },
     "execution_count": 10,
     "metadata": {},
     "output_type": "execute_result"
    }
   ],
   "source": [
    "df.open_date_time[0]"
   ]
  },
  {
   "cell_type": "code",
   "execution_count": 11,
   "metadata": {},
   "outputs": [
    {
     "data": {
      "text/plain": [
       "10"
      ]
     },
     "execution_count": 11,
     "metadata": {},
     "output_type": "execute_result"
    }
   ],
   "source": [
    "df.open_date_time[0].day"
   ]
  },
  {
   "cell_type": "code",
   "execution_count": 12,
   "metadata": {},
   "outputs": [
    {
     "data": {
      "text/plain": [
       "284"
      ]
     },
     "execution_count": 12,
     "metadata": {},
     "output_type": "execute_result"
    }
   ],
   "source": [
    "df.open_date_time[0].day_of_year"
   ]
  },
  {
   "cell_type": "markdown",
   "metadata": {},
   "source": [
    "## Конструирование признаков (Feature Engineering)\n",
    "\n",
    "<blockquote>Придумывать признаки трудно, требует много времени и глубоких знаний. «Прикладное машинное обучение», в основном, это конструирование признаков.\n",
    "— Эндрю Ын </blockquote>\n",
    "\n",
    "**Признак** — это качество или свойство, присущее всем независимым объектам, анализ или прогноз для которых производится. Любое качество может быть полезным, если оно полезно для модели.\n",
    "\n",
    "Смысл **признака** и чем он отличается от качества, легче было бы понять в контексте задачи. **Признак является характеристикой, которая может помочь решить задачу**.\n",
    "\n",
    "**Признаки** в данных важны для используемых прогнозных моделей и влияют на результат, который необходимо получить. **Качество и количество признаков оказывают большое влияние на качество модели, будет она хорошей или нет.**\n",
    "\n",
    "Можно сказать, что чем лучше **признаки**, тем лучше будет результат. Это не совсем полная правда, поскольку результат будет зависеть от модели и данных, не просто от выбранных **признаков**. Но отбор правильных **признаков** остаётся очень важным делом. Более качественные **признаки** могут дать более простую и более гибкую модель и часто они дают лучшие результаты.\n",
    "\n",
    "**Конструирование признаков** — это процесс использования предметной области данных для создания признаков, которые нужны для машинного обучения. \n",
    "\n",
    "**Конструирование признаков** является фундаментом для приложений машинного обучения, а также трудным и затратным процессом. Необходимости ручного конструирования признаков можно избежать при автоматизации прикладного обучения признакам.\n",
    "\n",
    "Почти любая задача начинается с создания (Engineering) и отбора (Selection) признаков.\n",
    "\n",
    "**Процесс конструирования признаков** — это\n",
    "- Метод мозгового штурма или проверка признаков;\n",
    "- Решение, какие признаки создавать;\n",
    "- Создание признаков;\n",
    "- Проверка, какие признаки работают с моделью;\n",
    "- Улучшение признаков, если требуется;\n",
    "- Возврат к методу мозгового штурма/создание других признаков, пока работа не будет завершена.\n",
    "\n",
    "\n",
    "Большинство алгоритмов (или библиотек машинного обучения) дают лучший результат с числовыми признаками.\n",
    "\n",
    "В Python для библиотеки `sklearn` требуются признаки в числовых массивах (`np.array`, `pd.DataFrame`, `pd.Series`)."
   ]
  },
  {
   "cell_type": "markdown",
   "metadata": {},
   "source": [
    "## Строковые признаки"
   ]
  },
  {
   "cell_type": "markdown",
   "metadata": {},
   "source": [
    "**Возможное решение:**\n",
    "- В самих строках зачастую содержится информация (\"Mr.\", \"Mrs.\" преобразовать в половой признак).\n",
    "- Сократить количество \"категорий\" (\"кот\", \"кошка\", \"кошечка\", \"котенок\" -> \"кот\").\n",
    "- Разделить строку на несколько признаков (список тегов, ФИО), если их не очень много.\n",
    "- Преобразовать к другому типу (\"первое января 93-го года\" преобразовать в 01.01.1993).\n",
    "- ..."
   ]
  },
  {
   "cell_type": "code",
   "execution_count": 13,
   "metadata": {},
   "outputs": [
    {
     "data": {
      "text/html": [
       "<div>\n",
       "<style scoped>\n",
       "    .dataframe tbody tr th:only-of-type {\n",
       "        vertical-align: middle;\n",
       "    }\n",
       "\n",
       "    .dataframe tbody tr th {\n",
       "        vertical-align: top;\n",
       "    }\n",
       "\n",
       "    .dataframe thead th {\n",
       "        text-align: right;\n",
       "    }\n",
       "</style>\n",
       "<table border=\"1\" class=\"dataframe\">\n",
       "  <thead>\n",
       "    <tr style=\"text-align: right;\">\n",
       "      <th></th>\n",
       "      <th>user_name</th>\n",
       "      <th>title</th>\n",
       "      <th>tags</th>\n",
       "      <th>status</th>\n",
       "    </tr>\n",
       "  </thead>\n",
       "  <tbody>\n",
       "    <tr>\n",
       "      <th>0</th>\n",
       "      <td>Mr Oleg</td>\n",
       "      <td>toy</td>\n",
       "      <td>children, beautiful, good_condition</td>\n",
       "      <td>sold out</td>\n",
       "    </tr>\n",
       "    <tr>\n",
       "      <th>1</th>\n",
       "      <td>Mr Oleg</td>\n",
       "      <td>Beautiful Cat</td>\n",
       "      <td>animal, cat, beautiful</td>\n",
       "      <td>for_sale</td>\n",
       "    </tr>\n",
       "    <tr>\n",
       "      <th>2</th>\n",
       "      <td>Mr Pete</td>\n",
       "      <td>Car</td>\n",
       "      <td>beautiful, good_condition</td>\n",
       "      <td>for_sale</td>\n",
       "    </tr>\n",
       "    <tr>\n",
       "      <th>3</th>\n",
       "      <td>Mr Pete</td>\n",
       "      <td>TV</td>\n",
       "      <td>good_condition</td>\n",
       "      <td>for_sale</td>\n",
       "    </tr>\n",
       "    <tr>\n",
       "      <th>4</th>\n",
       "      <td>Mrs Elena</td>\n",
       "      <td>Toys</td>\n",
       "      <td>children, animal</td>\n",
       "      <td>sold out</td>\n",
       "    </tr>\n",
       "    <tr>\n",
       "      <th>5</th>\n",
       "      <td>Mr Viktor</td>\n",
       "      <td>Television</td>\n",
       "      <td>good_condition</td>\n",
       "      <td>sold out</td>\n",
       "    </tr>\n",
       "    <tr>\n",
       "      <th>6</th>\n",
       "      <td>Mr Anton</td>\n",
       "      <td>House</td>\n",
       "      <td>good_condition, suburbs</td>\n",
       "      <td>for_sale</td>\n",
       "    </tr>\n",
       "    <tr>\n",
       "      <th>7</th>\n",
       "      <td>Mr Anton</td>\n",
       "      <td>Dog</td>\n",
       "      <td>animal, dog</td>\n",
       "      <td>for_sale</td>\n",
       "    </tr>\n",
       "    <tr>\n",
       "      <th>8</th>\n",
       "      <td>Mrs Alex</td>\n",
       "      <td>Kitty</td>\n",
       "      <td>animal</td>\n",
       "      <td>sold out</td>\n",
       "    </tr>\n",
       "    <tr>\n",
       "      <th>9</th>\n",
       "      <td>Mrs Alex</td>\n",
       "      <td>Soft TOY</td>\n",
       "      <td>children, good_condition</td>\n",
       "      <td>for_sale</td>\n",
       "    </tr>\n",
       "  </tbody>\n",
       "</table>\n",
       "</div>"
      ],
      "text/plain": [
       "   user_name          title                                 tags    status\n",
       "0    Mr Oleg            toy  children, beautiful, good_condition  sold out\n",
       "1    Mr Oleg  Beautiful Cat               animal, cat, beautiful  for_sale\n",
       "2    Mr Pete            Car            beautiful, good_condition  for_sale\n",
       "3    Mr Pete             TV                       good_condition  for_sale\n",
       "4  Mrs Elena           Toys                     children, animal  sold out\n",
       "5  Mr Viktor     Television                       good_condition  sold out\n",
       "6   Mr Anton          House              good_condition, suburbs  for_sale\n",
       "7   Mr Anton            Dog                          animal, dog  for_sale\n",
       "8   Mrs Alex          Kitty                               animal  sold out\n",
       "9   Mrs Alex       Soft TOY             children, good_condition  for_sale"
      ]
     },
     "execution_count": 13,
     "metadata": {},
     "output_type": "execute_result"
    }
   ],
   "source": [
    "df.select_dtypes(include='string')"
   ]
  },
  {
   "cell_type": "markdown",
   "metadata": {},
   "source": [
    "### Получить информацию из строки\n",
    "\n",
    "ВНИМАНИЕ: Требуется понимание предметной области!"
   ]
  },
  {
   "cell_type": "code",
   "execution_count": 14,
   "metadata": {},
   "outputs": [
    {
     "data": {
      "text/plain": [
       "0    False\n",
       "1    False\n",
       "2    False\n",
       "3    False\n",
       "4     True\n",
       "5    False\n",
       "6    False\n",
       "7    False\n",
       "8     True\n",
       "9     True\n",
       "Name: user_sex, dtype: boolean"
      ]
     },
     "execution_count": 14,
     "metadata": {},
     "output_type": "execute_result"
    }
   ],
   "source": [
    "# предположим, что может быть только Mr или Mrs, тогда можно\n",
    "# создать колонку (bool) определяющую пол пользователя\n",
    "df['user_sex'] = df.user_name.str.contains(\"Mrs\")\n",
    "\n",
    "# False = Мужчина / True = Женщина\n",
    "df.user_sex"
   ]
  },
  {
   "cell_type": "markdown",
   "metadata": {},
   "source": [
    "### Сократить количество \"категорий\"\n",
    "\n",
    "ВНИМАНИЕ: Требуется понимание предметной области!\n",
    "\n",
    "*Может потребовать задействитвовать другие модели для получения похожих данных для группировки."
   ]
  },
  {
   "cell_type": "code",
   "execution_count": 15,
   "metadata": {},
   "outputs": [
    {
     "data": {
      "text/plain": [
       "House            1\n",
       "Toys             1\n",
       "Kitty            1\n",
       "Dog              1\n",
       "Television       1\n",
       "Car              1\n",
       "toy              1\n",
       "Beautiful Cat    1\n",
       "Soft TOY         1\n",
       "TV               1\n",
       "Name: title, dtype: Int64"
      ]
     },
     "execution_count": 15,
     "metadata": {},
     "output_type": "execute_result"
    }
   ],
   "source": [
    "# какие наименования имеются?\n",
    "df.title.value_counts()"
   ]
  },
  {
   "cell_type": "code",
   "execution_count": 16,
   "metadata": {},
   "outputs": [
    {
     "data": {
      "text/plain": [
       "{'toy': 'Toy', 'Toys': 'Toy', 'Soft TOY': 'Toy'}"
      ]
     },
     "execution_count": 16,
     "metadata": {},
     "output_type": "execute_result"
    }
   ],
   "source": [
    "# сформировать, что заменяем и на что\n",
    "toy_replacement = dict.fromkeys(['toy', 'Toys', 'Soft TOY'], 'Toy')\n",
    "toy_replacement"
   ]
  },
  {
   "cell_type": "code",
   "execution_count": 17,
   "metadata": {},
   "outputs": [
    {
     "data": {
      "text/plain": [
       "{'Beautiful Cat': 'Cat', 'Kitty': 'Cat'}"
      ]
     },
     "execution_count": 17,
     "metadata": {},
     "output_type": "execute_result"
    }
   ],
   "source": [
    "# сформировать, что заменяем и на что\n",
    "cat_replacement = dict.fromkeys(['Beautiful Cat', 'Kitty'], 'Cat')\n",
    "cat_replacement"
   ]
  },
  {
   "cell_type": "code",
   "execution_count": 18,
   "metadata": {},
   "outputs": [],
   "source": [
    "# заменить данные в столбце\n",
    "df.title.replace(to_replace=toy_replacement, inplace=True)\n",
    "df.title.replace(to_replace=cat_replacement, inplace=True)\n",
    "df.title.replace(to_replace='Television', value='TV', inplace=True)"
   ]
  },
  {
   "cell_type": "code",
   "execution_count": 19,
   "metadata": {},
   "outputs": [
    {
     "data": {
      "text/plain": [
       "Toy      3\n",
       "Cat      2\n",
       "TV       2\n",
       "Dog      1\n",
       "Car      1\n",
       "House    1\n",
       "Name: title, dtype: int64"
      ]
     },
     "execution_count": 19,
     "metadata": {},
     "output_type": "execute_result"
    }
   ],
   "source": [
    "df.title.value_counts()"
   ]
  },
  {
   "cell_type": "markdown",
   "metadata": {},
   "source": [
    "### Разделить строку на несколько признаков\n",
    "\n",
    "ВНИМАНИЕ: Требуется понимание предметной области!"
   ]
  },
  {
   "cell_type": "code",
   "execution_count": 20,
   "metadata": {},
   "outputs": [
    {
     "data": {
      "text/plain": [
       "0    children, beautiful, good_condition\n",
       "1                 animal, cat, beautiful\n",
       "2              beautiful, good_condition\n",
       "3                         good_condition\n",
       "4                       children, animal\n",
       "5                         good_condition\n",
       "6                good_condition, suburbs\n",
       "7                            animal, dog\n",
       "8                                 animal\n",
       "9               children, good_condition\n",
       "Name: tags, dtype: string"
      ]
     },
     "execution_count": 20,
     "metadata": {},
     "output_type": "execute_result"
    }
   ],
   "source": [
    "df.tags"
   ]
  },
  {
   "cell_type": "code",
   "execution_count": 21,
   "metadata": {},
   "outputs": [
    {
     "data": {
      "text/html": [
       "<div>\n",
       "<style scoped>\n",
       "    .dataframe tbody tr th:only-of-type {\n",
       "        vertical-align: middle;\n",
       "    }\n",
       "\n",
       "    .dataframe tbody tr th {\n",
       "        vertical-align: top;\n",
       "    }\n",
       "\n",
       "    .dataframe thead th {\n",
       "        text-align: right;\n",
       "    }\n",
       "</style>\n",
       "<table border=\"1\" class=\"dataframe\">\n",
       "  <thead>\n",
       "    <tr style=\"text-align: right;\">\n",
       "      <th></th>\n",
       "      <th>tag_children</th>\n",
       "      <th>tag_beautiful</th>\n",
       "      <th>tag_good_condition</th>\n",
       "      <th>tag_animal</th>\n",
       "      <th>tag_cat</th>\n",
       "      <th>tag_suburbs</th>\n",
       "      <th>tag_dog</th>\n",
       "    </tr>\n",
       "  </thead>\n",
       "  <tbody>\n",
       "    <tr>\n",
       "      <th>0</th>\n",
       "      <td>True</td>\n",
       "      <td>True</td>\n",
       "      <td>True</td>\n",
       "      <td>NaN</td>\n",
       "      <td>NaN</td>\n",
       "      <td>NaN</td>\n",
       "      <td>NaN</td>\n",
       "    </tr>\n",
       "    <tr>\n",
       "      <th>1</th>\n",
       "      <td>NaN</td>\n",
       "      <td>True</td>\n",
       "      <td>NaN</td>\n",
       "      <td>True</td>\n",
       "      <td>True</td>\n",
       "      <td>NaN</td>\n",
       "      <td>NaN</td>\n",
       "    </tr>\n",
       "    <tr>\n",
       "      <th>2</th>\n",
       "      <td>NaN</td>\n",
       "      <td>True</td>\n",
       "      <td>True</td>\n",
       "      <td>NaN</td>\n",
       "      <td>NaN</td>\n",
       "      <td>NaN</td>\n",
       "      <td>NaN</td>\n",
       "    </tr>\n",
       "    <tr>\n",
       "      <th>3</th>\n",
       "      <td>NaN</td>\n",
       "      <td>NaN</td>\n",
       "      <td>True</td>\n",
       "      <td>NaN</td>\n",
       "      <td>NaN</td>\n",
       "      <td>NaN</td>\n",
       "      <td>NaN</td>\n",
       "    </tr>\n",
       "    <tr>\n",
       "      <th>4</th>\n",
       "      <td>True</td>\n",
       "      <td>NaN</td>\n",
       "      <td>NaN</td>\n",
       "      <td>True</td>\n",
       "      <td>NaN</td>\n",
       "      <td>NaN</td>\n",
       "      <td>NaN</td>\n",
       "    </tr>\n",
       "    <tr>\n",
       "      <th>5</th>\n",
       "      <td>NaN</td>\n",
       "      <td>NaN</td>\n",
       "      <td>True</td>\n",
       "      <td>NaN</td>\n",
       "      <td>NaN</td>\n",
       "      <td>NaN</td>\n",
       "      <td>NaN</td>\n",
       "    </tr>\n",
       "    <tr>\n",
       "      <th>6</th>\n",
       "      <td>NaN</td>\n",
       "      <td>NaN</td>\n",
       "      <td>True</td>\n",
       "      <td>NaN</td>\n",
       "      <td>NaN</td>\n",
       "      <td>True</td>\n",
       "      <td>NaN</td>\n",
       "    </tr>\n",
       "    <tr>\n",
       "      <th>7</th>\n",
       "      <td>NaN</td>\n",
       "      <td>NaN</td>\n",
       "      <td>NaN</td>\n",
       "      <td>True</td>\n",
       "      <td>NaN</td>\n",
       "      <td>NaN</td>\n",
       "      <td>True</td>\n",
       "    </tr>\n",
       "    <tr>\n",
       "      <th>8</th>\n",
       "      <td>NaN</td>\n",
       "      <td>NaN</td>\n",
       "      <td>NaN</td>\n",
       "      <td>True</td>\n",
       "      <td>NaN</td>\n",
       "      <td>NaN</td>\n",
       "      <td>NaN</td>\n",
       "    </tr>\n",
       "    <tr>\n",
       "      <th>9</th>\n",
       "      <td>True</td>\n",
       "      <td>NaN</td>\n",
       "      <td>True</td>\n",
       "      <td>NaN</td>\n",
       "      <td>NaN</td>\n",
       "      <td>NaN</td>\n",
       "      <td>NaN</td>\n",
       "    </tr>\n",
       "  </tbody>\n",
       "</table>\n",
       "</div>"
      ],
      "text/plain": [
       "  tag_children tag_beautiful tag_good_condition tag_animal tag_cat  \\\n",
       "0         True          True               True        NaN     NaN   \n",
       "1          NaN          True                NaN       True    True   \n",
       "2          NaN          True               True        NaN     NaN   \n",
       "3          NaN           NaN               True        NaN     NaN   \n",
       "4         True           NaN                NaN       True     NaN   \n",
       "5          NaN           NaN               True        NaN     NaN   \n",
       "6          NaN           NaN               True        NaN     NaN   \n",
       "7          NaN           NaN                NaN       True     NaN   \n",
       "8          NaN           NaN                NaN       True     NaN   \n",
       "9         True           NaN               True        NaN     NaN   \n",
       "\n",
       "  tag_suburbs tag_dog  \n",
       "0         NaN     NaN  \n",
       "1         NaN     NaN  \n",
       "2         NaN     NaN  \n",
       "3         NaN     NaN  \n",
       "4         NaN     NaN  \n",
       "5         NaN     NaN  \n",
       "6        True     NaN  \n",
       "7         NaN    True  \n",
       "8         NaN     NaN  \n",
       "9         NaN     NaN  "
      ]
     },
     "execution_count": 21,
     "metadata": {},
     "output_type": "execute_result"
    }
   ],
   "source": [
    "# в параметр index попадает список тегов (разделенных), к ним добавляется префикс tag_\n",
    "# метод apply применяется для каждой строки и возвращает DataFrame\n",
    "tags_df = df.tags.apply(lambda x: pd.Series(True, index=[f'tag_{tag}' for tag in x.split(\", \")]))\n",
    "tags_df"
   ]
  },
  {
   "cell_type": "code",
   "execution_count": 22,
   "metadata": {},
   "outputs": [
    {
     "data": {
      "text/html": [
       "<div>\n",
       "<style scoped>\n",
       "    .dataframe tbody tr th:only-of-type {\n",
       "        vertical-align: middle;\n",
       "    }\n",
       "\n",
       "    .dataframe tbody tr th {\n",
       "        vertical-align: top;\n",
       "    }\n",
       "\n",
       "    .dataframe thead th {\n",
       "        text-align: right;\n",
       "    }\n",
       "</style>\n",
       "<table border=\"1\" class=\"dataframe\">\n",
       "  <thead>\n",
       "    <tr style=\"text-align: right;\">\n",
       "      <th></th>\n",
       "      <th>tag_children</th>\n",
       "      <th>tag_beautiful</th>\n",
       "      <th>tag_good_condition</th>\n",
       "      <th>tag_animal</th>\n",
       "      <th>tag_cat</th>\n",
       "      <th>tag_suburbs</th>\n",
       "      <th>tag_dog</th>\n",
       "    </tr>\n",
       "  </thead>\n",
       "  <tbody>\n",
       "    <tr>\n",
       "      <th>0</th>\n",
       "      <td>True</td>\n",
       "      <td>True</td>\n",
       "      <td>True</td>\n",
       "      <td>False</td>\n",
       "      <td>False</td>\n",
       "      <td>False</td>\n",
       "      <td>False</td>\n",
       "    </tr>\n",
       "    <tr>\n",
       "      <th>1</th>\n",
       "      <td>False</td>\n",
       "      <td>True</td>\n",
       "      <td>False</td>\n",
       "      <td>True</td>\n",
       "      <td>True</td>\n",
       "      <td>False</td>\n",
       "      <td>False</td>\n",
       "    </tr>\n",
       "    <tr>\n",
       "      <th>2</th>\n",
       "      <td>False</td>\n",
       "      <td>True</td>\n",
       "      <td>True</td>\n",
       "      <td>False</td>\n",
       "      <td>False</td>\n",
       "      <td>False</td>\n",
       "      <td>False</td>\n",
       "    </tr>\n",
       "    <tr>\n",
       "      <th>3</th>\n",
       "      <td>False</td>\n",
       "      <td>False</td>\n",
       "      <td>True</td>\n",
       "      <td>False</td>\n",
       "      <td>False</td>\n",
       "      <td>False</td>\n",
       "      <td>False</td>\n",
       "    </tr>\n",
       "    <tr>\n",
       "      <th>4</th>\n",
       "      <td>True</td>\n",
       "      <td>False</td>\n",
       "      <td>False</td>\n",
       "      <td>True</td>\n",
       "      <td>False</td>\n",
       "      <td>False</td>\n",
       "      <td>False</td>\n",
       "    </tr>\n",
       "    <tr>\n",
       "      <th>5</th>\n",
       "      <td>False</td>\n",
       "      <td>False</td>\n",
       "      <td>True</td>\n",
       "      <td>False</td>\n",
       "      <td>False</td>\n",
       "      <td>False</td>\n",
       "      <td>False</td>\n",
       "    </tr>\n",
       "    <tr>\n",
       "      <th>6</th>\n",
       "      <td>False</td>\n",
       "      <td>False</td>\n",
       "      <td>True</td>\n",
       "      <td>False</td>\n",
       "      <td>False</td>\n",
       "      <td>True</td>\n",
       "      <td>False</td>\n",
       "    </tr>\n",
       "    <tr>\n",
       "      <th>7</th>\n",
       "      <td>False</td>\n",
       "      <td>False</td>\n",
       "      <td>False</td>\n",
       "      <td>True</td>\n",
       "      <td>False</td>\n",
       "      <td>False</td>\n",
       "      <td>True</td>\n",
       "    </tr>\n",
       "    <tr>\n",
       "      <th>8</th>\n",
       "      <td>False</td>\n",
       "      <td>False</td>\n",
       "      <td>False</td>\n",
       "      <td>True</td>\n",
       "      <td>False</td>\n",
       "      <td>False</td>\n",
       "      <td>False</td>\n",
       "    </tr>\n",
       "    <tr>\n",
       "      <th>9</th>\n",
       "      <td>True</td>\n",
       "      <td>False</td>\n",
       "      <td>True</td>\n",
       "      <td>False</td>\n",
       "      <td>False</td>\n",
       "      <td>False</td>\n",
       "      <td>False</td>\n",
       "    </tr>\n",
       "  </tbody>\n",
       "</table>\n",
       "</div>"
      ],
      "text/plain": [
       "   tag_children  tag_beautiful  tag_good_condition  tag_animal  tag_cat  \\\n",
       "0          True           True                True       False    False   \n",
       "1         False           True               False        True     True   \n",
       "2         False           True                True       False    False   \n",
       "3         False          False                True       False    False   \n",
       "4          True          False               False        True    False   \n",
       "5         False          False                True       False    False   \n",
       "6         False          False                True       False    False   \n",
       "7         False          False               False        True    False   \n",
       "8         False          False               False        True    False   \n",
       "9          True          False                True       False    False   \n",
       "\n",
       "   tag_suburbs  tag_dog  \n",
       "0        False    False  \n",
       "1        False    False  \n",
       "2        False    False  \n",
       "3        False    False  \n",
       "4        False    False  \n",
       "5        False    False  \n",
       "6         True    False  \n",
       "7        False     True  \n",
       "8        False    False  \n",
       "9        False    False  "
      ]
     },
     "execution_count": 22,
     "metadata": {},
     "output_type": "execute_result"
    }
   ],
   "source": [
    "# все незаполненные значения (NA) заменяются на False\n",
    "tags_df = tags_df.fillna(False)\n",
    "tags_df"
   ]
  },
  {
   "cell_type": "code",
   "execution_count": 23,
   "metadata": {},
   "outputs": [],
   "source": [
    "# присоединить колонки с тегами к df\n",
    "df = df.join(tags_df)"
   ]
  },
  {
   "cell_type": "markdown",
   "metadata": {},
   "source": [
    "### Преобразовать к другому типу\n",
    "\n",
    "ВНИМАНИЕ: Требуется понимание предметной области!"
   ]
  },
  {
   "cell_type": "code",
   "execution_count": 24,
   "metadata": {},
   "outputs": [
    {
     "data": {
      "text/plain": [
       "0    sold out\n",
       "1    for_sale\n",
       "2    for_sale\n",
       "3    for_sale\n",
       "4    sold out\n",
       "5    sold out\n",
       "6    for_sale\n",
       "7    for_sale\n",
       "8    sold out\n",
       "9    for_sale\n",
       "Name: status, dtype: string"
      ]
     },
     "execution_count": 24,
     "metadata": {},
     "output_type": "execute_result"
    }
   ],
   "source": [
    "df.status"
   ]
  },
  {
   "cell_type": "code",
   "execution_count": 25,
   "metadata": {},
   "outputs": [
    {
     "data": {
      "text/html": [
       "<div>\n",
       "<style scoped>\n",
       "    .dataframe tbody tr th:only-of-type {\n",
       "        vertical-align: middle;\n",
       "    }\n",
       "\n",
       "    .dataframe tbody tr th {\n",
       "        vertical-align: top;\n",
       "    }\n",
       "\n",
       "    .dataframe thead th {\n",
       "        text-align: right;\n",
       "    }\n",
       "</style>\n",
       "<table border=\"1\" class=\"dataframe\">\n",
       "  <thead>\n",
       "    <tr style=\"text-align: right;\">\n",
       "      <th></th>\n",
       "      <th>user_name</th>\n",
       "      <th>user_rating</th>\n",
       "      <th>title</th>\n",
       "      <th>tags</th>\n",
       "      <th>item_age_month</th>\n",
       "      <th>item_color</th>\n",
       "      <th>open_date_time</th>\n",
       "      <th>status</th>\n",
       "      <th>user_sex</th>\n",
       "      <th>tag_children</th>\n",
       "      <th>tag_beautiful</th>\n",
       "      <th>tag_good_condition</th>\n",
       "      <th>tag_animal</th>\n",
       "      <th>tag_cat</th>\n",
       "      <th>tag_suburbs</th>\n",
       "      <th>tag_dog</th>\n",
       "      <th>is_sold_out</th>\n",
       "    </tr>\n",
       "  </thead>\n",
       "  <tbody>\n",
       "    <tr>\n",
       "      <th>0</th>\n",
       "      <td>Mr Oleg</td>\n",
       "      <td>5 star</td>\n",
       "      <td>Toy</td>\n",
       "      <td>children, beautiful, good_condition</td>\n",
       "      <td>0-1</td>\n",
       "      <td>red</td>\n",
       "      <td>2020-10-10 18:25:00</td>\n",
       "      <td>sold out</td>\n",
       "      <td>False</td>\n",
       "      <td>True</td>\n",
       "      <td>True</td>\n",
       "      <td>True</td>\n",
       "      <td>False</td>\n",
       "      <td>False</td>\n",
       "      <td>False</td>\n",
       "      <td>False</td>\n",
       "      <td>True</td>\n",
       "    </tr>\n",
       "    <tr>\n",
       "      <th>1</th>\n",
       "      <td>Mr Oleg</td>\n",
       "      <td>5 star</td>\n",
       "      <td>Cat</td>\n",
       "      <td>animal, cat, beautiful</td>\n",
       "      <td>1-6</td>\n",
       "      <td>blue</td>\n",
       "      <td>2020-12-20 16:36:00</td>\n",
       "      <td>for_sale</td>\n",
       "      <td>False</td>\n",
       "      <td>False</td>\n",
       "      <td>True</td>\n",
       "      <td>False</td>\n",
       "      <td>True</td>\n",
       "      <td>True</td>\n",
       "      <td>False</td>\n",
       "      <td>False</td>\n",
       "      <td>False</td>\n",
       "    </tr>\n",
       "    <tr>\n",
       "      <th>2</th>\n",
       "      <td>Mr Pete</td>\n",
       "      <td>3 star</td>\n",
       "      <td>Car</td>\n",
       "      <td>beautiful, good_condition</td>\n",
       "      <td>6-12</td>\n",
       "      <td>rainbow</td>\n",
       "      <td>2021-06-04 10:14:00</td>\n",
       "      <td>for_sale</td>\n",
       "      <td>False</td>\n",
       "      <td>False</td>\n",
       "      <td>True</td>\n",
       "      <td>True</td>\n",
       "      <td>False</td>\n",
       "      <td>False</td>\n",
       "      <td>False</td>\n",
       "      <td>False</td>\n",
       "      <td>False</td>\n",
       "    </tr>\n",
       "    <tr>\n",
       "      <th>3</th>\n",
       "      <td>Mr Pete</td>\n",
       "      <td>3 star</td>\n",
       "      <td>TV</td>\n",
       "      <td>good_condition</td>\n",
       "      <td>12+</td>\n",
       "      <td>white</td>\n",
       "      <td>2021-07-04 23:25:00</td>\n",
       "      <td>for_sale</td>\n",
       "      <td>False</td>\n",
       "      <td>False</td>\n",
       "      <td>False</td>\n",
       "      <td>True</td>\n",
       "      <td>False</td>\n",
       "      <td>False</td>\n",
       "      <td>False</td>\n",
       "      <td>False</td>\n",
       "      <td>False</td>\n",
       "    </tr>\n",
       "    <tr>\n",
       "      <th>4</th>\n",
       "      <td>Mrs Elena</td>\n",
       "      <td>1 star</td>\n",
       "      <td>Toy</td>\n",
       "      <td>children, animal</td>\n",
       "      <td>1-6</td>\n",
       "      <td>red</td>\n",
       "      <td>2020-11-25 06:17:00</td>\n",
       "      <td>sold out</td>\n",
       "      <td>True</td>\n",
       "      <td>True</td>\n",
       "      <td>False</td>\n",
       "      <td>False</td>\n",
       "      <td>True</td>\n",
       "      <td>False</td>\n",
       "      <td>False</td>\n",
       "      <td>False</td>\n",
       "      <td>True</td>\n",
       "    </tr>\n",
       "    <tr>\n",
       "      <th>5</th>\n",
       "      <td>Mr Viktor</td>\n",
       "      <td>2 star</td>\n",
       "      <td>TV</td>\n",
       "      <td>good_condition</td>\n",
       "      <td>1-6</td>\n",
       "      <td>white</td>\n",
       "      <td>2020-12-16 15:15:00</td>\n",
       "      <td>sold out</td>\n",
       "      <td>False</td>\n",
       "      <td>False</td>\n",
       "      <td>False</td>\n",
       "      <td>True</td>\n",
       "      <td>False</td>\n",
       "      <td>False</td>\n",
       "      <td>False</td>\n",
       "      <td>False</td>\n",
       "      <td>True</td>\n",
       "    </tr>\n",
       "    <tr>\n",
       "      <th>6</th>\n",
       "      <td>Mr Anton</td>\n",
       "      <td>5 star</td>\n",
       "      <td>House</td>\n",
       "      <td>good_condition, suburbs</td>\n",
       "      <td>12+</td>\n",
       "      <td>rainbow</td>\n",
       "      <td>2021-10-03 09:08:00</td>\n",
       "      <td>for_sale</td>\n",
       "      <td>False</td>\n",
       "      <td>False</td>\n",
       "      <td>False</td>\n",
       "      <td>True</td>\n",
       "      <td>False</td>\n",
       "      <td>False</td>\n",
       "      <td>True</td>\n",
       "      <td>False</td>\n",
       "      <td>False</td>\n",
       "    </tr>\n",
       "    <tr>\n",
       "      <th>7</th>\n",
       "      <td>Mr Anton</td>\n",
       "      <td>5 star</td>\n",
       "      <td>Dog</td>\n",
       "      <td>animal, dog</td>\n",
       "      <td>0-1</td>\n",
       "      <td>white</td>\n",
       "      <td>2020-12-31 04:57:00</td>\n",
       "      <td>for_sale</td>\n",
       "      <td>False</td>\n",
       "      <td>False</td>\n",
       "      <td>False</td>\n",
       "      <td>False</td>\n",
       "      <td>True</td>\n",
       "      <td>False</td>\n",
       "      <td>False</td>\n",
       "      <td>True</td>\n",
       "      <td>False</td>\n",
       "    </tr>\n",
       "    <tr>\n",
       "      <th>8</th>\n",
       "      <td>Mrs Alex</td>\n",
       "      <td>4 star</td>\n",
       "      <td>Cat</td>\n",
       "      <td>animal</td>\n",
       "      <td>6-12</td>\n",
       "      <td>white</td>\n",
       "      <td>2020-12-28 12:54:00</td>\n",
       "      <td>sold out</td>\n",
       "      <td>True</td>\n",
       "      <td>False</td>\n",
       "      <td>False</td>\n",
       "      <td>False</td>\n",
       "      <td>True</td>\n",
       "      <td>False</td>\n",
       "      <td>False</td>\n",
       "      <td>False</td>\n",
       "      <td>True</td>\n",
       "    </tr>\n",
       "    <tr>\n",
       "      <th>9</th>\n",
       "      <td>Mrs Alex</td>\n",
       "      <td>4 star</td>\n",
       "      <td>Toy</td>\n",
       "      <td>children, good_condition</td>\n",
       "      <td>6-12</td>\n",
       "      <td>blue</td>\n",
       "      <td>2020-12-29 23:25:00</td>\n",
       "      <td>for_sale</td>\n",
       "      <td>True</td>\n",
       "      <td>True</td>\n",
       "      <td>False</td>\n",
       "      <td>True</td>\n",
       "      <td>False</td>\n",
       "      <td>False</td>\n",
       "      <td>False</td>\n",
       "      <td>False</td>\n",
       "      <td>False</td>\n",
       "    </tr>\n",
       "  </tbody>\n",
       "</table>\n",
       "</div>"
      ],
      "text/plain": [
       "   user_name user_rating  title                                 tags  \\\n",
       "0    Mr Oleg      5 star    Toy  children, beautiful, good_condition   \n",
       "1    Mr Oleg      5 star    Cat               animal, cat, beautiful   \n",
       "2    Mr Pete      3 star    Car            beautiful, good_condition   \n",
       "3    Mr Pete      3 star     TV                       good_condition   \n",
       "4  Mrs Elena      1 star    Toy                     children, animal   \n",
       "5  Mr Viktor      2 star     TV                       good_condition   \n",
       "6   Mr Anton      5 star  House              good_condition, suburbs   \n",
       "7   Mr Anton      5 star    Dog                          animal, dog   \n",
       "8   Mrs Alex      4 star    Cat                               animal   \n",
       "9   Mrs Alex      4 star    Toy             children, good_condition   \n",
       "\n",
       "  item_age_month item_color      open_date_time    status  user_sex  \\\n",
       "0            0-1        red 2020-10-10 18:25:00  sold out     False   \n",
       "1            1-6       blue 2020-12-20 16:36:00  for_sale     False   \n",
       "2           6-12    rainbow 2021-06-04 10:14:00  for_sale     False   \n",
       "3            12+      white 2021-07-04 23:25:00  for_sale     False   \n",
       "4            1-6        red 2020-11-25 06:17:00  sold out      True   \n",
       "5            1-6      white 2020-12-16 15:15:00  sold out     False   \n",
       "6            12+    rainbow 2021-10-03 09:08:00  for_sale     False   \n",
       "7            0-1      white 2020-12-31 04:57:00  for_sale     False   \n",
       "8           6-12      white 2020-12-28 12:54:00  sold out      True   \n",
       "9           6-12       blue 2020-12-29 23:25:00  for_sale      True   \n",
       "\n",
       "   tag_children  tag_beautiful  tag_good_condition  tag_animal  tag_cat  \\\n",
       "0          True           True                True       False    False   \n",
       "1         False           True               False        True     True   \n",
       "2         False           True                True       False    False   \n",
       "3         False          False                True       False    False   \n",
       "4          True          False               False        True    False   \n",
       "5         False          False                True       False    False   \n",
       "6         False          False                True       False    False   \n",
       "7         False          False               False        True    False   \n",
       "8         False          False               False        True    False   \n",
       "9          True          False                True       False    False   \n",
       "\n",
       "   tag_suburbs  tag_dog  is_sold_out  \n",
       "0        False    False         True  \n",
       "1        False    False        False  \n",
       "2        False    False        False  \n",
       "3        False    False        False  \n",
       "4        False    False         True  \n",
       "5        False    False         True  \n",
       "6         True    False        False  \n",
       "7        False     True        False  \n",
       "8        False    False         True  \n",
       "9        False    False        False  "
      ]
     },
     "execution_count": 25,
     "metadata": {},
     "output_type": "execute_result"
    }
   ],
   "source": [
    "df['is_sold_out'] = df.status.map({'sold out': True, 'for_sale': False})\n",
    "df"
   ]
  },
  {
   "cell_type": "markdown",
   "metadata": {},
   "source": [
    "## Категориальные признаки"
   ]
  },
  {
   "cell_type": "markdown",
   "metadata": {},
   "source": [
    "**Пример:**\n",
    "Цвет (color), т.е. синий (blue), красный (red), зеленый (green).\n",
    "\n",
    "\n",
    "**Возможное решение:**\n",
    "- Добавить комбинации признаков вида is_red, is_blue, is_green, is_red_or_blue и т.п.\n",
    "- Разбиение на интервалы (Binning = `cut`/`qcut`).\n",
    "- Категория -> число (`map`, `replace`, `Dummies`, `OrdinalEncoder`, `LabelEncoder`, `OneHotEncoder`).\n",
    "- Заменить признаки на их количество (`CountEncoder`).\n",
    "- `TargetEncoder`.\n",
    "- `CatBoostEncoder`."
   ]
  },
  {
   "cell_type": "markdown",
   "metadata": {},
   "source": [
    "### Загрузка данных\n",
    "\n",
    "[Источник (OC2Emission)](https://www.kaggle.com/gangliu/oc2emission)"
   ]
  },
  {
   "cell_type": "code",
   "execution_count": 26,
   "metadata": {
    "collapsed": false,
    "jupyter": {
     "outputs_hidden": false
    },
    "pycharm": {
     "name": "#%%\n"
    }
   },
   "outputs": [],
   "source": [
    "# df = pd.read_csv(\"./../../data/FuelConsumptionCo2.csv\")\n",
    "# df"
   ]
  },
  {
   "cell_type": "code",
   "execution_count": 27,
   "metadata": {
    "collapsed": false,
    "jupyter": {
     "outputs_hidden": false
    },
    "pycharm": {
     "name": "#%%\n"
    }
   },
   "outputs": [
    {
     "name": "stdout",
     "output_type": "stream",
     "text": [
      "<class 'pandas.core.frame.DataFrame'>\n",
      "RangeIndex: 10 entries, 0 to 9\n",
      "Data columns (total 17 columns):\n",
      " #   Column              Non-Null Count  Dtype         \n",
      "---  ------              --------------  -----         \n",
      " 0   user_name           10 non-null     string        \n",
      " 1   user_rating         10 non-null     category      \n",
      " 2   title               10 non-null     object        \n",
      " 3   tags                10 non-null     string        \n",
      " 4   item_age_month      10 non-null     category      \n",
      " 5   item_color          10 non-null     category      \n",
      " 6   open_date_time      10 non-null     datetime64[ns]\n",
      " 7   status              10 non-null     string        \n",
      " 8   user_sex            10 non-null     boolean       \n",
      " 9   tag_children        10 non-null     bool          \n",
      " 10  tag_beautiful       10 non-null     bool          \n",
      " 11  tag_good_condition  10 non-null     bool          \n",
      " 12  tag_animal          10 non-null     bool          \n",
      " 13  tag_cat             10 non-null     bool          \n",
      " 14  tag_suburbs         10 non-null     bool          \n",
      " 15  tag_dog             10 non-null     bool          \n",
      " 16  is_sold_out         10 non-null     bool          \n",
      "dtypes: bool(8), boolean(1), category(3), datetime64[ns](1), object(1), string(3)\n",
      "memory usage: 1.2+ KB\n"
     ]
    }
   ],
   "source": [
    "df.info()"
   ]
  },
  {
   "cell_type": "code",
   "execution_count": 28,
   "metadata": {
    "collapsed": false,
    "jupyter": {
     "outputs_hidden": false
    },
    "pycharm": {
     "name": "#%%\n"
    }
   },
   "outputs": [
    {
     "ename": "AttributeError",
     "evalue": "'DataFrame' object has no attribute 'MAKE'",
     "output_type": "error",
     "traceback": [
      "\u001b[0;31m---------------------------------------------------------------------------\u001b[0m",
      "\u001b[0;31mAttributeError\u001b[0m                            Traceback (most recent call last)",
      "\u001b[0;32m<ipython-input-28-ea73e281f4d9>\u001b[0m in \u001b[0;36m<module>\u001b[0;34m\u001b[0m\n\u001b[0;32m----> 1\u001b[0;31m \u001b[0mdf\u001b[0m\u001b[0;34m.\u001b[0m\u001b[0mMAKE\u001b[0m\u001b[0;34m.\u001b[0m\u001b[0mvalue_counts\u001b[0m\u001b[0;34m(\u001b[0m\u001b[0;34m)\u001b[0m\u001b[0;34m\u001b[0m\u001b[0;34m\u001b[0m\u001b[0m\n\u001b[0m",
      "\u001b[0;32m~/anaconda3/envs/LevelUp_DataScience/lib/python3.8/site-packages/pandas/core/generic.py\u001b[0m in \u001b[0;36m__getattr__\u001b[0;34m(self, name)\u001b[0m\n\u001b[1;32m   5463\u001b[0m             \u001b[0;32mif\u001b[0m \u001b[0mself\u001b[0m\u001b[0;34m.\u001b[0m\u001b[0m_info_axis\u001b[0m\u001b[0;34m.\u001b[0m\u001b[0m_can_hold_identifiers_and_holds_name\u001b[0m\u001b[0;34m(\u001b[0m\u001b[0mname\u001b[0m\u001b[0;34m)\u001b[0m\u001b[0;34m:\u001b[0m\u001b[0;34m\u001b[0m\u001b[0;34m\u001b[0m\u001b[0m\n\u001b[1;32m   5464\u001b[0m                 \u001b[0;32mreturn\u001b[0m \u001b[0mself\u001b[0m\u001b[0;34m[\u001b[0m\u001b[0mname\u001b[0m\u001b[0;34m]\u001b[0m\u001b[0;34m\u001b[0m\u001b[0;34m\u001b[0m\u001b[0m\n\u001b[0;32m-> 5465\u001b[0;31m             \u001b[0;32mreturn\u001b[0m \u001b[0mobject\u001b[0m\u001b[0;34m.\u001b[0m\u001b[0m__getattribute__\u001b[0m\u001b[0;34m(\u001b[0m\u001b[0mself\u001b[0m\u001b[0;34m,\u001b[0m \u001b[0mname\u001b[0m\u001b[0;34m)\u001b[0m\u001b[0;34m\u001b[0m\u001b[0;34m\u001b[0m\u001b[0m\n\u001b[0m\u001b[1;32m   5466\u001b[0m \u001b[0;34m\u001b[0m\u001b[0m\n\u001b[1;32m   5467\u001b[0m     \u001b[0;32mdef\u001b[0m \u001b[0m__setattr__\u001b[0m\u001b[0;34m(\u001b[0m\u001b[0mself\u001b[0m\u001b[0;34m,\u001b[0m \u001b[0mname\u001b[0m\u001b[0;34m:\u001b[0m \u001b[0mstr\u001b[0m\u001b[0;34m,\u001b[0m \u001b[0mvalue\u001b[0m\u001b[0;34m)\u001b[0m \u001b[0;34m->\u001b[0m \u001b[0;32mNone\u001b[0m\u001b[0;34m:\u001b[0m\u001b[0;34m\u001b[0m\u001b[0;34m\u001b[0m\u001b[0m\n",
      "\u001b[0;31mAttributeError\u001b[0m: 'DataFrame' object has no attribute 'MAKE'"
     ]
    }
   ],
   "source": [
    "df.MAKE.value_counts()"
   ]
  },
  {
   "cell_type": "code",
   "execution_count": null,
   "metadata": {
    "pycharm": {
     "name": "#%%\n"
    }
   },
   "outputs": [],
   "source": [
    "# очень много вариантов, все почти уникальные\n",
    "df.MODEL.value_counts()"
   ]
  },
  {
   "cell_type": "code",
   "execution_count": null,
   "metadata": {
    "collapsed": false,
    "jupyter": {
     "outputs_hidden": false
    },
    "pycharm": {
     "name": "#%%\n"
    }
   },
   "outputs": [],
   "source": [
    "df.VEHICLECLASS.value_counts()"
   ]
  },
  {
   "cell_type": "code",
   "execution_count": null,
   "metadata": {
    "collapsed": false,
    "jupyter": {
     "outputs_hidden": false
    },
    "pycharm": {
     "name": "#%%\n"
    }
   },
   "outputs": [],
   "source": [
    "df.FUELTYPE.value_counts()"
   ]
  },
  {
   "cell_type": "code",
   "execution_count": null,
   "metadata": {
    "collapsed": false,
    "jupyter": {
     "outputs_hidden": false
    },
    "pycharm": {
     "name": "#%%\n"
    }
   },
   "outputs": [],
   "source": [
    "cat_features = ['FUELTYPE']    # ['FUELTYPE', 'MAKE', 'VEHICLECLASS']"
   ]
  },
  {
   "cell_type": "markdown",
   "metadata": {},
   "source": [
    "### Комбинации признаков"
   ]
  },
  {
   "cell_type": "code",
   "execution_count": null,
   "metadata": {},
   "outputs": [],
   "source": [
    "df['is_FUELTYPE_X'] = df.FUELTYPE == 'X'\n",
    "df['is_FUELTYPE_Z'] = df.FUELTYPE == 'Z'\n",
    "df['is_FUELTYPE_E'] = df.FUELTYPE == 'E'\n",
    "df['is_FUELTYPE_D'] = df.FUELTYPE == 'D'"
   ]
  },
  {
   "cell_type": "code",
   "execution_count": null,
   "metadata": {},
   "outputs": [],
   "source": [
    "df['is_FUELTYPE_X_or_Z'] = (df.FUELTYPE == 'X') | (df.FUELTYPE == 'Z')\n",
    "df['is_FUELTYPE_Y_or_E'] = (df.FUELTYPE == 'Y') | (df.FUELTYPE == 'E')"
   ]
  },
  {
   "cell_type": "code",
   "execution_count": null,
   "metadata": {},
   "outputs": [],
   "source": [
    "df"
   ]
  },
  {
   "cell_type": "markdown",
   "metadata": {},
   "source": [
    "### Binning"
   ]
  },
  {
   "cell_type": "code",
   "execution_count": null,
   "metadata": {},
   "outputs": [],
   "source": []
  },
  {
   "cell_type": "code",
   "execution_count": null,
   "metadata": {},
   "outputs": [],
   "source": []
  },
  {
   "cell_type": "markdown",
   "metadata": {},
   "source": [
    "### Replace"
   ]
  },
  {
   "cell_type": "code",
   "execution_count": null,
   "metadata": {},
   "outputs": [],
   "source": [
    "# ВНИМАНИЕ: не удаляет значения, которые не указаны в replace\n",
    "df['FUELTYPE_new'] = df.FUELTYPE.replace({'D': 1, 'E': 2, 'Z': 3, 'X': 4})\n",
    "df.FUELTYPE_new.value_counts()"
   ]
  },
  {
   "cell_type": "markdown",
   "metadata": {},
   "source": [
    "### Map"
   ]
  },
  {
   "cell_type": "code",
   "execution_count": null,
   "metadata": {
    "collapsed": false,
    "jupyter": {
     "outputs_hidden": false
    },
    "pycharm": {
     "name": "#%%\n"
    }
   },
   "outputs": [],
   "source": []
  },
  {
   "cell_type": "markdown",
   "metadata": {},
   "source": [
    "### Dummies\n",
    "\n",
    "- `pd.get_dummies` приводит к матрице `Pandas DataFrame`, тогда как `OneHotEncoder` приводит к матрице `SciPy CSR`.\n",
    "\n",
    "- `pd.get_dummies` намного быстрее, чем `OneHotEncoder`.\n",
    "\n",
    "- `OneHotEncoder` не может обрабатывать строковые значения напрямую. Если ваши номинальные характеристики представляют собой строки, вам необходимо сначала сопоставить их с целыми числами.\n",
    "\n",
    "- `pandas.get_dummies` - полная противоположность. По умолчанию он преобразует только строковые столбцы в one-hot представление, если столбцы не указаны.\n",
    "\n",
    "- Суть в том, что кодировщик `OneHotEncoder` создает функцию, которая сохраняется и затем может применяться к новым наборам данных, которые используют те же категориальные переменные, с согласованными результатами.\n",
    "\n",
    "- С другой стороны, с `sklearn.OneHotEncoder`, после того как мы создали кодировщик, мы можем повторно использовать его для получения одного и того же вывода каждый раз, со столбцами только для \"красного\" и \"зеленого\".\n",
    "Невозможно явно контролировать, что происходит, когда встречается новый \"синий\": если предполагается, что это невозможно, то можно указать, чтобы он выдал ошибку с помощью `handle_unknown = \"error\"`; в противном случае мы можем сказать ему продолжить и просто установить красный и зеленый столбцы в 0 с помощью `handle_unknown = \"ignore\"`."
   ]
  },
  {
   "cell_type": "code",
   "execution_count": null,
   "metadata": {
    "collapsed": false,
    "jupyter": {
     "outputs_hidden": false
    },
    "pycharm": {
     "name": "#%%\n"
    }
   },
   "outputs": [],
   "source": [
    "dummies = pd.get_dummies(df[cat_features])\n",
    "dummies"
   ]
  },
  {
   "cell_type": "code",
   "execution_count": null,
   "metadata": {
    "collapsed": false,
    "jupyter": {
     "outputs_hidden": false
    },
    "pycharm": {
     "name": "#%%\n"
    }
   },
   "outputs": [],
   "source": [
    "new_df = df_num.join(dummies)\n",
    "new_df"
   ]
  },
  {
   "cell_type": "markdown",
   "metadata": {},
   "source": [
    "### OrdinalEncoder"
   ]
  },
  {
   "cell_type": "code",
   "execution_count": null,
   "metadata": {
    "collapsed": false,
    "jupyter": {
     "outputs_hidden": false
    },
    "pycharm": {
     "name": "#%%\n"
    }
   },
   "outputs": [],
   "source": []
  },
  {
   "cell_type": "markdown",
   "metadata": {},
   "source": [
    "### LabelEncoder\n",
    "\n",
    "Объект `LabelEncoder` присваивает каждому уникальному значению отдельное целое число.\n",
    "\n",
    "<img src=\"images/label_encoder_example.png\"/>\n",
    "\n",
    "Этот подход **предполагает упорядочение категорий**:\n",
    "\n",
    "`Никогда (0) < Редко (1) < Большинство дней (2) < Каждый день (3)`.\n",
    "\n",
    "Это предположение имеет смысл в этом примере, потому что существует неоспоримое ранжирование категорий.\n",
    "\n",
    "Не все категориальные переменные имеют четкий порядок значений, но мы называем те, которые имеют **порядковыми переменными**.\n",
    "\n",
    "Для моделей на основе деревьев (таких, как деревья решений = `decision trees` и случайные леса = `random forests`) можно ожидать, что кодирование меток будет хорошо работать с порядковыми переменными."
   ]
  },
  {
   "cell_type": "code",
   "execution_count": null,
   "metadata": {
    "collapsed": false,
    "jupyter": {
     "outputs_hidden": false
    },
    "pycharm": {
     "name": "#%%\n"
    }
   },
   "outputs": [],
   "source": [
    "from sklearn.preprocessing import LabelEncoder\n",
    "\n",
    "encoder = LabelEncoder()\n",
    "\n",
    "encoded = df[cat_features].apply(encoder.fit_transform)\n",
    "encoded"
   ]
  },
  {
   "cell_type": "code",
   "execution_count": null,
   "metadata": {
    "collapsed": false,
    "jupyter": {
     "outputs_hidden": false
    },
    "pycharm": {
     "name": "#%%\n"
    }
   },
   "outputs": [],
   "source": [
    "new_df = df_num.join(encoded)\n",
    "new_df"
   ]
  },
  {
   "cell_type": "markdown",
   "metadata": {},
   "source": [
    "### OneHotEncoder\n",
    "\n",
    "При использовании `OneHotEncoder` создаются новые столбцы, указывающие на наличие (или отсутствие) каждого возможного значения в исходных данных.\n",
    "\n",
    "<img src=\"images/one_hot_encoder_example.png\" />\n",
    "\n",
    "В исходном наборе данных \"Цвет\" - это категориальная переменная с тремя категориями: \"Красный\", \"Желтый\" и \"Зеленый\".\n",
    "\n",
    "Соответствующий `OneHotEncoder` содержит один столбец для каждого возможного значения и одну строку для каждой строки в исходном наборе данных.\n",
    "\n",
    "Если исходным значением было \"Красный\", помещаем 1 в столбец \"Красный\"; если исходным значением было \"Желтый\", мы помещаем 1 в столбец \"Желтый\" и так далее.\n",
    "\n",
    "В отличие от `LabelEncoder`, `OneHotEncoder` **не предполагает упорядочивания категорий**.\n",
    "\n",
    "Таким образом, вы можете ожидать, что этот подход будет работать особенно хорошо, если в категориальных данных *нет четкого упорядочения* (например, \"Красный\" не больше и не меньше, чем \"Желтый\").\n",
    "\n",
    "Категориальные переменные без внутреннего ранжирования называют **номинальными переменными**.\n",
    "\n",
    "Объект `OneHotEncoder` обычно работает не очень хорошо, если категориальная переменная принимает большое количество значений (т.е. обычно не следует использовать его для переменных, принимающих более 15 различных значений)."
   ]
  },
  {
   "cell_type": "code",
   "execution_count": null,
   "metadata": {
    "collapsed": false,
    "jupyter": {
     "outputs_hidden": false
    },
    "pycharm": {
     "name": "#%%\n"
    }
   },
   "outputs": [],
   "source": [
    "from sklearn.preprocessing import OneHotEncoder\n",
    "\n",
    "OH_encoder = OneHotEncoder(handle_unknown='ignore', sparse=False)\n",
    "\n",
    "OH_encoded = OH_encoder.fit_transform(df[cat_features])\n",
    "OH_encoded"
   ]
  },
  {
   "cell_type": "code",
   "execution_count": null,
   "metadata": {
    "collapsed": false,
    "jupyter": {
     "outputs_hidden": false
    },
    "pycharm": {
     "name": "#%%\n"
    }
   },
   "outputs": [],
   "source": [
    "column_names = OH_encoder.get_feature_names(cat_features)\n",
    "column_names"
   ]
  },
  {
   "cell_type": "code",
   "execution_count": null,
   "metadata": {
    "collapsed": false,
    "jupyter": {
     "outputs_hidden": false
    },
    "pycharm": {
     "name": "#%%\n"
    }
   },
   "outputs": [],
   "source": [
    "OH_encoded_with_names = pd.DataFrame(OH_encoded, columns=column_names)\n",
    "OH_encoded_with_names"
   ]
  },
  {
   "cell_type": "code",
   "execution_count": null,
   "metadata": {
    "collapsed": false,
    "jupyter": {
     "outputs_hidden": false
    },
    "pycharm": {
     "name": "#%%\n"
    }
   },
   "outputs": [],
   "source": [
    "new_df = df_num.join(OH_encoded_with_names)\n",
    "new_df"
   ]
  },
  {
   "cell_type": "markdown",
   "metadata": {},
   "source": [
    "### CountEncoder\n",
    "\n",
    "Заменяет каждое категориальное значение количеством раз, сколько оно появляется в наборе данных.\n",
    "\n",
    "Необходимо установить пакет [Category Encoders](http://contrib.scikit-learn.org/category_encoders/)"
   ]
  },
  {
   "cell_type": "code",
   "execution_count": null,
   "metadata": {
    "collapsed": false,
    "jupyter": {
     "outputs_hidden": false
    },
    "pycharm": {
     "name": "#%%\n"
    }
   },
   "outputs": [],
   "source": [
    "!pip -V"
   ]
  },
  {
   "cell_type": "code",
   "execution_count": null,
   "metadata": {
    "collapsed": false,
    "jupyter": {
     "outputs_hidden": false
    },
    "pycharm": {
     "name": "#%%\n"
    }
   },
   "outputs": [],
   "source": [
    "!conda install -c conda-forge category_encoders -y"
   ]
  },
  {
   "cell_type": "code",
   "execution_count": null,
   "metadata": {
    "collapsed": false,
    "jupyter": {
     "outputs_hidden": false
    },
    "pycharm": {
     "name": "#%%\n"
    }
   },
   "outputs": [],
   "source": [
    "import category_encoders as ce\n",
    "\n",
    "count_enc = ce.CountEncoder()\n",
    "\n",
    "count_encoded = count_enc.fit_transform(df[cat_features])\n",
    "count_encoded"
   ]
  },
  {
   "cell_type": "code",
   "execution_count": null,
   "metadata": {
    "collapsed": false,
    "jupyter": {
     "outputs_hidden": false
    },
    "pycharm": {
     "name": "#%%\n"
    }
   },
   "outputs": [],
   "source": [
    "new_df = df_num.join(count_encoded.add_suffix(\"_count\"))\n",
    "new_df"
   ]
  },
  {
   "cell_type": "markdown",
   "metadata": {},
   "source": [
    "### TargetEncoder\n",
    "\n",
    "Заменяет категориальное значение средним значением для этого признака.\n",
    "\n",
    "Например, учитывая дано значение для страны \"RU\", вычислите средний доход для всех строк с country == \"RU\", допустим 0.28.\n",
    "\n",
    "Необходимо установить пакет [Category Encoders](http://contrib.scikit-learn.org/category_encoders/)"
   ]
  },
  {
   "cell_type": "code",
   "execution_count": null,
   "metadata": {
    "collapsed": false,
    "jupyter": {
     "outputs_hidden": false
    },
    "pycharm": {
     "name": "#%%\n"
    }
   },
   "outputs": [],
   "source": [
    "import category_encoders as ce\n",
    "\n",
    "target_enc = ce.TargetEncoder(cols=cat_features)\n",
    "\n",
    "train_df = df.copy()\n",
    "\n",
    "target_enc = target_enc.fit_transform(train_df[cat_features], train_df['CO2EMISSIONS'])\n",
    "target_enc"
   ]
  },
  {
   "cell_type": "code",
   "execution_count": null,
   "metadata": {
    "collapsed": false,
    "jupyter": {
     "outputs_hidden": false
    },
    "pycharm": {
     "name": "#%%\n"
    }
   },
   "outputs": [],
   "source": [
    "new_df = df_num.join(target_enc.add_suffix(\"_target\"))\n",
    "new_df"
   ]
  },
  {
   "cell_type": "markdown",
   "metadata": {},
   "source": [
    "### CatBoostEncoder\n",
    "\n",
    "Похож на `TargetEncoder` в том смысле, что оно основано на целевой вероятности (target probability) для данного значения. Однако с `CatBoostEncoder` для каждой строки целевая вероятность вычисляется только из строк перед ней.\n",
    "\n",
    "Необходимо установить пакет [Category Encoders](http://contrib.scikit-learn.org/category_encoders/)"
   ]
  },
  {
   "cell_type": "code",
   "execution_count": null,
   "metadata": {
    "collapsed": false,
    "jupyter": {
     "outputs_hidden": false
    },
    "pycharm": {
     "name": "#%%\n"
    }
   },
   "outputs": [],
   "source": [
    "import category_encoders as ce\n",
    "\n",
    "target_enc = ce.CatBoostEncoder(cols=cat_features)\n",
    "\n",
    "train_df = df.copy()\n",
    "\n",
    "target_enc = target_enc.fit_transform(train_df[cat_features], train_df['CO2EMISSIONS'])\n",
    "target_enc"
   ]
  },
  {
   "cell_type": "code",
   "execution_count": null,
   "metadata": {
    "collapsed": false,
    "jupyter": {
     "outputs_hidden": false
    },
    "pycharm": {
     "name": "#%%\n"
    }
   },
   "outputs": [],
   "source": [
    "new_df = df_num.join(target_enc.add_suffix(\"_cb\"))\n",
    "new_df"
   ]
  },
  {
   "cell_type": "markdown",
   "metadata": {},
   "source": [
    "## Числовые признаки"
   ]
  },
  {
   "cell_type": "markdown",
   "metadata": {},
   "source": [
    "**Возможное решение:**\n",
    "- Округление или разделение на целую и вещественную часть (+ нормализация).\n",
    "- Приведение числового признака в категориальный (Binning). Пример: добавить признаки вида \"рост больше X\", \"рост меньше X\".\n",
    "\n",
    "<img src=\"images/feature_engineering.png\">"
   ]
  },
  {
   "cell_type": "code",
   "execution_count": null,
   "metadata": {},
   "outputs": [],
   "source": []
  },
  {
   "cell_type": "code",
   "execution_count": null,
   "metadata": {},
   "outputs": [],
   "source": []
  },
  {
   "cell_type": "code",
   "execution_count": null,
   "metadata": {},
   "outputs": [],
   "source": []
  },
  {
   "cell_type": "markdown",
   "metadata": {},
   "source": [
    "## Дата и время"
   ]
  },
  {
   "cell_type": "markdown",
   "metadata": {},
   "source": [
    "**Возможное решение:**\n",
    "- Добавить признаки, соответствующие \n",
    "    - времени дня\n",
    "    - количеству прошедшего времени с определенного момента\n",
    "    - выделение сезонов, времен года, кварталов, праздничных дней\n",
    "    - состояние погоды для этих дней (может быть в дождливые дни поведение покупателей меняется?)\n",
    "- Разделение времени на часы, минуты и секунды (если время дано в Unix-Time или ISO формате). "
   ]
  },
  {
   "cell_type": "code",
   "execution_count": null,
   "metadata": {},
   "outputs": [],
   "source": []
  },
  {
   "cell_type": "code",
   "execution_count": null,
   "metadata": {},
   "outputs": [],
   "source": []
  },
  {
   "cell_type": "code",
   "execution_count": null,
   "metadata": {},
   "outputs": [],
   "source": []
  },
  {
   "cell_type": "markdown",
   "metadata": {},
   "source": [
    "## Результаты других алгоритмов"
   ]
  },
  {
   "cell_type": "markdown",
   "metadata": {},
   "source": [
    "Если решается задача классификации, можно сначала решить вспомогательную задачу кластеризации, и в качестве признака в первоначальной задаче взять кластер объекта.\n",
    "\n",
    "Это обычно происходит на основе первичного анализа данных в случае, когда объекты хорошо кластеризуются."
   ]
  },
  {
   "cell_type": "code",
   "execution_count": null,
   "metadata": {},
   "outputs": [],
   "source": []
  },
  {
   "cell_type": "code",
   "execution_count": null,
   "metadata": {},
   "outputs": [],
   "source": []
  },
  {
   "cell_type": "code",
   "execution_count": null,
   "metadata": {},
   "outputs": [],
   "source": []
  },
  {
   "cell_type": "markdown",
   "metadata": {},
   "source": [
    "## Агрегированные признаки"
   ]
  },
  {
   "cell_type": "markdown",
   "metadata": {},
   "source": [
    "Признаки, которые агрегируют признаки некоторого объекта, тем самым также сокращая размерность признакового описания.\n",
    "\n",
    "Полезно в задачах, в которых один объект содержит несколько однотипных параметров.\n",
    "\n",
    "Например, человек, имеющий несколько автомобилей разной стоимости. В данном случае можно рассмотреть признаки, соответствующие максимальной/минимальной/средней стоимости автомобиля этого человека."
   ]
  },
  {
   "cell_type": "code",
   "execution_count": null,
   "metadata": {},
   "outputs": [],
   "source": []
  },
  {
   "cell_type": "code",
   "execution_count": null,
   "metadata": {},
   "outputs": [],
   "source": []
  },
  {
   "cell_type": "markdown",
   "metadata": {},
   "source": [
    "## *Добавление новых признаков"
   ]
  },
  {
   "cell_type": "markdown",
   "metadata": {},
   "source": [
    "Чтобы эффективно решить задачу, необходимо быть экспертом в конкретной области и понимать, что влияет на конкретную целевую переменную. "
   ]
  },
  {
   "cell_type": "code",
   "execution_count": null,
   "metadata": {},
   "outputs": [],
   "source": []
  },
  {
   "cell_type": "code",
   "execution_count": null,
   "metadata": {},
   "outputs": [],
   "source": []
  },
  {
   "cell_type": "markdown",
   "metadata": {},
   "source": [
    "## Рекомендации\n",
    "\n",
    "- Избегайте редко используемых дискретных значений признаков.\n",
    "    - Хорошие значения характеристик должны появляться в наборе данных более 5 раз.\n",
    "    - И наоборот, если значение появляется только один раз или очень редко, модель не может делать прогнозы на основе этого значения признака.\n",
    "- Стремитесь к ясным и очевидным значениям.\n",
    "    - Каждый признак должен иметь ясное и очевидное значение для всех участников проекта. \n",
    "- Учитывайте нестабильность входящего потока.\n",
    "    - Определение признака не должно менять со временем.\n",
    "    - Но при получении значения с помощью другой модели сопряжено с дополнительными трудностями.\n",
    "- Чаще всего необходимо избавиться от дублирующих строк."
   ]
  },
  {
   "cell_type": "code",
   "execution_count": null,
   "metadata": {},
   "outputs": [],
   "source": []
  }
 ],
 "metadata": {
  "kernelspec": {
   "display_name": "Python [conda env:LevelUp_DataScience] *",
   "language": "python",
   "name": "conda-env-LevelUp_DataScience-py"
  },
  "language_info": {
   "codemirror_mode": {
    "name": "ipython",
    "version": 3
   },
   "file_extension": ".py",
   "mimetype": "text/x-python",
   "name": "python",
   "nbconvert_exporter": "python",
   "pygments_lexer": "ipython3",
   "version": "3.8.5"
  }
 },
 "nbformat": 4,
 "nbformat_minor": 4
}
