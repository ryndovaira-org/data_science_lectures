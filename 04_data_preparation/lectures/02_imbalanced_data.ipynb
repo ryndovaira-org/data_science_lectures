{
 "cells": [
  {
   "cell_type": "markdown",
   "metadata": {
    "jupyter": {
     "outputs_hidden": true
    },
    "pycharm": {
     "name": "#%% md\n"
    }
   },
   "source": [
    "# Несбалансированные данные (Imbalanced Data)"
   ]
  },
  {
   "cell_type": "markdown",
   "metadata": {},
   "source": [
    "---\n",
    "\n",
    "[Imbalanced Data](https://developers.google.com/machine-learning/data-prep/construct/sampling-splitting/imbalanced-data)\n",
    "\n",
    "[Dealing with Imbalanced Data](https://towardsdatascience.com/methods-for-dealing-with-imbalanced-data-5b761be45a18)\n",
    "\n",
    "[A Gentle Introduction to Imbalanced Classification](https://machinelearningmastery.com/what-is-imbalanced-classification/)\n",
    "\n",
    "[8 Tactics to Combat Imbalanced Classes in Your Machine Learning Dataset](https://machinelearningmastery.com/tactics-to-combat-imbalanced-classes-in-your-machine-learning-dataset/)\n",
    "\n",
    "[Dealing with Imbalanced Data](https://medium.com/digital-catapult/dealing-with-imbalanced-data-8b21e6deb6cd)\n",
    "\n",
    "[Imbalanced Learning in Banking](https://medium.com/analytics-ai-swedbank/imbalanced-learning-in-banking-1bd3868a496d)\n",
    "\n",
    "[Accuracy paradox](https://en.wikipedia.org/wiki/Accuracy_paradox)\n",
    "\n",
    "[Precision and recall](https://en.wikipedia.org/wiki/Precision_and_recall)\n",
    "\n",
    "[Classification with Imbalanced Datasets](https://sci2s.ugr.es/imbalanced)\n",
    "\n",
    "[Classification Accuracy is Not Enough: More Performance Measures You Can Use](https://machinelearningmastery.com/classification-accuracy-is-not-enough-more-performance-measures-you-can-use/)\n",
    "\n",
    "[Resampling (statistics)](https://en.wikipedia.org/wiki/Resampling_(statistics))\n",
    "\n",
    "[Oversampling and undersampling in data analysis](https://en.wikipedia.org/wiki/Oversampling_and_undersampling_in_data_analysis)\n",
    "\n",
    "[Районированная выборка](https://ru.wikipedia.org/wiki/%D0%A0%D0%B0%D0%B9%D0%BE%D0%BD%D0%B8%D1%80%D0%BE%D0%B2%D0%B0%D0%BD%D0%BD%D0%B0%D1%8F_%D0%B2%D1%8B%D0%B1%D0%BE%D1%80%D0%BA%D0%B0)\n",
    "\n",
    "[Наивный байесовский классификатор](https://ru.wikipedia.org/wiki/%D0%9D%D0%B0%D0%B8%D0%B2%D0%BD%D1%8B%D0%B9_%D0%B1%D0%B0%D0%B9%D0%B5%D1%81%D0%BE%D0%B2%D1%81%D0%BA%D0%B8%D0%B9_%D0%BA%D0%BB%D0%B0%D1%81%D1%81%D0%B8%D1%84%D0%B8%D0%BA%D0%B0%D1%82%D0%BE%D1%80)\n",
    "\n",
    "[Imbalanced Learning: Foundations, Algorithms, and Applications](https://www.amazon.com/dp/1118074629/ref=as_li_ss_tl?&linkCode=sl1&tag=inspiredalgor-20&linkId=615e87a9105582e292ad2b7e2c7ea339&language=en_US)\n",
    "\n",
    "[Learning from Imbalanced Data Sets](https://www.amazon.com/Learning-Imbalanced-Data-Alberto-Fern%C3%A1ndez/dp/3319980734/ref=as_li_ss_tl?keywords=Learning+from+Imbalanced+Data+Sets&qid=1568679479&s=books&sr=1-1&linkCode=sl1&tag=inspiredalgor-20&linkId=214f8d8144c94e7f48543e0200abdbdf&language=en_US)\n",
    "\n",
    "[How to Develop a Framework to Spot-Check Machine Learning Algorithms in Python](https://machinelearningmastery.com/spot-check-machine-learning-algorithms-in-python/)\n",
    "\n",
    "[Using Under-Sampling Techniques for Extremely Imbalanced Data](https://medium.com/dataman-in-ai/sampling-techniques-for-extremely-imbalanced-data-part-i-under-sampling-a8dbc3d8d6d8)\n",
    "\n",
    "[The 5 Most Useful Techniques to Handle Imbalanced Datasets](https://www.kdnuggets.com/2020/01/5-most-useful-techniques-handle-imbalanced-datasets.html)\n",
    "\n",
    "---"
   ]
  },
  {
   "cell_type": "code",
   "execution_count": 1,
   "metadata": {
    "collapsed": false,
    "jupyter": {
     "outputs_hidden": false
    },
    "pycharm": {
     "name": "#%%\n"
    }
   },
   "outputs": [],
   "source": [
    "# ВНИМАНИЕ: необходимо удостовериться, что виртуальная среда выбрана правильно!\n",
    "\n",
    "# Для MacOS/Ubuntu\n",
    "# !which pip\n",
    "\n",
    "# Для Windows\n",
    "# !where pip"
   ]
  },
  {
   "cell_type": "code",
   "execution_count": 2,
   "metadata": {
    "collapsed": false,
    "jupyter": {
     "outputs_hidden": false
    },
    "pycharm": {
     "name": "#%%\n"
    }
   },
   "outputs": [],
   "source": [
    "# !conda install pandas matplotlib numpy seaborn -y"
   ]
  },
  {
   "cell_type": "code",
   "execution_count": 3,
   "metadata": {
    "collapsed": false,
    "jupyter": {
     "outputs_hidden": false
    },
    "pycharm": {
     "name": "#%%\n"
    }
   },
   "outputs": [
    {
     "data": {
      "text/plain": [
       "'1.19.2'"
      ]
     },
     "execution_count": 3,
     "metadata": {},
     "output_type": "execute_result"
    }
   ],
   "source": [
    "import numpy as np\n",
    "\n",
    "np.__version__"
   ]
  },
  {
   "cell_type": "code",
   "execution_count": 4,
   "metadata": {
    "collapsed": false,
    "jupyter": {
     "outputs_hidden": false
    },
    "pycharm": {
     "name": "#%%\n"
    }
   },
   "outputs": [
    {
     "data": {
      "text/plain": [
       "'1.2.3'"
      ]
     },
     "execution_count": 4,
     "metadata": {},
     "output_type": "execute_result"
    }
   ],
   "source": [
    "import pandas as pd\n",
    "\n",
    "pd.__version__"
   ]
  },
  {
   "cell_type": "code",
   "execution_count": 5,
   "metadata": {
    "collapsed": false,
    "jupyter": {
     "outputs_hidden": false
    },
    "pycharm": {
     "name": "#%%\n"
    }
   },
   "outputs": [
    {
     "data": {
      "text/plain": [
       "'3.3.4'"
      ]
     },
     "execution_count": 5,
     "metadata": {},
     "output_type": "execute_result"
    }
   ],
   "source": [
    "import matplotlib\n",
    "import matplotlib.pyplot as plt\n",
    "\n",
    "matplotlib.__version__"
   ]
  },
  {
   "cell_type": "code",
   "execution_count": 6,
   "metadata": {
    "collapsed": false,
    "jupyter": {
     "outputs_hidden": false
    },
    "pycharm": {
     "name": "#%%\n"
    }
   },
   "outputs": [
    {
     "data": {
      "text/plain": [
       "'0.11.1'"
      ]
     },
     "execution_count": 6,
     "metadata": {},
     "output_type": "execute_result"
    }
   ],
   "source": [
    "import seaborn as sns\n",
    "\n",
    "sns.__version__"
   ]
  },
  {
   "cell_type": "code",
   "execution_count": 7,
   "metadata": {},
   "outputs": [],
   "source": [
    "sns.set()"
   ]
  },
  {
   "cell_type": "markdown",
   "metadata": {},
   "source": [
    "## Загрузка данных\n",
    "\n",
    "[Источник (Telco Customer Churn)](https://www.kaggle.com/blastchar/telco-customer-churn)."
   ]
  },
  {
   "cell_type": "code",
   "execution_count": 8,
   "metadata": {
    "collapsed": false,
    "jupyter": {
     "outputs_hidden": false
    },
    "pycharm": {
     "name": "#%%\n"
    }
   },
   "outputs": [
    {
     "data": {
      "text/html": [
       "<div>\n",
       "<style scoped>\n",
       "    .dataframe tbody tr th:only-of-type {\n",
       "        vertical-align: middle;\n",
       "    }\n",
       "\n",
       "    .dataframe tbody tr th {\n",
       "        vertical-align: top;\n",
       "    }\n",
       "\n",
       "    .dataframe thead th {\n",
       "        text-align: right;\n",
       "    }\n",
       "</style>\n",
       "<table border=\"1\" class=\"dataframe\">\n",
       "  <thead>\n",
       "    <tr style=\"text-align: right;\">\n",
       "      <th></th>\n",
       "      <th>gender</th>\n",
       "      <th>SeniorCitizen</th>\n",
       "      <th>Partner</th>\n",
       "      <th>Dependents</th>\n",
       "      <th>tenure</th>\n",
       "      <th>PhoneService</th>\n",
       "      <th>MultipleLines</th>\n",
       "      <th>InternetService</th>\n",
       "      <th>OnlineSecurity</th>\n",
       "      <th>OnlineBackup</th>\n",
       "      <th>DeviceProtection</th>\n",
       "      <th>TechSupport</th>\n",
       "      <th>StreamingTV</th>\n",
       "      <th>StreamingMovies</th>\n",
       "      <th>Contract</th>\n",
       "      <th>PaperlessBilling</th>\n",
       "      <th>PaymentMethod</th>\n",
       "      <th>MonthlyCharges</th>\n",
       "      <th>TotalCharges</th>\n",
       "      <th>Churn</th>\n",
       "    </tr>\n",
       "    <tr>\n",
       "      <th>customerID</th>\n",
       "      <th></th>\n",
       "      <th></th>\n",
       "      <th></th>\n",
       "      <th></th>\n",
       "      <th></th>\n",
       "      <th></th>\n",
       "      <th></th>\n",
       "      <th></th>\n",
       "      <th></th>\n",
       "      <th></th>\n",
       "      <th></th>\n",
       "      <th></th>\n",
       "      <th></th>\n",
       "      <th></th>\n",
       "      <th></th>\n",
       "      <th></th>\n",
       "      <th></th>\n",
       "      <th></th>\n",
       "      <th></th>\n",
       "      <th></th>\n",
       "    </tr>\n",
       "  </thead>\n",
       "  <tbody>\n",
       "    <tr>\n",
       "      <th>7590-VHVEG</th>\n",
       "      <td>Female</td>\n",
       "      <td>0</td>\n",
       "      <td>Yes</td>\n",
       "      <td>No</td>\n",
       "      <td>1</td>\n",
       "      <td>No</td>\n",
       "      <td>No phone service</td>\n",
       "      <td>DSL</td>\n",
       "      <td>No</td>\n",
       "      <td>Yes</td>\n",
       "      <td>No</td>\n",
       "      <td>No</td>\n",
       "      <td>No</td>\n",
       "      <td>No</td>\n",
       "      <td>Month-to-month</td>\n",
       "      <td>Yes</td>\n",
       "      <td>Electronic check</td>\n",
       "      <td>29.85</td>\n",
       "      <td>29.85</td>\n",
       "      <td>No</td>\n",
       "    </tr>\n",
       "    <tr>\n",
       "      <th>5575-GNVDE</th>\n",
       "      <td>Male</td>\n",
       "      <td>0</td>\n",
       "      <td>No</td>\n",
       "      <td>No</td>\n",
       "      <td>34</td>\n",
       "      <td>Yes</td>\n",
       "      <td>No</td>\n",
       "      <td>DSL</td>\n",
       "      <td>Yes</td>\n",
       "      <td>No</td>\n",
       "      <td>Yes</td>\n",
       "      <td>No</td>\n",
       "      <td>No</td>\n",
       "      <td>No</td>\n",
       "      <td>One year</td>\n",
       "      <td>No</td>\n",
       "      <td>Mailed check</td>\n",
       "      <td>56.95</td>\n",
       "      <td>1889.5</td>\n",
       "      <td>No</td>\n",
       "    </tr>\n",
       "    <tr>\n",
       "      <th>3668-QPYBK</th>\n",
       "      <td>Male</td>\n",
       "      <td>0</td>\n",
       "      <td>No</td>\n",
       "      <td>No</td>\n",
       "      <td>2</td>\n",
       "      <td>Yes</td>\n",
       "      <td>No</td>\n",
       "      <td>DSL</td>\n",
       "      <td>Yes</td>\n",
       "      <td>Yes</td>\n",
       "      <td>No</td>\n",
       "      <td>No</td>\n",
       "      <td>No</td>\n",
       "      <td>No</td>\n",
       "      <td>Month-to-month</td>\n",
       "      <td>Yes</td>\n",
       "      <td>Mailed check</td>\n",
       "      <td>53.85</td>\n",
       "      <td>108.15</td>\n",
       "      <td>Yes</td>\n",
       "    </tr>\n",
       "    <tr>\n",
       "      <th>7795-CFOCW</th>\n",
       "      <td>Male</td>\n",
       "      <td>0</td>\n",
       "      <td>No</td>\n",
       "      <td>No</td>\n",
       "      <td>45</td>\n",
       "      <td>No</td>\n",
       "      <td>No phone service</td>\n",
       "      <td>DSL</td>\n",
       "      <td>Yes</td>\n",
       "      <td>No</td>\n",
       "      <td>Yes</td>\n",
       "      <td>Yes</td>\n",
       "      <td>No</td>\n",
       "      <td>No</td>\n",
       "      <td>One year</td>\n",
       "      <td>No</td>\n",
       "      <td>Bank transfer (automatic)</td>\n",
       "      <td>42.30</td>\n",
       "      <td>1840.75</td>\n",
       "      <td>No</td>\n",
       "    </tr>\n",
       "    <tr>\n",
       "      <th>9237-HQITU</th>\n",
       "      <td>Female</td>\n",
       "      <td>0</td>\n",
       "      <td>No</td>\n",
       "      <td>No</td>\n",
       "      <td>2</td>\n",
       "      <td>Yes</td>\n",
       "      <td>No</td>\n",
       "      <td>Fiber optic</td>\n",
       "      <td>No</td>\n",
       "      <td>No</td>\n",
       "      <td>No</td>\n",
       "      <td>No</td>\n",
       "      <td>No</td>\n",
       "      <td>No</td>\n",
       "      <td>Month-to-month</td>\n",
       "      <td>Yes</td>\n",
       "      <td>Electronic check</td>\n",
       "      <td>70.70</td>\n",
       "      <td>151.65</td>\n",
       "      <td>Yes</td>\n",
       "    </tr>\n",
       "    <tr>\n",
       "      <th>...</th>\n",
       "      <td>...</td>\n",
       "      <td>...</td>\n",
       "      <td>...</td>\n",
       "      <td>...</td>\n",
       "      <td>...</td>\n",
       "      <td>...</td>\n",
       "      <td>...</td>\n",
       "      <td>...</td>\n",
       "      <td>...</td>\n",
       "      <td>...</td>\n",
       "      <td>...</td>\n",
       "      <td>...</td>\n",
       "      <td>...</td>\n",
       "      <td>...</td>\n",
       "      <td>...</td>\n",
       "      <td>...</td>\n",
       "      <td>...</td>\n",
       "      <td>...</td>\n",
       "      <td>...</td>\n",
       "      <td>...</td>\n",
       "    </tr>\n",
       "    <tr>\n",
       "      <th>6840-RESVB</th>\n",
       "      <td>Male</td>\n",
       "      <td>0</td>\n",
       "      <td>Yes</td>\n",
       "      <td>Yes</td>\n",
       "      <td>24</td>\n",
       "      <td>Yes</td>\n",
       "      <td>Yes</td>\n",
       "      <td>DSL</td>\n",
       "      <td>Yes</td>\n",
       "      <td>No</td>\n",
       "      <td>Yes</td>\n",
       "      <td>Yes</td>\n",
       "      <td>Yes</td>\n",
       "      <td>Yes</td>\n",
       "      <td>One year</td>\n",
       "      <td>Yes</td>\n",
       "      <td>Mailed check</td>\n",
       "      <td>84.80</td>\n",
       "      <td>1990.5</td>\n",
       "      <td>No</td>\n",
       "    </tr>\n",
       "    <tr>\n",
       "      <th>2234-XADUH</th>\n",
       "      <td>Female</td>\n",
       "      <td>0</td>\n",
       "      <td>Yes</td>\n",
       "      <td>Yes</td>\n",
       "      <td>72</td>\n",
       "      <td>Yes</td>\n",
       "      <td>Yes</td>\n",
       "      <td>Fiber optic</td>\n",
       "      <td>No</td>\n",
       "      <td>Yes</td>\n",
       "      <td>Yes</td>\n",
       "      <td>No</td>\n",
       "      <td>Yes</td>\n",
       "      <td>Yes</td>\n",
       "      <td>One year</td>\n",
       "      <td>Yes</td>\n",
       "      <td>Credit card (automatic)</td>\n",
       "      <td>103.20</td>\n",
       "      <td>7362.9</td>\n",
       "      <td>No</td>\n",
       "    </tr>\n",
       "    <tr>\n",
       "      <th>4801-JZAZL</th>\n",
       "      <td>Female</td>\n",
       "      <td>0</td>\n",
       "      <td>Yes</td>\n",
       "      <td>Yes</td>\n",
       "      <td>11</td>\n",
       "      <td>No</td>\n",
       "      <td>No phone service</td>\n",
       "      <td>DSL</td>\n",
       "      <td>Yes</td>\n",
       "      <td>No</td>\n",
       "      <td>No</td>\n",
       "      <td>No</td>\n",
       "      <td>No</td>\n",
       "      <td>No</td>\n",
       "      <td>Month-to-month</td>\n",
       "      <td>Yes</td>\n",
       "      <td>Electronic check</td>\n",
       "      <td>29.60</td>\n",
       "      <td>346.45</td>\n",
       "      <td>No</td>\n",
       "    </tr>\n",
       "    <tr>\n",
       "      <th>8361-LTMKD</th>\n",
       "      <td>Male</td>\n",
       "      <td>1</td>\n",
       "      <td>Yes</td>\n",
       "      <td>No</td>\n",
       "      <td>4</td>\n",
       "      <td>Yes</td>\n",
       "      <td>Yes</td>\n",
       "      <td>Fiber optic</td>\n",
       "      <td>No</td>\n",
       "      <td>No</td>\n",
       "      <td>No</td>\n",
       "      <td>No</td>\n",
       "      <td>No</td>\n",
       "      <td>No</td>\n",
       "      <td>Month-to-month</td>\n",
       "      <td>Yes</td>\n",
       "      <td>Mailed check</td>\n",
       "      <td>74.40</td>\n",
       "      <td>306.6</td>\n",
       "      <td>Yes</td>\n",
       "    </tr>\n",
       "    <tr>\n",
       "      <th>3186-AJIEK</th>\n",
       "      <td>Male</td>\n",
       "      <td>0</td>\n",
       "      <td>No</td>\n",
       "      <td>No</td>\n",
       "      <td>66</td>\n",
       "      <td>Yes</td>\n",
       "      <td>No</td>\n",
       "      <td>Fiber optic</td>\n",
       "      <td>Yes</td>\n",
       "      <td>No</td>\n",
       "      <td>Yes</td>\n",
       "      <td>Yes</td>\n",
       "      <td>Yes</td>\n",
       "      <td>Yes</td>\n",
       "      <td>Two year</td>\n",
       "      <td>Yes</td>\n",
       "      <td>Bank transfer (automatic)</td>\n",
       "      <td>105.65</td>\n",
       "      <td>6844.5</td>\n",
       "      <td>No</td>\n",
       "    </tr>\n",
       "  </tbody>\n",
       "</table>\n",
       "<p>7043 rows × 20 columns</p>\n",
       "</div>"
      ],
      "text/plain": [
       "            gender  SeniorCitizen Partner Dependents  tenure PhoneService  \\\n",
       "customerID                                                                  \n",
       "7590-VHVEG  Female              0     Yes         No       1           No   \n",
       "5575-GNVDE    Male              0      No         No      34          Yes   \n",
       "3668-QPYBK    Male              0      No         No       2          Yes   \n",
       "7795-CFOCW    Male              0      No         No      45           No   \n",
       "9237-HQITU  Female              0      No         No       2          Yes   \n",
       "...            ...            ...     ...        ...     ...          ...   \n",
       "6840-RESVB    Male              0     Yes        Yes      24          Yes   \n",
       "2234-XADUH  Female              0     Yes        Yes      72          Yes   \n",
       "4801-JZAZL  Female              0     Yes        Yes      11           No   \n",
       "8361-LTMKD    Male              1     Yes         No       4          Yes   \n",
       "3186-AJIEK    Male              0      No         No      66          Yes   \n",
       "\n",
       "               MultipleLines InternetService OnlineSecurity OnlineBackup  \\\n",
       "customerID                                                                 \n",
       "7590-VHVEG  No phone service             DSL             No          Yes   \n",
       "5575-GNVDE                No             DSL            Yes           No   \n",
       "3668-QPYBK                No             DSL            Yes          Yes   \n",
       "7795-CFOCW  No phone service             DSL            Yes           No   \n",
       "9237-HQITU                No     Fiber optic             No           No   \n",
       "...                      ...             ...            ...          ...   \n",
       "6840-RESVB               Yes             DSL            Yes           No   \n",
       "2234-XADUH               Yes     Fiber optic             No          Yes   \n",
       "4801-JZAZL  No phone service             DSL            Yes           No   \n",
       "8361-LTMKD               Yes     Fiber optic             No           No   \n",
       "3186-AJIEK                No     Fiber optic            Yes           No   \n",
       "\n",
       "           DeviceProtection TechSupport StreamingTV StreamingMovies  \\\n",
       "customerID                                                            \n",
       "7590-VHVEG               No          No          No              No   \n",
       "5575-GNVDE              Yes          No          No              No   \n",
       "3668-QPYBK               No          No          No              No   \n",
       "7795-CFOCW              Yes         Yes          No              No   \n",
       "9237-HQITU               No          No          No              No   \n",
       "...                     ...         ...         ...             ...   \n",
       "6840-RESVB              Yes         Yes         Yes             Yes   \n",
       "2234-XADUH              Yes          No         Yes             Yes   \n",
       "4801-JZAZL               No          No          No              No   \n",
       "8361-LTMKD               No          No          No              No   \n",
       "3186-AJIEK              Yes         Yes         Yes             Yes   \n",
       "\n",
       "                  Contract PaperlessBilling              PaymentMethod  \\\n",
       "customerID                                                               \n",
       "7590-VHVEG  Month-to-month              Yes           Electronic check   \n",
       "5575-GNVDE        One year               No               Mailed check   \n",
       "3668-QPYBK  Month-to-month              Yes               Mailed check   \n",
       "7795-CFOCW        One year               No  Bank transfer (automatic)   \n",
       "9237-HQITU  Month-to-month              Yes           Electronic check   \n",
       "...                    ...              ...                        ...   \n",
       "6840-RESVB        One year              Yes               Mailed check   \n",
       "2234-XADUH        One year              Yes    Credit card (automatic)   \n",
       "4801-JZAZL  Month-to-month              Yes           Electronic check   \n",
       "8361-LTMKD  Month-to-month              Yes               Mailed check   \n",
       "3186-AJIEK        Two year              Yes  Bank transfer (automatic)   \n",
       "\n",
       "            MonthlyCharges TotalCharges Churn  \n",
       "customerID                                     \n",
       "7590-VHVEG           29.85        29.85    No  \n",
       "5575-GNVDE           56.95       1889.5    No  \n",
       "3668-QPYBK           53.85       108.15   Yes  \n",
       "7795-CFOCW           42.30      1840.75    No  \n",
       "9237-HQITU           70.70       151.65   Yes  \n",
       "...                    ...          ...   ...  \n",
       "6840-RESVB           84.80       1990.5    No  \n",
       "2234-XADUH          103.20       7362.9    No  \n",
       "4801-JZAZL           29.60       346.45    No  \n",
       "8361-LTMKD           74.40        306.6   Yes  \n",
       "3186-AJIEK          105.65       6844.5    No  \n",
       "\n",
       "[7043 rows x 20 columns]"
      ]
     },
     "execution_count": 8,
     "metadata": {},
     "output_type": "execute_result"
    }
   ],
   "source": [
    "df = pd.read_csv('./../../data/Telco-Customer-Churn.csv', index_col='customerID')\n",
    "\n",
    "# показать все колонки\n",
    "pd.options.display.max_columns = None\n",
    "\n",
    "# изменить формат отображения с помощью средства форматирования\n",
    "# (float без E, а 2 знаков после запятой)\n",
    "# (для удобства чтения)\n",
    "pd.options.display.float_format = '{:.2f}'.format\n",
    "\n",
    "# отобразить первые 5 и последние 5 строк\n",
    "df"
   ]
  },
  {
   "cell_type": "code",
   "execution_count": 9,
   "metadata": {},
   "outputs": [
    {
     "data": {
      "text/plain": [
       "gender               0\n",
       "SeniorCitizen        0\n",
       "Partner              0\n",
       "Dependents           0\n",
       "tenure               0\n",
       "PhoneService         0\n",
       "MultipleLines        0\n",
       "InternetService      0\n",
       "OnlineSecurity       0\n",
       "OnlineBackup         0\n",
       "DeviceProtection     0\n",
       "TechSupport          0\n",
       "StreamingTV          0\n",
       "StreamingMovies      0\n",
       "Contract             0\n",
       "PaperlessBilling     0\n",
       "PaymentMethod        0\n",
       "MonthlyCharges       0\n",
       "TotalCharges        11\n",
       "Churn                0\n",
       "dtype: int64"
      ]
     },
     "execution_count": 9,
     "metadata": {},
     "output_type": "execute_result"
    }
   ],
   "source": [
    "df[df == ' '].count()"
   ]
  },
  {
   "cell_type": "code",
   "execution_count": 10,
   "metadata": {},
   "outputs": [],
   "source": [
    "df.TotalCharges.replace(' ', np.nan, inplace=True)"
   ]
  },
  {
   "cell_type": "code",
   "execution_count": 11,
   "metadata": {},
   "outputs": [
    {
     "data": {
      "text/plain": [
       "gender               0\n",
       "SeniorCitizen        0\n",
       "Partner              0\n",
       "Dependents           0\n",
       "tenure               0\n",
       "PhoneService         0\n",
       "MultipleLines        0\n",
       "InternetService      0\n",
       "OnlineSecurity       0\n",
       "OnlineBackup         0\n",
       "DeviceProtection     0\n",
       "TechSupport          0\n",
       "StreamingTV          0\n",
       "StreamingMovies      0\n",
       "Contract             0\n",
       "PaperlessBilling     0\n",
       "PaymentMethod        0\n",
       "MonthlyCharges       0\n",
       "TotalCharges        11\n",
       "Churn                0\n",
       "dtype: int64"
      ]
     },
     "execution_count": 11,
     "metadata": {},
     "output_type": "execute_result"
    }
   ],
   "source": [
    "df.isna().sum()"
   ]
  },
  {
   "cell_type": "code",
   "execution_count": 12,
   "metadata": {},
   "outputs": [],
   "source": [
    "df.TotalCharges = df.TotalCharges.astype('float')"
   ]
  },
  {
   "cell_type": "code",
   "execution_count": 13,
   "metadata": {
    "collapsed": false,
    "jupyter": {
     "outputs_hidden": false
    },
    "pycharm": {
     "name": "#%%\n"
    }
   },
   "outputs": [
    {
     "name": "stdout",
     "output_type": "stream",
     "text": [
      "<class 'pandas.core.frame.DataFrame'>\n",
      "Index: 7043 entries, 7590-VHVEG to 3186-AJIEK\n",
      "Data columns (total 20 columns):\n",
      " #   Column            Non-Null Count  Dtype  \n",
      "---  ------            --------------  -----  \n",
      " 0   gender            7043 non-null   object \n",
      " 1   SeniorCitizen     7043 non-null   int64  \n",
      " 2   Partner           7043 non-null   object \n",
      " 3   Dependents        7043 non-null   object \n",
      " 4   tenure            7043 non-null   int64  \n",
      " 5   PhoneService      7043 non-null   object \n",
      " 6   MultipleLines     7043 non-null   object \n",
      " 7   InternetService   7043 non-null   object \n",
      " 8   OnlineSecurity    7043 non-null   object \n",
      " 9   OnlineBackup      7043 non-null   object \n",
      " 10  DeviceProtection  7043 non-null   object \n",
      " 11  TechSupport       7043 non-null   object \n",
      " 12  StreamingTV       7043 non-null   object \n",
      " 13  StreamingMovies   7043 non-null   object \n",
      " 14  Contract          7043 non-null   object \n",
      " 15  PaperlessBilling  7043 non-null   object \n",
      " 16  PaymentMethod     7043 non-null   object \n",
      " 17  MonthlyCharges    7043 non-null   float64\n",
      " 18  TotalCharges      7032 non-null   float64\n",
      " 19  Churn             7043 non-null   object \n",
      "dtypes: float64(2), int64(2), object(16)\n",
      "memory usage: 1.1+ MB\n"
     ]
    }
   ],
   "source": [
    "# получить сведения о датафрейме\n",
    "df.info()"
   ]
  },
  {
   "cell_type": "markdown",
   "metadata": {},
   "source": [
    "### В чем проблема?\n",
    "Вы работаете над своим набором данных. Вы создаете модель классификации и сразу получаете точность 90%.\n",
    "\n",
    "\"Фантастически\"!.\n",
    "\n",
    "Вы погружаетесь немного глубже и обнаруживаете, что 90% данных принадлежат одному классу. Черт!\n",
    "\n",
    "Это пример несбалансированного набора данных и разочаровывающих результатов, которые он может вызвать.\n",
    "\n",
    "Вы чувствуете сильное разочарование, когда обнаруживаете, что ваши данные имеют несбалансированные классы и что все замечательные результаты, которые, как вы думали, вы получаете, оказываются ложью."
   ]
  },
  {
   "cell_type": "markdown",
   "metadata": {},
   "source": [
    "## Что такое несбалансированные данные (Imbalanced Data)\n",
    "\n",
    "Набор классификационных данных с искаженными пропорциями классов (категорий) называется **несбалансированным**.\n",
    "\n",
    "Классы (категории), составляющие большую часть набора данных, называются классами большинства (**majority classes**). \n",
    "\n",
    "Те, кто составляют меньшую долю, относятся к классам меньшинств (**minority class**).\n",
    "\n",
    "Что считается несбалансированным? Ответ может варьироваться от умеренного до экстремального.\n",
    "\n",
    "<img src=\"images/imbalance_degree.png\" height=300 width=300>\n",
    "\n",
    "\n",
    "**Большинство наборов классификационных данных не имеют точно одинаковое количество экземпляров в каждом классе, но небольшая разница часто не имеет значения.**\n",
    "\n",
    "Есть задачи, когда дисбаланс классов не просто распространен, это ожидается.\n",
    "\n",
    "- Например, в наборах данных, которые характеризуют мошеннические транзакции. Подавляющее большинство транзакций будет в классе \"Не мошенничество\", а очень небольшое меньшинство будет в классе \"Мошенничество\".\n",
    "\n",
    "- Другим примером являются наборы данных о клиентах, где подавляющее большинство клиентов пользуются услугами (класс \"без оттока\"), а небольшое меньшинство отменяет свою подписку (класс \"отток\")."
   ]
  },
  {
   "cell_type": "markdown",
   "metadata": {},
   "source": [
    "### Парадокс точности (Accuracy paradox)\n",
    "\n",
    "Парадокс точности - это парадоксальный вывод о том, что точность (accuracy) не является хорошим показателем для прогнозных моделей при классификации. \n",
    "\n",
    "Это связано с тем, что простая модель может иметь высокий уровень точности, но быть слишком грубой, бесполезной.\n",
    "\n",
    "**Например, если частота случаев категории `A` является доминирующей и обнаруживается в `99%` случаев, то прогнозирование того, что каждый случай относится к категории `A`, будет иметь точность `99%`.**\n",
    "\n",
    "Основная проблема заключается в том, что существует классовый дисбаланс между \"положительным\" и \"отрицательным\" классами.\n",
    "\n",
    "В таких случаях лучший выбор - это ***[precision and recall](https://en.wikipedia.org/wiki/Precision_and_recall)**."
   ]
  },
  {
   "cell_type": "markdown",
   "metadata": {},
   "source": [
    "## Графическое представление несбалансированных данных (Imbalanced Data)"
   ]
  },
  {
   "cell_type": "code",
   "execution_count": 14,
   "metadata": {},
   "outputs": [
    {
     "data": {
      "text/plain": [
       "['gender',\n",
       " 'Partner',\n",
       " 'Dependents',\n",
       " 'PhoneService',\n",
       " 'MultipleLines',\n",
       " 'InternetService',\n",
       " 'OnlineSecurity',\n",
       " 'OnlineBackup',\n",
       " 'DeviceProtection',\n",
       " 'TechSupport',\n",
       " 'StreamingTV',\n",
       " 'StreamingMovies',\n",
       " 'Contract',\n",
       " 'PaperlessBilling',\n",
       " 'PaymentMethod',\n",
       " 'Churn']"
      ]
     },
     "execution_count": 14,
     "metadata": {},
     "output_type": "execute_result"
    }
   ],
   "source": [
    "df_cat = df.select_dtypes(exclude=np.number)\n",
    "df_cat_cols = df_cat.columns.tolist()\n",
    "cat_cols_len = len(df_cat_cols)\n",
    "\n",
    "df_cat_cols"
   ]
  },
  {
   "cell_type": "code",
   "execution_count": 15,
   "metadata": {},
   "outputs": [
    {
     "data": {
      "image/png": "[encoded data removed]",
      "text/plain": [
       "<Figure size 1584x2160 with 15 Axes>"
      ]
     },
     "metadata": {},
     "output_type": "display_data"
    }
   ],
   "source": [
    "num_in_line = 2\n",
    "\n",
    "col_in_line = cat_cols_len//num_in_line + cat_cols_len%num_in_line\n",
    "\n",
    "fig, axs = plt.subplots(col_in_line, num_in_line, figsize=(22, 30))\n",
    "\n",
    "cmap = plt.get_cmap('Set1')\n",
    "\n",
    "for index, column_name in enumerate(df_cat_cols):\n",
    "    c = cmap(index/cat_cols_len)\n",
    "    \n",
    "    ax = axs[index//num_in_line][index%num_in_line]\n",
    "    \n",
    "    g = sns.countplot(data=df, x=column_name, ax=ax, color=c)\n",
    "    g.set_xticklabels(g.get_xticklabels(), rotation=45, horizontalalignment='right')\n",
    "    ax.xaxis.label.set_visible(False)\n",
    "    ax.yaxis.label.set_visible(False)\n",
    "    ax.set_title(column_name)\n",
    "    ax.grid()\n",
    "    \n",
    "    total = len(df[column_name])\n",
    "    for p in ax.patches:\n",
    "        percentage = '{:.1f}%'.format(100 * p.get_height()/total)\n",
    "        x = p.get_x()\n",
    "        y = p.get_y() + p.get_height() + 0.1\n",
    "        ax.annotate(percentage, (x, y))\n",
    "    \n",
    "fig.subplots_adjust(hspace=0.6, wspace=0.15)\n",
    "\n",
    "if num_in_line%2 == 0:\n",
    "    fig.delaxes(axs[col_in_line-1][num_in_line-1])"
   ]
  },
  {
   "cell_type": "markdown",
   "metadata": {},
   "source": [
    "## Тактики для борьбы с несбалансированными классами"
   ]
  },
  {
   "cell_type": "markdown",
   "metadata": {},
   "source": [
    "### Проверить результаты на данных без изменений\n",
    "\n",
    "Если у имеется несбалансированный набор данных, **сначала важно попробовать обучиться при исходном распределении данных**.\n",
    "\n",
    "Если модель работает хорошо и обобщает, все готово! Не нужно делать лишнюю работу!\n",
    "\n",
    "Если нет, то переходим с следующим техникам."
   ]
  },
  {
   "cell_type": "markdown",
   "metadata": {},
   "source": [
    "### Собрать больше данных\n",
    "\n",
    "Сбор большего количества данных почти всегда упускается из виду, хотя в некоторых случаях - это выполнимая задача.\n",
    "\n",
    "Большой набор данных может представить другую и, возможно, более сбалансированную точку зрения на классы."
   ]
  },
  {
   "cell_type": "markdown",
   "metadata": {},
   "source": [
    "### Изменить метрику оценки \"качества\"\n",
    "\n",
    "Точность (accuracy) не является рекомендованной метрикой, используемой при работе с несбалансированным набором данных. \n",
    "\n",
    "Точность (accuracy) может часть вводить в заблуждение.\n",
    "\n",
    "Существуют метрики, которые были разработаны, чтобы показывать более правдивые данные при работе с несбалансированными классами.\n",
    "\n",
    "Например:\n",
    "- Матрица путаницы (Confusion Matrix)\n",
    "- Precision & Recall\n",
    "- F1 Score (or F-score)\n",
    "- Kappa (or Cohen’s kappa)\n",
    "- ROC Curves"
   ]
  },
  {
   "cell_type": "markdown",
   "metadata": {},
   "source": [
    "### Ресемплинг (Resampling): Undersampling & Oversampling\n",
    "\n",
    "Можно применить методы ресемплинга (**resampling**) для преобразования набора данных к более сбалансированному виду.\n",
    "\n",
    "Это преобразование называется семплированим (**sampling**) набора данных, и существует два основных метода, которые можно использовать для выравнивания классов:\n",
    "- Добавить копии экземпляров из недостаточно представленного класса - **[over-sampling](https://en.wikipedia.org/wiki/Oversampling_and_undersampling_in_data_analysis)** (или более формально **sampling with replacement**).\n",
    "- Удалить экземпляры из избыточно представленного класса - **[under-sampling](https://en.wikipedia.org/wiki/Oversampling_and_undersampling_in_data_analysis)**.\n",
    "\n",
    "<img src=\"images/undersampling _oversampling.png\">\n",
    "\n",
    "Эти подходы часто очень **легко реализовать**.\n",
    "\n",
    "Они являются **отличной отправной точкой**. \n",
    "\n",
    "Фактически, можно посоветовать всегда пробовать оба подхода на всех несбалансированных наборах данных, просто чтобы увидеть, дает ли это улучшение результатов (по различным метрикам).\n",
    "\n",
    "Для реализации можно использовать **[`imbalanced-learn`](https://github.com/scikit-learn-contrib/imbalanced-learn)**."
   ]
  },
  {
   "cell_type": "markdown",
   "metadata": {},
   "source": [
    "#### Эмпирические правила для over-sampling и under-sampling\n",
    "\n",
    "- Рассмотреть возможность использования **under-sampling**, когда имеется **много данных** (десятки, сотни тысяч или больше).\n",
    "\n",
    "- Рассмотреть возможность использования **over-sampling**, когда имеется **мало данных** (десятки тысяч записей или меньше).\n",
    "\n",
    "- Рассмотреть возможность использования случайных (***[random](https://en.wikipedia.org/wiki/Simple_random_sample)**) и неслучайных (***non-random**), например, стратифицированных (***[stratified](https://ru.wikipedia.org/wiki/%D0%A0%D0%B0%D0%B9%D0%BE%D0%BD%D0%B8%D1%80%D0%BE%D0%B2%D0%B0%D0%BD%D0%BD%D0%B0%D1%8F_%D0%B2%D1%8B%D0%B1%D0%BE%D1%80%D0%BA%D0%B0)**) схем семплирования (**sampling**).\n",
    "\n",
    "- Рассмотреть возможность использования **разных соотношений ресемплинга (resampling)** (например, не нужно стремиться к соотношению 1:1 в задаче двоичной классификации, можно попробовать другие соотношения)."
   ]
  },
  {
   "cell_type": "code",
   "execution_count": null,
   "metadata": {},
   "outputs": [],
   "source": []
  },
  {
   "cell_type": "markdown",
   "metadata": {},
   "source": [
    "#### Создать синтетическую выборку\n",
    "\n",
    "- Простой способ создания синтетических выборок - это случайная выборка из экземпляров класса меньшинства (minority class).\n",
    "\n",
    "- Можно выбрать их эмпирически в своем наборе данных или использовать такой метод, как *[Наивный Байес (Naive Bayes)](https://ru.wikipedia.org/wiki/%D0%9D%D0%B0%D0%B8%D0%B2%D0%BD%D1%8B%D0%B9_%D0%B1%D0%B0%D0%B9%D0%B5%D1%81%D0%BE%D0%B2%D1%81%D0%BA%D0%B8%D0%B9_%D0%BA%D0%BB%D0%B0%D1%81%D1%81%D0%B8%D1%84%D0%B8%D0%BA%D0%B0%D1%82%D0%BE%D1%80), который может выбирать каждый атрибут независимо при выполнении в обратном порядке (reverse). Будет больше данных и они будут разннобразнее, но нелинейные отношения между атрибутами могут не сохраниться.\n",
    "\n",
    "- Существуют \"систематические (systematic)\" алгоритмы, которые можно использовать для создания синтетических выборок. \n",
    "    - Самый популярный из таких алгоритмов называется [*`SMOTE` (Synthetic Minority Over-sampling Technique)](https://en.wikipedia.org/wiki/Oversampling_and_undersampling_in_data_analysis#SMOTE).\n",
    "    - `SMOTE` работает путем создания синтетических выборок из класса меньшинства (minor class) вместо создания копий.\n",
    "    - Алгоритм `SMOTE` выбирает два или более похожих экземпляра (с использованием меры расстояния) и изменяет один атрибут выборки за раз на случайную величину в пределах разницы с соседними экземплярами.\n",
    "    - Существует ряд реализаций алгоритма `SMOTE`, например, для Python можно рассмотреть [`imbalanced-learn`](https://github.com/scikit-learn-contrib/imbalanced-learn).\n",
    "    \n",
    "<img src=\"images/SMOTE.png\">"
   ]
  },
  {
   "cell_type": "markdown",
   "metadata": {},
   "source": [
    "### Пробовать разные алгоритмы\n",
    "\n",
    "Настоятельно рекомендуется не использовать свой любимый алгоритм для каждой задачи.\n",
    "\n",
    "По крайней мере, необходимо проверять различные типы алгоритмов для решения конкретной проблемы.\n",
    "См. статьи на тему \"spot-checking algorithms\"."
   ]
  },
  {
   "cell_type": "markdown",
   "metadata": {},
   "source": [
    "### Попробовать модели со штрафами (Penalized Models)\n",
    "\n",
    "Можно использовать те же алгоритмы, но дать им другой взгляд на проблему.\n",
    "\n",
    "Штрафная классификация накладывает дополнительную плату на модель за ошибки классификации в классе меньшинства во время обучения. Эти штрафы могут склонить модель к уделению большего внимания классу меньшинства.\n",
    "\n",
    "Часто обработка штрафов классов или весов зависит от алгоритма обучения.\n",
    "\n",
    "Существуют штрафные версии алгоритмов, такие как штрафной [SVM](https://ru.wikipedia.org/wiki/%D0%9C%D0%B5%D1%82%D0%BE%D0%B4_%D0%BE%D0%BF%D0%BE%D1%80%D0%BD%D1%8B%D1%85_%D0%B2%D0%B5%D0%BA%D1%82%D0%BE%D1%80%D0%BE%D0%B2) (penalized-SVM) и штрафной *[LDA](https://ru.wikipedia.org/wiki/%D0%9B%D0%B0%D1%82%D0%B5%D0%BD%D1%82%D0%BD%D0%BE%D0%B5_%D1%80%D0%B0%D0%B7%D0%BC%D0%B5%D1%89%D0%B5%D0%BD%D0%B8%D0%B5_%D0%94%D0%B8%D1%80%D0%B8%D1%85%D0%BB%D0%B5) (penalized-LDA).\n",
    "\n",
    "Применение штрафов желательно, если вы привязаны к определенному алгоритму и не можете выполнить ресемплинг или получаете плохие результаты. Это еще один способ \"сбалансировать\" классы. \n",
    "\n",
    "Настройка матрицы штрафов может быть сложной. \n",
    "\n",
    "Скорее всего, придется попробовать различные схемы штрафов и посмотреть, что лучше всего подходит для конкретной проблемы."
   ]
  },
  {
   "cell_type": "markdown",
   "metadata": {},
   "source": [
    "### Попробуйте посмотреть с другой точки зрения\n",
    "\n",
    "Есть области исследований, посвященные несбалансированным наборам данных. У них есть свои алгоритмы, меры и терминология.\n",
    "\n",
    "Два подхода, которые важно рассмотреть рассмотреть, - это **обнаружение аномалий (anomaly detection)** и **обнаружение изменений (change detection)**.\n",
    "\n",
    "**Обнаружение аномалий** - это обнаружение редких событий. Это может быть неисправность машины, на которую указывает ее вибрация, или злонамеренная активность программы, на которую указывает последовательность ее системных вызовов. События редки и по сравнению с нормальной работой.\n",
    "\n",
    "**Обнаружение изменений** похоже на обнаружение аномалий, за исключением того, что вместо поиска аномалии оно ищет изменение или отличие. Это может быть изменение поведения пользователя, наблюдаемое по шаблонам использования или банковским транзакциям.\n",
    "\n",
    "Оба этих подхода в большей степени относятся к проблеме классификации в реальном времени, что может дать некоторые новые способы осмысления проблемы и, возможно, еще несколько методов, которые можно попробовать."
   ]
  },
  {
   "cell_type": "markdown",
   "metadata": {},
   "source": [
    "### Попробуйте проявить творческий подход\n",
    "\n",
    "По-настоящему зуглубитесь в тематику проблемы и подумайте, как разбить ее на более мелкие проблемы, которые легче решить.\n",
    "\n",
    "Для вдохновения взгляните на очень креативные ответы на `Quora` на вопрос [\"Как вы справляетесь с несбалансированной обучающей выборкой при классификации?\"](https://www.quora.com/In-classification-how-do-you-handle-an-unbalanced-training-set)\n",
    "\n",
    "Например: \n",
    "- Разложите свой больший класс на меньшее количество других классов… \n",
    "- … Использовать классификатор с одним классом… (например, рассматривать как обнаружение выбросов) \n",
    "- … Ресемплинг несбалансированной обучающей выборки не в одну сбалансированную, а в несколько. Запуск ансамбля классификаторов на этих наборах может дать гораздо лучший результат, чем один классификатор.\n",
    "\n",
    "Это всего лишь несколько интересных и креативных идей, которые можно попробовать.\n",
    "\n",
    "Для получения дополнительных идей ознакомьтесь с этими комментариями к сообщению `Reddit` [\"Классификация, когда 80% моей обучающей выборки относится к одному классу\"](https://www.reddit.com/r/MachineLearning/comments/12evgi/classification_when_80_of_my_training_set_is_of/)."
   ]
  }
 ],
 "metadata": {
  "kernelspec": {
   "display_name": "Python [conda env:LevelUp_DataScience] *",
   "language": "python",
   "name": "conda-env-LevelUp_DataScience-py"
  },
  "language_info": {
   "codemirror_mode": {
    "name": "ipython",
    "version": 3
   },
   "file_extension": ".py",
   "mimetype": "text/x-python",
   "name": "python",
   "nbconvert_exporter": "python",
   "pygments_lexer": "ipython3",
   "version": "3.8.5"
  },
  "toc-autonumbering": true
 },
 "nbformat": 4,
 "nbformat_minor": 4
}
