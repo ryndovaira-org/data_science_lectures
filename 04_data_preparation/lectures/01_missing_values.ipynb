{
 "cells": [
  {
   "cell_type": "markdown",
   "metadata": {
    "pycharm": {
     "name": "#%% md\n"
    }
   },
   "source": [
    "# Обработка пропущенных значений"
   ]
  },
  {
   "cell_type": "markdown",
   "metadata": {},
   "source": [
    "---\n",
    "\n",
    "**Источники:**\n",
    "\n",
    "[Working with Missing Data in Machine Learning](https://towardsdatascience.com/working-with-missing-data-in-machine-learning-9c0a430df4ce)\n",
    "\n",
    "[Python | Visualize missing values (NaN) values using Missingno Library](https://www.geeksforgeeks.org/python-visualize-missing-values-nan-values-using-missingno-library/)\n",
    "\n",
    "[Working with missing data](https://pandas.pydata.org/pandas-docs/stable/user_guide/missing_data.html#missing-data)\n",
    "\n",
    "[10 лайфхаков для работы с библиотекой Pandas](https://medium.com/nuances-of-programming/10-%D0%BB%D0%B0%D0%B9%D1%84%D1%85%D0%B0%D0%BA%D0%BE%D0%B2-%D0%B4%D0%BB%D1%8F-%D1%80%D0%B0%D0%B1%D0%BE%D1%82%D1%8B-%D1%81-%D0%B1%D0%B8%D0%B1%D0%BB%D0%B8%D0%BE%D1%82%D0%B5%D0%BA%D0%BE%D0%B9-pandas-e88c95ebec63)\n",
    "\n",
    "[Missing data](https://en.wikipedia.org/wiki/Missing_data)\n",
    "\n",
    "[Data Cleaning with Python and Pandas: Detecting Missing Values](https://towardsdatascience.com/data-cleaning-with-python-and-pandas-detecting-missing-values-3e9c6ebcf78b)\n",
    "\n",
    "[ODSC-missing-data-may-18](https://github.com/matthewbrems/ODSC-missing-data-may-18/blob/master/Analysis%20with%20Missing%20Data.pdf)\n",
    "\n",
    "[Statistical test for MCAR in python…](https://towardsdatascience.com/statistical-test-for-mcar-in-python-9fb617a76eac)\n",
    "\n",
    "[Full Information Maximum Likelihood Estimation for Latent Variable Interactions With Incomplete Indicators](https://www.ncbi.nlm.nih.gov/pmc/articles/PMC5489914/)\n",
    "\n",
    "[Simple techniques for missing data imputation](https://www.kaggle.com/residentmario/simple-techniques-for-missing-data-imputation)\n",
    "\n",
    "[6 Different Ways to Compensate for Missing Values In a Dataset (Data Imputation with examples)](https://towardsdatascience.com/6-different-ways-to-compensate-for-missing-values-data-imputation-with-examples-6022d9ca0779)\n",
    "\n",
    "[How to Handle Missing Data in Machine Learning: 5 Techniques](https://dev.acquia.com/blog/how-to-handle-missing-data-in-machine-learning-5-techniques/09/07/2018/19651)\n",
    "\n",
    "[Imputation (statistics)](https://en.wikipedia.org/wiki/Imputation_(statistics))\n",
    "\n",
    "[RT 2: Missing Data](https://www.lancaster.ac.uk/stor-i-student-sites/tessa-wilkie/wp-content/uploads/sites/14/2020/05/RT2__Missing_Data_TW_1.5_spacing.pdf)\n",
    "\n",
    "[Handling missing data MCAR, MAR and MNAR (Part I)](https://www.kaggle.com/yassirarezki/handling-missing-data-mcar-mar-and-mnar-part-i)\n",
    "\n",
    "[matthewbrems/missing-data-workshop](https://github.com/matthewbrems/missing-data-workshop)\n",
    "\n",
    "[Your Ultimate Data Manipulation & Cleaning Cheat Sheet](https://towardsdatascience.com/your-ultimate-data-manipulation-cleaning-cheat-sheet-731f3b14a0be)\n",
    "\n",
    "[Pandas_Cheat_Sheet](https://pandas.pydata.org/Pandas_Cheat_Sheet.pdf)\n",
    "\n",
    "[Handling Missing Data](https://jakevdp.github.io/PythonDataScienceHandbook/03.04-missing-values.html)\n",
    "\n",
    "[Computations / descriptive stats](https://pandas.pydata.org/pandas-docs/stable/reference/series.html#computations-descriptive-stats)\n",
    "\n",
    "[Missing data handling](https://pandas.pydata.org/pandas-docs/stable/reference/series.html#missing-data-handling)\n",
    "\n",
    "---"
   ]
  },
  {
   "cell_type": "markdown",
   "metadata": {
    "pycharm": {
     "name": "#%% md\n"
    }
   },
   "source": [
    "## Подготовка окружения"
   ]
  },
  {
   "cell_type": "code",
   "execution_count": 1,
   "metadata": {
    "collapsed": false,
    "jupyter": {
     "outputs_hidden": false
    },
    "pycharm": {
     "name": "#%%\n"
    }
   },
   "outputs": [
    {
     "name": "stdout",
     "output_type": "stream",
     "text": [
      "pip 20.3.3 from /home/ira/anaconda3/envs/LevelUp_DataScience/lib/python3.8/site-packages/pip (python 3.8)\n"
     ]
    }
   ],
   "source": [
    "# ВНИМАНИЕ: необходимо удостовериться, что виртуальная среда выбрана правильно!\n",
    "\n",
    "# Для MacOS/Ubuntu
!which pip

# Для Windows
# !where pip"
   ]
  },
  {
   "cell_type": "code",
   "execution_count": 2,
   "metadata": {
    "collapsed": false,
    "jupyter": {
     "outputs_hidden": false
    },
    "pycharm": {
     "name": "#%%\n"
    }
   },
   "outputs": [],
   "source": [
    "# !conda install matplotlib numpy pandas-profiling missingno -y"
   ]
  },
  {
   "cell_type": "code",
   "execution_count": 3,
   "metadata": {
    "collapsed": false,
    "jupyter": {
     "outputs_hidden": false
    },
    "pycharm": {
     "name": "#%%\n"
    }
   },
   "outputs": [
    {
     "data": {
      "text/plain": [
       "'3.3.4'"
      ]
     },
     "execution_count": 3,
     "metadata": {},
     "output_type": "execute_result"
    }
   ],
   "source": [
    "import matplotlib\n",
    "import matplotlib.pyplot as plt\n",
    "\n",
    "matplotlib.__version__"
   ]
  },
  {
   "cell_type": "code",
   "execution_count": 4,
   "metadata": {
    "collapsed": false,
    "jupyter": {
     "outputs_hidden": false
    },
    "pycharm": {
     "name": "#%%\n"
    }
   },
   "outputs": [
    {
     "data": {
      "text/plain": [
       "'1.19.2'"
      ]
     },
     "execution_count": 4,
     "metadata": {},
     "output_type": "execute_result"
    }
   ],
   "source": [
    "import numpy as np\n",
    "\n",
    "np.__version__"
   ]
  },
  {
   "cell_type": "code",
   "execution_count": 5,
   "metadata": {
    "collapsed": false,
    "jupyter": {
     "outputs_hidden": false
    },
    "pycharm": {
     "name": "#%%\n"
    }
   },
   "outputs": [
    {
     "data": {
      "text/plain": [
       "'1.2.3'"
      ]
     },
     "execution_count": 5,
     "metadata": {},
     "output_type": "execute_result"
    }
   ],
   "source": [
    "import pandas as pd\n",
    "\n",
    "pd.__version__"
   ]
  },
  {
   "cell_type": "code",
   "execution_count": 6,
   "metadata": {
    "collapsed": false,
    "jupyter": {
     "outputs_hidden": false
    },
    "pycharm": {
     "name": "#%%\n"
    }
   },
   "outputs": [
    {
     "data": {
      "text/plain": [
       "'2.9.0'"
      ]
     },
     "execution_count": 6,
     "metadata": {},
     "output_type": "execute_result"
    }
   ],
   "source": [
    "import pandas_profiling\n",
    "from pandas_profiling import ProfileReport\n",
    "\n",
    "pandas_profiling.__version__"
   ]
  },
  {
   "cell_type": "code",
   "execution_count": 7,
   "metadata": {},
   "outputs": [
    {
     "data": {
      "text/plain": [
       "'0.4.2'"
      ]
     },
     "execution_count": 7,
     "metadata": {},
     "output_type": "execute_result"
    }
   ],
   "source": [
    "import missingno as msno\n",
    "\n",
    "msno.__version__"
   ]
  },
  {
   "cell_type": "markdown",
   "metadata": {},
   "source": [
    "## Пропущенные значения в `pandas`\n",
    "\n",
    "Поскольку данные бывают разных форм, `pandas` стремится быть гибким в отношении обработки недостающих (missing) данных.\n",
    "\n",
    "Хотя `NaN` (Not a Number) является маркером отсутствующего значения по умолчанию из соображений скорости вычислений и удобства, нужно иметь возможность легко обнаруживать это значение в данных разных типов: с плавающей запятой (float), целыми числами (int), логическими значениями (boolean) и объектами (object).\n",
    "\n",
    "Однако во многих случаях в Python присутствует значение `None`, и мы также необходимо понимать как \"отсутствует\" (\"missing\") или \"недоступно\" (`NA`, not available).\n",
    "\n",
    "Также может потребоваться рассматривать бесконечность (`inf` и `-inf`) как `NA` в вычислениях. Для этого необходимо установить параметр `use_inf_as_na`:\n",
    "```\n",
    "pandas.options.mode.use_inf_as_na = True\n",
    "```"
   ]
  },
  {
   "cell_type": "markdown",
   "metadata": {},
   "source": [
    "## Загрузка данных\n",
    "\n",
    "[Источник (Wine Reviews)](https://www.kaggle.com/zynicide/wine-reviews/data)"
   ]
  },
  {
   "cell_type": "code",
   "execution_count": 8,
   "metadata": {
    "collapsed": false,
    "jupyter": {
     "outputs_hidden": false
    },
    "pycharm": {
     "name": "#%%\n"
    }
   },
   "outputs": [
    {
     "data": {
      "text/html": [
       "<div>\n",
       "<style scoped>\n",
       "    .dataframe tbody tr th:only-of-type {\n",
       "        vertical-align: middle;\n",
       "    }\n",
       "\n",
       "    .dataframe tbody tr th {\n",
       "        vertical-align: top;\n",
       "    }\n",
       "\n",
       "    .dataframe thead th {\n",
       "        text-align: right;\n",
       "    }\n",
       "</style>\n",
       "<table border=\"1\" class=\"dataframe\">\n",
       "  <thead>\n",
       "    <tr style=\"text-align: right;\">\n",
       "      <th></th>\n",
       "      <th>country</th>\n",
       "      <th>description</th>\n",
       "      <th>designation</th>\n",
       "      <th>points</th>\n",
       "      <th>price</th>\n",
       "      <th>province</th>\n",
       "      <th>region_1</th>\n",
       "      <th>region_2</th>\n",
       "      <th>taster_name</th>\n",
       "      <th>taster_twitter_handle</th>\n",
       "      <th>title</th>\n",
       "      <th>variety</th>\n",
       "      <th>winery</th>\n",
       "    </tr>\n",
       "  </thead>\n",
       "  <tbody>\n",
       "    <tr>\n",
       "      <th>0</th>\n",
       "      <td>Italy</td>\n",
       "      <td>Aromas include tropical fruit, broom, brimston...</td>\n",
       "      <td>Vulkà Bianco</td>\n",
       "      <td>87</td>\n",
       "      <td>NaN</td>\n",
       "      <td>Sicily &amp; Sardinia</td>\n",
       "      <td>Etna</td>\n",
       "      <td>NaN</td>\n",
       "      <td>Kerin O’Keefe</td>\n",
       "      <td>@kerinokeefe</td>\n",
       "      <td>Nicosia 2013 Vulkà Bianco  (Etna)</td>\n",
       "      <td>White Blend</td>\n",
       "      <td>Nicosia</td>\n",
       "    </tr>\n",
       "    <tr>\n",
       "      <th>1</th>\n",
       "      <td>Portugal</td>\n",
       "      <td>This is ripe and fruity, a wine that is smooth...</td>\n",
       "      <td>Avidagos</td>\n",
       "      <td>87</td>\n",
       "      <td>15.0</td>\n",
       "      <td>Douro</td>\n",
       "      <td>NaN</td>\n",
       "      <td>NaN</td>\n",
       "      <td>Roger Voss</td>\n",
       "      <td>@vossroger</td>\n",
       "      <td>Quinta dos Avidagos 2011 Avidagos Red (Douro)</td>\n",
       "      <td>Portuguese Red</td>\n",
       "      <td>Quinta dos Avidagos</td>\n",
       "    </tr>\n",
       "    <tr>\n",
       "      <th>2</th>\n",
       "      <td>US</td>\n",
       "      <td>Tart and snappy, the flavors of lime flesh and...</td>\n",
       "      <td>NaN</td>\n",
       "      <td>87</td>\n",
       "      <td>14.0</td>\n",
       "      <td>Oregon</td>\n",
       "      <td>Willamette Valley</td>\n",
       "      <td>Willamette Valley</td>\n",
       "      <td>Paul Gregutt</td>\n",
       "      <td>@paulgwine</td>\n",
       "      <td>Rainstorm 2013 Pinot Gris (Willamette Valley)</td>\n",
       "      <td>Pinot Gris</td>\n",
       "      <td>Rainstorm</td>\n",
       "    </tr>\n",
       "    <tr>\n",
       "      <th>3</th>\n",
       "      <td>US</td>\n",
       "      <td>Pineapple rind, lemon pith and orange blossom ...</td>\n",
       "      <td>Reserve Late Harvest</td>\n",
       "      <td>87</td>\n",
       "      <td>13.0</td>\n",
       "      <td>Michigan</td>\n",
       "      <td>Lake Michigan Shore</td>\n",
       "      <td>NaN</td>\n",
       "      <td>Alexander Peartree</td>\n",
       "      <td>NaN</td>\n",
       "      <td>St. Julian 2013 Reserve Late Harvest Riesling ...</td>\n",
       "      <td>Riesling</td>\n",
       "      <td>St. Julian</td>\n",
       "    </tr>\n",
       "    <tr>\n",
       "      <th>4</th>\n",
       "      <td>US</td>\n",
       "      <td>Much like the regular bottling from 2012, this...</td>\n",
       "      <td>Vintner's Reserve Wild Child Block</td>\n",
       "      <td>87</td>\n",
       "      <td>65.0</td>\n",
       "      <td>Oregon</td>\n",
       "      <td>Willamette Valley</td>\n",
       "      <td>Willamette Valley</td>\n",
       "      <td>Paul Gregutt</td>\n",
       "      <td>@paulgwine</td>\n",
       "      <td>Sweet Cheeks 2012 Vintner's Reserve Wild Child...</td>\n",
       "      <td>Pinot Noir</td>\n",
       "      <td>Sweet Cheeks</td>\n",
       "    </tr>\n",
       "    <tr>\n",
       "      <th>...</th>\n",
       "      <td>...</td>\n",
       "      <td>...</td>\n",
       "      <td>...</td>\n",
       "      <td>...</td>\n",
       "      <td>...</td>\n",
       "      <td>...</td>\n",
       "      <td>...</td>\n",
       "      <td>...</td>\n",
       "      <td>...</td>\n",
       "      <td>...</td>\n",
       "      <td>...</td>\n",
       "      <td>...</td>\n",
       "      <td>...</td>\n",
       "    </tr>\n",
       "    <tr>\n",
       "      <th>129966</th>\n",
       "      <td>Germany</td>\n",
       "      <td>Notes of honeysuckle and cantaloupe sweeten th...</td>\n",
       "      <td>Brauneberger Juffer-Sonnenuhr Spätlese</td>\n",
       "      <td>90</td>\n",
       "      <td>28.0</td>\n",
       "      <td>Mosel</td>\n",
       "      <td>NaN</td>\n",
       "      <td>NaN</td>\n",
       "      <td>Anna Lee C. Iijima</td>\n",
       "      <td>NaN</td>\n",
       "      <td>Dr. H. Thanisch (Erben Müller-Burggraef) 2013 ...</td>\n",
       "      <td>Riesling</td>\n",
       "      <td>Dr. H. Thanisch (Erben Müller-Burggraef)</td>\n",
       "    </tr>\n",
       "    <tr>\n",
       "      <th>129967</th>\n",
       "      <td>US</td>\n",
       "      <td>Citation is given as much as a decade of bottl...</td>\n",
       "      <td>NaN</td>\n",
       "      <td>90</td>\n",
       "      <td>75.0</td>\n",
       "      <td>Oregon</td>\n",
       "      <td>Oregon</td>\n",
       "      <td>Oregon Other</td>\n",
       "      <td>Paul Gregutt</td>\n",
       "      <td>@paulgwine</td>\n",
       "      <td>Citation 2004 Pinot Noir (Oregon)</td>\n",
       "      <td>Pinot Noir</td>\n",
       "      <td>Citation</td>\n",
       "    </tr>\n",
       "    <tr>\n",
       "      <th>129968</th>\n",
       "      <td>France</td>\n",
       "      <td>Well-drained gravel soil gives this wine its c...</td>\n",
       "      <td>Kritt</td>\n",
       "      <td>90</td>\n",
       "      <td>30.0</td>\n",
       "      <td>Alsace</td>\n",
       "      <td>Alsace</td>\n",
       "      <td>NaN</td>\n",
       "      <td>Roger Voss</td>\n",
       "      <td>@vossroger</td>\n",
       "      <td>Domaine Gresser 2013 Kritt Gewurztraminer (Als...</td>\n",
       "      <td>Gewürztraminer</td>\n",
       "      <td>Domaine Gresser</td>\n",
       "    </tr>\n",
       "    <tr>\n",
       "      <th>129969</th>\n",
       "      <td>France</td>\n",
       "      <td>A dry style of Pinot Gris, this is crisp with ...</td>\n",
       "      <td>NaN</td>\n",
       "      <td>90</td>\n",
       "      <td>32.0</td>\n",
       "      <td>Alsace</td>\n",
       "      <td>Alsace</td>\n",
       "      <td>NaN</td>\n",
       "      <td>Roger Voss</td>\n",
       "      <td>@vossroger</td>\n",
       "      <td>Domaine Marcel Deiss 2012 Pinot Gris (Alsace)</td>\n",
       "      <td>Pinot Gris</td>\n",
       "      <td>Domaine Marcel Deiss</td>\n",
       "    </tr>\n",
       "    <tr>\n",
       "      <th>129970</th>\n",
       "      <td>France</td>\n",
       "      <td>Big, rich and off-dry, this is powered by inte...</td>\n",
       "      <td>Lieu-dit Harth Cuvée Caroline</td>\n",
       "      <td>90</td>\n",
       "      <td>21.0</td>\n",
       "      <td>Alsace</td>\n",
       "      <td>Alsace</td>\n",
       "      <td>NaN</td>\n",
       "      <td>Roger Voss</td>\n",
       "      <td>@vossroger</td>\n",
       "      <td>Domaine Schoffit 2012 Lieu-dit Harth Cuvée Car...</td>\n",
       "      <td>Gewürztraminer</td>\n",
       "      <td>Domaine Schoffit</td>\n",
       "    </tr>\n",
       "  </tbody>\n",
       "</table>\n",
       "<p>129971 rows × 13 columns</p>\n",
       "</div>"
      ],
      "text/plain": [
       "         country                                        description  \\\n",
       "0          Italy  Aromas include tropical fruit, broom, brimston...   \n",
       "1       Portugal  This is ripe and fruity, a wine that is smooth...   \n",
       "2             US  Tart and snappy, the flavors of lime flesh and...   \n",
       "3             US  Pineapple rind, lemon pith and orange blossom ...   \n",
       "4             US  Much like the regular bottling from 2012, this...   \n",
       "...          ...                                                ...   \n",
       "129966   Germany  Notes of honeysuckle and cantaloupe sweeten th...   \n",
       "129967        US  Citation is given as much as a decade of bottl...   \n",
       "129968    France  Well-drained gravel soil gives this wine its c...   \n",
       "129969    France  A dry style of Pinot Gris, this is crisp with ...   \n",
       "129970    France  Big, rich and off-dry, this is powered by inte...   \n",
       "\n",
       "                                   designation  points  price  \\\n",
       "0                                 Vulkà Bianco      87    NaN   \n",
       "1                                     Avidagos      87   15.0   \n",
       "2                                          NaN      87   14.0   \n",
       "3                         Reserve Late Harvest      87   13.0   \n",
       "4           Vintner's Reserve Wild Child Block      87   65.0   \n",
       "...                                        ...     ...    ...   \n",
       "129966  Brauneberger Juffer-Sonnenuhr Spätlese      90   28.0   \n",
       "129967                                     NaN      90   75.0   \n",
       "129968                                   Kritt      90   30.0   \n",
       "129969                                     NaN      90   32.0   \n",
       "129970           Lieu-dit Harth Cuvée Caroline      90   21.0   \n",
       "\n",
       "                 province             region_1           region_2  \\\n",
       "0       Sicily & Sardinia                 Etna                NaN   \n",
       "1                   Douro                  NaN                NaN   \n",
       "2                  Oregon    Willamette Valley  Willamette Valley   \n",
       "3                Michigan  Lake Michigan Shore                NaN   \n",
       "4                  Oregon    Willamette Valley  Willamette Valley   \n",
       "...                   ...                  ...                ...   \n",
       "129966              Mosel                  NaN                NaN   \n",
       "129967             Oregon               Oregon       Oregon Other   \n",
       "129968             Alsace               Alsace                NaN   \n",
       "129969             Alsace               Alsace                NaN   \n",
       "129970             Alsace               Alsace                NaN   \n",
       "\n",
       "               taster_name taster_twitter_handle  \\\n",
       "0            Kerin O’Keefe          @kerinokeefe   \n",
       "1               Roger Voss            @vossroger   \n",
       "2             Paul Gregutt           @paulgwine    \n",
       "3       Alexander Peartree                   NaN   \n",
       "4             Paul Gregutt           @paulgwine    \n",
       "...                    ...                   ...   \n",
       "129966  Anna Lee C. Iijima                   NaN   \n",
       "129967        Paul Gregutt           @paulgwine    \n",
       "129968          Roger Voss            @vossroger   \n",
       "129969          Roger Voss            @vossroger   \n",
       "129970          Roger Voss            @vossroger   \n",
       "\n",
       "                                                    title         variety  \\\n",
       "0                       Nicosia 2013 Vulkà Bianco  (Etna)     White Blend   \n",
       "1           Quinta dos Avidagos 2011 Avidagos Red (Douro)  Portuguese Red   \n",
       "2           Rainstorm 2013 Pinot Gris (Willamette Valley)      Pinot Gris   \n",
       "3       St. Julian 2013 Reserve Late Harvest Riesling ...        Riesling   \n",
       "4       Sweet Cheeks 2012 Vintner's Reserve Wild Child...      Pinot Noir   \n",
       "...                                                   ...             ...   \n",
       "129966  Dr. H. Thanisch (Erben Müller-Burggraef) 2013 ...        Riesling   \n",
       "129967                  Citation 2004 Pinot Noir (Oregon)      Pinot Noir   \n",
       "129968  Domaine Gresser 2013 Kritt Gewurztraminer (Als...  Gewürztraminer   \n",
       "129969      Domaine Marcel Deiss 2012 Pinot Gris (Alsace)      Pinot Gris   \n",
       "129970  Domaine Schoffit 2012 Lieu-dit Harth Cuvée Car...  Gewürztraminer   \n",
       "\n",
       "                                          winery  \n",
       "0                                        Nicosia  \n",
       "1                            Quinta dos Avidagos  \n",
       "2                                      Rainstorm  \n",
       "3                                     St. Julian  \n",
       "4                                   Sweet Cheeks  \n",
       "...                                          ...  \n",
       "129966  Dr. H. Thanisch (Erben Müller-Burggraef)  \n",
       "129967                                  Citation  \n",
       "129968                           Domaine Gresser  \n",
       "129969                      Domaine Marcel Deiss  \n",
       "129970                          Domaine Schoffit  \n",
       "\n",
       "[129971 rows x 13 columns]"
      ]
     },
     "execution_count": 8,
     "metadata": {},
     "output_type": "execute_result"
    }
   ],
   "source": [
    "df = pd.read_csv('../../data/winemag-data-130k-v2.csv', index_col=0)\n",
    "\n",
    "# показать все колонки\n",
    "pd.options.display.max_columns = None\n",
    "\n",
    "# отобразить первые 5 и последние 5 строк\n",
    "df"
   ]
  },
  {
   "cell_type": "markdown",
   "metadata": {},
   "source": [
    "## Обзор полезных пакетов/методов `pandas`"
   ]
  },
  {
   "cell_type": "code",
   "execution_count": 9,
   "metadata": {},
   "outputs": [],
   "source": [
    "# profile = ProfileReport(df, \n",
    "#                         title=\"Pandas Profiling Report\")\n",
    "# profile.to_file(\"tmp/df_report.html\")"
   ]
  },
  {
   "cell_type": "code",
   "execution_count": 10,
   "metadata": {},
   "outputs": [
    {
     "data": {
      "text/html": [
       "<div>\n",
       "<style scoped>\n",
       "    .dataframe tbody tr th:only-of-type {\n",
       "        vertical-align: middle;\n",
       "    }\n",
       "\n",
       "    .dataframe tbody tr th {\n",
       "        vertical-align: top;\n",
       "    }\n",
       "\n",
       "    .dataframe thead th {\n",
       "        text-align: right;\n",
       "    }\n",
       "</style>\n",
       "<table border=\"1\" class=\"dataframe\">\n",
       "  <thead>\n",
       "    <tr style=\"text-align: right;\">\n",
       "      <th></th>\n",
       "      <th>country</th>\n",
       "      <th>description</th>\n",
       "      <th>designation</th>\n",
       "      <th>points</th>\n",
       "      <th>price</th>\n",
       "      <th>province</th>\n",
       "      <th>region_1</th>\n",
       "      <th>region_2</th>\n",
       "      <th>taster_name</th>\n",
       "      <th>taster_twitter_handle</th>\n",
       "      <th>title</th>\n",
       "      <th>variety</th>\n",
       "      <th>winery</th>\n",
       "    </tr>\n",
       "  </thead>\n",
       "  <tbody>\n",
       "    <tr>\n",
       "      <th>count</th>\n",
       "      <td>129908</td>\n",
       "      <td>129971</td>\n",
       "      <td>92506</td>\n",
       "      <td>129971.000000</td>\n",
       "      <td>120975.000000</td>\n",
       "      <td>129908</td>\n",
       "      <td>108724</td>\n",
       "      <td>50511</td>\n",
       "      <td>103727</td>\n",
       "      <td>98758</td>\n",
       "      <td>129971</td>\n",
       "      <td>129970</td>\n",
       "      <td>129971</td>\n",
       "    </tr>\n",
       "    <tr>\n",
       "      <th>unique</th>\n",
       "      <td>43</td>\n",
       "      <td>119955</td>\n",
       "      <td>37979</td>\n",
       "      <td>NaN</td>\n",
       "      <td>NaN</td>\n",
       "      <td>425</td>\n",
       "      <td>1229</td>\n",
       "      <td>17</td>\n",
       "      <td>19</td>\n",
       "      <td>15</td>\n",
       "      <td>118840</td>\n",
       "      <td>707</td>\n",
       "      <td>16757</td>\n",
       "    </tr>\n",
       "    <tr>\n",
       "      <th>top</th>\n",
       "      <td>US</td>\n",
       "      <td>Seductively tart in lemon pith, cranberry and ...</td>\n",
       "      <td>Reserve</td>\n",
       "      <td>NaN</td>\n",
       "      <td>NaN</td>\n",
       "      <td>California</td>\n",
       "      <td>Napa Valley</td>\n",
       "      <td>Central Coast</td>\n",
       "      <td>Roger Voss</td>\n",
       "      <td>@vossroger</td>\n",
       "      <td>Gloria Ferrer NV Sonoma Brut Sparkling (Sonoma...</td>\n",
       "      <td>Pinot Noir</td>\n",
       "      <td>Wines &amp; Winemakers</td>\n",
       "    </tr>\n",
       "    <tr>\n",
       "      <th>freq</th>\n",
       "      <td>54504</td>\n",
       "      <td>3</td>\n",
       "      <td>2009</td>\n",
       "      <td>NaN</td>\n",
       "      <td>NaN</td>\n",
       "      <td>36247</td>\n",
       "      <td>4480</td>\n",
       "      <td>11065</td>\n",
       "      <td>25514</td>\n",
       "      <td>25514</td>\n",
       "      <td>11</td>\n",
       "      <td>13272</td>\n",
       "      <td>222</td>\n",
       "    </tr>\n",
       "    <tr>\n",
       "      <th>mean</th>\n",
       "      <td>NaN</td>\n",
       "      <td>NaN</td>\n",
       "      <td>NaN</td>\n",
       "      <td>88.447138</td>\n",
       "      <td>35.363389</td>\n",
       "      <td>NaN</td>\n",
       "      <td>NaN</td>\n",
       "      <td>NaN</td>\n",
       "      <td>NaN</td>\n",
       "      <td>NaN</td>\n",
       "      <td>NaN</td>\n",
       "      <td>NaN</td>\n",
       "      <td>NaN</td>\n",
       "    </tr>\n",
       "    <tr>\n",
       "      <th>std</th>\n",
       "      <td>NaN</td>\n",
       "      <td>NaN</td>\n",
       "      <td>NaN</td>\n",
       "      <td>3.039730</td>\n",
       "      <td>41.022218</td>\n",
       "      <td>NaN</td>\n",
       "      <td>NaN</td>\n",
       "      <td>NaN</td>\n",
       "      <td>NaN</td>\n",
       "      <td>NaN</td>\n",
       "      <td>NaN</td>\n",
       "      <td>NaN</td>\n",
       "      <td>NaN</td>\n",
       "    </tr>\n",
       "    <tr>\n",
       "      <th>min</th>\n",
       "      <td>NaN</td>\n",
       "      <td>NaN</td>\n",
       "      <td>NaN</td>\n",
       "      <td>80.000000</td>\n",
       "      <td>4.000000</td>\n",
       "      <td>NaN</td>\n",
       "      <td>NaN</td>\n",
       "      <td>NaN</td>\n",
       "      <td>NaN</td>\n",
       "      <td>NaN</td>\n",
       "      <td>NaN</td>\n",
       "      <td>NaN</td>\n",
       "      <td>NaN</td>\n",
       "    </tr>\n",
       "    <tr>\n",
       "      <th>25%</th>\n",
       "      <td>NaN</td>\n",
       "      <td>NaN</td>\n",
       "      <td>NaN</td>\n",
       "      <td>86.000000</td>\n",
       "      <td>17.000000</td>\n",
       "      <td>NaN</td>\n",
       "      <td>NaN</td>\n",
       "      <td>NaN</td>\n",
       "      <td>NaN</td>\n",
       "      <td>NaN</td>\n",
       "      <td>NaN</td>\n",
       "      <td>NaN</td>\n",
       "      <td>NaN</td>\n",
       "    </tr>\n",
       "    <tr>\n",
       "      <th>50%</th>\n",
       "      <td>NaN</td>\n",
       "      <td>NaN</td>\n",
       "      <td>NaN</td>\n",
       "      <td>88.000000</td>\n",
       "      <td>25.000000</td>\n",
       "      <td>NaN</td>\n",
       "      <td>NaN</td>\n",
       "      <td>NaN</td>\n",
       "      <td>NaN</td>\n",
       "      <td>NaN</td>\n",
       "      <td>NaN</td>\n",
       "      <td>NaN</td>\n",
       "      <td>NaN</td>\n",
       "    </tr>\n",
       "    <tr>\n",
       "      <th>75%</th>\n",
       "      <td>NaN</td>\n",
       "      <td>NaN</td>\n",
       "      <td>NaN</td>\n",
       "      <td>91.000000</td>\n",
       "      <td>42.000000</td>\n",
       "      <td>NaN</td>\n",
       "      <td>NaN</td>\n",
       "      <td>NaN</td>\n",
       "      <td>NaN</td>\n",
       "      <td>NaN</td>\n",
       "      <td>NaN</td>\n",
       "      <td>NaN</td>\n",
       "      <td>NaN</td>\n",
       "    </tr>\n",
       "    <tr>\n",
       "      <th>max</th>\n",
       "      <td>NaN</td>\n",
       "      <td>NaN</td>\n",
       "      <td>NaN</td>\n",
       "      <td>100.000000</td>\n",
       "      <td>3300.000000</td>\n",
       "      <td>NaN</td>\n",
       "      <td>NaN</td>\n",
       "      <td>NaN</td>\n",
       "      <td>NaN</td>\n",
       "      <td>NaN</td>\n",
       "      <td>NaN</td>\n",
       "      <td>NaN</td>\n",
       "      <td>NaN</td>\n",
       "    </tr>\n",
       "  </tbody>\n",
       "</table>\n",
       "</div>"
      ],
      "text/plain": [
       "       country                                        description designation  \\\n",
       "count   129908                                             129971       92506   \n",
       "unique      43                                             119955       37979   \n",
       "top         US  Seductively tart in lemon pith, cranberry and ...     Reserve   \n",
       "freq     54504                                                  3        2009   \n",
       "mean       NaN                                                NaN         NaN   \n",
       "std        NaN                                                NaN         NaN   \n",
       "min        NaN                                                NaN         NaN   \n",
       "25%        NaN                                                NaN         NaN   \n",
       "50%        NaN                                                NaN         NaN   \n",
       "75%        NaN                                                NaN         NaN   \n",
       "max        NaN                                                NaN         NaN   \n",
       "\n",
       "               points          price    province     region_1       region_2  \\\n",
       "count   129971.000000  120975.000000      129908       108724          50511   \n",
       "unique            NaN            NaN         425         1229             17   \n",
       "top               NaN            NaN  California  Napa Valley  Central Coast   \n",
       "freq              NaN            NaN       36247         4480          11065   \n",
       "mean        88.447138      35.363389         NaN          NaN            NaN   \n",
       "std          3.039730      41.022218         NaN          NaN            NaN   \n",
       "min         80.000000       4.000000         NaN          NaN            NaN   \n",
       "25%         86.000000      17.000000         NaN          NaN            NaN   \n",
       "50%         88.000000      25.000000         NaN          NaN            NaN   \n",
       "75%         91.000000      42.000000         NaN          NaN            NaN   \n",
       "max        100.000000    3300.000000         NaN          NaN            NaN   \n",
       "\n",
       "       taster_name taster_twitter_handle  \\\n",
       "count       103727                 98758   \n",
       "unique          19                    15   \n",
       "top     Roger Voss            @vossroger   \n",
       "freq         25514                 25514   \n",
       "mean           NaN                   NaN   \n",
       "std            NaN                   NaN   \n",
       "min            NaN                   NaN   \n",
       "25%            NaN                   NaN   \n",
       "50%            NaN                   NaN   \n",
       "75%            NaN                   NaN   \n",
       "max            NaN                   NaN   \n",
       "\n",
       "                                                    title     variety  \\\n",
       "count                                              129971      129970   \n",
       "unique                                             118840         707   \n",
       "top     Gloria Ferrer NV Sonoma Brut Sparkling (Sonoma...  Pinot Noir   \n",
       "freq                                                   11       13272   \n",
       "mean                                                  NaN         NaN   \n",
       "std                                                   NaN         NaN   \n",
       "min                                                   NaN         NaN   \n",
       "25%                                                   NaN         NaN   \n",
       "50%                                                   NaN         NaN   \n",
       "75%                                                   NaN         NaN   \n",
       "max                                                   NaN         NaN   \n",
       "\n",
       "                    winery  \n",
       "count               129971  \n",
       "unique               16757  \n",
       "top     Wines & Winemakers  \n",
       "freq                   222  \n",
       "mean                   NaN  \n",
       "std                    NaN  \n",
       "min                    NaN  \n",
       "25%                    NaN  \n",
       "50%                    NaN  \n",
       "75%                    NaN  \n",
       "max                    NaN  "
      ]
     },
     "execution_count": 10,
     "metadata": {},
     "output_type": "execute_result"
    }
   ],
   "source": [
    "df.describe(include='all')"
   ]
  },
  {
   "cell_type": "markdown",
   "metadata": {},
   "source": [
    "### Обнаружение и анализ пропущенных значений"
   ]
  },
  {
   "cell_type": "code",
   "execution_count": 11,
   "metadata": {},
   "outputs": [
    {
     "data": {
      "text/plain": [
       "country                     63\n",
       "description                  0\n",
       "designation              37465\n",
       "points                       0\n",
       "price                     8996\n",
       "province                    63\n",
       "region_1                 21247\n",
       "region_2                 79460\n",
       "taster_name              26244\n",
       "taster_twitter_handle    31213\n",
       "title                        0\n",
       "variety                      1\n",
       "winery                       0\n",
       "dtype: int64"
      ]
     },
     "execution_count": 11,
     "metadata": {},
     "output_type": "execute_result"
    }
   ],
   "source": [
    "# сколько пропущенных значений в каждом столбце\n",
    "df.isna().sum()"
   ]
  },
  {
   "cell_type": "code",
   "execution_count": 12,
   "metadata": {},
   "outputs": [
    {
     "data": {
      "text/plain": [
       "country                     63\n",
       "description                  0\n",
       "designation              37465\n",
       "points                       0\n",
       "price                     8996\n",
       "province                    63\n",
       "region_1                 21247\n",
       "region_2                 79460\n",
       "taster_name              26244\n",
       "taster_twitter_handle    31213\n",
       "title                        0\n",
       "variety                      1\n",
       "winery                       0\n",
       "dtype: int64"
      ]
     },
     "execution_count": 12,
     "metadata": {},
     "output_type": "execute_result"
    }
   ],
   "source": [
    "# сколько пропущенных значений в каждом столбце\n",
    "# псевдоним для isna\n",
    "df.isnull().sum()"
   ]
  },
  {
   "cell_type": "code",
   "execution_count": 13,
   "metadata": {},
   "outputs": [
    {
     "data": {
      "text/plain": [
       "country                  129908\n",
       "description              129971\n",
       "designation               92506\n",
       "points                   129971\n",
       "price                    120975\n",
       "province                 129908\n",
       "region_1                 108724\n",
       "region_2                  50511\n",
       "taster_name              103727\n",
       "taster_twitter_handle     98758\n",
       "title                    129971\n",
       "variety                  129970\n",
       "winery                   129971\n",
       "dtype: int64"
      ]
     },
     "execution_count": 13,
     "metadata": {},
     "output_type": "execute_result"
    }
   ],
   "source": [
    "# сколько заполненных значений в каждом столбце\n",
    "df.notna().sum()"
   ]
  },
  {
   "cell_type": "code",
   "execution_count": 14,
   "metadata": {},
   "outputs": [
    {
     "data": {
      "text/plain": [
       "<AxesSubplot:>"
      ]
     },
     "execution_count": 14,
     "metadata": {},
     "output_type": "execute_result"
    },
    {
     "data": {
      "image/png": "[encoded data removed]",
      "text/plain": [
       "<Figure size 1800x720 with 2 Axes>"
      ]
     },
     "metadata": {
      "needs_background": "light"
     },
     "output_type": "display_data"
    }
   ],
   "source": [
    "msno.matrix(df)"
   ]
  },
  {
   "cell_type": "code",
   "execution_count": 15,
   "metadata": {},
   "outputs": [
    {
     "data": {
      "text/plain": [
       "<AxesSubplot:>"
      ]
     },
     "execution_count": 15,
     "metadata": {},
     "output_type": "execute_result"
    },
    {
     "data": {
      "image/png": "[encoded data removed]",
      "text/plain": [
       "<Figure size 1440x864 with 2 Axes>"
      ]
     },
     "metadata": {
      "needs_background": "light"
     },
     "output_type": "display_data"
    }
   ],
   "source": [
    "msno.heatmap(df)"
   ]
  },
  {
   "cell_type": "code",
   "execution_count": 16,
   "metadata": {},
   "outputs": [
    {
     "data": {
      "text/plain": [
       "<AxesSubplot:>"
      ]
     },
     "execution_count": 16,
     "metadata": {},
     "output_type": "execute_result"
    },
    {
     "data": {
      "image/png": "[encoded data removed]",
      "text/plain": [
       "<Figure size 1728x720 with 3 Axes>"
      ]
     },
     "metadata": {
      "needs_background": "light"
     },
     "output_type": "display_data"
    }
   ],
   "source": [
    "msno.bar(df)"
   ]
  },
  {
   "cell_type": "markdown",
   "metadata": {},
   "source": [
    "### Заполнение пропущенных значений\n",
    "\n",
    "[fillna](https://pandas.pydata.org/pandas-docs/stable/reference/api/pandas.Series.fillna.html#pandas.Series.fillna)\n",
    "\n",
    "[interpolate](https://pandas.pydata.org/pandas-docs/stable/reference/api/pandas.Series.interpolate.html#pandas.Series.interpolate)\n",
    "\n",
    "[replace](https://pandas.pydata.org/pandas-docs/stable/reference/api/pandas.DataFrame.replace.html)"
   ]
  },
  {
   "cell_type": "code",
   "execution_count": 18,
   "metadata": {},
   "outputs": [
    {
     "data": {
      "text/plain": [
       "<AxesSubplot:ylabel='Density'>"
      ]
     },
     "execution_count": 18,
     "metadata": {},
     "output_type": "execute_result"
    },
    {
     "data": {
      "image/png": "[encoded data removed]",
      "text/plain": [
       "<Figure size 432x288 with 1 Axes>"
      ]
     },
     "metadata": {
      "needs_background": "light"
     },
     "output_type": "display_data"
    }
   ],
   "source": [
    "df.price.plot.kde()"
   ]
  },
  {
   "cell_type": "code",
   "execution_count": 19,
   "metadata": {},
   "outputs": [
    {
     "data": {
      "text/plain": [
       "8996"
      ]
     },
     "execution_count": 19,
     "metadata": {},
     "output_type": "execute_result"
    }
   ],
   "source": [
    "df.price.isnull().sum()"
   ]
  },
  {
   "cell_type": "code",
   "execution_count": 20,
   "metadata": {},
   "outputs": [],
   "source": [
    "new_price_filled = df.price.fillna(df.price.mode()[0])"
   ]
  },
  {
   "cell_type": "code",
   "execution_count": 21,
   "metadata": {},
   "outputs": [
    {
     "data": {
      "text/plain": [
       "0"
      ]
     },
     "execution_count": 21,
     "metadata": {},
     "output_type": "execute_result"
    }
   ],
   "source": [
    "new_price_filled.isnull().sum()"
   ]
  },
  {
   "cell_type": "code",
   "execution_count": 22,
   "metadata": {},
   "outputs": [
    {
     "data": {
      "text/plain": [
       "<AxesSubplot:ylabel='Density'>"
      ]
     },
     "execution_count": 22,
     "metadata": {},
     "output_type": "execute_result"
    },
    {
     "data": {
      "image/png": "[encoded data removed]",
      "text/plain": [
       "<Figure size 432x288 with 1 Axes>"
      ]
     },
     "metadata": {
      "needs_background": "light"
     },
     "output_type": "display_data"
    }
   ],
   "source": [
    "new_price_filled.plot.kde()"
   ]
  },
  {
   "cell_type": "code",
   "execution_count": 23,
   "metadata": {},
   "outputs": [
    {
     "data": {
      "text/plain": [
       "0          True\n",
       "1         False\n",
       "2         False\n",
       "3         False\n",
       "4         False\n",
       "          ...  \n",
       "129966    False\n",
       "129967    False\n",
       "129968    False\n",
       "129969    False\n",
       "129970    False\n",
       "Name: price, Length: 129971, dtype: bool"
      ]
     },
     "execution_count": 23,
     "metadata": {},
     "output_type": "execute_result"
    }
   ],
   "source": [
    "df.price.isnull()"
   ]
  },
  {
   "cell_type": "code",
   "execution_count": 24,
   "metadata": {},
   "outputs": [],
   "source": [
    "new_price_interp = df.price.interpolate(method='values')"
   ]
  },
  {
   "cell_type": "code",
   "execution_count": 25,
   "metadata": {},
   "outputs": [
    {
     "data": {
      "text/plain": [
       "0          True\n",
       "1         False\n",
       "2         False\n",
       "3         False\n",
       "4         False\n",
       "          ...  \n",
       "129966    False\n",
       "129967    False\n",
       "129968    False\n",
       "129969    False\n",
       "129970    False\n",
       "Name: price, Length: 129971, dtype: bool"
      ]
     },
     "execution_count": 25,
     "metadata": {},
     "output_type": "execute_result"
    }
   ],
   "source": [
    "new_price_interp.isnull()"
   ]
  },
  {
   "cell_type": "code",
   "execution_count": 26,
   "metadata": {},
   "outputs": [
    {
     "data": {
      "text/plain": [
       "1"
      ]
     },
     "execution_count": 26,
     "metadata": {},
     "output_type": "execute_result"
    }
   ],
   "source": [
    "new_price_interp.isnull().sum()"
   ]
  },
  {
   "cell_type": "code",
   "execution_count": 27,
   "metadata": {},
   "outputs": [
    {
     "data": {
      "text/plain": [
       "<AxesSubplot:ylabel='Density'>"
      ]
     },
     "execution_count": 27,
     "metadata": {},
     "output_type": "execute_result"
    },
    {
     "data": {
      "image/png": "[encoded data removed]",
      "text/plain": [
       "<Figure size 432x288 with 1 Axes>"
      ]
     },
     "metadata": {
      "needs_background": "light"
     },
     "output_type": "display_data"
    }
   ],
   "source": [
    "new_price_interp.plot.kde()"
   ]
  },
  {
   "cell_type": "code",
   "execution_count": 28,
   "metadata": {},
   "outputs": [
    {
     "data": {
      "text/plain": [
       "25.0"
      ]
     },
     "execution_count": 28,
     "metadata": {},
     "output_type": "execute_result"
    }
   ],
   "source": [
    "df.price.median()"
   ]
  },
  {
   "cell_type": "code",
   "execution_count": 29,
   "metadata": {},
   "outputs": [],
   "source": [
    "new_price_replace = df.price.replace(to_replace=np.nan, \n",
    "                                     value=df.price.median())"
   ]
  },
  {
   "cell_type": "code",
   "execution_count": 30,
   "metadata": {},
   "outputs": [
    {
     "data": {
      "text/plain": [
       "0         25.0\n",
       "1         15.0\n",
       "2         14.0\n",
       "3         13.0\n",
       "4         65.0\n",
       "          ... \n",
       "129966    28.0\n",
       "129967    75.0\n",
       "129968    30.0\n",
       "129969    32.0\n",
       "129970    21.0\n",
       "Name: price, Length: 129971, dtype: float64"
      ]
     },
     "execution_count": 30,
     "metadata": {},
     "output_type": "execute_result"
    }
   ],
   "source": [
    "new_price_replace"
   ]
  },
  {
   "cell_type": "code",
   "execution_count": 31,
   "metadata": {},
   "outputs": [
    {
     "data": {
      "text/plain": [
       "0"
      ]
     },
     "execution_count": 31,
     "metadata": {},
     "output_type": "execute_result"
    }
   ],
   "source": [
    "new_price_replace.isnull().sum()"
   ]
  },
  {
   "cell_type": "code",
   "execution_count": 32,
   "metadata": {},
   "outputs": [
    {
     "data": {
      "text/plain": [
       "<AxesSubplot:ylabel='Density'>"
      ]
     },
     "execution_count": 32,
     "metadata": {},
     "output_type": "execute_result"
    },
    {
     "data": {
      "image/png": "[encoded data removed]",
      "text/plain": [
       "<Figure size 432x288 with 1 Axes>"
      ]
     },
     "metadata": {
      "needs_background": "light"
     },
     "output_type": "display_data"
    }
   ],
   "source": [
    "new_price_replace.plot.kde()"
   ]
  },
  {
   "cell_type": "markdown",
   "metadata": {},
   "source": [
    "### Удаление пропущенных значений\n",
    "\n",
    "Метод [dropna](https://pandas.pydata.org/pandas-docs/stable/reference/api/pandas.DataFrame.dropna.html#pandas.DataFrame.dropna) по умолчанию удаляет строки (аргумент `axis='index'`), которые содержат пропущенные значения. Можно передать аргумент `axis='columns'` для удаления всех столбцов содержащих пропущенные значения."
   ]
  },
  {
   "cell_type": "code",
   "execution_count": 33,
   "metadata": {},
   "outputs": [
    {
     "data": {
      "text/plain": [
       "8996"
      ]
     },
     "execution_count": 33,
     "metadata": {},
     "output_type": "execute_result"
    }
   ],
   "source": [
    "# количество пропущенных значений\n",
    "df.price.isna().sum()"
   ]
  },
  {
   "cell_type": "code",
   "execution_count": 34,
   "metadata": {},
   "outputs": [
    {
     "data": {
      "text/plain": [
       "129971"
      ]
     },
     "execution_count": 34,
     "metadata": {},
     "output_type": "execute_result"
    }
   ],
   "source": [
    "# пропущенные значения считаются\n",
    "df.price.size"
   ]
  },
  {
   "cell_type": "code",
   "execution_count": 35,
   "metadata": {},
   "outputs": [
    {
     "data": {
      "text/plain": [
       "120975"
      ]
     },
     "execution_count": 35,
     "metadata": {},
     "output_type": "execute_result"
    }
   ],
   "source": [
    "# пропущенные значения НЕ считаются\n",
    "df.price.count()"
   ]
  },
  {
   "cell_type": "code",
   "execution_count": 36,
   "metadata": {},
   "outputs": [
    {
     "data": {
      "text/plain": [
       "120975"
      ]
     },
     "execution_count": 36,
     "metadata": {},
     "output_type": "execute_result"
    }
   ],
   "source": [
    "# удалить все пропущенные записи\n",
    "df_price_without_na = df.price.dropna()\n",
    "df_price_without_na.size"
   ]
  },
  {
   "cell_type": "markdown",
   "metadata": {},
   "source": [
    "## Источники пропущенных значений\n",
    "\n",
    "Некоторые типичные причины отсутствия данных:\n",
    "- Пользователь забыл заполнить поле.\n",
    "- Данные были потеряны при переносе в ручную из устаревшей базы данных.\n",
    "- Произошла ошибка в ПО.\n",
    "- Пользователи предпочли не заполнять поля, в связи с их представлениями о том, как будут использоваться или интерпретироваться результаты.\n",
    "\n",
    "\n",
    "Некоторые из этих источников — просто случайные ошибки. В других случаях может быть более глубокая причина отсутствия данных.\n",
    "\n",
    "Важно понимать эти различные типы недостающих данных с точки зрения статистики.\n",
    "\n",
    "Тип отсутствующих данных будет влиять на то, как нужно заполнять недостающие значения."
   ]
  },
  {
   "cell_type": "markdown",
   "metadata": {},
   "source": [
    "## Подходы к устранению пропущенных значений\n",
    "\n",
    "- Избегать (**avoid**)\n",
    "    - Полное отсутствие недостающих данных позволяет нам уменьшить неопределенность.\n",
    "    - Обычно дешевле потратить время на то, чтобы избежать недостающих данных, чем строить догадки о том, как лучше их заполнить.\n",
    "    - Если можно избежать пропущенных данных, то это делает последующие действия намного проще.\n",
    "- Игнорировать (**ignore**)\n",
    "- Давать объяснение (account for)"
   ]
  },
  {
   "cell_type": "markdown",
   "metadata": {},
   "source": [
    "## Типы пропущенных значений\n"
   ]
  },
  {
   "cell_type": "markdown",
   "metadata": {},
   "source": [
    "### Пропущен блок (**Unit** Nonresponse) / Пропущен элемент (**Item** Nonresponse)\n",
    "\n",
    "- **Unit Nonresponse** - это когда значения из\n",
    "наблюдения не наблюдаются.\n",
    "\n",
    "    - Пример: 1000 действительных номеров телефонов в США для проведения опроса. Опрос на английском языке, НО некоторые люди по этим номерам не знают английского и не могут ответить ни на один вопрос.\n",
    "\n",
    "\n",
    "- **Item Nonresponse** - это когда пропущены некоторые, но не все значения из наблюдения.\n",
    "\n",
    "    - Пример: 1000 действительных номеров телефонов в США для проведения опроса. Опрос на английском языке. Опрос включает в себя много вопросов, в том числе про возраст, вес и доход. Некоторые люди не хотят отвечать на вопрос про доход или вес или возраст, а на некоторые другие дают ответы."
   ]
  },
  {
   "cell_type": "markdown",
   "metadata": {},
   "source": [
    "### Как можно **избежать**?\n",
    "\n",
    "Например, обращать внимание на:\n",
    "- Нагрузку респондентов (например, количество вопросов в опросе).\n",
    "- Метод сбора данных (например, удобство заполнения анкеты).\n",
    "- Доступность (например, вопросы составлены понятно и достаточно коротко).\n",
    "- Время проведения исследования (например, проводить опрос в удобное время без принуждения)."
   ]
  },
  {
   "cell_type": "markdown",
   "metadata": {},
   "source": [
    "### Как можно **игнорировать**?\n",
    "- Просто предположить, что выборка из респондентов достаточна для выводов.\n",
    "- Полный анализ случаев (Complete-Case Analysis). Отбрасываются любое наблюдение с любым пропущенным значением. \n",
    "    - Преимущества: \n",
    "        - Простейший вариант, экономия времени.\n",
    "        - Если не много, то может не повлиять на результаты.\n",
    "        - Обычно это вариант \"по умолчанию\".\n",
    "    - Недостатки:\n",
    "        - Можно отбросить некоторые необходимые данные.\n",
    "        - Снижается точность модели, особенно, если исключенных данных становится больше.\n",
    "        - Можно упустить возможность определить паттерн пропуска значений, улучшить качество.\n",
    "- Анализ доступных случаев (Available-Case Analysis). Не отбрасывать никаких наблюдений и вычисляет результаты на основе имеющихся данных.\n",
    "    - Преимущества: \n",
    "        - Используются все доступные данные.\n",
    "    - Недостатки:\n",
    "        - Можно получить \"не очень хорошие результаты\", плохие матрицы ковариации."
   ]
  },
  {
   "cell_type": "markdown",
   "metadata": {},
   "source": [
    "### Как можно дать **объяснение**?\n",
    "\n",
    "- Удостовериться, что имеющиеся данные отражают интересующую выборку. Вычислить пропорции ответов (например, сколько мужчин и женщин в выборке с ответами). Необходимо знать \"истинное\" распределение (это часто нереально).\n",
    "\n",
    "- Замещение (**Imputation**).\n",
    "\n",
    "    - Предполагаем, что при использовании валидного метода замещения, не формируется \"выдуманных\" данных. То есть проводится анализ с соответствующей оценкой дисперсии, что позволяет вычислить истинную степень неопределенность, которая имеется в результатах замещения.\n",
    "    - Если просто замещать данные, чтобы иметь \"полный\" датасет для дальнейшего анализа, то есть происходит несколько замещений, затем какое-то количество анализа, а затем результаты объединяются, то необходимо быть осторожным: после формирования такого датасета никто не будет знать различий между реальным датасетом и датасетом после замещений."
   ]
  },
  {
   "cell_type": "markdown",
   "metadata": {},
   "source": [
    "#### **Deductive Imputation**\n",
    "\n",
    "**Использовать логические отношения для заполнения пропущенных значений.**\n",
    "\n",
    "**Пример**: Респондент отвечает, что не был жертвой преступления (колонка \"жертва преступления\" содержит `False`), но в колонка \"жертва финансового преступления\" содержит `NA`. Можно сделать вывод, что респондент пропустил вопрос из-за \"дублирования\" и туда тоже можно подставить `False`.\n",
    "\n",
    "**Пример**: Если у кого-то есть 2 ребенка в 2017 году, `NA` ребенка в 2018 и 2 ребенка в 2019 году, то можно предположить, что в 2018 тоже было 2 ребенка (хотя нет 100% гарантии).\n",
    "\n",
    "**Преимущества**:\n",
    "- Не требует \"инференса\" модели.\n",
    "- Истинные значения могут быть оценены.\n",
    "- *Валидный (обоснованный, достоверный) метод*\n",
    "\n",
    "**Недостатки**:\n",
    "- Может быть трудоемким или требовать дополнительной разработки.\n",
    "- Человеческий фактор, можно что-то не так понять и сделать ошибочный вывод."
   ]
  },
  {
   "cell_type": "markdown",
   "metadata": {},
   "source": [
    "#### **Mean/Median/Mode Imputation**\n",
    "\n",
    "**Для любого значения `NA` в столбце заменить `NA` средним значением (медианой или модой) этого столбца.**\n",
    "\n",
    "**Преимущества**:\n",
    "- Простота реализации и понимания.\n",
    "- Иногда кажется разумным.\n",
    "\n",
    "**Недостатки**:\n",
    "- Значительно искажает гистограмму (и kde),\n",
    "недооценивает дисперсию (variance), среднее и медианное значение,\n",
    "т.е. даст очень разные результаты для ассиметричных данных.\n",
    "- *Невалидный (недостоверный, необоснованный) метод*."
   ]
  },
  {
   "cell_type": "markdown",
   "metadata": {},
   "source": [
    "#### **Regression Imputation**\n",
    "\n",
    "**Для любого значения `NA` в столбце заменить `NA` спрогнозированным значением, основанным на линейной регрессии.**\n",
    "\n",
    "**Пример**: Предположим, что есть такая зависимость и регрессионная модель подобрала параметры $\\beta_n$ для выражения \n",
    "$\\large income = \\beta_0 + \\beta_1*age + \\beta_3*sex$, а затем используя возраст и пол в качестве предикторов (predictors) производим замещение (imputation) недостающих данных о доходах.\n",
    "\n",
    "**Преимущества**:\n",
    "- Легко понять.\n",
    "- Кажется логичным.\n",
    "- Лучше, чем среднее, медианное или модальное значение.\n",
    "\n",
    "**Недостатки**:\n",
    "- Все еще искажает гистограмму (kde) и недооценивает дисперсию.\n",
    "- *Невалидный (недостоверный, необоснованный) метод.*"
   ]
  },
  {
   "cell_type": "markdown",
   "metadata": {},
   "source": [
    "#### **Stochastic Regression Imputation**\n",
    "\n",
    "**Для любого значения `NA` в столбце заменить `NA` спрогнозированным значением, основанным на стохастической регрессии (линейная регрессия + случайная ошибка).**\n",
    "\n",
    "**Пример**: Предположим, что есть такая зависимость и регрессионная модель подобрала параметры $\\beta_n$ для выражения \n",
    "$\\large income = \\beta_0 + \\beta_1*age + \\beta_3*sex + \\xi_i$, где $\\xi_i \\sim N(0, s)$, а затем используя возраст и пол в качестве предикторов (predictors) + случайную ошибку ($\\xi_i$) и производим замещение (imputation) недостающих данных о доходах.\n",
    "\n",
    "**Преимущества**:\n",
    "- Легко понять.\n",
    "- Лучше, чем простая линейная регрессия.\n",
    "- Позволяет лучше оценить истинную дисперсию.\n",
    "\n",
    "**Недостатки**:\n",
    "- Все еще недооценивает дисперсию.\n",
    "- *Невалидный (недостоверный, необоснованный) метод.*"
   ]
  },
  {
   "cell_type": "markdown",
   "metadata": {},
   "source": [
    "#### **Multiple Stochastic Regression Imputation**\n",
    "\n",
    "**Для любого значения `NA` в столбце заменить `NA` спрогнозированным значением, основанным на умноженной стохастической регрессии ((линейная регрессия + случайная ошибка)*повторы).**\n",
    "\n",
    "**Пример**: \n",
    "- Предположим, что есть такая зависимость и регрессионная модель подобрала параметры $\\beta_n$ для выражения $\\large income = \\beta_0 + \\beta_1*age + \\beta_3*sex + \\xi_i$, где $\\xi_i \\sim N(0, s)$.\n",
    "- Затем используя возраст и пол в качестве предикторов (predictors) + случайную ошибку ($\\xi_i$).\n",
    "- Повторяем вычисления $p$ раз так, чтобы создать $p$ замещающих (\"полных\") датасета.\n",
    "- Анализируем результат в каждом $p$ датасете.\n",
    "- Агрегируем или объединяем результаты для всего датасета с учетом среднего (mean), дисперсии (variance) и доверительного интервала (confidence interval).\n",
    "- В итоге производим замещение (imputation) недостающих данных о доходах.\n",
    "\n",
    "**Преимущества**:\n",
    "- Лучше, чем одиночная стохастическая регрессия\n",
    "- Позволяет гораздо лучше оценить истинную дисперсию.\n",
    "\n",
    "**Недостатки**:\n",
    "- Требуются значительные усилия для реализации.\n",
    "- *Невалидный (недостоверный, необоснованный) метод.*"
   ]
  },
  {
   "cell_type": "markdown",
   "metadata": {},
   "source": [
    "#### ***Proper Multiply Stochastic Regression Imputation**\n",
    "\n",
    "TODO\n",
    "\n",
    "**Для любого значения `NA` в столбце заменить `NA` спрогнозированным значением, основанным на значении предсказанном линейной регрессией и случайной ошибке**\n",
    "\n",
    "**Пример**: \n",
    "- Предположим, что есть такая зависимость и регрессионная модель подобрала параметры $\\beta_n$ для выражения $\\large income = \\beta_0 + \\beta_1*age + \\beta_3*sex + \\xi_i$ , где $\\beta_{j,i} \\sim N(\\beta_j, SE(\\beta_j))$ и  $\\xi_i \\sim N(0, \\sigma)$.\n",
    "- Затем используя возраст и пол в качестве предикторов (predictors) + случайную ошибку.\n",
    "- Повторяем вычисления $p$ раз так, чтобы создать $p$ замещающих (\"полных\") датасета.\n",
    "- Анализируем результат в каждом $p$ датасете.\n",
    "- Агрегируем или объединяем результаты для всего датасета с учетом среднего (mean), дисперсии (variance) и доверительного интервала (confidence interval).\n",
    "- В итоге производим замещение (imputation) недостающих данных о доходах.\n",
    "\n",
    "**Преимущества**:\n",
    "- Очень хороший вариант\n",
    "- *Валидный (обоснованный, достоверный) метод*.\n",
    "\n",
    "**Недостатки**:\n",
    "- Требуется гораздо больше усилий для реализации."
   ]
  },
  {
   "cell_type": "markdown",
   "metadata": {},
   "source": [
    "#### **Hot-Deck Imputation**\n",
    "\n",
    "**Разделить блоки выборки на классы (например, на основе возраста/пола). Для любого значения `NA` в данном классе случайным образом выбрать значение одного из значений в этом классе и заменить `NA` на него.**\n",
    "\n",
    "**Пример**:\n",
    "- Среди женщин 18-34 лет имеется 20 заполненных значений и 3 пропущенных значения.\n",
    "- Для каждого пропущенного значения выбрать наугад одно из имеющихся значений и заполнить одно пропущенное значение этим \"угаданным\".\n",
    "- Таким образом заполнить все пропущенные значения.\n",
    "\n",
    "**Преимущества**:\n",
    "- Используются существующие данные.\n",
    "\n",
    "**Недостатки**:\n",
    "- Если столбцы замещаются (impute) отдельно, то многомерные отношения не сохранятся.\n",
    "- *Невалидный (недостоверный, необоснованный) метод.*"
   ]
  },
  {
   "cell_type": "markdown",
   "metadata": {},
   "source": [
    "### Missing not at random (MNAR) ~ Отсутствует не случайно\n",
    "\n",
    "(также известный как nonignorable nonresponse)\n",
    "\n",
    "- Примеры:\n",
    "\n",
    "    - Проводится опрос, который включает в себя вопрос о доходе. Возможно, люди с низким доходом (или подозрительно высоким) значительно реже соглашаются ответить на вопрос о доходе? Возможно, люди определенного пола реже хотят отвечать на вопрос о доходе?\n",
    "    \n",
    "    - Мужчины реже заполняют анкету о депрессии, но это связано с тем, что в этом обществе мужчины \"не должны жаловаться\" и существуют данные о более частных суицидах среди мужского пола.\n",
    "    \n",
    "- Значение отсутствующей переменной связано с причиной ее отсутствия.\n",
    "\n",
    "- **MNAR** - это самый трудный тип пропущенных данных для решения.\n",
    "\n",
    "- **Типичные подходы по устранению пропущенных значений**:\n",
    "\n",
    "    - Поскольку в случае MNAR существуют взаимозависимые отношения, лучший способ избежать их — это собрать некоторые данные или смоделировать недостающие данные.\n",
    "    \n",
    "- **Рекомендованные подходы по устранению пропущенных значений**:\n",
    "\n",
    "    - НЕЛЬЗЯ (не следует) использовать методы:\n",
    "    \n",
    "        - Complete-Case Analysis.\n",
    "        \n",
    "        - Proper Multiply Stochastic Regression Imputation.\n",
    "        \n",
    "        - Multiply Stochastic Regression Imputation.\n",
    "        \n",
    "        - Stochastic Regression Imputation.\n",
    "        \n",
    "        - Hot-Deck Imputation.\n",
    "        \n",
    "    - Таким образом остается (желательным) только Deductive Imputation."
   ]
  },
  {
   "cell_type": "markdown",
   "metadata": {},
   "source": [
    "### Missing at random (MAR) ~ Отсутствует случайно\n",
    "\n",
    "- Примеры:\n",
    "\n",
    "    - Проводится опрос, который включает в себя вопрос о доходе. Возможно, люди с какими-то личностными характеристиками реже соглашаются отвечать на вопрос о доходе?\n",
    "    \n",
    "    - Мужчины реже заполняют анкету о депрессии, но это не имеет ничего общего с их уровнем депрессии, если учитывать мужскую принадлежность.\n",
    "\n",
    "- Возникает, когда отсутствие данных не является случайным, а может быть полностью объяснено с помощью переменных, по которым имеется полная информация.\n",
    "\n",
    "- Поскольку MAR - это предположение, которое невозможно проверить статистически, остается полагаться на его обоснованность.\n",
    "\n",
    "- В зависимости от метода анализа эти данные могут по-прежнему вызывать смещение (bias) параметров в анализе из-за условной \"пустоты\" значений (у мужчин очень сильная депрессия может иметь нулевое количество записей). Однако, если параметр оценивается с максимальной вероятностью полной информации (Full Information Maximum Likelihood = FIML), MAR предоставляет асимптотически несмещенные (unbiased) оценки.\n",
    "\n",
    "- **Типичные подходы по устранению пропущенных значений**:\n",
    "\n",
    "    - Поскольку в этом механизме существует взаимосвязь, лучшим вариантом здесь будет использование метода замены (imputation) - среднего, медианного, модового или множественного значения.\n",
    "    \n",
    "- **Рекомендованные подходы по устранению пропущенных значений**:\n",
    "\n",
    "    - НЕЛЬЗЯ использовать complete-case analysis.\n",
    "    \n",
    "    - Deductive Imputation.\n",
    "    \n",
    "    - Proper Multiply Stochastic Regression Imputation.\n",
    "    \n",
    "    - Multiply Stochastic Regression Imputation.\n",
    "    \n",
    "    - Stochastic Regression Imputation.\n",
    "    \n",
    "    - Hot-Deck Imputation.\n",
    "    \n",
    "    - То есть предполагается, что переменные MAR включены в моделирование пропущенных значений."
   ]
  },
  {
   "cell_type": "markdown",
   "metadata": {},
   "source": [
    "### Missing completely at random (MCAR) ~ Отсутствует полностью случайно\n",
    "\n",
    "- Примеры:\n",
    "\n",
    "    - Очень сонный сотрудник неправильно записывает ответы в опросе.\n",
    "    \n",
    "    - Кто-то случайно проливает кофе на часть анкет и теперь некоторые ответы невозможно прочитать, приходится работать с тем, что есть.\n",
    "\n",
    "- Значения в наборе данных отсутствуют полностью случайным образом (**MCAR**), если события, которые приводят к отсутствию какого-либо конкретного элемента данных, не зависят как от наблюдаемых переменных, так и от ненаблюдаемых параметров, представляющих интерес, и происходят полностью случайным образом.\n",
    "\n",
    "- Когда данные являются **MCAR**, анализ данных является беспристрастным; однако данные редко бывают **MCAR**.\n",
    "\n",
    "- В случае **MCAR** отсутствие данных не связано с какой-либо переменной исследования: таким образом, участники с полностью наблюдаемыми данными фактически являются случайной выборкой из всех участников, которым назначено конкретное вмешательство.\n",
    "\n",
    "- При использовании **MCAR** предполагается, что случайное назначение обработок сохраняется, но на практике это обычно нереалистично серьезное предположение.\n",
    "\n",
    "- Если **MCAR** - это разумное предположение (такое бывает редко), то существует множество удобных методов обработки пропущенных данных.\n",
    "\n",
    "- **Типичные подходы по устранению пропущенных значений**:\n",
    "   \n",
    "   - Удаление по списку (List-wise deletion): удаление записи, если в наборе данных отсутствуют данные в любой из его переменных / столбцов.\n",
    "        \n",
    "        - Это работает лучше всего, только когда недостающих данных мало, например, когда в наборе данных только 2% данных отсутствуют полностью случайным образом.\n",
    "    \n",
    "    - Попарное удаление (Pair-wise deletion): удаляет только те случаи, когда одна из переменных, используемых в рассматриваемом статистическом методе, отсутствует.\n",
    "        \n",
    "        - Внутри он работает по тем же принципам, что и корреляционная матрица.\n",
    "        \n",
    "        - Когда берется другой набор переменных и вычисляется корреляционная матрица, количество полных наблюдений будет отличаться от N.\n",
    "        \n",
    "        - Преимущество парного удаления заключается в минимальной потере данных. \n",
    "        \n",
    "        - Когда есть набор данных, в котором широко распространены пропущенные значения почти во всех переменных, попарно будет более разумным выбором обработки пропущенных значений.\n",
    "    \n",
    "    - Замена (imputation) на среднее (mean), медианное (median) и модовое (mode) значение. Зависит от контекста.\n",
    "    \n",
    "- **Рекомендованные подходы по устранению пропущенных значений**:\n",
    "\n",
    "    - Deductive Imputation.\n",
    "    \n",
    "    - Proper Multiply Stochastic Regression Imputation.\n",
    "    \n",
    "    - Multiply Stochastic Regression Imputation.\n",
    "    \n",
    "    - Stochastic Regression Imputation.\n",
    "    \n",
    "    - Hot-Deck Imputation.\n",
    "    \n",
    "    - Complete-Case Analysis. Будет непредвзятым (unbiased), но одновременно недооценивать дисперсию (variance)."
   ]
  },
  {
   "cell_type": "markdown",
   "metadata": {},
   "source": [
    "### Как определить тип пропущенных значений?\n",
    "\n",
    "- Little’s Test для MCAR\n",
    "    - [Проверка гипотез](https://ru.wikipedia.org/wiki/%D0%9F%D1%80%D0%BE%D0%B2%D0%B5%D1%80%D0%BA%D0%B0_%D1%81%D1%82%D0%B0%D1%82%D0%B8%D1%81%D1%82%D0%B8%D1%87%D0%B5%D1%81%D0%BA%D0%B8%D1%85_%D0%B3%D0%B8%D0%BF%D0%BE%D1%82%D0%B5%D0%B7) доступна в программных пакетах. $H_0: MCAR vs. H_A: not MCAR$\n",
    "    - Никакой эмпирический тест не позволяет определить NMAR!\n",
    "- Разделить данные на наблюдаемые (observed) и ненаблюдаемые (unobserved) и сравнить два набора данных (существенно ли отличаются некоторые показатели?).\n",
    "- Подумать о процессе \"пропажи\" данных. Можно ли придумать разумный ответ, основанный на том, как они пропали?"
   ]
  },
  {
   "cell_type": "markdown",
   "metadata": {},
   "source": [
    "### Типичный алгоритм действий\n",
    "\n",
    "- Какие имеются признаки (колонки/фичи/features)?\n",
    "\n",
    "- Какие у них ожидаемые типы данных (int, float, string, boolean, ...)?\n",
    "\n",
    "- Есть ли очевидно пропущенные данные (значения, которые может обнаружить Pandas)? Например, `NA`, `None`, `NaT`, `NaN`.\n",
    "\n",
    "- Есть ли другие типы пропущенные данных, которые не так очевидны (их сложно обнаружить с помощью Pandas)? Например, значения `\"n/a\"`, `\"-\"`, `\"?\"` ...\n",
    "\n",
    "- Оценить сколько пропущенных значений имеется на этапе [разведочного анализа данных (Exploratory data analysis = EDA)](https://ru.wikipedia.org/wiki/%D0%A0%D0%B0%D0%B7%D0%B2%D0%B5%D0%B4%D0%BE%D1%87%D0%BD%D1%8B%D0%B9_%D0%B0%D0%BD%D0%B0%D0%BB%D0%B8%D0%B7_%D0%B4%D0%B0%D0%BD%D0%BD%D1%8B%D1%85). Стоит ли тратить время на попытки дать объяснение пропущенным значениям?\n",
    "\n",
    "- Можно ли оценить для каждого столбца какай тип пропущенного значения (MNAR, MAR, MCAR)?\n",
    "\n",
    "- Какой наилучший метод замещения можно использовать учитывая ограничения (время/деньги/...)?"
   ]
  }
 ],
 "metadata": {
  "kernelspec": {
   "display_name": "Python [conda env:LevelUp_DataScience] *",
   "language": "python",
   "name": "conda-env-LevelUp_DataScience-py"
  },
  "language_info": {
   "codemirror_mode": {
    "name": "ipython",
    "version": 3
   },
   "file_extension": ".py",
   "mimetype": "text/x-python",
   "name": "python",
   "nbconvert_exporter": "python",
   "pygments_lexer": "ipython3",
   "version": "3.8.5"
  },
  "toc-autonumbering": true
 },
 "nbformat": 4,
 "nbformat_minor": 4
}