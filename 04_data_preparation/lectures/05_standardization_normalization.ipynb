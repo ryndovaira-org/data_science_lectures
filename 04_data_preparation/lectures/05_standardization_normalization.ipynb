{
 "cells": [
  {
   "cell_type": "markdown",
   "metadata": {
    "pycharm": {
     "name": "#%% md\n"
    }
   },
   "source": [
    "# Нормализация и стандартизация (Normalization & standardization)"
   ]
  },
  {
   "cell_type": "markdown",
   "metadata": {},
   "source": [
    "---\n",
    "\n",
    "[Data normalization with Pandas and Scikit-Learn](https://towardsdatascience.com/data-normalization-with-pandas-and-scikit-learn-7c1cc6ed6475)\n",
    "\n",
    "[Standard score](https://en.wikipedia.org/wiki/Standard_score)\n",
    "\n",
    "[Z-оценка](https://ru.wikipedia.org/wiki/Z-%D0%BE%D1%86%D0%B5%D0%BD%D0%BA%D0%B0)\n",
    "\n",
    "[Standardize or Normalize? — Examples in Python](https://medium.com/@rrfd/standardize-or-normalize-examples-in-python-e3f174b65dfc)\n",
    "\n",
    "[Does Categorical Variable need normalization/standardization?](https://stats.stackexchange.com/questions/399430/does-categorical-variable-need-normalization-standardization)\n",
    "\n",
    "[Feature Scaling for Machine Learning: Understanding the Difference Between Normalization vs. Standardization](https://www.analyticsvidhya.com/blog/2020/04/feature-scaling-machine-learning-normalization-standardization/)\n",
    "\n",
    "[Scale, Standardize or Normalize with scikit-learn](https://www.kaggle.com/discdiver/guide-to-scaling-and-standardizing)\n",
    "\n",
    "[Как нормализовать данные в PySpark перед обучением ML-моделей](https://www.bigdataschool.ru/blog/data-normalization-and-standardization.html#:~:text=%D0%9D%D0%BE%D1%80%D0%BC%D0%B0%D0%BB%D0%B8%D0%B7%D0%B0%D1%86%D0%B8%D1%8F%20(normalization)%20%D0%B8%20%D1%81%D1%82%D0%B0%D0%BD%D0%B4%D0%B0%D1%80%D1%82%D0%B8%D0%B7%D0%B0%D1%86%D0%B8%D1%8F%20(,%D0%BC%D0%B5%D1%82%D0%BE%D0%B4%D0%B0%D0%BC%D0%B8%20%D0%B8%D0%B7%D0%BC%D0%B5%D0%BD%D0%B5%D0%BD%D0%B8%D1%8F%20%D0%B4%D0%B8%D0%B0%D0%BF%D0%B0%D0%B7%D0%BE%D0%BD%D0%BE%D0%B2%20%D0%B7%D0%BD%D0%B0%D1%87%D0%B5%D0%BD%D0%B8%D0%B9%20%E2%80%93%20%D1%88%D0%BA%D0%B0%D0%BB%D0%B8%D1%80%D0%BE%D0%B2%D0%B0%D0%BD%D0%B8%D1%8F.&text=%D0%9D%D0%BE%D1%80%D0%BC%D0%B0%D0%BB%D0%B8%D0%B7%D0%B0%D1%86%D0%B8%D1%8F%20%D0%BF%D0%BE%D0%B4%D1%80%D0%B0%D0%B7%D1%83%D0%BC%D0%B5%D0%B2%D0%B0%D0%B5%D1%82%20%D0%B8%D0%B7%D0%BC%D0%B5%D0%BD%D0%B5%D0%BD%D0%B8%D0%B5%20%D0%B4%D0%B8%D0%B0%D0%BF%D0%B0%D0%B7%D0%BE%D0%BD%D0%BE%D0%B2%20%D0%B2,(%D0%BF%D1%80%D0%B8%D0%B2%D0%BE%D0%B4%D0%B8%D1%82%D1%81%D1%8F%20%D0%BA%20%D0%BD%D0%BE%D1%80%D0%BC%D0%B0%D0%BB%D1%8C%D0%BD%D0%BE%D0%BC%D1%83%20%D1%80%D0%B0%D1%81%D0%BF%D1%80%D0%B5%D0%B4%D0%B5%D0%BB%D0%B5%D0%BD%D0%B8%D1%8E).https://www.bigdataschool.ru/blog/data-normalization-and-standardization.html#:~:text=%D0%9D%D0%BE%D1%80%D0%BC%D0%B0%D0%BB%D0%B8%D0%B7%D0%B0%D1%86%D0%B8%D1%8F%20(normalization)%20%D0%B8%20%D1%81%D1%82%D0%B0%D0%BD%D0%B4%D0%B0%D1%80%D1%82%D0%B8%D0%B7%D0%B0%D1%86%D0%B8%D1%8F%20(,%D0%BC%D0%B5%D1%82%D0%BE%D0%B4%D0%B0%D0%BC%D0%B8%20%D0%B8%D0%B7%D0%BC%D0%B5%D0%BD%D0%B5%D0%BD%D0%B8%D1%8F%20%D0%B4%D0%B8%D0%B0%D0%BF%D0%B0%D0%B7%D0%BE%D0%BD%D0%BE%D0%B2%20%D0%B7%D0%BD%D0%B0%D1%87%D0%B5%D0%BD%D0%B8%D0%B9%20%E2%80%93%20%D1%88%D0%BA%D0%B0%D0%BB%D0%B8%D1%80%D0%BE%D0%B2%D0%B0%D0%BD%D0%B8%D1%8F.&text=%D0%9D%D0%BE%D1%80%D0%BC%D0%B0%D0%BB%D0%B8%D0%B7%D0%B0%D1%86%D0%B8%D1%8F%20%D0%BF%D0%BE%D0%B4%D1%80%D0%B0%D0%B7%D1%83%D0%BC%D0%B5%D0%B2%D0%B0%D0%B5%D1%82%20%D0%B8%D0%B7%D0%BC%D0%B5%D0%BD%D0%B5%D0%BD%D0%B8%D0%B5%20%D0%B4%D0%B8%D0%B0%D0%BF%D0%B0%D0%B7%D0%BE%D0%BD%D0%BE%D0%B2%20%D0%B2,(%D0%BF%D1%80%D0%B8%D0%B2%D0%BE%D0%B4%D0%B8%D1%82%D1%81%D1%8F%20%D0%BA%20%D0%BD%D0%BE%D1%80%D0%BC%D0%B0%D0%BB%D1%8C%D0%BD%D0%BE%D0%BC%D1%83%20%D1%80%D0%B0%D1%81%D0%BF%D1%80%D0%B5%D0%B4%D0%B5%D0%BB%D0%B5%D0%BD%D0%B8%D1%8E).)\n",
    "\n",
    "[All about Feature Scaling](https://towardsdatascience.com/all-about-feature-scaling-bcc0ad75cb35)\n",
    "\n",
    "[Types Of Transformations For Better Normal Distribution](https://towardsdatascience.com/types-of-transformations-for-better-normal-distribution-61c22668d3b9)\n",
    "\n",
    "[How to use Square Root, log, & Box-Cox Transformation in Python](https://www.marsja.se/transform-skewed-data-using-square-root-log-box-cox-methods-in-python/)\n",
    "\n",
    "[Map data to a normal distribution](https://scikit-learn.org/stable/auto_examples/preprocessing/plot_map_data_to_normal.html)\n",
    "\n",
    "[A Gentle Introduction to Normality Tests in Python](https://machinelearningmastery.com/a-gentle-introduction-to-normality-tests-in-python/)\n",
    "\n",
    "[How to use Square Root, log, & Box-Cox Transformation in Python](https://www.marsja.se/transform-skewed-data-using-square-root-log-box-cox-methods-in-python/)\n",
    "\n",
    "[10 Normality Tests in Python (Step-By-Step Guide 2020)](https://towardsdatascience.com/normality-tests-in-python-31e04aa4f411)\n",
    "\n",
    "---"
   ]
  },
  {
   "cell_type": "code",
   "execution_count": 1,
   "metadata": {
    "collapsed": false,
    "jupyter": {
     "outputs_hidden": false
    },
    "pycharm": {
     "name": "#%%\n"
    }
   },
   "outputs": [],
   "source": [
    "# ВНИМАНИЕ: необходимо удостовериться, что виртуальная среда выбрана правильно!\n",
    "\n",
    "# Для MacOS/Ubuntu\n",
    "# !which pip\n",
    "\n",
    "# Для Windows\n",
    "# !where pip"
   ]
  },
  {
   "cell_type": "code",
   "execution_count": 2,
   "metadata": {
    "collapsed": false,
    "jupyter": {
     "outputs_hidden": false
    },
    "pycharm": {
     "name": "#%%\n"
    }
   },
   "outputs": [],
   "source": [
    "# !conda install pandas matplotlib numpy seaborn scipy -y"
   ]
  },
  {
   "cell_type": "code",
   "execution_count": 3,
   "metadata": {
    "collapsed": false,
    "jupyter": {
     "outputs_hidden": false
    },
    "pycharm": {
     "name": "#%%\n"
    }
   },
   "outputs": [
    {
     "data": {
      "text/plain": [
       "'1.19.2'"
      ]
     },
     "execution_count": 3,
     "metadata": {},
     "output_type": "execute_result"
    }
   ],
   "source": [
    "import numpy as np\n",
    "\n",
    "np.__version__"
   ]
  },
  {
   "cell_type": "code",
   "execution_count": 4,
   "metadata": {
    "collapsed": false,
    "jupyter": {
     "outputs_hidden": false
    },
    "pycharm": {
     "name": "#%%\n"
    }
   },
   "outputs": [
    {
     "data": {
      "text/plain": [
       "'1.2.3'"
      ]
     },
     "execution_count": 4,
     "metadata": {},
     "output_type": "execute_result"
    }
   ],
   "source": [
    "import pandas as pd\n",
    "\n",
    "pd.__version__"
   ]
  },
  {
   "cell_type": "code",
   "execution_count": 5,
   "metadata": {
    "collapsed": false,
    "jupyter": {
     "outputs_hidden": false
    },
    "pycharm": {
     "name": "#%%\n"
    }
   },
   "outputs": [
    {
     "data": {
      "text/plain": [
       "'3.3.4'"
      ]
     },
     "execution_count": 5,
     "metadata": {},
     "output_type": "execute_result"
    }
   ],
   "source": [
    "import matplotlib\n",
    "import matplotlib.pyplot as plt\n",
    "\n",
    "matplotlib.__version__"
   ]
  },
  {
   "cell_type": "code",
   "execution_count": 6,
   "metadata": {
    "collapsed": false,
    "jupyter": {
     "outputs_hidden": false
    },
    "pycharm": {
     "name": "#%%\n"
    }
   },
   "outputs": [
    {
     "data": {
      "text/plain": [
       "'0.11.1'"
      ]
     },
     "execution_count": 6,
     "metadata": {},
     "output_type": "execute_result"
    }
   ],
   "source": [
    "import seaborn as sns\n",
    "\n",
    "sns.__version__"
   ]
  },
  {
   "cell_type": "code",
   "execution_count": 7,
   "metadata": {},
   "outputs": [
    {
     "data": {
      "text/plain": [
       "'0.24.1'"
      ]
     },
     "execution_count": 7,
     "metadata": {},
     "output_type": "execute_result"
    }
   ],
   "source": [
    "import sklearn\n",
    "\n",
    "sklearn.__version__"
   ]
  },
  {
   "cell_type": "code",
   "execution_count": 8,
   "metadata": {},
   "outputs": [
    {
     "data": {
      "text/plain": [
       "'1.6.2'"
      ]
     },
     "execution_count": 8,
     "metadata": {},
     "output_type": "execute_result"
    }
   ],
   "source": [
    "import scipy\n",
    "from scipy.stats import normaltest\n",
    "from scipy import stats\n",
    "\n",
    "scipy.__version__"
   ]
  },
  {
   "cell_type": "markdown",
   "metadata": {},
   "source": [
    "## Загрузка данных\n",
    "\n",
    "[Источник (House Sales in King County, USA)](https://www.kaggle.com/harlfoxem/housesalesprediction)."
   ]
  },
  {
   "cell_type": "code",
   "execution_count": 9,
   "metadata": {
    "collapsed": false,
    "jupyter": {
     "outputs_hidden": false
    },
    "pycharm": {
     "name": "#%%\n"
    }
   },
   "outputs": [
    {
     "data": {
      "text/html": [
       "<div>\n",
       "<style scoped>\n",
       "    .dataframe tbody tr th:only-of-type {\n",
       "        vertical-align: middle;\n",
       "    }\n",
       "\n",
       "    .dataframe tbody tr th {\n",
       "        vertical-align: top;\n",
       "    }\n",
       "\n",
       "    .dataframe thead th {\n",
       "        text-align: right;\n",
       "    }\n",
       "</style>\n",
       "<table border=\"1\" class=\"dataframe\">\n",
       "  <thead>\n",
       "    <tr style=\"text-align: right;\">\n",
       "      <th></th>\n",
       "      <th>id</th>\n",
       "      <th>date</th>\n",
       "      <th>price</th>\n",
       "      <th>bedrooms</th>\n",
       "      <th>bathrooms</th>\n",
       "      <th>sqft_living</th>\n",
       "      <th>sqft_lot</th>\n",
       "      <th>floors</th>\n",
       "      <th>waterfront</th>\n",
       "      <th>view</th>\n",
       "      <th>condition</th>\n",
       "      <th>grade</th>\n",
       "      <th>sqft_above</th>\n",
       "      <th>sqft_basement</th>\n",
       "      <th>yr_built</th>\n",
       "      <th>yr_renovated</th>\n",
       "      <th>zipcode</th>\n",
       "      <th>lat</th>\n",
       "      <th>long</th>\n",
       "      <th>sqft_living15</th>\n",
       "      <th>sqft_lot15</th>\n",
       "    </tr>\n",
       "  </thead>\n",
       "  <tbody>\n",
       "    <tr>\n",
       "      <th>0</th>\n",
       "      <td>7129300520</td>\n",
       "      <td>20141013T000000</td>\n",
       "      <td>221900.00</td>\n",
       "      <td>3</td>\n",
       "      <td>1.00</td>\n",
       "      <td>1180</td>\n",
       "      <td>5650</td>\n",
       "      <td>1.00</td>\n",
       "      <td>0</td>\n",
       "      <td>0</td>\n",
       "      <td>3</td>\n",
       "      <td>7</td>\n",
       "      <td>1180</td>\n",
       "      <td>0</td>\n",
       "      <td>1955</td>\n",
       "      <td>0</td>\n",
       "      <td>98178</td>\n",
       "      <td>47.51</td>\n",
       "      <td>-122.26</td>\n",
       "      <td>1340</td>\n",
       "      <td>5650</td>\n",
       "    </tr>\n",
       "    <tr>\n",
       "      <th>1</th>\n",
       "      <td>6414100192</td>\n",
       "      <td>20141209T000000</td>\n",
       "      <td>538000.00</td>\n",
       "      <td>3</td>\n",
       "      <td>2.25</td>\n",
       "      <td>2570</td>\n",
       "      <td>7242</td>\n",
       "      <td>2.00</td>\n",
       "      <td>0</td>\n",
       "      <td>0</td>\n",
       "      <td>3</td>\n",
       "      <td>7</td>\n",
       "      <td>2170</td>\n",
       "      <td>400</td>\n",
       "      <td>1951</td>\n",
       "      <td>1991</td>\n",
       "      <td>98125</td>\n",
       "      <td>47.72</td>\n",
       "      <td>-122.32</td>\n",
       "      <td>1690</td>\n",
       "      <td>7639</td>\n",
       "    </tr>\n",
       "    <tr>\n",
       "      <th>2</th>\n",
       "      <td>5631500400</td>\n",
       "      <td>20150225T000000</td>\n",
       "      <td>180000.00</td>\n",
       "      <td>2</td>\n",
       "      <td>1.00</td>\n",
       "      <td>770</td>\n",
       "      <td>10000</td>\n",
       "      <td>1.00</td>\n",
       "      <td>0</td>\n",
       "      <td>0</td>\n",
       "      <td>3</td>\n",
       "      <td>6</td>\n",
       "      <td>770</td>\n",
       "      <td>0</td>\n",
       "      <td>1933</td>\n",
       "      <td>0</td>\n",
       "      <td>98028</td>\n",
       "      <td>47.74</td>\n",
       "      <td>-122.23</td>\n",
       "      <td>2720</td>\n",
       "      <td>8062</td>\n",
       "    </tr>\n",
       "    <tr>\n",
       "      <th>3</th>\n",
       "      <td>2487200875</td>\n",
       "      <td>20141209T000000</td>\n",
       "      <td>604000.00</td>\n",
       "      <td>4</td>\n",
       "      <td>3.00</td>\n",
       "      <td>1960</td>\n",
       "      <td>5000</td>\n",
       "      <td>1.00</td>\n",
       "      <td>0</td>\n",
       "      <td>0</td>\n",
       "      <td>5</td>\n",
       "      <td>7</td>\n",
       "      <td>1050</td>\n",
       "      <td>910</td>\n",
       "      <td>1965</td>\n",
       "      <td>0</td>\n",
       "      <td>98136</td>\n",
       "      <td>47.52</td>\n",
       "      <td>-122.39</td>\n",
       "      <td>1360</td>\n",
       "      <td>5000</td>\n",
       "    </tr>\n",
       "    <tr>\n",
       "      <th>4</th>\n",
       "      <td>1954400510</td>\n",
       "      <td>20150218T000000</td>\n",
       "      <td>510000.00</td>\n",
       "      <td>3</td>\n",
       "      <td>2.00</td>\n",
       "      <td>1680</td>\n",
       "      <td>8080</td>\n",
       "      <td>1.00</td>\n",
       "      <td>0</td>\n",
       "      <td>0</td>\n",
       "      <td>3</td>\n",
       "      <td>8</td>\n",
       "      <td>1680</td>\n",
       "      <td>0</td>\n",
       "      <td>1987</td>\n",
       "      <td>0</td>\n",
       "      <td>98074</td>\n",
       "      <td>47.62</td>\n",
       "      <td>-122.05</td>\n",
       "      <td>1800</td>\n",
       "      <td>7503</td>\n",
       "    </tr>\n",
       "    <tr>\n",
       "      <th>...</th>\n",
       "      <td>...</td>\n",
       "      <td>...</td>\n",
       "      <td>...</td>\n",
       "      <td>...</td>\n",
       "      <td>...</td>\n",
       "      <td>...</td>\n",
       "      <td>...</td>\n",
       "      <td>...</td>\n",
       "      <td>...</td>\n",
       "      <td>...</td>\n",
       "      <td>...</td>\n",
       "      <td>...</td>\n",
       "      <td>...</td>\n",
       "      <td>...</td>\n",
       "      <td>...</td>\n",
       "      <td>...</td>\n",
       "      <td>...</td>\n",
       "      <td>...</td>\n",
       "      <td>...</td>\n",
       "      <td>...</td>\n",
       "      <td>...</td>\n",
       "    </tr>\n",
       "    <tr>\n",
       "      <th>21608</th>\n",
       "      <td>263000018</td>\n",
       "      <td>20140521T000000</td>\n",
       "      <td>360000.00</td>\n",
       "      <td>3</td>\n",
       "      <td>2.50</td>\n",
       "      <td>1530</td>\n",
       "      <td>1131</td>\n",
       "      <td>3.00</td>\n",
       "      <td>0</td>\n",
       "      <td>0</td>\n",
       "      <td>3</td>\n",
       "      <td>8</td>\n",
       "      <td>1530</td>\n",
       "      <td>0</td>\n",
       "      <td>2009</td>\n",
       "      <td>0</td>\n",
       "      <td>98103</td>\n",
       "      <td>47.70</td>\n",
       "      <td>-122.35</td>\n",
       "      <td>1530</td>\n",
       "      <td>1509</td>\n",
       "    </tr>\n",
       "    <tr>\n",
       "      <th>21609</th>\n",
       "      <td>6600060120</td>\n",
       "      <td>20150223T000000</td>\n",
       "      <td>400000.00</td>\n",
       "      <td>4</td>\n",
       "      <td>2.50</td>\n",
       "      <td>2310</td>\n",
       "      <td>5813</td>\n",
       "      <td>2.00</td>\n",
       "      <td>0</td>\n",
       "      <td>0</td>\n",
       "      <td>3</td>\n",
       "      <td>8</td>\n",
       "      <td>2310</td>\n",
       "      <td>0</td>\n",
       "      <td>2014</td>\n",
       "      <td>0</td>\n",
       "      <td>98146</td>\n",
       "      <td>47.51</td>\n",
       "      <td>-122.36</td>\n",
       "      <td>1830</td>\n",
       "      <td>7200</td>\n",
       "    </tr>\n",
       "    <tr>\n",
       "      <th>21610</th>\n",
       "      <td>1523300141</td>\n",
       "      <td>20140623T000000</td>\n",
       "      <td>402101.00</td>\n",
       "      <td>2</td>\n",
       "      <td>0.75</td>\n",
       "      <td>1020</td>\n",
       "      <td>1350</td>\n",
       "      <td>2.00</td>\n",
       "      <td>0</td>\n",
       "      <td>0</td>\n",
       "      <td>3</td>\n",
       "      <td>7</td>\n",
       "      <td>1020</td>\n",
       "      <td>0</td>\n",
       "      <td>2009</td>\n",
       "      <td>0</td>\n",
       "      <td>98144</td>\n",
       "      <td>47.59</td>\n",
       "      <td>-122.30</td>\n",
       "      <td>1020</td>\n",
       "      <td>2007</td>\n",
       "    </tr>\n",
       "    <tr>\n",
       "      <th>21611</th>\n",
       "      <td>291310100</td>\n",
       "      <td>20150116T000000</td>\n",
       "      <td>400000.00</td>\n",
       "      <td>3</td>\n",
       "      <td>2.50</td>\n",
       "      <td>1600</td>\n",
       "      <td>2388</td>\n",
       "      <td>2.00</td>\n",
       "      <td>0</td>\n",
       "      <td>0</td>\n",
       "      <td>3</td>\n",
       "      <td>8</td>\n",
       "      <td>1600</td>\n",
       "      <td>0</td>\n",
       "      <td>2004</td>\n",
       "      <td>0</td>\n",
       "      <td>98027</td>\n",
       "      <td>47.53</td>\n",
       "      <td>-122.07</td>\n",
       "      <td>1410</td>\n",
       "      <td>1287</td>\n",
       "    </tr>\n",
       "    <tr>\n",
       "      <th>21612</th>\n",
       "      <td>1523300157</td>\n",
       "      <td>20141015T000000</td>\n",
       "      <td>325000.00</td>\n",
       "      <td>2</td>\n",
       "      <td>0.75</td>\n",
       "      <td>1020</td>\n",
       "      <td>1076</td>\n",
       "      <td>2.00</td>\n",
       "      <td>0</td>\n",
       "      <td>0</td>\n",
       "      <td>3</td>\n",
       "      <td>7</td>\n",
       "      <td>1020</td>\n",
       "      <td>0</td>\n",
       "      <td>2008</td>\n",
       "      <td>0</td>\n",
       "      <td>98144</td>\n",
       "      <td>47.59</td>\n",
       "      <td>-122.30</td>\n",
       "      <td>1020</td>\n",
       "      <td>1357</td>\n",
       "    </tr>\n",
       "  </tbody>\n",
       "</table>\n",
       "<p>21613 rows × 21 columns</p>\n",
       "</div>"
      ],
      "text/plain": [
       "               id             date     price  bedrooms  bathrooms  \\\n",
       "0      7129300520  20141013T000000 221900.00         3       1.00   \n",
       "1      6414100192  20141209T000000 538000.00         3       2.25   \n",
       "2      5631500400  20150225T000000 180000.00         2       1.00   \n",
       "3      2487200875  20141209T000000 604000.00         4       3.00   \n",
       "4      1954400510  20150218T000000 510000.00         3       2.00   \n",
       "...           ...              ...       ...       ...        ...   \n",
       "21608   263000018  20140521T000000 360000.00         3       2.50   \n",
       "21609  6600060120  20150223T000000 400000.00         4       2.50   \n",
       "21610  1523300141  20140623T000000 402101.00         2       0.75   \n",
       "21611   291310100  20150116T000000 400000.00         3       2.50   \n",
       "21612  1523300157  20141015T000000 325000.00         2       0.75   \n",
       "\n",
       "       sqft_living  sqft_lot  floors  waterfront  view  condition  grade  \\\n",
       "0             1180      5650    1.00           0     0          3      7   \n",
       "1             2570      7242    2.00           0     0          3      7   \n",
       "2              770     10000    1.00           0     0          3      6   \n",
       "3             1960      5000    1.00           0     0          5      7   \n",
       "4             1680      8080    1.00           0     0          3      8   \n",
       "...            ...       ...     ...         ...   ...        ...    ...   \n",
       "21608         1530      1131    3.00           0     0          3      8   \n",
       "21609         2310      5813    2.00           0     0          3      8   \n",
       "21610         1020      1350    2.00           0     0          3      7   \n",
       "21611         1600      2388    2.00           0     0          3      8   \n",
       "21612         1020      1076    2.00           0     0          3      7   \n",
       "\n",
       "       sqft_above  sqft_basement  yr_built  yr_renovated  zipcode   lat  \\\n",
       "0            1180              0      1955             0    98178 47.51   \n",
       "1            2170            400      1951          1991    98125 47.72   \n",
       "2             770              0      1933             0    98028 47.74   \n",
       "3            1050            910      1965             0    98136 47.52   \n",
       "4            1680              0      1987             0    98074 47.62   \n",
       "...           ...            ...       ...           ...      ...   ...   \n",
       "21608        1530              0      2009             0    98103 47.70   \n",
       "21609        2310              0      2014             0    98146 47.51   \n",
       "21610        1020              0      2009             0    98144 47.59   \n",
       "21611        1600              0      2004             0    98027 47.53   \n",
       "21612        1020              0      2008             0    98144 47.59   \n",
       "\n",
       "         long  sqft_living15  sqft_lot15  \n",
       "0     -122.26           1340        5650  \n",
       "1     -122.32           1690        7639  \n",
       "2     -122.23           2720        8062  \n",
       "3     -122.39           1360        5000  \n",
       "4     -122.05           1800        7503  \n",
       "...       ...            ...         ...  \n",
       "21608 -122.35           1530        1509  \n",
       "21609 -122.36           1830        7200  \n",
       "21610 -122.30           1020        2007  \n",
       "21611 -122.07           1410        1287  \n",
       "21612 -122.30           1020        1357  \n",
       "\n",
       "[21613 rows x 21 columns]"
      ]
     },
     "execution_count": 9,
     "metadata": {},
     "output_type": "execute_result"
    }
   ],
   "source": [
    "df = pd.read_csv('./../../data/kc_house_data.csv')\n",
    "\n",
    "# показать все колонки\n",
    "pd.options.display.max_columns = None\n",
    "\n",
    "# изменить формат отображения с помощью средства форматирования\n",
    "# (float без E, а 2 знаков после запятой)\n",
    "# (для удобства чтения)\n",
    "pd.options.display.float_format = '{:.2f}'.format\n",
    "\n",
    "# отобразить первые 5 и последние 5 строк\n",
    "df"
   ]
  },
  {
   "cell_type": "code",
   "execution_count": 10,
   "metadata": {},
   "outputs": [
    {
     "name": "stdout",
     "output_type": "stream",
     "text": [
      "<class 'pandas.core.frame.DataFrame'>\n",
      "RangeIndex: 21613 entries, 0 to 21612\n",
      "Data columns (total 21 columns):\n",
      " #   Column         Non-Null Count  Dtype  \n",
      "---  ------         --------------  -----  \n",
      " 0   id             21613 non-null  int64  \n",
      " 1   date           21613 non-null  object \n",
      " 2   price          21613 non-null  float64\n",
      " 3   bedrooms       21613 non-null  int64  \n",
      " 4   bathrooms      21613 non-null  float64\n",
      " 5   sqft_living    21613 non-null  int64  \n",
      " 6   sqft_lot       21613 non-null  int64  \n",
      " 7   floors         21613 non-null  float64\n",
      " 8   waterfront     21613 non-null  int64  \n",
      " 9   view           21613 non-null  int64  \n",
      " 10  condition      21613 non-null  int64  \n",
      " 11  grade          21613 non-null  int64  \n",
      " 12  sqft_above     21613 non-null  int64  \n",
      " 13  sqft_basement  21613 non-null  int64  \n",
      " 14  yr_built       21613 non-null  int64  \n",
      " 15  yr_renovated   21613 non-null  int64  \n",
      " 16  zipcode        21613 non-null  int64  \n",
      " 17  lat            21613 non-null  float64\n",
      " 18  long           21613 non-null  float64\n",
      " 19  sqft_living15  21613 non-null  int64  \n",
      " 20  sqft_lot15     21613 non-null  int64  \n",
      "dtypes: float64(5), int64(15), object(1)\n",
      "memory usage: 3.5+ MB\n"
     ]
    }
   ],
   "source": [
    "df.info()"
   ]
  },
  {
   "cell_type": "markdown",
   "metadata": {},
   "source": [
    "## Выбор колонок для изучения"
   ]
  },
  {
   "cell_type": "code",
   "execution_count": 11,
   "metadata": {},
   "outputs": [],
   "source": [
    "ex_col_names = ['price', 'sqft_living']"
   ]
  },
  {
   "cell_type": "code",
   "execution_count": 12,
   "metadata": {},
   "outputs": [],
   "source": [
    "def ex_col_names_with_suffix(suffix):\n",
    "    return [f\"{name}_{suffix}\" for name in ex_col_names]"
   ]
  },
  {
   "cell_type": "code",
   "execution_count": 13,
   "metadata": {},
   "outputs": [
    {
     "data": {
      "text/plain": [
       "['price_test', 'sqft_living_test']"
      ]
     },
     "execution_count": 13,
     "metadata": {},
     "output_type": "execute_result"
    }
   ],
   "source": [
    "# пример:\n",
    "ex_col_names_with_suffix('test')"
   ]
  },
  {
   "cell_type": "markdown",
   "metadata": {},
   "source": [
    "## Удаление выбросов"
   ]
  },
  {
   "cell_type": "code",
   "execution_count": 14,
   "metadata": {},
   "outputs": [],
   "source": [
    "def remove_outliers_iqr(data, col_name):\n",
    "    print(f\"column name: {col_name}\\n\")\n",
    "    Q1 = data[col_name].quantile(0.25)\n",
    "    Q3 = data[col_name].quantile(0.75)\n",
    "    IQR = Q3 - Q1\n",
    "    lower_fence = Q1 - 1.5 * IQR\n",
    "    upper_fence = Q3 + 1.5 * IQR\n",
    "    data_new = data[~((data[col_name] < lower_fence) |\n",
    "                      (data[col_name] > upper_fence))]\n",
    "    \n",
    "    diff_len = len(data) - len(data_new)\n",
    "    print(f\"removed: {diff_len}\")\n",
    "    \n",
    "    _, axs = plt.subplots(2, 1, figsize=(6, 6))\n",
    "    sns.boxplot(data=data_new[col_name], ax=axs[0])\n",
    "    sns.histplot(data=data_new[col_name], ax=axs[1])\n",
    "    \n",
    "    return data_new.reset_index(drop=True)"
   ]
  },
  {
   "cell_type": "code",
   "execution_count": 15,
   "metadata": {},
   "outputs": [
    {
     "name": "stdout",
     "output_type": "stream",
     "text": [
      "column name: price\n",
      "\n",
      "removed: 1146\n"
     ]
    },
    {
     "data": {
      "image/png": "[encoded data removed]",
      "text/plain": [
       "<Figure size 432x432 with 2 Axes>"
      ]
     },
     "metadata": {
      "needs_background": "light"
     },
     "output_type": "display_data"
    }
   ],
   "source": [
    "df = remove_outliers_iqr(df, ex_col_names[0])"
   ]
  },
  {
   "cell_type": "code",
   "execution_count": 16,
   "metadata": {},
   "outputs": [
    {
     "name": "stdout",
     "output_type": "stream",
     "text": [
      "column name: sqft_living\n",
      "\n",
      "removed: 320\n"
     ]
    },
    {
     "data": {
      "image/png": "[encoded data removed]",
      "text/plain": [
       "<Figure size 432x432 with 2 Axes>"
      ]
     },
     "metadata": {
      "needs_background": "light"
     },
     "output_type": "display_data"
    }
   ],
   "source": [
    "df = remove_outliers_iqr(df, ex_col_names[1])"
   ]
  },
  {
   "cell_type": "markdown",
   "metadata": {},
   "source": [
    "## Нормализация и Стандартизация\n",
    "\n",
    "**Нормализация (normalization)** и **стандартизация (standardization)** являются методами **изменения диапазонов значений – шкалирования**.\n",
    "\n",
    "В машинном обучении **нормализацией** называют метод предобработки числовых признаков в обучающих наборах данных с целью **приведения их к некоторой общей шкале без потери информации о различии диапазонов**.\n",
    "\n",
    "Иногда **нормализацию** данных называют **стандартизацией**, однако это неверно.\n",
    "\n",
    "**Стандартизация это более широкое понятие** и подразумевает предобработку с целью **приведению данных к единому формату и представлению, наиболее удобному для использования определённого вида обработки**.\n",
    "\n",
    "В отличие от нормализации, **стандартизация может применяться и к категориальным данным**.\n",
    "\n",
    "**НЕ следует нормализовать категориальные данные**. Если функция является категориальной, это означает, что каждое значение имеет отдельное значение, поэтому нормализация превратит эти функции во что-то другое.\n",
    "\n",
    "**Нормализация и стандартизация отличаются своими подходами**:\n",
    "- Нормализация подразумевает изменение диапазонов в данных без изменения формы распределения.\n",
    "- Стандартизация изменяет форму распределения данных (приводится к нормальному распределению).\n",
    "\n",
    "**Обычно достаточно нормализовать данные.** Стандартизацию стоит применять при использовании алгоритмов, которые основываются на измерении расстояний, например, KNN или метод опорных векторов (SVM). Таким образом стандартизацию применяют при необходимости (в зависимости от алгоритма обучения модели).\n",
    "\n",
    "Необходимость **нормализации** вызвана тем, что разные признаки обучающего набора данных могут быть представлены в разных масштабах и изменяться в разных диапазонах.\n",
    "\n",
    "Например, возраст, который изменяется от 0 до 100, и доход, изменяющийся от нескольких тысяч до нескольких миллионов. То есть диапазоны изменения признаков \"Возраст\" и \"Доход\" различаются в тысячи раз.\n",
    "\n",
    "В этом случае **возникает нарушение баланса между влиянием входных переменных, представленных в разных масштабах, на выходную переменную**. Т.е. это влияние обусловлено не реальной зависимостью, а изменением масштаба. В результате обучаемая модель может выявить некорректные зависимости.\n",
    "\n",
    "<img src=\"./images/standardize_vs_normalize.png\" />\n",
    "\n",
    "Примеры алгоритмов, в которых масштабирование обязательно (вычисляют расстояния):\n",
    "- Linear / Logistic regression\n",
    "- (D)NNs\n",
    "- K-nearest neighbors (KNN)\n",
    "- K-Means\n",
    "- SVM\n",
    "- Principal Component Analysis (PCA)\n",
    "- ...\n",
    "\n",
    "Примеры алгоритмов, где не обязательно масштабирование (опираются на правила / вычисленные веса):\n",
    "- Classification and Regression Trees (CART)\n",
    "- Random Forests\n",
    "- Gradient Boosted Decision Trees\n",
    "- Naive Bayes\n",
    "\n",
    "\n",
    "Несколько ключевых моментов, на которые следует обратить внимание:\n",
    "- Среднее (mean) центрирование (=стандартизация) не влияет на ковариационную матрицу.\n",
    "- Масштабирование переменных (=нормализация) влияет на ковариационную матрицу.\n",
    "- Стандартизация влияет на ковариацию."
   ]
  },
  {
   "cell_type": "markdown",
   "metadata": {},
   "source": [
    "## Графическое представление"
   ]
  },
  {
   "cell_type": "code",
   "execution_count": 17,
   "metadata": {},
   "outputs": [],
   "source": [
    "def plot_sep_hist_box(col_names):\n",
    "    _, axes = plt.subplots(2, 2, figsize=(16, 6))\n",
    "\n",
    "    sns.histplot(df[col_names[0]], \n",
    "                 ax=axes[0][0], \n",
    "                 color='m', \n",
    "                 kde=True)\n",
    "    \n",
    "    sns.boxplot(data=df[col_names[0]], \n",
    "                ax=axes[1][0], \n",
    "                color='m')\n",
    "\n",
    "    sns.histplot(df[col_names[1]], \n",
    "                 ax=axes[0][1], \n",
    "                 color='b', \n",
    "                 kde=True)\n",
    "    \n",
    "    sns.boxplot(data=df[col_names[1]], \n",
    "                ax=axes[1][1], \n",
    "                color='b', \n",
    "                saturation=0.7)"
   ]
  },
  {
   "cell_type": "code",
   "execution_count": 18,
   "metadata": {},
   "outputs": [
    {
     "data": {
      "image/png": "[encoded data removed]",
      "text/plain": [
       "<Figure size 1152x432 with 4 Axes>"
      ]
     },
     "metadata": {
      "needs_background": "light"
     },
     "output_type": "display_data"
    }
   ],
   "source": [
    "plot_sep_hist_box(ex_col_names)"
   ]
  },
  {
   "cell_type": "code",
   "execution_count": 19,
   "metadata": {},
   "outputs": [],
   "source": [
    "def plot_hist_box(col_names):\n",
    "    _, axes = plt.subplots(1, 2, figsize=(16, 4))\n",
    "\n",
    "    sns.histplot(df[col_names], \n",
    "                 palette=['m', 'b'], \n",
    "                 ax=axes[0], \n",
    "                 legend=False, \n",
    "                 kde=True)\n",
    "\n",
    "    bp = sns.boxplot(data=df[col_names], \n",
    "                     palette=['m', 'b'], \n",
    "                     ax=axes[1], \n",
    "                     saturation=0.7)\n",
    "    bp.set_xticklabels(bp.get_xticklabels(),\n",
    "                       rotation=45)"
   ]
  },
  {
   "cell_type": "code",
   "execution_count": 20,
   "metadata": {},
   "outputs": [
    {
     "data": {
      "image/png": "[encoded data removed]",
      "text/plain": [
       "<Figure size 1152x288 with 2 Axes>"
      ]
     },
     "metadata": {
      "needs_background": "light"
     },
     "output_type": "display_data"
    }
   ],
   "source": [
    "plot_hist_box(ex_col_names)"
   ]
  },
  {
   "cell_type": "code",
   "execution_count": 21,
   "metadata": {},
   "outputs": [],
   "source": [
    "def plot_hist_original_new(col_names_original, col_names_new):\n",
    "    _, axes = plt.subplots(2, 2, figsize=(16, 4))\n",
    "\n",
    "    sns.histplot(df[col_names_original[0]], \n",
    "                 color='m', \n",
    "                 ax=axes[0][0], \n",
    "                 legend=False, \n",
    "                 kde=True)\n",
    "    \n",
    "    sns.histplot(df[col_names_new[0]], \n",
    "                 color='m', \n",
    "                 ax=axes[0][1], \n",
    "                 legend=False, \n",
    "                 kde=True)\n",
    "    \n",
    "    sns.histplot(df[col_names_original[1]], \n",
    "                 color='b', \n",
    "                 ax=axes[1][0], \n",
    "                 legend=False, \n",
    "                 kde=True)\n",
    "    \n",
    "    sns.histplot(df[col_names_new[1]], \n",
    "                 color='b', \n",
    "                 ax=axes[1][1], \n",
    "                 legend=False, \n",
    "                 kde=True)"
   ]
  },
  {
   "cell_type": "markdown",
   "metadata": {},
   "source": [
    "## Нормализация\n",
    "\n",
    "Сравнение различных скейлеров от `scikit-learn` см. [Compare the effect of different scalers on data with outliers](https://scikit-learn.org/stable/auto_examples/preprocessing/plot_all_scaling.html#compare-the-effect-of-different-scalers-on-data-with-outliers).\n",
    "\n",
    "Рекомендации:\n",
    "- Использовать `MinMaxScaler` по умолчанию.\n",
    "- Использовать `RobustScaler`, если имеются выбросы и нужно обрабатывать больший диапазон.\n",
    "- Использовать `StandardScaler`, если вам нужны нормализованные (нормальное распределение) признаки.\n",
    "- Использовать *`Normalizer` для особых случаев - `Normalizer` нормализует строки, а не столбцы.\n",
    "\n",
    "\n",
    "Выбор подходящего скейлера очень зависит от алгоритма (и данных). Например:\n",
    "- Principal Component Analysis (PCA) лучше работает при стандартизации."
   ]
  },
  {
   "cell_type": "markdown",
   "metadata": {},
   "source": [
    "### Минимаксная нормализация (`MinMaxScaler`)\n",
    "\n",
    "[sklearn.preprocessing.MinMaxScaler](https://scikit-learn.org/stable/modules/generated/sklearn.preprocessing.MinMaxScaler.html)\n",
    "\n",
    "<img src=\"images/min_max_scaler_formula.png\" />\n",
    "\n",
    "Преобразует признаки, масштабируя каждый признак к заданному диапазону.\n",
    "\n",
    "Это преобразование часто используется как альтернатива масштабированию с нулевым средним (zero mean) и единичной дисперсией (unit variance scaling).\n",
    "\n",
    "Этот скейлер хорошо работает, если **стандартное отклонение невелико** и когда **распределение не гауссово**.\n",
    "\n",
    "Этот скейлер **чувствителен к выбросам**."
   ]
  },
  {
   "cell_type": "code",
   "execution_count": 22,
   "metadata": {},
   "outputs": [
    {
     "data": {
      "text/plain": [
       "MinMaxScaler(feature_range=(-3, 3))"
      ]
     },
     "execution_count": 22,
     "metadata": {},
     "output_type": "execute_result"
    }
   ],
   "source": [
    "from sklearn.preprocessing import MinMaxScaler\n",
    "\n",
    "# по умолчанию feature_range=(0, 1)\n",
    "min_max_scaler = MinMaxScaler(feature_range=(-3, 3))\n",
    "min_max_scaler"
   ]
  },
  {
   "cell_type": "code",
   "execution_count": 23,
   "metadata": {},
   "outputs": [
    {
     "data": {
      "text/plain": [
       "MinMaxScaler(feature_range=(-3, 3))"
      ]
     },
     "execution_count": 23,
     "metadata": {},
     "output_type": "execute_result"
    }
   ],
   "source": [
    "min_max_scaler.fit(df[ex_col_names])"
   ]
  },
  {
   "cell_type": "code",
   "execution_count": 24,
   "metadata": {},
   "outputs": [
    {
     "data": {
      "text/plain": [
       "array([1052500.,    3680.])"
      ]
     },
     "execution_count": 24,
     "metadata": {},
     "output_type": "execute_result"
    }
   ],
   "source": [
    "min_max_scaler.data_range_"
   ]
  },
  {
   "cell_type": "code",
   "execution_count": 25,
   "metadata": {},
   "outputs": [
    {
     "data": {
      "text/html": [
       "<div>\n",
       "<style scoped>\n",
       "    .dataframe tbody tr th:only-of-type {\n",
       "        vertical-align: middle;\n",
       "    }\n",
       "\n",
       "    .dataframe tbody tr th {\n",
       "        vertical-align: top;\n",
       "    }\n",
       "\n",
       "    .dataframe thead th {\n",
       "        text-align: right;\n",
       "    }\n",
       "</style>\n",
       "<table border=\"1\" class=\"dataframe\">\n",
       "  <thead>\n",
       "    <tr style=\"text-align: right;\">\n",
       "      <th></th>\n",
       "      <th>price</th>\n",
       "      <th>sqft_living</th>\n",
       "      <th>price_min_max_norm</th>\n",
       "      <th>sqft_living_min_max_norm</th>\n",
       "    </tr>\n",
       "  </thead>\n",
       "  <tbody>\n",
       "    <tr>\n",
       "      <th>0</th>\n",
       "      <td>221900.00</td>\n",
       "      <td>1180</td>\n",
       "      <td>-2.16</td>\n",
       "      <td>-1.55</td>\n",
       "    </tr>\n",
       "    <tr>\n",
       "      <th>1</th>\n",
       "      <td>538000.00</td>\n",
       "      <td>2570</td>\n",
       "      <td>-0.36</td>\n",
       "      <td>0.72</td>\n",
       "    </tr>\n",
       "    <tr>\n",
       "      <th>2</th>\n",
       "      <td>180000.00</td>\n",
       "      <td>770</td>\n",
       "      <td>-2.40</td>\n",
       "      <td>-2.22</td>\n",
       "    </tr>\n",
       "    <tr>\n",
       "      <th>3</th>\n",
       "      <td>604000.00</td>\n",
       "      <td>1960</td>\n",
       "      <td>0.02</td>\n",
       "      <td>-0.28</td>\n",
       "    </tr>\n",
       "    <tr>\n",
       "      <th>4</th>\n",
       "      <td>510000.00</td>\n",
       "      <td>1680</td>\n",
       "      <td>-0.52</td>\n",
       "      <td>-0.73</td>\n",
       "    </tr>\n",
       "    <tr>\n",
       "      <th>...</th>\n",
       "      <td>...</td>\n",
       "      <td>...</td>\n",
       "      <td>...</td>\n",
       "      <td>...</td>\n",
       "    </tr>\n",
       "    <tr>\n",
       "      <th>20142</th>\n",
       "      <td>360000.00</td>\n",
       "      <td>1530</td>\n",
       "      <td>-1.38</td>\n",
       "      <td>-0.98</td>\n",
       "    </tr>\n",
       "    <tr>\n",
       "      <th>20143</th>\n",
       "      <td>400000.00</td>\n",
       "      <td>2310</td>\n",
       "      <td>-1.15</td>\n",
       "      <td>0.29</td>\n",
       "    </tr>\n",
       "    <tr>\n",
       "      <th>20144</th>\n",
       "      <td>402101.00</td>\n",
       "      <td>1020</td>\n",
       "      <td>-1.14</td>\n",
       "      <td>-1.81</td>\n",
       "    </tr>\n",
       "    <tr>\n",
       "      <th>20145</th>\n",
       "      <td>400000.00</td>\n",
       "      <td>1600</td>\n",
       "      <td>-1.15</td>\n",
       "      <td>-0.86</td>\n",
       "    </tr>\n",
       "    <tr>\n",
       "      <th>20146</th>\n",
       "      <td>325000.00</td>\n",
       "      <td>1020</td>\n",
       "      <td>-1.57</td>\n",
       "      <td>-1.81</td>\n",
       "    </tr>\n",
       "  </tbody>\n",
       "</table>\n",
       "<p>20147 rows × 4 columns</p>\n",
       "</div>"
      ],
      "text/plain": [
       "          price  sqft_living  price_min_max_norm  sqft_living_min_max_norm\n",
       "0     221900.00         1180               -2.16                     -1.55\n",
       "1     538000.00         2570               -0.36                      0.72\n",
       "2     180000.00          770               -2.40                     -2.22\n",
       "3     604000.00         1960                0.02                     -0.28\n",
       "4     510000.00         1680               -0.52                     -0.73\n",
       "...         ...          ...                 ...                       ...\n",
       "20142 360000.00         1530               -1.38                     -0.98\n",
       "20143 400000.00         2310               -1.15                      0.29\n",
       "20144 402101.00         1020               -1.14                     -1.81\n",
       "20145 400000.00         1600               -1.15                     -0.86\n",
       "20146 325000.00         1020               -1.57                     -1.81\n",
       "\n",
       "[20147 rows x 4 columns]"
      ]
     },
     "execution_count": 25,
     "metadata": {},
     "output_type": "execute_result"
    }
   ],
   "source": [
    "ex_col_names_min_max_norm = ex_col_names_with_suffix('min_max_norm')\n",
    "\n",
    "df[ex_col_names_min_max_norm] = min_max_scaler.transform(df[ex_col_names])\n",
    "\n",
    "df[ex_col_names + ex_col_names_min_max_norm]"
   ]
  },
  {
   "cell_type": "code",
   "execution_count": 26,
   "metadata": {},
   "outputs": [
    {
     "data": {
      "image/png": "[encoded data removed]",
      "text/plain": [
       "<Figure size 1152x288 with 2 Axes>"
      ]
     },
     "metadata": {
      "needs_background": "light"
     },
     "output_type": "display_data"
    }
   ],
   "source": [
    "plot_hist_box(ex_col_names_min_max_norm)"
   ]
  },
  {
   "cell_type": "code",
   "execution_count": 27,
   "metadata": {},
   "outputs": [
    {
     "data": {
      "image/png": "[encoded data removed]",
      "text/plain": [
       "<Figure size 1152x288 with 4 Axes>"
      ]
     },
     "metadata": {
      "needs_background": "light"
     },
     "output_type": "display_data"
    }
   ],
   "source": [
    "plot_hist_original_new(ex_col_names, ex_col_names_min_max_norm)"
   ]
  },
  {
   "cell_type": "markdown",
   "metadata": {},
   "source": [
    "### MaxAbsScaler\n",
    "\n",
    "[sklearn.preprocessing.MaxAbsScaler](https://scikit-learn.org/stable/modules/generated/sklearn.preprocessing.MaxAbsScaler.html#sklearn.preprocessing.MaxAbsScaler)\n",
    "\n",
    "Масштабирует каждый признак по его максимальному абсолютному значению.\n",
    "\n",
    "Этот скейлер масштабирует и преобразует каждый признак индивидуально, так что максимальное абсолютное значение каждого признака составляет 1.0.\n",
    "\n",
    "**Скейлер не смещает / центрирует данные и, следовательно, не уничтожает разреженность (sparsity).**\n",
    "\n",
    "Для данных только с положительными значениями этот скейлер ведет себя аналогично `MinMaxScaler` и, следовательно, также **страдает от наличия выбросов**."
   ]
  },
  {
   "cell_type": "code",
   "execution_count": 28,
   "metadata": {},
   "outputs": [
    {
     "data": {
      "text/plain": [
       "MaxAbsScaler()"
      ]
     },
     "execution_count": 28,
     "metadata": {},
     "output_type": "execute_result"
    }
   ],
   "source": [
    "from sklearn.preprocessing import MaxAbsScaler\n",
    "\n",
    "max_abs_scaler = MaxAbsScaler()\n",
    "max_abs_scaler"
   ]
  },
  {
   "cell_type": "code",
   "execution_count": 29,
   "metadata": {},
   "outputs": [
    {
     "data": {
      "text/plain": [
       "MaxAbsScaler()"
      ]
     },
     "execution_count": 29,
     "metadata": {},
     "output_type": "execute_result"
    }
   ],
   "source": [
    "max_abs_scaler.fit(df[ex_col_names])"
   ]
  },
  {
   "cell_type": "code",
   "execution_count": 30,
   "metadata": {},
   "outputs": [
    {
     "data": {
      "text/plain": [
       "array([1127500.,    3970.])"
      ]
     },
     "execution_count": 30,
     "metadata": {},
     "output_type": "execute_result"
    }
   ],
   "source": [
    "max_abs_scaler.scale_"
   ]
  },
  {
   "cell_type": "code",
   "execution_count": 31,
   "metadata": {},
   "outputs": [
    {
     "data": {
      "text/html": [
       "<div>\n",
       "<style scoped>\n",
       "    .dataframe tbody tr th:only-of-type {\n",
       "        vertical-align: middle;\n",
       "    }\n",
       "\n",
       "    .dataframe tbody tr th {\n",
       "        vertical-align: top;\n",
       "    }\n",
       "\n",
       "    .dataframe thead th {\n",
       "        text-align: right;\n",
       "    }\n",
       "</style>\n",
       "<table border=\"1\" class=\"dataframe\">\n",
       "  <thead>\n",
       "    <tr style=\"text-align: right;\">\n",
       "      <th></th>\n",
       "      <th>price</th>\n",
       "      <th>sqft_living</th>\n",
       "      <th>price_abs_norm</th>\n",
       "      <th>sqft_living_abs_norm</th>\n",
       "    </tr>\n",
       "  </thead>\n",
       "  <tbody>\n",
       "    <tr>\n",
       "      <th>0</th>\n",
       "      <td>221900.00</td>\n",
       "      <td>1180</td>\n",
       "      <td>0.20</td>\n",
       "      <td>0.30</td>\n",
       "    </tr>\n",
       "    <tr>\n",
       "      <th>1</th>\n",
       "      <td>538000.00</td>\n",
       "      <td>2570</td>\n",
       "      <td>0.48</td>\n",
       "      <td>0.65</td>\n",
       "    </tr>\n",
       "    <tr>\n",
       "      <th>2</th>\n",
       "      <td>180000.00</td>\n",
       "      <td>770</td>\n",
       "      <td>0.16</td>\n",
       "      <td>0.19</td>\n",
       "    </tr>\n",
       "    <tr>\n",
       "      <th>3</th>\n",
       "      <td>604000.00</td>\n",
       "      <td>1960</td>\n",
       "      <td>0.54</td>\n",
       "      <td>0.49</td>\n",
       "    </tr>\n",
       "    <tr>\n",
       "      <th>4</th>\n",
       "      <td>510000.00</td>\n",
       "      <td>1680</td>\n",
       "      <td>0.45</td>\n",
       "      <td>0.42</td>\n",
       "    </tr>\n",
       "    <tr>\n",
       "      <th>...</th>\n",
       "      <td>...</td>\n",
       "      <td>...</td>\n",
       "      <td>...</td>\n",
       "      <td>...</td>\n",
       "    </tr>\n",
       "    <tr>\n",
       "      <th>20142</th>\n",
       "      <td>360000.00</td>\n",
       "      <td>1530</td>\n",
       "      <td>0.32</td>\n",
       "      <td>0.39</td>\n",
       "    </tr>\n",
       "    <tr>\n",
       "      <th>20143</th>\n",
       "      <td>400000.00</td>\n",
       "      <td>2310</td>\n",
       "      <td>0.35</td>\n",
       "      <td>0.58</td>\n",
       "    </tr>\n",
       "    <tr>\n",
       "      <th>20144</th>\n",
       "      <td>402101.00</td>\n",
       "      <td>1020</td>\n",
       "      <td>0.36</td>\n",
       "      <td>0.26</td>\n",
       "    </tr>\n",
       "    <tr>\n",
       "      <th>20145</th>\n",
       "      <td>400000.00</td>\n",
       "      <td>1600</td>\n",
       "      <td>0.35</td>\n",
       "      <td>0.40</td>\n",
       "    </tr>\n",
       "    <tr>\n",
       "      <th>20146</th>\n",
       "      <td>325000.00</td>\n",
       "      <td>1020</td>\n",
       "      <td>0.29</td>\n",
       "      <td>0.26</td>\n",
       "    </tr>\n",
       "  </tbody>\n",
       "</table>\n",
       "<p>20147 rows × 4 columns</p>\n",
       "</div>"
      ],
      "text/plain": [
       "          price  sqft_living  price_abs_norm  sqft_living_abs_norm\n",
       "0     221900.00         1180            0.20                  0.30\n",
       "1     538000.00         2570            0.48                  0.65\n",
       "2     180000.00          770            0.16                  0.19\n",
       "3     604000.00         1960            0.54                  0.49\n",
       "4     510000.00         1680            0.45                  0.42\n",
       "...         ...          ...             ...                   ...\n",
       "20142 360000.00         1530            0.32                  0.39\n",
       "20143 400000.00         2310            0.35                  0.58\n",
       "20144 402101.00         1020            0.36                  0.26\n",
       "20145 400000.00         1600            0.35                  0.40\n",
       "20146 325000.00         1020            0.29                  0.26\n",
       "\n",
       "[20147 rows x 4 columns]"
      ]
     },
     "execution_count": 31,
     "metadata": {},
     "output_type": "execute_result"
    }
   ],
   "source": [
    "ex_col_names_abs_norm = ex_col_names_with_suffix('abs_norm')\n",
    "\n",
    "df[ex_col_names_abs_norm] = max_abs_scaler.transform(df[ex_col_names])\n",
    "\n",
    "df[ex_col_names + ex_col_names_abs_norm]"
   ]
  },
  {
   "cell_type": "code",
   "execution_count": 32,
   "metadata": {},
   "outputs": [
    {
     "data": {
      "image/png": "[encoded data removed]",
      "text/plain": [
       "<Figure size 1152x288 with 2 Axes>"
      ]
     },
     "metadata": {
      "needs_background": "light"
     },
     "output_type": "display_data"
    }
   ],
   "source": [
    "plot_hist_box(ex_col_names_abs_norm)"
   ]
  },
  {
   "cell_type": "code",
   "execution_count": 33,
   "metadata": {},
   "outputs": [
    {
     "data": {
      "image/png": "[encoded data removed]",
      "text/plain": [
       "<Figure size 1152x288 with 4 Axes>"
      ]
     },
     "metadata": {
      "needs_background": "light"
     },
     "output_type": "display_data"
    }
   ],
   "source": [
    "plot_hist_original_new(ex_col_names, ex_col_names_abs_norm)"
   ]
  },
  {
   "cell_type": "markdown",
   "metadata": {},
   "source": [
    "### Robust scaling\n",
    "\n",
    "[sklearn.preprocessing.RobustScaler](https://scikit-learn.org/stable/modules/generated/sklearn.preprocessing.RobustScaler.html)\n",
    "\n",
    "Масштабирует признаки, используя статистику, **устойчивую к выбросам**.\n",
    "\n",
    "Этот скейлер удаляет медианное значение и масштабирует данные в соответствии с квантильным диапазоном (по умолчанию IQR: межквартильный диапазон). \n",
    "\n",
    "IQR - это диапазон между 1-м квартилем (25-й квантиль) и 3-м квартилем (75-й квантиль).\n",
    "\n",
    "Обратите внимание, что сами **выбросы все еще присутствуют в преобразованных данных**.\n",
    "\n",
    "Если желательно отдельное отсечение выбросов, то требуется нелинейное преобразование (масштабирование ~ линейное преобразование)."
   ]
  },
  {
   "cell_type": "code",
   "execution_count": 34,
   "metadata": {},
   "outputs": [
    {
     "data": {
      "text/plain": [
       "RobustScaler()"
      ]
     },
     "execution_count": 34,
     "metadata": {},
     "output_type": "execute_result"
    }
   ],
   "source": [
    "from sklearn.preprocessing import RobustScaler\n",
    "\n",
    "robust_scaler = RobustScaler()\n",
    "robust_scaler"
   ]
  },
  {
   "cell_type": "code",
   "execution_count": 35,
   "metadata": {},
   "outputs": [
    {
     "data": {
      "text/plain": [
       "RobustScaler()"
      ]
     },
     "execution_count": 35,
     "metadata": {},
     "output_type": "execute_result"
    }
   ],
   "source": [
    "robust_scaler.fit(df[ex_col_names])"
   ]
  },
  {
   "cell_type": "code",
   "execution_count": 36,
   "metadata": {},
   "outputs": [
    {
     "data": {
      "text/plain": [
       "array([281000.,   1010.])"
      ]
     },
     "execution_count": 36,
     "metadata": {},
     "output_type": "execute_result"
    }
   ],
   "source": [
    "robust_scaler.scale_"
   ]
  },
  {
   "cell_type": "code",
   "execution_count": 37,
   "metadata": {},
   "outputs": [
    {
     "data": {
      "text/html": [
       "<div>\n",
       "<style scoped>\n",
       "    .dataframe tbody tr th:only-of-type {\n",
       "        vertical-align: middle;\n",
       "    }\n",
       "\n",
       "    .dataframe tbody tr th {\n",
       "        vertical-align: top;\n",
       "    }\n",
       "\n",
       "    .dataframe thead th {\n",
       "        text-align: right;\n",
       "    }\n",
       "</style>\n",
       "<table border=\"1\" class=\"dataframe\">\n",
       "  <thead>\n",
       "    <tr style=\"text-align: right;\">\n",
       "      <th></th>\n",
       "      <th>price</th>\n",
       "      <th>sqft_living</th>\n",
       "      <th>price_robust_norm</th>\n",
       "      <th>sqft_living_robust_norm</th>\n",
       "    </tr>\n",
       "  </thead>\n",
       "  <tbody>\n",
       "    <tr>\n",
       "      <th>0</th>\n",
       "      <td>221900.00</td>\n",
       "      <td>1180</td>\n",
       "      <td>-0.76</td>\n",
       "      <td>-0.65</td>\n",
       "    </tr>\n",
       "    <tr>\n",
       "      <th>1</th>\n",
       "      <td>538000.00</td>\n",
       "      <td>2570</td>\n",
       "      <td>0.37</td>\n",
       "      <td>0.72</td>\n",
       "    </tr>\n",
       "    <tr>\n",
       "      <th>2</th>\n",
       "      <td>180000.00</td>\n",
       "      <td>770</td>\n",
       "      <td>-0.91</td>\n",
       "      <td>-1.06</td>\n",
       "    </tr>\n",
       "    <tr>\n",
       "      <th>3</th>\n",
       "      <td>604000.00</td>\n",
       "      <td>1960</td>\n",
       "      <td>0.60</td>\n",
       "      <td>0.12</td>\n",
       "    </tr>\n",
       "    <tr>\n",
       "      <th>4</th>\n",
       "      <td>510000.00</td>\n",
       "      <td>1680</td>\n",
       "      <td>0.27</td>\n",
       "      <td>-0.16</td>\n",
       "    </tr>\n",
       "    <tr>\n",
       "      <th>...</th>\n",
       "      <td>...</td>\n",
       "      <td>...</td>\n",
       "      <td>...</td>\n",
       "      <td>...</td>\n",
       "    </tr>\n",
       "    <tr>\n",
       "      <th>20142</th>\n",
       "      <td>360000.00</td>\n",
       "      <td>1530</td>\n",
       "      <td>-0.27</td>\n",
       "      <td>-0.31</td>\n",
       "    </tr>\n",
       "    <tr>\n",
       "      <th>20143</th>\n",
       "      <td>400000.00</td>\n",
       "      <td>2310</td>\n",
       "      <td>-0.12</td>\n",
       "      <td>0.47</td>\n",
       "    </tr>\n",
       "    <tr>\n",
       "      <th>20144</th>\n",
       "      <td>402101.00</td>\n",
       "      <td>1020</td>\n",
       "      <td>-0.12</td>\n",
       "      <td>-0.81</td>\n",
       "    </tr>\n",
       "    <tr>\n",
       "      <th>20145</th>\n",
       "      <td>400000.00</td>\n",
       "      <td>1600</td>\n",
       "      <td>-0.12</td>\n",
       "      <td>-0.24</td>\n",
       "    </tr>\n",
       "    <tr>\n",
       "      <th>20146</th>\n",
       "      <td>325000.00</td>\n",
       "      <td>1020</td>\n",
       "      <td>-0.39</td>\n",
       "      <td>-0.81</td>\n",
       "    </tr>\n",
       "  </tbody>\n",
       "</table>\n",
       "<p>20147 rows × 4 columns</p>\n",
       "</div>"
      ],
      "text/plain": [
       "          price  sqft_living  price_robust_norm  sqft_living_robust_norm\n",
       "0     221900.00         1180              -0.76                    -0.65\n",
       "1     538000.00         2570               0.37                     0.72\n",
       "2     180000.00          770              -0.91                    -1.06\n",
       "3     604000.00         1960               0.60                     0.12\n",
       "4     510000.00         1680               0.27                    -0.16\n",
       "...         ...          ...                ...                      ...\n",
       "20142 360000.00         1530              -0.27                    -0.31\n",
       "20143 400000.00         2310              -0.12                     0.47\n",
       "20144 402101.00         1020              -0.12                    -0.81\n",
       "20145 400000.00         1600              -0.12                    -0.24\n",
       "20146 325000.00         1020              -0.39                    -0.81\n",
       "\n",
       "[20147 rows x 4 columns]"
      ]
     },
     "execution_count": 37,
     "metadata": {},
     "output_type": "execute_result"
    }
   ],
   "source": [
    "ex_col_names_robust_norm = ex_col_names_with_suffix('robust_norm')\n",
    "\n",
    "df[ex_col_names_robust_norm] = robust_scaler.transform(df[ex_col_names])\n",
    "\n",
    "df[ex_col_names + ex_col_names_robust_norm]"
   ]
  },
  {
   "cell_type": "code",
   "execution_count": 38,
   "metadata": {},
   "outputs": [
    {
     "data": {
      "image/png": "[encoded data removed]",
      "text/plain": [
       "<Figure size 1152x288 with 2 Axes>"
      ]
     },
     "metadata": {
      "needs_background": "light"
     },
     "output_type": "display_data"
    }
   ],
   "source": [
    "plot_hist_box(ex_col_names_robust_norm)"
   ]
  },
  {
   "cell_type": "code",
   "execution_count": 39,
   "metadata": {},
   "outputs": [
    {
     "data": {
      "image/png": "[encoded data removed]",
      "text/plain": [
       "<Figure size 1152x288 with 4 Axes>"
      ]
     },
     "metadata": {
      "needs_background": "light"
     },
     "output_type": "display_data"
    }
   ],
   "source": [
    "plot_hist_original_new(ex_col_names, ex_col_names_robust_norm)"
   ]
  },
  {
   "cell_type": "markdown",
   "metadata": {},
   "source": [
    "### Z-нормализация / z-score (`StandardScaler`)\n",
    "\n",
    "[sklearn.preprocessing.StandardScaler](https://scikit-learn.org/stable/modules/generated/sklearn.preprocessing.StandardScaler.html#sklearn.preprocessing.StandardScaler)\n",
    "\n",
    "<img src=\"images/standard_scaler_formula.png\" />\n",
    "\n",
    "\n",
    "Стандартизация функций путем удаления среднего (mean) и масштабирования до единичной дисперсии (unit variance).\n",
    "\n",
    "Величины, полученные этим методом, в статистике называют **Z-оценками**. \n",
    "\n",
    "<img src=\"./images/z-score.svg\" />\n",
    "\n",
    "Класс `StandardScaler` предполагает, что данные **нормально распределены для каждого признака**, и масштабирует их так, чтобы распределение было сосредоточено вокруг 0 со стандартным отклонением 1.\n",
    "\n",
    "Центрирование и масштабирование происходят независимо для каждого признака путем вычисления соответствующей статистики по выборкам.\n",
    "\n",
    "**Если данные не нормально распределены, это НЕ лучший скейлер.**\n",
    "\n",
    "Недостаткам минимаксной нормализации является наличие аномальных значений данных, которые \"растягивают\" диапазон, что приводит к тому, что нормализованные значения опять же концентрируются в некотором узком диапазоне вблизи нуля. \n",
    "\n",
    "Эту проблему решает `RobustScaler`."
   ]
  },
  {
   "cell_type": "code",
   "execution_count": 40,
   "metadata": {},
   "outputs": [
    {
     "data": {
      "text/plain": [
       "StandardScaler()"
      ]
     },
     "execution_count": 40,
     "metadata": {},
     "output_type": "execute_result"
    }
   ],
   "source": [
    "from sklearn.preprocessing import StandardScaler\n",
    "\n",
    "std_scaler = StandardScaler()\n",
    "std_scaler"
   ]
  },
  {
   "cell_type": "code",
   "execution_count": 41,
   "metadata": {},
   "outputs": [
    {
     "data": {
      "text/plain": [
       "StandardScaler()"
      ]
     },
     "execution_count": 41,
     "metadata": {},
     "output_type": "execute_result"
    }
   ],
   "source": [
    "std_scaler.fit(df[ex_col_names])"
   ]
  },
  {
   "cell_type": "code",
   "execution_count": 42,
   "metadata": {},
   "outputs": [
    {
     "data": {
      "text/plain": [
       "array([471095.30729141,   1936.53650668])"
      ]
     },
     "execution_count": 42,
     "metadata": {},
     "output_type": "execute_result"
    }
   ],
   "source": [
    "std_scaler.mean_"
   ]
  },
  {
   "cell_type": "code",
   "execution_count": 43,
   "metadata": {},
   "outputs": [
    {
     "data": {
      "text/html": [
       "<div>\n",
       "<style scoped>\n",
       "    .dataframe tbody tr th:only-of-type {\n",
       "        vertical-align: middle;\n",
       "    }\n",
       "\n",
       "    .dataframe tbody tr th {\n",
       "        vertical-align: top;\n",
       "    }\n",
       "\n",
       "    .dataframe thead th {\n",
       "        text-align: right;\n",
       "    }\n",
       "</style>\n",
       "<table border=\"1\" class=\"dataframe\">\n",
       "  <thead>\n",
       "    <tr style=\"text-align: right;\">\n",
       "      <th></th>\n",
       "      <th>price</th>\n",
       "      <th>sqft_living</th>\n",
       "      <th>price_std_norm</th>\n",
       "      <th>sqft_living_std_norm</th>\n",
       "    </tr>\n",
       "  </thead>\n",
       "  <tbody>\n",
       "    <tr>\n",
       "      <th>0</th>\n",
       "      <td>221900.00</td>\n",
       "      <td>1180</td>\n",
       "      <td>-1.23</td>\n",
       "      <td>-1.06</td>\n",
       "    </tr>\n",
       "    <tr>\n",
       "      <th>1</th>\n",
       "      <td>538000.00</td>\n",
       "      <td>2570</td>\n",
       "      <td>0.33</td>\n",
       "      <td>0.89</td>\n",
       "    </tr>\n",
       "    <tr>\n",
       "      <th>2</th>\n",
       "      <td>180000.00</td>\n",
       "      <td>770</td>\n",
       "      <td>-1.43</td>\n",
       "      <td>-1.64</td>\n",
       "    </tr>\n",
       "    <tr>\n",
       "      <th>3</th>\n",
       "      <td>604000.00</td>\n",
       "      <td>1960</td>\n",
       "      <td>0.65</td>\n",
       "      <td>0.03</td>\n",
       "    </tr>\n",
       "    <tr>\n",
       "      <th>4</th>\n",
       "      <td>510000.00</td>\n",
       "      <td>1680</td>\n",
       "      <td>0.19</td>\n",
       "      <td>-0.36</td>\n",
       "    </tr>\n",
       "    <tr>\n",
       "      <th>...</th>\n",
       "      <td>...</td>\n",
       "      <td>...</td>\n",
       "      <td>...</td>\n",
       "      <td>...</td>\n",
       "    </tr>\n",
       "    <tr>\n",
       "      <th>20142</th>\n",
       "      <td>360000.00</td>\n",
       "      <td>1530</td>\n",
       "      <td>-0.55</td>\n",
       "      <td>-0.57</td>\n",
       "    </tr>\n",
       "    <tr>\n",
       "      <th>20143</th>\n",
       "      <td>400000.00</td>\n",
       "      <td>2310</td>\n",
       "      <td>-0.35</td>\n",
       "      <td>0.52</td>\n",
       "    </tr>\n",
       "    <tr>\n",
       "      <th>20144</th>\n",
       "      <td>402101.00</td>\n",
       "      <td>1020</td>\n",
       "      <td>-0.34</td>\n",
       "      <td>-1.29</td>\n",
       "    </tr>\n",
       "    <tr>\n",
       "      <th>20145</th>\n",
       "      <td>400000.00</td>\n",
       "      <td>1600</td>\n",
       "      <td>-0.35</td>\n",
       "      <td>-0.47</td>\n",
       "    </tr>\n",
       "    <tr>\n",
       "      <th>20146</th>\n",
       "      <td>325000.00</td>\n",
       "      <td>1020</td>\n",
       "      <td>-0.72</td>\n",
       "      <td>-1.29</td>\n",
       "    </tr>\n",
       "  </tbody>\n",
       "</table>\n",
       "<p>20147 rows × 4 columns</p>\n",
       "</div>"
      ],
      "text/plain": [
       "          price  sqft_living  price_std_norm  sqft_living_std_norm\n",
       "0     221900.00         1180           -1.23                 -1.06\n",
       "1     538000.00         2570            0.33                  0.89\n",
       "2     180000.00          770           -1.43                 -1.64\n",
       "3     604000.00         1960            0.65                  0.03\n",
       "4     510000.00         1680            0.19                 -0.36\n",
       "...         ...          ...             ...                   ...\n",
       "20142 360000.00         1530           -0.55                 -0.57\n",
       "20143 400000.00         2310           -0.35                  0.52\n",
       "20144 402101.00         1020           -0.34                 -1.29\n",
       "20145 400000.00         1600           -0.35                 -0.47\n",
       "20146 325000.00         1020           -0.72                 -1.29\n",
       "\n",
       "[20147 rows x 4 columns]"
      ]
     },
     "execution_count": 43,
     "metadata": {},
     "output_type": "execute_result"
    }
   ],
   "source": [
    "ex_col_names_std_norm = ex_col_names_with_suffix('std_norm')\n",
    "\n",
    "df[ex_col_names_std_norm] = std_scaler.transform(df[ex_col_names])\n",
    "\n",
    "df[ex_col_names + ex_col_names_std_norm]"
   ]
  },
  {
   "cell_type": "code",
   "execution_count": 44,
   "metadata": {},
   "outputs": [
    {
     "data": {
      "image/png": "[encoded data removed]",
      "text/plain": [
       "<Figure size 1152x288 with 2 Axes>"
      ]
     },
     "metadata": {
      "needs_background": "light"
     },
     "output_type": "display_data"
    }
   ],
   "source": [
    "plot_hist_box(ex_col_names_std_norm)"
   ]
  },
  {
   "cell_type": "code",
   "execution_count": 45,
   "metadata": {},
   "outputs": [
    {
     "data": {
      "image/png": "[encoded data removed]",
      "text/plain": [
       "<Figure size 1152x288 with 4 Axes>"
      ]
     },
     "metadata": {
      "needs_background": "light"
     },
     "output_type": "display_data"
    }
   ],
   "source": [
    "plot_hist_original_new(ex_col_names, ex_col_names_std_norm)"
   ]
  },
  {
   "cell_type": "markdown",
   "metadata": {},
   "source": [
    "## Стандартизация\n",
    "\n",
    "<img src=\"images/transform_to_normal.jpg\" />\n",
    "\n",
    "Числовые переменные могут иметь сильно искаженное и ненормальное распределение (распределение Гаусса), вызванное выбросами, сильно экспоненциальным распределением и т.д.\n",
    "\n",
    "<img src=\"images/data_to_normal_distribution.png\" />"
   ]
  },
  {
   "cell_type": "code",
   "execution_count": 46,
   "metadata": {},
   "outputs": [
    {
     "data": {
      "image/png": "[encoded data removed]",
      "text/plain": [
       "<Figure size 1152x432 with 4 Axes>"
      ]
     },
     "metadata": {
      "needs_background": "light"
     },
     "output_type": "display_data"
    }
   ],
   "source": [
    "plot_sep_hist_box(ex_col_names)"
   ]
  },
  {
   "cell_type": "markdown",
   "metadata": {},
   "source": [
    "### Статистические тесты на нормальность\n",
    "\n",
    "Существует множество статистических тестов, чтобы проверить, является ли распределение нормальным / гауссовским.\n",
    "\n",
    "*P-значение (англ. **P-value**), p-уровень значимости, p-критерий — вероятность получить для данной вероятностной модели распределения значений случайной величины такое же или более экстремальное значение статистики (среднего арифметического, медианы и др.), по сравнению с ранее наблюдаемым, при условии, что нулевая гипотеза верна.\n",
    "\n",
    "- Если значение $p \\leq 0.05$, то отклоняем нулевую гипотезу, т.е. предполагаем, что распределение переменной не является нормальным / гауссовым.\n",
    "- Если значение $p > 0,05$, то не можем отклонить нулевую гипотезу, т.е. предполагаем, что распределение переменной является нормальным / гауссовским.\n",
    "\n",
    "<img src=\"images/p-values-significance-levels.png\" />"
   ]
  },
  {
   "cell_type": "markdown",
   "metadata": {},
   "source": [
    "#### Shapiro-Wilk Test\n",
    "\n",
    "Это самый мощный тест для проверки нормальности переменной. Он был предложен в 1965 году Самуэлем Сэнфордом Шапиро и Мартином Уилком.\n",
    "\n",
    "\n",
    "**Этот тест работает только для достаточно небольшого количества выборок данных (< 5000).**"
   ]
  },
  {
   "cell_type": "markdown",
   "metadata": {},
   "source": [
    "#### D’Agostino’s K-squared test\n",
    "\n",
    "К-квадрат Д’Агостино проверяет нормальность на основе асимметрии и эксцесса. Он был назван Ральфом Д’Агостино.\n",
    "\n",
    "Асимметрия (Skewness) - это мера симметрии.\n",
    "\n",
    "Эксцесс (Kurtosis) - это мера того, имеют ли данные \"хвосты\" по сравнению с нормальным распределением."
   ]
  },
  {
   "cell_type": "markdown",
   "metadata": {},
   "source": [
    "#### Chi-Square Normality Test\n",
    "\n",
    "Другой способ проверить нормальность переменной — использовать критерий нормальности хи-квадрат.\n",
    "\n",
    "Он не так популярен, как другие методы."
   ]
  },
  {
   "cell_type": "markdown",
   "metadata": {},
   "source": [
    "#### Jarque–Bera test for Normality\n",
    "\n",
    "Тест Жарка-Бера проверяет, имеют ли выборочные данные асимметрию и эксцесс, соответствующие нормальному распределению.\n",
    "\n",
    "**Этот тест работает только для достаточно большого количества выборок данных (> 2000).**"
   ]
  },
  {
   "cell_type": "markdown",
   "metadata": {},
   "source": [
    "#### Kolmogorov-Smirnov test for Normality\n",
    "\n",
    "Критерий Колмогорова-Смирнова."
   ]
  },
  {
   "cell_type": "code",
   "execution_count": 47,
   "metadata": {},
   "outputs": [],
   "source": [
    "from scipy.stats import shapiro, normaltest, chisquare, jarque_bera, kstest\n",
    "\n",
    "test_funcs = {'shapiro': shapiro,\n",
    "              'normaltest': normaltest,\n",
    "              'chisquare': chisquare,\n",
    "              'jarque_bera': jarque_bera,\n",
    "              'kstest': kstest}\n",
    "\n",
    "def norm_tests(col_names):\n",
    "    for col_name in col_names:\n",
    "        print(f'*' * 20)\n",
    "        print(f\"column name: {col_name}\")\n",
    "        for test_name, test_func in test_funcs.items():\n",
    "            \n",
    "            print(f\"\\ttest name: {test_name}\")\n",
    "            stat, p = shapiro(df[col_name])\n",
    "            print(f\"\\tstat = {stat}\\n\\tp = {p}\")\n",
    "\n",
    "            if p > 0.05:\n",
    "                print('\\tProbably GAUSSIAN')\n",
    "            else:\n",
    "                print('\\tProbably NOT Gaussian')\n",
    "            print(f\"\\t{'-' * 20}\")"
   ]
  },
  {
   "cell_type": "code",
   "execution_count": 48,
   "metadata": {},
   "outputs": [
    {
     "name": "stdout",
     "output_type": "stream",
     "text": [
      "********************\n",
      "column name: price\n",
      "\ttest name: shapiro\n",
      "\tstat = 0.9530040621757507\n",
      "\tp = 0.0\n",
      "\tProbably NOT Gaussian\n",
      "\t--------------------\n",
      "\ttest name: normaltest\n",
      "\tstat = 0.9530040621757507\n",
      "\tp = 0.0\n",
      "\tProbably NOT Gaussian\n",
      "\t--------------------\n",
      "\ttest name: chisquare\n",
      "\tstat = 0.9530040621757507\n",
      "\tp = 0.0\n",
      "\tProbably NOT Gaussian\n",
      "\t--------------------\n",
      "\ttest name: jarque_bera\n",
      "\tstat = 0.9530040621757507\n",
      "\tp = 0.0\n",
      "\tProbably NOT Gaussian\n",
      "\t--------------------\n",
      "\ttest name: kstest\n",
      "\tstat = 0.9530040621757507\n",
      "\tp = 0.0\n",
      "\tProbably NOT Gaussian\n",
      "\t--------------------\n",
      "********************\n",
      "column name: sqft_living\n",
      "\ttest name: shapiro\n",
      "\tstat = 0.973894476890564\n",
      "\tp = 0.0\n",
      "\tProbably NOT Gaussian\n",
      "\t--------------------\n",
      "\ttest name: normaltest\n",
      "\tstat = 0.973894476890564\n",
      "\tp = 0.0\n",
      "\tProbably NOT Gaussian\n",
      "\t--------------------\n",
      "\ttest name: chisquare\n",
      "\tstat = 0.973894476890564\n",
      "\tp = 0.0\n",
      "\tProbably NOT Gaussian\n",
      "\t--------------------\n",
      "\ttest name: jarque_bera\n",
      "\tstat = 0.973894476890564\n",
      "\tp = 0.0\n",
      "\tProbably NOT Gaussian\n",
      "\t--------------------\n",
      "\ttest name: kstest\n",
      "\tstat = 0.973894476890564\n",
      "\tp = 0.0\n",
      "\tProbably NOT Gaussian\n",
      "\t--------------------\n"
     ]
    },
    {
     "name": "stderr",
     "output_type": "stream",
     "text": [
      "/home/ira/anaconda3/envs/LevelUp_DataScience/lib/python3.8/site-packages/scipy/stats/morestats.py:1681: UserWarning: p-value may not be accurate for N > 5000.\n",
      "  warnings.warn(\"p-value may not be accurate for N > 5000.\")\n"
     ]
    }
   ],
   "source": [
    "norm_tests(ex_col_names)"
   ]
  },
  {
   "cell_type": "markdown",
   "metadata": {},
   "source": [
    "### Log Transformation\n",
    "\n",
    "При преобразовании с помощью логарифма ($log$) каждая переменная `x` будет заменена на `log(x)` с основанием `10`, основанием `2` или натуральным логарифмом (`e`)."
   ]
  },
  {
   "cell_type": "code",
   "execution_count": 49,
   "metadata": {},
   "outputs": [
    {
     "data": {
      "text/html": [
       "<div>\n",
       "<style scoped>\n",
       "    .dataframe tbody tr th:only-of-type {\n",
       "        vertical-align: middle;\n",
       "    }\n",
       "\n",
       "    .dataframe tbody tr th {\n",
       "        vertical-align: top;\n",
       "    }\n",
       "\n",
       "    .dataframe thead th {\n",
       "        text-align: right;\n",
       "    }\n",
       "</style>\n",
       "<table border=\"1\" class=\"dataframe\">\n",
       "  <thead>\n",
       "    <tr style=\"text-align: right;\">\n",
       "      <th></th>\n",
       "      <th>price</th>\n",
       "      <th>sqft_living</th>\n",
       "      <th>price_log</th>\n",
       "      <th>sqft_living_log</th>\n",
       "    </tr>\n",
       "  </thead>\n",
       "  <tbody>\n",
       "    <tr>\n",
       "      <th>0</th>\n",
       "      <td>221900.00</td>\n",
       "      <td>1180</td>\n",
       "      <td>12.31</td>\n",
       "      <td>7.07</td>\n",
       "    </tr>\n",
       "    <tr>\n",
       "      <th>1</th>\n",
       "      <td>538000.00</td>\n",
       "      <td>2570</td>\n",
       "      <td>13.20</td>\n",
       "      <td>7.85</td>\n",
       "    </tr>\n",
       "    <tr>\n",
       "      <th>2</th>\n",
       "      <td>180000.00</td>\n",
       "      <td>770</td>\n",
       "      <td>12.10</td>\n",
       "      <td>6.65</td>\n",
       "    </tr>\n",
       "    <tr>\n",
       "      <th>3</th>\n",
       "      <td>604000.00</td>\n",
       "      <td>1960</td>\n",
       "      <td>13.31</td>\n",
       "      <td>7.58</td>\n",
       "    </tr>\n",
       "    <tr>\n",
       "      <th>4</th>\n",
       "      <td>510000.00</td>\n",
       "      <td>1680</td>\n",
       "      <td>13.14</td>\n",
       "      <td>7.43</td>\n",
       "    </tr>\n",
       "    <tr>\n",
       "      <th>...</th>\n",
       "      <td>...</td>\n",
       "      <td>...</td>\n",
       "      <td>...</td>\n",
       "      <td>...</td>\n",
       "    </tr>\n",
       "    <tr>\n",
       "      <th>20142</th>\n",
       "      <td>360000.00</td>\n",
       "      <td>1530</td>\n",
       "      <td>12.79</td>\n",
       "      <td>7.33</td>\n",
       "    </tr>\n",
       "    <tr>\n",
       "      <th>20143</th>\n",
       "      <td>400000.00</td>\n",
       "      <td>2310</td>\n",
       "      <td>12.90</td>\n",
       "      <td>7.75</td>\n",
       "    </tr>\n",
       "    <tr>\n",
       "      <th>20144</th>\n",
       "      <td>402101.00</td>\n",
       "      <td>1020</td>\n",
       "      <td>12.90</td>\n",
       "      <td>6.93</td>\n",
       "    </tr>\n",
       "    <tr>\n",
       "      <th>20145</th>\n",
       "      <td>400000.00</td>\n",
       "      <td>1600</td>\n",
       "      <td>12.90</td>\n",
       "      <td>7.38</td>\n",
       "    </tr>\n",
       "    <tr>\n",
       "      <th>20146</th>\n",
       "      <td>325000.00</td>\n",
       "      <td>1020</td>\n",
       "      <td>12.69</td>\n",
       "      <td>6.93</td>\n",
       "    </tr>\n",
       "  </tbody>\n",
       "</table>\n",
       "<p>20147 rows × 4 columns</p>\n",
       "</div>"
      ],
      "text/plain": [
       "          price  sqft_living  price_log  sqft_living_log\n",
       "0     221900.00         1180      12.31             7.07\n",
       "1     538000.00         2570      13.20             7.85\n",
       "2     180000.00          770      12.10             6.65\n",
       "3     604000.00         1960      13.31             7.58\n",
       "4     510000.00         1680      13.14             7.43\n",
       "...         ...          ...        ...              ...\n",
       "20142 360000.00         1530      12.79             7.33\n",
       "20143 400000.00         2310      12.90             7.75\n",
       "20144 402101.00         1020      12.90             6.93\n",
       "20145 400000.00         1600      12.90             7.38\n",
       "20146 325000.00         1020      12.69             6.93\n",
       "\n",
       "[20147 rows x 4 columns]"
      ]
     },
     "execution_count": 49,
     "metadata": {},
     "output_type": "execute_result"
    }
   ],
   "source": [
    "ex_col_names_log = ex_col_names_with_suffix('log')\n",
    "\n",
    "df[ex_col_names_log] = np.log1p(df[ex_col_names])\n",
    "\n",
    "df[ex_col_names + ex_col_names_log]"
   ]
  },
  {
   "cell_type": "code",
   "execution_count": 50,
   "metadata": {},
   "outputs": [
    {
     "data": {
      "image/png": "[encoded data removed]",
      "text/plain": [
       "<Figure size 1152x288 with 4 Axes>"
      ]
     },
     "metadata": {
      "needs_background": "light"
     },
     "output_type": "display_data"
    }
   ],
   "source": [
    "plot_hist_original_new(ex_col_names, ex_col_names_log)"
   ]
  },
  {
   "cell_type": "code",
   "execution_count": 51,
   "metadata": {},
   "outputs": [
    {
     "name": "stdout",
     "output_type": "stream",
     "text": [
      "********************\n",
      "column name: price_log\n",
      "\ttest name: shapiro\n",
      "\tstat = 0.9926883578300476\n",
      "\tp = 2.018868853582457e-30\n",
      "\tProbably NOT Gaussian\n",
      "\t--------------------\n",
      "\ttest name: normaltest\n",
      "\tstat = 0.9926883578300476\n",
      "\tp = 2.018868853582457e-30\n",
      "\tProbably NOT Gaussian\n",
      "\t--------------------\n",
      "\ttest name: chisquare\n",
      "\tstat = 0.9926883578300476\n",
      "\tp = 2.018868853582457e-30\n",
      "\tProbably NOT Gaussian\n",
      "\t--------------------\n",
      "\ttest name: jarque_bera\n",
      "\tstat = 0.9926883578300476\n",
      "\tp = 2.018868853582457e-30\n",
      "\tProbably NOT Gaussian\n",
      "\t--------------------\n",
      "\ttest name: kstest\n",
      "\tstat = 0.9926883578300476\n",
      "\tp = 2.018868853582457e-30\n",
      "\tProbably NOT Gaussian\n",
      "\t--------------------\n",
      "********************\n",
      "column name: sqft_living_log\n",
      "\ttest name: shapiro\n",
      "\tstat = 0.9890824556350708\n",
      "\tp = 3.973438161422448e-36\n",
      "\tProbably NOT Gaussian\n",
      "\t--------------------\n",
      "\ttest name: normaltest\n",
      "\tstat = 0.9890824556350708\n",
      "\tp = 3.973438161422448e-36\n",
      "\tProbably NOT Gaussian\n",
      "\t--------------------\n",
      "\ttest name: chisquare\n",
      "\tstat = 0.9890824556350708\n",
      "\tp = 3.973438161422448e-36\n",
      "\tProbably NOT Gaussian\n",
      "\t--------------------\n",
      "\ttest name: jarque_bera\n",
      "\tstat = 0.9890824556350708\n",
      "\tp = 3.973438161422448e-36\n",
      "\tProbably NOT Gaussian\n",
      "\t--------------------\n",
      "\ttest name: kstest\n",
      "\tstat = 0.9890824556350708\n",
      "\tp = 3.973438161422448e-36\n",
      "\tProbably NOT Gaussian\n",
      "\t--------------------\n"
     ]
    },
    {
     "name": "stderr",
     "output_type": "stream",
     "text": [
      "/home/ira/anaconda3/envs/LevelUp_DataScience/lib/python3.8/site-packages/scipy/stats/morestats.py:1681: UserWarning: p-value may not be accurate for N > 5000.\n",
      "  warnings.warn(\"p-value may not be accurate for N > 5000.\")\n"
     ]
    }
   ],
   "source": [
    "norm_tests(ex_col_names_log)"
   ]
  },
  {
   "cell_type": "markdown",
   "metadata": {},
   "source": [
    "### Square-Root Transformation\n",
    "\n",
    "Это преобразование окажет умеренное влияние на распространение.\n",
    "\n",
    "Основное преимущество преобразования квадратного корня в том, что оно может применяться к нулевым значениям.\n",
    "\n",
    "Здесь `x` заменяется квадратным корнем (`x`).\n",
    "\n",
    "Он слабее, чем преобразование `log`."
   ]
  },
  {
   "cell_type": "code",
   "execution_count": 52,
   "metadata": {},
   "outputs": [
    {
     "data": {
      "text/html": [
       "<div>\n",
       "<style scoped>\n",
       "    .dataframe tbody tr th:only-of-type {\n",
       "        vertical-align: middle;\n",
       "    }\n",
       "\n",
       "    .dataframe tbody tr th {\n",
       "        vertical-align: top;\n",
       "    }\n",
       "\n",
       "    .dataframe thead th {\n",
       "        text-align: right;\n",
       "    }\n",
       "</style>\n",
       "<table border=\"1\" class=\"dataframe\">\n",
       "  <thead>\n",
       "    <tr style=\"text-align: right;\">\n",
       "      <th></th>\n",
       "      <th>price</th>\n",
       "      <th>sqft_living</th>\n",
       "      <th>price_sqrt</th>\n",
       "      <th>sqft_living_sqrt</th>\n",
       "    </tr>\n",
       "  </thead>\n",
       "  <tbody>\n",
       "    <tr>\n",
       "      <th>0</th>\n",
       "      <td>221900.00</td>\n",
       "      <td>1180</td>\n",
       "      <td>471.06</td>\n",
       "      <td>34.35</td>\n",
       "    </tr>\n",
       "    <tr>\n",
       "      <th>1</th>\n",
       "      <td>538000.00</td>\n",
       "      <td>2570</td>\n",
       "      <td>733.48</td>\n",
       "      <td>50.70</td>\n",
       "    </tr>\n",
       "    <tr>\n",
       "      <th>2</th>\n",
       "      <td>180000.00</td>\n",
       "      <td>770</td>\n",
       "      <td>424.26</td>\n",
       "      <td>27.75</td>\n",
       "    </tr>\n",
       "    <tr>\n",
       "      <th>3</th>\n",
       "      <td>604000.00</td>\n",
       "      <td>1960</td>\n",
       "      <td>777.17</td>\n",
       "      <td>44.27</td>\n",
       "    </tr>\n",
       "    <tr>\n",
       "      <th>4</th>\n",
       "      <td>510000.00</td>\n",
       "      <td>1680</td>\n",
       "      <td>714.14</td>\n",
       "      <td>40.99</td>\n",
       "    </tr>\n",
       "    <tr>\n",
       "      <th>...</th>\n",
       "      <td>...</td>\n",
       "      <td>...</td>\n",
       "      <td>...</td>\n",
       "      <td>...</td>\n",
       "    </tr>\n",
       "    <tr>\n",
       "      <th>20142</th>\n",
       "      <td>360000.00</td>\n",
       "      <td>1530</td>\n",
       "      <td>600.00</td>\n",
       "      <td>39.12</td>\n",
       "    </tr>\n",
       "    <tr>\n",
       "      <th>20143</th>\n",
       "      <td>400000.00</td>\n",
       "      <td>2310</td>\n",
       "      <td>632.46</td>\n",
       "      <td>48.06</td>\n",
       "    </tr>\n",
       "    <tr>\n",
       "      <th>20144</th>\n",
       "      <td>402101.00</td>\n",
       "      <td>1020</td>\n",
       "      <td>634.11</td>\n",
       "      <td>31.94</td>\n",
       "    </tr>\n",
       "    <tr>\n",
       "      <th>20145</th>\n",
       "      <td>400000.00</td>\n",
       "      <td>1600</td>\n",
       "      <td>632.46</td>\n",
       "      <td>40.00</td>\n",
       "    </tr>\n",
       "    <tr>\n",
       "      <th>20146</th>\n",
       "      <td>325000.00</td>\n",
       "      <td>1020</td>\n",
       "      <td>570.09</td>\n",
       "      <td>31.94</td>\n",
       "    </tr>\n",
       "  </tbody>\n",
       "</table>\n",
       "<p>20147 rows × 4 columns</p>\n",
       "</div>"
      ],
      "text/plain": [
       "          price  sqft_living  price_sqrt  sqft_living_sqrt\n",
       "0     221900.00         1180      471.06             34.35\n",
       "1     538000.00         2570      733.48             50.70\n",
       "2     180000.00          770      424.26             27.75\n",
       "3     604000.00         1960      777.17             44.27\n",
       "4     510000.00         1680      714.14             40.99\n",
       "...         ...          ...         ...               ...\n",
       "20142 360000.00         1530      600.00             39.12\n",
       "20143 400000.00         2310      632.46             48.06\n",
       "20144 402101.00         1020      634.11             31.94\n",
       "20145 400000.00         1600      632.46             40.00\n",
       "20146 325000.00         1020      570.09             31.94\n",
       "\n",
       "[20147 rows x 4 columns]"
      ]
     },
     "execution_count": 52,
     "metadata": {},
     "output_type": "execute_result"
    }
   ],
   "source": [
    "ex_col_names_sqrt = ex_col_names_with_suffix('sqrt')\n",
    "\n",
    "df[ex_col_names_sqrt] = df[ex_col_names]**(1/2)\n",
    "\n",
    "df[ex_col_names + ex_col_names_sqrt]"
   ]
  },
  {
   "cell_type": "code",
   "execution_count": 53,
   "metadata": {},
   "outputs": [
    {
     "data": {
      "image/png": "[encoded data removed]",
      "text/plain": [
       "<Figure size 1152x288 with 4 Axes>"
      ]
     },
     "metadata": {
      "needs_background": "light"
     },
     "output_type": "display_data"
    }
   ],
   "source": [
    "plot_hist_original_new(ex_col_names, ex_col_names_sqrt)"
   ]
  },
  {
   "cell_type": "code",
   "execution_count": 54,
   "metadata": {},
   "outputs": [
    {
     "name": "stdout",
     "output_type": "stream",
     "text": [
      "********************\n",
      "column name: price_sqrt\n",
      "\ttest name: shapiro\n",
      "\tstat = 0.9869118332862854\n",
      "\tp = 7.065910179108386e-39\n",
      "\tProbably NOT Gaussian\n",
      "\t--------------------\n",
      "\ttest name: normaltest\n",
      "\tstat = 0.9869118332862854\n",
      "\tp = 7.065910179108386e-39\n",
      "\tProbably NOT Gaussian\n",
      "\t--------------------\n",
      "\ttest name: chisquare\n",
      "\tstat = 0.9869118332862854\n",
      "\tp = 7.065910179108386e-39\n",
      "\tProbably NOT Gaussian\n",
      "\t--------------------\n",
      "\ttest name: jarque_bera\n",
      "\tstat = 0.9869118332862854\n",
      "\tp = 7.065910179108386e-39\n",
      "\tProbably NOT Gaussian\n",
      "\t--------------------\n",
      "\ttest name: kstest\n",
      "\tstat = 0.9869118332862854\n",
      "\tp = 7.065910179108386e-39\n",
      "\tProbably NOT Gaussian\n",
      "\t--------------------\n",
      "********************\n",
      "column name: sqft_living_sqrt\n",
      "\ttest name: shapiro\n",
      "\tstat = 0.992906391620636\n",
      "\tp = 5.1896292598972666e-30\n",
      "\tProbably NOT Gaussian\n",
      "\t--------------------\n",
      "\ttest name: normaltest\n",
      "\tstat = 0.992906391620636\n",
      "\tp = 5.1896292598972666e-30\n",
      "\tProbably NOT Gaussian\n",
      "\t--------------------\n",
      "\ttest name: chisquare\n",
      "\tstat = 0.992906391620636\n",
      "\tp = 5.1896292598972666e-30\n",
      "\tProbably NOT Gaussian\n",
      "\t--------------------\n",
      "\ttest name: jarque_bera\n",
      "\tstat = 0.992906391620636\n",
      "\tp = 5.1896292598972666e-30\n",
      "\tProbably NOT Gaussian\n",
      "\t--------------------\n",
      "\ttest name: kstest\n",
      "\tstat = 0.992906391620636\n",
      "\tp = 5.1896292598972666e-30\n",
      "\tProbably NOT Gaussian\n",
      "\t--------------------\n"
     ]
    },
    {
     "name": "stderr",
     "output_type": "stream",
     "text": [
      "/home/ira/anaconda3/envs/LevelUp_DataScience/lib/python3.8/site-packages/scipy/stats/morestats.py:1681: UserWarning: p-value may not be accurate for N > 5000.\n",
      "  warnings.warn(\"p-value may not be accurate for N > 5000.\")\n"
     ]
    }
   ],
   "source": [
    "norm_tests(ex_col_names_sqrt)"
   ]
  },
  {
   "cell_type": "markdown",
   "metadata": {},
   "source": [
    "### Reciprocal Transformation\n",
    "\n",
    "В этом преобразовании `x` будет заменен обратным `x`, то есть `1/x`.\n",
    "\n",
    "Обратное преобразование мало повлияет на форму распределения.\n",
    "\n",
    "Это преобразование можно использовать **только для ненулевых значений**."
   ]
  },
  {
   "cell_type": "code",
   "execution_count": 55,
   "metadata": {},
   "outputs": [
    {
     "data": {
      "text/html": [
       "<div>\n",
       "<style scoped>\n",
       "    .dataframe tbody tr th:only-of-type {\n",
       "        vertical-align: middle;\n",
       "    }\n",
       "\n",
       "    .dataframe tbody tr th {\n",
       "        vertical-align: top;\n",
       "    }\n",
       "\n",
       "    .dataframe thead th {\n",
       "        text-align: right;\n",
       "    }\n",
       "</style>\n",
       "<table border=\"1\" class=\"dataframe\">\n",
       "  <thead>\n",
       "    <tr style=\"text-align: right;\">\n",
       "      <th></th>\n",
       "      <th>price</th>\n",
       "      <th>sqft_living</th>\n",
       "      <th>price_reciprocal</th>\n",
       "      <th>sqft_living_reciprocal</th>\n",
       "    </tr>\n",
       "  </thead>\n",
       "  <tbody>\n",
       "    <tr>\n",
       "      <th>0</th>\n",
       "      <td>221900.00</td>\n",
       "      <td>1180</td>\n",
       "      <td>0.00</td>\n",
       "      <td>0.00</td>\n",
       "    </tr>\n",
       "    <tr>\n",
       "      <th>1</th>\n",
       "      <td>538000.00</td>\n",
       "      <td>2570</td>\n",
       "      <td>0.00</td>\n",
       "      <td>0.00</td>\n",
       "    </tr>\n",
       "    <tr>\n",
       "      <th>2</th>\n",
       "      <td>180000.00</td>\n",
       "      <td>770</td>\n",
       "      <td>0.00</td>\n",
       "      <td>0.00</td>\n",
       "    </tr>\n",
       "    <tr>\n",
       "      <th>3</th>\n",
       "      <td>604000.00</td>\n",
       "      <td>1960</td>\n",
       "      <td>0.00</td>\n",
       "      <td>0.00</td>\n",
       "    </tr>\n",
       "    <tr>\n",
       "      <th>4</th>\n",
       "      <td>510000.00</td>\n",
       "      <td>1680</td>\n",
       "      <td>0.00</td>\n",
       "      <td>0.00</td>\n",
       "    </tr>\n",
       "    <tr>\n",
       "      <th>...</th>\n",
       "      <td>...</td>\n",
       "      <td>...</td>\n",
       "      <td>...</td>\n",
       "      <td>...</td>\n",
       "    </tr>\n",
       "    <tr>\n",
       "      <th>20142</th>\n",
       "      <td>360000.00</td>\n",
       "      <td>1530</td>\n",
       "      <td>0.00</td>\n",
       "      <td>0.00</td>\n",
       "    </tr>\n",
       "    <tr>\n",
       "      <th>20143</th>\n",
       "      <td>400000.00</td>\n",
       "      <td>2310</td>\n",
       "      <td>0.00</td>\n",
       "      <td>0.00</td>\n",
       "    </tr>\n",
       "    <tr>\n",
       "      <th>20144</th>\n",
       "      <td>402101.00</td>\n",
       "      <td>1020</td>\n",
       "      <td>0.00</td>\n",
       "      <td>0.00</td>\n",
       "    </tr>\n",
       "    <tr>\n",
       "      <th>20145</th>\n",
       "      <td>400000.00</td>\n",
       "      <td>1600</td>\n",
       "      <td>0.00</td>\n",
       "      <td>0.00</td>\n",
       "    </tr>\n",
       "    <tr>\n",
       "      <th>20146</th>\n",
       "      <td>325000.00</td>\n",
       "      <td>1020</td>\n",
       "      <td>0.00</td>\n",
       "      <td>0.00</td>\n",
       "    </tr>\n",
       "  </tbody>\n",
       "</table>\n",
       "<p>20147 rows × 4 columns</p>\n",
       "</div>"
      ],
      "text/plain": [
       "          price  sqft_living  price_reciprocal  sqft_living_reciprocal\n",
       "0     221900.00         1180              0.00                    0.00\n",
       "1     538000.00         2570              0.00                    0.00\n",
       "2     180000.00          770              0.00                    0.00\n",
       "3     604000.00         1960              0.00                    0.00\n",
       "4     510000.00         1680              0.00                    0.00\n",
       "...         ...          ...               ...                     ...\n",
       "20142 360000.00         1530              0.00                    0.00\n",
       "20143 400000.00         2310              0.00                    0.00\n",
       "20144 402101.00         1020              0.00                    0.00\n",
       "20145 400000.00         1600              0.00                    0.00\n",
       "20146 325000.00         1020              0.00                    0.00\n",
       "\n",
       "[20147 rows x 4 columns]"
      ]
     },
     "execution_count": 55,
     "metadata": {},
     "output_type": "execute_result"
    }
   ],
   "source": [
    "ex_col_names_reciprocal = ex_col_names_with_suffix('reciprocal')\n",
    "\n",
    "df[ex_col_names_reciprocal] = 1/df[ex_col_names]\n",
    "\n",
    "df[ex_col_names + ex_col_names_reciprocal]"
   ]
  },
  {
   "cell_type": "code",
   "execution_count": 56,
   "metadata": {},
   "outputs": [
    {
     "data": {
      "image/png": "[encoded data removed]",
      "text/plain": [
       "<Figure size 1152x288 with 4 Axes>"
      ]
     },
     "metadata": {
      "needs_background": "light"
     },
     "output_type": "display_data"
    }
   ],
   "source": [
    "plot_hist_original_new(ex_col_names, ex_col_names_reciprocal)"
   ]
  },
  {
   "cell_type": "code",
   "execution_count": 57,
   "metadata": {},
   "outputs": [
    {
     "name": "stdout",
     "output_type": "stream",
     "text": [
      "********************\n",
      "column name: price_reciprocal\n",
      "\ttest name: shapiro\n",
      "\tstat = 0.8850799202919006\n",
      "\tp = 0.0\n",
      "\tProbably NOT Gaussian\n",
      "\t--------------------\n",
      "\ttest name: normaltest\n",
      "\tstat = 0.8850799202919006\n",
      "\tp = 0.0\n",
      "\tProbably NOT Gaussian\n",
      "\t--------------------\n",
      "\ttest name: chisquare\n",
      "\tstat = 0.8850799202919006\n",
      "\tp = 0.0\n",
      "\tProbably NOT Gaussian\n",
      "\t--------------------\n",
      "\ttest name: jarque_bera\n",
      "\tstat = 0.8850799202919006\n",
      "\tp = 0.0\n",
      "\tProbably NOT Gaussian\n",
      "\t--------------------\n",
      "\ttest name: kstest\n",
      "\tstat = 0.8850799202919006\n",
      "\tp = 0.0\n",
      "\tProbably NOT Gaussian\n",
      "\t--------------------\n",
      "********************\n",
      "column name: sqft_living_reciprocal\n",
      "\ttest name: shapiro\n",
      "\tstat = 0.8947967886924744\n",
      "\tp = 0.0\n",
      "\tProbably NOT Gaussian\n",
      "\t--------------------\n",
      "\ttest name: normaltest\n",
      "\tstat = 0.8947967886924744\n",
      "\tp = 0.0\n",
      "\tProbably NOT Gaussian\n",
      "\t--------------------\n",
      "\ttest name: chisquare\n",
      "\tstat = 0.8947967886924744\n",
      "\tp = 0.0\n",
      "\tProbably NOT Gaussian\n",
      "\t--------------------\n",
      "\ttest name: jarque_bera\n",
      "\tstat = 0.8947967886924744\n",
      "\tp = 0.0\n",
      "\tProbably NOT Gaussian\n",
      "\t--------------------\n",
      "\ttest name: kstest\n",
      "\tstat = 0.8947967886924744\n",
      "\tp = 0.0\n",
      "\tProbably NOT Gaussian\n",
      "\t--------------------\n"
     ]
    },
    {
     "name": "stderr",
     "output_type": "stream",
     "text": [
      "/home/ira/anaconda3/envs/LevelUp_DataScience/lib/python3.8/site-packages/scipy/stats/morestats.py:1681: UserWarning: p-value may not be accurate for N > 5000.\n",
      "  warnings.warn(\"p-value may not be accurate for N > 5000.\")\n"
     ]
    }
   ],
   "source": [
    "norm_tests(ex_col_names_reciprocal)"
   ]
  },
  {
   "cell_type": "markdown",
   "metadata": {},
   "source": [
    "### `PowerTransformer` (Yeo-Johnson/Box-Cox с помощью ) \n",
    "\n",
    "[sklearn.preprocessing.PowerTransformer](https://scikit-learn.org/stable/modules/generated/sklearn.preprocessing.PowerTransformer.html)\n",
    "\n",
    "`PowerTransformer` - это семейство параметрических монотонных преобразований, которые применяются для придания данным более гауссовского типа (Gaussian-like).\n",
    "\n",
    "Это полезно для моделирования проблем, связанных с изменчивостью переменной, которая неодинакова по диапазону ([гетероскедастичность/heteroscedasticity](https://ru.wikipedia.org/wiki/%D0%93%D0%B5%D1%82%D0%B5%D1%80%D0%BE%D1%81%D0%BA%D0%B5%D0%B4%D0%B0%D1%81%D1%82%D0%B8%D1%87%D0%BD%D0%BE%D1%81%D1%82%D1%8C)), или ситуаций, когда желательна нормальность."
   ]
  },
  {
   "cell_type": "markdown",
   "metadata": {},
   "source": [
    "#### Box-Cox Transformation\n",
    "\n",
    "*Альтернативный способ `from scipy.stats import boxcox`.\n",
    "\n",
    "Преобразование Бокса-Кокса очень хорошо работает для многих типов данных. \n",
    "\n",
    "<img src=\"images/box-cox_formula.png\">\n",
    "\n",
    "Лямбда изменяется от -5 до 5 и выбирается лучшее значение для данных.\n",
    "\n",
    "\"Наилучшее\" значение — это значение, которое приводит к максимальной асимметрии распределения. Преобразование `log` произойдет, когда лямбда будет равна нулю.\n",
    "\n",
    "**Работает только со строго положительными значениями.**"
   ]
  },
  {
   "cell_type": "code",
   "execution_count": 58,
   "metadata": {},
   "outputs": [
    {
     "data": {
      "text/plain": [
       "PowerTransformer(method='box-cox')"
      ]
     },
     "execution_count": 58,
     "metadata": {},
     "output_type": "execute_result"
    }
   ],
   "source": [
    "from sklearn.preprocessing import PowerTransformer\n",
    "\n",
    "box_cox_trans = PowerTransformer(method='box-cox')\n",
    "box_cox_trans"
   ]
  },
  {
   "cell_type": "code",
   "execution_count": 59,
   "metadata": {},
   "outputs": [
    {
     "data": {
      "text/html": [
       "<div>\n",
       "<style scoped>\n",
       "    .dataframe tbody tr th:only-of-type {\n",
       "        vertical-align: middle;\n",
       "    }\n",
       "\n",
       "    .dataframe tbody tr th {\n",
       "        vertical-align: top;\n",
       "    }\n",
       "\n",
       "    .dataframe thead th {\n",
       "        text-align: right;\n",
       "    }\n",
       "</style>\n",
       "<table border=\"1\" class=\"dataframe\">\n",
       "  <thead>\n",
       "    <tr style=\"text-align: right;\">\n",
       "      <th></th>\n",
       "      <th>price</th>\n",
       "      <th>sqft_living</th>\n",
       "      <th>price_box_cox_trans</th>\n",
       "      <th>sqft_living_box_cox_trans</th>\n",
       "    </tr>\n",
       "  </thead>\n",
       "  <tbody>\n",
       "    <tr>\n",
       "      <th>0</th>\n",
       "      <td>221900.00</td>\n",
       "      <td>1180</td>\n",
       "      <td>-1.46</td>\n",
       "      <td>-1.10</td>\n",
       "    </tr>\n",
       "    <tr>\n",
       "      <th>1</th>\n",
       "      <td>538000.00</td>\n",
       "      <td>2570</td>\n",
       "      <td>0.49</td>\n",
       "      <td>0.92</td>\n",
       "    </tr>\n",
       "    <tr>\n",
       "      <th>2</th>\n",
       "      <td>180000.00</td>\n",
       "      <td>770</td>\n",
       "      <td>-1.87</td>\n",
       "      <td>-2.01</td>\n",
       "    </tr>\n",
       "    <tr>\n",
       "      <th>3</th>\n",
       "      <td>604000.00</td>\n",
       "      <td>1960</td>\n",
       "      <td>0.76</td>\n",
       "      <td>0.16</td>\n",
       "    </tr>\n",
       "    <tr>\n",
       "      <th>4</th>\n",
       "      <td>510000.00</td>\n",
       "      <td>1680</td>\n",
       "      <td>0.36</td>\n",
       "      <td>-0.25</td>\n",
       "    </tr>\n",
       "    <tr>\n",
       "      <th>...</th>\n",
       "      <td>...</td>\n",
       "      <td>...</td>\n",
       "      <td>...</td>\n",
       "      <td>...</td>\n",
       "    </tr>\n",
       "    <tr>\n",
       "      <th>20142</th>\n",
       "      <td>360000.00</td>\n",
       "      <td>1530</td>\n",
       "      <td>-0.43</td>\n",
       "      <td>-0.49</td>\n",
       "    </tr>\n",
       "    <tr>\n",
       "      <th>20143</th>\n",
       "      <td>400000.00</td>\n",
       "      <td>2310</td>\n",
       "      <td>-0.20</td>\n",
       "      <td>0.61</td>\n",
       "    </tr>\n",
       "    <tr>\n",
       "      <th>20144</th>\n",
       "      <td>402101.00</td>\n",
       "      <td>1020</td>\n",
       "      <td>-0.18</td>\n",
       "      <td>-1.43</td>\n",
       "    </tr>\n",
       "    <tr>\n",
       "      <th>20145</th>\n",
       "      <td>400000.00</td>\n",
       "      <td>1600</td>\n",
       "      <td>-0.20</td>\n",
       "      <td>-0.37</td>\n",
       "    </tr>\n",
       "    <tr>\n",
       "      <th>20146</th>\n",
       "      <td>325000.00</td>\n",
       "      <td>1020</td>\n",
       "      <td>-0.65</td>\n",
       "      <td>-1.43</td>\n",
       "    </tr>\n",
       "  </tbody>\n",
       "</table>\n",
       "<p>20147 rows × 4 columns</p>\n",
       "</div>"
      ],
      "text/plain": [
       "          price  sqft_living  price_box_cox_trans  sqft_living_box_cox_trans\n",
       "0     221900.00         1180                -1.46                      -1.10\n",
       "1     538000.00         2570                 0.49                       0.92\n",
       "2     180000.00          770                -1.87                      -2.01\n",
       "3     604000.00         1960                 0.76                       0.16\n",
       "4     510000.00         1680                 0.36                      -0.25\n",
       "...         ...          ...                  ...                        ...\n",
       "20142 360000.00         1530                -0.43                      -0.49\n",
       "20143 400000.00         2310                -0.20                       0.61\n",
       "20144 402101.00         1020                -0.18                      -1.43\n",
       "20145 400000.00         1600                -0.20                      -0.37\n",
       "20146 325000.00         1020                -0.65                      -1.43\n",
       "\n",
       "[20147 rows x 4 columns]"
      ]
     },
     "execution_count": 59,
     "metadata": {},
     "output_type": "execute_result"
    }
   ],
   "source": [
    "ex_col_names_box_cox_trans = ex_col_names_with_suffix('box_cox_trans')\n",
    "\n",
    "df[ex_col_names_box_cox_trans] = box_cox_trans.fit_transform(df[ex_col_names])\n",
    "\n",
    "df[ex_col_names + ex_col_names_box_cox_trans]"
   ]
  },
  {
   "cell_type": "code",
   "execution_count": 60,
   "metadata": {},
   "outputs": [
    {
     "data": {
      "image/png": "[encoded data removed]",
      "text/plain": [
       "<Figure size 1152x288 with 4 Axes>"
      ]
     },
     "metadata": {
      "needs_background": "light"
     },
     "output_type": "display_data"
    }
   ],
   "source": [
    "plot_hist_original_new(ex_col_names, ex_col_names_box_cox_trans)"
   ]
  },
  {
   "cell_type": "code",
   "execution_count": 61,
   "metadata": {},
   "outputs": [
    {
     "name": "stdout",
     "output_type": "stream",
     "text": [
      "********************\n",
      "column name: price_box_cox_trans\n",
      "\ttest name: shapiro\n",
      "\tstat = 0.9944846034049988\n",
      "\tp = 1.0229264898961813e-26\n",
      "\tProbably NOT Gaussian\n",
      "\t--------------------\n",
      "\ttest name: normaltest\n",
      "\tstat = 0.9944846034049988\n",
      "\tp = 1.0229264898961813e-26\n",
      "\tProbably NOT Gaussian\n",
      "\t--------------------\n",
      "\ttest name: chisquare\n",
      "\tstat = 0.9944846034049988\n",
      "\tp = 1.0229264898961813e-26\n",
      "\tProbably NOT Gaussian\n",
      "\t--------------------\n",
      "\ttest name: jarque_bera\n",
      "\tstat = 0.9944846034049988\n",
      "\tp = 1.0229264898961813e-26\n",
      "\tProbably NOT Gaussian\n",
      "\t--------------------\n",
      "\ttest name: kstest\n",
      "\tstat = 0.9944846034049988\n",
      "\tp = 1.0229264898961813e-26\n",
      "\tProbably NOT Gaussian\n",
      "\t--------------------\n",
      "********************\n",
      "column name: sqft_living_box_cox_trans\n",
      "\ttest name: shapiro\n",
      "\tstat = 0.9944530725479126\n",
      "\tp = 8.658649770014578e-27\n",
      "\tProbably NOT Gaussian\n",
      "\t--------------------\n",
      "\ttest name: normaltest\n",
      "\tstat = 0.9944530725479126\n",
      "\tp = 8.658649770014578e-27\n",
      "\tProbably NOT Gaussian\n",
      "\t--------------------\n",
      "\ttest name: chisquare\n",
      "\tstat = 0.9944530725479126\n",
      "\tp = 8.658649770014578e-27\n",
      "\tProbably NOT Gaussian\n",
      "\t--------------------\n",
      "\ttest name: jarque_bera\n",
      "\tstat = 0.9944530725479126\n",
      "\tp = 8.658649770014578e-27\n",
      "\tProbably NOT Gaussian\n",
      "\t--------------------\n",
      "\ttest name: kstest\n",
      "\tstat = 0.9944530725479126\n",
      "\tp = 8.658649770014578e-27\n",
      "\tProbably NOT Gaussian\n",
      "\t--------------------\n"
     ]
    },
    {
     "name": "stderr",
     "output_type": "stream",
     "text": [
      "/home/ira/anaconda3/envs/LevelUp_DataScience/lib/python3.8/site-packages/scipy/stats/morestats.py:1681: UserWarning: p-value may not be accurate for N > 5000.\n",
      "  warnings.warn(\"p-value may not be accurate for N > 5000.\")\n"
     ]
    }
   ],
   "source": [
    "norm_tests(ex_col_names_box_cox_trans)"
   ]
  },
  {
   "cell_type": "markdown",
   "metadata": {},
   "source": [
    "#### Yeo-Johnson Transformation\n",
    "\n",
    "*Альтернативный способ `from scipy.stats import yeojohnson`.\n",
    "\n",
    "Это один из старых методов преобразования, который очень похож на преобразование Бокса-Кокса, но не требует, чтобы значения были строго положительными.\n",
    "\n",
    "Это преобразование также позволяет сделать распределение более симметричным."
   ]
  },
  {
   "cell_type": "code",
   "execution_count": 62,
   "metadata": {},
   "outputs": [
    {
     "data": {
      "text/plain": [
       "PowerTransformer()"
      ]
     },
     "execution_count": 62,
     "metadata": {},
     "output_type": "execute_result"
    }
   ],
   "source": [
    "from sklearn.preprocessing import PowerTransformer\n",
    "\n",
    "yeo_johnson_trans = PowerTransformer(method='yeo-johnson')\n",
    "yeo_johnson_trans"
   ]
  },
  {
   "cell_type": "code",
   "execution_count": 63,
   "metadata": {},
   "outputs": [
    {
     "data": {
      "text/html": [
       "<div>\n",
       "<style scoped>\n",
       "    .dataframe tbody tr th:only-of-type {\n",
       "        vertical-align: middle;\n",
       "    }\n",
       "\n",
       "    .dataframe tbody tr th {\n",
       "        vertical-align: top;\n",
       "    }\n",
       "\n",
       "    .dataframe thead th {\n",
       "        text-align: right;\n",
       "    }\n",
       "</style>\n",
       "<table border=\"1\" class=\"dataframe\">\n",
       "  <thead>\n",
       "    <tr style=\"text-align: right;\">\n",
       "      <th></th>\n",
       "      <th>price</th>\n",
       "      <th>sqft_living</th>\n",
       "      <th>price_yeo_johnson_trans</th>\n",
       "      <th>sqft_living_yeo_johnson_trans</th>\n",
       "    </tr>\n",
       "  </thead>\n",
       "  <tbody>\n",
       "    <tr>\n",
       "      <th>0</th>\n",
       "      <td>221900.00</td>\n",
       "      <td>1180</td>\n",
       "      <td>-1.46</td>\n",
       "      <td>-1.10</td>\n",
       "    </tr>\n",
       "    <tr>\n",
       "      <th>1</th>\n",
       "      <td>538000.00</td>\n",
       "      <td>2570</td>\n",
       "      <td>0.49</td>\n",
       "      <td>0.92</td>\n",
       "    </tr>\n",
       "    <tr>\n",
       "      <th>2</th>\n",
       "      <td>180000.00</td>\n",
       "      <td>770</td>\n",
       "      <td>-1.87</td>\n",
       "      <td>-2.01</td>\n",
       "    </tr>\n",
       "    <tr>\n",
       "      <th>3</th>\n",
       "      <td>604000.00</td>\n",
       "      <td>1960</td>\n",
       "      <td>0.76</td>\n",
       "      <td>0.16</td>\n",
       "    </tr>\n",
       "    <tr>\n",
       "      <th>4</th>\n",
       "      <td>510000.00</td>\n",
       "      <td>1680</td>\n",
       "      <td>0.36</td>\n",
       "      <td>-0.25</td>\n",
       "    </tr>\n",
       "    <tr>\n",
       "      <th>...</th>\n",
       "      <td>...</td>\n",
       "      <td>...</td>\n",
       "      <td>...</td>\n",
       "      <td>...</td>\n",
       "    </tr>\n",
       "    <tr>\n",
       "      <th>20142</th>\n",
       "      <td>360000.00</td>\n",
       "      <td>1530</td>\n",
       "      <td>-0.43</td>\n",
       "      <td>-0.49</td>\n",
       "    </tr>\n",
       "    <tr>\n",
       "      <th>20143</th>\n",
       "      <td>400000.00</td>\n",
       "      <td>2310</td>\n",
       "      <td>-0.20</td>\n",
       "      <td>0.61</td>\n",
       "    </tr>\n",
       "    <tr>\n",
       "      <th>20144</th>\n",
       "      <td>402101.00</td>\n",
       "      <td>1020</td>\n",
       "      <td>-0.18</td>\n",
       "      <td>-1.43</td>\n",
       "    </tr>\n",
       "    <tr>\n",
       "      <th>20145</th>\n",
       "      <td>400000.00</td>\n",
       "      <td>1600</td>\n",
       "      <td>-0.20</td>\n",
       "      <td>-0.37</td>\n",
       "    </tr>\n",
       "    <tr>\n",
       "      <th>20146</th>\n",
       "      <td>325000.00</td>\n",
       "      <td>1020</td>\n",
       "      <td>-0.65</td>\n",
       "      <td>-1.43</td>\n",
       "    </tr>\n",
       "  </tbody>\n",
       "</table>\n",
       "<p>20147 rows × 4 columns</p>\n",
       "</div>"
      ],
      "text/plain": [
       "          price  sqft_living  price_yeo_johnson_trans  \\\n",
       "0     221900.00         1180                    -1.46   \n",
       "1     538000.00         2570                     0.49   \n",
       "2     180000.00          770                    -1.87   \n",
       "3     604000.00         1960                     0.76   \n",
       "4     510000.00         1680                     0.36   \n",
       "...         ...          ...                      ...   \n",
       "20142 360000.00         1530                    -0.43   \n",
       "20143 400000.00         2310                    -0.20   \n",
       "20144 402101.00         1020                    -0.18   \n",
       "20145 400000.00         1600                    -0.20   \n",
       "20146 325000.00         1020                    -0.65   \n",
       "\n",
       "       sqft_living_yeo_johnson_trans  \n",
       "0                              -1.10  \n",
       "1                               0.92  \n",
       "2                              -2.01  \n",
       "3                               0.16  \n",
       "4                              -0.25  \n",
       "...                              ...  \n",
       "20142                          -0.49  \n",
       "20143                           0.61  \n",
       "20144                          -1.43  \n",
       "20145                          -0.37  \n",
       "20146                          -1.43  \n",
       "\n",
       "[20147 rows x 4 columns]"
      ]
     },
     "execution_count": 63,
     "metadata": {},
     "output_type": "execute_result"
    }
   ],
   "source": [
    "ex_col_names_yeo_johnson_trans = ex_col_names_with_suffix('yeo_johnson_trans')\n",
    "\n",
    "df[ex_col_names_yeo_johnson_trans] = box_cox_trans.fit_transform(df[ex_col_names])\n",
    "\n",
    "df[ex_col_names + ex_col_names_yeo_johnson_trans]"
   ]
  },
  {
   "cell_type": "code",
   "execution_count": 64,
   "metadata": {},
   "outputs": [
    {
     "data": {
      "image/png": "[encoded data removed]",
      "text/plain": [
       "<Figure size 1152x288 with 4 Axes>"
      ]
     },
     "metadata": {
      "needs_background": "light"
     },
     "output_type": "display_data"
    }
   ],
   "source": [
    "plot_hist_original_new(ex_col_names, ex_col_names_yeo_johnson_trans)"
   ]
  },
  {
   "cell_type": "code",
   "execution_count": 65,
   "metadata": {},
   "outputs": [
    {
     "name": "stdout",
     "output_type": "stream",
     "text": [
      "********************\n",
      "column name: price_yeo_johnson_trans\n",
      "\ttest name: shapiro\n",
      "\tstat = 0.9944846034049988\n",
      "\tp = 1.0229264898961813e-26\n",
      "\tProbably NOT Gaussian\n",
      "\t--------------------\n",
      "\ttest name: normaltest\n",
      "\tstat = 0.9944846034049988\n",
      "\tp = 1.0229264898961813e-26\n",
      "\tProbably NOT Gaussian\n",
      "\t--------------------\n",
      "\ttest name: chisquare\n",
      "\tstat = 0.9944846034049988\n",
      "\tp = 1.0229264898961813e-26\n",
      "\tProbably NOT Gaussian\n",
      "\t--------------------\n",
      "\ttest name: jarque_bera\n",
      "\tstat = 0.9944846034049988\n",
      "\tp = 1.0229264898961813e-26\n",
      "\tProbably NOT Gaussian\n",
      "\t--------------------\n",
      "\ttest name: kstest\n",
      "\tstat = 0.9944846034049988\n",
      "\tp = 1.0229264898961813e-26\n",
      "\tProbably NOT Gaussian\n",
      "\t--------------------\n",
      "********************\n",
      "column name: sqft_living_yeo_johnson_trans\n",
      "\ttest name: shapiro\n",
      "\tstat = 0.9944530725479126\n",
      "\tp = 8.658649770014578e-27\n",
      "\tProbably NOT Gaussian\n",
      "\t--------------------\n",
      "\ttest name: normaltest\n",
      "\tstat = 0.9944530725479126\n",
      "\tp = 8.658649770014578e-27\n",
      "\tProbably NOT Gaussian\n",
      "\t--------------------\n",
      "\ttest name: chisquare\n",
      "\tstat = 0.9944530725479126\n",
      "\tp = 8.658649770014578e-27\n",
      "\tProbably NOT Gaussian\n",
      "\t--------------------\n",
      "\ttest name: jarque_bera\n",
      "\tstat = 0.9944530725479126\n",
      "\tp = 8.658649770014578e-27\n",
      "\tProbably NOT Gaussian\n",
      "\t--------------------\n",
      "\ttest name: kstest\n",
      "\tstat = 0.9944530725479126\n",
      "\tp = 8.658649770014578e-27\n",
      "\tProbably NOT Gaussian\n",
      "\t--------------------\n"
     ]
    },
    {
     "name": "stderr",
     "output_type": "stream",
     "text": [
      "/home/ira/anaconda3/envs/LevelUp_DataScience/lib/python3.8/site-packages/scipy/stats/morestats.py:1681: UserWarning: p-value may not be accurate for N > 5000.\n",
      "  warnings.warn(\"p-value may not be accurate for N > 5000.\")\n"
     ]
    }
   ],
   "source": [
    "norm_tests(ex_col_names_yeo_johnson_trans)"
   ]
  },
  {
   "cell_type": "markdown",
   "metadata": {},
   "source": [
    "### Квантильный преобразователь (`QuantileTransformer`)\n",
    "\n",
    "[sklearn.preprocessing.QuantileTransformer](https://scikit-learn.org/stable/modules/generated/sklearn.preprocessing.QuantileTransformer.html)\n",
    "\n",
    "Этот метод преобразует признаки в соответствии с **равномерным (uniform) или нормальным распределением**.\n",
    "\n",
    "Следовательно, для признаков это преобразование имеет тенденцию разбрасывать наиболее частые значения.\n",
    "\n",
    "Это также снижает влияние (маргинальных) выбросов: следовательно, это **робастная (robust)** схема предварительной обработки.\n",
    "\n",
    "Обратите внимание, что это **преобразование является нелинейным** и может **искажать линейные корреляции** между переменными, измеренными в одном масштабе, но делает переменные, измеренные в разных масштабах, более сопоставимыми. Это также иногда называют Rank scaler."
   ]
  },
  {
   "cell_type": "code",
   "execution_count": 66,
   "metadata": {},
   "outputs": [
    {
     "data": {
      "text/plain": [
       "QuantileTransformer(output_distribution='normal')"
      ]
     },
     "execution_count": 66,
     "metadata": {},
     "output_type": "execute_result"
    }
   ],
   "source": [
    "from sklearn.preprocessing import QuantileTransformer\n",
    "\n",
    "quant_trans = QuantileTransformer(output_distribution='normal')\n",
    "quant_trans"
   ]
  },
  {
   "cell_type": "code",
   "execution_count": 67,
   "metadata": {},
   "outputs": [
    {
     "data": {
      "text/html": [
       "<div>\n",
       "<style scoped>\n",
       "    .dataframe tbody tr th:only-of-type {\n",
       "        vertical-align: middle;\n",
       "    }\n",
       "\n",
       "    .dataframe tbody tr th {\n",
       "        vertical-align: top;\n",
       "    }\n",
       "\n",
       "    .dataframe thead th {\n",
       "        text-align: right;\n",
       "    }\n",
       "</style>\n",
       "<table border=\"1\" class=\"dataframe\">\n",
       "  <thead>\n",
       "    <tr style=\"text-align: right;\">\n",
       "      <th></th>\n",
       "      <th>price</th>\n",
       "      <th>sqft_living</th>\n",
       "      <th>price_quant_trans</th>\n",
       "      <th>sqft_living_quant_trans</th>\n",
       "    </tr>\n",
       "  </thead>\n",
       "  <tbody>\n",
       "    <tr>\n",
       "      <th>0</th>\n",
       "      <td>221900.00</td>\n",
       "      <td>1180</td>\n",
       "      <td>-1.49</td>\n",
       "      <td>-1.06</td>\n",
       "    </tr>\n",
       "    <tr>\n",
       "      <th>1</th>\n",
       "      <td>538000.00</td>\n",
       "      <td>2570</td>\n",
       "      <td>0.45</td>\n",
       "      <td>0.86</td>\n",
       "    </tr>\n",
       "    <tr>\n",
       "      <th>2</th>\n",
       "      <td>180000.00</td>\n",
       "      <td>770</td>\n",
       "      <td>-1.98</td>\n",
       "      <td>-2.11</td>\n",
       "    </tr>\n",
       "    <tr>\n",
       "      <th>3</th>\n",
       "      <td>604000.00</td>\n",
       "      <td>1960</td>\n",
       "      <td>0.71</td>\n",
       "      <td>0.15</td>\n",
       "    </tr>\n",
       "    <tr>\n",
       "      <th>4</th>\n",
       "      <td>510000.00</td>\n",
       "      <td>1680</td>\n",
       "      <td>0.34</td>\n",
       "      <td>-0.22</td>\n",
       "    </tr>\n",
       "    <tr>\n",
       "      <th>...</th>\n",
       "      <td>...</td>\n",
       "      <td>...</td>\n",
       "      <td>...</td>\n",
       "      <td>...</td>\n",
       "    </tr>\n",
       "    <tr>\n",
       "      <th>20142</th>\n",
       "      <td>360000.00</td>\n",
       "      <td>1530</td>\n",
       "      <td>-0.37</td>\n",
       "      <td>-0.45</td>\n",
       "    </tr>\n",
       "    <tr>\n",
       "      <th>20143</th>\n",
       "      <td>400000.00</td>\n",
       "      <td>2310</td>\n",
       "      <td>-0.16</td>\n",
       "      <td>0.57</td>\n",
       "    </tr>\n",
       "    <tr>\n",
       "      <th>20144</th>\n",
       "      <td>402101.00</td>\n",
       "      <td>1020</td>\n",
       "      <td>-0.15</td>\n",
       "      <td>-1.39</td>\n",
       "    </tr>\n",
       "    <tr>\n",
       "      <th>20145</th>\n",
       "      <td>400000.00</td>\n",
       "      <td>1600</td>\n",
       "      <td>-0.16</td>\n",
       "      <td>-0.34</td>\n",
       "    </tr>\n",
       "    <tr>\n",
       "      <th>20146</th>\n",
       "      <td>325000.00</td>\n",
       "      <td>1020</td>\n",
       "      <td>-0.59</td>\n",
       "      <td>-1.39</td>\n",
       "    </tr>\n",
       "  </tbody>\n",
       "</table>\n",
       "<p>20147 rows × 4 columns</p>\n",
       "</div>"
      ],
      "text/plain": [
       "          price  sqft_living  price_quant_trans  sqft_living_quant_trans\n",
       "0     221900.00         1180              -1.49                    -1.06\n",
       "1     538000.00         2570               0.45                     0.86\n",
       "2     180000.00          770              -1.98                    -2.11\n",
       "3     604000.00         1960               0.71                     0.15\n",
       "4     510000.00         1680               0.34                    -0.22\n",
       "...         ...          ...                ...                      ...\n",
       "20142 360000.00         1530              -0.37                    -0.45\n",
       "20143 400000.00         2310              -0.16                     0.57\n",
       "20144 402101.00         1020              -0.15                    -1.39\n",
       "20145 400000.00         1600              -0.16                    -0.34\n",
       "20146 325000.00         1020              -0.59                    -1.39\n",
       "\n",
       "[20147 rows x 4 columns]"
      ]
     },
     "execution_count": 67,
     "metadata": {},
     "output_type": "execute_result"
    }
   ],
   "source": [
    "ex_col_names_quant_trans = ex_col_names_with_suffix('quant_trans')\n",
    "\n",
    "df[ex_col_names_quant_trans] = quant_trans.fit_transform(df[ex_col_names])\n",
    "\n",
    "df[ex_col_names + ex_col_names_quant_trans]"
   ]
  },
  {
   "cell_type": "code",
   "execution_count": 68,
   "metadata": {},
   "outputs": [
    {
     "data": {
      "image/png": "[encoded data removed]",
      "text/plain": [
       "<Figure size 1152x288 with 4 Axes>"
      ]
     },
     "metadata": {
      "needs_background": "light"
     },
     "output_type": "display_data"
    }
   ],
   "source": [
    "plot_hist_original_new(ex_col_names, ex_col_names_quant_trans)"
   ]
  },
  {
   "cell_type": "code",
   "execution_count": 69,
   "metadata": {},
   "outputs": [
    {
     "name": "stdout",
     "output_type": "stream",
     "text": [
      "********************\n",
      "column name: price_quant_trans\n",
      "\ttest name: shapiro\n",
      "\tstat = 0.9998630881309509\n",
      "\tp = 0.2848769426345825\n",
      "\tProbably GAUSSIAN\n",
      "\t--------------------\n",
      "\ttest name: normaltest\n",
      "\tstat = 0.9998630881309509\n",
      "\tp = 0.2848769426345825\n",
      "\tProbably GAUSSIAN\n",
      "\t--------------------\n",
      "\ttest name: chisquare\n",
      "\tstat = 0.9998630881309509\n",
      "\tp = 0.2848769426345825\n",
      "\tProbably GAUSSIAN\n",
      "\t--------------------\n",
      "\ttest name: jarque_bera\n",
      "\tstat = 0.9998630881309509\n",
      "\tp = 0.2848769426345825\n",
      "\tProbably GAUSSIAN\n",
      "\t--------------------\n",
      "\ttest name: kstest\n",
      "\tstat = 0.9998630881309509\n",
      "\tp = 0.2848769426345825\n",
      "\tProbably GAUSSIAN\n",
      "\t--------------------\n",
      "********************\n",
      "column name: sqft_living_quant_trans\n",
      "\ttest name: shapiro\n",
      "\tstat = 0.9992259740829468\n",
      "\tp = 6.240604477625311e-08\n",
      "\tProbably NOT Gaussian\n",
      "\t--------------------\n",
      "\ttest name: normaltest\n",
      "\tstat = 0.9992259740829468\n",
      "\tp = 6.240604477625311e-08\n",
      "\tProbably NOT Gaussian\n",
      "\t--------------------\n",
      "\ttest name: chisquare\n",
      "\tstat = 0.9992259740829468\n",
      "\tp = 6.240604477625311e-08\n",
      "\tProbably NOT Gaussian\n",
      "\t--------------------\n",
      "\ttest name: jarque_bera\n",
      "\tstat = 0.9992259740829468\n",
      "\tp = 6.240604477625311e-08\n",
      "\tProbably NOT Gaussian\n",
      "\t--------------------\n",
      "\ttest name: kstest\n",
      "\tstat = 0.9992259740829468\n",
      "\tp = 6.240604477625311e-08\n",
      "\tProbably NOT Gaussian\n",
      "\t--------------------\n"
     ]
    },
    {
     "name": "stderr",
     "output_type": "stream",
     "text": [
      "/home/ira/anaconda3/envs/LevelUp_DataScience/lib/python3.8/site-packages/scipy/stats/morestats.py:1681: UserWarning: p-value may not be accurate for N > 5000.\n",
      "  warnings.warn(\"p-value may not be accurate for N > 5000.\")\n"
     ]
    }
   ],
   "source": [
    "norm_tests(ex_col_names_quant_trans)"
   ]
  }
 ],
 "metadata": {
  "kernelspec": {
   "display_name": "Python [conda env:LevelUp_DataScience] *",
   "language": "python",
   "name": "conda-env-LevelUp_DataScience-py"
  },
  "language_info": {
   "codemirror_mode": {
    "name": "ipython",
    "version": 3
   },
   "file_extension": ".py",
   "mimetype": "text/x-python",
   "name": "python",
   "nbconvert_exporter": "python",
   "pygments_lexer": "ipython3",
   "version": "3.8.5"
  },
  "toc-autonumbering": true
 },
 "nbformat": 4,
 "nbformat_minor": 4
}
