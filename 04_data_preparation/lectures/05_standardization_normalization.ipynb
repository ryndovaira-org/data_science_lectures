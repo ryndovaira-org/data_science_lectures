{
 "cells": [
  {
   "cell_type": "markdown",
   "metadata": {
    "pycharm": {
     "name": "#%% md\n"
    }
   },
   "source": [
    "# Нормализация и стандартизация (Normalization & standardization)"
   ]
  },
  {
   "cell_type": "markdown",
   "metadata": {},
   "source": [
    "---\n",
    "\n",
    "[Data normalization with Pandas and Scikit-Learn](https://towardsdatascience.com/data-normalization-with-pandas-and-scikit-learn-7c1cc6ed6475)\n",
    "\n",
    "[Standard score](https://en.wikipedia.org/wiki/Standard_score)\n",
    "\n",
    "[Z-оценка](https://ru.wikipedia.org/wiki/Z-%D0%BE%D1%86%D0%B5%D0%BD%D0%BA%D0%B0)\n",
    "\n",
    "[Standardize or Normalize? — Examples in Python](https://medium.com/@rrfd/standardize-or-normalize-examples-in-python-e3f174b65dfc)\n",
    "\n",
    "[Does Categorical Variable need normalization/standardization?](https://stats.stackexchange.com/questions/399430/does-categorical-variable-need-normalization-standardization)\n",
    "\n",
    "[Feature Scaling for Machine Learning: Understanding the Difference Between Normalization vs. Standardization](https://www.analyticsvidhya.com/blog/2020/04/feature-scaling-machine-learning-normalization-standardization/)\n",
    "\n",
    "[Scale, Standardize or Normalize with scikit-learn](https://www.kaggle.com/discdiver/guide-to-scaling-and-standardizing)\n",
    "\n",
    "[Как нормализовать данные в PySpark перед обучением ML-моделей](https://www.bigdataschool.ru/blog/data-normalization-and-standardization.html#:~:text=%D0%9D%D0%BE%D1%80%D0%BC%D0%B0%D0%BB%D0%B8%D0%B7%D0%B0%D1%86%D0%B8%D1%8F%20(normalization)%20%D0%B8%20%D1%81%D1%82%D0%B0%D0%BD%D0%B4%D0%B0%D1%80%D1%82%D0%B8%D0%B7%D0%B0%D1%86%D0%B8%D1%8F%20(,%D0%BC%D0%B5%D1%82%D0%BE%D0%B4%D0%B0%D0%BC%D0%B8%20%D0%B8%D0%B7%D0%BC%D0%B5%D0%BD%D0%B5%D0%BD%D0%B8%D1%8F%20%D0%B4%D0%B8%D0%B0%D0%BF%D0%B0%D0%B7%D0%BE%D0%BD%D0%BE%D0%B2%20%D0%B7%D0%BD%D0%B0%D1%87%D0%B5%D0%BD%D0%B8%D0%B9%20%E2%80%93%20%D1%88%D0%BA%D0%B0%D0%BB%D0%B8%D1%80%D0%BE%D0%B2%D0%B0%D0%BD%D0%B8%D1%8F.&text=%D0%9D%D0%BE%D1%80%D0%BC%D0%B0%D0%BB%D0%B8%D0%B7%D0%B0%D1%86%D0%B8%D1%8F%20%D0%BF%D0%BE%D0%B4%D1%80%D0%B0%D0%B7%D1%83%D0%BC%D0%B5%D0%B2%D0%B0%D0%B5%D1%82%20%D0%B8%D0%B7%D0%BC%D0%B5%D0%BD%D0%B5%D0%BD%D0%B8%D0%B5%20%D0%B4%D0%B8%D0%B0%D0%BF%D0%B0%D0%B7%D0%BE%D0%BD%D0%BE%D0%B2%20%D0%B2,(%D0%BF%D1%80%D0%B8%D0%B2%D0%BE%D0%B4%D0%B8%D1%82%D1%81%D1%8F%20%D0%BA%20%D0%BD%D0%BE%D1%80%D0%BC%D0%B0%D0%BB%D1%8C%D0%BD%D0%BE%D0%BC%D1%83%20%D1%80%D0%B0%D1%81%D0%BF%D1%80%D0%B5%D0%B4%D0%B5%D0%BB%D0%B5%D0%BD%D0%B8%D1%8E).https://www.bigdataschool.ru/blog/data-normalization-and-standardization.html#:~:text=%D0%9D%D0%BE%D1%80%D0%BC%D0%B0%D0%BB%D0%B8%D0%B7%D0%B0%D1%86%D0%B8%D1%8F%20(normalization)%20%D0%B8%20%D1%81%D1%82%D0%B0%D0%BD%D0%B4%D0%B0%D1%80%D1%82%D0%B8%D0%B7%D0%B0%D1%86%D0%B8%D1%8F%20(,%D0%BC%D0%B5%D1%82%D0%BE%D0%B4%D0%B0%D0%BC%D0%B8%20%D0%B8%D0%B7%D0%BC%D0%B5%D0%BD%D0%B5%D0%BD%D0%B8%D1%8F%20%D0%B4%D0%B8%D0%B0%D0%BF%D0%B0%D0%B7%D0%BE%D0%BD%D0%BE%D0%B2%20%D0%B7%D0%BD%D0%B0%D1%87%D0%B5%D0%BD%D0%B8%D0%B9%20%E2%80%93%20%D1%88%D0%BA%D0%B0%D0%BB%D0%B8%D1%80%D0%BE%D0%B2%D0%B0%D0%BD%D0%B8%D1%8F.&text=%D0%9D%D0%BE%D1%80%D0%BC%D0%B0%D0%BB%D0%B8%D0%B7%D0%B0%D1%86%D0%B8%D1%8F%20%D0%BF%D0%BE%D0%B4%D1%80%D0%B0%D0%B7%D1%83%D0%BC%D0%B5%D0%B2%D0%B0%D0%B5%D1%82%20%D0%B8%D0%B7%D0%BC%D0%B5%D0%BD%D0%B5%D0%BD%D0%B8%D0%B5%20%D0%B4%D0%B8%D0%B0%D0%BF%D0%B0%D0%B7%D0%BE%D0%BD%D0%BE%D0%B2%20%D0%B2,(%D0%BF%D1%80%D0%B8%D0%B2%D0%BE%D0%B4%D0%B8%D1%82%D1%81%D1%8F%20%D0%BA%20%D0%BD%D0%BE%D1%80%D0%BC%D0%B0%D0%BB%D1%8C%D0%BD%D0%BE%D0%BC%D1%83%20%D1%80%D0%B0%D1%81%D0%BF%D1%80%D0%B5%D0%B4%D0%B5%D0%BB%D0%B5%D0%BD%D0%B8%D1%8E).)\n",
    "\n",
    "[All about Feature Scaling](https://towardsdatascience.com/all-about-feature-scaling-bcc0ad75cb35)\n",
    "\n",
    "---"
   ]
  },
  {
   "cell_type": "code",
   "execution_count": null,
   "metadata": {
    "collapsed": false,
    "jupyter": {
     "outputs_hidden": false
    },
    "pycharm": {
     "name": "#%%\n"
    }
   },
   "outputs": [],
   "source": [
    "# ВНИМАНИЕ: необходимо удостовериться, что виртуальная среда выбрана правильно!\n",
    "\n",
    "# Для MacOS/Ubuntu\n",
    "# !which pip\n",
    "\n",
    "# Для Windows\n",
    "# !where pip"
   ]
  },
  {
   "cell_type": "code",
   "execution_count": null,
   "metadata": {
    "collapsed": false,
    "jupyter": {
     "outputs_hidden": false
    },
    "pycharm": {
     "name": "#%%\n"
    }
   },
   "outputs": [],
   "source": [
    "# !conda install pandas matplotlib numpy seaborn scipy -y"
   ]
  },
  {
   "cell_type": "code",
   "execution_count": 3,
   "metadata": {
    "collapsed": false,
    "jupyter": {
     "outputs_hidden": false
    },
    "pycharm": {
     "name": "#%%\n"
    }
   },
   "outputs": [
    {
     "data": {
      "text/plain": [
       "'1.19.2'"
      ]
     },
     "execution_count": 3,
     "metadata": {},
     "output_type": "execute_result"
    }
   ],
   "source": [
    "import numpy as np\n",
    "\n",
    "np.__version__"
   ]
  },
  {
   "cell_type": "code",
   "execution_count": 4,
   "metadata": {
    "collapsed": false,
    "jupyter": {
     "outputs_hidden": false
    },
    "pycharm": {
     "name": "#%%\n"
    }
   },
   "outputs": [
    {
     "data": {
      "text/plain": [
       "'1.2.3'"
      ]
     },
     "execution_count": 4,
     "metadata": {},
     "output_type": "execute_result"
    }
   ],
   "source": [
    "import pandas as pd\n",
    "\n",
    "pd.__version__"
   ]
  },
  {
   "cell_type": "code",
   "execution_count": 5,
   "metadata": {
    "collapsed": false,
    "jupyter": {
     "outputs_hidden": false
    },
    "pycharm": {
     "name": "#%%\n"
    }
   },
   "outputs": [
    {
     "data": {
      "text/plain": [
       "'3.3.4'"
      ]
     },
     "execution_count": 5,
     "metadata": {},
     "output_type": "execute_result"
    }
   ],
   "source": [
    "import matplotlib\n",
    "import matplotlib.pyplot as plt\n",
    "\n",
    "matplotlib.__version__"
   ]
  },
  {
   "cell_type": "code",
   "execution_count": 6,
   "metadata": {
    "collapsed": false,
    "jupyter": {
     "outputs_hidden": false
    },
    "pycharm": {
     "name": "#%%\n"
    }
   },
   "outputs": [
    {
     "data": {
      "text/plain": [
       "'0.11.1'"
      ]
     },
     "execution_count": 6,
     "metadata": {},
     "output_type": "execute_result"
    }
   ],
   "source": [
    "import seaborn as sns\n",
    "\n",
    "sns.__version__"
   ]
  },
  {
   "cell_type": "code",
   "execution_count": 7,
   "metadata": {},
   "outputs": [
    {
     "data": {
      "text/plain": [
       "'0.24.1'"
      ]
     },
     "execution_count": 7,
     "metadata": {},
     "output_type": "execute_result"
    }
   ],
   "source": [
    "import sklearn\n",
    "\n",
    "sklearn.__version__"
   ]
  },
  {
   "cell_type": "markdown",
   "metadata": {},
   "source": [
    "## Загрузка данных\n",
    "\n",
    "[Источник (California Housing Prices)](https://www.kaggle.com/camnugent/california-housing-prices)."
   ]
  },
  {
   "cell_type": "code",
   "execution_count": 65,
   "metadata": {
    "collapsed": false,
    "jupyter": {
     "outputs_hidden": false
    },
    "pycharm": {
     "name": "#%%\n"
    }
   },
   "outputs": [
    {
     "data": {
      "text/html": [
       "<div>\n",
       "<style scoped>\n",
       "    .dataframe tbody tr th:only-of-type {\n",
       "        vertical-align: middle;\n",
       "    }\n",
       "\n",
       "    .dataframe tbody tr th {\n",
       "        vertical-align: top;\n",
       "    }\n",
       "\n",
       "    .dataframe thead th {\n",
       "        text-align: right;\n",
       "    }\n",
       "</style>\n",
       "<table border=\"1\" class=\"dataframe\">\n",
       "  <thead>\n",
       "    <tr style=\"text-align: right;\">\n",
       "      <th></th>\n",
       "      <th>longitude</th>\n",
       "      <th>latitude</th>\n",
       "      <th>housing_median_age</th>\n",
       "      <th>total_rooms</th>\n",
       "      <th>total_bedrooms</th>\n",
       "      <th>population</th>\n",
       "      <th>households</th>\n",
       "      <th>median_income</th>\n",
       "      <th>median_house_value</th>\n",
       "      <th>ocean_proximity</th>\n",
       "    </tr>\n",
       "  </thead>\n",
       "  <tbody>\n",
       "    <tr>\n",
       "      <th>0</th>\n",
       "      <td>-122.23</td>\n",
       "      <td>37.88</td>\n",
       "      <td>41.00</td>\n",
       "      <td>880.00</td>\n",
       "      <td>129.00</td>\n",
       "      <td>322.00</td>\n",
       "      <td>126.00</td>\n",
       "      <td>8.33</td>\n",
       "      <td>452600.00</td>\n",
       "      <td>NEAR BAY</td>\n",
       "    </tr>\n",
       "    <tr>\n",
       "      <th>1</th>\n",
       "      <td>-122.22</td>\n",
       "      <td>37.86</td>\n",
       "      <td>21.00</td>\n",
       "      <td>7099.00</td>\n",
       "      <td>1106.00</td>\n",
       "      <td>2401.00</td>\n",
       "      <td>1138.00</td>\n",
       "      <td>8.30</td>\n",
       "      <td>358500.00</td>\n",
       "      <td>NEAR BAY</td>\n",
       "    </tr>\n",
       "    <tr>\n",
       "      <th>2</th>\n",
       "      <td>-122.24</td>\n",
       "      <td>37.85</td>\n",
       "      <td>52.00</td>\n",
       "      <td>1467.00</td>\n",
       "      <td>190.00</td>\n",
       "      <td>496.00</td>\n",
       "      <td>177.00</td>\n",
       "      <td>7.26</td>\n",
       "      <td>352100.00</td>\n",
       "      <td>NEAR BAY</td>\n",
       "    </tr>\n",
       "    <tr>\n",
       "      <th>3</th>\n",
       "      <td>-122.25</td>\n",
       "      <td>37.85</td>\n",
       "      <td>52.00</td>\n",
       "      <td>1274.00</td>\n",
       "      <td>235.00</td>\n",
       "      <td>558.00</td>\n",
       "      <td>219.00</td>\n",
       "      <td>5.64</td>\n",
       "      <td>341300.00</td>\n",
       "      <td>NEAR BAY</td>\n",
       "    </tr>\n",
       "    <tr>\n",
       "      <th>4</th>\n",
       "      <td>-122.25</td>\n",
       "      <td>37.85</td>\n",
       "      <td>52.00</td>\n",
       "      <td>1627.00</td>\n",
       "      <td>280.00</td>\n",
       "      <td>565.00</td>\n",
       "      <td>259.00</td>\n",
       "      <td>3.85</td>\n",
       "      <td>342200.00</td>\n",
       "      <td>NEAR BAY</td>\n",
       "    </tr>\n",
       "    <tr>\n",
       "      <th>...</th>\n",
       "      <td>...</td>\n",
       "      <td>...</td>\n",
       "      <td>...</td>\n",
       "      <td>...</td>\n",
       "      <td>...</td>\n",
       "      <td>...</td>\n",
       "      <td>...</td>\n",
       "      <td>...</td>\n",
       "      <td>...</td>\n",
       "      <td>...</td>\n",
       "    </tr>\n",
       "    <tr>\n",
       "      <th>20635</th>\n",
       "      <td>-121.09</td>\n",
       "      <td>39.48</td>\n",
       "      <td>25.00</td>\n",
       "      <td>1665.00</td>\n",
       "      <td>374.00</td>\n",
       "      <td>845.00</td>\n",
       "      <td>330.00</td>\n",
       "      <td>1.56</td>\n",
       "      <td>78100.00</td>\n",
       "      <td>INLAND</td>\n",
       "    </tr>\n",
       "    <tr>\n",
       "      <th>20636</th>\n",
       "      <td>-121.21</td>\n",
       "      <td>39.49</td>\n",
       "      <td>18.00</td>\n",
       "      <td>697.00</td>\n",
       "      <td>150.00</td>\n",
       "      <td>356.00</td>\n",
       "      <td>114.00</td>\n",
       "      <td>2.56</td>\n",
       "      <td>77100.00</td>\n",
       "      <td>INLAND</td>\n",
       "    </tr>\n",
       "    <tr>\n",
       "      <th>20637</th>\n",
       "      <td>-121.22</td>\n",
       "      <td>39.43</td>\n",
       "      <td>17.00</td>\n",
       "      <td>2254.00</td>\n",
       "      <td>485.00</td>\n",
       "      <td>1007.00</td>\n",
       "      <td>433.00</td>\n",
       "      <td>1.70</td>\n",
       "      <td>92300.00</td>\n",
       "      <td>INLAND</td>\n",
       "    </tr>\n",
       "    <tr>\n",
       "      <th>20638</th>\n",
       "      <td>-121.32</td>\n",
       "      <td>39.43</td>\n",
       "      <td>18.00</td>\n",
       "      <td>1860.00</td>\n",
       "      <td>409.00</td>\n",
       "      <td>741.00</td>\n",
       "      <td>349.00</td>\n",
       "      <td>1.87</td>\n",
       "      <td>84700.00</td>\n",
       "      <td>INLAND</td>\n",
       "    </tr>\n",
       "    <tr>\n",
       "      <th>20639</th>\n",
       "      <td>-121.24</td>\n",
       "      <td>39.37</td>\n",
       "      <td>16.00</td>\n",
       "      <td>2785.00</td>\n",
       "      <td>616.00</td>\n",
       "      <td>1387.00</td>\n",
       "      <td>530.00</td>\n",
       "      <td>2.39</td>\n",
       "      <td>89400.00</td>\n",
       "      <td>INLAND</td>\n",
       "    </tr>\n",
       "  </tbody>\n",
       "</table>\n",
       "<p>20640 rows × 10 columns</p>\n",
       "</div>"
      ],
      "text/plain": [
       "       longitude  latitude  housing_median_age  total_rooms  total_bedrooms  \\\n",
       "0        -122.23     37.88               41.00       880.00          129.00   \n",
       "1        -122.22     37.86               21.00      7099.00         1106.00   \n",
       "2        -122.24     37.85               52.00      1467.00          190.00   \n",
       "3        -122.25     37.85               52.00      1274.00          235.00   \n",
       "4        -122.25     37.85               52.00      1627.00          280.00   \n",
       "...          ...       ...                 ...          ...             ...   \n",
       "20635    -121.09     39.48               25.00      1665.00          374.00   \n",
       "20636    -121.21     39.49               18.00       697.00          150.00   \n",
       "20637    -121.22     39.43               17.00      2254.00          485.00   \n",
       "20638    -121.32     39.43               18.00      1860.00          409.00   \n",
       "20639    -121.24     39.37               16.00      2785.00          616.00   \n",
       "\n",
       "       population  households  median_income  median_house_value  \\\n",
       "0          322.00      126.00           8.33           452600.00   \n",
       "1         2401.00     1138.00           8.30           358500.00   \n",
       "2          496.00      177.00           7.26           352100.00   \n",
       "3          558.00      219.00           5.64           341300.00   \n",
       "4          565.00      259.00           3.85           342200.00   \n",
       "...           ...         ...            ...                 ...   \n",
       "20635      845.00      330.00           1.56            78100.00   \n",
       "20636      356.00      114.00           2.56            77100.00   \n",
       "20637     1007.00      433.00           1.70            92300.00   \n",
       "20638      741.00      349.00           1.87            84700.00   \n",
       "20639     1387.00      530.00           2.39            89400.00   \n",
       "\n",
       "      ocean_proximity  \n",
       "0            NEAR BAY  \n",
       "1            NEAR BAY  \n",
       "2            NEAR BAY  \n",
       "3            NEAR BAY  \n",
       "4            NEAR BAY  \n",
       "...               ...  \n",
       "20635          INLAND  \n",
       "20636          INLAND  \n",
       "20637          INLAND  \n",
       "20638          INLAND  \n",
       "20639          INLAND  \n",
       "\n",
       "[20640 rows x 10 columns]"
      ]
     },
     "execution_count": 65,
     "metadata": {},
     "output_type": "execute_result"
    }
   ],
   "source": [
    "df = pd.read_csv('./../../data/housing.csv')\n",
    "\n",
    "# показать все колонки\n",
    "pd.options.display.max_columns = None\n",
    "\n",
    "# изменить формат отображения с помощью средства форматирования\n",
    "# (float без E, а 2 знаков после запятой)\n",
    "# (для удобства чтения)\n",
    "pd.options.display.float_format = '{:.2f}'.format\n",
    "\n",
    "# отобразить первые 5 и последние 5 строк\n",
    "df"
   ]
  },
  {
   "cell_type": "code",
   "execution_count": 66,
   "metadata": {},
   "outputs": [
    {
     "name": "stdout",
     "output_type": "stream",
     "text": [
      "<class 'pandas.core.frame.DataFrame'>\n",
      "RangeIndex: 20640 entries, 0 to 20639\n",
      "Data columns (total 10 columns):\n",
      " #   Column              Non-Null Count  Dtype  \n",
      "---  ------              --------------  -----  \n",
      " 0   longitude           20640 non-null  float64\n",
      " 1   latitude            20640 non-null  float64\n",
      " 2   housing_median_age  20640 non-null  float64\n",
      " 3   total_rooms         20640 non-null  float64\n",
      " 4   total_bedrooms      20433 non-null  float64\n",
      " 5   population          20640 non-null  float64\n",
      " 6   households          20640 non-null  float64\n",
      " 7   median_income       20640 non-null  float64\n",
      " 8   median_house_value  20640 non-null  float64\n",
      " 9   ocean_proximity     20640 non-null  object \n",
      "dtypes: float64(9), object(1)\n",
      "memory usage: 1.6+ MB\n"
     ]
    }
   ],
   "source": [
    "df.info()"
   ]
  },
  {
   "cell_type": "markdown",
   "metadata": {},
   "source": [
    "### Выбор колонок для примера"
   ]
  },
  {
   "cell_type": "code",
   "execution_count": 68,
   "metadata": {},
   "outputs": [],
   "source": [
    "ex_col_names = ['housing_median_age', 'median_house_value']"
   ]
  },
  {
   "cell_type": "code",
   "execution_count": 69,
   "metadata": {},
   "outputs": [],
   "source": [
    "def ex_col_names_with_suffix(suffix):\n",
    "    return [f\"{name}_{suffix}\" for name in ex_col_names]"
   ]
  },
  {
   "cell_type": "code",
   "execution_count": 70,
   "metadata": {},
   "outputs": [
    {
     "data": {
      "text/plain": [
       "['housing_median_age_test', 'median_house_value_test']"
      ]
     },
     "execution_count": 70,
     "metadata": {},
     "output_type": "execute_result"
    }
   ],
   "source": [
    "# пример:\n",
    "ex_col_names_with_suffix('test')"
   ]
  },
  {
   "cell_type": "markdown",
   "metadata": {},
   "source": [
    "## Нормализация и Стандартизация\n",
    "\n",
    "**Нормализация (normalization)** и **стандартизация (standardization)** являются методами **изменения диапазонов значений – шкалирования**.\n",
    "\n",
    "В машинном обучении **нормализацией** называют метод предобработки числовых признаков в обучающих наборах данных с целью **приведения их к некоторой общей шкале без потери информации о различии диапазонов**.\n",
    "\n",
    "Иногда **нормализацию** данных называют **стандартизацией**, однако это неверно.\n",
    "\n",
    "**Стандартизация это более широкое понятие** и подразумевает предобработку с целью **приведению данных к единому формату и представлению, наиболее удобному для использования определённого вида обработки**.\n",
    "\n",
    "В отличии от нормализации, **стандартизация может применяться и к категориальным данным**.\n",
    "\n",
    "**НЕ следует нормализовать категориальные данные**. Если функция является категориальной, это означает, что каждое значение имеет отдельное значение, поэтому нормализация превратит эти функции во что-то другое.\n",
    "\n",
    "**Нормализация и стандартизация отличаются своими подходами**:\n",
    "- Нормализация подразумевает изменение диапазонов в данных без изменения формы распределения.\n",
    "- Стандартизация изменяет форму распределения данных (приводится к нормальному распределению).\n",
    "\n",
    "**Обычно достаточно нормализовать данные.** Cтандартизацию стоит применять при использование алгоритмов, которые основываются на измерении расстояний, например, KNN или метод опорных векторов (SVM). Таким образом стандартизацию применают при необходимости (в зависимости от алгоритма обучения модели).\n",
    "\n",
    "Необходимость **нормализации** вызвана тем, что разные признаки обучающего набора данных могут быть представлены в разных масштабах и изменяться в разных диапазонах.\n",
    "\n",
    "Например, возраст, который изменяется от 0 до 100, и доход, изменяющийся от нескольких тысяч до нескольких миллионов. То есть диапазоны изменения признаков \"Возраст\" и \"Доход\" различаются в тысячи раз.\n",
    "\n",
    "В этом случае **возникает нарушение баланса между влиянием входных переменных, представленных в разных масштабах, на выходную переменную**. Т.е. это влияние обусловлено не реальной зависимостью, а изменением масштаба. В результате, обучаемая модель может выявить некорректные зависимости.\n",
    "\n",
    "<img src=\"./images/standardize_vs_normalize.png\" />\n",
    "\n",
    "Примеры алгоритмов, в которых масштабирование обязательно (вычисляют расстрояния):\n",
    "- Linear / Logistic regression\n",
    "- (D)NNs\n",
    "- K-nearest neighbors (KNN)\n",
    "- K-Means\n",
    "- SVM\n",
    "- Principal Component Analysis (PCA)\n",
    "- ...\n",
    "\n",
    "Примеры алгоритмов, где не обязательно масштабирование (опираются на правила / вычисленные веса):\n",
    "- Classification and Regression Trees (CART)\n",
    "- Random Forests\n",
    "- Gradient Boosted Decision Trees\n",
    "- Naive Bayes\n",
    "\n",
    "\n",
    "Несколько ключевых моментов, на которые следует обратить внимание:\n",
    "- Среднее (mean) центрирование (=стандартизация) не влияет на ковариационную матрицу.\n",
    "- Масштабирование переменных (=нормализация) влияет на ковариационную матрицу.\n",
    "- Стандартизация влияет на ковариацию."
   ]
  },
  {
   "cell_type": "markdown",
   "metadata": {},
   "source": [
    "## Графическое представление"
   ]
  },
  {
   "cell_type": "code",
   "execution_count": 82,
   "metadata": {},
   "outputs": [],
   "source": [
    "def plot_sep_hist_box(col_names):\n",
    "    _, axes = plt.subplots(2, 2, figsize=(10, 8))\n",
    "\n",
    "    sns.histplot(df[col_names[0]], ax=axes[0][0], color='m')\n",
    "    sns.boxplot(data=df[col_names[0]], ax=axes[1][0], color='m')\n",
    "\n",
    "    sns.histplot(df[col_names[1]], ax=axes[0][1], color='b')\n",
    "    sns.boxplot(data=df[col_names[1]], ax=axes[1][1], color='b')"
   ]
  },
  {
   "cell_type": "code",
   "execution_count": 83,
   "metadata": {},
   "outputs": [
    {
     "data": {
      "image/png": "[encoded data removed]",
      "text/plain": [
       "<Figure size 720x576 with 4 Axes>"
      ]
     },
     "metadata": {
      "needs_background": "light"
     },
     "output_type": "display_data"
    }
   ],
   "source": [
    "plot_sep_hist_box(ex_col_names)"
   ]
  },
  {
   "cell_type": "code",
   "execution_count": 84,
   "metadata": {},
   "outputs": [],
   "source": [
    "def plot_hist_box(col_names):\n",
    "    _, axes = plt.subplots(1, 2, figsize=(12, 5))\n",
    "\n",
    "    sns.histplot(df[col_names], \n",
    "                 palette=['m', 'b'], ax=axes[0])\n",
    "\n",
    "    sns.boxplot(data=df[col_names], \n",
    "                 palette=['m', 'b'], ax=axes[1])"
   ]
  },
  {
   "cell_type": "code",
   "execution_count": 85,
   "metadata": {},
   "outputs": [
    {
     "data": {
      "image/png": "[encoded data removed]",
      "text/plain": [
       "<Figure size 864x360 with 2 Axes>"
      ]
     },
     "metadata": {
      "needs_background": "light"
     },
     "output_type": "display_data"
    }
   ],
   "source": [
    "plot_hist_box(ex_col_names)"
   ]
  },
  {
   "cell_type": "markdown",
   "metadata": {},
   "source": [
    "## Нормализация\n",
    "\n",
    "Сравнение различных скейлеров от `scikit-learn` см. [Compare the effect of different scalers on data with outliers](https://scikit-learn.org/stable/auto_examples/preprocessing/plot_all_scaling.html#compare-the-effect-of-different-scalers-on-data-with-outliers).\n",
    "\n",
    "Рекомендации:\n",
    "- Использовать `MinMaxScaler` по умолчанию.\n",
    "- Использовать `RobustScaler`, если имеются выбросы и нужно обрабатывать больший диапазон.\n",
    "- Использовать `StandardScaler`, если вам нужны нормализованные (нормальное распределение) признаки.\n",
    "- Использовать *`Normalizer` для особых случаев - `Normalizer` нормализует строки, а не столбцы.\n",
    "\n",
    "\n",
    "Выбор подходящего скейлера очень зависит от алгоритма (и данных). Например:\n",
    "- Principal Component Analysis (PCA) лучше работает при стандартизации."
   ]
  },
  {
   "cell_type": "markdown",
   "metadata": {},
   "source": [
    "### Минимаксная нормализация (`MinMaxScaler`)\n",
    "\n",
    "[sklearn.preprocessing.MinMaxScaler](https://scikit-learn.org/stable/modules/generated/sklearn.preprocessing.MinMaxScaler.html)\n",
    "\n",
    "<img src=\"images/min_max_scaler_formula.png\" />\n",
    "\n",
    "Преобразует признаки, масштабируя каждый признак к заданному диапазу.\n",
    "\n",
    "Это преобразование часто используется как альтернатива масштабированию с нулевым средним (zero mean) и единичной дисперсией (unit variance scaling).\n",
    "\n",
    "Этот скейлер хорошо работает, если **стандартное отклонение невелико** и когда **распределение не гауссово**.\n",
    "\n",
    "Этот скейлер **чувствителен к выбросам**."
   ]
  },
  {
   "cell_type": "code",
   "execution_count": 23,
   "metadata": {},
   "outputs": [
    {
     "data": {
      "text/plain": [
       "MinMaxScaler(feature_range=(-3, 3))"
      ]
     },
     "execution_count": 23,
     "metadata": {},
     "output_type": "execute_result"
    }
   ],
   "source": [
    "from sklearn.preprocessing import MinMaxScaler\n",
    "\n",
    "# по умолчанию feature_range=(0, 1)\n",
    "min_max_scaler = MinMaxScaler(feature_range=(-3, 3))\n",
    "min_max_scaler"
   ]
  },
  {
   "cell_type": "code",
   "execution_count": 24,
   "metadata": {},
   "outputs": [
    {
     "data": {
      "text/plain": [
       "MinMaxScaler(feature_range=(-3, 3))"
      ]
     },
     "execution_count": 24,
     "metadata": {},
     "output_type": "execute_result"
    }
   ],
   "source": [
    "min_max_scaler.fit(df[['housing_median_age', 'median_house_value']])"
   ]
  },
  {
   "cell_type": "code",
   "execution_count": 25,
   "metadata": {},
   "outputs": [
    {
     "data": {
      "text/plain": [
       "array([5.10000e+01, 4.85002e+05])"
      ]
     },
     "execution_count": 25,
     "metadata": {},
     "output_type": "execute_result"
    }
   ],
   "source": [
    "min_max_scaler.data_range_"
   ]
  },
  {
   "cell_type": "code",
   "execution_count": 26,
   "metadata": {},
   "outputs": [
    {
     "data": {
      "text/html": [
       "<div>\n",
       "<style scoped>\n",
       "    .dataframe tbody tr th:only-of-type {\n",
       "        vertical-align: middle;\n",
       "    }\n",
       "\n",
       "    .dataframe tbody tr th {\n",
       "        vertical-align: top;\n",
       "    }\n",
       "\n",
       "    .dataframe thead th {\n",
       "        text-align: right;\n",
       "    }\n",
       "</style>\n",
       "<table border=\"1\" class=\"dataframe\">\n",
       "  <thead>\n",
       "    <tr style=\"text-align: right;\">\n",
       "      <th></th>\n",
       "      <th>housing_median_age</th>\n",
       "      <th>housing_median_age_min_max_norm</th>\n",
       "      <th>median_house_value</th>\n",
       "      <th>median_house_value_min_max_norm</th>\n",
       "    </tr>\n",
       "  </thead>\n",
       "  <tbody>\n",
       "    <tr>\n",
       "      <th>0</th>\n",
       "      <td>41.00</td>\n",
       "      <td>1.71</td>\n",
       "      <td>452600.00</td>\n",
       "      <td>2.41</td>\n",
       "    </tr>\n",
       "    <tr>\n",
       "      <th>1</th>\n",
       "      <td>21.00</td>\n",
       "      <td>-0.65</td>\n",
       "      <td>358500.00</td>\n",
       "      <td>1.25</td>\n",
       "    </tr>\n",
       "    <tr>\n",
       "      <th>2</th>\n",
       "      <td>52.00</td>\n",
       "      <td>3.00</td>\n",
       "      <td>352100.00</td>\n",
       "      <td>1.17</td>\n",
       "    </tr>\n",
       "    <tr>\n",
       "      <th>3</th>\n",
       "      <td>52.00</td>\n",
       "      <td>3.00</td>\n",
       "      <td>341300.00</td>\n",
       "      <td>1.04</td>\n",
       "    </tr>\n",
       "    <tr>\n",
       "      <th>4</th>\n",
       "      <td>52.00</td>\n",
       "      <td>3.00</td>\n",
       "      <td>342200.00</td>\n",
       "      <td>1.05</td>\n",
       "    </tr>\n",
       "    <tr>\n",
       "      <th>...</th>\n",
       "      <td>...</td>\n",
       "      <td>...</td>\n",
       "      <td>...</td>\n",
       "      <td>...</td>\n",
       "    </tr>\n",
       "    <tr>\n",
       "      <th>20635</th>\n",
       "      <td>25.00</td>\n",
       "      <td>-0.18</td>\n",
       "      <td>78100.00</td>\n",
       "      <td>-2.22</td>\n",
       "    </tr>\n",
       "    <tr>\n",
       "      <th>20636</th>\n",
       "      <td>18.00</td>\n",
       "      <td>-1.00</td>\n",
       "      <td>77100.00</td>\n",
       "      <td>-2.23</td>\n",
       "    </tr>\n",
       "    <tr>\n",
       "      <th>20637</th>\n",
       "      <td>17.00</td>\n",
       "      <td>-1.12</td>\n",
       "      <td>92300.00</td>\n",
       "      <td>-2.04</td>\n",
       "    </tr>\n",
       "    <tr>\n",
       "      <th>20638</th>\n",
       "      <td>18.00</td>\n",
       "      <td>-1.00</td>\n",
       "      <td>84700.00</td>\n",
       "      <td>-2.14</td>\n",
       "    </tr>\n",
       "    <tr>\n",
       "      <th>20639</th>\n",
       "      <td>16.00</td>\n",
       "      <td>-1.24</td>\n",
       "      <td>89400.00</td>\n",
       "      <td>-2.08</td>\n",
       "    </tr>\n",
       "  </tbody>\n",
       "</table>\n",
       "<p>20640 rows × 4 columns</p>\n",
       "</div>"
      ],
      "text/plain": [
       "       housing_median_age  housing_median_age_min_max_norm  \\\n",
       "0                   41.00                             1.71   \n",
       "1                   21.00                            -0.65   \n",
       "2                   52.00                             3.00   \n",
       "3                   52.00                             3.00   \n",
       "4                   52.00                             3.00   \n",
       "...                   ...                              ...   \n",
       "20635               25.00                            -0.18   \n",
       "20636               18.00                            -1.00   \n",
       "20637               17.00                            -1.12   \n",
       "20638               18.00                            -1.00   \n",
       "20639               16.00                            -1.24   \n",
       "\n",
       "       median_house_value  median_house_value_min_max_norm  \n",
       "0               452600.00                             2.41  \n",
       "1               358500.00                             1.25  \n",
       "2               352100.00                             1.17  \n",
       "3               341300.00                             1.04  \n",
       "4               342200.00                             1.05  \n",
       "...                   ...                              ...  \n",
       "20635            78100.00                            -2.22  \n",
       "20636            77100.00                            -2.23  \n",
       "20637            92300.00                            -2.04  \n",
       "20638            84700.00                            -2.14  \n",
       "20639            89400.00                            -2.08  \n",
       "\n",
       "[20640 rows x 4 columns]"
      ]
     },
     "execution_count": 26,
     "metadata": {},
     "output_type": "execute_result"
    }
   ],
   "source": [
    "df[['housing_median_age_min_max_norm', 'median_house_value_min_max_norm']] = min_max_scaler.transform(df[['housing_median_age', 'median_house_value']])\n",
    "\n",
    "df[['housing_median_age', 'housing_median_age_min_max_norm', \n",
    "    'median_house_value', 'median_house_value_min_max_norm']]"
   ]
  },
  {
   "cell_type": "code",
   "execution_count": 27,
   "metadata": {},
   "outputs": [
    {
     "data": {
      "text/plain": [
       "<AxesSubplot:ylabel='Count'>"
      ]
     },
     "execution_count": 27,
     "metadata": {},
     "output_type": "execute_result"
    },
    {
     "data": {
      "image/png": "[encoded data removed]",
      "text/plain": [
       "<Figure size 432x288 with 1 Axes>"
      ]
     },
     "metadata": {
      "needs_background": "light"
     },
     "output_type": "display_data"
    }
   ],
   "source": [
    "sns.histplot(df[['housing_median_age_min_max_norm', \n",
    "                 'median_house_value_min_max_norm']], \n",
    "             palette=['m', 'b'])"
   ]
  },
  {
   "cell_type": "code",
   "execution_count": 28,
   "metadata": {},
   "outputs": [
    {
     "data": {
      "text/plain": [
       "<AxesSubplot:>"
      ]
     },
     "execution_count": 28,
     "metadata": {},
     "output_type": "execute_result"
    },
    {
     "data": {
      "image/png": "[encoded data removed]",
      "text/plain": [
       "<Figure size 432x288 with 1 Axes>"
      ]
     },
     "metadata": {
      "needs_background": "light"
     },
     "output_type": "display_data"
    }
   ],
   "source": [
    "sns.boxplot(data=df[['housing_median_age_min_max_norm', \n",
    "                     'median_house_value_min_max_norm']], \n",
    "            palette=['m', 'b'])"
   ]
  },
  {
   "cell_type": "markdown",
   "metadata": {},
   "source": [
    "### MaxAbsScaler\n",
    "\n",
    "[sklearn.preprocessing.MaxAbsScaler](https://scikit-learn.org/stable/modules/generated/sklearn.preprocessing.MaxAbsScaler.html#sklearn.preprocessing.MaxAbsScaler)\n",
    "\n",
    "Масштабирует каждый признак по его максимальному абсолютному значению.\n",
    "\n",
    "Этот скейлер масштабирует и преобразует каждый признак индивидуально, так что максимальное абсолютное значение каждого признака составляет 1.0.\n",
    "\n",
    "**Скейлер не смещает / центрирует данные и, следовательно, не уничтожает разреженность (sparsity).**\n",
    "\n",
    "Для данных только с положительными значениями этот скейлер ведет себя аналогично `MinMaxScaler` и, следовательно, также **страдает от наличия выбросов**."
   ]
  },
  {
   "cell_type": "code",
   "execution_count": 29,
   "metadata": {},
   "outputs": [
    {
     "data": {
      "text/plain": [
       "MaxAbsScaler()"
      ]
     },
     "execution_count": 29,
     "metadata": {},
     "output_type": "execute_result"
    }
   ],
   "source": [
    "from sklearn.preprocessing import MaxAbsScaler\n",
    "\n",
    "max_abs_scaler = MaxAbsScaler()\n",
    "max_abs_scaler"
   ]
  },
  {
   "cell_type": "code",
   "execution_count": 30,
   "metadata": {},
   "outputs": [
    {
     "data": {
      "text/plain": [
       "MaxAbsScaler()"
      ]
     },
     "execution_count": 30,
     "metadata": {},
     "output_type": "execute_result"
    }
   ],
   "source": [
    "max_abs_scaler.fit(df[['housing_median_age', 'median_house_value']])"
   ]
  },
  {
   "cell_type": "code",
   "execution_count": 31,
   "metadata": {},
   "outputs": [
    {
     "data": {
      "text/plain": [
       "array([5.20000e+01, 5.00001e+05])"
      ]
     },
     "execution_count": 31,
     "metadata": {},
     "output_type": "execute_result"
    }
   ],
   "source": [
    "max_abs_scaler.scale_"
   ]
  },
  {
   "cell_type": "code",
   "execution_count": 32,
   "metadata": {},
   "outputs": [
    {
     "data": {
      "text/html": [
       "<div>\n",
       "<style scoped>\n",
       "    .dataframe tbody tr th:only-of-type {\n",
       "        vertical-align: middle;\n",
       "    }\n",
       "\n",
       "    .dataframe tbody tr th {\n",
       "        vertical-align: top;\n",
       "    }\n",
       "\n",
       "    .dataframe thead th {\n",
       "        text-align: right;\n",
       "    }\n",
       "</style>\n",
       "<table border=\"1\" class=\"dataframe\">\n",
       "  <thead>\n",
       "    <tr style=\"text-align: right;\">\n",
       "      <th></th>\n",
       "      <th>housing_median_age</th>\n",
       "      <th>housing_median_age_max_abs_norm</th>\n",
       "      <th>median_house_value</th>\n",
       "      <th>median_house_value_max_abs_norm</th>\n",
       "    </tr>\n",
       "  </thead>\n",
       "  <tbody>\n",
       "    <tr>\n",
       "      <th>0</th>\n",
       "      <td>41.00</td>\n",
       "      <td>0.79</td>\n",
       "      <td>452600.00</td>\n",
       "      <td>0.91</td>\n",
       "    </tr>\n",
       "    <tr>\n",
       "      <th>1</th>\n",
       "      <td>21.00</td>\n",
       "      <td>0.40</td>\n",
       "      <td>358500.00</td>\n",
       "      <td>0.72</td>\n",
       "    </tr>\n",
       "    <tr>\n",
       "      <th>2</th>\n",
       "      <td>52.00</td>\n",
       "      <td>1.00</td>\n",
       "      <td>352100.00</td>\n",
       "      <td>0.70</td>\n",
       "    </tr>\n",
       "    <tr>\n",
       "      <th>3</th>\n",
       "      <td>52.00</td>\n",
       "      <td>1.00</td>\n",
       "      <td>341300.00</td>\n",
       "      <td>0.68</td>\n",
       "    </tr>\n",
       "    <tr>\n",
       "      <th>4</th>\n",
       "      <td>52.00</td>\n",
       "      <td>1.00</td>\n",
       "      <td>342200.00</td>\n",
       "      <td>0.68</td>\n",
       "    </tr>\n",
       "    <tr>\n",
       "      <th>...</th>\n",
       "      <td>...</td>\n",
       "      <td>...</td>\n",
       "      <td>...</td>\n",
       "      <td>...</td>\n",
       "    </tr>\n",
       "    <tr>\n",
       "      <th>20635</th>\n",
       "      <td>25.00</td>\n",
       "      <td>0.48</td>\n",
       "      <td>78100.00</td>\n",
       "      <td>0.16</td>\n",
       "    </tr>\n",
       "    <tr>\n",
       "      <th>20636</th>\n",
       "      <td>18.00</td>\n",
       "      <td>0.35</td>\n",
       "      <td>77100.00</td>\n",
       "      <td>0.15</td>\n",
       "    </tr>\n",
       "    <tr>\n",
       "      <th>20637</th>\n",
       "      <td>17.00</td>\n",
       "      <td>0.33</td>\n",
       "      <td>92300.00</td>\n",
       "      <td>0.18</td>\n",
       "    </tr>\n",
       "    <tr>\n",
       "      <th>20638</th>\n",
       "      <td>18.00</td>\n",
       "      <td>0.35</td>\n",
       "      <td>84700.00</td>\n",
       "      <td>0.17</td>\n",
       "    </tr>\n",
       "    <tr>\n",
       "      <th>20639</th>\n",
       "      <td>16.00</td>\n",
       "      <td>0.31</td>\n",
       "      <td>89400.00</td>\n",
       "      <td>0.18</td>\n",
       "    </tr>\n",
       "  </tbody>\n",
       "</table>\n",
       "<p>20640 rows × 4 columns</p>\n",
       "</div>"
      ],
      "text/plain": [
       "       housing_median_age  housing_median_age_max_abs_norm  \\\n",
       "0                   41.00                             0.79   \n",
       "1                   21.00                             0.40   \n",
       "2                   52.00                             1.00   \n",
       "3                   52.00                             1.00   \n",
       "4                   52.00                             1.00   \n",
       "...                   ...                              ...   \n",
       "20635               25.00                             0.48   \n",
       "20636               18.00                             0.35   \n",
       "20637               17.00                             0.33   \n",
       "20638               18.00                             0.35   \n",
       "20639               16.00                             0.31   \n",
       "\n",
       "       median_house_value  median_house_value_max_abs_norm  \n",
       "0               452600.00                             0.91  \n",
       "1               358500.00                             0.72  \n",
       "2               352100.00                             0.70  \n",
       "3               341300.00                             0.68  \n",
       "4               342200.00                             0.68  \n",
       "...                   ...                              ...  \n",
       "20635            78100.00                             0.16  \n",
       "20636            77100.00                             0.15  \n",
       "20637            92300.00                             0.18  \n",
       "20638            84700.00                             0.17  \n",
       "20639            89400.00                             0.18  \n",
       "\n",
       "[20640 rows x 4 columns]"
      ]
     },
     "execution_count": 32,
     "metadata": {},
     "output_type": "execute_result"
    }
   ],
   "source": [
    "df[['housing_median_age_max_abs_norm', 'median_house_value_max_abs_norm']] = max_abs_scaler.transform(df[['housing_median_age', 'median_house_value']])\n",
    "\n",
    "df[['housing_median_age', 'housing_median_age_max_abs_norm', \n",
    "    'median_house_value', 'median_house_value_max_abs_norm']]"
   ]
  },
  {
   "cell_type": "code",
   "execution_count": 33,
   "metadata": {},
   "outputs": [
    {
     "data": {
      "text/plain": [
       "<AxesSubplot:ylabel='Count'>"
      ]
     },
     "execution_count": 33,
     "metadata": {},
     "output_type": "execute_result"
    },
    {
     "data": {
      "image/png": "[encoded data removed]",
      "text/plain": [
       "<Figure size 432x288 with 1 Axes>"
      ]
     },
     "metadata": {
      "needs_background": "light"
     },
     "output_type": "display_data"
    }
   ],
   "source": [
    "sns.histplot(df[['housing_median_age_max_abs_norm', \n",
    "                 'median_house_value_max_abs_norm']], \n",
    "             palette=['m', 'b'])"
   ]
  },
  {
   "cell_type": "code",
   "execution_count": 34,
   "metadata": {},
   "outputs": [
    {
     "data": {
      "text/plain": [
       "<AxesSubplot:>"
      ]
     },
     "execution_count": 34,
     "metadata": {},
     "output_type": "execute_result"
    },
    {
     "data": {
      "image/png": "[encoded data removed]",
      "text/plain": [
       "<Figure size 432x288 with 1 Axes>"
      ]
     },
     "metadata": {
      "needs_background": "light"
     },
     "output_type": "display_data"
    }
   ],
   "source": [
    "sns.boxplot(data=df[['housing_median_age_max_abs_norm', \n",
    "                     'median_house_value_max_abs_norm']], \n",
    "            palette=['m', 'b'])"
   ]
  },
  {
   "cell_type": "markdown",
   "metadata": {},
   "source": [
    "### Robust scaling\n",
    "\n",
    "[sklearn.preprocessing.RobustScaler](https://scikit-learn.org/stable/modules/generated/sklearn.preprocessing.RobustScaler.html)\n",
    "\n",
    "Масштабирует признаки, используя статистику, **устойчивую к выбросам**.\n",
    "\n",
    "Этот скейлер удаляет медианное значение и масштабирует данные в соответствии с квантильным диапазоном (по умолчанию IQR: межквартильный диапазон). \n",
    "\n",
    "IQR - это диапазон между 1-м квартилем (25-й квантиль) и 3-м квартилем (75-й квантиль).\n",
    "\n",
    "Обратите внимание, что сами **выбросы все еще присутствуют в преобразованных данных**.\n",
    "\n",
    "Если желательно отдельное отсечение выбросов, то требуется нелинейное преобразование (маштабирование ~ линейное преобразование)."
   ]
  },
  {
   "cell_type": "code",
   "execution_count": 35,
   "metadata": {},
   "outputs": [
    {
     "data": {
      "text/plain": [
       "RobustScaler()"
      ]
     },
     "execution_count": 35,
     "metadata": {},
     "output_type": "execute_result"
    }
   ],
   "source": [
    "from sklearn.preprocessing import RobustScaler\n",
    "\n",
    "robust_scaler = RobustScaler()\n",
    "robust_scaler"
   ]
  },
  {
   "cell_type": "code",
   "execution_count": 36,
   "metadata": {},
   "outputs": [
    {
     "data": {
      "text/plain": [
       "RobustScaler()"
      ]
     },
     "execution_count": 36,
     "metadata": {},
     "output_type": "execute_result"
    }
   ],
   "source": [
    "robust_scaler.fit(df[['housing_median_age', 'median_house_value']])"
   ]
  },
  {
   "cell_type": "code",
   "execution_count": 37,
   "metadata": {},
   "outputs": [
    {
     "data": {
      "text/plain": [
       "array([1.90000e+01, 1.45125e+05])"
      ]
     },
     "execution_count": 37,
     "metadata": {},
     "output_type": "execute_result"
    }
   ],
   "source": [
    "robust_scaler.scale_"
   ]
  },
  {
   "cell_type": "code",
   "execution_count": 38,
   "metadata": {},
   "outputs": [
    {
     "data": {
      "text/html": [
       "<div>\n",
       "<style scoped>\n",
       "    .dataframe tbody tr th:only-of-type {\n",
       "        vertical-align: middle;\n",
       "    }\n",
       "\n",
       "    .dataframe tbody tr th {\n",
       "        vertical-align: top;\n",
       "    }\n",
       "\n",
       "    .dataframe thead th {\n",
       "        text-align: right;\n",
       "    }\n",
       "</style>\n",
       "<table border=\"1\" class=\"dataframe\">\n",
       "  <thead>\n",
       "    <tr style=\"text-align: right;\">\n",
       "      <th></th>\n",
       "      <th>housing_median_age</th>\n",
       "      <th>housing_median_age_robust_norm</th>\n",
       "      <th>median_house_value</th>\n",
       "      <th>median_house_value_robust_norm</th>\n",
       "    </tr>\n",
       "  </thead>\n",
       "  <tbody>\n",
       "    <tr>\n",
       "      <th>0</th>\n",
       "      <td>41.00</td>\n",
       "      <td>0.63</td>\n",
       "      <td>452600.00</td>\n",
       "      <td>1.88</td>\n",
       "    </tr>\n",
       "    <tr>\n",
       "      <th>1</th>\n",
       "      <td>21.00</td>\n",
       "      <td>-0.42</td>\n",
       "      <td>358500.00</td>\n",
       "      <td>1.23</td>\n",
       "    </tr>\n",
       "    <tr>\n",
       "      <th>2</th>\n",
       "      <td>52.00</td>\n",
       "      <td>1.21</td>\n",
       "      <td>352100.00</td>\n",
       "      <td>1.19</td>\n",
       "    </tr>\n",
       "    <tr>\n",
       "      <th>3</th>\n",
       "      <td>52.00</td>\n",
       "      <td>1.21</td>\n",
       "      <td>341300.00</td>\n",
       "      <td>1.11</td>\n",
       "    </tr>\n",
       "    <tr>\n",
       "      <th>4</th>\n",
       "      <td>52.00</td>\n",
       "      <td>1.21</td>\n",
       "      <td>342200.00</td>\n",
       "      <td>1.12</td>\n",
       "    </tr>\n",
       "    <tr>\n",
       "      <th>...</th>\n",
       "      <td>...</td>\n",
       "      <td>...</td>\n",
       "      <td>...</td>\n",
       "      <td>...</td>\n",
       "    </tr>\n",
       "    <tr>\n",
       "      <th>20635</th>\n",
       "      <td>25.00</td>\n",
       "      <td>-0.21</td>\n",
       "      <td>78100.00</td>\n",
       "      <td>-0.70</td>\n",
       "    </tr>\n",
       "    <tr>\n",
       "      <th>20636</th>\n",
       "      <td>18.00</td>\n",
       "      <td>-0.58</td>\n",
       "      <td>77100.00</td>\n",
       "      <td>-0.71</td>\n",
       "    </tr>\n",
       "    <tr>\n",
       "      <th>20637</th>\n",
       "      <td>17.00</td>\n",
       "      <td>-0.63</td>\n",
       "      <td>92300.00</td>\n",
       "      <td>-0.60</td>\n",
       "    </tr>\n",
       "    <tr>\n",
       "      <th>20638</th>\n",
       "      <td>18.00</td>\n",
       "      <td>-0.58</td>\n",
       "      <td>84700.00</td>\n",
       "      <td>-0.65</td>\n",
       "    </tr>\n",
       "    <tr>\n",
       "      <th>20639</th>\n",
       "      <td>16.00</td>\n",
       "      <td>-0.68</td>\n",
       "      <td>89400.00</td>\n",
       "      <td>-0.62</td>\n",
       "    </tr>\n",
       "  </tbody>\n",
       "</table>\n",
       "<p>20640 rows × 4 columns</p>\n",
       "</div>"
      ],
      "text/plain": [
       "       housing_median_age  housing_median_age_robust_norm  median_house_value  \\\n",
       "0                   41.00                            0.63           452600.00   \n",
       "1                   21.00                           -0.42           358500.00   \n",
       "2                   52.00                            1.21           352100.00   \n",
       "3                   52.00                            1.21           341300.00   \n",
       "4                   52.00                            1.21           342200.00   \n",
       "...                   ...                             ...                 ...   \n",
       "20635               25.00                           -0.21            78100.00   \n",
       "20636               18.00                           -0.58            77100.00   \n",
       "20637               17.00                           -0.63            92300.00   \n",
       "20638               18.00                           -0.58            84700.00   \n",
       "20639               16.00                           -0.68            89400.00   \n",
       "\n",
       "       median_house_value_robust_norm  \n",
       "0                                1.88  \n",
       "1                                1.23  \n",
       "2                                1.19  \n",
       "3                                1.11  \n",
       "4                                1.12  \n",
       "...                               ...  \n",
       "20635                           -0.70  \n",
       "20636                           -0.71  \n",
       "20637                           -0.60  \n",
       "20638                           -0.65  \n",
       "20639                           -0.62  \n",
       "\n",
       "[20640 rows x 4 columns]"
      ]
     },
     "execution_count": 38,
     "metadata": {},
     "output_type": "execute_result"
    }
   ],
   "source": [
    "df[['housing_median_age_robust_norm', 'median_house_value_robust_norm']] = robust_scaler.transform(df[['housing_median_age', 'median_house_value']])\n",
    "\n",
    "df[['housing_median_age', 'housing_median_age_robust_norm', \n",
    "    'median_house_value', 'median_house_value_robust_norm']]"
   ]
  },
  {
   "cell_type": "code",
   "execution_count": 39,
   "metadata": {},
   "outputs": [
    {
     "data": {
      "text/plain": [
       "<AxesSubplot:ylabel='Count'>"
      ]
     },
     "execution_count": 39,
     "metadata": {},
     "output_type": "execute_result"
    },
    {
     "data": {
      "image/png": "[encoded data removed]",
      "text/plain": [
       "<Figure size 432x288 with 1 Axes>"
      ]
     },
     "metadata": {
      "needs_background": "light"
     },
     "output_type": "display_data"
    }
   ],
   "source": [
    "sns.histplot(df[['housing_median_age_robust_norm', \n",
    "                 'median_house_value_robust_norm']], \n",
    "             palette=['m', 'b'])"
   ]
  },
  {
   "cell_type": "code",
   "execution_count": 40,
   "metadata": {},
   "outputs": [
    {
     "data": {
      "text/plain": [
       "<AxesSubplot:>"
      ]
     },
     "execution_count": 40,
     "metadata": {},
     "output_type": "execute_result"
    },
    {
     "data": {
      "image/png": "[encoded data removed]",
      "text/plain": [
       "<Figure size 432x288 with 1 Axes>"
      ]
     },
     "metadata": {
      "needs_background": "light"
     },
     "output_type": "display_data"
    }
   ],
   "source": [
    "sns.boxplot(data=df[['housing_median_age_robust_norm', \n",
    "                     'median_house_value_robust_norm']], \n",
    "            palette=['m', 'b'])"
   ]
  },
  {
   "cell_type": "markdown",
   "metadata": {},
   "source": [
    "### Квантильный преобразователь (`QuantileTransformer`)\n",
    "\n",
    "[sklearn.preprocessing.QuantileTransformer](https://scikit-learn.org/stable/modules/generated/sklearn.preprocessing.QuantileTransformer.html)\n",
    "\n",
    "Этот метод преобразует признаки в соответствии с **равномерным (uniform) или нормальным распределением**.\n",
    "\n",
    "Следовательно, для признаков это преобразование имеет тенденцию разбрасывать наиболее частые значения.\n",
    "\n",
    "Это также снижает влияние (маргинальных) выбросов: следовательно, это **робастная (robust)** схема предварительной обработки.\n",
    "\n",
    "Обратите внимание, что это **преобразование является нелинейным** и может **искажать линейные корреляции** между переменными, измеренными в одном масштабе, но делает переменные, измеренные в разных масштабах, более сопоставимыми. Это также иногда называют Rank scaler."
   ]
  },
  {
   "cell_type": "code",
   "execution_count": 41,
   "metadata": {},
   "outputs": [
    {
     "data": {
      "text/plain": [
       "QuantileTransformer()"
      ]
     },
     "execution_count": 41,
     "metadata": {},
     "output_type": "execute_result"
    }
   ],
   "source": [
    "from sklearn.preprocessing import QuantileTransformer\n",
    "\n",
    "quant_scaler = QuantileTransformer()\n",
    "quant_scaler"
   ]
  },
  {
   "cell_type": "code",
   "execution_count": 42,
   "metadata": {},
   "outputs": [
    {
     "data": {
      "text/plain": [
       "QuantileTransformer()"
      ]
     },
     "execution_count": 42,
     "metadata": {},
     "output_type": "execute_result"
    }
   ],
   "source": [
    "quant_scaler.fit(df[['housing_median_age', 'median_house_value']])"
   ]
  },
  {
   "cell_type": "code",
   "execution_count": 43,
   "metadata": {},
   "outputs": [
    {
     "data": {
      "text/html": [
       "<div>\n",
       "<style scoped>\n",
       "    .dataframe tbody tr th:only-of-type {\n",
       "        vertical-align: middle;\n",
       "    }\n",
       "\n",
       "    .dataframe tbody tr th {\n",
       "        vertical-align: top;\n",
       "    }\n",
       "\n",
       "    .dataframe thead th {\n",
       "        text-align: right;\n",
       "    }\n",
       "</style>\n",
       "<table border=\"1\" class=\"dataframe\">\n",
       "  <thead>\n",
       "    <tr style=\"text-align: right;\">\n",
       "      <th></th>\n",
       "      <th>housing_median_age</th>\n",
       "      <th>housing_median_age_quant_norm</th>\n",
       "      <th>median_house_value</th>\n",
       "      <th>median_house_value_quant_norm</th>\n",
       "    </tr>\n",
       "  </thead>\n",
       "  <tbody>\n",
       "    <tr>\n",
       "      <th>0</th>\n",
       "      <td>41.00</td>\n",
       "      <td>0.63</td>\n",
       "      <td>452600.00</td>\n",
       "      <td>1.88</td>\n",
       "    </tr>\n",
       "    <tr>\n",
       "      <th>1</th>\n",
       "      <td>21.00</td>\n",
       "      <td>-0.42</td>\n",
       "      <td>358500.00</td>\n",
       "      <td>1.23</td>\n",
       "    </tr>\n",
       "    <tr>\n",
       "      <th>2</th>\n",
       "      <td>52.00</td>\n",
       "      <td>1.21</td>\n",
       "      <td>352100.00</td>\n",
       "      <td>1.19</td>\n",
       "    </tr>\n",
       "    <tr>\n",
       "      <th>3</th>\n",
       "      <td>52.00</td>\n",
       "      <td>1.21</td>\n",
       "      <td>341300.00</td>\n",
       "      <td>1.11</td>\n",
       "    </tr>\n",
       "    <tr>\n",
       "      <th>4</th>\n",
       "      <td>52.00</td>\n",
       "      <td>1.21</td>\n",
       "      <td>342200.00</td>\n",
       "      <td>1.12</td>\n",
       "    </tr>\n",
       "    <tr>\n",
       "      <th>...</th>\n",
       "      <td>...</td>\n",
       "      <td>...</td>\n",
       "      <td>...</td>\n",
       "      <td>...</td>\n",
       "    </tr>\n",
       "    <tr>\n",
       "      <th>20635</th>\n",
       "      <td>25.00</td>\n",
       "      <td>-0.21</td>\n",
       "      <td>78100.00</td>\n",
       "      <td>-0.70</td>\n",
       "    </tr>\n",
       "    <tr>\n",
       "      <th>20636</th>\n",
       "      <td>18.00</td>\n",
       "      <td>-0.58</td>\n",
       "      <td>77100.00</td>\n",
       "      <td>-0.71</td>\n",
       "    </tr>\n",
       "    <tr>\n",
       "      <th>20637</th>\n",
       "      <td>17.00</td>\n",
       "      <td>-0.63</td>\n",
       "      <td>92300.00</td>\n",
       "      <td>-0.60</td>\n",
       "    </tr>\n",
       "    <tr>\n",
       "      <th>20638</th>\n",
       "      <td>18.00</td>\n",
       "      <td>-0.58</td>\n",
       "      <td>84700.00</td>\n",
       "      <td>-0.65</td>\n",
       "    </tr>\n",
       "    <tr>\n",
       "      <th>20639</th>\n",
       "      <td>16.00</td>\n",
       "      <td>-0.68</td>\n",
       "      <td>89400.00</td>\n",
       "      <td>-0.62</td>\n",
       "    </tr>\n",
       "  </tbody>\n",
       "</table>\n",
       "<p>20640 rows × 4 columns</p>\n",
       "</div>"
      ],
      "text/plain": [
       "       housing_median_age  housing_median_age_quant_norm  median_house_value  \\\n",
       "0                   41.00                           0.63           452600.00   \n",
       "1                   21.00                          -0.42           358500.00   \n",
       "2                   52.00                           1.21           352100.00   \n",
       "3                   52.00                           1.21           341300.00   \n",
       "4                   52.00                           1.21           342200.00   \n",
       "...                   ...                            ...                 ...   \n",
       "20635               25.00                          -0.21            78100.00   \n",
       "20636               18.00                          -0.58            77100.00   \n",
       "20637               17.00                          -0.63            92300.00   \n",
       "20638               18.00                          -0.58            84700.00   \n",
       "20639               16.00                          -0.68            89400.00   \n",
       "\n",
       "       median_house_value_quant_norm  \n",
       "0                               1.88  \n",
       "1                               1.23  \n",
       "2                               1.19  \n",
       "3                               1.11  \n",
       "4                               1.12  \n",
       "...                              ...  \n",
       "20635                          -0.70  \n",
       "20636                          -0.71  \n",
       "20637                          -0.60  \n",
       "20638                          -0.65  \n",
       "20639                          -0.62  \n",
       "\n",
       "[20640 rows x 4 columns]"
      ]
     },
     "execution_count": 43,
     "metadata": {},
     "output_type": "execute_result"
    }
   ],
   "source": [
    "df[['housing_median_age_quant_norm', 'median_house_value_quant_norm']] = robust_scaler.transform(df[['housing_median_age', 'median_house_value']])\n",
    "\n",
    "df[['housing_median_age', 'housing_median_age_quant_norm', \n",
    "    'median_house_value', 'median_house_value_quant_norm']]"
   ]
  },
  {
   "cell_type": "code",
   "execution_count": 44,
   "metadata": {},
   "outputs": [
    {
     "data": {
      "text/plain": [
       "<AxesSubplot:ylabel='Count'>"
      ]
     },
     "execution_count": 44,
     "metadata": {},
     "output_type": "execute_result"
    },
    {
     "data": {
      "image/png": "[encoded data removed]",
      "text/plain": [
       "<Figure size 432x288 with 1 Axes>"
      ]
     },
     "metadata": {
      "needs_background": "light"
     },
     "output_type": "display_data"
    }
   ],
   "source": [
    "sns.histplot(df[['housing_median_age_quant_norm', \n",
    "                 'median_house_value_quant_norm']], \n",
    "             palette=['m', 'b'])"
   ]
  },
  {
   "cell_type": "code",
   "execution_count": 45,
   "metadata": {},
   "outputs": [
    {
     "data": {
      "text/plain": [
       "<AxesSubplot:>"
      ]
     },
     "execution_count": 45,
     "metadata": {},
     "output_type": "execute_result"
    },
    {
     "data": {
      "image/png": "[encoded data removed]",
      "text/plain": [
       "<Figure size 432x288 with 1 Axes>"
      ]
     },
     "metadata": {
      "needs_background": "light"
     },
     "output_type": "display_data"
    }
   ],
   "source": [
    "sns.boxplot(data=df[['housing_median_age_quant_norm', \n",
    "                     'median_house_value_quant_norm']], \n",
    "            palette=['m', 'b'])"
   ]
  },
  {
   "cell_type": "markdown",
   "metadata": {},
   "source": [
    "### *`PowerTransformer`\n",
    "\n",
    "[sklearn.preprocessing.PowerTransformer](https://scikit-learn.org/stable/modules/generated/sklearn.preprocessing.PowerTransformer.html)\n",
    "\n",
    "`PowerTransformer` - это семейство параметрических монотонных преобразований, которые применяются для придания данным более гауссовского типа (Gaussian-like).\n",
    "\n",
    "Это полезно для моделирования проблем, связанных с изменчивостью переменной, которая неодинакова по диапазону ([гетероскедастичность/heteroscedasticity](https://ru.wikipedia.org/wiki/%D0%93%D0%B5%D1%82%D0%B5%D1%80%D0%BE%D1%81%D0%BA%D0%B5%D0%B4%D0%B0%D1%81%D1%82%D0%B8%D1%87%D0%BD%D0%BE%D1%81%D1%82%D1%8C)), или ситуаций, когда желательна нормальность."
   ]
  },
  {
   "cell_type": "code",
   "execution_count": 46,
   "metadata": {},
   "outputs": [
    {
     "data": {
      "text/plain": [
       "PowerTransformer()"
      ]
     },
     "execution_count": 46,
     "metadata": {},
     "output_type": "execute_result"
    }
   ],
   "source": [
    "from sklearn.preprocessing import PowerTransformer\n",
    "\n",
    "power_scaler = PowerTransformer()\n",
    "power_scaler"
   ]
  },
  {
   "cell_type": "code",
   "execution_count": 47,
   "metadata": {},
   "outputs": [
    {
     "data": {
      "text/plain": [
       "PowerTransformer()"
      ]
     },
     "execution_count": 47,
     "metadata": {},
     "output_type": "execute_result"
    }
   ],
   "source": [
    "power_scaler.fit(df[['housing_median_age', 'median_house_value']])"
   ]
  },
  {
   "cell_type": "code",
   "execution_count": 48,
   "metadata": {},
   "outputs": [
    {
     "data": {
      "text/html": [
       "<div>\n",
       "<style scoped>\n",
       "    .dataframe tbody tr th:only-of-type {\n",
       "        vertical-align: middle;\n",
       "    }\n",
       "\n",
       "    .dataframe tbody tr th {\n",
       "        vertical-align: top;\n",
       "    }\n",
       "\n",
       "    .dataframe thead th {\n",
       "        text-align: right;\n",
       "    }\n",
       "</style>\n",
       "<table border=\"1\" class=\"dataframe\">\n",
       "  <thead>\n",
       "    <tr style=\"text-align: right;\">\n",
       "      <th></th>\n",
       "      <th>housing_median_age</th>\n",
       "      <th>housing_median_age_power_norm</th>\n",
       "      <th>median_house_value</th>\n",
       "      <th>median_house_value_power_norm</th>\n",
       "    </tr>\n",
       "  </thead>\n",
       "  <tbody>\n",
       "    <tr>\n",
       "      <th>0</th>\n",
       "      <td>41.00</td>\n",
       "      <td>0.63</td>\n",
       "      <td>452600.00</td>\n",
       "      <td>1.88</td>\n",
       "    </tr>\n",
       "    <tr>\n",
       "      <th>1</th>\n",
       "      <td>21.00</td>\n",
       "      <td>-0.42</td>\n",
       "      <td>358500.00</td>\n",
       "      <td>1.23</td>\n",
       "    </tr>\n",
       "    <tr>\n",
       "      <th>2</th>\n",
       "      <td>52.00</td>\n",
       "      <td>1.21</td>\n",
       "      <td>352100.00</td>\n",
       "      <td>1.19</td>\n",
       "    </tr>\n",
       "    <tr>\n",
       "      <th>3</th>\n",
       "      <td>52.00</td>\n",
       "      <td>1.21</td>\n",
       "      <td>341300.00</td>\n",
       "      <td>1.11</td>\n",
       "    </tr>\n",
       "    <tr>\n",
       "      <th>4</th>\n",
       "      <td>52.00</td>\n",
       "      <td>1.21</td>\n",
       "      <td>342200.00</td>\n",
       "      <td>1.12</td>\n",
       "    </tr>\n",
       "    <tr>\n",
       "      <th>...</th>\n",
       "      <td>...</td>\n",
       "      <td>...</td>\n",
       "      <td>...</td>\n",
       "      <td>...</td>\n",
       "    </tr>\n",
       "    <tr>\n",
       "      <th>20635</th>\n",
       "      <td>25.00</td>\n",
       "      <td>-0.21</td>\n",
       "      <td>78100.00</td>\n",
       "      <td>-0.70</td>\n",
       "    </tr>\n",
       "    <tr>\n",
       "      <th>20636</th>\n",
       "      <td>18.00</td>\n",
       "      <td>-0.58</td>\n",
       "      <td>77100.00</td>\n",
       "      <td>-0.71</td>\n",
       "    </tr>\n",
       "    <tr>\n",
       "      <th>20637</th>\n",
       "      <td>17.00</td>\n",
       "      <td>-0.63</td>\n",
       "      <td>92300.00</td>\n",
       "      <td>-0.60</td>\n",
       "    </tr>\n",
       "    <tr>\n",
       "      <th>20638</th>\n",
       "      <td>18.00</td>\n",
       "      <td>-0.58</td>\n",
       "      <td>84700.00</td>\n",
       "      <td>-0.65</td>\n",
       "    </tr>\n",
       "    <tr>\n",
       "      <th>20639</th>\n",
       "      <td>16.00</td>\n",
       "      <td>-0.68</td>\n",
       "      <td>89400.00</td>\n",
       "      <td>-0.62</td>\n",
       "    </tr>\n",
       "  </tbody>\n",
       "</table>\n",
       "<p>20640 rows × 4 columns</p>\n",
       "</div>"
      ],
      "text/plain": [
       "       housing_median_age  housing_median_age_power_norm  median_house_value  \\\n",
       "0                   41.00                           0.63           452600.00   \n",
       "1                   21.00                          -0.42           358500.00   \n",
       "2                   52.00                           1.21           352100.00   \n",
       "3                   52.00                           1.21           341300.00   \n",
       "4                   52.00                           1.21           342200.00   \n",
       "...                   ...                            ...                 ...   \n",
       "20635               25.00                          -0.21            78100.00   \n",
       "20636               18.00                          -0.58            77100.00   \n",
       "20637               17.00                          -0.63            92300.00   \n",
       "20638               18.00                          -0.58            84700.00   \n",
       "20639               16.00                          -0.68            89400.00   \n",
       "\n",
       "       median_house_value_power_norm  \n",
       "0                               1.88  \n",
       "1                               1.23  \n",
       "2                               1.19  \n",
       "3                               1.11  \n",
       "4                               1.12  \n",
       "...                              ...  \n",
       "20635                          -0.70  \n",
       "20636                          -0.71  \n",
       "20637                          -0.60  \n",
       "20638                          -0.65  \n",
       "20639                          -0.62  \n",
       "\n",
       "[20640 rows x 4 columns]"
      ]
     },
     "execution_count": 48,
     "metadata": {},
     "output_type": "execute_result"
    }
   ],
   "source": [
    "df[['housing_median_age_power_norm', 'median_house_value_power_norm']] = robust_scaler.transform(df[['housing_median_age', 'median_house_value']])\n",
    "\n",
    "df[['housing_median_age', 'housing_median_age_power_norm', \n",
    "    'median_house_value', 'median_house_value_power_norm']]"
   ]
  },
  {
   "cell_type": "code",
   "execution_count": 49,
   "metadata": {},
   "outputs": [
    {
     "data": {
      "text/plain": [
       "<AxesSubplot:ylabel='Count'>"
      ]
     },
     "execution_count": 49,
     "metadata": {},
     "output_type": "execute_result"
    },
    {
     "data": {
      "image/png": "[encoded data removed]",
      "text/plain": [
       "<Figure size 432x288 with 1 Axes>"
      ]
     },
     "metadata": {
      "needs_background": "light"
     },
     "output_type": "display_data"
    }
   ],
   "source": [
    "sns.histplot(df[['housing_median_age_power_norm', \n",
    "                 'median_house_value_power_norm']], \n",
    "             palette=['m', 'b'])"
   ]
  },
  {
   "cell_type": "code",
   "execution_count": 50,
   "metadata": {},
   "outputs": [
    {
     "data": {
      "text/plain": [
       "<AxesSubplot:>"
      ]
     },
     "execution_count": 50,
     "metadata": {},
     "output_type": "execute_result"
    },
    {
     "data": {
      "image/png": "[encoded data removed]",
      "text/plain": [
       "<Figure size 432x288 with 1 Axes>"
      ]
     },
     "metadata": {
      "needs_background": "light"
     },
     "output_type": "display_data"
    }
   ],
   "source": [
    "sns.boxplot(data=df[['housing_median_age_power_norm', \n",
    "                     'median_house_value_power_norm']], \n",
    "            palette=['m', 'b'])"
   ]
  },
  {
   "cell_type": "markdown",
   "metadata": {},
   "source": [
    "## Стандартизация"
   ]
  },
  {
   "cell_type": "markdown",
   "metadata": {},
   "source": [
    "### Z-нормализация / z-score (`StandardScaler`)\n",
    "\n",
    "[sklearn.preprocessing.StandardScaler](https://scikit-learn.org/stable/modules/generated/sklearn.preprocessing.StandardScaler.html#sklearn.preprocessing.StandardScaler)\n",
    "\n",
    "<img src=\"images/standard_scaler_formula.png\" />\n",
    "\n",
    "\n",
    "Стандартизация функций путем удаления среднего (mean) и масштабирования до единичной дисперсии (unit variance).\n",
    "\n",
    "Величины, полученные этим методом, в статистике называют **Z-оценками**. \n",
    "\n",
    "<img src=\"./images/z-score.svg\" />\n",
    "\n",
    "`StandardScaler` предполагает, что данные **нормально распределены для каждого признака**, и масштабирует их так, чтобы распределение было сосредоточено вокруг 0 со стандартным отклонением 1.\n",
    "\n",
    "Центрирование и масштабирование происходят независимо для каждого признака путем вычисления соответствующей статистики по выборкам.\n",
    "\n",
    "**Если данные не нормально распределены, это НЕ лучший скейлер.**\n",
    "\n",
    "Недостаткам минимаксной нормализации является наличие аномальных значений данных, которые \"растягивают\" диапазон, что приводит к тому, что нормализованные значения опять же концентрируются в некотором узком диапазоне вблизи нуля. \n",
    "\n",
    "Эту проблему решает `RobustScaler`."
   ]
  },
  {
   "cell_type": "code",
   "execution_count": 51,
   "metadata": {},
   "outputs": [
    {
     "data": {
      "text/plain": [
       "StandardScaler()"
      ]
     },
     "execution_count": 51,
     "metadata": {},
     "output_type": "execute_result"
    }
   ],
   "source": [
    "from sklearn.preprocessing import StandardScaler\n",
    "\n",
    "std_scaler = StandardScaler()\n",
    "std_scaler"
   ]
  },
  {
   "cell_type": "code",
   "execution_count": 52,
   "metadata": {},
   "outputs": [
    {
     "data": {
      "text/plain": [
       "StandardScaler()"
      ]
     },
     "execution_count": 52,
     "metadata": {},
     "output_type": "execute_result"
    }
   ],
   "source": [
    "std_scaler.fit(df[['housing_median_age', 'median_house_value']])"
   ]
  },
  {
   "cell_type": "code",
   "execution_count": 53,
   "metadata": {},
   "outputs": [
    {
     "data": {
      "text/plain": [
       "array([2.86394864e+01, 2.06855817e+05])"
      ]
     },
     "execution_count": 53,
     "metadata": {},
     "output_type": "execute_result"
    }
   ],
   "source": [
    "std_scaler.mean_"
   ]
  },
  {
   "cell_type": "code",
   "execution_count": 54,
   "metadata": {},
   "outputs": [
    {
     "data": {
      "text/html": [
       "<div>\n",
       "<style scoped>\n",
       "    .dataframe tbody tr th:only-of-type {\n",
       "        vertical-align: middle;\n",
       "    }\n",
       "\n",
       "    .dataframe tbody tr th {\n",
       "        vertical-align: top;\n",
       "    }\n",
       "\n",
       "    .dataframe thead th {\n",
       "        text-align: right;\n",
       "    }\n",
       "</style>\n",
       "<table border=\"1\" class=\"dataframe\">\n",
       "  <thead>\n",
       "    <tr style=\"text-align: right;\">\n",
       "      <th></th>\n",
       "      <th>housing_median_age</th>\n",
       "      <th>housing_median_age_std_norm</th>\n",
       "      <th>median_house_value</th>\n",
       "      <th>median_house_value_std_norm</th>\n",
       "    </tr>\n",
       "  </thead>\n",
       "  <tbody>\n",
       "    <tr>\n",
       "      <th>0</th>\n",
       "      <td>41.00</td>\n",
       "      <td>0.98</td>\n",
       "      <td>452600.00</td>\n",
       "      <td>2.13</td>\n",
       "    </tr>\n",
       "    <tr>\n",
       "      <th>1</th>\n",
       "      <td>21.00</td>\n",
       "      <td>-0.61</td>\n",
       "      <td>358500.00</td>\n",
       "      <td>1.31</td>\n",
       "    </tr>\n",
       "    <tr>\n",
       "      <th>2</th>\n",
       "      <td>52.00</td>\n",
       "      <td>1.86</td>\n",
       "      <td>352100.00</td>\n",
       "      <td>1.26</td>\n",
       "    </tr>\n",
       "    <tr>\n",
       "      <th>3</th>\n",
       "      <td>52.00</td>\n",
       "      <td>1.86</td>\n",
       "      <td>341300.00</td>\n",
       "      <td>1.17</td>\n",
       "    </tr>\n",
       "    <tr>\n",
       "      <th>4</th>\n",
       "      <td>52.00</td>\n",
       "      <td>1.86</td>\n",
       "      <td>342200.00</td>\n",
       "      <td>1.17</td>\n",
       "    </tr>\n",
       "    <tr>\n",
       "      <th>...</th>\n",
       "      <td>...</td>\n",
       "      <td>...</td>\n",
       "      <td>...</td>\n",
       "      <td>...</td>\n",
       "    </tr>\n",
       "    <tr>\n",
       "      <th>20635</th>\n",
       "      <td>25.00</td>\n",
       "      <td>-0.29</td>\n",
       "      <td>78100.00</td>\n",
       "      <td>-1.12</td>\n",
       "    </tr>\n",
       "    <tr>\n",
       "      <th>20636</th>\n",
       "      <td>18.00</td>\n",
       "      <td>-0.85</td>\n",
       "      <td>77100.00</td>\n",
       "      <td>-1.12</td>\n",
       "    </tr>\n",
       "    <tr>\n",
       "      <th>20637</th>\n",
       "      <td>17.00</td>\n",
       "      <td>-0.92</td>\n",
       "      <td>92300.00</td>\n",
       "      <td>-0.99</td>\n",
       "    </tr>\n",
       "    <tr>\n",
       "      <th>20638</th>\n",
       "      <td>18.00</td>\n",
       "      <td>-0.85</td>\n",
       "      <td>84700.00</td>\n",
       "      <td>-1.06</td>\n",
       "    </tr>\n",
       "    <tr>\n",
       "      <th>20639</th>\n",
       "      <td>16.00</td>\n",
       "      <td>-1.00</td>\n",
       "      <td>89400.00</td>\n",
       "      <td>-1.02</td>\n",
       "    </tr>\n",
       "  </tbody>\n",
       "</table>\n",
       "<p>20640 rows × 4 columns</p>\n",
       "</div>"
      ],
      "text/plain": [
       "       housing_median_age  housing_median_age_std_norm  median_house_value  \\\n",
       "0                   41.00                         0.98           452600.00   \n",
       "1                   21.00                        -0.61           358500.00   \n",
       "2                   52.00                         1.86           352100.00   \n",
       "3                   52.00                         1.86           341300.00   \n",
       "4                   52.00                         1.86           342200.00   \n",
       "...                   ...                          ...                 ...   \n",
       "20635               25.00                        -0.29            78100.00   \n",
       "20636               18.00                        -0.85            77100.00   \n",
       "20637               17.00                        -0.92            92300.00   \n",
       "20638               18.00                        -0.85            84700.00   \n",
       "20639               16.00                        -1.00            89400.00   \n",
       "\n",
       "       median_house_value_std_norm  \n",
       "0                             2.13  \n",
       "1                             1.31  \n",
       "2                             1.26  \n",
       "3                             1.17  \n",
       "4                             1.17  \n",
       "...                            ...  \n",
       "20635                        -1.12  \n",
       "20636                        -1.12  \n",
       "20637                        -0.99  \n",
       "20638                        -1.06  \n",
       "20639                        -1.02  \n",
       "\n",
       "[20640 rows x 4 columns]"
      ]
     },
     "execution_count": 54,
     "metadata": {},
     "output_type": "execute_result"
    }
   ],
   "source": [
    "df[['housing_median_age_std_norm', 'median_house_value_std_norm']] = std_scaler.transform(df[['housing_median_age', 'median_house_value']])\n",
    "\n",
    "df[['housing_median_age', 'housing_median_age_std_norm', \n",
    "    'median_house_value', 'median_house_value_std_norm']]"
   ]
  },
  {
   "cell_type": "code",
   "execution_count": 55,
   "metadata": {},
   "outputs": [
    {
     "data": {
      "text/plain": [
       "<AxesSubplot:ylabel='Count'>"
      ]
     },
     "execution_count": 55,
     "metadata": {},
     "output_type": "execute_result"
    },
    {
     "data": {
      "image/png": "[encoded data removed]",
      "text/plain": [
       "<Figure size 432x288 with 1 Axes>"
      ]
     },
     "metadata": {
      "needs_background": "light"
     },
     "output_type": "display_data"
    }
   ],
   "source": [
    "sns.histplot(df[['housing_median_age_std_norm', \n",
    "                 'median_house_value_std_norm']], \n",
    "             palette=['m', 'b'])"
   ]
  },
  {
   "cell_type": "code",
   "execution_count": 56,
   "metadata": {},
   "outputs": [
    {
     "data": {
      "text/plain": [
       "<AxesSubplot:>"
      ]
     },
     "execution_count": 56,
     "metadata": {},
     "output_type": "execute_result"
    },
    {
     "data": {
      "image/png": "[encoded data removed]",
      "text/plain": [
       "<Figure size 432x288 with 1 Axes>"
      ]
     },
     "metadata": {
      "needs_background": "light"
     },
     "output_type": "display_data"
    }
   ],
   "source": [
    "sns.boxplot(data=df[['housing_median_age_std_norm', \n",
    "                     'median_house_value_std_norm']], \n",
    "            palette=['m', 'b'])"
   ]
  },
  {
   "cell_type": "code",
   "execution_count": null,
   "metadata": {},
   "outputs": [],
   "source": []
  }
 ],
 "metadata": {
  "kernelspec": {
   "display_name": "Python [conda env:LevelUp_DataScience] *",
   "language": "python",
   "name": "conda-env-LevelUp_DataScience-py"
  },
  "language_info": {
   "codemirror_mode": {
    "name": "ipython",
    "version": 3
   },
   "file_extension": ".py",
   "mimetype": "text/x-python",
   "name": "python",
   "nbconvert_exporter": "python",
   "pygments_lexer": "ipython3",
   "version": "3.8.5"
  },
  "toc-autonumbering": true
 },
 "nbformat": 4,
 "nbformat_minor": 4
}
