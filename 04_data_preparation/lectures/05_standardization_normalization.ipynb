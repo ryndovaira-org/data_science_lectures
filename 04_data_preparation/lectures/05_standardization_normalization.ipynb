{
 "cells": [
  {
   "cell_type": "markdown",
   "metadata": {
    "collapsed": true,
    "pycharm": {
     "name": "#%% md\n"
    }
   },
   "source": [
    "[Data normalization with Pandas and Scikit-Learn](https://towardsdatascience.com/data-normalization-with-pandas-and-scikit-learn-7c1cc6ed6475)\n",
    "\n",
    "[Standard score](https://en.wikipedia.org/wiki/Standard_score)\n",
    "\n",
    "[Z-оценка](https://ru.wikipedia.org/wiki/Z-%D0%BE%D1%86%D0%B5%D0%BD%D0%BA%D0%B0)\n",
    "\n",
    "[Standardize or Normalize? — Examples in Python](https://medium.com/@rrfd/standardize-or-normalize-examples-in-python-e3f174b65dfc)\n",
    "\n",
    "[Does Categorical Variable need normalization/standardization?](https://stats.stackexchange.com/questions/399430/does-categorical-variable-need-normalization-standardization)\n",
    "\n",
    "z-score\n",
    "t-score\n",
    "\n",
    "\n",
    "Нет, не следует нормализовать категориальные данные. Если функция является категориальной, это означает, что каждое значение имеет отдельное значение, поэтому нормализация превратит эти функции во что-то другое."
   ]
  }
 ],
 "metadata": {
  "kernelspec": {
   "display_name": "Python 3",
   "language": "python",
   "name": "python3"
  },
  "language_info": {
   "codemirror_mode": {
    "name": "ipython",
    "version": 2
   },
   "file_extension": ".py",
   "mimetype": "text/x-python",
   "name": "python",
   "nbconvert_exporter": "python",
   "pygments_lexer": "ipython2",
   "version": "2.7.6"
  }
 },
 "nbformat": 4,
 "nbformat_minor": 0
}