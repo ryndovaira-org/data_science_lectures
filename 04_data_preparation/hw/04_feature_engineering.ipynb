{
 "cells": [
  {
   "cell_type": "markdown",
   "metadata": {
    "pycharm": {
     "name": "#%% md\n"
    }
   },
   "source": [
    "# Домашнее задание по теме: Конструирование признаков (Feature Engineering)"
   ]
  },
  {
   "cell_type": "markdown",
   "metadata": {},
   "source": [
    "## Подготовка окружения"
   ]
  },
  {
   "cell_type": "code",
   "execution_count": null,
   "metadata": {
    "collapsed": false,
    "jupyter": {
     "outputs_hidden": false
    },
    "pycharm": {
     "name": "#%%\n"
    }
   },
   "outputs": [],
   "source": [
    "# ВНИМАНИЕ: необходимо удостовериться, что виртуальная среда выбрана правильно!\n",
    "\n",
    "# Для MacOS/Ubuntu\n",
    "# !which pip\n",
    "\n",
    "# Для Windows\n",
    "# !where pip"
   ]
  },
  {
   "cell_type": "code",
   "execution_count": null,
   "metadata": {
    "collapsed": false,
    "jupyter": {
     "outputs_hidden": false
    },
    "pycharm": {
     "name": "#%%\n"
    }
   },
   "outputs": [],
   "source": [
    "# !conda install pandas matplotlib numpy seaborn -y"
   ]
  },
  {
   "cell_type": "code",
   "execution_count": null,
   "metadata": {
    "collapsed": false,
    "jupyter": {
     "outputs_hidden": false
    },
    "pycharm": {
     "name": "#%%\n"
    }
   },
   "outputs": [],
   "source": [
    "import numpy as np\n",
    "\n",
    "np.__version__"
   ]
  },
  {
   "cell_type": "code",
   "execution_count": null,
   "metadata": {
    "collapsed": false,
    "jupyter": {
     "outputs_hidden": false
    },
    "pycharm": {
     "name": "#%%\n"
    }
   },
   "outputs": [],
   "source": [
    "import pandas as pd\n",
    "\n",
    "pd.__version__"
   ]
  },
  {
   "cell_type": "code",
   "execution_count": null,
   "metadata": {
    "collapsed": false,
    "jupyter": {
     "outputs_hidden": false
    },
    "pycharm": {
     "name": "#%%\n"
    }
   },
   "outputs": [],
   "source": [
    "import matplotlib\n",
    "\n",
    "matplotlib.__version__"
   ]
  },
  {
   "cell_type": "code",
   "execution_count": null,
   "metadata": {
    "collapsed": false,
    "jupyter": {
     "outputs_hidden": false
    },
    "pycharm": {
     "name": "#%%\n"
    }
   },
   "outputs": [],
   "source": [
    "import seaborn as sns\n",
    "\n",
    "sns.__version__"
   ]
  },
  {
   "cell_type": "markdown",
   "metadata": {},
   "source": [
    "## Создание `DataFrame` для примера"
   ]
  },
  {
   "cell_type": "code",
   "execution_count": null,
   "metadata": {
    "collapsed": false,
    "jupyter": {
     "outputs_hidden": false
    },
    "pycharm": {
     "name": "#%%\n"
    }
   },
   "outputs": [],
   "source": [
    "# социологический опрос\n",
    "df = pd.DataFrame({'name_age': pd.Series(['Oleg 25', 'Pete 32',\n",
    "                                          'Fedor 31', 'Teodor 55',\n",
    "                                          'Elena 19', 'Viktor 18',\n",
    "                                          'Anton 36', 'Boris 45',\n",
    "                                          'Alex 25', 'Sergey 32'],\n",
    "                                         dtype='string'),\n",
    "\n",
    "                   'occupation': pd.Series(['programmer', 'teacher',\n",
    "                                            'programmer', 'teacher',\n",
    "                                            'student', 'student',\n",
    "                                            'teacher', 'manager',\n",
    "                                            'manager', 'programmer'],\n",
    "                                           dtype='category'),\n",
    "\n",
    "                   'weight': pd.Series([80, 98,\n",
    "                                        86, 88,\n",
    "                                        60, 75,\n",
    "                                        91, 96,\n",
    "                                        65, 73],\n",
    "                                       dtype='int16'),\n",
    "\n",
    "                  'life_satisfaction': pd.Series(['5 point', '3 point',\n",
    "                                                  '4 point', '3 point',\n",
    "                                                  '1 point', '2 point',\n",
    "                                                  '4 point', '4 point',\n",
    "                                                  '4 point', '4 point'],\n",
    "                                           dtype=pd.CategoricalDtype(categories=['1 point',\n",
    "                                                                                 '2 point',\n",
    "                                                                                 '3 point',\n",
    "                                                                                 '4 point',\n",
    "                                                                                 '5 point'], ordered=True)),\n",
    "\n",
    "                'relatives_income_k_rub': pd.Series(['150+', '30-80',\n",
    "                                                     '30-80', '30-80',\n",
    "                                                     '0-15', '16-30',\n",
    "                                                     '30-80', '80-150',\n",
    "                                                     '16-30', '80-150'],\n",
    "                                                    dtype=pd.CategoricalDtype(categories=['0-15',\n",
    "                                                                                '16-30',\n",
    "                                                                                '30-80',\n",
    "                                                                                '80-150',\n",
    "                                                                                '150+'], ordered=True)),\n",
    "\n",
    "                  'favourite_dish': pd.Series(['cake', 'steak',\n",
    "                                               'steaks', 'sweet',\n",
    "                                               'CAKES', 'candy',\n",
    "                                               'candies', 'dairy',\n",
    "                                               'milk', 'Dairy'],\n",
    "                                              dtype='string'),\n",
    "\n",
    "                   'income_per_hour_rub': pd.Series([300.50, 150.33,\n",
    "                                                     265.54, 85.69,\n",
    "                                                     3_150.54, 450.84,\n",
    "                                                     2_140.36, 1_650.36,\n",
    "                                                     2_425.84, 1_745.85],\n",
    "                                                    dtype='float'),\n",
    "\n",
    "                  'number_working_days_per_week': pd.Series([5, 5,\n",
    "                                                             4, 2,\n",
    "                                                             1, 6,\n",
    "                                                             7, 2,\n",
    "                                                             5, 4],\n",
    "                                                            dtype='int8'),\n",
    "\n",
    "                   'number_working_hours_per_day': pd.Series([8, 8,\n",
    "                                                              7, 12,\n",
    "                                                              24, 8,\n",
    "                                                              3, 10,\n",
    "                                                              7, 8],\n",
    "                                                             dtype='int8'),\n",
    "\n",
    "                   'tell_me_about_yourself': pd.Series([\"I'm just a normal person. Nothing special.\",\n",
    "                                                        \"I'm a good person. I teach children all over the world.\",\n",
    "                                                        \"Nothing special, just a good programmer and father.\",\n",
    "                                                        \"I'm a father and husband. I love teach my son.\",\n",
    "                                                        \"I'm a good student and I want to travel all over the world. I'm going to be a programmer some day!\",\n",
    "                                                        \"I'm a normal student. I want to be a teacher.\",\n",
    "                                                        \"I'm a husband and teacher. I teach how to be a programmer. I have a son. I love him.\",\n",
    "                                                        \"I don't know what to say. I'm a normal husband and good father.\",\n",
    "                                                        \"Now I'm a manager but I'm going to be a programmer. I want to be a good student.\",\n",
    "                                                        \"I'm special person! I can do what ever I want! I can be a husband and programmer simultaneously!\"],\n",
    "                                                       dtype='string'),\n",
    "\n",
    "                   'favourite_weather': pd.Series(['rainbow/fog/warm',\n",
    "                                                   'sun/fog/rainbow',\n",
    "                                                   'chilly/fog/sun',\n",
    "                                                   'rainbow',\n",
    "                                                   'chilly/sun',\n",
    "                                                   'warm/sun',\n",
    "                                                   'chilly',\n",
    "                                                   'rainbow/sun', \n",
    "                                                   'warm/sun',\n",
    "                                                   'fog/rainbow'],\n",
    "                                                  dtype='string'),\n",
    "\n",
    "                    'answer_date_time': pd.Series(['10.10.2020 18:25', '18.12.2020 16:36',\n",
    "                                                   '06.01.2021 10:14', '07.04.2021 23:25',\n",
    "                                                   '26.11.2020 06:17', '18.05.2020 15:15',\n",
    "                                                   '10.03.2021 09:08', '25.02.2020 04:57',\n",
    "                                                   '28.08.2020 12:54', '10.09.2019 23:25'],\n",
    "                                                  dtype='datetime64[ns]'),\n",
    "\n",
    "                   'marital_status': pd.Series(['Married (and not separated)', \n",
    "                                                'Single (including living common law)',\n",
    "                                                'Single (including living common law)', \n",
    "                                                'Married (and not separated)',\n",
    "                                                'Single (including living common law)', \n",
    "                                                'Single (including living common law)',\n",
    "                                                'Married (and not separated)', \n",
    "                                                'Single (including living common law)',\n",
    "                                                'Married (and not separated)', \n",
    "                                                'Married (and not separated)'],\n",
    "                                               dtype='string')\n",
    "                  })"
   ]
  },
  {
   "cell_type": "code",
   "execution_count": null,
   "metadata": {
    "collapsed": false,
    "jupyter": {
     "outputs_hidden": false
    },
    "pycharm": {
     "name": "#%%\n"
    }
   },
   "outputs": [],
   "source": [
    "# отображать все колонки\n",
    "pd.options.display.max_columns = None"
   ]
  },
  {
   "cell_type": "code",
   "execution_count": null,
   "metadata": {
    "collapsed": false,
    "jupyter": {
     "outputs_hidden": false
    },
    "pycharm": {
     "name": "#%%\n"
    }
   },
   "outputs": [],
   "source": [
    "df"
   ]
  },
  {
   "cell_type": "markdown",
   "metadata": {},
   "source": [
    "## **ВНИМАНИЕ**\n",
    "\n",
    "- Вместо строки `место_для_ответа` необходимо вписать свой ответ. Не рядом, а вместо. Остальную часть оформления менять не нужно.\n",
    "\n",
    "- В ячейках с комментариями необходимо реализовать то, что описывает комментарий.\n",
    "\n",
    "- Для выполнения заданий можно использовать любые удобные способы, если в комментариях к заданию не указан конкретный метод.\n",
    "\n",
    "- В строке \"Подсказка\" могут быть перечислены какие-то методы, которыми можно воспользоваться, но это не обязательно, так как это только один из множества вариантов (не факт, что лучший).\n",
    "\n",
    "- Результаты обработки можно добавлять к специально созданному чистому `DataFrame`, или к существующему (как в примерах из лекции).\n",
    "\n",
    "- **В конце каждого задания необходимо выводить результат в формате \"было-стало\"**. Может быть указано любое нужное количество колонок (зависит от задания). Важно показать результат по сравнению с исходными данными. Пример: `df[['name_age', 'age']]`.\n",
    "\n",
    "- Графики можно рисовать любым способом / цветом и т.п. Главное, чтобы было понятно, что там изображено.\n",
    "\n",
    "- Если в задании требуется **нарисовать график, то он нужен вначале (показать как было) и в конце (как стало)**.\n",
    "\n",
    "- В некоторых задания необходимо понимать, что значит каждое слово (для их группировки, например). Если значение слова непонятно, то необходимо разобраться с его значением самостоятельно. Пожалуйста, будьте внимательны, перепроверяйте значения слов, если не уверены."
   ]
  },
  {
   "cell_type": "code",
   "execution_count": null,
   "metadata": {
    "collapsed": false,
    "jupyter": {
     "outputs_hidden": false
    },
    "pycharm": {
     "name": "#%%\n"
    }
   },
   "outputs": [],
   "source": [
    "# получить список колонок и их типы\n"
   ]
  },
  {
   "cell_type": "markdown",
   "metadata": {},
   "source": [
    "### Анализ типов шкал\n",
    "\n",
    "(см. [лекцию](../../03_data_analysis/lectures/08_scale_types.ipynb))\n",
    "\n",
    "| Наименование | Шкала |\n",
    "|     -:      |  :-  |\n",
    "| `name_age` | место_для_ответа |\n",
    "| `occupation` | место_для_ответа |\n",
    "| `weight` | место_для_ответа |\n",
    "| `life_satisfaction` | место_для_ответа |\n",
    "| `relatives_income_k_rub` | место_для_ответа |\n",
    "| `favourite_dish` | место_для_ответа |\n",
    "| `income_per_hour_rub` | место_для_ответа |\n",
    "| `number_working_days_per_week` | место_для_ответа |\n",
    "| `number_working_hours_per_day` | место_для_ответа |\n",
    "| `tell_me_about_yourself` | место_для_ответа |\n",
    "| `favourite_weather` | место_для_ответа |\n",
    "| `answer_date_time` | место_для_ответа |\n",
    "| `marital_status` | место_для_ответа |"
   ]
  },
  {
   "cell_type": "markdown",
   "metadata": {},
   "source": [
    "## Строковые признаки"
   ]
  },
  {
   "cell_type": "code",
   "execution_count": null,
   "metadata": {},
   "outputs": [],
   "source": [
    "# получить все колонки типа string\n"
   ]
  },
  {
   "cell_type": "markdown",
   "metadata": {},
   "source": [
    "### Получить информацию из строки\n",
    "\n",
    "В колонке `name_age` содержится имя и возраст.\n",
    "\n",
    "Необходимо получить данные о возрасте.\n",
    "\n",
    "Результат сохранить в отдельную колонку `age`.\n",
    "\n",
    "Подсказка: `apply`."
   ]
  },
  {
   "cell_type": "code",
   "execution_count": null,
   "metadata": {},
   "outputs": [],
   "source": []
  },
  {
   "cell_type": "markdown",
   "metadata": {},
   "source": [
    "### Группировка строковых признаков и формирование \"групп\"\n",
    "\n",
    "Сгруппировать значения из колонки `favourite_dish` по своему усмотрению.\n",
    "\n",
    "Нарисовать график показывающий распределение категорий в колонке (категория — количество в датасете).\n",
    "\n",
    "Результат сохранить в отдельную колонку `favourite_dish_grouped`."
   ]
  },
  {
   "cell_type": "code",
   "execution_count": null,
   "metadata": {},
   "outputs": [],
   "source": []
  },
  {
   "cell_type": "markdown",
   "metadata": {},
   "source": [
    "### Разделить строку на несколько признаков\n",
    "\n",
    "Разделить значения из колонки `favourite_weather`.\n",
    "\n",
    "Результат сохранить в отдельные колонки с суффиксом `_fw` (в конце каждого названия)."
   ]
  },
  {
   "cell_type": "code",
   "execution_count": null,
   "metadata": {},
   "outputs": [],
   "source": []
  },
  {
   "cell_type": "markdown",
   "metadata": {},
   "source": [
    "### Преобразовать к другому типу\n",
    "\n",
    "Преобразовать значения из колонки `marital_status` к `bool` (`True` = В браке).\n",
    "\n",
    "Результат сохранить в отдельную колонку `is_married`."
   ]
  },
  {
   "cell_type": "code",
   "execution_count": null,
   "metadata": {},
   "outputs": [],
   "source": []
  },
  {
   "cell_type": "markdown",
   "metadata": {},
   "source": [
    "### Мешок слов (bag-of-words) на примере `CountVectorizer` (`sklearn`)\n",
    "\n",
    "Преобразовать значения из колонки `tell_me_about_yourself`.\n",
    "\n",
    "Использовать стандартные `stop_words` (английский язык). \n",
    "\n",
    "В результат включить ТОЛЬКО слова, которые встретились в тексте больше (>) 2 раз.\n",
    "\n",
    "Результат сохранить в отдельные колонки с суффиксом _bw (в конце каждого названия)."
   ]
  },
  {
   "cell_type": "code",
   "execution_count": null,
   "metadata": {},
   "outputs": [],
   "source": []
  },
  {
   "cell_type": "markdown",
   "metadata": {},
   "source": [
    "## Категориальные признаки"
   ]
  },
  {
   "cell_type": "code",
   "execution_count": null,
   "metadata": {},
   "outputs": [],
   "source": [
    "# получить все колонки типа category\n"
   ]
  },
  {
   "cell_type": "markdown",
   "metadata": {},
   "source": [
    "### Комбинации признаков с помощью bool mask filter\n",
    "\n",
    "Преобразовать значения из колонки `occupation`.\n",
    "\n",
    "Результат сохранить в отдельные колонки `is_programmer`, `is_teacher`, `is_student`, `is_manager`, `is_programmer_OR_student`, `is_teacher_OR_manager`."
   ]
  },
  {
   "cell_type": "code",
   "execution_count": null,
   "metadata": {},
   "outputs": [],
   "source": []
  },
  {
   "cell_type": "markdown",
   "metadata": {},
   "source": [
    "### `OrdinalEncoder` (`sklearn`)\n",
    "\n",
    "Значения колонок `relatives_income_k_rub` и `life_satisfaction` преобразовать в числа.\n",
    "\n",
    "Результат сохранить в колонки `relatives_income_k_rub_enc_ord` и `life_satisfaction_enc_ord`.\n",
    "\n",
    "ВНИМАНИЕ: необходимо сохранить правильный порядок категорий."
   ]
  },
  {
   "cell_type": "code",
   "execution_count": null,
   "metadata": {},
   "outputs": [],
   "source": []
  },
  {
   "cell_type": "markdown",
   "metadata": {},
   "source": [
    "### `OneHotEncoder` (`sklearn`)\n",
    "\n",
    "Преобразовать значения колонки `occupation`.\n",
    "\n",
    "Результат сохранить в колонки с префиксом `occupation_enc_oh` (пример: `occupation_enc_oh_programmer`)."
   ]
  },
  {
   "cell_type": "code",
   "execution_count": null,
   "metadata": {
    "collapsed": false,
    "jupyter": {
     "outputs_hidden": false
    },
    "pycharm": {
     "name": "#%%\n"
    }
   },
   "outputs": [],
   "source": []
  },
  {
   "cell_type": "markdown",
   "metadata": {},
   "source": [
    "### Dummies (`pandas`)\n",
    "\n",
    "Преобразовать значения колонки `occupation`.\n",
    "\n",
    "Результат сохранить в колонки с префиксом `occupation_` (пример: `occupation_teacher`). Это произойдет автоматически, необходимо только проверить, что все сработало правильно."
   ]
  },
  {
   "cell_type": "code",
   "execution_count": null,
   "metadata": {
    "collapsed": false,
    "jupyter": {
     "outputs_hidden": false
    },
    "pycharm": {
     "name": "#%%\n"
    }
   },
   "outputs": [],
   "source": []
  },
  {
   "cell_type": "markdown",
   "metadata": {},
   "source": [
    "### `CountEncoder` (`category_encoders`)\n",
    "\n",
    "Заменить каждое значение колонок `occupation` и `life_satisfaction` количеством раз, сколько оно появляется в наборе данных.\n",
    "\n",
    "Результат сохранить в колонку с префиксом `count_` (например, `count_life_satisfaction`)."
   ]
  },
  {
   "cell_type": "code",
   "execution_count": null,
   "metadata": {
    "collapsed": false,
    "jupyter": {
     "outputs_hidden": false
    },
    "pycharm": {
     "name": "#%%\n"
    }
   },
   "outputs": [],
   "source": []
  },
  {
   "cell_type": "markdown",
   "metadata": {},
   "source": [
    "## Числовые признаки"
   ]
  },
  {
   "cell_type": "code",
   "execution_count": null,
   "metadata": {},
   "outputs": [],
   "source": [
    "# получить все колонки типа number\n"
   ]
  },
  {
   "cell_type": "markdown",
   "metadata": {},
   "source": [
    "### Округление вещественных чисел\n",
    "\n",
    "Округлить значения колонки `income_per_hour_rub` до сотен.\n",
    "\n",
    "Пример: `66.87` округляется до `100.0`, `123456.78` округляется до `123500.0`. "
   ]
  },
  {
   "cell_type": "code",
   "execution_count": null,
   "metadata": {},
   "outputs": [],
   "source": []
  },
  {
   "cell_type": "markdown",
   "metadata": {},
   "source": [
    "### Объединение нескольких (агрегация) числовых признаков\n",
    "\n",
    "Создать колонку `income_per_year` показывающую сколько денег зарабатывает человек в год на основе имеющихся колонок.\n",
    "\n",
    "Предположим, что каждый работает 46 недель в году (52 недели - 4 отпуска - 2 праздничные выходные)."
   ]
  },
  {
   "cell_type": "code",
   "execution_count": null,
   "metadata": {},
   "outputs": [],
   "source": []
  },
  {
   "cell_type": "markdown",
   "metadata": {},
   "source": [
    "### Приведение числового признака к категориальному и формирование \"интервалов\" (Binning/Discretization)"
   ]
  },
  {
   "cell_type": "markdown",
   "metadata": {},
   "source": [
    "#### Биннинг по расстоянию (Binning by distance) с помощью `cut` (`pandas`)\n",
    "\n",
    "Разбить значения колонки `weight` на **2** равномерно распределенных (`linspace`) бина.\n",
    "\n",
    "Придумать название (`label`) для каждого бина.\n",
    "\n",
    "Результат сохранить в колонку `weight_bins_linspace`."
   ]
  },
  {
   "cell_type": "code",
   "execution_count": null,
   "metadata": {},
   "outputs": [],
   "source": []
  },
  {
   "cell_type": "markdown",
   "metadata": {},
   "source": [
    "## Дата и время"
   ]
  },
  {
   "cell_type": "code",
   "execution_count": null,
   "metadata": {},
   "outputs": [],
   "source": [
    "# получить все колонки типа datetime64\n"
   ]
  },
  {
   "cell_type": "markdown",
   "metadata": {},
   "source": [
    "### День недели\n",
    "\n",
    "С помощью колонки `answer_date_time` создать колонку `is_friday` типа `bool` (`True` = Пятница). \n",
    "\n",
    "С помощью колонки `answer_date_time` создать колонку `day_name` типа `string` с названиями дней недели. "
   ]
  },
  {
   "cell_type": "code",
   "execution_count": null,
   "metadata": {},
   "outputs": [],
   "source": []
  },
  {
   "cell_type": "markdown",
   "metadata": {},
   "source": [
    "### Время дня + день недели\n",
    "\n",
    "С помощью колонки `answer_date_time` создать колонку `is_work_time` типа `bool` (`True` = Понедельник-Пятница с 9 до 18). "
   ]
  },
  {
   "cell_type": "code",
   "execution_count": null,
   "metadata": {},
   "outputs": [],
   "source": []
  }
 ],
 "metadata": {
  "kernelspec": {
   "display_name": "Python [conda env:LevelUp_DataScience] *",
   "language": "python",
   "name": "conda-env-LevelUp_DataScience-py"
  },
  "language_info": {
   "codemirror_mode": {
    "name": "ipython",
    "version": 3
   },
   "file_extension": ".py",
   "mimetype": "text/x-python",
   "name": "python",
   "nbconvert_exporter": "python",
   "pygments_lexer": "ipython3",
   "version": "3.8.5"
  },
  "toc-autonumbering": true
 },
 "nbformat": 4,
 "nbformat_minor": 4
}