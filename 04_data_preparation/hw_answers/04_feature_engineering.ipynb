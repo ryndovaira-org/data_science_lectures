{
 "cells": [
  {
   "cell_type": "markdown",
   "metadata": {
    "pycharm": {
     "name": "#%% md\n"
    }
   },
   "source": [
    "# Домашнее задание по теме: Конструирование признаков (Feature Engineering)"
   ]
  },
  {
   "cell_type": "markdown",
   "metadata": {},
   "source": [
    "## Подготовка окружения"
   ]
  },
  {
   "cell_type": "code",
   "execution_count": 1,
   "metadata": {
    "collapsed": false,
    "jupyter": {
     "outputs_hidden": false
    },
    "pycharm": {
     "name": "#%%\n"
    }
   },
   "outputs": [],
   "source": [
    "# ВНИМАНИЕ: необходимо удостовериться, что виртуальная среда выбрана правильно!\n",
    "\n",
    "# Для MacOS/Ubuntu\n",
    "# !which pip\n",
    "\n",
    "# Для Windows\n",
    "# !where pip"
   ]
  },
  {
   "cell_type": "code",
   "execution_count": 2,
   "metadata": {
    "collapsed": false,
    "jupyter": {
     "outputs_hidden": false
    },
    "pycharm": {
     "name": "#%%\n"
    }
   },
   "outputs": [],
   "source": [
    "# !conda install pandas matplotlib numpy seaborn -y"
   ]
  },
  {
   "cell_type": "code",
   "execution_count": 3,
   "metadata": {
    "collapsed": false,
    "jupyter": {
     "outputs_hidden": false
    },
    "pycharm": {
     "name": "#%%\n"
    }
   },
   "outputs": [
    {
     "data": {
      "text/plain": [
       "'1.19.2'"
      ]
     },
     "execution_count": 3,
     "metadata": {},
     "output_type": "execute_result"
    }
   ],
   "source": [
    "import numpy as np\n",
    "\n",
    "np.__version__"
   ]
  },
  {
   "cell_type": "code",
   "execution_count": 4,
   "metadata": {
    "collapsed": false,
    "jupyter": {
     "outputs_hidden": false
    },
    "pycharm": {
     "name": "#%%\n"
    }
   },
   "outputs": [
    {
     "data": {
      "text/plain": [
       "'1.2.3'"
      ]
     },
     "execution_count": 4,
     "metadata": {},
     "output_type": "execute_result"
    }
   ],
   "source": [
    "import pandas as pd\n",
    "\n",
    "pd.__version__"
   ]
  },
  {
   "cell_type": "code",
   "execution_count": 5,
   "metadata": {
    "collapsed": false,
    "jupyter": {
     "outputs_hidden": false
    },
    "pycharm": {
     "name": "#%%\n"
    }
   },
   "outputs": [
    {
     "data": {
      "text/plain": [
       "'3.3.4'"
      ]
     },
     "execution_count": 5,
     "metadata": {},
     "output_type": "execute_result"
    }
   ],
   "source": [
    "import matplotlib\n",
    "import matplotlib.pyplot as plt\n",
    "\n",
    "matplotlib.__version__"
   ]
  },
  {
   "cell_type": "code",
   "execution_count": 6,
   "metadata": {
    "collapsed": false,
    "jupyter": {
     "outputs_hidden": false
    },
    "pycharm": {
     "name": "#%%\n"
    }
   },
   "outputs": [
    {
     "data": {
      "text/plain": [
       "'0.11.1'"
      ]
     },
     "execution_count": 6,
     "metadata": {},
     "output_type": "execute_result"
    }
   ],
   "source": [
    "import seaborn as sns\n",
    "\n",
    "sns.__version__"
   ]
  },
  {
   "cell_type": "markdown",
   "metadata": {},
   "source": [
    "## Создание `DataFrame` для примера"
   ]
  },
  {
   "cell_type": "code",
   "execution_count": 7,
   "metadata": {
    "collapsed": false,
    "jupyter": {
     "outputs_hidden": false
    },
    "pycharm": {
     "name": "#%%\n"
    }
   },
   "outputs": [],
   "source": [
    "# социологический опрос\n",
    "df = pd.DataFrame({'name_age': pd.Series(['Oleg 25', 'Pete 32',\n",
    "                                          'Fedor 31', 'Teodor 55',\n",
    "                                          'Elena 19', 'Viktor 18',\n",
    "                                          'Anton 36', 'Boris 45',\n",
    "                                          'Alex 25', 'Sergey 32'],\n",
    "                                         dtype='string'),\n",
    "\n",
    "                   'occupation': pd.Series(['programmer', 'teacher',\n",
    "                                            'programmer', 'teacher',\n",
    "                                            'student', 'student',\n",
    "                                            'teacher', 'manager',\n",
    "                                            'manager', 'programmer'],\n",
    "                                           dtype='category'),\n",
    "\n",
    "                   'weight': pd.Series([80, 98,\n",
    "                                        86, 88,\n",
    "                                        60, 75,\n",
    "                                        91, 96,\n",
    "                                        65, 73],\n",
    "                                       dtype='int16'),\n",
    "\n",
    "                  'life_satisfaction': pd.Series(['5 point', '3 point',\n",
    "                                                  '4 point', '3 point',\n",
    "                                                  '1 point', '2 point',\n",
    "                                                  '4 point', '4 point',\n",
    "                                                  '4 point', '4 point'],\n",
    "                                           dtype=pd.CategoricalDtype(categories=['1 point',\n",
    "                                                                                 '2 point',\n",
    "                                                                                 '3 point',\n",
    "                                                                                 '4 point',\n",
    "                                                                                 '5 point'], ordered=True)),\n",
    "\n",
    "                'relatives_income_k_rub': pd.Series(['150+', '30-80',\n",
    "                                                     '30-80', '30-80',\n",
    "                                                     '0-15', '16-30',\n",
    "                                                     '30-80', '80-150',\n",
    "                                                     '16-30', '80-150'],\n",
    "                                                    dtype=pd.CategoricalDtype(categories=['0-15',\n",
    "                                                                                '16-30',\n",
    "                                                                                '30-80',\n",
    "                                                                                '80-150',\n",
    "                                                                                '150+'], ordered=True)),\n",
    "\n",
    "                  'favourite_dish': pd.Series(['cake', 'steak',\n",
    "                                               'steaks', 'sweet',\n",
    "                                               'CAKES', 'candy',\n",
    "                                               'candies', 'dairy',\n",
    "                                               'milk', 'Dairy'],\n",
    "                                              dtype='string'),\n",
    "\n",
    "                   'income_per_hour_rub': pd.Series([300.50, 150.33,\n",
    "                                                     265.54, 85.69,\n",
    "                                                     3_150.54, 450.84,\n",
    "                                                     2_140.36, 1_650.36,\n",
    "                                                     2_425.84, 1_745.85],\n",
    "                                                    dtype='float'),\n",
    "\n",
    "                  'number_working_days_per_week': pd.Series([5, 5,\n",
    "                                                             4, 2,\n",
    "                                                             1, 6,\n",
    "                                                             7, 2,\n",
    "                                                             5, 4],\n",
    "                                                            dtype='int8'),\n",
    "\n",
    "                   'number_working_hours_per_day': pd.Series([8, 8,\n",
    "                                                              7, 12,\n",
    "                                                              24, 8,\n",
    "                                                              3, 10,\n",
    "                                                              7, 8],\n",
    "                                                             dtype='int8'),\n",
    "\n",
    "                   'tell_me_about_yourself': pd.Series([\"I'm just a normal person. Nothing special.\",\n",
    "                                                        \"I'm a good person. I teach children all over the world.\",\n",
    "                                                        \"Nothing special, just a good programmer and father.\",\n",
    "                                                        \"I'm a father and hasband. I love teach my son.\",\n",
    "                                                        \"I'm a good student and I want to travel all over the world. I'm going to be a programmer some day!\",\n",
    "                                                        \"I'm a normal student. I want to be a teacher.\",\n",
    "                                                        \"I'm a hasband and teacher. I teach how to be a programmer. I have a son. I love him.\",\n",
    "                                                        \"I don't know what to say. I'm a normal husband and good father.\",\n",
    "                                                        \"Now I'm a manager but I'm going to be a programmer. I want to be a good student.\",\n",
    "                                                        \"I'm special person! I can do what ever I want! I can be a husband and programmer simultaneously!\"],\n",
    "                                                       dtype='string'),\n",
    "\n",
    "                   'favourite_weather': pd.Series(['rainbow, fog, warm',\n",
    "                                                   'sun, fog, rainbow',\n",
    "                                                   'chilly, fog, sun',\n",
    "                                                   'rainbow',\n",
    "                                                   'chilly, sun',\n",
    "                                                   'warm, sun',\n",
    "                                                   'chilly',\n",
    "                                                   'rainbow, dog', \n",
    "                                                   'warm, sun',\n",
    "                                                   'fog, rainbow'],\n",
    "                                                  dtype='string'),\n",
    "\n",
    "                    'answer_date_time': pd.Series(['10.10.2020 18:25', '20.12.2020 16:36',\n",
    "                                                   '06.01.2021 10:14', '07.04.2021 23:25',\n",
    "                                                   '26.11.2020 06:17', '18.05.2020 15:15',\n",
    "                                                   '10.03.2021 09:08', '25.02.2020 04:57',\n",
    "                                                   '28.08.2020 12:54', '10.09.2019 23:25'],\n",
    "                                                  dtype='datetime64[ns]'),\n",
    "\n",
    "                   'marital_status': pd.Series(['Married (and not separated)', \n",
    "                                                'Single (including living common law)',\n",
    "                                                'Single (including living common law)', \n",
    "                                                'Married (and not separated)',\n",
    "                                                'Single (including living common law)', \n",
    "                                                'Single (including living common law)',\n",
    "                                                'Married (and not separated)', \n",
    "                                                'Single (including living common law)',\n",
    "                                                'Married (and not separated)', \n",
    "                                                'Married (and not separated)'],\n",
    "                                               dtype='string')\n",
    "                  })"
   ]
  },
  {
   "cell_type": "code",
   "execution_count": 8,
   "metadata": {
    "collapsed": false,
    "jupyter": {
     "outputs_hidden": false
    },
    "pycharm": {
     "name": "#%%\n"
    }
   },
   "outputs": [],
   "source": [
    "# отображать все колонки\n",
    "pd.options.display.max_columns = None"
   ]
  },
  {
   "cell_type": "code",
   "execution_count": 9,
   "metadata": {
    "collapsed": false,
    "jupyter": {
     "outputs_hidden": false
    },
    "pycharm": {
     "name": "#%%\n"
    }
   },
   "outputs": [
    {
     "data": {
      "text/html": [
       "<div>\n",
       "<style scoped>\n",
       "    .dataframe tbody tr th:only-of-type {\n",
       "        vertical-align: middle;\n",
       "    }\n",
       "\n",
       "    .dataframe tbody tr th {\n",
       "        vertical-align: top;\n",
       "    }\n",
       "\n",
       "    .dataframe thead th {\n",
       "        text-align: right;\n",
       "    }\n",
       "</style>\n",
       "<table border=\"1\" class=\"dataframe\">\n",
       "  <thead>\n",
       "    <tr style=\"text-align: right;\">\n",
       "      <th></th>\n",
       "      <th>name_age</th>\n",
       "      <th>occupation</th>\n",
       "      <th>weight</th>\n",
       "      <th>life_satisfaction</th>\n",
       "      <th>relatives_income_k_rub</th>\n",
       "      <th>favourite_dish</th>\n",
       "      <th>income_per_hour_rub</th>\n",
       "      <th>number_working_days_per_week</th>\n",
       "      <th>number_working_hours_per_day</th>\n",
       "      <th>tell_me_about_yourself</th>\n",
       "      <th>favourite_weather</th>\n",
       "      <th>answer_date_time</th>\n",
       "      <th>marital_status</th>\n",
       "    </tr>\n",
       "  </thead>\n",
       "  <tbody>\n",
       "    <tr>\n",
       "      <th>0</th>\n",
       "      <td>Oleg 25</td>\n",
       "      <td>programmer</td>\n",
       "      <td>80</td>\n",
       "      <td>5 point</td>\n",
       "      <td>150+</td>\n",
       "      <td>cake</td>\n",
       "      <td>300.50</td>\n",
       "      <td>5</td>\n",
       "      <td>8</td>\n",
       "      <td>I'm just a normal person. Nothing special.</td>\n",
       "      <td>rainbow, fog, warm</td>\n",
       "      <td>2020-10-10 18:25:00</td>\n",
       "      <td>Married (and not separated)</td>\n",
       "    </tr>\n",
       "    <tr>\n",
       "      <th>1</th>\n",
       "      <td>Pete 32</td>\n",
       "      <td>teacher</td>\n",
       "      <td>98</td>\n",
       "      <td>3 point</td>\n",
       "      <td>30-80</td>\n",
       "      <td>steak</td>\n",
       "      <td>150.33</td>\n",
       "      <td>5</td>\n",
       "      <td>8</td>\n",
       "      <td>I'm a good person. I teach children all over t...</td>\n",
       "      <td>sun, fog, rainbow</td>\n",
       "      <td>2020-12-20 16:36:00</td>\n",
       "      <td>Single (including living common law)</td>\n",
       "    </tr>\n",
       "    <tr>\n",
       "      <th>2</th>\n",
       "      <td>Fedor 31</td>\n",
       "      <td>programmer</td>\n",
       "      <td>86</td>\n",
       "      <td>4 point</td>\n",
       "      <td>30-80</td>\n",
       "      <td>steaks</td>\n",
       "      <td>265.54</td>\n",
       "      <td>4</td>\n",
       "      <td>7</td>\n",
       "      <td>Nothing special, just a good programmer and fa...</td>\n",
       "      <td>chilly, fog, sun</td>\n",
       "      <td>2021-06-01 10:14:00</td>\n",
       "      <td>Single (including living common law)</td>\n",
       "    </tr>\n",
       "    <tr>\n",
       "      <th>3</th>\n",
       "      <td>Teodor 55</td>\n",
       "      <td>teacher</td>\n",
       "      <td>88</td>\n",
       "      <td>3 point</td>\n",
       "      <td>30-80</td>\n",
       "      <td>sweet</td>\n",
       "      <td>85.69</td>\n",
       "      <td>2</td>\n",
       "      <td>12</td>\n",
       "      <td>I'm a father and hasband. I love teach my son.</td>\n",
       "      <td>rainbow</td>\n",
       "      <td>2021-07-04 23:25:00</td>\n",
       "      <td>Married (and not separated)</td>\n",
       "    </tr>\n",
       "    <tr>\n",
       "      <th>4</th>\n",
       "      <td>Elena 19</td>\n",
       "      <td>student</td>\n",
       "      <td>60</td>\n",
       "      <td>1 point</td>\n",
       "      <td>0-15</td>\n",
       "      <td>CAKES</td>\n",
       "      <td>3150.54</td>\n",
       "      <td>1</td>\n",
       "      <td>24</td>\n",
       "      <td>I'm a good student and I want to travel all ov...</td>\n",
       "      <td>chilly, sun</td>\n",
       "      <td>2020-11-26 06:17:00</td>\n",
       "      <td>Single (including living common law)</td>\n",
       "    </tr>\n",
       "    <tr>\n",
       "      <th>5</th>\n",
       "      <td>Viktor 18</td>\n",
       "      <td>student</td>\n",
       "      <td>75</td>\n",
       "      <td>2 point</td>\n",
       "      <td>16-30</td>\n",
       "      <td>candy</td>\n",
       "      <td>450.84</td>\n",
       "      <td>6</td>\n",
       "      <td>8</td>\n",
       "      <td>I'm a normal student. I want to be a teacher.</td>\n",
       "      <td>warm, sun</td>\n",
       "      <td>2020-05-18 15:15:00</td>\n",
       "      <td>Single (including living common law)</td>\n",
       "    </tr>\n",
       "    <tr>\n",
       "      <th>6</th>\n",
       "      <td>Anton 36</td>\n",
       "      <td>teacher</td>\n",
       "      <td>91</td>\n",
       "      <td>4 point</td>\n",
       "      <td>30-80</td>\n",
       "      <td>candies</td>\n",
       "      <td>2140.36</td>\n",
       "      <td>7</td>\n",
       "      <td>3</td>\n",
       "      <td>I'm a hasband and teacher. I teach how to be a...</td>\n",
       "      <td>chilly</td>\n",
       "      <td>2021-10-03 09:08:00</td>\n",
       "      <td>Married (and not separated)</td>\n",
       "    </tr>\n",
       "    <tr>\n",
       "      <th>7</th>\n",
       "      <td>Boris 45</td>\n",
       "      <td>manager</td>\n",
       "      <td>96</td>\n",
       "      <td>4 point</td>\n",
       "      <td>80-150</td>\n",
       "      <td>dairy</td>\n",
       "      <td>1650.36</td>\n",
       "      <td>2</td>\n",
       "      <td>10</td>\n",
       "      <td>I don't know what to say. I'm a normal husband...</td>\n",
       "      <td>rainbow, dog</td>\n",
       "      <td>2020-02-25 04:57:00</td>\n",
       "      <td>Single (including living common law)</td>\n",
       "    </tr>\n",
       "    <tr>\n",
       "      <th>8</th>\n",
       "      <td>Alex 25</td>\n",
       "      <td>manager</td>\n",
       "      <td>65</td>\n",
       "      <td>4 point</td>\n",
       "      <td>16-30</td>\n",
       "      <td>milk</td>\n",
       "      <td>2425.84</td>\n",
       "      <td>5</td>\n",
       "      <td>7</td>\n",
       "      <td>Now I'm a manager but I'm going to be a progra...</td>\n",
       "      <td>warm, sun</td>\n",
       "      <td>2020-08-28 12:54:00</td>\n",
       "      <td>Married (and not separated)</td>\n",
       "    </tr>\n",
       "    <tr>\n",
       "      <th>9</th>\n",
       "      <td>Sergey 32</td>\n",
       "      <td>programmer</td>\n",
       "      <td>73</td>\n",
       "      <td>4 point</td>\n",
       "      <td>80-150</td>\n",
       "      <td>Dairy</td>\n",
       "      <td>1745.85</td>\n",
       "      <td>4</td>\n",
       "      <td>8</td>\n",
       "      <td>I'm special person! I can do what ever I want!...</td>\n",
       "      <td>fog, rainbow</td>\n",
       "      <td>2019-10-09 23:25:00</td>\n",
       "      <td>Married (and not separated)</td>\n",
       "    </tr>\n",
       "  </tbody>\n",
       "</table>\n",
       "</div>"
      ],
      "text/plain": [
       "    name_age  occupation  weight life_satisfaction relatives_income_k_rub  \\\n",
       "0    Oleg 25  programmer      80           5 point                   150+   \n",
       "1    Pete 32     teacher      98           3 point                  30-80   \n",
       "2   Fedor 31  programmer      86           4 point                  30-80   \n",
       "3  Teodor 55     teacher      88           3 point                  30-80   \n",
       "4   Elena 19     student      60           1 point                   0-15   \n",
       "5  Viktor 18     student      75           2 point                  16-30   \n",
       "6   Anton 36     teacher      91           4 point                  30-80   \n",
       "7   Boris 45     manager      96           4 point                 80-150   \n",
       "8    Alex 25     manager      65           4 point                  16-30   \n",
       "9  Sergey 32  programmer      73           4 point                 80-150   \n",
       "\n",
       "  favourite_dish  income_per_hour_rub  number_working_days_per_week  \\\n",
       "0           cake               300.50                             5   \n",
       "1          steak               150.33                             5   \n",
       "2         steaks               265.54                             4   \n",
       "3          sweet                85.69                             2   \n",
       "4          CAKES              3150.54                             1   \n",
       "5          candy               450.84                             6   \n",
       "6        candies              2140.36                             7   \n",
       "7          dairy              1650.36                             2   \n",
       "8           milk              2425.84                             5   \n",
       "9          Dairy              1745.85                             4   \n",
       "\n",
       "   number_working_hours_per_day  \\\n",
       "0                             8   \n",
       "1                             8   \n",
       "2                             7   \n",
       "3                            12   \n",
       "4                            24   \n",
       "5                             8   \n",
       "6                             3   \n",
       "7                            10   \n",
       "8                             7   \n",
       "9                             8   \n",
       "\n",
       "                              tell_me_about_yourself   favourite_weather  \\\n",
       "0         I'm just a normal person. Nothing special.  rainbow, fog, warm   \n",
       "1  I'm a good person. I teach children all over t...   sun, fog, rainbow   \n",
       "2  Nothing special, just a good programmer and fa...    chilly, fog, sun   \n",
       "3     I'm a father and hasband. I love teach my son.             rainbow   \n",
       "4  I'm a good student and I want to travel all ov...         chilly, sun   \n",
       "5      I'm a normal student. I want to be a teacher.           warm, sun   \n",
       "6  I'm a hasband and teacher. I teach how to be a...              chilly   \n",
       "7  I don't know what to say. I'm a normal husband...        rainbow, dog   \n",
       "8  Now I'm a manager but I'm going to be a progra...           warm, sun   \n",
       "9  I'm special person! I can do what ever I want!...        fog, rainbow   \n",
       "\n",
       "     answer_date_time                        marital_status  \n",
       "0 2020-10-10 18:25:00           Married (and not separated)  \n",
       "1 2020-12-20 16:36:00  Single (including living common law)  \n",
       "2 2021-06-01 10:14:00  Single (including living common law)  \n",
       "3 2021-07-04 23:25:00           Married (and not separated)  \n",
       "4 2020-11-26 06:17:00  Single (including living common law)  \n",
       "5 2020-05-18 15:15:00  Single (including living common law)  \n",
       "6 2021-10-03 09:08:00           Married (and not separated)  \n",
       "7 2020-02-25 04:57:00  Single (including living common law)  \n",
       "8 2020-08-28 12:54:00           Married (and not separated)  \n",
       "9 2019-10-09 23:25:00           Married (and not separated)  "
      ]
     },
     "execution_count": 9,
     "metadata": {},
     "output_type": "execute_result"
    }
   ],
   "source": [
    "df"
   ]
  },
  {
   "cell_type": "code",
   "execution_count": 10,
   "metadata": {
    "collapsed": false,
    "jupyter": {
     "outputs_hidden": false
    },
    "pycharm": {
     "name": "#%%\n"
    }
   },
   "outputs": [
    {
     "name": "stdout",
     "output_type": "stream",
     "text": [
      "<class 'pandas.core.frame.DataFrame'>\n",
      "RangeIndex: 10 entries, 0 to 9\n",
      "Data columns (total 13 columns):\n",
      " #   Column                        Non-Null Count  Dtype         \n",
      "---  ------                        --------------  -----         \n",
      " 0   name_age                      10 non-null     string        \n",
      " 1   occupation                    10 non-null     category      \n",
      " 2   weight                        10 non-null     int16         \n",
      " 3   life_satisfaction             10 non-null     category      \n",
      " 4   relatives_income_k_rub        10 non-null     category      \n",
      " 5   favourite_dish                10 non-null     string        \n",
      " 6   income_per_hour_rub           10 non-null     float64       \n",
      " 7   number_working_days_per_week  10 non-null     int8          \n",
      " 8   number_working_hours_per_day  10 non-null     int8          \n",
      " 9   tell_me_about_yourself        10 non-null     string        \n",
      " 10  favourite_weather             10 non-null     string        \n",
      " 11  answer_date_time              10 non-null     datetime64[ns]\n",
      " 12  marital_status                10 non-null     string        \n",
      "dtypes: category(3), datetime64[ns](1), float64(1), int16(1), int8(2), string(5)\n",
      "memory usage: 1.4 KB\n"
     ]
    }
   ],
   "source": [
    "df.info()"
   ]
  },
  {
   "cell_type": "markdown",
   "metadata": {},
   "source": [
    "### Анализ типов шкал\n",
    "\n",
    "(см. [лекцию](../../03_data_analysis/lectures/08_statistical_data_types.ipynb))\n",
    "\n",
    "| Наименование | Шкала |\n",
    "|     -:      |  :-  |\n",
    "| `name_age` | номинальная |\n",
    "| `occupation` | номинальная |\n",
    "| `weight` | отношений |\n",
    "| `life_satisfaction` | порядковая |\n",
    "| `relatives_income_k_rub` | порядковая |\n",
    "| `favourite_dish` | номинальная |\n",
    "| `income_per_hour_rub` | отношений |\n",
    "| `number_working_days_per_week` | отношений |\n",
    "| `number_working_hours_per_day` | отношений |\n",
    "| `tell_me_about_yourself` | номинальная |\n",
    "| `favourite_weather` | номинальная |\n",
    "| `answer_date_time` | интервальная |\n",
    "| `marital_status` | номинальная или порядковая |"
   ]
  },
  {
   "cell_type": "code",
   "execution_count": null,
   "metadata": {},
   "outputs": [],
   "source": []
  }
 ],
 "metadata": {
  "kernelspec": {
   "display_name": "Python [conda env:LevelUp_DataScience] *",
   "language": "python",
   "name": "conda-env-LevelUp_DataScience-py"
  },
  "language_info": {
   "codemirror_mode": {
    "name": "ipython",
    "version": 3
   },
   "file_extension": ".py",
   "mimetype": "text/x-python",
   "name": "python",
   "nbconvert_exporter": "python",
   "pygments_lexer": "ipython3",
   "version": "3.8.5"
  }
 },
 "nbformat": 4,
 "nbformat_minor": 4
}
