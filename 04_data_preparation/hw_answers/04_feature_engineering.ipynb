{
 "cells": [
  {
   "cell_type": "markdown",
   "metadata": {
    "pycharm": {
     "name": "#%% md\n"
    }
   },
   "source": [
    "# Домашнее задание по теме: Конструирование признаков (Feature Engineering)"
   ]
  },
  {
   "cell_type": "markdown",
   "metadata": {},
   "source": [
    "## Подготовка окружения"
   ]
  },
  {
   "cell_type": "code",
   "execution_count": 1,
   "metadata": {
    "collapsed": false,
    "jupyter": {
     "outputs_hidden": false
    },
    "pycharm": {
     "name": "#%%\n"
    }
   },
   "outputs": [],
   "source": [
    "# ВНИМАНИЕ: необходимо удостовериться, что виртуальная среда выбрана правильно!\n",
    "\n",
    "# Для MacOS/Ubuntu\n",
    "# !which pip\n",
    "\n",
    "# Для Windows\n",
    "# !where pip"
   ]
  },
  {
   "cell_type": "code",
   "execution_count": 2,
   "metadata": {
    "collapsed": false,
    "jupyter": {
     "outputs_hidden": false
    },
    "pycharm": {
     "name": "#%%\n"
    }
   },
   "outputs": [],
   "source": [
    "# !conda install pandas matplotlib numpy seaborn -y"
   ]
  },
  {
   "cell_type": "code",
   "execution_count": 3,
   "metadata": {
    "collapsed": false,
    "jupyter": {
     "outputs_hidden": false
    },
    "pycharm": {
     "name": "#%%\n"
    }
   },
   "outputs": [
    {
     "data": {
      "text/plain": [
       "'1.19.2'"
      ]
     },
     "execution_count": 3,
     "metadata": {},
     "output_type": "execute_result"
    }
   ],
   "source": [
    "import numpy as np\n",
    "\n",
    "np.__version__"
   ]
  },
  {
   "cell_type": "code",
   "execution_count": 4,
   "metadata": {
    "collapsed": false,
    "jupyter": {
     "outputs_hidden": false
    },
    "pycharm": {
     "name": "#%%\n"
    }
   },
   "outputs": [
    {
     "data": {
      "text/plain": [
       "'1.2.3'"
      ]
     },
     "execution_count": 4,
     "metadata": {},
     "output_type": "execute_result"
    }
   ],
   "source": [
    "import pandas as pd\n",
    "\n",
    "pd.__version__"
   ]
  },
  {
   "cell_type": "code",
   "execution_count": 5,
   "metadata": {
    "collapsed": false,
    "jupyter": {
     "outputs_hidden": false
    },
    "pycharm": {
     "name": "#%%\n"
    }
   },
   "outputs": [
    {
     "data": {
      "text/plain": [
       "'3.3.4'"
      ]
     },
     "execution_count": 5,
     "metadata": {},
     "output_type": "execute_result"
    }
   ],
   "source": [
    "import matplotlib\n",
    "import matplotlib.pyplot as plt\n",
    "\n",
    "matplotlib.__version__"
   ]
  },
  {
   "cell_type": "code",
   "execution_count": 6,
   "metadata": {
    "collapsed": false,
    "jupyter": {
     "outputs_hidden": false
    },
    "pycharm": {
     "name": "#%%\n"
    }
   },
   "outputs": [
    {
     "data": {
      "text/plain": [
       "'0.11.1'"
      ]
     },
     "execution_count": 6,
     "metadata": {},
     "output_type": "execute_result"
    }
   ],
   "source": [
    "import seaborn as sns\n",
    "\n",
    "sns.__version__"
   ]
  },
  {
   "cell_type": "markdown",
   "metadata": {},
   "source": [
    "## Создание `DataFrame` для примера"
   ]
  },
  {
   "cell_type": "code",
   "execution_count": 7,
   "metadata": {
    "collapsed": false,
    "jupyter": {
     "outputs_hidden": false
    },
    "pycharm": {
     "name": "#%%\n"
    }
   },
   "outputs": [],
   "source": [
    "# социологический опрос\n",
    "df = pd.DataFrame({'name_age': pd.Series(['Oleg 25', 'Pete 32',\n",
    "                                          'Fedor 31', 'Teodor 55',\n",
    "                                          'Elena 19', 'Viktor 18',\n",
    "                                          'Anton 36', 'Boris 45',\n",
    "                                          'Alex 25', 'Sergey 32'],\n",
    "                                         dtype='string'),\n",
    "\n",
    "                   'occupation': pd.Series(['programmer', 'teacher',\n",
    "                                            'programmer', 'teacher',\n",
    "                                            'student', 'student',\n",
    "                                            'teacher', 'manager',\n",
    "                                            'manager', 'programmer'],\n",
    "                                           dtype='category'),\n",
    "\n",
    "                   'weight': pd.Series([80, 98,\n",
    "                                        86, 88,\n",
    "                                        60, 75,\n",
    "                                        91, 96,\n",
    "                                        65, 73],\n",
    "                                       dtype='int16'),\n",
    "\n",
    "                  'life_satisfaction': pd.Series(['5 point', '3 point',\n",
    "                                                  '4 point', '3 point',\n",
    "                                                  '1 point', '2 point',\n",
    "                                                  '4 point', '4 point',\n",
    "                                                  '4 point', '4 point'],\n",
    "                                           dtype=pd.CategoricalDtype(categories=['1 point',\n",
    "                                                                                 '2 point',\n",
    "                                                                                 '3 point',\n",
    "                                                                                 '4 point',\n",
    "                                                                                 '5 point'], ordered=True)),\n",
    "\n",
    "                'relatives_income_k_rub': pd.Series(['150+', '30-80',\n",
    "                                                     '30-80', '30-80',\n",
    "                                                     '0-15', '16-30',\n",
    "                                                     '30-80', '80-150',\n",
    "                                                     '16-30', '80-150'],\n",
    "                                                    dtype=pd.CategoricalDtype(categories=['0-15',\n",
    "                                                                                '16-30',\n",
    "                                                                                '30-80',\n",
    "                                                                                '80-150',\n",
    "                                                                                '150+'], ordered=True)),\n",
    "\n",
    "                  'favourite_dish': pd.Series(['cake', 'steak',\n",
    "                                               'steaks', 'sweet',\n",
    "                                               'CAKES', 'candy',\n",
    "                                               'candies', 'dairy',\n",
    "                                               'milk', 'Dairy'],\n",
    "                                              dtype='string'),\n",
    "\n",
    "                   'income_per_hour_rub': pd.Series([300.50, 150.33,\n",
    "                                                     265.54, 85.69,\n",
    "                                                     3_150.54, 450.84,\n",
    "                                                     2_140.36, 1_650.36,\n",
    "                                                     2_425.84, 1_745.85],\n",
    "                                                    dtype='float'),\n",
    "\n",
    "                  'number_working_days_per_week': pd.Series([5, 5,\n",
    "                                                             4, 2,\n",
    "                                                             1, 6,\n",
    "                                                             7, 2,\n",
    "                                                             5, 4],\n",
    "                                                            dtype='int8'),\n",
    "\n",
    "                   'number_working_hours_per_day': pd.Series([8, 8,\n",
    "                                                              7, 12,\n",
    "                                                              24, 8,\n",
    "                                                              3, 10,\n",
    "                                                              7, 8],\n",
    "                                                             dtype='int8'),\n",
    "\n",
    "                   'tell_me_about_yourself': pd.Series([\"I'm just a normal person. Nothing special.\",\n",
    "                                                        \"I'm a good person. I teach children all over the world.\",\n",
    "                                                        \"Nothing special, just a good programmer and father.\",\n",
    "                                                        \"I'm a father and hasband. I love teach my son.\",\n",
    "                                                        \"I'm a good student and I want to travel all over the world. I'm going to be a programmer some day!\",\n",
    "                                                        \"I'm a normal student. I want to be a teacher.\",\n",
    "                                                        \"I'm a hasband and teacher. I teach how to be a programmer. I have a son. I love him.\",\n",
    "                                                        \"I don't know what to say. I'm a normal husband and good father.\",\n",
    "                                                        \"Now I'm a manager but I'm going to be a programmer. I want to be a good student.\",\n",
    "                                                        \"I'm special person! I can do what ever I want! I can be a husband and programmer simultaneously!\"],\n",
    "                                                       dtype='string'),\n",
    "\n",
    "                   'favourite_weather': pd.Series(['rainbow/fog/warm',\n",
    "                                                   'sun/fog/rainbow',\n",
    "                                                   'chilly/fog/sun',\n",
    "                                                   'rainbow',\n",
    "                                                   'chilly/sun',\n",
    "                                                   'warm/sun',\n",
    "                                                   'chilly',\n",
    "                                                   'rainbow/sun', \n",
    "                                                   'warm/sun',\n",
    "                                                   'fog/rainbow'],\n",
    "                                                  dtype='string'),\n",
    "\n",
    "                    'answer_date_time': pd.Series(['10.10.2020 18:25', '20.12.2020 16:36',\n",
    "                                                   '06.01.2021 10:14', '07.04.2021 23:25',\n",
    "                                                   '26.11.2020 06:17', '18.05.2020 15:15',\n",
    "                                                   '10.03.2021 09:08', '25.02.2020 04:57',\n",
    "                                                   '28.08.2020 12:54', '10.09.2019 23:25'],\n",
    "                                                  dtype='datetime64[ns]'),\n",
    "\n",
    "                   'marital_status': pd.Series(['Married (and not separated)', \n",
    "                                                'Single (including living common law)',\n",
    "                                                'Single (including living common law)', \n",
    "                                                'Married (and not separated)',\n",
    "                                                'Single (including living common law)', \n",
    "                                                'Single (including living common law)',\n",
    "                                                'Married (and not separated)', \n",
    "                                                'Single (including living common law)',\n",
    "                                                'Married (and not separated)', \n",
    "                                                'Married (and not separated)'],\n",
    "                                               dtype='string')\n",
    "                  })"
   ]
  },
  {
   "cell_type": "code",
   "execution_count": 8,
   "metadata": {
    "collapsed": false,
    "jupyter": {
     "outputs_hidden": false
    },
    "pycharm": {
     "name": "#%%\n"
    }
   },
   "outputs": [],
   "source": [
    "# отображать все колонки\n",
    "pd.options.display.max_columns = None"
   ]
  },
  {
   "cell_type": "code",
   "execution_count": 9,
   "metadata": {
    "collapsed": false,
    "jupyter": {
     "outputs_hidden": false
    },
    "pycharm": {
     "name": "#%%\n"
    }
   },
   "outputs": [
    {
     "data": {
      "text/html": [
       "<div>\n",
       "<style scoped>\n",
       "    .dataframe tbody tr th:only-of-type {\n",
       "        vertical-align: middle;\n",
       "    }\n",
       "\n",
       "    .dataframe tbody tr th {\n",
       "        vertical-align: top;\n",
       "    }\n",
       "\n",
       "    .dataframe thead th {\n",
       "        text-align: right;\n",
       "    }\n",
       "</style>\n",
       "<table border=\"1\" class=\"dataframe\">\n",
       "  <thead>\n",
       "    <tr style=\"text-align: right;\">\n",
       "      <th></th>\n",
       "      <th>name_age</th>\n",
       "      <th>occupation</th>\n",
       "      <th>weight</th>\n",
       "      <th>life_satisfaction</th>\n",
       "      <th>relatives_income_k_rub</th>\n",
       "      <th>favourite_dish</th>\n",
       "      <th>income_per_hour_rub</th>\n",
       "      <th>number_working_days_per_week</th>\n",
       "      <th>number_working_hours_per_day</th>\n",
       "      <th>tell_me_about_yourself</th>\n",
       "      <th>favourite_weather</th>\n",
       "      <th>answer_date_time</th>\n",
       "      <th>marital_status</th>\n",
       "    </tr>\n",
       "  </thead>\n",
       "  <tbody>\n",
       "    <tr>\n",
       "      <th>0</th>\n",
       "      <td>Oleg 25</td>\n",
       "      <td>programmer</td>\n",
       "      <td>80</td>\n",
       "      <td>5 point</td>\n",
       "      <td>150+</td>\n",
       "      <td>cake</td>\n",
       "      <td>300.50</td>\n",
       "      <td>5</td>\n",
       "      <td>8</td>\n",
       "      <td>I'm just a normal person. Nothing special.</td>\n",
       "      <td>rainbow/fog/warm</td>\n",
       "      <td>2020-10-10 18:25:00</td>\n",
       "      <td>Married (and not separated)</td>\n",
       "    </tr>\n",
       "    <tr>\n",
       "      <th>1</th>\n",
       "      <td>Pete 32</td>\n",
       "      <td>teacher</td>\n",
       "      <td>98</td>\n",
       "      <td>3 point</td>\n",
       "      <td>30-80</td>\n",
       "      <td>steak</td>\n",
       "      <td>150.33</td>\n",
       "      <td>5</td>\n",
       "      <td>8</td>\n",
       "      <td>I'm a good person. I teach children all over t...</td>\n",
       "      <td>sun/fog/rainbow</td>\n",
       "      <td>2020-12-20 16:36:00</td>\n",
       "      <td>Single (including living common law)</td>\n",
       "    </tr>\n",
       "    <tr>\n",
       "      <th>2</th>\n",
       "      <td>Fedor 31</td>\n",
       "      <td>programmer</td>\n",
       "      <td>86</td>\n",
       "      <td>4 point</td>\n",
       "      <td>30-80</td>\n",
       "      <td>steaks</td>\n",
       "      <td>265.54</td>\n",
       "      <td>4</td>\n",
       "      <td>7</td>\n",
       "      <td>Nothing special, just a good programmer and fa...</td>\n",
       "      <td>chilly/fog/sun</td>\n",
       "      <td>2021-06-01 10:14:00</td>\n",
       "      <td>Single (including living common law)</td>\n",
       "    </tr>\n",
       "    <tr>\n",
       "      <th>3</th>\n",
       "      <td>Teodor 55</td>\n",
       "      <td>teacher</td>\n",
       "      <td>88</td>\n",
       "      <td>3 point</td>\n",
       "      <td>30-80</td>\n",
       "      <td>sweet</td>\n",
       "      <td>85.69</td>\n",
       "      <td>2</td>\n",
       "      <td>12</td>\n",
       "      <td>I'm a father and hasband. I love teach my son.</td>\n",
       "      <td>rainbow</td>\n",
       "      <td>2021-07-04 23:25:00</td>\n",
       "      <td>Married (and not separated)</td>\n",
       "    </tr>\n",
       "    <tr>\n",
       "      <th>4</th>\n",
       "      <td>Elena 19</td>\n",
       "      <td>student</td>\n",
       "      <td>60</td>\n",
       "      <td>1 point</td>\n",
       "      <td>0-15</td>\n",
       "      <td>CAKES</td>\n",
       "      <td>3150.54</td>\n",
       "      <td>1</td>\n",
       "      <td>24</td>\n",
       "      <td>I'm a good student and I want to travel all ov...</td>\n",
       "      <td>chilly/sun</td>\n",
       "      <td>2020-11-26 06:17:00</td>\n",
       "      <td>Single (including living common law)</td>\n",
       "    </tr>\n",
       "    <tr>\n",
       "      <th>5</th>\n",
       "      <td>Viktor 18</td>\n",
       "      <td>student</td>\n",
       "      <td>75</td>\n",
       "      <td>2 point</td>\n",
       "      <td>16-30</td>\n",
       "      <td>candy</td>\n",
       "      <td>450.84</td>\n",
       "      <td>6</td>\n",
       "      <td>8</td>\n",
       "      <td>I'm a normal student. I want to be a teacher.</td>\n",
       "      <td>warm/sun</td>\n",
       "      <td>2020-05-18 15:15:00</td>\n",
       "      <td>Single (including living common law)</td>\n",
       "    </tr>\n",
       "    <tr>\n",
       "      <th>6</th>\n",
       "      <td>Anton 36</td>\n",
       "      <td>teacher</td>\n",
       "      <td>91</td>\n",
       "      <td>4 point</td>\n",
       "      <td>30-80</td>\n",
       "      <td>candies</td>\n",
       "      <td>2140.36</td>\n",
       "      <td>7</td>\n",
       "      <td>3</td>\n",
       "      <td>I'm a hasband and teacher. I teach how to be a...</td>\n",
       "      <td>chilly</td>\n",
       "      <td>2021-10-03 09:08:00</td>\n",
       "      <td>Married (and not separated)</td>\n",
       "    </tr>\n",
       "    <tr>\n",
       "      <th>7</th>\n",
       "      <td>Boris 45</td>\n",
       "      <td>manager</td>\n",
       "      <td>96</td>\n",
       "      <td>4 point</td>\n",
       "      <td>80-150</td>\n",
       "      <td>dairy</td>\n",
       "      <td>1650.36</td>\n",
       "      <td>2</td>\n",
       "      <td>10</td>\n",
       "      <td>I don't know what to say. I'm a normal husband...</td>\n",
       "      <td>rainbow/sun</td>\n",
       "      <td>2020-02-25 04:57:00</td>\n",
       "      <td>Single (including living common law)</td>\n",
       "    </tr>\n",
       "    <tr>\n",
       "      <th>8</th>\n",
       "      <td>Alex 25</td>\n",
       "      <td>manager</td>\n",
       "      <td>65</td>\n",
       "      <td>4 point</td>\n",
       "      <td>16-30</td>\n",
       "      <td>milk</td>\n",
       "      <td>2425.84</td>\n",
       "      <td>5</td>\n",
       "      <td>7</td>\n",
       "      <td>Now I'm a manager but I'm going to be a progra...</td>\n",
       "      <td>warm/sun</td>\n",
       "      <td>2020-08-28 12:54:00</td>\n",
       "      <td>Married (and not separated)</td>\n",
       "    </tr>\n",
       "    <tr>\n",
       "      <th>9</th>\n",
       "      <td>Sergey 32</td>\n",
       "      <td>programmer</td>\n",
       "      <td>73</td>\n",
       "      <td>4 point</td>\n",
       "      <td>80-150</td>\n",
       "      <td>Dairy</td>\n",
       "      <td>1745.85</td>\n",
       "      <td>4</td>\n",
       "      <td>8</td>\n",
       "      <td>I'm special person! I can do what ever I want!...</td>\n",
       "      <td>fog/rainbow</td>\n",
       "      <td>2019-10-09 23:25:00</td>\n",
       "      <td>Married (and not separated)</td>\n",
       "    </tr>\n",
       "  </tbody>\n",
       "</table>\n",
       "</div>"
      ],
      "text/plain": [
       "    name_age  occupation  weight life_satisfaction relatives_income_k_rub  \\\n",
       "0    Oleg 25  programmer      80           5 point                   150+   \n",
       "1    Pete 32     teacher      98           3 point                  30-80   \n",
       "2   Fedor 31  programmer      86           4 point                  30-80   \n",
       "3  Teodor 55     teacher      88           3 point                  30-80   \n",
       "4   Elena 19     student      60           1 point                   0-15   \n",
       "5  Viktor 18     student      75           2 point                  16-30   \n",
       "6   Anton 36     teacher      91           4 point                  30-80   \n",
       "7   Boris 45     manager      96           4 point                 80-150   \n",
       "8    Alex 25     manager      65           4 point                  16-30   \n",
       "9  Sergey 32  programmer      73           4 point                 80-150   \n",
       "\n",
       "  favourite_dish  income_per_hour_rub  number_working_days_per_week  \\\n",
       "0           cake               300.50                             5   \n",
       "1          steak               150.33                             5   \n",
       "2         steaks               265.54                             4   \n",
       "3          sweet                85.69                             2   \n",
       "4          CAKES              3150.54                             1   \n",
       "5          candy               450.84                             6   \n",
       "6        candies              2140.36                             7   \n",
       "7          dairy              1650.36                             2   \n",
       "8           milk              2425.84                             5   \n",
       "9          Dairy              1745.85                             4   \n",
       "\n",
       "   number_working_hours_per_day  \\\n",
       "0                             8   \n",
       "1                             8   \n",
       "2                             7   \n",
       "3                            12   \n",
       "4                            24   \n",
       "5                             8   \n",
       "6                             3   \n",
       "7                            10   \n",
       "8                             7   \n",
       "9                             8   \n",
       "\n",
       "                              tell_me_about_yourself favourite_weather  \\\n",
       "0         I'm just a normal person. Nothing special.  rainbow/fog/warm   \n",
       "1  I'm a good person. I teach children all over t...   sun/fog/rainbow   \n",
       "2  Nothing special, just a good programmer and fa...    chilly/fog/sun   \n",
       "3     I'm a father and hasband. I love teach my son.           rainbow   \n",
       "4  I'm a good student and I want to travel all ov...        chilly/sun   \n",
       "5      I'm a normal student. I want to be a teacher.          warm/sun   \n",
       "6  I'm a hasband and teacher. I teach how to be a...            chilly   \n",
       "7  I don't know what to say. I'm a normal husband...       rainbow/sun   \n",
       "8  Now I'm a manager but I'm going to be a progra...          warm/sun   \n",
       "9  I'm special person! I can do what ever I want!...       fog/rainbow   \n",
       "\n",
       "     answer_date_time                        marital_status  \n",
       "0 2020-10-10 18:25:00           Married (and not separated)  \n",
       "1 2020-12-20 16:36:00  Single (including living common law)  \n",
       "2 2021-06-01 10:14:00  Single (including living common law)  \n",
       "3 2021-07-04 23:25:00           Married (and not separated)  \n",
       "4 2020-11-26 06:17:00  Single (including living common law)  \n",
       "5 2020-05-18 15:15:00  Single (including living common law)  \n",
       "6 2021-10-03 09:08:00           Married (and not separated)  \n",
       "7 2020-02-25 04:57:00  Single (including living common law)  \n",
       "8 2020-08-28 12:54:00           Married (and not separated)  \n",
       "9 2019-10-09 23:25:00           Married (and not separated)  "
      ]
     },
     "execution_count": 9,
     "metadata": {},
     "output_type": "execute_result"
    }
   ],
   "source": [
    "df"
   ]
  },
  {
   "cell_type": "markdown",
   "metadata": {},
   "source": [
    "## **ВНИМАНИЕ**\n",
    "\n",
    "- Вместо строки `место_для_ответа` необходимо вписать свой ответ. Не рядом, а вместо. Остальную часть оформления менять не нужно.\n",
    "\n",
    "- В ячейках с комментариями необходимо реализовать то, что описывает комментарий.\n",
    "\n",
    "- Для выполнения заданий можно использовать любые удобные способы, если в комментариях к заданию не указан конкретный метод.\n",
    "\n",
    "- В строке \"Подсказка\" могут быть перечислены какие-то методы, которыми можно воспользоватся, но это не обязательно, так как это только один из множества вариантов (не факт, что лучший).\n",
    "\n",
    "- Результаты обработки можно добавлять к специально созданному чистому `DataFrame`, или к существующиму (как в примерах из лекции).\n",
    "\n",
    "- **В конце каждого задания необходимо выводить результ в формате \"было-стало\"**. Может был указано любое нужное количество колонок (зависит от задания). Важно показать результат по сравнению с исходными данными. Пример: `df[['name_age', 'age']]`.\n",
    "\n",
    "- Графики можно рисовать любым способом / цветом и т.п. Главное, чтобы было понятно, что там изображено.\n",
    "\n",
    "- Если в задании требуется **нарисовать график, то он нужен вначале (показать как было) и в конце (как стало)**.\n",
    "\n",
    "- В некоторых задания необходимо понимать, что значит каждое слово (для их группировки, например). Если зачение слова непонятно, то необходимо разобраться с его значением самостоятельно. Пожалуйства, будьте внимательны, перепроверяйте значения слов, если не уверены.  "
   ]
  },
  {
   "cell_type": "code",
   "execution_count": 10,
   "metadata": {
    "collapsed": false,
    "jupyter": {
     "outputs_hidden": false
    },
    "pycharm": {
     "name": "#%%\n"
    }
   },
   "outputs": [
    {
     "name": "stdout",
     "output_type": "stream",
     "text": [
      "<class 'pandas.core.frame.DataFrame'>\n",
      "RangeIndex: 10 entries, 0 to 9\n",
      "Data columns (total 13 columns):\n",
      " #   Column                        Non-Null Count  Dtype         \n",
      "---  ------                        --------------  -----         \n",
      " 0   name_age                      10 non-null     string        \n",
      " 1   occupation                    10 non-null     category      \n",
      " 2   weight                        10 non-null     int16         \n",
      " 3   life_satisfaction             10 non-null     category      \n",
      " 4   relatives_income_k_rub        10 non-null     category      \n",
      " 5   favourite_dish                10 non-null     string        \n",
      " 6   income_per_hour_rub           10 non-null     float64       \n",
      " 7   number_working_days_per_week  10 non-null     int8          \n",
      " 8   number_working_hours_per_day  10 non-null     int8          \n",
      " 9   tell_me_about_yourself        10 non-null     string        \n",
      " 10  favourite_weather             10 non-null     string        \n",
      " 11  answer_date_time              10 non-null     datetime64[ns]\n",
      " 12  marital_status                10 non-null     string        \n",
      "dtypes: category(3), datetime64[ns](1), float64(1), int16(1), int8(2), string(5)\n",
      "memory usage: 1.4 KB\n"
     ]
    }
   ],
   "source": [
    "# получить список колонок и их типы\n",
    "df.info()"
   ]
  },
  {
   "cell_type": "markdown",
   "metadata": {},
   "source": [
    "### Анализ типов шкал\n",
    "\n",
    "(см. [лекцию](../../03_data_analysis/lectures/08_statistical_data_types.ipynb))\n",
    "\n",
    "| Наименование | Шкала |\n",
    "|     -:      |  :-  |\n",
    "| `name_age` | номинальная |\n",
    "| `occupation` | номинальная |\n",
    "| `weight` | отношений |\n",
    "| `life_satisfaction` | порядковая |\n",
    "| `relatives_income_k_rub` | порядковая |\n",
    "| `favourite_dish` | номинальная |\n",
    "| `income_per_hour_rub` | отношений |\n",
    "| `number_working_days_per_week` | отношений |\n",
    "| `number_working_hours_per_day` | отношений |\n",
    "| `tell_me_about_yourself` | номинальная |\n",
    "| `favourite_weather` | номинальная |\n",
    "| `answer_date_time` | интервальная |\n",
    "| `marital_status` | номинальная или порядковая |"
   ]
  },
  {
   "cell_type": "markdown",
   "metadata": {},
   "source": [
    "## Строковые признаки"
   ]
  },
  {
   "cell_type": "code",
   "execution_count": 11,
   "metadata": {},
   "outputs": [
    {
     "data": {
      "text/html": [
       "<div>\n",
       "<style scoped>\n",
       "    .dataframe tbody tr th:only-of-type {\n",
       "        vertical-align: middle;\n",
       "    }\n",
       "\n",
       "    .dataframe tbody tr th {\n",
       "        vertical-align: top;\n",
       "    }\n",
       "\n",
       "    .dataframe thead th {\n",
       "        text-align: right;\n",
       "    }\n",
       "</style>\n",
       "<table border=\"1\" class=\"dataframe\">\n",
       "  <thead>\n",
       "    <tr style=\"text-align: right;\">\n",
       "      <th></th>\n",
       "      <th>name_age</th>\n",
       "      <th>favourite_dish</th>\n",
       "      <th>tell_me_about_yourself</th>\n",
       "      <th>favourite_weather</th>\n",
       "      <th>marital_status</th>\n",
       "    </tr>\n",
       "  </thead>\n",
       "  <tbody>\n",
       "    <tr>\n",
       "      <th>0</th>\n",
       "      <td>Oleg 25</td>\n",
       "      <td>cake</td>\n",
       "      <td>I'm just a normal person. Nothing special.</td>\n",
       "      <td>rainbow/fog/warm</td>\n",
       "      <td>Married (and not separated)</td>\n",
       "    </tr>\n",
       "    <tr>\n",
       "      <th>1</th>\n",
       "      <td>Pete 32</td>\n",
       "      <td>steak</td>\n",
       "      <td>I'm a good person. I teach children all over t...</td>\n",
       "      <td>sun/fog/rainbow</td>\n",
       "      <td>Single (including living common law)</td>\n",
       "    </tr>\n",
       "    <tr>\n",
       "      <th>2</th>\n",
       "      <td>Fedor 31</td>\n",
       "      <td>steaks</td>\n",
       "      <td>Nothing special, just a good programmer and fa...</td>\n",
       "      <td>chilly/fog/sun</td>\n",
       "      <td>Single (including living common law)</td>\n",
       "    </tr>\n",
       "    <tr>\n",
       "      <th>3</th>\n",
       "      <td>Teodor 55</td>\n",
       "      <td>sweet</td>\n",
       "      <td>I'm a father and hasband. I love teach my son.</td>\n",
       "      <td>rainbow</td>\n",
       "      <td>Married (and not separated)</td>\n",
       "    </tr>\n",
       "    <tr>\n",
       "      <th>4</th>\n",
       "      <td>Elena 19</td>\n",
       "      <td>CAKES</td>\n",
       "      <td>I'm a good student and I want to travel all ov...</td>\n",
       "      <td>chilly/sun</td>\n",
       "      <td>Single (including living common law)</td>\n",
       "    </tr>\n",
       "    <tr>\n",
       "      <th>5</th>\n",
       "      <td>Viktor 18</td>\n",
       "      <td>candy</td>\n",
       "      <td>I'm a normal student. I want to be a teacher.</td>\n",
       "      <td>warm/sun</td>\n",
       "      <td>Single (including living common law)</td>\n",
       "    </tr>\n",
       "    <tr>\n",
       "      <th>6</th>\n",
       "      <td>Anton 36</td>\n",
       "      <td>candies</td>\n",
       "      <td>I'm a hasband and teacher. I teach how to be a...</td>\n",
       "      <td>chilly</td>\n",
       "      <td>Married (and not separated)</td>\n",
       "    </tr>\n",
       "    <tr>\n",
       "      <th>7</th>\n",
       "      <td>Boris 45</td>\n",
       "      <td>dairy</td>\n",
       "      <td>I don't know what to say. I'm a normal husband...</td>\n",
       "      <td>rainbow/sun</td>\n",
       "      <td>Single (including living common law)</td>\n",
       "    </tr>\n",
       "    <tr>\n",
       "      <th>8</th>\n",
       "      <td>Alex 25</td>\n",
       "      <td>milk</td>\n",
       "      <td>Now I'm a manager but I'm going to be a progra...</td>\n",
       "      <td>warm/sun</td>\n",
       "      <td>Married (and not separated)</td>\n",
       "    </tr>\n",
       "    <tr>\n",
       "      <th>9</th>\n",
       "      <td>Sergey 32</td>\n",
       "      <td>Dairy</td>\n",
       "      <td>I'm special person! I can do what ever I want!...</td>\n",
       "      <td>fog/rainbow</td>\n",
       "      <td>Married (and not separated)</td>\n",
       "    </tr>\n",
       "  </tbody>\n",
       "</table>\n",
       "</div>"
      ],
      "text/plain": [
       "    name_age favourite_dish  \\\n",
       "0    Oleg 25           cake   \n",
       "1    Pete 32          steak   \n",
       "2   Fedor 31         steaks   \n",
       "3  Teodor 55          sweet   \n",
       "4   Elena 19          CAKES   \n",
       "5  Viktor 18          candy   \n",
       "6   Anton 36        candies   \n",
       "7   Boris 45          dairy   \n",
       "8    Alex 25           milk   \n",
       "9  Sergey 32          Dairy   \n",
       "\n",
       "                              tell_me_about_yourself favourite_weather  \\\n",
       "0         I'm just a normal person. Nothing special.  rainbow/fog/warm   \n",
       "1  I'm a good person. I teach children all over t...   sun/fog/rainbow   \n",
       "2  Nothing special, just a good programmer and fa...    chilly/fog/sun   \n",
       "3     I'm a father and hasband. I love teach my son.           rainbow   \n",
       "4  I'm a good student and I want to travel all ov...        chilly/sun   \n",
       "5      I'm a normal student. I want to be a teacher.          warm/sun   \n",
       "6  I'm a hasband and teacher. I teach how to be a...            chilly   \n",
       "7  I don't know what to say. I'm a normal husband...       rainbow/sun   \n",
       "8  Now I'm a manager but I'm going to be a progra...          warm/sun   \n",
       "9  I'm special person! I can do what ever I want!...       fog/rainbow   \n",
       "\n",
       "                         marital_status  \n",
       "0           Married (and not separated)  \n",
       "1  Single (including living common law)  \n",
       "2  Single (including living common law)  \n",
       "3           Married (and not separated)  \n",
       "4  Single (including living common law)  \n",
       "5  Single (including living common law)  \n",
       "6           Married (and not separated)  \n",
       "7  Single (including living common law)  \n",
       "8           Married (and not separated)  \n",
       "9           Married (and not separated)  "
      ]
     },
     "execution_count": 11,
     "metadata": {},
     "output_type": "execute_result"
    }
   ],
   "source": [
    "# получить все колонки типа string\n",
    "df.select_dtypes(include='string')"
   ]
  },
  {
   "cell_type": "markdown",
   "metadata": {},
   "source": [
    "### Получить информацию из строки\n",
    "\n",
    "В колонке `name_age` содержится имя и возраст.\n",
    "\n",
    "Необходимо получить данные о возрасте.\n",
    "\n",
    "Результ сохранить в отдельную колонку `age`.\n",
    "\n",
    "Подсказка: `apply`."
   ]
  },
  {
   "cell_type": "code",
   "execution_count": 12,
   "metadata": {},
   "outputs": [
    {
     "data": {
      "text/html": [
       "<div>\n",
       "<style scoped>\n",
       "    .dataframe tbody tr th:only-of-type {\n",
       "        vertical-align: middle;\n",
       "    }\n",
       "\n",
       "    .dataframe tbody tr th {\n",
       "        vertical-align: top;\n",
       "    }\n",
       "\n",
       "    .dataframe thead th {\n",
       "        text-align: right;\n",
       "    }\n",
       "</style>\n",
       "<table border=\"1\" class=\"dataframe\">\n",
       "  <thead>\n",
       "    <tr style=\"text-align: right;\">\n",
       "      <th></th>\n",
       "      <th>name_age</th>\n",
       "      <th>age</th>\n",
       "    </tr>\n",
       "  </thead>\n",
       "  <tbody>\n",
       "    <tr>\n",
       "      <th>0</th>\n",
       "      <td>Oleg 25</td>\n",
       "      <td>25</td>\n",
       "    </tr>\n",
       "    <tr>\n",
       "      <th>1</th>\n",
       "      <td>Pete 32</td>\n",
       "      <td>32</td>\n",
       "    </tr>\n",
       "    <tr>\n",
       "      <th>2</th>\n",
       "      <td>Fedor 31</td>\n",
       "      <td>31</td>\n",
       "    </tr>\n",
       "    <tr>\n",
       "      <th>3</th>\n",
       "      <td>Teodor 55</td>\n",
       "      <td>55</td>\n",
       "    </tr>\n",
       "    <tr>\n",
       "      <th>4</th>\n",
       "      <td>Elena 19</td>\n",
       "      <td>19</td>\n",
       "    </tr>\n",
       "    <tr>\n",
       "      <th>5</th>\n",
       "      <td>Viktor 18</td>\n",
       "      <td>18</td>\n",
       "    </tr>\n",
       "    <tr>\n",
       "      <th>6</th>\n",
       "      <td>Anton 36</td>\n",
       "      <td>36</td>\n",
       "    </tr>\n",
       "    <tr>\n",
       "      <th>7</th>\n",
       "      <td>Boris 45</td>\n",
       "      <td>45</td>\n",
       "    </tr>\n",
       "    <tr>\n",
       "      <th>8</th>\n",
       "      <td>Alex 25</td>\n",
       "      <td>25</td>\n",
       "    </tr>\n",
       "    <tr>\n",
       "      <th>9</th>\n",
       "      <td>Sergey 32</td>\n",
       "      <td>32</td>\n",
       "    </tr>\n",
       "  </tbody>\n",
       "</table>\n",
       "</div>"
      ],
      "text/plain": [
       "    name_age age\n",
       "0    Oleg 25  25\n",
       "1    Pete 32  32\n",
       "2   Fedor 31  31\n",
       "3  Teodor 55  55\n",
       "4   Elena 19  19\n",
       "5  Viktor 18  18\n",
       "6   Anton 36  36\n",
       "7   Boris 45  45\n",
       "8    Alex 25  25\n",
       "9  Sergey 32  32"
      ]
     },
     "execution_count": 12,
     "metadata": {},
     "output_type": "execute_result"
    }
   ],
   "source": [
    "df['age'] = df.name_age.apply(lambda x: x.split(\" \")[1])\n",
    "\n",
    "df[['name_age', 'age']]"
   ]
  },
  {
   "cell_type": "markdown",
   "metadata": {},
   "source": [
    "### Группировка строковых признаков и формирование \"групп\"\n",
    "\n",
    "Сгруппировать значения из колонки `favourite_dish` по своему усмотрению.\n",
    "\n",
    "Нарисовать график показывающий распределение категорий в колонке (категория - количество в дата сете).\n",
    "\n",
    "Результ сохранить в отдельную колонку `favourite_dish_grouped`."
   ]
  },
  {
   "cell_type": "code",
   "execution_count": 13,
   "metadata": {},
   "outputs": [
    {
     "data": {
      "image/png": "[encoded data removed]",
      "text/plain": [
       "<Figure size 432x288 with 1 Axes>"
      ]
     },
     "metadata": {
      "needs_background": "light"
     },
     "output_type": "display_data"
    }
   ],
   "source": [
    "g = sns.countplot(x=df.favourite_dish)\n",
    "_ = g.set_xticklabels(g.get_xticklabels(), rotation=60)"
   ]
  },
  {
   "cell_type": "code",
   "execution_count": 14,
   "metadata": {},
   "outputs": [
    {
     "data": {
      "text/plain": [
       "<StringArray>\n",
       "[   'cake',   'steak',  'steaks',   'sweet',   'CAKES',   'candy', 'candies',\n",
       "   'dairy',    'milk',   'Dairy']\n",
       "Length: 10, dtype: string"
      ]
     },
     "execution_count": 14,
     "metadata": {},
     "output_type": "execute_result"
    }
   ],
   "source": [
    "df.favourite_dish.values"
   ]
  },
  {
   "cell_type": "code",
   "execution_count": 15,
   "metadata": {},
   "outputs": [],
   "source": [
    "sweet_replacement = dict.fromkeys(['cake', 'CAKES', 'candy', 'candies'], 'sweet')\n",
    "dairy_replacement = dict.fromkeys(['milk', 'Dairy'], 'dairy')"
   ]
  },
  {
   "cell_type": "code",
   "execution_count": 16,
   "metadata": {},
   "outputs": [
    {
     "data": {
      "text/html": [
       "<div>\n",
       "<style scoped>\n",
       "    .dataframe tbody tr th:only-of-type {\n",
       "        vertical-align: middle;\n",
       "    }\n",
       "\n",
       "    .dataframe tbody tr th {\n",
       "        vertical-align: top;\n",
       "    }\n",
       "\n",
       "    .dataframe thead th {\n",
       "        text-align: right;\n",
       "    }\n",
       "</style>\n",
       "<table border=\"1\" class=\"dataframe\">\n",
       "  <thead>\n",
       "    <tr style=\"text-align: right;\">\n",
       "      <th></th>\n",
       "      <th>favourite_dish</th>\n",
       "      <th>favourite_dish_grouped</th>\n",
       "    </tr>\n",
       "  </thead>\n",
       "  <tbody>\n",
       "    <tr>\n",
       "      <th>0</th>\n",
       "      <td>cake</td>\n",
       "      <td>sweet</td>\n",
       "    </tr>\n",
       "    <tr>\n",
       "      <th>1</th>\n",
       "      <td>steak</td>\n",
       "      <td>steak</td>\n",
       "    </tr>\n",
       "    <tr>\n",
       "      <th>2</th>\n",
       "      <td>steaks</td>\n",
       "      <td>steak</td>\n",
       "    </tr>\n",
       "    <tr>\n",
       "      <th>3</th>\n",
       "      <td>sweet</td>\n",
       "      <td>sweet</td>\n",
       "    </tr>\n",
       "    <tr>\n",
       "      <th>4</th>\n",
       "      <td>CAKES</td>\n",
       "      <td>sweet</td>\n",
       "    </tr>\n",
       "    <tr>\n",
       "      <th>5</th>\n",
       "      <td>candy</td>\n",
       "      <td>sweet</td>\n",
       "    </tr>\n",
       "    <tr>\n",
       "      <th>6</th>\n",
       "      <td>candies</td>\n",
       "      <td>sweet</td>\n",
       "    </tr>\n",
       "    <tr>\n",
       "      <th>7</th>\n",
       "      <td>dairy</td>\n",
       "      <td>dairy</td>\n",
       "    </tr>\n",
       "    <tr>\n",
       "      <th>8</th>\n",
       "      <td>milk</td>\n",
       "      <td>dairy</td>\n",
       "    </tr>\n",
       "    <tr>\n",
       "      <th>9</th>\n",
       "      <td>Dairy</td>\n",
       "      <td>dairy</td>\n",
       "    </tr>\n",
       "  </tbody>\n",
       "</table>\n",
       "</div>"
      ],
      "text/plain": [
       "  favourite_dish favourite_dish_grouped\n",
       "0           cake                  sweet\n",
       "1          steak                  steak\n",
       "2         steaks                  steak\n",
       "3          sweet                  sweet\n",
       "4          CAKES                  sweet\n",
       "5          candy                  sweet\n",
       "6        candies                  sweet\n",
       "7          dairy                  dairy\n",
       "8           milk                  dairy\n",
       "9          Dairy                  dairy"
      ]
     },
     "execution_count": 16,
     "metadata": {},
     "output_type": "execute_result"
    }
   ],
   "source": [
    "df['favourite_dish_grouped'] = df.favourite_dish.replace(to_replace=sweet_replacement).replace(to_replace=dairy_replacement).replace(to_replace='steaks', value='steak')\n",
    "\n",
    "df[['favourite_dish', 'favourite_dish_grouped']]"
   ]
  },
  {
   "cell_type": "code",
   "execution_count": 17,
   "metadata": {},
   "outputs": [
    {
     "data": {
      "image/png": "[encoded data removed]",
      "text/plain": [
       "<Figure size 432x288 with 1 Axes>"
      ]
     },
     "metadata": {
      "needs_background": "light"
     },
     "output_type": "display_data"
    }
   ],
   "source": [
    "_ = sns.countplot(x=df.favourite_dish_grouped)"
   ]
  },
  {
   "cell_type": "markdown",
   "metadata": {},
   "source": [
    "### Разделить строку на несколько признаков\n",
    "\n",
    "Разделить значения из колонки `favourite_weather`.\n",
    "\n",
    "Результ сохранить в отдельные колонки с суффиксом `_fw` (в конце каждого названия)."
   ]
  },
  {
   "cell_type": "code",
   "execution_count": 18,
   "metadata": {},
   "outputs": [
    {
     "data": {
      "text/plain": [
       "0    rainbow/fog/warm\n",
       "1     sun/fog/rainbow\n",
       "2      chilly/fog/sun\n",
       "3             rainbow\n",
       "4          chilly/sun\n",
       "5            warm/sun\n",
       "6              chilly\n",
       "7         rainbow/sun\n",
       "8            warm/sun\n",
       "9         fog/rainbow\n",
       "Name: favourite_weather, dtype: string"
      ]
     },
     "execution_count": 18,
     "metadata": {},
     "output_type": "execute_result"
    }
   ],
   "source": [
    "df.favourite_weather"
   ]
  },
  {
   "cell_type": "code",
   "execution_count": 19,
   "metadata": {},
   "outputs": [
    {
     "data": {
      "text/html": [
       "<div>\n",
       "<style scoped>\n",
       "    .dataframe tbody tr th:only-of-type {\n",
       "        vertical-align: middle;\n",
       "    }\n",
       "\n",
       "    .dataframe tbody tr th {\n",
       "        vertical-align: top;\n",
       "    }\n",
       "\n",
       "    .dataframe thead th {\n",
       "        text-align: right;\n",
       "    }\n",
       "</style>\n",
       "<table border=\"1\" class=\"dataframe\">\n",
       "  <thead>\n",
       "    <tr style=\"text-align: right;\">\n",
       "      <th></th>\n",
       "      <th>rainbow_fw</th>\n",
       "      <th>fog_fw</th>\n",
       "      <th>warm_fw</th>\n",
       "      <th>sun_fw</th>\n",
       "      <th>chilly_fw</th>\n",
       "    </tr>\n",
       "  </thead>\n",
       "  <tbody>\n",
       "    <tr>\n",
       "      <th>0</th>\n",
       "      <td>True</td>\n",
       "      <td>True</td>\n",
       "      <td>True</td>\n",
       "      <td>False</td>\n",
       "      <td>False</td>\n",
       "    </tr>\n",
       "    <tr>\n",
       "      <th>1</th>\n",
       "      <td>True</td>\n",
       "      <td>True</td>\n",
       "      <td>False</td>\n",
       "      <td>True</td>\n",
       "      <td>False</td>\n",
       "    </tr>\n",
       "    <tr>\n",
       "      <th>2</th>\n",
       "      <td>False</td>\n",
       "      <td>True</td>\n",
       "      <td>False</td>\n",
       "      <td>True</td>\n",
       "      <td>True</td>\n",
       "    </tr>\n",
       "    <tr>\n",
       "      <th>3</th>\n",
       "      <td>True</td>\n",
       "      <td>False</td>\n",
       "      <td>False</td>\n",
       "      <td>False</td>\n",
       "      <td>False</td>\n",
       "    </tr>\n",
       "    <tr>\n",
       "      <th>4</th>\n",
       "      <td>False</td>\n",
       "      <td>False</td>\n",
       "      <td>False</td>\n",
       "      <td>True</td>\n",
       "      <td>True</td>\n",
       "    </tr>\n",
       "    <tr>\n",
       "      <th>5</th>\n",
       "      <td>False</td>\n",
       "      <td>False</td>\n",
       "      <td>True</td>\n",
       "      <td>True</td>\n",
       "      <td>False</td>\n",
       "    </tr>\n",
       "    <tr>\n",
       "      <th>6</th>\n",
       "      <td>False</td>\n",
       "      <td>False</td>\n",
       "      <td>False</td>\n",
       "      <td>False</td>\n",
       "      <td>True</td>\n",
       "    </tr>\n",
       "    <tr>\n",
       "      <th>7</th>\n",
       "      <td>True</td>\n",
       "      <td>False</td>\n",
       "      <td>False</td>\n",
       "      <td>True</td>\n",
       "      <td>False</td>\n",
       "    </tr>\n",
       "    <tr>\n",
       "      <th>8</th>\n",
       "      <td>False</td>\n",
       "      <td>False</td>\n",
       "      <td>True</td>\n",
       "      <td>True</td>\n",
       "      <td>False</td>\n",
       "    </tr>\n",
       "    <tr>\n",
       "      <th>9</th>\n",
       "      <td>True</td>\n",
       "      <td>True</td>\n",
       "      <td>False</td>\n",
       "      <td>False</td>\n",
       "      <td>False</td>\n",
       "    </tr>\n",
       "  </tbody>\n",
       "</table>\n",
       "</div>"
      ],
      "text/plain": [
       "   rainbow_fw  fog_fw  warm_fw  sun_fw  chilly_fw\n",
       "0        True    True     True   False      False\n",
       "1        True    True    False    True      False\n",
       "2       False    True    False    True       True\n",
       "3        True   False    False   False      False\n",
       "4       False   False    False    True       True\n",
       "5       False   False     True    True      False\n",
       "6       False   False    False   False       True\n",
       "7        True   False    False    True      False\n",
       "8       False   False     True    True      False\n",
       "9        True    True    False   False      False"
      ]
     },
     "execution_count": 19,
     "metadata": {},
     "output_type": "execute_result"
    }
   ],
   "source": [
    "favourite_weather_df = df.favourite_weather.apply(lambda x: pd.Series(True, index=[f'{w}_fw' for w in x.split(\"/\")]))\n",
    "favourite_weather_df = favourite_weather_df.fillna(False)\n",
    "favourite_weather_df"
   ]
  },
  {
   "cell_type": "code",
   "execution_count": 20,
   "metadata": {},
   "outputs": [],
   "source": [
    "df = df.join(favourite_weather_df)"
   ]
  },
  {
   "cell_type": "code",
   "execution_count": 21,
   "metadata": {},
   "outputs": [
    {
     "data": {
      "text/html": [
       "<div>\n",
       "<style scoped>\n",
       "    .dataframe tbody tr th:only-of-type {\n",
       "        vertical-align: middle;\n",
       "    }\n",
       "\n",
       "    .dataframe tbody tr th {\n",
       "        vertical-align: top;\n",
       "    }\n",
       "\n",
       "    .dataframe thead th {\n",
       "        text-align: right;\n",
       "    }\n",
       "</style>\n",
       "<table border=\"1\" class=\"dataframe\">\n",
       "  <thead>\n",
       "    <tr style=\"text-align: right;\">\n",
       "      <th></th>\n",
       "      <th>favourite_weather</th>\n",
       "      <th>rainbow_fw</th>\n",
       "      <th>fog_fw</th>\n",
       "      <th>warm_fw</th>\n",
       "      <th>sun_fw</th>\n",
       "      <th>chilly_fw</th>\n",
       "    </tr>\n",
       "  </thead>\n",
       "  <tbody>\n",
       "    <tr>\n",
       "      <th>0</th>\n",
       "      <td>rainbow/fog/warm</td>\n",
       "      <td>True</td>\n",
       "      <td>True</td>\n",
       "      <td>True</td>\n",
       "      <td>False</td>\n",
       "      <td>False</td>\n",
       "    </tr>\n",
       "    <tr>\n",
       "      <th>1</th>\n",
       "      <td>sun/fog/rainbow</td>\n",
       "      <td>True</td>\n",
       "      <td>True</td>\n",
       "      <td>False</td>\n",
       "      <td>True</td>\n",
       "      <td>False</td>\n",
       "    </tr>\n",
       "    <tr>\n",
       "      <th>2</th>\n",
       "      <td>chilly/fog/sun</td>\n",
       "      <td>False</td>\n",
       "      <td>True</td>\n",
       "      <td>False</td>\n",
       "      <td>True</td>\n",
       "      <td>True</td>\n",
       "    </tr>\n",
       "    <tr>\n",
       "      <th>3</th>\n",
       "      <td>rainbow</td>\n",
       "      <td>True</td>\n",
       "      <td>False</td>\n",
       "      <td>False</td>\n",
       "      <td>False</td>\n",
       "      <td>False</td>\n",
       "    </tr>\n",
       "    <tr>\n",
       "      <th>4</th>\n",
       "      <td>chilly/sun</td>\n",
       "      <td>False</td>\n",
       "      <td>False</td>\n",
       "      <td>False</td>\n",
       "      <td>True</td>\n",
       "      <td>True</td>\n",
       "    </tr>\n",
       "    <tr>\n",
       "      <th>5</th>\n",
       "      <td>warm/sun</td>\n",
       "      <td>False</td>\n",
       "      <td>False</td>\n",
       "      <td>True</td>\n",
       "      <td>True</td>\n",
       "      <td>False</td>\n",
       "    </tr>\n",
       "    <tr>\n",
       "      <th>6</th>\n",
       "      <td>chilly</td>\n",
       "      <td>False</td>\n",
       "      <td>False</td>\n",
       "      <td>False</td>\n",
       "      <td>False</td>\n",
       "      <td>True</td>\n",
       "    </tr>\n",
       "    <tr>\n",
       "      <th>7</th>\n",
       "      <td>rainbow/sun</td>\n",
       "      <td>True</td>\n",
       "      <td>False</td>\n",
       "      <td>False</td>\n",
       "      <td>True</td>\n",
       "      <td>False</td>\n",
       "    </tr>\n",
       "    <tr>\n",
       "      <th>8</th>\n",
       "      <td>warm/sun</td>\n",
       "      <td>False</td>\n",
       "      <td>False</td>\n",
       "      <td>True</td>\n",
       "      <td>True</td>\n",
       "      <td>False</td>\n",
       "    </tr>\n",
       "    <tr>\n",
       "      <th>9</th>\n",
       "      <td>fog/rainbow</td>\n",
       "      <td>True</td>\n",
       "      <td>True</td>\n",
       "      <td>False</td>\n",
       "      <td>False</td>\n",
       "      <td>False</td>\n",
       "    </tr>\n",
       "  </tbody>\n",
       "</table>\n",
       "</div>"
      ],
      "text/plain": [
       "  favourite_weather  rainbow_fw  fog_fw  warm_fw  sun_fw  chilly_fw\n",
       "0  rainbow/fog/warm        True    True     True   False      False\n",
       "1   sun/fog/rainbow        True    True    False    True      False\n",
       "2    chilly/fog/sun       False    True    False    True       True\n",
       "3           rainbow        True   False    False   False      False\n",
       "4        chilly/sun       False   False    False    True       True\n",
       "5          warm/sun       False   False     True    True      False\n",
       "6            chilly       False   False    False   False       True\n",
       "7       rainbow/sun        True   False    False    True      False\n",
       "8          warm/sun       False   False     True    True      False\n",
       "9       fog/rainbow        True    True    False   False      False"
      ]
     },
     "execution_count": 21,
     "metadata": {},
     "output_type": "execute_result"
    }
   ],
   "source": [
    "df[['favourite_weather'] + favourite_weather_df.columns.to_list()]"
   ]
  },
  {
   "cell_type": "markdown",
   "metadata": {},
   "source": [
    "### Преобразовать к другому типу\n",
    "\n",
    "Преобразовать значения из колонки `marital_status` к `bool` (`True` = В браке).\n",
    "\n",
    "Результ сохранить в отдельную колонку `is_married`."
   ]
  },
  {
   "cell_type": "code",
   "execution_count": 22,
   "metadata": {},
   "outputs": [
    {
     "data": {
      "text/plain": [
       "0             Married (and not separated)\n",
       "1    Single (including living common law)\n",
       "2    Single (including living common law)\n",
       "3             Married (and not separated)\n",
       "4    Single (including living common law)\n",
       "5    Single (including living common law)\n",
       "6             Married (and not separated)\n",
       "7    Single (including living common law)\n",
       "8             Married (and not separated)\n",
       "9             Married (and not separated)\n",
       "Name: marital_status, dtype: string"
      ]
     },
     "execution_count": 22,
     "metadata": {},
     "output_type": "execute_result"
    }
   ],
   "source": [
    "df.marital_status"
   ]
  },
  {
   "cell_type": "code",
   "execution_count": 23,
   "metadata": {},
   "outputs": [
    {
     "data": {
      "text/html": [
       "<div>\n",
       "<style scoped>\n",
       "    .dataframe tbody tr th:only-of-type {\n",
       "        vertical-align: middle;\n",
       "    }\n",
       "\n",
       "    .dataframe tbody tr th {\n",
       "        vertical-align: top;\n",
       "    }\n",
       "\n",
       "    .dataframe thead th {\n",
       "        text-align: right;\n",
       "    }\n",
       "</style>\n",
       "<table border=\"1\" class=\"dataframe\">\n",
       "  <thead>\n",
       "    <tr style=\"text-align: right;\">\n",
       "      <th></th>\n",
       "      <th>marital_status</th>\n",
       "      <th>is_married</th>\n",
       "    </tr>\n",
       "  </thead>\n",
       "  <tbody>\n",
       "    <tr>\n",
       "      <th>0</th>\n",
       "      <td>Married (and not separated)</td>\n",
       "      <td>True</td>\n",
       "    </tr>\n",
       "    <tr>\n",
       "      <th>1</th>\n",
       "      <td>Single (including living common law)</td>\n",
       "      <td>False</td>\n",
       "    </tr>\n",
       "    <tr>\n",
       "      <th>2</th>\n",
       "      <td>Single (including living common law)</td>\n",
       "      <td>False</td>\n",
       "    </tr>\n",
       "    <tr>\n",
       "      <th>3</th>\n",
       "      <td>Married (and not separated)</td>\n",
       "      <td>True</td>\n",
       "    </tr>\n",
       "    <tr>\n",
       "      <th>4</th>\n",
       "      <td>Single (including living common law)</td>\n",
       "      <td>False</td>\n",
       "    </tr>\n",
       "    <tr>\n",
       "      <th>5</th>\n",
       "      <td>Single (including living common law)</td>\n",
       "      <td>False</td>\n",
       "    </tr>\n",
       "    <tr>\n",
       "      <th>6</th>\n",
       "      <td>Married (and not separated)</td>\n",
       "      <td>True</td>\n",
       "    </tr>\n",
       "    <tr>\n",
       "      <th>7</th>\n",
       "      <td>Single (including living common law)</td>\n",
       "      <td>False</td>\n",
       "    </tr>\n",
       "    <tr>\n",
       "      <th>8</th>\n",
       "      <td>Married (and not separated)</td>\n",
       "      <td>True</td>\n",
       "    </tr>\n",
       "    <tr>\n",
       "      <th>9</th>\n",
       "      <td>Married (and not separated)</td>\n",
       "      <td>True</td>\n",
       "    </tr>\n",
       "  </tbody>\n",
       "</table>\n",
       "</div>"
      ],
      "text/plain": [
       "                         marital_status  is_married\n",
       "0           Married (and not separated)        True\n",
       "1  Single (including living common law)       False\n",
       "2  Single (including living common law)       False\n",
       "3           Married (and not separated)        True\n",
       "4  Single (including living common law)       False\n",
       "5  Single (including living common law)       False\n",
       "6           Married (and not separated)        True\n",
       "7  Single (including living common law)       False\n",
       "8           Married (and not separated)        True\n",
       "9           Married (and not separated)        True"
      ]
     },
     "execution_count": 23,
     "metadata": {},
     "output_type": "execute_result"
    }
   ],
   "source": [
    "df['is_married'] = df.marital_status.map({'Married (and not separated)': True, \n",
    "                                          'Single (including living common law)': False})\n",
    "df[['marital_status', 'is_married']]"
   ]
  },
  {
   "cell_type": "markdown",
   "metadata": {},
   "source": [
    "### *Мешок слов (bag-of-words) на примере `CountVectorizer` (`sklearn`)\n",
    "\n",
    "Преобразовать значения из колонки `tell_me_about_yourself`.\n",
    "\n",
    "Использовать стандартные `stop_words` (английский язык). \n",
    "\n",
    "В результат включить ТОЛЬКО слова, которые встретились в тексте больше ($>$) 2 раз.\n",
    "\n",
    "Результ сохранить в отдельные колонки с суффиксом _bw (в конце каждого названия)."
   ]
  },
  {
   "cell_type": "code",
   "execution_count": 24,
   "metadata": {},
   "outputs": [
    {
     "data": {
      "text/plain": [
       "['children',\n",
       " 'day',\n",
       " 'don',\n",
       " 'father',\n",
       " 'going',\n",
       " 'good',\n",
       " 'hasband',\n",
       " 'husband',\n",
       " 'just',\n",
       " 'know',\n",
       " 'love',\n",
       " 'manager',\n",
       " 'normal',\n",
       " 'person',\n",
       " 'programmer',\n",
       " 'say',\n",
       " 'simultaneously',\n",
       " 'son',\n",
       " 'special',\n",
       " 'student',\n",
       " 'teach',\n",
       " 'teacher',\n",
       " 'travel',\n",
       " 'want',\n",
       " 'world']"
      ]
     },
     "execution_count": 24,
     "metadata": {},
     "output_type": "execute_result"
    }
   ],
   "source": [
    "from sklearn.feature_extraction.text import CountVectorizer\n",
    "\n",
    "cv = CountVectorizer(lowercase=True, stop_words='english')\n",
    "tell_me_about_yourself_cv = cv.fit_transform(df.tell_me_about_yourself)\n",
    "tell_me_about_yourself_column_names = cv.get_feature_names()\n",
    "tell_me_about_yourself_column_names"
   ]
  },
  {
   "cell_type": "code",
   "execution_count": 25,
   "metadata": {},
   "outputs": [
    {
     "name": "stdout",
     "output_type": "stream",
     "text": [
      "just(id=8): 2\n",
      "normal(id=12): 3\n",
      "person(id=13): 3\n",
      "special(id=18): 3\n",
      "good(id=5): 5\n",
      "teach(id=20): 3\n",
      "children(id=0): 1\n",
      "world(id=24): 2\n",
      "programmer(id=14): 5\n",
      "father(id=3): 3\n",
      "hasband(id=6): 2\n",
      "love(id=10): 2\n",
      "son(id=17): 2\n",
      "student(id=19): 3\n",
      "want(id=23): 4\n",
      "travel(id=22): 1\n",
      "going(id=4): 2\n",
      "day(id=1): 1\n",
      "teacher(id=21): 2\n",
      "don(id=2): 1\n",
      "know(id=9): 1\n",
      "say(id=15): 1\n",
      "husband(id=7): 2\n",
      "manager(id=11): 1\n",
      "simultaneously(id=16): 1\n"
     ]
    }
   ],
   "source": [
    "# информация по каждому слову\n",
    "vocab_dict = {}\n",
    "for word, col_idx in cv.vocabulary_.items():\n",
    "    num = sum(sum(x) for x in tell_me_about_yourself_cv[:, col_idx].toarray())\n",
    "    vocab_dict[(word, col_idx)] = num\n",
    "    print(f\"{word}(id={col_idx}): {num}\")"
   ]
  },
  {
   "cell_type": "code",
   "execution_count": 26,
   "metadata": {},
   "outputs": [
    {
     "data": {
      "text/plain": [
       "{('good', 5): 5,\n",
       " ('programmer', 14): 5,\n",
       " ('want', 23): 4,\n",
       " ('normal', 12): 3,\n",
       " ('person', 13): 3,\n",
       " ('special', 18): 3,\n",
       " ('teach', 20): 3,\n",
       " ('father', 3): 3,\n",
       " ('student', 19): 3,\n",
       " ('just', 8): 2,\n",
       " ('world', 24): 2,\n",
       " ('hasband', 6): 2,\n",
       " ('love', 10): 2,\n",
       " ('son', 17): 2,\n",
       " ('going', 4): 2,\n",
       " ('teacher', 21): 2,\n",
       " ('husband', 7): 2,\n",
       " ('children', 0): 1,\n",
       " ('travel', 22): 1,\n",
       " ('day', 1): 1,\n",
       " ('don', 2): 1,\n",
       " ('know', 9): 1,\n",
       " ('say', 15): 1,\n",
       " ('manager', 11): 1,\n",
       " ('simultaneously', 16): 1}"
      ]
     },
     "execution_count": 26,
     "metadata": {},
     "output_type": "execute_result"
    }
   ],
   "source": [
    "# отсортировать словарь слово-счетчик по убыванию\n",
    "vocab_dict_sorted = dict(sorted(vocab_dict.items(), \n",
    "                                key=lambda item: item[1], \n",
    "                                reverse=True))\n",
    "vocab_dict_sorted"
   ]
  },
  {
   "cell_type": "code",
   "execution_count": 27,
   "metadata": {},
   "outputs": [],
   "source": [
    "gte_3 = [k[1] for k, v in vocab_dict_sorted.items() if v >= 3]\n",
    "gte_3_array = tell_me_about_yourself_cv.toarray()[:, gte_3]\n",
    "gte_3_col_names = [tell_me_about_yourself_column_names[i] for i in gte_3]\n",
    "df_tell_me_about_yourself_cv = pd.DataFrame(gte_3_array, columns=gte_3_col_names)\n",
    "df = df.join(df_tell_me_about_yourself_cv.add_suffix(\"_bw\"))"
   ]
  },
  {
   "cell_type": "code",
   "execution_count": 28,
   "metadata": {},
   "outputs": [
    {
     "data": {
      "text/html": [
       "<div>\n",
       "<style scoped>\n",
       "    .dataframe tbody tr th:only-of-type {\n",
       "        vertical-align: middle;\n",
       "    }\n",
       "\n",
       "    .dataframe tbody tr th {\n",
       "        vertical-align: top;\n",
       "    }\n",
       "\n",
       "    .dataframe thead th {\n",
       "        text-align: right;\n",
       "    }\n",
       "</style>\n",
       "<table border=\"1\" class=\"dataframe\">\n",
       "  <thead>\n",
       "    <tr style=\"text-align: right;\">\n",
       "      <th></th>\n",
       "      <th>tell_me_about_yourself</th>\n",
       "      <th>good_bw</th>\n",
       "      <th>programmer_bw</th>\n",
       "      <th>want_bw</th>\n",
       "      <th>normal_bw</th>\n",
       "      <th>person_bw</th>\n",
       "      <th>special_bw</th>\n",
       "      <th>teach_bw</th>\n",
       "      <th>father_bw</th>\n",
       "      <th>student_bw</th>\n",
       "    </tr>\n",
       "  </thead>\n",
       "  <tbody>\n",
       "    <tr>\n",
       "      <th>0</th>\n",
       "      <td>I'm just a normal person. Nothing special.</td>\n",
       "      <td>0</td>\n",
       "      <td>0</td>\n",
       "      <td>0</td>\n",
       "      <td>1</td>\n",
       "      <td>1</td>\n",
       "      <td>1</td>\n",
       "      <td>0</td>\n",
       "      <td>0</td>\n",
       "      <td>0</td>\n",
       "    </tr>\n",
       "    <tr>\n",
       "      <th>1</th>\n",
       "      <td>I'm a good person. I teach children all over t...</td>\n",
       "      <td>1</td>\n",
       "      <td>0</td>\n",
       "      <td>0</td>\n",
       "      <td>0</td>\n",
       "      <td>1</td>\n",
       "      <td>0</td>\n",
       "      <td>1</td>\n",
       "      <td>0</td>\n",
       "      <td>0</td>\n",
       "    </tr>\n",
       "    <tr>\n",
       "      <th>2</th>\n",
       "      <td>Nothing special, just a good programmer and fa...</td>\n",
       "      <td>1</td>\n",
       "      <td>1</td>\n",
       "      <td>0</td>\n",
       "      <td>0</td>\n",
       "      <td>0</td>\n",
       "      <td>1</td>\n",
       "      <td>0</td>\n",
       "      <td>1</td>\n",
       "      <td>0</td>\n",
       "    </tr>\n",
       "    <tr>\n",
       "      <th>3</th>\n",
       "      <td>I'm a father and hasband. I love teach my son.</td>\n",
       "      <td>0</td>\n",
       "      <td>0</td>\n",
       "      <td>0</td>\n",
       "      <td>0</td>\n",
       "      <td>0</td>\n",
       "      <td>0</td>\n",
       "      <td>1</td>\n",
       "      <td>1</td>\n",
       "      <td>0</td>\n",
       "    </tr>\n",
       "    <tr>\n",
       "      <th>4</th>\n",
       "      <td>I'm a good student and I want to travel all ov...</td>\n",
       "      <td>1</td>\n",
       "      <td>1</td>\n",
       "      <td>1</td>\n",
       "      <td>0</td>\n",
       "      <td>0</td>\n",
       "      <td>0</td>\n",
       "      <td>0</td>\n",
       "      <td>0</td>\n",
       "      <td>1</td>\n",
       "    </tr>\n",
       "    <tr>\n",
       "      <th>5</th>\n",
       "      <td>I'm a normal student. I want to be a teacher.</td>\n",
       "      <td>0</td>\n",
       "      <td>0</td>\n",
       "      <td>1</td>\n",
       "      <td>1</td>\n",
       "      <td>0</td>\n",
       "      <td>0</td>\n",
       "      <td>0</td>\n",
       "      <td>0</td>\n",
       "      <td>1</td>\n",
       "    </tr>\n",
       "    <tr>\n",
       "      <th>6</th>\n",
       "      <td>I'm a hasband and teacher. I teach how to be a...</td>\n",
       "      <td>0</td>\n",
       "      <td>1</td>\n",
       "      <td>0</td>\n",
       "      <td>0</td>\n",
       "      <td>0</td>\n",
       "      <td>0</td>\n",
       "      <td>1</td>\n",
       "      <td>0</td>\n",
       "      <td>0</td>\n",
       "    </tr>\n",
       "    <tr>\n",
       "      <th>7</th>\n",
       "      <td>I don't know what to say. I'm a normal husband...</td>\n",
       "      <td>1</td>\n",
       "      <td>0</td>\n",
       "      <td>0</td>\n",
       "      <td>1</td>\n",
       "      <td>0</td>\n",
       "      <td>0</td>\n",
       "      <td>0</td>\n",
       "      <td>1</td>\n",
       "      <td>0</td>\n",
       "    </tr>\n",
       "    <tr>\n",
       "      <th>8</th>\n",
       "      <td>Now I'm a manager but I'm going to be a progra...</td>\n",
       "      <td>1</td>\n",
       "      <td>1</td>\n",
       "      <td>1</td>\n",
       "      <td>0</td>\n",
       "      <td>0</td>\n",
       "      <td>0</td>\n",
       "      <td>0</td>\n",
       "      <td>0</td>\n",
       "      <td>1</td>\n",
       "    </tr>\n",
       "    <tr>\n",
       "      <th>9</th>\n",
       "      <td>I'm special person! I can do what ever I want!...</td>\n",
       "      <td>0</td>\n",
       "      <td>1</td>\n",
       "      <td>1</td>\n",
       "      <td>0</td>\n",
       "      <td>1</td>\n",
       "      <td>1</td>\n",
       "      <td>0</td>\n",
       "      <td>0</td>\n",
       "      <td>0</td>\n",
       "    </tr>\n",
       "  </tbody>\n",
       "</table>\n",
       "</div>"
      ],
      "text/plain": [
       "                              tell_me_about_yourself  good_bw  programmer_bw  \\\n",
       "0         I'm just a normal person. Nothing special.        0              0   \n",
       "1  I'm a good person. I teach children all over t...        1              0   \n",
       "2  Nothing special, just a good programmer and fa...        1              1   \n",
       "3     I'm a father and hasband. I love teach my son.        0              0   \n",
       "4  I'm a good student and I want to travel all ov...        1              1   \n",
       "5      I'm a normal student. I want to be a teacher.        0              0   \n",
       "6  I'm a hasband and teacher. I teach how to be a...        0              1   \n",
       "7  I don't know what to say. I'm a normal husband...        1              0   \n",
       "8  Now I'm a manager but I'm going to be a progra...        1              1   \n",
       "9  I'm special person! I can do what ever I want!...        0              1   \n",
       "\n",
       "   want_bw  normal_bw  person_bw  special_bw  teach_bw  father_bw  student_bw  \n",
       "0        0          1          1           1         0          0           0  \n",
       "1        0          0          1           0         1          0           0  \n",
       "2        0          0          0           1         0          1           0  \n",
       "3        0          0          0           0         1          1           0  \n",
       "4        1          0          0           0         0          0           1  \n",
       "5        1          1          0           0         0          0           1  \n",
       "6        0          0          0           0         1          0           0  \n",
       "7        0          1          0           0         0          1           0  \n",
       "8        1          0          0           0         0          0           1  \n",
       "9        1          0          1           1         0          0           0  "
      ]
     },
     "execution_count": 28,
     "metadata": {},
     "output_type": "execute_result"
    }
   ],
   "source": [
    "df[['tell_me_about_yourself'] + [n + '_bw' for n in gte_3_col_names]]"
   ]
  },
  {
   "cell_type": "markdown",
   "metadata": {},
   "source": [
    "## Категориальные признаки"
   ]
  },
  {
   "cell_type": "code",
   "execution_count": 29,
   "metadata": {},
   "outputs": [
    {
     "data": {
      "text/html": [
       "<div>\n",
       "<style scoped>\n",
       "    .dataframe tbody tr th:only-of-type {\n",
       "        vertical-align: middle;\n",
       "    }\n",
       "\n",
       "    .dataframe tbody tr th {\n",
       "        vertical-align: top;\n",
       "    }\n",
       "\n",
       "    .dataframe thead th {\n",
       "        text-align: right;\n",
       "    }\n",
       "</style>\n",
       "<table border=\"1\" class=\"dataframe\">\n",
       "  <thead>\n",
       "    <tr style=\"text-align: right;\">\n",
       "      <th></th>\n",
       "      <th>occupation</th>\n",
       "      <th>life_satisfaction</th>\n",
       "      <th>relatives_income_k_rub</th>\n",
       "    </tr>\n",
       "  </thead>\n",
       "  <tbody>\n",
       "    <tr>\n",
       "      <th>0</th>\n",
       "      <td>programmer</td>\n",
       "      <td>5 point</td>\n",
       "      <td>150+</td>\n",
       "    </tr>\n",
       "    <tr>\n",
       "      <th>1</th>\n",
       "      <td>teacher</td>\n",
       "      <td>3 point</td>\n",
       "      <td>30-80</td>\n",
       "    </tr>\n",
       "    <tr>\n",
       "      <th>2</th>\n",
       "      <td>programmer</td>\n",
       "      <td>4 point</td>\n",
       "      <td>30-80</td>\n",
       "    </tr>\n",
       "    <tr>\n",
       "      <th>3</th>\n",
       "      <td>teacher</td>\n",
       "      <td>3 point</td>\n",
       "      <td>30-80</td>\n",
       "    </tr>\n",
       "    <tr>\n",
       "      <th>4</th>\n",
       "      <td>student</td>\n",
       "      <td>1 point</td>\n",
       "      <td>0-15</td>\n",
       "    </tr>\n",
       "    <tr>\n",
       "      <th>5</th>\n",
       "      <td>student</td>\n",
       "      <td>2 point</td>\n",
       "      <td>16-30</td>\n",
       "    </tr>\n",
       "    <tr>\n",
       "      <th>6</th>\n",
       "      <td>teacher</td>\n",
       "      <td>4 point</td>\n",
       "      <td>30-80</td>\n",
       "    </tr>\n",
       "    <tr>\n",
       "      <th>7</th>\n",
       "      <td>manager</td>\n",
       "      <td>4 point</td>\n",
       "      <td>80-150</td>\n",
       "    </tr>\n",
       "    <tr>\n",
       "      <th>8</th>\n",
       "      <td>manager</td>\n",
       "      <td>4 point</td>\n",
       "      <td>16-30</td>\n",
       "    </tr>\n",
       "    <tr>\n",
       "      <th>9</th>\n",
       "      <td>programmer</td>\n",
       "      <td>4 point</td>\n",
       "      <td>80-150</td>\n",
       "    </tr>\n",
       "  </tbody>\n",
       "</table>\n",
       "</div>"
      ],
      "text/plain": [
       "   occupation life_satisfaction relatives_income_k_rub\n",
       "0  programmer           5 point                   150+\n",
       "1     teacher           3 point                  30-80\n",
       "2  programmer           4 point                  30-80\n",
       "3     teacher           3 point                  30-80\n",
       "4     student           1 point                   0-15\n",
       "5     student           2 point                  16-30\n",
       "6     teacher           4 point                  30-80\n",
       "7     manager           4 point                 80-150\n",
       "8     manager           4 point                  16-30\n",
       "9  programmer           4 point                 80-150"
      ]
     },
     "execution_count": 29,
     "metadata": {},
     "output_type": "execute_result"
    }
   ],
   "source": [
    "# получить все колонки типа category\n",
    "df.select_dtypes(include='category')"
   ]
  },
  {
   "cell_type": "markdown",
   "metadata": {},
   "source": [
    "### Комбинации признаков с помощью bool mask filter\n",
    "\n",
    "Преобразовать значения из колонки `occupation`.\n",
    "\n",
    "Результ сохранить в отдельные колонки `is_programmer`, `is_teacher`, `is_student`, `is_manager`, `is_programmer_OR_student`, `is_teacher_OR_manager`."
   ]
  },
  {
   "cell_type": "code",
   "execution_count": 30,
   "metadata": {},
   "outputs": [
    {
     "data": {
      "text/plain": [
       "programmer    3\n",
       "teacher       3\n",
       "manager       2\n",
       "student       2\n",
       "Name: occupation, dtype: int64"
      ]
     },
     "execution_count": 30,
     "metadata": {},
     "output_type": "execute_result"
    }
   ],
   "source": [
    "df.occupation.value_counts()"
   ]
  },
  {
   "cell_type": "code",
   "execution_count": 31,
   "metadata": {},
   "outputs": [],
   "source": [
    "occupation_bool_names = []"
   ]
  },
  {
   "cell_type": "code",
   "execution_count": 32,
   "metadata": {},
   "outputs": [],
   "source": [
    "for occ in df.occupation.unique():\n",
    "    col_name_new = f\"is_{occ}\"\n",
    "    df[col_name_new] = df.occupation.isin([occ])\n",
    "    occupation_bool_names.append(col_name_new)"
   ]
  },
  {
   "cell_type": "code",
   "execution_count": 33,
   "metadata": {},
   "outputs": [],
   "source": [
    "prog_stud = 'is_programmer_OR_student'\n",
    "occupation_bool_names.append(prog_stud)\n",
    "df[prog_stud] = df.occupation.isin(['programmer', 'student'])"
   ]
  },
  {
   "cell_type": "code",
   "execution_count": 34,
   "metadata": {},
   "outputs": [],
   "source": [
    "teach_manag= 'is_teacher_OR_manager'\n",
    "occupation_bool_names.append(teach_manag)\n",
    "df[teach_manag] = df.occupation.isin(['teacher', 'manager'])"
   ]
  },
  {
   "cell_type": "code",
   "execution_count": 35,
   "metadata": {},
   "outputs": [
    {
     "data": {
      "text/plain": [
       "['is_programmer',\n",
       " 'is_teacher',\n",
       " 'is_student',\n",
       " 'is_manager',\n",
       " 'is_programmer_OR_student',\n",
       " 'is_teacher_OR_manager']"
      ]
     },
     "execution_count": 35,
     "metadata": {},
     "output_type": "execute_result"
    }
   ],
   "source": [
    "occupation_bool_names"
   ]
  },
  {
   "cell_type": "code",
   "execution_count": 36,
   "metadata": {},
   "outputs": [
    {
     "data": {
      "text/html": [
       "<div>\n",
       "<style scoped>\n",
       "    .dataframe tbody tr th:only-of-type {\n",
       "        vertical-align: middle;\n",
       "    }\n",
       "\n",
       "    .dataframe tbody tr th {\n",
       "        vertical-align: top;\n",
       "    }\n",
       "\n",
       "    .dataframe thead th {\n",
       "        text-align: right;\n",
       "    }\n",
       "</style>\n",
       "<table border=\"1\" class=\"dataframe\">\n",
       "  <thead>\n",
       "    <tr style=\"text-align: right;\">\n",
       "      <th></th>\n",
       "      <th>occupation</th>\n",
       "      <th>is_programmer</th>\n",
       "      <th>is_teacher</th>\n",
       "      <th>is_student</th>\n",
       "      <th>is_manager</th>\n",
       "      <th>is_programmer_OR_student</th>\n",
       "      <th>is_teacher_OR_manager</th>\n",
       "    </tr>\n",
       "  </thead>\n",
       "  <tbody>\n",
       "    <tr>\n",
       "      <th>0</th>\n",
       "      <td>programmer</td>\n",
       "      <td>True</td>\n",
       "      <td>False</td>\n",
       "      <td>False</td>\n",
       "      <td>False</td>\n",
       "      <td>True</td>\n",
       "      <td>False</td>\n",
       "    </tr>\n",
       "    <tr>\n",
       "      <th>1</th>\n",
       "      <td>teacher</td>\n",
       "      <td>False</td>\n",
       "      <td>True</td>\n",
       "      <td>False</td>\n",
       "      <td>False</td>\n",
       "      <td>False</td>\n",
       "      <td>True</td>\n",
       "    </tr>\n",
       "    <tr>\n",
       "      <th>2</th>\n",
       "      <td>programmer</td>\n",
       "      <td>True</td>\n",
       "      <td>False</td>\n",
       "      <td>False</td>\n",
       "      <td>False</td>\n",
       "      <td>True</td>\n",
       "      <td>False</td>\n",
       "    </tr>\n",
       "    <tr>\n",
       "      <th>3</th>\n",
       "      <td>teacher</td>\n",
       "      <td>False</td>\n",
       "      <td>True</td>\n",
       "      <td>False</td>\n",
       "      <td>False</td>\n",
       "      <td>False</td>\n",
       "      <td>True</td>\n",
       "    </tr>\n",
       "    <tr>\n",
       "      <th>4</th>\n",
       "      <td>student</td>\n",
       "      <td>False</td>\n",
       "      <td>False</td>\n",
       "      <td>True</td>\n",
       "      <td>False</td>\n",
       "      <td>True</td>\n",
       "      <td>False</td>\n",
       "    </tr>\n",
       "    <tr>\n",
       "      <th>5</th>\n",
       "      <td>student</td>\n",
       "      <td>False</td>\n",
       "      <td>False</td>\n",
       "      <td>True</td>\n",
       "      <td>False</td>\n",
       "      <td>True</td>\n",
       "      <td>False</td>\n",
       "    </tr>\n",
       "    <tr>\n",
       "      <th>6</th>\n",
       "      <td>teacher</td>\n",
       "      <td>False</td>\n",
       "      <td>True</td>\n",
       "      <td>False</td>\n",
       "      <td>False</td>\n",
       "      <td>False</td>\n",
       "      <td>True</td>\n",
       "    </tr>\n",
       "    <tr>\n",
       "      <th>7</th>\n",
       "      <td>manager</td>\n",
       "      <td>False</td>\n",
       "      <td>False</td>\n",
       "      <td>False</td>\n",
       "      <td>True</td>\n",
       "      <td>False</td>\n",
       "      <td>True</td>\n",
       "    </tr>\n",
       "    <tr>\n",
       "      <th>8</th>\n",
       "      <td>manager</td>\n",
       "      <td>False</td>\n",
       "      <td>False</td>\n",
       "      <td>False</td>\n",
       "      <td>True</td>\n",
       "      <td>False</td>\n",
       "      <td>True</td>\n",
       "    </tr>\n",
       "    <tr>\n",
       "      <th>9</th>\n",
       "      <td>programmer</td>\n",
       "      <td>True</td>\n",
       "      <td>False</td>\n",
       "      <td>False</td>\n",
       "      <td>False</td>\n",
       "      <td>True</td>\n",
       "      <td>False</td>\n",
       "    </tr>\n",
       "  </tbody>\n",
       "</table>\n",
       "</div>"
      ],
      "text/plain": [
       "   occupation  is_programmer  is_teacher  is_student  is_manager  \\\n",
       "0  programmer           True       False       False       False   \n",
       "1     teacher          False        True       False       False   \n",
       "2  programmer           True       False       False       False   \n",
       "3     teacher          False        True       False       False   \n",
       "4     student          False       False        True       False   \n",
       "5     student          False       False        True       False   \n",
       "6     teacher          False        True       False       False   \n",
       "7     manager          False       False       False        True   \n",
       "8     manager          False       False       False        True   \n",
       "9  programmer           True       False       False       False   \n",
       "\n",
       "   is_programmer_OR_student  is_teacher_OR_manager  \n",
       "0                      True                  False  \n",
       "1                     False                   True  \n",
       "2                      True                  False  \n",
       "3                     False                   True  \n",
       "4                      True                  False  \n",
       "5                      True                  False  \n",
       "6                     False                   True  \n",
       "7                     False                   True  \n",
       "8                     False                   True  \n",
       "9                      True                  False  "
      ]
     },
     "execution_count": 36,
     "metadata": {},
     "output_type": "execute_result"
    }
   ],
   "source": [
    "df[['occupation'] + occupation_bool_names]"
   ]
  },
  {
   "cell_type": "markdown",
   "metadata": {},
   "source": [
    "### `OrdinalEncoder` (`sklearn`)\n",
    "\n",
    "Значения колонок `relatives_income_k_rub` и `life_satisfaction` преобразуются в порядковые числа.\n",
    "\n",
    "Результат сохранить в колонки `relatives_income_k_rub_enc_ord` и `life_satisfaction_enc_ord`.\n",
    "\n",
    "ВНИМАНИЕ: необходимо сохранить правильный порядок категорий."
   ]
  },
  {
   "cell_type": "code",
   "execution_count": 37,
   "metadata": {},
   "outputs": [
    {
     "data": {
      "text/plain": [
       "(['0-15', '16-30', '30-80', '80-150', '150+'],\n",
       " ['1 point', '2 point', '3 point', '4 point', '5 point'])"
      ]
     },
     "execution_count": 37,
     "metadata": {},
     "output_type": "execute_result"
    }
   ],
   "source": [
    "relatives_income_k_rub_ordered = df.relatives_income_k_rub.cat.categories.to_list()\n",
    "life_satisfaction_ordered = df.life_satisfaction.cat.categories.to_list()\n",
    "\n",
    "relatives_income_k_rub_ordered, life_satisfaction_ordered"
   ]
  },
  {
   "cell_type": "code",
   "execution_count": 38,
   "metadata": {
    "collapsed": false,
    "jupyter": {
     "outputs_hidden": false
    },
    "pycharm": {
     "name": "#%%\n"
    }
   },
   "outputs": [
    {
     "data": {
      "text/plain": [
       "OrdinalEncoder(categories=[['0-15', '16-30', '30-80', '80-150', '150+'],\n",
       "                           ['1 point', '2 point', '3 point', '4 point',\n",
       "                            '5 point']])"
      ]
     },
     "execution_count": 38,
     "metadata": {},
     "output_type": "execute_result"
    }
   ],
   "source": [
    "from sklearn.preprocessing import OrdinalEncoder\n",
    "\n",
    "enc_ord = OrdinalEncoder(categories=[relatives_income_k_rub_ordered, life_satisfaction_ordered])\n",
    "enc_ord"
   ]
  },
  {
   "cell_type": "code",
   "execution_count": 39,
   "metadata": {},
   "outputs": [
    {
     "data": {
      "text/html": [
       "<div>\n",
       "<style scoped>\n",
       "    .dataframe tbody tr th:only-of-type {\n",
       "        vertical-align: middle;\n",
       "    }\n",
       "\n",
       "    .dataframe tbody tr th {\n",
       "        vertical-align: top;\n",
       "    }\n",
       "\n",
       "    .dataframe thead th {\n",
       "        text-align: right;\n",
       "    }\n",
       "</style>\n",
       "<table border=\"1\" class=\"dataframe\">\n",
       "  <thead>\n",
       "    <tr style=\"text-align: right;\">\n",
       "      <th></th>\n",
       "      <th>relatives_income_k_rub</th>\n",
       "      <th>relatives_income_k_rub_enc_ord</th>\n",
       "      <th>life_satisfaction</th>\n",
       "      <th>life_satisfaction_enc_ord</th>\n",
       "    </tr>\n",
       "  </thead>\n",
       "  <tbody>\n",
       "    <tr>\n",
       "      <th>0</th>\n",
       "      <td>150+</td>\n",
       "      <td>4.0</td>\n",
       "      <td>5 point</td>\n",
       "      <td>4.0</td>\n",
       "    </tr>\n",
       "    <tr>\n",
       "      <th>1</th>\n",
       "      <td>30-80</td>\n",
       "      <td>2.0</td>\n",
       "      <td>3 point</td>\n",
       "      <td>2.0</td>\n",
       "    </tr>\n",
       "    <tr>\n",
       "      <th>2</th>\n",
       "      <td>30-80</td>\n",
       "      <td>2.0</td>\n",
       "      <td>4 point</td>\n",
       "      <td>3.0</td>\n",
       "    </tr>\n",
       "    <tr>\n",
       "      <th>3</th>\n",
       "      <td>30-80</td>\n",
       "      <td>2.0</td>\n",
       "      <td>3 point</td>\n",
       "      <td>2.0</td>\n",
       "    </tr>\n",
       "    <tr>\n",
       "      <th>4</th>\n",
       "      <td>0-15</td>\n",
       "      <td>0.0</td>\n",
       "      <td>1 point</td>\n",
       "      <td>0.0</td>\n",
       "    </tr>\n",
       "    <tr>\n",
       "      <th>5</th>\n",
       "      <td>16-30</td>\n",
       "      <td>1.0</td>\n",
       "      <td>2 point</td>\n",
       "      <td>1.0</td>\n",
       "    </tr>\n",
       "    <tr>\n",
       "      <th>6</th>\n",
       "      <td>30-80</td>\n",
       "      <td>2.0</td>\n",
       "      <td>4 point</td>\n",
       "      <td>3.0</td>\n",
       "    </tr>\n",
       "    <tr>\n",
       "      <th>7</th>\n",
       "      <td>80-150</td>\n",
       "      <td>3.0</td>\n",
       "      <td>4 point</td>\n",
       "      <td>3.0</td>\n",
       "    </tr>\n",
       "    <tr>\n",
       "      <th>8</th>\n",
       "      <td>16-30</td>\n",
       "      <td>1.0</td>\n",
       "      <td>4 point</td>\n",
       "      <td>3.0</td>\n",
       "    </tr>\n",
       "    <tr>\n",
       "      <th>9</th>\n",
       "      <td>80-150</td>\n",
       "      <td>3.0</td>\n",
       "      <td>4 point</td>\n",
       "      <td>3.0</td>\n",
       "    </tr>\n",
       "  </tbody>\n",
       "</table>\n",
       "</div>"
      ],
      "text/plain": [
       "  relatives_income_k_rub  relatives_income_k_rub_enc_ord life_satisfaction  \\\n",
       "0                   150+                             4.0           5 point   \n",
       "1                  30-80                             2.0           3 point   \n",
       "2                  30-80                             2.0           4 point   \n",
       "3                  30-80                             2.0           3 point   \n",
       "4                   0-15                             0.0           1 point   \n",
       "5                  16-30                             1.0           2 point   \n",
       "6                  30-80                             2.0           4 point   \n",
       "7                 80-150                             3.0           4 point   \n",
       "8                  16-30                             1.0           4 point   \n",
       "9                 80-150                             3.0           4 point   \n",
       "\n",
       "   life_satisfaction_enc_ord  \n",
       "0                        4.0  \n",
       "1                        2.0  \n",
       "2                        3.0  \n",
       "3                        2.0  \n",
       "4                        0.0  \n",
       "5                        1.0  \n",
       "6                        3.0  \n",
       "7                        3.0  \n",
       "8                        3.0  \n",
       "9                        3.0  "
      ]
     },
     "execution_count": 39,
     "metadata": {},
     "output_type": "execute_result"
    }
   ],
   "source": [
    "df[['relatives_income_k_rub_enc_ord', 'life_satisfaction_enc_ord']] = enc_ord.fit_transform(df[['relatives_income_k_rub', 'life_satisfaction']])\n",
    "df[['relatives_income_k_rub', 'relatives_income_k_rub_enc_ord', 'life_satisfaction', 'life_satisfaction_enc_ord']]"
   ]
  },
  {
   "cell_type": "markdown",
   "metadata": {},
   "source": [
    "### `OneHotEncoder` (`sklearn`)\n",
    "\n",
    "Преобразовать значения колонки `occupation`.\n",
    "\n",
    "Результат сохранить в колонки с префиксом `occupation_enc_oh` (пример: `occupation_enc_oh_programmer`)."
   ]
  },
  {
   "cell_type": "code",
   "execution_count": 40,
   "metadata": {
    "collapsed": false,
    "jupyter": {
     "outputs_hidden": false
    },
    "pycharm": {
     "name": "#%%\n"
    }
   },
   "outputs": [
    {
     "data": {
      "text/plain": [
       "OneHotEncoder(sparse=False)"
      ]
     },
     "execution_count": 40,
     "metadata": {},
     "output_type": "execute_result"
    }
   ],
   "source": [
    "from sklearn.preprocessing import OneHotEncoder\n",
    "\n",
    "enc_oh = OneHotEncoder(sparse=False)\n",
    "enc_oh"
   ]
  },
  {
   "cell_type": "code",
   "execution_count": 41,
   "metadata": {},
   "outputs": [],
   "source": [
    "enc_l_result = enc_oh.fit_transform(df[['occupation']])\n",
    "column_names = enc_oh.get_feature_names(['occupation_enc_oh'])\n",
    "df_enc_l_result = pd.DataFrame(enc_l_result, columns=column_names)\n",
    "df = df.join(df_enc_l_result)"
   ]
  },
  {
   "cell_type": "code",
   "execution_count": 42,
   "metadata": {
    "collapsed": false,
    "jupyter": {
     "outputs_hidden": false
    },
    "pycharm": {
     "name": "#%%\n"
    }
   },
   "outputs": [
    {
     "data": {
      "text/html": [
       "<div>\n",
       "<style scoped>\n",
       "    .dataframe tbody tr th:only-of-type {\n",
       "        vertical-align: middle;\n",
       "    }\n",
       "\n",
       "    .dataframe tbody tr th {\n",
       "        vertical-align: top;\n",
       "    }\n",
       "\n",
       "    .dataframe thead th {\n",
       "        text-align: right;\n",
       "    }\n",
       "</style>\n",
       "<table border=\"1\" class=\"dataframe\">\n",
       "  <thead>\n",
       "    <tr style=\"text-align: right;\">\n",
       "      <th></th>\n",
       "      <th>occupation</th>\n",
       "      <th>occupation_enc_oh_manager</th>\n",
       "      <th>occupation_enc_oh_programmer</th>\n",
       "      <th>occupation_enc_oh_student</th>\n",
       "      <th>occupation_enc_oh_teacher</th>\n",
       "    </tr>\n",
       "  </thead>\n",
       "  <tbody>\n",
       "    <tr>\n",
       "      <th>0</th>\n",
       "      <td>programmer</td>\n",
       "      <td>0.0</td>\n",
       "      <td>1.0</td>\n",
       "      <td>0.0</td>\n",
       "      <td>0.0</td>\n",
       "    </tr>\n",
       "    <tr>\n",
       "      <th>1</th>\n",
       "      <td>teacher</td>\n",
       "      <td>0.0</td>\n",
       "      <td>0.0</td>\n",
       "      <td>0.0</td>\n",
       "      <td>1.0</td>\n",
       "    </tr>\n",
       "    <tr>\n",
       "      <th>2</th>\n",
       "      <td>programmer</td>\n",
       "      <td>0.0</td>\n",
       "      <td>1.0</td>\n",
       "      <td>0.0</td>\n",
       "      <td>0.0</td>\n",
       "    </tr>\n",
       "    <tr>\n",
       "      <th>3</th>\n",
       "      <td>teacher</td>\n",
       "      <td>0.0</td>\n",
       "      <td>0.0</td>\n",
       "      <td>0.0</td>\n",
       "      <td>1.0</td>\n",
       "    </tr>\n",
       "    <tr>\n",
       "      <th>4</th>\n",
       "      <td>student</td>\n",
       "      <td>0.0</td>\n",
       "      <td>0.0</td>\n",
       "      <td>1.0</td>\n",
       "      <td>0.0</td>\n",
       "    </tr>\n",
       "    <tr>\n",
       "      <th>5</th>\n",
       "      <td>student</td>\n",
       "      <td>0.0</td>\n",
       "      <td>0.0</td>\n",
       "      <td>1.0</td>\n",
       "      <td>0.0</td>\n",
       "    </tr>\n",
       "    <tr>\n",
       "      <th>6</th>\n",
       "      <td>teacher</td>\n",
       "      <td>0.0</td>\n",
       "      <td>0.0</td>\n",
       "      <td>0.0</td>\n",
       "      <td>1.0</td>\n",
       "    </tr>\n",
       "    <tr>\n",
       "      <th>7</th>\n",
       "      <td>manager</td>\n",
       "      <td>1.0</td>\n",
       "      <td>0.0</td>\n",
       "      <td>0.0</td>\n",
       "      <td>0.0</td>\n",
       "    </tr>\n",
       "    <tr>\n",
       "      <th>8</th>\n",
       "      <td>manager</td>\n",
       "      <td>1.0</td>\n",
       "      <td>0.0</td>\n",
       "      <td>0.0</td>\n",
       "      <td>0.0</td>\n",
       "    </tr>\n",
       "    <tr>\n",
       "      <th>9</th>\n",
       "      <td>programmer</td>\n",
       "      <td>0.0</td>\n",
       "      <td>1.0</td>\n",
       "      <td>0.0</td>\n",
       "      <td>0.0</td>\n",
       "    </tr>\n",
       "  </tbody>\n",
       "</table>\n",
       "</div>"
      ],
      "text/plain": [
       "   occupation  occupation_enc_oh_manager  occupation_enc_oh_programmer  \\\n",
       "0  programmer                        0.0                           1.0   \n",
       "1     teacher                        0.0                           0.0   \n",
       "2  programmer                        0.0                           1.0   \n",
       "3     teacher                        0.0                           0.0   \n",
       "4     student                        0.0                           0.0   \n",
       "5     student                        0.0                           0.0   \n",
       "6     teacher                        0.0                           0.0   \n",
       "7     manager                        1.0                           0.0   \n",
       "8     manager                        1.0                           0.0   \n",
       "9  programmer                        0.0                           1.0   \n",
       "\n",
       "   occupation_enc_oh_student  occupation_enc_oh_teacher  \n",
       "0                        0.0                        0.0  \n",
       "1                        0.0                        1.0  \n",
       "2                        0.0                        0.0  \n",
       "3                        0.0                        1.0  \n",
       "4                        1.0                        0.0  \n",
       "5                        1.0                        0.0  \n",
       "6                        0.0                        1.0  \n",
       "7                        0.0                        0.0  \n",
       "8                        0.0                        0.0  \n",
       "9                        0.0                        0.0  "
      ]
     },
     "execution_count": 42,
     "metadata": {},
     "output_type": "execute_result"
    }
   ],
   "source": [
    "df[['occupation'] + column_names.tolist()]"
   ]
  },
  {
   "cell_type": "markdown",
   "metadata": {},
   "source": [
    "### Dummies (`pandas`)\n",
    "\n",
    "Преобразовать значения колонки `occupation`.\n",
    "\n",
    "Результат сохранить в колонки с префиксом `occupation_` (пример: `occupation_teacher`). Это произойдет автоматически, необходимо только проверить, что все сработало правильно."
   ]
  },
  {
   "cell_type": "code",
   "execution_count": 43,
   "metadata": {
    "collapsed": false,
    "jupyter": {
     "outputs_hidden": false
    },
    "pycharm": {
     "name": "#%%\n"
    }
   },
   "outputs": [
    {
     "data": {
      "text/html": [
       "<div>\n",
       "<style scoped>\n",
       "    .dataframe tbody tr th:only-of-type {\n",
       "        vertical-align: middle;\n",
       "    }\n",
       "\n",
       "    .dataframe tbody tr th {\n",
       "        vertical-align: top;\n",
       "    }\n",
       "\n",
       "    .dataframe thead th {\n",
       "        text-align: right;\n",
       "    }\n",
       "</style>\n",
       "<table border=\"1\" class=\"dataframe\">\n",
       "  <thead>\n",
       "    <tr style=\"text-align: right;\">\n",
       "      <th></th>\n",
       "      <th>occupation</th>\n",
       "      <th>occupation_programmer</th>\n",
       "      <th>occupation_teacher</th>\n",
       "      <th>occupation_student</th>\n",
       "      <th>occupation_manager</th>\n",
       "    </tr>\n",
       "  </thead>\n",
       "  <tbody>\n",
       "    <tr>\n",
       "      <th>0</th>\n",
       "      <td>programmer</td>\n",
       "      <td>1</td>\n",
       "      <td>0</td>\n",
       "      <td>0</td>\n",
       "      <td>0</td>\n",
       "    </tr>\n",
       "    <tr>\n",
       "      <th>1</th>\n",
       "      <td>teacher</td>\n",
       "      <td>0</td>\n",
       "      <td>1</td>\n",
       "      <td>0</td>\n",
       "      <td>0</td>\n",
       "    </tr>\n",
       "    <tr>\n",
       "      <th>2</th>\n",
       "      <td>programmer</td>\n",
       "      <td>1</td>\n",
       "      <td>0</td>\n",
       "      <td>0</td>\n",
       "      <td>0</td>\n",
       "    </tr>\n",
       "    <tr>\n",
       "      <th>3</th>\n",
       "      <td>teacher</td>\n",
       "      <td>0</td>\n",
       "      <td>1</td>\n",
       "      <td>0</td>\n",
       "      <td>0</td>\n",
       "    </tr>\n",
       "    <tr>\n",
       "      <th>4</th>\n",
       "      <td>student</td>\n",
       "      <td>0</td>\n",
       "      <td>0</td>\n",
       "      <td>1</td>\n",
       "      <td>0</td>\n",
       "    </tr>\n",
       "    <tr>\n",
       "      <th>5</th>\n",
       "      <td>student</td>\n",
       "      <td>0</td>\n",
       "      <td>0</td>\n",
       "      <td>1</td>\n",
       "      <td>0</td>\n",
       "    </tr>\n",
       "    <tr>\n",
       "      <th>6</th>\n",
       "      <td>teacher</td>\n",
       "      <td>0</td>\n",
       "      <td>1</td>\n",
       "      <td>0</td>\n",
       "      <td>0</td>\n",
       "    </tr>\n",
       "    <tr>\n",
       "      <th>7</th>\n",
       "      <td>manager</td>\n",
       "      <td>0</td>\n",
       "      <td>0</td>\n",
       "      <td>0</td>\n",
       "      <td>1</td>\n",
       "    </tr>\n",
       "    <tr>\n",
       "      <th>8</th>\n",
       "      <td>manager</td>\n",
       "      <td>0</td>\n",
       "      <td>0</td>\n",
       "      <td>0</td>\n",
       "      <td>1</td>\n",
       "    </tr>\n",
       "    <tr>\n",
       "      <th>9</th>\n",
       "      <td>programmer</td>\n",
       "      <td>1</td>\n",
       "      <td>0</td>\n",
       "      <td>0</td>\n",
       "      <td>0</td>\n",
       "    </tr>\n",
       "  </tbody>\n",
       "</table>\n",
       "</div>"
      ],
      "text/plain": [
       "   occupation  occupation_programmer  occupation_teacher  occupation_student  \\\n",
       "0  programmer                      1                   0                   0   \n",
       "1     teacher                      0                   1                   0   \n",
       "2  programmer                      1                   0                   0   \n",
       "3     teacher                      0                   1                   0   \n",
       "4     student                      0                   0                   1   \n",
       "5     student                      0                   0                   1   \n",
       "6     teacher                      0                   1                   0   \n",
       "7     manager                      0                   0                   0   \n",
       "8     manager                      0                   0                   0   \n",
       "9  programmer                      1                   0                   0   \n",
       "\n",
       "   occupation_manager  \n",
       "0                   0  \n",
       "1                   0  \n",
       "2                   0  \n",
       "3                   0  \n",
       "4                   0  \n",
       "5                   0  \n",
       "6                   0  \n",
       "7                   1  \n",
       "8                   1  \n",
       "9                   0  "
      ]
     },
     "execution_count": 43,
     "metadata": {},
     "output_type": "execute_result"
    }
   ],
   "source": [
    "dummies = pd.get_dummies(df[['occupation']])\n",
    "df = df.join(dummies)\n",
    "df[['occupation'] + [f'occupation_{n}' for n in df.occupation.unique()]]"
   ]
  },
  {
   "cell_type": "code",
   "execution_count": 44,
   "metadata": {},
   "outputs": [
    {
     "data": {
      "text/html": [
       "<div>\n",
       "<style scoped>\n",
       "    .dataframe tbody tr th:only-of-type {\n",
       "        vertical-align: middle;\n",
       "    }\n",
       "\n",
       "    .dataframe tbody tr th {\n",
       "        vertical-align: top;\n",
       "    }\n",
       "\n",
       "    .dataframe thead th {\n",
       "        text-align: right;\n",
       "    }\n",
       "</style>\n",
       "<table border=\"1\" class=\"dataframe\">\n",
       "  <thead>\n",
       "    <tr style=\"text-align: right;\">\n",
       "      <th></th>\n",
       "      <th>name_age</th>\n",
       "      <th>occupation</th>\n",
       "      <th>weight</th>\n",
       "      <th>life_satisfaction</th>\n",
       "      <th>relatives_income_k_rub</th>\n",
       "      <th>favourite_dish</th>\n",
       "      <th>income_per_hour_rub</th>\n",
       "      <th>number_working_days_per_week</th>\n",
       "      <th>number_working_hours_per_day</th>\n",
       "      <th>tell_me_about_yourself</th>\n",
       "      <th>favourite_weather</th>\n",
       "      <th>answer_date_time</th>\n",
       "      <th>marital_status</th>\n",
       "      <th>age</th>\n",
       "      <th>favourite_dish_grouped</th>\n",
       "      <th>rainbow_fw</th>\n",
       "      <th>fog_fw</th>\n",
       "      <th>warm_fw</th>\n",
       "      <th>sun_fw</th>\n",
       "      <th>chilly_fw</th>\n",
       "      <th>is_married</th>\n",
       "      <th>good_bw</th>\n",
       "      <th>programmer_bw</th>\n",
       "      <th>want_bw</th>\n",
       "      <th>normal_bw</th>\n",
       "      <th>person_bw</th>\n",
       "      <th>special_bw</th>\n",
       "      <th>teach_bw</th>\n",
       "      <th>father_bw</th>\n",
       "      <th>student_bw</th>\n",
       "      <th>is_programmer</th>\n",
       "      <th>is_teacher</th>\n",
       "      <th>is_student</th>\n",
       "      <th>is_manager</th>\n",
       "      <th>is_programmer_OR_student</th>\n",
       "      <th>is_teacher_OR_manager</th>\n",
       "      <th>relatives_income_k_rub_enc_ord</th>\n",
       "      <th>life_satisfaction_enc_ord</th>\n",
       "      <th>occupation_enc_oh_manager</th>\n",
       "      <th>occupation_enc_oh_programmer</th>\n",
       "      <th>occupation_enc_oh_student</th>\n",
       "      <th>occupation_enc_oh_teacher</th>\n",
       "      <th>occupation_manager</th>\n",
       "      <th>occupation_programmer</th>\n",
       "      <th>occupation_student</th>\n",
       "      <th>occupation_teacher</th>\n",
       "    </tr>\n",
       "  </thead>\n",
       "  <tbody>\n",
       "    <tr>\n",
       "      <th>0</th>\n",
       "      <td>Oleg 25</td>\n",
       "      <td>programmer</td>\n",
       "      <td>80</td>\n",
       "      <td>5 point</td>\n",
       "      <td>150+</td>\n",
       "      <td>cake</td>\n",
       "      <td>300.50</td>\n",
       "      <td>5</td>\n",
       "      <td>8</td>\n",
       "      <td>I'm just a normal person. Nothing special.</td>\n",
       "      <td>rainbow/fog/warm</td>\n",
       "      <td>2020-10-10 18:25:00</td>\n",
       "      <td>Married (and not separated)</td>\n",
       "      <td>25</td>\n",
       "      <td>sweet</td>\n",
       "      <td>True</td>\n",
       "      <td>True</td>\n",
       "      <td>True</td>\n",
       "      <td>False</td>\n",
       "      <td>False</td>\n",
       "      <td>True</td>\n",
       "      <td>0</td>\n",
       "      <td>0</td>\n",
       "      <td>0</td>\n",
       "      <td>1</td>\n",
       "      <td>1</td>\n",
       "      <td>1</td>\n",
       "      <td>0</td>\n",
       "      <td>0</td>\n",
       "      <td>0</td>\n",
       "      <td>True</td>\n",
       "      <td>False</td>\n",
       "      <td>False</td>\n",
       "      <td>False</td>\n",
       "      <td>True</td>\n",
       "      <td>False</td>\n",
       "      <td>4.0</td>\n",
       "      <td>4.0</td>\n",
       "      <td>0.0</td>\n",
       "      <td>1.0</td>\n",
       "      <td>0.0</td>\n",
       "      <td>0.0</td>\n",
       "      <td>0</td>\n",
       "      <td>1</td>\n",
       "      <td>0</td>\n",
       "      <td>0</td>\n",
       "    </tr>\n",
       "    <tr>\n",
       "      <th>1</th>\n",
       "      <td>Pete 32</td>\n",
       "      <td>teacher</td>\n",
       "      <td>98</td>\n",
       "      <td>3 point</td>\n",
       "      <td>30-80</td>\n",
       "      <td>steak</td>\n",
       "      <td>150.33</td>\n",
       "      <td>5</td>\n",
       "      <td>8</td>\n",
       "      <td>I'm a good person. I teach children all over t...</td>\n",
       "      <td>sun/fog/rainbow</td>\n",
       "      <td>2020-12-20 16:36:00</td>\n",
       "      <td>Single (including living common law)</td>\n",
       "      <td>32</td>\n",
       "      <td>steak</td>\n",
       "      <td>True</td>\n",
       "      <td>True</td>\n",
       "      <td>False</td>\n",
       "      <td>True</td>\n",
       "      <td>False</td>\n",
       "      <td>False</td>\n",
       "      <td>1</td>\n",
       "      <td>0</td>\n",
       "      <td>0</td>\n",
       "      <td>0</td>\n",
       "      <td>1</td>\n",
       "      <td>0</td>\n",
       "      <td>1</td>\n",
       "      <td>0</td>\n",
       "      <td>0</td>\n",
       "      <td>False</td>\n",
       "      <td>True</td>\n",
       "      <td>False</td>\n",
       "      <td>False</td>\n",
       "      <td>False</td>\n",
       "      <td>True</td>\n",
       "      <td>2.0</td>\n",
       "      <td>2.0</td>\n",
       "      <td>0.0</td>\n",
       "      <td>0.0</td>\n",
       "      <td>0.0</td>\n",
       "      <td>1.0</td>\n",
       "      <td>0</td>\n",
       "      <td>0</td>\n",
       "      <td>0</td>\n",
       "      <td>1</td>\n",
       "    </tr>\n",
       "    <tr>\n",
       "      <th>2</th>\n",
       "      <td>Fedor 31</td>\n",
       "      <td>programmer</td>\n",
       "      <td>86</td>\n",
       "      <td>4 point</td>\n",
       "      <td>30-80</td>\n",
       "      <td>steaks</td>\n",
       "      <td>265.54</td>\n",
       "      <td>4</td>\n",
       "      <td>7</td>\n",
       "      <td>Nothing special, just a good programmer and fa...</td>\n",
       "      <td>chilly/fog/sun</td>\n",
       "      <td>2021-06-01 10:14:00</td>\n",
       "      <td>Single (including living common law)</td>\n",
       "      <td>31</td>\n",
       "      <td>steak</td>\n",
       "      <td>False</td>\n",
       "      <td>True</td>\n",
       "      <td>False</td>\n",
       "      <td>True</td>\n",
       "      <td>True</td>\n",
       "      <td>False</td>\n",
       "      <td>1</td>\n",
       "      <td>1</td>\n",
       "      <td>0</td>\n",
       "      <td>0</td>\n",
       "      <td>0</td>\n",
       "      <td>1</td>\n",
       "      <td>0</td>\n",
       "      <td>1</td>\n",
       "      <td>0</td>\n",
       "      <td>True</td>\n",
       "      <td>False</td>\n",
       "      <td>False</td>\n",
       "      <td>False</td>\n",
       "      <td>True</td>\n",
       "      <td>False</td>\n",
       "      <td>2.0</td>\n",
       "      <td>3.0</td>\n",
       "      <td>0.0</td>\n",
       "      <td>1.0</td>\n",
       "      <td>0.0</td>\n",
       "      <td>0.0</td>\n",
       "      <td>0</td>\n",
       "      <td>1</td>\n",
       "      <td>0</td>\n",
       "      <td>0</td>\n",
       "    </tr>\n",
       "    <tr>\n",
       "      <th>3</th>\n",
       "      <td>Teodor 55</td>\n",
       "      <td>teacher</td>\n",
       "      <td>88</td>\n",
       "      <td>3 point</td>\n",
       "      <td>30-80</td>\n",
       "      <td>sweet</td>\n",
       "      <td>85.69</td>\n",
       "      <td>2</td>\n",
       "      <td>12</td>\n",
       "      <td>I'm a father and hasband. I love teach my son.</td>\n",
       "      <td>rainbow</td>\n",
       "      <td>2021-07-04 23:25:00</td>\n",
       "      <td>Married (and not separated)</td>\n",
       "      <td>55</td>\n",
       "      <td>sweet</td>\n",
       "      <td>True</td>\n",
       "      <td>False</td>\n",
       "      <td>False</td>\n",
       "      <td>False</td>\n",
       "      <td>False</td>\n",
       "      <td>True</td>\n",
       "      <td>0</td>\n",
       "      <td>0</td>\n",
       "      <td>0</td>\n",
       "      <td>0</td>\n",
       "      <td>0</td>\n",
       "      <td>0</td>\n",
       "      <td>1</td>\n",
       "      <td>1</td>\n",
       "      <td>0</td>\n",
       "      <td>False</td>\n",
       "      <td>True</td>\n",
       "      <td>False</td>\n",
       "      <td>False</td>\n",
       "      <td>False</td>\n",
       "      <td>True</td>\n",
       "      <td>2.0</td>\n",
       "      <td>2.0</td>\n",
       "      <td>0.0</td>\n",
       "      <td>0.0</td>\n",
       "      <td>0.0</td>\n",
       "      <td>1.0</td>\n",
       "      <td>0</td>\n",
       "      <td>0</td>\n",
       "      <td>0</td>\n",
       "      <td>1</td>\n",
       "    </tr>\n",
       "    <tr>\n",
       "      <th>4</th>\n",
       "      <td>Elena 19</td>\n",
       "      <td>student</td>\n",
       "      <td>60</td>\n",
       "      <td>1 point</td>\n",
       "      <td>0-15</td>\n",
       "      <td>CAKES</td>\n",
       "      <td>3150.54</td>\n",
       "      <td>1</td>\n",
       "      <td>24</td>\n",
       "      <td>I'm a good student and I want to travel all ov...</td>\n",
       "      <td>chilly/sun</td>\n",
       "      <td>2020-11-26 06:17:00</td>\n",
       "      <td>Single (including living common law)</td>\n",
       "      <td>19</td>\n",
       "      <td>sweet</td>\n",
       "      <td>False</td>\n",
       "      <td>False</td>\n",
       "      <td>False</td>\n",
       "      <td>True</td>\n",
       "      <td>True</td>\n",
       "      <td>False</td>\n",
       "      <td>1</td>\n",
       "      <td>1</td>\n",
       "      <td>1</td>\n",
       "      <td>0</td>\n",
       "      <td>0</td>\n",
       "      <td>0</td>\n",
       "      <td>0</td>\n",
       "      <td>0</td>\n",
       "      <td>1</td>\n",
       "      <td>False</td>\n",
       "      <td>False</td>\n",
       "      <td>True</td>\n",
       "      <td>False</td>\n",
       "      <td>True</td>\n",
       "      <td>False</td>\n",
       "      <td>0.0</td>\n",
       "      <td>0.0</td>\n",
       "      <td>0.0</td>\n",
       "      <td>0.0</td>\n",
       "      <td>1.0</td>\n",
       "      <td>0.0</td>\n",
       "      <td>0</td>\n",
       "      <td>0</td>\n",
       "      <td>1</td>\n",
       "      <td>0</td>\n",
       "    </tr>\n",
       "    <tr>\n",
       "      <th>5</th>\n",
       "      <td>Viktor 18</td>\n",
       "      <td>student</td>\n",
       "      <td>75</td>\n",
       "      <td>2 point</td>\n",
       "      <td>16-30</td>\n",
       "      <td>candy</td>\n",
       "      <td>450.84</td>\n",
       "      <td>6</td>\n",
       "      <td>8</td>\n",
       "      <td>I'm a normal student. I want to be a teacher.</td>\n",
       "      <td>warm/sun</td>\n",
       "      <td>2020-05-18 15:15:00</td>\n",
       "      <td>Single (including living common law)</td>\n",
       "      <td>18</td>\n",
       "      <td>sweet</td>\n",
       "      <td>False</td>\n",
       "      <td>False</td>\n",
       "      <td>True</td>\n",
       "      <td>True</td>\n",
       "      <td>False</td>\n",
       "      <td>False</td>\n",
       "      <td>0</td>\n",
       "      <td>0</td>\n",
       "      <td>1</td>\n",
       "      <td>1</td>\n",
       "      <td>0</td>\n",
       "      <td>0</td>\n",
       "      <td>0</td>\n",
       "      <td>0</td>\n",
       "      <td>1</td>\n",
       "      <td>False</td>\n",
       "      <td>False</td>\n",
       "      <td>True</td>\n",
       "      <td>False</td>\n",
       "      <td>True</td>\n",
       "      <td>False</td>\n",
       "      <td>1.0</td>\n",
       "      <td>1.0</td>\n",
       "      <td>0.0</td>\n",
       "      <td>0.0</td>\n",
       "      <td>1.0</td>\n",
       "      <td>0.0</td>\n",
       "      <td>0</td>\n",
       "      <td>0</td>\n",
       "      <td>1</td>\n",
       "      <td>0</td>\n",
       "    </tr>\n",
       "    <tr>\n",
       "      <th>6</th>\n",
       "      <td>Anton 36</td>\n",
       "      <td>teacher</td>\n",
       "      <td>91</td>\n",
       "      <td>4 point</td>\n",
       "      <td>30-80</td>\n",
       "      <td>candies</td>\n",
       "      <td>2140.36</td>\n",
       "      <td>7</td>\n",
       "      <td>3</td>\n",
       "      <td>I'm a hasband and teacher. I teach how to be a...</td>\n",
       "      <td>chilly</td>\n",
       "      <td>2021-10-03 09:08:00</td>\n",
       "      <td>Married (and not separated)</td>\n",
       "      <td>36</td>\n",
       "      <td>sweet</td>\n",
       "      <td>False</td>\n",
       "      <td>False</td>\n",
       "      <td>False</td>\n",
       "      <td>False</td>\n",
       "      <td>True</td>\n",
       "      <td>True</td>\n",
       "      <td>0</td>\n",
       "      <td>1</td>\n",
       "      <td>0</td>\n",
       "      <td>0</td>\n",
       "      <td>0</td>\n",
       "      <td>0</td>\n",
       "      <td>1</td>\n",
       "      <td>0</td>\n",
       "      <td>0</td>\n",
       "      <td>False</td>\n",
       "      <td>True</td>\n",
       "      <td>False</td>\n",
       "      <td>False</td>\n",
       "      <td>False</td>\n",
       "      <td>True</td>\n",
       "      <td>2.0</td>\n",
       "      <td>3.0</td>\n",
       "      <td>0.0</td>\n",
       "      <td>0.0</td>\n",
       "      <td>0.0</td>\n",
       "      <td>1.0</td>\n",
       "      <td>0</td>\n",
       "      <td>0</td>\n",
       "      <td>0</td>\n",
       "      <td>1</td>\n",
       "    </tr>\n",
       "    <tr>\n",
       "      <th>7</th>\n",
       "      <td>Boris 45</td>\n",
       "      <td>manager</td>\n",
       "      <td>96</td>\n",
       "      <td>4 point</td>\n",
       "      <td>80-150</td>\n",
       "      <td>dairy</td>\n",
       "      <td>1650.36</td>\n",
       "      <td>2</td>\n",
       "      <td>10</td>\n",
       "      <td>I don't know what to say. I'm a normal husband...</td>\n",
       "      <td>rainbow/sun</td>\n",
       "      <td>2020-02-25 04:57:00</td>\n",
       "      <td>Single (including living common law)</td>\n",
       "      <td>45</td>\n",
       "      <td>dairy</td>\n",
       "      <td>True</td>\n",
       "      <td>False</td>\n",
       "      <td>False</td>\n",
       "      <td>True</td>\n",
       "      <td>False</td>\n",
       "      <td>False</td>\n",
       "      <td>1</td>\n",
       "      <td>0</td>\n",
       "      <td>0</td>\n",
       "      <td>1</td>\n",
       "      <td>0</td>\n",
       "      <td>0</td>\n",
       "      <td>0</td>\n",
       "      <td>1</td>\n",
       "      <td>0</td>\n",
       "      <td>False</td>\n",
       "      <td>False</td>\n",
       "      <td>False</td>\n",
       "      <td>True</td>\n",
       "      <td>False</td>\n",
       "      <td>True</td>\n",
       "      <td>3.0</td>\n",
       "      <td>3.0</td>\n",
       "      <td>1.0</td>\n",
       "      <td>0.0</td>\n",
       "      <td>0.0</td>\n",
       "      <td>0.0</td>\n",
       "      <td>1</td>\n",
       "      <td>0</td>\n",
       "      <td>0</td>\n",
       "      <td>0</td>\n",
       "    </tr>\n",
       "    <tr>\n",
       "      <th>8</th>\n",
       "      <td>Alex 25</td>\n",
       "      <td>manager</td>\n",
       "      <td>65</td>\n",
       "      <td>4 point</td>\n",
       "      <td>16-30</td>\n",
       "      <td>milk</td>\n",
       "      <td>2425.84</td>\n",
       "      <td>5</td>\n",
       "      <td>7</td>\n",
       "      <td>Now I'm a manager but I'm going to be a progra...</td>\n",
       "      <td>warm/sun</td>\n",
       "      <td>2020-08-28 12:54:00</td>\n",
       "      <td>Married (and not separated)</td>\n",
       "      <td>25</td>\n",
       "      <td>dairy</td>\n",
       "      <td>False</td>\n",
       "      <td>False</td>\n",
       "      <td>True</td>\n",
       "      <td>True</td>\n",
       "      <td>False</td>\n",
       "      <td>True</td>\n",
       "      <td>1</td>\n",
       "      <td>1</td>\n",
       "      <td>1</td>\n",
       "      <td>0</td>\n",
       "      <td>0</td>\n",
       "      <td>0</td>\n",
       "      <td>0</td>\n",
       "      <td>0</td>\n",
       "      <td>1</td>\n",
       "      <td>False</td>\n",
       "      <td>False</td>\n",
       "      <td>False</td>\n",
       "      <td>True</td>\n",
       "      <td>False</td>\n",
       "      <td>True</td>\n",
       "      <td>1.0</td>\n",
       "      <td>3.0</td>\n",
       "      <td>1.0</td>\n",
       "      <td>0.0</td>\n",
       "      <td>0.0</td>\n",
       "      <td>0.0</td>\n",
       "      <td>1</td>\n",
       "      <td>0</td>\n",
       "      <td>0</td>\n",
       "      <td>0</td>\n",
       "    </tr>\n",
       "    <tr>\n",
       "      <th>9</th>\n",
       "      <td>Sergey 32</td>\n",
       "      <td>programmer</td>\n",
       "      <td>73</td>\n",
       "      <td>4 point</td>\n",
       "      <td>80-150</td>\n",
       "      <td>Dairy</td>\n",
       "      <td>1745.85</td>\n",
       "      <td>4</td>\n",
       "      <td>8</td>\n",
       "      <td>I'm special person! I can do what ever I want!...</td>\n",
       "      <td>fog/rainbow</td>\n",
       "      <td>2019-10-09 23:25:00</td>\n",
       "      <td>Married (and not separated)</td>\n",
       "      <td>32</td>\n",
       "      <td>dairy</td>\n",
       "      <td>True</td>\n",
       "      <td>True</td>\n",
       "      <td>False</td>\n",
       "      <td>False</td>\n",
       "      <td>False</td>\n",
       "      <td>True</td>\n",
       "      <td>0</td>\n",
       "      <td>1</td>\n",
       "      <td>1</td>\n",
       "      <td>0</td>\n",
       "      <td>1</td>\n",
       "      <td>1</td>\n",
       "      <td>0</td>\n",
       "      <td>0</td>\n",
       "      <td>0</td>\n",
       "      <td>True</td>\n",
       "      <td>False</td>\n",
       "      <td>False</td>\n",
       "      <td>False</td>\n",
       "      <td>True</td>\n",
       "      <td>False</td>\n",
       "      <td>3.0</td>\n",
       "      <td>3.0</td>\n",
       "      <td>0.0</td>\n",
       "      <td>1.0</td>\n",
       "      <td>0.0</td>\n",
       "      <td>0.0</td>\n",
       "      <td>0</td>\n",
       "      <td>1</td>\n",
       "      <td>0</td>\n",
       "      <td>0</td>\n",
       "    </tr>\n",
       "  </tbody>\n",
       "</table>\n",
       "</div>"
      ],
      "text/plain": [
       "    name_age  occupation  weight life_satisfaction relatives_income_k_rub  \\\n",
       "0    Oleg 25  programmer      80           5 point                   150+   \n",
       "1    Pete 32     teacher      98           3 point                  30-80   \n",
       "2   Fedor 31  programmer      86           4 point                  30-80   \n",
       "3  Teodor 55     teacher      88           3 point                  30-80   \n",
       "4   Elena 19     student      60           1 point                   0-15   \n",
       "5  Viktor 18     student      75           2 point                  16-30   \n",
       "6   Anton 36     teacher      91           4 point                  30-80   \n",
       "7   Boris 45     manager      96           4 point                 80-150   \n",
       "8    Alex 25     manager      65           4 point                  16-30   \n",
       "9  Sergey 32  programmer      73           4 point                 80-150   \n",
       "\n",
       "  favourite_dish  income_per_hour_rub  number_working_days_per_week  \\\n",
       "0           cake               300.50                             5   \n",
       "1          steak               150.33                             5   \n",
       "2         steaks               265.54                             4   \n",
       "3          sweet                85.69                             2   \n",
       "4          CAKES              3150.54                             1   \n",
       "5          candy               450.84                             6   \n",
       "6        candies              2140.36                             7   \n",
       "7          dairy              1650.36                             2   \n",
       "8           milk              2425.84                             5   \n",
       "9          Dairy              1745.85                             4   \n",
       "\n",
       "   number_working_hours_per_day  \\\n",
       "0                             8   \n",
       "1                             8   \n",
       "2                             7   \n",
       "3                            12   \n",
       "4                            24   \n",
       "5                             8   \n",
       "6                             3   \n",
       "7                            10   \n",
       "8                             7   \n",
       "9                             8   \n",
       "\n",
       "                              tell_me_about_yourself favourite_weather  \\\n",
       "0         I'm just a normal person. Nothing special.  rainbow/fog/warm   \n",
       "1  I'm a good person. I teach children all over t...   sun/fog/rainbow   \n",
       "2  Nothing special, just a good programmer and fa...    chilly/fog/sun   \n",
       "3     I'm a father and hasband. I love teach my son.           rainbow   \n",
       "4  I'm a good student and I want to travel all ov...        chilly/sun   \n",
       "5      I'm a normal student. I want to be a teacher.          warm/sun   \n",
       "6  I'm a hasband and teacher. I teach how to be a...            chilly   \n",
       "7  I don't know what to say. I'm a normal husband...       rainbow/sun   \n",
       "8  Now I'm a manager but I'm going to be a progra...          warm/sun   \n",
       "9  I'm special person! I can do what ever I want!...       fog/rainbow   \n",
       "\n",
       "     answer_date_time                        marital_status age  \\\n",
       "0 2020-10-10 18:25:00           Married (and not separated)  25   \n",
       "1 2020-12-20 16:36:00  Single (including living common law)  32   \n",
       "2 2021-06-01 10:14:00  Single (including living common law)  31   \n",
       "3 2021-07-04 23:25:00           Married (and not separated)  55   \n",
       "4 2020-11-26 06:17:00  Single (including living common law)  19   \n",
       "5 2020-05-18 15:15:00  Single (including living common law)  18   \n",
       "6 2021-10-03 09:08:00           Married (and not separated)  36   \n",
       "7 2020-02-25 04:57:00  Single (including living common law)  45   \n",
       "8 2020-08-28 12:54:00           Married (and not separated)  25   \n",
       "9 2019-10-09 23:25:00           Married (and not separated)  32   \n",
       "\n",
       "  favourite_dish_grouped  rainbow_fw  fog_fw  warm_fw  sun_fw  chilly_fw  \\\n",
       "0                  sweet        True    True     True   False      False   \n",
       "1                  steak        True    True    False    True      False   \n",
       "2                  steak       False    True    False    True       True   \n",
       "3                  sweet        True   False    False   False      False   \n",
       "4                  sweet       False   False    False    True       True   \n",
       "5                  sweet       False   False     True    True      False   \n",
       "6                  sweet       False   False    False   False       True   \n",
       "7                  dairy        True   False    False    True      False   \n",
       "8                  dairy       False   False     True    True      False   \n",
       "9                  dairy        True    True    False   False      False   \n",
       "\n",
       "   is_married  good_bw  programmer_bw  want_bw  normal_bw  person_bw  \\\n",
       "0        True        0              0        0          1          1   \n",
       "1       False        1              0        0          0          1   \n",
       "2       False        1              1        0          0          0   \n",
       "3        True        0              0        0          0          0   \n",
       "4       False        1              1        1          0          0   \n",
       "5       False        0              0        1          1          0   \n",
       "6        True        0              1        0          0          0   \n",
       "7       False        1              0        0          1          0   \n",
       "8        True        1              1        1          0          0   \n",
       "9        True        0              1        1          0          1   \n",
       "\n",
       "   special_bw  teach_bw  father_bw  student_bw  is_programmer  is_teacher  \\\n",
       "0           1         0          0           0           True       False   \n",
       "1           0         1          0           0          False        True   \n",
       "2           1         0          1           0           True       False   \n",
       "3           0         1          1           0          False        True   \n",
       "4           0         0          0           1          False       False   \n",
       "5           0         0          0           1          False       False   \n",
       "6           0         1          0           0          False        True   \n",
       "7           0         0          1           0          False       False   \n",
       "8           0         0          0           1          False       False   \n",
       "9           1         0          0           0           True       False   \n",
       "\n",
       "   is_student  is_manager  is_programmer_OR_student  is_teacher_OR_manager  \\\n",
       "0       False       False                      True                  False   \n",
       "1       False       False                     False                   True   \n",
       "2       False       False                      True                  False   \n",
       "3       False       False                     False                   True   \n",
       "4        True       False                      True                  False   \n",
       "5        True       False                      True                  False   \n",
       "6       False       False                     False                   True   \n",
       "7       False        True                     False                   True   \n",
       "8       False        True                     False                   True   \n",
       "9       False       False                      True                  False   \n",
       "\n",
       "   relatives_income_k_rub_enc_ord  life_satisfaction_enc_ord  \\\n",
       "0                             4.0                        4.0   \n",
       "1                             2.0                        2.0   \n",
       "2                             2.0                        3.0   \n",
       "3                             2.0                        2.0   \n",
       "4                             0.0                        0.0   \n",
       "5                             1.0                        1.0   \n",
       "6                             2.0                        3.0   \n",
       "7                             3.0                        3.0   \n",
       "8                             1.0                        3.0   \n",
       "9                             3.0                        3.0   \n",
       "\n",
       "   occupation_enc_oh_manager  occupation_enc_oh_programmer  \\\n",
       "0                        0.0                           1.0   \n",
       "1                        0.0                           0.0   \n",
       "2                        0.0                           1.0   \n",
       "3                        0.0                           0.0   \n",
       "4                        0.0                           0.0   \n",
       "5                        0.0                           0.0   \n",
       "6                        0.0                           0.0   \n",
       "7                        1.0                           0.0   \n",
       "8                        1.0                           0.0   \n",
       "9                        0.0                           1.0   \n",
       "\n",
       "   occupation_enc_oh_student  occupation_enc_oh_teacher  occupation_manager  \\\n",
       "0                        0.0                        0.0                   0   \n",
       "1                        0.0                        1.0                   0   \n",
       "2                        0.0                        0.0                   0   \n",
       "3                        0.0                        1.0                   0   \n",
       "4                        1.0                        0.0                   0   \n",
       "5                        1.0                        0.0                   0   \n",
       "6                        0.0                        1.0                   0   \n",
       "7                        0.0                        0.0                   1   \n",
       "8                        0.0                        0.0                   1   \n",
       "9                        0.0                        0.0                   0   \n",
       "\n",
       "   occupation_programmer  occupation_student  occupation_teacher  \n",
       "0                      1                   0                   0  \n",
       "1                      0                   0                   1  \n",
       "2                      1                   0                   0  \n",
       "3                      0                   0                   1  \n",
       "4                      0                   1                   0  \n",
       "5                      0                   1                   0  \n",
       "6                      0                   0                   1  \n",
       "7                      0                   0                   0  \n",
       "8                      0                   0                   0  \n",
       "9                      1                   0                   0  "
      ]
     },
     "execution_count": 44,
     "metadata": {},
     "output_type": "execute_result"
    }
   ],
   "source": [
    "df"
   ]
  },
  {
   "cell_type": "markdown",
   "metadata": {},
   "source": [
    "### `CountEncoder` (`category_encoders`)\n",
    "\n",
    "Заменить каждое значение колонок `occupation` и `life_satisfaction` количеством раз, сколько оно появляется в наборе данных.\n",
    "\n",
    "Результат сохранить в колонку с префиксом `_count`."
   ]
  },
  {
   "cell_type": "code",
   "execution_count": 45,
   "metadata": {
    "collapsed": false,
    "jupyter": {
     "outputs_hidden": false
    },
    "pycharm": {
     "name": "#%%\n"
    }
   },
   "outputs": [
    {
     "data": {
      "text/plain": [
       "CountEncoder(combine_min_nan_groups=True)"
      ]
     },
     "execution_count": 45,
     "metadata": {},
     "output_type": "execute_result"
    }
   ],
   "source": [
    "import category_encoders as ce\n",
    "\n",
    "count_enc = ce.CountEncoder()\n",
    "count_enc"
   ]
  },
  {
   "cell_type": "code",
   "execution_count": 46,
   "metadata": {},
   "outputs": [],
   "source": [
    "count_encoded = count_enc.fit_transform(df[['occupation', 'life_satisfaction']])\n",
    "df = df.join(count_encoded.add_prefix(\"count_\"))       "
   ]
  },
  {
   "cell_type": "code",
   "execution_count": 47,
   "metadata": {
    "collapsed": false,
    "jupyter": {
     "outputs_hidden": false
    },
    "pycharm": {
     "name": "#%%\n"
    }
   },
   "outputs": [
    {
     "data": {
      "text/html": [
       "<div>\n",
       "<style scoped>\n",
       "    .dataframe tbody tr th:only-of-type {\n",
       "        vertical-align: middle;\n",
       "    }\n",
       "\n",
       "    .dataframe tbody tr th {\n",
       "        vertical-align: top;\n",
       "    }\n",
       "\n",
       "    .dataframe thead th {\n",
       "        text-align: right;\n",
       "    }\n",
       "</style>\n",
       "<table border=\"1\" class=\"dataframe\">\n",
       "  <thead>\n",
       "    <tr style=\"text-align: right;\">\n",
       "      <th></th>\n",
       "      <th>occupation</th>\n",
       "      <th>count_occupation</th>\n",
       "      <th>life_satisfaction</th>\n",
       "      <th>count_life_satisfaction</th>\n",
       "    </tr>\n",
       "  </thead>\n",
       "  <tbody>\n",
       "    <tr>\n",
       "      <th>0</th>\n",
       "      <td>programmer</td>\n",
       "      <td>3</td>\n",
       "      <td>5 point</td>\n",
       "      <td>1</td>\n",
       "    </tr>\n",
       "    <tr>\n",
       "      <th>1</th>\n",
       "      <td>teacher</td>\n",
       "      <td>3</td>\n",
       "      <td>3 point</td>\n",
       "      <td>2</td>\n",
       "    </tr>\n",
       "    <tr>\n",
       "      <th>2</th>\n",
       "      <td>programmer</td>\n",
       "      <td>3</td>\n",
       "      <td>4 point</td>\n",
       "      <td>5</td>\n",
       "    </tr>\n",
       "    <tr>\n",
       "      <th>3</th>\n",
       "      <td>teacher</td>\n",
       "      <td>3</td>\n",
       "      <td>3 point</td>\n",
       "      <td>2</td>\n",
       "    </tr>\n",
       "    <tr>\n",
       "      <th>4</th>\n",
       "      <td>student</td>\n",
       "      <td>2</td>\n",
       "      <td>1 point</td>\n",
       "      <td>1</td>\n",
       "    </tr>\n",
       "    <tr>\n",
       "      <th>5</th>\n",
       "      <td>student</td>\n",
       "      <td>2</td>\n",
       "      <td>2 point</td>\n",
       "      <td>1</td>\n",
       "    </tr>\n",
       "    <tr>\n",
       "      <th>6</th>\n",
       "      <td>teacher</td>\n",
       "      <td>3</td>\n",
       "      <td>4 point</td>\n",
       "      <td>5</td>\n",
       "    </tr>\n",
       "    <tr>\n",
       "      <th>7</th>\n",
       "      <td>manager</td>\n",
       "      <td>2</td>\n",
       "      <td>4 point</td>\n",
       "      <td>5</td>\n",
       "    </tr>\n",
       "    <tr>\n",
       "      <th>8</th>\n",
       "      <td>manager</td>\n",
       "      <td>2</td>\n",
       "      <td>4 point</td>\n",
       "      <td>5</td>\n",
       "    </tr>\n",
       "    <tr>\n",
       "      <th>9</th>\n",
       "      <td>programmer</td>\n",
       "      <td>3</td>\n",
       "      <td>4 point</td>\n",
       "      <td>5</td>\n",
       "    </tr>\n",
       "  </tbody>\n",
       "</table>\n",
       "</div>"
      ],
      "text/plain": [
       "   occupation  count_occupation life_satisfaction  count_life_satisfaction\n",
       "0  programmer                 3           5 point                        1\n",
       "1     teacher                 3           3 point                        2\n",
       "2  programmer                 3           4 point                        5\n",
       "3     teacher                 3           3 point                        2\n",
       "4     student                 2           1 point                        1\n",
       "5     student                 2           2 point                        1\n",
       "6     teacher                 3           4 point                        5\n",
       "7     manager                 2           4 point                        5\n",
       "8     manager                 2           4 point                        5\n",
       "9  programmer                 3           4 point                        5"
      ]
     },
     "execution_count": 47,
     "metadata": {},
     "output_type": "execute_result"
    }
   ],
   "source": [
    "# присоединить закодированные колонки\n",
    "# к основному набору данных с суффиксом\n",
    "df[['occupation', 'count_occupation', 'life_satisfaction', 'count_life_satisfaction']]"
   ]
  },
  {
   "cell_type": "markdown",
   "metadata": {},
   "source": [
    "## Числовые признаки"
   ]
  },
  {
   "cell_type": "markdown",
   "metadata": {},
   "source": [
    "**Возможное решение:**\n",
    "- Округление вещественных чисел (и другие математические операции).\n",
    "- Объединение нескольких числовых признаков в один с помощью математических преобразований. Пример: признаки \"длина\" и \"ширина\" преобразовать к признаку \"площадь\". \n",
    "- Приведение числового признака к категориальному и формирование \"интервалов\" (Binning/Discretization). Пример: добавить признаки вида \"рост больше X\", \"рост меньше X\" или \"доход больше 100тыс\" или \"высокий доход\". Далее применить преобразования для категориальных признаков."
   ]
  },
  {
   "cell_type": "code",
   "execution_count": 48,
   "metadata": {},
   "outputs": [
    {
     "data": {
      "text/html": [
       "<div>\n",
       "<style scoped>\n",
       "    .dataframe tbody tr th:only-of-type {\n",
       "        vertical-align: middle;\n",
       "    }\n",
       "\n",
       "    .dataframe tbody tr th {\n",
       "        vertical-align: top;\n",
       "    }\n",
       "\n",
       "    .dataframe thead th {\n",
       "        text-align: right;\n",
       "    }\n",
       "</style>\n",
       "<table border=\"1\" class=\"dataframe\">\n",
       "  <thead>\n",
       "    <tr style=\"text-align: right;\">\n",
       "      <th></th>\n",
       "      <th>weight</th>\n",
       "      <th>income_per_hour_rub</th>\n",
       "      <th>number_working_days_per_week</th>\n",
       "      <th>number_working_hours_per_day</th>\n",
       "      <th>good_bw</th>\n",
       "      <th>programmer_bw</th>\n",
       "      <th>want_bw</th>\n",
       "      <th>normal_bw</th>\n",
       "      <th>person_bw</th>\n",
       "      <th>special_bw</th>\n",
       "      <th>teach_bw</th>\n",
       "      <th>father_bw</th>\n",
       "      <th>student_bw</th>\n",
       "      <th>relatives_income_k_rub_enc_ord</th>\n",
       "      <th>life_satisfaction_enc_ord</th>\n",
       "      <th>occupation_enc_oh_manager</th>\n",
       "      <th>occupation_enc_oh_programmer</th>\n",
       "      <th>occupation_enc_oh_student</th>\n",
       "      <th>occupation_enc_oh_teacher</th>\n",
       "      <th>occupation_manager</th>\n",
       "      <th>occupation_programmer</th>\n",
       "      <th>occupation_student</th>\n",
       "      <th>occupation_teacher</th>\n",
       "      <th>count_occupation</th>\n",
       "      <th>count_life_satisfaction</th>\n",
       "    </tr>\n",
       "  </thead>\n",
       "  <tbody>\n",
       "    <tr>\n",
       "      <th>0</th>\n",
       "      <td>80</td>\n",
       "      <td>300.50</td>\n",
       "      <td>5</td>\n",
       "      <td>8</td>\n",
       "      <td>0</td>\n",
       "      <td>0</td>\n",
       "      <td>0</td>\n",
       "      <td>1</td>\n",
       "      <td>1</td>\n",
       "      <td>1</td>\n",
       "      <td>0</td>\n",
       "      <td>0</td>\n",
       "      <td>0</td>\n",
       "      <td>4.0</td>\n",
       "      <td>4.0</td>\n",
       "      <td>0.0</td>\n",
       "      <td>1.0</td>\n",
       "      <td>0.0</td>\n",
       "      <td>0.0</td>\n",
       "      <td>0</td>\n",
       "      <td>1</td>\n",
       "      <td>0</td>\n",
       "      <td>0</td>\n",
       "      <td>3</td>\n",
       "      <td>1</td>\n",
       "    </tr>\n",
       "    <tr>\n",
       "      <th>1</th>\n",
       "      <td>98</td>\n",
       "      <td>150.33</td>\n",
       "      <td>5</td>\n",
       "      <td>8</td>\n",
       "      <td>1</td>\n",
       "      <td>0</td>\n",
       "      <td>0</td>\n",
       "      <td>0</td>\n",
       "      <td>1</td>\n",
       "      <td>0</td>\n",
       "      <td>1</td>\n",
       "      <td>0</td>\n",
       "      <td>0</td>\n",
       "      <td>2.0</td>\n",
       "      <td>2.0</td>\n",
       "      <td>0.0</td>\n",
       "      <td>0.0</td>\n",
       "      <td>0.0</td>\n",
       "      <td>1.0</td>\n",
       "      <td>0</td>\n",
       "      <td>0</td>\n",
       "      <td>0</td>\n",
       "      <td>1</td>\n",
       "      <td>3</td>\n",
       "      <td>2</td>\n",
       "    </tr>\n",
       "    <tr>\n",
       "      <th>2</th>\n",
       "      <td>86</td>\n",
       "      <td>265.54</td>\n",
       "      <td>4</td>\n",
       "      <td>7</td>\n",
       "      <td>1</td>\n",
       "      <td>1</td>\n",
       "      <td>0</td>\n",
       "      <td>0</td>\n",
       "      <td>0</td>\n",
       "      <td>1</td>\n",
       "      <td>0</td>\n",
       "      <td>1</td>\n",
       "      <td>0</td>\n",
       "      <td>2.0</td>\n",
       "      <td>3.0</td>\n",
       "      <td>0.0</td>\n",
       "      <td>1.0</td>\n",
       "      <td>0.0</td>\n",
       "      <td>0.0</td>\n",
       "      <td>0</td>\n",
       "      <td>1</td>\n",
       "      <td>0</td>\n",
       "      <td>0</td>\n",
       "      <td>3</td>\n",
       "      <td>5</td>\n",
       "    </tr>\n",
       "    <tr>\n",
       "      <th>3</th>\n",
       "      <td>88</td>\n",
       "      <td>85.69</td>\n",
       "      <td>2</td>\n",
       "      <td>12</td>\n",
       "      <td>0</td>\n",
       "      <td>0</td>\n",
       "      <td>0</td>\n",
       "      <td>0</td>\n",
       "      <td>0</td>\n",
       "      <td>0</td>\n",
       "      <td>1</td>\n",
       "      <td>1</td>\n",
       "      <td>0</td>\n",
       "      <td>2.0</td>\n",
       "      <td>2.0</td>\n",
       "      <td>0.0</td>\n",
       "      <td>0.0</td>\n",
       "      <td>0.0</td>\n",
       "      <td>1.0</td>\n",
       "      <td>0</td>\n",
       "      <td>0</td>\n",
       "      <td>0</td>\n",
       "      <td>1</td>\n",
       "      <td>3</td>\n",
       "      <td>2</td>\n",
       "    </tr>\n",
       "    <tr>\n",
       "      <th>4</th>\n",
       "      <td>60</td>\n",
       "      <td>3150.54</td>\n",
       "      <td>1</td>\n",
       "      <td>24</td>\n",
       "      <td>1</td>\n",
       "      <td>1</td>\n",
       "      <td>1</td>\n",
       "      <td>0</td>\n",
       "      <td>0</td>\n",
       "      <td>0</td>\n",
       "      <td>0</td>\n",
       "      <td>0</td>\n",
       "      <td>1</td>\n",
       "      <td>0.0</td>\n",
       "      <td>0.0</td>\n",
       "      <td>0.0</td>\n",
       "      <td>0.0</td>\n",
       "      <td>1.0</td>\n",
       "      <td>0.0</td>\n",
       "      <td>0</td>\n",
       "      <td>0</td>\n",
       "      <td>1</td>\n",
       "      <td>0</td>\n",
       "      <td>2</td>\n",
       "      <td>1</td>\n",
       "    </tr>\n",
       "    <tr>\n",
       "      <th>5</th>\n",
       "      <td>75</td>\n",
       "      <td>450.84</td>\n",
       "      <td>6</td>\n",
       "      <td>8</td>\n",
       "      <td>0</td>\n",
       "      <td>0</td>\n",
       "      <td>1</td>\n",
       "      <td>1</td>\n",
       "      <td>0</td>\n",
       "      <td>0</td>\n",
       "      <td>0</td>\n",
       "      <td>0</td>\n",
       "      <td>1</td>\n",
       "      <td>1.0</td>\n",
       "      <td>1.0</td>\n",
       "      <td>0.0</td>\n",
       "      <td>0.0</td>\n",
       "      <td>1.0</td>\n",
       "      <td>0.0</td>\n",
       "      <td>0</td>\n",
       "      <td>0</td>\n",
       "      <td>1</td>\n",
       "      <td>0</td>\n",
       "      <td>2</td>\n",
       "      <td>1</td>\n",
       "    </tr>\n",
       "    <tr>\n",
       "      <th>6</th>\n",
       "      <td>91</td>\n",
       "      <td>2140.36</td>\n",
       "      <td>7</td>\n",
       "      <td>3</td>\n",
       "      <td>0</td>\n",
       "      <td>1</td>\n",
       "      <td>0</td>\n",
       "      <td>0</td>\n",
       "      <td>0</td>\n",
       "      <td>0</td>\n",
       "      <td>1</td>\n",
       "      <td>0</td>\n",
       "      <td>0</td>\n",
       "      <td>2.0</td>\n",
       "      <td>3.0</td>\n",
       "      <td>0.0</td>\n",
       "      <td>0.0</td>\n",
       "      <td>0.0</td>\n",
       "      <td>1.0</td>\n",
       "      <td>0</td>\n",
       "      <td>0</td>\n",
       "      <td>0</td>\n",
       "      <td>1</td>\n",
       "      <td>3</td>\n",
       "      <td>5</td>\n",
       "    </tr>\n",
       "    <tr>\n",
       "      <th>7</th>\n",
       "      <td>96</td>\n",
       "      <td>1650.36</td>\n",
       "      <td>2</td>\n",
       "      <td>10</td>\n",
       "      <td>1</td>\n",
       "      <td>0</td>\n",
       "      <td>0</td>\n",
       "      <td>1</td>\n",
       "      <td>0</td>\n",
       "      <td>0</td>\n",
       "      <td>0</td>\n",
       "      <td>1</td>\n",
       "      <td>0</td>\n",
       "      <td>3.0</td>\n",
       "      <td>3.0</td>\n",
       "      <td>1.0</td>\n",
       "      <td>0.0</td>\n",
       "      <td>0.0</td>\n",
       "      <td>0.0</td>\n",
       "      <td>1</td>\n",
       "      <td>0</td>\n",
       "      <td>0</td>\n",
       "      <td>0</td>\n",
       "      <td>2</td>\n",
       "      <td>5</td>\n",
       "    </tr>\n",
       "    <tr>\n",
       "      <th>8</th>\n",
       "      <td>65</td>\n",
       "      <td>2425.84</td>\n",
       "      <td>5</td>\n",
       "      <td>7</td>\n",
       "      <td>1</td>\n",
       "      <td>1</td>\n",
       "      <td>1</td>\n",
       "      <td>0</td>\n",
       "      <td>0</td>\n",
       "      <td>0</td>\n",
       "      <td>0</td>\n",
       "      <td>0</td>\n",
       "      <td>1</td>\n",
       "      <td>1.0</td>\n",
       "      <td>3.0</td>\n",
       "      <td>1.0</td>\n",
       "      <td>0.0</td>\n",
       "      <td>0.0</td>\n",
       "      <td>0.0</td>\n",
       "      <td>1</td>\n",
       "      <td>0</td>\n",
       "      <td>0</td>\n",
       "      <td>0</td>\n",
       "      <td>2</td>\n",
       "      <td>5</td>\n",
       "    </tr>\n",
       "    <tr>\n",
       "      <th>9</th>\n",
       "      <td>73</td>\n",
       "      <td>1745.85</td>\n",
       "      <td>4</td>\n",
       "      <td>8</td>\n",
       "      <td>0</td>\n",
       "      <td>1</td>\n",
       "      <td>1</td>\n",
       "      <td>0</td>\n",
       "      <td>1</td>\n",
       "      <td>1</td>\n",
       "      <td>0</td>\n",
       "      <td>0</td>\n",
       "      <td>0</td>\n",
       "      <td>3.0</td>\n",
       "      <td>3.0</td>\n",
       "      <td>0.0</td>\n",
       "      <td>1.0</td>\n",
       "      <td>0.0</td>\n",
       "      <td>0.0</td>\n",
       "      <td>0</td>\n",
       "      <td>1</td>\n",
       "      <td>0</td>\n",
       "      <td>0</td>\n",
       "      <td>3</td>\n",
       "      <td>5</td>\n",
       "    </tr>\n",
       "  </tbody>\n",
       "</table>\n",
       "</div>"
      ],
      "text/plain": [
       "   weight  income_per_hour_rub  number_working_days_per_week  \\\n",
       "0      80               300.50                             5   \n",
       "1      98               150.33                             5   \n",
       "2      86               265.54                             4   \n",
       "3      88                85.69                             2   \n",
       "4      60              3150.54                             1   \n",
       "5      75               450.84                             6   \n",
       "6      91              2140.36                             7   \n",
       "7      96              1650.36                             2   \n",
       "8      65              2425.84                             5   \n",
       "9      73              1745.85                             4   \n",
       "\n",
       "   number_working_hours_per_day  good_bw  programmer_bw  want_bw  normal_bw  \\\n",
       "0                             8        0              0        0          1   \n",
       "1                             8        1              0        0          0   \n",
       "2                             7        1              1        0          0   \n",
       "3                            12        0              0        0          0   \n",
       "4                            24        1              1        1          0   \n",
       "5                             8        0              0        1          1   \n",
       "6                             3        0              1        0          0   \n",
       "7                            10        1              0        0          1   \n",
       "8                             7        1              1        1          0   \n",
       "9                             8        0              1        1          0   \n",
       "\n",
       "   person_bw  special_bw  teach_bw  father_bw  student_bw  \\\n",
       "0          1           1         0          0           0   \n",
       "1          1           0         1          0           0   \n",
       "2          0           1         0          1           0   \n",
       "3          0           0         1          1           0   \n",
       "4          0           0         0          0           1   \n",
       "5          0           0         0          0           1   \n",
       "6          0           0         1          0           0   \n",
       "7          0           0         0          1           0   \n",
       "8          0           0         0          0           1   \n",
       "9          1           1         0          0           0   \n",
       "\n",
       "   relatives_income_k_rub_enc_ord  life_satisfaction_enc_ord  \\\n",
       "0                             4.0                        4.0   \n",
       "1                             2.0                        2.0   \n",
       "2                             2.0                        3.0   \n",
       "3                             2.0                        2.0   \n",
       "4                             0.0                        0.0   \n",
       "5                             1.0                        1.0   \n",
       "6                             2.0                        3.0   \n",
       "7                             3.0                        3.0   \n",
       "8                             1.0                        3.0   \n",
       "9                             3.0                        3.0   \n",
       "\n",
       "   occupation_enc_oh_manager  occupation_enc_oh_programmer  \\\n",
       "0                        0.0                           1.0   \n",
       "1                        0.0                           0.0   \n",
       "2                        0.0                           1.0   \n",
       "3                        0.0                           0.0   \n",
       "4                        0.0                           0.0   \n",
       "5                        0.0                           0.0   \n",
       "6                        0.0                           0.0   \n",
       "7                        1.0                           0.0   \n",
       "8                        1.0                           0.0   \n",
       "9                        0.0                           1.0   \n",
       "\n",
       "   occupation_enc_oh_student  occupation_enc_oh_teacher  occupation_manager  \\\n",
       "0                        0.0                        0.0                   0   \n",
       "1                        0.0                        1.0                   0   \n",
       "2                        0.0                        0.0                   0   \n",
       "3                        0.0                        1.0                   0   \n",
       "4                        1.0                        0.0                   0   \n",
       "5                        1.0                        0.0                   0   \n",
       "6                        0.0                        1.0                   0   \n",
       "7                        0.0                        0.0                   1   \n",
       "8                        0.0                        0.0                   1   \n",
       "9                        0.0                        0.0                   0   \n",
       "\n",
       "   occupation_programmer  occupation_student  occupation_teacher  \\\n",
       "0                      1                   0                   0   \n",
       "1                      0                   0                   1   \n",
       "2                      1                   0                   0   \n",
       "3                      0                   0                   1   \n",
       "4                      0                   1                   0   \n",
       "5                      0                   1                   0   \n",
       "6                      0                   0                   1   \n",
       "7                      0                   0                   0   \n",
       "8                      0                   0                   0   \n",
       "9                      1                   0                   0   \n",
       "\n",
       "   count_occupation  count_life_satisfaction  \n",
       "0                 3                        1  \n",
       "1                 3                        2  \n",
       "2                 3                        5  \n",
       "3                 3                        2  \n",
       "4                 2                        1  \n",
       "5                 2                        1  \n",
       "6                 3                        5  \n",
       "7                 2                        5  \n",
       "8                 2                        5  \n",
       "9                 3                        5  "
      ]
     },
     "execution_count": 48,
     "metadata": {},
     "output_type": "execute_result"
    }
   ],
   "source": [
    "# получить все колонки типа number\n",
    "df.select_dtypes(include=np.number)"
   ]
  },
  {
   "cell_type": "markdown",
   "metadata": {},
   "source": [
    "### Округление вещественных чисел\n",
    "\n",
    "Округлить значения колонки `income_per_hour_rub` до сотен.\n",
    "\n",
    "Пример: `66.87` округляется до `100.0`, `123456.78` округляется до `123500.0`. "
   ]
  },
  {
   "cell_type": "code",
   "execution_count": 49,
   "metadata": {},
   "outputs": [
    {
     "data": {
      "text/html": [
       "<div>\n",
       "<style scoped>\n",
       "    .dataframe tbody tr th:only-of-type {\n",
       "        vertical-align: middle;\n",
       "    }\n",
       "\n",
       "    .dataframe tbody tr th {\n",
       "        vertical-align: top;\n",
       "    }\n",
       "\n",
       "    .dataframe thead th {\n",
       "        text-align: right;\n",
       "    }\n",
       "</style>\n",
       "<table border=\"1\" class=\"dataframe\">\n",
       "  <thead>\n",
       "    <tr style=\"text-align: right;\">\n",
       "      <th></th>\n",
       "      <th>income_per_hour_rub</th>\n",
       "      <th>income_per_hour_rub_rounded</th>\n",
       "    </tr>\n",
       "  </thead>\n",
       "  <tbody>\n",
       "    <tr>\n",
       "      <th>0</th>\n",
       "      <td>300.50</td>\n",
       "      <td>300.0</td>\n",
       "    </tr>\n",
       "    <tr>\n",
       "      <th>1</th>\n",
       "      <td>150.33</td>\n",
       "      <td>200.0</td>\n",
       "    </tr>\n",
       "    <tr>\n",
       "      <th>2</th>\n",
       "      <td>265.54</td>\n",
       "      <td>300.0</td>\n",
       "    </tr>\n",
       "    <tr>\n",
       "      <th>3</th>\n",
       "      <td>85.69</td>\n",
       "      <td>100.0</td>\n",
       "    </tr>\n",
       "    <tr>\n",
       "      <th>4</th>\n",
       "      <td>3150.54</td>\n",
       "      <td>3200.0</td>\n",
       "    </tr>\n",
       "    <tr>\n",
       "      <th>5</th>\n",
       "      <td>450.84</td>\n",
       "      <td>500.0</td>\n",
       "    </tr>\n",
       "    <tr>\n",
       "      <th>6</th>\n",
       "      <td>2140.36</td>\n",
       "      <td>2100.0</td>\n",
       "    </tr>\n",
       "    <tr>\n",
       "      <th>7</th>\n",
       "      <td>1650.36</td>\n",
       "      <td>1700.0</td>\n",
       "    </tr>\n",
       "    <tr>\n",
       "      <th>8</th>\n",
       "      <td>2425.84</td>\n",
       "      <td>2400.0</td>\n",
       "    </tr>\n",
       "    <tr>\n",
       "      <th>9</th>\n",
       "      <td>1745.85</td>\n",
       "      <td>1700.0</td>\n",
       "    </tr>\n",
       "  </tbody>\n",
       "</table>\n",
       "</div>"
      ],
      "text/plain": [
       "   income_per_hour_rub  income_per_hour_rub_rounded\n",
       "0               300.50                        300.0\n",
       "1               150.33                        200.0\n",
       "2               265.54                        300.0\n",
       "3                85.69                        100.0\n",
       "4              3150.54                       3200.0\n",
       "5               450.84                        500.0\n",
       "6              2140.36                       2100.0\n",
       "7              1650.36                       1700.0\n",
       "8              2425.84                       2400.0\n",
       "9              1745.85                       1700.0"
      ]
     },
     "execution_count": 49,
     "metadata": {},
     "output_type": "execute_result"
    }
   ],
   "source": [
    "df['income_per_hour_rub_rounded'] = df.income_per_hour_rub.round(-2)\n",
    "df[['income_per_hour_rub', 'income_per_hour_rub_rounded']]"
   ]
  },
  {
   "cell_type": "markdown",
   "metadata": {},
   "source": [
    "### Объединение нескольких (агрегация) числовых признаков\n",
    "\n",
    "Создать колонку `income_per_year` показывающую сколько денег зарабатывает человек в год.\n",
    "\n",
    "Предположим, что каждый работает 46 недель в году (52 недели - 4 отпуска - 2 праздничные выходные)."
   ]
  },
  {
   "cell_type": "code",
   "execution_count": 50,
   "metadata": {},
   "outputs": [
    {
     "data": {
      "text/html": [
       "<div>\n",
       "<style scoped>\n",
       "    .dataframe tbody tr th:only-of-type {\n",
       "        vertical-align: middle;\n",
       "    }\n",
       "\n",
       "    .dataframe tbody tr th {\n",
       "        vertical-align: top;\n",
       "    }\n",
       "\n",
       "    .dataframe thead th {\n",
       "        text-align: right;\n",
       "    }\n",
       "</style>\n",
       "<table border=\"1\" class=\"dataframe\">\n",
       "  <thead>\n",
       "    <tr style=\"text-align: right;\">\n",
       "      <th></th>\n",
       "      <th>income_per_hour_rub</th>\n",
       "      <th>number_working_days_per_week</th>\n",
       "      <th>number_working_hours_per_day</th>\n",
       "      <th>income_per_year</th>\n",
       "    </tr>\n",
       "  </thead>\n",
       "  <tbody>\n",
       "    <tr>\n",
       "      <th>0</th>\n",
       "      <td>300.50</td>\n",
       "      <td>5</td>\n",
       "      <td>8</td>\n",
       "      <td>552920.00</td>\n",
       "    </tr>\n",
       "    <tr>\n",
       "      <th>1</th>\n",
       "      <td>150.33</td>\n",
       "      <td>5</td>\n",
       "      <td>8</td>\n",
       "      <td>276607.20</td>\n",
       "    </tr>\n",
       "    <tr>\n",
       "      <th>2</th>\n",
       "      <td>265.54</td>\n",
       "      <td>4</td>\n",
       "      <td>7</td>\n",
       "      <td>342015.52</td>\n",
       "    </tr>\n",
       "    <tr>\n",
       "      <th>3</th>\n",
       "      <td>85.69</td>\n",
       "      <td>2</td>\n",
       "      <td>12</td>\n",
       "      <td>94601.76</td>\n",
       "    </tr>\n",
       "    <tr>\n",
       "      <th>4</th>\n",
       "      <td>3150.54</td>\n",
       "      <td>1</td>\n",
       "      <td>24</td>\n",
       "      <td>3478196.16</td>\n",
       "    </tr>\n",
       "    <tr>\n",
       "      <th>5</th>\n",
       "      <td>450.84</td>\n",
       "      <td>6</td>\n",
       "      <td>8</td>\n",
       "      <td>995454.72</td>\n",
       "    </tr>\n",
       "    <tr>\n",
       "      <th>6</th>\n",
       "      <td>2140.36</td>\n",
       "      <td>7</td>\n",
       "      <td>3</td>\n",
       "      <td>2067587.76</td>\n",
       "    </tr>\n",
       "    <tr>\n",
       "      <th>7</th>\n",
       "      <td>1650.36</td>\n",
       "      <td>2</td>\n",
       "      <td>10</td>\n",
       "      <td>1518331.20</td>\n",
       "    </tr>\n",
       "    <tr>\n",
       "      <th>8</th>\n",
       "      <td>2425.84</td>\n",
       "      <td>5</td>\n",
       "      <td>7</td>\n",
       "      <td>3905602.40</td>\n",
       "    </tr>\n",
       "    <tr>\n",
       "      <th>9</th>\n",
       "      <td>1745.85</td>\n",
       "      <td>4</td>\n",
       "      <td>8</td>\n",
       "      <td>2569891.20</td>\n",
       "    </tr>\n",
       "  </tbody>\n",
       "</table>\n",
       "</div>"
      ],
      "text/plain": [
       "   income_per_hour_rub  number_working_days_per_week  \\\n",
       "0               300.50                             5   \n",
       "1               150.33                             5   \n",
       "2               265.54                             4   \n",
       "3                85.69                             2   \n",
       "4              3150.54                             1   \n",
       "5               450.84                             6   \n",
       "6              2140.36                             7   \n",
       "7              1650.36                             2   \n",
       "8              2425.84                             5   \n",
       "9              1745.85                             4   \n",
       "\n",
       "   number_working_hours_per_day  income_per_year  \n",
       "0                             8        552920.00  \n",
       "1                             8        276607.20  \n",
       "2                             7        342015.52  \n",
       "3                            12         94601.76  \n",
       "4                            24       3478196.16  \n",
       "5                             8        995454.72  \n",
       "6                             3       2067587.76  \n",
       "7                            10       1518331.20  \n",
       "8                             7       3905602.40  \n",
       "9                             8       2569891.20  "
      ]
     },
     "execution_count": 50,
     "metadata": {},
     "output_type": "execute_result"
    }
   ],
   "source": [
    "df['income_per_year'] = df.income_per_hour_rub * df.number_working_days_per_week * df.number_working_hours_per_day * 46\n",
    "df[['income_per_hour_rub', 'number_working_days_per_week', 'number_working_hours_per_day', 'income_per_year']]"
   ]
  },
  {
   "cell_type": "markdown",
   "metadata": {},
   "source": [
    "### Приведение числового признака к категориальному и формирование \"интервалов\" (Binning/Discretization)\n",
    "\n",
    "Биннинг — это **метод сглаживания данных (data smoothing)**.\n",
    "\n",
    "Сглаживание данных используется для удаления шума из данных. \n",
    "\n",
    "Распространенные методы сглаживания данных:\n",
    "- binning\n",
    "- regression\n",
    "- outlier analysis"
   ]
  },
  {
   "cell_type": "markdown",
   "metadata": {},
   "source": [
    "#### Биннинг по расстоянию (Binning by distance) с помощью `cut` (`pandas`)\n",
    "\n",
    "В этом случае нужно определить края каждого бина. Для этого можно использовать функцию [cut](https://pandas.pydata.org/docs/reference/api/pandas.cut.html)."
   ]
  },
  {
   "cell_type": "code",
   "execution_count": 51,
   "metadata": {},
   "outputs": [
    {
     "ename": "AttributeError",
     "evalue": "'DataFrame' object has no attribute 'user_age'",
     "output_type": "error",
     "traceback": [
      "\u001b[0;31m---------------------------------------------------------------------------\u001b[0m",
      "\u001b[0;31mAttributeError\u001b[0m                            Traceback (most recent call last)",
      "\u001b[0;32m<ipython-input-51-329db62c5fbf>\u001b[0m in \u001b[0;36m<module>\u001b[0;34m\u001b[0m\n\u001b[1;32m      1\u001b[0m \u001b[0;31m# получить минимальное и максимальное значение\u001b[0m\u001b[0;34m\u001b[0m\u001b[0;34m\u001b[0m\u001b[0;34m\u001b[0m\u001b[0m\n\u001b[0;32m----> 2\u001b[0;31m \u001b[0muser_age_min\u001b[0m\u001b[0;34m,\u001b[0m \u001b[0muser_age_max\u001b[0m \u001b[0;34m=\u001b[0m \u001b[0mdf\u001b[0m\u001b[0;34m.\u001b[0m\u001b[0muser_age\u001b[0m\u001b[0;34m.\u001b[0m\u001b[0mmin\u001b[0m\u001b[0;34m(\u001b[0m\u001b[0;34m)\u001b[0m\u001b[0;34m,\u001b[0m \u001b[0mdf\u001b[0m\u001b[0;34m.\u001b[0m\u001b[0muser_age\u001b[0m\u001b[0;34m.\u001b[0m\u001b[0mmax\u001b[0m\u001b[0;34m(\u001b[0m\u001b[0;34m)\u001b[0m\u001b[0;34m\u001b[0m\u001b[0;34m\u001b[0m\u001b[0m\n\u001b[0m\u001b[1;32m      3\u001b[0m \u001b[0muser_age_min\u001b[0m\u001b[0;34m,\u001b[0m \u001b[0muser_age_max\u001b[0m\u001b[0;34m\u001b[0m\u001b[0;34m\u001b[0m\u001b[0m\n",
      "\u001b[0;32m~/anaconda3/envs/LevelUp_DataScience/lib/python3.8/site-packages/pandas/core/generic.py\u001b[0m in \u001b[0;36m__getattr__\u001b[0;34m(self, name)\u001b[0m\n\u001b[1;32m   5463\u001b[0m             \u001b[0;32mif\u001b[0m \u001b[0mself\u001b[0m\u001b[0;34m.\u001b[0m\u001b[0m_info_axis\u001b[0m\u001b[0;34m.\u001b[0m\u001b[0m_can_hold_identifiers_and_holds_name\u001b[0m\u001b[0;34m(\u001b[0m\u001b[0mname\u001b[0m\u001b[0;34m)\u001b[0m\u001b[0;34m:\u001b[0m\u001b[0;34m\u001b[0m\u001b[0;34m\u001b[0m\u001b[0m\n\u001b[1;32m   5464\u001b[0m                 \u001b[0;32mreturn\u001b[0m \u001b[0mself\u001b[0m\u001b[0;34m[\u001b[0m\u001b[0mname\u001b[0m\u001b[0;34m]\u001b[0m\u001b[0;34m\u001b[0m\u001b[0;34m\u001b[0m\u001b[0m\n\u001b[0;32m-> 5465\u001b[0;31m             \u001b[0;32mreturn\u001b[0m \u001b[0mobject\u001b[0m\u001b[0;34m.\u001b[0m\u001b[0m__getattribute__\u001b[0m\u001b[0;34m(\u001b[0m\u001b[0mself\u001b[0m\u001b[0;34m,\u001b[0m \u001b[0mname\u001b[0m\u001b[0;34m)\u001b[0m\u001b[0;34m\u001b[0m\u001b[0;34m\u001b[0m\u001b[0m\n\u001b[0m\u001b[1;32m   5466\u001b[0m \u001b[0;34m\u001b[0m\u001b[0m\n\u001b[1;32m   5467\u001b[0m     \u001b[0;32mdef\u001b[0m \u001b[0m__setattr__\u001b[0m\u001b[0;34m(\u001b[0m\u001b[0mself\u001b[0m\u001b[0;34m,\u001b[0m \u001b[0mname\u001b[0m\u001b[0;34m:\u001b[0m \u001b[0mstr\u001b[0m\u001b[0;34m,\u001b[0m \u001b[0mvalue\u001b[0m\u001b[0;34m)\u001b[0m \u001b[0;34m->\u001b[0m \u001b[0;32mNone\u001b[0m\u001b[0;34m:\u001b[0m\u001b[0;34m\u001b[0m\u001b[0;34m\u001b[0m\u001b[0m\n",
      "\u001b[0;31mAttributeError\u001b[0m: 'DataFrame' object has no attribute 'user_age'"
     ]
    }
   ],
   "source": [
    "# получить минимальное и максимальное значение\n",
    "user_age_min, user_age_max = df.user_age.min(), df.user_age.max()\n",
    "user_age_min, user_age_max"
   ]
  },
  {
   "cell_type": "code",
   "execution_count": null,
   "metadata": {},
   "outputs": [],
   "source": [
    "# можно вычислить диапазон каждого интервала, \n",
    "# то есть минимальное и максимальное значение каждого интервала\n",
    "\n",
    "# допустим необходимо 3 группы, тогда будет 4 \"края\" интервалов (бинов)\n",
    "\n",
    "# можно использовать функцию linspace() пакета numpy\n",
    "# для вычисления 4 равномерно распределенных бинов\n",
    "\n",
    "user_age_bins_linspace = np.linspace(user_age_min, user_age_max, 4)\n",
    "user_age_bins_linspace"
   ]
  },
  {
   "cell_type": "code",
   "execution_count": null,
   "metadata": {},
   "outputs": [],
   "source": [
    "# определить ярлыки\n",
    "user_age_labels_linspace = ['young', 'mature', 'senior']\n",
    "user_age_labels_linspace"
   ]
  },
  {
   "cell_type": "code",
   "execution_count": null,
   "metadata": {},
   "outputs": [],
   "source": [
    "# использовать функцию cut() для преобразования \n",
    "# числовых значений столбца в категориальные значения\n",
    "\n",
    "# нужно указать интервалы и метки\n",
    "# также установим для параметра include_lowest значение True, \n",
    "# чтобы включить также минимальное значение\n",
    "df['user_age_bins_linspace'] = pd.cut(df.user_age, \n",
    "                                      bins=user_age_bins_linspace, \n",
    "                                      labels=user_age_labels_linspace,\n",
    "                                      include_lowest=True)\n",
    "\n",
    "df[['user_age', 'user_age_bins_linspace']]"
   ]
  },
  {
   "cell_type": "code",
   "execution_count": null,
   "metadata": {},
   "outputs": [],
   "source": [
    "# сколько записей оказалось в каждой категории\n",
    "sns.countplot(x=df.user_age_bins_linspace)"
   ]
  },
  {
   "cell_type": "code",
   "execution_count": null,
   "metadata": {},
   "outputs": [],
   "source": [
    "# также можно установить интервалы вручную\n",
    "user_age_bins_manual = [0, 18, \n",
    "                        25, 50, \n",
    "                        75, 150]\n",
    "\n",
    "# определить ярлыки\n",
    "user_age_labels_manual = ['children', 'young adult', \n",
    "                          'adult', 'mature', \n",
    "                          'senior']\n",
    "\n",
    "\n",
    "# нужно указать интервалы и метки\n",
    "# также установим для параметра include_lowest значение True, \n",
    "# чтобы включить также минимальное значение\n",
    "df['user_age_bins_manual'] = pd.cut(df.user_age, \n",
    "                                    bins=user_age_bins_manual, \n",
    "                                    labels=user_age_labels_manual, \n",
    "                                    include_lowest=True)\n",
    "\n",
    "df[['user_age', 'user_age_bins_manual']]"
   ]
  },
  {
   "cell_type": "code",
   "execution_count": null,
   "metadata": {},
   "outputs": [],
   "source": [
    "# сколько записей оказалось в каждой категории\n",
    "sns.countplot(x=df.user_age_bins_manual)"
   ]
  },
  {
   "cell_type": "markdown",
   "metadata": {},
   "source": [
    "#### Биннинг по частоте (Binning by frequency) с помощью `qcut` (`pandas`)\n",
    "\n",
    "Биннинг по частоте вычисляет размер каждой ячейки, таким образом, чтобы каждая ячейка содержит (почти) одинаковое количество наблюдений, но диапазон ячеек будет варьироваться.\n",
    "\n",
    "Для этого проще всего использовать функцию [qcut()](https://pandas.pydata.org/docs/reference/api/pandas.qcut.html).\n",
    "\n",
    "Можем установить параметр `precision`, чтобы определить количество десятичных знаков."
   ]
  },
  {
   "cell_type": "code",
   "execution_count": null,
   "metadata": {},
   "outputs": [],
   "source": [
    "# определить ярлыки\n",
    "income_per_hour_rub_labels_qcut = ['low', 'medium', 'high']\n",
    "\n",
    "# нужно указать количество интервалов и метки\n",
    "df['income_per_hour_rub_bins_qcut'] = pd.qcut(df.income_per_hour_rub, \n",
    "                                         q=3, \n",
    "                                         labels=income_per_hour_rub_labels_qcut)\n",
    "\n",
    "df[['income_per_hour_rub', 'income_per_hour_rub_bins_qcut']]"
   ]
  },
  {
   "cell_type": "code",
   "execution_count": null,
   "metadata": {},
   "outputs": [],
   "source": [
    "# сколько записей оказалось в каждой категории\n",
    "sns.countplot(x=df.income_per_hour_rub_bins_qcut)"
   ]
  },
  {
   "cell_type": "markdown",
   "metadata": {},
   "source": [
    "#### Семплирование (Sampling)\n",
    "\n",
    "В математической статистике **семплирование (от англ. sample — выборка)** — обобщенное название методов управления начальной выборкой при известной цели моделирования, которые позволяют выполнить структурно-параметрическую идентификацию наилучшей статистической модели.\n",
    "\n",
    "Научная новизна метода семплинга состоит в том, что он является эффективным приемом для логичного смыслового увязывания статистических свойств выборки и цели моделирования.\n",
    "\n",
    "**Позволяет уменьшить количество примеров, группируя похожие значения или смежные (contiguous) значения**.\n",
    "\n",
    "Подходы:\n",
    "- по среднему бину (by bin means): каждое значение в бине заменяется средним значением бина.\n",
    "- по медиане бина (by bin median): каждое значение в бине заменяется медианой бина.\n",
    "- по границе бина (by bin boundary): каждое значение бина заменяется ближайшим граничным значением, то есть максимальным или минимальным значением бина.\n",
    "\n",
    "Для этого потребуется функция [scipy.stats.binned_statistic](https://docs.scipy.org/doc/scipy/reference/generated/scipy.stats.binned_statistic.html).\n",
    "\n",
    "Функция `scipy.stats.binned_statistic` получает в качестве входных данных два массива, `x_data` и `y_data`, а также используемую статистику (например, медиана или среднее значение) и количество создаваемых бинов. Функция возвращает значения бинов, а также края каждого бина."
   ]
  },
  {
   "cell_type": "code",
   "execution_count": null,
   "metadata": {},
   "outputs": [],
   "source": [
    "from scipy.stats import binned_statistic\n",
    "\n",
    "x_data = np.arange(0, len(df))\n",
    "y_data = df.user_age\n",
    "\n",
    "\n",
    "statistic, bin_edges, bin_number = binned_statistic(y_data, \n",
    "                                                    x_data, \n",
    "                                                    statistic=\"median\",\n",
    "                                                    bins=3)\n",
    "statistic, bin_edges, bin_number"
   ]
  },
  {
   "cell_type": "markdown",
   "metadata": {},
   "source": [
    "Затем необходимо приблизить каждое значение столбца к среднему значению соответствующего бина. \n",
    "\n",
    "Таким образом, края бина преобразуются в `IntervalIndex`, который получает в качестве индекса левые и правые края каждого бина."
   ]
  },
  {
   "cell_type": "code",
   "execution_count": null,
   "metadata": {},
   "outputs": [],
   "source": [
    "intervals_tuples = [tuple(bin_edges[0:2]), \n",
    "                    tuple(bin_edges[1:3]), \n",
    "                    tuple(bin_edges[2:4])]\n",
    "\n",
    "intervals_tuples"
   ]
  },
  {
   "cell_type": "code",
   "execution_count": null,
   "metadata": {},
   "outputs": [],
   "source": [
    "bin_intervals = pd.IntervalIndex.from_tuples(intervals_tuples, \n",
    "                                             closed='both')\n",
    "bin_intervals"
   ]
  },
  {
   "cell_type": "markdown",
   "metadata": {},
   "source": [
    "Можно дискретизировать (quantize) столбец, определив функцию set_to_median(), которая перебирает бины и, когда находит правильный бин, возвращает среднее (mid) значение."
   ]
  },
  {
   "cell_type": "code",
   "execution_count": null,
   "metadata": {},
   "outputs": [],
   "source": [
    "def set_to_median(x, intervals):\n",
    "    for interval in intervals:\n",
    "        if x in interval:\n",
    "            return interval.mid"
   ]
  },
  {
   "cell_type": "code",
   "execution_count": null,
   "metadata": {},
   "outputs": [],
   "source": [
    "# используем функцию apply(), чтобы применить \n",
    "# set_to_median() к столбцу\n",
    "df['user_age_sampled'] = df['user_age'].apply(lambda x: set_to_median(x, bin_intervals))\n",
    "\n",
    "df[['user_age','user_age_sampled']]"
   ]
  },
  {
   "cell_type": "code",
   "execution_count": null,
   "metadata": {},
   "outputs": [],
   "source": [
    "# можем построить график\n",
    "# отметим потерю информации\n",
    "\n",
    "sns.lineplot(data=df[['user_age', 'user_age_sampled']])"
   ]
  },
  {
   "cell_type": "markdown",
   "metadata": {},
   "source": [
    "#### Вычислить естественные разрывы (natural breaks) в данных\n",
    "\n",
    "Можно использовать пакет `jenkspy`, который содержит единственную функцию `jenks_breaks()`, которая вычисляет естественные разрывы массива, используя алгоритм [Фишера-Дженкса](https://en.wikipedia.org/wiki/Jenks_natural_breaks_optimization)."
   ]
  },
  {
   "cell_type": "code",
   "execution_count": null,
   "metadata": {},
   "outputs": [],
   "source": [
    "import jenkspy\n",
    "\n",
    "breaks = jenkspy.jenks_breaks(df.user_age, nb_class=3)\n",
    "breaks"
   ]
  },
  {
   "cell_type": "code",
   "execution_count": null,
   "metadata": {},
   "outputs": [],
   "source": [
    "# создать метки\n",
    "user_age_labels_breaks = ['young', 'mature', 'senior']\n",
    "\n",
    "# преобразовать в метки\n",
    "df['user_age_break'] = pd.cut(df['user_age'], \n",
    "                              bins=breaks, \n",
    "                              labels=user_age_labels_breaks, \n",
    "                              include_lowest=True)\n",
    "\n",
    "df[['user_age', 'user_age_break']]"
   ]
  },
  {
   "cell_type": "code",
   "execution_count": null,
   "metadata": {},
   "outputs": [],
   "source": [
    "# сколько записей оказалось в каждой категории\n",
    "sns.countplot(x=df.user_age_break)"
   ]
  },
  {
   "cell_type": "markdown",
   "metadata": {},
   "source": [
    "### *`KBinsDiscretizer` (`sklearn`)\n",
    "\n",
    "[sklearn.preprocessing.KBinsDiscretizer](https://scikit-learn.org/stable/modules/generated/sklearn.preprocessing.KBinsDiscretizer.html)"
   ]
  },
  {
   "cell_type": "code",
   "execution_count": null,
   "metadata": {},
   "outputs": [],
   "source": [
    "from sklearn.preprocessing import KBinsDiscretizer\n",
    "\n",
    "kbins = KBinsDiscretizer(n_bins=3, \n",
    "                         encode='ordinal', \n",
    "                         strategy='kmeans')\n",
    "\n",
    "kbins"
   ]
  },
  {
   "cell_type": "code",
   "execution_count": null,
   "metadata": {},
   "outputs": [],
   "source": [
    "kbins.fit(df[['income_per_hour_rub']])\n",
    "kbins"
   ]
  },
  {
   "cell_type": "code",
   "execution_count": null,
   "metadata": {},
   "outputs": [],
   "source": [
    "df['income_per_hour_rub_kbins'] = kbins.transform(df[['income_per_hour_rub']])\n",
    "df[['income_per_hour_rub', 'income_per_hour_rub_kbins']]"
   ]
  },
  {
   "cell_type": "markdown",
   "metadata": {},
   "source": [
    "## Дата и время"
   ]
  },
  {
   "cell_type": "markdown",
   "metadata": {},
   "source": [
    "**Возможное решение:**\n",
    "- Добавить признаки, соответствующие \n",
    "    - времени дня (утро/день/вечер)\n",
    "    - количеству прошедшего времени с определенного момента\n",
    "    - выделение сезонов, времен года, кварталов, праздничных дней\n",
    "    - состояние погоды для этих дней (может быть в дождливые дни поведение покупателей меняется?)\n",
    "    - ...\n",
    "- Разделение времени на часы, минуты и секунды (если время дано в Unix-Time или ISO формате)."
   ]
  },
  {
   "cell_type": "code",
   "execution_count": null,
   "metadata": {},
   "outputs": [],
   "source": [
    "df.select_dtypes(include='datetime64')"
   ]
  },
  {
   "cell_type": "markdown",
   "metadata": {},
   "source": [
    "### Сезоны из даты"
   ]
  },
  {
   "cell_type": "code",
   "execution_count": null,
   "metadata": {},
   "outputs": [],
   "source": [
    "df.open_date_time"
   ]
  },
  {
   "cell_type": "code",
   "execution_count": null,
   "metadata": {},
   "outputs": [],
   "source": [
    "# закодируем\n",
    "# 1-зима\n",
    "# 2-весна\n",
    "# 3-лето\n",
    "# 4-осень\n",
    "df['season'] = [month.month%12 // 3 + 1 for month in df.open_date_time]\n",
    "\n",
    "df[['open_date_time', 'season']]"
   ]
  },
  {
   "cell_type": "markdown",
   "metadata": {},
   "source": [
    "### Выходной/рабочий день"
   ]
  },
  {
   "cell_type": "code",
   "execution_count": null,
   "metadata": {},
   "outputs": [],
   "source": [
    "df['weekday'] = df.open_date_time.dt.weekday\n",
    "\n",
    "df['day_name'] = df.open_date_time.dt.day_name()\n",
    "\n",
    "df['is_weekend'] = df.open_date_time.dt.weekday >= 5\n",
    "\n",
    "df[['open_date_time', 'weekday', 'day_name', 'is_weekend']]"
   ]
  },
  {
   "cell_type": "markdown",
   "metadata": {},
   "source": [
    "### Время дня"
   ]
  },
  {
   "cell_type": "code",
   "execution_count": null,
   "metadata": {},
   "outputs": [],
   "source": [
    "b = [0, 4, 8, 12, 16, 20, 24]\n",
    "l = ['Late Night', 'Early Morning', 'Morning', 'Noon','Evening', 'Night']\n",
    "\n",
    "df['hour'] = df.open_date_time.dt.hour\n",
    "df['day_part'] = pd.cut(df.open_date_time.dt.hour, bins=b, labels=l, include_lowest=True)\n",
    "\n",
    "df[['open_date_time', 'hour', 'day_part']]"
   ]
  },
  {
   "cell_type": "markdown",
   "metadata": {},
   "source": [
    "<img src=\"images/count_vectorizer_theory_vs_reality.png\" height=700 width=700 />\n",
    "\n",
    "<img src=\"images/count_vectorizer_example.png\" height=400 width=400 />"
   ]
  },
  {
   "cell_type": "code",
   "execution_count": null,
   "metadata": {},
   "outputs": [],
   "source": [
    "# преобразовать из scipy.sparse.csr.csr_matrix\n",
    "# в numpy.ndarray\n",
    "tell_me_about_yourself_cv.toarray()"
   ]
  },
  {
   "cell_type": "code",
   "execution_count": null,
   "metadata": {},
   "outputs": [],
   "source": [
    "# информация по каждому слову\n",
    "vocab_dict = {}\n",
    "for word, col_idx in cv.vocabulary_.items():\n",
    "    num = sum(sum(x) for x in tell_me_about_yourself_cv[:, col_idx].toarray())\n",
    "    vocab_dict[(word, col_idx)] = num\n",
    "    print(f\"sum({word}(id={col_idx})): {num}\")\n",
    "    for row_idx in range(tell_me_about_yourself_cv.get_shape()[0]):\n",
    "        print(f\"{word}{row_idx}:{tell_me_about_yourself_cv[row_idx, col_idx]}\", end='  ')\n",
    "        \n",
    "    print('\\n')"
   ]
  },
  {
   "cell_type": "code",
   "execution_count": null,
   "metadata": {},
   "outputs": [],
   "source": [
    "# отсортировать словарь слово-счетчик по убыванию\n",
    "vocab_dict_sorted = dict(sorted(vocab_dict.items(), \n",
    "                                key=lambda item: item[1], \n",
    "                                reverse=True))\n",
    "vocab_dict_sorted"
   ]
  },
  {
   "cell_type": "code",
   "execution_count": null,
   "metadata": {},
   "outputs": [],
   "source": [
    "# получить id слов со счетчиком >= 3\n",
    "gte_3 = [k[1] for k, v in vocab_dict_sorted.items() if v >= 3]\n",
    "gte_3"
   ]
  },
  {
   "cell_type": "code",
   "execution_count": null,
   "metadata": {},
   "outputs": [],
   "source": [
    "# получить счетчики по id слов со счетчиком >= 3\n",
    "gte_3_array = tell_me_about_yourself_cv.toarray()[:, gte_3]\n",
    "gte_3_array"
   ]
  },
  {
   "cell_type": "code",
   "execution_count": null,
   "metadata": {},
   "outputs": [],
   "source": [
    "# получить слова со счетчиком >= 3 по id\n",
    "gte_3_col_names = [tell_me_about_yourself_column_names[i] for i in gte_3]\n",
    "gte_3_col_names"
   ]
  },
  {
   "cell_type": "code",
   "execution_count": null,
   "metadata": {},
   "outputs": [],
   "source": [
    "# соединить закодированные данные с названиями колонок и\n",
    "# преобразовать в DataFrame\n",
    "df_tell_me_about_yourself_cv = pd.DataFrame(gte_3_array, columns=gte_3_col_names)\n",
    "df_tell_me_about_yourself_cv"
   ]
  },
  {
   "cell_type": "code",
   "execution_count": null,
   "metadata": {},
   "outputs": [],
   "source": [
    "# присоединить закодированные колонки\n",
    "# к основному набору данных с суффиксом\n",
    "df = df.join(df_tell_me_about_yourself_cv.add_suffix(\"_cv\"))\n",
    "df"
   ]
  },
  {
   "cell_type": "markdown",
   "metadata": {},
   "source": [
    "## Категориальные признаки"
   ]
  },
  {
   "cell_type": "markdown",
   "metadata": {},
   "source": [
    "**Пример:**\n",
    "Цвет (occupation), т.е. синий (blue), красный (red), зеленый (green).\n",
    "\n",
    "\n",
    "**Возможное решение:**\n",
    "- Добавить комбинации признаков вида \"is_red\", \"is_blue\", \"is_green\", \"is_red_or_blue\" и т.п.\n",
    "- Объединение в группы (Binning = `map`/`replace`).\n",
    "- Категория -> число (`map`, `replace`, `Dummies`, `OrdinalEncoder`, `LabelEncoder`, `BinaryEncoder`, `OneHotEncoder`, `LabelBinarizer` и [другие](https://contrib.scikit-learn.org/category_encoders/)).\n",
    "- Заменить признаки на их количество (`CountEncoder`).\n",
    "| `TargetEncoder`.\n",
    "| `CatBoostEncoder`."
   ]
  },
  {
   "cell_type": "code",
   "execution_count": null,
   "metadata": {},
   "outputs": [],
   "source": [
    "# получить все колонки типа category\n",
    "df.select_dtypes(include='category')"
   ]
  },
  {
   "cell_type": "markdown",
   "metadata": {},
   "source": [
    "### Комбинации признаков с помощью bool mask filter"
   ]
  },
  {
   "cell_type": "code",
   "execution_count": null,
   "metadata": {},
   "outputs": [],
   "source": [
    "df.occupation.value_counts()"
   ]
  },
  {
   "cell_type": "code",
   "execution_count": null,
   "metadata": {},
   "outputs": [],
   "source": [
    "df['is_white'] = df.occupation == 'white'\n",
    "df['is_blue'] = df.occupation == 'blue'\n",
    "\n",
    "# ИЛИ\n",
    "df['is_rainbow'] = df.occupation.isin(['rainbow'])\n",
    "df['is_red'] = df.occupation.isin(['red'])"
   ]
  },
  {
   "cell_type": "code",
   "execution_count": null,
   "metadata": {},
   "outputs": [],
   "source": [
    "df['is_occupation_white_or_blue'] = (df.occupation == 'white') | (df.occupation == 'blue')\n",
    "\n",
    "# ИЛИ\n",
    "df['is_occupation_rainbow_or_red'] = df.occupation.isin(['rainbow', 'red'])"
   ]
  },
  {
   "cell_type": "code",
   "execution_count": null,
   "metadata": {},
   "outputs": [],
   "source": [
    "df[['occupation', \n",
    "    'is_white', 'is_blue', 'is_rainbow', \n",
    "    'is_red', 'is_occupation_white_or_blue', \n",
    "    'is_occupation_rainbow_or_red']]"
   ]
  },
  {
   "cell_type": "markdown",
   "metadata": {},
   "source": [
    "### Группировка категориальных признаков и формирование \"интервалов\" (Binning/Discretization)\n",
    "\n",
    "При использовании категориальных признаков можно столкнуться с такими проблемами:\n",
    "- редкие метки (rare labels), \n",
    "- категории / группы, которые крайне редко встречаются в наборе данных. \n",
    "\n",
    "Эти проблемы часто связаны с признаками, имеющими высокую мощность (high cardinality) - другими словами, с большим количеством различных категорий.\n",
    "\n",
    "Слишком много категорий, особенно редких, приводит к зашумлению набора данных.\n",
    "\n",
    "Алгоритму ML может быть сложно преодолеть этот шум и учиться на более значимых сигналах в данных.\n",
    "\n",
    "Высокая кардинальность также может усугубить [проклятие размерности (curse of dimensionality)](https://ru.wikipedia.org/wiki/%D0%9F%D1%80%D0%BE%D0%BA%D0%BB%D1%8F%D1%82%D0%B8%D0%B5_%D1%80%D0%B0%D0%B7%D0%BC%D0%B5%D1%80%D0%BD%D0%BE%D1%81%D1%82%D0%B8), если выбрать `OneHotEncoder` для таких категориальных признаков. Таким образом, если исходная переменная имеет 50 различных категорий, то добавляется 49 столбцов в набор данных.\n",
    "\n",
    "Наличие слишком большого количества категорий также может привести к проблемам при обучении и тестировании модели. Вполне возможно, что категория появится в тестовом наборе, но не в обучающем наборе. Модель не знает, как обращаться с этой категорией, потому что она никогда ее раньше не \"видела\".\n",
    "\n",
    "Один из способов решения этих проблем — разработка новых признаков с меньшим количеством категорий. Это может быть выполнено путем объединения (группировки) нескольких категорий в одну категорию."
   ]
  },
  {
   "cell_type": "code",
   "execution_count": null,
   "metadata": {},
   "outputs": [],
   "source": [
    "df.item_title"
   ]
  },
  {
   "cell_type": "code",
   "execution_count": null,
   "metadata": {},
   "outputs": [],
   "source": [
    "# какие наименования имеются?\n",
    "g = sns.countplot(x=df.item_title)\n",
    "_ = g.set_xticklabels(g.get_xticklabels(), rotation=60)"
   ]
  },
  {
   "cell_type": "code",
   "execution_count": null,
   "metadata": {},
   "outputs": [],
   "source": [
    "# сформировать, что заменяем и на что\n",
    "animal_mapping = dict.fromkeys(['Beautiful Cat', 'Dog', 'Kitty'], 'Animal')\n",
    "toy_mapping = dict.fromkeys(['toy', 'Toys', 'Soft TOY'], 'Toy')\n",
    "electronic_mapping = dict.fromkeys(['TV', 'Television', 'Smartphone'], 'Electronic')\n",
    "\n",
    "animal_mapping, toy_mapping, electronic_mapping"
   ]
  },
  {
   "cell_type": "code",
   "execution_count": null,
   "metadata": {},
   "outputs": [],
   "source": [
    "all_mapping = {}\n",
    "all_mapping.update(animal_mapping)\n",
    "all_mapping.update(toy_mapping)\n",
    "all_mapping.update(electronic_mapping)\n",
    "all_mapping.update({'Car': 'Car'})    # иначе вместо него будет nan\n",
    "\n",
    "all_mapping"
   ]
  },
  {
   "cell_type": "code",
   "execution_count": null,
   "metadata": {},
   "outputs": [],
   "source": [
    "# создать новую колонку с замененными значениями\n",
    "df['item_title_bins'] = df.item_title.map(all_mapping)\n",
    "df.item_title_bins"
   ]
  },
  {
   "cell_type": "code",
   "execution_count": null,
   "metadata": {},
   "outputs": [],
   "source": [
    "_ = sns.countplot(x=df.item_title_bins)"
   ]
  },
  {
   "cell_type": "markdown",
   "metadata": {},
   "source": [
    "### Объединение в группы с помощью `replace` (`pandas`)"
   ]
  },
  {
   "cell_type": "code",
   "execution_count": null,
   "metadata": {},
   "outputs": [],
   "source": [
    "_ = sns.countplot(x=df.occupation)"
   ]
  },
  {
   "cell_type": "code",
   "execution_count": null,
   "metadata": {},
   "outputs": [],
   "source": [
    "occupation_replacement = {name: num for num, name in enumerate(df.occupation.value_counts().index)}\n",
    "occupation_replacement"
   ]
  },
  {
   "cell_type": "code",
   "execution_count": null,
   "metadata": {},
   "outputs": [],
   "source": [
    "# ВНИМАНИЕ: не удаляет значения, которые не указаны в replace\n",
    "df['occupation_nums'] = df.occupation.replace(occupation_replacement)"
   ]
  },
  {
   "cell_type": "code",
   "execution_count": null,
   "metadata": {},
   "outputs": [],
   "source": [
    "df[['occupation', 'occupation_nums']]"
   ]
  },
  {
   "cell_type": "markdown",
   "metadata": {},
   "source": [
    "### Объединение в группы с помощью `map` (`pandas`)"
   ]
  },
  {
   "cell_type": "code",
   "execution_count": null,
   "metadata": {},
   "outputs": [],
   "source": [
    "_ = sns.countplot(x=df.user_country)"
   ]
  },
  {
   "cell_type": "code",
   "execution_count": null,
   "metadata": {},
   "outputs": [],
   "source": [
    "user_country_mapping = {name: num for num, name in enumerate(df.user_country.value_counts().index)}\n",
    "user_country_mapping"
   ]
  },
  {
   "cell_type": "code",
   "execution_count": null,
   "metadata": {},
   "outputs": [],
   "source": [
    "# ВНИМАНИЕ: удаляет значения, которые не указаны в map\n",
    "df['user_country_nums'] = df.user_country.map(user_country_mapping)"
   ]
  },
  {
   "cell_type": "code",
   "execution_count": null,
   "metadata": {},
   "outputs": [],
   "source": [
    "df[['user_country', 'user_country_nums']]"
   ]
  },
  {
   "cell_type": "markdown",
   "metadata": {},
   "source": [
    "### `LabelEncoder` (`sklearn`)\n",
    "\n",
    "**ВНИМАНИЕ: `LabelEncoder` и `OrdinalEncoder` иметь одинаковую функциональность. Различие — это назначение. Класс `OrdinalEncoder` предназначен для преобразования признаков (features, обычно 2D-массив), а `LabelEncoder` - для преобразования целевой переменной (target variable, обычно 1D-массив).**\n",
    "\n",
    "<img src=\"images/label_encoder_example.png\" height=700 width=700/>\n",
    "\n",
    "Этот подход **предполагает упорядочение категорий**:\n",
    "\n",
    "`Никогда (0) < Редко (1) < Большинство дней (2) < Каждый день (3)`.\n",
    "\n",
    "В результате получается один столбец целых чисел (от `0` до `n_categories - 1`) (тип `float`).\n",
    "\n",
    "Входные данные должны быть массивом целых чисел или строк, обозначающих значения, принимаемые категориальными (дискретными) признаками.\n",
    "\n",
    "Этот преобразователь следует использовать для кодирования целевых значений, т.е. `y`, а не входного `X`.\n",
    "\n",
    "Для моделей на основе деревьев (таких, как деревья решений = `decision trees` и случайные леса = `random forests`) можно ожидать, что `LabelEncoder` будет хорошо работать с порядковыми переменными."
   ]
  },
  {
   "cell_type": "code",
   "execution_count": null,
   "metadata": {
    "collapsed": false,
    "jupyter": {
     "outputs_hidden": false
    },
    "pycharm": {
     "name": "#%%\n"
    }
   },
   "outputs": [],
   "source": [
    "from sklearn.preprocessing import LabelEncoder\n",
    "\n",
    "enc_l = LabelEncoder()\n",
    "enc_l"
   ]
  },
  {
   "cell_type": "code",
   "execution_count": null,
   "metadata": {},
   "outputs": [],
   "source": [
    "# подготовить кодировщик\n",
    "# можно использовать несколько раз\n",
    "# указать все возможные значения целевой переменной\n",
    "# можно больше, чем имеется сейчас в наборе данных\n",
    "enc_l.fit(['Russia', 'Germany', 'USA', 'India', 'Other'])"
   ]
  },
  {
   "cell_type": "code",
   "execution_count": null,
   "metadata": {},
   "outputs": [],
   "source": [
    "# произвести преобразования с помощью заранее подготовленного кодировщика\n",
    "df['user_country_enc_l'] = enc_l.transform(df.user_country)"
   ]
  },
  {
   "cell_type": "code",
   "execution_count": null,
   "metadata": {
    "collapsed": false,
    "jupyter": {
     "outputs_hidden": false
    },
    "pycharm": {
     "name": "#%%\n"
    }
   },
   "outputs": [],
   "source": [
    "# пронумерованы в алфавитном порядке\n",
    "# другой порядок стандартными средствами не установить\n",
    "df[['user_country', 'user_country_enc_l']]"
   ]
  },
  {
   "cell_type": "markdown",
   "metadata": {},
   "source": [
    "### `OrdinalEncoder` (`sklearn`)\n",
    "\n",
    "**ВНИМАНИЕ: `LabelEncoder` и `OrdinalEncoder` иметь одинаковую функциональность. Различие — это назначение. Класс `OrdinalEncoder` предназначен для преобразования признаков (features, обычно 2D-массив), а `LabelEncoder` - для преобразования целевой переменной (target variable, обычно 1D-массив).**\n",
    "\n",
    "Кодирует категориальные признаки в целочисленный массив.\n",
    "\n",
    "<img src=\"images/label_encoder_example.png\" height=700 width=700/>\n",
    "\n",
    "Этот подход **предполагает упорядочение категорий**:\n",
    "\n",
    "`Никогда (0) < Редко (1) < Большинство дней (2) < Каждый день (3)`.\n",
    "\n",
    "Это предположение имеет смысл в этом примере, потому что существует неоспоримое ранжирование категорий.\n",
    "\n",
    "Входные данные должны быть массивом целых чисел или строк, обозначающих значения, принимаемые категориальными (дискретными) признаками. \n",
    "\n",
    "Признаки преобразуются в порядковые целые числа.\n",
    "\n",
    "В результате получается один столбец целых чисел (от `0` до `n_categories - 1`) *для каждого признака* (тип `float`)."
   ]
  },
  {
   "cell_type": "code",
   "execution_count": null,
   "metadata": {
    "collapsed": false,
    "jupyter": {
     "outputs_hidden": false
    },
    "pycharm": {
     "name": "#%%\n"
    }
   },
   "outputs": [],
   "source": [
    "from sklearn.preprocessing import OrdinalEncoder\n",
    "\n",
    "# можно определить порядок в каждой категории\n",
    "# (хорошо подходит для ранговых шкал)\n",
    "# если не определить порядок, то будет алфавитный\n",
    "enc_ord = OrdinalEncoder(categories=[['red', 'white', 'blue', 'rainbow'], ['5 point', '4 point', '3 point', '2 point', '1 point']])\n",
    "enc_ord"
   ]
  },
  {
   "cell_type": "code",
   "execution_count": null,
   "metadata": {},
   "outputs": [],
   "source": [
    "# подготовить кодировщик\n",
    "# можно использовать несколько раз\n",
    "enc_ord.fit(df[['occupation', 'life_satisfaction']])"
   ]
  },
  {
   "cell_type": "code",
   "execution_count": null,
   "metadata": {},
   "outputs": [],
   "source": [
    "# произвести преобразования с помощью заранее подготовленного кодировщика\n",
    "df[['occupation_enc_ord', 'life_satisfaction_enc_ord']] = enc_ord.transform(df[['occupation', 'life_satisfaction']])\n",
    "\n",
    "# пронумерованы в соответствии с указанным при создании порядком\n",
    "df[['occupation', 'occupation_enc_ord', 'life_satisfaction', 'life_satisfaction_enc_ord']]"
   ]
  },
  {
   "cell_type": "code",
   "execution_count": null,
   "metadata": {},
   "outputs": [],
   "source": [
    "df.occupation_enc_ord.dtype"
   ]
  },
  {
   "cell_type": "markdown",
   "metadata": {},
   "source": [
    "### `OneHotEncoder` (`sklearn`)\n",
    "\n",
    "**ВНИМАНИЕ: `LabelBinarizer` и `OneHotEncoder` иметь одинаковую функциональность. Различие — это назначение. Класс`OneHotEncoder` предназначен для преобразования признаков (features, обычно 2D-массив), а `LabelBinarizer` - для преобразования целевой переменной (target variable, обычно 1D-массив).**\n",
    "\n",
    "Бинаризирует признаки по принципу \"один против всех (one-vs-all)\".\n",
    "\n",
    "(aka `one-of-K` или `dummy`)\n",
    "\n",
    "При использовании `OneHotEncoder` создаются новые столбцы, указывающие на наличие (или отсутствие) каждого возможного значения в исходных данных.\n",
    "\n",
    "<img src=\"images/one_hot_encoder_example.png\" height=700 width=700/>\n",
    "\n",
    "В исходном наборе данных \"Цвет\" - это категориальная переменная с тремя категориями: \"Красный\", \"Желтый\" и \"Зеленый\".\n",
    "\n",
    "Соответствующий `OneHotEncoder` содержит один столбец для каждого возможного значения и одну строку для каждой строки в исходном наборе данных.\n",
    "\n",
    "Если исходным значением было \"Красный\", помещаем 1 в столбец \"Красный\". Если исходным значением было \"Желтый\", мы помещаем 1 в столбец \"Желтый\" и так далее.\n",
    "\n",
    "`OneHotEncoder` **НЕ предполагает упорядочивания категорий**.\n",
    "\n",
    "Таким образом, вы можете ожидать, что этот подход будет работать особенно хорошо, если в категориальных данных *нет четкого упорядочения* (например, \"Красный\" не больше и не меньше, чем \"Желтый\").\n",
    "\n",
    "Невозможно явно контролировать, что происходит, когда встречается новый \"синий\": если предполагается, что это невозможно, то можно указать, чтобы он выдал ошибку с помощью `handle_unknown = \"error\"`; в противном случае мы можем сказать ему продолжить и просто установить красный и зеленый столбцы в 0 с помощью `handle_unknown = \"ignore\"`.\n",
    "\n",
    "Категориальные переменные без внутреннего ранжирования называют **номинальными переменными**.\n",
    "\n",
    "Объект `OneHotEncoder` обычно работает не очень хорошо, если категориальная переменная принимает большое количество значений (т.е. обычно **НЕ следует использовать его для признаков, принимающих более 15 различных значений**).\n",
    "\n",
    "Класс `OneHotEncoder` необходим для подачи категориальных данных во многие алгоритмы `scikit-learn` особенно **линейные модели** и **SVM со стандартными ядрами**."
   ]
  },
  {
   "cell_type": "code",
   "execution_count": null,
   "metadata": {},
   "outputs": [],
   "source": [
    "# известно, что в данном наборе данных не представлен вариант '3 point'\n",
    "df.life_satisfaction.unique()"
   ]
  },
  {
   "cell_type": "code",
   "execution_count": null,
   "metadata": {
    "collapsed": false,
    "jupyter": {
     "outputs_hidden": false
    },
    "pycharm": {
     "name": "#%%\n"
    }
   },
   "outputs": [],
   "source": [
    "from sklearn.preprocessing import OneHotEncoder\n",
    "\n",
    "# можно определить значения в каждой категории\n",
    "# (хорошо подходит для номинальных шкал, \n",
    "# в которых не все значения представлены в наборе данных)\n",
    "enc_oh = OneHotEncoder(sparse=False, categories=[['1 point', '2 point', '3 point', '4 point', '5 point'], \n",
    "                                                 df.user_rating.unique()])\n",
    "enc_oh"
   ]
  },
  {
   "cell_type": "code",
   "execution_count": null,
   "metadata": {},
   "outputs": [],
   "source": [
    "# подготовить кодировщик\n",
    "# можно использовать несколько раз\n",
    "enc_oh.fit(df[['life_satisfaction', 'user_rating']])"
   ]
  },
  {
   "cell_type": "code",
   "execution_count": null,
   "metadata": {},
   "outputs": [],
   "source": [
    "# произвести преобразования с помощью заранее подготовленного кодировщика\n",
    "enc_l_result = enc_oh.transform(df[['life_satisfaction', 'user_rating']])\n",
    "\n",
    "# ВНИМАНИЕ: np.array - это не то, что можно сразу же добавить к DataFrame\n",
    "enc_l_result"
   ]
  },
  {
   "cell_type": "code",
   "execution_count": null,
   "metadata": {
    "collapsed": false,
    "jupyter": {
     "outputs_hidden": false
    },
    "pycharm": {
     "name": "#%%\n"
    }
   },
   "outputs": [],
   "source": [
    "# получить имена новых колонок из кодировщика\n",
    "column_names = enc_oh.get_feature_names(['life_satisfaction_enc_oh', \n",
    "                                         'user_rating_enc_oh'])\n",
    "column_names"
   ]
  },
  {
   "cell_type": "code",
   "execution_count": null,
   "metadata": {
    "collapsed": false,
    "jupyter": {
     "outputs_hidden": false
    },
    "pycharm": {
     "name": "#%%\n"
    }
   },
   "outputs": [],
   "source": [
    "# соединить закодированные данные с названиями колонок и\n",
    "# преобразовать в DataFrame\n",
    "# ВНИМАНИЕ: существует колонка 3 points!\n",
    "df_enc_l_result = pd.DataFrame(enc_l_result, columns=column_names)\n",
    "df_enc_l_result"
   ]
  },
  {
   "cell_type": "code",
   "execution_count": null,
   "metadata": {},
   "outputs": [],
   "source": [
    "# присоединить закодированные колонки к основному набору данных\n",
    "df = df.join(df_enc_l_result)\n",
    "df"
   ]
  },
  {
   "cell_type": "markdown",
   "metadata": {},
   "source": [
    "### `LabelBinarizer` (`sklearn`)\n",
    "\n",
    "**ВНИМАНИЕ: `LabelBinarizer` и `OneHotEncoder` иметь одинаковую функциональность. Различие — это назначение. Класс `OneHotEncoder` предназначен для преобразования признаков (features, обычно 2D-массив), а `LabelBinarizer` - для преобразования целевой переменной (target variable, обычно 1D-массив).**\n",
    "\n",
    "Бинаризирует признаки по принципу \"один против всех (one-vs-all)\".\n",
    "\n",
    "(aka `one-of-K` или `dummy`)\n",
    "\n",
    "<img src=\"images/one_hot_encoder_example.png\" height=700 width=700/>\n",
    "\n",
    "\n",
    "При использовании `LabelBinarizer` создаются новые столбцы, указывающие на наличие (или отсутствие) каждого возможного значения в исходных данных.\n",
    "\n",
    "`LabelBinarizer` **НЕ предполагает упорядочивания категорий**.\n",
    "\n",
    "Категориальные переменные без внутреннего ранжирования называют **номинальными переменными**.\n",
    "\n",
    "**НЕ следует использовать его для признаков, принимающих более 15 различных значений**"
   ]
  },
  {
   "cell_type": "code",
   "execution_count": null,
   "metadata": {},
   "outputs": [],
   "source": [
    "from sklearn.preprocessing import LabelBinarizer\n",
    "\n",
    "enc_l_b = LabelBinarizer()\n",
    "enc_l_b"
   ]
  },
  {
   "cell_type": "code",
   "execution_count": null,
   "metadata": {},
   "outputs": [],
   "source": [
    "# подготовить кодировщик\n",
    "# можно использовать несколько раз\n",
    "# указать все возможные значения целевой переменной\n",
    "# дихотомическое значение (2 штуки)\n",
    "enc_l_b.fit(df.status)"
   ]
  },
  {
   "cell_type": "code",
   "execution_count": null,
   "metadata": {},
   "outputs": [],
   "source": [
    "# произвести преобразования с помощью заранее подготовленного кодировщика\n",
    "# ВНИМАНИЕ: при дихотомическом значение (2 штуки) \n",
    "# можно сразу же добавить к DataFrame\n",
    "df['status_enc_l_b'] = enc_l_b.transform(df.status)\n",
    "\n",
    "# значения заменены на 0 и 1\n",
    "df[['status', 'status_enc_l_b']]"
   ]
  },
  {
   "cell_type": "code",
   "execution_count": null,
   "metadata": {},
   "outputs": [],
   "source": [
    "# подготовить кодировщик\n",
    "# можно использовать несколько раз\n",
    "# указать все возможные значения целевой переменной\n",
    "# не дихотомическое значение (>2 штук)\n",
    "enc_l_b.fit(df['user_rating'])"
   ]
  },
  {
   "cell_type": "code",
   "execution_count": null,
   "metadata": {},
   "outputs": [],
   "source": [
    "# произвести преобразования с помощью заранее подготовленного кодировщика\n",
    "enc_l_b_result = enc_l_b.transform(df['user_rating'])\n",
    "\n",
    "# ВНИМАНИЕ: np.array - это не то, что можно сразу же добавить к DataFrame\n",
    "enc_l_b_result"
   ]
  },
  {
   "cell_type": "code",
   "execution_count": null,
   "metadata": {},
   "outputs": [],
   "source": [
    "# получить имена новых колонок из кодировщика\n",
    "column_names = enc_l_b.classes_\n",
    "column_names"
   ]
  },
  {
   "cell_type": "code",
   "execution_count": null,
   "metadata": {},
   "outputs": [],
   "source": [
    "# соединить закодированные данные с названиями колонок и\n",
    "# преобразовать в DataFrame\n",
    "enc_l_b_result = pd.DataFrame(enc_l_b_result, columns=column_names)\n",
    "enc_l_b_result"
   ]
  },
  {
   "cell_type": "code",
   "execution_count": null,
   "metadata": {},
   "outputs": [],
   "source": [
    "# присоединить закодированные колонки к основному набору данных\n",
    "df = df.join(enc_l_b_result)\n",
    "df"
   ]
  },
  {
   "cell_type": "markdown",
   "metadata": {},
   "source": [
    "### Dummies (`pandas`)\n",
    "\n",
    "**По функциональности очень похож на `OneHotEncoder`**.\n",
    "\n",
    "**`pd.get_dummies` приводит к матрице `Pandas DataFrame`, тогда как `OneHotEncoder` приводит к матрице `SciPy CSR`**.\n",
    "\n",
    "**`pd.get_dummies` намного быстрее, чем `OneHotEncoder`**.\n",
    "\n",
    "Суть в том, что кодировщик `OneHotEncoder` создает функцию, которая сохраняется и затем может применяться к новым наборам данных, которые используют те же категориальные переменные, с согласованными результатами.\n",
    "\n",
    "Кодировщик `OneHotEncoder`, после того как создан, можно повторно использовать для получения одного и того же вывода каждый раз."
   ]
  },
  {
   "cell_type": "code",
   "execution_count": null,
   "metadata": {
    "collapsed": false,
    "jupyter": {
     "outputs_hidden": false
    },
    "pycharm": {
     "name": "#%%\n"
    }
   },
   "outputs": [],
   "source": [
    "dummies = pd.get_dummies(df[['life_satisfaction', 'user_rating']])\n",
    "dummies"
   ]
  },
  {
   "cell_type": "code",
   "execution_count": null,
   "metadata": {
    "collapsed": false,
    "jupyter": {
     "outputs_hidden": false
    },
    "pycharm": {
     "name": "#%%\n"
    }
   },
   "outputs": [],
   "source": [
    "df = df.join(dummies)\n",
    "df"
   ]
  },
  {
   "cell_type": "markdown",
   "metadata": {},
   "source": [
    "### `CountEncoder` (`category_encoders`)\n",
    "\n",
    "Заменяет каждое категориальное значение количеством раз, сколько оно появляется в наборе данных.\n",
    "\n",
    "Необходимо установить пакет [Category Encoders](http://contrib.scikit-learn.org/category_encoders/)"
   ]
  },
  {
   "cell_type": "code",
   "execution_count": null,
   "metadata": {
    "collapsed": false,
    "jupyter": {
     "outputs_hidden": false
    },
    "pycharm": {
     "name": "#%%\n"
    }
   },
   "outputs": [],
   "source": [
    "import category_encoders as ce\n",
    "\n",
    "count_enc = ce.CountEncoder()\n",
    "count_enc"
   ]
  },
  {
   "cell_type": "code",
   "execution_count": null,
   "metadata": {},
   "outputs": [],
   "source": [
    "# подготовить кодировщик\n",
    "# и сразу же\n",
    "# произвести преобразования \n",
    "count_encoded = count_enc.fit_transform(df[['user_country', 'occupation']])\n",
    "count_encoded"
   ]
  },
  {
   "cell_type": "code",
   "execution_count": null,
   "metadata": {
    "collapsed": false,
    "jupyter": {
     "outputs_hidden": false
    },
    "pycharm": {
     "name": "#%%\n"
    }
   },
   "outputs": [],
   "source": [
    "# присоединить закодированные колонки\n",
    "# к основному набору данных с суффиксом\n",
    "df = df.join(count_encoded.add_suffix(\"_count\"))\n",
    "df"
   ]
  },
  {
   "cell_type": "markdown",
   "metadata": {},
   "source": [
    "### `TargetEncoder` (`category_encoders`)\n",
    "\n",
    "Заменяет категориальное значение средним значением для этого признака.\n",
    "\n",
    "Например, учитывая дано значение для страны \"RU\", вычислить средний доход для всех строк с country == \"RU\", допустим 0.28.\n",
    "\n",
    "Необходимо установить пакет [Category Encoders](http://contrib.scikit-learn.org/category_encoders/)"
   ]
  },
  {
   "cell_type": "code",
   "execution_count": null,
   "metadata": {
    "collapsed": false,
    "jupyter": {
     "outputs_hidden": false
    },
    "pycharm": {
     "name": "#%%\n"
    }
   },
   "outputs": [],
   "source": [
    "import category_encoders as ce\n",
    "\n",
    "target_enc = ce.TargetEncoder(cols=df[['user_rating']])\n",
    "target_enc"
   ]
  },
  {
   "cell_type": "code",
   "execution_count": null,
   "metadata": {},
   "outputs": [],
   "source": [
    "# ВНИМАНИЕ: FutureWarning - это нормально (проблема библиотеки)\n",
    "# подготовить кодировщик\n",
    "target_enc.fit(df[['user_rating']], df.user_age)"
   ]
  },
  {
   "cell_type": "code",
   "execution_count": null,
   "metadata": {},
   "outputs": [],
   "source": [
    "# произвести преобразования \n",
    "target_encoded = target_enc.transform(df[['user_rating']], df.user_age)\n",
    "target_encoded"
   ]
  },
  {
   "cell_type": "code",
   "execution_count": null,
   "metadata": {
    "collapsed": false,
    "jupyter": {
     "outputs_hidden": false
    },
    "pycharm": {
     "name": "#%%\n"
    }
   },
   "outputs": [],
   "source": [
    "# присоединить закодированные колонки\n",
    "# к основному набору данных с суффиксом\n",
    "df = df.join(target_encoded.add_suffix(\"_target\"))\n",
    "df"
   ]
  },
  {
   "cell_type": "markdown",
   "metadata": {},
   "source": [
    "### *`CatBoostEncoder` (`category_encoders`)\n",
    "\n",
    "Похож на `TargetEncoder` в том смысле, что оно основано на целевой вероятности (target probability) для данного значения. Однако с `CatBoostEncoder` для каждой строки целевая вероятность вычисляется только из строк перед ней.\n",
    "\n",
    "Необходимо установить пакет [Category Encoders](http://contrib.scikit-learn.org/category_encoders/)"
   ]
  },
  {
   "cell_type": "code",
   "execution_count": null,
   "metadata": {
    "collapsed": false,
    "jupyter": {
     "outputs_hidden": false
    },
    "pycharm": {
     "name": "#%%\n"
    }
   },
   "outputs": [],
   "source": [
    "import category_encoders as ce\n",
    "\n",
    "cat_boost_enc = ce.CatBoostEncoder(cols=['user_country', 'user_rating'])\n",
    "cat_boost_enc"
   ]
  },
  {
   "cell_type": "code",
   "execution_count": null,
   "metadata": {},
   "outputs": [],
   "source": [
    "# ВНИМАНИЕ: FutureWarning - это нормально (проблема библиотеки)\n",
    "# подготовить кодировщик\n",
    "cat_boost_enc.fit(df[['user_country', 'user_rating']], df.user_age)"
   ]
  },
  {
   "cell_type": "code",
   "execution_count": null,
   "metadata": {},
   "outputs": [],
   "source": [
    "# произвести преобразования \n",
    "# сохранить в исходный набор данных\n",
    "df[['user_country_cat_boost', 'user_rating_cat_boost']] = cat_boost_enc.transform(df[['user_country', 'user_rating']], df.user_age)\n",
    "df[['user_country_cat_boost', 'user_rating_cat_boost']]"
   ]
  },
  {
   "cell_type": "markdown",
   "metadata": {},
   "source": [
    "## Числовые признаки"
   ]
  },
  {
   "cell_type": "markdown",
   "metadata": {},
   "source": [
    "**Возможное решение:**\n",
    "- Округление вещественных чисел (и другие математические операции).\n",
    "- Объединение нескольких числовых признаков в один с помощью математических преобразований. Пример: признаки \"длина\" и \"ширина\" преобразовать к признаку \"площадь\". \n",
    "- Приведение числового признака к категориальному и формирование \"интервалов\" (Binning/Discretization). Пример: добавить признаки вида \"рост больше X\", \"рост меньше X\" или \"доход больше 100тыс\" или \"высокий доход\". Далее применить преобразования для категориальных признаков."
   ]
  },
  {
   "cell_type": "code",
   "execution_count": null,
   "metadata": {},
   "outputs": [],
   "source": [
    "df.select_dtypes(include=np.number)"
   ]
  },
  {
   "cell_type": "markdown",
   "metadata": {},
   "source": [
    "### Округление вещественных чисел\n",
    "\n",
    "Для этого можно использовать метод [round](https://pandas.pydata.org/docs/reference/api/pandas.DataFrame.round.html)."
   ]
  },
  {
   "cell_type": "code",
   "execution_count": null,
   "metadata": {},
   "outputs": [],
   "source": [
    "df['income_per_hour_rub_rounded'] = df.income_per_hour_rub.round(1)\n",
    "df[['income_per_hour_rub', 'income_per_hour_rub_rounded']]"
   ]
  },
  {
   "cell_type": "markdown",
   "metadata": {},
   "source": [
    "### Объединение нескольких (агрегация) числовых признаков"
   ]
  },
  {
   "cell_type": "code",
   "execution_count": null,
   "metadata": {},
   "outputs": [],
   "source": [
    "df['item_square_cm'] = df.income_per_hour_rub * df.number_working_days_per_week\n",
    "df[['income_per_hour_rub', 'number_working_days_per_week', 'item_square_cm']]"
   ]
  },
  {
   "cell_type": "markdown",
   "metadata": {},
   "source": [
    "### Приведение числового признака к категориальному и формирование \"интервалов\" (Binning/Discretization)\n",
    "\n",
    "Биннинг — это **метод сглаживания данных (data smoothing)**.\n",
    "\n",
    "Сглаживание данных используется для удаления шума из данных. \n",
    "\n",
    "Распространенные методы сглаживания данных:\n",
    "- binning\n",
    "- regression\n",
    "- outlier analysis"
   ]
  },
  {
   "cell_type": "markdown",
   "metadata": {},
   "source": [
    "#### Биннинг по расстоянию (Binning by distance) с помощью `cut` (`pandas`)\n",
    "\n",
    "В этом случае нужно определить края каждого бина. Для этого можно использовать функцию [cut](https://pandas.pydata.org/docs/reference/api/pandas.cut.html)."
   ]
  },
  {
   "cell_type": "code",
   "execution_count": null,
   "metadata": {},
   "outputs": [],
   "source": [
    "# получить минимальное и максимальное значение\n",
    "user_age_min, user_age_max = df.user_age.min(), df.user_age.max()\n",
    "user_age_min, user_age_max"
   ]
  },
  {
   "cell_type": "code",
   "execution_count": null,
   "metadata": {},
   "outputs": [],
   "source": [
    "# можно вычислить диапазон каждого интервала, \n",
    "# то есть минимальное и максимальное значение каждого интервала\n",
    "\n",
    "# допустим необходимо 3 группы, тогда будет 4 \"края\" интервалов (бинов)\n",
    "\n",
    "# можно использовать функцию linspace() пакета numpy\n",
    "# для вычисления 4 равномерно распределенных бинов\n",
    "\n",
    "user_age_bins_linspace = np.linspace(user_age_min, user_age_max, 4)\n",
    "user_age_bins_linspace"
   ]
  },
  {
   "cell_type": "code",
   "execution_count": null,
   "metadata": {},
   "outputs": [],
   "source": [
    "# определить ярлыки\n",
    "user_age_labels_linspace = ['young', 'mature', 'senior']\n",
    "user_age_labels_linspace"
   ]
  },
  {
   "cell_type": "code",
   "execution_count": null,
   "metadata": {},
   "outputs": [],
   "source": [
    "# использовать функцию cut() для преобразования \n",
    "# числовых значений столбца в категориальные значения\n",
    "\n",
    "# нужно указать интервалы и метки\n",
    "# также установим для параметра include_lowest значение True, \n",
    "# чтобы включить также минимальное значение\n",
    "df['user_age_bins_linspace'] = pd.cut(df.user_age, \n",
    "                                      bins=user_age_bins_linspace, \n",
    "                                      labels=user_age_labels_linspace,\n",
    "                                      include_lowest=True)\n",
    "\n",
    "df[['user_age', 'user_age_bins_linspace']]"
   ]
  },
  {
   "cell_type": "code",
   "execution_count": null,
   "metadata": {},
   "outputs": [],
   "source": [
    "# сколько записей оказалось в каждой категории\n",
    "sns.countplot(x=df.user_age_bins_linspace)"
   ]
  },
  {
   "cell_type": "code",
   "execution_count": null,
   "metadata": {},
   "outputs": [],
   "source": [
    "# также можно установить интервалы вручную\n",
    "user_age_bins_manual = [0, 18, \n",
    "                        25, 50, \n",
    "                        75, 150]\n",
    "\n",
    "# определить ярлыки\n",
    "user_age_labels_manual = ['children', 'young adult', \n",
    "                          'adult', 'mature', \n",
    "                          'senior']\n",
    "\n",
    "\n",
    "# нужно указать интервалы и метки\n",
    "# также установим для параметра include_lowest значение True, \n",
    "# чтобы включить также минимальное значение\n",
    "df['user_age_bins_manual'] = pd.cut(df.user_age, \n",
    "                                    bins=user_age_bins_manual, \n",
    "                                    labels=user_age_labels_manual, \n",
    "                                    include_lowest=True)\n",
    "\n",
    "df[['user_age', 'user_age_bins_manual']]"
   ]
  },
  {
   "cell_type": "code",
   "execution_count": null,
   "metadata": {},
   "outputs": [],
   "source": [
    "# сколько записей оказалось в каждой категории\n",
    "sns.countplot(x=df.user_age_bins_manual)"
   ]
  },
  {
   "cell_type": "markdown",
   "metadata": {},
   "source": [
    "#### Биннинг по частоте (Binning by frequency) с помощью `qcut` (`pandas`)\n",
    "\n",
    "Биннинг по частоте вычисляет размер каждой ячейки, таким образом, чтобы каждая ячейка содержит (почти) одинаковое количество наблюдений, но диапазон ячеек будет варьироваться.\n",
    "\n",
    "Для этого проще всего использовать функцию [qcut()](https://pandas.pydata.org/docs/reference/api/pandas.qcut.html).\n",
    "\n",
    "Можем установить параметр `precision`, чтобы определить количество десятичных знаков."
   ]
  },
  {
   "cell_type": "code",
   "execution_count": null,
   "metadata": {},
   "outputs": [],
   "source": [
    "# определить ярлыки\n",
    "income_per_hour_rub_labels_qcut = ['low', 'medium', 'high']\n",
    "\n",
    "# нужно указать количество интервалов и метки\n",
    "df['income_per_hour_rub_bins_qcut'] = pd.qcut(df.income_per_hour_rub, \n",
    "                                         q=3, \n",
    "                                         labels=income_per_hour_rub_labels_qcut)\n",
    "\n",
    "df[['income_per_hour_rub', 'income_per_hour_rub_bins_qcut']]"
   ]
  },
  {
   "cell_type": "code",
   "execution_count": null,
   "metadata": {},
   "outputs": [],
   "source": [
    "# сколько записей оказалось в каждой категории\n",
    "sns.countplot(x=df.income_per_hour_rub_bins_qcut)"
   ]
  },
  {
   "cell_type": "markdown",
   "metadata": {},
   "source": [
    "#### Семплирование (Sampling)\n",
    "\n",
    "В математической статистике **семплирование (от англ. sample — выборка)** — обобщенное название методов управления начальной выборкой при известной цели моделирования, которые позволяют выполнить структурно-параметрическую идентификацию наилучшей статистической модели.\n",
    "\n",
    "Научная новизна метода семплинга состоит в том, что он является эффективным приемом для логичного смыслового увязывания статистических свойств выборки и цели моделирования.\n",
    "\n",
    "**Позволяет уменьшить количество примеров, группируя похожие значения или смежные (contiguous) значения**.\n",
    "\n",
    "Подходы:\n",
    "- по среднему бину (by bin means): каждое значение в бине заменяется средним значением бина.\n",
    "- по медиане бина (by bin median): каждое значение в бине заменяется медианой бина.\n",
    "- по границе бина (by bin boundary): каждое значение бина заменяется ближайшим граничным значением, то есть максимальным или минимальным значением бина.\n",
    "\n",
    "Для этого потребуется функция [scipy.stats.binned_statistic](https://docs.scipy.org/doc/scipy/reference/generated/scipy.stats.binned_statistic.html).\n",
    "\n",
    "Функция `scipy.stats.binned_statistic` получает в качестве входных данных два массива, `x_data` и `y_data`, а также используемую статистику (например, медиана или среднее значение) и количество создаваемых бинов. Функция возвращает значения бинов, а также края каждого бина."
   ]
  },
  {
   "cell_type": "code",
   "execution_count": null,
   "metadata": {},
   "outputs": [],
   "source": [
    "from scipy.stats import binned_statistic\n",
    "\n",
    "x_data = np.arange(0, len(df))\n",
    "y_data = df.user_age\n",
    "\n",
    "\n",
    "statistic, bin_edges, bin_number = binned_statistic(y_data, \n",
    "                                                    x_data, \n",
    "                                                    statistic=\"median\",\n",
    "                                                    bins=3)\n",
    "statistic, bin_edges, bin_number"
   ]
  },
  {
   "cell_type": "markdown",
   "metadata": {},
   "source": [
    "Затем необходимо приблизить каждое значение столбца к среднему значению соответствующего бина. \n",
    "\n",
    "Таким образом, края бина преобразуются в `IntervalIndex`, который получает в качестве индекса левые и правые края каждого бина."
   ]
  },
  {
   "cell_type": "code",
   "execution_count": null,
   "metadata": {},
   "outputs": [],
   "source": [
    "intervals_tuples = [tuple(bin_edges[0:2]), \n",
    "                    tuple(bin_edges[1:3]), \n",
    "                    tuple(bin_edges[2:4])]\n",
    "\n",
    "intervals_tuples"
   ]
  },
  {
   "cell_type": "code",
   "execution_count": null,
   "metadata": {},
   "outputs": [],
   "source": [
    "bin_intervals = pd.IntervalIndex.from_tuples(intervals_tuples, \n",
    "                                             closed='both')\n",
    "bin_intervals"
   ]
  },
  {
   "cell_type": "markdown",
   "metadata": {},
   "source": [
    "Можно дискретизировать (quantize) столбец, определив функцию set_to_median(), которая перебирает бины и, когда находит правильный бин, возвращает среднее (mid) значение."
   ]
  },
  {
   "cell_type": "code",
   "execution_count": null,
   "metadata": {},
   "outputs": [],
   "source": [
    "def set_to_median(x, intervals):\n",
    "    for interval in intervals:\n",
    "        if x in interval:\n",
    "            return interval.mid"
   ]
  },
  {
   "cell_type": "code",
   "execution_count": null,
   "metadata": {},
   "outputs": [],
   "source": [
    "# используем функцию apply(), чтобы применить \n",
    "# set_to_median() к столбцу\n",
    "df['user_age_sampled'] = df['user_age'].apply(lambda x: set_to_median(x, bin_intervals))\n",
    "\n",
    "df[['user_age','user_age_sampled']]"
   ]
  },
  {
   "cell_type": "code",
   "execution_count": null,
   "metadata": {},
   "outputs": [],
   "source": [
    "# можем построить график\n",
    "# отметим потерю информации\n",
    "\n",
    "sns.lineplot(data=df[['user_age', 'user_age_sampled']])"
   ]
  },
  {
   "cell_type": "markdown",
   "metadata": {},
   "source": [
    "#### Вычислить естественные разрывы (natural breaks) в данных\n",
    "\n",
    "Можно использовать пакет `jenkspy`, который содержит единственную функцию `jenks_breaks()`, которая вычисляет естественные разрывы массива, используя алгоритм [Фишера-Дженкса](https://en.wikipedia.org/wiki/Jenks_natural_breaks_optimization)."
   ]
  },
  {
   "cell_type": "code",
   "execution_count": null,
   "metadata": {},
   "outputs": [],
   "source": [
    "import jenkspy\n",
    "\n",
    "breaks = jenkspy.jenks_breaks(df.user_age, nb_class=3)\n",
    "breaks"
   ]
  },
  {
   "cell_type": "code",
   "execution_count": null,
   "metadata": {},
   "outputs": [],
   "source": [
    "# создать метки\n",
    "user_age_labels_breaks = ['young', 'mature', 'senior']\n",
    "\n",
    "# преобразовать в метки\n",
    "df['user_age_break'] = pd.cut(df['user_age'], \n",
    "                              bins=breaks, \n",
    "                              labels=user_age_labels_breaks, \n",
    "                              include_lowest=True)\n",
    "\n",
    "df[['user_age', 'user_age_break']]"
   ]
  },
  {
   "cell_type": "code",
   "execution_count": null,
   "metadata": {},
   "outputs": [],
   "source": [
    "# сколько записей оказалось в каждой категории\n",
    "sns.countplot(x=df.user_age_break)"
   ]
  },
  {
   "cell_type": "markdown",
   "metadata": {},
   "source": [
    "### *`KBinsDiscretizer` (`sklearn`)\n",
    "\n",
    "[sklearn.preprocessing.KBinsDiscretizer](https://scikit-learn.org/stable/modules/generated/sklearn.preprocessing.KBinsDiscretizer.html)"
   ]
  },
  {
   "cell_type": "code",
   "execution_count": null,
   "metadata": {},
   "outputs": [],
   "source": [
    "from sklearn.preprocessing import KBinsDiscretizer\n",
    "\n",
    "kbins = KBinsDiscretizer(n_bins=3, \n",
    "                         encode='ordinal', \n",
    "                         strategy='kmeans')\n",
    "\n",
    "kbins"
   ]
  },
  {
   "cell_type": "code",
   "execution_count": null,
   "metadata": {},
   "outputs": [],
   "source": [
    "kbins.fit(df[['income_per_hour_rub']])\n",
    "kbins"
   ]
  },
  {
   "cell_type": "code",
   "execution_count": null,
   "metadata": {},
   "outputs": [],
   "source": [
    "df['income_per_hour_rub_kbins'] = kbins.transform(df[['income_per_hour_rub']])\n",
    "df[['income_per_hour_rub', 'income_per_hour_rub_kbins']]"
   ]
  },
  {
   "cell_type": "markdown",
   "metadata": {},
   "source": [
    "## Дата и время"
   ]
  },
  {
   "cell_type": "markdown",
   "metadata": {},
   "source": [
    "**Возможное решение:**\n",
    "- Добавить признаки, соответствующие \n",
    "    - времени дня (утро/день/вечер)\n",
    "    - количеству прошедшего времени с определенного момента\n",
    "    - выделение сезонов, времен года, кварталов, праздничных дней\n",
    "    - состояние погоды для этих дней (может быть в дождливые дни поведение покупателей меняется?)\n",
    "    - ...\n",
    "- Разделение времени на часы, минуты и секунды (если время дано в Unix-Time или ISO формате)."
   ]
  },
  {
   "cell_type": "code",
   "execution_count": null,
   "metadata": {},
   "outputs": [],
   "source": [
    "df.select_dtypes(include='datetime64')"
   ]
  },
  {
   "cell_type": "markdown",
   "metadata": {},
   "source": [
    "### Сезоны из даты"
   ]
  },
  {
   "cell_type": "code",
   "execution_count": null,
   "metadata": {},
   "outputs": [],
   "source": [
    "df.open_date_time"
   ]
  },
  {
   "cell_type": "code",
   "execution_count": null,
   "metadata": {},
   "outputs": [],
   "source": [
    "# закодируем\n",
    "# 1-зима\n",
    "# 2-весна\n",
    "# 3-лето\n",
    "# 4-осень\n",
    "df['season'] = [month.month%12 // 3 + 1 for month in df.open_date_time]\n",
    "\n",
    "df[['open_date_time', 'season']]"
   ]
  },
  {
   "cell_type": "markdown",
   "metadata": {},
   "source": [
    "### Выходной/рабочий день"
   ]
  },
  {
   "cell_type": "code",
   "execution_count": null,
   "metadata": {},
   "outputs": [],
   "source": [
    "df['weekday'] = df.open_date_time.dt.weekday\n",
    "\n",
    "df['day_name'] = df.open_date_time.dt.day_name()\n",
    "\n",
    "df['is_weekend'] = df.open_date_time.dt.weekday >= 5\n",
    "\n",
    "df[['open_date_time', 'weekday', 'day_name', 'is_weekend']]"
   ]
  },
  {
   "cell_type": "markdown",
   "metadata": {},
   "source": [
    "### Время дня"
   ]
  },
  {
   "cell_type": "code",
   "execution_count": null,
   "metadata": {},
   "outputs": [],
   "source": [
    "b = [0, 4, 8, 12, 16, 20, 24]\n",
    "l = ['Late Night', 'Early Morning', 'Morning', 'Noon','Evening', 'Night']\n",
    "\n",
    "df['hour'] = df.open_date_time.dt.hour\n",
    "df['day_part'] = pd.cut(df.open_date_time.dt.hour, bins=b, labels=l, include_lowest=True)\n",
    "\n",
    "df[['open_date_time', 'hour', 'day_part']]"
   ]
  }
 ],
 "metadata": {
  "kernelspec": {
   "display_name": "Python [conda env:LevelUp_DataScience] *",
   "language": "python",
   "name": "conda-env-LevelUp_DataScience-py"
  },
  "language_info": {
   "codemirror_mode": {
    "name": "ipython",
    "version": 3
   },
   "file_extension": ".py",
   "mimetype": "text/x-python",
   "name": "python",
   "nbconvert_exporter": "python",
   "pygments_lexer": "ipython3",
   "version": "3.8.5"
  }
 },
 "nbformat": 4,
 "nbformat_minor": 4
}
