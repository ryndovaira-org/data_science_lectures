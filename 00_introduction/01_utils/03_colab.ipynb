{
 "cells": [
  {
   "cell_type": "markdown",
   "id": "22f7c2cb-8fe9-44c7-a335-e8ea6f02cdbe",
   "metadata": {},
   "source": [
    "# Google Colaboratory (Colab)\n",
    "\n",
    "Colab — это размещенная на хостинге служба ноутбуков Jupyter, для использования которой не требуется настройка, но при этом предоставляется бесплатный доступ к вычислительным ресурсам, включая графические процессоры."
   ]
  },
  {
   "cell_type": "markdown",
   "id": "c0a5e643-e010-4e50-8e40-ec08825aa53f",
   "metadata": {
    "tags": []
   },
   "source": [
    "## Ограничения\n",
    "\n",
    "The following are disallowed from Colab runtimes:\n",
    "- file hosting, media serving, or other web service offerings not related to interactive compute with Colab\n",
    "- downloading torrents or engaging in peer-to-peer file-sharing\n",
    "- using a remote desktop or SSH\n",
    "- connecting to remote proxies\n",
    "- mining cryptocurrency\n",
    "- running denial-of-service attacks\n",
    "- password cracking\n",
    "- using multiple accounts to work around access or resource usage restrictions\n",
    "- creating deepfakes\n",
    "\n",
    "\n",
    "**В бесплатной версии Colab ноутбуки могут работать не более 12 часов**, в зависимости от доступности и ваших моделей использования. \n",
    "\n",
    "Colab Pro, Pro+ и Pay As You Go предлагают повышенную доступность вычислений в зависимости от баланса вычислительных единиц. Как правило, ноутбуки могут работать не более 12 часов, в зависимости от доступности и характера использования. Вы можете ожидать завершение серверной части, если исчерпаете доступные вычислительные единицы в плане Pro, Pro+ или Pay As You Go. Colab Pro+ поддерживает непрерывное выполнение кода до 24 часов, если у вас достаточно вычислительных единиц. Тайм-ауты простоя применяются только в том случае, если выполнение кода завершается. Вы можете полностью снять любые ограничения времени выполнения и тайм-ауты простоя, купив выделенную виртуальную машину на GCP Marketplace."
   ]
  },
  {
   "cell_type": "markdown",
   "id": "a39f1210-e428-49a1-837a-81275dc91c5d",
   "metadata": {},
   "source": [
    "# References\n",
    "\n",
    "[Colaboratory](https://research.google.com/colaboratory/faq.html)\n",
    "\n",
    "[]()\n",
    "\n",
    "[]()\n",
    "\n",
    "[]()\n",
    "\n",
    "[]()\n",
    "\n",
    "[]()"
   ]
  }
 ],
 "metadata": {
  "kernelspec": {
   "display_name": "Python [conda env:.conda-data_science_notes] *",
   "language": "python",
   "name": "conda-env-.conda-data_science_notes-py"
  },
  "language_info": {
   "codemirror_mode": {
    "name": "ipython",
    "version": 3
   },
   "file_extension": ".py",
   "mimetype": "text/x-python",
   "name": "python",
   "nbconvert_exporter": "python",
   "pygments_lexer": "ipython3",
   "version": "3.10.11"
  }
 },
 "nbformat": 4,
 "nbformat_minor": 5
}
