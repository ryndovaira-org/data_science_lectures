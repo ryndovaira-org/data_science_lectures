{
 "cells": [
  {
   "cell_type": "markdown",
   "metadata": {},
   "source": [
    "# Buzz words"
   ]
  },
  {
   "cell_type": "markdown",
   "metadata": {},
   "source": [
    "## Artificial intelligence\n",
    "- Свойство интеллектуальных систем выполнять творческие функции, которые традиционно считаются прерогативой человека.\n",
    "- Наука и технология создания интеллектуальных машин, особенно интеллектуальных компьютерных программ.\n",
    "- Существующие на сегодня интеллектуальные системы имеют очень узкие области применения. Например, программы, способные обыграть человека в шахматы, не могут отвечать на вопросы и т.д."
   ]
  },
  {
   "cell_type": "markdown",
   "metadata": {},
   "source": [
    "## Big Data\n",
    "- Обозначение структурированных и неструктурированных данных огромных объёмов и значительного многообразия.\n",
    "- Классическими источниками больших данных признаются интернет вещей и социальные медиа, считается также, что большие данные могут происходить из внутренней информации предприятий и организаций (генерируемой в информационных средах, но ранее не сохранявшейся и не анализировавшейся), из сфер медицины и биоинформатики, из астрономических наблюдений"
   ]
  },
  {
   "cell_type": "markdown",
   "metadata": {},
   "source": [
    "## Computer Science\n",
    "- Наука о методах и процессах сбора, хранения, обработки, передачи, анализа и оценки информации с применением компьютерных технологий, обеспечивающих возможность её использования для принятия решений.\n",
    "- Методы и средства интеллектуального анализа данных (Data Mining): алгоритмы и структуры данных, машинное обучение и другие разделы искусственного интеллекта (искусственные нейронные сети, генетические алгоритмы, deep learning).\n",
    "- Языки программирования (R, Python, Julia, Haskell).\n",
    "- Среды статистического анализа (R-Studio, MatLab, Jupyter Notebook)."
   ]
  },
  {
   "cell_type": "markdown",
   "metadata": {},
   "source": [
    "## Math\n",
    "- Статистика.\n",
    "- Теория вероятностей.\n",
    "- Линейная алгебра.\n",
    "- Дискретная математика.\n",
    "- ..."
   ]
  },
  {
   "cell_type": "markdown",
   "metadata": {},
   "source": [
    "## Domain/Business Expertise/Knowledge\n",
    "- Предметная область — часть реального мира, рассматриваемая в пределах данного контекста. Под контекстом здесь может пониматься, например, область исследования или область, которая является объектом некоторой деятельности.\n",
    "- Знание отраслевой или корпоративной специфики."
   ]
  },
  {
   "cell_type": "markdown",
   "metadata": {},
   "source": [
    "## Software\n",
    "- Программа или множество программ, используемых для управления компьютером."
   ]
  },
  {
   "cell_type": "markdown",
   "metadata": {},
   "source": [
    "## Machine Learning\n",
    "- Класс методов искусственного интеллекта, характерной чертой которых является не прямое решение задачи, а обучение в процессе применения решений множества сходных задач.\n",
    "- Для построения таких методов используются средства математической статистики, численных методов, математического анализа, методов оптимизации, теории вероятностей, теории графов, различные техники работы с данными в цифровой форме."
   ]
  },
  {
   "cell_type": "markdown",
   "metadata": {},
   "source": [
    "## Data analysis\n",
    "- Область математики и информатики, занимающаяся построением и исследованием наиболее общих математических методов и вычислительных алгоритмов извлечения знаний из экспериментальных (в широком смысле) данных\n",
    "- Процесс исследования, фильтрации, преобразования и моделирования данных с целью извлечения полезной информации и принятия решений.\n",
    "- Анализ данных имеет множество аспектов и подходов, охватывает разные методы в различных областях науки и деятельности."
   ]
  },
  {
   "cell_type": "markdown",
   "metadata": {},
   "source": [
    "## Data Science\n",
    "- Раздел информатики, изучающий проблемы анализа, обработки и представления данных в цифровой форме. Объединяет методы по обработке данных в условиях больших объёмов и высокого уровня параллелизма, статистические методы, методы интеллектуального анализа данных и приложения искусственного интеллекта для работы с данными, а также методы проектирования и разработки баз данных.\n",
    "- Наука о получении (scraping, бд), обработке (очистка от дублей, удаление \"бракованных\" записей), анализе (визуализация, статистический анализ, какие выводы можно из этого сделать) и использовании (создание моделей для предсказания или анализа) данных (структурированных или не структурированных).\n",
    "\n",
    "<img src=\"https://raw.githubusercontent.com/ryndovaira-org/data_science_notes/main/diagrams/computer_science_vs_math_vs_domain_expertise.drawio.png\">"
   ]
  },
  {
   "cell_type": "markdown",
   "metadata": {},
   "source": [
    "## Artificial neural networks\n",
    "- Математическая модель, а также её программное или аппаратное воплощение, построенная по принципу организации и функционирования биологических нейронных сетей — сетей нервных клеток живого организма."
   ]
  },
  {
   "cell_type": "markdown",
   "metadata": {},
   "source": [
    "## Deep learning / Deep Neural Networks\n",
    "- Совокупность методов машинного обучения, основанных на обучении представлениям, а не специализированным алгоритмам под конкретные задачи.\n",
    "\n",
    "<img src=\"https://raw.githubusercontent.com/ryndovaira-org/data_science_notes/main/diagrams/ai_vs_ml_vs_nn_vs_dl_vs_ds_vs_big_data.drawio.png\">"
   ]
  },
  {
   "cell_type": "markdown",
   "metadata": {
    "jp-MarkdownHeadingCollapsed": true,
    "tags": []
   },
   "source": [
    "# Data Science vs. Machine learning organizations\n",
    "\n",
    "- Data science organizations help a firm’s leaders make scientific or data-driven decisions to run their business more effectively. Team members collect data, analyze datasets, and suggest hypotheses and actions.\n",
    "- Machine learning organizations automate tasks to reduce costs or scale products. The output is the automation itself achieved by collecting data, training models, and deploying them.\n",
    "\n",
    "Although machine learning and data science organizations are different, companies often use the terms interchangeably. You\n",
    "can distinguish one from another by evaluating whether a given organization fits one of the descriptions above. Some companies\n",
    "have hybrid organizations that both make data science decisions and automate tasks. In this report, we will use the phrase “AI\n",
    "organization” when referring to DS, ML, or hybrid organizations."
   ]
  },
  {
   "cell_type": "markdown",
   "metadata": {
    "tags": []
   },
   "source": [
    "# Executive summary\n",
    "\n",
    "Developing an AI project development life cycle involves five distinct tasks:\n",
    "- Data engineering: People responsible for data engineering prepare data and transform data into formats that other team members can use.\n",
    "- Modeling: People assigned to modeling look for patterns in data that can help a company predict outcomes of various decisions, identify business risks and opportunities, or determine cause-and-effect relationships.\n",
    "- Deployment: People in charge of deployment take a stream of data, combine it with a model, and test the integration before putting the model into production.\n",
    "- Business analysis: Team members responsible for business analysis evaluate a deployed model’s performance and business value and adjust accordingly to maximize benefit or abandon unproductive models.\n",
    "- AI infrastructure: People who work in AI infrastructure build and maintain reliable, fast, secure, and scalable software systems to help people working in data engineering, modeling, deployment and business analysis."
   ]
  },
  {
   "cell_type": "markdown",
   "metadata": {},
   "source": [
    "# Overview of the AI project development life cycle\n",
    "\n",
    "AI organizations divide their work into data\n",
    "engineering, modeling, deployment, business analysis,\n",
    "and AI infrastructure.Together, these tasks make up the\n",
    "AI project development life cycle. Each task requires\n",
    "specific skills and can be the focus of multiple roles.\n",
    "You can find brief descriptions of the skills\n",
    "mentioned in this report in the appendix.\n",
    "We’ll discuss the differences between project\n",
    "development life cycles for machine learning (ML)\n",
    "and data science (DS). Then, we’ll look at the goals of\n",
    "each task, the skills needed to perform it, and which\n",
    "roles within an organization focus on which tasks.\n",
    "\n",
    "Here’s how the AI project development life cycle works.\n",
    "First, someone prepares data for modeling. Then someone\n",
    "trains a model on this data. Once that happens, the model\n",
    "is delivered to the customer. Team members then analyze\n",
    "the model to determine whether it brought value to the\n",
    "business and/or the user. If all goes well, the cycle will\n",
    "repeat itself with new data, models, and analyses. All the\n",
    "while, people working in AI infrastructure build software\n",
    "to improve the cycle’s efficiency.\n",
    "The ML project development life cycle\n",
    "An ML project starts with data about a service or product\n",
    "on which you fit models to be deployed into production.\n",
    "These models need to be monitored and their performance\n",
    "evaluated. The firm’s AI infrastructure supports these tasks.\n",
    "The DS project development life cycle\n",
    "A DS project starts with data on which you can fit a model\n",
    "that can help the company or its client make actionable\n",
    "business decisions about products or services. The AI\n",
    "infrastructure supports all tasks involved.\n",
    "Now let's consider the tasks in an AI project one by one.\n",
    "We will illustrate each task with concrete examples and\n",
    "identify the technical skills necessary to carry them out.\n",
    "\n",
    "<img src=\"https://raw.githubusercontent.com/ryndovaira-org/data_science_notes/main/diagrams/ai_project_development_life_cycle.drawio.png\">"
   ]
  },
  {
   "cell_type": "markdown",
   "metadata": {
    "tags": []
   },
   "source": [
    "# AI Team roles\n",
    "\n",
    "<img src=\"https://raw.githubusercontent.com/ryndovaira-org/data_science_notes/main/diagrams/ai_team_roles.drawio.png\">"
   ]
  },
  {
   "cell_type": "markdown",
   "metadata": {
    "tags": []
   },
   "source": [
    "# Defining the Skills\n",
    "\n",
    "**Machine learning**\n",
    "People with machine learning skills demonstrate the abil- ity to use classic machine learning models (for example, PCA, K-means, K-NNs, SVM, Logistic Regression, Linear Regression, and Decision Tree learning), methods to train them (such as initialization, optimization, regularization, and hyperparameter tuning), and techniques to strategize machine learning projects.\n",
    "\n",
    "**Deep learning**\n",
    "People with deep learning skills demonstrate the ability to use classic deep learning models (such as fully connected networks, convolutional neural networks, recurrent neural networks, and layers), methods to train them (such as initialization, regularization, optimization, and transfer learning), and techniques to strategize deep learning projects.\n",
    "\n",
    "**Data science**\n",
    "People with data science skills demonstrate the ability to use probabilities (including distributions, conditional probabilities, independence, Bayes theorem, etc.), statistics (including hypothesis testing, bias/variance tradeoffs, mean, variance, and mode) and data analysis (including preprocessing, visualization and metrics such as accuracy, R-squared, residuals, precision, and recall).\n",
    "\n",
    "**Mathematics**\n",
    "People with mathematics skills demonstrate the ability to solve problems using linear algebra (for instance, matrix vector operations, eigenvalues, eigenvectors, and combinatorics), calculus (derivatives, integrals, and so on) and mathematical functions (simple functions, min/max/ argmin/argmax, and so on).\n",
    "\n",
    "**Algorithmic coding** \n",
    "People with algorithmic coding skills demonstrate the ability to understand algorithms written with code, implement classic algorithms like sorting and search, and use classic data structures like trees, dictionaries and arrays.\n",
    "\n",
    "**Software engineering**\n",
    "People with software engineering skills demonstrate the ability to use a variety of computer science and software methods such as object-oriented programming, internet protocols, HTTP requests, agile/scrum methodologies, databases, version control (such as Git), containers, and unit testing."
   ]
  },
  {
   "cell_type": "markdown",
   "metadata": {
    "tags": []
   },
   "source": [
    "## Data engineering\n",
    "\n",
    "<img src=\"https://raw.githubusercontent.com/ryndovaira-org/data_science_notes/main/diagrams/tasks_data_engineering.drawio.png\">"
   ]
  },
  {
   "cell_type": "markdown",
   "metadata": {
    "tags": []
   },
   "source": [
    "## Modeling\n",
    "\n",
    "<img src=\"https://raw.githubusercontent.com/ryndovaira-org/data_science_notes/main/diagrams/tasks_modeling.drawio.png\">"
   ]
  },
  {
   "cell_type": "markdown",
   "metadata": {
    "tags": []
   },
   "source": [
    "## Deployment\n",
    "\n",
    "<img src=\"https://raw.githubusercontent.com/ryndovaira-org/data_science_notes/main/diagrams/tasks_deployment.drawio.png\">"
   ]
  },
  {
   "cell_type": "markdown",
   "metadata": {
    "tags": []
   },
   "source": [
    "## Business analysis\n",
    "\n",
    "<img src=\"https://raw.githubusercontent.com/ryndovaira-org/data_science_notes/main/diagrams/tasks_business_analysis.drawio.png\">"
   ]
  },
  {
   "cell_type": "markdown",
   "metadata": {
    "tags": []
   },
   "source": [
    "## AI Infrastructure\n",
    "\n",
    "<img src=\"https://raw.githubusercontent.com/ryndovaira-org/data_science_notes/main/diagrams/tasks_ai_infrastructure.drawio.png\">"
   ]
  }
 ],
 "metadata": {
  "kernelspec": {
   "display_name": "Python [conda env:data-science-course] *",
   "language": "python",
   "name": "conda-env-data-science-course-py"
  },
  "language_info": {
   "codemirror_mode": {
    "name": "ipython",
    "version": 3
   },
   "file_extension": ".py",
   "mimetype": "text/x-python",
   "name": "python",
   "nbconvert_exporter": "python",
   "pygments_lexer": "ipython3",
   "version": "3.10.9"
  }
 },
 "nbformat": 4,
 "nbformat_minor": 4
}
