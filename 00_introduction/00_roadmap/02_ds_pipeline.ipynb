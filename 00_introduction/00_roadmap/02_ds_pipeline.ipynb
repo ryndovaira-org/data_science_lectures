{
 "cells": [
  {
   "cell_type": "markdown",
   "id": "26f0563d-e41d-45f1-9dfc-2984be50d568",
   "metadata": {},
   "source": [
    "# Buzz words"
   ]
  },
  {
   "cell_type": "markdown",
   "id": "85f4ff4b-9b26-4b6e-9c72-ebea3c20dec3",
   "metadata": {},
   "source": [
    "## Artificial intelligence\n",
    "- Свойство интеллектуальных систем выполнять творческие функции, которые традиционно считаются прерогативой человека.\n",
    "- Наука и технология создания интеллектуальных машин, особенно интеллектуальных компьютерных программ.\n",
    "- Существующие на сегодня интеллектуальные системы имеют очень узкие области применения. Например, программы, способные обыграть человека в шахматы, не могут отвечать на вопросы и т.д."
   ]
  },
  {
   "cell_type": "markdown",
   "id": "39003c70-5044-4963-8cf2-7d536b1c51f3",
   "metadata": {},
   "source": [
    "## Big Data\n",
    "- Обозначение структурированных и неструктурированных данных огромных объёмов и значительного многообразия.\n",
    "- Классическими источниками больших данных признаются интернет вещей и социальные медиа, считается также, что большие данные могут происходить из внутренней информации предприятий и организаций (генерируемой в информационных средах, но ранее не сохранявшейся и не анализировавшейся), из сфер медицины и биоинформатики, из астрономических наблюдений"
   ]
  },
  {
   "cell_type": "markdown",
   "id": "7c5d054d-e35c-4d56-b07c-0a3094847019",
   "metadata": {},
   "source": [
    "## Computer Science\n",
    "- Наука о методах и процессах сбора, хранения, обработки, передачи, анализа и оценки информации с применением компьютерных технологий, обеспечивающих возможность её использования для принятия решений.\n",
    "- Методы и средства интеллектуального анализа данных (Data Mining): алгоритмы и структуры данных, машинное обучение и другие разделы искусственного интеллекта (искусственные нейронные сети, генетические алгоритмы, deep learning).\n",
    "- Языки программирования (R, Python, Julia, Haskell).\n",
    "- Среды статистического анализа (R-Studio, MatLab, Jupyter Notebook)."
   ]
  },
  {
   "cell_type": "markdown",
   "id": "459809de-f24e-4b4c-ace3-117c702066a5",
   "metadata": {},
   "source": [
    "## Math\n",
    "- Статистика.\n",
    "- Теория вероятностей.\n",
    "- Линейная алгебра.\n",
    "- Дискретная математика.\n",
    "- ..."
   ]
  },
  {
   "cell_type": "markdown",
   "id": "29d9b2ea-9a60-412c-bf71-4356341ec592",
   "metadata": {},
   "source": [
    "## Domain/Business Expertise/Knowledge\n",
    "- Предметная область — часть реального мира, рассматриваемая в пределах данного контекста. Под контекстом здесь может пониматься, например, область исследования или область, которая является объектом некоторой деятельности.\n",
    "- Знание отраслевой или корпоративной специфики."
   ]
  },
  {
   "cell_type": "markdown",
   "id": "86c8ff29-305e-4aec-b133-10ec158d9b60",
   "metadata": {},
   "source": [
    "## Software\n",
    "- Программа или множество программ, используемых для управления компьютером."
   ]
  },
  {
   "cell_type": "markdown",
   "id": "28c95152-883c-4cba-8e1c-2c1898ac4e45",
   "metadata": {},
   "source": [
    "## Machine Learning\n",
    "- Класс методов искусственного интеллекта, характерной чертой которых является не прямое решение задачи, а обучение в процессе применения решений множества сходных задач.\n",
    "- Для построения таких методов используются средства математической статистики, численных методов, математического анализа, методов оптимизации, теории вероятностей, теории графов, различные техники работы с данными в цифровой форме."
   ]
  },
  {
   "cell_type": "markdown",
   "id": "460d957e-7f50-4999-abb7-c64f3fe349b7",
   "metadata": {},
   "source": [
    "## Data analysis\n",
    "- Область математики и информатики, занимающаяся построением и исследованием наиболее общих математических методов и вычислительных алгоритмов извлечения знаний из экспериментальных (в широком смысле) данных\n",
    "- Процесс исследования, фильтрации, преобразования и моделирования данных с целью извлечения полезной информации и принятия решений.\n",
    "- Анализ данных имеет множество аспектов и подходов, охватывает разные методы в различных областях науки и деятельности."
   ]
  },
  {
   "cell_type": "markdown",
   "id": "24a314dd-ae24-4aad-ae5b-5b8a708ff012",
   "metadata": {},
   "source": [
    "## Data Science\n",
    "- Раздел информатики, изучающий проблемы анализа, обработки и представления данных в цифровой форме. Объединяет методы по обработке данных в условиях больших объёмов и высокого уровня параллелизма, статистические методы, методы интеллектуального анализа данных и приложения искусственного интеллекта для работы с данными, а также методы проектирования и разработки баз данных.\n",
    "- Наука о получении (scraping, бд), обработке (очистка от дублей, удаление \"бракованных\" записей), анализе (визуализация, статистический анализ, какие выводы можно из этого сделать) и использовании (создание моделей для предсказания или анализа) данных (структурированных или не структурированных).\n",
    "\n",
    "<img src=\"../../diagrams/computer_science_vs_math_vs_domain_expertise.drawio.png\">"
   ]
  },
  {
   "cell_type": "markdown",
   "id": "0fbd96d0-8972-4371-b4e5-7fd954555b3b",
   "metadata": {},
   "source": [
    "## Artificial neural networks\n",
    "- Математическая модель, а также её программное или аппаратное воплощение, построенная по принципу организации и функционирования биологических нейронных сетей — сетей нервных клеток живого организма."
   ]
  },
  {
   "cell_type": "markdown",
   "id": "565fd3a6-3b19-41a1-86d8-cfc90ce903e9",
   "metadata": {},
   "source": [
    "## Deep learning / Deep Neural Networks\n",
    "- Совокупность методов машинного обучения, основанных на обучении представлениям, а не специализированным алгоритмам под конкретные задачи.\n",
    "\n",
    "<center><img src=\"../../images/ai_ml_dl_dnn.png\" alt=\"ai_ml_dl_dnn\" width=\"900\" height=\"900\"/></center>"
   ]
  },
  {
   "cell_type": "markdown",
   "id": "9a88866f-c275-4e3b-8585-cb1271fb2b68",
   "metadata": {
    "jp-MarkdownHeadingCollapsed": true,
    "tags": []
   },
   "source": [
    "# Data Science vs. Machine learning organizations\n",
    "\n",
    "- Data science organizations help a firm’s leaders make scientific or data-driven decisions to run their business more effectively. Team members collect data, analyze datasets, and suggest hypotheses and actions.\n",
    "- Machine learning organizations automate tasks to reduce costs or scale products. The output is the automation itself achieved by collecting data, training models, and deploying them.\n",
    "\n",
    "Although machine learning and data science organizations are different, companies often use the terms interchangeably. You\n",
    "can distinguish one from another by evaluating whether a given organization fits one of the descriptions above. Some companies\n",
    "have hybrid organizations that both make data science decisions and automate tasks. In this report, we will use the phrase “AI\n",
    "organization” when referring to DS, ML, or hybrid organizations."
   ]
  },
  {
   "cell_type": "markdown",
   "id": "2fe1e919-8c19-4f2b-ba20-7bc62a3a041c",
   "metadata": {
    "tags": []
   },
   "source": [
    "# Executive summary\n",
    "\n",
    "Developing an AI project development life cycle involves five distinct tasks:\n",
    "- Data engineering: People responsible for data engineering prepare data and transform data into formats that other team members can use.\n",
    "- Modeling: People assigned to modeling look for patterns in data that can help a company predict outcomes of various decisions, identify business risks and opportunities, or determine cause-and-effect relationships.\n",
    "- Deployment: People in charge of deployment take a stream of data, combine it with a model, and test the integration before putting the model into production.\n",
    "- Business analysis: Team members responsible for business analysis evaluate a deployed model’s performance and business value and adjust accordingly to maximize benefit or abandon unproductive models.\n",
    "- AI infrastructure: People who work in AI infrastructure build and maintain reliable, fast, secure, and scalable software systems to help people working in data engineering, modeling, deployment and business analysis.\n",
    "\n",
    "Six basic roles perform these tasks.\n",
    "No single individual has enough skills to carry out all tasks in AI project development. Thus, teams include individuals who focus\n",
    "on part of the cycle. Here is a visual representation of six technical roles and how they relate to various tasks:\n",
    "\n",
    "<img src=\"\">\n",
    "\n",
    "Each role requires specific skills and knowledge.\n",
    "People in charge of data engineering need strong coding and software\n",
    "engineering skills, ideally combined with machine learning skills to help them\n",
    "make good design decisions related to data. Most of the time, data engineering\n",
    "is done using database query languages such as SQL and object-oriented\n",
    "programming languages such as Python, C++, and Java. Big data tools such\n",
    "as Hadoop and Hive are also commonly used.\n",
    "Modeling is usually programmed in Python, R, Matlab, C++, Java, or another\n",
    "language. It requires strong foundations in mathematics, data science, and\n",
    "machine learning. Deep learning skills are required by some organizations,\n",
    "especially those focusing on computer vision, natural language processing,\n",
    "or speech recognition.\n",
    "\n",
    "People working in deployment need to write production code, possess\n",
    "strong back-end engineering skills (in Python, Java, C++, and the like), and\n",
    "understand cloud technologies (for example AWS, GCP, and Azure).\n",
    "Team members working on business analysis need an understanding of\n",
    "mathematics and data science for analytics, as well as strong communication\n",
    "skills and business acumen. They sometimes use programming languages such\n",
    "as R, Python, and Tableau, although many tasks can be carried out in a\n",
    "spreadsheet, PowerPoint or Keynote, or an A/B testing software.\n",
    "Working on AI infrastructure requires broad software engineering skills to\n",
    "write production code and understand cloud technologies."
   ]
  },
  {
   "cell_type": "markdown",
   "id": "1916a1b8-fb1a-4f5c-972d-6a6dbf92b3dd",
   "metadata": {},
   "source": [
    "# Overview of the AI project development life cycle\n",
    "\n",
    "AI organizations divide their work into data\n",
    "engineering, modeling, deployment, business analysis,\n",
    "and AI infrastructure.Together, these tasks make up the\n",
    "AI project development life cycle. Each task requires\n",
    "specific skills and can be the focus of multiple roles.\n",
    "You can find brief descriptions of the skills\n",
    "mentioned in this report in the appendix.\n",
    "We’ll discuss the differences between project\n",
    "development life cycles for machine learning (ML)\n",
    "and data science (DS). Then, we’ll look at the goals of\n",
    "each task, the skills needed to perform it, and which\n",
    "roles within an organization focus on which tasks.\n",
    "\n",
    "Here’s how the AI project development life cycle works.\n",
    "First, someone prepares data for modeling. Then someone\n",
    "trains a model on this data. Once that happens, the model\n",
    "is delivered to the customer. Team members then analyze\n",
    "the model to determine whether it brought value to the\n",
    "business and/or the user. If all goes well, the cycle will\n",
    "repeat itself with new data, models, and analyses. All the\n",
    "while, people working in AI infrastructure build software\n",
    "to improve the cycle’s efficiency.\n",
    "The ML project development life cycle\n",
    "An ML project starts with data about a service or product\n",
    "on which you fit models to be deployed into production.\n",
    "These models need to be monitored and their performance\n",
    "evaluated. The firm’s AI infrastructure supports these tasks.\n",
    "The DS project development life cycle\n",
    "A DS project starts with data on which you can fit a model\n",
    "that can help the company or its client make actionable\n",
    "business decisions about products or services. The AI\n",
    "infrastructure supports all tasks involved.\n",
    "Now let's consider the tasks in an AI project one by one.\n",
    "We will illustrate each task with concrete examples and\n",
    "identify the technical skills necessary to carry them out.\n",
    "\n",
    "<img src=\"../../diagrams/ai_project_development_life_cycle.drawio.png\">"
   ]
  },
  {
   "cell_type": "markdown",
   "id": "5f777160-3a22-4ce5-ad8e-9ba42d386736",
   "metadata": {
    "jp-MarkdownHeadingCollapsed": true,
    "tags": []
   },
   "source": [
    "# AI Infrastructure\n",
    "\n",
    "<img src=\"\">"
   ]
  },
  {
   "cell_type": "markdown",
   "id": "6280dc4c-13ef-46b3-988d-55b891773fee",
   "metadata": {
    "tags": []
   },
   "source": [
    "# AI Team roles\n",
    "\n",
    "<img src=\"../../diagrams/ai_team_roles.drawio.png\">"
   ]
  },
  {
   "cell_type": "markdown",
   "id": "c571ef6c-6be8-4d13-8361-66b919538446",
   "metadata": {
    "tags": []
   },
   "source": [
    "# Defining the Skills\n",
    "\n",
    "<img src=\"\">"
   ]
  },
  {
   "cell_type": "markdown",
   "id": "59d24d70-4b89-4f08-8568-b1a939d4e0b2",
   "metadata": {},
   "source": [
    "---\n",
    "\n",
    "**Источники:**\n",
    "\n",
    "[Data Science - A Complete Introduction](https://www.omnisci.com/learn/data-science)\n",
    "\n",
    "[Применение машинного обучения и Data Science в промышленности](https://vc.ru/ml/79368-primenenie-mashinnogo-obucheniya-i-data-science-v-promyshlennosti)\n",
    "\n",
    "[How and Why Your Enterprise Should Democratize Data Science](https://tdwi.org/Articles/2019/01/29/ADV-ALL-Democratizing-Data-Science.aspx?Page=1)\n",
    "\n",
    "[Кто такие дата-инженеры, и как ими становятся?](https://habr.com/ru/company/otus/blog/452670/)"
   ]
  }
 ],
 "metadata": {
  "kernelspec": {
   "display_name": "Python [conda env:data-science-course] *",
   "language": "python",
   "name": "conda-env-data-science-course-py"
  },
  "language_info": {
   "codemirror_mode": {
    "name": "ipython",
    "version": 3
   },
   "file_extension": ".py",
   "mimetype": "text/x-python",
   "name": "python",
   "nbconvert_exporter": "python",
   "pygments_lexer": "ipython3",
   "version": "3.10.9"
  }
 },
 "nbformat": 4,
 "nbformat_minor": 5
}
