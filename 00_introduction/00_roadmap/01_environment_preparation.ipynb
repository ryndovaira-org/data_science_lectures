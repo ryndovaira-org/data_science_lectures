{
 "cells": [
  {
   "cell_type": "markdown",
   "metadata": {},
   "source": [
    "# Environment preparation"
   ]
  },
  {
   "cell_type": "markdown",
   "metadata": {},
   "source": [
    "## Установка PyCharm"
   ]
  },
  {
   "cell_type": "markdown",
   "metadata": {},
   "source": [
    "1. Скачать и установить [PyCharm Community](https://www.jetbrains.com/ru-ru/pycharm/download).\n",
    "Отметить 64-bit launcher только, если имеется > 4Gb оперативной памяти (если не уверены, то не надо).\n",
    "\n",
    "1. Прочитать [инструкцию по началу работы PyCharm](https://py-charm.blogspot.com/2017/09/blog-post.html)"
   ]
  },
  {
   "cell_type": "markdown",
   "metadata": {},
   "source": [
    "## Установка Anaconda"
   ]
  },
  {
   "cell_type": "markdown",
   "metadata": {},
   "source": [
    "1. Открыть страницу [Anaconda Individual](https://www.anaconda.com/products/individual). \n",
    "\n",
    "1. Установить подходящий для имеющейся ОС дистрибутив.\n",
    "<center><img src=\"https://raw.githubusercontent.com/ryndovaira-org/data_science_notes/main/images/anaconda_installers.png\" alt=\"anaconda_installers\" width=1000 height=1000\"/></center>"
   ]
  },
  {
   "cell_type": "markdown",
   "metadata": {},
   "source": [
    "## Регистрация на GitHub\n",
    "\n",
    "1. Открыть [GitHub](https://github.com/) и зарегистрироваться (залогиниться, если аккаунт уже имеется).\n",
    "\n",
    "1. После успешной регистрации прислать свой **username** или **email** преподавателю в Telegram ([@ryndovairina](https://t.me/ryndovairina)) для получения доступа к лекционным материалам. **Ответ придет на почту в виде приглашения в репозиторий.**"
   ]
  },
  {
   "cell_type": "markdown",
   "metadata": {},
   "source": [
    "## Подготовка репозитория на GitHub для домашних заданий"
   ]
  },
  {
   "cell_type": "markdown",
   "metadata": {
    "jp-MarkdownHeadingCollapsed": true,
    "tags": []
   },
   "source": [
    "1. Зайти на сайт [GitHub](https://github.com/).\n",
    "\n",
    "1. В правом верхнем углу нажать на свою аватарку и выбрать **Your repositories**.\n",
    "<center><img src=\"https://raw.githubusercontent.com/ryndovaira-org/data_science_notes/main/images/github_menu.png\" alt=\"github_menu\"/></center>\n",
    "\n",
    "1. Нажать на **New**.\n",
    "<center><img src=\"https://raw.githubusercontent.com/ryndovaira-org/data_science_notes/main/images/github_your_repositories.png\" alt=\"github_your_repositories\"/></center>\n",
    "\n",
    "1. Выбрать название для репозитория, а также можно выбрать между `Private` или `Public` репозиторием (по желанию). Нажать **Create repository**.\n",
    "<center><img src=\"https://raw.githubusercontent.com/ryndovaira-org/data_science_notes/main/images/github_create_repo.png\" alt=\"github_create_repo\"/></center>\n",
    "\n",
    "1. На странице созданного репозитория скопировать его **HTTPS** (на картинке это: `https://github.com/ryndovaira/levelup_ds.git`).\n",
    "<center><img src=\"https://raw.githubusercontent.com/ryndovaira-org/data_science_notes/main/images/github_new_repo.png\" alt=\"github_new_repo\"/></center>\n",
    "\n",
    "1. Открыть **PyCharm**. В верхнем меню выбрать **Git -> Clone**.\n",
    "<center><img src=\"https://raw.githubusercontent.com/ryndovaira-org/data_science_notes/main/images/pycharm_from_git.png\" alt=\"pycharm_from_git\"/></center>\n",
    "\n",
    "1. Выбрать любую удобную директорию для проекта (**Directory**). Вставить в **URL** строку с **HTTPS** нового репозитория. Нажать **Clone**.\n",
    "<center><img src=\"https://raw.githubusercontent.com/ryndovaira-org/data_science_notes/main/images/pycharm_from_git_filled.png\" alt=\"pycharm_from_git_filled\"/></center>\n",
    "\n",
    "1. На вопрос от **PyCharm** о добавлении `main.py` ответить **Don't ask again** и **Cancel**. \n",
    "<center><img src=\"https://raw.githubusercontent.com/ryndovaira-org/data_science_notes/main/images/pycharm_add_main_py.png\" alt=\"pycharm_add_main_py\"/></center>\n",
    "\n",
    "1. Откроется файл по умолчанию `main.py`. Удалить файл `main.py`: **правой кнопкой мыши по файлу -> Delete... -> OK**.\n",
    "<center><img src=\"https://raw.githubusercontent.com/ryndovaira-org/data_science_notes/main/images/pycharm_main_py.png\" alt=\"pycharm_main_py\"/></center>\n",
    "\n",
    "1. В левом верхнем углу **File -> Settings... -> Project:<наименование репозитория> -> Python Interpreter**. Нажать на поле **`<No interpreter>`** (Тут может быть написано что-то другое, например: Python 3.8. Это не важно.).\n",
    "<center><img src=\"https://raw.githubusercontent.com/ryndovaira-org/data_science_notes/main/images/pycharm_python_interpreter_start.png\" alt=\"pycharm_python_interpreter_start\"/></center>\n",
    "\n",
    "1. Откроется список имеющихся интерптераторов. Нажать **+** для добавления нового.\n",
    "<center><img src=\"https://raw.githubusercontent.com/ryndovaira-org/data_science_notes/main/images/pycharm_python_interpreter_start_list.png\" alt=\"pycharm_python_interpreter_start_list\"/></center>\n",
    "\n",
    "1. Выбрать **Conda Environment -> New environment -> Make available to all projects -> OK**.\n",
    "<center><img src=\"https://raw.githubusercontent.com/ryndovaira-org/data_science_notes/main/images/pycharm_python_interpreter_conda.png\" alt=\"pycharm_python_interpreter_conda\"/></center>\n",
    "\n",
    "1. Выбрать созданную виртуальную среду в списке и нажать **OK**.\n",
    "<center><img src=\"https://raw.githubusercontent.com/ryndovaira-org/data_science_notes/main/images/pycharm_python_interpreter_conda_list.png\" alt=\"pycharm_python_interpreter_conda_list\"/></center>\n",
    "\n",
    "1. Виртуальная среда для проекта выбрана. Нажать **OK**.\n",
    "<center><img src=\"https://raw.githubusercontent.com/ryndovaira-org/data_science_notes/main/images/pycharm_python_interpreter_conda_choosen.png\" alt=\"pycharm_python_interpreter_conda_choosen\"/></center>"
   ]
  },
  {
   "cell_type": "markdown",
   "metadata": {},
   "source": [
    "## Клонирование репозитория с лекциями\n",
    "\n",
    "**ВНИМАНИЕ: ТОЛЬКО после подтверждения от преподавателя о добавлении прав! (приглашение придет на почту и его нужно принять)**\n",
    "\n",
    "1. Открыть **PyCharm**. \n",
    "1. В верхнем меню выбрать **Git -> Clone**. \n",
    "1. Выбрать любую удобную директорию для проекта (**Directory**). \n",
    "1. Вставить в **URL** строку с **HTTPS** лекционного репозитория. \n",
    "1. Нажать **Clone**.\n",
    "<center><img src=\"https://raw.githubusercontent.com/ryndovaira-org/data_science_notes/main/images/pycharm_from_git_filled.png\" alt=\"pycharm_from_git_filled\"/></center>"
   ]
  },
  {
   "cell_type": "markdown",
   "metadata": {},
   "source": [
    "## Настройка проекта с лекциями в PyCharm\n",
    "\n",
    "1. В левом верхнем углу **File -> Settings... -> Project:<наименование репозитория> -> Python Interpreter**. \n",
    "\n",
    "1. Нажать на поле **`<No interpreter>`** (Тут может быть написано что-то другое, например: Python 3.8. Это не важно.).\n",
    "<center><img src=\"https://raw.githubusercontent.com/ryndovaira-org/data_science_notes/main/images/pycharm_python_interpreter_start.png\" alt=\"pycharm_python_interpreter_start\"/></center>\n",
    "\n",
    "1. Выбрать виртуальную среду **Conda** в списке и нажать **OK**.\n",
    "<center><img src=\"https://raw.githubusercontent.com/ryndovaira-org/data_science_notes/main/images/pycharm_python_interpreter_conda_list.png\" alt=\"pycharm_python_interpreter_conda_list\"/></center>\n",
    "\n",
    "1. Виртуальная среда для проекта выбрана. Нажать **OK**.\n",
    "<center><img src=\"https://raw.githubusercontent.com/ryndovaira-org/data_science_notes/main/images/pycharm_python_interpreter_conda_choosen.png\" alt=\"pycharm_python_interpreter_conda_choosen\"/></center>"
   ]
  },
  {
   "cell_type": "markdown",
   "metadata": {},
   "source": [
    "## Установка JupyterLab\n",
    "\n",
    "1. Открыть **Anaconda Navigator**. Для этого в консоли выполнить команду:\n",
    "\n",
    "```bash\n",
    "anaconda-navigator\n",
    "```\n",
    "\n",
    "1. Сверху справа выбрать в **Applications on** новую виртуальную среду (созданную в PyCharm).\n",
    "<center><img src=\"https://raw.githubusercontent.com/ryndovaira-org/data_science_notes/main/images/navigator_choose_venv.png\" alt=\"navigator_choose_venv\"/></center>\n",
    "\n",
    "1. Установить пакет **JupyterLab** нажав на кнопку **Install**.\n",
    "<center><img src=\"https://raw.githubusercontent.com/ryndovaira-org/data_science_notes/main/images/navigator_jupyterlab_install.png\" alt=\"navigator_jupyterlab_install\"/></center>\n",
    "\n",
    "1. Проверить установился ли пакет **JupyterLab** можно нажав на кнопку **Launch**. В результате откроется окно браузера.\n",
    "<center><img src=\"https://raw.githubusercontent.com/ryndovaira-org/data_science_notes/main/images/navigator_jupyterlab_launch.png\" alt=\"navigator_jupyterlab_launch\"/></center>\n",
    "<center><img src=\"https://raw.githubusercontent.com/ryndovaira-org/data_science_notes/main/images/navigator_jupyterlab_launch.png\" alt=\"navigator_jupyterlab_launch\"/></center>"
   ]
  },
  {
   "cell_type": "markdown",
   "metadata": {},
   "source": [
    "## Установка пакета `nb_conda_kernels`\n",
    "\n",
    "1. Открыть PyCharm.\n",
    "\n",
    "1. Перейти в терминал (обычно вкладка `Terminal` находится внизу).\n",
    "\n",
    "1. Ввести команду `conda install -c conda-forge nb_conda_kernels -y` и нажать Enter.\n",
    "\n",
    "1. После этого обязательно перезапустить JupyterLab (File-Shut Down), если был открыт.\n",
    "\n",
    "\n",
    "1. Запомнить, что в JupyterLab нужно будет выбрать недавно созданную среду (на картинке пример, название может быть любое). \n",
    "\n",
    "<img src=\"https://raw.githubusercontent.com/ryndovaira-org/data_science_notes/main/images/jupyter_env.png\" alt=\"jupyter_env\"/>"
   ]
  },
  {
   "cell_type": "markdown",
   "metadata": {},
   "source": [
    "## Синтаксис Markdown\n",
    "\n",
    "Самостоятельно прочитать про базовый синтаксис [Markdown](https://www.markdownguide.org/basic-syntax/)."
   ]
  },
  {
   "cell_type": "markdown",
   "metadata": {},
   "source": [
    "## Проверка работоспособности окружения\n",
    "\n",
    "**ВНИМАНИЕ:** запрещено вносить изменения в лекционные материалы.\n",
    "\n",
    "1. Открыть лекционные материалы в **JupyterLab** перемещаясь по каталогу слева.\n",
    "<center><img src=\"https://raw.githubusercontent.com/ryndovaira-org/data_science_notes/main/images/jupyterlab_levelup_dir.png\" alt=\"jupyterlab_levelup_dir\"/></center>\n",
    "\n",
    "1. Для проверки корректности отображения можно открыть файл с данной инструкцией **0_preparation -> instructions -> preparation.inpynb**."
   ]
  },
  {
   "cell_type": "markdown",
   "metadata": {},
   "source": [
    "## Установка пакетов"
   ]
  },
  {
   "cell_type": "code",
   "execution_count": 1,
   "metadata": {},
   "outputs": [
    {
     "name": "stdout",
     "output_type": "stream",
     "text": [
      "\n",
      "CondaFileIOError: '../../requirements.txt'. [Errno 2] No such file or directory: '../../requirements.txt'\n",
      "\n"
     ]
    }
   ],
   "source": [
    "!conda install -c anaconda -c conda-forge --file ../../requirements.txt -y"
   ]
  }
 ],
 "metadata": {
  "kernelspec": {
   "display_name": "Python [conda env:data-science-course] *",
   "language": "python",
   "name": "conda-env-data-science-course-py"
  },
  "language_info": {
   "codemirror_mode": {
    "name": "ipython",
    "version": 3
   },
   "file_extension": ".py",
   "mimetype": "text/x-python",
   "name": "python",
   "nbconvert_exporter": "python",
   "pygments_lexer": "ipython3",
   "version": "3.10.9"
  }
 },
 "nbformat": 4,
 "nbformat_minor": 4
}
