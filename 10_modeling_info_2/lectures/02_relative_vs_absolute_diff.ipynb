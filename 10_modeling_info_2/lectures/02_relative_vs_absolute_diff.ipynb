{
 "cells": [
  {
   "cell_type": "markdown",
   "metadata": {},
   "source": [
    "# Относительное и абсолютное изменение качества модели"
   ]
  },
  {
   "cell_type": "markdown",
   "metadata": {},
   "source": [
    "---\n",
    "\n",
    "**Источники:**\n",
    "\n",
    "[Relative change and difference](https://en.wikipedia.org/wiki/Relative_change_and_difference)\n",
    "\n",
    "[Absolute difference](https://en.wikipedia.org/wiki/Absolute_difference)\n",
    "\n",
    "\n",
    "---"
   ]
  },
  {
   "cell_type": "markdown",
   "metadata": {},
   "source": [
    "## Относительное изменение"
   ]
  },
  {
   "cell_type": "markdown",
   "metadata": {
    "pycharm": {
     "name": "#%% md\n"
    }
   },
   "source": [
    "Если смогли улучшить AUC **с 0.8 до 0.9**, то это соответствуют относительному улучшению в **12.5%**.\n",
    "\n",
    "$\\large relative\\space change (x_{after}, x_{before}) = \\cfrac{x_{after} - x_{before}}{x_{before}} \\times 100 = \\cfrac{0.9 - 0.8}{0.8} \\times 100 = 12.5\\%$\n",
    "\n",
    "В то же время соответствующие индексы Джини были улучшены **с 0.6 до 0.8**, то есть на **33.3%** - относительное улучшение повысилось почти в 3 раза!\n",
    "\n",
    "$\\large relative\\space change (x_{after}, x_{before}) = \\cfrac{0.8 - 0.6}{0.6} \\times 100 = 33.3\\%$"
   ]
  },
  {
   "cell_type": "markdown",
   "metadata": {},
   "source": [
    "## Абсолютное изменение"
   ]
  },
  {
   "cell_type": "markdown",
   "metadata": {},
   "source": [
    "Если смогли улучшить AUC с **0.8 до 0.9**, то это соответствуют абсолютному улучшению в **10.0%**.\n",
    "\n",
    "$\\large abs\\space change (x_{after}, x_{before}) = |x_{after} - x_{before}| \\times 100 = |0.9 - 0.8| \\times 100 = 10.0\\%$\n",
    "\n",
    "В то же время соответствующие индексы Джини были улучшены **с 0.6 до 0.8**, то есть на **20.0%** - абсолютное улучшение повысилось ровно в 2 раза!\n",
    "\n",
    "$\\large abs\\space change (x_{after}, x_{before}) = |0.8 - 0.6| \\times 100 = 20.0\\%$"
   ]
  }
 ],
 "metadata": {
  "kernelspec": {
   "display_name": "Python 3",
   "language": "python",
   "name": "python3"
  },
  "language_info": {
   "codemirror_mode": {
    "name": "ipython",
    "version": 3
   },
   "file_extension": ".py",
   "mimetype": "text/x-python",
   "name": "python",
   "nbconvert_exporter": "python",
   "pygments_lexer": "ipython3",
   "version": "3.8.3"
  }
 },
 "nbformat": 4,
 "nbformat_minor": 4
}
