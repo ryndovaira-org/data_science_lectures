{
 "cells": [
  {
   "cell_type": "markdown",
   "metadata": {
    "collapsed": true,
    "pycharm": {
     "name": "#%% md\n"
    }
   },
   "source": [
    "[Relative change and difference](https://en.wikipedia.org/wiki/Relative_change_and_difference)\n",
    "\n",
    "[Absolute difference](https://en.wikipedia.org/wiki/Absolute_difference)\n",
    "\n",
    "Относительное и абсолютное улучшение модели.\n",
    "\n",
    "\n",
    "Если смогли улучшить AUC с  0.8 до 0.9, то это соответствуют относительному улучшению в 12.5%.\n",
    "\n",
    "$relative\\space change (x_{after}, x_{before}) = \\frac{x_{after} - x_{before}}{x_{before}} \\times 100 = \\frac{0.9 - 0.8}{0.8} \\times 100 = 12.5\\%$\n",
    "\n",
    "В то же время соответствующие индексы Джини были улучшены с 0.6 до 0.8, то есть на 33.3% - относительное улучшение повысилось почти в три раза!\n",
    "\n",
    "$relative\\space change (x_{after}, x_{before}) = \\frac{0.8 - 0.6}{0.6} \\times 100 = 33.3\\%$"
   ]
  }
 ],
 "metadata": {
  "kernelspec": {
   "display_name": "Python 3",
   "language": "python",
   "name": "python3"
  },
  "language_info": {
   "codemirror_mode": {
    "name": "ipython",
    "version": 2
   },
   "file_extension": ".py",
   "mimetype": "text/x-python",
   "name": "python",
   "nbconvert_exporter": "python",
   "pygments_lexer": "ipython2",
   "version": "2.7.6"
  }
 },
 "nbformat": 4,
 "nbformat_minor": 0
}